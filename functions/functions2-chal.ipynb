{
 "cells": [
  {
   "cell_type": "markdown",
   "metadata": {},
   "source": [
    "# Challenges funzioni -\n",
    "\n",
    "## [Scarica zip esercizi](../_static/generated/functions.zip)\n",
    "\n",
    "[Naviga file online](https://github.com/DavidLeoni/softpython-it/tree/master/functions)\n",
    "\n",
    "Proponiamo ora degli esercizi senza soluzione, accetti la sfida?"
   ]
  },
  {
   "cell_type": "markdown",
   "metadata": {},
   "source": [
    "## Sfida - I numeri di Pacman\n",
    "\n",
    "✪ Requisiti: funzioni\n",
    "\n",
    "Pacman è a lezione di matematica, e gli viene spiegato che per ottenere  il quadrato di un numero bisogna moltiplicarlo per se stesso. Aiutalo a imparare questo concetto scrivendo una funzione che permetterà al \n",
    "nostro famelico amico di ottenere il quadrato di innumerevoli numeri. Però ha imparato solo a fare moltiplicazioni di numeri inferiori a 20 e  NON E' quindi capace di moltiplicare numeri sopra il 20, per i quali risponderà lo stesso numero.\n",
    "\n",
    "* **NON** scrivere `print` nella funzione!\n",
    "\n",
    "Esempio 1:\n",
    "\n",
    "```python\n",
    ">>> y = numnum(10)\n",
    ">>> y\n",
    "100\n",
    "```\n",
    "\n",
    "Esempio 2:\n",
    "\n",
    "```python\n",
    ">>> z = numnum(33)\n",
    ">>> z\n",
    "33\n",
    "```\n"
   ]
  },
  {
   "cell_type": "code",
   "execution_count": 1,
   "metadata": {},
   "outputs": [
    {
     "name": "stdout",
     "output_type": "stream",
     "text": [
      "9\n",
      "100\n",
      "33\n"
     ]
    }
   ],
   "source": [
    "\n",
    "def numnum(num):\n",
    "    # sostituisci pass (che non fa niente) con il codice della funzione\n",
    "    pass\n",
    "    \n",
    "    \n",
    "    \n",
    "    \n",
    "# NON TOCCARE, queste linee devono funzionare\n",
    "x = numnum(3)       # Deve RITORNARE 9\n",
    "print(x)\n",
    "\n",
    "y = numnum(10)      # Deve RITORNARE 100\n",
    "print(y)\n",
    "\n",
    "z = numnum(33)      # Deve RITORNARE 33 \n",
    "print(z)"
   ]
  },
  {
   "cell_type": "markdown",
   "metadata": {},
   "source": [
    "## Sfida - Pacman e i bulli\n",
    "\n",
    "✪✪ Requisiti: funzioni, stringhe, for, if\n",
    "\n",
    "Uscito da scuola il nostro eroe dei labirinti incontra un gruppo di ragazzini che per prenderlo in giro iniziano a cantilenargli il suo iconico verso,\n",
    "storpiandolo:\n",
    "\n",
    "INVECE di `\"waka waka waka waka waka\"`\n",
    "\n",
    "i bulli gli cantano `\"waekai waekai waekai waekai\"`\n",
    "\n",
    "ed altre storpiature simili ottenute AGGIUNGENDO lettere al verso normale.\n",
    "\n",
    "I bulli non aggiungono mai lettere corrette. Perchè sono bulli.\n",
    "\n",
    "Aiuta PacMan scrivendo una funzione `nobulli` che pulisca dalle storpiature i versi dei bulli.\n",
    "\n",
    "* **NON** scrivere `print` nella funzione!\n",
    "\n",
    "Esempio:\n",
    "\n",
    "```python\n",
    ">>> bullo1 = \"waekai waekai waekai waekai\"\n",
    ">>> res1 = nobulli(bullo1) \n",
    ">>> print(res1)\n",
    "waka waka waka waka\n",
    "```\n",
    "\n",
    "1. scrivi una prima versione `nobulli(stringa)` che assume che i caratteri desiderati da mantenere siano sempre 'w','a','k','a'\n",
    "2. scrivi una seconda versione `nobulli2(stringa, mantieni)` che prende anche in ingresso una stringa coi caratteri da mantenere"
   ]
  },
  {
   "cell_type": "code",
   "execution_count": 2,
   "metadata": {},
   "outputs": [
    {
     "name": "stdout",
     "output_type": "stream",
     "text": [
      "waka waka waka waka\n",
      "waka waka waka waka waka waka\n",
      "waka waka waka\n"
     ]
    }
   ],
   "source": [
    "# scrivi la funzione\n",
    "\n",
    "\n",
    "\n",
    "# NON TOCCARE, queste linee devono funzionare\n",
    "bullo1 = \"waekai waekai waekai waekai\"\n",
    "bullo2 = \"bwaka rwaka swaka twaka zwaka mmmwatka\"\n",
    "bullo3 = \"eweaekea zwxarkma qwoagkpa\"\n",
    "res1 = nobulli(bullo1)   # Deve RITORNARE il verso pulito \"waka waka waka waka\"\n",
    "print(res1)\n",
    "res2 = nobulli(bullo2)   # Deve RITORNARE il verso pulito \"waka waka waka waka waka waka\"\n",
    "print(res2)\n",
    "res3 = nobulli(bullo3)   # Deve RITORNARE il verso pulito \"waka waka waka\"\n",
    "print(res3)"
   ]
  },
  {
   "cell_type": "markdown",
   "metadata": {},
   "source": [
    "## I biscotti danesi  \n",
    "\n",
    "✪✪ Tornato a casa, per consolarsi dalle offese, PacMan si butta su una scatola \n",
    "di biscotti (di quelle con la confezione di latta rotonda).\n",
    "\n",
    "Nella scatola ci sono 8 diversi tipi di biscotti e dopo averne mangiati un po'\n",
    "si accorge con orrore che ha lasciato che rimanesse un numero dispari di biscotti\n",
    "per alcune tipologie.\n",
    "\n",
    "Ovviamente l'offesa va sanata:  scrivi una funzione `mangia` che data una lista la **MODIFICA** per  mangiare (e quindi togliere) un biscotto di tutti i tipi rimasti dispari.\n",
    "\n",
    "* **NON** scrivere `return` nè `print` nella funzione!\n",
    "\n",
    "Esempio:"
   ]
  },
  {
   "cell_type": "markdown",
   "metadata": {},
   "source": [
    "\n",
    "```python\n",
    ">>> scatola = [2, 5, 3, 8, 6, 24, 5, 3, 9] \n",
    ">>> mangia(scatola)\n",
    ">>> print(scatola)\n",
    "[2, 4, 2, 8, 6, 24, 4, 2, 8] \n",
    "```"
   ]
  },
  {
   "cell_type": "code",
   "execution_count": 3,
   "metadata": {},
   "outputs": [
    {
     "name": "stdout",
     "output_type": "stream",
     "text": [
      "[2, 2, 2, 2, 2]\n",
      "[0, 2, 4, 6, 8]\n",
      "[18, 2, 14, 0, 10, 8, 2, 16, 8, 6, 12, 10, 18, 16, 6, 4, 4, 12, 20, 14]\n",
      "None\n"
     ]
    }
   ],
   "source": [
    "# scrivi la funzione\n",
    "\n",
    "\n",
    "\n",
    "\n",
    "# NON TOCCARE, queste linee devono funzionare\n",
    "scatola1 = [3, 3, 3, 3, 3]\n",
    "scatola2 = [1, 3, 5, 7, 9]\n",
    "scatola3 = [19, 3, 14, 1, 10, 9, 2, 16, 8, 7, 13, 11, 18, 17, 6, 5, 4, 12, 20, 15]\n",
    "\n",
    "mangia(scatola1)  # deve MODIFICARE scatola1\n",
    "mangia(scatola2)\n",
    "mangia(scatola3)\n",
    "\n",
    "print(scatola1) # Deve stampare la lista [2, 2, 2, 2, 2]\n",
    "print(scatola2) # Deve stampare la lista [0, 2, 4, 6, 8]\n",
    "print(scatola3) # Deve stampare la lista [18, 2, 14, 0, 10, 8, 2, 16, 8, 6, 12, 10, 18, 16, 6, 4, 4, 12, 20, 14]\n",
    "\n",
    "\n",
    "print(mangia([2,4,5,7])) # DEVE stampare None. Perchè ?"
   ]
  },
  {
   "cell_type": "code",
   "execution_count": 5,
   "metadata": {
    "nbsphinx": "hidden"
   },
   "outputs": [],
   "source": []
  }
 ],
 "metadata": {
  "celltoolbar": "Edit Metadata",
  "kernelspec": {
   "display_name": "Python 3",
   "language": "python",
   "name": "python3"
  },
  "language_info": {
   "codemirror_mode": {
    "name": "ipython",
    "version": 3
   },
   "file_extension": ".py",
   "mimetype": "text/x-python",
   "name": "python",
   "nbconvert_exporter": "python",
   "pygments_lexer": "ipython3",
   "version": "3.7.10"
  },
  "toc": {
   "base_numbering": 1,
   "nav_menu": {},
   "number_sections": false,
   "sideBar": true,
   "skip_h1_title": false,
   "title_cell": "Table of Contents",
   "title_sidebar": "Contents",
   "toc_cell": false,
   "toc_position": {},
   "toc_section_display": true,
   "toc_window_display": true
  }
 },
 "nbformat": 4,
 "nbformat_minor": 2
}
