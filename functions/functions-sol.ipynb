{
 "cells": [
  {
   "cell_type": "markdown",
   "metadata": {},
   "source": [
    "# Funzioni - soluzioni\n",
    "\n",
    "## [Scarica zip esercizi](../_static/generated/functions.zip)\n",
    "\n",
    "[Naviga file online](https://github.com/DavidLeoni/softpython-it/tree/master/functions)\n",
    "\n",
    "## Introduzione\n",
    "\n",
    "Una funzione prende dei parametri e li usa per produrre o riportare qualche risultato.\n",
    "\n",
    "<div class=\"alert alert-warning\">\n",
    "\n",
    "**ATTENZIONE**\n",
    "\n",
    "**Questi esercizi sulle funzioni sono integrativi a quelli già indicati nella** [pagina riferimenti](https://it.softpython.org/references.html), in particolare vedere quelli qui sotto.\n",
    "\n",
    "</div>\n",
    "\n",
    "**Riferimenti**\n",
    "\n",
    "- [Pensare in Python, Capitolo 3, Funzioni](https://davidleoni.github.io/ThinkPythonItalian/html/thinkpython2004.html)\n",
    "- [Pensare in Python, Capitolo 6, Funzioni produttive](https://davidleoni.github.io/ThinkPythonItalian/html/thinkpython2007.html) puoi fare tutto saltando la parte 6.5 sulla ricorsione.\n",
    "    **NOTA**: nel libro viene usato il termine strano 'funzioni produttive' per quelle funzioni che ritornano un valore, ed il termine ancora più strano 'funzioni vuote' per funzioni che non ritornano nulla ma fanno qualche effetto tipo stampa a video: ignora e dimentica questi termini !  \n",
    "\n",
    "- [Nicola Cassetta, Lezione 4, Funzioni](http://ncassetta.altervista.org/Tutorial_Python/Lezione_04.html)\n"
   ]
  },
  {
   "cell_type": "markdown",
   "metadata": {},
   "source": [
    "## Che fare\n",
    "\n",
    "- scompatta lo zip in una cartella, dovresti ottenere qualcosa del genere: \n",
    "\n",
    "```\n",
    "functions\n",
    "    functions.ipynb\n",
    "    functions-sol.ipynb\n",
    "    jupman.py\n",
    "```\n",
    "\n",
    "<div class=\"alert alert-warning\">\n",
    "\n",
    "**ATTENZIONE**: Per essere visualizzato correttamente, il file del notebook DEVE essere nella cartella szippata.\n",
    "</div>\n",
    "\n",
    "- apri il Jupyter Notebook da quella cartella. Due cose dovrebbero aprirsi, prima una console e poi un browser. Il browser dovrebbe mostrare una lista di file: naviga la lista e apri il notebook `functions.ipynb`\n",
    "- Prosegui leggendo il file degli esercizi, ogni tanto al suo interno troverai delle scritte **ESERCIZIO**, che ti chiederanno di scrivere dei comandi Python nelle celle successive. Gli esercizi sono graduati per difficoltà, da una stellina ✪ a quattro ✪✪✪✪\n",
    "\n",
    "\n",
    "Scorciatoie da tastiera:\n",
    "\n",
    "* Per eseguire il codice Python dentro una cella di Jupyter, premi `Control+Invio`\n",
    "* Per eseguire il codice Python dentro una cella di Jupyter E selezionare la cella seguente, premi `Shift+Invio`\n",
    "* Per eseguire il codice Python dentro una cella di Jupyter E creare una nuova cella subito dopo, premi `Alt+Invio`\n",
    "* Se per caso il Notebook sembra inchiodato, prova a selezionare `Kernel -> Restart`\n",
    "\n"
   ]
  },
  {
   "cell_type": "markdown",
   "metadata": {},
   "source": [
    "**DOMANDE**: Per ciascuna delle espressioni seguenti, prova a indovinare che risultato produce (o se da errore)\n",
    "\n",
    "\n",
    "1.  ```python\n",
    "    def f():\n",
    "    print('car')\n",
    "    f()\n",
    "    ```\n",
    "1.  ```python\n",
    "    def f():\n",
    "        print('car')\n",
    "    f()\n",
    "    ```\n",
    "1.  ```python\n",
    "    def f():\n",
    "    return 3\n",
    "    f()\n",
    "    ```\n",
    "1.  ```python\n",
    "    def f():\n",
    "        return 3\n",
    "    f()\n",
    "    ```\n",
    "1.  ```python\n",
    "    def f()\n",
    "        return 3\n",
    "    f()\n",
    "    ```\n",
    "1.  ```python\n",
    "    def f():\n",
    "        return 3\n",
    "    f()f()\n",
    "    ```\n",
    "1.  ```python\n",
    "    def f():\n",
    "        return 3\n",
    "    f()*f()\n",
    "    ```\n",
    "1.  ```python\n",
    "    def f():\n",
    "        pass\n",
    "    ```\n",
    "1.  ```python\n",
    "    def f(x):\n",
    "        return x\n",
    "    f()\n",
    "    ```    \n",
    "1.  ```python\n",
    "    def f(x):\n",
    "        return x\n",
    "    f(5)\n",
    "    ```\n",
    "1.  ```python\n",
    "    def f():\n",
    "        print('fire')        \n",
    "    x = f()\n",
    "    print(x)\n",
    "    ```\n",
    "1.  ```python\n",
    "    def f():\n",
    "        return(print('fire'))\n",
    "    print(f())\n",
    "    ```\n",
    "1.  ```python\n",
    "    def f(x):\n",
    "        return 'x'\n",
    "    print(f(5))\n",
    "    ```\n",
    "1.  ```python\n",
    "    def f(x):\n",
    "        return 'x'\n",
    "    print(f(5))\n",
    "    ```\n",
    "1.  ```python\n",
    "    def etc():\n",
    "        print('etc...')\n",
    "        return etc()\n",
    "    etc()\n",
    "    ```\n",
    "1.  ```python\n",
    "    def per(la):\n",
    "        la.append('è')\n",
    "    per(['c','h'])\n",
    "    print(la)\n",
    "    ```\n",
    "1.  ```python\n",
    "    def zeb(la):\n",
    "        la.append('d')\n",
    "    lista = ['a','b','c']\n",
    "    zeb(lista)\n",
    "    print(lista)\n",
    "    ```\n",
    "1.  ```python\n",
    "    def gu():\n",
    "        print('GU')\n",
    "        ru()\n",
    "    def ru():\n",
    "        print('RU')\n",
    "        gu()        \n",
    "    gu()\n",
    "    ```    "
   ]
  },
  {
   "cell_type": "markdown",
   "metadata": {},
   "source": [
    "\n",
    "### somma\n",
    "\n",
    "✪ Scrivere una funzione `somma` che dati due numeri x e y RITORNA la loro somma"
   ]
  },
  {
   "cell_type": "raw",
   "id": "moving-amendment",
   "metadata": {
    "format": "text/html"
   },
   "source": [
    "<a  class=\"jupman-sol jupman-sol-toggler\" \n",
    " onclick=\"jupman.toggleSolution(this);\" \n",
    " data-jupman-show=\"Mostra soluzione\" data-jupman-hide=\"Nascondi\">Mostra soluzione</a><div class=\"jupman-sol jupman-sol-code\" style=\"display:none\">  "
   ]
  },
  {
   "cell_type": "code",
   "execution_count": 1,
   "metadata": {},
   "outputs": [],
   "source": [
    "# scrivi qui\n",
    "\n",
    "def somma(x,y):\n",
    "    return x + y\n"
   ]
  },
  {
   "cell_type": "raw",
   "id": "owned-liver",
   "metadata": {
    "format": "text/html"
   },
   "source": [
    "</div>"
   ]
  },
  {
   "cell_type": "code",
   "execution_count": 1,
   "metadata": {},
   "outputs": [],
   "source": [
    "# scrivi qui\n",
    "\n"
   ]
  },
  {
   "cell_type": "code",
   "execution_count": 2,
   "metadata": {},
   "outputs": [
    {
     "name": "stdout",
     "output_type": "stream",
     "text": [
      "9\n"
     ]
    }
   ],
   "source": [
    "s = somma(3,6)\n",
    "print(s)"
   ]
  },
  {
   "cell_type": "code",
   "execution_count": 3,
   "metadata": {},
   "outputs": [
    {
     "name": "stdout",
     "output_type": "stream",
     "text": [
      "2\n"
     ]
    }
   ],
   "source": [
    "s = somma(-1,3)\n",
    "print(s)"
   ]
  },
  {
   "cell_type": "markdown",
   "metadata": {},
   "source": [
    "### comparap\n",
    "\n",
    "✪ Scrivere una funzione `comparap` che dati due numeri `x` e `y`, STAMPA  `x è maggiore di y`, `x è minore di y` o `x è uguale a y`\n",
    " \n",
    "**NOTA**: nella stampa, mettere i numeri veri.  Per es `comparap(10,5)` dovrebbe stampare:\n",
    "\n",
    "    10 è maggiore di 5\n",
    "\n",
    "**SUGGERIMENTO**: per stampare numeri e testo, usare le virgole nella `print`:\n",
    "\n",
    "```python\n",
    "print(x, \" è maggiore di \")\n",
    "```"
   ]
  },
  {
   "cell_type": "raw",
   "id": "comparable-providence",
   "metadata": {
    "format": "text/html"
   },
   "source": [
    "<a  class=\"jupman-sol jupman-sol-toggler\" \n",
    " onclick=\"jupman.toggleSolution(this);\" \n",
    " data-jupman-show=\"Mostra soluzione\" data-jupman-hide=\"Nascondi\">Mostra soluzione</a><div class=\"jupman-sol jupman-sol-code\" style=\"display:none\">  "
   ]
  },
  {
   "cell_type": "code",
   "execution_count": 4,
   "metadata": {},
   "outputs": [],
   "source": [
    "# scrivi qui\n",
    "def comparap(x,y):\n",
    "    if x > y:\n",
    "        print(x, \" è maggiore di \", y)\n",
    "    elif x < y:\n",
    "        print(x, \" è minore di \", y)\n",
    "    else:\n",
    "        print(x, \" è uguale a \", y)"
   ]
  },
  {
   "cell_type": "raw",
   "id": "accomplished-integer",
   "metadata": {
    "format": "text/html"
   },
   "source": [
    "</div>"
   ]
  },
  {
   "cell_type": "code",
   "execution_count": 4,
   "metadata": {},
   "outputs": [],
   "source": [
    "# scrivi qui\n",
    "\n"
   ]
  },
  {
   "cell_type": "code",
   "execution_count": 5,
   "metadata": {},
   "outputs": [
    {
     "name": "stdout",
     "output_type": "stream",
     "text": [
      "10  è maggiore di  5\n"
     ]
    }
   ],
   "source": [
    "comparap(10,5)"
   ]
  },
  {
   "cell_type": "code",
   "execution_count": 6,
   "metadata": {},
   "outputs": [
    {
     "name": "stdout",
     "output_type": "stream",
     "text": [
      "3  è minore di  8\n"
     ]
    }
   ],
   "source": [
    "comparap(3,8)"
   ]
  },
  {
   "cell_type": "code",
   "execution_count": 7,
   "metadata": {},
   "outputs": [
    {
     "name": "stdout",
     "output_type": "stream",
     "text": [
      "3  è uguale a  3\n"
     ]
    }
   ],
   "source": [
    "comparap(3,3)"
   ]
  },
  {
   "cell_type": "markdown",
   "metadata": {},
   "source": [
    "### comparar\n",
    "\n",
    "✪ Scrivere una funzione `comparar` che dati due numeri `x` e `y`, RITORNA la STRINGA  `'>'` se `x` è maggiore di `y`, la STRINGA `'<'` se `x` è minore di `y` oppure la STRINGA `'=='` se `x` è uguale a `y`\n",
    " \n"
   ]
  },
  {
   "cell_type": "raw",
   "id": "chubby-locking",
   "metadata": {
    "format": "text/html"
   },
   "source": [
    "<a  class=\"jupman-sol jupman-sol-toggler\" \n",
    " onclick=\"jupman.toggleSolution(this);\" \n",
    " data-jupman-show=\"Mostra soluzione\" data-jupman-hide=\"Nascondi\">Mostra soluzione</a><div class=\"jupman-sol jupman-sol-code\" style=\"display:none\">  "
   ]
  },
  {
   "cell_type": "code",
   "execution_count": 8,
   "metadata": {},
   "outputs": [],
   "source": [
    "# scrivi qui\n",
    "def comparar(x,y):\n",
    "    if x > y:\n",
    "        return '>'\n",
    "    elif x < y:\n",
    "        return '<'\n",
    "    else:\n",
    "        return '=='"
   ]
  },
  {
   "cell_type": "raw",
   "id": "cognitive-apparatus",
   "metadata": {
    "format": "text/html"
   },
   "source": [
    "</div>"
   ]
  },
  {
   "cell_type": "code",
   "execution_count": 8,
   "metadata": {},
   "outputs": [],
   "source": [
    "# scrivi qui\n",
    "\n"
   ]
  },
  {
   "cell_type": "code",
   "execution_count": 9,
   "metadata": {},
   "outputs": [
    {
     "name": "stdout",
     "output_type": "stream",
     "text": [
      ">\n"
     ]
    }
   ],
   "source": [
    "c = comparar(10,5)\n",
    "print(c)"
   ]
  },
  {
   "cell_type": "code",
   "execution_count": 10,
   "metadata": {},
   "outputs": [
    {
     "name": "stdout",
     "output_type": "stream",
     "text": [
      "<\n"
     ]
    }
   ],
   "source": [
    "c = comparar(3,7)\n",
    "print(c)"
   ]
  },
  {
   "cell_type": "code",
   "execution_count": 11,
   "metadata": {},
   "outputs": [
    {
     "name": "stdout",
     "output_type": "stream",
     "text": [
      "==\n"
     ]
    }
   ],
   "source": [
    "c = comparar(3,3)\n",
    "print(c)"
   ]
  },
  {
   "cell_type": "markdown",
   "metadata": {},
   "source": [
    "### pari\n",
    "\n",
    "✪ Scrivere una funzione `pari` che dato un numero `x` RITORNA `True` se il numero `x` in ingresso è pari, altrimenti ritorna `False`\n",
    "\n",
    "**SUGGERIMENTO**: un numero è pari quando il resto della divisione per due è zero. Per ottenere il resto della divisione, scrivere `x % 2`. "
   ]
  },
  {
   "cell_type": "code",
   "execution_count": 12,
   "metadata": {},
   "outputs": [
    {
     "data": {
      "text/plain": [
       "0"
      ]
     },
     "execution_count": 12,
     "metadata": {},
     "output_type": "execute_result"
    }
   ],
   "source": [
    "# Esempio:\n",
    "2 % 2"
   ]
  },
  {
   "cell_type": "code",
   "execution_count": 13,
   "metadata": {},
   "outputs": [
    {
     "data": {
      "text/plain": [
       "1"
      ]
     },
     "execution_count": 13,
     "metadata": {},
     "output_type": "execute_result"
    }
   ],
   "source": [
    "3 % 2"
   ]
  },
  {
   "cell_type": "code",
   "execution_count": 14,
   "metadata": {},
   "outputs": [
    {
     "data": {
      "text/plain": [
       "0"
      ]
     },
     "execution_count": 14,
     "metadata": {},
     "output_type": "execute_result"
    }
   ],
   "source": [
    "4 % 2"
   ]
  },
  {
   "cell_type": "code",
   "execution_count": 15,
   "metadata": {},
   "outputs": [
    {
     "data": {
      "text/plain": [
       "1"
      ]
     },
     "execution_count": 15,
     "metadata": {},
     "output_type": "execute_result"
    }
   ],
   "source": [
    "5 % 2"
   ]
  },
  {
   "cell_type": "raw",
   "id": "meaning-clerk",
   "metadata": {
    "format": "text/html"
   },
   "source": [
    "<a  class=\"jupman-sol jupman-sol-toggler\" \n",
    " onclick=\"jupman.toggleSolution(this);\" \n",
    " data-jupman-show=\"Mostra soluzione\" data-jupman-hide=\"Nascondi\">Mostra soluzione</a><div class=\"jupman-sol jupman-sol-code\" style=\"display:none\">  "
   ]
  },
  {
   "cell_type": "code",
   "execution_count": 16,
   "metadata": {},
   "outputs": [],
   "source": [
    "# scrivi qui\n",
    "def pari(x):\n",
    "    return x % 2 == 0"
   ]
  },
  {
   "cell_type": "raw",
   "id": "public-might",
   "metadata": {
    "format": "text/html"
   },
   "source": [
    "</div>"
   ]
  },
  {
   "cell_type": "code",
   "execution_count": 16,
   "metadata": {},
   "outputs": [],
   "source": [
    "# scrivi qui\n",
    "\n"
   ]
  },
  {
   "cell_type": "code",
   "execution_count": 17,
   "metadata": {},
   "outputs": [
    {
     "name": "stdout",
     "output_type": "stream",
     "text": [
      "True\n"
     ]
    }
   ],
   "source": [
    "p = pari(2)\n",
    "print(p)"
   ]
  },
  {
   "cell_type": "code",
   "execution_count": 18,
   "metadata": {},
   "outputs": [
    {
     "name": "stdout",
     "output_type": "stream",
     "text": [
      "False\n"
     ]
    }
   ],
   "source": [
    "p = pari(3)\n",
    "print(p)"
   ]
  },
  {
   "cell_type": "code",
   "execution_count": 19,
   "metadata": {},
   "outputs": [
    {
     "name": "stdout",
     "output_type": "stream",
     "text": [
      "True\n"
     ]
    }
   ],
   "source": [
    "p = pari(4)\n",
    "print(p)"
   ]
  },
  {
   "cell_type": "code",
   "execution_count": 20,
   "metadata": {},
   "outputs": [
    {
     "name": "stdout",
     "output_type": "stream",
     "text": [
      "False\n"
     ]
    }
   ],
   "source": [
    "p = pari(5)\n",
    "print(p)"
   ]
  },
  {
   "cell_type": "code",
   "execution_count": 21,
   "metadata": {},
   "outputs": [
    {
     "name": "stdout",
     "output_type": "stream",
     "text": [
      "True\n"
     ]
    }
   ],
   "source": [
    "p = pari(0)\n",
    "print(p)"
   ]
  },
  {
   "cell_type": "markdown",
   "metadata": {},
   "source": [
    "### mag\n",
    "\n",
    "✪ Scrivere una funzione che dati due numeri `x` e `y` RITORNA il numero maggiore. \n",
    "\n",
    "Se sono uguali, RITORNA un numero qualsiasi."
   ]
  },
  {
   "cell_type": "raw",
   "id": "democratic-model",
   "metadata": {
    "format": "text/html"
   },
   "source": [
    "<a  class=\"jupman-sol jupman-sol-toggler\" \n",
    " onclick=\"jupman.toggleSolution(this);\" \n",
    " data-jupman-show=\"Mostra soluzione\" data-jupman-hide=\"Nascondi\">Mostra soluzione</a><div class=\"jupman-sol jupman-sol-code\" style=\"display:none\">  "
   ]
  },
  {
   "cell_type": "code",
   "execution_count": 22,
   "metadata": {},
   "outputs": [],
   "source": [
    "# scrivi qui\n",
    "\n",
    "def mag(x,y):\n",
    "    if x > y:\n",
    "        return x\n",
    "    else:\n",
    "        return y\n"
   ]
  },
  {
   "cell_type": "raw",
   "id": "crude-retrieval",
   "metadata": {
    "format": "text/html"
   },
   "source": [
    "</div>"
   ]
  },
  {
   "cell_type": "code",
   "execution_count": 22,
   "metadata": {},
   "outputs": [],
   "source": [
    "# scrivi qui\n",
    "\n"
   ]
  },
  {
   "cell_type": "code",
   "execution_count": 23,
   "metadata": {},
   "outputs": [
    {
     "name": "stdout",
     "output_type": "stream",
     "text": [
      "5\n"
     ]
    }
   ],
   "source": [
    "m = mag(3,5)\n",
    "print(m)"
   ]
  },
  {
   "cell_type": "code",
   "execution_count": 24,
   "metadata": {},
   "outputs": [
    {
     "name": "stdout",
     "output_type": "stream",
     "text": [
      "6\n"
     ]
    }
   ],
   "source": [
    "m = mag(6,2)\n",
    "print(m)"
   ]
  },
  {
   "cell_type": "code",
   "execution_count": 25,
   "metadata": {},
   "outputs": [
    {
     "name": "stdout",
     "output_type": "stream",
     "text": [
      "4\n"
     ]
    }
   ],
   "source": [
    "m = mag(4,4)\n",
    "print(m)"
   ]
  },
  {
   "cell_type": "code",
   "execution_count": 26,
   "metadata": {},
   "outputs": [
    {
     "name": "stdout",
     "output_type": "stream",
     "text": [
      "2\n"
     ]
    }
   ],
   "source": [
    "m = mag(-5,2)\n",
    "print(m)"
   ]
  },
  {
   "cell_type": "code",
   "execution_count": 27,
   "metadata": {},
   "outputs": [
    {
     "name": "stdout",
     "output_type": "stream",
     "text": [
      "-3\n"
     ]
    }
   ],
   "source": [
    "m = mag(-5, -3)\n",
    "print(m)"
   ]
  },
  {
   "cell_type": "markdown",
   "metadata": {},
   "source": [
    "\n",
    "### is_vocale\n",
    "\n",
    "✪ Scrivi una funzione `is_vocale` a cui viene passato un carattere `car` come parametro, e STAMPA `'sì'` se il carattere è una vocale, altrimenti STAMPA `'no'` (usando le `print`).\n",
    "\n",
    "\n",
    "```python\n",
    ">>> is_vocale(\"a\")\n",
    "'si'\n",
    "\n",
    ">>> is_vocale(\"c\")\n",
    "'no'\n",
    "```"
   ]
  },
  {
   "cell_type": "raw",
   "id": "nutritional-canal",
   "metadata": {
    "format": "text/html"
   },
   "source": [
    "<a  class=\"jupman-sol jupman-sol-toggler\" \n",
    " onclick=\"jupman.toggleSolution(this);\" \n",
    " data-jupman-show=\"Mostra soluzione\" data-jupman-hide=\"Nascondi\">Mostra soluzione</a><div class=\"jupman-sol jupman-sol-code\" style=\"display:none\">  "
   ]
  },
  {
   "cell_type": "code",
   "execution_count": 28,
   "metadata": {},
   "outputs": [],
   "source": [
    "# scrivi qui\n",
    "\n",
    "def is_vocale(car):\n",
    "    if car == 'a' or car == 'e' or car == 'i' or car == 'o' or car == 'u':\n",
    "        print('sì')\n",
    "    else:\n",
    "        print('no')\n",
    "    "
   ]
  },
  {
   "cell_type": "raw",
   "id": "surgical-announcement",
   "metadata": {
    "format": "text/html"
   },
   "source": [
    "</div>"
   ]
  },
  {
   "cell_type": "code",
   "execution_count": 28,
   "metadata": {},
   "outputs": [],
   "source": [
    "# scrivi qui\n",
    "\n"
   ]
  },
  {
   "cell_type": "markdown",
   "metadata": {},
   "source": [
    "### volume_sfera \n",
    "\n",
    "✪ Il volume di una sfera di raggio `r` è $4/3 π r^3$\n",
    "\n",
    "Scrivere una funzione `volume_sfera(raggio)  che dato un `raggio` di una sfera, STAMPA il volume\n",
    "\n",
    "NB: assumi pi_greco = 3.14\n",
    "\n",
    "```python\n",
    ">>> volume_sfera(4)\n",
    "267.94666666666666\n",
    "```\n"
   ]
  },
  {
   "cell_type": "raw",
   "id": "freelance-exhibition",
   "metadata": {
    "format": "text/html"
   },
   "source": [
    "<a  class=\"jupman-sol jupman-sol-toggler\" \n",
    " onclick=\"jupman.toggleSolution(this);\" \n",
    " data-jupman-show=\"Mostra soluzione\" data-jupman-hide=\"Nascondi\">Mostra soluzione</a><div class=\"jupman-sol jupman-sol-code\" style=\"display:none\">  "
   ]
  },
  {
   "cell_type": "code",
   "execution_count": 1,
   "metadata": {},
   "outputs": [],
   "source": [
    "# scrivi qui\n",
    "\n",
    "def volume_sfera(raggio):\n",
    "    print((4/3)*3.14*(raggio**3))\n"
   ]
  },
  {
   "cell_type": "raw",
   "id": "agreed-surname",
   "metadata": {
    "format": "text/html"
   },
   "source": [
    "</div>"
   ]
  },
  {
   "cell_type": "code",
   "execution_count": 1,
   "metadata": {},
   "outputs": [],
   "source": [
    "# scrivi qui\n",
    "\n"
   ]
  },
  {
   "cell_type": "markdown",
   "metadata": {},
   "source": [
    "### ciri\n",
    "\n",
    "✪ Scrivi una funzione `ciri(nome)` che prende come parametro la stringa `nome` e RITORNA `True` se è uguale al nome 'Cirillo'\n",
    "\n",
    "```python\n",
    ">>> r = ciri(\"Cirillo\")\n",
    ">>> r\n",
    "True\n",
    "\n",
    ">>> r = ciri(\"Cirillo\")\n",
    ">>> r\n",
    "False\n",
    "```"
   ]
  },
  {
   "cell_type": "raw",
   "id": "declared-surfing",
   "metadata": {
    "format": "text/html"
   },
   "source": [
    "<a  class=\"jupman-sol jupman-sol-toggler\" \n",
    " onclick=\"jupman.toggleSolution(this);\" \n",
    " data-jupman-show=\"Mostra soluzione\" data-jupman-hide=\"Nascondi\">Mostra soluzione</a><div class=\"jupman-sol jupman-sol-code\" style=\"display:none\">  "
   ]
  },
  {
   "cell_type": "code",
   "execution_count": 30,
   "metadata": {},
   "outputs": [],
   "source": [
    "# scrivi qui\n",
    "\n",
    "def ciri(nome):\n",
    "    if nome == \"Cirillo\":\n",
    "        return True\n",
    "    else:\n",
    "        return False\n"
   ]
  },
  {
   "cell_type": "raw",
   "id": "civilian-personal",
   "metadata": {
    "format": "text/html"
   },
   "source": [
    "</div>"
   ]
  },
  {
   "cell_type": "code",
   "execution_count": 30,
   "metadata": {},
   "outputs": [],
   "source": [
    "# scrivi qui\n",
    "\n"
   ]
  },
  {
   "cell_type": "markdown",
   "metadata": {},
   "source": [
    "### age\n",
    "\n",
    "✪ Scrivi una funzione `age` che prende come parametro `anno` di nascita e RITORNA l'eta' della persona\n",
    "\n",
    "**Supponi che l'anno corrente sia noto, quindi per rappresentarlo nel corpo della funzione usa una costante come ** `2019`\n",
    "\n",
    "```python\n",
    ">>> a = age(2003)\n",
    ">>> print(a)\n",
    "16\n",
    "```"
   ]
  },
  {
   "cell_type": "raw",
   "id": "isolated-marking",
   "metadata": {
    "format": "text/html"
   },
   "source": [
    "<a  class=\"jupman-sol jupman-sol-toggler\" \n",
    " onclick=\"jupman.toggleSolution(this);\" \n",
    " data-jupman-show=\"Mostra soluzione\" data-jupman-hide=\"Nascondi\">Mostra soluzione</a><div class=\"jupman-sol jupman-sol-code\" style=\"display:none\">  "
   ]
  },
  {
   "cell_type": "code",
   "execution_count": 31,
   "metadata": {},
   "outputs": [],
   "source": [
    "# scrivi qui\n",
    "\n",
    "def age(anno):\n",
    "    return 2019 - anno"
   ]
  },
  {
   "cell_type": "raw",
   "id": "encouraging-boulder",
   "metadata": {
    "format": "text/html"
   },
   "source": [
    "</div>"
   ]
  },
  {
   "cell_type": "code",
   "execution_count": 31,
   "metadata": {},
   "outputs": [],
   "source": [
    "# scrivi qui\n",
    "\n"
   ]
  },
  {
   "cell_type": "markdown",
   "metadata": {},
   "source": [
    "## Verifica comprensione\n",
    "\n",
    "<div class=\"alert alert-warning\">\n",
    "\n",
    "**ATTENZIONE**\n",
    "\n",
    "Gli esercizi che segueno contengono dei test con gli _assert_. Per capire come svolgerli, leggi prima [Gestione errori e testing](https://it.softpython.org/errors-and-testing/errors-and-testing-sol.html) \n",
    "\n",
    "</div>\n"
   ]
  },
  {
   "cell_type": "markdown",
   "metadata": {},
   "source": [
    "### mag_tre\n",
    "\n",
    "✪✪ Scrivi una funzione `mag_tre(a,b,c)` che prende stavolta tre numeri come parametro e RESTITUISCE il più grande tra loro\n",
    "\n",
    "Esempi: \n",
    "\n",
    "```python\n",
    ">>> mag_tre(1,2,4)\n",
    "4\n",
    "\n",
    ">>> mag_tre(5,7,3)\n",
    "7\n",
    "\n",
    ">>> mag_tre(4,4,4)\n",
    "4\n",
    "```"
   ]
  },
  {
   "cell_type": "raw",
   "id": "satellite-sullivan",
   "metadata": {
    "format": "text/html"
   },
   "source": [
    "<a  class=\"jupman-sol jupman-sol-toggler\" \n",
    " onclick=\"jupman.toggleSolution(this);\" \n",
    " data-jupman-show=\"Mostra soluzione\" data-jupman-hide=\"Nascondi\">Mostra soluzione</a><div class=\"jupman-sol jupman-sol-code\" style=\"display:none\">  "
   ]
  },
  {
   "cell_type": "code",
   "execution_count": 32,
   "metadata": {},
   "outputs": [],
   "source": [
    "# scrivi qui\n",
    "\n",
    "def mag_tre(a,b,c):\n",
    "    if a > b:\n",
    "        if a>c:\n",
    "            return a\n",
    "        else:\n",
    "            return c\n",
    "    else:\n",
    "        if b > c:\n",
    "            return b\n",
    "        else:\n",
    "            return c\n",
    "\n",
    "assert mag_tre(1,2,4) == 4\n",
    "assert mag_tre(5,7,3) == 7\n",
    "assert mag_tre(4,4,4) == 4"
   ]
  },
  {
   "cell_type": "raw",
   "id": "scheduled-accommodation",
   "metadata": {
    "format": "text/html"
   },
   "source": [
    "</div>"
   ]
  },
  {
   "cell_type": "code",
   "execution_count": 32,
   "metadata": {},
   "outputs": [],
   "source": [
    "# scrivi qui\n",
    "\n"
   ]
  },
  {
   "cell_type": "markdown",
   "metadata": {},
   "source": [
    "\n",
    "### prezzo_finale\n",
    "\n",
    "✪✪ Il prezzo di copertina di un libro è € 24,95, ma una libreria ottiene il 40% di sconto. I costi di spedizione sono € 3 per la prima copia e 75 centesimi per ogni copia aggiuntiva. Quanto costano `n` copie? \n",
    "Scrivi una funzione `prezzo_finale(n)` che RITORNA il prezzo.\n",
    "\n",
    "**ATTENZIONE 1**: Python per i numeri vuole il punto, NON la virgola !\n",
    "\n",
    "**ATTENZIONE 2**: Se ordinassi zero libri, quanto dovrei pagare ?\n",
    "\n",
    "**SUGGERIMENTO**: il 40% di 24,95 si può calcolare moltiplicando il prezzo per 0.40\n",
    "\n",
    "```python\n",
    ">>> p = prezzo_finale(10)\n",
    ">>> print(p)\n",
    "\n",
    "159.45\n",
    "\n",
    ">>> p = prezzo_finale(0)\n",
    ">>> print(p)\n",
    "\n",
    "0\n",
    "\n",
    "```"
   ]
  },
  {
   "cell_type": "raw",
   "id": "numeric-interpretation",
   "metadata": {
    "format": "text/html"
   },
   "source": [
    "<a  class=\"jupman-sol jupman-sol-toggler\" \n",
    " onclick=\"jupman.toggleSolution(this);\" \n",
    " data-jupman-show=\"Mostra soluzione\" data-jupman-hide=\"Nascondi\">Mostra soluzione</a><div class=\"jupman-sol jupman-sol-code\" style=\"display:none\">  "
   ]
  },
  {
   "cell_type": "code",
   "execution_count": 33,
   "metadata": {},
   "outputs": [],
   "source": [
    "def prezzo_finale(n):\n",
    "    \n",
    "    if n == 0:\n",
    "        return 0\n",
    "    else:\n",
    "        return n* 24.95*0.6 + 3 +(n-1)*0.75\n",
    "    \n",
    "\n",
    "assert prezzo_finale(10) == 159.45\n",
    "assert prezzo_finale(0) == 0"
   ]
  },
  {
   "cell_type": "raw",
   "id": "municipal-worker",
   "metadata": {
    "format": "text/html"
   },
   "source": [
    "</div>"
   ]
  },
  {
   "cell_type": "code",
   "execution_count": 33,
   "metadata": {},
   "outputs": [],
   "source": [
    "def prezzo_finale(n):\n",
    "    raise Exception('TODO IMPLEMENT ME !')\n",
    "\n",
    "assert prezzo_finale(10) == 159.45\n",
    "assert prezzo_finale(0) == 0"
   ]
  },
  {
   "cell_type": "markdown",
   "metadata": {},
   "source": [
    "### ora_arrivo\n",
    "\n",
    "✪✪✪ Correndo a ritmo blando ci mettete  8 minuti e 15 secondi al miglio, e correndo a ritmo moderato  ci impiegate  7 minuti e 12 secondi al miglio. \n",
    "\n",
    "Scrivi una funzione `ora_arrivo(n,m)` che supponendo una partenza alle ore 6 e 52 minuti,  date `n` miglia percorse con ritmo blando e `m` con  ritmo moderato, STAMPA l'ora di arrivo.\n",
    "\n",
    "* **SUGGERIMENTO 1**: per calcare una divisione intera, usate `//`\n",
    "* **SUGGERIMENTO 2**: per calcolare il resto di una divisione intera, usate l'operatore modulo `%`\n",
    "\n",
    "```python\n",
    ">>> ora_arrivo(2,2)\n",
    "7:22\n",
    "```\n"
   ]
  },
  {
   "cell_type": "raw",
   "id": "speaking-clause",
   "metadata": {
    "format": "text/html"
   },
   "source": [
    "<a  class=\"jupman-sol jupman-sol-toggler\" \n",
    " onclick=\"jupman.toggleSolution(this);\" \n",
    " data-jupman-show=\"Mostra soluzione\" data-jupman-hide=\"Nascondi\">Mostra soluzione</a><div class=\"jupman-sol jupman-sol-code\" style=\"display:none\">  "
   ]
  },
  {
   "cell_type": "code",
   "execution_count": 34,
   "metadata": {},
   "outputs": [],
   "source": [
    "def ora_arrivo(n,m):\n",
    "    \n",
    "    ore_partenza = 6\n",
    "    minuti_partenza = 52\n",
    "\n",
    "    # secondi trascorsi\n",
    "    secondi = n * 495 + m * 432\n",
    "    \n",
    "    # tempo trascorso\n",
    "    secondi_due = secondi % 60\n",
    "    minuti= secondi // 60\n",
    "    ore= minuti // 60\n",
    "    \n",
    "\n",
    "    ore_arrivo= ore + ore_partenza\n",
    "    minuti_arrivo= minuti + minuti_partenza\n",
    "\n",
    "    minuti_finale = minuti_arrivo % 60\n",
    "    ore_finale = minuti_arrivo // 60 + ore_arrivo\n",
    "\n",
    "    return str(ore_finale) + \":\" + str(minuti_finale)\n",
    "    \n",
    "\n",
    "assert ora_arrivo(0,0) == '6:52'\n",
    "assert ora_arrivo(2,2) == '7:22'\n",
    "assert ora_arrivo(2,5) == '7:44'\n",
    "assert ora_arrivo(8,5) == '9:34'"
   ]
  },
  {
   "cell_type": "raw",
   "id": "auburn-family",
   "metadata": {
    "format": "text/html"
   },
   "source": [
    "</div>"
   ]
  },
  {
   "cell_type": "code",
   "execution_count": 34,
   "metadata": {},
   "outputs": [],
   "source": [
    "def ora_arrivo(n,m):\n",
    "    raise Exception('TODO IMPLEMENT ME !')\n",
    "\n",
    "assert ora_arrivo(0,0) == '6:52'\n",
    "assert ora_arrivo(2,2) == '7:22'\n",
    "assert ora_arrivo(2,5) == '7:44'\n",
    "assert ora_arrivo(8,5) == '9:34'"
   ]
  },
  {
   "cell_type": "code",
   "execution_count": null,
   "metadata": {},
   "outputs": [],
   "source": []
  }
 ],
 "metadata": {
  "celltoolbar": "Edit Metadata",
  "kernelspec": {
   "display_name": "Python 3",
   "language": "python",
   "name": "python3"
  },
  "language_info": {
   "codemirror_mode": {
    "name": "ipython",
    "version": 3
   },
   "file_extension": ".py",
   "mimetype": "text/x-python",
   "name": "python",
   "nbconvert_exporter": "python",
   "pygments_lexer": "ipython3",
   "version": "3.7.9"
  },
  "toc": {
   "base_numbering": 1,
   "nav_menu": {},
   "number_sections": false,
   "sideBar": true,
   "skip_h1_title": false,
   "title_cell": "Table of Contents",
   "title_sidebar": "Contents",
   "toc_cell": false,
   "toc_position": {},
   "toc_section_display": true,
   "toc_window_display": true
  }
 },
 "nbformat": 4,
 "nbformat_minor": 2
}
