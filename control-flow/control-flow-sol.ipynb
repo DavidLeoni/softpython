{
 "cells": [
  {
   "cell_type": "markdown",
   "metadata": {},
   "source": [
    "# Controllo di flusso\n",
    "\n",
    "\n",
    "## ATTENZIONE - TUTORIAL IN PROGRESS\n",
    "\n",
    "## [Download exercises zip](../_static/generated/control-flow.zip)\n",
    "\n",
    "[Browse files online](https://github.com/DavidLeoni/softpython/tree/master/control-flow)"
   ]
  },
  {
   "cell_type": "markdown",
   "metadata": {},
   "source": [
    "## Introduction\n",
    "\n",
    "In this practical we will work with conditionals (branching) and loops.\n",
    "\n",
    "**References**: \n",
    "\n",
    "* Complex statements: [Andrea Passerini slides A03](http://disi.unitn.it/~passerini/teaching/2019-2020/sci-pro/slides/A03-controlflow.pdf)\n",
    "\n",
    "### What to do\n",
    "\n",
    "- unzip exercises in a folder, you should get something like this: \n",
    "\n",
    "```\n",
    "control-flow\n",
    "   control-flow.ipynb     \n",
    "   control-flow-sol.ipynb\n",
    "   jupman.py\n",
    "```\n",
    "\n",
    "<div class=\"alert alert-warning\">\n",
    "\n",
    "**WARNING 1**: to correctly visualize the notebook, it MUST be in an unzipped folder !\n",
    "</div>\n",
    "\n",
    "\n",
    "- open Jupyter Notebook from that folder. Two things should open, first a console and then browser. The browser should show a file list: navigate the list and open the notebook `control-flow/control-flow.ipynb`\n",
    "\n",
    "<div class=\"alert alert-warning\">\n",
    "\n",
    "**WARNING 2**: DO NOT use the _Upload_ button in Jupyter, instead navigate to the unzipped folder while in Jupyter browser!\n",
    "</div>\n",
    "\n",
    "\n",
    "- Go on reading that notebook, and follow instuctions inside.\n",
    "\n",
    "\n",
    "Shortcut keys:\n",
    "\n",
    "- to execute Python code inside a Jupyter cell, press `Control + Enter`\n",
    "- to execute Python code inside a Jupyter cell AND select next cell, press `Shift + Enter`\n",
    "- to execute Python code inside a Jupyter cell AND a create a new cell aftwerwards, press `Alt + Enter`\n",
    "- If the notebooks look stuck, try to select `Kernel -> Restart`\n"
   ]
  },
  {
   "cell_type": "markdown",
   "metadata": {},
   "source": [
    "\n",
    "## Execution flow\n",
    "\n",
    "Recall from the lecture that there are at least three types of execution flows. Our statements can be simple and structured **sequentially**, when one instruction is executed right after the previous one, but some more complex flows involve **conditional** branching (when the portion of the code to be executed depends on the value of some condition), or **loops** when a portion of the code is executed multiple times until a certain condition becomes False.\n",
    "\n",
    "![structured programming kjdf9d](img/structured_programming.png)\n",
    "\n",
    "These portions of code are generally called **blocks** and Python, unlike most of the programming languages, **uses indentation (and some keywords like else, ':', 'next', etc.) to define blocks**.\n",
    "\n",
    "## Conditionals\n",
    "\n",
    "\n",
    "We can use conditionals any time a decision needs to be made depending on the value of some condition. A block of code will be executed if the condition is evaluated to the boolean **True** and another one if the condition is evaluated to **False**. \n",
    "\n",
    "\n",
    "### The basic *if - else* statement\n",
    "The basic syntax of conditionals is an if statement like:"
   ]
  },
  {
   "cell_type": "markdown",
   "metadata": {},
   "source": [
    "```python\n",
    "if condition :\n",
    "\n",
    "    # This is the True branch\n",
    "    # do something\n",
    "    \n",
    "else:\n",
    "    \n",
    "    # This is the False branch (or else branch)\n",
    "    # do something else\n",
    "```"
   ]
  },
  {
   "cell_type": "markdown",
   "metadata": {},
   "source": [
    "where _condition_ is a boolean expression that tells the interpreter which of the two blocks should be executed. \n",
    "**If and only if** the condition is **True** the first branch is executed, otherwise execution goes to the second branch (i.e. the else branch). Note that the **condition is followed by a \":\"** character and that **the two branches are indented**. This is the way Python uses to identify the block of instructions that belong to the same branch. The **else keyword is followed by \":\"** and **is not indented** (i.e. it is at the same level of the *if* statement. There is no keyword at the end of the \"else branch\", but **indentation tells when the block of code is finished**.\n",
    "\n",
    "**Example:**\n",
    "Let's get an integer from the user and test if it is even or odd, printing the result to the screen."
   ]
  },
  {
   "cell_type": "markdown",
   "metadata": {},
   "source": [
    "```python\n",
    "print(\"Dear user give me an integer:\")\n",
    "num = int(input())\n",
    "res = \"\"\n",
    "if num % 2 == 0:\n",
    "    #The number is even\n",
    "    res = \"even\"\n",
    "else:\n",
    "    #The number is odd\n",
    "    res = \"odd\"\n",
    "\n",
    "print(\"Number \", num, \" is \", res)\n",
    "```"
   ]
  },
  {
   "cell_type": "markdown",
   "metadata": {},
   "source": [
    "```\n",
    "Dear user give me an integer:\n",
    "34\n",
    "Number  34  is  even\n",
    "```\n"
   ]
  },
  {
   "cell_type": "markdown",
   "metadata": {},
   "source": [
    "Note that the execution is sequential until the *if* keyword, then it branches until the indentation goes back to the same level of the if (i.e. the two branches rejoin at the *print* statement in the final line). **Remember that the else branch is optional.**\n",
    "\n",
    "### The *if - elif - else* statement\n",
    "\n",
    "If statements can be chained in such a way that there are more than two possible branches to be followed. Chaining them with the **if - elif - else** statement will make execution follow only one of the possible paths.\n",
    "\n",
    "The syntax is the following:"
   ]
  },
  {
   "cell_type": "markdown",
   "metadata": {},
   "source": [
    "```python\n",
    "if condition :\n",
    "\n",
    "    # This is branch 1\n",
    "    # do something\n",
    "    \n",
    "elif condition1 :\n",
    "    \n",
    "    # This is branch 2\n",
    "    # do something\n",
    "\n",
    "elif condition2 :\n",
    "\n",
    "    # This is branch 3\n",
    "    # do something\n",
    "\n",
    "else:\n",
    "\n",
    "    # else branch. Executed if all other conditions are false\n",
    "    # do something else\n",
    "```"
   ]
  },
  {
   "cell_type": "markdown",
   "metadata": {},
   "source": [
    "Note that **branch 1** is executed if condition is **True**, **branch 2** if and only if **condition is False and condition1 is True**, **branch 3** if condition is **False, condition 1 is False and condition2 is True**. **If all conditions are False the else branch is executed**.\n",
    "\n",
    "**Example**:\n",
    "The tax rate of a salary depends on the income. If the income is < 10000 euros, no tax is due, if the income is between 10000 euros and 20000 the tax rate is 25%, if between 20000 and 45000 it is 35% otherwise it is 40%. What is the tax due by a person earning 35000 euros per year? "
   ]
  },
  {
   "cell_type": "code",
   "execution_count": 1,
   "metadata": {},
   "outputs": [
    {
     "name": "stdout",
     "output_type": "stream",
     "text": [
      "The tax due is  12250.0  euros (i.e  35.0 %)\n"
     ]
    }
   ],
   "source": [
    "income = 35000\n",
    "rate = 0.0\n",
    "\n",
    "if income < 10000:\n",
    "    rate = 0\n",
    "elif income < 20000:\n",
    "    rate = 0.2\n",
    "elif income < 45000:\n",
    "    rate = 0.35\n",
    "else:\n",
    "    rate = 0.4\n",
    "    \n",
    "tax = income*rate\n",
    "\n",
    "print(\"The tax due is \", tax, \" euros (i.e \", rate*100, \"%)\")"
   ]
  },
  {
   "cell_type": "markdown",
   "metadata": {},
   "source": [
    "Note the difference in the two following cases:"
   ]
  },
  {
   "cell_type": "code",
   "execution_count": 2,
   "metadata": {},
   "outputs": [
    {
     "name": "stdout",
     "output_type": "stream",
     "text": [
      "Value >5\n"
     ]
    }
   ],
   "source": [
    "#Example 1\n",
    "\n",
    "val = 10\n",
    "\n",
    "if val > 5:\n",
    "    print(\"Value >5\")\n",
    "elif val > 5: \n",
    "    print(\"I said value is >5!\")\n",
    "else:\n",
    "    print(\"Value is <= 5\")\n",
    "    \n"
   ]
  },
  {
   "cell_type": "code",
   "execution_count": 3,
   "metadata": {},
   "outputs": [
    {
     "name": "stdout",
     "output_type": "stream",
     "text": [
      "\n",
      "\n",
      "Value is >5\n",
      "I said Value is >5!!!\n"
     ]
    }
   ],
   "source": [
    "#Example 2\n",
    "\n",
    "val = 10\n",
    "\n",
    "if(val > 5):\n",
    "    print(\"\\n\\nValue is >5\")\n",
    "\n",
    "if(val > 5):\n",
    "    print(\"I said Value is >5!!!\")"
   ]
  },
  {
   "cell_type": "markdown",
   "metadata": {},
   "source": [
    "### Nested ifs\n",
    "\n",
    "If statements are _blocks_ so they can be nested as any other block.\n",
    "\n",
    "If you have a point with coordinates `x` and `y` and you want to know into which quadrant it falls\n",
    "\n",
    "![quadrant iu34234](img/quadrant.png)\n",
    "\n",
    "You might write something like this:"
   ]
  },
  {
   "cell_type": "code",
   "execution_count": 4,
   "metadata": {},
   "outputs": [
    {
     "name": "stdout",
     "output_type": "stream",
     "text": [
      "first quadrant\n"
     ]
    }
   ],
   "source": [
    "x = 5\n",
    "y = 9\n",
    "\n",
    "if x >= 0:\n",
    "    if y >= 0:\n",
    "        print('first quadrant')\n",
    "    else:\n",
    "        print('fourth quadrant')\n",
    "else:\n",
    "    if y >= 0:\n",
    "        print('second quadrant')\n",
    "    else:\n",
    "        print('third quadrant')\n",
    "    "
   ]
  },
  {
   "cell_type": "markdown",
   "metadata": {},
   "source": [
    "an equivalent way could be to use boolean expressions and write:"
   ]
  },
  {
   "cell_type": "code",
   "execution_count": 5,
   "metadata": {},
   "outputs": [
    {
     "name": "stdout",
     "output_type": "stream",
     "text": [
      "first quadrant\n"
     ]
    }
   ],
   "source": [
    "if x >= 0 and y >= 0:\n",
    "    print('first quadrant')\n",
    "elif x >= 0 and y < 0:\n",
    "    print('fourth quadrant')\n",
    "elif x < 0 and y >= 0:\n",
    "    print('second quadrant')    \n",
    "elif x < 0 and y < 0:\n",
    "    print('third quadrant')        "
   ]
  },
  {
   "cell_type": "markdown",
   "metadata": {},
   "source": [
    "### Ternary operator\n",
    "\n",
    "In some cases it is handy to be able to initialize a variable depending on the value of another one.\n",
    "\n",
    "**Example**:\n",
    "\n",
    "The discount rate applied to a purchase depends on the amount of the sale. Create a variable *discount* setting its value to 0 if the variable *amount* is lower than 100 euros, to 10% if it is higher."
   ]
  },
  {
   "cell_type": "code",
   "execution_count": 6,
   "metadata": {},
   "outputs": [
    {
     "name": "stdout",
     "output_type": "stream",
     "text": [
      "Total amount: 110 discount: 0.1\n"
     ]
    }
   ],
   "source": [
    "amount = 110\n",
    "discount = 0\n",
    "\n",
    "if(amount >100):\n",
    "    discount = 0.1\n",
    "else:\n",
    "    discount = 0 # not necessary\n",
    "\n",
    "print(\"Total amount:\", amount, \"discount:\", discount)\n"
   ]
  },
  {
   "cell_type": "markdown",
   "metadata": {},
   "source": [
    "The previous code can be written more coincisely as:"
   ]
  },
  {
   "cell_type": "code",
   "execution_count": 7,
   "metadata": {},
   "outputs": [
    {
     "name": "stdout",
     "output_type": "stream",
     "text": [
      "Total amount: 110 discount: 0.1\n"
     ]
    }
   ],
   "source": [
    "amount = 110\n",
    "discount = 0.1 if amount > 100 else 0\n",
    "print(\"Total amount:\", amount, \"discount:\", discount)"
   ]
  },
  {
   "cell_type": "markdown",
   "metadata": {},
   "source": [
    "The basic syntax of the ternary operator is:"
   ]
  },
  {
   "cell_type": "markdown",
   "metadata": {},
   "source": [
    "```\n",
    "variable = value if condition else other_value\n",
    "```"
   ]
  },
  {
   "cell_type": "markdown",
   "metadata": {},
   "source": [
    "meaning that the *variable* is initialized to *value* if the *condition* holds, otherwise to *other_value*.\n",
    "\n",
    "Python also allows in line operations separated by a \";\" "
   ]
  },
  {
   "cell_type": "code",
   "execution_count": 8,
   "metadata": {},
   "outputs": [
    {
     "name": "stdout",
     "output_type": "stream",
     "text": [
      "10 11 13\n"
     ]
    }
   ],
   "source": [
    "a = 10; b = a + 1; c = b +2\n",
    "print(a,b,c)"
   ]
  },
  {
   "cell_type": "markdown",
   "metadata": {},
   "source": [
    "<div class=\"alert alert-warning\">\n",
    "\n",
    "**Note:** Although the ternary operator and in line operations are sometimes useful and less verbose than the explicit definition, they are considered \"non-pythonic\" and advised against.\n",
    "\n",
    "</div>"
   ]
  },
  {
   "cell_type": "markdown",
   "metadata": {},
   "source": [
    "## Loops\n",
    "\n",
    "Looping is the ability of repeating a specific block of code several times (i.e. until a specific condition is True or there are no more elements to process). \n",
    "\n",
    "### For loop\n",
    "\n",
    "The *for* loop is used to loop over a collection of objects (e.g. a string, list, tuple, ...). The basic syntax of the for loop is the following:"
   ]
  },
  {
   "cell_type": "markdown",
   "metadata": {},
   "source": [
    "```\n",
    "for elem in collection :   \n",
    "    # OK, do something with elem\n",
    "    # instruction 1\n",
    "    # instruction 2\n",
    "```"
   ]
  },
  {
   "cell_type": "markdown",
   "metadata": {},
   "source": [
    "the variable `elem` will get the value of each one of the elements present in `collection`one after the other. The end of the block of code to be executed for each element in the collection is again defined by indentation.\n",
    "\n",
    "Depending on the type of the collection elem will get different values. Recall from the lecture that:\n",
    "\n",
    "![type iteration u2yue9](img/iteration.png)\n",
    "\n",
    "Let's see this in action:"
   ]
  },
  {
   "cell_type": "code",
   "execution_count": 9,
   "metadata": {},
   "outputs": [
    {
     "name": "stdout",
     "output_type": "stream",
     "text": [
      "String: Hi there from python\n",
      "List: ['Hi', 'there', 'from', 'python']\n",
      "Tuple: ('Hi', 'there', 'from', 'python')\n"
     ]
    }
   ],
   "source": [
    "S = \"Hi there from python\"\n",
    "Slist = S.split(\" \")\n",
    "Stuple = (\"Hi\",\"there\",\"from\",\"python\")\n",
    "print(\"String:\", S)\n",
    "print(\"List:\", Slist)\n",
    "print(\"Tuple:\", Stuple)\n"
   ]
  },
  {
   "cell_type": "code",
   "execution_count": 10,
   "metadata": {},
   "outputs": [
    {
     "name": "stdout",
     "output_type": "stream",
     "text": [
      "On strings:\n",
      "H\n",
      "i\n",
      " \n",
      "t\n",
      "h\n",
      "e\n",
      "r\n",
      "e\n",
      " \n",
      "f\n",
      "r\n",
      "o\n",
      "m\n",
      " \n",
      "p\n",
      "y\n",
      "t\n",
      "h\n",
      "o\n",
      "n\n"
     ]
    }
   ],
   "source": [
    "\n",
    "#for loop on string\n",
    "print(\"On strings:\")\n",
    "for c in S:\n",
    "    print(c)\n",
    "\n"
   ]
  },
  {
   "cell_type": "code",
   "execution_count": 11,
   "metadata": {},
   "outputs": [
    {
     "name": "stdout",
     "output_type": "stream",
     "text": [
      "\n",
      "On lists:\n",
      "Hi\n",
      "there\n",
      "from\n",
      "python\n"
     ]
    }
   ],
   "source": [
    "print(\"\\nOn lists:\")\n",
    "#for loop on list\n",
    "for item in Slist:\n",
    "    print(item)\n",
    "    \n"
   ]
  },
  {
   "cell_type": "code",
   "execution_count": 12,
   "metadata": {},
   "outputs": [
    {
     "name": "stdout",
     "output_type": "stream",
     "text": [
      "\n",
      "On tuples:\n",
      "Hi\n",
      "there\n",
      "from\n",
      "python\n"
     ]
    }
   ],
   "source": [
    "print(\"\\nOn tuples:\")\n",
    "#for loop on list\n",
    "for item in Stuple:\n",
    "    print(item)"
   ]
  },
  {
   "cell_type": "markdown",
   "metadata": {},
   "source": [
    "### Looping over a range\n",
    "\n",
    "It is possible to loop over a range of values with the python built-in function `range`. The `range` function accepts either two or three parameters (all of them are **integers**). Similarly to the slicing operator, it needs the **starting point**, **end point** and **an optional step**. \n",
    "\n",
    "Three distinct syntaxes are available: "
   ]
  },
  {
   "cell_type": "markdown",
   "metadata": {},
   "source": [
    "```python\n",
    "range(E)        # ranges from 0 to E-1\n",
    "range(S,E)      # ranges from S to E-1\n",
    "range(S,E,step) # ranges from S to E-1 with +step jumps\n",
    "```"
   ]
  },
  {
   "cell_type": "markdown",
   "metadata": {},
   "source": [
    "Remember that *S* is **included** while *E* is **excluded**.\n",
    "Let's see some examples.\n",
    "\n",
    "**Example:**\n",
    "Given a list of integers, return a list with all the even numbers."
   ]
  },
  {
   "cell_type": "code",
   "execution_count": 13,
   "metadata": {},
   "outputs": [
    {
     "name": "stdout",
     "output_type": "stream",
     "text": [
      "original list: [1, 7, 9, 121, 77, 82]\n",
      "only even numbers: [82]\n"
     ]
    }
   ],
   "source": [
    "myList = [1, 7, 9, 121, 77, 82]\n",
    "onlyEven = []\n",
    "\n",
    "for i in range(0, len(myList)):  #this is equivalent to range(len(myList)):\n",
    "    if( myList[i] % 2 == 0 ):\n",
    "        onlyEven.append(myList[i])\n",
    "        \n",
    "print(\"original list:\", myList)\n",
    "print(\"only even numbers:\", onlyEven)\n"
   ]
  },
  {
   "cell_type": "markdown",
   "metadata": {},
   "source": [
    "**Example:**\n",
    "Store in a list the multiples of 19 between 1 and 100."
   ]
  },
  {
   "cell_type": "code",
   "execution_count": 14,
   "metadata": {},
   "outputs": [
    {
     "name": "stdout",
     "output_type": "stream",
     "text": [
      "multiples of 19:  [19, 38, 57, 76, 95]\n",
      "multiples of 19: [19, 38, 57, 76, 95]\n"
     ]
    }
   ],
   "source": [
    "multiples = []\n",
    "\n",
    "for i in range(19,101,19):\n",
    "    multiples.append(i)\n",
    "    \n",
    "print(\"multiples of 19: \", multiples)\n",
    "\n",
    "#alternative way:\n",
    "multiples = []\n",
    "for i in range(1, (100//19) + 1):\n",
    "    multiples.append(i*19)\n",
    "print(\"multiples of 19:\", multiples)\n"
   ]
  },
  {
   "cell_type": "markdown",
   "metadata": {},
   "source": [
    "<div class=\"alert alert-info\">\n",
    "\n",
    "**Note:** range works differently in Python 2.x and 3.x\n",
    "\n",
    "In Python 3 the *range* function returns an iterator rather storing the entire list."
   ]
  },
  {
   "cell_type": "code",
   "execution_count": 15,
   "metadata": {},
   "outputs": [
    {
     "name": "stdout",
     "output_type": "stream",
     "text": [
      "range(0, 10)\n",
      "[0, 1, 2, 3, 4, 5, 6, 7, 8, 9]\n"
     ]
    }
   ],
   "source": [
    "#Check out the difference:\n",
    "print(range(0,10))\n",
    "\n",
    "print(list(range(0,10)))"
   ]
  },
  {
   "cell_type": "markdown",
   "metadata": {},
   "source": [
    "</div>\n",
    "**Example:**\n",
    "Let's consider the two DNA strings s1 = \"ATACATATAGGGCCAATTATTATAAGTCAC\" and s2 = \"CGCCACTTAAGCGCCCTGTATTAAAGTCGC\" that have the same length. Let's create a third string $out$ such that $out[i]$ is $\"|\"$ if $s1[i]==s2[i]$, $\"\\ \"$ otherwise.  "
   ]
  },
  {
   "cell_type": "code",
   "execution_count": 16,
   "metadata": {},
   "outputs": [
    {
     "name": "stdout",
     "output_type": "stream",
     "text": [
      "ATACATATAGGGCCAATTATTATAAGTCAC\n",
      "   ||  || |  |  |   |  ||||| |\n",
      "CGCCACTTAAGCGCCCTGTATTAAAGTCGC\n"
     ]
    }
   ],
   "source": [
    "s1 = \"ATACATATAGGGCCAATTATTATAAGTCAC\"\n",
    "s2 = \"CGCCACTTAAGCGCCCTGTATTAAAGTCGC\"\n",
    "\n",
    "outSTR = \"\"\n",
    "for i in range(len(s1)):\n",
    "    if(s1[i] == s2[i]):\n",
    "        outSTR = outSTR + \"|\"\n",
    "    else:\n",
    "        outSTR = outSTR + \" \"\n",
    "\n",
    "print(s1)\n",
    "print(outSTR)\n",
    "print(s2)\n"
   ]
  },
  {
   "cell_type": "markdown",
   "metadata": {},
   "source": [
    "### Nested for loops\n",
    "\n",
    "In some occasions it is useful to nest one (or more) for loops into another one.\n",
    "The basic syntax is:"
   ]
  },
  {
   "cell_type": "markdown",
   "metadata": {},
   "source": [
    "```python\n",
    "for i in collection:\n",
    "    for j in another_collection:\n",
    "        # do some stuff with i and j\n",
    "```"
   ]
  },
  {
   "cell_type": "markdown",
   "metadata": {},
   "source": [
    "**Example:**\n",
    "\n",
    "Given the matrix $\\begin{bmatrix}1 & 2 & 3\\\\4 & 5 & 6\\\\7 & 8 & 9\\end{bmatrix}$ stored as a list of lists (i.e. matrix = [[1, 2, 3], [4, 5, 6], [7, 8, 9]].\n",
    "\n",
    "Print it out as: $\\begin{matrix}1 & 2 & 3\\\\4 & 5 & 6\\\\7 & 8 & 9\\end{matrix}$"
   ]
  },
  {
   "cell_type": "code",
   "execution_count": 1,
   "metadata": {},
   "outputs": [
    {
     "name": "stdout",
     "output_type": "stream",
     "text": [
      "1 2 3 \n",
      "4 5 6 \n",
      "7 8 9 \n"
     ]
    }
   ],
   "source": [
    "matrix = [[1, 2, 3], [4, 5, 6], [7, 8, 9]]\n",
    "\n",
    "for i in range(len(matrix)):\n",
    "    line = \"\"\n",
    "    for j in range(len(matrix[i])):\n",
    "        line = line + str(matrix[i][j]) + \" \" #note int --> str conversion!\n",
    "    print(line)"
   ]
  },
  {
   "cell_type": "markdown",
   "metadata": {},
   "source": [
    "## Iteratori - reversed\n",
    "\n",
    "`reversed` è una _funzione_ che prende come parametro una sequenza e PRODUCE un NUOVO _iteratore_ che consente di scorrere la sequenza in ordine inverso. Vediamo meglio cosa vuol dire con un esempio:"
   ]
  },
  {
   "cell_type": "code",
   "execution_count": 179,
   "metadata": {},
   "outputs": [],
   "source": [
    "la = ['p','r','o','v','a']"
   ]
  },
  {
   "cell_type": "code",
   "execution_count": 184,
   "metadata": {},
   "outputs": [
    {
     "data": {
      "text/plain": [
       "<list_reverseiterator at 0x7fba0df146d8>"
      ]
     },
     "execution_count": 184,
     "metadata": {},
     "output_type": "execute_result"
    }
   ],
   "source": [
    "reversed(la)"
   ]
  },
  {
   "cell_type": "code",
   "execution_count": 185,
   "metadata": {},
   "outputs": [
    {
     "name": "stdout",
     "output_type": "stream",
     "text": [
      "['p', 'r', 'o', 'v', 'a']\n"
     ]
    }
   ],
   "source": [
    "print(la)"
   ]
  },
  {
   "cell_type": "markdown",
   "metadata": {},
   "source": [
    "Per prima cosa, notiamo che `reversed` è una **funzione**. Se provassiamo a chiamarla come un metodo otterremmo un errore:"
   ]
  },
  {
   "cell_type": "markdown",
   "metadata": {},
   "source": [
    "```python\n",
    ">>> la.reversed()\n",
    "\n",
    "---------------------------------------------------------------------------\n",
    "AttributeError                            Traceback (most recent call last)\n",
    "<ipython-input-182-c8d1eec57fdd> in <module>\n",
    "----> 1 la.reversed()\n",
    "\n",
    "AttributeError: 'list' object has no attribute 'reversed'\n",
    "\n",
    "```"
   ]
  },
  {
   "cell_type": "markdown",
   "metadata": {},
   "source": [
    "Come seconda cosa, vediamo che `reversed` ha prodotto un risultato che non è subito una lista rovesciata, bensì un _iteratore_. Puoi immaginare un iteratore come una specie di macchinetta ferma, che ogni volta che viene azionata produce un elemento di una sequenza, uno alla volta. \n",
    "\n",
    "<div class=\"alert alert-info\">\n",
    "\n",
    "**INFO: gli iteratori occupano poca memoria**\n",
    "\n",
    "Creare un iteratore da una sequenza non crea nuove regioni di memoria - si crea solo una specie di puntatore che solitamente occupa pochissima memoria."
   ]
  },
  {
   "cell_type": "markdown",
   "metadata": {},
   "source": [
    "Come terzo fatto, vediamo che la lista originale associata ad `la` NON è cambiata:  "
   ]
  },
  {
   "cell_type": "code",
   "execution_count": 260,
   "metadata": {},
   "outputs": [
    {
     "name": "stdout",
     "output_type": "stream",
     "text": [
      "['p', 'r', 'o', 'v', 'a']\n"
     ]
    }
   ],
   "source": [
    "print(la)"
   ]
  },
  {
   "cell_type": "markdown",
   "metadata": {},
   "source": [
    "### iterare con next\n",
    "\n",
    "Come facciamo ad ottenere in memoria una lista rovesciata? In altre parole, come facciamo ad azionare la macchinetta iteratore? \n",
    "\n",
    "Possiamo chiedere all'iteratore un elemento alla volta con la funzione `next`:"
   ]
  },
  {
   "cell_type": "code",
   "execution_count": 243,
   "metadata": {},
   "outputs": [],
   "source": [
    "la = ['a','b','c']"
   ]
  },
  {
   "cell_type": "code",
   "execution_count": 244,
   "metadata": {},
   "outputs": [],
   "source": [
    "iteratore = reversed(la)"
   ]
  },
  {
   "cell_type": "code",
   "execution_count": 245,
   "metadata": {},
   "outputs": [
    {
     "data": {
      "text/plain": [
       "'c'"
      ]
     },
     "execution_count": 245,
     "metadata": {},
     "output_type": "execute_result"
    }
   ],
   "source": [
    "next(iteratore)"
   ]
  },
  {
   "cell_type": "code",
   "execution_count": 246,
   "metadata": {},
   "outputs": [
    {
     "data": {
      "text/plain": [
       "'b'"
      ]
     },
     "execution_count": 246,
     "metadata": {},
     "output_type": "execute_result"
    }
   ],
   "source": [
    "next(iteratore)"
   ]
  },
  {
   "cell_type": "code",
   "execution_count": 251,
   "metadata": {},
   "outputs": [
    {
     "ename": "StopIteration",
     "evalue": "",
     "output_type": "error",
     "traceback": [
      "\u001b[0;31m---------------------------------------------------------------------------\u001b[0m",
      "\u001b[0;31mStopIteration\u001b[0m                             Traceback (most recent call last)",
      "\u001b[0;32m<ipython-input-251-4518bd5da67f>\u001b[0m in \u001b[0;36m<module>\u001b[0;34m\u001b[0m\n\u001b[0;32m----> 1\u001b[0;31m \u001b[0mnext\u001b[0m\u001b[0;34m(\u001b[0m\u001b[0miteratore\u001b[0m\u001b[0;34m)\u001b[0m\u001b[0;34m\u001b[0m\u001b[0;34m\u001b[0m\u001b[0m\n\u001b[0m",
      "\u001b[0;31mStopIteration\u001b[0m: "
     ]
    }
   ],
   "source": [
    "next(iteratore)"
   ]
  },
  {
   "cell_type": "markdown",
   "metadata": {},
   "source": [
    "Una volta esaurito l'iteratore, chiamando ancora `next` otterremo un errore:"
   ]
  },
  {
   "cell_type": "markdown",
   "metadata": {},
   "source": [
    "```python\n",
    "next(iteratore)\n",
    "\n",
    "---------------------------------------------------------------------------\n",
    "StopIteration                             Traceback (most recent call last)\n",
    "<ipython-input-248-4518bd5da67f> in <module>\n",
    "----> 1 next(iteratore)\n",
    "\n",
    "StopIteration: \n",
    "\n",
    "```"
   ]
  },
  {
   "cell_type": "markdown",
   "metadata": {},
   "source": [
    "Proviamo a crearci manualmente una lista di destinazione `lb` e aggiungere gli elementi che otteniamo mano a mano:"
   ]
  },
  {
   "cell_type": "code",
   "execution_count": 265,
   "metadata": {},
   "outputs": [
    {
     "name": "stdout",
     "output_type": "stream",
     "text": [
      "['c', 'b', 'a']\n"
     ]
    },
    {
     "data": {
      "text/html": [
       "\n",
       "        <script src=\"../_static/js/pytutor-embed.bundle.min.js\" type=\"application/javascript\"></script>\n",
       "     \n",
       "        <script id=\"json-jm55dd0839-60ff-4309-a4ea-a82257fad3ce\" type=\"application/json\" >\n",
       "            {\"code\": \" \\nla = ['a','b','c']\\niteratore = reversed(la)\\nlb = []\\nlb.append(next(iteratore))\\nlb.append(next(iteratore))\\nlb.append(next(iteratore))\\nprint(lb)\", \"trace\": [{\"line\": 2, \"event\": \"step_line\", \"func_name\": \"<module>\", \"globals\": {}, \"ordered_globals\": [], \"stack_to_render\": [], \"heap\": {}, \"stdout\": \"\"}, {\"line\": 3, \"event\": \"step_line\", \"func_name\": \"<module>\", \"globals\": {\"la\": [\"REF\", 1]}, \"ordered_globals\": [\"la\"], \"stack_to_render\": [], \"heap\": {\"1\": [\"LIST\", \"a\", \"b\", \"c\"]}, \"stdout\": \"\"}, {\"line\": 4, \"event\": \"step_line\", \"func_name\": \"<module>\", \"globals\": {\"la\": [\"REF\", 1], \"iteratore\": [\"REF\", 2]}, \"ordered_globals\": [\"la\", \"iteratore\"], \"stack_to_render\": [], \"heap\": {\"1\": [\"LIST\", \"a\", \"b\", \"c\"], \"2\": [\"INSTANCE\", \"list_reverseiterator\"]}, \"stdout\": \"\"}, {\"line\": 5, \"event\": \"step_line\", \"func_name\": \"<module>\", \"globals\": {\"la\": [\"REF\", 1], \"iteratore\": [\"REF\", 2], \"lb\": [\"REF\", 3]}, \"ordered_globals\": [\"la\", \"iteratore\", \"lb\"], \"stack_to_render\": [], \"heap\": {\"1\": [\"LIST\", \"a\", \"b\", \"c\"], \"2\": [\"INSTANCE\", \"list_reverseiterator\"], \"3\": [\"LIST\"]}, \"stdout\": \"\"}, {\"line\": 6, \"event\": \"step_line\", \"func_name\": \"<module>\", \"globals\": {\"la\": [\"REF\", 1], \"iteratore\": [\"REF\", 2], \"lb\": [\"REF\", 3]}, \"ordered_globals\": [\"la\", \"iteratore\", \"lb\"], \"stack_to_render\": [], \"heap\": {\"1\": [\"LIST\", \"a\", \"b\", \"c\"], \"2\": [\"INSTANCE\", \"list_reverseiterator\"], \"3\": [\"LIST\", \"c\"]}, \"stdout\": \"\"}, {\"line\": 7, \"event\": \"step_line\", \"func_name\": \"<module>\", \"globals\": {\"la\": [\"REF\", 1], \"iteratore\": [\"REF\", 2], \"lb\": [\"REF\", 3]}, \"ordered_globals\": [\"la\", \"iteratore\", \"lb\"], \"stack_to_render\": [], \"heap\": {\"1\": [\"LIST\", \"a\", \"b\", \"c\"], \"2\": [\"INSTANCE\", \"list_reverseiterator\"], \"3\": [\"LIST\", \"c\", \"b\"]}, \"stdout\": \"\"}, {\"line\": 8, \"event\": \"step_line\", \"func_name\": \"<module>\", \"globals\": {\"la\": [\"REF\", 1], \"iteratore\": [\"REF\", 2], \"lb\": [\"REF\", 3]}, \"ordered_globals\": [\"la\", \"iteratore\", \"lb\"], \"stack_to_render\": [], \"heap\": {\"1\": [\"LIST\", \"a\", \"b\", \"c\"], \"2\": [\"INSTANCE\", \"list_reverseiterator\"], \"3\": [\"LIST\", \"c\", \"b\", \"a\"]}, \"stdout\": \"\"}, {\"line\": 8, \"event\": \"return\", \"func_name\": \"<module>\", \"globals\": {\"la\": [\"REF\", 1], \"iteratore\": [\"REF\", 2], \"lb\": [\"REF\", 3]}, \"ordered_globals\": [\"la\", \"iteratore\", \"lb\"], \"stack_to_render\": [], \"heap\": {\"1\": [\"LIST\", \"a\", \"b\", \"c\"], \"2\": [\"INSTANCE\", \"list_reverseiterator\"], \"3\": [\"LIST\", \"c\", \"b\", \"a\"]}, \"stdout\": \"['c', 'b', 'a']\\n\"}]}\n",
       "        </script>\n",
       "        <div id=\"jm55dd0839-60ff-4309-a4ea-a82257fad3ce\" class=\"pytutorVisualizer\"> </div>\n",
       " \n",
       "        <style>\n",
       "        .vizLayoutTd {\n",
       "            background-color: #fff !important;\n",
       "        }\n",
       "                            \n",
       "\n",
       "        /* 'Edit this code' link, hiding because replaces browser tab !!!*/\n",
       "        #editCodeLinkDiv {\n",
       "            display:none;  \n",
       "        }\n",
       "        </style>   \n",
       "                            \n",
       "        <script>\n",
       "        (function(){\n",
       "\n",
       "            var trace = JSON.parse(document.getElementById('json-jm55dd0839-60ff-4309-a4ea-a82257fad3ce').innerHTML);                                        \n",
       "            // NOTE 1: id without #\n",
       "            // NOTE 2 - maybe there are more predictable ways, but this will work anyway\n",
       "            //        - id should be number\n",
       "            visualizerIdOverride = Math.trunc(Math.random() * 100000000000)\n",
       "            addVisualizerToPage(trace, 'jm55dd0839-60ff-4309-a4ea-a82257fad3ce',{'embeddedMode' : false,\n",
       "                                             'visualizerIdOverride':visualizerIdOverride})  \n",
       "            \n",
       "            \n",
       "            // set overflow for pytuts - need to do in python as css \n",
       "            // does not allow parent selection\n",
       "            var pytuts = $('.pytutorVisualizer')\n",
       "            pytuts.closest('div.output_html.rendered_html.output_result')\n",
       "                    .css('overflow-x', 'visible')\n",
       "        \n",
       "            //pytuts.closest('div.output_html.rendered_html.output_result')\n",
       "            //      .css('background-color','red')                \n",
       "            \n",
       "        })()\n",
       "        </script>\n",
       "                \n",
       "                "
      ],
      "text/plain": [
       "<IPython.core.display.HTML object>"
      ]
     },
     "execution_count": 265,
     "metadata": {},
     "output_type": "execute_result"
    }
   ],
   "source": [
    "la = ['a','b','c']\n",
    "iteratore = reversed(la)\n",
    "lb = []\n",
    "lb.append(next(iteratore))\n",
    "lb.append(next(iteratore))\n",
    "lb.append(next(iteratore))\n",
    "print(lb)\n",
    "\n",
    "jupman.pytut()"
   ]
  },
  {
   "cell_type": "markdown",
   "metadata": {},
   "source": [
    "### Da fare - sconcerto\n",
    "\n",
    "Scrivi del codice che data una lista di caratteri `la`, mette in una lista `lb` tutti i caratteri in posizione dispari presi della lista `la` rovesciata\n",
    "\n",
    "* usa `reversed` e `next`\n",
    "* **NON** modificare `la`\n",
    "* **NON** usare indici negativi\n",
    "\n",
    "Esempio - data\n",
    "\n",
    "```python\n",
    "#      8    7    6    5    4    3    2    1    0                        \n",
    "la = ['s', 'c', 'o', 'n', 'c', 'e', 'r', 't', 'o']\n",
    "lb = []\n",
    "```\n",
    "Dopo il tuo codice deve mostrare\n",
    "\n",
    "```python\n",
    ">>> print(lb)\n",
    "['t', 'e', 'n', 'c']\n",
    ">>> print(la)\n",
    "['s', 'c', 'o', 'n', 'c', 'e', 'r', 't', 'o']\n",
    "```"
   ]
  },
  {
   "cell_type": "code",
   "execution_count": 268,
   "metadata": {},
   "outputs": [
    {
     "name": "stdout",
     "output_type": "stream",
     "text": [
      "['t', 'e', 'n', 'c']\n"
     ]
    },
    {
     "data": {
      "text/html": [
       "\n",
       "        <script src=\"../_static/js/pytutor-embed.bundle.min.js\" type=\"application/javascript\"></script>\n",
       "     \n",
       "        <script id=\"json-jm815cb928-488f-418c-9bc3-531d27bec445\" type=\"application/json\" >\n",
       "            {\"code\": \" \\n#      8    7    6    5    4    3    2    1    0                        \\nla = ['s', 'c', 'o', 'n', 'c', 'e', 'r', 't', 'o']\\niteratore = reversed(la)\\nlb = []\\nnext(iteratore)\\nlb.append(next(iteratore))\\nnext(iteratore)\\nlb.append(next(iteratore))\\nnext(iteratore)\\nlb.append(next(iteratore))\\nnext(iteratore)\\nlb.append(next(iteratore))\\nprint(lb)\", \"trace\": [{\"line\": 3, \"event\": \"step_line\", \"func_name\": \"<module>\", \"globals\": {}, \"ordered_globals\": [], \"stack_to_render\": [], \"heap\": {}, \"stdout\": \"\"}, {\"line\": 4, \"event\": \"step_line\", \"func_name\": \"<module>\", \"globals\": {\"la\": [\"REF\", 1]}, \"ordered_globals\": [\"la\"], \"stack_to_render\": [], \"heap\": {\"1\": [\"LIST\", \"s\", \"c\", \"o\", \"n\", \"c\", \"e\", \"r\", \"t\", \"o\"]}, \"stdout\": \"\"}, {\"line\": 5, \"event\": \"step_line\", \"func_name\": \"<module>\", \"globals\": {\"la\": [\"REF\", 1], \"iteratore\": [\"REF\", 2]}, \"ordered_globals\": [\"la\", \"iteratore\"], \"stack_to_render\": [], \"heap\": {\"1\": [\"LIST\", \"s\", \"c\", \"o\", \"n\", \"c\", \"e\", \"r\", \"t\", \"o\"], \"2\": [\"INSTANCE\", \"list_reverseiterator\"]}, \"stdout\": \"\"}, {\"line\": 6, \"event\": \"step_line\", \"func_name\": \"<module>\", \"globals\": {\"la\": [\"REF\", 1], \"iteratore\": [\"REF\", 2], \"lb\": [\"REF\", 3]}, \"ordered_globals\": [\"la\", \"iteratore\", \"lb\"], \"stack_to_render\": [], \"heap\": {\"1\": [\"LIST\", \"s\", \"c\", \"o\", \"n\", \"c\", \"e\", \"r\", \"t\", \"o\"], \"2\": [\"INSTANCE\", \"list_reverseiterator\"], \"3\": [\"LIST\"]}, \"stdout\": \"\"}, {\"line\": 7, \"event\": \"step_line\", \"func_name\": \"<module>\", \"globals\": {\"la\": [\"REF\", 1], \"iteratore\": [\"REF\", 2], \"lb\": [\"REF\", 3]}, \"ordered_globals\": [\"la\", \"iteratore\", \"lb\"], \"stack_to_render\": [], \"heap\": {\"1\": [\"LIST\", \"s\", \"c\", \"o\", \"n\", \"c\", \"e\", \"r\", \"t\", \"o\"], \"2\": [\"INSTANCE\", \"list_reverseiterator\"], \"3\": [\"LIST\"]}, \"stdout\": \"\"}, {\"line\": 8, \"event\": \"step_line\", \"func_name\": \"<module>\", \"globals\": {\"la\": [\"REF\", 1], \"iteratore\": [\"REF\", 2], \"lb\": [\"REF\", 3]}, \"ordered_globals\": [\"la\", \"iteratore\", \"lb\"], \"stack_to_render\": [], \"heap\": {\"1\": [\"LIST\", \"s\", \"c\", \"o\", \"n\", \"c\", \"e\", \"r\", \"t\", \"o\"], \"2\": [\"INSTANCE\", \"list_reverseiterator\"], \"3\": [\"LIST\", \"t\"]}, \"stdout\": \"\"}, {\"line\": 9, \"event\": \"step_line\", \"func_name\": \"<module>\", \"globals\": {\"la\": [\"REF\", 1], \"iteratore\": [\"REF\", 2], \"lb\": [\"REF\", 3]}, \"ordered_globals\": [\"la\", \"iteratore\", \"lb\"], \"stack_to_render\": [], \"heap\": {\"1\": [\"LIST\", \"s\", \"c\", \"o\", \"n\", \"c\", \"e\", \"r\", \"t\", \"o\"], \"2\": [\"INSTANCE\", \"list_reverseiterator\"], \"3\": [\"LIST\", \"t\"]}, \"stdout\": \"\"}, {\"line\": 10, \"event\": \"step_line\", \"func_name\": \"<module>\", \"globals\": {\"la\": [\"REF\", 1], \"iteratore\": [\"REF\", 2], \"lb\": [\"REF\", 3]}, \"ordered_globals\": [\"la\", \"iteratore\", \"lb\"], \"stack_to_render\": [], \"heap\": {\"1\": [\"LIST\", \"s\", \"c\", \"o\", \"n\", \"c\", \"e\", \"r\", \"t\", \"o\"], \"2\": [\"INSTANCE\", \"list_reverseiterator\"], \"3\": [\"LIST\", \"t\", \"e\"]}, \"stdout\": \"\"}, {\"line\": 11, \"event\": \"step_line\", \"func_name\": \"<module>\", \"globals\": {\"la\": [\"REF\", 1], \"iteratore\": [\"REF\", 2], \"lb\": [\"REF\", 3]}, \"ordered_globals\": [\"la\", \"iteratore\", \"lb\"], \"stack_to_render\": [], \"heap\": {\"1\": [\"LIST\", \"s\", \"c\", \"o\", \"n\", \"c\", \"e\", \"r\", \"t\", \"o\"], \"2\": [\"INSTANCE\", \"list_reverseiterator\"], \"3\": [\"LIST\", \"t\", \"e\"]}, \"stdout\": \"\"}, {\"line\": 12, \"event\": \"step_line\", \"func_name\": \"<module>\", \"globals\": {\"la\": [\"REF\", 1], \"iteratore\": [\"REF\", 2], \"lb\": [\"REF\", 3]}, \"ordered_globals\": [\"la\", \"iteratore\", \"lb\"], \"stack_to_render\": [], \"heap\": {\"1\": [\"LIST\", \"s\", \"c\", \"o\", \"n\", \"c\", \"e\", \"r\", \"t\", \"o\"], \"2\": [\"INSTANCE\", \"list_reverseiterator\"], \"3\": [\"LIST\", \"t\", \"e\", \"n\"]}, \"stdout\": \"\"}, {\"line\": 13, \"event\": \"step_line\", \"func_name\": \"<module>\", \"globals\": {\"la\": [\"REF\", 1], \"iteratore\": [\"REF\", 2], \"lb\": [\"REF\", 3]}, \"ordered_globals\": [\"la\", \"iteratore\", \"lb\"], \"stack_to_render\": [], \"heap\": {\"1\": [\"LIST\", \"s\", \"c\", \"o\", \"n\", \"c\", \"e\", \"r\", \"t\", \"o\"], \"2\": [\"INSTANCE\", \"list_reverseiterator\"], \"3\": [\"LIST\", \"t\", \"e\", \"n\"]}, \"stdout\": \"\"}, {\"line\": 14, \"event\": \"step_line\", \"func_name\": \"<module>\", \"globals\": {\"la\": [\"REF\", 1], \"iteratore\": [\"REF\", 2], \"lb\": [\"REF\", 3]}, \"ordered_globals\": [\"la\", \"iteratore\", \"lb\"], \"stack_to_render\": [], \"heap\": {\"1\": [\"LIST\", \"s\", \"c\", \"o\", \"n\", \"c\", \"e\", \"r\", \"t\", \"o\"], \"2\": [\"INSTANCE\", \"list_reverseiterator\"], \"3\": [\"LIST\", \"t\", \"e\", \"n\", \"c\"]}, \"stdout\": \"\"}, {\"line\": 14, \"event\": \"return\", \"func_name\": \"<module>\", \"globals\": {\"la\": [\"REF\", 1], \"iteratore\": [\"REF\", 2], \"lb\": [\"REF\", 3]}, \"ordered_globals\": [\"la\", \"iteratore\", \"lb\"], \"stack_to_render\": [], \"heap\": {\"1\": [\"LIST\", \"s\", \"c\", \"o\", \"n\", \"c\", \"e\", \"r\", \"t\", \"o\"], \"2\": [\"INSTANCE\", \"list_reverseiterator\"], \"3\": [\"LIST\", \"t\", \"e\", \"n\", \"c\"]}, \"stdout\": \"['t', 'e', 'n', 'c']\\n\"}]}\n",
       "        </script>\n",
       "        <div id=\"jm815cb928-488f-418c-9bc3-531d27bec445\" class=\"pytutorVisualizer\"> </div>\n",
       " \n",
       "        <style>\n",
       "        .vizLayoutTd {\n",
       "            background-color: #fff !important;\n",
       "        }\n",
       "                            \n",
       "\n",
       "        /* 'Edit this code' link, hiding because replaces browser tab !!!*/\n",
       "        #editCodeLinkDiv {\n",
       "            display:none;  \n",
       "        }\n",
       "        </style>   \n",
       "                            \n",
       "        <script>\n",
       "        (function(){\n",
       "\n",
       "            var trace = JSON.parse(document.getElementById('json-jm815cb928-488f-418c-9bc3-531d27bec445').innerHTML);                                        \n",
       "            // NOTE 1: id without #\n",
       "            // NOTE 2 - maybe there are more predictable ways, but this will work anyway\n",
       "            //        - id should be number\n",
       "            visualizerIdOverride = Math.trunc(Math.random() * 100000000000)\n",
       "            addVisualizerToPage(trace, 'jm815cb928-488f-418c-9bc3-531d27bec445',{'embeddedMode' : false,\n",
       "                                             'visualizerIdOverride':visualizerIdOverride})  \n",
       "            \n",
       "            \n",
       "            // set overflow for pytuts - need to do in python as css \n",
       "            // does not allow parent selection\n",
       "            var pytuts = $('.pytutorVisualizer')\n",
       "            pytuts.closest('div.output_html.rendered_html.output_result')\n",
       "                    .css('overflow-x', 'visible')\n",
       "        \n",
       "            //pytuts.closest('div.output_html.rendered_html.output_result')\n",
       "            //      .css('background-color','red')                \n",
       "            \n",
       "        })()\n",
       "        </script>\n",
       "                \n",
       "                "
      ],
      "text/plain": [
       "<IPython.core.display.HTML object>"
      ]
     },
     "execution_count": 268,
     "metadata": {},
     "output_type": "execute_result"
    }
   ],
   "source": [
    "#      8    7    6    5    4    3    2    1    0                        \n",
    "la = ['s', 'c', 'o', 'n', 'c', 'e', 'r', 't', 'o']\n",
    "iteratore = reversed(la)\n",
    "lb = []\n",
    "next(iteratore)\n",
    "lb.append(next(iteratore))\n",
    "next(iteratore)\n",
    "lb.append(next(iteratore))\n",
    "next(iteratore)\n",
    "lb.append(next(iteratore))\n",
    "next(iteratore)\n",
    "lb.append(next(iteratore))\n",
    "print(lb)\n",
    "\n",
    "jupman.pytut()"
   ]
  },
  {
   "cell_type": "markdown",
   "metadata": {},
   "source": [
    "### Materializzare un iteratore"
   ]
  },
  {
   "cell_type": "markdown",
   "metadata": {},
   "source": [
    "Per fortuna per ottenere subito una lista dall'iteratore c'è un modo meno laborioso.\n",
    "\n",
    "Abbiamo visto che quando vogliamo creare una nuova lista a partire da una sequenza, possiamo usare `list` come se fosse una funzione. Possiamo farlo anche in questo caso, interpretando l'iteratore come se fosse una sequenza:"
   ]
  },
  {
   "cell_type": "code",
   "execution_count": 263,
   "metadata": {},
   "outputs": [
    {
     "data": {
      "text/plain": [
       "['a', 'v', 'o', 'r', 'p']"
      ]
     },
     "execution_count": 263,
     "metadata": {},
     "output_type": "execute_result"
    }
   ],
   "source": [
    "la = ['p', 'r', 'o', 'v', 'a']\n",
    "list( reversed(la) )"
   ]
  },
  {
   "cell_type": "markdown",
   "metadata": {},
   "source": [
    "Nota bene abbiamo generato una NUOVA lista, quella originale associata ad `la` è sempre la stessa:"
   ]
  },
  {
   "cell_type": "code",
   "execution_count": 191,
   "metadata": {},
   "outputs": [
    {
     "data": {
      "text/plain": [
       "['p', 'r', 'o', 'v', 'a']"
      ]
     },
     "execution_count": 191,
     "metadata": {},
     "output_type": "execute_result"
    }
   ],
   "source": [
    "la"
   ]
  },
  {
   "cell_type": "markdown",
   "metadata": {},
   "source": [
    "Vediamo meglio cosa è successo usando Python Tutor (per evidenziare i passaggi abbiamo creato delle variabili extra):"
   ]
  },
  {
   "cell_type": "code",
   "execution_count": 259,
   "metadata": {},
   "outputs": [
    {
     "name": "stdout",
     "output_type": "stream",
     "text": [
      "la è ['p', 'r', 'o', 'v', 'a']\n",
      "nuova è ['a', 'v', 'o', 'r', 'p']\n"
     ]
    },
    {
     "data": {
      "text/html": [
       "\n",
       "        <script src=\"../_static/js/pytutor-embed.bundle.min.js\" type=\"application/javascript\"></script>\n",
       "     \n",
       "        <script id=\"json-jmcb8ff403-2113-4456-b121-beab05d9ce9d\" type=\"application/json\" >\n",
       "            {\"code\": \" \\nla = ['p','r','o','v','a']\\niteratore = reversed(la)\\nnuova = list(iteratore)\\nprint(\\\"la \\u00e8\\\",la)\\nprint(\\\"nuova \\u00e8\\\",nuova)\", \"trace\": [{\"line\": 2, \"event\": \"step_line\", \"func_name\": \"<module>\", \"globals\": {}, \"ordered_globals\": [], \"stack_to_render\": [], \"heap\": {}, \"stdout\": \"\"}, {\"line\": 3, \"event\": \"step_line\", \"func_name\": \"<module>\", \"globals\": {\"la\": [\"REF\", 1]}, \"ordered_globals\": [\"la\"], \"stack_to_render\": [], \"heap\": {\"1\": [\"LIST\", \"p\", \"r\", \"o\", \"v\", \"a\"]}, \"stdout\": \"\"}, {\"line\": 4, \"event\": \"step_line\", \"func_name\": \"<module>\", \"globals\": {\"la\": [\"REF\", 1], \"iteratore\": [\"REF\", 2]}, \"ordered_globals\": [\"la\", \"iteratore\"], \"stack_to_render\": [], \"heap\": {\"1\": [\"LIST\", \"p\", \"r\", \"o\", \"v\", \"a\"], \"2\": [\"INSTANCE\", \"list_reverseiterator\"]}, \"stdout\": \"\"}, {\"line\": 5, \"event\": \"step_line\", \"func_name\": \"<module>\", \"globals\": {\"la\": [\"REF\", 1], \"iteratore\": [\"REF\", 2], \"nuova\": [\"REF\", 3]}, \"ordered_globals\": [\"la\", \"iteratore\", \"nuova\"], \"stack_to_render\": [], \"heap\": {\"1\": [\"LIST\", \"p\", \"r\", \"o\", \"v\", \"a\"], \"2\": [\"INSTANCE\", \"list_reverseiterator\"], \"3\": [\"LIST\", \"a\", \"v\", \"o\", \"r\", \"p\"]}, \"stdout\": \"\"}, {\"line\": 6, \"event\": \"step_line\", \"func_name\": \"<module>\", \"globals\": {\"la\": [\"REF\", 1], \"iteratore\": [\"REF\", 2], \"nuova\": [\"REF\", 3]}, \"ordered_globals\": [\"la\", \"iteratore\", \"nuova\"], \"stack_to_render\": [], \"heap\": {\"1\": [\"LIST\", \"p\", \"r\", \"o\", \"v\", \"a\"], \"2\": [\"INSTANCE\", \"list_reverseiterator\"], \"3\": [\"LIST\", \"a\", \"v\", \"o\", \"r\", \"p\"]}, \"stdout\": \"la \\u00e8 ['p', 'r', 'o', 'v', 'a']\\n\"}, {\"line\": 6, \"event\": \"return\", \"func_name\": \"<module>\", \"globals\": {\"la\": [\"REF\", 1], \"iteratore\": [\"REF\", 2], \"nuova\": [\"REF\", 3]}, \"ordered_globals\": [\"la\", \"iteratore\", \"nuova\"], \"stack_to_render\": [], \"heap\": {\"1\": [\"LIST\", \"p\", \"r\", \"o\", \"v\", \"a\"], \"2\": [\"INSTANCE\", \"list_reverseiterator\"], \"3\": [\"LIST\", \"a\", \"v\", \"o\", \"r\", \"p\"]}, \"stdout\": \"la \\u00e8 ['p', 'r', 'o', 'v', 'a']\\nnuova \\u00e8 ['a', 'v', 'o', 'r', 'p']\\n\"}]}\n",
       "        </script>\n",
       "        <div id=\"jmcb8ff403-2113-4456-b121-beab05d9ce9d\" class=\"pytutorVisualizer\"> </div>\n",
       " \n",
       "        <style>\n",
       "        .vizLayoutTd {\n",
       "            background-color: #fff !important;\n",
       "        }\n",
       "                            \n",
       "\n",
       "        /* 'Edit this code' link, hiding because replaces browser tab !!!*/\n",
       "        #editCodeLinkDiv {\n",
       "            display:none;  \n",
       "        }\n",
       "        </style>   \n",
       "                            \n",
       "        <script>\n",
       "        (function(){\n",
       "\n",
       "            var trace = JSON.parse(document.getElementById('json-jmcb8ff403-2113-4456-b121-beab05d9ce9d').innerHTML);                                        \n",
       "            // NOTE 1: id without #\n",
       "            // NOTE 2 - maybe there are more predictable ways, but this will work anyway\n",
       "            //        - id should be number\n",
       "            visualizerIdOverride = Math.trunc(Math.random() * 100000000000)\n",
       "            addVisualizerToPage(trace, 'jmcb8ff403-2113-4456-b121-beab05d9ce9d',{'embeddedMode' : false,\n",
       "                                             'visualizerIdOverride':visualizerIdOverride})  \n",
       "            \n",
       "            \n",
       "            // set overflow for pytuts - need to do in python as css \n",
       "            // does not allow parent selection\n",
       "            var pytuts = $('.pytutorVisualizer')\n",
       "            pytuts.closest('div.output_html.rendered_html.output_result')\n",
       "                    .css('overflow-x', 'visible')\n",
       "        \n",
       "            //pytuts.closest('div.output_html.rendered_html.output_result')\n",
       "            //      .css('background-color','red')                \n",
       "            \n",
       "        })()\n",
       "        </script>\n",
       "                \n",
       "                "
      ],
      "text/plain": [
       "<IPython.core.display.HTML object>"
      ]
     },
     "execution_count": 259,
     "metadata": {},
     "output_type": "execute_result"
    }
   ],
   "source": [
    "la = ['p','r','o','v','a']\n",
    "iteratore = reversed(la)\n",
    "nuova = list(iteratore)\n",
    "print(\"la è\",la)\n",
    "print(\"nuova è\",nuova)\n",
    "\n",
    "jupman.pytut()"
   ]
  },
  {
   "cell_type": "markdown",
   "metadata": {},
   "source": [
    "<div class=\"alert alert-warning\">\n",
    "\n",
    "**ATTENZIONE:** `list` **consuma l'iteratore!**\n",
    "\n",
    "</div>"
   ]
  },
  {
   "cell_type": "markdown",
   "metadata": {},
   "source": [
    "Se provi a chiamare due volte `list` sullo stesso iteratore, otterrai una lista vuota:"
   ]
  },
  {
   "cell_type": "code",
   "execution_count": 214,
   "metadata": {},
   "outputs": [],
   "source": [
    "la = ['p','r','o','v','a']\n",
    "iteratore = reversed(la)"
   ]
  },
  {
   "cell_type": "code",
   "execution_count": 215,
   "metadata": {},
   "outputs": [],
   "source": [
    "nuova1 = list(iteratore)"
   ]
  },
  {
   "cell_type": "code",
   "execution_count": 216,
   "metadata": {},
   "outputs": [
    {
     "data": {
      "text/plain": [
       "['a', 'v', 'o', 'r', 'p']"
      ]
     },
     "execution_count": 216,
     "metadata": {},
     "output_type": "execute_result"
    }
   ],
   "source": [
    "nuova1"
   ]
  },
  {
   "cell_type": "code",
   "execution_count": 217,
   "metadata": {},
   "outputs": [],
   "source": [
    "nuova2 = list(iteratore)"
   ]
  },
  {
   "cell_type": "code",
   "execution_count": 269,
   "metadata": {},
   "outputs": [
    {
     "data": {
      "text/plain": [
       "[]"
      ]
     },
     "execution_count": 269,
     "metadata": {},
     "output_type": "execute_result"
    }
   ],
   "source": [
    "nuova2"
   ]
  },
  {
   "cell_type": "markdown",
   "metadata": {},
   "source": [
    "E se volessimo accedere direttamente ad una posizione specifica della sequenza generata dall'iteratore? Proviamo ad estrarre direttamente la lettera ad indice 3 qui:"
   ]
  },
  {
   "cell_type": "code",
   "execution_count": 257,
   "metadata": {},
   "outputs": [],
   "source": [
    "#      0    1    2    3    4    \n",
    "la = ['g', 'r', 'a', 'n', 'a']\n",
    "iteratore = reversed(la)"
   ]
  },
  {
   "cell_type": "markdown",
   "metadata": {},
   "source": [
    "```python\n",
    ">>> iteratore[3]\n",
    "---------------------------------------------------------------------------\n",
    "TypeError                                 Traceback (most recent call last)\n",
    "<ipython-input-254-ae17e58dcbde> in <module>\n",
    "      1 la = ['t', 'e', 'n', 't', 'a', 'z', 'i', 'o', 'n', 'e']\n",
    "      2 iteratore = reversed(la)\n",
    "----> 3 iteratore[3]\n",
    "\n",
    "TypeError: 'list_reverseiterator' object is not subscriptable\n",
    "```"
   ]
  },
  {
   "cell_type": "markdown",
   "metadata": {},
   "source": [
    "... purtroppo ci becchiamo un errore. \n",
    "\n",
    "Non ci restano che due alternative:\n",
    "    \n",
    "a) prima convertiamo a lista e poi usiamo le quadre\n",
    "\n",
    "b) chiamiamo 4 volte `next` (ricordati che gli indici partono da zero)"
   ]
  },
  {
   "cell_type": "markdown",
   "metadata": {},
   "source": [
    "L'opzione a) spesso sembra comoda, ma fai attenzione: **convertire a lista un'iteratore crea una NUOVA lista in memoria**, se la lista di partenza è molto grande e/o si fa questa operazione molte volte si rischia di occupare memoria per niente."
   ]
  },
  {
   "cell_type": "code",
   "execution_count": null,
   "metadata": {},
   "outputs": [],
   "source": []
  },
  {
   "cell_type": "markdown",
   "metadata": {},
   "source": [
    "### Da fare"
   ]
  },
  {
   "cell_type": "markdown",
   "metadata": {},
   "source": [
    "**DOMANDA** Il seguente codice, che effetto produce?\n",
    "\n",
    "```python\n",
    "la = ['p','o','n','t','e']\n",
    "lb = list(reversed(reversed(la)))\n",
    "\n",
    "```"
   ]
  },
  {
   "cell_type": "code",
   "execution_count": null,
   "metadata": {},
   "outputs": [],
   "source": []
  },
  {
   "cell_type": "markdown",
   "metadata": {},
   "source": [
    "## List comprehension\n",
    "\n"
   ]
  },
  {
   "cell_type": "markdown",
   "metadata": {
    "colab_type": "text",
    "id": "BbNGWT5PeX_x"
   },
   "source": [
    "\n",
    "**Riferimenti:**: [Pensare in Python - Capitolo 19.2](https://davidleoni.github.io/ThinkPythonItalian/html/thinkpython2020.html#sec227)),\n",
    "\n",
    "Le list comprehension servono per generare una NUOVA liste eseguendo la stessa operazione su tutti gli elementi di una sequenza di partenza. Come sintassi imitano le liste, infatti iniziano e finiscono con le parentesi quadre, ma dentro contengono un `for` speciale per ciclare dentro un sequenza :"
   ]
  },
  {
   "cell_type": "code",
   "execution_count": 224,
   "metadata": {},
   "outputs": [
    {
     "data": {
      "text/plain": [
       "[4, 10, 6, 8]"
      ]
     },
     "execution_count": 224,
     "metadata": {},
     "output_type": "execute_result"
    }
   ],
   "source": [
    "numeri = [2,5,3,4]\n",
    "\n",
    "raddoppiati = [x*2 for x in numeri]\n",
    "\n",
    "raddoppiati"
   ]
  },
  {
   "cell_type": "markdown",
   "metadata": {},
   "source": [
    "Nota che la variabile `numeri` è ancora associata alla lista originale:"
   ]
  },
  {
   "cell_type": "code",
   "execution_count": 226,
   "metadata": {},
   "outputs": [
    {
     "data": {
      "text/plain": [
       "[2, 5, 3, 4]"
      ]
     },
     "execution_count": 226,
     "metadata": {},
     "output_type": "execute_result"
    }
   ],
   "source": [
    "numeri"
   ]
  },
  {
   "cell_type": "markdown",
   "metadata": {},
   "source": [
    "`x` è un nome di variabile che ci siamo inventati noi, e diciamo a Python di scorrere la lista `numeri`: ad ogni iterazione, la variabile `x` viene associata ad un diverso valore della lista `numeri`. Tale valore lo possiamo riusare nell'espressione a sinistra del `for`, che in questo caso è `x*2`."
   ]
  },
  {
   "cell_type": "markdown",
   "metadata": {},
   "source": [
    "In questo caso abbiamo usato `x`, ma potremmo usare un qualunque nome, per esempio questo codice è  equivalente al precedente:"
   ]
  },
  {
   "cell_type": "code",
   "execution_count": 230,
   "metadata": {},
   "outputs": [
    {
     "data": {
      "text/plain": [
       "[4, 10, 6, 8]"
      ]
     },
     "execution_count": 230,
     "metadata": {},
     "output_type": "execute_result"
    }
   ],
   "source": [
    "numeri = [2,5,3,4]\n",
    "\n",
    "raddoppiati = [numero * 2 for numero in numeri]\n",
    "\n",
    "raddoppiati"
   ]
  },
  {
   "cell_type": "markdown",
   "metadata": {},
   "source": [
    "Nella parte a sinistra del `for` possiamo scrivere qualunque espressione che produca un valore, per esempio qua scriviamo `x + 1` per aumentare di 1 tutti i numeri della lista originale. "
   ]
  },
  {
   "cell_type": "code",
   "execution_count": 231,
   "metadata": {},
   "outputs": [
    {
     "data": {
      "text/plain": [
       "[3, 6, 4, 5]"
      ]
     },
     "execution_count": 231,
     "metadata": {},
     "output_type": "execute_result"
    }
   ],
   "source": [
    "numeri = [2,5,3,4]\n",
    "\n",
    "aumentati = [x + 1 for x in numeri]\n",
    "\n",
    "aumentati"
   ]
  },
  {
   "cell_type": "markdown",
   "metadata": {},
   "source": [
    "**DOMANDA**: Questo codice cosa produrrà? Se lo visualizziamo in Python Tutor, `la` ed `lb` punteranno ad oggetti diversi?\n",
    "\n",
    "```python\n",
    "la = [7,5,6,9]\n",
    "lb = [x for x in la]\n",
    "\n",
    "```"
   ]
  },
  {
   "cell_type": "markdown",
   "metadata": {},
   "source": [
    "**RISPOSTA**: Quando viene eseguita `[x for x in la]`  alla prima iterazione `x` vale `7`, alla seconda `'5`, alla terza `6` e via dicendo. Nella espressione a sinistra del `for` abbiamo messo solo `x` quindi come risultato dell'espressione otterremo lo stesso identico numero preso dalla stringa originale.\n",
    "\n",
    "Il codice produrrà una NUOVA lista `[7,5,6,9]` e la associerà alla variabile `lb`."
   ]
  },
  {
   "cell_type": "code",
   "execution_count": 233,
   "metadata": {},
   "outputs": [
    {
     "data": {
      "text/html": [
       "\n",
       "        <script src=\"../_static/js/pytutor-embed.bundle.min.js\" type=\"application/javascript\"></script>\n",
       "     \n",
       "        <script id=\"json-jmea6815a2-6fe9-446c-8498-81419bdb9d5b\" type=\"application/json\" >\n",
       "            {\"code\": \" \\nla = [7,5,6,9]\\nlb = [x for x in la]\", \"trace\": [{\"line\": 2, \"event\": \"step_line\", \"func_name\": \"<module>\", \"globals\": {}, \"ordered_globals\": [], \"stack_to_render\": [], \"heap\": {}, \"stdout\": \"\"}, {\"line\": 3, \"event\": \"step_line\", \"func_name\": \"<module>\", \"globals\": {\"la\": [\"REF\", 1]}, \"ordered_globals\": [\"la\"], \"stack_to_render\": [], \"heap\": {\"1\": [\"LIST\", 7, 5, 6, 9]}, \"stdout\": \"\"}, {\"line\": 3, \"event\": \"call\", \"func_name\": \"<listcomp>\", \"globals\": {\"la\": [\"REF\", 1]}, \"ordered_globals\": [\"la\"], \"stack_to_render\": [{\"func_name\": \"<listcomp>\", \"is_parent\": false, \"frame_id\": 1, \"parent_frame_id_list\": [], \"encoded_locals\": {\".0\": [\"REF\", 2]}, \"ordered_varnames\": [\".0\"], \"is_zombie\": false, \"is_highlighted\": true, \"unique_hash\": \"<listcomp>_f1\"}], \"heap\": {\"2\": [\"INSTANCE\", \"list_iterator\"], \"1\": [\"LIST\", 7, 5, 6, 9]}, \"stdout\": \"\"}, {\"line\": 3, \"event\": \"step_line\", \"func_name\": \"<listcomp>\", \"globals\": {\"la\": [\"REF\", 1]}, \"ordered_globals\": [\"la\"], \"stack_to_render\": [{\"func_name\": \"<listcomp>\", \"is_parent\": false, \"frame_id\": 1, \"parent_frame_id_list\": [], \"encoded_locals\": {\".0\": [\"REF\", 2]}, \"ordered_varnames\": [\".0\"], \"is_zombie\": false, \"is_highlighted\": true, \"unique_hash\": \"<listcomp>_f1\"}], \"heap\": {\"2\": [\"INSTANCE\", \"list_iterator\"], \"1\": [\"LIST\", 7, 5, 6, 9]}, \"stdout\": \"\"}, {\"line\": 3, \"event\": \"step_line\", \"func_name\": \"<listcomp>\", \"globals\": {\"la\": [\"REF\", 1]}, \"ordered_globals\": [\"la\"], \"stack_to_render\": [{\"func_name\": \"<listcomp>\", \"is_parent\": false, \"frame_id\": 1, \"parent_frame_id_list\": [], \"encoded_locals\": {\".0\": [\"REF\", 2], \"x\": 7}, \"ordered_varnames\": [\".0\", \"x\"], \"is_zombie\": false, \"is_highlighted\": true, \"unique_hash\": \"<listcomp>_f1\"}], \"heap\": {\"2\": [\"INSTANCE\", \"list_iterator\"], \"1\": [\"LIST\", 7, 5, 6, 9]}, \"stdout\": \"\"}, {\"line\": 3, \"event\": \"step_line\", \"func_name\": \"<listcomp>\", \"globals\": {\"la\": [\"REF\", 1]}, \"ordered_globals\": [\"la\"], \"stack_to_render\": [{\"func_name\": \"<listcomp>\", \"is_parent\": false, \"frame_id\": 1, \"parent_frame_id_list\": [], \"encoded_locals\": {\".0\": [\"REF\", 2], \"x\": 5}, \"ordered_varnames\": [\".0\", \"x\"], \"is_zombie\": false, \"is_highlighted\": true, \"unique_hash\": \"<listcomp>_f1\"}], \"heap\": {\"2\": [\"INSTANCE\", \"list_iterator\"], \"1\": [\"LIST\", 7, 5, 6, 9]}, \"stdout\": \"\"}, {\"line\": 3, \"event\": \"step_line\", \"func_name\": \"<listcomp>\", \"globals\": {\"la\": [\"REF\", 1]}, \"ordered_globals\": [\"la\"], \"stack_to_render\": [{\"func_name\": \"<listcomp>\", \"is_parent\": false, \"frame_id\": 1, \"parent_frame_id_list\": [], \"encoded_locals\": {\".0\": [\"REF\", 2], \"x\": 6}, \"ordered_varnames\": [\".0\", \"x\"], \"is_zombie\": false, \"is_highlighted\": true, \"unique_hash\": \"<listcomp>_f1\"}], \"heap\": {\"2\": [\"INSTANCE\", \"list_iterator\"], \"1\": [\"LIST\", 7, 5, 6, 9]}, \"stdout\": \"\"}, {\"line\": 3, \"event\": \"step_line\", \"func_name\": \"<listcomp>\", \"globals\": {\"la\": [\"REF\", 1]}, \"ordered_globals\": [\"la\"], \"stack_to_render\": [{\"func_name\": \"<listcomp>\", \"is_parent\": false, \"frame_id\": 1, \"parent_frame_id_list\": [], \"encoded_locals\": {\".0\": [\"REF\", 2], \"x\": 9}, \"ordered_varnames\": [\".0\", \"x\"], \"is_zombie\": false, \"is_highlighted\": true, \"unique_hash\": \"<listcomp>_f1\"}], \"heap\": {\"2\": [\"INSTANCE\", \"list_iterator\"], \"1\": [\"LIST\", 7, 5, 6, 9]}, \"stdout\": \"\"}, {\"line\": 3, \"event\": \"return\", \"func_name\": \"<listcomp>\", \"globals\": {\"la\": [\"REF\", 1]}, \"ordered_globals\": [\"la\"], \"stack_to_render\": [{\"func_name\": \"<listcomp>\", \"is_parent\": false, \"frame_id\": 1, \"parent_frame_id_list\": [], \"encoded_locals\": {\".0\": [\"REF\", 2], \"x\": 9, \"__return__\": [\"REF\", 3]}, \"ordered_varnames\": [\".0\", \"x\", \"__return__\"], \"is_zombie\": false, \"is_highlighted\": true, \"unique_hash\": \"<listcomp>_f1\"}], \"heap\": {\"2\": [\"INSTANCE\", \"list_iterator\"], \"3\": [\"LIST\", 7, 5, 6, 9], \"1\": [\"LIST\", 7, 5, 6, 9]}, \"stdout\": \"\"}, {\"line\": 3, \"event\": \"return\", \"func_name\": \"<module>\", \"globals\": {\"la\": [\"REF\", 1], \"lb\": [\"REF\", 3]}, \"ordered_globals\": [\"la\", \"lb\"], \"stack_to_render\": [], \"heap\": {\"1\": [\"LIST\", 7, 5, 6, 9], \"3\": [\"LIST\", 7, 5, 6, 9]}, \"stdout\": \"\"}]}\n",
       "        </script>\n",
       "        <div id=\"jmea6815a2-6fe9-446c-8498-81419bdb9d5b\" class=\"pytutorVisualizer\"> </div>\n",
       " \n",
       "        <style>\n",
       "        .vizLayoutTd {\n",
       "            background-color: #fff !important;\n",
       "        }\n",
       "                            \n",
       "\n",
       "        /* 'Edit this code' link, hiding because replaces browser tab !!!*/\n",
       "        #editCodeLinkDiv {\n",
       "            display:none;  \n",
       "        }\n",
       "        </style>   \n",
       "                            \n",
       "        <script>\n",
       "        (function(){\n",
       "\n",
       "            var trace = JSON.parse(document.getElementById('json-jmea6815a2-6fe9-446c-8498-81419bdb9d5b').innerHTML);                                        \n",
       "            // NOTE 1: id without #\n",
       "            // NOTE 2 - maybe there are more predictable ways, but this will work anyway\n",
       "            //        - id should be number\n",
       "            visualizerIdOverride = Math.trunc(Math.random() * 100000000000)\n",
       "            addVisualizerToPage(trace, 'jmea6815a2-6fe9-446c-8498-81419bdb9d5b',{'embeddedMode' : false,\n",
       "                                             'visualizerIdOverride':visualizerIdOverride})  \n",
       "            \n",
       "            \n",
       "            // set overflow for pytuts - need to do in python as css \n",
       "            // does not allow parent selection\n",
       "            var pytuts = $('.pytutorVisualizer')\n",
       "            pytuts.closest('div.output_html.rendered_html.output_result')\n",
       "                    .css('overflow-x', 'visible')\n",
       "        \n",
       "            //pytuts.closest('div.output_html.rendered_html.output_result')\n",
       "            //      .css('background-color','red')                \n",
       "            \n",
       "        })()\n",
       "        </script>\n",
       "                \n",
       "                "
      ],
      "text/plain": [
       "<IPython.core.display.HTML object>"
      ]
     },
     "execution_count": 233,
     "metadata": {},
     "output_type": "execute_result"
    }
   ],
   "source": [
    "la = [7,5,6,9]\n",
    "lb = [x for x in la]\n",
    "\n",
    "jupman.pytut()"
   ]
  },
  {
   "cell_type": "markdown",
   "metadata": {},
   "source": [
    "### Da fare - "
   ]
  },
  {
   "cell_type": "markdown",
   "metadata": {},
   "source": [
    "### list comprehension su stringhe"
   ]
  },
  {
   "cell_type": "markdown",
   "metadata": {},
   "source": [
    "**DOMANDA**: Questo codice cosa produrrà?\n",
    "\n",
    "```python\n",
    "[x for x in 'domanda']\n",
    "```"
   ]
  },
  {
   "cell_type": "markdown",
   "metadata": {},
   "source": [
    "**RISPOSTA**: Produrrà `['d', 'o', 'm', 'a', 'n', 'd', 'a']` \n",
    "\n",
    "Visto che `\"domanda\"` è una stringa, se la interpretiamo come sequenza ogni suo elemento è un carattere, quindi alla prima iterazione `x` vale `'d'`, alla seconda `'o'`, alla terza `'m'` e via dicendo. Nella espressione a sinistra del `for` abbiamo messo solo `x` quindi come risultato dell'espressione otterremo lo stesso identico carattere preso dalla stringa originale."
   ]
  },
  {
   "cell_type": "code",
   "execution_count": 116,
   "metadata": {
    "colab": {
     "autoexec": {
      "startup": false,
      "wait_interval": 0
     }
    },
    "colab_type": "code",
    "id": "I7fl60rudyTU"
   },
   "outputs": [],
   "source": [
    "animali = ['cani', 'gatti', 'scoiattoli', 'alci']\n",
    "\n",
    "nuova_lista = [animale.capitalize() for animale in animali]"
   ]
  },
  {
   "cell_type": "code",
   "execution_count": 117,
   "metadata": {
    "colab": {
     "autoexec": {
      "startup": false,
      "wait_interval": 0
     },
     "base_uri": "https://localhost:8080/",
     "height": 34,
     "output_extras": [
      {
       "item_id": 1
      }
     ]
    },
    "colab_type": "code",
    "executionInfo": {
     "elapsed": 483,
     "status": "ok",
     "timestamp": 1519033974548,
     "user": {
      "displayName": "David Leoni",
      "photoUrl": "https://lh3.googleusercontent.com/a/default-user=s128",
      "userId": "102920557909426557439"
     },
     "user_tz": -60
    },
    "id": "fSywtAYFdgyY",
    "outputId": "f9131bc7-11a0-4cb8-f708-5d101e51d6b1"
   },
   "outputs": [
    {
     "data": {
      "text/plain": [
       "['Cani', 'Gatti', 'Scoiattoli', 'Alci']"
      ]
     },
     "execution_count": 117,
     "metadata": {},
     "output_type": "execute_result"
    }
   ],
   "source": [
    "nuova_lista"
   ]
  },
  {
   "cell_type": "markdown",
   "metadata": {},
   "source": [
    "Vediamo che succede con Python Tutor: "
   ]
  },
  {
   "cell_type": "code",
   "execution_count": 218,
   "metadata": {},
   "outputs": [
    {
     "data": {
      "text/html": [
       "\n",
       "        <script src=\"../_static/js/pytutor-embed.bundle.min.js\" type=\"application/javascript\"></script>\n",
       "     \n",
       "        <script id=\"json-jmd3b2e504-3292-4631-a9e8-28dda390c93b\" type=\"application/json\" >\n",
       "            {\"code\": \" \\nanimali = ['cani', 'gatti', 'scoiattoli', 'alci']\\n\\nnuova_lista = [animale.capitalize() for animale in animali]\", \"trace\": [{\"line\": 2, \"event\": \"step_line\", \"func_name\": \"<module>\", \"globals\": {}, \"ordered_globals\": [], \"stack_to_render\": [], \"heap\": {}, \"stdout\": \"\"}, {\"line\": 4, \"event\": \"step_line\", \"func_name\": \"<module>\", \"globals\": {\"animali\": [\"REF\", 1]}, \"ordered_globals\": [\"animali\"], \"stack_to_render\": [], \"heap\": {\"1\": [\"LIST\", \"cani\", \"gatti\", \"scoiattoli\", \"alci\"]}, \"stdout\": \"\"}, {\"line\": 4, \"event\": \"call\", \"func_name\": \"<listcomp>\", \"globals\": {\"animali\": [\"REF\", 1]}, \"ordered_globals\": [\"animali\"], \"stack_to_render\": [{\"func_name\": \"<listcomp>\", \"is_parent\": false, \"frame_id\": 1, \"parent_frame_id_list\": [], \"encoded_locals\": {\".0\": [\"REF\", 2]}, \"ordered_varnames\": [\".0\"], \"is_zombie\": false, \"is_highlighted\": true, \"unique_hash\": \"<listcomp>_f1\"}], \"heap\": {\"2\": [\"INSTANCE\", \"list_iterator\"], \"1\": [\"LIST\", \"cani\", \"gatti\", \"scoiattoli\", \"alci\"]}, \"stdout\": \"\"}, {\"line\": 4, \"event\": \"step_line\", \"func_name\": \"<listcomp>\", \"globals\": {\"animali\": [\"REF\", 1]}, \"ordered_globals\": [\"animali\"], \"stack_to_render\": [{\"func_name\": \"<listcomp>\", \"is_parent\": false, \"frame_id\": 1, \"parent_frame_id_list\": [], \"encoded_locals\": {\".0\": [\"REF\", 2]}, \"ordered_varnames\": [\".0\"], \"is_zombie\": false, \"is_highlighted\": true, \"unique_hash\": \"<listcomp>_f1\"}], \"heap\": {\"2\": [\"INSTANCE\", \"list_iterator\"], \"1\": [\"LIST\", \"cani\", \"gatti\", \"scoiattoli\", \"alci\"]}, \"stdout\": \"\"}, {\"line\": 4, \"event\": \"step_line\", \"func_name\": \"<listcomp>\", \"globals\": {\"animali\": [\"REF\", 1]}, \"ordered_globals\": [\"animali\"], \"stack_to_render\": [{\"func_name\": \"<listcomp>\", \"is_parent\": false, \"frame_id\": 1, \"parent_frame_id_list\": [], \"encoded_locals\": {\".0\": [\"REF\", 2], \"animale\": \"cani\"}, \"ordered_varnames\": [\".0\", \"animale\"], \"is_zombie\": false, \"is_highlighted\": true, \"unique_hash\": \"<listcomp>_f1\"}], \"heap\": {\"2\": [\"INSTANCE\", \"list_iterator\"], \"1\": [\"LIST\", \"cani\", \"gatti\", \"scoiattoli\", \"alci\"]}, \"stdout\": \"\"}, {\"line\": 4, \"event\": \"step_line\", \"func_name\": \"<listcomp>\", \"globals\": {\"animali\": [\"REF\", 1]}, \"ordered_globals\": [\"animali\"], \"stack_to_render\": [{\"func_name\": \"<listcomp>\", \"is_parent\": false, \"frame_id\": 1, \"parent_frame_id_list\": [], \"encoded_locals\": {\".0\": [\"REF\", 2], \"animale\": \"gatti\"}, \"ordered_varnames\": [\".0\", \"animale\"], \"is_zombie\": false, \"is_highlighted\": true, \"unique_hash\": \"<listcomp>_f1\"}], \"heap\": {\"2\": [\"INSTANCE\", \"list_iterator\"], \"1\": [\"LIST\", \"cani\", \"gatti\", \"scoiattoli\", \"alci\"]}, \"stdout\": \"\"}, {\"line\": 4, \"event\": \"step_line\", \"func_name\": \"<listcomp>\", \"globals\": {\"animali\": [\"REF\", 1]}, \"ordered_globals\": [\"animali\"], \"stack_to_render\": [{\"func_name\": \"<listcomp>\", \"is_parent\": false, \"frame_id\": 1, \"parent_frame_id_list\": [], \"encoded_locals\": {\".0\": [\"REF\", 2], \"animale\": \"scoiattoli\"}, \"ordered_varnames\": [\".0\", \"animale\"], \"is_zombie\": false, \"is_highlighted\": true, \"unique_hash\": \"<listcomp>_f1\"}], \"heap\": {\"2\": [\"INSTANCE\", \"list_iterator\"], \"1\": [\"LIST\", \"cani\", \"gatti\", \"scoiattoli\", \"alci\"]}, \"stdout\": \"\"}, {\"line\": 4, \"event\": \"step_line\", \"func_name\": \"<listcomp>\", \"globals\": {\"animali\": [\"REF\", 1]}, \"ordered_globals\": [\"animali\"], \"stack_to_render\": [{\"func_name\": \"<listcomp>\", \"is_parent\": false, \"frame_id\": 1, \"parent_frame_id_list\": [], \"encoded_locals\": {\".0\": [\"REF\", 2], \"animale\": \"alci\"}, \"ordered_varnames\": [\".0\", \"animale\"], \"is_zombie\": false, \"is_highlighted\": true, \"unique_hash\": \"<listcomp>_f1\"}], \"heap\": {\"2\": [\"INSTANCE\", \"list_iterator\"], \"1\": [\"LIST\", \"cani\", \"gatti\", \"scoiattoli\", \"alci\"]}, \"stdout\": \"\"}, {\"line\": 4, \"event\": \"return\", \"func_name\": \"<listcomp>\", \"globals\": {\"animali\": [\"REF\", 1]}, \"ordered_globals\": [\"animali\"], \"stack_to_render\": [{\"func_name\": \"<listcomp>\", \"is_parent\": false, \"frame_id\": 1, \"parent_frame_id_list\": [], \"encoded_locals\": {\".0\": [\"REF\", 2], \"animale\": \"alci\", \"__return__\": [\"REF\", 3]}, \"ordered_varnames\": [\".0\", \"animale\", \"__return__\"], \"is_zombie\": false, \"is_highlighted\": true, \"unique_hash\": \"<listcomp>_f1\"}], \"heap\": {\"2\": [\"INSTANCE\", \"list_iterator\"], \"3\": [\"LIST\", \"Cani\", \"Gatti\", \"Scoiattoli\", \"Alci\"], \"1\": [\"LIST\", \"cani\", \"gatti\", \"scoiattoli\", \"alci\"]}, \"stdout\": \"\"}, {\"line\": 4, \"event\": \"return\", \"func_name\": \"<module>\", \"globals\": {\"animali\": [\"REF\", 1], \"nuova_lista\": [\"REF\", 3]}, \"ordered_globals\": [\"animali\", \"nuova_lista\"], \"stack_to_render\": [], \"heap\": {\"1\": [\"LIST\", \"cani\", \"gatti\", \"scoiattoli\", \"alci\"], \"3\": [\"LIST\", \"Cani\", \"Gatti\", \"Scoiattoli\", \"Alci\"]}, \"stdout\": \"\"}]}\n",
       "        </script>\n",
       "        <div id=\"jmd3b2e504-3292-4631-a9e8-28dda390c93b\" class=\"pytutorVisualizer\"> </div>\n",
       " \n",
       "        <style>\n",
       "        .vizLayoutTd {\n",
       "            background-color: #fff !important;\n",
       "        }\n",
       "                            \n",
       "\n",
       "        /* 'Edit this code' link, hiding because replaces browser tab !!!*/\n",
       "        #editCodeLinkDiv {\n",
       "            display:none;  \n",
       "        }\n",
       "        </style>   \n",
       "                            \n",
       "        <script>\n",
       "        (function(){\n",
       "\n",
       "            var trace = JSON.parse(document.getElementById('json-jmd3b2e504-3292-4631-a9e8-28dda390c93b').innerHTML);                                        \n",
       "            // NOTE 1: id without #\n",
       "            // NOTE 2 - maybe there are more predictable ways, but this will work anyway\n",
       "            //        - id should be number\n",
       "            visualizerIdOverride = Math.trunc(Math.random() * 100000000000)\n",
       "            addVisualizerToPage(trace, 'jmd3b2e504-3292-4631-a9e8-28dda390c93b',{'embeddedMode' : false,\n",
       "                                             'visualizerIdOverride':visualizerIdOverride})  \n",
       "            \n",
       "            \n",
       "            // set overflow for pytuts - need to do in python as css \n",
       "            // does not allow parent selection\n",
       "            var pytuts = $('.pytutorVisualizer')\n",
       "            pytuts.closest('div.output_html.rendered_html.output_result')\n",
       "                    .css('overflow-x', 'visible')\n",
       "        \n",
       "            //pytuts.closest('div.output_html.rendered_html.output_result')\n",
       "            //      .css('background-color','red')                \n",
       "            \n",
       "        })()\n",
       "        </script>\n",
       "                \n",
       "                "
      ],
      "text/plain": [
       "<IPython.core.display.HTML object>"
      ]
     },
     "execution_count": 218,
     "metadata": {},
     "output_type": "execute_result"
    }
   ],
   "source": [
    "\n",
    "animali = ['cani', 'gatti', 'scoiattoli', 'alci']\n",
    "\n",
    "nuova_lista = [animale.capitalize() for animale in animali]\n",
    "\n",
    "jupman.pytut()\n"
   ]
  },
  {
   "cell_type": "markdown",
   "metadata": {
    "colab_type": "text",
    "id": "G1isjIcitppx"
   },
   "source": [
    "**✪ DA FARE**: Prova qua sotto ad usare una list comprehension per mettere tutti i caratteri in maiuscolo"
   ]
  },
  {
   "cell_type": "code",
   "execution_count": 119,
   "metadata": {
    "colab": {
     "autoexec": {
      "startup": false,
      "wait_interval": 0
     }
    },
    "colab_type": "code",
    "id": "eoNE416HdIEf"
   },
   "outputs": [],
   "source": [
    "animali = ['cani', 'gatti', 'scoiattoli', 'alci']\n",
    "\n",
    "# scrivi qui\n",
    "\n",
    "animali = ['cani', 'gatti', 'scoiattoli', 'alci']\n",
    "\n",
    "nuova_lista = [animale.upper() for animale in animali]\n",
    "\n",
    "\n"
   ]
  },
  {
   "cell_type": "markdown",
   "metadata": {
    "colab_type": "text",
    "id": "wJkXW0NulL8I"
   },
   "source": [
    "**Filtrare con le comprehension**: Volendo, possiamo anche filtrare i dati usando un `if` speciale da mettere alla fine della comprehension. Per esempio potremmo selezionare solo gli animali la cui lunghezza del nome è di 4 caratteri:\n",
    "\n"
   ]
  },
  {
   "cell_type": "code",
   "execution_count": 120,
   "metadata": {
    "colab": {
     "autoexec": {
      "startup": false,
      "wait_interval": 0
     },
     "base_uri": "https://localhost:8080/",
     "height": 34,
     "output_extras": [
      {
       "item_id": 1
      }
     ]
    },
    "colab_type": "code",
    "executionInfo": {
     "elapsed": 562,
     "status": "ok",
     "timestamp": 1519052514136,
     "user": {
      "displayName": "David Leoni",
      "photoUrl": "https://lh3.googleusercontent.com/a/default-user=s128",
      "userId": "102920557909426557439"
     },
     "user_tz": -60
    },
    "id": "3j3N8Z16lKDW",
    "outputId": "ee544608-9e3a-4918-f6a3-716081ad8b8a",
    "scrolled": true
   },
   "outputs": [
    {
     "data": {
      "text/plain": [
       "['CANI', 'ALCI']"
      ]
     },
     "execution_count": 120,
     "metadata": {},
     "output_type": "execute_result"
    }
   ],
   "source": [
    "[animale.upper() for animale in animali if len(animale) == 4]"
   ]
  },
  {
   "cell_type": "code",
   "execution_count": null,
   "metadata": {},
   "outputs": [],
   "source": []
  },
  {
   "cell_type": "markdown",
   "metadata": {},
   "source": [
    "### While loops\n",
    "\n",
    "The for loop is great when we have to iterate over a finite sequence of elements. But when one needs to loop until a specific condition holds true, another construct must be used: the *while* statement. The loop will end when the condition becomes false.\n",
    "\n",
    "The basic syntax is the following:"
   ]
  },
  {
   "cell_type": "markdown",
   "metadata": {},
   "source": [
    "```python\n",
    "while condition:\n",
    "\n",
    "    # do something\n",
    "    # update the value of condition\n",
    "```"
   ]
  },
  {
   "cell_type": "markdown",
   "metadata": {},
   "source": [
    "An example follows:"
   ]
  },
  {
   "cell_type": "code",
   "execution_count": 18,
   "metadata": {},
   "outputs": [
    {
     "name": "stdout",
     "output_type": "stream",
     "text": [
      "i now is: 0\n",
      "i now is: 1\n",
      "i now is: 2\n",
      "i now is: 3\n",
      "i now is: 4\n"
     ]
    }
   ],
   "source": [
    "i = 0\n",
    "while (i < 5):\n",
    "    print(\"i now is:\", i)\n",
    "    i = i + 1 #THIS IS VERY IMPORTANT!"
   ]
  },
  {
   "cell_type": "markdown",
   "metadata": {},
   "source": [
    "Note that if *condition* is false at the beginning the block of code is never executed. \n",
    "\n",
    "<div class=\"alert alert-warning\">\n",
    "\n",
    "**Note:** The loop will continue until *condition* holds true and the only code executed is the block defined through the indentation. This block of code must update the value of condition otherwise the interpreter will get stuck in the loop and will never exit. \n",
    "</div>\n",
    "\n",
    "We can combine *for* loops and *while* loops one into the code block of the other:"
   ]
  },
  {
   "cell_type": "markdown",
   "metadata": {},
   "source": [
    "### Break and continue\n",
    "\n",
    "Sometimes it is useful to skip an entire iteration of a loop or end the loop before its supposed end.\n",
    "This can be achieved with two different statements:  **continue** and **break**.\n",
    "\n",
    "#### Continue statement\n",
    "Within a **for** or **while** loop, **continue** makes the interpreter skip that iteration and move to the next. \n",
    "\n",
    "**Example:**\n",
    "Print all the odd numbers from 1 to 20."
   ]
  },
  {
   "cell_type": "code",
   "execution_count": 19,
   "metadata": {},
   "outputs": [
    {
     "name": "stdout",
     "output_type": "stream",
     "text": [
      "1 3 5 7 9 11 13 15 17 19 \n",
      "1 3 5 7 9 11 13 15 17 19 "
     ]
    }
   ],
   "source": [
    "#Two equivalent ways\n",
    "#1. Testing remainder == 1\n",
    "for i in range(21):\n",
    "    if(i % 2 == 1):\n",
    "        print(i, end = \" \")\n",
    "\n",
    "print(\"\")\n",
    "\n",
    "#2. Skipping if remainder == 0 in for\n",
    "for i in range(21):\n",
    "    if(i % 2 == 0):\n",
    "        continue\n",
    "    print(i, end = \" \")"
   ]
  },
  {
   "cell_type": "markdown",
   "metadata": {},
   "source": [
    "Continue can be used also within while loops but we need to be careful to update the value of the variable before reaching the continue statement or we will get stuck in never-ending loops.\n",
    "**Example:**\n",
    "Print all the odd numbers from 1 to 20."
   ]
  },
  {
   "cell_type": "markdown",
   "metadata": {},
   "source": [
    "```python\n",
    "#Wrong code:\n",
    "i = 0\n",
    "while (i < 21):\n",
    "    if(i % 2 == 0):\n",
    "        continue\n",
    "    print(i, end = \" \")\n",
    "    i = i + 1 # NEVER EXECUTED IF i % 2 == 0!!!!\n",
    "```"
   ]
  },
  {
   "cell_type": "markdown",
   "metadata": {},
   "source": [
    "a possible correct solution using while:"
   ]
  },
  {
   "cell_type": "code",
   "execution_count": 20,
   "metadata": {},
   "outputs": [
    {
     "name": "stdout",
     "output_type": "stream",
     "text": [
      "1 3 5 7 9 11 13 15 17 19 "
     ]
    }
   ],
   "source": [
    "i = -1\n",
    "while( i< 20):       #i is incremented in the loop, so 20!!!\n",
    "    i = i + 1        #the variable is updated no matter what\n",
    "    if(i % 2 == 0 ):\n",
    "        continue\n",
    "    print(i, end = \" \")"
   ]
  },
  {
   "cell_type": "markdown",
   "metadata": {},
   "source": [
    "#### Break statement\n",
    "Within a **for** or **while** loop, **break** makes the interpreter exit the loop and continue with the sequential execution. Sometimes it is useful to get out of the loop if to complete our task we do not need to get to the end of the loop.\n",
    "\n",
    "**Example:**\n",
    "Given the following list of integers [1,5,6,4,7,1,2,3,7] print them until a number already printed is found. "
   ]
  },
  {
   "cell_type": "code",
   "execution_count": 21,
   "metadata": {},
   "outputs": [
    {
     "name": "stdout",
     "output_type": "stream",
     "text": [
      "1 5 6 4 7 "
     ]
    }
   ],
   "source": [
    "L = [1,5,6,4,7,1,2,3,7]\n",
    "found = []\n",
    "for i in L:\n",
    "    if(i in found):\n",
    "        break\n",
    "        \n",
    "    found.append(i)\n",
    "    print(i, end = \" \")"
   ]
  },
  {
   "cell_type": "markdown",
   "metadata": {},
   "source": [
    "**Example:**\n",
    "Pick a random number from 1 and 50 and count how many times it takes to randomly choose number 27. Limit the number of random picks to 40 (i.e. if more than 40 picks have been done and 27 has not been found exit anyway with a message)."
   ]
  },
  {
   "cell_type": "code",
   "execution_count": 22,
   "metadata": {},
   "outputs": [
    {
     "name": "stdout",
     "output_type": "stream",
     "text": [
      "Sorry number 27 was never found!\n",
      "[22, 12, 16, 22, 19, 41, 50, 20, 37, 47, 18, 42, 33, 19, 18, 16, 8, 16, 36, 31, 1, 49, 19, 38, 34, 18, 45, 30, 26, 44, 7, 23, 37, 12, 38, 43, 42, 26, 46, 41]\n"
     ]
    }
   ],
   "source": [
    "import random\n",
    "\n",
    "iterations = 1\n",
    "picks = []\n",
    "while(iterations <= 40):\n",
    "    pick = random.randint(1,50)\n",
    "    picks.append(pick)\n",
    "\n",
    "    if(pick == 27):\n",
    "        break\n",
    "    iterations += 1\n",
    "\n",
    "if(iterations == 41):\n",
    "    print(\"Sorry number 27 was never found!\")\n",
    "else:\n",
    "    print(\"27 found in \", iterations, \"iterations\")\n",
    "\n",
    "print(picks)"
   ]
  },
  {
   "cell_type": "markdown",
   "metadata": {},
   "source": [
    "An alternative way without using the break statement makes use of a *flag* variable (that when changes value will make the loop end):"
   ]
  },
  {
   "cell_type": "code",
   "execution_count": 23,
   "metadata": {},
   "outputs": [
    {
     "name": "stdout",
     "output_type": "stream",
     "text": [
      "Sorry number 27 was never found!\n",
      "[40, 46, 29, 29, 38, 1, 12, 41, 19, 39, 8, 10, 5, 18, 31, 50, 38, 18, 9, 46, 22, 47, 36, 41, 7, 43, 24, 39, 50, 47, 15, 10, 34, 8, 6, 23, 9, 1, 24, 18]\n"
     ]
    }
   ],
   "source": [
    "import random\n",
    "found = False # This is called flag\n",
    "iterations = 1\n",
    "picks = []\n",
    "while iterations <= 40 and found == False: #the flag is used to exit \n",
    "    pick = random.randint(1,50)\n",
    "    picks.append(pick)\n",
    "    if pick == 27:\n",
    "        found = True     #update the flag, will exit at next iteration\n",
    "    iterations += 1\n",
    "\n",
    "if iterations == 41 and not found:\n",
    "    print(\"Sorry number 27 was never found!\")\n",
    "else:\n",
    "    print(\"27 found in \", iterations -1, \"iterations\")\n",
    "    \n",
    "print(picks)"
   ]
  },
  {
   "cell_type": "code",
   "execution_count": 24,
   "metadata": {
    "scrolled": true
   },
   "outputs": [
    {
     "name": "stdout",
     "output_type": "stream",
     "text": [
      "1 \n",
      "2 1 \n",
      "3 2 1 \n",
      "4 3 2 1 \n",
      "5 4 3 2 1 \n",
      "6 5 4 3 2 1 \n",
      "7 6 5 4 3 2 1 \n",
      "8 7 6 5 4 3 2 1 \n",
      "9 8 7 6 5 4 3 2 1 \n"
     ]
    }
   ],
   "source": [
    "for i in range(1,10):                       # or without string output\n",
    "    j = 1                                   # for i in range(1,10):\n",
    "    output = \"\"                             #     j = 1\n",
    "    while(j<= i):                           #     while(j<=i):\n",
    "        output = str(j) + \" \" + output      #         print(j, end = \" \")\n",
    "        j = j + 1                           #         j = j + 1\n",
    "    print(output)                           #     print(\"\")\n",
    "        "
   ]
  },
  {
   "cell_type": "markdown",
   "metadata": {},
   "source": [
    "## Exercises\n",
    "\n",
    "1. Given the integer 134479170, print if it is divisible for the numbers from 2 to 16. Hint: use for and if.\n",
    "\n",
    "<div class=\"tggle\" onclick=\"toggleVisibility('ex0');\">Show/Hide Solution</div>\n",
    "<div id=\"ex0\" style=\"display:none;\">"
   ]
  },
  {
   "cell_type": "code",
   "execution_count": 25,
   "metadata": {},
   "outputs": [
    {
     "name": "stdout",
     "output_type": "stream",
     "text": [
      "134479170  can be divided by  2\n",
      "\t 2 * 67239585 = 134479170\n",
      "134479170  can be divided by  3\n",
      "\t 3 * 44826390 = 134479170\n",
      "134479170  can be divided by  5\n",
      "\t 5 * 26895834 = 134479170\n",
      "134479170  can be divided by  6\n",
      "\t 6 * 22413195 = 134479170\n",
      "134479170  can be divided by  7\n",
      "\t 7 * 19211310 = 134479170\n",
      "134479170  can be divided by  9\n",
      "\t 9 * 14942130 = 134479170\n",
      "134479170  can be divided by  10\n",
      "\t 10 * 13447917 = 134479170\n",
      "134479170  can be divided by  14\n",
      "\t 14 * 9605655 = 134479170\n",
      "134479170  can be divided by  15\n",
      "\t 15 * 8965278 = 134479170\n"
     ]
    }
   ],
   "source": [
    "val = 134479170\n",
    "flag = False\n",
    "\n",
    "for divisor in range(2,17):\n",
    "    if val % divisor == 0:\n",
    "        print(val, \" can be divided by \", divisor)\n",
    "        print(\"\\t\", divisor, \"*\", val//divisor, \"=\", val )\n",
    "        flag = True\n",
    "\n",
    "if flag == False:\n",
    "    print(\"Sorry, could not find divisors\")\n",
    "    "
   ]
  },
  {
   "cell_type": "markdown",
   "metadata": {},
   "source": [
    "</div>\n",
    "\n",
    "2. Given the DNA string \"GATTACATATATCAGTACAGATATATACGCGCGGGCTTACTATTAAAAACCCC\", write a Python script that reverse-complements it. To reverse-complement a string of DNA, one needs to replace and A with T, T with A, C with G and G with C, while any other character is complemented in N. Finally, the sequence has to be reversed (e.g. the first base becomes the last). For example, ATCG becomes CGAT.\n",
    "\n",
    "<div class=\"tggle\" onclick=\"toggleVisibility('ex3');\">Show/Hide Solution</div>\n",
    "<div id=\"ex3\" style=\"display:none;\">"
   ]
  },
  {
   "cell_type": "code",
   "execution_count": 26,
   "metadata": {},
   "outputs": [
    {
     "name": "stdout",
     "output_type": "stream",
     "text": [
      "5'- GATTACATATATCAGTACAGATATATACGCGCGGGCTTACTATTAAAAACCCC -3'\n",
      "3'- GGGGTTTTTAATAGTAAGCCCGCGCGTATATATCTGTACTGATATATGTAATC -5'\n"
     ]
    }
   ],
   "source": [
    "DNA = \"GATTACATATATCAGTACAGATATATACGCGCGGGCTTACTATTAAAAACCCC\"\n",
    "\n",
    "revComp = \"\"\n",
    "for base in DNA:\n",
    "    if base == \"T\":\n",
    "        revComp = \"A\"+ revComp\n",
    "    elif base == \"A\":\n",
    "        revComp = \"T\"+ revComp\n",
    "    elif base == \"C\":\n",
    "        revComp = \"G\"+ revComp\n",
    "    elif base == \"G\":\n",
    "        revComp = \"C\" + revComp\n",
    "    else:\n",
    "        revComp = \"N\" + revComp\n",
    "        \n",
    "print(\"5'-\", DNA, \"-3'\")\n",
    "print(\"3'-\", revComp, \"-5'\")"
   ]
  },
  {
   "cell_type": "code",
   "execution_count": 27,
   "metadata": {},
   "outputs": [
    {
     "name": "stdout",
     "output_type": "stream",
     "text": [
      "['G', 'A', 'T', 'T', 'A', 'C', 'A', 'T', 'A', 'T', 'A', 'T', 'C', 'A', 'G', 'T', 'A', 'C', 'A', 'G', 'A', 'T', 'A', 'T', 'A', 'T', 'A', 'C', 'G', 'C', 'G', 'C', 'G', 'G', 'G', 'C', 'T', 'T', 'A', 'C', 'T', 'A', 'T', 'T', 'A', 'A', 'A', 'A', 'A', 'C', 'C', 'C', 'C']\n",
      "['C', 'T', 'A', 'A', 'T', 'G', 'T', 'A', 'T', 'A', 'T', 'A', 'G', 'T', 'C', 'A', 'T', 'G', 'T', 'C', 'T', 'A', 'T', 'A', 'T', 'A', 'T', 'G', 'C', 'G', 'C', 'G', 'C', 'C', 'C', 'G', 'A', 'A', 'T', 'G', 'A', 'T', 'A', 'A', 'T', 'T', 'T', 'T', 'T', 'G', 'G', 'G', 'G']\n",
      "['G', 'G', 'G', 'G', 'T', 'T', 'T', 'T', 'T', 'A', 'A', 'T', 'A', 'G', 'T', 'A', 'A', 'G', 'C', 'C', 'C', 'G', 'C', 'G', 'C', 'G', 'T', 'A', 'T', 'A', 'T', 'A', 'T', 'C', 'T', 'G', 'T', 'A', 'C', 'T', 'G', 'A', 'T', 'A', 'T', 'A', 'T', 'G', 'T', 'A', 'A', 'T', 'C']\n",
      "GGGGTTTTTAATAGTAAGCCCGCGCGTATATATCTGTACTGATATATGTAATC\n"
     ]
    }
   ],
   "source": [
    "\"\"\" Another solution\"\"\"\n",
    "\n",
    "DNA = \"GATTACATATATCAGTACAGATATATACGCGCGGGCTTACTATTAAAAACCCC\"\n",
    "\n",
    "\n",
    "dna_list = list(DNA)\n",
    "print(dna_list)\n",
    "compl = []\n",
    "for el in dna_list:\n",
    "    if el == 'A':\n",
    "        compl.append('T')\n",
    "    elif el == 'T':\n",
    "        compl.append('A')\n",
    "    elif el == 'C':\n",
    "        compl.append('G')\n",
    "    elif el == 'G':\n",
    "        compl.append('C')\n",
    "    else:\n",
    "        compl.append('N')\n",
    "print(compl)\n",
    "compl.reverse()\n",
    "print(compl)\n",
    "print(\"\".join(compl))"
   ]
  },
  {
   "cell_type": "markdown",
   "metadata": {},
   "source": [
    "</div>\n",
    "3. Write a python script that creates the following pattern:"
   ]
  },
  {
   "cell_type": "markdown",
   "metadata": {},
   "source": [
    "```\n",
    "+      \n",
    "++     \n",
    "+++    \n",
    "++++   \n",
    "+++++  \n",
    "++++++  \n",
    "+++++++ <-- 7\n",
    "++++++ \n",
    "+++++  \n",
    "++++   \n",
    "+++    \n",
    "++     \n",
    "+\n",
    "```"
   ]
  },
  {
   "cell_type": "markdown",
   "metadata": {},
   "source": [
    "<div class=\"tggle\" onclick=\"toggleVisibility('ex1');\">Show/Hide Solution</div>\n",
    "<div id=\"ex1\" style=\"display:none;\">"
   ]
  },
  {
   "cell_type": "code",
   "execution_count": 28,
   "metadata": {},
   "outputs": [
    {
     "name": "stdout",
     "output_type": "stream",
     "text": [
      "+\n",
      "++\n",
      "+++\n",
      "++++\n",
      "+++++\n",
      "++++++\n",
      "+++++++ <-- 7\n",
      "++++++\n",
      "+++++\n",
      "++++\n",
      "+++\n",
      "++\n",
      "+\n"
     ]
    }
   ],
   "source": [
    "outStr = \"\"\n",
    "for i in range(0,7):\n",
    "    outStr = \"\"\n",
    "    for j in range(0,i+1):\n",
    "        outStr = outStr + \"+\"\n",
    "    if(i == 6):\n",
    "        outStr = outStr + \" <-- 7\"\n",
    "        \n",
    "    print(outStr)\n",
    "\n",
    "for i in range(1,7):\n",
    "    outStr = \"\"\n",
    "    for j in range(0, 7-i):\n",
    "        outStr = outStr + \"+\"\n",
    "    print(outStr)\n",
    "        "
   ]
  },
  {
   "cell_type": "markdown",
   "metadata": {},
   "source": [
    "</div>"
   ]
  },
  {
   "cell_type": "markdown",
   "metadata": {},
   "source": [
    "4. Count how many of the first 100 integers are divisible by 2, 3, 5, 7 but not by 10 and print these counts. Be aware that a number can be divisible by more than one of these numbers (e.g. 6) and therefore it must be counted as divisible by all of them (e.g. 6 must be counted as divisible by 2 and 3). \n",
    "\n",
    "<div class=\"tggle\" onclick=\"toggleVisibility('ex2');\">Show/Hide Solution</div>\n",
    "<div id=\"ex2\" style=\"display:none;\">"
   ]
  },
  {
   "cell_type": "code",
   "execution_count": 29,
   "metadata": {},
   "outputs": [
    {
     "name": "stdout",
     "output_type": "stream",
     "text": [
      "40  numbers are divisible by  2 (but not 10) in the first 100\n",
      "30  numbers are divisible by  3 (but not 10) in the first 100\n",
      "10  numbers are divisible by  5 (but not 10) in the first 100\n",
      "13  numbers are divisible by  7 (but not 10) in the first 100\n"
     ]
    }
   ],
   "source": [
    "cnts = [0,0,0,0] #cnts[0] counts for 2, cnts[1] counts for 3...\n",
    "vals = [2,3,5,7]\n",
    "for i in range(1,101):\n",
    "    if ( i % 2 == 0 and i % 10 != 0 ):\n",
    "        cnts[0] = cnts[0] + 1\n",
    "        \n",
    "    if ( i % 3 == 0 and i % 10 != 0):\n",
    "        cnts[1] = cnts[1] + 1\n",
    "        \n",
    "    if ( i % 5 == 0 and i % 10 != 0):\n",
    "        cnts[2] = cnts[2] + 1\n",
    "        \n",
    "    if ( i % 7 == 0 and i % 10 != 0):\n",
    "        cnts[3] = cnts[3] + 1\n",
    "        \n",
    "for i in range(0, len(cnts)):\n",
    "    print(cnts[i], \" numbers are divisible by \", vals[i], \"(but not 10) in the first 100\")\n",
    "    "
   ]
  },
  {
   "cell_type": "markdown",
   "metadata": {},
   "source": [
    "</div>"
   ]
  },
  {
   "cell_type": "raw",
   "metadata": {},
   "source": [
    "5. Given the following fastq entry:"
   ]
  },
  {
   "cell_type": "markdown",
   "metadata": {},
   "source": [
    "```\n",
    "@HWI-ST1296:75:C3F7CACXX:1:1101:19142:14904\n",
    "CCAACAACTTTGACGCTAAGGATAGCTCCATGGCAGCATATCTGGCACAA\n",
    "+\n",
    "FHIIJIJJGIJJJJJ1HHHFFFFFEE:;CIDDDDDDDDDDDDEDDD-./0\n",
    "```"
   ]
  },
  {
   "cell_type": "markdown",
   "metadata": {},
   "source": [
    "Store the sequence and the quality in two strings. Create a list with all the quality phred scores (given a quality character \"X\" the phred score is: ord(\"X\") -33. Finally print all the bases that have quality lower than 25, reporting the base, its position, quality character and phred score. **Output example:** base: C index: 14 qual:1 phred: 16)."
   ]
  },
  {
   "cell_type": "markdown",
   "metadata": {},
   "source": [
    "<div class=\"tggle\" onclick=\"toggleVisibility('ex4');\">Show/Hide Solution</div>\n",
    "<div id=\"ex4\" style=\"display:none;\">"
   ]
  },
  {
   "cell_type": "code",
   "execution_count": 30,
   "metadata": {},
   "outputs": [
    {
     "name": "stdout",
     "output_type": "stream",
     "text": [
      "base: C index: 15 qual: 1 phredScore: 16\n",
      "base: A index: 46 qual: - phredScore: 12\n",
      "base: C index: 47 qual: . phredScore: 13\n",
      "base: A index: 48 qual: / phredScore: 14\n",
      "base: A index: 49 qual: 0 phredScore: 15\n"
     ]
    }
   ],
   "source": [
    "entry = \"\"\"@HWI-ST1296:75:C3F7CACXX:1:1101:19142:14904\n",
    "CCAACAACTTTGACGCTAAGGATAGCTCCATGGCAGCATATCTGGCACAA\n",
    "+\n",
    "FHIIJIJJGIJJJJJ1HHHFFFFFEE:;CIDDDDDDDDDDDDEDDD-./0\"\"\"\n",
    "\n",
    "lines = entry.split(\"\\n\")\n",
    "seq = lines[1]\n",
    "qual = lines[3]\n",
    "\n",
    "phredScores = []\n",
    "for i in range(len(qual)):\n",
    "    phredScores.append(ord(qual[i]) - 33)\n",
    "\n",
    "\n",
    "for i in range(len(seq)):\n",
    "    if(phredScores[i] <25):\n",
    "        print(\"base:\",seq[i],\"index:\",i,\"qual:\",qual[i],\"phredScore:\",phredScores[i])"
   ]
  },
  {
   "cell_type": "markdown",
   "metadata": {},
   "source": [
    "</div>\n",
    "\n",
    "6. Given the following sequence:"
   ]
  },
  {
   "cell_type": "markdown",
   "metadata": {},
   "source": [
    "```\n",
    "AUGCUGUCUCCCUCACUGUAUGUAAAUUGCAUCUAGAAUAGCA\n",
    "UCUGGAGCACUAAUUGACACAUAGUGGGUAUCAAUUAUUA\n",
    "UUCCAGGUACUAGAGAUACCUGGACCAUUAACGGAUAAAU\n",
    "AGAAGAUUCAUUUGUUGAGUGACUGAGGAUGGCAGUUCCU\n",
    "GCUACCUUCAAGGAUCUGGAUGAUGGGGAGAAACAGAGAA\n",
    "CAUAGUGUGAGAAUACUGUGGUAAGGAAAGUACAGAGGAC\n",
    "UGGUAGAGUGUCUAACCUAGAUUUGGAGAAGGACCUAGAA\n",
    "GUCUAUCCCAGGGAAAUAAAAAUCUAAGCUAAGGUUUGAG\n",
    "GAAUCAGUAGGAAUUGGCAAAGGAAGGACAUGUUCCAGAU\n",
    "GAUAGGAACAGGUUAUGCAAAGAUCCUGAAAUGGUCAGAG\n",
    "CUUGGUGCUUUUUGAGAACCAAAAGUAGAUUGUUAUGGAC\n",
    "CAGUGCUACUCCCUGCCUCUUGCCAAGGGACCCCGCCAAG\n",
    "CACUGCAUCCCUUCCCUCUGACUCCACCUUUCCACUUGCC\n",
    "CAGUAUUGUUGGUGU\n",
    "```"
   ]
  },
  {
   "cell_type": "markdown",
   "metadata": {},
   "source": [
    "Considering the genetic code and the first forward open reading frame (i.e. the string as it is **remembering to remove newlines**).\n",
    "\n",
    "![](img/pract2/genetic_code.png)\n",
    "    \n",
    "1. How many start codons are present in the whole sequence (i.e. AUG)?\n",
    "2. How many stop codons (i.e. UAA,UAG, UGA)\n",
    "3. Create another string in which any codon with except the start and stop codons are substituted with \"---\" and print the resulting string.\n",
    "    \n",
    "<div class=\"tggle\" onclick=\"toggleVisibility('ex5');\">Show/Hide Solution</div>\n",
    "<div id=\"ex5\" style=\"display:none;\">"
   ]
  },
  {
   "cell_type": "code",
   "execution_count": 31,
   "metadata": {},
   "outputs": [
    {
     "name": "stdout",
     "output_type": "stream",
     "text": [
      "\n",
      "Number of start codons: 2\n",
      "Number of end codons: 12\n",
      "\n",
      "\n",
      "AUGCUGUCUCCCUCACUGUAUGUAAAUUGCAUCUAGAAUAGCAUCUGGAGCACUAAUUGACACAUAGUGGGUAUCAAUUAUUAUUCCAGGUACUAGAGAUACCUGGACCAUUAACGGAUAAAUAGAAGAUUCAUUUGUUGAGUGACUGAGGAUGGCAGUUCCUGCUACCUUCAAGGAUCUGGAUGAUGGGGAGAAACAGAGAACAUAGUGUGAGAAUACUGUGGUAAGGAAAGUACAGAGGACUGGUAGAGUGUCUAACCUAGAUUUGGAGAAGGACCUAGAAGUCUAUCCCAGGGAAAUAAAAAUCUAAGCUAAGGUUUGAGGAAUCAGUAGGAAUUGGCAAAGGAAGGACAUGUUCCAGAUGAUAGGAACAGGUUAUGCAAAGAUCCUGAAAUGGUCAGAGCUUGGUGCUUUUUGAGAACCAAAAGUAGAUUGUUAUGGACCAGUGCUACUCCCUGCCUCUUGCCAAGGGACCCCGCCAAGCACUGCAUCCCUUCCCUCUGACUCCACCUUUCCACUUGCCCAGUAUUGUUGGUG\n",
      "\n",
      "\n",
      "AUG------------------------------UAG---------------------UGA---------------------------------UAG---------------UAA------------------------UGA------------------------------------------UGA------------------------UGA---------------------------------UAG------UAA------------------------------------------------------UAA---------------UAG------------------------------------------------------------AUG---------------------------------------------------------------------------------------------------------UGA---------------------------------\n"
     ]
    }
   ],
   "source": [
    "seq =\"\"\"AUGCUGUCUCCCUCACUGUAUGUAAAUUGCAUCUAGAAUAGCA\n",
    "UCUGGAGCACUAAUUGACACAUAGUGGGUAUCAAUUAUUA\n",
    "UUCCAGGUACUAGAGAUACCUGGACCAUUAACGGAUAAAU\n",
    "AGAAGAUUCAUUUGUUGAGUGACUGAGGAUGGCAGUUCCU\n",
    "GCUACCUUCAAGGAUCUGGAUGAUGGGGAGAAACAGAGAA\n",
    "CAUAGUGUGAGAAUACUGUGGUAAGGAAAGUACAGAGGAC\n",
    "UGGUAGAGUGUCUAACCUAGAUUUGGAGAAGGACCUAGAA\n",
    "GUCUAUCCCAGGGAAAUAAAAAUCUAAGCUAAGGUUUGAG\n",
    "GAAUCAGUAGGAAUUGGCAAAGGAAGGACAUGUUCCAGAU\n",
    "GAUAGGAACAGGUUAUGCAAAGAUCCUGAAAUGGUCAGAG\n",
    "CUUGGUGCUUUUUGAGAACCAAAAGUAGAUUGUUAUGGAC\n",
    "CAGUGCUACUCCCUGCCUCUUGCCAAGGGACCCCGCCAAG\n",
    "CACUGCAUCCCUUCCCUCUGACUCCACCUUUCCACUUGCC\n",
    "CAGUAUUGUUGGUG\"\"\"\n",
    "\n",
    "seq = seq.replace(\"\\n\",\"\")\n",
    "\n",
    "\n",
    "countStart = 0\n",
    "countEnd = 0\n",
    "\n",
    "newSeq = \"\"\n",
    "i = 0\n",
    "while i < len(seq):\n",
    "    codon = seq[i:i+3]\n",
    "    if(codon == \"AUG\"):\n",
    "            countStart = countStart + 1\n",
    "        \n",
    "    elif (codon == \"UAA\" or codon == \"UAG\" or codon == \"UGA\"):\n",
    "        countEnd = countEnd + 1\n",
    "    else:\n",
    "        codon = \"---\"\n",
    "        \n",
    "    newSeq = newSeq + codon\n",
    "    i = i + 3\n",
    "\n",
    "\n",
    "print(\"\\nNumber of start codons:\", countStart)\n",
    "print(\"Number of end codons:\", countEnd)\n",
    "print(\"\\n\") \n",
    "print(seq)\n",
    "print(\"\\n\")\n",
    "print(newSeq)"
   ]
  },
  {
   "cell_type": "markdown",
   "metadata": {},
   "source": [
    "</div>\n",
    "\n",
    "7. Playing time! Write a python scripts that:\n",
    "    1. Picks a random number from 1 to 10, with:\n",
    "        import random\n",
    "        myInt = random.randint(1,10)\n",
    "    2. Asks the user to guess a number and checks if the user has guessed the right one\n",
    "    3. If the guess is right the program will stop with a congratulation message\n",
    "    4. If the guess is wrong the program will continue asking a number, reporting the numbers already guessed (hint: store them in a list and print it).\n",
    "    5. Modify the program to notify the user if he/she inputs the same number more than once.\n",
    "\n",
    "<div class=\"tggle\" onclick=\"toggleVisibility('ex6');\">Show/Hide Solution</div>\n",
    "<div id=\"ex6\" style=\"display:none;\">"
   ]
  },
  {
   "cell_type": "markdown",
   "metadata": {
    "scrolled": true
   },
   "source": [
    "```python\n",
    "import random\n",
    "myInt = random.randint(1,10)\n",
    "guessedNumbers = []\n",
    "\n",
    "found = False\n",
    "while (found == False):\n",
    "    userInt = int(input(\"Guess a number from 1 to 10: \"))\n",
    "    if(userInt == myInt):\n",
    "        print(\"Congratulations. The number I guessed was \", myInt)\n",
    "        found = True\n",
    "    else:\n",
    "        if(userInt in guessedNumbers):\n",
    "            print(\"You already guessed \", userInt)\n",
    "        else:\n",
    "            guessedNumbers.append(userInt)\n",
    "        guessedNumbers.sort()\n",
    "        print(\"Nope, try again. So far you guessed: \", guessedNumbers)\n",
    "```        \n",
    "        "
   ]
  },
  {
   "cell_type": "markdown",
   "metadata": {},
   "source": [
    "```\n",
    "Guess a number from 1 to 10: 4\n",
    "Nope, try again. So far you guessed:  [4]\n",
    "Guess a number from 1 to 10: 5\n",
    "Nope, try again. So far you guessed:  [4, 5]\n",
    "Guess a number from 1 to 10: 1\n",
    "Congratulations. The number I guessed was  1\n",
    "```"
   ]
  },
  {
   "cell_type": "code",
   "execution_count": 1,
   "metadata": {},
   "outputs": [],
   "source": [
    "# SOLUZIONE"
   ]
  },
  {
   "cell_type": "code",
   "execution_count": null,
   "metadata": {},
   "outputs": [],
   "source": []
  }
 ],
 "metadata": {
  "kernelspec": {
   "display_name": "Python 3",
   "language": "python",
   "name": "python3"
  },
  "language_info": {
   "codemirror_mode": {
    "name": "ipython",
    "version": 3
   },
   "file_extension": ".py",
   "mimetype": "text/x-python",
   "name": "python",
   "nbconvert_exporter": "python",
   "pygments_lexer": "ipython3",
   "version": "3.7.3"
  },
  "toc": {
   "base_numbering": 1,
   "nav_menu": {},
   "number_sections": false,
   "sideBar": true,
   "skip_h1_title": false,
   "title_cell": "Table of Contents",
   "title_sidebar": "Contents",
   "toc_cell": false,
   "toc_position": {},
   "toc_section_display": true,
   "toc_window_display": true
  }
 },
 "nbformat": 4,
 "nbformat_minor": 2
}
