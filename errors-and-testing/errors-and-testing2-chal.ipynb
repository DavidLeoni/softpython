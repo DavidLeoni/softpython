{
 "cells": [
  {
   "cell_type": "markdown",
   "metadata": {},
   "source": [
    "# Challenges Gestione degli errori e testing -\n",
    "\n",
    "## [Scarica zip esercizi](../_static/generated/errors-and-testing.zip)\n",
    "\n",
    "[Naviga file online](https://github.com/DavidLeoni/softpython-it/tree/master/errors-and-testing/)"
   ]
  },
  {
   "cell_type": "markdown",
   "metadata": {},
   "source": [
    "## Raggi cosmici\n",
    "\n",
    "✪✪✪ Requisiti: credere nella sfortuna\n",
    "\n",
    "In questi tempi di distanziamento sociale ci viene offerto di lavorare da remoto. Per organizzare il lavoro, ci viene comunicato un calendario con una serie di date per i meeting, espresso come lista di stringhe, nel formato `gg/mm/aaaa`. Per importare la lista nel nostro calendario preferito, vogliamo costruire un programma che analizzi le stringhe per estrarre **come tupla di interi**. Quindi per esempio la stringa `\"29/05/2020\"` deve essere riconosciuta e trasformata nella tupla `(29,5,2020)`\n",
    "\n",
    "Purtroppo, il calendario ci viene trasmesso dall'altro capo del pianeta, proprio durante una tempesta solare. I raggi cosmici interferiscono  senza pietà nella comunicazione, cambiando caratteri a caso. \n",
    "\n",
    "Sapendo  che la comunicazione potrebbe non essere completamente affidabile, decidiamo di scrivere un programma _resistente agli errori_, in modo che riesca a riconoscere quantomeno le date _ben formattate_ e con numeri dei giorni, mesi e anni ragionevoli. \n",
    "\n",
    "- Per giorni e mesi sappiamo che i limiti sono 31 e 12\n",
    "- per gli anni supponiamo che è impossibile vi siano eventi fissati prima del 2020 e dopo il 2023.\n",
    "\n",
    "\n",
    "- **Quando trovi un errore**: solleva un'`Exception` che descrive il problema\n",
    "- **USA** un blocco `try` `except` per catturare le eccezioni sollevate (anche e soprattutte quelle non previste !)"
   ]
  },
  {
   "cell_type": "markdown",
   "metadata": {},
   "source": [
    "Esempi di output atteso (ce ne sono tantissimi che se ne possono fare, \n",
    "qua trovate solo una selezione):\n",
    "\n",
    "```\n",
    "Parsing 08/11/2023\n",
    "   Riconosciuto! (8, 11, 2023)    <-- notate che vogliamo la conversione a interi !\n",
    "Parsing 02/1012028\n",
    "   ERRORE: Formato non valido!\n",
    "Parsing 02/(0/2021\n",
    "   ERRORE: invalid literal for int() with base 10: '(0'    \n",
    "Parsing 50/04(2920\n",
    "   ERRORE: Formato non valido!    \n",
    "Parsing 30/04/1803    \n",
    "   ERRORE: Anno non valido!\n",
    "Parsing 05/72/2021    \n",
    "   ERRORE: Mese non valido!\n",
    "Parsing 49/02/2022    \n",
    "   ERRORE: Giorno non valido!\n",
    "```"
   ]
  },
  {
   "cell_type": "code",
   "execution_count": 6,
   "metadata": {},
   "outputs": [
    {
     "name": "stdout",
     "output_type": "stream",
     "text": [
      "Parsing 97/81/2020\n",
      "    ERRORE: Giorno non valido: 97\n",
      "Parsing $0/04/2010\n",
      "    ERRORE: invalid literal for int() with base 10: '$0'\n",
      "Parsing 02/10/2022\n",
      "    Riconosciuto! (2, 10, 2022)\n",
      "Parsing 08/11/2023\n",
      "    Riconosciuto! (8, 11, 2023)\n",
      "Parsing 25/01/2021\n",
      "    Riconosciuto! (25, 1, 2021)\n",
      "Parsing 29/05/2023\n",
      "    Riconosciuto! (29, 5, 2023)\n"
     ]
    }
   ],
   "source": [
    "import random\n",
    "import string\n",
    "\n",
    "# FUNZIONE GIA' COMPLETA, NON TOCCARE !    \n",
    "def raggi_cosmici(flusso_dati):\n",
    "    for x in range(random.randint(1,min(3,len(flusso_dati)))):\n",
    "        i = random.randint(0,len(flusso_dati)-1)\n",
    "        #print('i',i)\n",
    "        lista = list(flusso_dati[i])\n",
    "        for c in range(random.randint(1,3)):\n",
    "            #print('lista',lista)\n",
    "            lista[random.randint(0,len(lista)-1)] = random.choice('0123456789$/()')\n",
    "            #print('flusso_dati[i]=',flusso_dati[i])\n",
    "            #print('modifico',flusso_dati[i])\n",
    "            flusso_dati[i] = ''.join(lista)\n",
    "\n",
    "# IMPORTANTE: dopo un primo round di testing, SCOMMENTA queste istruzioni random.seed\n",
    "#             per cambiare gli errori casuali introdotti  e verificare\n",
    "#             che il tuo programma gestisca anche quelle           \n",
    "# NOTA: Il numero del parametro non influisce sul numero o tipo di errori,\n",
    "# determina solo  quale sequenza di errori viene generata. \n",
    "# Se non imposti il seed otterrai errori completamente casuali diversi\n",
    "# ad ogni esecuzione del programma!\n",
    "\n",
    "random.seed(7)\n",
    "#random.seed(6)   # scommenta\n",
    "#random.seed(9)   # scommenta\n",
    "\n",
    "\n",
    "calendario = [\n",
    "    '07/11/2020',\n",
    "    '30/04/2020',\n",
    "    '02/10/2022',\n",
    "    '08/11/2023',\n",
    "    '25/01/2021',\n",
    "    '29/05/2023',\n",
    "]\n",
    "\n",
    "raggi_cosmici(calendario)  # modifica calendario con errori casuali !\n",
    "\n",
    "\n",
    "# scrivi qui\n",
    "\n"
   ]
  },
  {
   "cell_type": "code",
   "execution_count": 8,
   "metadata": {
    "nbsphinx": "hidden"
   },
   "outputs": [],
   "source": []
  }
 ],
 "metadata": {
  "celltoolbar": "Edit Metadata",
  "colab": {
   "collapsed_sections": [],
   "name": "SPS-4.ipynb",
   "provenance": [],
   "version": "0.3.2"
  },
  "kernelspec": {
   "display_name": "Python 3",
   "language": "python",
   "name": "python3"
  },
  "language_info": {
   "codemirror_mode": {
    "name": "ipython",
    "version": 3
   },
   "file_extension": ".py",
   "mimetype": "text/x-python",
   "name": "python",
   "nbconvert_exporter": "python",
   "pygments_lexer": "ipython3",
   "version": "3.7.10"
  },
  "toc": {
   "base_numbering": 1,
   "nav_menu": {},
   "number_sections": false,
   "sideBar": true,
   "skip_h1_title": false,
   "title_cell": "Table of Contents",
   "title_sidebar": "Contents",
   "toc_cell": false,
   "toc_position": {},
   "toc_section_display": true,
   "toc_window_display": true
  }
 },
 "nbformat": 4,
 "nbformat_minor": 1
}
