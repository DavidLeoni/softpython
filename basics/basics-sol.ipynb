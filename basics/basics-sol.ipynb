{
 "cells": [
  {
   "cell_type": "code",
   "execution_count": 1,
   "metadata": {
    "nbsphinx": "hidden"
   },
   "outputs": [],
   "source": [
    "# Ricordati di eseguire questa cella con Shift+Invio\n",
    "\n",
    "import sys\n",
    "sys.path.append('../')\n",
    "import jupman"
   ]
  },
  {
   "cell_type": "markdown",
   "metadata": {},
   "source": [
    "# Basi Python\n",
    "\n",
    "## [Scarica zip esercizi](../_static/generated/basics.zip)\n",
    "\n",
    "[Naviga file online](https://github.com/DavidLeoni/softpython-it/tree/master/basics)\n",
    "\n",
    "<div class=\"alert alert-warning\">\n",
    "\n",
    "**REQUISITI:**\n",
    "    \n",
    "* **Installato Python 3 e Jupyter:** se non hai già provveduto, guarda [Installazione](https://it.softpython.org/installation.html)\n",
    "* **Letto** [Strumenti e script](https://it.softpython.org/tools/tools-sol.html)\n",
    "\n",
    "</div>\n",
    "\n",
    "## Riferimenti\n",
    "\n",
    "- [Pensare in Python - Capitolo 1](https://davidleoni.github.io/ThinkPythonItalian/html/thinkpython2002.html): Lo scopo del programma\n",
    "- [Pensare in Python - Capitolo 2](https://davidleoni.github.io/ThinkPythonItalian/html/thinkpython2003.html): Variabili, espressioni ed istruzioni\n",
    "- [Nicola Cassetta - Lezione 1](http://ncassetta.altervista.org/Tutorial_Python/Lezione_01.html)\n",
    "- [Nicola Cassetta - Lezione 2](http://ncassetta.altervista.org/Tutorial_Python/Lezione_02.html)\n"
   ]
  },
  {
   "cell_type": "markdown",
   "metadata": {},
   "source": [
    "## Jupyter\n",
    "\n",
    "Jupyter è un editor che ti permette di i lavorare sui cosiddetti _notebook_, che sono file che finiscono con l'estensione `.ipynb`. Sono documenti divisi in celle dove per ogni cella puoi immettere dei comandi e vederne subito il rispettivo output. Proviamo ad aprire questo."
   ]
  },
  {
   "cell_type": "markdown",
   "metadata": {},
   "source": [
    "1. scompatta lo [zip degli esercizi](../_static/generated/basics.zip) in una cartella, dovresti ottenere qualcosa del genere: \n",
    "\n",
    "```\n",
    "\n",
    "basics\n",
    "    basics-sol.ipynb\n",
    "    basics.ipynb\n",
    "    jupman.py\n",
    "```\n",
    "\n",
    "<div class=\"alert alert-warning\">\n",
    "\n",
    "**ATTENZIONE**: Per essere visualizzato correttamente, il file del notebook DEVE essere nella cartella szippata.\n",
    "</div>\n"
   ]
  },
  {
   "cell_type": "markdown",
   "metadata": {},
   "source": [
    "\n",
    "2. apri il Jupyter Notebook da quella cartella. Due cose dovrebbero aprirsi, prima una console e poi un browser. Il browser dovrebbe mostrare una lista di file: naviga la lista e apri il notebook `basics.ipynb`\n",
    "\n",
    "<div class=\"alert alert-warning\">\n",
    "    \n",
    "**ATTENZIONE: apri quello SENZA il** `-sol` **alla fine!**\n",
    "    \n",
    "Vedere subito le soluzioni è troppo facile ;-)\n",
    "</div>\n",
    "\n",
    "<div class=\"alert alert-warning\">\n",
    "\n",
    "**ATTENZIONE: Se non trovi Jupyter / qualcosa non funziona, guarda** [la guida per l'installazione](https://it.softpython.org/installation.html#Notebook-Jupyter)\n",
    "\n",
    "</div>\n",
    "\n",
    "\n"
   ]
  },
  {
   "cell_type": "markdown",
   "metadata": {},
   "source": [
    "3. Prosegui leggendo il file degli esercizi, ogni tanto al suo interno troverai delle scritte **DA FARE**, che ti chiederanno di scrivere dei comandi Python nelle celle successive. Gli esercizi sono graduati per difficoltà, da una stellina ✪ a quattro ✪✪✪✪\n",
    "\n",
    "<div class=\"alert alert-warning\">\n",
    "\n",
    "**ATTENZIONE**: In questo libro usiamo **SOLO PYTHON 3** <br/>\n",
    "\n",
    "Se per caso ottieni comportamenti inattesi, controlla di usare Python 3 e non il 2. Se per caso il tuo sistema operativo scrivendo `python` fa partire il 2, prova ad eseguire il tre scrivendo il comando: `python3`\n",
    "</div>\n",
    "\n"
   ]
  },
  {
   "cell_type": "markdown",
   "metadata": {},
   "source": [
    "\n",
    "\n",
    "Scorciatoie da tastiera:\n",
    "\n",
    "* Per eseguire il codice Python dentro una cella di Jupyter, premi `Control+Invio`\n",
    "* Per eseguire il codice Python dentro una cella di Jupyter E selezionare la cella seguente, premi `Shift+Invio`\n",
    "* Per eseguire il codice Python dentro una cella di Jupyter E creare una nuova cella subito dopo, premi `Alt+Invio`\n",
    "* Se per caso il Notebook sembra inchiodato, prova a selezionare `Kernel -> Restart`\n"
   ]
  },
  {
   "cell_type": "markdown",
   "metadata": {},
   "source": [
    "\n",
    "## Oggetti\n",
    "\n",
    "Per Python qualunque cosa è un oggetto. Gli oggetti hanno **proprietà** (campi dove salvare valori) e **metodi** (cose che possono fare). Per esempio, un oggetto **auto** ha le _proprietà_  modello, marca, colore, numero di porte etc ..., e i _metodi_ sterza a destra, sterza a sinistra, accelera, frena, cambia marcia ...\n",
    "\n",
    "Secondo la documentazione ufficiale di Python:\n",
    "\n",
    "    Gli oggetti sono l'astrazione Python per i dati. Tutti i dati in un programma Python sono rappresentati da oggetti o da relazioni tra gli oggetti.\n",
    "\n",
    "\n",
    "Tutto quello che devi sapere per adesso è che gli oggetti Python hanno un **identificatore** (per es, il loro nome), un **tipo** (numeri, testo, collezioni, ...) e un **valore** (il dato attuale rappresentato dagli oggetti). Una volta che un'oggetto è stato creato l' _identificatore_ e il _tipo_ non cambiano mai, mentre il _valore_ può cambiare (**oggetti mutabili**) o rimanere costante (**oggetti immutabili**))."
   ]
  },
  {
   "cell_type": "markdown",
   "metadata": {},
   "source": [
    "\n",
    "Python fornisce questi tipi predefiniti ( _built-in_ ):\n",
    "\n",
    "\n",
    "\n",
    "|Tipo|Significato|Dominio|Mutabile?| \n",
    "|----|-----------|-------|---------|\n",
    "|`bool`|Condizione|`True`, `False`| no|\n",
    "|`int`|Intero|$\\mathbb{Z}$| no|\n",
    "|`long`|Intero|$\\mathbb{Z}$| no|\n",
    "|`float`|Razionale|$\\mathbb{Q}$ (più o meno)| no|\n",
    "|`str`|Testo|Testo| no|\n",
    "|`list`|Sequenza|Collezione di oggetti| sì|\n",
    "|`tuple`|Sequenza|Collezione di oggetti| no|\n",
    "|`set`|Insieme|Collezione di oggetti|sì|\n",
    "|`dict`|Mappatura|Mappatura tra oggetti| sì|\n",
    "\n",
    "\n",
    "\n",
    "Per il momento guarderemo i più semplici, più avanti li approfondiremo tutti."
   ]
  },
  {
   "cell_type": "markdown",
   "metadata": {},
   "source": [
    "## Variabili\n",
    "\n",
    "Le variabili sono associazioni tra nomi e oggetti (possiamo anche chiamarli valori)\n",
    "\n",
    "Le variabili possono essere associate o in termine più tecnico _assegnate_ agli oggetti usando l'operatore di assegnazione `=`.\n",
    "\n",
    "L'istruzione"
   ]
  },
  {
   "cell_type": "code",
   "execution_count": 2,
   "metadata": {},
   "outputs": [],
   "source": [
    "diamanti = 4"
   ]
  },
  {
   "cell_type": "markdown",
   "metadata": {},
   "source": [
    "può rappresentare quante pietre preziose teniamo in cassaforte. Cosa succede quando l'eseguiamo in Python? \n",
    "\n",
    "- un oggetto è creato\n",
    "- il suo tipo è impostato a `int` (un numero intero)\n",
    "- il suo valore è impostato a 4\n",
    "- un nome `diamanti` è creato nell'ambiente e assegnato a quell'oggetto"
   ]
  },
  {
   "cell_type": "markdown",
   "metadata": {},
   "source": [
    "### Rilevare il tipo di una variabile\n",
    "\n",
    "Quando vedi una variabile o una costante e hai dubbi sul suo tipo, puoi usare la funzione predefinita `type`:"
   ]
  },
  {
   "cell_type": "code",
   "execution_count": 3,
   "metadata": {},
   "outputs": [
    {
     "data": {
      "text/plain": [
       "int"
      ]
     },
     "execution_count": 3,
     "metadata": {},
     "output_type": "execute_result"
    }
   ],
   "source": [
    "type(diamanti)"
   ]
  },
  {
   "cell_type": "code",
   "execution_count": 4,
   "metadata": {},
   "outputs": [
    {
     "data": {
      "text/plain": [
       "int"
      ]
     },
     "execution_count": 4,
     "metadata": {},
     "output_type": "execute_result"
    }
   ],
   "source": [
    "type(4)"
   ]
  },
  {
   "cell_type": "code",
   "execution_count": 5,
   "metadata": {},
   "outputs": [
    {
     "data": {
      "text/plain": [
       "float"
      ]
     },
     "execution_count": 5,
     "metadata": {},
     "output_type": "execute_result"
    }
   ],
   "source": [
    "type(4.0)"
   ]
  },
  {
   "cell_type": "code",
   "execution_count": 6,
   "metadata": {},
   "outputs": [
    {
     "data": {
      "text/plain": [
       "str"
      ]
     },
     "execution_count": 6,
     "metadata": {},
     "output_type": "execute_result"
    }
   ],
   "source": [
    "type(\"Ciao\")"
   ]
  },
  {
   "cell_type": "markdown",
   "metadata": {},
   "source": [
    "### Riassegnare una variabile"
   ]
  },
  {
   "cell_type": "markdown",
   "metadata": {},
   "source": [
    "Considera adesso il codice seguente:"
   ]
  },
  {
   "cell_type": "code",
   "execution_count": 7,
   "metadata": {},
   "outputs": [
    {
     "name": "stdout",
     "output_type": "stream",
     "text": [
      "4\n"
     ]
    }
   ],
   "source": [
    "diamanti = 4\n",
    "print(diamanti)"
   ]
  },
  {
   "cell_type": "code",
   "execution_count": 8,
   "metadata": {},
   "outputs": [
    {
     "name": "stdout",
     "output_type": "stream",
     "text": [
      "5\n"
     ]
    }
   ],
   "source": [
    "diamanti = 5\n",
    "print(diamanti)"
   ]
  },
  {
   "cell_type": "markdown",
   "metadata": {},
   "source": [
    "Il valore della variabile `diamanti` è stato cambiato da 4 a 5, ma come riportato nella tabella sopra, il tipo `int` è **immutabile**. Fortunatamente, questo non ci ha ostacolato nel cambiare il valore di `diamanti` da 4 a 5. Cosa è successo dietro le scene? Quando abbiamo eseguito le istruzioni `diamanti = 5`, un nuovo oggetto di tipo `int` è stato creato  (`5` è un intero) e quindi reso disponibile con lo stesso nome `diamanti`, ma dato che è un oggetto differente (l'intero `5`), puoi vedere che l'identificatore è differente. \n",
    "\n",
    "Nota: non devi preoccuparti di cosa accade dietro le scene, l'interprete Python si prenderà cura di questi aspetti tecnici per te, ma intanto hai un idea di cosa accade."
   ]
  },
  {
   "cell_type": "markdown",
   "metadata": {},
   "source": [
    "### Riusare una variabile\n",
    "\n",
    "Quando riassegni una variabile ad un'altro valore, per calcoare il nuovo valore puoi tranquillamente usare il valore vecchio della variabile che vuoi cambiare. Per esempio, supponi di avere la variabile"
   ]
  },
  {
   "cell_type": "code",
   "execution_count": 9,
   "metadata": {},
   "outputs": [],
   "source": [
    "fiori = 4"
   ]
  },
  {
   "cell_type": "markdown",
   "metadata": {},
   "source": [
    "e vuoi aumentare il numero di `fiori` corrente di uno. Puoi scrivere così:"
   ]
  },
  {
   "cell_type": "code",
   "execution_count": 10,
   "metadata": {},
   "outputs": [],
   "source": [
    "fiori = fiori + 1"
   ]
  },
  {
   "cell_type": "markdown",
   "metadata": {},
   "source": [
    "Cos'è successo? Quando Python incontra un comando con l'`=`, PRIMA calcola il valore dell'espressione che trova a destra dell'`=`, e POI assegna quel valore alla variabile che trova a sinistra dell'`=`. \n",
    "\n",
    "Dato quest'ordine, nell'espressione a destra viene usato il valore vecchio della variabile (in questo caso `4`) a cui viene sommato `1` per ottenere `5` che viene quindi assegnato a `fiori`:"
   ]
  },
  {
   "cell_type": "code",
   "execution_count": 11,
   "metadata": {},
   "outputs": [
    {
     "data": {
      "text/plain": [
       "5"
      ]
     },
     "execution_count": 11,
     "metadata": {},
     "output_type": "execute_result"
    }
   ],
   "source": [
    "fiori"
   ]
  },
  {
   "cell_type": "markdown",
   "metadata": {},
   "source": [
    "In modo del tutto equivalente, potremmo riscrivere il codice così, usando una variabile d'appoggio `x`. Vediamolo in Python Tutor:"
   ]
  },
  {
   "cell_type": "code",
   "execution_count": 12,
   "metadata": {},
   "outputs": [],
   "source": [
    "# ATTENZIONE: per usare la funzione jupman.pytut() di seguito,\n",
    "# è necessario eseguire prima questa cella con Shift+Invio\n",
    "\n",
    "# basta eseguirla una volta sola, la trovi presente anche in tutti i fogli nella prima cella\n",
    "\n",
    "import sys\n",
    "sys.path.append('../')\n",
    "import jupman"
   ]
  },
  {
   "cell_type": "code",
   "execution_count": 13,
   "metadata": {},
   "outputs": [
    {
     "data": {
      "text/html": [
       "\n",
       "        <script src=\"../_static/js/pytutor-embed.bundle.min.js\" type=\"application/javascript\"></script>\n",
       "     \n",
       "        <script id=\"json-jm580d41d8-5a7e-4893-b57b-aaff903085f3\" type=\"application/json\" >\n",
       "            {\"trace\": [{\"func_name\": \"<module>\", \"stdout\": \"\", \"globals\": {}, \"heap\": {}, \"stack_to_render\": [], \"ordered_globals\": [], \"line\": 2, \"event\": \"step_line\"}, {\"func_name\": \"<module>\", \"stdout\": \"\", \"globals\": {\"fiori\": 4}, \"heap\": {}, \"stack_to_render\": [], \"ordered_globals\": [\"fiori\"], \"line\": 4, \"event\": \"step_line\"}, {\"func_name\": \"<module>\", \"stdout\": \"\", \"globals\": {\"fiori\": 4, \"x\": 5}, \"heap\": {}, \"stack_to_render\": [], \"ordered_globals\": [\"fiori\", \"x\"], \"line\": 6, \"event\": \"step_line\"}, {\"func_name\": \"<module>\", \"stdout\": \"\", \"globals\": {\"fiori\": 5, \"x\": 5}, \"heap\": {}, \"stack_to_render\": [], \"ordered_globals\": [\"fiori\", \"x\"], \"line\": 6, \"event\": \"return\"}], \"code\": \" \\nfiori = 4   \\n\\nx = fiori + 1\\n\\nfiori = x\"}\n",
       "        </script>\n",
       "        <div id=\"jm580d41d8-5a7e-4893-b57b-aaff903085f3\" class=\"pytutorVisualizer\"> </div>\n",
       " \n",
       "        <style>\n",
       "        .vizLayoutTd {\n",
       "            background-color: #fff !important;\n",
       "        }\n",
       "\n",
       "        #pyStdout {            \n",
       "            min-height:25px;\n",
       "        }\n",
       "\n",
       "        /* 'Edit this code' link, hiding because replaces browser tab !!!*/\n",
       "        #editCodeLinkDiv {\n",
       "            display:none;  \n",
       "        }\n",
       "        </style>   \n",
       "                            \n",
       "        <script>\n",
       "        (function(){\n",
       "\n",
       "            var trace = JSON.parse(document.getElementById('json-jm580d41d8-5a7e-4893-b57b-aaff903085f3').innerHTML);                                        \n",
       "            // NOTE 1: id without #\n",
       "            // NOTE 2 - maybe there are more predictable ways, but this will work anyway\n",
       "            //        - id should be number\n",
       "            visualizerIdOverride = Math.trunc(Math.random() * 100000000000)\n",
       "            addVisualizerToPage(trace, 'jm580d41d8-5a7e-4893-b57b-aaff903085f3',{'embeddedMode' : false,\n",
       "                                             'visualizerIdOverride':visualizerIdOverride})  \n",
       "            \n",
       "            \n",
       "            // set overflow for pytuts - need to do in python as css \n",
       "            // does not allow parent selection\n",
       "            var pytuts = $('.pytutorVisualizer')\n",
       "            pytuts.closest('div.output_html.rendered_html.output_result')\n",
       "                    .css('overflow-x', 'visible')\n",
       "        \n",
       "            //pytuts.closest('div.output_html.rendered_html.output_result')\n",
       "            //      .css('background-color','red')                \n",
       "            \n",
       "        })()\n",
       "        </script>\n",
       "                \n",
       "                "
      ],
      "text/plain": [
       "<IPython.core.display.HTML object>"
      ]
     },
     "execution_count": 13,
     "metadata": {},
     "output_type": "execute_result"
    }
   ],
   "source": [
    "\n",
    "fiori = 4   \n",
    "\n",
    "x = fiori + 1\n",
    "\n",
    "fiori = x\n",
    "\n",
    "jupman.pytut()"
   ]
  },
  {
   "cell_type": "markdown",
   "metadata": {},
   "source": [
    "### Assegnazioni - domande\n",
    "\n",
    "**DOMANDA**: Guarda le espressioni seguenti, e per ciascuna cerca di indovinare quale risultato produce  (o se da errore). Prova a verificare le tue supposizioni sia in Jupyter che un'altro editor di file `.py` come Spyder:\n",
    "\n",
    "    \n",
    "1.  ```python\n",
    "    x = 1\n",
    "    x\n",
    "    x    \n",
    "    ```        \n",
    "1.  ```python\n",
    "    x = 1\n",
    "    x = 2\n",
    "    print(x)\n",
    "    ```    \n",
    "1.  ```python\n",
    "    x = 1\n",
    "    x = 2\n",
    "    x\n",
    "    ```     \n",
    "1.  ```python\n",
    "    x = 1\n",
    "    print(x)\n",
    "    x = 2\n",
    "    print(x)\n",
    "    ```        \n",
    "1.  ```python\n",
    "    print(zam)\n",
    "    print(zam)\n",
    "    zam = 1    \n",
    "    zam = 2    \n",
    "    ```    \n",
    "1.  ```python        \n",
    "    x = 5\n",
    "    print(x,x)\n",
    "    ```        \n",
    "1.  ```python        \n",
    "    x = 5\n",
    "    print(x)\n",
    "    print(x)\n",
    "    ```\n",
    "1.  ```python        \n",
    "    x = 3\n",
    "    print(x,x*x,x**x)\n",
    "    ```    \n",
    "1.  ```python\n",
    "    3 + 5 = x\n",
    "    print(x)\n",
    "    ```\n",
    "1.  ```python\n",
    "    3 + x = 1\n",
    "    print(x)\n",
    "    ```    \n",
    "1.  ```python\n",
    "    x + 3 = 2\n",
    "    print(x)\n",
    "    ```    "
   ]
  },
  {
   "cell_type": "markdown",
   "metadata": {},
   "source": [
    "### Da fare - scambia\n",
    "\n",
    "✪ Date due variabili `a` e `b`:\n",
    "\n",
    "```python\n",
    "a = 5\n",
    "b = 3\n",
    "```\n",
    "\n",
    "scrivi del codice che scambia i loro valori, per cui dopo il tuo codice deve risultare\n",
    "\n",
    "```python\n",
    ">>> print(a)\n",
    "3\n",
    ">>> print(b)\n",
    "5\n",
    "```\n",
    "- Bastano due variabili? Se non sono sufficienti, prova ad introdurne una terza."
   ]
  },
  {
   "cell_type": "code",
   "execution_count": 14,
   "metadata": {},
   "outputs": [],
   "source": [
    "a = 5\n",
    "b = 3\n",
    "\n",
    "# scrivi qui\n",
    "temp = a   # associamo 5 alla variabile temp, facendo di fatto una copia\n",
    "a = b      # riassegniamo a al valore di b, cioè 3\n",
    "b = temp   # riassegniamo b al valore di temp, cioè 5\n",
    "#print(a)\n",
    "#print(b)"
   ]
  },
  {
   "cell_type": "markdown",
   "metadata": {},
   "source": [
    "### Da fare - ciclare\n",
    "\n",
    "✪ Scrivi un programma che date tre variabili con i numeri `a`, `b`, `c`, cicla i valori, cioè, mette il valore di `a` in `b`, il valore di `b` in `c`, e alla fine il valore di `c` in `a`.\n",
    "\n",
    "Perciò se hai iniziato così:\n",
    "\n",
    "\n",
    "```python\n",
    "a = 4\n",
    "b = 7\n",
    "c = 9\n",
    "```\n",
    "\n",
    "Dopo il codice che scriverai tu, eseguendo questo:\n",
    "\n",
    "```python\n",
    "print(a)\n",
    "print(b)\n",
    "print(c)\n",
    "```\n",
    "\n",
    "Dovresti vedere:\n",
    "```\n",
    "9\n",
    "4\n",
    "7\n",
    "```\n",
    "\n",
    "Ci sono vari modi di farlo, prova ad usare **solo una** variabile temporanea e fai attenzione a non perdere i valori !\n",
    "\n",
    "\n",
    "**SUGGERIMENTO**: per aiutarti, scrivi i commenti sullo stato della memoria, e pensa a quale comando usare.\n",
    "\n",
    "\n",
    "```python\n",
    "# a b c t    di quale comando ho bisogno?\n",
    "# 4 7 9 \n",
    "# 4 7 9 7    t = b\n",
    "# \n",
    "#\n",
    "#\n",
    "```\n"
   ]
  },
  {
   "cell_type": "code",
   "execution_count": 15,
   "metadata": {},
   "outputs": [
    {
     "name": "stdout",
     "output_type": "stream",
     "text": [
      "4\n",
      "7\n",
      "9\n"
     ]
    }
   ],
   "source": [
    "a = 4\n",
    "b = 7\n",
    "c = 9\n",
    "\n",
    "# scrivi qui\n",
    "\n",
    "print(a)\n",
    "print(b)\n",
    "print(c)"
   ]
  },
  {
   "cell_type": "code",
   "execution_count": 16,
   "metadata": {},
   "outputs": [
    {
     "name": "stdout",
     "output_type": "stream",
     "text": [
      "9\n",
      "4\n",
      "7\n"
     ]
    }
   ],
   "source": [
    "# SOLUZIONE\n",
    "\n",
    "a = 4\n",
    "b = 7\n",
    "c = 9\n",
    "\n",
    "\n",
    "# a b c t  di quale comando ho bisogno? \n",
    "# 4 7 9\n",
    "# 4 7 9 7  t = b\n",
    "# 4 4 9 7  b = a\n",
    "# 9 4 9 7  a = c\n",
    "# 9 4 7 7  c = t\n",
    "\n",
    "\n",
    "t = b\n",
    "b = a\n",
    "a = c\n",
    "c = t\n",
    "\n",
    "print(a)\n",
    "print(b)\n",
    "print(c)"
   ]
  },
  {
   "cell_type": "markdown",
   "metadata": {},
   "source": [
    "\n",
    "### Cambiare il tipo durante l'esecuzione\n",
    "\n",
    "Puoi anche cambiare il tipo di una variabile durante l'esecuzione ma quello normalmente è una **cattiva idea**  perchè rende il codice più difficile da comprendere, e aumenta la probabilità di commettere errori. Facciamo un esempio:"
   ]
  },
  {
   "cell_type": "code",
   "execution_count": 17,
   "metadata": {},
   "outputs": [],
   "source": [
    "diamanti = 4          # intero"
   ]
  },
  {
   "cell_type": "code",
   "execution_count": 18,
   "metadata": {},
   "outputs": [
    {
     "data": {
      "text/plain": [
       "6"
      ]
     },
     "execution_count": 18,
     "metadata": {},
     "output_type": "execute_result"
    }
   ],
   "source": [
    "diamanti + 2"
   ]
  },
  {
   "cell_type": "code",
   "execution_count": 19,
   "metadata": {},
   "outputs": [],
   "source": [
    "diamanti = \"quattro\"  # testo "
   ]
  },
  {
   "cell_type": "markdown",
   "metadata": {},
   "source": [
    "Adesso che `diamanti` è diventato testo, se per sbaglio proviamo a trattarlo come se fosse un numero avremo un errore !!\n",
    "\n",
    "```python\n",
    "diamanti + 2\n",
    "\n",
    "---------------------------------------------------------------------------\n",
    "TypeError                                 Traceback (most recent call last)\n",
    "<ipython-input-9-6124a47997d7> in <module>\n",
    "----> 1 diamanti + 2\n",
    "\n",
    "TypeError: can only concatenate str (not \"int\") to str\n",
    "\n",
    "```"
   ]
  },
  {
   "cell_type": "markdown",
   "metadata": {},
   "source": [
    "### Comandi multipli su una stessa linea\n",
    "\n",
    "E' possibile mettere più comandi su una stessa linea (non solo assegnazioni) separandoli da un punto e virgola `;`"
   ]
  },
  {
   "cell_type": "code",
   "execution_count": 20,
   "metadata": {},
   "outputs": [],
   "source": [
    "a = 10; b = a + 1; c = b + 2"
   ]
  },
  {
   "cell_type": "code",
   "execution_count": 21,
   "metadata": {},
   "outputs": [
    {
     "name": "stdout",
     "output_type": "stream",
     "text": [
      "10 11 13\n"
     ]
    }
   ],
   "source": [
    "print(a,b,c)"
   ]
  },
  {
   "cell_type": "markdown",
   "metadata": {},
   "source": [
    "<div class=\"alert alert-info\">\n",
    "\n",
    "**NOTA: I comandi multipli su stessa linea sono 'poco pythonici'**\n",
    "\n",
    "Per quanto volte utili e meno verbose che quelle con definizione esplicita, sono uno stile sconsigliato.\n",
    "\n",
    "</div>"
   ]
  },
  {
   "cell_type": "markdown",
   "metadata": {},
   "source": [
    "### Inizializzazioni multiple\n",
    "\n",
    "Cosa diversa sono le inizializzazioni multiple, separate da virgola `,` come:"
   ]
  },
  {
   "cell_type": "code",
   "execution_count": 22,
   "metadata": {},
   "outputs": [],
   "source": [
    "x,y = 5,7"
   ]
  },
  {
   "cell_type": "code",
   "execution_count": 23,
   "metadata": {},
   "outputs": [
    {
     "name": "stdout",
     "output_type": "stream",
     "text": [
      "5\n"
     ]
    }
   ],
   "source": [
    "print(x)"
   ]
  },
  {
   "cell_type": "code",
   "execution_count": 24,
   "metadata": {},
   "outputs": [
    {
     "name": "stdout",
     "output_type": "stream",
     "text": [
      "7\n"
     ]
    }
   ],
   "source": [
    "print(y)"
   ]
  },
  {
   "cell_type": "markdown",
   "metadata": {},
   "source": [
    "A differenza dei comandi multipli, le assegnazioni multiple sono uno stile più accettabile."
   ]
  },
  {
   "cell_type": "markdown",
   "metadata": {},
   "source": [
    "### Da fare - scambiare come un ninja\n",
    "\n",
    "Prova a scambiare il valore di due variabili `a` e `b` in una riga usando una riassegnazione multipla.\n",
    "\n",
    "```python\n",
    "a,b = 5,3\n",
    "```\n",
    "\n",
    "Dopo il tuo codice, deve risultare\n",
    "\n",
    "```python\n",
    ">>> print(a)\n",
    "3\n",
    ">>> print(b)\n",
    "5\n",
    "```"
   ]
  },
  {
   "cell_type": "code",
   "execution_count": 25,
   "metadata": {},
   "outputs": [],
   "source": [
    "a,b = 5,3\n",
    "\n",
    "# scrivi qui\n",
    "a,b = b,a\n",
    "#print(a)\n",
    "#print(b)"
   ]
  },
  {
   "cell_type": "markdown",
   "metadata": {},
   "source": [
    "### Nomi di variabile\n",
    "\n",
    "<div class=\"alert alert-warning\">\n",
    "\n",
    "**NOTA IMPORTANTE:** \n",
    "\n",
    "Puoi scegliere il nome che preferisci per le tue variabili (consiglio di scegliere qualcosa che ci ricorda il loro significato), ma devi aderire a semplici regole:\n",
    "</div>\n",
    "\n",
    "1. I nome possono solo contenere  caratteri in maiuscolo/minuscolo (`A-Z`, `a-z`), numeri (`0-9`) o _underscore_ `_`\n",
    "2. I nomi non possono iniziare con un numero\n",
    "3. i nomi di variabile dovrebbero iniziare con lettera minuscola\n",
    "4. I nomi non possono essere uguali a parole riservate\n",
    "\n",
    "**Parole riservate:**\n",
    "\n",
    "|||||||\n",
    "|-----|----|--------|-------|-------|----------|\n",
    "|`and`|`as`|`assert`|`break`|`class`|`continue`|\n",
    "|`def`|`del`|`elif`|`else`|`except`|`exec`|\n",
    "|`finally`|`for`|`from`|`global`|`if`|`import`|\n",
    "|`in`|`is`|`lambda`|`nonlocal`|`not`|`or`|\n",
    "|`pass`|`raise`|`return`|`try`|`while`|`with`|\n",
    "|`yield`|`True`|`False`|`None`|  |   |"
   ]
  },
  {
   "cell_type": "markdown",
   "metadata": {},
   "source": [
    "**Funzioni di sistema**: Oltre alle parole riservate (impossibili da ridefinire), Python ha anche diverse funzioni di sistema predefinite:\n",
    "\n",
    "* `bool`, `int`,`float`,`tuple`,`str`,`list`,`set`,`dict`\n",
    "* `max`, `min`, `sum`\n",
    "* `next`, `iter`\n",
    "* `id`, `dir`, `vars`,`help`\n",
    "\n",
    "Purtroppo, Python consente agli incauti di ridefinirle, ma **noi no**:\n",
    "\n",
    "<div class=\"alert alert-info\" >\n",
    "\n",
    "[V COMANDAMENTO](https://it.softpython.org/commandments.html#V-COMANDAMENTO)**: Non ridifinerai mai funzioni di sistema**\n",
    "\n",
    "Mai dichiarare variabili con questi nomi!\n",
    "</div>"
   ]
  },
  {
   "cell_type": "markdown",
   "metadata": {},
   "source": [
    "### Nomi di variabile - domande\n",
    "\n",
    "Per ciascuno dei nomi seguenti, prova a immaginare se è un valido _nome di variabile_ oppure no, e poi prova ad assegnarlo nella cella seguente\n",
    "\n",
    "\n",
    "1. `my-variable`\n",
    "2. `my_variable`\n",
    "3. `theCount`\n",
    "4. `the count`\n",
    "5. `some@var`\n",
    "6. `MacDonald`\n",
    "7. `7channel`\n",
    "8. `channel7`\n",
    "9. `stand.by`\n",
    "10. `channel45`\n",
    "11. `maybe3maybe`\n",
    "12. `\"ciao\"`\n",
    "13. `'hello'`\n",
    "14. `as`     CERCA DI CAPIRE LA DIFFERENZA *MOLTO IMPORTANTE* TRA QUESTO E I SEGUENTI DUE !!! \n",
    "15. `asino`\n",
    "16. `As`\n",
    "17. `lista`  CERCA DI COMPRENDERE LA DIFFERENZA *MOLTO IMPORTANTE* TRA QUESTO E I SEGUENTI DUE !!!\n",
    "18. `list`   NON PROVARE NEMMENO AD ASSEGNARE QUESTO NELL'INTERPRETE (SCRIVENDO PER ES `list = 5`), SE LO FAI RENDERAI L'INTERPRETE PRATICAMENTE INUTILIZZABILE !\n",
    "19. `List`\n",
    "20. `black&decker`\n",
    "21. `black & decker`\n",
    "22. `glab()`\n",
    "23. `caffè`  (NOTA LA è ACCENTATA `è` !)\n",
    "24. `):-]`\n",
    "25. `€zone` (NOTA IL SEGNO DELL'EURO)\n",
    "26. `some:pasta`\n",
    "27. `aren'tyouboredyet`\n",
    "28. `<angular>`\n",
    "\n",
    "\n",
    " "
   ]
  },
  {
   "cell_type": "code",
   "execution_count": 26,
   "metadata": {},
   "outputs": [],
   "source": [
    "# scrivi qui\n"
   ]
  },
  {
   "cell_type": "markdown",
   "metadata": {},
   "source": [
    "## Tipi numerici\n",
    "\n",
    "Abbiamo già menzionato che i numeri sono **oggetti immutabili**. Python fornisce diversi tipi numerici: interi (`int`), reali (`float`), booleani,  frazioni e numeri complessi.\n",
    "\n",
    "E' possibile compiere operazioni aritmetiche con i seguenti operatori, in ordine di precedenza:"
   ]
  },
  {
   "cell_type": "markdown",
   "metadata": {},
   "source": [
    "|Operatore|Descrizione|\n",
    "|---------|-----------|\n",
    "|`**`|Potenza|\n",
    "|`+` `-`| Più e meno unari|\n",
    "|`*` `/` `//` `%`|Moltiplicazione, divisione, divisione intera, modulo|\n",
    "|`+` `-`| Addizione e sottrazione|"
   ]
  },
  {
   "cell_type": "markdown",
   "metadata": {},
   "source": [
    "## Numeri interi\n",
    "\n",
    "La gamma di valori che gli interi possono avere è limitata solo dalla memoria disponibile. Per lavorare con i numeri, Python fornisce anche degli operatori:"
   ]
  },
  {
   "cell_type": "code",
   "execution_count": 27,
   "metadata": {},
   "outputs": [
    {
     "data": {
      "text/plain": [
       "11"
      ]
     },
     "execution_count": 27,
     "metadata": {},
     "output_type": "execute_result"
    }
   ],
   "source": [
    "7 + 4"
   ]
  },
  {
   "cell_type": "code",
   "execution_count": 28,
   "metadata": {},
   "outputs": [
    {
     "data": {
      "text/plain": [
       "3"
      ]
     },
     "execution_count": 28,
     "metadata": {},
     "output_type": "execute_result"
    }
   ],
   "source": [
    "7 - 4"
   ]
  },
  {
   "cell_type": "code",
   "execution_count": 29,
   "metadata": {},
   "outputs": [
    {
     "data": {
      "text/plain": [
       "1"
      ]
     },
     "execution_count": 29,
     "metadata": {},
     "output_type": "execute_result"
    }
   ],
   "source": [
    "7 // 4"
   ]
  },
  {
   "cell_type": "markdown",
   "metadata": {},
   "source": [
    "**NOTA**: la seguente divisione tra interi produce un risultato **float**, che come separatore per i decimali usa **il punto** (vedremo meglio in seguito):"
   ]
  },
  {
   "cell_type": "code",
   "execution_count": 30,
   "metadata": {},
   "outputs": [
    {
     "data": {
      "text/plain": [
       "1.75"
      ]
     },
     "execution_count": 30,
     "metadata": {},
     "output_type": "execute_result"
    }
   ],
   "source": [
    "7 / 4  "
   ]
  },
  {
   "cell_type": "code",
   "execution_count": 31,
   "metadata": {},
   "outputs": [
    {
     "data": {
      "text/plain": [
       "float"
      ]
     },
     "execution_count": 31,
     "metadata": {},
     "output_type": "execute_result"
    }
   ],
   "source": [
    "type(7 / 4)"
   ]
  },
  {
   "cell_type": "code",
   "execution_count": 32,
   "metadata": {},
   "outputs": [
    {
     "data": {
      "text/plain": [
       "28"
      ]
     },
     "execution_count": 32,
     "metadata": {},
     "output_type": "execute_result"
    }
   ],
   "source": [
    "7 * 4"
   ]
  },
  {
   "cell_type": "markdown",
   "metadata": {},
   "source": [
    "**NOTA:** per quanto in molti linguaggi la potenza si indica con il cappuccio `^`, invece in Python  si indica con il doppio asterisco `**`:"
   ]
  },
  {
   "cell_type": "code",
   "execution_count": 33,
   "metadata": {},
   "outputs": [
    {
     "data": {
      "text/plain": [
       "2401"
      ]
     },
     "execution_count": 33,
     "metadata": {},
     "output_type": "execute_result"
    }
   ],
   "source": [
    "7 ** 4   # potenza"
   ]
  },
  {
   "cell_type": "markdown",
   "metadata": {},
   "source": [
    "### Da fare - scadenza 1\n",
    "\n",
    "✪ Ci viene data una importante scadenza tra:"
   ]
  },
  {
   "cell_type": "code",
   "execution_count": 34,
   "metadata": {},
   "outputs": [],
   "source": [
    "giorni = 4\n",
    "ore = 13\n",
    "minuti = 52"
   ]
  },
  {
   "cell_type": "markdown",
   "metadata": {},
   "source": [
    "Scrivi del codice che stampa i minuti in totale. Eseguendolo, deve risultare:\n",
    "\n",
    "```\n",
    "In totale mancano 6592 minuti\n",
    "```"
   ]
  },
  {
   "cell_type": "code",
   "execution_count": 35,
   "metadata": {},
   "outputs": [
    {
     "name": "stdout",
     "output_type": "stream",
     "text": [
      "In totale mancano 6592 minuti\n"
     ]
    }
   ],
   "source": [
    "giorni = 4\n",
    "ore = 13\n",
    "minuti = 52\n",
    "\n",
    "# scrivi qui\n",
    "print(\"In totale mancano\", giorni*24*60 + ore*60 + minuti, \"minuti\")"
   ]
  },
  {
   "cell_type": "markdown",
   "metadata": {},
   "source": [
    "### Operatore modulo\n",
    "\n",
    "Per trovare il resto della divisione tra due interi, possiamo usare l'operatore modulo che indichiamo con `%`:"
   ]
  },
  {
   "cell_type": "code",
   "execution_count": 36,
   "metadata": {},
   "outputs": [
    {
     "data": {
      "text/plain": [
       "2"
      ]
     },
     "execution_count": 36,
     "metadata": {},
     "output_type": "execute_result"
    }
   ],
   "source": [
    "5 % 3  # 5 diviso 3 da resto 2"
   ]
  },
  {
   "cell_type": "code",
   "execution_count": 37,
   "metadata": {},
   "outputs": [
    {
     "data": {
      "text/plain": [
       "1"
      ]
     },
     "execution_count": 37,
     "metadata": {},
     "output_type": "execute_result"
    }
   ],
   "source": [
    "5 % 4"
   ]
  },
  {
   "cell_type": "code",
   "execution_count": 38,
   "metadata": {},
   "outputs": [
    {
     "data": {
      "text/plain": [
       "0"
      ]
     },
     "execution_count": 38,
     "metadata": {},
     "output_type": "execute_result"
    }
   ],
   "source": [
    "5 % 5"
   ]
  },
  {
   "cell_type": "code",
   "execution_count": 39,
   "metadata": {},
   "outputs": [
    {
     "data": {
      "text/plain": [
       "5"
      ]
     },
     "execution_count": 39,
     "metadata": {},
     "output_type": "execute_result"
    }
   ],
   "source": [
    "5 % 6"
   ]
  },
  {
   "cell_type": "code",
   "execution_count": 40,
   "metadata": {},
   "outputs": [
    {
     "data": {
      "text/plain": [
       "5"
      ]
     },
     "execution_count": 40,
     "metadata": {},
     "output_type": "execute_result"
    }
   ],
   "source": [
    "5 % 7"
   ]
  },
  {
   "cell_type": "markdown",
   "metadata": {},
   "source": [
    "### Da fare - scadenza 2\n",
    "\n",
    "✪ Ad un'altra importantissima scadenza importante mancano:"
   ]
  },
  {
   "cell_type": "markdown",
   "metadata": {},
   "source": [
    "```python\n",
    "tot_minuti = 5000\n",
    "```\n",
    "\n",
    "Scrivi del codice che stampa:\n",
    "\n",
    "```\n",
    "Mancano:\n",
    "   3 giorni\n",
    "   11 ore\n",
    "   20 minuti\n",
    "```"
   ]
  },
  {
   "cell_type": "code",
   "execution_count": 41,
   "metadata": {},
   "outputs": [
    {
     "name": "stdout",
     "output_type": "stream",
     "text": [
      "Mancano:\n",
      "   3 giorni\n",
      "   11 ore\n",
      "   20 minuti\n"
     ]
    }
   ],
   "source": [
    "tot_minuti = 5000\n",
    "\n",
    "# scrivi qui\n",
    "print('Mancano:')\n",
    "print('  ', tot_minuti // (60*24), 'giorni')\n",
    "print('  ', (tot_minuti % (60*24)) // 60, 'ore')\n",
    "print('  ', (tot_minuti % (60*24)) % 60, 'minuti')"
   ]
  },
  {
   "cell_type": "markdown",
   "metadata": {},
   "source": [
    "## Booleani \n",
    "\n",
    "**Riferimenti**:\n",
    "\n",
    "- [Pensare in Python, Capitolo 5, Istruzioni condizionali e ricorsione](https://davidleoni.github.io/ThinkPythonItalian/html/thinkpython2006.html) ,  in particolare [Sezioni 5.2 e 5.3, Espressioni booleane](https://davidleoni.github.io/ThinkPythonItalian/html/thinkpython2006.html#sec59) Puoi saltare la ricorsione\n",
    "- [Nicola Cassetta, Lezione 7,  Le istruzioni condizionali: if, else, elif](http://ncassetta.altervista.org/Tutorial_Python/Lezione_04.html)\n",
    "\n",
    "Questi oggetti sono usati nell'algebra booleana e hanno il tipo `bool`.\n",
    "\n",
    "I valori di verità sono rappresentati con le parole chiave `True` e `False` in Python: un oggetto booleano può solo avere i valori `True` e `False`.\n"
   ]
  },
  {
   "cell_type": "code",
   "execution_count": 42,
   "metadata": {},
   "outputs": [],
   "source": [
    "x = True"
   ]
  },
  {
   "cell_type": "code",
   "execution_count": 43,
   "metadata": {},
   "outputs": [
    {
     "data": {
      "text/plain": [
       "True"
      ]
     },
     "execution_count": 43,
     "metadata": {},
     "output_type": "execute_result"
    }
   ],
   "source": [
    "x"
   ]
  },
  {
   "cell_type": "code",
   "execution_count": 44,
   "metadata": {},
   "outputs": [
    {
     "data": {
      "text/plain": [
       "bool"
      ]
     },
     "execution_count": 44,
     "metadata": {},
     "output_type": "execute_result"
    }
   ],
   "source": [
    "type(x)"
   ]
  },
  {
   "cell_type": "code",
   "execution_count": 45,
   "metadata": {},
   "outputs": [],
   "source": [
    "y = False"
   ]
  },
  {
   "cell_type": "code",
   "execution_count": 46,
   "metadata": {},
   "outputs": [
    {
     "data": {
      "text/plain": [
       "bool"
      ]
     },
     "execution_count": 46,
     "metadata": {},
     "output_type": "execute_result"
    }
   ],
   "source": [
    "type(y)"
   ]
  },
  {
   "cell_type": "markdown",
   "metadata": {},
   "source": [
    "### Operatori tra booleani\n",
    "\n",
    "Possiamo operare sui valori booleani con gli operatori booleani `not`, `and`, `or`:"
   ]
  },
  {
   "cell_type": "code",
   "execution_count": 47,
   "metadata": {},
   "outputs": [
    {
     "data": {
      "text/plain": [
       "True"
      ]
     },
     "execution_count": 47,
     "metadata": {},
     "output_type": "execute_result"
    }
   ],
   "source": [
    "# Espressione    Risultato\n",
    "not True         # False\n",
    "not False        # True\n",
    "\n",
    "False and False  # False\n",
    "False and True   # False\n",
    "True and False   # False\n",
    "True and True    # True\n",
    "\n",
    "False or False   # False\n",
    "False or True    # True\n",
    "True or False    # True\n",
    "True or True     # True\n"
   ]
  },
  {
   "cell_type": "markdown",
   "metadata": {},
   "source": [
    "### Booleani - Esercizio con costanti\n",
    "\n",
    "**DA FARE**: Per ciascuna delle seguenti espressioni booleane, prova a indovinare il risultato (_prima_ indovina, e _poi_ provale !):\n",
    "\n",
    "\n",
    "1.  ```python\n",
    "    not (True and False)\n",
    "    ```\n",
    "1.  ```python    \n",
    "    (not True) or (not (True or False))\n",
    "    ```\n",
    "1.  ```python\n",
    "    not (not True)\n",
    "    ```\n",
    "1.  ```python    \n",
    "    not (True and (False or True))\n",
    "    ```\n",
    "1.  ```python    \n",
    "    not (not (not False))\n",
    "    ```\n",
    "1.  ```python    \n",
    "    True and (not (not((not False) and True)))\n",
    "    ```\n",
    "1.  ```python    \n",
    "    False or (False or ((True and True) and (True and False)))\n",
    "    ```\n"
   ]
  },
  {
   "cell_type": "markdown",
   "metadata": {},
   "source": [
    "### Booleani -  Esercizio con variabili"
   ]
  },
  {
   "cell_type": "markdown",
   "metadata": {},
   "source": [
    "**DOMANDA**: Per ciascuna di queste espressioni, per quali valori di `x` e `y` danno `True`? Prova a pensare una risposta prima di provare !!!\n",
    "\n",
    "**NOTA**: ci possono essere più combinazioni che producono `True`, trovale tutte.\n",
    "\n",
    "1.  ```python\n",
    "    x or (not x)\n",
    "    ```\n",
    "1.  ```python\n",
    "    (not x) and (not y)\n",
    "    ```\n",
    "1.  ```python\n",
    "    x and (y or y)\n",
    "    ```\n",
    "1.  ```python\n",
    "    x and (not y)\n",
    "    ```\n",
    "1.  ```python\n",
    "    (not x) or  y\n",
    "    ```\n",
    "1.  ```python\n",
    "    y or not (y and x)\n",
    "    ```\n",
    "1.  ```python\n",
    "    x and ((not x) or not(y))\n",
    "    ```\n",
    "1.  ```python\n",
    "    (not (not x)) and not (x and y)\n",
    "    ```    \n",
    "1.  ```python\n",
    "    x and (x or (not(x) or not(not(x or not (x)))))\n",
    "    ```"
   ]
  },
  {
   "cell_type": "markdown",
   "metadata": {},
   "source": [
    "**DOMANDA**: Per ciascuna di queste espressioni, per quali valori di `x` e `y` danno `False` ?\n",
    "\n",
    "**NOTA**: ci possono essere più combiinazioni che producono `False`, trovale tutte\n",
    "\n",
    "1.  ```python\n",
    "    x or ((not y) or z)\n",
    "    ```\n",
    "1.  ```python\n",
    "    x or (not y) or (not z)\n",
    "    ```\n",
    "1.  ```python\n",
    "    not (x and y and (not z))\n",
    "    ```\n",
    "1.  ```python\n",
    "    not (x and (not y) and (x or z))\n",
    "    ```\n",
    "1.  ```python\n",
    "    y or ((x or y) and (not z))\n",
    "    ```"
   ]
  },
  {
   "cell_type": "markdown",
   "metadata": {},
   "source": [
    "### Booleani - Conversione\n",
    "\n",
    "Possiamo convertire booleani in interi con la funzione predefinita `int`. Ogni intero può essere convertito in un booleano (e vice versa) con `bool`:\n"
   ]
  },
  {
   "cell_type": "code",
   "execution_count": 48,
   "metadata": {},
   "outputs": [
    {
     "data": {
      "text/plain": [
       "True"
      ]
     },
     "execution_count": 48,
     "metadata": {},
     "output_type": "execute_result"
    }
   ],
   "source": [
    "bool(1)"
   ]
  },
  {
   "cell_type": "code",
   "execution_count": 49,
   "metadata": {},
   "outputs": [
    {
     "data": {
      "text/plain": [
       "False"
      ]
     },
     "execution_count": 49,
     "metadata": {},
     "output_type": "execute_result"
    }
   ],
   "source": [
    "bool(0)"
   ]
  },
  {
   "cell_type": "code",
   "execution_count": 50,
   "metadata": {},
   "outputs": [
    {
     "data": {
      "text/plain": [
       "True"
      ]
     },
     "execution_count": 50,
     "metadata": {},
     "output_type": "execute_result"
    }
   ],
   "source": [
    "bool(72)"
   ]
  },
  {
   "cell_type": "code",
   "execution_count": 51,
   "metadata": {},
   "outputs": [
    {
     "data": {
      "text/plain": [
       "True"
      ]
     },
     "execution_count": 51,
     "metadata": {},
     "output_type": "execute_result"
    }
   ],
   "source": [
    "bool(-5)"
   ]
  },
  {
   "cell_type": "code",
   "execution_count": 52,
   "metadata": {},
   "outputs": [
    {
     "data": {
      "text/plain": [
       "1"
      ]
     },
     "execution_count": 52,
     "metadata": {},
     "output_type": "execute_result"
    }
   ],
   "source": [
    "int(True)"
   ]
  },
  {
   "cell_type": "code",
   "execution_count": 53,
   "metadata": {},
   "outputs": [
    {
     "data": {
      "text/plain": [
       "0"
      ]
     },
     "execution_count": 53,
     "metadata": {},
     "output_type": "execute_result"
    }
   ],
   "source": [
    "int(False)"
   ]
  },
  {
   "cell_type": "markdown",
   "metadata": {},
   "source": [
    "Ogni intero è valutato a `True`, eccetto `0`. Nota che, i valori di verità `True` e `False` si comportano rispettivamente come gli interi `1` e `0`"
   ]
  },
  {
   "cell_type": "markdown",
   "metadata": {},
   "source": [
    "### Booleani - Esercizio - cos'è un booleano?\n",
    "\n",
    "**DOMANDA**: Per ciascuna di queste espressioni, che risultato produce?\n",
    "\n",
    "1.  ```python\n",
    "    bool(True)\n",
    "    ```\n",
    "1.  ```python\n",
    "    bool(False)\n",
    "    ```\n",
    "1.  ```python\n",
    "    bool(2 + 4)\n",
    "    ```\n",
    "\n",
    "1.  ```python\n",
    "    bool(4-3-1)\n",
    "    ```\n",
    "1.  ```python\n",
    "    int(4-3-1)\n",
    "    ```\n",
    "1.  ```python\n",
    "    True + True\n",
    "    ```\n",
    "1.  ```python\n",
    "    True + False\n",
    "    ```\n",
    "1.  ```python\n",
    "    True - True\n",
    "    ```\n",
    "1.  ```python\n",
    "    True * True\n",
    "    ```"
   ]
  },
  {
   "cell_type": "markdown",
   "metadata": {},
   "source": [
    "### Booleani - Ordine di valutazione\n",
    "\n",
    "\n",
    "Per questioni di efficienza, se durante la valutazione di un'espressione booleana Python scopre che il risultato possibile può essere solo uno, allora evita di calcolare le espressioni seguenti. Per esempio, in questa espressione:\n",
    "\n",
    "```python\n",
    "False and x\n",
    "```\n",
    "\n",
    "leggendo da sinistra a destra, nel momento in cui incontriamo `False` sappiamo già che il risultato della `and` sarà sempre `False` indipendentemente dal valore della `x` (convinciti). \n",
    "\n",
    "Se invece leggendo da sinistra a destra Python trova prima `True`, continua la valutazione delle espressioni seguenti _e come risultato dell'intera_ `and` _restituisce la valutazione dell'_ ***ultima*** _espressione_. Se usiamo sempre booleani, non ci accorgeremo delle differenze, ma cambiando tipi potremmo ottenere delle sorprese:"
   ]
  },
  {
   "cell_type": "code",
   "execution_count": 54,
   "metadata": {},
   "outputs": [
    {
     "data": {
      "text/plain": [
       "5"
      ]
     },
     "execution_count": 54,
     "metadata": {},
     "output_type": "execute_result"
    }
   ],
   "source": [
    "True and 5"
   ]
  },
  {
   "cell_type": "code",
   "execution_count": 55,
   "metadata": {},
   "outputs": [
    {
     "data": {
      "text/plain": [
       "True"
      ]
     },
     "execution_count": 55,
     "metadata": {},
     "output_type": "execute_result"
    }
   ],
   "source": [
    "5 and True"
   ]
  },
  {
   "cell_type": "code",
   "execution_count": 56,
   "metadata": {},
   "outputs": [
    {
     "data": {
      "text/plain": [
       "False"
      ]
     },
     "execution_count": 56,
     "metadata": {},
     "output_type": "execute_result"
    }
   ],
   "source": [
    "False and 5"
   ]
  },
  {
   "cell_type": "code",
   "execution_count": 57,
   "metadata": {},
   "outputs": [
    {
     "data": {
      "text/plain": [
       "False"
      ]
     },
     "execution_count": 57,
     "metadata": {},
     "output_type": "execute_result"
    }
   ],
   "source": [
    "5 and False"
   ]
  },
  {
   "cell_type": "markdown",
   "metadata": {},
   "source": [
    "Pensiamo a quale può essere l'ordine di valutazione nella `or`. Guarda l'espressione:\n",
    "\n",
    "```python\n",
    "True or x\n",
    "```\n",
    "\n",
    "leggendo da sinistra a destra, appena troviamo il `True` possiamo stabilire che il risultato di tutta la `or` dovrà essere `True` indipendentemente dal valore di `x` (convinciti).\n",
    "\n",
    "Se invece il primo valore è `False`, Python continuerà la valutazione finchè trova un valore logico `True`, quando questo accade quel valore sarà il risultato dell'intera espressione. Ce ne possiamo accorgere se usiamo costanti diverse da `True` e da `False`:"
   ]
  },
  {
   "cell_type": "code",
   "execution_count": 58,
   "metadata": {},
   "outputs": [
    {
     "data": {
      "text/plain": [
       "5"
      ]
     },
     "execution_count": 58,
     "metadata": {},
     "output_type": "execute_result"
    }
   ],
   "source": [
    "False or 5"
   ]
  },
  {
   "cell_type": "code",
   "execution_count": 59,
   "metadata": {},
   "outputs": [
    {
     "data": {
      "text/plain": [
       "7"
      ]
     },
     "execution_count": 59,
     "metadata": {},
     "output_type": "execute_result"
    }
   ],
   "source": [
    "7 or False"
   ]
  },
  {
   "cell_type": "code",
   "execution_count": 60,
   "metadata": {},
   "outputs": [
    {
     "data": {
      "text/plain": [
       "3"
      ]
     },
     "execution_count": 60,
     "metadata": {},
     "output_type": "execute_result"
    }
   ],
   "source": [
    "3 or True"
   ]
  },
  {
   "cell_type": "markdown",
   "metadata": {},
   "source": [
    "I numeri che vedi hanno sempre un risultato logico coerente con le operazioni fatte, cioè se vedi `0` si intende che il risultato dell'espressione abbia valore logico `False` e se vedi un numero diverso da `0` il risultato si intende `True` (convinciti)"
   ]
  },
  {
   "cell_type": "markdown",
   "metadata": {},
   "source": [
    "**DOMANDA**: Guarda le espressioni seguenti, e per ciascuna cerca di indovinare quale risultato produce (o se da errore):\n",
    "\n",
    "1.  ```python\n",
    "    0 and True\n",
    "    ```\n",
    "1.  ```python\n",
    "    1 and 0\n",
    "    ```\n",
    "1.  ```python\n",
    "    True and -1\n",
    "    ```    \n",
    "1.  ```python\n",
    "    0 and False\n",
    "    ```    \n",
    "1.  ```python\n",
    "    0 or False\n",
    "    ```        \n",
    "1.  ```python\n",
    "    0 or 1\n",
    "    ```\n",
    "1.  ```python\n",
    "    False or -6\n",
    "    ```    \n",
    "1.  ```python\n",
    "    0 or True\n",
    "    ```       "
   ]
  },
  {
   "cell_type": "markdown",
   "metadata": {},
   "source": [
    "### Booleani - errori nella valutazione\n",
    "\n",
    "Cosa succede se un'espressione booleana contiene del codice che genererebbe un errore? Intuitivamente, il programma dovrebbe terminare, ma non è sempre così.\n",
    "\n",
    "Proviamo a generare di proposito un errore. Come ti avranno sicuramente detto più e più volte alle lezioni di matematica, provare a dividere un numero per zero è un errore perchè il risultato è indeterminato. Quindi se proviamo a chiedere a Python il risultato di `1/0` otterremo (prevedibilmente) lamentele:"
   ]
  },
  {
   "cell_type": "markdown",
   "metadata": {},
   "source": [
    "```python\n",
    "print(1/0)\n",
    "print('dopo')\n",
    "\n",
    "---------------------------------------------------------------------------\n",
    "ZeroDivisionError                         Traceback (most recent call last)\n",
    "<ipython-input-51-9e1622b385b6> in <module>()\n",
    "----> 1 1/0\n",
    "\n",
    "ZeroDivisionError: division by zero\n",
    "\n",
    "```"
   ]
  },
  {
   "cell_type": "markdown",
   "metadata": {},
   "source": [
    "Nota che `'dopo'` _non_  viene stampato perchè il programma si interrompe prima.\n",
    "\n",
    "E se proviamo a scrivere così, cosa otteniamo?"
   ]
  },
  {
   "cell_type": "code",
   "execution_count": 61,
   "metadata": {},
   "outputs": [
    {
     "data": {
      "text/plain": [
       "False"
      ]
     },
     "execution_count": 61,
     "metadata": {},
     "output_type": "execute_result"
    }
   ],
   "source": [
    "False and 1/0"
   ]
  },
  {
   "cell_type": "markdown",
   "metadata": {},
   "source": [
    "Python produce un risultato senza lamentarsi !  Perchè? Valutando da sinistra a destra ha incontrato un `False` e ha quindi concluso in anticipo che il risultato dell'espressione debba essere `False`. Molte volte non ti accorgerai di questi potenziali problemi ma è bene conoscerli perchè vi sono situazioni in cui puoi  persino sfruttare l'ordine di esecuzione per prevenire errori (per esempio negli `if` e `while` che vedremo in seguito)."
   ]
  },
  {
   "cell_type": "markdown",
   "metadata": {},
   "source": [
    "**DOMANDA**: Guarda le espressioni seguenti, e per ciascuna cerca di indovinare quale risultato produce (o se da errore):\n",
    "\n",
    "1.  ```python\n",
    "    True and 1/0\n",
    "    ```\n",
    "1.  ```python\n",
    "    1/0 and 1/0\n",
    "    ```        \n",
    "1.  ```python\n",
    "    False or 1/0\n",
    "    ```\n",
    "1.  ```python\n",
    "    True or 1/0\n",
    "    ```\n",
    "1.  ```python\n",
    "    1/0 or True\n",
    "    ```    \n",
    "1.  ```python\n",
    "    1/0 or 1/0\n",
    "    ```    \n",
    "1.  ```python\n",
    "    True or (1/0 and True)\n",
    "    ```\n",
    "1.  ```python\n",
    "    (not False) or not 1/0\n",
    "    ```\n",
    "1.  ```python\n",
    "    True and 1/0 and True\n",
    "    ```\n",
    "1.  ```python\n",
    "    (not True) or 1/0 or True\n",
    "    ```\n",
    "1.  ```python\n",
    "    True and (not True) and 1/0\n",
    "    ```"
   ]
  },
  {
   "cell_type": "markdown",
   "metadata": {},
   "source": [
    "### Operatori di comparazione\n",
    "\n",
    "Gli operatori di comparazione permettono di costruire _espressioni_ che ritornano un valore booleano:\n",
    "\n",
    "|Comparatore|Descrizione|\n",
    "|-----------|-----------|\n",
    "|`a == b`| `True` se e solo se a = b|\n",
    "|`a != b`| `True` se e solo se a $\\neq$ b|\n",
    "|`a < b`| `True` se e solo se a < b|\n",
    "|`a > b`| `True` se e solo se a > b|\n",
    "|`a <= b`| `True` se e solo se a $\\leq$ b|\n",
    "|`a >= b`| `True` se e solo se a $\\geq$ b|"
   ]
  },
  {
   "cell_type": "code",
   "execution_count": 62,
   "metadata": {},
   "outputs": [
    {
     "data": {
      "text/plain": [
       "True"
      ]
     },
     "execution_count": 62,
     "metadata": {},
     "output_type": "execute_result"
    }
   ],
   "source": [
    "3 == 3"
   ]
  },
  {
   "cell_type": "code",
   "execution_count": 63,
   "metadata": {},
   "outputs": [
    {
     "data": {
      "text/plain": [
       "False"
      ]
     },
     "execution_count": 63,
     "metadata": {},
     "output_type": "execute_result"
    }
   ],
   "source": [
    "3 == 5"
   ]
  },
  {
   "cell_type": "code",
   "execution_count": 64,
   "metadata": {},
   "outputs": [],
   "source": [
    "a,b = 3,5"
   ]
  },
  {
   "cell_type": "code",
   "execution_count": 65,
   "metadata": {},
   "outputs": [
    {
     "data": {
      "text/plain": [
       "True"
      ]
     },
     "execution_count": 65,
     "metadata": {},
     "output_type": "execute_result"
    }
   ],
   "source": [
    "a == a"
   ]
  },
  {
   "cell_type": "code",
   "execution_count": 66,
   "metadata": {},
   "outputs": [
    {
     "data": {
      "text/plain": [
       "False"
      ]
     },
     "execution_count": 66,
     "metadata": {},
     "output_type": "execute_result"
    }
   ],
   "source": [
    "a == b"
   ]
  },
  {
   "cell_type": "code",
   "execution_count": 67,
   "metadata": {},
   "outputs": [
    {
     "data": {
      "text/plain": [
       "True"
      ]
     },
     "execution_count": 67,
     "metadata": {},
     "output_type": "execute_result"
    }
   ],
   "source": [
    "a == b - 2"
   ]
  },
  {
   "cell_type": "code",
   "execution_count": 68,
   "metadata": {},
   "outputs": [
    {
     "data": {
      "text/plain": [
       "True"
      ]
     },
     "execution_count": 68,
     "metadata": {},
     "output_type": "execute_result"
    }
   ],
   "source": [
    "3 != 5  # 3 è diverso da 5 ? "
   ]
  },
  {
   "cell_type": "code",
   "execution_count": 69,
   "metadata": {},
   "outputs": [
    {
     "data": {
      "text/plain": [
       "False"
      ]
     },
     "execution_count": 69,
     "metadata": {},
     "output_type": "execute_result"
    }
   ],
   "source": [
    "3 != 3  # 3 è diverso da 3 ? "
   ]
  },
  {
   "cell_type": "code",
   "execution_count": 70,
   "metadata": {},
   "outputs": [
    {
     "data": {
      "text/plain": [
       "True"
      ]
     },
     "execution_count": 70,
     "metadata": {},
     "output_type": "execute_result"
    }
   ],
   "source": [
    "3 < 5"
   ]
  },
  {
   "cell_type": "code",
   "execution_count": 71,
   "metadata": {},
   "outputs": [
    {
     "data": {
      "text/plain": [
       "False"
      ]
     },
     "execution_count": 71,
     "metadata": {},
     "output_type": "execute_result"
    }
   ],
   "source": [
    "5 < 5"
   ]
  },
  {
   "cell_type": "code",
   "execution_count": 72,
   "metadata": {},
   "outputs": [
    {
     "data": {
      "text/plain": [
       "True"
      ]
     },
     "execution_count": 72,
     "metadata": {},
     "output_type": "execute_result"
    }
   ],
   "source": [
    "5 <= 5"
   ]
  },
  {
   "cell_type": "code",
   "execution_count": 73,
   "metadata": {},
   "outputs": [
    {
     "data": {
      "text/plain": [
       "True"
      ]
     },
     "execution_count": 73,
     "metadata": {},
     "output_type": "execute_result"
    }
   ],
   "source": [
    "8 > 5"
   ]
  },
  {
   "cell_type": "code",
   "execution_count": 74,
   "metadata": {},
   "outputs": [
    {
     "data": {
      "text/plain": [
       "False"
      ]
     },
     "execution_count": 74,
     "metadata": {},
     "output_type": "execute_result"
    }
   ],
   "source": [
    "8 > 8"
   ]
  },
  {
   "cell_type": "code",
   "execution_count": 75,
   "metadata": {},
   "outputs": [
    {
     "data": {
      "text/plain": [
       "True"
      ]
     },
     "execution_count": 75,
     "metadata": {},
     "output_type": "execute_result"
    }
   ],
   "source": [
    "8 >= 8"
   ]
  },
  {
   "cell_type": "markdown",
   "metadata": {},
   "source": [
    "Dato che le comparazioni sono espressioni che producono booleani, possiamo anche assegnare il risultato ad una variabile:"
   ]
  },
  {
   "cell_type": "code",
   "execution_count": 76,
   "metadata": {},
   "outputs": [],
   "source": [
    "x = 5 > 3"
   ]
  },
  {
   "cell_type": "code",
   "execution_count": 77,
   "metadata": {},
   "outputs": [
    {
     "name": "stdout",
     "output_type": "stream",
     "text": [
      "True\n"
     ]
    }
   ],
   "source": [
    "print(x)"
   ]
  },
  {
   "cell_type": "markdown",
   "metadata": {},
   "source": [
    "**DOMANDA**: Guarda le espressioni seguenti, e per ciascuna cerca di indovinare quale risultato produce (o se produce un errore).\n",
    "\n",
    "1.  ```\n",
    "    x = 3 == 4\n",
    "    print(x)\n",
    "    ```\n",
    "1.  ```\n",
    "    x = False or True\n",
    "    print(x)\n",
    "    ```\n",
    "1.  ```    \n",
    "    True or False = x or False\n",
    "    print(x)\n",
    "    ```    \n",
    "1.  ```\n",
    "    x,y = 9,10\n",
    "    z = x < y and x == 3**2\n",
    "    print(z)\n",
    "    ```\n",
    "1.  ```python\n",
    "    a,b = 7,6\n",
    "    a = b\n",
    "    x = a >= b + 1\n",
    "    print(x)\n",
    "    ```\n",
    "1.  ```python\n",
    "    x = 3^2\n",
    "    y = 9\n",
    "    print(x == y)\n",
    "    ```"
   ]
  },
  {
   "cell_type": "markdown",
   "metadata": {},
   "source": [
    "## Numeri reali\n",
    "\n",
    "Python salva i numeri reali (numeri in virgola mobile) in 64 bit di informazione divisi in segno, esponente e mantissa.\n",
    "\n",
    "**DA FARE:**\n",
    "\n",
    "Calcola l'area del cerchio al centro di un pallone da calcio (raggio = 9.15m), ricordandoti che  $area= pi*r^2$ (come operatore per la potenza, usa `**`):"
   ]
  },
  {
   "cell_type": "code",
   "execution_count": 78,
   "metadata": {},
   "outputs": [
    {
     "name": "stdout",
     "output_type": "stream",
     "text": [
      "263.02199094102605\n"
     ]
    }
   ],
   "source": [
    "# SOLUZIONE\n",
    "\n",
    "r = 9.15\n",
    "pi = 3.1415926536\n",
    "area = pi*(r**2)\n",
    "print(area)"
   ]
  },
  {
   "cell_type": "markdown",
   "metadata": {},
   "source": [
    "Nota che le parentesi intorno al `r**2` non sono necessarie perchè l'operatore `**` ha la precedenza, ma possono aiutare la leggibilità del codice.\n",
    "\n",
    "Ricordiamo qua la precedenza degli operatori:"
   ]
  },
  {
   "cell_type": "markdown",
   "metadata": {},
   "source": [
    "|Operatore|Descrizione|\n",
    "|---------|-----------|\n",
    "|`**`|Potenza (massima precedenza)|\n",
    "|`+` `-`| Più e meno unari|\n",
    "|`*` `/` `//` `%`|Moltiplicazione, divisione, divisione intera, modulo|\n",
    "|`+` `-`| Addizione e sottrazione|\n",
    "|`<=` `<` `>` `>=`| Operatori di comparazione|\n",
    "|`==` `!=` | Operatori di uguaglianza|\n",
    "|`not` `or` `and`|Operatori logici (minima precedenza)|"
   ]
  },
  {
   "cell_type": "markdown",
   "metadata": {},
   "source": [
    "### Numeri reali - esercizio - equazione quadratica\n",
    "\n",
    "Calcola gli zero dell'equazione $ax^2-b = 0$ dove  `a = 10` e `b = 1`. \n",
    "\n",
    "Suggerimento: usa `math.sqrt` oppure `** 0.5`. Alla fine controlla che sostituendo il valore ottenuto di `x` nell'equazione si ottenga effettivamente zero.\n"
   ]
  },
  {
   "cell_type": "code",
   "execution_count": 79,
   "metadata": {
    "scrolled": true
   },
   "outputs": [
    {
     "name": "stdout",
     "output_type": "stream",
     "text": [
      "10x**2 - 1 = 0 for x: 0.31622776601683794\n",
      "x è una soluzione? True\n"
     ]
    }
   ],
   "source": [
    "# SOLUZIONE\n",
    "\n",
    "import math\n",
    "\n",
    "A = 10\n",
    "B = 1\n",
    "\n",
    "x = math.sqrt(B/A)\n",
    "\n",
    "print(\"10x**2 - 1 = 0 for x:\", x)\n",
    "print(\"x è una soluzione?\", 10*x**2 -1 == 0)"
   ]
  },
  {
   "cell_type": "markdown",
   "metadata": {},
   "source": [
    "## Sfide\n",
    "\n",
    "Di seguito proponiamo acluni esercizi senza soluzione. Accetti la sfida?"
   ]
  },
  {
   "cell_type": "markdown",
   "metadata": {},
   "source": [
    "### Sfida - quali booleani 1?\n",
    "\n",
    "Trova la riga che assegnando valori a `x` e `y` faccia in modo che la stampa stampi `True`.\n",
    "Esiste una sola combinazione o più di una? "
   ]
  },
  {
   "cell_type": "code",
   "execution_count": 80,
   "metadata": {},
   "outputs": [
    {
     "name": "stdout",
     "output_type": "stream",
     "text": [
      "False\n"
     ]
    }
   ],
   "source": [
    "\n",
    "x = False; y = False\n",
    "#x = False; y = True\n",
    "#x = True; y = False\n",
    "#x = True; y = True\n",
    "\n",
    "print(x and y)"
   ]
  },
  {
   "cell_type": "markdown",
   "metadata": {},
   "source": [
    "### Sfida - quali booleani 2?\n",
    "\n",
    "Trova la riga che assegnando valori a `x` e `y` faccia in modo che la stampa stampi `True`.\n",
    "Esiste una sola combinazione o più di una? "
   ]
  },
  {
   "cell_type": "code",
   "execution_count": 81,
   "metadata": {},
   "outputs": [
    {
     "name": "stdout",
     "output_type": "stream",
     "text": [
      "False\n"
     ]
    }
   ],
   "source": [
    "x = False; y = False; z = False\n",
    "#x = False; y = True; z = False\n",
    "#x = True; y = False; z = False\n",
    "#x = True; y = True; z = False\n",
    "#x = False; y = False; z = True\n",
    "#x = False; y = True; z = True\n",
    "#x = True; y = False; z = True\n",
    "#x = True; y =True; z =True\n",
    "\n",
    "print((x or y) and (not x and z))"
   ]
  },
  {
   "cell_type": "markdown",
   "metadata": {},
   "source": [
    "### Sfida - quali interi 1?\n",
    "\n",
    "Assegna valori numerici a `x` `y` e `z` per fare si che l'espressione stampi `True`"
   ]
  },
  {
   "cell_type": "code",
   "execution_count": 82,
   "metadata": {},
   "outputs": [
    {
     "name": "stdout",
     "output_type": "stream",
     "text": [
      "False\n"
     ]
    }
   ],
   "source": [
    "#x = ?\n",
    "#y = ?\n",
    "print(max(min(x,y), x + 20) > 20)"
   ]
  },
  {
   "cell_type": "markdown",
   "metadata": {},
   "source": [
    "### Sfida - quali interi 2?\n",
    "\n",
    "Assegna a `x` ed `y` valori tale per cui che venga stampato `True`"
   ]
  },
  {
   "cell_type": "code",
   "execution_count": 83,
   "metadata": {},
   "outputs": [
    {
     "name": "stdout",
     "output_type": "stream",
     "text": [
      "False\n"
     ]
    }
   ],
   "source": [
    "x = 0  # ?\n",
    "y = 0  # ?\n",
    "\n",
    "print(x > 10 and x < 23 and ((x+y) == 16 or (x + y > 20)))"
   ]
  },
  {
   "cell_type": "markdown",
   "metadata": {},
   "source": [
    "### Sfida - quali interi 3?\n",
    "\n",
    "Assegna a `z` ed `w` valori tale per cui che venga stampato `True`"
   ]
  },
  {
   "cell_type": "code",
   "execution_count": 84,
   "metadata": {},
   "outputs": [
    {
     "data": {
      "text/plain": [
       "False"
      ]
     },
     "execution_count": 84,
     "metadata": {},
     "output_type": "execute_result"
    }
   ],
   "source": [
    "z = 0 # ?\n",
    "w = 1 # ?\n",
    "(z < 40 or w < 90) and (z % w > 2)"
   ]
  },
  {
   "cell_type": "code",
   "execution_count": null,
   "metadata": {},
   "outputs": [],
   "source": []
  }
 ],
 "metadata": {
  "celltoolbar": "Edit Metadata",
  "kernelspec": {
   "display_name": "Python 3",
   "language": "python",
   "name": "python3"
  },
  "language_info": {
   "codemirror_mode": {
    "name": "ipython",
    "version": 3
   },
   "file_extension": ".py",
   "mimetype": "text/x-python",
   "name": "python",
   "nbconvert_exporter": "python",
   "pygments_lexer": "ipython3",
   "version": "3.5.2"
  },
  "toc": {
   "base_numbering": 1,
   "nav_menu": {},
   "number_sections": false,
   "sideBar": true,
   "skip_h1_title": false,
   "title_cell": "Table of Contents",
   "title_sidebar": "Contents",
   "toc_cell": false,
   "toc_position": {
    "height": "calc(100% - 180px)",
    "left": "10px",
    "top": "150px",
    "width": "280.2px"
   },
   "toc_section_display": true,
   "toc_window_display": true
  }
 },
 "nbformat": 4,
 "nbformat_minor": 2
}
