{
 "cells": [
  {
   "cell_type": "code",
   "execution_count": 1,
   "metadata": {
    "nbsphinx": "hidden"
   },
   "outputs": [],
   "source": [
    "# Ricordati di eseguire questa cella con Shift+Invio\n",
    "\n",
    "import jupman"
   ]
  },
  {
   "cell_type": "markdown",
   "metadata": {},
   "source": [
    "# Basi Python\n",
    "\n",
    "## [Scarica zip esercizi](../_static/generated/basics.zip)\n",
    "\n",
    "[Naviga file online](https://github.com/DavidLeoni/softpython-it/tree/master/basics)\n",
    "\n",
    "<div class=\"alert alert-warning\">\n",
    "\n",
    "**REQUISITI:**\n",
    "    \n",
    "* **Installato Python 3 e Jupyter:** se non hai già provveduto, guarda [Installazione](https://it.softpython.org/installation.html)\n",
    "* **Letto** [Strumenti e script](https://it.softpython.org/tools/tools-sol.html)\n",
    "\n",
    "</div>"
   ]
  },
  {
   "cell_type": "markdown",
   "metadata": {},
   "source": [
    "## Jupyter\n",
    "\n",
    "Jupyter è un editor che ti permette di lavorare sui cosiddetti _notebook_, che sono file che finiscono con l'estensione `.ipynb`. Sono documenti divisi in celle dove per ogni cella puoi immettere dei comandi e vederne subito il rispettivo output. Proviamo ad aprire questo."
   ]
  },
  {
   "cell_type": "markdown",
   "metadata": {},
   "source": [
    "1. scompatta lo [zip degli esercizi](../_static/generated/basics.zip) in una cartella, dovresti ottenere qualcosa del genere: \n",
    "\n",
    "```\n",
    "\n",
    "basics\n",
    "    basics-sol.ipynb\n",
    "    basics.ipynb\n",
    "    jupman.py\n",
    "```\n",
    "\n",
    "<div class=\"alert alert-warning\">\n",
    "\n",
    "**ATTENZIONE**: Per essere visualizzato correttamente, il file del notebook DEVE essere nella cartella szippata.\n",
    "</div>\n"
   ]
  },
  {
   "cell_type": "markdown",
   "metadata": {},
   "source": [
    "\n",
    "2. apri il Jupyter Notebook da quella cartella. Due cose dovrebbero aprirsi, prima una console e poi un browser. Il browser dovrebbe mostrare una lista di file: naviga la lista e apri il notebook `basics.ipynb`\n",
    "\n",
    "<div class=\"alert alert-warning\">\n",
    "    \n",
    "**ATTENZIONE: apri quello SENZA il** `-sol` **alla fine!**\n",
    "    \n",
    "Vedere subito le soluzioni è troppo facile ;-)\n",
    "</div>\n",
    "\n",
    "<div class=\"alert alert-warning\">\n",
    "\n",
    "**ATTENZIONE: Se non trovi Jupyter / qualcosa non funziona, guarda** [la guida per l'installazione](https://it.softpython.org/installation.html#Notebook-Jupyter)\n",
    "\n",
    "</div>\n",
    "\n",
    "\n"
   ]
  },
  {
   "cell_type": "markdown",
   "metadata": {},
   "source": [
    "3. Prosegui leggendo il file degli esercizi, ogni tanto al suo interno troverai delle scritte **ESERCIZIO**, che ti chiederanno di scrivere dei comandi Python nelle celle successive. Gli esercizi sono graduati per difficoltà, da una stellina ✪ a quattro ✪✪✪✪\n",
    "\n",
    "<div class=\"alert alert-warning\">\n",
    "\n",
    "**ATTENZIONE**: In questo libro usiamo **SOLO PYTHON 3** <br/>\n",
    "\n",
    "Se per caso ottieni comportamenti inattesi, controlla di usare Python 3 e non il 2. Se per caso il tuo sistema operativo scrivendo `python` fa partire il 2, prova ad eseguire il tre scrivendo il comando: `python3`\n",
    "</div>\n",
    "\n"
   ]
  },
  {
   "cell_type": "markdown",
   "metadata": {},
   "source": [
    "\n",
    "\n",
    "Scorciatoie da tastiera:\n",
    "\n",
    "* Per eseguire il codice Python dentro una cella di Jupyter, premi `Control+Invio`\n",
    "* Per eseguire il codice Python dentro una cella di Jupyter E selezionare la cella seguente, premi `Shift+Invio`\n",
    "* Per eseguire il codice Python dentro una cella di Jupyter E creare una nuova cella subito dopo, premi `Alt+Invio`\n",
    "* Se per caso il Notebook sembra inchiodato, prova a selezionare `Kernel -> Restart`\n"
   ]
  },
  {
   "cell_type": "markdown",
   "metadata": {},
   "source": [
    "\n",
    "## Oggetti\n",
    "\n",
    "Per Python qualunque cosa è un oggetto. Gli oggetti hanno **proprietà** (campi dove salvare valori) e **metodi** (cose che possono fare). Per esempio, un oggetto **auto** ha le _proprietà_  modello, marca, colore, numero di porte etc ..., e i _metodi_ sterza a destra, sterza a sinistra, accelera, frena, cambia marcia ...\n",
    "\n",
    "Secondo la documentazione ufficiale di Python:\n",
    "\n",
    "    Gli oggetti sono l'astrazione Python per i dati. Tutti i dati in un programma Python sono rappresentati da oggetti o da relazioni tra gli oggetti.\n",
    "\n",
    "\n",
    "Tutto quello che devi sapere per adesso è che gli oggetti Python hanno un **identificatore** (per es, il loro nome), un **tipo** (numeri, testo, collezioni, ...) e un **valore** (il dato attuale rappresentato dagli oggetti). Una volta che un'oggetto è stato creato l' _identificatore_ e il _tipo_ non cambiano mai, mentre il _valore_ può cambiare (**oggetti mutabili**) o rimanere costante (**oggetti immutabili**))."
   ]
  },
  {
   "cell_type": "markdown",
   "metadata": {},
   "source": [
    "\n",
    "Python fornisce questi tipi predefiniti ( _built-in_ ):\n",
    "\n",
    "\n",
    "\n",
    "|Tipo|Significato|Dominio|Mutabile?| \n",
    "|----|-----------|-------|---------|\n",
    "|`bool`|Condizione|`True`, `False`| no|\n",
    "|`int`|Intero|$\\mathbb{Z}$| no|\n",
    "|`long`|Intero|$\\mathbb{Z}$| no|\n",
    "|`float`|Razionale|$\\mathbb{Q}$ (più o meno)| no|\n",
    "|`str`|Testo|Testo| no|\n",
    "|`list`|Sequenza|Collezione di oggetti| sì|\n",
    "|`tuple`|Sequenza|Collezione di oggetti| no|\n",
    "|`set`|Insieme|Collezione di oggetti|sì|\n",
    "|`dict`|Mappatura|Mappatura tra oggetti| sì|\n",
    "\n",
    "\n",
    "\n",
    "Per il momento guarderemo i più semplici, più avanti li approfondiremo tutti."
   ]
  },
  {
   "cell_type": "markdown",
   "metadata": {},
   "source": [
    "## Variabili\n",
    "\n",
    "Le variabili sono associazioni tra nomi e oggetti (possiamo anche chiamarli valori)\n",
    "\n",
    "Le variabili possono essere associate o in termine più tecnico _assegnate_ agli oggetti usando l'operatore di assegnazione `=`.\n",
    "\n",
    "L'istruzione"
   ]
  },
  {
   "cell_type": "code",
   "execution_count": 2,
   "metadata": {},
   "outputs": [],
   "source": [
    "diamanti = 4"
   ]
  },
  {
   "cell_type": "markdown",
   "metadata": {},
   "source": [
    "può rappresentare quante pietre preziose teniamo in cassaforte. Cosa succede quando l'eseguiamo in Python? \n",
    "\n",
    "- un oggetto è creato\n",
    "- il suo tipo è impostato a `int` (un numero intero)\n",
    "- il suo valore è impostato a 4\n",
    "- un nome `diamanti` è creato nell'ambiente e assegnato a quell'oggetto"
   ]
  },
  {
   "cell_type": "markdown",
   "metadata": {},
   "source": [
    "### Rilevare il tipo di una variabile\n",
    "\n",
    "Quando vedi una variabile o una costante e hai dubbi sul suo tipo, puoi usare la funzione predefinita `type`:"
   ]
  },
  {
   "cell_type": "code",
   "execution_count": 3,
   "metadata": {},
   "outputs": [
    {
     "data": {
      "text/plain": [
       "int"
      ]
     },
     "execution_count": 3,
     "metadata": {},
     "output_type": "execute_result"
    }
   ],
   "source": [
    "type(diamanti)"
   ]
  },
  {
   "cell_type": "code",
   "execution_count": 4,
   "metadata": {},
   "outputs": [
    {
     "data": {
      "text/plain": [
       "int"
      ]
     },
     "execution_count": 4,
     "metadata": {},
     "output_type": "execute_result"
    }
   ],
   "source": [
    "type(4)"
   ]
  },
  {
   "cell_type": "code",
   "execution_count": 5,
   "metadata": {},
   "outputs": [
    {
     "data": {
      "text/plain": [
       "float"
      ]
     },
     "execution_count": 5,
     "metadata": {},
     "output_type": "execute_result"
    }
   ],
   "source": [
    "type(4.0)"
   ]
  },
  {
   "cell_type": "code",
   "execution_count": 6,
   "metadata": {},
   "outputs": [
    {
     "data": {
      "text/plain": [
       "str"
      ]
     },
     "execution_count": 6,
     "metadata": {},
     "output_type": "execute_result"
    }
   ],
   "source": [
    "type(\"Ciao\")"
   ]
  },
  {
   "cell_type": "markdown",
   "metadata": {},
   "source": [
    "### Riassegnare una variabile"
   ]
  },
  {
   "cell_type": "markdown",
   "metadata": {},
   "source": [
    "Considera adesso il codice seguente:"
   ]
  },
  {
   "cell_type": "code",
   "execution_count": 7,
   "metadata": {},
   "outputs": [
    {
     "name": "stdout",
     "output_type": "stream",
     "text": [
      "4\n"
     ]
    }
   ],
   "source": [
    "diamanti = 4\n",
    "print(diamanti)"
   ]
  },
  {
   "cell_type": "code",
   "execution_count": 8,
   "metadata": {},
   "outputs": [
    {
     "name": "stdout",
     "output_type": "stream",
     "text": [
      "5\n"
     ]
    }
   ],
   "source": [
    "diamanti = 5\n",
    "print(diamanti)"
   ]
  },
  {
   "cell_type": "markdown",
   "metadata": {},
   "source": [
    "Il valore della variabile `diamanti` è stato cambiato da 4 a 5, ma come riportato nella tabella sopra, il tipo `int` è **immutabile**. Fortunatamente, questo non ci ha ostacolato nel cambiare il valore di `diamanti` da 4 a 5. Cosa è successo dietro le scene? Quando abbiamo eseguito le istruzioni `diamanti = 5`, un nuovo oggetto di tipo `int` è stato creato  (`5` è un intero) e quindi reso disponibile con lo stesso nome `diamanti`, ma dato che è un oggetto differente (l'intero `5`)."
   ]
  },
  {
   "cell_type": "markdown",
   "metadata": {},
   "source": [
    "### Riusare una variabile\n",
    "\n",
    "Quando riassegni una variabile ad un'altro valore, per calcolare il nuovo valore puoi tranquillamente riusare il valore vecchio della variabile che vuoi cambiare. Per esempio, supponi di avere la variabile"
   ]
  },
  {
   "cell_type": "code",
   "execution_count": 9,
   "metadata": {},
   "outputs": [],
   "source": [
    "fiori = 4"
   ]
  },
  {
   "cell_type": "markdown",
   "metadata": {},
   "source": [
    "e vuoi aumentare il numero di `fiori` corrente di uno. Puoi scrivere così:"
   ]
  },
  {
   "cell_type": "code",
   "execution_count": 10,
   "metadata": {},
   "outputs": [],
   "source": [
    "fiori = fiori + 1"
   ]
  },
  {
   "cell_type": "markdown",
   "metadata": {},
   "source": [
    "Cos'è successo? Quando Python incontra un comando con l'`=`, PRIMA calcola il valore dell'espressione che trova a destra dell'`=`, e POI assegna quel valore alla variabile che trova a sinistra dell'`=`. \n",
    "\n",
    "Dato quest'ordine, nell'espressione a destra viene usato il valore vecchio della variabile (in questo caso `4`) a cui viene sommato `1` per ottenere `5` che viene quindi assegnato a `fiori`:"
   ]
  },
  {
   "cell_type": "code",
   "execution_count": 11,
   "metadata": {},
   "outputs": [
    {
     "data": {
      "text/plain": [
       "5"
      ]
     },
     "execution_count": 11,
     "metadata": {},
     "output_type": "execute_result"
    }
   ],
   "source": [
    "fiori"
   ]
  },
  {
   "cell_type": "markdown",
   "metadata": {},
   "source": [
    "In modo del tutto equivalente, potremmo riscrivere il codice così, usando una variabile d'appoggio `x`. Vediamolo in Python Tutor:"
   ]
  },
  {
   "cell_type": "code",
   "execution_count": 12,
   "metadata": {},
   "outputs": [],
   "source": [
    "# ATTENZIONE: per usare la funzione jupman.pytut() di seguito,\n",
    "# è necessario eseguire prima questa cella con Shift+Invio\n",
    "\n",
    "# basta eseguirla una volta sola, la trovi presente anche in tutti i fogli nella prima cella\n",
    "\n",
    "import jupman"
   ]
  },
  {
   "cell_type": "code",
   "execution_count": 13,
   "metadata": {},
   "outputs": [
    {
     "data": {
      "text/html": [
       "\n",
       "        <script src=\"../_static/js/pytutor-embed.bundle.min.js\" type=\"application/javascript\"></script>\n",
       "     \n",
       "        <script id=\"json-jmc2ac46f9-dd8c-40a0-b395-f98f39d144c2\" type=\"application/json\" >\n",
       "            {\"code\": \" \\nfiori = 4   \\n\\nx = fiori + 1\\n\\nfiori = x\", \"trace\": [{\"heap\": {}, \"line\": 2, \"globals\": {}, \"func_name\": \"<module>\", \"stdout\": \"\", \"event\": \"step_line\", \"ordered_globals\": [], \"stack_to_render\": []}, {\"heap\": {}, \"line\": 4, \"globals\": {\"fiori\": 4}, \"func_name\": \"<module>\", \"stdout\": \"\", \"event\": \"step_line\", \"ordered_globals\": [\"fiori\"], \"stack_to_render\": []}, {\"heap\": {}, \"line\": 6, \"globals\": {\"fiori\": 4, \"x\": 5}, \"func_name\": \"<module>\", \"stdout\": \"\", \"event\": \"step_line\", \"ordered_globals\": [\"fiori\", \"x\"], \"stack_to_render\": []}, {\"heap\": {}, \"line\": 6, \"globals\": {\"fiori\": 5, \"x\": 5}, \"func_name\": \"<module>\", \"stdout\": \"\", \"event\": \"return\", \"ordered_globals\": [\"fiori\", \"x\"], \"stack_to_render\": []}]}\n",
       "        </script>\n",
       "        <div id=\"jmc2ac46f9-dd8c-40a0-b395-f98f39d144c2\" class=\"pytutorVisualizer\"> </div>\n",
       " \n",
       "        <style>\n",
       "        .vizLayoutTd {\n",
       "            background-color: #fff !important;\n",
       "        }\n",
       "\n",
       "        #pyStdout {            \n",
       "            min-height:25px;\n",
       "        }\n",
       "\n",
       "        /* 'Edit this code' link, hiding because replaces browser tab !!!*/\n",
       "        #editCodeLinkDiv {\n",
       "            display:none;  \n",
       "        }\n",
       "        </style>   \n",
       "                            \n",
       "        <script>\n",
       "        (function(){\n",
       "\n",
       "            var trace = JSON.parse(document.getElementById('json-jmc2ac46f9-dd8c-40a0-b395-f98f39d144c2').innerHTML);                                        \n",
       "            // NOTE 1: id without #\n",
       "            // NOTE 2 - maybe there are more predictable ways, but this will work anyway\n",
       "            //        - id should be number\n",
       "            visualizerIdOverride = Math.trunc(Math.random() * 100000000000)\n",
       "            addVisualizerToPage(trace, 'jmc2ac46f9-dd8c-40a0-b395-f98f39d144c2',{'embeddedMode' : false,\n",
       "                                             'visualizerIdOverride':visualizerIdOverride})  \n",
       "            \n",
       "            \n",
       "            // set overflow for pytuts - need to do in python as css \n",
       "            // does not allow parent selection\n",
       "            var pytuts = $('.pytutorVisualizer')\n",
       "            pytuts.closest('div.output_html.rendered_html.output_result')\n",
       "                    .css('overflow-x', 'visible')\n",
       "        \n",
       "            //pytuts.closest('div.output_html.rendered_html.output_result')\n",
       "            //      .css('background-color','red')                \n",
       "            \n",
       "        })()\n",
       "        </script>\n",
       "                \n",
       "                "
      ],
      "text/plain": [
       "<IPython.core.display.HTML object>"
      ]
     },
     "execution_count": 13,
     "metadata": {},
     "output_type": "execute_result"
    }
   ],
   "source": [
    "\n",
    "fiori = 4   \n",
    "\n",
    "x = fiori + 1\n",
    "\n",
    "fiori = x\n",
    "\n",
    "jupman.pytut()"
   ]
  },
  {
   "cell_type": "markdown",
   "metadata": {},
   "source": [
    "Puoi eseguire una somma e fare un assegnamento contemporaneamente con la notazione `+=`"
   ]
  },
  {
   "cell_type": "code",
   "execution_count": 14,
   "metadata": {},
   "outputs": [
    {
     "name": "stdout",
     "output_type": "stream",
     "text": [
      "5\n"
     ]
    }
   ],
   "source": [
    "fiori = 4\n",
    "fiori += 1\n",
    "print(fiori)"
   ]
  },
  {
   "cell_type": "markdown",
   "metadata": {},
   "source": [
    "Questa notazione vale anche per altri operatori aritmetici:"
   ]
  },
  {
   "cell_type": "code",
   "execution_count": 15,
   "metadata": {},
   "outputs": [
    {
     "name": "stdout",
     "output_type": "stream",
     "text": [
      "4\n"
     ]
    }
   ],
   "source": [
    "fiori = 5\n",
    "fiori -= 1     # sottrazione\n",
    "print(fiori)   "
   ]
  },
  {
   "cell_type": "code",
   "execution_count": 16,
   "metadata": {},
   "outputs": [
    {
     "name": "stdout",
     "output_type": "stream",
     "text": [
      "12\n"
     ]
    }
   ],
   "source": [
    "fiori *= 3     # moltiplicazione\n",
    "print(fiori)"
   ]
  },
  {
   "cell_type": "code",
   "execution_count": 17,
   "metadata": {},
   "outputs": [
    {
     "name": "stdout",
     "output_type": "stream",
     "text": [
      "6.0\n"
     ]
    }
   ],
   "source": [
    "fiori /= 2     # divisione\n",
    "print(fiori)"
   ]
  },
  {
   "cell_type": "markdown",
   "metadata": {},
   "source": [
    "### Assegnazioni - domande\n",
    "\n",
    "**DOMANDA**: Guarda le espressioni seguenti, e per ciascuna cerca di indovinare quale risultato produce  (o se da errore). Prova a verificare le tue supposizioni sia in Jupyter che un'altro editor di file `.py` come Spyder:\n",
    "\n",
    "    \n",
    "1.  ```python\n",
    "    x = 1\n",
    "    x\n",
    "    x    \n",
    "    ```        \n",
    "1.  ```python\n",
    "    x = 1\n",
    "    x = 2\n",
    "    print(x)\n",
    "    ```    \n",
    "1.  ```python\n",
    "    x = 1\n",
    "    x = 2\n",
    "    x\n",
    "    ```     \n",
    "1.  ```python\n",
    "    x = 1\n",
    "    print(x)\n",
    "    x = 2\n",
    "    print(x)\n",
    "    ```        \n",
    "1.  ```python\n",
    "    print(zam)\n",
    "    print(zam)\n",
    "    zam = 1    \n",
    "    zam = 2    \n",
    "    ```    \n",
    "1.  ```python        \n",
    "    x = 5\n",
    "    print(x,x)\n",
    "    ```        \n",
    "1.  ```python        \n",
    "    x = 5\n",
    "    print(x)\n",
    "    print(x)\n",
    "    ```\n",
    "1.  ```python        \n",
    "    x = 3\n",
    "    print(x,x*x,x**x)\n",
    "    ```    \n",
    "1.  ```python\n",
    "    3 + 5 = x\n",
    "    print(x)\n",
    "    ```\n",
    "1.  ```python\n",
    "    3 + x = 1\n",
    "    print(x)\n",
    "    ```    \n",
    "1.  ```python\n",
    "    x + 3 = 2\n",
    "    print(x)\n",
    "    ```    \n",
    "1.  ```python\n",
    "    x = 2\n",
    "    x =+ 1 \n",
    "    print(x)\n",
    "    ```\n",
    "1.  ```python\n",
    "    x = 2\n",
    "    x = +1 \n",
    "    print(x)\n",
    "    ```    \n",
    "1.  ```python\n",
    "    x = 2\n",
    "    x += 1 \n",
    "    print(x)\n",
    "    ```        \n",
    "1.  ```python\n",
    "    x = 3\n",
    "    x *= 2 \n",
    "    print(x)\n",
    "    ```"
   ]
  },
  {
   "cell_type": "markdown",
   "metadata": {},
   "source": [
    "### Esercizio - scambia\n",
    "\n",
    "✪ Date due variabili `a` e `b`:\n",
    "\n",
    "```python\n",
    "a = 5\n",
    "b = 3\n",
    "```\n",
    "\n",
    "scrivi del codice che scambia i loro valori, per cui dopo il tuo codice deve risultare\n",
    "\n",
    "```python\n",
    ">>> print(a)\n",
    "3\n",
    ">>> print(b)\n",
    "5\n",
    "```\n",
    "- Bastano due variabili? Se non sono sufficienti, prova ad introdurne una terza."
   ]
  },
  {
   "cell_type": "raw",
   "id": "cellular-contrast",
   "metadata": {
    "format": "text/html"
   },
   "source": [
    "<a  class=\"jupman-sol jupman-sol-toggler\" \n",
    " onclick=\"jupman.toggleSolution(this);\" \n",
    " data-jupman-show=\"Mostra soluzione\" data-jupman-hide=\"Nascondi\">Mostra soluzione</a><div class=\"jupman-sol jupman-sol-code\" style=\"display:none\">  "
   ]
  },
  {
   "cell_type": "code",
   "execution_count": 18,
   "metadata": {},
   "outputs": [],
   "source": [
    "a = 5\n",
    "b = 3\n",
    "\n",
    "# scrivi qui\n",
    "temp = a   # associamo 5 alla variabile temp, facendo di fatto una copia\n",
    "a = b      # riassegniamo a al valore di b, cioè 3\n",
    "b = temp   # riassegniamo b al valore di temp, cioè 5\n",
    "#print(a)\n",
    "#print(b)"
   ]
  },
  {
   "cell_type": "raw",
   "id": "precise-register",
   "metadata": {
    "format": "text/html"
   },
   "source": [
    "</div>"
   ]
  },
  {
   "cell_type": "code",
   "execution_count": 18,
   "metadata": {},
   "outputs": [],
   "source": [
    "a = 5\n",
    "b = 3\n",
    "\n",
    "# scrivi qui\n",
    "\n"
   ]
  },
  {
   "cell_type": "markdown",
   "metadata": {},
   "source": [
    "### Esercizio - ciclare\n",
    "\n",
    "✪ Scrivi un programma che date tre variabili con i numeri `a`, `b`, `c`, cicla i valori, cioè, mette il valore di `a` in `b`, il valore di `b` in `c`, e alla fine il valore di `c` in `a`.\n",
    "\n",
    "Perciò se hai iniziato così:\n",
    "\n",
    "\n",
    "```python\n",
    "a = 4\n",
    "b = 7\n",
    "c = 9\n",
    "```\n",
    "\n",
    "Dopo il codice che scriverai tu, eseguendo questo:\n",
    "\n",
    "```python\n",
    "print(a)\n",
    "print(b)\n",
    "print(c)\n",
    "```\n",
    "\n",
    "Dovresti vedere:\n",
    "```\n",
    "9\n",
    "4\n",
    "7\n",
    "```\n",
    "\n",
    "Ci sono vari modi di farlo, prova ad usare **solo una** variabile temporanea e fai attenzione a non perdere i valori !\n",
    "\n",
    "\n",
    "**SUGGERIMENTO**: per aiutarti, scrivi i commenti sullo stato della memoria, e pensa a quale comando usare.\n",
    "\n",
    "\n",
    "```python\n",
    "# a b c t    di quale comando ho bisogno?\n",
    "# 4 7 9 \n",
    "# 4 7 9 7    t = b\n",
    "# \n",
    "#\n",
    "#\n",
    "```\n"
   ]
  },
  {
   "cell_type": "raw",
   "id": "professional-disease",
   "metadata": {
    "format": "text/html"
   },
   "source": [
    "<a  class=\"jupman-sol jupman-sol-toggler\" \n",
    " onclick=\"jupman.toggleSolution(this);\" \n",
    " data-jupman-show=\"Mostra soluzione\" data-jupman-hide=\"Nascondi\">Mostra soluzione</a><div class=\"jupman-sol jupman-sol-code\" style=\"display:none\">  "
   ]
  },
  {
   "cell_type": "code",
   "execution_count": 19,
   "metadata": {},
   "outputs": [
    {
     "name": "stdout",
     "output_type": "stream",
     "text": [
      "4\n",
      "7\n",
      "9\n"
     ]
    }
   ],
   "source": [
    "a = 4\n",
    "b = 7\n",
    "c = 9\n",
    "\n",
    "# scrivi qui\n",
    "\n",
    "print(a)\n",
    "print(b)\n",
    "print(c)"
   ]
  },
  {
   "cell_type": "raw",
   "id": "virtual-aggregate",
   "metadata": {
    "format": "text/html"
   },
   "source": [
    "</div>"
   ]
  },
  {
   "cell_type": "code",
   "execution_count": 19,
   "metadata": {},
   "outputs": [
    {
     "name": "stdout",
     "output_type": "stream",
     "text": [
      "4\n",
      "7\n",
      "9\n"
     ]
    }
   ],
   "source": [
    "a = 4\n",
    "b = 7\n",
    "c = 9\n",
    "\n",
    "# scrivi qui\n",
    "\n"
   ]
  },
  {
   "cell_type": "raw",
   "id": "aging-accountability",
   "metadata": {
    "format": "text/html"
   },
   "source": [
    "<a  class=\"jupman-sol jupman-sol-toggler\" \n",
    " onclick=\"jupman.toggleSolution(this);\" \n",
    " data-jupman-show=\"Mostra soluzione\" data-jupman-hide=\"Nascondi\">Mostra soluzione</a><div class=\"jupman-sol jupman-sol-code\" style=\"display:none\">  "
   ]
  },
  {
   "cell_type": "code",
   "execution_count": 20,
   "metadata": {},
   "outputs": [
    {
     "name": "stdout",
     "output_type": "stream",
     "text": [
      "9\n",
      "4\n",
      "7\n"
     ]
    }
   ],
   "source": [
    "# SOLUZIONE\n",
    "\n",
    "a = 4\n",
    "b = 7\n",
    "c = 9\n",
    "\n",
    "\n",
    "# a b c t  di quale comando ho bisogno? \n",
    "# 4 7 9\n",
    "# 4 7 9 7  t = b\n",
    "# 4 4 9 7  b = a\n",
    "# 9 4 9 7  a = c\n",
    "# 9 4 7 7  c = t\n",
    "\n",
    "\n",
    "t = b\n",
    "b = a\n",
    "a = c\n",
    "c = t\n",
    "\n",
    "print(a)\n",
    "print(b)\n",
    "print(c)"
   ]
  },
  {
   "cell_type": "raw",
   "id": "comic-disability",
   "metadata": {
    "format": "text/html"
   },
   "source": [
    "</div>"
   ]
  },
  {
   "cell_type": "code",
   "execution_count": 20,
   "metadata": {},
   "outputs": [
    {
     "name": "stdout",
     "output_type": "stream",
     "text": [
      "9\n",
      "4\n",
      "7\n"
     ]
    }
   ],
   "source": []
  },
  {
   "cell_type": "markdown",
   "metadata": {},
   "source": [
    "\n",
    "### Cambiare il tipo durante l'esecuzione\n",
    "\n",
    "Puoi anche cambiare il tipo di una variabile durante l'esecuzione ma quello normalmente è una **cattiva idea**  perchè rende il codice più difficile da comprendere, e aumenta la probabilità di commettere errori. Facciamo un esempio:"
   ]
  },
  {
   "cell_type": "code",
   "execution_count": 21,
   "metadata": {},
   "outputs": [],
   "source": [
    "diamanti = 4          # intero"
   ]
  },
  {
   "cell_type": "code",
   "execution_count": 22,
   "metadata": {},
   "outputs": [
    {
     "data": {
      "text/plain": [
       "6"
      ]
     },
     "execution_count": 22,
     "metadata": {},
     "output_type": "execute_result"
    }
   ],
   "source": [
    "diamanti + 2"
   ]
  },
  {
   "cell_type": "code",
   "execution_count": 23,
   "metadata": {},
   "outputs": [],
   "source": [
    "diamanti = \"quattro\"  # testo "
   ]
  },
  {
   "cell_type": "markdown",
   "metadata": {},
   "source": [
    "Adesso che `diamanti` è diventato testo, se per sbaglio proviamo a trattarlo come se fosse un numero avremo un errore !!\n",
    "\n",
    "```python\n",
    "diamanti + 2\n",
    "\n",
    "---------------------------------------------------------------------------\n",
    "TypeError                                 Traceback (most recent call last)\n",
    "<ipython-input-9-6124a47997d7> in <module>\n",
    "----> 1 diamanti + 2\n",
    "\n",
    "TypeError: can only concatenate str (not \"int\") to str\n",
    "\n",
    "```"
   ]
  },
  {
   "cell_type": "markdown",
   "metadata": {},
   "source": [
    "### Comandi multipli su una stessa linea\n",
    "\n",
    "E' possibile mettere più comandi su una stessa linea (non solo assegnazioni) separandoli da un punto e virgola `;`"
   ]
  },
  {
   "cell_type": "code",
   "execution_count": 24,
   "metadata": {},
   "outputs": [
    {
     "name": "stdout",
     "output_type": "stream",
     "text": [
      "Tanti comandi!\n"
     ]
    }
   ],
   "source": [
    "a = 10; print('Tanti comandi!'); b = a + 1;"
   ]
  },
  {
   "cell_type": "code",
   "execution_count": 25,
   "metadata": {},
   "outputs": [
    {
     "name": "stdout",
     "output_type": "stream",
     "text": [
      "10 11\n"
     ]
    }
   ],
   "source": [
    "print(a,b)"
   ]
  },
  {
   "cell_type": "markdown",
   "metadata": {},
   "source": [
    "<div class=\"alert alert-info\">\n",
    "\n",
    "**NOTA: I comandi multipli su stessa linea sono 'poco pythonici'**\n",
    "\n",
    "Per quanto volte utili e meno verbose che quelle con definizione esplicita, sono uno stile sconsigliato.\n",
    "\n",
    "</div>"
   ]
  },
  {
   "cell_type": "markdown",
   "metadata": {},
   "source": [
    "### Inizializzazioni multiple\n",
    "\n",
    "Cosa diversa sono le inizializzazioni multiple, separate da virgola `,` come:"
   ]
  },
  {
   "cell_type": "code",
   "execution_count": 26,
   "metadata": {},
   "outputs": [],
   "source": [
    "x,y = 5,7"
   ]
  },
  {
   "cell_type": "code",
   "execution_count": 27,
   "metadata": {},
   "outputs": [
    {
     "name": "stdout",
     "output_type": "stream",
     "text": [
      "5\n"
     ]
    }
   ],
   "source": [
    "print(x)"
   ]
  },
  {
   "cell_type": "code",
   "execution_count": 28,
   "metadata": {},
   "outputs": [
    {
     "name": "stdout",
     "output_type": "stream",
     "text": [
      "7\n"
     ]
    }
   ],
   "source": [
    "print(y)"
   ]
  },
  {
   "cell_type": "markdown",
   "metadata": {},
   "source": [
    "A differenza dei comandi multipli, le assegnazioni multiple sono uno stile più accettabile."
   ]
  },
  {
   "cell_type": "markdown",
   "metadata": {},
   "source": [
    "### Esercizio - scambiare come un ninja\n",
    "\n",
    "Prova a scambiare il valore di due variabili `a` e `b` in una riga usando una riassegnazione multipla.\n",
    "\n",
    "```python\n",
    "a,b = 5,3\n",
    "```\n",
    "\n",
    "Dopo il tuo codice, deve risultare\n",
    "\n",
    "```python\n",
    ">>> print(a)\n",
    "3\n",
    ">>> print(b)\n",
    "5\n",
    "```"
   ]
  },
  {
   "cell_type": "raw",
   "id": "golden-routine",
   "metadata": {
    "format": "text/html"
   },
   "source": [
    "<a  class=\"jupman-sol jupman-sol-toggler\" \n",
    " onclick=\"jupman.toggleSolution(this);\" \n",
    " data-jupman-show=\"Mostra soluzione\" data-jupman-hide=\"Nascondi\">Mostra soluzione</a><div class=\"jupman-sol jupman-sol-code\" style=\"display:none\">  "
   ]
  },
  {
   "cell_type": "code",
   "execution_count": 29,
   "metadata": {},
   "outputs": [],
   "source": [
    "a,b = 5,3\n",
    "\n",
    "# scrivi qui\n",
    "a,b = b,a\n",
    "#print(a)\n",
    "#print(b)"
   ]
  },
  {
   "cell_type": "raw",
   "id": "manual-premiere",
   "metadata": {
    "format": "text/html"
   },
   "source": [
    "</div>"
   ]
  },
  {
   "cell_type": "code",
   "execution_count": 29,
   "metadata": {},
   "outputs": [],
   "source": [
    "a,b = 5,3\n",
    "\n",
    "# scrivi qui\n",
    "\n"
   ]
  },
  {
   "cell_type": "markdown",
   "metadata": {},
   "source": [
    "### Nomi di variabile\n",
    "\n",
    "<div class=\"alert alert-warning\">\n",
    "\n",
    "**NOTA IMPORTANTE:** \n",
    "\n",
    "Puoi scegliere il nome che preferisci per le tue variabili (consiglio di scegliere qualcosa che ci ricorda il loro significato), ma devi aderire a semplici regole:\n",
    "</div>\n",
    "\n",
    "1. I nome possono solo contenere  caratteri in maiuscolo/minuscolo (`A-Z`, `a-z`), numeri (`0-9`) o _underscore_ `_`\n",
    "2. I nomi non possono iniziare con un numero\n",
    "3. i nomi di variabile dovrebbero iniziare con lettera minuscola\n",
    "4. I nomi non possono essere uguali a parole riservate\n",
    "\n",
    "**Parole riservate:**\n",
    "\n",
    "|||||||\n",
    "|-----|----|--------|-------|-------|----------|\n",
    "|`and`|`as`|`assert`|`break`|`class`|`continue`|\n",
    "|`def`|`del`|`elif`|`else`|`except`|`exec`|\n",
    "|`finally`|`for`|`from`|`global`|`if`|`import`|\n",
    "|`in`|`is`|`lambda`|`nonlocal`|`not`|`or`|\n",
    "|`pass`|`raise`|`return`|`try`|`while`|`with`|\n",
    "|`yield`|`True`|`False`|`None`|  |   |"
   ]
  },
  {
   "cell_type": "markdown",
   "metadata": {},
   "source": [
    "**Funzioni di sistema**: Oltre alle parole riservate (impossibili da ridefinire), Python ha anche diverse funzioni di sistema predefinite:\n",
    "\n",
    "* `bool`, `int`,`float`,`tuple`,`str`,`list`,`set`,`dict`\n",
    "* `max`, `min`, `sum`\n",
    "* `next`, `iter`\n",
    "* `id`, `dir`, `vars`,`help`\n",
    "\n",
    "Purtroppo, Python consente agli incauti di ridefinirle, ma **noi no**:\n",
    "\n",
    "<div class=\"alert alert-info\" >\n",
    "\n",
    "[V COMANDAMENTO](https://it.softpython.org/commandments.html#V-COMANDAMENTO)**: Non ridifinerai mai funzioni di sistema**\n",
    "\n",
    "Mai dichiarare variabili con questi nomi!\n",
    "</div>"
   ]
  },
  {
   "cell_type": "markdown",
   "metadata": {},
   "source": [
    "### Nomi di variabile - domande\n",
    "\n",
    "Per ciascuno dei nomi seguenti, prova a immaginare se è un valido _nome di variabile_ oppure no, e poi prova ad assegnarlo nella cella seguente\n",
    "\n",
    "\n",
    "1. `my-variable`\n",
    "2. `my_variable`\n",
    "3. `theCount`\n",
    "4. `the count`\n",
    "5. `some@var`\n",
    "6. `MacDonald`\n",
    "7. `7channel`\n",
    "8. `channel7`\n",
    "9. `stand.by`\n",
    "10. `channel45`\n",
    "11. `maybe3maybe`\n",
    "12. `\"ciao\"`\n",
    "13. `'hello'`\n",
    "14. `as`     CERCA DI CAPIRE LA DIFFERENZA *MOLTO IMPORTANTE* TRA QUESTO E I SEGUENTI DUE !!! \n",
    "15. `asino`\n",
    "16. `As`\n",
    "17. `lista`  CERCA DI COMPRENDERE LA DIFFERENZA *MOLTO IMPORTANTE* TRA QUESTO E I SEGUENTI DUE !!!\n",
    "18. `list`   NON PROVARE NEMMENO AD ASSEGNARE QUESTO NELL'INTERPRETE (SCRIVENDO PER ES `list = 5`), SE LO FAI RENDERAI L'INTERPRETE PRATICAMENTE INUTILIZZABILE !\n",
    "19. `List`\n",
    "20. `black&decker`\n",
    "21. `black & decker`\n",
    "22. `glab()`\n",
    "23. `caffè`  (NOTA LA è ACCENTATA `è` !)\n",
    "24. `):-]`\n",
    "25. `€zone` (NOTA IL SEGNO DELL'EURO)\n",
    "26. `some:pasta`\n",
    "27. `aren'tyouboredyet`\n",
    "28. `<angular>`\n",
    "\n",
    "\n",
    " "
   ]
  },
  {
   "cell_type": "raw",
   "id": "material-venice",
   "metadata": {
    "format": "text/html"
   },
   "source": [
    "<a  class=\"jupman-sol jupman-sol-toggler\" \n",
    " onclick=\"jupman.toggleSolution(this);\" \n",
    " data-jupman-show=\"Mostra soluzione\" data-jupman-hide=\"Nascondi\">Mostra soluzione</a><div class=\"jupman-sol jupman-sol-code\" style=\"display:none\">  "
   ]
  },
  {
   "cell_type": "code",
   "execution_count": 30,
   "metadata": {},
   "outputs": [],
   "source": [
    "# scrivi qui\n"
   ]
  },
  {
   "cell_type": "raw",
   "id": "infectious-fellowship",
   "metadata": {
    "format": "text/html"
   },
   "source": [
    "</div>"
   ]
  },
  {
   "cell_type": "code",
   "execution_count": 30,
   "metadata": {},
   "outputs": [],
   "source": [
    "# scrivi qui\n",
    "\n"
   ]
  },
  {
   "cell_type": "markdown",
   "metadata": {},
   "source": [
    "## Tipi numerici\n",
    "\n",
    "Abbiamo già menzionato che i numeri sono **oggetti immutabili**. Python fornisce diversi tipi numerici: interi (`int`), reali (`float`), booleani,  frazioni e numeri complessi.\n",
    "\n",
    "E' possibile compiere operazioni aritmetiche con i seguenti operatori, in ordine di precedenza:"
   ]
  },
  {
   "cell_type": "markdown",
   "metadata": {},
   "source": [
    "|Operatore|Descrizione|\n",
    "|---------|-----------|\n",
    "|`**`|Potenza|\n",
    "|`+` `-`| Più e meno unari|\n",
    "|`*` `/` `//` `%`|Moltiplicazione, divisione, divisione intera, modulo|\n",
    "|`+` `-`| Addizione e sottrazione|"
   ]
  },
  {
   "cell_type": "markdown",
   "metadata": {},
   "source": [
    "Vi sono inoltre diverse funzioni predefinite:\n",
    "\n",
    "|Funzione|Descrizione|\n",
    "|--------|-----------|\n",
    "|`min(x,y, ...)`| il minimo tra i numeri passati |\n",
    "|`max(x,y, ...)`| il massimo tra i numeri passati |\n",
    "|`abs(x)`| il valore assoluto|"
   ]
  },
  {
   "cell_type": "markdown",
   "metadata": {},
   "source": [
    "e altre sono disponibili nel modulo `math` (ricordati che per usarle devi prima importare il modulo `math` scrivendo `import math`:\n",
    "\n",
    "|Funzione|Descrizione|\n",
    "|--------|-----------|\n",
    "|`math.floor(x)`| arrotonda x all'intero inferiore|\n",
    "|`math.ceil(x)`| arrotonda x all'intero superiore|\n",
    "|`math.sqrt(x)`| la radice quadrata|\n",
    "|`math.log(x)`| il logaritmo naturale di n |\n",
    "|`math.log(x,b)`| il logaritmo di n in base b|\n",
    "\n",
    "... più molte altre che qui non riportiamo."
   ]
  },
  {
   "cell_type": "code",
   "execution_count": null,
   "metadata": {},
   "outputs": [],
   "source": []
  },
  {
   "cell_type": "markdown",
   "metadata": {},
   "source": [
    "## Numeri interi\n",
    "\n",
    "La gamma di valori che gli interi possono avere è limitata solo dalla memoria disponibile. Per lavorare con i numeri, Python fornisce anche degli operatori:"
   ]
  },
  {
   "cell_type": "code",
   "execution_count": 31,
   "metadata": {},
   "outputs": [
    {
     "data": {
      "text/plain": [
       "11"
      ]
     },
     "execution_count": 31,
     "metadata": {},
     "output_type": "execute_result"
    }
   ],
   "source": [
    "7 + 4"
   ]
  },
  {
   "cell_type": "code",
   "execution_count": 32,
   "metadata": {},
   "outputs": [
    {
     "data": {
      "text/plain": [
       "3"
      ]
     },
     "execution_count": 32,
     "metadata": {},
     "output_type": "execute_result"
    }
   ],
   "source": [
    "7 - 4"
   ]
  },
  {
   "cell_type": "code",
   "execution_count": 33,
   "metadata": {},
   "outputs": [
    {
     "data": {
      "text/plain": [
       "1"
      ]
     },
     "execution_count": 33,
     "metadata": {},
     "output_type": "execute_result"
    }
   ],
   "source": [
    "7 // 4"
   ]
  },
  {
   "cell_type": "markdown",
   "metadata": {},
   "source": [
    "**NOTA**: la seguente divisione tra interi produce un risultato **float**, che come separatore per i decimali usa **il punto** (vedremo meglio in seguito):"
   ]
  },
  {
   "cell_type": "code",
   "execution_count": 34,
   "metadata": {},
   "outputs": [
    {
     "data": {
      "text/plain": [
       "1.75"
      ]
     },
     "execution_count": 34,
     "metadata": {},
     "output_type": "execute_result"
    }
   ],
   "source": [
    "7 / 4  "
   ]
  },
  {
   "cell_type": "code",
   "execution_count": 35,
   "metadata": {},
   "outputs": [
    {
     "data": {
      "text/plain": [
       "float"
      ]
     },
     "execution_count": 35,
     "metadata": {},
     "output_type": "execute_result"
    }
   ],
   "source": [
    "type(7 / 4)"
   ]
  },
  {
   "cell_type": "code",
   "execution_count": 36,
   "metadata": {},
   "outputs": [
    {
     "data": {
      "text/plain": [
       "28"
      ]
     },
     "execution_count": 36,
     "metadata": {},
     "output_type": "execute_result"
    }
   ],
   "source": [
    "7 * 4"
   ]
  },
  {
   "cell_type": "markdown",
   "metadata": {},
   "source": [
    "**NOTA:** per quanto in molti linguaggi la potenza si indica con il cappuccio `^`, invece in Python  si indica con il doppio asterisco `**`:"
   ]
  },
  {
   "cell_type": "code",
   "execution_count": 37,
   "metadata": {},
   "outputs": [
    {
     "data": {
      "text/plain": [
       "2401"
      ]
     },
     "execution_count": 37,
     "metadata": {},
     "output_type": "execute_result"
    }
   ],
   "source": [
    "7 ** 4   # potenza"
   ]
  },
  {
   "cell_type": "markdown",
   "metadata": {},
   "source": [
    "### Esercizio - scadenza 1\n",
    "\n",
    "✪ Ci viene data una importante scadenza tra:"
   ]
  },
  {
   "cell_type": "code",
   "execution_count": 38,
   "metadata": {},
   "outputs": [],
   "source": [
    "giorni = 4\n",
    "ore = 13\n",
    "minuti = 52"
   ]
  },
  {
   "cell_type": "markdown",
   "metadata": {},
   "source": [
    "Scrivi del codice che stampa i minuti in totale. Eseguendolo, deve risultare:\n",
    "\n",
    "```\n",
    "In totale mancano 6592 minuti\n",
    "```"
   ]
  },
  {
   "cell_type": "raw",
   "id": "brave-belief",
   "metadata": {
    "format": "text/html"
   },
   "source": [
    "<a  class=\"jupman-sol jupman-sol-toggler\" \n",
    " onclick=\"jupman.toggleSolution(this);\" \n",
    " data-jupman-show=\"Mostra soluzione\" data-jupman-hide=\"Nascondi\">Mostra soluzione</a><div class=\"jupman-sol jupman-sol-code\" style=\"display:none\">  "
   ]
  },
  {
   "cell_type": "code",
   "execution_count": 39,
   "metadata": {},
   "outputs": [
    {
     "name": "stdout",
     "output_type": "stream",
     "text": [
      "In totale mancano 6592 minuti\n"
     ]
    }
   ],
   "source": [
    "giorni = 4\n",
    "ore = 13\n",
    "minuti = 52\n",
    "\n",
    "# scrivi qui\n",
    "print(\"In totale mancano\", giorni*24*60 + ore*60 + minuti, \"minuti\")"
   ]
  },
  {
   "cell_type": "raw",
   "id": "elementary-minute",
   "metadata": {
    "format": "text/html"
   },
   "source": [
    "</div>"
   ]
  },
  {
   "cell_type": "code",
   "execution_count": 39,
   "metadata": {},
   "outputs": [
    {
     "name": "stdout",
     "output_type": "stream",
     "text": [
      "In totale mancano 6592 minuti\n"
     ]
    }
   ],
   "source": [
    "giorni = 4\n",
    "ore = 13\n",
    "minuti = 52\n",
    "\n",
    "# scrivi qui\n",
    "\n"
   ]
  },
  {
   "cell_type": "markdown",
   "metadata": {},
   "source": [
    "### Operatore modulo\n",
    "\n",
    "Per trovare il resto della divisione tra due interi, possiamo usare l'operatore modulo che indichiamo con `%`:"
   ]
  },
  {
   "cell_type": "code",
   "execution_count": 40,
   "metadata": {},
   "outputs": [
    {
     "data": {
      "text/plain": [
       "2"
      ]
     },
     "execution_count": 40,
     "metadata": {},
     "output_type": "execute_result"
    }
   ],
   "source": [
    "5 % 3  # 5 diviso 3 da resto 2"
   ]
  },
  {
   "cell_type": "code",
   "execution_count": 41,
   "metadata": {},
   "outputs": [
    {
     "data": {
      "text/plain": [
       "1"
      ]
     },
     "execution_count": 41,
     "metadata": {},
     "output_type": "execute_result"
    }
   ],
   "source": [
    "5 % 4"
   ]
  },
  {
   "cell_type": "code",
   "execution_count": 42,
   "metadata": {},
   "outputs": [
    {
     "data": {
      "text/plain": [
       "0"
      ]
     },
     "execution_count": 42,
     "metadata": {},
     "output_type": "execute_result"
    }
   ],
   "source": [
    "5 % 5"
   ]
  },
  {
   "cell_type": "code",
   "execution_count": 43,
   "metadata": {},
   "outputs": [
    {
     "data": {
      "text/plain": [
       "5"
      ]
     },
     "execution_count": 43,
     "metadata": {},
     "output_type": "execute_result"
    }
   ],
   "source": [
    "5 % 6"
   ]
  },
  {
   "cell_type": "code",
   "execution_count": 44,
   "metadata": {},
   "outputs": [
    {
     "data": {
      "text/plain": [
       "5"
      ]
     },
     "execution_count": 44,
     "metadata": {},
     "output_type": "execute_result"
    }
   ],
   "source": [
    "5 % 7"
   ]
  },
  {
   "cell_type": "markdown",
   "metadata": {},
   "source": [
    "### Esercizio - scadenza 2\n",
    "\n",
    "✪ Ad un'altra importantissima scadenza importante mancano:"
   ]
  },
  {
   "cell_type": "markdown",
   "metadata": {},
   "source": [
    "```python\n",
    "tot_minuti = 5000\n",
    "```\n",
    "\n",
    "Scrivi del codice che stampa:\n",
    "\n",
    "```\n",
    "Mancano:\n",
    "   3 giorni\n",
    "   11 ore\n",
    "   20 minuti\n",
    "```"
   ]
  },
  {
   "cell_type": "raw",
   "id": "ancient-internship",
   "metadata": {
    "format": "text/html"
   },
   "source": [
    "<a  class=\"jupman-sol jupman-sol-toggler\" \n",
    " onclick=\"jupman.toggleSolution(this);\" \n",
    " data-jupman-show=\"Mostra soluzione\" data-jupman-hide=\"Nascondi\">Mostra soluzione</a><div class=\"jupman-sol jupman-sol-code\" style=\"display:none\">  "
   ]
  },
  {
   "cell_type": "code",
   "execution_count": 45,
   "metadata": {},
   "outputs": [
    {
     "name": "stdout",
     "output_type": "stream",
     "text": [
      "Mancano:\n",
      "   3 giorni\n",
      "   11 ore\n",
      "   20 minuti\n"
     ]
    }
   ],
   "source": [
    "tot_minuti = 5000\n",
    "\n",
    "# scrivi qui\n",
    "print('Mancano:')\n",
    "print('  ', tot_minuti // (60*24), 'giorni')\n",
    "print('  ', (tot_minuti % (60*24)) // 60, 'ore')\n",
    "print('  ', (tot_minuti % (60*24)) % 60, 'minuti')"
   ]
  },
  {
   "cell_type": "raw",
   "id": "supported-butterfly",
   "metadata": {
    "format": "text/html"
   },
   "source": [
    "</div>"
   ]
  },
  {
   "cell_type": "code",
   "execution_count": 45,
   "metadata": {},
   "outputs": [
    {
     "name": "stdout",
     "output_type": "stream",
     "text": [
      "Mancano:\n",
      "   3 giorni\n",
      "   11 ore\n",
      "   20 minuti\n"
     ]
    }
   ],
   "source": [
    "tot_minuti = 5000\n",
    "\n",
    "# scrivi qui\n",
    "\n"
   ]
  },
  {
   "cell_type": "markdown",
   "metadata": {},
   "source": [
    "### min e max\n",
    "\n",
    "Il minimo tra due numeri può essere calcolato con la funzione`min`"
   ]
  },
  {
   "cell_type": "code",
   "execution_count": 46,
   "metadata": {},
   "outputs": [
    {
     "data": {
      "text/plain": [
       "3"
      ]
     },
     "execution_count": 46,
     "metadata": {},
     "output_type": "execute_result"
    }
   ],
   "source": [
    "min(7,3)"
   ]
  },
  {
   "cell_type": "markdown",
   "metadata": {},
   "source": [
    "e il massimo con la funzione `max`:"
   ]
  },
  {
   "cell_type": "code",
   "execution_count": 47,
   "metadata": {},
   "outputs": [
    {
     "data": {
      "text/plain": [
       "6"
      ]
     },
     "execution_count": 47,
     "metadata": {},
     "output_type": "execute_result"
    }
   ],
   "source": [
    "max(2,6)"
   ]
  },
  {
   "cell_type": "markdown",
   "metadata": {},
   "source": [
    "A `min` e `max` possiamo passare un numero arbitrario di parametri, anche negativi:"
   ]
  },
  {
   "cell_type": "code",
   "execution_count": 48,
   "metadata": {},
   "outputs": [
    {
     "data": {
      "text/plain": [
       "-3"
      ]
     },
     "execution_count": 48,
     "metadata": {},
     "output_type": "execute_result"
    }
   ],
   "source": [
    "min(2,9,-3,5)"
   ]
  },
  {
   "cell_type": "code",
   "execution_count": 49,
   "metadata": {},
   "outputs": [
    {
     "data": {
      "text/plain": [
       "9"
      ]
     },
     "execution_count": 49,
     "metadata": {},
     "output_type": "execute_result"
    }
   ],
   "source": [
    "max(2,9,-3,5)"
   ]
  },
  {
   "cell_type": "markdown",
   "metadata": {},
   "source": [
    "<div class=\"alert alert-info\" >\n",
    "\n",
    "**[V COMANDAMENTO](https://it.softpython.org/commandments.html#V-COMANDAMENTO) Non ridifinerai mai funzioni di sistema come** `min` **e** `max` \n",
    "</div>\n",
    "\n",
    "\n",
    "Se usi `min` e `max` come variabili, le funzioni corrispondenti smetteranno letteralmente di funzionare!\n",
    "\n",
    "```python\n",
    "min = 4   # NOOOO !\n",
    "max = 7   # NON FARLO !\n",
    "```"
   ]
  },
  {
   "cell_type": "markdown",
   "metadata": {},
   "source": [
    "**DOMANDA**: dati due qualsiasi interi `a` e `b`, quali delle seguenti espressioni risultano equivalenti?\n",
    "\n",
    "```python\n",
    "1. max(a,b)\n",
    "2. max(min(a,b),b)\n",
    "3. -min(-a,-b)\n",
    "4. -max(-a,-b)\n",
    "```"
   ]
  },
  {
   "cell_type": "raw",
   "id": "challenging-union",
   "metadata": {
    "format": "text/html"
   },
   "source": [
    "<a  class=\"jupman-sol jupman-sol-toggler\" \n",
    " onclick=\"jupman.toggleSolution(this);\" \n",
    " data-jupman-show=\"Mostra risposta\" data-jupman-hide=\"Nascondi\">Mostra risposta</a><div class=\"jupman-sol jupman-sol-question\" style=\"display:none\">  "
   ]
  },
  {
   "cell_type": "markdown",
   "metadata": {},
   "source": [
    "**RISPOSTA**: la 1. e la 3. sono equivalenti"
   ]
  },
  {
   "cell_type": "raw",
   "id": "interstate-collector",
   "metadata": {
    "format": "text/html"
   },
   "source": [
    "</div>"
   ]
  },
  {
   "cell_type": "markdown",
   "metadata": {},
   "source": [
    "### Esercizio - trasporti\n",
    "\n",
    "✪ Una ditta dispone di un camion che usa abitualmente per effettuare consegne presso il suo miglior cliente. Il camion può trasportare 10 tonnellate di materiale, ma sfortunatamente le strade che può percorrere hanno dei tratti su ponti che limitano il tonnellaggio massimo. Questi limiti sono indicati in 5 variabili:\n",
    "\n",
    "```python\n",
    "p1,p2,p3,p4,p5 = 7,2,4,3,6\n",
    "```\n",
    "\n",
    "Il camion deve sempre percorrere il ponte `p1`, poi per il tragitto vi sono a disposizione tre itinerari possibili:\n",
    "\n",
    "- Nel primo itinerario, il camion percorre anche il ponte `p2`\n",
    "- Nel secondo itinerario, il camion percorre anche i ponti `p3` e `p4`\n",
    "- Nel terzo itinerario, il camion percorre anche il ponte `p5`\n",
    "\n",
    "La ditta vuole sapere qual'è il tonnellaggio massimo che può far arrivare a destinazione con un viaggio. Scrivi del codice che stampa questo numero.\n",
    "\n",
    "**NOTA**: non vogliamo sapere qual'è l'itinerario migliore, ci basta trovare il tonnellaggio massimo che possiamo far giungere a destinazione con un viaggio.\n",
    "\n",
    "Esempio - dati:\n",
    "\n",
    "```python\n",
    "p1,p2,p3,p4,p5 = 7,2,4,6,3\n",
    "```\n",
    "\n",
    "deve stampare\n",
    "\n",
    "```\n",
    "In un viaggio possiamo trasportare al massimo 4 tonnellate.\n",
    "```"
   ]
  },
  {
   "cell_type": "raw",
   "id": "ordered-canal",
   "metadata": {
    "format": "text/html"
   },
   "source": [
    "<a  class=\"jupman-sol jupman-sol-toggler\" \n",
    " onclick=\"jupman.toggleSolution(this);\" \n",
    " data-jupman-show=\"Mostra soluzione\" data-jupman-hide=\"Nascondi\">Mostra soluzione</a><div class=\"jupman-sol jupman-sol-code\" style=\"display:none\">  "
   ]
  },
  {
   "cell_type": "code",
   "execution_count": 50,
   "metadata": {},
   "outputs": [
    {
     "name": "stdout",
     "output_type": "stream",
     "text": [
      "In un viaggio possiamo trasportare 4 tonnellate\n"
     ]
    }
   ],
   "source": [
    "p1,p2,p3,p4,p5 = 7,2,4,6,3   # 4\n",
    "#p1,p2,p3,p4,p5 = 2,6,2,4,5  # 2\n",
    "#p1,p2,p3,p4,p5 = 8,6,2,9,5  # 6\n",
    "#p1,p2,p3,p4,p5 = 8,9,9,4,7  # 8\n",
    "\n",
    "\n",
    "# scrivi qui\n",
    "\n",
    "print('In un viaggio possiamo trasportare',\n",
    "       max(min(p1,p2), min(p1,p3,p4),min(p1,p5)), \n",
    "      'tonnellate')"
   ]
  },
  {
   "cell_type": "raw",
   "id": "after-beatles",
   "metadata": {
    "format": "text/html"
   },
   "source": [
    "</div>"
   ]
  },
  {
   "cell_type": "code",
   "execution_count": 50,
   "metadata": {},
   "outputs": [
    {
     "name": "stdout",
     "output_type": "stream",
     "text": [
      "In un viaggio possiamo trasportare 4 tonnellate\n"
     ]
    }
   ],
   "source": [
    "p1,p2,p3,p4,p5 = 7,2,4,6,3   # 4\n",
    "#p1,p2,p3,p4,p5 = 2,6,2,4,5  # 2\n",
    "#p1,p2,p3,p4,p5 = 8,6,2,9,5  # 6\n",
    "#p1,p2,p3,p4,p5 = 8,9,9,4,7  # 8\n",
    "\n",
    "\n",
    "# scrivi qui\n",
    "\n"
   ]
  },
  {
   "cell_type": "markdown",
   "metadata": {},
   "source": [
    "### Esercizio - divani\n",
    "\n",
    "✪ Il magnate De Industrionis possiede due fabbriche di divani, una a Belluno e una a Rovigo. Per realizzare un divano servono tre componenti principali: uno materasso, uno schienale e una copertura di stoffa. Ogni fabbrica produce tutti i componenti necessari, impiegando un certo tempo per costruire ciascun componente:"
   ]
  },
  {
   "cell_type": "code",
   "execution_count": 51,
   "metadata": {},
   "outputs": [],
   "source": [
    "b_mat, b_sch, b_sto, r_mat, r_sch, r_sto = 23,54,12,13,37,24"
   ]
  },
  {
   "cell_type": "markdown",
   "metadata": {},
   "source": [
    "Belluno impiega 23h a produrre un materasso, 54h lo schienale e 12h la stoffa. Rovigo, rispettivamente, 13, 37 e 24 ore. Quando i 3 componenti sono pronti, assemblarli nel divano finito richiede un'ora.\n",
    "\n",
    "Ogni tanto arrivano richieste particolari da parte di nobili straricchi, che pretendono di vedersi consegnati nel giro di poche ore divani con modifiche stravaganti come schienali in platino massiccio e altre fesserie.\n",
    "\n",
    "Se le due fabbriche iniziano la produzione dei componenti allo stesso tempo, De Industrionis vuole sapere in quanto tempo si produrrà il primo divano. Scrivi del codice che calcola tale numero.\n",
    " \n",
    "* **NOTA 1**: non ci interessa sapere quale fabbrica produrrà il divano, vogliamo solo sapere il tempo più breve nel quale si otterrà un divano\n",
    "* **NOTA 2**: supponi che entrambi le fabbriche **non** abbiano componenti in magazzino\n",
    "* **NOTA 3**: le due fabbriche **non** si scambiano componenti"
   ]
  },
  {
   "cell_type": "markdown",
   "metadata": {},
   "source": [
    "\n",
    "Esempio 1 - dati:\n",
    "\n",
    "```python\n",
    "b_mat, b_sch, b_sto, r_mat, r_sch, r_sto = 23,54,12,13,37,24\n",
    "```\n",
    "il tuo codice deve stampare:\n",
    "\n",
    "```\n",
    "il primo divano verrà prodotto in 38 ore.\n",
    "```\n",
    "\n",
    "Esempio 2 - dati:\n",
    "\n",
    "```python\n",
    "b_mat, b_sch, b_sto, r_mat, r_sch, r_sto = 81,37,32,54,36,91\n",
    "```\n",
    "il tuo codice deve stampare:\n",
    "\n",
    "```\n",
    "il primo divano verrà prodotto in 82 ore.\n",
    "```"
   ]
  },
  {
   "cell_type": "raw",
   "id": "royal-packet",
   "metadata": {
    "format": "text/html"
   },
   "source": [
    "<a  class=\"jupman-sol jupman-sol-toggler\" \n",
    " onclick=\"jupman.toggleSolution(this);\" \n",
    " data-jupman-show=\"Mostra soluzione\" data-jupman-hide=\"Nascondi\">Mostra soluzione</a><div class=\"jupman-sol jupman-sol-code\" style=\"display:none\">  "
   ]
  },
  {
   "cell_type": "code",
   "execution_count": 52,
   "metadata": {},
   "outputs": [
    {
     "name": "stdout",
     "output_type": "stream",
     "text": [
      "il primo divano verrà prodotto in 38 ore.\n"
     ]
    }
   ],
   "source": [
    "\n",
    "b_mat, b_sch, b_sto, r_mat, r_sch, r_sto = 23,54,12,13,37,24   # 38\n",
    "#b_mat, b_sch, b_sto, r_mat, r_sch, r_sto = 81,37,32,54,36,91  # 82\n",
    "#b_mat, b_sch, b_sto, r_mat, r_sch, r_sto = 21,39,47,54,36,91  # 48\n",
    "\n",
    "# scrivi qui\n",
    "\n",
    "t = min(max(b_mat, b_sch, b_sto) + 1, max(r_mat, r_sch, r_sto) + 1)\n",
    "\n",
    "print('il primo divano verrà prodotto in', t,'ore.')"
   ]
  },
  {
   "cell_type": "raw",
   "id": "monthly-letter",
   "metadata": {
    "format": "text/html"
   },
   "source": [
    "</div>"
   ]
  },
  {
   "cell_type": "code",
   "execution_count": 52,
   "metadata": {},
   "outputs": [
    {
     "name": "stdout",
     "output_type": "stream",
     "text": [
      "il primo divano verrà prodotto in 38 ore.\n"
     ]
    }
   ],
   "source": [
    "\n",
    "b_mat, b_sch, b_sto, r_mat, r_sch, r_sto = 23,54,12,13,37,24   # 38\n",
    "#b_mat, b_sch, b_sto, r_mat, r_sch, r_sto = 81,37,32,54,36,91  # 82\n",
    "#b_mat, b_sch, b_sto, r_mat, r_sch, r_sto = 21,39,47,54,36,91  # 48\n",
    "\n",
    "# scrivi qui\n",
    "\n"
   ]
  },
  {
   "cell_type": "markdown",
   "metadata": {},
   "source": [
    "## Booleani \n",
    "\n",
    "**Riferimenti**:\n",
    "\n",
    "- [Pensare in Python, Capitolo 5, Istruzioni condizionali e ricorsione](https://davidleoni.github.io/ThinkPythonItalian/html/thinkpython2006.html) ,  in particolare [Sezioni 5.2 e 5.3, Espressioni booleane](https://davidleoni.github.io/ThinkPythonItalian/html/thinkpython2006.html#sec59) Puoi saltare la ricorsione\n",
    "- [Nicola Cassetta, Lezione 7,  Le istruzioni condizionali: if, else, elif](http://ncassetta.altervista.org/Tutorial_Python/Lezione_04.html)\n",
    "\n",
    "Questi oggetti sono usati nell'algebra booleana e hanno il tipo `bool`.\n",
    "\n",
    "I valori di verità sono rappresentati con le parole chiave `True` e `False` in Python: un oggetto booleano può solo avere i valori `True` e `False`.\n"
   ]
  },
  {
   "cell_type": "code",
   "execution_count": 53,
   "metadata": {},
   "outputs": [],
   "source": [
    "x = True"
   ]
  },
  {
   "cell_type": "code",
   "execution_count": 54,
   "metadata": {},
   "outputs": [
    {
     "data": {
      "text/plain": [
       "True"
      ]
     },
     "execution_count": 54,
     "metadata": {},
     "output_type": "execute_result"
    }
   ],
   "source": [
    "x"
   ]
  },
  {
   "cell_type": "code",
   "execution_count": 55,
   "metadata": {},
   "outputs": [
    {
     "data": {
      "text/plain": [
       "bool"
      ]
     },
     "execution_count": 55,
     "metadata": {},
     "output_type": "execute_result"
    }
   ],
   "source": [
    "type(x)"
   ]
  },
  {
   "cell_type": "code",
   "execution_count": 56,
   "metadata": {},
   "outputs": [],
   "source": [
    "y = False"
   ]
  },
  {
   "cell_type": "code",
   "execution_count": 57,
   "metadata": {},
   "outputs": [
    {
     "data": {
      "text/plain": [
       "bool"
      ]
     },
     "execution_count": 57,
     "metadata": {},
     "output_type": "execute_result"
    }
   ],
   "source": [
    "type(y)"
   ]
  },
  {
   "cell_type": "markdown",
   "metadata": {},
   "source": [
    "### Operatori tra booleani\n",
    "\n",
    "Possiamo operare sui valori booleani con gli operatori booleani `not`, `and`, `or`:"
   ]
  },
  {
   "cell_type": "code",
   "execution_count": 58,
   "metadata": {},
   "outputs": [
    {
     "data": {
      "text/plain": [
       "True"
      ]
     },
     "execution_count": 58,
     "metadata": {},
     "output_type": "execute_result"
    }
   ],
   "source": [
    "# Espressione    Risultato\n",
    "not True         # False\n",
    "not False        # True\n",
    "\n",
    "False and False  # False\n",
    "False and True   # False\n",
    "True and False   # False\n",
    "True and True    # True\n",
    "\n",
    "False or False   # False\n",
    "False or True    # True\n",
    "True or False    # True\n",
    "True or True     # True\n"
   ]
  },
  {
   "cell_type": "markdown",
   "metadata": {},
   "source": [
    "### Booleani - Domande con costanti\n",
    "\n",
    "**DOMANDA**: Per ciascuna delle seguenti espressioni booleane, prova a indovinare il risultato (_prima_ indovina, e _poi_ provale !):\n",
    "\n",
    "\n",
    "1.  ```python\n",
    "    not (True and False)\n",
    "    ```\n",
    "1.  ```python    \n",
    "    (not True) or (not (True or False))\n",
    "    ```\n",
    "1.  ```python\n",
    "    not (not True)\n",
    "    ```\n",
    "1.  ```python    \n",
    "    not (True and (False or True))\n",
    "    ```\n",
    "1.  ```python    \n",
    "    not (not (not False))\n",
    "    ```\n",
    "1.  ```python    \n",
    "    True and (not (not((not False) and True)))\n",
    "    ```\n",
    "1.  ```python    \n",
    "    False or (False or ((True and True) and (True and False)))\n",
    "    ```\n"
   ]
  },
  {
   "cell_type": "markdown",
   "metadata": {},
   "source": [
    "### Booleani -  Domande con variabili"
   ]
  },
  {
   "cell_type": "markdown",
   "metadata": {},
   "source": [
    "**DOMANDA**: Per ciascuna di queste espressioni, per quali valori di `x` e `y` danno `True`? Prova a pensare una risposta prima di provare !!!\n",
    "\n",
    "**NOTA**: ci possono essere più combinazioni che producono `True`, trovale tutte.\n",
    "\n",
    "1.  ```python\n",
    "    x or (not x)\n",
    "    ```\n",
    "1.  ```python\n",
    "    (not x) and (not y)\n",
    "    ```\n",
    "1.  ```python\n",
    "    x and (y or y)\n",
    "    ```\n",
    "1.  ```python\n",
    "    x and (not y)\n",
    "    ```\n",
    "1.  ```python\n",
    "    (not x) or  y\n",
    "    ```\n",
    "1.  ```python\n",
    "    y or not (y and x)\n",
    "    ```\n",
    "1.  ```python\n",
    "    x and ((not x) or not(y))\n",
    "    ```\n",
    "1.  ```python\n",
    "    (not (not x)) and not (x and y)\n",
    "    ```    \n",
    "1.  ```python\n",
    "    x and (x or (not(x) or not(not(x or not (x)))))\n",
    "    ```"
   ]
  },
  {
   "cell_type": "markdown",
   "metadata": {},
   "source": [
    "**DOMANDA**: Per ciascuna di queste espressioni, per quali valori di `x` e `y` danno `False` ?\n",
    "\n",
    "**NOTA**: ci possono essere più combiinazioni che producono `False`, trovale tutte\n",
    "\n",
    "1.  ```python\n",
    "    x or ((not y) or z)\n",
    "    ```\n",
    "1.  ```python\n",
    "    x or (not y) or (not z)\n",
    "    ```\n",
    "1.  ```python\n",
    "    not (x and y and (not z))\n",
    "    ```\n",
    "1.  ```python\n",
    "    not (x and (not y) and (x or z))\n",
    "    ```\n",
    "1.  ```python\n",
    "    y or ((x or y) and (not z))\n",
    "    ```"
   ]
  },
  {
   "cell_type": "markdown",
   "metadata": {},
   "source": [
    "### Booleani - De Morgan\n",
    "\n",
    "Ci sono un paio di leggi che a volte tornano utili:\n",
    "\n",
    "| Formula| Equivalente a|\n",
    "|-|-|\n",
    "|`x or y`|`not(not x and not y)`|\n",
    "|`x and y`|`not(not x or not y)`|\n",
    "\n",
    "**DOMANDA**: Guarda la seguenti espressioni, e prova a riscriverla in una equivalente usando le leggi di De Morgan, eventualmente semplificando il risultato ove possibile. Verifica poi se la traduzione produce un risultato uguale all'originale per tutti i possibili valori di `x` e `y`\n",
    "\n",
    "1.  ```python\n",
    "    (not x) or y\n",
    "    ```\n",
    "1.  ```python\n",
    "    (not x) and (not y)\n",
    "    ```    \n",
    "1.  ```python\n",
    "    (not x) and (not (x or y))\n",
    "    ```        \n",
    "\n",
    "Esempio:\n",
    "\n",
    "```python\n",
    "x,y = False, False\n",
    "#x,y = False, True\n",
    "#x,y = True, False\n",
    "#x,y = True, True\n",
    "\n",
    "orig = x or y\n",
    "trasf = not((not x) and (not y))\n",
    "print('orig=',orig)\n",
    "print('trasf=',trasf)\n",
    "```"
   ]
  },
  {
   "cell_type": "code",
   "execution_count": 59,
   "metadata": {},
   "outputs": [],
   "source": [
    "# scrivi qui\n",
    "\n"
   ]
  },
  {
   "cell_type": "markdown",
   "metadata": {},
   "source": [
    "### Booleani - Conversione\n",
    "\n",
    "Possiamo convertire booleani in interi con la funzione predefinita `int`. Ogni intero può essere convertito in un booleano (e vice versa) con `bool`:\n"
   ]
  },
  {
   "cell_type": "code",
   "execution_count": 60,
   "metadata": {},
   "outputs": [
    {
     "data": {
      "text/plain": [
       "True"
      ]
     },
     "execution_count": 60,
     "metadata": {},
     "output_type": "execute_result"
    }
   ],
   "source": [
    "bool(1)"
   ]
  },
  {
   "cell_type": "code",
   "execution_count": 61,
   "metadata": {},
   "outputs": [
    {
     "data": {
      "text/plain": [
       "False"
      ]
     },
     "execution_count": 61,
     "metadata": {},
     "output_type": "execute_result"
    }
   ],
   "source": [
    "bool(0)"
   ]
  },
  {
   "cell_type": "code",
   "execution_count": 62,
   "metadata": {},
   "outputs": [
    {
     "data": {
      "text/plain": [
       "True"
      ]
     },
     "execution_count": 62,
     "metadata": {},
     "output_type": "execute_result"
    }
   ],
   "source": [
    "bool(72)"
   ]
  },
  {
   "cell_type": "code",
   "execution_count": 63,
   "metadata": {},
   "outputs": [
    {
     "data": {
      "text/plain": [
       "True"
      ]
     },
     "execution_count": 63,
     "metadata": {},
     "output_type": "execute_result"
    }
   ],
   "source": [
    "bool(-5)"
   ]
  },
  {
   "cell_type": "code",
   "execution_count": 64,
   "metadata": {},
   "outputs": [
    {
     "data": {
      "text/plain": [
       "1"
      ]
     },
     "execution_count": 64,
     "metadata": {},
     "output_type": "execute_result"
    }
   ],
   "source": [
    "int(True)"
   ]
  },
  {
   "cell_type": "code",
   "execution_count": 65,
   "metadata": {},
   "outputs": [
    {
     "data": {
      "text/plain": [
       "0"
      ]
     },
     "execution_count": 65,
     "metadata": {},
     "output_type": "execute_result"
    }
   ],
   "source": [
    "int(False)"
   ]
  },
  {
   "cell_type": "markdown",
   "metadata": {},
   "source": [
    "Ogni intero è valutato a `True`, eccetto `0`. Nota che, i valori di verità `True` e `False` si comportano rispettivamente come gli interi `1` e `0`"
   ]
  },
  {
   "cell_type": "markdown",
   "metadata": {},
   "source": [
    "### Booleani - Domande - cos'è un booleano?\n",
    "\n",
    "**DOMANDA**: Per ciascuna di queste espressioni, che risultato produce?\n",
    "\n",
    "1.  ```python\n",
    "    bool(True)\n",
    "    ```\n",
    "1.  ```python\n",
    "    bool(False)\n",
    "    ```\n",
    "1.  ```python\n",
    "    bool(2 + 4)\n",
    "    ```\n",
    "\n",
    "1.  ```python\n",
    "    bool(4-3-1)\n",
    "    ```\n",
    "1.  ```python\n",
    "    int(4-3-1)\n",
    "    ```\n",
    "1.  ```python\n",
    "    True + True\n",
    "    ```\n",
    "1.  ```python\n",
    "    True + False\n",
    "    ```\n",
    "1.  ```python\n",
    "    True - True\n",
    "    ```\n",
    "1.  ```python\n",
    "    True * True\n",
    "    ```"
   ]
  },
  {
   "cell_type": "markdown",
   "metadata": {},
   "source": [
    "### Booleani - Ordine di valutazione\n",
    "\n",
    "\n",
    "Per questioni di efficienza, se durante la valutazione di un'espressione booleana Python scopre che il risultato possibile può essere solo uno, allora evita di calcolare le espressioni seguenti. Per esempio, in questa espressione:\n",
    "\n",
    "```python\n",
    "False and x\n",
    "```\n",
    "\n",
    "leggendo da sinistra a destra, nel momento in cui incontriamo `False` sappiamo già che il risultato della `and` sarà sempre `False` indipendentemente dal valore della `x` (convinciti). \n",
    "\n",
    "Se invece leggendo da sinistra a destra Python trova prima `True`, continua la valutazione delle espressioni seguenti _e come risultato dell'intera_ `and` _restituisce la valutazione dell'_ ***ultima*** _espressione_. Se usiamo sempre booleani, non ci accorgeremo delle differenze, ma cambiando tipi potremmo ottenere delle sorprese:"
   ]
  },
  {
   "cell_type": "code",
   "execution_count": 66,
   "metadata": {},
   "outputs": [
    {
     "data": {
      "text/plain": [
       "5"
      ]
     },
     "execution_count": 66,
     "metadata": {},
     "output_type": "execute_result"
    }
   ],
   "source": [
    "True and 5"
   ]
  },
  {
   "cell_type": "code",
   "execution_count": 67,
   "metadata": {},
   "outputs": [
    {
     "data": {
      "text/plain": [
       "True"
      ]
     },
     "execution_count": 67,
     "metadata": {},
     "output_type": "execute_result"
    }
   ],
   "source": [
    "5 and True"
   ]
  },
  {
   "cell_type": "code",
   "execution_count": 68,
   "metadata": {},
   "outputs": [
    {
     "data": {
      "text/plain": [
       "False"
      ]
     },
     "execution_count": 68,
     "metadata": {},
     "output_type": "execute_result"
    }
   ],
   "source": [
    "False and 5"
   ]
  },
  {
   "cell_type": "code",
   "execution_count": 69,
   "metadata": {},
   "outputs": [
    {
     "data": {
      "text/plain": [
       "False"
      ]
     },
     "execution_count": 69,
     "metadata": {},
     "output_type": "execute_result"
    }
   ],
   "source": [
    "5 and False"
   ]
  },
  {
   "cell_type": "markdown",
   "metadata": {},
   "source": [
    "Pensiamo a quale può essere l'ordine di valutazione nella `or`. Guarda l'espressione:\n",
    "\n",
    "```python\n",
    "True or x\n",
    "```\n",
    "\n",
    "leggendo da sinistra a destra, appena troviamo il `True` possiamo stabilire che il risultato di tutta la `or` dovrà essere `True` indipendentemente dal valore di `x` (convinciti).\n",
    "\n",
    "Se invece il primo valore è `False`, Python continuerà la valutazione finchè trova un valore logico `True`, quando questo accade quel valore sarà il risultato dell'intera espressione. Ce ne possiamo accorgere se usiamo costanti diverse da `True` e da `False`:"
   ]
  },
  {
   "cell_type": "code",
   "execution_count": 70,
   "metadata": {},
   "outputs": [
    {
     "data": {
      "text/plain": [
       "5"
      ]
     },
     "execution_count": 70,
     "metadata": {},
     "output_type": "execute_result"
    }
   ],
   "source": [
    "False or 5"
   ]
  },
  {
   "cell_type": "code",
   "execution_count": 71,
   "metadata": {},
   "outputs": [
    {
     "data": {
      "text/plain": [
       "7"
      ]
     },
     "execution_count": 71,
     "metadata": {},
     "output_type": "execute_result"
    }
   ],
   "source": [
    "7 or False"
   ]
  },
  {
   "cell_type": "code",
   "execution_count": 72,
   "metadata": {},
   "outputs": [
    {
     "data": {
      "text/plain": [
       "3"
      ]
     },
     "execution_count": 72,
     "metadata": {},
     "output_type": "execute_result"
    }
   ],
   "source": [
    "3 or True"
   ]
  },
  {
   "cell_type": "markdown",
   "metadata": {},
   "source": [
    "I numeri che vedi hanno sempre un risultato logico coerente con le operazioni fatte, cioè se vedi `0` si intende che il risultato dell'espressione abbia valore logico `False` e se vedi un numero diverso da `0` il risultato si intende `True` (convinciti)"
   ]
  },
  {
   "cell_type": "markdown",
   "metadata": {},
   "source": [
    "**DOMANDA**: Guarda le espressioni seguenti, e per ciascuna cerca di indovinare quale risultato produce (o se da errore):\n",
    "\n",
    "1.  ```python\n",
    "    0 and True\n",
    "    ```\n",
    "1.  ```python\n",
    "    1 and 0\n",
    "    ```\n",
    "1.  ```python\n",
    "    True and -1\n",
    "    ```    \n",
    "1.  ```python\n",
    "    0 and False\n",
    "    ```    \n",
    "1.  ```python\n",
    "    0 or False\n",
    "    ```        \n",
    "1.  ```python\n",
    "    0 or 1\n",
    "    ```\n",
    "1.  ```python\n",
    "    False or -6\n",
    "    ```    \n",
    "1.  ```python\n",
    "    0 or True\n",
    "    ```       "
   ]
  },
  {
   "cell_type": "markdown",
   "metadata": {},
   "source": [
    "### Booleani - errori nella valutazione\n",
    "\n",
    "Cosa succede se un'espressione booleana contiene del codice che genererebbe un errore? Intuitivamente, il programma dovrebbe terminare, ma non è sempre così.\n",
    "\n",
    "Proviamo a generare di proposito un errore. Come ti avranno sicuramente detto più e più volte alle lezioni di matematica, provare a dividere un numero per zero è un errore perchè il risultato è indeterminato. Quindi se proviamo a chiedere a Python il risultato di `1/0` otterremo (prevedibilmente) lamentele:"
   ]
  },
  {
   "cell_type": "markdown",
   "metadata": {},
   "source": [
    "```python\n",
    "print(1/0)\n",
    "print('dopo')\n",
    "\n",
    "---------------------------------------------------------------------------\n",
    "ZeroDivisionError                         Traceback (most recent call last)\n",
    "<ipython-input-51-9e1622b385b6> in <module>()\n",
    "----> 1 1/0\n",
    "\n",
    "ZeroDivisionError: division by zero\n",
    "\n",
    "```"
   ]
  },
  {
   "cell_type": "markdown",
   "metadata": {},
   "source": [
    "Nota che `'dopo'` _non_  viene stampato perchè il programma si interrompe prima.\n",
    "\n",
    "E se proviamo a scrivere così, cosa otteniamo?"
   ]
  },
  {
   "cell_type": "code",
   "execution_count": 73,
   "metadata": {},
   "outputs": [
    {
     "data": {
      "text/plain": [
       "False"
      ]
     },
     "execution_count": 73,
     "metadata": {},
     "output_type": "execute_result"
    }
   ],
   "source": [
    "False and 1/0"
   ]
  },
  {
   "cell_type": "markdown",
   "metadata": {},
   "source": [
    "Python produce un risultato senza lamentarsi !  Perchè? Valutando da sinistra a destra ha incontrato un `False` e ha quindi concluso in anticipo che il risultato dell'espressione debba essere `False`. Molte volte non ti accorgerai di questi potenziali problemi ma è bene conoscerli perchè vi sono situazioni in cui puoi  persino sfruttare l'ordine di esecuzione per prevenire errori (per esempio negli `if` e `while` che vedremo in seguito)."
   ]
  },
  {
   "cell_type": "markdown",
   "metadata": {},
   "source": [
    "**DOMANDA**: Guarda le espressioni seguenti, e per ciascuna cerca di indovinare quale risultato produce (o se da errore):\n",
    "\n",
    "1.  ```python\n",
    "    True and 1/0\n",
    "    ```\n",
    "1.  ```python\n",
    "    1/0 and 1/0\n",
    "    ```        \n",
    "1.  ```python\n",
    "    False or 1/0\n",
    "    ```\n",
    "1.  ```python\n",
    "    True or 1/0\n",
    "    ```\n",
    "1.  ```python\n",
    "    1/0 or True\n",
    "    ```    \n",
    "1.  ```python\n",
    "    1/0 or 1/0\n",
    "    ```    \n",
    "1.  ```python\n",
    "    True or (1/0 and True)\n",
    "    ```\n",
    "1.  ```python\n",
    "    (not False) or not 1/0\n",
    "    ```\n",
    "1.  ```python\n",
    "    True and 1/0 and True\n",
    "    ```\n",
    "1.  ```python\n",
    "    (not True) or 1/0 or True\n",
    "    ```\n",
    "1.  ```python\n",
    "    True and (not True) and 1/0\n",
    "    ```"
   ]
  },
  {
   "cell_type": "markdown",
   "metadata": {},
   "source": [
    "### Operatori di comparazione\n",
    "\n",
    "Gli operatori di comparazione permettono di costruire _espressioni_ che ritornano un valore booleano:\n",
    "\n",
    "|Comparatore|Descrizione|\n",
    "|-----------|-----------|\n",
    "|`a == b`| `True` se e solo se a = b|\n",
    "|`a != b`| `True` se e solo se a $\\neq$ b|\n",
    "|`a < b`| `True` se e solo se a < b|\n",
    "|`a > b`| `True` se e solo se a > b|\n",
    "|`a <= b`| `True` se e solo se a $\\leq$ b|\n",
    "|`a >= b`| `True` se e solo se a $\\geq$ b|"
   ]
  },
  {
   "cell_type": "code",
   "execution_count": 74,
   "metadata": {},
   "outputs": [
    {
     "data": {
      "text/plain": [
       "True"
      ]
     },
     "execution_count": 74,
     "metadata": {},
     "output_type": "execute_result"
    }
   ],
   "source": [
    "3 == 3"
   ]
  },
  {
   "cell_type": "code",
   "execution_count": 75,
   "metadata": {},
   "outputs": [
    {
     "data": {
      "text/plain": [
       "False"
      ]
     },
     "execution_count": 75,
     "metadata": {},
     "output_type": "execute_result"
    }
   ],
   "source": [
    "3 == 5"
   ]
  },
  {
   "cell_type": "code",
   "execution_count": 76,
   "metadata": {},
   "outputs": [],
   "source": [
    "a,b = 3,5"
   ]
  },
  {
   "cell_type": "code",
   "execution_count": 77,
   "metadata": {},
   "outputs": [
    {
     "data": {
      "text/plain": [
       "True"
      ]
     },
     "execution_count": 77,
     "metadata": {},
     "output_type": "execute_result"
    }
   ],
   "source": [
    "a == a"
   ]
  },
  {
   "cell_type": "code",
   "execution_count": 78,
   "metadata": {},
   "outputs": [
    {
     "data": {
      "text/plain": [
       "False"
      ]
     },
     "execution_count": 78,
     "metadata": {},
     "output_type": "execute_result"
    }
   ],
   "source": [
    "a == b"
   ]
  },
  {
   "cell_type": "code",
   "execution_count": 79,
   "metadata": {},
   "outputs": [
    {
     "data": {
      "text/plain": [
       "True"
      ]
     },
     "execution_count": 79,
     "metadata": {},
     "output_type": "execute_result"
    }
   ],
   "source": [
    "a == b - 2"
   ]
  },
  {
   "cell_type": "code",
   "execution_count": 80,
   "metadata": {},
   "outputs": [
    {
     "data": {
      "text/plain": [
       "True"
      ]
     },
     "execution_count": 80,
     "metadata": {},
     "output_type": "execute_result"
    }
   ],
   "source": [
    "3 != 5  # 3 è diverso da 5 ? "
   ]
  },
  {
   "cell_type": "code",
   "execution_count": 81,
   "metadata": {},
   "outputs": [
    {
     "data": {
      "text/plain": [
       "False"
      ]
     },
     "execution_count": 81,
     "metadata": {},
     "output_type": "execute_result"
    }
   ],
   "source": [
    "3 != 3  # 3 è diverso da 3 ? "
   ]
  },
  {
   "cell_type": "code",
   "execution_count": 82,
   "metadata": {},
   "outputs": [
    {
     "data": {
      "text/plain": [
       "True"
      ]
     },
     "execution_count": 82,
     "metadata": {},
     "output_type": "execute_result"
    }
   ],
   "source": [
    "3 < 5"
   ]
  },
  {
   "cell_type": "code",
   "execution_count": 83,
   "metadata": {},
   "outputs": [
    {
     "data": {
      "text/plain": [
       "False"
      ]
     },
     "execution_count": 83,
     "metadata": {},
     "output_type": "execute_result"
    }
   ],
   "source": [
    "5 < 5"
   ]
  },
  {
   "cell_type": "code",
   "execution_count": 84,
   "metadata": {},
   "outputs": [
    {
     "data": {
      "text/plain": [
       "True"
      ]
     },
     "execution_count": 84,
     "metadata": {},
     "output_type": "execute_result"
    }
   ],
   "source": [
    "5 <= 5"
   ]
  },
  {
   "cell_type": "code",
   "execution_count": 85,
   "metadata": {},
   "outputs": [
    {
     "data": {
      "text/plain": [
       "True"
      ]
     },
     "execution_count": 85,
     "metadata": {},
     "output_type": "execute_result"
    }
   ],
   "source": [
    "8 > 5"
   ]
  },
  {
   "cell_type": "code",
   "execution_count": 86,
   "metadata": {},
   "outputs": [
    {
     "data": {
      "text/plain": [
       "False"
      ]
     },
     "execution_count": 86,
     "metadata": {},
     "output_type": "execute_result"
    }
   ],
   "source": [
    "8 > 8"
   ]
  },
  {
   "cell_type": "code",
   "execution_count": 87,
   "metadata": {},
   "outputs": [
    {
     "data": {
      "text/plain": [
       "True"
      ]
     },
     "execution_count": 87,
     "metadata": {},
     "output_type": "execute_result"
    }
   ],
   "source": [
    "8 >= 8"
   ]
  },
  {
   "cell_type": "markdown",
   "metadata": {},
   "source": [
    "Dato che le comparazioni sono espressioni che producono booleani, possiamo anche assegnare il risultato ad una variabile:"
   ]
  },
  {
   "cell_type": "code",
   "execution_count": 88,
   "metadata": {},
   "outputs": [],
   "source": [
    "x = 5 > 3"
   ]
  },
  {
   "cell_type": "code",
   "execution_count": 89,
   "metadata": {},
   "outputs": [
    {
     "name": "stdout",
     "output_type": "stream",
     "text": [
      "True\n"
     ]
    }
   ],
   "source": [
    "print(x)"
   ]
  },
  {
   "cell_type": "markdown",
   "metadata": {},
   "source": [
    "**DOMANDA**: Guarda le espressioni seguenti, e per ciascuna cerca di indovinare quale risultato produce (o se produce un errore).\n",
    "\n",
    "1.  ```python\n",
    "    x = 3 == 4\n",
    "    print(x)\n",
    "    ```\n",
    "1.  ```python\n",
    "    x = False or True\n",
    "    print(x)\n",
    "    ```\n",
    "1.  ```python\n",
    "    True or False = x or False\n",
    "    print(x)\n",
    "    ```    \n",
    "1.  ```python\n",
    "    x,y = 9,10\n",
    "    z = x < y and x == 3**2\n",
    "    print(z)\n",
    "    ```\n",
    "1.  ```python\n",
    "    a,b = 7,6\n",
    "    a = b\n",
    "    x = a >= b + 1\n",
    "    print(x)\n",
    "    ```\n",
    "1.  ```python\n",
    "    x = 3^2\n",
    "    y = 9\n",
    "    print(x == y)\n",
    "    ```"
   ]
  },
  {
   "cell_type": "markdown",
   "metadata": {},
   "source": [
    "## Numeri reali\n",
    "\n",
    "Python salva i numeri reali (numeri in virgola mobile) in 64 bit di informazione divisi in segno, esponente e mantissa. Vediamo un esempio:"
   ]
  },
  {
   "cell_type": "code",
   "execution_count": 90,
   "metadata": {},
   "outputs": [
    {
     "data": {
      "text/plain": [
       "3.14"
      ]
     },
     "execution_count": 90,
     "metadata": {},
     "output_type": "execute_result"
    }
   ],
   "source": [
    "3.14"
   ]
  },
  {
   "cell_type": "code",
   "execution_count": 91,
   "metadata": {},
   "outputs": [
    {
     "data": {
      "text/plain": [
       "float"
      ]
     },
     "execution_count": 91,
     "metadata": {},
     "output_type": "execute_result"
    }
   ],
   "source": [
    "type(3.14)"
   ]
  },
  {
   "cell_type": "markdown",
   "metadata": {},
   "source": [
    "<div class=\"alert alert-warning\">\n",
    "    \n",
    "**ATTENZIONE: bisogna usare il punto invece della virgola!**\n",
    "    \n",
    "Quindi scriverai 3.14  invece di 3,14 \n",
    "    \n",
    "Fai molta attenzione quando copi numeri da documenti in italiano, potrebbero contenere insidiose virgole !\n",
    "</div>"
   ]
  },
  {
   "cell_type": "markdown",
   "metadata": {},
   "source": [
    "### Notazione scientifica\n",
    "\n",
    "Quando i numeri sono molto grandi o molto piccoli, per evitare di scrivere troppi zero conviene usare la notazione scientitifica con la _e_ come $xen$, che moltiplica il numero _x_ per $10^n$\n",
    "\n",
    "Con questa notazione, in memoria vengono messe solo le cifre più significative ( _la mantissa_ ) e l'esponente, evitando quindi di sprecare spazio."
   ]
  },
  {
   "cell_type": "code",
   "execution_count": 92,
   "metadata": {},
   "outputs": [
    {
     "data": {
      "text/plain": [
       "750.0"
      ]
     },
     "execution_count": 92,
     "metadata": {},
     "output_type": "execute_result"
    }
   ],
   "source": [
    "75e1"
   ]
  },
  {
   "cell_type": "code",
   "execution_count": 93,
   "metadata": {},
   "outputs": [
    {
     "data": {
      "text/plain": [
       "7500.0"
      ]
     },
     "execution_count": 93,
     "metadata": {},
     "output_type": "execute_result"
    }
   ],
   "source": [
    "75e2"
   ]
  },
  {
   "cell_type": "code",
   "execution_count": 94,
   "metadata": {},
   "outputs": [
    {
     "data": {
      "text/plain": [
       "75000.0"
      ]
     },
     "execution_count": 94,
     "metadata": {},
     "output_type": "execute_result"
    }
   ],
   "source": [
    "75e3"
   ]
  },
  {
   "cell_type": "code",
   "execution_count": 95,
   "metadata": {},
   "outputs": [
    {
     "data": {
      "text/plain": [
       "7.5e+124"
      ]
     },
     "execution_count": 95,
     "metadata": {},
     "output_type": "execute_result"
    }
   ],
   "source": [
    "75e123"
   ]
  },
  {
   "cell_type": "code",
   "execution_count": 96,
   "metadata": {},
   "outputs": [
    {
     "data": {
      "text/plain": [
       "75.0"
      ]
     },
     "execution_count": 96,
     "metadata": {},
     "output_type": "execute_result"
    }
   ],
   "source": [
    "75e0"
   ]
  },
  {
   "cell_type": "code",
   "execution_count": 97,
   "metadata": {},
   "outputs": [
    {
     "data": {
      "text/plain": [
       "7.5"
      ]
     },
     "execution_count": 97,
     "metadata": {},
     "output_type": "execute_result"
    }
   ],
   "source": [
    "75e-1"
   ]
  },
  {
   "cell_type": "code",
   "execution_count": 98,
   "metadata": {},
   "outputs": [
    {
     "data": {
      "text/plain": [
       "0.75"
      ]
     },
     "execution_count": 98,
     "metadata": {},
     "output_type": "execute_result"
    }
   ],
   "source": [
    "75e-2"
   ]
  },
  {
   "cell_type": "code",
   "execution_count": 99,
   "metadata": {},
   "outputs": [
    {
     "data": {
      "text/plain": [
       "7.5e-122"
      ]
     },
     "execution_count": 99,
     "metadata": {},
     "output_type": "execute_result"
    }
   ],
   "source": [
    "75e-123"
   ]
  },
  {
   "cell_type": "markdown",
   "metadata": {},
   "source": [
    "**DOMANDA**: Guarda le seguenti espressioni, e cerca di indovinare qule risultato producono (o se danno errore):\n",
    "    \n",
    "1.  ```python\n",
    "    print(1.000.000)\n",
    "    ```\n",
    "1.  ```\n",
    "    print(3,000,000.000)\n",
    "    ```\n",
    "1.  ```python\n",
    "    print(2000000.000)\n",
    "    ```\n",
    "1.  ```python\n",
    "    print(2000000.0)\n",
    "    ```\n",
    "1.  ```python\n",
    "    print(0.000.123)\n",
    "    ```    \n",
    "1.  ```python\n",
    "    print(0.123)\n",
    "    ```        \n",
    "1.  ```python\n",
    "    print(0.-123)\n",
    "    ```        \n",
    "    \n",
    "1.  ```python\n",
    "    print(3e0)\n",
    "    ```\n",
    "1.  ```python\n",
    "    print(3.0e0)\n",
    "    ```\n",
    "1.  ```python\n",
    "    print(7e-1)\n",
    "    ``` \n",
    "1.  ```python\n",
    "    print(3.0e2)\n",
    "    ```\n",
    "1.  ```python\n",
    "    print(3.0e-2)\n",
    "    ```    \n",
    "1.  ```python\n",
    "    print(3.0-e2)\n",
    "    ```\n",
    "1.  ```python\n",
    "    print(4e2-4e1)\n",
    "    ```"
   ]
  },
  {
   "cell_type": "markdown",
   "metadata": {},
   "source": [
    "### Numeri troppo grandi o troppo piccoli\n",
    "\n",
    "A volte i calcoli su numeri estremamente piccoli o enormi possono produrre come risultato `math.nan` (Not a Number) o `math.inf`. Per il momento li menzioniamo e basta, trovi una discussione dettagliata nel [foglio su Numpy](https://it.softpython.org/matrices-numpy/matrices-numpy-sol.html#NaN-e-infinit%C3%A0)"
   ]
  },
  {
   "cell_type": "markdown",
   "metadata": {},
   "source": [
    "### Esercizio - cerchio\n",
    "\n",
    "Calcola l'area del cerchio al centro di un pallone da calcio (raggio = 9.15m), ricordandoti che  $area= pi*r^2$ (come operatore per la potenza, usa `**`):\n",
    "\n",
    "Il tuo codice dovrebbe stampare come risultato `263.02199094102605`"
   ]
  },
  {
   "cell_type": "raw",
   "id": "challenging-transcript",
   "metadata": {
    "format": "text/html"
   },
   "source": [
    "<a  class=\"jupman-sol jupman-sol-toggler\" \n",
    " onclick=\"jupman.toggleSolution(this);\" \n",
    " data-jupman-show=\"Mostra soluzione\" data-jupman-hide=\"Nascondi\">Mostra soluzione</a><div class=\"jupman-sol jupman-sol-code\" style=\"display:none\">  "
   ]
  },
  {
   "cell_type": "code",
   "execution_count": 100,
   "metadata": {},
   "outputs": [
    {
     "name": "stdout",
     "output_type": "stream",
     "text": [
      "263.02199094102605\n"
     ]
    }
   ],
   "source": [
    "# SOLUZIONE\n",
    "\n",
    "r = 9.15\n",
    "pi = 3.1415926536\n",
    "area = pi*(r**2)\n",
    "print(area)"
   ]
  },
  {
   "cell_type": "raw",
   "id": "altered-international",
   "metadata": {
    "format": "text/html"
   },
   "source": [
    "</div>"
   ]
  },
  {
   "cell_type": "code",
   "execution_count": 100,
   "metadata": {},
   "outputs": [
    {
     "name": "stdout",
     "output_type": "stream",
     "text": [
      "263.02199094102605\n"
     ]
    }
   ],
   "source": []
  },
  {
   "cell_type": "markdown",
   "metadata": {},
   "source": [
    "Nota che le parentesi intorno al `r**2` non sono necessarie perchè l'operatore `**` ha la precedenza, ma possono aiutare la leggibilità del codice.\n",
    "\n",
    "Ricordiamo qua la precedenza degli operatori:"
   ]
  },
  {
   "cell_type": "markdown",
   "metadata": {},
   "source": [
    "|Operatore|Descrizione|\n",
    "|---------|-----------|\n",
    "|`**`|Potenza (massima precedenza)|\n",
    "|`+` `-`| Più e meno unari|\n",
    "|`*` `/` `//` `%`|Moltiplicazione, divisione, divisione intera, modulo|\n",
    "|`+` `-`| Addizione e sottrazione|\n",
    "|`<=` `<` `>` `>=`| Operatori di comparazione|\n",
    "|`==` `!=` | Operatori di uguaglianza|\n",
    "|`not` `or` `and`|Operatori logici (minima precedenza)|"
   ]
  },
  {
   "cell_type": "markdown",
   "metadata": {},
   "source": [
    "### Esercizio - frazionamento\n",
    "\n",
    "Scrivi del codice per calcolare il valore della seguente formula per `x = 0.000003`, dovresti ottenere `2.753278226511882`"
   ]
  },
  {
   "cell_type": "markdown",
   "metadata": {},
   "source": [
    "$$-\\frac{\\sqrt{x+3}}{\\frac{(x + 2)^3}{\\log{x}}}$$"
   ]
  },
  {
   "cell_type": "raw",
   "id": "surprised-bowling",
   "metadata": {
    "format": "text/html"
   },
   "source": [
    "<a  class=\"jupman-sol jupman-sol-toggler\" \n",
    " onclick=\"jupman.toggleSolution(this);\" \n",
    " data-jupman-show=\"Mostra soluzione\" data-jupman-hide=\"Nascondi\">Mostra soluzione</a><div class=\"jupman-sol jupman-sol-code\" style=\"display:none\">  "
   ]
  },
  {
   "cell_type": "code",
   "execution_count": 101,
   "metadata": {},
   "outputs": [
    {
     "data": {
      "text/plain": [
       "2.753278226511882"
      ]
     },
     "execution_count": 101,
     "metadata": {},
     "output_type": "execute_result"
    }
   ],
   "source": [
    "x = 0.000003\n",
    "\n",
    "# scrivi qui\n",
    "import math\n",
    "- math.sqrt(x+3) / (((x+2)**3)/math.log(x))"
   ]
  },
  {
   "cell_type": "raw",
   "id": "alpha-opposition",
   "metadata": {
    "format": "text/html"
   },
   "source": [
    "</div>"
   ]
  },
  {
   "cell_type": "code",
   "execution_count": 101,
   "metadata": {},
   "outputs": [
    {
     "data": {
      "text/plain": [
       "2.753278226511882"
      ]
     },
     "execution_count": 101,
     "metadata": {},
     "output_type": "execute_result"
    }
   ],
   "source": [
    "x = 0.000003\n",
    "\n",
    "# scrivi qui\n",
    "\n"
   ]
  },
  {
   "cell_type": "markdown",
   "metadata": {},
   "source": [
    "### Esercizio - sommatoria\n",
    "\n",
    "Scrivi del codice per calcolare il valore della seguente espressione (non usare cicli, scrivi per esteso tutto i calcoli), dovresti ottenere `20.53333333333333`"
   ]
  },
  {
   "cell_type": "markdown",
   "metadata": {},
   "source": [
    "$$\\sum_{j=1}^{3}{\\frac{j^4}{j + 2}}$$"
   ]
  },
  {
   "cell_type": "raw",
   "id": "solid-generic",
   "metadata": {
    "format": "text/html"
   },
   "source": [
    "<a  class=\"jupman-sol jupman-sol-toggler\" \n",
    " onclick=\"jupman.toggleSolution(this);\" \n",
    " data-jupman-show=\"Mostra soluzione\" data-jupman-hide=\"Nascondi\">Mostra soluzione</a><div class=\"jupman-sol jupman-sol-code\" style=\"display:none\">  "
   ]
  },
  {
   "cell_type": "code",
   "execution_count": 102,
   "metadata": {},
   "outputs": [
    {
     "data": {
      "text/plain": [
       "20.53333333333333"
      ]
     },
     "execution_count": 102,
     "metadata": {},
     "output_type": "execute_result"
    }
   ],
   "source": [
    "# scrivi qui\n",
    "((1**4) / (1+2)) + ((2**4) / (2+2)) + ((3**4) / (3+2))"
   ]
  },
  {
   "cell_type": "raw",
   "id": "olympic-poland",
   "metadata": {
    "format": "text/html"
   },
   "source": [
    "</div>"
   ]
  },
  {
   "cell_type": "code",
   "execution_count": 102,
   "metadata": {},
   "outputs": [
    {
     "data": {
      "text/plain": [
       "20.53333333333333"
      ]
     },
     "execution_count": 102,
     "metadata": {},
     "output_type": "execute_result"
    }
   ],
   "source": [
    "# scrivi qui\n",
    "\n"
   ]
  },
  {
   "cell_type": "markdown",
   "metadata": {},
   "source": [
    "### Reali - conversione\n",
    "\n",
    "Se vogliamo convertire un reale ad un intero, abbiamo a disposizione diversi modi:\n",
    "\n",
    "|Funzione|Descrizione|Simbolo matematico|Risultato|\n",
    "|--------|-----------|------------------|---------|\n",
    "|`math.floor(x)`| arrotonda x all'intero inferiore|$$\\lfloor{8.7}\\rfloor$$|8|\n",
    "|`int(x)`| arrotonda x all'intero inferiore|$$\\lfloor{8.7}\\rfloor$$|8|\n",
    "|`math.ceil(x)`| arrotonda x all'intero superiore|$$\\lceil{5.3}\\rceil$$|6|\n",
    "|`round(x)`| arrotonda x all'intero più vicino|$$\\lfloor{2.5}\\rceil$$|2|\n",
    "|          | |$$\\lfloor{2.51}\\rceil$$|3|\n"
   ]
  },
  {
   "cell_type": "markdown",
   "metadata": {},
   "source": [
    "**DOMANDA**: Guarda le espressioni seguenti, e per ciascuna cerca di indovinare quale risultato produce (o se da errore).\n",
    "\n",
    "1.  ```python\n",
    "    math.floor(2.3)\n",
    "    ```\n",
    "1.  ```python\n",
    "    math.floor(-2.3)\n",
    "    ```\n",
    "1.  ```python\n",
    "    round(3.49)\n",
    "    ```\n",
    "1.  ```python\n",
    "    round(3.5)\n",
    "    ```\n",
    "1.  ```python\n",
    "    round(3.51)\n",
    "    ```    \n",
    "1.  ```python\n",
    "    round(-3.49)\n",
    "    ```    \n",
    "1.  ```python\n",
    "    round(-3.5)\n",
    "    ```\n",
    "1.  ```python\n",
    "    round(-3.51)\n",
    "    ```\n",
    "1.  ```python\n",
    "    math.ceil(8.1)\n",
    "    ```\n",
    "1.  ```python\n",
    "    math.ceil(-8.1)\n",
    "    ```    "
   ]
  },
  {
   "cell_type": "markdown",
   "metadata": {},
   "source": [
    "**DOMANDA**: Dato un qualsiasi float `x`, la seguente formula è :\n",
    "        \n",
    "```python\n",
    "math.floor(math.ceil(x)) == math.ceil(math.floor(x))\n",
    "```\n",
    "\n",
    "1. sempre `True`\n",
    "2. sempre `False`\n",
    "3. a volte `True` e a volte `False` (fornire esempi)"
   ]
  },
  {
   "cell_type": "raw",
   "id": "described-million",
   "metadata": {
    "format": "text/html"
   },
   "source": [
    "<a  class=\"jupman-sol jupman-sol-toggler\" \n",
    " onclick=\"jupman.toggleSolution(this);\" \n",
    " data-jupman-show=\"Mostra risposta\" data-jupman-hide=\"Nascondi\">Mostra risposta</a><div class=\"jupman-sol jupman-sol-question\" style=\"display:none\">  "
   ]
  },
  {
   "cell_type": "markdown",
   "metadata": {},
   "source": [
    "**RISPOSTA**: la 3: per interi come `x=2.0` è `True`, negli altri casi come `x=2.3` è `False`"
   ]
  },
  {
   "cell_type": "raw",
   "id": "imported-carter",
   "metadata": {
    "format": "text/html"
   },
   "source": [
    "</div>"
   ]
  },
  {
   "cell_type": "markdown",
   "metadata": {},
   "source": [
    "**DOMANDA**: Dato un qualsiasi float `x`, la seguente formula è :\n",
    "        \n",
    "```python\n",
    "math.floor(x) == -math.ceil(-x)\n",
    "```\n",
    "\n",
    "1. sempre `True`\n",
    "2. sempre `False`\n",
    "3. a volte `True` e a volte `False` (fornire esempi)"
   ]
  },
  {
   "cell_type": "raw",
   "id": "extraordinary-lesson",
   "metadata": {
    "format": "text/html"
   },
   "source": [
    "<a  class=\"jupman-sol jupman-sol-toggler\" \n",
    " onclick=\"jupman.toggleSolution(this);\" \n",
    " data-jupman-show=\"Mostra risposta\" data-jupman-hide=\"Nascondi\">Mostra risposta</a><div class=\"jupman-sol jupman-sol-question\" style=\"display:none\">  "
   ]
  },
  {
   "cell_type": "markdown",
   "metadata": {},
   "source": [
    "**RISPOSTA**: la 1."
   ]
  },
  {
   "cell_type": "raw",
   "id": "fluid-retrieval",
   "metadata": {
    "format": "text/html"
   },
   "source": [
    "</div>"
   ]
  },
  {
   "cell_type": "markdown",
   "metadata": {},
   "source": [
    "### Esercizio - tonificante\n",
    "\n",
    "Gli studi eccessivi ti hanno portato a cercare su internet ricette di bevande energetiche. Fortunatamente, una guru della nutrizione ha appena postato sul suo canale Instagram  @BeviCheTiFaBene la ricetta di un frappè miracoloso:\n",
    "\n",
    "> Versare in un contenitore 2 decilitri di spremuta di kiwi, 4 decilitri di salsa di soia, e 3 decilitri di shampoo al karitè bio. Miscelare vigorosamente e poi versare metà del composto in un bicchiere. Rabboccare il bicchiere fino al decilitro intero superiore. Tracannare avidamente.\n",
    "\n",
    "Corri a comprare gli ingredienti, e ti appresti a miscelarli. Hai a disposizione un misurino in cui travasi i preziosi fluidi, ad uno ad uno. Nell'effettuare il travaso, versi sempre un po' più del necessario (ma mai più di 1 decilitro), e ad ogni ingrediente elimini poi l'eccesso.\n",
    "\n",
    "* **NON** usare sottrazioni, prova ad usare solo gli operatori per gli arrotondamenti"
   ]
  },
  {
   "cell_type": "markdown",
   "metadata": {},
   "source": [
    "Esempio:\n",
    "\n",
    "Dati\n",
    "\n",
    "```python\n",
    "kiwi = 2.4\n",
    "soia = 4.8\n",
    "shampoo = 3.1\n",
    "misurino = 0.0\n",
    "mixer = 0\n",
    "bicchiere = 0.0\n",
    "```\n",
    "\n",
    "Il tuo codice deve stampare:\n",
    "\n",
    "```\n",
    "Verso nel misurino 2.4 dl di kiwi, tolgo eccesso fino a tenere 2 dl\n",
    "Travaso nel mixer, adesso contiene 2 dl\n",
    "Verso nel misurino 4.8 dl di soia, tolgo eccesso fino a tenere 4 dl\n",
    "Travaso nel mixer, adesso contiene 6 dl\n",
    "Verso nel misurino 3.1 dl di shampoo, tolgo eccesso fino a tenere 3 dl\n",
    "Travaso nel mixer, adesso contiene 9 dl\n",
    "Verso metà della miscela ( 4.5 dl ) nel bicchiere\n",
    "Rabbocco il bicchiere fino al decilitro intero superiore, adesso contiene 5 dl\n",
    "```"
   ]
  },
  {
   "cell_type": "raw",
   "id": "incredible-hawaii",
   "metadata": {
    "format": "text/html"
   },
   "source": [
    "<a  class=\"jupman-sol jupman-sol-toggler\" \n",
    " onclick=\"jupman.toggleSolution(this);\" \n",
    " data-jupman-show=\"Mostra soluzione\" data-jupman-hide=\"Nascondi\">Mostra soluzione</a><div class=\"jupman-sol jupman-sol-code\" style=\"display:none\">  "
   ]
  },
  {
   "cell_type": "code",
   "execution_count": 103,
   "metadata": {},
   "outputs": [
    {
     "name": "stdout",
     "output_type": "stream",
     "text": [
      "Verso nel misurino 2.4 dl di kiwi, tolgo eccesso fino a tenere 2 dl\n",
      "Travaso nel mixer, adesso contiene 2.0 dl\n",
      "Verso nel misurino 4.8 dl di soia, tolgo eccesso fino a tenere 4 dl\n",
      "Travaso nel mixer, adesso contiene 6.0 dl\n",
      "Verso nel misurino 3.1 dl di shampoo, tolgo eccesso fino a tenere 3 dl\n",
      "Travaso nel mixer, adesso contiene 9.0 dl\n",
      "Verso metà della miscela ( 4.5 dl ) nel bicchiere\n",
      "Rabbocco il bicchiere fino al decilitro intero superiore, adesso contiene: 5 dl\n"
     ]
    }
   ],
   "source": [
    "kiwi = 2.4\n",
    "soia = 4.8\n",
    "shampoo = 3.1\n",
    "misurino = 0.0\n",
    "mixer = 0.0\n",
    "bicchiere = 0.0\n",
    "\n",
    "\n",
    "# scrivi qui\n",
    "print('Verso nel misurino', kiwi, 'dl di kiwi, tolgo eccesso fino a tenere', int(kiwi), 'dl')\n",
    "mixer += int(kiwi)\n",
    "print('Travaso nel mixer, adesso contiene', mixer, 'dl')\n",
    "print('Verso nel misurino', soia, 'dl di soia, tolgo eccesso fino a tenere', int(soia), 'dl')\n",
    "mixer += int(soia)\n",
    "print('Travaso nel mixer, adesso contiene', mixer, 'dl')\n",
    "print('Verso nel misurino', shampoo, 'dl di shampoo, tolgo eccesso fino a tenere', int(shampoo), 'dl') \n",
    "mixer += int(shampoo)\n",
    "print('Travaso nel mixer, adesso contiene', mixer, 'dl')\n",
    "bicchiere = mixer/2\n",
    "print('Verso metà della miscela (', bicchiere, 'dl ) nel bicchiere')\n",
    "print('Rabbocco il bicchiere fino al decilitro intero superiore, adesso contiene:', math.ceil(bicchiere), 'dl')\n"
   ]
  },
  {
   "cell_type": "raw",
   "id": "wireless-rugby",
   "metadata": {
    "format": "text/html"
   },
   "source": [
    "</div>"
   ]
  },
  {
   "cell_type": "code",
   "execution_count": 103,
   "metadata": {},
   "outputs": [
    {
     "name": "stdout",
     "output_type": "stream",
     "text": [
      "Verso nel misurino 2.4 dl di kiwi, tolgo eccesso fino a tenere 2 dl\n",
      "Travaso nel mixer, adesso contiene 2.0 dl\n",
      "Verso nel misurino 4.8 dl di soia, tolgo eccesso fino a tenere 4 dl\n",
      "Travaso nel mixer, adesso contiene 6.0 dl\n",
      "Verso nel misurino 3.1 dl di shampoo, tolgo eccesso fino a tenere 3 dl\n",
      "Travaso nel mixer, adesso contiene 9.0 dl\n",
      "Verso metà della miscela ( 4.5 dl ) nel bicchiere\n",
      "Rabbocco il bicchiere fino al decilitro intero superiore, adesso contiene: 5 dl\n"
     ]
    }
   ],
   "source": [
    "kiwi = 2.4\n",
    "soia = 4.8\n",
    "shampoo = 3.1\n",
    "misurino = 0.0\n",
    "mixer = 0.0\n",
    "bicchiere = 0.0\n",
    "\n",
    "\n",
    "# scrivi qui\n",
    "\n"
   ]
  },
  {
   "cell_type": "markdown",
   "metadata": {},
   "source": [
    "### Esercizio - arrotondamente\n",
    "\n",
    "Scrivi del codice per calcolare il valore della seguente formula per `x = -5.50`, dovresti ottenere `41`\n",
    "\n",
    "\n",
    "$$\\lvert{\\lceil{x}\\rceil}\\rvert + \\lfloor{x}\\rceil^2$$"
   ]
  },
  {
   "cell_type": "raw",
   "id": "naked-spending",
   "metadata": {
    "format": "text/html"
   },
   "source": [
    "<a  class=\"jupman-sol jupman-sol-toggler\" \n",
    " onclick=\"jupman.toggleSolution(this);\" \n",
    " data-jupman-show=\"Mostra soluzione\" data-jupman-hide=\"Nascondi\">Mostra soluzione</a><div class=\"jupman-sol jupman-sol-code\" style=\"display:none\">  "
   ]
  },
  {
   "cell_type": "code",
   "execution_count": 104,
   "metadata": {},
   "outputs": [
    {
     "data": {
      "text/plain": [
       "41"
      ]
     },
     "execution_count": 104,
     "metadata": {},
     "output_type": "execute_result"
    }
   ],
   "source": [
    "x = -5.50   # 41\n",
    "#x = -5.49  # 30\n",
    "\n",
    "# scrivi qui\n",
    "abs(math.ceil(x)) + round(x)**2"
   ]
  },
  {
   "cell_type": "raw",
   "id": "surgical-jefferson",
   "metadata": {
    "format": "text/html"
   },
   "source": [
    "</div>"
   ]
  },
  {
   "cell_type": "code",
   "execution_count": 104,
   "metadata": {},
   "outputs": [
    {
     "data": {
      "text/plain": [
       "41"
      ]
     },
     "execution_count": 104,
     "metadata": {},
     "output_type": "execute_result"
    }
   ],
   "source": [
    "x = -5.50   # 41\n",
    "#x = -5.49  # 30\n",
    "\n",
    "# scrivi qui\n",
    "\n"
   ]
  },
  {
   "cell_type": "markdown",
   "metadata": {},
   "source": [
    "### Reali - uguaglianza\n",
    "\n",
    "\n",
    "<div class=\"alert alert-warning\">\n",
    "    \n",
    "**ATTENZIONE: Ciò che segue vale per** ***tutti*** **i linguaggi di programmazione!** \n",
    "    \n",
    "Alcuni risultati ti parranno curiosi ma è il modo in cui la maggior parte dei processori (CPU) opera, indipendentemente da Python.\n",
    "</div>\n",
    "\n",
    "Quando si effettuano calcoli con i numeri in virgola mobile, il processore può commettere degli errori di arrotondamento dovuto ai limiti della rappresentazione interna. Sotto il cofano i numeri float vengono memorizzati in una sequenza in codice binario di 64 bit, secondo lo standard _IEEE-754 floating point arithmetic_ : questo impone un limite fisico alla precisione dei numeri, e a volte possono anche capitare sorpese dovute alla conversione da decimale a binario. Per esempio, proviamo a stampare `4.1`:"
   ]
  },
  {
   "cell_type": "code",
   "execution_count": 105,
   "metadata": {},
   "outputs": [
    {
     "name": "stdout",
     "output_type": "stream",
     "text": [
      "4.1\n"
     ]
    }
   ],
   "source": [
    "print(4.1)"
   ]
  },
  {
   "cell_type": "markdown",
   "metadata": {},
   "source": [
    "Per nostra convenienza Python ci mostra `4.1`, ma in realtà nella memoria del processore c'èfinito un numero diverso ! Quale? Per scoprire cosa nasconde, con `format` possiamo esplicitamente formattare il numero con lo specificatore di format `f` usando per esempio 55 cifre di precisione:"
   ]
  },
  {
   "cell_type": "code",
   "execution_count": 106,
   "metadata": {},
   "outputs": [
    {
     "data": {
      "text/plain": [
       "'4.0999999999999996447286321199499070644378662109375000000'"
      ]
     },
     "execution_count": 106,
     "metadata": {},
     "output_type": "execute_result"
    }
   ],
   "source": [
    "format(4.1, '.55f')"
   ]
  },
  {
   "cell_type": "markdown",
   "metadata": {},
   "source": [
    "Possiamo quindi chiederci quale potrà essere il risultato di un calcolo:"
   ]
  },
  {
   "cell_type": "code",
   "execution_count": 107,
   "metadata": {},
   "outputs": [
    {
     "name": "stdout",
     "output_type": "stream",
     "text": [
      "4.1000000000000005\n"
     ]
    }
   ],
   "source": [
    "print(7.9 - 3.8)"
   ]
  },
  {
   "cell_type": "markdown",
   "metadata": {},
   "source": [
    "Notiamo che il risultato è ancora diverso da quello atteso ! Indagando meglio, notiamo che Python non ci sta nemmeno mostrando tutte le cifre:"
   ]
  },
  {
   "cell_type": "code",
   "execution_count": 108,
   "metadata": {},
   "outputs": [
    {
     "data": {
      "text/plain": [
       "'4.1000000000000005329070518200751394033432006835937500000'"
      ]
     },
     "execution_count": 108,
     "metadata": {},
     "output_type": "execute_result"
    }
   ],
   "source": [
    "format(7.9 - 3.8, '.55f')"
   ]
  },
  {
   "cell_type": "markdown",
   "metadata": {},
   "source": [
    "\n",
    "E se volessimo sapere se due calcoli coi float producono lo 'stesso' risultato?\n",
    "\n",
    "<div class=\"alert alert-warning\">\n",
    "\n",
    "**ATTENZIONE: EVITA IL** `==` **CON I FLOAT!**\n",
    "       \n",
    "</div>\n",
    "\n",
    "Per capire  se il risultato tra due calcoli con i float è uguale, **NON** puoi usare l'operatore `==`:"
   ]
  },
  {
   "cell_type": "code",
   "execution_count": 109,
   "metadata": {},
   "outputs": [
    {
     "data": {
      "text/plain": [
       "False"
      ]
     },
     "execution_count": 109,
     "metadata": {},
     "output_type": "execute_result"
    }
   ],
   "source": [
    "7.9 - 3.8 == 4.1    # GUAI IN VISTA !"
   ]
  },
  {
   "cell_type": "markdown",
   "metadata": {},
   "source": [
    "Invece, devi preferire alternative che valutano se un numero float è _vicino_ ad un altro, come per esempio la comoda funzione [math.isclose](https://docs.python.org/3/library/math.html#math.isclose):"
   ]
  },
  {
   "cell_type": "code",
   "execution_count": 110,
   "metadata": {},
   "outputs": [
    {
     "data": {
      "text/plain": [
       "True"
      ]
     },
     "execution_count": 110,
     "metadata": {},
     "output_type": "execute_result"
    }
   ],
   "source": [
    "import math\n",
    "\n",
    "math.isclose(7.9 - 3.8, 4.1)   # MOLTO MEGLIO"
   ]
  },
  {
   "cell_type": "markdown",
   "metadata": {},
   "source": [
    "Di default `math.isclose` usa una precisione di `1e-09` ma volendo, a `math.isclose` puoi anche passare un limite di tolleranza entro la quale deve essere la differenza tra i due numeri affinchè siano considerati uguali:"
   ]
  },
  {
   "cell_type": "code",
   "execution_count": 111,
   "metadata": {},
   "outputs": [
    {
     "data": {
      "text/plain": [
       "True"
      ]
     },
     "execution_count": 111,
     "metadata": {},
     "output_type": "execute_result"
    }
   ],
   "source": [
    "math.isclose(7.9 - 3.8, 4.1, abs_tol=0.000001)"
   ]
  },
  {
   "cell_type": "markdown",
   "metadata": {},
   "source": [
    "**DOMANDA**: Possiamo rappresentare perfettamente il numero $\\sqrt{2}$ in un `float`?"
   ]
  },
  {
   "cell_type": "raw",
   "id": "norman-robin",
   "metadata": {
    "format": "text/html"
   },
   "source": [
    "<a  class=\"jupman-sol jupman-sol-toggler\" \n",
    " onclick=\"jupman.toggleSolution(this);\" \n",
    " data-jupman-show=\"Mostra risposta\" data-jupman-hide=\"Nascondi\">Mostra risposta</a><div class=\"jupman-sol jupman-sol-question\" style=\"display:none\">  "
   ]
  },
  {
   "cell_type": "markdown",
   "metadata": {},
   "source": [
    "**RISPOSTA**: $\\sqrt{2}$ è irrazionale e pertanto non possiamo sperare di rappresentarlo perfettamente, qualunque calcolo useremo per ottenerlo avrà sempre un certo grado di imprecisione."
   ]
  },
  {
   "cell_type": "raw",
   "id": "committed-spirituality",
   "metadata": {
    "format": "text/html"
   },
   "source": [
    "</div>"
   ]
  },
  {
   "cell_type": "markdown",
   "metadata": {},
   "source": [
    "**DOMANDA**: Quali di queste tre espressioni di codice danno lo stesso risultato?\n",
    "\n",
    "```python    \n",
    "import math\n",
    "print('a)', math.sqrt(3)**2 == 3.0)\n",
    "print('b)', abs(math.sqrt(3)**2 - 3.0) < 0.0000001)\n",
    "print('c)', math.isclose(math.sqrt(3)**2, 3.0, abs_tol=0.0000001))\n",
    "```"
   ]
  },
  {
   "cell_type": "raw",
   "id": "surgical-salvation",
   "metadata": {
    "format": "text/html"
   },
   "source": [
    "<a  class=\"jupman-sol jupman-sol-toggler\" \n",
    " onclick=\"jupman.toggleSolution(this);\" \n",
    " data-jupman-show=\"Mostra risposta\" data-jupman-hide=\"Nascondi\">Mostra risposta</a><div class=\"jupman-sol jupman-sol-question\" style=\"display:none\">  "
   ]
  },
  {
   "cell_type": "markdown",
   "metadata": {},
   "source": [
    "**RISPOSTA**: la b) e la c) danno `True`. La a) da `False`, perchè durante i calcoli in virgola mobile  vengono compiuti errori di arrotondamento."
   ]
  },
  {
   "cell_type": "raw",
   "id": "whole-section",
   "metadata": {
    "format": "text/html"
   },
   "source": [
    "</div>"
   ]
  },
  {
   "cell_type": "markdown",
   "metadata": {},
   "source": [
    "### Esercizio - quadratica\n",
    "\n",
    "Scrivi del codice che calcola gli zero dell'equazione $ax^2-b = 0$ \n",
    "\n",
    "- Mostra i numeri con **20 cifre** di precisione\n",
    "- Alla fine controlla che sostituendo il valore ottenuto di `x` nell'equazione si ottenga effettivamente zero. \n",
    "\n",
    "Esempio - dati:\n",
    "\n",
    "```python\n",
    "a = 11.0\n",
    "b = 3.3\n",
    "```\n",
    "\n",
    "dopo il tuo codice deve stampare:\n",
    "\n",
    "```\n",
    "11.0 * x**2 - 3.3 = 0  per x1 = 0.54772255750516607442\n",
    "11.0 * x**2 - 3.3 = 0  per x2 = -0.54772255750516607442\n",
    "0.54772255750516607442 è una soluzione? True\n",
    "-0.54772255750516607442 è una soluzione? True\n",
    "```"
   ]
  },
  {
   "cell_type": "raw",
   "id": "unexpected-moore",
   "metadata": {
    "format": "text/html"
   },
   "source": [
    "<a  class=\"jupman-sol jupman-sol-toggler\" \n",
    " onclick=\"jupman.toggleSolution(this);\" \n",
    " data-jupman-show=\"Mostra soluzione\" data-jupman-hide=\"Nascondi\">Mostra soluzione</a><div class=\"jupman-sol jupman-sol-code\" style=\"display:none\">  "
   ]
  },
  {
   "cell_type": "code",
   "execution_count": 112,
   "metadata": {
    "scrolled": true
   },
   "outputs": [
    {
     "name": "stdout",
     "output_type": "stream",
     "text": [
      "11.0 * x**2 - 3.3 = 0  per x1 = 0.54772255750516607442\n",
      "11.0 * x**2 - 3.3 = 0  per x2 = -0.54772255750516607442\n",
      "0.54772255750516607442 è una soluzione? True\n",
      "-0.54772255750516607442 è una soluzione? True\n"
     ]
    }
   ],
   "source": [
    "a = 11.0\n",
    "b = 3.3  \n",
    "\n",
    "# scrivi qui\n",
    "\n",
    "import math\n",
    "\n",
    "x1 = math.sqrt(b/a)\n",
    "x2 = -math.sqrt(b/a)\n",
    "\n",
    "print(a, \"* x**2 -\",b,\"= 0  per x1 =\", format(x1, '.20f'))\n",
    "print(a, \"* x**2 -\",b,\"= 0  per x2 =\", format(x2, '.20f'))\n",
    "\n",
    "# abbiamo bisogno di cambiare il valore di default di tolleranza\n",
    "print(format(x1, '.20f'), \"è una soluzione?\", math.isclose(a*(x1**2) - b,0, abs_tol=0.00001))\n",
    "print(format(x2, '.20f'), \"è una soluzione?\", math.isclose(a*((x2)**2) - b,0, abs_tol=0.00001))"
   ]
  },
  {
   "cell_type": "raw",
   "id": "executive-pontiac",
   "metadata": {
    "format": "text/html"
   },
   "source": [
    "</div>"
   ]
  },
  {
   "cell_type": "code",
   "execution_count": 112,
   "metadata": {
    "scrolled": true
   },
   "outputs": [
    {
     "name": "stdout",
     "output_type": "stream",
     "text": [
      "11.0 * x**2 - 3.3 = 0  per x1 = 0.54772255750516607442\n",
      "11.0 * x**2 - 3.3 = 0  per x2 = -0.54772255750516607442\n",
      "0.54772255750516607442 è una soluzione? True\n",
      "-0.54772255750516607442 è una soluzione? True\n"
     ]
    }
   ],
   "source": [
    "a = 11.0\n",
    "b = 3.3  \n",
    "\n",
    "# scrivi qui\n",
    "\n"
   ]
  },
  {
   "cell_type": "markdown",
   "metadata": {},
   "source": [
    "### Esercizio - alla moda\n",
    "\n",
    "Stai già pensando alle prossime vacanze, ma c'è un problema: dove vai, se un selfie-stick non ce l'hai? Non puoi partire con questo grave turbamento: per uniformarti a questo fenomeno di massa devi comprare lo stick più simile agli altri. Conduci quindi prima un'indagine statistica tra turisti malati di selfie-stick con l'obiettivo di scoprire i brand di selfie-stick più frequenti, in altre parole, la _moda_ delle frequenze. Ottieni questi risultati:"
   ]
  },
  {
   "cell_type": "code",
   "execution_count": 113,
   "metadata": {},
   "outputs": [],
   "source": [
    "b1,b2,b3,b4,b5 = 'TroppiLike', 'ErMejo United', 'Perditempo SpA', 'Vanità 3.0','TronistiPerCaso' # brand\n",
    "f1,f2,f3,f4,f5 = 0.25, 0.3, 0.1, 0.05, 0.3   # frequenze (in percentuale)"
   ]
  },
  {
   "cell_type": "markdown",
   "metadata": {},
   "source": [
    "Desumiamo quindi che le masse prediligono gli selfie-stick dei brand `'ErMejo United'` e `'TronistiPerCaso'`, entrambi a parimerito con un 30% di turisti ciascuno. Scrivi quindi del codice che stampa questo risultato:\n",
    "\n",
    "```\n",
    "TroppiLike è il più frequente? False ( 25.0 % )\n",
    "ErMejo United è il più frequente? True ( 30.0 % )\n",
    "Perditempo Inc è il più frequente? False ( 10.0 % )\n",
    "Vanità 3.0 è il più frequente? False ( 5.0 % )\n",
    "TronistiPerCaso è il più frequente? True ( 30.0 % )\n",
    "```\n",
    "\n",
    "* **ATTENZIONE**: il tuo codice deve funzionare con **QUALUNQUE** serie di variabili !!"
   ]
  },
  {
   "cell_type": "raw",
   "id": "precise-preliminary",
   "metadata": {
    "format": "text/html"
   },
   "source": [
    "<a  class=\"jupman-sol jupman-sol-toggler\" \n",
    " onclick=\"jupman.toggleSolution(this);\" \n",
    " data-jupman-show=\"Mostra soluzione\" data-jupman-hide=\"Nascondi\">Mostra soluzione</a><div class=\"jupman-sol jupman-sol-code\" style=\"display:none\">  "
   ]
  },
  {
   "cell_type": "code",
   "execution_count": 114,
   "metadata": {},
   "outputs": [
    {
     "name": "stdout",
     "output_type": "stream",
     "text": [
      "TroppiLike è il più frequente? False ( 25.0 % )\n",
      "ErMejo United è il più frequente? True ( 30.0 % )\n",
      "Perditempo Inc è il più frequente? False ( 10.0 % )\n",
      "Vanità 3.0 è il più frequente? False ( 5.0 % )\n",
      "TronistiPerCaso è il più frequente? True ( 30.0 % )\n"
     ]
    }
   ],
   "source": [
    "b1,b2,b3,b4,b5 = 'TroppiLike', 'ErMejo United', 'Perditempo Inc', 'Vanità 3.0','TronistiPerCaso'    # brand\n",
    "f1,f2,f3,f4,f5 = 0.25, 0.3, 0.1, 0.05, 0.3         # frequenze (in percentuale)  False True False False True\n",
    "# OCCHIO, sembrano uguali ma deve funzionare anche con queste ;-)\n",
    "#f1,f2,f3,f4,f5 = 0.25, 0.3, 0.1, 0.05, 0.1 + 0.2  #  False True False False True\n",
    "                                        \n",
    "# scrivi qui\n",
    "mx = max(f1,f2,f3,f4,f5)\n",
    "print(b1, 'è il più frequente?', math.isclose(f1,mx), '(', f1*100.0, '% )')\n",
    "print(b2, 'è il più frequente?', math.isclose(f2,mx), '(', f2*100.0, '% )')\n",
    "print(b3, 'è il più frequente?', math.isclose(f3,mx), '(', f3*100.0, '% )')\n",
    "print(b4, 'è il più frequente?', math.isclose(f4,mx), '(', f4*100.0, '% )')\n",
    "print(b5, 'è il più frequente?', math.isclose(f5,mx), '(', f5*100.0, '% )')"
   ]
  },
  {
   "cell_type": "raw",
   "id": "coordinate-static",
   "metadata": {
    "format": "text/html"
   },
   "source": [
    "</div>"
   ]
  },
  {
   "cell_type": "code",
   "execution_count": 114,
   "metadata": {},
   "outputs": [
    {
     "name": "stdout",
     "output_type": "stream",
     "text": [
      "TroppiLike è il più frequente? False ( 25.0 % )\n",
      "ErMejo United è il più frequente? True ( 30.0 % )\n",
      "Perditempo Inc è il più frequente? False ( 10.0 % )\n",
      "Vanità 3.0 è il più frequente? False ( 5.0 % )\n",
      "TronistiPerCaso è il più frequente? True ( 30.0 % )\n"
     ]
    }
   ],
   "source": [
    "b1,b2,b3,b4,b5 = 'TroppiLike', 'ErMejo United', 'Perditempo Inc', 'Vanità 3.0','TronistiPerCaso'    # brand\n",
    "f1,f2,f3,f4,f5 = 0.25, 0.3, 0.1, 0.05, 0.3         # frequenze (in percentuale)  False True False False True\n",
    "# OCCHIO, sembrano uguali ma deve funzionare anche con queste ;-)\n",
    "#f1,f2,f3,f4,f5 = 0.25, 0.3, 0.1, 0.05, 0.1 + 0.2  #  False True False False True\n",
    "                                        \n",
    "# scrivi qui\n",
    "\n"
   ]
  },
  {
   "cell_type": "markdown",
   "metadata": {},
   "source": [
    "## Numeri decimali\n",
    "\n",
    "Per moltissime applicazioni i `float` sono sufficienti, avendo coscienza dei loro limiti di rappresentazione e uguaglianza. Se proprio hai bisogno di maggiore precisione e/o prevedibilità, Python offre un tipo numerico apposito chiamato `Decimal`, che permette una precisione arbitraria. Per usarlo, devi prima importarlo dalla libreria `decimal`:"
   ]
  },
  {
   "cell_type": "code",
   "execution_count": 115,
   "metadata": {},
   "outputs": [],
   "source": [
    "from decimal import Decimal"
   ]
  },
  {
   "cell_type": "markdown",
   "metadata": {},
   "source": [
    "Possiamo creare un `Decimal` a partire da una stringa:"
   ]
  },
  {
   "cell_type": "code",
   "execution_count": 116,
   "metadata": {},
   "outputs": [
    {
     "data": {
      "text/plain": [
       "Decimal('4.1')"
      ]
     },
     "execution_count": 116,
     "metadata": {},
     "output_type": "execute_result"
    }
   ],
   "source": [
    "Decimal('4.1')"
   ]
  },
  {
   "cell_type": "markdown",
   "metadata": {},
   "source": [
    "<div class=\"alert alert-warning\">\n",
    "\n",
    "**ATTENZIONE: se crei un Decimal a partire da una costante, indicala come stringa!**\n",
    "   \n",
    "</div>"
   ]
  },
  {
   "cell_type": "markdown",
   "metadata": {},
   "source": [
    "Se gli passi un `float` rischi di perdere l'utilità dei Decimal:"
   ]
  },
  {
   "cell_type": "code",
   "execution_count": 117,
   "metadata": {},
   "outputs": [
    {
     "data": {
      "text/plain": [
       "Decimal('4.0999999999999996447286321199499070644378662109375')"
      ]
     },
     "execution_count": 117,
     "metadata": {},
     "output_type": "execute_result"
    }
   ],
   "source": [
    "Decimal(4.1)  # così mi ritrovo coi problemi dei float ..."
   ]
  },
  {
   "cell_type": "markdown",
   "metadata": {},
   "source": [
    "Operazioni tra `Decimal` producono altri `Decimal`:"
   ]
  },
  {
   "cell_type": "code",
   "execution_count": 118,
   "metadata": {},
   "outputs": [
    {
     "data": {
      "text/plain": [
       "Decimal('4.1')"
      ]
     },
     "execution_count": 118,
     "metadata": {},
     "output_type": "execute_result"
    }
   ],
   "source": [
    "Decimal('7.9') - Decimal('3.8')"
   ]
  },
  {
   "cell_type": "markdown",
   "metadata": {},
   "source": [
    "Questa volta, possiamo tranquillamente usare l'operatore di uguaglianza e ottenere il risultato atteso:"
   ]
  },
  {
   "cell_type": "code",
   "execution_count": 119,
   "metadata": {},
   "outputs": [
    {
     "data": {
      "text/plain": [
       "True"
      ]
     },
     "execution_count": 119,
     "metadata": {},
     "output_type": "execute_result"
    }
   ],
   "source": [
    "Decimal('4.1') == Decimal('7.9') - Decimal('3.8')"
   ]
  },
  {
   "cell_type": "markdown",
   "metadata": {},
   "source": [
    "Sono anche supportate alcune funzioni matematiche, e spesso si comportano in modo più predicibile (nota che **non** stiamo usando `math.sqrt`):"
   ]
  },
  {
   "cell_type": "code",
   "execution_count": 120,
   "metadata": {},
   "outputs": [
    {
     "data": {
      "text/plain": [
       "Decimal('1.414213562373095048801688724')"
      ]
     },
     "execution_count": 120,
     "metadata": {},
     "output_type": "execute_result"
    }
   ],
   "source": [
    "Decimal('2').sqrt()"
   ]
  },
  {
   "cell_type": "markdown",
   "metadata": {},
   "source": [
    "<div class=\"alert alert-warning\">\n",
    "    \n",
    "**Ricordati comunque che la memoria del computer è finita!**\n",
    "</div>\n",
    "\n",
    "I Decimal non possono essere la panacea per tutti i mali: per es, $\\sqrt{2}$ non ci starà mai completamente nella memoria di nessun computer ! Possiamo verificare le limitazioni elevando al quadrato il risultato:"
   ]
  },
  {
   "cell_type": "code",
   "execution_count": 121,
   "metadata": {},
   "outputs": [
    {
     "data": {
      "text/plain": [
       "Decimal('1.999999999999999999999999999')"
      ]
     },
     "execution_count": 121,
     "metadata": {},
     "output_type": "execute_result"
    }
   ],
   "source": [
    "Decimal('2').sqrt()**Decimal('2')"
   ]
  },
  {
   "cell_type": "markdown",
   "metadata": {},
   "source": [
    "L'unica cosa che possiamo avere in più coi Decimal è un maggiore numero di cifre per rappresentarli, che volendo [possiamo aumentare a piacere](https://docs.python.org/3/library/decimal.html) finchè non esauriamo la memoria del nostro pc. In questo libro non parleremo oltre dei Decimal perchè tipicamente servono solo per applicazioni specifiche, per esempio, se devi fare calcoli finanziari vorrai probabilmente usare cifre esatte !"
   ]
  },
  {
   "cell_type": "markdown",
   "metadata": {},
   "source": [
    "## Sfide\n",
    "\n",
    "Proponiamo degli esercizi senza soluzione, accetti la sfida? Prova ad eseguirli entrambi in Jupyter e un editor di testo come Spyder per familiarizzarti con entrambi gli ambienti."
   ]
  },
  {
   "cell_type": "markdown",
   "metadata": {},
   "source": [
    "### Sfida - quali booleani 1?\n",
    "\n",
    "Trova la riga che assegnando valori a `x` e `y` faccia in modo che la stampa stampi `True`.\n",
    "Esiste una sola combinazione o più di una? "
   ]
  },
  {
   "cell_type": "code",
   "execution_count": 122,
   "metadata": {},
   "outputs": [
    {
     "name": "stdout",
     "output_type": "stream",
     "text": [
      "False\n"
     ]
    }
   ],
   "source": [
    "\n",
    "x = False; y = False\n",
    "#x = False; y = True\n",
    "#x = True; y = False\n",
    "#x = True; y = True\n",
    "\n",
    "print(x and y)"
   ]
  },
  {
   "cell_type": "markdown",
   "metadata": {},
   "source": [
    "### Sfida - quali booleani 2?\n",
    "\n",
    "Trova la riga che assegnando valori a `x` e `y` faccia in modo che la stampa stampi `True`.\n",
    "Esiste una sola combinazione o più di una? "
   ]
  },
  {
   "cell_type": "code",
   "execution_count": 123,
   "metadata": {},
   "outputs": [
    {
     "name": "stdout",
     "output_type": "stream",
     "text": [
      "False\n"
     ]
    }
   ],
   "source": [
    "x = False; y = False; z = False\n",
    "#x = False; y = True; z = False\n",
    "#x = True; y = False; z = False\n",
    "#x = True; y = True; z = False\n",
    "#x = False; y = False; z = True\n",
    "#x = False; y = True; z = True\n",
    "#x = True; y = False; z = True\n",
    "#x = True; y =True; z =True\n",
    "\n",
    "print((x or y) and (not x and z))"
   ]
  },
  {
   "cell_type": "markdown",
   "metadata": {},
   "source": [
    "### Sfida - quali interi 1?\n",
    "\n",
    "Assegna valori numerici a `x` `y` e `z` per fare si che l'espressione stampi `True`"
   ]
  },
  {
   "cell_type": "code",
   "execution_count": 124,
   "metadata": {},
   "outputs": [
    {
     "name": "stdout",
     "output_type": "stream",
     "text": [
      "False\n"
     ]
    }
   ],
   "source": [
    "#x = ?\n",
    "#y = ?\n",
    "print(max(min(x,y), x + 20) > 20)"
   ]
  },
  {
   "cell_type": "markdown",
   "metadata": {},
   "source": [
    "### Sfida - quali interi 2?\n",
    "\n",
    "Assegna a `x` ed `y` valori tale per cui che venga stampato `True`"
   ]
  },
  {
   "cell_type": "code",
   "execution_count": 125,
   "metadata": {},
   "outputs": [
    {
     "name": "stdout",
     "output_type": "stream",
     "text": [
      "False\n"
     ]
    }
   ],
   "source": [
    "x = 0  # ?\n",
    "y = 0  # ?\n",
    "\n",
    "print(x > 10 and x < 23 and ((x+y) == 16 or (x + y > 20)))"
   ]
  },
  {
   "cell_type": "markdown",
   "metadata": {},
   "source": [
    "### Sfida - quali interi 3?\n",
    "\n",
    "Assegna a `z` ed `w` valori tale per cui che venga stampato `True`"
   ]
  },
  {
   "cell_type": "code",
   "execution_count": 126,
   "metadata": {},
   "outputs": [
    {
     "data": {
      "text/plain": [
       "False"
      ]
     },
     "execution_count": 126,
     "metadata": {},
     "output_type": "execute_result"
    }
   ],
   "source": [
    "z = 0 # ?\n",
    "w = 1 # ?\n",
    "(z < 40 or w < 90) and (z % w > 2)"
   ]
  },
  {
   "cell_type": "markdown",
   "metadata": {},
   "source": [
    "### Sfida - aereoporto\n",
    "\n",
    "Finalmente decidi di prenderti una vacanza e vai all'aereoporto, ma già sai che dovrai fare varie code. Fortunatamente hai solo il bagaglio a mano, quindi ti rechi subito ai controlli di sicurezza, dove puoi scegliere tra tre file di `sic1`, `sic2` e `sic3` persone. Ogni persona in media ci mette 4 minuti ad essere esaminata, te incluso, e ovviamente scegli la fila più corta. Dopodichè vai al gate, dove trovi due file di `ga1` e `ga2` persone, e sai che ogni persona te incluso in media ci mette 20 secondi a passare: di nuovo scegli la fila più corta. Fortunatamente l'aereo è prossimo al gate quindi puoi subito scegliere se salire dalla fila in testa all'aereo con `bo1` persone o dalla fila in coda all'aereo con `bo2` persone. Per salire ogni passeggero te incluso in media ci mette 30 secondi, e scegli la coda più corta. \n",
    "\n",
    "Scrivi del codice per calcolare quanto tempo ci impieghi in totale ad entrare nell'aereo, mostrandolo in minuti e secondi\n",
    "\n",
    "Esempio - dati:\n",
    "\n",
    "```python\n",
    "sic1,sic2,sic3,ga1,ga2,bo1,bo2 = 4,5,8,5,2,7,6\n",
    "```\n",
    "\n",
    "il tuo codice deve stampare:\n",
    "\n",
    "```\n",
    "24 minuti e 30 secondi\n",
    "```"
   ]
  },
  {
   "cell_type": "raw",
   "id": "loved-blogger",
   "metadata": {
    "format": "text/html"
   },
   "source": [
    "<a  class=\"jupman-sol jupman-sol-toggler\" \n",
    " onclick=\"jupman.toggleSolution(this);\" \n",
    " data-jupman-show=\"Mostra soluzione\" data-jupman-hide=\"Nascondi\">Mostra soluzione</a><div class=\"jupman-sol jupman-sol-code\" style=\"display:none\">  "
   ]
  },
  {
   "cell_type": "code",
   "execution_count": 127,
   "metadata": {},
   "outputs": [],
   "source": [
    "sic1,sic2,sic3,ga1,ga2,bo1,bo2 = 4,5,8,5,2,7,6   # 24 minuti e 30 secondi\n",
    "#sic1,sic2,sic3,ga1,ga2,bo1,bo2 = 9,7,1,3,5,2,9  # 10 minuti e 50 secondi\n",
    "\n",
    "# scrivi qui\n"
   ]
  },
  {
   "cell_type": "raw",
   "id": "super-fitness",
   "metadata": {
    "format": "text/html"
   },
   "source": [
    "</div>"
   ]
  },
  {
   "cell_type": "code",
   "execution_count": 127,
   "metadata": {},
   "outputs": [],
   "source": [
    "sic1,sic2,sic3,ga1,ga2,bo1,bo2 = 4,5,8,5,2,7,6   # 24 minuti e 30 secondi\n",
    "#sic1,sic2,sic3,ga1,ga2,bo1,bo2 = 9,7,1,3,5,2,9  # 10 minuti e 50 secondi\n",
    "\n",
    "# scrivi qui\n",
    "\n"
   ]
  },
  {
   "cell_type": "code",
   "execution_count": null,
   "metadata": {},
   "outputs": [],
   "source": []
  }
 ],
 "metadata": {
  "celltoolbar": "Edit Metadata",
  "kernelspec": {
   "display_name": "Python 3",
   "language": "python",
   "name": "python3"
  },
  "language_info": {
   "codemirror_mode": {
    "name": "ipython",
    "version": 3
   },
   "file_extension": ".py",
   "mimetype": "text/x-python",
   "name": "python",
   "nbconvert_exporter": "python",
   "pygments_lexer": "ipython3",
   "version": "3.7.9"
  },
  "toc": {
   "base_numbering": 1,
   "nav_menu": {},
   "number_sections": false,
   "sideBar": true,
   "skip_h1_title": false,
   "title_cell": "Table of Contents",
   "title_sidebar": "Contents",
   "toc_cell": false,
   "toc_position": {
    "height": "calc(100% - 180px)",
    "left": "10px",
    "top": "150px",
    "width": "280.2px"
   },
   "toc_section_display": true,
   "toc_window_display": true
  }
 },
 "nbformat": 4,
 "nbformat_minor": 2
}
