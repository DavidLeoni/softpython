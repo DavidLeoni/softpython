{
 "cells": [
  {
   "cell_type": "code",
   "execution_count": 1,
   "metadata": {
    "nbsphinx": "hidden"
   },
   "outputs": [],
   "source": [
    "# Ricordati di eseguire questa cella con Shift+Invio\n",
    "\n",
    "import sys\n",
    "sys.path.append('../')\n",
    "import jupman"
   ]
  },
  {
   "cell_type": "markdown",
   "metadata": {},
   "source": [
    "# Basi Python\n",
    "\n",
    "## [Scarica zip esercizi](../_static/generated/basics.zip)\n",
    "\n",
    "[Naviga file online](https://github.com/DavidLeoni/softpython/tree/master/basics)\n",
    "\n",
    "<div class=\"alert alert-warning\">\n",
    "\n",
    "**ATTENZIONE**: Se non hai già provveduto ad installare Python 3 e Jupyter, guarda [Installazione](https://softpython.readthedocs.io/it/latest/installation.html)\n",
    "\n",
    "</div>\n",
    "\n",
    "## Riferimenti\n",
    "\n",
    "- [Pensare in Python - Capitolo 1](https://davidleoni.github.io/ThinkPythonItalian/html/thinkpython2002.html): Lo scopo del programma\n",
    "- [Pensare in Python - Capitolo 2](https://davidleoni.github.io/ThinkPythonItalian/html/thinkpython2003.html): Variabili, espressioni ed istruzioni\n",
    "- [Nicola Cassetta - Lezione 1](http://ncassetta.altervista.org/Tutorial_Python/Lezione_01.html)\n",
    "- [Nicola Cassetta - Lezione 2](http://ncassetta.altervista.org/Tutorial_Python/Lezione_02.html)\n"
   ]
  },
  {
   "cell_type": "markdown",
   "metadata": {},
   "source": [
    "## L'interprete Python\n",
    "\n",
    "In queste guide usiamo estensivamente l'editor di notebook Jupyter, perchè ci permette di eseguire comodamente codice Python, mostrare grafici e prendere note. Ma se vogliamo solo far calcolare il computer non è affatto obbligatorio!\n",
    "\n",
    "Il modo più immediato (per quanto non molto pratico) per eseguire codice Python è usando l'interprete _da linea di comando_ nella cosiddetta _modalità interattiva_, cioè facendo in modo che attenda i comandi che verranno inseriti manualmente uno per uno. Questo uso _non_ richiede Jupyter, basta avere installato Python. Nota che in Mac OS X e parecchi sistemi linux come Ubuntu, Python è installato di _default_, ma a volte può capitare che non sia la versione 3. Cerchiamo di capire che versione abbiamo installata noi. \n",
    "\n",
    "\n",
    "### Apriamo la console di sistema\n",
    "\n",
    "Apri una console (in Windows: menu di sistema -> Anaconda Prompt,in Mac OS X: lancia il Terminale)\n",
    "\n",
    "Nella console trovi il cosidetto _prompt_ dei comandi. In questo _prompt_ puoi dare comandi direttamente al sistema operativo. \n",
    "\n",
    "<div class=\"alert alert-warning\">\n",
    "\n",
    "**ATTENZIONE**: I comandi che dai nel prompt, sono comandi nel linguaggio del sistema operativo che stai usando, **NON** nel linguaggio Python !!!!!\n",
    "</div>\n",
    "\n",
    "In Windows dovresti vedere qualcosa del genere: \n",
    "\n",
    "```\n",
    "C:\\Users\\David> \n",
    "```\n",
    "\n",
    "In Mac / Linux potrebbe essere una cosa simile a questa:\n",
    "\n",
    "```bash\n",
    "david@mio-computer:~$\n",
    "```\n",
    "\n"
   ]
  },
  {
   "cell_type": "markdown",
   "metadata": {},
   "source": [
    "### Listare i file e cartelle\n",
    "\n",
    "Nella console di sistema, prova per esempio a \n",
    "\n",
    "**su Windows**: scrivere il comando `dir` e digitare il tasto Invio.\n",
    "\n",
    "**su Mac o Linux**: scrivere il comando `ls` e digitare il tasto Invio.\n",
    "\n",
    "Dovrebbe apparire un elenco di tutti i file nella cartella corrente.  Nel mio caso appare una lista del genere:\n",
    "\n",
    "<div class=\"alert alert-warning\">\n",
    "\n",
    "**RIPETO**: in questo contesto `dir` ed `ls` sono comandi _del sistema operativo_, **NON** di Python !!\n",
    "\n",
    "</div>\n",
    "\n",
    "Windows: \n",
    "\n",
    "```\n",
    "C:\\Users\\David> dir\n",
    "Arduino                    gotysc                           program.wav\n",
    "a.txt                      index.html                       Public\n",
    "CART                       java0.log                        RegDocente.pdf\n",
    "backupsys                  java1.log                                \n",
    "BaseXData                  java_error_in_IDEA_14362.log \n",
    "```\n",
    "\n",
    "Mac / Linux: \n",
    "\n",
    "\n",
    "```\n",
    "david@david-computer:~$ ls\n",
    "Arduino                           gotysc                         program.wav\n",
    "a.txt                             index.html                     Public\n",
    "CART                              java0.log                      RegistroDocenteStandard(1).pdf\n",
    "backupsys                         java1.log                      RegistroDocenteStandard.pdf\n",
    "BaseXData                         java_error_in_IDEA_14362.log \n",
    "```\n"
   ]
  },
  {
   "cell_type": "markdown",
   "metadata": {},
   "source": [
    "### Lanciamo l'interprete Python\n",
    "\n",
    "Sempre nella console di sistema aperta, scrivi semplicemente il comando `python`:\n",
    "\n",
    "<div class=\"alert alert-warning\">\n",
    "\n",
    "**ATTENZIONE**: Se Python non parte, prova a scrivere `python3` con il `3` alla fine di `python`\n",
    "\n",
    "</div>\n",
    "\n",
    "\n",
    "```\n",
    "C:\\Users\\David> python\n",
    "```\n",
    "\n",
    "\n",
    "Dovresti veder apparire qualcosa di simile (ma molto probabilmente NON uguale). Nota che nella prima riga è contenuta la versione di Python. Se inizia con `2.`, allora non stai usando quella giusta per questo corso - in quel caso prova a uscire dall'interprete ([vedi come uscire](#Uscire-dall'interprete)) e poi scrivi `python3` \n",
    "\n",
    "```\n",
    "Python 3.5.2 (default, Nov 23 2017, 16:37:01) \n",
    "[GCC 5.4.0 20160609] on windows\n",
    "Type \"help\", \"copyright\", \"credits\" or \"license\" for more information.\n",
    ">>> \n",
    "```\n",
    "<div class=\"alert alert-warning\">\n",
    "\n",
    "**ATTENZIONE** al triplo maggiore `>>>`  all'inizio!\n",
    "\n",
    "Il triplo maggiore `>>>`  all'inizio indica che a differenza di prima adesso la console si sta aspettando comandi _in linguaggio Python_. Quindi, i comandi di sistema che abbiamo usato prima (`cd`, `dir`, ...) NON funzioneranno più, o daranno risultati diversi !!!!\n",
    "\n",
    "</div>\n",
    "\n",
    "Adesso la console si aspetta comandi Python, prova ad inserire `3 + 5` e poi premi `Invio`:\n",
    "\n",
    "<div class=\"alert alert-warning\">\n",
    "\n",
    "**ATTENZIONE** tu NON scrivere `>>>`, scrivi solo il comando che appare dopo  !\n",
    "\n",
    "</div>\n",
    "\n",
    "\n",
    "```\n",
    ">>> 3 + 5\n",
    "```\n",
    "\n",
    "Dovrebbe apparire la scritta `8`\n",
    "\n",
    "```\n",
    "8\n",
    "```\n",
    "\n",
    "Oltre ai calcoli, potremmo dire a Python di stampare qualcosa con la funzione `print(\"ciao\")`\n",
    "\n",
    "```\n",
    ">>> print(\"ciao\")\n",
    "ciao\n",
    "```\n",
    "\n"
   ]
  },
  {
   "cell_type": "markdown",
   "metadata": {},
   "source": [
    "### Uscire dall'interprete\n",
    "\n",
    "Per uscire dall'interprete Python e tornare al prompt di sistema (per intenderci, quello che accetta i comandi `cd` e `dir`), scrivi il comando Python `exit()`\n",
    "\n",
    "Dopo che sei effettivamente  uscito dall'interprete Python, il triplo `>>>` deve essere sparito (cioè non deve stare all'inizio della linea dove darai nuovi comandi)\n",
    "\n",
    "In Windows, dovresti vedere un risultato simile:\n",
    "\n",
    "```\n",
    ">>> exit()\n",
    "C:\\Users\\David>\n",
    "```\n",
    "\n",
    "in Mac / Linux potrebbe essere così:\n",
    "\n",
    "\n",
    "```\n",
    ">>> exit()\n",
    "david@mio-computer:~$\n",
    "```"
   ]
  },
  {
   "cell_type": "markdown",
   "metadata": {},
   "source": [
    "Adesso potresti tornare ad eseguire comandi per il sistema operativo come `dir` e `cd`\n",
    "\n",
    "**Windows**:\n",
    "```\n",
    "C:\\Users\\David> dir\n",
    "Arduino                    gotysc                           program.wav\n",
    "a.txt                      index.html                       Public\n",
    "CART                       java0.log                        RegDocente.pdf\n",
    "backupsys                  java1.log                                \n",
    "BaseXData                  java_error_in_IDEA_14362.log \n",
    "```\n",
    "\n",
    "**Mac**:\n",
    "```\n",
    "david@david-computer:~$ ls\n",
    "Arduino                           gotysc                         program.wav\n",
    "a.txt                             index.html                     Public\n",
    "CART                              java0.log                      RegistroDocenteStandard(1).pdf\n",
    "backupsys                         java1.log                      RegistroDocenteStandard.pdf\n",
    "BaseXData                         java_error_in_IDEA_14362.log \n",
    "```\n"
   ]
  },
  {
   "cell_type": "markdown",
   "metadata": {},
   "source": [
    "## Moduli\n",
    "\n",
    "I moduli Python sono semplicemente dei file di testo che hanno l'estensione **.py** (per es. `prova.py`). Quando stai scrivendo codice in un editor, di fatto stai implementando il modulo corrispondente.\n",
    "\n",
    "In Jupyter usiamo file notebook con estensione `.ipynb`, ma per editarli serve necessariamente Jupyter. \n",
    "\n",
    "Con i file `.py` (detti anche _script_) possiamo invece usare un qualsiasi editor di testo, e possiamo poi dire all'interprete di eseguire il file. Vediamo come si fa.\n",
    "\n",
    "### Editor di testo semplice\n",
    "\n",
    "1. Con un editor di testo (_Blocco note_ in Windows, o _TextEdit_ in Mac Os X) crea un file di testo, e metti all'interno questo codice\n",
    "\n",
    "\n",
    "\n",
    "```python\n",
    "x = 3\n",
    "y = 5\n",
    "print(x + y )\n",
    "```\n",
    "\n",
    "2. Proviamo a salvarlo - sembra semplice, ma non lo è sempre, leggi bene!\n",
    "\n",
    "<div class=\"alert alert-warning\">\n",
    "\n",
    "**ATTENZIONE**: Al momento di salvare il file, **assicurati che il file abbia estensione** `.py` **!!**\n",
    "</div>\n",
    "\n",
    "Supponiamo di creare il file `prova.py` all'interno di una cartella chiamata `CART`:\n",
    "\n",
    "* **WINDOWS**: Se usi _Blocco Note_, nella finestra di salvataggio devi impostare _Salva come_ a _Tutti i file_ (altrimenti il file verrà salvato erroneamente come `prova.py.txt` !)\n",
    "* **MAC**: se usi _TextEdit_, prima di salvare clicca _Formato_ e poi  _Converti in formato Solo testo_: **se dimentichi questo passaggio, TextEdit nella finestra di salvataggio non ti darà modo di salvarlo nel formato giusto e probabilmente finirai con un file .rtf che non ci interessa**\n"
   ]
  },
  {
   "cell_type": "markdown",
   "metadata": {},
   "source": [
    "3. Apri una console (in Windows: menu di sistema -> Anaconda Prompt,in Mac OS X: lancia il Terminale)\n",
    "\n",
    "La console apre il cosidetto _prompt_ dei comandi. In questo _prompt_ puoi dare comandi direttamente al sistema operativo (vedi [paragrafo precedente](#L'interprete-Python))\n",
    "\n",
    "<div class=\"alert alert-warning\">\n",
    "\n",
    "**ATTENZIONE**: I comandi che dai nel prompt, sono comandi nel linguaggio del sistema operativo che stai usando, **NON** nel linguaggio Python !!!!!\n",
    "</div>\n",
    "\n",
    "In Windows dovresti vedere qualcosa del genere: \n",
    "\n",
    "```\n",
    "C:\\Users\\David> \n",
    "```\n",
    "\n",
    "In Mac / Linux :\n",
    "\n",
    "```bash\n",
    "david@david-mio-computer:~$\n",
    "```\n",
    "\n",
    "Prova per esempio a scrivere il comando `dir` (o `ls` per Mac / Linux) che mostra tutte i file nella cartella corrente. Nel mio caso appare una lista del genere:\n",
    "\n",
    "<div class=\"alert alert-warning\">\n",
    "\n",
    "\n",
    "**RIPETO**: in questo contesto `dir` / `ls` sono comando _del sistema operativo_, **NON** di Python.\n",
    "\n",
    "</div>\n",
    "\n",
    "```\n",
    "C:\\Users\\David> dir\n",
    "Arduino                    gotysc                           program.wav\n",
    "a.txt                      index.html                       Public\n",
    "CART                       java0.log                        RegDocente.pdf\n",
    "backupsys                  java1.log                                \n",
    "BaseXData                  java_error_in_IDEA_14362.log \n",
    "```\n",
    "\n",
    "Se noti, nella lista appare `CART`, dove ho messo `prova.py`. Per _entrare_ nella cartella dal _prompt_, devi usare il comando del sistema operativo `cd` come segue\n",
    "\n"
   ]
  },
  {
   "cell_type": "markdown",
   "metadata": {},
   "source": [
    "4. Per entrare in una cartella che si chiama CART, scrivere `cd CART`:\n",
    "\n",
    "```\n",
    "C:\\Users\\David> cd CART\n",
    "C:\\Users\\David\\CART>\n",
    "```\n",
    "\n",
    "\n",
    "**E se sbaglio cartella?**\n",
    "\n",
    "Se per caso entri nella cartella sbagliata, tipo `CAVOLATE`, per andare indietro di una cartella, scrivere `cd ..`  (NOTA: `cd` è seguito da spazio e DUE punti `..` _uno dopo l'altro_ )\n",
    "\n",
    "```\n",
    "C:\\Users\\David\\CAVOLATE> cd ..\n",
    "C:\\Users\\David\\>\n",
    "```\n",
    "\n"
   ]
  },
  {
   "cell_type": "markdown",
   "metadata": {},
   "source": [
    "5. Assicurati di essere nella cartella che contiene `prova.py`. Se non lo sei, usa i comandi `cd` e `cd ..` come sopra  per navigare le cartelle.\n",
    "\n",
    "Vediamo cosa c'è in CART con il comando di sistema `dir` (o `ls` se usi Mac/Linux):\n",
    "\n",
    "<div class=\"alert alert-warning\">\n",
    "\n",
    "\n",
    "**RIPETO**: in questo contesto `dir` (o `ls`) è un comando _del sistema operativo_, **NON** di Python.\n",
    "\n",
    "</div>\n",
    "\n",
    "\n",
    "```\n",
    "C:\\Users\\David\\CART> dir\n",
    "\n",
    "prova.py\n",
    "```\n",
    "\n",
    "`dir` ci sta dicendo che in `CART` c'è il nostro file `prova.py`.  \n",
    "\n"
   ]
  },
  {
   "cell_type": "markdown",
   "metadata": {},
   "source": [
    "\n",
    "\n",
    "6. Da dentro la cartella `CART`, scrivi `python prova.py`\n",
    "\n",
    "```\n",
    "C:\\Users\\David\\CART>python prova.py\n",
    "```\n",
    "\n",
    "<div class=\"alert alert-warning\">\n",
    "\n",
    "**ATTENZIONE**: Se Python non parte, prova a scrivere `python3 prova.py` con il `3` alla fine di `python`\n",
    "\n",
    "</div>\n",
    "\n",
    "\n",
    "Se tutto è andato bene, dovresti veder apparire \n",
    "\n",
    "```\n",
    "8\n",
    "C:\\Users\\David\\CART>\n",
    "```\n",
    "<div class=\"alert alert-warning\">\n",
    "\n",
    "**ATTENZIONE**: Dopo l'esecuzione di uno script in questo modo, la console si aspetta di nuovo comandi _di sistema_, **NON** comandi Python (quindi non dovrebbe esserci il triplo maggiore `>>>`)\n",
    "</div>\n",
    "\n"
   ]
  },
  {
   "cell_type": "markdown",
   "metadata": {},
   "source": [
    "### IDE\n",
    "\n",
    "In queste guide lavoriamo su notebook Jupyter con estensione `.ipynb`, ma per editare  file sorgenti `.py`  lunghi conviene usare editor più tradizionali, detti anche IDE (_Integrated Development Environment_). Per Python possiamo usare [Spyder](https://www.spyder-ide.org/), [Visual Studio Code](https://code.visualstudio.com/Download) o [PyCharme Community Edition](https://www.jetbrains.com/pycharm/download/). \n",
    "\n",
    "Rispetto a Jupyter, questi editor permettono più agevolmente di _debuggare_ e _testare_ il codice. \n",
    "\n",
    "Facciamo una prova con Spyder, che è il più semplice - se hai Anaconda, lo trovi disponibile dentro l'Anaconda Navigator.\n",
    "\n",
    "<div class=\"alert alert-info\">\n",
    "\n",
    "**INFO**: Quando lanci Spyder, potrebbe richiederti di effettuare un aggiornamento (_upgrade_), ma puoi tranquillamente cliccare No. \n",
    "\n",
    "</div>\n",
    "\n",
    "Nella parte sinistra dell'editor si vede il codice del file `.py` che stai editando. Tali file sono detti anche _script_ . Nella parte destra in basso si vede la console con l'interprete IPython (che è lo stesso alla base di Jupyter, qui in versione testuale). Quando esegui lo script, è come immettere i comandi in quell'interprete. \n",
    "\n",
    "- Per eseguire tutto lo script:\tpremi `F5`\n",
    "- Per eseguire solo la linea corrente o la selezione: premi `F9`\n",
    "- Per ripulire la memoria: dopo molte esecuzioni le variabili nella memoria dell'interprete potrebbero assumere valori che non ti aspetti. Per ripulire la memoria, clicca sull'ingranaggio a destra del riquadro della console, e seleziona _Restart kernel_\n",
    "\n",
    "**DA FARE**: fai delle prove, riprendendo il file `prova.py` di prima:\n",
    "\n",
    "```python\n",
    "x = 3\n",
    "y = 5\n",
    "print(x + y)\n",
    "```\n",
    "\n",
    "- una volta che il codice è nello script, premi `F5`\n",
    "- seleziona solo `print(x+y)` e premi F9\n",
    "- seleziona solo `x=3`e premi F9\n",
    "- clicca sull'ingranaggio a destra del riquadro della console, e seleziona _Restart kernel_, poi seleziona solo `print(x+y)` e premi `F9`. Che succede?\n",
    "\n",
    "Ricordati che se la memoria dell'interprete è stata ripulita con _Restart kernel_ e provi ad eseguire una riga di codice con variabili definite in linee che non sono stati eseguite prima, Python non saprà a che variabili ti stai riferendo e mostrerà un `NameError` \n",
    " "
   ]
  },
  {
   "cell_type": "markdown",
   "metadata": {},
   "source": [
    "![Spyder ide 3823](img/spyder-ide.png)"
   ]
  },
  {
   "cell_type": "markdown",
   "metadata": {},
   "source": [
    "When importing modules we do not need to specify the extension `.py` of the file. "
   ]
  },
  {
   "cell_type": "markdown",
   "metadata": {},
   "source": [
    "## Jupyter\n",
    "\n",
    "Jupyter è un editor che ti permette di i lavorare sui cosiddetti _notebook_, che sono file che finiscono con l'estensione `.ipynb`. Sono documenti divisi in celle dove per ogni cella puoi immettere dei comandi e vederne subito il rispettivo output. Proviamo ad aprire questo."
   ]
  },
  {
   "cell_type": "markdown",
   "metadata": {},
   "source": [
    "\n",
    "\n",
    "1. scompatta lo [zip degli esercizi](../_static/generated/basics.zip) in una cartella, dovresti ottenere qualcosa del genere: \n",
    "\n",
    "```\n",
    "\n",
    "basics\n",
    "    basics.ipynb     \n",
    "    basics-sol.ipynb     \n",
    "    jupman.py         \n",
    "```\n",
    "\n",
    "<div class=\"alert alert-warning\">\n",
    "\n",
    "**ATTENZIONE**: Per essere visualizzato correttamente, il file del notebook DEVE essere nella cartella szippata.\n",
    "</div>\n"
   ]
  },
  {
   "cell_type": "markdown",
   "metadata": {},
   "source": [
    "\n",
    "2. apri il Jupyter Notebook da quella cartella. Due cose dovrebbero aprirsi, prima una console e poi un browser. Il browser dovrebbe mostrare una lista di file: naviga la lista e apri il notebook `basics.ipynb`\n",
    "\n",
    "<div class=\"alert alert-warning\">\n",
    "\n",
    "**ATTENZIONE** **Se non trovi Jupyter / qualcosa non funziona, guarda** [la guida per l'installazione](https://softpython.readthedocs.io/it/latest/installation.html#Notebook-Jupyter)\n",
    "\n",
    "</div>\n",
    "\n",
    "\n"
   ]
  },
  {
   "cell_type": "markdown",
   "metadata": {},
   "source": [
    "3. Prosegui leggendo il file degli esercizi, ogni tanto al suo interno troverai delle scritte **DA FARE**, che ti chiederanno di scrivere dei comandi Python nelle celle successive. Gli esercizi sono graduati per difficoltà, da una stellina ✪ a quattro ✪✪✪✪\n",
    "\n",
    "<div class=\"alert alert-warning\">\n",
    "\n",
    "**ATTENZIONE**: In questo libro usiamo **SOLO PYTHON 3** <br/>\n",
    "\n",
    "Se per caso ottieni comportamenti inattesi, controlla di usare Python 3 e non il 2. Se per caso il tuo sistema operativo scrivendo `python` fa partire il 2, prova ad eseguire il tre scrivendo il comando: `python3`\n",
    "</div>\n",
    "\n"
   ]
  },
  {
   "cell_type": "markdown",
   "metadata": {},
   "source": [
    "\n",
    "\n",
    "Scorciatoie da tastiera:\n",
    "\n",
    "* Per eseguire il codice Python dentro una cella di Jupyter, premi `Control+Invio`\n",
    "* Per eseguire il codice Python dentro una cella di Jupyter E selezionare la cella seguente, premi `Shift+Invio`\n",
    "* Per eseguire il codice Python dentro una cella di Jupyter E creare una nuova cella subito dopo, premi `Alt+Invio`\n",
    "* Se per caso il Notebook sembra inchiodato, prova a selezionare `Kernel -> Restart`\n"
   ]
  },
  {
   "cell_type": "markdown",
   "metadata": {},
   "source": [
    "**DA FARE**: Proviamo a inserire un comando Python: scrivi nella cella qua sotto `3 + 5`, e poi mentre sei in quella cella premi i tasti speciali `Control+Invio`. Come risultato, dovresti vedere apparire il numero 8"
   ]
  },
  {
   "cell_type": "code",
   "execution_count": null,
   "metadata": {},
   "outputs": [],
   "source": []
  },
  {
   "cell_type": "markdown",
   "metadata": {},
   "source": [
    "**DA FARE**: in Python possiamo scrivere commenti iniziando una riga con un cancelletto `#`. Come prima, scrivi nella cella sotto `3 + 5` ma questa volta scrivilo nella riga sotto la scritta `# scrivi qui`:"
   ]
  },
  {
   "cell_type": "code",
   "execution_count": 2,
   "metadata": {},
   "outputs": [],
   "source": [
    "# scrivi qui\n"
   ]
  },
  {
   "cell_type": "markdown",
   "metadata": {},
   "source": [
    "**DA FARE**: Jupyter per ogni cella mostra il risultato solo dell'ultima riga eseguita in quella cella. Prova a inserire questo codice nella cella sotto ed esegui premendo `Control+Invio`. Che risultato appare?\n",
    "\n",
    "```python\n",
    "3 + 5\n",
    "1 + 1\n",
    "```"
   ]
  },
  {
   "cell_type": "code",
   "execution_count": 3,
   "metadata": {},
   "outputs": [],
   "source": [
    "# scrivi qui\n",
    "\n"
   ]
  },
  {
   "cell_type": "markdown",
   "metadata": {},
   "source": [
    "**DA FARE**: Proviamo adesso a creare noi una nuova cella. \n",
    "\n",
    "* Mentre sei con il cursore in questa cella, premi `Alt+Invio`. Si dovrebbe creare una nuova cella dopo la presente. \n",
    "\n",
    "* Nella cella appena creata, inserisci `2 + 3` e poi premi `Shift+Invio`. Cosa succede al cursore? prova la differenze con `Control+Invio`. Se non capisci la differenza, prova a premere ripetutamente `Shif+Invio` e vedi che succede."
   ]
  },
  {
   "cell_type": "markdown",
   "metadata": {},
   "source": [
    "## Visualizzare l'esecuzione con Python Tutor\n",
    "\n",
    "\n",
    "Abbiamo visto i principali tipi di dati. Prima di procedere oltre, è bene vedere gli strumenti giusti per comprendere al meglio cosa succede quando si esegue il codice.\n",
    "[Python tutor](http://pythontutor.com/) è un ottimo sito online per visualizzare online l’esecuzione di codice Python, permettendo di andare avanti e _indietro_ nell'esecuzione del codice. Sfruttatelo più che potete, dovrebbe funzionare con parecchi degli esempi che tratteremo a lezione. Vediamo un esempio. \n",
    "\n",
    "**Python tutor 1/4**\n",
    "\n",
    "Vai sul sito [pythontutor.com](http://pythontutor.com/) e seleziona _Python 3_"
   ]
  },
  {
   "cell_type": "markdown",
   "metadata": {},
   "source": [
    "![pytut-1-8e1](img/pytut-1.jpg)"
   ]
  },
  {
   "cell_type": "markdown",
   "metadata": {},
   "source": [
    "**Python tutor 2/4**\n",
    "\n",
    "![pytut-2-49823273](img/pytut-2.jpg)"
   ]
  },
  {
   "cell_type": "markdown",
   "metadata": {},
   "source": [
    "**Python tutor 3/4**\n",
    "\n",
    "![pytut-3-891232342](img/pytut-3.jpg)"
   ]
  },
  {
   "cell_type": "markdown",
   "metadata": {},
   "source": [
    "**Python tutor 4/4**\n",
    "\n",
    "![pytut-4-27854](img/pytut-4.jpg)"
   ]
  },
  {
   "cell_type": "markdown",
   "metadata": {},
   "source": [
    "### Debuggare codice in Jupyter\n",
    "\n",
    "Python tutor è fantastico, ma quando esegui del codice in Jupyter e non funziona, come si può fare? Per ispezionare l'esecuzione, gli editor di solito mettono a disposizione uno strumento chiamato _debugger_, che permette di eseguire le istruzioni una per una. Al momento (Agosto 2018), il debugger di Jupyter che si chiama [pdb](https://davidhamann.de/2017/04/22/debugging-jupyter-notebooks/) è estramamente limitato . Per superarne le limitazioni, in questo corso ci siamo inventati una soluzione di ripiego, che sfrutta Python Tutor.\n",
    "\n",
    "Se inserisci del codice Python in una cella, e poi **alla fine della cella** scrivete l'istruzione `jupman.pytut()`, come per magia il codice precedente verrà visualizzato all'interno del foglio Jupyter con il debugger di Python Tutor. \n",
    "\n"
   ]
  },
  {
   "cell_type": "markdown",
   "metadata": {},
   "source": [
    "<div class=\"alert alert-warning\">\n",
    "\n",
    "**ATTENZIONE**: `jupman` è una collezione di funzioni di supporto che ci siamo inventati apposta per questo corso. \n",
    "\n",
    "Quando vedi comandi che iniziano con `jupman`, affinchè funzionino devi prima eseguire la cella in cima al documento. Riportiamo tale cella qua per comodità. Se non lo hai già fatto, eseguila adesso.\n",
    "\n",
    "</div>\n"
   ]
  },
  {
   "cell_type": "code",
   "execution_count": 4,
   "metadata": {},
   "outputs": [],
   "source": [
    "# Ricordati di eseguire questa cella con Control+Invio\n",
    "# Questi comandi dicono a Python dove trovare il file jupman.py\n",
    "import sys;\n",
    "sys.path.append('../'); \n",
    "import jupman;"
   ]
  },
  {
   "cell_type": "markdown",
   "metadata": {},
   "source": [
    "Adesso siamo pronti a provare Python tutor con la funzione magica `jupman.pytut()`: "
   ]
  },
  {
   "cell_type": "code",
   "execution_count": 5,
   "metadata": {},
   "outputs": [
    {
     "data": {
      "text/html": [
       "\n",
       "        <script src=\"../_static/js/pytutor-embed.bundle.min.js\" type=\"application/javascript\"></script>\n",
       "     \n",
       "        <script id=\"json-jm9f593293-9a26-4cea-8b2e-55c62a4649da\" type=\"application/json\" >\n",
       "            {\"trace\": [{\"globals\": {}, \"event\": \"step_line\", \"ordered_globals\": [], \"func_name\": \"<module>\", \"stack_to_render\": [], \"stdout\": \"\", \"heap\": {}, \"line\": 2}, {\"globals\": {\"x\": 5}, \"event\": \"step_line\", \"ordered_globals\": [\"x\"], \"func_name\": \"<module>\", \"stack_to_render\": [], \"stdout\": \"\", \"heap\": {}, \"line\": 3}, {\"globals\": {\"y\": 7, \"x\": 5}, \"event\": \"step_line\", \"ordered_globals\": [\"x\", \"y\"], \"func_name\": \"<module>\", \"stack_to_render\": [], \"stdout\": \"\", \"heap\": {}, \"line\": 4}, {\"globals\": {\"y\": 7, \"z\": 12, \"x\": 5}, \"event\": \"return\", \"ordered_globals\": [\"x\", \"y\", \"z\"], \"func_name\": \"<module>\", \"stack_to_render\": [], \"stdout\": \"\", \"heap\": {}, \"line\": 4}], \"code\": \" \\nx = 5\\ny = 7\\nz = x + y\"}\n",
       "        </script>\n",
       "        <div id=\"jm9f593293-9a26-4cea-8b2e-55c62a4649da\" class=\"pytutorVisualizer\"> </div>\n",
       " \n",
       "        <style>\n",
       "        .vizLayoutTd {\n",
       "            background-color: #fff !important;\n",
       "        }\n",
       "\n",
       "        #pyStdout {            \n",
       "            min-height:25px;\n",
       "        }\n",
       "\n",
       "        /* 'Edit this code' link, hiding because replaces browser tab !!!*/\n",
       "        #editCodeLinkDiv {\n",
       "            display:none;  \n",
       "        }\n",
       "        </style>   \n",
       "                            \n",
       "        <script>\n",
       "        (function(){\n",
       "\n",
       "            var trace = JSON.parse(document.getElementById('json-jm9f593293-9a26-4cea-8b2e-55c62a4649da').innerHTML);                                        \n",
       "            // NOTE 1: id without #\n",
       "            // NOTE 2 - maybe there are more predictable ways, but this will work anyway\n",
       "            //        - id should be number\n",
       "            visualizerIdOverride = Math.trunc(Math.random() * 100000000000)\n",
       "            addVisualizerToPage(trace, 'jm9f593293-9a26-4cea-8b2e-55c62a4649da',{'embeddedMode' : false,\n",
       "                                             'visualizerIdOverride':visualizerIdOverride})  \n",
       "            \n",
       "            \n",
       "            // set overflow for pytuts - need to do in python as css \n",
       "            // does not allow parent selection\n",
       "            var pytuts = $('.pytutorVisualizer')\n",
       "            pytuts.closest('div.output_html.rendered_html.output_result')\n",
       "                    .css('overflow-x', 'visible')\n",
       "        \n",
       "            //pytuts.closest('div.output_html.rendered_html.output_result')\n",
       "            //      .css('background-color','red')                \n",
       "            \n",
       "        })()\n",
       "        </script>\n",
       "                \n",
       "                "
      ],
      "text/plain": [
       "<IPython.core.display.HTML object>"
      ]
     },
     "execution_count": 5,
     "metadata": {},
     "output_type": "execute_result"
    }
   ],
   "source": [
    "x = 5\n",
    "y = 7\n",
    "z = x + y\n",
    "\n",
    "jupman.pytut()"
   ]
  },
  {
   "cell_type": "markdown",
   "metadata": {},
   "source": [
    "####  Python Tutor : Limitazione 1\n",
    "\n",
    "Python tutor è comodo, ma ci sono importanti limitazioni:\n",
    "\n"
   ]
  },
  {
   "cell_type": "markdown",
   "metadata": {},
   "source": [
    "<div class=\"alert alert-warning\">\n",
    "\n",
    "**ATTENZIONE**: Python Tutor guarda dentro una cella sola!\n",
    "\n",
    "Quando usi Python tutor dentro Jupyter, l'unico codice che viene considerato da Python tutor è quello dentro la cella dove sta il comando `jupman.pytut()`. \n",
    "</div>\n",
    "\n",
    "Quindi per esempio in queste due celle che seguono, solo `print(w)` apparirà dentro Python tutor   senza il `w = 3`. Se proverai a cliccare _Forward_ in Python tutor,  ti verrà segnalato che non è stata definita `w`"
   ]
  },
  {
   "cell_type": "code",
   "execution_count": 6,
   "metadata": {},
   "outputs": [],
   "source": [
    "w = 3"
   ]
  },
  {
   "cell_type": "code",
   "execution_count": 7,
   "metadata": {},
   "outputs": [
    {
     "name": "stdout",
     "output_type": "stream",
     "text": [
      "3\n"
     ]
    },
    {
     "name": "stderr",
     "output_type": "stream",
     "text": [
      "Traceback (most recent call last):\n",
      "  File \"../jupman.py\", line 2305, in _runscript\n",
      "    self.run(script_str, user_globals, user_globals)\n",
      "  File \"/usr/lib/python3.5/bdb.py\", line 431, in run\n",
      "    exec(cmd, globals, locals)\n",
      "  File \"<string>\", line 2, in <module>\n",
      "NameError: name 'w' is not defined\n"
     ]
    },
    {
     "data": {
      "text/html": [
       "\n",
       "        <script src=\"../_static/js/pytutor-embed.bundle.min.js\" type=\"application/javascript\"></script>\n",
       "     \n",
       "        <script id=\"json-jma529bb3b-b880-4147-a3ca-9b3f33c9277a\" type=\"application/json\" >\n",
       "            {\"trace\": [{\"globals\": {}, \"event\": \"step_line\", \"ordered_globals\": [], \"func_name\": \"<module>\", \"stack_to_render\": [], \"stdout\": \"\", \"heap\": {}, \"line\": 2}, {\"globals\": {}, \"event\": \"exception\", \"ordered_globals\": [], \"exception_msg\": \"NameError: name 'w' is not defined\", \"func_name\": \"<module>\", \"stack_to_render\": [], \"stdout\": \"\", \"heap\": {}, \"line\": 2}], \"code\": \" \\nprint(w)\"}\n",
       "        </script>\n",
       "        <div id=\"jma529bb3b-b880-4147-a3ca-9b3f33c9277a\" class=\"pytutorVisualizer\"> </div>\n",
       " \n",
       "        <style>\n",
       "        .vizLayoutTd {\n",
       "            background-color: #fff !important;\n",
       "        }\n",
       "\n",
       "        #pyStdout {            \n",
       "            min-height:25px;\n",
       "        }\n",
       "\n",
       "        /* 'Edit this code' link, hiding because replaces browser tab !!!*/\n",
       "        #editCodeLinkDiv {\n",
       "            display:none;  \n",
       "        }\n",
       "        </style>   \n",
       "                            \n",
       "        <script>\n",
       "        (function(){\n",
       "\n",
       "            var trace = JSON.parse(document.getElementById('json-jma529bb3b-b880-4147-a3ca-9b3f33c9277a').innerHTML);                                        \n",
       "            // NOTE 1: id without #\n",
       "            // NOTE 2 - maybe there are more predictable ways, but this will work anyway\n",
       "            //        - id should be number\n",
       "            visualizerIdOverride = Math.trunc(Math.random() * 100000000000)\n",
       "            addVisualizerToPage(trace, 'jma529bb3b-b880-4147-a3ca-9b3f33c9277a',{'embeddedMode' : false,\n",
       "                                             'visualizerIdOverride':visualizerIdOverride})  \n",
       "            \n",
       "            \n",
       "            // set overflow for pytuts - need to do in python as css \n",
       "            // does not allow parent selection\n",
       "            var pytuts = $('.pytutorVisualizer')\n",
       "            pytuts.closest('div.output_html.rendered_html.output_result')\n",
       "                    .css('overflow-x', 'visible')\n",
       "        \n",
       "            //pytuts.closest('div.output_html.rendered_html.output_result')\n",
       "            //      .css('background-color','red')                \n",
       "            \n",
       "        })()\n",
       "        </script>\n",
       "                \n",
       "                "
      ],
      "text/plain": [
       "<IPython.core.display.HTML object>"
      ]
     },
     "execution_count": 7,
     "metadata": {},
     "output_type": "execute_result"
    }
   ],
   "source": [
    "print(w)\n",
    "\n",
    "jupman.pytut()"
   ]
  },
  {
   "cell_type": "markdown",
   "metadata": {},
   "source": [
    "Per funzionare in Python Tutor devi mettere TUTTO il codice nella STESSA cella:"
   ]
  },
  {
   "cell_type": "code",
   "execution_count": 8,
   "metadata": {
    "scrolled": true
   },
   "outputs": [
    {
     "name": "stdout",
     "output_type": "stream",
     "text": [
      "3\n"
     ]
    },
    {
     "data": {
      "text/html": [
       "\n",
       "        <script src=\"../_static/js/pytutor-embed.bundle.min.js\" type=\"application/javascript\"></script>\n",
       "     \n",
       "        <script id=\"json-jm6c3e2a8e-c731-489c-971d-c99d203390b0\" type=\"application/json\" >\n",
       "            {\"trace\": [{\"globals\": {}, \"event\": \"step_line\", \"ordered_globals\": [], \"func_name\": \"<module>\", \"stack_to_render\": [], \"stdout\": \"\", \"heap\": {}, \"line\": 2}, {\"globals\": {\"w\": 3}, \"event\": \"step_line\", \"ordered_globals\": [\"w\"], \"func_name\": \"<module>\", \"stack_to_render\": [], \"stdout\": \"\", \"heap\": {}, \"line\": 3}, {\"globals\": {\"w\": 3}, \"event\": \"return\", \"ordered_globals\": [\"w\"], \"func_name\": \"<module>\", \"stack_to_render\": [], \"stdout\": \"3\\n\", \"heap\": {}, \"line\": 3}], \"code\": \" \\nw = 3\\nprint(w)\"}\n",
       "        </script>\n",
       "        <div id=\"jm6c3e2a8e-c731-489c-971d-c99d203390b0\" class=\"pytutorVisualizer\"> </div>\n",
       " \n",
       "        <style>\n",
       "        .vizLayoutTd {\n",
       "            background-color: #fff !important;\n",
       "        }\n",
       "\n",
       "        #pyStdout {            \n",
       "            min-height:25px;\n",
       "        }\n",
       "\n",
       "        /* 'Edit this code' link, hiding because replaces browser tab !!!*/\n",
       "        #editCodeLinkDiv {\n",
       "            display:none;  \n",
       "        }\n",
       "        </style>   \n",
       "                            \n",
       "        <script>\n",
       "        (function(){\n",
       "\n",
       "            var trace = JSON.parse(document.getElementById('json-jm6c3e2a8e-c731-489c-971d-c99d203390b0').innerHTML);                                        \n",
       "            // NOTE 1: id without #\n",
       "            // NOTE 2 - maybe there are more predictable ways, but this will work anyway\n",
       "            //        - id should be number\n",
       "            visualizerIdOverride = Math.trunc(Math.random() * 100000000000)\n",
       "            addVisualizerToPage(trace, 'jm6c3e2a8e-c731-489c-971d-c99d203390b0',{'embeddedMode' : false,\n",
       "                                             'visualizerIdOverride':visualizerIdOverride})  \n",
       "            \n",
       "            \n",
       "            // set overflow for pytuts - need to do in python as css \n",
       "            // does not allow parent selection\n",
       "            var pytuts = $('.pytutorVisualizer')\n",
       "            pytuts.closest('div.output_html.rendered_html.output_result')\n",
       "                    .css('overflow-x', 'visible')\n",
       "        \n",
       "            //pytuts.closest('div.output_html.rendered_html.output_result')\n",
       "            //      .css('background-color','red')                \n",
       "            \n",
       "        })()\n",
       "        </script>\n",
       "                \n",
       "                "
      ],
      "text/plain": [
       "<IPython.core.display.HTML object>"
      ]
     },
     "execution_count": 8,
     "metadata": {},
     "output_type": "execute_result"
    }
   ],
   "source": [
    "w = 3\n",
    "print(w)\n",
    "\n",
    "jupman.pytut()"
   ]
  },
  {
   "cell_type": "markdown",
   "metadata": {},
   "source": [
    "####  Python Tutor : Limitazione 2\n",
    "\n",
    "<div class=\"alert alert-warning\">\n",
    "\n",
    "**ATTENZIONE: Python Tutor usa solo funzioni dalla distribuzione standard di Python**\n",
    "\n",
    "Python Tutor va bene per ispezionare semplici algoritmi con funzioni di base di Python, se usi librerie fatte da terze parti non funzionerà.\n",
    "</div>\n",
    "\n",
    "Se usi qualche libreria tipo `numpy`, puoi provare **solo online** a selezionare `Python 3.6 with anaconda`\n",
    "\n",
    "![pytut-5-781302](img/pytut-5.jpg)\n"
   ]
  },
  {
   "cell_type": "markdown",
   "metadata": {},
   "source": [
    "## Architettura di Python\n",
    "\n",
    "La parte che segue non è strettamente fondamentale ai fini del libr, ma serve per capire cosa succede sotto il cofano quando esegui dei comandi.\n",
    "\n",
    "Torniamo a Jupyter: l'editor di notebook Jupyter è uno strumento molto potente e flessibile, permette di eseguire codice Python, ma non solo, anche codice scritto in altri linguaggi di programmazione  (R, Bash, etc)  e linguaggi di formattazione (Markdown, Latex, etc).\n",
    "\n",
    "Quindi dobbiamo tenere presente che il codice Python che scrivi nelle celle di questi notebook Jupyter (che sono file con estensione `.ipynb`) non viene certo magicamente compreso dal tuo computer. Sotto il cofano, vengono effettuate diverse trasformazioni che permettono al processore del tuo computer di capire che istruzioni vuoi che esegua. Riportiamo qua le principali trasformazioni che avvengono, a partire da Jupyter fino al processore:\n",
    "\n",
    "### Python è un linguaggio d'alto livello\n",
    "\n",
    "Cerchiamo di capire bene che succede quando esegui una cella:\n",
    "\n",
    "1. **codice sorgente**: Prima il notebook Jupyter guarda se hai scritto del _codice sorgente_ Python nella cella (invece che altri linguaggi come di programmazione come R, Bash o formattazione come Markdown ...). Di default Jupyter assume che il codice che stai scrivendo è Python. Supponiamo che ci sia il seguente codice:\n",
    "\n",
    "```python\n",
    "x = 3\n",
    "y = 5\n",
    "print(x + y)\n",
    "```\n",
    "\n",
    "**DA FARE**: Senza andare nel dettaglio del codice, prova a copia/incollarlo  nella cella qua sotto. Assicurandoti di avere il cursore nella cella, eseguila digitando `Control + Invio`. Quando la esegui dovrebbe apparire un `8` come risultato del calcolo. Il `# scrivi qui sotto` come tutte le righe che iniziano con un cancelletto `#` è solo un commento che verrà ignorato da Python:"
   ]
  },
  {
   "cell_type": "code",
   "execution_count": 9,
   "metadata": {},
   "outputs": [],
   "source": [
    "# scrivi qui sotto\n",
    "\n"
   ]
  },
  {
   "cell_type": "markdown",
   "metadata": {},
   "source": [
    "Se sei riuscito ad eseguire il codice, puoi fare i complimenti a Python! Ti ha permesso di eseguire un programma scritto in un linguaggio abbastanza compresibile _indipendentemente_ dal tuo sistema operativo (Windows, Mac Os X, Linux ...) e dal processore del tuo computer (x86, ARM, ...)! Non solo, l'editor di notebook Jupyter ti ha anche fatto la cortesia di mostrare il risultato nel tuo browser. \n"
   ]
  },
  {
   "cell_type": "markdown",
   "metadata": {},
   "source": [
    "\n",
    "Più in dettaglio, cos'è successo ? Vediamo meglio:\n",
    "\n",
    "2. **bytecode**: Al momento della richiesta d'esecuzione, Jupyter ha preso il testo scritto dalla cella, e lo ha mandato al cosidetto _compilatore Python_ che lo ha  trasformato in _bytecode_. Il  _bytecode_  è una sequenza di istruzioni  più lunga e meno comprensibile per noi umani (**è solo un esempio, non serve che lo capisci !!**):\n",
    "\n",
    "``` \n",
    "  2           0 LOAD_CONST               1 (3)\n",
    "              2 STORE_FAST               0 (x)\n",
    "\n",
    "  3           4 LOAD_CONST               2 (5)\n",
    "              6 STORE_FAST               1 (y)\n",
    "\n",
    "  4           8 LOAD_GLOBAL              0 (print)\n",
    "             10 LOAD_FAST                0 (x)\n",
    "             12 LOAD_FAST                1 (y)\n",
    "             14 BINARY_ADD\n",
    "```\n",
    "\n",
    "\n"
   ]
  },
  {
   "cell_type": "markdown",
   "metadata": {},
   "source": [
    "3. **codice macchina**: L'_interprete Python_ ha preso il _bytecode_ qua sopra una istruzione alla volta, e lo ha convertito in _codice macchina_, che può essere effettivamente compreso dal processore (CPU) del computer. A noi il _codice macchina_ può sembrare ancora più lungo e più brutto del _bytecode_, ma il processore è contento e leggendolo produce i risultati del programma. Esempio di _codice macchina_ (**è solo un esempio, non serve che lo capisci !!**):\n",
    "\n",
    "``` \n",
    "mult:\n",
    "\tpush rbp\n",
    "\tmov rbp, rsp\n",
    "\tmov eax, 0\n",
    "mult_loop:\n",
    "\tcmp edi, 0\n",
    "\tje mult_end\n",
    "\tadd eax, esi\n",
    "\tsub edi, 1\n",
    "\tjmp mult_loop\n",
    "mult_end:\n",
    "\tpop rbp\n",
    "\tret\n",
    "```"
   ]
  },
  {
   "cell_type": "markdown",
   "metadata": {},
   "source": [
    "\n",
    "Riportiamo quanto detto qua sopra in questa tabella. Nella tabella esplicitiamo anche l'estensione dei file in cui possiamo scrivere i vari formati del codice. \n",
    "\n",
    "- Quelle che interessano a noi sono i notebook Jupyter  `.ipynb` ed i file di codice sorgente Python `.py`\n",
    "- I `.pyc` possono venire generati dal compilatore quando legge i file `.py`, ma a noi non interessano - non avremo mai la necessità di editarli\n",
    "- Il codice macchina `asm` pure non ci interessa\n",
    "\n",
    "|   Strumento  | Linguaggio| File | esempio|\n",
    "|-----|-----------|---------|---|\n",
    "| Notebook Jupyter| Python| .ipynb||\n",
    "|    Compilatore Python | codice sorgente Python | .py |x = 3<br> y = 5<br> print(x + y )|\n",
    "|    Interprete Python | bytecode Python |  .pyc|12 LOAD_GLOBAL              0 (print)<br>15 LOAD_CONST               3 (8) |\n",
    "| Processore (CPU)    | Codice macchina| .asm |cmp edi, 0<br>je mult_end|\n",
    "\n",
    "\n",
    "\n",
    "Adesso che abbiamo un idea di quello che succede, possiamo forse capire meglio l'affermazione che _Python è un linguaggio d'alto livello_, cioè sta alto nella tabella qua sopra: quando scriviamo codice Python, non ci interessa per nulla del _byte code_ o del _codice macchina_ che viene generato, ma **possiamo concentrarci sulla logica del programma**. \n",
    "Inoltre, il codice Python che scriviamo è **indipendente dall'architettura dei pc**: se abbiamo un interprete Python installato su un computer, si prenderà cura lui di convertire il codice d'alto livello nel codice macchina particolare di quella architettura, che include sistema operativo (Windows / Mac Os X / Linux) e processore (x86, ARM, PowerPC, etc). \n",
    "\n"
   ]
  },
  {
   "cell_type": "markdown",
   "metadata": {},
   "source": [
    "### Performance\n",
    "\n",
    "Tutto ha un prezzo. Se vogliamo poter scrivere programmi concentrandoci sulla _logica ad alto livello_ senza entrare nei dettagli di come viene interpretato dal processore, dobbiamo tipicamente rinunciare alle _performance_. Python, essendo un linguaggio _interpretato_ ha il difetto di essere lento. Ma se abbiamo bisogno di efficienza,  che facciamo ? Per fortuna Python può essere esteso con codice scritto in _linguaggio C_, che tipicamente è molto più performante. Infatti, anche se non te ne accorgerai, tante delle funzionalità di Python sotto sotto sono state scritte direttamente nel veloce linguaggio C. Se proprio abbiamo bisogno di performance (ma non in questo corso!) può valer la pena prima scrivere un prototipo in Python e poi, una volta stabilito che funziona, compilarlo in _linguaggio C_ con [il compilatore Cython](http://cython.org/) e ottimizzare a mano il codice generato. \n",
    "\n"
   ]
  },
  {
   "cell_type": "markdown",
   "metadata": {},
   "source": [
    "\n",
    "## Oggetti\n",
    "\n",
    "Per Python qualunque cosa è un oggetto. Gli oggetti hanno **proprietà** (campi dove salvare valori) e **metodi** (cose che possono fare). Per esempio, un oggetto **auto** ha le _proprietà_  modello, marca, colore, numero di porte etc ..., e i _metodi_ sterza a destra, sterza a sinistra, accelera, frena, cambia marcia ...\n",
    "\n",
    "Secondo la documentazione ufficiale di Python:\n",
    "\n",
    "    \"Gli oggetti sono l'astrazione Python per i dati. Tutti i dati in un programma Python sono rappresentati da oggetti o da relazioni tra gli oggetti.\"\n",
    "\n",
    "\n",
    "Tutto quello che devi sapere per adesso è che gli oggetti Python hanno un **identificatore** (per es, il loro nome), un **tipo** (numeri, testo, collezioni, ...) e un **valore** (il dato attuale rappresentato dagli oggetti). Una volta che un'oggetto è stato creato l' _identificatore_ e il _tipo_ non cambiano mai, mentre il _valore_ può cambiare (**oggetti mutabili**) o rimanere costante (**oggetti immutabili**)).\n",
    "\n"
   ]
  },
  {
   "cell_type": "markdown",
   "metadata": {},
   "source": [
    "\n",
    "Python fornisce questi tipi predefiniti (_built-in_):\n",
    "\n",
    "\n",
    "\n",
    "|Tipo|Significato|Dominio|Mutabile?| \n",
    "|----|-----------|-------|---------|\n",
    "|`bool`|Condizione|`True`, `False`| no|\n",
    "|`int`|Intero|$\\mathbb{Z}$| no|\n",
    "|`long`|Intero|$\\mathbb{Z}$| no|\n",
    "|`float`|Razionale|$\\mathbb{Q}$ (più o meno)| no|\n",
    "|`str`|Testo|Testo| no|\n",
    "|`list`|Sequenza|Collezione di oggetti| sì|\n",
    "|`tuple`|Sequenza|Collezione di oggetti| no|\n",
    "|`dict`|Mappatura|Mappatura tra oggetti| sì|\n",
    "\n",
    "\n",
    "\n",
    "Per il momento guarderemo i più semplici, ma più avanti indagheremo più a fondo in tutti loro\n",
    "\n"
   ]
  },
  {
   "cell_type": "markdown",
   "metadata": {},
   "source": [
    "## Variabili\n",
    "\n",
    "Le variabili sono associazioni tra nomi e oggetti (possiamo anche chiamarli valori)\n",
    "\n",
    "Le variabili possono essere associate o in termine più tecnico _assegnate_ agli oggetti usando l'operatore di assegnazione `=`.\n",
    "\n",
    "L'istruzione"
   ]
  },
  {
   "cell_type": "code",
   "execution_count": 10,
   "metadata": {},
   "outputs": [],
   "source": [
    "lati = 4"
   ]
  },
  {
   "cell_type": "markdown",
   "metadata": {},
   "source": [
    "può rappresentare il numero di lati di un quadrato. Cosa succede quando l'eseguiamo in Python? \n",
    "\n",
    "- un oggetto è creato\n",
    "- il suo tipo è impostato a `int` (un numero intero)\n",
    "- il suo valore è impostato a 4\n",
    "- un nome `lati` è creato nell'ambiente corrente per puntare a quell'oggetto\n",
    "\n",
    "In questo modo dopo l'istruzione possiamo riutilizzare l'oggetto con il suo nome. Il tipo di un oggetto può essere ottenuto con la funzione `type()` "
   ]
  },
  {
   "cell_type": "code",
   "execution_count": 11,
   "metadata": {},
   "outputs": [
    {
     "name": "stdout",
     "output_type": "stream",
     "text": [
      "<class 'int'>\n"
     ]
    }
   ],
   "source": [
    "lati = 4\n",
    "print( type(lati) )"
   ]
  },
  {
   "cell_type": "markdown",
   "metadata": {},
   "source": [
    "Considera adesso il codice seguente:"
   ]
  },
  {
   "cell_type": "code",
   "execution_count": 12,
   "metadata": {},
   "outputs": [
    {
     "name": "stdout",
     "output_type": "stream",
     "text": [
      "valore: 4  type: <class 'int'>\n",
      "valore: 5  tipo: <class 'int'>\n"
     ]
    }
   ],
   "source": [
    "lati = 4  # un quadrato\n",
    "print (\"valore:\", lati, \" type:\", type(lati))\n",
    "lati = 5  # un pentagono\n",
    "print (\"valore:\", lati, \" tipo:\", type(lati))\n"
   ]
  },
  {
   "cell_type": "markdown",
   "metadata": {},
   "source": [
    "Il valore della variabile `lati` è stato cambiato da 4 a 5, ma come riportato nella tabella sopra, il tipo `int` è **immutabile**. Fortunatamente, questo non ci ha ostacolato nel cambiare il valore di `lati` da 4 a 5. Cosa è successo dietro le scene? Quando abbiamo eseguito le istruzioni `lati = 5`, un nuovo oggetto di tipo `int` è stato creato  (`5` è un intero) e quindi reso disponibile con lo stesso nome `lati`, ma dato che è un oggetto differente (l'intero `5`), puoi vedere che l'identificatore è differente. \n",
    "\n",
    "Nota: non devi preoccuparti di cosa accade dietro le scene, l'interprete Python si prenderà cura di questi aspetti tecnici per te, ma intanto hai un idea di cosa accade."
   ]
  },
  {
   "cell_type": "markdown",
   "metadata": {},
   "source": [
    "### Riusare una variabile\n",
    "\n",
    "Quando riassegni una variabile ad un'altro valore, per calcoare il nuovo valore puoi tranquillamente usare il valore vecchio della variabile che vuoi cambiare. Per esempio, supponi di avere la variabile"
   ]
  },
  {
   "cell_type": "code",
   "execution_count": 13,
   "metadata": {},
   "outputs": [],
   "source": [
    "fiori = 4"
   ]
  },
  {
   "cell_type": "markdown",
   "metadata": {},
   "source": [
    "e vuoi aumentare il numero di `fiori` corrente di uno. Puoi scrivere così:"
   ]
  },
  {
   "cell_type": "code",
   "execution_count": 14,
   "metadata": {},
   "outputs": [],
   "source": [
    "fiori = fiori + 1"
   ]
  },
  {
   "cell_type": "markdown",
   "metadata": {},
   "source": [
    "Cos'è successo? Quando Python incontra un comando con l'`=`, PRIMA calcola il valore dell'espressione che trova a destra dell'`=`, e POI assegna quel valore alla variabile che trova a sinistra dell'`=`. \n",
    "\n",
    "Dato quest'ordine, nell'espressione a destra viene usato il valore vecchio della variabile (in questo caso `4`) a cui viene sommato `1` per ottenere `5` che viene quindi assegnato a `fiori`:"
   ]
  },
  {
   "cell_type": "code",
   "execution_count": 15,
   "metadata": {},
   "outputs": [
    {
     "data": {
      "text/plain": [
       "5"
      ]
     },
     "execution_count": 15,
     "metadata": {},
     "output_type": "execute_result"
    }
   ],
   "source": [
    "fiori"
   ]
  },
  {
   "cell_type": "markdown",
   "metadata": {},
   "source": [
    "In modo del tutto equivalente, potremmo riscrivere il codice così, usando una variabile d'appoggio `x`. Vediamolo in Python Tutor:"
   ]
  },
  {
   "cell_type": "code",
   "execution_count": 16,
   "metadata": {},
   "outputs": [
    {
     "data": {
      "text/html": [
       "\n",
       "        <script src=\"../_static/js/pytutor-embed.bundle.min.js\" type=\"application/javascript\"></script>\n",
       "     \n",
       "        <script id=\"json-jm912644dd-479f-4440-995e-426d09d5ecbb\" type=\"application/json\" >\n",
       "            {\"trace\": [{\"globals\": {}, \"event\": \"step_line\", \"ordered_globals\": [], \"func_name\": \"<module>\", \"stack_to_render\": [], \"stdout\": \"\", \"heap\": {}, \"line\": 2}, {\"globals\": {\"fiori\": 4}, \"event\": \"step_line\", \"ordered_globals\": [\"fiori\"], \"func_name\": \"<module>\", \"stack_to_render\": [], \"stdout\": \"\", \"heap\": {}, \"line\": 4}, {\"globals\": {\"fiori\": 4, \"x\": 5}, \"event\": \"step_line\", \"ordered_globals\": [\"fiori\", \"x\"], \"func_name\": \"<module>\", \"stack_to_render\": [], \"stdout\": \"\", \"heap\": {}, \"line\": 6}, {\"globals\": {\"fiori\": 5, \"x\": 5}, \"event\": \"return\", \"ordered_globals\": [\"fiori\", \"x\"], \"func_name\": \"<module>\", \"stack_to_render\": [], \"stdout\": \"\", \"heap\": {}, \"line\": 6}], \"code\": \" \\nfiori = 4   \\n\\nx = fiori + 1\\n\\nfiori = x\"}\n",
       "        </script>\n",
       "        <div id=\"jm912644dd-479f-4440-995e-426d09d5ecbb\" class=\"pytutorVisualizer\"> </div>\n",
       " \n",
       "        <style>\n",
       "        .vizLayoutTd {\n",
       "            background-color: #fff !important;\n",
       "        }\n",
       "\n",
       "        #pyStdout {            \n",
       "            min-height:25px;\n",
       "        }\n",
       "\n",
       "        /* 'Edit this code' link, hiding because replaces browser tab !!!*/\n",
       "        #editCodeLinkDiv {\n",
       "            display:none;  \n",
       "        }\n",
       "        </style>   \n",
       "                            \n",
       "        <script>\n",
       "        (function(){\n",
       "\n",
       "            var trace = JSON.parse(document.getElementById('json-jm912644dd-479f-4440-995e-426d09d5ecbb').innerHTML);                                        \n",
       "            // NOTE 1: id without #\n",
       "            // NOTE 2 - maybe there are more predictable ways, but this will work anyway\n",
       "            //        - id should be number\n",
       "            visualizerIdOverride = Math.trunc(Math.random() * 100000000000)\n",
       "            addVisualizerToPage(trace, 'jm912644dd-479f-4440-995e-426d09d5ecbb',{'embeddedMode' : false,\n",
       "                                             'visualizerIdOverride':visualizerIdOverride})  \n",
       "            \n",
       "            \n",
       "            // set overflow for pytuts - need to do in python as css \n",
       "            // does not allow parent selection\n",
       "            var pytuts = $('.pytutorVisualizer')\n",
       "            pytuts.closest('div.output_html.rendered_html.output_result')\n",
       "                    .css('overflow-x', 'visible')\n",
       "        \n",
       "            //pytuts.closest('div.output_html.rendered_html.output_result')\n",
       "            //      .css('background-color','red')                \n",
       "            \n",
       "        })()\n",
       "        </script>\n",
       "                \n",
       "                "
      ],
      "text/plain": [
       "<IPython.core.display.HTML object>"
      ]
     },
     "execution_count": 16,
     "metadata": {},
     "output_type": "execute_result"
    }
   ],
   "source": [
    "\n",
    "fiori = 4   \n",
    "\n",
    "x = fiori + 1\n",
    "\n",
    "fiori = x\n",
    "\n",
    "jupman.pytut()"
   ]
  },
  {
   "cell_type": "markdown",
   "metadata": {},
   "source": [
    "\n",
    "### Cambiare il tipo durante l'esecuzione\n",
    "\n",
    "Puoi anche cambiare il tipo di una variabile durante l'esecuzione ma quello normalmente è una **cattiva idea**  perchè rende il codice più difficile da comprendere, e aumenta la probabilità di commettere errori. Facciamo un esempio:"
   ]
  },
  {
   "cell_type": "code",
   "execution_count": 17,
   "metadata": {},
   "outputs": [],
   "source": [
    "lati =  4        # intero"
   ]
  },
  {
   "cell_type": "code",
   "execution_count": 18,
   "metadata": {},
   "outputs": [
    {
     "data": {
      "text/plain": [
       "6"
      ]
     },
     "execution_count": 18,
     "metadata": {},
     "output_type": "execute_result"
    }
   ],
   "source": [
    "lati + 2"
   ]
  },
  {
   "cell_type": "code",
   "execution_count": 19,
   "metadata": {},
   "outputs": [],
   "source": [
    "lati = \"quattro\" # testo "
   ]
  },
  {
   "cell_type": "markdown",
   "metadata": {},
   "source": [
    "Adesso che `lati` è diventato testo, se per sbaglio proviamo a trattarlo come se fosse un numero avremo un errore !!\n",
    "\n",
    "```python\n",
    "lati + 2\n",
    "\n",
    "---------------------------------------------------------------------------\n",
    "TypeError                                 Traceback (most recent call last)\n",
    "<ipython-input-9-6124a47997d7> in <module>\n",
    "----> 1 lati + 2\n",
    "\n",
    "TypeError: can only concatenate str (not \"int\") to str\n",
    "\n",
    "```"
   ]
  },
  {
   "cell_type": "markdown",
   "metadata": {},
   "source": [
    "### Comandi multipli su una stessa linea\n",
    "\n",
    "E' possibile mettere più comandi su una stessa linea (non solo assegnazioni) separandoli da un punto e virgola `;`"
   ]
  },
  {
   "cell_type": "code",
   "execution_count": 20,
   "metadata": {},
   "outputs": [],
   "source": [
    "a = 10; b = a + 1; c = b + 2"
   ]
  },
  {
   "cell_type": "code",
   "execution_count": 21,
   "metadata": {},
   "outputs": [
    {
     "name": "stdout",
     "output_type": "stream",
     "text": [
      "10 11 13\n"
     ]
    }
   ],
   "source": [
    "print(a,b,c)"
   ]
  },
  {
   "cell_type": "markdown",
   "metadata": {},
   "source": [
    "<div class=\"alert alert-info\">\n",
    "\n",
    "**NOTA: I comandi multipli su stessa linea sono 'poco pythonici'**\n",
    "\n",
    "Per quanto volte utili e meno verbose che quelle con definizione esplicita, sono uno stile sconsigliato.\n",
    "\n",
    "</div>"
   ]
  },
  {
   "cell_type": "markdown",
   "metadata": {},
   "source": [
    "### Inizializzazioni multiple\n",
    "\n",
    "Cosa diversa sono le inizializzazioni multiple, separate da virgola `,` come:"
   ]
  },
  {
   "cell_type": "code",
   "execution_count": 22,
   "metadata": {},
   "outputs": [],
   "source": [
    "x,y = 5,7"
   ]
  },
  {
   "cell_type": "code",
   "execution_count": 23,
   "metadata": {},
   "outputs": [
    {
     "name": "stdout",
     "output_type": "stream",
     "text": [
      "5\n"
     ]
    }
   ],
   "source": [
    "print(x)"
   ]
  },
  {
   "cell_type": "code",
   "execution_count": 24,
   "metadata": {},
   "outputs": [
    {
     "name": "stdout",
     "output_type": "stream",
     "text": [
      "7\n"
     ]
    }
   ],
   "source": [
    "print(y)"
   ]
  },
  {
   "cell_type": "markdown",
   "metadata": {},
   "source": [
    "A differenza dei comandi multipli, le assegnazioni multiple sono uno stile più accettabile."
   ]
  },
  {
   "cell_type": "markdown",
   "metadata": {},
   "source": [
    "### Nomi di variabile\n",
    "\n",
    "<div class=\"alert alert-warning\">\n",
    "\n",
    "**NOTA IMPORTANTE:** \n",
    "\n",
    "Puoi scegliere il nome che preferisci per le tue variabili (consiglio di scegliere qualcosa che ci ricorda il loro significato), ma devi aderire a semplici regole:\n",
    "</div>\n",
    "\n",
    "1. I nome possono solo contenere  caratteri in maiuscolo/minuscolo (`A-Z`, `a-z`), numeri (`0-9`) o _underscore_ `_`\n",
    "2. I nomi non possono iniziare con un numero\n",
    "3. I nomi non possono essere uguali a parole riservate\n",
    "4. i nomi di variabile dovrebbero iniziare con lettera minuscola\n",
    "\n",
    "\n",
    "Parole riservate: \n",
    "\n",
    "![reserved keywords](img/keywords.png)\n",
    "\n"
   ]
  },
  {
   "cell_type": "markdown",
   "metadata": {},
   "source": [
    "### Da fare: nomi di variabile\n",
    "\n",
    "Per ciascuno dei nomi seguenti, prova a immaginare se è un valido _nome di variabile_ oppure no, e poi prova ad assegnarlo nella cella seguente\n",
    "\n",
    "\n",
    "1. `my-variable`\n",
    "2. `my_variable`\n",
    "3. `theCount`\n",
    "4. `the count`\n",
    "5. `some@var`\n",
    "6. `MacDonald`\n",
    "7. `7channel`\n",
    "8. `channel7`\n",
    "9. `stand.by`\n",
    "10. `channel45`\n",
    "11. `maybe3maybe`\n",
    "12. `\"ciao\"`\n",
    "13. `'hello'`\n",
    "14. `as`     PER FAVORE: CERCA DI CAPIRE LA DIFFERENZA *MOLTO IMPORTANTE* TRA QUESTO E I SEGUENTI DUE !!! \n",
    "15. `asino`\n",
    "16. `As`\n",
    "17. `lista`  PER FAVORE: CERCA DI COMPRENDERE LA DIFFERENZA *MOLTO IMPORTANTE* TRA QUESTO E I SEGUENTI DUE !!!\n",
    "18. `list`   NON PROVARE NEMMENO AD ASSEGNARE QUESTO NELL'INTERPRETE (SCRIVENDO PER ES `list = 5`), SE LO FAI DI FATTO RENDERAI LìINTERPRETE INUTILIZZABILE\n",
    "19. `List`\n",
    "20. `black&decker`\n",
    "21. `black & decker`\n",
    "22. `glab()`\n",
    "23. `caffè`  (NOTA LA è ACCENTATA `è` !)\n",
    "24. `):-]`\n",
    "25. `€zone` (NOTA IL SEGNO DELL'EURO)\n",
    "26. `some:pasta`\n",
    "27. `aren'tyouboredyet`\n",
    "28. `<angular>`\n",
    "\n",
    "\n",
    " "
   ]
  },
  {
   "cell_type": "code",
   "execution_count": 25,
   "metadata": {},
   "outputs": [],
   "source": [
    "# scrivi qui\n",
    "\n"
   ]
  },
  {
   "cell_type": "markdown",
   "metadata": {},
   "source": [
    "## Tipi numerici\n",
    "\n",
    "Abbiamo già menzionato che i numeri sono **oggetti immutabili**. Python fornisce diversi tipi numerici: interi (`int`), reali (`float`), booleani,  frazioni e numeri complessi.\n",
    "\n",
    "### Interi\n",
    "\n",
    "La gamma di valori che gli interi possono avere è limitata solo dalla memoria disponibile. Per lavorare con i numeri, Python fornisce anche degli operatori:"
   ]
  },
  {
   "cell_type": "code",
   "execution_count": 26,
   "metadata": {},
   "outputs": [
    {
     "data": {
      "text/plain": [
       "11"
      ]
     },
     "execution_count": 26,
     "metadata": {},
     "output_type": "execute_result"
    }
   ],
   "source": [
    "a = 7\n",
    "b = 4\n",
    "\n",
    "a + b"
   ]
  },
  {
   "cell_type": "code",
   "execution_count": 27,
   "metadata": {},
   "outputs": [
    {
     "data": {
      "text/plain": [
       "3"
      ]
     },
     "execution_count": 27,
     "metadata": {},
     "output_type": "execute_result"
    }
   ],
   "source": [
    "a - b  # 3"
   ]
  },
  {
   "cell_type": "code",
   "execution_count": 28,
   "metadata": {},
   "outputs": [
    {
     "data": {
      "text/plain": [
       "1"
      ]
     },
     "execution_count": 28,
     "metadata": {},
     "output_type": "execute_result"
    }
   ],
   "source": [
    "a // b # divisione intera: 1"
   ]
  },
  {
   "cell_type": "code",
   "execution_count": 29,
   "metadata": {},
   "outputs": [
    {
     "data": {
      "text/plain": [
       "28"
      ]
     },
     "execution_count": 29,
     "metadata": {},
     "output_type": "execute_result"
    }
   ],
   "source": [
    "a * b  # 28"
   ]
  },
  {
   "cell_type": "code",
   "execution_count": 30,
   "metadata": {},
   "outputs": [
    {
     "data": {
      "text/plain": [
       "2401"
      ]
     },
     "execution_count": 30,
     "metadata": {},
     "output_type": "execute_result"
    }
   ],
   "source": [
    "a ** b # potenza:  2401"
   ]
  },
  {
   "cell_type": "code",
   "execution_count": 31,
   "metadata": {},
   "outputs": [
    {
     "data": {
      "text/plain": [
       "1.75"
      ]
     },
     "execution_count": 31,
     "metadata": {},
     "output_type": "execute_result"
    }
   ],
   "source": [
    "a / b  # divisione 0.8333333333333334"
   ]
  },
  {
   "cell_type": "code",
   "execution_count": 32,
   "metadata": {},
   "outputs": [
    {
     "data": {
      "text/plain": [
       "float"
      ]
     },
     "execution_count": 32,
     "metadata": {},
     "output_type": "execute_result"
    }
   ],
   "source": [
    "type(a / b)"
   ]
  },
  {
   "cell_type": "markdown",
   "metadata": {},
   "source": [
    "Nota che nell'ultimo caso il risultato non è più un intero `int`, ma un `float` (vedremo meglio più in seguito)"
   ]
  },
  {
   "cell_type": "markdown",
   "metadata": {},
   "source": [
    "## Booleani \n",
    "\n",
    "**Riferimenti**:\n",
    "\n",
    "- [Pensare in Python, Capitolo 5, Istruzioni condizionali e ricorsione](https://davidleoni.github.io/ThinkPythonItalian/html/thinkpython2006.html) ,  in particolare [Sezioni 5.2 e 5.3, Espressioni booleane](https://davidleoni.github.io/ThinkPythonItalian/html/thinkpython2006.html#sec59) Puoi saltare la ricorsione\n",
    "- [Nicola Cassetta, Lezione 7,  Le istruzioni condizionali: if, else, elif](http://ncassetta.altervista.org/Tutorial_Python/Lezione_04.html)\n",
    "\n",
    "Questi oggetti sono usati nell'algebra booleana e hanno il tipo `bool`.\n",
    "\n",
    "I valori di verità sono rappresentati con le parole chiave `True` e `False` in Python: un oggetto booleano può solo avere i valori `True` e `False`.\n"
   ]
  },
  {
   "cell_type": "code",
   "execution_count": 33,
   "metadata": {},
   "outputs": [],
   "source": [
    "x = True"
   ]
  },
  {
   "cell_type": "code",
   "execution_count": 34,
   "metadata": {},
   "outputs": [
    {
     "data": {
      "text/plain": [
       "True"
      ]
     },
     "execution_count": 34,
     "metadata": {},
     "output_type": "execute_result"
    }
   ],
   "source": [
    "x"
   ]
  },
  {
   "cell_type": "code",
   "execution_count": 35,
   "metadata": {},
   "outputs": [
    {
     "data": {
      "text/plain": [
       "bool"
      ]
     },
     "execution_count": 35,
     "metadata": {},
     "output_type": "execute_result"
    }
   ],
   "source": [
    "type(x)"
   ]
  },
  {
   "cell_type": "code",
   "execution_count": 36,
   "metadata": {},
   "outputs": [],
   "source": [
    "y = False"
   ]
  },
  {
   "cell_type": "code",
   "execution_count": 37,
   "metadata": {},
   "outputs": [
    {
     "data": {
      "text/plain": [
       "bool"
      ]
     },
     "execution_count": 37,
     "metadata": {},
     "output_type": "execute_result"
    }
   ],
   "source": [
    "type(y)"
   ]
  },
  {
   "cell_type": "markdown",
   "metadata": {},
   "source": [
    "### Operatori booleani\n",
    "\n",
    "Possiamo operare sui valori booleani con gli operatori booleani `not`, `and`, `or`:"
   ]
  },
  {
   "cell_type": "code",
   "execution_count": 38,
   "metadata": {},
   "outputs": [
    {
     "name": "stdout",
     "output_type": "stream",
     "text": [
      "\n"
     ]
    }
   ],
   "source": [
    "# Espressione    Risultato\n",
    "not True         # False\n",
    "not False        # True\n",
    "\n",
    "False and False  # False\n",
    "False and True   # False\n",
    "True and False   # False\n",
    "True and True    # True\n",
    "\n",
    "False or False   # False\n",
    "False or True    # True\n",
    "True or False    # True\n",
    "True or True     # True\n",
    "\n",
    "print()"
   ]
  },
  {
   "cell_type": "markdown",
   "metadata": {},
   "source": [
    "### Booleani - Esercizio con costanti\n",
    "\n",
    "**DA FARE**: Per ciascuna delle seguenti espressioni booleane, prova a indovinare il risultato (_prima_ indovina, e _poi_ provale !):\n",
    "\n",
    "\n",
    "1.  ```python\n",
    "    not (True and False)\n",
    "    ```\n",
    "1.  ```python    \n",
    "    (not True) or (not (True or False))\n",
    "    ```\n",
    "1.  ```python\n",
    "    not (not True)\n",
    "    ```\n",
    "1.  ```python    \n",
    "    not (True and (False or True))\n",
    "    ```\n",
    "1.  ```python    \n",
    "    not (not (not False))\n",
    "    ```\n",
    "1.  ```python    \n",
    "    True and (not (not((not False) and True)))\n",
    "    ```\n",
    "1.  ```python    \n",
    "    False or (False or ((True and True) and (True and False)))\n",
    "    ```\n"
   ]
  },
  {
   "cell_type": "markdown",
   "metadata": {},
   "source": [
    "### Booleani -  Esercizio con variabili"
   ]
  },
  {
   "cell_type": "markdown",
   "metadata": {},
   "source": [
    "**DOMANDA**: Per ciascuna di queste espressioni, per quali valori di `x` e `y` danno `True`? Prova a pensare una risposta prima di provare !!!\n",
    "\n",
    "**NOTA**: ci possono essere più combinazioni che producono `True`, trovale tutte.\n",
    "\n",
    "1.  ```python\n",
    "    x or (not x)\n",
    "    ```\n",
    "1.  ```python\n",
    "    (not x) and (not y)\n",
    "    ```\n",
    "1.  ```python\n",
    "    x and (y or y)\n",
    "    ```\n",
    "1.  ```python\n",
    "    x and (not y)\n",
    "    ```\n",
    "1.  ```python\n",
    "    (not x) or  y\n",
    "    ```\n",
    "1.  ```python\n",
    "    y or not (y and x)\n",
    "    ```\n",
    "1.  ```python\n",
    "    x and ((not x) or not(y))\n",
    "    ```\n",
    "1.  ```python\n",
    "    (not (not x)) and not (x and y)\n",
    "    ```    \n",
    "1.  ```python\n",
    "    x and (x or (not(x) or not(not(x or not (x)))))\n",
    "    ```"
   ]
  },
  {
   "cell_type": "markdown",
   "metadata": {},
   "source": [
    "**DOMANDA**: Per ciascuna di queste espressioni, per quali valori di `x` e `y` danno `False` ?\n",
    "\n",
    "**NOTA**: ci possono essere più combiinazioni che producono `False`, trovale tutte\n",
    "\n",
    "1.  ```python\n",
    "    x or ((not y) or z)\n",
    "    ```\n",
    "1.  ```python\n",
    "    x or (not y) or (not z)\n",
    "    ```\n",
    "1.  ```python\n",
    "    not (x and y and (not z))\n",
    "    ```\n",
    "1.  ```python\n",
    "    not (x and (not y) and (x or z))\n",
    "    ```\n",
    "1.  ```python\n",
    "    y or ((x or y) and (not z))\n",
    "    ```"
   ]
  },
  {
   "cell_type": "markdown",
   "metadata": {},
   "source": [
    "### Booleani - Conversione\n",
    "\n",
    "Possiamo convertire booleani in interi con la funzione predefinita `int`. Ogni intero può essere convertito in un booleano (e vice versa) con `bool`:\n"
   ]
  },
  {
   "cell_type": "code",
   "execution_count": 39,
   "metadata": {},
   "outputs": [
    {
     "data": {
      "text/plain": [
       "True"
      ]
     },
     "execution_count": 39,
     "metadata": {},
     "output_type": "execute_result"
    }
   ],
   "source": [
    "bool(1)"
   ]
  },
  {
   "cell_type": "code",
   "execution_count": 40,
   "metadata": {},
   "outputs": [
    {
     "data": {
      "text/plain": [
       "False"
      ]
     },
     "execution_count": 40,
     "metadata": {},
     "output_type": "execute_result"
    }
   ],
   "source": [
    "bool(0)"
   ]
  },
  {
   "cell_type": "code",
   "execution_count": 41,
   "metadata": {},
   "outputs": [
    {
     "data": {
      "text/plain": [
       "True"
      ]
     },
     "execution_count": 41,
     "metadata": {},
     "output_type": "execute_result"
    }
   ],
   "source": [
    "bool(72)"
   ]
  },
  {
   "cell_type": "code",
   "execution_count": 42,
   "metadata": {},
   "outputs": [
    {
     "data": {
      "text/plain": [
       "True"
      ]
     },
     "execution_count": 42,
     "metadata": {},
     "output_type": "execute_result"
    }
   ],
   "source": [
    "bool(-5)"
   ]
  },
  {
   "cell_type": "code",
   "execution_count": 43,
   "metadata": {},
   "outputs": [
    {
     "data": {
      "text/plain": [
       "1"
      ]
     },
     "execution_count": 43,
     "metadata": {},
     "output_type": "execute_result"
    }
   ],
   "source": [
    "int(True)"
   ]
  },
  {
   "cell_type": "code",
   "execution_count": 44,
   "metadata": {},
   "outputs": [
    {
     "data": {
      "text/plain": [
       "0"
      ]
     },
     "execution_count": 44,
     "metadata": {},
     "output_type": "execute_result"
    }
   ],
   "source": [
    "int(False)"
   ]
  },
  {
   "cell_type": "markdown",
   "metadata": {},
   "source": [
    "Ogni intero è valutato a `True`, eccetto `0`. Nota che, i valori di verità `True` e `False` si comportano rispettivamente come gli interi `1` e `0`"
   ]
  },
  {
   "cell_type": "markdown",
   "metadata": {},
   "source": [
    "### Booleani - Esercizio - cos'è un booleano?\n",
    "\n",
    "**DOMANDA**: Per ciascuna di queste espressioni, che risultato produce?\n",
    "\n",
    "1.  ```python\n",
    "    bool(True)\n",
    "    ```\n",
    "1.  ```python\n",
    "    bool(False)\n",
    "    ```\n",
    "1.  ```python\n",
    "    bool(2 + 4)\n",
    "    ```\n",
    "\n",
    "1.  ```python\n",
    "    bool(4-3-1)\n",
    "    ```\n",
    "1.  ```python\n",
    "    int(4-3-1)\n",
    "    ```\n",
    "1.  ```python\n",
    "    True + True\n",
    "    ```\n",
    "1.  ```python\n",
    "    True + False\n",
    "    ```\n",
    "1.  ```python\n",
    "    True - True\n",
    "    ```\n",
    "1.  ```python\n",
    "    True * True\n",
    "    ```"
   ]
  },
  {
   "cell_type": "markdown",
   "metadata": {},
   "source": [
    "### Booleani - Ordine di valutazione\n",
    "\n",
    "\n",
    "Per questioni di efficienza, se durante la valutazione di un'espressione booleana Python scopre che il risultato possibile può essere solo uno, allora evita di calcolare le espressioni seguenti. Per esempio, in questa espressione:\n",
    "\n",
    "```python\n",
    "False and x\n",
    "```\n",
    "\n",
    "leggendo da sinistra a destra, nel momento in cui incontriamo `False` sappiamo già che il risultato della `and` sarà sempre `False` indipendentemente dal valore della `x` (convinciti). \n",
    "\n",
    "Se invece leggendo da sinistra a destra Python trova prima `True`, continua la valutazione delle espressioni seguenti _e come risultato dell'intera_ `and` _restituisce la valutazione dell'_ ***ultima*** _espressione_. Se usiamo sempre booleani, non ci accorgeremo delle differenze, ma cambiando tipi potremmo ottenere delle sorprese:"
   ]
  },
  {
   "cell_type": "code",
   "execution_count": 45,
   "metadata": {},
   "outputs": [
    {
     "data": {
      "text/plain": [
       "5"
      ]
     },
     "execution_count": 45,
     "metadata": {},
     "output_type": "execute_result"
    }
   ],
   "source": [
    "True and 5"
   ]
  },
  {
   "cell_type": "code",
   "execution_count": 46,
   "metadata": {},
   "outputs": [
    {
     "data": {
      "text/plain": [
       "True"
      ]
     },
     "execution_count": 46,
     "metadata": {},
     "output_type": "execute_result"
    }
   ],
   "source": [
    "5 and True"
   ]
  },
  {
   "cell_type": "code",
   "execution_count": 47,
   "metadata": {},
   "outputs": [
    {
     "data": {
      "text/plain": [
       "False"
      ]
     },
     "execution_count": 47,
     "metadata": {},
     "output_type": "execute_result"
    }
   ],
   "source": [
    "False and 5"
   ]
  },
  {
   "cell_type": "code",
   "execution_count": 48,
   "metadata": {},
   "outputs": [
    {
     "data": {
      "text/plain": [
       "False"
      ]
     },
     "execution_count": 48,
     "metadata": {},
     "output_type": "execute_result"
    }
   ],
   "source": [
    "5 and False"
   ]
  },
  {
   "cell_type": "markdown",
   "metadata": {},
   "source": [
    "Pensiamo a quale può essere l'ordine di valutazione nella `or`. Guarda l'espressione:\n",
    "\n",
    "```python\n",
    "True or x\n",
    "```\n",
    "\n",
    "leggendo da sinistra a destra, appena troviamo il `True` possiamo stabilire che il risultato di tutta la `or` dovrà essere `True` indipendentemente dal valore di `x` (convinciti).\n",
    "\n",
    "Se invece il primo valore è `False`, Python continuerà la valutazione finchè trova un valore logico `True`, quando questo accade quel valore sarà il risultato dell'intera espressione. Ce ne possiamo accorgere se usiamo costanti diverse da `True` e da `False`:"
   ]
  },
  {
   "cell_type": "code",
   "execution_count": 49,
   "metadata": {},
   "outputs": [
    {
     "data": {
      "text/plain": [
       "5"
      ]
     },
     "execution_count": 49,
     "metadata": {},
     "output_type": "execute_result"
    }
   ],
   "source": [
    "False or 5"
   ]
  },
  {
   "cell_type": "code",
   "execution_count": 50,
   "metadata": {},
   "outputs": [
    {
     "data": {
      "text/plain": [
       "7"
      ]
     },
     "execution_count": 50,
     "metadata": {},
     "output_type": "execute_result"
    }
   ],
   "source": [
    "7 or False"
   ]
  },
  {
   "cell_type": "code",
   "execution_count": 51,
   "metadata": {},
   "outputs": [
    {
     "data": {
      "text/plain": [
       "3"
      ]
     },
     "execution_count": 51,
     "metadata": {},
     "output_type": "execute_result"
    }
   ],
   "source": [
    "3 or True"
   ]
  },
  {
   "cell_type": "markdown",
   "metadata": {},
   "source": [
    "I numeri che vedi hanno sempre un risultato logico coerente con le operazioni fatte, cioè se vedi `0` si intende che il risultato dell'espressione abbia valore logico `False` e se vedi un numero diverso da `0` il risultato si intende `True` (convinciti)"
   ]
  },
  {
   "cell_type": "markdown",
   "metadata": {},
   "source": [
    "**DOMANDA**: Guarda le espressioni seguenti, e per ciascuna cerca di indovinare quale risultato produce:\n",
    "\n",
    "1.  ```python\n",
    "    0 and True\n",
    "    ```\n",
    "1.  ```python\n",
    "    1 and 0\n",
    "    ```\n",
    "1.  ```python\n",
    "    True and -1\n",
    "    ```    \n",
    "1.  ```python\n",
    "    0 and False\n",
    "    ```    \n",
    "1.  ```python\n",
    "    0 or False\n",
    "    ```        \n",
    "1.  ```python\n",
    "    0 or 1\n",
    "    ```\n",
    "1.  ```python\n",
    "    False or -6\n",
    "    ```    \n",
    "1.  ```python\n",
    "    0 or True\n",
    "    ```       "
   ]
  },
  {
   "cell_type": "markdown",
   "metadata": {},
   "source": [
    "### Booleani - errori nella valutazione\n",
    "\n",
    "Cosa succede se un'espressione booleana contiene del codice che genererebbe un errore? Intuitivamente, il programma dovrebbe terminare, ma non è sempre così.\n",
    "\n",
    "Proviamo a generare di proposito un errore. Come ti avranno sicuramente detto più e più volte alle lezioni di matematica, provare a dividere un numero per zero è un errore perchè il risultato è indeterminato. Quindi se proviamo a chiedere a Python il risultato di `1/0` otterremo prevedibilmente lamentele:"
   ]
  },
  {
   "cell_type": "markdown",
   "metadata": {},
   "source": [
    "```python\n",
    "print(1/0)\n",
    "print('dopo')\n",
    "\n",
    "---------------------------------------------------------------------------\n",
    "ZeroDivisionError                         Traceback (most recent call last)\n",
    "<ipython-input-51-9e1622b385b6> in <module>()\n",
    "----> 1 1/0\n",
    "\n",
    "ZeroDivisionError: division by zero\n",
    "\n",
    "```"
   ]
  },
  {
   "cell_type": "markdown",
   "metadata": {},
   "source": [
    "Nota che `'dopo'` _non_  viene stampato perchè il programma si interrompe prima.\n",
    "\n",
    "E se proviamo a scrivere così, cosa otteniamo?"
   ]
  },
  {
   "cell_type": "code",
   "execution_count": 52,
   "metadata": {},
   "outputs": [
    {
     "data": {
      "text/plain": [
       "False"
      ]
     },
     "execution_count": 52,
     "metadata": {},
     "output_type": "execute_result"
    }
   ],
   "source": [
    "False and 1/0"
   ]
  },
  {
   "cell_type": "markdown",
   "metadata": {},
   "source": [
    "Python produce un risultato senza lamentarsi !  Questo accade perchè valutando da sinistra a destra ha incontrato un `False` e ha quindi concluso in anticipo che il risultato dell'espressione deve essere `False`. Molte volte non ti accorgerai di questi potenziali problemi ma è bene conoscerli perchè vi sono situazioni in cui puoi  persino sfruttare l'ordine di esecuzione per prevenire errori (per esempio negli `if` e `while` che vedremo in seguito)."
   ]
  },
  {
   "cell_type": "markdown",
   "metadata": {},
   "source": [
    "**DOMANDA**: Guarda le espressioni seguenti, e per ciascuna cerca di indovinare quale risultato produce:\n",
    "\n",
    "1.  ```python\n",
    "    True and 1/0\n",
    "    ```\n",
    "1.  ```python\n",
    "    1/0 and 1/0\n",
    "    ```        \n",
    "1.  ```python\n",
    "    False or 1/0\n",
    "    ```\n",
    "1.  ```python\n",
    "    True or 1/0\n",
    "    ```\n",
    "1.  ```python\n",
    "    1/0 or True\n",
    "    ```    \n",
    "1.  ```python\n",
    "    1/0 or 1/0\n",
    "    ```    "
   ]
  },
  {
   "cell_type": "markdown",
   "metadata": {},
   "source": [
    "## Operatori numerici"
   ]
  },
  {
   "cell_type": "markdown",
   "metadata": {},
   "source": [
    "I comparatori numerici sono operatori che ritornano un valore booleano. Qua ci sono degli esempi:\n",
    "\n",
    "|Comparatore|Descrizione|\n",
    "|-----------|-----------|\n",
    "|`a == b`| `True` se e solo se a = b|\n",
    "|`a != b`| `True` se e solo se a $\\neq$ b|\n",
    "|`a < b`| `True` se e solo se a < b|\n",
    "|`a > b`| `True` se e solo se a > b|\n",
    "|`a <= b`| `True` se e solo se a $\\leq$ b|\n",
    "|`a >= b`| `True` se e solo se a $\\geq$ b|\n",
    "\n"
   ]
  },
  {
   "cell_type": "markdown",
   "metadata": {},
   "source": [
    "**Esempio**: Data una variabile `a = 10` e una variabile `b = 77`, proviamo a scambiare i loro valori (i.e. alla fine `a` sarà uguale a `77` e `b` a `10`). Verifichiame anche i valori all'inizio e alla fine."
   ]
  },
  {
   "cell_type": "code",
   "execution_count": 53,
   "metadata": {},
   "outputs": [
    {
     "name": "stdout",
     "output_type": "stream",
     "text": [
      "a:  10  b: 77\n",
      "è uguale a 10? True\n",
      "è uguale a 77? True\n",
      "\n",
      "a:  77  b: 10\n",
      "è uguale a 10? False\n",
      "è uguale a 77? True\n",
      "è uguale a 10? True\n",
      "è uguale a 77? False\n"
     ]
    }
   ],
   "source": [
    "a = 10\n",
    "b = 77\n",
    "print(\"a: \", a, \" b:\", b)\n",
    "print(\"è uguale a 10?\", a == 10)\n",
    "print(\"è uguale a 77?\", b == 77)\n",
    "\n",
    "tmp = b  # dobbiamo salvare il valore di b\n",
    "b = a    # abbiamo sovrascritto il precedente valore che era in b\n",
    "a = tmp  # così possiamo prendere il vecchio valore di b\n",
    "\n",
    "print()\n",
    "print(\"a: \", a, \" b:\", b)\n",
    "print(\"è uguale a 10?\", a == 10)\n",
    "print(\"è uguale a 77?\", a == 77)\n",
    "print(\"è uguale a 10?\", b == 10)\n",
    "print(\"è uguale a 77?\", b == 77)\n",
    "\n"
   ]
  },
  {
   "cell_type": "markdown",
   "metadata": {},
   "source": [
    "### Operatori numerici - ciclare\n",
    "\n",
    "Scrii un programma che date tre variabili con i numeri `a`, `b`, `c`, cicla i valori, cioè, mette il valore di `a` in `b`, il valore di `b` in `c`, e alla fine il valore di `c` in `a`.\n",
    "\n",
    "Perciò se hai iniziato così:\n",
    "\n",
    "\n",
    "```python\n",
    "a = 4\n",
    "b = 7\n",
    "c = 9\n",
    "```\n",
    "\n",
    "Dopo il codice che scriverai tu, eseguendo questo:\n",
    "\n",
    "```python\n",
    "print(a)\n",
    "print(b)\n",
    "print(c)\n",
    "```\n",
    "\n",
    "Dovresti vedere:\n",
    "```\n",
    "9\n",
    "4\n",
    "7\n",
    "```\n",
    "\n",
    "Ci sono vari modi di farlo, prova ad usare **solo una** variabile temporanea e fai attenzione a non perdere i valori !\n",
    "\n",
    "\n",
    "**SUGGERIMENTO**: per aiutarti, scrivi i commenti sullo stato della memoria, e pensa a quale comando usare.\n",
    "\n",
    "\n",
    "```python\n",
    "# a b c t    di quale comando ho bisogno?\n",
    "# 4 7 9 \n",
    "# 4 7 9 7    t = b\n",
    "# \n",
    "#\n",
    "#\n",
    "```\n"
   ]
  },
  {
   "cell_type": "code",
   "execution_count": 54,
   "metadata": {},
   "outputs": [
    {
     "name": "stdout",
     "output_type": "stream",
     "text": [
      "4\n",
      "7\n",
      "9\n"
     ]
    }
   ],
   "source": [
    "\n",
    "a = 4\n",
    "b = 7\n",
    "c = 9\n",
    "\n",
    "# scrivi qui\n",
    "\n",
    "\n",
    "print(a)\n",
    "print(b)\n",
    "print(c)\n",
    "\n"
   ]
  },
  {
   "cell_type": "code",
   "execution_count": 55,
   "metadata": {},
   "outputs": [
    {
     "name": "stdout",
     "output_type": "stream",
     "text": [
      "9\n",
      "4\n",
      "7\n"
     ]
    }
   ],
   "source": [
    "# SOLUZIONE\n",
    "\n",
    "a = 4\n",
    "b = 7\n",
    "c = 9\n",
    "\n",
    "\n",
    "# a b c t  which command do I need?\n",
    "# 4 7 9\n",
    "# 4 7 9 7  t = b\n",
    "# 4 4 9 7  b = a\n",
    "# 9 4 9 7  a = c\n",
    "# 9 4 7 7  c = t\n",
    "\n",
    "\n",
    "t = b\n",
    "b = a\n",
    "a = c\n",
    "c = t\n",
    "\n",
    "print(a)\n",
    "print(b)\n",
    "print(c)\n",
    "\n"
   ]
  },
  {
   "cell_type": "code",
   "execution_count": 56,
   "metadata": {},
   "outputs": [],
   "source": [
    "# SOLUZIONE\n",
    "\n"
   ]
  },
  {
   "cell_type": "markdown",
   "metadata": {},
   "source": [
    "## Numeri reali\n",
    "\n",
    "Python salva i numeri reali (numeri in virgola mobile) in 64 bit di informazione divisi insegno, esponente e mantissa.\n",
    "\n",
    "**DA FARE:**\n",
    "\n",
    "Calcola l'area del cerchio al centro di un pallone da calcio (raggio = 9.15m), ricordandoti che  $area= Pi*R^2$ (come operatore per la potenza, usa `**`):"
   ]
  },
  {
   "cell_type": "code",
   "execution_count": 57,
   "metadata": {},
   "outputs": [
    {
     "name": "stdout",
     "output_type": "stream",
     "text": [
      "263.02199094102605\n"
     ]
    }
   ],
   "source": [
    "# SOLUZIONE\n",
    "\n",
    "r = 9.15\n",
    "pi = 3.1415926536\n",
    "area = pi*(r**2)\n",
    "print(area)"
   ]
  },
  {
   "cell_type": "markdown",
   "metadata": {},
   "source": [
    "Nota che le parentesi intorno al `r**2` non sono necessarie perchè l'operatore `**` ha la precedenza, ma personalmente ritengo aiutino la leggibilità del codice.\n",
    "\n",
    "Ricordiamo qua la precedenza degli operatori:"
   ]
  },
  {
   "cell_type": "markdown",
   "metadata": {},
   "source": [
    "|Operatore|Descrizione|\n",
    "|---------|-----------|\n",
    "|`**`|Potenza (massima precedenza)|\n",
    "|`+` `-`| Più e meno unari|\n",
    "|`*` `/` `//` `%`|Moltiplicazione, divisione, divisione intera, modulo|\n",
    "|`+` `-`| Addizione e sottrazione|\n",
    "|`<=` `<` `>` `>=`| Operatori di comparazione|\n",
    "|`==` `!=` | Operatori di uguaglianza|\n",
    "|`not` `or` `and`|Operatori logici (minima precedenza)|"
   ]
  },
  {
   "cell_type": "markdown",
   "metadata": {},
   "source": [
    "### Numeri reali - esercizio - equazione quadratica\n",
    "\n",
    "Calcola gli zero dell'equazione $ax^2-b = 0$ dove  `a = 10` e `b = 1`. \n",
    "\n",
    "Suggerimento: usa `math.sqrt` oppure `** 0.5`. Alla fine controlla che sostituendo il valore ottenuto di `x` nell'equazione si ottenga effettivamente zero.\n"
   ]
  },
  {
   "cell_type": "code",
   "execution_count": 58,
   "metadata": {
    "scrolled": true
   },
   "outputs": [
    {
     "name": "stdout",
     "output_type": "stream",
     "text": [
      "10x**2 - 1 = 0 for x: 0.31622776601683794\n",
      "x è una soluzione? True\n"
     ]
    }
   ],
   "source": [
    "# SOLUZIONE\n",
    "\n",
    "import math\n",
    "\n",
    "A = 10\n",
    "B = 1\n",
    "\n",
    "x = math.sqrt(B/A)\n",
    "\n",
    "print(\"10x**2 - 1 = 0 for x:\", x)\n",
    "print(\"x è una soluzione?\", 10*x**2 -1 == 0)"
   ]
  },
  {
   "cell_type": "code",
   "execution_count": null,
   "metadata": {},
   "outputs": [],
   "source": []
  }
 ],
 "metadata": {
  "celltoolbar": "Edit Metadata",
  "kernelspec": {
   "display_name": "Python 3",
   "language": "python",
   "name": "python3"
  },
  "language_info": {
   "codemirror_mode": {
    "name": "ipython",
    "version": 3
   },
   "file_extension": ".py",
   "mimetype": "text/x-python",
   "name": "python",
   "nbconvert_exporter": "python",
   "pygments_lexer": "ipython3",
   "version": "3.5.2"
  },
  "toc": {
   "base_numbering": 1,
   "nav_menu": {},
   "number_sections": false,
   "sideBar": true,
   "skip_h1_title": false,
   "title_cell": "Table of Contents",
   "title_sidebar": "Contents",
   "toc_cell": false,
   "toc_position": {},
   "toc_section_display": true,
   "toc_window_display": true
  }
 },
 "nbformat": 4,
 "nbformat_minor": 2
}
