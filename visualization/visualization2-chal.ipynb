{
 "cells": [
  {
   "cell_type": "markdown",
   "id": "major-alliance",
   "metadata": {},
   "source": [
    "# Visualizzazione 2 - Challenge"
   ]
  },
  {
   "cell_type": "markdown",
   "id": "spanish-notion",
   "metadata": {},
   "source": [
    "\n",
    "## Il protosincrotrone\n",
    "\n",
    "✪✪ Requisiti: matplotlib, strutture varie\n",
    "\n",
    "♫ Plottiam ♫ Plottiam ♫ ! In un recente esperimento svolto in collaborazione  tra il CERN e la NASA abbiamo raccolto un sacco di dati.\n",
    "\n",
    "Si tratta di punti nello spazio che ci segnalano come i bosoni bi-gravitazionali interagiscono con le stringhe di campo finito per comporre il flusso canalizzatore della tarapia tapioca.\n",
    "\n",
    "Ogni scienziato che partecipava all'esperimento ha usato un formato diverso per i dati, ma l'idea di fondo è sempre la stessa:"
   ]
  },
  {
   "cell_type": "markdown",
   "id": "prepared-prague",
   "metadata": {},
   "source": [
    "```python\n",
    "    [[1, 10], [0, 0]]\n",
    "```\n",
    "\n",
    "rappresenta\n",
    "\n",
    "```\n",
    "           x   y\n",
    "    punto1(1,  0)\n",
    "    punto2(10, 0)\n",
    "```\n",
    "\n",
    "e similmente per le altre strutture.\n",
    "\n",
    "```python\n",
    "([4, 4], [0, 4])\n",
    "```\n",
    "\n",
    "```    \n",
    "           x  y\n",
    "    punto1(4, 0)\n",
    "    punto2(4, 4)\n",
    "```\n"
   ]
  },
  {
   "cell_type": "markdown",
   "id": "perfect-verification",
   "metadata": {},
   "source": [
    "\n",
    "Matplotlib ci mette a disposizione una funzione per  plottare segmenti definiti per punti:\n",
    "\n",
    "`plt.plot(lista di x, lista di y)`\n",
    "\n",
    "1. prova a chiamare plot tante volte, una per ciascun segmento da visualizzare - noterai che ogni segmento verrà mostrato di un colore casuale diverso.\n",
    "2. prova a chiamare plot una sola volta per plottare tutti i punti in un colpo solo, dovresti ottenere una linea spezzata dello stesso colore."
   ]
  },
  {
   "cell_type": "code",
   "execution_count": 10,
   "id": "scenic-aside",
   "metadata": {},
   "outputs": [],
   "source": [
    "\n",
    "import matplotlib \n",
    "import matplotlib.pyplot as plt\n",
    "\n",
    "# Questi sono i dati raccolti dai vari laboratori\n",
    "part1 = [[1, 10], [0, 0]]\n",
    "part2 = ([4, 4], [0, 4])\n",
    "part3 = {\"x\": [8, 8], \"y\": [0, 4]}\n",
    "more_parts = {\n",
    "    \"part4\":[[4, 8], [4, 4]],\n",
    "    \"part5\":[[4, 6], [4, 6]],\n",
    "    \"part6\":[[8, 6], [4, 6]]\n",
    "}\n",
    "\n",
    "# scrivi qui sotto\n",
    "\n"
   ]
  },
  {
   "cell_type": "code",
   "execution_count": 2,
   "id": "mature-charlotte",
   "metadata": {
    "nbsphinx": "hidden"
   },
   "outputs": [],
   "source": []
  },
  {
   "cell_type": "markdown",
   "id": "received-personality",
   "metadata": {},
   "source": [
    "## Fake science\n",
    "\n",
    "✪✪ Requisiti: matplotlib, random, strutture varie\n",
    "\n",
    "Come ogni scienziato che non si rispetti sa, quando i dati degli esperimenti non tornano è il momento di inventarsi i dati.\n",
    "\n",
    "Per creare grafici più credibili proviamo a generare due sequenze di punti casuali utilizzando la libreria `random`, e poi proviamo a plottare questi punti.\n",
    "\n",
    "- ogni sequenza deve avere almeno 200 punti\n",
    "- per avere un risultato più interessante proviamo a  vedere sequenze di punti estratti da distribuzioni statistiche differenti: UNIFORM e EXPOVARIATE\n",
    "- riesci a plottare le sequenze ordinate?\n",
    "\n",
    "**SUGGERIMENTO**: `random` mette già a disposizione dei metodi per fare sampling da distribuzioni."
   ]
  },
  {
   "cell_type": "code",
   "execution_count": 11,
   "id": "complete-steering",
   "metadata": {},
   "outputs": [
    {
     "data": {
      "image/png": "[encoded data removed]",
      "text/plain": [
       "<Figure size 432x288 with 1 Axes>"
      ]
     },
     "metadata": {
      "needs_background": "light"
     },
     "output_type": "display_data"
    }
   ],
   "source": [
    "import matplotlib \n",
    "import matplotlib.pyplot as plt\n",
    "import random\n",
    "\n",
    "# scrivi qui\n",
    "\n"
   ]
  },
  {
   "cell_type": "code",
   "execution_count": 9,
   "id": "presidential-privacy",
   "metadata": {
    "nbsphinx": "hidden"
   },
   "outputs": [],
   "source": []
  }
 ],
 "metadata": {
  "kernelspec": {
   "display_name": "Python 3",
   "language": "python",
   "name": "python3"
  },
  "language_info": {
   "codemirror_mode": {
    "name": "ipython",
    "version": 3
   },
   "file_extension": ".py",
   "mimetype": "text/x-python",
   "name": "python",
   "nbconvert_exporter": "python",
   "pygments_lexer": "ipython3",
   "version": "3.7.10"
  },
  "toc": {
   "base_numbering": 1,
   "nav_menu": {},
   "number_sections": false,
   "sideBar": true,
   "skip_h1_title": false,
   "title_cell": "Table of Contents",
   "title_sidebar": "Contents",
   "toc_cell": false,
   "toc_position": {},
   "toc_section_display": true,
   "toc_window_display": false
  }
 },
 "nbformat": 4,
 "nbformat_minor": 5
}
