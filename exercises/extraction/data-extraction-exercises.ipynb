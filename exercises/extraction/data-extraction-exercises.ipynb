{
 "cells": [
  {
   "cell_type": "markdown",
   "metadata": {},
   "source": [
    "# Estrazione dati: esercizi"
   ]
  },
  {
   "attachments": {},
   "cell_type": "markdown",
   "metadata": {},
   "source": [
    "\n",
    "## Obbiettivi\n",
    "\n",
    "0. Chiedersi se ne vale la pena\n",
    "1. Analizzare l'HTML da una pagina del sito `visittrentino.info`, usando la libreria Python BeautifulSoup 4.\n",
    "2. Per ogni evento, estrarre nome, data, luogo, tipo, descrizione e metterli un una lista di dizionari Python così:\n",
    "\n",
    "```python\n",
    "[{'data': '14/12/2017',\n",
    "  'descrizione': 'Al Passo Costalunga sfida tra i migliori specialisti del mondo',\n",
    "  'luogo': 'Passo Costalunga',\n",
    "  'nome': 'Coppa del Mondo di Snowboard',\n",
    "  'tipo': 'Sport, TOP EVENTI SPORT'},\n",
    " {'data': '18/12/2017',\n",
    "  'descrizione': 'Lunedì 18 dicembre la Coppa Europa fa tappa in Val di Fassa',\n",
    "  'luogo': 'Pozza di Fassa',\n",
    "  'nome': 'Coppa Europa di sci alpino maschile - slalom speciale',\n",
    "  'tipo': 'Sport, TOP EVENTI SPORT'},\n",
    "  ....\n",
    "]\n",
    "```\n",
    "3. Scrivere un file CSV `eventi.csv` usando la lista di dizionari generata al punto precedente.\n"
   ]
  },
  {
   "cell_type": "markdown",
   "metadata": {},
   "source": [
    "## 1. Guardiamo l'html\n",
    "\n",
    "Indipendentemente dalla domanda posta al punto precedente, per fini didattici proseguiremo con lo _scraping_ html.\n",
    "\n",
    "All'interno dello zip degli esercizi, c'è un file chiamato [eventi.html](eventi.html). Dopo aver scompattato lo zip, apri il file nel tuo browser.\n",
    "\n",
    "<div class=\"alert alert-warning\">\n",
    "\n",
    "**IMPORTANTE: usa solo il file eventi.html nella cartella del progetto Jupyter!**\n",
    "\n",
    "Il file [eventi.html](eventi.html) è stato salvato nel 2017 ed  è un po' più brutto da vedere della versione online sul sito di visttrentino (mancano immagini, etc). Se sei curioso di provare [quella online](https://www.visittrentino.info/it/guida/eventi), per vedere gli eventi come lista ricordati di cliccare sulla relativa icona:\n",
    "\n",
    "![](trentino-eventi.png)\n",
    "\n",
    "</div>\n",
    "\n",
    "**✪ 1.1 DA FARE**: Dopo aver aperto il file nel browser, visualizza l'HTML all'interno (premendo per es `Ctrl+U` in Firefox/Chrome/Safari). Familiarizzati un po' con il file sorgente, cercando all'interno alcuni valori del primo evento , come per esempio il nome `Coppa del Mondo di Snowboard`, la data `14/12/2017`, il luogo `Passo Costalunga`, il tipo `Sport, TOP EVENTI SPORT`, e la descrizione `Al Passo Costalunga sfida tra i migliori specialisti del mondo`.\n",
    "\n",
    "**NOTA 1**: Per questo esercizio e tutti i seguenti, usa solo il file [eventi.html](eventi.html) indicato, NON usare l'html dalla [versione live](https://www.visittrentino.info/it/guida/eventi) proveniente dalla  di visittrentino, che può essere soggetta a cambiamenti !   \n",
    "\n",
    "**NOTA 2**: Evita di usare il browser Internet Explorer, in alternativa cerca di usare uno tra i seguenti (in quest'ordine): Firefox, Chrome, Safari.  \n",
    "\n",
    "Per maggiori informazioni sul formato XML, di cui l'HTML è una incarnazione, puoi consultare il libro Immersione in Python [al capitolo 12](http://gpiancastelli.altervista.org/dip3-it/xml.html), \n",
    "\n"
   ]
  },
  {
   "cell_type": "markdown",
   "metadata": {},
   "source": [
    "## 2. Estrazione con BeautifulSoup\n",
    "\n",
    "Installiamo le librerie `beautifulsoup4` e il parser `lxml`:\n",
    "\n",
    "- Anaconda: \n",
    "    * `conda install beautifulsoup4`\n",
    "    * `conda install lxml`\n",
    "- Linux/Mac (`--user` installa nella propria home): \n",
    "    * `python3 -m pip install --user beautifulsoup4`\n",
    "    * `python3 -m pip install --user lxml`\n",
    "\n",
    "#### I parser\n",
    "\n",
    "Quanto installato sopra è quanto basta per questo esercizio. In particolare abbiamo installato il parser `lxml`, che è il componente che permette a BeautifulSoup di leggere l'HTML in modo veloce e _lenient_, cioè tollerando possibili errori di formattazione che potrebbero essere presenti nell'HTML (NOTA: la maggior parte dei documenti html nel mondo reale ha problemi di formattazione !). Prendendo pagine a caso da internet, `lxml` potrebbe non essere adatto. Se hai problemi a leggere pagine html, potresti provare a sostituire `lxml` con `html5lib`, o altri parser. Per una lista di possibili parser, vedere la [documentazione di BeautifulSoup](https://www.crummy.com/software/BeautifulSoup/bs4/doc/#installing-a-parser  )     \n",
    "  \n"
   ]
  },
  {
   "cell_type": "markdown",
   "metadata": {},
   "source": [
    "### 2.1 Estraiamo i nomi\n",
    "\n",
    "**✪ DA FARE 2.1.1** Cerca nell'HTML la stringa `Coppa del Mondo di Snowboard`, cercando di capire bene in quali blocchi appare. \n"
   ]
  },
  {
   "cell_type": "markdown",
   "metadata": {},
   "source": [
    "\n",
    "**Cerchiamo con Python**\n",
    "\n",
    "Se hai fatto l'esercizio precedente, dovresti aver trovato vari blocchi che contengono `Coppa del Mondo di Snowboard`. Per un elenco e discussione, [guarda la soluzione](data-extraction-solutions.ipynb#2.1-Estraiamo-i-nomi) Per questo esercizio, considereremo principalmente i blocchi `h4`, in cui il nome `Coppa del Mondo di Snowboard` compare  in questa riga:\n",
    "\n",
    "```html\n",
    "<h4 class=\"moodboard__item-headline\">Coppa del Mondo di Snowboard</h4>\n",
    "```\n",
    "\n",
    "vediamo cosa c'è intorno:\n",
    "\n",
    "```html\n",
    "<div class=\"moodboard__item-text text-white\">\n",
    "    <div>\n",
    "        <h4 class=\"moodboard__item-headline\">Coppa del Mondo di Snowboard</h4>\n",
    "                    <span class=\"moodboard__item-subline strong fz14 text-uppercase d-b\">14/12/2017</span>\n",
    "                            <span class=\"moodboard__item-subline strong fz14 d-b\"><span class=\"icon icon-map-view fz20\"></span> Passo Costalunga</span>\n",
    "            </div>\n",
    "    <div class=\"moodboard__item-text__link text-right\">\n",
    "        <a href=\"https://www.visittrentino.info/it/guida/eventi/coppa-del-mondo-di-snowboard_e_165375\" role=\"link\"><span class=\"icon icon-circle-arrow fz30\"></span></a>\n",
    "    </div>\n",
    "</div>\n",
    "\n",
    "```\n",
    "\n",
    "Torniamo alla riga: \n",
    "\n",
    "```html\n",
    "<h4 class=\"moodboard__item-headline\">Coppa del Mondo di Snowboard</h4>\n",
    "```\n",
    "\n",
    "Notiamo che: \n",
    "\n",
    "* inizia con il tag `<h4>`\n",
    "* finisce simmetricamente con il tag di chiusura `</h4>`\n",
    "* il tag di apertura ha un parametro `class=\"moodboard__item-headline\"`, ma al momento non ci interessa\n",
    "* Il testo che cerchiamo `Coppa del Mondo di Snowboard` è incluso tra i due tag\n",
    "\n",
    "Per estrarre solo i nomi degli eventi dal documento, possiamo quindi cercare i tag `h4`. Eseguiamo la nostra prima estrazione in Python:"
   ]
  },
  {
   "cell_type": "code",
   "execution_count": 1,
   "metadata": {},
   "outputs": [
    {
     "name": "stdout",
     "output_type": "stream",
     "text": [
      "<h4 class=\"moodboard__item-headline\">Coppa del Mondo di Snowboard</h4>\n",
      "<h4 class=\"moodboard__item-headline\">Coppa Europa di sci alpino maschile - slalom speciale</h4>\n",
      "<h4 class=\"moodboard__item-headline\">3Tre - AUDI FIS Ski World Cup</h4>\n",
      "<h4 class=\"moodboard__item-headline\">La Marcialonga di Fiemme e Fassa </h4>\n",
      "<h4 class=\"moodboard__item-headline\">TrentinoSkiSunrise: sulle piste alla luce dell’alba</h4>\n",
      "<h4 class=\"moodboard__item-headline\">Tour de Ski</h4>\n",
      "<h4 class=\"moodboard__item-headline\">La mia nuvola</h4>\n",
      "<h4 class=\"moodboard__item-headline\">Dormire sotto un cielo di stelle</h4>\n",
      "<h4 class=\"moodboard__item-headline\">Mercatini di Natale di Canale di Tenno e Rango </h4>\n",
      "<h4 class=\"moodboard__item-headline\">La Ciaspolada</h4>\n",
      "<h4 class=\"moodboard__item-headline\">Mercatini di Natale a Trento</h4>\n",
      "<h4 class=\"moodboard__item-headline\">Mercatini di Natale di Rovereto</h4>\n",
      "<h4 class=\"moodboard__item-headline\">Mercatino di Natale asburgico di Levico Terme</h4>\n",
      "<h4 class=\"moodboard__item-headline\">Magnifico Mercatino di Cavalese</h4>\n",
      "<h4 class=\"moodboard__item-headline\">Mercatino di Natale ad Arco</h4>\n",
      "<h4 class=\"moodboard__item-headline\">El paès dei presepi</h4>\n"
     ]
    }
   ],
   "source": [
    "# Importa l'oggetto BeatifulSoup dal modulo bs4:\n",
    "from bs4 import BeautifulSoup\n",
    "\n",
    "# apriamo il file degli eventi:   \n",
    "# - specifichiamo l'encoding come 'utf-8' ATTENZIONE: MAI DIMENTICARE L'ENCODING !!\n",
    "# - lo chiamiamo con f, un nome che scegliamo noi\n",
    "\n",
    "with open(\"eventi.html\", encoding='utf-8') as f:  \n",
    "    soup = BeautifulSoup(f, \"lxml\")    # creiamo un oggetto che chiamiamo 'soup', usando il parser lxml\n",
    "# soup ci permette di chiamare il metodo select, per selezionare per esempio solo tag 'h4':\n",
    "# il metodo ritorna una lista di tag trovate nel documento. Per ogni tag ritornata, la stampiamo:\n",
    "for tag in soup.select(\"h4\"):  \n",
    "    print(tag)"
   ]
  },
  {
   "cell_type": "markdown",
   "metadata": {},
   "source": [
    "Benissimo, abbiamo filtrato le tag coi nomi degli eventi. Ma noi vogliamo solo i nomi. Tipicamente dalle nostre tag ci interessa estrarre solo il testo. A tal fine. possiamo usare l'attributo `text` delle tag:"
   ]
  },
  {
   "cell_type": "code",
   "execution_count": 2,
   "metadata": {},
   "outputs": [
    {
     "name": "stdout",
     "output_type": "stream",
     "text": [
      "Coppa del Mondo di Snowboard\n",
      "Coppa Europa di sci alpino maschile - slalom speciale\n",
      "3Tre - AUDI FIS Ski World Cup\n",
      "La Marcialonga di Fiemme e Fassa \n",
      "TrentinoSkiSunrise: sulle piste alla luce dell’alba\n",
      "Tour de Ski\n",
      "La mia nuvola\n",
      "Dormire sotto un cielo di stelle\n",
      "Mercatini di Natale di Canale di Tenno e Rango \n",
      "La Ciaspolada\n",
      "Mercatini di Natale a Trento\n",
      "Mercatini di Natale di Rovereto\n",
      "Mercatino di Natale asburgico di Levico Terme\n",
      "Magnifico Mercatino di Cavalese\n",
      "Mercatino di Natale ad Arco\n",
      "El paès dei presepi\n"
     ]
    }
   ],
   "source": [
    "for tag in soup.select(\"h4\"):\n",
    "    print(tag.text)"
   ]
  },
  {
   "cell_type": "markdown",
   "metadata": {},
   "source": [
    "Casomai volessimo, si può anche estrarre un attributo, per esempio la `class`"
   ]
  },
  {
   "cell_type": "code",
   "execution_count": 3,
   "metadata": {},
   "outputs": [
    {
     "name": "stdout",
     "output_type": "stream",
     "text": [
      "['moodboard__item-headline']\n",
      "['moodboard__item-headline']\n",
      "['moodboard__item-headline']\n",
      "['moodboard__item-headline']\n",
      "['moodboard__item-headline']\n",
      "['moodboard__item-headline']\n",
      "['moodboard__item-headline']\n",
      "['moodboard__item-headline']\n",
      "['moodboard__item-headline']\n",
      "['moodboard__item-headline']\n",
      "['moodboard__item-headline']\n",
      "['moodboard__item-headline']\n",
      "['moodboard__item-headline']\n",
      "['moodboard__item-headline']\n",
      "['moodboard__item-headline']\n",
      "['moodboard__item-headline']\n"
     ]
    }
   ],
   "source": [
    "for tag in soup.select('h4'):    \n",
    "    print(tag['class'])"
   ]
  },
  {
   "cell_type": "markdown",
   "metadata": {},
   "source": [
    "#### La lista nomi\n",
    "\n",
    "Intanto, cerchiamo di mettere tutti i nomi in una lista che chiameremo `nomi`"
   ]
  },
  {
   "cell_type": "code",
   "execution_count": 4,
   "metadata": {},
   "outputs": [],
   "source": [
    "nomi = []\n",
    "for tag in soup.select(\"h4\"):\n",
    "    nomi.append(tag.text)"
   ]
  },
  {
   "cell_type": "code",
   "execution_count": 5,
   "metadata": {},
   "outputs": [
    {
     "data": {
      "text/plain": [
       "['Coppa del Mondo di Snowboard',\n",
       " 'Coppa Europa di sci alpino maschile - slalom speciale',\n",
       " '3Tre - AUDI FIS Ski World Cup',\n",
       " 'La Marcialonga di Fiemme e Fassa ',\n",
       " 'TrentinoSkiSunrise: sulle piste alla luce dell’alba',\n",
       " 'Tour de Ski',\n",
       " 'La mia nuvola',\n",
       " 'Dormire sotto un cielo di stelle',\n",
       " 'Mercatini di Natale di Canale di Tenno e Rango ',\n",
       " 'La Ciaspolada',\n",
       " 'Mercatini di Natale a Trento',\n",
       " 'Mercatini di Natale di Rovereto',\n",
       " 'Mercatino di Natale asburgico di Levico Terme',\n",
       " 'Magnifico Mercatino di Cavalese',\n",
       " 'Mercatino di Natale ad Arco',\n",
       " 'El paès dei presepi']"
      ]
     },
     "execution_count": 5,
     "metadata": {},
     "output_type": "execute_result"
    }
   ],
   "source": [
    "nomi"
   ]
  },
  {
   "cell_type": "markdown",
   "metadata": {},
   "source": [
    "\n",
    "#### Una struttura dati per il CSV\n",
    "\n",
    "Cominciamo a costruirci la struttura dati che modellerà il CSV che vogliamo creare. Un CSV può essere visto come una lista di dizionari. Ogni dizionario rappresenterà un evento. Passo passo, vorremmo arrivare ad avere una forma simile:\n",
    "\n",
    "```python\n",
    "[{'data': '14/12/2017',\n",
    "  'descrizione': 'Al Passo Costalunga sfida tra i migliori specialisti del mondo',\n",
    "  'luogo': 'Passo Costalunga',\n",
    "  'nome': 'Coppa del Mondo di Snowboard',\n",
    "  'tipo': 'Sport, TOP EVENTI SPORT'},\n",
    " {'data': '18/12/2017',\n",
    "  'descrizione': 'Lunedì 18 dicembre la Coppa Europa fa tappa in Val di Fassa',\n",
    "  'luogo': 'Pozza di Fassa',\n",
    "  'nome': 'Coppa Europa di sci alpino maschile - slalom speciale',\n",
    "  'tipo': 'Sport, TOP EVENTI SPORT'},\n",
    "  ....\n",
    "]\n",
    "```\n",
    "\n",
    "\n",
    "Inizializziamo la lista delle righe:"
   ]
  },
  {
   "cell_type": "code",
   "execution_count": 6,
   "metadata": {},
   "outputs": [],
   "source": [
    "righe = []"
   ]
  },
  {
   "cell_type": "code",
   "execution_count": 7,
   "metadata": {},
   "outputs": [
    {
     "data": {
      "text/plain": [
       "[]"
      ]
     },
     "execution_count": 7,
     "metadata": {},
     "output_type": "execute_result"
    }
   ],
   "source": [
    "righe"
   ]
  },
  {
   "cell_type": "markdown",
   "metadata": {},
   "source": [
    "Dobbiamo aggiungere dei dizionari vuoti, ma quanti ce ne servono ? Vediamo quanti titoli abbiamo trovato con la funzione `len`:"
   ]
  },
  {
   "cell_type": "code",
   "execution_count": 8,
   "metadata": {},
   "outputs": [
    {
     "data": {
      "text/plain": [
       "16"
      ]
     },
     "execution_count": 8,
     "metadata": {},
     "output_type": "execute_result"
    }
   ],
   "source": [
    "len(nomi)"
   ]
  },
  {
   "cell_type": "raw",
   "metadata": {},
   "source": [
    "Procediamo quindi ad aggiungere 16 dizionari aggiungendo un dizionario vuoto alla volta a `rows` con la funzione `append` :"
   ]
  },
  {
   "cell_type": "code",
   "execution_count": 9,
   "metadata": {},
   "outputs": [],
   "source": [
    "for i in range(16):\n",
    "    righe.append({})"
   ]
  },
  {
   "cell_type": "code",
   "execution_count": 10,
   "metadata": {},
   "outputs": [
    {
     "data": {
      "text/plain": [
       "[{}, {}, {}, {}, {}, {}, {}, {}, {}, {}, {}, {}, {}, {}, {}, {}]"
      ]
     },
     "execution_count": 10,
     "metadata": {},
     "output_type": "execute_result"
    }
   ],
   "source": [
    "righe"
   ]
  },
  {
   "cell_type": "markdown",
   "metadata": {},
   "source": [
    "\n",
    "#### Popoliamo i dizionari con i nomi\n",
    "\n",
    "Adesso, in ogni dizionario, mettiamo un campo 'nome' usando il valore corrispendente trovato nella lista `nomi`: "
   ]
  },
  {
   "cell_type": "code",
   "execution_count": 11,
   "metadata": {},
   "outputs": [],
   "source": [
    "i = 0\n",
    "for stringa in nomi:\n",
    "    righe[i]['nome'] = stringa  # metti stringa nella riga i-esima, al campo 'nome'  del dizionario\n",
    "    i += 1"
   ]
  },
  {
   "cell_type": "markdown",
   "metadata": {},
   "source": [
    "Dovremmo cominciare a vedere i dizionari in `righe` popolati con i nomi. Verifichiamo: "
   ]
  },
  {
   "cell_type": "code",
   "execution_count": 12,
   "metadata": {},
   "outputs": [
    {
     "data": {
      "text/plain": [
       "[{'nome': 'Coppa del Mondo di Snowboard'},\n",
       " {'nome': 'Coppa Europa di sci alpino maschile - slalom speciale'},\n",
       " {'nome': '3Tre - AUDI FIS Ski World Cup'},\n",
       " {'nome': 'La Marcialonga di Fiemme e Fassa '},\n",
       " {'nome': 'TrentinoSkiSunrise: sulle piste alla luce dell’alba'},\n",
       " {'nome': 'Tour de Ski'},\n",
       " {'nome': 'La mia nuvola'},\n",
       " {'nome': 'Dormire sotto un cielo di stelle'},\n",
       " {'nome': 'Mercatini di Natale di Canale di Tenno e Rango '},\n",
       " {'nome': 'La Ciaspolada'},\n",
       " {'nome': 'Mercatini di Natale a Trento'},\n",
       " {'nome': 'Mercatini di Natale di Rovereto'},\n",
       " {'nome': 'Mercatino di Natale asburgico di Levico Terme'},\n",
       " {'nome': 'Magnifico Mercatino di Cavalese'},\n",
       " {'nome': 'Mercatino di Natale ad Arco'},\n",
       " {'nome': 'El paès dei presepi'}]"
      ]
     },
     "execution_count": 12,
     "metadata": {},
     "output_type": "execute_result"
    }
   ],
   "source": [
    "righe"
   ]
  },
  {
   "cell_type": "markdown",
   "metadata": {},
   "source": [
    "\n",
    "#### La funzione `aggiungi_campo`\n",
    "\n",
    "Visto che i campi da aggiungere saranno diversi, definiamoci una funzione per aggiugere comodamente i campi alla variabile `righe`:"
   ]
  },
  {
   "cell_type": "code",
   "execution_count": 13,
   "metadata": {},
   "outputs": [],
   "source": [
    "# 'attributo' potrebbe essere la stringa 'nome'\n",
    "# 'lista' potrebbe essere la lista dei nomi degli eventi ['Coppa del Mondo di Snowboard', 'Coppa Europa', ...] \n",
    "def aggiungi_campo(attributo, lista):\n",
    "    i = 0\n",
    "    for stringa in lista:\n",
    "        righe[i][attributo] = stringa\n",
    "        i += 1                  \n",
    "    return righe   # ritorniamo righe per stampare immediatamente il risultato in Jupyter   "
   ]
  },
  {
   "cell_type": "markdown",
   "metadata": {},
   "source": [
    "Chiamando `aggiungi_campo` con i nomi, non dovrebbe cambiare nulla perchè andremo semplicemente a riscrivere i campi `nome` dentro i dizionari della lista `righe` :"
   ]
  },
  {
   "cell_type": "code",
   "execution_count": 14,
   "metadata": {},
   "outputs": [
    {
     "data": {
      "text/plain": [
       "[{'nome': 'Coppa del Mondo di Snowboard'},\n",
       " {'nome': 'Coppa Europa di sci alpino maschile - slalom speciale'},\n",
       " {'nome': '3Tre - AUDI FIS Ski World Cup'},\n",
       " {'nome': 'La Marcialonga di Fiemme e Fassa '},\n",
       " {'nome': 'TrentinoSkiSunrise: sulle piste alla luce dell’alba'},\n",
       " {'nome': 'Tour de Ski'},\n",
       " {'nome': 'La mia nuvola'},\n",
       " {'nome': 'Dormire sotto un cielo di stelle'},\n",
       " {'nome': 'Mercatini di Natale di Canale di Tenno e Rango '},\n",
       " {'nome': 'La Ciaspolada'},\n",
       " {'nome': 'Mercatini di Natale a Trento'},\n",
       " {'nome': 'Mercatini di Natale di Rovereto'},\n",
       " {'nome': 'Mercatino di Natale asburgico di Levico Terme'},\n",
       " {'nome': 'Magnifico Mercatino di Cavalese'},\n",
       " {'nome': 'Mercatino di Natale ad Arco'},\n",
       " {'nome': 'El paès dei presepi'}]"
      ]
     },
     "execution_count": 14,
     "metadata": {},
     "output_type": "execute_result"
    }
   ],
   "source": [
    "aggiungi_campo('nome', nomi)"
   ]
  },
  {
   "cell_type": "markdown",
   "metadata": {},
   "source": [
    "### 2.2 Estraiamo le date\n",
    "\n",
    "Bene, è tempo di aggiungere un altro campo, per esempio per la data. Dove trovarlo?"
   ]
  },
  {
   "cell_type": "markdown",
   "metadata": {},
   "source": [
    "**✪ DA FARE 2.2.1**: Cerca dentro l'HTML il valore della data della Coppa del Mondo di Snowboard `14/12/2017`. Quanti valori trovi? Intorno alle date, trovi del testo che potrebbero permetterci di filtrare tutte e sole le date ? \n"
   ]
  },
  {
   "cell_type": "markdown",
   "metadata": {},
   "source": [
    "\n",
    "**✪ DA FARE 2.2.2**: Prova a filtrare qui sotto in Python le tag `span`, stampando i risultati. Trovi solo le date ?\n"
   ]
  },
  {
   "cell_type": "code",
   "execution_count": 15,
   "metadata": {},
   "outputs": [],
   "source": [
    "# scrivi qua il codice\n",
    "\n",
    "\n",
    "\n",
    "\n",
    "\n"
   ]
  },
  {
   "cell_type": "markdown",
   "metadata": {},
   "source": [
    "\n",
    "#### Filtri più selettivi\n",
    "\n",
    "Noi dobbiamo filtrare solo le tag `span` che contengono l'attributo `class` con un lungo valore criptico:\n",
    "\n",
    "```\n",
    "class=\"moodboard__item-subline strong fz14 text-uppercase d-b\"\n",
    "``` \n",
    "\n",
    "**NOTA**: Non farti spaventare da strani nomi che non conosci. Quando si traffica nei file HTML, si può trovare di tutto e bisogna 'navigare a vista'. Per fortuna, spesso non occorre sapere troppi dettagli tecnici per estrarre testo rilevante.\n",
    "\n",
    "Per estrarre le nostre date, possiamo sfruttare il fatto che alla funzione `soup.select` possiamo passare non solo tag ma qualunque [espressione di selezione CSS](https://www.mrwebmaster.it/css/selettori-css3_11011.html)\n",
    "\n",
    "Tra le prime ne troviamo una che ci dice che possiamo scrivere l'attributo e il valore dentro a parentesi quadre dopo il nome della tag, come qua:\n"
   ]
  },
  {
   "cell_type": "code",
   "execution_count": 16,
   "metadata": {},
   "outputs": [
    {
     "name": "stdout",
     "output_type": "stream",
     "text": [
      "14/12/2017\n",
      "18/12/2017\n",
      "22/12/2017\n",
      "28/01/2018\n",
      "06/01/2018 - 07/04/2018\n",
      "06/01/2018 - 07/01/2018\n",
      "01/10/2017 - 30/11/2017\n",
      "31/10/2017 - 20/12/2017\n",
      "19/11/2017 - 30/12/2017\n",
      "06/01/2018\n",
      "18/11/2017 - 06/01/2018\n",
      "25/11/2017 - 06/01/2018\n",
      "25/11/2017 - 06/01/2018\n",
      "01/12/2017 - 06/01/2018\n",
      "17/11/2017 - 07/01/2018\n",
      "08/12/2017 - 07/01/2018\n"
     ]
    }
   ],
   "source": [
    "for tag in soup.select('span[class=\"moodboard__item-subline strong fz14 text-uppercase d-b\"]'):\n",
    "    print(tag.text)"
   ]
  },
  {
   "cell_type": "markdown",
   "metadata": {},
   "source": [
    "Ecco le nostre date! In questo caso particolare, il `\"moodboard__item-subline strong fz14 text-uppercase d-b\"` è così identificativo che non serve nemmeno specificare `span`:"
   ]
  },
  {
   "cell_type": "code",
   "execution_count": 17,
   "metadata": {},
   "outputs": [
    {
     "name": "stdout",
     "output_type": "stream",
     "text": [
      "14/12/2017\n",
      "18/12/2017\n",
      "22/12/2017\n",
      "28/01/2018\n",
      "06/01/2018 - 07/04/2018\n",
      "06/01/2018 - 07/01/2018\n",
      "01/10/2017 - 30/11/2017\n",
      "31/10/2017 - 20/12/2017\n",
      "19/11/2017 - 30/12/2017\n",
      "06/01/2018\n",
      "18/11/2017 - 06/01/2018\n",
      "25/11/2017 - 06/01/2018\n",
      "25/11/2017 - 06/01/2018\n",
      "01/12/2017 - 06/01/2018\n",
      "17/11/2017 - 07/01/2018\n",
      "08/12/2017 - 07/01/2018\n"
     ]
    }
   ],
   "source": [
    "            # nota che 'span' è rimosso: \n",
    "for tag in soup.select('[class=\"moodboard__item-subline strong fz14 text-uppercase d-b\"]'):\n",
    "    print(tag.text)"
   ]
  },
  {
   "cell_type": "markdown",
   "metadata": {},
   "source": [
    "**✪ DA FARE 2.2.3**: possiamo scrivere direttamente senza nient'altro la stringa `moodboard__item-subline strong fz14 text-uppercase d-b` nella `select` ? Scrivi qui sotto i tuoi esperimenti.\n"
   ]
  },
  {
   "cell_type": "code",
   "execution_count": 18,
   "metadata": {},
   "outputs": [],
   "source": [
    "# scrivi qui"
   ]
  },
  {
   "cell_type": "markdown",
   "metadata": {},
   "source": [
    "Come fatto prima, possiamo crearci una lista per le date:"
   ]
  },
  {
   "cell_type": "code",
   "execution_count": 19,
   "metadata": {},
   "outputs": [],
   "source": [
    "date_eventi = []\n",
    "for tag in soup.select('[class=\"moodboard__item-subline strong fz14 text-uppercase d-b\"]'):\n",
    "    date_eventi.append(tag.text)"
   ]
  },
  {
   "cell_type": "code",
   "execution_count": 20,
   "metadata": {
    "scrolled": true
   },
   "outputs": [
    {
     "data": {
      "text/plain": [
       "['14/12/2017',\n",
       " '18/12/2017',\n",
       " '22/12/2017',\n",
       " '28/01/2018',\n",
       " '06/01/2018 - 07/04/2018',\n",
       " '06/01/2018 - 07/01/2018',\n",
       " '01/10/2017 - 30/11/2017',\n",
       " '31/10/2017 - 20/12/2017',\n",
       " '19/11/2017 - 30/12/2017',\n",
       " '06/01/2018',\n",
       " '18/11/2017 - 06/01/2018',\n",
       " '25/11/2017 - 06/01/2018',\n",
       " '25/11/2017 - 06/01/2018',\n",
       " '01/12/2017 - 06/01/2018',\n",
       " '17/11/2017 - 07/01/2018',\n",
       " '08/12/2017 - 07/01/2018']"
      ]
     },
     "execution_count": 20,
     "metadata": {},
     "output_type": "execute_result"
    }
   ],
   "source": [
    "date_eventi"
   ]
  },
  {
   "cell_type": "markdown",
   "metadata": {},
   "source": [
    "Per sincerarci di aver rastrellato tutte le date necessarie, possiamo controllare quante sono:"
   ]
  },
  {
   "cell_type": "code",
   "execution_count": 21,
   "metadata": {},
   "outputs": [
    {
     "data": {
      "text/plain": [
       "16"
      ]
     },
     "execution_count": 21,
     "metadata": {},
     "output_type": "execute_result"
    }
   ],
   "source": [
    "len(date_eventi)"
   ]
  },
  {
   "cell_type": "markdown",
   "metadata": {},
   "source": [
    "Adesso possiamo sfruttare la funzione di prima `aggiungi_campo` per aggiornare `righe`:"
   ]
  },
  {
   "cell_type": "code",
   "execution_count": 22,
   "metadata": {},
   "outputs": [
    {
     "data": {
      "text/plain": [
       "[{'data': '14/12/2017', 'nome': 'Coppa del Mondo di Snowboard'},\n",
       " {'data': '18/12/2017',\n",
       "  'nome': 'Coppa Europa di sci alpino maschile - slalom speciale'},\n",
       " {'data': '22/12/2017', 'nome': '3Tre - AUDI FIS Ski World Cup'},\n",
       " {'data': '28/01/2018', 'nome': 'La Marcialonga di Fiemme e Fassa '},\n",
       " {'data': '06/01/2018 - 07/04/2018',\n",
       "  'nome': 'TrentinoSkiSunrise: sulle piste alla luce dell’alba'},\n",
       " {'data': '06/01/2018 - 07/01/2018', 'nome': 'Tour de Ski'},\n",
       " {'data': '01/10/2017 - 30/11/2017', 'nome': 'La mia nuvola'},\n",
       " {'data': '31/10/2017 - 20/12/2017',\n",
       "  'nome': 'Dormire sotto un cielo di stelle'},\n",
       " {'data': '19/11/2017 - 30/12/2017',\n",
       "  'nome': 'Mercatini di Natale di Canale di Tenno e Rango '},\n",
       " {'data': '06/01/2018', 'nome': 'La Ciaspolada'},\n",
       " {'data': '18/11/2017 - 06/01/2018', 'nome': 'Mercatini di Natale a Trento'},\n",
       " {'data': '25/11/2017 - 06/01/2018',\n",
       "  'nome': 'Mercatini di Natale di Rovereto'},\n",
       " {'data': '25/11/2017 - 06/01/2018',\n",
       "  'nome': 'Mercatino di Natale asburgico di Levico Terme'},\n",
       " {'data': '01/12/2017 - 06/01/2018',\n",
       "  'nome': 'Magnifico Mercatino di Cavalese'},\n",
       " {'data': '17/11/2017 - 07/01/2018', 'nome': 'Mercatino di Natale ad Arco'},\n",
       " {'data': '08/12/2017 - 07/01/2018', 'nome': 'El paès dei presepi'}]"
      ]
     },
     "execution_count": 22,
     "metadata": {},
     "output_type": "execute_result"
    }
   ],
   "source": [
    "aggiungi_campo('data', date_eventi)"
   ]
  },
  {
   "cell_type": "markdown",
   "metadata": {},
   "source": [
    "### 2.3 Estraiamo i luoghi\n",
    "\n",
    "E' tempo di aggiungere il luogo. "
   ]
  },
  {
   "cell_type": "markdown",
   "metadata": {},
   "source": [
    "**✪✪ DA FARE 2.3.1**: Cerca nell'HTML il luogo `Passo Costalunga` dell'evento Coppa di Snowboard. Con quale criterio possiamo filtrare i luoghi ?   "
   ]
  },
  {
   "cell_type": "markdown",
   "metadata": {},
   "source": [
    "**✪ DA FARE 2.3.2**: Scrivi il codice Python per estrarre i luoghi e metterlo nella lista `luoghi` (usa sempre l'html intorno ai blocchi `h4`)   \n",
    "\n",
    "**SUGGERIMENTO**: Non importa se il testo che cerchi è contenuto in uno span all'interno di un'altro span identificabile "
   ]
  },
  {
   "cell_type": "code",
   "execution_count": 23,
   "metadata": {},
   "outputs": [],
   "source": [
    "# scrivi qui"
   ]
  },
  {
   "cell_type": "markdown",
   "metadata": {},
   "source": [
    "### 2.3 Sistemiamo i luoghi"
   ]
  },
  {
   "cell_type": "markdown",
   "metadata": {},
   "source": [
    "**✪ DA FARE 2.3.3**: Quanti luoghi hai trovato ? Dovrebbero essere 16, ma se ne hai trovato 15 allora manca un dato! Che dato è? Guarda la pagina e cerca se qualche evento non ha un luogo. In che posizione è nella lista ? "
   ]
  },
  {
   "cell_type": "markdown",
   "metadata": {},
   "source": [
    "**✪ DA FARE 2.3.4**: Come rimediare al problema? Ci sono metodo più furbi, ma per stavolta semplicemente possiamo inserire una stringa vuota alla posizione della lista `luoghi` in cui ci dovrebbe essere il campo mancante - e cioè dopo `Val di Fassa`. Per farlo, puoi usare il metodo `insert`. Qua puoi vedere qualche esempio di utilizzo.\n",
    "\n",
    "**NOTA**: Ricordati che gli indici iniziano da 0 !"
   ]
  },
  {
   "cell_type": "code",
   "execution_count": 24,
   "metadata": {},
   "outputs": [
    {
     "data": {
      "text/plain": [
       "['x', 'a', 'b', 'c', 'd']"
      ]
     },
     "execution_count": 24,
     "metadata": {},
     "output_type": "execute_result"
    }
   ],
   "source": [
    "prova = ['a','b','c','d']\n",
    "prova.insert(0, 'x') # inserisce 'x' all'inizio in posizione 0\n",
    "prova"
   ]
  },
  {
   "cell_type": "code",
   "execution_count": 25,
   "metadata": {},
   "outputs": [
    {
     "data": {
      "text/plain": [
       "['a', 'b', 'x', 'c', 'd']"
      ]
     },
     "execution_count": 25,
     "metadata": {},
     "output_type": "execute_result"
    }
   ],
   "source": [
    "prova = ['a','b','c','d']\n",
    "prova.insert(2, 'x') # inserisce 'x' a metà\n",
    "prova"
   ]
  },
  {
   "cell_type": "code",
   "execution_count": 26,
   "metadata": {},
   "outputs": [],
   "source": [
    "# scrivi qua la soluzione"
   ]
  },
  {
   "cell_type": "markdown",
   "metadata": {},
   "source": [
    "**✪✪ DA FARE 2.3.5**: Prima di procedere, verifica che la lunghezza della lista `len(luoghi)` sia corretta (= 16). Adesso, osserva attentamente le stringhe dei luoghi. Dovresti vedere che iniziano tutte con uno spazio inutile: sistema la lista `luoghi` togliendo gli spazi extra  usando una _list comprehension_ (vedere [Capitolo 19.2 Pensare in Python](https://davidleoni.github.io/ThinkPythonItalian/html/thinkpython2020.html#sec227)). Per eliminare gli spazi  puoi usare il metodo delle stringhe `.strip()`\n",
    "\n",
    "**NOTA**: quando crei una _list comprehension_, ne generi una nuova, la lista originale _non_ viene modificata! "
   ]
  },
  {
   "cell_type": "code",
   "execution_count": 27,
   "metadata": {},
   "outputs": [],
   "source": [
    "# Scrivi qua\n"
   ]
  },
  {
   "cell_type": "markdown",
   "metadata": {},
   "source": [
    "### 2.4 Tipo dell'evento"
   ]
  },
  {
   "cell_type": "markdown",
   "metadata": {},
   "source": [
    "Proseguiamo con il tipo dell'evento. Per esempio, per la Coppa del Mondo di Snowboard, la tipologia dell'evento sarebbe `Sport, TOP EVENTI SPORT`\n",
    "\n",
    "**✪ DA FARE 2.4.1**: Cerca la stringa `Sport, TOP EVENTI SPORT` nell'HTML. Quante occorrenze ci sono ? E' possibile filtrare il tipo eventi in modo univoco ?  "
   ]
  },
  {
   "cell_type": "markdown",
   "metadata": {},
   "source": [
    "**✪✪ DA FARE 2.4.2**: Scrivi il codice Python per estrarre la lista degli eventi, e chiamala `tipo_evento`. Per farlo, puoi usare il codice già visto in precedenza, ma questa volta, per creare la lista sforzati di usare una _list comprehension_. \n",
    "Verifica poi che la lunghezza della stringa sia 16.\n",
    "\n",
    "**SUGGERIMENTO**: La lista originale da cui prelevare il testo delle le tag sarà creata dalla chiamata a `soup.select`"
   ]
  },
  {
   "cell_type": "code",
   "execution_count": 28,
   "metadata": {},
   "outputs": [],
   "source": [
    "# Scrivi qui"
   ]
  },
  {
   "cell_type": "markdown",
   "metadata": {},
   "source": [
    "### 2.5 descrizione\n",
    "\n",
    "Rimane da aggiungere la descrizione, per esempio per la Coppa del Mondo di Snowboard la descrizione sarebbe \"Al Passo Costalunga sfida tra i migliori specialisti del mondo\". \n",
    "\n",
    "**✪ DA FARE 2.5.1**: Cerca manualmente nell'HTML la stringa `Al Passo Costalunga sfida tra i migliori specialisti del mondo`. In quante posizioni appare ? In base a quali criteri potremo filtrare i tipi degli eventi ? **NOTA**: In base a quanto sai finora, ti sarà impossibile trovare un selettore che possa filtrare quello che serve, quindi per ora pensa solo a trovare stringhe ricorrenti intorno alle descrizioni"
   ]
  },
  {
   "cell_type": "markdown",
   "metadata": {},
   "source": [
    "#### Trovare la descrizione in Python"
   ]
  },
  {
   "cell_type": "markdown",
   "metadata": {},
   "source": [
    "Guarda la [soluzione dell'esercizio precedente](data-extraction-solutions.ipynb#2.5-descrizione). Troverai scritto che la tag  `<ul class=\"list-unstyled list-inline list__teaser__list mb15 mt10\">` contiene una classe, se la cerchiamo nel documento scopriremo che tutte queste `ul` con questa classe compaiono sempre e solo prima del `<p>` con le descrizioni che vogliamo noi. Non ci resta quindi che trovare un selettore CSS che\n",
    " \n",
    "* trovi le tag `ul` con `class=list-unstyled list-inline list__teaser__list mb15 mt10`\n",
    "* selezioni la tag successiva `p`\n",
    "\n",
    "Per fare ciò possiamo usare il selettore col simbolo `+`, quindi nella select basterà scrivere: "
   ]
  },
  {
   "cell_type": "code",
   "execution_count": 29,
   "metadata": {},
   "outputs": [
    {
     "data": {
      "text/plain": [
       "[<p>Al Passo Costalunga sfida tra i migliori specialisti del mondo</p>,\n",
       " <p>Lunedì 18 dicembre la Coppa Europa fa tappa in Val di Fassa</p>,\n",
       " <p>Torna il mitico slalom in notturna: vivi l'evento da VIP!</p>,\n",
       " <p>La “regina” delle granfondo compie 45 anni</p>,\n",
       " <p>L'emozione di sciare all’alba e prima di tutti. Dopo, una colazione da campioni!</p>,\n",
       " <p>Coppa del Mondo Sci di Fondo\n",
       " </p>,\n",
       " <p>Contest fotografico della Nuvola del Benessere</p>,\n",
       " <p>Fra le nuvole ai piedi delle Dolomiti</p>,\n",
       " <p>L'incanto genuino del Natale</p>,\n",
       " <p>La regina delle ciaspole nel giorno della Befana</p>,\n",
       " <p>Profumi, luci, atmosfera di festa </p>,\n",
       " <p>La forza della tradizione con un omaggio all'arte</p>,\n",
       " <p>Parco secolare degli Asburgo </p>,\n",
       " <p>Musica, zelten, vin brulé e spumante Trentodoc per assaporare l’atmosfera prenatalizia</p>,\n",
       " <p>Quasi 40 casette negli angoli più suggestivi del centro</p>,\n",
       " <p>Tradizioni e mercatini natalizi di Pinè</p>]"
      ]
     },
     "execution_count": 29,
     "metadata": {},
     "output_type": "execute_result"
    }
   ],
   "source": [
    "soup.select('ul[class=\"list-unstyled list-inline list__teaser__list mb15 mt10\"] + p')"
   ]
  },
  {
   "cell_type": "markdown",
   "metadata": {},
   "source": [
    "Benissimo, abbiamo ottenuto la lista dei `<p>` che vogliamo. Adesso possiamo mettere il testo interno dei `<p>` dentro una lista che chiameremo `descrizioni`. Possiamo farlo in un colpo solo usando una _list comprehension_:"
   ]
  },
  {
   "cell_type": "code",
   "execution_count": 30,
   "metadata": {},
   "outputs": [],
   "source": [
    "descrizioni = [tag.text for tag in soup.select('ul[class=\"list-unstyled list-inline list__teaser__list mb15 mt10\"] + p')]"
   ]
  },
  {
   "cell_type": "code",
   "execution_count": 31,
   "metadata": {},
   "outputs": [
    {
     "data": {
      "text/plain": [
       "['Al Passo Costalunga sfida tra i migliori specialisti del mondo',\n",
       " 'Lunedì 18 dicembre la Coppa Europa fa tappa in Val di Fassa',\n",
       " \"Torna il mitico slalom in notturna: vivi l'evento da VIP!\",\n",
       " 'La “regina” delle granfondo compie 45 anni',\n",
       " \"L'emozione di sciare all’alba e prima di tutti. Dopo, una colazione da campioni!\",\n",
       " 'Coppa del Mondo Sci di Fondo\\n',\n",
       " 'Contest fotografico della Nuvola del Benessere',\n",
       " 'Fra le nuvole ai piedi delle Dolomiti',\n",
       " \"L'incanto genuino del Natale\",\n",
       " 'La regina delle ciaspole nel giorno della Befana',\n",
       " 'Profumi, luci, atmosfera di festa ',\n",
       " \"La forza della tradizione con un omaggio all'arte\",\n",
       " 'Parco secolare degli Asburgo ',\n",
       " 'Musica, zelten, vin brulé e spumante Trentodoc per assaporare l’atmosfera prenatalizia',\n",
       " 'Quasi 40 casette negli angoli più suggestivi del centro',\n",
       " 'Tradizioni e mercatini natalizi di Pinè']"
      ]
     },
     "execution_count": 31,
     "metadata": {},
     "output_type": "execute_result"
    }
   ],
   "source": [
    "descrizioni"
   ]
  },
  {
   "cell_type": "markdown",
   "metadata": {},
   "source": [
    "Come al solito, verifichiamo che la lista delle descrizioni sia di 16 elementi:"
   ]
  },
  {
   "cell_type": "code",
   "execution_count": 32,
   "metadata": {},
   "outputs": [
    {
     "data": {
      "text/plain": [
       "16"
      ]
     },
     "execution_count": 32,
     "metadata": {},
     "output_type": "execute_result"
    }
   ],
   "source": [
    "len(descrizioni)"
   ]
  },
  {
   "cell_type": "markdown",
   "metadata": {},
   "source": [
    "### 2.6 Riempiamo la variabile `righe`"
   ]
  },
  {
   "cell_type": "markdown",
   "metadata": {},
   "source": [
    "Ricapitolando tutto quanto visto precedentemente, popoliamo `righe` con i dizionari e tutti i campi per assicurarci di avere la struttura dati corretta. In questa riscrittura, usiamo di più le _list comprehnesion_ per avere codice più sintetico:"
   ]
  },
  {
   "cell_type": "code",
   "execution_count": 33,
   "metadata": {},
   "outputs": [
    {
     "data": {
      "text/plain": [
       "[{'data': '14/12/2017',\n",
       "  'descrizione': 'Al Passo Costalunga sfida tra i migliori specialisti del mondo',\n",
       "  'luogo': 'Passo Costalunga',\n",
       "  'nome': '08/12/2017 - 07/01/2018',\n",
       "  'tipo': 'Sport, TOP EVENTI SPORT'},\n",
       " {'data': '18/12/2017',\n",
       "  'descrizione': 'Lunedì 18 dicembre la Coppa Europa fa tappa in Val di Fassa',\n",
       "  'luogo': 'Pozza di Fassa',\n",
       "  'nome': '08/12/2017 - 07/01/2018',\n",
       "  'tipo': 'Sport, TOP EVENTI SPORT'},\n",
       " {'data': '22/12/2017',\n",
       "  'descrizione': \"Torna il mitico slalom in notturna: vivi l'evento da VIP!\",\n",
       "  'luogo': 'Madonna di Campiglio',\n",
       "  'nome': '08/12/2017 - 07/01/2018',\n",
       "  'tipo': 'Sport, TOP EVENTI SPORT'},\n",
       " {'data': '28/01/2018',\n",
       "  'descrizione': 'La “regina” delle granfondo compie 45 anni',\n",
       "  'luogo': 'Val di Fassa',\n",
       "  'nome': '08/12/2017 - 07/01/2018',\n",
       "  'tipo': 'Sport, TOP EVENTI SPORT'},\n",
       " {'data': '06/01/2018 - 07/04/2018',\n",
       "  'descrizione': \"L'emozione di sciare all’alba e prima di tutti. Dopo, una colazione da campioni!\",\n",
       "  'luogo': '',\n",
       "  'nome': '08/12/2017 - 07/01/2018',\n",
       "  'tipo': 'Enogastronomia, Intrattenimento della Località, Sport'},\n",
       " {'data': '06/01/2018 - 07/01/2018',\n",
       "  'descrizione': 'Coppa del Mondo Sci di Fondo\\n',\n",
       "  'luogo': 'Tesero',\n",
       "  'nome': '08/12/2017 - 07/01/2018',\n",
       "  'tipo': 'Sport, Intrattenimento della Località, Enogastronomia'},\n",
       " {'data': '01/10/2017 - 30/11/2017',\n",
       "  'descrizione': 'Contest fotografico della Nuvola del Benessere',\n",
       "  'luogo': 'Pozza di Fassa',\n",
       "  'nome': '08/12/2017 - 07/01/2018',\n",
       "  'tipo': 'Wellness'},\n",
       " {'data': '31/10/2017 - 20/12/2017',\n",
       "  'descrizione': 'Fra le nuvole ai piedi delle Dolomiti',\n",
       "  'luogo': 'Pozza di Fassa',\n",
       "  'nome': '08/12/2017 - 07/01/2018',\n",
       "  'tipo': 'Wellness'},\n",
       " {'data': '19/11/2017 - 30/12/2017',\n",
       "  'descrizione': \"L'incanto genuino del Natale\",\n",
       "  'luogo': 'Tenno',\n",
       "  'nome': '08/12/2017 - 07/01/2018',\n",
       "  'tipo': 'Intrattenimento della Località, Mercati e mercatini'},\n",
       " {'data': '06/01/2018',\n",
       "  'descrizione': 'La regina delle ciaspole nel giorno della Befana',\n",
       "  'luogo': 'Fondo',\n",
       "  'nome': '08/12/2017 - 07/01/2018',\n",
       "  'tipo': 'Sport, TOP EVENTI SPORT'},\n",
       " {'data': '18/11/2017 - 06/01/2018',\n",
       "  'descrizione': 'Profumi, luci, atmosfera di festa ',\n",
       "  'luogo': 'Trento',\n",
       "  'nome': '08/12/2017 - 07/01/2018',\n",
       "  'tipo': 'Intrattenimento della Località, Mercati e mercatini'},\n",
       " {'data': '25/11/2017 - 06/01/2018',\n",
       "  'descrizione': \"La forza della tradizione con un omaggio all'arte\",\n",
       "  'luogo': 'Rovereto',\n",
       "  'nome': '08/12/2017 - 07/01/2018',\n",
       "  'tipo': 'Intrattenimento della Località, Mercati e mercatini'},\n",
       " {'data': '25/11/2017 - 06/01/2018',\n",
       "  'descrizione': 'Parco secolare degli Asburgo ',\n",
       "  'luogo': 'Levico Terme',\n",
       "  'nome': '08/12/2017 - 07/01/2018',\n",
       "  'tipo': 'Mercati e mercatini, Intrattenimento della Località'},\n",
       " {'data': '01/12/2017 - 06/01/2018',\n",
       "  'descrizione': 'Musica, zelten, vin brulé e spumante Trentodoc per assaporare l’atmosfera prenatalizia',\n",
       "  'luogo': 'Cavalese',\n",
       "  'nome': '08/12/2017 - 07/01/2018',\n",
       "  'tipo': 'Intrattenimento della Località, Mercati e mercatini'},\n",
       " {'data': '17/11/2017 - 07/01/2018',\n",
       "  'descrizione': 'Quasi 40 casette negli angoli più suggestivi del centro',\n",
       "  'luogo': 'Arco',\n",
       "  'nome': '08/12/2017 - 07/01/2018',\n",
       "  'tipo': 'Intrattenimento della Località, Mercati e mercatini'},\n",
       " {'data': '08/12/2017 - 07/01/2018',\n",
       "  'descrizione': 'Tradizioni e mercatini natalizi di Pinè',\n",
       "  'luogo': 'Baselga di Piné',\n",
       "  'nome': '08/12/2017 - 07/01/2018',\n",
       "  'tipo': 'Mercati e mercatini, Folklore'}]"
      ]
     },
     "execution_count": 33,
     "metadata": {},
     "output_type": "execute_result"
    }
   ],
   "source": [
    "righe = []\n",
    "\n",
    "for i in range(len(soup.select(\"h4\"))):\n",
    "    righe.append({})\n",
    "\n",
    "aggiungi_campo('nome', [tag.text for nome in soup.select(\"h4\")])        \n",
    "aggiungi_campo('data', [tag.text for tag in soup.select('[class=\"moodboard__item-subline strong fz14 text-uppercase d-b\"]')])\n",
    "\n",
    "luoghi = [tag.text.strip() for tag in soup.select('[class=\"moodboard__item-subline strong fz14 d-b\"]')]\n",
    "luoghi.insert(4, '')\n",
    "aggiungi_campo('luogo', luoghi)\n",
    "               \n",
    "aggiungi_campo('tipo', [tag.text for tag in soup.select('[class=\"text-secondary fz14 text-uppercase strong\"]')])\n",
    "\n",
    "aggiungi_campo('descrizione', \n",
    "               [tag.text for tag in soup.select('ul[class=\"list-unstyled list-inline list__teaser__list mb15 mt10\"] + p')])"
   ]
  },
  {
   "cell_type": "markdown",
   "metadata": {},
   "source": [
    "## 3. Scriviamo il CSV\n",
    "\n",
    "\n",
    "**✪✪ DA FARE 3.1**: Prova a scrivere un file CSV contenente tutti i dati raccolti, con quest'ordine di colonne:\n",
    "\n",
    "`nome, data, luogo, tipo, descrizione`\n",
    "\n",
    "Diversamente da quanto fatto finora, in cui abbiamo solo considerato righe come liste, in questo caso dato che abbiamo dizionari ci servirà un oggetto di tipo `DictWriter`. Leggi la [documentazione Python su DictWriter](https://docs.python.org/3/library/csv.html#csv.DictWriter) e copiandone l'esempio prova a scrivere il csv in un file chiamato `eventi.csv`. \n",
    "\n",
    "**NOTA**: Per testare il tutto, fai attenzione a che nella cartella di questo progetto non sia già presente il file `eventi.csv`, in caso eliminalo a mano.\n"
   ]
  },
  {
   "cell_type": "code",
   "execution_count": 34,
   "metadata": {},
   "outputs": [],
   "source": [
    "# Scrivi qua\n",
    "\n"
   ]
  },
  {
   "cell_type": "markdown",
   "metadata": {},
   "source": [
    "**✪✪✪ DA FARE 3.2**: Abbiamo dei luoghi estratti dall'HTML. Nella [lezione sull'integrazione dati](http://softpython.readthedocs.io/it/latest/data-integration.html), abbiamo imparato a usare Webapi di MapQuest per ottenere delle coordinate geografiche a partire da nomi di luoghi. Riusciresti quindi a:\n",
    "\n",
    "* usare la libreria `requests` e webapi MapQuest per arricchire prima i dizionari di `righe` con `lat` e `lon`  \n",
    "* aggiungere `lat` e `lon` al CSV generato\n",
    "* Caricare il CSV in Umap\n"
   ]
  },
  {
   "cell_type": "code",
   "execution_count": 35,
   "metadata": {},
   "outputs": [],
   "source": [
    "# Scrivi qui"
   ]
  }
 ],
 "metadata": {
  "kernelspec": {
   "display_name": "Python 3",
   "language": "python",
   "name": "python3"
  },
  "language_info": {
   "codemirror_mode": {
    "name": "ipython",
    "version": 3
   },
   "file_extension": ".py",
   "mimetype": "text/x-python",
   "name": "python",
   "nbconvert_exporter": "python",
   "pygments_lexer": "ipython3",
   "version": "3.5.2"
  }
 },
 "nbformat": 4,
 "nbformat_minor": 2
}
