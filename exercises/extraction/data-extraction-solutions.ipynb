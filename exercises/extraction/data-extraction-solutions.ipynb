{
 "cells": [
  {
   "cell_type": "markdown",
   "metadata": {},
   "source": [
    "# Estrazione dati: soluzioni"
   ]
  },
  {
   "cell_type": "markdown",
   "metadata": {},
   "source": [
    "## Obbiettivi\n"
   ]
  },
  {
   "cell_type": "markdown",
   "metadata": {},
   "source": [
    "## 0. Ne vale la pena ?\n"
   ]
  },
  {
   "cell_type": "markdown",
   "metadata": {},
   "source": [
    "## 1. Guardiamo l'html\n"
   ]
  },
  {
   "cell_type": "markdown",
   "metadata": {},
   "source": [
    "**✪ 1.1 DA FARE**: Dopo aver aperto il file nel browser, visualizza l'HTML all'interno (premendo per es `Ctrl+U` in Firefox/Chrome/Safari). Familiarizzati un po' con il file sorgente, cercando all'interno alcuni valori del primo evento , come per esempio il nome `Coppa del Mondo di Snowboard`, la data `14/12/2017`, il luogo `Passo Costalunga`, il tipo `Sport, TOP EVENTI SPORT`, e la descrizione `Al Passo Costalunga sfida tra i migliori specialisti del mondo`.\n",
    "\n",
    "**NOTA 1**: Per questo esercizio, usa solo il file `eventi.html`indicato, NON usare l'html proveniente dalla [versione live](https://www.visittrentino.info/it/guida/eventi) di visittrentino, che può essere soggetta a cambiamenti !   \n",
    "\n",
    "**NOTA 2**: Evita di usare il browser Internet Explorer, in alternativa cerca di usare uno tra i seguenti (in quest'ordine): Firefox, Chrome, Safari.  \n"
   ]
  },
  {
   "cell_type": "markdown",
   "metadata": {},
   "source": [
    "## 2. Estrazione con BeautifulSoup\n"
   ]
  },
  {
   "cell_type": "markdown",
   "metadata": {},
   "source": [
    "### 2.1 Estraiamo i nomi\n",
    "\n",
    "**✪ DA FARE 2.1.1** Cerchiamo nell'HTML la stringa `Coppa del Mondo di Snowboard`, cercando di capire bene in quali blocchi appare. \n",
    "\n",
    "**SOLUZIONE 2.1.1**:\n",
    "\n",
    "Compare in 4 blocchi: h2, script Javascript, script semantici `ld+json` e blocchi `h4`, li ricapitoliamo qua sotto:\n",
    "\n",
    "**SOLUZIONE 2.1.1 - blocchi h2**: Compare in blocchi `h2` come `<h2 class=\"text-secondary\">Coppa del Mondo di Snowboard</h2>` qua:\n",
    "\n",
    "```html\n",
    "<div class=\"col col-sm-9 arrange__item\">\n",
    "                    <a href=\"https://www.visittrentino.info/it/guida/eventi/coppa-del-mondo-di-snowboard_e_165375\" class=\"text-primary list-teaser__link\"><span class=\"icon icon-circle-arrow fz30\"></span></a>\n",
    "                    <div class=\"teaser__body\">\n",
    "                                                    <span class=\"text-secondary fz14 text-uppercase strong\">Sport, TOP EVENTI SPORT</span>\n",
    "                                                <h2 class=\"text-secondary\">Coppa del Mondo di Snowboard</h2>\n",
    "                        <ul class=\"list-unstyled list-inline list__teaser__list mb15 mt10\">\n",
    "                                                            <li>\n",
    "                                    <a class=\"fz14 text-uppercase strong text-primary\"><span class=\"icon icon-map-view mr10\"></span>Passo Costalunga</a>\n",
    "                                </li>\n",
    "                                                        <li>\n",
    "                                <a class=\"fz14 text-uppercase strong text-primary\"><span class=\"icon icon-map-view mr10\"></span>14/12/2017</a>\n",
    "                            </li>\n",
    "                        </ul>\n",
    "                        <p>Al Passo Costalunga sfida tra i migliori specialisti del mondo</p>\n",
    "                    </div>\n",
    "                </div>\n",
    "```\n",
    "\n",
    "**SOLUZIONE 2.1.1 - script Javascript**: Compare in blocchi script Javascript come qua alla riga ` class=\\\"fz24 text-blue\\\">Coppa del Mondo di Snowboard<\\/` : \n",
    "\n",
    "```html\n",
    "\n",
    "<script>\n",
    "    var mapData = [{\"id\":165375,\"lat\":46.4021014,\"lng\":11.6110718,\"poiIcon\":\"\\/static\\/img\\/content\\/pois\\/poi.png\",\"poiIconActive\":\"\\/static\\/img\\/content\\/pois\\/poi-active.png\",\"infoBox\":\"<div class=\\\"row\\\"><div class=\\\"col-xs-5\\\"><img src=\\\"\\/website\\/var\\/tmp\\/image-thumbnails\\/0\\/9500\\/thumb__moodboardmap\\/snowparks-and-snowboard-brenta-dolomites_1.jpeg\\\"><\\/div><div class=\\\"col-xs-7\\\"><h2 class=\\\"fz24 text-blue\\\">Coppa del Mondo di Snowboard<\\/h2><p class=\\\"fz14\\\">14\\/12 A Passo Costalunga sfida tra i migliori specialisti del mondo<\\/p><a href=\\\"\\/it\\/guida\\/eventi\\/coppa-del-mondo-di-snowboard_e_165375\\\" class=\\\"btn btn-primary\\\">Maggiori info<\\/a><\\/div><\\/div>\"},{\"id\":309611,\"lat\":46.403707118232,\"lng\":11.60915851593,\"poiIcon\":\"\\/static\\/img\\/content\\/pois\\/poi.png\",\"poiIconActive\":\"\\/static\\/img\\/content\\/pois\\/poi-active.png\",\"infoBox\":\"<div class=\\\"row\\\"><div class=\\\"col-xs-5\\\"><img src=\\\"\\/website\\/var\\/tmp\\/image-thumbnails\\/110000\\/119958\\/thumb__moodboardmap\\/foto-3_2.jpeg\\\"><\\/div><div class=\\\"col-xs-7\\\"><h2 class=\\\"fz24 text-blue\\\">Coppa Europa di sci alpino maschile - slalom speciale<\\/h2><p class=\\\"fz14\\\">18 dicembre in Val di Fassa<\\/p><a href=\\\"\\/it\\/guida\\/eventi\\/coppa-europa-di-sci-alpino-maschile-slalom-speciale_e_309611\\\" class=\\\"btn btn-primary\\\">Maggiori info<\\/a><\\/div><\\/div>\"},\n",
    "\n",
    "....\n",
    "....\n",
    "</script>\n",
    "```\n",
    "\n",
    "**SOLUZIONE 2.1.1 - blocchi script ld+json**: Compare in altri blocchi script semantici jsonld nella parte  `\"name\":\"Coppa del Mondo di Snowboard\"` come qua. Questi dati sono intesi per le macchine (come il motore di ricerca Google quando indicizza il contenuto delle pagine), quindi sarebbero particolarmente appetibili per i nostri scopi, ma per questo esercizio li ignoreremo: \n",
    "\n",
    "```\n",
    " <script type=\"application/ld+json\">\n",
    "{\"@context\":\"http://schema.org\",\"@type\":\"Event\",\"name\":\"Coppa del Mondo di Snowboard\",\"description\":\"Al Passo Costalunga sfida tra i migliori specialisti del mondo\",\"startDate\":\"2017-12-14T00:00:00+01:00\",\"endDate\":\"2017-12-14T00:00:00+01:00\",\"location\":{\"@type\":\"Place\",\"name\":\"Passo Costalunga\",\"address\":{\"@type\":\"PostalAddress\",\"addressCountry\":\"Italy\",\"postalCode\":\"39056\",\"streetAddress\":\"\"}},\"image\":{\"@type\":\"ImageObject\",\"url\":\"https://www.visittrentino.info/website/var/tmp/image-thumbnails/0/9500/thumb__contentgallery/snowparks-and-snowboard-brenta-dolomites_1.jpeg\",\"height\":396,\"width\":791},\"performer\":\"Trentino Marketing S.r.l.\",\"url\":\"https://www.visittrentino.info/it/guida/eventi/coppa-del-mondo-di-snowboard_e_165375\",\"offers\":{\"@type\":\"AggregateOffer\",\"lowPrice\":\"\\u20ac0\",\"offerCount\":\"000\",\"url\":\"https://www.visittrentino.info/it/guida/eventi/coppa-del-mondo-di-snowboard_e_165375\"}}\n",
    "</script>\n",
    "```"
   ]
  },
  {
   "cell_type": "markdown",
   "metadata": {},
   "source": [
    "**SOLUZIONE 2.1.1 - blocchi h4**: Il nome compare in blocchi `h4` in questa riga:\n",
    "\n",
    "```html\n",
    "<h4 class=\"moodboard__item-headline\">Coppa del Mondo di Snowboard</h4>\n",
    "```\n",
    "\n",
    "vediamo cosa c'è intorno:\n",
    "\n",
    "```html\n",
    "<div class=\"moodboard__item-text text-white\">\n",
    "    <div>\n",
    "        <h4 class=\"moodboard__item-headline\">Coppa del Mondo di Snowboard</h4>\n",
    "                    <span class=\"moodboard__item-subline strong fz14 text-uppercase d-b\">14/12/2017</span>\n",
    "                            <span class=\"moodboard__item-subline strong fz14 d-b\"><span class=\"icon icon-map-view fz20\"></span> Passo Costalunga</span>\n",
    "            </div>\n",
    "    <div class=\"moodboard__item-text__link text-right\">\n",
    "        <a href=\"https://www.visittrentino.info/it/guida/eventi/coppa-del-mondo-di-snowboard_e_165375\" role=\"link\"><span class=\"icon icon-circle-arrow fz30\"></span></a>\n",
    "    </div>\n",
    "</div>\n",
    "\n",
    "```\n",
    "\n",
    "Per questo esercizio, considereremo principalmente quest'ultimo blocco. Torniamo alla riga: \n",
    "\n",
    "```html\n",
    "<h4 class=\"moodboard__item-headline\">Coppa del Mondo di Snowboard</h4>\n",
    "```\n"
   ]
  },
  {
   "cell_type": "markdown",
   "metadata": {},
   "source": [
    "**Cerchiamo con Python**\n"
   ]
  },
  {
   "cell_type": "code",
   "execution_count": 1,
   "metadata": {},
   "outputs": [
    {
     "name": "stdout",
     "output_type": "stream",
     "text": [
      "<h4 class=\"moodboard__item-headline\">Coppa del Mondo di Snowboard</h4>\n",
      "<h4 class=\"moodboard__item-headline\">Coppa Europa di sci alpino maschile - slalom speciale</h4>\n",
      "<h4 class=\"moodboard__item-headline\">3Tre - AUDI FIS Ski World Cup</h4>\n",
      "<h4 class=\"moodboard__item-headline\">La Marcialonga di Fiemme e Fassa </h4>\n",
      "<h4 class=\"moodboard__item-headline\">TrentinoSkiSunrise: sulle piste alla luce dell’alba</h4>\n",
      "<h4 class=\"moodboard__item-headline\">Tour de Ski</h4>\n",
      "<h4 class=\"moodboard__item-headline\">La mia nuvola</h4>\n",
      "<h4 class=\"moodboard__item-headline\">Dormire sotto un cielo di stelle</h4>\n",
      "<h4 class=\"moodboard__item-headline\">Mercatini di Natale di Canale di Tenno e Rango </h4>\n",
      "<h4 class=\"moodboard__item-headline\">La Ciaspolada</h4>\n",
      "<h4 class=\"moodboard__item-headline\">Mercatini di Natale a Trento</h4>\n",
      "<h4 class=\"moodboard__item-headline\">Mercatini di Natale di Rovereto</h4>\n",
      "<h4 class=\"moodboard__item-headline\">Mercatino di Natale asburgico di Levico Terme</h4>\n",
      "<h4 class=\"moodboard__item-headline\">Magnifico Mercatino di Cavalese</h4>\n",
      "<h4 class=\"moodboard__item-headline\">Mercatino di Natale ad Arco</h4>\n",
      "<h4 class=\"moodboard__item-headline\">El paès dei presepi</h4>\n"
     ]
    }
   ],
   "source": [
    "# Importa l'oggetto BeatifulSoup dal modulo bs4:\n",
    "from bs4 import BeautifulSoup\n",
    "\n",
    "# apriamo il file degli eventi:   \n",
    "# - specifichiamo l'encoding come 'utf-8' ATTENZIONE: MAI DIMENTICARE L'ENCODING !!\n",
    "# - lo chiamiamo con f, un nome che scegliamo noi\n",
    "\n",
    "with open(\"eventi.html\", encoding='utf-8') as f:  \n",
    "    soup = BeautifulSoup(f, \"lxml\")    # creiamo un oggetto che chiamiamo 'soup', usando il parser lxml\n",
    "# soup ci permette di chiamare il metodo select, per selezionare per esempio solo tag 'h4':\n",
    "# il metodo ritorna una lista di tag trovate nel documento. Per ogni tag ritornata, la stampiamo:\n",
    "for tag in soup.select(\"h4\"):  \n",
    "    print(tag)"
   ]
  },
  {
   "cell_type": "markdown",
   "metadata": {},
   "source": [
    "#### La lista nomi\n"
   ]
  },
  {
   "cell_type": "code",
   "execution_count": 2,
   "metadata": {},
   "outputs": [],
   "source": [
    "nomi = []\n",
    "for tag in soup.select(\"h4\"):\n",
    "    nomi.append(tag.text)"
   ]
  },
  {
   "cell_type": "markdown",
   "metadata": {},
   "source": [
    "#### Una struttura dati per il CSV"
   ]
  },
  {
   "cell_type": "code",
   "execution_count": 3,
   "metadata": {},
   "outputs": [],
   "source": [
    "righe = []\n",
    "for i in range(16):\n",
    "    righe.append({})"
   ]
  },
  {
   "cell_type": "markdown",
   "metadata": {},
   "source": [
    "#### La funzione `aggiungi_campo`"
   ]
  },
  {
   "cell_type": "code",
   "execution_count": 4,
   "metadata": {},
   "outputs": [],
   "source": [
    "# 'attributo' potrebbe essere la stringa 'nome'\n",
    "# 'lista' potrebbe essere la lista dei nomi degli eventi ['Coppa del Mondo di Snowboard', 'Coppa Europa', ...] \n",
    "def aggiungi_campo(attributo, lista):\n",
    "    i = 0\n",
    "    for stringa in lista:\n",
    "        righe[i][attributo] = stringa\n",
    "        i += 1                  \n",
    "    return righe   # ritorniamo righe per stampare immediatamente il risultato in Jupyter   "
   ]
  },
  {
   "cell_type": "markdown",
   "metadata": {},
   "source": [
    "aggiungi_campo('nome', nomi)"
   ]
  },
  {
   "cell_type": "markdown",
   "metadata": {},
   "source": [
    "### 2.2 Estraiamo le date\n",
    "\n",
    "**✪ DA FARE 2.2.1**: Cerca dentro l'HTML il valore della data della Coppa del Mondo di Snowboard `14/12/2017`. Quanti valori trovi? Intorno alle date, trovi del testo che potrebbero permetterci di filtrare tutte e sole le date ? \n",
    "\n",
    "**SOLUZIONE 2.2.1**: Guardiamo l'HTML intorno alle posizioni `h4`:\n",
    "\n",
    "\n",
    "\n",
    "```html\n",
    "<div class=\"moodboard__item-text text-white\">\n",
    "    <div>\n",
    "        <h4 class=\"moodboard__item-headline\">Coppa del Mondo di Snowboard</h4>\n",
    "                    <span class=\"moodboard__item-subline strong fz14 text-uppercase d-b\">14/12/2017</span>\n",
    "                            <span class=\"moodboard__item-subline strong fz14 d-b\"><span class=\"icon icon-map-view fz20\"></span> Passo Costalunga</span>\n",
    "            </div>\n",
    "    <div class=\"moodboard__item-text__link text-right\">\n",
    "        <a href=\"https://www.visittrentino.info/it/guida/eventi/coppa-del-mondo-di-snowboard_e_165375\" role=\"link\"><span class=\"icon icon-circle-arrow fz30\"></span></a>\n",
    "    </div>\n",
    "</div>\n",
    "\n",
    "```\n",
    "\n",
    "Vediamo che le date sono dentro attributi `span`, questi attributi semplicemente indicano una sequenza di testo.\n"
   ]
  },
  {
   "cell_type": "markdown",
   "metadata": {},
   "source": [
    "\n",
    "**✪ DA FARE 2.2.2**: Prova a filtrare qui sotto in Python le tag `span`, stampando i risultati. Trovi solo le date ?\n"
   ]
  },
  {
   "cell_type": "markdown",
   "metadata": {},
   "source": [
    "**SOLUZIONE 2.2.2**: Le span sono troppe!"
   ]
  },
  {
   "cell_type": "code",
   "execution_count": 5,
   "metadata": {},
   "outputs": [
    {
     "name": "stdout",
     "output_type": "stream",
     "text": [
      "<span class=\"sr-only\">Toggle navigation</span>\n",
      "<span class=\"icon-bar\"></span>\n",
      "<span class=\"icon-bar\"></span>\n",
      "<span class=\"icon-bar\"></span>\n",
      "<span class=\"icon icon-booking\"></span>\n",
      "<span class=\"icon icon-search fz24 mr10\"></span>\n",
      "<span class=\"hidden-sm hidden-md\">Cerca</span>\n",
      "<span class=\"caret\"></span>\n",
      "<span class=\"icon icon-plus visible-xs pull-right subnav-toggle \"></span>\n",
      "<span class=\"icon icon-plus visible-xs pull-right subnav-toggle \"></span>\n",
      "<span class=\"icon icon-plus visible-xs pull-right subnav-toggle \"></span>\n",
      "<span class=\"icon icon-plus visible-xs pull-right subnav-toggle \"></span>\n",
      "<span class=\"icon icon-circle-arrow fz30\"></span>\n",
      "<span class=\"icon icon-plus visible-xs pull-right subnav-toggle \"></span>\n",
      "<span class=\"icon icon-home pr10 text-grey-light\"></span>\n",
      "<span class=\"icon icon-share share-dropdown__icon text-grey-light\"></span>\n",
      "<span class=\"icon icon-grid-view text-middle\"></span>\n",
      "<span class=\"icon icon-list-view text-middle\"></span>\n",
      "<span class=\"icon icon-map-view text-middle\"></span>\n",
      "<span class=\"icon icon-search text-middle\"></span>\n",
      "<span class=\"btn-select-fake__placeholder d-b\" data-select-all=\"Seleziona le date \" id=\"collapseDatePlaceholder\">\n",
      "                    Seleziona le date                 </span>\n",
      "<span class=\"btn-select-fake__placeholder d-b\" data-select-all=\"Tutti i tipi di evento \" data-select-text=\"Tipologie selezionate\" id=\"collapseCategoryPlaceholder\">\n",
      "                    Tutti i tipi di evento                 </span>\n",
      "<span class=\"close-collapse icon icon-circle-close\"></span>\n",
      "<span class=\"filter-collapse__btn__state icon icon-close\"></span>\n",
      "<span class=\"filter-collapse__btn__state icon icon-close\"></span>\n",
      "<span class=\"filter-collapse__btn__state icon icon-close\"></span>\n",
      "<span class=\"filter-collapse__btn__state icon icon-close\"></span>\n",
      "<span class=\"filter-collapse__btn__state icon icon-close\"></span>\n",
      "<span class=\"filter-collapse__btn__state icon icon-close\"></span>\n",
      "<span class=\"filter-collapse__btn__state icon icon-close\"></span>\n",
      "<span class=\"filter-collapse__btn__state icon icon-close\"></span>\n",
      "<span class=\"filter-collapse__btn__state icon icon-close\"></span>\n",
      "<span class=\"filter-collapse__btn__state icon icon-close\"></span>\n",
      "<span class=\"filter-collapse__btn__state icon icon-close\"></span>\n",
      "<span class=\"filter-collapse__btn__state icon icon-close\"></span>\n",
      "<span class=\"filter-collapse__btn__state icon icon-close\"></span>\n",
      "<span class=\"filter-collapse__btn__state icon icon-close\"></span>\n",
      "<span class=\"filter-collapse__btn__state icon icon-close\"></span>\n",
      "<span class=\"filter-collapse__btn__state icon icon-close\"></span>\n",
      "<span class=\"filter-collapse__btn__state icon icon-close\"></span>\n",
      "<span class=\"filter-collapse__btn__state icon icon-close\"></span>\n",
      "<span class=\"filter-collapse__btn__state icon icon-close\"></span>\n",
      "<span class=\"filter-collapse__btn__state icon icon-close\"></span>\n",
      "<span class=\"filter-collapse__btn__state icon icon-close\"></span>\n",
      "<span class=\"icon icon-close\"></span>\n",
      "<span class=\"close-collapse icon icon-circle-close\"></span>\n",
      "<span class=\"icon icon-calendar datepicker-control__icon\"></span>\n",
      "<span class=\"icon icon-calendar datepicker-control__icon\"></span>\n",
      "<span class=\"icon icon-close\"></span>\n",
      "<span class=\"moodboard__item-subline strong fz14 text-uppercase d-b\">14/12/2017</span>\n",
      "<span class=\"moodboard__item-subline strong fz14 d-b\"><span class=\"icon icon-map-view fz20\"></span> Passo Costalunga</span>\n",
      "<span class=\"icon icon-map-view fz20\"></span>\n",
      "<span class=\"icon icon-circle-arrow fz30\"></span>\n",
      "<span class=\"special-mark top-event bg-green text-uppercase fz14 text-white\">\n",
      "        Top Evento     </span>\n",
      "<span class=\"moodboard__item-subline strong fz14 text-uppercase d-b\">18/12/2017</span>\n",
      "<span class=\"moodboard__item-subline strong fz14 d-b\"><span class=\"icon icon-map-view fz20\"></span> Pozza di Fassa</span>\n",
      "<span class=\"icon icon-map-view fz20\"></span>\n",
      "<span class=\"icon icon-circle-arrow fz30\"></span>\n",
      "<span class=\"special-mark top-event bg-green text-uppercase fz14 text-white\">\n",
      "        Top Evento     </span>\n",
      "<span class=\"moodboard__item-subline strong fz14 text-uppercase d-b\">22/12/2017</span>\n",
      "<span class=\"moodboard__item-subline strong fz14 d-b\"><span class=\"icon icon-map-view fz20\"></span> Madonna di Campiglio</span>\n",
      "<span class=\"icon icon-map-view fz20\"></span>\n",
      "<span class=\"icon icon-circle-arrow fz30\"></span>\n",
      "<span class=\"special-mark top-event bg-green text-uppercase fz14 text-white\">\n",
      "        Top Evento     </span>\n",
      "<span class=\"moodboard__item-subline strong fz14 text-uppercase d-b\">28/01/2018</span>\n",
      "<span class=\"moodboard__item-subline strong fz14 d-b\"><span class=\"icon icon-map-view fz20\"></span> Val di Fassa </span>\n",
      "<span class=\"icon icon-map-view fz20\"></span>\n",
      "<span class=\"icon icon-circle-arrow fz30\"></span>\n",
      "<span class=\"special-mark top-event bg-green text-uppercase fz14 text-white\">\n",
      "        Top Evento     </span>\n",
      "<span class=\"moodboard__item-subline strong fz14 text-uppercase d-b\">06/01/2018 - 07/04/2018</span>\n",
      "<span class=\"icon icon-circle-arrow fz30\"></span>\n",
      "<span class=\"special-mark top-event bg-green text-uppercase fz14 text-white\">\n",
      "        Top Evento     </span>\n",
      "<span class=\"moodboard__item-subline strong fz14 text-uppercase d-b\">06/01/2018 - 07/01/2018</span>\n",
      "<span class=\"moodboard__item-subline strong fz14 d-b\"><span class=\"icon icon-map-view fz20\"></span> Tesero</span>\n",
      "<span class=\"icon icon-map-view fz20\"></span>\n",
      "<span class=\"icon icon-circle-arrow fz30\"></span>\n",
      "<span class=\"special-mark top-event bg-green text-uppercase fz14 text-white\">\n",
      "            Top Evento         </span>\n",
      "<span class=\"moodboard__item-subline strong fz14 text-uppercase d-b\">01/10/2017 - 30/11/2017</span>\n",
      "<span class=\"moodboard__item-subline strong fz14 d-b\"><span class=\"icon icon-map-view fz20\"></span> Pozza di Fassa</span>\n",
      "<span class=\"icon icon-map-view fz20\"></span>\n",
      "<span class=\"icon icon-circle-arrow fz30\"></span>\n",
      "<span class=\"special-mark top-event bg-green text-uppercase fz14 text-white\">\n",
      "            premium        </span>\n",
      "<span class=\"moodboard__item-subline strong fz14 text-uppercase d-b\">31/10/2017 - 20/12/2017</span>\n",
      "<span class=\"moodboard__item-subline strong fz14 d-b\"><span class=\"icon icon-map-view fz20\"></span> Pozza di Fassa</span>\n",
      "<span class=\"icon icon-map-view fz20\"></span>\n",
      "<span class=\"icon icon-circle-arrow fz30\"></span>\n",
      "<span class=\"special-mark top-event bg-green text-uppercase fz14 text-white\">\n",
      "            premium        </span>\n",
      "<span class=\"moodboard__item-subline strong fz14 text-uppercase d-b\">19/11/2017 - 30/12/2017</span>\n",
      "<span class=\"moodboard__item-subline strong fz14 d-b\"><span class=\"icon icon-map-view fz20\"></span> Tenno</span>\n",
      "<span class=\"icon icon-map-view fz20\"></span>\n",
      "<span class=\"icon icon-circle-arrow fz30\"></span>\n",
      "<span class=\"special-mark top-event bg-green text-uppercase fz14 text-white\">\n",
      "            premium        </span>\n",
      "<span class=\"moodboard__item-subline strong fz14 text-uppercase d-b\">06/01/2018</span>\n",
      "<span class=\"moodboard__item-subline strong fz14 d-b\"><span class=\"icon icon-map-view fz20\"></span> Fondo</span>\n",
      "<span class=\"icon icon-map-view fz20\"></span>\n",
      "<span class=\"icon icon-circle-arrow fz30\"></span>\n",
      "<span class=\"special-mark top-event bg-green text-uppercase fz14 text-white\">\n",
      "            premium        </span>\n",
      "<span class=\"moodboard__item-subline strong fz14 text-uppercase d-b\">18/11/2017 - 06/01/2018</span>\n",
      "<span class=\"moodboard__item-subline strong fz14 d-b\"><span class=\"icon icon-map-view fz20\"></span> Trento</span>\n",
      "<span class=\"icon icon-map-view fz20\"></span>\n",
      "<span class=\"icon icon-circle-arrow fz30\"></span>\n",
      "<span class=\"special-mark top-event bg-green text-uppercase fz14 text-white\">\n",
      "            premium        </span>\n",
      "<span class=\"moodboard__item-subline strong fz14 text-uppercase d-b\">25/11/2017 - 06/01/2018</span>\n",
      "<span class=\"moodboard__item-subline strong fz14 d-b\"><span class=\"icon icon-map-view fz20\"></span> Rovereto</span>\n",
      "<span class=\"icon icon-map-view fz20\"></span>\n",
      "<span class=\"icon icon-circle-arrow fz30\"></span>\n",
      "<span class=\"special-mark top-event bg-green text-uppercase fz14 text-white\">\n",
      "            premium        </span>\n",
      "<span class=\"moodboard__item-subline strong fz14 text-uppercase d-b\">25/11/2017 - 06/01/2018</span>\n",
      "<span class=\"moodboard__item-subline strong fz14 d-b\"><span class=\"icon icon-map-view fz20\"></span> Levico Terme</span>\n",
      "<span class=\"icon icon-map-view fz20\"></span>\n",
      "<span class=\"icon icon-circle-arrow fz30\"></span>\n",
      "<span class=\"special-mark top-event bg-green text-uppercase fz14 text-white\">\n",
      "            premium        </span>\n",
      "<span class=\"moodboard__item-subline strong fz14 text-uppercase d-b\">01/12/2017 - 06/01/2018</span>\n",
      "<span class=\"moodboard__item-subline strong fz14 d-b\"><span class=\"icon icon-map-view fz20\"></span> Cavalese</span>\n",
      "<span class=\"icon icon-map-view fz20\"></span>\n",
      "<span class=\"icon icon-circle-arrow fz30\"></span>\n",
      "<span class=\"special-mark top-event bg-green text-uppercase fz14 text-white\">\n",
      "            premium        </span>\n",
      "<span class=\"moodboard__item-subline strong fz14 text-uppercase d-b\">17/11/2017 - 07/01/2018</span>\n",
      "<span class=\"moodboard__item-subline strong fz14 d-b\"><span class=\"icon icon-map-view fz20\"></span> Arco</span>\n",
      "<span class=\"icon icon-map-view fz20\"></span>\n",
      "<span class=\"icon icon-circle-arrow fz30\"></span>\n",
      "<span class=\"special-mark top-event bg-green text-uppercase fz14 text-white\">\n",
      "            premium        </span>\n",
      "<span class=\"moodboard__item-subline strong fz14 text-uppercase d-b\">08/12/2017 - 07/01/2018</span>\n",
      "<span class=\"moodboard__item-subline strong fz14 d-b\"><span class=\"icon icon-map-view fz20\"></span> Baselga di Piné</span>\n",
      "<span class=\"icon icon-map-view fz20\"></span>\n",
      "<span class=\"icon icon-circle-arrow fz30\"></span>\n",
      "<span class=\"special-mark top-event bg-green text-uppercase fz14 text-white\">\n",
      "            premium        </span>\n",
      "<span class=\"special-mark top-event bg-green text-uppercase fz14 text-white\">Top Evento </span>\n",
      "<span class=\"icon icon-circle-arrow fz30\"></span>\n",
      "<span class=\"text-secondary fz14 text-uppercase strong\">Sport, TOP EVENTI SPORT</span>\n",
      "<span class=\"icon icon-map-view mr10\"></span>\n",
      "<span class=\"icon icon-map-view mr10\"></span>\n",
      "<span class=\"special-mark top-event bg-green text-uppercase fz14 text-white\">Top Evento </span>\n",
      "<span class=\"icon icon-circle-arrow fz30\"></span>\n",
      "<span class=\"text-secondary fz14 text-uppercase strong\">Sport, TOP EVENTI SPORT</span>\n",
      "<span class=\"icon icon-map-view mr10\"></span>\n",
      "<span class=\"icon icon-map-view mr10\"></span>\n",
      "<span class=\"special-mark top-event bg-green text-uppercase fz14 text-white\">Top Evento </span>\n",
      "<span class=\"icon icon-circle-arrow fz30\"></span>\n",
      "<span class=\"text-secondary fz14 text-uppercase strong\">Sport, TOP EVENTI SPORT</span>\n",
      "<span class=\"icon icon-map-view mr10\"></span>\n",
      "<span class=\"icon icon-map-view mr10\"></span>\n",
      "<span class=\"special-mark top-event bg-green text-uppercase fz14 text-white\">Top Evento </span>\n",
      "<span class=\"icon icon-circle-arrow fz30\"></span>\n",
      "<span class=\"text-secondary fz14 text-uppercase strong\">Sport, TOP EVENTI SPORT</span>\n",
      "<span class=\"icon icon-map-view mr10\"></span>\n",
      "<span class=\"icon icon-map-view mr10\"></span>\n",
      "<span class=\"special-mark top-event bg-green text-uppercase fz14 text-white\">Top Evento </span>\n",
      "<span class=\"icon icon-circle-arrow fz30\"></span>\n",
      "<span class=\"text-secondary fz14 text-uppercase strong\">Enogastronomia, Intrattenimento della Località, Sport</span>\n",
      "<span class=\"icon icon-map-view mr10\"></span>\n",
      "<span class=\"special-mark top-event bg-green text-uppercase fz14 text-white\">Top Evento </span>\n",
      "<span class=\"icon icon-circle-arrow fz30\"></span>\n",
      "<span class=\"text-secondary fz14 text-uppercase strong\">Sport, Intrattenimento della Località, Enogastronomia</span>\n",
      "<span class=\"icon icon-map-view mr10\"></span>\n",
      "<span class=\"icon icon-map-view mr10\"></span>\n",
      "<span class=\"special-mark top-event bg-green text-uppercase fz14 text-white\">premium</span>\n",
      "<span class=\"icon icon-circle-arrow fz30\"></span>\n",
      "<span class=\"text-secondary fz14 text-uppercase strong\">Wellness</span>\n",
      "<span class=\"icon icon-map-view mr10\"></span>\n",
      "<span class=\"icon icon-map-view mr10\"></span>\n",
      "<span class=\"special-mark top-event bg-green text-uppercase fz14 text-white\">premium</span>\n",
      "<span class=\"icon icon-circle-arrow fz30\"></span>\n",
      "<span class=\"text-secondary fz14 text-uppercase strong\">Wellness</span>\n",
      "<span class=\"icon icon-map-view mr10\"></span>\n",
      "<span class=\"icon icon-map-view mr10\"></span>\n",
      "<span class=\"special-mark top-event bg-green text-uppercase fz14 text-white\">premium</span>\n",
      "<span class=\"icon icon-circle-arrow fz30\"></span>\n",
      "<span class=\"text-secondary fz14 text-uppercase strong\">Intrattenimento della Località, Mercati e mercatini</span>\n",
      "<span class=\"icon icon-map-view mr10\"></span>\n",
      "<span class=\"icon icon-map-view mr10\"></span>\n",
      "<span class=\"special-mark top-event bg-green text-uppercase fz14 text-white\">premium</span>\n",
      "<span class=\"icon icon-circle-arrow fz30\"></span>\n",
      "<span class=\"text-secondary fz14 text-uppercase strong\">Sport, TOP EVENTI SPORT</span>\n",
      "<span class=\"icon icon-map-view mr10\"></span>\n",
      "<span class=\"icon icon-map-view mr10\"></span>\n",
      "<span class=\"special-mark top-event bg-green text-uppercase fz14 text-white\">premium</span>\n",
      "<span class=\"icon icon-circle-arrow fz30\"></span>\n",
      "<span class=\"text-secondary fz14 text-uppercase strong\">Intrattenimento della Località, Mercati e mercatini</span>\n",
      "<span class=\"icon icon-map-view mr10\"></span>\n",
      "<span class=\"icon icon-map-view mr10\"></span>\n",
      "<span class=\"special-mark top-event bg-green text-uppercase fz14 text-white\">premium</span>\n",
      "<span class=\"icon icon-circle-arrow fz30\"></span>\n",
      "<span class=\"text-secondary fz14 text-uppercase strong\">Intrattenimento della Località, Mercati e mercatini</span>\n",
      "<span class=\"icon icon-map-view mr10\"></span>\n",
      "<span class=\"icon icon-map-view mr10\"></span>\n",
      "<span class=\"special-mark top-event bg-green text-uppercase fz14 text-white\">premium</span>\n",
      "<span class=\"icon icon-circle-arrow fz30\"></span>\n",
      "<span class=\"text-secondary fz14 text-uppercase strong\">Mercati e mercatini, Intrattenimento della Località</span>\n",
      "<span class=\"icon icon-map-view mr10\"></span>\n",
      "<span class=\"icon icon-map-view mr10\"></span>\n",
      "<span class=\"special-mark top-event bg-green text-uppercase fz14 text-white\">premium</span>\n",
      "<span class=\"icon icon-circle-arrow fz30\"></span>\n",
      "<span class=\"text-secondary fz14 text-uppercase strong\">Intrattenimento della Località, Mercati e mercatini</span>\n",
      "<span class=\"icon icon-map-view mr10\"></span>\n",
      "<span class=\"icon icon-map-view mr10\"></span>\n",
      "<span class=\"special-mark top-event bg-green text-uppercase fz14 text-white\">premium</span>\n",
      "<span class=\"icon icon-circle-arrow fz30\"></span>\n",
      "<span class=\"text-secondary fz14 text-uppercase strong\">Intrattenimento della Località, Mercati e mercatini</span>\n",
      "<span class=\"icon icon-map-view mr10\"></span>\n",
      "<span class=\"icon icon-map-view mr10\"></span>\n",
      "<span class=\"special-mark top-event bg-green text-uppercase fz14 text-white\">premium</span>\n",
      "<span class=\"icon icon-circle-arrow fz30\"></span>\n",
      "<span class=\"text-secondary fz14 text-uppercase strong\">Mercati e mercatini, Folklore</span>\n",
      "<span class=\"icon icon-map-view mr10\"></span>\n",
      "<span class=\"icon icon-map-view mr10\"></span>\n",
      "<span class=\"icon icon-grid-view text-middle\"></span>\n",
      "<span class=\"icon icon-list-view text-middle\"></span>\n",
      "<span class=\"icon icon-map-view text-middle\"></span>\n",
      "<span class=\"icon icon-close fz18\"></span>\n",
      "<span class=\"icon icon-arrow-small pull-right\"></span>\n",
      "<span class=\"hidden-xs\">Cerca</span>\n",
      "<span class=\"icon icon-arrow-small pull-right\"></span>\n",
      "<span class=\"hidden-xs\">Vedi tutte le </span>\n",
      "<span class=\"icon icon-arrow-small pull-right\"></span>\n",
      "<span class=\"hidden-xs\">Invia una </span>\n",
      "<span class=\"icon icon-facebook\"></span>\n",
      "<span class=\"icon icon-twitter\"></span>\n",
      "<span class=\"icon icon-youtube\"></span>\n",
      "<span class=\"icon icon-instagram\"></span>\n",
      "<span class=\"icon icon-newsletter\"></span>\n",
      "<span class=\"icon icon-arrow-small hidden-xs fz20 ml15\"></span>\n",
      "<span class=\"creditlink\"><a href=\"https://www.visittrentino.info/it/guida/webmaster\" rel=\"nofollow\" target=\"_self\">Scrivi al webmaster</a></span>\n",
      "<span class=\"icon icon-rotate-270 icon-arrow-small\"></span>\n",
      "<span class=\"icon icon-circle-close fullpage-search__close js-close-search\"></span>\n",
      "<span class=\"icon icon-close\"></span>\n",
      "<span class=\"icon icon-search fz24 mr10\"></span>\n",
      "<span class=\"caret\"></span>\n",
      "<span class=\"icon icon-info mr10\"></span>\n",
      "<span data-content=\"Nel corso della navigazione verranno raccolti cookies c.d. tecnici sia per permetterti di accedere a visittrentino.info ed utilizzare il portale sia per il funzionamento della piattaforma di booking. Titolare del trattamento è Trentino Sviluppo S.p.A. \"></span>\n",
      "<span class=\"ui-icon ui-icon-circle-triangle-w\"></span>\n",
      "<span class=\"icon icon-rotate-180 icon-arrow-small\"></span>\n",
      "<span class=\"ui-icon ui-icon-circle-triangle-e\"></span>\n",
      "<span class=\"icon icon-arrow-small\"></span>\n",
      "<span class=\"ui-datepicker-month\">November</span>\n",
      "<span class=\"ui-datepicker-year\">2017</span>\n",
      "<span title=\"Sunday\">Su</span>\n",
      "<span title=\"Monday\">Mo</span>\n",
      "<span title=\"Tuesday\">Tu</span>\n",
      "<span title=\"Wednesday\">We</span>\n",
      "<span title=\"Thursday\">Th</span>\n",
      "<span title=\"Friday\">Fr</span>\n",
      "<span title=\"Saturday\">Sa</span>\n",
      "<span class=\"ui-state-default\">1</span>\n",
      "<span class=\"ui-state-default\">2</span>\n",
      "<span class=\"ui-state-default\">3</span>\n",
      "<span class=\"ui-state-default\">4</span>\n",
      "<span class=\"ui-state-default\">5</span>\n",
      "<span class=\"ui-state-default\">6</span>\n",
      "<span class=\"ui-state-default\">7</span>\n",
      "<span class=\"ui-state-default\">8</span>\n",
      "<span class=\"ui-state-default\">9</span>\n",
      "<span class=\"ui-state-default\">10</span>\n",
      "<span class=\"ui-state-default\">11</span>\n",
      "<span class=\"ui-state-default\">12</span>\n",
      "<span class=\"ui-state-default\">13</span>\n",
      "<span class=\"ui-state-default\">14</span>\n",
      "<span class=\"ui-state-default\">15</span>\n",
      "<span class=\"ui-state-default\">16</span>\n",
      "<span class=\"ui-state-default\">17</span>\n",
      "<span class=\"ui-state-default\">18</span>\n",
      "<span class=\"ui-state-default\">19</span>\n",
      "<span class=\"ui-state-default\">20</span>\n",
      "<span class=\"ui-state-default\">21</span>\n",
      "<span class=\"ui-state-default\">22</span>\n",
      "<span class=\"ui-state-default\">23</span>\n",
      "<span class=\"ui-state-default\">24</span>\n",
      "<span class=\"ui-state-default\">25</span>\n",
      "<span class=\"ui-state-default\">26</span>\n"
     ]
    }
   ],
   "source": [
    "for tag in soup.select(\"span\"):\n",
    "    print(tag)"
   ]
  },
  {
   "cell_type": "markdown",
   "metadata": {},
   "source": [
    "#### Filtri più selettivi\n"
   ]
  },
  {
   "cell_type": "markdown",
   "metadata": {},
   "source": [
    "**✪ DA FARE 2.2.3**: possiamo scrivere direttamente senza nient'altro la stringa `moodboard__item-subline strong fz14 text-uppercase d-b` nella `select` ? Scrivi qui sotto i tuoi esperimenti.\n",
    "\n",
    "**SOLUZIONE 2.2.3**:\n",
    "\n",
    "No, le regole CSS sono abbastanza rigide e non consentono ricerca di testo libero.  \n",
    "\n"
   ]
  },
  {
   "cell_type": "markdown",
   "metadata": {},
   "source": [
    "### 2.3 Estraiamo i luoghi\n"
   ]
  },
  {
   "cell_type": "markdown",
   "metadata": {},
   "source": [
    "**✪✪ DA FARE 2.3.1**: Cerca nell'HTML il luogo `Passo Costalunga` dell'evento Coppa di Snowboard. Con quale criterio possiamo filtrare i luoghi ?   "
   ]
  },
  {
   "cell_type": "markdown",
   "metadata": {},
   "source": [
    "**SOLUZIONE 2.3.1**: \n",
    "\n",
    "Possiamo usare la classe `class=\"moodboard__item-subline strong fz14 d-b\"` nelle righe: \n",
    "\n",
    "```html\n",
    "<div class=\"moodboard__item-text text-white\">\n",
    "    <div>\n",
    "        <h4 class=\"moodboard__item-headline\">Coppa del Mondo di Snowboard</h4>\n",
    "                    <span class=\"moodboard__item-subline strong fz14 text-uppercase d-b\">14/12/2017</span>\n",
    "                            <span class=\"moodboard__item-subline strong fz14 d-b\"><span class=\"icon icon-map-view fz20\"></span> Passo Costalunga</span>\n",
    "            </div>\n",
    "    <div class=\"moodboard__item-text__link text-right\">\n",
    "        <a href=\"https://www.visittrentino.info/it/guida/eventi/coppa-del-mondo-di-snowboard_e_165375\" role=\"link\"><span class=\"icon icon-circle-arrow fz30\"></span></a>\n",
    "    </div>\n",
    "</div>\n",
    "```"
   ]
  },
  {
   "cell_type": "markdown",
   "metadata": {},
   "source": [
    "**✪ DA FARE 2.3.2**: Scrivi il codice Python per estrarre i luoghi e metterlo nella lista `luoghi` (usa sempre l'html intorno ai blocchi `h4`)   \n",
    "\n",
    "**SUGGERIMENTO**: Non importa se il testo che cerchi è contenuto in uno span all'interno di un'altro span identificabile "
   ]
  },
  {
   "cell_type": "markdown",
   "metadata": {},
   "source": [
    "**SOLUZIONE**:"
   ]
  },
  {
   "cell_type": "code",
   "execution_count": 6,
   "metadata": {},
   "outputs": [
    {
     "name": "stdout",
     "output_type": "stream",
     "text": [
      " Passo Costalunga\n",
      " Pozza di Fassa\n",
      " Madonna di Campiglio\n",
      " Val di Fassa \n",
      " Tesero\n",
      " Pozza di Fassa\n",
      " Pozza di Fassa\n",
      " Tenno\n",
      " Fondo\n",
      " Trento\n",
      " Rovereto\n",
      " Levico Terme\n",
      " Cavalese\n",
      " Arco\n",
      " Baselga di Piné\n"
     ]
    }
   ],
   "source": [
    "for tag in soup.select('[class=\"moodboard__item-subline strong fz14 d-b\"]'):\n",
    "    print(tag.text)"
   ]
  },
  {
   "cell_type": "code",
   "execution_count": 7,
   "metadata": {},
   "outputs": [],
   "source": [
    "luoghi = []\n",
    "for tag in soup.select('[class=\"moodboard__item-subline strong fz14 d-b\"]'):\n",
    "    luoghi.append(tag.text)"
   ]
  },
  {
   "cell_type": "code",
   "execution_count": 8,
   "metadata": {},
   "outputs": [
    {
     "data": {
      "text/plain": [
       "[' Passo Costalunga',\n",
       " ' Pozza di Fassa',\n",
       " ' Madonna di Campiglio',\n",
       " ' Val di Fassa ',\n",
       " ' Tesero',\n",
       " ' Pozza di Fassa',\n",
       " ' Pozza di Fassa',\n",
       " ' Tenno',\n",
       " ' Fondo',\n",
       " ' Trento',\n",
       " ' Rovereto',\n",
       " ' Levico Terme',\n",
       " ' Cavalese',\n",
       " ' Arco',\n",
       " ' Baselga di Piné']"
      ]
     },
     "execution_count": 8,
     "metadata": {},
     "output_type": "execute_result"
    }
   ],
   "source": [
    "luoghi"
   ]
  },
  {
   "cell_type": "markdown",
   "metadata": {},
   "source": [
    "### 2.3 Sistemiamo i luoghi"
   ]
  },
  {
   "cell_type": "markdown",
   "metadata": {},
   "source": [
    "**✪ DA FARE 2.3.3**: Che dato è? Guarda la pagina e cerca se qualche evento non ha un luogo. In che posizione è nella lista ? "
   ]
  },
  {
   "cell_type": "markdown",
   "metadata": {},
   "source": [
    "**SOLUZIONE**: L'evento incriminato è `TrentinoSkiSunrise: sulle piste alla luce dell’alba`, guardando dentro l'html vediamo che manca proprio lo `span` con la classe:\n",
    "\n",
    "```html\n",
    "<div class=\"moodboard__item-text text-white\">\n",
    "    <div>\n",
    "        <h4 class=\"moodboard__item-headline\">TrentinoSkiSunrise: sulle piste alla luce dell’alba</h4>\n",
    "                    <span class=\"moodboard__item-subline strong fz14 text-uppercase d-b\">06/01/2018 - 07/04/2018</span>\n",
    "                    </div>\n",
    "    <div class=\"moodboard__item-text__link text-right\">\n",
    "        <a href=\"https://www.visittrentino.info/it/guida/eventi/trentinoskisunrise-sulle-piste-alla-luce-dell-alba_e_318133\" role=\"link\"><span class=\"icon icon-circle-arrow fz30\"></span></a>\n",
    "    </div>\n",
    "</div>\n",
    "``` "
   ]
  },
  {
   "cell_type": "markdown",
   "metadata": {},
   "source": [
    "**✪ DA FARE 2.3.4**: Come rimediare al problema? Ci sono metodo più furbi, ma per stavolta semplicemente possiamo inserire una stringa vuota alla posizione della lista `luoghi` in cui ci dovrebbe essere il campo mancante - e cioè dopo `Val di Fassa`. Per farlo, puoi usare il metodo `insert`. Qua puoi vedere qualche esempio di utilizzo.\n",
    "\n",
    "**NOTA**: Ricordati che gli indici iniziano da 0 !"
   ]
  },
  {
   "cell_type": "markdown",
   "metadata": {},
   "source": [
    "**SOLUZIONE**: "
   ]
  },
  {
   "cell_type": "code",
   "execution_count": 9,
   "metadata": {},
   "outputs": [],
   "source": [
    "luoghi.insert(4, '')"
   ]
  },
  {
   "cell_type": "code",
   "execution_count": 10,
   "metadata": {},
   "outputs": [
    {
     "data": {
      "text/plain": [
       "[' Passo Costalunga',\n",
       " ' Pozza di Fassa',\n",
       " ' Madonna di Campiglio',\n",
       " ' Val di Fassa ',\n",
       " '',\n",
       " ' Tesero',\n",
       " ' Pozza di Fassa',\n",
       " ' Pozza di Fassa',\n",
       " ' Tenno',\n",
       " ' Fondo',\n",
       " ' Trento',\n",
       " ' Rovereto',\n",
       " ' Levico Terme',\n",
       " ' Cavalese',\n",
       " ' Arco',\n",
       " ' Baselga di Piné']"
      ]
     },
     "execution_count": 10,
     "metadata": {},
     "output_type": "execute_result"
    }
   ],
   "source": [
    "luoghi"
   ]
  },
  {
   "cell_type": "markdown",
   "metadata": {},
   "source": [
    "**✪✪ DA FARE 2.3.5**: Prima di procedere, verifica che la lunghezza della lista `len(luoghi)` sia corretta (= 16). Adesso, osserva attentamente le stringhe dei luoghi. Dovresti vedere che iniziano tutte con uno spazio inutile: sistema la lista `luoghi` togliendo gli spazi extra  usando una _list comprehension_ (vedere [Capitolo 19.2 Pensare in Python](https://davidleoni.github.io/ThinkPythonItalian/html/thinkpython2020.html#sec227)). Per eliminare gli spazi  puoi usare il metodo delle stringhe `.strip()`\n",
    "\n",
    "**NOTA**: quando crei una _list comprehension_, ne generi una nuova, la lista originale _non_ viene modificata! "
   ]
  },
  {
   "cell_type": "markdown",
   "metadata": {},
   "source": [
    "**SOLUZIONE**"
   ]
  },
  {
   "cell_type": "code",
   "execution_count": 11,
   "metadata": {},
   "outputs": [],
   "source": [
    "luoghi = [luogo.strip() for luogo in luoghi]"
   ]
  },
  {
   "cell_type": "markdown",
   "metadata": {},
   "source": [
    "### 2.4 Tipo dell'evento"
   ]
  },
  {
   "cell_type": "markdown",
   "metadata": {},
   "source": [
    "**✪ DA FARE 2.4.1**: Cerca la stringa `Sport, TOP EVENTI SPORT` nell'HTML. Quante occorrenze ci sono ? E' possibile filtrare il tipo eventi in modo univoco ?  "
   ]
  },
  {
   "cell_type": "markdown",
   "metadata": {},
   "source": [
    "**SOLUZIONE 2.4.1**: \n",
    "\n",
    "Questa volta il tipo eventi appare solo nei blocchi intorno agli `h2`, in particolare notiamo la riga \n",
    "\n",
    "`<span class=\"text-secondary fz14 text-uppercase strong\">Sport, TOP EVENTI SPORT</span>` :\n",
    "\n",
    "```html\n",
    "<div class=\"col col-sm-9 arrange__item\">\n",
    "                    <a href=\"https://www.visittrentino.info/it/guida/eventi/coppa-del-mondo-di-snowboard_e_165375\" class=\"text-primary list-teaser__link\"><span class=\"icon icon-circle-arrow fz30\"></span></a>\n",
    "                    <div class=\"teaser__body\">\n",
    "                                                    <span class=\"text-secondary fz14 text-uppercase strong\">Sport, TOP EVENTI SPORT</span>\n",
    "                                                <h2 class=\"text-secondary\">Coppa del Mondo di Snowboard</h2>\n",
    "                        <ul class=\"list-unstyled list-inline list__teaser__list mb15 mt10\">\n",
    "                                                            <li>\n",
    "                                    <a class=\"fz14 text-uppercase strong text-primary\"><span class=\"icon icon-map-view mr10\"></span>Passo Costalunga</a>\n",
    "                                </li>\n",
    "                                                        <li>\n",
    "                                <a class=\"fz14 text-uppercase strong text-primary\"><span class=\"icon icon-map-view mr10\"></span>14/12/2017</a>\n",
    "                            </li>\n",
    "                        </ul>\n",
    "                        <p>Al Passo Costalunga sfida tra i migliori specialisti del mondo</p>\n",
    "                    </div>\n",
    "                </div>\n",
    "\n",
    "```"
   ]
  },
  {
   "cell_type": "markdown",
   "metadata": {},
   "source": [
    "**✪✪ DA FARE 2.4.2**: Scrivi il codice Python per estrarre la lista degli eventi, e chiamala `tipo_evento`. Per farlo, puoi usare il codice già visto in precedenza, ma questa volta, per creare la lista sforzati di usare una _list comprehension_.\n",
    "Verifica poi che la lunghezza della stringa sia 16.\n",
    "\n",
    "**SUGGERIMENTO**: La lista originale da cui prelevare il testo delle le tag sarà creata dalla chiamata a `soup.select`"
   ]
  },
  {
   "cell_type": "markdown",
   "metadata": {},
   "source": [
    "**SOLUZIONE**"
   ]
  },
  {
   "cell_type": "code",
   "execution_count": 12,
   "metadata": {},
   "outputs": [
    {
     "name": "stdout",
     "output_type": "stream",
     "text": [
      "Sport, TOP EVENTI SPORT\n",
      "Sport, TOP EVENTI SPORT\n",
      "Sport, TOP EVENTI SPORT\n",
      "Sport, TOP EVENTI SPORT\n",
      "Enogastronomia, Intrattenimento della Località, Sport\n",
      "Sport, Intrattenimento della Località, Enogastronomia\n",
      "Wellness\n",
      "Wellness\n",
      "Intrattenimento della Località, Mercati e mercatini\n",
      "Sport, TOP EVENTI SPORT\n",
      "Intrattenimento della Località, Mercati e mercatini\n",
      "Intrattenimento della Località, Mercati e mercatini\n",
      "Mercati e mercatini, Intrattenimento della Località\n",
      "Intrattenimento della Località, Mercati e mercatini\n",
      "Intrattenimento della Località, Mercati e mercatini\n",
      "Mercati e mercatini, Folklore\n"
     ]
    }
   ],
   "source": [
    "for tag in soup.select('[class=\"text-secondary fz14 text-uppercase strong\"]'):\n",
    "    print(tag.text)"
   ]
  },
  {
   "cell_type": "code",
   "execution_count": 13,
   "metadata": {},
   "outputs": [],
   "source": [
    "tipi_evento = [tag.text for tag in soup.select('[class=\"text-secondary fz14 text-uppercase strong\"]')]"
   ]
  },
  {
   "cell_type": "code",
   "execution_count": 14,
   "metadata": {},
   "outputs": [
    {
     "data": {
      "text/plain": [
       "['Sport, TOP EVENTI SPORT',\n",
       " 'Sport, TOP EVENTI SPORT',\n",
       " 'Sport, TOP EVENTI SPORT',\n",
       " 'Sport, TOP EVENTI SPORT',\n",
       " 'Enogastronomia, Intrattenimento della Località, Sport',\n",
       " 'Sport, Intrattenimento della Località, Enogastronomia',\n",
       " 'Wellness',\n",
       " 'Wellness',\n",
       " 'Intrattenimento della Località, Mercati e mercatini',\n",
       " 'Sport, TOP EVENTI SPORT',\n",
       " 'Intrattenimento della Località, Mercati e mercatini',\n",
       " 'Intrattenimento della Località, Mercati e mercatini',\n",
       " 'Mercati e mercatini, Intrattenimento della Località',\n",
       " 'Intrattenimento della Località, Mercati e mercatini',\n",
       " 'Intrattenimento della Località, Mercati e mercatini',\n",
       " 'Mercati e mercatini, Folklore']"
      ]
     },
     "execution_count": 14,
     "metadata": {},
     "output_type": "execute_result"
    }
   ],
   "source": [
    "tipi_evento"
   ]
  },
  {
   "cell_type": "markdown",
   "metadata": {},
   "source": [
    "### 2.5 descrizione\n"
   ]
  },
  {
   "cell_type": "markdown",
   "metadata": {},
   "source": [
    "**✪ DA FARE 2.5.1**: Cerca manualmente nell'HTML la stringa `Al Passo Costalunga sfida tra i migliori specialisti del mondo`. In quante posizioni appare ? In base a quali criteri potremo filtrare i tipi degli eventi ? "
   ]
  },
  {
   "cell_type": "markdown",
   "metadata": {},
   "source": [
    "**SOLUZIONE 2.5.1**:\n",
    "\n",
    "Vediamo che compare in un blocco html regolare e come già successo prima in un blocco `script`. Concentriamoci sul blocco html. Vediamo che la descrizione sta solo vicino ai blocchi `h2`, in particolare alla linea \n",
    "`<p>Al Passo Costalunga sfida tra i migliori specialisti del mondo</p>`:\n",
    "\n",
    "```html\n",
    "<div class=\"col col-sm-9 arrange__item\">\n",
    "                    <a href=\"https://www.visittrentino.info/it/guida/eventi/coppa-del-mondo-di-snowboard_e_165375\" class=\"text-primary list-teaser__link\"><span class=\"icon icon-circle-arrow fz30\"></span></a>\n",
    "                    <div class=\"teaser__body\">\n",
    "                                                    <span class=\"text-secondary fz14 text-uppercase strong\">Sport, TOP EVENTI SPORT</span>\n",
    "                                                <h2 class=\"text-secondary\">Coppa del Mondo di Snowboard</h2>\n",
    "                        <ul class=\"list-unstyled list-inline list__teaser__list mb15 mt10\">\n",
    "                                                            <li>\n",
    "                                    <a class=\"fz14 text-uppercase strong text-primary\"><span class=\"icon icon-map-view mr10\"></span>Passo Costalunga</a>\n",
    "                                </li>\n",
    "                                                        <li>\n",
    "                                <a class=\"fz14 text-uppercase strong text-primary\"><span class=\"icon icon-map-view mr10\"></span>14/12/2017</a>\n",
    "                            </li>\n",
    "                        </ul>\n",
    "                        <p>Al Passo Costalunga sfida tra i migliori specialisti del mondo</p>\n",
    "                    </div>\n",
    "                </div>\n",
    "```\n",
    "\n",
    "Stavolta il filtraggio non è così semplice come prima, perchè per `<p>` non c'è nessun comodo attributo come `class`. Possiamo però cercare se qualche attributo prima è più facilmente identificabile. Guardiamo per esempio la tag `<ul>` immediatamente precedente:\n",
    "\n",
    "```html\n",
    "                        <ul class=\"list-unstyled list-inline list__teaser__list mb15 mt10\">\n",
    "                                                            <li>\n",
    "                                    <a class=\"fz14 text-uppercase strong text-primary\"><span class=\"icon icon-map-view mr10\"></span>Passo Costalunga</a>\n",
    "                                </li>\n",
    "                                                        <li>\n",
    "                                <a class=\"fz14 text-uppercase strong text-primary\"><span class=\"icon icon-map-view mr10\"></span>14/12/2017</a>\n",
    "                            </li>\n",
    "                        </ul>\n",
    "                        <p>Al Passo Costalunga sfida tra i migliori specialisti del mondo</p>\n",
    "```\n",
    "\n",
    "\n",
    "\n",
    "Vediamo che la tag in questione `<ul class=\"list-unstyled list-inline list__teaser__list mb15 mt10\">` contiene una classe, se la cerchiamo nel documento troveremo che tutte queste `ul` con questa classe compaiono sempre e solo prima del `<p>` che vogliamo noi. \n",
    "\n",
    "#### Trovare la descrizione in Python"
   ]
  },
  {
   "cell_type": "markdown",
   "metadata": {},
   "source": [
    "## 3. Scriviamo il CSV"
   ]
  },
  {
   "cell_type": "markdown",
   "metadata": {},
   "source": [
    "**✪✪ DA FARE 3.1**: Prova a scrivere un file CSV contenente tutti i dati raccolti, con quest'ordine di colonne:\n",
    "\n",
    "`nome, data, luogo, tipo, descrizione`\n",
    "\n",
    "Diversamente da quanto fatto finora, in cui abbiamo solo considerato righe come liste, in questo caso dato che abbiamo dizionari ci servirà un oggetto di tipo `DictWriter`. Leggi la [documentazione Python su DictWriter](https://docs.python.org/3/library/csv.html#csv.DictWriter) e copiandone l'esempio prova a scrivere il csv in un file chiamato `eventi.csv`. \n",
    "\n",
    "**NOTA**: Per testare il tutto, fai attenzione a che nella cartella di questo progetto non sia già presente il file `eventi.csv`, in caso eliminalo a mano.\n"
   ]
  },
  {
   "cell_type": "code",
   "execution_count": 15,
   "metadata": {},
   "outputs": [],
   "source": [
    "# Scrivi qui\n",
    "\n",
    "import csv\n",
    "\n",
    "# apriamo il file `eventi.csv`in scrittura :\n",
    "# 'fouput' è un nome  scelto da noi)\n",
    "# 'w' indica a Python che vogliamo scrivere il file\n",
    "#     se il file esiste già, verrà sovrascritto. \n",
    "#     NOTA:  FATE SEMPRE MOLTA ATTENZIONE A NON SOVRASCRIVERE FILE PER SBAGLIO !!!!!\n",
    "with open('eventi.csv', 'w', encoding='utf-8') as foutput:\n",
    "    # andremo a scrivere dizionari, ma nei dizionari le chiavi sono in ordine casuale: \n",
    "    # per avere una serie di colonne ordinata in modo prevedibile, siamo quindi obbligati\n",
    "    # a fornire una lista di intestazioni: \n",
    "    nomi_campi = ['nome', 'data', 'luogo', 'tipo', 'descrizione']  \n",
    "    writer = csv.DictWriter(foutput,fieldnames=nomi_campi)  # Ci serve creare un'oggetto 'scrittore' di tipo DictWriter            \n",
    "    writer.writeheader()\n",
    "    for diz in righe: # stavolta le righe contengono dizionari\n",
    "        writer.writerow(diz)  # chiamiamo l'oggetto scrittore dicendogli di scrivere il dizionario corrente"
   ]
  },
  {
   "cell_type": "markdown",
   "metadata": {},
   "source": [
    "**✪✪✪ DA FARE 3.2**: Abbiamo dei luoghi estratti dall'HTML. Nella [lezione sull'integrazione dati](http://softpython.readthedocs.io/it/latest/data-integration.html), abbiamo imparato a usare Webapi di MapQuest per ottenere delle coordinate geografiche a partire da nomi di luoghi. Riusciresti quindi a:\n",
    "\n",
    "* usare la libreria `requests` e webapi MapQuest per arricchire prima i dizionari di `righe` con `lat` e `lon`  \n",
    "* aggiungere `lat` e `lon` al CSV generato\n",
    "* Caricare il CSV in Umap\n"
   ]
  },
  {
   "cell_type": "code",
   "execution_count": null,
   "metadata": {},
   "outputs": [],
   "source": []
  }
 ],
 "metadata": {
  "kernelspec": {
   "display_name": "Python 3",
   "language": "python",
   "name": "python3"
  },
  "language_info": {
   "codemirror_mode": {
    "name": "ipython",
    "version": 3
   },
   "file_extension": ".py",
   "mimetype": "text/x-python",
   "name": "python",
   "nbconvert_exporter": "python",
   "pygments_lexer": "ipython3",
   "version": "3.5.2"
  }
 },
 "nbformat": 4,
 "nbformat_minor": 2
}
