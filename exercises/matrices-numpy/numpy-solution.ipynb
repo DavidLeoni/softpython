{
 "cells": [
  {
   "cell_type": "code",
   "execution_count": 1,
   "metadata": {
    "nbshpinx": "hidden"
   },
   "outputs": [],
   "source": [
    "# Ricordati di eseguire questa cella con Control+Invio\n",
    "import sys;\n",
    "sys.path.append('../../'); \n",
    "import jupman;\n"
   ]
  },
  {
   "cell_type": "markdown",
   "metadata": {},
   "source": [
    "# Matrici - Numpy - soluzioni\n",
    "\n",
    "\n",
    "## [Scarica zip esercizi](../../_static/matrices-numpy-exercises.zip)\n",
    "\n",
    "[Naviga file online](https://github.com/DavidLeoni/softpython/tree/master/exercises/matrices-numpy)\n",
    "\n",
    "<div class=\"alert alert-warning\">\n",
    "\n",
    "**ATTENZIONE**\n",
    "\n",
    "**Questi esercizi sulle matrici sono integrativi a quelli già indicati nel** [Materiale del corso](https://softpython.readthedocs.io/it/latest/intro.html#Materiale-del-corso).\n",
    "\n",
    "**Per capire come svolgerli, leggi prima entrambe i fogli** [Introduzione a Python](https://softpython.readthedocs.io/it/latest/exercises/intro/intro-solution.html) **e**  [Gestione errori e testing](https://softpython.readthedocs.io/it/latest/exercises/errors-and-testing/errors-and-testing-solution.html) \n",
    "\n",
    "</div>\n",
    "\n",
    "\n",
    "\n"
   ]
  },
  {
   "cell_type": "markdown",
   "metadata": {},
   "source": [
    "## Introduzione\n",
    "\n",
    "Ci sono sostanzialmente due modi in Python di rappresentare matrici: come liste di liste, oppure con la libreria esterna [numpy](https://www.numpy.org). La più usata è sicuramente numpy, vediamo il motivo e le principali differenze:\n",
    "\n",
    "Liste di liste - [vedere foglio separato](https://softpython.readthedocs.io/it/latest/exercises/matrices-list-of-lists/list-of-lists-solution.html)\n",
    "\n",
    "1. native in Python\n",
    "2. non efficienti\n",
    "3. le liste sono pervasive in Python, probabilmente incontrerai matrici espresse come liste di liste in ogni caso\n",
    "4. forniscono un'idea di come costruire una struttura dati annidata\n",
    "5. possono servire per comprendere concetti importanti come puntatori alla memoria e copie \n",
    "\n",
    "\n",
    "Numpy - questo foglio\n",
    "\n",
    "1. non nativamente disponibile in Python\n",
    "2. efficiente\n",
    "3. alla base di parecchie librerie di calcolo scientifico (scipy, pandas)\n",
    "4. la sintassi per accedere agli elementi è lievemente diversa da quella delle liste di liste \n",
    "5. in alcuni rari casi potrebbe portare problemi di installazione e/o conflitti (l'implementazione non è puro Python)\n",
    "\n",
    "\n",
    "Qui vedremo i tipi di dati e comandi essenziali della [libreria numpy](https://www.numpy.org), ma non ci addentreremo nei dettagli. \n",
    "\n",
    "L'idea è semplicemente passare ad usare il formato dati `ndarray` senza badare molto alle performance: per esempio, anche se i cicli `for` in Python sono lenti perchè operano cella per cella, li useremo comunque. Qualora tu abbia effettivamente necessità di eseguire calcoli velocemente, vorrete usare operazioni su vettori ma per questo invitiamo alla lettura dei link qua sotto.\n",
    "\n",
    "<div class=\"alert alert-warning\">\n",
    "\n",
    "**ATTENZIONE**: se vuoi usare Numpy in [Python tutor](http://www.pythontutor.com/visualize.html#mode=edit), invece dell'interprete di default `Python 3.6` dovete selezionare `Python 3.6 with Anaconda` (che a Maggio 2019 risulta marcato come sperimentale)\n",
    "</div>\n",
    "\n",
    "\n",
    "Per riferimenti, vedere:\n",
    "\n",
    "- [i tutorial Nicola Zoppetti, parte Numpy](http://www.ifac.cnr.it/~zoppetti/corsopython/)\n",
    "- [Python Data Science Handbook, parte Numpy (inglese)](https://jakevdp.github.io/PythonDataScienceHandbook/02.00-introduction-to-numpy.html)"
   ]
  },
  {
   "cell_type": "markdown",
   "metadata": {},
   "source": [
    "### Che fare\n",
    "\n",
    "- scompatta lo zip in una cartella, dovresti ottenere qualcosa del genere: \n",
    "\n",
    "```\n",
    "\n",
    "-jupman.py\n",
    "-exercises\n",
    "     |- matrices-numpy\n",
    "         |- numpy-exercise.ipynb\n",
    "         |- numpy-solution.ipynb       \n",
    "```\n",
    "\n",
    "<div class=\"alert alert-warning\">\n",
    "\n",
    "**ATTENZIONE**: Per essere visualizzato correttamente, il file del notebook DEVE essere nella cartella szippata.\n",
    "</div>\n",
    "\n",
    "- apri il Jupyter Notebook da quella cartella. Due cose dovrebbero aprirsi, prima una console e poi un browser. Il browser dovrebbe mostrare una lista di file: naviga la lista e apri il notebook `exercises/matrices-numpy/numpy-exercise.ipynb`\n",
    "- Prosegui leggendo il file degli esercizi, ogni tanto al suo interno troverai delle scritte **DA FARE**, che ti chiederanno di scrivere dei comandi Python nelle celle successive. Gli esercizi sono graduati per difficoltà, da una stellina ✪ a quattro ✪✪✪✪\n",
    "\n",
    "\n",
    "<div class=\"alert alert-warning\">\n",
    "\n",
    "**ATTENZIONE**: Ricordati di eseguire sempre la prima cella dentro il notebook. Contiene delle istruzioni come `import jupman` che dicono a Python quali moduli servono e dove trovarli. Per eseguirla, vedi le seguenti scorciatoie\n",
    "</div>\n",
    "\n",
    "\n",
    "\n",
    "Scorciatoie da tastiera:\n",
    "\n",
    "* Per eseguire il codice Python dentro una cella di Jupyter, premi `Control+Invio`\n",
    "* Per eseguire il codice Python dentro una cella di Jupyter E selezionare la cella seguente, premi `Shift+Invio`\n",
    "* Per eseguire il codice Python dentro una cella di Jupyter E creare una nuova cella subito dopo, premi `Alt+Invio`\n",
    "* Se per caso il Notebook sembra inchiodato, prova a selezionare `Kernel -> Restart`\n",
    "\n"
   ]
  },
  {
   "cell_type": "code",
   "execution_count": 2,
   "metadata": {},
   "outputs": [],
   "source": [
    "# Innanzitutto importiamo la libreria, e per comodità la rinominiamo in 'np'\n",
    "\n",
    "import numpy as np\n",
    "\n"
   ]
  },
  {
   "cell_type": "markdown",
   "metadata": {},
   "source": [
    "Con le liste di liste abbiamo spesso costruito le matrici una riga alla volta, aggiundo liste all'occorrenza. In numpy invece di solito si crea in un colpo solo tutta la matrice, riempiendola di zeri. \n",
    "\n",
    "In particolare, questo comando crea un ndarray riempito di zeri:"
   ]
  },
  {
   "cell_type": "code",
   "execution_count": 3,
   "metadata": {},
   "outputs": [],
   "source": [
    "mat = np.zeros( (2,3)  )   # 2 righe, 3 colonne"
   ]
  },
  {
   "cell_type": "code",
   "execution_count": 4,
   "metadata": {},
   "outputs": [
    {
     "data": {
      "text/plain": [
       "array([[ 0.,  0.,  0.],\n",
       "       [ 0.,  0.,  0.]])"
      ]
     },
     "execution_count": 4,
     "metadata": {},
     "output_type": "execute_result"
    }
   ],
   "source": [
    "mat"
   ]
  },
  {
   "cell_type": "markdown",
   "metadata": {},
   "source": [
    "Nota come all'interno di `array( )` il contenuto sembra che venga rappresentato come una lista di liste, MA in realtà nelle memoria fisica i dati sono strutturati in una sequenza lineare che permette a Python di accedere ai numeri in modo molto più rapido."
   ]
  },
  {
   "cell_type": "markdown",
   "metadata": {},
   "source": [
    "Per accedere ai dati o sovrascriverli si utilizza la notazione con le quadre, con l'importante differenza che in numpy è consentito scrivere _entrambi_ gli indici _dentro_ le stesse quadre, separati da una virgola:\n",
    "\n",
    "\n",
    "<div class=\"alert, alert-warning\">\n",
    "\n",
    "**ATTENZIONE**: la notazione `mat[i,j]` è solo per numpy,  con le liste di liste **non** funziona.\n",
    "<div>"
   ]
  },
  {
   "cell_type": "code",
   "execution_count": 5,
   "metadata": {},
   "outputs": [],
   "source": [
    "# mettiamo il numero 0 nella cella alla riga 0 e colonna 1\n",
    "\n",
    "mat[0,1] = 9"
   ]
  },
  {
   "cell_type": "code",
   "execution_count": 6,
   "metadata": {},
   "outputs": [
    {
     "data": {
      "text/plain": [
       "array([[ 0.,  9.,  0.],\n",
       "       [ 0.,  0.,  0.]])"
      ]
     },
     "execution_count": 6,
     "metadata": {},
     "output_type": "execute_result"
    }
   ],
   "source": [
    "mat"
   ]
  },
  {
   "cell_type": "code",
   "execution_count": null,
   "metadata": {},
   "outputs": [],
   "source": []
  },
  {
   "cell_type": "code",
   "execution_count": 7,
   "metadata": {},
   "outputs": [
    {
     "data": {
      "text/plain": [
       "9.0"
      ]
     },
     "execution_count": 7,
     "metadata": {},
     "output_type": "execute_result"
    }
   ],
   "source": [
    "# Accediamo alla cella alla riga 0 e colonna 1\n",
    "\n",
    "mat[0,1]"
   ]
  },
  {
   "cell_type": "code",
   "execution_count": 8,
   "metadata": {},
   "outputs": [],
   "source": [
    "# mettiamo il numero 7 nella cella alla riga 1 e colonna 2\n",
    "\n",
    "mat[1,2] = 7"
   ]
  },
  {
   "cell_type": "code",
   "execution_count": 9,
   "metadata": {},
   "outputs": [
    {
     "data": {
      "text/plain": [
       "array([[ 0.,  9.,  0.],\n",
       "       [ 0.,  0.,  7.]])"
      ]
     },
     "execution_count": 9,
     "metadata": {},
     "output_type": "execute_result"
    }
   ],
   "source": [
    "mat"
   ]
  },
  {
   "cell_type": "markdown",
   "metadata": {},
   "source": [
    "Per ottenere le dimensioni, scriviamo così:\n",
    "    \n",
    "<div class=\"alert alert-warning\">\n",
    "\n",
    "**ATTENZIONE**: dopo `shape` **non** ci sono le parentesi tonde !\n",
    "\n",
    "`shape` è un attributo, non una funzione da chiamare\n",
    "</div>"
   ]
  },
  {
   "cell_type": "code",
   "execution_count": 10,
   "metadata": {},
   "outputs": [
    {
     "data": {
      "text/plain": [
       "(2, 3)"
      ]
     },
     "execution_count": 10,
     "metadata": {},
     "output_type": "execute_result"
    }
   ],
   "source": [
    "\n",
    "mat.shape"
   ]
  },
  {
   "cell_type": "markdown",
   "metadata": {},
   "source": [
    "Se vogliamo memorizzare le dimensioni in variabili separate, possiamo usare questo modo più pythonico:\n",
    "(notare la virgola tra num_righe e num_colonne):"
   ]
  },
  {
   "cell_type": "code",
   "execution_count": 11,
   "metadata": {},
   "outputs": [],
   "source": [
    "\n",
    "\n",
    "num_righe, num_colonne = mat.shape"
   ]
  },
  {
   "cell_type": "code",
   "execution_count": 12,
   "metadata": {},
   "outputs": [
    {
     "data": {
      "text/plain": [
       "2"
      ]
     },
     "execution_count": 12,
     "metadata": {},
     "output_type": "execute_result"
    }
   ],
   "source": [
    "num_righe"
   ]
  },
  {
   "cell_type": "code",
   "execution_count": 13,
   "metadata": {},
   "outputs": [
    {
     "data": {
      "text/plain": [
       "3"
      ]
     },
     "execution_count": 13,
     "metadata": {},
     "output_type": "execute_result"
    }
   ],
   "source": [
    "num_colonne"
   ]
  },
  {
   "cell_type": "markdown",
   "metadata": {},
   "source": [
    "**✪ DA FARE**: prova a scrivere così: che succede? \n",
    "\n",
    "```python\n",
    "mat[0,0] = \"c\"\n",
    "```"
   ]
  },
  {
   "cell_type": "code",
   "execution_count": 14,
   "metadata": {},
   "outputs": [],
   "source": [
    "# scrivi qui\n",
    "\n"
   ]
  },
  {
   "cell_type": "markdown",
   "metadata": {},
   "source": [
    "Possiamo anche crearci un `ndarray` a partire da una lista di liste:\n"
   ]
  },
  {
   "cell_type": "code",
   "execution_count": 15,
   "metadata": {},
   "outputs": [],
   "source": [
    "\n",
    "mat = np.array( [ [5.0,8.0,1.0], \n",
    "                  [4.0,3.0,2.0]])"
   ]
  },
  {
   "cell_type": "code",
   "execution_count": 16,
   "metadata": {},
   "outputs": [
    {
     "data": {
      "text/plain": [
       "array([[ 5.,  8.,  1.],\n",
       "       [ 4.,  3.,  2.]])"
      ]
     },
     "execution_count": 16,
     "metadata": {},
     "output_type": "execute_result"
    }
   ],
   "source": [
    "mat"
   ]
  },
  {
   "cell_type": "code",
   "execution_count": 17,
   "metadata": {},
   "outputs": [
    {
     "data": {
      "text/plain": [
       "numpy.ndarray"
      ]
     },
     "execution_count": 17,
     "metadata": {},
     "output_type": "execute_result"
    }
   ],
   "source": [
    "type(mat)"
   ]
  },
  {
   "cell_type": "code",
   "execution_count": 18,
   "metadata": {},
   "outputs": [
    {
     "data": {
      "text/plain": [
       "3.0"
      ]
     },
     "execution_count": 18,
     "metadata": {},
     "output_type": "execute_result"
    }
   ],
   "source": [
    "mat[1,1]"
   ]
  },
  {
   "cell_type": "markdown",
   "metadata": {},
   "source": [
    "**✪ DA FARE**: Prova a scrivere così e vedere che succede:\n",
    "    \n",
    "```python\n",
    "mat[1,1.0]\n",
    "```"
   ]
  },
  {
   "cell_type": "code",
   "execution_count": 19,
   "metadata": {},
   "outputs": [],
   "source": [
    "# scrivi qui\n"
   ]
  },
  {
   "cell_type": "markdown",
   "metadata": {},
   "source": [
    "Prova adesso a implementare queste funzioni"
   ]
  },
  {
   "cell_type": "markdown",
   "metadata": {},
   "source": [
    "\n",
    "### disp\n",
    "\n",
    "✪✪✪ Prende una matrice Numpy `mat` di dimensioni`nrighe` x `ncol` contenente numeri interi  in input e RITORNA una NUOVA matrice numpy di dimensioni `nrighe` x `ncol` che è come quella originale, ma nelle celle che contenevano numeri pari adesso ci saranno numero dispari ottenuti sommando `1` al numero pari esistente.\n",
    "\n",
    "Esempio:\n",
    "\n",
    "```python\n",
    "\n",
    "disp(np.array( [ \n",
    "                    [2,5,6,3],\n",
    "                    [8,4,3,5],\n",
    "                    [6,1,7,9]\n",
    "               ]))\n",
    "```\n",
    "Deve dare in output\n",
    "\n",
    "```python\n",
    "array([[ 3.,  5.,  7.,  3.],\n",
    "       [ 9.,  5.,  3.,  5.],\n",
    "       [ 7.,  1.,  7.,  9.]])\n",
    "```\n",
    "\n",
    "Suggerimenti: \n",
    "\n",
    "- Visto che dovete ritornare una nuova matrice, cominciate con il crearne una vuota\n",
    "- scorrete con indici i e j tutta la matrice iniziale "
   ]
  },
  {
   "cell_type": "code",
   "execution_count": 20,
   "metadata": {},
   "outputs": [],
   "source": [
    "import numpy as np\n",
    "\n",
    "def disp(mat):\n",
    "    #jupman-raise\n",
    "    nrighe, ncol = mat.shape\n",
    "    ret = np.zeros( (nrighe, ncol) )\n",
    "    \n",
    "\n",
    "    for i in range(nrighe):\n",
    "        for j in range(ncol):\n",
    "            if mat[i,j] % 2 == 0:\n",
    "                ret[i,j] = mat[i,j] + 1\n",
    "            else:\n",
    "                ret[i,j] = mat[i,j]\n",
    "    return ret\n",
    "    #/jupman-raise\n",
    "\n",
    "m1 = np.array([ \n",
    "                [2],\n",
    "              ])\n",
    "m2 = np.array([\n",
    "                [3]\n",
    "              ])\n",
    "assert np.allclose(disp(m1),\n",
    "                   m2)\n",
    "assert m1[0][0] == 2  # controlla non si stia modificando la matrice originale\n",
    "\n",
    "\n",
    "m3 = np.array( [ \n",
    "                    [2,5,6,3],\n",
    "                    [8,4,3,5],\n",
    "                    [6,1,7,9]\n",
    "               ])\n",
    "m4 = np.array( [ \n",
    "                   [3,5,7,3],\n",
    "                   [9,5,3,5],\n",
    "                   [7,1,7,9]\n",
    "                             ])\n",
    "assert np.allclose(disp(m3), \n",
    "                   m4)\n",
    "\n"
   ]
  },
  {
   "cell_type": "markdown",
   "metadata": {},
   "source": [
    "### radalt\n",
    "\n",
    "✪✪✪ Prende una matrice numpy `mat` di dimensioni`nrighe` x `ncol` contenente numeri interi  in input e RITORNA una NUOVA matrice numpy di dimensioni `nrighe` x `ncol`, avente alle righe di **indice** pari i numeri della matrice originale moltiplicati per due, e alle righe di **indice** dispari gli stessi numeri della matrice originale\n",
    "\n",
    "Esempio: \n",
    "\n",
    "```python\n",
    "m  = np.array( [                      #  indice\n",
    "                    [ 2, 5, 6, 3],    #    0     pari\n",
    "                    [ 8, 4, 3, 5],    #    1     dispari\n",
    "                    [ 7, 1, 6, 9],    #    2     pari\n",
    "                    [ 5, 2, 4, 1],    #    3     dispari\n",
    "                    [ 6, 3, 4, 3]     #    4     pari\n",
    "               ])\n",
    "```\n",
    "\n",
    "Una chiamata a \n",
    "\n",
    "```python\n",
    "radalt(m)\n",
    "```\n",
    "\n",
    "ritornerà la matrice numpy\n",
    "\n",
    "```python\n",
    "array([[ 4, 10, 12,  6],              \n",
    "       [ 8,  4,  3,  5],              \n",
    "       [14,  2, 12, 18],             \n",
    "       [ 5,  2,  4,  1],\n",
    "       [12,  6,  8,  6]])\n",
    "```"
   ]
  },
  {
   "cell_type": "code",
   "execution_count": 21,
   "metadata": {},
   "outputs": [],
   "source": [
    "import numpy as np\n",
    "\n",
    "def radalt(mat):\n",
    "    #jupman-raise\n",
    "    nrighe, ncol = mat.shape\n",
    "    ret = np.zeros( (nrighe, ncol) )\n",
    "    \n",
    "    for i in range(nrighe):\n",
    "        for j in range(ncol):\n",
    "            if i % 2 == 0:\n",
    "                ret[i,j] = mat[i,j] * 2\n",
    "            else:\n",
    "                ret[i,j] = mat[i,j]\n",
    "    return ret\n",
    "    #/jupman-raise\n",
    "\n",
    "\n",
    "# INIZIO TEST: NON TOCCARE !        \n",
    "\n",
    "m1 = np.array([ \n",
    "                [2],\n",
    "              ])\n",
    "m2 = np.array([\n",
    "                [4]\n",
    "              ])\n",
    "assert np.allclose(radalt(m1),\n",
    "                   m2)\n",
    "assert m1[0][0] == 2  # controlla non si stia modificando la matrice originale\n",
    "\n",
    "\n",
    "m3 = np.array( [ \n",
    "                    [ 2, 5, 6],\n",
    "                    [ 8, 4, 3]\n",
    "               ])\n",
    "m4 = np.array( [ \n",
    "                    [ 4,10,12],\n",
    "                    [ 8, 4, 3]\n",
    "               ])\n",
    "assert np.allclose(radalt(m3), \n",
    "                   m4)\n",
    "\n",
    "\n",
    "m5 = np.array( [ \n",
    "                    [ 2, 5, 6, 3],\n",
    "                    [ 8, 4, 3, 5],\n",
    "                    [ 7, 1, 6, 9],\n",
    "                    [ 5, 2, 4, 1],\n",
    "                    [ 6, 3, 4, 3]\n",
    "               ])\n",
    "m6 = np.array( [ \n",
    "                    [ 4,10,12, 6],\n",
    "                    [ 8, 4, 3, 5],\n",
    "                    [14, 2,12,18],\n",
    "                    [ 5, 2, 4, 1],\n",
    "                    [12, 6, 8, 6]\n",
    "               ])\n",
    "assert np.allclose(radalt(m5), \n",
    "                   m6)\n",
    "\n",
    "\n",
    "# FINE TEST  "
   ]
  },
  {
   "cell_type": "markdown",
   "metadata": {},
   "source": [
    "### quadro\n",
    "\n",
    "✪✪✪ Restituisce una NUOVA matrice numpy di n righe e n colonne, in cui tutti  i valori sono a zero eccetto quelli sui bordi, che devono essere uguali a k\n",
    "       \n",
    "\n",
    "Per esempio, `quadro(4, 7.0)` deve dare:\n",
    "\n",
    "```python\n",
    "    array([[7.0, 7.0, 7.0, 7.0],\n",
    "           [7.0, 0.0, 0.0, 7.0],\n",
    "           [7.0, 0.0, 0.0, 7.0],\n",
    "           [7.0, 7.0, 7.0, 7.0]])\n",
    "```\n",
    "\n",
    "Ingredienti:\n",
    "\n",
    "- crea una matrice pieni di zeri. ATTENZIONE: quali dimensioni ha? Bisogna usare `n` o `k` ? \n",
    " Leggi BENE il testo.\n",
    "- comincia riempiendo le celle della prima riga con i valori `k`. Per iterare lungo le colonne della prima riga, usa un `for j in range(n)`\n",
    "- riempi le altre righe e colonne, usando opportuni `for`\n"
   ]
  },
  {
   "cell_type": "code",
   "execution_count": 22,
   "metadata": {},
   "outputs": [],
   "source": [
    "def quadro(n, k):\n",
    "    \"\"\"RITORNA una NUOVA matrice numpy di n righe e n colonne, in cui tutti  i valori sono a zero\n",
    "       eccetto quelli sui bordi, che devono essere uguali a k\n",
    "                \n",
    "    \"\"\"\n",
    "    #jupman-raise\n",
    "    mat = np.zeros( (n,n)  )\n",
    "    for i in range(n):\n",
    "        mat[0, i] = k\n",
    "        mat[i, 0] = k\n",
    "        mat[i, n-1] = k\n",
    "        mat[n-1, i] = k\n",
    "    return mat\n",
    "    #/jupman-raise\n",
    "    \n",
    "\n",
    "\n",
    "mat_attesa = np.array( [[7.0, 7.0, 7.0, 7.0],\n",
    "                        [7.0, 0.0, 0.0, 7.0],\n",
    "                        [7.0, 0.0, 0.0, 7.0],\n",
    "                        [7.0, 7.0, 7., 7.0]])\n",
    "# all_close ritorna True se tutti i valori nella prima matrice sono abbastanza vicini \n",
    "# (cioè entro una certa tolleranza) ai corrispondenti nella seconda \n",
    "assert np.allclose(quadro(4, 7.0), mat_attesa) \n",
    "\n",
    "mat_attesa = np.array( [ [7.0]\n",
    "                       ])\n",
    "assert np.allclose(quadro(1, 7.0), mat_attesa) \n",
    "\n",
    "mat_attesa = np.array( [ [7.0, 7.0],\n",
    "                         [7.0, 7.0]\n",
    "                       ])\n",
    "assert np.allclose(quadro(2, 7.0), mat_attesa) "
   ]
  },
  {
   "cell_type": "markdown",
   "metadata": {},
   "source": [
    "### scacchiera\n",
    "\n",
    "✪✪✪ RITORNA una NUOVA matrice numpy di `n` righe e `n` colonne, in cui le celle si alternano tra zero e uno.\n",
    "\n",
    "Per esempio, `scacchiera(4)` deve dare:\n",
    "   \n",
    " \n",
    "```python\n",
    "    array([[1.0, 0.0, 1.0, 0.0],\n",
    "           [0.0, 1.0, 0.0, 1.0],\n",
    "           [1.0, 0.0, 1.0, 0.0],\n",
    "           [0.0, 1.0, 0.0, 1.0]])\n",
    "```\n",
    "\n",
    "Ingredienti:\n",
    "\n",
    "- per alternare, potete usare la range nella forma in cui prende 3 parametri,\n",
    "  per esempio range(0,n,2) parte da 0, arriva fino a n escluso e salta di due in due, generando 0,2,4,6,8, ... \n",
    "- invece range(1,n,2) genererebbe 1,3,5,7, ...\n"
   ]
  },
  {
   "cell_type": "code",
   "execution_count": 23,
   "metadata": {},
   "outputs": [],
   "source": [
    "def scacchiera(n):\n",
    "    \"\"\" RITORNA una NUOVA matrice numpy di n righe e n colonne, in cui le celle si alternano tra zero e uno \n",
    "    \"\"\"\n",
    "  \n",
    "    #jupman-raise\n",
    "    mat = np.zeros( (n,n)  )\n",
    "    \n",
    "    for i in range(0,n, 2):\n",
    "        for j in range(0,n, 2):\n",
    "            mat[i, j] = 1\n",
    "\n",
    "    for i in range(1,n, 2):\n",
    "        for j in range(1,n, 2):\n",
    "            mat[i, j] = 1\n",
    "            \n",
    "    return mat\n",
    "    #/jupman-raise\n",
    "\n",
    "mat_attesa = np.array([[1.0, 0.0, 1.0, 0.0],\n",
    "                       [0.0, 1.0, 0.0, 1.0],\n",
    "                       [1.0, 0.0, 1.0, 0.0],\n",
    "                       [0.0, 1.0, 0.0, 1.0]])\n",
    "\n",
    "# all_close ritorna True se tutti i valori nella prima matrice sono abbastanza vicini \n",
    "# (cioè entro una certa tolleranza) ai corrispondenti nella seconda \n",
    "assert np.allclose(scacchiera(4), mat_attesa) \n",
    "\n",
    "mat_attesa = np.array( [ [1.0]\n",
    "                       ])\n",
    "assert np.allclose(scacchiera(1), mat_attesa) \n",
    "\n",
    "mat_attesa = np.array( [ [1.0, 0.0],\n",
    "                         [0.0, 1.0]\n",
    "                       ])\n",
    "assert np.allclose(scacchiera(2), mat_attesa) "
   ]
  },
  {
   "cell_type": "markdown",
   "metadata": {},
   "source": [
    "### somma_alterna\n",
    "\n",
    "✪✪✪ MODIFICA la matrice numpy in input (n x n), sommando a tutte le righe dispari le righe pari. Per esempio:\n",
    "\n",
    "```python\n",
    "    m = [[1.0, 3.0, 2.0, 5.0],\n",
    "         [2.0, 8.0, 5.0, 9.0],\n",
    "         [6.0, 9.0, 7.0, 2.0],\n",
    "         [4.0, 7.0, 2.0, 4.0]]\n",
    "    somma_alterna(m)\n",
    "```    \n",
    "\n",
    "adesso `m` dovrebbe essere :\n",
    "\n",
    "```python\n",
    "    m = [[1.0, 3.0, 2.0, 5.0],\n",
    "         [3.0, 11.0,7.0, 14.0],\n",
    "         [6.0, 9.0, 7.0, 2.0],\n",
    "         [10.0,16.0,9.0, 6.0]]\n",
    "```    \n",
    "\n",
    "Ingredienti:\n",
    "\n",
    "- per alternare, potete usare la range nella forma in cui prende 3 parametri,\n",
    "  per esempio range(0,n,2) parte da 0, arriva fino a n escluso e salta di due in due, \n",
    "  generando 0,2,4,6,8, ... \n",
    "- invece range(1,n,2) genererebbe 1,3,5,7, ...    \n",
    "        \n"
   ]
  },
  {
   "cell_type": "code",
   "execution_count": 24,
   "metadata": {},
   "outputs": [],
   "source": [
    "def somma_alterna(mat):\n",
    "    \"\"\" MODIFICA la matrice numpy in input (n x n), sommando a tutte le righe dispari le righe pari.\n",
    "    \"\"\"  \n",
    "    #jupman-raise\n",
    "    nrows, ncols = mat.shape \n",
    "    for i in range(1,nrows, 2):\n",
    "        for j in range(0,ncols):\n",
    "            mat[i, j] = mat[i,j] + mat[i-1, j] \n",
    "    #/jupman-raise\n",
    "  \n",
    "  \n",
    "mat_orig = np.array( [ [1.0, 3.0, 2.0, 5.0],\n",
    "                            [2.0, 8.0, 5.0, 9.0],\n",
    "                            [6.0, 9.0, 7.0, 2.0],\n",
    "                            [4.0, 7.0, 2.0, 4.0]]) \n",
    "\n",
    "mat_attesa = np.array(    [ [1.0, 3.0, 2.0, 5.0],\n",
    "                            [3.0, 11.0,7.0, 14.0],\n",
    "                            [6.0, 9.0, 7.0, 2.0],\n",
    "                            [10.0,16.0,9.0, 6.0]])\n",
    "\n",
    "somma_alterna(mat_orig)\n",
    "assert np.allclose(mat_orig, mat_attesa) \n",
    "\n",
    "\n",
    "\n",
    "mat_orig = np.array( [ [5.0]\n",
    "                     ])\n",
    "mat_attesa = np.array( [ [5.0]\n",
    "                       ])\n",
    "somma_alterna(mat_orig)                  \n",
    "assert np.allclose(mat_orig, mat_attesa) \n",
    "\n",
    "\n",
    "mat_orig = np.array( [ [6.0, 1.0],\n",
    "                       [3.0, 2.0]\n",
    "                       ])                    \n",
    "mat_attesa = np.array( [ [6.0, 1.0],\n",
    "                         [9.0, 3.0]\n",
    "                       ])\n",
    "somma_alterna(mat_orig)                    \n",
    "assert np.allclose(mat_orig, mat_attesa) "
   ]
  },
  {
   "cell_type": "markdown",
   "metadata": {},
   "source": [
    "### media_righe\n",
    "\n",
    "✪✪✪ Prende una matrice numpy n x m  e RITORNA una NUOVA matrice numpy di una sola colonna in cui i valori sono la media dei valori nelle corrispondenti righe della matrice in input\n",
    "\n",
    "Esempio:\n",
    "\n",
    "Input: matrice 5x4\n",
    "\n",
    "```\n",
    "3 2 1 4\n",
    "6 2 3 5\n",
    "4 3 6 2\n",
    "4 6 5 4\n",
    "7 2 9 3\n",
    "```\n",
    "\n",
    "Output: matrice 5x1\n",
    "\n",
    "```\n",
    "(3+2+1+4)/4 \n",
    "(6+2+3+5)/4\n",
    "(4+3+6+2)/4\n",
    "(4+6+5+4)/4\n",
    "(7+2+9+3)/4\n",
    "```\n",
    "\n",
    "Ingredienti:\n",
    "\n",
    "- create una matrice n x 1 da ritornare, riempiendola di zeri\n",
    "- visitate tutte le celle della matrice originale con due  for in range  annidati\n",
    "- durante la visita, accumulate nella matrice da ritornare la somma degli elementi presi da ciascuna riga della matrice originale\n",
    "- una volta completata la somma di una riga, potete dividerla per la dimensione ncolonne della matrice originale\n",
    "- ritornate la matrice"
   ]
  },
  {
   "cell_type": "code",
   "execution_count": 25,
   "metadata": {},
   "outputs": [],
   "source": [
    "def media_righe(mat):\n",
    "    \"\"\" Prende una matrice numpy n x m  e RITORNA una NUOVA matrice numpy di una sola colonna in cui i valori\n",
    "        sono la media dei valori nelle corrispondenti righe della matrice in input\n",
    "    \"\"\"\n",
    "    #jupman-raise\n",
    "    righe, colonne = mat.shape\n",
    "\n",
    "    ret = np.zeros( (righe,1)  )\n",
    "\n",
    "    for i in range(righe):\n",
    "\n",
    "        for j in range(colonne):\n",
    "            ret[i] += mat[i,j] \n",
    "\n",
    "        ret[i] = ret[i] / colonne\n",
    "        # per brevità potremmo anche scrivere\n",
    "        # ret[i] /= colonne      \n",
    "    #/jupman-raise\n",
    "    return ret\n",
    "  \n",
    "  \n",
    "    \n",
    "m = np.array([\n",
    "              [5.0]\n",
    "            ])\n",
    "\n",
    "mat_attesa = np.array([\n",
    "                        [5.0]\n",
    "                      ])\n",
    "\n",
    "assert np.allclose(media_righe(m), mat_attesa)\n",
    "\n",
    "\n",
    "m = np.array([\n",
    "               [5.0, 3.0]\n",
    "             ])\n",
    "                   \n",
    "mat_attesa = np.array([\n",
    "                        [4.0]\n",
    "                      ])                   \n",
    "                   \n",
    "assert np.allclose(media_righe(m), mat_attesa)\n",
    "\n",
    "\n",
    "m = np.array(\n",
    "    [[3,2,1,4],\n",
    "     [6,2,3,5],\n",
    "     [4,3,6,2],\n",
    "     [4,6,5,4],\n",
    "     [7,2,9,3]])\n",
    "\n",
    "\n",
    "mat_attesa = np.array([ [(3+2+1+4)/4],\n",
    "                        [(6+2+3+5)/4],\n",
    "                        [(4+3+6+2)/4],\n",
    "                        [(4+6+5+4)/4],\n",
    "                        [(7+2+9+3)/4] ])\n",
    "\n",
    "assert np.allclose(media_righe(m), mat_attesa)"
   ]
  },
  {
   "cell_type": "markdown",
   "metadata": {},
   "source": [
    "### media_meta\n",
    "\n",
    "Difficoltà: ✪✪✪"
   ]
  },
  {
   "cell_type": "code",
   "execution_count": 26,
   "metadata": {},
   "outputs": [],
   "source": [
    "def media_meta(mat):\n",
    "    \"\"\" Prende in input una matrice numpy con un numero pari di colonne, e RITORNA in output una matrice numpy 1x2,\n",
    "    il primo elemento sarà la media della metà sinistra della matrice, il secondo elemento sarà la media\n",
    "    della metà destra\n",
    "\n",
    "    Ingredienti:\n",
    "    - per ottenere il numero di colonne diviso 2 come numero intero, usare l'operatore //\n",
    "\n",
    "    \"\"\"\n",
    "    #jupman-raise\n",
    "    righe, colonne = mat.shape\n",
    "    meta_colonne = colonne // 2\n",
    "    \n",
    "    media_sx = 0.0\n",
    "    media_dx = 0.0\n",
    "    \n",
    "    # scrivi qui\n",
    "    for i in range(righe):\n",
    "        for j in range(meta_colonne):\n",
    "            media_sx += mat[i,j]\n",
    "        for j in range(meta_colonne, colonne):\n",
    "            media_dx += mat[i,j]\n",
    "            \n",
    "    mezzi_elementi = righe * meta_colonne\n",
    "    media_sx /=  mezzi_elementi\n",
    "    media_dx /= mezzi_elementi\n",
    "    return np.array([media_sx, media_dx])\n",
    "    #/jupman-raise\n",
    "\n",
    "# INIZIO TEST\n",
    "\n",
    "m = np.array([[3,2,1,4],\n",
    "              [6,2,3,5],\n",
    "              [4,3,6,2],\n",
    "              [4,6,5,4],\n",
    "              [7,2,9,3]])\n",
    "\n",
    "mat_attesa = np.array([(3+2+6+2+4+3+4+6+7+2)/10, (1+4+3+5+6+2+5+4+9+3)/10  ])\n",
    "\n",
    "assert np.allclose( media_meta(m), mat_attesa)\n",
    "# FINE TEST"
   ]
  },
  {
   "cell_type": "markdown",
   "metadata": {},
   "source": [
    "### matxarr\n",
    "\n",
    "✪✪✪ Prende una matrice numpy `n` x `m` e un `ndarray` di `m` elementi, e RITORNA una NUOVA matrice numpy in cui \n",
    "i valori di ogni colonna della matrice di input sono moltiplicati per il corrispondente \n",
    "valore dell'array di `n` elementi.\n"
   ]
  },
  {
   "cell_type": "code",
   "execution_count": 27,
   "metadata": {},
   "outputs": [],
   "source": [
    "\n",
    "def matxarr(mat, arr):\n",
    "    #jupman-raise\n",
    "    ret = np.zeros( mat.shape )\n",
    "    \n",
    "    \n",
    "    for i in range(mat.shape[0]):\n",
    "        for j in range(mat.shape[1]):\n",
    "            ret[i,j] = mat[i,j] * arr[j]            \n",
    "    \n",
    "    return ret\n",
    "    #/jupman-raise\n",
    "    \n",
    "m = np.array([ [3,2,1],\n",
    "               [6,2,3],\n",
    "               [4,3,6],\n",
    "               [4,6,5]])    \n",
    "\n",
    "a = [5, 2, 6]\n",
    "\n",
    "mat_attesa = [ [3*5, 2*2, 1*6],\n",
    "               [6*5, 2*2, 3*6],\n",
    "               [4*5, 3*2, 6*6],\n",
    "               [4*5, 6*2, 5*6]]\n",
    "\n",
    "assert np.allclose(matxarr(m,a), mat_attesa)\n",
    "  \n",
    "  "
   ]
  },
  {
   "cell_type": "markdown",
   "metadata": {},
   "source": [
    "### quadranti\n",
    "\n",
    "✪✪✪ Data una matrice `2n * 2n`, dividere la matrice in 4 parti quadrate uguali \n",
    "(vedi esempio per capire meglio) e RESTITUIRE una NUOVA matrice `2 * 2`\n",
    "contente la media di ogni quadrante\n",
    "\n",
    "Si assume che la matrice sia sempre di dimensioni pari\n",
    "\n",
    "SUGGERIMENTO: per dividere per 2 e ottenere un numero intero, usare l'operatore // \n",
    "\n",
    "\n",
    "Esempio:\n",
    "```\n",
    " 1, 2 , 5 , 7\n",
    " 4, 1 , 8 , 0\n",
    " 2, 0 , 5 , 1 \n",
    " 0, 2 , 1 , 1 \n",
    "```\n",
    "si divide in \n",
    "\n",
    "```\n",
    "  1, 2 | 5 , 7\n",
    "  4, 1 | 8 , 0\n",
    "----------------- \n",
    "  2, 0 | 5 , 1 \n",
    "  0, 2 | 1 , 1 \n",
    "```\n",
    "\n",
    "e si restituisce \n",
    "\n",
    "```\n",
    "  (1+2+4+1)/ 4  | (5+7+8+0)/4                        2.0 , 5.0 \n",
    "  -----------------------------            =>        1.0 , 2.0 \n",
    "  (2+0+0+2)/4   | (5+1+1+1)/4  \n",
    "```\n",
    "\n"
   ]
  },
  {
   "cell_type": "code",
   "execution_count": 28,
   "metadata": {},
   "outputs": [],
   "source": [
    "\n",
    "\n",
    "import numpy as np\n",
    "\n",
    "def quadranti(matrice):\n",
    "    #jupman-raise\n",
    "    ret = np.zeros( (2,2) )\n",
    "    \n",
    "    dim = matrice.shape[0] \n",
    "    n = dim // 2\n",
    "    elementi_per_quadrante = n * n\n",
    "    \n",
    "    for i in range(n):\n",
    "        for j in range(n):\n",
    "            ret[0,0] += matrice[i,j]\n",
    "    ret[0,0] /=   elementi_per_quadrante\n",
    "        \n",
    "      \n",
    "    for i in range(n,dim):\n",
    "        for j in range(n):\n",
    "            ret[1,0] += matrice[i,j]\n",
    "    ret[1,0] /= elementi_per_quadrante\n",
    "\n",
    "    for i in range(n,dim):\n",
    "        for j in range(n,dim):\n",
    "            ret[1,1] += matrice[i,j]\n",
    "    ret[1,1] /= elementi_per_quadrante\n",
    "\n",
    "    for i in range(n):\n",
    "        for j in range(n,dim):\n",
    "            ret[0,1] += matrice[i,j]\n",
    "    ret[0,1] /= elementi_per_quadrante\n",
    "    \n",
    "    return ret\n",
    "    #/jupman-raise\n",
    "    \n",
    "    \n",
    "# INIZIO TEST - NON TOCCARE !\n",
    "\n",
    "assert np.allclose(\n",
    "    quadranti(np.array([\n",
    "                          [3.0, 5.0],\n",
    "                          [4.0, 9.0],\n",
    "                       ])),\n",
    "              np.array([\n",
    "                          [3.0, 5.0],\n",
    "                          [4.0, 9.0],\n",
    "                       ])\n",
    "      )\n",
    "\n",
    "assert np.allclose(\n",
    "    quadranti(np.array([    \n",
    "                         [1.0, 2.0 , 5.0 , 7.0],\n",
    "                         [4.0, 1.0 , 8.0 , 0.0],\n",
    "                         [2.0, 0.0 , 5.0 , 1.0], \n",
    "                         [0.0, 2.0 , 1.0 , 1.0]    \n",
    "                       ])), \n",
    "              np.array([ \n",
    "                         [2.0, 5.0],\n",
    "                         [1.0, 2.0]\n",
    "                       ])) \n",
    "\n",
    "# FINE TEST\n"
   ]
  },
  {
   "cell_type": "markdown",
   "metadata": {},
   "source": [
    "\n",
    "### matrot \n",
    "\n",
    "✪✪✪ RESTITUISCE una NUOVA matrice numpy che ha i numeri della matrice numpy  di input ruotati di una colonna. \n",
    "\n",
    "Per ruotati intendiamo che:\n",
    "\n",
    "- se un numero nella matrice di input si trova alla colonna j, nella matrice  di output si troverà alla colonna j+1 nella stessa riga.\n",
    "- Se un numero si trova nell'ultima colonna, nella matrice di output si troverà nella colonna zeresima.\n",
    "\n",
    "Esempio:\n",
    "\n",
    "Se abbiamo come input \n",
    "\n",
    "```python\n",
    "np.array(   [\n",
    "                [0,1,0],\n",
    "                [1,1,0],\n",
    "                [0,0,0],\n",
    "                [0,1,1]\n",
    "            ])\n",
    "```\n",
    "\n",
    "Ci aspettiamo come output\n",
    "\n",
    "```python\n",
    "np.array(   [\n",
    "                [0,0,1],\n",
    "                [0,1,1],\n",
    "                [0,0,0],\n",
    "                [1,0,1]\n",
    "            ])\n",
    "```\n"
   ]
  },
  {
   "cell_type": "code",
   "execution_count": 29,
   "metadata": {},
   "outputs": [],
   "source": [
    "import numpy as np\n",
    "\n",
    "def matrot(matrice):\n",
    "    #jupman-raise\n",
    "    ret = np.zeros(matrice.shape)\n",
    "\n",
    "    for i in range(matrice.shape[0]):\n",
    "        ret[i,0] = matrice[i,-1]\n",
    "        for j in range(1, matrice.shape[1]):\n",
    "            ret[i,j] = matrice[i,j-1]\n",
    "    return ret\n",
    "    #/jupman-raise\n",
    "\n",
    "m1 = np.array(  [\n",
    "                    [1]\n",
    "                ])\n",
    "mat_attesa1 = np.array( [\n",
    "                            [1]\n",
    "                        ])\n",
    "\n",
    "assert np.allclose(matrot(m1), mat_attesa1)\n",
    "\n",
    "m2 = np.array(  [\n",
    "                    [0,1]\n",
    "                ])\n",
    "mat_attesa2 = np.array( [\n",
    "                            [1,0]\n",
    "                        ])\n",
    "assert np.allclose(matrot(m2), mat_attesa2)\n",
    "\n",
    "m3 = np.array(  [\n",
    "                    [0,1,0]\n",
    "                ])\n",
    "mat_attesa3 = np.array(\n",
    "                [\n",
    "                    [0,0,1]\n",
    "                ])\n",
    "\n",
    "assert np.allclose(matrot(m3), mat_attesa3)\n",
    "\n",
    "m4 = np.array(  [ \n",
    "                    [0,1,0],\n",
    "                    [1,1,0]\n",
    "                ])\n",
    "mat_attesa4 = np.array( [\n",
    "                            [0,0,1],\n",
    "                            [0,1,1]\n",
    "                        ])\n",
    "assert np.allclose(matrot(m4), mat_attesa4)\n",
    "\n",
    "\n",
    "m5 = np.array([\n",
    "                [0,1,0],\n",
    "                [1,1,0],\n",
    "                [0,0,0],\n",
    "                [0,1,1]\n",
    "              ])\n",
    "mat_attesa5 = np.array([\n",
    "                        [0,0,1],\n",
    "                        [0,1,1],\n",
    "                        [0,0,0],\n",
    "                        [1,0,1]\n",
    "                       ])\n",
    "assert np.allclose(matrot(m5), mat_attesa5)"
   ]
  },
  {
   "cell_type": "markdown",
   "metadata": {},
   "source": [
    "### Altri esercizi numpy\n",
    "\n",
    "- Prova a svolgere gli esercizi delle [liste di liste](https://softpython.readthedocs.io/it/latest/exercises/matrices-list-of-lists/list-of-lists-solution.html), ma usando invece Numpy. \n",
    "\n",
    "- Leggi [i tutorial Nicola Zoppetti, parte Numpy](http://www.ifac.cnr.it/~zoppetti/corsopython/) e prova a rendere gli esercizi già visti più efficienti sostituendo ai cicli `for` delle funzioni specifiche di numpy che operano su vettori\n",
    "\n",
    "- (in inglese) [machinelearningplus](https://www.machinelearningplus.com/python/101-numpy-exercises-python/)  Esercizi su Numpy (Fermarsi a difficoltà L1, L2 e se vuoi prova L3)"
   ]
  },
  {
   "cell_type": "code",
   "execution_count": null,
   "metadata": {},
   "outputs": [],
   "source": []
  }
 ],
 "metadata": {
  "celltoolbar": "Edit Metadata",
  "kernelspec": {
   "display_name": "Python 3",
   "language": "python",
   "name": "python3"
  },
  "language_info": {
   "codemirror_mode": {
    "name": "ipython",
    "version": 3
   },
   "file_extension": ".py",
   "mimetype": "text/x-python",
   "name": "python",
   "nbconvert_exporter": "python",
   "pygments_lexer": "ipython3",
   "version": "3.5.2"
  },
  "toc": {
   "base_numbering": 1,
   "nav_menu": {},
   "number_sections": false,
   "sideBar": true,
   "skip_h1_title": false,
   "title_cell": "Table of Contents",
   "title_sidebar": "Contents",
   "toc_cell": false,
   "toc_position": {},
   "toc_section_display": true,
   "toc_window_display": true
  }
 },
 "nbformat": 4,
 "nbformat_minor": 2
}
