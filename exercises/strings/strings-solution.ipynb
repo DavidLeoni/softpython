{
 "cells": [
  {
   "cell_type": "code",
   "execution_count": 1,
   "metadata": {},
   "outputs": [],
   "source": [
    "# Ricordati di eseguire questa cella con Control+Invio\n",
    "import sys;\n",
    "sys.path.append('../../'); \n",
    "import jupman;"
   ]
  },
  {
   "cell_type": "markdown",
   "metadata": {},
   "source": [
    "# Introduzione a Python - Stringhe - soluzioni\n",
    "\n",
    "## [Scarica zip esercizi](../../_static/intro-exercises.zip)\n",
    "\n",
    "[Naviga file online](https://github.com/DavidLeoni/softpython/tree/master/exercises/intro)\n",
    "\n",
    "<div class=\"alert alert-warning\">\n",
    "\n",
    "**ATTENZIONE**: **Questi esercizi sulle stringhe sono integrativi a quelli già indicati nel** <a href=\"https://softpython.readthedocs.io/it/latest/intro.html#Materiale-del-corso\" href=\"_blank\">Materiale del corso</a>. \n",
    "\n",
    "**Per capire come svolgerli, leggi prima entrambe i fogli** <a href=\"https://softpython.readthedocs.io/it/latest/exercises/intro/intro-solution.html\" target=\"_blank\">Introduzione a Python</a> **e**  <a href=\"https://softpython.readthedocs.io/it/latest/exercises/errors-and-testing/errors-and-testing-solution.html\" target=\"_blank\">Gestione errori e testing</a>.\n",
    "</div>\n",
    "\n"
   ]
  },
  {
   "cell_type": "markdown",
   "metadata": {},
   "source": [
    "### Che fare\n",
    "\n",
    "- scompatta lo zip in una cartella, dovresti ottenere qualcosa del genere: \n",
    "\n",
    "```\n",
    "\n",
    "-jupman.py\n",
    "-altri file ..\n",
    "-exercises\n",
    "     |- strings\n",
    "         |- strings-exercise.ipynb\n",
    "         |- strings-solution.ipynb\n",
    "         |- altri file ..\n",
    "```\n",
    "\n",
    "<div class=\"alert alert-warning\">\n",
    "\n",
    "**ATTENZIONE**: Per essere visualizzato correttamente, il file del notebook DEVE essere nella cartella szippata.\n",
    "</div>\n",
    "\n",
    "- apri il Jupyter Notebook da quella cartella. Due cose dovrebbero aprirsi, prima una console e poi un browser. Il browser dovrebbe mostrare una lista di file: naviga la lista e apri il notebook `exercises/strings/strings-exercise.ipynb`\n",
    "- Prosegui leggendo il file degli esercizi, ogni tanto al suo interno troverai delle scritte **DA FARE**, che ti chiederanno di scrivere dei comandi Python nelle celle successive. Gli esercizi sono graduati per difficoltà, da una stellina ✪ a quattro ✪✪✪✪\n",
    "\n",
    "\n",
    "<div class=\"alert alert-warning\">\n",
    "\n",
    "**ATTENZIONE**: Ricordati di eseguire sempre la prima cella dentro il notebook. Contiene delle istruzioni come `import jupman` che dicono a Python quali moduli servono e dove trovarli. Per eseguirla, vedi le seguenti scorciatoie\n",
    "</div>\n",
    "\n",
    "\n",
    "\n",
    "Scorciatoie da tastiera:\n",
    "\n",
    "* Per eseguire il codice Python dentro una cella di Jupyter, premi `Control+Invio`\n",
    "* Per eseguire il codice Python dentro una cella di Jupyter E selezionare la cella seguente, premi `Shift+Invio`\n",
    "* Per eseguire il codice Python dentro una cella di Jupyter E creare una nuova cella subito dopo, premi `Alt+Invio`\n",
    "* Se per caso il Notebook sembra inchiodato, prova a selezionare `Kernel -> Restart`\n",
    "\n"
   ]
  },
  {
   "cell_type": "markdown",
   "metadata": {},
   "source": [
    "## contiene_w"
   ]
  },
  {
   "cell_type": "code",
   "execution_count": 2,
   "metadata": {},
   "outputs": [],
   "source": [
    "def contiene_w(parola, lettera):\n",
    "    \"\"\" RITORNA True se parola contiene lettera, False altrimenti\n",
    "        \n",
    "        - usare ciclo while\n",
    "    \"\"\"   \n",
    "    #jupman-raise\n",
    "    indice = 0     # inizializziamo indice\n",
    "    while indice < len(parola):\n",
    "        if parola[indice] == lettera:\n",
    "            return True   # abbiamo trovato la parola, possiamo interrompere la ricerca\n",
    "        indice += 1   # è come scrivere indice = indice + 1\n",
    "    # se arriviamo DOPO il while, c'è una sola ragione:\n",
    "    # non abbiamo trovato nulla, quindi dobbiamo ritornare False\n",
    "    return False\n",
    "    #/jupman-raise\n",
    "\n",
    "\n",
    "# per testare\n",
    "# se avete scritto tutto il codice giusto, ed eseguite la cella, \n",
    "# python non dovrebbe lanciare AssertionError\n",
    "\n",
    "assert contiene_w(\"ciao\", 'a')\n",
    "assert not contiene_w(\"ciao\", 'A')\n",
    "assert contiene_w(\"ciao\", 'c') \n",
    "assert not contiene_w(\"\", 'a')\n",
    "assert not contiene_w(\"ciao\", 'z')"
   ]
  },
  {
   "cell_type": "markdown",
   "metadata": {},
   "source": [
    "## contiene_in"
   ]
  },
  {
   "cell_type": "code",
   "execution_count": 3,
   "metadata": {},
   "outputs": [],
   "source": [
    "\n",
    "def contiene_in(parola, lettera):\n",
    "    \"\"\" RITORNA True se stringa contiene la lettera indicata, altrimenti RITORNA False \n",
    "    \"\"\"    \n",
    "    #jupman-raise\n",
    "    return lettera in parola\n",
    "    #/jupman-raise\n",
    "    \n",
    "# per testare\n",
    "# se avete scritto tutto il codice giusto, ed eseguite la cella, \n",
    "# Python non dovrebbe lanciare AssertionError\n",
    "\n",
    "# INIZIO TEST:  NON TOCCARE !\n",
    "assert contiene_in(\"ciao\", \"c\") == True\n",
    "assert contiene_in(\"ciao\", \"i\") == True\n",
    "assert contiene_in(\"ciao\", \"a\") == True\n",
    "assert contiene_in(\"ciao\", \"o\") == True\n",
    "assert contiene_in(\"ciao\", \"z\") == False\n",
    "assert contiene_in(\"ciao\", \"A\") == False\n",
    "# FINE TEST"
   ]
  },
  {
   "cell_type": "markdown",
   "metadata": {},
   "source": [
    "## conta"
   ]
  },
  {
   "cell_type": "code",
   "execution_count": 4,
   "metadata": {},
   "outputs": [],
   "source": [
    "\n",
    "def conta(parola, lettera):\n",
    "    \"\"\" RITORNA il numero di occorrenze di lettera in parola\n",
    "        NOTA: NON VOGLIO UNA STAMPA, VOGLIO CHE *RITORNI* IL VALORE\n",
    "        \n",
    "        - Usare ciclo for in \n",
    "    \"\"\"\n",
    "    #jupman-raise\n",
    "    occorrenze = 0\n",
    "    for carattere in parola:\n",
    "        # print(\"carattere corrente = \", carattere)    # le print di debug sono ammesse\n",
    "        if carattere == lettera:\n",
    "            # print(\"trovata occorrenza !\")    # le print di debug sono ammesse\n",
    "            occorrenze += 1\n",
    "    return occorrenze     # L'IMPORTANTE E' _RITORANRE_ IL VALORE COME DA TESTO DELL'ESERCIZIO !!!!!\n",
    "    #/jupman-raise\n",
    "    \n",
    "# INIZIO TEST:  NON TOCCARE !\n",
    "assert conta(\"ciao\", \"z\") == 0 \n",
    "assert conta(\"ciao\", \"c\") == 1\n",
    "assert conta(\"babbo\", \"b\") == 3\n",
    "assert conta(\"\", \"b\") == 0\n",
    "assert conta(\"ciao\", \"C\") == 0 \n",
    "# FINE TEST"
   ]
  },
  {
   "cell_type": "markdown",
   "metadata": {},
   "source": [
    "## contiene_minuscola"
   ]
  },
  {
   "cell_type": "code",
   "execution_count": 5,
   "metadata": {},
   "outputs": [],
   "source": [
    "\n",
    "def contiene_minuscola(s):\n",
    "    \"\"\" Esercizio ripreso dall' Esercizio 4 del libro Pensare in Python Capitolo Stringhe\n",
    "        leggere in fondo qua: https://davidleoni.github.io/ThinkPythonItalian/html/thinkpython2009.html\n",
    " \n",
    "        RITORNA True se la parola contiene almeno una lettera minuscola\n",
    "        RITORNA False altrimenti\n",
    "        \n",
    "        - Usare ciclo while\n",
    "    \"\"\"\n",
    "    #jupman-raise\n",
    "    i = 0\n",
    "    while i < len(s):\n",
    "        if s[i] == s[i].lower():\n",
    "            return True\n",
    "        i += 1\n",
    "    return False\n",
    "    #/jupman-raise\n",
    "    \n",
    "assert contiene_minuscola(\"David\")  \n",
    "assert contiene_minuscola(\"daviD\")\n",
    "assert not contiene_minuscola(\"DAVID\")\n",
    "assert not contiene_minuscola(\"\")\n",
    "assert contiene_minuscola(\"a\")\n",
    "assert not contiene_minuscola(\"A\")"
   ]
  }
 ],
 "metadata": {
  "kernelspec": {
   "display_name": "Python 3",
   "language": "python",
   "name": "python3"
  },
  "language_info": {
   "codemirror_mode": {
    "name": "ipython",
    "version": 3
   },
   "file_extension": ".py",
   "mimetype": "text/x-python",
   "name": "python",
   "nbconvert_exporter": "python",
   "pygments_lexer": "ipython3",
   "version": "3.5.2"
  },
  "toc": {
   "base_numbering": 1,
   "nav_menu": {},
   "number_sections": false,
   "sideBar": true,
   "skip_h1_title": false,
   "title_cell": "Table of Contents",
   "title_sidebar": "Contents",
   "toc_cell": false,
   "toc_position": {},
   "toc_section_display": true,
   "toc_window_display": true
  }
 },
 "nbformat": 4,
 "nbformat_minor": 2
}
