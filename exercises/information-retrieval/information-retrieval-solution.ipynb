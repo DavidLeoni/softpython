{
 "cells": [
  {
   "cell_type": "code",
   "execution_count": 1,
   "metadata": {
    "nbsphinx": "hidden"
   },
   "outputs": [],
   "source": [
    "# Ricordati di eseguire questa cella con Control+Invio\n",
    "import sys;\n",
    "sys.path.append('../../'); \n",
    "import jupman;"
   ]
  },
  {
   "cell_type": "markdown",
   "metadata": {},
   "source": [
    "# Information retrieval - soluzioni\n",
    "\n",
    "## [Scarica zip esercizi](../../_static/information-retrieval-exercises.zip)\n",
    "\n",
    "[Naviga file online](https://github.com/DavidLeoni/softpython/tree/master/exercises/information-retrieval)\n",
    "\n",
    "<div class=\"alert alert-warning\">\n",
    "\n",
    "**ATTENZIONE**: questo tutorial è pensato per dare un idea rapida dei problemi principali dell'information retrieval ma è ancora incompleto e spesso presenta i concetti in modo eccessivamente semplificato. \n",
    "\n",
    "Se l'argomento t'appassiona non mancano buoni libri sul tema!\n",
    "\n",
    "</div>\n",
    "\n",
    "\n",
    "L' _information retrieval_ è l'attività che svolgono i sistemi informatici quando devono recuperare _rapidamente_ delle informazioni _rilevanti_ . Perchè questi due aggettivi? \n",
    "\n",
    "\n",
    "Al giorno d'oggi molte aziende hanno a che fare con una mole di dati rilevante - i famosi _big data_. Sia i giganti dell'_information_ _technology (_IT_) come Google e Amazon che aziende di dimensioni più modeste per varie ragioni devono fornire ai clienti dei sistemi di ricerca efficienti. Nel caso di Google i clienti vogliono trovare tutte le pagine nel web che contengono un certo testo. Per Amazon, il cliente desidera conoscere tutti i prodotti in una certa categoria, o prodotti _simili_ ad uno già cercato. \n",
    "\n",
    "\n",
    "\n",
    "### Che fare\n",
    "\n",
    "\n",
    "- scompatta lo zip in una cartella, dovresti ottenere qualcosa del genere: \n",
    "\n",
    "```\n",
    "\n",
    "-jupman.py\n",
    "-altri file ..\n",
    "-exercises\n",
    "     |- information-retrieval\n",
    "         |- information-retrieval-exercise.ipynb     \n",
    "         |- information-retrieval-solution.ipynb\n",
    "         |- altri file ..\n",
    "```\n",
    "\n",
    "<div class=\"alert alert-warning\">\n",
    "\n",
    "**ATTENZIONE**: Per essere visualizzato correttamente, il file del notebook DEVE essere nella cartella szippata.\n",
    "</div>\n",
    "\n",
    "- apri il Jupyter Notebook da quella cartella. Due cose dovrebbero aprirsi, prima una console e poi un browser. Il browser dovrebbe mostrare una lista di file: naviga la lista e apri il notebook `exercises/information-retrieval/intro-exercise.ipynb`\n",
    "- Prosegui leggendo il file degli esercizi, ogni tanto al suo interno troverai delle scritte **DA FARE**, che ti chiederanno di scrivere dei comandi Python nelle celle successive. \n",
    "\n",
    "<div class=\"alert alert-warning\">\n",
    "\n",
    "**ATTENZIONE**: Ricordati di eseguire sempre la prima cella dentro il notebook. Contiene delle istruzioni come `import jupman` che dicono a Python quali moduli servono e dove trovarli. Per eseguirla, vedi le seguenti scorciatoie\n",
    "</div>\n",
    "\n",
    "\n",
    "\n",
    "Scorciatoie da tastiera:\n",
    "\n",
    "* Per eseguire il codice Python dentro una cella di Jupyter, premi `Control+Invio`\n",
    "* Per eseguire il codice Python dentro una cella di Jupyter E selezionare la cella seguente, premi `Shift+Invio`\n",
    "* Per eseguire il codice Python dentro una cella di Jupyter E creare una nuova cella subito dopo, premi `Alt+Invio`\n",
    "* Se per caso il Notebook sembra inchiodato, prova a selezionare `Kernel -> Restart`\n",
    "\n"
   ]
  },
  {
   "cell_type": "markdown",
   "metadata": {},
   "source": [
    "## Costruiamo il nostro motore di ricerca\n",
    "\n",
    "Consideriamo in particolare il problema che risolve Google. Supponiamo di avere tante pagine web (tutto il web !): per ogni pagina abbiamo l'indirizzo della pagina (come [http://softpython.readthedocs.org](http://softpython.readthedocs.org) ) e il testo che contiene in formato HTML, per esempio:\n",
    "\n",
    "```html\n",
    "<h2>Presentazione</h2>\n",
    "<p>Il corso SoftPython fornisce un’introduzione al processamento dati usando Python, un linguaggio di programmazione popolare sia nell’industria che nell’ambito della ricerca. Fra le varie cose tratteremo Matplotlib.</p>\n",
    "```\n",
    "Se hai guardato il tutorial sull'[estrazione dati](https://softpython.readthedocs.io/it/latest/exercises/extraction/extraction-solution.html) dovresti già avere un'idea di cosa è l'HTML. Se non l'hai fatto niente paura: puoi tranquillamente ignorare le strane sequenze racchiuse tra minore e maggiore come `<h2>`, tieni solo presente che si chiamano _tag HTML_. Parlando in genere, le useremo come esempio del fatto che quando si cerca dentro del testo si possono trovare cose strane o indesiderate, e un sistema di ricerca fatto bene deve essere pronto alle sorprese.\n",
    "\n",
    "L'utente vuole trovare tutte le pagine contenti un certo testo, per esempio sul sito di SoftPython potrebbe voler cercare dove ci sono spiegazioni su `grafici con matplotlib`\n",
    "\n",
    "* INPUT: stringa di ricerca (per es: `grafici con matplotlib`\n",
    "* OUTPUT: tutte le pagine che contengono la stringa (in questo caso `grafici con matplotlib`\n",
    "\n",
    "\n",
    "Se hai seguito qualcuno dei tutorial sul nostro sito, forse ti potrebbe venire in mente già una o due soluzioni a questo problema.\n",
    "\n",
    "**DOMANDA**: Prima di proseguire, pensa a \n",
    "\n",
    "- come rappresenteresti i dati delle pagine in Python?\n",
    "- che funzione Python definiresti per fare la ricerca? \n",
    "    - quali sarebbero i parametri della funzione? \n",
    "    - cosa varia ad ogni chiamata e cosa invece è più 'statico' ?\n",
    "\n",
    "Non ti preoccupare delle _performance_ - quando si progetta un _algoritmo_ all'inizio conviene capire bene cosa si vuole. Solo dopo aver realizzato un prototipo e nel caso sia troppo lento, ci si comincia a preoccupare delle performance !"
   ]
  },
  {
   "cell_type": "markdown",
   "metadata": {},
   "source": [
    "### Una prima soluzione\n",
    "\n",
    "Vediamone qua una possibile soluzione al problema.\n",
    "\n",
    "\n"
   ]
  },
  {
   "cell_type": "markdown",
   "metadata": {},
   "source": [
    "#### Rappresentare una pagina\n",
    "\n",
    "Cominciamo a rappresentare le pagine web. Per farlo, possiamo usare unsemplice dizionario con le chiavi `url` (l'indirizzo web) e `contenuto` per il testo:\n",
    "    \n",
    "```python\n",
    "{\n",
    "    'url': 'http://softpython.readthedocs.org',\n",
    "    'contenuto' : '<h2>Presentazione</h2><p>Il corso SoftPython fornisce un’introduzione al processamento dati usando Python, un linguaggio di programmazione popolare sia nell’industria che nell’ambito della ricerca. Fra le varie cose tratteremo Matplotlib.</p>'\n",
    "}\n",
    "\n",
    "```\n",
    "\n",
    "\n"
   ]
  },
  {
   "cell_type": "markdown",
   "metadata": {},
   "source": [
    "#### Un database per le pagine\n",
    "\n",
    "Il web ha tante pagine, quindi vorremo mettere la collezione di pagine in contenitore. Ai fini dell'esempio proviamo ad usare una lista. La popoleremo con due pagine, quella [principale](https://softpython.readthedocs.io) e la pagina chiamata [Visualizzazione](https://softpython.readthedocs.io/it/latest/exercises/visualization/visualization-solution.html). Infine assegnamo la lista alla variabile `pagine` (ricordiamo che il testo che mettiamo è semplificato rispetto a quello effettivo che trovate sul sito)\n"
   ]
  },
  {
   "cell_type": "code",
   "execution_count": 2,
   "metadata": {},
   "outputs": [],
   "source": [
    "pagine = [\n",
    "            {\n",
    "                'url': 'http://softpython.readthedocs.org',\n",
    "                'contenuto' : '<h2>Presentazione</h2><p>Il corso SoftPython fornisce un’introduzione al processamento dati usando Python, un linguaggio di programmazione popolare sia nell’industria che nell’ambito della ricerca. Fra le varie cose tratteremo Matplotlib.</p>'\n",
    "            },\n",
    "            {\n",
    "                'url': 'https://softpython.readthedocs.io/it/latest/exercises/visualization/visualization-solution.html',\n",
    "                'contenuto' : '<h2>Visualizzazione</h2> <p>Excel ci permette di creare molti tipi di visualizzazione ma a volte è limitato, perciò useremo Python facendo grafici in Matplotlib. Matplotlib è una libreria eccezionale che consente di creare qualunque visualizzazione desideriamo. Procediamo dunque a importare matplotlib in Python:</p>'\n",
    "            }\n",
    "        ]"
   ]
  },
  {
   "cell_type": "markdown",
   "metadata": {},
   "source": [
    "Supponiamo che tutto il web sia costituito dalle due pagine precedenti. Supponiamo anche che le pagine non cambino mai nel tempo. Abbiamo creato il nostro primo rudimentale _database_ del web!\n",
    "\n",
    "\n",
    "#### Implementiamo la funzione di ricerca\n",
    "\n",
    "Ma come possiamo implementare la ricerca? \n"
   ]
  },
  {
   "cell_type": "code",
   "execution_count": 3,
   "metadata": {},
   "outputs": [],
   "source": [
    "\n",
    "\n",
    "def ricerca(stringa):\n",
    "    risultati = []             # all'inizio non sappiamo quali pagine contengono le parole cercate\n",
    "    for pagina in pagine:                    # scorri le pagine\n",
    "        if stringa in pagina['contenuto']:   # se la stringa cercata è nel contenuto della pagina ...\n",
    "            risultati.append(pagina)         # aggiungi la pagina ai risultati collezionati finora\n",
    "    return risultati                         # ritorna le pagine collezionate finora\n",
    "    "
   ]
  },
  {
   "cell_type": "markdown",
   "metadata": {},
   "source": [
    "Proviamola con una sola parola chiave `grafici`, dovrebbe ritornarci la pagina 1-esima sulla visualizzazione: "
   ]
  },
  {
   "cell_type": "code",
   "execution_count": 4,
   "metadata": {},
   "outputs": [
    {
     "data": {
      "text/plain": [
       "[{'contenuto': '<h2>Visualizzazione</h2> <p>Excel ci permette di creare molti tipi di visualizzazione ma a volte è limitato, perciò useremo Python facendo grafici in Matplotlib. Matplotlib è una libreria eccezionale che consente di creare qualunque visualizzazione desideriamo. Procediamo dunque a importare matplotlib in Python:</p>',\n",
       "  'url': 'https://softpython.readthedocs.io/it/latest/exercises/visualization/visualization-solution.html'}]"
      ]
     },
     "execution_count": 4,
     "metadata": {},
     "output_type": "execute_result"
    }
   ],
   "source": [
    "ricerca(\"grafici\")"
   ]
  },
  {
   "cell_type": "markdown",
   "metadata": {},
   "source": [
    "Funziona ! Baldanzosi col risultato del nostro primo esperimento, proviamo a cerca la stringa completa che ci eravamo prefissati all'inizio, `grafici con Matplotlib`:"
   ]
  },
  {
   "cell_type": "raw",
   "metadata": {},
   "source": [
    "ricerca(\"grafici con matplotlib\")"
   ]
  },
  {
   "cell_type": "markdown",
   "metadata": {},
   "source": [
    "Nulla ! Come mai? \n",
    "\n",
    "**DOMANDA**: Prima di proseguire, osserva bene il testo semplificato della pagina Visualizzazione e prova a dare una risposta. Ci sono due problemi principali. Come li risolveresti ? \n"
   ]
  },
  {
   "cell_type": "markdown",
   "metadata": {},
   "source": [
    "**RISPOSTA**: \n",
    "\n",
    "Se osserviamo bene il testo della pagina Visualizzazione, vediamo che riporta in fondo `\"come fare grafici in Matplotlib\"`\n",
    "\n",
    "Saltano fuori diversi problemi: \n",
    "\n",
    "1. il nostro  utente sta cercando `\"grafici con matplotlib\"` usando `\"con\"` ma nel testo della pagina c'è scritto `\"grafici in Matplotlib\"` con `\"in\"`\n",
    "2. l'utente cerca `\"matplotlib\"` in minuscolo, ma nella pagina è riportato `\"Matplotlib\"` in maiuscolo.\n"
   ]
  },
  {
   "cell_type": "markdown",
   "metadata": {},
   "source": [
    "**DOMANDA**: Come risolveresti i problemi qua sopra?"
   ]
  },
  {
   "cell_type": "markdown",
   "metadata": {},
   "source": [
    "**RISPOSTA**: \n",
    "    \n",
    "1. Preposizioni come \"con\", \"in\", \"di\", \"fra\" etc molto spesso non sono rilevanti ai fini di una ricerca. Nel gergo dell'Information retrieval, vengono chiamate [stopwords](http://comunicaresulweb.com/seo/stop-words-italiane/). Per garantire una ricerca più efficace, potresti eliminarle dalla stringa di ricerca dell'utente. Ai fini della ricerca, forse avrebbe senso eliminarle anche dal testo delle pagine ?\n",
    "2. Per risolvere problemi di maiuscole/minuscole, spesso conviene convertire la stringa di ricerca tutta in minuscolo, e fare lo stesso con il testo della pagina. Per farlo, puoi usare il metodo `lower()` delle stringhe. **NOTA**: `lower()`, come _tutti_ i metodi delle stringhe, ritorna una **nuova** stringa e non modifica l'originale !!\n"
   ]
  },
  {
   "cell_type": "markdown",
   "metadata": {},
   "source": [
    "### Una ricerca più efficace"
   ]
  },
  {
   "cell_type": "markdown",
   "metadata": {},
   "source": [
    "Accediamo al contenuto della prima pagina:"
   ]
  },
  {
   "cell_type": "code",
   "execution_count": 5,
   "metadata": {},
   "outputs": [
    {
     "data": {
      "text/plain": [
       "'<h2>Presentazione</h2><p>Il corso SoftPython fornisce un’introduzione al processamento dati usando Python, un linguaggio di programmazione popolare sia nell’industria che nell’ambito della ricerca. Fra le varie cose tratteremo Matplotlib.</p>'"
      ]
     },
     "execution_count": 5,
     "metadata": {},
     "output_type": "execute_result"
    }
   ],
   "source": [
    "pagine[0][\"contenuto\"]"
   ]
  },
  {
   "cell_type": "markdown",
   "metadata": {},
   "source": [
    "Se cerco `\"matplotlib\"` in maiuscolo non lo troverò:"
   ]
  },
  {
   "cell_type": "code",
   "execution_count": 6,
   "metadata": {},
   "outputs": [
    {
     "data": {
      "text/plain": [
       "False"
      ]
     },
     "execution_count": 6,
     "metadata": {},
     "output_type": "execute_result"
    }
   ],
   "source": [
    "\"matplotlib\" in pagine[0][\"contenuto\"]"
   ]
  },
  {
   "cell_type": "markdown",
   "metadata": {},
   "source": [
    "ma se metto tutto in minuscolo:\n",
    "\n",
    "<div class=\"alert alert-warning\">\n",
    "\n",
    "**ATTENZIONE**: `lower()`, come _tutti_ i metodi delle stringhe, ritorna una **nuova** stringa e non modifica loriginale !!\n",
    "\n",
    "</div>\n"
   ]
  },
  {
   "cell_type": "code",
   "execution_count": 7,
   "metadata": {},
   "outputs": [
    {
     "data": {
      "text/plain": [
       "'<h2>presentazione</h2><p>il corso softpython fornisce un’introduzione al processamento dati usando python, un linguaggio di programmazione popolare sia nell’industria che nell’ambito della ricerca. fra le varie cose tratteremo matplotlib.</p>'"
      ]
     },
     "execution_count": 7,
     "metadata": {},
     "output_type": "execute_result"
    }
   ],
   "source": [
    "pagine[0][\"contenuto\"].lower()"
   ]
  },
  {
   "cell_type": "markdown",
   "metadata": {},
   "source": [
    "adesso, `matplotlib` in minuscolo verrà trovato nella stringa generata dall'espressione qua sopra: "
   ]
  },
  {
   "cell_type": "code",
   "execution_count": 8,
   "metadata": {},
   "outputs": [
    {
     "data": {
      "text/plain": [
       "True"
      ]
     },
     "execution_count": 8,
     "metadata": {},
     "output_type": "execute_result"
    }
   ],
   "source": [
    "\"matplotlib\" in pagine[0][\"contenuto\"].lower()"
   ]
  },
  {
   "cell_type": "markdown",
   "metadata": {},
   "source": [
    "Per essere sempre sicuri di trovare quello che l'utente cerca, conviene chiamare `.lower()` anche sulla stringa dell'utente:"
   ]
  },
  {
   "cell_type": "code",
   "execution_count": 9,
   "metadata": {},
   "outputs": [
    {
     "data": {
      "text/plain": [
       "True"
      ]
     },
     "execution_count": 9,
     "metadata": {},
     "output_type": "execute_result"
    }
   ],
   "source": [
    "\"matplotlib\".lower() in pagine[0][\"contenuto\"].lower()"
   ]
  },
  {
   "cell_type": "code",
   "execution_count": 10,
   "metadata": {},
   "outputs": [
    {
     "data": {
      "text/plain": [
       "True"
      ]
     },
     "execution_count": 10,
     "metadata": {},
     "output_type": "execute_result"
    }
   ],
   "source": [
    "\"Matplotlib\".lower() in pagine[0][\"contenuto\"].lower()"
   ]
  },
  {
   "cell_type": "markdown",
   "metadata": {},
   "source": [
    "Proviamo a scrivere una ricerca più furba `ricerca2` che applica quanto visto sopra:"
   ]
  },
  {
   "cell_type": "code",
   "execution_count": 11,
   "metadata": {},
   "outputs": [],
   "source": [
    "def ricerca2(stringa):\n",
    "    risultati = []\n",
    "    for pagina in pagine:\n",
    "        if stringa.lower() in pagina['contenuto'].lower():\n",
    "            risultati.append(pagina)\n",
    "    return risultati"
   ]
  },
  {
   "cell_type": "code",
   "execution_count": 12,
   "metadata": {},
   "outputs": [
    {
     "data": {
      "text/plain": [
       "[{'contenuto': '<h2>Presentazione</h2><p>Il corso SoftPython fornisce un’introduzione al processamento dati usando Python, un linguaggio di programmazione popolare sia nell’industria che nell’ambito della ricerca. Fra le varie cose tratteremo Matplotlib.</p>',\n",
       "  'url': 'http://softpython.readthedocs.org'},\n",
       " {'contenuto': '<h2>Visualizzazione</h2> <p>Excel ci permette di creare molti tipi di visualizzazione ma a volte è limitato, perciò useremo Python facendo grafici in Matplotlib. Matplotlib è una libreria eccezionale che consente di creare qualunque visualizzazione desideriamo. Procediamo dunque a importare matplotlib in Python:</p>',\n",
       "  'url': 'https://softpython.readthedocs.io/it/latest/exercises/visualization/visualization-solution.html'}]"
      ]
     },
     "execution_count": 12,
     "metadata": {},
     "output_type": "execute_result"
    }
   ],
   "source": [
    "ricerca2(\"matplotlib\")"
   ]
  },
  {
   "cell_type": "code",
   "execution_count": 13,
   "metadata": {},
   "outputs": [
    {
     "data": {
      "text/plain": [
       "[{'contenuto': '<h2>Presentazione</h2><p>Il corso SoftPython fornisce un’introduzione al processamento dati usando Python, un linguaggio di programmazione popolare sia nell’industria che nell’ambito della ricerca. Fra le varie cose tratteremo Matplotlib.</p>',\n",
       "  'url': 'http://softpython.readthedocs.org'},\n",
       " {'contenuto': '<h2>Visualizzazione</h2> <p>Excel ci permette di creare molti tipi di visualizzazione ma a volte è limitato, perciò useremo Python facendo grafici in Matplotlib. Matplotlib è una libreria eccezionale che consente di creare qualunque visualizzazione desideriamo. Procediamo dunque a importare matplotlib in Python:</p>',\n",
       "  'url': 'https://softpython.readthedocs.io/it/latest/exercises/visualization/visualization-solution.html'}]"
      ]
     },
     "execution_count": 13,
     "metadata": {},
     "output_type": "execute_result"
    }
   ],
   "source": [
    "ricerca2(\"Matplotlib\")"
   ]
  },
  {
   "cell_type": "markdown",
   "metadata": {},
   "source": [
    "### Performance\n",
    "\n",
    "**DOMANDA**: \n",
    "\n",
    "- Se abbiamo miliardi di pagine, conviene cercarle in una lista? Se la stringa che cerchiamo sta nell'ultima pagina, l'algoritmo di ricerca quante pagine guarda prima di trovare quella d'interesse?\n",
    "- Che strutture dati alternative potremmo usare per la ricerca? "
   ]
  },
  {
   "cell_type": "markdown",
   "metadata": {},
   "source": [
    "**RISPOSTA**: Ci converra _indicizzare_ le pagine, cioè avere un indice che ci dice per ogni parola di ricerca in quali pagine possiamo trovarla. \n",
    "\n",
    "* Per implementare questa corrispondenza in Python possiamo usare i dizionari. \n",
    "* Per convenienza, ci conviene indicare le pagine con il numero che abbiamo usato quando le abbiamo messe nella listona. \n",
    "* Di nuovo per convenienza, metteremo solo parole in minuscolo.\n",
    "\n",
    "Quindi potrebbe essere  una cosa del genere: \n",
    "\n",
    "```\n",
    "{\n",
    "    \"linguaggio\": [0],    # la stringa \"linguaggio\" sta alla pagina zeresima della listona\n",
    "    \"matplotlib\" : [0,1], # la stringa \"matplotlib\" sta nelle pagine zeresima e unesima  della listona\n",
    "    \"importare\" : [1]     # \"importare\" sta solo nella pagina sulla visualizzazione\n",
    "}\n",
    "```\n"
   ]
  },
  {
   "cell_type": "markdown",
   "metadata": {},
   "source": [
    "### Ordinamento\n",
    "\n",
    "Osserva di nuovo bene il testo delle pagine. Noti delle particolarità / differenze tra le due pagine ?\n"
   ]
  },
  {
   "cell_type": "code",
   "execution_count": 14,
   "metadata": {},
   "outputs": [],
   "source": [
    "pagine = [\n",
    "            {\n",
    "                'url': 'http://softpython.readthedocs.org',\n",
    "                'contenuto' : '<h2>Presentazione</h2><p>Il corso SoftPython fornisce un’introduzione al processamento dati usando Python, un linguaggio diprogrammazione popolare sia nell’industria che nell’ambito della ricerca. Fra le varie cose tratteremo Matplotlib.</p>'\n",
    "            },\n",
    "            {\n",
    "                'url': 'https://softpython.readthedocs.io/it/latest/exercises/visualization/visualization-solution.html',\n",
    "                'contenuto' : '<h2>Visualizzazione</h2> <p>Excel ci permette di creare molti tipi di visualizzazione ma a volte è limitato, perciò useremo Python facendo grafici in Matplotlib. Matplotlib è una libreria eccezionale che consente di creare qualunque visualizzazione desideriamo. Procediamo dunque a importare matplotlib in Python:</p>'\n",
    "            }\n",
    "        ]"
   ]
  },
  {
   "cell_type": "markdown",
   "metadata": {},
   "source": [
    "Se l'utente cerca solo la stringa `\"matplotlib\"`, visto che è presente in entrambe le pagine  ci aspettiamo che vengano ritornate entrambe:"
   ]
  },
  {
   "cell_type": "code",
   "execution_count": 15,
   "metadata": {},
   "outputs": [
    {
     "data": {
      "text/plain": [
       "[{'contenuto': '<h2>Presentazione</h2><p>Il corso SoftPython fornisce un’introduzione al processamento dati usando Python, un linguaggio diprogrammazione popolare sia nell’industria che nell’ambito della ricerca. Fra le varie cose tratteremo Matplotlib.</p>',\n",
       "  'url': 'http://softpython.readthedocs.org'},\n",
       " {'contenuto': '<h2>Visualizzazione</h2> <p>Excel ci permette di creare molti tipi di visualizzazione ma a volte è limitato, perciò useremo Python facendo grafici in Matplotlib. Matplotlib è una libreria eccezionale che consente di creare qualunque visualizzazione desideriamo. Procediamo dunque a importare matplotlib in Python:</p>',\n",
       "  'url': 'https://softpython.readthedocs.io/it/latest/exercises/visualization/visualization-solution.html'}]"
      ]
     },
     "execution_count": 15,
     "metadata": {},
     "output_type": "execute_result"
    }
   ],
   "source": [
    "ricerca2(\"matplotlib\")"
   ]
  },
  {
   "cell_type": "markdown",
   "metadata": {},
   "source": [
    "**DOMANDA**: Pensiamo all'rodine delle pagine. E' il migliore che possiamo fornire all'utente? Secondo te, qual'è la pagina che contiene più informazione riguardo Matplotlib e che andrebbe messa per prima? "
   ]
  },
  {
   "cell_type": "markdown",
   "metadata": {},
   "source": [
    "**RISPOSTA**: \n",
    "    \n",
    "Ovviamente, noi umani sappiamo la pagina specifica sulla Visualizzazione sarà quella preferita dall'utente. Per capirlo automaticamente con un algoritmo possiamo notare che la frequenza di `\"Matplotlib\"` è mggiore nella seconda pagina rispetto alla prima. Possiamo farci dire la frequenza da Python con il comando `count`:"
   ]
  },
  {
   "cell_type": "code",
   "execution_count": 16,
   "metadata": {},
   "outputs": [
    {
     "data": {
      "text/plain": [
       "1"
      ]
     },
     "execution_count": 16,
     "metadata": {},
     "output_type": "execute_result"
    }
   ],
   "source": [
    "pagine[0][\"contenuto\"].lower().count(\"Matplotlib\".lower())"
   ]
  },
  {
   "cell_type": "code",
   "execution_count": 17,
   "metadata": {},
   "outputs": [
    {
     "data": {
      "text/plain": [
       "3"
      ]
     },
     "execution_count": 17,
     "metadata": {},
     "output_type": "execute_result"
    }
   ],
   "source": [
    "pagine[1][\"contenuto\"].lower().count(\"Matplotlib\".lower())"
   ]
  },
  {
   "cell_type": "markdown",
   "metadata": {},
   "source": [
    "**DA FARE**: Assegna ad ogni pagina un valore di rilevanza (_relevance_)  ,  che permetta di determinare l'ordine (_rank_) in cui ritornare le pagine. Le pagine con rilevanza più alta devono essere presentate per prime nella lista ritornata"
   ]
  },
  {
   "cell_type": "code",
   "execution_count": null,
   "metadata": {},
   "outputs": [],
   "source": [
    "# scrivi qui"
   ]
  }
 ],
 "metadata": {
  "celltoolbar": "Edit Metadata",
  "kernelspec": {
   "display_name": "Python 3",
   "language": "python",
   "name": "python3"
  },
  "language_info": {
   "codemirror_mode": {
    "name": "ipython",
    "version": 3
   },
   "file_extension": ".py",
   "mimetype": "text/x-python",
   "name": "python",
   "nbconvert_exporter": "python",
   "pygments_lexer": "ipython3",
   "version": "3.5.2"
  },
  "toc": {
   "base_numbering": 1,
   "nav_menu": {},
   "number_sections": false,
   "sideBar": true,
   "skip_h1_title": false,
   "title_cell": "Table of Contents",
   "title_sidebar": "Contents",
   "toc_cell": false,
   "toc_position": {},
   "toc_section_display": true,
   "toc_window_display": false
  }
 },
 "nbformat": 4,
 "nbformat_minor": 2
}
