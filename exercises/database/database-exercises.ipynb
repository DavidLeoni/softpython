{
 "cells": [
  {
   "cell_type": "markdown",
   "metadata": {},
   "source": [
    "# Database: esercizi\n",
    "\n",
    "## Introduzione"
   ]
  },
  {
   "cell_type": "markdown",
   "metadata": {},
   "source": []
  },
  {
   "cell_type": "markdown",
   "metadata": {},
   "source": [
    "## Connessione in SQLStudio\n",
    "\n",
    "\n",
    "TODO Connessione in SQLStudio \n",
    "\n",
    "Cominciamo a guardare una tabella semplice come `Album`. "
   ]
  },
  {
   "cell_type": "markdown",
   "metadata": {},
   "source": [
    "**DA FARE**: Prima di procedere, in SQLiteStudio, nel menu a sinistra sotto il nodo `Tables` fai doppio click sulla tabella `Album` e poi nel pannello principale a destra seleziona la tab 'Data'. "
   ]
  },
  {
   "cell_type": "markdown",
   "metadata": {},
   "source": [
    "Adesso nel pannello principale a destra seleziona la tab 'Data': \n",
    "\n",
    "![](album-data.png)"
   ]
  },
  {
   "cell_type": "markdown",
   "metadata": {},
   "source": [
    "Vediamo che ci sono 3 colonne, due con numeri `AlbumId` e `ArtistId` e una di stringhe, chiamata `Title` \n",
    "\n",
    "**NOTA**: I nomi delle colonne in SQL possono arbitrariamente scelte da chi crea i database. Quindi non è strettamente necessario che i nomi delle colonne numeriche terminino con `Id`. "
   ]
  },
  {
   "cell_type": "markdown",
   "metadata": {},
   "source": [
    "## Connessione in Python\n",
    "\n",
    "Proviamo adesso a recuperare gli stessi dati della tabella `Album` in Python. SQLite è talmente popolare che la libreria per accederlo viene fornita direttamente con Python, quindi non ci servirà installare niente di particolare e possiamo tuffarci subito nel codice: "
   ]
  },
  {
   "cell_type": "code",
   "execution_count": 1,
   "metadata": {
    "collapsed": false
   },
   "outputs": [],
   "source": [
    "import sqlite3\n",
    "\n",
    "conn = sqlite3.connect('file:chinook.sqlite?mode=rw', uri=True)"
   ]
  },
  {
   "cell_type": "markdown",
   "metadata": {},
   "source": [
    "\n",
    "L'operazione qua sopra crea un oggetto connessione e lo assegna alla variabile `conn`.\n",
    "A cosa ci connettiamo? Ad un database indicato dalla uri `file:chinook.sqlite?mode=rw`.\n",
    "Cos'è una URI? E' una stringa che denota una locazione da qualche parte, potrebbe essere un database accessibile come servizio via internet o un file sul nostro disco. Nel nostro caso vogliamo indicare un database che abbiamo su disco, perciò useremo il protocollo `file:`\n",
    "\n",
    "SQLite andrà quindi a cercarsi su disco il file `chinook.sqlite`, nella stessa cartella dove stiamo eseguendo Jupyter. Se il file fosse in qualche sottodirectory, potremmo scrivere per es. 'qualche/cartella/chinook.sqlite'\n",
    "\n",
    "**NOTA 1**: ci stiamo connettendo al database in formato binario .sqlite , NON al file di testo .sql !\n",
    "\n",
    "**NOTA 2**: stiamo specificando che lo vogliamo aprire in modalità `mode=rw`, cioè di lettura + scrittura (Read Write). SE il database non esiste, questa funzione lancerà un errore.\n",
    "\n",
    "**NOTA 3**: se volessimo creare un nuovo database, dovremmo usare la modalità lettura + scrittura + creazione (Read Write Creation), specificando come parametro `mode=rwc` (notare la `c` in più)\n",
    "\n",
    "**NOTA 4**: in tanti sistemi di database (SQLite incluso), di default quando ci si connette ad un database su disco non esistente, ne creano uno. questo è causa di tantissime imprecazioni, perchè se si sbaglia a scrivere il nome del database\n",
    "non saranno segnalati errori e ci si ritroverà connessi ad un database vuoto, chiedendosi che fine abbiano fatto i dati. E ci si troverà anche il disco pieno di file di database con nomi sbagliati! "
   ]
  },
  {
   "cell_type": "markdown",
   "metadata": {},
   "source": [
    "Tramite l'oggetto connessione `conn` possiamo creare un cosiddetto cursore, che ci consentintirà di eseguire query verso il database. Usare una connessione per fare query equivale a chiedere una risorsa del sistema a Python. Le regole di buona educazione ci dicono che quando chiediamo in prestito qualcosa, dopo averlo usato lo si resituisce. La 'restituzione' equivarrebbe in Python a _chiudere_ la risorsa aperta. Ma mentre usiamo lla risorsa si potrebbe verificare un errore, che potrebbe impedirci di chiudere la risorsa correttamente. Per indicare a Pyhton che vogliamo che la risorsa venga chiusa automaticamente in caso di errore, usiamo il comando `with` come abbiamo fatto per i file:"
   ]
  },
  {
   "cell_type": "code",
   "execution_count": 2,
   "metadata": {
    "collapsed": false
   },
   "outputs": [
    {
     "name": "stdout",
     "output_type": "stream",
     "text": [
      "(1, 'For Those About To Rock We Salute You', 1)\n",
      "(2, 'Balls to the Wall', 2)\n",
      "(3, 'Restless and Wild', 2)\n",
      "(4, 'Let There Be Rock', 1)\n",
      "(5, 'Big Ones', 3)\n"
     ]
    }
   ],
   "source": [
    "with conn:                       # col blocco with ci cauteliamo da errori imprevisti\n",
    "    cursore = conn.cursor()      # otteniamo il cursore\n",
    "    cursore.execute(\"SELECT * FROM Album LIMIT 5\")       # eseguiamo una query in linguaggio SQL al database \n",
    "                                                         # notare che execute di per sè non ritorna \n",
    "    \n",
    "    for riga in cursore.fetchall():       # cursore fetchall() genera una sequenza di righe di risultato della query. \n",
    "                                          # in sequenza, le righe una alla volta vengono assegnate'oggetto `riga`\n",
    "        print(riga)                       # stampiamo la riga ottenuta"
   ]
  },
  {
   "cell_type": "markdown",
   "metadata": {},
   "source": [
    "Finalmente abbiamo ottenuto la lista delle prime 5 righe dal database per la tabella `Album`."
   ]
  },
  {
   "cell_type": "markdown",
   "metadata": {},
   "source": [
    "**DA FARE**: prova a scrivere qua sotto le istruzioni per stampare direttamente tutto risultato di `curesore.fetchall()` . Qual'è il tipo di oggetto che ottieni?"
   ]
  },
  {
   "cell_type": "code",
   "execution_count": 3,
   "metadata": {
    "collapsed": true
   },
   "outputs": [],
   "source": [
    "# scrivi il codice"
   ]
  },
  {
   "cell_type": "markdown",
   "metadata": {},
   "source": [
    "**SOLUZIONE**\n",
    "\n",
    "```\n",
    ".\n",
    ".\n",
    ".\n",
    ".\n",
    ".\n",
    ".\n",
    "```\n",
    "E' una lista Python:"
   ]
  },
  {
   "cell_type": "code",
   "execution_count": 4,
   "metadata": {
    "collapsed": false
   },
   "outputs": [
    {
     "name": "stdout",
     "output_type": "stream",
     "text": [
      "[(1, 'For Those About To Rock We Salute You', 1), (2, 'Balls to the Wall', 2), (3, 'Restless and Wild', 2), (4, 'Let There Be Rock', 1), (5, 'Big Ones', 3)]\n",
      "<class 'list'>\n"
     ]
    }
   ],
   "source": [
    "with conn:                       \n",
    "    cursore = conn.cursor()      \n",
    "    cursore.execute(\"SELECT * FROM Album LIMIT 5\")                                                                \n",
    "    print(cursore.fetchall())\n",
    "    print(type(cursore.fetchall()))"
   ]
  },
  {
   "cell_type": "markdown",
   "metadata": {},
   "source": [
    "E se volessimo passare agevolmente dei parametri alla query, come per esempio il numero dei risultati da ottenere? Per fare ciò possiamo usare dei cosiddetti _placeholder_, cioè dei caratteri punto di domanda `?` che segnano dove vorremmo mettere le variabili. In questo caso sistituiremo il `5` con un punto di domanda, e passeremo il `5` in una lista di parametri a parte: "
   ]
  },
  {
   "cell_type": "code",
   "execution_count": 5,
   "metadata": {
    "collapsed": false
   },
   "outputs": [
    {
     "name": "stdout",
     "output_type": "stream",
     "text": [
      "(1, 'For Those About To Rock We Salute You', 1)\n",
      "(2, 'Balls to the Wall', 2)\n",
      "(3, 'Restless and Wild', 2)\n",
      "(4, 'Let There Be Rock', 1)\n",
      "(5, 'Big Ones', 3)\n"
     ]
    }
   ],
   "source": [
    "with conn:                       # col blocco with ci cauteliamo da errori imprevisti\n",
    "    cursore = conn.cursor()      # otteniamo il cursore\n",
    "    cursore.execute(\"SELECT * FROM Album LIMIT ?\", [5]) # eseguiamo una query in linguaggio SQL al database \n",
    "                                                         # notare che execute di per sè non ritorna \n",
    "    \n",
    "    for riga in cursore.fetchall():       # cursore fetchall() genera una sequenza di righe di risultato della query. \n",
    "                                          # in sequenza, le righe una alla volta vengono assegnate'oggetto `riga`\n",
    "        print(riga)                       # stampiamo la riga ottenuta"
   ]
  },
  {
   "cell_type": "markdown",
   "metadata": {},
   "source": [
    "Si possono anche aggiungere più punti di domanda, basta per ognuno passare il corrispondente parametro nella lista: "
   ]
  },
  {
   "cell_type": "code",
   "execution_count": 6,
   "metadata": {
    "collapsed": false
   },
   "outputs": [
    {
     "name": "stdout",
     "output_type": "stream",
     "text": [
      "(1, 'For Those About To Rock We Salute You', 1)\n",
      "(2, 'Balls to the Wall', 2)\n",
      "(3, 'Restless and Wild', 2)\n",
      "(4, 'Let There Be Rock', 1)\n",
      "(5, 'Big Ones', 3)\n",
      "(6, 'Jagged Little Pill', 4)\n"
     ]
    }
   ],
   "source": [
    "with conn:                       # col blocco with ci cauteliamo da errori imprevisti\n",
    "    cursore = conn.cursor()      # otteniamo il cursore\n",
    "    cursore.execute(\"SELECT * FROM Album WHERE AlbumId < ? AND ArtistId < ?\", [30,5])\n",
    "    \n",
    "    for riga in cursore.fetchall():       # cursore fetchall() genera una sequenza di righe di risultato della query. \n",
    "                                          # in sequenza, le righe una alla volta vengono assegnate'oggetto `riga`\n",
    "        print(riga)                       # stampiamo la riga ottenuta"
   ]
  },
  {
   "cell_type": "markdown",
   "metadata": {},
   "source": [
    "## Funzione Esegui Query\n",
    "\n",
    "Per agevolare le prossime operazioni, ci definiamo una funzione `esegui` che esegue le query che desideriamo e ritorna la lista delle righe ottenute:"
   ]
  },
  {
   "cell_type": "code",
   "execution_count": 7,
   "metadata": {
    "collapsed": true
   },
   "outputs": [],
   "source": [
    "def esegui(conn, query, params=()):\n",
    "    \"\"\"\n",
    "    Esegue una query usando la connessione conn, e ritorna la lista di risultati ottenuti.\n",
    "     \n",
    "    In params, possiamo mettere una lista di parametri\n",
    "    con i parametri per la nostra query. \n",
    "    \"\"\"\n",
    "    with conn:\n",
    "        cur = conn.cursor()\n",
    "        cur.execute(query, params)\n",
    "        return cur.fetchall()"
   ]
  },
  {
   "cell_type": "markdown",
   "metadata": {},
   "source": [
    "Facciamo una prova: "
   ]
  },
  {
   "cell_type": "code",
   "execution_count": 8,
   "metadata": {
    "collapsed": false
   },
   "outputs": [
    {
     "data": {
      "text/plain": [
       "[(1, 'For Those About To Rock We Salute You', 1),\n",
       " (2, 'Balls to the Wall', 2),\n",
       " (3, 'Restless and Wild', 2),\n",
       " (4, 'Let There Be Rock', 1),\n",
       " (5, 'Big Ones', 3)]"
      ]
     },
     "execution_count": 8,
     "metadata": {},
     "output_type": "execute_result"
    }
   ],
   "source": [
    "import sqlite3\n",
    "\n",
    "conn = sqlite3.connect('file:chinook.sqlite?mode=rw', uri=True)\n",
    "\n",
    "esegui(conn, \"SELECT * FROM Album LIMIT 5\")"
   ]
  },
  {
   "cell_type": "markdown",
   "metadata": {},
   "source": [
    "Proviamo a passare dei parametri: "
   ]
  },
  {
   "cell_type": "code",
   "execution_count": 9,
   "metadata": {
    "collapsed": false
   },
   "outputs": [
    {
     "data": {
      "text/plain": [
       "[(1, 'For Those About To Rock We Salute You', 1),\n",
       " (2, 'Balls to the Wall', 2),\n",
       " (3, 'Restless and Wild', 2),\n",
       " (4, 'Let There Be Rock', 1),\n",
       " (5, 'Big Ones', 3),\n",
       " (6, 'Jagged Little Pill', 4)]"
      ]
     },
     "execution_count": 9,
     "metadata": {},
     "output_type": "execute_result"
    }
   ],
   "source": [
    "esegui(conn, \"SELECT * FROM Album WHERE AlbumId < ? AND ArtistId < ?\", (30, 5))"
   ]
  },
  {
   "cell_type": "markdown",
   "metadata": {},
   "source": [
    "**DA FARE**: In SQLStudio, creare una query che seleziona gli album con id compreso tra 3 e 5 inclusi: \n",
    "\n",
    "1) apri il query editor con `Alt+E`\n",
    "2) immetti la query\n",
    "3) eseguila premendo F9\n",
    "\n",
    "**DA FARE**: chiama `esegui` per eseguire la stessa query, usando i parametri"
   ]
  },
  {
   "cell_type": "code",
   "execution_count": 10,
   "metadata": {
    "collapsed": true
   },
   "outputs": [],
   "source": [
    "# scrivi il comando"
   ]
  },
  {
   "cell_type": "markdown",
   "metadata": {},
   "source": [
    "**SOLUZIONE**\n",
    "\n",
    "```\n",
    ".\n",
    ".\n",
    ".\n",
    ".\n",
    ".\n",
    ".\n",
    "```"
   ]
  },
  {
   "cell_type": "code",
   "execution_count": 11,
   "metadata": {
    "collapsed": false
   },
   "outputs": [
    {
     "data": {
      "text/plain": [
       "[(3, 'Restless and Wild', 2), (4, 'Let There Be Rock', 1), (5, 'Big Ones', 3)]"
      ]
     },
     "execution_count": 11,
     "metadata": {},
     "output_type": "execute_result"
    }
   ],
   "source": [
    "esegui(conn, \"SELECT * FROM Album WHERE AlbumId >= ? AND AlbumId <= ?\", (3, 5))"
   ]
  },
  {
   "cell_type": "markdown",
   "metadata": {},
   "source": []
  },
  {
   "cell_type": "markdown",
   "metadata": {},
   "source": [
    "### Struttura della tabella\n",
    "\n",
    "**DA FARE**: Guarda meglio la tab `Structure` di `Album`:\n",
    "\n",
    "![](album-structure.png)\n",
    "\n",
    "### DDL\n",
    "\n",
    "Confronta quanto sopra con la tab `DDL` (Data Definition Language), che contiene le istruzioni SQL per creare la tabella nel database:\n",
    "\n",
    "![](album-ddl.png)"
   ]
  },
  {
   "cell_type": "markdown",
   "metadata": {},
   "source": [
    "Una caratteristica che database è la possibilità di dichiarare vincoli sui dati inseriti. Per esempio, qua notiamo che\n",
    "\n",
    "* la tabella ha una cosiddetta _chiave primaria_ (`PRIMARY KEY`): in essa asserisce che non possono esistere due righe con lo stesso `AlbumId`.\n",
    "\n",
    "* la tabella definisce la colonna `ArtistId` come _chiave esterna_ (`FOREIGN KEY`), asserendo che ai valori in quella colonna deve sempre corrispondere un id esistente nella colonna `ArtistId` **della tabella `Artist`**. Quindi non ci si potrà mai riferire ad un artista non esistente\n",
    "\n",
    "**DA FARE**: Vai alla tab `Data` e prova a cambiare un ArtistId mettendo un numero inesistente (tipo 1000). Apparentemente il database non si lamenterà, ma solo perchè al momento non abbiamo ancora registrato il cambiamento su disco, cioè non abbiamo operato una operazione di _commit_. I commit ci permettono di eseguire più operazioni in modo atomico, nel senso che o tutti i cambiamenti fatti vengono registrati con successo, o nessuna modifica viene fatta. Prova ad eseguire un commit premendo il bottoncino verde con la spunta (o premere Ctrl-Return). Che succede? Per riparare al danno fatto, esegui _rollback_ col bottoncino rosso con la x (o premi Ctrl-Backspace).  \n",
    "\n"
   ]
  },
  {
   "cell_type": "markdown",
   "metadata": {},
   "source": [
    "### Query ai metadati\n",
    "\n",
    "Una cosa interessante e a volte utile di molti database SQL è che spesso i metadati sul tipo di tabelle nel database sono salvate essi stessi come tabelle, quindi è possibile eseguire query SQL su questi metadati. Per esempio, con SQLite si può eseguire una query del genere. Non la spieghiamo nel dettaglio, limitandoci a mostrare qualche esempio di utilizzo:"
   ]
  },
  {
   "cell_type": "code",
   "execution_count": 12,
   "metadata": {
    "collapsed": false
   },
   "outputs": [],
   "source": [
    "def query_schema(conn, tabella):\n",
    "    \"\"\" Ritorna una stringa con le istruzioni SQL per creare la tabella (senza i dati)  \"\"\"\n",
    "    return esegui(conn, \"SELECT sql FROM sqlite_master WHERE name = ?\", (tabella,))[0][0]"
   ]
  },
  {
   "cell_type": "code",
   "execution_count": 13,
   "metadata": {
    "collapsed": false
   },
   "outputs": [
    {
     "name": "stdout",
     "output_type": "stream",
     "text": [
      "CREATE TABLE [Album]\n",
      "(\n",
      "    [AlbumId] INTEGER  NOT NULL,\n",
      "    [Title] NVARCHAR(160)  NOT NULL,\n",
      "    [ArtistId] INTEGER  NOT NULL,\n",
      "    CONSTRAINT [PK_Album] PRIMARY KEY  ([AlbumId]),\n",
      "    FOREIGN KEY ([ArtistId]) REFERENCES [Artist] ([ArtistId]) \n",
      "\t\tON DELETE NO ACTION ON UPDATE NO ACTION\n",
      ")\n"
     ]
    }
   ],
   "source": [
    "print(query_schema(conn, 'Album'))"
   ]
  },
  {
   "cell_type": "markdown",
   "metadata": {},
   "source": [
    "## JOIN\n",
    "\n",
    "Nella tabella `Album` per gli artisti vediamo solo dei numeri. Come possiamo fare una query per vedere anche i nomi degli artisti? Useremo il comando SQL `JOIN` : "
   ]
  },
  {
   "cell_type": "markdown",
   "metadata": {},
   "source": [
    "**DA FARE**: Per capire cosa succede, esegui le query in SQLStudio"
   ]
  },
  {
   "cell_type": "code",
   "execution_count": 14,
   "metadata": {
    "collapsed": false
   },
   "outputs": [
    {
     "data": {
      "text/plain": [
       "[(1, 'For Those About To Rock We Salute You', 1, 1, 'AC/DC'),\n",
       " (2, 'Balls to the Wall', 2, 2, 'Accept'),\n",
       " (3, 'Restless and Wild', 2, 2, 'Accept'),\n",
       " (4, 'Let There Be Rock', 1, 1, 'AC/DC'),\n",
       " (5, 'Big Ones', 3, 3, 'Aerosmith')]"
      ]
     },
     "execution_count": 14,
     "metadata": {},
     "output_type": "execute_result"
    }
   ],
   "source": [
    "esegui(conn, \"SELECT * FROM Album JOIN Artist WHERE Album.ArtistId = Artist.ArtistId LIMIT 5\")"
   ]
  },
  {
   "cell_type": "markdown",
   "metadata": {},
   "source": [
    "Invece del JOIN possiamo usare una virgola:"
   ]
  },
  {
   "cell_type": "code",
   "execution_count": 15,
   "metadata": {
    "collapsed": false
   },
   "outputs": [
    {
     "data": {
      "text/plain": [
       "[(1, 'For Those About To Rock We Salute You', 1, 1, 'AC/DC'),\n",
       " (2, 'Balls to the Wall', 2, 2, 'Accept'),\n",
       " (3, 'Restless and Wild', 2, 2, 'Accept'),\n",
       " (4, 'Let There Be Rock', 1, 1, 'AC/DC'),\n",
       " (5, 'Big Ones', 3, 3, 'Aerosmith')]"
      ]
     },
     "execution_count": 15,
     "metadata": {},
     "output_type": "execute_result"
    }
   ],
   "source": [
    "esegui(conn, \"SELECT * FROM Album, Artist WHERE Album.ArtistId = Artist.ArtistId LIMIT 5\")"
   ]
  },
  {
   "cell_type": "markdown",
   "metadata": {},
   "source": [
    "Meglio ancora, in questo caso visto che abbiamo lo stesso nome di colonna in  entrambe le tabelle, possiamo usare la clausola `USING` che ha anche il beneficio di eliminare la colonna duplicata:"
   ]
  },
  {
   "cell_type": "code",
   "execution_count": 16,
   "metadata": {
    "collapsed": false
   },
   "outputs": [
    {
     "data": {
      "text/plain": [
       "[(1, 'For Those About To Rock We Salute You', 1, 'AC/DC'),\n",
       " (2, 'Balls to the Wall', 2, 'Accept'),\n",
       " (3, 'Restless and Wild', 2, 'Accept'),\n",
       " (4, 'Let There Be Rock', 1, 'AC/DC'),\n",
       " (5, 'Big Ones', 3, 'Aerosmith')]"
      ]
     },
     "execution_count": 16,
     "metadata": {},
     "output_type": "execute_result"
    }
   ],
   "source": [
    "esegui(conn, \"SELECT * FROM Album, Artist USING(ArtistId) LIMIT 5\")"
   ]
  },
  {
   "cell_type": "markdown",
   "metadata": {},
   "source": [
    "Infine possiamo filtrare solo le colonne che ci interessano, `Title` di album e `Name` di `Artisti`. Per chiarezza, possiamo identificare le tabelle con variabili che assegnamo in FROM (qua usiamo i nomi `ALB` e `ART` ma potrebbero essere qualsiasi): "
   ]
  },
  {
   "cell_type": "code",
   "execution_count": 17,
   "metadata": {
    "collapsed": false
   },
   "outputs": [
    {
     "data": {
      "text/plain": [
       "[('For Those About To Rock We Salute You', 'AC/DC'),\n",
       " ('Balls to the Wall', 'Accept'),\n",
       " ('Restless and Wild', 'Accept'),\n",
       " ('Let There Be Rock', 'AC/DC'),\n",
       " ('Big Ones', 'Aerosmith')]"
      ]
     },
     "execution_count": 17,
     "metadata": {},
     "output_type": "execute_result"
    }
   ],
   "source": [
    "esegui(conn, \"SELECT ALB.Title, ART.Name  FROM Album ALB, Artist ART USING(ArtistId) LIMIT 5\")"
   ]
  },
  {
   "cell_type": "markdown",
   "metadata": {},
   "source": [
    "## Tabella Track\n",
    "\n",
    "Passiamo adesso ad una tabella più complessa, come `Track`, che contiene un po' di canzoni ascoltate dagli utenti di iTunes: "
   ]
  },
  {
   "cell_type": "code",
   "execution_count": 18,
   "metadata": {
    "collapsed": false
   },
   "outputs": [
    {
     "data": {
      "text/plain": [
       "[(1,\n",
       "  'For Those About To Rock (We Salute You)',\n",
       "  1,\n",
       "  1,\n",
       "  1,\n",
       "  'Angus Young, Malcolm Young, Brian Johnson',\n",
       "  343719,\n",
       "  11170334,\n",
       "  0.99),\n",
       " (2, 'Balls to the Wall', 2, 2, 1, None, 342562, 5510424, 0.99),\n",
       " (3,\n",
       "  'Fast As a Shark',\n",
       "  3,\n",
       "  2,\n",
       "  1,\n",
       "  'F. Baltes, S. Kaufman, U. Dirkscneider & W. Hoffman',\n",
       "  230619,\n",
       "  3990994,\n",
       "  0.99),\n",
       " (4,\n",
       "  'Restless and Wild',\n",
       "  3,\n",
       "  2,\n",
       "  1,\n",
       "  'F. Baltes, R.A. Smith-Diesel, S. Kaufman, U. Dirkscneider & W. Hoffman',\n",
       "  252051,\n",
       "  4331779,\n",
       "  0.99),\n",
       " (5,\n",
       "  'Princess of the Dawn',\n",
       "  3,\n",
       "  2,\n",
       "  1,\n",
       "  'Deaffy & R.A. Smith-Diesel',\n",
       "  375418,\n",
       "  6290521,\n",
       "  0.99)]"
      ]
     },
     "execution_count": 18,
     "metadata": {},
     "output_type": "execute_result"
    }
   ],
   "source": [
    "esegui(conn, \"SELECT * FROM Track LIMIT 5\")"
   ]
  },
  {
   "cell_type": "code",
   "execution_count": 19,
   "metadata": {
    "collapsed": false
   },
   "outputs": [
    {
     "data": {
      "text/plain": [
       "'CREATE TABLE [Track]\\n(\\n    [TrackId] INTEGER  NOT NULL,\\n    [Name] NVARCHAR(200)  NOT NULL,\\n    [AlbumId] INTEGER,\\n    [MediaTypeId] INTEGER  NOT NULL,\\n    [GenreId] INTEGER,\\n    [Composer] NVARCHAR(220),\\n    [Milliseconds] INTEGER  NOT NULL,\\n    [Bytes] INTEGER,\\n    [UnitPrice] NUMERIC(10,2)  NOT NULL,\\n    CONSTRAINT [PK_Track] PRIMARY KEY  ([TrackId]),\\n    FOREIGN KEY ([AlbumId]) REFERENCES [Album] ([AlbumId]) \\n\\t\\tON DELETE NO ACTION ON UPDATE NO ACTION,\\n    FOREIGN KEY ([GenreId]) REFERENCES [Genre] ([GenreId]) \\n\\t\\tON DELETE NO ACTION ON UPDATE NO ACTION,\\n    FOREIGN KEY ([MediaTypeId]) REFERENCES [MediaType] ([MediaTypeId]) \\n\\t\\tON DELETE NO ACTION ON UPDATE NO ACTION\\n)'"
      ]
     },
     "execution_count": 19,
     "metadata": {},
     "output_type": "execute_result"
    }
   ],
   "source": [
    "query_schema(conn, \"Track\")"
   ]
  },
  {
   "cell_type": "code",
   "execution_count": 20,
   "metadata": {
    "collapsed": false
   },
   "outputs": [
    {
     "name": "stdout",
     "output_type": "stream",
     "text": [
      "CREATE TABLE [Track]\n",
      "(\n",
      "    [TrackId] INTEGER  NOT NULL,\n",
      "    [Name] NVARCHAR(200)  NOT NULL,\n",
      "    [AlbumId] INTEGER,\n",
      "    [MediaTypeId] INTEGER  NOT NULL,\n",
      "    [GenreId] INTEGER,\n",
      "    [Composer] NVARCHAR(220),\n",
      "    [Milliseconds] INTEGER  NOT NULL,\n",
      "    [Bytes] INTEGER,\n",
      "    [UnitPrice] NUMERIC(10,2)  NOT NULL,\n",
      "    CONSTRAINT [PK_Track] PRIMARY KEY  ([TrackId]),\n",
      "    FOREIGN KEY ([AlbumId]) REFERENCES [Album] ([AlbumId]) \n",
      "\t\tON DELETE NO ACTION ON UPDATE NO ACTION,\n",
      "    FOREIGN KEY ([GenreId]) REFERENCES [Genre] ([GenreId]) \n",
      "\t\tON DELETE NO ACTION ON UPDATE NO ACTION,\n",
      "    FOREIGN KEY ([MediaTypeId]) REFERENCES [MediaType] ([MediaTypeId]) \n",
      "\t\tON DELETE NO ACTION ON UPDATE NO ACTION\n",
      ")\n"
     ]
    }
   ],
   "source": [
    "print(query_schema(conn, \"Track\"))"
   ]
  },
  {
   "cell_type": "code",
   "execution_count": 21,
   "metadata": {
    "collapsed": false
   },
   "outputs": [
    {
     "data": {
      "text/plain": [
       "[('For Those About To Rock (We Salute You)',\n",
       "  'Angus Young, Malcolm Young, Brian Johnson'),\n",
       " ('Balls to the Wall', None),\n",
       " ('Fast As a Shark', 'F. Baltes, S. Kaufman, U. Dirkscneider & W. Hoffman'),\n",
       " ('Restless and Wild',\n",
       "  'F. Baltes, R.A. Smith-Diesel, S. Kaufman, U. Dirkscneider & W. Hoffman'),\n",
       " ('Princess of the Dawn', 'Deaffy & R.A. Smith-Diesel')]"
      ]
     },
     "execution_count": 21,
     "metadata": {},
     "output_type": "execute_result"
    }
   ],
   "source": [
    "esegui(conn, \"SELECT Name, Composer FROM Track LIMIT 5\")"
   ]
  },
  {
   "cell_type": "code",
   "execution_count": 22,
   "metadata": {
    "collapsed": false
   },
   "outputs": [
    {
     "data": {
      "text/plain": [
       "('For Those About To Rock (We Salute You)',\n",
       " 'Angus Young, Malcolm Young, Brian Johnson')"
      ]
     },
     "execution_count": 22,
     "metadata": {},
     "output_type": "execute_result"
    }
   ],
   "source": [
    "esegui(conn, \"SELECT Name, Composer FROM Track LIMIT 5\")[0]"
   ]
  },
  {
   "cell_type": "code",
   "execution_count": 23,
   "metadata": {
    "collapsed": false
   },
   "outputs": [
    {
     "data": {
      "text/plain": [
       "('For Those About To Rock (We Salute You)',\n",
       " 'Angus Young, Malcolm Young, Brian Johnson')"
      ]
     },
     "execution_count": 23,
     "metadata": {},
     "output_type": "execute_result"
    }
   ],
   "source": [
    "esegui(conn, \"SELECT Name, Composer FROM Track LIMIT 5\")[0]"
   ]
  },
  {
   "cell_type": "markdown",
   "metadata": {},
   "source": [
    "Per la seconda riga: "
   ]
  },
  {
   "cell_type": "code",
   "execution_count": 24,
   "metadata": {
    "collapsed": false
   },
   "outputs": [
    {
     "data": {
      "text/plain": [
       "('Balls to the Wall', None)"
      ]
     },
     "execution_count": 24,
     "metadata": {},
     "output_type": "execute_result"
    }
   ],
   "source": [
    "esegui(conn, \"SELECT Name, Composer FROM Track LIMIT 5\")[1]"
   ]
  },
  {
   "cell_type": "markdown",
   "metadata": {},
   "source": [
    "Notiamo che in questo caso manca il compositore. Ma sorge una domanda: nella tabella original SQL, come era segnato il fatto che il compositore mancasse?\n",
    "\n",
    "**DA FARE**: Usando SQLiteStudio, nel menu a sinistra fai doppio click sulla tabella `Track` e  poi seleziona la tab 'Data' a destra. Scorri le righe finchè non trovi la casella per la colonna `Composer`."
   ]
  },
  {
   "cell_type": "markdown",
   "metadata": {},
   "source": [
    "**SOLUZIONE**:\n",
    "\n",
    "```\n",
    ".\n",
    ".  \n",
    ".\n",
    ".\n",
    ".\n",
    "\n",
    "```\n",
    "\n",
    "Notiamo che in SQL le caselle vuote si indicano con `NULL`. Dato che `NULL` non è un tipo Python, durante la conversione da oggetti SQL a oggetti Python `NULL` viene convertito nell'oggetto Python `None`."
   ]
  },
  {
   "cell_type": "markdown",
   "metadata": {},
   "source": [
    "Proviamo a selezionare dei valori numerici alla nostra query, come per esempio i `Milliseconds`"
   ]
  },
  {
   "cell_type": "code",
   "execution_count": 25,
   "metadata": {
    "collapsed": false
   },
   "outputs": [
    {
     "data": {
      "text/plain": [
       "[('For Those About To Rock (We Salute You)', 343719),\n",
       " ('Balls to the Wall', 342562),\n",
       " ('Fast As a Shark', 230619),\n",
       " ('Restless and Wild', 252051),\n",
       " ('Princess of the Dawn', 375418)]"
      ]
     },
     "execution_count": 25,
     "metadata": {},
     "output_type": "execute_result"
    }
   ],
   "source": [
    "esegui(conn, \"SELECT Name, Milliseconds FROM Track LIMIT 5\")"
   ]
  },
  {
   "cell_type": "code",
   "execution_count": 26,
   "metadata": {
    "collapsed": false
   },
   "outputs": [
    {
     "data": {
      "text/plain": [
       "('For Those About To Rock (We Salute You)', 343719)"
      ]
     },
     "execution_count": 26,
     "metadata": {},
     "output_type": "execute_result"
    }
   ],
   "source": [
    "esegui(conn, \"SELECT Name, Milliseconds FROM Track LIMIT 5\")[0]"
   ]
  },
  {
   "cell_type": "code",
   "execution_count": 27,
   "metadata": {
    "collapsed": false
   },
   "outputs": [
    {
     "data": {
      "text/plain": [
       "'For Those About To Rock (We Salute You)'"
      ]
     },
     "execution_count": 27,
     "metadata": {},
     "output_type": "execute_result"
    }
   ],
   "source": [
    "esegui(conn, \"SELECT Name, Milliseconds FROM Track LIMIT 5\")[0][0]"
   ]
  },
  {
   "cell_type": "code",
   "execution_count": 28,
   "metadata": {
    "collapsed": false
   },
   "outputs": [
    {
     "data": {
      "text/plain": [
       "343719"
      ]
     },
     "execution_count": 28,
     "metadata": {},
     "output_type": "execute_result"
    }
   ],
   "source": [
    "esegui(conn, \"SELECT Name, Milliseconds FROM Track LIMIT 5\")[0][1]"
   ]
  },
  {
   "cell_type": "code",
   "execution_count": 29,
   "metadata": {
    "collapsed": false
   },
   "outputs": [
    {
     "data": {
      "text/plain": [
       "[('Occupation / Precipice', 5286953),\n",
       " ('Through a Looking Glass', 5088838),\n",
       " ('Greetings from Earth, Pt. 1', 2960293),\n",
       " ('The Man With Nine Lives', 2956998),\n",
       " ('Battlestar Galactica, Pt. 2', 2956081)]"
      ]
     },
     "execution_count": 29,
     "metadata": {},
     "output_type": "execute_result"
    }
   ],
   "source": [
    "esegui(conn, \"SELECT Name, Milliseconds FROM Track ORDER BY Milliseconds DESC LIMIT 5\")"
   ]
  },
  {
   "cell_type": "markdown",
   "metadata": {},
   "source": [
    "**DA FARE**: Prova ad usare `ASC` invece di `DESC`"
   ]
  },
  {
   "cell_type": "code",
   "execution_count": 30,
   "metadata": {
    "collapsed": true
   },
   "outputs": [],
   "source": [
    "# Scrivi qui la query\n"
   ]
  },
  {
   "cell_type": "markdown",
   "metadata": {},
   "source": [
    "**SOLUZIONE**:\n",
    "\n",
    "```\n",
    ".\n",
    ".\n",
    ".\n",
    ".\n",
    ".\n",
    "```"
   ]
  },
  {
   "cell_type": "code",
   "execution_count": 31,
   "metadata": {
    "collapsed": false
   },
   "outputs": [
    {
     "data": {
      "text/plain": [
       "[('É Uma Partida De Futebol', 'Samuel Rosa', 1071),\n",
       " ('Now Sports', None, 4884),\n",
       " ('A Statistic', None, 6373),\n",
       " ('Oprah', None, 6635),\n",
       " ('Commercial 1', 'L. Muggerud', 7941)]"
      ]
     },
     "execution_count": 31,
     "metadata": {},
     "output_type": "execute_result"
    }
   ],
   "source": [
    "esegui(conn, \"SELECT Name, Composer, Milliseconds FROM Track ORDER BY Milliseconds ASC LIMIT 5\")"
   ]
  },
  {
   "cell_type": "markdown",
   "metadata": {},
   "source": [
    "## Pandas\n",
    "\n",
    "Finora abbiamo usato metodi base di Python, ma ovviamente processare il tutto in pandas è più comodo. "
   ]
  },
  {
   "cell_type": "code",
   "execution_count": 32,
   "metadata": {
    "collapsed": false
   },
   "outputs": [],
   "source": [
    "import pandas\n",
    "\n",
    "df = pandas.read_sql_query(\"SELECT Name, Composer, Milliseconds from Track\", conn)"
   ]
  },
  {
   "cell_type": "code",
   "execution_count": 33,
   "metadata": {
    "collapsed": false
   },
   "outputs": [
    {
     "data": {
      "text/html": [
       "<div>\n",
       "<table border=\"1\" class=\"dataframe\">\n",
       "  <thead>\n",
       "    <tr style=\"text-align: right;\">\n",
       "      <th></th>\n",
       "      <th>Name</th>\n",
       "      <th>Composer</th>\n",
       "      <th>Milliseconds</th>\n",
       "    </tr>\n",
       "  </thead>\n",
       "  <tbody>\n",
       "    <tr>\n",
       "      <th>0</th>\n",
       "      <td>For Those About To Rock (We Salute You)</td>\n",
       "      <td>Angus Young, Malcolm Young, Brian Johnson</td>\n",
       "      <td>343719</td>\n",
       "    </tr>\n",
       "    <tr>\n",
       "      <th>1</th>\n",
       "      <td>Balls to the Wall</td>\n",
       "      <td>None</td>\n",
       "      <td>342562</td>\n",
       "    </tr>\n",
       "    <tr>\n",
       "      <th>2</th>\n",
       "      <td>Fast As a Shark</td>\n",
       "      <td>F. Baltes, S. Kaufman, U. Dirkscneider &amp; W. Ho...</td>\n",
       "      <td>230619</td>\n",
       "    </tr>\n",
       "    <tr>\n",
       "      <th>3</th>\n",
       "      <td>Restless and Wild</td>\n",
       "      <td>F. Baltes, R.A. Smith-Diesel, S. Kaufman, U. D...</td>\n",
       "      <td>252051</td>\n",
       "    </tr>\n",
       "    <tr>\n",
       "      <th>4</th>\n",
       "      <td>Princess of the Dawn</td>\n",
       "      <td>Deaffy &amp; R.A. Smith-Diesel</td>\n",
       "      <td>375418</td>\n",
       "    </tr>\n",
       "    <tr>\n",
       "      <th>5</th>\n",
       "      <td>Put The Finger On You</td>\n",
       "      <td>Angus Young, Malcolm Young, Brian Johnson</td>\n",
       "      <td>205662</td>\n",
       "    </tr>\n",
       "    <tr>\n",
       "      <th>6</th>\n",
       "      <td>Let's Get It Up</td>\n",
       "      <td>Angus Young, Malcolm Young, Brian Johnson</td>\n",
       "      <td>233926</td>\n",
       "    </tr>\n",
       "    <tr>\n",
       "      <th>7</th>\n",
       "      <td>Inject The Venom</td>\n",
       "      <td>Angus Young, Malcolm Young, Brian Johnson</td>\n",
       "      <td>210834</td>\n",
       "    </tr>\n",
       "    <tr>\n",
       "      <th>8</th>\n",
       "      <td>Snowballed</td>\n",
       "      <td>Angus Young, Malcolm Young, Brian Johnson</td>\n",
       "      <td>203102</td>\n",
       "    </tr>\n",
       "    <tr>\n",
       "      <th>9</th>\n",
       "      <td>Evil Walks</td>\n",
       "      <td>Angus Young, Malcolm Young, Brian Johnson</td>\n",
       "      <td>263497</td>\n",
       "    </tr>\n",
       "    <tr>\n",
       "      <th>10</th>\n",
       "      <td>C.O.D.</td>\n",
       "      <td>Angus Young, Malcolm Young, Brian Johnson</td>\n",
       "      <td>199836</td>\n",
       "    </tr>\n",
       "    <tr>\n",
       "      <th>11</th>\n",
       "      <td>Breaking The Rules</td>\n",
       "      <td>Angus Young, Malcolm Young, Brian Johnson</td>\n",
       "      <td>263288</td>\n",
       "    </tr>\n",
       "    <tr>\n",
       "      <th>12</th>\n",
       "      <td>Night Of The Long Knives</td>\n",
       "      <td>Angus Young, Malcolm Young, Brian Johnson</td>\n",
       "      <td>205688</td>\n",
       "    </tr>\n",
       "    <tr>\n",
       "      <th>13</th>\n",
       "      <td>Spellbound</td>\n",
       "      <td>Angus Young, Malcolm Young, Brian Johnson</td>\n",
       "      <td>270863</td>\n",
       "    </tr>\n",
       "    <tr>\n",
       "      <th>14</th>\n",
       "      <td>Go Down</td>\n",
       "      <td>AC/DC</td>\n",
       "      <td>331180</td>\n",
       "    </tr>\n",
       "    <tr>\n",
       "      <th>15</th>\n",
       "      <td>Dog Eat Dog</td>\n",
       "      <td>AC/DC</td>\n",
       "      <td>215196</td>\n",
       "    </tr>\n",
       "    <tr>\n",
       "      <th>16</th>\n",
       "      <td>Let There Be Rock</td>\n",
       "      <td>AC/DC</td>\n",
       "      <td>366654</td>\n",
       "    </tr>\n",
       "    <tr>\n",
       "      <th>17</th>\n",
       "      <td>Bad Boy Boogie</td>\n",
       "      <td>AC/DC</td>\n",
       "      <td>267728</td>\n",
       "    </tr>\n",
       "    <tr>\n",
       "      <th>18</th>\n",
       "      <td>Problem Child</td>\n",
       "      <td>AC/DC</td>\n",
       "      <td>325041</td>\n",
       "    </tr>\n",
       "    <tr>\n",
       "      <th>19</th>\n",
       "      <td>Overdose</td>\n",
       "      <td>AC/DC</td>\n",
       "      <td>369319</td>\n",
       "    </tr>\n",
       "    <tr>\n",
       "      <th>20</th>\n",
       "      <td>Hell Ain't A Bad Place To Be</td>\n",
       "      <td>AC/DC</td>\n",
       "      <td>254380</td>\n",
       "    </tr>\n",
       "    <tr>\n",
       "      <th>21</th>\n",
       "      <td>Whole Lotta Rosie</td>\n",
       "      <td>AC/DC</td>\n",
       "      <td>323761</td>\n",
       "    </tr>\n",
       "    <tr>\n",
       "      <th>22</th>\n",
       "      <td>Walk On Water</td>\n",
       "      <td>Steven Tyler, Joe Perry, Jack Blades, Tommy Shaw</td>\n",
       "      <td>295680</td>\n",
       "    </tr>\n",
       "    <tr>\n",
       "      <th>23</th>\n",
       "      <td>Love In An Elevator</td>\n",
       "      <td>Steven Tyler, Joe Perry</td>\n",
       "      <td>321828</td>\n",
       "    </tr>\n",
       "    <tr>\n",
       "      <th>24</th>\n",
       "      <td>Rag Doll</td>\n",
       "      <td>Steven Tyler, Joe Perry, Jim Vallance, Holly K...</td>\n",
       "      <td>264698</td>\n",
       "    </tr>\n",
       "    <tr>\n",
       "      <th>25</th>\n",
       "      <td>What It Takes</td>\n",
       "      <td>Steven Tyler, Joe Perry, Desmond Child</td>\n",
       "      <td>310622</td>\n",
       "    </tr>\n",
       "    <tr>\n",
       "      <th>26</th>\n",
       "      <td>Dude (Looks Like A Lady)</td>\n",
       "      <td>Steven Tyler, Joe Perry, Desmond Child</td>\n",
       "      <td>264855</td>\n",
       "    </tr>\n",
       "    <tr>\n",
       "      <th>27</th>\n",
       "      <td>Janie's Got A Gun</td>\n",
       "      <td>Steven Tyler, Tom Hamilton</td>\n",
       "      <td>330736</td>\n",
       "    </tr>\n",
       "    <tr>\n",
       "      <th>28</th>\n",
       "      <td>Cryin'</td>\n",
       "      <td>Steven Tyler, Joe Perry, Taylor Rhodes</td>\n",
       "      <td>309263</td>\n",
       "    </tr>\n",
       "    <tr>\n",
       "      <th>29</th>\n",
       "      <td>Amazing</td>\n",
       "      <td>Steven Tyler, Richie Supa</td>\n",
       "      <td>356519</td>\n",
       "    </tr>\n",
       "    <tr>\n",
       "      <th>...</th>\n",
       "      <td>...</td>\n",
       "      <td>...</td>\n",
       "      <td>...</td>\n",
       "    </tr>\n",
       "    <tr>\n",
       "      <th>3473</th>\n",
       "      <td>October Song</td>\n",
       "      <td>Matt Rowe &amp; Stefan Skarbek</td>\n",
       "      <td>204846</td>\n",
       "    </tr>\n",
       "    <tr>\n",
       "      <th>3474</th>\n",
       "      <td>What Is It About Men</td>\n",
       "      <td>Delroy \"Chris\" Cooper, Donovan Jackson, Earl C...</td>\n",
       "      <td>209573</td>\n",
       "    </tr>\n",
       "    <tr>\n",
       "      <th>3475</th>\n",
       "      <td>Help Yourself</td>\n",
       "      <td>Freddy James, Jimmy hogarth &amp; Larry Stock</td>\n",
       "      <td>300884</td>\n",
       "    </tr>\n",
       "    <tr>\n",
       "      <th>3476</th>\n",
       "      <td>Amy Amy Amy (Outro)</td>\n",
       "      <td>Astor Campbell, Delroy \"Chris\" Cooper, Donovan...</td>\n",
       "      <td>663426</td>\n",
       "    </tr>\n",
       "    <tr>\n",
       "      <th>3477</th>\n",
       "      <td>Slowness</td>\n",
       "      <td>None</td>\n",
       "      <td>215386</td>\n",
       "    </tr>\n",
       "    <tr>\n",
       "      <th>3478</th>\n",
       "      <td>Prometheus Overture, Op. 43</td>\n",
       "      <td>Ludwig van Beethoven</td>\n",
       "      <td>339567</td>\n",
       "    </tr>\n",
       "    <tr>\n",
       "      <th>3479</th>\n",
       "      <td>Sonata for Solo Violin: IV: Presto</td>\n",
       "      <td>Béla Bartók</td>\n",
       "      <td>299350</td>\n",
       "    </tr>\n",
       "    <tr>\n",
       "      <th>3480</th>\n",
       "      <td>A Midsummer Night's Dream, Op.61 Incidental Mu...</td>\n",
       "      <td>None</td>\n",
       "      <td>387826</td>\n",
       "    </tr>\n",
       "    <tr>\n",
       "      <th>3481</th>\n",
       "      <td>Suite No. 3 in D, BWV 1068: III. Gavotte I &amp; II</td>\n",
       "      <td>Johann Sebastian Bach</td>\n",
       "      <td>225933</td>\n",
       "    </tr>\n",
       "    <tr>\n",
       "      <th>3482</th>\n",
       "      <td>Concert pour 4 Parties de V**les, H. 545: I. P...</td>\n",
       "      <td>Marc-Antoine Charpentier</td>\n",
       "      <td>110266</td>\n",
       "    </tr>\n",
       "    <tr>\n",
       "      <th>3483</th>\n",
       "      <td>Adios nonino</td>\n",
       "      <td>Astor Piazzolla</td>\n",
       "      <td>289388</td>\n",
       "    </tr>\n",
       "    <tr>\n",
       "      <th>3484</th>\n",
       "      <td>Symphony No. 3 Op. 36 for Orchestra and Sopran...</td>\n",
       "      <td>Henryk Górecki</td>\n",
       "      <td>567494</td>\n",
       "    </tr>\n",
       "    <tr>\n",
       "      <th>3485</th>\n",
       "      <td>Act IV, Symphony</td>\n",
       "      <td>Henry Purcell</td>\n",
       "      <td>364296</td>\n",
       "    </tr>\n",
       "    <tr>\n",
       "      <th>3486</th>\n",
       "      <td>3 Gymnopédies: No.1 - Lent Et Grave, No.3 - Le...</td>\n",
       "      <td>Erik Satie</td>\n",
       "      <td>385506</td>\n",
       "    </tr>\n",
       "    <tr>\n",
       "      <th>3487</th>\n",
       "      <td>Music for the Funeral of Queen Mary: VI. \"Thou...</td>\n",
       "      <td>Henry Purcell</td>\n",
       "      <td>142081</td>\n",
       "    </tr>\n",
       "    <tr>\n",
       "      <th>3488</th>\n",
       "      <td>Symphony No. 2: III. Allegro vivace</td>\n",
       "      <td>Kurt Weill</td>\n",
       "      <td>376510</td>\n",
       "    </tr>\n",
       "    <tr>\n",
       "      <th>3489</th>\n",
       "      <td>Partita in E Major, BWV 1006A: I. Prelude</td>\n",
       "      <td>Johann Sebastian Bach</td>\n",
       "      <td>285673</td>\n",
       "    </tr>\n",
       "    <tr>\n",
       "      <th>3490</th>\n",
       "      <td>Le Sacre Du Printemps: I.iv. Spring Rounds</td>\n",
       "      <td>Igor Stravinsky</td>\n",
       "      <td>234746</td>\n",
       "    </tr>\n",
       "    <tr>\n",
       "      <th>3491</th>\n",
       "      <td>Sing Joyfully</td>\n",
       "      <td>William Byrd</td>\n",
       "      <td>133768</td>\n",
       "    </tr>\n",
       "    <tr>\n",
       "      <th>3492</th>\n",
       "      <td>Metopes, Op. 29: Calypso</td>\n",
       "      <td>Karol Szymanowski</td>\n",
       "      <td>333669</td>\n",
       "    </tr>\n",
       "    <tr>\n",
       "      <th>3493</th>\n",
       "      <td>Symphony No. 2, Op. 16 -  \"The Four Temperamen...</td>\n",
       "      <td>Carl Nielsen</td>\n",
       "      <td>286998</td>\n",
       "    </tr>\n",
       "    <tr>\n",
       "      <th>3494</th>\n",
       "      <td>24 Caprices, Op. 1, No. 24, for Solo Violin, i...</td>\n",
       "      <td>Niccolò Paganini</td>\n",
       "      <td>265541</td>\n",
       "    </tr>\n",
       "    <tr>\n",
       "      <th>3495</th>\n",
       "      <td>Étude 1, In C Major - Preludio (Presto) - Liszt</td>\n",
       "      <td>None</td>\n",
       "      <td>51780</td>\n",
       "    </tr>\n",
       "    <tr>\n",
       "      <th>3496</th>\n",
       "      <td>Erlkonig, D.328</td>\n",
       "      <td>None</td>\n",
       "      <td>261849</td>\n",
       "    </tr>\n",
       "    <tr>\n",
       "      <th>3497</th>\n",
       "      <td>Concerto for Violin, Strings and Continuo in G...</td>\n",
       "      <td>Pietro Antonio Locatelli</td>\n",
       "      <td>493573</td>\n",
       "    </tr>\n",
       "    <tr>\n",
       "      <th>3498</th>\n",
       "      <td>Pini Di Roma (Pinien Von Rom) \\ I Pini Della V...</td>\n",
       "      <td>None</td>\n",
       "      <td>286741</td>\n",
       "    </tr>\n",
       "    <tr>\n",
       "      <th>3499</th>\n",
       "      <td>String Quartet No. 12 in C Minor, D. 703 \"Quar...</td>\n",
       "      <td>Franz Schubert</td>\n",
       "      <td>139200</td>\n",
       "    </tr>\n",
       "    <tr>\n",
       "      <th>3500</th>\n",
       "      <td>L'orfeo, Act 3, Sinfonia (Orchestra)</td>\n",
       "      <td>Claudio Monteverdi</td>\n",
       "      <td>66639</td>\n",
       "    </tr>\n",
       "    <tr>\n",
       "      <th>3501</th>\n",
       "      <td>Quintet for Horn, Violin, 2 Violas, and Cello ...</td>\n",
       "      <td>Wolfgang Amadeus Mozart</td>\n",
       "      <td>221331</td>\n",
       "    </tr>\n",
       "    <tr>\n",
       "      <th>3502</th>\n",
       "      <td>Koyaanisqatsi</td>\n",
       "      <td>Philip Glass</td>\n",
       "      <td>206005</td>\n",
       "    </tr>\n",
       "  </tbody>\n",
       "</table>\n",
       "<p>3503 rows × 3 columns</p>\n",
       "</div>"
      ],
      "text/plain": [
       "                                                   Name  \\\n",
       "0               For Those About To Rock (We Salute You)   \n",
       "1                                     Balls to the Wall   \n",
       "2                                       Fast As a Shark   \n",
       "3                                     Restless and Wild   \n",
       "4                                  Princess of the Dawn   \n",
       "5                                 Put The Finger On You   \n",
       "6                                       Let's Get It Up   \n",
       "7                                      Inject The Venom   \n",
       "8                                            Snowballed   \n",
       "9                                            Evil Walks   \n",
       "10                                               C.O.D.   \n",
       "11                                   Breaking The Rules   \n",
       "12                             Night Of The Long Knives   \n",
       "13                                           Spellbound   \n",
       "14                                              Go Down   \n",
       "15                                          Dog Eat Dog   \n",
       "16                                    Let There Be Rock   \n",
       "17                                       Bad Boy Boogie   \n",
       "18                                        Problem Child   \n",
       "19                                             Overdose   \n",
       "20                         Hell Ain't A Bad Place To Be   \n",
       "21                                    Whole Lotta Rosie   \n",
       "22                                        Walk On Water   \n",
       "23                                  Love In An Elevator   \n",
       "24                                             Rag Doll   \n",
       "25                                        What It Takes   \n",
       "26                             Dude (Looks Like A Lady)   \n",
       "27                                    Janie's Got A Gun   \n",
       "28                                               Cryin'   \n",
       "29                                              Amazing   \n",
       "...                                                 ...   \n",
       "3473                                       October Song   \n",
       "3474                               What Is It About Men   \n",
       "3475                                      Help Yourself   \n",
       "3476                                Amy Amy Amy (Outro)   \n",
       "3477                                           Slowness   \n",
       "3478                        Prometheus Overture, Op. 43   \n",
       "3479                 Sonata for Solo Violin: IV: Presto   \n",
       "3480  A Midsummer Night's Dream, Op.61 Incidental Mu...   \n",
       "3481    Suite No. 3 in D, BWV 1068: III. Gavotte I & II   \n",
       "3482  Concert pour 4 Parties de V**les, H. 545: I. P...   \n",
       "3483                                       Adios nonino   \n",
       "3484  Symphony No. 3 Op. 36 for Orchestra and Sopran...   \n",
       "3485                                   Act IV, Symphony   \n",
       "3486  3 Gymnopédies: No.1 - Lent Et Grave, No.3 - Le...   \n",
       "3487  Music for the Funeral of Queen Mary: VI. \"Thou...   \n",
       "3488                Symphony No. 2: III. Allegro vivace   \n",
       "3489          Partita in E Major, BWV 1006A: I. Prelude   \n",
       "3490         Le Sacre Du Printemps: I.iv. Spring Rounds   \n",
       "3491                                      Sing Joyfully   \n",
       "3492                           Metopes, Op. 29: Calypso   \n",
       "3493  Symphony No. 2, Op. 16 -  \"The Four Temperamen...   \n",
       "3494  24 Caprices, Op. 1, No. 24, for Solo Violin, i...   \n",
       "3495    Étude 1, In C Major - Preludio (Presto) - Liszt   \n",
       "3496                                    Erlkonig, D.328   \n",
       "3497  Concerto for Violin, Strings and Continuo in G...   \n",
       "3498  Pini Di Roma (Pinien Von Rom) \\ I Pini Della V...   \n",
       "3499  String Quartet No. 12 in C Minor, D. 703 \"Quar...   \n",
       "3500               L'orfeo, Act 3, Sinfonia (Orchestra)   \n",
       "3501  Quintet for Horn, Violin, 2 Violas, and Cello ...   \n",
       "3502                                      Koyaanisqatsi   \n",
       "\n",
       "                                               Composer  Milliseconds  \n",
       "0             Angus Young, Malcolm Young, Brian Johnson        343719  \n",
       "1                                                  None        342562  \n",
       "2     F. Baltes, S. Kaufman, U. Dirkscneider & W. Ho...        230619  \n",
       "3     F. Baltes, R.A. Smith-Diesel, S. Kaufman, U. D...        252051  \n",
       "4                            Deaffy & R.A. Smith-Diesel        375418  \n",
       "5             Angus Young, Malcolm Young, Brian Johnson        205662  \n",
       "6             Angus Young, Malcolm Young, Brian Johnson        233926  \n",
       "7             Angus Young, Malcolm Young, Brian Johnson        210834  \n",
       "8             Angus Young, Malcolm Young, Brian Johnson        203102  \n",
       "9             Angus Young, Malcolm Young, Brian Johnson        263497  \n",
       "10            Angus Young, Malcolm Young, Brian Johnson        199836  \n",
       "11            Angus Young, Malcolm Young, Brian Johnson        263288  \n",
       "12            Angus Young, Malcolm Young, Brian Johnson        205688  \n",
       "13            Angus Young, Malcolm Young, Brian Johnson        270863  \n",
       "14                                                AC/DC        331180  \n",
       "15                                                AC/DC        215196  \n",
       "16                                                AC/DC        366654  \n",
       "17                                                AC/DC        267728  \n",
       "18                                                AC/DC        325041  \n",
       "19                                                AC/DC        369319  \n",
       "20                                                AC/DC        254380  \n",
       "21                                                AC/DC        323761  \n",
       "22     Steven Tyler, Joe Perry, Jack Blades, Tommy Shaw        295680  \n",
       "23                              Steven Tyler, Joe Perry        321828  \n",
       "24    Steven Tyler, Joe Perry, Jim Vallance, Holly K...        264698  \n",
       "25               Steven Tyler, Joe Perry, Desmond Child        310622  \n",
       "26               Steven Tyler, Joe Perry, Desmond Child        264855  \n",
       "27                           Steven Tyler, Tom Hamilton        330736  \n",
       "28               Steven Tyler, Joe Perry, Taylor Rhodes        309263  \n",
       "29                            Steven Tyler, Richie Supa        356519  \n",
       "...                                                 ...           ...  \n",
       "3473                         Matt Rowe & Stefan Skarbek        204846  \n",
       "3474  Delroy \"Chris\" Cooper, Donovan Jackson, Earl C...        209573  \n",
       "3475          Freddy James, Jimmy hogarth & Larry Stock        300884  \n",
       "3476  Astor Campbell, Delroy \"Chris\" Cooper, Donovan...        663426  \n",
       "3477                                               None        215386  \n",
       "3478                               Ludwig van Beethoven        339567  \n",
       "3479                                        Béla Bartók        299350  \n",
       "3480                                               None        387826  \n",
       "3481                              Johann Sebastian Bach        225933  \n",
       "3482                           Marc-Antoine Charpentier        110266  \n",
       "3483                                    Astor Piazzolla        289388  \n",
       "3484                                     Henryk Górecki        567494  \n",
       "3485                                      Henry Purcell        364296  \n",
       "3486                                         Erik Satie        385506  \n",
       "3487                                      Henry Purcell        142081  \n",
       "3488                                         Kurt Weill        376510  \n",
       "3489                              Johann Sebastian Bach        285673  \n",
       "3490                                    Igor Stravinsky        234746  \n",
       "3491                                       William Byrd        133768  \n",
       "3492                                  Karol Szymanowski        333669  \n",
       "3493                                       Carl Nielsen        286998  \n",
       "3494                                   Niccolò Paganini        265541  \n",
       "3495                                               None         51780  \n",
       "3496                                               None        261849  \n",
       "3497                           Pietro Antonio Locatelli        493573  \n",
       "3498                                               None        286741  \n",
       "3499                                     Franz Schubert        139200  \n",
       "3500                                 Claudio Monteverdi         66639  \n",
       "3501                            Wolfgang Amadeus Mozart        221331  \n",
       "3502                                       Philip Glass        206005  \n",
       "\n",
       "[3503 rows x 3 columns]"
      ]
     },
     "execution_count": 33,
     "metadata": {},
     "output_type": "execute_result"
    }
   ],
   "source": [
    "df"
   ]
  },
  {
   "cell_type": "code",
   "execution_count": null,
   "metadata": {
    "collapsed": true
   },
   "outputs": [],
   "source": []
  }
 ],
 "metadata": {
  "kernelspec": {
   "display_name": "Python 3",
   "language": "python",
   "name": "python3"
  },
  "language_info": {
   "codemirror_mode": {
    "name": "ipython",
    "version": 3
   },
   "file_extension": ".py",
   "mimetype": "text/x-python",
   "name": "python",
   "nbconvert_exporter": "python",
   "pygments_lexer": "ipython3",
   "version": "3.5.2"
  }
 },
 "nbformat": 4,
 "nbformat_minor": 2
}
