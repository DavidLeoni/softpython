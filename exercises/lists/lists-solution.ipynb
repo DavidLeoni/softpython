{
 "cells": [
  {
   "cell_type": "code",
   "execution_count": 1,
   "metadata": {
    "nbsphinx": "hidden"
   },
   "outputs": [],
   "source": [
    "# Ricordati di eseguire questa cella con Control+Invio\n",
    "import sys;\n",
    "sys.path.append('../../'); \n",
    "import jupman;"
   ]
  },
  {
   "cell_type": "markdown",
   "metadata": {},
   "source": [
    "# Introduzione a Python - Liste - soluzioni\n",
    "\n",
    "## [Scarica zip esercizi](../../_static/list-exercises.zip)\n",
    "\n",
    "[Naviga file online](https://github.com/DavidLeoni/softpython/tree/master/exercises/list)\n",
    "\n",
    "<div class=\"alert alert-warning\">\n",
    "\n",
    "**ATTENZIONE**: **Questi esercizi sulle liste sono integrativi a quelli già indicati nel** <a href=\"https://softpython.readthedocs.io/it/latest/intro.html#Materiale-del-corso\" href=\"_blank\">Materiale del corso</a>. \n",
    "\n",
    "**Per capire come svolgerli, leggi prima entrambe i fogli** <a href=\"https://softpython.readthedocs.io/it/latest/exercises/intro/intro-solution.html\" target=\"_blank\">Introduzione a Python</a> **e**  <a href=\"https://softpython.readthedocs.io/it/latest/exercises/errors-and-testing/errors-and-testing-solution.html\" target=\"_blank\">Gestione errori e testing</a>.\n",
    "</div>\n",
    "\n"
   ]
  },
  {
   "cell_type": "markdown",
   "metadata": {},
   "source": [
    "### Che fare\n",
    "\n",
    "- scompatta lo zip in una cartella, dovresti ottenere qualcosa del genere: \n",
    "\n",
    "```\n",
    "\n",
    "-jupman.py\n",
    "-altri file ..\n",
    "-exercises\n",
    "     |- intro\n",
    "         |- lists-exercise.ipynb\n",
    "         |- lists-solution.ipynb\n",
    "         |- altri file ..\n",
    "```\n",
    "\n",
    "<div class=\"alert alert-warning\">\n",
    "\n",
    "**ATTENZIONE**: Per essere visualizzato correttamente, il file del notebook DEVE essere nella cartella szippata.\n",
    "</div>\n",
    "\n",
    "- apri il Jupyter Notebook da quella cartella. Due cose dovrebbero aprirsi, prima una console e poi un browser. Il browser dovrebbe mostrare una lista di file: naviga la lista e apri il notebook `exercises/lists/lists-exercise.ipynb`\n",
    "- Prosegui leggendo il file degli esercizi, ogni tanto al suo interno troverai delle scritte **DA FARE**, che ti chiederanno di scrivere dei comandi Python nelle celle successive. Gli esercizi sono graduati per difficoltà, da una stellina ✪ a quattro ✪✪✪✪\n",
    "\n",
    "\n",
    "<div class=\"alert alert-warning\">\n",
    "\n",
    "**ATTENZIONE**: Ricordati di eseguire sempre la prima cella dentro il notebook. Contiene delle istruzioni come `import jupman` che dicono a Python quali moduli servono e dove trovarli. Per eseguirla, vedi le seguenti scorciatoie\n",
    "</div>\n",
    "\n",
    "\n",
    "\n",
    "Scorciatoie da tastiera:\n",
    "\n",
    "* Per eseguire il codice Python dentro una cella di Jupyter, premi `Control+Invio`\n",
    "* Per eseguire il codice Python dentro una cella di Jupyter E selezionare la cella seguente, premi `Shift+Invio`\n",
    "* Per eseguire il codice Python dentro una cella di Jupyter E creare una nuova cella subito dopo, premi `Alt+Invio`\n",
    "* Se per caso il Notebook sembra inchiodato, prova a selezionare `Kernel -> Restart`\n",
    "\n"
   ]
  },
  {
   "cell_type": "markdown",
   "metadata": {},
   "source": [
    "## contiene"
   ]
  },
  {
   "cell_type": "code",
   "execution_count": 2,
   "metadata": {},
   "outputs": [],
   "source": [
    "\"\"\"\n",
    "RITORNA True se elem è presente in lista, altrimenti RITORNA False\n",
    "\"\"\"\n",
    "def contiene(lista, elem):  \n",
    "    #jupman-raise\n",
    "    return elem in lista\n",
    "    #/jupman-raise\n",
    "\n",
    "\n",
    "# INIZIO TEST:  NON TOCCARE !\n",
    "assert contiene([],'a') == False\n",
    "assert contiene(['a'],'a') == True\n",
    "assert contiene(['a','b','c'],'b') == True\n",
    "assert contiene(['a','b','c'],'z') == False\n",
    "# FINE TEST"
   ]
  },
  {
   "cell_type": "markdown",
   "metadata": {},
   "source": [
    "## primi"
   ]
  },
  {
   "cell_type": "code",
   "execution_count": 3,
   "metadata": {},
   "outputs": [],
   "source": [
    "\n",
    "def primi(n):\n",
    "    \"\"\"\n",
    "    RITORNA una lista con i primi numeri da 0 incluso a n escluso. \n",
    "\n",
    "    Per esempio, primi(3) deve ritornare [0,1,2]\n",
    "    Se n < 0, ritorna la lista vuota \n",
    "\n",
    "    Ingredienti:\n",
    "        variabile lista da ritornare\n",
    "        variabile contatore\n",
    "        ciclo while (volendo ci sono anche altri modi)\n",
    "        return\n",
    "    \"\"\"\n",
    "    #jupman-raise\n",
    "    lista = []\n",
    "    contatore = 0\n",
    "    while contatore < n:\n",
    "        lista.append(contatore)        \n",
    "        contatore += 1      \n",
    "    return lista\n",
    "    #/jupman-raise\n",
    "\n",
    "\n",
    "\n",
    "# INIZIO TEST: NON TOCCARE QUESTA PARTE !\n",
    "assert primi(-1) == []\n",
    "assert primi(-2) == []\n",
    "assert primi(0) == []\n",
    "assert primi(1) == [0]\n",
    "assert primi(2) == [0,1]\n",
    "assert primi(3) == [0,1,2]\n",
    "# FINE TEST"
   ]
  },
  {
   "cell_type": "markdown",
   "metadata": {},
   "source": [
    "## hadup"
   ]
  },
  {
   "cell_type": "code",
   "execution_count": 4,
   "metadata": {},
   "outputs": [],
   "source": [
    "def hadup(el, lista):\n",
    "    \"\"\" RESTITUISCE True se lista contiene l'elemento el più di una volta, altrimenti RESTITUISCE False.\n",
    "    \"\"\"\n",
    "    #jupman-raise\n",
    "\n",
    "    contatore = 0\n",
    "    \n",
    "    for x in lista:\n",
    "        if x == el:\n",
    "            contatore += 1\n",
    "            if contatore > 1:\n",
    "                return True\n",
    "    return False\n",
    "    #/jupman-raise\n",
    "\n",
    "# INIZIO TEST: NON TOCCARE QUESTA PARTE !\n",
    "assert hadup(\"a\", []) == False\n",
    "assert hadup(\"a\", [\"a\"]) == False\n",
    "assert hadup(\"a\", [\"a\", \"a\"]) == True\n",
    "assert hadup(\"a\", [\"a\", \"a\", \"a\"]) == True\n",
    "assert hadup(\"a\", [\"b\", \"a\", \"a\"]) == True\n",
    "assert hadup(\"a\", [\"b\", \"a\", \"a\", \"a\"]) == True\n",
    "assert hadup(\"b\", [\"b\", \"a\", \"a\", \"a\"]) == False\n",
    "assert hadup(\"b\", [\"b\", \"a\", \"b\", \"a\"]) == True\n",
    "# FINE TEST"
   ]
  },
  {
   "cell_type": "markdown",
   "metadata": {},
   "source": [
    "## primul"
   ]
  },
  {
   "cell_type": "code",
   "execution_count": 5,
   "metadata": {},
   "outputs": [],
   "source": [
    "\n",
    "def primul(lista):\n",
    "    \"\"\" \n",
    "      RITORNA True se il primo elemento di lista è uguale all'ultimo, altrimenti\n",
    "      RITORNA False\n",
    "      NOTA: Si può assumere che lista contenga sempre almeno un elemento.\n",
    "    \"\"\"    \n",
    "    #jupman-raise\n",
    "    return lista[0] == lista[-1]\n",
    "\n",
    "    # nota: la comparazione   lista[0] == lista[-1]   è una ESPRESSIONE che genera un booleano, \n",
    "    #       in questo caso True se il primo carattere è uguale all'ultimo e Fase altrimenti, \n",
    "    #       quindi possiamo ritornare direttamente il risultato dell'espressione\n",
    "    #/jupman-raise\n",
    "    \n",
    "\n",
    "# INIZIO TEST:  NON TOCCARE !\n",
    "assert primul(['a']) == True\n",
    "assert primul(['a','a']) == True\n",
    "assert primul(['a','b']) == False\n",
    "assert primul(['a','b','a']) == True\n",
    "assert primul(['a','b','c','a']) == True\n",
    "assert primul(['a','b','c','d']) == False\n",
    "# FINE TEST\n"
   ]
  },
  {
   "cell_type": "markdown",
   "metadata": {},
   "source": [
    "## duplica"
   ]
  },
  {
   "cell_type": "code",
   "execution_count": 6,
   "metadata": {},
   "outputs": [],
   "source": [
    "def duplica(lista):\n",
    "    \"\"\" RITORNA una NUOVA lista, in cui ciascun elemento della lista in ingresso \n",
    "       è duplicato. Per esempio, \n",
    "\n",
    "       duplica(['ciao','mondo','python'])\n",
    "\n",
    "       deve ritornare\n",
    "\n",
    "       ['ciao','ciao','mondo','mondo','python','python']\n",
    "\n",
    "       Ingredienti:\n",
    "          - variabile per nuova lista\n",
    "          - ciclo for\n",
    "          - return\n",
    "    \"\"\"\n",
    "    #jupman-raise\n",
    "    \n",
    "    ret = []\n",
    "    for elemento in lista:\n",
    "        ret.append(elemento)\n",
    "        ret.append(elemento)\n",
    "    return ret\n",
    "\n",
    "    #/jupman-raise\n",
    "        \n",
    "\n",
    "# INIZIO TEST:  NON TOCCARE !\n",
    "assert duplica([]) ==  []\n",
    "assert duplica(['a']) == ['a','a']\n",
    "assert duplica(['a','b']) == ['a','a','b','b']\n",
    "assert duplica(['a','b','c']) == ['a','a','b','b','c','c']\n",
    "assert duplica(['a','a']) == ['a','a','a','a']\n",
    "assert duplica(['a','a','b','b']) == ['a','a','a','a','b','b','b','b']\n",
    "# FINE TEST\n"
   ]
  },
  {
   "cell_type": "markdown",
   "metadata": {},
   "source": [
    "## collina"
   ]
  },
  {
   "cell_type": "code",
   "execution_count": 7,
   "metadata": {},
   "outputs": [],
   "source": [
    "def collina(n):\n",
    "    \"\"\" RITORNA una lista in cui all'inizio sono presenti i primi numeri da\n",
    "        uno a n in crescendo, e dopo n decrescono fino a 1.\n",
    "        NOTA: n è contenuto una sola volta.\n",
    "\n",
    "        Per esempio, \n",
    "\n",
    "        collina(4)\n",
    "\n",
    "        deve ritornare\n",
    "\n",
    "        [1,2,3,4,3,2,1]\n",
    "\n",
    "        Ingredienti:\n",
    "          - variabile per la lista da ritornare\n",
    "          - due cicli for di seguito e funzioni range\n",
    "            oppure due while di seguito \n",
    "    \"\"\"    \n",
    "    \n",
    "    #jupman-raise\n",
    "    ret = []\n",
    "    for i in range(1,n):\n",
    "        ret.append(i)\n",
    "    for i in range(n,0,-1):\n",
    "        ret.append(i)\n",
    "    return ret\n",
    "    #/jupman-raise\n",
    "\n",
    "# INIZIO TEST:  NON TOCCARE !\n",
    "assert collina(0) == []\n",
    "assert collina(1) == [1]\n",
    "assert collina(2) == [1,2,1]\n",
    "assert collina(3) == [1,2,3,2,1]\n",
    "assert collina(4) == [1,2,3,4,3,2,1]\n",
    "assert collina(5) == [1,2,3,4,5,4,3,2,1]\n",
    "# FINE TEST\n"
   ]
  },
  {
   "cell_type": "markdown",
   "metadata": {},
   "source": [
    "## pari"
   ]
  },
  {
   "cell_type": "code",
   "execution_count": 8,
   "metadata": {},
   "outputs": [],
   "source": [
    "def pari(lista):\n",
    "    \"\"\"\n",
    "    RITORNA una lista contenente gli elementi dalla lista di input alle posizioni \n",
    "    pari,  cominciando dalla zero che è considerato pari\n",
    "    - si può assumera che la lista di input contenga sempre un numero pari di \n",
    "      elementi\n",
    "\n",
    "    - Suggerimento: ricordatevi che range può prendere tre parametri.\n",
    "    \"\"\"\n",
    "    \n",
    "    #jupman-raise\n",
    "    ret = []\n",
    "    for i in range(0,len(lista),2):\n",
    "        ret.append(lista[i])\n",
    "    return ret\n",
    "    #/jupman-raise\n",
    "    \n",
    "# INIZIO TEST:  NON TOCCARE !\n",
    "assert pari([]) == []\n",
    "assert pari(['a','b']) == ['a']\n",
    "assert pari(['a','b','c','d']) == ['a', 'c']\n",
    "assert pari(['a','b','a','c']) == ['a', 'a']\n",
    "assert pari(['a','b','c','d','e','f']) == ['a', 'c','e']\n",
    "# FINE TEST\n",
    "    "
   ]
  },
  {
   "cell_type": "markdown",
   "metadata": {},
   "source": [
    "## mix"
   ]
  },
  {
   "cell_type": "code",
   "execution_count": 9,
   "metadata": {},
   "outputs": [],
   "source": [
    "\n",
    "def mix(lista1, lista2):\n",
    "    \"\"\" RITORNA una nuova lista in cui gli elementi sono presi alternativamente da \n",
    "        lista1 e da lista2. \n",
    "        - si può assumere che lista1 e lista2 contengano lo stesso numero di elementi\n",
    "\n",
    "        Esempio:\n",
    "\n",
    "            mix(['a', 'b','c'], ['x', 'y','z']) \n",
    "\n",
    "        deve dare \n",
    "\n",
    "            ['a', 'x', 'b','y', 'c','z']\n",
    "\n",
    "    \"\"\"    \n",
    "    #jupman-raise\n",
    "    ret = []\n",
    "    for i in range(len(lista1)):\n",
    "        ret.append(lista1[i])\n",
    "        ret.append(lista2[i])\n",
    "    return ret\n",
    "    #/jupman-raise\n",
    "\n",
    "    \n",
    "# INIZIO TEST:  NON TOCCARE !    \n",
    "assert mix([], []) == []\n",
    "assert mix(['a'], ['x']) == ['a', 'x']\n",
    "assert mix(['a'], ['a']) == ['a', 'a']\n",
    "assert mix(['a', 'b'], ['x', 'y']) == ['a', 'x', 'b','y']\n",
    "assert mix(['a', 'b','c'], ['x', 'y','z']) == ['a', 'x', 'b','y', 'c','z']\n",
    "# FINE TEST\n"
   ]
  },
  {
   "cell_type": "code",
   "execution_count": null,
   "metadata": {},
   "outputs": [],
   "source": []
  }
 ],
 "metadata": {
  "celltoolbar": "Edit Metadata",
  "kernelspec": {
   "display_name": "Python 3",
   "language": "python",
   "name": "python3"
  },
  "language_info": {
   "codemirror_mode": {
    "name": "ipython",
    "version": 3
   },
   "file_extension": ".py",
   "mimetype": "text/x-python",
   "name": "python",
   "nbconvert_exporter": "python",
   "pygments_lexer": "ipython3",
   "version": "3.5.2"
  },
  "toc": {
   "base_numbering": 1,
   "nav_menu": {},
   "number_sections": false,
   "sideBar": true,
   "skip_h1_title": false,
   "title_cell": "Table of Contents",
   "title_sidebar": "Contents",
   "toc_cell": false,
   "toc_position": {},
   "toc_section_display": true,
   "toc_window_display": false
  }
 },
 "nbformat": 4,
 "nbformat_minor": 2
}
