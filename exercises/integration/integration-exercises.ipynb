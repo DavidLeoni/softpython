{
 "cells": [
  {
   "cell_type": "markdown",
   "metadata": {},
   "source": [
    "# Integrazione dati: esercizi\n",
    "\n",
    "In questo tutorial mapperemo degli agritur del Trentino su Umap, seguendo grossomodo [il tutorial sugli agritur di CoderDojoTrento](https://www.coderdojotrento.it/risorse/openstreetmap-e-agritur/). La differenza sostanziale sarà che in questo caso invece dei Google spreadsheet useremo Python.\n",
    "\n",
    "**Scaletta:**\n",
    "\n",
    "- 0 Presentazione OpenStreetMap e UMap\n",
    "- 1 prendere dati agritur da dati.trentino.it\n",
    "- 2 leggere file CSV in Python\n",
    "- 3 cercare automaticamente coordinate geografiche usando le web api di MapQuest / OpenStreetMap Nominatim\n",
    "    - parsing formato json\n",
    "- 4 scrivere il nuovo file CSV con i campi latitudine e longitudine riempiti\n",
    "- 5 importare il file CSV in Umap\n",
    "- 6 Inserire la mappa in Jupyter\n",
    "\n"
   ]
  },
  {
   "cell_type": "markdown",
   "metadata": {},
   "source": [
    "## 0 Presentazione OpenStreetMap e UMap\n",
    "\n",
    "### 0.1 OpenStreetMap\n",
    "\n",
    "Conosciamo tutti le Google Maps. Se le usiamo come privati cittadini, sono gratute, ma se siamo delle aziende Google potrebbe porci dei vincoli al riuso - sicuramente per scaricare tutto il database del mondo dovremmo chiedere permessi e pagare soldoni, sempre che Google ce lo conceda ! Esistono alternative? Sappiamo che esiste un enciclopedia realizzata completamente da volontari che si chiama Wikipedia, e per le mappe? Per nostra fortuna esiste [OpenStreetMap](http://openstreetmap.org) (detta anche OSM), che è una mappa del mondo realizzata da volontari, completamente gratuita, nonchè scaricabile e riusabile con licenza  [OpenDatabase License](https://it.okfn.org/odbl-riassunto/). La licenza è piuttosto libera, il peggio che può capitare è che in alcuni casi si sia costretti a ripubblicare le proprie mappe costruite usando dati presi da OpenStreetMap. \n",
    "\n",
    "**✪ DA FARE 0.1.1**: Per capire un po' come navigare OpenStreetMap, puoi guardare il tutorial di CoderDojo Trento [Inseriamo un punto in OpenStreetMap](https://www.coderdojotrento.it/materiale/webmapping/tutorial/osm-inseriamo-un-punto/tutorial-osm-inseriamo-un-punto.pdf). Non serve che inserisci punti in OpenStreetMap, ma naturalmente se vuoi arricchire la mappa la comunità te ne sarà grata !\n",
    "\n",
    "**✪ DA FARE 0.1.2** Per capire  le potenzialità di OpenStreetMap e le differenze con Google Maps, guarda anche queste diverse visualizzazioni di OpenStreetMap che evidenziano alcune categorie di punti che si trovano in OpenStreetMap:\n",
    "\n",
    "[OsmHydrant](https://www.osmhydrant.org/en/): Mappa di idranti, notare il raggio d'azione utile degli idranti\n",
    "\n",
    "[WheelMap](https://wheelmap.org/it/map#/?lat=46.0900194916288&lon=11.123485565185547&q=trento&zoom=15): mappa dei luoghi accessibili ai disabili\n",
    "\n",
    "[TagInfo](https://taginfo.openstreetmap.org) Ad ogni oggetto in OpenStreetMap si possono aggiungere tag. TagInfo mostra le tag più utilizzate."
   ]
  },
  {
   "cell_type": "markdown",
   "metadata": {},
   "source": [
    "\n",
    "### 0.1 UMap\n",
    "\n",
    "[UMap](https://umap.openstreetmap.fr) è un tool online per creare mappe in cui si sovrappongono punti che vogliamo noi a OpenStreetMap. \n",
    "\n",
    "**✪ DA FARE 0.2.1**: Se non l'hai già fatto precedentemente, prova a fare il [tutorial di CoderDojo Trento sui Servizi di Rovereto e Umap](https://docs.google.com/presentation/d/1CWo9pFl6jcR1EmDAXOmNeOayfyjfLqLR5-h5U8zxrrk/edit#slide=id.g518a59eb3_0_0). E' molto semplice e non serve Python, basta usare tool online. Mostra come prendere da dati.trentino.it i servizi di Rovereto in formato JSON georeferenziati, convertirli in CSV e importarli in UMap"
   ]
  },
  {
   "cell_type": "markdown",
   "metadata": {},
   "source": [
    "\n",
    "\n",
    "## 1 Prendiamoci i dati\n",
    "\n",
    "Concentriamoci adesso sugli Agritur. Andiamo a cercarci dei dati dal catalogo opendata `dati.trentino.it`. In questo caso sceglieremo un file dal dataset [Agritur del Trentino](http://dati.trentino.it/dataset/agriturismi-del-trentino). \n",
    "\n",
    "**✪ DOMANDA 1.1**: Quale è la licenza del dataset? Possiamo farci tutto quello che vogliamo ? \n",
    "\n",
    "Nel dataset troviamo la risorsa [Elenco Agritur](http://dati.trentino.it/dataset/agriturismi-del-trentino/resource/bb9f3185-602d-44c5-9f06-fc1f7ae25038) che al suo interno contiene un link ad un file CSV.\n",
    "\n",
    "**ATTENZIONE**: Per questo esercizio, **NON** usate il CSV dal sito, ma scaricate invece [agritur16_10_2014.csv a questo link](agritur16_10_2014.csv) che come dal nome contiene un file del 2014. \n",
    "\n",
    "**✪ DOMANDA 1.2**: notate differenze tra il file del 2014 e quello corrente sul sito ? \n",
    "\n",
    "**✪ DOMANDA 1.3**: Se realizzaste un programma per leggere questi file degli agriturismi scaricandoli periodicamente dal sito,  a lungo andare quali problemi potrebbero insorgere (pensate anche al contenuto del file) ? \n",
    "\n",
    "Vediamo qua una anterprima del file  [agritur16_10_2014.csv](agritur16_10_2014.csv) (NOTA: i campi a destra sono tagliati) : \n",
    "\n",
    "```\n",
    "N_prog;Num_archivio;data_rilascio_prima_autorizzazione;Nome_Impresa_agricola;A ...\n",
    "1;10;11/11/1986;DALLAGO LUCIANO;no;38060;Aldeno;Via S. D'Acquisto n. 4;29251/9 ...\n",
    "2;26;16/12/1986;ARMAN CRISTINA;no;38010;Faedo;Loc. Pineta - Maso Nello;137876/ ...\n",
    "3;37;22/12/1986;INAMA FRANCESCO;no;38010;Sanzeno;Via Casalini n. 74;130041/96; ...\n",
    "4;49;15/01/1987;MONTIBELLER VALTER;no;38050;Roncegno;Via Prose n. 1;138559/96; ...\n",
    "```\n",
    "\n",
    "**✪ DOMANDA 1.4**: Ci sono le intestazioni ? Qual'è il separatore ? \n",
    "\n",
    "**✪ DOMANDA 1.5**: Quanti indirizzi ci sono nel file ? Se volessimo posizionare gli agritur su una mappa, quali indirizzi useremmo ? Ci sono le coordinate geografiche?\n",
    "\n",
    "**✪ DOMANDA 1.6**: Prova ad aprire il file in LibreOffice Calc o Excel, facendo attenzione a specificare i separatori corretti e l'encoding (guarda l'header 'Società' , in particolare il carattere finale !)\n",
    "\n",
    "<div class=\"alert alert-warning\">\n",
    "           \n",
    "**ATTENZIONE SE USI EXCEL!**\n",
    "     \n",
    "Facendo direttamente `File->Apri in Excel`, probabilmente Excel cercherà di immaginarsi da solo come intabellare il CSV, e sbaglierà metterà tutto le righe in una colonna. Per ovviare al problema, dobbiamo dire ad Excel di mostrare un pannello per chiederci come vogliamo aprire il CSV, facendo così: \n",
    "\n",
    "* In Excel vecchi, cerca `File-> Importa`\n",
    "* In Excel recenti, clicca la scheda `Dati` e poi seleziona `Da testo`. Per ulteriori riferimenti su Excel, [vedere guida di Salvatore Aranzulla](https://www.aranzulla.it/come-aprire-file-csv-672903.html)\n",
    "\n",
    "</div>\n",
    "\n"
   ]
  },
  {
   "cell_type": "markdown",
   "metadata": {},
   "source": [
    "## 2. Leggiamo il CSV"
   ]
  },
  {
   "cell_type": "markdown",
   "metadata": {},
   "source": [
    "**✪ DA FARE 2.1**: Prova a caricare il file CSV in Python usando le istruzioni già viste [nella seconda lezione](http://softpython.readthedocs.io/it/latest/exercises/data-formats/data-formats-exercises.html#File-CSV)\n",
    "\n",
    "Fai attenzione al delimitatore e specifica `encoding='utf-8'` come parametro nella `open` !\n",
    "\n"
   ]
  },
  {
   "cell_type": "code",
   "execution_count": 1,
   "metadata": {},
   "outputs": [],
   "source": [
    "# Scrivi qui\n"
   ]
  },
  {
   "cell_type": "markdown",
   "metadata": {
    "collapsed": true
   },
   "source": [
    "## 3. Geocoding con webapi\n",
    "\n",
    "### 3.1 MapQuest / OpenStreetMap Nominatim\n",
    "\n",
    "Possiamo leggere i valori dal CSV, ma purtroppo notiamo che mancano le coordinate geografiche. Per ottenerle, possiamo usare i servizi di MapQuest, che ci offre gratutitamente un cosiddetto servizio di _geocoding_ : Dati degli indirizzi, ci ritornerà le loro coordinate geografiche usando OpenStreetMap (detto OSM per gli amici) come riferimento.\n",
    "\n",
    "Per capire cosa potremmo avere indietro, cerchiamo su OpenStreetMap un agritur, tipo il Montibeller di Roncegno:\n",
    "\n",
    "* Sito di OpenStreetMap, stringa di ricerca `Montibeller, Roncegno`:\n",
    "\n",
    "    http://www.openstreetmap.org/search?query=Montibeller%2C%20Roncegno#map=19/46.04691/11.41157\n",
    "\n",
    "* Sito di OpenStreetMap, stringa di ricerca `Via Prose n. 1, Roncegno`:\n",
    "\n",
    "    http://www.openstreetmap.org/search?query=via%20Prose%20n.%201%2C%20Roncegno#map=18/46.04698/11.41101\n",
    "\n",
    "**✪ DOMANDA 3.1.1**: Le due stringhe trovano risultati diversi. Come mai? Manca forse qualche dato ad OpenStreetMap?\n",
    "\n"
   ]
  },
  {
   "cell_type": "markdown",
   "metadata": {},
   "source": [
    "### 3.2 Webapi JSON\n",
    "\n",
    "Oggigiorno, tantissimi portali offrono la possibilità di leggere e scrivere informazioni programmaticamente tramite cosiddette 'API REST'. `API` significa `Application Programming Interface`, ed è una serie di specifiche su come accedere programmaticamente ai dati di un sito. Di solito, le API disponibili vengono descritte nella sezione sviluppatori. \n",
    "\n",
    "**✪ DA FARE 3.2.2**: prova ad andare sul sito di [dati.gov.it](https://www.dati.gov.it/) e cerca dove sono le API. Provane qualcuna dal browser cercando di capire cosa viene ritornato.\n",
    "\n",
    "**Webapi geografiche**\n",
    "\n",
    "Abbiamo visto una bella rappresentazione grafica del punto sulla mappa. Però ci piacerebbe ottenere quell'informazione in Python. Come fare? [openstreetmap.org](http://openstreetmap.org) offre delle API che potremmo usare, ma teniamo presente che OpenStreetMap è un servizio gratuito gestito principalmente su base volontaristica con risorse limitate.\n",
    "\n",
    "In alternativa, conviene rivolgersi a servizi offerti da aziende commerciali che possono sostenere un traffico più elevato. Di interessante c'è MapQuest, che oltre a mappe commerciali,  offre anche lo stesso identico servizio di OpenStreetMap (può farlo perchè le condizioni di licenza di OSM, molto libere, lo permettono). L'unico vincolo è che per usare il servizio bisogna prima registrare una cosiddetta 'Api key' da passare al servizio ogni volta che lo usiamo. Questo consente a MapQuest di monitorare eventuali abusi del servizio (per più info, vedere le [condizioni di licenza di MapQuest](https://developer.mapquest.com/documentation/open/). Quando ci connettiamo a indirizzi che iniziano con `open.mapquestapi`, vuol dire che stiamo usando mappe di OpenStreetMap.\n",
    "\n"
   ]
  },
  {
   "cell_type": "markdown",
   "metadata": {},
   "source": [
    "Specifichiamo un paio di parametri importanti delle nostre chiamate web:"
   ]
  },
  {
   "cell_type": "code",
   "execution_count": 2,
   "metadata": {},
   "outputs": [],
   "source": [
    "api_key = \"Er38WkJVmeOl5AvFIAzM6lBBq4uEdgvG\"  # Usate questa key SOLO per fare questi esercizi!\n",
    "url_base = \"http://open.mapquestapi.com/nominatim/v1/search\"\n"
   ]
  },
  {
   "cell_type": "markdown",
   "metadata": {},
   "source": [
    "Provate a fare copia e incolla nel vostro broswer dell'indirizzo seguente:"
   ]
  },
  {
   "cell_type": "code",
   "execution_count": 3,
   "metadata": {},
   "outputs": [
    {
     "name": "stdout",
     "output_type": "stream",
     "text": [
      "http://open.mapquestapi.com/nominatim/v1/search\n"
     ]
    }
   ],
   "source": [
    "print(url_base)"
   ]
  },
  {
   "cell_type": "markdown",
   "metadata": {},
   "source": [
    "MapQuest dovrebbe rispondervi così:\n",
    "\n",
    "```\n",
    "The AppKey submitted with this request is invalid.\n",
    "```\n",
    "\n",
    "Si è offeso perchè non gli abbiamo passato una api key. \n",
    "\n",
    "<div class=\"alert alert-warning\">\n",
    "\n",
    "**IMPORTANTE:** Per oggi, la api key ve la diamo noi, ma se usate il servizio per i vostri progetti, [registratevene una ](https://developer.mapquest.com/plan_purchase/steps/business_edition/business_edition_free/register)!!!!**\n",
    "\n",
    "</div>\n",
    "\n",
    "Proviamo ad aggiungere la api key, mettendo il tutto nel browser dovremmo vedere dei bottoni (notate che il primo parametro è sempre preceduto da il punto di domanda `?`) :"
   ]
  },
  {
   "cell_type": "code",
   "execution_count": 4,
   "metadata": {},
   "outputs": [
    {
     "name": "stdout",
     "output_type": "stream",
     "text": [
      "http://open.mapquestapi.com/nominatim/v1/search?key=Er38WkJVmeOl5AvFIAzM6lBBq4uEdgvG\n"
     ]
    }
   ],
   "source": [
    "url_with_key = url_base + \"?key=\" + api_key\n",
    "print(url_with_key)"
   ]
  },
  {
   "cell_type": "markdown",
   "metadata": {},
   "source": [
    "Se siamo riusciti a vedere dei bottoni, vuol dire che abbiamo superato il primo ostacolo. Ma Python di bottoni non ci capisce un tubo! Dobbiamo fornire a pyhton un formato più 'digeribile':"
   ]
  },
  {
   "cell_type": "code",
   "execution_count": 5,
   "metadata": {},
   "outputs": [],
   "source": [
    "url_json = url_base + \"?key=\" + api_key + \"&format=json\""
   ]
  },
  {
   "cell_type": "markdown",
   "metadata": {},
   "source": [
    "Se proviamo nel browser questa nuova url, vedremo che è sparito tutto - al più vedrai due parentesi quadre vuote `[]`. Un JSON vuoto non è per niente interessante, ma almeno sono spariti i bottoni:"
   ]
  },
  {
   "cell_type": "code",
   "execution_count": 6,
   "metadata": {},
   "outputs": [
    {
     "name": "stdout",
     "output_type": "stream",
     "text": [
      "http://open.mapquestapi.com/nominatim/v1/search?key=Er38WkJVmeOl5AvFIAzM6lBBq4uEdgvG&format=json\n"
     ]
    }
   ],
   "source": [
    "print(url_json)"
   ]
  },
  {
   "cell_type": "markdown",
   "metadata": {},
   "source": [
    "Siamo finalmente pronti per eseguire la nostra prima query via web api ! Nella nostra query, scriveremo in linguaggio naturale `Montibeller,Roncegno`:"
   ]
  },
  {
   "cell_type": "code",
   "execution_count": 7,
   "metadata": {},
   "outputs": [
    {
     "name": "stdout",
     "output_type": "stream",
     "text": [
      "http://open.mapquestapi.com/nominatim/v1/search?key=Er38WkJVmeOl5AvFIAzM6lBBq4uEdgvG&format=json&q=Montibeller,Roncegno\n"
     ]
    }
   ],
   "source": [
    "\n",
    "query = \"Montibeller,Roncegno\"\n",
    "\n",
    "url_complete = url_json = url_base + \"?key=\" + api_key + \"&format=json\"  + \"&q=\" + query \n",
    "\n",
    "print(url_complete)"
   ]
  },
  {
   "cell_type": "markdown",
   "metadata": {},
   "source": [
    "Adesso dovremmo vedere un risultato tipo questo:\n",
    "    \n",
    "```\n",
    "[{\"place_id\":\"6560673\",\"licence\":\"Data \\u00a9 OpenStreetMap contributors, ODbL 1.0. http:\\/\\/www.openstreetmap.org\\/copyright\",\"osm_type\":\"node\",\"osm_id\":\"673194565\",\"boundingbox\":[\"46.0469105\",\"46.0469105\",\"11.4115734\",\"11.4115734\"],\"lat\":\"46.0469105\",\"lon\":\"11.4115734\",\"display_name\":\"Montibeller, Via Prose, Alps, Salembis, Roncegno Terme, Comunit\\u00e0 Valsugana e Tesino, Provincia autonoma di Trento, Trentino-Alto Adige - S\\u00fcdtirol, 38051, Italy\",\"class\":\"tourism\",\"type\":\"hotel\",\"importance\":0.211,\"icon\":\"http:\\/\\/ip-10-98-183-183.mq-us-east-1.ec2.aolcloud.net:8000\\/nominatim\\/v1\\/images\\/mapicons\\/accommodation_hotel2.p.20.png\"}]\n",
    "```"
   ]
  },
  {
   "cell_type": "markdown",
   "metadata": {},
   "source": [
    "prova a copia e incollare il risultato in un editor che supporta i JSON, salva il file come `.json` e prova a dire all'editor di riformattare il documento. Se tutto va bene, dovrebbe venire fuori un bell'albero ordinato così: \n",
    "\n",
    "```json\n",
    "[\n",
    "    {\n",
    "        \"place_id\": \"6560673\",\n",
    "        \"licence\": \"Data \\u00a9 OpenStreetMap contributors, ODbL 1.0. http:\\/\\/www.openstreetmap.org\\/copyright\",\n",
    "        \"osm_type\": \"node\",\n",
    "        \"osm_id\": \"673194565\",\n",
    "        \"boundingbox\": [\n",
    "            \"46.0469105\",\n",
    "            \"46.0469105\",\n",
    "            \"11.4115734\",\n",
    "            \"11.4115734\"\n",
    "        ],\n",
    "        \"lat\": \"46.0469105\",\n",
    "        \"lon\": \"11.4115734\",\n",
    "        \"display_name\": \"Montibeller, Via Prose, Alps, Salembis, Roncegno Terme, Comunit\\u00e0 Valsugana e Tesino, TN, Trentino-Alto Adige - S\\u00fcdtirol, 38051, Italy\",\n",
    "        \"class\": \"tourism\",\n",
    "        \"type\": \"hotel\",\n",
    "        \"importance\": 0.211,\n",
    "        \"icon\": \"http:\\/\\/ip-10-98-183-183.mq-us-east-1.ec2.aolcloud.net:8000\\/nominatim\\/v1\\/images\\/mapicons\\/accommodation_hotel2.p.20.png\"\n",
    "    }\n",
    "]\n",
    "```\n"
   ]
  },
  {
   "cell_type": "markdown",
   "metadata": {},
   "source": [
    "Mmm.. non sembra tanto diversa da una combinazione di liste e dizionari Python... Forse possiamo riuscire ad estrarre quel `lat` e `lon` senza neanche troppa fatica ..."
   ]
  },
  {
   "cell_type": "markdown",
   "metadata": {},
   "source": [
    "### 3.3. Requests in Python"
   ]
  },
  {
   "cell_type": "markdown",
   "metadata": {},
   "source": [
    "Per chiamare le webapi da Python, installiamo la libreria `requests`:\n",
    "\n",
    "- Anaconda: `conda install requests`\n",
    "- Linux/Mac : `python3 -m pip install --user requests`"
   ]
  },
  {
   "cell_type": "code",
   "execution_count": 8,
   "metadata": {},
   "outputs": [],
   "source": [
    "# importiamo il modulo per la libreria:\n",
    "import requests\n",
    "\n",
    "query = \"Montibeller,Roncegno\"\n",
    "\n",
    "url_complete = url_json = url_base + \"?key=\" + api_key + \"&format=json\"  + \"&q=\" + query \n",
    "\n",
    "\n",
    "# effettuiamo una chiamata HTTP GET:\n",
    "\n",
    "r = requests.get(url_complete)\n"
   ]
  },
  {
   "cell_type": "markdown",
   "metadata": {},
   "source": [
    "Stampando direttamente `r`, vedremo qual'è stato il codice di risposta. Se è `200`, vuol dire che è andato tutto bene. er altri possibili codici di risposta, puoi [guardare Wikipedia](https://it.wikipedia.org/wiki/Codici_di_stato_HTTP)"
   ]
  },
  {
   "cell_type": "code",
   "execution_count": 9,
   "metadata": {},
   "outputs": [
    {
     "name": "stdout",
     "output_type": "stream",
     "text": [
      "<Response [200]>\n"
     ]
    }
   ],
   "source": [
    "print(r)"
   ]
  },
  {
   "cell_type": "markdown",
   "metadata": {},
   "source": [
    "Possiamo accedere al contenuto testuale della risposta con `r.text`:"
   ]
  },
  {
   "cell_type": "code",
   "execution_count": 10,
   "metadata": {},
   "outputs": [
    {
     "data": {
      "text/plain": [
       "'[{\"place_id\":\"6560673\",\"licence\":\"Data \\\\u00a9 OpenStreetMap contributors, ODbL 1.0. http:\\\\/\\\\/www.openstreetmap.org\\\\/copyright\",\"osm_type\":\"node\",\"osm_id\":\"673194565\",\"boundingbox\":[\"46.0469105\",\"46.0469105\",\"11.4115734\",\"11.4115734\"],\"lat\":\"46.0469105\",\"lon\":\"11.4115734\",\"display_name\":\"Montibeller, Via Prose, Alps, Salembis, Roncegno Terme, Comunit\\\\u00e0 Valsugana e Tesino, TN, TAA, 38051, Italia\",\"class\":\"tourism\",\"type\":\"hotel\",\"importance\":0.211,\"icon\":\"http:\\\\/\\\\/ip-10-98-183-175.mq-us-east-1.ec2.aolcloud.net:8000\\\\/nominatim\\\\/v1\\\\/images\\\\/mapicons\\\\/accommodation_hotel2.p.20.png\"}]'"
      ]
     },
     "execution_count": 10,
     "metadata": {},
     "output_type": "execute_result"
    }
   ],
   "source": [
    "r.text"
   ]
  },
  {
   "cell_type": "code",
   "execution_count": 11,
   "metadata": {},
   "outputs": [
    {
     "data": {
      "text/plain": [
       "str"
      ]
     },
     "execution_count": 11,
     "metadata": {},
     "output_type": "execute_result"
    }
   ],
   "source": [
    "type(r.text)"
   ]
  },
  {
   "cell_type": "markdown",
   "metadata": {},
   "source": [
    "Gli headers `content-type` ci dicono il tipo di formato e l'encoding dichiarato dal server (NOTA: purtroppo l'encoding dichiarato dal server non sempre corrisponde a quello effettivo !):"
   ]
  },
  {
   "cell_type": "code",
   "execution_count": 12,
   "metadata": {},
   "outputs": [
    {
     "data": {
      "text/plain": [
       "'application/json; charset=UTF-8'"
      ]
     },
     "execution_count": 12,
     "metadata": {},
     "output_type": "execute_result"
    }
   ],
   "source": [
    "r.headers['content-type']"
   ]
  },
  {
   "cell_type": "markdown",
   "metadata": {},
   "source": [
    "Possiamo anche ottenere l'encoding direttamente:"
   ]
  },
  {
   "cell_type": "code",
   "execution_count": 13,
   "metadata": {},
   "outputs": [
    {
     "data": {
      "text/plain": [
       "'UTF-8'"
      ]
     },
     "execution_count": 13,
     "metadata": {},
     "output_type": "execute_result"
    }
   ],
   "source": [
    "r.encoding"
   ]
  },
  {
   "cell_type": "markdown",
   "metadata": {},
   "source": [
    "Dalle ispezioni fatte sinora, abbiamo capito che abbiamo ottenuto una stringa in formato json. `requests` mette a disposizione un comodo metodo che interpreta la stringa come json, e ritorna delle strutture dati Python per accedere facilmente ai campi interni del json. Quali strutture? Come avrete notato, il formato del json è molto simile a strutture dati che già abbiamo in python, come stringhe, numeri interi, float, liste e dizionari. L'unica differenza sono i campi  `null` in json che diventano `None` in Python. Quindi la conversione a Python è quasi sempre facile e indolore: "
   ]
  },
  {
   "cell_type": "code",
   "execution_count": 14,
   "metadata": {},
   "outputs": [
    {
     "data": {
      "text/plain": [
       "[{'boundingbox': ['46.0469105', '46.0469105', '11.4115734', '11.4115734'],\n",
       "  'class': 'tourism',\n",
       "  'display_name': 'Montibeller, Via Prose, Alps, Salembis, Roncegno Terme, Comunità Valsugana e Tesino, TN, TAA, 38051, Italia',\n",
       "  'icon': 'http://ip-10-98-183-175.mq-us-east-1.ec2.aolcloud.net:8000/nominatim/v1/images/mapicons/accommodation_hotel2.p.20.png',\n",
       "  'importance': 0.211,\n",
       "  'lat': '46.0469105',\n",
       "  'licence': 'Data © OpenStreetMap contributors, ODbL 1.0. http://www.openstreetmap.org/copyright',\n",
       "  'lon': '11.4115734',\n",
       "  'osm_id': '673194565',\n",
       "  'osm_type': 'node',\n",
       "  'place_id': '6560673',\n",
       "  'type': 'hotel'}]"
      ]
     },
     "execution_count": 14,
     "metadata": {},
     "output_type": "execute_result"
    }
   ],
   "source": [
    "r.json()"
   ]
  },
  {
   "cell_type": "markdown",
   "metadata": {},
   "source": [
    "Notiamo che abbiamo ricevuto una lista di dizionari: "
   ]
  },
  {
   "cell_type": "code",
   "execution_count": 15,
   "metadata": {},
   "outputs": [
    {
     "data": {
      "text/plain": [
       "list"
      ]
     },
     "execution_count": 15,
     "metadata": {},
     "output_type": "execute_result"
    }
   ],
   "source": [
    "type(r.json())"
   ]
  },
  {
   "cell_type": "markdown",
   "metadata": {},
   "source": [
    "Prendiamo il primo dizionario:"
   ]
  },
  {
   "cell_type": "code",
   "execution_count": 16,
   "metadata": {},
   "outputs": [
    {
     "data": {
      "text/plain": [
       "{'boundingbox': ['46.0469105', '46.0469105', '11.4115734', '11.4115734'],\n",
       " 'class': 'tourism',\n",
       " 'display_name': 'Montibeller, Via Prose, Alps, Salembis, Roncegno Terme, Comunità Valsugana e Tesino, TN, TAA, 38051, Italia',\n",
       " 'icon': 'http://ip-10-98-183-175.mq-us-east-1.ec2.aolcloud.net:8000/nominatim/v1/images/mapicons/accommodation_hotel2.p.20.png',\n",
       " 'importance': 0.211,\n",
       " 'lat': '46.0469105',\n",
       " 'licence': 'Data © OpenStreetMap contributors, ODbL 1.0. http://www.openstreetmap.org/copyright',\n",
       " 'lon': '11.4115734',\n",
       " 'osm_id': '673194565',\n",
       " 'osm_type': 'node',\n",
       " 'place_id': '6560673',\n",
       " 'type': 'hotel'}"
      ]
     },
     "execution_count": 16,
     "metadata": {},
     "output_type": "execute_result"
    }
   ],
   "source": [
    "r.json()[0]"
   ]
  },
  {
   "cell_type": "code",
   "execution_count": 17,
   "metadata": {},
   "outputs": [
    {
     "data": {
      "text/plain": [
       "dict"
      ]
     },
     "execution_count": 17,
     "metadata": {},
     "output_type": "execute_result"
    }
   ],
   "source": [
    "type(r.json()[0])"
   ]
  },
  {
   "cell_type": "markdown",
   "metadata": {},
   "source": [
    "Prendiamo il campo `lat` dal primo dizionario:"
   ]
  },
  {
   "cell_type": "code",
   "execution_count": 18,
   "metadata": {},
   "outputs": [
    {
     "data": {
      "text/plain": [
       "'46.0469105'"
      ]
     },
     "execution_count": 18,
     "metadata": {},
     "output_type": "execute_result"
    }
   ],
   "source": [
    "r.json()[0]['lat']"
   ]
  },
  {
   "cell_type": "markdown",
   "metadata": {},
   "source": [
    "**✪ DOMANDA 3.3.1**: Come è stato convertito in Python il campo `lat`. Numero o qualcos'altro? In cosa potremmo convertirlo?: "
   ]
  },
  {
   "cell_type": "code",
   "execution_count": 19,
   "metadata": {},
   "outputs": [],
   "source": [
    "# Scrivi qui"
   ]
  },
  {
   "cell_type": "code",
   "execution_count": 20,
   "metadata": {},
   "outputs": [
    {
     "data": {
      "text/plain": [
       "'11.4115734'"
      ]
     },
     "execution_count": 20,
     "metadata": {},
     "output_type": "execute_result"
    }
   ],
   "source": [
    "r.json()[0]['lon']"
   ]
  },
  {
   "cell_type": "markdown",
   "metadata": {},
   "source": [
    "**✪ DA FARE 3.3.2**: prova a chiamare `requests.get` passandogli una URL sbagliata, come `boh` o parzialmente giusta come `http://open.mapquestapi.com/BLA`. Cosa ottieni di ritorno per i vari campi di `r`? Il [codice HTTP di ritorno](https://it.wikipedia.org/wiki/Codici_di_stato_HTTP) (successo / errore) ti sembra consistente con il risultato che ottieni? "
   ]
  },
  {
   "cell_type": "code",
   "execution_count": 21,
   "metadata": {},
   "outputs": [],
   "source": [
    "# Scrivi qui\n"
   ]
  },
  {
   "cell_type": "markdown",
   "metadata": {},
   "source": [
    "### 3.4 Funzioni geocode per requests\n",
    "\n",
    "Proviamo a scriverci delle funzioni comode per effettuare delle chiamate semplicemente passando un indirizzo "
   ]
  },
  {
   "cell_type": "code",
   "execution_count": 22,
   "metadata": {},
   "outputs": [],
   "source": [
    "def geocode_generic(address):\n",
    "    # 'payload' è una variabile che ci definiamo noi, per metterci più comodamente i parametri \n",
    "    # dentro un dizionario\n",
    "    payload = {'key': api_key,  # Questa è la chiave lunga tipo Er38Wk... che abbiamo definito più sopra\n",
    "               'format': 'json', \n",
    "               'q' : address}\n",
    "    r = requests.get(url_base, params=payload)  # qua passiamo il dizionario 'payload' alla libreria requests\n",
    "    print(r.url) # stampa l'url che requests ha usato \n",
    "    return r.json()\n"
   ]
  },
  {
   "cell_type": "markdown",
   "metadata": {},
   "source": [
    "Facciamo una prova:"
   ]
  },
  {
   "cell_type": "code",
   "execution_count": 23,
   "metadata": {},
   "outputs": [
    {
     "name": "stdout",
     "output_type": "stream",
     "text": [
      "http://open.mapquestapi.com/nominatim/v1/search?key=Er38WkJVmeOl5AvFIAzM6lBBq4uEdgvG&format=json&q=Montibeller%2C+Roncegno\n"
     ]
    },
    {
     "data": {
      "text/plain": [
       "[{'boundingbox': ['46.0469105', '46.0469105', '11.4115734', '11.4115734'],\n",
       "  'class': 'tourism',\n",
       "  'display_name': 'Montibeller, Via Prose, Alps, Salembis, Roncegno Terme, Comunità Valsugana e Tesino, TN, TAA, 38051, Italia',\n",
       "  'icon': 'http://ip-10-98-183-175.mq-us-east-1.ec2.aolcloud.net:8000/nominatim/v1/images/mapicons/accommodation_hotel2.p.20.png',\n",
       "  'importance': 0.211,\n",
       "  'lat': '46.0469105',\n",
       "  'licence': 'Data © OpenStreetMap contributors, ODbL 1.0. http://www.openstreetmap.org/copyright',\n",
       "  'lon': '11.4115734',\n",
       "  'osm_id': '673194565',\n",
       "  'osm_type': 'node',\n",
       "  'place_id': '6560673',\n",
       "  'type': 'hotel'}]"
      ]
     },
     "execution_count": 23,
     "metadata": {},
     "output_type": "execute_result"
    }
   ],
   "source": [
    "geocode_generic(\"Montibeller, Roncegno\")"
   ]
  },
  {
   "cell_type": "markdown",
   "metadata": {},
   "source": [
    "A volte essere precisi non aiuta: "
   ]
  },
  {
   "cell_type": "code",
   "execution_count": 24,
   "metadata": {},
   "outputs": [
    {
     "name": "stdout",
     "output_type": "stream",
     "text": [
      "http://open.mapquestapi.com/nominatim/v1/search?key=Er38WkJVmeOl5AvFIAzM6lBBq4uEdgvG&format=json&q=Montibeller%2C+Via+Prose+n.+1%2C+Roncegno\n"
     ]
    }
   ],
   "source": [
    "json = geocode_generic(\"Montibeller, Via Prose n. 1, Roncegno\")"
   ]
  },
  {
   "cell_type": "code",
   "execution_count": 25,
   "metadata": {},
   "outputs": [
    {
     "name": "stdout",
     "output_type": "stream",
     "text": [
      "[]\n"
     ]
    }
   ],
   "source": [
    "print(json)"
   ]
  },
  {
   "cell_type": "markdown",
   "metadata": {},
   "source": [
    "Per verificare se abbiamo trovato o meno qualcosa, possiamo controllare che la lunghezza della lista ritornata sia zero con `len`: "
   ]
  },
  {
   "cell_type": "code",
   "execution_count": 26,
   "metadata": {},
   "outputs": [
    {
     "name": "stdout",
     "output_type": "stream",
     "text": [
      "non ho trovato niente!\n"
     ]
    }
   ],
   "source": [
    "if len(json) == 0:\n",
    "    print(\"non ho trovato niente!\")\n",
    "else: \n",
    "    print(\"ho trovato !\")"
   ]
  },
  {
   "cell_type": "code",
   "execution_count": 27,
   "metadata": {},
   "outputs": [
    {
     "name": "stdout",
     "output_type": "stream",
     "text": [
      "http://open.mapquestapi.com/nominatim/v1/search?key=Er38WkJVmeOl5AvFIAzM6lBBq4uEdgvG&format=json&q=Via+Prose+n.+1%2C+Roncegno\n"
     ]
    },
    {
     "data": {
      "text/plain": [
       "[{'boundingbox': ['46.0464048', '46.047558', '11.4100616', '11.4119591'],\n",
       "  'class': 'highway',\n",
       "  'display_name': 'Via Prose, Alps, Salembis, Roncegno Terme, Comunità Valsugana e Tesino, TN, TAA, 38051, Italia',\n",
       "  'importance': 0.5,\n",
       "  'lat': '46.0469731',\n",
       "  'licence': 'Data © OpenStreetMap contributors, ODbL 1.0. http://www.openstreetmap.org/copyright',\n",
       "  'lon': '11.4109589',\n",
       "  'osm_id': '149123476',\n",
       "  'osm_type': 'way',\n",
       "  'place_id': '102955753',\n",
       "  'type': 'residential'}]"
      ]
     },
     "execution_count": 27,
     "metadata": {},
     "output_type": "execute_result"
    }
   ],
   "source": [
    "geocode_generic(\"Via Prose n. 1, Roncegno\")"
   ]
  },
  {
   "cell_type": "markdown",
   "metadata": {},
   "source": [
    "Con query generiche è possibile che vengano ritornati parecchi risultati:\n",
    "\n",
    "**✪ DOMANDA 3.4.1**: Qual'è il risultato più rilevante secondo Nominatim (ricordiamo che Nominatim è il search engine di OpenStreetMap)? E quanto è rilevante ? Qual'è la rilevanza minimima? Qual'è la massima ? "
   ]
  },
  {
   "cell_type": "code",
   "execution_count": 28,
   "metadata": {},
   "outputs": [
    {
     "name": "stdout",
     "output_type": "stream",
     "text": [
      "http://open.mapquestapi.com/nominatim/v1/search?key=Er38WkJVmeOl5AvFIAzM6lBBq4uEdgvG&format=json&q=Trento\n"
     ]
    },
    {
     "data": {
      "text/plain": [
       "[{'boundingbox': ['45.9775306', '46.1530112', '11.0224735', '11.1948226'],\n",
       "  'class': 'place',\n",
       "  'display_name': 'Trento, TN, TAA, Italia',\n",
       "  'icon': 'http://ip-10-98-174-148.mq-us-east-1.ec2.aolcloud.net:8000/nominatim/v1/images/mapicons/poi_place_city.p.20.png',\n",
       "  'importance': 0.72458366717332,\n",
       "  'lat': '46.0664228',\n",
       "  'licence': 'Data © OpenStreetMap contributors, ODbL 1.0. http://www.openstreetmap.org/copyright',\n",
       "  'lon': '11.1257601',\n",
       "  'osm_id': '46663',\n",
       "  'osm_type': 'relation',\n",
       "  'place_id': '151138922',\n",
       "  'type': 'city'},\n",
       " {'boundingbox': ['7.9378151', '8.292381', '126.00048', '126.355208'],\n",
       "  'class': 'boundary',\n",
       "  'display_name': 'Trento, Agusan Del Sur, Caraga, Philippine Continental Shelf',\n",
       "  'icon': 'http://ip-10-98-174-148.mq-us-east-1.ec2.aolcloud.net:8000/nominatim/v1/images/mapicons/poi_boundary_administrative.p.20.png',\n",
       "  'importance': 0.56,\n",
       "  'lat': '8.114415',\n",
       "  'licence': 'Data © OpenStreetMap contributors, ODbL 1.0. http://www.openstreetmap.org/copyright',\n",
       "  'lon': '126.158888603496',\n",
       "  'osm_id': '3870471',\n",
       "  'osm_type': 'relation',\n",
       "  'place_id': '2587730003',\n",
       "  'type': 'administrative'},\n",
       " {'boundingbox': ['45.6729717', '46.5327643', '10.4522048', '11.9628023'],\n",
       "  'class': 'boundary',\n",
       "  'display_name': 'TN, TAA, Italia',\n",
       "  'icon': 'http://ip-10-98-174-148.mq-us-east-1.ec2.aolcloud.net:8000/nominatim/v1/images/mapicons/poi_boundary_administrative.p.20.png',\n",
       "  'importance': 0.53496811981278,\n",
       "  'lat': '46.102869',\n",
       "  'licence': 'Data © OpenStreetMap contributors, ODbL 1.0. http://www.openstreetmap.org/copyright',\n",
       "  'lon': '11.1296199265191',\n",
       "  'osm_id': '45756',\n",
       "  'osm_type': 'relation',\n",
       "  'place_id': '151138229',\n",
       "  'type': 'administrative'},\n",
       " {'boundingbox': ['46.0722252', '46.0722252', '11.1190039', '11.1190039'],\n",
       "  'class': 'railway',\n",
       "  'display_name': 'Trento, Piazzetta Filippo Foti e Edoardo Martini, Alps, centro storico Trento, Trento, TN, TAA, 38122, Italia',\n",
       "  'importance': 0.42791837080539,\n",
       "  'lat': '46.0722252',\n",
       "  'licence': 'Data © OpenStreetMap contributors, ODbL 1.0. http://www.openstreetmap.org/copyright',\n",
       "  'lon': '11.1190039',\n",
       "  'osm_id': '248804218',\n",
       "  'osm_type': 'node',\n",
       "  'place_id': '713157',\n",
       "  'type': 'stop'},\n",
       " {'boundingbox': ['44.9656976', '44.9656976', '11.4673224', '11.4673224'],\n",
       "  'class': 'place',\n",
       "  'display_name': 'Trento, RO, VEN, Italia',\n",
       "  'icon': 'http://ip-10-98-174-148.mq-us-east-1.ec2.aolcloud.net:8000/nominatim/v1/images/mapicons/poi_place_village.p.20.png',\n",
       "  'importance': 0.385,\n",
       "  'lat': '44.9656976',\n",
       "  'licence': 'Data © OpenStreetMap contributors, ODbL 1.0. http://www.openstreetmap.org/copyright',\n",
       "  'lon': '11.4673224',\n",
       "  'osm_id': '3134911289',\n",
       "  'osm_type': 'node',\n",
       "  'place_id': '2610624606',\n",
       "  'type': 'hamlet'},\n",
       " {'boundingbox': ['8.0459463', '8.0459463', '126.0614264', '126.0614264'],\n",
       "  'class': 'place',\n",
       "  'display_name': 'Trento, Agusan Del Sur, Philippines',\n",
       "  'icon': 'http://ip-10-98-174-148.mq-us-east-1.ec2.aolcloud.net:8000/nominatim/v1/images/mapicons/poi_place_town.p.20.png',\n",
       "  'importance': 0.33603047907589,\n",
       "  'lat': '8.0459463',\n",
       "  'licence': 'Data © OpenStreetMap contributors, ODbL 1.0. http://www.openstreetmap.org/copyright',\n",
       "  'lon': '126.0614264',\n",
       "  'osm_id': '198505670',\n",
       "  'osm_type': 'node',\n",
       "  'place_id': '584269',\n",
       "  'type': 'town'},\n",
       " {'boundingbox': ['44.1482269', '44.1507838', '4.8476098', '4.850579'],\n",
       "  'class': 'landuse',\n",
       "  'display_name': \"Trento, La Baussenque, Orange, Avignon, Vaucluse, Provence-Alpes-Côte d'Azur, France métropolitaine, 84100, France\",\n",
       "  'importance': 0.31,\n",
       "  'lat': '44.1496326',\n",
       "  'licence': 'Data © OpenStreetMap contributors, ODbL 1.0. http://www.openstreetmap.org/copyright',\n",
       "  'lon': '4.84974219258943',\n",
       "  'osm_id': '147148070',\n",
       "  'osm_type': 'way',\n",
       "  'place_id': '102316096',\n",
       "  'type': 'industrial'},\n",
       " {'boundingbox': ['-34.8733563', '-34.8705279', '-56.1574323', '-56.1537518'],\n",
       "  'class': 'highway',\n",
       "  'display_name': 'Trento, Bolivar, Montevideo, 11600, Uruguay',\n",
       "  'importance': 0.21,\n",
       "  'lat': '-34.8721097',\n",
       "  'licence': 'Data © OpenStreetMap contributors, ODbL 1.0. http://www.openstreetmap.org/copyright',\n",
       "  'lon': '-56.1553845',\n",
       "  'osm_id': '78119660',\n",
       "  'osm_type': 'way',\n",
       "  'place_id': '77070983',\n",
       "  'type': 'residential'},\n",
       " {'boundingbox': ['-32.9893918', '-32.9859804', '-60.6626151', '-60.6617527'],\n",
       "  'class': 'highway',\n",
       "  'display_name': 'Trento, La Guardia, Distrito Sur, Rosario, Municipio de Rosario, Departamento Rosario, Sta. Fe, S2000, Argentina',\n",
       "  'importance': 0.21,\n",
       "  'lat': '-32.9882127',\n",
       "  'licence': 'Data © OpenStreetMap contributors, ODbL 1.0. http://www.openstreetmap.org/copyright',\n",
       "  'lon': '-60.662317',\n",
       "  'osm_id': '73838593',\n",
       "  'osm_type': 'way',\n",
       "  'place_id': '75799127',\n",
       "  'type': 'residential'},\n",
       " {'boundingbox': ['45.7466148', '45.7469574', '9.2305622', '9.2319169'],\n",
       "  'class': 'highway',\n",
       "  'display_name': 'Trento, Inverigo, CO, LOM, 22045, Italia',\n",
       "  'importance': 0.21,\n",
       "  'lat': '45.7468391',\n",
       "  'licence': 'Data © OpenStreetMap contributors, ODbL 1.0. http://www.openstreetmap.org/copyright',\n",
       "  'lon': '9.2310522',\n",
       "  'osm_id': '80595940',\n",
       "  'osm_type': 'way',\n",
       "  'place_id': '77627341',\n",
       "  'type': 'residential'}]"
      ]
     },
     "execution_count": 28,
     "metadata": {},
     "output_type": "execute_result"
    }
   ],
   "source": [
    "geocode_generic(\"Trento\")"
   ]
  },
  {
   "cell_type": "markdown",
   "metadata": {},
   "source": [
    "**✪✪✪ DA FARE 3.4.2**: guardando anche la documentazione di [sorted](https://docs.python.org/3/howto/sorting.html) scrivere del codice python  per riordinare i risultati precedenti dal meno rilevante al più rilevante. Ci sono vari modi per farlo, ma il più sintetico è con funzioni lambda. Riuscite a usarlo? \n",
    "\n",
    "**SUGGERIMENTO**: Per ottenere per es. il campo `'osm_id'` di un dizionario `miodiz`, si può chiamare il metodo `miodiz.get('odm_id')`"
   ]
  },
  {
   "cell_type": "code",
   "execution_count": 29,
   "metadata": {},
   "outputs": [],
   "source": [
    "# Scrivi qui\n"
   ]
  },
  {
   "cell_type": "markdown",
   "metadata": {},
   "source": [
    "La [API di Nominatim](https://wiki.openstreetmap.org/wiki/Nominatim#Special_Keywords) (ricordiamo che Nominatim è il search engine di OpenStreetMap) ci permette di essere più specifici nei parametri che passiamo. Per esempio, si possono passare i parameteri `street` e `county`:  "
   ]
  },
  {
   "cell_type": "code",
   "execution_count": 30,
   "metadata": {},
   "outputs": [],
   "source": [
    "\n",
    "def geocode_street_county(street, county):\n",
    "    # 'payload' è una variabile che ci definiamo noi, per metterci più comodamente i parametri \n",
    "    payload = {'key': api_key,  # api_key è la chiave lunga tipo Er38Wk... che abbiamo definito più sopra\n",
    "               'format': 'json',\n",
    "               'street' : street,\n",
    "               'county' : county}\n",
    "    r = requests.get(url_base, params=payload)  # qua passiamo il 'payload' alla libreria requests\n",
    "    print(r.url) # stampa l'url che requests ha usato \n",
    "    return r.json()\n",
    "\n"
   ]
  },
  {
   "cell_type": "code",
   "execution_count": 31,
   "metadata": {},
   "outputs": [
    {
     "name": "stdout",
     "output_type": "stream",
     "text": [
      "http://open.mapquestapi.com/nominatim/v1/search?key=Er38WkJVmeOl5AvFIAzM6lBBq4uEdgvG&format=json&county=Roncegno&street=Via+Prose+n.+1\n"
     ]
    },
    {
     "data": {
      "text/plain": [
       "[{'boundingbox': ['46.0464048', '46.047558', '11.4100616', '11.4119591'],\n",
       "  'class': 'highway',\n",
       "  'display_name': 'Via Prose, Alps, Salembis, Roncegno Terme, Comunità Valsugana e Tesino, TN, TAA, 38051, Italia',\n",
       "  'importance': 0.5,\n",
       "  'lat': '46.0469731',\n",
       "  'licence': 'Data © OpenStreetMap contributors, ODbL 1.0. http://www.openstreetmap.org/copyright',\n",
       "  'lon': '11.4109589',\n",
       "  'osm_id': '149123476',\n",
       "  'osm_type': 'way',\n",
       "  'place_id': '102955753',\n",
       "  'type': 'residential'}]"
      ]
     },
     "execution_count": 31,
     "metadata": {},
     "output_type": "execute_result"
    }
   ],
   "source": [
    "geocode_street_county(\"Via Prose n. 1\", \"Roncegno\")"
   ]
  },
  {
   "cell_type": "markdown",
   "metadata": {},
   "source": [
    "## 4. Scriviamo un nuovo CSV con i campi lat e long\n",
    "\n",
    "Adesso che abbiamo capito come prenderci le coordinate, possiamo\n",
    "\n",
    "1. aprire in scrittura un nuovo CSV chiamato `agritur_mini_latlon.csv`\n",
    "2. leggere il CSV originale `agritur_mini.csv`\n",
    "3. per ogni riga del CSV originale `agritur_mini.csv`, leggere `lat` e `lon` da MapQuest\n",
    "4. scrivere nel nuovo CSV `agritur_mini_latlon.csv` i campi vecchi più le nuove coordinate\n",
    "\n",
    "<div class=\"alert alert-warning\">\n",
    "\n",
    "**Attenzione**: Per non sovraccaricare MapQuest, negli esercizi seguenti useremo **SOLO** il file [agritur_mini.csv](agritur_mini.csv) che contiene i primi 7 Agritur. Per un paio di questi sarà possibile trovare una georeferenziazione. Il CSV 'soluzione' lo potete vedere nel file [agritur_soluzione.csv](agritur_soluzione.csv) (NON modificatelo !)\n",
    "</div>"
   ]
  },
  {
   "cell_type": "markdown",
   "metadata": {},
   "source": [
    "Intanto scriviamo un programmino per leggere dall'input `agritur_mini.csv` e copiare tutto quanto letto in un file di output che chiameremo `agritur_mini_latlon.csv` "
   ]
  },
  {
   "cell_type": "code",
   "execution_count": 32,
   "metadata": {},
   "outputs": [],
   "source": [
    "\n",
    "import csv\n",
    "\n",
    "# apriamo il file `agritur_mini_latlon`in scrittura (fouput è un nome  scelto da noi)\n",
    "with open('agritur_mini_latlon.csv', 'w', encoding='utf-8') as foutput:   \n",
    "    scrittore = csv.writer(foutput)  # Ci serve creare un'oggetto 'scrittore'\n",
    "    \n",
    "    # apriamo il file `agritur_mini`in scrittura (finput è un nome  scelto da noi)\n",
    "    with open('agritur_mini.csv', encoding='utf-8', newline='') as finput:\n",
    "        lettore = csv.reader(finput, delimiter=';')  # delimitatore ';'\n",
    "        for riga in lettore:\n",
    "            scrittore.writerow(riga)  # chiamiamo l'oggetto scrittore dicendogli di scrivere la riga appena letta"
   ]
  },
  {
   "cell_type": "markdown",
   "metadata": {},
   "source": [
    "**✪ DA FARE 4.1**: Copia a mano qua sotto il codice qua sopra, e usa `Control+Invio` per eseguirlo"
   ]
  },
  {
   "cell_type": "code",
   "execution_count": 33,
   "metadata": {},
   "outputs": [],
   "source": [
    "# scrivi il codice"
   ]
  },
  {
   "cell_type": "markdown",
   "metadata": {},
   "source": [
    "**✪ DA FARE 4.2**: prova a cancellare il file `agritur_mini_latlon.csv`, eseguire la cella qua sopra e verificare che il programma effettivamente crei il file\n",
    "\n",
    "**✪ DOMANDA 4.3**: di default, lo `scrittore` che separatori usa? Guarda il file di risultato.\n",
    "\n",
    "**✪✪ DA FARE 4.4**: Prova ad aggiungere un contatore per verificare a che riga siamo, poi tanto per capire dove sta la latitudine, prova a modificare `row` prima che venga scritta, in modo che il campo `Latitudine` (`row[16]`) e `Longitudine` (`row[17]`) siano messi rispettivamente a `123` e `456`"
   ]
  },
  {
   "cell_type": "code",
   "execution_count": 34,
   "metadata": {},
   "outputs": [],
   "source": [
    "# Scrivi qua\n"
   ]
  },
  {
   "cell_type": "markdown",
   "metadata": {},
   "source": [
    "\n",
    "**✪✪ DA FARE 4.5**: Mentre leggi il CSV, adesso setta latitudine e longitudine usando risultati ottenuti chiamando `geocode_street_county` definita precedentemente. Per gli input, puoi usare questi indici:\n",
    "\n",
    "* `Indirizzo_agriturismo` : `riga[19]`\n",
    "* `Comune_Sede_Agriturismo` : `riga[18]`\n",
    "\n",
    "(ci sarebbe la `Denominazione_Agriturismo` : `riga[20]` ma come visto prima funziona solo se l'agriturismo è già in OpenStreetMap, usando solo la via abbiamo qualche probabilità in più di successo)\n"
   ]
  },
  {
   "cell_type": "code",
   "execution_count": 35,
   "metadata": {},
   "outputs": [],
   "source": [
    "import requests\n",
    "\n",
    "def geocode_street_county(street, county):\n",
    "    # 'payload' è una variabile che ci definiamo noi, per metterci più comodamente i parametri \n",
    "    payload = {'key': api_key,  # api_key è la chiave lunga tipo Er38Wk... che abbiamo definito più sopra\n",
    "               'format': 'json',\n",
    "               'street' : street,\n",
    "               'county' : county}\n",
    "    r = requests.get(url_base, params=payload)  # qua passiamo il 'payload' alla libreria requests\n",
    "    print(r.url) # stampa l'url che requests ha usato \n",
    "    return r.json()\n",
    "\n",
    "# Scrivi qua\n"
   ]
  },
  {
   "cell_type": "markdown",
   "metadata": {},
   "source": [
    "## 5. Importiamo in UMap\n",
    "\n",
    "**✪ DA FARE 5.1** Importa il CSV in Umap, seguendo le indicazioni di [del tutorial sui Servizi di Rovereto](https://docs.google.com/presentation/d/1CWo9pFl6jcR1EmDAXOmNeOayfyjfLqLR5-h5U8zxrrk/edit) visto precedentemente al punto 0.2\n",
    "\n",
    "Il risultato finale dovrebbe essere così: [Mappa Agritur mini](http://umap.openstreetmap.fr/en/map/agritur-mini_181977#10/46.0594/11.3805) . Nota che abbiamo scritto `%%HTML` che è un comando speciale di Jupyter e poi incollato sotto il codice HTML ricavato da Umap:\n"
   ]
  },
  {
   "cell_type": "code",
   "execution_count": 36,
   "metadata": {},
   "outputs": [
    {
     "data": {
      "text/html": [
       "\n",
       "<iframe width=\"100%\" height=\"300px\" frameBorder=\"0\" src=\"http://umap.openstreetmap.fr/en/map/mia-mappa-agritur_182055?scaleControl=false&miniMap=false&scrollWheelZoom=false&zoomControl=true&allowEdit=false&moreControl=true&searchControl=null&tilelayersControl=null&embedControl=null&datalayersControl=true&onLoadPanel=undefined&captionBar=false#11/46.0966/11.4024\"></iframe><p><a href=\"http://umap.openstreetmap.fr/en/map/mia-mappa-agritur_182055\">See full screen</a></p>"
      ],
      "text/plain": [
       "<IPython.core.display.HTML object>"
      ]
     },
     "metadata": {},
     "output_type": "display_data"
    }
   ],
   "source": [
    "%%HTML\n",
    "\n",
    "<iframe width=\"100%\" height=\"300px\" frameBorder=\"0\" src=\"http://umap.openstreetmap.fr/en/map/mia-mappa-agritur_182055?scaleControl=false&miniMap=false&scrollWheelZoom=false&zoomControl=true&allowEdit=false&moreControl=true&searchControl=null&tilelayersControl=null&embedControl=null&datalayersControl=true&onLoadPanel=undefined&captionBar=false#11/46.0966/11.4024\"></iframe><p><a href=\"http://umap.openstreetmap.fr/en/map/mia-mappa-agritur_182055\">See full screen</a></p>"
   ]
  },
  {
   "cell_type": "markdown",
   "metadata": {},
   "source": [
    "**✪ DA FARE 5.2**: Crea una nuova cella qua sotto, e prova ad incorporare nel foglio Jupyter la tua mappa come fatto qua sopra:"
   ]
  },
  {
   "cell_type": "code",
   "execution_count": null,
   "metadata": {},
   "outputs": [],
   "source": []
  }
 ],
 "metadata": {
  "celltoolbar": "Edit Metadata",
  "kernelspec": {
   "display_name": "Python 3",
   "language": "python",
   "name": "python3"
  },
  "language_info": {
   "codemirror_mode": {
    "name": "ipython",
    "version": 3
   },
   "file_extension": ".py",
   "mimetype": "text/x-python",
   "name": "python",
   "nbconvert_exporter": "python",
   "pygments_lexer": "ipython3",
   "version": "3.5.2"
  }
 },
 "nbformat": 4,
 "nbformat_minor": 2
}
