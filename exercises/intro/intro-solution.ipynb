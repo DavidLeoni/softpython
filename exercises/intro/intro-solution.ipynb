{
 "cells": [
  {
   "cell_type": "code",
   "execution_count": 1,
   "metadata": {
    "nbsphinx": "hidden"
   },
   "outputs": [],
   "source": [
    "# Ricordati di eseguire questa cella con Control+Invio\n",
    "import sys;\n",
    "sys.path.append('../../'); \n",
    "import jupman;"
   ]
  },
  {
   "cell_type": "markdown",
   "metadata": {
    "colab_type": "text",
    "id": "dW_7xwCZAFP5"
   },
   "source": [
    "# Introduzione a Python - soluzioni\n",
    "\n",
    "\n",
    "## [Scarica zip esercizi](../../_static/intro-exercises.zip)\n",
    "\n",
    "[Naviga file online](https://github.com/DavidLeoni/softpython/tree/master/exercises/intro)\n",
    "\n",
    "\n",
    "### Che fare\n",
    "\n",
    "- Se non hai già provveduto ad installare Python 3 e Jupyter, guarda [questa pagina a parte](../../installation.ipynb)\n",
    "- scompatta lo zip in una cartella, dovresti ottenere qualcosa del genere: \n",
    "\n",
    "```\n",
    "\n",
    "-jupman.py\n",
    "-altri file ..\n",
    "-exercises\n",
    "     |- intro\n",
    "         |- intro-exercise.ipynb     \n",
    "         |- intro-solution.ipynb\n",
    "         |- altri file ..\n",
    "```\n",
    "\n",
    "<div class=\"alert alert-warning\">\n",
    "\n",
    "**ATTENZIONE**: Per essere visualizzato correttamente, il file del notebook DEVE essere nella cartella szippata.\n",
    "</div>\n",
    "\n",
    "- apri il Jupyter Notebook da quella cartella. Due cose dovrebbero aprirsi, prima una console e poi un browser. Il browser dovrebbe mostrare una lista di file: naviga la lista e apri il notebook `exercises/intro/intro-exercise.ipynb`\n",
    "- Prosegui leggendo il file degli esercizi, ogni tanto al suo interno troverai delle scritte **DA FARE**, che ti chiederanno di scrivere dei comandi Python nelle celle successive. Gli esercizi sono graduati per difficoltà, da una stellina ✪ a quattro ✪✪✪✪\n",
    "\n",
    "\n",
    "<div class=\"alert alert-warning\">\n",
    "\n",
    "**ATTENZIONE**: Ricordati di eseguire sempre la prima cella dentro il notebook. Contiene delle istruzioni come `import jupman` che dicono a Python quali moduli servono e dove trovarli. Per eseguirla, vedi le seguenti scorciatoie\n",
    "</div>\n",
    "\n",
    "\n",
    "\n",
    "Scorciatoie da tastiera:\n",
    "\n",
    "* Per eseguire il codice Python dentro una cella di Jupyter, premi `Control+Invio`\n",
    "* Per eseguire il codice Python dentro una cella di Jupyter E selezionare la cella seguente, premi `Shift+Invio`\n",
    "* Per eseguire il codice Python dentro una cella di Jupyter E creare una nuova cella subito dopo, premi `Alt+Invio`\n",
    "* Se per caso il Notebook sembra inchiodato, prova a selezionare `Kernel -> Restart`\n",
    "\n",
    "\n",
    "\n"
   ]
  },
  {
   "cell_type": "markdown",
   "metadata": {},
   "source": [
    "**DA FARE**: Proviamo a inserire un comando Python: scrivi nella cella qua sotto `3 + 5`, e poi mentre sei in quella cella premi i tasti speciali `Control+Invio`. Come risultato, dovresti vedere apparire il numero 8"
   ]
  },
  {
   "cell_type": "code",
   "execution_count": null,
   "metadata": {},
   "outputs": [],
   "source": []
  },
  {
   "cell_type": "markdown",
   "metadata": {},
   "source": [
    "**DA FARE**: in Python possiamo scrivere commenti iniziando una riga con un cancelletto `#`. Come prima, scrivi nella cella sotto `3 + 5` ma questa volta scrivilo nella riga sotto la scritta `# scrivi qui`:"
   ]
  },
  {
   "cell_type": "code",
   "execution_count": 2,
   "metadata": {},
   "outputs": [],
   "source": [
    "# scrivi qui\n"
   ]
  },
  {
   "cell_type": "markdown",
   "metadata": {},
   "source": [
    "**DA FARE**: Jupyter per ogni cella mostra il risultato solo dell'ultima riga eseguita in quella cella. Prova a inserire questo codice nella cella sotto ed esegui premendo `Control+Invio`. Che risultato appare?\n",
    "\n",
    "```python\n",
    "3 + 5\n",
    "1 + 1\n",
    "```"
   ]
  },
  {
   "cell_type": "code",
   "execution_count": 3,
   "metadata": {},
   "outputs": [],
   "source": [
    "# scrivi qui\n",
    "\n"
   ]
  },
  {
   "cell_type": "markdown",
   "metadata": {},
   "source": [
    "**DA FARE**: Proviamo adesso a creare noi una nuova cella. \n",
    "\n",
    "* Mentre sei con il cursore in questa cella, premi `Alt+Invio`. Si dovrebbe creare una nuova cella dopo la presente. \n",
    "\n",
    "* Nella cella appena creata, inserisci `2 + 3` e poi premi `Shift+Invio`. Cosa succede al cursore? prova la differenze con `Control+Invio`. Se non capisci la differenza, prova a premere ripetutamente `Shif+Invio` e vedi che succede."
   ]
  },
  {
   "cell_type": "markdown",
   "metadata": {
    "colab_type": "text",
    "id": "vEzZXT8MAFP9"
   },
   "source": [
    "\n",
    "## Come procedere\n",
    "\n",
    "Abbiamo visto brevemente come funzionano i fogli Jupyter. Dato che è già disponibile una buona quantità di materiale di introduzione a Python (vedere [Materiale corso](https://softpython.readthedocs.io/it/latest/intro.html#Materiale-del-corso)), invece di riscrivere qui una guida passo passo delle basi ci è parso più opportuno ricapitolare velocemente cose che verranno usate in seguito, evidenziando le problematiche maggiori e mettendo opportuni link a spiegazioni estese dal libro del corso Pensare in Python e i tutorial di Nicola Cassetta\n",
    "\n",
    "Quindi:\n",
    "\n",
    "- **Per i principianti**: se leggendo qui vi sembra tutto incredibilmente rapido, niente paura - semplicemente andate al corrispettivo link del libro [Pensare in Python](https://davidleoni.github.io/ThinkPythonItalian/html/index.html) e/o [tutorial di Nicola Cassetta](http://ncassetta.altervista.org/Tutorial_Python/index.html), leggete e provate a ripetere i comandi e gli esercizi che vedete sul libro, se non capite qualcosa chiedete pure. Se restate indietro e non riuscite a portare a termine tutti i tutorial proposti, pazienza - l'importante è uscire dal corso sapendone più di quando si è partiti ! \n",
    "\n",
    "- **Se avete già esperienza di programmazione**: se le basi vi annoiano e magari avete già una idea su cosa vorreste concentrarvi anche in vista del progetto finale, ditecelo che vi daremo qualche indicazione su come procedere.\n",
    "\n",
    "\n",
    "\n",
    "<div class=\"alert alert-warning\">\n",
    "\n",
    "**ATTENZIONE**: In questo corso usiamo **SOLO PYTHON 3** <br/>\n",
    "\n",
    "Se per caso ottieni comportamenti inattesi, controlla di star usando Python 3 e non il 2. Se per caso il tuo sistema operativo scrivendo `python` fa partire il 2, prova ad eseguire il tre scrivendo il comando: `python3`\n",
    "</div>\n",
    "\n"
   ]
  },
  {
   "cell_type": "markdown",
   "metadata": {
    "colab_type": "text",
    "id": "uZyXs9KLAFQB"
   },
   "source": [
    "## Principali tipi di dati Python\n",
    "\n",
    "Dato che il tema del corso è il trattamento dei dati, per cominciare ci focalizzeremo sui tipi di dati in Python. \n",
    "\n",
    "**Riferimenti**: \n",
    "\n",
    "- [Pensare in Python, Capitolo 1, Lo scopo del programma](https://davidleoni.github.io/ThinkPythonItalian/html/thinkpython2002.html) \n",
    "- [Pensare in Python, Capitolo 2, Variabili, istruzioni ed espressioni](https://davidleoni.github.io/ThinkPythonItalian/html/thinkpython2003.html)\n",
    "\n",
    "\n",
    "Quando leggiamo delle informazioni da una fonte esterna come un file, poi dovremo inevitabilmente incastonare i dati letti in qualche combinazione di questi tipi:\n"
   ]
  },
  {
   "cell_type": "markdown",
   "metadata": {
    "colab_type": "text",
    "id": "1ecI-hRCAFQG"
   },
   "source": [
    "\n",
    "| Tipo | Esempio 1 | Esempio 2 | Esempio 3|\n",
    "|--------|-----|---|----|\n",
    "|int|  `0`|`3`| `-5`|\n",
    "|numero in virgola mobile float| `0.0`| `3.7` | `-2.3`| \n",
    "|bool|False|True||\n",
    "|string  |`\"\"`| `\"Buon giorno\"`|`'come stai?'`|\n",
    "|list | `[]`|`[5, 8, 10]`|[`\"qualcosa\", 5, \"altro ancora\"]`|\n",
    "| dict |`{}`|`{'chiave 1':'valore 1', 'chiave 2':'valore 2'}`|`{5:'un valore stringa', 'chiave stringa':7}`|\n",
    "\n"
   ]
  },
  {
   "cell_type": "markdown",
   "metadata": {
    "colab_type": "text",
    "id": "GBvgbl0xAFQL"
   },
   "source": [
    "A volte, useremo tipi più complessi, per esempio i valori temporali si potrebbero mettere in oggetti di tipo `datetime` che oltre alla data vera e propria possono contenere anche il fuso orario.\n",
    "\n",
    "In quel che segue, forniremo alcuni esempi rapidi su quello che si può fare sui vari tipi di dato, mettendo i riferimenti alle spiegazioni più dettagliate dal libro Pensare in Python. \n"
   ]
  },
  {
   "cell_type": "markdown",
   "metadata": {
    "colab_type": "text",
    "id": "p_V71t9BAFQQ"
   },
   "source": [
    "### Numeri interi e con virgola\n",
    "\n",
    "Nel libro 'Pensare in Python' non c'è un vero e proprio capitolo dedicato ai calcoli numerici, che sono sparse nei primi capitoli segnalati prima. Metto qua due note velocissime:\n",
    "\n",
    "\n",
    "In Python abbiamo numeri interi:"
   ]
  },
  {
   "cell_type": "code",
   "execution_count": 4,
   "metadata": {
    "colab": {
     "autoexec": {
      "startup": false,
      "wait_interval": 0
     },
     "output_extras": [
      {}
     ]
    },
    "colab_type": "code",
    "id": "--cJxUntAFQT",
    "outputId": "6a261e4f-6f7f-481d-9f4e-02f951c18010"
   },
   "outputs": [
    {
     "data": {
      "text/plain": [
       "8"
      ]
     },
     "execution_count": 4,
     "metadata": {},
     "output_type": "execute_result"
    }
   ],
   "source": [
    "3 + 5"
   ]
  },
  {
   "cell_type": "markdown",
   "metadata": {
    "colab_type": "text",
    "id": "rEV6BEORAFQo"
   },
   "source": [
    "La somma tra interi ovviamente ci da un intero:"
   ]
  },
  {
   "cell_type": "code",
   "execution_count": 5,
   "metadata": {
    "colab": {
     "autoexec": {
      "startup": false,
      "wait_interval": 0
     },
     "output_extras": [
      {}
     ]
    },
    "colab_type": "code",
    "id": "Vk7aiqO5AFQr",
    "outputId": "6408cc81-e7db-4778-c929-c42fdf178b0f"
   },
   "outputs": [
    {
     "data": {
      "text/plain": [
       "int"
      ]
     },
     "execution_count": 5,
     "metadata": {},
     "output_type": "execute_result"
    }
   ],
   "source": [
    "type(8)"
   ]
  },
  {
   "cell_type": "markdown",
   "metadata": {
    "colab_type": "text",
    "id": "Z49LC8g3AFRQ"
   },
   "source": [
    "E se dividiamo interi? Ci troveremo con il tipo in virgola mobile _float_:"
   ]
  },
  {
   "cell_type": "code",
   "execution_count": 6,
   "metadata": {
    "colab": {
     "autoexec": {
      "startup": false,
      "wait_interval": 0
     },
     "output_extras": [
      {}
     ]
    },
    "colab_type": "code",
    "id": "fGqrVdg6AFRT",
    "outputId": "ead8a066-1d37-4ccb-8cf5-d7bf6bb7b5ad"
   },
   "outputs": [
    {
     "data": {
      "text/plain": [
       "0.75"
      ]
     },
     "execution_count": 6,
     "metadata": {},
     "output_type": "execute_result"
    }
   ],
   "source": [
    "3 / 4"
   ]
  },
  {
   "cell_type": "code",
   "execution_count": 7,
   "metadata": {
    "colab": {
     "autoexec": {
      "startup": false,
      "wait_interval": 0
     },
     "output_extras": [
      {}
     ]
    },
    "colab_type": "code",
    "id": "AuREnwBmAFRn",
    "outputId": "96b737a9-d30f-4696-9805-8974a1b731d3"
   },
   "outputs": [
    {
     "data": {
      "text/plain": [
       "float"
      ]
     },
     "execution_count": 7,
     "metadata": {},
     "output_type": "execute_result"
    }
   ],
   "source": [
    "type(0.75)"
   ]
  },
  {
   "cell_type": "markdown",
   "metadata": {
    "colab_type": "text",
    "id": "DIcwRoa7AFR4"
   },
   "source": [
    "<div class=\"alert alert-warning\">\n",
    "\n",
    "**ATTENZIONE al punto !**\n",
    "\n",
    "In Python e in molti formati dati, al posto della nostra virgola si usa il formato inglese con il punto '.' <br/>\n",
    "</div>"
   ]
  },
  {
   "cell_type": "markdown",
   "metadata": {
    "colab_type": "text",
    "id": "ivjG8uzWAFR7"
   },
   "source": [
    "**✪ DA FARE**: Prova a scrivere qua sotto `3 + 1.0` ed esegui con Ctrl+Invio. Di quale tipo sarà il risultato? Controlla anche usando il comando `type`."
   ]
  },
  {
   "cell_type": "code",
   "execution_count": 8,
   "metadata": {
    "colab": {
     "autoexec": {
      "startup": false,
      "wait_interval": 0
     }
    },
    "colab_type": "code",
    "id": "IsFJ8O-IAFR8"
   },
   "outputs": [],
   "source": [
    "# scrivi qui i comandi\n"
   ]
  },
  {
   "cell_type": "markdown",
   "metadata": {
    "colab_type": "text",
    "id": "22kAoaiYAFSD"
   },
   "source": [
    "**✪ DA FARE**: Qualche professore di matematica ti avrà sicuramente intimato di non dividere mai per zero. Neanche a Python piace molto, prova a scrivere nella cella qua sotto `1 / 0` e poi premi Ctrl+Invio per eseguire la cella. Notate come Python vi riporterà la riga dove è accaduto l'errore:"
   ]
  },
  {
   "cell_type": "code",
   "execution_count": 9,
   "metadata": {
    "colab": {
     "autoexec": {
      "startup": false,
      "wait_interval": 0
     }
    },
    "colab_type": "code",
    "id": "UfI3UixcAFSE"
   },
   "outputs": [],
   "source": [
    "# scrivi qui sotto il codice\n"
   ]
  },
  {
   "cell_type": "markdown",
   "metadata": {
    "colab_type": "text",
    "id": "WMaObpo6AFSP"
   },
   "source": [
    "\n",
    "### Booleani (bool)\n",
    "\n",
    "I booleani rappresentano valori veri e falsi, e si possono usare per verificare quando certe condizioni avvengono.                                                                      \n",
    "\n",
    "**Riferimenti**\n",
    "\n",
    "- [Pensare in Python, Capitolo 5, Istruzioni condizionali e ricorsione](https://davidleoni.github.io/ThinkPythonItalian/html/thinkpython2006.html) ,  in particolare [Sezioni 5.2 e 5.3, Espressioni booleane](https://davidleoni.github.io/ThinkPythonItalian/html/thinkpython2006.html#sec59) Puoi saltare la ricorsione\n",
    "- [Nicola Cassetta, Lezione 7,  Le istruzioni condizionali: if, else, elif](http://ncassetta.altervista.org/Tutorial_Python/Lezione_04.html)\n",
    "\n"
   ]
  },
  {
   "cell_type": "markdown",
   "metadata": {
    "colab_type": "text",
    "id": "Wtyg2lXuAFSU"
   },
   "source": [
    "<div class=\"alert alert-warning\">\n",
    "\n",
    "**ATTENZIONE ai booleani diversi da True e False !**\n",
    "\n",
    "In Python, il numero `0` e altri oggetti 'nulli' (come l'oggetto `None`, la stringa vuota `\"\"` e la lista vuota `[]`) sono considerati `False`, e tutto ciò che non è 'nullo' è considerato `True`! \n",
    "</div>"
   ]
  },
  {
   "cell_type": "markdown",
   "metadata": {
    "colab_type": "text",
    "id": "BT44SZeQAFSX"
   },
   "source": [
    "Facciamo degli esempi per mostrare quanto sopra riportato:"
   ]
  },
  {
   "cell_type": "code",
   "execution_count": 10,
   "metadata": {
    "colab": {
     "autoexec": {
      "startup": false,
      "wait_interval": 0
     }
    },
    "colab_type": "code",
    "id": "VVd4Ikp3AFSY"
   },
   "outputs": [
    {
     "name": "stdout",
     "output_type": "stream",
     "text": [
      "questo\n",
      "sarà\n",
      "stampato\n"
     ]
    }
   ],
   "source": [
    "if True:\n",
    "    print(\"questo\")    \n",
    "    print(\"sarà\")\n",
    "    print(\"stampato\")\n",
    "else:\n",
    "    print(\"quest'altro\")\n",
    "    print(\"non sarà stampato\")"
   ]
  },
  {
   "cell_type": "markdown",
   "metadata": {
    "colab_type": "text",
    "id": "AlntXiK3AFSc"
   },
   "source": [
    "Tutto ciò che non è 'nullo' è considerato `True`, verifichiamolo per esempio con la stringa `\"ciao\"`: "
   ]
  },
  {
   "cell_type": "code",
   "execution_count": 11,
   "metadata": {
    "colab": {
     "autoexec": {
      "startup": false,
      "wait_interval": 0
     }
    },
    "colab_type": "code",
    "id": "6GWu1jIUAFSd"
   },
   "outputs": [
    {
     "name": "stdout",
     "output_type": "stream",
     "text": [
      "anche questo\n",
      "sarà stampato!!\n"
     ]
    }
   ],
   "source": [
    "if \"ciao\":\n",
    "    print(\"anche questo\")\n",
    "    print(\"sarà stampato!!\")\n",
    "else:\n",
    "    print(\"e questo no\")"
   ]
  },
  {
   "cell_type": "code",
   "execution_count": 12,
   "metadata": {
    "colab": {
     "autoexec": {
      "startup": false,
      "wait_interval": 0
     }
    },
    "colab_type": "code",
    "id": "HsEUjY8sAFSs"
   },
   "outputs": [
    {
     "name": "stdout",
     "output_type": "stream",
     "text": [
      "io sì\n"
     ]
    }
   ],
   "source": [
    "if False:\n",
    "    print(\"io non sarò stampato\")\n",
    "else:\n",
    "    print(\"io sì\")"
   ]
  },
  {
   "cell_type": "code",
   "execution_count": 13,
   "metadata": {
    "colab": {
     "autoexec": {
      "startup": false,
      "wait_interval": 0
     }
    },
    "colab_type": "code",
    "id": "DG7nyxf5AFS8"
   },
   "outputs": [
    {
     "name": "stdout",
     "output_type": "stream",
     "text": [
      "io sì\n"
     ]
    }
   ],
   "source": [
    "if 0:\n",
    "    print(\"anche questo non sarà stampato\")\n",
    "else:\n",
    "    print(\"io sì\")"
   ]
  },
  {
   "cell_type": "code",
   "execution_count": 14,
   "metadata": {
    "colab": {
     "autoexec": {
      "startup": false,
      "wait_interval": 0
     }
    },
    "colab_type": "code",
    "id": "bRhHcpEjAFTE"
   },
   "outputs": [
    {
     "name": "stdout",
     "output_type": "stream",
     "text": [
      "io sì\n"
     ]
    }
   ],
   "source": [
    "if None:\n",
    "    print(\"neppure questo sarà stampato\")\n",
    "else:\n",
    "    print(\"io sì\")"
   ]
  },
  {
   "cell_type": "code",
   "execution_count": 15,
   "metadata": {
    "colab": {
     "autoexec": {
      "startup": false,
      "wait_interval": 0
     },
     "output_extras": [
      {}
     ]
    },
    "colab_type": "code",
    "id": "5mo5mXdbAFTN",
    "outputId": "1991e1dd-4cdc-41f3-cbfc-53cafff54fe0"
   },
   "outputs": [
    {
     "name": "stdout",
     "output_type": "stream",
     "text": [
      "io sì\n"
     ]
    }
   ],
   "source": [
    "if \"\":  # stringa vuota\n",
    "    print(\"Neanche questo sarà stampato !!!\")\n",
    "else:\n",
    "    print(\"io sì\")"
   ]
  },
  {
   "cell_type": "markdown",
   "metadata": {
    "colab_type": "text",
    "id": "FgE9xpe6AFTZ"
   },
   "source": [
    "**✪ DA FARE**: Copia qua sotto l'if una stringa con uno spazio dentro `\" \"`nella condizione dell'`if`. Cosa succederà?\n",
    "\n",
    "- prova anche a mettere una lista vuota, che succede?"
   ]
  },
  {
   "cell_type": "code",
   "execution_count": 16,
   "metadata": {
    "colab": {
     "autoexec": {
      "startup": false,
      "wait_interval": 0
     }
    },
    "colab_type": "code",
    "id": "81YonZhpAFTa"
   },
   "outputs": [
    {
     "name": "stdout",
     "output_type": "stream",
     "text": [
      "Niente stampa!\n",
      "io sì\n"
     ]
    }
   ],
   "source": [
    "# scrivi qui l'if \n",
    "\n",
    "\n",
    "if \" \": # spazio\n",
    "    print(\"Niente stampa!\")\n",
    "else:\n",
    "    print(\"io sì\")\n",
    "\n",
    "\n",
    "if []: # lista vuota\n",
    "    print(\"Niente stampa!\")\n",
    "else:\n",
    "    print(\"io sì\")"
   ]
  },
  {
   "cell_type": "markdown",
   "metadata": {
    "colab_type": "text",
    "id": "AUCCneEoAFTw"
   },
   "source": [
    "### Stringhe (string)\n",
    "\n",
    "**Riferimenti**: \n",
    "\n",
    "- [Pensare in Python, Capitolo 8, Stringhe](https://davidleoni.github.io/ThinkPythonItalian/html/thinkpython2009.html)\n",
    "- [Pensare in Python, Capitolo 9, Giochi di parole](https://davidleoni.github.io/ThinkPythonItalian/html/thinkpython2010.html)\n",
    "- [Nicola Cassetta, Lezione 2, Stringhe e dati booleani](http://ncassetta.altervista.org/Tutorial_Python/Lezione_02.html)\n",
    "- per chi vuole fare _text mining_:\n",
    "    - Leggere prima parte su codifica Unicode [del capitolo Stringhe dal libro Immersione in Python](http://gpiancastelli.altervista.org/dip3-it/stringhe.html)\n",
    "    - Guardarsi [la libreria NLTK](https://www.nltk.org/)\n",
    "\n",
    "**Concatenare stringhe**\n",
    "\n",
    "Le stringhe sono sequenze di caratteri. Una delle cose che si fanno più frequentemente è concatenre delle stringhe:\n"
   ]
  },
  {
   "cell_type": "code",
   "execution_count": 17,
   "metadata": {
    "colab": {
     "autoexec": {
      "startup": false,
      "wait_interval": 0
     }
    },
    "colab_type": "code",
    "id": "HUNg73x-AFTx"
   },
   "outputs": [
    {
     "data": {
      "text/plain": [
       "'ciao mondo'"
      ]
     },
     "execution_count": 17,
     "metadata": {},
     "output_type": "execute_result"
    }
   ],
   "source": [
    "\"ciao \" + \"mondo\""
   ]
  },
  {
   "cell_type": "markdown",
   "metadata": {
    "colab_type": "text",
    "id": "5Dm0z8SOAFT0"
   },
   "source": [
    "Ma notate che quando concateniamo una stringa e un numero, Python si arrabbia:"
   ]
  },
  {
   "cell_type": "markdown",
   "metadata": {
    "colab_type": "text",
    "id": "vEDchuM9AFT2"
   },
   "source": [
    "\"ciao \" + 5"
   ]
  },
  {
   "cell_type": "markdown",
   "metadata": {
    "colab_type": "text",
    "id": "jKoofPiyAFT3"
   },
   "source": [
    "---------------------------------------------------------------------------\n",
    "TypeError                                 Traceback (most recent call last)\n",
    "<ipython-input-38-e219e8205f7d> in <module>()\n",
    "----> 1 \"ciao \" + 5\n",
    "\n",
    "TypeError: Can't convert 'int' object to str implicitly"
   ]
  },
  {
   "cell_type": "markdown",
   "metadata": {
    "colab_type": "text",
    "id": "_dPea14WAFT6"
   },
   "source": [
    "Questo succede perchè Python vuole che convertiamo esplicitamente il numero '5' in una stringa. Porrà simili lamentela anche con altri tipi di oggetti. Quindi, quando concatenate oggetti che non sono stringhe, per evitare problemi racchiudete l'oggetto da convertire nella funzione `str` come qui: "
   ]
  },
  {
   "cell_type": "code",
   "execution_count": 18,
   "metadata": {
    "colab": {
     "autoexec": {
      "startup": false,
      "wait_interval": 0
     }
    },
    "colab_type": "code",
    "id": "-xndn9-FAFT7"
   },
   "outputs": [
    {
     "data": {
      "text/plain": [
       "'ciao 7'"
      ]
     },
     "execution_count": 18,
     "metadata": {},
     "output_type": "execute_result"
    }
   ],
   "source": [
    "\"ciao \" + str(7)"
   ]
  },
  {
   "cell_type": "markdown",
   "metadata": {
    "colab_type": "text",
    "id": "SdgLz37QAFUC"
   },
   "source": [
    "Un modo alternativo e più veloce è usare l'operatore di formattazione percentuale `%`, che sostituisce alle occorrenze di `%s` quello che mettete dopo un `%` dopo la stringa :"
   ]
  },
  {
   "cell_type": "code",
   "execution_count": 19,
   "metadata": {
    "colab": {
     "autoexec": {
      "startup": false,
      "wait_interval": 0
     }
    },
    "colab_type": "code",
    "id": "tkupKFSeAFUD"
   },
   "outputs": [
    {
     "data": {
      "text/plain": [
       "'ciao 7'"
      ]
     },
     "execution_count": 19,
     "metadata": {},
     "output_type": "execute_result"
    }
   ],
   "source": [
    "\"ciao %s\" % 7"
   ]
  },
  {
   "cell_type": "markdown",
   "metadata": {
    "colab_type": "text",
    "id": "ZMIOdHJbAFUK"
   },
   "source": [
    "Meglio ancora, il `%s` può stare all'interno della stringa e venire ripetuto. Per ogni occorrenza si può passare un sostituto diverso, come per esempio nella tupla `(\"bello\", \"Python\")` (una tupla è semplicemente una sequenza immutabile di elementi racchiusi tra parentesi tonde e separati da virgole)"
   ]
  },
  {
   "cell_type": "code",
   "execution_count": 20,
   "metadata": {
    "colab": {
     "autoexec": {
      "startup": false,
      "wait_interval": 0
     },
     "output_extras": [
      {}
     ]
    },
    "colab_type": "code",
    "id": "01RTe3XzAFUM",
    "outputId": "c0c70ece-bcd8-482d-8478-1f77d0c056b3"
   },
   "outputs": [
    {
     "data": {
      "text/plain": [
       "'Che bello finalmente imparo Python'"
      ]
     },
     "execution_count": 20,
     "metadata": {},
     "output_type": "execute_result"
    }
   ],
   "source": [
    "\"Che %s finalmente imparo %s\" % (\"bello\", \"Python\")"
   ]
  },
  {
   "cell_type": "markdown",
   "metadata": {
    "colab_type": "text",
    "id": "3ah1CeDPAFUV"
   },
   "source": [
    "**✪ DA FARE**: il `%s` funziona con le stringhe ma anche con quasiasi altro tipo di dato, per esempio un intero. Scrivi qua sotto il comando sopra, aggiunendo un `%s` alla fine della stringa, e aggiungendo alla fine della tupla il numero `3` (separandolo dagli altri con una virgola).\n",
    "\n",
    "Domanda: i `%s` possono stare uno dopo l'altro senza spazi tra di loro? Prova."
   ]
  },
  {
   "cell_type": "code",
   "execution_count": 21,
   "metadata": {
    "colab": {
     "autoexec": {
      "startup": false,
      "wait_interval": 0
     }
    },
    "colab_type": "code",
    "id": "K1pTbCATAFUW"
   },
   "outputs": [],
   "source": [
    "# scrivi qui\n",
    "\n"
   ]
  },
  {
   "cell_type": "markdown",
   "metadata": {
    "colab_type": "text",
    "id": "F5GKXLjqAFYH"
   },
   "source": [
    "### Usare metodi degli oggetti\n",
    "\n",
    "Quasi tutto in Python è un oggetto, faremo qui una velocissima introduzione tanto per dare l'idea.\n",
    "\n",
    "**Riferimenti**\n",
    "\n",
    "- [Pensare in Python, Capitolo 15, Classi e oggetti](https://davidleoni.github.io/ThinkPythonItalian/html/thinkpython2016.html)\n",
    "- [Pensare in Python, Capitolo 16, Classi e funzioni](https://davidleoni.github.io/ThinkPythonItalian/html/thinkpython2017.html)\n",
    "- [Pensare in Python, Capitolo 17, Classi e metodi](https://davidleoni.github.io/ThinkPythonItalian/html/thinkpython2017.html)\n",
    "\n",
    "Quasi tutto in Python è un oggetto. Per esempio, le stringhe sono oggetti. Ogni tipo di oggetto ha delle azioni chiamati _metodi_ che si possono eseguire su quello oggetto. Per esempio, per le stringhe che rappresentano nomi potremmo voler rendere in maiuscolo la prima lettera: a tal fine possiamo cercare se per le stringhe ci sono giò metodi esistenti che fanno questo. Proviamo il metodo esistente  `capitalize()` sulla _stringa_ `\"trento\"` (notare che la stringa è tutta in minuscolo e _capital_ in inglese vuol anche dire 'maiuscolo' ):\n"
   ]
  },
  {
   "cell_type": "code",
   "execution_count": 22,
   "metadata": {
    "colab": {
     "autoexec": {
      "startup": false,
      "wait_interval": 0
     },
     "output_extras": [
      {}
     ]
    },
    "colab_type": "code",
    "id": "L59SZPKMAFYI",
    "outputId": "21f7d2b9-43d6-41a0-c02c-5c1a961f778f"
   },
   "outputs": [
    {
     "data": {
      "text/plain": [
       "'Trento'"
      ]
     },
     "execution_count": 22,
     "metadata": {},
     "output_type": "execute_result"
    }
   ],
   "source": [
    "\n",
    "\"trento\".capitalize()"
   ]
  },
  {
   "cell_type": "markdown",
   "metadata": {
    "colab_type": "text",
    "id": "1eyxqR-PAFYU"
   },
   "source": [
    "Python ci ha appena fatto la cortesia di rendere la prima lettera della parola in maiuscolo `'Trento'` \n"
   ]
  },
  {
   "cell_type": "markdown",
   "metadata": {
    "colab_type": "text",
    "id": "YSb82zlxAFYW"
   },
   "source": [
    "**✪ DA FARE **: Scrivi nella cella qua sotto `\"trento\".` e premi TAB: Jupyter dovrebbe suggerirti dei metodi disponibili per la stringa. Prova il metodo `upper()` e `count(\"t\")` "
   ]
  },
  {
   "cell_type": "code",
   "execution_count": 23,
   "metadata": {
    "colab": {
     "autoexec": {
      "startup": false,
      "wait_interval": 0
     }
    },
    "colab_type": "code",
    "id": "r5_aFtbdAFYY"
   },
   "outputs": [],
   "source": [
    "# scrivi qui\n",
    "\n"
   ]
  },
  {
   "cell_type": "markdown",
   "metadata": {
    "colab_type": "text",
    "id": "-YkY_K8AAFUc"
   },
   "source": [
    "### Liste (list)\n",
    "\n",
    "Una lista in python è una sequenza di elementi eterogenei, in cui possiamo mettere gli oggetti che vogliamo.\n",
    "\n",
    "**Riferimenti**\n",
    "\n",
    "- [Pensare in Python, Capitolo 10, Liste](https://davidleoni.github.io/ThinkPythonItalian/html/thinkpython2011.html) Esercizi 10.1, 10.2, 10.3, 10.4, 10.5, 10.6, 10.7\n",
    "- [Nicola Cassetta, Lezione 11, Liste](http://ncassetta.altervista.org/Tutorial_Python/Lezione_11.html) In particolare esercizio 11.1 e 11.2\n",
    "\n",
    "Creiamo una lista di stringhe:"
   ]
  },
  {
   "cell_type": "code",
   "execution_count": 24,
   "metadata": {
    "colab": {
     "autoexec": {
      "startup": false,
      "wait_interval": 0
     }
    },
    "colab_type": "code",
    "id": "Ozn-Qt0yAFUc"
   },
   "outputs": [],
   "source": [
    "x = [\"ciao\", \"soft\", \"python\"]"
   ]
  },
  {
   "cell_type": "code",
   "execution_count": 25,
   "metadata": {
    "colab": {
     "autoexec": {
      "startup": false,
      "wait_interval": 0
     },
     "output_extras": [
      {}
     ]
    },
    "colab_type": "code",
    "id": "04EWaDNyAFUf",
    "outputId": "f478db2d-544a-47bc-e578-b0d5f1b9a3f1"
   },
   "outputs": [
    {
     "data": {
      "text/plain": [
       "['ciao', 'soft', 'python']"
      ]
     },
     "execution_count": 25,
     "metadata": {},
     "output_type": "execute_result"
    }
   ],
   "source": [
    "x"
   ]
  },
  {
   "cell_type": "markdown",
   "metadata": {
    "colab_type": "text",
    "id": "U6OlmaHaAFUn"
   },
   "source": [
    "Le liste sono sequenze di oggetti possibilmente eterogenei, quindi dentro ci potete buttare di tutto, interi, stringhe, dizionari ...:\n"
   ]
  },
  {
   "cell_type": "code",
   "execution_count": 26,
   "metadata": {
    "colab": {
     "autoexec": {
      "startup": false,
      "wait_interval": 0
     }
    },
    "colab_type": "code",
    "id": "YRnNkTnbAFUn"
   },
   "outputs": [],
   "source": [
    "x = [\"ciao\", 123, {\"a\":\"b\"}]"
   ]
  },
  {
   "cell_type": "code",
   "execution_count": 27,
   "metadata": {
    "colab": {
     "autoexec": {
      "startup": false,
      "wait_interval": 0
     },
     "output_extras": [
      {}
     ]
    },
    "colab_type": "code",
    "id": "YBHGVy51AFUq",
    "outputId": "9ba3a0b6-36ca-4642-ac87-41d9f97c066f"
   },
   "outputs": [
    {
     "data": {
      "text/plain": [
       "['ciao', 123, {'a': 'b'}]"
      ]
     },
     "execution_count": 27,
     "metadata": {},
     "output_type": "execute_result"
    }
   ],
   "source": [
    "x"
   ]
  },
  {
   "cell_type": "markdown",
   "metadata": {
    "colab": {
     "autoexec": {
      "startup": false,
      "wait_interval": 0
     }
    },
    "colab_type": "code",
    "id": "perY24wzAFUx"
   },
   "source": [
    "Per accedere ad un elemento in particolare dentro una lista, si può usare un indice tra parentesi quadre che indica un elemento:"
   ]
  },
  {
   "cell_type": "code",
   "execution_count": 28,
   "metadata": {
    "colab": {
     "autoexec": {
      "startup": false,
      "wait_interval": 0
     },
     "output_extras": [
      {}
     ]
    },
    "colab_type": "code",
    "id": "vWOiXQlNAFU0",
    "outputId": "ca5fe8cc-0788-4591-d13e-febc5fee6f7c"
   },
   "outputs": [
    {
     "data": {
      "text/plain": [
       "'ciao'"
      ]
     },
     "execution_count": 28,
     "metadata": {},
     "output_type": "execute_result"
    }
   ],
   "source": [
    "# primo elemento\n",
    "\n",
    "x[0]  "
   ]
  },
  {
   "cell_type": "code",
   "execution_count": 29,
   "metadata": {
    "colab": {
     "autoexec": {
      "startup": false,
      "wait_interval": 0
     },
     "output_extras": [
      {}
     ]
    },
    "colab_type": "code",
    "id": "09ciP4W0AFU8",
    "outputId": "d7d2eacb-7afd-4e6f-da32-cfd5a12f65b4"
   },
   "outputs": [
    {
     "data": {
      "text/plain": [
       "123"
      ]
     },
     "execution_count": 29,
     "metadata": {},
     "output_type": "execute_result"
    }
   ],
   "source": [
    "# secondo elemento\n",
    "\n",
    "x[1]"
   ]
  },
  {
   "cell_type": "code",
   "execution_count": 30,
   "metadata": {
    "colab": {
     "autoexec": {
      "startup": false,
      "wait_interval": 0
     },
     "output_extras": [
      {}
     ]
    },
    "colab_type": "code",
    "id": "pHFc8586AFVD",
    "outputId": "400f7957-c1ca-4c5d-c762-809daf0fbe82"
   },
   "outputs": [
    {
     "data": {
      "text/plain": [
       "{'a': 'b'}"
      ]
     },
     "execution_count": 30,
     "metadata": {},
     "output_type": "execute_result"
    }
   ],
   "source": [
    "# terzo elemento\n",
    "\n",
    "x[2]"
   ]
  },
  {
   "cell_type": "markdown",
   "metadata": {
    "colab_type": "text",
    "id": "A6rRmAJ-AFVL"
   },
   "source": [
    "In una lista possiamo cambiare gli elementi con l'assegnazione: "
   ]
  },
  {
   "cell_type": "code",
   "execution_count": 31,
   "metadata": {
    "colab": {
     "autoexec": {
      "startup": false,
      "wait_interval": 0
     }
    },
    "colab_type": "code",
    "id": "V2LYVi8CAFVL"
   },
   "outputs": [],
   "source": [
    "# Cambiamo il _secondo_ elemento:\n",
    "\n",
    "x[1] = \"soft\""
   ]
  },
  {
   "cell_type": "code",
   "execution_count": 32,
   "metadata": {
    "colab": {
     "autoexec": {
      "startup": false,
      "wait_interval": 0
     },
     "output_extras": [
      {}
     ]
    },
    "colab_type": "code",
    "id": "8vf5xnm8AFVT",
    "outputId": "958c853d-3288-4d74-df26-e0998d98c79f"
   },
   "outputs": [
    {
     "data": {
      "text/plain": [
       "['ciao', 'soft', {'a': 'b'}]"
      ]
     },
     "execution_count": 32,
     "metadata": {},
     "output_type": "execute_result"
    }
   ],
   "source": [
    "x"
   ]
  },
  {
   "cell_type": "code",
   "execution_count": 33,
   "metadata": {
    "colab": {
     "autoexec": {
      "startup": false,
      "wait_interval": 0
     }
    },
    "colab_type": "code",
    "id": "QZ0Rg6QdAFVZ"
   },
   "outputs": [],
   "source": [
    "x[2] = \"python\""
   ]
  },
  {
   "cell_type": "code",
   "execution_count": 34,
   "metadata": {
    "colab": {
     "autoexec": {
      "startup": false,
      "wait_interval": 0
     },
     "output_extras": [
      {}
     ]
    },
    "colab_type": "code",
    "id": "0fh1vyFmAFVc",
    "outputId": "b754b8e7-9521-4e34-bf8d-82c58d44209c"
   },
   "outputs": [
    {
     "data": {
      "text/plain": [
       "['ciao', 'soft', 'python']"
      ]
     },
     "execution_count": 34,
     "metadata": {},
     "output_type": "execute_result"
    }
   ],
   "source": [
    "x"
   ]
  },
  {
   "cell_type": "markdown",
   "metadata": {
    "colab_type": "text",
    "id": "qghMxSoDAFVf"
   },
   "source": [
    "Per ottenere la lunghezza di una lista, possiamo usare `len`:"
   ]
  },
  {
   "cell_type": "code",
   "execution_count": 35,
   "metadata": {
    "colab": {
     "autoexec": {
      "startup": false,
      "wait_interval": 0
     },
     "output_extras": [
      {}
     ]
    },
    "colab_type": "code",
    "id": "B5qka4xoAFVh",
    "outputId": "4b5f0e3c-2749-48ab-ad29-38ad7f8ad638"
   },
   "outputs": [
    {
     "data": {
      "text/plain": [
       "3"
      ]
     },
     "execution_count": 35,
     "metadata": {},
     "output_type": "execute_result"
    }
   ],
   "source": [
    "x = [\"ciao\", \"soft\", \"python\"]\n",
    "\n",
    "len(x)"
   ]
  },
  {
   "cell_type": "markdown",
   "metadata": {
    "colab_type": "text",
    "id": "1oK8VQhqAFVl"
   },
   "source": [
    "**✪ DA FARE**: prova ad accedere ad un elemento fuori dalla lista, e vedi che succede. \n",
    "\n",
    "- `x[3]` è dentro o fuori dalla lista? \n",
    "- C'è una qualche lista `x` per cui possiamo scrivere `x[len(x)]` senza problemi ?\n",
    "- se usi indici negativi, che succede? Prova -1, -2, -3, -4 ..."
   ]
  },
  {
   "cell_type": "code",
   "execution_count": 36,
   "metadata": {
    "colab": {
     "autoexec": {
      "startup": false,
      "wait_interval": 0
     }
    },
    "colab_type": "code",
    "id": "SP2tU81tAFVm"
   },
   "outputs": [],
   "source": [
    "# scrivi qui\n",
    "\n"
   ]
  },
  {
   "cell_type": "markdown",
   "metadata": {
    "colab_type": "text",
    "id": "ZSY_jqK_AFVv"
   },
   "source": [
    "Possiamo aggiungere elementi alla fine di una lista usando il comando `append`:"
   ]
  },
  {
   "cell_type": "code",
   "execution_count": 37,
   "metadata": {
    "colab": {
     "autoexec": {
      "startup": false,
      "wait_interval": 0
     }
    },
    "colab_type": "code",
    "id": "QxpNlcbHAFVv"
   },
   "outputs": [],
   "source": [
    "\n",
    "x = []"
   ]
  },
  {
   "cell_type": "code",
   "execution_count": 38,
   "metadata": {
    "colab": {
     "autoexec": {
      "startup": false,
      "wait_interval": 0
     },
     "output_extras": [
      {}
     ]
    },
    "colab_type": "code",
    "id": "dXKCs033AFVz",
    "outputId": "0c1d2151-929e-47ff-efe9-30fa1d805cff"
   },
   "outputs": [
    {
     "data": {
      "text/plain": [
       "[]"
      ]
     },
     "execution_count": 38,
     "metadata": {},
     "output_type": "execute_result"
    }
   ],
   "source": [
    "x"
   ]
  },
  {
   "cell_type": "code",
   "execution_count": 39,
   "metadata": {
    "colab": {
     "autoexec": {
      "startup": false,
      "wait_interval": 0
     }
    },
    "colab_type": "code",
    "id": "w6B-rfZpAFV2"
   },
   "outputs": [],
   "source": [
    "x.append(\"ciao\")"
   ]
  },
  {
   "cell_type": "code",
   "execution_count": 40,
   "metadata": {
    "colab": {
     "autoexec": {
      "startup": false,
      "wait_interval": 0
     },
     "output_extras": [
      {}
     ]
    },
    "colab_type": "code",
    "id": "M8roNVZPAFV5",
    "outputId": "b61ddfa5-115b-43cc-df02-450435f69d10"
   },
   "outputs": [
    {
     "data": {
      "text/plain": [
       "['ciao']"
      ]
     },
     "execution_count": 40,
     "metadata": {},
     "output_type": "execute_result"
    }
   ],
   "source": [
    "x"
   ]
  },
  {
   "cell_type": "code",
   "execution_count": 41,
   "metadata": {
    "colab": {
     "autoexec": {
      "startup": false,
      "wait_interval": 0
     }
    },
    "colab_type": "code",
    "id": "4zXn5AnYAFV9"
   },
   "outputs": [],
   "source": [
    "x.append(\"soft\")"
   ]
  },
  {
   "cell_type": "code",
   "execution_count": 42,
   "metadata": {
    "colab": {
     "autoexec": {
      "startup": false,
      "wait_interval": 0
     },
     "output_extras": [
      {}
     ]
    },
    "colab_type": "code",
    "id": "1YuQeTO8AFWF",
    "outputId": "6e819883-ced0-4382-a24e-c6984a0fe3e7"
   },
   "outputs": [
    {
     "data": {
      "text/plain": [
       "['ciao', 'soft']"
      ]
     },
     "execution_count": 42,
     "metadata": {},
     "output_type": "execute_result"
    }
   ],
   "source": [
    "x"
   ]
  },
  {
   "cell_type": "code",
   "execution_count": 43,
   "metadata": {
    "colab": {
     "autoexec": {
      "startup": false,
      "wait_interval": 0
     }
    },
    "colab_type": "code",
    "id": "efAjHzyfAFWK"
   },
   "outputs": [],
   "source": [
    "x.append(\"python\")"
   ]
  },
  {
   "cell_type": "code",
   "execution_count": 44,
   "metadata": {
    "colab": {
     "autoexec": {
      "startup": false,
      "wait_interval": 0
     },
     "output_extras": [
      {}
     ]
    },
    "colab_type": "code",
    "id": "vSSZvL52AFWO",
    "outputId": "54946ba0-ef21-4f9b-ac8f-afddc65bb84f"
   },
   "outputs": [
    {
     "data": {
      "text/plain": [
       "['ciao', 'soft', 'python']"
      ]
     },
     "execution_count": 44,
     "metadata": {},
     "output_type": "execute_result"
    }
   ],
   "source": [
    "x"
   ]
  },
  {
   "cell_type": "markdown",
   "metadata": {
    "colab_type": "text",
    "id": "TrimbgQ8i6zE"
   },
   "source": [
    "#### Ordinamento liste\n",
    "\n",
    "Le liste possono ordinare comodamente con il metodo `.sort`, che funziona su tutti gli oggetti ordinabili. Per esempio, possiamo ordinare i numeri:\n",
    "\n",
    "**IMPORTANTE**:  `.sort()` modifica la lista su cui è chiamato, _non_ ne genera una nuova !"
   ]
  },
  {
   "cell_type": "code",
   "execution_count": 45,
   "metadata": {
    "colab": {
     "autoexec": {
      "startup": false,
      "wait_interval": 0
     }
    },
    "colab_type": "code",
    "id": "xNFr7Up3jt9l"
   },
   "outputs": [],
   "source": [
    "x = [ 8, 2, 4]\n",
    "\n",
    "x.sort()"
   ]
  },
  {
   "cell_type": "code",
   "execution_count": 46,
   "metadata": {
    "colab": {
     "autoexec": {
      "startup": false,
      "wait_interval": 0
     }
    },
    "colab_type": "code",
    "id": "bxLaBfwaj3bM"
   },
   "outputs": [
    {
     "data": {
      "text/plain": [
       "[2, 4, 8]"
      ]
     },
     "execution_count": 46,
     "metadata": {},
     "output_type": "execute_result"
    }
   ],
   "source": [
    "x"
   ]
  },
  {
   "cell_type": "markdown",
   "metadata": {
    "colab_type": "text",
    "id": "IQWomkTPj5P4"
   },
   "source": [
    "Come altro esempio, possiamo ordinare le stringhe:"
   ]
  },
  {
   "cell_type": "code",
   "execution_count": 47,
   "metadata": {
    "colab": {
     "autoexec": {
      "startup": false,
      "wait_interval": 0
     },
     "base_uri": "https://localhost:8080/",
     "height": 34,
     "output_extras": [
      {
       "item_id": 1
      }
     ]
    },
    "colab_type": "code",
    "executionInfo": {
     "elapsed": 484,
     "status": "ok",
     "timestamp": 1519035909727,
     "user": {
      "displayName": "David Leoni",
      "photoUrl": "https://lh3.googleusercontent.com/a/default-user=s128",
      "userId": "102920557909426557439"
     },
     "user_tz": -60
    },
    "id": "Z2kdDpxNjcMg",
    "outputId": "fbf06717-b6d4-4e00-a440-36628440c398"
   },
   "outputs": [
    {
     "data": {
      "text/plain": [
       "['ciao', 'mondo', 'python']"
      ]
     },
     "execution_count": 47,
     "metadata": {},
     "output_type": "execute_result"
    }
   ],
   "source": [
    "x = [ 'mondo', 'python',  'ciao',]\n",
    "\n",
    "x.sort()\n",
    "x"
   ]
  },
  {
   "cell_type": "markdown",
   "metadata": {
    "colab_type": "text",
    "id": "tyK4Pgo7lcay"
   },
   "source": [
    "Se non volessimo modificare la lista originale e invece volessimo generarne una nuova, useremmo la funzione `sorted()`. **NOTA**: `sorted` è una _funzione_, non un _metodo_:"
   ]
  },
  {
   "cell_type": "code",
   "execution_count": 48,
   "metadata": {
    "colab": {
     "autoexec": {
      "startup": false,
      "wait_interval": 0
     },
     "base_uri": "https://localhost:8080/",
     "height": 34,
     "output_extras": [
      {
       "item_id": 1
      }
     ]
    },
    "colab_type": "code",
    "executionInfo": {
     "elapsed": 826,
     "status": "ok",
     "timestamp": 1519035925999,
     "user": {
      "displayName": "David Leoni",
      "photoUrl": "https://lh3.googleusercontent.com/a/default-user=s128",
      "userId": "102920557909426557439"
     },
     "user_tz": -60
    },
    "id": "7x9keLzIlbeY",
    "outputId": "975525d4-ba5f-4075-96bc-9de778fac761"
   },
   "outputs": [
    {
     "data": {
      "text/plain": [
       "['ciao', 'mondo', 'python']"
      ]
     },
     "execution_count": 48,
     "metadata": {},
     "output_type": "execute_result"
    }
   ],
   "source": [
    "x = [ 'mondo', 'python', 'ciao',]\n",
    "\n",
    "sorted(x)"
   ]
  },
  {
   "cell_type": "code",
   "execution_count": 49,
   "metadata": {
    "colab": {
     "autoexec": {
      "startup": false,
      "wait_interval": 0
     },
     "base_uri": "https://localhost:8080/",
     "height": 34,
     "output_extras": [
      {
       "item_id": 1
      }
     ]
    },
    "colab_type": "code",
    "executionInfo": {
     "elapsed": 477,
     "status": "ok",
     "timestamp": 1519036050423,
     "user": {
      "displayName": "David Leoni",
      "photoUrl": "https://lh3.googleusercontent.com/a/default-user=s128",
      "userId": "102920557909426557439"
     },
     "user_tz": -60
    },
    "id": "L87O-fjMlwoz",
    "outputId": "98291939-58ee-494c-a7b6-5caf071741a3"
   },
   "outputs": [
    {
     "data": {
      "text/plain": [
       "['mondo', 'python', 'ciao']"
      ]
     },
     "execution_count": 49,
     "metadata": {},
     "output_type": "execute_result"
    }
   ],
   "source": [
    "# l'x originale non è cambiato:\n",
    "x"
   ]
  },
  {
   "cell_type": "markdown",
   "metadata": {
    "colab_type": "text",
    "id": "nwsN6H3bkGrN"
   },
   "source": [
    "**✪ DA FARE**: \n",
    "\n",
    "- Che succede se ordini stringhe contenenti gli stessi caratteri ma maiscoli invece di minuscoli? Come vengono ordinati? Fai delle prove. \n",
    "- Che succede se nella stessa lista metti sia stringhe che numeri e provi ad ordinarla? Fai delle prove.\n"
   ]
  },
  {
   "cell_type": "markdown",
   "metadata": {
    "colab_type": "text",
    "id": "OPTT3kHSpp3m"
   },
   "source": [
    "**Ordine rovesciato**\n",
    "\n",
    "Supponiamo di voler ordinare la lista alla rovescia usando `sorted`. Per fare cioò possiamo indicare a Python il parametro booleano `reverse` e il suo valore, che in questo caso sarà `True`. Questo ci permette di notare come Python consenta di usare parametri opzionali specificandoli _per nome_ :"
   ]
  },
  {
   "cell_type": "code",
   "execution_count": 50,
   "metadata": {
    "colab": {
     "autoexec": {
      "startup": false,
      "wait_interval": 0
     },
     "base_uri": "https://localhost:8080/",
     "height": 34,
     "output_extras": [
      {
       "item_id": 1
      }
     ]
    },
    "colab_type": "code",
    "executionInfo": {
     "elapsed": 662,
     "status": "ok",
     "timestamp": 1519036904044,
     "user": {
      "displayName": "David Leoni",
      "photoUrl": "https://lh3.googleusercontent.com/a/default-user=s128",
      "userId": "102920557909426557439"
     },
     "user_tz": -60
    },
    "id": "1uL7iYVxp0Jc",
    "outputId": "0c2ff50a-f5a7-4a9b-9615-47a4bfd61df9"
   },
   "outputs": [
    {
     "data": {
      "text/plain": [
       "['python', 'mondo', 'ciao']"
      ]
     },
     "execution_count": 50,
     "metadata": {},
     "output_type": "execute_result"
    }
   ],
   "source": [
    "sorted(['mondo', 'python', 'ciao'], reverse=True)"
   ]
  },
  {
   "cell_type": "markdown",
   "metadata": {
    "colab_type": "text",
    "id": "J4NE2J80qNj9"
   },
   "source": [
    "**✪ DA FARE**: Per cercare informazioni su `sorted`, avremmo potuto chiedere a Python dell'aiuto. Per fare ciò Python mette a disposizione una comoda funzione chiamata `help`, che potresti usare così `help(sorted)`. Prova ad eseguirla nella cella qua sotto. A volte l'help è piuttosto complesso, e sta a noi sforzarci un po' per individuare i parametri di interesse\n"
   ]
  },
  {
   "cell_type": "code",
   "execution_count": 51,
   "metadata": {},
   "outputs": [],
   "source": [
    "# scrivi qui\n",
    "\n",
    "\n"
   ]
  },
  {
   "cell_type": "markdown",
   "metadata": {
    "colab_type": "text",
    "id": "BYKOKlw3rTXo"
   },
   "source": [
    "**Rovesciare liste non ordinate**\n",
    "\n",
    "E se volessimo rovesciare una lista così com'è, senza ordinarla in senso decrescente, per esempio per passare da`[6,2,4]` a `[2,4,6]` Cercando un po' nella libreria di Python, vediamo che c'è una comoda funzione `reversed()` che prende come paramatro la lista che vogliamo rovesciare e ne genera una nuova rovesciata. \n",
    "\n",
    "**✪ DA FARE**: Prova ad eseguire `reversed([6,2,4])` nella cella qua sotto, e guarda che output ottieni. E' quello che ti aspetti ? In genere, e specialmente in Python 3, quando ci aspettiamo una lista e per caso vediamo invece un oggetto col nome `iterator`, possiamo risolvere passando il risultato come parametro della funzione `list()`"
   ]
  },
  {
   "cell_type": "code",
   "execution_count": 52,
   "metadata": {
    "colab": {
     "autoexec": {
      "startup": false,
      "wait_interval": 0
     }
    },
    "colab_type": "code",
    "id": "ajY8faRvsBIu"
   },
   "outputs": [],
   "source": [
    "# scrivi qui il codice \n",
    "\n"
   ]
  },
  {
   "cell_type": "markdown",
   "metadata": {
    "colab_type": "text",
    "id": "poPVz2M0AFWT"
   },
   "source": [
    "\n",
    "### Dizionari (dict)\n",
    "\n",
    "I dizionari sono dei contenitori che ci consentono di abbinare dei _valori_ a delle voci dette _chiavi_. Qua faremo un esempio rapidissimo per dare un'idea.\n",
    "\n",
    "\n",
    "**Riferimenti**:\n",
    "\n",
    "- [Pensare in Python, Capitolo 11, Dizionari](https://davidleoni.github.io/ThinkPythonItalian/html/thinkpython2012.html)\n",
    "\n",
    "Possiamo creare un dizionario con le graffe `{` `}`, separando le chiavi dai valori con i due punti `:`, e separando le coppie chiave/valore con la virgola `,`:"
   ]
  },
  {
   "cell_type": "code",
   "execution_count": 53,
   "metadata": {
    "colab": {
     "autoexec": {
      "startup": false,
      "wait_interval": 0
     }
    },
    "colab_type": "code",
    "id": "TBTib8uDAFWT"
   },
   "outputs": [],
   "source": [
    "d = {  'chiave 1':'valore 1', 'chiave 2':'valore 2'}"
   ]
  },
  {
   "cell_type": "markdown",
   "metadata": {
    "colab_type": "text",
    "id": "-KbnLHG4AFWY"
   },
   "source": [
    "Per accedere ai valori, possiamo usare le chiavi tra parentesi quadre:"
   ]
  },
  {
   "cell_type": "code",
   "execution_count": 54,
   "metadata": {
    "colab": {
     "autoexec": {
      "startup": false,
      "wait_interval": 0
     },
     "output_extras": [
      {}
     ]
    },
    "colab_type": "code",
    "id": "uOtygGF-AFWY",
    "outputId": "424158a1-1e06-4101-dfb8-3c5ea0439140"
   },
   "outputs": [
    {
     "data": {
      "text/plain": [
       "'valore 1'"
      ]
     },
     "execution_count": 54,
     "metadata": {},
     "output_type": "execute_result"
    }
   ],
   "source": [
    "d['chiave 1']"
   ]
  },
  {
   "cell_type": "code",
   "execution_count": 55,
   "metadata": {
    "colab": {
     "autoexec": {
      "startup": false,
      "wait_interval": 0
     },
     "output_extras": [
      {}
     ]
    },
    "colab_type": "code",
    "id": "USOz4GrKAFWh",
    "outputId": "c19e78b1-5506-4ae2-9e52-123c6a36c24c"
   },
   "outputs": [
    {
     "data": {
      "text/plain": [
       "'valore 2'"
      ]
     },
     "execution_count": 55,
     "metadata": {},
     "output_type": "execute_result"
    }
   ],
   "source": [
    "d['chiave 2']"
   ]
  },
  {
   "cell_type": "markdown",
   "metadata": {
    "colab_type": "text",
    "id": "Y6g0wQOoAFWn"
   },
   "source": [
    "**Valori**: come valori nei dizionari possiamo mettere quello che ci pare, numeri, stringhe, tuple, liste, altri dizionari .."
   ]
  },
  {
   "cell_type": "code",
   "execution_count": 56,
   "metadata": {
    "colab": {
     "autoexec": {
      "startup": false,
      "wait_interval": 0
     }
    },
    "colab_type": "code",
    "id": "n_jOaUL7AFWn"
   },
   "outputs": [],
   "source": [
    "d['chiave 3'] = 123"
   ]
  },
  {
   "cell_type": "code",
   "execution_count": 57,
   "metadata": {
    "colab": {
     "autoexec": {
      "startup": false,
      "wait_interval": 0
     },
     "output_extras": [
      {}
     ]
    },
    "colab_type": "code",
    "id": "4rW2qESsAFWr",
    "outputId": "a4d78101-ffa3-4061-f359-c9c9e50c6841"
   },
   "outputs": [
    {
     "data": {
      "text/plain": [
       "{'chiave 1': 'valore 1', 'chiave 2': 'valore 2', 'chiave 3': 123}"
      ]
     },
     "execution_count": 57,
     "metadata": {},
     "output_type": "execute_result"
    }
   ],
   "source": [
    "d"
   ]
  },
  {
   "cell_type": "code",
   "execution_count": 58,
   "metadata": {
    "colab": {
     "autoexec": {
      "startup": false,
      "wait_interval": 0
     }
    },
    "colab_type": "code",
    "id": "5xIZB-EnAFWw"
   },
   "outputs": [],
   "source": [
    "d['chiave 4'] = ('io','sono', 'una', 'tupla')"
   ]
  },
  {
   "cell_type": "code",
   "execution_count": 59,
   "metadata": {
    "colab": {
     "autoexec": {
      "startup": false,
      "wait_interval": 0
     },
     "output_extras": [
      {}
     ]
    },
    "colab_type": "code",
    "id": "npAcGHM8AFW7",
    "outputId": "0ea2e4b3-8693-4d97-ee75-019c901b3b99"
   },
   "outputs": [
    {
     "data": {
      "text/plain": [
       "{'chiave 1': 'valore 1',\n",
       " 'chiave 2': 'valore 2',\n",
       " 'chiave 3': 123,\n",
       " 'chiave 4': ('io', 'sono', 'una', 'tupla')}"
      ]
     },
     "execution_count": 59,
     "metadata": {},
     "output_type": "execute_result"
    }
   ],
   "source": [
    "d"
   ]
  },
  {
   "cell_type": "markdown",
   "metadata": {
    "colab_type": "text",
    "id": "ULq3n4TiAFXB"
   },
   "source": [
    "**✪ DA FARE**: prova ad inserire nel dizionario delle coppie chiave valore con chiavi stringa e come valori delle lista e altri dizionari, "
   ]
  },
  {
   "cell_type": "code",
   "execution_count": 60,
   "metadata": {
    "colab": {
     "autoexec": {
      "startup": false,
      "wait_interval": 0
     }
    },
    "colab_type": "code",
    "id": "aqL7HMKjAFXC"
   },
   "outputs": [],
   "source": [
    "# scrivi qui:\n",
    "\n",
    "\n"
   ]
  },
  {
   "cell_type": "markdown",
   "metadata": {
    "colab_type": "text",
    "id": "9IpoJd3WAFXP"
   },
   "source": [
    "**Chiavi**: Per le chiavi abbiamo qualche restrizione in più. Dentro i dizionari possiamo anche inserire dei numeri interi come chiavi:"
   ]
  },
  {
   "cell_type": "code",
   "execution_count": 61,
   "metadata": {
    "colab": {
     "autoexec": {
      "startup": false,
      "wait_interval": 0
     }
    },
    "colab_type": "code",
    "id": "2GGqOz7XAFXS"
   },
   "outputs": [],
   "source": [
    "d[123] = 'valore 3'"
   ]
  },
  {
   "cell_type": "code",
   "execution_count": 62,
   "metadata": {
    "colab": {
     "autoexec": {
      "startup": false,
      "wait_interval": 0
     },
     "output_extras": [
      {}
     ]
    },
    "colab_type": "code",
    "id": "xT8hKlKWAFXW",
    "outputId": "8f04e1e5-9e98-4765-b639-4720aa4cd863"
   },
   "outputs": [
    {
     "data": {
      "text/plain": [
       "{123: 'valore 3',\n",
       " 'chiave 1': 'valore 1',\n",
       " 'chiave 2': 'valore 2',\n",
       " 'chiave 3': 123,\n",
       " 'chiave 4': ('io', 'sono', 'una', 'tupla')}"
      ]
     },
     "execution_count": 62,
     "metadata": {},
     "output_type": "execute_result"
    }
   ],
   "source": [
    "d"
   ]
  },
  {
   "cell_type": "markdown",
   "metadata": {
    "colab_type": "text",
    "id": "HwOmHE59AFXo"
   },
   "source": [
    "o persino delle sequenze, purchè siano _immutabili_ come le tuple:"
   ]
  },
  {
   "cell_type": "code",
   "execution_count": 63,
   "metadata": {
    "colab": {
     "autoexec": {
      "startup": false,
      "wait_interval": 0
     }
    },
    "colab_type": "code",
    "id": "yjUVpZA9AFXp"
   },
   "outputs": [],
   "source": [
    "d[('io','sono','una','tupla')] = 'valore 4'"
   ]
  },
  {
   "cell_type": "code",
   "execution_count": 64,
   "metadata": {
    "colab": {
     "autoexec": {
      "startup": false,
      "wait_interval": 0
     },
     "output_extras": [
      {}
     ]
    },
    "colab_type": "code",
    "id": "cfFQsiTAAFXs",
    "outputId": "3d298239-01e2-417c-b5a6-84f684fc6bd6"
   },
   "outputs": [
    {
     "data": {
      "text/plain": [
       "{('io', 'sono', 'una', 'tupla'): 'valore 4',\n",
       " 123: 'valore 3',\n",
       " 'chiave 1': 'valore 1',\n",
       " 'chiave 2': 'valore 2',\n",
       " 'chiave 3': 123,\n",
       " 'chiave 4': ('io', 'sono', 'una', 'tupla')}"
      ]
     },
     "execution_count": 64,
     "metadata": {},
     "output_type": "execute_result"
    }
   ],
   "source": [
    "d"
   ]
  },
  {
   "cell_type": "markdown",
   "metadata": {
    "colab_type": "text",
    "id": "oDjgDSrdAFX7"
   },
   "source": [
    "\n",
    "<div class=\"alert alert-warning\">\n",
    "\n",
    "**ATTENZIONE**: Non tutti i tipi vanno bene a Python come chiavi. Senza andare nei dettagli, in genere non puoi inserire nei dizionari dei tipi che possono essere modificati dopo che sono stati creati. \n",
    " \n",
    "</div>\n",
    "\n",
    "**✪ DA FARE**: \n",
    "\n",
    "- Prova ad inserire in un dizionario una lista tipo `['a','b']`come chiave, e come valore metti quello che vuoi. Python non dovrebbe permetterti di farlo, e ti dovrebbe mostrare la scritta `TypeError: unhashable type: 'list'`\n",
    "- prova anche ad inserire un dizionario come chiave (per es. anche il dizionario vuoto `{}`). Che risultato ottieni?\n"
   ]
  },
  {
   "cell_type": "markdown",
   "metadata": {},
   "source": [
    "## Visualizzare l'esecuzione con Python Tutor\n",
    "\n",
    "\n",
    "Abbiamo visto i principali tipi di dati. Prima di procedere oltre, è bene vedere gli strumenti giusti per comprendere al meglio cosa succede quando si esegue il codice.\n",
    "[Python tutor](http://pythontutor.com/) è un ottimo sito online per visualizzare online l’esecuzione di codice Python, permettendo di andare avanti e _indietro_ nell'esecuzione del codice. Sfruttatelo più che potete, dovrebbe funzionare con parecchi degli esempi che tratteremo a lezione. Vediamo un esempio. \n",
    "\n",
    "**Python tutor 1/4**\n",
    "\n",
    "Vai sul sito [pythontutor.com](http://pythontutor.com/) e seleziona _Python 3_"
   ]
  },
  {
   "cell_type": "markdown",
   "metadata": {},
   "source": [
    "![](img/pytut-1.jpg)"
   ]
  },
  {
   "cell_type": "markdown",
   "metadata": {},
   "source": [
    "**Python tutor 2/4**\n",
    "\n",
    "![](img/pytut-2.jpg)"
   ]
  },
  {
   "cell_type": "markdown",
   "metadata": {},
   "source": [
    "**Python tutor 3/4**\n",
    "\n",
    "![](img/pytut-3.jpg)"
   ]
  },
  {
   "cell_type": "markdown",
   "metadata": {},
   "source": [
    "**Python tutor 4/4**\n",
    "\n",
    "![](img/pytut-4.jpg)"
   ]
  },
  {
   "cell_type": "markdown",
   "metadata": {},
   "source": [
    "### Debuggare codice in Jupyter\n",
    "\n",
    "Python tutor è fantastico, ma quando esegui del codice in Jupyter e non funziona, come si può fare? Per ispezionare l'esecuzione, gli editor di solito mettono a disposizione uno strumento chiamato _debugger_, che permette di eseguire le istruzioni una per una. Al momento (Agosto 2018), il debugger di Jupyter che si chiama [pdb](https://davidhamann.de/2017/04/22/debugging-jupyter-notebooks/) è estramamente limitato . Per superarne le limitazioni, in questo corso ci siamo inventati una soluzione di ripiego, che sfrutta Python Tutor.\n",
    "\n",
    "Se inserite del codice Python in una cella, e poi **alla fine della cella** scrivete l'istruzione `jupman.pytut()`, come per magia il codice precedente verrà visualizzato all'interno del foglio Jupyter con il debugger di Python Tutor. \n",
    "\n"
   ]
  },
  {
   "cell_type": "markdown",
   "metadata": {},
   "source": [
    "<div class=\"alert alert-warning\">\n",
    "\n",
    "**ATTENZIONE**: `jupman` è una collezione di funzioni di supporto che ci siamo inventati apposta per questo corso. \n",
    "\n",
    "Quando vedi comandi che iniziano con `jupman`, affinchè funzionino devi prima eseguire la cella in cima al documento. Riportiamo tale cella qua per comodità. Se non lo hai già fatto, eseguila adesso.\n",
    "\n",
    "</div>\n"
   ]
  },
  {
   "cell_type": "code",
   "execution_count": 65,
   "metadata": {},
   "outputs": [],
   "source": [
    "# Ricordati di eseguire questa cella con Control+Invio\n",
    "# Questi comandi dicono a Python dove trovare il file jupman.py\n",
    "import sys;\n",
    "sys.path.append('../../'); \n",
    "import jupman;"
   ]
  },
  {
   "cell_type": "markdown",
   "metadata": {},
   "source": [
    "Adesso siamo pronti a provare Python tutor con la funzione magica `jupman.pytut()`: \n",
    "\n",
    "<div class=\"alert alert-warning\">\n",
    "\n",
    "**ATTENZIONE**: Per usare Python tutor dentro Jupyter dovete essere online. Una volta eseguita la cella successivo, dopo qualche secondo dovrebbe apparire il debugger di Python tutor:\n",
    "\n",
    "</div>\n"
   ]
  },
  {
   "cell_type": "code",
   "execution_count": 66,
   "metadata": {},
   "outputs": [
    {
     "data": {
      "text/html": [
       "\n",
       "        <iframe\n",
       "            width=\"900\"\n",
       "            height=\"300\"\n",
       "            src=\"https://pythontutor.com/iframe-embed.html#code=x+%3D+5%0Ay+%3D+7%0Az+%3D+x+%2B+y%0A%0A&py=3&cumulative=false&curInstr=0\"\n",
       "            frameborder=\"0\"\n",
       "            allowfullscreen\n",
       "        ></iframe>\n",
       "        "
      ],
      "text/plain": [
       "<IPython.lib.display.IFrame at 0x7fe538b68470>"
      ]
     },
     "execution_count": 66,
     "metadata": {},
     "output_type": "execute_result"
    }
   ],
   "source": [
    "x = 5\n",
    "y = 7\n",
    "z = x + y\n",
    "\n",
    "jupman.pytut()"
   ]
  },
  {
   "cell_type": "markdown",
   "metadata": {},
   "source": [
    "####  Python Tutor : Limitazione 1\n",
    "\n",
    "Python tutor è comodo, ma ci sono importanti limitazioni:\n",
    "\n"
   ]
  },
  {
   "cell_type": "markdown",
   "metadata": {},
   "source": [
    "<div class=\"alert alert-warning\">\n",
    "\n",
    "**ATTENZIONE**: Python Tutor guarda dentro una cella sola!\n",
    "\n",
    "Quando usi Python tutor dentro Jupyter, l'unico codice che viene considerato da Python tutor è quello dentro la cella dove sta il comando jupman.pytut(). \n",
    "</div>\n",
    "\n",
    "Quindi per esempio in queste due celle che seguono, solo `print(w)` apparirà dentro Python tutor   senza il `w = 3`. Se proverai a cliccare _Forward_ in Python tutor,  ti verrà segnalato che non è stata definita `w`"
   ]
  },
  {
   "cell_type": "code",
   "execution_count": 67,
   "metadata": {},
   "outputs": [],
   "source": [
    "w = 3"
   ]
  },
  {
   "cell_type": "code",
   "execution_count": 68,
   "metadata": {},
   "outputs": [
    {
     "name": "stdout",
     "output_type": "stream",
     "text": [
      "3\n"
     ]
    },
    {
     "data": {
      "text/html": [
       "\n",
       "        <iframe\n",
       "            width=\"900\"\n",
       "            height=\"250\"\n",
       "            src=\"https://pythontutor.com/iframe-embed.html#code=print%28w%29%0A%0A&py=3&cumulative=false&curInstr=0\"\n",
       "            frameborder=\"0\"\n",
       "            allowfullscreen\n",
       "        ></iframe>\n",
       "        "
      ],
      "text/plain": [
       "<IPython.lib.display.IFrame at 0x7fe538b682e8>"
      ]
     },
     "execution_count": 68,
     "metadata": {},
     "output_type": "execute_result"
    }
   ],
   "source": [
    "print(w)\n",
    "\n",
    "jupman.pytut()"
   ]
  },
  {
   "cell_type": "markdown",
   "metadata": {},
   "source": [
    "Per avere tutto in Python tutor devi mettere tutto il codice nella stessa cella:"
   ]
  },
  {
   "cell_type": "code",
   "execution_count": 69,
   "metadata": {
    "scrolled": true
   },
   "outputs": [
    {
     "name": "stdout",
     "output_type": "stream",
     "text": [
      "3\n"
     ]
    },
    {
     "data": {
      "text/html": [
       "\n",
       "        <iframe\n",
       "            width=\"900\"\n",
       "            height=\"275\"\n",
       "            src=\"https://pythontutor.com/iframe-embed.html#code=w+%3D+3%0Aprint%28w%29%0A%0A&py=3&cumulative=false&curInstr=0\"\n",
       "            frameborder=\"0\"\n",
       "            allowfullscreen\n",
       "        ></iframe>\n",
       "        "
      ],
      "text/plain": [
       "<IPython.lib.display.IFrame at 0x7fe538d32ef0>"
      ]
     },
     "execution_count": 69,
     "metadata": {},
     "output_type": "execute_result"
    }
   ],
   "source": [
    "w = 3\n",
    "print(w)\n",
    "\n",
    "jupman.pytut()"
   ]
  },
  {
   "cell_type": "markdown",
   "metadata": {},
   "source": [
    "####  Python Tutor : Limitazione 2\n",
    "\n",
    "Un'altra limitazione è la seguente:\n",
    "\n",
    "\n",
    "<div class=\"alert alert-warning\">\n",
    "\n",
    "**ATTENZIONE**: Python tutor usa solo funzioni dalla distribuzione standard di Python**\n",
    "\n",
    "Python Tutor va bene per ispezionare semplici algoritmi che usano funzioni di base di Python. \n",
    "</div>\n",
    "\n",
    "Se usate qualche libreria tipo `numpy`, potete provare **solo online** a selezionare `Python 3.6 with anaconda`\n",
    "\n",
    "![](img/pytut-5.jpg)\n"
   ]
  },
  {
   "cell_type": "markdown",
   "metadata": {
    "colab_type": "text",
    "id": "y1_ipl04AFYh"
   },
   "source": [
    "## Iterazione\n",
    "\n",
    "Spesso è utile compiere azioni su ogni elemento di una sequenza.\n",
    "\n",
    "**Riferimenti**\n",
    "\n",
    "- [Pensare in Python, Capitolo 7, Iterazione](https://davidleoni.github.io/ThinkPythonItalian/html/thinkpython2008.html)\n",
    "- [Nicola Cassetta, Lezione 8, L'istruzione while](http://ncassetta.altervista.org/Tutorial_Python/Lezione_08.html)\n",
    "\n",
    "\n",
    "**Cicli for**\n",
    "\n",
    "Tra i vari modi per farlo, uno è usare i cicli `for`"
   ]
  },
  {
   "cell_type": "code",
   "execution_count": 70,
   "metadata": {
    "colab": {
     "autoexec": {
      "startup": false,
      "wait_interval": 0
     },
     "output_extras": [
      {}
     ]
    },
    "colab_type": "code",
    "id": "dvT2rnbBAFYi",
    "outputId": "e5deee14-f728-4236-9a21-0cb13531897e"
   },
   "outputs": [
    {
     "name": "stdout",
     "output_type": "stream",
     "text": [
      "Nella lista ci sono:\n",
      "cani\n",
      "Nella lista ci sono:\n",
      "gatti\n",
      "Nella lista ci sono:\n",
      "scoiattoli\n",
      "Nella lista ci sono:\n",
      "alci\n"
     ]
    }
   ],
   "source": [
    "animali = ['cani', 'gatti', 'scoiattoli', 'alci']\n",
    "\n",
    "for animale in animali:\n",
    "    print(\"Nella lista ci sono:\")\n",
    "    print(animale)"
   ]
  },
  {
   "cell_type": "markdown",
   "metadata": {
    "colab_type": "text",
    "id": "aYoeEiXoAFYn"
   },
   "source": [
    "Qua abbiamo definito la variabile `animale` (avremmo potuto chiamarla con qualunque nome, anche `pippo`). Per ogni elemento nella lista `animali`, vengono eseguite le istruzioni dentro il blocco. Ogni volta che le istruzioni vengono eseguite, la variabile `animale` assume uno dei valori della lista `animali`\n",
    "\n",
    "<div class=\"alert alert-warning\">\n",
    "\n",
    "**ATTENZIONE**: RICORDATEVI I DUE PUNTI ':' ALLA FINE DELLA LINEA DEL FOR !!!\n",
    "</div>\n",
    "\n",
    "<div class=\"alert alert-warning\">\n",
    "\n",
    "**ATTENZIONE**: Per indentare il codice, usa SEMPRE sequenze di 4 spazi bianchi. Sequenze di 2 soli spazi per quanto consentite non sono raccomandate. \n",
    "</div>\n",
    "\n",
    "<div class=\"alert alert-warning\">\n",
    "\n",
    "**ATTENZIONE**: A seconda dell'editor che usi, premendo TAB potresti ottenere una sequenza di spazi bianchi come accade in Jupyter (4 spazi che sono raccomandati), oppure un carattere speciale di tabulazione (da evitare)! Per quanto noiosa questa distinzione ti possa apparire, ricordatela perchè potrebbe generare errori molto difficili da scoprire. \n",
    "</div>\n"
   ]
  },
  {
   "cell_type": "code",
   "execution_count": 71,
   "metadata": {},
   "outputs": [
    {
     "name": "stdout",
     "output_type": "stream",
     "text": [
      "Nella lista ci sono:\n",
      "cani\n",
      "Nella lista ci sono:\n",
      "gatti\n",
      "Nella lista ci sono:\n",
      "scoiattoli\n",
      "Nella lista ci sono:\n",
      "alci\n"
     ]
    },
    {
     "data": {
      "text/html": [
       "\n",
       "        <iframe\n",
       "            width=\"900\"\n",
       "            height=\"400\"\n",
       "            src=\"https://pythontutor.com/iframe-embed.html#code=%23+Guardiamo+cosa+succede+con+Python+tutor%3A+%0A%0Aanimali+%3D+%5B%27cani%27%2C+%27gatti%27%2C+%27scoiattoli%27%2C+%27alci%27%5D%0A%0Afor+animale+in+animali%3A%0A++++print%28%22Nella+lista+ci+sono%3A%22%29%0A++++print%28animale%29%0A++++%0A&py=3&cumulative=false&curInstr=0\"\n",
       "            frameborder=\"0\"\n",
       "            allowfullscreen\n",
       "        ></iframe>\n",
       "        "
      ],
      "text/plain": [
       "<IPython.lib.display.IFrame at 0x7fe538cb8668>"
      ]
     },
     "execution_count": 71,
     "metadata": {},
     "output_type": "execute_result"
    }
   ],
   "source": [
    "# Guardiamo cosa succede con Python tutor: \n",
    "\n",
    "animali = ['cani', 'gatti', 'scoiattoli', 'alci']\n",
    "\n",
    "for animale in animali:\n",
    "    print(\"Nella lista ci sono:\")\n",
    "    print(animale)\n",
    "    \n",
    "jupman.pytut()"
   ]
  },
  {
   "cell_type": "markdown",
   "metadata": {
    "colab_type": "text",
    "id": "wnbHtwz7AFYo"
   },
   "source": [
    "**✪ DA FARE**: Proviamo a capire meglio tutti gli 'Attenzione' qua sopra. Scrivi qui sotto il for con gli animali di prima (niente copia e incolla!), vedi se funziona. Ricordati di usare 4 spazi per le indentazioni. \n",
    "\n",
    "- Poi prova a togliere i due punti alla fine e vedi che errore ti da Python\n",
    "- Riaggiungi i due punti, e adesso prova a variare l'indentazione. Prova a mettere due spazi all'inizio di entrambi i print, vedi se esegue\n",
    "- Adesso prova a mettere due spazi prima del primo print e 4 spazi prima del secondo, e vedi se esegue"
   ]
  },
  {
   "cell_type": "code",
   "execution_count": 72,
   "metadata": {
    "colab": {
     "autoexec": {
      "startup": false,
      "wait_interval": 0
     }
    },
    "colab_type": "code",
    "id": "STgILuUEAFYr"
   },
   "outputs": [],
   "source": [
    "# scrivi qui - copia il for di sopra\n"
   ]
  },
  {
   "cell_type": "markdown",
   "metadata": {
    "colab_type": "text",
    "id": "4JM8nJYtAFYx"
   },
   "source": [
    "### for in range\n",
    "\n",
    "Un'altra iterazione molto comune è incrementare un contatore ad ogni ciclo. Python rispetto ad altri linguaggi offre un sistema piuttosto particolare che usa la funzione `range(n)`, che ritorna una sequenza con i primi numeri da 0 incluso a `n` _escluso_. La possiamo usare così:"
   ]
  },
  {
   "cell_type": "code",
   "execution_count": 73,
   "metadata": {
    "colab": {
     "autoexec": {
      "startup": false,
      "wait_interval": 0
     },
     "output_extras": [
      {}
     ]
    },
    "colab_type": "code",
    "id": "AKaswfGQAFYy",
    "outputId": "7110d199-e29a-4c79-9ff6-c04a1b64bb63"
   },
   "outputs": [
    {
     "name": "stdout",
     "output_type": "stream",
     "text": [
      "0\n",
      "1\n",
      "2\n"
     ]
    }
   ],
   "source": [
    "for indice in range(3):\n",
    "    print(indice)\n",
    "    "
   ]
  },
  {
   "cell_type": "code",
   "execution_count": 74,
   "metadata": {
    "colab": {
     "autoexec": {
      "startup": false,
      "wait_interval": 0
     },
     "output_extras": [
      {}
     ]
    },
    "colab_type": "code",
    "id": "kpkqkSuIAFY7",
    "outputId": "49723053-062b-4dca-b64c-b5e2ae2c8ae4"
   },
   "outputs": [
    {
     "name": "stdout",
     "output_type": "stream",
     "text": [
      "0\n",
      "1\n",
      "2\n",
      "3\n",
      "4\n",
      "5\n"
     ]
    }
   ],
   "source": [
    "for indice in range(6):\n",
    "    print(indice)"
   ]
  },
  {
   "cell_type": "code",
   "execution_count": 75,
   "metadata": {},
   "outputs": [
    {
     "name": "stdout",
     "output_type": "stream",
     "text": [
      "0\n",
      "1\n",
      "2\n",
      "3\n",
      "4\n",
      "5\n"
     ]
    },
    {
     "data": {
      "text/html": [
       "\n",
       "        <iframe\n",
       "            width=\"900\"\n",
       "            height=\"325\"\n",
       "            src=\"https://pythontutor.com/iframe-embed.html#code=%23+guardiamo+meglio+con+Python+tutor%3A+%0A%0Afor+indice+in+range%286%29%3A%0A++++print%28indice%29%0A%0A&py=3&cumulative=false&curInstr=0\"\n",
       "            frameborder=\"0\"\n",
       "            allowfullscreen\n",
       "        ></iframe>\n",
       "        "
      ],
      "text/plain": [
       "<IPython.lib.display.IFrame at 0x7fe538cb8400>"
      ]
     },
     "execution_count": 75,
     "metadata": {},
     "output_type": "execute_result"
    }
   ],
   "source": [
    "# guardiamo meglio con Python tutor: \n",
    "\n",
    "for indice in range(6):\n",
    "    print(indice)\n",
    "\n",
    "jupman.pytut()"
   ]
  },
  {
   "cell_type": "markdown",
   "metadata": {
    "colab_type": "text",
    "id": "Z5jrBwStAFZQ"
   },
   "source": [
    "Quindi possiamo usare questo stile come un'alternativa per listare i nostri animali:"
   ]
  },
  {
   "cell_type": "code",
   "execution_count": 76,
   "metadata": {
    "colab": {
     "autoexec": {
      "startup": false,
      "wait_interval": 0
     },
     "base_uri": "https://localhost:8080/",
     "height": 121,
     "output_extras": [
      {
       "item_id": 1
      }
     ]
    },
    "colab_type": "code",
    "executionInfo": {
     "elapsed": 591,
     "status": "ok",
     "timestamp": 1519033207873,
     "user": {
      "displayName": "David Leoni",
      "photoUrl": "https://lh3.googleusercontent.com/a/default-user=s128",
      "userId": "102920557909426557439"
     },
     "user_tz": -60
    },
    "id": "u5UoFcHtAFZV",
    "outputId": "695b71fa-dff0-4787-c950-43d4872a55ae"
   },
   "outputs": [
    {
     "name": "stdout",
     "output_type": "stream",
     "text": [
      "Nella lista ci sono:\n",
      "cani\n",
      "Nella lista ci sono:\n",
      "gatti\n",
      "Nella lista ci sono:\n",
      "scoiattoli\n"
     ]
    }
   ],
   "source": [
    "animali = ['cani', 'gatti', 'scoiattoli', 'alci']\n",
    "\n",
    "for indice in range(3):\n",
    "    print(\"Nella lista ci sono:\")\n",
    "    print(animali[indice])"
   ]
  },
  {
   "cell_type": "code",
   "execution_count": 77,
   "metadata": {},
   "outputs": [
    {
     "name": "stdout",
     "output_type": "stream",
     "text": [
      "Nella lista ci sono:\n",
      "cani\n",
      "Nella lista ci sono:\n",
      "gatti\n",
      "Nella lista ci sono:\n",
      "scoiattoli\n"
     ]
    },
    {
     "data": {
      "text/html": [
       "\n",
       "        <iframe\n",
       "            width=\"900\"\n",
       "            height=\"400\"\n",
       "            src=\"https://pythontutor.com/iframe-embed.html#code=%23+guardiamo+meglio+con+Python+tutor%3A%0A%0Aanimali+%3D+%5B%27cani%27%2C+%27gatti%27%2C+%27scoiattoli%27%2C+%27alci%27%5D%0A%0Afor+indice+in+range%283%29%3A%0A++++print%28%22Nella+lista+ci+sono%3A%22%29%0A++++print%28animali%5Bindice%5D%29%0A++++%0A++++&py=3&cumulative=false&curInstr=0\"\n",
       "            frameborder=\"0\"\n",
       "            allowfullscreen\n",
       "        ></iframe>\n",
       "        "
      ],
      "text/plain": [
       "<IPython.lib.display.IFrame at 0x7fe538cb8ac8>"
      ]
     },
     "execution_count": 77,
     "metadata": {},
     "output_type": "execute_result"
    }
   ],
   "source": [
    "# guardiamo meglio con Python tutor:\n",
    "\n",
    "animali = ['cani', 'gatti', 'scoiattoli', 'alci']\n",
    "\n",
    "for indice in range(3):\n",
    "    print(\"Nella lista ci sono:\")\n",
    "    print(animali[indice])\n",
    "    \n",
    "jupman.pytut()    "
   ]
  },
  {
   "cell_type": "markdown",
   "metadata": {
    "colab_type": "text",
    "id": "BeFkQO8VH16f"
   },
   "source": [
    "## Definire funzioni\n",
    "\n",
    "Una funzione prende dei parametri e li usa per produrre qualche risultato.\n",
    "\n",
    "**Riferimenti**\n",
    "\n",
    "- [Pensare in Python, Capitolo 3, Funzioni](https://davidleoni.github.io/ThinkPythonItalian/html/thinkpython2004.html)\n",
    "- [Pensare in Python, Capitolo 6, Funzioni produttive](https://davidleoni.github.io/ThinkPythonItalian/html/thinkpython2007.html) puoi fare tutto saltando la parte 6.5 sulla ricorsione.\n",
    "    **NOTA**: nel libro viene usato il termine strano 'funzioni produttive' per quelle funzioni che ritornano un valore, ed il termine ancora più strano 'funzioni vuote' per funzioni che non ritornano nulla ma fanno qualche effetto tipo stampa a video: ignora e dimentica questi termini !  \n",
    "\n",
    "- [Nicola Cassetta, Lezione 4, Funzioni](http://ncassetta.altervista.org/Tutorial_Python/Lezione_04.html)\n",
    "\n",
    "\n",
    "Per definire una funzione, possiamo usare la parola chiave `def`: "
   ]
  },
  {
   "cell_type": "code",
   "execution_count": 78,
   "metadata": {
    "colab": {
     "autoexec": {
      "startup": false,
      "wait_interval": 0
     }
    },
    "colab_type": "code",
    "id": "JHBncVarIG0a"
   },
   "outputs": [],
   "source": [
    "def mia_stampa(x,y):   # RICORDATEVI I DUE PUNTI ':' ALLA FINE DELLA RIGA !!!!!\n",
    "    print('Ora stamperemo la somma di due numeri')\n",
    "    print('La somma è %s' % (x + y))\n"
   ]
  },
  {
   "cell_type": "markdown",
   "metadata": {
    "colab_type": "text",
    "id": "4qODhc9qIQVZ"
   },
   "source": [
    "Possiamo chiamare la funzione così:"
   ]
  },
  {
   "cell_type": "code",
   "execution_count": 79,
   "metadata": {
    "colab": {
     "autoexec": {
      "startup": false,
      "wait_interval": 0
     },
     "base_uri": "https://localhost:8080/",
     "height": 52,
     "output_extras": [
      {
       "item_id": 1
      }
     ]
    },
    "colab_type": "code",
    "executionInfo": {
     "elapsed": 477,
     "status": "ok",
     "timestamp": 1519045245334,
     "user": {
      "displayName": "David Leoni",
      "photoUrl": "https://lh3.googleusercontent.com/a/default-user=s128",
      "userId": "102920557909426557439"
     },
     "user_tz": -60
    },
    "id": "I0xzUz41IIpG",
    "outputId": "91e139d0-6249-41a4-d6d8-de59ab9c00ba"
   },
   "outputs": [
    {
     "name": "stdout",
     "output_type": "stream",
     "text": [
      "Ora stamperemo la somma di due numeri\n",
      "La somma è 8\n"
     ]
    }
   ],
   "source": [
    "mia_stampa(3,5)"
   ]
  },
  {
   "cell_type": "markdown",
   "metadata": {},
   "source": []
  },
  {
   "cell_type": "code",
   "execution_count": 80,
   "metadata": {},
   "outputs": [
    {
     "name": "stdout",
     "output_type": "stream",
     "text": [
      "Ora stamperemo la somma di due numeri\n",
      "La somma è 8\n"
     ]
    },
    {
     "data": {
      "text/html": [
       "\n",
       "        <iframe\n",
       "            width=\"900\"\n",
       "            height=\"400\"\n",
       "            src=\"https://pythontutor.com/iframe-embed.html#code=%23+Vediamo+meglio+che+succede+con+PythonTutor%3A+%0A%0Adef+mia_stampa%28x%2Cy%29%3A+++%23+RICORDATEVI+I+DUE+PUNTI+%27%3A%27+ALLA+FINE+DELLA+RIGA+%21%21%21%21%21%0A++++print%28%27Ora+stamperemo+la+somma+di+due+numeri%27%29%0A++++print%28%27La+somma+%C3%A8+%25s%27+%25+%28x+%2B+y%29%29%0A%0Amia_stampa%283%2C5%29%0A%0A&py=3&cumulative=false&curInstr=0\"\n",
       "            frameborder=\"0\"\n",
       "            allowfullscreen\n",
       "        ></iframe>\n",
       "        "
      ],
      "text/plain": [
       "<IPython.lib.display.IFrame at 0x7fe538cb8be0>"
      ]
     },
     "execution_count": 80,
     "metadata": {},
     "output_type": "execute_result"
    }
   ],
   "source": [
    "# Vediamo meglio che succede con PythonTutor: \n",
    "\n",
    "def mia_stampa(x,y):   # RICORDATEVI I DUE PUNTI ':' ALLA FINE DELLA RIGA !!!!!\n",
    "    print('Ora stamperemo la somma di due numeri')\n",
    "    print('La somma è %s' % (x + y))\n",
    "\n",
    "mia_stampa(3,5)\n",
    "\n",
    "jupman.pytut()"
   ]
  },
  {
   "cell_type": "markdown",
   "metadata": {
    "colab_type": "text",
    "id": "TNftj3qzJWgv"
   },
   "source": [
    "La funzione appena dichiarata stampa dei valori, ma non ritorna nulla. Per fare una funzione che ritorni un valore, dobbiamo usare la parola chiava `return`\n",
    "\n",
    "Trovi questo tipo di funzioni  anche sul libro [Pensare in Python, Capitolo 6, Funzioni produttive](https://davidleoni.github.io/ThinkPythonItalian/html/thinkpython2007.html), di cui puoi fare tutto saltando la parte 6.5 sulla ricorsione. NOTA: nel libro viene usato il termine strano “funzioni produttive” per quelle funzioni che ritornano un valore, ed il termine ancora più strano “funzioni vuote” per funzioni che non ritornano nulla ma fanno qualche effetto tipo stampa a video: ignora questi strani termini ! \n",
    "\n"
   ]
  },
  {
   "cell_type": "code",
   "execution_count": 81,
   "metadata": {
    "colab": {
     "autoexec": {
      "startup": false,
      "wait_interval": 0
     }
    },
    "colab_type": "code",
    "id": "FN9Ek84QIZdK"
   },
   "outputs": [],
   "source": [
    "def mia_somma(x,y):\n",
    "    s = x + y\n",
    "    return s\n"
   ]
  },
  {
   "cell_type": "code",
   "execution_count": 82,
   "metadata": {
    "colab": {
     "autoexec": {
      "startup": false,
      "wait_interval": 0
     },
     "base_uri": "https://localhost:8080/",
     "height": 34,
     "output_extras": [
      {
       "item_id": 1
      }
     ]
    },
    "colab_type": "code",
    "executionInfo": {
     "elapsed": 488,
     "status": "ok",
     "timestamp": 1519045262248,
     "user": {
      "displayName": "David Leoni",
      "photoUrl": "https://lh3.googleusercontent.com/a/default-user=s128",
      "userId": "102920557909426557439"
     },
     "user_tz": -60
    },
    "id": "vGaE6W6bIOn3",
    "outputId": "6bac1cdf-285a-41ea-d335-6703e1ee9cff"
   },
   "outputs": [
    {
     "data": {
      "text/plain": [
       "8"
      ]
     },
     "execution_count": 82,
     "metadata": {},
     "output_type": "execute_result"
    }
   ],
   "source": [
    "mia_somma(3,5)\n"
   ]
  },
  {
   "cell_type": "code",
   "execution_count": 83,
   "metadata": {},
   "outputs": [
    {
     "name": "stdout",
     "output_type": "stream",
     "text": [
      "8\n"
     ]
    },
    {
     "data": {
      "text/html": [
       "\n",
       "        <iframe\n",
       "            width=\"900\"\n",
       "            height=\"400\"\n",
       "            src=\"https://pythontutor.com/iframe-embed.html#code=%23+Vediamo+meglio++che+succede+con+Python+Tutor%3A+%0A%0Adef+mia_somma%28x%2Cy%29%3A%0A++++s+%3D+x+%2B+y%0A++++return+s%0A%0Aprint%28mia_somma%283%2C5%29%29%0A%0A&py=3&cumulative=false&curInstr=0\"\n",
       "            frameborder=\"0\"\n",
       "            allowfullscreen\n",
       "        ></iframe>\n",
       "        "
      ],
      "text/plain": [
       "<IPython.lib.display.IFrame at 0x7fe538cb8ef0>"
      ]
     },
     "execution_count": 83,
     "metadata": {},
     "output_type": "execute_result"
    }
   ],
   "source": [
    "# Vediamo meglio  che succede con Python Tutor: \n",
    "\n",
    "def mia_somma(x,y):\n",
    "    s = x + y\n",
    "    return s\n",
    "\n",
    "print(mia_somma(3,5))\n",
    "\n",
    "jupman.pytut()"
   ]
  },
  {
   "cell_type": "markdown",
   "metadata": {
    "colab_type": "text",
    "id": "ctEd5oqiJ5Pn"
   },
   "source": [
    "**✪ DA FARE**: Se proviamo ad assegnare ad una variabile `x` il valore di ritorno delle funzione `mia_stampa` che apparantemente non ritorna nulla, che valore ci sarà in `x`? Prova a capirlo qua sotto:"
   ]
  },
  {
   "cell_type": "code",
   "execution_count": 84,
   "metadata": {
    "colab": {
     "autoexec": {
      "startup": false,
      "wait_interval": 0
     }
    },
    "colab_type": "code",
    "id": "Wdy1FRAcKH0i"
   },
   "outputs": [],
   "source": [
    "# scrivi qui\n"
   ]
  },
  {
   "cell_type": "markdown",
   "metadata": {
    "colab_type": "text",
    "id": "zP0UHumoKreN"
   },
   "source": [
    "**✪ DA FARE**: Scrivi qua sotto una funzione `media` che calcola e ritorna la media tra due numeri x e y in input"
   ]
  },
  {
   "cell_type": "code",
   "execution_count": 85,
   "metadata": {
    "colab": {
     "autoexec": {
      "startup": false,
      "wait_interval": 0
     }
    },
    "colab_type": "code",
    "id": "Wl2MS0-1K0ug"
   },
   "outputs": [],
   "source": [
    "# scrivi qui\n",
    "\n",
    "\n",
    "\n",
    "def media(x, y):\n",
    "    return (x + y) / 2"
   ]
  },
  {
   "cell_type": "markdown",
   "metadata": {
    "colab_type": "text",
    "id": "2nMcWnwHLQte"
   },
   "source": [
    "**✪✪ DA FARE**: Scrivi qua sotto una funzione che chiameremo `iniziab` che prende una stringa `x` in ingresso. Se la stringa inizia con la lettera 'b', per esempio `'bianco'` la funzione stampa la scritta `bianco inizia con b`, altrimenti stampa `bianco non inizia con la b`. \n",
    "\n",
    "* Per controllare se il primo carattere è uguale alla `'b'`, usa l'operatore `==` (ATTENZIONE: è un DOPPIO uguale !)\n",
    "* Se la stringa è vuota la tua funzione può avere problemi? Come potresti risolverli? (Per separare più condizioni nell'`if`, usa l'operatore `and` oppure `or` a seconda di come hai costruito l'if). "
   ]
  },
  {
   "cell_type": "code",
   "execution_count": 86,
   "metadata": {
    "colab": {
     "autoexec": {
      "startup": false,
      "wait_interval": 0
     }
    },
    "colab_type": "code",
    "id": "2-rCBLAYMA3Y"
   },
   "outputs": [
    {
     "name": "stdout",
     "output_type": "stream",
     "text": [
      "bianco inizia con b\n",
      "verde non inizia con b\n",
      " non inizia con b\n"
     ]
    }
   ],
   "source": [
    "# scrivi qui\n",
    "\n",
    "def iniziab(x):\n",
    "    if len(x) != 0 and x[0] == 'b':\n",
    "        print(x + ' inizia con b')\n",
    "    else:\n",
    "        print(x + ' non inizia con b')\n",
    "    \n",
    "iniziab('bianco')        \n",
    "iniziab('verde')\n",
    "iniziab('')"
   ]
  },
  {
   "cell_type": "markdown",
   "metadata": {
    "colab_type": "text",
    "id": "4X1oP2z2Nz4z"
   },
   "source": [
    "### Funzioni lambda\n",
    "\n",
    "In Python una variabile può contenere una funzione. Per esempio, sappiamo che `len(\"ciao\")` ci dà la lunghezza della stringa `\"ciao\"`\n"
   ]
  },
  {
   "cell_type": "code",
   "execution_count": 87,
   "metadata": {
    "colab": {
     "autoexec": {
      "startup": false,
      "wait_interval": 0
     },
     "base_uri": "https://localhost:8080/",
     "height": 34,
     "output_extras": [
      {
       "item_id": 1
      }
     ]
    },
    "colab_type": "code",
    "executionInfo": {
     "elapsed": 500,
     "status": "ok",
     "timestamp": 1519046536040,
     "user": {
      "displayName": "David Leoni",
      "photoUrl": "https://lh3.googleusercontent.com/a/default-user=s128",
      "userId": "102920557909426557439"
     },
     "user_tz": -60
    },
    "id": "El31mlUNOoRX",
    "outputId": "24ca6750-254e-4062-f24a-6850eb7af742"
   },
   "outputs": [
    {
     "data": {
      "text/plain": [
       "4"
      ]
     },
     "execution_count": 87,
     "metadata": {},
     "output_type": "execute_result"
    }
   ],
   "source": [
    "len(\"ciao\")"
   ]
  },
  {
   "cell_type": "markdown",
   "metadata": {
    "colab_type": "text",
    "id": "ENEMhfSiOrUM"
   },
   "source": [
    "Proviamo a creare una variabile `mia_variabile` che punta alla funzione `len`. Nota che _non_ abbiamo aggiunto parametri a `len`!"
   ]
  },
  {
   "cell_type": "code",
   "execution_count": 88,
   "metadata": {
    "colab": {
     "autoexec": {
      "startup": false,
      "wait_interval": 0
     }
    },
    "colab_type": "code",
    "id": "6S-wDPTYOJUO"
   },
   "outputs": [],
   "source": [
    "\n",
    "mia_variabile = len\n"
   ]
  },
  {
   "cell_type": "markdown",
   "metadata": {
    "colab_type": "text",
    "id": "PX1hxxoOOUJg"
   },
   "source": [
    "Adesso possiamo usare `mia_variabile` esattamente come usiamo la funzione `len`, che ci da la lunghezza di sequenze come le stringhe"
   ]
  },
  {
   "cell_type": "code",
   "execution_count": 89,
   "metadata": {
    "colab": {
     "autoexec": {
      "startup": false,
      "wait_interval": 0
     },
     "base_uri": "https://localhost:8080/",
     "height": 34,
     "output_extras": [
      {
       "item_id": 1
      }
     ]
    },
    "colab_type": "code",
    "executionInfo": {
     "elapsed": 649,
     "status": "ok",
     "timestamp": 1519046587953,
     "user": {
      "displayName": "David Leoni",
      "photoUrl": "https://lh3.googleusercontent.com/a/default-user=s128",
      "userId": "102920557909426557439"
     },
     "user_tz": -60
    },
    "id": "Lh6V_SAeOS3O",
    "outputId": "efd81d20-9aa9-40b4-8540-ac5d6f45ea6d"
   },
   "outputs": [
    {
     "data": {
      "text/plain": [
       "4"
      ]
     },
     "execution_count": 89,
     "metadata": {},
     "output_type": "execute_result"
    }
   ],
   "source": [
    "mia_variabile(\"ciao\")"
   ]
  },
  {
   "cell_type": "markdown",
   "metadata": {
    "colab": {
     "autoexec": {
      "startup": false,
      "wait_interval": 0
     }
    },
    "colab_type": "code",
    "id": "DN4BJnksO3He"
   },
   "source": [
    "Possiamo anche riassegnare `mia_variabile` ad altre funzioni, per esempio `sorted`. Vediamo che succede:"
   ]
  },
  {
   "cell_type": "code",
   "execution_count": 90,
   "metadata": {
    "colab": {
     "autoexec": {
      "startup": false,
      "wait_interval": 0
     }
    },
    "colab_type": "code",
    "id": "39ad-1FIOKPB"
   },
   "outputs": [],
   "source": [
    "mia_variabile = sorted"
   ]
  },
  {
   "cell_type": "markdown",
   "metadata": {
    "colab_type": "text",
    "id": "fIb3WcLyPCx_"
   },
   "source": [
    "chiamando `mia_variabile`, ci aspettiamo di vedere i caratteri di 'ciao' in ordine alfabetico:"
   ]
  },
  {
   "cell_type": "code",
   "execution_count": 91,
   "metadata": {
    "colab": {
     "autoexec": {
      "startup": false,
      "wait_interval": 0
     },
     "base_uri": "https://localhost:8080/",
     "height": 34,
     "output_extras": [
      {
       "item_id": 1
      }
     ]
    },
    "colab_type": "code",
    "executionInfo": {
     "elapsed": 494,
     "status": "ok",
     "timestamp": 1519047027841,
     "user": {
      "displayName": "David Leoni",
      "photoUrl": "https://lh3.googleusercontent.com/a/default-user=s128",
      "userId": "102920557909426557439"
     },
     "user_tz": -60
    },
    "id": "PmR_4VeMPK9L",
    "outputId": "125162e5-a0a0-4c52-9728-4c04fe539fd1"
   },
   "outputs": [
    {
     "data": {
      "text/plain": [
       "['a', 'c', 'i', 'o']"
      ]
     },
     "execution_count": 91,
     "metadata": {},
     "output_type": "execute_result"
    }
   ],
   "source": [
    "mia_variabile(\"ciao\")"
   ]
  },
  {
   "cell_type": "markdown",
   "metadata": {
    "colab_type": "text",
    "id": "Q3CoQlvZPWTG"
   },
   "source": [
    "In Python possiamo definire funzioni in una sola riga, con le cosiddette _funzioni lambda_: "
   ]
  },
  {
   "cell_type": "code",
   "execution_count": 92,
   "metadata": {
    "colab": {
     "autoexec": {
      "startup": false,
      "wait_interval": 0
     }
    },
    "colab_type": "code",
    "id": "uXGgflBePBlW"
   },
   "outputs": [],
   "source": [
    "mia_f = lambda x: x + 1"
   ]
  },
  {
   "cell_type": "markdown",
   "metadata": {
    "colab_type": "text",
    "id": "tdpFbGTsPcZb"
   },
   "source": [
    "Cosa fa `mia_f` ? Prende un parametro `x` e ritorna il risultato di calcolare l'espressione `x + 1`:"
   ]
  },
  {
   "cell_type": "code",
   "execution_count": 93,
   "metadata": {
    "colab": {
     "autoexec": {
      "startup": false,
      "wait_interval": 0
     },
     "base_uri": "https://localhost:8080/",
     "height": 34,
     "output_extras": [
      {
       "item_id": 1
      }
     ]
    },
    "colab_type": "code",
    "executionInfo": {
     "elapsed": 496,
     "status": "ok",
     "timestamp": 1519047256022,
     "user": {
      "displayName": "David Leoni",
      "photoUrl": "https://lh3.googleusercontent.com/a/default-user=s128",
      "userId": "102920557909426557439"
     },
     "user_tz": -60
    },
    "id": "5wJ9R1oJPj8L",
    "outputId": "91aeee26-af36-4dfe-b34e-f149a91dbce2"
   },
   "outputs": [
    {
     "data": {
      "text/plain": [
       "6"
      ]
     },
     "execution_count": 93,
     "metadata": {},
     "output_type": "execute_result"
    }
   ],
   "source": [
    "mia_f(5)"
   ]
  },
  {
   "cell_type": "markdown",
   "metadata": {
    "colab_type": "text",
    "id": "sWYLGHWJP0MY"
   },
   "source": [
    "Possiamo anche passare due parametri:"
   ]
  },
  {
   "cell_type": "code",
   "execution_count": 94,
   "metadata": {
    "colab": {
     "autoexec": {
      "startup": false,
      "wait_interval": 0
     }
    },
    "colab_type": "code",
    "id": "mazLpnywPaDz"
   },
   "outputs": [],
   "source": [
    "mia_somma = lambda x,y: x + y"
   ]
  },
  {
   "cell_type": "code",
   "execution_count": 95,
   "metadata": {
    "colab": {
     "autoexec": {
      "startup": false,
      "wait_interval": 0
     },
     "base_uri": "https://localhost:8080/",
     "height": 34,
     "output_extras": [
      {
       "item_id": 1
      }
     ]
    },
    "colab_type": "code",
    "executionInfo": {
     "elapsed": 506,
     "status": "ok",
     "timestamp": 1519046858574,
     "user": {
      "displayName": "David Leoni",
      "photoUrl": "https://lh3.googleusercontent.com/a/default-user=s128",
      "userId": "102920557909426557439"
     },
     "user_tz": -60
    },
    "id": "Fv3LhBAOPrqs",
    "outputId": "0efb7db1-538e-42cd-e9c9-3eef80d50ce5"
   },
   "outputs": [
    {
     "data": {
      "text/plain": [
       "8"
      ]
     },
     "execution_count": 95,
     "metadata": {},
     "output_type": "execute_result"
    }
   ],
   "source": [
    "mia_somma(3,5)"
   ]
  },
  {
   "cell_type": "markdown",
   "metadata": {
    "colab_type": "text",
    "id": "B5ZCVVazQE8Q"
   },
   "source": [
    "**✪ DA FARE**: Prova a definire qua sotto una funzione lambda per calcolare la media tra due numeri `x` e `y`, e assegnala alla variabile `media` "
   ]
  },
  {
   "cell_type": "code",
   "execution_count": 96,
   "metadata": {
    "colab": {
     "autoexec": {
      "startup": false,
      "wait_interval": 0
     }
    },
    "colab_type": "code",
    "id": "FAhMilOBQJGK"
   },
   "outputs": [
    {
     "data": {
      "text/plain": [
       "4.5"
      ]
     },
     "execution_count": 96,
     "metadata": {},
     "output_type": "execute_result"
    }
   ],
   "source": [
    "# scrivi qui\n",
    "\n",
    "media = lambda x,y: (x + y)/2\n",
    "\n",
    "media(2,7)"
   ]
  },
  {
   "cell_type": "markdown",
   "metadata": {
    "colab_type": "text",
    "id": "wqYdlbArcIo9"
   },
   "source": [
    "## Trasformazioni sulle liste\n",
    "\n",
    "Supponiamo di voler prendere la lista di animali e generarne una nuova in cui tutti i nomi iniziano con la lettera maiuscola. Questa che vogliamo fare di fatto è la creazione di una nuova lista operando una trasformazione sulla precedente. Per fare ciò esistono diversi modi, quello più semplice è usare un ciclo `for` così\n",
    "\n",
    "### Trasfomazioni con il for\n",
    "\n",
    "\n"
   ]
  },
  {
   "cell_type": "code",
   "execution_count": 97,
   "metadata": {
    "colab": {
     "autoexec": {
      "startup": false,
      "wait_interval": 0
     }
    },
    "colab_type": "code",
    "id": "SnnvFBIlcNWo"
   },
   "outputs": [
    {
     "data": {
      "text/html": [
       "\n",
       "        <iframe\n",
       "            width=\"900\"\n",
       "            height=\"425\"\n",
       "            src=\"https://pythontutor.com/iframe-embed.html#code=animali+%3D+%5B%27cani%27%2C+%27gatti%27%2C+%27scoiattoli%27%2C+%27alci%27%5D%0A%0A%0Anuova_lista+%3D+%5B%5D%0Afor+animale+in+animali%3A++%23+ad+ogni+ciclo+la+variabile+%27animale%27+contiene+un+nome+preso+dalla+lista+%27animali%27%0A++++nuova_lista.append%28animale.capitalize%28%29%29+++%23+aggiungiamo+alla+nuova+lista+il+nome+dell%27animale+corrente%2C+con+la+prima+lettera+maiuscola+%0Anuova_lista+%0A%0A%23vediamo+che+succede+con+Python+tutor%0A++&py=3&cumulative=false&curInstr=0\"\n",
       "            frameborder=\"0\"\n",
       "            allowfullscreen\n",
       "        ></iframe>\n",
       "        "
      ],
      "text/plain": [
       "<IPython.lib.display.IFrame at 0x7fe538c41ba8>"
      ]
     },
     "execution_count": 97,
     "metadata": {},
     "output_type": "execute_result"
    }
   ],
   "source": [
    "animali = ['cani', 'gatti', 'scoiattoli', 'alci']\n",
    "\n",
    "\n",
    "nuova_lista = []\n",
    "for animale in animali:  # ad ogni ciclo la variabile 'animale' contiene un nome preso dalla lista 'animali'\n",
    "    nuova_lista.append(animale.capitalize())   # aggiungiamo alla nuova lista il nome dell'animale corrente, con la prima lettera maiuscola \n",
    "nuova_lista \n",
    "\n",
    "#vediamo che succede con Python tutor\n",
    "jupman.pytut()  "
   ]
  },
  {
   "cell_type": "markdown",
   "metadata": {
    "colab_type": "text",
    "id": "6vRDoWxidjgX"
   },
   "source": [
    "Nota importante: i metodi sulle stringhe non modificano mai la stringa originale, ma ne generano sempre una nuova. Quindi la lista originale `animali` conterrà ancora le stringhe originale senza modifiche:"
   ]
  },
  {
   "cell_type": "code",
   "execution_count": 98,
   "metadata": {
    "colab": {
     "autoexec": {
      "startup": false,
      "wait_interval": 0
     },
     "base_uri": "https://localhost:8080/",
     "height": 34,
     "output_extras": [
      {
       "item_id": 1
      }
     ]
    },
    "colab_type": "code",
    "executionInfo": {
     "elapsed": 560,
     "status": "ok",
     "timestamp": 1519034975589,
     "user": {
      "displayName": "David Leoni",
      "photoUrl": "https://lh3.googleusercontent.com/a/default-user=s128",
      "userId": "102920557909426557439"
     },
     "user_tz": -60
    },
    "id": "vC58tUlqdxgf",
    "outputId": "6d32c5bc-782d-4d95-9755-2eab9ee93c05"
   },
   "outputs": [
    {
     "data": {
      "text/plain": [
       "['cani', 'gatti', 'scoiattoli', 'alci']"
      ]
     },
     "execution_count": 98,
     "metadata": {},
     "output_type": "execute_result"
    }
   ],
   "source": [
    "animali"
   ]
  },
  {
   "cell_type": "markdown",
   "metadata": {
    "colab_type": "text",
    "id": "45lFek_khbEX"
   },
   "source": [
    "**✪ DA FARE**: Prova a scrivere qua sotto un ciclo `for` (senza usare il copia e incolla!) che scorre la lista dei nomi degli animali e crea un'altra lista che chiameremo `m` in cui tutti i caratteri dei nomi degli animali sono in maiuscolo (usa il metodo `.upper()`)"
   ]
  },
  {
   "cell_type": "code",
   "execution_count": 99,
   "metadata": {
    "colab": {
     "autoexec": {
      "startup": false,
      "wait_interval": 0
     }
    },
    "colab_type": "code",
    "id": "3W5QjOZ6G_D-"
   },
   "outputs": [
    {
     "data": {
      "text/plain": [
       "['CANI', 'GATTI', 'SCOIATTOLI', 'ALCI']"
      ]
     },
     "execution_count": 99,
     "metadata": {},
     "output_type": "execute_result"
    }
   ],
   "source": [
    "animali = ['cani', 'gatti', 'scoiattoli', 'alci']\n",
    "\n",
    "# scrivi qui\n",
    "\n",
    "animali = ['cani', 'gatti', 'scoiattoli', 'alci']\n",
    "# Scrivi qua\n",
    "m = []\n",
    "for animale in animali:  # ad ogni ciclo la variabile 'animale' contiene un nome preso dalla lista 'animali'\n",
    "    m.append(animale.upper())   # aggiungiamo alla nuova lista il nome dell'animale corrente, con la prima lettera maiuscola \n",
    "m \n",
    "\n"
   ]
  },
  {
   "cell_type": "markdown",
   "metadata": {
    "colab_type": "text",
    "id": "BbNGWT5PeX_x"
   },
   "source": [
    "### Trasformazioni con le _list comprehension_\n",
    "\n",
    "La stessa identica trasformazione di sopra si potrebbe attuare con una cosiddetta _list comprehension_ ([Capitolo 19.2 Pensare in Python](https://davidleoni.github.io/ThinkPythonItalian/html/thinkpython2020.html#sec227)),  che servono per generare nuove liste eseguendo la stessa operazione su tutti gli elementi di una lista esistente di partenza. Come sintassi imitano le liste, infatti iniziano e finiscono con le parentesi quadre, ma dentro contengono un for speciale per ciclare dentro un sequenza :\n"
   ]
  },
  {
   "cell_type": "code",
   "execution_count": 100,
   "metadata": {
    "colab": {
     "autoexec": {
      "startup": false,
      "wait_interval": 0
     }
    },
    "colab_type": "code",
    "id": "I7fl60rudyTU"
   },
   "outputs": [],
   "source": [
    "animali = ['cani', 'gatti', 'scoiattoli', 'alci']\n",
    "\n",
    "nuova_lista = [animale.capitalize() for animale in animali]"
   ]
  },
  {
   "cell_type": "code",
   "execution_count": 101,
   "metadata": {
    "colab": {
     "autoexec": {
      "startup": false,
      "wait_interval": 0
     },
     "base_uri": "https://localhost:8080/",
     "height": 34,
     "output_extras": [
      {
       "item_id": 1
      }
     ]
    },
    "colab_type": "code",
    "executionInfo": {
     "elapsed": 483,
     "status": "ok",
     "timestamp": 1519033974548,
     "user": {
      "displayName": "David Leoni",
      "photoUrl": "https://lh3.googleusercontent.com/a/default-user=s128",
      "userId": "102920557909426557439"
     },
     "user_tz": -60
    },
    "id": "fSywtAYFdgyY",
    "outputId": "f9131bc7-11a0-4cb8-f708-5d101e51d6b1"
   },
   "outputs": [
    {
     "data": {
      "text/plain": [
       "['Cani', 'Gatti', 'Scoiattoli', 'Alci']"
      ]
     },
     "execution_count": 101,
     "metadata": {},
     "output_type": "execute_result"
    }
   ],
   "source": [
    "nuova_lista"
   ]
  },
  {
   "cell_type": "markdown",
   "metadata": {},
   "source": [
    "Vediamo che succede con Python tutor: "
   ]
  },
  {
   "cell_type": "code",
   "execution_count": 102,
   "metadata": {},
   "outputs": [
    {
     "data": {
      "text/html": [
       "\n",
       "        <iframe\n",
       "            width=\"900\"\n",
       "            height=\"300\"\n",
       "            src=\"https://pythontutor.com/iframe-embed.html#code=animali+%3D+%5B%27cani%27%2C+%27gatti%27%2C+%27scoiattoli%27%2C+%27alci%27%5D%0A%0Anuova_lista+%3D+%5Banimale.capitalize%28%29+for+animale+in+animali%5D%0A%0A&py=3&cumulative=false&curInstr=0\"\n",
       "            frameborder=\"0\"\n",
       "            allowfullscreen\n",
       "        ></iframe>\n",
       "        "
      ],
      "text/plain": [
       "<IPython.lib.display.IFrame at 0x7fe538c41eb8>"
      ]
     },
     "execution_count": 102,
     "metadata": {},
     "output_type": "execute_result"
    }
   ],
   "source": [
    "animali = ['cani', 'gatti', 'scoiattoli', 'alci']\n",
    "\n",
    "nuova_lista = [animale.capitalize() for animale in animali]\n",
    "\n",
    "jupman.pytut()"
   ]
  },
  {
   "cell_type": "markdown",
   "metadata": {
    "colab_type": "text",
    "id": "G1isjIcitppx"
   },
   "source": [
    "**✪ DA FARE**: Prova qua sotto ad usare una list comprehension per mettere tutti i caratteri in maiuscolo"
   ]
  },
  {
   "cell_type": "code",
   "execution_count": 103,
   "metadata": {
    "colab": {
     "autoexec": {
      "startup": false,
      "wait_interval": 0
     }
    },
    "colab_type": "code",
    "id": "eoNE416HdIEf"
   },
   "outputs": [],
   "source": [
    "animali = ['cani', 'gatti', 'scoiattoli', 'alci']\n",
    "# scrivi qui\n",
    "\n",
    "\n",
    "animali = ['cani', 'gatti', 'scoiattoli', 'alci']\n",
    "\n",
    "nuova_lista = [animale.upper() for animale in animali]\n",
    "\n",
    "\n"
   ]
  },
  {
   "cell_type": "markdown",
   "metadata": {
    "colab_type": "text",
    "id": "wJkXW0NulL8I"
   },
   "source": [
    "**Filtrare con le comprehension**: Volendo, possiamo anche filtrare i dati usando un `if` speciale da mettere alla fine della comprehension. Per esempio potremmo selezionare solo gli animali la cui lunghezza del nome è di 4 caratteri:\n",
    "\n"
   ]
  },
  {
   "cell_type": "code",
   "execution_count": 104,
   "metadata": {
    "colab": {
     "autoexec": {
      "startup": false,
      "wait_interval": 0
     },
     "base_uri": "https://localhost:8080/",
     "height": 34,
     "output_extras": [
      {
       "item_id": 1
      }
     ]
    },
    "colab_type": "code",
    "executionInfo": {
     "elapsed": 562,
     "status": "ok",
     "timestamp": 1519052514136,
     "user": {
      "displayName": "David Leoni",
      "photoUrl": "https://lh3.googleusercontent.com/a/default-user=s128",
      "userId": "102920557909426557439"
     },
     "user_tz": -60
    },
    "id": "3j3N8Z16lKDW",
    "outputId": "ee544608-9e3a-4918-f6a3-716081ad8b8a"
   },
   "outputs": [
    {
     "data": {
      "text/plain": [
       "['CANI', 'ALCI']"
      ]
     },
     "execution_count": 104,
     "metadata": {},
     "output_type": "execute_result"
    }
   ],
   "source": [
    "[animale.upper() for animale in animali if len(animale) == 4]"
   ]
  },
  {
   "cell_type": "markdown",
   "metadata": {
    "colab_type": "text",
    "id": "VnneWysUHt02"
   },
   "source": [
    "### Trasformazioni con le map\n",
    "\n",
    "Un'altro modo ancora per trasformare una lista in una nuova è usare l'operazione `map`, che a partire da una lista, ne genera un'altra applicando ad ogni elemento della lista di partenza una funzione `f` che passiamo come parametro. Per risolvere lo stesso esercizio precedente, si potrebbe per esempio creare al volo con `lambda` una funzione `f` che mette la prima lettera di una stringa in maiuscolo, e poi si potrebbe chiamare la `map` passando la `f` appena creata:"
   ]
  },
  {
   "cell_type": "code",
   "execution_count": 105,
   "metadata": {
    "colab": {
     "autoexec": {
      "startup": false,
      "wait_interval": 0
     },
     "base_uri": "https://localhost:8080/",
     "height": 34,
     "output_extras": [
      {
       "item_id": 1
      }
     ]
    },
    "colab_type": "code",
    "executionInfo": {
     "elapsed": 478,
     "status": "ok",
     "timestamp": 1519047521588,
     "user": {
      "displayName": "David Leoni",
      "photoUrl": "https://lh3.googleusercontent.com/a/default-user=s128",
      "userId": "102920557909426557439"
     },
     "user_tz": -60
    },
    "id": "b_0fe_rQHct3",
    "outputId": "e9797827-6f8b-4d18-a067-571aa70a265b"
   },
   "outputs": [
    {
     "data": {
      "text/plain": [
       "<map at 0x7fe538c48400>"
      ]
     },
     "execution_count": 105,
     "metadata": {},
     "output_type": "execute_result"
    }
   ],
   "source": [
    "animali = ['cani', 'gatti', 'scoiattoli', 'alci']\n",
    "\n",
    "\n",
    "f = lambda animale: animale.capitalize()\n",
    "\n",
    "map(f, animali)"
   ]
  },
  {
   "cell_type": "markdown",
   "metadata": {
    "colab_type": "text",
    "id": "N0EHix0jSjRL"
   },
   "source": [
    "Purtroppo il risultato non è esattamente la lista che volevamo. Il problema è che Python 3 aspetta a ritornarci una lista vera e propria, e invece ci ritorna un _iteratore_. Come mai? Python 3 per ragioni di efficienza spera che non non andremo mai ad usare nessun elemento della nuova lista, evitandogli di fatto la fatica di applicare la funzione a tutti gli elementi della lista originale. Ma noi possiamo forzarlo a darci la lista che vogliamo usando la funzione `list`: "
   ]
  },
  {
   "cell_type": "code",
   "execution_count": 106,
   "metadata": {
    "colab": {
     "autoexec": {
      "startup": false,
      "wait_interval": 0
     },
     "base_uri": "https://localhost:8080/",
     "height": 34,
     "output_extras": [
      {
       "item_id": 1
      }
     ]
    },
    "colab_type": "code",
    "executionInfo": {
     "elapsed": 484,
     "status": "ok",
     "timestamp": 1519047866872,
     "user": {
      "displayName": "David Leoni",
      "photoUrl": "https://lh3.googleusercontent.com/a/default-user=s128",
      "userId": "102920557909426557439"
     },
     "user_tz": -60
    },
    "id": "BDT49G82TJMH",
    "outputId": "a095d6f0-9a99-4765-9bc1-f5e74515e4cb"
   },
   "outputs": [
    {
     "data": {
      "text/plain": [
       "['Cani', 'Gatti', 'Scoiattoli', 'Alci']"
      ]
     },
     "execution_count": 106,
     "metadata": {},
     "output_type": "execute_result"
    }
   ],
   "source": [
    "animali = ['cani', 'gatti', 'scoiattoli', 'alci']\n",
    "\n",
    "f = lambda animale: animale.capitalize()\n",
    "\n",
    "list(map(f, animali))"
   ]
  },
  {
   "cell_type": "markdown",
   "metadata": {
    "colab_type": "text",
    "id": "dh3LFNNqTyuK"
   },
   "source": [
    "Per avere un esempio totalmente equivalente ai precedenti, possimao assegnare il risultato a `nuova_lista`: "
   ]
  },
  {
   "cell_type": "code",
   "execution_count": 107,
   "metadata": {
    "colab": {
     "autoexec": {
      "startup": false,
      "wait_interval": 0
     }
    },
    "colab_type": "code",
    "id": "JM96quneT9lV"
   },
   "outputs": [],
   "source": [
    "animali = ['cani', 'gatti', 'scoiattoli', 'alci']\n",
    "\n",
    "f = lambda animale: animale.capitalize()\n",
    "\n",
    "nuova_lista = list(map(f, animali))"
   ]
  },
  {
   "cell_type": "code",
   "execution_count": 108,
   "metadata": {
    "colab": {
     "autoexec": {
      "startup": false,
      "wait_interval": 0
     },
     "base_uri": "https://localhost:8080/",
     "height": 34,
     "output_extras": [
      {
       "item_id": 1
      }
     ]
    },
    "colab_type": "code",
    "executionInfo": {
     "elapsed": 601,
     "status": "ok",
     "timestamp": 1519048055236,
     "user": {
      "displayName": "David Leoni",
      "photoUrl": "https://lh3.googleusercontent.com/a/default-user=s128",
      "userId": "102920557909426557439"
     },
     "user_tz": -60
    },
    "id": "xI7TtsFmSbFg",
    "outputId": "eb2dda9f-0855-4347-a83d-5afce1a1390d"
   },
   "outputs": [
    {
     "data": {
      "text/plain": [
       "['Cani', 'Gatti', 'Scoiattoli', 'Alci']"
      ]
     },
     "execution_count": 108,
     "metadata": {},
     "output_type": "execute_result"
    }
   ],
   "source": [
    "nuova_lista"
   ]
  },
  {
   "cell_type": "markdown",
   "metadata": {
    "colab_type": "text",
    "id": "DkdrP-hVUsNf"
   },
   "source": [
    "Un vero hacker Python probabilmente preferirà scrivere tutto in una sola linea, così: \n",
    "  "
   ]
  },
  {
   "cell_type": "code",
   "execution_count": 109,
   "metadata": {
    "colab": {
     "autoexec": {
      "startup": false,
      "wait_interval": 0
     }
    },
    "colab_type": "code",
    "id": "u-HHQz8BUjE6"
   },
   "outputs": [],
   "source": [
    "animali = ['cani', 'gatti', 'scoiattoli', 'alci']\n",
    "\n",
    "nuova_lista = list(map(lambda animale: animale.capitalize(), animali))"
   ]
  },
  {
   "cell_type": "code",
   "execution_count": 110,
   "metadata": {
    "colab": {
     "autoexec": {
      "startup": false,
      "wait_interval": 0
     },
     "base_uri": "https://localhost:8080/",
     "height": 34,
     "output_extras": [
      {
       "item_id": 1
      }
     ]
    },
    "colab_type": "code",
    "executionInfo": {
     "elapsed": 409,
     "status": "ok",
     "timestamp": 1519048159745,
     "user": {
      "displayName": "David Leoni",
      "photoUrl": "https://lh3.googleusercontent.com/a/default-user=s128",
      "userId": "102920557909426557439"
     },
     "user_tz": -60
    },
    "id": "fnNMSHV2U2QC",
    "outputId": "045c8d0b-ff7e-4a39-fde7-f8202b17e6ef"
   },
   "outputs": [
    {
     "data": {
      "text/plain": [
       "['Cani', 'Gatti', 'Scoiattoli', 'Alci']"
      ]
     },
     "execution_count": 110,
     "metadata": {},
     "output_type": "execute_result"
    }
   ],
   "source": [
    "nuova_lista"
   ]
  },
  {
   "cell_type": "markdown",
   "metadata": {
    "colab_type": "text",
    "id": "t6vIHoNwUaC5"
   },
   "source": [
    "**✪ DA FARE**: la lista originale `animali` è cambiata? Controlla."
   ]
  },
  {
   "cell_type": "markdown",
   "metadata": {
    "colab_type": "text",
    "id": "7lmjhzyxU_-p"
   },
   "source": [
    "**✪ DA FARE**: Data una lista di numeri `numeri = [3, 5, 2, 7]` prova a scrivere una `map` che genera una nuova lista con i numeri raddoppiati, come `[6, 10, 4, 14]`:  "
   ]
  },
  {
   "cell_type": "code",
   "execution_count": 111,
   "metadata": {
    "colab": {
     "autoexec": {
      "startup": false,
      "wait_interval": 0
     }
    },
    "colab_type": "code",
    "id": "4tf9IOLKVhUQ"
   },
   "outputs": [
    {
     "data": {
      "text/plain": [
       "[6, 10, 4, 14]"
      ]
     },
     "execution_count": 111,
     "metadata": {},
     "output_type": "execute_result"
    }
   ],
   "source": [
    "numeri = [3, 5, 2, 7]\n",
    "\n",
    "# scrivi qui\n",
    "\n",
    "numeri = [3,5,2,7]\n",
    "\n",
    "list(map(lambda x: x * 2, numeri))"
   ]
  },
  {
   "cell_type": "markdown",
   "metadata": {
    "colab_type": "text",
    "id": "BCmNz8C6AFZY"
   },
   "source": [
    "## Esercizi un po' più impegnativi.\n",
    "\n",
    "Finita la presentazione, è ora di sforzarsi un po' di più. \n",
    "\n",
    "**✪✪ DA FARE**: Date le due liste con nomi di animali e corrispondente aspettativa di vita in anni:\n",
    "\n",
    "```python\n",
    "animali = ['cane', 'gatto', 'pellicano', 'scoiattolo', 'aquila']\n",
    "anni = [12,14,30,6,25]\n",
    "```\n",
    "\n",
    "Scrivere nella cella sotto del codice che generi una lista di liste da due elementi, così:\n",
    "\n",
    "`[\n",
    "  ['cane', 12], \n",
    "  ['gatto', 14], \n",
    "  ['pellicano', 30], \n",
    "  ['scoiattolo', 6], \n",
    "  ['aquila', 25]\n",
    "]`"
   ]
  },
  {
   "cell_type": "code",
   "execution_count": 112,
   "metadata": {
    "colab": {
     "autoexec": {
      "startup": false,
      "wait_interval": 0
     }
    },
    "colab_type": "code",
    "id": "WSlJUPE5AFZY"
   },
   "outputs": [
    {
     "data": {
      "text/plain": [
       "[['cane', 12],\n",
       " ['gatto', 14],\n",
       " ['pellicano', 30],\n",
       " ['scoiattolo', 6],\n",
       " ['aquila', 25]]"
      ]
     },
     "execution_count": 112,
     "metadata": {},
     "output_type": "execute_result"
    }
   ],
   "source": [
    "animali = ['cane', 'gatto', 'pellicano', 'scoiattolo', 'aquila']\n",
    "anni = [12,14,30,6,25]\n",
    "\n",
    "# scrivi qui\n",
    "\n",
    "\n",
    "coppie = []\n",
    "for i in range(len(animali)):\n",
    "    coppie.append([animali[i], anni[i]])\n",
    "coppie\n"
   ]
  },
  {
   "cell_type": "markdown",
   "metadata": {
    "colab_type": "text",
    "id": "bd2Ap-uOAFZc"
   },
   "source": [
    "**✪✪ DA FARE** modificare scrivendolo qua sotto il codice dell'esercizio precedente nella versione con il normale ciclo `for` per filtrare solo le specie con aspettativa di vita superiore ai 13 anni, così da ottenere questo risultato:\n",
    "\n",
    "```python\n",
    "[['gatto', 14], ['pellicano', 30], ['aquila', 25]]\n",
    "```"
   ]
  },
  {
   "cell_type": "code",
   "execution_count": 113,
   "metadata": {
    "colab": {
     "autoexec": {
      "startup": false,
      "wait_interval": 0
     }
    },
    "colab_type": "code",
    "id": "M4d3V2JjnocX"
   },
   "outputs": [
    {
     "data": {
      "text/plain": [
       "[['gatto', 14], ['pellicano', 30], ['aquila', 25]]"
      ]
     },
     "execution_count": 113,
     "metadata": {},
     "output_type": "execute_result"
    }
   ],
   "source": [
    "animali = ['cane', 'gatto', 'pellicano', 'scoiattolo', 'aquila']\n",
    "anni = [12,14,30,6,25]\n",
    "\n",
    "# scrivi qui\n",
    "\n",
    "animali = ['cane', 'gatto', 'pellicano', 'scoiattolo', 'aquila']\n",
    "anni = [12,14,30,6,25]\n",
    "\n",
    "coppie = []\n",
    "for i in range(len(animali)):\n",
    "    if anni[i] > 13:\n",
    "        coppie.append([animali[i], anni[i]])\n",
    "coppie\n"
   ]
  },
  {
   "cell_type": "markdown",
   "metadata": {
    "colab_type": "text",
    "id": "LvVoUJ1mAFZg"
   },
   "source": [
    "**DA FARE** Scrivi qua sotto del codice con un normale ciclo `for` filtri solo le specie con aspettativa di vita  superiore ai 10 anni e inferiore ai 27, così da ottenere questo risultato:\n",
    "\n",
    "```python\n",
    "[['cane', 12], ['gatto', 14], ['aquila', 25]]\n",
    "```\n",
    "\n",
    "**SUGGERIMENTO**: in Pyhton per imporre due condizioni in un if si usa la parola chiave **and**"
   ]
  },
  {
   "cell_type": "code",
   "execution_count": 114,
   "metadata": {
    "colab": {
     "autoexec": {
      "startup": false,
      "wait_interval": 0
     }
    },
    "colab_type": "code",
    "id": "ikN8wQ6oAFZg"
   },
   "outputs": [
    {
     "data": {
      "text/plain": [
       "[['cane', 12], ['gatto', 14], ['aquila', 25]]"
      ]
     },
     "execution_count": 114,
     "metadata": {},
     "output_type": "execute_result"
    }
   ],
   "source": [
    "animali = ['cane', 'gatto', 'pellicano', 'scoiattolo', 'aquila']\n",
    "anni = [12,14,30,6,25]\n",
    "\n",
    "# scrivi qui\n",
    "\n",
    "animali = ['cane', 'gatto', 'pellicano', 'scoiattolo', 'aquila']\n",
    "anni = [12,14,30,6,25]\n",
    "\n",
    "\n",
    "coppie = []\n",
    "for i in range(len(animali)):\n",
    "    if anni[i] > 10 and anni[i] < 27 :\n",
    "        coppie.append([animali[i], anni[i]])\n",
    "coppie"
   ]
  },
  {
   "cell_type": "markdown",
   "metadata": {
    "colab_type": "text",
    "id": "itNZWFEYh4Oe"
   },
   "source": [
    "### Funzione zip\n",
    "\n",
    "La funzione `zip` prende due liste e ne restituisce una terza nuova, in cui mette coppie di elementi come tuple (che ricordiamo sono come le liste ma immutabilii), abbinando il primo elemento della prima lista a primo elemento della seconda lista, il secondo elemento della prima lista al secondo elemento della secondo e così via :\n"
   ]
  },
  {
   "cell_type": "code",
   "execution_count": 115,
   "metadata": {
    "colab": {
     "autoexec": {
      "startup": false,
      "wait_interval": 0
     },
     "base_uri": "https://localhost:8080/",
     "height": 34,
     "output_extras": [
      {
       "item_id": 1
      }
     ]
    },
    "colab_type": "code",
    "executionInfo": {
     "elapsed": 505,
     "status": "ok",
     "timestamp": 1519053345513,
     "user": {
      "displayName": "David Leoni",
      "photoUrl": "https://lh3.googleusercontent.com/a/default-user=s128",
      "userId": "102920557909426557439"
     },
     "user_tz": -60
    },
    "id": "FDHB64Q5olmu",
    "outputId": "50b8e861-9f06-4215-a7fb-d3ba21d8dfa4"
   },
   "outputs": [
    {
     "data": {
      "text/plain": [
       "[('a', 5), ('b', 2), ('c', 7)]"
      ]
     },
     "execution_count": 115,
     "metadata": {},
     "output_type": "execute_result"
    }
   ],
   "source": [
    "list(zip(['a','b','c'], [5,2,7]))"
   ]
  },
  {
   "cell_type": "markdown",
   "metadata": {
    "colab_type": "text",
    "id": "eWfvYP15oqwu"
   },
   "source": [
    "Perchè abbiamo messo anche `list` nell'esempio? Perchè `zip` ha lo stesso problema della map, cioè non ritorna subito una lista come vorremmo noi: \n"
   ]
  },
  {
   "cell_type": "code",
   "execution_count": 116,
   "metadata": {
    "colab": {
     "autoexec": {
      "startup": false,
      "wait_interval": 0
     },
     "base_uri": "https://localhost:8080/",
     "height": 34,
     "output_extras": [
      {
       "item_id": 1
      }
     ]
    },
    "colab_type": "code",
    "executionInfo": {
     "elapsed": 538,
     "status": "ok",
     "timestamp": 1519053414986,
     "user": {
      "displayName": "David Leoni",
      "photoUrl": "https://lh3.googleusercontent.com/a/default-user=s128",
      "userId": "102920557909426557439"
     },
     "user_tz": -60
    },
    "id": "jBWLb2vZjPKv",
    "outputId": "ebd86242-51e3-46f9-af11-85eb92aa54d1"
   },
   "outputs": [
    {
     "data": {
      "text/plain": [
       "<zip at 0x7fe538b573c8>"
      ]
     },
     "execution_count": 116,
     "metadata": {},
     "output_type": "execute_result"
    }
   ],
   "source": [
    "zip(['a','b','c'], [5,2,7])"
   ]
  },
  {
   "cell_type": "markdown",
   "metadata": {
    "colab_type": "text",
    "id": "kcbDFCyOjl7E"
   },
   "source": [
    "**✪✪✪ DA FARE**: Come vedi con la `zip` abbiamo ottenuto un risultato simile a quello del precedente esercizio, ma abbiamo tuple con parentesi tonde invece di liste con parentesi quadre. Riusciresti aggiungendo una `list comprehension` o una `map` ad ottenere lo stesso identico risultato?\n",
    "\n",
    "- per convertire una tupla in una lista, usa la funzione `list`:"
   ]
  },
  {
   "cell_type": "code",
   "execution_count": 117,
   "metadata": {
    "colab": {
     "autoexec": {
      "startup": false,
      "wait_interval": 0
     },
     "base_uri": "https://localhost:8080/",
     "height": 34,
     "output_extras": [
      {
       "item_id": 1
      }
     ]
    },
    "colab_type": "code",
    "executionInfo": {
     "elapsed": 573,
     "status": "ok",
     "timestamp": 1519054370413,
     "user": {
      "displayName": "David Leoni",
      "photoUrl": "https://lh3.googleusercontent.com/a/default-user=s128",
      "userId": "102920557909426557439"
     },
     "user_tz": -60
    },
    "id": "XNP1gY9roEbM",
    "outputId": "dfb74688-0995-47cc-870b-a5934fa0a23c"
   },
   "outputs": [
    {
     "data": {
      "text/plain": [
       "['ciao', 'soft', 'python']"
      ]
     },
     "execution_count": 117,
     "metadata": {},
     "output_type": "execute_result"
    }
   ],
   "source": [
    "list(  ('ciao', 'soft', 'python')  )  # all'interno abbiamo messo una tupla, delimitata da parentesi tonde"
   ]
  },
  {
   "cell_type": "code",
   "execution_count": 118,
   "metadata": {
    "colab": {
     "autoexec": {
      "startup": false,
      "wait_interval": 0
     }
    },
    "colab_type": "code",
    "id": "m_rDAV-Qnd86"
   },
   "outputs": [
    {
     "data": {
      "text/plain": [
       "[['cane', 12],\n",
       " ['gatto', 14],\n",
       " ['pellicano', 30],\n",
       " ['scoiattolo', 6],\n",
       " ['aquila', 25]]"
      ]
     },
     "execution_count": 118,
     "metadata": {},
     "output_type": "execute_result"
    }
   ],
   "source": [
    "animali = ['cane', 'gatto', 'pellicano', 'scoiattolo', 'aquila']\n",
    "anni = [12,14,30,6,25]\n",
    "\n",
    "# scrivi qui - soluzione con list comprehension\n",
    "\n",
    "[ list(c) for c in zip(animali, anni) ]\n"
   ]
  },
  {
   "cell_type": "code",
   "execution_count": 119,
   "metadata": {
    "colab": {
     "autoexec": {
      "startup": false,
      "wait_interval": 0
     },
     "base_uri": "https://localhost:8080/",
     "height": 104,
     "output_extras": [
      {
       "item_id": 1
      }
     ]
    },
    "colab_type": "code",
    "executionInfo": {
     "elapsed": 416,
     "status": "ok",
     "timestamp": 1519054478279,
     "user": {
      "displayName": "David Leoni",
      "photoUrl": "https://lh3.googleusercontent.com/a/default-user=s128",
      "userId": "102920557909426557439"
     },
     "user_tz": -60
    },
    "id": "z0PWbUtnnGAK",
    "outputId": "32110d5c-9e25-419d-9a66-88d6d1b789c1"
   },
   "outputs": [
    {
     "data": {
      "text/plain": [
       "[['cane', 12],\n",
       " ['gatto', 14],\n",
       " ['pellicano', 30],\n",
       " ['scoiattolo', 6],\n",
       " ['aquila', 25]]"
      ]
     },
     "execution_count": 119,
     "metadata": {},
     "output_type": "execute_result"
    }
   ],
   "source": [
    "animali = ['cane', 'gatto', 'pellicano', 'scoiattolo', 'aquila']\n",
    "anni = [12,14,30,6,25]\n",
    "\n",
    "# scrivi qui - soluzione con map\n",
    "\n",
    "animali = ['cane', 'gatto', 'pellicano', 'scoiattolo', 'aquila']\n",
    "anni = [12,14,30,6,25]\n",
    "list(map(list, zip(animali, anni)))"
   ]
  },
  {
   "cell_type": "markdown",
   "metadata": {
    "colab_type": "text",
    "id": "JS4ZOkHjqRE8"
   },
   "source": [
    "**✪✪✪ DA FARE**: svolgi l'esercizio precedente filtrando gli animali con aspettativa di vita superiore ai 13 anni, usando la `zip` e una list comprehension"
   ]
  },
  {
   "cell_type": "code",
   "execution_count": 120,
   "metadata": {
    "colab": {
     "autoexec": {
      "startup": false,
      "wait_interval": 0
     }
    },
    "colab_type": "code",
    "id": "lmNN4HYfnZXi"
   },
   "outputs": [
    {
     "data": {
      "text/plain": [
       "[['gatto', 14], ['pellicano', 30], ['aquila', 25]]"
      ]
     },
     "execution_count": 120,
     "metadata": {},
     "output_type": "execute_result"
    }
   ],
   "source": [
    "animali = ['cane', 'gatto', 'pellicano', 'scoiattolo', 'aquila']\n",
    "anni = [12,14,30,6,25]\n",
    "\n",
    "\n",
    "# scrivi qui\n",
    "\n",
    "animali = ['cane', 'gatto', 'pellicano', 'scoiattolo', 'aquila']\n",
    "anni = [12,14,30,6,25]\n",
    "\n",
    "[ list(c) for c in zip(animali, anni) if c[1] > 13 ]\n",
    "\n"
   ]
  },
  {
   "cell_type": "markdown",
   "metadata": {
    "colab_type": "text",
    "id": "gmluxI1sAFZn"
   },
   "source": [
    "**✪✪ DA FARE**: Date le due liste con nomi di animali e corrispondente aspettativa di vita in anni come sopra, scrivere nella cella sotto del codice che con un normale ciclo `for` generi un dizionario che associa alla specie l'aspettativa di vita, così:\n",
    "\n",
    "```python\n",
    "{\n",
    " 'aquila': 25,\n",
    " 'cane': 12,\n",
    " 'gatto': 14, \n",
    " 'pellicano': 30, \n",
    " 'scoiattolo': 6\n",
    "}\n",
    "```\n",
    "\n",
    "<div class=\"alert alert-warning\">\n",
    "\n",
    "**ATTENZIONE**: A seconda della versione esatta di Python che avete e di come il dizionario viene creato, l'ordine dei campi quando viene stampato potrebbe differire dall'esempio. Questo è perfettamente normale, perchè le chiavi di un dizionario sono da intendersi come un insieme senza ordine particolare. Se volete essere sicuri di trovare le chiavi stampate nell'ordine in cui sono state inserite, dovete usare un OrderedDict  \n",
    "\n",
    "</div>\n",
    "\n"
   ]
  },
  {
   "cell_type": "code",
   "execution_count": 121,
   "metadata": {
    "colab": {
     "autoexec": {
      "startup": false,
      "wait_interval": 0
     }
    },
    "colab_type": "code",
    "id": "8aomrV6KAFZn"
   },
   "outputs": [
    {
     "data": {
      "text/plain": [
       "{'aquila': 25, 'cane': 12, 'gatto': 14, 'pellicano': 30, 'scoiattolo': 6}"
      ]
     },
     "execution_count": 121,
     "metadata": {},
     "output_type": "execute_result"
    }
   ],
   "source": [
    "\n",
    "animali = ['cane', 'gatto', 'pellicano', 'scoiattolo', 'aquila']\n",
    "anni = [12,14,30,6,25]\n",
    "\n",
    "# scrivi qui\n",
    "\n",
    "d = {}\n",
    "for i in range(len(animali)):\n",
    "    d[animali[i]] = anni[i]\n",
    "d\n"
   ]
  },
  {
   "cell_type": "markdown",
   "metadata": {
    "colab_type": "text",
    "id": "y2Lk387pvSGo"
   },
   "source": [
    "Per ottenere lo stesso risultato in una linea, è possibile usare la funzione `zip` come fatto negli esercizi precedenti, e poi la funzione `dict` che crea un dizionario a partire dalla lista di coppie di elementi generata dallo `zip`:"
   ]
  },
  {
   "cell_type": "code",
   "execution_count": 122,
   "metadata": {
    "colab": {
     "autoexec": {
      "startup": false,
      "wait_interval": 0
     },
     "base_uri": "https://localhost:8080/",
     "height": 34,
     "output_extras": [
      {
       "item_id": 1
      }
     ]
    },
    "colab_type": "code",
    "executionInfo": {
     "elapsed": 524,
     "status": "ok",
     "timestamp": 1519055238687,
     "user": {
      "displayName": "David Leoni",
      "photoUrl": "https://lh3.googleusercontent.com/a/default-user=s128",
      "userId": "102920557909426557439"
     },
     "user_tz": -60
    },
    "id": "9DB78dCBcHPt",
    "outputId": "158d49f3-b0ff-4939-d42c-b8e4510cdf3b"
   },
   "outputs": [
    {
     "data": {
      "text/plain": [
       "{'aquila': 25, 'cane': 12, 'gatto': 14, 'pellicano': 30, 'scoiattolo': 6}"
      ]
     },
     "execution_count": 122,
     "metadata": {},
     "output_type": "execute_result"
    }
   ],
   "source": [
    "dict(zip(animali, anni))"
   ]
  },
  {
   "cell_type": "markdown",
   "metadata": {
    "colab_type": "text",
    "id": "jbX7XEmRAFZ8"
   },
   "source": [
    "**✪✪ DA FARE**: Data una lista di prodotti contenente a sua volta liste ciascuna con tipologia, marca e quantità di confezioni vendute:\n",
    "\n",
    "\n",
    "```python\n",
    "vendite = [\n",
    "    ['pomodori', 'Santini', 5],\n",
    "    ['pomodori', 'Cirio', 1],\n",
    "    ['pomodori', 'Mutti', 2],\n",
    "    ['cereali', 'Kelloggs', 3],\n",
    "    ['cereali', 'Choco Pops', 8],\n",
    "    ['cioccolata','Novi', 9],\n",
    "    ['cioccolata','Milka', 4],\n",
    "]\n",
    "\n",
    "```\n",
    "\n",
    "Usando un normale ciclo for, scrivere del codice Python nella cella sotto per creare un dizionario in cui le chiavi sono le tipologie e i valori sono la somma delle confezioni vendute per quella categoria:\n",
    "\n",
    "```python\n",
    "{\n",
    " 'cereali': 11, \n",
    " 'cioccolata': 13,\n",
    " 'pomodori': 8   \n",
    "}\n",
    "```\n",
    "\n",
    "\n",
    "**SUGGERIMENTO**: fare attenzione ai due casi, quando il dizionario da ritornare ancora non contiene la tipologia estratta dalla lista correntemente in esame e quando invece già la contiene:  "
   ]
  },
  {
   "cell_type": "code",
   "execution_count": 123,
   "metadata": {
    "colab": {
     "autoexec": {
      "startup": false,
      "wait_interval": 0
     }
    },
    "colab_type": "code",
    "id": "Si8Tt6WHAFZ8"
   },
   "outputs": [
    {
     "data": {
      "text/plain": [
       "{'cereali': 11, 'cioccolata': 13, 'pomodori': 8}"
      ]
     },
     "execution_count": 123,
     "metadata": {},
     "output_type": "execute_result"
    }
   ],
   "source": [
    "vendite = [\n",
    "    ['pomodori', 'Santini', 5],\n",
    "    ['pomodori', 'Cirio', 1],\n",
    "    ['pomodori', 'Mutti', 2],\n",
    "    ['cereali', 'Kelloggs', 3],\n",
    "    ['cereali', 'Choco Pops', 8],\n",
    "    ['cioccolata','Novi', 9],\n",
    "    ['cioccolata','Milka', 4],\n",
    "]\n",
    "\n",
    "# scrivi qui\n",
    "\n",
    "vendite = [\n",
    "    ['pomodori', 'Santini', 5],\n",
    "    ['pomodori', 'Cirio', 1],\n",
    "    ['pomodori', 'Mutti', 2],\n",
    "    ['cereali', 'Kelloggs', 3],\n",
    "    ['cereali', 'Choco Pops', 8],\n",
    "    ['cioccolata','Novi', 9],\n",
    "    ['cioccolata','Milka', 4],\n",
    "]\n",
    "\n",
    "\n",
    "d = {}\n",
    "for vendita in vendite:\n",
    "    if vendita[0] in d:\n",
    "        d[vendita[0]] += vendita[2]\n",
    "    else:\n",
    "        d[vendita[0]] = vendita[2]\n",
    "d"
   ]
  },
  {
   "cell_type": "markdown",
   "metadata": {},
   "source": [
    "## Come eseguire il codice\n",
    "\n",
    "La parte che segue non è strettamente fondamentale ai fini del corso, ma non appena vorrai per qualsiasi ragione eseguire codice Python _senza_ Jupyter ricordati di leggerla !\n",
    "\n",
    "### Eseguire codice in Jupyter\n",
    "\n",
    "L'editor di notebook Jupyter è uno strumento molto potente e flessibile, permette di eseguire codice Python, ma non solo, anche codice scritto in altri linguaggi di programmazione  (R, Bash, etc)  e linguaggi di formattazione (Markdown, Latex, etc).\n",
    "\n",
    "Quindi dobbiamo tenere presente che il codice Python che scriveremo nelle celle di questi notebook Jupyter (che sono file con estensione `.ipynb`) non viene certo magicamente compreso dal vostro computer. Sotto il cofano, vengono effettuate diverse trasformazioni che permettono al processore del vostro computer di capire che istruzioni volete che esegua. Riportiamo qua le principali trasformazioni che avvengono, a partire da Jupyter fino al processore:\n",
    "\n",
    "Cerchiamo di capire bene che succede quando eseguite una cella.\n",
    "\n",
    "1. Prima il notebook Jupyter guarda se avete scritto del _codice sorgente_ Python nella cella (invece che altri linguaggi come di programmazione come R, Bash o formattazione come Markdown ...). Di default Jupyter assume che il codice che stai scrivendo è Python. Supponiamo che ci sia il seguente _codice sorgente_:\n",
    "\n",
    "```python\n",
    "x = 3\n",
    "y = 5\n",
    "print(x + y)\n",
    "```\n",
    "\n",
    "**DA FARE**: Senza andare nel dettaglio del codice, prova a copia/incollarlo  nella cella qua sotto. Assicurandoti di avere il cursore nella cella, eseguila digitando `Control + Invio`. Quando la esegui dovrebbe apparire un `8` come risultato del calcolo. Il `# scrivi qui sotto` come tutte le righe che iniziano con un cancelletto `#` è solo un commento che verrà ignorato da Python:"
   ]
  },
  {
   "cell_type": "code",
   "execution_count": 124,
   "metadata": {},
   "outputs": [],
   "source": [
    "# scrivi qui sotto\n",
    "\n"
   ]
  },
  {
   "cell_type": "markdown",
   "metadata": {},
   "source": [
    "Se sei riuscito ad eseguire il codice, puoi fare i complimenti a Python! Ti ha permesso di eseguire un programma scritto in un linguaggio abbastanza compresibile _indipendentemente_ dal tuo sistema operativo (Windows, Mac Os X, Linux ...) e dal processore del tuo computer (x86, ARM, ...)! Non solo, l'editor di notebook Jupyter ti ha anche fatto la cortesia di mostrare il risultato nel tuo browser. \n"
   ]
  },
  {
   "cell_type": "markdown",
   "metadata": {},
   "source": [
    "\n",
    "### Python è un linguaggio d'alto livello\n",
    "\n",
    "Cerchiamo di capire meglio cosa succede quando esegui codice in una cella Jupyter.\n",
    "\n",
    "Al momento della richiesta d'esecuzione, Jupyter prende il testo scritto dalla cella, e lo manda al cosidetto _compilatore Python_ che lo  trasforma in _bytecode_. Il  _bytecode_  è una sequenza di istruzioni  più lunga e meno comprensibile per noi umani (**è solo un esempio, non serve che lo capisci !!**):\n",
    "\n",
    "``` \n",
    "  4           0 LOAD_CONST               1 (3)\n",
    "              3 STORE_FAST               0 (x)\n",
    "  5           6 LOAD_CONST               2 (5)\n",
    "              9 STORE_FAST               1 (y)\n",
    "  6          12 LOAD_GLOBAL              0 (print)\n",
    "             15 LOAD_CONST               3 (8)\n",
    "             ....\n",
    "```\n",
    "\n",
    "\n",
    "3. L'_interprete Python_ prende il _bytecode_ qua sopra una istruzione alla volta, e lo converte in _codice macchina_, che può essere effettivamente compreso dal processore (CPU) del computer. A noi il _codice macchina_ può sembrare ancora più lungo e più brutto del _bytecode_, ma il processore è contento e leggendolo produce i risultati del programma. Esempio di _codice macchina_ (**è solo un esempio, non serve che lo capisci !!**):\n",
    "\n",
    "``` \n",
    "mult:\n",
    "\tpush rbp\n",
    "\tmov rbp, rsp\n",
    "\tmov eax, 0\n",
    "mult_loop:\n",
    "\tcmp edi, 0\n",
    "\tje mult_end\n",
    "\tadd eax, esi\n",
    "\tsub edi, 1\n",
    "\tjmp mult_loop\n",
    "mult_end:\n",
    "\tpop rbp\n",
    "\tret\n",
    "```"
   ]
  },
  {
   "cell_type": "markdown",
   "metadata": {},
   "source": [
    "\n",
    "Riportiamo quanto detto qua sopra in questa tabella. Nella tabella esplicitiamo anche l'estensione dei file in cui possiamo scrivere i vari formati del codice. \n",
    "\n",
    "- Quelle che interessano a noi sono i notebook Jupyter  `.ipynb` ed i file di codice sorgente Python `.py`\n",
    "- I `.pyc` possono venire generati dal compilatore quando legge i file `.py`, ma a noi non interessano - non avremo mai la necessità di editarli. \n",
    "- Il codice macchina `asm` pure non ci interessa\n",
    "\n",
    "|   Strumento  | Linguaggio| File | esempio|\n",
    "|-----|-----------|---------|---|\n",
    "| Notebook Jupyter| Python| .ipynb||\n",
    "|    Compilatore Python | codice sorgente Python | .py |x = 3<br> y = 5<br> print(3 + 5 )|\n",
    "|    Interprete Python | bytecode Python |  .pyc|12 LOAD_GLOBAL              0 (print)<br>15 LOAD_CONST               3 (8) |\n",
    "| Processore (CPU)    | Codice macchina| .asm |cmp edi, 0<br>je mult_end|\n",
    "\n",
    "\n",
    "\n",
    "Adesso che abbiamo un idea di quello che succede, possiamo forse capire meglio l'affermazione che _Python è un linguaggio d'alto livello_, cioè sta alto nella tabella qua sopra: quando scriviamo codice Python, non ci interessa per nulla del _byte code_ o del _codice macchina_ che viene generato, ma **possiamo concentrarci sulla logica del programma**. \n",
    "Inoltre, il codice Python che scriviamo è **indipendente dall'architettura dei pc**: se abbiamo un interprete Python installato su un computer, si prenderà cura lui di convertire il codice d'alto livello nel codice macchina particolare di quella architettura, che include sistema operativo (Windows / Mac Os X / Linux) e processore (x86, ARM, PowerPC, etc). \n",
    "\n"
   ]
  },
  {
   "cell_type": "markdown",
   "metadata": {},
   "source": [
    "### Performance\n",
    "\n",
    "Tutto ha un prezzo. Se vogliamo poter scrivere programmi concentrandoci sulla _logica ad alto livello_ senza entrare nei dettagli di come viene interpretato dal processore, dobbiamo tipicamente rinunciare alle _performance_. Python essendo un linguaggio _interpretato_ ha il difetto di essere lento. Ma se abbiamo bisogno di _performance_,  che facciamo ? Per fortuna Python può essere esteso con codice scritto in _linguaggio C_, che tipicamente è molto più performante. Infatti, anche se voi non ve ne accorgerete, tante delle funzionalità che userete da Python, sotto sotto sono state scritte direttamente nel veloce linguaggio C. Se proprio abbiamo bisogno di performance (ma non in questo corso!) può valer la pena per noi prima scrivere un prototipo in Python e poi una volta stabilito che funziona compilarlo in _linguaggio C_ con [il compilatore Cython](http://cython.org/) e ottimizzare a mano il codice generato. \n",
    "\n"
   ]
  },
  {
   "cell_type": "markdown",
   "metadata": {},
   "source": [
    "### L'interprete Python\n",
    "\n",
    "In questo corso usiamo estensivamente l'editor di notebook Jupyter, perchè ci permette comodamente di eseguire codice Python, mostrare grafici e prendere note. Ma non è affatto obbligatorio per eseguire codice Python !\n",
    "\n",
    "Il modo più immediato (per quanto non molto pratico) per eseguire codice Python è usando l'interprete _da linea di comando_ nella cosiddetta _modalità interattiva_, cioè facendo in modo che attenda i comandi che verranno inseriti manualmente uno per uno. Questo uso _non_ richiede Jupyter, basta avere installato Python. Nota che in Mac OS X e parecchi sistemi linux come Ubuntu PYthon è installato di `default`, ma a volte può capitare che non sia la versione 3. Cerchiamo di capire che versione abbiamo installata noi. \n",
    "\n",
    "\n",
    "#### Apriamo la console di sistema\n",
    "\n",
    "Apri una console (in Windows: menu di sistema -> Anaconda Console,in Mac OS X: lancia il Terminale)\n",
    "\n",
    "Nella console trovi il cosidetto _prompt_ dei comandi. In questo _prompt_ puoi dare comandi direttamente al sistema operativo. \n",
    "\n",
    "<div class=\"alert alert-warning\">\n",
    "\n",
    "**ATTENZIONE**: I comandi che dai nel prompt, sono comandi nel linguaggio del sistema operativo che stai usando, **NON** nel linguaggio Python !!!!!\n",
    "</div>\n",
    "\n",
    "In Windows dovresti vedere qualcosa del genere: \n",
    "\n",
    "```\n",
    "C:\\Users\\David> \n",
    "```\n",
    "\n",
    "In Mac / Linux potrebbe essere una cosa simile a questa:\n",
    "\n",
    "```bash\n",
    "david@david-mio-computer:~$\n",
    "```\n",
    "\n"
   ]
  },
  {
   "cell_type": "markdown",
   "metadata": {},
   "source": [
    "### Il comando di sistema dir\n",
    "\n",
    "Nella console di sistema, prova per esempio a scrivere il comando `dir` e digitare il tasto Invio. Dovrebbe apparire un elenco di tutti i file nella cartella corrente  Nel mio caso appare una lista del genere:\n",
    "\n",
    "<div class=\"alert alert-warning\">\n",
    "\n",
    "\n",
    "**RIPETO**: in questo contesto `dir` è un comando _del sistema operativo_, **NON** di Python.\n",
    "\n",
    "</div>\n",
    "\n",
    "```\n",
    "C:\\Users\\David> dir\n",
    "Arduino                                         gotysc                                   program.wav\n",
    "a.txt                                           index.html                               Public\n",
    "CARTELLA                                        java0.log                                RegistroDocenteStandard(1).pdf\n",
    "backupsys                                       java1.log                                RegistroDocenteStandard.pdf\n",
    "BaseXData                                       java_error_in_IDEA_14362.log \n",
    "```\n",
    "\n"
   ]
  },
  {
   "cell_type": "markdown",
   "metadata": {},
   "source": [
    "#### Lanciamo l'interprete python\n",
    "\n",
    "Sempre nella console di sistema aperta, scrivi semplicemente il comando `python`:\n",
    "\n",
    "<div class=\"alert alert-warning\">\n",
    "\n",
    "**ATTENZIONE**: Se Python non parte, prova a scrivere `python3` con il `3` alla fine di `python`\n",
    "\n",
    "</div>\n",
    "\n",
    "\n",
    "```\n",
    "C:\\Users\\David> python\n",
    "```\n",
    "\n",
    "\n",
    "Dovresti veder apparire qualcosa di simile (ma molto probabilmente NON uguale). Nota che nella prima riga è contenuta la versione di Python. Se inizia con `2.`, allora non stai usando quella giusta per questo corso - in quel caso prova a uscire dall'interprete ([vedi come uscire](#Uscire-dall'interprete)) e poi scrivi `python3` \n",
    "\n",
    "```\n",
    "Python 3.5.2 (default, Nov 23 2017, 16:37:01) \n",
    "[GCC 5.4.0 20160609] on windows\n",
    "Type \"help\", \"copyright\", \"credits\" or \"license\" for more information.\n",
    ">>> \n",
    "```\n",
    "<div class=\"alert alert-warning\">\n",
    "\n",
    "**ATTENZIONE** al triplo maggiore `>>>`  all'inizio!\n",
    "\n",
    "Il triplo maggiore `>>>`  all'inizio indica che a differenza di prima adesso la console si sta aspettando comandi _in linguaggio Python_. Quindi, i comandi di sistema che abbiamo usato prima (`cd`, `dir`, ...) NON funzioneranno più, o daranno risultati diversi !!!!\n",
    "\n",
    "</div>\n",
    "\n",
    "Adesso la console si aspetta comandi Python, prova ad inserire `3 + 5` e poi premi `Invio`:\n",
    "\n",
    "<div class=\"alert alert-warning\">\n",
    "\n",
    "**ATTENZIONE** tu NON scrivere `>>>`, scrivi solo il comando che appare dopo  !\n",
    "\n",
    "</div>\n",
    "\n",
    "\n",
    "```\n",
    ">>> 3 + 5\n",
    "```\n",
    "\n",
    "Dovrebbe apparire la scritta `8`\n",
    "\n",
    "```\n",
    "8\n",
    "```\n",
    "\n",
    "Oltre ai calcoli, potremmo dire a Python di stampare qualcosa con la funzione `print(\"ciao\")`\n",
    "\n",
    "```\n",
    ">>> print(\"ciao\")\n",
    "ciao\n",
    "```\n",
    "\n"
   ]
  },
  {
   "cell_type": "markdown",
   "metadata": {},
   "source": [
    "#### Uscire dall'interprete\n",
    "\n",
    "Per uscire dall'interprete Python e tornare al prompt di sistema (per intenderci, quello che accetta i comandi `cd` e `dir`), scrivi il comando Python `exit()`.\n",
    "\n",
    "Dopo che sei effettivamente  uscito dall'interprete Python, il triplo `>>>` deve essere sparito (cioè non deve stare all'inizio della linea dove darai nuovi comandi)\n",
    "\n",
    "In Windows, dovresti vedere un risultato simile:\n",
    "\n",
    "```\n",
    ">>> exit()\n",
    "C:\\Users\\David>\n",
    "```\n",
    "\n",
    "in Mac / Linux potrebbe essere così:\n",
    "\n",
    "\n",
    "```\n",
    ">>> exit()\n",
    "david@mio-computer:~$\n",
    "```\n",
    "\n",
    "Adesso potresti tornare ad eseguire per il sistema operativo come `dir` e `cd`\n",
    "\n",
    "\n",
    "```\n",
    "C:\\Users\\David> dir\n",
    "Arduino                                         gotysc                                   program.wav\n",
    "a.txt                                           index.html                               Public\n",
    "CARTELLA                                        java0.log                                RegistroDocenteStandard(1).pdf\n",
    "backupsys                                       java1.log                                RegistroDocenteStandard.pdf\n",
    "BaseXData                                       java_error_in_IDEA_14362.log \n",
    "```\n",
    "\n",
    "\n",
    "\n"
   ]
  },
  {
   "cell_type": "markdown",
   "metadata": {},
   "source": [
    "#### Eseguiamo uno script\n",
    "\n",
    "In Jupyter usiamo file notebook con estensione `.ipynb`. Ma per editarli serve necessariamente Jupyter. \n",
    "\n",
    "Con i file `.py` (detti anche _script_) possiamo invece usare un qualsiasi editor di testo, e possiamo poi dire all'interprete di eseguire il file. Vediamo come si fa.\n",
    "\n",
    "1. Con un editor di testo (_Blocco note_ in Windows, o _TextEdit_ in Mac Os X) crea un file di testo `prova.py`. Supponiamo di crearlo all'interno di una cartella chiamata `CARTELLA`\n",
    "\n",
    "Copia nel file `prova.py` il codice \n",
    "\n",
    "```python\n",
    "x = 3\n",
    "y = 5\n",
    "print(3 + 5 )\n",
    "```\n",
    "\n",
    "\n",
    "2. Apri una console (in Windows: menu di sistema -> Anaconda Console,in Mac OS X: lancia il Terminale)\n",
    "\n",
    "La console apre il cosidetto _prompt_ dei comandi. In questo _prompt_ puoi dare comandi direttamente al sistema operativo (vedi [paragrafo precedente](#L'interprete-Python))\n",
    "\n",
    "<div class=\"alert alert-warning\">\n",
    "\n",
    "**ATTENZIONE**: I comandi che dai nel prompt, sono comandi nel linguaggio del sistema operativo che stai usando, **NON** nel linguaggio Python !!!!!\n",
    "</div>\n",
    "\n",
    "In Windows dovresti vedere qualcosa del genere: \n",
    "\n",
    "```\n",
    "C:\\Users\\David> \n",
    "```\n",
    "\n",
    "In Mac / Linux :\n",
    "\n",
    "```bash\n",
    "david@david-mio-computer:~$\n",
    "```\n",
    "\n",
    "Prova per esempio a scrivere il comando `dir` che mostra tutte i file nella cartella corrente  Nel mio caso appare una lista del genere:\n",
    "\n",
    "<div class=\"alert alert-warning\">\n",
    "\n",
    "\n",
    "**RIPETO**: in questo contesto `dir` è un comando _del sistema operativo_, **NON** di Python.\n",
    "\n",
    "</div>\n",
    "\n",
    "```\n",
    "C:\\Users\\David> dir\n",
    "Arduino                                         gotysc                                   program.wav\n",
    "a.txt                                           index.html                               Public\n",
    "CARTELLA                                        java0.log                                RegistroDocenteStandard(1).pdf\n",
    "backupsys                                       java1.log                                RegistroDocenteStandard.pdf\n",
    "BaseXData                                       java_error_in_IDEA_14362.log \n",
    "```\n",
    "\n",
    "Se noti, nella lista mi appare `CARTELLA`, dove ho messo `prova.py`. Per _entrare_ nella cartella dal _prompt_, devi usare il comando del sistema operativo `cd` come segue\n",
    "\n",
    "3. Per entrare in una cartella che si chiama CARTELLA, scrivere `cd CARTELLA`:\n",
    "\n",
    "```\n",
    "C:\\Users\\David> cd CARTELLA\n",
    "C:\\Users\\David\\CARTELLA>\n",
    "```\n",
    "\n",
    "\n",
    "**E se sbaglio cartella?**\n",
    "\n",
    "Se per caso entri nella cartella sbagliata, tipo `CAVOLATE`, per andare indietro di una cartella, scrivere `cd ..`  (NOTA: `cd` è seguito da spazio e DUE punti _uno dopo l'altro_ `..`)\n",
    "\n",
    "```\n",
    "C:\\Users\\David\\CAVOLATE> cd..\n",
    "C:\\Users\\David\\>\n",
    "```\n",
    "\n",
    "4. Assicurati di essere nella cartella che contiene `prova.py`. Se non lo sei, usa i comandi `cd` e `cd ..` come sopra  per navigare le cartelle.\n",
    "\n",
    "Vediamo cosa c'è in CARTELLA con il comando di sistema `dir`:\n",
    "\n",
    "<div class=\"alert alert-warning\">\n",
    "\n",
    "\n",
    "**RIPETO**: in questo contesto `dir` è un comando _del sistema operativo_, **NON** di Python.\n",
    "\n",
    "</div>\n",
    "\n",
    "\n",
    "```\n",
    "C:\\Users\\David\\CARTELLA> dir\n",
    "\n",
    "prova.py\n",
    "```\n",
    "\n",
    "`dir` ci sta dicendo che in `CARTELLA` c'è il nostro file `prova.py`.  \n",
    "\n"
   ]
  },
  {
   "cell_type": "markdown",
   "metadata": {},
   "source": [
    "\n",
    "\n",
    "5. Da dentro la cartella `CARTELLA`, scrivi `python prova.py`\n",
    "\n",
    "```\n",
    "C:\\Users\\David\\CARTELLA>python prova.py\n",
    "```\n",
    "\n",
    "<div class=\"alert alert-warning\">\n",
    "\n",
    "**ATTENZIONE**: Se Python non parte, prova a scrivere `python3 prova.py` con il `3` alla fine di `python`\n",
    "\n",
    "</div>\n",
    "\n",
    "\n",
    "Se tutto è andato bene, dovresti veder apparire \n",
    "\n",
    "```\n",
    "8\n",
    "C:\\Users\\David\\CARTELLA>\n",
    "```\n",
    "<div class=\"alert alert-warning\">\n",
    "\n",
    "**ATTENZIONE**: Dopo l'esecuzione di uno script in questo modo, la console si aspetta di nuovo comandi _di sistema_, **NON** comandi Python (infatti non dovrebbe esserci il triplo maggiore `>>>`)\n",
    "</div>\n",
    "\n"
   ]
  },
  {
   "cell_type": "markdown",
   "metadata": {},
   "source": [
    "### Editor per codice sorgente\n",
    "\n",
    "In questo corso lavoriamo su notebook Jupyter con estensione `.ipynb`, ma casomai dovessi editare  file sorgenti `.py` (ma non in questo corso), potresti usare  editor più tradizionali,  come [Spyder](https://www.spyder-ide.org/), [Visual Studio Code](https://code.visualstudio.com/Download) o [PyCharme Community Edition](https://www.jetbrains.com/pycharm/download/). \n",
    "\n",
    "Per questo corso può andar bene Spyder. Se avete Anaconda, lo trovate dentro l'Anaconda Navigator.\n",
    "\n",
    "Rispetto a Jupyter, questi editor permettono più agevolmente di _debuggare_ e _testare_ il codice. \n",
    "\n",
    "<div class=\"alert alert-info\">\n",
    "\n",
    "**INFO**: Quando lanciate Spyder, potrebbe richiedervi di effettuare un aggiornamento (_upgrade_), ma potete tranquillamente cliccare No. \n",
    "\n",
    "</div>\n",
    "\n",
    "Nella parte sinistra dell'editor vedete il codice del file `.py` che state editando. Tali file sono detti anche _script_ . Nella parte destra in basso si vede l'interprete di Python. Quando esegui lo script, è come immettere i comandi in quell'interprete. \n",
    "\n",
    "- Per eseguire tutto lo script:\tpremi `F5`\n",
    "- Per eseguire solo la linea corrente o la selezione: premi `F9`\n",
    " "
   ]
  },
  {
   "cell_type": "markdown",
   "metadata": {},
   "source": [
    "![Spyder ide](img/spyder-ide.png)"
   ]
  },
  {
   "cell_type": "markdown",
   "metadata": {},
   "source": [
    "\n",
    "## Riferimenti\n",
    "\n",
    "\n",
    "Riportiamo qua tutti i vari riferimenti elencati finora in questa introduzione. \n",
    "\n",
    "\n",
    "<div class=\"alert alert-warning\">\n",
    "\n",
    "**ATTENZIONE**: La versione di Pensare in Python online al momento manca delle figure (ma nel  PDF sono correttamente incluse)<br/>\n",
    "</div>\n",
    "\n",
    "- [Pensare in Python, Capitolo 1, Lo scopo del programma](https://davidleoni.github.io/ThinkPythonItalian/html/thinkpython2002.html) \n",
    "- [Pensare in Python, Capitolo 2, Variabili, istruzioni ed espressioni](https://davidleoni.github.io/ThinkPythonItalian/html/thinkpython2003.html)\n",
    "- [Pensare in Python, Capitolo 3, Funzioni](https://davidleoni.github.io/ThinkPythonItalian/html/thinkpython2004.html)\n",
    "    - [Nicola Cassetta, Lezione 4, Funzioni](http://ncassetta.altervista.org/Tutorial_Python/Lezione_04.html)\n",
    "- [Pensare in Python, Capitolo 5, Istruzioni condizionali e ricorsione](https://davidleoni.github.io/ThinkPythonItalian/html/thinkpython2006.html) Puoi saltare la ricorsione\n",
    "    - [Nicola Cassetta, Lezione 7,  Le istruzioni condizionali: if, else, elif](http://ncassetta.altervista.org/Tutorial_Python/Lezione_04.html)\n",
    "- [Pensare in Python, Capitolo 6, Funzioni produttive](https://davidleoni.github.io/ThinkPythonItalian/html/thinkpython2007.html) puoi fare tutto saltando la parte 6.5 sulla ricorsione.\n",
    "    **NOTA**: nel libro viene usato il termine strano 'funzioni produttive' per quelle funzioni che ritornano un valore, ed il termine ancora più strano 'funzioni vuote' per funzioni che non ritornano nulla ma fanno qualche effetto tipo stampa a video: ignora e dimentica questi termini !  \n",
    "    - [Nicola Cassetta, Lezione 4, Funzioni](http://ncassetta.altervista.org/Tutorial_Python/Lezione_04.html)\n",
    "- [Pensare in Python, Capitolo 7, Iterazione](https://davidleoni.github.io/ThinkPythonItalian/html/thinkpython2008.html)\n",
    "    - [Nicola Cassetta, Lezione 8, L'istruzione while](http://ncassetta.altervista.org/Tutorial_Python/Lezione_08.html)\n",
    "- [Pensare in Python, Capitolo 8, Stringhe](https://davidleoni.github.io/ThinkPythonItalian/html/thinkpython2009.html)\n",
    "    - [Pensare in Python, Capitolo 9, Giochi di parole](https://davidleoni.github.io/ThinkPythonItalian/html/thinkpython2010.html)\n",
    "    - [Nicola Cassetta, Lezione 2, Stringhe e dati booleani](http://ncassetta.altervista.org/Tutorial_Python/Lezione_02.html)\n",
    "    - per chi vuole fare text mining, guardare:\n",
    "        - Leggere prima parte su codifica Unicode [del capitolo Stringhe dal libro Immersione in Python](http://gpiancastelli.altervista.org/dip3-it/stringhe.html)        \n",
    "- [Pensare in Python, Capitolo 10, Liste](https://davidleoni.github.io/ThinkPythonItalian/html/thinkpython2011.html) Esercizi 10.1, 10.2, 10.3, 10.4, 10.5, 10.6, 10.7\n",
    "\n",
    "    - [Nicola Cassetta, Lezione 11, Liste](http://ncassetta.altervista.org/Tutorial_Python/Lezione_11.html) In particolare esercizio 11.1 e 11.2\n",
    "- [Pensare in Python, Capitolo 11, Dizionari](https://davidleoni.github.io/ThinkPythonItalian/html/thinkpython2012.html) \n"
   ]
  },
  {
   "cell_type": "code",
   "execution_count": null,
   "metadata": {},
   "outputs": [],
   "source": []
  }
 ],
 "metadata": {
  "celltoolbar": "Edit Metadata",
  "colab": {
   "collapsed_sections": [
    "WMaObpo6AFSP",
    "AUCCneEoAFTw",
    "F5GKXLjqAFYH",
    "-YkY_K8AAFUc",
    "poPVz2M0AFWT",
    "4JM8nJYtAFYx"
   ],
   "default_view": {},
   "name": "intro-exercises.ipynb",
   "provenance": [],
   "toc_visible": true,
   "version": "0.3.2",
   "views": {}
  },
  "kernelspec": {
   "display_name": "Python 3",
   "language": "python",
   "name": "python3"
  },
  "language_info": {
   "codemirror_mode": {
    "name": "ipython",
    "version": 3
   },
   "file_extension": ".py",
   "mimetype": "text/x-python",
   "name": "python",
   "nbconvert_exporter": "python",
   "pygments_lexer": "ipython3",
   "version": "3.5.2"
  },
  "toc": {
   "base_numbering": 1,
   "nav_menu": {},
   "number_sections": false,
   "sideBar": true,
   "skip_h1_title": false,
   "title_cell": "Table of Contents",
   "title_sidebar": "Contents",
   "toc_cell": false,
   "toc_position": {
    "height": "calc(100% - 180px)",
    "left": "10px",
    "top": "150px",
    "width": "347px"
   },
   "toc_section_display": true,
   "toc_window_display": true
  }
 },
 "nbformat": 4,
 "nbformat_minor": 1
}
