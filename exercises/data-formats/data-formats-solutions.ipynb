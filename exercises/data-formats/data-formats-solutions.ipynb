{
 "cells": [
  {
   "cell_type": "markdown",
   "metadata": {},
   "source": [
    "# Data formats - soluzioni\n",
    "\n",
    "\n"
   ]
  },
  {
   "cell_type": "markdown",
   "metadata": {},
   "source": [
    "**✪ 1.1 DA FARE**: Prova a riscrivere nella cella qua il blocco with appena visto, ed esegui la cella premendo Control-Invio. Riscrivi il codice con le dita, non con il copia e incolla ! Fai attenzione ad indentare correttamente con gli spazi il blocco."
   ]
  },
  {
   "cell_type": "code",
   "execution_count": 1,
   "metadata": {},
   "outputs": [
    {
     "name": "stdout",
     "output_type": "stream",
     "text": [
      "Leonardo\n",
      "\n"
     ]
    }
   ],
   "source": [
    "# riscrivi il codice\n",
    "with open('people-simple.txt', encoding='utf-8') as f:\n",
    "    line=f.readline()\n",
    "    print(line)"
   ]
  },
  {
   "cell_type": "markdown",
   "metadata": {},
   "source": [
    "**✪ 1.2 DA FARE**: immagino ti starai chiedendo che cosa è esattamente  quella `f`, e cosa faccia esattamente il metodo `readlines`. Quando ti trovi in queste situazioni, puoi aiutarti con le funzioni `type` e `help`. Questa volta, copia e incolla direttamente sempre lo stesso codice qua sotto, ma questa volta aggiungi scrivendo a mano dentro il blocco `with` i comandi: \n",
    "* `print(type(f))`\n",
    "* `print(help(f))`\n",
    "* `print(help(f.readline))`      Attenzione: ricordati il `f.` prima del readline !!\n",
    "\n",
    "Ogni volta che aggiungi qualcosa, prova ad eseguire con Control+Invio e vedere cosa succede."
   ]
  },
  {
   "cell_type": "code",
   "execution_count": 2,
   "metadata": {},
   "outputs": [
    {
     "name": "stdout",
     "output_type": "stream",
     "text": [
      "<class '_io.TextIOWrapper'>\n",
      "Help on built-in function readline:\n",
      "\n",
      "readline(size=-1, /) method of _io.TextIOWrapper instance\n",
      "    Read until newline or EOF.\n",
      "    \n",
      "    Returns an empty string if EOF is hit immediately.\n",
      "\n",
      "None\n",
      "Help on TextIOWrapper object:\n",
      "\n",
      "class TextIOWrapper(_TextIOBase)\n",
      " |  Character and line based layer over a BufferedIOBase object, buffer.\n",
      " |  \n",
      " |  encoding gives the name of the encoding that the stream will be\n",
      " |  decoded or encoded with. It defaults to locale.getpreferredencoding(False).\n",
      " |  \n",
      " |  errors determines the strictness of encoding and decoding (see\n",
      " |  help(codecs.Codec) or the documentation for codecs.register) and\n",
      " |  defaults to \"strict\".\n",
      " |  \n",
      " |  newline controls how line endings are handled. It can be None, '',\n",
      " |  '\\n', '\\r', and '\\r\\n'.  It works as follows:\n",
      " |  \n",
      " |  * On input, if newline is None, universal newlines mode is\n",
      " |    enabled. Lines in the input can end in '\\n', '\\r', or '\\r\\n', and\n",
      " |    these are translated into '\\n' before being returned to the\n",
      " |    caller. If it is '', universal newline mode is enabled, but line\n",
      " |    endings are returned to the caller untranslated. If it has any of\n",
      " |    the other legal values, input lines are only terminated by the given\n",
      " |    string, and the line ending is returned to the caller untranslated.\n",
      " |  \n",
      " |  * On output, if newline is None, any '\\n' characters written are\n",
      " |    translated to the system default line separator, os.linesep. If\n",
      " |    newline is '' or '\\n', no translation takes place. If newline is any\n",
      " |    of the other legal values, any '\\n' characters written are translated\n",
      " |    to the given string.\n",
      " |  \n",
      " |  If line_buffering is True, a call to flush is implied when a call to\n",
      " |  write contains a newline character.\n",
      " |  \n",
      " |  Method resolution order:\n",
      " |      TextIOWrapper\n",
      " |      _TextIOBase\n",
      " |      _IOBase\n",
      " |      builtins.object\n",
      " |  \n",
      " |  Methods defined here:\n",
      " |  \n",
      " |  __getstate__(...)\n",
      " |  \n",
      " |  __init__(self, /, *args, **kwargs)\n",
      " |      Initialize self.  See help(type(self)) for accurate signature.\n",
      " |  \n",
      " |  __new__(*args, **kwargs) from builtins.type\n",
      " |      Create and return a new object.  See help(type) for accurate signature.\n",
      " |  \n",
      " |  __next__(self, /)\n",
      " |      Implement next(self).\n",
      " |  \n",
      " |  __repr__(self, /)\n",
      " |      Return repr(self).\n",
      " |  \n",
      " |  close(self, /)\n",
      " |      Flush and close the IO object.\n",
      " |      \n",
      " |      This method has no effect if the file is already closed.\n",
      " |  \n",
      " |  detach(self, /)\n",
      " |      Separate the underlying buffer from the TextIOBase and return it.\n",
      " |      \n",
      " |      After the underlying buffer has been detached, the TextIO is in an\n",
      " |      unusable state.\n",
      " |  \n",
      " |  fileno(self, /)\n",
      " |      Returns underlying file descriptor if one exists.\n",
      " |      \n",
      " |      OSError is raised if the IO object does not use a file descriptor.\n",
      " |  \n",
      " |  flush(self, /)\n",
      " |      Flush write buffers, if applicable.\n",
      " |      \n",
      " |      This is not implemented for read-only and non-blocking streams.\n",
      " |  \n",
      " |  isatty(self, /)\n",
      " |      Return whether this is an 'interactive' stream.\n",
      " |      \n",
      " |      Return False if it can't be determined.\n",
      " |  \n",
      " |  read(self, size=-1, /)\n",
      " |      Read at most n characters from stream.\n",
      " |      \n",
      " |      Read from underlying buffer until we have n characters or we hit EOF.\n",
      " |      If n is negative or omitted, read until EOF.\n",
      " |  \n",
      " |  readable(self, /)\n",
      " |      Return whether object was opened for reading.\n",
      " |      \n",
      " |      If False, read() will raise OSError.\n",
      " |  \n",
      " |  readline(self, size=-1, /)\n",
      " |      Read until newline or EOF.\n",
      " |      \n",
      " |      Returns an empty string if EOF is hit immediately.\n",
      " |  \n",
      " |  seek(self, cookie, whence=0, /)\n",
      " |      Change stream position.\n",
      " |      \n",
      " |      Change the stream position to the given byte offset. The offset is\n",
      " |      interpreted relative to the position indicated by whence.  Values\n",
      " |      for whence are:\n",
      " |      \n",
      " |      * 0 -- start of stream (the default); offset should be zero or positive\n",
      " |      * 1 -- current stream position; offset may be negative\n",
      " |      * 2 -- end of stream; offset is usually negative\n",
      " |      \n",
      " |      Return the new absolute position.\n",
      " |  \n",
      " |  seekable(self, /)\n",
      " |      Return whether object supports random access.\n",
      " |      \n",
      " |      If False, seek(), tell() and truncate() will raise OSError.\n",
      " |      This method may need to do a test seek().\n",
      " |  \n",
      " |  tell(self, /)\n",
      " |      Return current stream position.\n",
      " |  \n",
      " |  truncate(self, pos=None, /)\n",
      " |      Truncate file to size bytes.\n",
      " |      \n",
      " |      File pointer is left unchanged.  Size defaults to the current IO\n",
      " |      position as reported by tell().  Returns the new size.\n",
      " |  \n",
      " |  writable(self, /)\n",
      " |      Return whether object was opened for writing.\n",
      " |      \n",
      " |      If False, write() will raise OSError.\n",
      " |  \n",
      " |  write(self, text, /)\n",
      " |      Write string to stream.\n",
      " |      Returns the number of characters written (which is always equal to\n",
      " |      the length of the string).\n",
      " |  \n",
      " |  ----------------------------------------------------------------------\n",
      " |  Data descriptors defined here:\n",
      " |  \n",
      " |  buffer\n",
      " |  \n",
      " |  closed\n",
      " |  \n",
      " |  encoding\n",
      " |      Encoding of the text stream.\n",
      " |      \n",
      " |      Subclasses should override.\n",
      " |  \n",
      " |  errors\n",
      " |      The error setting of the decoder or encoder.\n",
      " |      \n",
      " |      Subclasses should override.\n",
      " |  \n",
      " |  line_buffering\n",
      " |  \n",
      " |  name\n",
      " |  \n",
      " |  newlines\n",
      " |      Line endings translated so far.\n",
      " |      \n",
      " |      Only line endings translated during reading are considered.\n",
      " |      \n",
      " |      Subclasses should override.\n",
      " |  \n",
      " |  ----------------------------------------------------------------------\n",
      " |  Methods inherited from _IOBase:\n",
      " |  \n",
      " |  __del__(...)\n",
      " |  \n",
      " |  __enter__(...)\n",
      " |  \n",
      " |  __exit__(...)\n",
      " |  \n",
      " |  __iter__(self, /)\n",
      " |      Implement iter(self).\n",
      " |  \n",
      " |  readlines(self, hint=-1, /)\n",
      " |      Return a list of lines from the stream.\n",
      " |      \n",
      " |      hint can be specified to control the number of lines read: no more\n",
      " |      lines will be read if the total size (in bytes/characters) of all\n",
      " |      lines so far exceeds hint.\n",
      " |  \n",
      " |  writelines(self, lines, /)\n",
      " |  \n",
      " |  ----------------------------------------------------------------------\n",
      " |  Data descriptors inherited from _IOBase:\n",
      " |  \n",
      " |  __dict__\n",
      "\n",
      "None\n",
      "Leonardo\n",
      "\n"
     ]
    }
   ],
   "source": [
    "with open('people-simple.txt', encoding='utf-8') as f:\n",
    "    line=f.readline()\n",
    "    print(type(f))\n",
    "    print(help(f.readline))\n",
    "    print(help(f))\n",
    "    print(line)"
   ]
  },
  {
   "cell_type": "markdown",
   "metadata": {},
   "source": [
    "**✪ 1.3 DA FARE**: Di nuovo, riscrivi il blocco qua sopra nella cella sotto, ed esegui la cella con Control+Invio. Domanda: che succede se usi `strip()` invece di `rstrip()`? Ed `lstrip()`? Riesci a dedurre il significato di `r` e `l` ? Se non ci riesci, prova ad usare il comando python `help` chiamando `help(string.rstrip)` "
   ]
  },
  {
   "cell_type": "code",
   "execution_count": 3,
   "metadata": {},
   "outputs": [
    {
     "name": "stdout",
     "output_type": "stream",
     "text": [
      "Leonardo da Vinci\n"
     ]
    }
   ],
   "source": [
    "# riscrivi il codice\n",
    "with open('people-simple.txt', encoding='utf-8') as f:\n",
    "    name=f.readline().rstrip()\n",
    "    surname=f.readline().rstrip()\n",
    "    print(name + ' ' + surname)"
   ]
  },
  {
   "cell_type": "markdown",
   "metadata": {},
   "source": [
    "**✪ 1.4 DA FARE**: Di nuovo come prima, riscrivi nella cella qua sotto il codice col while appena spiegato, facendo MOLTA attenzione all'indentazione (per la linea del with esterno fai pure copia e incolla):"
   ]
  },
  {
   "cell_type": "code",
   "execution_count": 4,
   "metadata": {},
   "outputs": [
    {
     "name": "stdout",
     "output_type": "stream",
     "text": [
      "Leonardo da Vinci\n",
      "Sandro Botticelli\n",
      "Niccolò Macchiavelli\n"
     ]
    }
   ],
   "source": [
    "# riscrivi il codice col while interno\n",
    "\n",
    "with open('people-simple.txt', encoding='utf-8') as f:\n",
    "    while True:\n",
    "        line=f.readline()\n",
    "        if not line: break\n",
    "        name = line.rstrip()\n",
    "        surname=f.readline().rstrip()\n",
    "        print(name + ' ' + surname)"
   ]
  },
  {
   "cell_type": "markdown",
   "metadata": {},
   "source": [
    "**✪ 1.5 DA FARE**: Scrivi qua sotto la soluzione dell'esercizio 'People complex': "
   ]
  },
  {
   "cell_type": "code",
   "execution_count": 5,
   "metadata": {},
   "outputs": [
    {
     "name": "stdout",
     "output_type": "stream",
     "text": [
      "Leonardo da Vinci, 1452-04-15\n",
      "Sandro Botticelli, 1445-03-01\n",
      "Niccolò Macchiavelli, 1469-05-03\n"
     ]
    }
   ],
   "source": [
    "# scrivi il codice\n",
    "with open('people-complex.txt', encoding='utf-8') as f:\n",
    "    while True:\n",
    "        line=f.readline()\n",
    "        if not line: break\n",
    "        name = line.rstrip()[len(\"nome: \"):]\n",
    "        surname = f.readline().rstrip()[len(\"cognome: \"):]\n",
    "        born = f.readline().rstrip()[len(\"data di nascita: \"):]\n",
    "        print(name + ' ' + surname + ', ' + born)"
   ]
  },
  {
   "cell_type": "markdown",
   "metadata": {},
   "source": [
    "**✪✪✪ 1.6 DA FARE**: Scrivi qua sotto la soluzione per file a linee immersione-in-python-toc, e prova ad eseguirla premendo Control + Invio:"
   ]
  },
  {
   "cell_type": "code",
   "execution_count": 6,
   "metadata": {},
   "outputs": [
    {
     "name": "stdout",
     "output_type": "stream",
     "text": [
      "   Il vostro primo programma Python  38\n",
      "      Immersione!  38\n",
      "      Dichiarare funzioni  41\n",
      "         Argomenti opzionali e con nome  42\n",
      "      Scrivere codice leggibile  44\n",
      "         Stringhe di documentazione  44\n",
      "      Il percorso di ricerca di import  46\n",
      "      Ogni cosa è un oggetto  47\n"
     ]
    }
   ],
   "source": [
    "import html\n",
    "\n",
    "with open(\"immersione-in-python-toc.txt\", encoding='utf-8') as f:\n",
    "\n",
    "    while True:\n",
    "        line=f.readline()\n",
    "        if not line: break\n",
    "\n",
    "        line=f.readline().strip()\n",
    "        title = html.unescape(line[len(\"BookmarkTitle: \"):])\n",
    "        line=f.readline().strip()\n",
    "        level = int(line[len(\"BookmarkLevel: \"):])\n",
    "        line=f.readline().strip()\n",
    "        page = line[len(\"BookmarkPageNumber: \"):]\n",
    "        print((\"   \" * level) + title + \"  \" + page)"
   ]
  },
  {
   "cell_type": "markdown",
   "metadata": {},
   "source": [
    "## File CSV"
   ]
  },
  {
   "cell_type": "markdown",
   "metadata": {},
   "source": [
    "**DOMANDA 2.1**: se vogliamo sapere se un certo file da 100 terabyte contiene almeno 3 milioni di righe in cui è presente la parola 'ciao', dobbiamo mettere in RAM contemporaneamente tutte le righe?\n",
    "\n",
    "**RISPOSTA**: no, basta mettere una riga alla volta, e tenere una variabile per il conteggio "
   ]
  },
  {
   "cell_type": "markdown",
   "metadata": {},
   "source": [
    "**DOMANDA 2.2**: E se volessimo, partendo da un file da 100 terabyte crearne un'altro con gli stessi contenuti del primo file a cui a tutte le righe è aggiunta la parola 'ciao' alla fine, dovremmo mettere in RAM contemporaneamente tutte le righe del primo file? E quelle del secondo ?\n",
    "\n",
    "**RISPOSTA**: No, basta tenere in RAM una riga alla volta, che viene prima letta dal primo file e subito scritta nel secondo\n"
   ]
  },
  {
   "cell_type": "markdown",
   "metadata": {},
   "source": [
    "### CSV di esempio\n",
    "\n",
    "**✪ DA FARE 2.3**: Riscrivi nella cella qua sotto le istruzioni per leggere e stampare il csv, facendo come sempre attenzione all'indentazione: "
   ]
  },
  {
   "cell_type": "code",
   "execution_count": 7,
   "metadata": {},
   "outputs": [
    {
     "name": "stdout",
     "output_type": "stream",
     "text": [
      "Abbiamo appena letto una riga!\n",
      "['animale', 'anni']\n",
      "\n",
      "Abbiamo appena letto una riga!\n",
      "['cane', '12']\n",
      "\n",
      "Abbiamo appena letto una riga!\n",
      "['gatto', '14']\n",
      "\n",
      "Abbiamo appena letto una riga!\n",
      "['pellicano', '30']\n",
      "\n",
      "Abbiamo appena letto una riga!\n",
      "['scoiattolo', '6']\n",
      "\n",
      "Abbiamo appena letto una riga!\n",
      "['aquila', '25']\n",
      "\n"
     ]
    }
   ],
   "source": [
    "import csv\n",
    "with open('esempio-1.csv', encoding='utf-8', newline='') as f:\n",
    "    \n",
    "    # creiamo un oggetto 'lettore' che pescherà righe dal file\n",
    "    lettore = csv.reader(f, delimiter=',') \n",
    "    \n",
    "    # 'lettore' è un oggetto cosiddetto 'iterabile', cioè se usato in un for produce una \n",
    "    #  sequenza di righe dal csv \n",
    "    #  NOTA: qui ogni riga del file viene convertita in una una lista di stringhe Python!\n",
    "    for riga in lettore:\n",
    "        print('Abbiamo appena letto una riga!')        \n",
    "        print(riga)  # stamperà la variabile 'riga', che è una lista di stringhe\n",
    "        print('')    # stampa una stringa vuota, per separare in verticale"
   ]
  },
  {
   "cell_type": "markdown",
   "metadata": {},
   "source": [
    "**✪✪ DA FARE 2.4**: prova a mettere in una variabile `listona` una lista contenente tutte le righe estratte dal file, che quindi sarà una lista di liste che dovrebbe apparire così.\n",
    "\n",
    "```\n",
    "[['animale', ' anni'],\n",
    " ['cane', '12'],\n",
    " ['gatto', '14'],\n",
    " ['pellicano', '30'],\n",
    " ['scoiattolo', '6'],\n",
    " ['aquila', '25']]\n",
    "```\n",
    "\n",
    "**SUGGERIMENTO**: Comincia creando una lista vuota e poi aggiungendo elementi con il metodo `.append`"
   ]
  },
  {
   "cell_type": "code",
   "execution_count": 8,
   "metadata": {},
   "outputs": [
    {
     "name": "stdout",
     "output_type": "stream",
     "text": [
      "[['animale', 'anni'], ['cane', '12'], ['gatto', '14'], ['pellicano', '30'], ['scoiattolo', '6'], ['aquila', '25']]\n"
     ]
    }
   ],
   "source": [
    "# SOLUZIONE\n",
    "\n",
    "import csv\n",
    "with open('esempio-1.csv', encoding='utf-8', newline='') as f:\n",
    "    \n",
    "    # creiamo un oggetto 'lettore' che pescherà righe dal file\n",
    "    lettore = csv.reader(f, delimiter=',') \n",
    "    \n",
    "    # 'lettore' è un oggetto cosiddetto 'iterabile', cioè se usato in un for produce una \n",
    "    #  sequenza di righe dal csv \n",
    "    #  NOTA: qui ogni riga del file viene convertita in una una lista di stringhe Python!\n",
    "    listona = []\n",
    "    for riga in lettore:\n",
    "        listona.append(riga)\n",
    "    print(listona)"
   ]
  },
  {
   "cell_type": "markdown",
   "metadata": {},
   "source": [
    "**✪✪ DA FARE 2.5**: Se avrai notato, i numeri nella liste sono rappresentati come stringhe tipo `'12'` (nota gli apici), invece che come numeri interi Python (rappresentati senza apici), `12`:\n",
    "\n",
    "```\n",
    "Abbiamo appena letto una riga!\n",
    "['cane', '12']\n",
    "```\n",
    "\n",
    "Quindi, leggendo il file e usando dei normali cicli `for`, prova a creare nua variabile `listona` formata come questa, che\n",
    "\n",
    "- ha solo i dati, la riga con le intestazioni non è presente\n",
    "- i numeri sono rappresentati propriamente come interi\n",
    "\n",
    "```\n",
    "[['cane', 12], \n",
    " ['gatto', 14], \n",
    " ['pellicano', 30], \n",
    " ['scoiattolo', 6], \n",
    " ['aquila', 25]]\n",
    "```\n",
    "\n",
    "**SUGGERIMENTO 1**: per saltare una riga puoi usare l'istruzione `next(lettore)`\n",
    "\n",
    "**SUGGERIMENTO 2**: per convertire una stringa in un intero, si può usare per es. `int('25')`\n"
   ]
  },
  {
   "cell_type": "code",
   "execution_count": 9,
   "metadata": {},
   "outputs": [
    {
     "name": "stdout",
     "output_type": "stream",
     "text": [
      "[['cane', 12], ['gatto', 14], ['pellicano', 30], ['scoiattolo', 6], ['aquila', 25]]\n"
     ]
    }
   ],
   "source": [
    "#SOLUZIONE\n",
    "\n",
    "import csv\n",
    "with open('esempio-1.csv', encoding='utf-8', newline='') as f:    \n",
    "    lettore = csv.reader(f, delimiter=',')     \n",
    "    listona = []\n",
    "    next(lettore)\n",
    "    for riga in lettore:\n",
    "        listona.append([riga[0], int(riga[1])])\n",
    "    print(listona)"
   ]
  },
  {
   "cell_type": "markdown",
   "metadata": {},
   "source": [
    "### Cos'è esattamente `lettore`?\n",
    "\n",
    "**✪ DA FARE 2.6**: Se ti ricordi, nell'[introduzione](exercises/intro/intro_exercises.ipynb) a un certo punto ci siamo trovati nella stessa situazione, quando [abbiamo provato a stampare una map](http://softpython.readthedocs.io/it/latest/exercises/intro/intro-exercises.ipynb#Trasformazioni-con-le-map) . Che potremmo fare per risolvere la situazione? "
   ]
  },
  {
   "cell_type": "code",
   "execution_count": 10,
   "metadata": {},
   "outputs": [
    {
     "name": "stdout",
     "output_type": "stream",
     "text": [
      "[['animale', 'anni'], ['cane', '12'], ['gatto', '14'], ['pellicano', '30'], ['scoiattolo', '6'], ['aquila', '25']]\n"
     ]
    }
   ],
   "source": [
    "# SOLUZIONE\n",
    "\n",
    "import csv\n",
    "with open('esempio-1.csv', encoding='utf-8', newline='') as f:    \n",
    "    lettore = csv.reader(f, delimiter=',')     \n",
    "    print(list(lettore))"
   ]
  },
  {
   "cell_type": "markdown",
   "metadata": {},
   "source": [
    "**✪ DA FARE 2.7**: Prendendo la soluzione all'esercizio di prima, prova a chiamare `print(list(lettore))` due volte, in sequenza. Ottieni la stessa stampa entrambe le volte? \n"
   ]
  },
  {
   "cell_type": "code",
   "execution_count": 11,
   "metadata": {},
   "outputs": [
    {
     "name": "stdout",
     "output_type": "stream",
     "text": [
      "[['animale', 'anni'], ['cane', '12'], ['gatto', '14'], ['pellicano', '30'], ['scoiattolo', '6'], ['aquila', '25']]\n",
      "[]\n"
     ]
    }
   ],
   "source": [
    "# SOLUZIONE\n",
    "\n",
    "import csv\n",
    "with open('esempio-1.csv', encoding='utf-8', newline='') as f:    \n",
    "    lettore = csv.reader(f, delimiter=',')     \n",
    "    print(list(lettore))\n",
    "    print(list(lettore))"
   ]
  },
  {
   "cell_type": "markdown",
   "metadata": {},
   "source": [
    "**✪ DA FARE 2.8**: Prendendo la soluzione all'esercizio di prima (usando una sola print), prova qua sotto a spostare la print tutta a sinistra (eliminando gli spazi). Funziona ancora? "
   ]
  },
  {
   "cell_type": "code",
   "execution_count": 12,
   "metadata": {},
   "outputs": [],
   "source": [
    "import csv\n",
    "with open('esempio-1.csv', encoding='utf-8', newline='') as f:    \n",
    "    lettore = csv.reader(f, delimiter=',')         \n",
    "#print(list(lettore))    # COMMENTATA, PERCHE' LANCEREBBE ERRORE DI FILE CHIUSO\n",
    "                         # Non possiamo usare comandi che leggono il file fuori dal with !"
   ]
  },
  {
   "cell_type": "markdown",
   "metadata": {},
   "source": [
    "**✪✪✪ DA FARE 2.9**: Adesso che abbiamo capito un po' che tipo di bestia è `lettore`,  proviamo adesso a produrre questo risultato come già fatto in precedenza, ma usando una _list comprehension_ invece del del ciclo `for`:\n",
    "\n",
    "```\n",
    "[['cane', 12], \n",
    " ['gatto', 14], \n",
    " ['pellicano', 30], \n",
    " ['scoiattolo', 6], \n",
    " ['aquila', 25]]\n",
    "```\n",
    "\n",
    "* Se riesci, prova anche a scrivere tutta la trasformazione per creare `listona` in una sola riga, usando la funzione [itertools.islice](https://docs.python.org/3/library/itertools.html#itertools.islice) per saltare l'intestazione (per es. `itertools.islice(['A', 'B', 'C', 'D', 'E'], 2, None)` salta i primi due elementi e produce la sequenza C D E F G  - nel nostro caso gli elementi prodotti da `lettore` sarebbero righe)"
   ]
  },
  {
   "cell_type": "code",
   "execution_count": 13,
   "metadata": {},
   "outputs": [
    {
     "name": "stdout",
     "output_type": "stream",
     "text": [
      "[['cane', 12], ['gatto', 14], ['pellicano', 30], ['scoiattolo', 6], ['aquila', 25]]\n"
     ]
    }
   ],
   "source": [
    "# SOLUZIONE\n",
    "\n",
    "import csv\n",
    "import itertools\n",
    "with open('esempio-1.csv', encoding='utf-8', newline='') as f:    \n",
    "    lettore = csv.reader(f, delimiter=',')     \n",
    "    \n",
    "    listona = [[riga[0], int(riga[1])] for riga in itertools.islice(lettore, 1, None)]\n",
    "    print(listona)"
   ]
  },
  {
   "cell_type": "markdown",
   "metadata": {},
   "source": [
    "**✪ DA FARE 2.10**: Crea un file `mio-esempio.csv` nella stessa cartella dove c'è questo foglio Jupyter, copiandoci dentro il contenuto del file `esempio-1.csv`. Poi aggiungici una colonna `descrizione`, ricordandoti di separare il nome di colonna dalla precedente con una virgola. Come valori della colonna, metti nelle righe successive stringhe tipo `i cani camminano`, `i pellicani volano` a seconda dell'animale, etc ricordandoti di separarle dagli anni usando una virgola, così:  \n",
    "\n",
    "`cane,12,i cani camminano`\n",
    "\n",
    "Dopo di che, copia e incolla qua sotto il codice Python per caricare il file, mettendo il nome di file `mio-esempio.csv`, e prova a caricare il tutto, tanto per vedere se funziona:\n"
   ]
  },
  {
   "cell_type": "markdown",
   "metadata": {},
   "source": [
    "\n",
    "Il file dovrebbe apparire così. Occhio che non ci devono essere spazi dopo le virgole !\n",
    "\n",
    "```\n",
    "animale,anni,descrizione\n",
    "cane,12,i cani camminano\n",
    "gatto,14,i gatti camminano\n",
    "pellicano,30,i pellicani volano\n",
    "scoiattolo,6,gli scoiattoli volano\n",
    "aquila,25,le aquile volano\n",
    "```"
   ]
  },
  {
   "cell_type": "markdown",
   "metadata": {},
   "source": [
    "**✪ DA FARE 2.11**: Non tutti i CSV sono strutturati in modo uguale, e a volte quando scriviamo i csv o li importiamo alcuni accorgimenti sono necessari. Cominciamo a vedere che problemi potrebbero sorgere:\n",
    "\n",
    "- Nel file, prova a mettere uno o due spazi prima dei numeri, per es scrivi come sotto e guarda che succede:\n",
    "\n",
    "```\n",
    "cane, 12,i cani volano\n",
    "```\n",
    "\n",
    "Lo spazio viene importato o no? **SOLUZIONE**:  sì\n",
    "\n",
    "se convertiamo ad intero, lo spazio è un problema? **SOLUZIONE**: no\n",
    "\n",
    "- Modifica solo la descrizione dei cani da `i cani camminano` a `i cani camminano, ma non volano` e prova a rieseguire la cella che legge il file. Che succede? \n",
    "**SOLUZIONE**: python legge un elemento in più nella lista\n",
    "- Per ovviare al problema precedente, una soluzione che si può adottare nei CSV è circondare stringhe contenti virgole da doppi apici, così: `\"i cani camminano, ma non volano\"`. Prova a vedere se funziona **SOLUZIONE**: funziona \n"
   ]
  },
  {
   "cell_type": "markdown",
   "metadata": {},
   "source": [
    "**✪ 2.12 DA FARE**: scarica il CSV, e prova ad aprirlo in Excel, e / o in LibreOffice Calc. Vedi la à accentata corretta? Se no, prova ad impostare l'encoding (per es. in Calc si chiama 'Character set')  a 'Unicode (UTF-8)' \n"
   ]
  },
  {
   "cell_type": "markdown",
   "metadata": {},
   "source": [
    "**✪✪ DA FARE 2.13 ** Vediamo che nel dataset alla terza colonna ci sono i comuni dove ci sono gli impianti. Prova a estrarli in una variabile `comuni`. \n",
    "\n",
    "- Attenzione alla prima riga, non vogliamo che la scritta `Comune` appaia nel risultato\n",
    "- Se li metti in una lista, avrai un problema, perchè ci sono comuni che appaiono più volte. Ti conviene quindi creare un insieme vuoto con `set([])` e aggiungere elementi con il metodo `add`  (gli insiemi non hanno metodo `append`). Stampando `comuni` dovrebbe apparire qualcosa del genere: \n",
    "\n",
    "`{'Vigo di Fassa', 'Trento', 'Mezzocorona', 'Moena', 'Peio', 'Canazei', 'Tonadico'}`\n",
    "\n",
    "**NOTA**: gli insiemi non hanno ordine, potresti vedere un insieme ordinato diversamente !"
   ]
  },
  {
   "cell_type": "code",
   "execution_count": 14,
   "metadata": {},
   "outputs": [
    {
     "name": "stdout",
     "output_type": "stream",
     "text": [
      "{'Trento', 'Mezzocorona', 'Canazei', 'Tonadico', 'Vigo di Fassa', 'Moena', 'Peio'}\n"
     ]
    }
   ],
   "source": [
    "#SOLUZIONE\n",
    "\n",
    "import csv\n",
    "with open('impianti-bifuni.csv',  encoding='utf-8', newline='') as f:\n",
    "    \n",
    "    lettore = csv.reader(f, delimiter=',') \n",
    "    next(lettore)\n",
    "    comuni = set([])\n",
    "    for riga in lettore:\n",
    "        comuni.add(riga[2])\n",
    "    print(comuni)"
   ]
  },
  {
   "cell_type": "markdown",
   "metadata": {},
   "source": [
    "**✪✪ DA FARE 2.14**: prova a conteggiare in un dizionario quanti tipi di servizio vengono trovati. Dovresti ottenere un risultato così:\n",
    "\n",
    "```python\n",
    "{\n",
    " 'bistagionale': 8,\n",
    " 'annuale': 2\n",
    "}\n",
    "```\n",
    "**SUGGERIMENTO**:  'Servizio' è all'ultima posizione, per ottenerla dalla riga puoi usare l'indice `-1`\n",
    "\n"
   ]
  },
  {
   "cell_type": "code",
   "execution_count": 15,
   "metadata": {},
   "outputs": [
    {
     "name": "stdout",
     "output_type": "stream",
     "text": [
      "{'annuale': 2, 'bistagionale': 8}\n"
     ]
    }
   ],
   "source": [
    "#SOLUZIONE\n",
    "\n",
    "import csv\n",
    "with open('impianti-bifuni.csv',  encoding='utf-8', newline='') as f:\n",
    "    \n",
    "    lettore = csv.reader(f, delimiter=',') \n",
    "    \n",
    "    next(lettore)\n",
    "    servizi = {}\n",
    "    for riga in lettore:        \n",
    "        if riga[-1] in servizi:\n",
    "            servizi[riga[-1]] += 1\n",
    "        else:\n",
    "            servizi[riga[-1]] = 1 \n",
    "    print(servizi)"
   ]
  },
  {
   "cell_type": "markdown",
   "metadata": {},
   "source": [
    "### Il mistero delle opere paravalanghe \n",
    "\n",
    "**✪✪ 2.15 DA FARE**: `si + frane` è la stessa cosa di `si (frane)` ? Assumendo cha sia vero, prova a stampare righe modificate in cui per uniformare gli elementi uguali a `si (frane)` settandoli  a `si + frane`. Sia che conosci o non conosci Python, avendo guardato la soluzione della domanda precedente dovresti essere in grado di farlo (ricorda che per modificare un elemento di una lista all'indice `N` si scrive `lista[N] = NUOVO_VALORE` ) \n",
    "\n",
    "Scrivi qua sotto la soluzione"
   ]
  },
  {
   "cell_type": "code",
   "execution_count": 16,
   "metadata": {},
   "outputs": [
    {
     "name": "stdout",
     "output_type": "stream",
     "text": [
      "['Trento - Sardagna', 'B007e', 'Trento', 'Soc. Trentino Trasporti Esercizio', '08-apr-64', '18-mar-03', '1157', '400', '200', '13', '270', '#', 'annuale']\n",
      "['Mezzocorona - Monte', 'B008e', 'Mezzocorona', 'Soc.Fun. Monte Mezzocorona', '22-dic-04', '22-dic-04', '933', '623', '267', '7', '130', 'si + frane', 'annuale']\n",
      "['Alba - Ciampac', 'B014m', 'Canazei', 'Soc.Fun. Ciampac e Contrin', '20-mag-75', '27-nov-14', '1902', '658', '1496', '75', '840', '#', 'bistagionale']\n",
      "['Pecol - Col dei Rossi', 'B017m', 'Canazei', 'S.I.T.C.', '09-feb-79', '05-dic-97', '1313', '450', '1932', '76', '1100', 'si', 'bistagionale']\n",
      "['P. S.Pellegrino - Col Margherita', 'B022m', 'Moena', 'Soc.Fun. Col Margherita', '11-mar-82', '14-dic-01', '1395', '639', '1874', '97', '1330', '#', 'bistagionale']\n",
      "['Vigo di Fassa - Ciampedie', 'B026m', 'Vigo di Fassa', 'Soc.Catinaccio Impianti a Fune', '24-lug-85', '23-giu-05', '1523', '570', '1431', '101', '1300', '#', 'bistagionale']\n",
      "['Campitello - Col Rodella ', 'B027m', 'Canazei', 'S.I.T.C.', '06-dic-86', '07-lug-05', '2472', '984', '1411', '126', '1160', 'si', 'bistagionale']\n",
      "['Passo Pordoi - Sass Pordoi', 'B028m', 'Canazei', 'S.I.T.C.', '23-mag-95', '23-mag-95', '1487', '708', '2240', '65', '820', '#', 'bistagionale']\n",
      "['Col Verde - Rosetta', 'B029b', 'Tonadico', 'Imprese e Territorio Soc. Cons. s.r.l.', '21-lug-04', '21-lug-04', '1336', '674', '1935', '41', '420', 'si + M.G.', 'bistagionale']\n",
      "['Tarlenta - Rifugio Mantova', 'B030g', 'Peio', 'Soc.Fun. Peio', '30-dic-10', '30-dic-10', '2856', '992', '2001', '101', '860', 'si + frane', 'bistagionale']\n"
     ]
    }
   ],
   "source": [
    "with open('impianti-bifuni.csv', encoding='utf-8', newline='') as f:\n",
    "    reader = csv.reader(f, delimiter=',')\n",
    "    next(reader, None) # saltiamo la riga con l'intestazione\n",
    "    si_senza_accento = 0\n",
    "    si_con_accento = 0\n",
    "    for row in reader:\n",
    "        if 'si (frane)' in row[11]: # ricordati che l'indice delle colonne inizia da 0 \n",
    "            row[11] = 'si + frane'\n",
    "        print(row)"
   ]
  },
  {
   "cell_type": "markdown",
   "metadata": {},
   "source": [
    "**✪ 2.16 DA FARE**:  Quel 'M.G' non chiarissimo, come neanche se ci sia qualche differenza tra `frane` e `valanghe`. Capire il significato di cosa manipoliamo è importante, forse potresti scoprire il significato nella [pagina del dataset](http://dati.trentino.it/dataset/impianti-funiviari-in-esercizio-pubblico) ? \n"
   ]
  },
  {
   "cell_type": "markdown",
   "metadata": {},
   "source": [
    "\n",
    "Nella sezione _Descrizione Campi_ nella [pagina del dataset](http://dati.trentino.it/dataset/impianti-funiviari-in-esercizio-pubblico) vediamo scritto:\n",
    "\n",
    "```\n",
    "Opere paravalanghe = Presenza di opere paravalanghe o misure gestionali\n",
    "\n",
    "    Mis. Ges. / M.G. = Misure gestionali (piano P.I.S.T.E. o piano P.I.D.A.V.)\n",
    "    CLV = Commissione locale valanghe\n",
    "    Si = Presenza di opere paravalanghe\n",
    "```\n",
    "\n",
    "Scopriamo quindi che M.G. vuol dire 'Misure Gestionali'. Purtroppo, non ci dicono nulla sulle frane. Purtroppo, spesso accade che le descrizioni dei dati siano incomplete a si è costretti ad operare in regime di incertezza.\n"
   ]
  },
  {
   "cell_type": "markdown",
   "metadata": {},
   "source": [
    "**✪ 2.17 DA FARE**: Cosa significa quel cancelletto `#` ? Conosci un oggetto di Python che potrebbe rappresentarlo ? Riesci a sostituire tutti i cancelletti con quell'oggetto prima di stampare le liste?\n",
    "\n",
    "In Python, si usa l'oggetto `None` per identificare l'assenza di un valore. Pare quindi appropriato settare le liste in quella posizione con l'oggetto None:"
   ]
  },
  {
   "cell_type": "code",
   "execution_count": 17,
   "metadata": {},
   "outputs": [
    {
     "name": "stdout",
     "output_type": "stream",
     "text": [
      "['Trento - Sardagna', 'B007e', 'Trento', 'Soc. Trentino Trasporti Esercizio', '08-apr-64', '18-mar-03', '1157', '400', '200', '13', '270', None, 'annuale']\n",
      "['Mezzocorona - Monte', 'B008e', 'Mezzocorona', 'Soc.Fun. Monte Mezzocorona', '22-dic-04', '22-dic-04', '933', '623', '267', '7', '130', 'si (frane)', 'annuale']\n",
      "['Alba - Ciampac', 'B014m', 'Canazei', 'Soc.Fun. Ciampac e Contrin', '20-mag-75', '27-nov-14', '1902', '658', '1496', '75', '840', None, 'bistagionale']\n",
      "['Pecol - Col dei Rossi', 'B017m', 'Canazei', 'S.I.T.C.', '09-feb-79', '05-dic-97', '1313', '450', '1932', '76', '1100', 'si', 'bistagionale']\n",
      "['P. S.Pellegrino - Col Margherita', 'B022m', 'Moena', 'Soc.Fun. Col Margherita', '11-mar-82', '14-dic-01', '1395', '639', '1874', '97', '1330', None, 'bistagionale']\n",
      "['Vigo di Fassa - Ciampedie', 'B026m', 'Vigo di Fassa', 'Soc.Catinaccio Impianti a Fune', '24-lug-85', '23-giu-05', '1523', '570', '1431', '101', '1300', None, 'bistagionale']\n",
      "['Campitello - Col Rodella ', 'B027m', 'Canazei', 'S.I.T.C.', '06-dic-86', '07-lug-05', '2472', '984', '1411', '126', '1160', 'si', 'bistagionale']\n",
      "['Passo Pordoi - Sass Pordoi', 'B028m', 'Canazei', 'S.I.T.C.', '23-mag-95', '23-mag-95', '1487', '708', '2240', '65', '820', None, 'bistagionale']\n",
      "['Col Verde - Rosetta', 'B029b', 'Tonadico', 'Imprese e Territorio Soc. Cons. s.r.l.', '21-lug-04', '21-lug-04', '1336', '674', '1935', '41', '420', 'si + M.G.', 'bistagionale']\n",
      "['Tarlenta - Rifugio Mantova', 'B030g', 'Peio', 'Soc.Fun. Peio', '30-dic-10', '30-dic-10', '2856', '992', '2001', '101', '860', 'si + frane', 'bistagionale']\n"
     ]
    }
   ],
   "source": [
    "with open('impianti-bifuni.csv', newline='') as f:\n",
    "    reader = csv.reader(f, delimiter=',')\n",
    "    next(reader, None) # saltiamo la riga con l'intestazione\n",
    "    si_senza_accento = 0\n",
    "    si_con_accento = 0\n",
    "    for row in reader:\n",
    "        if '#' in row[11]: # ricordati che l'indice delle colonne inizia da 0 \n",
    "            row[11] = None\n",
    "        print(row)"
   ]
  },
  {
   "cell_type": "code",
   "execution_count": null,
   "metadata": {},
   "outputs": [],
   "source": []
  }
 ],
 "metadata": {
  "kernelspec": {
   "display_name": "Python 3",
   "language": "python",
   "name": "python3"
  },
  "language_info": {
   "codemirror_mode": {
    "name": "ipython",
    "version": 3
   },
   "file_extension": ".py",
   "mimetype": "text/x-python",
   "name": "python",
   "nbconvert_exporter": "python",
   "pygments_lexer": "ipython3",
   "version": "3.5.2"
  }
 },
 "nbformat": 4,
 "nbformat_minor": 2
}
