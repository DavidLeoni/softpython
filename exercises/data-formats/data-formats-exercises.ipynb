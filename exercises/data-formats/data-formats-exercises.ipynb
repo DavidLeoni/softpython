{
 "cells": [
  {
   "cell_type": "markdown",
   "metadata": {},
   "source": [
    "# Data formats - esercizi\n"
   ]
  },
  {
   "cell_type": "markdown",
   "metadata": {},
   "source": [
    "## 1. File a linee\n",
    "\n",
    "I file a linee tipicamente sono file di testo che contengono informazioni raggruppate per linee. Un esempio usando personaggi storici potrebbe essere un file così:\n",
    "\n",
    "```\n",
    "Leonardo\n",
    "da Vinci\n",
    "Sandro\n",
    "Botticelli\n",
    "Niccolò \n",
    "Macchiavelli\n",
    "```\n",
    "\n",
    "Si nota subito una regolarità: le prime due linee contengono i dati di Leonardo da Vinci, prima il nome e poi il cognome. Le successive due linee hanno invece i dati di Sandro Botticelli, di nuovo prima il nome e poi il cognome, e così via\n",
    "\n",
    "Un programma che potremo voler fare potrebbe essere leggere le linee e stampare a video nomi e cognomi così:\n",
    "\n",
    "```\n",
    "Leonardo da Vinci \n",
    "Sandro Botticelli\n",
    "Niccolò Macchiavelli\n",
    "```\n",
    "\n",
    "Per iniziare ad avere un'approssimazione del risultato finale, possiamo aprire il file, leggere solo la prima linea e stamparla:\n"
   ]
  },
  {
   "cell_type": "code",
   "execution_count": 1,
   "metadata": {},
   "outputs": [
    {
     "name": "stdout",
     "output_type": "stream",
     "text": [
      "Leonardo\n",
      "\n"
     ]
    }
   ],
   "source": [
    "with open('people-simple.txt', encoding='utf-8') as f:\n",
    "    line=f.readline()\n",
    "    print(line)\n"
   ]
  },
  {
   "cell_type": "markdown",
   "metadata": {},
   "source": [
    "Che è successo? Il comando `open` ci permette di aprire il file di testo dicendo a Python il percorso del file `'people-simple.txt'` e la codifica con cui è stato scritto (`encoding='utf-8'`). Per capire perchè abbiamo specificato la codifica, quando hai tempo leggi [Immersione in Python - Cap 4 - Stringhe](http://gpiancastelli.altervista.org/dip3-it/stringhe.html) e [Immersione in Python - Cap 11 - File](http://gpiancastelli.altervista.org/dip3-it/stringhe.html), **entrambe letture caldamente consigliate**. Per adesso, anche se ti pare misterioso basta che ti ricordi sempre di specificare l'encoding.\n",
    "\n",
    "Il `with` definisce un blocco con all'interno le istruzioni:\n",
    "\n",
    "```python\n",
    "    line=f.readline()\n",
    "    print(line)\n",
    "```\n",
    "\n",
    "Abbiamo usato il `with` per dire a Python che in ogni caso, anche se accadono errori, vogliamo che dopo aver usato il file, e cioè eseguito le istruzioni nel blocco interno (il `line=f.readline()` e `print(line)`) Python deve chiudere automaticamente il file. Chiudere propriamente un file evita di sprecare risorse di memoria e creare errori paranormali. Se vuoi evitare di andare a caccia di file zombie mai chiusi, ricordati sempre di aprire i file nei blocchi `with`!\n",
    "Inoltre, alla fine della prima riga  nella parte `as f:` abbiamo chiamato il file `f`, ma potevamo usare un qualcunque altro nome.\n",
    "\n",
    "<div class=\"alert alert-warning\">\n",
    "\n",
    "**ATTENZIONE**: Per indentare il codice, usa SEMPRE sequenze di 4 spazi bianchi. Sequenze di 2 soli spazi per quanto consentite non sono raccomandate. \n",
    "</div>\n",
    "\n",
    "<div class=\"alert alert-warning\">\n",
    "\n",
    "**ATTENZIONE**: I TAB _non_ sono sequenze di spazi bianchi ! Cerca di essere consistente nello stesso file, o usi solo sequenze di spazi bianchi (metodo preferito), o usi solo tab. Se premi TAB in Jupyter, verranno inseriti automaticamente 4 spazi bianchi (raccomandati), ma in altri editor potrebbe essere inserito un carattere speciale di tabulazione (da evitare). Per quanto noiosa questa distinzione ti possa apparire, ricordatela perchè potrebbe generare errori molto difficili da scoprire. \n",
    "</div>\n",
    "\n",
    "<div class=\"alert alert-warning\">\n",
    "\n",
    "**ATTENZIONE**: Nei comandi che creano blocchi come il `with`, ricordati di mettere sempre il carattere dei doppi punti `:` alla fine della linea !\n",
    "</div>\n"
   ]
  },
  {
   "cell_type": "markdown",
   "metadata": {},
   "source": [
    "Il comando \n",
    "\n",
    "```\n",
    "    line=f.readline()\n",
    "```\n",
    "mette nella variabile `line` l'intera linea, come una stringa. Attenzione: la stringa conterrà alla fine anche il carattere speciale di ritorno a capo !\n",
    "\n",
    "Ti chiederai da dove venga fuori quel `readline`. Come quasi tutto in Python, la nostra variabile `f` che rappresenta il file appena aperto è un oggetto, e ogni oggetto, a seconda del suo tipo, ha dei _metodi_ particolari che possiamo usare su di esso. In questo caso il metodo è `readline`.  [Clicca qua](http://softpython.readthedocs.io/it/latest/intro.html#Usare-metodi-degli-oggetti) per maggiori informazioni sugli oggetti.\n",
    "\n",
    "Il comando seguente stampa il contenuto della stringa:\n",
    "\n",
    "```python\n",
    "    print(line) \n",
    "```\n"
   ]
  },
  {
   "cell_type": "markdown",
   "metadata": {},
   "source": [
    "**1.1 DA FARE**: Prova a riscrivere nella cella qua il blocco with appena visto, ed esegui la cella premendo Control-Invio. Riscrivi il codice con le dita, non con il copia e incolla ! Fai attenzione ad indentare correttamente con gli spazi il blocco."
   ]
  },
  {
   "cell_type": "code",
   "execution_count": 2,
   "metadata": {
    "collapsed": true
   },
   "outputs": [],
   "source": [
    "# riscrivi il codice\n"
   ]
  },
  {
   "cell_type": "markdown",
   "metadata": {},
   "source": [
    "**1.2 DA FARE**: immagino ti starai chiedendo che cosa è esattamente  quella `f`, e cosa faccia esattamente il metodo `readlines`. Quando ti trovi in queste situazioni, puoi aiutarti con le funzioni `type` e `help`. Questa volta, copia e incolla direttamente sempre lo stesso codice qua sotto, ma questa volta aggiungi scrivendo a mano dentro il blocco `with` i comandi: \n",
    "* `print(type(f))`\n",
    "* `print(help(f))`\n",
    "* `print(help(f.readline))`      Attenzione: ricordati il `f.` prima del readline !!\n",
    "\n",
    "Ogni volta che aggiungi qualcosa, prova ad eseguire con Control+Invio e vedere cosa succede."
   ]
  },
  {
   "cell_type": "code",
   "execution_count": 3,
   "metadata": {
    "collapsed": true
   },
   "outputs": [],
   "source": [
    "# copia e incolla il codice"
   ]
  },
  {
   "cell_type": "markdown",
   "metadata": {},
   "source": [
    "Prima abbiamo messo il contenuto della prima linea nella variabile `line`, ora potremmo metterlo in una variabile dal nome più significativo, come `name`. Non solo, possiamo anche direttamente leggere la linea successiva nella variabile `surname` e poi stampare la concatenazione delle due:"
   ]
  },
  {
   "cell_type": "code",
   "execution_count": 4,
   "metadata": {},
   "outputs": [
    {
     "name": "stdout",
     "output_type": "stream",
     "text": [
      "Leonardo\n",
      " da Vinci\n",
      "\n"
     ]
    }
   ],
   "source": [
    "with open('people-simple.txt', encoding='utf-8') as f:\n",
    "    name=f.readline()\n",
    "    surname=f.readline()\n",
    "    print(name + ' ' + surname)\n"
   ]
  },
  {
   "cell_type": "markdown",
   "metadata": {},
   "source": [
    "**PROBLEMA !** La stampa mette comunque uno strano ritorno a capo. Come mai? Se ti ricordi, prima ho detto che `readline` legge il contenuto della linea in una stringa aggiungendo alla fine anche il carattere speciale di ritorno a capo. Per eliminarlo, puoi usare il comando `rstrip()`:"
   ]
  },
  {
   "cell_type": "code",
   "execution_count": 5,
   "metadata": {},
   "outputs": [
    {
     "name": "stdout",
     "output_type": "stream",
     "text": [
      "Leonardo da Vinci\n"
     ]
    }
   ],
   "source": [
    "with open('people-simple.txt', encoding='utf-8') as f:\n",
    "    name=f.readline().rstrip()\n",
    "    surname=f.readline().rstrip()\n",
    "    print(name + ' ' + surname)\n"
   ]
  },
  {
   "cell_type": "markdown",
   "metadata": {},
   "source": [
    "**1.3 DA FARE**: Di nuovo, riscrivi il blocco qua sopra nella cella sotto, ed esegui la cella con Control+Invio. Domanda: che succede se usi `strip()` invece di `rstrip()`? Ed `lstrip()`? Riesci a dedurre il significato di `r` e `l` ? "
   ]
  },
  {
   "cell_type": "code",
   "execution_count": 6,
   "metadata": {
    "collapsed": true
   },
   "outputs": [],
   "source": [
    "# riscrivi il codice"
   ]
  },
  {
   "cell_type": "markdown",
   "metadata": {},
   "source": [
    "Benissimo, abbiamo la prima linea ! Adesso possiamo leggere tutte le linee in sequenza. A tal fine possiamo usare un ciclo `while`:\n",
    "\n"
   ]
  },
  {
   "cell_type": "code",
   "execution_count": 7,
   "metadata": {},
   "outputs": [
    {
     "name": "stdout",
     "output_type": "stream",
     "text": [
      "Leonardo da Vinci\n",
      "Sandro Botticelli\n",
      "Niccolò Macchiavelli\n"
     ]
    }
   ],
   "source": [
    "with open('people-simple.txt', encoding='utf-8') as f:\n",
    "    while True:\n",
    "        line=f.readline()\n",
    "        if not line: break\n",
    "        name = line.rstrip()\n",
    "        surname=f.readline().rstrip()\n",
    "        print(name + ' ' + surname)"
   ]
  },
  {
   "cell_type": "markdown",
   "metadata": {},
   "source": [
    "Cosa abbiamo fatto? Per prima cosa, abbiamo aggiunto un ciclo `while` in un nuovo blocco\n",
    "\n",
    "<div class=\"alert alert-warning\">\n",
    "\n",
    "**Attenzione**: nel nuovo blocco while, dato che è già all'interno del blocco esterno `with`, le istruzioni sono indentate di 8 spazi e non più 4! Se per caso sbagli gli spazi, possono succedere brutti guai!\n",
    "</div>\n",
    "\n",
    "\n",
    "Nel blocco `while`, diciamo a Python di continuare il ciclo fin tanto che la condizione `True` è vera... mmm... ma `True` è sempre vera ! Quindi, il ciclo `while` sembra continuare all'infinito.. Quand'è che viene bloccato? \n",
    "\n",
    "Guarda le prime due istruzioni all'interno: \n",
    "\n",
    "```python\n",
    "        line=f.readline()\n",
    "        if not line: break\n",
    "```\n",
    "\n",
    "Quando leggiamo un file di testo, possiamo capire che il file è terminato quando la linea appena letta risulta vuota. In questo caso, prima viene letta una linea, e poi, nell'`if`, proviamo a considere `line` come un valore logico. Se la linea è effettivamente vuota, `line` verrà interpretato come `False` (ricordati [l'introduzione sui booleani](intro.ipynb#Booleani-(bool))). Dato che `not line` è il contrario di `line`, se `line` è considerato `False` allora `not line`  risulterà `True`, e quindi il comando `break` verrà eseguito dicendo a Python di interrompere il ciclo `while`.\n",
    "\n",
    "Se il file non è terminato, significa che c'è effettivamente qualcosa nella linea: la prima linea per un personaggio sarà necessariamente il nome, quindi conviene assegnarla alla variabile `name`, rimuovendo opportunamente il carattere a capo come prima:\n",
    "\n",
    "```python\n",
    "        name = line.rstrip()\n",
    "```\n",
    "\n"
   ]
  },
  {
   "cell_type": "markdown",
   "metadata": {},
   "source": [
    "**1.4 DA FARE**: Di nuovo come prima, riscrivi nella cella qua sotto il codice col while appena spiegato, facendo MOLTA attenzione all'indentazione (per la linea del with esterno fai pure copia e incolla):"
   ]
  },
  {
   "cell_type": "code",
   "execution_count": 8,
   "metadata": {
    "collapsed": true
   },
   "outputs": [],
   "source": [
    "# riscrivi il codice col while interno"
   ]
  },
  {
   "cell_type": "markdown",
   "metadata": {},
   "source": [
    "### Esercizio file a linee people-complex: \n",
    "\n",
    "Guarda il file `people-complex.txt`, più complesso:\n",
    "```\n",
    "nome: Leonardo\n",
    "cognome: da Vinci\n",
    "data di nascita: 1452-04-15\n",
    "nome: Sandro\n",
    "cognome: Botticelli\n",
    "data di nascita: 1445-03-01\n",
    "nome: Niccolò \n",
    "cognome: Macchiavelli\n",
    "data di nascita: 1469-05-03\n",
    "```\n",
    "\n",
    "Supponendo di leggere il file per voler stampare questo output, come faresti ?\n",
    "\n",
    "```\n",
    "Leonardo da Vinci, 1452-04-15\n",
    "Sandro Botticelli, 1445-03-01\n",
    "Niccolò Macchiavelli, 1469-05-03\n",
    "```"
   ]
  },
  {
   "cell_type": "markdown",
   "metadata": {},
   "source": [
    "\n",
    "**Suggerimento 1**: Per ottenere dalla stringa `'abcde'` la sottostringa `'cde'`, che inizia all'indice 2,  puoi usare l'operatore di parentesi quadre, indicando l'indice di inizio seguito dai doppi punti `:` \n"
   ]
  },
  {
   "cell_type": "code",
   "execution_count": 9,
   "metadata": {},
   "outputs": [
    {
     "data": {
      "text/plain": [
       "'cde'"
      ]
     },
     "execution_count": 9,
     "metadata": {},
     "output_type": "execute_result"
    }
   ],
   "source": [
    "x = 'abcde'\n",
    "x[2:]"
   ]
  },
  {
   "cell_type": "code",
   "execution_count": 10,
   "metadata": {},
   "outputs": [
    {
     "data": {
      "text/plain": [
       "'de'"
      ]
     },
     "execution_count": 10,
     "metadata": {},
     "output_type": "execute_result"
    }
   ],
   "source": [
    "x[3:]"
   ]
  },
  {
   "cell_type": "markdown",
   "metadata": {},
   "source": [
    "**Suggerimento 2**: Per sapere la lunghezza di una stringa, usa la funzione `len`: "
   ]
  },
  {
   "cell_type": "code",
   "execution_count": 11,
   "metadata": {},
   "outputs": [
    {
     "data": {
      "text/plain": [
       "5"
      ]
     },
     "execution_count": 11,
     "metadata": {},
     "output_type": "execute_result"
    }
   ],
   "source": [
    "len('abcde')"
   ]
  },
  {
   "cell_type": "markdown",
   "metadata": {},
   "source": [
    "**1.5 DA FARE**: Scrivi qua sotto la soluzione per esercizio 'People complex': "
   ]
  },
  {
   "cell_type": "code",
   "execution_count": 12,
   "metadata": {
    "collapsed": true
   },
   "outputs": [],
   "source": [
    "# scrivi il codice"
   ]
  },
  {
   "cell_type": "markdown",
   "metadata": {},
   "source": [
    "### Esercizio file a linee immersione-in-python-toc\n",
    "\n",
    "Questo esercizio è più difficile, se sei alle prime armi puoi saltarlo e passare ai CSV.\n",
    "\n",
    "Il libro Immersione in Python in Italiano è bello e ti fornisce un PDF, che però ha un problema: se provi a stamparlo scoprirai che manca l'indice. Senza perderci d'animo, abbiamo trovato un programmino che ci ha estratto i titoli in un file come segue, che però come scoprirai non è esattamente bello da vedere. Dato che siamo Python ninja, abbiamo deciso di trasformare i titoli grezzi in una [tabella dei contenuti vera e propria](http://softpython.readthedocs.io/it/latest/_static/toc-immersione-in-python-3.txt). Sicuramente ci sono metodi più furbi per compiere questa operazione, come caricare il pdf in Python con una apposita libreria per i pdf, ma pareva un esercizio interessante.\n",
    "\n",
    "Ti viene consegnato il file immersione-in-python-toc.txt:\n",
    "\n",
    "```\n",
    "BookmarkBegin\n",
    "BookmarkTitle: Il vostro primo programma Python\n",
    "BookmarkLevel: 1\n",
    "BookmarkPageNumber: 38\n",
    "BookmarkBegin\n",
    "BookmarkTitle: Immersione!\n",
    "BookmarkLevel: 2\n",
    "BookmarkPageNumber: 38\n",
    "BookmarkBegin\n",
    "BookmarkTitle: Dichiarare funzioni\n",
    "BookmarkLevel: 2\n",
    "BookmarkPageNumber: 41\n",
    "BookmarkBeginint\n",
    "BookmarkTitle: Argomenti opzionali e con nome\n",
    "BookmarkLevel: 3\n",
    "BookmarkPageNumber: 42\n",
    "BookmarkBegin\n",
    "BookmarkTitle: Scrivere codice leggibile\n",
    "BookmarkLevel: 2\n",
    "BookmarkPageNumber: 44\n",
    "BookmarkBegin\n",
    "BookmarkTitle: Stringhe di documentazione\n",
    "BookmarkLevel: 3\n",
    "BookmarkPageNumber: 44\n",
    "BookmarkBegin\n",
    "BookmarkTitle: Il percorso di ricerca di import\n",
    "BookmarkLevel: 2\n",
    "BookmarkPageNumber: 46\n",
    "BookmarkBegin\n",
    "BookmarkTitle: Ogni cosa &#232; un oggetto\n",
    "BookmarkLevel: 2\n",
    "BookmarkPageNumber: 47\n",
    "```\n",
    "\n",
    "Scrivi un programma python per stampare e video il seguente output:\n",
    "\n",
    "```\n",
    "   Il vostro primo programma Python  38\n",
    "      Immersione!  38\n",
    "      Dichiarare funzioni  41\n",
    "         Argomenti opzionali e con nome  42\n",
    "      Scrivere codice leggibile  44\n",
    "         Stringhe di documentazione  44\n",
    "      Il percorso di ricerca di import  46\n",
    "      Ogni cosa è un oggetto  47\n",
    "```\n",
    "\n",
    "Per questo esercizio, dovrai inserire nell'output degli spazi artificiali, in una quantità determinata dalle righe `BookmarkLevel`. \n",
    "\n",
    "**DOMANDA**: che cos'è  lo strano valore `&#232;` alla fine del file originale ? Dobbiamo riportarlo nell'output ? \n",
    "\n",
    "**SUGGERIMENTO 1**: Per convertire una stringa in numero intero, usa la funzione `int`:\n"
   ]
  },
  {
   "cell_type": "code",
   "execution_count": 13,
   "metadata": {},
   "outputs": [],
   "source": [
    "x = '5'"
   ]
  },
  {
   "cell_type": "code",
   "execution_count": 14,
   "metadata": {},
   "outputs": [
    {
     "data": {
      "text/plain": [
       "'5'"
      ]
     },
     "execution_count": 14,
     "metadata": {},
     "output_type": "execute_result"
    }
   ],
   "source": [
    "x"
   ]
  },
  {
   "cell_type": "code",
   "execution_count": 15,
   "metadata": {},
   "outputs": [
    {
     "data": {
      "text/plain": [
       "5"
      ]
     },
     "execution_count": 15,
     "metadata": {},
     "output_type": "execute_result"
    }
   ],
   "source": [
    "int(x)"
   ]
  },
  {
   "cell_type": "markdown",
   "metadata": {},
   "source": [
    "\n",
    "<div class=\"alert alert-warning\">\n",
    "\n",
    "**Attenzione**: `int(x)` ritorna un valore, e non modifica mai l'argomento `x` !  \n",
    "</div>\n"
   ]
  },
  {
   "cell_type": "markdown",
   "metadata": {},
   "source": [
    "**SUGGERIMENTO 2**: Per sostituire un sottostringa in una stringa, si può usare la funzione replace:"
   ]
  },
  {
   "cell_type": "code",
   "execution_count": 16,
   "metadata": {},
   "outputs": [
    {
     "data": {
      "text/plain": [
       "'abHELLOe'"
      ]
     },
     "execution_count": 16,
     "metadata": {},
     "output_type": "execute_result"
    }
   ],
   "source": [
    "x = 'abcde'\n",
    "x.replace('cd', 'HELLO' )"
   ]
  },
  {
   "cell_type": "markdown",
   "metadata": {},
   "source": [
    "**SUGGERIMENTO 4**: Finchè c'è una sola sequenza da sostituire, va bene il replace, ma se avessimo un milione di sequenze orribili come `&gt;`, `&#62;`, `&x3e;`, che faremmo? Da bravi data cleaner, possiamo riconoscere che sono [sequenze di escape HTML](https://corsidia.com/materia/web-design/caratterispecialihtml), perciò potremmo usare dei  metodi specifici per queste sequenze come [html.unescape](https://docs.python.org/3/library/html.html#html.unescape). Provalo invece del replace e guarda se funziona! \n",
    "\n",
    "NOTA: Prima di usare il metodo `html.unescape`, importa il modulo `html` con il comando: \n",
    "\n",
    "```python\n",
    "import html\n",
    "```"
   ]
  },
  {
   "cell_type": "markdown",
   "metadata": {},
   "source": [
    "**SUGGERIMENTO 3**: Per scrivere _n_ copie di un carattere, usa `*` come qua:"
   ]
  },
  {
   "cell_type": "code",
   "execution_count": 17,
   "metadata": {},
   "outputs": [
    {
     "data": {
      "text/plain": [
       "'bbb'"
      ]
     },
     "execution_count": 17,
     "metadata": {},
     "output_type": "execute_result"
    }
   ],
   "source": [
    "\"b\" * 3"
   ]
  },
  {
   "cell_type": "code",
   "execution_count": 18,
   "metadata": {},
   "outputs": [
    {
     "data": {
      "text/plain": [
       "'bbbbbbb'"
      ]
     },
     "execution_count": 18,
     "metadata": {},
     "output_type": "execute_result"
    }
   ],
   "source": [
    "\"b\" * 7"
   ]
  },
  {
   "cell_type": "markdown",
   "metadata": {},
   "source": [
    "**1.6 DA FARE**: Scrivi qua sotto la soluzione per file a linee immersione-in-python-toc, e prova ad eseguirla premendo Control + Invio:"
   ]
  },
  {
   "cell_type": "code",
   "execution_count": 19,
   "metadata": {
    "collapsed": true
   },
   "outputs": [],
   "source": [
    "#scrivi la soluzione"
   ]
  },
  {
   "cell_type": "markdown",
   "metadata": {},
   "source": [
    "## File CSV\n",
    "\n",
    "Ci possono essere vari formati per i file tabulari, tra cui sicuramente conoscerai gli Excel (`.xls` o `.xslx`). Peccato che se vuoi processare dati programmaticamente, faresti meglio ad evitarli e preferire se possibile i file CSV, letteralmente 'Comma separated Value'. Per capire il perchè, quando hai tempo potresti guardare [questo tutorial](https://docs.google.com/presentation/d/1RPiRFm0g9QtSiC3aO32aFldSYThl11CB9HI_HHG6hvY/) in cui si spiega a produttori di dati (in questo caso, dipendenti pubblici) come trasformare Excel in CSV, evidenziando i vari grattacapi che un Excel può presentare a chi poi riusa i dati. \n",
    "\n",
    "Oggi proveremo ad aprire qualche CSV, prendendo in considerazione i possibili problemi che possono insorgere. I CSV non sono la panacea per tutti i mali, ma offrono maggiore controllo sulla lettura e tipicamente se saltano fuori errori di conversione è perchè siamo stati noi a sbagliare, e non perchè la libreria di lettura ha magari deciso da sola di  scambiare nelle date i giorni con i mesi.\n"
   ]
  },
  {
   "cell_type": "markdown",
   "metadata": {},
   "source": [
    "Di solito sui cataloghi open data come il popolare CKAN (es [dati.trentino.it](http://dati.trentino.it/),  [data.gov.uk](https://data.gov.uk/), [European data portal](https://www.europeandataportal.eu/)) i file sono organizzati in _dataset_, che sono collezioni di _risorse_: ogni risorsa contiene direttamente un file dentro al catalogo (tipicamente CSV, JSON o XML) oppure un link al file vero e proprio su un server di proprietà dell'organizzazione che ha creato i dati.\n",
    "\n",
    "### CSV Impianti funiviari \n",
    "\n",
    "Il primo dataset che guarderemo sarà 'Impianti funiviari in esercizio pubblico:\n",
    "\n",
    "http://dati.trentino.it/dataset/impianti-funiviari-in-esercizio-pubblico\n",
    "\n",
    "Qua trovete alcune informazioni generiche sul dataset, di importante notate la licenza che è [Creative Commons Zero v1.0](http://creativecommons.org/publicdomain/zero/1.0/deed.it), praticamente è la licenza più permissiva che possiate trovate, vi garantisce la certezza di poter riusare i dati senza alcun vincolo.\n",
    "\n",
    "All'interno della pagina del dataset, è presente una  risorsa chiamata \"Elenco degli impianti bifuni con movimento a va e vieni\":\n",
    "\n",
    "http://dati.trentino.it/dataset/impianti-funiviari-in-esercizio-pubblico/resource/ceb488a9-696c-4b9d-b8c8-6ca727863931\n",
    "\n",
    "Alla della pagina della risorsa, troviamo un link ad un file CSV (ci si arriva anche cliccando sul bottone blu 'Vai alla risorsa'): \n",
    "\n",
    "http://www.sif.provincia.tn.it/binary/pat_sif/opendata/Elenco_degli_impianti_bifuni_con_movimento_a_va_e_vieni_aggiornato_a_marzo_2015.1435662007.csv\n",
    "\n",
    "\n",
    "Se apro il CSV in una tab di Firefox, sul mio computer che ha sistema operativo Linux, vedo una cosa del genere:\n",
    "```\n",
    "Denominazione impianto,Codice S.I.F.,Comune,Esercente,Data Primo collaudo,Data Ultimo Collaudo,Lunghezza Inclinata (m),Dislivello (m),Stazione di Valle (m.s.l.m.),CapacitÃ  Veicolo (pers.),Portata Max (Pers/h),Opere Paravalanghe ,Servizio\n",
    "Trento - Sardagna,B007e,Trento,Soc. Trentino Trasporti Esercizio,08-apr-64,18-mar-03,1157,400,200,13,270,#,annuale\n",
    "Mezzocorona - Monte,B008e,Mezzocorona,Soc.Fun. Monte Mezzocorona,22-dic-04,22-dic-04,933,623,267,7,130,si (frane),annuale\n",
    "Alba - Ciampac,B014m,Canazei,Soc.Fun. Ciampac e Contrin,20-mag-75,27-nov-14,1902,658,1496,75,840,#,bistagionale\n",
    "Pecol - Col dei Rossi,B017m,Canazei,S.I.T.C.,09-feb-79,05-dic-97,1313,450,1932,76,1100,si,bistagionale\n",
    "P. S.Pellegrino - Col Margherita,B022m,Moena,Soc.Fun. Col Margherita,11-mar-82,14-dic-01,1395,639,1874,97,1330,#,bistagionale\n",
    "Vigo di Fassa - Ciampedie,B026m,Vigo di Fassa,Soc.Catinaccio Impianti a Fune,24-lug-85,23-giu-05,1523,570,1431,101,1300,#,bistagionale\n",
    "Campitello - Col Rodella ,B027m,Canazei,S.I.T.C.,06-dic-86,07-lug-05,2472,984,1411,126,1160,si,bistagionale\n",
    "Passo Pordoi - Sass Pordoi,B028m,Canazei,S.I.T.C.,23-mag-95,23-mag-95,1487,708,2240,65,820,#,bistagionale\n",
    "Col Verde - Rosetta,B029b,Tonadico,Imprese e Territorio Soc. Cons. s.r.l.,21-lug-04,21-lug-04,1336,674,1935,41,420,si + M.G.,bistagionale\n",
    "Tarlenta - Rifugio Mantova,B030g,Peio,Soc.Fun. Peio,30-dic-10,30-dic-10,2856,992,2001,101,860,si + frane,bistagionale\n",
    "```\n",
    "\n",
    "Come atteso, vediamo dei campi separati da virgole.\n",
    "\n",
    "### Problema: caratteri sbagliati ??\n",
    "\n",
    "Si vede subito un problema nella prima riga delle intestazioni, alla colonna `CapacitÃ  Veicolo (pers.)`. Pare che il file abbia la 'à' accentata sbagliata. Ma è davvero un problema del file? Vi dico subito di no. Probabilmente, è il server che non stà dicendo a Firefox quale è il giusto encoding per il file. Firefox non ha capacità di divinazione, e fa solo il suo meglio per mostrare il CSV basandosi sulle informazioni che ha, che possono essere limitate e/o addirittura incorrette. Il mondo non è mai come lo vorremmo... \n",
    "\n",
    "**2.1 DA FARE**: scarica il CSV, e prova ad aprirlo in Excel, e / o in LibreOffice Calc. Vedi la à accentata corretta? Se no, prova ad impostare l'encoding (per es. in Calc si chiama 'Character set')  a 'Unicode (UTF-8)' \n",
    "\n",
    "![Esempio di import in LibreOffice Calc](import-impianti-csv.png)\n",
    "\n",
    "Poi dovrebbe risultare più o meno una tabella come questa: \n",
    "\n",
    "![Tabella impianti risalita](impianti-csv.png)\n",
    "\n",
    "\n",
    "### Importare in Python\n",
    "\n",
    "Adesso che abbiamo capito due cose sull'encoding, proviamo ad importare il file in Python (ho rinominato il file originale nel più corto `impianti-bifuni.csv`): "
   ]
  },
  {
   "cell_type": "code",
   "execution_count": 20,
   "metadata": {},
   "outputs": [
    {
     "name": "stdout",
     "output_type": "stream",
     "text": [
      "['Denominazione impianto', 'Codice S.I.F.', 'Comune', 'Esercente', 'Data Primo collaudo', 'Data Ultimo Collaudo', 'Lunghezza Inclinata (m)', 'Dislivello (m)', 'Stazione di Valle (m.s.l.m.)', 'Capacità Veicolo (pers.)', 'Portata Max (Pers/h)', 'Opere Paravalanghe ', 'Servizio']\n",
      "['Trento - Sardagna', 'B007e', 'Trento', 'Soc. Trentino Trasporti Esercizio', '08-apr-64', '18-mar-03', '1157', '400', '200', '13', '270', '#', 'annuale']\n",
      "['Mezzocorona - Monte', 'B008e', 'Mezzocorona', 'Soc.Fun. Monte Mezzocorona', '22-dic-04', '22-dic-04', '933', '623', '267', '7', '130', 'si (frane)', 'annuale']\n",
      "['Alba - Ciampac', 'B014m', 'Canazei', 'Soc.Fun. Ciampac e Contrin', '20-mag-75', '27-nov-14', '1902', '658', '1496', '75', '840', '#', 'bistagionale']\n",
      "['Pecol - Col dei Rossi', 'B017m', 'Canazei', 'S.I.T.C.', '09-feb-79', '05-dic-97', '1313', '450', '1932', '76', '1100', 'si', 'bistagionale']\n",
      "['P. S.Pellegrino - Col Margherita', 'B022m', 'Moena', 'Soc.Fun. Col Margherita', '11-mar-82', '14-dic-01', '1395', '639', '1874', '97', '1330', '#', 'bistagionale']\n",
      "['Vigo di Fassa - Ciampedie', 'B026m', 'Vigo di Fassa', 'Soc.Catinaccio Impianti a Fune', '24-lug-85', '23-giu-05', '1523', '570', '1431', '101', '1300', '#', 'bistagionale']\n",
      "['Campitello - Col Rodella ', 'B027m', 'Canazei', 'S.I.T.C.', '06-dic-86', '07-lug-05', '2472', '984', '1411', '126', '1160', 'si', 'bistagionale']\n",
      "['Passo Pordoi - Sass Pordoi', 'B028m', 'Canazei', 'S.I.T.C.', '23-mag-95', '23-mag-95', '1487', '708', '2240', '65', '820', '#', 'bistagionale']\n",
      "['Col Verde - Rosetta', 'B029b', 'Tonadico', 'Imprese e Territorio Soc. Cons. s.r.l.', '21-lug-04', '21-lug-04', '1336', '674', '1935', '41', '420', 'si + M.G.', 'bistagionale']\n",
      "['Tarlenta - Rifugio Mantova', 'B030g', 'Peio', 'Soc.Fun. Peio', '30-dic-10', '30-dic-10', '2856', '992', '2001', '101', '860', 'si + frane', 'bistagionale']\n"
     ]
    }
   ],
   "source": [
    "import csv\n",
    "with open('impianti-bifuni.csv', newline='') as f:\n",
    "    reader = csv.reader(f, delimiter=',')\n",
    "    for row in reader:\n",
    "        print(row)"
   ]
  },
  {
   "cell_type": "markdown",
   "metadata": {},
   "source": [
    "Notiamo subito dall'output che abbiamo appena trasformato il file in ingresso in una serie di liste Python, una per riga.\n",
    "\n",
    "Analizziamo quanto fatto:\n",
    "\n",
    "```python\n",
    "import csv\n",
    "```\n",
    "Python è fornito nativamente di un modulo per il trattamento dei csv, che si chiama... `csv`. Con questa istruzione, abbiamo appena caricato questo modulo.\n",
    "\n",
    "Cosa succede dopo ? Come già fatto per i file a linee in precedenza, apriamo il file in un blocco `with`: \n",
    "```python\n",
    "with open('impianti-bifuni.csv', newline='') as f:\n",
    "    reader = csv.reader(f, delimiter=',')\n",
    "    for row in reader:\n",
    "        print(row)\n",
    "```\n",
    "\n",
    "Per adesso ignora il `newline=''`.\n",
    "\n",
    "Una volta aperto il file, nella riga \n",
    "\n",
    "```python\n",
    "    reader = csv.reader(f, delimiter=',')\n",
    "```\n",
    "\n",
    "chiediamo al modulo `csv` di crearci un oggetto lettore chiamato `reader` per il nostro file, dicendo a Python che il delimitatore per i campi sono le virgole.\n",
    "\n",
    "NOTA: `reader` è il nome di una variabile che stiamo creando, potremmo dare un nome qualunque.\n",
    "\n",
    "Questo oggetto lettore può essere sfruttato come una specie di generatore di righe usando un ciclo `for`.\n",
    "\n",
    "```\n",
    "    for row in reader:\n",
    "        print(row)\n",
    "```\n",
    "\n",
    "Nel ciclo `for` sfruttiamo l'oggetto `reader` per iterare nella lettura del file, producendo ad ogni iterazione una riga che chiamiamo `row` (ma potrebbe essere un qualunque nome a nostro piacimento). Ad ogni iterazione, `row` viene stampato. \n",
    "\n",
    "Se guardi bene le stampe della prima liste, vedrai che ogni volta a row viene assegnata una sola lista Python. La lista contiene tanti elementi quanti campi ci sono nel CSV. "
   ]
  },
  {
   "cell_type": "markdown",
   "metadata": {},
   "source": [
    "**2.2 DA FARE**: Riscrivi nella cella qua sotto le istruzioni per leggere e stampare il csv, facendo come sempre attenzione all'indentazione: "
   ]
  },
  {
   "cell_type": "code",
   "execution_count": 21,
   "metadata": {
    "collapsed": true
   },
   "outputs": [],
   "source": [
    "# riscrivi il codice"
   ]
  },
  {
   "cell_type": "markdown",
   "metadata": {},
   "source": [
    "### Il mistero delle opere paravalanghe \n",
    "\n",
    "Se guardiamo nella colonna 'Opere paravalanghe', notiamo che i valori possibili sono:\n",
    "\n",
    "* `#`\n",
    "* `si (frane)`\n",
    "* `si (frane)`\n",
    "* `si + M.G`\n",
    "* `si + frane`\n",
    "\n",
    "Sono sempre valori testuali, ma pare esserci una qualche regolarità. Visto che il nostro scopo è convertire in oggetti Python i file in ingresso, forse si potrebbero compiere alcune operazioni per semplificare e adattare al meglio questi dati? \n",
    "\n",
    "**2.3 DA FARE**: il 'si' è con o senza l'accento? La 'i' è uguale in tutti i casi ? Se conosci già un po' Python, prova a scrivere un programmino che conteggia quanti si accentati e non accentati ci sono. Ovviamente il file è piccolo e non ne vale la pena, ma immagina di avere migliaia di righe. A quale indice si trova la colonna che ci interessa? Ricordati che gli indici cominciano da 0. Se non conosci per niente Python, guarda la soluzione. Scrivi qua sotto la tua soluzione e prova ad eseguirla con Control+Invio"
   ]
  },
  {
   "cell_type": "code",
   "execution_count": 22,
   "metadata": {
    "collapsed": true
   },
   "outputs": [],
   "source": [
    "# scrivi la soluzione"
   ]
  },
  {
   "cell_type": "markdown",
   "metadata": {},
   "source": [
    "**2.4 DA FARE**: `si + frane` è la stessa cosa di `si (frane)` ? Assumendo di sì, prova a stampare righe modificate in cui per uniformare gli elementi uguali a `si (frane)` settandoli  a `si + frane`. Sia che conosci o non conosci Python, avendo guardato la soluzione della domanda precedente dovresti essere in grado di farlo (ricorda che per modificare un elemento di una lista all'indice `N` si scrive `lista[N] = NUOVO_VALORE` ) \n",
    "\n",
    "Scrivi qua sotto la soluzione"
   ]
  },
  {
   "cell_type": "code",
   "execution_count": 23,
   "metadata": {
    "collapsed": true
   },
   "outputs": [],
   "source": [
    "#scrivi la soluzione"
   ]
  },
  {
   "cell_type": "markdown",
   "metadata": {},
   "source": [
    "\n",
    "**2.5 DA FARE**:  Quel 'M.G' non chiarissimo, come neanche se ci sia qualche differenza tra `frane` e `valanghe`. Capire il significato di cosa manipoliamo è importante, forse potresti scoprire il significato nella [pagina del dataset](http://dati.trentino.it/dataset/impianti-funiviari-in-esercizio-pubblico) ? \n"
   ]
  },
  {
   "cell_type": "markdown",
   "metadata": {},
   "source": [
    "**2.6 DA FARE**: Cosa significa quel cancelletto `#` ? Conosci un oggetto di Python che potrebbe rappresentarlo ? Riesci a sostituire tutti i cancelletti con quell'oggetto prima di stampare le liste?"
   ]
  },
  {
   "cell_type": "code",
   "execution_count": 24,
   "metadata": {
    "collapsed": true
   },
   "outputs": [],
   "source": [
    "#scrivi la soluzione"
   ]
  },
  {
   "cell_type": "markdown",
   "metadata": {},
   "source": [
    "## File JSON\n",
    "\n",
    "<div class=\"alert alert-warning\">\n",
    "\n",
    "**Attenzione**: Parte in allestimento!\n",
    "\n",
    "</div>\n",
    "\n"
   ]
  },
  {
   "cell_type": "markdown",
   "metadata": {},
   "source": [
    "## File XML\n",
    "\n",
    "Per gli XML, consigliamo di seguire [Immersione in Python, Cap 12](http://gpiancastelli.altervista.org/dip3-it/xml.html), provando a rieseguire i comandi del capitolo."
   ]
  },
  {
   "cell_type": "code",
   "execution_count": null,
   "metadata": {
    "collapsed": true
   },
   "outputs": [],
   "source": []
  }
 ],
 "metadata": {
  "kernelspec": {
   "display_name": "Python 3",
   "language": "python",
   "name": "python3"
  },
  "language_info": {
   "codemirror_mode": {
    "name": "ipython",
    "version": 3
   },
   "file_extension": ".py",
   "mimetype": "text/x-python",
   "name": "python",
   "nbconvert_exporter": "python",
   "pygments_lexer": "ipython3",
   "version": "3.5.2"
  }
 },
 "nbformat": 4,
 "nbformat_minor": 2
}
