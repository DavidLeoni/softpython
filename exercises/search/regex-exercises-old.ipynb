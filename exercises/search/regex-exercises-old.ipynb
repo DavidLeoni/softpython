{
 "cells": [
  {
   "cell_type": "markdown",
   "metadata": {
    "deletable": true,
    "editable": true
   },
   "source": [
    "# Ricerca: esercizi su espressioni regolari\n",
    "\n",
    "Se non dobbiamo compiere operazioni *veramente* molto semplici con i metodi delle stringhe (`replace`, `search`, `index`, `upper`, `lower`, etc...) avrai bisogno di scrivere molto codice, lungo da leggere e da scrivere.\n",
    "\n",
    "Se il tuo problema non è banale allora sicuramente avrai giovamento nell'utilizzare delle *espressioni regolari*.\n",
    "\n",
    "## Prendiamoci i dati\n",
    "\n",
    "Per partire da casi concreti, come già fatto in precedenza andiamo a cercarci dei dati dal catalogo opendata `dati.trentino.it`. In questo caso sceglieremo \n",
    "\n",
    "\n",
    "Il file [stops.txt](stops.txt) è un file CSV che contiene le informazioni riguardanti le stazioni degli autobus di Trento, ne mettiamo qui un estratto:\n",
    "\n",
    "```\n",
    "stop_id,stop_code,stop_name,stop_desc,stop_lat,stop_lon,zone_id,wheelchair_boarding\n",
    "1,28105z,Baselga Del Bondone,,46.078317,11.046924,10110,2\n",
    "2,28105x,Baselga Del Bondone,,46.078581,11.047541,10110,2\n",
    "3,27105c,Belvedere,,46.044406,11.105342,10110,2\n",
    "4,22220z,Lamar Ponte Avisio,,46.134620,11.110914,10110,2\n",
    "5,28060z,Sp 85 Bivio Sopramonte,,46.085226,11.069313,10110,2\n",
    "7,24405z,Maso Bolleri,,46.102485,11.124174,10110,2\n",
    "8,24405x,Maso Bolleri,,46.102234,11.123940,10110,2\n",
    "9,25205x,Borino,,46.067367,11.165050,10110,2\n",
    "```\n",
    "\n",
    "Come ci aspettiamo da un buon file CSV, nella prima riga costituisce le intestazioni e vediamo che i campi sono separati da virgole.\n",
    "\n",
    "## Verifichiamo che i dati siano corretti\n",
    "\n",
    "Supponiamo che tu voglia fare avere a lista di tutte le fermate su *strade provinciali* (sigla *SP*): \n",
    "\n",
    "**DOMANDA**: Guarda bene dentro il [file completo](stops.txt): i dati sono sempre perfettamente regolari come ci piacerebbe? \n",
    "\n",
    "Una volta risposta alla domanda, pensiamo come fare questa operazione di ricerca di strade provinciali con Python, o almeno una prima approssimazione con questo codice: "
   ]
  },
  {
   "cell_type": "markdown",
   "metadata": {
    "deletable": true,
    "editable": true
   },
   "source": [
    "**DA FARE**: Con quello che sai [dalla lezione 2](../../data-formats-exercises.ipynb#File-CSV), prova ad aprire il CSV e stampare solo le linee che contengono qualcosa che assomiglia a strade provinciali. \n",
    "\n",
    "**NOTA**: non serve che filtri per bene tutte, fai solo qualche tentativo per i casi più ovvi, usando funzioni sulle stringhe che già conosci. Ai casi più diccifili ci penseremo in seguito con le regex! \n",
    "\n",
    "**SUGGERIMENTO 1**: usa il metodo `upper` delle stringhe:"
   ]
  },
  {
   "cell_type": "code",
   "execution_count": 3,
   "metadata": {
    "collapsed": false,
    "deletable": true,
    "editable": true
   },
   "outputs": [
    {
     "data": {
      "text/plain": [
       "'CIAO MONDO'"
      ]
     },
     "execution_count": 3,
     "metadata": {},
     "output_type": "execute_result"
    }
   ],
   "source": [
    "\"Ciao MONDO\".upper()"
   ]
  },
  {
   "cell_type": "code",
   "execution_count": 5,
   "metadata": {
    "collapsed": false,
    "deletable": true,
    "editable": true
   },
   "outputs": [
    {
     "data": {
      "text/plain": [
       "'SOFTPYTHON'"
      ]
     },
     "execution_count": 5,
     "metadata": {},
     "output_type": "execute_result"
    }
   ],
   "source": [
    "\"SoftPython\".upper()"
   ]
  },
  {
   "cell_type": "markdown",
   "metadata": {
    "deletable": true,
    "editable": true
   },
   "source": [
    "**SUGGERIMENTO 2**: usa il metodo `find` delle stringhe (per maggiori info su come usarlo, usa `help(str.find)`)"
   ]
  },
  {
   "cell_type": "code",
   "execution_count": 19,
   "metadata": {
    "collapsed": false,
    "deletable": true,
    "editable": true
   },
   "outputs": [
    {
     "data": {
      "text/plain": [
       "3"
      ]
     },
     "execution_count": 19,
     "metadata": {},
     "output_type": "execute_result"
    }
   ],
   "source": [
    "\"ab cde\".find('cd')"
   ]
  },
  {
   "cell_type": "code",
   "execution_count": 20,
   "metadata": {
    "collapsed": false,
    "deletable": true,
    "editable": true
   },
   "outputs": [
    {
     "data": {
      "text/plain": [
       "2"
      ]
     },
     "execution_count": 20,
     "metadata": {},
     "output_type": "execute_result"
    }
   ],
   "source": [
    "\"ab cde\".find(' c')"
   ]
  },
  {
   "cell_type": "code",
   "execution_count": 22,
   "metadata": {
    "collapsed": false,
    "deletable": true,
    "editable": true
   },
   "outputs": [
    {
     "data": {
      "text/plain": [
       "0"
      ]
     },
     "execution_count": 22,
     "metadata": {},
     "output_type": "execute_result"
    }
   ],
   "source": [
    "\"ab cde\".find('a')"
   ]
  },
  {
   "cell_type": "code",
   "execution_count": 14,
   "metadata": {
    "collapsed": false,
    "deletable": true,
    "editable": true
   },
   "outputs": [
    {
     "data": {
      "text/plain": [
       "-1"
      ]
     },
     "execution_count": 14,
     "metadata": {},
     "output_type": "execute_result"
    }
   ],
   "source": [
    "\"ab cde\".find('D')"
   ]
  },
  {
   "cell_type": "code",
   "execution_count": 11,
   "metadata": {
    "collapsed": false,
    "deletable": true,
    "editable": true
   },
   "outputs": [
    {
     "data": {
      "text/plain": [
       "-1"
      ]
     },
     "execution_count": 11,
     "metadata": {},
     "output_type": "execute_result"
    }
   ],
   "source": [
    "\"ab cde\".find('z')"
   ]
  },
  {
   "cell_type": "markdown",
   "metadata": {
    "deletable": true,
    "editable": true
   },
   "source": [
    "\n",
    "### Soluzione\n",
    "1. Prima di tutto, bisogna aprire il file: dalla [lezione 2](../../data-formats.ipynb) sappiamo [come leggere](../../data-formats-exercises.ipynb#File-CSV) un file in formato CSV. Quindi apriamo, creiamo il lettore di CSV e lo utilizziamo per leggere tutte le righe nel file\n",
    "2. per ogni riga possiamo normalizzare la terza colonna (ricorda che gli indici partono da zero) mettendola tutta maiuscola \n",
    "3. poi possiamo ricercare la posizione di `\"SP\"` all'interno del nome, per fare questo uso il metodo `str.find()` che ritorna la posizione della sottostringa, se questa non è presente ritorna `-1` \n",
    "4. infine stampare solo le righe che hanno passato il test."
   ]
  },
  {
   "cell_type": "code",
   "execution_count": 16,
   "metadata": {
    "collapsed": false,
    "deletable": true,
    "editable": true
   },
   "outputs": [
    {
     "name": "stdout",
     "output_type": "stream",
     "text": [
      "['5', '28060z', 'Sp 85 Bivio Sopramonte', '', '46.085226', '11.069313', '10110', '2']\n",
      "['46', '25305z', 'Gabbiolo \"Campo Sportivo\"', '', '46.055265', '11.148982', '10110', '1']\n",
      "['47', '25305x', 'Gabbiolo \"Campo Sportivo\"', '', '46.055310', '11.148782', '10110', '1']\n",
      "['48', '22080z', 'Sp 76 Carpenedi', '', '46.117195', '11.108678', '10110', '2']\n",
      "['49', '22080x', 'Sp 76 Carpenedi', '', '46.117171', '11.108438', '10110', '2']\n",
      "['104', '24040z', 'Sp 131 \"Maso Pradiscola\"', '', '46.083189', '11.135736', '10110', '2']\n",
      "['105', '24040x', 'Sp 131 \"Maso Pradiscola\"', '', '46.083255', '11.135874', '10110', '1']\n",
      "['109', '24350z', 'Sp 131 \"Res. Silvana\"', '', '46.097726', '11.126962', '10110', '2']\n",
      "['110', '24350x', 'Sp 131 \"Res. Silvana\"', '', '46.097493', '11.126925', '10110', '2']\n",
      "['115', '24355z', 'Sp 131 Al Maso Specchio', '', '46.104391', '11.123568', '10110', '2']\n",
      "['116', '24355x', 'Sp 131 Al Maso Specchio', '', '46.104353', '11.123420', '10110', '2']\n",
      "['131', '23040z', 'Sp 76 \"Piac\"', '', '46.126690', '11.114532', '10110', '1']\n",
      "['133', '23035z', 'Sp 76 \"Maregioli\"', '', '46.130755', '11.121750', '10110', '2']\n",
      "['134', '23035x', 'Sp 76 \"Maregioli\"', '', '46.130836', '11.121666', '10110', '1']\n",
      "['135', '23005z', 'Meano \"Campo Sportivo\"', '', '46.128279', '11.120267', '10110', '1']\n",
      "['136', '23005x', 'Meano \"Campo Sportivo\"', '', '46.128310', '11.119721', '10110', '1']\n",
      "['139', '23045z', 'Sp 76 \"Via Rossa\"', '', '46.119858', '11.111416', '10110', '2']\n",
      "['140', '23045x', 'Sp 76 \"Via Rossa\"', '', '46.119812', '11.111266', '10110', '2']\n",
      "['143', '23055z', 'Sp 76 Dos di Lamar', '', '46.124939', '11.113463', '10110', '2']\n",
      "['144', '23055x', 'Sp 76 Dos di Lamar', '', '46.124718', '11.113018', '10110', '1']\n",
      "['154', '24520z', 'Sp 131 \"Paganin\"', '', '46.106288', '11.137610', '10110', '2']\n",
      "['155', '24520x', 'Sp 131 \"Paganin\"', '', '46.106524', '11.137306', '10110', '2']\n",
      "['179', '25505z', 'Spré Pinara', '', '46.067264', '11.160937', '10110', '1']\n",
      "['180', '25505x', 'Spré Pinara', '', '46.067264', '11.160807', '10110', '1']\n",
      "['223', '22225x', 'Lamar Sponda Trentina', '', '46.134588', '11.111690', '10110', '2']\n",
      "['238', '22630c', 'Spini di Gardolo', '', '46.121729', '11.089889', '10110', '2']\n",
      "['239', '22620z', 'Spini Linz', '', '46.118504', '11.096131', '10110', '2']\n",
      "['240', '22620x', 'Spini Linz', '', '46.118550', '11.096708', '10110', '2']\n",
      "['241', '22605z', 'Spini Monaco', '', '46.118623', '11.092766', '10110', '2']\n",
      "['242', '22605x', 'Spini Monaco', '', '46.118581', '11.092616', '10110', '2']\n",
      "['243', '25510z', 'Spré S.Lucia', '', '46.069294', '11.161412', '10110', '2']\n",
      "['244', '25510x', 'Spré S.Lucia', '', '46.069214', '11.161151', '10110', '2']\n",
      "['245', '28045z', 'Sp 85 \"Soraval\"', '', '46.083258', '11.063955', '10110', '2']\n",
      "['246', '28045x', 'Sp 85 \"Soraval\"', '', '46.083094', '11.063877', '10110', '2']\n",
      "['269', '21075z', 'Apuleio \"Case Degasperi\"', '', '46.073284', '11.115482', '10110', '1']\n",
      "['306', '21675z', 'Spalliera Cereria', '', '46.074170', '11.128506', '10110', '2']\n",
      "['307', '21675x', 'Spalliera Cereria', '', '46.074158', '11.128327', '10110', '2']\n",
      "['314', '21255z', 'Degasperi Anna Frank', '', '46.050201', '11.124017', '10110', '1']\n",
      "['315', '21255x', 'Degasperi Anna Frank', '', '46.051099', '11.123052', '10110', '1']\n",
      "['316', '21250z', 'Degasperi \"Palazzo Stella\"', '', '46.043178', '11.129229', '10110', '1']\n",
      "['317', '21250x', 'Degasperi \"Palazzo Stella\"', '', '46.042977', '11.129678', '10110', '1']\n",
      "['318', '21245z', 'Degasperi \"Big Center\"', '', '46.045116', '11.127949', '10110', '1']\n",
      "['319', '21245x', 'Degasperi \"Big Center\"', '', '46.045242', '11.128108', '10110', '2']\n",
      "['320', '21260z', 'Degasperi La Clarina', '', '46.048203', '11.126520', '10110', '1']\n",
      "['321', '21260x', 'Degasperi La Clarina', '', '46.048680', '11.126247', '10110', '1']\n",
      "['344', '21335x', 'Gerola \"Ospedale S.Chiara\"', '', '46.058389', '11.133087', '10110', '1']\n",
      "['347', '21350x', 'Giovanelli \"Osp. S.Camillo\"', '', '46.065485', '11.131892', '10110', '1']\n",
      "['437', '21280z', 'Dos Trento \"Centro Sportivo\"', '', '46.075206', '11.107949', '10110', '2']\n",
      "['438', '21280x', 'Dos Trento \"Centro Sportivo\"', '', '46.075132', '11.107771', '10110', '2']\n",
      "['439', '27050z', 'Sp 90 \"Maso Prudenza\"', '', '46.028867', '11.111521', '10110', '2']\n",
      "['440', '27050x', 'Sp 90 \"Maso Prudenza\"', '', '46.029290', '11.111771', '10110', '2']\n",
      "['492', '22610z', 'Spini \"Officine\"', '', '46.118326', '11.100624', '10110', '2']\n",
      "['493', '22610x', 'Spini \"Officine\"', '', '46.118172', '11.100941', '10110', '2']\n",
      "['494', '22625z', 'Spini \"Zona Ind.Le Ftm\"', '', '46.118118', '11.103691', '10110', '2']\n",
      "['495', '22625x', 'Spini \"Zona Ind.Le Ftm\"', '', '46.118028', '11.103638', '10110', '2']\n",
      "['496', '22615z', 'Spini Klagenfurt', '', '46.117796', '11.094285', '10110', '1']\n",
      "['497', '22615x', 'Spini Klagenfurt', '', '46.117695', '11.094346', '10110', '1']\n",
      "['1286', '31071z', 'Corso Verona Ospedale', '', '45.882487', '11.040492', '10121', '1']\n",
      "['1289', '31071x', 'Corso Verona Ospedale', '', '45.881066', '11.039620', '10121', '2']\n",
      "['1296', '32651x', \"Sp.2 Loc. Beccache'\", '', '45.882087', '11.071643', '10101', '2']\n",
      "['1310', '16011', 'Nomi Piazza Springa', '', '45.928891', '11.072085', '16011', '2']\n",
      "['1315', '31101z', 'Piazzale S.Maria Ospedale', '', '45.883438', '11.040503', '10121', '2']\n",
      "['1316', '31101x', 'Piazzale S.Maria Ospedale', '', '45.883616', '11.040937', '10121', '1']\n",
      "['1328', '17031', 'Pomarolo Via Degasperi', '', '45.926343', '11.042440', '17031', '2']\n",
      "['1329', '37031z', 'Pomarolo Via Degasperi', '', '45.926217', '11.042436', '17031', '2']\n",
      "['1334', '32651z', \"Sp.2 Loc. Beccache'\", '', '45.882063', '11.071733', '10101', '2']\n",
      "['1338', '32661x', 'Sp.2 Fr. Campolongo', '', '45.886995', '11.063902', '10101', '2']\n",
      "['1339', '32671x', 'Sp.2 Noriglio', '', '45.884263', '11.070323', '10101', '2']\n",
      "['1340', '32671z', 'Sp.2 Noriglio', '', '45.884371', '11.069842', '10101', '2']\n",
      "['1341', '32661z', 'Sp.2 Fr. Campolongo', '', '45.886988', '11.063994', '10101', '2']\n",
      "['1408', '31691x', 'Via Unione Scuole Degasperi', '', '45.885236', '11.023282', '10101', '2']\n",
      "['1409', '31691z', 'Via Unione Scuole Degasperi', '', '45.885564', '11.023170', '10101', '2']\n",
      "['2217', '35021x', 'Brancolino Sp.90', '', '45.900719', '11.020254', '15091', '1']\n",
      "['2218', '35021z', 'Brancolino Sp.90', '', '45.900853', '11.020410', '15091', '1']\n",
      "['2285', '38601z', 'Sp.20 S.Sisinio', '', '45.924877', '11.021092', '18511', '2']\n",
      "['2286', '38611z', 'Sp.20 Zisi', '', '45.931009', '11.022102', '18511', '2']\n",
      "['2287', '38611x', 'Sp.20 Zisi', '', '45.931416', '11.022116', '18511', '2']\n",
      "['2288', '38601x', 'Sp.20 S.Sisinio', '', '45.924981', '11.021093', '18511', '2']\n",
      "['2363', '38591x', 'Sp.20 Maso Tiaf', '', '45.936511', '11.008597', '18511', '2']\n",
      "['2364', '38621x', 'Sp.20 Bivio Per Bordala', '', '45.930910', '11.007172', '18511', '2']\n",
      "['2367', '38621z', 'Sp.20 Bivio Per Bordala', '', '45.930864', '11.007233', '18511', '2']\n",
      "['2368', '38591z', 'Sp.20 Maso Tiaf', '', '45.935890', '11.008594', '18511', '2']\n",
      "['2376', '21385x', 'Grazioli \"Osp. S.Camillo\"', '', '46.065677', '11.132418', '10110', '2']\n",
      "['2377', '23050x', 'Sp 76 Bivio S.Lazzaro', '', '46.129006', '11.115500', '10110', '2']\n",
      "['2449', '22607x', 'Spini Praga', '', '46.123666', '11.097351', '10110', '2']\n",
      "['2510', '32641z', 'Sp.2 Bivio Per Cisterna', '', '45.881281', '11.075365', '10101', '2']\n",
      "['2664', '22635x', 'Spini Loghét', '', '46.120499', '11.091086', '10110', '1']\n",
      "['2665', '22635z', 'Spini Loghét', '', '46.120567', '11.091220', '10110', '1']\n",
      "['2669', '27515-', 'Fersina \"Zona Sportiva\"', '', '46.041683', '11.123711', '10110', '2']\n",
      "['2758', '31811z', 'Viale Vittoria Scuole Degasperi', '', '45.884931', '11.023892', '10101', '1']\n",
      "['2782', '22555z', 'Spini \"Pal. Giano\"', '', '46.121548', '11.095251', '10110', '1']\n",
      "['2783', '22555x', 'Spini \"Pal. Giano\"', '', '46.121743', '11.094961', '10110', '1']\n",
      "['2784', '22575x', 'Spini Varsavia', '', '46.125601', '11.098331', '10110', '2']\n",
      "['2785', '22575z', 'Spini Varsavia', '', '46.125804', '11.098199', '10110', '2']\n",
      "['2786', '22570z', 'Spini Masadori', '', '46.119922', '11.096500', '10110', '1']\n",
      "['2787', '22570x', 'Spini Masadori', '', '46.120114', '11.096203', '10110', '1']\n",
      "['2788', '22560x', 'Spini Bregenz', '', '46.117160', '11.092520', '10110', '2']\n",
      "['2789', '22560z', 'Spini Bregenz', '', '46.117016', '11.092579', '10110', '2']\n",
      "['2790', '22565c', 'Spini \"Casa Circondariale\\'', '', '46.127009', '11.096719', '10110', '1']\n",
      "['2793', '22915x', 'Innsbruck \"Trentino Trasporti\"', 'via Innsbruck 65', '46.101701', '11.094567', '10110', '1']\n",
      "['2794', '22915z', 'Innsbruck \"Trentino Trasporti\"', 'via Innsbruck 65', '46.102220', '11.094390', '10110', '1']\n",
      "['2799', '22607z', 'Spini Praga', '', '46.123624', '11.097440', '10110', '2']\n",
      "['2832', '31811x', 'Viale Vittoria Scuole Degasperi', '', '45.884804', '11.023960', '10101', '1']\n",
      "['2843', '35161x', 'Sp.20 Bivio Noarna', '', '45.915825', '11.016559', '15091', '2']\n",
      "['2844', '35161z', 'Sp.20 Bivio Noarna', '', '45.915880', '11.016803', '15091', '2']\n",
      "['2897', '32218x', 'Sp.23 \"Nero Cubo\"', '', '45.855421', '11.002179', '10101', '2']\n",
      "['2919', '39071z', 'Volano Via Spiazze', '', '45.915721', '11.051424', '19011', '2']\n",
      "['2925', '22665x', 'Spini Palazzine', '', '46.116627', '11.099962', '10110', '2']\n",
      "['2936', '37551z', 'Sp.89 Maso Brentegam', '', '45.880439', '11.050882', '10101', '2']\n"
     ]
    }
   ],
   "source": [
    "import csv\n",
    "\n",
    "with open('stops.txt', newline='') as f:\n",
    "    reader = csv.reader(f, delimiter=',')    \n",
    "    for row in reader:\n",
    "        name = row[2].upper()\n",
    "        if name.find(\"SP\") >= 0:\n",
    "            print(row)\n",
    "        "
   ]
  },
  {
   "cell_type": "markdown",
   "metadata": {
    "deletable": true,
    "editable": true
   },
   "source": [
    "Il risultato non sembra quanto aspettato, `SP` si presenta in tante parole, e anche quando è riferito alle superstrade a volte è puntato e a volte no. Proviamo a vedere cosa sono queste **espressioni regolari**:\n",
    "\n",
    "> **WIKIPEDIA**\n",
    ">\n",
    "> Una *espressione regolare* (in lingua inglese regular expression o, in forma abbreviata, regexp, regex o RE) è una sequenza di simboli (quindi una stringa) che identifica un insieme di stringhe: essa definisce una funzione che prende in ingresso una stringa, e restituisce in uscita un valore del tipo sì/no, a seconda che la stringa segua o meno un certo *pattern*.\n",
    "\n",
    "L'utilizzo di una espressione regolare è sicuramente più veloce perché ci permette di cercare non solo una stringa bensì un intero insieme di stringe, detto appunto *pattern*. Una considerazione da fare è che nonostante i concetti\n",
    "riguardo le regex sono universali, alcune implementazioni si differenziano nel comportamento in alcuni casi particolari oppure aggiungendo funzionalità *non standard*.\n"
   ]
  },
  {
   "cell_type": "markdown",
   "metadata": {
    "deletable": true,
    "editable": true
   },
   "source": [
    "## Creiamoci una funzione di test\n",
    "\n",
    "In ciò che segue, ci piacerebbe testare varie _regex_ su delle stringhe di prova. Dato che scrivere i comandi per stampare i risultati dei test può diventare ripetitivo e noiso, ci conviene creare una _funzione_  con dentro delle istruzioni di stampa da eseguire automaticamente (per più info sulle funzioni, vedi [capitolo 3 Pensare in Python ](https://davidleoni.github.io/ThinkPythonItalian/html/thinkpython2004.html)):"
   ]
  },
  {
   "cell_type": "code",
   "execution_count": 24,
   "metadata": {
    "collapsed": false,
    "deletable": true,
    "editable": true
   },
   "outputs": [
    {
     "name": "stdout",
     "output_type": "stream",
     "text": [
      "<_sre.SRE_Match object; span=(0, 2), match='Sp'>\n",
      "<_sre.SRE_Match object; span=(0, 2), match='Sp'>\n",
      "<_sre.SRE_Match object; span=(0, 2), match='sp'>\n",
      "<_sre.SRE_Match object; span=(11, 13), match='Sp'>\n"
     ]
    }
   ],
   "source": [
    "import re\n",
    "\n",
    "def test_regex(pattern):\n",
    "    names = ['Baselga Del Bondone', \n",
    "             'Sp.89 Maso Brentegam', \n",
    "             'sp 90 \"Maso Prudenza\"', \n",
    "             'Brancolino Sp.90']\n",
    "    for name in names:\n",
    "        print(re.search(pattern, name, re.I))\n",
    "    \n",
    "test_regex(\"SP\")"
   ]
  },
  {
   "cell_type": "markdown",
   "metadata": {
    "deletable": true,
    "editable": true
   },
   "source": [
    "\n",
    "Ignoriamo per il momento `import re`, che semplicemente importa la libreria per le regex. \n",
    "\n",
    "In Python, le funzioni si dichiarano con la parola riservata `def` seguita dal nome della funzione che scegliamo arbitrariamente noi.  In questo caso il nome scelto è `test_regex`:\n",
    "\n",
    "```python\n",
    "def test_regex(pattern):\n",
    "```\n",
    "Poi, a questa funzione abbiamo deciso che bisognerà passare un parametro, che chiamiamo `pattern` (ma potremmo chiamarlo come ci pare, anche `pippo`).\n",
    "\n",
    "**NOTA**: alla fine della prima riga, ci sono dei due punti **`:`** se dimentichi di metterli potresti trovarti con strani errori di syntassi ! \n",
    "\n",
    "La nostra funzione farà qualcosa con questa variabile che abbiamo chiamato `pattern`:\n",
    "\n",
    "```python\n",
    "def test_regex(pattern):\n",
    "    names = ['Baselga Del Bondone',\n",
    "             'Spini Bregenz',\n",
    "             'Sp.89 Maso Brentegam', \n",
    "             'sp 90 \"Maso Prudenza\"', \n",
    "             'Brancolino Sp.90']\n",
    "    for name in names:\n",
    "        print(re.search(pattern, name, re.I))\n",
    "```\n",
    "\n",
    "In questo caso, per ciascun nome, eseguirà questa riga (vedremo in seguito il contenuto della `print`):\n",
    "\n",
    "```python\n",
    "print(re.search(pattern, name, re.I))\n",
    "```\n",
    "\n",
    "sfruttando la variabile `pattern` che passeremo al momento di chiamare la funzione: "
   ]
  },
  {
   "cell_type": "code",
   "execution_count": 25,
   "metadata": {
    "collapsed": false,
    "deletable": true,
    "editable": true
   },
   "outputs": [
    {
     "name": "stdout",
     "output_type": "stream",
     "text": [
      "<_sre.SRE_Match object; span=(0, 2), match='Sp'>\n",
      "<_sre.SRE_Match object; span=(0, 2), match='Sp'>\n",
      "<_sre.SRE_Match object; span=(0, 2), match='sp'>\n",
      "<_sre.SRE_Match object; span=(11, 13), match='Sp'>\n"
     ]
    }
   ],
   "source": [
    "test_regex(\"SP\")"
   ]
  },
  {
   "cell_type": "markdown",
   "metadata": {
    "deletable": true,
    "editable": true
   },
   "source": [
    "Da questa chiamata, notiamo come un pattern si possa rappresentare con una semplice stringa Python, in questo caso `\"SP\"`\n",
    "\n",
    "Andiamo nel dettaglio della funzione:\n",
    "\n",
    "- creo una lista con le stringhe da testare: \n",
    "\n",
    "```python\n",
    "    names = ['Baselga Del Bondone', \n",
    "             'Spini Bregenz',\n",
    "             'Sp.89 Maso Brentegam', \n",
    "             'sp 90 \"Maso Prudenza\"', \n",
    "             'Brancolino Sp.90']\n",
    "```\n",
    "\n",
    "la prima `Baselga del Bondone` non è una strada provinciale, quindi ci aspettiamo che la ricerca di delle lettere 'sp' non abbia successo, questo è segnalato in Python dal ritornare  l'oggetto `None`. La successiva `Spini Bregenz` è più insidiosa, perchè contiene `Sp` pur non essendo una strada provinciale. Le altre invece vere strade provinciali con 'sp' nel nome e quindi dovrebbero ritornare un match.\n",
    "\n",
    "- per ogni stringa nella lista stampo a schermo il risultato della chiamata al metodo `re.search()`:\n",
    "\n",
    "```python\n",
    "print(re.search(pattern, name, re.I))\n",
    "```\n",
    "\n",
    "Cosa prende `re.search` in ingresso?\n",
    "\n",
    "    1. un `pattern` da cercare\n",
    "    2. una `string` in cui cercarlo\n",
    "    3. eventuali opzioni\n",
    "\n",
    "Al momento dell'esecuzione:\n",
    "    - se la ricerca ha successo: restiutisce un oggetto `SRE_Match` contenente le informazioni relative ala ricerca se la stringa soddisfa l'espressione regolare, \n",
    "    - se la ricerca fallisce: ritorna `None`\n",
    "    \n",
    "Come sicuramente avrai notato, usando il pattern `SP` il risultato è ancora sbagliato: infatti in questo caso è in tutto e per tutto equivalente a quanto fatto prima tramite il metodo `find()` sulle stringhe.\n"
   ]
  },
  {
   "cell_type": "markdown",
   "metadata": {
    "deletable": true,
    "editable": true
   },
   "source": [
    "### DA FARE\n",
    "\n",
    "Copia a mano la funzione di sopra qua sotto, ed eseguila con Control + Invio:"
   ]
  },
  {
   "cell_type": "code",
   "execution_count": 27,
   "metadata": {
    "collapsed": true,
    "deletable": true,
    "editable": true
   },
   "outputs": [],
   "source": [
    "# scrivi qua"
   ]
  },
  {
   "cell_type": "markdown",
   "metadata": {
    "deletable": true,
    "editable": true
   },
   "source": [
    "z"
   ]
  },
  {
   "cell_type": "code",
   "execution_count": 28,
   "metadata": {
    "collapsed": true,
    "deletable": true,
    "editable": true
   },
   "outputs": [],
   "source": [
    "# scrivi qua la funzione senza `re.I`:"
   ]
  },
  {
   "cell_type": "markdown",
   "metadata": {
    "deletable": true,
    "editable": true
   },
   "source": [
    "\n",
    "### La prima regex\n",
    "\n",
    "È ora di usare la nostra prima regex, per farlo dobbiamo guardare le differenze tra le stringe corrette e quella errata: in questo caso sappiamo che ogni *strada provinciale* ha un numero. Proviamo con questa regex\n"
   ]
  },
  {
   "cell_type": "code",
   "execution_count": 18,
   "metadata": {
    "collapsed": false,
    "deletable": true,
    "editable": true
   },
   "outputs": [
    {
     "name": "stdout",
     "output_type": "stream",
     "text": [
      "None\n",
      "<_sre.SRE_Match object; span=(0, 5), match='Sp.89'>\n",
      "<_sre.SRE_Match object; span=(0, 5), match='sp 90'>\n",
      "<_sre.SRE_Match object; span=(11, 16), match='Sp.90'>\n"
     ]
    }
   ],
   "source": [
    "test_regex(r\"sp.\\d\\d\")"
   ]
  },
  {
   "cell_type": "markdown",
   "metadata": {
    "deletable": true,
    "editable": true
   },
   "source": [
    "Ora ti chiederai che cosa significa questa stringa, andiamo con ordine:\n",
    "- La `r` prima dell'inizio della stringa serve ad indicare a python che la seguente è una * **r**aw string*, cioè una stringa un cui non deve espandere le *sequenze di escape* (cioè `\\` seguito da altri caratteri al fine di generare caratteri non stampabili, per esempio `\\n` è il carattere di new-line).\n",
    "- Abbiamo visto che le lettere dell'alfabeto (e i numeri) hanno semplicemente il loro valore.\n",
    "- Il carattere `.` in questo caso è un *metacarattere* che in questo caso si comporta come un \"jolly\" e può identificare qualsiasi carattere ad eccezione de carattere di fine riga (solitamente).\n",
    "- `\\d` sono due caratteri ma sono da considerarsi uno solo. Ogni volta che vediamo il carattere `\\` è da considerarsi assieme al carattere successivo. Il significato in questo caso è una qualsiasi cifra tra `0` e `9`.\n",
    "\n",
    "---\n",
    "\n",
    "### DA FARE\n",
    "Prova ad integrare questo esempio con quello precedente: copia il primo esempio qui sotto, aggiungi la libreria `re` e modifica *linea 7* perché l'*if* utilizzi la regular expression come abbiamo visto nell'esempio precedente.\n"
   ]
  },
  {
   "cell_type": "code",
   "execution_count": 19,
   "metadata": {
    "collapsed": false,
    "deletable": true,
    "editable": true
   },
   "outputs": [
    {
     "name": "stdout",
     "output_type": "stream",
     "text": [
      "['5', '28060z', 'Sp 85 Bivio Sopramonte', '', '46.085226', '11.069313', '10110', '2']\n",
      "['48', '22080z', 'Sp 76 Carpenedi', '', '46.117195', '11.108678', '10110', '2']\n",
      "['49', '22080x', 'Sp 76 Carpenedi', '', '46.117171', '11.108438', '10110', '2']\n",
      "['104', '24040z', 'Sp 131 \"Maso Pradiscola\"', '', '46.083189', '11.135736', '10110', '2']\n",
      "['105', '24040x', 'Sp 131 \"Maso Pradiscola\"', '', '46.083255', '11.135874', '10110', '1']\n",
      "['109', '24350z', 'Sp 131 \"Res. Silvana\"', '', '46.097726', '11.126962', '10110', '2']\n",
      "['110', '24350x', 'Sp 131 \"Res. Silvana\"', '', '46.097493', '11.126925', '10110', '2']\n",
      "['115', '24355z', 'Sp 131 Al Maso Specchio', '', '46.104391', '11.123568', '10110', '2']\n",
      "['116', '24355x', 'Sp 131 Al Maso Specchio', '', '46.104353', '11.123420', '10110', '2']\n",
      "['131', '23040z', 'Sp 76 \"Piac\"', '', '46.126690', '11.114532', '10110', '1']\n",
      "['133', '23035z', 'Sp 76 \"Maregioli\"', '', '46.130755', '11.121750', '10110', '2']\n",
      "['134', '23035x', 'Sp 76 \"Maregioli\"', '', '46.130836', '11.121666', '10110', '1']\n",
      "['139', '23045z', 'Sp 76 \"Via Rossa\"', '', '46.119858', '11.111416', '10110', '2']\n",
      "['140', '23045x', 'Sp 76 \"Via Rossa\"', '', '46.119812', '11.111266', '10110', '2']\n",
      "['143', '23055z', 'Sp 76 Dos di Lamar', '', '46.124939', '11.113463', '10110', '2']\n",
      "['144', '23055x', 'Sp 76 Dos di Lamar', '', '46.124718', '11.113018', '10110', '1']\n",
      "['154', '24520z', 'Sp 131 \"Paganin\"', '', '46.106288', '11.137610', '10110', '2']\n",
      "['155', '24520x', 'Sp 131 \"Paganin\"', '', '46.106524', '11.137306', '10110', '2']\n",
      "['245', '28045z', 'Sp 85 \"Soraval\"', '', '46.083258', '11.063955', '10110', '2']\n",
      "['246', '28045x', 'Sp 85 \"Soraval\"', '', '46.083094', '11.063877', '10110', '2']\n",
      "['439', '27050z', 'Sp 90 \"Maso Prudenza\"', '', '46.028867', '11.111521', '10110', '2']\n",
      "['440', '27050x', 'Sp 90 \"Maso Prudenza\"', '', '46.029290', '11.111771', '10110', '2']\n",
      "['2217', '35021x', 'Brancolino Sp.90', '', '45.900719', '11.020254', '15091', '1']\n",
      "['2218', '35021z', 'Brancolino Sp.90', '', '45.900853', '11.020410', '15091', '1']\n",
      "['2285', '38601z', 'Sp.20 S.Sisinio', '', '45.924877', '11.021092', '18511', '2']\n",
      "['2286', '38611z', 'Sp.20 Zisi', '', '45.931009', '11.022102', '18511', '2']\n",
      "['2287', '38611x', 'Sp.20 Zisi', '', '45.931416', '11.022116', '18511', '2']\n",
      "['2288', '38601x', 'Sp.20 S.Sisinio', '', '45.924981', '11.021093', '18511', '2']\n",
      "['2363', '38591x', 'Sp.20 Maso Tiaf', '', '45.936511', '11.008597', '18511', '2']\n",
      "['2364', '38621x', 'Sp.20 Bivio Per Bordala', '', '45.930910', '11.007172', '18511', '2']\n",
      "['2367', '38621z', 'Sp.20 Bivio Per Bordala', '', '45.930864', '11.007233', '18511', '2']\n",
      "['2368', '38591z', 'Sp.20 Maso Tiaf', '', '45.935890', '11.008594', '18511', '2']\n",
      "['2377', '23050x', 'Sp 76 Bivio S.Lazzaro', '', '46.129006', '11.115500', '10110', '2']\n",
      "['2843', '35161x', 'Sp.20 Bivio Noarna', '', '45.915825', '11.016559', '15091', '2']\n",
      "['2844', '35161z', 'Sp.20 Bivio Noarna', '', '45.915880', '11.016803', '15091', '2']\n",
      "['2897', '32218x', 'Sp.23 \"Nero Cubo\"', '', '45.855421', '11.002179', '10101', '2']\n",
      "['2936', '37551z', 'Sp.89 Maso Brentegam', '', '45.880439', '11.050882', '10101', '2']\n"
     ]
    }
   ],
   "source": [
    "with open('stops.txt', newline='') as f:\n",
    "    reader = csv.reader(f, delimiter=',')    \n",
    "    for row in reader:\n",
    "        if re.search(r'sp.\\d\\d', row[2], re.I):\n",
    "            print(row)"
   ]
  },
  {
   "cell_type": "markdown",
   "metadata": {
    "deletable": true,
    "editable": true
   },
   "source": [
    "## Sintassi delle Python RegEx\n",
    "\n",
    "Proviamo ora a guardare alcuni meta-caratteri importanti nelle regular expression in python (scusate per l'orribile tabella ma [il problema non è solo nostro](https://github.com/jupyter/notebook/issues/3024):\n",
    "\n",
    "### Meta-caratteri\n",
    "\n",
    "| Modificatore | Descrizione |\n",
    "|:---:|:---|\n",
    "| `\\` | usato come *escape* (cioè segnalare che il carattere a seguire, nonostante sia un carattere speciale deve essere trattato come se non lo fosse) o per iniziare una *sequenza* (vedi sotto). |\n",
    "| `.` | usato per rappresentare un qualsiasi carattere ad eccezione della nuova linea (con l'opzione `re.A` possiamo rimuovere anche questa eccezione). |\n",
    "| `^` | usato per indicare l'inizio della riga |\n",
    "| `$` | usato per indicare la fine della riga |\n",
    "| `[...]` | usate per racchiudere l'insieme di caratteri che verificano questa espressione regolare |\n",
    "| `[^...]` | usate per racchiudere l'insieme di caratteri che se presenti **NON** verificano questa espressione regolare |\n",
    "| `A` &#124; `B` | usato per indicare una rappresentazione alternativa, è valida sia che appaia `A`, sia che appaia `B` |\n",
    "| `()` | usate come in matematica per indicare la precedenza sulle operazioni |\n",
    "\n",
    "Nel codice qui sotto ridefiniamo la funzione `test_regex()` usata in precedenza, utilizzando dei numeri di telefono al posto dei nomi delle fermate; per ogni numero controlliamo se l'espressione regolare viene soddisfatta e se lo è lo stampiamo ed in fine testiamo varie proprietà di questi numeri di telefono."
   ]
  },
  {
   "cell_type": "code",
   "execution_count": 20,
   "metadata": {
    "collapsed": false,
    "deletable": true,
    "editable": true
   },
   "outputs": [
    {
     "name": "stdout",
     "output_type": "stream",
     "text": [
      "Tutti i numeri che contengono 33\n",
      "3303303367\n",
      "3232123323\n",
      "3383123222\n",
      "-----\n",
      "Tutti i numeri che iniziano per 33\n",
      "3303303367\n",
      "3383123222\n",
      "-----\n",
      "Tutti i numeri che hanno come penultima cifra 2\n",
      "3232123323\n",
      "3383123222\n",
      "-----\n",
      "Tutti i numeri che contengono 212 o 312\n",
      "3232123323\n",
      "3383123222\n",
      "-----\n",
      "3232123323\n",
      "3383123222\n",
      "-----\n",
      "3232123323\n",
      "3383123222\n",
      "-----\n"
     ]
    }
   ],
   "source": [
    "pattern = r''\n",
    "def test_regex(pattern):\n",
    "    numbers = ['3471234567', \n",
    "             '3303303367', \n",
    "             '3232123323', \n",
    "             '3383123222']\n",
    "    for num in numbers:\n",
    "        if re.search(pattern, num):\n",
    "            print(num)\n",
    "    print(\"-----\")\n",
    "\n",
    "print(\"Tutti i numeri che contengono 33\")\n",
    "test_regex(\"33\")\n",
    "print(\"Tutti i numeri che iniziano per 33\")\n",
    "test_regex(\"^33\")\n",
    "print(\"Tutti i numeri che hanno come penultima cifra 2\")\n",
    "test_regex(\"2.$\")\n",
    "print(\"Tutti i numeri che contengono 212 o 312\")\n",
    "test_regex(\"212|312\")\n",
    "# Oppure\n",
    "test_regex(\"[23]12\")\n",
    "# Oppure\n",
    "test_regex(\"(2|3)12\")\n"
   ]
  },
  {
   "cell_type": "markdown",
   "metadata": {
    "deletable": true,
    "editable": true
   },
   "source": [
    "### DA FARE\n",
    "Prova a scrivere i pattern che soddisfano le proprietà richieste dalla stringa nella `print()` precedente. Cerca di *non guardare* all'esercizio precedente."
   ]
  },
  {
   "cell_type": "code",
   "execution_count": 21,
   "metadata": {
    "collapsed": false,
    "deletable": true,
    "editable": true
   },
   "outputs": [
    {
     "name": "stdout",
     "output_type": "stream",
     "text": [
      "Tutti i numeri che contengono 32\n",
      "3232123323\n",
      "3383123222\n",
      "-----\n",
      "Tutti i numeri che finiscono per 67\n",
      "3471234567\n",
      "3303303367\n",
      "-----\n",
      "Tutti i numeri che hanno come quarta cifra 3\n",
      "3303303367\n",
      "3383123222\n",
      "-----\n",
      "Tutti i numeri che contengono 232 o 233 o 234\n",
      "3471234567\n",
      "3232123323\n",
      "3383123222\n",
      "-----\n",
      "3471234567\n",
      "3232123323\n",
      "3383123222\n",
      "-----\n",
      "3471234567\n",
      "3232123323\n",
      "3383123222\n",
      "-----\n"
     ]
    }
   ],
   "source": [
    "print(\"Tutti i numeri che contengono 32\")\n",
    "test_regex(\"32\")\n",
    "\n",
    "print(\"Tutti i numeri che finiscono per 67\")\n",
    "test_regex(\"67$\")\n",
    "\n",
    "print(\"Tutti i numeri che hanno come quarta cifra 3\")\n",
    "test_regex(\"^...3\")\n",
    "\n",
    "print(\"Tutti i numeri che contengono 232 o 233 o 234\")\n",
    "test_regex(\"232|233|234\")\n",
    "# Oppure\n",
    "test_regex(\"23[234]\")\n",
    "# Oppure\n",
    "test_regex(\"23(2|3|4)\")\n",
    "# Oppure\n",
    "#test_regex(\"23[2-4]\")"
   ]
  },
  {
   "cell_type": "markdown",
   "metadata": {
    "deletable": true,
    "editable": true
   },
   "source": [
    "### Ripetizioni\n",
    "\n",
    "Le espressioni regolari possono anche gestire delle ripetizioni di particolari pattern utilizzando altri caratteri speciali. \n",
    "\n",
    "| Modificatori | Descrizione |\n",
    "| :---: | :--- |\n",
    "| `{m, n}` | il carattere o gruppo a cui è riferito viene ripetuto almeno `m` volte fino ad un massimo di `n` volte. |\n",
    "| `{m}` | il carrattere o il gruppo a cui è riferito viene ripetuto esattamente `m` volte |\n",
    "| `?` | il carattere o il gruppo a cui è riferito viene ripetuto `0` o `1` volta. Equivale a `{,1}`. |\n",
    "| `*` | il carattere o il gruppo a cui è riferito viene ripetuto `0` o più volte . Equivale a `{,}`. |\n",
    "| `+` | il carattere o il gruppo a cui è riferito viene ripetuto `1` o più volte. Equivale a `{1,}`. |\n",
    "\n",
    "I caratteri o gruppi a cui si riferiscono i `modificatori delle ripetizioni` appena precedenti ad essi, vediamo un esempio"
   ]
  },
  {
   "cell_type": "code",
   "execution_count": 22,
   "metadata": {
    "collapsed": false,
    "deletable": true,
    "editable": true
   },
   "outputs": [
    {
     "name": "stdout",
     "output_type": "stream",
     "text": [
      "<_sre.SRE_Match object; span=(0, 5), match='aaaab'>\n",
      "<_sre.SRE_Match object; span=(1, 3), match='ab'>\n",
      "None\n",
      "None\n"
     ]
    }
   ],
   "source": [
    "print(re.search(\"a+b\", \"aaaabbb\"))\n",
    "print(re.search(\"a+b\", \"bab\"))\n",
    "print(re.search(\"a+b\", \"bbb\"))\n",
    "print(re.search(\"a+b\", \"aaaa\"))"
   ]
  },
  {
   "cell_type": "markdown",
   "metadata": {
    "deletable": true,
    "editable": true
   },
   "source": [
    "Come pui vedere nell'esempio qui sopra il pattern `a+b` indica `a` una o più volte, seguito da una `b`. Quano si ha un match puoi vedere nell'oggetto ritornato dal metodo `re.search()` la sottostringa che ha verificato la regex (usando il metodo `group()`) e gli indici della posizione di essa all'interno della stringa (chiamando il metodo `.span()`).\n",
    "\n",
    "### DA FARE\n",
    "\n",
    "Qui sotto la funzione `pass_n_fail()` prende come parametri un `pattern` e due liste di stringhe: `pass_list` e `fail_list`. La funzione controlla se quelle che appartengono alla prima lista verifichino l'espressione regolare mentre quelle nella seconda non lo facciano. \n",
    "\n",
    "Prova a completare il codice aggiungendo delle stringhe (almeno 2) che soddisfano i pattern assegnati:"
   ]
  },
  {
   "cell_type": "code",
   "execution_count": 23,
   "metadata": {
    "collapsed": false,
    "deletable": true,
    "editable": true
   },
   "outputs": [
    {
     "name": "stdout",
     "output_type": "stream",
     "text": [
      "ERRORE: '' non verifica a e dovrebbe farlo\n",
      "ERRORE: '' non verifica a e dovrebbe farlo\n"
     ]
    }
   ],
   "source": [
    "def pass_n_fail(pattern, pass_list, fail_list):\n",
    "    for p in pass_list:\n",
    "        if not re.search(pattern, p):\n",
    "            print(\"ERRORE: '{}' non verifica {} e dovrebbe farlo\".format(p, pattern))\n",
    "    for f in fail_list:\n",
    "        if re.search(pattern, f):\n",
    "            print(\"ERRORE: '{}' verifica {} e non dovrebbe farlo\".format(f, pattern))\n",
    "\n",
    "# ESEMPIO\n",
    "pass_n_fail(\"a\",\n",
    "            [\"aa\",\"a\"],\n",
    "            [\"b\",\"c\"]\n",
    "           )\n",
    "# Prova tu:\n",
    "pass_n_fail(\"a\",\n",
    "            [\"\",\"\"], #TODO\n",
    "            [\"\",\"\"]\n",
    "           )"
   ]
  },
  {
   "cell_type": "code",
   "execution_count": 24,
   "metadata": {
    "collapsed": false,
    "deletable": true,
    "editable": true
   },
   "outputs": [
    {
     "name": "stdout",
     "output_type": "stream",
     "text": [
      "ERRORE: '' non verifica ab+ e dovrebbe farlo\n",
      "ERRORE: '' non verifica ab+ e dovrebbe farlo\n"
     ]
    }
   ],
   "source": [
    "# Adesso un po più difficile\n",
    "pass_n_fail(\"ab+\",\n",
    "            [\"\",\"\"], #TODO\n",
    "            [\"\",\"\"]\n",
    "           )"
   ]
  },
  {
   "cell_type": "code",
   "execution_count": 25,
   "metadata": {
    "collapsed": false,
    "deletable": true,
    "editable": true
   },
   "outputs": [
    {
     "name": "stdout",
     "output_type": "stream",
     "text": [
      "ERRORE: '' non verifica ab* e dovrebbe farlo\n",
      "ERRORE: '' non verifica ab* e dovrebbe farlo\n"
     ]
    }
   ],
   "source": [
    "# Adesso un po più difficile ancora\n",
    "pass_n_fail(\"ab*\",\n",
    "            [\"\",\"\"], #TODO\n",
    "            [\"\",\"\"]\n",
    "           )"
   ]
  },
  {
   "cell_type": "code",
   "execution_count": 26,
   "metadata": {
    "collapsed": false,
    "deletable": true,
    "editable": true
   },
   "outputs": [
    {
     "name": "stdout",
     "output_type": "stream",
     "text": [
      "ERRORE: '' non verifica ^[ab]+[^ab]$ e dovrebbe farlo\n",
      "ERRORE: '' non verifica ^[ab]+[^ab]$ e dovrebbe farlo\n"
     ]
    }
   ],
   "source": [
    "# OK! Ancora un paio\n",
    "pass_n_fail(\"^[ab]+[^ab]$\",\n",
    "            [\"\",\"\"], #TODO\n",
    "            [\"\",\"\"]\n",
    "           )"
   ]
  },
  {
   "cell_type": "code",
   "execution_count": 27,
   "metadata": {
    "collapsed": false,
    "deletable": true,
    "editable": true
   },
   "outputs": [
    {
     "name": "stdout",
     "output_type": "stream",
     "text": [
      "ERRORE: '' non verifica .?\\.{3}$ e dovrebbe farlo\n",
      "ERRORE: '' non verifica .?\\.{3}$ e dovrebbe farlo\n"
     ]
    }
   ],
   "source": [
    "# L'ultima\n",
    "pass_n_fail(\".?\\.{3}$\",\n",
    "            [\"\",\"\"], #TODO\n",
    "            [\"\",\"\"]\n",
    "           )"
   ]
  },
  {
   "cell_type": "markdown",
   "metadata": {
    "deletable": true,
    "editable": true
   },
   "source": [
    "### Sequenze\n",
    "\n",
    "A volte vogliamo considerare insiemi molto grandi di possibili simboli in una espressione regolare: per esempio se vogliamo validare la struttura di un indirizzo email vogliamo controllare che contenga almeno 3 caratteri, una `@` altri 3 caratteri un punto e almeno altri 2 caratteri. Il problema è che alcuni caratteri non possono essere presenti nelle email (come ad esempio `\\|{}()[]` etc...), se dovessimo scrivere un set di caratteri da escludere usando l'espressione `[^...]` ci costerebbe molto tempo e spazio, inoltre sarebbe facile dimenticarsi qualche simbolo e quasi impossibile da leggere. Per ovviare a questo problema sono stati introdotte delle scorciatoie: delle *sequenze* di simboli che vanno a sostituire lunghi set di caratteri di comune utilizzo, eccone alcuni:\n",
    "\n",
    "| Sequenza | Descrizione |\n",
    "| :---: | :--- |\n",
    "| \\A | Inizio della stringa (simile a `^`) |\n",
    "| \\d | Cifre da 0 a 9 |\n",
    "| \\D | Tutto eccetto le cifre |\n",
    "| \\s | Spaziature |\n",
    "| \\S | Tutto eccetto le spaziature |\n",
    "| \\w | Tutti i caratteri alfanumerici e `_` |\n",
    "| \\W | Tutto eccetto i caratteri alfanumerici e l' `_` |\n",
    "| \\Z | Fine della stringa (simile a `$`) |\n",
    "\n",
    "### DA FARE\n",
    "\n",
    "Proviamo a variare l'esercizio precedente adesso quando macherà sarai tu a *scrivere dei pattern* che verifichi le stringhe nella `pass_list` ed escluda quelle nella `fail_list`, dove troverai il pattern sarà come l'esercizio precedente.\n"
   ]
  },
  {
   "cell_type": "code",
   "execution_count": 32,
   "metadata": {
    "collapsed": true,
    "deletable": true,
    "editable": true
   },
   "outputs": [],
   "source": [
    "#Scegli il PATTERN\n",
    "pass_n_fail(r\"^\\d\\s\\w+\",\n",
    "            [\"3 ramarri\", \"2 carri\"],\n",
    "            [\"tre ramarri\", \"due carri\", \"3 \", \"2 \"]\n",
    "           )"
   ]
  },
  {
   "cell_type": "code",
   "execution_count": 33,
   "metadata": {
    "collapsed": true,
    "deletable": true,
    "editable": true
   },
   "outputs": [],
   "source": [
    "#Scegli le STRINGHE\n",
    "pass_n_fail(r\"^(w{3}\\.)?\\w\\w+\\.\\w\\w+\",\n",
    "            [\"www.google.it\",\"youtube.com\"],\n",
    "            [\"ciaociao\",\" www.google.com\"]\n",
    "           )"
   ]
  },
  {
   "cell_type": "code",
   "execution_count": 35,
   "metadata": {
    "collapsed": true,
    "deletable": true,
    "editable": true
   },
   "outputs": [],
   "source": [
    "#Scegli il PATTERN\n",
    "pass_n_fail(r\"\\d{2}[-/.][01]\\d[-/.]\\d\\d(\\d\\d)?$\",\n",
    "            [\"21.12.2017\", \"11/01/2018\", \"16-12-89\"],\n",
    "            [\"1621211003\", \"11/20/2010\", \"12-12-123\"]\n",
    "           )"
   ]
  },
  {
   "cell_type": "markdown",
   "metadata": {
    "deletable": true,
    "editable": true
   },
   "source": [
    "## Le funzioni della libreria `re`\n",
    "\n",
    "Fino ad ora abbiamo usato una sola funzione della libreria `re` di Python, ossia `re.search()` ma sono presenti anche altre funzionalità, la più simile è il metodo `re.match()`:\n"
   ]
  },
  {
   "cell_type": "code",
   "execution_count": 30,
   "metadata": {
    "collapsed": false,
    "deletable": true,
    "editable": true
   },
   "outputs": [
    {
     "name": "stdout",
     "output_type": "stream",
     "text": [
      "<_sre.SRE_Match object; span=(2, 3), match='c'>\n",
      "None\n",
      "<_sre.SRE_Match object; span=(0, 1), match='a'>\n"
     ]
    }
   ],
   "source": [
    "print(re.search('c', 'abcde'))\n",
    "print(re.match('c', 'abcde'))\n",
    "print(re.match('a', 'abcde'))"
   ]
  },
  {
   "cell_type": "markdown",
   "metadata": {
    "deletable": true,
    "editable": true
   },
   "source": [
    "Riesci a capire la differenza? `help(re.match)` e `help(re.search)` possono tornarti utili. "
   ]
  }
 ],
 "metadata": {
  "kernelspec": {
   "display_name": "Python 3",
   "language": "python",
   "name": "python3"
  },
  "language_info": {
   "codemirror_mode": {
    "name": "ipython",
    "version": 3
   },
   "file_extension": ".py",
   "mimetype": "text/x-python",
   "name": "python",
   "nbconvert_exporter": "python",
   "pygments_lexer": "ipython3",
   "version": "3.5.2"
  }
 },
 "nbformat": 4,
 "nbformat_minor": 2
}
