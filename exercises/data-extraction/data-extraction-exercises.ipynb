{
 "cells": [
  {
   "cell_type": "markdown",
   "metadata": {
    "deletable": true,
    "editable": true
   },
   "source": [
    "# Estrazione dati: esercizi"
   ]
  },
  {
   "cell_type": "markdown",
   "metadata": {
    "collapsed": false,
    "deletable": true,
    "editable": true
   },
   "source": [
    "\n",
    "## Obbiettivi\n",
    "\n",
    "0. Chiedersi se ne vale la pena\n",
    "1. Analizzare l'html da una pagina del sito `visittrentino.info`, usando la libreria Python BeautifulSoup 4.\n",
    "2. Per ogni evento, estrarre nome, data, luogo, tipo, descrizione e metterli un una lista di dizionari Python così:\n",
    "\n",
    "```python\n",
    "[{'data': '14/12/2017',\n",
    "  'descrizione': 'Al Passo Costalunga sfida tra i migliori specialisti del mondo',\n",
    "  'luogo': 'Passo Costalunga',\n",
    "  'nome': 'Coppa del Mondo di Snowboard',\n",
    "  'tipo': 'Sport, TOP EVENTI SPORT'},\n",
    " {'data': '18/12/2017',\n",
    "  'descrizione': 'Lunedì 18 dicembre la Coppa Europa fa tappa in Val di Fassa',\n",
    "  'luogo': 'Pozza di Fassa',\n",
    "  'nome': 'Coppa Europa di sci alpino maschile - slalom speciale',\n",
    "  'tipo': 'Sport, TOP EVENTI SPORT'},\n",
    "  ....\n",
    "]\n",
    "```\n",
    "3. Scrivere un file CSV `eventi.csv` usando la lista di dizionari generata al punto precedente.\n",
    "\n",
    "## 0. Ne vale la pena ?\n",
    "\n",
    "L'estrazione diretta dall'HTML (detta anche _scraping_) è sempre _l'ultima opzione_ possibile. E' dispendiosa in termini di tempo, e se il sito viene modificato anche solo graficamente (cosa sempre probabile) potreste non essere più in grado di estrarre di nuovo i dati. Quindi, prima di procedere, chiedersi sempre: \n",
    "\n",
    "- i dati desiderati sono magari sono già disponibili altrove in qualche formato che possiamo leggere in Python (CSV / JSON) ?\n",
    "- se no, dal sito dove vorremmo estrarre, è disponibile una webapi per ottenere i dati desiderati in modo programmatico ? Di solito queste webapi si trovano nella sezione _developers_ dei siti. Se esiste\n",
    "    - di quante / quali chiamate abbiamo bisogno? \n",
    "    - bisogna registrarsi una api key?\n",
    "    - la api costa qualcosa?\n",
    "    - Quante chiamate possiamo fare al giorno?\n",
    "- la pagina è annotata semanticamente con tag jsonld / RDF ? \n",
    "- Se la risposta a tutte le domande precenti è negativa e ci vediamo costretti a leggere l'html:\n",
    "    - quali sono i termini d'uso del sito in questione? \n",
    "    - i termini negano esplicitamente il cosiddetto _scraping_?\n",
    "\n",
    "**DA FARE**: Cercare file di \"eventi\" su [dati.trentino.it](http://dati.trentino.it). \n",
    "\n",
    "**DA FARE**: cercare i termini d'uso di [visittrentino.info](https://www.visittrentino.info/en) \n",
    "\n",
    "**DOMANDA**: Nel nostro caso, varrebbe la pena / saremmo autorizzati a fare scraping HTML ?\n",
    "\n",
    "\n",
    "## 1. Guardiamo l'html\n",
    "\n",
    "Indipendentemente dalla domanda posta al punto precedente, per fini didattici proseguiremo con lo _scraping_ html.\n",
    "\n",
    "All'interno dello zip degli esercizi, c'è un file chiamato `eventi.html` (questo esatto file è anche disponibile per il browsing online [qui](eventi.html)). Dopo aver scompattato lo zip, apri il file nel tuo browser. \n",
    "\n",
    "**1.1 DA FARE**: Dopo aver aperto il file nel browser, visualizza l'HTML all'interno (premendo per es `Ctrl+U` in Firefox/Chrome/Safari). Familiarizzati un po' con il file sorgente, cercando all'interno alcuni valori del primo evento , come per esempio il nome `Coppa del Mondo di Snowboard`, la data `14/12/2017`, il luogo `Passo Costalunga`, il tipo `Sport, TOP EVENTI SPORT`, e la descrizione `Al Passo Costalunga sfida tra i migliori specialisti del mondo`.\n",
    "\n",
    "**NOTA 1**: Per questo esercizio, usa solo il file `eventi.html`indicato, NON usare l'html proveniente dalla [versione live](https://www.visittrentino.info/it/guida/eventi) di visittrentino, che può essere soggetta a cambiamenti !   \n",
    "\n",
    "**NOTA 2**: Evita di usare il browser Internet Explorer, in alternativa cerca di usare uno tra i seguenti (in quest'ordine): Firefox, Chrome, Safari.  \n",
    "\n",
    "Per maggiori informazioni sul formato XML, di cui l'HTML è una incarnazione, puoi consultare il libro Immersione in Python [al capitolo 12](http://gpiancastelli.altervista.org/dip3-it/xml.html), \n",
    "\n",
    "## 2. Estrazione con BeautifulSoup\n",
    "\n",
    "Installiamo le librerie `beautifulsoup4` e il parser `lxml`:\n",
    "\n",
    "- Anaconda: \n",
    "    * `conda install beautifulsoup4`\n",
    "    * `conda install lxml`\n",
    "- Linux/Mac (`--user` installa nella propria home): \n",
    "    * `python3 -m pip install --user beautifulsoup4`\n",
    "    * `python3 -m pip install --user lxml`\n",
    "\n",
    "### 2.1 Estraiamo i nomi\n",
    "\n",
    "**DA FARE 2.1.1** Cerchiamo nell'HTML la stringa `Coppa del Mondo di Snowboard`, cercando di capire bene in quali blocchi appare. \n",
    "\n",
    "**SOLUZIONE 2.1.1**:\n",
    "\n",
    "Compare in blocchi `h2` come `<h2 class=\"text-secondary\">Coppa del Mondo di Snowboard</h2>` qua:\n",
    "\n",
    "```html\n",
    "<div class=\"col col-sm-9 arrange__item\">\n",
    "                    <a href=\"https://www.visittrentino.info/it/guida/eventi/coppa-del-mondo-di-snowboard_e_165375\" class=\"text-primary list-teaser__link\"><span class=\"icon icon-circle-arrow fz30\"></span></a>\n",
    "                    <div class=\"teaser__body\">\n",
    "                                                    <span class=\"text-secondary fz14 text-uppercase strong\">Sport, TOP EVENTI SPORT</span>\n",
    "                                                <h2 class=\"text-secondary\">Coppa del Mondo di Snowboard</h2>\n",
    "                        <ul class=\"list-unstyled list-inline list__teaser__list mb15 mt10\">\n",
    "                                                            <li>\n",
    "                                    <a class=\"fz14 text-uppercase strong text-primary\"><span class=\"icon icon-map-view mr10\"></span>Passo Costalunga</a>\n",
    "                                </li>\n",
    "                                                        <li>\n",
    "                                <a class=\"fz14 text-uppercase strong text-primary\"><span class=\"icon icon-map-view mr10\"></span>14/12/2017</a>\n",
    "                            </li>\n",
    "                        </ul>\n",
    "                        <p>Al Passo Costalunga sfida tra i migliori specialisti del mondo</p>\n",
    "                    </div>\n",
    "                </div>\n",
    "```\n",
    "\n",
    "Compare in blocchi script come qua alla riga ` class=\\\"fz24 text-blue\\\">Coppa del Mondo di Snowboard<\\/` : \n",
    "\n",
    "```html\n",
    "\n",
    "<script>\n",
    "    var mapData = [{\"id\":165375,\"lat\":46.4021014,\"lng\":11.6110718,\"poiIcon\":\"\\/static\\/img\\/content\\/pois\\/poi.png\",\"poiIconActive\":\"\\/static\\/img\\/content\\/pois\\/poi-active.png\",\"infoBox\":\"<div class=\\\"row\\\"><div class=\\\"col-xs-5\\\"><img src=\\\"\\/website\\/var\\/tmp\\/image-thumbnails\\/0\\/9500\\/thumb__moodboardmap\\/snowparks-and-snowboard-brenta-dolomites_1.jpeg\\\"><\\/div><div class=\\\"col-xs-7\\\"><h2 class=\\\"fz24 text-blue\\\">Coppa del Mondo di Snowboard<\\/h2><p class=\\\"fz14\\\">14\\/12 A Passo Costalunga sfida tra i migliori specialisti del mondo<\\/p><a href=\\\"\\/it\\/guida\\/eventi\\/coppa-del-mondo-di-snowboard_e_165375\\\" class=\\\"btn btn-primary\\\">Maggiori info<\\/a><\\/div><\\/div>\"},{\"id\":309611,\"lat\":46.403707118232,\"lng\":11.60915851593,\"poiIcon\":\"\\/static\\/img\\/content\\/pois\\/poi.png\",\"poiIconActive\":\"\\/static\\/img\\/content\\/pois\\/poi-active.png\",\"infoBox\":\"<div class=\\\"row\\\"><div class=\\\"col-xs-5\\\"><img src=\\\"\\/website\\/var\\/tmp\\/image-thumbnails\\/110000\\/119958\\/thumb__moodboardmap\\/foto-3_2.jpeg\\\"><\\/div><div class=\\\"col-xs-7\\\"><h2 class=\\\"fz24 text-blue\\\">Coppa Europa di sci alpino maschile - slalom speciale<\\/h2><p class=\\\"fz14\\\">18 dicembre in Val di Fassa<\\/p><a href=\\\"\\/it\\/guida\\/eventi\\/coppa-europa-di-sci-alpino-maschile-slalom-speciale_e_309611\\\" class=\\\"btn btn-primary\\\">Maggiori info<\\/a><\\/div><\\/div>\"},\n",
    "\n",
    "....\n",
    "....\n",
    "</script>\n",
    "```\n",
    "\n",
    "Compare in altri blocchi script jsonld nella parte  `\"name\":\"Coppa del Mondo di Snowboard\"` come qua: \n",
    "\n",
    "```\n",
    " <script type=\"application/ld+json\">\n",
    "{\"@context\":\"http://schema.org\",\"@type\":\"Event\",\"name\":\"Coppa del Mondo di Snowboard\",\"description\":\"Al Passo Costalunga sfida tra i migliori specialisti del mondo\",\"startDate\":\"2017-12-14T00:00:00+01:00\",\"endDate\":\"2017-12-14T00:00:00+01:00\",\"location\":{\"@type\":\"Place\",\"name\":\"Passo Costalunga\",\"address\":{\"@type\":\"PostalAddress\",\"addressCountry\":\"Italy\",\"postalCode\":\"39056\",\"streetAddress\":\"\"}},\"image\":{\"@type\":\"ImageObject\",\"url\":\"https://www.visittrentino.info/website/var/tmp/image-thumbnails/0/9500/thumb__contentgallery/snowparks-and-snowboard-brenta-dolomites_1.jpeg\",\"height\":396,\"width\":791},\"performer\":\"Trentino Marketing S.r.l.\",\"url\":\"https://www.visittrentino.info/it/guida/eventi/coppa-del-mondo-di-snowboard_e_165375\",\"offers\":{\"@type\":\"AggregateOffer\",\"lowPrice\":\"\\u20ac0\",\"offerCount\":\"000\",\"url\":\"https://www.visittrentino.info/it/guida/eventi/coppa-del-mondo-di-snowboard_e_165375\"}}\n",
    "</script>\n",
    "```\n",
    "\n",
    "Compare in blocchi `h4` come qua: ` <h4 class=\"moodboard__item-headline\">Coppa del Mondo di Snowboard</h4>`:\n",
    "\n",
    "```html\n",
    "<div class=\"moodboard__item-text text-white\">\n",
    "    <div>\n",
    "        <h4 class=\"moodboard__item-headline\">Coppa del Mondo di Snowboard</h4>\n",
    "                    <span class=\"moodboard__item-subline strong fz14 text-uppercase d-b\">14/12/2017</span>\n",
    "                            <span class=\"moodboard__item-subline strong fz14 d-b\"><span class=\"icon icon-map-view fz20\"></span> Passo Costalunga</span>\n",
    "            </div>\n",
    "    <div class=\"moodboard__item-text__link text-right\">\n",
    "        <a href=\"https://www.visittrentino.info/it/guida/eventi/coppa-del-mondo-di-snowboard_e_165375\" role=\"link\"><span class=\"icon icon-circle-arrow fz30\"></span></a>\n",
    "    </div>\n",
    "</div>\n",
    "\n",
    "```\n",
    "\n",
    "Per questo esercizio, considereremo quest'ultimo blocco. In particolare vediamo la riga: \n",
    "\n",
    "```html\n",
    "<h4 class=\"moodboard__item-headline\">Coppa del Mondo di Snowboard</h4>\n",
    "```\n",
    "\n",
    "Notiamo che: \n",
    "\n",
    "* inizia con il tag `<h4>`\n",
    "* finisce simmetricamente con il tag di chiusura `</h4>`\n",
    "* il tag di apertura ha un parametro `class=\"moodboard__item-headline\"`, ma al momento non ci interessa\n",
    "* Il testo che cerchiamo `Coppa del Mondo di Snowboard` è incluso tra i due tag\n",
    "\n",
    "Per estrarre solo i nomi degli eventi dal documento, possiamo quindi cercare i tag `h4`. Eseguiamo la nostra prima estrazione"
   ]
  },
  {
   "cell_type": "code",
   "execution_count": 1,
   "metadata": {
    "collapsed": false,
    "deletable": true,
    "editable": true
   },
   "outputs": [
    {
     "name": "stdout",
     "output_type": "stream",
     "text": [
      "<h4 class=\"moodboard__item-headline\">Coppa del Mondo di Snowboard</h4>\n",
      "<h4 class=\"moodboard__item-headline\">Coppa Europa di sci alpino maschile - slalom speciale</h4>\n",
      "<h4 class=\"moodboard__item-headline\">3Tre - AUDI FIS Ski World Cup</h4>\n",
      "<h4 class=\"moodboard__item-headline\">La Marcialonga di Fiemme e Fassa </h4>\n",
      "<h4 class=\"moodboard__item-headline\">TrentinoSkiSunrise: sulle piste alla luce dell’alba</h4>\n",
      "<h4 class=\"moodboard__item-headline\">Tour de Ski</h4>\n",
      "<h4 class=\"moodboard__item-headline\">La mia nuvola</h4>\n",
      "<h4 class=\"moodboard__item-headline\">Dormire sotto un cielo di stelle</h4>\n",
      "<h4 class=\"moodboard__item-headline\">Mercatini di Natale di Canale di Tenno e Rango </h4>\n",
      "<h4 class=\"moodboard__item-headline\">La Ciaspolada</h4>\n",
      "<h4 class=\"moodboard__item-headline\">Mercatini di Natale a Trento</h4>\n",
      "<h4 class=\"moodboard__item-headline\">Mercatini di Natale di Rovereto</h4>\n",
      "<h4 class=\"moodboard__item-headline\">Mercatino di Natale asburgico di Levico Terme</h4>\n",
      "<h4 class=\"moodboard__item-headline\">Magnifico Mercatino di Cavalese</h4>\n",
      "<h4 class=\"moodboard__item-headline\">Mercatino di Natale ad Arco</h4>\n",
      "<h4 class=\"moodboard__item-headline\">El paès dei presepi</h4>\n"
     ]
    }
   ],
   "source": [
    "from bs4 import BeautifulSoup\n",
    "\n",
    "with open(\"eventi.html\") as f:  # apriamo il file degli eventi, e lo chiamiamo con 'f', un nome che scegliamo noi  \n",
    "    soup = BeautifulSoup(f, \"lxml\")    # creaiamo un oggetto che chiamiamo 'soup', usando il parser lxml\n",
    "    \n",
    "# soup ci permette di chiamare il metodo select, per selezionare per esempio solo tag 'h4':\n",
    "# il metodo ritorna una lista di tag trovate nel documento. Per ogni tag ritornata, la stampiamo:\n",
    "for tag in soup.select(\"h4\"):  \n",
    "    print(tag)"
   ]
  },
  {
   "cell_type": "markdown",
   "metadata": {
    "deletable": true,
    "editable": true
   },
   "source": [
    "Benissimo, abbiamo filtrato le tag coi nomi degli eventi. Ma noi vogliamo solo i nomi. Tipicamente dalle nostre tag ci interessa estrarre solo il testo. A tal fine. possiamo usare l'attributo `text` delle tag:"
   ]
  },
  {
   "cell_type": "code",
   "execution_count": 2,
   "metadata": {
    "collapsed": false,
    "deletable": true,
    "editable": true
   },
   "outputs": [
    {
     "name": "stdout",
     "output_type": "stream",
     "text": [
      "Coppa del Mondo di Snowboard\n",
      "Coppa Europa di sci alpino maschile - slalom speciale\n",
      "3Tre - AUDI FIS Ski World Cup\n",
      "La Marcialonga di Fiemme e Fassa \n",
      "TrentinoSkiSunrise: sulle piste alla luce dell’alba\n",
      "Tour de Ski\n",
      "La mia nuvola\n",
      "Dormire sotto un cielo di stelle\n",
      "Mercatini di Natale di Canale di Tenno e Rango \n",
      "La Ciaspolada\n",
      "Mercatini di Natale a Trento\n",
      "Mercatini di Natale di Rovereto\n",
      "Mercatino di Natale asburgico di Levico Terme\n",
      "Magnifico Mercatino di Cavalese\n",
      "Mercatino di Natale ad Arco\n",
      "El paès dei presepi\n"
     ]
    }
   ],
   "source": [
    "for tag in soup.select(\"h4\"):\n",
    "    print(tag.text)"
   ]
  },
  {
   "cell_type": "markdown",
   "metadata": {
    "deletable": true,
    "editable": true
   },
   "source": [
    "Casomai volessimo, si può anche estrarre un attributo, per esempio la `class`"
   ]
  },
  {
   "cell_type": "code",
   "execution_count": 3,
   "metadata": {
    "collapsed": false,
    "deletable": true,
    "editable": true
   },
   "outputs": [
    {
     "name": "stdout",
     "output_type": "stream",
     "text": [
      "['moodboard__item-headline']\n",
      "['moodboard__item-headline']\n",
      "['moodboard__item-headline']\n",
      "['moodboard__item-headline']\n",
      "['moodboard__item-headline']\n",
      "['moodboard__item-headline']\n",
      "['moodboard__item-headline']\n",
      "['moodboard__item-headline']\n",
      "['moodboard__item-headline']\n",
      "['moodboard__item-headline']\n",
      "['moodboard__item-headline']\n",
      "['moodboard__item-headline']\n",
      "['moodboard__item-headline']\n",
      "['moodboard__item-headline']\n",
      "['moodboard__item-headline']\n",
      "['moodboard__item-headline']\n"
     ]
    }
   ],
   "source": [
    "for tag in soup.select('h4'):    \n",
    "    print(tag['class'])"
   ]
  },
  {
   "cell_type": "markdown",
   "metadata": {
    "deletable": true,
    "editable": true
   },
   "source": [
    "Intanto, cerchiamo di mettere tutti i nomi in una lista che chiameremo `nomi`:"
   ]
  },
  {
   "cell_type": "code",
   "execution_count": 4,
   "metadata": {
    "collapsed": true,
    "deletable": true,
    "editable": true
   },
   "outputs": [],
   "source": [
    "nomi = []\n",
    "for tag in soup.select(\"h4\"):\n",
    "    nomi.append(tag.text)"
   ]
  },
  {
   "cell_type": "code",
   "execution_count": 5,
   "metadata": {
    "collapsed": false,
    "deletable": true,
    "editable": true
   },
   "outputs": [
    {
     "data": {
      "text/plain": [
       "['Coppa del Mondo di Snowboard',\n",
       " 'Coppa Europa di sci alpino maschile - slalom speciale',\n",
       " '3Tre - AUDI FIS Ski World Cup',\n",
       " 'La Marcialonga di Fiemme e Fassa ',\n",
       " 'TrentinoSkiSunrise: sulle piste alla luce dell’alba',\n",
       " 'Tour de Ski',\n",
       " 'La mia nuvola',\n",
       " 'Dormire sotto un cielo di stelle',\n",
       " 'Mercatini di Natale di Canale di Tenno e Rango ',\n",
       " 'La Ciaspolada',\n",
       " 'Mercatini di Natale a Trento',\n",
       " 'Mercatini di Natale di Rovereto',\n",
       " 'Mercatino di Natale asburgico di Levico Terme',\n",
       " 'Magnifico Mercatino di Cavalese',\n",
       " 'Mercatino di Natale ad Arco',\n",
       " 'El paès dei presepi']"
      ]
     },
     "execution_count": 5,
     "metadata": {},
     "output_type": "execute_result"
    }
   ],
   "source": [
    "nomi"
   ]
  },
  {
   "cell_type": "markdown",
   "metadata": {
    "deletable": true,
    "editable": true
   },
   "source": [
    "Cominciamo a costruirci la struttura dati che modellerà il CSV che vogliamo creare. Un CSV può essere visto come una lista di dizionari. Ogni dizionario rappresenterà un evento. Passo passo, vorremmo arrivare ad avere una forma simile:\n",
    "\n",
    "```python\n",
    "[{'data': '14/12/2017',\n",
    "  'descrizione': 'Al Passo Costalunga sfida tra i migliori specialisti del mondo',\n",
    "  'luogo': 'Passo Costalunga',\n",
    "  'nome': 'Coppa del Mondo di Snowboard',\n",
    "  'tipo': 'Sport, TOP EVENTI SPORT'},\n",
    " {'data': '18/12/2017',\n",
    "  'descrizione': 'Lunedì 18 dicembre la Coppa Europa fa tappa in Val di Fassa',\n",
    "  'luogo': 'Pozza di Fassa',\n",
    "  'nome': 'Coppa Europa di sci alpino maschile - slalom speciale',\n",
    "  'tipo': 'Sport, TOP EVENTI SPORT'},\n",
    "  ....\n",
    "]\n",
    "```\n",
    "\n",
    "\n",
    "Inizializziamo la lista delle righe:"
   ]
  },
  {
   "cell_type": "code",
   "execution_count": 6,
   "metadata": {
    "collapsed": true,
    "deletable": true,
    "editable": true
   },
   "outputs": [],
   "source": [
    "righe = []"
   ]
  },
  {
   "cell_type": "code",
   "execution_count": 7,
   "metadata": {
    "collapsed": false,
    "deletable": true,
    "editable": true
   },
   "outputs": [
    {
     "data": {
      "text/plain": [
       "[]"
      ]
     },
     "execution_count": 7,
     "metadata": {},
     "output_type": "execute_result"
    }
   ],
   "source": [
    "righe"
   ]
  },
  {
   "cell_type": "markdown",
   "metadata": {
    "deletable": true,
    "editable": true
   },
   "source": [
    "Dobbiamo aggiungere dei dizionari vuoti, ma quanti ce ne servono ? Vediamo quanti titoli abbiamo trovato con la funzione `len`:"
   ]
  },
  {
   "cell_type": "code",
   "execution_count": 8,
   "metadata": {
    "collapsed": false,
    "deletable": true,
    "editable": true
   },
   "outputs": [
    {
     "data": {
      "text/plain": [
       "16"
      ]
     },
     "execution_count": 8,
     "metadata": {},
     "output_type": "execute_result"
    }
   ],
   "source": [
    "len(nomi)"
   ]
  },
  {
   "cell_type": "raw",
   "metadata": {
    "deletable": true,
    "editable": true
   },
   "source": [
    "Procediamo quindi ad aggiungere 16 dizionari aggiungendo un dizionario vuoto alla volta a `rows` con la funzione `append` :"
   ]
  },
  {
   "cell_type": "code",
   "execution_count": 9,
   "metadata": {
    "collapsed": true,
    "deletable": true,
    "editable": true
   },
   "outputs": [],
   "source": [
    "for i in range(16):\n",
    "    righe.append({})"
   ]
  },
  {
   "cell_type": "code",
   "execution_count": 10,
   "metadata": {
    "collapsed": false,
    "deletable": true,
    "editable": true
   },
   "outputs": [
    {
     "data": {
      "text/plain": [
       "[{}, {}, {}, {}, {}, {}, {}, {}, {}, {}, {}, {}, {}, {}, {}, {}]"
      ]
     },
     "execution_count": 10,
     "metadata": {},
     "output_type": "execute_result"
    }
   ],
   "source": [
    "righe"
   ]
  },
  {
   "cell_type": "markdown",
   "metadata": {},
   "source": [
    "Adesso, in ogni dizionario, mettiamo un campo 'nome' usando il valore corrispendente trovato nella lista `nomi`: "
   ]
  },
  {
   "cell_type": "code",
   "execution_count": 11,
   "metadata": {
    "collapsed": true,
    "deletable": true,
    "editable": true
   },
   "outputs": [],
   "source": [
    "i = 0\n",
    "for stringa in nomi:\n",
    "    righe[i]['nome'] = stringa  # metti stringa nella riga i-esima, al campo 'nome'  del dizionario\n",
    "    i += 1"
   ]
  },
  {
   "cell_type": "markdown",
   "metadata": {},
   "source": [
    "Dovremmo cominciare a vedere i dizionari in `righe` popolati con i nomi. Verifichiamo: "
   ]
  },
  {
   "cell_type": "code",
   "execution_count": 12,
   "metadata": {
    "collapsed": false,
    "deletable": true,
    "editable": true
   },
   "outputs": [
    {
     "data": {
      "text/plain": [
       "[{'nome': 'Coppa del Mondo di Snowboard'},\n",
       " {'nome': 'Coppa Europa di sci alpino maschile - slalom speciale'},\n",
       " {'nome': '3Tre - AUDI FIS Ski World Cup'},\n",
       " {'nome': 'La Marcialonga di Fiemme e Fassa '},\n",
       " {'nome': 'TrentinoSkiSunrise: sulle piste alla luce dell’alba'},\n",
       " {'nome': 'Tour de Ski'},\n",
       " {'nome': 'La mia nuvola'},\n",
       " {'nome': 'Dormire sotto un cielo di stelle'},\n",
       " {'nome': 'Mercatini di Natale di Canale di Tenno e Rango '},\n",
       " {'nome': 'La Ciaspolada'},\n",
       " {'nome': 'Mercatini di Natale a Trento'},\n",
       " {'nome': 'Mercatini di Natale di Rovereto'},\n",
       " {'nome': 'Mercatino di Natale asburgico di Levico Terme'},\n",
       " {'nome': 'Magnifico Mercatino di Cavalese'},\n",
       " {'nome': 'Mercatino di Natale ad Arco'},\n",
       " {'nome': 'El paès dei presepi'}]"
      ]
     },
     "execution_count": 12,
     "metadata": {},
     "output_type": "execute_result"
    }
   ],
   "source": [
    "righe"
   ]
  },
  {
   "cell_type": "markdown",
   "metadata": {
    "deletable": true,
    "editable": true
   },
   "source": [
    "Visto che i campi da aggiungere saranno diversi, definiamoci una funzione per aggiugere comodamente i campi alla variabile `righe`:"
   ]
  },
  {
   "cell_type": "code",
   "execution_count": 13,
   "metadata": {
    "collapsed": true,
    "deletable": true,
    "editable": true
   },
   "outputs": [],
   "source": [
    "# 'attributo' potrebbe essere la stringa 'nome'\n",
    "# 'lista' potrebbe essere la lista dei nomi degli eventi ['Coppa del Mondo di Snowboard', 'Coppa Europa', ...] \n",
    "def aggiungi_campo(attributo, lista):\n",
    "    i = 0\n",
    "    for stringa in lista:\n",
    "        righe[i][attributo] = stringa\n",
    "        i += 1                  \n",
    "    return righe   # ritorniamo righe per stampare immediatamente il risultato in Jupyter   "
   ]
  },
  {
   "cell_type": "markdown",
   "metadata": {
    "deletable": true,
    "editable": true
   },
   "source": [
    "Chiamando `aggiungi_campo` con i nomi, non dovrebbe cambiare nulla perchè andremo semplicemente a riscrivere i campi `nome` dentro i dizionari della lista `righe` :"
   ]
  },
  {
   "cell_type": "code",
   "execution_count": 14,
   "metadata": {
    "collapsed": false,
    "deletable": true,
    "editable": true
   },
   "outputs": [
    {
     "data": {
      "text/plain": [
       "[{'nome': 'Coppa del Mondo di Snowboard'},\n",
       " {'nome': 'Coppa Europa di sci alpino maschile - slalom speciale'},\n",
       " {'nome': '3Tre - AUDI FIS Ski World Cup'},\n",
       " {'nome': 'La Marcialonga di Fiemme e Fassa '},\n",
       " {'nome': 'TrentinoSkiSunrise: sulle piste alla luce dell’alba'},\n",
       " {'nome': 'Tour de Ski'},\n",
       " {'nome': 'La mia nuvola'},\n",
       " {'nome': 'Dormire sotto un cielo di stelle'},\n",
       " {'nome': 'Mercatini di Natale di Canale di Tenno e Rango '},\n",
       " {'nome': 'La Ciaspolada'},\n",
       " {'nome': 'Mercatini di Natale a Trento'},\n",
       " {'nome': 'Mercatini di Natale di Rovereto'},\n",
       " {'nome': 'Mercatino di Natale asburgico di Levico Terme'},\n",
       " {'nome': 'Magnifico Mercatino di Cavalese'},\n",
       " {'nome': 'Mercatino di Natale ad Arco'},\n",
       " {'nome': 'El paès dei presepi'}]"
      ]
     },
     "execution_count": 14,
     "metadata": {},
     "output_type": "execute_result"
    }
   ],
   "source": [
    "aggiungi_campo('nome', nomi)"
   ]
  },
  {
   "cell_type": "markdown",
   "metadata": {
    "deletable": true,
    "editable": true
   },
   "source": [
    "### 2.2 Estraiamo le date\n",
    "\n",
    "Bene, è tempo di aggiungere un altro campo, per esempio per la data. Dove trovarlo?"
   ]
  },
  {
   "cell_type": "markdown",
   "metadata": {
    "deletable": true,
    "editable": true
   },
   "source": [
    "**DA FARE 2.2.1**: Cerca dentro l'HTML il valore della data della Coppa del Mondo di Snowboard `14/12/2017`. Quanti valori trovi? Intorno alle date, trovi del testo che potrebbero permetterci di filtrare tutte e sole le date ? \n"
   ]
  },
  {
   "cell_type": "markdown",
   "metadata": {
    "deletable": true,
    "editable": true
   },
   "source": [
    "**SOLUZIONE 2.2.1**: Guardiamo l'HTML intorno alle posizioni `h4`:"
   ]
  },
  {
   "cell_type": "markdown",
   "metadata": {
    "deletable": true,
    "editable": true
   },
   "source": [
    "\n",
    "\n",
    "```html\n",
    "<div class=\"moodboard__item-text text-white\">\n",
    "    <div>\n",
    "        <h4 class=\"moodboard__item-headline\">Coppa del Mondo di Snowboard</h4>\n",
    "                    <span class=\"moodboard__item-subline strong fz14 text-uppercase d-b\">14/12/2017</span>\n",
    "                            <span class=\"moodboard__item-subline strong fz14 d-b\"><span class=\"icon icon-map-view fz20\"></span> Passo Costalunga</span>\n",
    "            </div>\n",
    "    <div class=\"moodboard__item-text__link text-right\">\n",
    "        <a href=\"https://www.visittrentino.info/it/guida/eventi/coppa-del-mondo-di-snowboard_e_165375\" role=\"link\"><span class=\"icon icon-circle-arrow fz30\"></span></a>\n",
    "    </div>\n",
    "</div>\n",
    "\n",
    "```\n"
   ]
  },
  {
   "cell_type": "markdown",
   "metadata": {
    "deletable": true,
    "editable": true
   },
   "source": [
    "Vediamo che le date sono dentro attributi `span`: di span ce ne sono tanti, ma pochi hanno l'attributo `class=\"moodboard__item-subline strong fz14 text-uppercase d-b\"`. \n",
    "\n",
    "\n",
    "**DA FARE 2.2.2**: Come possiamo filtrare in Python solo le tag `span` che contengono l'attributo `class=\"moodboard__item-subline strong fz14 text-uppercase d-b\"` ? \n",
    "\n",
    "**SUGGERIMENTO**:  Usa come prima le date nei blocchi intorno agli `h4`"
   ]
  },
  {
   "cell_type": "code",
   "execution_count": 15,
   "metadata": {
    "collapsed": true
   },
   "outputs": [],
   "source": [
    "# scrivi qua il codice\n",
    "\n",
    "\n",
    "\n",
    "\n",
    "\n",
    "\n"
   ]
  },
  {
   "cell_type": "markdown",
   "metadata": {},
   "source": [
    "**SOLUZIONE 2.2.2**: Di nuovo, usiamo la `select`:"
   ]
  },
  {
   "cell_type": "code",
   "execution_count": 16,
   "metadata": {
    "collapsed": false,
    "deletable": true,
    "editable": true
   },
   "outputs": [
    {
     "name": "stdout",
     "output_type": "stream",
     "text": [
      "14/12/2017\n",
      "18/12/2017\n",
      "22/12/2017\n",
      "28/01/2018\n",
      "06/01/2018 - 07/04/2018\n",
      "06/01/2018 - 07/01/2018\n",
      "01/10/2017 - 30/11/2017\n",
      "31/10/2017 - 20/12/2017\n",
      "19/11/2017 - 30/12/2017\n",
      "06/01/2018\n",
      "18/11/2017 - 06/01/2018\n",
      "25/11/2017 - 06/01/2018\n",
      "25/11/2017 - 06/01/2018\n",
      "01/12/2017 - 06/01/2018\n",
      "17/11/2017 - 07/01/2018\n",
      "08/12/2017 - 07/01/2018\n"
     ]
    }
   ],
   "source": [
    "for tag in soup.select('span[class=\"moodboard__item-subline strong fz14 text-uppercase d-b\"]'):\n",
    "    print(tag.text)"
   ]
  },
  {
   "cell_type": "markdown",
   "metadata": {
    "deletable": true,
    "editable": true
   },
   "source": [
    "Ecco le nostre date! In questo caso particolare, il `\"moodboard__item-subline strong fz14 text-uppercase d-b\"` è così identificativo che non serve nemmeno specificare `span`:"
   ]
  },
  {
   "cell_type": "code",
   "execution_count": 17,
   "metadata": {
    "collapsed": false,
    "deletable": true,
    "editable": true
   },
   "outputs": [
    {
     "name": "stdout",
     "output_type": "stream",
     "text": [
      "14/12/2017\n",
      "18/12/2017\n",
      "22/12/2017\n",
      "28/01/2018\n",
      "06/01/2018 - 07/04/2018\n",
      "06/01/2018 - 07/01/2018\n",
      "01/10/2017 - 30/11/2017\n",
      "31/10/2017 - 20/12/2017\n",
      "19/11/2017 - 30/12/2017\n",
      "06/01/2018\n",
      "18/11/2017 - 06/01/2018\n",
      "25/11/2017 - 06/01/2018\n",
      "25/11/2017 - 06/01/2018\n",
      "01/12/2017 - 06/01/2018\n",
      "17/11/2017 - 07/01/2018\n",
      "08/12/2017 - 07/01/2018\n"
     ]
    }
   ],
   "source": [
    "            # nota che 'span' è rimosso: \n",
    "for tag in soup.select('[class=\"moodboard__item-subline strong fz14 text-uppercase d-b\"]'):\n",
    "    print(tag.text)"
   ]
  },
  {
   "cell_type": "markdown",
   "metadata": {
    "deletable": true,
    "editable": true
   },
   "source": [
    "Come fatto prima, possiamo crearci una colonna per le date:"
   ]
  },
  {
   "cell_type": "code",
   "execution_count": 18,
   "metadata": {
    "collapsed": true,
    "deletable": true,
    "editable": true
   },
   "outputs": [],
   "source": [
    "date_eventi = []\n",
    "for tag in soup.select('[class=\"moodboard__item-subline strong fz14 text-uppercase d-b\"]'):\n",
    "    date_eventi.append(tag.text)"
   ]
  },
  {
   "cell_type": "code",
   "execution_count": 19,
   "metadata": {
    "collapsed": false,
    "deletable": true,
    "editable": true
   },
   "outputs": [
    {
     "data": {
      "text/plain": [
       "['14/12/2017',\n",
       " '18/12/2017',\n",
       " '22/12/2017',\n",
       " '28/01/2018',\n",
       " '06/01/2018 - 07/04/2018',\n",
       " '06/01/2018 - 07/01/2018',\n",
       " '01/10/2017 - 30/11/2017',\n",
       " '31/10/2017 - 20/12/2017',\n",
       " '19/11/2017 - 30/12/2017',\n",
       " '06/01/2018',\n",
       " '18/11/2017 - 06/01/2018',\n",
       " '25/11/2017 - 06/01/2018',\n",
       " '25/11/2017 - 06/01/2018',\n",
       " '01/12/2017 - 06/01/2018',\n",
       " '17/11/2017 - 07/01/2018',\n",
       " '08/12/2017 - 07/01/2018']"
      ]
     },
     "execution_count": 19,
     "metadata": {},
     "output_type": "execute_result"
    }
   ],
   "source": [
    "date_eventi"
   ]
  },
  {
   "cell_type": "markdown",
   "metadata": {
    "deletable": true,
    "editable": true
   },
   "source": [
    "Per sincerarci di aver rastrellato tutte le date necessarie, possiamo controllare quante sono:"
   ]
  },
  {
   "cell_type": "code",
   "execution_count": 20,
   "metadata": {
    "collapsed": false,
    "deletable": true,
    "editable": true
   },
   "outputs": [
    {
     "data": {
      "text/plain": [
       "16"
      ]
     },
     "execution_count": 20,
     "metadata": {},
     "output_type": "execute_result"
    }
   ],
   "source": [
    "len(date_eventi)"
   ]
  },
  {
   "cell_type": "markdown",
   "metadata": {
    "deletable": true,
    "editable": true
   },
   "source": [
    "Adesso possiamo sfruttare la funzione di prima `aggiungi_campo` per aggiornare `righe`:"
   ]
  },
  {
   "cell_type": "code",
   "execution_count": 21,
   "metadata": {
    "collapsed": false,
    "deletable": true,
    "editable": true
   },
   "outputs": [
    {
     "data": {
      "text/plain": [
       "[{'data': '14/12/2017', 'nome': 'Coppa del Mondo di Snowboard'},\n",
       " {'data': '18/12/2017',\n",
       "  'nome': 'Coppa Europa di sci alpino maschile - slalom speciale'},\n",
       " {'data': '22/12/2017', 'nome': '3Tre - AUDI FIS Ski World Cup'},\n",
       " {'data': '28/01/2018', 'nome': 'La Marcialonga di Fiemme e Fassa '},\n",
       " {'data': '06/01/2018 - 07/04/2018',\n",
       "  'nome': 'TrentinoSkiSunrise: sulle piste alla luce dell’alba'},\n",
       " {'data': '06/01/2018 - 07/01/2018', 'nome': 'Tour de Ski'},\n",
       " {'data': '01/10/2017 - 30/11/2017', 'nome': 'La mia nuvola'},\n",
       " {'data': '31/10/2017 - 20/12/2017',\n",
       "  'nome': 'Dormire sotto un cielo di stelle'},\n",
       " {'data': '19/11/2017 - 30/12/2017',\n",
       "  'nome': 'Mercatini di Natale di Canale di Tenno e Rango '},\n",
       " {'data': '06/01/2018', 'nome': 'La Ciaspolada'},\n",
       " {'data': '18/11/2017 - 06/01/2018', 'nome': 'Mercatini di Natale a Trento'},\n",
       " {'data': '25/11/2017 - 06/01/2018',\n",
       "  'nome': 'Mercatini di Natale di Rovereto'},\n",
       " {'data': '25/11/2017 - 06/01/2018',\n",
       "  'nome': 'Mercatino di Natale asburgico di Levico Terme'},\n",
       " {'data': '01/12/2017 - 06/01/2018',\n",
       "  'nome': 'Magnifico Mercatino di Cavalese'},\n",
       " {'data': '17/11/2017 - 07/01/2018', 'nome': 'Mercatino di Natale ad Arco'},\n",
       " {'data': '08/12/2017 - 07/01/2018', 'nome': 'El paès dei presepi'}]"
      ]
     },
     "execution_count": 21,
     "metadata": {},
     "output_type": "execute_result"
    }
   ],
   "source": [
    "aggiungi_campo('data', date_eventi)"
   ]
  },
  {
   "cell_type": "markdown",
   "metadata": {
    "deletable": true,
    "editable": true
   },
   "source": [
    "### 2.3 Estraiamo i luoghi\n",
    "\n",
    "E' tempo di aggiungere il luogo. "
   ]
  },
  {
   "cell_type": "markdown",
   "metadata": {
    "deletable": true,
    "editable": true
   },
   "source": [
    "**DA FARE 2.3.1**: Cerca nell'HTML il luogo `Passo Costalunga` dell'evento Coppa di Snowboard. Con quale criterio possiamo filtrare i luoghi ?   "
   ]
  },
  {
   "cell_type": "markdown",
   "metadata": {},
   "source": [
    "**SOLUZIONE 2.3.1**: \n",
    "\n",
    "Possiamo usare la classe `class=\"moodboard__item-subline strong fz14 d-b\"` nelle righe: \n",
    "\n",
    "```html\n",
    "<div class=\"moodboard__item-text text-white\">\n",
    "    <div>\n",
    "        <h4 class=\"moodboard__item-headline\">Coppa del Mondo di Snowboard</h4>\n",
    "                    <span class=\"moodboard__item-subline strong fz14 text-uppercase d-b\">14/12/2017</span>\n",
    "                            <span class=\"moodboard__item-subline strong fz14 d-b\"><span class=\"icon icon-map-view fz20\"></span> Passo Costalunga</span>\n",
    "            </div>\n",
    "    <div class=\"moodboard__item-text__link text-right\">\n",
    "        <a href=\"https://www.visittrentino.info/it/guida/eventi/coppa-del-mondo-di-snowboard_e_165375\" role=\"link\"><span class=\"icon icon-circle-arrow fz30\"></span></a>\n",
    "    </div>\n",
    "</div>\n",
    "```"
   ]
  },
  {
   "cell_type": "markdown",
   "metadata": {},
   "source": [
    "**DA FARE 2.3.2**: Scrivi il codice Python per estrarre i luoghi e metterlo nella lista `luoghi` (usa sempre l'html intorno ai blochhi `h4`)   \n",
    "\n",
    "**SUGGERIMENTO**: Non importa se il testo che cerchi è contenuto in uno span all'interno di un'altro span identificabile "
   ]
  },
  {
   "cell_type": "code",
   "execution_count": 22,
   "metadata": {
    "collapsed": true
   },
   "outputs": [],
   "source": [
    "# scrivi qui"
   ]
  },
  {
   "cell_type": "markdown",
   "metadata": {},
   "source": [
    "**SOLUZIONE 2.3.2**:"
   ]
  },
  {
   "cell_type": "code",
   "execution_count": 23,
   "metadata": {
    "collapsed": false,
    "deletable": true,
    "editable": true
   },
   "outputs": [
    {
     "name": "stdout",
     "output_type": "stream",
     "text": [
      " Passo Costalunga\n",
      " Pozza di Fassa\n",
      " Madonna di Campiglio\n",
      " Val di Fassa \n",
      " Tesero\n",
      " Pozza di Fassa\n",
      " Pozza di Fassa\n",
      " Tenno\n",
      " Fondo\n",
      " Trento\n",
      " Rovereto\n",
      " Levico Terme\n",
      " Cavalese\n",
      " Arco\n",
      " Baselga di Piné\n"
     ]
    }
   ],
   "source": [
    "for tag in soup.select('[class=\"moodboard__item-subline strong fz14 d-b\"]'):\n",
    "    print(tag.text)"
   ]
  },
  {
   "cell_type": "code",
   "execution_count": 24,
   "metadata": {
    "collapsed": true,
    "deletable": true,
    "editable": true
   },
   "outputs": [],
   "source": [
    "luoghi = []\n",
    "for tag in soup.select('[class=\"moodboard__item-subline strong fz14 d-b\"]'):\n",
    "    luoghi.append(tag.text)"
   ]
  },
  {
   "cell_type": "code",
   "execution_count": 25,
   "metadata": {
    "collapsed": false,
    "deletable": true,
    "editable": true
   },
   "outputs": [
    {
     "data": {
      "text/plain": [
       "[' Passo Costalunga',\n",
       " ' Pozza di Fassa',\n",
       " ' Madonna di Campiglio',\n",
       " ' Val di Fassa ',\n",
       " ' Tesero',\n",
       " ' Pozza di Fassa',\n",
       " ' Pozza di Fassa',\n",
       " ' Tenno',\n",
       " ' Fondo',\n",
       " ' Trento',\n",
       " ' Rovereto',\n",
       " ' Levico Terme',\n",
       " ' Cavalese',\n",
       " ' Arco',\n",
       " ' Baselga di Piné']"
      ]
     },
     "execution_count": 25,
     "metadata": {},
     "output_type": "execute_result"
    }
   ],
   "source": [
    "luoghi"
   ]
  },
  {
   "cell_type": "markdown",
   "metadata": {
    "deletable": true,
    "editable": true
   },
   "source": [
    "### 2.3 Sistemiamo i luoghi"
   ]
  },
  {
   "cell_type": "markdown",
   "metadata": {},
   "source": [
    "Quanti luoghi abbiamo trovato ?"
   ]
  },
  {
   "cell_type": "code",
   "execution_count": 26,
   "metadata": {
    "collapsed": false,
    "deletable": true,
    "editable": true
   },
   "outputs": [
    {
     "data": {
      "text/plain": [
       "15"
      ]
     },
     "execution_count": 26,
     "metadata": {},
     "output_type": "execute_result"
    }
   ],
   "source": [
    "len(luoghi)"
   ]
  },
  {
   "cell_type": "markdown",
   "metadata": {
    "deletable": true,
    "editable": true
   },
   "source": [
    "Ops, ci aspettavamo 16 e abbiamo scoperto solo 15 luoghi. A quanto pare manca un dato!\n",
    "\n",
    "**DA FARE 2.3.3**: Che dato è? Guarda la pagina e cerca se qualche evento non ha un luogo. In che posizione è nella lista ? "
   ]
  },
  {
   "cell_type": "markdown",
   "metadata": {
    "deletable": true,
    "editable": true
   },
   "source": [
    "**SOLUZIONE 2.3.3**: L'evento incriminato è `TrentinoSkiSunrise: sulle piste alla luce dell’alba`, guardando dentro l'html vediamo che manca proprio lo `span` con la classe:\n",
    "\n",
    "```html\n",
    "<div class=\"moodboard__item-text text-white\">\n",
    "    <div>\n",
    "        <h4 class=\"moodboard__item-headline\">TrentinoSkiSunrise: sulle piste alla luce dell’alba</h4>\n",
    "                    <span class=\"moodboard__item-subline strong fz14 text-uppercase d-b\">06/01/2018 - 07/04/2018</span>\n",
    "                    </div>\n",
    "    <div class=\"moodboard__item-text__link text-right\">\n",
    "        <a href=\"https://www.visittrentino.info/it/guida/eventi/trentinoskisunrise-sulle-piste-alla-luce-dell-alba_e_318133\" role=\"link\"><span class=\"icon icon-circle-arrow fz30\"></span></a>\n",
    "    </div>\n",
    "</div>\n",
    "``` "
   ]
  },
  {
   "cell_type": "markdown",
   "metadata": {
    "deletable": true,
    "editable": true
   },
   "source": [
    "**DA FARE 2.3.4**: Come rimediare al problema? Ci sono metodo più furbi, ma per stavolta semplicemente possiamo inserire una stringa vuota alla posizione della lista `luoghi` in cui ci dovrebbe essere il campo mancante - e cioè dopo `Val di Fassa`. Per farlo, puoi usare il metodo `insert`. Qua puoi vedere qualche esempio di utilizzo.\n",
    "\n",
    "**NOTA**: Ricordati che gli indici iniziano da 0 !"
   ]
  },
  {
   "cell_type": "code",
   "execution_count": 27,
   "metadata": {
    "collapsed": false,
    "deletable": true,
    "editable": true
   },
   "outputs": [
    {
     "data": {
      "text/plain": [
       "['x', 'a', 'b', 'c', 'd']"
      ]
     },
     "execution_count": 27,
     "metadata": {},
     "output_type": "execute_result"
    }
   ],
   "source": [
    "prova = ['a','b','c','d']\n",
    "prova.insert(0, 'x') # inserisce 'x' all'inizio in posizione 0\n",
    "prova"
   ]
  },
  {
   "cell_type": "code",
   "execution_count": 28,
   "metadata": {
    "collapsed": false,
    "deletable": true,
    "editable": true
   },
   "outputs": [
    {
     "data": {
      "text/plain": [
       "['a', 'b', 'x', 'c', 'd']"
      ]
     },
     "execution_count": 28,
     "metadata": {},
     "output_type": "execute_result"
    }
   ],
   "source": [
    "prova = ['a','b','c','d']\n",
    "prova.insert(2, 'x') # inserisce 'x' a metà\n",
    "prova"
   ]
  },
  {
   "cell_type": "code",
   "execution_count": 29,
   "metadata": {
    "collapsed": true
   },
   "outputs": [],
   "source": [
    "# scrivi qua la soluzione"
   ]
  },
  {
   "cell_type": "markdown",
   "metadata": {
    "deletable": true,
    "editable": true
   },
   "source": [
    "**SOLUZIONE 2.3.4**: \n",
    "\n",
    "```\n",
    "\n",
    "\n",
    "\n",
    "\n",
    "\n",
    "\n",
    "\n",
    "\n",
    "\n",
    "\n",
    "\n",
    "\n",
    "```"
   ]
  },
  {
   "cell_type": "code",
   "execution_count": 30,
   "metadata": {
    "collapsed": true,
    "deletable": true,
    "editable": true
   },
   "outputs": [],
   "source": [
    "luoghi.insert(4, '')"
   ]
  },
  {
   "cell_type": "code",
   "execution_count": 31,
   "metadata": {
    "collapsed": false,
    "deletable": true,
    "editable": true
   },
   "outputs": [
    {
     "data": {
      "text/plain": [
       "[' Passo Costalunga',\n",
       " ' Pozza di Fassa',\n",
       " ' Madonna di Campiglio',\n",
       " ' Val di Fassa ',\n",
       " '',\n",
       " ' Tesero',\n",
       " ' Pozza di Fassa',\n",
       " ' Pozza di Fassa',\n",
       " ' Tenno',\n",
       " ' Fondo',\n",
       " ' Trento',\n",
       " ' Rovereto',\n",
       " ' Levico Terme',\n",
       " ' Cavalese',\n",
       " ' Arco',\n",
       " ' Baselga di Piné']"
      ]
     },
     "execution_count": 31,
     "metadata": {},
     "output_type": "execute_result"
    }
   ],
   "source": [
    "luoghi"
   ]
  },
  {
   "cell_type": "code",
   "execution_count": 32,
   "metadata": {
    "collapsed": false,
    "deletable": true,
    "editable": true
   },
   "outputs": [
    {
     "data": {
      "text/plain": [
       "16"
      ]
     },
     "execution_count": 32,
     "metadata": {},
     "output_type": "execute_result"
    }
   ],
   "source": [
    "len(luoghi)"
   ]
  },
  {
   "cell_type": "code",
   "execution_count": null,
   "metadata": {
    "collapsed": true,
    "deletable": true,
    "editable": true
   },
   "outputs": [],
   "source": []
  },
  {
   "cell_type": "markdown",
   "metadata": {
    "deletable": true,
    "editable": true
   },
   "source": [
    "\n",
    "Prima di procedere, verifica che la lunghezza della lista `len(luoghi)` sia corretta (= 16). Adesso, osserva attentamente le stringhe dei luoghi. Noterai che iniziano tutte con uno spazio inutile:"
   ]
  },
  {
   "cell_type": "code",
   "execution_count": 33,
   "metadata": {
    "collapsed": false,
    "deletable": true,
    "editable": true
   },
   "outputs": [
    {
     "data": {
      "text/plain": [
       "[' Passo Costalunga',\n",
       " ' Pozza di Fassa',\n",
       " ' Madonna di Campiglio',\n",
       " ' Val di Fassa ',\n",
       " '',\n",
       " ' Tesero',\n",
       " ' Pozza di Fassa',\n",
       " ' Pozza di Fassa',\n",
       " ' Tenno',\n",
       " ' Fondo',\n",
       " ' Trento',\n",
       " ' Rovereto',\n",
       " ' Levico Terme',\n",
       " ' Cavalese',\n",
       " ' Arco',\n",
       " ' Baselga di Piné']"
      ]
     },
     "execution_count": 33,
     "metadata": {},
     "output_type": "execute_result"
    }
   ],
   "source": [
    "luoghi"
   ]
  },
  {
   "cell_type": "markdown",
   "metadata": {
    "deletable": true,
    "editable": true
   },
   "source": [
    "La funzione `strip()` ci può aiutare a togliere gli spazi inutili:"
   ]
  },
  {
   "cell_type": "code",
   "execution_count": 34,
   "metadata": {
    "collapsed": false,
    "deletable": true,
    "editable": true
   },
   "outputs": [
    {
     "data": {
      "text/plain": [
       "'fdf'"
      ]
     },
     "execution_count": 34,
     "metadata": {},
     "output_type": "execute_result"
    }
   ],
   "source": [
    "'   fdf '.strip() "
   ]
  },
  {
   "cell_type": "markdown",
   "metadata": {
    "deletable": true,
    "editable": true
   },
   "source": [
    "Ma come possiamo applicarla a tutti gli elementi della lista ? Un modo può essere usare le cosiddette \"list comprehnsion\" ([Capitolo 19.2 Pensare in Python](https://davidleoni.github.io/ThinkPythonItalian/html/thinkpython2020.html#sec227)), che servono per generare nuove liste eseguendo la stessa operazione su tutti gli elementi di una lista esistente di partenza. Nel nostro caso, possiamo generare una nuova lista in cui per ogni elemento `luogo` (quindi ogni stringa) della lista `luoghi` eseguiamo la funzione `strip()`:"
   ]
  },
  {
   "cell_type": "code",
   "execution_count": 35,
   "metadata": {
    "collapsed": false,
    "deletable": true,
    "editable": true
   },
   "outputs": [
    {
     "data": {
      "text/plain": [
       "['Passo Costalunga',\n",
       " 'Pozza di Fassa',\n",
       " 'Madonna di Campiglio',\n",
       " 'Val di Fassa',\n",
       " '',\n",
       " 'Tesero',\n",
       " 'Pozza di Fassa',\n",
       " 'Pozza di Fassa',\n",
       " 'Tenno',\n",
       " 'Fondo',\n",
       " 'Trento',\n",
       " 'Rovereto',\n",
       " 'Levico Terme',\n",
       " 'Cavalese',\n",
       " 'Arco',\n",
       " 'Baselga di Piné']"
      ]
     },
     "execution_count": 35,
     "metadata": {},
     "output_type": "execute_result"
    }
   ],
   "source": [
    "[luogo.strip() for luogo in luoghi]"
   ]
  },
  {
   "cell_type": "markdown",
   "metadata": {
    "deletable": true,
    "editable": true
   },
   "source": [
    "Questa manipolazione certamente ci ha dato il risultato aspettato, ma ci ha modificato la lista `luoghi` originale? Verifichiamolo:"
   ]
  },
  {
   "cell_type": "code",
   "execution_count": 36,
   "metadata": {
    "collapsed": false,
    "deletable": true,
    "editable": true
   },
   "outputs": [
    {
     "data": {
      "text/plain": [
       "[' Passo Costalunga',\n",
       " ' Pozza di Fassa',\n",
       " ' Madonna di Campiglio',\n",
       " ' Val di Fassa ',\n",
       " '',\n",
       " ' Tesero',\n",
       " ' Pozza di Fassa',\n",
       " ' Pozza di Fassa',\n",
       " ' Tenno',\n",
       " ' Fondo',\n",
       " ' Trento',\n",
       " ' Rovereto',\n",
       " ' Levico Terme',\n",
       " ' Cavalese',\n",
       " ' Arco',\n",
       " ' Baselga di Piné']"
      ]
     },
     "execution_count": 36,
     "metadata": {},
     "output_type": "execute_result"
    }
   ],
   "source": [
    "luoghi"
   ]
  },
  {
   "cell_type": "markdown",
   "metadata": {
    "deletable": true,
    "editable": true
   },
   "source": [
    "Pare di no. Affinchè il tutto funzioni, bisogna riassegnare `luoghi` al risultato della list comprehension:"
   ]
  },
  {
   "cell_type": "code",
   "execution_count": 37,
   "metadata": {
    "collapsed": true,
    "deletable": true,
    "editable": true
   },
   "outputs": [],
   "source": [
    "luoghi = [luogo.strip() for luogo in luoghi]"
   ]
  },
  {
   "cell_type": "code",
   "execution_count": 38,
   "metadata": {
    "collapsed": false,
    "deletable": true,
    "editable": true
   },
   "outputs": [
    {
     "data": {
      "text/plain": [
       "['Passo Costalunga',\n",
       " 'Pozza di Fassa',\n",
       " 'Madonna di Campiglio',\n",
       " 'Val di Fassa',\n",
       " '',\n",
       " 'Tesero',\n",
       " 'Pozza di Fassa',\n",
       " 'Pozza di Fassa',\n",
       " 'Tenno',\n",
       " 'Fondo',\n",
       " 'Trento',\n",
       " 'Rovereto',\n",
       " 'Levico Terme',\n",
       " 'Cavalese',\n",
       " 'Arco',\n",
       " 'Baselga di Piné']"
      ]
     },
     "execution_count": 38,
     "metadata": {},
     "output_type": "execute_result"
    }
   ],
   "source": [
    "luoghi"
   ]
  },
  {
   "cell_type": "markdown",
   "metadata": {
    "deletable": true,
    "editable": true
   },
   "source": [
    "Finalmente luoghi è come la volevamo noi.\n",
    "\n",
    "**DA FARE 2.3.5**: Prova a riscrivere qua sotto manualmente la solq list comprehension (senza riassegnarla a `luoghi`). Prova anche ad usare funzioni diverse da `strip`, come:\n",
    "    * `upper()`\n",
    "    * `rstrip()`\n",
    "    * `lstrip()`"
   ]
  },
  {
   "cell_type": "code",
   "execution_count": 39,
   "metadata": {
    "collapsed": false,
    "deletable": true,
    "editable": true
   },
   "outputs": [],
   "source": [
    "# riscrivi qua la comprehension"
   ]
  },
  {
   "cell_type": "markdown",
   "metadata": {
    "deletable": true,
    "editable": true
   },
   "source": [
    "Finalmente abbiamo sistemato i luoghi, aggiungiamoli alla nostra lista di righe:"
   ]
  },
  {
   "cell_type": "code",
   "execution_count": 40,
   "metadata": {
    "collapsed": false,
    "deletable": true,
    "editable": true
   },
   "outputs": [
    {
     "data": {
      "text/plain": [
       "[{'data': '14/12/2017',\n",
       "  'luogo': 'Passo Costalunga',\n",
       "  'nome': 'Coppa del Mondo di Snowboard'},\n",
       " {'data': '18/12/2017',\n",
       "  'luogo': 'Pozza di Fassa',\n",
       "  'nome': 'Coppa Europa di sci alpino maschile - slalom speciale'},\n",
       " {'data': '22/12/2017',\n",
       "  'luogo': 'Madonna di Campiglio',\n",
       "  'nome': '3Tre - AUDI FIS Ski World Cup'},\n",
       " {'data': '28/01/2018',\n",
       "  'luogo': 'Val di Fassa',\n",
       "  'nome': 'La Marcialonga di Fiemme e Fassa '},\n",
       " {'data': '06/01/2018 - 07/04/2018',\n",
       "  'luogo': '',\n",
       "  'nome': 'TrentinoSkiSunrise: sulle piste alla luce dell’alba'},\n",
       " {'data': '06/01/2018 - 07/01/2018', 'luogo': 'Tesero', 'nome': 'Tour de Ski'},\n",
       " {'data': '01/10/2017 - 30/11/2017',\n",
       "  'luogo': 'Pozza di Fassa',\n",
       "  'nome': 'La mia nuvola'},\n",
       " {'data': '31/10/2017 - 20/12/2017',\n",
       "  'luogo': 'Pozza di Fassa',\n",
       "  'nome': 'Dormire sotto un cielo di stelle'},\n",
       " {'data': '19/11/2017 - 30/12/2017',\n",
       "  'luogo': 'Tenno',\n",
       "  'nome': 'Mercatini di Natale di Canale di Tenno e Rango '},\n",
       " {'data': '06/01/2018', 'luogo': 'Fondo', 'nome': 'La Ciaspolada'},\n",
       " {'data': '18/11/2017 - 06/01/2018',\n",
       "  'luogo': 'Trento',\n",
       "  'nome': 'Mercatini di Natale a Trento'},\n",
       " {'data': '25/11/2017 - 06/01/2018',\n",
       "  'luogo': 'Rovereto',\n",
       "  'nome': 'Mercatini di Natale di Rovereto'},\n",
       " {'data': '25/11/2017 - 06/01/2018',\n",
       "  'luogo': 'Levico Terme',\n",
       "  'nome': 'Mercatino di Natale asburgico di Levico Terme'},\n",
       " {'data': '01/12/2017 - 06/01/2018',\n",
       "  'luogo': 'Cavalese',\n",
       "  'nome': 'Magnifico Mercatino di Cavalese'},\n",
       " {'data': '17/11/2017 - 07/01/2018',\n",
       "  'luogo': 'Arco',\n",
       "  'nome': 'Mercatino di Natale ad Arco'},\n",
       " {'data': '08/12/2017 - 07/01/2018',\n",
       "  'luogo': 'Baselga di Piné',\n",
       "  'nome': 'El paès dei presepi'}]"
      ]
     },
     "execution_count": 40,
     "metadata": {},
     "output_type": "execute_result"
    }
   ],
   "source": [
    "aggiungi_campo('luogo', luoghi)"
   ]
  },
  {
   "cell_type": "markdown",
   "metadata": {
    "deletable": true,
    "editable": true
   },
   "source": [
    "### 2.4 tipo dell'evento"
   ]
  },
  {
   "cell_type": "markdown",
   "metadata": {
    "deletable": true,
    "editable": true
   },
   "source": [
    "Proseguiamo con il tipo dell'evento. Per esempio, per la Coppa del Mondo di Snowboard, la tipologia dell'evento sarebbe `Sport, TOP EVENTI SPORT`\n",
    "\n",
    "**DA FARE 2.4.1**: Cerca la stringa `Sport, TOP EVENTI SPORT` nell'HTML. Quante occorrenze ci sono ? E' possibile filtrare il tipo eventi in modo univoco ?  "
   ]
  },
  {
   "cell_type": "markdown",
   "metadata": {
    "deletable": true,
    "editable": true
   },
   "source": [
    "**SOLUZIONE 2.4.1**: Questa volta il tipo eventi appare solo nei blocchi intorno agli `h2`, in particolare notiamo la riga \n",
    "\n",
    "`<span class=\"text-secondary fz14 text-uppercase strong\">Sport, TOP EVENTI SPORT</span>` :\n",
    "\n",
    "```html\n",
    "<div class=\"col col-sm-9 arrange__item\">\n",
    "                    <a href=\"https://www.visittrentino.info/it/guida/eventi/coppa-del-mondo-di-snowboard_e_165375\" class=\"text-primary list-teaser__link\"><span class=\"icon icon-circle-arrow fz30\"></span></a>\n",
    "                    <div class=\"teaser__body\">\n",
    "                                                    <span class=\"text-secondary fz14 text-uppercase strong\">Sport, TOP EVENTI SPORT</span>\n",
    "                                                <h2 class=\"text-secondary\">Coppa del Mondo di Snowboard</h2>\n",
    "                        <ul class=\"list-unstyled list-inline list__teaser__list mb15 mt10\">\n",
    "                                                            <li>\n",
    "                                    <a class=\"fz14 text-uppercase strong text-primary\"><span class=\"icon icon-map-view mr10\"></span>Passo Costalunga</a>\n",
    "                                </li>\n",
    "                                                        <li>\n",
    "                                <a class=\"fz14 text-uppercase strong text-primary\"><span class=\"icon icon-map-view mr10\"></span>14/12/2017</a>\n",
    "                            </li>\n",
    "                        </ul>\n",
    "                        <p>Al Passo Costalunga sfida tra i migliori specialisti del mondo</p>\n",
    "                    </div>\n",
    "                </div>\n",
    "\n",
    "```"
   ]
  },
  {
   "cell_type": "markdown",
   "metadata": {
    "deletable": true,
    "editable": true
   },
   "source": [
    "**DA FARE 2.4.2**: Scrivi il codice Python per estrarre la lista degli eventi, e chiamala `tipo_evento`. Per farlo, puoi usare il codice già visto in precedenza, ma questa volta, per creare la lista sforzati di usare una _list comprehension_.\n",
    "Verifica poi che la lunghezza della stringa sia 16.\n",
    "\n",
    "**SUGGERIMENTO**: La lista originale da cui prelevare il testo delle le tag sarà creata dalla chiamata a `soup.select`"
   ]
  },
  {
   "cell_type": "markdown",
   "metadata": {},
   "source": [
    "**SOLUZIONE 2.4.2**"
   ]
  },
  {
   "cell_type": "code",
   "execution_count": 41,
   "metadata": {
    "collapsed": false,
    "deletable": true,
    "editable": true
   },
   "outputs": [
    {
     "name": "stdout",
     "output_type": "stream",
     "text": [
      "Sport, TOP EVENTI SPORT\n",
      "Sport, TOP EVENTI SPORT\n",
      "Sport, TOP EVENTI SPORT\n",
      "Sport, TOP EVENTI SPORT\n",
      "Enogastronomia, Intrattenimento della Località, Sport\n",
      "Sport, Intrattenimento della Località, Enogastronomia\n",
      "Wellness\n",
      "Wellness\n",
      "Intrattenimento della Località, Mercati e mercatini\n",
      "Sport, TOP EVENTI SPORT\n",
      "Intrattenimento della Località, Mercati e mercatini\n",
      "Intrattenimento della Località, Mercati e mercatini\n",
      "Mercati e mercatini, Intrattenimento della Località\n",
      "Intrattenimento della Località, Mercati e mercatini\n",
      "Intrattenimento della Località, Mercati e mercatini\n",
      "Mercati e mercatini, Folklore\n"
     ]
    }
   ],
   "source": [
    "for tag in soup.select('[class=\"text-secondary fz14 text-uppercase strong\"]'):\n",
    "    print(tag.text)"
   ]
  },
  {
   "cell_type": "code",
   "execution_count": 42,
   "metadata": {
    "collapsed": true,
    "deletable": true,
    "editable": true
   },
   "outputs": [],
   "source": [
    "tipi_evento = [tag.text for tag in soup.select('[class=\"text-secondary fz14 text-uppercase strong\"]')]"
   ]
  },
  {
   "cell_type": "code",
   "execution_count": 43,
   "metadata": {
    "collapsed": false,
    "deletable": true,
    "editable": true
   },
   "outputs": [
    {
     "data": {
      "text/plain": [
       "['Sport, TOP EVENTI SPORT',\n",
       " 'Sport, TOP EVENTI SPORT',\n",
       " 'Sport, TOP EVENTI SPORT',\n",
       " 'Sport, TOP EVENTI SPORT',\n",
       " 'Enogastronomia, Intrattenimento della Località, Sport',\n",
       " 'Sport, Intrattenimento della Località, Enogastronomia',\n",
       " 'Wellness',\n",
       " 'Wellness',\n",
       " 'Intrattenimento della Località, Mercati e mercatini',\n",
       " 'Sport, TOP EVENTI SPORT',\n",
       " 'Intrattenimento della Località, Mercati e mercatini',\n",
       " 'Intrattenimento della Località, Mercati e mercatini',\n",
       " 'Mercati e mercatini, Intrattenimento della Località',\n",
       " 'Intrattenimento della Località, Mercati e mercatini',\n",
       " 'Intrattenimento della Località, Mercati e mercatini',\n",
       " 'Mercati e mercatini, Folklore']"
      ]
     },
     "execution_count": 43,
     "metadata": {},
     "output_type": "execute_result"
    }
   ],
   "source": [
    "tipi_evento"
   ]
  },
  {
   "cell_type": "code",
   "execution_count": 44,
   "metadata": {
    "collapsed": false,
    "deletable": true,
    "editable": true
   },
   "outputs": [
    {
     "data": {
      "text/plain": [
       "16"
      ]
     },
     "execution_count": 44,
     "metadata": {},
     "output_type": "execute_result"
    }
   ],
   "source": [
    "len(tipi_evento)"
   ]
  },
  {
   "cell_type": "markdown",
   "metadata": {
    "deletable": true,
    "editable": true
   },
   "source": [
    "Come già fatto in precedenza, aggiungiamo `tipi_evento` alla nostra variabile `righe`:"
   ]
  },
  {
   "cell_type": "code",
   "execution_count": 45,
   "metadata": {
    "collapsed": false,
    "deletable": true,
    "editable": true
   },
   "outputs": [
    {
     "data": {
      "text/plain": [
       "[{'data': '14/12/2017',\n",
       "  'luogo': 'Passo Costalunga',\n",
       "  'nome': 'Coppa del Mondo di Snowboard',\n",
       "  'tipo': 'Sport, TOP EVENTI SPORT'},\n",
       " {'data': '18/12/2017',\n",
       "  'luogo': 'Pozza di Fassa',\n",
       "  'nome': 'Coppa Europa di sci alpino maschile - slalom speciale',\n",
       "  'tipo': 'Sport, TOP EVENTI SPORT'},\n",
       " {'data': '22/12/2017',\n",
       "  'luogo': 'Madonna di Campiglio',\n",
       "  'nome': '3Tre - AUDI FIS Ski World Cup',\n",
       "  'tipo': 'Sport, TOP EVENTI SPORT'},\n",
       " {'data': '28/01/2018',\n",
       "  'luogo': 'Val di Fassa',\n",
       "  'nome': 'La Marcialonga di Fiemme e Fassa ',\n",
       "  'tipo': 'Sport, TOP EVENTI SPORT'},\n",
       " {'data': '06/01/2018 - 07/04/2018',\n",
       "  'luogo': '',\n",
       "  'nome': 'TrentinoSkiSunrise: sulle piste alla luce dell’alba',\n",
       "  'tipo': 'Enogastronomia, Intrattenimento della Località, Sport'},\n",
       " {'data': '06/01/2018 - 07/01/2018',\n",
       "  'luogo': 'Tesero',\n",
       "  'nome': 'Tour de Ski',\n",
       "  'tipo': 'Sport, Intrattenimento della Località, Enogastronomia'},\n",
       " {'data': '01/10/2017 - 30/11/2017',\n",
       "  'luogo': 'Pozza di Fassa',\n",
       "  'nome': 'La mia nuvola',\n",
       "  'tipo': 'Wellness'},\n",
       " {'data': '31/10/2017 - 20/12/2017',\n",
       "  'luogo': 'Pozza di Fassa',\n",
       "  'nome': 'Dormire sotto un cielo di stelle',\n",
       "  'tipo': 'Wellness'},\n",
       " {'data': '19/11/2017 - 30/12/2017',\n",
       "  'luogo': 'Tenno',\n",
       "  'nome': 'Mercatini di Natale di Canale di Tenno e Rango ',\n",
       "  'tipo': 'Intrattenimento della Località, Mercati e mercatini'},\n",
       " {'data': '06/01/2018',\n",
       "  'luogo': 'Fondo',\n",
       "  'nome': 'La Ciaspolada',\n",
       "  'tipo': 'Sport, TOP EVENTI SPORT'},\n",
       " {'data': '18/11/2017 - 06/01/2018',\n",
       "  'luogo': 'Trento',\n",
       "  'nome': 'Mercatini di Natale a Trento',\n",
       "  'tipo': 'Intrattenimento della Località, Mercati e mercatini'},\n",
       " {'data': '25/11/2017 - 06/01/2018',\n",
       "  'luogo': 'Rovereto',\n",
       "  'nome': 'Mercatini di Natale di Rovereto',\n",
       "  'tipo': 'Intrattenimento della Località, Mercati e mercatini'},\n",
       " {'data': '25/11/2017 - 06/01/2018',\n",
       "  'luogo': 'Levico Terme',\n",
       "  'nome': 'Mercatino di Natale asburgico di Levico Terme',\n",
       "  'tipo': 'Mercati e mercatini, Intrattenimento della Località'},\n",
       " {'data': '01/12/2017 - 06/01/2018',\n",
       "  'luogo': 'Cavalese',\n",
       "  'nome': 'Magnifico Mercatino di Cavalese',\n",
       "  'tipo': 'Intrattenimento della Località, Mercati e mercatini'},\n",
       " {'data': '17/11/2017 - 07/01/2018',\n",
       "  'luogo': 'Arco',\n",
       "  'nome': 'Mercatino di Natale ad Arco',\n",
       "  'tipo': 'Intrattenimento della Località, Mercati e mercatini'},\n",
       " {'data': '08/12/2017 - 07/01/2018',\n",
       "  'luogo': 'Baselga di Piné',\n",
       "  'nome': 'El paès dei presepi',\n",
       "  'tipo': 'Mercati e mercatini, Folklore'}]"
      ]
     },
     "execution_count": 45,
     "metadata": {},
     "output_type": "execute_result"
    }
   ],
   "source": [
    "aggiungi_campo('tipo', tipi_evento)"
   ]
  },
  {
   "cell_type": "markdown",
   "metadata": {
    "deletable": true,
    "editable": true
   },
   "source": [
    "### 2.5 descrizione\n",
    "\n",
    "Rimane da aggiungere la descrizione, per esempio per la Coppa del Mondo di Snowboard la descrizione sarebbe \"Al Passo Costalunga sfida tra i migliori specialisti del mondo\". \n",
    "\n",
    "**DA FARE 2.5.1**: Cerca manualmente nell'HTML la stringa `Al Passo Costalunga sfida tra i migliori specialisti del mondo`. In quante posizioni appare ? In base a quali criteri potremo filtrare i tipi degli eventi ? "
   ]
  },
  {
   "cell_type": "markdown",
   "metadata": {
    "deletable": true,
    "editable": true
   },
   "source": [
    "**SOLUZIONE 2.5.1**:\n",
    "\n",
    "Vediamo che compare in un blocco html regolare e come già successo prima in un blocco `script`. Concentriamoci sul blocco html. Vediamo che la descrizione sta solo vicino ai blocchi `h2`, in particolare alla linea \n",
    "`<p>Al Passo Costalunga sfida tra i migliori specialisti del mondo</p>`:\n",
    "\n",
    "```html\n",
    "<div class=\"col col-sm-9 arrange__item\">\n",
    "                    <a href=\"https://www.visittrentino.info/it/guida/eventi/coppa-del-mondo-di-snowboard_e_165375\" class=\"text-primary list-teaser__link\"><span class=\"icon icon-circle-arrow fz30\"></span></a>\n",
    "                    <div class=\"teaser__body\">\n",
    "                                                    <span class=\"text-secondary fz14 text-uppercase strong\">Sport, TOP EVENTI SPORT</span>\n",
    "                                                <h2 class=\"text-secondary\">Coppa del Mondo di Snowboard</h2>\n",
    "                        <ul class=\"list-unstyled list-inline list__teaser__list mb15 mt10\">\n",
    "                                                            <li>\n",
    "                                    <a class=\"fz14 text-uppercase strong text-primary\"><span class=\"icon icon-map-view mr10\"></span>Passo Costalunga</a>\n",
    "                                </li>\n",
    "                                                        <li>\n",
    "                                <a class=\"fz14 text-uppercase strong text-primary\"><span class=\"icon icon-map-view mr10\"></span>14/12/2017</a>\n",
    "                            </li>\n",
    "                        </ul>\n",
    "                        <p>Al Passo Costalunga sfida tra i migliori specialisti del mondo</p>\n",
    "                    </div>\n",
    "                </div>\n",
    "```\n",
    "\n"
   ]
  },
  {
   "cell_type": "markdown",
   "metadata": {
    "deletable": true,
    "editable": true
   },
   "source": [
    "Stavolta il filtraggio non è così semplice come prima, perchè per `<p>` non c'è nessun comodo attributo come `class`. Possiamo però cercare se qualche attributo prima è più facilmente identificabile. Guardiamo per esempio la tag `<ul>` immediatamente precedente:\n",
    "\n",
    "```html\n",
    "                        <ul class=\"list-unstyled list-inline list__teaser__list mb15 mt10\">\n",
    "                                                            <li>\n",
    "                                    <a class=\"fz14 text-uppercase strong text-primary\"><span class=\"icon icon-map-view mr10\"></span>Passo Costalunga</a>\n",
    "                                </li>\n",
    "                                                        <li>\n",
    "                                <a class=\"fz14 text-uppercase strong text-primary\"><span class=\"icon icon-map-view mr10\"></span>14/12/2017</a>\n",
    "                            </li>\n",
    "                        </ul>\n",
    "                        <p>Al Passo Costalunga sfida tra i migliori specialisti del mondo</p>\n",
    "```\n",
    "\n",
    "\n",
    "\n",
    " Vediamo che la tag in questione `<ul class=\"list-unstyled list-inline list__teaser__list mb15 mt10\">` contiene una classe, se la cerchiamo nel documento troveremo che tutte queste `ul` con questa classe compaiono sempre e solo prima del `<p>` che vogliamo noi. Quindi non ci resta che trovare un selettore CSS che\n",
    " \n",
    "* trovi le tag `ul` con `class=list-unstyled list-inline list__teaser__list mb15 mt10`\n",
    "* selezioni la tag successiva `p`\n",
    "\n",
    "Per fare ciò possiamo usare il selettore col simbolo `+`, quindi nella select basterà scrivere: "
   ]
  },
  {
   "cell_type": "code",
   "execution_count": 46,
   "metadata": {
    "collapsed": false,
    "deletable": true,
    "editable": true
   },
   "outputs": [
    {
     "data": {
      "text/plain": [
       "[<p>Al Passo Costalunga sfida tra i migliori specialisti del mondo</p>,\n",
       " <p>Lunedì 18 dicembre la Coppa Europa fa tappa in Val di Fassa</p>,\n",
       " <p>Torna il mitico slalom in notturna: vivi l'evento da VIP!</p>,\n",
       " <p>La “regina” delle granfondo compie 45 anni</p>,\n",
       " <p>L'emozione di sciare all’alba e prima di tutti. Dopo, una colazione da campioni!</p>,\n",
       " <p>Coppa del Mondo Sci di Fondo\n",
       " </p>,\n",
       " <p>Contest fotografico della Nuvola del Benessere</p>,\n",
       " <p>Fra le nuvole ai piedi delle Dolomiti</p>,\n",
       " <p>L'incanto genuino del Natale</p>,\n",
       " <p>La regina delle ciaspole nel giorno della Befana</p>,\n",
       " <p>Profumi, luci, atmosfera di festa </p>,\n",
       " <p>La forza della tradizione con un omaggio all'arte</p>,\n",
       " <p>Parco secolare degli Asburgo </p>,\n",
       " <p>Musica, zelten, vin brulé e spumante Trentodoc per assaporare l’atmosfera prenatalizia</p>,\n",
       " <p>Quasi 40 casette negli angoli più suggestivi del centro</p>,\n",
       " <p>Tradizioni e mercatini natalizi di Pinè</p>]"
      ]
     },
     "execution_count": 46,
     "metadata": {},
     "output_type": "execute_result"
    }
   ],
   "source": [
    "soup.select('ul[class=\"list-unstyled list-inline list__teaser__list mb15 mt10\"] + p')"
   ]
  },
  {
   "cell_type": "markdown",
   "metadata": {
    "deletable": true,
    "editable": true
   },
   "source": [
    "Benissimo, abbiamo ottenuto la lista dei `<p>` che vogliamo. Adesso possiamo mettere il testo interno dei `<p>` dentro una lista che chiameremo `descrizioni`. Possiamo farlo in un colpo solo usando una _list comprehension_:"
   ]
  },
  {
   "cell_type": "code",
   "execution_count": 47,
   "metadata": {
    "collapsed": false,
    "deletable": true,
    "editable": true
   },
   "outputs": [],
   "source": [
    "descrizioni = [tag.text for tag in soup.select('ul[class=\"list-unstyled list-inline list__teaser__list mb15 mt10\"] + p')]"
   ]
  },
  {
   "cell_type": "code",
   "execution_count": 48,
   "metadata": {
    "collapsed": false,
    "deletable": true,
    "editable": true
   },
   "outputs": [
    {
     "data": {
      "text/plain": [
       "['Al Passo Costalunga sfida tra i migliori specialisti del mondo',\n",
       " 'Lunedì 18 dicembre la Coppa Europa fa tappa in Val di Fassa',\n",
       " \"Torna il mitico slalom in notturna: vivi l'evento da VIP!\",\n",
       " 'La “regina” delle granfondo compie 45 anni',\n",
       " \"L'emozione di sciare all’alba e prima di tutti. Dopo, una colazione da campioni!\",\n",
       " 'Coppa del Mondo Sci di Fondo\\n',\n",
       " 'Contest fotografico della Nuvola del Benessere',\n",
       " 'Fra le nuvole ai piedi delle Dolomiti',\n",
       " \"L'incanto genuino del Natale\",\n",
       " 'La regina delle ciaspole nel giorno della Befana',\n",
       " 'Profumi, luci, atmosfera di festa ',\n",
       " \"La forza della tradizione con un omaggio all'arte\",\n",
       " 'Parco secolare degli Asburgo ',\n",
       " 'Musica, zelten, vin brulé e spumante Trentodoc per assaporare l’atmosfera prenatalizia',\n",
       " 'Quasi 40 casette negli angoli più suggestivi del centro',\n",
       " 'Tradizioni e mercatini natalizi di Pinè']"
      ]
     },
     "execution_count": 48,
     "metadata": {},
     "output_type": "execute_result"
    }
   ],
   "source": [
    "descrizioni"
   ]
  },
  {
   "cell_type": "markdown",
   "metadata": {
    "deletable": true,
    "editable": true
   },
   "source": [
    "Come al solito, verifichiamo che la lista delle descrizioni sia di 16 elementi:"
   ]
  },
  {
   "cell_type": "code",
   "execution_count": 49,
   "metadata": {
    "collapsed": false,
    "deletable": true,
    "editable": true
   },
   "outputs": [
    {
     "data": {
      "text/plain": [
       "16"
      ]
     },
     "execution_count": 49,
     "metadata": {},
     "output_type": "execute_result"
    }
   ],
   "source": [
    "len(descrizioni)"
   ]
  },
  {
   "cell_type": "code",
   "execution_count": 50,
   "metadata": {
    "collapsed": false,
    "deletable": true,
    "editable": true
   },
   "outputs": [
    {
     "data": {
      "text/plain": [
       "[{'data': '14/12/2017',\n",
       "  'descrizione': 'Al Passo Costalunga sfida tra i migliori specialisti del mondo',\n",
       "  'luogo': 'Passo Costalunga',\n",
       "  'nome': 'Coppa del Mondo di Snowboard',\n",
       "  'tipo': 'Sport, TOP EVENTI SPORT'},\n",
       " {'data': '18/12/2017',\n",
       "  'descrizione': 'Lunedì 18 dicembre la Coppa Europa fa tappa in Val di Fassa',\n",
       "  'luogo': 'Pozza di Fassa',\n",
       "  'nome': 'Coppa Europa di sci alpino maschile - slalom speciale',\n",
       "  'tipo': 'Sport, TOP EVENTI SPORT'},\n",
       " {'data': '22/12/2017',\n",
       "  'descrizione': \"Torna il mitico slalom in notturna: vivi l'evento da VIP!\",\n",
       "  'luogo': 'Madonna di Campiglio',\n",
       "  'nome': '3Tre - AUDI FIS Ski World Cup',\n",
       "  'tipo': 'Sport, TOP EVENTI SPORT'},\n",
       " {'data': '28/01/2018',\n",
       "  'descrizione': 'La “regina” delle granfondo compie 45 anni',\n",
       "  'luogo': 'Val di Fassa',\n",
       "  'nome': 'La Marcialonga di Fiemme e Fassa ',\n",
       "  'tipo': 'Sport, TOP EVENTI SPORT'},\n",
       " {'data': '06/01/2018 - 07/04/2018',\n",
       "  'descrizione': \"L'emozione di sciare all’alba e prima di tutti. Dopo, una colazione da campioni!\",\n",
       "  'luogo': '',\n",
       "  'nome': 'TrentinoSkiSunrise: sulle piste alla luce dell’alba',\n",
       "  'tipo': 'Enogastronomia, Intrattenimento della Località, Sport'},\n",
       " {'data': '06/01/2018 - 07/01/2018',\n",
       "  'descrizione': 'Coppa del Mondo Sci di Fondo\\n',\n",
       "  'luogo': 'Tesero',\n",
       "  'nome': 'Tour de Ski',\n",
       "  'tipo': 'Sport, Intrattenimento della Località, Enogastronomia'},\n",
       " {'data': '01/10/2017 - 30/11/2017',\n",
       "  'descrizione': 'Contest fotografico della Nuvola del Benessere',\n",
       "  'luogo': 'Pozza di Fassa',\n",
       "  'nome': 'La mia nuvola',\n",
       "  'tipo': 'Wellness'},\n",
       " {'data': '31/10/2017 - 20/12/2017',\n",
       "  'descrizione': 'Fra le nuvole ai piedi delle Dolomiti',\n",
       "  'luogo': 'Pozza di Fassa',\n",
       "  'nome': 'Dormire sotto un cielo di stelle',\n",
       "  'tipo': 'Wellness'},\n",
       " {'data': '19/11/2017 - 30/12/2017',\n",
       "  'descrizione': \"L'incanto genuino del Natale\",\n",
       "  'luogo': 'Tenno',\n",
       "  'nome': 'Mercatini di Natale di Canale di Tenno e Rango ',\n",
       "  'tipo': 'Intrattenimento della Località, Mercati e mercatini'},\n",
       " {'data': '06/01/2018',\n",
       "  'descrizione': 'La regina delle ciaspole nel giorno della Befana',\n",
       "  'luogo': 'Fondo',\n",
       "  'nome': 'La Ciaspolada',\n",
       "  'tipo': 'Sport, TOP EVENTI SPORT'},\n",
       " {'data': '18/11/2017 - 06/01/2018',\n",
       "  'descrizione': 'Profumi, luci, atmosfera di festa ',\n",
       "  'luogo': 'Trento',\n",
       "  'nome': 'Mercatini di Natale a Trento',\n",
       "  'tipo': 'Intrattenimento della Località, Mercati e mercatini'},\n",
       " {'data': '25/11/2017 - 06/01/2018',\n",
       "  'descrizione': \"La forza della tradizione con un omaggio all'arte\",\n",
       "  'luogo': 'Rovereto',\n",
       "  'nome': 'Mercatini di Natale di Rovereto',\n",
       "  'tipo': 'Intrattenimento della Località, Mercati e mercatini'},\n",
       " {'data': '25/11/2017 - 06/01/2018',\n",
       "  'descrizione': 'Parco secolare degli Asburgo ',\n",
       "  'luogo': 'Levico Terme',\n",
       "  'nome': 'Mercatino di Natale asburgico di Levico Terme',\n",
       "  'tipo': 'Mercati e mercatini, Intrattenimento della Località'},\n",
       " {'data': '01/12/2017 - 06/01/2018',\n",
       "  'descrizione': 'Musica, zelten, vin brulé e spumante Trentodoc per assaporare l’atmosfera prenatalizia',\n",
       "  'luogo': 'Cavalese',\n",
       "  'nome': 'Magnifico Mercatino di Cavalese',\n",
       "  'tipo': 'Intrattenimento della Località, Mercati e mercatini'},\n",
       " {'data': '17/11/2017 - 07/01/2018',\n",
       "  'descrizione': 'Quasi 40 casette negli angoli più suggestivi del centro',\n",
       "  'luogo': 'Arco',\n",
       "  'nome': 'Mercatino di Natale ad Arco',\n",
       "  'tipo': 'Intrattenimento della Località, Mercati e mercatini'},\n",
       " {'data': '08/12/2017 - 07/01/2018',\n",
       "  'descrizione': 'Tradizioni e mercatini natalizi di Pinè',\n",
       "  'luogo': 'Baselga di Piné',\n",
       "  'nome': 'El paès dei presepi',\n",
       "  'tipo': 'Mercati e mercatini, Folklore'}]"
      ]
     },
     "execution_count": 50,
     "metadata": {},
     "output_type": "execute_result"
    }
   ],
   "source": [
    "aggiungi_campo('descrizione', descrizioni)"
   ]
  },
  {
   "cell_type": "markdown",
   "metadata": {
    "deletable": true,
    "editable": true
   },
   "source": [
    "Proviamo a scriverci un file CSV contenente tutti i dati raccolti. Diversamente da quanto fatto finora, in cui abbiamo solo considerato righe come liste, in questo caso dato che abbiamo dizionari ci servirà un oggetto di tipo `DictWriter`: "
   ]
  },
  {
   "cell_type": "code",
   "execution_count": 51,
   "metadata": {
    "collapsed": false,
    "deletable": true,
    "editable": true
   },
   "outputs": [],
   "source": [
    "import csv\n",
    "\n",
    "# apriamo il file `eventi.csv`in scrittura :\n",
    "# 'fouput' è un nome  scelto da noi)\n",
    "# 'w' indica a Python che vogliamo scrivere il file\n",
    "#     se il file esiste già, verrà sovrascritto. \n",
    "#     NOTA:  FATE SEMPRE MOLTA ATTENZIONE A NON SOVRASCRIVERE FILE PER SBAGLIO !!!!!\n",
    "with open('eventi.csv', 'w', encoding='utf-8') as foutput:\n",
    "    # andremo a scrivere dizionari, ma nei dizionari le chiavi sono in ordine casuale: \n",
    "    # per avere una serie di colonne ordinata in modo prevedibile, siamo quindi obbligati\n",
    "    # a fornire una lista di intestazioni: \n",
    "    nomi_campi = ['nome', 'data', 'luogo', 'tipo', 'descrizione']  \n",
    "    writer = csv.DictWriter(foutput,fieldnames=nomi_campi)  # Ci serve creare un'oggetto 'scrittore' di tipo DictWriter            \n",
    "    writer.writeheader()\n",
    "    for diz in righe: # stavolta le righe contengono dizionari\n",
    "        writer.writerow(diz)  # chiamiamo l'oggetto scrittore dicendogli di scrivere il dizionario corrente"
   ]
  },
  {
   "cell_type": "code",
   "execution_count": null,
   "metadata": {
    "collapsed": true,
    "deletable": true,
    "editable": true
   },
   "outputs": [],
   "source": []
  },
  {
   "cell_type": "code",
   "execution_count": null,
   "metadata": {
    "collapsed": true,
    "deletable": true,
    "editable": true
   },
   "outputs": [],
   "source": []
  }
 ],
 "metadata": {
  "kernelspec": {
   "display_name": "Python 3",
   "language": "python",
   "name": "python3"
  },
  "language_info": {
   "codemirror_mode": {
    "name": "ipython",
    "version": 3
   },
   "file_extension": ".py",
   "mimetype": "text/x-python",
   "name": "python",
   "nbconvert_exporter": "python",
   "pygments_lexer": "ipython3",
   "version": "3.5.2"
  }
 },
 "nbformat": 4,
 "nbformat_minor": 2
}
