{
 "cells": [
  {
   "cell_type": "code",
   "execution_count": 1,
   "metadata": {
    "nbsphinx": "hidden"
   },
   "outputs": [],
   "source": [
    "#Please execute this cell\n",
    "import sys;\n",
    "sys.path.append('../../'); \n",
    "import jupman;\n"
   ]
  },
  {
   "cell_type": "markdown",
   "metadata": {},
   "source": [
    "# Matrici - soluzioni\n",
    "\n",
    "## [Scarica zip esercizi](../../_static/matrices-exercises.zip)\n",
    "\n",
    "[Naviga file online](https://github.com/DavidLeoni/softpython/tree/master/exercises/matrices)\n",
    "\n",
    "<div class=\"alert alert-warning\">\n",
    "\n",
    "**ATTENZIONE**\n",
    "\n",
    "**Questi esercizi sulle matrici sono integrativi a quelli già indicati nel** [Materiale del corso](https://softpython.readthedocs.io/it/latest/intro.html#Materiale-del-corso).\n",
    "\n",
    "**Per capire come svolgerli, leggi prima entrambe i fogli** [Introduzione a Python](https://softpython.readthedocs.io/it/latest/exercises/intro/intro-solution.html) **e**  [Gestione errori e testing](https://softpython.readthedocs.io/it/latest/exercises/errors-and-testing/errors-and-testing-solution.html) \n",
    "\n",
    "</div>\n",
    "\n",
    "\n"
   ]
  },
  {
   "cell_type": "markdown",
   "metadata": {},
   "source": [
    "## Introduzione\n",
    "\n",
    "Ci sono sostanzialmente due modi in Python di rappresentare matrici: come liste di liste, oppure con la libreria esterna [numpy](https://www.numpy.org). La più usata è sicuramente numpy ma noi le tratteremo comunque entrambe. Vediamo il motivo e le principali differenze:\n",
    "\n",
    "Liste di liste:\n",
    "\n",
    "1. native in Python\n",
    "2. non efficienti\n",
    "3. le liste sono pervasive in Python, probabilmente incontrerai matrici espresse come liste di liste in ogni caso\n",
    "4. ti puoi fare un'idea di come costruire una struttura dati annidata\n",
    "5. ti possono servire per comprendere concetti importanti come puntatori alla memoria e copie \n",
    "\n",
    "\n",
    "Numpy: \n",
    "\n",
    "1. non nativamente disponibile in Python\n",
    "2. efficiente\n",
    "3. alla base di parecchie librerie di calcolo scientifico\n",
    "4. la sintassi per accedere agli elementi è lievemente diversa da quella delle liste di liste \n",
    "5. non è nativamente disponibile in Python, è una libreria a parte la cui implementazione non è puro Python,  in alcuni rari casi potrebbe portare problemi di installazione e/o conflitti\n",
    "\n",
    "\n"
   ]
  },
  {
   "cell_type": "markdown",
   "metadata": {},
   "source": [
    "### Che fare\n",
    "\n",
    "- scompatta lo zip in una cartella, dovresti ottenere qualcosa del genere: \n",
    "\n",
    "```\n",
    "\n",
    "-jupman.py\n",
    "-altri file ..\n",
    "-exercises\n",
    "     |- intro\n",
    "         |- matrices-exercise.ipynb\n",
    "         |- matrices-solution.ipynb\n",
    "         |- altri file ..\n",
    "```\n",
    "\n",
    "<div class=\"alert alert-warning\">\n",
    "\n",
    "**ATTENZIONE**: Per essere visualizzato correttamente, il file del notebook DEVE essere nella cartella szippata.\n",
    "</div>\n",
    "\n",
    "- apri il Jupyter Notebook da quella cartella. Due cose dovrebbero aprirsi, prima una console e poi un browser. Il browser dovrebbe mostrare una lista di file: naviga la lista e apri il notebook `exercises/matrices/matrices-exercise.ipynb`\n",
    "- Prosegui leggendo il file degli esercizi, ogni tanto al suo interno troverai delle scritte **DA FARE**, che ti chiederanno di scrivere dei comandi Python nelle celle successive. Gli esercizi sono graduati per difficoltà, da una stellina ✪ a quattro ✪✪✪✪\n",
    "\n",
    "\n",
    "<div class=\"alert alert-warning\">\n",
    "\n",
    "**ATTENZIONE**: Ricordati di eseguire sempre la prima cella dentro il notebook. Contiene delle istruzioni come `import jupman` che dicono a Python quali moduli servono e dove trovarli. Per eseguirla, vedi le seguenti scorciatoie\n",
    "</div>\n",
    "\n",
    "\n",
    "\n",
    "Scorciatoie da tastiera:\n",
    "\n",
    "* Per eseguire il codice Python dentro una cella di Jupyter, premi `Control+Invio`\n",
    "* Per eseguire il codice Python dentro una cella di Jupyter E selezionare la cella seguente, premi `Shift+Invio`\n",
    "* Per eseguire il codice Python dentro una cella di Jupyter E creare una nuova cella subito dopo, premi `Alt+Invio`\n",
    "* Se per caso il Notebook sembra inchiodato, prova a selezionare `Kernel -> Restart`\n",
    "\n"
   ]
  },
  {
   "cell_type": "markdown",
   "metadata": {},
   "source": [
    "## Liste di liste\n",
    "\n",
    "Vediamo queste liste di liste. Per esempio, possiamo considerare la seguente matrice con 3 righe e 2 colonne, in breve una matrice 3x2:"
   ]
  },
  {
   "cell_type": "code",
   "execution_count": 2,
   "metadata": {},
   "outputs": [],
   "source": [
    "m = [\n",
    "        ['a','b'],\n",
    "        ['c','d'],\n",
    "        ['a','e']    \n",
    "    ]"
   ]
  },
  {
   "cell_type": "markdown",
   "metadata": {},
   "source": [
    "Per convenienza, assumiamo come input per le nostre funzioni non ci saranno matrici senza righe, o righe senza colonne. "
   ]
  },
  {
   "cell_type": "markdown",
   "metadata": {},
   "source": [
    "Tornando all'esempio, in pratica abbiamo una grande matrice esterna:\n",
    "\n",
    "```python\n",
    "m = [\n",
    "\n",
    "\n",
    "]\n",
    "```\n",
    "e ciascuno dei suoi elementi è un'altra lista che rappresenta una riga:\n",
    "\n",
    "\n",
    "```python\n",
    "m = [\n",
    "        ['a','b'],\n",
    "        ['c','d'],\n",
    "        ['a','e']\n",
    "    ]\n",
    "```\n",
    "\n",
    "Quindi, per accedere la prima riga`['a','b']`, semplicemente accediamo all'elemento all'indice 0 della lista esterna `m`:"
   ]
  },
  {
   "cell_type": "code",
   "execution_count": 3,
   "metadata": {},
   "outputs": [
    {
     "data": {
      "text/plain": [
       "['a', 'b']"
      ]
     },
     "execution_count": 3,
     "metadata": {},
     "output_type": "execute_result"
    }
   ],
   "source": [
    "m[0]"
   ]
  },
  {
   "cell_type": "markdown",
   "metadata": {},
   "source": [
    "Per accedere alla seconda riga intera `['c','d']`, accediamo all'elemento avete indice 1 della lista esterna `m`:"
   ]
  },
  {
   "cell_type": "code",
   "execution_count": 4,
   "metadata": {},
   "outputs": [
    {
     "data": {
      "text/plain": [
       "['c', 'd']"
      ]
     },
     "execution_count": 4,
     "metadata": {},
     "output_type": "execute_result"
    }
   ],
   "source": [
    "m[1]"
   ]
  },
  {
   "cell_type": "markdown",
   "metadata": {},
   "source": [
    "To access the second whole third row `['c','d']`, we would access the element at index 2 of the external list `m`:"
   ]
  },
  {
   "cell_type": "code",
   "execution_count": 5,
   "metadata": {},
   "outputs": [
    {
     "data": {
      "text/plain": [
       "['a', 'e']"
      ]
     },
     "execution_count": 5,
     "metadata": {},
     "output_type": "execute_result"
    }
   ],
   "source": [
    "m[2]"
   ]
  },
  {
   "cell_type": "markdown",
   "metadata": {},
   "source": [
    "Per accedere al primo elemento `'a'` della prima riga  `['a','b']` aggiungiamo un altro cosiddetto \"subscript operator\" con indice `0`:"
   ]
  },
  {
   "cell_type": "code",
   "execution_count": 6,
   "metadata": {},
   "outputs": [
    {
     "data": {
      "text/plain": [
       "'a'"
      ]
     },
     "execution_count": 6,
     "metadata": {},
     "output_type": "execute_result"
    }
   ],
   "source": [
    "m[0][0]"
   ]
  },
  {
   "cell_type": "markdown",
   "metadata": {},
   "source": [
    "Per accedere il secondo elemento `'b'` della prima riga `['a','b']` usiamo invece indice `1` :"
   ]
  },
  {
   "cell_type": "code",
   "execution_count": 7,
   "metadata": {},
   "outputs": [
    {
     "data": {
      "text/plain": [
       "'b'"
      ]
     },
     "execution_count": 7,
     "metadata": {},
     "output_type": "execute_result"
    }
   ],
   "source": [
    "m[0][1]"
   ]
  },
  {
   "cell_type": "markdown",
   "metadata": {},
   "source": [
    "<div class=\"alert alert-warning\" >\n",
    "\n",
    "**ATTENZIONE**: Quando una matrice è una lista di liste, puoi solo accedere valori con notazione `m[i][j]`, **NON** con `m[i,j]` !!\n",
    "</div>"
   ]
  },
  {
   "cell_type": "code",
   "execution_count": 8,
   "metadata": {},
   "outputs": [],
   "source": [
    "# scrivi qui la notazione sbagliata m[0,0] e guarda che errore ottieni:\n"
   ]
  },
  {
   "cell_type": "markdown",
   "metadata": {},
   "source": [
    "\n",
    "Adesso implmenenta le funzioni seguenti.\n",
    "\n",
    "<div class=\"alert alert-info\">\n",
    "\n",
    "**RICORDA**: se la cella è eseguita e non succede niente, è perchè tutti i test degli assert sono passati ! In questo caso il tuo codice è probabilmente corretto ma attenzione, questo tipo di test non sono mai esaustivi perciò potrebbero comunque esserci errori.\n",
    "</div>\n",
    "\n",
    "<div class=\"alert alert-info\" >\n",
    "\n",
    "**COMANDAMENTO 3: Noi riassegnerai mai parametri di funzione**\n",
    "</div>\n",
    "\n",
    "```python\n",
    "\n",
    "    def myfun(i, s, L, D):\n",
    "\n",
    "        # Non farai mai nessuna di queste assegnazioni, indipendentemente dal tipo del parametro:\n",
    "        i = 666            # tipi base (int, float, ...)\n",
    "        s = \"666\"          # stringhe\n",
    "        L = [666]          # containitori\n",
    "        D = {\"evil\":666}   # dizionari\n",
    "\n",
    "        # Per il solo caso di parametri compositi come liste o dizionari, puoi scrivere cose del genere \n",
    "        # SE E SOLO SE le specifiche della funzioni ti richiedono di modificare gli elementi interni del \n",
    "        # parametro (come per esempio ordinare una lista o cambiare il campo di un dizionario\n",
    "\n",
    "        L[4] = 2             # lista\n",
    "        D[\"my field\"] = 5    # dizionario\n",
    "        C.my_field = 7       # classe\n",
    "```\n",
    "\n",
    "\n",
    "<div class=\"alert alert-info\" >\n",
    "\n",
    "**COMANDAMENTO 6: Userai il comando return solo se vedi scritto \"return\" nella descrizione della funzione!**\n",
    "</div>\n",
    "\n",
    "Se non c'è nessun `return` nella descrizione della funzione, si intende che la funzione ritorni `None`. In questo caso, non devi nemmeno scrivere `return None`, perchè Python lo farà implicitamente per te.\n",
    "\n"
   ]
  },
  {
   "cell_type": "markdown",
   "metadata": {},
   "source": [
    "### Dimensioni della matrice\n",
    "\n",
    "✪ **EXERCISE**: Per prendere le dimensioni della matrice, possiamo usare normali operazioni su lista. Quali?Puoi assumere che la matrice sia ben formata (tutte le right hanno lunghezza uguale) e almeno una riga e almeno una colonna."
   ]
  },
  {
   "cell_type": "code",
   "execution_count": 9,
   "metadata": {},
   "outputs": [],
   "source": [
    "m = [\n",
    "        ['a','b'],\n",
    "        ['c','d'],\n",
    "        ['a','e']    \n",
    "    ]"
   ]
  },
  {
   "cell_type": "code",
   "execution_count": 10,
   "metadata": {},
   "outputs": [
    {
     "name": "stdout",
     "output_type": "stream",
     "text": [
      "righe\n",
      "3\n",
      "colonne\n",
      "2\n"
     ]
    }
   ],
   "source": [
    "# scrivi qui il codice per stampare righe e colonne\n",
    "\n",
    "# la lista esterna è una lista di righe, perciò per contarle usiamo semplicemente len(m)\n",
    "\n",
    "print(\"righe\")\n",
    "print(len(m))\n",
    "\n",
    "# Se assumiamo che la matrice sia ben formata e ha almeno una riga e una colonna, possiamo controllare direttamente\n",
    "# la lunghezza della prima riga\n",
    "\n",
    "print(\"colonne\")\n",
    "print(len(m[0]))"
   ]
  },
  {
   "cell_type": "markdown",
   "metadata": {},
   "source": [
    "### Come estrarre una riga\n",
    "\n",
    "Una delle prime cose che potresti voler fare è estrarre la riga i-esima. Se stai implmentando una funzione che fa questo, hai in sostanza due scelte:\n",
    "\n",
    "1. ritornare un _puntatore_ alla riga _originale_\n",
    "2. ritornare una _copia_ della riga\n",
    "\n",
    "Dato che copiare consuma memoria, perchè vorresti mai ritornare una copia ? A volte dovresti perchè non sai quale uso verrà fatto della struttura dati. Per esempio, supponi di avere un libro di esercizi che ha spazi vuoti dove scrivere gli esercizi. E' un libro eccellente, e tutti in classe lo vogliono leggere - ma tu sei preoccupato perchè se il libro comincia a cambiare mani qualche studente poco scrupoloso potrebbe scriverci sopra. Per evitare problemi, fai una copia del libro e la distribuisci (tralasciamo considerazioni sulla violazione del copyright :-)\n",
    "\n",
    "#### Estrarre puntatori\n",
    "\n",
    "Prima vediamo cosa succede quando ritorni semplicemente un _puntatore_ alla riga _originale_.\n",
    "\n",
    "**NOTA**: Per convenienza, alla fine della cella mettiamo una chiamata magica a `jupman.pytut()` che mostra l'esecuzione di codice come in Python tutor (per info addizionali su `jupman.pytut()`, [vedere qua ](https://softpython.readthedocs.io/it/latest/exercises/intro/intro-solution.html#Visualizzare-l'esecuzione-con-Python-Tutor)). Se esegui tutto il codice in Python tutor, vedrai che alla fine hai due puntatori freccia alla riga `['a','b']`, uno che parte dalla lista `m` e uno dalla variabile `riga`.\n"
   ]
  },
  {
   "cell_type": "code",
   "execution_count": 11,
   "metadata": {},
   "outputs": [
    {
     "data": {
      "text/html": [
       "\n",
       "        <iframe\n",
       "            width=\"900\"\n",
       "            height=\"575\"\n",
       "            src=\"https://pythontutor.com/iframe-embed.html#cumulative=false&code=def+esrigap%28mat%2C+i%29%3A%0A++++%22%22%22+RITORNA+la+riga+i-esima+da+mat%0A++++%22%22%22%0A++++return+mat%5Bi%5D%0A%0A++++%0Am+%3D+%5B%0A++++++%5B%27a%27%2C%27b%27%5D%2C%0A++++++%5B%27c%27%2C%27d%27%5D%2C%0A++++++%5B%27a%27%2C%27e%27%5D%2C++++%0A%5D%0A%0Ariga+%3D+esrigap%28m%2C+0%29%0A%0A%0A&curInstr=0&py=3\"\n",
       "            frameborder=\"0\"\n",
       "            allowfullscreen\n",
       "        ></iframe>\n",
       "        "
      ],
      "text/plain": [
       "<IPython.lib.display.IFrame at 0x7fa0a43e7ba8>"
      ]
     },
     "execution_count": 11,
     "metadata": {},
     "output_type": "execute_result"
    }
   ],
   "source": [
    "def esrigap(mat, i):\n",
    "    \"\"\" RITORNA la riga i-esima da mat\n",
    "    \"\"\"\n",
    "    return mat[i]\n",
    "\n",
    "    \n",
    "m = [\n",
    "      ['a','b'],\n",
    "      ['c','d'],\n",
    "      ['a','e'],    \n",
    "]\n",
    "\n",
    "riga = esrigap(m, 0)\n",
    "\n",
    "\n",
    "jupman.pytut()"
   ]
  },
  {
   "cell_type": "markdown",
   "metadata": {},
   "source": [
    "### Estrai riga con for\n",
    "\n",
    "\n",
    "\n",
    "Vediamo come implementare un versione che ritorna una **copia** della riga."
   ]
  },
  {
   "cell_type": "raw",
   "metadata": {},
   "source": [
    "Potresti essere tentato di scrivere qualcosa del genere: "
   ]
  },
  {
   "cell_type": "code",
   "execution_count": 12,
   "metadata": {},
   "outputs": [
    {
     "data": {
      "text/html": [
       "\n",
       "        <iframe\n",
       "            width=\"900\"\n",
       "            height=\"825\"\n",
       "            src=\"https://pythontutor.com/iframe-embed.html#cumulative=false&code=%23+ATTENZIONE%3A+CODICE+SBAGLIATO%21%21%21%21%0A%23+Sta+aggiungendo+una+LISTA+come+elemento+ad+un%27altra+lista+vuota.+%0A%23+In+altre+parole%2C+sta+includendo+la+riga+%28che+%C3%A8+gi%C3%A0+una+lista%29+in+un%27altra+lista%0A%0Adef+esriga_sbagliata%28mat%2C+i%29%3A%0A++++%22%22%22+RITORNA+la+i-esima+riga+da+mat.+NOTA%3A+la+riga+DEVE+essere+in+una+nuova+lista+%21%0A++++%22%22%22%0A++++%0A++++riga+%3D+%5B%5D%0A++++riga.append%28mat%5Bi%5D%29++%0A++++return+riga%0A%0A%0A%23+Verifichiamo+il+problmea+in+Python+tutor+%21%0A%23+Vedrai+una+freccia+che+va+dalla+riga+fino+alla+lista+di+un+elemento+che+conterr%C3%A0+esattamente+una+freccia+%0A%23+alla+riga+originale%0A++++%0Am+%3D+%5B%0A++++++%5B%27a%27%2C%27b%27%5D%2C%0A++++++%5B%27c%27%2C%27d%27%5D%2C%0A++++++%5B%27a%27%2C%27e%27%5D%2C++++%0A%5D%0A%0Ariga+%3D+esriga_sbagliata%28m%2C0%29%0A%0A&curInstr=0&py=3\"\n",
       "            frameborder=\"0\"\n",
       "            allowfullscreen\n",
       "        ></iframe>\n",
       "        "
      ],
      "text/plain": [
       "<IPython.lib.display.IFrame at 0x7fa0a434a1d0>"
      ]
     },
     "execution_count": 12,
     "metadata": {},
     "output_type": "execute_result"
    }
   ],
   "source": [
    "# ATTENZIONE: CODICE SBAGLIATO!!!!\n",
    "# Sta aggiungendo una LISTA come elemento ad un'altra lista vuota. \n",
    "# In altre parole, sta includendo la riga (che è già una lista) in un'altra lista\n",
    "\n",
    "def esriga_sbagliata(mat, i):\n",
    "    \"\"\" RITORNA la i-esima riga da mat. NOTA: la riga DEVE essere in una nuova lista !\n",
    "    \"\"\"\n",
    "    \n",
    "    riga = []\n",
    "    riga.append(mat[i])  \n",
    "    return riga\n",
    "\n",
    "\n",
    "# Verifichiamo il problmea in Python tutor !\n",
    "# Vedrai una freccia che va dalla riga fino alla lista di un elemento che conterrà esattamente una freccia \n",
    "# alla riga originale\n",
    "    \n",
    "m = [\n",
    "      ['a','b'],\n",
    "      ['c','d'],\n",
    "      ['a','e'],    \n",
    "]\n",
    "\n",
    "riga = esriga_sbagliata(m,0)\n",
    "\n",
    "jupman.pytut()"
   ]
  },
  {
   "cell_type": "markdown",
   "metadata": {},
   "source": [
    "Puoi costruire una copia in diversi modi, con un `for`, una slice o una list comprehension. Prova ad implementare tutte le versioni, cominciando con il `for` qui. Assicurati di controllare il risultato con Python tutor - per visualizzare Python tutor nell'output di una cella puoi usare il comando speciale `jupman.pytut()` alla fine della cella come abbiamo fatto prima. In Python tutor, dovresti vedere solo _una_ freccia che va dalla riga originale `['a','b']` in `m`, e ci dovrebbe essere _un'altra_ copia `['a','b']` da qualche parte, con la variabile with `riga` che ci punta. "
   ]
  },
  {
   "cell_type": "code",
   "execution_count": 13,
   "metadata": {},
   "outputs": [],
   "source": [
    "def esrigaf(mat, i):\n",
    "    \"\"\" RITORNA la i-esima riga da mat\n",
    "        NOTA: la riga DEVE essere una nuova lista! Per creare una nuova lista usa un ciclo for\n",
    "              che reitera sugli elementi, _non_ gli indici (quindi non usare range) !\n",
    "    \"\"\"\n",
    "    #jupman-raise\n",
    "    riga = []\n",
    "    for x in mat[i]:\n",
    "        riga.append(x) \n",
    "    return riga    \n",
    "    #/jupman-raise\n",
    "    \n",
    "m = [\n",
    "      ['a','b'],\n",
    "      ['c','d'],\n",
    "      ['a','e'],    \n",
    "]\n",
    "\n",
    "assert esrigaf(m, 0) == ['a','b']\n",
    "assert esrigaf(m, 1) == ['c','d']\n",
    "assert esrigaf(m, 2) == ['a','e']\n",
    "\n",
    "# controlla che non abbia cambiato la matrice originale!\n",
    "r = esrigaf(m, 0)\n",
    "r[0] = 'z'\n",
    "assert m[0][0] == 'a'   \n",
    "\n",
    "# togli il commento se vuoi visualizzare l'esecuzione qui (affinchè questo funzioni devi essere online)\n",
    "#jupman.pytut()"
   ]
  },
  {
   "cell_type": "markdown",
   "metadata": {},
   "source": [
    "### Estrai riga con range"
   ]
  },
  {
   "cell_type": "markdown",
   "metadata": {},
   "source": [
    "✪ Adesso prova a iterare su un range di indici di riga. Vediamo velocemente `range(n)`. Forse pensi che debba ritornare una sequenza di interi, da zero a `n - 1`. E' davvero così?"
   ]
  },
  {
   "cell_type": "code",
   "execution_count": 14,
   "metadata": {},
   "outputs": [
    {
     "data": {
      "text/plain": [
       "range(0, 5)"
      ]
     },
     "execution_count": 14,
     "metadata": {},
     "output_type": "execute_result"
    }
   ],
   "source": [
    "range(5)"
   ]
  },
  {
   "cell_type": "markdown",
   "metadata": {},
   "source": [
    "Forse ti aspettavi qualcosa come una lista  `[0,1,2,3,4]`, invece abbiamo scoperto che Python è piuttosto pigro qua: `range(n)` di fatto ritorna un oggetto _iterabile_, non una sequenza reale materializzata in memoria.\n",
    "\n",
    "Per prendere una vera lista di interi, dobbiamo chiedere esplicitamente questo oggetto iterabile che ci da gli oggetti uno per uno. \n",
    "\n",
    "Quando scrivi `for i in range(5)` il ciclo for sta facendo esattamente questo, ad ogni round chiede all'oggetto range di generare un numero nella sequenza. Se vogliamo l'intera sequenza materializzata in memoria, possiamo generarla convertendo il range in un oggetto lista:"
   ]
  },
  {
   "cell_type": "code",
   "execution_count": 15,
   "metadata": {},
   "outputs": [
    {
     "data": {
      "text/plain": [
       "[0, 1, 2, 3, 4]"
      ]
     },
     "execution_count": 15,
     "metadata": {},
     "output_type": "execute_result"
    }
   ],
   "source": [
    "list(range(5))"
   ]
  },
  {
   "cell_type": "markdown",
   "metadata": {},
   "source": [
    "Sii prudente, comunque. A seconda della dimensione della sequenza, questo potrebbe essere pericoloso. \n",
    "Una lista di un miliardo di elementi potrebbe saturare la RAM del tuo computer (i portatili nel 2018 hanno spesso 4 gigabyte di memoria RAM, cioè 4 miliardi di byte)."
   ]
  },
  {
   "cell_type": "markdown",
   "metadata": {},
   "source": [
    "Adesso implementa `esrigar` iterando su un range di indici di riga:"
   ]
  },
  {
   "cell_type": "code",
   "execution_count": 16,
   "metadata": {},
   "outputs": [],
   "source": [
    "def esrigar(mat, i):\n",
    "    \"\"\" RITORNA la i-esima riga da mat.\n",
    "        NOTA: la riga DEVE essere una nuova lista! Per creare una nuova lista usa un ciclo for\n",
    "        \n",
    "    \"\"\"\n",
    "    #jupman-raise\n",
    "    riga = []\n",
    "    for j in range(len(mat[0])):\n",
    "        riga.append(mat[i][j]) \n",
    "    return riga    \n",
    "    #/jupman-raise\n",
    "    \n",
    "m = [\n",
    "      ['a','b'],\n",
    "      ['c','d'],\n",
    "      ['a','e'],    \n",
    "]\n",
    "\n",
    "assert esrigar(m, 0) == ['a','b']\n",
    "assert esrigar(m, 1) == ['c','d']\n",
    "assert esrigar(m, 2) == ['a','e']\n",
    "\n",
    "# controlla che non abbia cambiato la matrice originale!\n",
    "r = esrigar(m, 0)\n",
    "r[0] = 'z'\n",
    "assert m[0][0] == 'a'   \n",
    "\n",
    "# togli il commento se vuoi visualizzare l'esecuzione qui (affinchè questo funzioni devi essere online)\n",
    "#jupman.pytut()"
   ]
  },
  {
   "cell_type": "markdown",
   "metadata": {},
   "source": [
    "### Estrai riga con slice\n",
    "\n",
    "✪ Ricardati che le slice ritornano una _copia_ di una lista? Adesso prova ad usarle."
   ]
  },
  {
   "cell_type": "code",
   "execution_count": 17,
   "metadata": {},
   "outputs": [],
   "source": [
    "def esrigas(mat, i):\n",
    "    \"\"\" RITORNA la i-esima riga da mat\n",
    "        NOTA: la riga DEVE essere una nuova lista!. Per crearla, usa le slice.\n",
    "    \"\"\"\n",
    "    #jupman-raise\n",
    "    return mat[i][:]  # se ometti gli indici di inizio e fine, hai una copia di tutta la lista \n",
    "    #/jupman-raise\n",
    "    \n",
    "m = [\n",
    "      ['a','b'],\n",
    "      ['c','d'],\n",
    "      ['a','e'],    \n",
    "]\n",
    "\n",
    "\n",
    "assert esrigas(m, 0) == ['a','b']\n",
    "assert esrigas(m, 1) == ['c','d']\n",
    "assert esrigas(m, 2) == ['a','e']\n",
    "\n",
    "# Controlla che non abbia cambiato la matrice originale !\n",
    "r = esrigas(m, 0)\n",
    "r[0] = 'z'\n",
    "assert m[0][0] == 'a'   \n",
    "\n",
    "# togli il commento se vuoi visualizzare l'esecuzione qui (affinchè questo funzioni devi essere online)\n",
    "#jupman.pytut()"
   ]
  },
  {
   "cell_type": "markdown",
   "metadata": {},
   "source": [
    "### Estrai riga con list comprehension\n",
    "\n",
    "✪ Adesso prova ad usare le _list comprehension_"
   ]
  },
  {
   "cell_type": "code",
   "execution_count": 18,
   "metadata": {},
   "outputs": [],
   "source": [
    "def esrigac(mat, i):\n",
    "    \"\"\" RITORNA la i-esima riga da mat.\n",
    "        NOTA: la riga DEVE essere in una nuova lista! Per creare una nuova lista usa le list comprehension\n",
    "    \"\"\"\n",
    "    #jupman-raise\n",
    "    return [x for x in mat[i]]\n",
    "    #/jupman-raise\n",
    "    \n",
    "m = [\n",
    "      ['a','b'],\n",
    "      ['c','d'],\n",
    "      ['a','e'],    \n",
    "]\n",
    "\n",
    "\n",
    "assert esrigac(m, 0) == ['a','b']\n",
    "assert esrigac(m, 1) == ['c','d']\n",
    "assert esrigac(m, 2) == ['a','e']\n",
    "\n",
    "# Controlla che non abbia cambiato la matrice originale !\n",
    "r = esrigac(m, 0)\n",
    "r[0] = 'z'\n",
    "assert m[0][0] == 'a'   \n",
    "\n",
    "# togli il commento se vuoi visualizzare l'esecuzione qui (affinchè questo funzioni devi essere online)\n",
    "#jupman.pytut()"
   ]
  },
  {
   "cell_type": "markdown",
   "metadata": {},
   "source": [
    "### Estrai colonna con for\n",
    "\n",
    "✪✪ Adesso possiamo provare ad estrarre una colonna alla posizione j-esima, perciò non abbiamo bisogno di pensare se ritornare un puntatore o una copia "
   ]
  },
  {
   "cell_type": "code",
   "execution_count": 19,
   "metadata": {},
   "outputs": [],
   "source": [
    "def escolf(mat, j):\n",
    "    \"\"\" RITORNA la j-esima colonna da mat. \n",
    "    \n",
    "        - Per crearla, usa un ciclo for\n",
    "    \"\"\"\n",
    "    \n",
    "    #jupman-raise\n",
    "    ret = []\n",
    "    for row in mat: \n",
    "        ret.append(row[j])\n",
    "    return ret\n",
    "    #/jupman-raise\n",
    "\n",
    "m = [\n",
    "      ['a','b'],\n",
    "      ['c','d'],\n",
    "      ['a','e'],    \n",
    "]\n",
    "\n",
    "assert escolf(m, 0) == ['a','c','a']\n",
    "assert escolf(m, 1) == ['b','d','e']\n",
    "\n",
    "# Controlla che la colonna ritornata non modifichi m\n",
    "c = escolf(m,0)\n",
    "c[0] = 'z'\n",
    "assert m[0][0] == 'a'\n",
    "\n",
    "# togli il commento se vuoi visualizzare l'esecuzione qui (affinchè questo funzioni devi essere online)\n",
    "#jupman.pytut()"
   ]
  },
  {
   "cell_type": "markdown",
   "metadata": {},
   "source": [
    "### Estrai colonna con list comprehension\n",
    "\n",
    "Difficoltà: ✪✪"
   ]
  },
  {
   "cell_type": "code",
   "execution_count": 20,
   "metadata": {},
   "outputs": [],
   "source": [
    "def escolc(mat, j):\n",
    "    \"\"\" RITORNA la j-esima colonna da mat. Per crearla, usa una list comprehension  \"\"\"\n",
    "    \n",
    "    #jupman-raise\n",
    "    return [row[j] for row in mat] \n",
    "    #/jupman-raise\n",
    "\n",
    "m = [\n",
    "      ['a','b'],\n",
    "      ['c','d'],\n",
    "      ['a','e'],    \n",
    "]\n",
    "\n",
    "assert escolc(m, 0) == ['a','c','a']\n",
    "assert escolc(m, 1) == ['b','d','e']\n",
    "\n",
    "# Controlla che la colonna ritornata non modifichi m\n",
    "c = escolc(m,0)\n",
    "c[0] = 'z'\n",
    "assert m[0][0] == 'a'\n",
    "\n",
    "# togli il commento se vuoi visualizzare l'esecuzione qui (affinchè questo funzioni devi essere online)\n",
    "#jupman.pytut()"
   ]
  },
  {
   "cell_type": "markdown",
   "metadata": {},
   "source": [
    "### Copia in profondità\n",
    "\n",
    "✪✪ Proviamo a produrre un clone _completo_ della matrice, anche chiamato _deep clone_, creando una copia sia della lista esterna e _anche_ delle liste interne che rappresentano le righe.\n",
    "\n",
    "Potresti essere tentato di scrivere codice del genere:\n"
   ]
  },
  {
   "cell_type": "code",
   "execution_count": 21,
   "metadata": {},
   "outputs": [
    {
     "data": {
      "text/html": [
       "\n",
       "        <iframe\n",
       "            width=\"900\"\n",
       "            height=\"675\"\n",
       "            src=\"https://pythontutor.com/iframe-embed.html#cumulative=false&code=%0A%23+ATTENZIONE%3A+CODICE+SBAGLIATO%3A%0Adef+deep_clone_sbagliato%28mat%29%3A%0A++++%22%22%22+RITORNA+una+NUOVA+lista+di+liste+che+un+DEEP+CLONE++di+mat+%28che+%C3%A8+una+lista+di+liste%29%0A++++++++RETURN+a+NEW+list+of+lists+which+is+a+COMPLETE+DEEP+clone%0A++++++++of+mat+%28which+is+a+list+of+lists%29%0A++++%22%22%22%0A++++return+mat%5B%3A%5D+%23+NON+SUFFICIENTE+%21%0A++++++++++++++++++%23+Questo+%C3%A8+un+clone+SUPERFICIALE+%28SHALLOW%29%2C+sta+solo+copiando+la+lista+_esterna_%0A++++++++++++++++++%23+ma+non+quelle+interne%21%0A%0Am+%3D+%5B%0A++++++++%5B%27a%27%2C%27b%27%5D%2C%0A++++++++%5B%27b%27%2C%27d%27%5D%0A++++%5D+++++++%0A++++++++%0Ares+%3D+deep_clone_sbagliato%28m%29%0A%0A%23+Nota+che+avrai+righe+nella+lista+res++che+vanno+alla+matrice+_originale_.+Non+vogliamo+questo+%21%0A&curInstr=0&py=3\"\n",
       "            frameborder=\"0\"\n",
       "            allowfullscreen\n",
       "        ></iframe>\n",
       "        "
      ],
      "text/plain": [
       "<IPython.lib.display.IFrame at 0x7fa0a434a748>"
      ]
     },
     "execution_count": 21,
     "metadata": {},
     "output_type": "execute_result"
    }
   ],
   "source": [
    "\n",
    "# ATTENZIONE: CODICE SBAGLIATO:\n",
    "def deep_clone_sbagliato(mat):\n",
    "    \"\"\" RITORNA una NUOVA lista di liste che un DEEP CLONE  di mat (che è una lista di liste)\n",
    "        RETURN a NEW list of lists which is a COMPLETE DEEP clone\n",
    "        of mat (which is a list of lists)\n",
    "    \"\"\"\n",
    "    return mat[:] # NON SUFFICIENTE !\n",
    "                  # Questo è un clone SUPERFICIALE (SHALLOW), sta solo copiando la lista _esterna_\n",
    "                  # ma non quelle interne!\n",
    "\n",
    "m = [\n",
    "        ['a','b'],\n",
    "        ['b','d']\n",
    "    ]       \n",
    "        \n",
    "res = deep_clone_sbagliato(m)\n",
    "\n",
    "# Nota che avrai righe nella lista res  che vanno alla matrice _originale_. Non vogliamo questo !\n",
    "jupman.pytut()"
   ]
  },
  {
   "cell_type": "markdown",
   "metadata": {},
   "source": [
    "Nel codice sopra, avrai bisogno di iterare attraverso le righe e _per ciascuna_ riga creare una copia di quella riga.\n"
   ]
  },
  {
   "cell_type": "code",
   "execution_count": 22,
   "metadata": {},
   "outputs": [],
   "source": [
    "\n",
    "def deep_clone(mat):\n",
    "    \"\"\" RITORNA una NUOVA lista che un DEEP CLONE completo di mat (che è una lista di liste)\n",
    "    \n",
    "    \"\"\"\n",
    "    #jupman-raise\n",
    "    \n",
    "    ret = []\n",
    "    for row in mat:\n",
    "        ret.append(row[:])\n",
    "    return ret\n",
    "    #/jupman-raise\n",
    "\n",
    "m = [\n",
    "        ['a','b'],\n",
    "        ['b','d']\n",
    "    ]\n",
    "\n",
    "res = [\n",
    "        ['a','b'],\n",
    "        ['b','d']\n",
    "    ]\n",
    "\n",
    "# verifica la copia\n",
    "c = deep_clone(m)\n",
    "assert c == res\n",
    "\n",
    "# verifica che una copia in profondità (cioè, ha anche creato cloni delle righe !)\n",
    "\n",
    "c[0][0] = 'z'\n",
    "assert m[0][0] == 'a'\n"
   ]
  },
  {
   "cell_type": "markdown",
   "metadata": {},
   "source": [
    "### attacca_sotto\n",
    "\n",
    "Difficulty: ✪✪\n"
   ]
  },
  {
   "cell_type": "code",
   "execution_count": 23,
   "metadata": {},
   "outputs": [],
   "source": [
    "def attacca_sotto(mat1, mat2):\n",
    "    \"\"\"Date le matrici mat1 e mat2 come lista di liste, con mat1 di dimensione u x n e mat2 di dimensione d x n, \n",
    "       RITORNA una NUOVA matrice di dimensione (u+d) x n come lista di liste, attaccando la seconda matrice alla fine\n",
    "       di mat1 \n",
    "       NOTA: per NUOVA matrice intendiamo una matrice con nessun puntatore alle righe originali \n",
    "       (vedi il precedente esercizio deep_clone)    \n",
    "    \"\"\"\n",
    "    #jupman-raise\n",
    "    res = []\n",
    "    for row in mat1:\n",
    "        res.append(row[:])\n",
    "    for row in mat2:\n",
    "        res.append(row[:])\n",
    "    return res\n",
    "    #/jupman-raise\n",
    "    \n",
    "m1 = [\n",
    "        ['a']\n",
    "     ]\n",
    "m2 = [\n",
    "        ['b']\n",
    "     ]\n",
    "assert attacca_sotto(m1, m2) == [\n",
    "                                ['a'],\n",
    "                                ['b']\n",
    "                              ]\n",
    "\n",
    "# controlla che non stiamo dando indietro un deep clone\n",
    "s = attacca_sotto(m1, m2)\n",
    "s[0][0] = 'z'\n",
    "assert m1[0][0] == 'a' \n",
    "\n",
    "m1 = [\n",
    "        ['a','b','c'],\n",
    "        ['d','b','a']\n",
    "     ]\n",
    "m2 = [\n",
    "        ['f','b', 'h'],\n",
    "        ['g','h', 'w']\n",
    "     ]\n",
    "\n",
    "res = [\n",
    "        ['a','b','c'],\n",
    "        ['d','b','a'],\n",
    "        ['f','b','h'],\n",
    "        ['g','h','w']\n",
    "     ]\n",
    "\n",
    "assert attacca_sotto(m1, m2) == res\n",
    "\n"
   ]
  },
  {
   "cell_type": "markdown",
   "metadata": {},
   "source": [
    "### attacca_sopra\n",
    "\n",
    "Difficulty: ✪✪"
   ]
  },
  {
   "cell_type": "code",
   "execution_count": 24,
   "metadata": {},
   "outputs": [],
   "source": [
    "def attacca_sopra(mat1, mat2):\n",
    "    \"\"\"Date le matrici mat1 e mat2 come lista di liste, con mat1 di dimensione u x n e mat2 di dimensione d x n, \n",
    "       RITORNA una NUOVA matrice di dimensione (u+d) x n come lista di liste, attaccando la prima mat\n",
    "       alla fine di mat2\n",
    "       NOTA: per NUOVA matrice intendiamo una matrice con nessun puntatore alle righe originali (vedi il precedente \n",
    "       esercizio deep_clone)\n",
    "       Per implementare questa funzione, usa una chiamata al metodo stitch_down che hai implementato prima\n",
    "    \"\"\"\n",
    "    #jupman-raise\n",
    "    return attacca_sotto(mat2, mat1)\n",
    "    #/jupman-raise\n",
    "    \n",
    "m1 = [\n",
    "        ['a']\n",
    "     ]\n",
    "m2 = [\n",
    "        ['b']\n",
    "     ]\n",
    "assert attacca_sopra(m1, m2) == [\n",
    "                                ['b'],\n",
    "                                ['a']\n",
    "                              ]\n",
    "\n",
    "# controlla che stiamo ritornando un deep clone\n",
    "s = attacca_sopra(m1, m2)\n",
    "s[0][0] = 'z'\n",
    "assert m1[0][0] == 'a'     \n",
    "    \n",
    "m1 = [\n",
    "        ['a','b','c'],\n",
    "        ['d','b','a']\n",
    "     ]\n",
    "m2 = [\n",
    "        ['f','b', 'h'],\n",
    "        ['g','h', 'w']\n",
    "     ]\n",
    "\n",
    "res = [\n",
    "        ['f','b','h'],\n",
    "        ['g','h','w'],\n",
    "        ['a','b','c'],\n",
    "        ['d','b','a']\n",
    "     ]\n",
    "\n",
    "assert attacca_sopra(m1, m2) == res"
   ]
  },
  {
   "cell_type": "markdown",
   "metadata": {},
   "source": [
    "### attacca_dx\n",
    "\n",
    "Difficulty: ✪✪✪"
   ]
  },
  {
   "cell_type": "code",
   "execution_count": 25,
   "metadata": {},
   "outputs": [],
   "source": [
    "\n",
    "def attacca_dx(mat1,mat2):\n",
    "    \"\"\"Date le matrici mat1 e mat2 come lista di liste, con mat1 di dimensione n x l e mat2 di dimensione n x r,\n",
    "       RITORNA una NUOVA matrice di dimensione n x (l + r) come lista di liste, attaccando la seconda mat \n",
    "       alla destra di mat1\n",
    "    \"\"\"\n",
    "    #jupman-raise\n",
    "    ret = []\n",
    "    for i in range(len(mat1)):\n",
    "        row_to_add =  mat1[i][:]\n",
    "        row_to_add.extend(mat2[i])\n",
    "        ret.append(row_to_add)\n",
    "    return ret\n",
    "    #/jupman-raise\n",
    "    \n",
    "\n",
    "m1 = [\n",
    "        ['a','b','c'],\n",
    "        ['d','b','a']\n",
    "     ]\n",
    "m2 = [\n",
    "        ['f','b'],\n",
    "        ['g','h']\n",
    "     ]\n",
    "\n",
    "res = [\n",
    "        ['a','b','c','f','b'],\n",
    "        ['d','b','a','g','h']\n",
    "      ]\n",
    "\n",
    "assert attacca_dx(m1, m2) == res"
   ]
  },
  {
   "cell_type": "markdown",
   "metadata": {},
   "source": [
    "### attacca_sx_mod\n",
    "\n",
    "✪✪✪ Questa volta proviamo a _modificare_ `mat1` sul posto (_in place_), attaccando `mat2` _alla sinistra_ di `mat1`.\n",
    "\n",
    "Perciò questa volta **non** mettere una istruzione `return`.\n",
    "\n",
    "Avrai bisogno di eseguire una inserzione di lista, che può essere problematica. Ci sono molti modi di farlo in Python, uno potrebbe essere usare l'inserzione cosiddetta di 'splice assignment' (che può apparire un po' strana):\n",
    "\n",
    "\n",
    "\n",
    "```python\n",
    "mia_lista[0:0] = lista_da_inserire  \n",
    "```\n",
    "\n",
    "Guarda qui per altre info (in inglese): https://stackoverflow.com/a/10623383"
   ]
  },
  {
   "cell_type": "code",
   "execution_count": 26,
   "metadata": {},
   "outputs": [],
   "source": [
    "def attacca_sx_mod(mat1,mat2):\n",
    "    \"\"\"Date le matrici mat1 e mat1 come lista di liste, con mat1 di dimensioni n x l e mat2 di dimensioni n x r, \n",
    "       MODIFICA mat1 così che diventi di dimensioni n x (l + r), attaccando la seconda mat alla sinistra di mat1\n",
    "           \n",
    "    \"\"\"\n",
    "    #jupman-raise    \n",
    "    for i in range(len(mat1)):\n",
    "        mat1[i][0:0] = mat2[i]\n",
    "    #/jupman-raise\n",
    "    \n",
    "\n",
    "m1 = [\n",
    "        ['a','b','c'],\n",
    "        ['d','b','a']\n",
    "     ]\n",
    "m2 = [\n",
    "        ['f','b'],\n",
    "        ['g','h']\n",
    "     ]\n",
    "\n",
    "res = [\n",
    "        ['f','b','a','b','c'],\n",
    "        ['g','h','d','b','a']\n",
    "     ]\n",
    "\n",
    "attacca_sx_mod(m1, m2) \n",
    "assert m1 == res\n"
   ]
  }
 ],
 "metadata": {
  "celltoolbar": "Edit Metadata",
  "kernelspec": {
   "display_name": "Python 3",
   "language": "python",
   "name": "python3"
  },
  "language_info": {
   "codemirror_mode": {
    "name": "ipython",
    "version": 3
   },
   "file_extension": ".py",
   "mimetype": "text/x-python",
   "name": "python",
   "nbconvert_exporter": "python",
   "pygments_lexer": "ipython3",
   "version": "3.5.2"
  },
  "toc": {
   "base_numbering": 1,
   "nav_menu": {},
   "number_sections": false,
   "sideBar": true,
   "skip_h1_title": false,
   "title_cell": "Table of Contents",
   "title_sidebar": "Contents",
   "toc_cell": false,
   "toc_position": {
    "height": "calc(100% - 180px)",
    "left": "10px",
    "top": "150px",
    "width": "287px"
   },
   "toc_section_display": true,
   "toc_window_display": true
  }
 },
 "nbformat": 4,
 "nbformat_minor": 2
}
