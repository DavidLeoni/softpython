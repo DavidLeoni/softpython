{
 "cells": [
  {
   "cell_type": "code",
   "execution_count": 1,
   "metadata": {
    "nbsphinx": "hidden"
   },
   "outputs": [],
   "source": [
    "#Please execute this cell\n",
    "import sys;\n",
    "sys.path.append('../../'); \n",
    "import jupman;\n"
   ]
  },
  {
   "cell_type": "markdown",
   "metadata": {},
   "source": [
    "# Matrici - soluzioni\n",
    "\n",
    "## [Scarica zip esercizi](../../_static/matrices-exercises.zip)\n",
    "\n",
    "[Naviga file online](https://github.com/DavidLeoni/softpython/tree/master/exercises/matrices)\n",
    "\n",
    "<div class=\"alert alert-warning\">\n",
    "\n",
    "**ATTENZIONE**\n",
    "\n",
    "**Questi esercizi sulle matrici sono integrativi a quelli già indicati nel** [Materiale del corso](https://softpython.readthedocs.io/it/latest/intro.html#Materiale-del-corso).\n",
    "\n",
    "**Per capire come svolgerli, leggi prima entrambe i fogli** [Introduzione a Python](https://softpython.readthedocs.io/it/latest/exercises/intro/intro-solution.html) **e**  [Gestione errori e testing](https://softpython.readthedocs.io/it/latest/exercises/errors-and-testing/errors-and-testing-solution.html) \n",
    "\n",
    "</div>\n",
    "\n",
    "\n"
   ]
  },
  {
   "cell_type": "markdown",
   "metadata": {},
   "source": [
    "## Introduzione\n",
    "\n",
    "Ci sono sostanzialmente due modi in Python di rappresentare matrici: come liste di liste, oppure con la libreria esterna [numpy](https://www.numpy.org). La più usata è sicuramente numpy ma noi le tratteremo comunque entrambi i modi. Vediamo il motivo e le principali differenze:\n",
    "\n",
    "Liste di liste:\n",
    "\n",
    "1. native in Python\n",
    "2. non efficienti\n",
    "3. le liste sono pervasive in Python, probabilmente incontrerai matrici espresse come liste di liste in ogni caso\n",
    "4. forniscono un'idea di come costruire una struttura dati annidata\n",
    "5. possono servire per comprendere concetti importanti come puntatori alla memoria e copie \n",
    "\n",
    "\n",
    "Numpy: \n",
    "\n",
    "1. non nativamente disponibile in Python\n",
    "2. efficiente\n",
    "3. alla base di parecchie librerie di calcolo scientifico (scipy, pandas)\n",
    "4. la sintassi per accedere agli elementi è lievemente diversa da quella delle liste di liste \n",
    "5. in alcuni rari casi potrebbe portare problemi di installazione e/o conflitti (l'implementazione non è puro Python)"
   ]
  },
  {
   "cell_type": "markdown",
   "metadata": {},
   "source": [
    "### Che fare\n",
    "\n",
    "- scompatta lo zip in una cartella, dovresti ottenere qualcosa del genere: \n",
    "\n",
    "```\n",
    "\n",
    "-jupman.py\n",
    "-altri file ..\n",
    "-exercises\n",
    "     |- intro\n",
    "         |- matrices-exercise.ipynb\n",
    "         |- matrices-solution.ipynb\n",
    "         |- altri file ..\n",
    "```\n",
    "\n",
    "<div class=\"alert alert-warning\">\n",
    "\n",
    "**ATTENZIONE**: Per essere visualizzato correttamente, il file del notebook DEVE essere nella cartella szippata.\n",
    "</div>\n",
    "\n",
    "- apri il Jupyter Notebook da quella cartella. Due cose dovrebbero aprirsi, prima una console e poi un browser. Il browser dovrebbe mostrare una lista di file: naviga la lista e apri il notebook `exercises/matrices/matrices-exercise.ipynb`\n",
    "- Prosegui leggendo il file degli esercizi, ogni tanto al suo interno troverai delle scritte **DA FARE**, che ti chiederanno di scrivere dei comandi Python nelle celle successive. Gli esercizi sono graduati per difficoltà, da una stellina ✪ a quattro ✪✪✪✪\n",
    "\n",
    "\n",
    "<div class=\"alert alert-warning\">\n",
    "\n",
    "**ATTENZIONE**: Ricordati di eseguire sempre la prima cella dentro il notebook. Contiene delle istruzioni come `import jupman` che dicono a Python quali moduli servono e dove trovarli. Per eseguirla, vedi le seguenti scorciatoie\n",
    "</div>\n",
    "\n",
    "\n",
    "\n",
    "Scorciatoie da tastiera:\n",
    "\n",
    "* Per eseguire il codice Python dentro una cella di Jupyter, premi `Control+Invio`\n",
    "* Per eseguire il codice Python dentro una cella di Jupyter E selezionare la cella seguente, premi `Shift+Invio`\n",
    "* Per eseguire il codice Python dentro una cella di Jupyter E creare una nuova cella subito dopo, premi `Alt+Invio`\n",
    "* Se per caso il Notebook sembra inchiodato, prova a selezionare `Kernel -> Restart`\n",
    "\n"
   ]
  },
  {
   "cell_type": "markdown",
   "metadata": {},
   "source": [
    "## Liste di liste\n",
    "\n",
    "Vediamo queste liste di liste. Per esempio, possiamo considerare la seguente matrice con 3 righe e 2 colonne, in breve una matrice 3x2:"
   ]
  },
  {
   "cell_type": "code",
   "execution_count": 2,
   "metadata": {},
   "outputs": [],
   "source": [
    "m = [\n",
    "        ['a','b'],\n",
    "        ['c','d'],\n",
    "        ['a','e']    \n",
    "    ]"
   ]
  },
  {
   "cell_type": "markdown",
   "metadata": {},
   "source": [
    "Per convenienza, assumiamo come input per le nostre funzioni non ci saranno matrici senza righe, o righe senza colonne. "
   ]
  },
  {
   "cell_type": "markdown",
   "metadata": {},
   "source": [
    "Tornando all'esempio, in pratica abbiamo una grande matrice esterna:\n",
    "\n",
    "```python\n",
    "m = [\n",
    "\n",
    "\n",
    "]\n",
    "```\n",
    "e ciascuno dei suoi elementi è un'altra lista che rappresenta una riga:\n",
    "\n",
    "\n",
    "```python\n",
    "m = [\n",
    "        ['a','b'],\n",
    "        ['c','d'],\n",
    "        ['a','e']\n",
    "    ]\n",
    "```\n",
    "\n",
    "Quindi, per accedere la prima riga`['a','b']`, semplicemente accediamo all'elemento all'indice 0 della lista esterna `m`:"
   ]
  },
  {
   "cell_type": "code",
   "execution_count": 3,
   "metadata": {},
   "outputs": [
    {
     "data": {
      "text/plain": [
       "['a', 'b']"
      ]
     },
     "execution_count": 3,
     "metadata": {},
     "output_type": "execute_result"
    }
   ],
   "source": [
    "m[0]"
   ]
  },
  {
   "cell_type": "markdown",
   "metadata": {},
   "source": [
    "Per accedere alla seconda riga intera `['c','d']`, accediamo all'elemento avete indice 1 della lista esterna `m`:"
   ]
  },
  {
   "cell_type": "code",
   "execution_count": 4,
   "metadata": {},
   "outputs": [
    {
     "data": {
      "text/plain": [
       "['c', 'd']"
      ]
     },
     "execution_count": 4,
     "metadata": {},
     "output_type": "execute_result"
    }
   ],
   "source": [
    "m[1]"
   ]
  },
  {
   "cell_type": "markdown",
   "metadata": {},
   "source": [
    "Per accedere alla terza riga intera `['c', 'd']`, accediamo all'elemento ad indice 2 della lista esterna `m`:"
   ]
  },
  {
   "cell_type": "code",
   "execution_count": 5,
   "metadata": {},
   "outputs": [
    {
     "data": {
      "text/plain": [
       "['a', 'e']"
      ]
     },
     "execution_count": 5,
     "metadata": {},
     "output_type": "execute_result"
    }
   ],
   "source": [
    "m[2]"
   ]
  },
  {
   "cell_type": "markdown",
   "metadata": {},
   "source": [
    "Per accedere al primo elemento `'a'` della prima riga  `['a','b']` aggiungiamo un altro cosiddetto \"subscript operator\" con indice `0`:"
   ]
  },
  {
   "cell_type": "code",
   "execution_count": 6,
   "metadata": {},
   "outputs": [
    {
     "data": {
      "text/plain": [
       "'a'"
      ]
     },
     "execution_count": 6,
     "metadata": {},
     "output_type": "execute_result"
    }
   ],
   "source": [
    "m[0][0]"
   ]
  },
  {
   "cell_type": "markdown",
   "metadata": {},
   "source": [
    "Per accedere il secondo elemento `'b'` della prima riga `['a','b']` usiamo invece indice `1` :"
   ]
  },
  {
   "cell_type": "code",
   "execution_count": 7,
   "metadata": {},
   "outputs": [
    {
     "data": {
      "text/plain": [
       "'b'"
      ]
     },
     "execution_count": 7,
     "metadata": {},
     "output_type": "execute_result"
    }
   ],
   "source": [
    "m[0][1]"
   ]
  },
  {
   "cell_type": "markdown",
   "metadata": {},
   "source": [
    "<div class=\"alert alert-warning\" >\n",
    "\n",
    "**ATTENZIONE**: Quando una matrice è una lista di liste, puoi solo accedere valori con notazione `m[i][j]`, **NON** con `m[i,j]` !!\n",
    "</div>"
   ]
  },
  {
   "cell_type": "code",
   "execution_count": 8,
   "metadata": {},
   "outputs": [],
   "source": [
    "# scrivi qui la notazione sbagliata m[0,0] e guarda che errore ottieni:\n"
   ]
  },
  {
   "cell_type": "markdown",
   "metadata": {},
   "source": [
    "\n",
    "Adesso implementa le funzioni seguenti.\n",
    "\n",
    "<div class=\"alert alert-info\">\n",
    "\n",
    "**RICORDA**: se la cella è eseguita e non succede niente, è perchè tutti i test degli assert sono passati ! In questo caso il tuo codice è probabilmente corretto ma attenzione, questo tipo di test non sono mai esaustivi perciò potrebbero comunque esserci errori.\n",
    "</div>\n",
    "\n",
    "<div class=\"alert alert-info\" >\n",
    "\n",
    "[COMANDAMENTO 3](https://softpython.readthedocs.io/it/latest/commandments.html#COMANDAMENTO-3): **Non riassegnerai mai parametri di funzione**\n",
    "</div>\n",
    "\n",
    "\n",
    "<div class=\"alert alert-info\" >\n",
    "\n",
    "[COMANDAMENTO 6](https://softpython.readthedocs.io/it/latest/commandments.html#COMANDAMENTO-6): **Userai il comando return solo se vedi scritto \"return\" nella descrizione della funzione!**\n",
    "</div>\n",
    "\n",
    "\n"
   ]
  },
  {
   "cell_type": "markdown",
   "metadata": {},
   "source": [
    "### Dimensioni della matrice\n",
    "\n",
    "✪ **DA FARE**: Per prendere le dimensioni della matrice, possiamo usare normali operazioni su lista. Quali?Puoi assumere che la matrice sia ben formata (tutte le right hanno lunghezza uguale) e almeno una riga e almeno una colonna."
   ]
  },
  {
   "cell_type": "code",
   "execution_count": 9,
   "metadata": {},
   "outputs": [],
   "source": [
    "m = [\n",
    "        ['a','b'],\n",
    "        ['c','d'],\n",
    "        ['a','e']    \n",
    "    ]"
   ]
  },
  {
   "cell_type": "code",
   "execution_count": 10,
   "metadata": {},
   "outputs": [
    {
     "name": "stdout",
     "output_type": "stream",
     "text": [
      "righe\n",
      "3\n",
      "colonne\n",
      "2\n"
     ]
    }
   ],
   "source": [
    "# scrivi qui il codice per stampare righe e colonne\n",
    "\n",
    "# la lista esterna è una lista di righe, perciò per contarle usiamo semplicemente len(m)\n",
    "\n",
    "print(\"righe\")\n",
    "print(len(m))\n",
    "\n",
    "# Se assumiamo che la matrice sia ben formata e ha almeno una riga e una colonna, possiamo controllare direttamente\n",
    "# la lunghezza della prima riga\n",
    "\n",
    "print(\"colonne\")\n",
    "print(len(m[0]))"
   ]
  },
  {
   "cell_type": "markdown",
   "metadata": {},
   "source": [
    "### Come estrarre una riga\n",
    "\n",
    "Una delle prime cose che potresti voler fare è estrarre la riga i-esima. Se stai implmentando una funzione che fa questo, hai in sostanza due scelte:\n",
    "\n",
    "1. ritornare un _puntatore_ alla riga _originale_\n",
    "2. ritornare una _copia_ della riga\n",
    "\n",
    "Dato che copiare consuma memoria, perchè vorresti mai ritornare una copia ? A volte dovresti perchè non sai quale uso verrà fatto della struttura dati. Per esempio, supponi di avere un libro di esercizi che ha spazi vuoti dove scrivere gli esercizi. E' un libro eccellente, e tutti in classe lo vogliono leggere - ma tu sei preoccupato perchè se il libro comincia a cambiare mani qualche studente poco scrupoloso potrebbe scriverci sopra. Per evitare problemi, fai una copia del libro e la distribuisci (tralasciamo considerazioni sulla violazione del copyright :-)\n",
    "\n",
    "#### Estrarre puntatori\n",
    "\n",
    "Prima vediamo cosa succede quando ritorni semplicemente un _puntatore_ alla riga _originale_.\n",
    "\n",
    "**NOTA**: Per convenienza, alla fine della cella mettiamo una chiamata magica a `jupman.pytut()` che mostra l'esecuzione di codice come in Python tutor (per info addizionali su `jupman.pytut()`, [vedere qua ](https://softpython.readthedocs.io/it/latest/exercises/intro/intro-solution.html#Visualizzare-l'esecuzione-con-Python-Tutor)). Se esegui tutto il codice in Python tutor, vedrai che alla fine hai due puntatori freccia alla riga `['a','b']`, uno che parte dalla lista `m` e uno dalla variabile `riga`.\n"
   ]
  },
  {
   "cell_type": "code",
   "execution_count": 11,
   "metadata": {},
   "outputs": [
    {
     "data": {
      "text/html": [
       "\n",
       "        <iframe\n",
       "            width=\"900\"\n",
       "            height=\"575\"\n",
       "            src=\"https://pythontutor.com/iframe-embed.html#py=3&curInstr=0&cumulative=false&code=def+esrigap%28mat%2C+i%29%3A%0A++++%22%22%22+RITORNA+la+riga+i-esima+da+mat%0A++++%22%22%22%0A++++return+mat%5Bi%5D%0A%0A++++%0Am+%3D+%5B%0A++++++%5B%27a%27%2C%27b%27%5D%2C%0A++++++%5B%27c%27%2C%27d%27%5D%2C%0A++++++%5B%27a%27%2C%27e%27%5D%2C++++%0A%5D%0A%0Ariga+%3D+esrigap%28m%2C+0%29%0A%0A%0A\"\n",
       "            frameborder=\"0\"\n",
       "            allowfullscreen\n",
       "        ></iframe>\n",
       "        "
      ],
      "text/plain": [
       "<IPython.lib.display.IFrame at 0x7fc54c9dbb00>"
      ]
     },
     "execution_count": 11,
     "metadata": {},
     "output_type": "execute_result"
    }
   ],
   "source": [
    "def esrigap(mat, i):\n",
    "    \"\"\" RITORNA la riga i-esima da mat\n",
    "    \"\"\"\n",
    "    return mat[i]\n",
    "\n",
    "    \n",
    "m = [\n",
    "      ['a','b'],\n",
    "      ['c','d'],\n",
    "      ['a','e'],    \n",
    "]\n",
    "\n",
    "riga = esrigap(m, 0)\n",
    "\n",
    "\n",
    "jupman.pytut()"
   ]
  },
  {
   "cell_type": "markdown",
   "metadata": {},
   "source": [
    "### Estrai riga con for\n",
    "\n",
    "\n",
    "\n",
    "Vediamo come implementare un versione che ritorna una **copia** della riga."
   ]
  },
  {
   "cell_type": "raw",
   "metadata": {},
   "source": [
    "Potresti essere tentato di scrivere qualcosa del genere: "
   ]
  },
  {
   "cell_type": "code",
   "execution_count": 12,
   "metadata": {},
   "outputs": [
    {
     "data": {
      "text/html": [
       "\n",
       "        <iframe\n",
       "            width=\"900\"\n",
       "            height=\"825\"\n",
       "            src=\"https://pythontutor.com/iframe-embed.html#py=3&curInstr=0&cumulative=false&code=%23+ATTENZIONE%3A+CODICE+SBAGLIATO%21%21%21%21%0A%23+Sta+aggiungendo+una+LISTA+come+elemento+ad+un%27altra+lista+vuota.+%0A%23+In+altre+parole%2C+sta+includendo+la+riga+%28che+%C3%A8+gi%C3%A0+una+lista%29+in+un%27altra+lista%0A%0Adef+esriga_sbagliata%28mat%2C+i%29%3A%0A++++%22%22%22+RITORNA+la+i-esima+riga+da+mat.+NOTA%3A+la+riga+DEVE+essere+in+una+nuova+lista+%21%0A++++%22%22%22%0A++++%0A++++riga+%3D+%5B%5D%0A++++riga.append%28mat%5Bi%5D%29++%0A++++return+riga%0A%0A%0A%23+Verifichiamo+il+problmea+in+Python+tutor+%21%0A%23+Vedrai+una+freccia+che+va+dalla+riga+fino+alla+lista+di+un+elemento+che+conterr%C3%A0+esattamente+una+freccia+%0A%23+alla+riga+originale%0A++++%0Am+%3D+%5B%0A++++++%5B%27a%27%2C%27b%27%5D%2C%0A++++++%5B%27c%27%2C%27d%27%5D%2C%0A++++++%5B%27a%27%2C%27e%27%5D%2C++++%0A%5D%0A%0Ariga+%3D+esriga_sbagliata%28m%2C0%29%0A%0A\"\n",
       "            frameborder=\"0\"\n",
       "            allowfullscreen\n",
       "        ></iframe>\n",
       "        "
      ],
      "text/plain": [
       "<IPython.lib.display.IFrame at 0x7fc54c93b208>"
      ]
     },
     "execution_count": 12,
     "metadata": {},
     "output_type": "execute_result"
    }
   ],
   "source": [
    "# ATTENZIONE: CODICE SBAGLIATO!!!!\n",
    "# Sta aggiungendo una LISTA come elemento ad un'altra lista vuota. \n",
    "# In altre parole, sta includendo la riga (che è già una lista) in un'altra lista\n",
    "\n",
    "def esriga_sbagliata(mat, i):\n",
    "    \"\"\" RITORNA la i-esima riga da mat. NOTA: la riga DEVE essere in una nuova lista !\n",
    "    \"\"\"\n",
    "    \n",
    "    riga = []\n",
    "    riga.append(mat[i])  \n",
    "    return riga\n",
    "\n",
    "\n",
    "# Verifichiamo il problmea in Python tutor !\n",
    "# Vedrai una freccia che va dalla riga fino alla lista di un elemento che conterrà esattamente una freccia \n",
    "# alla riga originale\n",
    "    \n",
    "m = [\n",
    "      ['a','b'],\n",
    "      ['c','d'],\n",
    "      ['a','e'],    \n",
    "]\n",
    "\n",
    "riga = esriga_sbagliata(m,0)\n",
    "\n",
    "jupman.pytut()"
   ]
  },
  {
   "cell_type": "markdown",
   "metadata": {},
   "source": [
    "Puoi costruire una copia in diversi modi, con un `for`, una slice o una list comprehension. Prova ad implementare tutte le versioni, cominciando con il `for` qui. Assicurati di controllare il risultato con Python tutor - per visualizzare Python tutor nell'output di una cella puoi usare il comando speciale `jupman.pytut()` alla fine della cella come abbiamo fatto prima. In Python tutor, dovresti vedere solo _una_ freccia che va dalla riga originale `['a','b']` in `m`, e ci dovrebbe essere _un'altra_ copia `['a','b']` da qualche parte, con la variabile with `riga` che ci punta. "
   ]
  },
  {
   "cell_type": "code",
   "execution_count": 13,
   "metadata": {},
   "outputs": [],
   "source": [
    "def esrigaf(mat, i):\n",
    "    \"\"\" RITORNA la i-esima riga da mat\n",
    "        NOTA: la riga DEVE essere una nuova lista! Per creare una nuova lista usa un ciclo for\n",
    "              che reitera sugli elementi, _non_ gli indici (quindi non usare range) !\n",
    "    \"\"\"\n",
    "    #jupman-raise\n",
    "    riga = []\n",
    "    for x in mat[i]:\n",
    "        riga.append(x) \n",
    "    return riga    \n",
    "    #/jupman-raise\n",
    "    \n",
    "m = [\n",
    "      ['a','b'],\n",
    "      ['c','d'],\n",
    "      ['a','e'],    \n",
    "]\n",
    "\n",
    "assert esrigaf(m, 0) == ['a','b']\n",
    "assert esrigaf(m, 1) == ['c','d']\n",
    "assert esrigaf(m, 2) == ['a','e']\n",
    "\n",
    "# controlla che non abbia cambiato la matrice originale!\n",
    "r = esrigaf(m, 0)\n",
    "r[0] = 'z'\n",
    "assert m[0][0] == 'a'   \n",
    "\n",
    "# togli il commento se vuoi visualizzare l'esecuzione qui (affinchè questo funzioni devi essere online)\n",
    "#jupman.pytut()"
   ]
  },
  {
   "cell_type": "markdown",
   "metadata": {},
   "source": [
    "### Estrai riga con range"
   ]
  },
  {
   "cell_type": "markdown",
   "metadata": {},
   "source": [
    "✪ Adesso prova a iterare su un range di indici di _colonna_. Vediamo velocemente `range(n)`. Forse pensi che debba ritornare una sequenza di interi, da zero a `n - 1`. E' davvero così?"
   ]
  },
  {
   "cell_type": "code",
   "execution_count": 14,
   "metadata": {},
   "outputs": [
    {
     "data": {
      "text/plain": [
       "range(0, 5)"
      ]
     },
     "execution_count": 14,
     "metadata": {},
     "output_type": "execute_result"
    }
   ],
   "source": [
    "range(5)"
   ]
  },
  {
   "cell_type": "markdown",
   "metadata": {},
   "source": [
    "Forse ti aspettavi qualcosa come una lista  `[0,1,2,3,4]`, invece abbiamo scoperto che Python è piuttosto pigro qua: `range(n)` di fatto ritorna un oggetto _iterabile_, non una sequenza reale materializzata in memoria.\n",
    "\n",
    "Per prendere una vera lista di interi, dobbiamo chiedere esplicitamente questo oggetto iterabile che ci da gli oggetti uno per uno. \n",
    "\n",
    "Quando scrivi `for i in range(5)` il ciclo for sta facendo esattamente questo, ad ogni round chiede all'oggetto range di generare un numero nella sequenza. Se vogliamo l'intera sequenza materializzata in memoria, possiamo generarla convertendo il range in un oggetto lista:"
   ]
  },
  {
   "cell_type": "code",
   "execution_count": 15,
   "metadata": {},
   "outputs": [
    {
     "data": {
      "text/plain": [
       "[0, 1, 2, 3, 4]"
      ]
     },
     "execution_count": 15,
     "metadata": {},
     "output_type": "execute_result"
    }
   ],
   "source": [
    "list(range(5))"
   ]
  },
  {
   "cell_type": "markdown",
   "metadata": {},
   "source": [
    "Sii prudente, comunque. A seconda della dimensione della sequenza, questo potrebbe essere pericoloso. \n",
    "Una lista di un miliardo di elementi potrebbe saturare la RAM del tuo computer (i portatili nel 2018 hanno spesso 4 gigabyte di memoria RAM, cioè 4 miliardi di byte)."
   ]
  },
  {
   "cell_type": "markdown",
   "metadata": {},
   "source": [
    "Adesso implementa `esrigar` iterando su un range di indici di colonna\n",
    "\n",
    "**NOTA**: ricordati di usare un nuovo nome per l'indice di colonna!"
   ]
  },
  {
   "cell_type": "code",
   "execution_count": 16,
   "metadata": {},
   "outputs": [],
   "source": [
    "def esrigar(mat, i):\n",
    "    \"\"\" RITORNA la i-esima riga da mat.\n",
    "        NOTA: la riga DEVE essere una nuova lista! Per creare una nuova lista usa un ciclo for\n",
    "        \n",
    "    \"\"\"\n",
    "    #jupman-raise\n",
    "    riga = []\n",
    "    for j in range(len(mat[0])):\n",
    "        riga.append(mat[i][j]) \n",
    "    return riga    \n",
    "    #/jupman-raise\n",
    "    \n",
    "m = [\n",
    "      ['a','b'],\n",
    "      ['c','d'],\n",
    "      ['a','e'],    \n",
    "]\n",
    "\n",
    "assert esrigar(m, 0) == ['a','b']\n",
    "assert esrigar(m, 1) == ['c','d']\n",
    "assert esrigar(m, 2) == ['a','e']\n",
    "\n",
    "# controlla che non abbia cambiato la matrice originale!\n",
    "r = esrigar(m, 0)\n",
    "r[0] = 'z'\n",
    "assert m[0][0] == 'a'   \n",
    "\n",
    "# togli il commento se vuoi visualizzare l'esecuzione qui (affinchè questo funzioni devi essere online)\n",
    "#jupman.pytut()"
   ]
  },
  {
   "cell_type": "markdown",
   "metadata": {},
   "source": [
    "### Estrai riga con slice\n",
    "\n",
    "✪ Ricardati che le slice ritornano una _copia_ di una lista? Adesso prova ad usarle."
   ]
  },
  {
   "cell_type": "code",
   "execution_count": 17,
   "metadata": {},
   "outputs": [],
   "source": [
    "def esrigas(mat, i):\n",
    "    \"\"\" RITORNA la i-esima riga da mat\n",
    "        NOTA: la riga DEVE essere una nuova lista!. Per crearla, usa le slice.\n",
    "    \"\"\"\n",
    "    #jupman-raise\n",
    "    return mat[i][:]  # se ometti gli indici di inizio e fine, hai una copia di tutta la lista \n",
    "    #/jupman-raise\n",
    "    \n",
    "m = [\n",
    "      ['a','b'],\n",
    "      ['c','d'],\n",
    "      ['a','e'],    \n",
    "]\n",
    "\n",
    "\n",
    "assert esrigas(m, 0) == ['a','b']\n",
    "assert esrigas(m, 1) == ['c','d']\n",
    "assert esrigas(m, 2) == ['a','e']\n",
    "\n",
    "# Controlla che non abbia cambiato la matrice originale !\n",
    "r = esrigas(m, 0)\n",
    "r[0] = 'z'\n",
    "assert m[0][0] == 'a'   \n",
    "\n",
    "# togli il commento se vuoi visualizzare l'esecuzione qui (affinchè questo funzioni devi essere online)\n",
    "#jupman.pytut()"
   ]
  },
  {
   "cell_type": "markdown",
   "metadata": {},
   "source": [
    "### Estrai riga con list comprehension\n",
    "\n",
    "✪ Adesso prova ad usare le _list comprehension_"
   ]
  },
  {
   "cell_type": "code",
   "execution_count": 18,
   "metadata": {},
   "outputs": [],
   "source": [
    "def esrigac(mat, i):\n",
    "    \"\"\" RITORNA la i-esima riga da mat.\n",
    "        NOTA: la riga DEVE essere in una nuova lista! Per creare una nuova lista usa le list comprehension\n",
    "    \"\"\"\n",
    "    #jupman-raise\n",
    "    return [x for x in mat[i]]\n",
    "    #/jupman-raise\n",
    "    \n",
    "m = [\n",
    "      ['a','b'],\n",
    "      ['c','d'],\n",
    "      ['a','e'],    \n",
    "]\n",
    "\n",
    "\n",
    "assert esrigac(m, 0) == ['a','b']\n",
    "assert esrigac(m, 1) == ['c','d']\n",
    "assert esrigac(m, 2) == ['a','e']\n",
    "\n",
    "# Controlla che non abbia cambiato la matrice originale !\n",
    "r = esrigac(m, 0)\n",
    "r[0] = 'z'\n",
    "assert m[0][0] == 'a'   \n",
    "\n",
    "# togli il commento se vuoi visualizzare l'esecuzione qui (affinchè questo funzioni devi essere online)\n",
    "#jupman.pytut()"
   ]
  },
  {
   "cell_type": "markdown",
   "metadata": {},
   "source": [
    "### Estrai colonna con for\n",
    "\n",
    "✪✪ Adesso possiamo provare ad estrarre una colonna alla posizione j-esima, perciò non abbiamo bisogno di pensare se ritornare un puntatore o una copia "
   ]
  },
  {
   "cell_type": "code",
   "execution_count": 19,
   "metadata": {},
   "outputs": [],
   "source": [
    "def escolf(mat, j):\n",
    "    \"\"\" RITORNA la j-esima colonna da mat. \n",
    "    \n",
    "        - Per crearla, usa un ciclo for\n",
    "    \"\"\"\n",
    "    \n",
    "    #jupman-raise\n",
    "    ret = []\n",
    "    for riga in mat: \n",
    "        ret.append(riga[j])\n",
    "    return ret\n",
    "    #/jupman-raise\n",
    "\n",
    "m = [\n",
    "      ['a','b'],\n",
    "      ['c','d'],\n",
    "      ['a','e'],    \n",
    "]\n",
    "\n",
    "assert escolf(m, 0) == ['a','c','a']\n",
    "assert escolf(m, 1) == ['b','d','e']\n",
    "\n",
    "# Controlla che la colonna ritornata non modifichi m\n",
    "c = escolf(m,0)\n",
    "c[0] = 'z'\n",
    "assert m[0][0] == 'a'\n",
    "\n",
    "# togli il commento se vuoi visualizzare l'esecuzione qui (affinchè questo funzioni devi essere online)\n",
    "#jupman.pytut()"
   ]
  },
  {
   "cell_type": "markdown",
   "metadata": {},
   "source": [
    "### Estrai colonna con list comprehension\n",
    "\n",
    "Difficoltà: ✪✪"
   ]
  },
  {
   "cell_type": "code",
   "execution_count": 20,
   "metadata": {},
   "outputs": [],
   "source": [
    "def escolc(mat, j):\n",
    "    \"\"\" RITORNA la j-esima colonna da mat. Per crearla, usa una list comprehension  \"\"\"\n",
    "    \n",
    "    #jupman-raise\n",
    "    return [riga[j] for riga in mat] \n",
    "    #/jupman-raise\n",
    "\n",
    "m = [\n",
    "      ['a','b'],\n",
    "      ['c','d'],\n",
    "      ['a','e'],    \n",
    "]\n",
    "\n",
    "assert escolc(m, 0) == ['a','c','a']\n",
    "assert escolc(m, 1) == ['b','d','e']\n",
    "\n",
    "# Controlla che la colonna ritornata non modifichi m\n",
    "c = escolc(m,0)\n",
    "c[0] = 'z'\n",
    "assert m[0][0] == 'a'\n",
    "\n",
    "# togli il commento se vuoi visualizzare l'esecuzione qui (affinchè questo funzioni devi essere online)\n",
    "#jupman.pytut()"
   ]
  },
  {
   "cell_type": "markdown",
   "metadata": {},
   "source": [
    "### matrice_vuota\n",
    "\n",
    "✪✪ Ci sono diversi modi di creare una nuova matrice 3x5 vuota come lista di liste che contengono degli zero. \n",
    "Prova a crearne una con due cicli `for` annidati:\n"
   ]
  },
  {
   "cell_type": "code",
   "execution_count": 21,
   "metadata": {},
   "outputs": [],
   "source": [
    "def matrice_vuota(n, m):\n",
    "    \"\"\"\n",
    "    RITORNA una NUOVA matrice nxn come lista di liste riempite con zero. Implementala con un for annidato.\n",
    "    \n",
    "    \"\"\"\n",
    "    #jupman-raise\n",
    "    ret = []\n",
    "    for i in range(n):\n",
    "        riga = []\n",
    "        ret.append(riga)\n",
    "        for j in range(m):\n",
    "            riga.append(0)\n",
    "    return ret\n",
    "    #/jupman-raise\n",
    "\n",
    "assert matrice_vuota(1,1) == [\n",
    "    [0]\n",
    "]\n",
    "\n",
    "assert matrice_vuota(1,2) == [\n",
    "    [0,0]\n",
    "]\n",
    "\n",
    "assert matrice_vuota(2,1) == [\n",
    "    [0],\n",
    "    [0]\n",
    "]\n",
    "\n",
    "assert matrice_vuota(2,2) == [\n",
    "    [0,0],\n",
    "    [0,0]\n",
    "]\n",
    "\n",
    "assert matrice_vuota(3,3) == [\n",
    "    [0,0,0],\n",
    "    [0,0,0],\n",
    "    [0,0,0]\n",
    "]\n"
   ]
  },
  {
   "cell_type": "markdown",
   "metadata": {},
   "source": [
    "### matrice_vuota nel modo elegante\n"
   ]
  },
  {
   "cell_type": "markdown",
   "metadata": {},
   "source": [
    "Per creare una lista di 3 elementi riempita di zeri, puoi scrivere così:"
   ]
  },
  {
   "cell_type": "code",
   "execution_count": 22,
   "metadata": {},
   "outputs": [
    {
     "data": {
      "text/plain": [
       "[0, 0, 0]"
      ]
     },
     "execution_count": 22,
     "metadata": {},
     "output_type": "execute_result"
    }
   ],
   "source": [
    "[0]*3"
   ]
  },
  {
   "cell_type": "markdown",
   "metadata": {},
   "source": [
    "Il `*` in un certo senso sta moltiplicando gli elementi in una lista"
   ]
  },
  {
   "cell_type": "markdown",
   "metadata": {},
   "source": [
    "Dato quanto sopra, per creare una matrice 5x3 riempita di zeri, che è una lista di liste apparentemente uguali, potresti essere tentato di scrivere così:\n"
   ]
  },
  {
   "cell_type": "code",
   "execution_count": 23,
   "metadata": {},
   "outputs": [
    {
     "data": {
      "text/plain": [
       "[[0, 0, 0], [0, 0, 0], [0, 0, 0], [0, 0, 0], [0, 0, 0]]"
      ]
     },
     "execution_count": 23,
     "metadata": {},
     "output_type": "execute_result"
    }
   ],
   "source": [
    "# SBAGLIATO !\n",
    "[[0]*3]*5"
   ]
  },
  {
   "cell_type": "markdown",
   "metadata": {},
   "source": [
    "Come mai questo è (probabilmente) sbagliato ? Prova a ispezionarlo in Python tutor: "
   ]
  },
  {
   "cell_type": "code",
   "execution_count": 24,
   "metadata": {},
   "outputs": [
    {
     "data": {
      "text/html": [
       "\n",
       "        <iframe\n",
       "            width=\"900\"\n",
       "            height=\"225\"\n",
       "            src=\"https://pythontutor.com/iframe-embed.html#py=3&curInstr=0&cumulative=false&code=bad+%3D+%5B%5B0%5D%2A3%5D%2A5%0A\"\n",
       "            frameborder=\"0\"\n",
       "            allowfullscreen\n",
       "        ></iframe>\n",
       "        "
      ],
      "text/plain": [
       "<IPython.lib.display.IFrame at 0x7fc54c9db518>"
      ]
     },
     "execution_count": 24,
     "metadata": {},
     "output_type": "execute_result"
    }
   ],
   "source": [
    "bad = [[0]*3]*5\n",
    "jupman.pytut()"
   ]
  },
  {
   "cell_type": "markdown",
   "metadata": {},
   "source": [
    "Se guardi da vicino, noterai parecchie frecce che puntano alla stessa lista di 3 zeri. Questo significa che se cambiamo un numero, apparentemente cambieremo 5 di loro nell'intera colonna !\n",
    "\n",
    "Il modo giusto di creare una matrice come lista di liste con zeri è il seguente:"
   ]
  },
  {
   "cell_type": "code",
   "execution_count": 25,
   "metadata": {},
   "outputs": [
    {
     "data": {
      "text/plain": [
       "[[0, 0, 0], [0, 0, 0], [0, 0, 0], [0, 0, 0], [0, 0, 0]]"
      ]
     },
     "execution_count": 25,
     "metadata": {},
     "output_type": "execute_result"
    }
   ],
   "source": [
    "# CORRETTO \n",
    "[[0]*3 for i in range(5)]"
   ]
  },
  {
   "cell_type": "markdown",
   "metadata": {},
   "source": [
    "**DA FARE**: Prova a creare una matrice con 7 righe e 4 colonne e riempila di 5."
   ]
  },
  {
   "cell_type": "code",
   "execution_count": 26,
   "metadata": {},
   "outputs": [
    {
     "data": {
      "text/plain": [
       "[[5, 5, 5, 5],\n",
       " [5, 5, 5, 5],\n",
       " [5, 5, 5, 5],\n",
       " [5, 5, 5, 5],\n",
       " [5, 5, 5, 5],\n",
       " [5, 5, 5, 5],\n",
       " [5, 5, 5, 5]]"
      ]
     },
     "execution_count": 26,
     "metadata": {},
     "output_type": "execute_result"
    }
   ],
   "source": [
    "# scrivi qui\n",
    "\n",
    "[[5]*4 for i in range(7)]"
   ]
  },
  {
   "cell_type": "markdown",
   "metadata": {},
   "source": [
    "### Copia in profondità\n",
    "\n",
    "✪✪ Proviamo a produrre un clone _completo_ di una matrice, anche chiamato _deep clone_, creando una copia sia della lista esterna e _anche_ delle liste interne che rappresentano le righe.\n",
    "\n",
    "Potresti essere tentato di scrivere codice del genere:\n"
   ]
  },
  {
   "cell_type": "code",
   "execution_count": 27,
   "metadata": {},
   "outputs": [
    {
     "data": {
      "text/html": [
       "\n",
       "        <iframe\n",
       "            width=\"900\"\n",
       "            height=\"625\"\n",
       "            src=\"https://pythontutor.com/iframe-embed.html#py=3&curInstr=0&cumulative=false&code=%0A%23+ATTENZIONE%3A+CODICE+SBAGLIATO%3A%0Adef+deep_clone_sbagliato%28mat%29%3A%0A++++%22%22%22+RITORNA+una+NUOVA+lista+di+liste+che+un+DEEP+CLONE++di+mat+%28che+%C3%A8+una+lista+di+liste%29%0A++++%22%22%22%0A++++return+mat%5B%3A%5D+%23+NON+SUFFICIENTE+%21%0A++++++++++++++++++%23+Questo+%C3%A8+un+clone+SUPERFICIALE+%28SHALLOW%29%2C+sta+solo+copiando+la+lista+_esterna_%0A++++++++++++++++++%23+ma+non+quelle+interne%21%0A%0Am+%3D+%5B%0A++++++++%5B%27a%27%2C%27b%27%5D%2C%0A++++++++%5B%27b%27%2C%27d%27%5D%0A++++%5D+++++++%0A++++++++%0Ares+%3D+deep_clone_sbagliato%28m%29%0A%0A%23+Nota+che+avrai+righe+nella+lista+res++che+vanno+alla+matrice+_originale_.+Non+vogliamo+questo+%21%0A\"\n",
       "            frameborder=\"0\"\n",
       "            allowfullscreen\n",
       "        ></iframe>\n",
       "        "
      ],
      "text/plain": [
       "<IPython.lib.display.IFrame at 0x7fc54c94b940>"
      ]
     },
     "execution_count": 27,
     "metadata": {},
     "output_type": "execute_result"
    }
   ],
   "source": [
    "\n",
    "# ATTENZIONE: CODICE SBAGLIATO:\n",
    "def deep_clone_sbagliato(mat):\n",
    "    \"\"\" RITORNA una NUOVA lista di liste che un DEEP CLONE  di mat (che è una lista di liste)\n",
    "    \"\"\"\n",
    "    return mat[:] # NON SUFFICIENTE !\n",
    "                  # Questo è un clone SUPERFICIALE (SHALLOW), sta solo copiando la lista _esterna_\n",
    "                  # ma non quelle interne!\n",
    "\n",
    "m = [\n",
    "        ['a','b'],\n",
    "        ['b','d']\n",
    "    ]       \n",
    "        \n",
    "res = deep_clone_sbagliato(m)\n",
    "\n",
    "# Nota che avrai righe nella lista res  che vanno alla matrice _originale_. Non vogliamo questo !\n",
    "jupman.pytut()"
   ]
  },
  {
   "cell_type": "markdown",
   "metadata": {},
   "source": [
    "Nel codice sopra, avrai bisogno di iterare attraverso le righe e _per ciascuna_ riga creare una copia di quella riga.\n"
   ]
  },
  {
   "cell_type": "code",
   "execution_count": 28,
   "metadata": {},
   "outputs": [],
   "source": [
    "\n",
    "def deep_clone(mat):\n",
    "    \"\"\" RITORNA una NUOVA lista come un DEEP CLONE completo di mat (che è una lista di liste)\n",
    "    \n",
    "    \"\"\"\n",
    "    #jupman-raise\n",
    "    \n",
    "    ret = []\n",
    "    for riga in mat:\n",
    "        ret.append(riga[:])\n",
    "    return ret\n",
    "    #/jupman-raise\n",
    "\n",
    "m = [\n",
    "        ['a','b'],\n",
    "        ['b','d']\n",
    "    ]\n",
    "\n",
    "res = [\n",
    "        ['a','b'],\n",
    "        ['b','d']\n",
    "    ]\n",
    "\n",
    "# verifica la copia\n",
    "c = deep_clone(m)\n",
    "assert c == res\n",
    "\n",
    "# verifica che una copia in profondità (cioè, ha anche creato cloni delle righe !)\n",
    "\n",
    "c[0][0] = 'z'\n",
    "assert m[0][0] == 'a'\n"
   ]
  },
  {
   "cell_type": "markdown",
   "metadata": {},
   "source": [
    "### attacca_sotto\n",
    "\n",
    "Difficulty: ✪✪\n"
   ]
  },
  {
   "cell_type": "code",
   "execution_count": 29,
   "metadata": {},
   "outputs": [],
   "source": [
    "def attacca_sotto(mat1, mat2):\n",
    "    \"\"\"Date le matrici mat1 e mat2 come lista di liste, con mat1 di dimensione u x n e mat2 di dimensione d x n, \n",
    "       RITORNA una NUOVA matrice di dimensione (u+d) x n come lista di liste, attaccando la seconda matrice in fondo\n",
    "       a mat1 \n",
    "       \n",
    "       - NOTA: per NUOVA matrice intendiamo una matrice con nessun puntatore alle righe originali \n",
    "       (vedi il precedente esercizio deep_clone)\n",
    "       - Per esempi, vedere gli assert\n",
    "       \n",
    "    \"\"\"\n",
    "    #jupman-raise\n",
    "    res = []\n",
    "    for riga in mat1:\n",
    "        res.append(riga[:])\n",
    "    for riga in mat2:\n",
    "        res.append(riga[:])\n",
    "    return res\n",
    "    #/jupman-raise\n",
    "    \n",
    "m1 = [\n",
    "        ['a']\n",
    "     ]\n",
    "m2 = [\n",
    "        ['b']\n",
    "     ]\n",
    "assert attacca_sotto(m1, m2) == [\n",
    "                                ['a'],\n",
    "                                ['b']\n",
    "                              ]\n",
    "\n",
    "# controlla che non stiamo dando indietro un deep clone\n",
    "s = attacca_sotto(m1, m2)\n",
    "s[0][0] = 'z'\n",
    "assert m1[0][0] == 'a' \n",
    "\n",
    "m1 = [\n",
    "        ['a','b','c'],\n",
    "        ['d','b','a']\n",
    "     ]\n",
    "m2 = [\n",
    "        ['f','b', 'h'],\n",
    "        ['g','h', 'w']\n",
    "     ]\n",
    "\n",
    "res = [\n",
    "        ['a','b','c'],\n",
    "        ['d','b','a'],\n",
    "        ['f','b','h'],\n",
    "        ['g','h','w']\n",
    "     ]\n",
    "\n",
    "assert attacca_sotto(m1, m2) == res\n",
    "\n"
   ]
  },
  {
   "cell_type": "markdown",
   "metadata": {},
   "source": [
    "### attacca_sopra\n",
    "\n",
    "Difficulty: ✪✪"
   ]
  },
  {
   "cell_type": "code",
   "execution_count": 30,
   "metadata": {},
   "outputs": [],
   "source": [
    "def attacca_sopra(mat1, mat2):\n",
    "    \"\"\"Date le matrici mat1 e mat2 come lista di liste, con mat1 di dimensione u x n e mat2 di dimensione d x n, \n",
    "       RITORNA una NUOVA matrice di dimensione (u+d) x n come lista di liste, attaccando la prima mat\n",
    "       alla fine di mat2\n",
    "       \n",
    "       - NOTA: per NUOVA matrice intendiamo una matrice con nessun puntatore alle righe originali (vedi il precedente \n",
    "       esercizio deep_clone)\n",
    "       Per implementare questa funzione, usa una chiamata al metodo attacca_sotto che hai implementato prima\n",
    "       - Per esempi, vedere gli assert\n",
    "    \"\"\"\n",
    "    #jupman-raise\n",
    "    return attacca_sotto(mat2, mat1)\n",
    "    #/jupman-raise\n",
    "    \n",
    "m1 = [\n",
    "        ['a']\n",
    "     ]\n",
    "m2 = [\n",
    "        ['b']\n",
    "     ]\n",
    "assert attacca_sopra(m1, m2) == [\n",
    "                                ['b'],\n",
    "                                ['a']\n",
    "                              ]\n",
    "\n",
    "# controlla che stiamo ritornando un deep clone\n",
    "s = attacca_sopra(m1, m2)\n",
    "s[0][0] = 'z'\n",
    "assert m1[0][0] == 'a'     \n",
    "    \n",
    "m1 = [\n",
    "        ['a','b','c'],\n",
    "        ['d','b','a']\n",
    "     ]\n",
    "m2 = [\n",
    "        ['f','b', 'h'],\n",
    "        ['g','h', 'w']\n",
    "     ]\n",
    "\n",
    "res = [\n",
    "        ['f','b','h'],\n",
    "        ['g','h','w'],\n",
    "        ['a','b','c'],\n",
    "        ['d','b','a']\n",
    "     ]\n",
    "\n",
    "assert attacca_sopra(m1, m2) == res"
   ]
  },
  {
   "cell_type": "markdown",
   "metadata": {},
   "source": [
    "### attacca_dx\n",
    "\n",
    "Difficulty: ✪✪✪"
   ]
  },
  {
   "cell_type": "code",
   "execution_count": 31,
   "metadata": {},
   "outputs": [],
   "source": [
    "\n",
    "def attacca_dx(mat1,mat2):\n",
    "    \"\"\"Date le matrici mat1 e mat2 come lista di liste, con mat1 di dimensione n x l e mat2 di dimensione n x r,\n",
    "       RITORNA una NUOVA matrice di dimensione n x (l + r) come lista di liste, attaccando la seconda mat \n",
    "       alla destra di mat1\n",
    "    \"\"\"\n",
    "    #jupman-raise\n",
    "    ret = []\n",
    "    for i in range(len(mat1)):\n",
    "        riga_da_aggiungere =  mat1[i][:]\n",
    "        riga_da_aggiungere.extend(mat2[i])\n",
    "        ret.append(riga_da_aggiungere)\n",
    "    return ret\n",
    "    #/jupman-raise\n",
    "    \n",
    "\n",
    "m1 = [\n",
    "        ['a','b','c'],\n",
    "        ['d','b','a']\n",
    "     ]\n",
    "m2 = [\n",
    "        ['f','b'],\n",
    "        ['g','h']\n",
    "     ]\n",
    "\n",
    "res = [\n",
    "        ['a','b','c','f','b'],\n",
    "        ['d','b','a','g','h']\n",
    "      ]\n",
    "\n",
    "assert attacca_dx(m1, m2) == res"
   ]
  },
  {
   "cell_type": "markdown",
   "metadata": {},
   "source": [
    "### soglia\n",
    "\n",
    "Difficoltà: ✪✪"
   ]
  },
  {
   "cell_type": "code",
   "execution_count": 32,
   "metadata": {},
   "outputs": [],
   "source": [
    "def soglia(mat, t):\n",
    "    \"\"\"\n",
    "    Prende una matrice come lista di liste (ogni lista ha la stessa dimensione) e RITORNA\n",
    "    una NUOVA matrice come lista di liste dove c'è True se l'elemento di input corrispondente \n",
    "    è maggiore di t, altrimenti ritorna False.\n",
    "    \n",
    "    Ingredienti:\n",
    "        - una variabile per la matrice da ritornare\n",
    "        - per ogni riga originale, dobbiamo creare una nuova lista\n",
    "    \"\"\"\n",
    "    \n",
    "    #jupman-raise\n",
    "    ret = []\n",
    "    for riga in mat:\n",
    "        nuova_riga = []\n",
    "        ret.append(nuova_riga)\n",
    "        for el in riga:\n",
    "            nuova_riga.append(el > t)\n",
    "        \n",
    "    return ret\n",
    "    #/jupman-raise\n",
    "\n",
    "morig = [\n",
    "     [1,4,2],\n",
    "     [7,9,3],    \n",
    "]\n",
    "    \n",
    "    \n",
    "m = [\n",
    "     [1,4,2],\n",
    "     [7,9,3],    \n",
    "]\n",
    "\n",
    "s = [\n",
    "    [False,False,False],\n",
    "    [True,True,False],    \n",
    "]\n",
    "assert soglia(m,4) == s\n",
    "assert m == morig   # verifica che original non sia cambiata\n",
    "\n",
    "\n",
    "m = [\n",
    "     [5,2],\n",
    "     [3,7]\n",
    "]\n",
    "\n",
    "s = [\n",
    "    [True,False],\n",
    "    [False,True]\n",
    "]\n",
    "assert soglia(m,4) == s"
   ]
  },
  {
   "cell_type": "markdown",
   "metadata": {},
   "source": [
    "### scambia_righe\n",
    "\n",
    "Difficoltà: ✪✪\n",
    "\n",
    "Proveremo a scambiare due righe di una matrice\n",
    "\n",
    "Ci sono diversi modi di procedere. Prima di continuare, assicurati di sapere come scambiare solo due valori risolvendo questo semplice esercizio - controlla inoltre il risultato in Python Tutor.\n"
   ]
  },
  {
   "cell_type": "code",
   "execution_count": 33,
   "metadata": {},
   "outputs": [
    {
     "data": {
      "text/html": [
       "\n",
       "        <iframe\n",
       "            width=\"900\"\n",
       "            height=\"425\"\n",
       "            src=\"https://pythontutor.com/iframe-embed.html#py=3&curInstr=0&cumulative=false&code=x+%3D+3%0Ay+%3D+7%0A%0A%23+scrivi+qui+il+codice+per+scambiare+x+e+y+%28non+usare+direttamente+le+costanti+3+e+7%21%29%0A%0Ak+%3D+x+++%0Ax+%3D+y%0Ay+%3D+k%0A%0A\"\n",
       "            frameborder=\"0\"\n",
       "            allowfullscreen\n",
       "        ></iframe>\n",
       "        "
      ],
      "text/plain": [
       "<IPython.lib.display.IFrame at 0x7fc54c93e6d8>"
      ]
     },
     "execution_count": 33,
     "metadata": {},
     "output_type": "execute_result"
    }
   ],
   "source": [
    "x = 3\n",
    "y = 7\n",
    "\n",
    "# scrivi qui il codice per scambiare x e y (non usare direttamente le costanti 3 e 7!)\n",
    "\n",
    "k = x   \n",
    "x = y\n",
    "y = k\n",
    "\n",
    "jupman.pytut()"
   ]
  },
  {
   "cell_type": "code",
   "execution_count": 34,
   "metadata": {},
   "outputs": [],
   "source": [
    "def scambia_righe(mat, i1, i2):\n",
    "    \"\"\"Prende una matrice come lista di liste, \n",
    "       e RITORNA una NUOVA matrice dove le righe agli indici i1 e i2 sono scambiate\n",
    "       \n",
    "       ingredienti:\n",
    "       \n",
    "       - prima clona in profondità\n",
    "       - poi scambia le righe \n",
    "    \"\"\"\n",
    "    #jupman-raise\n",
    "    \n",
    "    # prima clona in profondita\n",
    "    ret = []\n",
    "    for riga in mat:\n",
    "        ret.append(riga[:])\n",
    "    # poi scambia\n",
    "    s = ret[i1]\n",
    "    ret[i1] = ret[i2]\n",
    "    ret[i2] = s\n",
    "    return ret\n",
    "    #/jupman-raise\n",
    "\n",
    "m = [\n",
    "        ['a','d'],\n",
    "        ['b','e'],\n",
    "        ['c','f']    \n",
    "    ]\n",
    "\n",
    "res = scambia_righe(m, 0, 2)\n",
    "\n",
    "assert res == [\n",
    "        ['c','f'],    \n",
    "        ['b','e'],\n",
    "        ['a','d']\n",
    "]\n",
    "\n",
    "res[0][0] = 'z'\n",
    "assert m[0][0] == 'a'\n",
    "\n",
    "\n",
    "m = [\n",
    "        ['a','d'],\n",
    "        ['b','e'],\n",
    "        ['c','f']    \n",
    "    ]\n",
    "\n",
    "\n",
    "# scambia con se stesso dovrebbe nei fatti generare un deep clone\n",
    "res = scambia_righe(m, 0, 0)\n",
    "\n",
    "assert res == [\n",
    "                ['a','d'],\n",
    "                ['b','e'],\n",
    "                ['c','f']     \n",
    "              ]\n",
    "\n",
    "res[0][0] = 'z'\n",
    "assert m[0][0] == 'a'\n"
   ]
  },
  {
   "cell_type": "markdown",
   "metadata": {},
   "source": [
    "### scambia_colonne\n",
    "\n",
    "Difficoltà: ✪✪\n"
   ]
  },
  {
   "cell_type": "code",
   "execution_count": 35,
   "metadata": {},
   "outputs": [],
   "source": [
    "def scambia_colonne(mat, j1, j2):\n",
    "    \"\"\" RITORNA una NUOVA matrice dove le colonne j1 e j2 sono scambiate\"\"\"\n",
    "    \n",
    "    #jupman-raise\n",
    "    ret = []\n",
    "    for riga in mat:\n",
    "        nuova_riga = riga[:]\n",
    "        nuova_riga[j1] = riga[j2]\n",
    "        nuova_riga[j2] = riga[j1]\n",
    "        ret.append(nuova_riga)\n",
    "    return ret\n",
    "    #/jupman-raise\n",
    "\n",
    "m = [\n",
    "        ['a','b','c'],\n",
    "        ['d','e','f']\n",
    "    ]\n",
    "\n",
    "res = scambia_colonne(m, 0,2)\n",
    "\n",
    "assert res == [\n",
    "                  ['c','b','a'],\n",
    "                  ['f','e','d']    \n",
    "              ]\n",
    "\n",
    "res[0][0] = 'z'\n",
    "assert m[0][0] == 'a'\n"
   ]
  },
  {
   "cell_type": "markdown",
   "metadata": {},
   "source": [
    "### diag\n",
    "\n",
    "✪✪ `diag` estrae la diagonale di una matrice. Per farlo, `diag` richiede una matrice nxn come input. Per essere sicuri che ci prendiamo effettivamente una matrice nxn, questa volta dovrai validare l'input, cioè controllare che il numero di righe sia uguale al numero di colonne (come al solito assumi che la matrice abbia almeno una riga e almeno una colonna). Se la matrice non è nxn, la funzione dovrebbe fermarsi e lanciare una eccezione. In particolare, dovrebbe lanciare un [ValueError](https://docs.python.org/3/library/exceptions.html#ValueError), che è il modo standard in Python di lanciare un'eccezione quando l'input atteso non è corretto e non puoi trovare errori più specifici.\n",
    "\n",
    "Per scopi illustrativi, mostriamo qui i numeri indice `i` e `j` e evitiamo di mettere gli apici intorno alle stringhe:\n",
    "\n",
    "```\n",
    "    \\ j  0,1,2,3  \n",
    "    i \n",
    "       [\n",
    "    0   [a,b,c,d],\n",
    "    1   [e,f,g,h],\n",
    "    2   [p,q,r,s],\n",
    "    3   [t,u,v,z]\n",
    "       ]\n",
    "```\n",
    "\n",
    "Vediamo una esecuzione passo-passo:\n",
    "\n",
    "```\n",
    "                                \\ j  0,1,2,3  \n",
    "                                i \n",
    "                                   [\n",
    " estrai dalla riga a  i=0 -->   0   [a,b,c,d],        'a' è estratto da mat[0][0]\n",
    "                                1   [e,f,g,h],\n",
    "                                2   [p,q,r,s],\n",
    "                                3   [t,u,v,z]\n",
    "                                   ]\n",
    "```\n",
    "\n",
    "```\n",
    "                                \\ j  0,1,2,3  \n",
    "                                i \n",
    "                                   [\n",
    "                                0   [a,b,c,d],           \n",
    " estrai dalla riga a i=1  -->   1   [e,f,g,h],        'f' è estratto da mat[1][1]\n",
    "                                2   [p,q,r,s], \n",
    "                                3   [t,u,v,z]\n",
    "                                   ]\n",
    "```\n",
    "\n",
    "```\n",
    "                                \\ j  0,1,2,3  \n",
    "                                i \n",
    "                                   [\n",
    "                                0   [a,b,c,d],           \n",
    "                                1   [e,f,g,h],\n",
    " estrai dalla riga a i=2  -->   2   [p,q,r,s],        'r' è estratto da mat[2][2]\n",
    "                                3   [t,u,v,z]\n",
    "                                   ]\n",
    "```\n",
    "\n",
    "```\n",
    "                                \\ j  0,1,2,3  \n",
    "                                i \n",
    "                                   [\n",
    "                                0   [a,b,c,d],           \n",
    "                                1   [e,f,g,h],\n",
    "                                2   [p,q,r,s],\n",
    " estrai dalla riga a i=3  -->   3   [t,u,v,z]         'z' è estratto da mat[3][3]\n",
    "                                   ]\n",
    "\n",
    "Da quanto sopra, notiamo che abbiamo bisogno di elementi da questi indici:\n",
    "\n",
    " i, j\n",
    " 1, 1\n",
    " 2, 2\n",
    " 3, 3\n",
    "\n",
    "```\n",
    "\n",
    "Ci sono due modi di risolvere questo esercizio, uno è usare un doppio for (un for annidato, per essere precisi), mentre l'altro metodo usa solo un for. Prova a risolverlo in entrambi i modi. Di quanti passi hai bisogno con un doppio for? e con uno solo?"
   ]
  },
  {
   "cell_type": "code",
   "execution_count": 36,
   "metadata": {},
   "outputs": [],
   "source": [
    "\n",
    "def diag(mat):\n",
    "    \"\"\" Data una matrice nxn come lista di liste, RITORNA una lista che contiene gli elementi della diagonale\n",
    "        (da sinistra in alto fino all'angolo basso destro)\n",
    "        \n",
    "        - se mat non è nxn solleva l'eccezione ValueError\n",
    "        \n",
    "    \"\"\"\n",
    "    #jupman-raise\n",
    "    if len(mat) != len(mat[0]):\n",
    "        raise ValueError(\"mat dovrebbe essere nxn, trovato invece %s x %s\" % (len(mat), len(mat[0])))\n",
    "    ret = []\n",
    "    for i in range(len(mat)):\n",
    "        ret.append(mat[i][i])\n",
    "    return ret\n",
    "    #/jupman-raise\n",
    "\n",
    "m = [\n",
    "        ['a','b','c'],\n",
    "        ['d','e','f'],\n",
    "        ['g','h','i']\n",
    "     ]\n",
    "\n",
    "assert diag(m) == ['a','e','i']\n",
    "\n",
    "try: \n",
    "    diag([              # 1x2 dimension, non quadrata\n",
    "           ['a','b']   \n",
    "         ])  \n",
    "    raise Exception(\"Dovrei aver fallito !\") # se diag solleva un'eccezione che è ValueError come ci \n",
    "                                             # aspettiamo che faccia, il codice non dovrebbe mai arrivare qui\n",
    "except ValueError: # questo cattura solo ValueError. Altri tipi di errori non sono catturati\n",
    "    pass  # In una calusola except devi sempre mettere del codice\n",
    "                   # Qui mettiamo il comando pass che non fa niente\n",
    "\n"
   ]
  },
  {
   "cell_type": "markdown",
   "metadata": {},
   "source": [
    "### anti_diag\n",
    "\n",
    "✪✪ Prima di implementarla, ricordati di scrivere gli indici richiesti come abbiamo fatto per l'esempio della funzione [diag](#diag)."
   ]
  },
  {
   "cell_type": "code",
   "execution_count": 37,
   "metadata": {},
   "outputs": [],
   "source": [
    "def anti_diag(mat):\n",
    "    \"\"\" Data una matrice nxn come lista di liste, RITORNA una lista che contiene gli elementi della antidiagonale\n",
    "        (dall'angolo destro fino all'angolo in basso a sinistra). Se mat non è nxn solleva ValueError.\n",
    "    \"\"\"\n",
    "    #jupman-raise\n",
    "    n = len(mat)\n",
    "    ret = []\n",
    "    for i in range(n):\n",
    "        ret.append(mat[i][n-i-1])\n",
    "    return ret\n",
    "    #/jupman-raise\n",
    "\n",
    "m = [\n",
    "        ['a','b','c'],\n",
    "        ['d','e','f'],\n",
    "        ['g','h','i']\n",
    "     ]\n",
    "\n",
    "assert anti_diag(m) == ['c','e','g']\n",
    "\n",
    "# Se hai dubbi riguardo gli indici ricordati di provare il codice in Python tutor !\n",
    "# jupman.pytut()"
   ]
  },
  {
   "cell_type": "markdown",
   "metadata": {},
   "source": [
    "### is_utriang\n",
    "\n",
    "✪✪✪ Adesso proverai a iterare solo la parte triangolare inferiore di una matrice. Vediamo un esempio:\n"
   ]
  },
  {
   "cell_type": "code",
   "execution_count": 38,
   "metadata": {},
   "outputs": [],
   "source": [
    "m = [\n",
    "        [3,2,5,8],\n",
    "        [0,6,2,3],\n",
    "        [0,0,4,9],\n",
    "        [0,0,0,5]\n",
    "    ]"
   ]
  },
  {
   "cell_type": "markdown",
   "metadata": {},
   "source": [
    "Solo per propositi illustrativi, mostriamo qui i numeri di indice `i` e `j`:\n",
    "\n",
    "```\n",
    "    \\ j  0,1,2,3  \n",
    "    i \n",
    "       [\n",
    "    0   [3,2,5,8],\n",
    "    1   [0,6,2,3],\n",
    "    2   [0,0,4,9],\n",
    "    3   [0,7,0,5]\n",
    "       ]\n",
    "```\n",
    "\n",
    "Vediamo una esecuzione passo passo su una matrice triangolare non-superiore:\n",
    "\n",
    "\n",
    "\n",
    "```\n",
    "                                \\ j  0,1,2,3  \n",
    "                                i \n",
    "                                   [\n",
    "                                0   [3,2,5,8],\n",
    "inizia da riga a indice i=1 --> 1   [0,6,2,3],      Controlla fino a colonna limite j=0 inclusa\n",
    "                                2   [0,0,4,9],\n",
    "                                3   [0,7,0,5]\n",
    "                                   ]\n",
    "```\n",
    "\n",
    "Viene trovato uno zero, è ora di controllare la riga successiva.\n",
    "\n",
    "```\n",
    "                                \\ j  0,1,2,3  \n",
    "                                i \n",
    "                                   [\n",
    "                                0   [3,2,5,8],\n",
    "                                1   [0,6,2,3],\n",
    "controlla riga a indice i=2 --> 2   [0,0,4,9],      Controlla fino a colonna limite  j=1 inclusa\n",
    "                                3   [0,7,0,5]\n",
    "                                   ]\n",
    "```\n",
    "\n",
    "Due zeri sono trovati, è ora di controllare la riga successiva.\n",
    "\n",
    "```\n",
    "                                \\ j  0,1,2,3  \n",
    "                                i \n",
    "                                   [\n",
    "                                0   [3,2,5,8],\n",
    "                                1   [0,6,2,3],\n",
    "                                2   [0,0,4,9],\n",
    "controlla riga a indice i=3 --> 3   [0,7,0,5]       Controlla fino a colonna limite  j=2 inclusa\n",
    "                                   ]                MA può fermarsi prima a j=1 perchè il numero a j=1\n",
    "                                                    è differente da zero. Appena 7 è trovato, può ritornare False\n",
    "                                                    In questo caso la matrice non è triangolare superiore\n",
    "\n",
    "```\n",
    "\n",
    "<div class=\"alert alert-info\">\n",
    "\n",
    "[COMANDAMENTO 7](https://softpython.readthedocs.io/it/latest/commandments.html#COMANDAMENTO-7): **Scriverai anche su carta!**\n",
    "\n",
    "</div>\n",
    "\n",
    "Quando sviluppi questi algoritmi, è fondamentale scrivere un esempio passo passo come quello sopra per avere un'idea chiara di cosa sta succedendo. Inoltre, se scrivi giù gli indici correttamente, sarai facilmente in grado di derivare una generalizzazione. Per trovarla, prova a scrivere ulteriormente gli indici trovati in una tabella.\n",
    "\n",
    "Per esempio, da quanto sopra per ciascuna riga indice `i` possiamo facilmente trovare di quale indice limite `j` abbiamo bisogno per raggiungere nella nostra caccia agli zero:\n",
    "\n",
    "```\n",
    "| i | limit j (included) |            Notes                    | \n",
    "|---|--------------------|-------------------------------------|\n",
    "| 1 |          0         |  cominciamo dalla riga a indice i=1 |\n",
    "| 2 |          1         |                                     |\n",
    "| 3 |          2         |                                     |\n",
    "```\n",
    "\n",
    "Dalla tabella, possiamo vedere che il limite per `j` può essere calcolato in termini dell'indice riga corrente `i` con una semplice formula `i - 1`\n"
   ]
  },
  {
   "cell_type": "markdown",
   "metadata": {},
   "source": [
    "Il fatto che tu debba muoverti attraverso righe e colonne suggerisce che hai bisogno di due `for`, uno per le righe e uno per le colonne - cioè un _for annidato_\n",
    "\n",
    "per svolgere l'esercizio:\n",
    "\n",
    "* usa range di indici (quindi niente `for riga in mat` ..)\n",
    "* usa i caratteri `i` come indice per le righe, `j` come indice per le colonne e in caso tu ne abbia bisogno la lettera `n` come dimensione della matrice\n",
    "\n",
    "**SUGGERIMENTO 1**: ricorda che puoi consentire a range di partire da un indice specifico, come `range(3,7)` che partirà da 3 e finira a 6 _incluso_ (l'ultimo 7 è _escluso_).\n",
    "\n",
    "\n",
    "**SUGGERIMENTO 2**: Per implementare questo, è meglio guardare a numeri _diversi_ da zero. Appena ne trovi uno, puoi fermare la funzione e ritornare False. Solo dopo che _tutto_ il controllo dei numeri è fatto puoi ritornare `True`\n",
    "\n",
    "Infine, ricordati di questo:"
   ]
  },
  {
   "cell_type": "markdown",
   "metadata": {},
   "source": [
    "<div class=\"alert alert-info\">\n",
    "\n",
    "[COMANDAMENTO 2](https://softpython.readthedocs.io/it/latest/commandments.html#COMANDAMENTO-2): **Quando inserisci una variabile in un ciclo for, questa variabile deve essere nuova**\n",
    "\n",
    "</div>\n"
   ]
  },
  {
   "cell_type": "markdown",
   "metadata": {},
   "source": [
    "Se hai letto _tutto_ quanto sopra, comincia ad implementare la funzione:"
   ]
  },
  {
   "cell_type": "code",
   "execution_count": 39,
   "metadata": {},
   "outputs": [],
   "source": [
    "def is_utriang(mat):\n",
    "    \"\"\" RITORNA True se la matrice nxn fornita è triangolare superiore, cioè, ha tutte le celle \n",
    "        sotto la diagonale a zero. Altrimenti, ritorna False\n",
    "    \"\"\"\n",
    "    #jupman-raise\n",
    "    n = len(mat)\n",
    "    m = len(mat[0])\n",
    "    \n",
    "    for i in range(1,n):\n",
    "        for j in range(i): # nota che arriva fino alla i *esclusa*, cioè, arriva a i - 1 *inclusa*\n",
    "            if mat[i][j] != 0:\n",
    "                return False\n",
    "    return True\n",
    "    #/jupman-raise\n",
    "    \n",
    "assert is_utriang([\n",
    "                    [1]\n",
    "                  ]) == True\n",
    "assert is_utriang([\n",
    "    [3,2,5],\n",
    "    [0,6,2],\n",
    "    [0,0,4]\n",
    "]) == True\n",
    "\n",
    "assert is_utriang([\n",
    "    [3,2,5],\n",
    "    [0,6,2],\n",
    "    [1,0,4]\n",
    "]) == False\n",
    "\n",
    "assert is_utriang([\n",
    "    [3,2,5],\n",
    "    [0,6,2],\n",
    "    [1,1,4]\n",
    "]) == False\n",
    "\n",
    "assert is_utriang([\n",
    "    [3,2,5],\n",
    "    [0,6,2],\n",
    "    [0,1,4]\n",
    "]) == False\n",
    "\n",
    "\n",
    "assert is_utriang([\n",
    "    [3,2,5],\n",
    "    [1,6,2],\n",
    "    [1,0,4]\n",
    "]) == False\n"
   ]
  },
  {
   "cell_type": "markdown",
   "metadata": {},
   "source": [
    "### attacca_sx_mod\n",
    "\n",
    "✪✪✪ Questa volta proviamo a _modificare_ `mat1` sul posto (_in place_), attaccando `mat2` _alla sinistra_ di `mat1`.\n",
    "\n",
    "Perciò questa volta **non** mettere una istruzione `return`.\n",
    "\n",
    "Avrai bisogno di eseguire una inserzione di lista, che può essere problematica. Ci sono molti modi di farlo in Python, uno potrebbe essere usare l'inserzione cosiddetta di 'splice assignment' (che può apparire un po' strana):\n",
    "\n",
    "\n",
    "\n",
    "```python\n",
    "mia_lista[0:0] = lista_da_inserire  \n",
    "```\n",
    "\n",
    "Guarda qui per altre info (in inglese): https://stackoverflow.com/a/10623383"
   ]
  },
  {
   "cell_type": "code",
   "execution_count": 40,
   "metadata": {},
   "outputs": [],
   "source": [
    "def attacca_sx_mod(mat1,mat2):\n",
    "    \"\"\"Date le matrici mat1 e mat1 come lista di liste, con mat1 di dimensioni n x l e mat2 di dimensioni n x r, \n",
    "       MODIFICA mat1 così che diventi di dimensioni n x (l + r), attaccando la seconda mat alla sinistra di mat1\n",
    "           \n",
    "    \"\"\"\n",
    "    #jupman-raise    \n",
    "    for i in range(len(mat1)):\n",
    "        mat1[i][0:0] = mat2[i]\n",
    "    #/jupman-raise\n",
    "    \n",
    "\n",
    "m1 = [\n",
    "        ['a','b','c'],\n",
    "        ['d','b','a']\n",
    "     ]\n",
    "m2 = [\n",
    "        ['f','b'],\n",
    "        ['g','h']\n",
    "     ]\n",
    "\n",
    "res = [\n",
    "        ['f','b','a','b','c'],\n",
    "        ['g','h','d','b','a']\n",
    "     ]\n",
    "\n",
    "attacca_sx_mod(m1, m2) \n",
    "assert m1 == res\n"
   ]
  },
  {
   "cell_type": "markdown",
   "metadata": {},
   "source": [
    "### trasposta_1\n",
    "\n",
    "✪✪✪ Trasponi una matrice _sul posto_ (_in-place_). La trasposta $M^T$ di una matrice $M$ è definita come"
   ]
  },
  {
   "cell_type": "markdown",
   "metadata": {},
   "source": [
    "$M^T[i][j] = M[j][i]$"
   ]
  },
  {
   "cell_type": "markdown",
   "metadata": {},
   "source": [
    "La definizione è semplice eppure l'implementazione può essere insidiosa. Se non stai attento, potresti facilmente finire a scambiare valori due volte e riottenere la stessa matrice originale. Per evitare ciò, itera solo la parte triangolare superiore e ricordati che la funzione `range` può avere un indice di partenza:"
   ]
  },
  {
   "cell_type": "code",
   "execution_count": 41,
   "metadata": {},
   "outputs": [
    {
     "data": {
      "text/plain": [
       "[3, 4, 5, 6]"
      ]
     },
     "execution_count": 41,
     "metadata": {},
     "output_type": "execute_result"
    }
   ],
   "source": [
    "list(range(3,7))"
   ]
  },
  {
   "cell_type": "markdown",
   "metadata": {},
   "source": [
    "Inoltre, assicurati di sapere come scambiare solo due valori risolvendo questo semplice esercizio - controlla inoltre il risultato in Python Tutor.\n"
   ]
  },
  {
   "cell_type": "code",
   "execution_count": 42,
   "metadata": {},
   "outputs": [
    {
     "data": {
      "text/html": [
       "\n",
       "        <iframe\n",
       "            width=\"900\"\n",
       "            height=\"425\"\n",
       "            src=\"https://pythontutor.com/iframe-embed.html#py=3&curInstr=0&cumulative=false&code=x+%3D+3%0Ay+%3D+7%0A%0A%23+scrivi+qui+il+codice+per+scambiare+x+e+y+%28non+usare+direttamente+le+costanti+3+e+7%21%29%0A%0Ak+%3D+x+++%0Ax+%3D+y%0Ay+%3D+k%0A%0A\"\n",
       "            frameborder=\"0\"\n",
       "            allowfullscreen\n",
       "        ></iframe>\n",
       "        "
      ],
      "text/plain": [
       "<IPython.lib.display.IFrame at 0x7fc54c8d8080>"
      ]
     },
     "execution_count": 42,
     "metadata": {},
     "output_type": "execute_result"
    }
   ],
   "source": [
    "x = 3\n",
    "y = 7\n",
    "\n",
    "# scrivi qui il codice per scambiare x e y (non usare direttamente le costanti 3 e 7!)\n",
    "\n",
    "k = x   \n",
    "x = y\n",
    "y = k\n",
    "\n",
    "jupman.pytut()"
   ]
  },
  {
   "cell_type": "markdown",
   "metadata": {},
   "source": [
    "Tornando alla trasposta, per adesso consideriamo solo una matrice nxn. Per assicurarci che ci prendiamo in effetti una matrice nxn, valideremo l'input come fatto in precedenza\n"
   ]
  },
  {
   "cell_type": "markdown",
   "metadata": {},
   "source": [
    "<div class=\"alert alert-info\" >\n",
    "\n",
    "[COMANDAMENTO 4](https://softpython.readthedocs.io/it/latest/commandments.html#COMANDAMENTO-3)**(adattato per matrici): Non riassegnerai mai parametri di funzione**\n",
    "</div>\n",
    "\n",
    "```python\n",
    "\n",
    "    def myfun(M):\n",
    "\n",
    "        # M è un parametro, perciò *non* commetterai mai malvagità come:\n",
    "        \n",
    "        M = [ \n",
    "                [6661,6662],\n",
    "                [6663,6664 ]\n",
    "            ]  \n",
    "\n",
    "\n",
    "        # Per il solo caso di parametri composti come liste (o liste di liste...),\n",
    "        # puoi scrivere cose come questa SE E SOLO SE le specifiche della funzione\n",
    "        # ti richiedono di modificare gli elementi interni del parametro (es. trasopsta _in-place_)\n",
    "\n",
    "        M[0][1] =  6663\n",
    "```\n"
   ]
  },
  {
   "cell_type": "markdown",
   "metadata": {},
   "source": [
    "Se hai letto _tutto_ quanto sopra, adesso puoi procedere implementando la funzione `trasposta_1`"
   ]
  },
  {
   "cell_type": "code",
   "execution_count": 43,
   "metadata": {},
   "outputs": [],
   "source": [
    "def trasposta_1(mat):\n",
    "    \"\"\" MODIFICA la matrice nxn data mat, facendo la trasposta *in-place*\n",
    "        \n",
    "        - Se la matrice non è nxn, lancia l'eccezione ValueError\n",
    "    \"\"\"\n",
    "    #jupman-raise\n",
    "    if len(mat) != len(mat[0]):\n",
    "        raise ValueError(\"La matrice dovrebbe essere nxn, trovato invece %s x %s\" % (len(mat), len(mat[0])))\n",
    "    for i in range(len(mat)):\n",
    "        for j in range(i+1,len(mat[i])):\n",
    "            el = m[i][j]\n",
    "            mat[i][j] = m[j][i]\n",
    "            mat[j][i] = el\n",
    "    #/jupman-raise\n",
    "         \n",
    "        \n",
    "# Sistemiamo le dimensioni sbagliate della matrice: \n",
    "\n",
    "try: \n",
    "    trasposta_1([\n",
    "                [3,5]\n",
    "              ])\n",
    "    raise Exception(\"AVREI DOVUTO FALLIRE !\")\n",
    "except ValueError:\n",
    "    pass\n",
    "            \n",
    "m = [\n",
    "        ['a']\n",
    "    ]\n",
    "\n",
    "trasposta_1(m)\n",
    "assert m == [\n",
    "    ['a']\n",
    "]\n",
    "\n",
    "m = [\n",
    "        ['a','b'],\n",
    "        ['c','d']\n",
    "    ]\n",
    "\n",
    "trasposta_1(m)\n",
    "assert m == [\n",
    "                ['a','c'],\n",
    "                ['b','d']\n",
    "            ]\n"
   ]
  },
  {
   "cell_type": "markdown",
   "metadata": {},
   "source": [
    "### transpose_2\n",
    "\n",
    "✪✪ Adesso proviamo a trasporre una matrice generica nxm. Questa volta per semplicità ritorneremo una intera nuova matrice.\n"
   ]
  },
  {
   "cell_type": "code",
   "execution_count": 44,
   "metadata": {},
   "outputs": [],
   "source": [
    "def trasposta_2(mat):\n",
    "    \"\"\" RITORNA una NUOVA matrice mxn che è la trasposta della matrice nxm data come lista di liste:\n",
    "    \"\"\"\n",
    "    #jupman-raise\n",
    "    n = len(mat)\n",
    "    m = len(mat[0])\n",
    "    ret = [[0]*n for i in range(m)]\n",
    "    for i in range(n):\n",
    "        for j in range(m):\n",
    "            ret[j][i] = mat[i][j]\n",
    "    return ret\n",
    "    #/jupman-raise\n",
    "\n",
    "m = [\n",
    "        ['a']\n",
    "    ]\n",
    "\n",
    "t = trasposta_2(m)\n",
    "\n",
    "assert  t == [\n",
    "                            ['a']\n",
    "                         ]\n",
    "t[0][0] = 'z'\n",
    "assert m[0][0] == 'a'\n",
    "\n",
    "m = [\n",
    "        ['a','b','c'],\n",
    "        ['d','e','f']\n",
    "    ]\n",
    "\n",
    "assert trasposta_2(m) == [\n",
    "                ['a','d'],\n",
    "                ['b','e'],\n",
    "                ['c','f'],    \n",
    "            ]\n"
   ]
  },
  {
   "cell_type": "markdown",
   "metadata": {},
   "source": [
    "### moltiplicazione di matrici\n",
    "\n",
    "✪✪✪ Guarda la [definizione di moltiplicazione di matrici](https://en.wikipedia.org/w/index.php?title=Matrix_multiplication&section=2#Definition) su Wikipedia e prova ad implementarla nella funzione seguente.\n",
    "\n",
    "In sostanza, data una matrice nxm A e una matrice mxp B devi ritornare come output una matrice nxp C calcolando le celle $c_{ij}$ con la formula\n",
    "\n",
    "$c_{ij} = a_{i1}b_{1j} +\\cdots + a_{im}b_{mj}= \\sum_{k=1}^m a_{ik}b_{kj}$\n",
    "\n",
    "Devi riempire tutte le nxp celle   di C, perciò per assicurarti di riempire un rettangolo hai bisogno di due `for`. Hai forse bisogno di un'altro `for`? Aiutati con il diagramma seguente.\n",
    " \n"
   ]
  },
  {
   "cell_type": "markdown",
   "metadata": {},
   "source": [
    "![](img/mul.png)\n"
   ]
  },
  {
   "cell_type": "code",
   "execution_count": 45,
   "metadata": {},
   "outputs": [],
   "source": [
    "def mul(mat1, mat2):\n",
    "    \"\"\" Date le matrici n x m mat1 e m x p mat2, RITORNA una NUOVA matrice n x p che è\n",
    "        il risultato della moltiplicazione di mat1 per mat2. Se mat1 ha il numero di colonna diverso dal\n",
    "        numero di righe di mat2, lancia un ValueError.\n",
    "    \"\"\"\n",
    "    #jupman-raise\n",
    "    n = len(mat1)\n",
    "    m = len(mat1[0])\n",
    "    p = len(mat2[0])\n",
    "    if m != len(mat2):\n",
    "        raise ValueError(\"il numero di colonne di mat1 %s deve essere uguale al numero di righe di mat2 %s !\" % (m, len(mat2)))\n",
    "    ret = [[0]*p for i in range(n)]\n",
    "    for i in range(n):\n",
    "        for j in range(p):\n",
    "            ret[i][j] = 0\n",
    "            for k in range(m):\n",
    "                ret[i][j] += mat1[i][k] * mat2[k][j]\n",
    "    return ret\n",
    "    #/jupman-raise\n",
    "\n",
    "# let's try wrong matrix dimensions: \n",
    "\n",
    "try: \n",
    "    mul([[3,5]], [[7]])\n",
    "    raise Exception(\"AVREI DOVUTO FALLIRE !\")\n",
    "except ValueError:\n",
    "    pass\n",
    "\n",
    "m1 = [\n",
    "        [3]\n",
    "     ]\n",
    "\n",
    "m2 = [\n",
    "        [5]\n",
    "]\n",
    "\n",
    "\n",
    "res = mul(m1,m2)\n",
    "\n",
    "assert res == [\n",
    "                [15]\n",
    "              ]\n",
    "\n",
    "\n",
    "\n",
    "\n",
    "m1 = [\n",
    "        [3],\n",
    "        [5]\n",
    "     ]\n",
    "\n",
    "m2 = [\n",
    "        [2,6]\n",
    "]\n",
    "\n",
    "\n",
    "res = mul(m1,m2)\n",
    "\n",
    "assert res == [\n",
    "                [3*2, 3*6],\n",
    "                [5*2, 5*6]\n",
    "              ]\n",
    "\n",
    "m1 = [\n",
    "        [3,5]\n",
    "     ]\n",
    "\n",
    "m2 = [\n",
    "        [2],\n",
    "        [6]\n",
    "]\n",
    "\n",
    "\n",
    "res = mul(m1,m2)\n",
    "\n",
    "assert res == [\n",
    "                [3*2 + 5*6]\n",
    "              ]\n",
    "\n",
    "m1 = [\n",
    "        [3,5],\n",
    "        [7,1],\n",
    "        [9,4]\n",
    "     ]\n",
    "\n",
    "m2 = [\n",
    "        [4,1,5,7],\n",
    "        [8,5,2,7]\n",
    "]\n",
    "res = mul(m1,m2)\n",
    "\n",
    "assert res == [\n",
    "                [52, 28, 25, 56],\n",
    "                [36, 12, 37, 56],\n",
    "                [68, 29, 53, 91]\n",
    "              ]\n",
    "\n"
   ]
  },
  {
   "cell_type": "markdown",
   "metadata": {},
   "source": [
    "### check_nqueen\n",
    "\n",
    "✪✪✪✪ Questo è un problema difficile ma non ti preoccupare, il resto del corso è ben più semplice !\n",
    "\n",
    "\n",
    "Hai una matrice nxn di booleani che rappresenta una scacchiera dove il valore True significa che c'è una regina nella cella, e False significa cella vuota.\n",
    "\n",
    "Ai fini della visualizzazione, possiamo rappresentare una configurazione usando `.` per significare `False` e lettere come `A` e `B` per indicare che c'è una regina in una cella. Contrariamente a quanto abbiamo fatto sino ad adesso, per convenienza mostriamo la matrice con le `j` che vanno dal basso fino alla sommità.\n",
    "\n",
    "Vediamo un esempio. In questo caso A e B non possono attaccare ciascun'altro, perciò l'algoritmo ritorna `True`:\n",
    "\n",
    "\n",
    "```\n",
    "\n",
    "    7  ......B.\n",
    "    6  ........\n",
    "    5  ........\n",
    "    4  ........\n",
    "    3  ....A...\n",
    "    2  ........\n",
    "    1  ........\n",
    "    0  ........\n",
    "    i \n",
    "     j 01234567  \n",
    "\n",
    "\n",
    "Vediamo perchè evidenziando le linee di attacco di A ..\n",
    "\n",
    "    7  \\...|.B.\n",
    "    6  .\\..|../\n",
    "    5  ..\\.|./.\n",
    "    4  ...\\|/..\n",
    "    3  ----A---\n",
    "    2  .../|\\..\n",
    "    1  ../.|.\\.\n",
    "    0  ./..|..\\\n",
    "    i \n",
    "     j 01234567  \n",
    "\n",
    "\n",
    "... e quelle di B : \n",
    "\n",
    "    7  ------B-\n",
    "    6  ...../|\\\n",
    "    5  ..../.|.\n",
    "    4  .../..|.\n",
    "    3  ../.A.|.\n",
    "    2  ./....|.\n",
    "    1  /.....|.\n",
    "    0  ......|.\n",
    "    i \n",
    "     j 01234567  \n",
    "\n",
    "\n",
    "```\n",
    "\n",
    "\n",
    "In quest'altro caso l'algoritmo ritornerebbe `False` perchè `A` e `B` possono attaccare ciascun altro:\n",
    "\n",
    "```\n",
    "    \n",
    "    \n",
    "    7  \\./.|...\n",
    "    6  -B--|--/\n",
    "    5  /|\\.|./.\n",
    "    4  .|.\\|/..\n",
    "    3  ----A---\n",
    "    2  .|./|\\..\n",
    "    1  .|/.|.\\.\n",
    "    0  ./..|..\\\n",
    "    i \n",
    "     j 01234567  \n",
    "\n",
    "```\n",
    "\n",
    "Nel tuo algoritmo, prima devi cercare le regine. Quando ne trovi una (e per ciascuna di esse !), devi controllare se può essere colpita da un'altra regina. Vediamo come:\n",
    "\n",
    "In questa tabella 7x7 abbiamo solo una regina A, alla posizione `i=1` e `j=4`:\n",
    "\n",
    "\n",
    "```\n",
    "    6  ....|..\n",
    "    5  \\...|..\n",
    "    4  .\\..|..\n",
    "    3  ..\\.|./\n",
    "    2  ...\\|/.\n",
    "    1  ----A--\n",
    "    0  .../|\\.\n",
    "    i  \n",
    "     j 0123456\n",
    "```\n",
    "\n",
    "Per comprendere completamente il range della regina e come calcolare le diagonali, è conveniente estendere visualmente la tabella così da avere le diagonali che intersichino gli assi. Nota inoltre che abbiamo aggiunto le lettere `y` e `x` \n",
    "\n",
    "\n",
    "<div class=\"alert alert-warning\">\n",
    "\n",
    "**NOTA**: nell'algoritmo **non hai** bisogno di estendere la matrice !\n",
    "in the algorithm you **do not** need to extend the matrix !\n",
    "</div>\n",
    "\n",
    "\n",
    "```\n",
    "\n",
    "    y\n",
    "    6  ....|....\n",
    "    5  \\...|.../\n",
    "    4  .\\..|../.\n",
    "    3  ..\\.|./..\n",
    "    2  ...\\|/...\n",
    "    1  ----A----\n",
    "    0  .../|\\...\n",
    "   -1  ../.|.\\..\n",
    "   -2  ./..|..\\.\n",
    "   -3  /...|...\\\n",
    "    i \n",
    "     j 01234567 x \n",
    "\n",
    "\n",
    "```\n",
    "\n",
    "Vediamo che la diagonale da sinistra in alto a in basso a destra interseca l'asse verticale a `y = 5` e che la diagonale da in basso a sinistra a in alto a destra interseca l'asse a `y = -3`. Dovresti usare queste informazioni per calcolare le equazioni di linea. \n",
    "\n",
    "Adessi dovresti avere tutti i suggerimenti necessari per procedere con l'implementazione."
   ]
  },
  {
   "cell_type": "code",
   "execution_count": 46,
   "metadata": {},
   "outputs": [],
   "source": [
    "\n",
    "def check_nqueen(mat):\n",
    "    \"\"\" Prende una matrice nxn di booleani che rappresentano una scacchiera dove True sinifica che \n",
    "        c'è una regina nella cella, e False che non c'è niente. \n",
    "        \n",
    "        RITORNA True se nessuna regina può attaccare le altre, False altrimenti.\n",
    "    \n",
    "        \n",
    "    \"\"\"\n",
    "    #jupman-raise\n",
    "\n",
    "    # equazione linea dal basso sinistra fino ad alto destra \n",
    "    # y = x - 3 \n",
    "    # -3 = -j + i \n",
    "    # y = x -j + i\n",
    "\n",
    "    # equazione linea dall'alto sinistra al basso destra\n",
    "    # y = x + 5\n",
    "    # 5 = j + i\n",
    "    # y = x + j + i \n",
    "    \n",
    "    n = len(mat)\n",
    "    for i in range(n):\n",
    "        for j in range(n):\n",
    "            if mat[i][j]:  # queen is found at i,j\n",
    "                for y in range(n):            # vertical scan\n",
    "                    if y != i and mat[y][j]:\n",
    "                        return False\n",
    "                for x in range(n):            # horizontal scan\n",
    "                    if x != j and mat[i][x]:\n",
    "                        return False\n",
    "                for x in range(n):            \n",
    "                    y = x + j + i       # top-left to bottom-right \n",
    "                    if y >= 0 and y < n and y != i and x != j and mat[y][x]:\n",
    "                        return False\n",
    "                    y = x - j + i       # bottom-left to top-right\n",
    "                    if y >= 0 and y < n and y != i and x != j and mat[y][x]:\n",
    "                        return False\n",
    "                    \n",
    "    return True\n",
    "    #/jupman-raise\n",
    "\n",
    "assert check_nqueen([\n",
    "                        [True]\n",
    "                    ])\n",
    "assert check_nqueen([\n",
    "                        [True, True],\n",
    "                        [False, False]\n",
    "                    ]) == False\n",
    "\n",
    "assert check_nqueen([\n",
    "                        [True, False],\n",
    "                        [False, True]\n",
    "                    ]) == False\n",
    "\n",
    "assert check_nqueen([\n",
    "                        [True, False],\n",
    "                        [True, False]\n",
    "                    ]) == False\n",
    "\n",
    "assert check_nqueen([\n",
    "                        [True,  False, False],\n",
    "                        [False, False, True],\n",
    "                        [False, False, False]\n",
    "                    ]) == True\n",
    "\n",
    "assert check_nqueen([\n",
    "                        [True,  False, False],\n",
    "                        [False, False, False],\n",
    "                        [False, False, True]\n",
    "                    ]) == False\n",
    "\n",
    "\n",
    "assert check_nqueen([\n",
    "                        [False, True,  False],\n",
    "                        [False, False, False],\n",
    "                        [False, False, True]\n",
    "                    ]) == True\n",
    "\n",
    "assert check_nqueen([\n",
    "                        [False, True,  False],\n",
    "                        [False, True, False],\n",
    "                        [False, False, True]\n",
    "                    ]) == False"
   ]
  },
  {
   "cell_type": "markdown",
   "metadata": {},
   "source": [
    "## Numpy\n",
    "\n",
    "L'obiettivo è usare i tipi di dati e comandi essenziali della libreria numpy, ma non ci addentreremo nei dettagli.\n",
    "\n",
    "Per riferimenti, vedere \n",
    "\n",
    "- [i tutorial Nicola Zoppetti, parte Numpy](http://www.ifac.cnr.it/~zoppetti/corsopython/)\n",
    "- [Python Data Science Handbook, parte Numpy (inglese)](https://jakevdp.github.io/PythonDataScienceHandbook/02.00-introduction-to-numpy.html)"
   ]
  },
  {
   "cell_type": "code",
   "execution_count": 47,
   "metadata": {},
   "outputs": [],
   "source": [
    "# Innanzitutto importiamo la libreria, e per comodità la rinominiamo in 'np'\n",
    "\n",
    "import numpy as np\n",
    "\n"
   ]
  },
  {
   "cell_type": "code",
   "execution_count": 48,
   "metadata": {},
   "outputs": [
    {
     "ename": "SyntaxError",
     "evalue": "invalid syntax (<ipython-input-48-3ba2d1a245e4>, line 1)",
     "output_type": "error",
     "traceback": [
      "\u001b[0;36m  File \u001b[0;32m\"<ipython-input-48-3ba2d1a245e4>\"\u001b[0;36m, line \u001b[0;32m1\u001b[0m\n\u001b[0;31m    Creiamo un ndarray riempito di zeri:\u001b[0m\n\u001b[0m             ^\u001b[0m\n\u001b[0;31mSyntaxError\u001b[0m\u001b[0;31m:\u001b[0m invalid syntax\n"
     ]
    }
   ],
   "source": [
    "Creiamo un ndarray riempito di zeri:"
   ]
  },
  {
   "cell_type": "code",
   "execution_count": null,
   "metadata": {},
   "outputs": [],
   "source": [
    "mat = np.zeros( (2,3)  )   # 2 righe, 3 colonne"
   ]
  },
  {
   "cell_type": "code",
   "execution_count": null,
   "metadata": {},
   "outputs": [],
   "source": [
    "mat"
   ]
  },
  {
   "cell_type": "markdown",
   "metadata": {},
   "source": [
    "Nota come all'interno di `array( )` il contenuto sembra che venga rappresentato come una lista di liste, MA in realtà nelle memoria fisica i dati sono strutturati in una sequenza lineare che permette a Python di accedere ai numeri in modo molto più rapido."
   ]
  },
  {
   "cell_type": "markdown",
   "metadata": {},
   "source": [
    "Per accedere ai dati o sovrascriverli si utilizza la notazione con le quadre, con l'importante differenza che in numpy è consentito scrivere _entrambi_ gli indici _dentro_ le stesse quadre, separati da una virgola:\n",
    "\n",
    "<div class=\"alert, alert-warning\">\n",
    "\n",
    "**ATTENZIONE**: questa notazione `[0,1]` con le liste di liste **non** funziona.\n",
    "<div>"
   ]
  },
  {
   "cell_type": "code",
   "execution_count": null,
   "metadata": {},
   "outputs": [],
   "source": [
    "mat[0,1] = 9"
   ]
  },
  {
   "cell_type": "code",
   "execution_count": null,
   "metadata": {},
   "outputs": [],
   "source": [
    "mat"
   ]
  },
  {
   "cell_type": "code",
   "execution_count": null,
   "metadata": {},
   "outputs": [],
   "source": [
    "mat[0,1]"
   ]
  },
  {
   "cell_type": "code",
   "execution_count": null,
   "metadata": {},
   "outputs": [],
   "source": [
    "mat[1,2] = 7"
   ]
  },
  {
   "cell_type": "code",
   "execution_count": null,
   "metadata": {},
   "outputs": [],
   "source": [
    "mat"
   ]
  },
  {
   "cell_type": "code",
   "execution_count": null,
   "metadata": {},
   "outputs": [],
   "source": [
    "# dimensioni\n",
    "mat.shape"
   ]
  },
  {
   "cell_type": "code",
   "execution_count": null,
   "metadata": {},
   "outputs": [],
   "source": [
    "# notare la virgola tra num_righe e num_colonne:\n",
    "\n",
    "num_righe, num_colonne = mat.shape"
   ]
  },
  {
   "cell_type": "code",
   "execution_count": null,
   "metadata": {},
   "outputs": [],
   "source": [
    "num_righe"
   ]
  },
  {
   "cell_type": "code",
   "execution_count": null,
   "metadata": {},
   "outputs": [],
   "source": [
    "num_colonne"
   ]
  },
  {
   "cell_type": "markdown",
   "metadata": {},
   "source": [
    "**DA FARE**: prova a scrivere così: che succede? \n",
    "\n",
    "```python\n",
    "mat[0,0] = \"c\"\n",
    "```"
   ]
  },
  {
   "cell_type": "code",
   "execution_count": null,
   "metadata": {},
   "outputs": [],
   "source": []
  },
  {
   "cell_type": "code",
   "execution_count": null,
   "metadata": {},
   "outputs": [],
   "source": [
    "# Possiamo anche crearci un ndarray a partire da una lista di liste:\n",
    "\n",
    "mat = np.array( [ [5.0,8.0,1.0], \n",
    "                  [4.0,3.0,2.0]])"
   ]
  },
  {
   "cell_type": "code",
   "execution_count": null,
   "metadata": {},
   "outputs": [],
   "source": [
    "mat"
   ]
  },
  {
   "cell_type": "code",
   "execution_count": null,
   "metadata": {},
   "outputs": [],
   "source": [
    "type(mat)"
   ]
  },
  {
   "cell_type": "code",
   "execution_count": null,
   "metadata": {},
   "outputs": [],
   "source": [
    "mat[1,1]"
   ]
  },
  {
   "cell_type": "markdown",
   "metadata": {},
   "source": [
    "**DA FARE**: Prova a scrivere così e vedere che succede:\n",
    "    \n",
    "```python\n",
    "mat[1,1.0]\n",
    "```"
   ]
  },
  {
   "cell_type": "code",
   "execution_count": null,
   "metadata": {},
   "outputs": [],
   "source": [
    "PRova adesso a implementare queste funzioni"
   ]
  },
  {
   "cell_type": "markdown",
   "metadata": {},
   "source": [
    "### quadro\n",
    "\n",
    "Restituisce una NUOVA matrice ndarray di n righe e n colonne, in cui tutti \n",
    "i valori sono a zero eccetto quelli sui bordi, che devono essere uguali a k\n",
    "       \n",
    "\n",
    "Per esempio, `quadro(4, 7.0)` deve dare:\n",
    "\n",
    "```python\n",
    "    array([[7.0, 7.0, 7.0, 7.0],\n",
    "           [7.0, 0.0, 0.0, 7.0],\n",
    "           [7.0, 0.0, 0.0, 7.0],\n",
    "           [7.0, 7.0, 7.0, 7.0]])\n",
    "```"
   ]
  },
  {
   "cell_type": "code",
   "execution_count": null,
   "metadata": {},
   "outputs": [],
   "source": [
    "def quadro(n, k):\n",
    "    \"\"\"Restituisce una NUOVA matrice ndarray di n righe e n colonne, in cui tutti  i valori sono a zero\n",
    "       eccetto quelli sui bordi, che devono essere uguali a k\n",
    "    \"\"\"\n",
    "    #jupman-raise\n",
    "    mat = np.zeros( (n,n)  )\n",
    "    for i in range(n):\n",
    "        mat[0, i] = k\n",
    "        mat[i, 0] = k\n",
    "        mat[i, n-1] = k\n",
    "        mat[n-1, i] = k\n",
    "    return mat\n",
    "    #/jupman-raise\n",
    "    \n",
    "\n",
    "\n",
    "mat_attesa = np.array( [[7.0, 7.0, 7.0, 7.0],\n",
    "                        [7.0, 0.0, 0.0, 7.0],\n",
    "                        [7.0, 0.0, 0.0, 7.0],\n",
    "                        [7.0, 7.0, 7., 7.0]])\n",
    "# all_close ritorna True se tutti i valori nella prima matrice sono abbastanza vicini \n",
    "# (cioè entro una certa tolleranza) ai corrispondenti nella seconda \n",
    "assert np.allclose(quadro(4, 7.0), mat_attesa) \n",
    "\n",
    "mat_attesa = np.array( [ [7.0]\n",
    "                       ])\n",
    "assert np.allclose(quadro(1, 7.0), mat_attesa) \n",
    "\n",
    "mat_attesa = np.array( [ [7.0, 7.0],\n",
    "                         [7.0, 7.0]\n",
    "                       ])\n",
    "assert np.allclose(quadro(2, 7.0), mat_attesa) "
   ]
  },
  {
   "cell_type": "markdown",
   "metadata": {},
   "source": [
    "### scacchiera\n",
    "\n",
    "Restituisce una NUOVA matrice ndarray di n righe e ncolonne, in cui le celle si alternano tra zero e uno.\n",
    "\n",
    "Per esempio, `scacchiera(4)` deve dare:\n",
    "   \n",
    " \n",
    "```python\n",
    "    array([[1.0, 0.0, 1.0, 0.0],\n",
    "           [0.0, 1.0, 0.0, 1.0],\n",
    "           [1.0, 0.0, 1.0, 0.0],\n",
    "           [0.0, 1.0, 0.0, 1.0]])\n",
    "```python\n",
    "\n",
    "Ingredienti:\n",
    "- per alternare, potete usare la range nella forma in cui prende 3 parametri,\n",
    "  per esempio range(0,n,2) parte da 0, arriva fino a n escluso e salta di due in due, generando 0,2,4,6,8, ... \n",
    "- invece range(1,n,2) genererebbe 1,3,5,7, ...\n"
   ]
  },
  {
   "cell_type": "code",
   "execution_count": null,
   "metadata": {},
   "outputs": [],
   "source": [
    "def scacchiera(n):\n",
    "    \"\"\" Restituisce una NUOVA matrice ndarray di n righe e ncolonne, in cui le celle si alternano tra zero e uno \n",
    "    \"\"\"\n",
    "  \n",
    "    #jupman-raise\n",
    "    mat = np.zeros( (n,n)  )\n",
    "    \n",
    "    for i in range(0,n, 2):\n",
    "        for j in range(0,n, 2):\n",
    "            mat[i, j] = 1\n",
    "\n",
    "    for i in range(1,n, 2):\n",
    "        for j in range(1,n, 2):\n",
    "            mat[i, j] = 1\n",
    "            \n",
    "    return mat\n",
    "    #/jupman-raise\n",
    "\n",
    "mat_attesa = np.array([[1.0, 0.0, 1.0, 0.0],\n",
    "                       [0.0, 1.0, 0.0, 1.0],\n",
    "                       [1.0, 0.0, 1.0, 0.0],\n",
    "                       [0.0, 1.0, 0.0, 1.0]])\n",
    "\n",
    "# all_close ritorna True se tutti i valori nella prima matrice sono abbastanza vicini \n",
    "# (cioè entro una certa tolleranza) ai corrispondenti nella seconda \n",
    "assert np.allclose(scacchiera(4), mat_attesa) \n",
    "\n",
    "mat_attesa = np.array( [ [1.0]\n",
    "                       ])\n",
    "assert np.allclose(scacchiera(1), mat_attesa) \n",
    "\n",
    "mat_attesa = np.array( [ [1.0, 0.0],\n",
    "                         [0.0, 1.0]\n",
    "                       ])\n",
    "assert np.allclose(scacchiera(2), mat_attesa) "
   ]
  },
  {
   "cell_type": "markdown",
   "metadata": {},
   "source": [
    "### somma_alterna\n",
    "\n",
    "MODIFICA la matrice in input (n x n), sommando a tutte le righe dispari le righe pari. Per esempio:\n",
    "\n",
    "```python\n",
    "    m = [[1.0, 3.0, 2.0, 5.0],\n",
    "         [2.0, 8.0, 5.0, 9.0],\n",
    "         [6.0, 9.0, 7.0, 2.0],\n",
    "         [4.0, 7.0, 2.0, 4.0]]\n",
    "    somma_alterna(m)\n",
    "```    \n",
    "\n",
    "adesso `m` dovrebbe essere :\n",
    "\n",
    "```python\n",
    "    m = [[1.0, 3.0, 2.0, 5.0],\n",
    "         [3.0, 11.0,7.0, 14.0],\n",
    "         [6.0, 9.0, 7.0, 2.0],\n",
    "         [10.0,16.0,9.0, 6.0]]\n",
    "```    \n",
    "\n",
    "Ingredienti:\n",
    "\n",
    "- per alternare, potete usare la range nella forma in cui prende 3 parametri,\n",
    "  per esempio range(0,n,2) parte da 0, arriva fino a n escluso e salta di due in due, \n",
    "  generando 0,2,4,6,8, ... \n",
    "- invece range(1,n,2) genererebbe 1,3,5,7, ...    \n",
    "        \n"
   ]
  },
  {
   "cell_type": "code",
   "execution_count": null,
   "metadata": {},
   "outputs": [],
   "source": [
    "def somma_alterna(mat):\n",
    "    \"\"\" MODIFICA la matrice in input (n x n), sommando a tutte le righe dispari le righe pari.\n",
    "    \"\"\"  \n",
    "    #jupman-raise\n",
    "    nrows, ncols = mat.shape \n",
    "    for i in range(1,nrows, 2):\n",
    "        for j in range(0,ncols):\n",
    "            mat[i, j] = mat[i,j] + mat[i-1, j] \n",
    "    #/jupman-raise\n",
    "  \n",
    "  \n",
    "mat_orig = np.array( [ [1.0, 3.0, 2.0, 5.0],\n",
    "                            [2.0, 8.0, 5.0, 9.0],\n",
    "                            [6.0, 9.0, 7.0, 2.0],\n",
    "                            [4.0, 7.0, 2.0, 4.0]]) \n",
    "\n",
    "mat_attesa = np.array(    [ [1.0, 3.0, 2.0, 5.0],\n",
    "                            [3.0, 11.0,7.0, 14.0],\n",
    "                            [6.0, 9.0, 7.0, 2.0],\n",
    "                            [10.0,16.0,9.0, 6.0]])\n",
    "\n",
    "somma_alterna(mat_orig)\n",
    "assert np.allclose(mat_orig, mat_attesa) \n",
    "\n",
    "\n",
    "\n",
    "mat_orig = np.array( [ [5.0]\n",
    "                     ])\n",
    "mat_attesa = np.array( [ [5.0]\n",
    "                       ])\n",
    "somma_alterna(mat_orig)                  \n",
    "assert np.allclose(mat_orig, mat_attesa) \n",
    "\n",
    "\n",
    "mat_orig = np.array( [ [6.0, 1.0],\n",
    "                       [3.0, 2.0]\n",
    "                       ])                    \n",
    "mat_attesa = np.array( [ [6.0, 1.0],\n",
    "                         [9.0, 3.0]\n",
    "                       ])\n",
    "somma_alterna(mat_orig)                    \n",
    "assert np.allclose(mat_orig, mat_attesa) "
   ]
  },
  {
   "cell_type": "markdown",
   "metadata": {},
   "source": [
    "### media_righe\n",
    "\n",
    "Prende una matrice n x m  e RITORNA una NUOVA matrice di una sola colonna in cui i valori sono la media dei valori nelle corrispondenti righe della matrice in input\n",
    "\n",
    "Esempio:\n",
    "\n",
    "Input: matrice 5x4\n",
    "\n",
    "```\n",
    "3 2 1 4\n",
    "6 2 3 5\n",
    "4 3 6 2\n",
    "4 6 5 4\n",
    "7 2 9 3\n",
    "```\n",
    "\n",
    "Output: matrice 5x1\n",
    "\n",
    "```\n",
    "(3+2+1+4)/4 \n",
    "(6+2+3+5)/4\n",
    "(4+3+6+2)/4\n",
    "(4+6+5+4)/4\n",
    "(7+2+9+3)/4\n",
    "```"
   ]
  },
  {
   "cell_type": "code",
   "execution_count": null,
   "metadata": {},
   "outputs": [],
   "source": [
    "def media_righe(mat):\n",
    "    \"\"\" Prende una matrice n x m  e RITORNA una NUOVA matrice di una sola colonna in cui i valori\n",
    "        sono la media dei valori nelle corrispondenti righe della matrice in input\n",
    "    \"\"\"\n",
    "    #jupman-raise\n",
    "    righe, colonne = mat.shape\n",
    "\n",
    "    ret = np.zeros( (righe,1)  )\n",
    "\n",
    "    for i in range(righe):\n",
    "\n",
    "        for j in range(colonne):\n",
    "            ret[i] += mat[i,j] \n",
    "\n",
    "        ret[i] = ret[i] / colonne\n",
    "        # per brevità potremmo anche scrivere\n",
    "        # ret[i] /= colonne      \n",
    "    #/jupman-raise\n",
    "    return ret\n",
    "  \n",
    "  \n",
    "    \n",
    "m = np.array([\n",
    "              [5.0]\n",
    "            ])\n",
    "\n",
    "mat_attesa = np.array([\n",
    "                        [5.0]\n",
    "                      ])\n",
    "\n",
    "assert np.allclose(media_righe(m), mat_attesa)\n",
    "\n",
    "\n",
    "m = np.array([\n",
    "               [5.0, 3.0]\n",
    "             ])\n",
    "                   \n",
    "mat_attesa = np.array([\n",
    "                        [4.0]\n",
    "                      ])                   \n",
    "                   \n",
    "assert np.allclose(media_righe(m), mat_attesa)\n",
    "\n",
    "\n",
    "m = np.array(\n",
    "    [[3,2,1,4],\n",
    "     [6,2,3,5],\n",
    "     [4,3,6,2],\n",
    "     [4,6,5,4],\n",
    "     [7,2,9,3]])\n",
    "\n",
    "\n",
    "mat_attesa = np.array([ [(3+2+1+4)/4],\n",
    "                        [(6+2+3+5)/4],\n",
    "                        [(4+3+6+2)/4],\n",
    "                        [(4+6+5+4)/4],\n",
    "                        [(7+2+9+3)/4] ])\n",
    "\n",
    "assert np.allclose(media_righe(m), mat_attesa)"
   ]
  },
  {
   "cell_type": "markdown",
   "metadata": {},
   "source": [
    "### media_meta"
   ]
  },
  {
   "cell_type": "code",
   "execution_count": null,
   "metadata": {},
   "outputs": [],
   "source": [
    "def media_meta(mat):\n",
    "    \"\"\" Prende in input una matrice con un numero pari di colonne, e RITORNA in output una matrice ndarray 1x2,\n",
    "    il primo elemento sarà la media della metà sinistra della matrice, il secondo elemento sarà la media\n",
    "    della metà destra\n",
    "\n",
    "    Ingredienti:\n",
    "    - per ottenere il numero di colonne diviso 2 come numero intero, usare l'operatore //\n",
    "\n",
    "    \"\"\"\n",
    "    #jupman-raise\n",
    "    righe, colonne = mat.shape\n",
    "    meta_colonne = colonne // 2\n",
    "    \n",
    "    media_sx = 0.0\n",
    "    media_dx = 0.0\n",
    "    \n",
    "    # scrivi qui\n",
    "    for i in range(righe):\n",
    "        for j in range(meta_colonne):\n",
    "            media_sx += mat[i,j]\n",
    "        for j in range(meta_colonne, colonne):\n",
    "            media_dx += mat[i,j]\n",
    "            \n",
    "    mezzi_elementi = righe * meta_colonne\n",
    "    media_sx /=  mezzi_elementi\n",
    "    media_dx /= mezzi_elementi\n",
    "    return np.array([media_sx, media_dx])\n",
    "    #/jupman-raise\n",
    "\n",
    "# INIZIO TEST\n",
    "\n",
    "m = np.array([[3,2,1,4],\n",
    "              [6,2,3,5],\n",
    "              [4,3,6,2],\n",
    "              [4,6,5,4],\n",
    "              [7,2,9,3]])\n",
    "\n",
    "mat_attesa = np.array([(3+2+6+2+4+3+4+6+7+2)/10, (1+4+3+5+6+2+5+4+9+3)/10  ])\n",
    "\n",
    "assert np.allclose( media_meta(m), mat_attesa)\n",
    "# FINE TEST"
   ]
  },
  {
   "cell_type": "markdown",
   "metadata": {},
   "source": [
    "### matxarr\n"
   ]
  },
  {
   "cell_type": "code",
   "execution_count": null,
   "metadata": {},
   "outputs": [],
   "source": [
    "\"\"\"\n",
    "Prende una matrice n x m e un array di m elementi, e RITORNA una NUOVA matrice in cui \n",
    "i valori di ogni colonna della matrice di input sono moltiplicati per il corrispondente \n",
    "valore dell'array di n elementi.\n",
    "\"\"\"\n",
    "def matxarr(mat, arr):\n",
    "    #jupman-raise\n",
    "    ret = np.zeros( mat.shape )\n",
    "    \n",
    "    \n",
    "    for i in range(mat.shape[0]):\n",
    "        for j in range(mat.shape[1]):\n",
    "            ret[i,j] = mat[i,j] * arr[j]            \n",
    "    \n",
    "    return ret\n",
    "    #/jupman-raise\n",
    "    \n",
    "m = np.array([ [3,2,1],\n",
    "               [6,2,3],\n",
    "               [4,3,6],\n",
    "               [4,6,5]])    \n",
    "\n",
    "a = [5, 2, 6]\n",
    "\n",
    "mat_attesa = [ [3*5, 2*2, 1*6],\n",
    "               [6*5, 2*2, 3*6],\n",
    "               [4*5, 3*2, 6*6],\n",
    "               [4*5, 6*2, 5*6]]\n",
    "\n",
    "assert np.allclose(matxarr(m,a), mat_attesa)\n",
    "  \n",
    "  "
   ]
  },
  {
   "cell_type": "code",
   "execution_count": null,
   "metadata": {},
   "outputs": [],
   "source": []
  }
 ],
 "metadata": {
  "celltoolbar": "Edit Metadata",
  "kernelspec": {
   "display_name": "Python 3",
   "language": "python",
   "name": "python3"
  },
  "language_info": {
   "codemirror_mode": {
    "name": "ipython",
    "version": 3
   },
   "file_extension": ".py",
   "mimetype": "text/x-python",
   "name": "python",
   "nbconvert_exporter": "python",
   "pygments_lexer": "ipython3",
   "version": "3.5.2"
  },
  "toc": {
   "base_numbering": 1,
   "nav_menu": {},
   "number_sections": false,
   "sideBar": true,
   "skip_h1_title": false,
   "title_cell": "Table of Contents",
   "title_sidebar": "Contents",
   "toc_cell": false,
   "toc_position": {
    "height": "calc(100% - 180px)",
    "left": "10px",
    "top": "150px",
    "width": "287px"
   },
   "toc_section_display": true,
   "toc_window_display": true
  }
 },
 "nbformat": 4,
 "nbformat_minor": 2
}
