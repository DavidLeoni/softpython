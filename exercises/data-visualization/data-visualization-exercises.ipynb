{
 "cells": [
  {
   "cell_type": "markdown",
   "metadata": {
    "deletable": true,
    "editable": true
   },
   "source": [
    "# Data visualization: Esercizi\n",
    "\n",
    "Anche se Excel ci permette di creare molti tipi di visualizzazione per i nostri dati è molto più limitato rispetto a Python ed il risultato solitamente è di qualità inferiore. \n",
    "\n",
    "## 1. Matplotlib e Numpy\n",
    "\n",
    "Matplotlib è una libreria molto famosa per disegnare grafici in Python; questa libreria è alla base di molti framework per la visualizzazione dei dati e quindi è importante capire il suo funzionamento di base. Per prima cosa bisogna installare la libreria usando, da console:\n",
    "\n",
    "`pip3 install matplotlib`\n",
    "\n",
    "oppure se hai installato Python usando **Anaconda** lancia da console:\n",
    "\n",
    "`conda install matplotlib -c conda-forge`\n",
    "\n",
    "A sua volta [Matplotlib][mpl] utilizza una libreria matematica chiamata [Numpy][np] questa libreria viene automaticamente installata quando installiamo Matplotlib e quindi non dobbiamo servirà installarla manualmente. Queste due librerie sono molto potenti e estensive, tanto da poter coprire un corso intero per ogni una di queste: il nostro obbiettivo però è quello di imparare le funzioni più importanti e capire il funzionamento in generale, per la documentazione completa è possibile accedere alla lista delle funzioni disponibili sui rispettivi siti internet.\n",
    "[mpl]: \"http://matplotlib.org\" \"Matplotlib\"\n",
    "[np]: \"http://numpy.org\" \"Numpy\"\n",
    "\n",
    "**Nota**\n",
    "Se state installando il pacchetto dentro un virtual environment non dovrebbero esserci problemi, se invece state lanciando il comando usando direttamente la libreria di sistema potrebbe essere necessario lanciare il comando come amministratore. \n",
    "\n",
    "- Se questo accade usando GNU/Linux o MacOS basta aggiungere `sudo` prima del comando:\n",
    "```\n",
    "sudo pip3 install matplotlib\n",
    "```\n",
    "- Se ancora non funziona e avete Ubuntu, provate a lanciare da console:\n",
    "\n",
    "    ```bash\n",
    "    sudo apt-get install python3-matplotlib\n",
    "    ```\n",
    "\n",
    "Vediamo un esempio semplicissimo:"
   ]
  },
  {
   "cell_type": "code",
   "execution_count": 1,
   "metadata": {
    "collapsed": false,
    "deletable": true,
    "editable": true
   },
   "outputs": [
    {
     "data": {
      "image/png": "[encoded data removed]",
      "text/plain": [
       "<matplotlib.figure.Figure at 0x7f506ccdc518>"
      ]
     },
     "metadata": {},
     "output_type": "display_data"
    }
   ],
   "source": [
    "%matplotlib inline\n",
    "import matplotlib\n",
    "import matplotlib.pyplot as plt\n",
    "import numpy as np\n",
    "\n",
    "x = np.arange(0, 11, 1.)\n",
    "y = 2*x + 10\n",
    "\n",
    "plt.plot(x, y, 'bo')\n",
    "plt.title('Performance Attesa Esame Fisica')\n",
    "plt.xlabel('Esercizi svolti')\n",
    "plt.ylabel('Votazione esame')\n",
    "\n",
    "plt.show()\n"
   ]
  },
  {
   "cell_type": "markdown",
   "metadata": {
    "deletable": true,
    "editable": true
   },
   "source": [
    "Il codice qui sopra serve per disegnare il risultato atteso dei voti in relazione al numero di esercizi svolti.\n",
    "Vediamo la prima riga:\n",
    "\n",
    "```python\n",
    "%matplotlib inline\n",
    "```\n",
    "\n",
    "Perché inizia con un `%`? La prima riga in realtà non è una istruzione Python ma è una istruzione per l'integrazione tra Jupyter e Matplotlib e serve per comunicare a queste due librerie in che modo vogliamo visualizzare i grafici generati da Matplotlib, in questo caso `inline` significa che vogliamo vedere i grafici all'interno del notebook appena eseguiamo la cella che li disegna.\n",
    "\n",
    "Guardiamo le linee successive:\n",
    "\n",
    "```python\n",
    "import matplotlib\n",
    "import matplotlib.pyplot as plt\n",
    "import numpy as np\n",
    "```\n",
    "\n",
    "Le linee successive importano `matplotlib`, `matplotlib.pyplot` e `numpy`; per le ultime due useremo per brevità degli *alias* `plt` e `np`, che sono dei nomi alternativi che assegnamo noi al momento, per riferirci in modo rapido alle librerie nel codice che segue.\n",
    "\n",
    ">**Nota**\n",
    "\n",
    ">La prima volta che esegui l'import di Matplotlib potrebbe sembrare tutto bloccato e/o comparire un messaggio come questo:\n",
    "\n",
    ">```UserWarning: Matplotlib is building the font cache using fc-list. This may take a moment.\n",
    "  'Matplotlib is building the font cache using fc-list. '\n",
    "```\n",
    "  \n",
    ">Non ci sono problemi non è un errore, solo un avvertimento (la linea inizia dicendo `UserWarning` non `UserError`). Questo rallentamento è causato soltanto dal fatto che Matplotlib vuole sapere quali font (tipi di carattere) può utilizzare per disegnare i grafici. È sufficiente aspettare qualche minuto e il processo riprenderà in maniera automatica appena la libreria completerà la ricerca. \n",
    "\n",
    "\n",
    "Una volta importate le librerie prepariamo i valori che vogliamo visualizzare. Supponiamo di avere una formula lineare che collega il numero di esercizi svolti con il risultato dell'esame, per esempio possiamo usare questa funzione: $$ y=2x+10 $$\n",
    "\n",
    "Per tradurla in Python usando la libreria Numpy, possiamo fare così:\n",
    "\n",
    "```python\n",
    "x = np.arange(0, 11, 1.)\n",
    "y = 2*x + 10\n",
    "```\n",
    "\n",
    "Per visualizzare la retta sul grafico è necessario mettere dei valori per la `x` in un vettore di Numpy. A tal fine, pe reseguire questo *campionamento* scegliendo dei valori di $x$, abbiamo usato la funzione `arange` di numpy: i parametri sono simili alla funzione *built-it* di python `range` (che restituisce una serie di numeri selezionando un intervallo e opzionalmente un incremento) ma in questo caso `arange` restituisce un oggetto di tipo `numpy.ndarray` che permette di essere utilizzato all'interno di espressioni, al contrario di `tuple` o `list` che sono meno flessibili.\n",
    "\n",
    "Guardiamo meglio la prima riga:\n",
    "\n",
    "```python\n",
    "x = np.arange(0, 11, 1.)\n",
    "```\n",
    "Il primo parametro `0` è rappresentato dal limite inferiore (compreso nella serie), il secondo `11` il limite superiore (escluso dalla serie) mentre il terzo `1.` rappresenta l'incremento tra un numero e quello successivo nella serie generata.\n",
    "\n",
    "**DA FARE 1.1**: Prova a usare il comando `type` per controllare quale è il tipo di valore ritornato dalla chiamata a `np.arange`"
   ]
  },
  {
   "cell_type": "code",
   "execution_count": 2,
   "metadata": {
    "collapsed": true
   },
   "outputs": [],
   "source": [
    "# prova qui il comando type"
   ]
  },
  {
   "cell_type": "markdown",
   "metadata": {
    "deletable": true,
    "editable": true
   },
   "source": [
    "Dopo aver generato i valori di x e y in due vettori possiamo disegnare un grafico. Il grafico più semplice che si possa plottare è un grafico con dei punti nel piano e la funzione da chiamare per farlo è `plt.plot()`:\n",
    "\n",
    "```python\n",
    "plt.plot(x, y, 'bo')\n",
    "```\n",
    "\n",
    "Questa funzione può ricevere come parametro due liste di oggetti aventi *la stessa dimensione* rappresentando posizionalmente le coordinate dei punti mentre il terzo parametro, il quale è opzionale, serve per indicare lo stile dell'oggetto da disegnare, nel nostro caso `\"bo\"` significa colore **b**lue e la **o** dice a Python di stampare cerchi (per maggiori informazioni scrivi `help(plt.plot)`).\n",
    "\n",
    "Ora l'oggetto `plt` contiene le informazioni riguardanti il grafico che vogliamo vedere, ma mancano ancora alcune informazioni come il titolo e le etichette sugli assi. Per settare questi valori utilizziamo i metodi `plt.title()` (per il titolo), `plt.xlabel()` (per l'etichetta dell'asse x) e `plt.ylabel()` (per l'etichetta dell'asse y):\n",
    "\n",
    "```python\n",
    "plt.title('Performance Attesa Esame Fisica')\n",
    "plt.xlabel('Esercizi svolti')\n",
    "plt.ylabel('Votazione esame')\n",
    "\n",
    "```\n",
    "\n",
    "\n",
    "L'ultima istruzione:\n",
    "\n",
    "```python\n",
    "plt.show()\n",
    "```\n",
    "\n",
    "è il metodo che veramente genera il grafico e pulisce l'oggetto `plt` per renderlo pronto a disegnare un nuovo grafico. Almeno per il momento consideriamo che dopo che aver chiamato questo metodo *non sarà più possibile apportare modifiche al grafico* quindi lo chiameremo per ultimo."
   ]
  },
  {
   "cell_type": "markdown",
   "metadata": {
    "deletable": true,
    "editable": true
   },
   "source": [
    "**DA FARE 1.2**: Copia manualmente qua sotto il codice visto sopra, e prova ad eseguirlo con `Ctrl+Invio`:"
   ]
  },
  {
   "cell_type": "code",
   "execution_count": 3,
   "metadata": {
    "collapsed": true,
    "deletable": true,
    "editable": true
   },
   "outputs": [],
   "source": [
    "# copia il codice"
   ]
  },
  {
   "cell_type": "markdown",
   "metadata": {
    "deletable": true,
    "editable": true
   },
   "source": [
    "**DA FARE 1.3**: Ricopia col copia e incolla qua sotto l'esempio precendente, questa volta cambiando il colore della linea (usa `r` per il rosso) e lo stile della linea, usando una linea continua con il carattere `-`.\n"
   ]
  },
  {
   "cell_type": "code",
   "execution_count": 4,
   "metadata": {
    "collapsed": true,
    "deletable": true,
    "editable": true
   },
   "outputs": [],
   "source": [
    "# scrivi il codice"
   ]
  },
  {
   "cell_type": "markdown",
   "metadata": {
    "deletable": true,
    "editable": true
   },
   "source": [
    "**DA FARE 1.4:**: Ricopia con il copia e incolla il codice qua sotto, e prova ad aggiungere la griglia con il comando `plt.grid()`, ricordandoti che puoi sempre usare lo help con `help(plt.grid)`:\n"
   ]
  },
  {
   "cell_type": "code",
   "execution_count": 5,
   "metadata": {
    "collapsed": true,
    "deletable": true,
    "editable": true
   },
   "outputs": [],
   "source": [
    "#scrivi il codice"
   ]
  },
  {
   "cell_type": "markdown",
   "metadata": {
    "deletable": true,
    "editable": true
   },
   "source": [
    "**DA FARE 1.5**:  Copia e incolla il codice dell'esempio precedente qua sotto, e prova ad aggiungere l'istruzione:\n",
    "\n",
    "```python\n",
    "plt.annotate(\n",
    "    \"Risultato minimo\\nper la sufficienza\",\n",
    "    xy=(4, 18), arrowprops={'arrowstyle':'->'}, xytext=(6, 17.2))\n",
    "```\n",
    "Che cosa succede? che cosa fanno i parametri? Prova a variare i parametri cercando nella guida di [matplotlib](https://matplotlib.org/users/annotations_guide.html)\n"
   ]
  },
  {
   "cell_type": "code",
   "execution_count": 6,
   "metadata": {
    "collapsed": true
   },
   "outputs": [],
   "source": [
    "# scrivi il codice"
   ]
  },
  {
   "cell_type": "markdown",
   "metadata": {
    "deletable": true,
    "editable": true
   },
   "source": [
    "## 2. Stile MATLAB vs. Object-Oriented\n",
    "\n",
    "Se hai mai usato MATLAB ti sarai reso conto che questo metodo per disegnare grafici è molto simile a come si disegnano i grafici in quell'ambiente. Per chi ha già dimestichezza con GNUplot o MATLAB, Matplotlib fornisce questo tipo di interfaccia per la creazione di grafici tramite `pyplot` (spesso chiamato solo `plt` nel codice). Matplotlib permette anche di disegnare grafici utilizzando un paradigma più proprio di Python e quindi più potente e consigliato.\n",
    "\n",
    "Purtroppo è importante saper leggere entrambe le notazioni in quanto sono entrambe molto utilizzate.\n",
    "\n",
    "Come prima cosa è importante conoscere i nomi degli elementi all'interno dei grafici per poter capire meglio queste differenze, esistono 4 elementi principali:\n",
    "\n",
    "* `Figure` sono la figura completa, cioè l'immagine composta da uno (o più grafici); questo è l'unico elemento a poter essere disegnato.\n",
    "* `Axes` sono i grafici all'interno di una figura, questi contengono la rappresentazione dei grafici che ci interessa,\n",
    "* `Axis` sono le assi di un sistema cartesiano, ogni oggetto di tipo `Axes` ne contiene 2 o 3 e ne compongono il sistema di riferimento.\n",
    "* `Artist` tutto quello che viene disegnato nell'immagine (`Figure`, `Axes`, `Axis`).\n",
    "\n",
    "![Anatomy](anatomy.png)\n",
    "\n",
    "Nell'esempio qui sotto viene riportata lo stesso grafico dell'esempio 1 usando il metodo *object-oriented*:\n"
   ]
  },
  {
   "cell_type": "code",
   "execution_count": 7,
   "metadata": {
    "collapsed": false,
    "deletable": true,
    "editable": true
   },
   "outputs": [
    {
     "data": {
      "image/png": "[encoded data removed]",
      "text/plain": [
       "<matplotlib.figure.Figure at 0x7f506ccdc240>"
      ]
     },
     "metadata": {},
     "output_type": "display_data"
    }
   ],
   "source": [
    "%matplotlib inline\n",
    "import matplotlib\n",
    "import matplotlib.pyplot as plt\n",
    "import numpy as np\n",
    "\n",
    "x = np.arange(0, 11, 1.)\n",
    "y = 2*x + 10\n",
    "\n",
    "fig = plt.figure()\n",
    "ax = fig.add_subplot(111)\n",
    "ax.plot(x, y, 'o')\n",
    "ax.set_title('Performance attesa Esame Fisica')\n",
    "ax.set_xlabel('Esercizi svolti')\n",
    "ax.set_ylabel('Votazione esame')\n",
    "\n",
    "plt.tight_layout()\n",
    "plt.show()"
   ]
  },
  {
   "cell_type": "markdown",
   "metadata": {
    "deletable": true,
    "editable": true
   },
   "source": [
    "Guardiamo la prima (linea 1):\n",
    "\n",
    "```python \n",
    "fig = plt.figure()\n",
    "```\n",
    "\n",
    "utilizzo `plt.figure()` per creare recuperare una `Figure` dal modulo pyplot,\n",
    "\n",
    "Poi in linea 2:\n",
    "\n",
    "```python\n",
    "ax = fig.add_subplot(111)\n",
    "```\n",
    "\n",
    "genero gli `Axes`, cioè il grafico vero e proprio usando il metodo `fig.add_subplot()`. Questo metodo prende in ingresso un numero di 3 cifre, ognuna di queste ha un significato particolare:\n",
    "\n",
    "* La prima cifra rappresenta il numero di righe in cui dividere la *figura*\n",
    "* La seconda cifra rappresenta il numero di colonne in cui dividere la *figura*\n",
    "* La terza cifra è la cella corrispondente nella griglia generata con le prime due cifre.\n",
    "\n",
    "Restituisce un `Axes` all'interno della figura, la cui cella è enumerata partendo da 1, da sinistra verso destra, dall'alto verso il basso.\n",
    "\n",
    "In questo caso `111` significa che l'`Axes` ritornato sarà allineato ad una griglia di **1** riga, **1** colonna,  ed occuperà il posto del \\#**1** grafico.\n",
    "\n",
    "Il metodo successivo disegna il grafico nell'`Axes` selezionato (linea 3).\n",
    "\n",
    "I comandi successivi sono analoghi a quelli negli esempi precedenti:\n",
    "\n",
    "```python\n",
    "ax.plot(x, y, 'o')\n",
    "ax.set_title('Performance attesa Esame Fisica')\n",
    "ax.set_xlabel('Esercizi svolti')\n",
    "ax.set_ylabel('Votazione esame')\n",
    "\n",
    "```\n",
    "\n",
    "\n",
    ", ma fai attenzione al nome e all'oggetto sul quale sono chiamati: adesso abbiamo il metodo `ax.set_title()` invece di `plt.title()` per settare il titolo, `ax.set_xlabel()` invece di `plt.xlabel()` per settare l'etichetta del'asse delle asciesse e `ax.set_ylabel()` invece di `plt.ylabel()` per settare l'etichetta del'asse delle ordinate.\n",
    "\n",
    "L'istruzione `plt.tight_layout()`:\n",
    "\n",
    "```python\n",
    "plt.tight_layout()\n",
    "plt.show()\n",
    "\n",
    "```\n",
    "\n",
    "infine fa spazio tra i grafici per ottimizzarlo in maniera che non si sormontino tra loro: funziona in maniera automatica e fa tutto il possibile perché questo non accada ma non può fare i miracoli: alcuni layout potrebbero comunque soffrire di qualche sovrapposizione se lo spazio disponibile è davvero limitato.\n",
    "\n",
    "**DA FARE 2.1**: Come al solito, inizia a copiare manualmente qua sotto il codice dell'esempio precedente, ed eseguilo con Control+Invio:\n"
   ]
  },
  {
   "cell_type": "code",
   "execution_count": 8,
   "metadata": {
    "collapsed": true
   },
   "outputs": [],
   "source": [
    "# scrivi qua"
   ]
  },
  {
   "cell_type": "markdown",
   "metadata": {},
   "source": [
    "\n",
    "**DA FARE 2.2**: Adesso prova a copiare il grafico (anche con di copia e incolla) in maniera che ci siano due grafici per gli stessi dati, ma su due colonne: nel grafico di sinistra ci sarà una linea rossa e in quello di destra i punti saranno blu. Per realizzare questo effetto, dovrai aggiungere dei subplot alla figura. Prova a giocare un po' con i codici per i quadranti di subplot per vedere cosa succede.\n"
   ]
  },
  {
   "cell_type": "code",
   "execution_count": 9,
   "metadata": {
    "collapsed": true
   },
   "outputs": [],
   "source": [
    "# scrivi qua"
   ]
  },
  {
   "cell_type": "markdown",
   "metadata": {
    "deletable": true,
    "editable": true
   },
   "source": [
    "## 3. Altri tipi di grafici\n",
    "\n",
    "<div class=\"alert alert-warning\">\n",
    "\n",
    "**ATTENZIONE: QUESTA PARTE E' IN-PROGRESS**\n",
    "\n",
    "</div>\n",
    "\n",
    "Oltre a questo tipo di grafico Matplotlib permette ulteriori tipi di grafici come grafici a barre, istogrammi, piechart, scatter, polari, etc. Nella documentazione è possibile trovare la spiegaziegazione dettagliata di tutti i tipi di grafico, nei prossimi esempi ne sono riportati alcuni."
   ]
  },
  {
   "cell_type": "code",
   "execution_count": 10,
   "metadata": {
    "collapsed": false,
    "deletable": true,
    "editable": true
   },
   "outputs": [
    {
     "data": {
      "image/png": "[encoded data removed]",
      "text/plain": [
       "<matplotlib.figure.Figure at 0x7f506ca06860>"
      ]
     },
     "metadata": {},
     "output_type": "display_data"
    }
   ],
   "source": [
    "import matplotlib.mlab as mlab\n",
    "mu = 0  # media\n",
    "sigma = 1  # sqm\n",
    "num_bins = 50\n",
    "x = np.random.normal(mu, sigma, 500)\n",
    "\n",
    "# aggiungiamo l'histogram\n",
    "fig, ax = plt.subplots()\n",
    "n, bins, columns = ax.hist(x, num_bins)\n",
    "\n",
    "ax.set_xlabel('Segnale')\n",
    "ax.set_ylabel('Numero di elementi')\n",
    "ax.set_title('Istogramma di una Gaussiana con $\\mu=0$, $\\sigma=1$')\n",
    "fig.tight_layout()\n",
    "plt.show()"
   ]
  },
  {
   "cell_type": "markdown",
   "metadata": {
    "deletable": true,
    "editable": true
   },
   "source": [
    "Nella prima riga abbiamo l'import della libreria `mlab`, questa serve per emulare delle funzioni di MATLAB e ci servirà per creare la curva di fitting, ma per il momento possiamo ignorarlo.\n",
    "\n",
    "Nelle righe successive definiamo la media `mu`, lo scarto quadratico medio `sigma`, il numero di partizioni dell'istogramma `num_bins`, per poi generare una distribuzione casuale utilizzando la libreria numpy. La funzione `np.random.normal()` richiede come parametro la media, l'SQM e il numero di esempi che devono essere estratti, in questo caso 500.\n",
    "\n",
    "Ora si passa a disegnare i grafici: con l'istruzione successiva (linea 8) creiamo la *Figure* (`fig`) e l'*Axes* (`ax`) in un solo comando. Nell'esempio visto in precedenza avevamo fatto questo in due istruzioni, `plt.subplots()` è solo più conciso. A questo punto chiamiamo il metodo `ax.hist()` per disegnare l'istogramma: questo prende come parametri l'array contenente i dati che abbiamo generato (`x`), e il numero di partizioni dell'istogramma. Oltre a disegnare la funzione di probabilità dentro `ax` restituisce anche i valori numerici per ogni colonna in `n`, i valori per usati per partizionare i dati nelle varie colonne in `bins` e le colonne vere e proprie, intesi come i \"rettangoli colorati\" che compongono il grafico, in `columns`.\n",
    "\n",
    "I comandi successivi li conosciamo già, ma facciamo attenzione al `set_title` questa volta: come puoi vedere ci sono dei caratteri `$` all interno del titolo: se hai mai usato o conosci *Latex* avrai sicuramente riconosciuto la notazione, infatti Matplotlib permette di inserire testo *Latex* all'interno dei grafici generati; per chi non lo conoscesse *Latex* è un linguaggio di markup che viene utilizzato per scrivere documenti di testo, molto utilizzato in ambito scientifico anche grazie alla potenza e semplicità nell'esprimere formule matematiche.\n",
    "\n",
    "### Aggiungiamo la curva di Fitting\n",
    "\n",
    "A questo punto, come promesso prima, aggiungiamo la curva di fitting: per fare possiamo usare i valori usati per dividere le colonne come punti sull'asse x e calcolare i valori corrispondenti sull'asse y: questo può essere fatto utilizzando la libreria `mlab` e più precisamente con il metodo `mlab.normpdf()` (che sta per Normal distribution's Probability Density Function). A questo metodo noi passiamo i valori per cui compiere la computazione ed i parametri della normale `mu` e `sigma` e lui ci restituisce i valori sulla curva di densità corrispondente. Una volta recuperati i valori su entrambe ascisse e ordinate disegnamo una linea tratteggiata usando il metodo `ax.plot()` come visto in precedenza, risultando in questo:\n",
    "\n",
    "### DA FARE \n",
    "Prova ad aggiungere la funzione di fit come descritto sopra, aggiungendo le *due linee* di codice dove segnalato dal commento.\n",
    "> **NOTA**\n",
    "> Come forse hai notato i valori sull'asse y sono cambiati e la funzione `ax.hist()` ha acquisito un nuovo parametro: `normed=True`: questo serve per normalizzare i valori dell'istogramma dividendo il numero di elementi in ogni *bin* per il numero totale di elementi e permettendo di comparare l'istogramma con la funzione di probabilità associata."
   ]
  },
  {
   "cell_type": "code",
   "execution_count": 11,
   "metadata": {
    "collapsed": false,
    "deletable": true,
    "editable": true
   },
   "outputs": [
    {
     "data": {
      "image/png": "[encoded data removed]",
      "text/plain": [
       "<matplotlib.figure.Figure at 0x7f506c7b1ef0>"
      ]
     },
     "metadata": {},
     "output_type": "display_data"
    }
   ],
   "source": [
    "fig, ax = plt.subplots()\n",
    "n, bins, columns = ax.hist(x, num_bins, normed=True)\n",
    "\n",
    "# Inserisci i comandi per la fit QUI\n",
    "y = mlab.normpdf(bins, mu, sigma)\n",
    "ax.plot(bins, y, '--')\n",
    "\n",
    "ax.set_xlabel('Segnale')\n",
    "ax.set_ylabel('Densità di probabilità')\n",
    "ax.set_title('Istogramma di una Gaussiana con $\\mu=0$, $\\sigma=1$')\n",
    "fig.tight_layout()\n",
    "plt.show()"
   ]
  },
  {
   "cell_type": "markdown",
   "metadata": {
    "deletable": true,
    "editable": true
   },
   "source": [
    "## Piechart (se *servono davvero*) e altro ancora...\n",
    "\n",
    "Nel prossimo esempio abbiamo il celeberrimo grafico a torta, la cui creazione è semplicissima:\n",
    "\n",
    "1. assegnamo delle etichette (`labels`) a tutti gli spicchi;\n",
    "2. decidiamo le quantità (la larghezza degli spicchi) per ogniuno degli spicchi (usando la stessa posizione in cui abbiamo enumerato le etichette in precedenza);\n",
    "3. selezioniamo di quanto vogliamo separare ogni spicchio dagli altri (`esplodi` conterrà questa informazione);\n",
    "5. creiamo *Figure* e *Axes*\n",
    "6. disegnamo la torta usando il metodo `pie`, questo metodo prende in ingresso le quantità ma ha anche una lunga lista di parametri opzionali, nel nostro caso noi abbiamo usato:\n",
    "    * `labels` cioè le etichette da apporre ad ogni spicchio,\n",
    "    * `explode` vedi *punto 3*,\n",
    "    * `autopct` è una stringa che serve per stampare la percentuale su ogni fetta, richiede come parametro una [stringa di formattazione](https://docs.python.org/2/library/stdtypes.html#string-formatting), in questo caso riserva una cifra intera (%***1***.1f%%) e assegna la precisione ad una cifra decimale (%1***.1f***%%), ed aggiunge il carattere `%` alla fine (%1.1f***%%*** ).\n",
    "    * `startangle` è l'angolo di partenza dal quale iniziare a disegnare il grafico, 90 significa la verticale superiore del grafico."
   ]
  },
  {
   "cell_type": "code",
   "execution_count": 12,
   "metadata": {
    "collapsed": false,
    "deletable": true,
    "editable": true
   },
   "outputs": [
    {
     "data": {
      "image/png": "[encoded data removed]",
      "text/plain": [
       "<matplotlib.figure.Figure at 0x7f506c966630>"
      ]
     },
     "metadata": {},
     "output_type": "display_data"
    }
   ],
   "source": [
    "labels = ['Pippo', 'Pluto', 'Paperino']\n",
    "y = [3, 4, 1]\n",
    "esplodi = [0, 0, 0.1]\n",
    "\n",
    "fig, ax1 = plt.subplots()\n",
    "ax1.pie(y, labels=labels, explode=esplodi, autopct='%1.1f%%', startangle=90)\n",
    "ax1.set_title(\"Spar(t)izione della pizza\")\n",
    "\n",
    "fig.tight_layout()\n",
    "#fig.show()"
   ]
  },
  {
   "cell_type": "markdown",
   "metadata": {
    "deletable": true,
    "editable": true
   },
   "source": [
    "### DA FARE\n",
    "\n",
    "Prova a disegnare una figura con due colonne: in quella di sinistra copia un grafico a torta, e in quella di sinistra utilizza il metodo `ax.bar()` (primo parametro le etichette e secondo parametro i valori) per disegnare un diagramma a barre equivalente. Quale ti sembra più chiaro? Prova a giocare con i parametri e `explode` `startangle`, noterai che nel grafico a torta le proporzioni sembrano cambiare, specialmente se la dimensione degli spicchi è simile. \n",
    "\n",
    "**Ricordati sempre** che il comando `help()` è molto importante, usalo quando vuoi sapere di più sui parametri o sulle funzioni che stai utilizzando"
   ]
  },
  {
   "cell_type": "markdown",
   "metadata": {
    "collapsed": false,
    "deletable": true,
    "editable": true
   },
   "source": [
    "```python\n",
    "labels = ['Pippo', 'Pluto', 'Paperino']\n",
    "y = [3, 4, 1]\n",
    "esplodi = [0, 0, 0.1]\n",
    "\n",
    "fig, (ax1, ax2) = plt.subplots(ncols=2)\n",
    "ax1.pie(y, labels=labels, explode=esplodi, autopct='%1.1f%%', startangle=90)\n",
    "ax1.set_title(\"Spar(t)izione della pizza\")\n",
    "\n",
    "ax2.bar(labels, y)\n",
    "ax2.set_title(\"Spar(t)izione della pizza\")\n",
    "\n",
    "fig.tight_layout()\n",
    "```"
   ]
  },
  {
   "cell_type": "markdown",
   "metadata": {
    "deletable": true,
    "editable": true
   },
   "source": [
    "Come anticipato questa lezione non copre il 100% dei grafici e delle funzionalità presenti in Matplotlib, quindi la principale risorsa nella quale cercare esempi e documentazione è sicuramente [la pagina ufficiale di matplotlib](https://matplotlib.org/gallery/index.html) ma esistono altre risorse utili che raggruppano le funzioni utili e le loro interfacce [cheatsheet per matplotlib](https://github.com/juliangaal/python-cheat-sheet/blob/master/Matplotlib/Matplotlib.md) e [cheatsheet per numpy](https://github.com/juliangaal/python-cheat-sheet/blob/master/NumPy/NumPy.md)."
   ]
  }
 ],
 "metadata": {
  "kernelspec": {
   "display_name": "Python 3",
   "language": "python",
   "name": "python3"
  },
  "language_info": {
   "codemirror_mode": {
    "name": "ipython",
    "version": 3
   },
   "file_extension": ".py",
   "mimetype": "text/x-python",
   "name": "python",
   "nbconvert_exporter": "python",
   "pygments_lexer": "ipython3",
   "version": "3.5.2"
  }
 },
 "nbformat": 4,
 "nbformat_minor": 2
}
