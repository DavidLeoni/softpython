{
 "cells": [
  {
   "cell_type": "markdown",
   "metadata": {},
   "source": [
    "# Analisi dei dati: soluzioni"
   ]
  },
  {
   "cell_type": "markdown",
   "metadata": {},
   "source": [
    "## 1. Introduzione"
   ]
  },
  {
   "cell_type": "markdown",
   "metadata": {},
   "source": [
    "## 2. Analisi dei dati di Astro Pi"
   ]
  },
  {
   "cell_type": "code",
   "execution_count": 1,
   "metadata": {
    "scrolled": false
   },
   "outputs": [],
   "source": [
    "import pandas as pd\n",
    "import numpy as np"
   ]
  },
  {
   "cell_type": "markdown",
   "metadata": {},
   "source": [
    "**2.1 DA FARE**: Creare un nuovo dataframe chiamato ```meteo``` importando i dati dal file meteo.csv, che contiene i dati meteo di Trento di novembre 2017 (fonte: https://www.meteotrentino.it). **IMPORTANTE**: assegna il dataframe ad una variabile chiamata `meteo` (così evitiamo confusione con il dataframe dell'AstroPi)\n",
    "\n",
    "**2.2 DA FARE**: Visualizzare le informazioni relative a questo Dataframe."
   ]
  },
  {
   "cell_type": "code",
   "execution_count": 2,
   "metadata": {},
   "outputs": [
    {
     "name": "stdout",
     "output_type": "stream",
     "text": [
      "<class 'pandas.core.frame.DataFrame'>\n",
      "Int64Index: 2878 entries, 0 to 2877\n",
      "Data columns (total 4 columns):\n",
      "Data         2878 non-null object\n",
      "Pressione    2878 non-null float64\n",
      "Pioggia      2878 non-null float64\n",
      "Temp         2878 non-null float64\n",
      "dtypes: float64(3), object(1)\n",
      "memory usage: 112.4+ KB\n"
     ]
    }
   ],
   "source": [
    "meteo = pd.read_csv('meteo.csv', encoding='UTF-8')\n",
    "meteo.info()"
   ]
  },
  {
   "cell_type": "code",
   "execution_count": 3,
   "metadata": {},
   "outputs": [
    {
     "data": {
      "text/html": [
       "<div>\n",
       "<table border=\"1\" class=\"dataframe\">\n",
       "  <thead>\n",
       "    <tr style=\"text-align: right;\">\n",
       "      <th></th>\n",
       "      <th>Data</th>\n",
       "      <th>Pressione</th>\n",
       "      <th>Pioggia</th>\n",
       "      <th>Temp</th>\n",
       "    </tr>\n",
       "  </thead>\n",
       "  <tbody>\n",
       "    <tr>\n",
       "      <th>0</th>\n",
       "      <td>01/11/2017 00:00</td>\n",
       "      <td>995.4</td>\n",
       "      <td>0</td>\n",
       "      <td>5.4</td>\n",
       "    </tr>\n",
       "    <tr>\n",
       "      <th>1</th>\n",
       "      <td>01/11/2017 00:15</td>\n",
       "      <td>995.5</td>\n",
       "      <td>0</td>\n",
       "      <td>6.0</td>\n",
       "    </tr>\n",
       "    <tr>\n",
       "      <th>2</th>\n",
       "      <td>01/11/2017 00:30</td>\n",
       "      <td>995.5</td>\n",
       "      <td>0</td>\n",
       "      <td>5.9</td>\n",
       "    </tr>\n",
       "    <tr>\n",
       "      <th>3</th>\n",
       "      <td>01/11/2017 00:45</td>\n",
       "      <td>995.7</td>\n",
       "      <td>0</td>\n",
       "      <td>5.4</td>\n",
       "    </tr>\n",
       "    <tr>\n",
       "      <th>4</th>\n",
       "      <td>01/11/2017 01:00</td>\n",
       "      <td>995.7</td>\n",
       "      <td>0</td>\n",
       "      <td>5.3</td>\n",
       "    </tr>\n",
       "  </tbody>\n",
       "</table>\n",
       "</div>"
      ],
      "text/plain": [
       "               Data  Pressione  Pioggia  Temp\n",
       "0  01/11/2017 00:00      995.4        0   5.4\n",
       "1  01/11/2017 00:15      995.5        0   6.0\n",
       "2  01/11/2017 00:30      995.5        0   5.9\n",
       "3  01/11/2017 00:45      995.7        0   5.4\n",
       "4  01/11/2017 01:00      995.7        0   5.3"
      ]
     },
     "execution_count": 3,
     "metadata": {},
     "output_type": "execute_result"
    }
   ],
   "source": [
    "meteo.head()"
   ]
  },
  {
   "cell_type": "code",
   "execution_count": 4,
   "metadata": {},
   "outputs": [
    {
     "data": {
      "text/plain": [
       "Index(['Data', 'Pressione', 'Pioggia', 'Temp'], dtype='object')"
      ]
     },
     "execution_count": 4,
     "metadata": {},
     "output_type": "execute_result"
    }
   ],
   "source": [
    "meteo.columns"
   ]
  },
  {
   "cell_type": "markdown",
   "metadata": {},
   "source": [
    "## 3. Indicizzazione, filtraggio e ordinamento\n"
   ]
  },
  {
   "cell_type": "markdown",
   "metadata": {},
   "source": [
    "**DA FARE 3.1**: Analizzare i dati del Dataframe ```meteo``` e trovare:\n",
    "\n",
    "* i valori di pressione media, minima e massima\n",
    "* la temperatura media\n",
    "* le date delle giornate di pioggia\n"
   ]
  },
  {
   "cell_type": "code",
   "execution_count": 5,
   "metadata": {},
   "outputs": [
    {
     "data": {
      "text/plain": [
       "986.34082696316887"
      ]
     },
     "execution_count": 5,
     "metadata": {},
     "output_type": "execute_result"
    }
   ],
   "source": [
    "meteo.Pressione.values.mean()"
   ]
  },
  {
   "cell_type": "code",
   "execution_count": 6,
   "metadata": {},
   "outputs": [
    {
     "data": {
      "text/plain": [
       "966.29999999999995"
      ]
     },
     "execution_count": 6,
     "metadata": {},
     "output_type": "execute_result"
    }
   ],
   "source": [
    "meteo.Pressione.values.min()"
   ]
  },
  {
   "cell_type": "code",
   "execution_count": 7,
   "metadata": {},
   "outputs": [
    {
     "data": {
      "text/plain": [
       "998.29999999999995"
      ]
     },
     "execution_count": 7,
     "metadata": {},
     "output_type": "execute_result"
    }
   ],
   "source": [
    "meteo.Pressione.values.max()"
   ]
  },
  {
   "cell_type": "code",
   "execution_count": 8,
   "metadata": {},
   "outputs": [
    {
     "data": {
      "text/plain": [
       "6.4107018763029879"
      ]
     },
     "execution_count": 8,
     "metadata": {},
     "output_type": "execute_result"
    }
   ],
   "source": [
    "meteo.Temp.values.mean()"
   ]
  },
  {
   "cell_type": "code",
   "execution_count": 9,
   "metadata": {},
   "outputs": [
    {
     "data": {
      "text/html": [
       "<div>\n",
       "<table border=\"1\" class=\"dataframe\">\n",
       "  <thead>\n",
       "    <tr style=\"text-align: right;\">\n",
       "      <th></th>\n",
       "      <th>Data</th>\n",
       "      <th>Pressione</th>\n",
       "      <th>Pioggia</th>\n",
       "      <th>Temp</th>\n",
       "    </tr>\n",
       "  </thead>\n",
       "  <tbody>\n",
       "    <tr>\n",
       "      <th>433</th>\n",
       "      <td>05/11/2017 12:15</td>\n",
       "      <td>979.2</td>\n",
       "      <td>0.2</td>\n",
       "      <td>8.6</td>\n",
       "    </tr>\n",
       "    <tr>\n",
       "      <th>435</th>\n",
       "      <td>05/11/2017 12:45</td>\n",
       "      <td>978.9</td>\n",
       "      <td>0.2</td>\n",
       "      <td>8.4</td>\n",
       "    </tr>\n",
       "    <tr>\n",
       "      <th>436</th>\n",
       "      <td>05/11/2017 13:00</td>\n",
       "      <td>979.0</td>\n",
       "      <td>0.2</td>\n",
       "      <td>8.4</td>\n",
       "    </tr>\n",
       "    <tr>\n",
       "      <th>437</th>\n",
       "      <td>05/11/2017 13:15</td>\n",
       "      <td>979.1</td>\n",
       "      <td>0.8</td>\n",
       "      <td>8.2</td>\n",
       "    </tr>\n",
       "    <tr>\n",
       "      <th>438</th>\n",
       "      <td>05/11/2017 13:30</td>\n",
       "      <td>979.0</td>\n",
       "      <td>0.6</td>\n",
       "      <td>8.2</td>\n",
       "    </tr>\n",
       "    <tr>\n",
       "      <th>439</th>\n",
       "      <td>05/11/2017 13:45</td>\n",
       "      <td>978.8</td>\n",
       "      <td>0.4</td>\n",
       "      <td>8.2</td>\n",
       "    </tr>\n",
       "    <tr>\n",
       "      <th>440</th>\n",
       "      <td>05/11/2017 14:00</td>\n",
       "      <td>978.7</td>\n",
       "      <td>0.8</td>\n",
       "      <td>8.2</td>\n",
       "    </tr>\n",
       "    <tr>\n",
       "      <th>441</th>\n",
       "      <td>05/11/2017 14:15</td>\n",
       "      <td>978.4</td>\n",
       "      <td>0.6</td>\n",
       "      <td>8.3</td>\n",
       "    </tr>\n",
       "    <tr>\n",
       "      <th>442</th>\n",
       "      <td>05/11/2017 14:30</td>\n",
       "      <td>978.2</td>\n",
       "      <td>0.6</td>\n",
       "      <td>8.2</td>\n",
       "    </tr>\n",
       "    <tr>\n",
       "      <th>443</th>\n",
       "      <td>05/11/2017 14:45</td>\n",
       "      <td>978.1</td>\n",
       "      <td>0.6</td>\n",
       "      <td>8.2</td>\n",
       "    </tr>\n",
       "    <tr>\n",
       "      <th>444</th>\n",
       "      <td>05/11/2017 15:00</td>\n",
       "      <td>978.1</td>\n",
       "      <td>0.4</td>\n",
       "      <td>8.1</td>\n",
       "    </tr>\n",
       "    <tr>\n",
       "      <th>445</th>\n",
       "      <td>05/11/2017 15:15</td>\n",
       "      <td>977.9</td>\n",
       "      <td>0.4</td>\n",
       "      <td>8.1</td>\n",
       "    </tr>\n",
       "    <tr>\n",
       "      <th>446</th>\n",
       "      <td>05/11/2017 15:30</td>\n",
       "      <td>977.9</td>\n",
       "      <td>0.4</td>\n",
       "      <td>8.1</td>\n",
       "    </tr>\n",
       "    <tr>\n",
       "      <th>448</th>\n",
       "      <td>05/11/2017 16:00</td>\n",
       "      <td>977.4</td>\n",
       "      <td>0.2</td>\n",
       "      <td>8.1</td>\n",
       "    </tr>\n",
       "    <tr>\n",
       "      <th>455</th>\n",
       "      <td>05/11/2017 17:45</td>\n",
       "      <td>977.1</td>\n",
       "      <td>0.2</td>\n",
       "      <td>8.1</td>\n",
       "    </tr>\n",
       "    <tr>\n",
       "      <th>456</th>\n",
       "      <td>05/11/2017 18:00</td>\n",
       "      <td>977.1</td>\n",
       "      <td>0.2</td>\n",
       "      <td>8.2</td>\n",
       "    </tr>\n",
       "    <tr>\n",
       "      <th>457</th>\n",
       "      <td>05/11/2017 18:15</td>\n",
       "      <td>977.1</td>\n",
       "      <td>0.2</td>\n",
       "      <td>8.2</td>\n",
       "    </tr>\n",
       "    <tr>\n",
       "      <th>458</th>\n",
       "      <td>05/11/2017 18:30</td>\n",
       "      <td>976.8</td>\n",
       "      <td>0.2</td>\n",
       "      <td>8.3</td>\n",
       "    </tr>\n",
       "    <tr>\n",
       "      <th>459</th>\n",
       "      <td>05/11/2017 18:45</td>\n",
       "      <td>976.7</td>\n",
       "      <td>0.4</td>\n",
       "      <td>8.3</td>\n",
       "    </tr>\n",
       "    <tr>\n",
       "      <th>460</th>\n",
       "      <td>05/11/2017 19:00</td>\n",
       "      <td>976.5</td>\n",
       "      <td>0.2</td>\n",
       "      <td>8.4</td>\n",
       "    </tr>\n",
       "    <tr>\n",
       "      <th>461</th>\n",
       "      <td>05/11/2017 19:15</td>\n",
       "      <td>976.5</td>\n",
       "      <td>0.2</td>\n",
       "      <td>8.5</td>\n",
       "    </tr>\n",
       "    <tr>\n",
       "      <th>462</th>\n",
       "      <td>05/11/2017 19:30</td>\n",
       "      <td>976.3</td>\n",
       "      <td>0.2</td>\n",
       "      <td>8.5</td>\n",
       "    </tr>\n",
       "    <tr>\n",
       "      <th>463</th>\n",
       "      <td>05/11/2017 19:45</td>\n",
       "      <td>976.1</td>\n",
       "      <td>0.4</td>\n",
       "      <td>8.6</td>\n",
       "    </tr>\n",
       "    <tr>\n",
       "      <th>464</th>\n",
       "      <td>05/11/2017 20:00</td>\n",
       "      <td>976.3</td>\n",
       "      <td>0.2</td>\n",
       "      <td>8.7</td>\n",
       "    </tr>\n",
       "    <tr>\n",
       "      <th>465</th>\n",
       "      <td>05/11/2017 20:15</td>\n",
       "      <td>976.1</td>\n",
       "      <td>0.4</td>\n",
       "      <td>8.7</td>\n",
       "    </tr>\n",
       "    <tr>\n",
       "      <th>466</th>\n",
       "      <td>05/11/2017 20:30</td>\n",
       "      <td>976.1</td>\n",
       "      <td>0.4</td>\n",
       "      <td>8.7</td>\n",
       "    </tr>\n",
       "    <tr>\n",
       "      <th>467</th>\n",
       "      <td>05/11/2017 20:45</td>\n",
       "      <td>976.2</td>\n",
       "      <td>0.2</td>\n",
       "      <td>8.7</td>\n",
       "    </tr>\n",
       "    <tr>\n",
       "      <th>468</th>\n",
       "      <td>05/11/2017 21:00</td>\n",
       "      <td>976.4</td>\n",
       "      <td>0.6</td>\n",
       "      <td>8.8</td>\n",
       "    </tr>\n",
       "    <tr>\n",
       "      <th>469</th>\n",
       "      <td>05/11/2017 21:15</td>\n",
       "      <td>976.4</td>\n",
       "      <td>0.6</td>\n",
       "      <td>8.7</td>\n",
       "    </tr>\n",
       "    <tr>\n",
       "      <th>470</th>\n",
       "      <td>05/11/2017 21:30</td>\n",
       "      <td>976.9</td>\n",
       "      <td>1.2</td>\n",
       "      <td>8.7</td>\n",
       "    </tr>\n",
       "    <tr>\n",
       "      <th>...</th>\n",
       "      <td>...</td>\n",
       "      <td>...</td>\n",
       "      <td>...</td>\n",
       "      <td>...</td>\n",
       "    </tr>\n",
       "    <tr>\n",
       "      <th>1150</th>\n",
       "      <td>12/11/2017 23:45</td>\n",
       "      <td>970.1</td>\n",
       "      <td>0.6</td>\n",
       "      <td>5.3</td>\n",
       "    </tr>\n",
       "    <tr>\n",
       "      <th>1151</th>\n",
       "      <td>13/11/2017 00:00</td>\n",
       "      <td>969.9</td>\n",
       "      <td>0.4</td>\n",
       "      <td>5.6</td>\n",
       "    </tr>\n",
       "    <tr>\n",
       "      <th>1152</th>\n",
       "      <td>13/11/2017 00:15</td>\n",
       "      <td>970.1</td>\n",
       "      <td>0.6</td>\n",
       "      <td>5.5</td>\n",
       "    </tr>\n",
       "    <tr>\n",
       "      <th>1153</th>\n",
       "      <td>13/11/2017 00:30</td>\n",
       "      <td>970.4</td>\n",
       "      <td>0.6</td>\n",
       "      <td>5.1</td>\n",
       "    </tr>\n",
       "    <tr>\n",
       "      <th>1154</th>\n",
       "      <td>13/11/2017 00:45</td>\n",
       "      <td>970.4</td>\n",
       "      <td>0.6</td>\n",
       "      <td>5.2</td>\n",
       "    </tr>\n",
       "    <tr>\n",
       "      <th>1155</th>\n",
       "      <td>13/11/2017 01:00</td>\n",
       "      <td>970.4</td>\n",
       "      <td>0.2</td>\n",
       "      <td>4.7</td>\n",
       "    </tr>\n",
       "    <tr>\n",
       "      <th>1159</th>\n",
       "      <td>13/11/2017 02:00</td>\n",
       "      <td>969.5</td>\n",
       "      <td>0.2</td>\n",
       "      <td>5.4</td>\n",
       "    </tr>\n",
       "    <tr>\n",
       "      <th>2338</th>\n",
       "      <td>25/11/2017 09:15</td>\n",
       "      <td>985.9</td>\n",
       "      <td>0.2</td>\n",
       "      <td>5.0</td>\n",
       "    </tr>\n",
       "    <tr>\n",
       "      <th>2346</th>\n",
       "      <td>25/11/2017 11:15</td>\n",
       "      <td>984.6</td>\n",
       "      <td>0.2</td>\n",
       "      <td>5.0</td>\n",
       "    </tr>\n",
       "    <tr>\n",
       "      <th>2347</th>\n",
       "      <td>25/11/2017 11:30</td>\n",
       "      <td>984.2</td>\n",
       "      <td>0.4</td>\n",
       "      <td>5.0</td>\n",
       "    </tr>\n",
       "    <tr>\n",
       "      <th>2348</th>\n",
       "      <td>25/11/2017 11:45</td>\n",
       "      <td>984.1</td>\n",
       "      <td>0.2</td>\n",
       "      <td>4.8</td>\n",
       "    </tr>\n",
       "    <tr>\n",
       "      <th>2349</th>\n",
       "      <td>25/11/2017 12:00</td>\n",
       "      <td>983.7</td>\n",
       "      <td>0.2</td>\n",
       "      <td>4.9</td>\n",
       "    </tr>\n",
       "    <tr>\n",
       "      <th>2350</th>\n",
       "      <td>25/11/2017 12:15</td>\n",
       "      <td>983.6</td>\n",
       "      <td>0.2</td>\n",
       "      <td>4.9</td>\n",
       "    </tr>\n",
       "    <tr>\n",
       "      <th>2352</th>\n",
       "      <td>25/11/2017 12:45</td>\n",
       "      <td>983.2</td>\n",
       "      <td>0.2</td>\n",
       "      <td>4.9</td>\n",
       "    </tr>\n",
       "    <tr>\n",
       "      <th>2353</th>\n",
       "      <td>25/11/2017 13:00</td>\n",
       "      <td>983.0</td>\n",
       "      <td>0.2</td>\n",
       "      <td>5.0</td>\n",
       "    </tr>\n",
       "    <tr>\n",
       "      <th>2354</th>\n",
       "      <td>25/11/2017 13:15</td>\n",
       "      <td>982.6</td>\n",
       "      <td>0.2</td>\n",
       "      <td>5.0</td>\n",
       "    </tr>\n",
       "    <tr>\n",
       "      <th>2355</th>\n",
       "      <td>25/11/2017 13:30</td>\n",
       "      <td>982.5</td>\n",
       "      <td>0.2</td>\n",
       "      <td>4.9</td>\n",
       "    </tr>\n",
       "    <tr>\n",
       "      <th>2356</th>\n",
       "      <td>25/11/2017 13:45</td>\n",
       "      <td>982.4</td>\n",
       "      <td>0.2</td>\n",
       "      <td>4.9</td>\n",
       "    </tr>\n",
       "    <tr>\n",
       "      <th>2358</th>\n",
       "      <td>25/11/2017 14:15</td>\n",
       "      <td>982.0</td>\n",
       "      <td>0.2</td>\n",
       "      <td>4.8</td>\n",
       "    </tr>\n",
       "    <tr>\n",
       "      <th>2359</th>\n",
       "      <td>25/11/2017 14:30</td>\n",
       "      <td>982.1</td>\n",
       "      <td>0.2</td>\n",
       "      <td>4.8</td>\n",
       "    </tr>\n",
       "    <tr>\n",
       "      <th>2362</th>\n",
       "      <td>25/11/2017 15:15</td>\n",
       "      <td>981.5</td>\n",
       "      <td>0.2</td>\n",
       "      <td>4.9</td>\n",
       "    </tr>\n",
       "    <tr>\n",
       "      <th>2363</th>\n",
       "      <td>25/11/2017 15:30</td>\n",
       "      <td>981.2</td>\n",
       "      <td>0.2</td>\n",
       "      <td>5.0</td>\n",
       "    </tr>\n",
       "    <tr>\n",
       "      <th>2364</th>\n",
       "      <td>25/11/2017 15:45</td>\n",
       "      <td>981.1</td>\n",
       "      <td>0.2</td>\n",
       "      <td>5.0</td>\n",
       "    </tr>\n",
       "    <tr>\n",
       "      <th>2366</th>\n",
       "      <td>25/11/2017 16:15</td>\n",
       "      <td>981.0</td>\n",
       "      <td>0.2</td>\n",
       "      <td>5.0</td>\n",
       "    </tr>\n",
       "    <tr>\n",
       "      <th>2736</th>\n",
       "      <td>29/11/2017 12:45</td>\n",
       "      <td>978.0</td>\n",
       "      <td>0.2</td>\n",
       "      <td>0.9</td>\n",
       "    </tr>\n",
       "    <tr>\n",
       "      <th>2754</th>\n",
       "      <td>29/11/2017 17:15</td>\n",
       "      <td>976.1</td>\n",
       "      <td>0.2</td>\n",
       "      <td>0.9</td>\n",
       "    </tr>\n",
       "    <tr>\n",
       "      <th>2755</th>\n",
       "      <td>29/11/2017 17:30</td>\n",
       "      <td>975.9</td>\n",
       "      <td>0.2</td>\n",
       "      <td>0.9</td>\n",
       "    </tr>\n",
       "    <tr>\n",
       "      <th>2802</th>\n",
       "      <td>30/11/2017 05:15</td>\n",
       "      <td>971.3</td>\n",
       "      <td>0.2</td>\n",
       "      <td>1.3</td>\n",
       "    </tr>\n",
       "    <tr>\n",
       "      <th>2803</th>\n",
       "      <td>30/11/2017 05:30</td>\n",
       "      <td>971.3</td>\n",
       "      <td>0.2</td>\n",
       "      <td>1.1</td>\n",
       "    </tr>\n",
       "    <tr>\n",
       "      <th>2804</th>\n",
       "      <td>30/11/2017 05:45</td>\n",
       "      <td>971.5</td>\n",
       "      <td>0.2</td>\n",
       "      <td>1.1</td>\n",
       "    </tr>\n",
       "  </tbody>\n",
       "</table>\n",
       "<p>107 rows × 4 columns</p>\n",
       "</div>"
      ],
      "text/plain": [
       "                  Data  Pressione  Pioggia  Temp\n",
       "433   05/11/2017 12:15      979.2      0.2   8.6\n",
       "435   05/11/2017 12:45      978.9      0.2   8.4\n",
       "436   05/11/2017 13:00      979.0      0.2   8.4\n",
       "437   05/11/2017 13:15      979.1      0.8   8.2\n",
       "438   05/11/2017 13:30      979.0      0.6   8.2\n",
       "439   05/11/2017 13:45      978.8      0.4   8.2\n",
       "440   05/11/2017 14:00      978.7      0.8   8.2\n",
       "441   05/11/2017 14:15      978.4      0.6   8.3\n",
       "442   05/11/2017 14:30      978.2      0.6   8.2\n",
       "443   05/11/2017 14:45      978.1      0.6   8.2\n",
       "444   05/11/2017 15:00      978.1      0.4   8.1\n",
       "445   05/11/2017 15:15      977.9      0.4   8.1\n",
       "446   05/11/2017 15:30      977.9      0.4   8.1\n",
       "448   05/11/2017 16:00      977.4      0.2   8.1\n",
       "455   05/11/2017 17:45      977.1      0.2   8.1\n",
       "456   05/11/2017 18:00      977.1      0.2   8.2\n",
       "457   05/11/2017 18:15      977.1      0.2   8.2\n",
       "458   05/11/2017 18:30      976.8      0.2   8.3\n",
       "459   05/11/2017 18:45      976.7      0.4   8.3\n",
       "460   05/11/2017 19:00      976.5      0.2   8.4\n",
       "461   05/11/2017 19:15      976.5      0.2   8.5\n",
       "462   05/11/2017 19:30      976.3      0.2   8.5\n",
       "463   05/11/2017 19:45      976.1      0.4   8.6\n",
       "464   05/11/2017 20:00      976.3      0.2   8.7\n",
       "465   05/11/2017 20:15      976.1      0.4   8.7\n",
       "466   05/11/2017 20:30      976.1      0.4   8.7\n",
       "467   05/11/2017 20:45      976.2      0.2   8.7\n",
       "468   05/11/2017 21:00      976.4      0.6   8.8\n",
       "469   05/11/2017 21:15      976.4      0.6   8.7\n",
       "470   05/11/2017 21:30      976.9      1.2   8.7\n",
       "...                ...        ...      ...   ...\n",
       "1150  12/11/2017 23:45      970.1      0.6   5.3\n",
       "1151  13/11/2017 00:00      969.9      0.4   5.6\n",
       "1152  13/11/2017 00:15      970.1      0.6   5.5\n",
       "1153  13/11/2017 00:30      970.4      0.6   5.1\n",
       "1154  13/11/2017 00:45      970.4      0.6   5.2\n",
       "1155  13/11/2017 01:00      970.4      0.2   4.7\n",
       "1159  13/11/2017 02:00      969.5      0.2   5.4\n",
       "2338  25/11/2017 09:15      985.9      0.2   5.0\n",
       "2346  25/11/2017 11:15      984.6      0.2   5.0\n",
       "2347  25/11/2017 11:30      984.2      0.4   5.0\n",
       "2348  25/11/2017 11:45      984.1      0.2   4.8\n",
       "2349  25/11/2017 12:00      983.7      0.2   4.9\n",
       "2350  25/11/2017 12:15      983.6      0.2   4.9\n",
       "2352  25/11/2017 12:45      983.2      0.2   4.9\n",
       "2353  25/11/2017 13:00      983.0      0.2   5.0\n",
       "2354  25/11/2017 13:15      982.6      0.2   5.0\n",
       "2355  25/11/2017 13:30      982.5      0.2   4.9\n",
       "2356  25/11/2017 13:45      982.4      0.2   4.9\n",
       "2358  25/11/2017 14:15      982.0      0.2   4.8\n",
       "2359  25/11/2017 14:30      982.1      0.2   4.8\n",
       "2362  25/11/2017 15:15      981.5      0.2   4.9\n",
       "2363  25/11/2017 15:30      981.2      0.2   5.0\n",
       "2364  25/11/2017 15:45      981.1      0.2   5.0\n",
       "2366  25/11/2017 16:15      981.0      0.2   5.0\n",
       "2736  29/11/2017 12:45      978.0      0.2   0.9\n",
       "2754  29/11/2017 17:15      976.1      0.2   0.9\n",
       "2755  29/11/2017 17:30      975.9      0.2   0.9\n",
       "2802  30/11/2017 05:15      971.3      0.2   1.3\n",
       "2803  30/11/2017 05:30      971.3      0.2   1.1\n",
       "2804  30/11/2017 05:45      971.5      0.2   1.1\n",
       "\n",
       "[107 rows x 4 columns]"
      ]
     },
     "execution_count": 9,
     "metadata": {},
     "output_type": "execute_result"
    }
   ],
   "source": [
    "meteo[(meteo.Pioggia > 0)]"
   ]
  },
  {
   "cell_type": "markdown",
   "metadata": {},
   "source": [
    "## 4 - Rivediamo MatPlotLib\n"
   ]
  },
  {
   "cell_type": "code",
   "execution_count": 10,
   "metadata": {},
   "outputs": [],
   "source": [
    "import matplotlib as mpl\n",
    "import matplotlib.pyplot as plt\n",
    "%matplotlib inline"
   ]
  },
  {
   "cell_type": "markdown",
   "metadata": {},
   "source": [
    "**DA FARE 4.1**: Mettere in grafico l'andamento delle temperature del dataframe _meteo_"
   ]
  },
  {
   "cell_type": "code",
   "execution_count": 11,
   "metadata": {},
   "outputs": [
    {
     "data": {
      "text/plain": [
       "<matplotlib.axes._subplots.AxesSubplot at 0x7f779c978c50>"
      ]
     },
     "execution_count": 11,
     "metadata": {},
     "output_type": "execute_result"
    },
    {
     "data": {
      "image/png": "[encoded data removed]",
      "text/plain": [
       "<matplotlib.figure.Figure at 0x7f779c9c6ef0>"
      ]
     },
     "metadata": {},
     "output_type": "display_data"
    }
   ],
   "source": [
    "meteo.Temp.plot()"
   ]
  },
  {
   "cell_type": "markdown",
   "metadata": {},
   "source": [
    "**DA FARE 4.2**: Nello stesso grafico mostrare l'andamento della pressione e la quantità delle precipitazioni."
   ]
  },
  {
   "cell_type": "code",
   "execution_count": 12,
   "metadata": {},
   "outputs": [
    {
     "data": {
      "image/png": "[encoded data removed]",
      "text/plain": [
       "<matplotlib.figure.Figure at 0x7f779c6eb358>"
      ]
     },
     "metadata": {},
     "output_type": "display_data"
    }
   ],
   "source": [
    "meteo.Temp.plot(label=\"Temperatura\", legend=True)\n",
    "meteo.Pioggia.plot(label=\"Pioggia\", legend=True)\n",
    "meteo.Pressione.plot(secondary_y=True, label=\"Pressione\", legend=True);"
   ]
  },
  {
   "cell_type": "markdown",
   "metadata": {},
   "source": [
    "**DA FARE 4.3**: Calcolare la temperatura media giornaliera e mostrarla nel grafico.\n",
    "\n",
    "**SUGGERIMENTO 1**: aggiungere la colonna `'Giorno'` estraendo solo il giorno dalla data. Per farlo usare la funzione `.str` applicata a tutta la colonna.\n",
    "\n",
    "**SUGGERIMENTO 2**: Successivamente usare un ciclo `for` per ciclare sui giorni"
   ]
  },
  {
   "cell_type": "code",
   "execution_count": 13,
   "metadata": {},
   "outputs": [],
   "source": [
    "meteo['Giorno'] = meteo['Data'].str[0:10]"
   ]
  },
  {
   "cell_type": "code",
   "execution_count": 14,
   "metadata": {},
   "outputs": [
    {
     "data": {
      "text/html": [
       "<div>\n",
       "<table border=\"1\" class=\"dataframe\">\n",
       "  <thead>\n",
       "    <tr style=\"text-align: right;\">\n",
       "      <th></th>\n",
       "      <th>Data</th>\n",
       "      <th>Pressione</th>\n",
       "      <th>Pioggia</th>\n",
       "      <th>Temp</th>\n",
       "      <th>Giorno</th>\n",
       "    </tr>\n",
       "  </thead>\n",
       "  <tbody>\n",
       "    <tr>\n",
       "      <th>0</th>\n",
       "      <td>01/11/2017 00:00</td>\n",
       "      <td>995.4</td>\n",
       "      <td>0</td>\n",
       "      <td>5.4</td>\n",
       "      <td>01/11/2017</td>\n",
       "    </tr>\n",
       "    <tr>\n",
       "      <th>1</th>\n",
       "      <td>01/11/2017 00:15</td>\n",
       "      <td>995.5</td>\n",
       "      <td>0</td>\n",
       "      <td>6.0</td>\n",
       "      <td>01/11/2017</td>\n",
       "    </tr>\n",
       "    <tr>\n",
       "      <th>2</th>\n",
       "      <td>01/11/2017 00:30</td>\n",
       "      <td>995.5</td>\n",
       "      <td>0</td>\n",
       "      <td>5.9</td>\n",
       "      <td>01/11/2017</td>\n",
       "    </tr>\n",
       "    <tr>\n",
       "      <th>3</th>\n",
       "      <td>01/11/2017 00:45</td>\n",
       "      <td>995.7</td>\n",
       "      <td>0</td>\n",
       "      <td>5.4</td>\n",
       "      <td>01/11/2017</td>\n",
       "    </tr>\n",
       "    <tr>\n",
       "      <th>4</th>\n",
       "      <td>01/11/2017 01:00</td>\n",
       "      <td>995.7</td>\n",
       "      <td>0</td>\n",
       "      <td>5.3</td>\n",
       "      <td>01/11/2017</td>\n",
       "    </tr>\n",
       "  </tbody>\n",
       "</table>\n",
       "</div>"
      ],
      "text/plain": [
       "               Data  Pressione  Pioggia  Temp      Giorno\n",
       "0  01/11/2017 00:00      995.4        0   5.4  01/11/2017\n",
       "1  01/11/2017 00:15      995.5        0   6.0  01/11/2017\n",
       "2  01/11/2017 00:30      995.5        0   5.9  01/11/2017\n",
       "3  01/11/2017 00:45      995.7        0   5.4  01/11/2017\n",
       "4  01/11/2017 01:00      995.7        0   5.3  01/11/2017"
      ]
     },
     "execution_count": 14,
     "metadata": {},
     "output_type": "execute_result"
    }
   ],
   "source": [
    "meteo.head()"
   ]
  },
  {
   "cell_type": "code",
   "execution_count": 15,
   "metadata": {},
   "outputs": [],
   "source": [
    "for giorno in meteo['Giorno']:\n",
    "    temp_media_giorno = meteo[(meteo.Giorno == giorno)].Temp.values.mean()\n",
    "    meteo.loc[(meteo.Giorno == giorno),'Temp_media_giorno']= temp_media_giorno"
   ]
  },
  {
   "cell_type": "code",
   "execution_count": 16,
   "metadata": {},
   "outputs": [
    {
     "data": {
      "text/html": [
       "<div>\n",
       "<table border=\"1\" class=\"dataframe\">\n",
       "  <thead>\n",
       "    <tr style=\"text-align: right;\">\n",
       "      <th></th>\n",
       "      <th>Data</th>\n",
       "      <th>Pressione</th>\n",
       "      <th>Pioggia</th>\n",
       "      <th>Temp</th>\n",
       "      <th>Giorno</th>\n",
       "      <th>Temp_media_giorno</th>\n",
       "    </tr>\n",
       "  </thead>\n",
       "  <tbody>\n",
       "    <tr>\n",
       "      <th>0</th>\n",
       "      <td>01/11/2017 00:00</td>\n",
       "      <td>995.4</td>\n",
       "      <td>0</td>\n",
       "      <td>5.4</td>\n",
       "      <td>01/11/2017</td>\n",
       "      <td>7.983333</td>\n",
       "    </tr>\n",
       "    <tr>\n",
       "      <th>1</th>\n",
       "      <td>01/11/2017 00:15</td>\n",
       "      <td>995.5</td>\n",
       "      <td>0</td>\n",
       "      <td>6.0</td>\n",
       "      <td>01/11/2017</td>\n",
       "      <td>7.983333</td>\n",
       "    </tr>\n",
       "    <tr>\n",
       "      <th>2</th>\n",
       "      <td>01/11/2017 00:30</td>\n",
       "      <td>995.5</td>\n",
       "      <td>0</td>\n",
       "      <td>5.9</td>\n",
       "      <td>01/11/2017</td>\n",
       "      <td>7.983333</td>\n",
       "    </tr>\n",
       "    <tr>\n",
       "      <th>3</th>\n",
       "      <td>01/11/2017 00:45</td>\n",
       "      <td>995.7</td>\n",
       "      <td>0</td>\n",
       "      <td>5.4</td>\n",
       "      <td>01/11/2017</td>\n",
       "      <td>7.983333</td>\n",
       "    </tr>\n",
       "    <tr>\n",
       "      <th>4</th>\n",
       "      <td>01/11/2017 01:00</td>\n",
       "      <td>995.7</td>\n",
       "      <td>0</td>\n",
       "      <td>5.3</td>\n",
       "      <td>01/11/2017</td>\n",
       "      <td>7.983333</td>\n",
       "    </tr>\n",
       "  </tbody>\n",
       "</table>\n",
       "</div>"
      ],
      "text/plain": [
       "               Data  Pressione  Pioggia  Temp      Giorno  Temp_media_giorno\n",
       "0  01/11/2017 00:00      995.4        0   5.4  01/11/2017           7.983333\n",
       "1  01/11/2017 00:15      995.5        0   6.0  01/11/2017           7.983333\n",
       "2  01/11/2017 00:30      995.5        0   5.9  01/11/2017           7.983333\n",
       "3  01/11/2017 00:45      995.7        0   5.4  01/11/2017           7.983333\n",
       "4  01/11/2017 01:00      995.7        0   5.3  01/11/2017           7.983333"
      ]
     },
     "execution_count": 16,
     "metadata": {},
     "output_type": "execute_result"
    }
   ],
   "source": [
    "meteo.head()"
   ]
  },
  {
   "cell_type": "code",
   "execution_count": 17,
   "metadata": {},
   "outputs": [
    {
     "data": {
      "text/plain": [
       "<matplotlib.axes._subplots.AxesSubplot at 0x7f779c569438>"
      ]
     },
     "execution_count": 17,
     "metadata": {},
     "output_type": "execute_result"
    },
    {
     "data": {
      "image/png": "[encoded data removed]",
      "text/plain": [
       "<matplotlib.figure.Figure at 0x7f779c5eed30>"
      ]
     },
     "metadata": {},
     "output_type": "display_data"
    }
   ],
   "source": [
    "meteo.Temp.plot(label=\"Temperatura\", legend=True)\n",
    "meteo.Temp_media_giorno.plot(label=\"Temperatura media\", legend=True)"
   ]
  },
  {
   "cell_type": "code",
   "execution_count": null,
   "metadata": {},
   "outputs": [],
   "source": []
  }
 ],
 "metadata": {
  "kernelspec": {
   "display_name": "Python 3",
   "language": "python",
   "name": "python3"
  },
  "language_info": {
   "codemirror_mode": {
    "name": "ipython",
    "version": 3
   },
   "file_extension": ".py",
   "mimetype": "text/x-python",
   "name": "python",
   "nbconvert_exporter": "python",
   "pygments_lexer": "ipython3",
   "version": "3.5.2"
  }
 },
 "nbformat": 4,
 "nbformat_minor": 2
}
