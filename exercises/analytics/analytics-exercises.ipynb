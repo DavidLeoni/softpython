{
 "cells": [
  {
   "cell_type": "markdown",
   "metadata": {},
   "source": [
    "# Analisi dei dati: esercizi"
   ]
  },
  {
   "cell_type": "markdown",
   "metadata": {},
   "source": [
    "\n",
    "## 1. Introduzione\n",
    "\n",
    "\n",
    "Python mette a disposizione degli strumenti potenti per l'analisi dei dati:\n",
    "\n",
    "![](pydata.png)\n",
    "\n",
    "Uno di questi è [Pandas](https://pandas.pydata.org/), che fornisce strutture di dati veloci e flessibili, soprattutto per l'analisi dei dati in tempo reale.\n",
    "\n",
    "Installiamolo subito:\n",
    "\n",
    "Anaconda:\n",
    "\n",
    "- `conda install pandas`\n",
    "\n",
    "Linux/Mac (`--user` installa nella propria home):\n",
    "\n",
    "\n",
    "- ``` python3 -m pip install --user pandas ```\n"
   ]
  },
  {
   "cell_type": "markdown",
   "metadata": {},
   "source": [
    "## 2. Analisi dei dati di Astro Pi\n",
    "\n",
    "\n",
    "Proviamo ad analizzare i dati registrati dal Raspberry presente sulla Stazione Spaziale Internazionale, scaricati da qui:\n",
    "\n",
    "[raspberrypi.org/learning/astro-pi-flight-data-analysis/worksheet](https://www.raspberrypi.org/learning/astro-pi-flight-data-analysis/worksheet/)\n",
    "\n",
    "su cui è possibile trovare la descrizione dettagliata dei dati raccolti dai sensori, nel mese di febbraio 2016 (un record ogni 10 secondi).\n",
    "\n",
    "**DOMANDA**: Che licenza hanno i dati ? Riesci a trovarla da qualche parte ?   \n",
    "\n",
    "![](International_Space_Station_exploded_diagram_large.jpg)\n",
    "\n",
    "Il metodo ```read_csv``` importa i dati da un file CSV e li memorizza in una struttura DataFrame.\n",
    "\n",
    "In questo esercizio useremo il file [Columbus_Ed_astro_pi_datalog.csv](Columbus_Ed_astro_pi_datalog.csv)"
   ]
  },
  {
   "cell_type": "code",
   "execution_count": 1,
   "metadata": {},
   "outputs": [
    {
     "name": "stdout",
     "output_type": "stream",
     "text": [
      "<class 'pandas.core.frame.DataFrame'>\n",
      "Int64Index: 110869 entries, 0 to 110868\n",
      "Data columns (total 20 columns):\n",
      "ROW_ID        110869 non-null int64\n",
      "temp_cpu      110869 non-null float64\n",
      "temp_h        110869 non-null float64\n",
      "temp_p        110869 non-null float64\n",
      "humidity      110869 non-null float64\n",
      "pressure      110869 non-null float64\n",
      "pitch         110869 non-null float64\n",
      "roll          110869 non-null float64\n",
      "yaw           110869 non-null float64\n",
      "mag_x         110869 non-null float64\n",
      "mag_y         110869 non-null float64\n",
      "mag_z         110869 non-null float64\n",
      "accel_x       110869 non-null float64\n",
      "accel_y       110869 non-null float64\n",
      "accel_z       110869 non-null float64\n",
      "gyro_x        110869 non-null float64\n",
      "gyro_y        110869 non-null float64\n",
      "gyro_z        110869 non-null float64\n",
      "reset         110869 non-null int64\n",
      "time_stamp    110869 non-null object\n",
      "dtypes: float64(17), int64(2), object(1)\n",
      "memory usage: 17.8+ MB\n"
     ]
    }
   ],
   "source": [
    "import pandas as pd   # importiamo pandas e per comodità lo rinominiamo in  'pd'\n",
    "import numpy as np    # importiamo numpy e per comodità lo rinominiamo in 'np'\n",
    "\n",
    "# ricordatevi l'encoding !\n",
    "df = pd.read_csv('Columbus_Ed_astro_pi_datalog.csv', encoding='UTF-8')  \n",
    "df.info()"
   ]
  },
  {
   "cell_type": "markdown",
   "metadata": {},
   "source": [
    "Possiamo vedere rapidamente righe e colonne del dataframe con l'attributo `shape`:\n",
    "\n",
    "**NOTA**: `shape` non è seguito da parentesi tonde !"
   ]
  },
  {
   "cell_type": "code",
   "execution_count": 2,
   "metadata": {},
   "outputs": [
    {
     "data": {
      "text/plain": [
       "(110869, 20)"
      ]
     },
     "execution_count": 2,
     "metadata": {},
     "output_type": "execute_result"
    }
   ],
   "source": [
    "df.shape"
   ]
  },
  {
   "cell_type": "markdown",
   "metadata": {},
   "source": [
    "Il metodo `describe` vi da al volo tutta una serie di dati di riepilogo:\n",
    "\n",
    "* il conteggio delle righe\n",
    "* la media\n",
    "* [la deviazione standard](https://it.wikipedia.org/wiki/Scarto_quadratico_medio)\n",
    "* [i quartili](https://it.wikipedia.org/wiki/Quantile)\n",
    "* minimo e massimo"
   ]
  },
  {
   "cell_type": "code",
   "execution_count": 3,
   "metadata": {},
   "outputs": [
    {
     "data": {
      "text/html": [
       "<div>\n",
       "<table border=\"1\" class=\"dataframe\">\n",
       "  <thead>\n",
       "    <tr style=\"text-align: right;\">\n",
       "      <th></th>\n",
       "      <th>ROW_ID</th>\n",
       "      <th>temp_cpu</th>\n",
       "      <th>temp_h</th>\n",
       "      <th>temp_p</th>\n",
       "      <th>humidity</th>\n",
       "      <th>pressure</th>\n",
       "      <th>pitch</th>\n",
       "      <th>roll</th>\n",
       "      <th>yaw</th>\n",
       "      <th>mag_x</th>\n",
       "      <th>mag_y</th>\n",
       "      <th>mag_z</th>\n",
       "      <th>accel_x</th>\n",
       "      <th>accel_y</th>\n",
       "      <th>accel_z</th>\n",
       "      <th>gyro_x</th>\n",
       "      <th>gyro_y</th>\n",
       "      <th>gyro_z</th>\n",
       "      <th>reset</th>\n",
       "    </tr>\n",
       "  </thead>\n",
       "  <tbody>\n",
       "    <tr>\n",
       "      <th>count</th>\n",
       "      <td>110869.000000</td>\n",
       "      <td>110869.000000</td>\n",
       "      <td>110869.000000</td>\n",
       "      <td>110869.000000</td>\n",
       "      <td>110869.000000</td>\n",
       "      <td>110869.000000</td>\n",
       "      <td>110869.000000</td>\n",
       "      <td>110869.000000</td>\n",
       "      <td>110869.00000</td>\n",
       "      <td>110869.000000</td>\n",
       "      <td>110869.000000</td>\n",
       "      <td>110869.000000</td>\n",
       "      <td>110869.000000</td>\n",
       "      <td>110869.000000</td>\n",
       "      <td>110869.000000</td>\n",
       "      <td>1.108690e+05</td>\n",
       "      <td>110869.000000</td>\n",
       "      <td>1.108690e+05</td>\n",
       "      <td>110869.000000</td>\n",
       "    </tr>\n",
       "    <tr>\n",
       "      <th>mean</th>\n",
       "      <td>55435.000000</td>\n",
       "      <td>32.236259</td>\n",
       "      <td>28.101773</td>\n",
       "      <td>25.543272</td>\n",
       "      <td>46.252005</td>\n",
       "      <td>1008.126788</td>\n",
       "      <td>2.770553</td>\n",
       "      <td>51.807973</td>\n",
       "      <td>200.90126</td>\n",
       "      <td>-19.465265</td>\n",
       "      <td>-1.174493</td>\n",
       "      <td>-6.004529</td>\n",
       "      <td>-0.000630</td>\n",
       "      <td>0.018504</td>\n",
       "      <td>0.014512</td>\n",
       "      <td>-8.959493e-07</td>\n",
       "      <td>0.000007</td>\n",
       "      <td>-9.671594e-07</td>\n",
       "      <td>0.000180</td>\n",
       "    </tr>\n",
       "    <tr>\n",
       "      <th>std</th>\n",
       "      <td>32005.267835</td>\n",
       "      <td>0.360289</td>\n",
       "      <td>0.369256</td>\n",
       "      <td>0.380877</td>\n",
       "      <td>1.907273</td>\n",
       "      <td>3.093485</td>\n",
       "      <td>21.848940</td>\n",
       "      <td>2.085821</td>\n",
       "      <td>84.47763</td>\n",
       "      <td>28.120202</td>\n",
       "      <td>15.655121</td>\n",
       "      <td>8.552481</td>\n",
       "      <td>0.000224</td>\n",
       "      <td>0.000604</td>\n",
       "      <td>0.000312</td>\n",
       "      <td>2.807614e-03</td>\n",
       "      <td>0.002456</td>\n",
       "      <td>2.133104e-03</td>\n",
       "      <td>0.060065</td>\n",
       "    </tr>\n",
       "    <tr>\n",
       "      <th>min</th>\n",
       "      <td>1.000000</td>\n",
       "      <td>31.410000</td>\n",
       "      <td>27.200000</td>\n",
       "      <td>24.530000</td>\n",
       "      <td>42.270000</td>\n",
       "      <td>1001.560000</td>\n",
       "      <td>0.000000</td>\n",
       "      <td>30.890000</td>\n",
       "      <td>0.01000</td>\n",
       "      <td>-73.046240</td>\n",
       "      <td>-43.810030</td>\n",
       "      <td>-41.163040</td>\n",
       "      <td>-0.025034</td>\n",
       "      <td>-0.005903</td>\n",
       "      <td>-0.022900</td>\n",
       "      <td>-3.037930e-01</td>\n",
       "      <td>-0.378412</td>\n",
       "      <td>-2.970800e-01</td>\n",
       "      <td>0.000000</td>\n",
       "    </tr>\n",
       "    <tr>\n",
       "      <th>25%</th>\n",
       "      <td>27718.000000</td>\n",
       "      <td>31.960000</td>\n",
       "      <td>27.840000</td>\n",
       "      <td>25.260000</td>\n",
       "      <td>45.230000</td>\n",
       "      <td>1006.090000</td>\n",
       "      <td>1.140000</td>\n",
       "      <td>51.180000</td>\n",
       "      <td>162.43000</td>\n",
       "      <td>-41.742792</td>\n",
       "      <td>-12.982321</td>\n",
       "      <td>-11.238430</td>\n",
       "      <td>-0.000697</td>\n",
       "      <td>0.018009</td>\n",
       "      <td>0.014349</td>\n",
       "      <td>-2.750000e-04</td>\n",
       "      <td>-0.000278</td>\n",
       "      <td>-1.200000e-04</td>\n",
       "      <td>0.000000</td>\n",
       "    </tr>\n",
       "    <tr>\n",
       "      <th>50%</th>\n",
       "      <td>55435.000000</td>\n",
       "      <td>32.280000</td>\n",
       "      <td>28.110000</td>\n",
       "      <td>25.570000</td>\n",
       "      <td>46.130000</td>\n",
       "      <td>1007.650000</td>\n",
       "      <td>1.450000</td>\n",
       "      <td>51.950000</td>\n",
       "      <td>190.58000</td>\n",
       "      <td>-21.339485</td>\n",
       "      <td>-1.350467</td>\n",
       "      <td>-5.764400</td>\n",
       "      <td>-0.000631</td>\n",
       "      <td>0.018620</td>\n",
       "      <td>0.014510</td>\n",
       "      <td>-3.000000e-06</td>\n",
       "      <td>-0.000004</td>\n",
       "      <td>-1.000000e-06</td>\n",
       "      <td>0.000000</td>\n",
       "    </tr>\n",
       "    <tr>\n",
       "      <th>75%</th>\n",
       "      <td>83152.000000</td>\n",
       "      <td>32.480000</td>\n",
       "      <td>28.360000</td>\n",
       "      <td>25.790000</td>\n",
       "      <td>46.880000</td>\n",
       "      <td>1010.270000</td>\n",
       "      <td>1.740000</td>\n",
       "      <td>52.450000</td>\n",
       "      <td>256.34000</td>\n",
       "      <td>7.299000</td>\n",
       "      <td>11.912456</td>\n",
       "      <td>-0.653705</td>\n",
       "      <td>-0.000567</td>\n",
       "      <td>0.018940</td>\n",
       "      <td>0.014673</td>\n",
       "      <td>2.710000e-04</td>\n",
       "      <td>0.000271</td>\n",
       "      <td>1.190000e-04</td>\n",
       "      <td>0.000000</td>\n",
       "    </tr>\n",
       "    <tr>\n",
       "      <th>max</th>\n",
       "      <td>110869.000000</td>\n",
       "      <td>33.700000</td>\n",
       "      <td>29.280000</td>\n",
       "      <td>26.810000</td>\n",
       "      <td>60.590000</td>\n",
       "      <td>1021.780000</td>\n",
       "      <td>360.000000</td>\n",
       "      <td>359.400000</td>\n",
       "      <td>359.98000</td>\n",
       "      <td>33.134748</td>\n",
       "      <td>37.552135</td>\n",
       "      <td>31.003047</td>\n",
       "      <td>0.018708</td>\n",
       "      <td>0.041012</td>\n",
       "      <td>0.029938</td>\n",
       "      <td>2.151470e-01</td>\n",
       "      <td>0.389499</td>\n",
       "      <td>2.698760e-01</td>\n",
       "      <td>20.000000</td>\n",
       "    </tr>\n",
       "  </tbody>\n",
       "</table>\n",
       "</div>"
      ],
      "text/plain": [
       "              ROW_ID       temp_cpu         temp_h         temp_p  \\\n",
       "count  110869.000000  110869.000000  110869.000000  110869.000000   \n",
       "mean    55435.000000      32.236259      28.101773      25.543272   \n",
       "std     32005.267835       0.360289       0.369256       0.380877   \n",
       "min         1.000000      31.410000      27.200000      24.530000   \n",
       "25%     27718.000000      31.960000      27.840000      25.260000   \n",
       "50%     55435.000000      32.280000      28.110000      25.570000   \n",
       "75%     83152.000000      32.480000      28.360000      25.790000   \n",
       "max    110869.000000      33.700000      29.280000      26.810000   \n",
       "\n",
       "            humidity       pressure          pitch           roll  \\\n",
       "count  110869.000000  110869.000000  110869.000000  110869.000000   \n",
       "mean       46.252005    1008.126788       2.770553      51.807973   \n",
       "std         1.907273       3.093485      21.848940       2.085821   \n",
       "min        42.270000    1001.560000       0.000000      30.890000   \n",
       "25%        45.230000    1006.090000       1.140000      51.180000   \n",
       "50%        46.130000    1007.650000       1.450000      51.950000   \n",
       "75%        46.880000    1010.270000       1.740000      52.450000   \n",
       "max        60.590000    1021.780000     360.000000     359.400000   \n",
       "\n",
       "                yaw          mag_x          mag_y          mag_z  \\\n",
       "count  110869.00000  110869.000000  110869.000000  110869.000000   \n",
       "mean      200.90126     -19.465265      -1.174493      -6.004529   \n",
       "std        84.47763      28.120202      15.655121       8.552481   \n",
       "min         0.01000     -73.046240     -43.810030     -41.163040   \n",
       "25%       162.43000     -41.742792     -12.982321     -11.238430   \n",
       "50%       190.58000     -21.339485      -1.350467      -5.764400   \n",
       "75%       256.34000       7.299000      11.912456      -0.653705   \n",
       "max       359.98000      33.134748      37.552135      31.003047   \n",
       "\n",
       "             accel_x        accel_y        accel_z        gyro_x  \\\n",
       "count  110869.000000  110869.000000  110869.000000  1.108690e+05   \n",
       "mean       -0.000630       0.018504       0.014512 -8.959493e-07   \n",
       "std         0.000224       0.000604       0.000312  2.807614e-03   \n",
       "min        -0.025034      -0.005903      -0.022900 -3.037930e-01   \n",
       "25%        -0.000697       0.018009       0.014349 -2.750000e-04   \n",
       "50%        -0.000631       0.018620       0.014510 -3.000000e-06   \n",
       "75%        -0.000567       0.018940       0.014673  2.710000e-04   \n",
       "max         0.018708       0.041012       0.029938  2.151470e-01   \n",
       "\n",
       "              gyro_y        gyro_z          reset  \n",
       "count  110869.000000  1.108690e+05  110869.000000  \n",
       "mean        0.000007 -9.671594e-07       0.000180  \n",
       "std         0.002456  2.133104e-03       0.060065  \n",
       "min        -0.378412 -2.970800e-01       0.000000  \n",
       "25%        -0.000278 -1.200000e-04       0.000000  \n",
       "50%        -0.000004 -1.000000e-06       0.000000  \n",
       "75%         0.000271  1.190000e-04       0.000000  \n",
       "max         0.389499  2.698760e-01      20.000000  "
      ]
     },
     "execution_count": 3,
     "metadata": {},
     "output_type": "execute_result"
    }
   ],
   "source": [
    "df.describe()"
   ]
  },
  {
   "cell_type": "markdown",
   "metadata": {},
   "source": [
    "**DOMANDA**: Manca qualche campo alla tabella prodotta da describe? Perchè non l'ha incluso ? "
   ]
  },
  {
   "cell_type": "markdown",
   "metadata": {},
   "source": [
    "Per limitare `describe` ad una sola colonna come `humidity`, puoi scrivere così:"
   ]
  },
  {
   "cell_type": "code",
   "execution_count": 4,
   "metadata": {
    "scrolled": true
   },
   "outputs": [
    {
     "data": {
      "text/plain": [
       "count    110869.000000\n",
       "mean         46.252005\n",
       "std           1.907273\n",
       "min          42.270000\n",
       "25%          45.230000\n",
       "50%          46.130000\n",
       "75%          46.880000\n",
       "max          60.590000\n",
       "Name: humidity, dtype: float64"
      ]
     },
     "execution_count": 4,
     "metadata": {},
     "output_type": "execute_result"
    }
   ],
   "source": [
    "df['humidity'].describe()"
   ]
  },
  {
   "cell_type": "markdown",
   "metadata": {},
   "source": [
    "Ancora più comodamente, puoi usare la notazione con il punto:"
   ]
  },
  {
   "cell_type": "code",
   "execution_count": 5,
   "metadata": {},
   "outputs": [
    {
     "data": {
      "text/plain": [
       "count    110869.000000\n",
       "mean         46.252005\n",
       "std           1.907273\n",
       "min          42.270000\n",
       "25%          45.230000\n",
       "50%          46.130000\n",
       "75%          46.880000\n",
       "max          60.590000\n",
       "Name: humidity, dtype: float64"
      ]
     },
     "execution_count": 5,
     "metadata": {},
     "output_type": "execute_result"
    }
   ],
   "source": [
    "df.humidity.describe()"
   ]
  },
  {
   "cell_type": "markdown",
   "metadata": {},
   "source": [
    "**ATTENZIONE**: Nel caso il nome del campo avesse degli spazi (es. `'rotazioni frullatore'`), **non** potreste usare la notazione con il punto ma sareste costretti ad usare la notazione con le quadre vista sopra  (es: `df.['rotazioni frullatore'].describe()`)"
   ]
  },
  {
   "cell_type": "markdown",
   "metadata": {},
   "source": [
    "Il metodo `head` restituisce i primi dataset:"
   ]
  },
  {
   "cell_type": "code",
   "execution_count": 6,
   "metadata": {},
   "outputs": [
    {
     "data": {
      "text/html": [
       "<div>\n",
       "<table border=\"1\" class=\"dataframe\">\n",
       "  <thead>\n",
       "    <tr style=\"text-align: right;\">\n",
       "      <th></th>\n",
       "      <th>ROW_ID</th>\n",
       "      <th>temp_cpu</th>\n",
       "      <th>temp_h</th>\n",
       "      <th>temp_p</th>\n",
       "      <th>humidity</th>\n",
       "      <th>pressure</th>\n",
       "      <th>pitch</th>\n",
       "      <th>roll</th>\n",
       "      <th>yaw</th>\n",
       "      <th>mag_x</th>\n",
       "      <th>mag_y</th>\n",
       "      <th>mag_z</th>\n",
       "      <th>accel_x</th>\n",
       "      <th>accel_y</th>\n",
       "      <th>accel_z</th>\n",
       "      <th>gyro_x</th>\n",
       "      <th>gyro_y</th>\n",
       "      <th>gyro_z</th>\n",
       "      <th>reset</th>\n",
       "      <th>time_stamp</th>\n",
       "    </tr>\n",
       "  </thead>\n",
       "  <tbody>\n",
       "    <tr>\n",
       "      <th>0</th>\n",
       "      <td>1</td>\n",
       "      <td>31.88</td>\n",
       "      <td>27.57</td>\n",
       "      <td>25.01</td>\n",
       "      <td>44.94</td>\n",
       "      <td>1001.68</td>\n",
       "      <td>1.49</td>\n",
       "      <td>52.25</td>\n",
       "      <td>185.21</td>\n",
       "      <td>-46.422753</td>\n",
       "      <td>-8.132907</td>\n",
       "      <td>-12.129346</td>\n",
       "      <td>-0.000468</td>\n",
       "      <td>0.019439</td>\n",
       "      <td>0.014569</td>\n",
       "      <td>0.000942</td>\n",
       "      <td>0.000492</td>\n",
       "      <td>-0.000750</td>\n",
       "      <td>20</td>\n",
       "      <td>2016-02-16 10:44:40</td>\n",
       "    </tr>\n",
       "    <tr>\n",
       "      <th>1</th>\n",
       "      <td>2</td>\n",
       "      <td>31.79</td>\n",
       "      <td>27.53</td>\n",
       "      <td>25.01</td>\n",
       "      <td>45.12</td>\n",
       "      <td>1001.72</td>\n",
       "      <td>1.03</td>\n",
       "      <td>53.73</td>\n",
       "      <td>186.72</td>\n",
       "      <td>-48.778951</td>\n",
       "      <td>-8.304243</td>\n",
       "      <td>-12.943096</td>\n",
       "      <td>-0.000614</td>\n",
       "      <td>0.019436</td>\n",
       "      <td>0.014577</td>\n",
       "      <td>0.000218</td>\n",
       "      <td>-0.000005</td>\n",
       "      <td>-0.000235</td>\n",
       "      <td>0</td>\n",
       "      <td>2016-02-16 10:44:50</td>\n",
       "    </tr>\n",
       "    <tr>\n",
       "      <th>2</th>\n",
       "      <td>3</td>\n",
       "      <td>31.66</td>\n",
       "      <td>27.53</td>\n",
       "      <td>25.01</td>\n",
       "      <td>45.12</td>\n",
       "      <td>1001.72</td>\n",
       "      <td>1.24</td>\n",
       "      <td>53.57</td>\n",
       "      <td>186.21</td>\n",
       "      <td>-49.161878</td>\n",
       "      <td>-8.470832</td>\n",
       "      <td>-12.642772</td>\n",
       "      <td>-0.000569</td>\n",
       "      <td>0.019359</td>\n",
       "      <td>0.014357</td>\n",
       "      <td>0.000395</td>\n",
       "      <td>0.000600</td>\n",
       "      <td>-0.000003</td>\n",
       "      <td>0</td>\n",
       "      <td>2016-02-16 10:45:00</td>\n",
       "    </tr>\n",
       "    <tr>\n",
       "      <th>3</th>\n",
       "      <td>4</td>\n",
       "      <td>31.69</td>\n",
       "      <td>27.52</td>\n",
       "      <td>25.01</td>\n",
       "      <td>45.32</td>\n",
       "      <td>1001.69</td>\n",
       "      <td>1.57</td>\n",
       "      <td>53.63</td>\n",
       "      <td>186.03</td>\n",
       "      <td>-49.341941</td>\n",
       "      <td>-8.457380</td>\n",
       "      <td>-12.615509</td>\n",
       "      <td>-0.000575</td>\n",
       "      <td>0.019383</td>\n",
       "      <td>0.014409</td>\n",
       "      <td>0.000308</td>\n",
       "      <td>0.000577</td>\n",
       "      <td>-0.000102</td>\n",
       "      <td>0</td>\n",
       "      <td>2016-02-16 10:45:10</td>\n",
       "    </tr>\n",
       "    <tr>\n",
       "      <th>4</th>\n",
       "      <td>5</td>\n",
       "      <td>31.66</td>\n",
       "      <td>27.54</td>\n",
       "      <td>25.01</td>\n",
       "      <td>45.18</td>\n",
       "      <td>1001.71</td>\n",
       "      <td>0.85</td>\n",
       "      <td>53.66</td>\n",
       "      <td>186.46</td>\n",
       "      <td>-50.056683</td>\n",
       "      <td>-8.122609</td>\n",
       "      <td>-12.678341</td>\n",
       "      <td>-0.000548</td>\n",
       "      <td>0.019378</td>\n",
       "      <td>0.014380</td>\n",
       "      <td>0.000321</td>\n",
       "      <td>0.000691</td>\n",
       "      <td>0.000272</td>\n",
       "      <td>0</td>\n",
       "      <td>2016-02-16 10:45:20</td>\n",
       "    </tr>\n",
       "  </tbody>\n",
       "</table>\n",
       "</div>"
      ],
      "text/plain": [
       "   ROW_ID  temp_cpu  temp_h  temp_p  humidity  pressure  pitch   roll     yaw  \\\n",
       "0       1     31.88   27.57   25.01     44.94   1001.68   1.49  52.25  185.21   \n",
       "1       2     31.79   27.53   25.01     45.12   1001.72   1.03  53.73  186.72   \n",
       "2       3     31.66   27.53   25.01     45.12   1001.72   1.24  53.57  186.21   \n",
       "3       4     31.69   27.52   25.01     45.32   1001.69   1.57  53.63  186.03   \n",
       "4       5     31.66   27.54   25.01     45.18   1001.71   0.85  53.66  186.46   \n",
       "\n",
       "       mag_x     mag_y      mag_z   accel_x   accel_y   accel_z    gyro_x  \\\n",
       "0 -46.422753 -8.132907 -12.129346 -0.000468  0.019439  0.014569  0.000942   \n",
       "1 -48.778951 -8.304243 -12.943096 -0.000614  0.019436  0.014577  0.000218   \n",
       "2 -49.161878 -8.470832 -12.642772 -0.000569  0.019359  0.014357  0.000395   \n",
       "3 -49.341941 -8.457380 -12.615509 -0.000575  0.019383  0.014409  0.000308   \n",
       "4 -50.056683 -8.122609 -12.678341 -0.000548  0.019378  0.014380  0.000321   \n",
       "\n",
       "     gyro_y    gyro_z  reset           time_stamp  \n",
       "0  0.000492 -0.000750     20  2016-02-16 10:44:40  \n",
       "1 -0.000005 -0.000235      0  2016-02-16 10:44:50  \n",
       "2  0.000600 -0.000003      0  2016-02-16 10:45:00  \n",
       "3  0.000577 -0.000102      0  2016-02-16 10:45:10  \n",
       "4  0.000691  0.000272      0  2016-02-16 10:45:20  "
      ]
     },
     "execution_count": 6,
     "metadata": {},
     "output_type": "execute_result"
    }
   ],
   "source": [
    "df.head()"
   ]
  },
  {
   "cell_type": "markdown",
   "metadata": {},
   "source": [
    "Il metodo `tail` restituisce gli ultimi dataset:"
   ]
  },
  {
   "cell_type": "code",
   "execution_count": 7,
   "metadata": {},
   "outputs": [
    {
     "data": {
      "text/html": [
       "<div>\n",
       "<table border=\"1\" class=\"dataframe\">\n",
       "  <thead>\n",
       "    <tr style=\"text-align: right;\">\n",
       "      <th></th>\n",
       "      <th>ROW_ID</th>\n",
       "      <th>temp_cpu</th>\n",
       "      <th>temp_h</th>\n",
       "      <th>temp_p</th>\n",
       "      <th>humidity</th>\n",
       "      <th>pressure</th>\n",
       "      <th>pitch</th>\n",
       "      <th>roll</th>\n",
       "      <th>yaw</th>\n",
       "      <th>mag_x</th>\n",
       "      <th>mag_y</th>\n",
       "      <th>mag_z</th>\n",
       "      <th>accel_x</th>\n",
       "      <th>accel_y</th>\n",
       "      <th>accel_z</th>\n",
       "      <th>gyro_x</th>\n",
       "      <th>gyro_y</th>\n",
       "      <th>gyro_z</th>\n",
       "      <th>reset</th>\n",
       "      <th>time_stamp</th>\n",
       "    </tr>\n",
       "  </thead>\n",
       "  <tbody>\n",
       "    <tr>\n",
       "      <th>110864</th>\n",
       "      <td>110865</td>\n",
       "      <td>31.56</td>\n",
       "      <td>27.52</td>\n",
       "      <td>24.83</td>\n",
       "      <td>42.94</td>\n",
       "      <td>1005.83</td>\n",
       "      <td>1.58</td>\n",
       "      <td>49.93</td>\n",
       "      <td>129.60</td>\n",
       "      <td>-15.169673</td>\n",
       "      <td>-27.642610</td>\n",
       "      <td>1.563183</td>\n",
       "      <td>-0.000682</td>\n",
       "      <td>0.017743</td>\n",
       "      <td>0.014646</td>\n",
       "      <td>-0.000264</td>\n",
       "      <td>0.000206</td>\n",
       "      <td>0.000196</td>\n",
       "      <td>0</td>\n",
       "      <td>2016-02-29 09:24:21</td>\n",
       "    </tr>\n",
       "    <tr>\n",
       "      <th>110865</th>\n",
       "      <td>110866</td>\n",
       "      <td>31.55</td>\n",
       "      <td>27.50</td>\n",
       "      <td>24.83</td>\n",
       "      <td>42.72</td>\n",
       "      <td>1005.85</td>\n",
       "      <td>1.89</td>\n",
       "      <td>49.92</td>\n",
       "      <td>130.51</td>\n",
       "      <td>-15.832622</td>\n",
       "      <td>-27.729389</td>\n",
       "      <td>1.785682</td>\n",
       "      <td>-0.000736</td>\n",
       "      <td>0.017570</td>\n",
       "      <td>0.014855</td>\n",
       "      <td>0.000143</td>\n",
       "      <td>0.000199</td>\n",
       "      <td>-0.000024</td>\n",
       "      <td>0</td>\n",
       "      <td>2016-02-29 09:24:30</td>\n",
       "    </tr>\n",
       "    <tr>\n",
       "      <th>110866</th>\n",
       "      <td>110867</td>\n",
       "      <td>31.58</td>\n",
       "      <td>27.50</td>\n",
       "      <td>24.83</td>\n",
       "      <td>42.83</td>\n",
       "      <td>1005.85</td>\n",
       "      <td>2.09</td>\n",
       "      <td>50.00</td>\n",
       "      <td>132.04</td>\n",
       "      <td>-16.646212</td>\n",
       "      <td>-27.719479</td>\n",
       "      <td>1.629533</td>\n",
       "      <td>-0.000647</td>\n",
       "      <td>0.017657</td>\n",
       "      <td>0.014799</td>\n",
       "      <td>0.000537</td>\n",
       "      <td>0.000257</td>\n",
       "      <td>0.000057</td>\n",
       "      <td>0</td>\n",
       "      <td>2016-02-29 09:24:41</td>\n",
       "    </tr>\n",
       "    <tr>\n",
       "      <th>110867</th>\n",
       "      <td>110868</td>\n",
       "      <td>31.62</td>\n",
       "      <td>27.50</td>\n",
       "      <td>24.83</td>\n",
       "      <td>42.81</td>\n",
       "      <td>1005.88</td>\n",
       "      <td>2.88</td>\n",
       "      <td>49.69</td>\n",
       "      <td>133.00</td>\n",
       "      <td>-17.270447</td>\n",
       "      <td>-27.793136</td>\n",
       "      <td>1.703806</td>\n",
       "      <td>-0.000835</td>\n",
       "      <td>0.017635</td>\n",
       "      <td>0.014877</td>\n",
       "      <td>0.000534</td>\n",
       "      <td>0.000456</td>\n",
       "      <td>0.000195</td>\n",
       "      <td>0</td>\n",
       "      <td>2016-02-29 09:24:50</td>\n",
       "    </tr>\n",
       "    <tr>\n",
       "      <th>110868</th>\n",
       "      <td>110869</td>\n",
       "      <td>31.57</td>\n",
       "      <td>27.51</td>\n",
       "      <td>24.83</td>\n",
       "      <td>42.94</td>\n",
       "      <td>1005.86</td>\n",
       "      <td>2.17</td>\n",
       "      <td>49.77</td>\n",
       "      <td>134.18</td>\n",
       "      <td>-17.885872</td>\n",
       "      <td>-27.824149</td>\n",
       "      <td>1.293345</td>\n",
       "      <td>-0.000787</td>\n",
       "      <td>0.017261</td>\n",
       "      <td>0.014380</td>\n",
       "      <td>0.000459</td>\n",
       "      <td>0.000076</td>\n",
       "      <td>0.000030</td>\n",
       "      <td>0</td>\n",
       "      <td>2016-02-29 09:25:00</td>\n",
       "    </tr>\n",
       "  </tbody>\n",
       "</table>\n",
       "</div>"
      ],
      "text/plain": [
       "        ROW_ID  temp_cpu  temp_h  temp_p  humidity  pressure  pitch   roll  \\\n",
       "110864  110865     31.56   27.52   24.83     42.94   1005.83   1.58  49.93   \n",
       "110865  110866     31.55   27.50   24.83     42.72   1005.85   1.89  49.92   \n",
       "110866  110867     31.58   27.50   24.83     42.83   1005.85   2.09  50.00   \n",
       "110867  110868     31.62   27.50   24.83     42.81   1005.88   2.88  49.69   \n",
       "110868  110869     31.57   27.51   24.83     42.94   1005.86   2.17  49.77   \n",
       "\n",
       "           yaw      mag_x      mag_y     mag_z   accel_x   accel_y   accel_z  \\\n",
       "110864  129.60 -15.169673 -27.642610  1.563183 -0.000682  0.017743  0.014646   \n",
       "110865  130.51 -15.832622 -27.729389  1.785682 -0.000736  0.017570  0.014855   \n",
       "110866  132.04 -16.646212 -27.719479  1.629533 -0.000647  0.017657  0.014799   \n",
       "110867  133.00 -17.270447 -27.793136  1.703806 -0.000835  0.017635  0.014877   \n",
       "110868  134.18 -17.885872 -27.824149  1.293345 -0.000787  0.017261  0.014380   \n",
       "\n",
       "          gyro_x    gyro_y    gyro_z  reset           time_stamp  \n",
       "110864 -0.000264  0.000206  0.000196      0  2016-02-29 09:24:21  \n",
       "110865  0.000143  0.000199 -0.000024      0  2016-02-29 09:24:30  \n",
       "110866  0.000537  0.000257  0.000057      0  2016-02-29 09:24:41  \n",
       "110867  0.000534  0.000456  0.000195      0  2016-02-29 09:24:50  \n",
       "110868  0.000459  0.000076  0.000030      0  2016-02-29 09:25:00  "
      ]
     },
     "execution_count": 7,
     "metadata": {},
     "output_type": "execute_result"
    }
   ],
   "source": [
    "df.tail()"
   ]
  },
  {
   "cell_type": "markdown",
   "metadata": {},
   "source": [
    "La proprietà `colums` restituisce le intestazioni di colonna:"
   ]
  },
  {
   "cell_type": "code",
   "execution_count": 8,
   "metadata": {},
   "outputs": [
    {
     "data": {
      "text/plain": [
       "Index(['ROW_ID', 'temp_cpu', 'temp_h', 'temp_p', 'humidity', 'pressure',\n",
       "       'pitch', 'roll', 'yaw', 'mag_x', 'mag_y', 'mag_z', 'accel_x', 'accel_y',\n",
       "       'accel_z', 'gyro_x', 'gyro_y', 'gyro_z', 'reset', 'time_stamp'],\n",
       "      dtype='object')"
      ]
     },
     "execution_count": 8,
     "metadata": {},
     "output_type": "execute_result"
    }
   ],
   "source": [
    "df.columns"
   ]
  },
  {
   "cell_type": "markdown",
   "metadata": {},
   "source": [
    "**Nota**: Come si vede qua sopra, il tipo dell'oggetto ritornato non è una lista, ma un contenitore speciale definito da pandas:"
   ]
  },
  {
   "cell_type": "code",
   "execution_count": 9,
   "metadata": {},
   "outputs": [
    {
     "data": {
      "text/plain": [
       "pandas.core.index.Index"
      ]
     },
     "execution_count": 9,
     "metadata": {},
     "output_type": "execute_result"
    }
   ],
   "source": [
    "type(df.columns)"
   ]
  },
  {
   "cell_type": "markdown",
   "metadata": {},
   "source": [
    "Ciononostante, possiamo accedere agli elementi di questo contenitore usando indici dentro le parentesi quadre:"
   ]
  },
  {
   "cell_type": "code",
   "execution_count": 10,
   "metadata": {},
   "outputs": [
    {
     "data": {
      "text/plain": [
       "'ROW_ID'"
      ]
     },
     "execution_count": 10,
     "metadata": {},
     "output_type": "execute_result"
    }
   ],
   "source": [
    "df.columns[0]"
   ]
  },
  {
   "cell_type": "code",
   "execution_count": 11,
   "metadata": {},
   "outputs": [
    {
     "data": {
      "text/plain": [
       "'temp_cpu'"
      ]
     },
     "execution_count": 11,
     "metadata": {},
     "output_type": "execute_result"
    }
   ],
   "source": [
    "df.columns[1]"
   ]
  },
  {
   "cell_type": "markdown",
   "metadata": {},
   "source": [
    "**2.1 DA FARE**: Creare un nuovo dataframe chiamato ```meteo``` importando i dati dal file meteo.csv, che contiene i dati meteo di Trento di novembre 2017 (fonte: https://www.meteotrentino.it). **IMPORTANTE**: assegna il dataframe ad una variabile chiamata `meteo` (così evitiamo confusione con il dataframe dell'AstroPi)\n",
    "\n",
    "**2.2 DA FARE**: Visualizzare le informazioni relative a questo Dataframe."
   ]
  },
  {
   "cell_type": "code",
   "execution_count": 12,
   "metadata": {},
   "outputs": [],
   "source": [
    "# Crea qua il dataframe\n",
    "\n"
   ]
  },
  {
   "cell_type": "markdown",
   "metadata": {},
   "source": [
    "## 3. Indicizzazione, filtraggio e ordinamento\n"
   ]
  },
  {
   "cell_type": "markdown",
   "metadata": {},
   "source": [
    "Per ottenere la i-esima serie si utilizza il metodo `iloc[i]` (qui riusiamo il dataset dell'AstroPI) :"
   ]
  },
  {
   "cell_type": "code",
   "execution_count": 13,
   "metadata": {
    "scrolled": false
   },
   "outputs": [
    {
     "data": {
      "text/plain": [
       "ROW_ID                          7\n",
       "temp_cpu                    31.68\n",
       "temp_h                      27.53\n",
       "temp_p                      25.01\n",
       "humidity                    45.31\n",
       "pressure                   1001.7\n",
       "pitch                        0.63\n",
       "roll                        53.55\n",
       "yaw                         186.1\n",
       "mag_x                    -50.4473\n",
       "mag_y                    -7.93731\n",
       "mag_z                    -12.1886\n",
       "accel_x                  -0.00051\n",
       "accel_y                  0.019264\n",
       "accel_z                  0.014528\n",
       "gyro_x                  -0.000111\n",
       "gyro_y                    0.00032\n",
       "gyro_z                   0.000222\n",
       "reset                           0\n",
       "time_stamp    2016-02-16 10:45:41\n",
       "Name: 6, dtype: object"
      ]
     },
     "execution_count": 13,
     "metadata": {},
     "output_type": "execute_result"
    }
   ],
   "source": [
    "df.iloc[6]"
   ]
  },
  {
   "cell_type": "markdown",
   "metadata": {},
   "source": [
    "&Egrave; possibile selezionare un dataframe di posizioni contigue, utilizzando lo _slicing_ (vedere [libro Pensare in Python](https://davidleoni.github.io/ThinkPythonItalian/html/thinkpython2009.html#sec98)).\n",
    "\n",
    "Qua per esempio selezioniamo le righe dalla 5 _inclusa_ alla 7 _esclusa_ :"
   ]
  },
  {
   "cell_type": "code",
   "execution_count": 14,
   "metadata": {},
   "outputs": [
    {
     "data": {
      "text/html": [
       "<div>\n",
       "<table border=\"1\" class=\"dataframe\">\n",
       "  <thead>\n",
       "    <tr style=\"text-align: right;\">\n",
       "      <th></th>\n",
       "      <th>ROW_ID</th>\n",
       "      <th>temp_cpu</th>\n",
       "      <th>temp_h</th>\n",
       "      <th>temp_p</th>\n",
       "      <th>humidity</th>\n",
       "      <th>pressure</th>\n",
       "      <th>pitch</th>\n",
       "      <th>roll</th>\n",
       "      <th>yaw</th>\n",
       "      <th>mag_x</th>\n",
       "      <th>mag_y</th>\n",
       "      <th>mag_z</th>\n",
       "      <th>accel_x</th>\n",
       "      <th>accel_y</th>\n",
       "      <th>accel_z</th>\n",
       "      <th>gyro_x</th>\n",
       "      <th>gyro_y</th>\n",
       "      <th>gyro_z</th>\n",
       "      <th>reset</th>\n",
       "      <th>time_stamp</th>\n",
       "    </tr>\n",
       "  </thead>\n",
       "  <tbody>\n",
       "    <tr>\n",
       "      <th>5</th>\n",
       "      <td>6</td>\n",
       "      <td>31.69</td>\n",
       "      <td>27.55</td>\n",
       "      <td>25.01</td>\n",
       "      <td>45.12</td>\n",
       "      <td>1001.67</td>\n",
       "      <td>0.85</td>\n",
       "      <td>53.53</td>\n",
       "      <td>185.52</td>\n",
       "      <td>-50.246476</td>\n",
       "      <td>-8.343209</td>\n",
       "      <td>-11.938124</td>\n",
       "      <td>-0.000536</td>\n",
       "      <td>0.019453</td>\n",
       "      <td>0.014380</td>\n",
       "      <td>0.000273</td>\n",
       "      <td>0.000494</td>\n",
       "      <td>-0.000059</td>\n",
       "      <td>0</td>\n",
       "      <td>2016-02-16 10:45:30</td>\n",
       "    </tr>\n",
       "    <tr>\n",
       "      <th>6</th>\n",
       "      <td>7</td>\n",
       "      <td>31.68</td>\n",
       "      <td>27.53</td>\n",
       "      <td>25.01</td>\n",
       "      <td>45.31</td>\n",
       "      <td>1001.70</td>\n",
       "      <td>0.63</td>\n",
       "      <td>53.55</td>\n",
       "      <td>186.10</td>\n",
       "      <td>-50.447346</td>\n",
       "      <td>-7.937309</td>\n",
       "      <td>-12.188574</td>\n",
       "      <td>-0.000510</td>\n",
       "      <td>0.019264</td>\n",
       "      <td>0.014528</td>\n",
       "      <td>-0.000111</td>\n",
       "      <td>0.000320</td>\n",
       "      <td>0.000222</td>\n",
       "      <td>0</td>\n",
       "      <td>2016-02-16 10:45:41</td>\n",
       "    </tr>\n",
       "  </tbody>\n",
       "</table>\n",
       "</div>"
      ],
      "text/plain": [
       "   ROW_ID  temp_cpu  temp_h  temp_p  humidity  pressure  pitch   roll     yaw  \\\n",
       "5       6     31.69   27.55   25.01     45.12   1001.67   0.85  53.53  185.52   \n",
       "6       7     31.68   27.53   25.01     45.31   1001.70   0.63  53.55  186.10   \n",
       "\n",
       "       mag_x     mag_y      mag_z   accel_x   accel_y   accel_z    gyro_x  \\\n",
       "5 -50.246476 -8.343209 -11.938124 -0.000536  0.019453  0.014380  0.000273   \n",
       "6 -50.447346 -7.937309 -12.188574 -0.000510  0.019264  0.014528 -0.000111   \n",
       "\n",
       "     gyro_y    gyro_z  reset           time_stamp  \n",
       "5  0.000494 -0.000059      0  2016-02-16 10:45:30  \n",
       "6  0.000320  0.000222      0  2016-02-16 10:45:41  "
      ]
     },
     "execution_count": 14,
     "metadata": {},
     "output_type": "execute_result"
    }
   ],
   "source": [
    "df.iloc[5:7]"
   ]
  },
  {
   "cell_type": "markdown",
   "metadata": {},
   "source": [
    "&Egrave; possibile filtrare i dati in base al soddisfacimento di una condizione.\n",
    "\n",
    "Possiamo scoprire che tipo di dato &egrave; ad esempio ```df.ROW_ID >= 6```:"
   ]
  },
  {
   "cell_type": "code",
   "execution_count": 15,
   "metadata": {},
   "outputs": [
    {
     "data": {
      "text/plain": [
       "pandas.core.series.Series"
      ]
     },
     "execution_count": 15,
     "metadata": {},
     "output_type": "execute_result"
    }
   ],
   "source": [
    "type(df.ROW_ID >= 6)"
   ]
  },
  {
   "cell_type": "markdown",
   "metadata": {},
   "source": [
    "Cosa contiene questo oggetto `Series` ? Se proviamo a stamparlo vedremo che si tratta di una serie di valori Vero o Falso, a seconda se il valore di ROW_ID è maggiore o uguale a 6:"
   ]
  },
  {
   "cell_type": "code",
   "execution_count": 16,
   "metadata": {},
   "outputs": [
    {
     "data": {
      "text/plain": [
       "0         False\n",
       "1         False\n",
       "2         False\n",
       "3         False\n",
       "4         False\n",
       "5          True\n",
       "6          True\n",
       "7          True\n",
       "8          True\n",
       "9          True\n",
       "10         True\n",
       "11         True\n",
       "12         True\n",
       "13         True\n",
       "14         True\n",
       "15         True\n",
       "16         True\n",
       "17         True\n",
       "18         True\n",
       "19         True\n",
       "20         True\n",
       "21         True\n",
       "22         True\n",
       "23         True\n",
       "24         True\n",
       "25         True\n",
       "26         True\n",
       "27         True\n",
       "28         True\n",
       "29         True\n",
       "          ...  \n",
       "110839     True\n",
       "110840     True\n",
       "110841     True\n",
       "110842     True\n",
       "110843     True\n",
       "110844     True\n",
       "110845     True\n",
       "110846     True\n",
       "110847     True\n",
       "110848     True\n",
       "110849     True\n",
       "110850     True\n",
       "110851     True\n",
       "110852     True\n",
       "110853     True\n",
       "110854     True\n",
       "110855     True\n",
       "110856     True\n",
       "110857     True\n",
       "110858     True\n",
       "110859     True\n",
       "110860     True\n",
       "110861     True\n",
       "110862     True\n",
       "110863     True\n",
       "110864     True\n",
       "110865     True\n",
       "110866     True\n",
       "110867     True\n",
       "110868     True\n",
       "Name: ROW_ID, dtype: bool"
      ]
     },
     "execution_count": 16,
     "metadata": {},
     "output_type": "execute_result"
    }
   ],
   "source": [
    "df.ROW_ID >= 6"
   ]
  },
  {
   "cell_type": "markdown",
   "metadata": {},
   "source": [
    "In modo analogo `(df.ROW_ID >= 6) & (df.ROW_ID <= 10)` è una serie di valori Vero o Falso, se ROW_ID è contemporaneamente maggiore o uguale a 6 e minore e uguale a 10."
   ]
  },
  {
   "cell_type": "code",
   "execution_count": 17,
   "metadata": {},
   "outputs": [
    {
     "data": {
      "text/plain": [
       "pandas.core.series.Series"
      ]
     },
     "execution_count": 17,
     "metadata": {},
     "output_type": "execute_result"
    }
   ],
   "source": [
    "type((df.ROW_ID >= 6) & (df.ROW_ID <= 10))"
   ]
  },
  {
   "cell_type": "markdown",
   "metadata": {},
   "source": [
    "Se vogliamo le righe complete del dataframe che soddisfano la condizione, possiamo scrivere così: "
   ]
  },
  {
   "cell_type": "code",
   "execution_count": 18,
   "metadata": {
    "scrolled": false
   },
   "outputs": [
    {
     "data": {
      "text/html": [
       "<div>\n",
       "<table border=\"1\" class=\"dataframe\">\n",
       "  <thead>\n",
       "    <tr style=\"text-align: right;\">\n",
       "      <th></th>\n",
       "      <th>ROW_ID</th>\n",
       "      <th>temp_cpu</th>\n",
       "      <th>temp_h</th>\n",
       "      <th>temp_p</th>\n",
       "      <th>humidity</th>\n",
       "      <th>pressure</th>\n",
       "      <th>pitch</th>\n",
       "      <th>roll</th>\n",
       "      <th>yaw</th>\n",
       "      <th>mag_x</th>\n",
       "      <th>mag_y</th>\n",
       "      <th>mag_z</th>\n",
       "      <th>accel_x</th>\n",
       "      <th>accel_y</th>\n",
       "      <th>accel_z</th>\n",
       "      <th>gyro_x</th>\n",
       "      <th>gyro_y</th>\n",
       "      <th>gyro_z</th>\n",
       "      <th>reset</th>\n",
       "      <th>time_stamp</th>\n",
       "    </tr>\n",
       "  </thead>\n",
       "  <tbody>\n",
       "    <tr>\n",
       "      <th>5</th>\n",
       "      <td>6</td>\n",
       "      <td>31.69</td>\n",
       "      <td>27.55</td>\n",
       "      <td>25.01</td>\n",
       "      <td>45.12</td>\n",
       "      <td>1001.67</td>\n",
       "      <td>0.85</td>\n",
       "      <td>53.53</td>\n",
       "      <td>185.52</td>\n",
       "      <td>-50.246476</td>\n",
       "      <td>-8.343209</td>\n",
       "      <td>-11.938124</td>\n",
       "      <td>-0.000536</td>\n",
       "      <td>0.019453</td>\n",
       "      <td>0.014380</td>\n",
       "      <td>0.000273</td>\n",
       "      <td>0.000494</td>\n",
       "      <td>-0.000059</td>\n",
       "      <td>0</td>\n",
       "      <td>2016-02-16 10:45:30</td>\n",
       "    </tr>\n",
       "    <tr>\n",
       "      <th>6</th>\n",
       "      <td>7</td>\n",
       "      <td>31.68</td>\n",
       "      <td>27.53</td>\n",
       "      <td>25.01</td>\n",
       "      <td>45.31</td>\n",
       "      <td>1001.70</td>\n",
       "      <td>0.63</td>\n",
       "      <td>53.55</td>\n",
       "      <td>186.10</td>\n",
       "      <td>-50.447346</td>\n",
       "      <td>-7.937309</td>\n",
       "      <td>-12.188574</td>\n",
       "      <td>-0.000510</td>\n",
       "      <td>0.019264</td>\n",
       "      <td>0.014528</td>\n",
       "      <td>-0.000111</td>\n",
       "      <td>0.000320</td>\n",
       "      <td>0.000222</td>\n",
       "      <td>0</td>\n",
       "      <td>2016-02-16 10:45:41</td>\n",
       "    </tr>\n",
       "    <tr>\n",
       "      <th>7</th>\n",
       "      <td>8</td>\n",
       "      <td>31.66</td>\n",
       "      <td>27.55</td>\n",
       "      <td>25.01</td>\n",
       "      <td>45.34</td>\n",
       "      <td>1001.70</td>\n",
       "      <td>1.49</td>\n",
       "      <td>53.65</td>\n",
       "      <td>186.08</td>\n",
       "      <td>-50.668232</td>\n",
       "      <td>-7.762600</td>\n",
       "      <td>-12.284196</td>\n",
       "      <td>-0.000523</td>\n",
       "      <td>0.019473</td>\n",
       "      <td>0.014298</td>\n",
       "      <td>-0.000044</td>\n",
       "      <td>0.000436</td>\n",
       "      <td>0.000301</td>\n",
       "      <td>0</td>\n",
       "      <td>2016-02-16 10:45:50</td>\n",
       "    </tr>\n",
       "    <tr>\n",
       "      <th>8</th>\n",
       "      <td>9</td>\n",
       "      <td>31.67</td>\n",
       "      <td>27.54</td>\n",
       "      <td>25.01</td>\n",
       "      <td>45.20</td>\n",
       "      <td>1001.72</td>\n",
       "      <td>1.22</td>\n",
       "      <td>53.77</td>\n",
       "      <td>186.55</td>\n",
       "      <td>-50.761529</td>\n",
       "      <td>-7.262934</td>\n",
       "      <td>-11.981090</td>\n",
       "      <td>-0.000522</td>\n",
       "      <td>0.019385</td>\n",
       "      <td>0.014286</td>\n",
       "      <td>0.000358</td>\n",
       "      <td>0.000651</td>\n",
       "      <td>0.000187</td>\n",
       "      <td>0</td>\n",
       "      <td>2016-02-16 10:46:01</td>\n",
       "    </tr>\n",
       "    <tr>\n",
       "      <th>9</th>\n",
       "      <td>10</td>\n",
       "      <td>31.67</td>\n",
       "      <td>27.54</td>\n",
       "      <td>25.01</td>\n",
       "      <td>45.41</td>\n",
       "      <td>1001.75</td>\n",
       "      <td>1.63</td>\n",
       "      <td>53.46</td>\n",
       "      <td>185.94</td>\n",
       "      <td>-51.243832</td>\n",
       "      <td>-6.875270</td>\n",
       "      <td>-11.672494</td>\n",
       "      <td>-0.000581</td>\n",
       "      <td>0.019390</td>\n",
       "      <td>0.014441</td>\n",
       "      <td>0.000266</td>\n",
       "      <td>0.000676</td>\n",
       "      <td>0.000356</td>\n",
       "      <td>0</td>\n",
       "      <td>2016-02-16 10:46:10</td>\n",
       "    </tr>\n",
       "  </tbody>\n",
       "</table>\n",
       "</div>"
      ],
      "text/plain": [
       "   ROW_ID  temp_cpu  temp_h  temp_p  humidity  pressure  pitch   roll     yaw  \\\n",
       "5       6     31.69   27.55   25.01     45.12   1001.67   0.85  53.53  185.52   \n",
       "6       7     31.68   27.53   25.01     45.31   1001.70   0.63  53.55  186.10   \n",
       "7       8     31.66   27.55   25.01     45.34   1001.70   1.49  53.65  186.08   \n",
       "8       9     31.67   27.54   25.01     45.20   1001.72   1.22  53.77  186.55   \n",
       "9      10     31.67   27.54   25.01     45.41   1001.75   1.63  53.46  185.94   \n",
       "\n",
       "       mag_x     mag_y      mag_z   accel_x   accel_y   accel_z    gyro_x  \\\n",
       "5 -50.246476 -8.343209 -11.938124 -0.000536  0.019453  0.014380  0.000273   \n",
       "6 -50.447346 -7.937309 -12.188574 -0.000510  0.019264  0.014528 -0.000111   \n",
       "7 -50.668232 -7.762600 -12.284196 -0.000523  0.019473  0.014298 -0.000044   \n",
       "8 -50.761529 -7.262934 -11.981090 -0.000522  0.019385  0.014286  0.000358   \n",
       "9 -51.243832 -6.875270 -11.672494 -0.000581  0.019390  0.014441  0.000266   \n",
       "\n",
       "     gyro_y    gyro_z  reset           time_stamp  \n",
       "5  0.000494 -0.000059      0  2016-02-16 10:45:30  \n",
       "6  0.000320  0.000222      0  2016-02-16 10:45:41  \n",
       "7  0.000436  0.000301      0  2016-02-16 10:45:50  \n",
       "8  0.000651  0.000187      0  2016-02-16 10:46:01  \n",
       "9  0.000676  0.000356      0  2016-02-16 10:46:10  "
      ]
     },
     "execution_count": 18,
     "metadata": {},
     "output_type": "execute_result"
    }
   ],
   "source": [
    "df[(df.ROW_ID >= 6) & (df.ROW_ID <= 10)]"
   ]
  },
  {
   "cell_type": "markdown",
   "metadata": {},
   "source": [
    "Quindi se cerchiamo il record in cui la pressione è massima, utilizziamo la proprietà ```values``` della serie su cui calcoliamo il valore massimo:"
   ]
  },
  {
   "cell_type": "code",
   "execution_count": 19,
   "metadata": {
    "scrolled": false
   },
   "outputs": [
    {
     "data": {
      "text/html": [
       "<div>\n",
       "<table border=\"1\" class=\"dataframe\">\n",
       "  <thead>\n",
       "    <tr style=\"text-align: right;\">\n",
       "      <th></th>\n",
       "      <th>ROW_ID</th>\n",
       "      <th>temp_cpu</th>\n",
       "      <th>temp_h</th>\n",
       "      <th>temp_p</th>\n",
       "      <th>humidity</th>\n",
       "      <th>pressure</th>\n",
       "      <th>pitch</th>\n",
       "      <th>roll</th>\n",
       "      <th>yaw</th>\n",
       "      <th>mag_x</th>\n",
       "      <th>mag_y</th>\n",
       "      <th>mag_z</th>\n",
       "      <th>accel_x</th>\n",
       "      <th>accel_y</th>\n",
       "      <th>accel_z</th>\n",
       "      <th>gyro_x</th>\n",
       "      <th>gyro_y</th>\n",
       "      <th>gyro_z</th>\n",
       "      <th>reset</th>\n",
       "      <th>time_stamp</th>\n",
       "    </tr>\n",
       "  </thead>\n",
       "  <tbody>\n",
       "    <tr>\n",
       "      <th>77602</th>\n",
       "      <td>77603</td>\n",
       "      <td>32.44</td>\n",
       "      <td>28.31</td>\n",
       "      <td>25.74</td>\n",
       "      <td>47.57</td>\n",
       "      <td>1021.78</td>\n",
       "      <td>1.1</td>\n",
       "      <td>51.82</td>\n",
       "      <td>267.39</td>\n",
       "      <td>-0.797428</td>\n",
       "      <td>10.891803</td>\n",
       "      <td>-15.728202</td>\n",
       "      <td>-0.000612</td>\n",
       "      <td>0.01817</td>\n",
       "      <td>0.014295</td>\n",
       "      <td>-0.000139</td>\n",
       "      <td>-0.000179</td>\n",
       "      <td>-0.000298</td>\n",
       "      <td>0</td>\n",
       "      <td>2016-02-25 12:13:20</td>\n",
       "    </tr>\n",
       "  </tbody>\n",
       "</table>\n",
       "</div>"
      ],
      "text/plain": [
       "       ROW_ID  temp_cpu  temp_h  temp_p  humidity  pressure  pitch   roll  \\\n",
       "77602   77603     32.44   28.31   25.74     47.57   1021.78    1.1  51.82   \n",
       "\n",
       "          yaw     mag_x      mag_y      mag_z   accel_x  accel_y   accel_z  \\\n",
       "77602  267.39 -0.797428  10.891803 -15.728202 -0.000612  0.01817  0.014295   \n",
       "\n",
       "         gyro_x    gyro_y    gyro_z  reset           time_stamp  \n",
       "77602 -0.000139 -0.000179 -0.000298      0  2016-02-25 12:13:20  "
      ]
     },
     "execution_count": 19,
     "metadata": {},
     "output_type": "execute_result"
    }
   ],
   "source": [
    "df[(df.pressure == df.pressure.values.max())]"
   ]
  },
  {
   "cell_type": "markdown",
   "metadata": {},
   "source": [
    "Il metodo `sort_values' ritorna un dataframe ordinato in base a una o più colonne:"
   ]
  },
  {
   "cell_type": "code",
   "execution_count": 20,
   "metadata": {
    "scrolled": false
   },
   "outputs": [
    {
     "data": {
      "text/html": [
       "<div>\n",
       "<table border=\"1\" class=\"dataframe\">\n",
       "  <thead>\n",
       "    <tr style=\"text-align: right;\">\n",
       "      <th></th>\n",
       "      <th>ROW_ID</th>\n",
       "      <th>temp_cpu</th>\n",
       "      <th>temp_h</th>\n",
       "      <th>temp_p</th>\n",
       "      <th>humidity</th>\n",
       "      <th>pressure</th>\n",
       "      <th>pitch</th>\n",
       "      <th>roll</th>\n",
       "      <th>yaw</th>\n",
       "      <th>mag_x</th>\n",
       "      <th>mag_y</th>\n",
       "      <th>mag_z</th>\n",
       "      <th>accel_x</th>\n",
       "      <th>accel_y</th>\n",
       "      <th>accel_z</th>\n",
       "      <th>gyro_x</th>\n",
       "      <th>gyro_y</th>\n",
       "      <th>gyro_z</th>\n",
       "      <th>reset</th>\n",
       "      <th>time_stamp</th>\n",
       "    </tr>\n",
       "  </thead>\n",
       "  <tbody>\n",
       "    <tr>\n",
       "      <th>77602</th>\n",
       "      <td>77603</td>\n",
       "      <td>32.44</td>\n",
       "      <td>28.31</td>\n",
       "      <td>25.74</td>\n",
       "      <td>47.57</td>\n",
       "      <td>1021.78</td>\n",
       "      <td>1.10</td>\n",
       "      <td>51.82</td>\n",
       "      <td>267.39</td>\n",
       "      <td>-0.797428</td>\n",
       "      <td>10.891803</td>\n",
       "      <td>-15.728202</td>\n",
       "      <td>-0.000612</td>\n",
       "      <td>0.018170</td>\n",
       "      <td>0.014295</td>\n",
       "      <td>-0.000139</td>\n",
       "      <td>-0.000179</td>\n",
       "      <td>-0.000298</td>\n",
       "      <td>0</td>\n",
       "      <td>2016-02-25 12:13:20</td>\n",
       "    </tr>\n",
       "    <tr>\n",
       "      <th>77601</th>\n",
       "      <td>77602</td>\n",
       "      <td>32.45</td>\n",
       "      <td>28.30</td>\n",
       "      <td>25.74</td>\n",
       "      <td>47.26</td>\n",
       "      <td>1021.75</td>\n",
       "      <td>1.53</td>\n",
       "      <td>51.76</td>\n",
       "      <td>266.12</td>\n",
       "      <td>-1.266335</td>\n",
       "      <td>10.927442</td>\n",
       "      <td>-15.690558</td>\n",
       "      <td>-0.000661</td>\n",
       "      <td>0.018357</td>\n",
       "      <td>0.014533</td>\n",
       "      <td>0.000152</td>\n",
       "      <td>0.000459</td>\n",
       "      <td>-0.000298</td>\n",
       "      <td>0</td>\n",
       "      <td>2016-02-25 12:13:10</td>\n",
       "    </tr>\n",
       "    <tr>\n",
       "      <th>77603</th>\n",
       "      <td>77604</td>\n",
       "      <td>32.44</td>\n",
       "      <td>28.30</td>\n",
       "      <td>25.74</td>\n",
       "      <td>47.29</td>\n",
       "      <td>1021.75</td>\n",
       "      <td>1.86</td>\n",
       "      <td>51.83</td>\n",
       "      <td>268.83</td>\n",
       "      <td>-0.320795</td>\n",
       "      <td>10.651441</td>\n",
       "      <td>-15.565123</td>\n",
       "      <td>-0.000648</td>\n",
       "      <td>0.018290</td>\n",
       "      <td>0.014372</td>\n",
       "      <td>0.000049</td>\n",
       "      <td>0.000473</td>\n",
       "      <td>-0.000029</td>\n",
       "      <td>0</td>\n",
       "      <td>2016-02-25 12:13:30</td>\n",
       "    </tr>\n",
       "    <tr>\n",
       "      <th>77604</th>\n",
       "      <td>77605</td>\n",
       "      <td>32.43</td>\n",
       "      <td>28.30</td>\n",
       "      <td>25.74</td>\n",
       "      <td>47.39</td>\n",
       "      <td>1021.75</td>\n",
       "      <td>1.78</td>\n",
       "      <td>51.54</td>\n",
       "      <td>269.41</td>\n",
       "      <td>-0.130574</td>\n",
       "      <td>10.628383</td>\n",
       "      <td>-15.488983</td>\n",
       "      <td>-0.000672</td>\n",
       "      <td>0.018154</td>\n",
       "      <td>0.014602</td>\n",
       "      <td>0.000360</td>\n",
       "      <td>0.000089</td>\n",
       "      <td>-0.000002</td>\n",
       "      <td>0</td>\n",
       "      <td>2016-02-25 12:13:40</td>\n",
       "    </tr>\n",
       "    <tr>\n",
       "      <th>77608</th>\n",
       "      <td>77609</td>\n",
       "      <td>32.42</td>\n",
       "      <td>28.29</td>\n",
       "      <td>25.74</td>\n",
       "      <td>47.36</td>\n",
       "      <td>1021.73</td>\n",
       "      <td>0.86</td>\n",
       "      <td>51.89</td>\n",
       "      <td>272.77</td>\n",
       "      <td>0.952025</td>\n",
       "      <td>10.435951</td>\n",
       "      <td>-16.027235</td>\n",
       "      <td>-0.000607</td>\n",
       "      <td>0.018186</td>\n",
       "      <td>0.014232</td>\n",
       "      <td>-0.000260</td>\n",
       "      <td>-0.000059</td>\n",
       "      <td>-0.000187</td>\n",
       "      <td>0</td>\n",
       "      <td>2016-02-25 12:14:20</td>\n",
       "    </tr>\n",
       "  </tbody>\n",
       "</table>\n",
       "</div>"
      ],
      "text/plain": [
       "       ROW_ID  temp_cpu  temp_h  temp_p  humidity  pressure  pitch   roll  \\\n",
       "77602   77603     32.44   28.31   25.74     47.57   1021.78   1.10  51.82   \n",
       "77601   77602     32.45   28.30   25.74     47.26   1021.75   1.53  51.76   \n",
       "77603   77604     32.44   28.30   25.74     47.29   1021.75   1.86  51.83   \n",
       "77604   77605     32.43   28.30   25.74     47.39   1021.75   1.78  51.54   \n",
       "77608   77609     32.42   28.29   25.74     47.36   1021.73   0.86  51.89   \n",
       "\n",
       "          yaw     mag_x      mag_y      mag_z   accel_x   accel_y   accel_z  \\\n",
       "77602  267.39 -0.797428  10.891803 -15.728202 -0.000612  0.018170  0.014295   \n",
       "77601  266.12 -1.266335  10.927442 -15.690558 -0.000661  0.018357  0.014533   \n",
       "77603  268.83 -0.320795  10.651441 -15.565123 -0.000648  0.018290  0.014372   \n",
       "77604  269.41 -0.130574  10.628383 -15.488983 -0.000672  0.018154  0.014602   \n",
       "77608  272.77  0.952025  10.435951 -16.027235 -0.000607  0.018186  0.014232   \n",
       "\n",
       "         gyro_x    gyro_y    gyro_z  reset           time_stamp  \n",
       "77602 -0.000139 -0.000179 -0.000298      0  2016-02-25 12:13:20  \n",
       "77601  0.000152  0.000459 -0.000298      0  2016-02-25 12:13:10  \n",
       "77603  0.000049  0.000473 -0.000029      0  2016-02-25 12:13:30  \n",
       "77604  0.000360  0.000089 -0.000002      0  2016-02-25 12:13:40  \n",
       "77608 -0.000260 -0.000059 -0.000187      0  2016-02-25 12:14:20  "
      ]
     },
     "execution_count": 20,
     "metadata": {},
     "output_type": "execute_result"
    }
   ],
   "source": [
    "df.sort_values('pressure',ascending=False).head()"
   ]
  },
  {
   "cell_type": "markdown",
   "metadata": {},
   "source": [
    "La properietà `loc` ci permette di filtrare righe secondo una proprietà e selezionare una colonna, che puoò essere anche nuova. In questo caso, Per le righe dove la temperatura cpu è eccessiva, scriviamo il valore `True` nei campi della colonna con intestazione `'Too hot'`:"
   ]
  },
  {
   "cell_type": "code",
   "execution_count": 21,
   "metadata": {},
   "outputs": [],
   "source": [
    "df.loc[(df.temp_cpu > 31.68),'Too hot'] = True "
   ]
  },
  {
   "cell_type": "markdown",
   "metadata": {},
   "source": [
    "Vediamo la tabella risultante (scorri fino in fondo per vedere la nuova colonna). Notiamo come i valori delle righe che non abbiamo filtrato vengono rappresentati con  `NaN`, che letteralmente significa _not a number_ : "
   ]
  },
  {
   "cell_type": "code",
   "execution_count": 22,
   "metadata": {},
   "outputs": [
    {
     "data": {
      "text/html": [
       "<div>\n",
       "<table border=\"1\" class=\"dataframe\">\n",
       "  <thead>\n",
       "    <tr style=\"text-align: right;\">\n",
       "      <th></th>\n",
       "      <th>ROW_ID</th>\n",
       "      <th>temp_cpu</th>\n",
       "      <th>temp_h</th>\n",
       "      <th>temp_p</th>\n",
       "      <th>humidity</th>\n",
       "      <th>pressure</th>\n",
       "      <th>pitch</th>\n",
       "      <th>roll</th>\n",
       "      <th>yaw</th>\n",
       "      <th>mag_x</th>\n",
       "      <th>...</th>\n",
       "      <th>mag_z</th>\n",
       "      <th>accel_x</th>\n",
       "      <th>accel_y</th>\n",
       "      <th>accel_z</th>\n",
       "      <th>gyro_x</th>\n",
       "      <th>gyro_y</th>\n",
       "      <th>gyro_z</th>\n",
       "      <th>reset</th>\n",
       "      <th>time_stamp</th>\n",
       "      <th>Too hot</th>\n",
       "    </tr>\n",
       "  </thead>\n",
       "  <tbody>\n",
       "    <tr>\n",
       "      <th>0</th>\n",
       "      <td>1</td>\n",
       "      <td>31.88</td>\n",
       "      <td>27.57</td>\n",
       "      <td>25.01</td>\n",
       "      <td>44.94</td>\n",
       "      <td>1001.68</td>\n",
       "      <td>1.49</td>\n",
       "      <td>52.25</td>\n",
       "      <td>185.21</td>\n",
       "      <td>-46.422753</td>\n",
       "      <td>...</td>\n",
       "      <td>-12.129346</td>\n",
       "      <td>-0.000468</td>\n",
       "      <td>0.019439</td>\n",
       "      <td>0.014569</td>\n",
       "      <td>0.000942</td>\n",
       "      <td>0.000492</td>\n",
       "      <td>-0.000750</td>\n",
       "      <td>20</td>\n",
       "      <td>2016-02-16 10:44:40</td>\n",
       "      <td>True</td>\n",
       "    </tr>\n",
       "    <tr>\n",
       "      <th>1</th>\n",
       "      <td>2</td>\n",
       "      <td>31.79</td>\n",
       "      <td>27.53</td>\n",
       "      <td>25.01</td>\n",
       "      <td>45.12</td>\n",
       "      <td>1001.72</td>\n",
       "      <td>1.03</td>\n",
       "      <td>53.73</td>\n",
       "      <td>186.72</td>\n",
       "      <td>-48.778951</td>\n",
       "      <td>...</td>\n",
       "      <td>-12.943096</td>\n",
       "      <td>-0.000614</td>\n",
       "      <td>0.019436</td>\n",
       "      <td>0.014577</td>\n",
       "      <td>0.000218</td>\n",
       "      <td>-0.000005</td>\n",
       "      <td>-0.000235</td>\n",
       "      <td>0</td>\n",
       "      <td>2016-02-16 10:44:50</td>\n",
       "      <td>True</td>\n",
       "    </tr>\n",
       "    <tr>\n",
       "      <th>2</th>\n",
       "      <td>3</td>\n",
       "      <td>31.66</td>\n",
       "      <td>27.53</td>\n",
       "      <td>25.01</td>\n",
       "      <td>45.12</td>\n",
       "      <td>1001.72</td>\n",
       "      <td>1.24</td>\n",
       "      <td>53.57</td>\n",
       "      <td>186.21</td>\n",
       "      <td>-49.161878</td>\n",
       "      <td>...</td>\n",
       "      <td>-12.642772</td>\n",
       "      <td>-0.000569</td>\n",
       "      <td>0.019359</td>\n",
       "      <td>0.014357</td>\n",
       "      <td>0.000395</td>\n",
       "      <td>0.000600</td>\n",
       "      <td>-0.000003</td>\n",
       "      <td>0</td>\n",
       "      <td>2016-02-16 10:45:00</td>\n",
       "      <td>NaN</td>\n",
       "    </tr>\n",
       "    <tr>\n",
       "      <th>3</th>\n",
       "      <td>4</td>\n",
       "      <td>31.69</td>\n",
       "      <td>27.52</td>\n",
       "      <td>25.01</td>\n",
       "      <td>45.32</td>\n",
       "      <td>1001.69</td>\n",
       "      <td>1.57</td>\n",
       "      <td>53.63</td>\n",
       "      <td>186.03</td>\n",
       "      <td>-49.341941</td>\n",
       "      <td>...</td>\n",
       "      <td>-12.615509</td>\n",
       "      <td>-0.000575</td>\n",
       "      <td>0.019383</td>\n",
       "      <td>0.014409</td>\n",
       "      <td>0.000308</td>\n",
       "      <td>0.000577</td>\n",
       "      <td>-0.000102</td>\n",
       "      <td>0</td>\n",
       "      <td>2016-02-16 10:45:10</td>\n",
       "      <td>True</td>\n",
       "    </tr>\n",
       "    <tr>\n",
       "      <th>4</th>\n",
       "      <td>5</td>\n",
       "      <td>31.66</td>\n",
       "      <td>27.54</td>\n",
       "      <td>25.01</td>\n",
       "      <td>45.18</td>\n",
       "      <td>1001.71</td>\n",
       "      <td>0.85</td>\n",
       "      <td>53.66</td>\n",
       "      <td>186.46</td>\n",
       "      <td>-50.056683</td>\n",
       "      <td>...</td>\n",
       "      <td>-12.678341</td>\n",
       "      <td>-0.000548</td>\n",
       "      <td>0.019378</td>\n",
       "      <td>0.014380</td>\n",
       "      <td>0.000321</td>\n",
       "      <td>0.000691</td>\n",
       "      <td>0.000272</td>\n",
       "      <td>0</td>\n",
       "      <td>2016-02-16 10:45:20</td>\n",
       "      <td>NaN</td>\n",
       "    </tr>\n",
       "  </tbody>\n",
       "</table>\n",
       "<p>5 rows × 21 columns</p>\n",
       "</div>"
      ],
      "text/plain": [
       "   ROW_ID  temp_cpu  temp_h  temp_p  humidity  pressure  pitch   roll     yaw  \\\n",
       "0       1     31.88   27.57   25.01     44.94   1001.68   1.49  52.25  185.21   \n",
       "1       2     31.79   27.53   25.01     45.12   1001.72   1.03  53.73  186.72   \n",
       "2       3     31.66   27.53   25.01     45.12   1001.72   1.24  53.57  186.21   \n",
       "3       4     31.69   27.52   25.01     45.32   1001.69   1.57  53.63  186.03   \n",
       "4       5     31.66   27.54   25.01     45.18   1001.71   0.85  53.66  186.46   \n",
       "\n",
       "       mag_x   ...        mag_z   accel_x   accel_y   accel_z    gyro_x  \\\n",
       "0 -46.422753   ...   -12.129346 -0.000468  0.019439  0.014569  0.000942   \n",
       "1 -48.778951   ...   -12.943096 -0.000614  0.019436  0.014577  0.000218   \n",
       "2 -49.161878   ...   -12.642772 -0.000569  0.019359  0.014357  0.000395   \n",
       "3 -49.341941   ...   -12.615509 -0.000575  0.019383  0.014409  0.000308   \n",
       "4 -50.056683   ...   -12.678341 -0.000548  0.019378  0.014380  0.000321   \n",
       "\n",
       "     gyro_y    gyro_z  reset           time_stamp Too hot  \n",
       "0  0.000492 -0.000750     20  2016-02-16 10:44:40    True  \n",
       "1 -0.000005 -0.000235      0  2016-02-16 10:44:50    True  \n",
       "2  0.000600 -0.000003      0  2016-02-16 10:45:00     NaN  \n",
       "3  0.000577 -0.000102      0  2016-02-16 10:45:10    True  \n",
       "4  0.000691  0.000272      0  2016-02-16 10:45:20     NaN  \n",
       "\n",
       "[5 rows x 21 columns]"
      ]
     },
     "execution_count": 22,
     "metadata": {},
     "output_type": "execute_result"
    }
   ],
   "source": [
    "df.head()"
   ]
  },
  {
   "cell_type": "markdown",
   "metadata": {},
   "source": [
    "Pandas è una libreria molto flessibile, e fornisce diversi modi per ottenere gli stessi obbiettivi. Per esempio, possiamo effettuare la stessa operazione di sopra con il comando `np.where` come qua sotto. Ad esempio, aggiungiamo una colonna che mi dice se la pressione è sopra o sotto la media."
   ]
  },
  {
   "cell_type": "code",
   "execution_count": 23,
   "metadata": {},
   "outputs": [],
   "source": [
    "pressione_media = df.pressure.values.mean()\n",
    "df['check_p'] = np.where(df.pressure <= pressione_media, 'sotto', 'sopra')"
   ]
  },
  {
   "cell_type": "markdown",
   "metadata": {},
   "source": [
    "**DA FARE 3.1**: Analizzare i dati del Dataframe ```meteo``` e trovare:\n",
    "\n",
    "* i valori di pressione media, minima e massima\n",
    "* la temperatura media\n",
    "* le date delle giornate di pioggia\n"
   ]
  },
  {
   "cell_type": "markdown",
   "metadata": {},
   "source": [
    "## 4. Introduzione a MatPlotLib\n",
    "\n",
    "Utilizziamo [Matplotlib](http://matplotlib.org) per disegnare i dati.\n",
    "\n",
    "`plot` è il comando che utilizziamo per disegnare e può avere un solo argomento (la serie di valori da mettere sul grafico 2D) o due argomenti (i due valori xy del grafico a dispersione).\n",
    "\n",
    "`plt.title()` serve a impostare il titolo del grafico.:"
   ]
  },
  {
   "cell_type": "code",
   "execution_count": 24,
   "metadata": {},
   "outputs": [],
   "source": [
    "import matplotlib as mpl\n",
    "import matplotlib.pyplot as plt\n",
    "%matplotlib inline"
   ]
  },
  {
   "cell_type": "code",
   "execution_count": 25,
   "metadata": {},
   "outputs": [
    {
     "data": {
      "image/png": "[encoded data removed]",
      "text/plain": [
       "<matplotlib.figure.Figure at 0x7f2a0f5047f0>"
      ]
     },
     "metadata": {},
     "output_type": "display_data"
    }
   ],
   "source": [
    "plt.plot([1,2,3,4])\n",
    "plt.title('Qualche numero')\n",
    "plt.show()"
   ]
  },
  {
   "cell_type": "code",
   "execution_count": 26,
   "metadata": {},
   "outputs": [],
   "source": [
    "x = np.arange(0.,5.,0.1)\n",
    "y = x**2\n"
   ]
  },
  {
   "cell_type": "markdown",
   "metadata": {},
   "source": [
    "Utilizziamo la funzione `type` per capire che tipo di dati sono x e y:"
   ]
  },
  {
   "cell_type": "code",
   "execution_count": 27,
   "metadata": {},
   "outputs": [
    {
     "data": {
      "text/plain": [
       "numpy.ndarray"
      ]
     },
     "execution_count": 27,
     "metadata": {},
     "output_type": "execute_result"
    }
   ],
   "source": [
    "type(x)"
   ]
  },
  {
   "cell_type": "code",
   "execution_count": 28,
   "metadata": {},
   "outputs": [
    {
     "data": {
      "text/plain": [
       "numpy.ndarray"
      ]
     },
     "execution_count": 28,
     "metadata": {},
     "output_type": "execute_result"
    }
   ],
   "source": [
    "type(y)"
   ]
  },
  {
   "cell_type": "markdown",
   "metadata": {},
   "source": [
    "Si tratta quindi di vettori di NumPy."
   ]
  },
  {
   "cell_type": "code",
   "execution_count": 29,
   "metadata": {},
   "outputs": [
    {
     "data": {
      "image/png": "[encoded data removed]",
      "text/plain": [
       "<matplotlib.figure.Figure at 0x7f2a0f490320>"
      ]
     },
     "metadata": {},
     "output_type": "display_data"
    }
   ],
   "source": [
    "plt.title('La parabola')\n",
    "plt.plot(x,y);"
   ]
  },
  {
   "cell_type": "markdown",
   "metadata": {},
   "source": [
    "Se vogliamo che le unità dell'asse x siano della stessa dimensione di quelle dell'asse y, possiamo utilizzare la funzione [gca][gca]\n",
    "[gca]: \"https://matplotlib.org/api/_as_gen/matplotlib.pyplot.gca.html?highlight=matplotlib%20pyplot%20gca#matplotlib.pyplot.gca\" \"https://matplotlib.org/api/_as_gen/matplotlib.pyplot.gca.html?highlight=matplotlib%20pyplot%20gca#matplotlib.pyplot.gca\""
   ]
  },
  {
   "cell_type": "code",
   "execution_count": 30,
   "metadata": {},
   "outputs": [
    {
     "data": {
      "image/png": "[encoded data removed]",
      "text/plain": [
       "<matplotlib.figure.Figure at 0x7f2a0f456668>"
      ]
     },
     "metadata": {},
     "output_type": "display_data"
    }
   ],
   "source": [
    "plt.xlim([0, 5])\n",
    "plt.ylim([0,25])\n",
    "plt.title('La parabola')\n",
    "\n",
    "plt.gca().set_aspect('equal', adjustable='box')\n",
    "plt.plot(x,y);"
   ]
  },
  {
   "cell_type": "markdown",
   "metadata": {},
   "source": [
    "In caso di un numero molto elevato di dati, può essere utile avere un'idea qualitativa dei dati, mettendoli in grafico."
   ]
  },
  {
   "cell_type": "code",
   "execution_count": 31,
   "metadata": {
    "scrolled": false
   },
   "outputs": [
    {
     "data": {
      "image/png": "[encoded data removed]",
      "text/plain": [
       "<matplotlib.figure.Figure at 0x7f2a39edac88>"
      ]
     },
     "metadata": {},
     "output_type": "display_data"
    }
   ],
   "source": [
    "df.humidity.plot(label=\"Humidity\", legend=True)\n",
    "df.pressure.plot(secondary_y=True, label=\"Pressure\", legend=True);"
   ]
  },
  {
   "cell_type": "code",
   "execution_count": 32,
   "metadata": {},
   "outputs": [
    {
     "data": {
      "text/plain": [
       "[<matplotlib.lines.Line2D at 0x7f2a0f38df60>]"
      ]
     },
     "execution_count": 32,
     "metadata": {},
     "output_type": "execute_result"
    },
    {
     "data": {
      "image/png": "[encoded data removed]",
      "text/plain": [
       "<matplotlib.figure.Figure at 0x7f2a0ed4d898>"
      ]
     },
     "metadata": {},
     "output_type": "display_data"
    }
   ],
   "source": [
    "plt.plot(df['humidity'],df['pressure'])"
   ]
  },
  {
   "cell_type": "code",
   "execution_count": 33,
   "metadata": {},
   "outputs": [],
   "source": [
    "df2=df.iloc[12500:15000]"
   ]
  },
  {
   "cell_type": "code",
   "execution_count": 34,
   "metadata": {},
   "outputs": [
    {
     "data": {
      "text/plain": [
       "[<matplotlib.lines.Line2D at 0x7f2a0f36b0b8>]"
      ]
     },
     "execution_count": 34,
     "metadata": {},
     "output_type": "execute_result"
    },
    {
     "data": {
      "image/png": "[encoded data removed]",
      "text/plain": [
       "<matplotlib.figure.Figure at 0x7f2a0e9cd208>"
      ]
     },
     "metadata": {},
     "output_type": "display_data"
    }
   ],
   "source": [
    "plt.plot(df2['humidity'],df2['pressure'])"
   ]
  },
  {
   "cell_type": "code",
   "execution_count": 35,
   "metadata": {},
   "outputs": [
    {
     "data": {
      "text/plain": [
       "<matplotlib.axes._subplots.AxesSubplot at 0x7f2a0f3a9e48>"
      ]
     },
     "execution_count": 35,
     "metadata": {},
     "output_type": "execute_result"
    },
    {
     "data": {
      "image/png": "[encoded data removed]",
      "text/plain": [
       "<matplotlib.figure.Figure at 0x7f2a0e9f1668>"
      ]
     },
     "metadata": {},
     "output_type": "display_data"
    }
   ],
   "source": [
    "df2.humidity.plot(label=\"Humidity\", legend=True)\n",
    "df2.pressure.plot(secondary_y=True, label=\"Pressure\", legend=True)"
   ]
  },
  {
   "cell_type": "markdown",
   "metadata": {},
   "source": [
    "Il metodo `corr` permette di calcolare la correlazione tra le colonne del DataFrame."
   ]
  },
  {
   "cell_type": "code",
   "execution_count": 36,
   "metadata": {
    "scrolled": true
   },
   "outputs": [
    {
     "data": {
      "text/html": [
       "<div>\n",
       "<table border=\"1\" class=\"dataframe\">\n",
       "  <thead>\n",
       "    <tr style=\"text-align: right;\">\n",
       "      <th></th>\n",
       "      <th>ROW_ID</th>\n",
       "      <th>temp_cpu</th>\n",
       "      <th>temp_h</th>\n",
       "      <th>temp_p</th>\n",
       "      <th>humidity</th>\n",
       "      <th>pressure</th>\n",
       "      <th>pitch</th>\n",
       "      <th>roll</th>\n",
       "      <th>yaw</th>\n",
       "      <th>mag_x</th>\n",
       "      <th>mag_y</th>\n",
       "      <th>mag_z</th>\n",
       "      <th>accel_x</th>\n",
       "      <th>accel_y</th>\n",
       "      <th>accel_z</th>\n",
       "      <th>gyro_x</th>\n",
       "      <th>gyro_y</th>\n",
       "      <th>gyro_z</th>\n",
       "      <th>reset</th>\n",
       "    </tr>\n",
       "  </thead>\n",
       "  <tbody>\n",
       "    <tr>\n",
       "      <th>ROW_ID</th>\n",
       "      <td>1.000000</td>\n",
       "      <td>0.561540</td>\n",
       "      <td>0.636899</td>\n",
       "      <td>0.730764</td>\n",
       "      <td>0.945210</td>\n",
       "      <td>0.760732</td>\n",
       "      <td>0.005633</td>\n",
       "      <td>0.266995</td>\n",
       "      <td>0.172192</td>\n",
       "      <td>-0.108713</td>\n",
       "      <td>0.057601</td>\n",
       "      <td>-0.270656</td>\n",
       "      <td>0.015936</td>\n",
       "      <td>0.121838</td>\n",
       "      <td>0.075160</td>\n",
       "      <td>-0.014346</td>\n",
       "      <td>-0.026012</td>\n",
       "      <td>0.011714</td>\n",
       "      <td>NaN</td>\n",
       "    </tr>\n",
       "    <tr>\n",
       "      <th>temp_cpu</th>\n",
       "      <td>0.561540</td>\n",
       "      <td>1.000000</td>\n",
       "      <td>0.591610</td>\n",
       "      <td>0.670043</td>\n",
       "      <td>0.488038</td>\n",
       "      <td>0.484902</td>\n",
       "      <td>0.025618</td>\n",
       "      <td>0.165540</td>\n",
       "      <td>0.056950</td>\n",
       "      <td>-0.019815</td>\n",
       "      <td>-0.028729</td>\n",
       "      <td>-0.193077</td>\n",
       "      <td>-0.021093</td>\n",
       "      <td>0.108878</td>\n",
       "      <td>0.065628</td>\n",
       "      <td>-0.019478</td>\n",
       "      <td>-0.007527</td>\n",
       "      <td>-0.006737</td>\n",
       "      <td>NaN</td>\n",
       "    </tr>\n",
       "    <tr>\n",
       "      <th>temp_h</th>\n",
       "      <td>0.636899</td>\n",
       "      <td>0.591610</td>\n",
       "      <td>1.000000</td>\n",
       "      <td>0.890775</td>\n",
       "      <td>0.539603</td>\n",
       "      <td>0.614536</td>\n",
       "      <td>0.022718</td>\n",
       "      <td>0.196767</td>\n",
       "      <td>-0.024700</td>\n",
       "      <td>-0.151336</td>\n",
       "      <td>0.031512</td>\n",
       "      <td>-0.260633</td>\n",
       "      <td>-0.009408</td>\n",
       "      <td>0.173037</td>\n",
       "      <td>0.129074</td>\n",
       "      <td>-0.005255</td>\n",
       "      <td>-0.017054</td>\n",
       "      <td>-0.016113</td>\n",
       "      <td>NaN</td>\n",
       "    </tr>\n",
       "    <tr>\n",
       "      <th>temp_p</th>\n",
       "      <td>0.730764</td>\n",
       "      <td>0.670043</td>\n",
       "      <td>0.890775</td>\n",
       "      <td>1.000000</td>\n",
       "      <td>0.620307</td>\n",
       "      <td>0.650015</td>\n",
       "      <td>0.019178</td>\n",
       "      <td>0.192621</td>\n",
       "      <td>0.007474</td>\n",
       "      <td>-0.060122</td>\n",
       "      <td>-0.039648</td>\n",
       "      <td>-0.285640</td>\n",
       "      <td>-0.034348</td>\n",
       "      <td>0.187457</td>\n",
       "      <td>0.144595</td>\n",
       "      <td>-0.010679</td>\n",
       "      <td>-0.016674</td>\n",
       "      <td>-0.017010</td>\n",
       "      <td>NaN</td>\n",
       "    </tr>\n",
       "    <tr>\n",
       "      <th>humidity</th>\n",
       "      <td>0.945210</td>\n",
       "      <td>0.488038</td>\n",
       "      <td>0.539603</td>\n",
       "      <td>0.620307</td>\n",
       "      <td>1.000000</td>\n",
       "      <td>0.750000</td>\n",
       "      <td>0.012247</td>\n",
       "      <td>0.231316</td>\n",
       "      <td>0.181905</td>\n",
       "      <td>-0.108781</td>\n",
       "      <td>0.131218</td>\n",
       "      <td>-0.191957</td>\n",
       "      <td>0.040452</td>\n",
       "      <td>0.069717</td>\n",
       "      <td>0.021627</td>\n",
       "      <td>0.005625</td>\n",
       "      <td>-0.001927</td>\n",
       "      <td>0.014431</td>\n",
       "      <td>NaN</td>\n",
       "    </tr>\n",
       "    <tr>\n",
       "      <th>pressure</th>\n",
       "      <td>0.760732</td>\n",
       "      <td>0.484902</td>\n",
       "      <td>0.614536</td>\n",
       "      <td>0.650015</td>\n",
       "      <td>0.750000</td>\n",
       "      <td>1.000000</td>\n",
       "      <td>0.037081</td>\n",
       "      <td>0.225112</td>\n",
       "      <td>0.070603</td>\n",
       "      <td>-0.246485</td>\n",
       "      <td>0.194611</td>\n",
       "      <td>-0.173808</td>\n",
       "      <td>0.085183</td>\n",
       "      <td>-0.032049</td>\n",
       "      <td>-0.068296</td>\n",
       "      <td>-0.014838</td>\n",
       "      <td>-0.008821</td>\n",
       "      <td>0.032056</td>\n",
       "      <td>NaN</td>\n",
       "    </tr>\n",
       "    <tr>\n",
       "      <th>pitch</th>\n",
       "      <td>0.005633</td>\n",
       "      <td>0.025618</td>\n",
       "      <td>0.022718</td>\n",
       "      <td>0.019178</td>\n",
       "      <td>0.012247</td>\n",
       "      <td>0.037081</td>\n",
       "      <td>1.000000</td>\n",
       "      <td>0.068880</td>\n",
       "      <td>0.030448</td>\n",
       "      <td>-0.008220</td>\n",
       "      <td>-0.002278</td>\n",
       "      <td>-0.019085</td>\n",
       "      <td>0.024460</td>\n",
       "      <td>-0.053634</td>\n",
       "      <td>-0.029345</td>\n",
       "      <td>0.040685</td>\n",
       "      <td>0.041674</td>\n",
       "      <td>-0.024081</td>\n",
       "      <td>NaN</td>\n",
       "    </tr>\n",
       "    <tr>\n",
       "      <th>roll</th>\n",
       "      <td>0.266995</td>\n",
       "      <td>0.165540</td>\n",
       "      <td>0.196767</td>\n",
       "      <td>0.192621</td>\n",
       "      <td>0.231316</td>\n",
       "      <td>0.225112</td>\n",
       "      <td>0.068880</td>\n",
       "      <td>1.000000</td>\n",
       "      <td>-0.053750</td>\n",
       "      <td>-0.281035</td>\n",
       "      <td>-0.479779</td>\n",
       "      <td>-0.665041</td>\n",
       "      <td>0.057330</td>\n",
       "      <td>-0.049233</td>\n",
       "      <td>-0.153524</td>\n",
       "      <td>0.139427</td>\n",
       "      <td>0.134319</td>\n",
       "      <td>-0.078113</td>\n",
       "      <td>NaN</td>\n",
       "    </tr>\n",
       "    <tr>\n",
       "      <th>yaw</th>\n",
       "      <td>0.172192</td>\n",
       "      <td>0.056950</td>\n",
       "      <td>-0.024700</td>\n",
       "      <td>0.007474</td>\n",
       "      <td>0.181905</td>\n",
       "      <td>0.070603</td>\n",
       "      <td>0.030448</td>\n",
       "      <td>-0.053750</td>\n",
       "      <td>1.000000</td>\n",
       "      <td>0.536693</td>\n",
       "      <td>0.300571</td>\n",
       "      <td>0.394324</td>\n",
       "      <td>-0.028267</td>\n",
       "      <td>0.078585</td>\n",
       "      <td>0.068321</td>\n",
       "      <td>-0.021071</td>\n",
       "      <td>-0.009650</td>\n",
       "      <td>0.064290</td>\n",
       "      <td>NaN</td>\n",
       "    </tr>\n",
       "    <tr>\n",
       "      <th>mag_x</th>\n",
       "      <td>-0.108713</td>\n",
       "      <td>-0.019815</td>\n",
       "      <td>-0.151336</td>\n",
       "      <td>-0.060122</td>\n",
       "      <td>-0.108781</td>\n",
       "      <td>-0.246485</td>\n",
       "      <td>-0.008220</td>\n",
       "      <td>-0.281035</td>\n",
       "      <td>0.536693</td>\n",
       "      <td>1.000000</td>\n",
       "      <td>0.046591</td>\n",
       "      <td>0.475674</td>\n",
       "      <td>-0.097520</td>\n",
       "      <td>0.168764</td>\n",
       "      <td>0.115423</td>\n",
       "      <td>-0.017739</td>\n",
       "      <td>-0.006722</td>\n",
       "      <td>0.008456</td>\n",
       "      <td>NaN</td>\n",
       "    </tr>\n",
       "    <tr>\n",
       "      <th>mag_y</th>\n",
       "      <td>0.057601</td>\n",
       "      <td>-0.028729</td>\n",
       "      <td>0.031512</td>\n",
       "      <td>-0.039648</td>\n",
       "      <td>0.131218</td>\n",
       "      <td>0.194611</td>\n",
       "      <td>-0.002278</td>\n",
       "      <td>-0.479779</td>\n",
       "      <td>0.300571</td>\n",
       "      <td>0.046591</td>\n",
       "      <td>1.000000</td>\n",
       "      <td>0.794756</td>\n",
       "      <td>0.046693</td>\n",
       "      <td>-0.035111</td>\n",
       "      <td>-0.022579</td>\n",
       "      <td>-0.084045</td>\n",
       "      <td>-0.061460</td>\n",
       "      <td>0.115327</td>\n",
       "      <td>NaN</td>\n",
       "    </tr>\n",
       "    <tr>\n",
       "      <th>mag_z</th>\n",
       "      <td>-0.270656</td>\n",
       "      <td>-0.193077</td>\n",
       "      <td>-0.260633</td>\n",
       "      <td>-0.285640</td>\n",
       "      <td>-0.191957</td>\n",
       "      <td>-0.173808</td>\n",
       "      <td>-0.019085</td>\n",
       "      <td>-0.665041</td>\n",
       "      <td>0.394324</td>\n",
       "      <td>0.475674</td>\n",
       "      <td>0.794756</td>\n",
       "      <td>1.000000</td>\n",
       "      <td>0.001699</td>\n",
       "      <td>-0.020016</td>\n",
       "      <td>-0.006496</td>\n",
       "      <td>-0.092749</td>\n",
       "      <td>-0.060097</td>\n",
       "      <td>0.101276</td>\n",
       "      <td>NaN</td>\n",
       "    </tr>\n",
       "    <tr>\n",
       "      <th>accel_x</th>\n",
       "      <td>0.015936</td>\n",
       "      <td>-0.021093</td>\n",
       "      <td>-0.009408</td>\n",
       "      <td>-0.034348</td>\n",
       "      <td>0.040452</td>\n",
       "      <td>0.085183</td>\n",
       "      <td>0.024460</td>\n",
       "      <td>0.057330</td>\n",
       "      <td>-0.028267</td>\n",
       "      <td>-0.097520</td>\n",
       "      <td>0.046693</td>\n",
       "      <td>0.001699</td>\n",
       "      <td>1.000000</td>\n",
       "      <td>-0.197363</td>\n",
       "      <td>-0.174005</td>\n",
       "      <td>-0.016811</td>\n",
       "      <td>-0.013694</td>\n",
       "      <td>-0.017850</td>\n",
       "      <td>NaN</td>\n",
       "    </tr>\n",
       "    <tr>\n",
       "      <th>accel_y</th>\n",
       "      <td>0.121838</td>\n",
       "      <td>0.108878</td>\n",
       "      <td>0.173037</td>\n",
       "      <td>0.187457</td>\n",
       "      <td>0.069717</td>\n",
       "      <td>-0.032049</td>\n",
       "      <td>-0.053634</td>\n",
       "      <td>-0.049233</td>\n",
       "      <td>0.078585</td>\n",
       "      <td>0.168764</td>\n",
       "      <td>-0.035111</td>\n",
       "      <td>-0.020016</td>\n",
       "      <td>-0.197363</td>\n",
       "      <td>1.000000</td>\n",
       "      <td>0.424272</td>\n",
       "      <td>-0.023942</td>\n",
       "      <td>-0.054733</td>\n",
       "      <td>0.014870</td>\n",
       "      <td>NaN</td>\n",
       "    </tr>\n",
       "    <tr>\n",
       "      <th>accel_z</th>\n",
       "      <td>0.075160</td>\n",
       "      <td>0.065628</td>\n",
       "      <td>0.129074</td>\n",
       "      <td>0.144595</td>\n",
       "      <td>0.021627</td>\n",
       "      <td>-0.068296</td>\n",
       "      <td>-0.029345</td>\n",
       "      <td>-0.153524</td>\n",
       "      <td>0.068321</td>\n",
       "      <td>0.115423</td>\n",
       "      <td>-0.022579</td>\n",
       "      <td>-0.006496</td>\n",
       "      <td>-0.174005</td>\n",
       "      <td>0.424272</td>\n",
       "      <td>1.000000</td>\n",
       "      <td>0.006313</td>\n",
       "      <td>-0.011883</td>\n",
       "      <td>-0.015390</td>\n",
       "      <td>NaN</td>\n",
       "    </tr>\n",
       "    <tr>\n",
       "      <th>gyro_x</th>\n",
       "      <td>-0.014346</td>\n",
       "      <td>-0.019478</td>\n",
       "      <td>-0.005255</td>\n",
       "      <td>-0.010679</td>\n",
       "      <td>0.005625</td>\n",
       "      <td>-0.014838</td>\n",
       "      <td>0.040685</td>\n",
       "      <td>0.139427</td>\n",
       "      <td>-0.021071</td>\n",
       "      <td>-0.017739</td>\n",
       "      <td>-0.084045</td>\n",
       "      <td>-0.092749</td>\n",
       "      <td>-0.016811</td>\n",
       "      <td>-0.023942</td>\n",
       "      <td>0.006313</td>\n",
       "      <td>1.000000</td>\n",
       "      <td>0.802471</td>\n",
       "      <td>-0.012705</td>\n",
       "      <td>NaN</td>\n",
       "    </tr>\n",
       "    <tr>\n",
       "      <th>gyro_y</th>\n",
       "      <td>-0.026012</td>\n",
       "      <td>-0.007527</td>\n",
       "      <td>-0.017054</td>\n",
       "      <td>-0.016674</td>\n",
       "      <td>-0.001927</td>\n",
       "      <td>-0.008821</td>\n",
       "      <td>0.041674</td>\n",
       "      <td>0.134319</td>\n",
       "      <td>-0.009650</td>\n",
       "      <td>-0.006722</td>\n",
       "      <td>-0.061460</td>\n",
       "      <td>-0.060097</td>\n",
       "      <td>-0.013694</td>\n",
       "      <td>-0.054733</td>\n",
       "      <td>-0.011883</td>\n",
       "      <td>0.802471</td>\n",
       "      <td>1.000000</td>\n",
       "      <td>-0.043332</td>\n",
       "      <td>NaN</td>\n",
       "    </tr>\n",
       "    <tr>\n",
       "      <th>gyro_z</th>\n",
       "      <td>0.011714</td>\n",
       "      <td>-0.006737</td>\n",
       "      <td>-0.016113</td>\n",
       "      <td>-0.017010</td>\n",
       "      <td>0.014431</td>\n",
       "      <td>0.032056</td>\n",
       "      <td>-0.024081</td>\n",
       "      <td>-0.078113</td>\n",
       "      <td>0.064290</td>\n",
       "      <td>0.008456</td>\n",
       "      <td>0.115327</td>\n",
       "      <td>0.101276</td>\n",
       "      <td>-0.017850</td>\n",
       "      <td>0.014870</td>\n",
       "      <td>-0.015390</td>\n",
       "      <td>-0.012705</td>\n",
       "      <td>-0.043332</td>\n",
       "      <td>1.000000</td>\n",
       "      <td>NaN</td>\n",
       "    </tr>\n",
       "    <tr>\n",
       "      <th>reset</th>\n",
       "      <td>NaN</td>\n",
       "      <td>NaN</td>\n",
       "      <td>NaN</td>\n",
       "      <td>NaN</td>\n",
       "      <td>NaN</td>\n",
       "      <td>NaN</td>\n",
       "      <td>NaN</td>\n",
       "      <td>NaN</td>\n",
       "      <td>NaN</td>\n",
       "      <td>NaN</td>\n",
       "      <td>NaN</td>\n",
       "      <td>NaN</td>\n",
       "      <td>NaN</td>\n",
       "      <td>NaN</td>\n",
       "      <td>NaN</td>\n",
       "      <td>NaN</td>\n",
       "      <td>NaN</td>\n",
       "      <td>NaN</td>\n",
       "      <td>NaN</td>\n",
       "    </tr>\n",
       "  </tbody>\n",
       "</table>\n",
       "</div>"
      ],
      "text/plain": [
       "            ROW_ID  temp_cpu    temp_h    temp_p  humidity  pressure  \\\n",
       "ROW_ID    1.000000  0.561540  0.636899  0.730764  0.945210  0.760732   \n",
       "temp_cpu  0.561540  1.000000  0.591610  0.670043  0.488038  0.484902   \n",
       "temp_h    0.636899  0.591610  1.000000  0.890775  0.539603  0.614536   \n",
       "temp_p    0.730764  0.670043  0.890775  1.000000  0.620307  0.650015   \n",
       "humidity  0.945210  0.488038  0.539603  0.620307  1.000000  0.750000   \n",
       "pressure  0.760732  0.484902  0.614536  0.650015  0.750000  1.000000   \n",
       "pitch     0.005633  0.025618  0.022718  0.019178  0.012247  0.037081   \n",
       "roll      0.266995  0.165540  0.196767  0.192621  0.231316  0.225112   \n",
       "yaw       0.172192  0.056950 -0.024700  0.007474  0.181905  0.070603   \n",
       "mag_x    -0.108713 -0.019815 -0.151336 -0.060122 -0.108781 -0.246485   \n",
       "mag_y     0.057601 -0.028729  0.031512 -0.039648  0.131218  0.194611   \n",
       "mag_z    -0.270656 -0.193077 -0.260633 -0.285640 -0.191957 -0.173808   \n",
       "accel_x   0.015936 -0.021093 -0.009408 -0.034348  0.040452  0.085183   \n",
       "accel_y   0.121838  0.108878  0.173037  0.187457  0.069717 -0.032049   \n",
       "accel_z   0.075160  0.065628  0.129074  0.144595  0.021627 -0.068296   \n",
       "gyro_x   -0.014346 -0.019478 -0.005255 -0.010679  0.005625 -0.014838   \n",
       "gyro_y   -0.026012 -0.007527 -0.017054 -0.016674 -0.001927 -0.008821   \n",
       "gyro_z    0.011714 -0.006737 -0.016113 -0.017010  0.014431  0.032056   \n",
       "reset          NaN       NaN       NaN       NaN       NaN       NaN   \n",
       "\n",
       "             pitch      roll       yaw     mag_x     mag_y     mag_z  \\\n",
       "ROW_ID    0.005633  0.266995  0.172192 -0.108713  0.057601 -0.270656   \n",
       "temp_cpu  0.025618  0.165540  0.056950 -0.019815 -0.028729 -0.193077   \n",
       "temp_h    0.022718  0.196767 -0.024700 -0.151336  0.031512 -0.260633   \n",
       "temp_p    0.019178  0.192621  0.007474 -0.060122 -0.039648 -0.285640   \n",
       "humidity  0.012247  0.231316  0.181905 -0.108781  0.131218 -0.191957   \n",
       "pressure  0.037081  0.225112  0.070603 -0.246485  0.194611 -0.173808   \n",
       "pitch     1.000000  0.068880  0.030448 -0.008220 -0.002278 -0.019085   \n",
       "roll      0.068880  1.000000 -0.053750 -0.281035 -0.479779 -0.665041   \n",
       "yaw       0.030448 -0.053750  1.000000  0.536693  0.300571  0.394324   \n",
       "mag_x    -0.008220 -0.281035  0.536693  1.000000  0.046591  0.475674   \n",
       "mag_y    -0.002278 -0.479779  0.300571  0.046591  1.000000  0.794756   \n",
       "mag_z    -0.019085 -0.665041  0.394324  0.475674  0.794756  1.000000   \n",
       "accel_x   0.024460  0.057330 -0.028267 -0.097520  0.046693  0.001699   \n",
       "accel_y  -0.053634 -0.049233  0.078585  0.168764 -0.035111 -0.020016   \n",
       "accel_z  -0.029345 -0.153524  0.068321  0.115423 -0.022579 -0.006496   \n",
       "gyro_x    0.040685  0.139427 -0.021071 -0.017739 -0.084045 -0.092749   \n",
       "gyro_y    0.041674  0.134319 -0.009650 -0.006722 -0.061460 -0.060097   \n",
       "gyro_z   -0.024081 -0.078113  0.064290  0.008456  0.115327  0.101276   \n",
       "reset          NaN       NaN       NaN       NaN       NaN       NaN   \n",
       "\n",
       "           accel_x   accel_y   accel_z    gyro_x    gyro_y    gyro_z  reset  \n",
       "ROW_ID    0.015936  0.121838  0.075160 -0.014346 -0.026012  0.011714    NaN  \n",
       "temp_cpu -0.021093  0.108878  0.065628 -0.019478 -0.007527 -0.006737    NaN  \n",
       "temp_h   -0.009408  0.173037  0.129074 -0.005255 -0.017054 -0.016113    NaN  \n",
       "temp_p   -0.034348  0.187457  0.144595 -0.010679 -0.016674 -0.017010    NaN  \n",
       "humidity  0.040452  0.069717  0.021627  0.005625 -0.001927  0.014431    NaN  \n",
       "pressure  0.085183 -0.032049 -0.068296 -0.014838 -0.008821  0.032056    NaN  \n",
       "pitch     0.024460 -0.053634 -0.029345  0.040685  0.041674 -0.024081    NaN  \n",
       "roll      0.057330 -0.049233 -0.153524  0.139427  0.134319 -0.078113    NaN  \n",
       "yaw      -0.028267  0.078585  0.068321 -0.021071 -0.009650  0.064290    NaN  \n",
       "mag_x    -0.097520  0.168764  0.115423 -0.017739 -0.006722  0.008456    NaN  \n",
       "mag_y     0.046693 -0.035111 -0.022579 -0.084045 -0.061460  0.115327    NaN  \n",
       "mag_z     0.001699 -0.020016 -0.006496 -0.092749 -0.060097  0.101276    NaN  \n",
       "accel_x   1.000000 -0.197363 -0.174005 -0.016811 -0.013694 -0.017850    NaN  \n",
       "accel_y  -0.197363  1.000000  0.424272 -0.023942 -0.054733  0.014870    NaN  \n",
       "accel_z  -0.174005  0.424272  1.000000  0.006313 -0.011883 -0.015390    NaN  \n",
       "gyro_x   -0.016811 -0.023942  0.006313  1.000000  0.802471 -0.012705    NaN  \n",
       "gyro_y   -0.013694 -0.054733 -0.011883  0.802471  1.000000 -0.043332    NaN  \n",
       "gyro_z   -0.017850  0.014870 -0.015390 -0.012705 -0.043332  1.000000    NaN  \n",
       "reset          NaN       NaN       NaN       NaN       NaN       NaN    NaN  "
      ]
     },
     "execution_count": 36,
     "metadata": {},
     "output_type": "execute_result"
    }
   ],
   "source": [
    "df2.corr()"
   ]
  },
  {
   "cell_type": "markdown",
   "metadata": {},
   "source": [
    "Nel grafico sottostante, disegnamo il variare nel tempo del valore assoluto del campo magnetico terrestre, rilevato dalla stazione spaziale."
   ]
  },
  {
   "cell_type": "code",
   "execution_count": 37,
   "metadata": {},
   "outputs": [
    {
     "data": {
      "text/plain": [
       "<matplotlib.axes._subplots.AxesSubplot at 0x7f2a0f43c198>"
      ]
     },
     "execution_count": 37,
     "metadata": {},
     "output_type": "execute_result"
    },
    {
     "data": {
      "image/png": "[encoded data removed]",
      "text/plain": [
       "<matplotlib.figure.Figure at 0x7f2a0f3ae160>"
      ]
     },
     "metadata": {},
     "output_type": "display_data"
    }
   ],
   "source": [
    "df['mag_tot']=df['mag_x']**2+df['mag_y']**2+df['mag_z']**2\n",
    "df.mag_tot.plot()"
   ]
  },
  {
   "cell_type": "code",
   "execution_count": 38,
   "metadata": {},
   "outputs": [
    {
     "data": {
      "text/plain": [
       "96156    2016-02-27 16:12:31\n",
       "Name: time_stamp, dtype: object"
      ]
     },
     "execution_count": 38,
     "metadata": {},
     "output_type": "execute_result"
    }
   ],
   "source": [
    "df['time_stamp'][(df.mag_tot == df.mag_tot.values.max())]"
   ]
  },
  {
   "cell_type": "markdown",
   "metadata": {},
   "source": [
    "Inserendo il valore trovato sul sito [isstracker.com/historical](http://www.isstracker.com/historical), possiamo rilevare le posizioni in cui il campo magnetico è più forte."
   ]
  },
  {
   "cell_type": "markdown",
   "metadata": {},
   "source": [
    "**DA FARE 4.1**: Mettere in grafico l'andamento delle temperature del dataframe _meteo_\n",
    "\n",
    "**DA FARE 4.2**: Nello stesso grafico mostrare l'andamento della pressione e la quantità delle precipitazioni.\n",
    "\n",
    "**DA FARE 4.3**: Calcolare la temperatura media giornaliera e mostrarla nel grafico.\n"
   ]
  },
  {
   "cell_type": "code",
   "execution_count": null,
   "metadata": {},
   "outputs": [],
   "source": []
  }
 ],
 "metadata": {
  "kernelspec": {
   "display_name": "Python 3",
   "language": "python",
   "name": "python3"
  },
  "language_info": {
   "codemirror_mode": {
    "name": "ipython",
    "version": 3
   },
   "file_extension": ".py",
   "mimetype": "text/x-python",
   "name": "python",
   "nbconvert_exporter": "python",
   "pygments_lexer": "ipython3",
   "version": "3.5.2"
  }
 },
 "nbformat": 4,
 "nbformat_minor": 2
}
