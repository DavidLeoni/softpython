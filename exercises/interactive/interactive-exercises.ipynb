{
 "cells": [
  {
   "cell_type": "raw",
   "metadata": {
    "raw_mimetype": "text/restructuredtext"
   },
   "source": [
    ".. meta::\n",
    "   :http-equiv=Refresh: 0; url=https://softpython.readthedocs.io/it/latest/gui/gui-sol.html\n"
   ]
  },
  {
   "cell_type": "markdown",
   "metadata": {},
   "source": [
    "# Applicazioni interattive : Esercizi\n"
   ]
  }
 ],
 "metadata": {
  "celltoolbar": "Raw Cell Format",
  "kernelspec": {
   "display_name": "Python 3",
   "language": "python",
   "name": "python3"
  },
  "language_info": {
   "codemirror_mode": {
    "name": "ipython",
    "version": 3
   },
   "file_extension": ".py",
   "mimetype": "text/x-python",
   "name": "python",
   "nbconvert_exporter": "python",
   "pygments_lexer": "ipython3",
   "version": "3.7.3"
  },
  "toc": {
   "base_numbering": 1,
   "nav_menu": {},
   "number_sections": false,
   "sideBar": true,
   "skip_h1_title": false,
   "title_cell": "Table of Contents",
   "title_sidebar": "Contents",
   "toc_cell": false,
   "toc_position": {},
   "toc_section_display": true,
   "toc_window_display": false
  },
  "widgets": {
   "application/vnd.jupyter.widget-state+json": {
    "state": {
     "009d72b3e95d4715be2a89df19dc5b2f": {
      "model_module": "@jupyter-widgets/base",
      "model_module_version": "1.0.0",
      "model_name": "LayoutModel",
      "state": {}
     },
     "00df705b6dab466b994e493ed8e83966": {
      "model_module": "@jupyter-widgets/controls",
      "model_module_version": "1.1.0",
      "model_name": "VBoxModel",
      "state": {
       "_dom_classes": [
        "widget-interact"
       ],
       "children": [
        "IPY_MODEL_a563a53a6ec64078b61febd00d734821",
        "IPY_MODEL_0ea2d19213c6488ca0eb19a05b1c01cd",
        "IPY_MODEL_daef00fe781643e9a017bf528949ac32"
       ],
       "layout": "IPY_MODEL_35e361c8bdaf4a1084d64964cffd56eb"
      }
     },
     "0208dc06d14a4fd2ba004295ec502139": {
      "model_module": "bqplot",
      "model_module_version": "^0.3.6",
      "model_name": "AxisModel",
      "state": {
       "orientation": "vertical",
       "scale": "IPY_MODEL_3be91c537d0f4f458b66ab627eb5043e",
       "side": "left",
       "tick_values": {
        "type": null,
        "values": null
       }
      }
     },
     "0210244ffe734145930d762f34a3804d": {
      "model_module": "bqplot",
      "model_module_version": "^0.3.6",
      "model_name": "AxisModel",
      "state": {
       "scale": "IPY_MODEL_0411d3a584dc45dd90936807c8ac6b17",
       "side": "bottom",
       "tick_values": {
        "type": null,
        "values": null
       }
      }
     },
     "03826a5c98414a3d86fb2a6b2dab33e4": {
      "model_module": "@jupyter-widgets/controls",
      "model_module_version": "1.1.0",
      "model_name": "IntSliderModel",
      "state": {
       "layout": "IPY_MODEL_18577ad4f17e4cab92fdd9503d85b7a8",
       "style": "IPY_MODEL_f53d40a240544c6591252789655ef5a8",
       "value": 21
      }
     },
     "038b23e34167431184d86a834aec76d4": {
      "model_module": "@jupyter-widgets/controls",
      "model_module_version": "1.1.0",
      "model_name": "IntSliderModel",
      "state": {
       "layout": "IPY_MODEL_ac5a81bd5ce84362b40d2eba242d23fe",
       "max": 200,
       "style": "IPY_MODEL_ebbb376d82114ac6ab3d3f580af58488"
      }
     },
     "03e101db30e04084a6efceb2fba48cb4": {
      "model_module": "@jupyter-widgets/base",
      "model_module_version": "1.0.0",
      "model_name": "LayoutModel",
      "state": {}
     },
     "0411d3a584dc45dd90936807c8ac6b17": {
      "model_module": "bqplot",
      "model_module_version": "^0.3.6",
      "model_name": "LinearScaleModel",
      "state": {
       "stabilized": false
      }
     },
     "061df5c6ada348bbbc0dfa75e9f6cc40": {
      "model_module": "@jupyter-widgets/controls",
      "model_module_version": "1.1.0",
      "model_name": "DescriptionStyleModel",
      "state": {
       "description_width": ""
      }
     },
     "06499c3a075346ef97266aae72518244": {
      "model_module": "@jupyter-widgets/base",
      "model_module_version": "1.0.0",
      "model_name": "LayoutModel",
      "state": {}
     },
     "066f279121f84acb8e303b6881dd4e22": {
      "model_module": "@jupyter-widgets/controls",
      "model_module_version": "1.1.0",
      "model_name": "SliderStyleModel",
      "state": {
       "description_width": ""
      }
     },
     "0686fa8b6f2c4989bc169b5babb161a1": {
      "model_module": "@jupyter-widgets/base",
      "model_module_version": "1.0.0",
      "model_name": "LayoutModel",
      "state": {}
     },
     "07d84bfe5c9441a68452f153c8636206": {
      "model_module": "bqplot",
      "model_module_version": "^0.3.6",
      "model_name": "LinesModel",
      "state": {
       "color": {
        "type": null,
        "values": null
       },
       "display_legend": false,
       "fill_colors": [],
       "labels": [
        "C1"
       ],
       "scales": {
        "x": "IPY_MODEL_9b152be0d2a24ab4aad63a483741384c",
        "y": "IPY_MODEL_7c8df30cd45841e5a1e231969c513c6e"
       },
       "selected": [],
       "x": {
        "type": "float",
        "values": [
         0,
         0.1282282715750936,
         0.2564565431501872,
         0.38468481472528077,
         0.5129130863003744,
         0.6411413578754679,
         0.7693696294505615,
         0.8975979010256552,
         1.0258261726007487,
         1.1540544441758422,
         1.2822827157509358,
         1.4105109873260295,
         1.538739258901123,
         1.6669675304762166,
         1.7951958020513104,
         1.9234240736264039,
         2.0516523452014974,
         2.179880616776591,
         2.3081088883516845,
         2.436337159926778,
         2.5645654315018716,
         2.6927937030769655,
         2.821021974652059,
         2.9492502462271526,
         3.077478517802246,
         3.2057067893773397,
         3.333935060952433,
         3.4621633325275267,
         3.5903916041026207,
         3.7186198756777142,
         3.8468481472528078,
         3.9750764188279013,
         4.103304690402995,
         4.231532961978089,
         4.359761233553182,
         4.487989505128276,
         4.616217776703369,
         4.744446048278463,
         4.872674319853556,
         5.00090259142865,
         5.129130863003743,
         5.257359134578837,
         5.385587406153931,
         5.513815677729024,
         5.642043949304118,
         5.770272220879211,
         5.898500492454305,
         6.026728764029398,
         6.154957035604492,
         6.283185307179586
        ]
       },
       "y": {
        "type": "float",
        "values": [
         1,
         0.9917900138232462,
         0.9672948630390295,
         0.9269167573460217,
         0.8713187041233894,
         0.8014136218679567,
         0.7183493500977276,
         0.6234898018587336,
         0.5183925683105252,
         0.404783343122394,
         0.28452758663103267,
         0.15959989503337932,
         0.03205157757165533,
         -0.09602302590768154,
         -0.22252093395631434,
         -0.3453650544213075,
         -0.4625382902408351,
         -0.5721166601221694,
         -0.6723008902613166,
         -0.7614459583691342,
         -0.8380881048918404,
         -0.900968867902419,
         -0.9490557470106686,
         -0.9815591569910653,
         -0.9979453927503363,
         -0.9979453927503363,
         -0.9815591569910654,
         -0.9490557470106689,
         -0.9009688679024191,
         -0.8380881048918408,
         -0.7614459583691346,
         -0.672300890261317,
         -0.57211666012217,
         -0.4625382902408353,
         -0.34536505442130816,
         -0.2225209339563146,
         -0.09602302590768244,
         0.03205157757165486,
         0.1595998950333784,
         0.284527586631032,
         0.40478334312239295,
         0.5183925683105245,
         0.6234898018587334,
         0.718349350097727,
         0.8014136218679565,
         0.871318704123389,
         0.9269167573460216,
         0.9672948630390291,
         0.991790013823246,
         1
        ]
       }
      }
     },
     "0831e004bb3c4c55845a2104cf7bacae": {
      "model_module": "@jupyter-widgets/output",
      "model_module_version": "1.0.0",
      "model_name": "OutputModel",
      "state": {
       "layout": "IPY_MODEL_b3454d59a0dc406396a7e8d87e37b9a6"
      }
     },
     "0a2baea371954db78bbbc8daad6b2742": {
      "model_module": "@jupyter-widgets/controls",
      "model_module_version": "1.1.0",
      "model_name": "IntSliderModel",
      "state": {
       "description": "k",
       "layout": "IPY_MODEL_b83c61fe6df741a6be81c1e62733ee78",
       "max": 30,
       "min": -10,
       "style": "IPY_MODEL_6b5b90f13cdf43a09838216f43abb7b7",
       "value": 10
      }
     },
     "0dccfac8e6f94de194f2a670dfa46af7": {
      "model_module": "@jupyter-widgets/base",
      "model_module_version": "1.0.0",
      "model_name": "LayoutModel",
      "state": {
       "align_items": "center",
       "display": "flex"
      }
     },
     "0dd0771f682145569fffc5d48bbc13be": {
      "model_module": "@jupyter-widgets/base",
      "model_module_version": "1.0.0",
      "model_name": "LayoutModel",
      "state": {}
     },
     "0df39bef665b42d8b191939d74e925fe": {
      "model_module": "@jupyter-widgets/base",
      "model_module_version": "1.0.0",
      "model_name": "LayoutModel",
      "state": {}
     },
     "0e032a10573e49e6bb97fc231542115f": {
      "model_module": "@jupyter-widgets/controls",
      "model_module_version": "1.1.0",
      "model_name": "LabelModel",
      "state": {
       "layout": "IPY_MODEL_fbdf1dedde664cfa9e66d5172a56e498",
       "style": "IPY_MODEL_f79d8b01083c426e9a36e64974d7e740",
       "value": "vecchio valore = "
      }
     },
     "0e3bd801c25f41c8a4058f41cab3e009": {
      "model_module": "@jupyter-widgets/controls",
      "model_module_version": "1.1.0",
      "model_name": "SliderStyleModel",
      "state": {
       "description_width": ""
      }
     },
     "0e867ed95ff24c52873a9f027cc8a082": {
      "model_module": "@jupyter-widgets/base",
      "model_module_version": "1.0.0",
      "model_name": "LayoutModel",
      "state": {}
     },
     "0ea2d19213c6488ca0eb19a05b1c01cd": {
      "model_module": "@jupyter-widgets/controls",
      "model_module_version": "1.1.0",
      "model_name": "CheckboxModel",
      "state": {
       "description": "k",
       "disabled": false,
       "layout": "IPY_MODEL_5c9e3fbd98054abf8433fcb2f56a9535",
       "style": "IPY_MODEL_a1f601c015484a8d8ae9384dcf2668ac",
       "value": true
      }
     },
     "1039a030601941e88e7cbb53d17bbc3f": {
      "model_module": "@jupyter-widgets/output",
      "model_module_version": "1.0.0",
      "model_name": "OutputModel",
      "state": {
       "layout": "IPY_MODEL_934b138288ad4d4c813a040eca2b16a5",
       "outputs": [
        {
         "name": "stdout",
         "output_type": "stream",
         "text": "Il numero è 10\n"
        }
       ]
      }
     },
     "11c0c2348ec8436abb693c0672908b7e": {
      "model_module": "@jupyter-widgets/controls",
      "model_module_version": "1.1.0",
      "model_name": "IntSliderModel",
      "state": {
       "layout": "IPY_MODEL_f059780702894d2eb9661a03d91c4bda",
       "style": "IPY_MODEL_20777a08df694f79a4daa6ff16922cf9"
      }
     },
     "1310a003e2f24d5db06ab0ed495880c1": {
      "model_module": "@jupyter-widgets/controls",
      "model_module_version": "1.1.0",
      "model_name": "SliderStyleModel",
      "state": {
       "description_width": ""
      }
     },
     "13144bdd3d5f4a42bf4d91b1221b1a16": {
      "model_module": "@jupyter-widgets/controls",
      "model_module_version": "1.1.0",
      "model_name": "SliderStyleModel",
      "state": {
       "description_width": ""
      }
     },
     "140f98f450bf4ea18722cb8a13a24725": {
      "model_module": "@jupyter-widgets/controls",
      "model_module_version": "1.1.0",
      "model_name": "IntSliderModel",
      "state": {
       "layout": "IPY_MODEL_2509a621055a4fbd9a494b9837d3e213",
       "style": "IPY_MODEL_f07f84fa10914f6f8efcfcd7e6effb4e"
      }
     },
     "156ffc63e05b43879a5766c162ef294f": {
      "model_module": "@jupyter-widgets/base",
      "model_module_version": "1.0.0",
      "model_name": "LayoutModel",
      "state": {}
     },
     "1778f4cc57294edbb6b0484b11dc68b0": {
      "model_module": "@jupyter-widgets/base",
      "model_module_version": "1.0.0",
      "model_name": "LayoutModel",
      "state": {
       "min_width": "125px"
      }
     },
     "17c667ed148b4abf98c3fedf53567d74": {
      "model_module": "@jupyter-widgets/output",
      "model_module_version": "1.0.0",
      "model_name": "OutputModel",
      "state": {
       "layout": "IPY_MODEL_df5b2536838f47238816b0f81e4c7f14"
      }
     },
     "18577ad4f17e4cab92fdd9503d85b7a8": {
      "model_module": "@jupyter-widgets/base",
      "model_module_version": "1.0.0",
      "model_name": "LayoutModel",
      "state": {}
     },
     "198640185873467aa878f3997d7dcd5b": {
      "model_module": "@jupyter-widgets/controls",
      "model_module_version": "1.1.0",
      "model_name": "VBoxModel",
      "state": {
       "_dom_classes": [
        "widget-interact"
       ],
       "children": [
        "IPY_MODEL_d56f1fba786d4eedb4d946e2baf3d1f0",
        "IPY_MODEL_0831e004bb3c4c55845a2104cf7bacae"
       ],
       "layout": "IPY_MODEL_f4f05f099bc94450b89403384b8ecaa0"
      }
     },
     "19c88a1d520e41d29ae606c040d302ee": {
      "model_module": "@jupyter-widgets/base",
      "model_module_version": "1.0.0",
      "model_name": "LayoutModel",
      "state": {}
     },
     "1d6af410e8c748c79f2a72e8e088a58a": {
      "model_module": "@jupyter-widgets/controls",
      "model_module_version": "1.1.0",
      "model_name": "VBoxModel",
      "state": {
       "children": [
        "IPY_MODEL_70156597fe5b4523806a4d3a2d97c949",
        "IPY_MODEL_48af592ceb664269907d5228cb0dc5f7"
       ],
       "layout": "IPY_MODEL_e6eabbbc807549f3bcc18c00e563584b"
      }
     },
     "20777a08df694f79a4daa6ff16922cf9": {
      "model_module": "@jupyter-widgets/controls",
      "model_module_version": "1.1.0",
      "model_name": "SliderStyleModel",
      "state": {
       "description_width": ""
      }
     },
     "21d66f0276af470b9242962058853a6e": {
      "model_module": "@jupyter-widgets/controls",
      "model_module_version": "1.1.0",
      "model_name": "SliderStyleModel",
      "state": {
       "description_width": ""
      }
     },
     "2509a621055a4fbd9a494b9837d3e213": {
      "model_module": "@jupyter-widgets/base",
      "model_module_version": "1.0.0",
      "model_name": "LayoutModel",
      "state": {}
     },
     "25f16bb0d1974ca28ec1ec437de93338": {
      "model_module": "bqplot",
      "model_module_version": "^0.3.6",
      "model_name": "AxisModel",
      "state": {
       "orientation": "vertical",
       "scale": "IPY_MODEL_4e3aa2b1df544e259ba224d45a3a95b2",
       "side": "left",
       "tick_values": {
        "type": null,
        "values": null
       }
      }
     },
     "2635c722e6544a7dbb6c0a7b5b6cb415": {
      "model_module": "@jupyter-widgets/base",
      "model_module_version": "1.0.0",
      "model_name": "LayoutModel",
      "state": {}
     },
     "2665ffd62769436b89f47340fb1d2e81": {
      "model_module": "bqplot",
      "model_module_version": "^0.3.6",
      "model_name": "LinearScaleModel",
      "state": {
       "allow_padding": false,
       "max": 1,
       "min": 0,
       "stabilized": false
      }
     },
     "27394d8c7f8847bcba3423e804f364ac": {
      "model_module": "@jupyter-widgets/controls",
      "model_module_version": "1.1.0",
      "model_name": "IntSliderModel",
      "state": {
       "continuous_update": false,
       "description": "slider delayed",
       "layout": "IPY_MODEL_fee1145508f748428e972659f4c4781f",
       "style": "IPY_MODEL_7261293c97054eb8af09d527f4859f46"
      }
     },
     "297d2fad2dd245a3b6adf7197c62663a": {
      "model_module": "@jupyter-widgets/controls",
      "model_module_version": "1.1.0",
      "model_name": "ButtonModel",
      "state": {
       "description": "basso a sinistra",
       "layout": "IPY_MODEL_c9c376f471f54441a80ca1f42a60479d",
       "style": "IPY_MODEL_96126a30774f48d3af5df2d53438b351"
      }
     },
     "2ac0d04713654caea5742a003a6a9ea3": {
      "model_module": "bqplot",
      "model_module_version": "^0.3.6",
      "model_name": "ToolbarModel",
      "state": {
       "figure": "IPY_MODEL_5c9c926ebaaf47fb8f0df39f1e495f03",
       "layout": "IPY_MODEL_597e7afe97b04abc8aef5541e54117d9"
      }
     },
     "2c1e5a2a048e477ebf2b91f97f91e18a": {
      "model_module": "@jupyter-widgets/controls",
      "model_module_version": "1.1.0",
      "model_name": "VBoxModel",
      "state": {
       "_dom_classes": [
        "widget-interact"
       ],
       "children": [
        "IPY_MODEL_d8d8211a39b644948196fe51af75c5cb",
        "IPY_MODEL_1039a030601941e88e7cbb53d17bbc3f"
       ],
       "layout": "IPY_MODEL_37add33d9bb543399dfff5729ef272fc"
      }
     },
     "2cf3eccad2a248f8a7a8c4b594c762c1": {
      "model_module": "@jupyter-widgets/base",
      "model_module_version": "1.0.0",
      "model_name": "LayoutModel",
      "state": {}
     },
     "2e484b79b0ac4ad18b28b512639a0b35": {
      "model_module": "@jupyter-widgets/controls",
      "model_module_version": "1.1.0",
      "model_name": "DescriptionStyleModel",
      "state": {
       "description_width": ""
      }
     },
     "2ef6a507662248919d1114bc010a37c8": {
      "model_module": "bqplot",
      "model_module_version": "^0.3.6",
      "model_name": "LinearScaleModel",
      "state": {
       "stabilized": false
      }
     },
     "2f588545f67246418465b91fa56169cb": {
      "model_module": "bqplot",
      "model_module_version": "^0.3.6",
      "model_name": "LinearScaleModel",
      "state": {
       "allow_padding": false,
       "max": 1,
       "min": 0,
       "stabilized": false
      }
     },
     "30d6efe8aa9945729b86c1ea2addbb3e": {
      "model_module": "bqplot",
      "model_module_version": "^0.3.6",
      "model_name": "LinearScaleModel",
      "state": {
       "stabilized": false
      }
     },
     "310c0b3b9ac34b9395140262525d8850": {
      "model_module": "@jupyter-widgets/base",
      "model_module_version": "1.0.0",
      "model_name": "LayoutModel",
      "state": {}
     },
     "319ae742a17a4d28b7874b4eae9e8b6a": {
      "model_module": "bqplot",
      "model_module_version": "^0.3.6",
      "model_name": "FigureModel",
      "state": {
       "_dom_classes": [],
       "axes": [
        "IPY_MODEL_946100ce7e1348ef9f29103fc08db267",
        "IPY_MODEL_5872997f2610449d8d1dff037beb95d6"
       ],
       "layout": "IPY_MODEL_ec4e6b8a6fe8439096ab6feb7744499e",
       "marks": [
        "IPY_MODEL_6ce504388dec4675812229e343e84664"
       ],
       "max_aspect_ratio": 6,
       "scale_x": "IPY_MODEL_723cd8bab4b64a4e9f295943cf75a43c",
       "scale_y": "IPY_MODEL_bfcf232779294b5fb6aa152b8f9051ff",
       "title": "HBox con slider e bqplot"
      }
     },
     "3389fcd5024647d4a0492ca54710cd3a": {
      "model_module": "@jupyter-widgets/controls",
      "model_module_version": "1.1.0",
      "model_name": "IntSliderModel",
      "state": {
       "layout": "IPY_MODEL_3583fd6c931643e0b06539da08934960",
       "style": "IPY_MODEL_1310a003e2f24d5db06ab0ed495880c1"
      }
     },
     "33c373b8c96245c185dcfc0d0fc5e196": {
      "model_module": "@jupyter-widgets/base",
      "model_module_version": "1.0.0",
      "model_name": "LayoutModel",
      "state": {}
     },
     "3583fd6c931643e0b06539da08934960": {
      "model_module": "@jupyter-widgets/base",
      "model_module_version": "1.0.0",
      "model_name": "LayoutModel",
      "state": {}
     },
     "35e361c8bdaf4a1084d64964cffd56eb": {
      "model_module": "@jupyter-widgets/base",
      "model_module_version": "1.0.0",
      "model_name": "LayoutModel",
      "state": {}
     },
     "3625d49a40e64c0fbebc64286faa16e3": {
      "model_module": "@jupyter-widgets/output",
      "model_module_version": "1.0.0",
      "model_name": "OutputModel",
      "state": {
       "layout": "IPY_MODEL_a356862827b44c398914eee6656f6388",
       "outputs": [
        {
         "name": "stdout",
         "output_type": "stream",
         "text": "il doppio è 6\n"
        }
       ]
      }
     },
     "3630a79dfabc499fb6cc2390e53050c3": {
      "model_module": "@jupyter-widgets/controls",
      "model_module_version": "1.1.0",
      "model_name": "VBoxModel",
      "state": {
       "_dom_classes": [
        "widget-interact"
       ],
       "children": [
        "IPY_MODEL_7ae7b0e5a0e94c819d93ca566cd0c541",
        "IPY_MODEL_17c667ed148b4abf98c3fedf53567d74"
       ],
       "layout": "IPY_MODEL_6b95d62e1d3547ac8c5d1a1868f592b1"
      }
     },
     "365b801162044347ab31090602c0e2e7": {
      "model_module": "@jupyter-widgets/output",
      "model_module_version": "1.0.0",
      "model_name": "OutputModel",
      "state": {
       "layout": "IPY_MODEL_2635c722e6544a7dbb6c0a7b5b6cb415"
      }
     },
     "36d8097d7a154105bf4b70360f338f7b": {
      "model_module": "bqplot",
      "model_module_version": "^0.3.6",
      "model_name": "LinearScaleModel",
      "state": {
       "stabilized": false
      }
     },
     "375672e9b9e44e1bb380825538ad4eb2": {
      "model_module": "bqplot",
      "model_module_version": "^0.3.6",
      "model_name": "FigureModel",
      "state": {
       "_dom_classes": [],
       "axes": [
        "IPY_MODEL_8e6cb99206b340308c50f36b451271c7",
        "IPY_MODEL_0208dc06d14a4fd2ba004295ec502139"
       ],
       "layout": "IPY_MODEL_9e13f4a9e7594ea9b6b4e19ffc6759d3",
       "marks": [
        "IPY_MODEL_ed80353210f9471d8306b6659f092000"
       ],
       "max_aspect_ratio": 6,
       "scale_x": "IPY_MODEL_89fd1c0715e64f3983bf04842de40d12",
       "scale_y": "IPY_MODEL_75b8bd5cae114cb4a4e10f67cbabd5ae",
       "title": "HBox con slider e bqplot"
      }
     },
     "37add33d9bb543399dfff5729ef272fc": {
      "model_module": "@jupyter-widgets/base",
      "model_module_version": "1.0.0",
      "model_name": "LayoutModel",
      "state": {}
     },
     "38ea3ea8d0fd4af2a873a747a56cec43": {
      "model_module": "@jupyter-widgets/controls",
      "model_module_version": "1.1.0",
      "model_name": "ButtonModel",
      "state": {
       "description": "alto a destra",
       "layout": "IPY_MODEL_c0b5089ae2d74eeeaabf174856b8876c",
       "style": "IPY_MODEL_48f8de54e4e847a9af30a53a4cd1e7b1"
      }
     },
     "395ca4cfcfff40d79ff2e4eb705ba1fd": {
      "model_module": "@jupyter-widgets/base",
      "model_module_version": "1.0.0",
      "model_name": "LayoutModel",
      "state": {}
     },
     "3be91c537d0f4f458b66ab627eb5043e": {
      "model_module": "bqplot",
      "model_module_version": "^0.3.6",
      "model_name": "LinearScaleModel",
      "state": {
       "stabilized": false
      }
     },
     "3d3dcd413db243a7b1e144f38f9f4fdb": {
      "model_module": "@jupyter-widgets/base",
      "model_module_version": "1.0.0",
      "model_name": "LayoutModel",
      "state": {}
     },
     "3dc9851a77f441a9af058f744a33c7ec": {
      "model_module": "@jupyter-widgets/base",
      "model_module_version": "1.0.0",
      "model_name": "LayoutModel",
      "state": {}
     },
     "3f62aef0623c40c1a39002aee88a5e45": {
      "model_module": "@jupyter-widgets/controls",
      "model_module_version": "1.1.0",
      "model_name": "IntSliderModel",
      "state": {
       "description": "slider con",
       "layout": "IPY_MODEL_fd45b38f099540bfa8c1339eda376d6c",
       "style": "IPY_MODEL_62b3cf4c49ee490e9f45005bd86bb757"
      }
     },
     "3f69135dcc244fb28fc0fbd1c96e0446": {
      "model_module": "@jupyter-widgets/base",
      "model_module_version": "1.0.0",
      "model_name": "LayoutModel",
      "state": {}
     },
     "4058734c6b364f839ceb3befc92d4a96": {
      "model_module": "@jupyter-widgets/controls",
      "model_module_version": "1.1.0",
      "model_name": "DescriptionStyleModel",
      "state": {
       "description_width": ""
      }
     },
     "40724dc7b5a549ceb8e430005f10dad5": {
      "model_module": "@jupyter-widgets/controls",
      "model_module_version": "1.1.0",
      "model_name": "IntSliderModel",
      "state": {
       "description": "k",
       "layout": "IPY_MODEL_815a812375a84ac2abee11b672cb5bd0",
       "max": 9,
       "min": -3,
       "style": "IPY_MODEL_6e475e694fe647eb9ad69741ec11f850",
       "value": 3
      }
     },
     "4153fa488597461eaf7f97d83d11a45c": {
      "model_module": "@jupyter-widgets/controls",
      "model_module_version": "1.1.0",
      "model_name": "FloatSliderModel",
      "state": {
       "layout": "IPY_MODEL_9648666f674b4ecaa5a611b12cfb316b",
       "step": 0.1,
       "style": "IPY_MODEL_a8d4b953a9874dc0828ecd296c07f0a0"
      }
     },
     "443cf9ae0cb84fcd9b78f32ff6dae209": {
      "model_module": "@jupyter-widgets/base",
      "model_module_version": "1.0.0",
      "model_name": "LayoutModel",
      "state": {}
     },
     "44f2afd6ea8b4046ab5235a07b674e83": {
      "model_module": "@jupyter-widgets/controls",
      "model_module_version": "1.1.0",
      "model_name": "ButtonModel",
      "state": {
       "description": "Bottone con stile applicato ",
       "layout": "IPY_MODEL_c8f2c4e04ae4447e925384203fe5f28d",
       "style": "IPY_MODEL_d14fa18756f6447cba859e6856247d7f"
      }
     },
     "45959d03c27241fb8c4273fae8691db0": {
      "model_module": "@jupyter-widgets/controls",
      "model_module_version": "1.1.0",
      "model_name": "SliderStyleModel",
      "state": {
       "description_width": ""
      }
     },
     "4618dec8e3504217aed7028f445028f8": {
      "model_module": "@jupyter-widgets/controls",
      "model_module_version": "1.1.0",
      "model_name": "VBoxModel",
      "state": {
       "_dom_classes": [
        "widget-interact"
       ],
       "children": [
        "IPY_MODEL_9c2dd56c1a1d481ba10f9bdc700f50af",
        "IPY_MODEL_acdc257429624d48a33cd774874a27a8"
       ],
       "layout": "IPY_MODEL_f704ceaef92945bf81fbe26d017b52ef"
      }
     },
     "465ac352a9e24715a9c211172ca7c2bf": {
      "model_module": "@jupyter-widgets/base",
      "model_module_version": "1.0.0",
      "model_name": "LayoutModel",
      "state": {}
     },
     "46ff6d9df8434ce5913a210927ca3997": {
      "model_module": "@jupyter-widgets/controls",
      "model_module_version": "1.1.0",
      "model_name": "FloatSliderModel",
      "state": {
       "description": "k",
       "layout": "IPY_MODEL_c3a26606e55e497a8d43e1ce76a81779",
       "max": 3,
       "min": -1,
       "step": 0.1,
       "style": "IPY_MODEL_0e3bd801c25f41c8a4058f41cab3e009",
       "value": 1
      }
     },
     "47b05cf3350144cba081931cd0580477": {
      "model_module": "@jupyter-widgets/base",
      "model_module_version": "1.0.0",
      "model_name": "LayoutModel",
      "state": {}
     },
     "48af592ceb664269907d5228cb0dc5f7": {
      "model_module": "bqplot",
      "model_module_version": "^0.3.6",
      "model_name": "ToolbarModel",
      "state": {
       "figure": "IPY_MODEL_70156597fe5b4523806a4d3a2d97c949",
       "layout": "IPY_MODEL_cfa90a97b7b94e3b8c373e5ee093851c"
      }
     },
     "48f8de54e4e847a9af30a53a4cd1e7b1": {
      "model_module": "@jupyter-widgets/controls",
      "model_module_version": "1.1.0",
      "model_name": "ButtonStyleModel",
      "state": {}
     },
     "4a1e439fcdac4686986a07a2b185a16a": {
      "model_module": "@jupyter-widgets/controls",
      "model_module_version": "1.1.0",
      "model_name": "VBoxModel",
      "state": {
       "children": [
        "IPY_MODEL_27394d8c7f8847bcba3423e804f364ac",
        "IPY_MODEL_bc78df4263504d53a4c5e38b474d3d44"
       ],
       "layout": "IPY_MODEL_2cf3eccad2a248f8a7a8c4b594c762c1"
      }
     },
     "4a5da8f06d1b4cfabf4d00f2150454d1": {
      "model_module": "@jupyter-widgets/base",
      "model_module_version": "1.0.0",
      "model_name": "LayoutModel",
      "state": {}
     },
     "4ac1c8fbbd084caaa5a9170012c849d0": {
      "model_module": "@jupyter-widgets/controls",
      "model_module_version": "1.1.0",
      "model_name": "SliderStyleModel",
      "state": {
       "description_width": ""
      }
     },
     "4b42894d02ff465a83e4ae680c497dec": {
      "model_module": "@jupyter-widgets/controls",
      "model_module_version": "1.1.0",
      "model_name": "IntSliderModel",
      "state": {
       "layout": "IPY_MODEL_d7faa3ba49cf47d198184120fe24486b",
       "style": "IPY_MODEL_13144bdd3d5f4a42bf4d91b1221b1a16"
      }
     },
     "4d2c85d386b640669e1c22f5cb1adff1": {
      "model_module": "@jupyter-widgets/controls",
      "model_module_version": "1.1.0",
      "model_name": "SliderStyleModel",
      "state": {
       "description_width": ""
      }
     },
     "4d2f5325ad134fcd90cd5abe0fe975da": {
      "model_module": "@jupyter-widgets/base",
      "model_module_version": "1.0.0",
      "model_name": "LayoutModel",
      "state": {}
     },
     "4de3a0094aa74e1988b76eeec16d8b7a": {
      "model_module": "@jupyter-widgets/base",
      "model_module_version": "1.0.0",
      "model_name": "LayoutModel",
      "state": {}
     },
     "4e3aa2b1df544e259ba224d45a3a95b2": {
      "model_module": "bqplot",
      "model_module_version": "^0.3.6",
      "model_name": "LinearScaleModel",
      "state": {
       "stabilized": false
      }
     },
     "50ad618020864b5cabb17191541a1e7f": {
      "model_module": "bqplot",
      "model_module_version": "^0.3.6",
      "model_name": "LinearScaleModel",
      "state": {
       "allow_padding": false,
       "max": 1,
       "min": 0,
       "stabilized": false
      }
     },
     "5262527dd65b42bca1aa032d77ff0d03": {
      "model_module": "@jupyter-widgets/controls",
      "model_module_version": "1.1.0",
      "model_name": "FloatSliderModel",
      "state": {
       "description": "k",
       "layout": "IPY_MODEL_aafeb0c17d24493f9dfa800a2c8e0a71",
       "max": 3,
       "min": -1,
       "step": 0.1,
       "style": "IPY_MODEL_bb7e6c8d8bd04b9aad774b0f4334a94c",
       "value": 1
      }
     },
     "551793ca696f4a6181f924757dd0390b": {
      "model_module": "bqplot",
      "model_module_version": "^0.3.6",
      "model_name": "LinearScaleModel",
      "state": {
       "stabilized": false
      }
     },
     "551c30c1a03d439bbb09fcaba7fadca7": {
      "model_module": "@jupyter-widgets/controls",
      "model_module_version": "1.1.0",
      "model_name": "VBoxModel",
      "state": {
       "children": [
        "IPY_MODEL_3f62aef0623c40c1a39002aee88a5e45",
        "IPY_MODEL_caf4da7ed49e44b69f20ec5cd9d261e9"
       ],
       "layout": "IPY_MODEL_0686fa8b6f2c4989bc169b5babb161a1"
      }
     },
     "56c8c902b49b437e9019f9ae49fcaaf2": {
      "model_module": "@jupyter-widgets/base",
      "model_module_version": "1.0.0",
      "model_name": "LayoutModel",
      "state": {}
     },
     "577a6907216b49899c3552d37b71f471": {
      "model_module": "@jupyter-widgets/controls",
      "model_module_version": "1.1.0",
      "model_name": "BoxModel",
      "state": {
       "children": [
        "IPY_MODEL_f9f7cbda77104791b452869be3347e66",
        "IPY_MODEL_319ae742a17a4d28b7874b4eae9e8b6a"
       ],
       "layout": "IPY_MODEL_0dccfac8e6f94de194f2a670dfa46af7"
      }
     },
     "581148160c9248159182720c004e5185": {
      "model_module": "@jupyter-widgets/base",
      "model_module_version": "1.0.0",
      "model_name": "LayoutModel",
      "state": {}
     },
     "58372a488cbd437ead5d3c4da62129af": {
      "model_module": "@jupyter-widgets/controls",
      "model_module_version": "1.1.0",
      "model_name": "IntSliderModel",
      "state": {
       "layout": "IPY_MODEL_5f6c144a7c814a97b37c3288ddbfbe28",
       "style": "IPY_MODEL_45959d03c27241fb8c4273fae8691db0",
       "value": 9
      }
     },
     "5872997f2610449d8d1dff037beb95d6": {
      "model_module": "bqplot",
      "model_module_version": "^0.3.6",
      "model_name": "AxisModel",
      "state": {
       "orientation": "vertical",
       "scale": "IPY_MODEL_36d8097d7a154105bf4b70360f338f7b",
       "side": "left",
       "tick_values": {
        "type": null,
        "values": null
       }
      }
     },
     "5902c7a304bf4b2f9a9ce88261041215": {
      "model_module": "@jupyter-widgets/base",
      "model_module_version": "1.0.0",
      "model_name": "LayoutModel",
      "state": {}
     },
     "597e7afe97b04abc8aef5541e54117d9": {
      "model_module": "@jupyter-widgets/base",
      "model_module_version": "1.0.0",
      "model_name": "LayoutModel",
      "state": {}
     },
     "5b5118f8f1c84fe5a17eaf1fbcbbe9c2": {
      "model_module": "@jupyter-widgets/controls",
      "model_module_version": "1.1.0",
      "model_name": "ButtonStyleModel",
      "state": {}
     },
     "5c9c926ebaaf47fb8f0df39f1e495f03": {
      "model_module": "bqplot",
      "model_module_version": "^0.3.6",
      "model_name": "FigureModel",
      "state": {
       "_dom_classes": [],
       "axes": [
        "IPY_MODEL_ecc10cd12a2a40509acd26db47eac6fa",
        "IPY_MODEL_e252b46b8ebd42bebdca75c0646bacfe"
       ],
       "layout": "IPY_MODEL_1778f4cc57294edbb6b0484b11dc68b0",
       "marks": [
        "IPY_MODEL_f864c07a570f43a3951fa137466a8c12"
       ],
       "max_aspect_ratio": 6,
       "scale_x": "IPY_MODEL_c1394a1682a246ca9bc91f1d48b496c5",
       "scale_y": "IPY_MODEL_50ad618020864b5cabb17191541a1e7f",
       "title": "Grafico in bqplot"
      }
     },
     "5c9e3fbd98054abf8433fcb2f56a9535": {
      "model_module": "@jupyter-widgets/base",
      "model_module_version": "1.0.0",
      "model_name": "LayoutModel",
      "state": {}
     },
     "5dd1ed6e53c448aeaf7a8b6286265b65": {
      "model_module": "@jupyter-widgets/controls",
      "model_module_version": "1.1.0",
      "model_name": "LabelModel",
      "state": {
       "layout": "IPY_MODEL_f71751aefdd74486847610918578bc99",
       "style": "IPY_MODEL_e069e73d07d140429e0e9f36abee9724",
       "value": "A too long description:"
      }
     },
     "5ec4ae0c6e7b430baeea0fb05912042a": {
      "model_module": "@jupyter-widgets/base",
      "model_module_version": "1.0.0",
      "model_name": "LayoutModel",
      "state": {
       "min_width": "125px"
      }
     },
     "5f6c144a7c814a97b37c3288ddbfbe28": {
      "model_module": "@jupyter-widgets/base",
      "model_module_version": "1.0.0",
      "model_name": "LayoutModel",
      "state": {}
     },
     "5ff4dbb333f740daa861543b7fd52ad3": {
      "model_module": "@jupyter-widgets/controls",
      "model_module_version": "1.1.0",
      "model_name": "SliderStyleModel",
      "state": {
       "description_width": ""
      }
     },
     "62b3cf4c49ee490e9f45005bd86bb757": {
      "model_module": "@jupyter-widgets/controls",
      "model_module_version": "1.1.0",
      "model_name": "SliderStyleModel",
      "state": {
       "description_width": ""
      }
     },
     "62d7a008da294d848acd7838d1bde98c": {
      "model_module": "@jupyter-widgets/base",
      "model_module_version": "1.0.0",
      "model_name": "LayoutModel",
      "state": {}
     },
     "635a536db1734a2c9c4107eb4a2bdd91": {
      "model_module": "@jupyter-widgets/base",
      "model_module_version": "1.0.0",
      "model_name": "LayoutModel",
      "state": {}
     },
     "63d9161f281d462ca945580627c8ede1": {
      "model_module": "@jupyter-widgets/controls",
      "model_module_version": "1.1.0",
      "model_name": "SliderStyleModel",
      "state": {
       "description_width": ""
      }
     },
     "63f5fbdf7e9f424e8b8344fa6e2b2e42": {
      "model_module": "bqplot",
      "model_module_version": "^0.3.6",
      "model_name": "LinearScaleModel",
      "state": {
       "allow_padding": false,
       "max": 1,
       "min": 0,
       "stabilized": false
      }
     },
     "6712c04762dd4947a446211d9a1163ce": {
      "model_module": "@jupyter-widgets/output",
      "model_module_version": "1.0.0",
      "model_name": "OutputModel",
      "state": {
       "layout": "IPY_MODEL_310c0b3b9ac34b9395140262525d8850"
      }
     },
     "672df9dc35b7463ebbcfd65204313fa8": {
      "model_module": "@jupyter-widgets/controls",
      "model_module_version": "1.1.0",
      "model_name": "SliderStyleModel",
      "state": {
       "description_width": ""
      }
     },
     "69e2f206fdba41b18eb08fd9b5119078": {
      "model_module": "@jupyter-widgets/base",
      "model_module_version": "1.0.0",
      "model_name": "LayoutModel",
      "state": {}
     },
     "6a73f1e6ba3d497ca69a2baf4e529b0c": {
      "model_module": "@jupyter-widgets/controls",
      "model_module_version": "1.1.0",
      "model_name": "SliderStyleModel",
      "state": {
       "description_width": ""
      }
     },
     "6a7b2ba6dbfe4bbda2b61a5c0f7db9ec": {
      "model_module": "@jupyter-widgets/base",
      "model_module_version": "1.0.0",
      "model_name": "LayoutModel",
      "state": {}
     },
     "6b5b90f13cdf43a09838216f43abb7b7": {
      "model_module": "@jupyter-widgets/controls",
      "model_module_version": "1.1.0",
      "model_name": "SliderStyleModel",
      "state": {
       "description_width": ""
      }
     },
     "6b95d62e1d3547ac8c5d1a1868f592b1": {
      "model_module": "@jupyter-widgets/base",
      "model_module_version": "1.0.0",
      "model_name": "LayoutModel",
      "state": {}
     },
     "6bbacd2dc77b44e3957acfd0c89ec347": {
      "model_module": "@jupyter-widgets/controls",
      "model_module_version": "1.1.0",
      "model_name": "HBoxModel",
      "state": {
       "children": [
        "IPY_MODEL_6dd6fdb36f80489a94da6702f8a05ce9",
        "IPY_MODEL_bdf86c09dc924e6fb2eb866806bf5b5b"
       ],
       "layout": "IPY_MODEL_719db07ee5074ab4ac44925255f727ea"
      }
     },
     "6ce504388dec4675812229e343e84664": {
      "model_module": "bqplot",
      "model_module_version": "^0.3.6",
      "model_name": "LinesModel",
      "state": {
       "color": {
        "type": null,
        "values": null
       },
       "display_legend": false,
       "fill_colors": [],
       "labels": [
        "C1"
       ],
       "scales": {
        "x": "IPY_MODEL_2ef6a507662248919d1114bc010a37c8",
        "y": "IPY_MODEL_36d8097d7a154105bf4b70360f338f7b"
       },
       "selected": [],
       "x": {
        "type": "float",
        "values": [
         0,
         0.1282282715750936,
         0.2564565431501872,
         0.38468481472528077,
         0.5129130863003744,
         0.6411413578754679,
         0.7693696294505615,
         0.8975979010256552,
         1.0258261726007487,
         1.1540544441758422,
         1.2822827157509358,
         1.4105109873260295,
         1.538739258901123,
         1.6669675304762166,
         1.7951958020513104,
         1.9234240736264039,
         2.0516523452014974,
         2.179880616776591,
         2.3081088883516845,
         2.436337159926778,
         2.5645654315018716,
         2.6927937030769655,
         2.821021974652059,
         2.9492502462271526,
         3.077478517802246,
         3.2057067893773397,
         3.333935060952433,
         3.4621633325275267,
         3.5903916041026207,
         3.7186198756777142,
         3.8468481472528078,
         3.9750764188279013,
         4.103304690402995,
         4.231532961978089,
         4.359761233553182,
         4.487989505128276,
         4.616217776703369,
         4.744446048278463,
         4.872674319853556,
         5.00090259142865,
         5.129130863003743,
         5.257359134578837,
         5.385587406153931,
         5.513815677729024,
         5.642043949304118,
         5.770272220879211,
         5.898500492454305,
         6.026728764029398,
         6.154957035604492,
         6.283185307179586
        ]
       },
       "y": {
        "type": "float",
        "values": [
         1,
         0.9917900138232462,
         0.9672948630390295,
         0.9269167573460217,
         0.8713187041233894,
         0.8014136218679567,
         0.7183493500977276,
         0.6234898018587336,
         0.5183925683105252,
         0.404783343122394,
         0.28452758663103267,
         0.15959989503337932,
         0.03205157757165533,
         -0.09602302590768154,
         -0.22252093395631434,
         -0.3453650544213075,
         -0.4625382902408351,
         -0.5721166601221694,
         -0.6723008902613166,
         -0.7614459583691342,
         -0.8380881048918404,
         -0.900968867902419,
         -0.9490557470106686,
         -0.9815591569910653,
         -0.9979453927503363,
         -0.9979453927503363,
         -0.9815591569910654,
         -0.9490557470106689,
         -0.9009688679024191,
         -0.8380881048918408,
         -0.7614459583691346,
         -0.672300890261317,
         -0.57211666012217,
         -0.4625382902408353,
         -0.34536505442130816,
         -0.2225209339563146,
         -0.09602302590768244,
         0.03205157757165486,
         0.1595998950333784,
         0.284527586631032,
         0.40478334312239295,
         0.5183925683105245,
         0.6234898018587334,
         0.718349350097727,
         0.8014136218679565,
         0.871318704123389,
         0.9269167573460216,
         0.9672948630390291,
         0.991790013823246,
         1
        ]
       }
      }
     },
     "6d0838a8540c4e4dbfce9442248243aa": {
      "model_module": "@jupyter-widgets/base",
      "model_module_version": "1.0.0",
      "model_name": "LayoutModel",
      "state": {
       "min_width": "125px"
      }
     },
     "6dd6fdb36f80489a94da6702f8a05ce9": {
      "model_module": "@jupyter-widgets/controls",
      "model_module_version": "1.1.0",
      "model_name": "VBoxModel",
      "state": {
       "children": [
        "IPY_MODEL_db344dd2ff1842c5a8d1d02307fff007",
        "IPY_MODEL_297d2fad2dd245a3b6adf7197c62663a"
       ],
       "layout": "IPY_MODEL_dccafd8a9eae4834a8296e90073b988a"
      }
     },
     "6e475e694fe647eb9ad69741ec11f850": {
      "model_module": "@jupyter-widgets/controls",
      "model_module_version": "1.1.0",
      "model_name": "SliderStyleModel",
      "state": {
       "description_width": ""
      }
     },
     "6f96252b6146498d99e5c8cdf28f92d4": {
      "model_module": "@jupyter-widgets/base",
      "model_module_version": "1.0.0",
      "model_name": "LayoutModel",
      "state": {}
     },
     "70156597fe5b4523806a4d3a2d97c949": {
      "model_module": "bqplot",
      "model_module_version": "^0.3.6",
      "model_name": "FigureModel",
      "state": {
       "_dom_classes": [],
       "axes": [
        "IPY_MODEL_ba65af7384bb4a26a1ac462ff8379e84",
        "IPY_MODEL_25f16bb0d1974ca28ec1ec437de93338"
       ],
       "layout": "IPY_MODEL_c44149e3621741e98ace7619d21a9490",
       "marks": [
        "IPY_MODEL_89979cbf085544eb9f9ea93641817b61"
       ],
       "max_aspect_ratio": 6,
       "scale_x": "IPY_MODEL_a25eb801cd0749d3adc76410c67624a5",
       "scale_y": "IPY_MODEL_b9d4b947a24842309f4796c5fdd5cf0f",
       "title": "Grafico in bqplot"
      }
     },
     "719db07ee5074ab4ac44925255f727ea": {
      "model_module": "@jupyter-widgets/base",
      "model_module_version": "1.0.0",
      "model_name": "LayoutModel",
      "state": {}
     },
     "723cd8bab4b64a4e9f295943cf75a43c": {
      "model_module": "bqplot",
      "model_module_version": "^0.3.6",
      "model_name": "LinearScaleModel",
      "state": {
       "allow_padding": false,
       "max": 1,
       "min": 0,
       "stabilized": false
      }
     },
     "7261293c97054eb8af09d527f4859f46": {
      "model_module": "@jupyter-widgets/controls",
      "model_module_version": "1.1.0",
      "model_name": "SliderStyleModel",
      "state": {
       "description_width": ""
      }
     },
     "73bf0aac7f9c4f06b0a60d43e74926eb": {
      "model_module": "@jupyter-widgets/controls",
      "model_module_version": "1.1.0",
      "model_name": "ButtonStyleModel",
      "state": {}
     },
     "75b8bd5cae114cb4a4e10f67cbabd5ae": {
      "model_module": "bqplot",
      "model_module_version": "^0.3.6",
      "model_name": "LinearScaleModel",
      "state": {
       "allow_padding": false,
       "max": 1,
       "min": 0,
       "stabilized": false
      }
     },
     "7ae7b0e5a0e94c819d93ca566cd0c541": {
      "model_module": "@jupyter-widgets/controls",
      "model_module_version": "1.1.0",
      "model_name": "FloatSliderModel",
      "state": {
       "description": "k",
       "layout": "IPY_MODEL_62d7a008da294d848acd7838d1bde98c",
       "max": 3,
       "min": -1,
       "step": 0.1,
       "style": "IPY_MODEL_63d9161f281d462ca945580627c8ede1",
       "value": 1
      }
     },
     "7c8df30cd45841e5a1e231969c513c6e": {
      "model_module": "bqplot",
      "model_module_version": "^0.3.6",
      "model_name": "LinearScaleModel",
      "state": {
       "stabilized": false
      }
     },
     "7dc02fd6102240e190f693695dabec05": {
      "model_module": "@jupyter-widgets/controls",
      "model_module_version": "1.1.0",
      "model_name": "IntSliderModel",
      "state": {
       "layout": "IPY_MODEL_395ca4cfcfff40d79ff2e4eb705ba1fd",
       "style": "IPY_MODEL_a127d0dae66c418f837726ad1a8c7eb5"
      }
     },
     "7e3b30f77db3494bb513b91a67788675": {
      "model_module": "@jupyter-widgets/controls",
      "model_module_version": "1.1.0",
      "model_name": "IntSliderModel",
      "state": {
       "description": "k",
       "layout": "IPY_MODEL_03e101db30e04084a6efceb2fba48cb4",
       "max": 9,
       "min": -3,
       "style": "IPY_MODEL_9bf99575896f4ed3a6bef54292f683b6",
       "value": 3
      }
     },
     "815a812375a84ac2abee11b672cb5bd0": {
      "model_module": "@jupyter-widgets/base",
      "model_module_version": "1.0.0",
      "model_name": "LayoutModel",
      "state": {}
     },
     "8300192f79f84327a79cf9c3573f13c9": {
      "model_module": "@jupyter-widgets/controls",
      "model_module_version": "1.1.0",
      "model_name": "VBoxModel",
      "state": {
       "children": [
        "IPY_MODEL_b02fc478e9cb4122b7eabb41b79d0667",
        "IPY_MODEL_a9e2939cc38b4eb28cff81284b51d707"
       ],
       "layout": "IPY_MODEL_156ffc63e05b43879a5766c162ef294f"
      }
     },
     "867d2fdcae1c4647a780ab85746a946a": {
      "model_module": "bqplot",
      "model_module_version": "^0.3.6",
      "model_name": "LinesModel",
      "state": {
       "color": {
        "type": null,
        "values": null
       },
       "display_legend": false,
       "fill_colors": [],
       "labels": [
        "C1"
       ],
       "scales": {
        "x": "IPY_MODEL_0411d3a584dc45dd90936807c8ac6b17",
        "y": "IPY_MODEL_551793ca696f4a6181f924757dd0390b"
       },
       "selected": [],
       "x": {
        "type": "float",
        "values": [
         0,
         0.1282282715750936,
         0.2564565431501872,
         0.38468481472528077,
         0.5129130863003744,
         0.6411413578754679,
         0.7693696294505615,
         0.8975979010256552,
         1.0258261726007487,
         1.1540544441758422,
         1.2822827157509358,
         1.4105109873260295,
         1.538739258901123,
         1.6669675304762166,
         1.7951958020513104,
         1.9234240736264039,
         2.0516523452014974,
         2.179880616776591,
         2.3081088883516845,
         2.436337159926778,
         2.5645654315018716,
         2.6927937030769655,
         2.821021974652059,
         2.9492502462271526,
         3.077478517802246,
         3.2057067893773397,
         3.333935060952433,
         3.4621633325275267,
         3.5903916041026207,
         3.7186198756777142,
         3.8468481472528078,
         3.9750764188279013,
         4.103304690402995,
         4.231532961978089,
         4.359761233553182,
         4.487989505128276,
         4.616217776703369,
         4.744446048278463,
         4.872674319853556,
         5.00090259142865,
         5.129130863003743,
         5.257359134578837,
         5.385587406153931,
         5.513815677729024,
         5.642043949304118,
         5.770272220879211,
         5.898500492454305,
         6.026728764029398,
         6.154957035604492,
         6.283185307179586
        ]
       },
       "y": {
        "type": "float",
        "values": [
         1,
         0.9917900138232462,
         0.9672948630390295,
         0.9269167573460217,
         0.8713187041233894,
         0.8014136218679567,
         0.7183493500977276,
         0.6234898018587336,
         0.5183925683105252,
         0.404783343122394,
         0.28452758663103267,
         0.15959989503337932,
         0.03205157757165533,
         -0.09602302590768154,
         -0.22252093395631434,
         -0.3453650544213075,
         -0.4625382902408351,
         -0.5721166601221694,
         -0.6723008902613166,
         -0.7614459583691342,
         -0.8380881048918404,
         -0.900968867902419,
         -0.9490557470106686,
         -0.9815591569910653,
         -0.9979453927503363,
         -0.9979453927503363,
         -0.9815591569910654,
         -0.9490557470106689,
         -0.9009688679024191,
         -0.8380881048918408,
         -0.7614459583691346,
         -0.672300890261317,
         -0.57211666012217,
         -0.4625382902408353,
         -0.34536505442130816,
         -0.2225209339563146,
         -0.09602302590768244,
         0.03205157757165486,
         0.1595998950333784,
         0.284527586631032,
         0.40478334312239295,
         0.5183925683105245,
         0.6234898018587334,
         0.718349350097727,
         0.8014136218679565,
         0.871318704123389,
         0.9269167573460216,
         0.9672948630390291,
         0.991790013823246,
         1
        ]
       }
      }
     },
     "87c39bc2a3984032bd189cc5a1fce1e2": {
      "model_module": "@jupyter-widgets/controls",
      "model_module_version": "1.1.0",
      "model_name": "IntSliderModel",
      "state": {
       "layout": "IPY_MODEL_f911ddd4012f4a56a8c3fac17b5e75e9",
       "style": "IPY_MODEL_b93a3015b1a245fa9c2a70fa4f5465e6"
      }
     },
     "89979cbf085544eb9f9ea93641817b61": {
      "model_module": "bqplot",
      "model_module_version": "^0.3.6",
      "model_name": "LinesModel",
      "state": {
       "color": {
        "type": null,
        "values": null
       },
       "display_legend": false,
       "fill_colors": [],
       "labels": [
        "C1"
       ],
       "scales": {
        "x": "IPY_MODEL_cb8d9a15f75147ae8884d9ff170f691c",
        "y": "IPY_MODEL_4e3aa2b1df544e259ba224d45a3a95b2"
       },
       "selected": [],
       "x": {
        "type": "float",
        "values": [
         0,
         0.1282282715750936,
         0.2564565431501872,
         0.38468481472528077,
         0.5129130863003744,
         0.6411413578754679,
         0.7693696294505615,
         0.8975979010256552,
         1.0258261726007487,
         1.1540544441758422,
         1.2822827157509358,
         1.4105109873260295,
         1.538739258901123,
         1.6669675304762166,
         1.7951958020513104,
         1.9234240736264039,
         2.0516523452014974,
         2.179880616776591,
         2.3081088883516845,
         2.436337159926778,
         2.5645654315018716,
         2.6927937030769655,
         2.821021974652059,
         2.9492502462271526,
         3.077478517802246,
         3.2057067893773397,
         3.333935060952433,
         3.4621633325275267,
         3.5903916041026207,
         3.7186198756777142,
         3.8468481472528078,
         3.9750764188279013,
         4.103304690402995,
         4.231532961978089,
         4.359761233553182,
         4.487989505128276,
         4.616217776703369,
         4.744446048278463,
         4.872674319853556,
         5.00090259142865,
         5.129130863003743,
         5.257359134578837,
         5.385587406153931,
         5.513815677729024,
         5.642043949304118,
         5.770272220879211,
         5.898500492454305,
         6.026728764029398,
         6.154957035604492,
         6.283185307179586
        ]
       },
       "y": {
        "type": "float",
        "values": [
         1,
         0.9917900138232462,
         0.9672948630390295,
         0.9269167573460217,
         0.8713187041233894,
         0.8014136218679567,
         0.7183493500977276,
         0.6234898018587336,
         0.5183925683105252,
         0.404783343122394,
         0.28452758663103267,
         0.15959989503337932,
         0.03205157757165533,
         -0.09602302590768154,
         -0.22252093395631434,
         -0.3453650544213075,
         -0.4625382902408351,
         -0.5721166601221694,
         -0.6723008902613166,
         -0.7614459583691342,
         -0.8380881048918404,
         -0.900968867902419,
         -0.9490557470106686,
         -0.9815591569910653,
         -0.9979453927503363,
         -0.9979453927503363,
         -0.9815591569910654,
         -0.9490557470106689,
         -0.9009688679024191,
         -0.8380881048918408,
         -0.7614459583691346,
         -0.672300890261317,
         -0.57211666012217,
         -0.4625382902408353,
         -0.34536505442130816,
         -0.2225209339563146,
         -0.09602302590768244,
         0.03205157757165486,
         0.1595998950333784,
         0.284527586631032,
         0.40478334312239295,
         0.5183925683105245,
         0.6234898018587334,
         0.718349350097727,
         0.8014136218679565,
         0.871318704123389,
         0.9269167573460216,
         0.9672948630390291,
         0.991790013823246,
         1
        ]
       }
      }
     },
     "89fd1c0715e64f3983bf04842de40d12": {
      "model_module": "bqplot",
      "model_module_version": "^0.3.6",
      "model_name": "LinearScaleModel",
      "state": {
       "allow_padding": false,
       "max": 1,
       "min": 0,
       "stabilized": false
      }
     },
     "8a8018be3a5543c3ac00c3313bfdd25a": {
      "model_module": "@jupyter-widgets/base",
      "model_module_version": "1.0.0",
      "model_name": "LayoutModel",
      "state": {}
     },
     "8bc7cc06b32349bc8c8aa75c15afa250": {
      "model_module": "@jupyter-widgets/base",
      "model_module_version": "1.0.0",
      "model_name": "LayoutModel",
      "state": {}
     },
     "8c4f8945c60441ea94483c994667bbc3": {
      "model_module": "@jupyter-widgets/controls",
      "model_module_version": "1.1.0",
      "model_name": "SliderStyleModel",
      "state": {
       "description_width": ""
      }
     },
     "8e6cb99206b340308c50f36b451271c7": {
      "model_module": "bqplot",
      "model_module_version": "^0.3.6",
      "model_name": "AxisModel",
      "state": {
       "scale": "IPY_MODEL_30d6efe8aa9945729b86c1ea2addbb3e",
       "side": "bottom",
       "tick_values": {
        "type": null,
        "values": null
       }
      }
     },
     "8fcdd3fe431c41af970f41bcbe70b7fb": {
      "model_module": "@jupyter-widgets/base",
      "model_module_version": "1.0.0",
      "model_name": "LayoutModel",
      "state": {}
     },
     "90a93af3e1714fcab72de87fe607646c": {
      "model_module": "@jupyter-widgets/controls",
      "model_module_version": "1.1.0",
      "model_name": "ButtonModel",
      "state": {
       "description": "basso a destra",
       "layout": "IPY_MODEL_3dc9851a77f441a9af058f744a33c7ec",
       "style": "IPY_MODEL_baa804b3e2144397abc485f383964290"
      }
     },
     "934b138288ad4d4c813a040eca2b16a5": {
      "model_module": "@jupyter-widgets/base",
      "model_module_version": "1.0.0",
      "model_name": "LayoutModel",
      "state": {}
     },
     "943812cbea754d1dafde5f947729625a": {
      "model_module": "@jupyter-widgets/base",
      "model_module_version": "1.0.0",
      "model_name": "LayoutModel",
      "state": {}
     },
     "946100ce7e1348ef9f29103fc08db267": {
      "model_module": "bqplot",
      "model_module_version": "^0.3.6",
      "model_name": "AxisModel",
      "state": {
       "scale": "IPY_MODEL_2ef6a507662248919d1114bc010a37c8",
       "side": "bottom",
       "tick_values": {
        "type": null,
        "values": null
       }
      }
     },
     "946219d067a4448a8ec69cc9a91d8670": {
      "model_module": "@jupyter-widgets/controls",
      "model_module_version": "1.1.0",
      "model_name": "FloatSliderModel",
      "state": {
       "layout": "IPY_MODEL_465ac352a9e24715a9c211172ca7c2bf",
       "max": 10000,
       "step": 0.1,
       "style": "IPY_MODEL_672df9dc35b7463ebbcfd65204313fa8"
      }
     },
     "94a40af9556243a2aaf78cc7a9c3a64b": {
      "model_module": "@jupyter-widgets/base",
      "model_module_version": "1.0.0",
      "model_name": "LayoutModel",
      "state": {}
     },
     "9606234fbe9b4cb2a524249c435f243c": {
      "model_module": "@jupyter-widgets/controls",
      "model_module_version": "1.1.0",
      "model_name": "SelectMultipleModel",
      "state": {
       "_options_labels": [
        "Apples",
        "Oranges",
        "Pears"
       ],
       "description": "Fruits",
       "index": [
        1
       ],
       "layout": "IPY_MODEL_943812cbea754d1dafde5f947729625a",
       "rows": 5,
       "style": "IPY_MODEL_2e484b79b0ac4ad18b28b512639a0b35"
      }
     },
     "96126a30774f48d3af5df2d53438b351": {
      "model_module": "@jupyter-widgets/controls",
      "model_module_version": "1.1.0",
      "model_name": "ButtonStyleModel",
      "state": {}
     },
     "9648666f674b4ecaa5a611b12cfb316b": {
      "model_module": "@jupyter-widgets/base",
      "model_module_version": "1.0.0",
      "model_name": "LayoutModel",
      "state": {}
     },
     "96fde2c0b156459cb742d6c36f1628fa": {
      "model_module": "@jupyter-widgets/base",
      "model_module_version": "1.0.0",
      "model_name": "LayoutModel",
      "state": {}
     },
     "97fbe6e19d4d482097ed77a532372f98": {
      "model_module": "@jupyter-widgets/base",
      "model_module_version": "1.0.0",
      "model_name": "LayoutModel",
      "state": {}
     },
     "9b152be0d2a24ab4aad63a483741384c": {
      "model_module": "bqplot",
      "model_module_version": "^0.3.6",
      "model_name": "LinearScaleModel",
      "state": {
       "stabilized": false
      }
     },
     "9bf99575896f4ed3a6bef54292f683b6": {
      "model_module": "@jupyter-widgets/controls",
      "model_module_version": "1.1.0",
      "model_name": "SliderStyleModel",
      "state": {
       "description_width": ""
      }
     },
     "9c2dd56c1a1d481ba10f9bdc700f50af": {
      "model_module": "@jupyter-widgets/controls",
      "model_module_version": "1.1.0",
      "model_name": "CheckboxModel",
      "state": {
       "description": "k",
       "disabled": false,
       "layout": "IPY_MODEL_33c373b8c96245c185dcfc0d0fc5e196",
       "style": "IPY_MODEL_bdf630aa300e470eb7a74e84f21d9798",
       "value": true
      }
     },
     "9e13f4a9e7594ea9b6b4e19ffc6759d3": {
      "model_module": "@jupyter-widgets/base",
      "model_module_version": "1.0.0",
      "model_name": "LayoutModel",
      "state": {
       "min_width": "125px"
      }
     },
     "9f77a9c5b6744b66a237812b295c0276": {
      "model_module": "bqplot",
      "model_module_version": "^0.3.6",
      "model_name": "LinearScaleModel",
      "state": {
       "allow_padding": false,
       "max": 1,
       "min": 0,
       "stabilized": false
      }
     },
     "9f88517d27d3463ab23f8a4424c518f1": {
      "model_module": "@jupyter-widgets/controls",
      "model_module_version": "1.1.0",
      "model_name": "IntSliderModel",
      "state": {
       "layout": "IPY_MODEL_94a40af9556243a2aaf78cc7a9c3a64b",
       "style": "IPY_MODEL_4d2c85d386b640669e1c22f5cb1adff1"
      }
     },
     "a127d0dae66c418f837726ad1a8c7eb5": {
      "model_module": "@jupyter-widgets/controls",
      "model_module_version": "1.1.0",
      "model_name": "SliderStyleModel",
      "state": {
       "description_width": ""
      }
     },
     "a1f601c015484a8d8ae9384dcf2668ac": {
      "model_module": "@jupyter-widgets/controls",
      "model_module_version": "1.1.0",
      "model_name": "DescriptionStyleModel",
      "state": {
       "description_width": ""
      }
     },
     "a24739f7e34a4f0a909e0a3cf5599adf": {
      "model_module": "@jupyter-widgets/controls",
      "model_module_version": "1.1.0",
      "model_name": "SliderStyleModel",
      "state": {
       "description_width": ""
      }
     },
     "a25eb801cd0749d3adc76410c67624a5": {
      "model_module": "bqplot",
      "model_module_version": "^0.3.6",
      "model_name": "LinearScaleModel",
      "state": {
       "allow_padding": false,
       "max": 1,
       "min": 0,
       "stabilized": false
      }
     },
     "a356862827b44c398914eee6656f6388": {
      "model_module": "@jupyter-widgets/base",
      "model_module_version": "1.0.0",
      "model_name": "LayoutModel",
      "state": {}
     },
     "a3694a00699e4862a94fa281851626af": {
      "model_module": "@jupyter-widgets/controls",
      "model_module_version": "1.1.0",
      "model_name": "IntSliderModel",
      "state": {
       "layout": "IPY_MODEL_69e2f206fdba41b18eb08fd9b5119078",
       "style": "IPY_MODEL_4ac1c8fbbd084caaa5a9170012c849d0"
      }
     },
     "a563a53a6ec64078b61febd00d734821": {
      "model_module": "@jupyter-widgets/controls",
      "model_module_version": "1.1.0",
      "model_name": "IntSliderModel",
      "state": {
       "description": "i",
       "layout": "IPY_MODEL_6a7b2ba6dbfe4bbda2b61a5c0f7db9ec",
       "max": 9,
       "min": -3,
       "style": "IPY_MODEL_d6715899be1f4d7b8cd6196c789b8db8",
       "value": 3
      }
     },
     "a6ca56113e8849cab09a857d038ba8e6": {
      "model_module": "@jupyter-widgets/controls",
      "model_module_version": "1.1.0",
      "model_name": "IntSliderModel",
      "state": {
       "layout": "IPY_MODEL_97fbe6e19d4d482097ed77a532372f98",
       "max": 200,
       "style": "IPY_MODEL_a24739f7e34a4f0a909e0a3cf5599adf"
      }
     },
     "a6d42974a8864480ae29d84d14330ee1": {
      "model_module": "@jupyter-widgets/controls",
      "model_module_version": "1.1.0",
      "model_name": "HBoxModel",
      "state": {
       "children": [
        "IPY_MODEL_5dd1ed6e53c448aeaf7a8b6286265b65",
        "IPY_MODEL_11c0c2348ec8436abb693c0672908b7e"
       ],
       "layout": "IPY_MODEL_8bc7cc06b32349bc8c8aa75c15afa250"
      }
     },
     "a730aa58518549fb819b9b300cd1d72a": {
      "model_module": "@jupyter-widgets/base",
      "model_module_version": "1.0.0",
      "model_name": "LayoutModel",
      "state": {}
     },
     "a79b8c664c884aeeb549d272e72286b2": {
      "model_module": "@jupyter-widgets/controls",
      "model_module_version": "1.1.0",
      "model_name": "IntSliderModel",
      "state": {
       "layout": "IPY_MODEL_5902c7a304bf4b2f9a9ce88261041215",
       "style": "IPY_MODEL_066f279121f84acb8e303b6881dd4e22"
      }
     },
     "a8d4b953a9874dc0828ecd296c07f0a0": {
      "model_module": "@jupyter-widgets/controls",
      "model_module_version": "1.1.0",
      "model_name": "SliderStyleModel",
      "state": {
       "description_width": ""
      }
     },
     "a9e2939cc38b4eb28cff81284b51d707": {
      "model_module": "bqplot",
      "model_module_version": "^0.3.6",
      "model_name": "ToolbarModel",
      "state": {
       "figure": "IPY_MODEL_b02fc478e9cb4122b7eabb41b79d0667",
       "layout": "IPY_MODEL_0df39bef665b42d8b191939d74e925fe"
      }
     },
     "aafeb0c17d24493f9dfa800a2c8e0a71": {
      "model_module": "@jupyter-widgets/base",
      "model_module_version": "1.0.0",
      "model_name": "LayoutModel",
      "state": {}
     },
     "abadfc0ddb294dcc8ae4afd4b3f5e2cf": {
      "model_module": "@jupyter-widgets/controls",
      "model_module_version": "1.1.0",
      "model_name": "LabelModel",
      "state": {
       "layout": "IPY_MODEL_8fcdd3fe431c41af970f41bcbe70b7fb",
       "style": "IPY_MODEL_4058734c6b364f839ceb3befc92d4a96",
       "value": "nuovo valore = "
      }
     },
     "abd9dc4595ba474c810970f7f465e2d3": {
      "model_module": "@jupyter-widgets/controls",
      "model_module_version": "1.1.0",
      "model_name": "SliderStyleModel",
      "state": {
       "description_width": ""
      }
     },
     "ac5a81bd5ce84362b40d2eba242d23fe": {
      "model_module": "@jupyter-widgets/base",
      "model_module_version": "1.0.0",
      "model_name": "LayoutModel",
      "state": {}
     },
     "acdc257429624d48a33cd774874a27a8": {
      "model_module": "@jupyter-widgets/output",
      "model_module_version": "1.0.0",
      "model_name": "OutputModel",
      "state": {
       "layout": "IPY_MODEL_0dd0771f682145569fffc5d48bbc13be",
       "outputs": [
        {
         "name": "stdout",
         "output_type": "stream",
         "text": "spuntata\n"
        }
       ]
      }
     },
     "adecef3fb348453fa581b80709862aac": {
      "model_module": "@jupyter-widgets/base",
      "model_module_version": "1.0.0",
      "model_name": "LayoutModel",
      "state": {}
     },
     "b02fc478e9cb4122b7eabb41b79d0667": {
      "model_module": "bqplot",
      "model_module_version": "^0.3.6",
      "model_name": "FigureModel",
      "state": {
       "_dom_classes": [],
       "axes": [
        "IPY_MODEL_0210244ffe734145930d762f34a3804d",
        "IPY_MODEL_f79d75e7412343c6a2efaba436daf34f"
       ],
       "layout": "IPY_MODEL_6d0838a8540c4e4dbfce9442248243aa",
       "marks": [
        "IPY_MODEL_867d2fdcae1c4647a780ab85746a946a"
       ],
       "max_aspect_ratio": 6,
       "scale_x": "IPY_MODEL_2f588545f67246418465b91fa56169cb",
       "scale_y": "IPY_MODEL_2665ffd62769436b89f47340fb1d2e81",
       "title": "Grafico in bqplot"
      }
     },
     "b07235ddcaef44c492c184ef967ec242": {
      "model_module": "@jupyter-widgets/base",
      "model_module_version": "1.0.0",
      "model_name": "LayoutModel",
      "state": {}
     },
     "b3454d59a0dc406396a7e8d87e37b9a6": {
      "model_module": "@jupyter-widgets/base",
      "model_module_version": "1.0.0",
      "model_name": "LayoutModel",
      "state": {}
     },
     "b4a8e84f6d504ea58ac9681b0d1c26ba": {
      "model_module": "@jupyter-widgets/controls",
      "model_module_version": "1.1.0",
      "model_name": "VBoxModel",
      "state": {
       "_dom_classes": [
        "widget-interact"
       ],
       "children": [
        "IPY_MODEL_7e3b30f77db3494bb513b91a67788675",
        "IPY_MODEL_3625d49a40e64c0fbebc64286faa16e3"
       ],
       "layout": "IPY_MODEL_a730aa58518549fb819b9b300cd1d72a"
      }
     },
     "b62a941f54884b289f30d43b9faa0a1c": {
      "model_module": "bqplot",
      "model_module_version": "^0.3.6",
      "model_name": "FigureModel",
      "state": {
       "_dom_classes": [],
       "axes": [
        "IPY_MODEL_b7c9474a18964cdd98e935780bd2f138",
        "IPY_MODEL_eb210d523bc0430b804b4d5b21cca3e3"
       ],
       "layout": "IPY_MODEL_5ec4ae0c6e7b430baeea0fb05912042a",
       "marks": [
        "IPY_MODEL_07d84bfe5c9441a68452f153c8636206"
       ],
       "max_aspect_ratio": 6,
       "scale_x": "IPY_MODEL_9f77a9c5b6744b66a237812b295c0276",
       "scale_y": "IPY_MODEL_63f5fbdf7e9f424e8b8344fa6e2b2e42",
       "title": "HBox con slider e bqplot"
      }
     },
     "b7c9474a18964cdd98e935780bd2f138": {
      "model_module": "bqplot",
      "model_module_version": "^0.3.6",
      "model_name": "AxisModel",
      "state": {
       "scale": "IPY_MODEL_9b152be0d2a24ab4aad63a483741384c",
       "side": "bottom",
       "tick_values": {
        "type": null,
        "values": null
       }
      }
     },
     "b83c61fe6df741a6be81c1e62733ee78": {
      "model_module": "@jupyter-widgets/base",
      "model_module_version": "1.0.0",
      "model_name": "LayoutModel",
      "state": {}
     },
     "b93a3015b1a245fa9c2a70fa4f5465e6": {
      "model_module": "@jupyter-widgets/controls",
      "model_module_version": "1.1.0",
      "model_name": "SliderStyleModel",
      "state": {
       "description_width": ""
      }
     },
     "b9acde5add724dd59d616d4711a95539": {
      "model_module": "@jupyter-widgets/controls",
      "model_module_version": "1.1.0",
      "model_name": "ButtonModel",
      "state": {
       "description": "hello",
       "layout": "IPY_MODEL_06499c3a075346ef97266aae72518244",
       "style": "IPY_MODEL_5b5118f8f1c84fe5a17eaf1fbcbbe9c2"
      }
     },
     "b9d4b947a24842309f4796c5fdd5cf0f": {
      "model_module": "bqplot",
      "model_module_version": "^0.3.6",
      "model_name": "LinearScaleModel",
      "state": {
       "allow_padding": false,
       "max": 1,
       "min": 0,
       "stabilized": false
      }
     },
     "ba65af7384bb4a26a1ac462ff8379e84": {
      "model_module": "bqplot",
      "model_module_version": "^0.3.6",
      "model_name": "AxisModel",
      "state": {
       "scale": "IPY_MODEL_cb8d9a15f75147ae8884d9ff170f691c",
       "side": "bottom",
       "tick_values": {
        "type": null,
        "values": null
       }
      }
     },
     "baa804b3e2144397abc485f383964290": {
      "model_module": "@jupyter-widgets/controls",
      "model_module_version": "1.1.0",
      "model_name": "ButtonStyleModel",
      "state": {}
     },
     "bb7e6c8d8bd04b9aad774b0f4334a94c": {
      "model_module": "@jupyter-widgets/controls",
      "model_module_version": "1.1.0",
      "model_name": "SliderStyleModel",
      "state": {
       "description_width": ""
      }
     },
     "bbc46963a9a34cebbabe5ea84c6a5bc9": {
      "model_module": "@jupyter-widgets/base",
      "model_module_version": "1.0.0",
      "model_name": "LayoutModel",
      "state": {}
     },
     "bc2dfbceab5e4c4d84bbf27be995f63b": {
      "model_module": "@jupyter-widgets/controls",
      "model_module_version": "1.1.0",
      "model_name": "VBoxModel",
      "state": {
       "_dom_classes": [
        "widget-interact"
       ],
       "children": [
        "IPY_MODEL_5262527dd65b42bca1aa032d77ff0d03",
        "IPY_MODEL_6712c04762dd4947a446211d9a1163ce"
       ],
       "layout": "IPY_MODEL_b07235ddcaef44c492c184ef967ec242"
      }
     },
     "bc78df4263504d53a4c5e38b474d3d44": {
      "model_module": "@jupyter-widgets/controls",
      "model_module_version": "1.1.0",
      "model_name": "IntTextModel",
      "state": {
       "description": "testo delayed",
       "layout": "IPY_MODEL_dd875361d6eb4c088ca33214886e279a",
       "step": 1,
       "style": "IPY_MODEL_f6e789ed4d4843139274dc2a43cf2bb8"
      }
     },
     "bdf630aa300e470eb7a74e84f21d9798": {
      "model_module": "@jupyter-widgets/controls",
      "model_module_version": "1.1.0",
      "model_name": "DescriptionStyleModel",
      "state": {
       "description_width": ""
      }
     },
     "bdf86c09dc924e6fb2eb866806bf5b5b": {
      "model_module": "@jupyter-widgets/controls",
      "model_module_version": "1.1.0",
      "model_name": "VBoxModel",
      "state": {
       "children": [
        "IPY_MODEL_38ea3ea8d0fd4af2a873a747a56cec43",
        "IPY_MODEL_90a93af3e1714fcab72de87fe607646c"
       ],
       "layout": "IPY_MODEL_443cf9ae0cb84fcd9b78f32ff6dae209"
      }
     },
     "bf46076efbed4ff3a9ac7c7014eea7e6": {
      "model_module": "bqplot",
      "model_module_version": "^0.3.6",
      "model_name": "LinearScaleModel",
      "state": {
       "stabilized": false
      }
     },
     "bfcf232779294b5fb6aa152b8f9051ff": {
      "model_module": "bqplot",
      "model_module_version": "^0.3.6",
      "model_name": "LinearScaleModel",
      "state": {
       "allow_padding": false,
       "max": 1,
       "min": 0,
       "stabilized": false
      }
     },
     "c058ad1ca5b54879ad6a531ac309da2d": {
      "model_module": "@jupyter-widgets/controls",
      "model_module_version": "1.1.0",
      "model_name": "SliderStyleModel",
      "state": {
       "description_width": ""
      }
     },
     "c05bb2e4ebcf48429197ba8a2a296efe": {
      "model_module": "@jupyter-widgets/controls",
      "model_module_version": "1.1.0",
      "model_name": "VBoxModel",
      "state": {
       "children": [
        "IPY_MODEL_5c9c926ebaaf47fb8f0df39f1e495f03",
        "IPY_MODEL_2ac0d04713654caea5742a003a6a9ea3"
       ],
       "layout": "IPY_MODEL_96fde2c0b156459cb742d6c36f1628fa"
      }
     },
     "c0b5089ae2d74eeeaabf174856b8876c": {
      "model_module": "@jupyter-widgets/base",
      "model_module_version": "1.0.0",
      "model_name": "LayoutModel",
      "state": {}
     },
     "c1394a1682a246ca9bc91f1d48b496c5": {
      "model_module": "bqplot",
      "model_module_version": "^0.3.6",
      "model_name": "LinearScaleModel",
      "state": {
       "allow_padding": false,
       "max": 1,
       "min": 0,
       "stabilized": false
      }
     },
     "c31e218c3d7c4f18baae93d416392f67": {
      "model_module": "@jupyter-widgets/controls",
      "model_module_version": "1.1.0",
      "model_name": "HBoxModel",
      "state": {
       "children": [
        "IPY_MODEL_9f88517d27d3463ab23f8a4424c518f1",
        "IPY_MODEL_b9acde5add724dd59d616d4711a95539"
       ],
       "layout": "IPY_MODEL_d86f33a1121b4d2da33134b10247a51a"
      }
     },
     "c3a26606e55e497a8d43e1ce76a81779": {
      "model_module": "@jupyter-widgets/base",
      "model_module_version": "1.0.0",
      "model_name": "LayoutModel",
      "state": {}
     },
     "c44149e3621741e98ace7619d21a9490": {
      "model_module": "@jupyter-widgets/base",
      "model_module_version": "1.0.0",
      "model_name": "LayoutModel",
      "state": {
       "min_width": "125px"
      }
     },
     "c719bc2dae2e4f56a860960ff43f01ce": {
      "model_module": "bqplot",
      "model_module_version": "^0.3.6",
      "model_name": "LinearScaleModel",
      "state": {
       "stabilized": false
      }
     },
     "c8f2c4e04ae4447e925384203fe5f28d": {
      "model_module": "@jupyter-widgets/base",
      "model_module_version": "1.0.0",
      "model_name": "LayoutModel",
      "state": {
       "height": "80px",
       "width": "50%"
      }
     },
     "c95a8424748b4f81aac2a44d3c6dec1a": {
      "model_module": "@jupyter-widgets/controls",
      "model_module_version": "1.1.0",
      "model_name": "VBoxModel",
      "state": {
       "_dom_classes": [
        "widget-interact"
       ],
       "children": [
        "IPY_MODEL_40724dc7b5a549ceb8e430005f10dad5",
        "IPY_MODEL_e8efe36facde476980a6bce33fb3f78c"
       ],
       "layout": "IPY_MODEL_56c8c902b49b437e9019f9ae49fcaaf2"
      }
     },
     "c9c376f471f54441a80ca1f42a60479d": {
      "model_module": "@jupyter-widgets/base",
      "model_module_version": "1.0.0",
      "model_name": "LayoutModel",
      "state": {}
     },
     "cae6df0175174cbc99ecd13938799974": {
      "model_module": "@jupyter-widgets/controls",
      "model_module_version": "1.1.0",
      "model_name": "LabelModel",
      "state": {
       "layout": "IPY_MODEL_47b05cf3350144cba081931cd0580477",
       "style": "IPY_MODEL_061df5c6ada348bbbc0dfa75e9f6cc40",
       "value": "nuovo valore = "
      }
     },
     "caf4da7ed49e44b69f20ec5cd9d261e9": {
      "model_module": "@jupyter-widgets/controls",
      "model_module_version": "1.1.0",
      "model_name": "IntTextModel",
      "state": {
       "continuous_update": true,
       "description": "testo con",
       "layout": "IPY_MODEL_4d2f5325ad134fcd90cd5abe0fe975da",
       "step": 1,
       "style": "IPY_MODEL_dbc0f83fec6147c382774d88ea9e6cb0"
      }
     },
     "cb8d9a15f75147ae8884d9ff170f691c": {
      "model_module": "bqplot",
      "model_module_version": "^0.3.6",
      "model_name": "LinearScaleModel",
      "state": {
       "stabilized": false
      }
     },
     "cfa90a97b7b94e3b8c373e5ee093851c": {
      "model_module": "@jupyter-widgets/base",
      "model_module_version": "1.0.0",
      "model_name": "LayoutModel",
      "state": {}
     },
     "d14fa18756f6447cba859e6856247d7f": {
      "model_module": "@jupyter-widgets/controls",
      "model_module_version": "1.1.0",
      "model_name": "ButtonStyleModel",
      "state": {}
     },
     "d50de140af3b46e68f143f0b573eeb6f": {
      "model_module": "@jupyter-widgets/controls",
      "model_module_version": "1.1.0",
      "model_name": "VBoxModel",
      "state": {
       "_dom_classes": [
        "widget-interact"
       ],
       "children": [
        "IPY_MODEL_0a2baea371954db78bbbc8daad6b2742",
        "IPY_MODEL_e93a210a055645f0b3c4a8b070898de5"
       ],
       "layout": "IPY_MODEL_3f69135dcc244fb28fc0fbd1c96e0446"
      }
     },
     "d56f1fba786d4eedb4d946e2baf3d1f0": {
      "model_module": "@jupyter-widgets/controls",
      "model_module_version": "1.1.0",
      "model_name": "FloatSliderModel",
      "state": {
       "description": "k",
       "layout": "IPY_MODEL_8a8018be3a5543c3ac00c3313bfdd25a",
       "max": 3,
       "min": -1,
       "step": 0.1,
       "style": "IPY_MODEL_21d66f0276af470b9242962058853a6e",
       "value": 1
      }
     },
     "d6715899be1f4d7b8cd6196c789b8db8": {
      "model_module": "@jupyter-widgets/controls",
      "model_module_version": "1.1.0",
      "model_name": "SliderStyleModel",
      "state": {
       "description_width": ""
      }
     },
     "d774a96455524d7fb6d29fbca0b250fa": {
      "model_module": "@jupyter-widgets/output",
      "model_module_version": "1.0.0",
      "model_name": "OutputModel",
      "state": {
       "layout": "IPY_MODEL_6f96252b6146498d99e5c8cdf28f92d4"
      }
     },
     "d7faa3ba49cf47d198184120fe24486b": {
      "model_module": "@jupyter-widgets/base",
      "model_module_version": "1.0.0",
      "model_name": "LayoutModel",
      "state": {}
     },
     "d86f33a1121b4d2da33134b10247a51a": {
      "model_module": "@jupyter-widgets/base",
      "model_module_version": "1.0.0",
      "model_name": "LayoutModel",
      "state": {}
     },
     "d8d8211a39b644948196fe51af75c5cb": {
      "model_module": "@jupyter-widgets/controls",
      "model_module_version": "1.1.0",
      "model_name": "IntSliderModel",
      "state": {
       "description": "k",
       "layout": "IPY_MODEL_19c88a1d520e41d29ae606c040d302ee",
       "max": 30,
       "min": -10,
       "style": "IPY_MODEL_abd9dc4595ba474c810970f7f465e2d3",
       "value": 10
      }
     },
     "da6b0a45448541c3877c824e8c789d20": {
      "model_module": "@jupyter-widgets/controls",
      "model_module_version": "1.1.0",
      "model_name": "VBoxModel",
      "state": {
       "_dom_classes": [
        "widget-interact"
       ],
       "children": [
        "IPY_MODEL_ddd99e9aa6f141dda5d451474be8033c",
        "IPY_MODEL_365b801162044347ab31090602c0e2e7"
       ],
       "layout": "IPY_MODEL_e6781f27715d46d9b3aadc182ea0b2b5"
      }
     },
     "daef00fe781643e9a017bf528949ac32": {
      "model_module": "@jupyter-widgets/output",
      "model_module_version": "1.0.0",
      "model_name": "OutputModel",
      "state": {
       "layout": "IPY_MODEL_635a536db1734a2c9c4107eb4a2bdd91",
       "outputs": [
        {
         "name": "stdout",
         "output_type": "stream",
         "text": "medio\nspuntata\n"
        }
       ]
      }
     },
     "db344dd2ff1842c5a8d1d02307fff007": {
      "model_module": "@jupyter-widgets/controls",
      "model_module_version": "1.1.0",
      "model_name": "ButtonModel",
      "state": {
       "description": "alto a sinistra",
       "layout": "IPY_MODEL_bbc46963a9a34cebbabe5ea84c6a5bc9",
       "style": "IPY_MODEL_73bf0aac7f9c4f06b0a60d43e74926eb"
      }
     },
     "dbc0f83fec6147c382774d88ea9e6cb0": {
      "model_module": "@jupyter-widgets/controls",
      "model_module_version": "1.1.0",
      "model_name": "DescriptionStyleModel",
      "state": {
       "description_width": ""
      }
     },
     "dccafd8a9eae4834a8296e90073b988a": {
      "model_module": "@jupyter-widgets/base",
      "model_module_version": "1.0.0",
      "model_name": "LayoutModel",
      "state": {}
     },
     "dd875361d6eb4c088ca33214886e279a": {
      "model_module": "@jupyter-widgets/base",
      "model_module_version": "1.0.0",
      "model_name": "LayoutModel",
      "state": {}
     },
     "ddd99e9aa6f141dda5d451474be8033c": {
      "model_module": "@jupyter-widgets/controls",
      "model_module_version": "1.1.0",
      "model_name": "FloatSliderModel",
      "state": {
       "description": "k",
       "layout": "IPY_MODEL_581148160c9248159182720c004e5185",
       "max": 3,
       "min": -1,
       "step": 0.1,
       "style": "IPY_MODEL_5ff4dbb333f740daa861543b7fd52ad3",
       "value": 1
      }
     },
     "df5b2536838f47238816b0f81e4c7f14": {
      "model_module": "@jupyter-widgets/base",
      "model_module_version": "1.0.0",
      "model_name": "LayoutModel",
      "state": {}
     },
     "e04ac42cdff943c5befebcf983361a5e": {
      "model_module": "@jupyter-widgets/base",
      "model_module_version": "1.0.0",
      "model_name": "LayoutModel",
      "state": {}
     },
     "e069e73d07d140429e0e9f36abee9724": {
      "model_module": "@jupyter-widgets/controls",
      "model_module_version": "1.1.0",
      "model_name": "DescriptionStyleModel",
      "state": {
       "description_width": ""
      }
     },
     "e252b46b8ebd42bebdca75c0646bacfe": {
      "model_module": "bqplot",
      "model_module_version": "^0.3.6",
      "model_name": "AxisModel",
      "state": {
       "orientation": "vertical",
       "scale": "IPY_MODEL_c719bc2dae2e4f56a860960ff43f01ce",
       "side": "left",
       "tick_values": {
        "type": null,
        "values": null
       }
      }
     },
     "e5f40cbb033244ec87f990b368aa2783": {
      "model_module": "@jupyter-widgets/base",
      "model_module_version": "1.0.0",
      "model_name": "LayoutModel",
      "state": {
       "align_items": "stretch",
       "display": "flex"
      }
     },
     "e6781f27715d46d9b3aadc182ea0b2b5": {
      "model_module": "@jupyter-widgets/base",
      "model_module_version": "1.0.0",
      "model_name": "LayoutModel",
      "state": {}
     },
     "e6eabbbc807549f3bcc18c00e563584b": {
      "model_module": "@jupyter-widgets/base",
      "model_module_version": "1.0.0",
      "model_name": "LayoutModel",
      "state": {}
     },
     "e8efe36facde476980a6bce33fb3f78c": {
      "model_module": "@jupyter-widgets/output",
      "model_module_version": "1.0.0",
      "model_name": "OutputModel",
      "state": {
       "layout": "IPY_MODEL_0e867ed95ff24c52873a9f027cc8a082",
       "outputs": [
        {
         "name": "stdout",
         "output_type": "stream",
         "text": "il doppio è 6\n"
        }
       ]
      }
     },
     "e93a210a055645f0b3c4a8b070898de5": {
      "model_module": "@jupyter-widgets/output",
      "model_module_version": "1.0.0",
      "model_name": "OutputModel",
      "state": {
       "layout": "IPY_MODEL_009d72b3e95d4715be2a89df19dc5b2f",
       "outputs": [
        {
         "name": "stdout",
         "output_type": "stream",
         "text": "Il numero è 10\n"
        }
       ]
      }
     },
     "eb210d523bc0430b804b4d5b21cca3e3": {
      "model_module": "bqplot",
      "model_module_version": "^0.3.6",
      "model_name": "AxisModel",
      "state": {
       "orientation": "vertical",
       "scale": "IPY_MODEL_7c8df30cd45841e5a1e231969c513c6e",
       "side": "left",
       "tick_values": {
        "type": null,
        "values": null
       }
      }
     },
     "eba303e6e0eb4d1b8aa51223e5ca9b80": {
      "model_module": "@jupyter-widgets/controls",
      "model_module_version": "1.1.0",
      "model_name": "BoxModel",
      "state": {
       "children": [
        "IPY_MODEL_bc2dfbceab5e4c4d84bbf27be995f63b",
        "IPY_MODEL_375672e9b9e44e1bb380825538ad4eb2"
       ],
       "layout": "IPY_MODEL_e5f40cbb033244ec87f990b368aa2783"
      }
     },
     "ebae16342f6b45fb81063a6cb962a4a1": {
      "model_module": "@jupyter-widgets/controls",
      "model_module_version": "1.1.0",
      "model_name": "SliderStyleModel",
      "state": {
       "description_width": ""
      }
     },
     "ebbb376d82114ac6ab3d3f580af58488": {
      "model_module": "@jupyter-widgets/controls",
      "model_module_version": "1.1.0",
      "model_name": "SliderStyleModel",
      "state": {
       "description_width": ""
      }
     },
     "ec4e6b8a6fe8439096ab6feb7744499e": {
      "model_module": "@jupyter-widgets/base",
      "model_module_version": "1.0.0",
      "model_name": "LayoutModel",
      "state": {
       "min_width": "125px"
      }
     },
     "ecc10cd12a2a40509acd26db47eac6fa": {
      "model_module": "bqplot",
      "model_module_version": "^0.3.6",
      "model_name": "AxisModel",
      "state": {
       "scale": "IPY_MODEL_bf46076efbed4ff3a9ac7c7014eea7e6",
       "side": "bottom",
       "tick_values": {
        "type": null,
        "values": null
       }
      }
     },
     "ed80353210f9471d8306b6659f092000": {
      "model_module": "bqplot",
      "model_module_version": "^0.3.6",
      "model_name": "LinesModel",
      "state": {
       "color": {
        "type": null,
        "values": null
       },
       "display_legend": false,
       "fill_colors": [],
       "labels": [
        "C1"
       ],
       "scales": {
        "x": "IPY_MODEL_30d6efe8aa9945729b86c1ea2addbb3e",
        "y": "IPY_MODEL_3be91c537d0f4f458b66ab627eb5043e"
       },
       "selected": [],
       "x": {
        "type": "float",
        "values": [
         0,
         0.1282282715750936,
         0.2564565431501872,
         0.38468481472528077,
         0.5129130863003744,
         0.6411413578754679,
         0.7693696294505615,
         0.8975979010256552,
         1.0258261726007487,
         1.1540544441758422,
         1.2822827157509358,
         1.4105109873260295,
         1.538739258901123,
         1.6669675304762166,
         1.7951958020513104,
         1.9234240736264039,
         2.0516523452014974,
         2.179880616776591,
         2.3081088883516845,
         2.436337159926778,
         2.5645654315018716,
         2.6927937030769655,
         2.821021974652059,
         2.9492502462271526,
         3.077478517802246,
         3.2057067893773397,
         3.333935060952433,
         3.4621633325275267,
         3.5903916041026207,
         3.7186198756777142,
         3.8468481472528078,
         3.9750764188279013,
         4.103304690402995,
         4.231532961978089,
         4.359761233553182,
         4.487989505128276,
         4.616217776703369,
         4.744446048278463,
         4.872674319853556,
         5.00090259142865,
         5.129130863003743,
         5.257359134578837,
         5.385587406153931,
         5.513815677729024,
         5.642043949304118,
         5.770272220879211,
         5.898500492454305,
         6.026728764029398,
         6.154957035604492,
         6.283185307179586
        ]
       },
       "y": {
        "type": "float",
        "values": [
         1,
         0.9917900138232462,
         0.9672948630390295,
         0.9269167573460217,
         0.8713187041233894,
         0.8014136218679567,
         0.7183493500977276,
         0.6234898018587336,
         0.5183925683105252,
         0.404783343122394,
         0.28452758663103267,
         0.15959989503337932,
         0.03205157757165533,
         -0.09602302590768154,
         -0.22252093395631434,
         -0.3453650544213075,
         -0.4625382902408351,
         -0.5721166601221694,
         -0.6723008902613166,
         -0.7614459583691342,
         -0.8380881048918404,
         -0.900968867902419,
         -0.9490557470106686,
         -0.9815591569910653,
         -0.9979453927503363,
         -0.9979453927503363,
         -0.9815591569910654,
         -0.9490557470106689,
         -0.9009688679024191,
         -0.8380881048918408,
         -0.7614459583691346,
         -0.672300890261317,
         -0.57211666012217,
         -0.4625382902408353,
         -0.34536505442130816,
         -0.2225209339563146,
         -0.09602302590768244,
         0.03205157757165486,
         0.1595998950333784,
         0.284527586631032,
         0.40478334312239295,
         0.5183925683105245,
         0.6234898018587334,
         0.718349350097727,
         0.8014136218679565,
         0.871318704123389,
         0.9269167573460216,
         0.9672948630390291,
         0.991790013823246,
         1
        ]
       }
      }
     },
     "ef01b78462b24184affcc0e7f7fe81eb": {
      "model_module": "@jupyter-widgets/controls",
      "model_module_version": "1.1.0",
      "model_name": "IntSliderModel",
      "state": {
       "layout": "IPY_MODEL_4de3a0094aa74e1988b76eeec16d8b7a",
       "style": "IPY_MODEL_c058ad1ca5b54879ad6a531ac309da2d",
       "value": 16
      }
     },
     "efd2e3a4518c47ab81d8c44b16317f5e": {
      "model_module": "@jupyter-widgets/controls",
      "model_module_version": "1.1.0",
      "model_name": "IntSliderModel",
      "state": {
       "description": "ciao",
       "layout": "IPY_MODEL_f2e2425cb9e44a088ae3f1eff82ff788",
       "style": "IPY_MODEL_8c4f8945c60441ea94483c994667bbc3",
       "value": 30
      }
     },
     "f059780702894d2eb9661a03d91c4bda": {
      "model_module": "@jupyter-widgets/base",
      "model_module_version": "1.0.0",
      "model_name": "LayoutModel",
      "state": {}
     },
     "f07f84fa10914f6f8efcfcd7e6effb4e": {
      "model_module": "@jupyter-widgets/controls",
      "model_module_version": "1.1.0",
      "model_name": "SliderStyleModel",
      "state": {
       "description_width": ""
      }
     },
     "f14547084d7348ca887a8e7c064b0aba": {
      "model_module": "@jupyter-widgets/controls",
      "model_module_version": "1.1.0",
      "model_name": "IntSliderModel",
      "state": {
       "layout": "IPY_MODEL_3d3dcd413db243a7b1e144f38f9f4fdb",
       "style": "IPY_MODEL_6a73f1e6ba3d497ca69a2baf4e529b0c",
       "value": 7
      }
     },
     "f2e2425cb9e44a088ae3f1eff82ff788": {
      "model_module": "@jupyter-widgets/base",
      "model_module_version": "1.0.0",
      "model_name": "LayoutModel",
      "state": {}
     },
     "f4f05f099bc94450b89403384b8ecaa0": {
      "model_module": "@jupyter-widgets/base",
      "model_module_version": "1.0.0",
      "model_name": "LayoutModel",
      "state": {}
     },
     "f53d40a240544c6591252789655ef5a8": {
      "model_module": "@jupyter-widgets/controls",
      "model_module_version": "1.1.0",
      "model_name": "SliderStyleModel",
      "state": {
       "description_width": ""
      }
     },
     "f6e789ed4d4843139274dc2a43cf2bb8": {
      "model_module": "@jupyter-widgets/controls",
      "model_module_version": "1.1.0",
      "model_name": "DescriptionStyleModel",
      "state": {
       "description_width": ""
      }
     },
     "f704ceaef92945bf81fbe26d017b52ef": {
      "model_module": "@jupyter-widgets/base",
      "model_module_version": "1.0.0",
      "model_name": "LayoutModel",
      "state": {}
     },
     "f71751aefdd74486847610918578bc99": {
      "model_module": "@jupyter-widgets/base",
      "model_module_version": "1.0.0",
      "model_name": "LayoutModel",
      "state": {}
     },
     "f79d75e7412343c6a2efaba436daf34f": {
      "model_module": "bqplot",
      "model_module_version": "^0.3.6",
      "model_name": "AxisModel",
      "state": {
       "orientation": "vertical",
       "scale": "IPY_MODEL_551793ca696f4a6181f924757dd0390b",
       "side": "left",
       "tick_values": {
        "type": null,
        "values": null
       }
      }
     },
     "f79d8b01083c426e9a36e64974d7e740": {
      "model_module": "@jupyter-widgets/controls",
      "model_module_version": "1.1.0",
      "model_name": "DescriptionStyleModel",
      "state": {
       "description_width": ""
      }
     },
     "f864c07a570f43a3951fa137466a8c12": {
      "model_module": "bqplot",
      "model_module_version": "^0.3.6",
      "model_name": "ScatterModel",
      "state": {
       "_model_module": "bqplot",
       "_model_module_version": "^0.3.6",
       "_view_count": null,
       "_view_module": "bqplot",
       "_view_module_version": "^0.3.6",
       "apply_clip": true,
       "color": {
        "type": null,
        "values": null
       },
       "colors": [
        "steelblue"
       ],
       "display_legend": false,
       "enable_hover": true,
       "hovered_style": {},
       "interactions": {
        "hover": "tooltip"
       },
       "labels": [],
       "names": {
        "type": null,
        "values": null
       },
       "opacity": {
        "type": null,
        "values": null
       },
       "preserve_domain": {},
       "rotation": {
        "type": null,
        "values": null
       },
       "scales": {
        "x": "IPY_MODEL_bf46076efbed4ff3a9ac7c7014eea7e6",
        "y": "IPY_MODEL_c719bc2dae2e4f56a860960ff43f01ce"
       },
       "scales_metadata": {
        "color": {
         "dimension": "color"
        },
        "opacity": {
         "dimension": "opacity"
        },
        "rotation": {
         "dimension": "rotation"
        },
        "size": {
         "dimension": "size"
        },
        "skew": {
         "dimension": "skew"
        },
        "x": {
         "dimension": "x",
         "orientation": "horizontal"
        },
        "y": {
         "dimension": "y",
         "orientation": "vertical"
        }
       },
       "selected": [],
       "selected_style": {},
       "size": {
        "type": null,
        "values": null
       },
       "skew": {
        "type": null,
        "values": null
       },
       "tooltip": null,
       "tooltip_location": "mouse",
       "tooltip_style": {
        "opacity": 0.9
       },
       "unhovered_style": {},
       "unselected_style": {},
       "visible": true,
       "x": {
        "type": "float",
        "values": [
         1,
         2,
         3,
         4,
         5
        ]
       },
       "y": {
        "type": "float",
        "values": [
         2,
         4,
         8,
         16,
         32
        ]
       }
      }
     },
     "f911ddd4012f4a56a8c3fac17b5e75e9": {
      "model_module": "@jupyter-widgets/base",
      "model_module_version": "1.0.0",
      "model_name": "LayoutModel",
      "state": {}
     },
     "f9f7cbda77104791b452869be3347e66": {
      "model_module": "@jupyter-widgets/controls",
      "model_module_version": "1.1.0",
      "model_name": "VBoxModel",
      "state": {
       "_dom_classes": [
        "widget-interact"
       ],
       "children": [
        "IPY_MODEL_46ff6d9df8434ce5913a210927ca3997",
        "IPY_MODEL_d774a96455524d7fb6d29fbca0b250fa"
       ],
       "layout": "IPY_MODEL_adecef3fb348453fa581b80709862aac"
      }
     },
     "fb5531ddcb03485197eac678c8cd935f": {
      "model_module": "@jupyter-widgets/controls",
      "model_module_version": "1.1.0",
      "model_name": "IntSliderModel",
      "state": {
       "layout": "IPY_MODEL_e04ac42cdff943c5befebcf983361a5e",
       "style": "IPY_MODEL_ebae16342f6b45fb81063a6cb962a4a1"
      }
     },
     "fbdf1dedde664cfa9e66d5172a56e498": {
      "model_module": "@jupyter-widgets/base",
      "model_module_version": "1.0.0",
      "model_name": "LayoutModel",
      "state": {}
     },
     "fcd2b089bc234a288876b0c243a8113f": {
      "model_module": "@jupyter-widgets/controls",
      "model_module_version": "1.1.0",
      "model_name": "HBoxModel",
      "state": {
       "children": [
        "IPY_MODEL_da6b0a45448541c3877c824e8c789d20",
        "IPY_MODEL_b62a941f54884b289f30d43b9faa0a1c"
       ],
       "layout": "IPY_MODEL_4a5da8f06d1b4cfabf4d00f2150454d1"
      }
     },
     "fd45b38f099540bfa8c1339eda376d6c": {
      "model_module": "@jupyter-widgets/base",
      "model_module_version": "1.0.0",
      "model_name": "LayoutModel",
      "state": {}
     },
     "fee1145508f748428e972659f4c4781f": {
      "model_module": "@jupyter-widgets/base",
      "model_module_version": "1.0.0",
      "model_name": "LayoutModel",
      "state": {}
     }
    },
    "version_major": 2,
    "version_minor": 0
   }
  }
 },
 "nbformat": 4,
 "nbformat_minor": 2
}
