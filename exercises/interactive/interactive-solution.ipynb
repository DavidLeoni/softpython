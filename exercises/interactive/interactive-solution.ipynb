{
 "cells": [
  {
   "cell_type": "code",
   "execution_count": 1,
   "metadata": {
    "nbsphinx": "hidden"
   },
   "outputs": [],
   "source": [
    "# Ricordati di eseguire questa cella \n",
    "import sys;\n",
    "sys.path.append('../../'); \n",
    "import jupman;"
   ]
  },
  {
   "cell_type": "markdown",
   "metadata": {},
   "source": [
    "# Applicazioni interattive - soluzioni\n"
   ]
  },
  {
   "cell_type": "markdown",
   "metadata": {},
   "source": [
    "## [Scarica zip esercizi](../../_static/interactive-exercises.zip)\n",
    "\n",
    "[Naviga file online](https://github.com/DavidLeoni/softpython/tree/master/exercises/interactive)\n",
    "\n",
    "\n",
    "## Introduzione\n",
    "\n",
    "\n",
    "In questo tutoral affronteremo il tema delle applicazioni interattive, usando:\n",
    "\n",
    "* **i widget di Jupyter**. Li abbiamo scelti perchè sono sorprendentemente flessibili e intuitivi. Come riferimento, seguiremo l'ottima  [User Guide](http://ipywidgets.readthedocs.io/en/stable/user_guide.html) ufficiale di Jupyter (in inglese)\n",
    "* **bqplot** per fare grafici interattivi\n",
    "\n",
    "Questo tutorial non può certo essere un corso intero di Human Computer Interaction, ma dovrebbe permettervi di avere un'idea di come sviluppare delle interfacce rudimentali\n",
    "\n",
    "\n",
    "### Che fare\n",
    "\n",
    "\n",
    "- scompatta lo zip in una cartella, dovresti ottenere qualcosa del genere: \n",
    "\n",
    "```\n",
    "\n",
    "-jupman.py\n",
    "-altri file ..\n",
    "-exercises\n",
    "     |- interactive\n",
    "         |- interactive-exercise.ipynb     \n",
    "         |- interactive-solution.ipynb\n",
    "         |- altri file ..\n",
    "```\n",
    "\n",
    "<div class=\"alert alert-warning\">\n",
    "\n",
    "**ATTENZIONE**: Per essere visualizzato correttamente, il file del notebook DEVE essere nella cartella szippata.\n",
    "</div>\n",
    "\n",
    "- apri il Jupyter Notebook da quella cartella. Due cose dovrebbero aprirsi, prima una console e poi un browser. Il browser dovrebbe mostrare una lista di file: naviga la lista e apri il notebook `exercises/interactive/interactive-exercise.ipynb`\n",
    "- Prosegui leggendo il file degli esercizi, ogni tanto al suo interno troverai delle scritte **DA FARE**, che ti chiederanno di scrivere dei comandi Python nelle celle successive. \n",
    "\n",
    "<div class=\"alert alert-warning\">\n",
    "\n",
    "**ATTENZIONE**: Ricordati di eseguire sempre la prima cella dentro il notebook. Contiene delle istruzioni come `import jupman` che dicono a Python quali moduli servono e dove trovarli. Per eseguirla, vedi le seguenti scorciatoie\n",
    "</div>\n",
    "\n",
    "\n",
    "\n",
    "Scorciatoie da tastiera:\n",
    "\n",
    "* Per eseguire il codice Python dentro una cella di Jupyter, premi `Control+Invio`\n",
    "* Per eseguire il codice Python dentro una cella di Jupyter E selezionare la cella seguente, premi `Shift+Invio`\n",
    "* Per eseguire il codice Python dentro una cella di Jupyter E creare una nuova cella subito dopo, premi `Alt+Invio`\n",
    "* Se per caso il Notebook sembra inchiodato, prova a selezionare `Kernel -> Restart`\n",
    "\n",
    "\n"
   ]
  },
  {
   "cell_type": "markdown",
   "metadata": {},
   "source": [
    "\n",
    "### Perchè fare interfacce grafiche ? \n",
    "\n",
    "Per quanto le interfacce grafiche possano sembrare attrattive, prima di lanciarsi a crearle bisogna sempre farsi alcune domande fondamentali:\n",
    "\n",
    "**Qual'è lo scopo?**\n",
    "\n",
    "* sperimentazione?  \n",
    "* creare prototipi ?\n",
    "* prodotti per utenti finali?\n",
    "\n",
    "**Chi è l'utente?** \n",
    "\n",
    "* Tu?\n",
    "* Altre persone ? \n",
    "    * Che conoscenze hanno ?\n",
    "* dove viene usata l'interfaccia ? \n",
    "    * a casa?\n",
    "    * fuori casa? \n",
    "        * c'è poco / tanto sole ?\n",
    "            \n",
    "\n",
    "### Scelte di stile\n",
    "\n",
    "* interfaccia semplice o complessa ? \n",
    "* stile in-progress ( mockup) o prodotto finito ?\n",
    "\n",
    "### Scelte tecniche \n",
    "\n",
    "Una volta identificati i requisiti, si possono fare le scelte tecniche, che riguardano linguaggi e architettura. Ci sono tantissime combinazioni possibili, ne menzioniamo solo alcune:\n",
    "\n",
    "**sito online, solo client**\n",
    "\n",
    "* niente server\n",
    "* client browser con Javascript, HTML, CSS\n",
    "* client mobile app\n",
    "    * Android (in Java)    ?\n",
    "    * iPhone (in Object-C) ?\n",
    "\n",
    "**sito online, client / server**    \n",
    "\n",
    "* server in Python (magari in [Django](https://www.djangoproject.com/))\n",
    "* client Javascript,HTML,CSS in browser\n",
    "* client in browser in Python transpilato a Javascript\n",
    "* client mobile app        \n",
    "\n",
    "**offline, desktop (applicazioni native Python)**\n",
    " \n",
    "\n",
    "### Risposte per oggi:\n",
    "\n",
    "\n",
    "**scopo**: sperimentazione\n",
    "\n",
    "**utente**: Tu !\n",
    "\n",
    "**architettura**: client/server\n",
    "\n",
    "* server: Jupyter, con funzioni definite in Python dentro Jupyter\n",
    "* client: browser  \n",
    "    * browser gestito automaticamente dal server Jupyter\n",
    "    * niente Javascript / HTML, pochissimo CSS\n",
    "\n",
    "Morale: se un giorno dovrete fare applicazioni grafiche sul serio per utenti finali, prima leggetevi un buon libro di Human Computer Interaction e testate spesso le vostre interfacce con amici & parenti !\n",
    "\n"
   ]
  },
  {
   "cell_type": "markdown",
   "metadata": {},
   "source": [
    "\n",
    "## Installazione ipywidgets\n",
    "\n",
    "Prima di avviare Jupyter, bisogna installare la libreria `ipywidgets` ed eventualmente  abilitarla, a seconda del sistema operativo:\n",
    "\n",
    "**Anaconda**:\n",
    "    \n",
    "* `conda install -c conda-forge ipywidgets`\n",
    "* Installare `ipywidgets` con `conda` abiliterà automaticamente l'estensione per te\n",
    "\n",
    "\n",
    "**Linux/Mac**:\n",
    "\n",
    "* installa ipywidgets (`--user` installa nella propria home): \n",
    "\n",
    "```bash\n",
    "python3 -m pip install --user ipywidgets\n",
    "```\n",
    "\n",
    "* abilita l'estensione così: \n",
    "\n",
    "```bash\n",
    "jupyter nbextension enable  --py   widgetsnbextension\n",
    "```\n",
    "\n",
    "Adesso prova ad aprire Jupyter ed incollare il seguente codice in una cella, eseguendolo dovrebbe apparirti il widget dello slider sotto la cella:"
   ]
  },
  {
   "cell_type": "code",
   "execution_count": 2,
   "metadata": {},
   "outputs": [
    {
     "data": {
      "application/vnd.jupyter.widget-view+json": {
       "model_id": "d59f4e5b0e6248cd94acd3096956bed0",
       "version_major": 2,
       "version_minor": 0
      },
      "text/plain": [
       "IntSlider(value=0)"
      ]
     },
     "metadata": {},
     "output_type": "display_data"
    }
   ],
   "source": [
    "import ipywidgets as widgets\n",
    "widgets.IntSlider()"
   ]
  },
  {
   "cell_type": "code",
   "execution_count": 3,
   "metadata": {},
   "outputs": [],
   "source": [
    "# copia incolla qua sotto:\n",
    "\n"
   ]
  },
  {
   "cell_type": "markdown",
   "metadata": {},
   "source": [
    "## Facciamo uno slider"
   ]
  },
  {
   "cell_type": "markdown",
   "metadata": {},
   "source": [
    "Prima abbiamo dato l'istruzione a Jupyter di creare un widget slider, e Jupyter ci ha mostrato subito il risultato della creazione. Che succede se salviamo il risultato in una variabile ?"
   ]
  },
  {
   "cell_type": "code",
   "execution_count": 4,
   "metadata": {},
   "outputs": [],
   "source": [
    "w = widgets.IntSlider()"
   ]
  },
  {
   "cell_type": "markdown",
   "metadata": {},
   "source": [
    "Vediamo che apparentemente non accade nulla. Cosa c'è adesso nella variabile `w`? Vediamolo con `type`: "
   ]
  },
  {
   "cell_type": "code",
   "execution_count": 5,
   "metadata": {},
   "outputs": [
    {
     "data": {
      "text/plain": [
       "ipywidgets.widgets.widget_int.IntSlider"
      ]
     },
     "execution_count": 5,
     "metadata": {},
     "output_type": "execute_result"
    }
   ],
   "source": [
    "type(w)"
   ]
  },
  {
   "cell_type": "markdown",
   "metadata": {},
   "source": [
    "Vediamo che in `w` abbiamo un istanza di uno `IntSlider`. Ma come facciamo a dire a Python di mostrarlo? Possiamo usare la funzione `display`, importandola dal modulo `IPython.display` (Nota che il `display` dopo il punto è il nome del modulo, in questo caso particolare il modulo contiene anche una funzione che si chiama come il modulo):"
   ]
  },
  {
   "cell_type": "code",
   "execution_count": 6,
   "metadata": {},
   "outputs": [
    {
     "data": {
      "application/vnd.jupyter.widget-view+json": {
       "model_id": "998a50b93977464fa58958e3903ced93",
       "version_major": 2,
       "version_minor": 0
      },
      "text/plain": [
       "IntSlider(value=0)"
      ]
     },
     "metadata": {},
     "output_type": "display_data"
    }
   ],
   "source": [
    "from IPython.display import display\n",
    "display(w)"
   ]
  },
  {
   "cell_type": "markdown",
   "metadata": {},
   "source": [
    "Proviamo a cambiare un po' di proprietà dello slider:"
   ]
  },
  {
   "cell_type": "code",
   "execution_count": 7,
   "metadata": {},
   "outputs": [],
   "source": [
    "w.description = \"ciao\" # scritta a sinistra"
   ]
  },
  {
   "cell_type": "code",
   "execution_count": 8,
   "metadata": {},
   "outputs": [
    {
     "data": {
      "text/plain": [
       "0"
      ]
     },
     "execution_count": 8,
     "metadata": {},
     "output_type": "execute_result"
    }
   ],
   "source": [
    "w.value"
   ]
  },
  {
   "cell_type": "code",
   "execution_count": 9,
   "metadata": {},
   "outputs": [],
   "source": [
    "w.value = 30"
   ]
  },
  {
   "cell_type": "markdown",
   "metadata": {},
   "source": [
    "Per una lista di variabili, usa `keys`:"
   ]
  },
  {
   "cell_type": "code",
   "execution_count": 10,
   "metadata": {},
   "outputs": [
    {
     "data": {
      "text/plain": [
       "['_view_name',\n",
       " '_dom_classes',\n",
       " 'description',\n",
       " 'disabled',\n",
       " 'continuous_update',\n",
       " 'readout',\n",
       " 'max',\n",
       " '_model_module_version',\n",
       " 'min',\n",
       " '_view_module_version',\n",
       " 'value',\n",
       " 'readout_format',\n",
       " 'description_tooltip',\n",
       " '_model_module',\n",
       " '_view_module',\n",
       " 'step',\n",
       " 'layout',\n",
       " 'orientation',\n",
       " 'style',\n",
       " '_model_name',\n",
       " '_view_count']"
      ]
     },
     "execution_count": 10,
     "metadata": {},
     "output_type": "execute_result"
    }
   ],
   "source": [
    "w.keys"
   ]
  },
  {
   "cell_type": "markdown",
   "metadata": {},
   "source": [
    "**DA FARE**: prova a settare `min`, `max`, `step`. Prova a settare valori di `min` più grandi del valore che vedi correntemente, che succede ?"
   ]
  },
  {
   "cell_type": "markdown",
   "metadata": {},
   "source": [
    "**DA FARE**: Prova qualche altro widget [dal sito di Jupyter](http://ipywidgets.readthedocs.io/en/stable/examples/Widget%20List.html)\n",
    "\n"
   ]
  },
  {
   "cell_type": "markdown",
   "metadata": {},
   "source": [
    "## Model View Controller\n",
    "\n",
    "Una cosa interessante è chiamare ripetutamente display:"
   ]
  },
  {
   "cell_type": "code",
   "execution_count": 11,
   "metadata": {},
   "outputs": [
    {
     "data": {
      "application/vnd.jupyter.widget-view+json": {
       "model_id": "f28408491f654da69c3e167f2a2c2676",
       "version_major": 2,
       "version_minor": 0
      },
      "text/plain": [
       "IntSlider(value=0)"
      ]
     },
     "metadata": {},
     "output_type": "display_data"
    }
   ],
   "source": [
    "w = widgets.IntSlider()\n",
    "display(w)"
   ]
  },
  {
   "cell_type": "code",
   "execution_count": 12,
   "metadata": {},
   "outputs": [
    {
     "data": {
      "application/vnd.jupyter.widget-view+json": {
       "model_id": "f28408491f654da69c3e167f2a2c2676",
       "version_major": 2,
       "version_minor": 0
      },
      "text/plain": [
       "IntSlider(value=0)"
      ]
     },
     "metadata": {},
     "output_type": "display_data"
    }
   ],
   "source": [
    "display(w)"
   ]
  },
  {
   "cell_type": "markdown",
   "metadata": {},
   "source": [
    "**DA FARE**: prova a scorrere il secondo slider, e guarda cosa succede al primo "
   ]
  },
  {
   "cell_type": "markdown",
   "metadata": {},
   "source": [
    "Ogni chiamata a `display` genera una vista (_view_) del widget, ma il modello sottostante (_model_) che contiene i dati con il numero della posizione rimane lo stesso. Ogni volta che clicchiamo su una vista e trasciniamo lo slider, il browser manda dei segnali al kernel Python per comunicargli che deve cambiare il valore nel modello dati. Il kernel controlla cosa succede (_controller_) e a sua volta può reagire ai segnali attuando altri comportamenti, come per esempio aggiornare un grafico nel browser. "
   ]
  },
  {
   "cell_type": "markdown",
   "metadata": {},
   "source": [
    "![](WidgetModelView.png)"
   ]
  },
  {
   "cell_type": "markdown",
   "metadata": {},
   "source": [
    "## Interact\n",
    "\n",
    "`interact` è un modo semplice per creare delle funzioni che reagiscono a cambiamenti di componenti grafici. Per esempio, se vogliamo creare uno slider alla cui posizione è associata una variabile `k`: ogni volta che muoviamo lo slider, ci piacerebbe stampare il doppio di `k`.  \n",
    "\n",
    "Per cominciare, possiamo definire una nostra funzione `aggiorna`, che prende in input il numero `k`, calcola il nuovo numero e stampa:\n",
    "\n",
    "**NOTA**: `aggiorna` prende un parametro `k` che definiamo noi. Potremmo anche chiamarlo `pippo`. \n"
   ]
  },
  {
   "cell_type": "code",
   "execution_count": 13,
   "metadata": {},
   "outputs": [
    {
     "data": {
      "application/vnd.jupyter.widget-view+json": {
       "model_id": "6991d4187536457aba804b7a935a9ddb",
       "version_major": 2,
       "version_minor": 0
      },
      "text/plain": [
       "interactive(children=(IntSlider(value=3, description='k', max=9, min=-3), Output()), _dom_classes=('widget-int…"
      ]
     },
     "metadata": {},
     "output_type": "display_data"
    },
    {
     "data": {
      "text/plain": [
       "<function __main__.aggiorna(k=3)>"
      ]
     },
     "execution_count": 13,
     "metadata": {},
     "output_type": "execute_result"
    }
   ],
   "source": [
    "from ipywidgets import interact\n",
    "\n",
    "def aggiorna(k = 3):\n",
    "    print(\"il doppio è \" + str(k*2))   # con str convertiamo il numero a stringa, altrimenti Python si offende\n",
    "    \n",
    "interact(aggiorna)"
   ]
  },
  {
   "cell_type": "markdown",
   "metadata": {},
   "source": [
    "Abbiamo creato una semplice funzione Python, niente di speciale fin qui. Proviamo a chiamarla noi:"
   ]
  },
  {
   "cell_type": "code",
   "execution_count": 14,
   "metadata": {},
   "outputs": [
    {
     "name": "stdout",
     "output_type": "stream",
     "text": [
      "il doppio è 10\n"
     ]
    }
   ],
   "source": [
    "aggiorna(5)"
   ]
  },
  {
   "cell_type": "code",
   "execution_count": 15,
   "metadata": {},
   "outputs": [
    {
     "name": "stdout",
     "output_type": "stream",
     "text": [
      "il doppio è 14\n"
     ]
    }
   ],
   "source": [
    "aggiorna(7)"
   ]
  },
  {
   "cell_type": "markdown",
   "metadata": {},
   "source": [
    "Ora non ci resta che dire a Jupyther di creare uno slider e chiamare `aggiorna` ogni volta che lo slider viene spostato. Possiamo farlo con la funzione di Jupyter `interact`.\n",
    "\n",
    "NOTA: chiamando la funzione di Jupyter `interact`, come parametro gli passiamo  _la funzione_ aggiorna, \n",
    "NON il risultato della funzione aggiorna !\n",
    "Dato che nella dichiarazione di aggiorna abbiamo messo un parametro k inizializzato da un intero 3,\n",
    "Python capisce magicamente che siamo interessati a visualizzare un widget in grado di modificare valori \n",
    "interi, e in questo caso creerà un bello slider!"
   ]
  },
  {
   "cell_type": "code",
   "execution_count": 16,
   "metadata": {},
   "outputs": [
    {
     "data": {
      "application/vnd.jupyter.widget-view+json": {
       "model_id": "a5dcd612020f40f781473ed78eb50176",
       "version_major": 2,
       "version_minor": 0
      },
      "text/plain": [
       "interactive(children=(IntSlider(value=3, description='k', max=9, min=-3), Output()), _dom_classes=('widget-int…"
      ]
     },
     "metadata": {},
     "output_type": "display_data"
    },
    {
     "data": {
      "text/plain": [
       "<function __main__.aggiorna(k=3)>"
      ]
     },
     "execution_count": 16,
     "metadata": {},
     "output_type": "execute_result"
    }
   ],
   "source": [
    "interact(aggiorna)"
   ]
  },
  {
   "cell_type": "markdown",
   "metadata": {},
   "source": [
    "Abbiamo detto che `interact` è intelligente e crea il widget giusto in base al tipo del parametro iniziale. Proviamo con un boolean:"
   ]
  },
  {
   "cell_type": "code",
   "execution_count": 17,
   "metadata": {},
   "outputs": [
    {
     "data": {
      "application/vnd.jupyter.widget-view+json": {
       "model_id": "b0eb9dcb5eb84e729928025c070d5f6a",
       "version_major": 2,
       "version_minor": 0
      },
      "text/plain": [
       "interactive(children=(Checkbox(value=True, description='k'), Output()), _dom_classes=('widget-interact',))"
      ]
     },
     "metadata": {},
     "output_type": "display_data"
    },
    {
     "data": {
      "text/plain": [
       "<function __main__.aggiorna(k=True)>"
      ]
     },
     "execution_count": 17,
     "metadata": {},
     "output_type": "execute_result"
    }
   ],
   "source": [
    "from ipywidgets import interact\n",
    "\n",
    "\n",
    "def aggiorna(k = True):\n",
    "    if k:\n",
    "        print(\"spuntata\")\n",
    "    else:\n",
    "        print(\"non spuntata\")\n",
    "        \n",
    "interact(aggiorna)"
   ]
  },
  {
   "cell_type": "markdown",
   "metadata": {},
   "source": [
    "Vediamo che ci viene creata una casella checkbox. Si possono anche passare più parametri per ottenere più widget:"
   ]
  },
  {
   "cell_type": "code",
   "execution_count": 18,
   "metadata": {},
   "outputs": [
    {
     "data": {
      "application/vnd.jupyter.widget-view+json": {
       "model_id": "7df31885fa0042e18f71b210ea2f8945",
       "version_major": 2,
       "version_minor": 0
      },
      "text/plain": [
       "interactive(children=(IntSlider(value=3, description='i', max=9, min=-3), Checkbox(value=True, description='k'…"
      ]
     },
     "metadata": {},
     "output_type": "display_data"
    },
    {
     "data": {
      "text/plain": [
       "<function __main__.aggiorna(i=3, k=True)>"
      ]
     },
     "execution_count": 18,
     "metadata": {},
     "output_type": "execute_result"
    }
   ],
   "source": [
    "from ipywidgets import interact\n",
    "\n",
    "\n",
    "def aggiorna(i=3, k = True):\n",
    "    \n",
    "    if i > 3:\n",
    "        print('grande')\n",
    "    elif i == 3:\n",
    "        print('medio')\n",
    "    else:\n",
    "        print('piccolo')\n",
    "        \n",
    "    if k:\n",
    "        print(\"spuntata\")\n",
    "    else:\n",
    "        print(\"non spuntata\")\n",
    "        \n",
    "interact(aggiorna)"
   ]
  },
  {
   "cell_type": "markdown",
   "metadata": {},
   "source": [
    "Possiamo anche crearci il widget direttamente associandolo alla stessa variabile che usiamo in `aggiorna`. Qua per esempio associamo noi uno slider con valore iniziale 10 alla variabile `k`. Notare che il `10` è definito durante la creazione dell'`IntSlider` e non in `aggiorna`:"
   ]
  },
  {
   "cell_type": "code",
   "execution_count": 19,
   "metadata": {},
   "outputs": [
    {
     "data": {
      "application/vnd.jupyter.widget-view+json": {
       "model_id": "5444d43d016841098977d0556c413f0d",
       "version_major": 2,
       "version_minor": 0
      },
      "text/plain": [
       "interactive(children=(IntSlider(value=10, description='k', max=30, min=-10), Output()), _dom_classes=('widget-…"
      ]
     },
     "metadata": {},
     "output_type": "display_data"
    }
   ],
   "source": [
    "from ipywidgets import interact\n",
    "\n",
    "def aggiorna(k):\n",
    "    print('Il numero è ' + str(k))\n",
    "    \n",
    "interact(aggiorna, k=widgets.IntSlider(min=-10,max=30,step=1,value=10));"
   ]
  },
  {
   "cell_type": "markdown",
   "metadata": {},
   "source": [
    "## Riusare il widget con interactive\n",
    "\n",
    "Se vogliamo accedere programmaticamente agli oggetti widget creati da interact, non dobbiamo usare `interact` ma `interactive`:"
   ]
  },
  {
   "cell_type": "code",
   "execution_count": 20,
   "metadata": {},
   "outputs": [
    {
     "data": {
      "application/vnd.jupyter.widget-view+json": {
       "model_id": "c2897e855a3f41a487b4d3151d673ddd",
       "version_major": 2,
       "version_minor": 0
      },
      "text/plain": [
       "interactive(children=(IntSlider(value=10, description='k', max=30, min=-10), Output()), _dom_classes=('widget-…"
      ]
     },
     "metadata": {},
     "output_type": "display_data"
    }
   ],
   "source": [
    "from ipywidgets import interactive\n",
    "from IPython.display import display\n",
    "\n",
    "def aggiorna(k):\n",
    "    print('Il numero è ' + str(k))\n",
    "    \n",
    "slider = interactive(aggiorna, k=widgets.IntSlider(min=-10,max=30,step=1,value=10));\n",
    "display(slider)"
   ]
  },
  {
   "cell_type": "markdown",
   "metadata": {},
   "source": [
    "## Eventi"
   ]
  },
  {
   "cell_type": "markdown",
   "metadata": {},
   "source": [
    "E se volessimo accedere ai valori di un widget con logiche più complesse, per esempio per comandarne un altro? In questi casi conviene gestire eventi con `observe`. Per cominciare, vediamo come funziona sul buon vecchio `IntSlider`. \n",
    "\n",
    "* Oltre a trascinare lo slider, prova anche a farlo saltare da un estremo all'altro, e osserva i valori stampati. \n",
    "* Per far sparire tutte le stampe, basta rieseguire la cella.\n",
    "\n",
    "<div class=\"alert alert-warning\">\n",
    "\n",
    "**ATTENZIONE**: attento ai bottoni !\n",
    "\n",
    "`.observe` va bene per widget in genere, ma per i bottoni ad Agosto 2018 non sembra funzionare. Per quest'ultimi usa  gli [eventi click]() con il metodo `.on_click`. \n",
    "\n",
    "</div>"
   ]
  },
  {
   "cell_type": "code",
   "execution_count": 21,
   "metadata": {},
   "outputs": [
    {
     "data": {
      "application/vnd.jupyter.widget-view+json": {
       "model_id": "cf88dab66d124c31af00f9582200a6c3",
       "version_major": 2,
       "version_minor": 0
      },
      "text/plain": [
       "IntSlider(value=0)"
      ]
     },
     "metadata": {},
     "output_type": "display_data"
    }
   ],
   "source": [
    "import ipywidgets as widgets\n",
    "from ipywidgets import IntSlider\n",
    "from IPython.display import display\n",
    "\n",
    "slider1 = IntSlider()\n",
    "display(slider1)\n",
    "\n",
    "# notare che stavolta dichiariamo la variabile 'change', che NON è un solo valore come con interact\n",
    "# ma un oggetto con diversi valori riguardanti il cambiamento generato dal click dell'utente,\n",
    "# il più interessante dei quali è `new`. Prova a togliere i commenti\n",
    "# da print(change) per vedere l'oggetto change completo\n",
    "def aggiorna(change):    \n",
    "    print(\"Il nuovo valore è \" + str(change.new))\n",
    "    #print(type(change))\n",
    "    print(change)\n",
    "\n",
    "#NOTA: adesso passiamo anche il parametro names=['value'] per filtrare i tipi di change che riceviamo    \n",
    "slider1.observe(aggiorna, names=['value'])"
   ]
  },
  {
   "cell_type": "markdown",
   "metadata": {},
   "source": [
    "**DA FARE**: Perchè abbiamo aggiunto quel `names=['value']`? Ricopia il codice di sopra qua sotto togliendo `, names=['value']` scoprirai che vengono stampate un sacco di cose in più, che nella maggior parte dei casi sono inutili. "
   ]
  },
  {
   "cell_type": "code",
   "execution_count": 22,
   "metadata": {},
   "outputs": [],
   "source": [
    "# scrivi qui\n",
    "\n"
   ]
  },
  {
   "cell_type": "markdown",
   "metadata": {},
   "source": [
    "### Controlliamo una label con uno slider\n",
    "\n",
    "Proviamo adesso ad usare il widget dello slider per comandare dei widget di tipo Label:"
   ]
  },
  {
   "cell_type": "code",
   "execution_count": 23,
   "metadata": {},
   "outputs": [
    {
     "data": {
      "application/vnd.jupyter.widget-view+json": {
       "model_id": "8279ce46963949ed8d462623d0553b78",
       "version_major": 2,
       "version_minor": 0
      },
      "text/plain": [
       "IntSlider(value=0)"
      ]
     },
     "metadata": {},
     "output_type": "display_data"
    },
    {
     "data": {
      "application/vnd.jupyter.widget-view+json": {
       "model_id": "b3b9144d69074d3f9d0fefd10ce9b52e",
       "version_major": 2,
       "version_minor": 0
      },
      "text/plain": [
       "Label(value='nuovo valore = ')"
      ]
     },
     "metadata": {},
     "output_type": "display_data"
    }
   ],
   "source": [
    "import ipywidgets as widgets\n",
    "from ipywidgets import IntSlider, Label\n",
    "from IPython.display import display\n",
    "\n",
    "slider1 = IntSlider()\n",
    "display(slider1)\n",
    "label_new = Label(\"nuovo valore = \")\n",
    "display(label_new)\n",
    "\n",
    "# notare che stavolta dichiariamo la variabile 'change', che NON è un solo valore come con interact\n",
    "# ma un oggetto con diversi valori riguardanti il cambiamento generato dal click dell'utente,\n",
    "# il più interessante dei quali è `new`. Prova a togliere i commenti\n",
    "# da print(change) per vedere l'oggetto change completo\n",
    "def aggiorna(change):    \n",
    "    label_new.value = \"nuovo valore = \" + str(change.new) # convertiamo il numero in stringa\n",
    "\n",
    "#NOTA: adesso passiamo anche il parametro names=['value'] per filtrare i tipi di change che riceviamo    \n",
    "slider1.observe(aggiorna, names=['value'])"
   ]
  },
  {
   "cell_type": "markdown",
   "metadata": {},
   "source": [
    "**DA FARE**: Riscrivi qua sotto l'esempio di sopra, aggiungiendo in più una etichetta che mostri anche il vecchio valore"
   ]
  },
  {
   "cell_type": "code",
   "execution_count": 24,
   "metadata": {},
   "outputs": [
    {
     "data": {
      "application/vnd.jupyter.widget-view+json": {
       "model_id": "efe88a034af24dcbb2a360e93c460cd9",
       "version_major": 2,
       "version_minor": 0
      },
      "text/plain": [
       "IntSlider(value=0)"
      ]
     },
     "metadata": {},
     "output_type": "display_data"
    },
    {
     "data": {
      "application/vnd.jupyter.widget-view+json": {
       "model_id": "44514bc9312e41ee978c5310c11bd6a8",
       "version_major": 2,
       "version_minor": 0
      },
      "text/plain": [
       "Label(value='nuovo valore = ')"
      ]
     },
     "metadata": {},
     "output_type": "display_data"
    },
    {
     "data": {
      "application/vnd.jupyter.widget-view+json": {
       "model_id": "c26650b4d8024855a928a69d7f779092",
       "version_major": 2,
       "version_minor": 0
      },
      "text/plain": [
       "Label(value='vecchio valore = ')"
      ]
     },
     "metadata": {},
     "output_type": "display_data"
    }
   ],
   "source": [
    "# scrivi qui\n",
    "\n",
    "import ipywidgets as widgets\n",
    "from ipywidgets import IntSlider, Label\n",
    "from IPython.display import display\n",
    "\n",
    "slider1 = IntSlider()\n",
    "display(slider1)\n",
    "label_new = Label(\"nuovo valore = \")\n",
    "display(label_new)\n",
    "label_old = Label(\"vecchio valore = \")\n",
    "display(label_old)\n",
    "\n",
    "# notare che stavolta dichiariamo la variabile 'change', che NON è un solo valore come con interact\n",
    "# ma un oggetto con diversi valori riguardanti il cambiamento generato dal click dell'utente,\n",
    "# il più interessante dei quali è `new`. Prova a togliere i commenti\n",
    "# da print(change) per vedere l'oggetto change completo\n",
    "def aggiorna(change):    \n",
    "    label_new.value = \"nuovo valore = \" + str(change.new) # convertiamo il numero in stringa\n",
    "    label_old.value = \"vecchio valore = \" + str(change.old) # convertiamo il numero in stringa\n",
    "\n",
    "#NOTA: adesso passiamo anche il parametro names=['value'] per filtrare i tipi di change che riceviamo    \n",
    "slider1.observe(aggiorna, names=['value'])"
   ]
  },
  {
   "cell_type": "markdown",
   "metadata": {},
   "source": [
    "### Controlliamo uno slider con un'altro slider\n",
    "\n",
    "Proviamo adesso ad usare il widget dello slider per comandare un altro slider: quando cambiamo i valori del primo slider, vogliamo che il secondo mostri lo stesso valore raddoppiato.\n"
   ]
  },
  {
   "cell_type": "code",
   "execution_count": 25,
   "metadata": {},
   "outputs": [
    {
     "data": {
      "application/vnd.jupyter.widget-view+json": {
       "model_id": "6cd482b02fb04156a2bba3f0a26c3f05",
       "version_major": 2,
       "version_minor": 0
      },
      "text/plain": [
       "IntSlider(value=0)"
      ]
     },
     "metadata": {},
     "output_type": "display_data"
    },
    {
     "data": {
      "application/vnd.jupyter.widget-view+json": {
       "model_id": "d52434e21ec141fd9a215964cd7e5c0d",
       "version_major": 2,
       "version_minor": 0
      },
      "text/plain": [
       "IntSlider(value=0, max=200)"
      ]
     },
     "metadata": {},
     "output_type": "display_data"
    }
   ],
   "source": [
    "import ipywidgets as widgets\n",
    "from ipywidgets import IntSlider\n",
    "from IPython.display import display\n",
    "\n",
    "slider1 = widgets.IntSlider(max=100)  # specifichiamo il limite estremo\n",
    "display(slider1)\n",
    "slider2 = widgets.IntSlider(max=200)  # ricordiamoci di specificare il limite doppio del primo\n",
    "display(slider2)\n",
    "\n",
    "\n",
    "# notare che stavolta dichiariamo la variabile 'change', che NON è un solo valore come con interact\n",
    "# ma un oggetto con diversi valori riguardanti il cambiamento generato dal click dell'utente,\n",
    "# il più interessante dei quali è `new`. Prova a togliere i commenti\n",
    "# da print(change) per vedere l'oggetto change completo\n",
    "def aggiorna1(change):    \n",
    "    #print(\"Il nuovo valore è \" + str(change.new))\n",
    "    #print(type(change))\n",
    "    slider2.value = change.new * 2\n",
    "\n",
    "#NOTA: adesso passiamo anche il parametro names=['value'] per filtrare i tipi di change che riceviamo    \n",
    "slider1.observe(aggiorna1, names=['value'])"
   ]
  },
  {
   "cell_type": "markdown",
   "metadata": {},
   "source": [
    "**DA FARE**: Cosa succede se muoviamo il secondo slider? Il primo si aggiorna? Scrivi qua sotto una versione modificata del codice sopra, in cui quando si muove il secondo slider al primo viene fatto mostrare un valore che è la metà del secondo. \n",
    "\n",
    "**SUGGERIMENTO**: crea una seconda funzione `aggiorna2` che aggiorna il primo slider, e collegala allo `slider2`\n",
    "\n",
    "**NOTA**: l'operatore di divisione intera è `//`\n"
   ]
  },
  {
   "cell_type": "code",
   "execution_count": 26,
   "metadata": {},
   "outputs": [
    {
     "data": {
      "application/vnd.jupyter.widget-view+json": {
       "model_id": "e5b8f1af78c9402e98209a5d96ca7cde",
       "version_major": 2,
       "version_minor": 0
      },
      "text/plain": [
       "IntSlider(value=0)"
      ]
     },
     "metadata": {},
     "output_type": "display_data"
    },
    {
     "data": {
      "application/vnd.jupyter.widget-view+json": {
       "model_id": "47e1c6f979e149f9ae69ae87e1280c08",
       "version_major": 2,
       "version_minor": 0
      },
      "text/plain": [
       "IntSlider(value=0, max=200)"
      ]
     },
     "metadata": {},
     "output_type": "display_data"
    }
   ],
   "source": [
    "# scrivi qui\n",
    "\n",
    "slider1 = widgets.IntSlider(max=100)  # specifichiamo il limite estremo\n",
    "display(slider1)\n",
    "slider2 = widgets.IntSlider(max=200)  # ricordiamoci di specificare il limite doppio del primo\n",
    "display(slider2)\n",
    "\n",
    "\n",
    "# notare che stavolta dichiariamo la variabile 'change', che NON è un solo valore come con interact\n",
    "# ma un oggetto con diversi valori riguardanti il cambiamento generato dal click dell'utente,\n",
    "# il più interessante dei quali è `new`. Prova a togliere i commenti\n",
    "# da print(change) per vedere l'oggetto change completo\n",
    "def aggiorna1(change):    \n",
    "    #print(\"Il nuovo valore è \" + str(change.new))\n",
    "    #print(type(change))\n",
    "    slider2.value = change.new * 2\n",
    "\n",
    "def aggiorna2(change):    \n",
    "    #print(\"Il nuovo valore è \" + str(change.new))\n",
    "    #print(type(change))\n",
    "    slider1.value = change.new // 2 # divisione intera !\n",
    "    \n",
    "    \n",
    "#NOTA: adesso passiamo anche il parametro names=['value'] per filtrare i tipi di change che riceviamo    \n",
    "slider1.observe(aggiorna1, names=['value'])\n",
    "slider2.observe(aggiorna2, names=['value'])\n",
    "\n"
   ]
  },
  {
   "cell_type": "markdown",
   "metadata": {},
   "source": [
    "**DA FARE**: Dopo aver svolto l'esercizio precedente, prova a farne un'altro dove gli slider sono `FloatSlider` e il secondo slider rappresenta il quadrato del primo slider. \n",
    "\n",
    "* **NOTA 1**: Ricordati di importare il `FloatSlider`\n",
    "* **NOTA 2**: l'operatore di esponenziazione in Python è `**`:  `5 ** 2` è cinque al quadrato \n",
    "* **NOTA 3**: per la radice quadrata, usa `** (1 / 2)`. Qual'è il risultato di `1 / 2`?\n",
    "\n",
    "**DOMANDA**: se hai svolto l'esercizio precedente, probabilmente avrai notato che gli slider sembrano 'ballare' un po' più del caso intero. Hai idea del perchè ?"
   ]
  },
  {
   "cell_type": "code",
   "execution_count": 27,
   "metadata": {},
   "outputs": [
    {
     "data": {
      "application/vnd.jupyter.widget-view+json": {
       "model_id": "78b3abcfdf1d478f85d5904930a90c72",
       "version_major": 2,
       "version_minor": 0
      },
      "text/plain": [
       "FloatSlider(value=0.0)"
      ]
     },
     "metadata": {},
     "output_type": "display_data"
    },
    {
     "data": {
      "application/vnd.jupyter.widget-view+json": {
       "model_id": "da63918fe9c34336a979dcf597bcb369",
       "version_major": 2,
       "version_minor": 0
      },
      "text/plain": [
       "FloatSlider(value=0.0, max=10000.0)"
      ]
     },
     "metadata": {},
     "output_type": "display_data"
    }
   ],
   "source": [
    "\n",
    "import ipywidgets as widgets\n",
    "from ipywidgets import FloatSlider, Label\n",
    "from IPython.display import display\n",
    "\n",
    "\n",
    "# scrivi qui\n",
    "slider1 = widgets.FloatSlider(max=100)  # specifichiamo il limite estremo\n",
    "display(slider1)\n",
    "slider2 = widgets.FloatSlider(max=10000)  # ricordiamoci di specificare il limite doppio del primo\n",
    "display(slider2)\n",
    "\n",
    "\n",
    "# notare che stavolta dichiariamo la variabile 'change', che NON è un solo valore come con interact\n",
    "# ma un oggetto con diversi valori riguardanti il cambiamento generato dal click dell'utente,\n",
    "# il più interessante dei quali è `new`. Prova a togliere i commenti\n",
    "# da print(change) per vedere l'oggetto change completo\n",
    "def aggiorna1(change):    \n",
    "    #print(\"Il nuovo valore è \" + str(change.new))\n",
    "    #print(type(change))\n",
    "    slider2.value = change.new ** 2  # potenza\n",
    "\n",
    "def aggiorna2(change):    \n",
    "    #print(\"Il nuovo valore è \" + str(change.new))\n",
    "    #print(type(change))\n",
    "    slider1.value = change.new ** (1/2) # divisione float !\n",
    "    \n",
    "    \n",
    "#NOTA: adesso passiamo anche il parametro names=['value'] per filtrare i tipi di change che riceviamo    \n",
    "slider1.observe(aggiorna1, names=['value'])\n",
    "slider2.observe(aggiorna2, names=['value'])\n"
   ]
  },
  {
   "cell_type": "markdown",
   "metadata": {},
   "source": [
    "### Eventi di widget a selezione multipla\n",
    "\n",
    "Vediamo adesso le `change` di un widget di selezione multipla: "
   ]
  },
  {
   "cell_type": "code",
   "execution_count": 28,
   "metadata": {},
   "outputs": [
    {
     "data": {
      "application/vnd.jupyter.widget-view+json": {
       "model_id": "c2787b3cc86444598021b42200ec5e4b",
       "version_major": 2,
       "version_minor": 0
      },
      "text/plain": [
       "SelectMultiple(description='Fruits', index=(1,), options=('Apples', 'Oranges', 'Pears'), value=('Oranges',))"
      ]
     },
     "metadata": {},
     "output_type": "display_data"
    }
   ],
   "source": [
    "sm = widgets.SelectMultiple(\n",
    "    options=['Apples', 'Oranges', 'Pears'],\n",
    "    value=['Oranges'],\n",
    "    #rows=10,\n",
    "    description='Fruits',\n",
    "    disabled=False\n",
    ")\n",
    "\n",
    "def aggiorna(change):    \n",
    "    #print(\"Il nuovo valore è \" + str(change['new']))\n",
    "    #print(type(change))\n",
    "    print(change)\n",
    "\n",
    "#NOTA: adesso passiamo anche il parametro names=['value'] per filtrare i tipi di change che riceviamo\n",
    "sm.observe(aggiorna, names=['value'])\n",
    "    \n",
    "display(sm)"
   ]
  },
  {
   "cell_type": "markdown",
   "metadata": {},
   "source": [
    "### Eventi click\n",
    "\n",
    "\n",
    "Attento ai bottoni ! `.observe` va bene per widget in genere, ma per i bottoni ad Agosto 2018 non sembra funzionare. Per quest'ultimi usa gli eventi click con il metodo `.on_click` così: "
   ]
  },
  {
   "cell_type": "code",
   "execution_count": 29,
   "metadata": {},
   "outputs": [
    {
     "data": {
      "application/vnd.jupyter.widget-view+json": {
       "model_id": "46c9c11c6f894743b23926c46d983059",
       "version_major": 2,
       "version_minor": 0
      },
      "text/plain": [
       "Button(description='Stampa', icon='check', style=ButtonStyle(), tooltip='stampa qualcosa')"
      ]
     },
     "metadata": {},
     "output_type": "display_data"
    }
   ],
   "source": [
    "\n",
    "import ipywidgets as widgets\n",
    "from IPython.display import display\n",
    "from ipywidgets import Button\n",
    "\n",
    "def cliccato(b):\n",
    "    # nota che on_click passa il widget cliccato \n",
    "    \n",
    "    print(\"Questo bottone è stato cliccato:\\n%s\" % b)\n",
    "\n",
    "bottone = widgets.Button(\n",
    "        description='Stampa',\n",
    "        disabled=False,\n",
    "        button_style='', \n",
    "        tooltip='stampa qualcosa',\n",
    "        icon='check'\n",
    "    )\n",
    "\n",
    "bottone.on_click(cliccato)  \n",
    "display(bottone)\n",
    "\n"
   ]
  },
  {
   "cell_type": "markdown",
   "metadata": {},
   "source": [
    "## Grafici interattivi con bqplot\n",
    "\n",
    "Bqplot è una libreria molto potente per realizzare grafici in Jupyter. In particolare bqplot :\n",
    "\n",
    "* riprende i comandi già visti per matplot (_stile matlab_), che quindi possono riusati pari pari\n",
    "* si integra bene con `ipywidgets`\n",
    "* permette di esportare i grafici in codice interattivo HTML, facilmente inseribile in siti web, blog, etc..\n",
    "\n",
    "### Installazione bqplot\n",
    " \n",
    "**Anaconda**:\n",
    "    \n",
    "* `conda install -c conda-forge bqplot`\n",
    "* Installare `bqplot` con `conda` abiliterà automaticamente l'estensione per te in Jupyter\n",
    "\n",
    "\n",
    "**Linux/Mac**:\n",
    "\n",
    "* installa ipywidgets (`--user` installa nella propria home): \n",
    "\n",
    "```bash\n",
    "python3 -m pip install --user bqplot\n",
    "```\n",
    "\n",
    "* abilita l'estensione così: \n",
    "\n",
    "```bash\n",
    "jupyter nbextension enable --py bqplot\n",
    "```\n",
    "\n",
    "Adesso prova ad aprire Jupyter ed incollare il seguente codice in una cella, eseguendolo dovrebbe apparirti un grafico \n",
    "\n",
    "Abbiamo parlato di grafici modificabili interattivamente, proviamo a crearne uno. Intanto creiamo un semplice grafico con `bqplot`, riprendendo istruzioni dal [secondo tutorial su matplotlib](http://softpython.readthedocs.io/it/latest/exercises/visualization/visualization-solution.html)\n",
    "\n",
    "<div class=\"alert alert-warning\">\n",
    "\n",
    "**ATTENZIONE al plt!** \n",
    "\n",
    "Il `pyplot` che vedete qui sotto, che viene importato con il nome di `plt`  proviene dalla libreria di bqplot, _non_ è lo stesso `pyplot` di matplotlib !! \n",
    " \n",
    "Gli autori di bqplot hanno adottato lo stesso nome e convenzioni per permettervi di riusare facilmente esempi che già conoscete di matplotlib, ma **NON E' AFFATTO DETTO CHE TUTTI GLI ESEMPI DI MATPLOTLIB FUNZIONINO ANCHE CON BQPLOT !!**\n",
    "\n",
    "</div>"
   ]
  },
  {
   "cell_type": "code",
   "execution_count": 30,
   "metadata": {},
   "outputs": [
    {
     "data": {
      "application/vnd.jupyter.widget-view+json": {
       "model_id": "2f8bda0e83f042af99c46244ae3b2e1e",
       "version_major": 2,
       "version_minor": 0
      },
      "text/plain": [
       "VBox(children=(Figure(axes=[Axis(orientation='vertical', scale=LinearScale()), Axis(scale=LinearScale())], fig…"
      ]
     },
     "metadata": {},
     "output_type": "display_data"
    }
   ],
   "source": [
    "\n",
    "# !!!!  IMPORTANTE !!!! \n",
    "# Il 'pyplot' che vedete qui sotto, che viene importato con il nome di 'plt'\n",
    "# proviene dalla libreria di bqplot, quindi NON E' lo stesso pyplot di matplotlib !! \n",
    "# Gli autori di bqplot hanno adottato lo stesso nome e convenzioni per permettervi \n",
    "# di riusare facilmente esempi che già conoscete di matplotlib\n",
    "\n",
    "from bqplot import pyplot as plt  \n",
    "\n",
    "plt.figure(title='Grafico in bqplot')\n",
    "x = [1,2,3,4,5]\n",
    "y = [2,4,8,16,32]\n",
    "plt.plot(x, y, 'bo') # b=blue o=punti (sostuendo 'o' con 'l' farà delle linee)\n",
    "plt.show()"
   ]
  },
  {
   "cell_type": "markdown",
   "metadata": {},
   "source": [
    "Visto un esempio che già conosciamo bene, proviamo a plottare una funzione un po' più complessa, come per esempio un coseno:"
   ]
  },
  {
   "cell_type": "code",
   "execution_count": 31,
   "metadata": {},
   "outputs": [
    {
     "data": {
      "application/vnd.jupyter.widget-view+json": {
       "model_id": "311517ebbe8a4d98b4d3b42d3f66c38e",
       "version_major": 2,
       "version_minor": 0
      },
      "text/plain": [
       "VBox(children=(Figure(axes=[Axis(orientation='vertical', scale=LinearScale()), Axis(scale=LinearScale())], fig…"
      ]
     },
     "metadata": {},
     "output_type": "display_data"
    }
   ],
   "source": [
    "# !!!!  IMPORTANTE !!!! \n",
    "# Il 'pyplot' che vedete qui sotto, che viene importato con il nome di 'plt'\n",
    "# proviene dalla libreria di bqplot, NON E' lo stesso pyplot di matplotlib !! \n",
    "# Gli autori di bqplot hanno adottato lo stesso nome e convenzioni per permettervi \n",
    "# di riusare facilmente esempi che già conoscete di matplotlib\n",
    "\n",
    "from bqplot import pyplot as plt  \n",
    "import numpy as np\n",
    "\n",
    "\n",
    "x = np.linspace(0, 2 * np.pi, 50)  # mette nel vettore x 50 punti tra 0 e 2 pi greco (inclusi)\n",
    "fig = plt.figure()                 # genera la figure\n",
    "\n",
    "# plottiamo un coseno\n",
    "# plot ritorna una lista di linee Line2D, ma all'interno in questo caso ne contiene una sola che estraiamo:\n",
    "lines = plt.plot(x, np.cos(x))\n",
    "plt.title('Grafico in bqplot')\n",
    "plt.show()"
   ]
  },
  {
   "cell_type": "markdown",
   "metadata": {},
   "source": [
    "Abbiamo creato il grafico, usando solo bqplot (_non_ matplotlib, vedi commenti nel codice!). \n",
    "Per poter variare il grafico, dovremo indicare a bqplot dei nuovi valori per le `y`. Come fare? Se avete notato, prima abbiamo salvato il risultato di `plot` nella variabile `lines`. Ma cos'è esattamente? Che campi contiene? Scopriamolo:"
   ]
  },
  {
   "cell_type": "code",
   "execution_count": 32,
   "metadata": {},
   "outputs": [
    {
     "data": {
      "text/plain": [
       "bqplot.marks.Lines"
      ]
     },
     "execution_count": 32,
     "metadata": {},
     "output_type": "execute_result"
    }
   ],
   "source": [
    "type(lines)"
   ]
  },
  {
   "cell_type": "code",
   "execution_count": 33,
   "metadata": {},
   "outputs": [
    {
     "data": {
      "text/plain": [
       "Lines(colors=['#1f77b4', '#ff7f0e', '#2ca02c', '#d62728', '#9467bd', '#8c564b', '#e377c2', '#7f7f7f', '#bcbd22', '#17becf'], interactions={'hover': 'tooltip'}, scales={'y': LinearScale(), 'x': LinearScale()}, scales_metadata={'color': {'dimension': 'color'}, 'y': {'orientation': 'vertical', 'dimension': 'y'}, 'x': {'orientation': 'horizontal', 'dimension': 'x'}}, tooltip_style={'opacity': 0.9}, x=array([ 0.        ,  0.12822827,  0.25645654,  0.38468481,  0.51291309,\n",
       "        0.64114136,  0.76936963,  0.8975979 ,  1.02582617,  1.15405444,\n",
       "        1.28228272,  1.41051099,  1.53873926,  1.66696753,  1.7951958 ,\n",
       "        1.92342407,  2.05165235,  2.17988062,  2.30810889,  2.43633716,\n",
       "        2.56456543,  2.6927937 ,  2.82102197,  2.94925025,  3.07747852,\n",
       "        3.20570679,  3.33393506,  3.46216333,  3.5903916 ,  3.71861988,\n",
       "        3.84684815,  3.97507642,  4.10330469,  4.23153296,  4.35976123,\n",
       "        4.48798951,  4.61621778,  4.74444605,  4.87267432,  5.00090259,\n",
       "        5.12913086,  5.25735913,  5.38558741,  5.51381568,  5.64204395,\n",
       "        5.77027222,  5.89850049,  6.02672876,  6.15495704,  6.28318531]), y=array([ 1.        ,  0.99179001,  0.96729486,  0.92691676,  0.8713187 ,\n",
       "        0.80141362,  0.71834935,  0.6234898 ,  0.51839257,  0.40478334,\n",
       "        0.28452759,  0.1595999 ,  0.03205158, -0.09602303, -0.22252093,\n",
       "       -0.34536505, -0.46253829, -0.57211666, -0.67230089, -0.76144596,\n",
       "       -0.8380881 , -0.90096887, -0.94905575, -0.98155916, -0.99794539,\n",
       "       -0.99794539, -0.98155916, -0.94905575, -0.90096887, -0.8380881 ,\n",
       "       -0.76144596, -0.67230089, -0.57211666, -0.46253829, -0.34536505,\n",
       "       -0.22252093, -0.09602303,  0.03205158,  0.1595999 ,  0.28452759,\n",
       "        0.40478334,  0.51839257,  0.6234898 ,  0.71834935,  0.80141362,\n",
       "        0.8713187 ,  0.92691676,  0.96729486,  0.99179001,  1.        ]))"
      ]
     },
     "execution_count": 33,
     "metadata": {},
     "output_type": "execute_result"
    }
   ],
   "source": [
    "lines"
   ]
  },
  {
   "cell_type": "markdown",
   "metadata": {},
   "source": [
    "Il campo che ci interessa è `y`:\n",
    "\n",
    "```python\n",
    "y=array([ 1.        ,  0.99179001,  0.96729486,  0.92691676,  0.8713187 ,\n",
    "```"
   ]
  },
  {
   "cell_type": "markdown",
   "metadata": {},
   "source": [
    "Proviamo a cambiarlo, variando per esempio la frequenza del coseno moltiplicando `x` per 5:\n",
    "    \n",
    "```python\n",
    "lines.y = np.cos(5 * x)\n",
    "```"
   ]
  },
  {
   "cell_type": "markdown",
   "metadata": {},
   "source": [
    "**DA FARE**: Prova a incollare il codice di sopra qui sotto, eseguilo e poi guarda se il grafico di prima è cambiato. Prova anche a variare il numero davanti a `x`"
   ]
  },
  {
   "cell_type": "code",
   "execution_count": 34,
   "metadata": {},
   "outputs": [],
   "source": [
    "# copia qui\n",
    "\n"
   ]
  },
  {
   "cell_type": "markdown",
   "metadata": {},
   "source": [
    "\n",
    "Adesso ci piacerebbe aggiungere uno slider per cambiare interattivamente la frequenza dell'onda, indicheremo tale frequenza con la variabile `k`. Per fare ciò, possiamo definire una nostra funzione `aggiorna`, che prende in input la frequenza `k`, e ricalcola le `lines.y`\n",
    "\n",
    "**NOTA**: `aggiorna` prende un parametro `k` che definiamo noi. Potremmo anche chiamarlo `pippo`. "
   ]
  },
  {
   "cell_type": "code",
   "execution_count": 35,
   "metadata": {},
   "outputs": [],
   "source": [
    "def aggiorna(k = 1.0):\n",
    "    lines.y = np.cos(k * x)"
   ]
  },
  {
   "cell_type": "markdown",
   "metadata": {},
   "source": [
    "\n",
    "Ora non ci resta che dire a Jupyter di creare uno slider e chiamare `aggiorna` ogni volta che lo slider viene spostato. Possiamo farlo con la funzione di Jupyter `interact`.\n",
    "\n",
    "NOTA: chiamando la funzione di Jupyter `interact`, come parametro gli passiamo  _la funzione_ aggiorna, NON il risultato della funzione aggiorna ! Dato che nella dichiarazione di aggiorna abbiamo messo un parametro `k` inizializzato da un float 1.0, Python capisce magicamente che siamo interessati a visualizzare un widget in grado di modificare valori float, e in questo caso creerà un bello slider!"
   ]
  },
  {
   "cell_type": "code",
   "execution_count": 36,
   "metadata": {},
   "outputs": [
    {
     "data": {
      "application/vnd.jupyter.widget-view+json": {
       "model_id": "33f11817555f42cd95b84cc2be336506",
       "version_major": 2,
       "version_minor": 0
      },
      "text/plain": [
       "interactive(children=(FloatSlider(value=1.0, description='k', max=3.0, min=-1.0), Output()), _dom_classes=('wi…"
      ]
     },
     "metadata": {},
     "output_type": "display_data"
    }
   ],
   "source": [
    "from ipywidgets import interact\n",
    "\n",
    "interact(aggiorna);"
   ]
  },
  {
   "cell_type": "markdown",
   "metadata": {},
   "source": [
    "Ricapitolando, ecco tutto il codice completo:"
   ]
  },
  {
   "cell_type": "code",
   "execution_count": 37,
   "metadata": {},
   "outputs": [
    {
     "data": {
      "application/vnd.jupyter.widget-view+json": {
       "model_id": "e7354270389f4d289e1d5e70ab20ef57",
       "version_major": 2,
       "version_minor": 0
      },
      "text/plain": [
       "VBox(children=(Figure(axes=[Axis(orientation='vertical', scale=LinearScale()), Axis(scale=LinearScale())], fig…"
      ]
     },
     "metadata": {},
     "output_type": "display_data"
    },
    {
     "data": {
      "application/vnd.jupyter.widget-view+json": {
       "model_id": "0be49420c3d84ca99b687f529328022a",
       "version_major": 2,
       "version_minor": 0
      },
      "text/plain": [
       "interactive(children=(FloatSlider(value=1.0, description='k', max=3.0, min=-1.0), Output()), _dom_classes=('wi…"
      ]
     },
     "metadata": {},
     "output_type": "display_data"
    }
   ],
   "source": [
    "# !!!!  IMPORTANTE !!!! \n",
    "# Il 'pyplot' che vedete qui sotto, che viene importato con il nome di 'plt'\n",
    "# proviene dalla libreria di bqplot, NON E' lo stesso pyplot di matplotlib !! \n",
    "# Gli autori di bqplot hanno adottato lo stesso nome e convenzioni per permettervi \n",
    "# di riusare facilmente esempi che già conoscete di matplotlib\n",
    "\n",
    "from bqplot import pyplot as plt  \n",
    "import numpy as np\n",
    "from ipywidgets import interactive\n",
    "\n",
    "x = np.linspace(0, 2 * np.pi, 50)  # mette nel vettore x 50 punti tra 0 e 2 pi greco (inclusi)\n",
    "fig = plt.figure()                 # genera la figure\n",
    "\n",
    "# plottiamo un coseno\n",
    "# plot ritorna una lista di linee Line2D, ma all'interno in questo caso ne contiene una sola che estraiamo:\n",
    "lines = plt.plot(x, np.cos(x))\n",
    "plt.title('Grafico in bqplot')\n",
    "plt.show()\n",
    "\n",
    "def aggiorna(k = 1.0):\n",
    "    lines.y = np.cos(k * x)\n",
    "slider_frequenza = interactive(aggiorna);    \n",
    "\n",
    "display(slider_frequenza)"
   ]
  },
  {
   "cell_type": "markdown",
   "metadata": {},
   "source": [
    "Abbiamo visto un primo esempio funzionante. Come prossimo passo potremmo voler posizionare lo slider a sinistra del plot. Potremmo farlo usando i layout."
   ]
  },
  {
   "cell_type": "markdown",
   "metadata": {},
   "source": [
    "### Layout e stili\n",
    "\n",
    "Ci sono tanti modi di posizionare i widget, vediamo i principali:"
   ]
  },
  {
   "cell_type": "markdown",
   "metadata": {},
   "source": [
    "### Layout: HBox\n",
    "\n",
    "Possiamo usare HBox per mettere i widget uno dopo l'altro in orizzontale:"
   ]
  },
  {
   "cell_type": "code",
   "execution_count": 38,
   "metadata": {},
   "outputs": [
    {
     "data": {
      "application/vnd.jupyter.widget-view+json": {
       "model_id": "09a8fb45ca334744addf17d59f17fc75",
       "version_major": 2,
       "version_minor": 0
      },
      "text/plain": [
       "HBox(children=(IntSlider(value=0), Button(description='hello', style=ButtonStyle())))"
      ]
     },
     "metadata": {},
     "output_type": "display_data"
    }
   ],
   "source": [
    "from ipywidgets import Button, IntSlider, HBox, VBox, Label\n",
    "\n",
    "HBox([IntSlider(), Button(description='hello')])\n"
   ]
  },
  {
   "cell_type": "markdown",
   "metadata": {},
   "source": [
    "Alcuni widget hanno parametri appositi per associare testo al widget, ma talvolta il testo viene accorciato senza il nostro consenso. Per ovviare a ciò possiamo usare il widget Label, che consente di forzare la visualizzazione di testo lungo, in combinazione con HBox:"
   ]
  },
  {
   "cell_type": "code",
   "execution_count": 39,
   "metadata": {},
   "outputs": [
    {
     "data": {
      "application/vnd.jupyter.widget-view+json": {
       "model_id": "56ac25282458464c85e7b31de77b4890",
       "version_major": 2,
       "version_minor": 0
      },
      "text/plain": [
       "HBox(children=(Label(value='A too long description:'), IntSlider(value=0)))"
      ]
     },
     "metadata": {},
     "output_type": "display_data"
    }
   ],
   "source": [
    "HBox([widgets.Label('A too long description:'),  widgets.IntSlider()])"
   ]
  },
  {
   "cell_type": "markdown",
   "metadata": {},
   "source": [
    "### Layout: VBox and HBox\n",
    "\n",
    "Ovviamente c'è anche il layout verticale `VBox`. Per ottenere configurazioni a griglia, è possibile usare un misto di `HBox` e `VBox` :"
   ]
  },
  {
   "cell_type": "code",
   "execution_count": 40,
   "metadata": {},
   "outputs": [
    {
     "data": {
      "application/vnd.jupyter.widget-view+json": {
       "model_id": "df2282ae114c4d9ab5de2668b1a5216e",
       "version_major": 2,
       "version_minor": 0
      },
      "text/plain": [
       "HBox(children=(VBox(children=(Button(description='alto a sinistra', style=ButtonStyle()), Button(description='…"
      ]
     },
     "metadata": {},
     "output_type": "display_data"
    }
   ],
   "source": [
    "\n",
    "from ipywidgets import Button, HBox, VBox\n",
    "\n",
    "left_box = VBox([Button(description='alto a sinistra'), Button(description='basso a sinistra')])\n",
    "right_box = VBox([Button(description='alto a destra'), Button(description='basso a destra')])\n",
    "HBox([left_box, right_box])"
   ]
  },
  {
   "cell_type": "markdown",
   "metadata": {},
   "source": [
    "### Flexbox\n",
    "\n",
    "Se avete esigenze di layout complesse, raccomandiamo di cuore i FlexBox, che sono praticamente l'unico sistema di layout decente del modello CSS (Cascading Style Sheet, di cui avete provato il linguaggio di query nella [lezione sull'estrazione dati da HTML](http://softpython.readthedocs.io/it/latest/exercises/extraction/extraction-solution.html)). Per fortuna Jupyter li supporta nativamente e li potete programmare direttamente in Python. Per una descrizione completa rimandiamo [al sito di Jupyter Widgets](http://ipywidgets.readthedocs.io/en/stable/examples/Widget%20Styling.html#The-Flexbox-layout)"
   ]
  },
  {
   "cell_type": "markdown",
   "metadata": {},
   "source": [
    "Il bello di Bqplot è che è ben integrato con gli ipywidgets. Per esempio, possiamo provare ad inserire il grafico del coseno di bqplot dentro un `HBox`, mettendo a sinistra lo slider usato in precedenza per variare la frequenza: "
   ]
  },
  {
   "cell_type": "code",
   "execution_count": 41,
   "metadata": {},
   "outputs": [
    {
     "data": {
      "application/vnd.jupyter.widget-view+json": {
       "model_id": "d2ea1367f669483ea7ffaf13834a5e53",
       "version_major": 2,
       "version_minor": 0
      },
      "text/plain": [
       "HBox(children=(interactive(children=(FloatSlider(value=1.0, description='k', max=3.0, min=-1.0), Output()), _d…"
      ]
     },
     "metadata": {},
     "output_type": "display_data"
    }
   ],
   "source": [
    "from bqplot import pyplot as plt  \n",
    "import numpy as np\n",
    "from ipywidgets import interactive\n",
    "from ipywidgets import HBox, Box\n",
    "\n",
    "x = np.linspace(0, 2 * np.pi, 50)  # mette nel vettore x 50 punti tra 0 e 2 pi greco (inclusi)\n",
    "fig = plt.figure()                 # genera la figure\n",
    "\n",
    "# plottiamo un coseno\n",
    "# plot ritorna una lista di linee Line2D, ma all'interno in questo caso ne contiene una sola che estraiamo:\n",
    "lines = plt.plot(x, np.cos(x))\n",
    "plt.title('HBox con slider e bqplot')\n",
    "\n",
    "def aggiorna(k = 1.0):\n",
    "    lines.y = np.cos(k * x)\n",
    "\n",
    "# otteniamo la variabile widget con interactive (che a differenza di 'interact' ritorna un widget !)\n",
    "slider_frequenza = interactive(aggiorna);    \n",
    "\n",
    "# Creiamo l'HBox passando in una lista prima la variabile dello slider, e poi la `fig` di bqplot\n",
    "HBox([slider_frequenza, fig])"
   ]
  },
  {
   "cell_type": "markdown",
   "metadata": {},
   "source": [
    "**DA FARE**: Nell'esempio qua sopra, lo slider appare forse un po' troppo in alto. Se guardi [la documentazione degli HBox] vedrai che gli `HBox` vengono definiti come dei `Box` aventi proprietà prese dal modello FlexiBox:\n",
    "\n",
    "```\n",
    "def HBox(*pargs, **kwargs):\n",
    "    \"\"\"Displays multiple widgets horizontally using the flexible box model.\"\"\"\n",
    "    box = Box(*pargs, **kwargs)\n",
    "    box.layout.display = 'flex'\n",
    "    box.layout.align_items = 'stretch'\n",
    "    return box\n",
    "```\n",
    "\n",
    "Cercando un po' nella documentazione sull'[allineamento oggetti](https://ipywidgets.readthedocs.io/en/latest/examples/Widget%20Styling.html#align-items) in FlexiBox, riuesciresti a capire quale parametro Flexbox modificare affinchè lo slider risulti a metà altezza rispetto al grafico (nota che ci sono sia `align-items` e `align-content`)? Fai dei tentativi modificando la funzione `MiaHBox` qua sotto:"
   ]
  },
  {
   "cell_type": "code",
   "execution_count": 42,
   "metadata": {},
   "outputs": [
    {
     "data": {
      "application/vnd.jupyter.widget-view+json": {
       "model_id": "d5277a24a07f4b888b302ae38e36312d",
       "version_major": 2,
       "version_minor": 0
      },
      "text/plain": [
       "Box(children=(interactive(children=(FloatSlider(value=1.0, description='k', max=3.0, min=-1.0), Output()), _do…"
      ]
     },
     "metadata": {},
     "output_type": "display_data"
    }
   ],
   "source": [
    "# DA FARE: guarda sotto la funzione 'MiaHBox'\n",
    "\n",
    "from bqplot import pyplot as plt  \n",
    "import numpy as np\n",
    "from ipywidgets import interactive\n",
    "from ipywidgets import HBox, Box\n",
    "\n",
    "x = np.linspace(0, 2 * np.pi, 50)  # mette nel vettore x 50 punti tra 0 e 2 pi greco (inclusi)\n",
    "fig = plt.figure()                 # genera la figure\n",
    "\n",
    "# plottiamo un coseno\n",
    "# plot ritorna una lista di linee Line2D, ma all'interno in questo caso ne contiene una sola che estraiamo:\n",
    "lines = plt.plot(x, np.cos(x))\n",
    "plt.title('HBox con slider e bqplot')\n",
    "\n",
    "def aggiorna(k = 1.0):\n",
    "    lines.y = np.cos(k * x)\n",
    "\n",
    "# otteniamo la variabile widget con interactive (che a differenza di 'interact' ritorna un widget !)\n",
    "slider_frequenza = interactive(aggiorna);    \n",
    "\n",
    "# Ripreso da documentazione di HBox\n",
    "\n",
    "# DA FARE: MODIFICA QUESTA FUNZIONE \n",
    "\n",
    "def MiaHBox(*pargs, **kwargs):\n",
    "    \"\"\"Displays multiple widgets horizontally using the flexible box model.\"\"\"\n",
    "    box = Box(*pargs, **kwargs)\n",
    "    box.layout.display = 'flex'\n",
    "    box.layout.align_items = 'stretch'\n",
    "    return box\n",
    "\n",
    "MiaHBox([slider_frequenza, fig])"
   ]
  },
  {
   "cell_type": "code",
   "execution_count": 43,
   "metadata": {},
   "outputs": [
    {
     "data": {
      "application/vnd.jupyter.widget-view+json": {
       "model_id": "fda36fd5b8b448a9bc63e0ddb8ae6c46",
       "version_major": 2,
       "version_minor": 0
      },
      "text/plain": [
       "Box(children=(interactive(children=(FloatSlider(value=1.0, description='k', max=3.0, min=-1.0), Output()), _do…"
      ]
     },
     "metadata": {},
     "output_type": "display_data"
    }
   ],
   "source": [
    "# SOLUZIONE\n",
    "\n",
    "from bqplot import pyplot as plt  \n",
    "import numpy as np\n",
    "from ipywidgets import interactive\n",
    "from ipywidgets import HBox, Box\n",
    "\n",
    "x = np.linspace(0, 2 * np.pi, 50)  # mette nel vettore x 50 punti tra 0 e 2 pi greco (inclusi)\n",
    "fig = plt.figure()                 # genera la figure\n",
    "\n",
    "# plottiamo un coseno\n",
    "# plot ritorna una lista di linee Line2D, ma all'interno in questo caso ne contiene una sola che estraiamo:\n",
    "lines = plt.plot(x, np.cos(x))\n",
    "plt.title('HBox con slider e bqplot')\n",
    "\n",
    "def aggiorna(k = 1.0):\n",
    "    lines.y = np.cos(k * x)\n",
    "\n",
    "# otteniamo la variabile widget con interactive (che a differenza di 'interact' ritorna un widget !)\n",
    "slider_frequenza = interactive(aggiorna);    \n",
    "\n",
    "# Ripreso da documentazione di HBox\n",
    "\n",
    "def MiaHBox(*pargs, **kwargs):\n",
    "    \"\"\"Displays multiple widgets horizontally using the flexible box model.\"\"\"\n",
    "    box = Box(*pargs, **kwargs)\n",
    "    box.layout.display = 'flex'\n",
    "    box.layout.align_items = 'center'\n",
    "    return box\n",
    "\n",
    "MiaHBox([slider_frequenza, fig])"
   ]
  },
  {
   "cell_type": "markdown",
   "metadata": {},
   "source": [
    "### Esempi avanzati in Bqplot\n",
    "\n",
    "Nella cartella [esempi-bqplot](esempi-bqplot) che sta nella zip degli esercizi abbiamo inserito diversi esempi di bqplot, ti invitiamo a guardarli. Tanto per dare un'idea, ne mettiamo qui alcuni di rilevanti (scorri in fondo alle relative pagine per vedere i grafici visualizzati - a volte potrebbe anche essere necessario rieseguire il tutto con `Kernel->Restart and Run All`): \n",
    "\n",
    "Esempi base in [esempi-bqplot/Basic Plotting](esempi-bqplot/Basic Plotting): \n",
    "\n",
    "* [Pyplot.ipynb](esempi-bqplot/Basic Plotting/Pyplot.ipynb)\n",
    "* [Basic Plotting.ipynb](esempi-bqplot/Basic Plotting/Basic Plotting.ipynb)  (usa lo stile proprio di bqplot per creare i grafici)\n",
    "\n",
    "Esempi di interazione [esempi-bqplot/Interactions](esempi-bqplot/Interactions):\n",
    "\n",
    "* [esempi-bqplot/Interactions/Interaction Layer.ipynb](esempi-bqplot/Interactions/Interaction Layer.ipynb) per vedere come permettere all'utente di selezionare un range in un grafico, o delle barre da un istogramma\n",
    "\n",
    "Esempi avanzati in [esempi-bqplot/Applications](esempi-bqplot/Applications):\n",
    "\n",
    "* [Esempio visualizzazione reti Mobile Patent Suits](esempi-bqplot/Applications/Mobile Patent Suits.ipynb)\n",
    "* [Wealth of Nations - esempio evoluzione dati nel tempo](esempi-bqplot/Applications/Wealth of Nations.ipynb)\n",
    "\n"
   ]
  },
  {
   "cell_type": "markdown",
   "metadata": {},
   "source": [
    "### Stile\n",
    "\n",
    "E' possibile applicare vari stili ai bottoni, di nuovo facendo riferimento [alle proprietà CSS](http://ipywidgets.readthedocs.io/en/stable/examples/Widget%20Styling.html#Layout-and-Styling-of-Jupyter-widgets) che sono supportate da Jupyter. Esempio"
   ]
  },
  {
   "cell_type": "code",
   "execution_count": 44,
   "metadata": {},
   "outputs": [
    {
     "data": {
      "application/vnd.jupyter.widget-view+json": {
       "model_id": "dc9cb1b52e5446e9ab038fa881577454",
       "version_major": 2,
       "version_minor": 0
      },
      "text/plain": [
       "Button(description='Bottone con stile applicato ', layout=Layout(height='80px', width='50%'), style=ButtonStyl…"
      ]
     },
     "metadata": {},
     "output_type": "display_data"
    }
   ],
   "source": [
    "from ipywidgets import Button, Layout\n",
    "\n",
    "b = Button(description='Bottone con stile applicato ',\n",
    "           layout=Layout(width='50%', height='80px'))\n",
    "b"
   ]
  },
  {
   "cell_type": "markdown",
   "metadata": {},
   "source": [
    "## Collegare i widget\n",
    "\n",
    "Guardando la sezione precedente sugli eventi, avrai notato che a volte modificando uno slider, se un'altro slider è collegato a volte potrebbe 'ballare' un po'. Magari non è piacevolissimo, ma per i vostri progetti dovrebbero essere sufficienti. Per completezza, menzioniamo comunque che per evitare i tremolii si possono usare i cosiddetti `traitlets` . Qua riportiamo solo un esempio veloce, per approfondire [vedere la documentazione](http://ipywidgets.readthedocs.io/en/latest/examples/Widget%20Events.html?highlight=traitlets#Traitlet-events):"
   ]
  },
  {
   "cell_type": "code",
   "execution_count": 45,
   "metadata": {},
   "outputs": [
    {
     "data": {
      "application/vnd.jupyter.widget-view+json": {
       "model_id": "24c405acaa1f43549c99ae585a7a49fc",
       "version_major": 2,
       "version_minor": 0
      },
      "text/plain": [
       "VBox(children=(IntSlider(value=0, continuous_update=False, description='slider delayed'), IntText(value=0, des…"
      ]
     },
     "metadata": {},
     "output_type": "display_data"
    }
   ],
   "source": [
    "import traitlets\n",
    "slider_intero_del = widgets.IntSlider(description=\"slider delayed\", continuous_update=False)\n",
    "testo_intero_del = widgets.IntText(description=\"testo delayed\", continuous_update=False)\n",
    "\n",
    "traitlets.link((slider_intero_del, 'value'), (testo_intero_del, 'value'))\n",
    "widgets.VBox([slider_intero_del, testo_intero_del])"
   ]
  },
  {
   "cell_type": "code",
   "execution_count": 46,
   "metadata": {},
   "outputs": [
    {
     "data": {
      "application/vnd.jupyter.widget-view+json": {
       "model_id": "ba9d682479104f979d31b150e23712ed",
       "version_major": 2,
       "version_minor": 0
      },
      "text/plain": [
       "VBox(children=(IntSlider(value=0, description='slider con'), IntText(value=0, continuous_update=True, descript…"
      ]
     },
     "metadata": {},
     "output_type": "display_data"
    }
   ],
   "source": [
    "import traitlets\n",
    "slider_intero_con = widgets.IntSlider(description=\"slider con\", continuous_update=True)\n",
    "testo_intero_con = widgets.IntText(description=\"testo con\", continuous_update=True)\n",
    "\n",
    "traitlets.link((slider_intero_con, 'value'), (testo_intero_con, 'value'))\n",
    "widgets.VBox([slider_intero_con, testo_intero_con])"
   ]
  }
 ],
 "metadata": {
  "celltoolbar": "Edit Metadata",
  "kernelspec": {
   "display_name": "Python 3",
   "language": "python",
   "name": "python3"
  },
  "language_info": {
   "codemirror_mode": {
    "name": "ipython",
    "version": 3
   },
   "file_extension": ".py",
   "mimetype": "text/x-python",
   "name": "python",
   "nbconvert_exporter": "python",
   "pygments_lexer": "ipython3",
   "version": "3.5.2"
  },
  "toc": {
   "base_numbering": 1,
   "nav_menu": {},
   "number_sections": false,
   "sideBar": true,
   "skip_h1_title": false,
   "title_cell": "Table of Contents",
   "title_sidebar": "Contents",
   "toc_cell": false,
   "toc_position": {},
   "toc_section_display": true,
   "toc_window_display": true
  },
  "widgets": {
   "application/vnd.jupyter.widget-state+json": {
    "state": {
     "0097459d02944bdeb4673bc74256dccf": {
      "model_module": "@jupyter-widgets/controls",
      "model_module_version": "1.3.0",
      "model_name": "ButtonModel",
      "state": {
       "description": "basso a destra",
       "layout": "IPY_MODEL_27973a73bf5f4247b96803e127c6edea",
       "style": "IPY_MODEL_e60cb06333144895874f75b8b8dbccc2"
      }
     },
     "009d72b3e95d4715be2a89df19dc5b2f": {
      "model_module": "@jupyter-widgets/base",
      "model_module_version": "1.1.0",
      "model_name": "LayoutModel",
      "state": {}
     },
     "00df705b6dab466b994e493ed8e83966": {
      "model_module": "@jupyter-widgets/controls",
      "model_module_version": "1.3.0",
      "model_name": "VBoxModel",
      "state": {
       "_dom_classes": [
        "widget-interact"
       ],
       "children": [
        "IPY_MODEL_a563a53a6ec64078b61febd00d734821",
        "IPY_MODEL_0ea2d19213c6488ca0eb19a05b1c01cd",
        "IPY_MODEL_daef00fe781643e9a017bf528949ac32"
       ],
       "layout": "IPY_MODEL_35e361c8bdaf4a1084d64964cffd56eb"
      }
     },
     "012eb722b8b84e32a5a150e226d81fd7": {
      "model_module": "@jupyter-widgets/controls",
      "model_module_version": "1.3.0",
      "model_name": "DescriptionStyleModel",
      "state": {
       "description_width": ""
      }
     },
     "01da363474ac4744aea569eadf05497a": {
      "model_module": "@jupyter-widgets/base",
      "model_module_version": "1.1.0",
      "model_name": "LayoutModel",
      "state": {}
     },
     "0208dc06d14a4fd2ba004295ec502139": {
      "model_module": "bqplot",
      "model_module_version": "^0.3.6",
      "model_name": "AxisModel",
      "state": {
       "orientation": "vertical",
       "scale": "IPY_MODEL_3be91c537d0f4f458b66ab627eb5043e",
       "side": "left",
       "tick_values": {
        "type": null,
        "values": null
       }
      }
     },
     "0210244ffe734145930d762f34a3804d": {
      "model_module": "bqplot",
      "model_module_version": "^0.3.6",
      "model_name": "AxisModel",
      "state": {
       "scale": "IPY_MODEL_0411d3a584dc45dd90936807c8ac6b17",
       "side": "bottom",
       "tick_values": {
        "type": null,
        "values": null
       }
      }
     },
     "03826a5c98414a3d86fb2a6b2dab33e4": {
      "model_module": "@jupyter-widgets/controls",
      "model_module_version": "1.3.0",
      "model_name": "IntSliderModel",
      "state": {
       "layout": "IPY_MODEL_18577ad4f17e4cab92fdd9503d85b7a8",
       "style": "IPY_MODEL_f53d40a240544c6591252789655ef5a8",
       "value": 21
      }
     },
     "038b23e34167431184d86a834aec76d4": {
      "model_module": "@jupyter-widgets/controls",
      "model_module_version": "1.3.0",
      "model_name": "IntSliderModel",
      "state": {
       "layout": "IPY_MODEL_ac5a81bd5ce84362b40d2eba242d23fe",
       "max": 200,
       "style": "IPY_MODEL_ebbb376d82114ac6ab3d3f580af58488"
      }
     },
     "03a589b3983b4c7fb40b77dc0217ae4b": {
      "model_module": "@jupyter-widgets/base",
      "model_module_version": "1.1.0",
      "model_name": "LayoutModel",
      "state": {
       "min_width": "125px"
      }
     },
     "03e101db30e04084a6efceb2fba48cb4": {
      "model_module": "@jupyter-widgets/base",
      "model_module_version": "1.1.0",
      "model_name": "LayoutModel",
      "state": {}
     },
     "0411d3a584dc45dd90936807c8ac6b17": {
      "model_module": "bqplot",
      "model_module_version": "^0.3.6",
      "model_name": "LinearScaleModel",
      "state": {
       "stabilized": false
      }
     },
     "04ce26a65fe449b09975fb7a18aa2ba9": {
      "model_module": "@jupyter-widgets/controls",
      "model_module_version": "1.3.0",
      "model_name": "SliderStyleModel",
      "state": {
       "description_width": ""
      }
     },
     "04e60ddc85fe4271a0e6d12fbe6b24c6": {
      "model_module": "@jupyter-widgets/base",
      "model_module_version": "1.1.0",
      "model_name": "LayoutModel",
      "state": {
       "align_items": "stretch",
       "display": "flex"
      }
     },
     "051b18f1a0a44279a23022b4b1ded70f": {
      "model_module": "@jupyter-widgets/controls",
      "model_module_version": "1.3.0",
      "model_name": "DescriptionStyleModel",
      "state": {
       "description_width": ""
      }
     },
     "05cfd1e150944479886cfd1b54766e95": {
      "model_module": "bqplot",
      "model_module_version": "^0.3.6",
      "model_name": "AxisModel",
      "state": {
       "scale": "IPY_MODEL_0f5b83696e204ff891abc80329286363",
       "side": "bottom",
       "tick_values": {
        "type": null,
        "values": null
       }
      }
     },
     "061112cee7ec4063ac2e99838c4090a8": {
      "model_module": "bqplot",
      "model_module_version": "^0.3.6",
      "model_name": "AxisModel",
      "state": {
       "orientation": "vertical",
       "scale": "IPY_MODEL_9df0531fd6464c9999facb286901a989",
       "side": "left",
       "tick_values": {
        "type": null,
        "values": null
       }
      }
     },
     "061df5c6ada348bbbc0dfa75e9f6cc40": {
      "model_module": "@jupyter-widgets/controls",
      "model_module_version": "1.3.0",
      "model_name": "DescriptionStyleModel",
      "state": {
       "description_width": ""
      }
     },
     "06499c3a075346ef97266aae72518244": {
      "model_module": "@jupyter-widgets/base",
      "model_module_version": "1.1.0",
      "model_name": "LayoutModel",
      "state": {}
     },
     "066f279121f84acb8e303b6881dd4e22": {
      "model_module": "@jupyter-widgets/controls",
      "model_module_version": "1.3.0",
      "model_name": "SliderStyleModel",
      "state": {
       "description_width": ""
      }
     },
     "0686fa8b6f2c4989bc169b5babb161a1": {
      "model_module": "@jupyter-widgets/base",
      "model_module_version": "1.1.0",
      "model_name": "LayoutModel",
      "state": {}
     },
     "06e3b8dbb4c54c52ba8228e03e1afe72": {
      "model_module": "@jupyter-widgets/controls",
      "model_module_version": "1.3.0",
      "model_name": "SliderStyleModel",
      "state": {
       "description_width": ""
      }
     },
     "07bc602c4a464a5fbc5ff8b5139cf54a": {
      "model_module": "@jupyter-widgets/output",
      "model_module_version": "1.0.0",
      "model_name": "OutputModel",
      "state": {
       "layout": "IPY_MODEL_dbfcdf4ca1a043c98dd430ed272023fe",
       "outputs": [
        {
         "name": "stdout",
         "output_type": "stream",
         "text": "Il numero è 10\n"
        }
       ]
      }
     },
     "07cce433834a4c9e930bb0b49d8d38a6": {
      "model_module": "@jupyter-widgets/base",
      "model_module_version": "1.1.0",
      "model_name": "LayoutModel",
      "state": {}
     },
     "07d84bfe5c9441a68452f153c8636206": {
      "model_module": "bqplot",
      "model_module_version": "^0.3.6",
      "model_name": "LinesModel",
      "state": {
       "color": {
        "type": null,
        "values": null
       },
       "display_legend": false,
       "fill_colors": [],
       "labels": [
        "C1"
       ],
       "scales": {
        "x": "IPY_MODEL_9b152be0d2a24ab4aad63a483741384c",
        "y": "IPY_MODEL_7c8df30cd45841e5a1e231969c513c6e"
       },
       "selected": [],
       "x": {
        "type": "float",
        "values": [
         0,
         0.1282282715750936,
         0.2564565431501872,
         0.38468481472528077,
         0.5129130863003744,
         0.6411413578754679,
         0.7693696294505615,
         0.8975979010256552,
         1.0258261726007487,
         1.1540544441758422,
         1.2822827157509358,
         1.4105109873260295,
         1.538739258901123,
         1.6669675304762166,
         1.7951958020513104,
         1.9234240736264039,
         2.0516523452014974,
         2.179880616776591,
         2.3081088883516845,
         2.436337159926778,
         2.5645654315018716,
         2.6927937030769655,
         2.821021974652059,
         2.9492502462271526,
         3.077478517802246,
         3.2057067893773397,
         3.333935060952433,
         3.4621633325275267,
         3.5903916041026207,
         3.7186198756777142,
         3.8468481472528078,
         3.9750764188279013,
         4.103304690402995,
         4.231532961978089,
         4.359761233553182,
         4.487989505128276,
         4.616217776703369,
         4.744446048278463,
         4.872674319853556,
         5.00090259142865,
         5.129130863003743,
         5.257359134578837,
         5.385587406153931,
         5.513815677729024,
         5.642043949304118,
         5.770272220879211,
         5.898500492454305,
         6.026728764029398,
         6.154957035604492,
         6.283185307179586
        ]
       },
       "y": {
        "type": "float",
        "values": [
         1,
         0.9917900138232462,
         0.9672948630390295,
         0.9269167573460217,
         0.8713187041233894,
         0.8014136218679567,
         0.7183493500977276,
         0.6234898018587336,
         0.5183925683105252,
         0.404783343122394,
         0.28452758663103267,
         0.15959989503337932,
         0.03205157757165533,
         -0.09602302590768154,
         -0.22252093395631434,
         -0.3453650544213075,
         -0.4625382902408351,
         -0.5721166601221694,
         -0.6723008902613166,
         -0.7614459583691342,
         -0.8380881048918404,
         -0.900968867902419,
         -0.9490557470106686,
         -0.9815591569910653,
         -0.9979453927503363,
         -0.9979453927503363,
         -0.9815591569910654,
         -0.9490557470106689,
         -0.9009688679024191,
         -0.8380881048918408,
         -0.7614459583691346,
         -0.672300890261317,
         -0.57211666012217,
         -0.4625382902408353,
         -0.34536505442130816,
         -0.2225209339563146,
         -0.09602302590768244,
         0.03205157757165486,
         0.1595998950333784,
         0.284527586631032,
         0.40478334312239295,
         0.5183925683105245,
         0.6234898018587334,
         0.718349350097727,
         0.8014136218679565,
         0.871318704123389,
         0.9269167573460216,
         0.9672948630390291,
         0.991790013823246,
         1
        ]
       }
      }
     },
     "0831e004bb3c4c55845a2104cf7bacae": {
      "model_module": "@jupyter-widgets/output",
      "model_module_version": "1.0.0",
      "model_name": "OutputModel",
      "state": {
       "layout": "IPY_MODEL_b3454d59a0dc406396a7e8d87e37b9a6"
      }
     },
     "088763347d1e4664933dae6068ac0a71": {
      "model_module": "@jupyter-widgets/base",
      "model_module_version": "1.1.0",
      "model_name": "LayoutModel",
      "state": {
       "align_items": "center",
       "display": "flex"
      }
     },
     "08ab1ba5230f4ffaabb56a423a073c23": {
      "model_module": "@jupyter-widgets/base",
      "model_module_version": "1.1.0",
      "model_name": "LayoutModel",
      "state": {}
     },
     "09a8fb45ca334744addf17d59f17fc75": {
      "model_module": "@jupyter-widgets/controls",
      "model_module_version": "1.3.0",
      "model_name": "HBoxModel",
      "state": {
       "children": [
        "IPY_MODEL_d5044196fa1940658f5f4d0626a3fbf3",
        "IPY_MODEL_253e676fafa842a7a3b4c9e2a1d78037"
       ],
       "layout": "IPY_MODEL_ebebe57838a6486a8e6389abba99bf1d"
      }
     },
     "0a04ee39629c43c39acb43455f87f382": {
      "model_module": "@jupyter-widgets/controls",
      "model_module_version": "1.3.0",
      "model_name": "VBoxModel",
      "state": {
       "children": [
        "IPY_MODEL_1179be4e96824968a5e25a4d9bd1541e",
        "IPY_MODEL_db599ee54aeb438ab4e55b16a6a805ec"
       ],
       "layout": "IPY_MODEL_f36033789bac434ab69079c41653d4e7"
      }
     },
     "0a2baea371954db78bbbc8daad6b2742": {
      "model_module": "@jupyter-widgets/controls",
      "model_module_version": "1.3.0",
      "model_name": "IntSliderModel",
      "state": {
       "description": "k",
       "layout": "IPY_MODEL_b83c61fe6df741a6be81c1e62733ee78",
       "max": 30,
       "min": -10,
       "style": "IPY_MODEL_6b5b90f13cdf43a09838216f43abb7b7",
       "value": 10
      }
     },
     "0a30e67aa4704fe1aef2cc64b5aa9cb0": {
      "model_module": "@jupyter-widgets/controls",
      "model_module_version": "1.3.0",
      "model_name": "FloatSliderModel",
      "state": {
       "description": "k",
       "layout": "IPY_MODEL_392fbb5272764420856f7e144770df0f",
       "max": 3,
       "min": -1,
       "step": 0.1,
       "style": "IPY_MODEL_402601be392142db9479c56d3f36d51a",
       "value": 1
      }
     },
     "0a520f5e05e54e9eae376fb7962b7616": {
      "model_module": "bqplot",
      "model_module_version": "^0.3.6",
      "model_name": "LinearScaleModel",
      "state": {
       "allow_padding": false,
       "max": 1,
       "min": 0,
       "stabilized": false
      }
     },
     "0ba346a1c784403493c04f9ab2d14995": {
      "model_module": "@jupyter-widgets/base",
      "model_module_version": "1.1.0",
      "model_name": "LayoutModel",
      "state": {}
     },
     "0be49420c3d84ca99b687f529328022a": {
      "model_module": "@jupyter-widgets/controls",
      "model_module_version": "1.3.0",
      "model_name": "VBoxModel",
      "state": {
       "_dom_classes": [
        "widget-interact"
       ],
       "children": [
        "IPY_MODEL_f7936f89c5a14bf39aabc4b9231e75ef",
        "IPY_MODEL_f7a6fe5fee334ef0b47e7a6f42b29890"
       ],
       "layout": "IPY_MODEL_0efe370dc05949158f7c081ba4a704bb"
      }
     },
     "0c79e495c003492c85c06cccaaba9a15": {
      "model_module": "bqplot",
      "model_module_version": "^0.3.6",
      "model_name": "ToolbarModel",
      "state": {
       "figure": "IPY_MODEL_431c87ca1c6948c9a3124ce474feee23",
       "layout": "IPY_MODEL_699255045742427bb5c852876f6998af"
      }
     },
     "0d215a9a83a64fb8994b3e444b558c9f": {
      "model_module": "@jupyter-widgets/controls",
      "model_module_version": "1.3.0",
      "model_name": "ButtonStyleModel",
      "state": {}
     },
     "0dccfac8e6f94de194f2a670dfa46af7": {
      "model_module": "@jupyter-widgets/base",
      "model_module_version": "1.1.0",
      "model_name": "LayoutModel",
      "state": {
       "align_items": "center",
       "display": "flex"
      }
     },
     "0dd0771f682145569fffc5d48bbc13be": {
      "model_module": "@jupyter-widgets/base",
      "model_module_version": "1.1.0",
      "model_name": "LayoutModel",
      "state": {}
     },
     "0df39bef665b42d8b191939d74e925fe": {
      "model_module": "@jupyter-widgets/base",
      "model_module_version": "1.1.0",
      "model_name": "LayoutModel",
      "state": {}
     },
     "0e032a10573e49e6bb97fc231542115f": {
      "model_module": "@jupyter-widgets/controls",
      "model_module_version": "1.3.0",
      "model_name": "LabelModel",
      "state": {
       "layout": "IPY_MODEL_fbdf1dedde664cfa9e66d5172a56e498",
       "style": "IPY_MODEL_f79d8b01083c426e9a36e64974d7e740",
       "value": "vecchio valore = "
      }
     },
     "0e14bda689ce4871a2b4d3ccbd4ebd8d": {
      "model_module": "@jupyter-widgets/base",
      "model_module_version": "1.1.0",
      "model_name": "LayoutModel",
      "state": {}
     },
     "0e3bd801c25f41c8a4058f41cab3e009": {
      "model_module": "@jupyter-widgets/controls",
      "model_module_version": "1.3.0",
      "model_name": "SliderStyleModel",
      "state": {
       "description_width": ""
      }
     },
     "0e867ed95ff24c52873a9f027cc8a082": {
      "model_module": "@jupyter-widgets/base",
      "model_module_version": "1.1.0",
      "model_name": "LayoutModel",
      "state": {}
     },
     "0ea2d19213c6488ca0eb19a05b1c01cd": {
      "model_module": "@jupyter-widgets/controls",
      "model_module_version": "1.3.0",
      "model_name": "CheckboxModel",
      "state": {
       "description": "k",
       "disabled": false,
       "layout": "IPY_MODEL_5c9e3fbd98054abf8433fcb2f56a9535",
       "style": "IPY_MODEL_a1f601c015484a8d8ae9384dcf2668ac",
       "value": true
      }
     },
     "0efe370dc05949158f7c081ba4a704bb": {
      "model_module": "@jupyter-widgets/base",
      "model_module_version": "1.1.0",
      "model_name": "LayoutModel",
      "state": {}
     },
     "0f0f3c7dfe2c4be6ba5a98082cfd5987": {
      "model_module": "@jupyter-widgets/base",
      "model_module_version": "1.1.0",
      "model_name": "LayoutModel",
      "state": {}
     },
     "0f5b83696e204ff891abc80329286363": {
      "model_module": "bqplot",
      "model_module_version": "^0.3.6",
      "model_name": "LinearScaleModel",
      "state": {
       "stabilized": false
      }
     },
     "1039a030601941e88e7cbb53d17bbc3f": {
      "model_module": "@jupyter-widgets/output",
      "model_module_version": "1.0.0",
      "model_name": "OutputModel",
      "state": {
       "layout": "IPY_MODEL_934b138288ad4d4c813a040eca2b16a5",
       "outputs": [
        {
         "name": "stdout",
         "output_type": "stream",
         "text": "Il numero è 10\n"
        }
       ]
      }
     },
     "1161143146484f54b05e44ace1e29cea": {
      "model_module": "@jupyter-widgets/base",
      "model_module_version": "1.1.0",
      "model_name": "LayoutModel",
      "state": {}
     },
     "1177432f3c004f909c9ced270348a0eb": {
      "model_module": "@jupyter-widgets/controls",
      "model_module_version": "1.3.0",
      "model_name": "SliderStyleModel",
      "state": {
       "description_width": ""
      }
     },
     "1179be4e96824968a5e25a4d9bd1541e": {
      "model_module": "@jupyter-widgets/controls",
      "model_module_version": "1.3.0",
      "model_name": "ButtonModel",
      "state": {
       "description": "alto a sinistra",
       "layout": "IPY_MODEL_a3b4c2d012a94b0089c95f283f7889c3",
       "style": "IPY_MODEL_5fe4668dc7174a18a640f09ddd087019"
      }
     },
     "11c0c2348ec8436abb693c0672908b7e": {
      "model_module": "@jupyter-widgets/controls",
      "model_module_version": "1.3.0",
      "model_name": "IntSliderModel",
      "state": {
       "layout": "IPY_MODEL_f059780702894d2eb9661a03d91c4bda",
       "style": "IPY_MODEL_20777a08df694f79a4daa6ff16922cf9"
      }
     },
     "130b8245f31f427eb78331f238cbac7a": {
      "model_module": "@jupyter-widgets/base",
      "model_module_version": "1.1.0",
      "model_name": "LayoutModel",
      "state": {}
     },
     "1310a003e2f24d5db06ab0ed495880c1": {
      "model_module": "@jupyter-widgets/controls",
      "model_module_version": "1.3.0",
      "model_name": "SliderStyleModel",
      "state": {
       "description_width": ""
      }
     },
     "13144bdd3d5f4a42bf4d91b1221b1a16": {
      "model_module": "@jupyter-widgets/controls",
      "model_module_version": "1.3.0",
      "model_name": "SliderStyleModel",
      "state": {
       "description_width": ""
      }
     },
     "139085016b95409a9b2ed6b017dad388": {
      "model_module": "bqplot",
      "model_module_version": "^0.3.6",
      "model_name": "LinesModel",
      "state": {
       "color": {
        "type": null,
        "values": null
       },
       "display_legend": false,
       "fill_colors": [],
       "labels": [
        "C1"
       ],
       "scales": {
        "x": "IPY_MODEL_1dd1cdc9534a41e5b54152a865887a39",
        "y": "IPY_MODEL_590a50c893d44b649f0e3f1652d92b3a"
       },
       "selected": [],
       "x": {
        "type": "float",
        "values": [
         0,
         0.1282282715750936,
         0.2564565431501872,
         0.38468481472528077,
         0.5129130863003744,
         0.6411413578754679,
         0.7693696294505615,
         0.8975979010256552,
         1.0258261726007487,
         1.1540544441758422,
         1.2822827157509358,
         1.4105109873260295,
         1.538739258901123,
         1.6669675304762166,
         1.7951958020513104,
         1.9234240736264039,
         2.0516523452014974,
         2.179880616776591,
         2.3081088883516845,
         2.436337159926778,
         2.5645654315018716,
         2.6927937030769655,
         2.821021974652059,
         2.9492502462271526,
         3.077478517802246,
         3.2057067893773397,
         3.333935060952433,
         3.4621633325275267,
         3.5903916041026207,
         3.7186198756777142,
         3.8468481472528078,
         3.9750764188279013,
         4.103304690402995,
         4.231532961978089,
         4.359761233553182,
         4.487989505128276,
         4.616217776703369,
         4.744446048278463,
         4.872674319853556,
         5.00090259142865,
         5.129130863003743,
         5.257359134578837,
         5.385587406153931,
         5.513815677729024,
         5.642043949304118,
         5.770272220879211,
         5.898500492454305,
         6.026728764029398,
         6.154957035604492,
         6.283185307179586
        ]
       },
       "y": {
        "type": "float",
        "values": [
         1,
         0.9917900138232462,
         0.9672948630390295,
         0.9269167573460217,
         0.8713187041233894,
         0.8014136218679567,
         0.7183493500977276,
         0.6234898018587336,
         0.5183925683105252,
         0.404783343122394,
         0.28452758663103267,
         0.15959989503337932,
         0.03205157757165533,
         -0.09602302590768154,
         -0.22252093395631434,
         -0.3453650544213075,
         -0.4625382902408351,
         -0.5721166601221694,
         -0.6723008902613166,
         -0.7614459583691342,
         -0.8380881048918404,
         -0.900968867902419,
         -0.9490557470106686,
         -0.9815591569910653,
         -0.9979453927503363,
         -0.9979453927503363,
         -0.9815591569910654,
         -0.9490557470106689,
         -0.9009688679024191,
         -0.8380881048918408,
         -0.7614459583691346,
         -0.672300890261317,
         -0.57211666012217,
         -0.4625382902408353,
         -0.34536505442130816,
         -0.2225209339563146,
         -0.09602302590768244,
         0.03205157757165486,
         0.1595998950333784,
         0.284527586631032,
         0.40478334312239295,
         0.5183925683105245,
         0.6234898018587334,
         0.718349350097727,
         0.8014136218679565,
         0.871318704123389,
         0.9269167573460216,
         0.9672948630390291,
         0.991790013823246,
         1
        ]
       }
      }
     },
     "140f98f450bf4ea18722cb8a13a24725": {
      "model_module": "@jupyter-widgets/controls",
      "model_module_version": "1.3.0",
      "model_name": "IntSliderModel",
      "state": {
       "layout": "IPY_MODEL_2509a621055a4fbd9a494b9837d3e213",
       "style": "IPY_MODEL_f07f84fa10914f6f8efcfcd7e6effb4e"
      }
     },
     "148acdad2a144b7894e8539b29f1b35e": {
      "model_module": "@jupyter-widgets/output",
      "model_module_version": "1.0.0",
      "model_name": "OutputModel",
      "state": {
       "layout": "IPY_MODEL_3b95e60142a44e4d871da156b593955e"
      }
     },
     "156ffc63e05b43879a5766c162ef294f": {
      "model_module": "@jupyter-widgets/base",
      "model_module_version": "1.1.0",
      "model_name": "LayoutModel",
      "state": {}
     },
     "1609579cdaba45a6b7c8352da1f3ba9e": {
      "model_module": "bqplot",
      "model_module_version": "^0.3.6",
      "model_name": "LinesModel",
      "state": {
       "color": {
        "type": null,
        "values": null
       },
       "display_legend": false,
       "fill_colors": [],
       "labels": [
        "C1"
       ],
       "scales": {
        "x": "IPY_MODEL_d7f3a5c4b1064751acfadd5203c73b49",
        "y": "IPY_MODEL_40f0341dd97d4fcb9df9105c6db27430"
       },
       "selected": [],
       "x": {
        "type": "float",
        "values": [
         0,
         0.1282282715750936,
         0.2564565431501872,
         0.38468481472528077,
         0.5129130863003744,
         0.6411413578754679,
         0.7693696294505615,
         0.8975979010256552,
         1.0258261726007487,
         1.1540544441758422,
         1.2822827157509358,
         1.4105109873260295,
         1.538739258901123,
         1.6669675304762166,
         1.7951958020513104,
         1.9234240736264039,
         2.0516523452014974,
         2.179880616776591,
         2.3081088883516845,
         2.436337159926778,
         2.5645654315018716,
         2.6927937030769655,
         2.821021974652059,
         2.9492502462271526,
         3.077478517802246,
         3.2057067893773397,
         3.333935060952433,
         3.4621633325275267,
         3.5903916041026207,
         3.7186198756777142,
         3.8468481472528078,
         3.9750764188279013,
         4.103304690402995,
         4.231532961978089,
         4.359761233553182,
         4.487989505128276,
         4.616217776703369,
         4.744446048278463,
         4.872674319853556,
         5.00090259142865,
         5.129130863003743,
         5.257359134578837,
         5.385587406153931,
         5.513815677729024,
         5.642043949304118,
         5.770272220879211,
         5.898500492454305,
         6.026728764029398,
         6.154957035604492,
         6.283185307179586
        ]
       },
       "y": {
        "type": "float",
        "values": [
         1,
         0.9917900138232462,
         0.9672948630390295,
         0.9269167573460217,
         0.8713187041233894,
         0.8014136218679567,
         0.7183493500977276,
         0.6234898018587336,
         0.5183925683105252,
         0.404783343122394,
         0.28452758663103267,
         0.15959989503337932,
         0.03205157757165533,
         -0.09602302590768154,
         -0.22252093395631434,
         -0.3453650544213075,
         -0.4625382902408351,
         -0.5721166601221694,
         -0.6723008902613166,
         -0.7614459583691342,
         -0.8380881048918404,
         -0.900968867902419,
         -0.9490557470106686,
         -0.9815591569910653,
         -0.9979453927503363,
         -0.9979453927503363,
         -0.9815591569910654,
         -0.9490557470106689,
         -0.9009688679024191,
         -0.8380881048918408,
         -0.7614459583691346,
         -0.672300890261317,
         -0.57211666012217,
         -0.4625382902408353,
         -0.34536505442130816,
         -0.2225209339563146,
         -0.09602302590768244,
         0.03205157757165486,
         0.1595998950333784,
         0.284527586631032,
         0.40478334312239295,
         0.5183925683105245,
         0.6234898018587334,
         0.718349350097727,
         0.8014136218679565,
         0.871318704123389,
         0.9269167573460216,
         0.9672948630390291,
         0.991790013823246,
         1
        ]
       }
      }
     },
     "163c05dff3e043da9fe44afbb99c7d29": {
      "model_module": "@jupyter-widgets/controls",
      "model_module_version": "1.3.0",
      "model_name": "FloatSliderModel",
      "state": {
       "layout": "IPY_MODEL_8f3769e6d72241b1aeed234cc9074ded",
       "step": 0.1,
       "style": "IPY_MODEL_966efe0755a64d7d87e565a027c5dcb8"
      }
     },
     "1655dec069e644069275b72ec04ba285": {
      "model_module": "@jupyter-widgets/controls",
      "model_module_version": "1.3.0",
      "model_name": "BoxModel",
      "state": {
       "children": [
        "IPY_MODEL_b688d3f667f84fc3b66e9aaa4b9e2fd5",
        "IPY_MODEL_bb221902303e402d84225051685fb3e3"
       ],
       "layout": "IPY_MODEL_04e60ddc85fe4271a0e6d12fbe6b24c6"
      }
     },
     "16a30fe406c049678c30e5abcf5802ea": {
      "model_module": "bqplot",
      "model_module_version": "^0.3.6",
      "model_name": "ScatterModel",
      "state": {
       "_model_module": "bqplot",
       "_model_module_version": "^0.3.6",
       "_view_count": null,
       "_view_module": "bqplot",
       "_view_module_version": "^0.3.6",
       "apply_clip": true,
       "color": {
        "type": null,
        "values": null
       },
       "colors": [
        "steelblue"
       ],
       "display_legend": false,
       "enable_hover": true,
       "hovered_style": {},
       "interactions": {
        "hover": "tooltip"
       },
       "labels": [],
       "names": {
        "type": null,
        "values": null
       },
       "opacity": {
        "type": null,
        "values": null
       },
       "preserve_domain": {},
       "rotation": {
        "type": null,
        "values": null
       },
       "scales": {
        "x": "IPY_MODEL_f35c0d3520894862a8a60c546ad13b74",
        "y": "IPY_MODEL_98fce0c649e94358b068f54c559267f4"
       },
       "scales_metadata": {
        "color": {
         "dimension": "color"
        },
        "opacity": {
         "dimension": "opacity"
        },
        "rotation": {
         "dimension": "rotation"
        },
        "size": {
         "dimension": "size"
        },
        "skew": {
         "dimension": "skew"
        },
        "x": {
         "dimension": "x",
         "orientation": "horizontal"
        },
        "y": {
         "dimension": "y",
         "orientation": "vertical"
        }
       },
       "selected": [],
       "selected_style": {},
       "size": {
        "type": null,
        "values": null
       },
       "skew": {
        "type": null,
        "values": null
       },
       "tooltip": null,
       "tooltip_location": "mouse",
       "tooltip_style": {
        "opacity": 0.9
       },
       "unhovered_style": {},
       "unselected_style": {},
       "visible": true,
       "x": {
        "type": "float",
        "values": [
         1,
         2,
         3,
         4,
         5
        ]
       },
       "y": {
        "type": "float",
        "values": [
         2,
         4,
         8,
         16,
         32
        ]
       }
      }
     },
     "17206303db2e40648c7ebd6ffb64574a": {
      "model_module": "@jupyter-widgets/controls",
      "model_module_version": "1.3.0",
      "model_name": "DescriptionStyleModel",
      "state": {
       "description_width": ""
      }
     },
     "1778f4cc57294edbb6b0484b11dc68b0": {
      "model_module": "@jupyter-widgets/base",
      "model_module_version": "1.1.0",
      "model_name": "LayoutModel",
      "state": {
       "min_width": "125px"
      }
     },
     "179b23a7a173493fa68620e5e2f9b707": {
      "model_module": "bqplot",
      "model_module_version": "^0.3.6",
      "model_name": "LinearScaleModel",
      "state": {
       "allow_padding": false,
       "max": 1,
       "min": 0,
       "stabilized": false
      }
     },
     "17c667ed148b4abf98c3fedf53567d74": {
      "model_module": "@jupyter-widgets/output",
      "model_module_version": "1.0.0",
      "model_name": "OutputModel",
      "state": {
       "layout": "IPY_MODEL_df5b2536838f47238816b0f81e4c7f14"
      }
     },
     "183ed7c6733e49b1a3069f9497cc9d6e": {
      "model_module": "@jupyter-widgets/controls",
      "model_module_version": "1.3.0",
      "model_name": "VBoxModel",
      "state": {
       "_dom_classes": [
        "widget-interact"
       ],
       "children": [
        "IPY_MODEL_b9753361d37a486499e772d9e3f97d56",
        "IPY_MODEL_f2a2683f59ca4900b0af4d42c59114f7"
       ],
       "layout": "IPY_MODEL_52e8d7f749ab49d59431e93f3169aaee"
      }
     },
     "18577ad4f17e4cab92fdd9503d85b7a8": {
      "model_module": "@jupyter-widgets/base",
      "model_module_version": "1.1.0",
      "model_name": "LayoutModel",
      "state": {}
     },
     "18c3404e648141329d01aa209cb15695": {
      "model_module": "@jupyter-widgets/base",
      "model_module_version": "1.1.0",
      "model_name": "LayoutModel",
      "state": {}
     },
     "1926a62260cf4f26b44cac1a76501ad4": {
      "model_module": "@jupyter-widgets/base",
      "model_module_version": "1.1.0",
      "model_name": "LayoutModel",
      "state": {}
     },
     "195f65afef2f4d0a84529edb23b64cbb": {
      "model_module": "bqplot",
      "model_module_version": "^0.3.6",
      "model_name": "AxisModel",
      "state": {
       "orientation": "vertical",
       "scale": "IPY_MODEL_40f0341dd97d4fcb9df9105c6db27430",
       "side": "left",
       "tick_values": {
        "type": null,
        "values": null
       }
      }
     },
     "198640185873467aa878f3997d7dcd5b": {
      "model_module": "@jupyter-widgets/controls",
      "model_module_version": "1.3.0",
      "model_name": "VBoxModel",
      "state": {
       "_dom_classes": [
        "widget-interact"
       ],
       "children": [
        "IPY_MODEL_d56f1fba786d4eedb4d946e2baf3d1f0",
        "IPY_MODEL_0831e004bb3c4c55845a2104cf7bacae"
       ],
       "layout": "IPY_MODEL_f4f05f099bc94450b89403384b8ecaa0"
      }
     },
     "19c88a1d520e41d29ae606c040d302ee": {
      "model_module": "@jupyter-widgets/base",
      "model_module_version": "1.1.0",
      "model_name": "LayoutModel",
      "state": {}
     },
     "1a0caf7265f54c3ba9510c1bf3dddcce": {
      "model_module": "bqplot",
      "model_module_version": "^0.3.6",
      "model_name": "AxisModel",
      "state": {
       "orientation": "vertical",
       "scale": "IPY_MODEL_a331cf6f132c4b879325e4394cdc5345",
       "side": "left",
       "tick_values": {
        "type": null,
        "values": null
       }
      }
     },
     "1a16b7fc94b945a08c95f6c4f2163caf": {
      "model_module": "bqplot",
      "model_module_version": "^0.3.6",
      "model_name": "ToolbarModel",
      "state": {
       "figure": "IPY_MODEL_d8e7ea6010b44213a7b8bd120fdb1ad7",
       "layout": "IPY_MODEL_49f95358545449b9aa4bb07b9c79fe46"
      }
     },
     "1ac43653a0394e40827e34a2723664f1": {
      "model_module": "@jupyter-widgets/base",
      "model_module_version": "1.1.0",
      "model_name": "LayoutModel",
      "state": {}
     },
     "1b30abf0b31941ff8d1b82c1d84b498d": {
      "model_module": "@jupyter-widgets/base",
      "model_module_version": "1.1.0",
      "model_name": "LayoutModel",
      "state": {}
     },
     "1bd5ddd9596b4be19e2a4bc8f16f2b67": {
      "model_module": "@jupyter-widgets/controls",
      "model_module_version": "1.3.0",
      "model_name": "LabelModel",
      "state": {
       "layout": "IPY_MODEL_6179560cf4844c0fbb222ef17bb58fab",
       "style": "IPY_MODEL_17206303db2e40648c7ebd6ffb64574a",
       "value": "A too long description:"
      }
     },
     "1bf4e43f9c5d49a38c64279ed047f527": {
      "model_module": "@jupyter-widgets/base",
      "model_module_version": "1.1.0",
      "model_name": "LayoutModel",
      "state": {}
     },
     "1c5904f3ccbb451b98fdc87c969f1974": {
      "model_module": "bqplot",
      "model_module_version": "^0.3.6",
      "model_name": "FigureModel",
      "state": {
       "_dom_classes": [],
       "axes": [
        "IPY_MODEL_387b290fb58c430686b940b52441211e",
        "IPY_MODEL_e235c952e8174bbaa43d1682696c817c"
       ],
       "layout": "IPY_MODEL_7adb0a1a559c4d7ba6a704dfbc063404",
       "marks": [
        "IPY_MODEL_dddc5797f98d413bb5768ec3e952d8b0"
       ],
       "max_aspect_ratio": 6,
       "scale_x": "IPY_MODEL_4fb686c8151a4672af456908c3eb3980",
       "scale_y": "IPY_MODEL_8fd0f524619f4def9c4ab979c5047e16",
       "title": "HBox con slider e bqplot"
      }
     },
     "1cd1a3adfef74edb8fc46957655063ae": {
      "model_module": "bqplot",
      "model_module_version": "^0.3.6",
      "model_name": "AxisModel",
      "state": {
       "scale": "IPY_MODEL_3e8db86ebfc64419ba4949a6c33c7740",
       "side": "bottom",
       "tick_values": {
        "type": null,
        "values": null
       }
      }
     },
     "1d6af410e8c748c79f2a72e8e088a58a": {
      "model_module": "@jupyter-widgets/controls",
      "model_module_version": "1.3.0",
      "model_name": "VBoxModel",
      "state": {
       "children": [
        "IPY_MODEL_70156597fe5b4523806a4d3a2d97c949",
        "IPY_MODEL_48af592ceb664269907d5228cb0dc5f7"
       ],
       "layout": "IPY_MODEL_e6eabbbc807549f3bcc18c00e563584b"
      }
     },
     "1dc27d628bc248eca7deac7966ac5411": {
      "model_module": "@jupyter-widgets/base",
      "model_module_version": "1.1.0",
      "model_name": "LayoutModel",
      "state": {}
     },
     "1dd1cdc9534a41e5b54152a865887a39": {
      "model_module": "bqplot",
      "model_module_version": "^0.3.6",
      "model_name": "LinearScaleModel",
      "state": {
       "stabilized": false
      }
     },
     "1dd41b3ca14444aa91a3cfe8377384e0": {
      "model_module": "bqplot",
      "model_module_version": "^0.3.6",
      "model_name": "ToolbarModel",
      "state": {
       "figure": "IPY_MODEL_737aa0b365f44682b617f03984c46a91",
       "layout": "IPY_MODEL_5e1dea6f1aa047eaae1b835842ece33b"
      }
     },
     "1dfdf09290134bdf95b0cfdfd0eb57ec": {
      "model_module": "@jupyter-widgets/controls",
      "model_module_version": "1.3.0",
      "model_name": "IntSliderModel",
      "state": {
       "description": "i",
       "layout": "IPY_MODEL_18c3404e648141329d01aa209cb15695",
       "max": 9,
       "min": -3,
       "style": "IPY_MODEL_3be214e2c8b643a48a3d94645c4e0e1c",
       "value": 3
      }
     },
     "1e4d5a42cd6d4e9a8aa6b45071d9e323": {
      "model_module": "@jupyter-widgets/base",
      "model_module_version": "1.1.0",
      "model_name": "LayoutModel",
      "state": {}
     },
     "1f5a331cf32c45e1b0e573e669c92a29": {
      "model_module": "@jupyter-widgets/base",
      "model_module_version": "1.1.0",
      "model_name": "LayoutModel",
      "state": {}
     },
     "20777a08df694f79a4daa6ff16922cf9": {
      "model_module": "@jupyter-widgets/controls",
      "model_module_version": "1.3.0",
      "model_name": "SliderStyleModel",
      "state": {
       "description_width": ""
      }
     },
     "20e76a3e83ea486b8304cedb684f0394": {
      "model_module": "@jupyter-widgets/output",
      "model_module_version": "1.0.0",
      "model_name": "OutputModel",
      "state": {
       "layout": "IPY_MODEL_fecc52d48f194ad8898c432036e5a9a4",
       "outputs": [
        {
         "name": "stdout",
         "output_type": "stream",
         "text": "spuntata\n"
        }
       ]
      }
     },
     "210738f0f18a45e185381596a37344cf": {
      "model_module": "@jupyter-widgets/output",
      "model_module_version": "1.0.0",
      "model_name": "OutputModel",
      "state": {
       "layout": "IPY_MODEL_993abd50186846fa8c67ca71281c2767"
      }
     },
     "21388bb3144f4e25a767907a5315d130": {
      "model_module": "@jupyter-widgets/controls",
      "model_module_version": "1.3.0",
      "model_name": "IntSliderModel",
      "state": {
       "description": "slider con",
       "layout": "IPY_MODEL_f9d24eb7a8914def844bf32e869a0893",
       "style": "IPY_MODEL_bb7d876651a1461fbfac188e79e9d562"
      }
     },
     "21d66f0276af470b9242962058853a6e": {
      "model_module": "@jupyter-widgets/controls",
      "model_module_version": "1.3.0",
      "model_name": "SliderStyleModel",
      "state": {
       "description_width": ""
      }
     },
     "22ae026515df40efac4badf73f198a31": {
      "model_module": "bqplot",
      "model_module_version": "^0.3.6",
      "model_name": "AxisModel",
      "state": {
       "scale": "IPY_MODEL_1dd1cdc9534a41e5b54152a865887a39",
       "side": "bottom",
       "tick_values": {
        "type": null,
        "values": null
       }
      }
     },
     "2314447e77124ce2b7d872b4ef6aa3b0": {
      "model_module": "bqplot",
      "model_module_version": "^0.3.6",
      "model_name": "FigureModel",
      "state": {
       "_dom_classes": [],
       "axes": [
        "IPY_MODEL_97ae2e954dd14144b767cc0c44944cdc",
        "IPY_MODEL_f6b0d681b3324ed5a7c972d45cdcf6d9"
       ],
       "layout": "IPY_MODEL_2b7b29e7f7e04d758d705d432ebbf09d",
       "marks": [
        "IPY_MODEL_b14e2e552fd54f30a7d5e5c27db9d6bd"
       ],
       "max_aspect_ratio": 6,
       "scale_x": "IPY_MODEL_6a7d77be0c384b048602a8979654c451",
       "scale_y": "IPY_MODEL_59259b6f627a4e55b1501dcae63846f0",
       "title": "HBox con slider e bqplot"
      }
     },
     "236c4d0d14d34bc08f55bb76ede09346": {
      "model_module": "bqplot",
      "model_module_version": "^0.3.6",
      "model_name": "AxisModel",
      "state": {
       "orientation": "vertical",
       "scale": "IPY_MODEL_98fce0c649e94358b068f54c559267f4",
       "side": "left",
       "tick_values": {
        "type": null,
        "values": null
       }
      }
     },
     "24a8928ba07446119e07226c4ef0ee80": {
      "model_module": "bqplot",
      "model_module_version": "^0.3.6",
      "model_name": "AxisModel",
      "state": {
       "orientation": "vertical",
       "scale": "IPY_MODEL_fcd07129563b4b988d1a24ddc9ec830e",
       "side": "left",
       "tick_values": {
        "type": null,
        "values": null
       }
      }
     },
     "24b5475df4d34845982539e7c034d59e": {
      "model_module": "bqplot",
      "model_module_version": "^0.3.6",
      "model_name": "FigureModel",
      "state": {
       "_dom_classes": [],
       "axes": [
        "IPY_MODEL_e7c54d41a4fe489e9b8e2d97312aee55",
        "IPY_MODEL_05cfd1e150944479886cfd1b54766e95"
       ],
       "layout": "IPY_MODEL_c2b019a569414376a0c8fc877f119274",
       "marks": [
        "IPY_MODEL_804a0d2315ae454eb39c92307c8c97a8"
       ],
       "max_aspect_ratio": 6,
       "scale_x": "IPY_MODEL_b9afa90862d548e59d06adb5a519bd03",
       "scale_y": "IPY_MODEL_b5cae6b7ce5e42fea0401cd0450e9601",
       "title": "HBox con slider e bqplot"
      }
     },
     "24c405acaa1f43549c99ae585a7a49fc": {
      "model_module": "@jupyter-widgets/controls",
      "model_module_version": "1.3.0",
      "model_name": "VBoxModel",
      "state": {
       "children": [
        "IPY_MODEL_a72a1b7e887f4473b0e0bfd5b79989e0",
        "IPY_MODEL_a7f5986c8d864fc895e23dbe3d60ea87"
       ],
       "layout": "IPY_MODEL_c6618805bfa3483293ece8b1f7bd17d2"
      }
     },
     "2509a621055a4fbd9a494b9837d3e213": {
      "model_module": "@jupyter-widgets/base",
      "model_module_version": "1.1.0",
      "model_name": "LayoutModel",
      "state": {}
     },
     "253e676fafa842a7a3b4c9e2a1d78037": {
      "model_module": "@jupyter-widgets/controls",
      "model_module_version": "1.3.0",
      "model_name": "ButtonModel",
      "state": {
       "description": "hello",
       "layout": "IPY_MODEL_a3718f3d5a7a406987953fec963bcb07",
       "style": "IPY_MODEL_0d215a9a83a64fb8994b3e444b558c9f"
      }
     },
     "2555f6013d0a4a7fa6d4ae3a0394fe1b": {
      "model_module": "@jupyter-widgets/controls",
      "model_module_version": "1.3.0",
      "model_name": "IntSliderModel",
      "state": {
       "description": "k",
       "layout": "IPY_MODEL_6b0428eb0daa47658e33b85b9470f32f",
       "max": 9,
       "min": -3,
       "style": "IPY_MODEL_c4172a2f3758442da1ab9b748897817b",
       "value": 3
      }
     },
     "259b8d131435488f89e80914e02bb48a": {
      "model_module": "@jupyter-widgets/controls",
      "model_module_version": "1.3.0",
      "model_name": "IntSliderModel",
      "state": {
       "description": "slider con",
       "layout": "IPY_MODEL_f7e28149edcc499dbb86254871103fde",
       "style": "IPY_MODEL_b4b100852b774db3b5bd1c8a4621ae34"
      }
     },
     "25ba5193c26649eb89ef3606c89b70ad": {
      "model_module": "bqplot",
      "model_module_version": "^0.3.6",
      "model_name": "AxisModel",
      "state": {
       "orientation": "vertical",
       "scale": "IPY_MODEL_3a4e710eeb0849c2b9ff4f3143abe478",
       "side": "left",
       "tick_values": {
        "type": null,
        "values": null
       }
      }
     },
     "25ceebd151534047a9e061b95ecd2192": {
      "model_module": "@jupyter-widgets/controls",
      "model_module_version": "1.3.0",
      "model_name": "ButtonStyleModel",
      "state": {}
     },
     "25f16bb0d1974ca28ec1ec437de93338": {
      "model_module": "bqplot",
      "model_module_version": "^0.3.6",
      "model_name": "AxisModel",
      "state": {
       "orientation": "vertical",
       "scale": "IPY_MODEL_4e3aa2b1df544e259ba224d45a3a95b2",
       "side": "left",
       "tick_values": {
        "type": null,
        "values": null
       }
      }
     },
     "2635c722e6544a7dbb6c0a7b5b6cb415": {
      "model_module": "@jupyter-widgets/base",
      "model_module_version": "1.1.0",
      "model_name": "LayoutModel",
      "state": {}
     },
     "2657e8e660b347b78cc7147a0617ddfb": {
      "model_module": "@jupyter-widgets/output",
      "model_module_version": "1.0.0",
      "model_name": "OutputModel",
      "state": {
       "layout": "IPY_MODEL_4fe49526f680453f906cd424844f3aed"
      }
     },
     "2665ffd62769436b89f47340fb1d2e81": {
      "model_module": "bqplot",
      "model_module_version": "^0.3.6",
      "model_name": "LinearScaleModel",
      "state": {
       "allow_padding": false,
       "max": 1,
       "min": 0,
       "stabilized": false
      }
     },
     "26b14acb437045ff98cec8445bdc0430": {
      "model_module": "@jupyter-widgets/controls",
      "model_module_version": "1.3.0",
      "model_name": "IntSliderModel",
      "state": {
       "layout": "IPY_MODEL_f305dad699f241158b0dd77b47d393c4",
       "style": "IPY_MODEL_402331c9be77422e938a03eb2de4cdb6"
      }
     },
     "26de45e5925a4694be5a4845567618be": {
      "model_module": "@jupyter-widgets/controls",
      "model_module_version": "1.3.0",
      "model_name": "ButtonStyleModel",
      "state": {}
     },
     "27394d8c7f8847bcba3423e804f364ac": {
      "model_module": "@jupyter-widgets/controls",
      "model_module_version": "1.3.0",
      "model_name": "IntSliderModel",
      "state": {
       "continuous_update": false,
       "description": "slider delayed",
       "layout": "IPY_MODEL_fee1145508f748428e972659f4c4781f",
       "style": "IPY_MODEL_7261293c97054eb8af09d527f4859f46"
      }
     },
     "277f56b1c2dd4f94a4228803f51f99bd": {
      "model_module": "@jupyter-widgets/controls",
      "model_module_version": "1.3.0",
      "model_name": "IntSliderModel",
      "state": {
       "layout": "IPY_MODEL_f1627621d1834c7892372a396158bb2e",
       "style": "IPY_MODEL_ad4c494ba1f34424b6b01472e9c2ac8f"
      }
     },
     "27973a73bf5f4247b96803e127c6edea": {
      "model_module": "@jupyter-widgets/base",
      "model_module_version": "1.1.0",
      "model_name": "LayoutModel",
      "state": {}
     },
     "281ae32d1ab14774a998bf172213702d": {
      "model_module": "@jupyter-widgets/base",
      "model_module_version": "1.1.0",
      "model_name": "LayoutModel",
      "state": {}
     },
     "290dc37337684c38a087f9253d330654": {
      "model_module": "@jupyter-widgets/base",
      "model_module_version": "1.1.0",
      "model_name": "LayoutModel",
      "state": {}
     },
     "291d84e4fb484e18a24508423f275c74": {
      "model_module": "@jupyter-widgets/base",
      "model_module_version": "1.1.0",
      "model_name": "LayoutModel",
      "state": {}
     },
     "297d2fad2dd245a3b6adf7197c62663a": {
      "model_module": "@jupyter-widgets/controls",
      "model_module_version": "1.3.0",
      "model_name": "ButtonModel",
      "state": {
       "description": "basso a sinistra",
       "layout": "IPY_MODEL_c9c376f471f54441a80ca1f42a60479d",
       "style": "IPY_MODEL_96126a30774f48d3af5df2d53438b351"
      }
     },
     "2ac0d04713654caea5742a003a6a9ea3": {
      "model_module": "bqplot",
      "model_module_version": "^0.3.6",
      "model_name": "ToolbarModel",
      "state": {
       "figure": "IPY_MODEL_5c9c926ebaaf47fb8f0df39f1e495f03",
       "layout": "IPY_MODEL_597e7afe97b04abc8aef5541e54117d9"
      }
     },
     "2addcdc86acb466c91b78122d2600e25": {
      "model_module": "bqplot",
      "model_module_version": "^0.3.6",
      "model_name": "LinearScaleModel",
      "state": {
       "allow_padding": false,
       "max": 1,
       "min": 0,
       "stabilized": false
      }
     },
     "2addf9f1a5f94d5bb6bbed1fb503c38e": {
      "model_module": "@jupyter-widgets/base",
      "model_module_version": "1.1.0",
      "model_name": "LayoutModel",
      "state": {}
     },
     "2b7b29e7f7e04d758d705d432ebbf09d": {
      "model_module": "@jupyter-widgets/base",
      "model_module_version": "1.1.0",
      "model_name": "LayoutModel",
      "state": {
       "min_width": "125px"
      }
     },
     "2c003172ea1d4cfa989ae6fdc02b9ab8": {
      "model_module": "@jupyter-widgets/base",
      "model_module_version": "1.1.0",
      "model_name": "LayoutModel",
      "state": {}
     },
     "2c1e5a2a048e477ebf2b91f97f91e18a": {
      "model_module": "@jupyter-widgets/controls",
      "model_module_version": "1.3.0",
      "model_name": "VBoxModel",
      "state": {
       "_dom_classes": [
        "widget-interact"
       ],
       "children": [
        "IPY_MODEL_d8d8211a39b644948196fe51af75c5cb",
        "IPY_MODEL_1039a030601941e88e7cbb53d17bbc3f"
       ],
       "layout": "IPY_MODEL_37add33d9bb543399dfff5729ef272fc"
      }
     },
     "2c5a39ef023e44f686015110bf437270": {
      "model_module": "bqplot",
      "model_module_version": "^0.3.6",
      "model_name": "FigureModel",
      "state": {
       "_dom_classes": [],
       "axes": [
        "IPY_MODEL_25ba5193c26649eb89ef3606c89b70ad",
        "IPY_MODEL_eff08fffa9a1410f807e2fbb9b21db4e"
       ],
       "layout": "IPY_MODEL_94387810bd57455dbb44528e4355954a",
       "marks": [
        "IPY_MODEL_9f932304d5ca449a9a00002d3ee6f30c"
       ],
       "max_aspect_ratio": 6,
       "scale_x": "IPY_MODEL_c399193a06d14a0cac36955f1506f0c4",
       "scale_y": "IPY_MODEL_88f553e4ddcd4e83a60ae8c38b0f5c62",
       "title": "HBox con slider e bqplot"
      }
     },
     "2c6f8a1729a64ef793f2b91c370062f6": {
      "model_module": "@jupyter-widgets/controls",
      "model_module_version": "1.3.0",
      "model_name": "ButtonModel",
      "state": {
       "description": "Stampa",
       "icon": "check",
       "layout": "IPY_MODEL_290dc37337684c38a087f9253d330654",
       "style": "IPY_MODEL_94ce4b38607346a8b11130eb573052cb",
       "tooltip": "stampa qualcosa"
      }
     },
     "2cc2ebd4aa164190b642e59f5b97d117": {
      "model_module": "@jupyter-widgets/base",
      "model_module_version": "1.1.0",
      "model_name": "LayoutModel",
      "state": {}
     },
     "2cf3eccad2a248f8a7a8c4b594c762c1": {
      "model_module": "@jupyter-widgets/base",
      "model_module_version": "1.1.0",
      "model_name": "LayoutModel",
      "state": {}
     },
     "2d4219bc328345dc8e3909e2ff227865": {
      "model_module": "@jupyter-widgets/controls",
      "model_module_version": "1.3.0",
      "model_name": "IntSliderModel",
      "state": {
       "layout": "IPY_MODEL_291d84e4fb484e18a24508423f275c74",
       "max": 200,
       "style": "IPY_MODEL_c2b9b6fcdf0e42be999742feceb60ef9"
      }
     },
     "2e484b79b0ac4ad18b28b512639a0b35": {
      "model_module": "@jupyter-widgets/controls",
      "model_module_version": "1.3.0",
      "model_name": "DescriptionStyleModel",
      "state": {
       "description_width": ""
      }
     },
     "2ef6a507662248919d1114bc010a37c8": {
      "model_module": "bqplot",
      "model_module_version": "^0.3.6",
      "model_name": "LinearScaleModel",
      "state": {
       "stabilized": false
      }
     },
     "2f06230c61064dae9dde1e9614f4b98b": {
      "model_module": "@jupyter-widgets/controls",
      "model_module_version": "1.3.0",
      "model_name": "HBoxModel",
      "state": {
       "children": [
        "IPY_MODEL_d0f0aa11835b4868a028b718f78b4688",
        "IPY_MODEL_68129cc410ba45f1b8dd7c8398042de6"
       ],
       "layout": "IPY_MODEL_3892c035df334bbf85c7aa0711a4c818"
      }
     },
     "2f588545f67246418465b91fa56169cb": {
      "model_module": "bqplot",
      "model_module_version": "^0.3.6",
      "model_name": "LinearScaleModel",
      "state": {
       "allow_padding": false,
       "max": 1,
       "min": 0,
       "stabilized": false
      }
     },
     "2f8bda0e83f042af99c46244ae3b2e1e": {
      "model_module": "@jupyter-widgets/controls",
      "model_module_version": "1.3.0",
      "model_name": "VBoxModel",
      "state": {
       "children": [
        "IPY_MODEL_832ed41eba1a4128bdd8bb60ebe4b670",
        "IPY_MODEL_d0da328d888c4ba58f01876e72513826"
       ],
       "layout": "IPY_MODEL_4f190dba500a4f35b26c304ae2e69a63"
      }
     },
     "307f4512320b4e60bb71f94777f7af51": {
      "model_module": "bqplot",
      "model_module_version": "^0.3.6",
      "model_name": "LinearScaleModel",
      "state": {
       "stabilized": false
      }
     },
     "3090e114be2d4a5cb0808cf53119c963": {
      "model_module": "@jupyter-widgets/output",
      "model_module_version": "1.0.0",
      "model_name": "OutputModel",
      "state": {
       "layout": "IPY_MODEL_8b9fcd9b968046a98508441e1068615e",
       "outputs": [
        {
         "name": "stdout",
         "output_type": "stream",
         "text": "Il numero è 10\n"
        }
       ]
      }
     },
     "30d6efe8aa9945729b86c1ea2addbb3e": {
      "model_module": "bqplot",
      "model_module_version": "^0.3.6",
      "model_name": "LinearScaleModel",
      "state": {
       "stabilized": false
      }
     },
     "310c0b3b9ac34b9395140262525d8850": {
      "model_module": "@jupyter-widgets/base",
      "model_module_version": "1.1.0",
      "model_name": "LayoutModel",
      "state": {}
     },
     "311517ebbe8a4d98b4d3b42d3f66c38e": {
      "model_module": "@jupyter-widgets/controls",
      "model_module_version": "1.3.0",
      "model_name": "VBoxModel",
      "state": {
       "children": [
        "IPY_MODEL_82ccf93a229b4318aa58d42cb969d610",
        "IPY_MODEL_eacc934938f54043ae86a9339818b53e"
       ],
       "layout": "IPY_MODEL_dd90e470e1b74663b40e9b138a96df0e"
      }
     },
     "319ae742a17a4d28b7874b4eae9e8b6a": {
      "model_module": "bqplot",
      "model_module_version": "^0.3.6",
      "model_name": "FigureModel",
      "state": {
       "_dom_classes": [],
       "axes": [
        "IPY_MODEL_946100ce7e1348ef9f29103fc08db267",
        "IPY_MODEL_5872997f2610449d8d1dff037beb95d6"
       ],
       "layout": "IPY_MODEL_ec4e6b8a6fe8439096ab6feb7744499e",
       "marks": [
        "IPY_MODEL_6ce504388dec4675812229e343e84664"
       ],
       "max_aspect_ratio": 6,
       "scale_x": "IPY_MODEL_723cd8bab4b64a4e9f295943cf75a43c",
       "scale_y": "IPY_MODEL_bfcf232779294b5fb6aa152b8f9051ff",
       "title": "HBox con slider e bqplot"
      }
     },
     "31b6267a1074449ea70583906a70b254": {
      "model_module": "@jupyter-widgets/controls",
      "model_module_version": "1.3.0",
      "model_name": "SliderStyleModel",
      "state": {
       "description_width": ""
      }
     },
     "31b8ab7bf9ae47bfa8d42bb291877790": {
      "model_module": "@jupyter-widgets/base",
      "model_module_version": "1.1.0",
      "model_name": "LayoutModel",
      "state": {}
     },
     "31ed5ab9b6774da58332cb73a1c32ce3": {
      "model_module": "@jupyter-widgets/controls",
      "model_module_version": "1.3.0",
      "model_name": "IntSliderModel",
      "state": {
       "description": "k",
       "layout": "IPY_MODEL_130b8245f31f427eb78331f238cbac7a",
       "max": 30,
       "min": -10,
       "style": "IPY_MODEL_5b07abf523d7477396743f0e0b8d9fab",
       "value": 10
      }
     },
     "323b2ce46c804196a340aafd84c825ce": {
      "model_module": "@jupyter-widgets/controls",
      "model_module_version": "1.3.0",
      "model_name": "VBoxModel",
      "state": {
       "children": [
        "IPY_MODEL_62b5d09634dc42b1904d3df992dbdc27",
        "IPY_MODEL_36fd58da28174b9796de2848a9eb1b18"
       ],
       "layout": "IPY_MODEL_cc59b7248f8c4dad9164e54999d72eb6"
      }
     },
     "3389fcd5024647d4a0492ca54710cd3a": {
      "model_module": "@jupyter-widgets/controls",
      "model_module_version": "1.3.0",
      "model_name": "IntSliderModel",
      "state": {
       "layout": "IPY_MODEL_3583fd6c931643e0b06539da08934960",
       "style": "IPY_MODEL_1310a003e2f24d5db06ab0ed495880c1"
      }
     },
     "33c373b8c96245c185dcfc0d0fc5e196": {
      "model_module": "@jupyter-widgets/base",
      "model_module_version": "1.1.0",
      "model_name": "LayoutModel",
      "state": {}
     },
     "33f11817555f42cd95b84cc2be336506": {
      "model_module": "@jupyter-widgets/controls",
      "model_module_version": "1.3.0",
      "model_name": "VBoxModel",
      "state": {
       "_dom_classes": [
        "widget-interact"
       ],
       "children": [
        "IPY_MODEL_4afa558ea8114238b33b31e50d3ccb06",
        "IPY_MODEL_e96e75e9cced4dac99efd1b8d7cd8caf"
       ],
       "layout": "IPY_MODEL_e31d16c089dd4873b0d889234824f61f"
      }
     },
     "33f9b3d3a1bf4c16815d199e8e35047f": {
      "model_module": "@jupyter-widgets/controls",
      "model_module_version": "1.3.0",
      "model_name": "ButtonStyleModel",
      "state": {}
     },
     "346a2a33af99415d997a7a9b415c5955": {
      "model_module": "bqplot",
      "model_module_version": "^0.3.6",
      "model_name": "LinearScaleModel",
      "state": {
       "allow_padding": false,
       "max": 1,
       "min": 0,
       "stabilized": false
      }
     },
     "3509252ddaa1454ebb62ff6ff366b6d6": {
      "model_module": "@jupyter-widgets/controls",
      "model_module_version": "1.3.0",
      "model_name": "FloatSliderModel",
      "state": {
       "description": "k",
       "layout": "IPY_MODEL_d17c9195ec96402f9e3308c621a115f3",
       "max": 3,
       "min": -1,
       "step": 0.1,
       "style": "IPY_MODEL_c0ee01a1a39c47a7a99178e8768d5d6d",
       "value": 1
      }
     },
     "3542242eff1f41379eb2d762e8115853": {
      "model_module": "@jupyter-widgets/controls",
      "model_module_version": "1.3.0",
      "model_name": "SliderStyleModel",
      "state": {
       "description_width": ""
      }
     },
     "354cc3b89d384aa382bd1f844a480c36": {
      "model_module": "@jupyter-widgets/controls",
      "model_module_version": "1.3.0",
      "model_name": "HBoxModel",
      "state": {
       "children": [
        "IPY_MODEL_f0e86357a44940dc8d9b3617c468c8a7",
        "IPY_MODEL_2314447e77124ce2b7d872b4ef6aa3b0"
       ],
       "layout": "IPY_MODEL_b24025dc226d47c7b0a1dd27f25985f0"
      }
     },
     "35525fb3836f4ad9bdd8ce0b06b12498": {
      "model_module": "@jupyter-widgets/controls",
      "model_module_version": "1.3.0",
      "model_name": "SliderStyleModel",
      "state": {
       "description_width": ""
      }
     },
     "3583fd6c931643e0b06539da08934960": {
      "model_module": "@jupyter-widgets/base",
      "model_module_version": "1.1.0",
      "model_name": "LayoutModel",
      "state": {}
     },
     "35e361c8bdaf4a1084d64964cffd56eb": {
      "model_module": "@jupyter-widgets/base",
      "model_module_version": "1.1.0",
      "model_name": "LayoutModel",
      "state": {}
     },
     "36018512d1eb4b55b6241d5cfe2898d4": {
      "model_module": "@jupyter-widgets/base",
      "model_module_version": "1.1.0",
      "model_name": "LayoutModel",
      "state": {}
     },
     "3625d49a40e64c0fbebc64286faa16e3": {
      "model_module": "@jupyter-widgets/output",
      "model_module_version": "1.0.0",
      "model_name": "OutputModel",
      "state": {
       "layout": "IPY_MODEL_a356862827b44c398914eee6656f6388",
       "outputs": [
        {
         "name": "stdout",
         "output_type": "stream",
         "text": "il doppio è 6\n"
        }
       ]
      }
     },
     "3630a79dfabc499fb6cc2390e53050c3": {
      "model_module": "@jupyter-widgets/controls",
      "model_module_version": "1.3.0",
      "model_name": "VBoxModel",
      "state": {
       "_dom_classes": [
        "widget-interact"
       ],
       "children": [
        "IPY_MODEL_7ae7b0e5a0e94c819d93ca566cd0c541",
        "IPY_MODEL_17c667ed148b4abf98c3fedf53567d74"
       ],
       "layout": "IPY_MODEL_6b95d62e1d3547ac8c5d1a1868f592b1"
      }
     },
     "365b801162044347ab31090602c0e2e7": {
      "model_module": "@jupyter-widgets/output",
      "model_module_version": "1.0.0",
      "model_name": "OutputModel",
      "state": {
       "layout": "IPY_MODEL_2635c722e6544a7dbb6c0a7b5b6cb415"
      }
     },
     "369b7208fbaa4776b01d4483027c8901": {
      "model_module": "@jupyter-widgets/base",
      "model_module_version": "1.1.0",
      "model_name": "LayoutModel",
      "state": {}
     },
     "36bdf6d29fb540619c2c54050df7ec3a": {
      "model_module": "@jupyter-widgets/output",
      "model_module_version": "1.0.0",
      "model_name": "OutputModel",
      "state": {
       "layout": "IPY_MODEL_431529e2c16b42abacfdfb82f8862b2d",
       "outputs": [
        {
         "name": "stdout",
         "output_type": "stream",
         "text": "il doppio è 6\n"
        }
       ]
      }
     },
     "36d8097d7a154105bf4b70360f338f7b": {
      "model_module": "bqplot",
      "model_module_version": "^0.3.6",
      "model_name": "LinearScaleModel",
      "state": {
       "stabilized": false
      }
     },
     "36fd58da28174b9796de2848a9eb1b18": {
      "model_module": "bqplot",
      "model_module_version": "^0.3.6",
      "model_name": "ToolbarModel",
      "state": {
       "figure": "IPY_MODEL_62b5d09634dc42b1904d3df992dbdc27",
       "layout": "IPY_MODEL_369b7208fbaa4776b01d4483027c8901"
      }
     },
     "375672e9b9e44e1bb380825538ad4eb2": {
      "model_module": "bqplot",
      "model_module_version": "^0.3.6",
      "model_name": "FigureModel",
      "state": {
       "_dom_classes": [],
       "axes": [
        "IPY_MODEL_8e6cb99206b340308c50f36b451271c7",
        "IPY_MODEL_0208dc06d14a4fd2ba004295ec502139"
       ],
       "layout": "IPY_MODEL_9e13f4a9e7594ea9b6b4e19ffc6759d3",
       "marks": [
        "IPY_MODEL_ed80353210f9471d8306b6659f092000"
       ],
       "max_aspect_ratio": 6,
       "scale_x": "IPY_MODEL_89fd1c0715e64f3983bf04842de40d12",
       "scale_y": "IPY_MODEL_75b8bd5cae114cb4a4e10f67cbabd5ae",
       "title": "HBox con slider e bqplot"
      }
     },
     "379ecb4d643a4be9b802e3b6e733eb59": {
      "model_module": "@jupyter-widgets/base",
      "model_module_version": "1.1.0",
      "model_name": "LayoutModel",
      "state": {}
     },
     "37add33d9bb543399dfff5729ef272fc": {
      "model_module": "@jupyter-widgets/base",
      "model_module_version": "1.1.0",
      "model_name": "LayoutModel",
      "state": {}
     },
     "387b290fb58c430686b940b52441211e": {
      "model_module": "bqplot",
      "model_module_version": "^0.3.6",
      "model_name": "AxisModel",
      "state": {
       "orientation": "vertical",
       "scale": "IPY_MODEL_3e94921779854b87b64a7495c35b8091",
       "side": "left",
       "tick_values": {
        "type": null,
        "values": null
       }
      }
     },
     "387b8489d7914ec2ad5c513e8a02b09e": {
      "model_module": "@jupyter-widgets/controls",
      "model_module_version": "1.3.0",
      "model_name": "DescriptionStyleModel",
      "state": {
       "description_width": ""
      }
     },
     "3892c035df334bbf85c7aa0711a4c818": {
      "model_module": "@jupyter-widgets/base",
      "model_module_version": "1.1.0",
      "model_name": "LayoutModel",
      "state": {}
     },
     "38e01e00fcb24b2b935f0014796acc6c": {
      "model_module": "@jupyter-widgets/base",
      "model_module_version": "1.1.0",
      "model_name": "LayoutModel",
      "state": {}
     },
     "38ea3ea8d0fd4af2a873a747a56cec43": {
      "model_module": "@jupyter-widgets/controls",
      "model_module_version": "1.3.0",
      "model_name": "ButtonModel",
      "state": {
       "description": "alto a destra",
       "layout": "IPY_MODEL_c0b5089ae2d74eeeaabf174856b8876c",
       "style": "IPY_MODEL_48f8de54e4e847a9af30a53a4cd1e7b1"
      }
     },
     "392fbb5272764420856f7e144770df0f": {
      "model_module": "@jupyter-widgets/base",
      "model_module_version": "1.1.0",
      "model_name": "LayoutModel",
      "state": {}
     },
     "395ca4cfcfff40d79ff2e4eb705ba1fd": {
      "model_module": "@jupyter-widgets/base",
      "model_module_version": "1.1.0",
      "model_name": "LayoutModel",
      "state": {}
     },
     "3a4e710eeb0849c2b9ff4f3143abe478": {
      "model_module": "bqplot",
      "model_module_version": "^0.3.6",
      "model_name": "LinearScaleModel",
      "state": {
       "stabilized": false
      }
     },
     "3b91aa5a80174a109025dca15fc9f434": {
      "model_module": "@jupyter-widgets/controls",
      "model_module_version": "1.3.0",
      "model_name": "DescriptionStyleModel",
      "state": {
       "description_width": ""
      }
     },
     "3b95e60142a44e4d871da156b593955e": {
      "model_module": "@jupyter-widgets/base",
      "model_module_version": "1.1.0",
      "model_name": "LayoutModel",
      "state": {}
     },
     "3be214e2c8b643a48a3d94645c4e0e1c": {
      "model_module": "@jupyter-widgets/controls",
      "model_module_version": "1.3.0",
      "model_name": "SliderStyleModel",
      "state": {
       "description_width": ""
      }
     },
     "3be91c537d0f4f458b66ab627eb5043e": {
      "model_module": "bqplot",
      "model_module_version": "^0.3.6",
      "model_name": "LinearScaleModel",
      "state": {
       "stabilized": false
      }
     },
     "3ccd25df34d344e9a9b9dbe6e411fb30": {
      "model_module": "@jupyter-widgets/base",
      "model_module_version": "1.1.0",
      "model_name": "LayoutModel",
      "state": {}
     },
     "3d3dcd413db243a7b1e144f38f9f4fdb": {
      "model_module": "@jupyter-widgets/base",
      "model_module_version": "1.1.0",
      "model_name": "LayoutModel",
      "state": {}
     },
     "3dc9851a77f441a9af058f744a33c7ec": {
      "model_module": "@jupyter-widgets/base",
      "model_module_version": "1.1.0",
      "model_name": "LayoutModel",
      "state": {}
     },
     "3e629f56f3a542d3a8d3568c249d8a12": {
      "model_module": "@jupyter-widgets/controls",
      "model_module_version": "1.3.0",
      "model_name": "LabelModel",
      "state": {
       "layout": "IPY_MODEL_5a1ea868eff7457691e419787400e543",
       "style": "IPY_MODEL_faa4f63a99c248d9bb842862ccfacaf5",
       "value": "nuovo valore = "
      }
     },
     "3e8d54f8c038453b940603adf14f73a2": {
      "model_module": "@jupyter-widgets/controls",
      "model_module_version": "1.3.0",
      "model_name": "SliderStyleModel",
      "state": {
       "description_width": ""
      }
     },
     "3e8db86ebfc64419ba4949a6c33c7740": {
      "model_module": "bqplot",
      "model_module_version": "^0.3.6",
      "model_name": "LinearScaleModel",
      "state": {
       "stabilized": false
      }
     },
     "3e94921779854b87b64a7495c35b8091": {
      "model_module": "bqplot",
      "model_module_version": "^0.3.6",
      "model_name": "LinearScaleModel",
      "state": {
       "stabilized": false
      }
     },
     "3eea2a7989864fff8c1555ecaead924f": {
      "model_module": "bqplot",
      "model_module_version": "^0.3.6",
      "model_name": "AxisModel",
      "state": {
       "orientation": "vertical",
       "scale": "IPY_MODEL_f4bc522c345147b98d63c1d64a2bcf01",
       "side": "left",
       "tick_values": {
        "type": null,
        "values": null
       }
      }
     },
     "3f62aef0623c40c1a39002aee88a5e45": {
      "model_module": "@jupyter-widgets/controls",
      "model_module_version": "1.3.0",
      "model_name": "IntSliderModel",
      "state": {
       "description": "slider con",
       "layout": "IPY_MODEL_fd45b38f099540bfa8c1339eda376d6c",
       "style": "IPY_MODEL_62b3cf4c49ee490e9f45005bd86bb757"
      }
     },
     "3f69135dcc244fb28fc0fbd1c96e0446": {
      "model_module": "@jupyter-widgets/base",
      "model_module_version": "1.1.0",
      "model_name": "LayoutModel",
      "state": {}
     },
     "3f92df9bf98d441ba4f58d8a64d73c68": {
      "model_module": "@jupyter-widgets/controls",
      "model_module_version": "1.3.0",
      "model_name": "SliderStyleModel",
      "state": {
       "description_width": ""
      }
     },
     "3febdc2eb3864f8d9383b5c21c29314d": {
      "model_module": "bqplot",
      "model_module_version": "^0.3.6",
      "model_name": "LinearScaleModel",
      "state": {
       "stabilized": false
      }
     },
     "402331c9be77422e938a03eb2de4cdb6": {
      "model_module": "@jupyter-widgets/controls",
      "model_module_version": "1.3.0",
      "model_name": "SliderStyleModel",
      "state": {
       "description_width": ""
      }
     },
     "402601be392142db9479c56d3f36d51a": {
      "model_module": "@jupyter-widgets/controls",
      "model_module_version": "1.3.0",
      "model_name": "SliderStyleModel",
      "state": {
       "description_width": ""
      }
     },
     "4058734c6b364f839ceb3befc92d4a96": {
      "model_module": "@jupyter-widgets/controls",
      "model_module_version": "1.3.0",
      "model_name": "DescriptionStyleModel",
      "state": {
       "description_width": ""
      }
     },
     "40724dc7b5a549ceb8e430005f10dad5": {
      "model_module": "@jupyter-widgets/controls",
      "model_module_version": "1.3.0",
      "model_name": "IntSliderModel",
      "state": {
       "description": "k",
       "layout": "IPY_MODEL_815a812375a84ac2abee11b672cb5bd0",
       "max": 9,
       "min": -3,
       "style": "IPY_MODEL_6e475e694fe647eb9ad69741ec11f850",
       "value": 3
      }
     },
     "40b49b52812047a2bf8565d7331b180c": {
      "model_module": "@jupyter-widgets/base",
      "model_module_version": "1.1.0",
      "model_name": "LayoutModel",
      "state": {}
     },
     "40f0341dd97d4fcb9df9105c6db27430": {
      "model_module": "bqplot",
      "model_module_version": "^0.3.6",
      "model_name": "LinearScaleModel",
      "state": {
       "stabilized": false
      }
     },
     "4125cb6b754546c7ac9dc815ef11d24a": {
      "model_module": "@jupyter-widgets/base",
      "model_module_version": "1.1.0",
      "model_name": "LayoutModel",
      "state": {}
     },
     "4153fa488597461eaf7f97d83d11a45c": {
      "model_module": "@jupyter-widgets/controls",
      "model_module_version": "1.3.0",
      "model_name": "FloatSliderModel",
      "state": {
       "layout": "IPY_MODEL_9648666f674b4ecaa5a611b12cfb316b",
       "step": 0.1,
       "style": "IPY_MODEL_a8d4b953a9874dc0828ecd296c07f0a0"
      }
     },
     "4303a7f311cb4e45a251d8992195a202": {
      "model_module": "@jupyter-widgets/base",
      "model_module_version": "1.1.0",
      "model_name": "LayoutModel",
      "state": {}
     },
     "431529e2c16b42abacfdfb82f8862b2d": {
      "model_module": "@jupyter-widgets/base",
      "model_module_version": "1.1.0",
      "model_name": "LayoutModel",
      "state": {}
     },
     "431c87ca1c6948c9a3124ce474feee23": {
      "model_module": "bqplot",
      "model_module_version": "^0.3.6",
      "model_name": "FigureModel",
      "state": {
       "_dom_classes": [],
       "axes": [
        "IPY_MODEL_1a0caf7265f54c3ba9510c1bf3dddcce",
        "IPY_MODEL_1cd1a3adfef74edb8fc46957655063ae"
       ],
       "layout": "IPY_MODEL_cc82ecb1d8af41b8a5f35d6d514b56e6",
       "marks": [
        "IPY_MODEL_6d4b80faaa7f472689a5257f1a949401"
       ],
       "max_aspect_ratio": 6,
       "scale_x": "IPY_MODEL_98eedf49f44c462c9be8901c81583781",
       "scale_y": "IPY_MODEL_8fac2dd5c53c47b79957f07009b09de4",
       "title": "Grafico in bqplot"
      }
     },
     "43a8906ced2947969609fe680bfe1ba6": {
      "model_module": "@jupyter-widgets/controls",
      "model_module_version": "1.3.0",
      "model_name": "SliderStyleModel",
      "state": {
       "description_width": ""
      }
     },
     "443cf9ae0cb84fcd9b78f32ff6dae209": {
      "model_module": "@jupyter-widgets/base",
      "model_module_version": "1.1.0",
      "model_name": "LayoutModel",
      "state": {}
     },
     "44448ec024f8449f8b24996bf9b5da5d": {
      "model_module": "@jupyter-widgets/controls",
      "model_module_version": "1.3.0",
      "model_name": "SliderStyleModel",
      "state": {
       "description_width": ""
      }
     },
     "44514bc9312e41ee978c5310c11bd6a8": {
      "model_module": "@jupyter-widgets/controls",
      "model_module_version": "1.3.0",
      "model_name": "LabelModel",
      "state": {
       "layout": "IPY_MODEL_1b30abf0b31941ff8d1b82c1d84b498d",
       "style": "IPY_MODEL_77125668146d41a3983d147e3d9ff9d1",
       "value": "nuovo valore = "
      }
     },
     "44b5fe1558b14084ab2897e730bb9bbe": {
      "model_module": "@jupyter-widgets/base",
      "model_module_version": "1.1.0",
      "model_name": "LayoutModel",
      "state": {}
     },
     "44f2afd6ea8b4046ab5235a07b674e83": {
      "model_module": "@jupyter-widgets/controls",
      "model_module_version": "1.3.0",
      "model_name": "ButtonModel",
      "state": {
       "description": "Bottone con stile applicato ",
       "layout": "IPY_MODEL_c8f2c4e04ae4447e925384203fe5f28d",
       "style": "IPY_MODEL_d14fa18756f6447cba859e6856247d7f"
      }
     },
     "45959d03c27241fb8c4273fae8691db0": {
      "model_module": "@jupyter-widgets/controls",
      "model_module_version": "1.3.0",
      "model_name": "SliderStyleModel",
      "state": {
       "description_width": ""
      }
     },
     "4618dec8e3504217aed7028f445028f8": {
      "model_module": "@jupyter-widgets/controls",
      "model_module_version": "1.3.0",
      "model_name": "VBoxModel",
      "state": {
       "_dom_classes": [
        "widget-interact"
       ],
       "children": [
        "IPY_MODEL_9c2dd56c1a1d481ba10f9bdc700f50af",
        "IPY_MODEL_acdc257429624d48a33cd774874a27a8"
       ],
       "layout": "IPY_MODEL_f704ceaef92945bf81fbe26d017b52ef"
      }
     },
     "465ac352a9e24715a9c211172ca7c2bf": {
      "model_module": "@jupyter-widgets/base",
      "model_module_version": "1.1.0",
      "model_name": "LayoutModel",
      "state": {}
     },
     "46c9c11c6f894743b23926c46d983059": {
      "model_module": "@jupyter-widgets/controls",
      "model_module_version": "1.3.0",
      "model_name": "ButtonModel",
      "state": {
       "description": "Stampa",
       "icon": "check",
       "layout": "IPY_MODEL_7db12fa33c334d02900863e401d9d7b3",
       "style": "IPY_MODEL_60821c8d3e544a88910863180a0240eb",
       "tooltip": "stampa qualcosa"
      }
     },
     "46ff6d9df8434ce5913a210927ca3997": {
      "model_module": "@jupyter-widgets/controls",
      "model_module_version": "1.3.0",
      "model_name": "FloatSliderModel",
      "state": {
       "description": "k",
       "layout": "IPY_MODEL_c3a26606e55e497a8d43e1ce76a81779",
       "max": 3,
       "min": -1,
       "step": 0.1,
       "style": "IPY_MODEL_0e3bd801c25f41c8a4058f41cab3e009",
       "value": 1
      }
     },
     "4751cf76895a4388b18bcd913399328f": {
      "model_module": "@jupyter-widgets/controls",
      "model_module_version": "1.3.0",
      "model_name": "IntSliderModel",
      "state": {
       "description": "k",
       "layout": "IPY_MODEL_1bf4e43f9c5d49a38c64279ed047f527",
       "max": 9,
       "min": -3,
       "style": "IPY_MODEL_3e8d54f8c038453b940603adf14f73a2",
       "value": 3
      }
     },
     "477bf9f4632c4e2aac8ab59bfb106ff1": {
      "model_module": "@jupyter-widgets/base",
      "model_module_version": "1.1.0",
      "model_name": "LayoutModel",
      "state": {}
     },
     "47b05cf3350144cba081931cd0580477": {
      "model_module": "@jupyter-widgets/base",
      "model_module_version": "1.1.0",
      "model_name": "LayoutModel",
      "state": {}
     },
     "47e1c6f979e149f9ae69ae87e1280c08": {
      "model_module": "@jupyter-widgets/controls",
      "model_module_version": "1.3.0",
      "model_name": "IntSliderModel",
      "state": {
       "layout": "IPY_MODEL_73aa43fdfdcc4ad89fb27646a1425f4d",
       "max": 200,
       "style": "IPY_MODEL_eeedd005435045dfb33a6b73f2d1ddd3"
      }
     },
     "485aabeae77f47e3ba02db950bfa13f6": {
      "model_module": "@jupyter-widgets/controls",
      "model_module_version": "1.3.0",
      "model_name": "SliderStyleModel",
      "state": {
       "description_width": ""
      }
     },
     "4899e668571b40d69e15f599b319dcf6": {
      "model_module": "@jupyter-widgets/controls",
      "model_module_version": "1.3.0",
      "model_name": "ButtonModel",
      "state": {
       "description": "alto a destra",
       "layout": "IPY_MODEL_d60b2e4de77742a1b9fdcacaf23f9259",
       "style": "IPY_MODEL_9c6735d9dc6548ab8e906e52be17ff91"
      }
     },
     "48af592ceb664269907d5228cb0dc5f7": {
      "model_module": "bqplot",
      "model_module_version": "^0.3.6",
      "model_name": "ToolbarModel",
      "state": {
       "figure": "IPY_MODEL_70156597fe5b4523806a4d3a2d97c949",
       "layout": "IPY_MODEL_cfa90a97b7b94e3b8c373e5ee093851c"
      }
     },
     "48f8de54e4e847a9af30a53a4cd1e7b1": {
      "model_module": "@jupyter-widgets/controls",
      "model_module_version": "1.3.0",
      "model_name": "ButtonStyleModel",
      "state": {}
     },
     "49bc7e74d38f4528a8c39543ea54c416": {
      "model_module": "bqplot",
      "model_module_version": "^0.3.6",
      "model_name": "LinearScaleModel",
      "state": {
       "stabilized": false
      }
     },
     "49c2b1371566409a8eac8c882362d628": {
      "model_module": "@jupyter-widgets/base",
      "model_module_version": "1.1.0",
      "model_name": "LayoutModel",
      "state": {}
     },
     "49f95358545449b9aa4bb07b9c79fe46": {
      "model_module": "@jupyter-widgets/base",
      "model_module_version": "1.1.0",
      "model_name": "LayoutModel",
      "state": {}
     },
     "4a1aeb2e3eab4a78bb04108c32d0e9f6": {
      "model_module": "@jupyter-widgets/base",
      "model_module_version": "1.1.0",
      "model_name": "LayoutModel",
      "state": {}
     },
     "4a1e439fcdac4686986a07a2b185a16a": {
      "model_module": "@jupyter-widgets/controls",
      "model_module_version": "1.3.0",
      "model_name": "VBoxModel",
      "state": {
       "children": [
        "IPY_MODEL_27394d8c7f8847bcba3423e804f364ac",
        "IPY_MODEL_bc78df4263504d53a4c5e38b474d3d44"
       ],
       "layout": "IPY_MODEL_2cf3eccad2a248f8a7a8c4b594c762c1"
      }
     },
     "4a5da8f06d1b4cfabf4d00f2150454d1": {
      "model_module": "@jupyter-widgets/base",
      "model_module_version": "1.1.0",
      "model_name": "LayoutModel",
      "state": {}
     },
     "4a6b7914faab45988bbda0aa455b39e8": {
      "model_module": "@jupyter-widgets/base",
      "model_module_version": "1.1.0",
      "model_name": "LayoutModel",
      "state": {}
     },
     "4ac1c8fbbd084caaa5a9170012c849d0": {
      "model_module": "@jupyter-widgets/controls",
      "model_module_version": "1.3.0",
      "model_name": "SliderStyleModel",
      "state": {
       "description_width": ""
      }
     },
     "4afa558ea8114238b33b31e50d3ccb06": {
      "model_module": "@jupyter-widgets/controls",
      "model_module_version": "1.3.0",
      "model_name": "FloatSliderModel",
      "state": {
       "description": "k",
       "layout": "IPY_MODEL_c6da23c783444cf1bfd3743297b600a7",
       "max": 3,
       "min": -1,
       "step": 0.1,
       "style": "IPY_MODEL_6644348ccecf4e1089ba80a7c39d497f",
       "value": 1
      }
     },
     "4b42894d02ff465a83e4ae680c497dec": {
      "model_module": "@jupyter-widgets/controls",
      "model_module_version": "1.3.0",
      "model_name": "IntSliderModel",
      "state": {
       "layout": "IPY_MODEL_d7faa3ba49cf47d198184120fe24486b",
       "style": "IPY_MODEL_13144bdd3d5f4a42bf4d91b1221b1a16"
      }
     },
     "4bf90f1b5c0e4d22bce909732ad8a674": {
      "model_module": "@jupyter-widgets/controls",
      "model_module_version": "1.3.0",
      "model_name": "IntSliderModel",
      "state": {
       "description": "k",
       "layout": "IPY_MODEL_baf98ed824af4211a76a398cc66a2e4a",
       "max": 30,
       "min": -10,
       "style": "IPY_MODEL_507fb0ada89a47359d660b4239eaffe2",
       "value": 10
      }
     },
     "4c33deee678e44438c95ad6a7b50bb6e": {
      "model_module": "@jupyter-widgets/base",
      "model_module_version": "1.1.0",
      "model_name": "LayoutModel",
      "state": {
       "height": "80px",
       "width": "50%"
      }
     },
     "4cc9dca1425348d7883b3c961f0bca2a": {
      "model_module": "bqplot",
      "model_module_version": "^0.3.6",
      "model_name": "AxisModel",
      "state": {
       "orientation": "vertical",
       "scale": "IPY_MODEL_590a50c893d44b649f0e3f1652d92b3a",
       "side": "left",
       "tick_values": {
        "type": null,
        "values": null
       }
      }
     },
     "4d0a6e17827044eb8a23fc7ae996c630": {
      "model_module": "@jupyter-widgets/base",
      "model_module_version": "1.1.0",
      "model_name": "LayoutModel",
      "state": {}
     },
     "4d25947a62a0432cb037112641cb3ad1": {
      "model_module": "bqplot",
      "model_module_version": "^0.3.6",
      "model_name": "LinearScaleModel",
      "state": {
       "stabilized": false
      }
     },
     "4d2c85d386b640669e1c22f5cb1adff1": {
      "model_module": "@jupyter-widgets/controls",
      "model_module_version": "1.3.0",
      "model_name": "SliderStyleModel",
      "state": {
       "description_width": ""
      }
     },
     "4d2f5325ad134fcd90cd5abe0fe975da": {
      "model_module": "@jupyter-widgets/base",
      "model_module_version": "1.1.0",
      "model_name": "LayoutModel",
      "state": {}
     },
     "4d81784c1e674338b73db16addbd9429": {
      "model_module": "@jupyter-widgets/base",
      "model_module_version": "1.1.0",
      "model_name": "LayoutModel",
      "state": {}
     },
     "4de3a0094aa74e1988b76eeec16d8b7a": {
      "model_module": "@jupyter-widgets/base",
      "model_module_version": "1.1.0",
      "model_name": "LayoutModel",
      "state": {}
     },
     "4e1324a452014c0cbed9093883a7b24a": {
      "model_module": "bqplot",
      "model_module_version": "^0.3.6",
      "model_name": "LinearScaleModel",
      "state": {
       "stabilized": false
      }
     },
     "4e3a73f337134c2bac131ec477ad95be": {
      "model_module": "@jupyter-widgets/controls",
      "model_module_version": "1.3.0",
      "model_name": "SliderStyleModel",
      "state": {
       "description_width": ""
      }
     },
     "4e3aa2b1df544e259ba224d45a3a95b2": {
      "model_module": "bqplot",
      "model_module_version": "^0.3.6",
      "model_name": "LinearScaleModel",
      "state": {
       "stabilized": false
      }
     },
     "4ecd33d03c814ad180de55eb0e744ca9": {
      "model_module": "@jupyter-widgets/base",
      "model_module_version": "1.1.0",
      "model_name": "LayoutModel",
      "state": {
       "height": "80px",
       "width": "50%"
      }
     },
     "4f190dba500a4f35b26c304ae2e69a63": {
      "model_module": "@jupyter-widgets/base",
      "model_module_version": "1.1.0",
      "model_name": "LayoutModel",
      "state": {}
     },
     "4fb686c8151a4672af456908c3eb3980": {
      "model_module": "bqplot",
      "model_module_version": "^0.3.6",
      "model_name": "LinearScaleModel",
      "state": {
       "allow_padding": false,
       "max": 1,
       "min": 0,
       "stabilized": false
      }
     },
     "4fe49526f680453f906cd424844f3aed": {
      "model_module": "@jupyter-widgets/base",
      "model_module_version": "1.1.0",
      "model_name": "LayoutModel",
      "state": {}
     },
     "4fe4fde8c21d44d5bd0ca4480ac0296f": {
      "model_module": "@jupyter-widgets/controls",
      "model_module_version": "1.3.0",
      "model_name": "IntSliderModel",
      "state": {
       "layout": "IPY_MODEL_44b5fe1558b14084ab2897e730bb9bbe",
       "style": "IPY_MODEL_92c51d80a76b457fa362c062d36a9610"
      }
     },
     "507fb0ada89a47359d660b4239eaffe2": {
      "model_module": "@jupyter-widgets/controls",
      "model_module_version": "1.3.0",
      "model_name": "SliderStyleModel",
      "state": {
       "description_width": ""
      }
     },
     "50ad618020864b5cabb17191541a1e7f": {
      "model_module": "bqplot",
      "model_module_version": "^0.3.6",
      "model_name": "LinearScaleModel",
      "state": {
       "allow_padding": false,
       "max": 1,
       "min": 0,
       "stabilized": false
      }
     },
     "520f5632cf7446f1b613cd55e7c7fae9": {
      "model_module": "@jupyter-widgets/output",
      "model_module_version": "1.0.0",
      "model_name": "OutputModel",
      "state": {
       "layout": "IPY_MODEL_aa4d964b09bb44789ffdd1e9631fe386",
       "outputs": [
        {
         "name": "stdout",
         "output_type": "stream",
         "text": "Il numero è 10\n"
        }
       ]
      }
     },
     "5262527dd65b42bca1aa032d77ff0d03": {
      "model_module": "@jupyter-widgets/controls",
      "model_module_version": "1.3.0",
      "model_name": "FloatSliderModel",
      "state": {
       "description": "k",
       "layout": "IPY_MODEL_aafeb0c17d24493f9dfa800a2c8e0a71",
       "max": 3,
       "min": -1,
       "step": 0.1,
       "style": "IPY_MODEL_bb7e6c8d8bd04b9aad774b0f4334a94c",
       "value": 1
      }
     },
     "52e8d7f749ab49d59431e93f3169aaee": {
      "model_module": "@jupyter-widgets/base",
      "model_module_version": "1.1.0",
      "model_name": "LayoutModel",
      "state": {}
     },
     "53b4c2e1045643118fe90c19bd4b4094": {
      "model_module": "@jupyter-widgets/controls",
      "model_module_version": "1.3.0",
      "model_name": "VBoxModel",
      "state": {
       "_dom_classes": [
        "widget-interact"
       ],
       "children": [
        "IPY_MODEL_cb1dc9b5a9054299aac7faf89af0d702",
        "IPY_MODEL_b63f67e6d30d463e9081e3f0c08fb1a7"
       ],
       "layout": "IPY_MODEL_3ccd25df34d344e9a9b9dbe6e411fb30"
      }
     },
     "5444d43d016841098977d0556c413f0d": {
      "model_module": "@jupyter-widgets/controls",
      "model_module_version": "1.3.0",
      "model_name": "VBoxModel",
      "state": {
       "_dom_classes": [
        "widget-interact"
       ],
       "children": [
        "IPY_MODEL_31ed5ab9b6774da58332cb73a1c32ce3",
        "IPY_MODEL_d2a9e461e7bf443d9ee3b89063fd6b27"
       ],
       "layout": "IPY_MODEL_7194662bd9b848c5b62a1f73abfd5004"
      }
     },
     "551793ca696f4a6181f924757dd0390b": {
      "model_module": "bqplot",
      "model_module_version": "^0.3.6",
      "model_name": "LinearScaleModel",
      "state": {
       "stabilized": false
      }
     },
     "551c30c1a03d439bbb09fcaba7fadca7": {
      "model_module": "@jupyter-widgets/controls",
      "model_module_version": "1.3.0",
      "model_name": "VBoxModel",
      "state": {
       "children": [
        "IPY_MODEL_3f62aef0623c40c1a39002aee88a5e45",
        "IPY_MODEL_caf4da7ed49e44b69f20ec5cd9d261e9"
       ],
       "layout": "IPY_MODEL_0686fa8b6f2c4989bc169b5babb161a1"
      }
     },
     "55c06b90e46d40e9b2235c64eabc99be": {
      "model_module": "bqplot",
      "model_module_version": "^0.3.6",
      "model_name": "AxisModel",
      "state": {
       "scale": "IPY_MODEL_ceec6b6822bc4849ba0b517753480b88",
       "side": "bottom",
       "tick_values": {
        "type": null,
        "values": null
       }
      }
     },
     "55d1f6990c824510a171602813dc267b": {
      "model_module": "@jupyter-widgets/controls",
      "model_module_version": "1.3.0",
      "model_name": "ButtonModel",
      "state": {
       "description": "basso a sinistra",
       "layout": "IPY_MODEL_ab6fd4ebaa734638a9131158780febd5",
       "style": "IPY_MODEL_6e9a0f4914ab4c3995bf06bcbe38e993"
      }
     },
     "56303114be4240d3a0482eb0c51c2e2f": {
      "model_module": "@jupyter-widgets/base",
      "model_module_version": "1.1.0",
      "model_name": "LayoutModel",
      "state": {}
     },
     "56ac25282458464c85e7b31de77b4890": {
      "model_module": "@jupyter-widgets/controls",
      "model_module_version": "1.3.0",
      "model_name": "HBoxModel",
      "state": {
       "children": [
        "IPY_MODEL_eb0fcd4167924c2fbf7013ebea2e87f4",
        "IPY_MODEL_c2eb97d25e0f4ba1816ee772ca7922f0"
       ],
       "layout": "IPY_MODEL_709b48c3f1274d09bfd45f60db571cec"
      }
     },
     "56c8c902b49b437e9019f9ae49fcaaf2": {
      "model_module": "@jupyter-widgets/base",
      "model_module_version": "1.1.0",
      "model_name": "LayoutModel",
      "state": {}
     },
     "577a6907216b49899c3552d37b71f471": {
      "model_module": "@jupyter-widgets/controls",
      "model_module_version": "1.3.0",
      "model_name": "BoxModel",
      "state": {
       "children": [
        "IPY_MODEL_f9f7cbda77104791b452869be3347e66",
        "IPY_MODEL_319ae742a17a4d28b7874b4eae9e8b6a"
       ],
       "layout": "IPY_MODEL_0dccfac8e6f94de194f2a670dfa46af7"
      }
     },
     "581148160c9248159182720c004e5185": {
      "model_module": "@jupyter-widgets/base",
      "model_module_version": "1.1.0",
      "model_name": "LayoutModel",
      "state": {}
     },
     "58372a488cbd437ead5d3c4da62129af": {
      "model_module": "@jupyter-widgets/controls",
      "model_module_version": "1.3.0",
      "model_name": "IntSliderModel",
      "state": {
       "layout": "IPY_MODEL_5f6c144a7c814a97b37c3288ddbfbe28",
       "style": "IPY_MODEL_45959d03c27241fb8c4273fae8691db0",
       "value": 9
      }
     },
     "5872997f2610449d8d1dff037beb95d6": {
      "model_module": "bqplot",
      "model_module_version": "^0.3.6",
      "model_name": "AxisModel",
      "state": {
       "orientation": "vertical",
       "scale": "IPY_MODEL_36d8097d7a154105bf4b70360f338f7b",
       "side": "left",
       "tick_values": {
        "type": null,
        "values": null
       }
      }
     },
     "58abba4f531e45918c59beedb7e74603": {
      "model_module": "@jupyter-widgets/controls",
      "model_module_version": "1.3.0",
      "model_name": "LabelModel",
      "state": {
       "layout": "IPY_MODEL_a75804d59c8747f49789fc8fdcdea71b",
       "style": "IPY_MODEL_9541e79502944efaa000db3fdad1d180",
       "value": "nuovo valore = "
      }
     },
     "5902c7a304bf4b2f9a9ce88261041215": {
      "model_module": "@jupyter-widgets/base",
      "model_module_version": "1.1.0",
      "model_name": "LayoutModel",
      "state": {}
     },
     "590a50c893d44b649f0e3f1652d92b3a": {
      "model_module": "bqplot",
      "model_module_version": "^0.3.6",
      "model_name": "LinearScaleModel",
      "state": {
       "stabilized": false
      }
     },
     "59259b6f627a4e55b1501dcae63846f0": {
      "model_module": "bqplot",
      "model_module_version": "^0.3.6",
      "model_name": "LinearScaleModel",
      "state": {
       "allow_padding": false,
       "max": 1,
       "min": 0,
       "stabilized": false
      }
     },
     "5949f7199717482cb59255736b952665": {
      "model_module": "@jupyter-widgets/base",
      "model_module_version": "1.1.0",
      "model_name": "LayoutModel",
      "state": {}
     },
     "597e7afe97b04abc8aef5541e54117d9": {
      "model_module": "@jupyter-widgets/base",
      "model_module_version": "1.1.0",
      "model_name": "LayoutModel",
      "state": {}
     },
     "5a1ea868eff7457691e419787400e543": {
      "model_module": "@jupyter-widgets/base",
      "model_module_version": "1.1.0",
      "model_name": "LayoutModel",
      "state": {}
     },
     "5a3d240790f54958af7a111d90f0d70e": {
      "model_module": "@jupyter-widgets/controls",
      "model_module_version": "1.3.0",
      "model_name": "VBoxModel",
      "state": {
       "children": [
        "IPY_MODEL_737aa0b365f44682b617f03984c46a91",
        "IPY_MODEL_1dd41b3ca14444aa91a3cfe8377384e0"
       ],
       "layout": "IPY_MODEL_d49705f317134de4a6a9e0140aabec80"
      }
     },
     "5afe88b53f86424289bda8837cef4fba": {
      "model_module": "@jupyter-widgets/controls",
      "model_module_version": "1.3.0",
      "model_name": "SliderStyleModel",
      "state": {
       "description_width": ""
      }
     },
     "5b00442c6bcd43f28ca1d0479a81e6f7": {
      "model_module": "@jupyter-widgets/output",
      "model_module_version": "1.0.0",
      "model_name": "OutputModel",
      "state": {
       "layout": "IPY_MODEL_31b8ab7bf9ae47bfa8d42bb291877790",
       "outputs": [
        {
         "name": "stdout",
         "output_type": "stream",
         "text": "il doppio è 6\n"
        }
       ]
      }
     },
     "5b07abf523d7477396743f0e0b8d9fab": {
      "model_module": "@jupyter-widgets/controls",
      "model_module_version": "1.3.0",
      "model_name": "SliderStyleModel",
      "state": {
       "description_width": ""
      }
     },
     "5b5118f8f1c84fe5a17eaf1fbcbbe9c2": {
      "model_module": "@jupyter-widgets/controls",
      "model_module_version": "1.3.0",
      "model_name": "ButtonStyleModel",
      "state": {}
     },
     "5c9c926ebaaf47fb8f0df39f1e495f03": {
      "model_module": "bqplot",
      "model_module_version": "^0.3.6",
      "model_name": "FigureModel",
      "state": {
       "_dom_classes": [],
       "axes": [
        "IPY_MODEL_ecc10cd12a2a40509acd26db47eac6fa",
        "IPY_MODEL_e252b46b8ebd42bebdca75c0646bacfe"
       ],
       "layout": "IPY_MODEL_1778f4cc57294edbb6b0484b11dc68b0",
       "marks": [
        "IPY_MODEL_f864c07a570f43a3951fa137466a8c12"
       ],
       "max_aspect_ratio": 6,
       "scale_x": "IPY_MODEL_c1394a1682a246ca9bc91f1d48b496c5",
       "scale_y": "IPY_MODEL_50ad618020864b5cabb17191541a1e7f",
       "title": "Grafico in bqplot"
      }
     },
     "5c9e3fbd98054abf8433fcb2f56a9535": {
      "model_module": "@jupyter-widgets/base",
      "model_module_version": "1.1.0",
      "model_name": "LayoutModel",
      "state": {}
     },
     "5cc3553fcf274c2ba557530d8b3d27a3": {
      "model_module": "@jupyter-widgets/base",
      "model_module_version": "1.1.0",
      "model_name": "LayoutModel",
      "state": {}
     },
     "5cf492cabf8648c69fcc789b076afb04": {
      "model_module": "@jupyter-widgets/controls",
      "model_module_version": "1.3.0",
      "model_name": "ButtonStyleModel",
      "state": {}
     },
     "5d728a3431384405ae2e7616e93af95d": {
      "model_module": "@jupyter-widgets/controls",
      "model_module_version": "1.3.0",
      "model_name": "VBoxModel",
      "state": {
       "_dom_classes": [
        "widget-interact"
       ],
       "children": [
        "IPY_MODEL_854fa55bd2f74fcbac9133a38f65376f",
        "IPY_MODEL_c648efb85662494c9ca07683db223313"
       ],
       "layout": "IPY_MODEL_a419b705d5a342958a7ad3e6ae4ba21c"
      }
     },
     "5da6a6accccb4916ad818950d36846d8": {
      "model_module": "@jupyter-widgets/controls",
      "model_module_version": "1.3.0",
      "model_name": "VBoxModel",
      "state": {
       "_dom_classes": [
        "widget-interact"
       ],
       "children": [
        "IPY_MODEL_1dfdf09290134bdf95b0cfdfd0eb57ec",
        "IPY_MODEL_a73bacab693946fc8931e9c9425a6128",
        "IPY_MODEL_aaf3129f378e4f9a8257d89d19073d7f"
       ],
       "layout": "IPY_MODEL_aa746c1a21474f5fa03d6be398cc780b"
      }
     },
     "5dd1ed6e53c448aeaf7a8b6286265b65": {
      "model_module": "@jupyter-widgets/controls",
      "model_module_version": "1.3.0",
      "model_name": "LabelModel",
      "state": {
       "layout": "IPY_MODEL_f71751aefdd74486847610918578bc99",
       "style": "IPY_MODEL_e069e73d07d140429e0e9f36abee9724",
       "value": "A too long description:"
      }
     },
     "5df44fcb42f04c7c88dec4393dfb29b3": {
      "model_module": "@jupyter-widgets/controls",
      "model_module_version": "1.3.0",
      "model_name": "HBoxModel",
      "state": {
       "children": [
        "IPY_MODEL_1bd5ddd9596b4be19e2a4bc8f16f2b67",
        "IPY_MODEL_ad9434f2d9344af2ae8af5e8b3a691c5"
       ],
       "layout": "IPY_MODEL_0ba346a1c784403493c04f9ab2d14995"
      }
     },
     "5e1dea6f1aa047eaae1b835842ece33b": {
      "model_module": "@jupyter-widgets/base",
      "model_module_version": "1.1.0",
      "model_name": "LayoutModel",
      "state": {}
     },
     "5ec4ae0c6e7b430baeea0fb05912042a": {
      "model_module": "@jupyter-widgets/base",
      "model_module_version": "1.1.0",
      "model_name": "LayoutModel",
      "state": {
       "min_width": "125px"
      }
     },
     "5f128b4dba334c0791e211085762b821": {
      "model_module": "@jupyter-widgets/base",
      "model_module_version": "1.1.0",
      "model_name": "LayoutModel",
      "state": {}
     },
     "5f6c144a7c814a97b37c3288ddbfbe28": {
      "model_module": "@jupyter-widgets/base",
      "model_module_version": "1.1.0",
      "model_name": "LayoutModel",
      "state": {}
     },
     "5fe4668dc7174a18a640f09ddd087019": {
      "model_module": "@jupyter-widgets/controls",
      "model_module_version": "1.3.0",
      "model_name": "ButtonStyleModel",
      "state": {}
     },
     "5ff4dbb333f740daa861543b7fd52ad3": {
      "model_module": "@jupyter-widgets/controls",
      "model_module_version": "1.3.0",
      "model_name": "SliderStyleModel",
      "state": {
       "description_width": ""
      }
     },
     "60821c8d3e544a88910863180a0240eb": {
      "model_module": "@jupyter-widgets/controls",
      "model_module_version": "1.3.0",
      "model_name": "ButtonStyleModel",
      "state": {}
     },
     "608334ecdd284c8d86fe5bdbcba0d417": {
      "model_module": "@jupyter-widgets/controls",
      "model_module_version": "1.3.0",
      "model_name": "SliderStyleModel",
      "state": {
       "description_width": ""
      }
     },
     "60c4ee213a554f1cbba92c2d8fb8d578": {
      "model_module": "@jupyter-widgets/base",
      "model_module_version": "1.1.0",
      "model_name": "LayoutModel",
      "state": {
       "min_width": "125px"
      }
     },
     "6116d212ae2b4a63af2b01d7d1d5af8c": {
      "model_module": "@jupyter-widgets/base",
      "model_module_version": "1.1.0",
      "model_name": "LayoutModel",
      "state": {}
     },
     "6179560cf4844c0fbb222ef17bb58fab": {
      "model_module": "@jupyter-widgets/base",
      "model_module_version": "1.1.0",
      "model_name": "LayoutModel",
      "state": {}
     },
     "61bf5929a6164b399c2ffd8eefbfedff": {
      "model_module": "@jupyter-widgets/controls",
      "model_module_version": "1.3.0",
      "model_name": "FloatSliderModel",
      "state": {
       "description": "k",
       "layout": "IPY_MODEL_b106e31824a04a7aa8af0c7a99f61241",
       "max": 3,
       "min": -1,
       "step": 0.1,
       "style": "IPY_MODEL_04ce26a65fe449b09975fb7a18aa2ba9",
       "value": 1
      }
     },
     "61e1e682c376430c9389d2cb9f8a991d": {
      "model_module": "@jupyter-widgets/controls",
      "model_module_version": "1.3.0",
      "model_name": "SliderStyleModel",
      "state": {
       "description_width": ""
      }
     },
     "62b3cf4c49ee490e9f45005bd86bb757": {
      "model_module": "@jupyter-widgets/controls",
      "model_module_version": "1.3.0",
      "model_name": "SliderStyleModel",
      "state": {
       "description_width": ""
      }
     },
     "62b5d09634dc42b1904d3df992dbdc27": {
      "model_module": "bqplot",
      "model_module_version": "^0.3.6",
      "model_name": "FigureModel",
      "state": {
       "_dom_classes": [],
       "axes": [
        "IPY_MODEL_24a8928ba07446119e07226c4ef0ee80",
        "IPY_MODEL_55c06b90e46d40e9b2235c64eabc99be"
       ],
       "layout": "IPY_MODEL_b75e290a48354ea58d4b99deb39bc18e",
       "marks": [
        "IPY_MODEL_65c93f57c7ef45dc91a7429318705b55"
       ],
       "max_aspect_ratio": 6,
       "scale_x": "IPY_MODEL_9a7f7fe3fc1f4dc4b6483dcc0ce084b4",
       "scale_y": "IPY_MODEL_179b23a7a173493fa68620e5e2f9b707",
       "title": "Grafico in bqplot"
      }
     },
     "62d7a008da294d848acd7838d1bde98c": {
      "model_module": "@jupyter-widgets/base",
      "model_module_version": "1.1.0",
      "model_name": "LayoutModel",
      "state": {}
     },
     "635a536db1734a2c9c4107eb4a2bdd91": {
      "model_module": "@jupyter-widgets/base",
      "model_module_version": "1.1.0",
      "model_name": "LayoutModel",
      "state": {}
     },
     "63664f37bb27455fb1401f3ec6be7e2d": {
      "model_module": "@jupyter-widgets/controls",
      "model_module_version": "1.3.0",
      "model_name": "IntSliderModel",
      "state": {
       "layout": "IPY_MODEL_1926a62260cf4f26b44cac1a76501ad4",
       "style": "IPY_MODEL_608334ecdd284c8d86fe5bdbcba0d417"
      }
     },
     "637fc0c92e2640efa38988fbf591dbaf": {
      "model_module": "bqplot",
      "model_module_version": "^0.3.6",
      "model_name": "LinearScaleModel",
      "state": {
       "stabilized": false
      }
     },
     "63d9161f281d462ca945580627c8ede1": {
      "model_module": "@jupyter-widgets/controls",
      "model_module_version": "1.3.0",
      "model_name": "SliderStyleModel",
      "state": {
       "description_width": ""
      }
     },
     "63f5fbdf7e9f424e8b8344fa6e2b2e42": {
      "model_module": "bqplot",
      "model_module_version": "^0.3.6",
      "model_name": "LinearScaleModel",
      "state": {
       "allow_padding": false,
       "max": 1,
       "min": 0,
       "stabilized": false
      }
     },
     "6470e798c51741858548dc52f861ffae": {
      "model_module": "@jupyter-widgets/base",
      "model_module_version": "1.1.0",
      "model_name": "LayoutModel",
      "state": {}
     },
     "64a7ef2b97a14d9cbcb4be6922c3acb1": {
      "model_module": "@jupyter-widgets/controls",
      "model_module_version": "1.3.0",
      "model_name": "IntSliderModel",
      "state": {
       "description": "k",
       "layout": "IPY_MODEL_7825d32f1f3c4df190236f988bece748",
       "max": 9,
       "min": -3,
       "style": "IPY_MODEL_9403bcc6e5e84c4399aea329e7559d20",
       "value": 3
      }
     },
     "657547bf94ae4b8daed6ae07cc6d01bc": {
      "model_module": "@jupyter-widgets/base",
      "model_module_version": "1.1.0",
      "model_name": "LayoutModel",
      "state": {}
     },
     "65c93f57c7ef45dc91a7429318705b55": {
      "model_module": "bqplot",
      "model_module_version": "^0.3.6",
      "model_name": "LinesModel",
      "state": {
       "color": {
        "type": null,
        "values": null
       },
       "display_legend": false,
       "fill_colors": [],
       "labels": [
        "C1"
       ],
       "scales": {
        "x": "IPY_MODEL_ceec6b6822bc4849ba0b517753480b88",
        "y": "IPY_MODEL_fcd07129563b4b988d1a24ddc9ec830e"
       },
       "selected": [],
       "x": {
        "type": "float",
        "values": [
         0,
         0.1282282715750936,
         0.2564565431501872,
         0.38468481472528077,
         0.5129130863003744,
         0.6411413578754679,
         0.7693696294505615,
         0.8975979010256552,
         1.0258261726007487,
         1.1540544441758422,
         1.2822827157509358,
         1.4105109873260295,
         1.538739258901123,
         1.6669675304762166,
         1.7951958020513104,
         1.9234240736264039,
         2.0516523452014974,
         2.179880616776591,
         2.3081088883516845,
         2.436337159926778,
         2.5645654315018716,
         2.6927937030769655,
         2.821021974652059,
         2.9492502462271526,
         3.077478517802246,
         3.2057067893773397,
         3.333935060952433,
         3.4621633325275267,
         3.5903916041026207,
         3.7186198756777142,
         3.8468481472528078,
         3.9750764188279013,
         4.103304690402995,
         4.231532961978089,
         4.359761233553182,
         4.487989505128276,
         4.616217776703369,
         4.744446048278463,
         4.872674319853556,
         5.00090259142865,
         5.129130863003743,
         5.257359134578837,
         5.385587406153931,
         5.513815677729024,
         5.642043949304118,
         5.770272220879211,
         5.898500492454305,
         6.026728764029398,
         6.154957035604492,
         6.283185307179586
        ]
       },
       "y": {
        "type": "float",
        "values": [
         1,
         0.9917900138232462,
         0.9672948630390295,
         0.9269167573460217,
         0.8713187041233894,
         0.8014136218679567,
         0.7183493500977276,
         0.6234898018587336,
         0.5183925683105252,
         0.404783343122394,
         0.28452758663103267,
         0.15959989503337932,
         0.03205157757165533,
         -0.09602302590768154,
         -0.22252093395631434,
         -0.3453650544213075,
         -0.4625382902408351,
         -0.5721166601221694,
         -0.6723008902613166,
         -0.7614459583691342,
         -0.8380881048918404,
         -0.900968867902419,
         -0.9490557470106686,
         -0.9815591569910653,
         -0.9979453927503363,
         -0.9979453927503363,
         -0.9815591569910654,
         -0.9490557470106689,
         -0.9009688679024191,
         -0.8380881048918408,
         -0.7614459583691346,
         -0.672300890261317,
         -0.57211666012217,
         -0.4625382902408353,
         -0.34536505442130816,
         -0.2225209339563146,
         -0.09602302590768244,
         0.03205157757165486,
         0.1595998950333784,
         0.284527586631032,
         0.40478334312239295,
         0.5183925683105245,
         0.6234898018587334,
         0.718349350097727,
         0.8014136218679565,
         0.871318704123389,
         0.9269167573460216,
         0.9672948630390291,
         0.991790013823246,
         1
        ]
       }
      }
     },
     "6644348ccecf4e1089ba80a7c39d497f": {
      "model_module": "@jupyter-widgets/controls",
      "model_module_version": "1.3.0",
      "model_name": "SliderStyleModel",
      "state": {
       "description_width": ""
      }
     },
     "664515fe3796469092bbd40cf2e134e8": {
      "model_module": "@jupyter-widgets/controls",
      "model_module_version": "1.3.0",
      "model_name": "IntSliderModel",
      "state": {
       "layout": "IPY_MODEL_74b1ff0880754a56a00e102c66ae56a2",
       "max": 200,
       "style": "IPY_MODEL_06e3b8dbb4c54c52ba8228e03e1afe72"
      }
     },
     "6712c04762dd4947a446211d9a1163ce": {
      "model_module": "@jupyter-widgets/output",
      "model_module_version": "1.0.0",
      "model_name": "OutputModel",
      "state": {
       "layout": "IPY_MODEL_310c0b3b9ac34b9395140262525d8850"
      }
     },
     "672df9dc35b7463ebbcfd65204313fa8": {
      "model_module": "@jupyter-widgets/controls",
      "model_module_version": "1.3.0",
      "model_name": "SliderStyleModel",
      "state": {
       "description_width": ""
      }
     },
     "68129cc410ba45f1b8dd7c8398042de6": {
      "model_module": "@jupyter-widgets/controls",
      "model_module_version": "1.3.0",
      "model_name": "VBoxModel",
      "state": {
       "children": [
        "IPY_MODEL_4899e668571b40d69e15f599b319dcf6",
        "IPY_MODEL_e08e598ea73d4bb0baded1612cda2170"
       ],
       "layout": "IPY_MODEL_f5900d77e81348d28249983332c04bcd"
      }
     },
     "6816b60e97df45799e9cd0535f0a75f1": {
      "model_module": "@jupyter-widgets/base",
      "model_module_version": "1.1.0",
      "model_name": "LayoutModel",
      "state": {}
     },
     "68907cf28274438bb247270fbb5341c0": {
      "model_module": "@jupyter-widgets/base",
      "model_module_version": "1.1.0",
      "model_name": "LayoutModel",
      "state": {}
     },
     "68d0e87554474c18ac85ced3223fe405": {
      "model_module": "@jupyter-widgets/controls",
      "model_module_version": "1.3.0",
      "model_name": "IntSliderModel",
      "state": {
       "layout": "IPY_MODEL_bda26991053349e7b308094b7bf5f289",
       "style": "IPY_MODEL_848a9920faaf43f5be2532ca3273fa69"
      }
     },
     "691047acf1a64860a207c7b5a6546564": {
      "model_module": "@jupyter-widgets/controls",
      "model_module_version": "1.3.0",
      "model_name": "CheckboxModel",
      "state": {
       "description": "k",
       "disabled": false,
       "layout": "IPY_MODEL_ae1720ddc0d141f79bd4cedaa3610f6c",
       "style": "IPY_MODEL_901b11c14eb2459180b4c24eea21bed0",
       "value": true
      }
     },
     "696341d2abba459bb4e2c458dd41f0f5": {
      "model_module": "@jupyter-widgets/controls",
      "model_module_version": "1.3.0",
      "model_name": "SliderStyleModel",
      "state": {
       "description_width": ""
      }
     },
     "6991d4187536457aba804b7a935a9ddb": {
      "model_module": "@jupyter-widgets/controls",
      "model_module_version": "1.3.0",
      "model_name": "VBoxModel",
      "state": {
       "_dom_classes": [
        "widget-interact"
       ],
       "children": [
        "IPY_MODEL_4751cf76895a4388b18bcd913399328f",
        "IPY_MODEL_5b00442c6bcd43f28ca1d0479a81e6f7"
       ],
       "layout": "IPY_MODEL_5949f7199717482cb59255736b952665"
      }
     },
     "699255045742427bb5c852876f6998af": {
      "model_module": "@jupyter-widgets/base",
      "model_module_version": "1.1.0",
      "model_name": "LayoutModel",
      "state": {}
     },
     "69e2f206fdba41b18eb08fd9b5119078": {
      "model_module": "@jupyter-widgets/base",
      "model_module_version": "1.1.0",
      "model_name": "LayoutModel",
      "state": {}
     },
     "6a15ff0e518a4a198be9ff7820cc07e5": {
      "model_module": "@jupyter-widgets/controls",
      "model_module_version": "1.3.0",
      "model_name": "SliderStyleModel",
      "state": {
       "description_width": ""
      }
     },
     "6a73f1e6ba3d497ca69a2baf4e529b0c": {
      "model_module": "@jupyter-widgets/controls",
      "model_module_version": "1.3.0",
      "model_name": "SliderStyleModel",
      "state": {
       "description_width": ""
      }
     },
     "6a7b2ba6dbfe4bbda2b61a5c0f7db9ec": {
      "model_module": "@jupyter-widgets/base",
      "model_module_version": "1.1.0",
      "model_name": "LayoutModel",
      "state": {}
     },
     "6a7d77be0c384b048602a8979654c451": {
      "model_module": "bqplot",
      "model_module_version": "^0.3.6",
      "model_name": "LinearScaleModel",
      "state": {
       "allow_padding": false,
       "max": 1,
       "min": 0,
       "stabilized": false
      }
     },
     "6ac7a5837ea94edfa6cc63315f9fda31": {
      "model_module": "@jupyter-widgets/controls",
      "model_module_version": "1.3.0",
      "model_name": "CheckboxModel",
      "state": {
       "description": "k",
       "disabled": false,
       "layout": "IPY_MODEL_c342661359bb46c18004d372694221c6",
       "style": "IPY_MODEL_b58bbff4825d415ba843c0384d66edd3",
       "value": true
      }
     },
     "6ad872301dc941f39f5d8fd7ac3bfcf6": {
      "model_module": "@jupyter-widgets/base",
      "model_module_version": "1.1.0",
      "model_name": "LayoutModel",
      "state": {}
     },
     "6afeeb364b454f80a77e6ca82eb391e4": {
      "model_module": "@jupyter-widgets/controls",
      "model_module_version": "1.3.0",
      "model_name": "VBoxModel",
      "state": {
       "_dom_classes": [
        "widget-interact"
       ],
       "children": [
        "IPY_MODEL_64a7ef2b97a14d9cbcb4be6922c3acb1",
        "IPY_MODEL_836995fe8d2c480c80f574ecb18b4488"
       ],
       "layout": "IPY_MODEL_2cc2ebd4aa164190b642e59f5b97d117"
      }
     },
     "6b0428eb0daa47658e33b85b9470f32f": {
      "model_module": "@jupyter-widgets/base",
      "model_module_version": "1.1.0",
      "model_name": "LayoutModel",
      "state": {}
     },
     "6b5b90f13cdf43a09838216f43abb7b7": {
      "model_module": "@jupyter-widgets/controls",
      "model_module_version": "1.3.0",
      "model_name": "SliderStyleModel",
      "state": {
       "description_width": ""
      }
     },
     "6b8a5e7f23b043e98370699b72452633": {
      "model_module": "@jupyter-widgets/output",
      "model_module_version": "1.0.0",
      "model_name": "OutputModel",
      "state": {
       "layout": "IPY_MODEL_e769b27ed5224bd5b5f7d080c85b42a2",
       "outputs": [
        {
         "name": "stdout",
         "output_type": "stream",
         "text": "medio\nspuntata\n"
        }
       ]
      }
     },
     "6b95d62e1d3547ac8c5d1a1868f592b1": {
      "model_module": "@jupyter-widgets/base",
      "model_module_version": "1.1.0",
      "model_name": "LayoutModel",
      "state": {}
     },
     "6bbacd2dc77b44e3957acfd0c89ec347": {
      "model_module": "@jupyter-widgets/controls",
      "model_module_version": "1.3.0",
      "model_name": "HBoxModel",
      "state": {
       "children": [
        "IPY_MODEL_6dd6fdb36f80489a94da6702f8a05ce9",
        "IPY_MODEL_bdf86c09dc924e6fb2eb866806bf5b5b"
       ],
       "layout": "IPY_MODEL_719db07ee5074ab4ac44925255f727ea"
      }
     },
     "6bfa71aa6ddf46b1b0b74700839c6121": {
      "model_module": "@jupyter-widgets/base",
      "model_module_version": "1.1.0",
      "model_name": "LayoutModel",
      "state": {}
     },
     "6cd482b02fb04156a2bba3f0a26c3f05": {
      "model_module": "@jupyter-widgets/controls",
      "model_module_version": "1.3.0",
      "model_name": "IntSliderModel",
      "state": {
       "layout": "IPY_MODEL_281ae32d1ab14774a998bf172213702d",
       "style": "IPY_MODEL_3542242eff1f41379eb2d762e8115853"
      }
     },
     "6ce504388dec4675812229e343e84664": {
      "model_module": "bqplot",
      "model_module_version": "^0.3.6",
      "model_name": "LinesModel",
      "state": {
       "color": {
        "type": null,
        "values": null
       },
       "display_legend": false,
       "fill_colors": [],
       "labels": [
        "C1"
       ],
       "scales": {
        "x": "IPY_MODEL_2ef6a507662248919d1114bc010a37c8",
        "y": "IPY_MODEL_36d8097d7a154105bf4b70360f338f7b"
       },
       "selected": [],
       "x": {
        "type": "float",
        "values": [
         0,
         0.1282282715750936,
         0.2564565431501872,
         0.38468481472528077,
         0.5129130863003744,
         0.6411413578754679,
         0.7693696294505615,
         0.8975979010256552,
         1.0258261726007487,
         1.1540544441758422,
         1.2822827157509358,
         1.4105109873260295,
         1.538739258901123,
         1.6669675304762166,
         1.7951958020513104,
         1.9234240736264039,
         2.0516523452014974,
         2.179880616776591,
         2.3081088883516845,
         2.436337159926778,
         2.5645654315018716,
         2.6927937030769655,
         2.821021974652059,
         2.9492502462271526,
         3.077478517802246,
         3.2057067893773397,
         3.333935060952433,
         3.4621633325275267,
         3.5903916041026207,
         3.7186198756777142,
         3.8468481472528078,
         3.9750764188279013,
         4.103304690402995,
         4.231532961978089,
         4.359761233553182,
         4.487989505128276,
         4.616217776703369,
         4.744446048278463,
         4.872674319853556,
         5.00090259142865,
         5.129130863003743,
         5.257359134578837,
         5.385587406153931,
         5.513815677729024,
         5.642043949304118,
         5.770272220879211,
         5.898500492454305,
         6.026728764029398,
         6.154957035604492,
         6.283185307179586
        ]
       },
       "y": {
        "type": "float",
        "values": [
         1,
         0.9917900138232462,
         0.9672948630390295,
         0.9269167573460217,
         0.8713187041233894,
         0.8014136218679567,
         0.7183493500977276,
         0.6234898018587336,
         0.5183925683105252,
         0.404783343122394,
         0.28452758663103267,
         0.15959989503337932,
         0.03205157757165533,
         -0.09602302590768154,
         -0.22252093395631434,
         -0.3453650544213075,
         -0.4625382902408351,
         -0.5721166601221694,
         -0.6723008902613166,
         -0.7614459583691342,
         -0.8380881048918404,
         -0.900968867902419,
         -0.9490557470106686,
         -0.9815591569910653,
         -0.9979453927503363,
         -0.9979453927503363,
         -0.9815591569910654,
         -0.9490557470106689,
         -0.9009688679024191,
         -0.8380881048918408,
         -0.7614459583691346,
         -0.672300890261317,
         -0.57211666012217,
         -0.4625382902408353,
         -0.34536505442130816,
         -0.2225209339563146,
         -0.09602302590768244,
         0.03205157757165486,
         0.1595998950333784,
         0.284527586631032,
         0.40478334312239295,
         0.5183925683105245,
         0.6234898018587334,
         0.718349350097727,
         0.8014136218679565,
         0.871318704123389,
         0.9269167573460216,
         0.9672948630390291,
         0.991790013823246,
         1
        ]
       }
      }
     },
     "6d0838a8540c4e4dbfce9442248243aa": {
      "model_module": "@jupyter-widgets/base",
      "model_module_version": "1.1.0",
      "model_name": "LayoutModel",
      "state": {
       "min_width": "125px"
      }
     },
     "6d4b80faaa7f472689a5257f1a949401": {
      "model_module": "bqplot",
      "model_module_version": "^0.3.6",
      "model_name": "LinesModel",
      "state": {
       "color": {
        "type": null,
        "values": null
       },
       "display_legend": false,
       "fill_colors": [],
       "labels": [
        "C1"
       ],
       "scales": {
        "x": "IPY_MODEL_3e8db86ebfc64419ba4949a6c33c7740",
        "y": "IPY_MODEL_a331cf6f132c4b879325e4394cdc5345"
       },
       "selected": [],
       "x": {
        "type": "float",
        "values": [
         0,
         0.1282282715750936,
         0.2564565431501872,
         0.38468481472528077,
         0.5129130863003744,
         0.6411413578754679,
         0.7693696294505615,
         0.8975979010256552,
         1.0258261726007487,
         1.1540544441758422,
         1.2822827157509358,
         1.4105109873260295,
         1.538739258901123,
         1.6669675304762166,
         1.7951958020513104,
         1.9234240736264039,
         2.0516523452014974,
         2.179880616776591,
         2.3081088883516845,
         2.436337159926778,
         2.5645654315018716,
         2.6927937030769655,
         2.821021974652059,
         2.9492502462271526,
         3.077478517802246,
         3.2057067893773397,
         3.333935060952433,
         3.4621633325275267,
         3.5903916041026207,
         3.7186198756777142,
         3.8468481472528078,
         3.9750764188279013,
         4.103304690402995,
         4.231532961978089,
         4.359761233553182,
         4.487989505128276,
         4.616217776703369,
         4.744446048278463,
         4.872674319853556,
         5.00090259142865,
         5.129130863003743,
         5.257359134578837,
         5.385587406153931,
         5.513815677729024,
         5.642043949304118,
         5.770272220879211,
         5.898500492454305,
         6.026728764029398,
         6.154957035604492,
         6.283185307179586
        ]
       },
       "y": {
        "type": "float",
        "values": [
         1,
         0.9917900138232462,
         0.9672948630390295,
         0.9269167573460217,
         0.8713187041233894,
         0.8014136218679567,
         0.7183493500977276,
         0.6234898018587336,
         0.5183925683105252,
         0.404783343122394,
         0.28452758663103267,
         0.15959989503337932,
         0.03205157757165533,
         -0.09602302590768154,
         -0.22252093395631434,
         -0.3453650544213075,
         -0.4625382902408351,
         -0.5721166601221694,
         -0.6723008902613166,
         -0.7614459583691342,
         -0.8380881048918404,
         -0.900968867902419,
         -0.9490557470106686,
         -0.9815591569910653,
         -0.9979453927503363,
         -0.9979453927503363,
         -0.9815591569910654,
         -0.9490557470106689,
         -0.9009688679024191,
         -0.8380881048918408,
         -0.7614459583691346,
         -0.672300890261317,
         -0.57211666012217,
         -0.4625382902408353,
         -0.34536505442130816,
         -0.2225209339563146,
         -0.09602302590768244,
         0.03205157757165486,
         0.1595998950333784,
         0.284527586631032,
         0.40478334312239295,
         0.5183925683105245,
         0.6234898018587334,
         0.718349350097727,
         0.8014136218679565,
         0.871318704123389,
         0.9269167573460216,
         0.9672948630390291,
         0.991790013823246,
         1
        ]
       }
      }
     },
     "6dd6fdb36f80489a94da6702f8a05ce9": {
      "model_module": "@jupyter-widgets/controls",
      "model_module_version": "1.3.0",
      "model_name": "VBoxModel",
      "state": {
       "children": [
        "IPY_MODEL_db344dd2ff1842c5a8d1d02307fff007",
        "IPY_MODEL_297d2fad2dd245a3b6adf7197c62663a"
       ],
       "layout": "IPY_MODEL_dccafd8a9eae4834a8296e90073b988a"
      }
     },
     "6e475e694fe647eb9ad69741ec11f850": {
      "model_module": "@jupyter-widgets/controls",
      "model_module_version": "1.3.0",
      "model_name": "SliderStyleModel",
      "state": {
       "description_width": ""
      }
     },
     "6e9a0f4914ab4c3995bf06bcbe38e993": {
      "model_module": "@jupyter-widgets/controls",
      "model_module_version": "1.3.0",
      "model_name": "ButtonStyleModel",
      "state": {}
     },
     "6f96252b6146498d99e5c8cdf28f92d4": {
      "model_module": "@jupyter-widgets/base",
      "model_module_version": "1.1.0",
      "model_name": "LayoutModel",
      "state": {}
     },
     "70156597fe5b4523806a4d3a2d97c949": {
      "model_module": "bqplot",
      "model_module_version": "^0.3.6",
      "model_name": "FigureModel",
      "state": {
       "_dom_classes": [],
       "axes": [
        "IPY_MODEL_ba65af7384bb4a26a1ac462ff8379e84",
        "IPY_MODEL_25f16bb0d1974ca28ec1ec437de93338"
       ],
       "layout": "IPY_MODEL_c44149e3621741e98ace7619d21a9490",
       "marks": [
        "IPY_MODEL_89979cbf085544eb9f9ea93641817b61"
       ],
       "max_aspect_ratio": 6,
       "scale_x": "IPY_MODEL_a25eb801cd0749d3adc76410c67624a5",
       "scale_y": "IPY_MODEL_b9d4b947a24842309f4796c5fdd5cf0f",
       "title": "Grafico in bqplot"
      }
     },
     "709b48c3f1274d09bfd45f60db571cec": {
      "model_module": "@jupyter-widgets/base",
      "model_module_version": "1.1.0",
      "model_name": "LayoutModel",
      "state": {}
     },
     "70fc5dd4dba14662b16efbf883e5ca54": {
      "model_module": "@jupyter-widgets/controls",
      "model_module_version": "1.3.0",
      "model_name": "SliderStyleModel",
      "state": {
       "description_width": ""
      }
     },
     "7156fbbd623c466cb4df95f6738dbe73": {
      "model_module": "@jupyter-widgets/controls",
      "model_module_version": "1.3.0",
      "model_name": "IntSliderModel",
      "state": {
       "description": "k",
       "layout": "IPY_MODEL_ded153989c8a4daf910bb3b553a9bfd8",
       "max": 30,
       "min": -10,
       "style": "IPY_MODEL_be33c9a401624e03b8b00040be56fefc",
       "value": 10
      }
     },
     "7194662bd9b848c5b62a1f73abfd5004": {
      "model_module": "@jupyter-widgets/base",
      "model_module_version": "1.1.0",
      "model_name": "LayoutModel",
      "state": {}
     },
     "719db07ee5074ab4ac44925255f727ea": {
      "model_module": "@jupyter-widgets/base",
      "model_module_version": "1.1.0",
      "model_name": "LayoutModel",
      "state": {}
     },
     "723cd8bab4b64a4e9f295943cf75a43c": {
      "model_module": "bqplot",
      "model_module_version": "^0.3.6",
      "model_name": "LinearScaleModel",
      "state": {
       "allow_padding": false,
       "max": 1,
       "min": 0,
       "stabilized": false
      }
     },
     "7245ed5b7391434bb0568956c6e15aca": {
      "model_module": "@jupyter-widgets/base",
      "model_module_version": "1.1.0",
      "model_name": "LayoutModel",
      "state": {
       "min_width": "125px"
      }
     },
     "7261293c97054eb8af09d527f4859f46": {
      "model_module": "@jupyter-widgets/controls",
      "model_module_version": "1.3.0",
      "model_name": "SliderStyleModel",
      "state": {
       "description_width": ""
      }
     },
     "737aa0b365f44682b617f03984c46a91": {
      "model_module": "bqplot",
      "model_module_version": "^0.3.6",
      "model_name": "FigureModel",
      "state": {
       "_dom_classes": [],
       "axes": [
        "IPY_MODEL_3eea2a7989864fff8c1555ecaead924f",
        "IPY_MODEL_f8bf6bd40e054e0b995774d77d0d716f"
       ],
       "layout": "IPY_MODEL_60c4ee213a554f1cbba92c2d8fb8d578",
       "marks": [
        "IPY_MODEL_ad4a0897bf2f4601afc57cf55f6b8cc4"
       ],
       "max_aspect_ratio": 6,
       "scale_x": "IPY_MODEL_ec322f9c2c8a4ee0bf34705a7f1aa933",
       "scale_y": "IPY_MODEL_2addcdc86acb466c91b78122d2600e25",
       "title": "Grafico in bqplot"
      }
     },
     "73aa43fdfdcc4ad89fb27646a1425f4d": {
      "model_module": "@jupyter-widgets/base",
      "model_module_version": "1.1.0",
      "model_name": "LayoutModel",
      "state": {}
     },
     "73bf0aac7f9c4f06b0a60d43e74926eb": {
      "model_module": "@jupyter-widgets/controls",
      "model_module_version": "1.3.0",
      "model_name": "ButtonStyleModel",
      "state": {}
     },
     "74b1ff0880754a56a00e102c66ae56a2": {
      "model_module": "@jupyter-widgets/base",
      "model_module_version": "1.1.0",
      "model_name": "LayoutModel",
      "state": {}
     },
     "75039db8ff44492eacca67ba3efdb632": {
      "model_module": "@jupyter-widgets/base",
      "model_module_version": "1.1.0",
      "model_name": "LayoutModel",
      "state": {}
     },
     "75a317e8a4354d3089ba02a6b7759c8b": {
      "model_module": "@jupyter-widgets/base",
      "model_module_version": "1.1.0",
      "model_name": "LayoutModel",
      "state": {}
     },
     "75b8bd5cae114cb4a4e10f67cbabd5ae": {
      "model_module": "bqplot",
      "model_module_version": "^0.3.6",
      "model_name": "LinearScaleModel",
      "state": {
       "allow_padding": false,
       "max": 1,
       "min": 0,
       "stabilized": false
      }
     },
     "75e3bcad3d6b4efd8b5032169dfab1b1": {
      "model_module": "@jupyter-widgets/controls",
      "model_module_version": "1.3.0",
      "model_name": "SliderStyleModel",
      "state": {
       "description_width": ""
      }
     },
     "75e3fa72515e4615bdc5336e3dc8546e": {
      "model_module": "@jupyter-widgets/controls",
      "model_module_version": "1.3.0",
      "model_name": "IntSliderModel",
      "state": {
       "description": "i",
       "layout": "IPY_MODEL_c0bd131e42744f1295ce78560aa829c4",
       "max": 9,
       "min": -3,
       "style": "IPY_MODEL_44448ec024f8449f8b24996bf9b5da5d",
       "value": 3
      }
     },
     "764298f69af94c7ab276a413749c0f21": {
      "model_module": "bqplot",
      "model_module_version": "^0.3.6",
      "model_name": "AxisModel",
      "state": {
       "scale": "IPY_MODEL_4e1324a452014c0cbed9093883a7b24a",
       "side": "bottom",
       "tick_values": {
        "type": null,
        "values": null
       }
      }
     },
     "767e1053a8084a3b90a9537606540e58": {
      "model_module": "@jupyter-widgets/controls",
      "model_module_version": "1.3.0",
      "model_name": "CheckboxModel",
      "state": {
       "description": "k",
       "disabled": false,
       "layout": "IPY_MODEL_c2a7f040fb6947b7bdc086ca6311ca23",
       "style": "IPY_MODEL_051b18f1a0a44279a23022b4b1ded70f",
       "value": true
      }
     },
     "76c662273e4d445f930ddc23e7013df2": {
      "model_module": "@jupyter-widgets/controls",
      "model_module_version": "1.3.0",
      "model_name": "DescriptionStyleModel",
      "state": {
       "description_width": ""
      }
     },
     "76d8911aa26d420aa11f012fe0dc75ad": {
      "model_module": "bqplot",
      "model_module_version": "^0.3.6",
      "model_name": "LinearScaleModel",
      "state": {
       "allow_padding": false,
       "max": 1,
       "min": 0,
       "stabilized": false
      }
     },
     "76e89b4f97684c4d85d284e2f4b83391": {
      "model_module": "@jupyter-widgets/controls",
      "model_module_version": "1.3.0",
      "model_name": "IntTextModel",
      "state": {
       "continuous_update": true,
       "description": "testo con",
       "layout": "IPY_MODEL_f07a1ab07d1e4f0d894643dbb746086a",
       "step": 1,
       "style": "IPY_MODEL_e9f5bd8e46574dd3962507b39170a041"
      }
     },
     "77125668146d41a3983d147e3d9ff9d1": {
      "model_module": "@jupyter-widgets/controls",
      "model_module_version": "1.3.0",
      "model_name": "DescriptionStyleModel",
      "state": {
       "description_width": ""
      }
     },
     "7825d32f1f3c4df190236f988bece748": {
      "model_module": "@jupyter-widgets/base",
      "model_module_version": "1.1.0",
      "model_name": "LayoutModel",
      "state": {}
     },
     "78b3abcfdf1d478f85d5904930a90c72": {
      "model_module": "@jupyter-widgets/controls",
      "model_module_version": "1.3.0",
      "model_name": "FloatSliderModel",
      "state": {
       "layout": "IPY_MODEL_f028aa3058364644a9e253d225f52696",
       "step": 0.1,
       "style": "IPY_MODEL_485aabeae77f47e3ba02db950bfa13f6"
      }
     },
     "790bb467122c406aaeb2e3aa950a3526": {
      "model_module": "@jupyter-widgets/base",
      "model_module_version": "1.1.0",
      "model_name": "LayoutModel",
      "state": {}
     },
     "798b5f7aeb2f489da7ce8098af3f9394": {
      "model_module": "@jupyter-widgets/controls",
      "model_module_version": "1.3.0",
      "model_name": "VBoxModel",
      "state": {
       "_dom_classes": [
        "widget-interact"
       ],
       "children": [
        "IPY_MODEL_0a30e67aa4704fe1aef2cc64b5aa9cb0",
        "IPY_MODEL_abec90e793e4471f90b20b272b9adb04"
       ],
       "layout": "IPY_MODEL_8b52728c91644771bd9b51646a17c614"
      }
     },
     "7aaad6bd74a240e5b2e61d5866857ef2": {
      "model_module": "@jupyter-widgets/controls",
      "model_module_version": "1.3.0",
      "model_name": "VBoxModel",
      "state": {
       "_dom_classes": [
        "widget-interact"
       ],
       "children": [
        "IPY_MODEL_e14db6f0ebd44ef1a5708a0ce013a157",
        "IPY_MODEL_148acdad2a144b7894e8539b29f1b35e"
       ],
       "layout": "IPY_MODEL_a989e5ab16b0446d9a357f82c4e26360"
      }
     },
     "7adb0a1a559c4d7ba6a704dfbc063404": {
      "model_module": "@jupyter-widgets/base",
      "model_module_version": "1.1.0",
      "model_name": "LayoutModel",
      "state": {
       "min_width": "125px"
      }
     },
     "7ae7b0e5a0e94c819d93ca566cd0c541": {
      "model_module": "@jupyter-widgets/controls",
      "model_module_version": "1.3.0",
      "model_name": "FloatSliderModel",
      "state": {
       "description": "k",
       "layout": "IPY_MODEL_62d7a008da294d848acd7838d1bde98c",
       "max": 3,
       "min": -1,
       "step": 0.1,
       "style": "IPY_MODEL_63d9161f281d462ca945580627c8ede1",
       "value": 1
      }
     },
     "7b5363390bf3403582cb10f9fef0c7e1": {
      "model_module": "bqplot",
      "model_module_version": "^0.3.6",
      "model_name": "LinearScaleModel",
      "state": {
       "stabilized": false
      }
     },
     "7b6065dcd00f4059aaa33a59611e89ee": {
      "model_module": "@jupyter-widgets/base",
      "model_module_version": "1.1.0",
      "model_name": "LayoutModel",
      "state": {}
     },
     "7c8df30cd45841e5a1e231969c513c6e": {
      "model_module": "bqplot",
      "model_module_version": "^0.3.6",
      "model_name": "LinearScaleModel",
      "state": {
       "stabilized": false
      }
     },
     "7c95ef1481454d0dab6df6e573e2741b": {
      "model_module": "@jupyter-widgets/controls",
      "model_module_version": "1.3.0",
      "model_name": "SliderStyleModel",
      "state": {
       "description_width": ""
      }
     },
     "7d15273c8b064f53a373b9ce2ca953fa": {
      "model_module": "@jupyter-widgets/controls",
      "model_module_version": "1.3.0",
      "model_name": "IntSliderModel",
      "state": {
       "layout": "IPY_MODEL_b03139f399f04fc095f56eb2a0f9d41a",
       "style": "IPY_MODEL_fc7de4727e444a76991092a5cec26641"
      }
     },
     "7daffe162dd242b28303af794870a83a": {
      "model_module": "@jupyter-widgets/controls",
      "model_module_version": "1.3.0",
      "model_name": "IntSliderModel",
      "state": {
       "description": "k",
       "layout": "IPY_MODEL_5f128b4dba334c0791e211085762b821",
       "max": 30,
       "min": -10,
       "style": "IPY_MODEL_6a15ff0e518a4a198be9ff7820cc07e5",
       "value": 10
      }
     },
     "7db12fa33c334d02900863e401d9d7b3": {
      "model_module": "@jupyter-widgets/base",
      "model_module_version": "1.1.0",
      "model_name": "LayoutModel",
      "state": {}
     },
     "7dc02fd6102240e190f693695dabec05": {
      "model_module": "@jupyter-widgets/controls",
      "model_module_version": "1.3.0",
      "model_name": "IntSliderModel",
      "state": {
       "layout": "IPY_MODEL_395ca4cfcfff40d79ff2e4eb705ba1fd",
       "style": "IPY_MODEL_a127d0dae66c418f837726ad1a8c7eb5"
      }
     },
     "7df31885fa0042e18f71b210ea2f8945": {
      "model_module": "@jupyter-widgets/controls",
      "model_module_version": "1.3.0",
      "model_name": "VBoxModel",
      "state": {
       "_dom_classes": [
        "widget-interact"
       ],
       "children": [
        "IPY_MODEL_75e3fa72515e4615bdc5336e3dc8546e",
        "IPY_MODEL_767e1053a8084a3b90a9537606540e58",
        "IPY_MODEL_6b8a5e7f23b043e98370699b72452633"
       ],
       "layout": "IPY_MODEL_d643c89a9a244ab8afeac0d33a7ded4e"
      }
     },
     "7e3b30f77db3494bb513b91a67788675": {
      "model_module": "@jupyter-widgets/controls",
      "model_module_version": "1.3.0",
      "model_name": "IntSliderModel",
      "state": {
       "description": "k",
       "layout": "IPY_MODEL_03e101db30e04084a6efceb2fba48cb4",
       "max": 9,
       "min": -3,
       "style": "IPY_MODEL_9bf99575896f4ed3a6bef54292f683b6",
       "value": 3
      }
     },
     "7eeada915a2441a2bacd81ac7a4b4a39": {
      "model_module": "bqplot",
      "model_module_version": "^0.3.6",
      "model_name": "LinearScaleModel",
      "state": {
       "allow_padding": false,
       "max": 1,
       "min": 0,
       "stabilized": false
      }
     },
     "7f3099017ce646f59f5c202c7ae499ec": {
      "model_module": "bqplot",
      "model_module_version": "^0.3.6",
      "model_name": "AxisModel",
      "state": {
       "scale": "IPY_MODEL_d7f3a5c4b1064751acfadd5203c73b49",
       "side": "bottom",
       "tick_values": {
        "type": null,
        "values": null
       }
      }
     },
     "804a0d2315ae454eb39c92307c8c97a8": {
      "model_module": "bqplot",
      "model_module_version": "^0.3.6",
      "model_name": "LinesModel",
      "state": {
       "color": {
        "type": null,
        "values": null
       },
       "display_legend": false,
       "fill_colors": [],
       "labels": [
        "C1"
       ],
       "scales": {
        "x": "IPY_MODEL_0f5b83696e204ff891abc80329286363",
        "y": "IPY_MODEL_307f4512320b4e60bb71f94777f7af51"
       },
       "selected": [],
       "x": {
        "type": "float",
        "values": [
         0,
         0.1282282715750936,
         0.2564565431501872,
         0.38468481472528077,
         0.5129130863003744,
         0.6411413578754679,
         0.7693696294505615,
         0.8975979010256552,
         1.0258261726007487,
         1.1540544441758422,
         1.2822827157509358,
         1.4105109873260295,
         1.538739258901123,
         1.6669675304762166,
         1.7951958020513104,
         1.9234240736264039,
         2.0516523452014974,
         2.179880616776591,
         2.3081088883516845,
         2.436337159926778,
         2.5645654315018716,
         2.6927937030769655,
         2.821021974652059,
         2.9492502462271526,
         3.077478517802246,
         3.2057067893773397,
         3.333935060952433,
         3.4621633325275267,
         3.5903916041026207,
         3.7186198756777142,
         3.8468481472528078,
         3.9750764188279013,
         4.103304690402995,
         4.231532961978089,
         4.359761233553182,
         4.487989505128276,
         4.616217776703369,
         4.744446048278463,
         4.872674319853556,
         5.00090259142865,
         5.129130863003743,
         5.257359134578837,
         5.385587406153931,
         5.513815677729024,
         5.642043949304118,
         5.770272220879211,
         5.898500492454305,
         6.026728764029398,
         6.154957035604492,
         6.283185307179586
        ]
       },
       "y": {
        "type": "float",
        "values": [
         1,
         0.9917900138232462,
         0.9672948630390295,
         0.9269167573460217,
         0.8713187041233894,
         0.8014136218679567,
         0.7183493500977276,
         0.6234898018587336,
         0.5183925683105252,
         0.404783343122394,
         0.28452758663103267,
         0.15959989503337932,
         0.03205157757165533,
         -0.09602302590768154,
         -0.22252093395631434,
         -0.3453650544213075,
         -0.4625382902408351,
         -0.5721166601221694,
         -0.6723008902613166,
         -0.7614459583691342,
         -0.8380881048918404,
         -0.900968867902419,
         -0.9490557470106686,
         -0.9815591569910653,
         -0.9979453927503363,
         -0.9979453927503363,
         -0.9815591569910654,
         -0.9490557470106689,
         -0.9009688679024191,
         -0.8380881048918408,
         -0.7614459583691346,
         -0.672300890261317,
         -0.57211666012217,
         -0.4625382902408353,
         -0.34536505442130816,
         -0.2225209339563146,
         -0.09602302590768244,
         0.03205157757165486,
         0.1595998950333784,
         0.284527586631032,
         0.40478334312239295,
         0.5183925683105245,
         0.6234898018587334,
         0.718349350097727,
         0.8014136218679565,
         0.871318704123389,
         0.9269167573460216,
         0.9672948630390291,
         0.991790013823246,
         1
        ]
       }
      }
     },
     "806362f10a294814af9bc57afbdc409b": {
      "model_module": "@jupyter-widgets/controls",
      "model_module_version": "1.3.0",
      "model_name": "FloatSliderModel",
      "state": {
       "description": "k",
       "layout": "IPY_MODEL_6470e798c51741858548dc52f861ffae",
       "max": 3,
       "min": -1,
       "step": 0.1,
       "style": "IPY_MODEL_e0b4654ad8c34ffe8d341fb1d232c2ac",
       "value": 1
      }
     },
     "81487d24bdad46e08cb11321a554970e": {
      "model_module": "@jupyter-widgets/base",
      "model_module_version": "1.1.0",
      "model_name": "LayoutModel",
      "state": {}
     },
     "815a812375a84ac2abee11b672cb5bd0": {
      "model_module": "@jupyter-widgets/base",
      "model_module_version": "1.1.0",
      "model_name": "LayoutModel",
      "state": {}
     },
     "81a5fe21b7d7467a9f77312200789e14": {
      "model_module": "@jupyter-widgets/base",
      "model_module_version": "1.1.0",
      "model_name": "LayoutModel",
      "state": {}
     },
     "81acb8cfd3c3430a82b3c6dbc4277c03": {
      "model_module": "@jupyter-widgets/base",
      "model_module_version": "1.1.0",
      "model_name": "LayoutModel",
      "state": {}
     },
     "8242114d87674e029a9429e172884ea7": {
      "model_module": "@jupyter-widgets/controls",
      "model_module_version": "1.3.0",
      "model_name": "VBoxModel",
      "state": {
       "_dom_classes": [
        "widget-interact"
       ],
       "children": [
        "IPY_MODEL_7daffe162dd242b28303af794870a83a",
        "IPY_MODEL_3090e114be2d4a5cb0808cf53119c963"
       ],
       "layout": "IPY_MODEL_68907cf28274438bb247270fbb5341c0"
      }
     },
     "8279ce46963949ed8d462623d0553b78": {
      "model_module": "@jupyter-widgets/controls",
      "model_module_version": "1.3.0",
      "model_name": "IntSliderModel",
      "state": {
       "layout": "IPY_MODEL_b2e342043c944f829f76d1e8f8dc9b85",
       "style": "IPY_MODEL_95ece52a5668455bb4f178d1c02bd60f"
      }
     },
     "82ccf93a229b4318aa58d42cb969d610": {
      "model_module": "bqplot",
      "model_module_version": "^0.3.6",
      "model_name": "FigureModel",
      "state": {
       "_dom_classes": [],
       "axes": [
        "IPY_MODEL_195f65afef2f4d0a84529edb23b64cbb",
        "IPY_MODEL_7f3099017ce646f59f5c202c7ae499ec"
       ],
       "layout": "IPY_MODEL_ac8de754d1964e9b87f7cf6612fda805",
       "marks": [
        "IPY_MODEL_1609579cdaba45a6b7c8352da1f3ba9e"
       ],
       "max_aspect_ratio": 6,
       "scale_x": "IPY_MODEL_7eeada915a2441a2bacd81ac7a4b4a39",
       "scale_y": "IPY_MODEL_e892ba8a4b5744918094f454e576074e",
       "title": "Grafico in bqplot"
      }
     },
     "82e0059a5fb144d282bd03e139a7f38d": {
      "model_module": "@jupyter-widgets/base",
      "model_module_version": "1.1.0",
      "model_name": "LayoutModel",
      "state": {}
     },
     "8300192f79f84327a79cf9c3573f13c9": {
      "model_module": "@jupyter-widgets/controls",
      "model_module_version": "1.3.0",
      "model_name": "VBoxModel",
      "state": {
       "children": [
        "IPY_MODEL_b02fc478e9cb4122b7eabb41b79d0667",
        "IPY_MODEL_a9e2939cc38b4eb28cff81284b51d707"
       ],
       "layout": "IPY_MODEL_156ffc63e05b43879a5766c162ef294f"
      }
     },
     "832ed41eba1a4128bdd8bb60ebe4b670": {
      "model_module": "bqplot",
      "model_module_version": "^0.3.6",
      "model_name": "FigureModel",
      "state": {
       "_dom_classes": [],
       "axes": [
        "IPY_MODEL_236c4d0d14d34bc08f55bb76ede09346",
        "IPY_MODEL_8795259b3a434900a9a511a2ac0a83d4"
       ],
       "layout": "IPY_MODEL_c8fa4535bd9641019d0527b2e874f694",
       "marks": [
        "IPY_MODEL_16a30fe406c049678c30e5abcf5802ea"
       ],
       "max_aspect_ratio": 6,
       "scale_x": "IPY_MODEL_346a2a33af99415d997a7a9b415c5955",
       "scale_y": "IPY_MODEL_76d8911aa26d420aa11f012fe0dc75ad",
       "title": "Grafico in bqplot"
      }
     },
     "836995fe8d2c480c80f574ecb18b4488": {
      "model_module": "@jupyter-widgets/output",
      "model_module_version": "1.0.0",
      "model_name": "OutputModel",
      "state": {
       "layout": "IPY_MODEL_db00140ba1b440ecbb3e1612ff5e7aeb",
       "outputs": [
        {
         "name": "stdout",
         "output_type": "stream",
         "text": "il doppio è 6\n"
        }
       ]
      }
     },
     "848a9920faaf43f5be2532ca3273fa69": {
      "model_module": "@jupyter-widgets/controls",
      "model_module_version": "1.3.0",
      "model_name": "SliderStyleModel",
      "state": {
       "description_width": ""
      }
     },
     "854fa55bd2f74fcbac9133a38f65376f": {
      "model_module": "@jupyter-widgets/controls",
      "model_module_version": "1.3.0",
      "model_name": "IntSliderModel",
      "state": {
       "description": "k",
       "layout": "IPY_MODEL_56303114be4240d3a0482eb0c51c2e2f",
       "max": 9,
       "min": -3,
       "style": "IPY_MODEL_94245e49437449e5804c9e68256f5a26",
       "value": 3
      }
     },
     "8558863e79984de2a082df18af3db3f7": {
      "model_module": "@jupyter-widgets/base",
      "model_module_version": "1.1.0",
      "model_name": "LayoutModel",
      "state": {}
     },
     "867d2fdcae1c4647a780ab85746a946a": {
      "model_module": "bqplot",
      "model_module_version": "^0.3.6",
      "model_name": "LinesModel",
      "state": {
       "color": {
        "type": null,
        "values": null
       },
       "display_legend": false,
       "fill_colors": [],
       "labels": [
        "C1"
       ],
       "scales": {
        "x": "IPY_MODEL_0411d3a584dc45dd90936807c8ac6b17",
        "y": "IPY_MODEL_551793ca696f4a6181f924757dd0390b"
       },
       "selected": [],
       "x": {
        "type": "float",
        "values": [
         0,
         0.1282282715750936,
         0.2564565431501872,
         0.38468481472528077,
         0.5129130863003744,
         0.6411413578754679,
         0.7693696294505615,
         0.8975979010256552,
         1.0258261726007487,
         1.1540544441758422,
         1.2822827157509358,
         1.4105109873260295,
         1.538739258901123,
         1.6669675304762166,
         1.7951958020513104,
         1.9234240736264039,
         2.0516523452014974,
         2.179880616776591,
         2.3081088883516845,
         2.436337159926778,
         2.5645654315018716,
         2.6927937030769655,
         2.821021974652059,
         2.9492502462271526,
         3.077478517802246,
         3.2057067893773397,
         3.333935060952433,
         3.4621633325275267,
         3.5903916041026207,
         3.7186198756777142,
         3.8468481472528078,
         3.9750764188279013,
         4.103304690402995,
         4.231532961978089,
         4.359761233553182,
         4.487989505128276,
         4.616217776703369,
         4.744446048278463,
         4.872674319853556,
         5.00090259142865,
         5.129130863003743,
         5.257359134578837,
         5.385587406153931,
         5.513815677729024,
         5.642043949304118,
         5.770272220879211,
         5.898500492454305,
         6.026728764029398,
         6.154957035604492,
         6.283185307179586
        ]
       },
       "y": {
        "type": "float",
        "values": [
         1,
         0.9917900138232462,
         0.9672948630390295,
         0.9269167573460217,
         0.8713187041233894,
         0.8014136218679567,
         0.7183493500977276,
         0.6234898018587336,
         0.5183925683105252,
         0.404783343122394,
         0.28452758663103267,
         0.15959989503337932,
         0.03205157757165533,
         -0.09602302590768154,
         -0.22252093395631434,
         -0.3453650544213075,
         -0.4625382902408351,
         -0.5721166601221694,
         -0.6723008902613166,
         -0.7614459583691342,
         -0.8380881048918404,
         -0.900968867902419,
         -0.9490557470106686,
         -0.9815591569910653,
         -0.9979453927503363,
         -0.9979453927503363,
         -0.9815591569910654,
         -0.9490557470106689,
         -0.9009688679024191,
         -0.8380881048918408,
         -0.7614459583691346,
         -0.672300890261317,
         -0.57211666012217,
         -0.4625382902408353,
         -0.34536505442130816,
         -0.2225209339563146,
         -0.09602302590768244,
         0.03205157757165486,
         0.1595998950333784,
         0.284527586631032,
         0.40478334312239295,
         0.5183925683105245,
         0.6234898018587334,
         0.718349350097727,
         0.8014136218679565,
         0.871318704123389,
         0.9269167573460216,
         0.9672948630390291,
         0.991790013823246,
         1
        ]
       }
      }
     },
     "8708072f1ef642f9858769d60f0339da": {
      "model_module": "@jupyter-widgets/base",
      "model_module_version": "1.1.0",
      "model_name": "LayoutModel",
      "state": {}
     },
     "8795259b3a434900a9a511a2ac0a83d4": {
      "model_module": "bqplot",
      "model_module_version": "^0.3.6",
      "model_name": "AxisModel",
      "state": {
       "scale": "IPY_MODEL_f35c0d3520894862a8a60c546ad13b74",
       "side": "bottom",
       "tick_values": {
        "type": null,
        "values": null
       }
      }
     },
     "87c33fcd1d3b4e50a25a1bfc2522589e": {
      "model_module": "@jupyter-widgets/controls",
      "model_module_version": "1.3.0",
      "model_name": "SliderStyleModel",
      "state": {
       "description_width": ""
      }
     },
     "87c39bc2a3984032bd189cc5a1fce1e2": {
      "model_module": "@jupyter-widgets/controls",
      "model_module_version": "1.3.0",
      "model_name": "IntSliderModel",
      "state": {
       "layout": "IPY_MODEL_f911ddd4012f4a56a8c3fac17b5e75e9",
       "style": "IPY_MODEL_b93a3015b1a245fa9c2a70fa4f5465e6"
      }
     },
     "880aa7c0e0334efd96811b79b7bb6b2c": {
      "model_module": "bqplot",
      "model_module_version": "^0.3.6",
      "model_name": "AxisModel",
      "state": {
       "orientation": "vertical",
       "scale": "IPY_MODEL_637fc0c92e2640efa38988fbf591dbaf",
       "side": "left",
       "tick_values": {
        "type": null,
        "values": null
       }
      }
     },
     "88513c25c66d47649b5bdf485c3e365d": {
      "model_module": "@jupyter-widgets/controls",
      "model_module_version": "1.3.0",
      "model_name": "SliderStyleModel",
      "state": {
       "description_width": ""
      }
     },
     "88f553e4ddcd4e83a60ae8c38b0f5c62": {
      "model_module": "bqplot",
      "model_module_version": "^0.3.6",
      "model_name": "LinearScaleModel",
      "state": {
       "allow_padding": false,
       "max": 1,
       "min": 0,
       "stabilized": false
      }
     },
     "89979cbf085544eb9f9ea93641817b61": {
      "model_module": "bqplot",
      "model_module_version": "^0.3.6",
      "model_name": "LinesModel",
      "state": {
       "color": {
        "type": null,
        "values": null
       },
       "display_legend": false,
       "fill_colors": [],
       "labels": [
        "C1"
       ],
       "scales": {
        "x": "IPY_MODEL_cb8d9a15f75147ae8884d9ff170f691c",
        "y": "IPY_MODEL_4e3aa2b1df544e259ba224d45a3a95b2"
       },
       "selected": [],
       "x": {
        "type": "float",
        "values": [
         0,
         0.1282282715750936,
         0.2564565431501872,
         0.38468481472528077,
         0.5129130863003744,
         0.6411413578754679,
         0.7693696294505615,
         0.8975979010256552,
         1.0258261726007487,
         1.1540544441758422,
         1.2822827157509358,
         1.4105109873260295,
         1.538739258901123,
         1.6669675304762166,
         1.7951958020513104,
         1.9234240736264039,
         2.0516523452014974,
         2.179880616776591,
         2.3081088883516845,
         2.436337159926778,
         2.5645654315018716,
         2.6927937030769655,
         2.821021974652059,
         2.9492502462271526,
         3.077478517802246,
         3.2057067893773397,
         3.333935060952433,
         3.4621633325275267,
         3.5903916041026207,
         3.7186198756777142,
         3.8468481472528078,
         3.9750764188279013,
         4.103304690402995,
         4.231532961978089,
         4.359761233553182,
         4.487989505128276,
         4.616217776703369,
         4.744446048278463,
         4.872674319853556,
         5.00090259142865,
         5.129130863003743,
         5.257359134578837,
         5.385587406153931,
         5.513815677729024,
         5.642043949304118,
         5.770272220879211,
         5.898500492454305,
         6.026728764029398,
         6.154957035604492,
         6.283185307179586
        ]
       },
       "y": {
        "type": "float",
        "values": [
         1,
         0.9917900138232462,
         0.9672948630390295,
         0.9269167573460217,
         0.8713187041233894,
         0.8014136218679567,
         0.7183493500977276,
         0.6234898018587336,
         0.5183925683105252,
         0.404783343122394,
         0.28452758663103267,
         0.15959989503337932,
         0.03205157757165533,
         -0.09602302590768154,
         -0.22252093395631434,
         -0.3453650544213075,
         -0.4625382902408351,
         -0.5721166601221694,
         -0.6723008902613166,
         -0.7614459583691342,
         -0.8380881048918404,
         -0.900968867902419,
         -0.9490557470106686,
         -0.9815591569910653,
         -0.9979453927503363,
         -0.9979453927503363,
         -0.9815591569910654,
         -0.9490557470106689,
         -0.9009688679024191,
         -0.8380881048918408,
         -0.7614459583691346,
         -0.672300890261317,
         -0.57211666012217,
         -0.4625382902408353,
         -0.34536505442130816,
         -0.2225209339563146,
         -0.09602302590768244,
         0.03205157757165486,
         0.1595998950333784,
         0.284527586631032,
         0.40478334312239295,
         0.5183925683105245,
         0.6234898018587334,
         0.718349350097727,
         0.8014136218679565,
         0.871318704123389,
         0.9269167573460216,
         0.9672948630390291,
         0.991790013823246,
         1
        ]
       }
      }
     },
     "89fd1c0715e64f3983bf04842de40d12": {
      "model_module": "bqplot",
      "model_module_version": "^0.3.6",
      "model_name": "LinearScaleModel",
      "state": {
       "allow_padding": false,
       "max": 1,
       "min": 0,
       "stabilized": false
      }
     },
     "8a8018be3a5543c3ac00c3313bfdd25a": {
      "model_module": "@jupyter-widgets/base",
      "model_module_version": "1.1.0",
      "model_name": "LayoutModel",
      "state": {}
     },
     "8b52728c91644771bd9b51646a17c614": {
      "model_module": "@jupyter-widgets/base",
      "model_module_version": "1.1.0",
      "model_name": "LayoutModel",
      "state": {}
     },
     "8b9fcd9b968046a98508441e1068615e": {
      "model_module": "@jupyter-widgets/base",
      "model_module_version": "1.1.0",
      "model_name": "LayoutModel",
      "state": {}
     },
     "8bc7cc06b32349bc8c8aa75c15afa250": {
      "model_module": "@jupyter-widgets/base",
      "model_module_version": "1.1.0",
      "model_name": "LayoutModel",
      "state": {}
     },
     "8bf6977b720247b3bc84442fe854243b": {
      "model_module": "@jupyter-widgets/output",
      "model_module_version": "1.0.0",
      "model_name": "OutputModel",
      "state": {
       "layout": "IPY_MODEL_d486c6bf41614022bfab6c90a1ff1bfc"
      }
     },
     "8c4f8945c60441ea94483c994667bbc3": {
      "model_module": "@jupyter-widgets/controls",
      "model_module_version": "1.3.0",
      "model_name": "SliderStyleModel",
      "state": {
       "description_width": ""
      }
     },
     "8ce0cee766c04c799823dcd3431b10ee": {
      "model_module": "@jupyter-widgets/base",
      "model_module_version": "1.1.0",
      "model_name": "LayoutModel",
      "state": {}
     },
     "8e6cb99206b340308c50f36b451271c7": {
      "model_module": "bqplot",
      "model_module_version": "^0.3.6",
      "model_name": "AxisModel",
      "state": {
       "scale": "IPY_MODEL_30d6efe8aa9945729b86c1ea2addbb3e",
       "side": "bottom",
       "tick_values": {
        "type": null,
        "values": null
       }
      }
     },
     "8f3769e6d72241b1aeed234cc9074ded": {
      "model_module": "@jupyter-widgets/base",
      "model_module_version": "1.1.0",
      "model_name": "LayoutModel",
      "state": {}
     },
     "8fac2dd5c53c47b79957f07009b09de4": {
      "model_module": "bqplot",
      "model_module_version": "^0.3.6",
      "model_name": "LinearScaleModel",
      "state": {
       "allow_padding": false,
       "max": 1,
       "min": 0,
       "stabilized": false
      }
     },
     "8fcdd3fe431c41af970f41bcbe70b7fb": {
      "model_module": "@jupyter-widgets/base",
      "model_module_version": "1.1.0",
      "model_name": "LayoutModel",
      "state": {}
     },
     "8fd0f524619f4def9c4ab979c5047e16": {
      "model_module": "bqplot",
      "model_module_version": "^0.3.6",
      "model_name": "LinearScaleModel",
      "state": {
       "allow_padding": false,
       "max": 1,
       "min": 0,
       "stabilized": false
      }
     },
     "901b11c14eb2459180b4c24eea21bed0": {
      "model_module": "@jupyter-widgets/controls",
      "model_module_version": "1.3.0",
      "model_name": "DescriptionStyleModel",
      "state": {
       "description_width": ""
      }
     },
     "904bdcd5e4234ffebe2fbfba5f59f0aa": {
      "model_module": "bqplot",
      "model_module_version": "^0.3.6",
      "model_name": "LinearScaleModel",
      "state": {
       "stabilized": false
      }
     },
     "90a93af3e1714fcab72de87fe607646c": {
      "model_module": "@jupyter-widgets/controls",
      "model_module_version": "1.3.0",
      "model_name": "ButtonModel",
      "state": {
       "description": "basso a destra",
       "layout": "IPY_MODEL_3dc9851a77f441a9af058f744a33c7ec",
       "style": "IPY_MODEL_baa804b3e2144397abc485f383964290"
      }
     },
     "926e837a77b844989ffc601ade5a765b": {
      "model_module": "bqplot",
      "model_module_version": "^0.3.6",
      "model_name": "LinearScaleModel",
      "state": {
       "allow_padding": false,
       "max": 1,
       "min": 0,
       "stabilized": false
      }
     },
     "92c51d80a76b457fa362c062d36a9610": {
      "model_module": "@jupyter-widgets/controls",
      "model_module_version": "1.3.0",
      "model_name": "SliderStyleModel",
      "state": {
       "description_width": ""
      }
     },
     "934b138288ad4d4c813a040eca2b16a5": {
      "model_module": "@jupyter-widgets/base",
      "model_module_version": "1.1.0",
      "model_name": "LayoutModel",
      "state": {}
     },
     "93596944c8c14b3e8d411e5ea9d43cb2": {
      "model_module": "@jupyter-widgets/controls",
      "model_module_version": "1.3.0",
      "model_name": "HBoxModel",
      "state": {
       "children": [
        "IPY_MODEL_af4f1164cf2b40d1983cc21611ddcc61",
        "IPY_MODEL_eef170ca23d1425ea5132df1c3a87bf1"
       ],
       "layout": "IPY_MODEL_bd58ad168034498c9e667dad7d116d99"
      }
     },
     "9387aabe5c1d48259f4fcd30b9a1b670": {
      "model_module": "@jupyter-widgets/base",
      "model_module_version": "1.1.0",
      "model_name": "LayoutModel",
      "state": {
       "align_items": "stretch",
       "display": "flex"
      }
     },
     "9403bcc6e5e84c4399aea329e7559d20": {
      "model_module": "@jupyter-widgets/controls",
      "model_module_version": "1.3.0",
      "model_name": "SliderStyleModel",
      "state": {
       "description_width": ""
      }
     },
     "94245e49437449e5804c9e68256f5a26": {
      "model_module": "@jupyter-widgets/controls",
      "model_module_version": "1.3.0",
      "model_name": "SliderStyleModel",
      "state": {
       "description_width": ""
      }
     },
     "943812cbea754d1dafde5f947729625a": {
      "model_module": "@jupyter-widgets/base",
      "model_module_version": "1.1.0",
      "model_name": "LayoutModel",
      "state": {}
     },
     "94387810bd57455dbb44528e4355954a": {
      "model_module": "@jupyter-widgets/base",
      "model_module_version": "1.1.0",
      "model_name": "LayoutModel",
      "state": {
       "min_width": "125px"
      }
     },
     "946100ce7e1348ef9f29103fc08db267": {
      "model_module": "bqplot",
      "model_module_version": "^0.3.6",
      "model_name": "AxisModel",
      "state": {
       "scale": "IPY_MODEL_2ef6a507662248919d1114bc010a37c8",
       "side": "bottom",
       "tick_values": {
        "type": null,
        "values": null
       }
      }
     },
     "946219d067a4448a8ec69cc9a91d8670": {
      "model_module": "@jupyter-widgets/controls",
      "model_module_version": "1.3.0",
      "model_name": "FloatSliderModel",
      "state": {
       "layout": "IPY_MODEL_465ac352a9e24715a9c211172ca7c2bf",
       "max": 10000,
       "step": 0.1,
       "style": "IPY_MODEL_672df9dc35b7463ebbcfd65204313fa8"
      }
     },
     "94a40af9556243a2aaf78cc7a9c3a64b": {
      "model_module": "@jupyter-widgets/base",
      "model_module_version": "1.1.0",
      "model_name": "LayoutModel",
      "state": {}
     },
     "94ce4b38607346a8b11130eb573052cb": {
      "model_module": "@jupyter-widgets/controls",
      "model_module_version": "1.3.0",
      "model_name": "ButtonStyleModel",
      "state": {}
     },
     "95171728eea347acbf02a664d8f12819": {
      "model_module": "@jupyter-widgets/controls",
      "model_module_version": "1.3.0",
      "model_name": "SliderStyleModel",
      "state": {
       "description_width": ""
      }
     },
     "9541e79502944efaa000db3fdad1d180": {
      "model_module": "@jupyter-widgets/controls",
      "model_module_version": "1.3.0",
      "model_name": "DescriptionStyleModel",
      "state": {
       "description_width": ""
      }
     },
     "95d4469d4b804d74b23a2a5492763b16": {
      "model_module": "@jupyter-widgets/controls",
      "model_module_version": "1.3.0",
      "model_name": "SliderStyleModel",
      "state": {
       "description_width": ""
      }
     },
     "95ece52a5668455bb4f178d1c02bd60f": {
      "model_module": "@jupyter-widgets/controls",
      "model_module_version": "1.3.0",
      "model_name": "SliderStyleModel",
      "state": {
       "description_width": ""
      }
     },
     "9606234fbe9b4cb2a524249c435f243c": {
      "model_module": "@jupyter-widgets/controls",
      "model_module_version": "1.3.0",
      "model_name": "SelectMultipleModel",
      "state": {
       "_options_labels": [
        "Apples",
        "Oranges",
        "Pears"
       ],
       "description": "Fruits",
       "index": [
        1
       ],
       "layout": "IPY_MODEL_943812cbea754d1dafde5f947729625a",
       "rows": 5,
       "style": "IPY_MODEL_2e484b79b0ac4ad18b28b512639a0b35"
      }
     },
     "96126a30774f48d3af5df2d53438b351": {
      "model_module": "@jupyter-widgets/controls",
      "model_module_version": "1.3.0",
      "model_name": "ButtonStyleModel",
      "state": {}
     },
     "9648666f674b4ecaa5a611b12cfb316b": {
      "model_module": "@jupyter-widgets/base",
      "model_module_version": "1.1.0",
      "model_name": "LayoutModel",
      "state": {}
     },
     "966efe0755a64d7d87e565a027c5dcb8": {
      "model_module": "@jupyter-widgets/controls",
      "model_module_version": "1.3.0",
      "model_name": "SliderStyleModel",
      "state": {
       "description_width": ""
      }
     },
     "96fde2c0b156459cb742d6c36f1628fa": {
      "model_module": "@jupyter-widgets/base",
      "model_module_version": "1.1.0",
      "model_name": "LayoutModel",
      "state": {}
     },
     "97ae2e954dd14144b767cc0c44944cdc": {
      "model_module": "bqplot",
      "model_module_version": "^0.3.6",
      "model_name": "AxisModel",
      "state": {
       "orientation": "vertical",
       "scale": "IPY_MODEL_904bdcd5e4234ffebe2fbfba5f59f0aa",
       "side": "left",
       "tick_values": {
        "type": null,
        "values": null
       }
      }
     },
     "97fbe6e19d4d482097ed77a532372f98": {
      "model_module": "@jupyter-widgets/base",
      "model_module_version": "1.1.0",
      "model_name": "LayoutModel",
      "state": {}
     },
     "9865815f19a54f1b9ed582eb20866a2d": {
      "model_module": "@jupyter-widgets/output",
      "model_module_version": "1.0.0",
      "model_name": "OutputModel",
      "state": {
       "layout": "IPY_MODEL_4303a7f311cb4e45a251d8992195a202"
      }
     },
     "986cf4b0bbeb47a783a7c0cbb37c8d81": {
      "model_module": "bqplot",
      "model_module_version": "^0.3.6",
      "model_name": "LinearScaleModel",
      "state": {
       "allow_padding": false,
       "max": 1,
       "min": 0,
       "stabilized": false
      }
     },
     "98eedf49f44c462c9be8901c81583781": {
      "model_module": "bqplot",
      "model_module_version": "^0.3.6",
      "model_name": "LinearScaleModel",
      "state": {
       "allow_padding": false,
       "max": 1,
       "min": 0,
       "stabilized": false
      }
     },
     "98fce0c649e94358b068f54c559267f4": {
      "model_module": "bqplot",
      "model_module_version": "^0.3.6",
      "model_name": "LinearScaleModel",
      "state": {
       "stabilized": false
      }
     },
     "993abd50186846fa8c67ca71281c2767": {
      "model_module": "@jupyter-widgets/base",
      "model_module_version": "1.1.0",
      "model_name": "LayoutModel",
      "state": {}
     },
     "998a50b93977464fa58958e3903ced93": {
      "model_module": "@jupyter-widgets/controls",
      "model_module_version": "1.3.0",
      "model_name": "IntSliderModel",
      "state": {
       "description": "ciao",
       "layout": "IPY_MODEL_1e4d5a42cd6d4e9a8aa6b45071d9e323",
       "style": "IPY_MODEL_f1f2e1e3eb524cc8bff6d16e322a5cc3",
       "value": 30
      }
     },
     "9a7f7fe3fc1f4dc4b6483dcc0ce084b4": {
      "model_module": "bqplot",
      "model_module_version": "^0.3.6",
      "model_name": "LinearScaleModel",
      "state": {
       "allow_padding": false,
       "max": 1,
       "min": 0,
       "stabilized": false
      }
     },
     "9b152be0d2a24ab4aad63a483741384c": {
      "model_module": "bqplot",
      "model_module_version": "^0.3.6",
      "model_name": "LinearScaleModel",
      "state": {
       "stabilized": false
      }
     },
     "9b7170b3573a40afa5b6d43367bf9e14": {
      "model_module": "@jupyter-widgets/base",
      "model_module_version": "1.1.0",
      "model_name": "LayoutModel",
      "state": {}
     },
     "9bf99575896f4ed3a6bef54292f683b6": {
      "model_module": "@jupyter-widgets/controls",
      "model_module_version": "1.3.0",
      "model_name": "SliderStyleModel",
      "state": {
       "description_width": ""
      }
     },
     "9c2dd56c1a1d481ba10f9bdc700f50af": {
      "model_module": "@jupyter-widgets/controls",
      "model_module_version": "1.3.0",
      "model_name": "CheckboxModel",
      "state": {
       "description": "k",
       "disabled": false,
       "layout": "IPY_MODEL_33c373b8c96245c185dcfc0d0fc5e196",
       "style": "IPY_MODEL_bdf630aa300e470eb7a74e84f21d9798",
       "value": true
      }
     },
     "9c6735d9dc6548ab8e906e52be17ff91": {
      "model_module": "@jupyter-widgets/controls",
      "model_module_version": "1.3.0",
      "model_name": "ButtonStyleModel",
      "state": {}
     },
     "9d8844dc2fb8417b9fd399b5b850c7d6": {
      "model_module": "bqplot",
      "model_module_version": "^0.3.6",
      "model_name": "LinearScaleModel",
      "state": {
       "stabilized": false
      }
     },
     "9da8d6438af84c01bdf22bceb5d7741c": {
      "model_module": "@jupyter-widgets/base",
      "model_module_version": "1.1.0",
      "model_name": "LayoutModel",
      "state": {}
     },
     "9df0531fd6464c9999facb286901a989": {
      "model_module": "bqplot",
      "model_module_version": "^0.3.6",
      "model_name": "LinearScaleModel",
      "state": {
       "stabilized": false
      }
     },
     "9df4fd698c1e43c5b8110b8947704e4a": {
      "model_module": "@jupyter-widgets/base",
      "model_module_version": "1.1.0",
      "model_name": "LayoutModel",
      "state": {}
     },
     "9e13f4a9e7594ea9b6b4e19ffc6759d3": {
      "model_module": "@jupyter-widgets/base",
      "model_module_version": "1.1.0",
      "model_name": "LayoutModel",
      "state": {
       "min_width": "125px"
      }
     },
     "9f72f7a9b87f40ceac8a652d8d6f0341": {
      "model_module": "@jupyter-widgets/controls",
      "model_module_version": "1.3.0",
      "model_name": "DescriptionStyleModel",
      "state": {
       "description_width": ""
      }
     },
     "9f77a9c5b6744b66a237812b295c0276": {
      "model_module": "bqplot",
      "model_module_version": "^0.3.6",
      "model_name": "LinearScaleModel",
      "state": {
       "allow_padding": false,
       "max": 1,
       "min": 0,
       "stabilized": false
      }
     },
     "9f88517d27d3463ab23f8a4424c518f1": {
      "model_module": "@jupyter-widgets/controls",
      "model_module_version": "1.3.0",
      "model_name": "IntSliderModel",
      "state": {
       "layout": "IPY_MODEL_94a40af9556243a2aaf78cc7a9c3a64b",
       "style": "IPY_MODEL_4d2c85d386b640669e1c22f5cb1adff1"
      }
     },
     "9f932304d5ca449a9a00002d3ee6f30c": {
      "model_module": "bqplot",
      "model_module_version": "^0.3.6",
      "model_name": "LinesModel",
      "state": {
       "color": {
        "type": null,
        "values": null
       },
       "display_legend": false,
       "fill_colors": [],
       "labels": [
        "C1"
       ],
       "scales": {
        "x": "IPY_MODEL_49bc7e74d38f4528a8c39543ea54c416",
        "y": "IPY_MODEL_3a4e710eeb0849c2b9ff4f3143abe478"
       },
       "selected": [],
       "x": {
        "type": "float",
        "values": [
         0,
         0.1282282715750936,
         0.2564565431501872,
         0.38468481472528077,
         0.5129130863003744,
         0.6411413578754679,
         0.7693696294505615,
         0.8975979010256552,
         1.0258261726007487,
         1.1540544441758422,
         1.2822827157509358,
         1.4105109873260295,
         1.538739258901123,
         1.6669675304762166,
         1.7951958020513104,
         1.9234240736264039,
         2.0516523452014974,
         2.179880616776591,
         2.3081088883516845,
         2.436337159926778,
         2.5645654315018716,
         2.6927937030769655,
         2.821021974652059,
         2.9492502462271526,
         3.077478517802246,
         3.2057067893773397,
         3.333935060952433,
         3.4621633325275267,
         3.5903916041026207,
         3.7186198756777142,
         3.8468481472528078,
         3.9750764188279013,
         4.103304690402995,
         4.231532961978089,
         4.359761233553182,
         4.487989505128276,
         4.616217776703369,
         4.744446048278463,
         4.872674319853556,
         5.00090259142865,
         5.129130863003743,
         5.257359134578837,
         5.385587406153931,
         5.513815677729024,
         5.642043949304118,
         5.770272220879211,
         5.898500492454305,
         6.026728764029398,
         6.154957035604492,
         6.283185307179586
        ]
       },
       "y": {
        "type": "float",
        "values": [
         1,
         0.9917900138232462,
         0.9672948630390295,
         0.9269167573460217,
         0.8713187041233894,
         0.8014136218679567,
         0.7183493500977276,
         0.6234898018587336,
         0.5183925683105252,
         0.404783343122394,
         0.28452758663103267,
         0.15959989503337932,
         0.03205157757165533,
         -0.09602302590768154,
         -0.22252093395631434,
         -0.3453650544213075,
         -0.4625382902408351,
         -0.5721166601221694,
         -0.6723008902613166,
         -0.7614459583691342,
         -0.8380881048918404,
         -0.900968867902419,
         -0.9490557470106686,
         -0.9815591569910653,
         -0.9979453927503363,
         -0.9979453927503363,
         -0.9815591569910654,
         -0.9490557470106689,
         -0.9009688679024191,
         -0.8380881048918408,
         -0.7614459583691346,
         -0.672300890261317,
         -0.57211666012217,
         -0.4625382902408353,
         -0.34536505442130816,
         -0.2225209339563146,
         -0.09602302590768244,
         0.03205157757165486,
         0.1595998950333784,
         0.284527586631032,
         0.40478334312239295,
         0.5183925683105245,
         0.6234898018587334,
         0.718349350097727,
         0.8014136218679565,
         0.871318704123389,
         0.9269167573460216,
         0.9672948630390291,
         0.991790013823246,
         1
        ]
       }
      }
     },
     "9f95872232024c989c5d320556a4f969": {
      "model_module": "@jupyter-widgets/controls",
      "model_module_version": "1.3.0",
      "model_name": "FloatSliderModel",
      "state": {
       "description": "k",
       "layout": "IPY_MODEL_6816b60e97df45799e9cd0535f0a75f1",
       "max": 3,
       "min": -1,
       "step": 0.1,
       "style": "IPY_MODEL_95d4469d4b804d74b23a2a5492763b16",
       "value": 1
      }
     },
     "a10fa12a2cad4eacaa3a75b4eb2dad95": {
      "model_module": "@jupyter-widgets/base",
      "model_module_version": "1.1.0",
      "model_name": "LayoutModel",
      "state": {}
     },
     "a127d0dae66c418f837726ad1a8c7eb5": {
      "model_module": "@jupyter-widgets/controls",
      "model_module_version": "1.3.0",
      "model_name": "SliderStyleModel",
      "state": {
       "description_width": ""
      }
     },
     "a1f601c015484a8d8ae9384dcf2668ac": {
      "model_module": "@jupyter-widgets/controls",
      "model_module_version": "1.3.0",
      "model_name": "DescriptionStyleModel",
      "state": {
       "description_width": ""
      }
     },
     "a24739f7e34a4f0a909e0a3cf5599adf": {
      "model_module": "@jupyter-widgets/controls",
      "model_module_version": "1.3.0",
      "model_name": "SliderStyleModel",
      "state": {
       "description_width": ""
      }
     },
     "a25eb801cd0749d3adc76410c67624a5": {
      "model_module": "bqplot",
      "model_module_version": "^0.3.6",
      "model_name": "LinearScaleModel",
      "state": {
       "allow_padding": false,
       "max": 1,
       "min": 0,
       "stabilized": false
      }
     },
     "a2fbd623d41a4887b0b5af34acb56570": {
      "model_module": "@jupyter-widgets/controls",
      "model_module_version": "1.3.0",
      "model_name": "DescriptionStyleModel",
      "state": {
       "description_width": ""
      }
     },
     "a331cf6f132c4b879325e4394cdc5345": {
      "model_module": "bqplot",
      "model_module_version": "^0.3.6",
      "model_name": "LinearScaleModel",
      "state": {
       "stabilized": false
      }
     },
     "a356862827b44c398914eee6656f6388": {
      "model_module": "@jupyter-widgets/base",
      "model_module_version": "1.1.0",
      "model_name": "LayoutModel",
      "state": {}
     },
     "a3694a00699e4862a94fa281851626af": {
      "model_module": "@jupyter-widgets/controls",
      "model_module_version": "1.3.0",
      "model_name": "IntSliderModel",
      "state": {
       "layout": "IPY_MODEL_69e2f206fdba41b18eb08fd9b5119078",
       "style": "IPY_MODEL_4ac1c8fbbd084caaa5a9170012c849d0"
      }
     },
     "a3718f3d5a7a406987953fec963bcb07": {
      "model_module": "@jupyter-widgets/base",
      "model_module_version": "1.1.0",
      "model_name": "LayoutModel",
      "state": {}
     },
     "a3b4c2d012a94b0089c95f283f7889c3": {
      "model_module": "@jupyter-widgets/base",
      "model_module_version": "1.1.0",
      "model_name": "LayoutModel",
      "state": {}
     },
     "a419b705d5a342958a7ad3e6ae4ba21c": {
      "model_module": "@jupyter-widgets/base",
      "model_module_version": "1.1.0",
      "model_name": "LayoutModel",
      "state": {}
     },
     "a563a53a6ec64078b61febd00d734821": {
      "model_module": "@jupyter-widgets/controls",
      "model_module_version": "1.3.0",
      "model_name": "IntSliderModel",
      "state": {
       "description": "i",
       "layout": "IPY_MODEL_6a7b2ba6dbfe4bbda2b61a5c0f7db9ec",
       "max": 9,
       "min": -3,
       "style": "IPY_MODEL_d6715899be1f4d7b8cd6196c789b8db8",
       "value": 3
      }
     },
     "a5cc195d9b09447e8cf9589ec8b303b6": {
      "model_module": "@jupyter-widgets/controls",
      "model_module_version": "1.3.0",
      "model_name": "IntSliderModel",
      "state": {
       "continuous_update": false,
       "description": "slider delayed",
       "layout": "IPY_MODEL_cee7a81d22494ed69f98cea49a36a009",
       "style": "IPY_MODEL_4e3a73f337134c2bac131ec477ad95be"
      }
     },
     "a5dcd612020f40f781473ed78eb50176": {
      "model_module": "@jupyter-widgets/controls",
      "model_module_version": "1.3.0",
      "model_name": "VBoxModel",
      "state": {
       "_dom_classes": [
        "widget-interact"
       ],
       "children": [
        "IPY_MODEL_2555f6013d0a4a7fa6d4ae3a0394fe1b",
        "IPY_MODEL_36bdf6d29fb540619c2c54050df7ec3a"
       ],
       "layout": "IPY_MODEL_4a6b7914faab45988bbda0aa455b39e8"
      }
     },
     "a62949c4102442d2aa0821f58f37195e": {
      "model_module": "@jupyter-widgets/base",
      "model_module_version": "1.1.0",
      "model_name": "LayoutModel",
      "state": {}
     },
     "a6ca56113e8849cab09a857d038ba8e6": {
      "model_module": "@jupyter-widgets/controls",
      "model_module_version": "1.3.0",
      "model_name": "IntSliderModel",
      "state": {
       "layout": "IPY_MODEL_97fbe6e19d4d482097ed77a532372f98",
       "max": 200,
       "style": "IPY_MODEL_a24739f7e34a4f0a909e0a3cf5599adf"
      }
     },
     "a6d42974a8864480ae29d84d14330ee1": {
      "model_module": "@jupyter-widgets/controls",
      "model_module_version": "1.3.0",
      "model_name": "HBoxModel",
      "state": {
       "children": [
        "IPY_MODEL_5dd1ed6e53c448aeaf7a8b6286265b65",
        "IPY_MODEL_11c0c2348ec8436abb693c0672908b7e"
       ],
       "layout": "IPY_MODEL_8bc7cc06b32349bc8c8aa75c15afa250"
      }
     },
     "a72a1b7e887f4473b0e0bfd5b79989e0": {
      "model_module": "@jupyter-widgets/controls",
      "model_module_version": "1.3.0",
      "model_name": "IntSliderModel",
      "state": {
       "continuous_update": false,
       "description": "slider delayed",
       "layout": "IPY_MODEL_0e14bda689ce4871a2b4d3ccbd4ebd8d",
       "style": "IPY_MODEL_75e3bcad3d6b4efd8b5032169dfab1b1"
      }
     },
     "a730aa58518549fb819b9b300cd1d72a": {
      "model_module": "@jupyter-widgets/base",
      "model_module_version": "1.1.0",
      "model_name": "LayoutModel",
      "state": {}
     },
     "a73bacab693946fc8931e9c9425a6128": {
      "model_module": "@jupyter-widgets/controls",
      "model_module_version": "1.3.0",
      "model_name": "CheckboxModel",
      "state": {
       "description": "k",
       "disabled": false,
       "layout": "IPY_MODEL_d75c81e49f5049d8afcb422d2b966a25",
       "style": "IPY_MODEL_e85525af303e466e98525abd36e3f3f0",
       "value": true
      }
     },
     "a75804d59c8747f49789fc8fdcdea71b": {
      "model_module": "@jupyter-widgets/base",
      "model_module_version": "1.1.0",
      "model_name": "LayoutModel",
      "state": {}
     },
     "a774a9a6126245c28f465a5bdbadfef7": {
      "model_module": "@jupyter-widgets/base",
      "model_module_version": "1.1.0",
      "model_name": "LayoutModel",
      "state": {}
     },
     "a79b8c664c884aeeb549d272e72286b2": {
      "model_module": "@jupyter-widgets/controls",
      "model_module_version": "1.3.0",
      "model_name": "IntSliderModel",
      "state": {
       "layout": "IPY_MODEL_5902c7a304bf4b2f9a9ce88261041215",
       "style": "IPY_MODEL_066f279121f84acb8e303b6881dd4e22"
      }
     },
     "a7a3a24161dc49a89b7ba18cda1fa5e4": {
      "model_module": "@jupyter-widgets/controls",
      "model_module_version": "1.3.0",
      "model_name": "BoxModel",
      "state": {
       "children": [
        "IPY_MODEL_798b5f7aeb2f489da7ce8098af3f9394",
        "IPY_MODEL_1c5904f3ccbb451b98fdc87c969f1974"
       ],
       "layout": "IPY_MODEL_f9e90a1029e045668b8ab1c70f89935d"
      }
     },
     "a7f5986c8d864fc895e23dbe3d60ea87": {
      "model_module": "@jupyter-widgets/controls",
      "model_module_version": "1.3.0",
      "model_name": "IntTextModel",
      "state": {
       "description": "testo delayed",
       "layout": "IPY_MODEL_c6707d0e2a014ab69255b716a11407c1",
       "step": 1,
       "style": "IPY_MODEL_fe20df77873848b8889a1c196701f151"
      }
     },
     "a8d4b953a9874dc0828ecd296c07f0a0": {
      "model_module": "@jupyter-widgets/controls",
      "model_module_version": "1.3.0",
      "model_name": "SliderStyleModel",
      "state": {
       "description_width": ""
      }
     },
     "a93a8b21c8b348c4b138b0bbb5cfa8e3": {
      "model_module": "@jupyter-widgets/controls",
      "model_module_version": "1.3.0",
      "model_name": "ButtonModel",
      "state": {
       "description": "alto a sinistra",
       "layout": "IPY_MODEL_9df4fd698c1e43c5b8110b8947704e4a",
       "style": "IPY_MODEL_26de45e5925a4694be5a4845567618be"
      }
     },
     "a989e5ab16b0446d9a357f82c4e26360": {
      "model_module": "@jupyter-widgets/base",
      "model_module_version": "1.1.0",
      "model_name": "LayoutModel",
      "state": {}
     },
     "a9e2939cc38b4eb28cff81284b51d707": {
      "model_module": "bqplot",
      "model_module_version": "^0.3.6",
      "model_name": "ToolbarModel",
      "state": {
       "figure": "IPY_MODEL_b02fc478e9cb4122b7eabb41b79d0667",
       "layout": "IPY_MODEL_0df39bef665b42d8b191939d74e925fe"
      }
     },
     "aa4d964b09bb44789ffdd1e9631fe386": {
      "model_module": "@jupyter-widgets/base",
      "model_module_version": "1.1.0",
      "model_name": "LayoutModel",
      "state": {}
     },
     "aa746c1a21474f5fa03d6be398cc780b": {
      "model_module": "@jupyter-widgets/base",
      "model_module_version": "1.1.0",
      "model_name": "LayoutModel",
      "state": {}
     },
     "aaf3129f378e4f9a8257d89d19073d7f": {
      "model_module": "@jupyter-widgets/output",
      "model_module_version": "1.0.0",
      "model_name": "OutputModel",
      "state": {
       "layout": "IPY_MODEL_6116d212ae2b4a63af2b01d7d1d5af8c",
       "outputs": [
        {
         "name": "stdout",
         "output_type": "stream",
         "text": "medio\nspuntata\n"
        }
       ]
      }
     },
     "aafeb0c17d24493f9dfa800a2c8e0a71": {
      "model_module": "@jupyter-widgets/base",
      "model_module_version": "1.1.0",
      "model_name": "LayoutModel",
      "state": {}
     },
     "ab3a0a54b6e04205ad91cbf43dd6127c": {
      "model_module": "@jupyter-widgets/controls",
      "model_module_version": "1.3.0",
      "model_name": "IntSliderModel",
      "state": {
       "layout": "IPY_MODEL_6bfa71aa6ddf46b1b0b74700839c6121",
       "style": "IPY_MODEL_3f92df9bf98d441ba4f58d8a64d73c68"
      }
     },
     "ab6fd4ebaa734638a9131158780febd5": {
      "model_module": "@jupyter-widgets/base",
      "model_module_version": "1.1.0",
      "model_name": "LayoutModel",
      "state": {}
     },
     "abadfc0ddb294dcc8ae4afd4b3f5e2cf": {
      "model_module": "@jupyter-widgets/controls",
      "model_module_version": "1.3.0",
      "model_name": "LabelModel",
      "state": {
       "layout": "IPY_MODEL_8fcdd3fe431c41af970f41bcbe70b7fb",
       "style": "IPY_MODEL_4058734c6b364f839ceb3befc92d4a96",
       "value": "nuovo valore = "
      }
     },
     "abd9dc4595ba474c810970f7f465e2d3": {
      "model_module": "@jupyter-widgets/controls",
      "model_module_version": "1.3.0",
      "model_name": "SliderStyleModel",
      "state": {
       "description_width": ""
      }
     },
     "abec90e793e4471f90b20b272b9adb04": {
      "model_module": "@jupyter-widgets/output",
      "model_module_version": "1.0.0",
      "model_name": "OutputModel",
      "state": {
       "layout": "IPY_MODEL_f91bb7e3b17a470d807897e302156671"
      }
     },
     "ac22c8e378f94231bbd82b9dc59747c7": {
      "model_module": "@jupyter-widgets/controls",
      "model_module_version": "1.3.0",
      "model_name": "ButtonModel",
      "state": {
       "description": "Bottone con stile applicato ",
       "layout": "IPY_MODEL_4c33deee678e44438c95ad6a7b50bb6e",
       "style": "IPY_MODEL_25ceebd151534047a9e061b95ecd2192"
      }
     },
     "ac5a81bd5ce84362b40d2eba242d23fe": {
      "model_module": "@jupyter-widgets/base",
      "model_module_version": "1.1.0",
      "model_name": "LayoutModel",
      "state": {}
     },
     "ac8de754d1964e9b87f7cf6612fda805": {
      "model_module": "@jupyter-widgets/base",
      "model_module_version": "1.1.0",
      "model_name": "LayoutModel",
      "state": {
       "min_width": "125px"
      }
     },
     "acdc257429624d48a33cd774874a27a8": {
      "model_module": "@jupyter-widgets/output",
      "model_module_version": "1.0.0",
      "model_name": "OutputModel",
      "state": {
       "layout": "IPY_MODEL_0dd0771f682145569fffc5d48bbc13be",
       "outputs": [
        {
         "name": "stdout",
         "output_type": "stream",
         "text": "spuntata\n"
        }
       ]
      }
     },
     "ad4a0897bf2f4601afc57cf55f6b8cc4": {
      "model_module": "bqplot",
      "model_module_version": "^0.3.6",
      "model_name": "LinesModel",
      "state": {
       "color": {
        "type": null,
        "values": null
       },
       "display_legend": false,
       "fill_colors": [],
       "labels": [
        "C1"
       ],
       "scales": {
        "x": "IPY_MODEL_3febdc2eb3864f8d9383b5c21c29314d",
        "y": "IPY_MODEL_f4bc522c345147b98d63c1d64a2bcf01"
       },
       "selected": [],
       "x": {
        "type": "float",
        "values": [
         0,
         0.1282282715750936,
         0.2564565431501872,
         0.38468481472528077,
         0.5129130863003744,
         0.6411413578754679,
         0.7693696294505615,
         0.8975979010256552,
         1.0258261726007487,
         1.1540544441758422,
         1.2822827157509358,
         1.4105109873260295,
         1.538739258901123,
         1.6669675304762166,
         1.7951958020513104,
         1.9234240736264039,
         2.0516523452014974,
         2.179880616776591,
         2.3081088883516845,
         2.436337159926778,
         2.5645654315018716,
         2.6927937030769655,
         2.821021974652059,
         2.9492502462271526,
         3.077478517802246,
         3.2057067893773397,
         3.333935060952433,
         3.4621633325275267,
         3.5903916041026207,
         3.7186198756777142,
         3.8468481472528078,
         3.9750764188279013,
         4.103304690402995,
         4.231532961978089,
         4.359761233553182,
         4.487989505128276,
         4.616217776703369,
         4.744446048278463,
         4.872674319853556,
         5.00090259142865,
         5.129130863003743,
         5.257359134578837,
         5.385587406153931,
         5.513815677729024,
         5.642043949304118,
         5.770272220879211,
         5.898500492454305,
         6.026728764029398,
         6.154957035604492,
         6.283185307179586
        ]
       },
       "y": {
        "type": "float",
        "values": [
         1,
         0.9917900138232462,
         0.9672948630390295,
         0.9269167573460217,
         0.8713187041233894,
         0.8014136218679567,
         0.7183493500977276,
         0.6234898018587336,
         0.5183925683105252,
         0.404783343122394,
         0.28452758663103267,
         0.15959989503337932,
         0.03205157757165533,
         -0.09602302590768154,
         -0.22252093395631434,
         -0.3453650544213075,
         -0.4625382902408351,
         -0.5721166601221694,
         -0.6723008902613166,
         -0.7614459583691342,
         -0.8380881048918404,
         -0.900968867902419,
         -0.9490557470106686,
         -0.9815591569910653,
         -0.9979453927503363,
         -0.9979453927503363,
         -0.9815591569910654,
         -0.9490557470106689,
         -0.9009688679024191,
         -0.8380881048918408,
         -0.7614459583691346,
         -0.672300890261317,
         -0.57211666012217,
         -0.4625382902408353,
         -0.34536505442130816,
         -0.2225209339563146,
         -0.09602302590768244,
         0.03205157757165486,
         0.1595998950333784,
         0.284527586631032,
         0.40478334312239295,
         0.5183925683105245,
         0.6234898018587334,
         0.718349350097727,
         0.8014136218679565,
         0.871318704123389,
         0.9269167573460216,
         0.9672948630390291,
         0.991790013823246,
         1
        ]
       }
      }
     },
     "ad4c494ba1f34424b6b01472e9c2ac8f": {
      "model_module": "@jupyter-widgets/controls",
      "model_module_version": "1.3.0",
      "model_name": "SliderStyleModel",
      "state": {
       "description_width": ""
      }
     },
     "ad9434f2d9344af2ae8af5e8b3a691c5": {
      "model_module": "@jupyter-widgets/controls",
      "model_module_version": "1.3.0",
      "model_name": "IntSliderModel",
      "state": {
       "layout": "IPY_MODEL_75a317e8a4354d3089ba02a6b7759c8b",
       "style": "IPY_MODEL_88513c25c66d47649b5bdf485c3e365d"
      }
     },
     "adecef3fb348453fa581b80709862aac": {
      "model_module": "@jupyter-widgets/base",
      "model_module_version": "1.1.0",
      "model_name": "LayoutModel",
      "state": {}
     },
     "ae1720ddc0d141f79bd4cedaa3610f6c": {
      "model_module": "@jupyter-widgets/base",
      "model_module_version": "1.1.0",
      "model_name": "LayoutModel",
      "state": {}
     },
     "aeb9a965c2654b459e2ce662279b2625": {
      "model_module": "@jupyter-widgets/base",
      "model_module_version": "1.1.0",
      "model_name": "LayoutModel",
      "state": {}
     },
     "af4f1164cf2b40d1983cc21611ddcc61": {
      "model_module": "@jupyter-widgets/controls",
      "model_module_version": "1.3.0",
      "model_name": "IntSliderModel",
      "state": {
       "layout": "IPY_MODEL_c462a5897829449f8b3206dd8f4c5903",
       "style": "IPY_MODEL_c1d2d5ac0ecf42f28358de2e7fe1539c"
      }
     },
     "b02fc478e9cb4122b7eabb41b79d0667": {
      "model_module": "bqplot",
      "model_module_version": "^0.3.6",
      "model_name": "FigureModel",
      "state": {
       "_dom_classes": [],
       "axes": [
        "IPY_MODEL_0210244ffe734145930d762f34a3804d",
        "IPY_MODEL_f79d75e7412343c6a2efaba436daf34f"
       ],
       "layout": "IPY_MODEL_6d0838a8540c4e4dbfce9442248243aa",
       "marks": [
        "IPY_MODEL_867d2fdcae1c4647a780ab85746a946a"
       ],
       "max_aspect_ratio": 6,
       "scale_x": "IPY_MODEL_2f588545f67246418465b91fa56169cb",
       "scale_y": "IPY_MODEL_2665ffd62769436b89f47340fb1d2e81",
       "title": "Grafico in bqplot"
      }
     },
     "b03139f399f04fc095f56eb2a0f9d41a": {
      "model_module": "@jupyter-widgets/base",
      "model_module_version": "1.1.0",
      "model_name": "LayoutModel",
      "state": {}
     },
     "b07235ddcaef44c492c184ef967ec242": {
      "model_module": "@jupyter-widgets/base",
      "model_module_version": "1.1.0",
      "model_name": "LayoutModel",
      "state": {}
     },
     "b0eb9dcb5eb84e729928025c070d5f6a": {
      "model_module": "@jupyter-widgets/controls",
      "model_module_version": "1.3.0",
      "model_name": "VBoxModel",
      "state": {
       "_dom_classes": [
        "widget-interact"
       ],
       "children": [
        "IPY_MODEL_691047acf1a64860a207c7b5a6546564",
        "IPY_MODEL_20e76a3e83ea486b8304cedb684f0394"
       ],
       "layout": "IPY_MODEL_5cc3553fcf274c2ba557530d8b3d27a3"
      }
     },
     "b106e31824a04a7aa8af0c7a99f61241": {
      "model_module": "@jupyter-widgets/base",
      "model_module_version": "1.1.0",
      "model_name": "LayoutModel",
      "state": {}
     },
     "b14e2e552fd54f30a7d5e5c27db9d6bd": {
      "model_module": "bqplot",
      "model_module_version": "^0.3.6",
      "model_name": "LinesModel",
      "state": {
       "color": {
        "type": null,
        "values": null
       },
       "display_legend": false,
       "fill_colors": [],
       "labels": [
        "C1"
       ],
       "scales": {
        "x": "IPY_MODEL_4d25947a62a0432cb037112641cb3ad1",
        "y": "IPY_MODEL_904bdcd5e4234ffebe2fbfba5f59f0aa"
       },
       "selected": [],
       "x": {
        "type": "float",
        "values": [
         0,
         0.1282282715750936,
         0.2564565431501872,
         0.38468481472528077,
         0.5129130863003744,
         0.6411413578754679,
         0.7693696294505615,
         0.8975979010256552,
         1.0258261726007487,
         1.1540544441758422,
         1.2822827157509358,
         1.4105109873260295,
         1.538739258901123,
         1.6669675304762166,
         1.7951958020513104,
         1.9234240736264039,
         2.0516523452014974,
         2.179880616776591,
         2.3081088883516845,
         2.436337159926778,
         2.5645654315018716,
         2.6927937030769655,
         2.821021974652059,
         2.9492502462271526,
         3.077478517802246,
         3.2057067893773397,
         3.333935060952433,
         3.4621633325275267,
         3.5903916041026207,
         3.7186198756777142,
         3.8468481472528078,
         3.9750764188279013,
         4.103304690402995,
         4.231532961978089,
         4.359761233553182,
         4.487989505128276,
         4.616217776703369,
         4.744446048278463,
         4.872674319853556,
         5.00090259142865,
         5.129130863003743,
         5.257359134578837,
         5.385587406153931,
         5.513815677729024,
         5.642043949304118,
         5.770272220879211,
         5.898500492454305,
         6.026728764029398,
         6.154957035604492,
         6.283185307179586
        ]
       },
       "y": {
        "type": "float",
        "values": [
         1,
         0.9917900138232462,
         0.9672948630390295,
         0.9269167573460217,
         0.8713187041233894,
         0.8014136218679567,
         0.7183493500977276,
         0.6234898018587336,
         0.5183925683105252,
         0.404783343122394,
         0.28452758663103267,
         0.15959989503337932,
         0.03205157757165533,
         -0.09602302590768154,
         -0.22252093395631434,
         -0.3453650544213075,
         -0.4625382902408351,
         -0.5721166601221694,
         -0.6723008902613166,
         -0.7614459583691342,
         -0.8380881048918404,
         -0.900968867902419,
         -0.9490557470106686,
         -0.9815591569910653,
         -0.9979453927503363,
         -0.9979453927503363,
         -0.9815591569910654,
         -0.9490557470106689,
         -0.9009688679024191,
         -0.8380881048918408,
         -0.7614459583691346,
         -0.672300890261317,
         -0.57211666012217,
         -0.4625382902408353,
         -0.34536505442130816,
         -0.2225209339563146,
         -0.09602302590768244,
         0.03205157757165486,
         0.1595998950333784,
         0.284527586631032,
         0.40478334312239295,
         0.5183925683105245,
         0.6234898018587334,
         0.718349350097727,
         0.8014136218679565,
         0.871318704123389,
         0.9269167573460216,
         0.9672948630390291,
         0.991790013823246,
         1
        ]
       }
      }
     },
     "b17c8f71e6bd4ee4a6384538cadd45de": {
      "model_module": "bqplot",
      "model_module_version": "^0.3.6",
      "model_name": "LinearScaleModel",
      "state": {
       "allow_padding": false,
       "max": 1,
       "min": 0,
       "stabilized": false
      }
     },
     "b22f7c7e59d747869f532ba253782683": {
      "model_module": "bqplot",
      "model_module_version": "^0.3.6",
      "model_name": "AxisModel",
      "state": {
       "scale": "IPY_MODEL_9d8844dc2fb8417b9fd399b5b850c7d6",
       "side": "bottom",
       "tick_values": {
        "type": null,
        "values": null
       }
      }
     },
     "b24025dc226d47c7b0a1dd27f25985f0": {
      "model_module": "@jupyter-widgets/base",
      "model_module_version": "1.1.0",
      "model_name": "LayoutModel",
      "state": {}
     },
     "b269cdfcfc6f4979afdc3b4994da784f": {
      "model_module": "@jupyter-widgets/controls",
      "model_module_version": "1.3.0",
      "model_name": "LabelModel",
      "state": {
       "layout": "IPY_MODEL_36018512d1eb4b55b6241d5cfe2898d4",
       "style": "IPY_MODEL_012eb722b8b84e32a5a150e226d81fd7",
       "value": "vecchio valore = "
      }
     },
     "b26cc75bc9dc4c93b7539b3a98076596": {
      "model_module": "@jupyter-widgets/controls",
      "model_module_version": "1.3.0",
      "model_name": "VBoxModel",
      "state": {
       "children": [
        "IPY_MODEL_d26b932db3a54b60843a5614ca1dcc9a",
        "IPY_MODEL_0097459d02944bdeb4673bc74256dccf"
       ],
       "layout": "IPY_MODEL_d1aea7cb40de47b7870db2a610713177"
      }
     },
     "b2b03c4f56784d82a998c7a798299912": {
      "model_module": "@jupyter-widgets/base",
      "model_module_version": "1.1.0",
      "model_name": "LayoutModel",
      "state": {}
     },
     "b2e342043c944f829f76d1e8f8dc9b85": {
      "model_module": "@jupyter-widgets/base",
      "model_module_version": "1.1.0",
      "model_name": "LayoutModel",
      "state": {}
     },
     "b308b21c1f3e49c499cafdd349849777": {
      "model_module": "@jupyter-widgets/base",
      "model_module_version": "1.1.0",
      "model_name": "LayoutModel",
      "state": {}
     },
     "b3454d59a0dc406396a7e8d87e37b9a6": {
      "model_module": "@jupyter-widgets/base",
      "model_module_version": "1.1.0",
      "model_name": "LayoutModel",
      "state": {}
     },
     "b3b9144d69074d3f9d0fefd10ce9b52e": {
      "model_module": "@jupyter-widgets/controls",
      "model_module_version": "1.3.0",
      "model_name": "LabelModel",
      "state": {
       "layout": "IPY_MODEL_4a1aeb2e3eab4a78bb04108c32d0e9f6",
       "style": "IPY_MODEL_387b8489d7914ec2ad5c513e8a02b09e",
       "value": "nuovo valore = "
      }
     },
     "b4a8e84f6d504ea58ac9681b0d1c26ba": {
      "model_module": "@jupyter-widgets/controls",
      "model_module_version": "1.3.0",
      "model_name": "VBoxModel",
      "state": {
       "_dom_classes": [
        "widget-interact"
       ],
       "children": [
        "IPY_MODEL_7e3b30f77db3494bb513b91a67788675",
        "IPY_MODEL_3625d49a40e64c0fbebc64286faa16e3"
       ],
       "layout": "IPY_MODEL_a730aa58518549fb819b9b300cd1d72a"
      }
     },
     "b4b100852b774db3b5bd1c8a4621ae34": {
      "model_module": "@jupyter-widgets/controls",
      "model_module_version": "1.3.0",
      "model_name": "SliderStyleModel",
      "state": {
       "description_width": ""
      }
     },
     "b58bbff4825d415ba843c0384d66edd3": {
      "model_module": "@jupyter-widgets/controls",
      "model_module_version": "1.3.0",
      "model_name": "DescriptionStyleModel",
      "state": {
       "description_width": ""
      }
     },
     "b5cae6b7ce5e42fea0401cd0450e9601": {
      "model_module": "bqplot",
      "model_module_version": "^0.3.6",
      "model_name": "LinearScaleModel",
      "state": {
       "allow_padding": false,
       "max": 1,
       "min": 0,
       "stabilized": false
      }
     },
     "b62a941f54884b289f30d43b9faa0a1c": {
      "model_module": "bqplot",
      "model_module_version": "^0.3.6",
      "model_name": "FigureModel",
      "state": {
       "_dom_classes": [],
       "axes": [
        "IPY_MODEL_b7c9474a18964cdd98e935780bd2f138",
        "IPY_MODEL_eb210d523bc0430b804b4d5b21cca3e3"
       ],
       "layout": "IPY_MODEL_5ec4ae0c6e7b430baeea0fb05912042a",
       "marks": [
        "IPY_MODEL_07d84bfe5c9441a68452f153c8636206"
       ],
       "max_aspect_ratio": 6,
       "scale_x": "IPY_MODEL_9f77a9c5b6744b66a237812b295c0276",
       "scale_y": "IPY_MODEL_63f5fbdf7e9f424e8b8344fa6e2b2e42",
       "title": "HBox con slider e bqplot"
      }
     },
     "b63f389aa11246108f11d8a24c18a647": {
      "model_module": "bqplot",
      "model_module_version": "^0.3.6",
      "model_name": "ScatterModel",
      "state": {
       "_model_module": "bqplot",
       "_model_module_version": "^0.3.6",
       "_view_count": null,
       "_view_module": "bqplot",
       "_view_module_version": "^0.3.6",
       "apply_clip": true,
       "color": {
        "type": null,
        "values": null
       },
       "colors": [
        "steelblue"
       ],
       "display_legend": false,
       "enable_hover": true,
       "hovered_style": {},
       "interactions": {
        "hover": "tooltip"
       },
       "labels": [],
       "names": {
        "type": null,
        "values": null
       },
       "opacity": {
        "type": null,
        "values": null
       },
       "preserve_domain": {},
       "rotation": {
        "type": null,
        "values": null
       },
       "scales": {
        "x": "IPY_MODEL_9d8844dc2fb8417b9fd399b5b850c7d6",
        "y": "IPY_MODEL_637fc0c92e2640efa38988fbf591dbaf"
       },
       "scales_metadata": {
        "color": {
         "dimension": "color"
        },
        "opacity": {
         "dimension": "opacity"
        },
        "rotation": {
         "dimension": "rotation"
        },
        "size": {
         "dimension": "size"
        },
        "skew": {
         "dimension": "skew"
        },
        "x": {
         "dimension": "x",
         "orientation": "horizontal"
        },
        "y": {
         "dimension": "y",
         "orientation": "vertical"
        }
       },
       "selected": [],
       "selected_style": {},
       "size": {
        "type": null,
        "values": null
       },
       "skew": {
        "type": null,
        "values": null
       },
       "tooltip": null,
       "tooltip_location": "mouse",
       "tooltip_style": {
        "opacity": 0.9
       },
       "unhovered_style": {},
       "unselected_style": {},
       "visible": true,
       "x": {
        "type": "float",
        "values": [
         1,
         2,
         3,
         4,
         5
        ]
       },
       "y": {
        "type": "float",
        "values": [
         2,
         4,
         8,
         16,
         32
        ]
       }
      }
     },
     "b63f67e6d30d463e9081e3f0c08fb1a7": {
      "model_module": "@jupyter-widgets/output",
      "model_module_version": "1.0.0",
      "model_name": "OutputModel",
      "state": {
       "layout": "IPY_MODEL_82e0059a5fb144d282bd03e139a7f38d"
      }
     },
     "b688d3f667f84fc3b66e9aaa4b9e2fd5": {
      "model_module": "@jupyter-widgets/controls",
      "model_module_version": "1.3.0",
      "model_name": "VBoxModel",
      "state": {
       "_dom_classes": [
        "widget-interact"
       ],
       "children": [
        "IPY_MODEL_9f95872232024c989c5d320556a4f969",
        "IPY_MODEL_2657e8e660b347b78cc7147a0617ddfb"
       ],
       "layout": "IPY_MODEL_e8dab4fa735a40119e934c45e78c015a"
      }
     },
     "b6a1ac85056240d39464d5c22f9351ea": {
      "model_module": "@jupyter-widgets/base",
      "model_module_version": "1.1.0",
      "model_name": "LayoutModel",
      "state": {}
     },
     "b6f7bb8300f8445cbeffc25ad23967c9": {
      "model_module": "bqplot",
      "model_module_version": "^0.3.6",
      "model_name": "LinearScaleModel",
      "state": {
       "allow_padding": false,
       "max": 1,
       "min": 0,
       "stabilized": false
      }
     },
     "b734543fec5f451885de77c82a9dfc40": {
      "model_module": "@jupyter-widgets/base",
      "model_module_version": "1.1.0",
      "model_name": "LayoutModel",
      "state": {}
     },
     "b75e290a48354ea58d4b99deb39bc18e": {
      "model_module": "@jupyter-widgets/base",
      "model_module_version": "1.1.0",
      "model_name": "LayoutModel",
      "state": {
       "min_width": "125px"
      }
     },
     "b7c9474a18964cdd98e935780bd2f138": {
      "model_module": "bqplot",
      "model_module_version": "^0.3.6",
      "model_name": "AxisModel",
      "state": {
       "scale": "IPY_MODEL_9b152be0d2a24ab4aad63a483741384c",
       "side": "bottom",
       "tick_values": {
        "type": null,
        "values": null
       }
      }
     },
     "b83c61fe6df741a6be81c1e62733ee78": {
      "model_module": "@jupyter-widgets/base",
      "model_module_version": "1.1.0",
      "model_name": "LayoutModel",
      "state": {}
     },
     "b910958ec614420a9f6b64756280fc46": {
      "model_module": "@jupyter-widgets/base",
      "model_module_version": "1.1.0",
      "model_name": "LayoutModel",
      "state": {}
     },
     "b93a3015b1a245fa9c2a70fa4f5465e6": {
      "model_module": "@jupyter-widgets/controls",
      "model_module_version": "1.3.0",
      "model_name": "SliderStyleModel",
      "state": {
       "description_width": ""
      }
     },
     "b9753361d37a486499e772d9e3f97d56": {
      "model_module": "@jupyter-widgets/controls",
      "model_module_version": "1.3.0",
      "model_name": "FloatSliderModel",
      "state": {
       "description": "k",
       "layout": "IPY_MODEL_0f0f3c7dfe2c4be6ba5a98082cfd5987",
       "max": 3,
       "min": -1,
       "step": 0.1,
       "style": "IPY_MODEL_696341d2abba459bb4e2c458dd41f0f5",
       "value": 1
      }
     },
     "b9acde5add724dd59d616d4711a95539": {
      "model_module": "@jupyter-widgets/controls",
      "model_module_version": "1.3.0",
      "model_name": "ButtonModel",
      "state": {
       "description": "hello",
       "layout": "IPY_MODEL_06499c3a075346ef97266aae72518244",
       "style": "IPY_MODEL_5b5118f8f1c84fe5a17eaf1fbcbbe9c2"
      }
     },
     "b9afa90862d548e59d06adb5a519bd03": {
      "model_module": "bqplot",
      "model_module_version": "^0.3.6",
      "model_name": "LinearScaleModel",
      "state": {
       "allow_padding": false,
       "max": 1,
       "min": 0,
       "stabilized": false
      }
     },
     "b9d4b947a24842309f4796c5fdd5cf0f": {
      "model_module": "bqplot",
      "model_module_version": "^0.3.6",
      "model_name": "LinearScaleModel",
      "state": {
       "allow_padding": false,
       "max": 1,
       "min": 0,
       "stabilized": false
      }
     },
     "ba093668b373478791f327f941b2ea70": {
      "model_module": "@jupyter-widgets/base",
      "model_module_version": "1.1.0",
      "model_name": "LayoutModel",
      "state": {}
     },
     "ba65af7384bb4a26a1ac462ff8379e84": {
      "model_module": "bqplot",
      "model_module_version": "^0.3.6",
      "model_name": "AxisModel",
      "state": {
       "scale": "IPY_MODEL_cb8d9a15f75147ae8884d9ff170f691c",
       "side": "bottom",
       "tick_values": {
        "type": null,
        "values": null
       }
      }
     },
     "ba9d682479104f979d31b150e23712ed": {
      "model_module": "@jupyter-widgets/controls",
      "model_module_version": "1.3.0",
      "model_name": "VBoxModel",
      "state": {
       "children": [
        "IPY_MODEL_21388bb3144f4e25a767907a5315d130",
        "IPY_MODEL_76e89b4f97684c4d85d284e2f4b83391"
       ],
       "layout": "IPY_MODEL_9da8d6438af84c01bdf22bceb5d7741c"
      }
     },
     "baa804b3e2144397abc485f383964290": {
      "model_module": "@jupyter-widgets/controls",
      "model_module_version": "1.3.0",
      "model_name": "ButtonStyleModel",
      "state": {}
     },
     "baf98ed824af4211a76a398cc66a2e4a": {
      "model_module": "@jupyter-widgets/base",
      "model_module_version": "1.1.0",
      "model_name": "LayoutModel",
      "state": {}
     },
     "bb221902303e402d84225051685fb3e3": {
      "model_module": "bqplot",
      "model_module_version": "^0.3.6",
      "model_name": "FigureModel",
      "state": {
       "_dom_classes": [],
       "axes": [
        "IPY_MODEL_4cc9dca1425348d7883b3c961f0bca2a",
        "IPY_MODEL_22ae026515df40efac4badf73f198a31"
       ],
       "layout": "IPY_MODEL_eb66fb4a5ce44edea3679a479df2afe5",
       "marks": [
        "IPY_MODEL_139085016b95409a9b2ed6b017dad388"
       ],
       "max_aspect_ratio": 6,
       "scale_x": "IPY_MODEL_b6f7bb8300f8445cbeffc25ad23967c9",
       "scale_y": "IPY_MODEL_b17c8f71e6bd4ee4a6384538cadd45de",
       "title": "HBox con slider e bqplot"
      }
     },
     "bb4103e061334f35abd13be9217616b6": {
      "model_module": "@jupyter-widgets/controls",
      "model_module_version": "1.3.0",
      "model_name": "VBoxModel",
      "state": {
       "_dom_classes": [
        "widget-interact"
       ],
       "children": [
        "IPY_MODEL_6ac7a5837ea94edfa6cc63315f9fda31",
        "IPY_MODEL_d94e4090af3741089d885ea312e710a9"
       ],
       "layout": "IPY_MODEL_1ac43653a0394e40827e34a2723664f1"
      }
     },
     "bb7d876651a1461fbfac188e79e9d562": {
      "model_module": "@jupyter-widgets/controls",
      "model_module_version": "1.3.0",
      "model_name": "SliderStyleModel",
      "state": {
       "description_width": ""
      }
     },
     "bb7e6c8d8bd04b9aad774b0f4334a94c": {
      "model_module": "@jupyter-widgets/controls",
      "model_module_version": "1.3.0",
      "model_name": "SliderStyleModel",
      "state": {
       "description_width": ""
      }
     },
     "bbc46963a9a34cebbabe5ea84c6a5bc9": {
      "model_module": "@jupyter-widgets/base",
      "model_module_version": "1.1.0",
      "model_name": "LayoutModel",
      "state": {}
     },
     "bbed83e691a142be8dcde65817eddff7": {
      "model_module": "@jupyter-widgets/base",
      "model_module_version": "1.1.0",
      "model_name": "LayoutModel",
      "state": {}
     },
     "bc2dfbceab5e4c4d84bbf27be995f63b": {
      "model_module": "@jupyter-widgets/controls",
      "model_module_version": "1.3.0",
      "model_name": "VBoxModel",
      "state": {
       "_dom_classes": [
        "widget-interact"
       ],
       "children": [
        "IPY_MODEL_5262527dd65b42bca1aa032d77ff0d03",
        "IPY_MODEL_6712c04762dd4947a446211d9a1163ce"
       ],
       "layout": "IPY_MODEL_b07235ddcaef44c492c184ef967ec242"
      }
     },
     "bc78df4263504d53a4c5e38b474d3d44": {
      "model_module": "@jupyter-widgets/controls",
      "model_module_version": "1.3.0",
      "model_name": "IntTextModel",
      "state": {
       "description": "testo delayed",
       "layout": "IPY_MODEL_dd875361d6eb4c088ca33214886e279a",
       "step": 1,
       "style": "IPY_MODEL_f6e789ed4d4843139274dc2a43cf2bb8"
      }
     },
     "bd58ad168034498c9e667dad7d116d99": {
      "model_module": "@jupyter-widgets/base",
      "model_module_version": "1.1.0",
      "model_name": "LayoutModel",
      "state": {}
     },
     "bda26991053349e7b308094b7bf5f289": {
      "model_module": "@jupyter-widgets/base",
      "model_module_version": "1.1.0",
      "model_name": "LayoutModel",
      "state": {}
     },
     "bdf630aa300e470eb7a74e84f21d9798": {
      "model_module": "@jupyter-widgets/controls",
      "model_module_version": "1.3.0",
      "model_name": "DescriptionStyleModel",
      "state": {
       "description_width": ""
      }
     },
     "bdf86c09dc924e6fb2eb866806bf5b5b": {
      "model_module": "@jupyter-widgets/controls",
      "model_module_version": "1.3.0",
      "model_name": "VBoxModel",
      "state": {
       "children": [
        "IPY_MODEL_38ea3ea8d0fd4af2a873a747a56cec43",
        "IPY_MODEL_90a93af3e1714fcab72de87fe607646c"
       ],
       "layout": "IPY_MODEL_443cf9ae0cb84fcd9b78f32ff6dae209"
      }
     },
     "be33c9a401624e03b8b00040be56fefc": {
      "model_module": "@jupyter-widgets/controls",
      "model_module_version": "1.3.0",
      "model_name": "SliderStyleModel",
      "state": {
       "description_width": ""
      }
     },
     "be749a2abd9c470c84db34e9d30b9fd1": {
      "model_module": "@jupyter-widgets/base",
      "model_module_version": "1.1.0",
      "model_name": "LayoutModel",
      "state": {}
     },
     "bef51a7113494089886713b1137c17d1": {
      "model_module": "@jupyter-widgets/controls",
      "model_module_version": "1.3.0",
      "model_name": "VBoxModel",
      "state": {
       "children": [
        "IPY_MODEL_259b8d131435488f89e80914e02bb48a",
        "IPY_MODEL_e7c121172373436e80b8c66596be3678"
       ],
       "layout": "IPY_MODEL_a10fa12a2cad4eacaa3a75b4eb2dad95"
      }
     },
     "bf46076efbed4ff3a9ac7c7014eea7e6": {
      "model_module": "bqplot",
      "model_module_version": "^0.3.6",
      "model_name": "LinearScaleModel",
      "state": {
       "stabilized": false
      }
     },
     "bfcf232779294b5fb6aa152b8f9051ff": {
      "model_module": "bqplot",
      "model_module_version": "^0.3.6",
      "model_name": "LinearScaleModel",
      "state": {
       "allow_padding": false,
       "max": 1,
       "min": 0,
       "stabilized": false
      }
     },
     "c058ad1ca5b54879ad6a531ac309da2d": {
      "model_module": "@jupyter-widgets/controls",
      "model_module_version": "1.3.0",
      "model_name": "SliderStyleModel",
      "state": {
       "description_width": ""
      }
     },
     "c05bb2e4ebcf48429197ba8a2a296efe": {
      "model_module": "@jupyter-widgets/controls",
      "model_module_version": "1.3.0",
      "model_name": "VBoxModel",
      "state": {
       "children": [
        "IPY_MODEL_5c9c926ebaaf47fb8f0df39f1e495f03",
        "IPY_MODEL_2ac0d04713654caea5742a003a6a9ea3"
       ],
       "layout": "IPY_MODEL_96fde2c0b156459cb742d6c36f1628fa"
      }
     },
     "c0b5089ae2d74eeeaabf174856b8876c": {
      "model_module": "@jupyter-widgets/base",
      "model_module_version": "1.1.0",
      "model_name": "LayoutModel",
      "state": {}
     },
     "c0bd131e42744f1295ce78560aa829c4": {
      "model_module": "@jupyter-widgets/base",
      "model_module_version": "1.1.0",
      "model_name": "LayoutModel",
      "state": {}
     },
     "c0ee01a1a39c47a7a99178e8768d5d6d": {
      "model_module": "@jupyter-widgets/controls",
      "model_module_version": "1.3.0",
      "model_name": "SliderStyleModel",
      "state": {
       "description_width": ""
      }
     },
     "c1394a1682a246ca9bc91f1d48b496c5": {
      "model_module": "bqplot",
      "model_module_version": "^0.3.6",
      "model_name": "LinearScaleModel",
      "state": {
       "allow_padding": false,
       "max": 1,
       "min": 0,
       "stabilized": false
      }
     },
     "c171aa97307448d186e5c1b2c58580bc": {
      "model_module": "@jupyter-widgets/controls",
      "model_module_version": "1.3.0",
      "model_name": "DescriptionStyleModel",
      "state": {
       "description_width": ""
      }
     },
     "c1d2d5ac0ecf42f28358de2e7fe1539c": {
      "model_module": "@jupyter-widgets/controls",
      "model_module_version": "1.3.0",
      "model_name": "SliderStyleModel",
      "state": {
       "description_width": ""
      }
     },
     "c26650b4d8024855a928a69d7f779092": {
      "model_module": "@jupyter-widgets/controls",
      "model_module_version": "1.3.0",
      "model_name": "LabelModel",
      "state": {
       "layout": "IPY_MODEL_8558863e79984de2a082df18af3db3f7",
       "style": "IPY_MODEL_c171aa97307448d186e5c1b2c58580bc",
       "value": "vecchio valore = "
      }
     },
     "c2787b3cc86444598021b42200ec5e4b": {
      "model_module": "@jupyter-widgets/controls",
      "model_module_version": "1.3.0",
      "model_name": "SelectMultipleModel",
      "state": {
       "_options_labels": [
        "Apples",
        "Oranges",
        "Pears"
       ],
       "description": "Fruits",
       "index": [
        1
       ],
       "layout": "IPY_MODEL_aeb9a965c2654b459e2ce662279b2625",
       "rows": 5,
       "style": "IPY_MODEL_d87015cbc7a7496b8825422b3eb3b818"
      }
     },
     "c2897e855a3f41a487b4d3151d673ddd": {
      "model_module": "@jupyter-widgets/controls",
      "model_module_version": "1.3.0",
      "model_name": "VBoxModel",
      "state": {
       "_dom_classes": [
        "widget-interact"
       ],
       "children": [
        "IPY_MODEL_4bf90f1b5c0e4d22bce909732ad8a674",
        "IPY_MODEL_520f5632cf7446f1b613cd55e7c7fae9"
       ],
       "layout": "IPY_MODEL_81acb8cfd3c3430a82b3c6dbc4277c03"
      }
     },
     "c2a7f040fb6947b7bdc086ca6311ca23": {
      "model_module": "@jupyter-widgets/base",
      "model_module_version": "1.1.0",
      "model_name": "LayoutModel",
      "state": {}
     },
     "c2b019a569414376a0c8fc877f119274": {
      "model_module": "@jupyter-widgets/base",
      "model_module_version": "1.1.0",
      "model_name": "LayoutModel",
      "state": {
       "min_width": "125px"
      }
     },
     "c2b9b6fcdf0e42be999742feceb60ef9": {
      "model_module": "@jupyter-widgets/controls",
      "model_module_version": "1.3.0",
      "model_name": "SliderStyleModel",
      "state": {
       "description_width": ""
      }
     },
     "c2eb97d25e0f4ba1816ee772ca7922f0": {
      "model_module": "@jupyter-widgets/controls",
      "model_module_version": "1.3.0",
      "model_name": "IntSliderModel",
      "state": {
       "layout": "IPY_MODEL_49c2b1371566409a8eac8c882362d628",
       "style": "IPY_MODEL_f4888cbc614147b59aeeebc9fef9db01"
      }
     },
     "c31e218c3d7c4f18baae93d416392f67": {
      "model_module": "@jupyter-widgets/controls",
      "model_module_version": "1.3.0",
      "model_name": "HBoxModel",
      "state": {
       "children": [
        "IPY_MODEL_9f88517d27d3463ab23f8a4424c518f1",
        "IPY_MODEL_b9acde5add724dd59d616d4711a95539"
       ],
       "layout": "IPY_MODEL_d86f33a1121b4d2da33134b10247a51a"
      }
     },
     "c342661359bb46c18004d372694221c6": {
      "model_module": "@jupyter-widgets/base",
      "model_module_version": "1.1.0",
      "model_name": "LayoutModel",
      "state": {}
     },
     "c399193a06d14a0cac36955f1506f0c4": {
      "model_module": "bqplot",
      "model_module_version": "^0.3.6",
      "model_name": "LinearScaleModel",
      "state": {
       "allow_padding": false,
       "max": 1,
       "min": 0,
       "stabilized": false
      }
     },
     "c3a26606e55e497a8d43e1ce76a81779": {
      "model_module": "@jupyter-widgets/base",
      "model_module_version": "1.1.0",
      "model_name": "LayoutModel",
      "state": {}
     },
     "c4172a2f3758442da1ab9b748897817b": {
      "model_module": "@jupyter-widgets/controls",
      "model_module_version": "1.3.0",
      "model_name": "SliderStyleModel",
      "state": {
       "description_width": ""
      }
     },
     "c44149e3621741e98ace7619d21a9490": {
      "model_module": "@jupyter-widgets/base",
      "model_module_version": "1.1.0",
      "model_name": "LayoutModel",
      "state": {
       "min_width": "125px"
      }
     },
     "c462a5897829449f8b3206dd8f4c5903": {
      "model_module": "@jupyter-widgets/base",
      "model_module_version": "1.1.0",
      "model_name": "LayoutModel",
      "state": {}
     },
     "c628f2e72942428790b57be8ba63f3ed": {
      "model_module": "@jupyter-widgets/base",
      "model_module_version": "1.1.0",
      "model_name": "LayoutModel",
      "state": {}
     },
     "c648efb85662494c9ca07683db223313": {
      "model_module": "@jupyter-widgets/output",
      "model_module_version": "1.0.0",
      "model_name": "OutputModel",
      "state": {
       "layout": "IPY_MODEL_c628f2e72942428790b57be8ba63f3ed",
       "outputs": [
        {
         "name": "stdout",
         "output_type": "stream",
         "text": "il doppio è 6\n"
        }
       ]
      }
     },
     "c6618805bfa3483293ece8b1f7bd17d2": {
      "model_module": "@jupyter-widgets/base",
      "model_module_version": "1.1.0",
      "model_name": "LayoutModel",
      "state": {}
     },
     "c6707d0e2a014ab69255b716a11407c1": {
      "model_module": "@jupyter-widgets/base",
      "model_module_version": "1.1.0",
      "model_name": "LayoutModel",
      "state": {}
     },
     "c6da23c783444cf1bfd3743297b600a7": {
      "model_module": "@jupyter-widgets/base",
      "model_module_version": "1.1.0",
      "model_name": "LayoutModel",
      "state": {}
     },
     "c6f5b77a4e9f48d28989f1922d549d6f": {
      "model_module": "@jupyter-widgets/base",
      "model_module_version": "1.1.0",
      "model_name": "LayoutModel",
      "state": {}
     },
     "c719bc2dae2e4f56a860960ff43f01ce": {
      "model_module": "bqplot",
      "model_module_version": "^0.3.6",
      "model_name": "LinearScaleModel",
      "state": {
       "stabilized": false
      }
     },
     "c8f2c4e04ae4447e925384203fe5f28d": {
      "model_module": "@jupyter-widgets/base",
      "model_module_version": "1.1.0",
      "model_name": "LayoutModel",
      "state": {
       "height": "80px",
       "width": "50%"
      }
     },
     "c8fa4535bd9641019d0527b2e874f694": {
      "model_module": "@jupyter-widgets/base",
      "model_module_version": "1.1.0",
      "model_name": "LayoutModel",
      "state": {
       "min_width": "125px"
      }
     },
     "c95a8424748b4f81aac2a44d3c6dec1a": {
      "model_module": "@jupyter-widgets/controls",
      "model_module_version": "1.3.0",
      "model_name": "VBoxModel",
      "state": {
       "_dom_classes": [
        "widget-interact"
       ],
       "children": [
        "IPY_MODEL_40724dc7b5a549ceb8e430005f10dad5",
        "IPY_MODEL_e8efe36facde476980a6bce33fb3f78c"
       ],
       "layout": "IPY_MODEL_56c8c902b49b437e9019f9ae49fcaaf2"
      }
     },
     "c9c376f471f54441a80ca1f42a60479d": {
      "model_module": "@jupyter-widgets/base",
      "model_module_version": "1.1.0",
      "model_name": "LayoutModel",
      "state": {}
     },
     "cae6df0175174cbc99ecd13938799974": {
      "model_module": "@jupyter-widgets/controls",
      "model_module_version": "1.3.0",
      "model_name": "LabelModel",
      "state": {
       "layout": "IPY_MODEL_47b05cf3350144cba081931cd0580477",
       "style": "IPY_MODEL_061df5c6ada348bbbc0dfa75e9f6cc40",
       "value": "nuovo valore = "
      }
     },
     "caf4da7ed49e44b69f20ec5cd9d261e9": {
      "model_module": "@jupyter-widgets/controls",
      "model_module_version": "1.3.0",
      "model_name": "IntTextModel",
      "state": {
       "continuous_update": true,
       "description": "testo con",
       "layout": "IPY_MODEL_4d2f5325ad134fcd90cd5abe0fe975da",
       "step": 1,
       "style": "IPY_MODEL_dbc0f83fec6147c382774d88ea9e6cb0"
      }
     },
     "cb1dc9b5a9054299aac7faf89af0d702": {
      "model_module": "@jupyter-widgets/controls",
      "model_module_version": "1.3.0",
      "model_name": "FloatSliderModel",
      "state": {
       "description": "k",
       "layout": "IPY_MODEL_657547bf94ae4b8daed6ae07cc6d01bc",
       "max": 3,
       "min": -1,
       "step": 0.1,
       "style": "IPY_MODEL_5afe88b53f86424289bda8837cef4fba",
       "value": 1
      }
     },
     "cb8d9a15f75147ae8884d9ff170f691c": {
      "model_module": "bqplot",
      "model_module_version": "^0.3.6",
      "model_name": "LinearScaleModel",
      "state": {
       "stabilized": false
      }
     },
     "cc59b7248f8c4dad9164e54999d72eb6": {
      "model_module": "@jupyter-widgets/base",
      "model_module_version": "1.1.0",
      "model_name": "LayoutModel",
      "state": {}
     },
     "cc82ecb1d8af41b8a5f35d6d514b56e6": {
      "model_module": "@jupyter-widgets/base",
      "model_module_version": "1.1.0",
      "model_name": "LayoutModel",
      "state": {
       "min_width": "125px"
      }
     },
     "cc879cb4320b44e1a8736b66b44dde21": {
      "model_module": "@jupyter-widgets/controls",
      "model_module_version": "1.3.0",
      "model_name": "VBoxModel",
      "state": {
       "_dom_classes": [
        "widget-interact"
       ],
       "children": [
        "IPY_MODEL_7156fbbd623c466cb4df95f6738dbe73",
        "IPY_MODEL_07bc602c4a464a5fbc5ff8b5139cf54a"
       ],
       "layout": "IPY_MODEL_a774a9a6126245c28f465a5bdbadfef7"
      }
     },
     "cee7a81d22494ed69f98cea49a36a009": {
      "model_module": "@jupyter-widgets/base",
      "model_module_version": "1.1.0",
      "model_name": "LayoutModel",
      "state": {}
     },
     "ceec6b6822bc4849ba0b517753480b88": {
      "model_module": "bqplot",
      "model_module_version": "^0.3.6",
      "model_name": "LinearScaleModel",
      "state": {
       "stabilized": false
      }
     },
     "cf88dab66d124c31af00f9582200a6c3": {
      "model_module": "@jupyter-widgets/controls",
      "model_module_version": "1.3.0",
      "model_name": "IntSliderModel",
      "state": {
       "layout": "IPY_MODEL_1dc27d628bc248eca7deac7966ac5411",
       "style": "IPY_MODEL_35525fb3836f4ad9bdd8ce0b06b12498"
      }
     },
     "cfa90a97b7b94e3b8c373e5ee093851c": {
      "model_module": "@jupyter-widgets/base",
      "model_module_version": "1.1.0",
      "model_name": "LayoutModel",
      "state": {}
     },
     "d0da328d888c4ba58f01876e72513826": {
      "model_module": "bqplot",
      "model_module_version": "^0.3.6",
      "model_name": "ToolbarModel",
      "state": {
       "figure": "IPY_MODEL_832ed41eba1a4128bdd8bb60ebe4b670",
       "layout": "IPY_MODEL_b308b21c1f3e49c499cafdd349849777"
      }
     },
     "d0f0aa11835b4868a028b718f78b4688": {
      "model_module": "@jupyter-widgets/controls",
      "model_module_version": "1.3.0",
      "model_name": "VBoxModel",
      "state": {
       "children": [
        "IPY_MODEL_a93a8b21c8b348c4b138b0bbb5cfa8e3",
        "IPY_MODEL_55d1f6990c824510a171602813dc267b"
       ],
       "layout": "IPY_MODEL_2c003172ea1d4cfa989ae6fdc02b9ab8"
      }
     },
     "d14fa18756f6447cba859e6856247d7f": {
      "model_module": "@jupyter-widgets/controls",
      "model_module_version": "1.3.0",
      "model_name": "ButtonStyleModel",
      "state": {}
     },
     "d17c9195ec96402f9e3308c621a115f3": {
      "model_module": "@jupyter-widgets/base",
      "model_module_version": "1.1.0",
      "model_name": "LayoutModel",
      "state": {}
     },
     "d1aea7cb40de47b7870db2a610713177": {
      "model_module": "@jupyter-widgets/base",
      "model_module_version": "1.1.0",
      "model_name": "LayoutModel",
      "state": {}
     },
     "d26b932db3a54b60843a5614ca1dcc9a": {
      "model_module": "@jupyter-widgets/controls",
      "model_module_version": "1.3.0",
      "model_name": "ButtonModel",
      "state": {
       "description": "alto a destra",
       "layout": "IPY_MODEL_38e01e00fcb24b2b935f0014796acc6c",
       "style": "IPY_MODEL_5cf492cabf8648c69fcc789b076afb04"
      }
     },
     "d2a9e461e7bf443d9ee3b89063fd6b27": {
      "model_module": "@jupyter-widgets/output",
      "model_module_version": "1.0.0",
      "model_name": "OutputModel",
      "state": {
       "layout": "IPY_MODEL_b910958ec614420a9f6b64756280fc46",
       "outputs": [
        {
         "name": "stdout",
         "output_type": "stream",
         "text": "Il numero è 10\n"
        }
       ]
      }
     },
     "d2ea1367f669483ea7ffaf13834a5e53": {
      "model_module": "@jupyter-widgets/controls",
      "model_module_version": "1.3.0",
      "model_name": "HBoxModel",
      "state": {
       "children": [
        "IPY_MODEL_183ed7c6733e49b1a3069f9497cc9d6e",
        "IPY_MODEL_2c5a39ef023e44f686015110bf437270"
       ],
       "layout": "IPY_MODEL_81a5fe21b7d7467a9f77312200789e14"
      }
     },
     "d486c6bf41614022bfab6c90a1ff1bfc": {
      "model_module": "@jupyter-widgets/base",
      "model_module_version": "1.1.0",
      "model_name": "LayoutModel",
      "state": {}
     },
     "d49705f317134de4a6a9e0140aabec80": {
      "model_module": "@jupyter-widgets/base",
      "model_module_version": "1.1.0",
      "model_name": "LayoutModel",
      "state": {}
     },
     "d5044196fa1940658f5f4d0626a3fbf3": {
      "model_module": "@jupyter-widgets/controls",
      "model_module_version": "1.3.0",
      "model_name": "IntSliderModel",
      "state": {
       "layout": "IPY_MODEL_c6f5b77a4e9f48d28989f1922d549d6f",
       "style": "IPY_MODEL_fffdb598f89d42168f4dfe8be973e55b"
      }
     },
     "d50de140af3b46e68f143f0b573eeb6f": {
      "model_module": "@jupyter-widgets/controls",
      "model_module_version": "1.3.0",
      "model_name": "VBoxModel",
      "state": {
       "_dom_classes": [
        "widget-interact"
       ],
       "children": [
        "IPY_MODEL_0a2baea371954db78bbbc8daad6b2742",
        "IPY_MODEL_e93a210a055645f0b3c4a8b070898de5"
       ],
       "layout": "IPY_MODEL_3f69135dcc244fb28fc0fbd1c96e0446"
      }
     },
     "d52434e21ec141fd9a215964cd7e5c0d": {
      "model_module": "@jupyter-widgets/controls",
      "model_module_version": "1.3.0",
      "model_name": "IntSliderModel",
      "state": {
       "layout": "IPY_MODEL_07cce433834a4c9e930bb0b49d8d38a6",
       "max": 200,
       "style": "IPY_MODEL_43a8906ced2947969609fe680bfe1ba6"
      }
     },
     "d5277a24a07f4b888b302ae38e36312d": {
      "model_module": "@jupyter-widgets/controls",
      "model_module_version": "1.3.0",
      "model_name": "BoxModel",
      "state": {
       "children": [
        "IPY_MODEL_7aaad6bd74a240e5b2e61d5866857ef2",
        "IPY_MODEL_e5c30364a70a4e31830db808635fc9b0"
       ],
       "layout": "IPY_MODEL_9387aabe5c1d48259f4fcd30b9a1b670"
      }
     },
     "d5519e2539c74033bed8451078f2c9ff": {
      "model_module": "@jupyter-widgets/controls",
      "model_module_version": "1.3.0",
      "model_name": "SelectMultipleModel",
      "state": {
       "_options_labels": [
        "Apples",
        "Oranges",
        "Pears"
       ],
       "description": "Fruits",
       "index": [
        1
       ],
       "layout": "IPY_MODEL_7b6065dcd00f4059aaa33a59611e89ee",
       "rows": 5,
       "style": "IPY_MODEL_a2fbd623d41a4887b0b5af34acb56570"
      }
     },
     "d56f1fba786d4eedb4d946e2baf3d1f0": {
      "model_module": "@jupyter-widgets/controls",
      "model_module_version": "1.3.0",
      "model_name": "FloatSliderModel",
      "state": {
       "description": "k",
       "layout": "IPY_MODEL_8a8018be3a5543c3ac00c3313bfdd25a",
       "max": 3,
       "min": -1,
       "step": 0.1,
       "style": "IPY_MODEL_21d66f0276af470b9242962058853a6e",
       "value": 1
      }
     },
     "d59f4e5b0e6248cd94acd3096956bed0": {
      "model_module": "@jupyter-widgets/controls",
      "model_module_version": "1.3.0",
      "model_name": "IntSliderModel",
      "state": {
       "layout": "IPY_MODEL_b2b03c4f56784d82a998c7a798299912",
       "style": "IPY_MODEL_7c95ef1481454d0dab6df6e573e2741b"
      }
     },
     "d5cc30ea6a7e4c2d86ee5d573b67d483": {
      "model_module": "bqplot",
      "model_module_version": "^0.3.6",
      "model_name": "LinearScaleModel",
      "state": {
       "allow_padding": false,
       "max": 1,
       "min": 0,
       "stabilized": false
      }
     },
     "d60b2e4de77742a1b9fdcacaf23f9259": {
      "model_module": "@jupyter-widgets/base",
      "model_module_version": "1.1.0",
      "model_name": "LayoutModel",
      "state": {}
     },
     "d643c89a9a244ab8afeac0d33a7ded4e": {
      "model_module": "@jupyter-widgets/base",
      "model_module_version": "1.1.0",
      "model_name": "LayoutModel",
      "state": {}
     },
     "d6715899be1f4d7b8cd6196c789b8db8": {
      "model_module": "@jupyter-widgets/controls",
      "model_module_version": "1.3.0",
      "model_name": "SliderStyleModel",
      "state": {
       "description_width": ""
      }
     },
     "d75c81e49f5049d8afcb422d2b966a25": {
      "model_module": "@jupyter-widgets/base",
      "model_module_version": "1.1.0",
      "model_name": "LayoutModel",
      "state": {}
     },
     "d774a96455524d7fb6d29fbca0b250fa": {
      "model_module": "@jupyter-widgets/output",
      "model_module_version": "1.0.0",
      "model_name": "OutputModel",
      "state": {
       "layout": "IPY_MODEL_6f96252b6146498d99e5c8cdf28f92d4"
      }
     },
     "d7f3a5c4b1064751acfadd5203c73b49": {
      "model_module": "bqplot",
      "model_module_version": "^0.3.6",
      "model_name": "LinearScaleModel",
      "state": {
       "stabilized": false
      }
     },
     "d7faa3ba49cf47d198184120fe24486b": {
      "model_module": "@jupyter-widgets/base",
      "model_module_version": "1.1.0",
      "model_name": "LayoutModel",
      "state": {}
     },
     "d86f33a1121b4d2da33134b10247a51a": {
      "model_module": "@jupyter-widgets/base",
      "model_module_version": "1.1.0",
      "model_name": "LayoutModel",
      "state": {}
     },
     "d87015cbc7a7496b8825422b3eb3b818": {
      "model_module": "@jupyter-widgets/controls",
      "model_module_version": "1.3.0",
      "model_name": "DescriptionStyleModel",
      "state": {
       "description_width": ""
      }
     },
     "d8d8211a39b644948196fe51af75c5cb": {
      "model_module": "@jupyter-widgets/controls",
      "model_module_version": "1.3.0",
      "model_name": "IntSliderModel",
      "state": {
       "description": "k",
       "layout": "IPY_MODEL_19c88a1d520e41d29ae606c040d302ee",
       "max": 30,
       "min": -10,
       "style": "IPY_MODEL_abd9dc4595ba474c810970f7f465e2d3",
       "value": 10
      }
     },
     "d8e7ea6010b44213a7b8bd120fdb1ad7": {
      "model_module": "bqplot",
      "model_module_version": "^0.3.6",
      "model_name": "FigureModel",
      "state": {
       "_dom_classes": [],
       "axes": [
        "IPY_MODEL_880aa7c0e0334efd96811b79b7bb6b2c",
        "IPY_MODEL_b22f7c7e59d747869f532ba253782683"
       ],
       "layout": "IPY_MODEL_7245ed5b7391434bb0568956c6e15aca",
       "marks": [
        "IPY_MODEL_b63f389aa11246108f11d8a24c18a647"
       ],
       "max_aspect_ratio": 6,
       "scale_x": "IPY_MODEL_0a520f5e05e54e9eae376fb7962b7616",
       "scale_y": "IPY_MODEL_986cf4b0bbeb47a783a7c0cbb37c8d81",
       "title": "Grafico in bqplot"
      }
     },
     "d94e4090af3741089d885ea312e710a9": {
      "model_module": "@jupyter-widgets/output",
      "model_module_version": "1.0.0",
      "model_name": "OutputModel",
      "state": {
       "layout": "IPY_MODEL_2addf9f1a5f94d5bb6bbed1fb503c38e",
       "outputs": [
        {
         "name": "stdout",
         "output_type": "stream",
         "text": "spuntata\n"
        }
       ]
      }
     },
     "da0a6e280c764431b5ad4a96f8a42429": {
      "model_module": "@jupyter-widgets/controls",
      "model_module_version": "1.3.0",
      "model_name": "ButtonStyleModel",
      "state": {}
     },
     "da63918fe9c34336a979dcf597bcb369": {
      "model_module": "@jupyter-widgets/controls",
      "model_module_version": "1.3.0",
      "model_name": "FloatSliderModel",
      "state": {
       "layout": "IPY_MODEL_1f5a331cf32c45e1b0e573e669c92a29",
       "max": 10000,
       "step": 0.1,
       "style": "IPY_MODEL_e17f40f820ba47b09362ca86c600ae6f"
      }
     },
     "da6b0a45448541c3877c824e8c789d20": {
      "model_module": "@jupyter-widgets/controls",
      "model_module_version": "1.3.0",
      "model_name": "VBoxModel",
      "state": {
       "_dom_classes": [
        "widget-interact"
       ],
       "children": [
        "IPY_MODEL_ddd99e9aa6f141dda5d451474be8033c",
        "IPY_MODEL_365b801162044347ab31090602c0e2e7"
       ],
       "layout": "IPY_MODEL_e6781f27715d46d9b3aadc182ea0b2b5"
      }
     },
     "daef00fe781643e9a017bf528949ac32": {
      "model_module": "@jupyter-widgets/output",
      "model_module_version": "1.0.0",
      "model_name": "OutputModel",
      "state": {
       "layout": "IPY_MODEL_635a536db1734a2c9c4107eb4a2bdd91",
       "outputs": [
        {
         "name": "stdout",
         "output_type": "stream",
         "text": "medio\nspuntata\n"
        }
       ]
      }
     },
     "db00140ba1b440ecbb3e1612ff5e7aeb": {
      "model_module": "@jupyter-widgets/base",
      "model_module_version": "1.1.0",
      "model_name": "LayoutModel",
      "state": {}
     },
     "db344dd2ff1842c5a8d1d02307fff007": {
      "model_module": "@jupyter-widgets/controls",
      "model_module_version": "1.3.0",
      "model_name": "ButtonModel",
      "state": {
       "description": "alto a sinistra",
       "layout": "IPY_MODEL_bbc46963a9a34cebbabe5ea84c6a5bc9",
       "style": "IPY_MODEL_73bf0aac7f9c4f06b0a60d43e74926eb"
      }
     },
     "db4971d4ee134c65b72010f1a8423810": {
      "model_module": "@jupyter-widgets/base",
      "model_module_version": "1.1.0",
      "model_name": "LayoutModel",
      "state": {}
     },
     "db599ee54aeb438ab4e55b16a6a805ec": {
      "model_module": "@jupyter-widgets/controls",
      "model_module_version": "1.3.0",
      "model_name": "ButtonModel",
      "state": {
       "description": "basso a sinistra",
       "layout": "IPY_MODEL_790bb467122c406aaeb2e3aa950a3526",
       "style": "IPY_MODEL_da0a6e280c764431b5ad4a96f8a42429"
      }
     },
     "dbacf77df1704989b1d7cdceebe09e9f": {
      "model_module": "@jupyter-widgets/controls",
      "model_module_version": "1.3.0",
      "model_name": "IntSliderModel",
      "state": {
       "description": "ciao",
       "layout": "IPY_MODEL_08ab1ba5230f4ffaabb56a423a073c23",
       "style": "IPY_MODEL_e8de3dd0a8284889ba6b542a1d43f7b9",
       "value": 30
      }
     },
     "dbc0f83fec6147c382774d88ea9e6cb0": {
      "model_module": "@jupyter-widgets/controls",
      "model_module_version": "1.3.0",
      "model_name": "DescriptionStyleModel",
      "state": {
       "description_width": ""
      }
     },
     "dbfcdf4ca1a043c98dd430ed272023fe": {
      "model_module": "@jupyter-widgets/base",
      "model_module_version": "1.1.0",
      "model_name": "LayoutModel",
      "state": {}
     },
     "dc9cb1b52e5446e9ab038fa881577454": {
      "model_module": "@jupyter-widgets/controls",
      "model_module_version": "1.3.0",
      "model_name": "ButtonModel",
      "state": {
       "description": "Bottone con stile applicato ",
       "layout": "IPY_MODEL_4ecd33d03c814ad180de55eb0e744ca9",
       "style": "IPY_MODEL_33f9b3d3a1bf4c16815d199e8e35047f"
      }
     },
     "dcc017d2556445afa1db6145c67735b4": {
      "model_module": "bqplot",
      "model_module_version": "^0.3.6",
      "model_name": "LinesModel",
      "state": {
       "color": {
        "type": null,
        "values": null
       },
       "display_legend": false,
       "fill_colors": [],
       "labels": [
        "C1"
       ],
       "scales": {
        "x": "IPY_MODEL_4e1324a452014c0cbed9093883a7b24a",
        "y": "IPY_MODEL_9df0531fd6464c9999facb286901a989"
       },
       "selected": [],
       "x": {
        "type": "float",
        "values": [
         0,
         0.1282282715750936,
         0.2564565431501872,
         0.38468481472528077,
         0.5129130863003744,
         0.6411413578754679,
         0.7693696294505615,
         0.8975979010256552,
         1.0258261726007487,
         1.1540544441758422,
         1.2822827157509358,
         1.4105109873260295,
         1.538739258901123,
         1.6669675304762166,
         1.7951958020513104,
         1.9234240736264039,
         2.0516523452014974,
         2.179880616776591,
         2.3081088883516845,
         2.436337159926778,
         2.5645654315018716,
         2.6927937030769655,
         2.821021974652059,
         2.9492502462271526,
         3.077478517802246,
         3.2057067893773397,
         3.333935060952433,
         3.4621633325275267,
         3.5903916041026207,
         3.7186198756777142,
         3.8468481472528078,
         3.9750764188279013,
         4.103304690402995,
         4.231532961978089,
         4.359761233553182,
         4.487989505128276,
         4.616217776703369,
         4.744446048278463,
         4.872674319853556,
         5.00090259142865,
         5.129130863003743,
         5.257359134578837,
         5.385587406153931,
         5.513815677729024,
         5.642043949304118,
         5.770272220879211,
         5.898500492454305,
         6.026728764029398,
         6.154957035604492,
         6.283185307179586
        ]
       },
       "y": {
        "type": "float",
        "values": [
         1,
         0.9917900138232462,
         0.9672948630390295,
         0.9269167573460217,
         0.8713187041233894,
         0.8014136218679567,
         0.7183493500977276,
         0.6234898018587336,
         0.5183925683105252,
         0.404783343122394,
         0.28452758663103267,
         0.15959989503337932,
         0.03205157757165533,
         -0.09602302590768154,
         -0.22252093395631434,
         -0.3453650544213075,
         -0.4625382902408351,
         -0.5721166601221694,
         -0.6723008902613166,
         -0.7614459583691342,
         -0.8380881048918404,
         -0.900968867902419,
         -0.9490557470106686,
         -0.9815591569910653,
         -0.9979453927503363,
         -0.9979453927503363,
         -0.9815591569910654,
         -0.9490557470106689,
         -0.9009688679024191,
         -0.8380881048918408,
         -0.7614459583691346,
         -0.672300890261317,
         -0.57211666012217,
         -0.4625382902408353,
         -0.34536505442130816,
         -0.2225209339563146,
         -0.09602302590768244,
         0.03205157757165486,
         0.1595998950333784,
         0.284527586631032,
         0.40478334312239295,
         0.5183925683105245,
         0.6234898018587334,
         0.718349350097727,
         0.8014136218679565,
         0.871318704123389,
         0.9269167573460216,
         0.9672948630390291,
         0.991790013823246,
         1
        ]
       }
      }
     },
     "dccafd8a9eae4834a8296e90073b988a": {
      "model_module": "@jupyter-widgets/base",
      "model_module_version": "1.1.0",
      "model_name": "LayoutModel",
      "state": {}
     },
     "dd506c2bf5f74ae6a3dee0cce3863543": {
      "model_module": "@jupyter-widgets/controls",
      "model_module_version": "1.3.0",
      "model_name": "VBoxModel",
      "state": {
       "children": [
        "IPY_MODEL_d8e7ea6010b44213a7b8bd120fdb1ad7",
        "IPY_MODEL_1a16b7fc94b945a08c95f6c4f2163caf"
       ],
       "layout": "IPY_MODEL_01da363474ac4744aea569eadf05497a"
      }
     },
     "dd875361d6eb4c088ca33214886e279a": {
      "model_module": "@jupyter-widgets/base",
      "model_module_version": "1.1.0",
      "model_name": "LayoutModel",
      "state": {}
     },
     "dd90e470e1b74663b40e9b138a96df0e": {
      "model_module": "@jupyter-widgets/base",
      "model_module_version": "1.1.0",
      "model_name": "LayoutModel",
      "state": {}
     },
     "ddd99e9aa6f141dda5d451474be8033c": {
      "model_module": "@jupyter-widgets/controls",
      "model_module_version": "1.3.0",
      "model_name": "FloatSliderModel",
      "state": {
       "description": "k",
       "layout": "IPY_MODEL_581148160c9248159182720c004e5185",
       "max": 3,
       "min": -1,
       "step": 0.1,
       "style": "IPY_MODEL_5ff4dbb333f740daa861543b7fd52ad3",
       "value": 1
      }
     },
     "dddc5797f98d413bb5768ec3e952d8b0": {
      "model_module": "bqplot",
      "model_module_version": "^0.3.6",
      "model_name": "LinesModel",
      "state": {
       "color": {
        "type": null,
        "values": null
       },
       "display_legend": false,
       "fill_colors": [],
       "labels": [
        "C1"
       ],
       "scales": {
        "x": "IPY_MODEL_7b5363390bf3403582cb10f9fef0c7e1",
        "y": "IPY_MODEL_3e94921779854b87b64a7495c35b8091"
       },
       "selected": [],
       "x": {
        "type": "float",
        "values": [
         0,
         0.1282282715750936,
         0.2564565431501872,
         0.38468481472528077,
         0.5129130863003744,
         0.6411413578754679,
         0.7693696294505615,
         0.8975979010256552,
         1.0258261726007487,
         1.1540544441758422,
         1.2822827157509358,
         1.4105109873260295,
         1.538739258901123,
         1.6669675304762166,
         1.7951958020513104,
         1.9234240736264039,
         2.0516523452014974,
         2.179880616776591,
         2.3081088883516845,
         2.436337159926778,
         2.5645654315018716,
         2.6927937030769655,
         2.821021974652059,
         2.9492502462271526,
         3.077478517802246,
         3.2057067893773397,
         3.333935060952433,
         3.4621633325275267,
         3.5903916041026207,
         3.7186198756777142,
         3.8468481472528078,
         3.9750764188279013,
         4.103304690402995,
         4.231532961978089,
         4.359761233553182,
         4.487989505128276,
         4.616217776703369,
         4.744446048278463,
         4.872674319853556,
         5.00090259142865,
         5.129130863003743,
         5.257359134578837,
         5.385587406153931,
         5.513815677729024,
         5.642043949304118,
         5.770272220879211,
         5.898500492454305,
         6.026728764029398,
         6.154957035604492,
         6.283185307179586
        ]
       },
       "y": {
        "type": "float",
        "values": [
         1,
         0.9917900138232462,
         0.9672948630390295,
         0.9269167573460217,
         0.8713187041233894,
         0.8014136218679567,
         0.7183493500977276,
         0.6234898018587336,
         0.5183925683105252,
         0.404783343122394,
         0.28452758663103267,
         0.15959989503337932,
         0.03205157757165533,
         -0.09602302590768154,
         -0.22252093395631434,
         -0.3453650544213075,
         -0.4625382902408351,
         -0.5721166601221694,
         -0.6723008902613166,
         -0.7614459583691342,
         -0.8380881048918404,
         -0.900968867902419,
         -0.9490557470106686,
         -0.9815591569910653,
         -0.9979453927503363,
         -0.9979453927503363,
         -0.9815591569910654,
         -0.9490557470106689,
         -0.9009688679024191,
         -0.8380881048918408,
         -0.7614459583691346,
         -0.672300890261317,
         -0.57211666012217,
         -0.4625382902408353,
         -0.34536505442130816,
         -0.2225209339563146,
         -0.09602302590768244,
         0.03205157757165486,
         0.1595998950333784,
         0.284527586631032,
         0.40478334312239295,
         0.5183925683105245,
         0.6234898018587334,
         0.718349350097727,
         0.8014136218679565,
         0.871318704123389,
         0.9269167573460216,
         0.9672948630390291,
         0.991790013823246,
         1
        ]
       }
      }
     },
     "ded153989c8a4daf910bb3b553a9bfd8": {
      "model_module": "@jupyter-widgets/base",
      "model_module_version": "1.1.0",
      "model_name": "LayoutModel",
      "state": {}
     },
     "df2282ae114c4d9ab5de2668b1a5216e": {
      "model_module": "@jupyter-widgets/controls",
      "model_module_version": "1.3.0",
      "model_name": "HBoxModel",
      "state": {
       "children": [
        "IPY_MODEL_0a04ee39629c43c39acb43455f87f382",
        "IPY_MODEL_b26cc75bc9dc4c93b7539b3a98076596"
       ],
       "layout": "IPY_MODEL_be749a2abd9c470c84db34e9d30b9fd1"
      }
     },
     "df5b2536838f47238816b0f81e4c7f14": {
      "model_module": "@jupyter-widgets/base",
      "model_module_version": "1.1.0",
      "model_name": "LayoutModel",
      "state": {}
     },
     "e04ac42cdff943c5befebcf983361a5e": {
      "model_module": "@jupyter-widgets/base",
      "model_module_version": "1.1.0",
      "model_name": "LayoutModel",
      "state": {}
     },
     "e069e73d07d140429e0e9f36abee9724": {
      "model_module": "@jupyter-widgets/controls",
      "model_module_version": "1.3.0",
      "model_name": "DescriptionStyleModel",
      "state": {
       "description_width": ""
      }
     },
     "e08e598ea73d4bb0baded1612cda2170": {
      "model_module": "@jupyter-widgets/controls",
      "model_module_version": "1.3.0",
      "model_name": "ButtonModel",
      "state": {
       "description": "basso a destra",
       "layout": "IPY_MODEL_a62949c4102442d2aa0821f58f37195e",
       "style": "IPY_MODEL_e0f6f9d6626e445bb06d210a48b48570"
      }
     },
     "e0b4654ad8c34ffe8d341fb1d232c2ac": {
      "model_module": "@jupyter-widgets/controls",
      "model_module_version": "1.3.0",
      "model_name": "SliderStyleModel",
      "state": {
       "description_width": ""
      }
     },
     "e0f6f9d6626e445bb06d210a48b48570": {
      "model_module": "@jupyter-widgets/controls",
      "model_module_version": "1.3.0",
      "model_name": "ButtonStyleModel",
      "state": {}
     },
     "e12f50a84cad4436aafc914262dca52d": {
      "model_module": "@jupyter-widgets/controls",
      "model_module_version": "1.3.0",
      "model_name": "VBoxModel",
      "state": {
       "_dom_classes": [
        "widget-interact"
       ],
       "children": [
        "IPY_MODEL_3509252ddaa1454ebb62ff6ff366b6d6",
        "IPY_MODEL_210738f0f18a45e185381596a37344cf"
       ],
       "layout": "IPY_MODEL_9b7170b3573a40afa5b6d43367bf9e14"
      }
     },
     "e14db6f0ebd44ef1a5708a0ce013a157": {
      "model_module": "@jupyter-widgets/controls",
      "model_module_version": "1.3.0",
      "model_name": "FloatSliderModel",
      "state": {
       "description": "k",
       "layout": "IPY_MODEL_8708072f1ef642f9858769d60f0339da",
       "max": 3,
       "min": -1,
       "step": 0.1,
       "style": "IPY_MODEL_31b6267a1074449ea70583906a70b254",
       "value": 1
      }
     },
     "e17f40f820ba47b09362ca86c600ae6f": {
      "model_module": "@jupyter-widgets/controls",
      "model_module_version": "1.3.0",
      "model_name": "SliderStyleModel",
      "state": {
       "description_width": ""
      }
     },
     "e235c952e8174bbaa43d1682696c817c": {
      "model_module": "bqplot",
      "model_module_version": "^0.3.6",
      "model_name": "AxisModel",
      "state": {
       "scale": "IPY_MODEL_7b5363390bf3403582cb10f9fef0c7e1",
       "side": "bottom",
       "tick_values": {
        "type": null,
        "values": null
       }
      }
     },
     "e252b46b8ebd42bebdca75c0646bacfe": {
      "model_module": "bqplot",
      "model_module_version": "^0.3.6",
      "model_name": "AxisModel",
      "state": {
       "orientation": "vertical",
       "scale": "IPY_MODEL_c719bc2dae2e4f56a860960ff43f01ce",
       "side": "left",
       "tick_values": {
        "type": null,
        "values": null
       }
      }
     },
     "e31d16c089dd4873b0d889234824f61f": {
      "model_module": "@jupyter-widgets/base",
      "model_module_version": "1.1.0",
      "model_name": "LayoutModel",
      "state": {}
     },
     "e38b9f9589e04639901e8f83d117abeb": {
      "model_module": "@jupyter-widgets/controls",
      "model_module_version": "1.3.0",
      "model_name": "ButtonStyleModel",
      "state": {}
     },
     "e5b8f1af78c9402e98209a5d96ca7cde": {
      "model_module": "@jupyter-widgets/controls",
      "model_module_version": "1.3.0",
      "model_name": "IntSliderModel",
      "state": {
       "layout": "IPY_MODEL_40b49b52812047a2bf8565d7331b180c",
       "style": "IPY_MODEL_70fc5dd4dba14662b16efbf883e5ca54"
      }
     },
     "e5c30364a70a4e31830db808635fc9b0": {
      "model_module": "bqplot",
      "model_module_version": "^0.3.6",
      "model_name": "FigureModel",
      "state": {
       "_dom_classes": [],
       "axes": [
        "IPY_MODEL_061112cee7ec4063ac2e99838c4090a8",
        "IPY_MODEL_764298f69af94c7ab276a413749c0f21"
       ],
       "layout": "IPY_MODEL_03a589b3983b4c7fb40b77dc0217ae4b",
       "marks": [
        "IPY_MODEL_dcc017d2556445afa1db6145c67735b4"
       ],
       "max_aspect_ratio": 6,
       "scale_x": "IPY_MODEL_d5cc30ea6a7e4c2d86ee5d573b67d483",
       "scale_y": "IPY_MODEL_926e837a77b844989ffc601ade5a765b",
       "title": "HBox con slider e bqplot"
      }
     },
     "e5f40cbb033244ec87f990b368aa2783": {
      "model_module": "@jupyter-widgets/base",
      "model_module_version": "1.1.0",
      "model_name": "LayoutModel",
      "state": {
       "align_items": "stretch",
       "display": "flex"
      }
     },
     "e60cb06333144895874f75b8b8dbccc2": {
      "model_module": "@jupyter-widgets/controls",
      "model_module_version": "1.3.0",
      "model_name": "ButtonStyleModel",
      "state": {}
     },
     "e6781f27715d46d9b3aadc182ea0b2b5": {
      "model_module": "@jupyter-widgets/base",
      "model_module_version": "1.1.0",
      "model_name": "LayoutModel",
      "state": {}
     },
     "e6eabbbc807549f3bcc18c00e563584b": {
      "model_module": "@jupyter-widgets/base",
      "model_module_version": "1.1.0",
      "model_name": "LayoutModel",
      "state": {}
     },
     "e7354270389f4d289e1d5e70ab20ef57": {
      "model_module": "@jupyter-widgets/controls",
      "model_module_version": "1.3.0",
      "model_name": "VBoxModel",
      "state": {
       "children": [
        "IPY_MODEL_431c87ca1c6948c9a3124ce474feee23",
        "IPY_MODEL_0c79e495c003492c85c06cccaaba9a15"
       ],
       "layout": "IPY_MODEL_4d81784c1e674338b73db16addbd9429"
      }
     },
     "e769b27ed5224bd5b5f7d080c85b42a2": {
      "model_module": "@jupyter-widgets/base",
      "model_module_version": "1.1.0",
      "model_name": "LayoutModel",
      "state": {}
     },
     "e7c121172373436e80b8c66596be3678": {
      "model_module": "@jupyter-widgets/controls",
      "model_module_version": "1.3.0",
      "model_name": "IntTextModel",
      "state": {
       "continuous_update": true,
       "description": "testo con",
       "layout": "IPY_MODEL_4125cb6b754546c7ac9dc815ef11d24a",
       "step": 1,
       "style": "IPY_MODEL_76c662273e4d445f930ddc23e7013df2"
      }
     },
     "e7c54d41a4fe489e9b8e2d97312aee55": {
      "model_module": "bqplot",
      "model_module_version": "^0.3.6",
      "model_name": "AxisModel",
      "state": {
       "orientation": "vertical",
       "scale": "IPY_MODEL_307f4512320b4e60bb71f94777f7af51",
       "side": "left",
       "tick_values": {
        "type": null,
        "values": null
       }
      }
     },
     "e85525af303e466e98525abd36e3f3f0": {
      "model_module": "@jupyter-widgets/controls",
      "model_module_version": "1.3.0",
      "model_name": "DescriptionStyleModel",
      "state": {
       "description_width": ""
      }
     },
     "e892ba8a4b5744918094f454e576074e": {
      "model_module": "bqplot",
      "model_module_version": "^0.3.6",
      "model_name": "LinearScaleModel",
      "state": {
       "allow_padding": false,
       "max": 1,
       "min": 0,
       "stabilized": false
      }
     },
     "e8dab4fa735a40119e934c45e78c015a": {
      "model_module": "@jupyter-widgets/base",
      "model_module_version": "1.1.0",
      "model_name": "LayoutModel",
      "state": {}
     },
     "e8de3dd0a8284889ba6b542a1d43f7b9": {
      "model_module": "@jupyter-widgets/controls",
      "model_module_version": "1.3.0",
      "model_name": "SliderStyleModel",
      "state": {
       "description_width": ""
      }
     },
     "e8efe36facde476980a6bce33fb3f78c": {
      "model_module": "@jupyter-widgets/output",
      "model_module_version": "1.0.0",
      "model_name": "OutputModel",
      "state": {
       "layout": "IPY_MODEL_0e867ed95ff24c52873a9f027cc8a082",
       "outputs": [
        {
         "name": "stdout",
         "output_type": "stream",
         "text": "il doppio è 6\n"
        }
       ]
      }
     },
     "e93a210a055645f0b3c4a8b070898de5": {
      "model_module": "@jupyter-widgets/output",
      "model_module_version": "1.0.0",
      "model_name": "OutputModel",
      "state": {
       "layout": "IPY_MODEL_009d72b3e95d4715be2a89df19dc5b2f",
       "outputs": [
        {
         "name": "stdout",
         "output_type": "stream",
         "text": "Il numero è 10\n"
        }
       ]
      }
     },
     "e96e75e9cced4dac99efd1b8d7cd8caf": {
      "model_module": "@jupyter-widgets/output",
      "model_module_version": "1.0.0",
      "model_name": "OutputModel",
      "state": {
       "layout": "IPY_MODEL_75039db8ff44492eacca67ba3efdb632"
      }
     },
     "e9f5bd8e46574dd3962507b39170a041": {
      "model_module": "@jupyter-widgets/controls",
      "model_module_version": "1.3.0",
      "model_name": "DescriptionStyleModel",
      "state": {
       "description_width": ""
      }
     },
     "ea3fa6786c20482db6f39660ab01b030": {
      "model_module": "@jupyter-widgets/base",
      "model_module_version": "1.1.0",
      "model_name": "LayoutModel",
      "state": {}
     },
     "eacc934938f54043ae86a9339818b53e": {
      "model_module": "bqplot",
      "model_module_version": "^0.3.6",
      "model_name": "ToolbarModel",
      "state": {
       "figure": "IPY_MODEL_82ccf93a229b4318aa58d42cb969d610",
       "layout": "IPY_MODEL_81487d24bdad46e08cb11321a554970e"
      }
     },
     "eb0fcd4167924c2fbf7013ebea2e87f4": {
      "model_module": "@jupyter-widgets/controls",
      "model_module_version": "1.3.0",
      "model_name": "LabelModel",
      "state": {
       "layout": "IPY_MODEL_db4971d4ee134c65b72010f1a8423810",
       "style": "IPY_MODEL_9f72f7a9b87f40ceac8a652d8d6f0341",
       "value": "A too long description:"
      }
     },
     "eb210d523bc0430b804b4d5b21cca3e3": {
      "model_module": "bqplot",
      "model_module_version": "^0.3.6",
      "model_name": "AxisModel",
      "state": {
       "orientation": "vertical",
       "scale": "IPY_MODEL_7c8df30cd45841e5a1e231969c513c6e",
       "side": "left",
       "tick_values": {
        "type": null,
        "values": null
       }
      }
     },
     "eb66fb4a5ce44edea3679a479df2afe5": {
      "model_module": "@jupyter-widgets/base",
      "model_module_version": "1.1.0",
      "model_name": "LayoutModel",
      "state": {
       "min_width": "125px"
      }
     },
     "eba303e6e0eb4d1b8aa51223e5ca9b80": {
      "model_module": "@jupyter-widgets/controls",
      "model_module_version": "1.3.0",
      "model_name": "BoxModel",
      "state": {
       "children": [
        "IPY_MODEL_bc2dfbceab5e4c4d84bbf27be995f63b",
        "IPY_MODEL_375672e9b9e44e1bb380825538ad4eb2"
       ],
       "layout": "IPY_MODEL_e5f40cbb033244ec87f990b368aa2783"
      }
     },
     "ebae16342f6b45fb81063a6cb962a4a1": {
      "model_module": "@jupyter-widgets/controls",
      "model_module_version": "1.3.0",
      "model_name": "SliderStyleModel",
      "state": {
       "description_width": ""
      }
     },
     "ebbb376d82114ac6ab3d3f580af58488": {
      "model_module": "@jupyter-widgets/controls",
      "model_module_version": "1.3.0",
      "model_name": "SliderStyleModel",
      "state": {
       "description_width": ""
      }
     },
     "ebebe57838a6486a8e6389abba99bf1d": {
      "model_module": "@jupyter-widgets/base",
      "model_module_version": "1.1.0",
      "model_name": "LayoutModel",
      "state": {}
     },
     "ec322f9c2c8a4ee0bf34705a7f1aa933": {
      "model_module": "bqplot",
      "model_module_version": "^0.3.6",
      "model_name": "LinearScaleModel",
      "state": {
       "allow_padding": false,
       "max": 1,
       "min": 0,
       "stabilized": false
      }
     },
     "ec4e6b8a6fe8439096ab6feb7744499e": {
      "model_module": "@jupyter-widgets/base",
      "model_module_version": "1.1.0",
      "model_name": "LayoutModel",
      "state": {
       "min_width": "125px"
      }
     },
     "ec68fe94df5e4954ad0b6d0f88024292": {
      "model_module": "@jupyter-widgets/controls",
      "model_module_version": "1.3.0",
      "model_name": "VBoxModel",
      "state": {
       "_dom_classes": [
        "widget-interact"
       ],
       "children": [
        "IPY_MODEL_61bf5929a6164b399c2ffd8eefbfedff",
        "IPY_MODEL_8bf6977b720247b3bc84442fe854243b"
       ],
       "layout": "IPY_MODEL_ea3fa6786c20482db6f39660ab01b030"
      }
     },
     "ecc10cd12a2a40509acd26db47eac6fa": {
      "model_module": "bqplot",
      "model_module_version": "^0.3.6",
      "model_name": "AxisModel",
      "state": {
       "scale": "IPY_MODEL_bf46076efbed4ff3a9ac7c7014eea7e6",
       "side": "bottom",
       "tick_values": {
        "type": null,
        "values": null
       }
      }
     },
     "ed80353210f9471d8306b6659f092000": {
      "model_module": "bqplot",
      "model_module_version": "^0.3.6",
      "model_name": "LinesModel",
      "state": {
       "color": {
        "type": null,
        "values": null
       },
       "display_legend": false,
       "fill_colors": [],
       "labels": [
        "C1"
       ],
       "scales": {
        "x": "IPY_MODEL_30d6efe8aa9945729b86c1ea2addbb3e",
        "y": "IPY_MODEL_3be91c537d0f4f458b66ab627eb5043e"
       },
       "selected": [],
       "x": {
        "type": "float",
        "values": [
         0,
         0.1282282715750936,
         0.2564565431501872,
         0.38468481472528077,
         0.5129130863003744,
         0.6411413578754679,
         0.7693696294505615,
         0.8975979010256552,
         1.0258261726007487,
         1.1540544441758422,
         1.2822827157509358,
         1.4105109873260295,
         1.538739258901123,
         1.6669675304762166,
         1.7951958020513104,
         1.9234240736264039,
         2.0516523452014974,
         2.179880616776591,
         2.3081088883516845,
         2.436337159926778,
         2.5645654315018716,
         2.6927937030769655,
         2.821021974652059,
         2.9492502462271526,
         3.077478517802246,
         3.2057067893773397,
         3.333935060952433,
         3.4621633325275267,
         3.5903916041026207,
         3.7186198756777142,
         3.8468481472528078,
         3.9750764188279013,
         4.103304690402995,
         4.231532961978089,
         4.359761233553182,
         4.487989505128276,
         4.616217776703369,
         4.744446048278463,
         4.872674319853556,
         5.00090259142865,
         5.129130863003743,
         5.257359134578837,
         5.385587406153931,
         5.513815677729024,
         5.642043949304118,
         5.770272220879211,
         5.898500492454305,
         6.026728764029398,
         6.154957035604492,
         6.283185307179586
        ]
       },
       "y": {
        "type": "float",
        "values": [
         1,
         0.9917900138232462,
         0.9672948630390295,
         0.9269167573460217,
         0.8713187041233894,
         0.8014136218679567,
         0.7183493500977276,
         0.6234898018587336,
         0.5183925683105252,
         0.404783343122394,
         0.28452758663103267,
         0.15959989503337932,
         0.03205157757165533,
         -0.09602302590768154,
         -0.22252093395631434,
         -0.3453650544213075,
         -0.4625382902408351,
         -0.5721166601221694,
         -0.6723008902613166,
         -0.7614459583691342,
         -0.8380881048918404,
         -0.900968867902419,
         -0.9490557470106686,
         -0.9815591569910653,
         -0.9979453927503363,
         -0.9979453927503363,
         -0.9815591569910654,
         -0.9490557470106689,
         -0.9009688679024191,
         -0.8380881048918408,
         -0.7614459583691346,
         -0.672300890261317,
         -0.57211666012217,
         -0.4625382902408353,
         -0.34536505442130816,
         -0.2225209339563146,
         -0.09602302590768244,
         0.03205157757165486,
         0.1595998950333784,
         0.284527586631032,
         0.40478334312239295,
         0.5183925683105245,
         0.6234898018587334,
         0.718349350097727,
         0.8014136218679565,
         0.871318704123389,
         0.9269167573460216,
         0.9672948630390291,
         0.991790013823246,
         1
        ]
       }
      }
     },
     "eeedd005435045dfb33a6b73f2d1ddd3": {
      "model_module": "@jupyter-widgets/controls",
      "model_module_version": "1.3.0",
      "model_name": "SliderStyleModel",
      "state": {
       "description_width": ""
      }
     },
     "eef170ca23d1425ea5132df1c3a87bf1": {
      "model_module": "@jupyter-widgets/controls",
      "model_module_version": "1.3.0",
      "model_name": "ButtonModel",
      "state": {
       "description": "hello",
       "layout": "IPY_MODEL_8ce0cee766c04c799823dcd3431b10ee",
       "style": "IPY_MODEL_e38b9f9589e04639901e8f83d117abeb"
      }
     },
     "ef01b78462b24184affcc0e7f7fe81eb": {
      "model_module": "@jupyter-widgets/controls",
      "model_module_version": "1.3.0",
      "model_name": "IntSliderModel",
      "state": {
       "layout": "IPY_MODEL_4de3a0094aa74e1988b76eeec16d8b7a",
       "style": "IPY_MODEL_c058ad1ca5b54879ad6a531ac309da2d",
       "value": 16
      }
     },
     "ef2c6ec8659f4c6da6575e6a1d542602": {
      "model_module": "@jupyter-widgets/controls",
      "model_module_version": "1.3.0",
      "model_name": "VBoxModel",
      "state": {
       "children": [
        "IPY_MODEL_a5cc195d9b09447e8cf9589ec8b303b6",
        "IPY_MODEL_f1efc67bea944af1929a35c62000ddd3"
       ],
       "layout": "IPY_MODEL_1161143146484f54b05e44ace1e29cea"
      }
     },
     "efd2e3a4518c47ab81d8c44b16317f5e": {
      "model_module": "@jupyter-widgets/controls",
      "model_module_version": "1.3.0",
      "model_name": "IntSliderModel",
      "state": {
       "description": "ciao",
       "layout": "IPY_MODEL_f2e2425cb9e44a088ae3f1eff82ff788",
       "style": "IPY_MODEL_8c4f8945c60441ea94483c994667bbc3",
       "value": 30
      }
     },
     "efe88a034af24dcbb2a360e93c460cd9": {
      "model_module": "@jupyter-widgets/controls",
      "model_module_version": "1.3.0",
      "model_name": "IntSliderModel",
      "state": {
       "layout": "IPY_MODEL_477bf9f4632c4e2aac8ab59bfb106ff1",
       "style": "IPY_MODEL_87c33fcd1d3b4e50a25a1bfc2522589e"
      }
     },
     "eff08fffa9a1410f807e2fbb9b21db4e": {
      "model_module": "bqplot",
      "model_module_version": "^0.3.6",
      "model_name": "AxisModel",
      "state": {
       "scale": "IPY_MODEL_49bc7e74d38f4528a8c39543ea54c416",
       "side": "bottom",
       "tick_values": {
        "type": null,
        "values": null
       }
      }
     },
     "f028aa3058364644a9e253d225f52696": {
      "model_module": "@jupyter-widgets/base",
      "model_module_version": "1.1.0",
      "model_name": "LayoutModel",
      "state": {}
     },
     "f059780702894d2eb9661a03d91c4bda": {
      "model_module": "@jupyter-widgets/base",
      "model_module_version": "1.1.0",
      "model_name": "LayoutModel",
      "state": {}
     },
     "f07a1ab07d1e4f0d894643dbb746086a": {
      "model_module": "@jupyter-widgets/base",
      "model_module_version": "1.1.0",
      "model_name": "LayoutModel",
      "state": {}
     },
     "f07f84fa10914f6f8efcfcd7e6effb4e": {
      "model_module": "@jupyter-widgets/controls",
      "model_module_version": "1.3.0",
      "model_name": "SliderStyleModel",
      "state": {
       "description_width": ""
      }
     },
     "f0e86357a44940dc8d9b3617c468c8a7": {
      "model_module": "@jupyter-widgets/controls",
      "model_module_version": "1.3.0",
      "model_name": "VBoxModel",
      "state": {
       "_dom_classes": [
        "widget-interact"
       ],
       "children": [
        "IPY_MODEL_806362f10a294814af9bc57afbdc409b",
        "IPY_MODEL_9865815f19a54f1b9ed582eb20866a2d"
       ],
       "layout": "IPY_MODEL_b6a1ac85056240d39464d5c22f9351ea"
      }
     },
     "f14547084d7348ca887a8e7c064b0aba": {
      "model_module": "@jupyter-widgets/controls",
      "model_module_version": "1.3.0",
      "model_name": "IntSliderModel",
      "state": {
       "layout": "IPY_MODEL_3d3dcd413db243a7b1e144f38f9f4fdb",
       "style": "IPY_MODEL_6a73f1e6ba3d497ca69a2baf4e529b0c",
       "value": 7
      }
     },
     "f1627621d1834c7892372a396158bb2e": {
      "model_module": "@jupyter-widgets/base",
      "model_module_version": "1.1.0",
      "model_name": "LayoutModel",
      "state": {}
     },
     "f1efc67bea944af1929a35c62000ddd3": {
      "model_module": "@jupyter-widgets/controls",
      "model_module_version": "1.3.0",
      "model_name": "IntTextModel",
      "state": {
       "description": "testo delayed",
       "layout": "IPY_MODEL_ba093668b373478791f327f941b2ea70",
       "step": 1,
       "style": "IPY_MODEL_3b91aa5a80174a109025dca15fc9f434"
      }
     },
     "f1f2e1e3eb524cc8bff6d16e322a5cc3": {
      "model_module": "@jupyter-widgets/controls",
      "model_module_version": "1.3.0",
      "model_name": "SliderStyleModel",
      "state": {
       "description_width": ""
      }
     },
     "f28408491f654da69c3e167f2a2c2676": {
      "model_module": "@jupyter-widgets/controls",
      "model_module_version": "1.3.0",
      "model_name": "IntSliderModel",
      "state": {
       "layout": "IPY_MODEL_379ecb4d643a4be9b802e3b6e733eb59",
       "style": "IPY_MODEL_95171728eea347acbf02a664d8f12819"
      }
     },
     "f2a2683f59ca4900b0af4d42c59114f7": {
      "model_module": "@jupyter-widgets/output",
      "model_module_version": "1.0.0",
      "model_name": "OutputModel",
      "state": {
       "layout": "IPY_MODEL_b734543fec5f451885de77c82a9dfc40"
      }
     },
     "f2e2425cb9e44a088ae3f1eff82ff788": {
      "model_module": "@jupyter-widgets/base",
      "model_module_version": "1.1.0",
      "model_name": "LayoutModel",
      "state": {}
     },
     "f3038e8461cb46cc8a1080628ab09c93": {
      "model_module": "@jupyter-widgets/controls",
      "model_module_version": "1.3.0",
      "model_name": "FloatSliderModel",
      "state": {
       "layout": "IPY_MODEL_6ad872301dc941f39f5d8fd7ac3bfcf6",
       "max": 10000,
       "step": 0.1,
       "style": "IPY_MODEL_61e1e682c376430c9389d2cb9f8a991d"
      }
     },
     "f305dad699f241158b0dd77b47d393c4": {
      "model_module": "@jupyter-widgets/base",
      "model_module_version": "1.1.0",
      "model_name": "LayoutModel",
      "state": {}
     },
     "f35c0d3520894862a8a60c546ad13b74": {
      "model_module": "bqplot",
      "model_module_version": "^0.3.6",
      "model_name": "LinearScaleModel",
      "state": {
       "stabilized": false
      }
     },
     "f36033789bac434ab69079c41653d4e7": {
      "model_module": "@jupyter-widgets/base",
      "model_module_version": "1.1.0",
      "model_name": "LayoutModel",
      "state": {}
     },
     "f4888cbc614147b59aeeebc9fef9db01": {
      "model_module": "@jupyter-widgets/controls",
      "model_module_version": "1.3.0",
      "model_name": "SliderStyleModel",
      "state": {
       "description_width": ""
      }
     },
     "f4bc522c345147b98d63c1d64a2bcf01": {
      "model_module": "bqplot",
      "model_module_version": "^0.3.6",
      "model_name": "LinearScaleModel",
      "state": {
       "stabilized": false
      }
     },
     "f4f05f099bc94450b89403384b8ecaa0": {
      "model_module": "@jupyter-widgets/base",
      "model_module_version": "1.1.0",
      "model_name": "LayoutModel",
      "state": {}
     },
     "f53d40a240544c6591252789655ef5a8": {
      "model_module": "@jupyter-widgets/controls",
      "model_module_version": "1.3.0",
      "model_name": "SliderStyleModel",
      "state": {
       "description_width": ""
      }
     },
     "f5900d77e81348d28249983332c04bcd": {
      "model_module": "@jupyter-widgets/base",
      "model_module_version": "1.1.0",
      "model_name": "LayoutModel",
      "state": {}
     },
     "f6b0d681b3324ed5a7c972d45cdcf6d9": {
      "model_module": "bqplot",
      "model_module_version": "^0.3.6",
      "model_name": "AxisModel",
      "state": {
       "scale": "IPY_MODEL_4d25947a62a0432cb037112641cb3ad1",
       "side": "bottom",
       "tick_values": {
        "type": null,
        "values": null
       }
      }
     },
     "f6e789ed4d4843139274dc2a43cf2bb8": {
      "model_module": "@jupyter-widgets/controls",
      "model_module_version": "1.3.0",
      "model_name": "DescriptionStyleModel",
      "state": {
       "description_width": ""
      }
     },
     "f704ceaef92945bf81fbe26d017b52ef": {
      "model_module": "@jupyter-widgets/base",
      "model_module_version": "1.1.0",
      "model_name": "LayoutModel",
      "state": {}
     },
     "f71751aefdd74486847610918578bc99": {
      "model_module": "@jupyter-widgets/base",
      "model_module_version": "1.1.0",
      "model_name": "LayoutModel",
      "state": {}
     },
     "f7936f89c5a14bf39aabc4b9231e75ef": {
      "model_module": "@jupyter-widgets/controls",
      "model_module_version": "1.3.0",
      "model_name": "FloatSliderModel",
      "state": {
       "description": "k",
       "layout": "IPY_MODEL_4d0a6e17827044eb8a23fc7ae996c630",
       "max": 3,
       "min": -1,
       "step": 0.1,
       "style": "IPY_MODEL_1177432f3c004f909c9ced270348a0eb",
       "value": 1
      }
     },
     "f79d75e7412343c6a2efaba436daf34f": {
      "model_module": "bqplot",
      "model_module_version": "^0.3.6",
      "model_name": "AxisModel",
      "state": {
       "orientation": "vertical",
       "scale": "IPY_MODEL_551793ca696f4a6181f924757dd0390b",
       "side": "left",
       "tick_values": {
        "type": null,
        "values": null
       }
      }
     },
     "f79d8b01083c426e9a36e64974d7e740": {
      "model_module": "@jupyter-widgets/controls",
      "model_module_version": "1.3.0",
      "model_name": "DescriptionStyleModel",
      "state": {
       "description_width": ""
      }
     },
     "f7a6fe5fee334ef0b47e7a6f42b29890": {
      "model_module": "@jupyter-widgets/output",
      "model_module_version": "1.0.0",
      "model_name": "OutputModel",
      "state": {
       "layout": "IPY_MODEL_bbed83e691a142be8dcde65817eddff7"
      }
     },
     "f7e28149edcc499dbb86254871103fde": {
      "model_module": "@jupyter-widgets/base",
      "model_module_version": "1.1.0",
      "model_name": "LayoutModel",
      "state": {}
     },
     "f864c07a570f43a3951fa137466a8c12": {
      "model_module": "bqplot",
      "model_module_version": "^0.3.6",
      "model_name": "ScatterModel",
      "state": {
       "_model_module": "bqplot",
       "_model_module_version": "^0.3.6",
       "_view_count": null,
       "_view_module": "bqplot",
       "_view_module_version": "^0.3.6",
       "apply_clip": true,
       "color": {
        "type": null,
        "values": null
       },
       "colors": [
        "steelblue"
       ],
       "display_legend": false,
       "enable_hover": true,
       "hovered_style": {},
       "interactions": {
        "hover": "tooltip"
       },
       "labels": [],
       "names": {
        "type": null,
        "values": null
       },
       "opacity": {
        "type": null,
        "values": null
       },
       "preserve_domain": {},
       "rotation": {
        "type": null,
        "values": null
       },
       "scales": {
        "x": "IPY_MODEL_bf46076efbed4ff3a9ac7c7014eea7e6",
        "y": "IPY_MODEL_c719bc2dae2e4f56a860960ff43f01ce"
       },
       "scales_metadata": {
        "color": {
         "dimension": "color"
        },
        "opacity": {
         "dimension": "opacity"
        },
        "rotation": {
         "dimension": "rotation"
        },
        "size": {
         "dimension": "size"
        },
        "skew": {
         "dimension": "skew"
        },
        "x": {
         "dimension": "x",
         "orientation": "horizontal"
        },
        "y": {
         "dimension": "y",
         "orientation": "vertical"
        }
       },
       "selected": [],
       "selected_style": {},
       "size": {
        "type": null,
        "values": null
       },
       "skew": {
        "type": null,
        "values": null
       },
       "tooltip": null,
       "tooltip_location": "mouse",
       "tooltip_style": {
        "opacity": 0.9
       },
       "unhovered_style": {},
       "unselected_style": {},
       "visible": true,
       "x": {
        "type": "float",
        "values": [
         1,
         2,
         3,
         4,
         5
        ]
       },
       "y": {
        "type": "float",
        "values": [
         2,
         4,
         8,
         16,
         32
        ]
       }
      }
     },
     "f8bf6bd40e054e0b995774d77d0d716f": {
      "model_module": "bqplot",
      "model_module_version": "^0.3.6",
      "model_name": "AxisModel",
      "state": {
       "scale": "IPY_MODEL_3febdc2eb3864f8d9383b5c21c29314d",
       "side": "bottom",
       "tick_values": {
        "type": null,
        "values": null
       }
      }
     },
     "f911ddd4012f4a56a8c3fac17b5e75e9": {
      "model_module": "@jupyter-widgets/base",
      "model_module_version": "1.1.0",
      "model_name": "LayoutModel",
      "state": {}
     },
     "f91bb7e3b17a470d807897e302156671": {
      "model_module": "@jupyter-widgets/base",
      "model_module_version": "1.1.0",
      "model_name": "LayoutModel",
      "state": {}
     },
     "f9d24eb7a8914def844bf32e869a0893": {
      "model_module": "@jupyter-widgets/base",
      "model_module_version": "1.1.0",
      "model_name": "LayoutModel",
      "state": {}
     },
     "f9e90a1029e045668b8ab1c70f89935d": {
      "model_module": "@jupyter-widgets/base",
      "model_module_version": "1.1.0",
      "model_name": "LayoutModel",
      "state": {
       "align_items": "center",
       "display": "flex"
      }
     },
     "f9f7cbda77104791b452869be3347e66": {
      "model_module": "@jupyter-widgets/controls",
      "model_module_version": "1.3.0",
      "model_name": "VBoxModel",
      "state": {
       "_dom_classes": [
        "widget-interact"
       ],
       "children": [
        "IPY_MODEL_46ff6d9df8434ce5913a210927ca3997",
        "IPY_MODEL_d774a96455524d7fb6d29fbca0b250fa"
       ],
       "layout": "IPY_MODEL_adecef3fb348453fa581b80709862aac"
      }
     },
     "faa4f63a99c248d9bb842862ccfacaf5": {
      "model_module": "@jupyter-widgets/controls",
      "model_module_version": "1.3.0",
      "model_name": "DescriptionStyleModel",
      "state": {
       "description_width": ""
      }
     },
     "fb5531ddcb03485197eac678c8cd935f": {
      "model_module": "@jupyter-widgets/controls",
      "model_module_version": "1.3.0",
      "model_name": "IntSliderModel",
      "state": {
       "layout": "IPY_MODEL_e04ac42cdff943c5befebcf983361a5e",
       "style": "IPY_MODEL_ebae16342f6b45fb81063a6cb962a4a1"
      }
     },
     "fbdf1dedde664cfa9e66d5172a56e498": {
      "model_module": "@jupyter-widgets/base",
      "model_module_version": "1.1.0",
      "model_name": "LayoutModel",
      "state": {}
     },
     "fc7de4727e444a76991092a5cec26641": {
      "model_module": "@jupyter-widgets/controls",
      "model_module_version": "1.3.0",
      "model_name": "SliderStyleModel",
      "state": {
       "description_width": ""
      }
     },
     "fcd07129563b4b988d1a24ddc9ec830e": {
      "model_module": "bqplot",
      "model_module_version": "^0.3.6",
      "model_name": "LinearScaleModel",
      "state": {
       "stabilized": false
      }
     },
     "fcd2b089bc234a288876b0c243a8113f": {
      "model_module": "@jupyter-widgets/controls",
      "model_module_version": "1.3.0",
      "model_name": "HBoxModel",
      "state": {
       "children": [
        "IPY_MODEL_da6b0a45448541c3877c824e8c789d20",
        "IPY_MODEL_b62a941f54884b289f30d43b9faa0a1c"
       ],
       "layout": "IPY_MODEL_4a5da8f06d1b4cfabf4d00f2150454d1"
      }
     },
     "fd45b38f099540bfa8c1339eda376d6c": {
      "model_module": "@jupyter-widgets/base",
      "model_module_version": "1.1.0",
      "model_name": "LayoutModel",
      "state": {}
     },
     "fda36fd5b8b448a9bc63e0ddb8ae6c46": {
      "model_module": "@jupyter-widgets/controls",
      "model_module_version": "1.3.0",
      "model_name": "BoxModel",
      "state": {
       "children": [
        "IPY_MODEL_e12f50a84cad4436aafc914262dca52d",
        "IPY_MODEL_24b5475df4d34845982539e7c034d59e"
       ],
       "layout": "IPY_MODEL_088763347d1e4664933dae6068ac0a71"
      }
     },
     "fe20df77873848b8889a1c196701f151": {
      "model_module": "@jupyter-widgets/controls",
      "model_module_version": "1.3.0",
      "model_name": "DescriptionStyleModel",
      "state": {
       "description_width": ""
      }
     },
     "fecc52d48f194ad8898c432036e5a9a4": {
      "model_module": "@jupyter-widgets/base",
      "model_module_version": "1.1.0",
      "model_name": "LayoutModel",
      "state": {}
     },
     "fee1145508f748428e972659f4c4781f": {
      "model_module": "@jupyter-widgets/base",
      "model_module_version": "1.1.0",
      "model_name": "LayoutModel",
      "state": {}
     },
     "fffdb598f89d42168f4dfe8be973e55b": {
      "model_module": "@jupyter-widgets/controls",
      "model_module_version": "1.3.0",
      "model_name": "SliderStyleModel",
      "state": {
       "description_width": ""
      }
     }
    },
    "version_major": 2,
    "version_minor": 0
   }
  }
 },
 "nbformat": 4,
 "nbformat_minor": 2
}
