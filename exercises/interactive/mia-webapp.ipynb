{
 "cells": [
  {
   "cell_type": "code",
   "execution_count": 63,
   "metadata": {},
   "outputs": [
    {
     "data": {
      "application/vnd.jupyter.widget-view+json": {
       "model_id": "6ab1a19736e84791b01f4a41a37dc436",
       "version_major": 2,
       "version_minor": 0
      },
      "text/plain": [
       "VBox(children=(HTML(value='<h1 style=\"color:orange\">Webapp Incredibile</h1> <br/>'), Tab(children=(HBox(childr…"
      ]
     },
     "metadata": {},
     "output_type": "display_data"
    }
   ],
   "source": [
    "import ipywidgets as widgets\n",
    "from ipywidgets import Button, HBox, VBox, Tab, IntSlider, Label, HTML, AppLayout, Layout\n",
    "\n",
    "# !!!!  IMPORTANTE !!!! \n",
    "# Il 'pyplot' che vedete qui sotto, che viene importato con il nome di 'plt'\n",
    "# proviene dalla libreria di bqplot, NON E' lo stesso pyplot di matplotlib !! \n",
    "# Gli autori di bqplot hanno adottato lo stesso nome e convenzioni per permettervi \n",
    "# di riusare facilmente esempi che già conoscete di matplotlib\n",
    "\n",
    "from bqplot import pyplot as plt  \n",
    "\n",
    "x = [2,4,6]\n",
    "fig = plt.figure()          # genera la figure\n",
    "\n",
    "lines = plt.plot(x, [15,3,20])\n",
    "plt.title('Grafico in bqplot')\n",
    "\n",
    "slider1 = IntSlider()\n",
    "bottone1 = Button(description='ciao')\n",
    "\n",
    "slider2 = IntSlider()\n",
    "hbox2 = HBox([Button(description='clicca qui'), Button(description='cliccami!')])\n",
    "\n",
    "tab1 = HBox(children=[fig, VBox([slider1, bottone1])])\n",
    "tab2 = VBox(children=[slider2,\n",
    "                      hbox2])\n",
    "                                     \n",
    "tab = widgets.Tab(children=[tab1, tab2],  layout=Layout(min_height='700px'))\n",
    "\n",
    "tab.set_title(0, 'TAB COL PLOT')\n",
    "tab.set_title(1, 'ALTRA TAB')\n",
    "\n",
    "VBox(children=[HTML('<h1 style=\"color:orange\">Webapp Incredibile</h1> <br/>'),\n",
    "               tab,\n",
    "               Label(\"Credits: Interfacce Incredibili SRL\")])\n"
   ]
  },
  {
   "cell_type": "markdown",
   "metadata": {},
   "source": [
    "Esempio di webapp mostrato per esecuzione con Voila, vedere tutorial [Applicazioni interattive - Sezione Webapp](https://softpython.readthedocs.io/it/latest/exercises/interactive/interactive-solution.html#Webapp)\n",
    "\n",
    "Nota: Le celle di testo di Jupyter come questa vengono mostrate anche da voila"
   ]
  }
 ],
 "metadata": {
  "kernelspec": {
   "display_name": "Python 3.7 Anaconda",
   "language": "python",
   "name": "python3"
  },
  "language_info": {
   "codemirror_mode": {
    "name": "ipython",
    "version": 3
   },
   "file_extension": ".py",
   "mimetype": "text/x-python",
   "name": "python",
   "nbconvert_exporter": "python",
   "pygments_lexer": "ipython3",
   "version": "3.7.3"
  },
  "toc": {
   "base_numbering": 1,
   "nav_menu": {},
   "number_sections": false,
   "sideBar": true,
   "skip_h1_title": false,
   "title_cell": "Table of Contents",
   "title_sidebar": "Contents",
   "toc_cell": false,
   "toc_position": {},
   "toc_section_display": true,
   "toc_window_display": false
  }
 },
 "nbformat": 4,
 "nbformat_minor": 2
}
