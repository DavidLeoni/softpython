{
 "cells": [
  {
   "cell_type": "code",
   "execution_count": 1,
   "metadata": {},
   "outputs": [],
   "source": [
    "from itertools import chain\n",
    "\n",
    "from bqplot import OrdinalColorScale, Figure, Graph\n",
    "from ipywidgets import Layout"
   ]
  },
  {
   "cell_type": "code",
   "execution_count": 2,
   "metadata": {},
   "outputs": [],
   "source": [
    "# mobile patent suits - http://bl.ocks.org/mbostock/1153292\n",
    "suits = [\n",
    "    {'source': 'Microsoft', 'target': 'Amazon', 'type': 'licensing'},\n",
    "    {'source': 'Microsoft', 'target': 'HTC', 'type': 'licensing'},\n",
    "    {'source': 'Samsung', 'target': 'Apple', 'type': 'suit'},\n",
    "    {'source': 'Motorola', 'target': 'Apple', 'type': 'suit'},\n",
    "    {'source': 'Nokia', 'target': 'Apple', 'type': 'resolved'},\n",
    "    {'source': 'HTC', 'target': 'Apple', 'type': 'suit'},\n",
    "    {'source': 'Kodak', 'target': 'Apple', 'type': 'suit'},\n",
    "    {'source': 'Microsoft', 'target': 'Barnes & Noble', 'type': 'suit'},\n",
    "    {'source': 'Microsoft', 'target': 'Foxconn', 'type': 'suit'},\n",
    "    {'source': 'Oracle', 'target': 'Google', 'type': 'suit'},\n",
    "    {'source': 'Apple', 'target': 'HTC', 'type': 'suit'},\n",
    "    {'source': 'Microsoft', 'target': 'Inventec', 'type': 'suit'},\n",
    "    {'source': 'Samsung', 'target': 'Kodak', 'type': 'resolved'},\n",
    "    {'source': 'LG', 'target': 'Kodak', 'type': 'resolved'},\n",
    "    {'source': 'RIM', 'target': 'Kodak', 'type': 'suit'},\n",
    "    {'source': 'Sony', 'target': 'LG', 'type': 'suit'},\n",
    "    {'source': 'Kodak', 'target': 'LG', 'type': 'resolved'},\n",
    "    {'source': 'Apple', 'target': 'Nokia', 'type': 'resolved'},\n",
    "    {'source': 'Qualcomm', 'target': 'Nokia', 'type': 'resolved'},\n",
    "    {'source': 'Apple', 'target': 'Motorola', 'type': 'suit'},\n",
    "    {'source': 'Microsoft', 'target': 'Motorola', 'type': 'suit'},\n",
    "    {'source': 'Motorola', 'target': 'Microsoft', 'type': 'suit'},\n",
    "    {'source': 'Huawei', 'target': 'ZTE', 'type': 'suit'},\n",
    "    {'source': 'Ericsson', 'target': 'ZTE', 'type': 'suit'},\n",
    "    {'source': 'Kodak', 'target': 'Samsung', 'type': 'resolved'},\n",
    "    {'source': 'Apple', 'target': 'Samsung', 'type': 'suit'},\n",
    "    {'source': 'Kodak', 'target': 'RIM', 'type': 'suit'},\n",
    "    {'source': 'Nokia', 'target': 'Qualcomm', 'type': 'suit'},\n",
    "]"
   ]
  },
  {
   "cell_type": "code",
   "execution_count": 3,
   "metadata": {},
   "outputs": [
    {
     "data": {
      "application/vnd.jupyter.widget-view+json": {
       "model_id": "58ab78df0f83438f99b0b8d0b5322f6d",
       "version_major": 2,
       "version_minor": 0
      },
      "text/html": [
       "<p>Failed to display Jupyter Widget of type <code>Figure</code>.</p>\n",
       "<p>\n",
       "  If you're reading this message in the Jupyter Notebook or JupyterLab Notebook, it may mean\n",
       "  that the widgets JavaScript is still loading. If this message persists, it\n",
       "  likely means that the widgets JavaScript library is either not installed or\n",
       "  not enabled. See the <a href=\"https://ipywidgets.readthedocs.io/en/stable/user_install.html\">Jupyter\n",
       "  Widgets Documentation</a> for setup instructions.\n",
       "</p>\n",
       "<p>\n",
       "  If you're reading this message in another frontend (for example, a static\n",
       "  rendering on GitHub or <a href=\"https://nbviewer.jupyter.org/\">NBViewer</a>),\n",
       "  it may mean that your frontend doesn't currently support widgets.\n",
       "</p>\n"
      ],
      "text/plain": [
       "Figure(fig_margin={'bottom': 60, 'top': 60, 'left': 60, 'right': 60}, layout=Layout(height='900px', width='1000px'), marks=[Graph(colors=['gray'], interactions={'hover': 'tooltip', 'click': 'select'}, link_data=[{'source': 9, 'value': 'licensing', 'target': 11}, {'source': 9, 'value': 'licensing', 'target': 10}, {'source': 0, 'value': 'suit', 'target': 6}, {'source': 19, 'value': 'suit', 'target': 6}, {'source': 1, 'value': 'resolved', 'target': 6}, {'source': 10, 'value': 'suit', 'target': 6}, {'source': 2, 'value': 'suit', 'target': 6}, {'source': 9, 'value': 'suit', 'target': 18}, {'source': 9, 'value': 'suit', 'target': 12}, {'source': 16, 'value': 'suit', 'target': 17}, {'source': 6, 'value': 'suit', 'target': 10}, {'source': 9, 'value': 'suit', 'target': 3}, {'source': 0, 'value': 'resolved', 'target': 2}, {'source': 13, 'value': 'resolved', 'target': 2}, {'source': 7, 'value': 'suit', 'target': 2}, {'source': 14, 'value': 'suit', 'target': 13}, {'source': 2, 'value': 'resolved', 'target': 13}, {'source': 6, 'value': 'resolved', 'target': 1}, {'source': 15, 'value': 'resolved', 'target': 1}, {'source': 6, 'value': 'suit', 'target': 19}, {'source': 9, 'value': 'suit', 'target': 19}, {'source': 19, 'value': 'suit', 'target': 9}, {'source': 8, 'value': 'suit', 'target': 5}, {'source': 4, 'value': 'suit', 'target': 5}, {'source': 2, 'value': 'resolved', 'target': 0}, {'source': 6, 'value': 'suit', 'target': 0}, {'source': 2, 'value': 'suit', 'target': 7}, {'source': 1, 'value': 'suit', 'target': 15}], node_data=[{'label_display': 'outside', 'label': 'Samsung', 'shape_attrs': {'r': 6}}, {'label_display': 'outside', 'label': 'Nokia', 'shape_attrs': {'r': 6}}, {'label_display': 'outside', 'label': 'Kodak', 'shape_attrs': {'r': 6}}, {'label_display': 'outside', 'label': 'Inventec', 'shape_attrs': {'r': 6}}, {'label_display': 'outside', 'label': 'Ericsson', 'shape_attrs': {'r': 6}}, {'label_display': 'outside', 'label': 'ZTE', 'shape_attrs': {'r': 6}}, {'label_display': 'outside', 'label': 'Apple', 'shape_attrs': {'r': 6}}, {'label_display': 'outside', 'label': 'RIM', 'shape_attrs': {'r': 6}}, {'label_display': 'outside', 'label': 'Huawei', 'shape_attrs': {'r': 6}}, {'label_display': 'outside', 'label': 'Microsoft', 'shape_attrs': {'r': 6}}, {'label_display': 'outside', 'label': 'HTC', 'shape_attrs': {'r': 6}}, {'label_display': 'outside', 'label': 'Amazon', 'shape_attrs': {'r': 6}}, {'label_display': 'outside', 'label': 'Foxconn', 'shape_attrs': {'r': 6}}, {'label_display': 'outside', 'label': 'LG', 'shape_attrs': {'r': 6}}, {'label_display': 'outside', 'label': 'Sony', 'shape_attrs': {'r': 6}}, {'label_display': 'outside', 'label': 'Qualcomm', 'shape_attrs': {'r': 6}}, {'label_display': 'outside', 'label': 'Oracle', 'shape_attrs': {'r': 6}}, {'label_display': 'outside', 'label': 'Google', 'shape_attrs': {'r': 6}}, {'label_display': 'outside', 'label': 'Barnes & Noble', 'shape_attrs': {'r': 6}}, {'label_display': 'outside', 'label': 'Motorola', 'shape_attrs': {'r': 6}}], scales={'link_color': OrdinalColorScale(colors=['limegreen', 'dodgerblue', 'orangered'], domain=['licensing', 'suit', 'resolved'])}, scales_metadata={'x': {'orientation': 'horizontal', 'dimension': 'x'}, 'color': {'dimension': 'color'}, 'y': {'orientation': 'vertical', 'dimension': 'y'}, 'link_color': {'dimension': 'link_color'}}, tooltip_style={'opacity': 0.9})], scale_x=LinearScale(allow_padding=False, max=1.0, min=0.0), scale_y=LinearScale(allow_padding=False, max=1.0, min=0.0), title='Mobile Patent Suits')"
      ]
     },
     "metadata": {},
     "output_type": "display_data"
    }
   ],
   "source": [
    "# transform data into nodes and links\n",
    "nodes = list(set(chain(*((suit['source'], suit['target']) for suit in suits))))\n",
    "\n",
    "# set custom node attrs\n",
    "node_data = [{'label': node, 'shape_attrs': {'r': 6}, 'label_display': 'outside'} for node in nodes]\n",
    "# for links, source and target should be indices into the nodes list\n",
    "nodes_index_map = {node: i for i, node in enumerate(nodes)}\n",
    "link_data = [{'source': nodes_index_map[s['source']], \n",
    "              'target': nodes_index_map[s['target']], \n",
    "              'value': s['type']} for s in suits]\n",
    "\n",
    "# encode suit type with link color\n",
    "link_color_scale = OrdinalColorScale(domain=['licensing', 'suit', 'resolved'], \n",
    "                                     colors=['limegreen', 'dodgerblue', 'orangered'])\n",
    "graph = Graph(node_data=node_data, link_data=link_data, link_type='arc', \n",
    "              scales={'link_color': link_color_scale}, colors=['gray'], \n",
    "              directed=True, link_distance=100, charge=-600)\n",
    "Figure(marks=[graph], layout=Layout(height='900px', width='1000px'), title='Mobile Patent Suits')"
   ]
  },
  {
   "cell_type": "code",
   "execution_count": null,
   "metadata": {},
   "outputs": [],
   "source": []
  }
 ],
 "metadata": {
  "kernelspec": {
   "display_name": "Python 3",
   "language": "python",
   "name": "python3"
  },
  "language_info": {
   "codemirror_mode": {
    "name": "ipython",
    "version": 3
   },
   "file_extension": ".py",
   "mimetype": "text/x-python",
   "name": "python",
   "nbconvert_exporter": "python",
   "pygments_lexer": "ipython3",
   "version": "3.5.2"
  }
 },
 "nbformat": 4,
 "nbformat_minor": 2
}
