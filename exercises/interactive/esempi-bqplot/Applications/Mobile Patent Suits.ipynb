{
 "cells": [
  {
   "cell_type": "code",
   "execution_count": 1,
   "metadata": {},
   "outputs": [],
   "source": [
    "from itertools import chain\n",
    "\n",
    "from bqplot import OrdinalColorScale, Figure, Graph\n",
    "from ipywidgets import Layout"
   ]
  },
  {
   "cell_type": "code",
   "execution_count": 2,
   "metadata": {},
   "outputs": [],
   "source": [
    "# mobile patent suits - http://bl.ocks.org/mbostock/1153292\n",
    "suits = [\n",
    "    {'source': 'Microsoft', 'target': 'Amazon', 'type': 'licensing'},\n",
    "    {'source': 'Microsoft', 'target': 'HTC', 'type': 'licensing'},\n",
    "    {'source': 'Samsung', 'target': 'Apple', 'type': 'suit'},\n",
    "    {'source': 'Motorola', 'target': 'Apple', 'type': 'suit'},\n",
    "    {'source': 'Nokia', 'target': 'Apple', 'type': 'resolved'},\n",
    "    {'source': 'HTC', 'target': 'Apple', 'type': 'suit'},\n",
    "    {'source': 'Kodak', 'target': 'Apple', 'type': 'suit'},\n",
    "    {'source': 'Microsoft', 'target': 'Barnes & Noble', 'type': 'suit'},\n",
    "    {'source': 'Microsoft', 'target': 'Foxconn', 'type': 'suit'},\n",
    "    {'source': 'Oracle', 'target': 'Google', 'type': 'suit'},\n",
    "    {'source': 'Apple', 'target': 'HTC', 'type': 'suit'},\n",
    "    {'source': 'Microsoft', 'target': 'Inventec', 'type': 'suit'},\n",
    "    {'source': 'Samsung', 'target': 'Kodak', 'type': 'resolved'},\n",
    "    {'source': 'LG', 'target': 'Kodak', 'type': 'resolved'},\n",
    "    {'source': 'RIM', 'target': 'Kodak', 'type': 'suit'},\n",
    "    {'source': 'Sony', 'target': 'LG', 'type': 'suit'},\n",
    "    {'source': 'Kodak', 'target': 'LG', 'type': 'resolved'},\n",
    "    {'source': 'Apple', 'target': 'Nokia', 'type': 'resolved'},\n",
    "    {'source': 'Qualcomm', 'target': 'Nokia', 'type': 'resolved'},\n",
    "    {'source': 'Apple', 'target': 'Motorola', 'type': 'suit'},\n",
    "    {'source': 'Microsoft', 'target': 'Motorola', 'type': 'suit'},\n",
    "    {'source': 'Motorola', 'target': 'Microsoft', 'type': 'suit'},\n",
    "    {'source': 'Huawei', 'target': 'ZTE', 'type': 'suit'},\n",
    "    {'source': 'Ericsson', 'target': 'ZTE', 'type': 'suit'},\n",
    "    {'source': 'Kodak', 'target': 'Samsung', 'type': 'resolved'},\n",
    "    {'source': 'Apple', 'target': 'Samsung', 'type': 'suit'},\n",
    "    {'source': 'Kodak', 'target': 'RIM', 'type': 'suit'},\n",
    "    {'source': 'Nokia', 'target': 'Qualcomm', 'type': 'suit'},\n",
    "]"
   ]
  },
  {
   "cell_type": "code",
   "execution_count": 3,
   "metadata": {},
   "outputs": [
    {
     "data": {
      "application/vnd.jupyter.widget-view+json": {
       "model_id": "7af9d62961c2437b8eb29976f386c541",
       "version_major": 2,
       "version_minor": 0
      },
      "text/html": [
       "<p>Failed to display Jupyter Widget of type <code>Figure</code>.</p>\n",
       "<p>\n",
       "  If you're reading this message in the Jupyter Notebook or JupyterLab Notebook, it may mean\n",
       "  that the widgets JavaScript is still loading. If this message persists, it\n",
       "  likely means that the widgets JavaScript library is either not installed or\n",
       "  not enabled. See the <a href=\"https://ipywidgets.readthedocs.io/en/stable/user_install.html\">Jupyter\n",
       "  Widgets Documentation</a> for setup instructions.\n",
       "</p>\n",
       "<p>\n",
       "  If you're reading this message in another frontend (for example, a static\n",
       "  rendering on GitHub or <a href=\"https://nbviewer.jupyter.org/\">NBViewer</a>),\n",
       "  it may mean that your frontend doesn't currently support widgets.\n",
       "</p>\n"
      ],
      "text/plain": [
       "Figure(fig_margin={'top': 60, 'left': 60, 'bottom': 60, 'right': 60}, layout=Layout(height='900px', width='1000px'), marks=[Graph(colors=['gray'], interactions={'hover': 'tooltip', 'click': 'select'}, link_data=[{'value': 'licensing', 'source': 19, 'target': 5}, {'value': 'licensing', 'source': 19, 'target': 18}, {'value': 'suit', 'source': 0, 'target': 16}, {'value': 'suit', 'source': 11, 'target': 16}, {'value': 'resolved', 'source': 12, 'target': 16}, {'value': 'suit', 'source': 18, 'target': 16}, {'value': 'suit', 'source': 8, 'target': 16}, {'value': 'suit', 'source': 19, 'target': 2}, {'value': 'suit', 'source': 19, 'target': 9}, {'value': 'suit', 'source': 14, 'target': 15}, {'value': 'suit', 'source': 16, 'target': 18}, {'value': 'suit', 'source': 19, 'target': 1}, {'value': 'resolved', 'source': 0, 'target': 8}, {'value': 'resolved', 'source': 3, 'target': 8}, {'value': 'suit', 'source': 4, 'target': 8}, {'value': 'suit', 'source': 17, 'target': 3}, {'value': 'resolved', 'source': 8, 'target': 3}, {'value': 'resolved', 'source': 16, 'target': 12}, {'value': 'resolved', 'source': 13, 'target': 12}, {'value': 'suit', 'source': 16, 'target': 11}, {'value': 'suit', 'source': 19, 'target': 11}, {'value': 'suit', 'source': 11, 'target': 19}, {'value': 'suit', 'source': 6, 'target': 7}, {'value': 'suit', 'source': 10, 'target': 7}, {'value': 'resolved', 'source': 8, 'target': 0}, {'value': 'suit', 'source': 16, 'target': 0}, {'value': 'suit', 'source': 8, 'target': 4}, {'value': 'suit', 'source': 12, 'target': 13}], node_data=[{'shape_attrs': {'r': 6}, 'label': 'Samsung', 'label_display': 'outside'}, {'shape_attrs': {'r': 6}, 'label': 'Inventec', 'label_display': 'outside'}, {'shape_attrs': {'r': 6}, 'label': 'Barnes & Noble', 'label_display': 'outside'}, {'shape_attrs': {'r': 6}, 'label': 'LG', 'label_display': 'outside'}, {'shape_attrs': {'r': 6}, 'label': 'RIM', 'label_display': 'outside'}, {'shape_attrs': {'r': 6}, 'label': 'Amazon', 'label_display': 'outside'}, {'shape_attrs': {'r': 6}, 'label': 'Huawei', 'label_display': 'outside'}, {'shape_attrs': {'r': 6}, 'label': 'ZTE', 'label_display': 'outside'}, {'shape_attrs': {'r': 6}, 'label': 'Kodak', 'label_display': 'outside'}, {'shape_attrs': {'r': 6}, 'label': 'Foxconn', 'label_display': 'outside'}, {'shape_attrs': {'r': 6}, 'label': 'Ericsson', 'label_display': 'outside'}, {'shape_attrs': {'r': 6}, 'label': 'Motorola', 'label_display': 'outside'}, {'shape_attrs': {'r': 6}, 'label': 'Nokia', 'label_display': 'outside'}, {'shape_attrs': {'r': 6}, 'label': 'Qualcomm', 'label_display': 'outside'}, {'shape_attrs': {'r': 6}, 'label': 'Oracle', 'label_display': 'outside'}, {'shape_attrs': {'r': 6}, 'label': 'Google', 'label_display': 'outside'}, {'shape_attrs': {'r': 6}, 'label': 'Apple', 'label_display': 'outside'}, {'shape_attrs': {'r': 6}, 'label': 'Sony', 'label_display': 'outside'}, {'shape_attrs': {'r': 6}, 'label': 'HTC', 'label_display': 'outside'}, {'shape_attrs': {'r': 6}, 'label': 'Microsoft', 'label_display': 'outside'}], scales={'link_color': OrdinalColorScale(colors=['limegreen', 'dodgerblue', 'orangered'], domain=['licensing', 'suit', 'resolved'])}, scales_metadata={'y': {'dimension': 'y', 'orientation': 'vertical'}, 'x': {'dimension': 'x', 'orientation': 'horizontal'}, 'color': {'dimension': 'color'}, 'link_color': {'dimension': 'link_color'}}, tooltip_style={'opacity': 0.9})], scale_x=LinearScale(allow_padding=False, max=1.0, min=0.0), scale_y=LinearScale(allow_padding=False, max=1.0, min=0.0), title='Mobile Patent Suits')"
      ]
     },
     "metadata": {},
     "output_type": "display_data"
    }
   ],
   "source": [
    "# transform data into nodes and links\n",
    "nodes = list(set(chain(*((suit['source'], suit['target']) for suit in suits))))\n",
    "\n",
    "# set custom node attrs\n",
    "node_data = [{'label': node, 'shape_attrs': {'r': 6}, 'label_display': 'outside'} for node in nodes]\n",
    "# for links, source and target should be indices into the nodes list\n",
    "nodes_index_map = {node: i for i, node in enumerate(nodes)}\n",
    "link_data = [{'source': nodes_index_map[s['source']], \n",
    "              'target': nodes_index_map[s['target']], \n",
    "              'value': s['type']} for s in suits]\n",
    "\n",
    "# encode suit type with link color\n",
    "link_color_scale = OrdinalColorScale(domain=['licensing', 'suit', 'resolved'], \n",
    "                                     colors=['limegreen', 'dodgerblue', 'orangered'])\n",
    "graph = Graph(node_data=node_data, link_data=link_data, link_type='arc', \n",
    "              scales={'link_color': link_color_scale}, colors=['gray'], \n",
    "              directed=True, link_distance=100, charge=-600)\n",
    "Figure(marks=[graph], layout=Layout(height='900px', width='1000px'), title='Mobile Patent Suits')"
   ]
  },
  {
   "cell_type": "code",
   "execution_count": null,
   "metadata": {},
   "outputs": [],
   "source": []
  }
 ],
 "metadata": {
  "kernelspec": {
   "display_name": "Python 3",
   "language": "python",
   "name": "python3"
  },
  "language_info": {
   "codemirror_mode": {
    "name": "ipython",
    "version": 3
   },
   "file_extension": ".py",
   "mimetype": "text/x-python",
   "name": "python",
   "nbconvert_exporter": "python",
   "pygments_lexer": "ipython3",
   "version": "3.5.2"
  },
  "widgets": {
   "application/vnd.jupyter.widget-state+json": {
    "state": {
     "07a9f5ed6bde47048ec84fa5efa6ff4f": {
      "model_module": "bqplot",
      "model_module_version": "^0.3.6",
      "model_name": "LinearScaleModel",
      "state": {
       "allow_padding": false,
       "max": 1,
       "min": 0,
       "stabilized": false
      }
     },
     "67bfacd3ba00414ebdbe0f3803f0a53c": {
      "model_module": "@jupyter-widgets/base",
      "model_module_version": "1.0.0",
      "model_name": "LayoutModel",
      "state": {
       "height": "900px",
       "width": "1000px"
      }
     },
     "7af9d62961c2437b8eb29976f386c541": {
      "model_module": "bqplot",
      "model_module_version": "^0.3.6",
      "model_name": "FigureModel",
      "state": {
       "_dom_classes": [],
       "layout": "IPY_MODEL_67bfacd3ba00414ebdbe0f3803f0a53c",
       "marks": [
        "IPY_MODEL_d09c88a5794d4bf8a84ac2dec6c1536b"
       ],
       "max_aspect_ratio": 6,
       "scale_x": "IPY_MODEL_8358c252297e47609558d0d5e83319e4",
       "scale_y": "IPY_MODEL_07a9f5ed6bde47048ec84fa5efa6ff4f",
       "title": "Mobile Patent Suits"
      }
     },
     "8358c252297e47609558d0d5e83319e4": {
      "model_module": "bqplot",
      "model_module_version": "^0.3.6",
      "model_name": "LinearScaleModel",
      "state": {
       "allow_padding": false,
       "max": 1,
       "min": 0,
       "stabilized": false
      }
     },
     "d09c88a5794d4bf8a84ac2dec6c1536b": {
      "model_module": "bqplot",
      "model_module_version": "^0.3.6",
      "model_name": "GraphModel",
      "state": {
       "_model_module": "bqplot",
       "_model_module_version": "^0.3.6",
       "_view_count": null,
       "_view_module": "bqplot",
       "_view_module_version": "^0.3.6",
       "apply_clip": true,
       "charge": -600,
       "color": {
        "type": null,
        "values": null
       },
       "colors": [
        "gray"
       ],
       "directed": true,
       "display_legend": false,
       "enable_hover": true,
       "highlight_links": true,
       "hovered_style": {},
       "interactions": {
        "click": "select",
        "hover": "tooltip"
       },
       "labels": [],
       "link_color": {
        "type": "float",
        "values": []
       },
       "link_data": [
        {
         "source": {
          "index": 19,
          "label": "Microsoft",
          "label_display": "outside",
          "px": 328.37923738437604,
          "py": 511.3343563331645,
          "shape": "circle",
          "shape_attrs": {
           "r": 6
          },
          "value": null,
          "weight": 7,
          "x": 328.28746945970715,
          "y": 511.3914538241553
         },
         "target": {
          "index": 5,
          "label": "Amazon",
          "label_display": "outside",
          "px": 253.40918312088908,
          "py": 423.8815129500746,
          "shape": "circle",
          "shape_attrs": {
           "r": 6
          },
          "value": null,
          "weight": 1,
          "x": 253.23021210897195,
          "y": 423.88681386671334
         },
         "value": "licensing"
        },
        {
         "source": {
          "index": 19,
          "label": "Microsoft",
          "label_display": "outside",
          "px": 328.37923738437604,
          "py": 511.3343563331645,
          "shape": "circle",
          "shape_attrs": {
           "r": 6
          },
          "value": null,
          "weight": 7,
          "x": 328.28746945970715,
          "y": 511.3914538241553
         },
         "target": {
          "index": 18,
          "label": "HTC",
          "label_display": "outside",
          "px": 445.0726033562166,
          "py": 523.8865222428553,
          "shape": "circle",
          "shape_attrs": {
           "r": 6
          },
          "value": null,
          "weight": 3,
          "x": 445.1230673427105,
          "y": 523.8352261063798
         },
         "value": "licensing"
        },
        {
         "source": {
          "index": 0,
          "label": "Samsung",
          "label_display": "outside",
          "px": 423.0948622225856,
          "py": 551.1697559402162,
          "shape": "circle",
          "shape_attrs": {
           "r": 6
          },
          "value": null,
          "weight": 4,
          "x": 423.06393208388374,
          "y": 551.2583952647504
         },
         "target": {
          "index": 16,
          "label": "Apple",
          "label_display": "outside",
          "px": 472.14847459640004,
          "py": 632.5501094669205,
          "shape": "circle",
          "shape_attrs": {
           "r": 6
          },
          "value": null,
          "weight": 9,
          "x": 472.2149239078521,
          "y": 632.6753192187022
         },
         "value": "suit"
        },
        {
         "source": {
          "index": 11,
          "label": "Motorola",
          "label_display": "outside",
          "px": 363.7903377147658,
          "py": 615.2209834955327,
          "shape": "circle",
          "shape_attrs": {
           "r": 6
          },
          "value": null,
          "weight": 4,
          "x": 363.73681372762786,
          "y": 615.3798330825925
         },
         "target": {
          "index": 16,
          "label": "Apple",
          "label_display": "outside",
          "px": 472.14847459640004,
          "py": 632.5501094669205,
          "shape": "circle",
          "shape_attrs": {
           "r": 6
          },
          "value": null,
          "weight": 9,
          "x": 472.2149239078521,
          "y": 632.6753192187022
         },
         "value": "suit"
        },
        {
         "source": {
          "index": 12,
          "label": "Nokia",
          "label_display": "outside",
          "px": 511.2072379480659,
          "py": 727.5137395964131,
          "shape": "circle",
          "shape_attrs": {
           "r": 6
          },
          "value": null,
          "weight": 4,
          "x": 511.24648328885655,
          "y": 727.6804715073116
         },
         "target": {
          "index": 16,
          "label": "Apple",
          "label_display": "outside",
          "px": 472.14847459640004,
          "py": 632.5501094669205,
          "shape": "circle",
          "shape_attrs": {
           "r": 6
          },
          "value": null,
          "weight": 9,
          "x": 472.2149239078521,
          "y": 632.6753192187022
         },
         "value": "resolved"
        },
        {
         "source": {
          "index": 18,
          "label": "HTC",
          "label_display": "outside",
          "px": 445.0726033562166,
          "py": 523.8865222428553,
          "shape": "circle",
          "shape_attrs": {
           "r": 6
          },
          "value": null,
          "weight": 3,
          "x": 445.1230673427105,
          "y": 523.8352261063798
         },
         "target": {
          "index": 16,
          "label": "Apple",
          "label_display": "outside",
          "px": 472.14847459640004,
          "py": 632.5501094669205,
          "shape": "circle",
          "shape_attrs": {
           "r": 6
          },
          "value": null,
          "weight": 9,
          "x": 472.2149239078521,
          "y": 632.6753192187022
         },
         "value": "suit"
        },
        {
         "source": {
          "index": 8,
          "label": "Kodak",
          "label_display": "outside",
          "px": 531.6435703123827,
          "py": 535.8948853214198,
          "shape": "circle",
          "shape_attrs": {
           "r": 6
          },
          "value": null,
          "weight": 7,
          "x": 531.7505909522388,
          "y": 535.9045906336529
         },
         "target": {
          "index": 16,
          "label": "Apple",
          "label_display": "outside",
          "px": 472.14847459640004,
          "py": 632.5501094669205,
          "shape": "circle",
          "shape_attrs": {
           "r": 6
          },
          "value": null,
          "weight": 9,
          "x": 472.2149239078521,
          "y": 632.6753192187022
         },
         "value": "suit"
        },
        {
         "source": {
          "index": 19,
          "label": "Microsoft",
          "label_display": "outside",
          "px": 328.37923738437604,
          "py": 511.3343563331645,
          "shape": "circle",
          "shape_attrs": {
           "r": 6
          },
          "value": null,
          "weight": 7,
          "x": 328.28746945970715,
          "y": 511.3914538241553
         },
         "target": {
          "index": 2,
          "label": "Barnes & Noble",
          "label_display": "outside",
          "px": 220.88825268001725,
          "py": 514.8200779520082,
          "shape": "circle",
          "shape_attrs": {
           "r": 6
          },
          "value": null,
          "weight": 1,
          "x": 220.74824689210038,
          "y": 514.9582690322917
         },
         "value": "suit"
        },
        {
         "source": {
          "index": 19,
          "label": "Microsoft",
          "label_display": "outside",
          "px": 328.37923738437604,
          "py": 511.3343563331645,
          "shape": "circle",
          "shape_attrs": {
           "r": 6
          },
          "value": null,
          "weight": 7,
          "x": 328.28746945970715,
          "y": 511.3914538241553
         },
         "target": {
          "index": 9,
          "label": "Foxconn",
          "label_display": "outside",
          "px": 315.6219081119179,
          "py": 391.53377063652664,
          "shape": "circle",
          "shape_attrs": {
           "r": 6
          },
          "value": null,
          "weight": 1,
          "x": 315.5046509875501,
          "y": 391.4569466557418
         },
         "value": "suit"
        },
        {
         "source": {
          "index": 14,
          "label": "Oracle",
          "label_display": "outside",
          "px": 543.0382265857962,
          "py": 182.8749486145045,
          "shape": "circle",
          "shape_attrs": {
           "r": 6
          },
          "value": null,
          "weight": 1,
          "x": 542.9228252819961,
          "y": 182.7218272077859
         },
         "target": {
          "index": 15,
          "label": "Google",
          "label_display": "outside",
          "px": 641.1600683425092,
          "py": 224.18452714483712,
          "shape": "circle",
          "shape_attrs": {
           "r": 6
          },
          "value": null,
          "weight": 1,
          "x": 641.1432729893783,
          "y": 224.01358113222815
         },
         "value": "suit"
        },
        {
         "source": {
          "index": 16,
          "label": "Apple",
          "label_display": "outside",
          "px": 472.14847459640004,
          "py": 632.5501094669205,
          "shape": "circle",
          "shape_attrs": {
           "r": 6
          },
          "value": null,
          "weight": 9,
          "x": 472.2149239078521,
          "y": 632.6753192187022
         },
         "target": {
          "index": 18,
          "label": "HTC",
          "label_display": "outside",
          "px": 445.0726033562166,
          "py": 523.8865222428553,
          "shape": "circle",
          "shape_attrs": {
           "r": 6
          },
          "value": null,
          "weight": 3,
          "x": 445.1230673427105,
          "y": 523.8352261063798
         },
         "value": "suit"
        },
        {
         "source": {
          "index": 19,
          "label": "Microsoft",
          "label_display": "outside",
          "px": 328.37923738437604,
          "py": 511.3343563331645,
          "shape": "circle",
          "shape_attrs": {
           "r": 6
          },
          "value": null,
          "weight": 7,
          "x": 328.28746945970715,
          "y": 511.3914538241553
         },
         "target": {
          "index": 1,
          "label": "Inventec",
          "label_display": "outside",
          "px": 380.84379822818977,
          "py": 406.28663901072986,
          "shape": "circle",
          "shape_attrs": {
           "r": 6
          },
          "value": null,
          "weight": 1,
          "x": 380.807480850988,
          "y": 406.2121585460193
         },
         "value": "suit"
        },
        {
         "source": {
          "index": 0,
          "label": "Samsung",
          "label_display": "outside",
          "px": 423.0948622225856,
          "py": 551.1697559402162,
          "shape": "circle",
          "shape_attrs": {
           "r": 6
          },
          "value": null,
          "weight": 4,
          "x": 423.06393208388374,
          "y": 551.2583952647504
         },
         "target": {
          "index": 8,
          "label": "Kodak",
          "label_display": "outside",
          "px": 531.6435703123827,
          "py": 535.8948853214198,
          "shape": "circle",
          "shape_attrs": {
           "r": 6
          },
          "value": null,
          "weight": 7,
          "x": 531.7505909522388,
          "y": 535.9045906336529
         },
         "value": "resolved"
        },
        {
         "source": {
          "index": 3,
          "label": "LG",
          "label_display": "outside",
          "px": 547.6475136476952,
          "py": 427.4843107663125,
          "shape": "circle",
          "shape_attrs": {
           "r": 6
          },
          "value": null,
          "weight": 3,
          "x": 547.7046645535498,
          "y": 427.3940690143963
         },
         "target": {
          "index": 8,
          "label": "Kodak",
          "label_display": "outside",
          "px": 531.6435703123827,
          "py": 535.8948853214198,
          "shape": "circle",
          "shape_attrs": {
           "r": 6
          },
          "value": null,
          "weight": 7,
          "x": 531.7505909522388,
          "y": 535.9045906336529
         },
         "value": "resolved"
        },
        {
         "source": {
          "index": 4,
          "label": "RIM",
          "label_display": "outside",
          "px": 628.8476998990681,
          "py": 499.42380951833326,
          "shape": "circle",
          "shape_attrs": {
           "r": 6
          },
          "value": null,
          "weight": 2,
          "x": 628.9900231895085,
          "y": 499.42641268890515
         },
         "target": {
          "index": 8,
          "label": "Kodak",
          "label_display": "outside",
          "px": 531.6435703123827,
          "py": 535.8948853214198,
          "shape": "circle",
          "shape_attrs": {
           "r": 6
          },
          "value": null,
          "weight": 7,
          "x": 531.7505909522388,
          "y": 535.9045906336529
         },
         "value": "suit"
        },
        {
         "source": {
          "index": 17,
          "label": "Sony",
          "label_display": "outside",
          "px": 530.177550192637,
          "py": 318.1372661908561,
          "shape": "circle",
          "shape_attrs": {
           "r": 6
          },
          "value": null,
          "weight": 1,
          "x": 530.1667882502643,
          "y": 318.0107468867575
         },
         "target": {
          "index": 3,
          "label": "LG",
          "label_display": "outside",
          "px": 547.6475136476952,
          "py": 427.4843107663125,
          "shape": "circle",
          "shape_attrs": {
           "r": 6
          },
          "value": null,
          "weight": 3,
          "x": 547.7046645535498,
          "y": 427.3940690143963
         },
         "value": "suit"
        },
        {
         "source": {
          "index": 8,
          "label": "Kodak",
          "label_display": "outside",
          "px": 531.6435703123827,
          "py": 535.8948853214198,
          "shape": "circle",
          "shape_attrs": {
           "r": 6
          },
          "value": null,
          "weight": 7,
          "x": 531.7505909522388,
          "y": 535.9045906336529
         },
         "target": {
          "index": 3,
          "label": "LG",
          "label_display": "outside",
          "px": 547.6475136476952,
          "py": 427.4843107663125,
          "shape": "circle",
          "shape_attrs": {
           "r": 6
          },
          "value": null,
          "weight": 3,
          "x": 547.7046645535498,
          "y": 427.3940690143963
         },
         "value": "resolved"
        },
        {
         "source": {
          "index": 16,
          "label": "Apple",
          "label_display": "outside",
          "px": 472.14847459640004,
          "py": 632.5501094669205,
          "shape": "circle",
          "shape_attrs": {
           "r": 6
          },
          "value": null,
          "weight": 9,
          "x": 472.2149239078521,
          "y": 632.6753192187022
         },
         "target": {
          "index": 12,
          "label": "Nokia",
          "label_display": "outside",
          "px": 511.2072379480659,
          "py": 727.5137395964131,
          "shape": "circle",
          "shape_attrs": {
           "r": 6
          },
          "value": null,
          "weight": 4,
          "x": 511.24648328885655,
          "y": 727.6804715073116
         },
         "value": "resolved"
        },
        {
         "source": {
          "index": 13,
          "label": "Qualcomm",
          "label_display": "outside",
          "px": 612.4379167250571,
          "py": 704.5987645016177,
          "shape": "circle",
          "shape_attrs": {
           "r": 6
          },
          "value": null,
          "weight": 2,
          "x": 612.5595527464187,
          "y": 704.7125743008345
         },
         "target": {
          "index": 12,
          "label": "Nokia",
          "label_display": "outside",
          "px": 511.2072379480659,
          "py": 727.5137395964131,
          "shape": "circle",
          "shape_attrs": {
           "r": 6
          },
          "value": null,
          "weight": 4,
          "x": 511.24648328885655,
          "y": 727.6804715073116
         },
         "value": "resolved"
        },
        {
         "source": {
          "index": 16,
          "label": "Apple",
          "label_display": "outside",
          "px": 472.14847459640004,
          "py": 632.5501094669205,
          "shape": "circle",
          "shape_attrs": {
           "r": 6
          },
          "value": null,
          "weight": 9,
          "x": 472.2149239078521,
          "y": 632.6753192187022
         },
         "target": {
          "index": 11,
          "label": "Motorola",
          "label_display": "outside",
          "px": 363.7903377147658,
          "py": 615.2209834955327,
          "shape": "circle",
          "shape_attrs": {
           "r": 6
          },
          "value": null,
          "weight": 4,
          "x": 363.73681372762786,
          "y": 615.3798330825925
         },
         "value": "suit"
        },
        {
         "source": {
          "index": 19,
          "label": "Microsoft",
          "label_display": "outside",
          "px": 328.37923738437604,
          "py": 511.3343563331645,
          "shape": "circle",
          "shape_attrs": {
           "r": 6
          },
          "value": null,
          "weight": 7,
          "x": 328.28746945970715,
          "y": 511.3914538241553
         },
         "target": {
          "index": 11,
          "label": "Motorola",
          "label_display": "outside",
          "px": 363.7903377147658,
          "py": 615.2209834955327,
          "shape": "circle",
          "shape_attrs": {
           "r": 6
          },
          "value": null,
          "weight": 4,
          "x": 363.73681372762786,
          "y": 615.3798330825925
         },
         "value": "suit"
        },
        {
         "source": {
          "index": 11,
          "label": "Motorola",
          "label_display": "outside",
          "px": 363.7903377147658,
          "py": 615.2209834955327,
          "shape": "circle",
          "shape_attrs": {
           "r": 6
          },
          "value": null,
          "weight": 4,
          "x": 363.73681372762786,
          "y": 615.3798330825925
         },
         "target": {
          "index": 19,
          "label": "Microsoft",
          "label_display": "outside",
          "px": 328.37923738437604,
          "py": 511.3343563331645,
          "shape": "circle",
          "shape_attrs": {
           "r": 6
          },
          "value": null,
          "weight": 7,
          "x": 328.28746945970715,
          "y": 511.3914538241553
         },
         "value": "suit"
        },
        {
         "source": {
          "index": 6,
          "label": "Huawei",
          "label_display": "outside",
          "px": 739.3532276126645,
          "py": 352.82696441449843,
          "shape": "circle",
          "shape_attrs": {
           "r": 6
          },
          "value": null,
          "weight": 1,
          "x": 739.4336872776718,
          "y": 352.67725092911047
         },
         "target": {
          "index": 7,
          "label": "ZTE",
          "label_display": "outside",
          "px": 761.4398819259737,
          "py": 454.58865509704907,
          "shape": "circle",
          "shape_attrs": {
           "r": 6
          },
          "value": null,
          "weight": 2,
          "x": 761.5810322406386,
          "y": 454.4933468030719
         },
         "value": "suit"
        },
        {
         "source": {
          "index": 10,
          "label": "Ericsson",
          "label_display": "outside",
          "px": 748.2842138179611,
          "py": 558.9454413787005,
          "shape": "circle",
          "shape_attrs": {
           "r": 6
          },
          "value": null,
          "weight": 1,
          "x": 748.4479418353396,
          "y": 558.9274985242288
         },
         "target": {
          "index": 7,
          "label": "ZTE",
          "label_display": "outside",
          "px": 761.4398819259737,
          "py": 454.58865509704907,
          "shape": "circle",
          "shape_attrs": {
           "r": 6
          },
          "value": null,
          "weight": 2,
          "x": 761.5810322406386,
          "y": 454.4933468030719
         },
         "value": "suit"
        },
        {
         "source": {
          "index": 8,
          "label": "Kodak",
          "label_display": "outside",
          "px": 531.6435703123827,
          "py": 535.8948853214198,
          "shape": "circle",
          "shape_attrs": {
           "r": 6
          },
          "value": null,
          "weight": 7,
          "x": 531.7505909522388,
          "y": 535.9045906336529
         },
         "target": {
          "index": 0,
          "label": "Samsung",
          "label_display": "outside",
          "px": 423.0948622225856,
          "py": 551.1697559402162,
          "shape": "circle",
          "shape_attrs": {
           "r": 6
          },
          "value": null,
          "weight": 4,
          "x": 423.06393208388374,
          "y": 551.2583952647504
         },
         "value": "resolved"
        },
        {
         "source": {
          "index": 16,
          "label": "Apple",
          "label_display": "outside",
          "px": 472.14847459640004,
          "py": 632.5501094669205,
          "shape": "circle",
          "shape_attrs": {
           "r": 6
          },
          "value": null,
          "weight": 9,
          "x": 472.2149239078521,
          "y": 632.6753192187022
         },
         "target": {
          "index": 0,
          "label": "Samsung",
          "label_display": "outside",
          "px": 423.0948622225856,
          "py": 551.1697559402162,
          "shape": "circle",
          "shape_attrs": {
           "r": 6
          },
          "value": null,
          "weight": 4,
          "x": 423.06393208388374,
          "y": 551.2583952647504
         },
         "value": "suit"
        },
        {
         "source": {
          "index": 8,
          "label": "Kodak",
          "label_display": "outside",
          "px": 531.6435703123827,
          "py": 535.8948853214198,
          "shape": "circle",
          "shape_attrs": {
           "r": 6
          },
          "value": null,
          "weight": 7,
          "x": 531.7505909522388,
          "y": 535.9045906336529
         },
         "target": {
          "index": 4,
          "label": "RIM",
          "label_display": "outside",
          "px": 628.8476998990681,
          "py": 499.42380951833326,
          "shape": "circle",
          "shape_attrs": {
           "r": 6
          },
          "value": null,
          "weight": 2,
          "x": 628.9900231895085,
          "y": 499.42641268890515
         },
         "value": "suit"
        },
        {
         "source": {
          "index": 12,
          "label": "Nokia",
          "label_display": "outside",
          "px": 511.2072379480659,
          "py": 727.5137395964131,
          "shape": "circle",
          "shape_attrs": {
           "r": 6
          },
          "value": null,
          "weight": 4,
          "x": 511.24648328885655,
          "y": 727.6804715073116
         },
         "target": {
          "index": 13,
          "label": "Qualcomm",
          "label_display": "outside",
          "px": 612.4379167250571,
          "py": 704.5987645016177,
          "shape": "circle",
          "shape_attrs": {
           "r": 6
          },
          "value": null,
          "weight": 2,
          "x": 612.5595527464187,
          "y": 704.7125743008345
         },
         "value": "suit"
        }
       ],
       "link_distance": 100,
       "link_matrix": {
        "type": "float",
        "values": []
       },
       "link_type": "arc",
       "node_data": [
        {
         "index": 0,
         "label": "Samsung",
         "label_display": "outside",
         "px": 423.0948622225856,
         "py": 551.1697559402162,
         "shape": "circle",
         "shape_attrs": {
          "r": 6
         },
         "value": null,
         "weight": 4,
         "x": 423.06393208388374,
         "y": 551.2583952647504
        },
        {
         "index": 1,
         "label": "Inventec",
         "label_display": "outside",
         "px": 380.84379822818977,
         "py": 406.28663901072986,
         "shape": "circle",
         "shape_attrs": {
          "r": 6
         },
         "value": null,
         "weight": 1,
         "x": 380.807480850988,
         "y": 406.2121585460193
        },
        {
         "index": 2,
         "label": "Barnes & Noble",
         "label_display": "outside",
         "px": 220.88825268001725,
         "py": 514.8200779520082,
         "shape": "circle",
         "shape_attrs": {
          "r": 6
         },
         "value": null,
         "weight": 1,
         "x": 220.74824689210038,
         "y": 514.9582690322917
        },
        {
         "index": 3,
         "label": "LG",
         "label_display": "outside",
         "px": 547.6475136476952,
         "py": 427.4843107663125,
         "shape": "circle",
         "shape_attrs": {
          "r": 6
         },
         "value": null,
         "weight": 3,
         "x": 547.7046645535498,
         "y": 427.3940690143963
        },
        {
         "index": 4,
         "label": "RIM",
         "label_display": "outside",
         "px": 628.8476998990681,
         "py": 499.42380951833326,
         "shape": "circle",
         "shape_attrs": {
          "r": 6
         },
         "value": null,
         "weight": 2,
         "x": 628.9900231895085,
         "y": 499.42641268890515
        },
        {
         "index": 5,
         "label": "Amazon",
         "label_display": "outside",
         "px": 253.40918312088908,
         "py": 423.8815129500746,
         "shape": "circle",
         "shape_attrs": {
          "r": 6
         },
         "value": null,
         "weight": 1,
         "x": 253.23021210897195,
         "y": 423.88681386671334
        },
        {
         "index": 6,
         "label": "Huawei",
         "label_display": "outside",
         "px": 739.3532276126645,
         "py": 352.82696441449843,
         "shape": "circle",
         "shape_attrs": {
          "r": 6
         },
         "value": null,
         "weight": 1,
         "x": 739.4336872776718,
         "y": 352.67725092911047
        },
        {
         "index": 7,
         "label": "ZTE",
         "label_display": "outside",
         "px": 761.4398819259737,
         "py": 454.58865509704907,
         "shape": "circle",
         "shape_attrs": {
          "r": 6
         },
         "value": null,
         "weight": 2,
         "x": 761.5810322406386,
         "y": 454.4933468030719
        },
        {
         "index": 8,
         "label": "Kodak",
         "label_display": "outside",
         "px": 531.6435703123827,
         "py": 535.8948853214198,
         "shape": "circle",
         "shape_attrs": {
          "r": 6
         },
         "value": null,
         "weight": 7,
         "x": 531.7505909522388,
         "y": 535.9045906336529
        },
        {
         "index": 9,
         "label": "Foxconn",
         "label_display": "outside",
         "px": 315.6219081119179,
         "py": 391.53377063652664,
         "shape": "circle",
         "shape_attrs": {
          "r": 6
         },
         "value": null,
         "weight": 1,
         "x": 315.5046509875501,
         "y": 391.4569466557418
        },
        {
         "index": 10,
         "label": "Ericsson",
         "label_display": "outside",
         "px": 748.2842138179611,
         "py": 558.9454413787005,
         "shape": "circle",
         "shape_attrs": {
          "r": 6
         },
         "value": null,
         "weight": 1,
         "x": 748.4479418353396,
         "y": 558.9274985242288
        },
        {
         "index": 11,
         "label": "Motorola",
         "label_display": "outside",
         "px": 363.7903377147658,
         "py": 615.2209834955327,
         "shape": "circle",
         "shape_attrs": {
          "r": 6
         },
         "value": null,
         "weight": 4,
         "x": 363.73681372762786,
         "y": 615.3798330825925
        },
        {
         "index": 12,
         "label": "Nokia",
         "label_display": "outside",
         "px": 511.2072379480659,
         "py": 727.5137395964131,
         "shape": "circle",
         "shape_attrs": {
          "r": 6
         },
         "value": null,
         "weight": 4,
         "x": 511.24648328885655,
         "y": 727.6804715073116
        },
        {
         "index": 13,
         "label": "Qualcomm",
         "label_display": "outside",
         "px": 612.4379167250571,
         "py": 704.5987645016177,
         "shape": "circle",
         "shape_attrs": {
          "r": 6
         },
         "value": null,
         "weight": 2,
         "x": 612.5595527464187,
         "y": 704.7125743008345
        },
        {
         "index": 14,
         "label": "Oracle",
         "label_display": "outside",
         "px": 543.0382265857962,
         "py": 182.8749486145045,
         "shape": "circle",
         "shape_attrs": {
          "r": 6
         },
         "value": null,
         "weight": 1,
         "x": 542.9228252819961,
         "y": 182.7218272077859
        },
        {
         "index": 15,
         "label": "Google",
         "label_display": "outside",
         "px": 641.1600683425092,
         "py": 224.18452714483712,
         "shape": "circle",
         "shape_attrs": {
          "r": 6
         },
         "value": null,
         "weight": 1,
         "x": 641.1432729893783,
         "y": 224.01358113222815
        },
        {
         "index": 16,
         "label": "Apple",
         "label_display": "outside",
         "px": 472.14847459640004,
         "py": 632.5501094669205,
         "shape": "circle",
         "shape_attrs": {
          "r": 6
         },
         "value": null,
         "weight": 9,
         "x": 472.2149239078521,
         "y": 632.6753192187022
        },
        {
         "index": 17,
         "label": "Sony",
         "label_display": "outside",
         "px": 530.177550192637,
         "py": 318.1372661908561,
         "shape": "circle",
         "shape_attrs": {
          "r": 6
         },
         "value": null,
         "weight": 1,
         "x": 530.1667882502643,
         "y": 318.0107468867575
        },
        {
         "index": 18,
         "label": "HTC",
         "label_display": "outside",
         "px": 445.0726033562166,
         "py": 523.8865222428553,
         "shape": "circle",
         "shape_attrs": {
          "r": 6
         },
         "value": null,
         "weight": 3,
         "x": 445.1230673427105,
         "y": 523.8352261063798
        },
        {
         "index": 19,
         "label": "Microsoft",
         "label_display": "outside",
         "px": 328.37923738437604,
         "py": 511.3343563331645,
         "shape": "circle",
         "shape_attrs": {
          "r": 6
         },
         "value": null,
         "weight": 7,
         "x": 328.28746945970715,
         "y": 511.3914538241553
        }
       ],
       "preserve_domain": {},
       "scales": {
        "link_color": "IPY_MODEL_ef129a6b2f7146cc8a922115fe182085"
       },
       "scales_metadata": {
        "color": {
         "dimension": "color"
        },
        "link_color": {
         "dimension": "link_color"
        },
        "x": {
         "dimension": "x",
         "orientation": "horizontal"
        },
        "y": {
         "dimension": "y",
         "orientation": "vertical"
        }
       },
       "selected": [],
       "selected_style": {},
       "tooltip": null,
       "tooltip_location": "mouse",
       "tooltip_style": {
        "opacity": 0.9
       },
       "unhovered_style": {},
       "unselected_style": {},
       "visible": true,
       "x": {
        "type": "float",
        "values": []
       },
       "y": {
        "type": "float",
        "values": []
       }
      }
     },
     "ef129a6b2f7146cc8a922115fe182085": {
      "model_module": "bqplot",
      "model_module_version": "^0.3.6",
      "model_name": "OrdinalScaleModel",
      "state": {
       "_view_name": "OrdinalColorScale",
       "colors": [
        "limegreen",
        "dodgerblue",
        "orangered"
       ],
       "domain": [
        "licensing",
        "suit",
        "resolved"
       ],
       "mid": null,
       "scale_type": "linear",
       "scheme": "RdYlGn"
      }
     }
    },
    "version_major": 2,
    "version_minor": 0
   }
  }
 },
 "nbformat": 4,
 "nbformat_minor": 2
}
