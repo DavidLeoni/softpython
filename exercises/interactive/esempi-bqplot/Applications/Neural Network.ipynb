{
 "cells": [
  {
   "cell_type": "markdown",
   "metadata": {},
   "source": [
    "This application demonstrates how to build a simple neural network using the Graph mark. \n",
    "Interactions can be enabled by adding event handlers (click, hover etc) on the nodes of the network. \n",
    "See the [Mark Interactions notebook](../Interactions/Mark Interactions.ipynb) and the [Scatter Notebook](../Marks/Scatter.ipynb) for details."
   ]
  },
  {
   "cell_type": "code",
   "execution_count": 2,
   "metadata": {},
   "outputs": [],
   "source": [
    "from itertools import chain, product\n",
    "\n",
    "import numpy as np\n",
    "from bqplot import *"
   ]
  },
  {
   "cell_type": "code",
   "execution_count": 3,
   "metadata": {},
   "outputs": [],
   "source": [
    "class NeuralNet(Figure):\n",
    "    def __init__(self, **kwargs):\n",
    "        self.height = kwargs.get('height', 600)\n",
    "        self.width = kwargs.get('width', 960)\n",
    "        self.directed_links = kwargs.get('directed_links', False)\n",
    "        \n",
    "        self.num_inputs = kwargs['num_inputs']\n",
    "        self.num_hidden_layers = kwargs['num_hidden_layers']\n",
    "        self.nodes_output_layer = kwargs['num_outputs']\n",
    "        self.layer_colors = kwargs.get('layer_colors', \n",
    "                                       ['Orange'] * (len(self.num_hidden_layers) + 2))\n",
    "        \n",
    "        self.build_net()\n",
    "        super(NeuralNet, self).__init__(**kwargs)\n",
    "    \n",
    "    def build_net(self):\n",
    "        # create nodes\n",
    "        self.layer_nodes = []\n",
    "        self.layer_nodes.append(['x' + str(i+1) for i in range(self.num_inputs)])\n",
    "        \n",
    "        for i, h in enumerate(self.num_hidden_layers):\n",
    "            self.layer_nodes.append(['h' + str(i+1) + ',' + str(j+1) for j in range(h)])\n",
    "        self.layer_nodes.append(['y' + str(i+1) for i in range(self.nodes_output_layer)])\n",
    "        \n",
    "        self.flattened_layer_nodes = list(chain(*self.layer_nodes))\n",
    "        \n",
    "        # build link matrix\n",
    "        i = 0\n",
    "        node_indices = {}\n",
    "        for layer in self.layer_nodes:\n",
    "            for node in layer:\n",
    "                node_indices[node] = i\n",
    "                i += 1\n",
    "\n",
    "        n = len(self.flattened_layer_nodes)\n",
    "        self.link_matrix = np.empty((n,n))\n",
    "        self.link_matrix[:] = np.nan\n",
    "\n",
    "        for i in range(len(self.layer_nodes) - 1):\n",
    "            curr_layer_nodes_indices = [node_indices[d] for d in self.layer_nodes[i]]\n",
    "            next_layer_nodes = [node_indices[d] for d in self.layer_nodes[i+1]]\n",
    "            for s, t in product(curr_layer_nodes_indices, next_layer_nodes):\n",
    "                self.link_matrix[s, t] = 1\n",
    "        \n",
    "        # set node x locations\n",
    "        self.nodes_x = np.repeat(np.linspace(0, 100, \n",
    "                                             len(self.layer_nodes) + 1, \n",
    "                                             endpoint=False)[1:], \n",
    "                                 [len(n) for n in self.layer_nodes])\n",
    "\n",
    "        # set node y locations\n",
    "        self.nodes_y = np.array([])\n",
    "        for layer in self.layer_nodes:\n",
    "            n = len(layer)\n",
    "            ys = np.linspace(0, 100, n+1, endpoint=False)[1:]\n",
    "            self.nodes_y = np.append(self.nodes_y, ys[::-1])\n",
    "        \n",
    "        # set node colors\n",
    "        n_layers = len(self.layer_nodes)\n",
    "        self.node_colors = np.repeat(np.array(self.layer_colors[:n_layers]), \n",
    "                                     [len(layer) for layer in self.layer_nodes]).tolist()\n",
    "        \n",
    "        xs = LinearScale(min=0, max=100)\n",
    "        ys = LinearScale(min=0, max=100)\n",
    "        \n",
    "        self.graph = Graph(node_data=[{'label': d, \n",
    "                                       'label_display': 'none'} for d in self.flattened_layer_nodes], \n",
    "                           link_matrix=self.link_matrix, \n",
    "                           link_type='line',\n",
    "                           colors=self.node_colors,\n",
    "                           directed=self.directed_links,\n",
    "                           scales={'x': xs, 'y': ys}, \n",
    "                           x=self.nodes_x, \n",
    "                           y=self.nodes_y,\n",
    "                           # color=2 * np.random.rand(len(self.flattened_layer_nodes)) - 1\n",
    "                          )\n",
    "        self.graph.hovered_style = {'stroke': '1.5'}\n",
    "        self.graph.unhovered_style = {'opacity': '0.4'}\n",
    "        \n",
    "        self.graph.selected_style = {'opacity': '1',\n",
    "                                     'stroke': 'red',\n",
    "                                     'stroke-width': '2.5'}\n",
    "        self.marks = [self.graph]\n",
    "        self.title = 'Neural Network'\n",
    "        self.layout.width = str(self.width) + 'px'\n",
    "        self.layout.height = str(self.height) + 'px'"
   ]
  },
  {
   "cell_type": "code",
   "execution_count": 4,
   "metadata": {},
   "outputs": [
    {
     "data": {
      "application/vnd.jupyter.widget-view+json": {
       "model_id": "69be74d7979f4f0aafe52eb68efa3a17",
       "version_major": 2,
       "version_minor": 0
      },
      "text/plain": [
       "NeuralNet(fig_margin={'top': 60, 'left': 60, 'right': 60, 'bottom': 60}, layout=Layout(height='600px', min_wid…"
      ]
     },
     "metadata": {},
     "output_type": "display_data"
    }
   ],
   "source": [
    "NeuralNet(num_inputs=3, num_hidden_layers=[10, 10, 8, 5], num_outputs=1)"
   ]
  },
  {
   "cell_type": "code",
   "execution_count": null,
   "metadata": {},
   "outputs": [],
   "source": []
  },
  {
   "cell_type": "code",
   "execution_count": null,
   "metadata": {},
   "outputs": [],
   "source": []
  },
  {
   "cell_type": "code",
   "execution_count": null,
   "metadata": {},
   "outputs": [],
   "source": []
  },
  {
   "cell_type": "code",
   "execution_count": null,
   "metadata": {},
   "outputs": [],
   "source": []
  }
 ],
 "metadata": {
  "input_collapsed": false,
  "kernelspec": {
   "display_name": "Python 3",
   "language": "python",
   "name": "python3"
  },
  "language_info": {
   "codemirror_mode": {
    "name": "ipython",
    "version": 3
   },
   "file_extension": ".py",
   "mimetype": "text/x-python",
   "name": "python",
   "nbconvert_exporter": "python",
   "pygments_lexer": "ipython3",
   "version": "3.5.2"
  },
  "toc": {
   "base_numbering": 1,
   "nav_menu": {},
   "number_sections": false,
   "sideBar": true,
   "skip_h1_title": false,
   "title_cell": "Table of Contents",
   "title_sidebar": "Contents",
   "toc_cell": false,
   "toc_position": {},
   "toc_section_display": true,
   "toc_window_display": false
  },
  "widgets": {
   "application/vnd.jupyter.widget-state+json": {
    "state": {
     "3d6c4239358f4f04bdf6822390c67e3e": {
      "model_module": "@jupyter-widgets/base",
      "model_module_version": "1.0.0",
      "model_name": "LayoutModel",
      "state": {
       "height": "600px",
       "min_width": "125px",
       "width": "960px"
      }
     },
     "526e6c7da77a4b43a66f74654e2bfedf": {
      "model_module": "bqplot",
      "model_module_version": "^0.3.6",
      "model_name": "LinearScaleModel",
      "state": {
       "max": 100,
       "min": 0,
       "stabilized": false
      }
     },
     "551349e164cd4e78a98ebadf2ff12c1b": {
      "model_module": "bqplot",
      "model_module_version": "^0.3.6",
      "model_name": "FigureModel",
      "state": {
       "_dom_classes": [],
       "layout": "IPY_MODEL_3d6c4239358f4f04bdf6822390c67e3e",
       "marks": [
        "IPY_MODEL_aea99cc0202d4884a6352c70fc29eb5b"
       ],
       "max_aspect_ratio": 6,
       "scale_x": "IPY_MODEL_ee6333e8bd3e4dca9e60e3757dc158f4",
       "scale_y": "IPY_MODEL_e0a23b319bcf450b9ac4590f2f05629e",
       "title": "Neural Network"
      }
     },
     "7fc3c9b5c6544dd3abecf04a72ec2a84": {
      "model_module": "bqplot",
      "model_module_version": "^0.3.6",
      "model_name": "LinearScaleModel",
      "state": {
       "max": 100,
       "min": 0,
       "stabilized": false
      }
     },
     "aea99cc0202d4884a6352c70fc29eb5b": {
      "model_module": "bqplot",
      "model_module_version": "^0.3.6",
      "model_name": "GraphModel",
      "state": {
       "_model_module": "bqplot",
       "_model_module_version": "^0.3.6",
       "_view_count": null,
       "_view_module": "bqplot",
       "_view_module_version": "^0.3.6",
       "apply_clip": true,
       "charge": -600,
       "color": {
        "type": null,
        "values": null
       },
       "colors": [
        "Orange",
        "Orange",
        "Orange",
        "Orange",
        "Orange",
        "Orange",
        "Orange",
        "Orange",
        "Orange",
        "Orange",
        "Orange",
        "Orange",
        "Orange",
        "Orange",
        "Orange",
        "Orange",
        "Orange",
        "Orange",
        "Orange",
        "Orange",
        "Orange",
        "Orange",
        "Orange",
        "Orange",
        "Orange",
        "Orange",
        "Orange",
        "Orange",
        "Orange",
        "Orange",
        "Orange",
        "Orange",
        "Orange",
        "Orange",
        "Orange",
        "Orange",
        "Orange"
       ],
       "directed": false,
       "display_legend": false,
       "enable_hover": true,
       "highlight_links": true,
       "hovered_style": {
        "stroke": "1.5"
       },
       "interactions": {
        "click": "select",
        "hover": "tooltip"
       },
       "labels": [],
       "link_color": {
        "type": "float",
        "values": []
       },
       "link_data": [
        {
         "source": {
          "index": 0,
          "label": "x1",
          "label_display": "none",
          "px": 305.708627490532,
          "py": 354.5451428018452,
          "shape": "circle",
          "shape_attrs": {
           "r": 15
          },
          "value": null,
          "weight": 10,
          "x": 305.6926597541685,
          "xval": 14.285714285714286,
          "y": 354.6295988560584,
          "yval": 75
         },
         "target": {
          "index": 3,
          "label": "h1,1",
          "label_display": "none",
          "px": 384.8973245727768,
          "py": 286.90795613885757,
          "shape": "circle",
          "shape_attrs": {
           "r": 15
          },
          "value": null,
          "weight": 13,
          "x": 384.84596218225266,
          "xval": 28.571428571428573,
          "y": 286.86727348098344,
          "yval": 90.90909090909092
         },
         "value": 1
        },
        {
         "source": {
          "index": 0,
          "label": "x1",
          "label_display": "none",
          "px": 305.708627490532,
          "py": 354.5451428018452,
          "shape": "circle",
          "shape_attrs": {
           "r": 15
          },
          "value": null,
          "weight": 10,
          "x": 305.6926597541685,
          "xval": 14.285714285714286,
          "y": 354.6295988560584,
          "yval": 75
         },
         "target": {
          "index": 4,
          "label": "h1,2",
          "label_display": "none",
          "px": 384.5894327662319,
          "py": 279.72719400476984,
          "shape": "circle",
          "shape_attrs": {
           "r": 15
          },
          "value": null,
          "weight": 13,
          "x": 384.53808289077085,
          "xval": 28.571428571428573,
          "y": 279.64765725162925,
          "yval": 81.81818181818183
         },
         "value": 1
        },
        {
         "source": {
          "index": 0,
          "label": "x1",
          "label_display": "none",
          "px": 305.708627490532,
          "py": 354.5451428018452,
          "shape": "circle",
          "shape_attrs": {
           "r": 15
          },
          "value": null,
          "weight": 10,
          "x": 305.6926597541685,
          "xval": 14.285714285714286,
          "y": 354.6295988560584,
          "yval": 75
         },
         "target": {
          "index": 5,
          "label": "h1,3",
          "label_display": "none",
          "px": 404.51844381978236,
          "py": 349.64252375533295,
          "shape": "circle",
          "shape_attrs": {
           "r": 15
          },
          "value": null,
          "weight": 13,
          "x": 404.5427626979257,
          "xval": 28.571428571428573,
          "y": 349.7510885549924,
          "yval": 72.72727272727273
         },
         "value": 1
        },
        {
         "source": {
          "index": 0,
          "label": "x1",
          "label_display": "none",
          "px": 305.708627490532,
          "py": 354.5451428018452,
          "shape": "circle",
          "shape_attrs": {
           "r": 15
          },
          "value": null,
          "weight": 10,
          "x": 305.6926597541685,
          "xval": 14.285714285714286,
          "y": 354.6295988560584,
          "yval": 75
         },
         "target": {
          "index": 6,
          "label": "h1,4",
          "label_display": "none",
          "px": 400.9319731639342,
          "py": 343.1992676188478,
          "shape": "circle",
          "shape_attrs": {
           "r": 15
          },
          "value": null,
          "weight": 13,
          "x": 400.9323040846769,
          "xval": 28.571428571428573,
          "y": 343.2766920074684,
          "yval": 63.63636363636364
         },
         "value": 1
        },
        {
         "source": {
          "index": 0,
          "label": "x1",
          "label_display": "none",
          "px": 305.708627490532,
          "py": 354.5451428018452,
          "shape": "circle",
          "shape_attrs": {
           "r": 15
          },
          "value": null,
          "weight": 10,
          "x": 305.6926597541685,
          "xval": 14.285714285714286,
          "y": 354.6295988560584,
          "yval": 75
         },
         "target": {
          "index": 7,
          "label": "h1,5",
          "label_display": "none",
          "px": 397.72978290065487,
          "py": 336.4713455996202,
          "shape": "circle",
          "shape_attrs": {
           "r": 15
          },
          "value": null,
          "weight": 13,
          "x": 397.71479779336056,
          "xval": 28.571428571428573,
          "y": 336.5249956099993,
          "yval": 54.54545454545455
         },
         "value": 1
        },
        {
         "source": {
          "index": 0,
          "label": "x1",
          "label_display": "none",
          "px": 305.708627490532,
          "py": 354.5451428018452,
          "shape": "circle",
          "shape_attrs": {
           "r": 15
          },
          "value": null,
          "weight": 10,
          "x": 305.6926597541685,
          "xval": 14.285714285714286,
          "y": 354.6295988560584,
          "yval": 75
         },
         "target": {
          "index": 8,
          "label": "h1,6",
          "label_display": "none",
          "px": 394.61568432570414,
          "py": 328.836462764268,
          "shape": "circle",
          "shape_attrs": {
           "r": 15
          },
          "value": null,
          "weight": 13,
          "x": 394.5908452924901,
          "xval": 28.571428571428573,
          "y": 328.8733473795684,
          "yval": 45.45454545454546
         },
         "value": 1
        },
        {
         "source": {
          "index": 0,
          "label": "x1",
          "label_display": "none",
          "px": 305.708627490532,
          "py": 354.5451428018452,
          "shape": "circle",
          "shape_attrs": {
           "r": 15
          },
          "value": null,
          "weight": 10,
          "x": 305.6926597541685,
          "xval": 14.285714285714286,
          "y": 354.6295988560584,
          "yval": 75
         },
         "target": {
          "index": 9,
          "label": "h1,7",
          "label_display": "none",
          "px": 391.6008523444577,
          "py": 320.0833195801547,
          "shape": "circle",
          "shape_attrs": {
           "r": 15
          },
          "value": null,
          "weight": 13,
          "x": 391.56863532156706,
          "xval": 28.571428571428573,
          "y": 320.1073505557672,
          "yval": 36.36363636363637
         },
         "value": 1
        },
        {
         "source": {
          "index": 0,
          "label": "x1",
          "label_display": "none",
          "px": 305.708627490532,
          "py": 354.5451428018452,
          "shape": "circle",
          "shape_attrs": {
           "r": 15
          },
          "value": null,
          "weight": 10,
          "x": 305.6926597541685,
          "xval": 14.285714285714286,
          "y": 354.6295988560584,
          "yval": 75
         },
         "target": {
          "index": 10,
          "label": "h1,8",
          "label_display": "none",
          "px": 388.92319547217744,
          "py": 310.6041476586267,
          "shape": "circle",
          "shape_attrs": {
           "r": 15
          },
          "value": null,
          "weight": 13,
          "x": 388.88593332265003,
          "xval": 28.571428571428573,
          "y": 310.6210807754354,
          "yval": 27.272727272727273
         },
         "value": 1
        },
        {
         "source": {
          "index": 0,
          "label": "x1",
          "label_display": "none",
          "px": 305.708627490532,
          "py": 354.5451428018452,
          "shape": "circle",
          "shape_attrs": {
           "r": 15
          },
          "value": null,
          "weight": 10,
          "x": 305.6926597541685,
          "xval": 14.285714285714286,
          "y": 354.6295988560584,
          "yval": 75
         },
         "target": {
          "index": 11,
          "label": "h1,9",
          "label_display": "none",
          "px": 386.96837242153794,
          "py": 301.81766615547065,
          "shape": "circle",
          "shape_attrs": {
           "r": 15
          },
          "value": null,
          "weight": 13,
          "x": 386.9241983581014,
          "xval": 28.571428571428573,
          "y": 301.8163388038004,
          "yval": 18.181818181818183
         },
         "value": 1
        },
        {
         "source": {
          "index": 0,
          "label": "x1",
          "label_display": "none",
          "px": 305.708627490532,
          "py": 354.5451428018452,
          "shape": "circle",
          "shape_attrs": {
           "r": 15
          },
          "value": null,
          "weight": 10,
          "x": 305.6926597541685,
          "xval": 14.285714285714286,
          "y": 354.6295988560584,
          "yval": 75
         },
         "target": {
          "index": 12,
          "label": "h1,10",
          "label_display": "none",
          "px": 385.69282643890125,
          "py": 294.08304766751314,
          "shape": "circle",
          "shape_attrs": {
           "r": 15
          },
          "value": null,
          "weight": 13,
          "x": 385.6449985507694,
          "xval": 28.571428571428573,
          "y": 294.06841172013117,
          "yval": 9.090909090909092
         },
         "value": 1
        },
        {
         "source": {
          "index": 1,
          "label": "x2",
          "label_display": "none",
          "px": 301.2116594424643,
          "py": 342.33265515674896,
          "shape": "circle",
          "shape_attrs": {
           "r": 15
          },
          "value": null,
          "weight": 10,
          "x": 301.18008985427133,
          "xval": 14.285714285714286,
          "y": 342.3932424775717,
          "yval": 50
         },
         "target": {
          "index": 3,
          "label": "h1,1",
          "label_display": "none",
          "px": 384.8973245727768,
          "py": 286.90795613885757,
          "shape": "circle",
          "shape_attrs": {
           "r": 15
          },
          "value": null,
          "weight": 13,
          "x": 384.84596218225266,
          "xval": 28.571428571428573,
          "y": 286.86727348098344,
          "yval": 90.90909090909092
         },
         "value": 1
        },
        {
         "source": {
          "index": 1,
          "label": "x2",
          "label_display": "none",
          "px": 301.2116594424643,
          "py": 342.33265515674896,
          "shape": "circle",
          "shape_attrs": {
           "r": 15
          },
          "value": null,
          "weight": 10,
          "x": 301.18008985427133,
          "xval": 14.285714285714286,
          "y": 342.3932424775717,
          "yval": 50
         },
         "target": {
          "index": 4,
          "label": "h1,2",
          "label_display": "none",
          "px": 384.5894327662319,
          "py": 279.72719400476984,
          "shape": "circle",
          "shape_attrs": {
           "r": 15
          },
          "value": null,
          "weight": 13,
          "x": 384.53808289077085,
          "xval": 28.571428571428573,
          "y": 279.64765725162925,
          "yval": 81.81818181818183
         },
         "value": 1
        },
        {
         "source": {
          "index": 1,
          "label": "x2",
          "label_display": "none",
          "px": 301.2116594424643,
          "py": 342.33265515674896,
          "shape": "circle",
          "shape_attrs": {
           "r": 15
          },
          "value": null,
          "weight": 10,
          "x": 301.18008985427133,
          "xval": 14.285714285714286,
          "y": 342.3932424775717,
          "yval": 50
         },
         "target": {
          "index": 5,
          "label": "h1,3",
          "label_display": "none",
          "px": 404.51844381978236,
          "py": 349.64252375533295,
          "shape": "circle",
          "shape_attrs": {
           "r": 15
          },
          "value": null,
          "weight": 13,
          "x": 404.5427626979257,
          "xval": 28.571428571428573,
          "y": 349.7510885549924,
          "yval": 72.72727272727273
         },
         "value": 1
        },
        {
         "source": {
          "index": 1,
          "label": "x2",
          "label_display": "none",
          "px": 301.2116594424643,
          "py": 342.33265515674896,
          "shape": "circle",
          "shape_attrs": {
           "r": 15
          },
          "value": null,
          "weight": 10,
          "x": 301.18008985427133,
          "xval": 14.285714285714286,
          "y": 342.3932424775717,
          "yval": 50
         },
         "target": {
          "index": 6,
          "label": "h1,4",
          "label_display": "none",
          "px": 400.9319731639342,
          "py": 343.1992676188478,
          "shape": "circle",
          "shape_attrs": {
           "r": 15
          },
          "value": null,
          "weight": 13,
          "x": 400.9323040846769,
          "xval": 28.571428571428573,
          "y": 343.2766920074684,
          "yval": 63.63636363636364
         },
         "value": 1
        },
        {
         "source": {
          "index": 1,
          "label": "x2",
          "label_display": "none",
          "px": 301.2116594424643,
          "py": 342.33265515674896,
          "shape": "circle",
          "shape_attrs": {
           "r": 15
          },
          "value": null,
          "weight": 10,
          "x": 301.18008985427133,
          "xval": 14.285714285714286,
          "y": 342.3932424775717,
          "yval": 50
         },
         "target": {
          "index": 7,
          "label": "h1,5",
          "label_display": "none",
          "px": 397.72978290065487,
          "py": 336.4713455996202,
          "shape": "circle",
          "shape_attrs": {
           "r": 15
          },
          "value": null,
          "weight": 13,
          "x": 397.71479779336056,
          "xval": 28.571428571428573,
          "y": 336.5249956099993,
          "yval": 54.54545454545455
         },
         "value": 1
        },
        {
         "source": {
          "index": 1,
          "label": "x2",
          "label_display": "none",
          "px": 301.2116594424643,
          "py": 342.33265515674896,
          "shape": "circle",
          "shape_attrs": {
           "r": 15
          },
          "value": null,
          "weight": 10,
          "x": 301.18008985427133,
          "xval": 14.285714285714286,
          "y": 342.3932424775717,
          "yval": 50
         },
         "target": {
          "index": 8,
          "label": "h1,6",
          "label_display": "none",
          "px": 394.61568432570414,
          "py": 328.836462764268,
          "shape": "circle",
          "shape_attrs": {
           "r": 15
          },
          "value": null,
          "weight": 13,
          "x": 394.5908452924901,
          "xval": 28.571428571428573,
          "y": 328.8733473795684,
          "yval": 45.45454545454546
         },
         "value": 1
        },
        {
         "source": {
          "index": 1,
          "label": "x2",
          "label_display": "none",
          "px": 301.2116594424643,
          "py": 342.33265515674896,
          "shape": "circle",
          "shape_attrs": {
           "r": 15
          },
          "value": null,
          "weight": 10,
          "x": 301.18008985427133,
          "xval": 14.285714285714286,
          "y": 342.3932424775717,
          "yval": 50
         },
         "target": {
          "index": 9,
          "label": "h1,7",
          "label_display": "none",
          "px": 391.6008523444577,
          "py": 320.0833195801547,
          "shape": "circle",
          "shape_attrs": {
           "r": 15
          },
          "value": null,
          "weight": 13,
          "x": 391.56863532156706,
          "xval": 28.571428571428573,
          "y": 320.1073505557672,
          "yval": 36.36363636363637
         },
         "value": 1
        },
        {
         "source": {
          "index": 1,
          "label": "x2",
          "label_display": "none",
          "px": 301.2116594424643,
          "py": 342.33265515674896,
          "shape": "circle",
          "shape_attrs": {
           "r": 15
          },
          "value": null,
          "weight": 10,
          "x": 301.18008985427133,
          "xval": 14.285714285714286,
          "y": 342.3932424775717,
          "yval": 50
         },
         "target": {
          "index": 10,
          "label": "h1,8",
          "label_display": "none",
          "px": 388.92319547217744,
          "py": 310.6041476586267,
          "shape": "circle",
          "shape_attrs": {
           "r": 15
          },
          "value": null,
          "weight": 13,
          "x": 388.88593332265003,
          "xval": 28.571428571428573,
          "y": 310.6210807754354,
          "yval": 27.272727272727273
         },
         "value": 1
        },
        {
         "source": {
          "index": 1,
          "label": "x2",
          "label_display": "none",
          "px": 301.2116594424643,
          "py": 342.33265515674896,
          "shape": "circle",
          "shape_attrs": {
           "r": 15
          },
          "value": null,
          "weight": 10,
          "x": 301.18008985427133,
          "xval": 14.285714285714286,
          "y": 342.3932424775717,
          "yval": 50
         },
         "target": {
          "index": 11,
          "label": "h1,9",
          "label_display": "none",
          "px": 386.96837242153794,
          "py": 301.81766615547065,
          "shape": "circle",
          "shape_attrs": {
           "r": 15
          },
          "value": null,
          "weight": 13,
          "x": 386.9241983581014,
          "xval": 28.571428571428573,
          "y": 301.8163388038004,
          "yval": 18.181818181818183
         },
         "value": 1
        },
        {
         "source": {
          "index": 1,
          "label": "x2",
          "label_display": "none",
          "px": 301.2116594424643,
          "py": 342.33265515674896,
          "shape": "circle",
          "shape_attrs": {
           "r": 15
          },
          "value": null,
          "weight": 10,
          "x": 301.18008985427133,
          "xval": 14.285714285714286,
          "y": 342.3932424775717,
          "yval": 50
         },
         "target": {
          "index": 12,
          "label": "h1,10",
          "label_display": "none",
          "px": 385.69282643890125,
          "py": 294.08304766751314,
          "shape": "circle",
          "shape_attrs": {
           "r": 15
          },
          "value": null,
          "weight": 13,
          "x": 385.6449985507694,
          "xval": 28.571428571428573,
          "y": 294.06841172013117,
          "yval": 9.090909090909092
         },
         "value": 1
        },
        {
         "source": {
          "index": 2,
          "label": "x3",
          "label_display": "none",
          "px": 298.3157001070117,
          "py": 329.6210339404729,
          "shape": "circle",
          "shape_attrs": {
           "r": 15
          },
          "value": null,
          "weight": 10,
          "x": 298.2744557777322,
          "xval": 14.285714285714286,
          "y": 329.6556550476376,
          "yval": 25
         },
         "target": {
          "index": 3,
          "label": "h1,1",
          "label_display": "none",
          "px": 384.8973245727768,
          "py": 286.90795613885757,
          "shape": "circle",
          "shape_attrs": {
           "r": 15
          },
          "value": null,
          "weight": 13,
          "x": 384.84596218225266,
          "xval": 28.571428571428573,
          "y": 286.86727348098344,
          "yval": 90.90909090909092
         },
         "value": 1
        },
        {
         "source": {
          "index": 2,
          "label": "x3",
          "label_display": "none",
          "px": 298.3157001070117,
          "py": 329.6210339404729,
          "shape": "circle",
          "shape_attrs": {
           "r": 15
          },
          "value": null,
          "weight": 10,
          "x": 298.2744557777322,
          "xval": 14.285714285714286,
          "y": 329.6556550476376,
          "yval": 25
         },
         "target": {
          "index": 4,
          "label": "h1,2",
          "label_display": "none",
          "px": 384.5894327662319,
          "py": 279.72719400476984,
          "shape": "circle",
          "shape_attrs": {
           "r": 15
          },
          "value": null,
          "weight": 13,
          "x": 384.53808289077085,
          "xval": 28.571428571428573,
          "y": 279.64765725162925,
          "yval": 81.81818181818183
         },
         "value": 1
        },
        {
         "source": {
          "index": 2,
          "label": "x3",
          "label_display": "none",
          "px": 298.3157001070117,
          "py": 329.6210339404729,
          "shape": "circle",
          "shape_attrs": {
           "r": 15
          },
          "value": null,
          "weight": 10,
          "x": 298.2744557777322,
          "xval": 14.285714285714286,
          "y": 329.6556550476376,
          "yval": 25
         },
         "target": {
          "index": 5,
          "label": "h1,3",
          "label_display": "none",
          "px": 404.51844381978236,
          "py": 349.64252375533295,
          "shape": "circle",
          "shape_attrs": {
           "r": 15
          },
          "value": null,
          "weight": 13,
          "x": 404.5427626979257,
          "xval": 28.571428571428573,
          "y": 349.7510885549924,
          "yval": 72.72727272727273
         },
         "value": 1
        },
        {
         "source": {
          "index": 2,
          "label": "x3",
          "label_display": "none",
          "px": 298.3157001070117,
          "py": 329.6210339404729,
          "shape": "circle",
          "shape_attrs": {
           "r": 15
          },
          "value": null,
          "weight": 10,
          "x": 298.2744557777322,
          "xval": 14.285714285714286,
          "y": 329.6556550476376,
          "yval": 25
         },
         "target": {
          "index": 6,
          "label": "h1,4",
          "label_display": "none",
          "px": 400.9319731639342,
          "py": 343.1992676188478,
          "shape": "circle",
          "shape_attrs": {
           "r": 15
          },
          "value": null,
          "weight": 13,
          "x": 400.9323040846769,
          "xval": 28.571428571428573,
          "y": 343.2766920074684,
          "yval": 63.63636363636364
         },
         "value": 1
        },
        {
         "source": {
          "index": 2,
          "label": "x3",
          "label_display": "none",
          "px": 298.3157001070117,
          "py": 329.6210339404729,
          "shape": "circle",
          "shape_attrs": {
           "r": 15
          },
          "value": null,
          "weight": 10,
          "x": 298.2744557777322,
          "xval": 14.285714285714286,
          "y": 329.6556550476376,
          "yval": 25
         },
         "target": {
          "index": 7,
          "label": "h1,5",
          "label_display": "none",
          "px": 397.72978290065487,
          "py": 336.4713455996202,
          "shape": "circle",
          "shape_attrs": {
           "r": 15
          },
          "value": null,
          "weight": 13,
          "x": 397.71479779336056,
          "xval": 28.571428571428573,
          "y": 336.5249956099993,
          "yval": 54.54545454545455
         },
         "value": 1
        },
        {
         "source": {
          "index": 2,
          "label": "x3",
          "label_display": "none",
          "px": 298.3157001070117,
          "py": 329.6210339404729,
          "shape": "circle",
          "shape_attrs": {
           "r": 15
          },
          "value": null,
          "weight": 10,
          "x": 298.2744557777322,
          "xval": 14.285714285714286,
          "y": 329.6556550476376,
          "yval": 25
         },
         "target": {
          "index": 8,
          "label": "h1,6",
          "label_display": "none",
          "px": 394.61568432570414,
          "py": 328.836462764268,
          "shape": "circle",
          "shape_attrs": {
           "r": 15
          },
          "value": null,
          "weight": 13,
          "x": 394.5908452924901,
          "xval": 28.571428571428573,
          "y": 328.8733473795684,
          "yval": 45.45454545454546
         },
         "value": 1
        },
        {
         "source": {
          "index": 2,
          "label": "x3",
          "label_display": "none",
          "px": 298.3157001070117,
          "py": 329.6210339404729,
          "shape": "circle",
          "shape_attrs": {
           "r": 15
          },
          "value": null,
          "weight": 10,
          "x": 298.2744557777322,
          "xval": 14.285714285714286,
          "y": 329.6556550476376,
          "yval": 25
         },
         "target": {
          "index": 9,
          "label": "h1,7",
          "label_display": "none",
          "px": 391.6008523444577,
          "py": 320.0833195801547,
          "shape": "circle",
          "shape_attrs": {
           "r": 15
          },
          "value": null,
          "weight": 13,
          "x": 391.56863532156706,
          "xval": 28.571428571428573,
          "y": 320.1073505557672,
          "yval": 36.36363636363637
         },
         "value": 1
        },
        {
         "source": {
          "index": 2,
          "label": "x3",
          "label_display": "none",
          "px": 298.3157001070117,
          "py": 329.6210339404729,
          "shape": "circle",
          "shape_attrs": {
           "r": 15
          },
          "value": null,
          "weight": 10,
          "x": 298.2744557777322,
          "xval": 14.285714285714286,
          "y": 329.6556550476376,
          "yval": 25
         },
         "target": {
          "index": 10,
          "label": "h1,8",
          "label_display": "none",
          "px": 388.92319547217744,
          "py": 310.6041476586267,
          "shape": "circle",
          "shape_attrs": {
           "r": 15
          },
          "value": null,
          "weight": 13,
          "x": 388.88593332265003,
          "xval": 28.571428571428573,
          "y": 310.6210807754354,
          "yval": 27.272727272727273
         },
         "value": 1
        },
        {
         "source": {
          "index": 2,
          "label": "x3",
          "label_display": "none",
          "px": 298.3157001070117,
          "py": 329.6210339404729,
          "shape": "circle",
          "shape_attrs": {
           "r": 15
          },
          "value": null,
          "weight": 10,
          "x": 298.2744557777322,
          "xval": 14.285714285714286,
          "y": 329.6556550476376,
          "yval": 25
         },
         "target": {
          "index": 11,
          "label": "h1,9",
          "label_display": "none",
          "px": 386.96837242153794,
          "py": 301.81766615547065,
          "shape": "circle",
          "shape_attrs": {
           "r": 15
          },
          "value": null,
          "weight": 13,
          "x": 386.9241983581014,
          "xval": 28.571428571428573,
          "y": 301.8163388038004,
          "yval": 18.181818181818183
         },
         "value": 1
        },
        {
         "source": {
          "index": 2,
          "label": "x3",
          "label_display": "none",
          "px": 298.3157001070117,
          "py": 329.6210339404729,
          "shape": "circle",
          "shape_attrs": {
           "r": 15
          },
          "value": null,
          "weight": 10,
          "x": 298.2744557777322,
          "xval": 14.285714285714286,
          "y": 329.6556550476376,
          "yval": 25
         },
         "target": {
          "index": 12,
          "label": "h1,10",
          "label_display": "none",
          "px": 385.69282643890125,
          "py": 294.08304766751314,
          "shape": "circle",
          "shape_attrs": {
           "r": 15
          },
          "value": null,
          "weight": 13,
          "x": 385.6449985507694,
          "xval": 28.571428571428573,
          "y": 294.06841172013117,
          "yval": 9.090909090909092
         },
         "value": 1
        },
        {
         "source": {
          "index": 3,
          "label": "h1,1",
          "label_display": "none",
          "px": 384.8973245727768,
          "py": 286.90795613885757,
          "shape": "circle",
          "shape_attrs": {
           "r": 15
          },
          "value": null,
          "weight": 13,
          "x": 384.84596218225266,
          "xval": 28.571428571428573,
          "y": 286.86727348098344,
          "yval": 90.90909090909092
         },
         "target": {
          "index": 13,
          "label": "h2,1",
          "label_display": "none",
          "px": 480.3803494784857,
          "py": 279.7722505958802,
          "shape": "circle",
          "shape_attrs": {
           "r": 15
          },
          "value": null,
          "weight": 18,
          "x": 480.373639263792,
          "xval": 42.85714285714286,
          "y": 279.74885787016143,
          "yval": 90.90909090909092
         },
         "value": 1
        },
        {
         "source": {
          "index": 3,
          "label": "h1,1",
          "label_display": "none",
          "px": 384.8973245727768,
          "py": 286.90795613885757,
          "shape": "circle",
          "shape_attrs": {
           "r": 15
          },
          "value": null,
          "weight": 13,
          "x": 384.84596218225266,
          "xval": 28.571428571428573,
          "y": 286.86727348098344,
          "yval": 90.90909090909092
         },
         "target": {
          "index": 14,
          "label": "h2,2",
          "label_display": "none",
          "px": 476.49346689357674,
          "py": 263.63826217114996,
          "shape": "circle",
          "shape_attrs": {
           "r": 15
          },
          "value": null,
          "weight": 18,
          "x": 476.45044157130604,
          "xval": 42.85714285714286,
          "y": 263.4774080981219,
          "yval": 81.81818181818183
         },
         "value": 1
        },
        {
         "source": {
          "index": 3,
          "label": "h1,1",
          "label_display": "none",
          "px": 384.8973245727768,
          "py": 286.90795613885757,
          "shape": "circle",
          "shape_attrs": {
           "r": 15
          },
          "value": null,
          "weight": 13,
          "x": 384.84596218225266,
          "xval": 28.571428571428573,
          "y": 286.86727348098344,
          "yval": 90.90909090909092
         },
         "target": {
          "index": 15,
          "label": "h2,3",
          "label_display": "none",
          "px": 489.1486426026925,
          "py": 316.5658676430073,
          "shape": "circle",
          "shape_attrs": {
           "r": 15
          },
          "value": null,
          "weight": 18,
          "x": 489.1596033403191,
          "xval": 42.85714285714286,
          "y": 316.6280685111141,
          "yval": 72.72727272727273
         },
         "value": 1
        },
        {
         "source": {
          "index": 3,
          "label": "h1,1",
          "label_display": "none",
          "px": 384.8973245727768,
          "py": 286.90795613885757,
          "shape": "circle",
          "shape_attrs": {
           "r": 15
          },
          "value": null,
          "weight": 13,
          "x": 384.84596218225266,
          "xval": 28.571428571428573,
          "y": 286.86727348098344,
          "yval": 90.90909090909092
         },
         "target": {
          "index": 16,
          "label": "h2,4",
          "label_display": "none",
          "px": 481.75851228534026,
          "py": 285.5158351200188,
          "shape": "circle",
          "shape_attrs": {
           "r": 15
          },
          "value": null,
          "weight": 18,
          "x": 481.75281287193076,
          "xval": 42.85714285714286,
          "y": 285.49328887807417,
          "yval": 63.63636363636364
         },
         "value": 1
        },
        {
         "source": {
          "index": 3,
          "label": "h1,1",
          "label_display": "none",
          "px": 384.8973245727768,
          "py": 286.90795613885757,
          "shape": "circle",
          "shape_attrs": {
           "r": 15
          },
          "value": null,
          "weight": 13,
          "x": 384.84596218225266,
          "xval": 28.571428571428573,
          "y": 286.86727348098344,
          "yval": 90.90909090909092
         },
         "target": {
          "index": 17,
          "label": "h2,5",
          "label_display": "none",
          "px": 477.8082171514826,
          "py": 269.08906326525766,
          "shape": "circle",
          "shape_attrs": {
           "r": 15
          },
          "value": null,
          "weight": 18,
          "x": 477.7815842250509,
          "xval": 42.85714285714286,
          "y": 268.9920791765058,
          "yval": 54.54545454545455
         },
         "value": 1
        },
        {
         "source": {
          "index": 3,
          "label": "h1,1",
          "label_display": "none",
          "px": 384.8973245727768,
          "py": 286.90795613885757,
          "shape": "circle",
          "shape_attrs": {
           "r": 15
          },
          "value": null,
          "weight": 13,
          "x": 384.84596218225266,
          "xval": 28.571428571428573,
          "y": 286.86727348098344,
          "yval": 90.90909090909092
         },
         "target": {
          "index": 18,
          "label": "h2,6",
          "label_display": "none",
          "px": 479.0689385172297,
          "py": 274.2982594723541,
          "shape": "circle",
          "shape_attrs": {
           "r": 15
          },
          "value": null,
          "weight": 18,
          "x": 479.0514197646102,
          "xval": 42.85714285714286,
          "y": 274.23274919285296,
          "yval": 45.45454545454546
         },
         "value": 1
        },
        {
         "source": {
          "index": 3,
          "label": "h1,1",
          "label_display": "none",
          "px": 384.8973245727768,
          "py": 286.90795613885757,
          "shape": "circle",
          "shape_attrs": {
           "r": 15
          },
          "value": null,
          "weight": 13,
          "x": 384.84596218225266,
          "xval": 28.571428571428573,
          "y": 286.86727348098344,
          "yval": 90.90909090909092
         },
         "target": {
          "index": 19,
          "label": "h2,7",
          "label_display": "none",
          "px": 484.7798355697473,
          "py": 298.0206373089927,
          "shape": "circle",
          "shape_attrs": {
           "r": 15
          },
          "value": null,
          "weight": 18,
          "x": 484.77824316859875,
          "xval": 42.85714285714286,
          "y": 298.00737331803714,
          "yval": 36.36363636363637
         },
         "value": 1
        },
        {
         "source": {
          "index": 3,
          "label": "h1,1",
          "label_display": "none",
          "px": 384.8973245727768,
          "py": 286.90795613885757,
          "shape": "circle",
          "shape_attrs": {
           "r": 15
          },
          "value": null,
          "weight": 13,
          "x": 384.84596218225266,
          "xval": 28.571428571428573,
          "y": 286.86727348098344,
          "yval": 90.90909090909092
         },
         "target": {
          "index": 20,
          "label": "h2,8",
          "label_display": "none",
          "px": 486.2596861879294,
          "py": 304.16409498119907,
          "shape": "circle",
          "shape_attrs": {
           "r": 15
          },
          "value": null,
          "weight": 18,
          "x": 486.26364197857214,
          "xval": 42.85714285714286,
          "y": 304.1732909774429,
          "yval": 27.272727272727273
         },
         "value": 1
        },
        {
         "source": {
          "index": 3,
          "label": "h1,1",
          "label_display": "none",
          "px": 384.8973245727768,
          "py": 286.90795613885757,
          "shape": "circle",
          "shape_attrs": {
           "r": 15
          },
          "value": null,
          "weight": 13,
          "x": 384.84596218225266,
          "xval": 28.571428571428573,
          "y": 286.86727348098344,
          "yval": 90.90909090909092
         },
         "target": {
          "index": 21,
          "label": "h2,9",
          "label_display": "none",
          "px": 483.2579717497743,
          "py": 291.7185090866249,
          "shape": "circle",
          "shape_attrs": {
           "r": 15
          },
          "value": null,
          "weight": 18,
          "x": 483.25324350064943,
          "xval": 42.85714285714286,
          "y": 291.6947350145861,
          "yval": 18.181818181818183
         },
         "value": 1
        },
        {
         "source": {
          "index": 3,
          "label": "h1,1",
          "label_display": "none",
          "px": 384.8973245727768,
          "py": 286.90795613885757,
          "shape": "circle",
          "shape_attrs": {
           "r": 15
          },
          "value": null,
          "weight": 13,
          "x": 384.84596218225266,
          "xval": 28.571428571428573,
          "y": 286.86727348098344,
          "yval": 90.90909090909092
         },
         "target": {
          "index": 22,
          "label": "h2,10",
          "label_display": "none",
          "px": 487.7192769413394,
          "py": 310.29091898156224,
          "shape": "circle",
          "shape_attrs": {
           "r": 15
          },
          "value": null,
          "weight": 18,
          "x": 487.72607389991265,
          "xval": 42.85714285714286,
          "y": 310.3154916285665,
          "yval": 9.090909090909092
         },
         "value": 1
        },
        {
         "source": {
          "index": 4,
          "label": "h1,2",
          "label_display": "none",
          "px": 384.5894327662319,
          "py": 279.72719400476984,
          "shape": "circle",
          "shape_attrs": {
           "r": 15
          },
          "value": null,
          "weight": 13,
          "x": 384.53808289077085,
          "xval": 28.571428571428573,
          "y": 279.64765725162925,
          "yval": 81.81818181818183
         },
         "target": {
          "index": 13,
          "label": "h2,1",
          "label_display": "none",
          "px": 480.3803494784857,
          "py": 279.7722505958802,
          "shape": "circle",
          "shape_attrs": {
           "r": 15
          },
          "value": null,
          "weight": 18,
          "x": 480.373639263792,
          "xval": 42.85714285714286,
          "y": 279.74885787016143,
          "yval": 90.90909090909092
         },
         "value": 1
        },
        {
         "source": {
          "index": 4,
          "label": "h1,2",
          "label_display": "none",
          "px": 384.5894327662319,
          "py": 279.72719400476984,
          "shape": "circle",
          "shape_attrs": {
           "r": 15
          },
          "value": null,
          "weight": 13,
          "x": 384.53808289077085,
          "xval": 28.571428571428573,
          "y": 279.64765725162925,
          "yval": 81.81818181818183
         },
         "target": {
          "index": 14,
          "label": "h2,2",
          "label_display": "none",
          "px": 476.49346689357674,
          "py": 263.63826217114996,
          "shape": "circle",
          "shape_attrs": {
           "r": 15
          },
          "value": null,
          "weight": 18,
          "x": 476.45044157130604,
          "xval": 42.85714285714286,
          "y": 263.4774080981219,
          "yval": 81.81818181818183
         },
         "value": 1
        },
        {
         "source": {
          "index": 4,
          "label": "h1,2",
          "label_display": "none",
          "px": 384.5894327662319,
          "py": 279.72719400476984,
          "shape": "circle",
          "shape_attrs": {
           "r": 15
          },
          "value": null,
          "weight": 13,
          "x": 384.53808289077085,
          "xval": 28.571428571428573,
          "y": 279.64765725162925,
          "yval": 81.81818181818183
         },
         "target": {
          "index": 15,
          "label": "h2,3",
          "label_display": "none",
          "px": 489.1486426026925,
          "py": 316.5658676430073,
          "shape": "circle",
          "shape_attrs": {
           "r": 15
          },
          "value": null,
          "weight": 18,
          "x": 489.1596033403191,
          "xval": 42.85714285714286,
          "y": 316.6280685111141,
          "yval": 72.72727272727273
         },
         "value": 1
        },
        {
         "source": {
          "index": 4,
          "label": "h1,2",
          "label_display": "none",
          "px": 384.5894327662319,
          "py": 279.72719400476984,
          "shape": "circle",
          "shape_attrs": {
           "r": 15
          },
          "value": null,
          "weight": 13,
          "x": 384.53808289077085,
          "xval": 28.571428571428573,
          "y": 279.64765725162925,
          "yval": 81.81818181818183
         },
         "target": {
          "index": 16,
          "label": "h2,4",
          "label_display": "none",
          "px": 481.75851228534026,
          "py": 285.5158351200188,
          "shape": "circle",
          "shape_attrs": {
           "r": 15
          },
          "value": null,
          "weight": 18,
          "x": 481.75281287193076,
          "xval": 42.85714285714286,
          "y": 285.49328887807417,
          "yval": 63.63636363636364
         },
         "value": 1
        },
        {
         "source": {
          "index": 4,
          "label": "h1,2",
          "label_display": "none",
          "px": 384.5894327662319,
          "py": 279.72719400476984,
          "shape": "circle",
          "shape_attrs": {
           "r": 15
          },
          "value": null,
          "weight": 13,
          "x": 384.53808289077085,
          "xval": 28.571428571428573,
          "y": 279.64765725162925,
          "yval": 81.81818181818183
         },
         "target": {
          "index": 17,
          "label": "h2,5",
          "label_display": "none",
          "px": 477.8082171514826,
          "py": 269.08906326525766,
          "shape": "circle",
          "shape_attrs": {
           "r": 15
          },
          "value": null,
          "weight": 18,
          "x": 477.7815842250509,
          "xval": 42.85714285714286,
          "y": 268.9920791765058,
          "yval": 54.54545454545455
         },
         "value": 1
        },
        {
         "source": {
          "index": 4,
          "label": "h1,2",
          "label_display": "none",
          "px": 384.5894327662319,
          "py": 279.72719400476984,
          "shape": "circle",
          "shape_attrs": {
           "r": 15
          },
          "value": null,
          "weight": 13,
          "x": 384.53808289077085,
          "xval": 28.571428571428573,
          "y": 279.64765725162925,
          "yval": 81.81818181818183
         },
         "target": {
          "index": 18,
          "label": "h2,6",
          "label_display": "none",
          "px": 479.0689385172297,
          "py": 274.2982594723541,
          "shape": "circle",
          "shape_attrs": {
           "r": 15
          },
          "value": null,
          "weight": 18,
          "x": 479.0514197646102,
          "xval": 42.85714285714286,
          "y": 274.23274919285296,
          "yval": 45.45454545454546
         },
         "value": 1
        },
        {
         "source": {
          "index": 4,
          "label": "h1,2",
          "label_display": "none",
          "px": 384.5894327662319,
          "py": 279.72719400476984,
          "shape": "circle",
          "shape_attrs": {
           "r": 15
          },
          "value": null,
          "weight": 13,
          "x": 384.53808289077085,
          "xval": 28.571428571428573,
          "y": 279.64765725162925,
          "yval": 81.81818181818183
         },
         "target": {
          "index": 19,
          "label": "h2,7",
          "label_display": "none",
          "px": 484.7798355697473,
          "py": 298.0206373089927,
          "shape": "circle",
          "shape_attrs": {
           "r": 15
          },
          "value": null,
          "weight": 18,
          "x": 484.77824316859875,
          "xval": 42.85714285714286,
          "y": 298.00737331803714,
          "yval": 36.36363636363637
         },
         "value": 1
        },
        {
         "source": {
          "index": 4,
          "label": "h1,2",
          "label_display": "none",
          "px": 384.5894327662319,
          "py": 279.72719400476984,
          "shape": "circle",
          "shape_attrs": {
           "r": 15
          },
          "value": null,
          "weight": 13,
          "x": 384.53808289077085,
          "xval": 28.571428571428573,
          "y": 279.64765725162925,
          "yval": 81.81818181818183
         },
         "target": {
          "index": 20,
          "label": "h2,8",
          "label_display": "none",
          "px": 486.2596861879294,
          "py": 304.16409498119907,
          "shape": "circle",
          "shape_attrs": {
           "r": 15
          },
          "value": null,
          "weight": 18,
          "x": 486.26364197857214,
          "xval": 42.85714285714286,
          "y": 304.1732909774429,
          "yval": 27.272727272727273
         },
         "value": 1
        },
        {
         "source": {
          "index": 4,
          "label": "h1,2",
          "label_display": "none",
          "px": 384.5894327662319,
          "py": 279.72719400476984,
          "shape": "circle",
          "shape_attrs": {
           "r": 15
          },
          "value": null,
          "weight": 13,
          "x": 384.53808289077085,
          "xval": 28.571428571428573,
          "y": 279.64765725162925,
          "yval": 81.81818181818183
         },
         "target": {
          "index": 21,
          "label": "h2,9",
          "label_display": "none",
          "px": 483.2579717497743,
          "py": 291.7185090866249,
          "shape": "circle",
          "shape_attrs": {
           "r": 15
          },
          "value": null,
          "weight": 18,
          "x": 483.25324350064943,
          "xval": 42.85714285714286,
          "y": 291.6947350145861,
          "yval": 18.181818181818183
         },
         "value": 1
        },
        {
         "source": {
          "index": 4,
          "label": "h1,2",
          "label_display": "none",
          "px": 384.5894327662319,
          "py": 279.72719400476984,
          "shape": "circle",
          "shape_attrs": {
           "r": 15
          },
          "value": null,
          "weight": 13,
          "x": 384.53808289077085,
          "xval": 28.571428571428573,
          "y": 279.64765725162925,
          "yval": 81.81818181818183
         },
         "target": {
          "index": 22,
          "label": "h2,10",
          "label_display": "none",
          "px": 487.7192769413394,
          "py": 310.29091898156224,
          "shape": "circle",
          "shape_attrs": {
           "r": 15
          },
          "value": null,
          "weight": 18,
          "x": 487.72607389991265,
          "xval": 42.85714285714286,
          "y": 310.3154916285665,
          "yval": 9.090909090909092
         },
         "value": 1
        },
        {
         "source": {
          "index": 5,
          "label": "h1,3",
          "label_display": "none",
          "px": 404.51844381978236,
          "py": 349.64252375533295,
          "shape": "circle",
          "shape_attrs": {
           "r": 15
          },
          "value": null,
          "weight": 13,
          "x": 404.5427626979257,
          "xval": 28.571428571428573,
          "y": 349.7510885549924,
          "yval": 72.72727272727273
         },
         "target": {
          "index": 13,
          "label": "h2,1",
          "label_display": "none",
          "px": 480.3803494784857,
          "py": 279.7722505958802,
          "shape": "circle",
          "shape_attrs": {
           "r": 15
          },
          "value": null,
          "weight": 18,
          "x": 480.373639263792,
          "xval": 42.85714285714286,
          "y": 279.74885787016143,
          "yval": 90.90909090909092
         },
         "value": 1
        },
        {
         "source": {
          "index": 5,
          "label": "h1,3",
          "label_display": "none",
          "px": 404.51844381978236,
          "py": 349.64252375533295,
          "shape": "circle",
          "shape_attrs": {
           "r": 15
          },
          "value": null,
          "weight": 13,
          "x": 404.5427626979257,
          "xval": 28.571428571428573,
          "y": 349.7510885549924,
          "yval": 72.72727272727273
         },
         "target": {
          "index": 14,
          "label": "h2,2",
          "label_display": "none",
          "px": 476.49346689357674,
          "py": 263.63826217114996,
          "shape": "circle",
          "shape_attrs": {
           "r": 15
          },
          "value": null,
          "weight": 18,
          "x": 476.45044157130604,
          "xval": 42.85714285714286,
          "y": 263.4774080981219,
          "yval": 81.81818181818183
         },
         "value": 1
        },
        {
         "source": {
          "index": 5,
          "label": "h1,3",
          "label_display": "none",
          "px": 404.51844381978236,
          "py": 349.64252375533295,
          "shape": "circle",
          "shape_attrs": {
           "r": 15
          },
          "value": null,
          "weight": 13,
          "x": 404.5427626979257,
          "xval": 28.571428571428573,
          "y": 349.7510885549924,
          "yval": 72.72727272727273
         },
         "target": {
          "index": 15,
          "label": "h2,3",
          "label_display": "none",
          "px": 489.1486426026925,
          "py": 316.5658676430073,
          "shape": "circle",
          "shape_attrs": {
           "r": 15
          },
          "value": null,
          "weight": 18,
          "x": 489.1596033403191,
          "xval": 42.85714285714286,
          "y": 316.6280685111141,
          "yval": 72.72727272727273
         },
         "value": 1
        },
        {
         "source": {
          "index": 5,
          "label": "h1,3",
          "label_display": "none",
          "px": 404.51844381978236,
          "py": 349.64252375533295,
          "shape": "circle",
          "shape_attrs": {
           "r": 15
          },
          "value": null,
          "weight": 13,
          "x": 404.5427626979257,
          "xval": 28.571428571428573,
          "y": 349.7510885549924,
          "yval": 72.72727272727273
         },
         "target": {
          "index": 16,
          "label": "h2,4",
          "label_display": "none",
          "px": 481.75851228534026,
          "py": 285.5158351200188,
          "shape": "circle",
          "shape_attrs": {
           "r": 15
          },
          "value": null,
          "weight": 18,
          "x": 481.75281287193076,
          "xval": 42.85714285714286,
          "y": 285.49328887807417,
          "yval": 63.63636363636364
         },
         "value": 1
        },
        {
         "source": {
          "index": 5,
          "label": "h1,3",
          "label_display": "none",
          "px": 404.51844381978236,
          "py": 349.64252375533295,
          "shape": "circle",
          "shape_attrs": {
           "r": 15
          },
          "value": null,
          "weight": 13,
          "x": 404.5427626979257,
          "xval": 28.571428571428573,
          "y": 349.7510885549924,
          "yval": 72.72727272727273
         },
         "target": {
          "index": 17,
          "label": "h2,5",
          "label_display": "none",
          "px": 477.8082171514826,
          "py": 269.08906326525766,
          "shape": "circle",
          "shape_attrs": {
           "r": 15
          },
          "value": null,
          "weight": 18,
          "x": 477.7815842250509,
          "xval": 42.85714285714286,
          "y": 268.9920791765058,
          "yval": 54.54545454545455
         },
         "value": 1
        },
        {
         "source": {
          "index": 5,
          "label": "h1,3",
          "label_display": "none",
          "px": 404.51844381978236,
          "py": 349.64252375533295,
          "shape": "circle",
          "shape_attrs": {
           "r": 15
          },
          "value": null,
          "weight": 13,
          "x": 404.5427626979257,
          "xval": 28.571428571428573,
          "y": 349.7510885549924,
          "yval": 72.72727272727273
         },
         "target": {
          "index": 18,
          "label": "h2,6",
          "label_display": "none",
          "px": 479.0689385172297,
          "py": 274.2982594723541,
          "shape": "circle",
          "shape_attrs": {
           "r": 15
          },
          "value": null,
          "weight": 18,
          "x": 479.0514197646102,
          "xval": 42.85714285714286,
          "y": 274.23274919285296,
          "yval": 45.45454545454546
         },
         "value": 1
        },
        {
         "source": {
          "index": 5,
          "label": "h1,3",
          "label_display": "none",
          "px": 404.51844381978236,
          "py": 349.64252375533295,
          "shape": "circle",
          "shape_attrs": {
           "r": 15
          },
          "value": null,
          "weight": 13,
          "x": 404.5427626979257,
          "xval": 28.571428571428573,
          "y": 349.7510885549924,
          "yval": 72.72727272727273
         },
         "target": {
          "index": 19,
          "label": "h2,7",
          "label_display": "none",
          "px": 484.7798355697473,
          "py": 298.0206373089927,
          "shape": "circle",
          "shape_attrs": {
           "r": 15
          },
          "value": null,
          "weight": 18,
          "x": 484.77824316859875,
          "xval": 42.85714285714286,
          "y": 298.00737331803714,
          "yval": 36.36363636363637
         },
         "value": 1
        },
        {
         "source": {
          "index": 5,
          "label": "h1,3",
          "label_display": "none",
          "px": 404.51844381978236,
          "py": 349.64252375533295,
          "shape": "circle",
          "shape_attrs": {
           "r": 15
          },
          "value": null,
          "weight": 13,
          "x": 404.5427626979257,
          "xval": 28.571428571428573,
          "y": 349.7510885549924,
          "yval": 72.72727272727273
         },
         "target": {
          "index": 20,
          "label": "h2,8",
          "label_display": "none",
          "px": 486.2596861879294,
          "py": 304.16409498119907,
          "shape": "circle",
          "shape_attrs": {
           "r": 15
          },
          "value": null,
          "weight": 18,
          "x": 486.26364197857214,
          "xval": 42.85714285714286,
          "y": 304.1732909774429,
          "yval": 27.272727272727273
         },
         "value": 1
        },
        {
         "source": {
          "index": 5,
          "label": "h1,3",
          "label_display": "none",
          "px": 404.51844381978236,
          "py": 349.64252375533295,
          "shape": "circle",
          "shape_attrs": {
           "r": 15
          },
          "value": null,
          "weight": 13,
          "x": 404.5427626979257,
          "xval": 28.571428571428573,
          "y": 349.7510885549924,
          "yval": 72.72727272727273
         },
         "target": {
          "index": 21,
          "label": "h2,9",
          "label_display": "none",
          "px": 483.2579717497743,
          "py": 291.7185090866249,
          "shape": "circle",
          "shape_attrs": {
           "r": 15
          },
          "value": null,
          "weight": 18,
          "x": 483.25324350064943,
          "xval": 42.85714285714286,
          "y": 291.6947350145861,
          "yval": 18.181818181818183
         },
         "value": 1
        },
        {
         "source": {
          "index": 5,
          "label": "h1,3",
          "label_display": "none",
          "px": 404.51844381978236,
          "py": 349.64252375533295,
          "shape": "circle",
          "shape_attrs": {
           "r": 15
          },
          "value": null,
          "weight": 13,
          "x": 404.5427626979257,
          "xval": 28.571428571428573,
          "y": 349.7510885549924,
          "yval": 72.72727272727273
         },
         "target": {
          "index": 22,
          "label": "h2,10",
          "label_display": "none",
          "px": 487.7192769413394,
          "py": 310.29091898156224,
          "shape": "circle",
          "shape_attrs": {
           "r": 15
          },
          "value": null,
          "weight": 18,
          "x": 487.72607389991265,
          "xval": 42.85714285714286,
          "y": 310.3154916285665,
          "yval": 9.090909090909092
         },
         "value": 1
        },
        {
         "source": {
          "index": 6,
          "label": "h1,4",
          "label_display": "none",
          "px": 400.9319731639342,
          "py": 343.1992676188478,
          "shape": "circle",
          "shape_attrs": {
           "r": 15
          },
          "value": null,
          "weight": 13,
          "x": 400.9323040846769,
          "xval": 28.571428571428573,
          "y": 343.2766920074684,
          "yval": 63.63636363636364
         },
         "target": {
          "index": 13,
          "label": "h2,1",
          "label_display": "none",
          "px": 480.3803494784857,
          "py": 279.7722505958802,
          "shape": "circle",
          "shape_attrs": {
           "r": 15
          },
          "value": null,
          "weight": 18,
          "x": 480.373639263792,
          "xval": 42.85714285714286,
          "y": 279.74885787016143,
          "yval": 90.90909090909092
         },
         "value": 1
        },
        {
         "source": {
          "index": 6,
          "label": "h1,4",
          "label_display": "none",
          "px": 400.9319731639342,
          "py": 343.1992676188478,
          "shape": "circle",
          "shape_attrs": {
           "r": 15
          },
          "value": null,
          "weight": 13,
          "x": 400.9323040846769,
          "xval": 28.571428571428573,
          "y": 343.2766920074684,
          "yval": 63.63636363636364
         },
         "target": {
          "index": 14,
          "label": "h2,2",
          "label_display": "none",
          "px": 476.49346689357674,
          "py": 263.63826217114996,
          "shape": "circle",
          "shape_attrs": {
           "r": 15
          },
          "value": null,
          "weight": 18,
          "x": 476.45044157130604,
          "xval": 42.85714285714286,
          "y": 263.4774080981219,
          "yval": 81.81818181818183
         },
         "value": 1
        },
        {
         "source": {
          "index": 6,
          "label": "h1,4",
          "label_display": "none",
          "px": 400.9319731639342,
          "py": 343.1992676188478,
          "shape": "circle",
          "shape_attrs": {
           "r": 15
          },
          "value": null,
          "weight": 13,
          "x": 400.9323040846769,
          "xval": 28.571428571428573,
          "y": 343.2766920074684,
          "yval": 63.63636363636364
         },
         "target": {
          "index": 15,
          "label": "h2,3",
          "label_display": "none",
          "px": 489.1486426026925,
          "py": 316.5658676430073,
          "shape": "circle",
          "shape_attrs": {
           "r": 15
          },
          "value": null,
          "weight": 18,
          "x": 489.1596033403191,
          "xval": 42.85714285714286,
          "y": 316.6280685111141,
          "yval": 72.72727272727273
         },
         "value": 1
        },
        {
         "source": {
          "index": 6,
          "label": "h1,4",
          "label_display": "none",
          "px": 400.9319731639342,
          "py": 343.1992676188478,
          "shape": "circle",
          "shape_attrs": {
           "r": 15
          },
          "value": null,
          "weight": 13,
          "x": 400.9323040846769,
          "xval": 28.571428571428573,
          "y": 343.2766920074684,
          "yval": 63.63636363636364
         },
         "target": {
          "index": 16,
          "label": "h2,4",
          "label_display": "none",
          "px": 481.75851228534026,
          "py": 285.5158351200188,
          "shape": "circle",
          "shape_attrs": {
           "r": 15
          },
          "value": null,
          "weight": 18,
          "x": 481.75281287193076,
          "xval": 42.85714285714286,
          "y": 285.49328887807417,
          "yval": 63.63636363636364
         },
         "value": 1
        },
        {
         "source": {
          "index": 6,
          "label": "h1,4",
          "label_display": "none",
          "px": 400.9319731639342,
          "py": 343.1992676188478,
          "shape": "circle",
          "shape_attrs": {
           "r": 15
          },
          "value": null,
          "weight": 13,
          "x": 400.9323040846769,
          "xval": 28.571428571428573,
          "y": 343.2766920074684,
          "yval": 63.63636363636364
         },
         "target": {
          "index": 17,
          "label": "h2,5",
          "label_display": "none",
          "px": 477.8082171514826,
          "py": 269.08906326525766,
          "shape": "circle",
          "shape_attrs": {
           "r": 15
          },
          "value": null,
          "weight": 18,
          "x": 477.7815842250509,
          "xval": 42.85714285714286,
          "y": 268.9920791765058,
          "yval": 54.54545454545455
         },
         "value": 1
        },
        {
         "source": {
          "index": 6,
          "label": "h1,4",
          "label_display": "none",
          "px": 400.9319731639342,
          "py": 343.1992676188478,
          "shape": "circle",
          "shape_attrs": {
           "r": 15
          },
          "value": null,
          "weight": 13,
          "x": 400.9323040846769,
          "xval": 28.571428571428573,
          "y": 343.2766920074684,
          "yval": 63.63636363636364
         },
         "target": {
          "index": 18,
          "label": "h2,6",
          "label_display": "none",
          "px": 479.0689385172297,
          "py": 274.2982594723541,
          "shape": "circle",
          "shape_attrs": {
           "r": 15
          },
          "value": null,
          "weight": 18,
          "x": 479.0514197646102,
          "xval": 42.85714285714286,
          "y": 274.23274919285296,
          "yval": 45.45454545454546
         },
         "value": 1
        },
        {
         "source": {
          "index": 6,
          "label": "h1,4",
          "label_display": "none",
          "px": 400.9319731639342,
          "py": 343.1992676188478,
          "shape": "circle",
          "shape_attrs": {
           "r": 15
          },
          "value": null,
          "weight": 13,
          "x": 400.9323040846769,
          "xval": 28.571428571428573,
          "y": 343.2766920074684,
          "yval": 63.63636363636364
         },
         "target": {
          "index": 19,
          "label": "h2,7",
          "label_display": "none",
          "px": 484.7798355697473,
          "py": 298.0206373089927,
          "shape": "circle",
          "shape_attrs": {
           "r": 15
          },
          "value": null,
          "weight": 18,
          "x": 484.77824316859875,
          "xval": 42.85714285714286,
          "y": 298.00737331803714,
          "yval": 36.36363636363637
         },
         "value": 1
        },
        {
         "source": {
          "index": 6,
          "label": "h1,4",
          "label_display": "none",
          "px": 400.9319731639342,
          "py": 343.1992676188478,
          "shape": "circle",
          "shape_attrs": {
           "r": 15
          },
          "value": null,
          "weight": 13,
          "x": 400.9323040846769,
          "xval": 28.571428571428573,
          "y": 343.2766920074684,
          "yval": 63.63636363636364
         },
         "target": {
          "index": 20,
          "label": "h2,8",
          "label_display": "none",
          "px": 486.2596861879294,
          "py": 304.16409498119907,
          "shape": "circle",
          "shape_attrs": {
           "r": 15
          },
          "value": null,
          "weight": 18,
          "x": 486.26364197857214,
          "xval": 42.85714285714286,
          "y": 304.1732909774429,
          "yval": 27.272727272727273
         },
         "value": 1
        },
        {
         "source": {
          "index": 6,
          "label": "h1,4",
          "label_display": "none",
          "px": 400.9319731639342,
          "py": 343.1992676188478,
          "shape": "circle",
          "shape_attrs": {
           "r": 15
          },
          "value": null,
          "weight": 13,
          "x": 400.9323040846769,
          "xval": 28.571428571428573,
          "y": 343.2766920074684,
          "yval": 63.63636363636364
         },
         "target": {
          "index": 21,
          "label": "h2,9",
          "label_display": "none",
          "px": 483.2579717497743,
          "py": 291.7185090866249,
          "shape": "circle",
          "shape_attrs": {
           "r": 15
          },
          "value": null,
          "weight": 18,
          "x": 483.25324350064943,
          "xval": 42.85714285714286,
          "y": 291.6947350145861,
          "yval": 18.181818181818183
         },
         "value": 1
        },
        {
         "source": {
          "index": 6,
          "label": "h1,4",
          "label_display": "none",
          "px": 400.9319731639342,
          "py": 343.1992676188478,
          "shape": "circle",
          "shape_attrs": {
           "r": 15
          },
          "value": null,
          "weight": 13,
          "x": 400.9323040846769,
          "xval": 28.571428571428573,
          "y": 343.2766920074684,
          "yval": 63.63636363636364
         },
         "target": {
          "index": 22,
          "label": "h2,10",
          "label_display": "none",
          "px": 487.7192769413394,
          "py": 310.29091898156224,
          "shape": "circle",
          "shape_attrs": {
           "r": 15
          },
          "value": null,
          "weight": 18,
          "x": 487.72607389991265,
          "xval": 42.85714285714286,
          "y": 310.3154916285665,
          "yval": 9.090909090909092
         },
         "value": 1
        },
        {
         "source": {
          "index": 7,
          "label": "h1,5",
          "label_display": "none",
          "px": 397.72978290065487,
          "py": 336.4713455996202,
          "shape": "circle",
          "shape_attrs": {
           "r": 15
          },
          "value": null,
          "weight": 13,
          "x": 397.71479779336056,
          "xval": 28.571428571428573,
          "y": 336.5249956099993,
          "yval": 54.54545454545455
         },
         "target": {
          "index": 13,
          "label": "h2,1",
          "label_display": "none",
          "px": 480.3803494784857,
          "py": 279.7722505958802,
          "shape": "circle",
          "shape_attrs": {
           "r": 15
          },
          "value": null,
          "weight": 18,
          "x": 480.373639263792,
          "xval": 42.85714285714286,
          "y": 279.74885787016143,
          "yval": 90.90909090909092
         },
         "value": 1
        },
        {
         "source": {
          "index": 7,
          "label": "h1,5",
          "label_display": "none",
          "px": 397.72978290065487,
          "py": 336.4713455996202,
          "shape": "circle",
          "shape_attrs": {
           "r": 15
          },
          "value": null,
          "weight": 13,
          "x": 397.71479779336056,
          "xval": 28.571428571428573,
          "y": 336.5249956099993,
          "yval": 54.54545454545455
         },
         "target": {
          "index": 14,
          "label": "h2,2",
          "label_display": "none",
          "px": 476.49346689357674,
          "py": 263.63826217114996,
          "shape": "circle",
          "shape_attrs": {
           "r": 15
          },
          "value": null,
          "weight": 18,
          "x": 476.45044157130604,
          "xval": 42.85714285714286,
          "y": 263.4774080981219,
          "yval": 81.81818181818183
         },
         "value": 1
        },
        {
         "source": {
          "index": 7,
          "label": "h1,5",
          "label_display": "none",
          "px": 397.72978290065487,
          "py": 336.4713455996202,
          "shape": "circle",
          "shape_attrs": {
           "r": 15
          },
          "value": null,
          "weight": 13,
          "x": 397.71479779336056,
          "xval": 28.571428571428573,
          "y": 336.5249956099993,
          "yval": 54.54545454545455
         },
         "target": {
          "index": 15,
          "label": "h2,3",
          "label_display": "none",
          "px": 489.1486426026925,
          "py": 316.5658676430073,
          "shape": "circle",
          "shape_attrs": {
           "r": 15
          },
          "value": null,
          "weight": 18,
          "x": 489.1596033403191,
          "xval": 42.85714285714286,
          "y": 316.6280685111141,
          "yval": 72.72727272727273
         },
         "value": 1
        },
        {
         "source": {
          "index": 7,
          "label": "h1,5",
          "label_display": "none",
          "px": 397.72978290065487,
          "py": 336.4713455996202,
          "shape": "circle",
          "shape_attrs": {
           "r": 15
          },
          "value": null,
          "weight": 13,
          "x": 397.71479779336056,
          "xval": 28.571428571428573,
          "y": 336.5249956099993,
          "yval": 54.54545454545455
         },
         "target": {
          "index": 16,
          "label": "h2,4",
          "label_display": "none",
          "px": 481.75851228534026,
          "py": 285.5158351200188,
          "shape": "circle",
          "shape_attrs": {
           "r": 15
          },
          "value": null,
          "weight": 18,
          "x": 481.75281287193076,
          "xval": 42.85714285714286,
          "y": 285.49328887807417,
          "yval": 63.63636363636364
         },
         "value": 1
        },
        {
         "source": {
          "index": 7,
          "label": "h1,5",
          "label_display": "none",
          "px": 397.72978290065487,
          "py": 336.4713455996202,
          "shape": "circle",
          "shape_attrs": {
           "r": 15
          },
          "value": null,
          "weight": 13,
          "x": 397.71479779336056,
          "xval": 28.571428571428573,
          "y": 336.5249956099993,
          "yval": 54.54545454545455
         },
         "target": {
          "index": 17,
          "label": "h2,5",
          "label_display": "none",
          "px": 477.8082171514826,
          "py": 269.08906326525766,
          "shape": "circle",
          "shape_attrs": {
           "r": 15
          },
          "value": null,
          "weight": 18,
          "x": 477.7815842250509,
          "xval": 42.85714285714286,
          "y": 268.9920791765058,
          "yval": 54.54545454545455
         },
         "value": 1
        },
        {
         "source": {
          "index": 7,
          "label": "h1,5",
          "label_display": "none",
          "px": 397.72978290065487,
          "py": 336.4713455996202,
          "shape": "circle",
          "shape_attrs": {
           "r": 15
          },
          "value": null,
          "weight": 13,
          "x": 397.71479779336056,
          "xval": 28.571428571428573,
          "y": 336.5249956099993,
          "yval": 54.54545454545455
         },
         "target": {
          "index": 18,
          "label": "h2,6",
          "label_display": "none",
          "px": 479.0689385172297,
          "py": 274.2982594723541,
          "shape": "circle",
          "shape_attrs": {
           "r": 15
          },
          "value": null,
          "weight": 18,
          "x": 479.0514197646102,
          "xval": 42.85714285714286,
          "y": 274.23274919285296,
          "yval": 45.45454545454546
         },
         "value": 1
        },
        {
         "source": {
          "index": 7,
          "label": "h1,5",
          "label_display": "none",
          "px": 397.72978290065487,
          "py": 336.4713455996202,
          "shape": "circle",
          "shape_attrs": {
           "r": 15
          },
          "value": null,
          "weight": 13,
          "x": 397.71479779336056,
          "xval": 28.571428571428573,
          "y": 336.5249956099993,
          "yval": 54.54545454545455
         },
         "target": {
          "index": 19,
          "label": "h2,7",
          "label_display": "none",
          "px": 484.7798355697473,
          "py": 298.0206373089927,
          "shape": "circle",
          "shape_attrs": {
           "r": 15
          },
          "value": null,
          "weight": 18,
          "x": 484.77824316859875,
          "xval": 42.85714285714286,
          "y": 298.00737331803714,
          "yval": 36.36363636363637
         },
         "value": 1
        },
        {
         "source": {
          "index": 7,
          "label": "h1,5",
          "label_display": "none",
          "px": 397.72978290065487,
          "py": 336.4713455996202,
          "shape": "circle",
          "shape_attrs": {
           "r": 15
          },
          "value": null,
          "weight": 13,
          "x": 397.71479779336056,
          "xval": 28.571428571428573,
          "y": 336.5249956099993,
          "yval": 54.54545454545455
         },
         "target": {
          "index": 20,
          "label": "h2,8",
          "label_display": "none",
          "px": 486.2596861879294,
          "py": 304.16409498119907,
          "shape": "circle",
          "shape_attrs": {
           "r": 15
          },
          "value": null,
          "weight": 18,
          "x": 486.26364197857214,
          "xval": 42.85714285714286,
          "y": 304.1732909774429,
          "yval": 27.272727272727273
         },
         "value": 1
        },
        {
         "source": {
          "index": 7,
          "label": "h1,5",
          "label_display": "none",
          "px": 397.72978290065487,
          "py": 336.4713455996202,
          "shape": "circle",
          "shape_attrs": {
           "r": 15
          },
          "value": null,
          "weight": 13,
          "x": 397.71479779336056,
          "xval": 28.571428571428573,
          "y": 336.5249956099993,
          "yval": 54.54545454545455
         },
         "target": {
          "index": 21,
          "label": "h2,9",
          "label_display": "none",
          "px": 483.2579717497743,
          "py": 291.7185090866249,
          "shape": "circle",
          "shape_attrs": {
           "r": 15
          },
          "value": null,
          "weight": 18,
          "x": 483.25324350064943,
          "xval": 42.85714285714286,
          "y": 291.6947350145861,
          "yval": 18.181818181818183
         },
         "value": 1
        },
        {
         "source": {
          "index": 7,
          "label": "h1,5",
          "label_display": "none",
          "px": 397.72978290065487,
          "py": 336.4713455996202,
          "shape": "circle",
          "shape_attrs": {
           "r": 15
          },
          "value": null,
          "weight": 13,
          "x": 397.71479779336056,
          "xval": 28.571428571428573,
          "y": 336.5249956099993,
          "yval": 54.54545454545455
         },
         "target": {
          "index": 22,
          "label": "h2,10",
          "label_display": "none",
          "px": 487.7192769413394,
          "py": 310.29091898156224,
          "shape": "circle",
          "shape_attrs": {
           "r": 15
          },
          "value": null,
          "weight": 18,
          "x": 487.72607389991265,
          "xval": 42.85714285714286,
          "y": 310.3154916285665,
          "yval": 9.090909090909092
         },
         "value": 1
        },
        {
         "source": {
          "index": 8,
          "label": "h1,6",
          "label_display": "none",
          "px": 394.61568432570414,
          "py": 328.836462764268,
          "shape": "circle",
          "shape_attrs": {
           "r": 15
          },
          "value": null,
          "weight": 13,
          "x": 394.5908452924901,
          "xval": 28.571428571428573,
          "y": 328.8733473795684,
          "yval": 45.45454545454546
         },
         "target": {
          "index": 13,
          "label": "h2,1",
          "label_display": "none",
          "px": 480.3803494784857,
          "py": 279.7722505958802,
          "shape": "circle",
          "shape_attrs": {
           "r": 15
          },
          "value": null,
          "weight": 18,
          "x": 480.373639263792,
          "xval": 42.85714285714286,
          "y": 279.74885787016143,
          "yval": 90.90909090909092
         },
         "value": 1
        },
        {
         "source": {
          "index": 8,
          "label": "h1,6",
          "label_display": "none",
          "px": 394.61568432570414,
          "py": 328.836462764268,
          "shape": "circle",
          "shape_attrs": {
           "r": 15
          },
          "value": null,
          "weight": 13,
          "x": 394.5908452924901,
          "xval": 28.571428571428573,
          "y": 328.8733473795684,
          "yval": 45.45454545454546
         },
         "target": {
          "index": 14,
          "label": "h2,2",
          "label_display": "none",
          "px": 476.49346689357674,
          "py": 263.63826217114996,
          "shape": "circle",
          "shape_attrs": {
           "r": 15
          },
          "value": null,
          "weight": 18,
          "x": 476.45044157130604,
          "xval": 42.85714285714286,
          "y": 263.4774080981219,
          "yval": 81.81818181818183
         },
         "value": 1
        },
        {
         "source": {
          "index": 8,
          "label": "h1,6",
          "label_display": "none",
          "px": 394.61568432570414,
          "py": 328.836462764268,
          "shape": "circle",
          "shape_attrs": {
           "r": 15
          },
          "value": null,
          "weight": 13,
          "x": 394.5908452924901,
          "xval": 28.571428571428573,
          "y": 328.8733473795684,
          "yval": 45.45454545454546
         },
         "target": {
          "index": 15,
          "label": "h2,3",
          "label_display": "none",
          "px": 489.1486426026925,
          "py": 316.5658676430073,
          "shape": "circle",
          "shape_attrs": {
           "r": 15
          },
          "value": null,
          "weight": 18,
          "x": 489.1596033403191,
          "xval": 42.85714285714286,
          "y": 316.6280685111141,
          "yval": 72.72727272727273
         },
         "value": 1
        },
        {
         "source": {
          "index": 8,
          "label": "h1,6",
          "label_display": "none",
          "px": 394.61568432570414,
          "py": 328.836462764268,
          "shape": "circle",
          "shape_attrs": {
           "r": 15
          },
          "value": null,
          "weight": 13,
          "x": 394.5908452924901,
          "xval": 28.571428571428573,
          "y": 328.8733473795684,
          "yval": 45.45454545454546
         },
         "target": {
          "index": 16,
          "label": "h2,4",
          "label_display": "none",
          "px": 481.75851228534026,
          "py": 285.5158351200188,
          "shape": "circle",
          "shape_attrs": {
           "r": 15
          },
          "value": null,
          "weight": 18,
          "x": 481.75281287193076,
          "xval": 42.85714285714286,
          "y": 285.49328887807417,
          "yval": 63.63636363636364
         },
         "value": 1
        },
        {
         "source": {
          "index": 8,
          "label": "h1,6",
          "label_display": "none",
          "px": 394.61568432570414,
          "py": 328.836462764268,
          "shape": "circle",
          "shape_attrs": {
           "r": 15
          },
          "value": null,
          "weight": 13,
          "x": 394.5908452924901,
          "xval": 28.571428571428573,
          "y": 328.8733473795684,
          "yval": 45.45454545454546
         },
         "target": {
          "index": 17,
          "label": "h2,5",
          "label_display": "none",
          "px": 477.8082171514826,
          "py": 269.08906326525766,
          "shape": "circle",
          "shape_attrs": {
           "r": 15
          },
          "value": null,
          "weight": 18,
          "x": 477.7815842250509,
          "xval": 42.85714285714286,
          "y": 268.9920791765058,
          "yval": 54.54545454545455
         },
         "value": 1
        },
        {
         "source": {
          "index": 8,
          "label": "h1,6",
          "label_display": "none",
          "px": 394.61568432570414,
          "py": 328.836462764268,
          "shape": "circle",
          "shape_attrs": {
           "r": 15
          },
          "value": null,
          "weight": 13,
          "x": 394.5908452924901,
          "xval": 28.571428571428573,
          "y": 328.8733473795684,
          "yval": 45.45454545454546
         },
         "target": {
          "index": 18,
          "label": "h2,6",
          "label_display": "none",
          "px": 479.0689385172297,
          "py": 274.2982594723541,
          "shape": "circle",
          "shape_attrs": {
           "r": 15
          },
          "value": null,
          "weight": 18,
          "x": 479.0514197646102,
          "xval": 42.85714285714286,
          "y": 274.23274919285296,
          "yval": 45.45454545454546
         },
         "value": 1
        },
        {
         "source": {
          "index": 8,
          "label": "h1,6",
          "label_display": "none",
          "px": 394.61568432570414,
          "py": 328.836462764268,
          "shape": "circle",
          "shape_attrs": {
           "r": 15
          },
          "value": null,
          "weight": 13,
          "x": 394.5908452924901,
          "xval": 28.571428571428573,
          "y": 328.8733473795684,
          "yval": 45.45454545454546
         },
         "target": {
          "index": 19,
          "label": "h2,7",
          "label_display": "none",
          "px": 484.7798355697473,
          "py": 298.0206373089927,
          "shape": "circle",
          "shape_attrs": {
           "r": 15
          },
          "value": null,
          "weight": 18,
          "x": 484.77824316859875,
          "xval": 42.85714285714286,
          "y": 298.00737331803714,
          "yval": 36.36363636363637
         },
         "value": 1
        },
        {
         "source": {
          "index": 8,
          "label": "h1,6",
          "label_display": "none",
          "px": 394.61568432570414,
          "py": 328.836462764268,
          "shape": "circle",
          "shape_attrs": {
           "r": 15
          },
          "value": null,
          "weight": 13,
          "x": 394.5908452924901,
          "xval": 28.571428571428573,
          "y": 328.8733473795684,
          "yval": 45.45454545454546
         },
         "target": {
          "index": 20,
          "label": "h2,8",
          "label_display": "none",
          "px": 486.2596861879294,
          "py": 304.16409498119907,
          "shape": "circle",
          "shape_attrs": {
           "r": 15
          },
          "value": null,
          "weight": 18,
          "x": 486.26364197857214,
          "xval": 42.85714285714286,
          "y": 304.1732909774429,
          "yval": 27.272727272727273
         },
         "value": 1
        },
        {
         "source": {
          "index": 8,
          "label": "h1,6",
          "label_display": "none",
          "px": 394.61568432570414,
          "py": 328.836462764268,
          "shape": "circle",
          "shape_attrs": {
           "r": 15
          },
          "value": null,
          "weight": 13,
          "x": 394.5908452924901,
          "xval": 28.571428571428573,
          "y": 328.8733473795684,
          "yval": 45.45454545454546
         },
         "target": {
          "index": 21,
          "label": "h2,9",
          "label_display": "none",
          "px": 483.2579717497743,
          "py": 291.7185090866249,
          "shape": "circle",
          "shape_attrs": {
           "r": 15
          },
          "value": null,
          "weight": 18,
          "x": 483.25324350064943,
          "xval": 42.85714285714286,
          "y": 291.6947350145861,
          "yval": 18.181818181818183
         },
         "value": 1
        },
        {
         "source": {
          "index": 8,
          "label": "h1,6",
          "label_display": "none",
          "px": 394.61568432570414,
          "py": 328.836462764268,
          "shape": "circle",
          "shape_attrs": {
           "r": 15
          },
          "value": null,
          "weight": 13,
          "x": 394.5908452924901,
          "xval": 28.571428571428573,
          "y": 328.8733473795684,
          "yval": 45.45454545454546
         },
         "target": {
          "index": 22,
          "label": "h2,10",
          "label_display": "none",
          "px": 487.7192769413394,
          "py": 310.29091898156224,
          "shape": "circle",
          "shape_attrs": {
           "r": 15
          },
          "value": null,
          "weight": 18,
          "x": 487.72607389991265,
          "xval": 42.85714285714286,
          "y": 310.3154916285665,
          "yval": 9.090909090909092
         },
         "value": 1
        },
        {
         "source": {
          "index": 9,
          "label": "h1,7",
          "label_display": "none",
          "px": 391.6008523444577,
          "py": 320.0833195801547,
          "shape": "circle",
          "shape_attrs": {
           "r": 15
          },
          "value": null,
          "weight": 13,
          "x": 391.56863532156706,
          "xval": 28.571428571428573,
          "y": 320.1073505557672,
          "yval": 36.36363636363637
         },
         "target": {
          "index": 13,
          "label": "h2,1",
          "label_display": "none",
          "px": 480.3803494784857,
          "py": 279.7722505958802,
          "shape": "circle",
          "shape_attrs": {
           "r": 15
          },
          "value": null,
          "weight": 18,
          "x": 480.373639263792,
          "xval": 42.85714285714286,
          "y": 279.74885787016143,
          "yval": 90.90909090909092
         },
         "value": 1
        },
        {
         "source": {
          "index": 9,
          "label": "h1,7",
          "label_display": "none",
          "px": 391.6008523444577,
          "py": 320.0833195801547,
          "shape": "circle",
          "shape_attrs": {
           "r": 15
          },
          "value": null,
          "weight": 13,
          "x": 391.56863532156706,
          "xval": 28.571428571428573,
          "y": 320.1073505557672,
          "yval": 36.36363636363637
         },
         "target": {
          "index": 14,
          "label": "h2,2",
          "label_display": "none",
          "px": 476.49346689357674,
          "py": 263.63826217114996,
          "shape": "circle",
          "shape_attrs": {
           "r": 15
          },
          "value": null,
          "weight": 18,
          "x": 476.45044157130604,
          "xval": 42.85714285714286,
          "y": 263.4774080981219,
          "yval": 81.81818181818183
         },
         "value": 1
        },
        {
         "source": {
          "index": 9,
          "label": "h1,7",
          "label_display": "none",
          "px": 391.6008523444577,
          "py": 320.0833195801547,
          "shape": "circle",
          "shape_attrs": {
           "r": 15
          },
          "value": null,
          "weight": 13,
          "x": 391.56863532156706,
          "xval": 28.571428571428573,
          "y": 320.1073505557672,
          "yval": 36.36363636363637
         },
         "target": {
          "index": 15,
          "label": "h2,3",
          "label_display": "none",
          "px": 489.1486426026925,
          "py": 316.5658676430073,
          "shape": "circle",
          "shape_attrs": {
           "r": 15
          },
          "value": null,
          "weight": 18,
          "x": 489.1596033403191,
          "xval": 42.85714285714286,
          "y": 316.6280685111141,
          "yval": 72.72727272727273
         },
         "value": 1
        },
        {
         "source": {
          "index": 9,
          "label": "h1,7",
          "label_display": "none",
          "px": 391.6008523444577,
          "py": 320.0833195801547,
          "shape": "circle",
          "shape_attrs": {
           "r": 15
          },
          "value": null,
          "weight": 13,
          "x": 391.56863532156706,
          "xval": 28.571428571428573,
          "y": 320.1073505557672,
          "yval": 36.36363636363637
         },
         "target": {
          "index": 16,
          "label": "h2,4",
          "label_display": "none",
          "px": 481.75851228534026,
          "py": 285.5158351200188,
          "shape": "circle",
          "shape_attrs": {
           "r": 15
          },
          "value": null,
          "weight": 18,
          "x": 481.75281287193076,
          "xval": 42.85714285714286,
          "y": 285.49328887807417,
          "yval": 63.63636363636364
         },
         "value": 1
        },
        {
         "source": {
          "index": 9,
          "label": "h1,7",
          "label_display": "none",
          "px": 391.6008523444577,
          "py": 320.0833195801547,
          "shape": "circle",
          "shape_attrs": {
           "r": 15
          },
          "value": null,
          "weight": 13,
          "x": 391.56863532156706,
          "xval": 28.571428571428573,
          "y": 320.1073505557672,
          "yval": 36.36363636363637
         },
         "target": {
          "index": 17,
          "label": "h2,5",
          "label_display": "none",
          "px": 477.8082171514826,
          "py": 269.08906326525766,
          "shape": "circle",
          "shape_attrs": {
           "r": 15
          },
          "value": null,
          "weight": 18,
          "x": 477.7815842250509,
          "xval": 42.85714285714286,
          "y": 268.9920791765058,
          "yval": 54.54545454545455
         },
         "value": 1
        },
        {
         "source": {
          "index": 9,
          "label": "h1,7",
          "label_display": "none",
          "px": 391.6008523444577,
          "py": 320.0833195801547,
          "shape": "circle",
          "shape_attrs": {
           "r": 15
          },
          "value": null,
          "weight": 13,
          "x": 391.56863532156706,
          "xval": 28.571428571428573,
          "y": 320.1073505557672,
          "yval": 36.36363636363637
         },
         "target": {
          "index": 18,
          "label": "h2,6",
          "label_display": "none",
          "px": 479.0689385172297,
          "py": 274.2982594723541,
          "shape": "circle",
          "shape_attrs": {
           "r": 15
          },
          "value": null,
          "weight": 18,
          "x": 479.0514197646102,
          "xval": 42.85714285714286,
          "y": 274.23274919285296,
          "yval": 45.45454545454546
         },
         "value": 1
        },
        {
         "source": {
          "index": 9,
          "label": "h1,7",
          "label_display": "none",
          "px": 391.6008523444577,
          "py": 320.0833195801547,
          "shape": "circle",
          "shape_attrs": {
           "r": 15
          },
          "value": null,
          "weight": 13,
          "x": 391.56863532156706,
          "xval": 28.571428571428573,
          "y": 320.1073505557672,
          "yval": 36.36363636363637
         },
         "target": {
          "index": 19,
          "label": "h2,7",
          "label_display": "none",
          "px": 484.7798355697473,
          "py": 298.0206373089927,
          "shape": "circle",
          "shape_attrs": {
           "r": 15
          },
          "value": null,
          "weight": 18,
          "x": 484.77824316859875,
          "xval": 42.85714285714286,
          "y": 298.00737331803714,
          "yval": 36.36363636363637
         },
         "value": 1
        },
        {
         "source": {
          "index": 9,
          "label": "h1,7",
          "label_display": "none",
          "px": 391.6008523444577,
          "py": 320.0833195801547,
          "shape": "circle",
          "shape_attrs": {
           "r": 15
          },
          "value": null,
          "weight": 13,
          "x": 391.56863532156706,
          "xval": 28.571428571428573,
          "y": 320.1073505557672,
          "yval": 36.36363636363637
         },
         "target": {
          "index": 20,
          "label": "h2,8",
          "label_display": "none",
          "px": 486.2596861879294,
          "py": 304.16409498119907,
          "shape": "circle",
          "shape_attrs": {
           "r": 15
          },
          "value": null,
          "weight": 18,
          "x": 486.26364197857214,
          "xval": 42.85714285714286,
          "y": 304.1732909774429,
          "yval": 27.272727272727273
         },
         "value": 1
        },
        {
         "source": {
          "index": 9,
          "label": "h1,7",
          "label_display": "none",
          "px": 391.6008523444577,
          "py": 320.0833195801547,
          "shape": "circle",
          "shape_attrs": {
           "r": 15
          },
          "value": null,
          "weight": 13,
          "x": 391.56863532156706,
          "xval": 28.571428571428573,
          "y": 320.1073505557672,
          "yval": 36.36363636363637
         },
         "target": {
          "index": 21,
          "label": "h2,9",
          "label_display": "none",
          "px": 483.2579717497743,
          "py": 291.7185090866249,
          "shape": "circle",
          "shape_attrs": {
           "r": 15
          },
          "value": null,
          "weight": 18,
          "x": 483.25324350064943,
          "xval": 42.85714285714286,
          "y": 291.6947350145861,
          "yval": 18.181818181818183
         },
         "value": 1
        },
        {
         "source": {
          "index": 9,
          "label": "h1,7",
          "label_display": "none",
          "px": 391.6008523444577,
          "py": 320.0833195801547,
          "shape": "circle",
          "shape_attrs": {
           "r": 15
          },
          "value": null,
          "weight": 13,
          "x": 391.56863532156706,
          "xval": 28.571428571428573,
          "y": 320.1073505557672,
          "yval": 36.36363636363637
         },
         "target": {
          "index": 22,
          "label": "h2,10",
          "label_display": "none",
          "px": 487.7192769413394,
          "py": 310.29091898156224,
          "shape": "circle",
          "shape_attrs": {
           "r": 15
          },
          "value": null,
          "weight": 18,
          "x": 487.72607389991265,
          "xval": 42.85714285714286,
          "y": 310.3154916285665,
          "yval": 9.090909090909092
         },
         "value": 1
        },
        {
         "source": {
          "index": 10,
          "label": "h1,8",
          "label_display": "none",
          "px": 388.92319547217744,
          "py": 310.6041476586267,
          "shape": "circle",
          "shape_attrs": {
           "r": 15
          },
          "value": null,
          "weight": 13,
          "x": 388.88593332265003,
          "xval": 28.571428571428573,
          "y": 310.6210807754354,
          "yval": 27.272727272727273
         },
         "target": {
          "index": 13,
          "label": "h2,1",
          "label_display": "none",
          "px": 480.3803494784857,
          "py": 279.7722505958802,
          "shape": "circle",
          "shape_attrs": {
           "r": 15
          },
          "value": null,
          "weight": 18,
          "x": 480.373639263792,
          "xval": 42.85714285714286,
          "y": 279.74885787016143,
          "yval": 90.90909090909092
         },
         "value": 1
        },
        {
         "source": {
          "index": 10,
          "label": "h1,8",
          "label_display": "none",
          "px": 388.92319547217744,
          "py": 310.6041476586267,
          "shape": "circle",
          "shape_attrs": {
           "r": 15
          },
          "value": null,
          "weight": 13,
          "x": 388.88593332265003,
          "xval": 28.571428571428573,
          "y": 310.6210807754354,
          "yval": 27.272727272727273
         },
         "target": {
          "index": 14,
          "label": "h2,2",
          "label_display": "none",
          "px": 476.49346689357674,
          "py": 263.63826217114996,
          "shape": "circle",
          "shape_attrs": {
           "r": 15
          },
          "value": null,
          "weight": 18,
          "x": 476.45044157130604,
          "xval": 42.85714285714286,
          "y": 263.4774080981219,
          "yval": 81.81818181818183
         },
         "value": 1
        },
        {
         "source": {
          "index": 10,
          "label": "h1,8",
          "label_display": "none",
          "px": 388.92319547217744,
          "py": 310.6041476586267,
          "shape": "circle",
          "shape_attrs": {
           "r": 15
          },
          "value": null,
          "weight": 13,
          "x": 388.88593332265003,
          "xval": 28.571428571428573,
          "y": 310.6210807754354,
          "yval": 27.272727272727273
         },
         "target": {
          "index": 15,
          "label": "h2,3",
          "label_display": "none",
          "px": 489.1486426026925,
          "py": 316.5658676430073,
          "shape": "circle",
          "shape_attrs": {
           "r": 15
          },
          "value": null,
          "weight": 18,
          "x": 489.1596033403191,
          "xval": 42.85714285714286,
          "y": 316.6280685111141,
          "yval": 72.72727272727273
         },
         "value": 1
        },
        {
         "source": {
          "index": 10,
          "label": "h1,8",
          "label_display": "none",
          "px": 388.92319547217744,
          "py": 310.6041476586267,
          "shape": "circle",
          "shape_attrs": {
           "r": 15
          },
          "value": null,
          "weight": 13,
          "x": 388.88593332265003,
          "xval": 28.571428571428573,
          "y": 310.6210807754354,
          "yval": 27.272727272727273
         },
         "target": {
          "index": 16,
          "label": "h2,4",
          "label_display": "none",
          "px": 481.75851228534026,
          "py": 285.5158351200188,
          "shape": "circle",
          "shape_attrs": {
           "r": 15
          },
          "value": null,
          "weight": 18,
          "x": 481.75281287193076,
          "xval": 42.85714285714286,
          "y": 285.49328887807417,
          "yval": 63.63636363636364
         },
         "value": 1
        },
        {
         "source": {
          "index": 10,
          "label": "h1,8",
          "label_display": "none",
          "px": 388.92319547217744,
          "py": 310.6041476586267,
          "shape": "circle",
          "shape_attrs": {
           "r": 15
          },
          "value": null,
          "weight": 13,
          "x": 388.88593332265003,
          "xval": 28.571428571428573,
          "y": 310.6210807754354,
          "yval": 27.272727272727273
         },
         "target": {
          "index": 17,
          "label": "h2,5",
          "label_display": "none",
          "px": 477.8082171514826,
          "py": 269.08906326525766,
          "shape": "circle",
          "shape_attrs": {
           "r": 15
          },
          "value": null,
          "weight": 18,
          "x": 477.7815842250509,
          "xval": 42.85714285714286,
          "y": 268.9920791765058,
          "yval": 54.54545454545455
         },
         "value": 1
        },
        {
         "source": {
          "index": 10,
          "label": "h1,8",
          "label_display": "none",
          "px": 388.92319547217744,
          "py": 310.6041476586267,
          "shape": "circle",
          "shape_attrs": {
           "r": 15
          },
          "value": null,
          "weight": 13,
          "x": 388.88593332265003,
          "xval": 28.571428571428573,
          "y": 310.6210807754354,
          "yval": 27.272727272727273
         },
         "target": {
          "index": 18,
          "label": "h2,6",
          "label_display": "none",
          "px": 479.0689385172297,
          "py": 274.2982594723541,
          "shape": "circle",
          "shape_attrs": {
           "r": 15
          },
          "value": null,
          "weight": 18,
          "x": 479.0514197646102,
          "xval": 42.85714285714286,
          "y": 274.23274919285296,
          "yval": 45.45454545454546
         },
         "value": 1
        },
        {
         "source": {
          "index": 10,
          "label": "h1,8",
          "label_display": "none",
          "px": 388.92319547217744,
          "py": 310.6041476586267,
          "shape": "circle",
          "shape_attrs": {
           "r": 15
          },
          "value": null,
          "weight": 13,
          "x": 388.88593332265003,
          "xval": 28.571428571428573,
          "y": 310.6210807754354,
          "yval": 27.272727272727273
         },
         "target": {
          "index": 19,
          "label": "h2,7",
          "label_display": "none",
          "px": 484.7798355697473,
          "py": 298.0206373089927,
          "shape": "circle",
          "shape_attrs": {
           "r": 15
          },
          "value": null,
          "weight": 18,
          "x": 484.77824316859875,
          "xval": 42.85714285714286,
          "y": 298.00737331803714,
          "yval": 36.36363636363637
         },
         "value": 1
        },
        {
         "source": {
          "index": 10,
          "label": "h1,8",
          "label_display": "none",
          "px": 388.92319547217744,
          "py": 310.6041476586267,
          "shape": "circle",
          "shape_attrs": {
           "r": 15
          },
          "value": null,
          "weight": 13,
          "x": 388.88593332265003,
          "xval": 28.571428571428573,
          "y": 310.6210807754354,
          "yval": 27.272727272727273
         },
         "target": {
          "index": 20,
          "label": "h2,8",
          "label_display": "none",
          "px": 486.2596861879294,
          "py": 304.16409498119907,
          "shape": "circle",
          "shape_attrs": {
           "r": 15
          },
          "value": null,
          "weight": 18,
          "x": 486.26364197857214,
          "xval": 42.85714285714286,
          "y": 304.1732909774429,
          "yval": 27.272727272727273
         },
         "value": 1
        },
        {
         "source": {
          "index": 10,
          "label": "h1,8",
          "label_display": "none",
          "px": 388.92319547217744,
          "py": 310.6041476586267,
          "shape": "circle",
          "shape_attrs": {
           "r": 15
          },
          "value": null,
          "weight": 13,
          "x": 388.88593332265003,
          "xval": 28.571428571428573,
          "y": 310.6210807754354,
          "yval": 27.272727272727273
         },
         "target": {
          "index": 21,
          "label": "h2,9",
          "label_display": "none",
          "px": 483.2579717497743,
          "py": 291.7185090866249,
          "shape": "circle",
          "shape_attrs": {
           "r": 15
          },
          "value": null,
          "weight": 18,
          "x": 483.25324350064943,
          "xval": 42.85714285714286,
          "y": 291.6947350145861,
          "yval": 18.181818181818183
         },
         "value": 1
        },
        {
         "source": {
          "index": 10,
          "label": "h1,8",
          "label_display": "none",
          "px": 388.92319547217744,
          "py": 310.6041476586267,
          "shape": "circle",
          "shape_attrs": {
           "r": 15
          },
          "value": null,
          "weight": 13,
          "x": 388.88593332265003,
          "xval": 28.571428571428573,
          "y": 310.6210807754354,
          "yval": 27.272727272727273
         },
         "target": {
          "index": 22,
          "label": "h2,10",
          "label_display": "none",
          "px": 487.7192769413394,
          "py": 310.29091898156224,
          "shape": "circle",
          "shape_attrs": {
           "r": 15
          },
          "value": null,
          "weight": 18,
          "x": 487.72607389991265,
          "xval": 42.85714285714286,
          "y": 310.3154916285665,
          "yval": 9.090909090909092
         },
         "value": 1
        },
        {
         "source": {
          "index": 11,
          "label": "h1,9",
          "label_display": "none",
          "px": 386.96837242153794,
          "py": 301.81766615547065,
          "shape": "circle",
          "shape_attrs": {
           "r": 15
          },
          "value": null,
          "weight": 13,
          "x": 386.9241983581014,
          "xval": 28.571428571428573,
          "y": 301.8163388038004,
          "yval": 18.181818181818183
         },
         "target": {
          "index": 13,
          "label": "h2,1",
          "label_display": "none",
          "px": 480.3803494784857,
          "py": 279.7722505958802,
          "shape": "circle",
          "shape_attrs": {
           "r": 15
          },
          "value": null,
          "weight": 18,
          "x": 480.373639263792,
          "xval": 42.85714285714286,
          "y": 279.74885787016143,
          "yval": 90.90909090909092
         },
         "value": 1
        },
        {
         "source": {
          "index": 11,
          "label": "h1,9",
          "label_display": "none",
          "px": 386.96837242153794,
          "py": 301.81766615547065,
          "shape": "circle",
          "shape_attrs": {
           "r": 15
          },
          "value": null,
          "weight": 13,
          "x": 386.9241983581014,
          "xval": 28.571428571428573,
          "y": 301.8163388038004,
          "yval": 18.181818181818183
         },
         "target": {
          "index": 14,
          "label": "h2,2",
          "label_display": "none",
          "px": 476.49346689357674,
          "py": 263.63826217114996,
          "shape": "circle",
          "shape_attrs": {
           "r": 15
          },
          "value": null,
          "weight": 18,
          "x": 476.45044157130604,
          "xval": 42.85714285714286,
          "y": 263.4774080981219,
          "yval": 81.81818181818183
         },
         "value": 1
        },
        {
         "source": {
          "index": 11,
          "label": "h1,9",
          "label_display": "none",
          "px": 386.96837242153794,
          "py": 301.81766615547065,
          "shape": "circle",
          "shape_attrs": {
           "r": 15
          },
          "value": null,
          "weight": 13,
          "x": 386.9241983581014,
          "xval": 28.571428571428573,
          "y": 301.8163388038004,
          "yval": 18.181818181818183
         },
         "target": {
          "index": 15,
          "label": "h2,3",
          "label_display": "none",
          "px": 489.1486426026925,
          "py": 316.5658676430073,
          "shape": "circle",
          "shape_attrs": {
           "r": 15
          },
          "value": null,
          "weight": 18,
          "x": 489.1596033403191,
          "xval": 42.85714285714286,
          "y": 316.6280685111141,
          "yval": 72.72727272727273
         },
         "value": 1
        },
        {
         "source": {
          "index": 11,
          "label": "h1,9",
          "label_display": "none",
          "px": 386.96837242153794,
          "py": 301.81766615547065,
          "shape": "circle",
          "shape_attrs": {
           "r": 15
          },
          "value": null,
          "weight": 13,
          "x": 386.9241983581014,
          "xval": 28.571428571428573,
          "y": 301.8163388038004,
          "yval": 18.181818181818183
         },
         "target": {
          "index": 16,
          "label": "h2,4",
          "label_display": "none",
          "px": 481.75851228534026,
          "py": 285.5158351200188,
          "shape": "circle",
          "shape_attrs": {
           "r": 15
          },
          "value": null,
          "weight": 18,
          "x": 481.75281287193076,
          "xval": 42.85714285714286,
          "y": 285.49328887807417,
          "yval": 63.63636363636364
         },
         "value": 1
        },
        {
         "source": {
          "index": 11,
          "label": "h1,9",
          "label_display": "none",
          "px": 386.96837242153794,
          "py": 301.81766615547065,
          "shape": "circle",
          "shape_attrs": {
           "r": 15
          },
          "value": null,
          "weight": 13,
          "x": 386.9241983581014,
          "xval": 28.571428571428573,
          "y": 301.8163388038004,
          "yval": 18.181818181818183
         },
         "target": {
          "index": 17,
          "label": "h2,5",
          "label_display": "none",
          "px": 477.8082171514826,
          "py": 269.08906326525766,
          "shape": "circle",
          "shape_attrs": {
           "r": 15
          },
          "value": null,
          "weight": 18,
          "x": 477.7815842250509,
          "xval": 42.85714285714286,
          "y": 268.9920791765058,
          "yval": 54.54545454545455
         },
         "value": 1
        },
        {
         "source": {
          "index": 11,
          "label": "h1,9",
          "label_display": "none",
          "px": 386.96837242153794,
          "py": 301.81766615547065,
          "shape": "circle",
          "shape_attrs": {
           "r": 15
          },
          "value": null,
          "weight": 13,
          "x": 386.9241983581014,
          "xval": 28.571428571428573,
          "y": 301.8163388038004,
          "yval": 18.181818181818183
         },
         "target": {
          "index": 18,
          "label": "h2,6",
          "label_display": "none",
          "px": 479.0689385172297,
          "py": 274.2982594723541,
          "shape": "circle",
          "shape_attrs": {
           "r": 15
          },
          "value": null,
          "weight": 18,
          "x": 479.0514197646102,
          "xval": 42.85714285714286,
          "y": 274.23274919285296,
          "yval": 45.45454545454546
         },
         "value": 1
        },
        {
         "source": {
          "index": 11,
          "label": "h1,9",
          "label_display": "none",
          "px": 386.96837242153794,
          "py": 301.81766615547065,
          "shape": "circle",
          "shape_attrs": {
           "r": 15
          },
          "value": null,
          "weight": 13,
          "x": 386.9241983581014,
          "xval": 28.571428571428573,
          "y": 301.8163388038004,
          "yval": 18.181818181818183
         },
         "target": {
          "index": 19,
          "label": "h2,7",
          "label_display": "none",
          "px": 484.7798355697473,
          "py": 298.0206373089927,
          "shape": "circle",
          "shape_attrs": {
           "r": 15
          },
          "value": null,
          "weight": 18,
          "x": 484.77824316859875,
          "xval": 42.85714285714286,
          "y": 298.00737331803714,
          "yval": 36.36363636363637
         },
         "value": 1
        },
        {
         "source": {
          "index": 11,
          "label": "h1,9",
          "label_display": "none",
          "px": 386.96837242153794,
          "py": 301.81766615547065,
          "shape": "circle",
          "shape_attrs": {
           "r": 15
          },
          "value": null,
          "weight": 13,
          "x": 386.9241983581014,
          "xval": 28.571428571428573,
          "y": 301.8163388038004,
          "yval": 18.181818181818183
         },
         "target": {
          "index": 20,
          "label": "h2,8",
          "label_display": "none",
          "px": 486.2596861879294,
          "py": 304.16409498119907,
          "shape": "circle",
          "shape_attrs": {
           "r": 15
          },
          "value": null,
          "weight": 18,
          "x": 486.26364197857214,
          "xval": 42.85714285714286,
          "y": 304.1732909774429,
          "yval": 27.272727272727273
         },
         "value": 1
        },
        {
         "source": {
          "index": 11,
          "label": "h1,9",
          "label_display": "none",
          "px": 386.96837242153794,
          "py": 301.81766615547065,
          "shape": "circle",
          "shape_attrs": {
           "r": 15
          },
          "value": null,
          "weight": 13,
          "x": 386.9241983581014,
          "xval": 28.571428571428573,
          "y": 301.8163388038004,
          "yval": 18.181818181818183
         },
         "target": {
          "index": 21,
          "label": "h2,9",
          "label_display": "none",
          "px": 483.2579717497743,
          "py": 291.7185090866249,
          "shape": "circle",
          "shape_attrs": {
           "r": 15
          },
          "value": null,
          "weight": 18,
          "x": 483.25324350064943,
          "xval": 42.85714285714286,
          "y": 291.6947350145861,
          "yval": 18.181818181818183
         },
         "value": 1
        },
        {
         "source": {
          "index": 11,
          "label": "h1,9",
          "label_display": "none",
          "px": 386.96837242153794,
          "py": 301.81766615547065,
          "shape": "circle",
          "shape_attrs": {
           "r": 15
          },
          "value": null,
          "weight": 13,
          "x": 386.9241983581014,
          "xval": 28.571428571428573,
          "y": 301.8163388038004,
          "yval": 18.181818181818183
         },
         "target": {
          "index": 22,
          "label": "h2,10",
          "label_display": "none",
          "px": 487.7192769413394,
          "py": 310.29091898156224,
          "shape": "circle",
          "shape_attrs": {
           "r": 15
          },
          "value": null,
          "weight": 18,
          "x": 487.72607389991265,
          "xval": 42.85714285714286,
          "y": 310.3154916285665,
          "yval": 9.090909090909092
         },
         "value": 1
        },
        {
         "source": {
          "index": 12,
          "label": "h1,10",
          "label_display": "none",
          "px": 385.69282643890125,
          "py": 294.08304766751314,
          "shape": "circle",
          "shape_attrs": {
           "r": 15
          },
          "value": null,
          "weight": 13,
          "x": 385.6449985507694,
          "xval": 28.571428571428573,
          "y": 294.06841172013117,
          "yval": 9.090909090909092
         },
         "target": {
          "index": 13,
          "label": "h2,1",
          "label_display": "none",
          "px": 480.3803494784857,
          "py": 279.7722505958802,
          "shape": "circle",
          "shape_attrs": {
           "r": 15
          },
          "value": null,
          "weight": 18,
          "x": 480.373639263792,
          "xval": 42.85714285714286,
          "y": 279.74885787016143,
          "yval": 90.90909090909092
         },
         "value": 1
        },
        {
         "source": {
          "index": 12,
          "label": "h1,10",
          "label_display": "none",
          "px": 385.69282643890125,
          "py": 294.08304766751314,
          "shape": "circle",
          "shape_attrs": {
           "r": 15
          },
          "value": null,
          "weight": 13,
          "x": 385.6449985507694,
          "xval": 28.571428571428573,
          "y": 294.06841172013117,
          "yval": 9.090909090909092
         },
         "target": {
          "index": 14,
          "label": "h2,2",
          "label_display": "none",
          "px": 476.49346689357674,
          "py": 263.63826217114996,
          "shape": "circle",
          "shape_attrs": {
           "r": 15
          },
          "value": null,
          "weight": 18,
          "x": 476.45044157130604,
          "xval": 42.85714285714286,
          "y": 263.4774080981219,
          "yval": 81.81818181818183
         },
         "value": 1
        },
        {
         "source": {
          "index": 12,
          "label": "h1,10",
          "label_display": "none",
          "px": 385.69282643890125,
          "py": 294.08304766751314,
          "shape": "circle",
          "shape_attrs": {
           "r": 15
          },
          "value": null,
          "weight": 13,
          "x": 385.6449985507694,
          "xval": 28.571428571428573,
          "y": 294.06841172013117,
          "yval": 9.090909090909092
         },
         "target": {
          "index": 15,
          "label": "h2,3",
          "label_display": "none",
          "px": 489.1486426026925,
          "py": 316.5658676430073,
          "shape": "circle",
          "shape_attrs": {
           "r": 15
          },
          "value": null,
          "weight": 18,
          "x": 489.1596033403191,
          "xval": 42.85714285714286,
          "y": 316.6280685111141,
          "yval": 72.72727272727273
         },
         "value": 1
        },
        {
         "source": {
          "index": 12,
          "label": "h1,10",
          "label_display": "none",
          "px": 385.69282643890125,
          "py": 294.08304766751314,
          "shape": "circle",
          "shape_attrs": {
           "r": 15
          },
          "value": null,
          "weight": 13,
          "x": 385.6449985507694,
          "xval": 28.571428571428573,
          "y": 294.06841172013117,
          "yval": 9.090909090909092
         },
         "target": {
          "index": 16,
          "label": "h2,4",
          "label_display": "none",
          "px": 481.75851228534026,
          "py": 285.5158351200188,
          "shape": "circle",
          "shape_attrs": {
           "r": 15
          },
          "value": null,
          "weight": 18,
          "x": 481.75281287193076,
          "xval": 42.85714285714286,
          "y": 285.49328887807417,
          "yval": 63.63636363636364
         },
         "value": 1
        },
        {
         "source": {
          "index": 12,
          "label": "h1,10",
          "label_display": "none",
          "px": 385.69282643890125,
          "py": 294.08304766751314,
          "shape": "circle",
          "shape_attrs": {
           "r": 15
          },
          "value": null,
          "weight": 13,
          "x": 385.6449985507694,
          "xval": 28.571428571428573,
          "y": 294.06841172013117,
          "yval": 9.090909090909092
         },
         "target": {
          "index": 17,
          "label": "h2,5",
          "label_display": "none",
          "px": 477.8082171514826,
          "py": 269.08906326525766,
          "shape": "circle",
          "shape_attrs": {
           "r": 15
          },
          "value": null,
          "weight": 18,
          "x": 477.7815842250509,
          "xval": 42.85714285714286,
          "y": 268.9920791765058,
          "yval": 54.54545454545455
         },
         "value": 1
        },
        {
         "source": {
          "index": 12,
          "label": "h1,10",
          "label_display": "none",
          "px": 385.69282643890125,
          "py": 294.08304766751314,
          "shape": "circle",
          "shape_attrs": {
           "r": 15
          },
          "value": null,
          "weight": 13,
          "x": 385.6449985507694,
          "xval": 28.571428571428573,
          "y": 294.06841172013117,
          "yval": 9.090909090909092
         },
         "target": {
          "index": 18,
          "label": "h2,6",
          "label_display": "none",
          "px": 479.0689385172297,
          "py": 274.2982594723541,
          "shape": "circle",
          "shape_attrs": {
           "r": 15
          },
          "value": null,
          "weight": 18,
          "x": 479.0514197646102,
          "xval": 42.85714285714286,
          "y": 274.23274919285296,
          "yval": 45.45454545454546
         },
         "value": 1
        },
        {
         "source": {
          "index": 12,
          "label": "h1,10",
          "label_display": "none",
          "px": 385.69282643890125,
          "py": 294.08304766751314,
          "shape": "circle",
          "shape_attrs": {
           "r": 15
          },
          "value": null,
          "weight": 13,
          "x": 385.6449985507694,
          "xval": 28.571428571428573,
          "y": 294.06841172013117,
          "yval": 9.090909090909092
         },
         "target": {
          "index": 19,
          "label": "h2,7",
          "label_display": "none",
          "px": 484.7798355697473,
          "py": 298.0206373089927,
          "shape": "circle",
          "shape_attrs": {
           "r": 15
          },
          "value": null,
          "weight": 18,
          "x": 484.77824316859875,
          "xval": 42.85714285714286,
          "y": 298.00737331803714,
          "yval": 36.36363636363637
         },
         "value": 1
        },
        {
         "source": {
          "index": 12,
          "label": "h1,10",
          "label_display": "none",
          "px": 385.69282643890125,
          "py": 294.08304766751314,
          "shape": "circle",
          "shape_attrs": {
           "r": 15
          },
          "value": null,
          "weight": 13,
          "x": 385.6449985507694,
          "xval": 28.571428571428573,
          "y": 294.06841172013117,
          "yval": 9.090909090909092
         },
         "target": {
          "index": 20,
          "label": "h2,8",
          "label_display": "none",
          "px": 486.2596861879294,
          "py": 304.16409498119907,
          "shape": "circle",
          "shape_attrs": {
           "r": 15
          },
          "value": null,
          "weight": 18,
          "x": 486.26364197857214,
          "xval": 42.85714285714286,
          "y": 304.1732909774429,
          "yval": 27.272727272727273
         },
         "value": 1
        },
        {
         "source": {
          "index": 12,
          "label": "h1,10",
          "label_display": "none",
          "px": 385.69282643890125,
          "py": 294.08304766751314,
          "shape": "circle",
          "shape_attrs": {
           "r": 15
          },
          "value": null,
          "weight": 13,
          "x": 385.6449985507694,
          "xval": 28.571428571428573,
          "y": 294.06841172013117,
          "yval": 9.090909090909092
         },
         "target": {
          "index": 21,
          "label": "h2,9",
          "label_display": "none",
          "px": 483.2579717497743,
          "py": 291.7185090866249,
          "shape": "circle",
          "shape_attrs": {
           "r": 15
          },
          "value": null,
          "weight": 18,
          "x": 483.25324350064943,
          "xval": 42.85714285714286,
          "y": 291.6947350145861,
          "yval": 18.181818181818183
         },
         "value": 1
        },
        {
         "source": {
          "index": 12,
          "label": "h1,10",
          "label_display": "none",
          "px": 385.69282643890125,
          "py": 294.08304766751314,
          "shape": "circle",
          "shape_attrs": {
           "r": 15
          },
          "value": null,
          "weight": 13,
          "x": 385.6449985507694,
          "xval": 28.571428571428573,
          "y": 294.06841172013117,
          "yval": 9.090909090909092
         },
         "target": {
          "index": 22,
          "label": "h2,10",
          "label_display": "none",
          "px": 487.7192769413394,
          "py": 310.29091898156224,
          "shape": "circle",
          "shape_attrs": {
           "r": 15
          },
          "value": null,
          "weight": 18,
          "x": 487.72607389991265,
          "xval": 42.85714285714286,
          "y": 310.3154916285665,
          "yval": 9.090909090909092
         },
         "value": 1
        },
        {
         "source": {
          "index": 13,
          "label": "h2,1",
          "label_display": "none",
          "px": 480.3803494784857,
          "py": 279.7722505958802,
          "shape": "circle",
          "shape_attrs": {
           "r": 15
          },
          "value": null,
          "weight": 18,
          "x": 480.373639263792,
          "xval": 42.85714285714286,
          "y": 279.74885787016143,
          "yval": 90.90909090909092
         },
         "target": {
          "index": 23,
          "label": "h3,1",
          "label_display": "none",
          "px": 568.3557485064779,
          "py": 248.17452480415636,
          "shape": "circle",
          "shape_attrs": {
           "r": 15
          },
          "value": null,
          "weight": 15,
          "x": 568.3543739543804,
          "xval": 57.142857142857146,
          "y": 248.06632867147647,
          "yval": 88.88888888888889
         },
         "value": 1
        },
        {
         "source": {
          "index": 13,
          "label": "h2,1",
          "label_display": "none",
          "px": 480.3803494784857,
          "py": 279.7722505958802,
          "shape": "circle",
          "shape_attrs": {
           "r": 15
          },
          "value": null,
          "weight": 18,
          "x": 480.373639263792,
          "xval": 42.85714285714286,
          "y": 279.74885787016143,
          "yval": 90.90909090909092
         },
         "target": {
          "index": 24,
          "label": "h3,2",
          "label_display": "none",
          "px": 571.939336049355,
          "py": 255.5769417069722,
          "shape": "circle",
          "shape_attrs": {
           "r": 15
          },
          "value": null,
          "weight": 15,
          "x": 571.9502353634037,
          "xval": 57.142857142857146,
          "y": 255.48639564189557,
          "yval": 77.77777777777777
         },
         "value": 1
        },
        {
         "source": {
          "index": 13,
          "label": "h2,1",
          "label_display": "none",
          "px": 480.3803494784857,
          "py": 279.7722505958802,
          "shape": "circle",
          "shape_attrs": {
           "r": 15
          },
          "value": null,
          "weight": 18,
          "x": 480.373639263792,
          "xval": 42.85714285714286,
          "y": 279.74885787016143,
          "yval": 90.90909090909092
         },
         "target": {
          "index": 25,
          "label": "h3,3",
          "label_display": "none",
          "px": 582.2274545520103,
          "py": 292.79591548385656,
          "shape": "circle",
          "shape_attrs": {
           "r": 15
          },
          "value": null,
          "weight": 15,
          "x": 582.2696771967902,
          "xval": 57.142857142857146,
          "y": 292.8621920390249,
          "yval": 66.66666666666666
         },
         "value": 1
        },
        {
         "source": {
          "index": 13,
          "label": "h2,1",
          "label_display": "none",
          "px": 480.3803494784857,
          "py": 279.7722505958802,
          "shape": "circle",
          "shape_attrs": {
           "r": 15
          },
          "value": null,
          "weight": 18,
          "x": 480.373639263792,
          "xval": 42.85714285714286,
          "y": 279.74885787016143,
          "yval": 90.90909090909092
         },
         "target": {
          "index": 26,
          "label": "h3,4",
          "label_display": "none",
          "px": 580.1366706202768,
          "py": 280.1274781871417,
          "shape": "circle",
          "shape_attrs": {
           "r": 15
          },
          "value": null,
          "weight": 15,
          "x": 580.1775441669192,
          "xval": 57.142857142857146,
          "y": 280.12192373448534,
          "yval": 55.55555555555556
         },
         "value": 1
        },
        {
         "source": {
          "index": 13,
          "label": "h2,1",
          "label_display": "none",
          "px": 480.3803494784857,
          "py": 279.7722505958802,
          "shape": "circle",
          "shape_attrs": {
           "r": 15
          },
          "value": null,
          "weight": 18,
          "x": 480.373639263792,
          "xval": 42.85714285714286,
          "y": 279.74885787016143,
          "yval": 90.90909090909092
         },
         "target": {
          "index": 27,
          "label": "h3,5",
          "label_display": "none",
          "px": 581.3114589300523,
          "py": 286.07986240347674,
          "shape": "circle",
          "shape_attrs": {
           "r": 15
          },
          "value": null,
          "weight": 15,
          "x": 581.3558241595633,
          "xval": 57.142857142857146,
          "y": 286.10833323001145,
          "yval": 44.44444444444444
         },
         "value": 1
        },
        {
         "source": {
          "index": 13,
          "label": "h2,1",
          "label_display": "none",
          "px": 480.3803494784857,
          "py": 279.7722505958802,
          "shape": "circle",
          "shape_attrs": {
           "r": 15
          },
          "value": null,
          "weight": 18,
          "x": 480.373639263792,
          "xval": 42.85714285714286,
          "y": 279.74885787016143,
          "yval": 90.90909090909092
         },
         "target": {
          "index": 28,
          "label": "h3,6",
          "label_display": "none",
          "px": 576.8737303533172,
          "py": 268.4735693906156,
          "shape": "circle",
          "shape_attrs": {
           "r": 15
          },
          "value": null,
          "weight": 15,
          "x": 576.9017515068342,
          "xval": 57.142857142857146,
          "y": 268.4204658286564,
          "yval": 33.33333333333333
         },
         "value": 1
        },
        {
         "source": {
          "index": 13,
          "label": "h2,1",
          "label_display": "none",
          "px": 480.3803494784857,
          "py": 279.7722505958802,
          "shape": "circle",
          "shape_attrs": {
           "r": 15
          },
          "value": null,
          "weight": 18,
          "x": 480.373639263792,
          "xval": 42.85714285714286,
          "y": 279.74885787016143,
          "yval": 90.90909090909092
         },
         "target": {
          "index": 29,
          "label": "h3,7",
          "label_display": "none",
          "px": 578.6409159338473,
          "py": 274.2330183957971,
          "shape": "circle",
          "shape_attrs": {
           "r": 15
          },
          "value": null,
          "weight": 15,
          "x": 578.6775206015765,
          "xval": 57.142857142857146,
          "y": 274.2042402135952,
          "yval": 22.22222222222222
         },
         "value": 1
        },
        {
         "source": {
          "index": 13,
          "label": "h2,1",
          "label_display": "none",
          "px": 480.3803494784857,
          "py": 279.7722505958802,
          "shape": "circle",
          "shape_attrs": {
           "r": 15
          },
          "value": null,
          "weight": 18,
          "x": 480.373639263792,
          "xval": 42.85714285714286,
          "y": 279.74885787016143,
          "yval": 90.90909090909092
         },
         "target": {
          "index": 30,
          "label": "h3,8",
          "label_display": "none",
          "px": 574.6515904415983,
          "py": 262.1896431335167,
          "shape": "circle",
          "shape_attrs": {
           "r": 15
          },
          "value": null,
          "weight": 15,
          "x": 574.672059093895,
          "xval": 57.142857142857146,
          "y": 262.11727545340494,
          "yval": 11.11111111111111
         },
         "value": 1
        },
        {
         "source": {
          "index": 14,
          "label": "h2,2",
          "label_display": "none",
          "px": 476.49346689357674,
          "py": 263.63826217114996,
          "shape": "circle",
          "shape_attrs": {
           "r": 15
          },
          "value": null,
          "weight": 18,
          "x": 476.45044157130604,
          "xval": 42.85714285714286,
          "y": 263.4774080981219,
          "yval": 81.81818181818183
         },
         "target": {
          "index": 23,
          "label": "h3,1",
          "label_display": "none",
          "px": 568.3557485064779,
          "py": 248.17452480415636,
          "shape": "circle",
          "shape_attrs": {
           "r": 15
          },
          "value": null,
          "weight": 15,
          "x": 568.3543739543804,
          "xval": 57.142857142857146,
          "y": 248.06632867147647,
          "yval": 88.88888888888889
         },
         "value": 1
        },
        {
         "source": {
          "index": 14,
          "label": "h2,2",
          "label_display": "none",
          "px": 476.49346689357674,
          "py": 263.63826217114996,
          "shape": "circle",
          "shape_attrs": {
           "r": 15
          },
          "value": null,
          "weight": 18,
          "x": 476.45044157130604,
          "xval": 42.85714285714286,
          "y": 263.4774080981219,
          "yval": 81.81818181818183
         },
         "target": {
          "index": 24,
          "label": "h3,2",
          "label_display": "none",
          "px": 571.939336049355,
          "py": 255.5769417069722,
          "shape": "circle",
          "shape_attrs": {
           "r": 15
          },
          "value": null,
          "weight": 15,
          "x": 571.9502353634037,
          "xval": 57.142857142857146,
          "y": 255.48639564189557,
          "yval": 77.77777777777777
         },
         "value": 1
        },
        {
         "source": {
          "index": 14,
          "label": "h2,2",
          "label_display": "none",
          "px": 476.49346689357674,
          "py": 263.63826217114996,
          "shape": "circle",
          "shape_attrs": {
           "r": 15
          },
          "value": null,
          "weight": 18,
          "x": 476.45044157130604,
          "xval": 42.85714285714286,
          "y": 263.4774080981219,
          "yval": 81.81818181818183
         },
         "target": {
          "index": 25,
          "label": "h3,3",
          "label_display": "none",
          "px": 582.2274545520103,
          "py": 292.79591548385656,
          "shape": "circle",
          "shape_attrs": {
           "r": 15
          },
          "value": null,
          "weight": 15,
          "x": 582.2696771967902,
          "xval": 57.142857142857146,
          "y": 292.8621920390249,
          "yval": 66.66666666666666
         },
         "value": 1
        },
        {
         "source": {
          "index": 14,
          "label": "h2,2",
          "label_display": "none",
          "px": 476.49346689357674,
          "py": 263.63826217114996,
          "shape": "circle",
          "shape_attrs": {
           "r": 15
          },
          "value": null,
          "weight": 18,
          "x": 476.45044157130604,
          "xval": 42.85714285714286,
          "y": 263.4774080981219,
          "yval": 81.81818181818183
         },
         "target": {
          "index": 26,
          "label": "h3,4",
          "label_display": "none",
          "px": 580.1366706202768,
          "py": 280.1274781871417,
          "shape": "circle",
          "shape_attrs": {
           "r": 15
          },
          "value": null,
          "weight": 15,
          "x": 580.1775441669192,
          "xval": 57.142857142857146,
          "y": 280.12192373448534,
          "yval": 55.55555555555556
         },
         "value": 1
        },
        {
         "source": {
          "index": 14,
          "label": "h2,2",
          "label_display": "none",
          "px": 476.49346689357674,
          "py": 263.63826217114996,
          "shape": "circle",
          "shape_attrs": {
           "r": 15
          },
          "value": null,
          "weight": 18,
          "x": 476.45044157130604,
          "xval": 42.85714285714286,
          "y": 263.4774080981219,
          "yval": 81.81818181818183
         },
         "target": {
          "index": 27,
          "label": "h3,5",
          "label_display": "none",
          "px": 581.3114589300523,
          "py": 286.07986240347674,
          "shape": "circle",
          "shape_attrs": {
           "r": 15
          },
          "value": null,
          "weight": 15,
          "x": 581.3558241595633,
          "xval": 57.142857142857146,
          "y": 286.10833323001145,
          "yval": 44.44444444444444
         },
         "value": 1
        },
        {
         "source": {
          "index": 14,
          "label": "h2,2",
          "label_display": "none",
          "px": 476.49346689357674,
          "py": 263.63826217114996,
          "shape": "circle",
          "shape_attrs": {
           "r": 15
          },
          "value": null,
          "weight": 18,
          "x": 476.45044157130604,
          "xval": 42.85714285714286,
          "y": 263.4774080981219,
          "yval": 81.81818181818183
         },
         "target": {
          "index": 28,
          "label": "h3,6",
          "label_display": "none",
          "px": 576.8737303533172,
          "py": 268.4735693906156,
          "shape": "circle",
          "shape_attrs": {
           "r": 15
          },
          "value": null,
          "weight": 15,
          "x": 576.9017515068342,
          "xval": 57.142857142857146,
          "y": 268.4204658286564,
          "yval": 33.33333333333333
         },
         "value": 1
        },
        {
         "source": {
          "index": 14,
          "label": "h2,2",
          "label_display": "none",
          "px": 476.49346689357674,
          "py": 263.63826217114996,
          "shape": "circle",
          "shape_attrs": {
           "r": 15
          },
          "value": null,
          "weight": 18,
          "x": 476.45044157130604,
          "xval": 42.85714285714286,
          "y": 263.4774080981219,
          "yval": 81.81818181818183
         },
         "target": {
          "index": 29,
          "label": "h3,7",
          "label_display": "none",
          "px": 578.6409159338473,
          "py": 274.2330183957971,
          "shape": "circle",
          "shape_attrs": {
           "r": 15
          },
          "value": null,
          "weight": 15,
          "x": 578.6775206015765,
          "xval": 57.142857142857146,
          "y": 274.2042402135952,
          "yval": 22.22222222222222
         },
         "value": 1
        },
        {
         "source": {
          "index": 14,
          "label": "h2,2",
          "label_display": "none",
          "px": 476.49346689357674,
          "py": 263.63826217114996,
          "shape": "circle",
          "shape_attrs": {
           "r": 15
          },
          "value": null,
          "weight": 18,
          "x": 476.45044157130604,
          "xval": 42.85714285714286,
          "y": 263.4774080981219,
          "yval": 81.81818181818183
         },
         "target": {
          "index": 30,
          "label": "h3,8",
          "label_display": "none",
          "px": 574.6515904415983,
          "py": 262.1896431335167,
          "shape": "circle",
          "shape_attrs": {
           "r": 15
          },
          "value": null,
          "weight": 15,
          "x": 574.672059093895,
          "xval": 57.142857142857146,
          "y": 262.11727545340494,
          "yval": 11.11111111111111
         },
         "value": 1
        },
        {
         "source": {
          "index": 15,
          "label": "h2,3",
          "label_display": "none",
          "px": 489.1486426026925,
          "py": 316.5658676430073,
          "shape": "circle",
          "shape_attrs": {
           "r": 15
          },
          "value": null,
          "weight": 18,
          "x": 489.1596033403191,
          "xval": 42.85714285714286,
          "y": 316.6280685111141,
          "yval": 72.72727272727273
         },
         "target": {
          "index": 23,
          "label": "h3,1",
          "label_display": "none",
          "px": 568.3557485064779,
          "py": 248.17452480415636,
          "shape": "circle",
          "shape_attrs": {
           "r": 15
          },
          "value": null,
          "weight": 15,
          "x": 568.3543739543804,
          "xval": 57.142857142857146,
          "y": 248.06632867147647,
          "yval": 88.88888888888889
         },
         "value": 1
        },
        {
         "source": {
          "index": 15,
          "label": "h2,3",
          "label_display": "none",
          "px": 489.1486426026925,
          "py": 316.5658676430073,
          "shape": "circle",
          "shape_attrs": {
           "r": 15
          },
          "value": null,
          "weight": 18,
          "x": 489.1596033403191,
          "xval": 42.85714285714286,
          "y": 316.6280685111141,
          "yval": 72.72727272727273
         },
         "target": {
          "index": 24,
          "label": "h3,2",
          "label_display": "none",
          "px": 571.939336049355,
          "py": 255.5769417069722,
          "shape": "circle",
          "shape_attrs": {
           "r": 15
          },
          "value": null,
          "weight": 15,
          "x": 571.9502353634037,
          "xval": 57.142857142857146,
          "y": 255.48639564189557,
          "yval": 77.77777777777777
         },
         "value": 1
        },
        {
         "source": {
          "index": 15,
          "label": "h2,3",
          "label_display": "none",
          "px": 489.1486426026925,
          "py": 316.5658676430073,
          "shape": "circle",
          "shape_attrs": {
           "r": 15
          },
          "value": null,
          "weight": 18,
          "x": 489.1596033403191,
          "xval": 42.85714285714286,
          "y": 316.6280685111141,
          "yval": 72.72727272727273
         },
         "target": {
          "index": 25,
          "label": "h3,3",
          "label_display": "none",
          "px": 582.2274545520103,
          "py": 292.79591548385656,
          "shape": "circle",
          "shape_attrs": {
           "r": 15
          },
          "value": null,
          "weight": 15,
          "x": 582.2696771967902,
          "xval": 57.142857142857146,
          "y": 292.8621920390249,
          "yval": 66.66666666666666
         },
         "value": 1
        },
        {
         "source": {
          "index": 15,
          "label": "h2,3",
          "label_display": "none",
          "px": 489.1486426026925,
          "py": 316.5658676430073,
          "shape": "circle",
          "shape_attrs": {
           "r": 15
          },
          "value": null,
          "weight": 18,
          "x": 489.1596033403191,
          "xval": 42.85714285714286,
          "y": 316.6280685111141,
          "yval": 72.72727272727273
         },
         "target": {
          "index": 26,
          "label": "h3,4",
          "label_display": "none",
          "px": 580.1366706202768,
          "py": 280.1274781871417,
          "shape": "circle",
          "shape_attrs": {
           "r": 15
          },
          "value": null,
          "weight": 15,
          "x": 580.1775441669192,
          "xval": 57.142857142857146,
          "y": 280.12192373448534,
          "yval": 55.55555555555556
         },
         "value": 1
        },
        {
         "source": {
          "index": 15,
          "label": "h2,3",
          "label_display": "none",
          "px": 489.1486426026925,
          "py": 316.5658676430073,
          "shape": "circle",
          "shape_attrs": {
           "r": 15
          },
          "value": null,
          "weight": 18,
          "x": 489.1596033403191,
          "xval": 42.85714285714286,
          "y": 316.6280685111141,
          "yval": 72.72727272727273
         },
         "target": {
          "index": 27,
          "label": "h3,5",
          "label_display": "none",
          "px": 581.3114589300523,
          "py": 286.07986240347674,
          "shape": "circle",
          "shape_attrs": {
           "r": 15
          },
          "value": null,
          "weight": 15,
          "x": 581.3558241595633,
          "xval": 57.142857142857146,
          "y": 286.10833323001145,
          "yval": 44.44444444444444
         },
         "value": 1
        },
        {
         "source": {
          "index": 15,
          "label": "h2,3",
          "label_display": "none",
          "px": 489.1486426026925,
          "py": 316.5658676430073,
          "shape": "circle",
          "shape_attrs": {
           "r": 15
          },
          "value": null,
          "weight": 18,
          "x": 489.1596033403191,
          "xval": 42.85714285714286,
          "y": 316.6280685111141,
          "yval": 72.72727272727273
         },
         "target": {
          "index": 28,
          "label": "h3,6",
          "label_display": "none",
          "px": 576.8737303533172,
          "py": 268.4735693906156,
          "shape": "circle",
          "shape_attrs": {
           "r": 15
          },
          "value": null,
          "weight": 15,
          "x": 576.9017515068342,
          "xval": 57.142857142857146,
          "y": 268.4204658286564,
          "yval": 33.33333333333333
         },
         "value": 1
        },
        {
         "source": {
          "index": 15,
          "label": "h2,3",
          "label_display": "none",
          "px": 489.1486426026925,
          "py": 316.5658676430073,
          "shape": "circle",
          "shape_attrs": {
           "r": 15
          },
          "value": null,
          "weight": 18,
          "x": 489.1596033403191,
          "xval": 42.85714285714286,
          "y": 316.6280685111141,
          "yval": 72.72727272727273
         },
         "target": {
          "index": 29,
          "label": "h3,7",
          "label_display": "none",
          "px": 578.6409159338473,
          "py": 274.2330183957971,
          "shape": "circle",
          "shape_attrs": {
           "r": 15
          },
          "value": null,
          "weight": 15,
          "x": 578.6775206015765,
          "xval": 57.142857142857146,
          "y": 274.2042402135952,
          "yval": 22.22222222222222
         },
         "value": 1
        },
        {
         "source": {
          "index": 15,
          "label": "h2,3",
          "label_display": "none",
          "px": 489.1486426026925,
          "py": 316.5658676430073,
          "shape": "circle",
          "shape_attrs": {
           "r": 15
          },
          "value": null,
          "weight": 18,
          "x": 489.1596033403191,
          "xval": 42.85714285714286,
          "y": 316.6280685111141,
          "yval": 72.72727272727273
         },
         "target": {
          "index": 30,
          "label": "h3,8",
          "label_display": "none",
          "px": 574.6515904415983,
          "py": 262.1896431335167,
          "shape": "circle",
          "shape_attrs": {
           "r": 15
          },
          "value": null,
          "weight": 15,
          "x": 574.672059093895,
          "xval": 57.142857142857146,
          "y": 262.11727545340494,
          "yval": 11.11111111111111
         },
         "value": 1
        },
        {
         "source": {
          "index": 16,
          "label": "h2,4",
          "label_display": "none",
          "px": 481.75851228534026,
          "py": 285.5158351200188,
          "shape": "circle",
          "shape_attrs": {
           "r": 15
          },
          "value": null,
          "weight": 18,
          "x": 481.75281287193076,
          "xval": 42.85714285714286,
          "y": 285.49328887807417,
          "yval": 63.63636363636364
         },
         "target": {
          "index": 23,
          "label": "h3,1",
          "label_display": "none",
          "px": 568.3557485064779,
          "py": 248.17452480415636,
          "shape": "circle",
          "shape_attrs": {
           "r": 15
          },
          "value": null,
          "weight": 15,
          "x": 568.3543739543804,
          "xval": 57.142857142857146,
          "y": 248.06632867147647,
          "yval": 88.88888888888889
         },
         "value": 1
        },
        {
         "source": {
          "index": 16,
          "label": "h2,4",
          "label_display": "none",
          "px": 481.75851228534026,
          "py": 285.5158351200188,
          "shape": "circle",
          "shape_attrs": {
           "r": 15
          },
          "value": null,
          "weight": 18,
          "x": 481.75281287193076,
          "xval": 42.85714285714286,
          "y": 285.49328887807417,
          "yval": 63.63636363636364
         },
         "target": {
          "index": 24,
          "label": "h3,2",
          "label_display": "none",
          "px": 571.939336049355,
          "py": 255.5769417069722,
          "shape": "circle",
          "shape_attrs": {
           "r": 15
          },
          "value": null,
          "weight": 15,
          "x": 571.9502353634037,
          "xval": 57.142857142857146,
          "y": 255.48639564189557,
          "yval": 77.77777777777777
         },
         "value": 1
        },
        {
         "source": {
          "index": 16,
          "label": "h2,4",
          "label_display": "none",
          "px": 481.75851228534026,
          "py": 285.5158351200188,
          "shape": "circle",
          "shape_attrs": {
           "r": 15
          },
          "value": null,
          "weight": 18,
          "x": 481.75281287193076,
          "xval": 42.85714285714286,
          "y": 285.49328887807417,
          "yval": 63.63636363636364
         },
         "target": {
          "index": 25,
          "label": "h3,3",
          "label_display": "none",
          "px": 582.2274545520103,
          "py": 292.79591548385656,
          "shape": "circle",
          "shape_attrs": {
           "r": 15
          },
          "value": null,
          "weight": 15,
          "x": 582.2696771967902,
          "xval": 57.142857142857146,
          "y": 292.8621920390249,
          "yval": 66.66666666666666
         },
         "value": 1
        },
        {
         "source": {
          "index": 16,
          "label": "h2,4",
          "label_display": "none",
          "px": 481.75851228534026,
          "py": 285.5158351200188,
          "shape": "circle",
          "shape_attrs": {
           "r": 15
          },
          "value": null,
          "weight": 18,
          "x": 481.75281287193076,
          "xval": 42.85714285714286,
          "y": 285.49328887807417,
          "yval": 63.63636363636364
         },
         "target": {
          "index": 26,
          "label": "h3,4",
          "label_display": "none",
          "px": 580.1366706202768,
          "py": 280.1274781871417,
          "shape": "circle",
          "shape_attrs": {
           "r": 15
          },
          "value": null,
          "weight": 15,
          "x": 580.1775441669192,
          "xval": 57.142857142857146,
          "y": 280.12192373448534,
          "yval": 55.55555555555556
         },
         "value": 1
        },
        {
         "source": {
          "index": 16,
          "label": "h2,4",
          "label_display": "none",
          "px": 481.75851228534026,
          "py": 285.5158351200188,
          "shape": "circle",
          "shape_attrs": {
           "r": 15
          },
          "value": null,
          "weight": 18,
          "x": 481.75281287193076,
          "xval": 42.85714285714286,
          "y": 285.49328887807417,
          "yval": 63.63636363636364
         },
         "target": {
          "index": 27,
          "label": "h3,5",
          "label_display": "none",
          "px": 581.3114589300523,
          "py": 286.07986240347674,
          "shape": "circle",
          "shape_attrs": {
           "r": 15
          },
          "value": null,
          "weight": 15,
          "x": 581.3558241595633,
          "xval": 57.142857142857146,
          "y": 286.10833323001145,
          "yval": 44.44444444444444
         },
         "value": 1
        },
        {
         "source": {
          "index": 16,
          "label": "h2,4",
          "label_display": "none",
          "px": 481.75851228534026,
          "py": 285.5158351200188,
          "shape": "circle",
          "shape_attrs": {
           "r": 15
          },
          "value": null,
          "weight": 18,
          "x": 481.75281287193076,
          "xval": 42.85714285714286,
          "y": 285.49328887807417,
          "yval": 63.63636363636364
         },
         "target": {
          "index": 28,
          "label": "h3,6",
          "label_display": "none",
          "px": 576.8737303533172,
          "py": 268.4735693906156,
          "shape": "circle",
          "shape_attrs": {
           "r": 15
          },
          "value": null,
          "weight": 15,
          "x": 576.9017515068342,
          "xval": 57.142857142857146,
          "y": 268.4204658286564,
          "yval": 33.33333333333333
         },
         "value": 1
        },
        {
         "source": {
          "index": 16,
          "label": "h2,4",
          "label_display": "none",
          "px": 481.75851228534026,
          "py": 285.5158351200188,
          "shape": "circle",
          "shape_attrs": {
           "r": 15
          },
          "value": null,
          "weight": 18,
          "x": 481.75281287193076,
          "xval": 42.85714285714286,
          "y": 285.49328887807417,
          "yval": 63.63636363636364
         },
         "target": {
          "index": 29,
          "label": "h3,7",
          "label_display": "none",
          "px": 578.6409159338473,
          "py": 274.2330183957971,
          "shape": "circle",
          "shape_attrs": {
           "r": 15
          },
          "value": null,
          "weight": 15,
          "x": 578.6775206015765,
          "xval": 57.142857142857146,
          "y": 274.2042402135952,
          "yval": 22.22222222222222
         },
         "value": 1
        },
        {
         "source": {
          "index": 16,
          "label": "h2,4",
          "label_display": "none",
          "px": 481.75851228534026,
          "py": 285.5158351200188,
          "shape": "circle",
          "shape_attrs": {
           "r": 15
          },
          "value": null,
          "weight": 18,
          "x": 481.75281287193076,
          "xval": 42.85714285714286,
          "y": 285.49328887807417,
          "yval": 63.63636363636364
         },
         "target": {
          "index": 30,
          "label": "h3,8",
          "label_display": "none",
          "px": 574.6515904415983,
          "py": 262.1896431335167,
          "shape": "circle",
          "shape_attrs": {
           "r": 15
          },
          "value": null,
          "weight": 15,
          "x": 574.672059093895,
          "xval": 57.142857142857146,
          "y": 262.11727545340494,
          "yval": 11.11111111111111
         },
         "value": 1
        },
        {
         "source": {
          "index": 17,
          "label": "h2,5",
          "label_display": "none",
          "px": 477.8082171514826,
          "py": 269.08906326525766,
          "shape": "circle",
          "shape_attrs": {
           "r": 15
          },
          "value": null,
          "weight": 18,
          "x": 477.7815842250509,
          "xval": 42.85714285714286,
          "y": 268.9920791765058,
          "yval": 54.54545454545455
         },
         "target": {
          "index": 23,
          "label": "h3,1",
          "label_display": "none",
          "px": 568.3557485064779,
          "py": 248.17452480415636,
          "shape": "circle",
          "shape_attrs": {
           "r": 15
          },
          "value": null,
          "weight": 15,
          "x": 568.3543739543804,
          "xval": 57.142857142857146,
          "y": 248.06632867147647,
          "yval": 88.88888888888889
         },
         "value": 1
        },
        {
         "source": {
          "index": 17,
          "label": "h2,5",
          "label_display": "none",
          "px": 477.8082171514826,
          "py": 269.08906326525766,
          "shape": "circle",
          "shape_attrs": {
           "r": 15
          },
          "value": null,
          "weight": 18,
          "x": 477.7815842250509,
          "xval": 42.85714285714286,
          "y": 268.9920791765058,
          "yval": 54.54545454545455
         },
         "target": {
          "index": 24,
          "label": "h3,2",
          "label_display": "none",
          "px": 571.939336049355,
          "py": 255.5769417069722,
          "shape": "circle",
          "shape_attrs": {
           "r": 15
          },
          "value": null,
          "weight": 15,
          "x": 571.9502353634037,
          "xval": 57.142857142857146,
          "y": 255.48639564189557,
          "yval": 77.77777777777777
         },
         "value": 1
        },
        {
         "source": {
          "index": 17,
          "label": "h2,5",
          "label_display": "none",
          "px": 477.8082171514826,
          "py": 269.08906326525766,
          "shape": "circle",
          "shape_attrs": {
           "r": 15
          },
          "value": null,
          "weight": 18,
          "x": 477.7815842250509,
          "xval": 42.85714285714286,
          "y": 268.9920791765058,
          "yval": 54.54545454545455
         },
         "target": {
          "index": 25,
          "label": "h3,3",
          "label_display": "none",
          "px": 582.2274545520103,
          "py": 292.79591548385656,
          "shape": "circle",
          "shape_attrs": {
           "r": 15
          },
          "value": null,
          "weight": 15,
          "x": 582.2696771967902,
          "xval": 57.142857142857146,
          "y": 292.8621920390249,
          "yval": 66.66666666666666
         },
         "value": 1
        },
        {
         "source": {
          "index": 17,
          "label": "h2,5",
          "label_display": "none",
          "px": 477.8082171514826,
          "py": 269.08906326525766,
          "shape": "circle",
          "shape_attrs": {
           "r": 15
          },
          "value": null,
          "weight": 18,
          "x": 477.7815842250509,
          "xval": 42.85714285714286,
          "y": 268.9920791765058,
          "yval": 54.54545454545455
         },
         "target": {
          "index": 26,
          "label": "h3,4",
          "label_display": "none",
          "px": 580.1366706202768,
          "py": 280.1274781871417,
          "shape": "circle",
          "shape_attrs": {
           "r": 15
          },
          "value": null,
          "weight": 15,
          "x": 580.1775441669192,
          "xval": 57.142857142857146,
          "y": 280.12192373448534,
          "yval": 55.55555555555556
         },
         "value": 1
        },
        {
         "source": {
          "index": 17,
          "label": "h2,5",
          "label_display": "none",
          "px": 477.8082171514826,
          "py": 269.08906326525766,
          "shape": "circle",
          "shape_attrs": {
           "r": 15
          },
          "value": null,
          "weight": 18,
          "x": 477.7815842250509,
          "xval": 42.85714285714286,
          "y": 268.9920791765058,
          "yval": 54.54545454545455
         },
         "target": {
          "index": 27,
          "label": "h3,5",
          "label_display": "none",
          "px": 581.3114589300523,
          "py": 286.07986240347674,
          "shape": "circle",
          "shape_attrs": {
           "r": 15
          },
          "value": null,
          "weight": 15,
          "x": 581.3558241595633,
          "xval": 57.142857142857146,
          "y": 286.10833323001145,
          "yval": 44.44444444444444
         },
         "value": 1
        },
        {
         "source": {
          "index": 17,
          "label": "h2,5",
          "label_display": "none",
          "px": 477.8082171514826,
          "py": 269.08906326525766,
          "shape": "circle",
          "shape_attrs": {
           "r": 15
          },
          "value": null,
          "weight": 18,
          "x": 477.7815842250509,
          "xval": 42.85714285714286,
          "y": 268.9920791765058,
          "yval": 54.54545454545455
         },
         "target": {
          "index": 28,
          "label": "h3,6",
          "label_display": "none",
          "px": 576.8737303533172,
          "py": 268.4735693906156,
          "shape": "circle",
          "shape_attrs": {
           "r": 15
          },
          "value": null,
          "weight": 15,
          "x": 576.9017515068342,
          "xval": 57.142857142857146,
          "y": 268.4204658286564,
          "yval": 33.33333333333333
         },
         "value": 1
        },
        {
         "source": {
          "index": 17,
          "label": "h2,5",
          "label_display": "none",
          "px": 477.8082171514826,
          "py": 269.08906326525766,
          "shape": "circle",
          "shape_attrs": {
           "r": 15
          },
          "value": null,
          "weight": 18,
          "x": 477.7815842250509,
          "xval": 42.85714285714286,
          "y": 268.9920791765058,
          "yval": 54.54545454545455
         },
         "target": {
          "index": 29,
          "label": "h3,7",
          "label_display": "none",
          "px": 578.6409159338473,
          "py": 274.2330183957971,
          "shape": "circle",
          "shape_attrs": {
           "r": 15
          },
          "value": null,
          "weight": 15,
          "x": 578.6775206015765,
          "xval": 57.142857142857146,
          "y": 274.2042402135952,
          "yval": 22.22222222222222
         },
         "value": 1
        },
        {
         "source": {
          "index": 17,
          "label": "h2,5",
          "label_display": "none",
          "px": 477.8082171514826,
          "py": 269.08906326525766,
          "shape": "circle",
          "shape_attrs": {
           "r": 15
          },
          "value": null,
          "weight": 18,
          "x": 477.7815842250509,
          "xval": 42.85714285714286,
          "y": 268.9920791765058,
          "yval": 54.54545454545455
         },
         "target": {
          "index": 30,
          "label": "h3,8",
          "label_display": "none",
          "px": 574.6515904415983,
          "py": 262.1896431335167,
          "shape": "circle",
          "shape_attrs": {
           "r": 15
          },
          "value": null,
          "weight": 15,
          "x": 574.672059093895,
          "xval": 57.142857142857146,
          "y": 262.11727545340494,
          "yval": 11.11111111111111
         },
         "value": 1
        },
        {
         "source": {
          "index": 18,
          "label": "h2,6",
          "label_display": "none",
          "px": 479.0689385172297,
          "py": 274.2982594723541,
          "shape": "circle",
          "shape_attrs": {
           "r": 15
          },
          "value": null,
          "weight": 18,
          "x": 479.0514197646102,
          "xval": 42.85714285714286,
          "y": 274.23274919285296,
          "yval": 45.45454545454546
         },
         "target": {
          "index": 23,
          "label": "h3,1",
          "label_display": "none",
          "px": 568.3557485064779,
          "py": 248.17452480415636,
          "shape": "circle",
          "shape_attrs": {
           "r": 15
          },
          "value": null,
          "weight": 15,
          "x": 568.3543739543804,
          "xval": 57.142857142857146,
          "y": 248.06632867147647,
          "yval": 88.88888888888889
         },
         "value": 1
        },
        {
         "source": {
          "index": 18,
          "label": "h2,6",
          "label_display": "none",
          "px": 479.0689385172297,
          "py": 274.2982594723541,
          "shape": "circle",
          "shape_attrs": {
           "r": 15
          },
          "value": null,
          "weight": 18,
          "x": 479.0514197646102,
          "xval": 42.85714285714286,
          "y": 274.23274919285296,
          "yval": 45.45454545454546
         },
         "target": {
          "index": 24,
          "label": "h3,2",
          "label_display": "none",
          "px": 571.939336049355,
          "py": 255.5769417069722,
          "shape": "circle",
          "shape_attrs": {
           "r": 15
          },
          "value": null,
          "weight": 15,
          "x": 571.9502353634037,
          "xval": 57.142857142857146,
          "y": 255.48639564189557,
          "yval": 77.77777777777777
         },
         "value": 1
        },
        {
         "source": {
          "index": 18,
          "label": "h2,6",
          "label_display": "none",
          "px": 479.0689385172297,
          "py": 274.2982594723541,
          "shape": "circle",
          "shape_attrs": {
           "r": 15
          },
          "value": null,
          "weight": 18,
          "x": 479.0514197646102,
          "xval": 42.85714285714286,
          "y": 274.23274919285296,
          "yval": 45.45454545454546
         },
         "target": {
          "index": 25,
          "label": "h3,3",
          "label_display": "none",
          "px": 582.2274545520103,
          "py": 292.79591548385656,
          "shape": "circle",
          "shape_attrs": {
           "r": 15
          },
          "value": null,
          "weight": 15,
          "x": 582.2696771967902,
          "xval": 57.142857142857146,
          "y": 292.8621920390249,
          "yval": 66.66666666666666
         },
         "value": 1
        },
        {
         "source": {
          "index": 18,
          "label": "h2,6",
          "label_display": "none",
          "px": 479.0689385172297,
          "py": 274.2982594723541,
          "shape": "circle",
          "shape_attrs": {
           "r": 15
          },
          "value": null,
          "weight": 18,
          "x": 479.0514197646102,
          "xval": 42.85714285714286,
          "y": 274.23274919285296,
          "yval": 45.45454545454546
         },
         "target": {
          "index": 26,
          "label": "h3,4",
          "label_display": "none",
          "px": 580.1366706202768,
          "py": 280.1274781871417,
          "shape": "circle",
          "shape_attrs": {
           "r": 15
          },
          "value": null,
          "weight": 15,
          "x": 580.1775441669192,
          "xval": 57.142857142857146,
          "y": 280.12192373448534,
          "yval": 55.55555555555556
         },
         "value": 1
        },
        {
         "source": {
          "index": 18,
          "label": "h2,6",
          "label_display": "none",
          "px": 479.0689385172297,
          "py": 274.2982594723541,
          "shape": "circle",
          "shape_attrs": {
           "r": 15
          },
          "value": null,
          "weight": 18,
          "x": 479.0514197646102,
          "xval": 42.85714285714286,
          "y": 274.23274919285296,
          "yval": 45.45454545454546
         },
         "target": {
          "index": 27,
          "label": "h3,5",
          "label_display": "none",
          "px": 581.3114589300523,
          "py": 286.07986240347674,
          "shape": "circle",
          "shape_attrs": {
           "r": 15
          },
          "value": null,
          "weight": 15,
          "x": 581.3558241595633,
          "xval": 57.142857142857146,
          "y": 286.10833323001145,
          "yval": 44.44444444444444
         },
         "value": 1
        },
        {
         "source": {
          "index": 18,
          "label": "h2,6",
          "label_display": "none",
          "px": 479.0689385172297,
          "py": 274.2982594723541,
          "shape": "circle",
          "shape_attrs": {
           "r": 15
          },
          "value": null,
          "weight": 18,
          "x": 479.0514197646102,
          "xval": 42.85714285714286,
          "y": 274.23274919285296,
          "yval": 45.45454545454546
         },
         "target": {
          "index": 28,
          "label": "h3,6",
          "label_display": "none",
          "px": 576.8737303533172,
          "py": 268.4735693906156,
          "shape": "circle",
          "shape_attrs": {
           "r": 15
          },
          "value": null,
          "weight": 15,
          "x": 576.9017515068342,
          "xval": 57.142857142857146,
          "y": 268.4204658286564,
          "yval": 33.33333333333333
         },
         "value": 1
        },
        {
         "source": {
          "index": 18,
          "label": "h2,6",
          "label_display": "none",
          "px": 479.0689385172297,
          "py": 274.2982594723541,
          "shape": "circle",
          "shape_attrs": {
           "r": 15
          },
          "value": null,
          "weight": 18,
          "x": 479.0514197646102,
          "xval": 42.85714285714286,
          "y": 274.23274919285296,
          "yval": 45.45454545454546
         },
         "target": {
          "index": 29,
          "label": "h3,7",
          "label_display": "none",
          "px": 578.6409159338473,
          "py": 274.2330183957971,
          "shape": "circle",
          "shape_attrs": {
           "r": 15
          },
          "value": null,
          "weight": 15,
          "x": 578.6775206015765,
          "xval": 57.142857142857146,
          "y": 274.2042402135952,
          "yval": 22.22222222222222
         },
         "value": 1
        },
        {
         "source": {
          "index": 18,
          "label": "h2,6",
          "label_display": "none",
          "px": 479.0689385172297,
          "py": 274.2982594723541,
          "shape": "circle",
          "shape_attrs": {
           "r": 15
          },
          "value": null,
          "weight": 18,
          "x": 479.0514197646102,
          "xval": 42.85714285714286,
          "y": 274.23274919285296,
          "yval": 45.45454545454546
         },
         "target": {
          "index": 30,
          "label": "h3,8",
          "label_display": "none",
          "px": 574.6515904415983,
          "py": 262.1896431335167,
          "shape": "circle",
          "shape_attrs": {
           "r": 15
          },
          "value": null,
          "weight": 15,
          "x": 574.672059093895,
          "xval": 57.142857142857146,
          "y": 262.11727545340494,
          "yval": 11.11111111111111
         },
         "value": 1
        },
        {
         "source": {
          "index": 19,
          "label": "h2,7",
          "label_display": "none",
          "px": 484.7798355697473,
          "py": 298.0206373089927,
          "shape": "circle",
          "shape_attrs": {
           "r": 15
          },
          "value": null,
          "weight": 18,
          "x": 484.77824316859875,
          "xval": 42.85714285714286,
          "y": 298.00737331803714,
          "yval": 36.36363636363637
         },
         "target": {
          "index": 23,
          "label": "h3,1",
          "label_display": "none",
          "px": 568.3557485064779,
          "py": 248.17452480415636,
          "shape": "circle",
          "shape_attrs": {
           "r": 15
          },
          "value": null,
          "weight": 15,
          "x": 568.3543739543804,
          "xval": 57.142857142857146,
          "y": 248.06632867147647,
          "yval": 88.88888888888889
         },
         "value": 1
        },
        {
         "source": {
          "index": 19,
          "label": "h2,7",
          "label_display": "none",
          "px": 484.7798355697473,
          "py": 298.0206373089927,
          "shape": "circle",
          "shape_attrs": {
           "r": 15
          },
          "value": null,
          "weight": 18,
          "x": 484.77824316859875,
          "xval": 42.85714285714286,
          "y": 298.00737331803714,
          "yval": 36.36363636363637
         },
         "target": {
          "index": 24,
          "label": "h3,2",
          "label_display": "none",
          "px": 571.939336049355,
          "py": 255.5769417069722,
          "shape": "circle",
          "shape_attrs": {
           "r": 15
          },
          "value": null,
          "weight": 15,
          "x": 571.9502353634037,
          "xval": 57.142857142857146,
          "y": 255.48639564189557,
          "yval": 77.77777777777777
         },
         "value": 1
        },
        {
         "source": {
          "index": 19,
          "label": "h2,7",
          "label_display": "none",
          "px": 484.7798355697473,
          "py": 298.0206373089927,
          "shape": "circle",
          "shape_attrs": {
           "r": 15
          },
          "value": null,
          "weight": 18,
          "x": 484.77824316859875,
          "xval": 42.85714285714286,
          "y": 298.00737331803714,
          "yval": 36.36363636363637
         },
         "target": {
          "index": 25,
          "label": "h3,3",
          "label_display": "none",
          "px": 582.2274545520103,
          "py": 292.79591548385656,
          "shape": "circle",
          "shape_attrs": {
           "r": 15
          },
          "value": null,
          "weight": 15,
          "x": 582.2696771967902,
          "xval": 57.142857142857146,
          "y": 292.8621920390249,
          "yval": 66.66666666666666
         },
         "value": 1
        },
        {
         "source": {
          "index": 19,
          "label": "h2,7",
          "label_display": "none",
          "px": 484.7798355697473,
          "py": 298.0206373089927,
          "shape": "circle",
          "shape_attrs": {
           "r": 15
          },
          "value": null,
          "weight": 18,
          "x": 484.77824316859875,
          "xval": 42.85714285714286,
          "y": 298.00737331803714,
          "yval": 36.36363636363637
         },
         "target": {
          "index": 26,
          "label": "h3,4",
          "label_display": "none",
          "px": 580.1366706202768,
          "py": 280.1274781871417,
          "shape": "circle",
          "shape_attrs": {
           "r": 15
          },
          "value": null,
          "weight": 15,
          "x": 580.1775441669192,
          "xval": 57.142857142857146,
          "y": 280.12192373448534,
          "yval": 55.55555555555556
         },
         "value": 1
        },
        {
         "source": {
          "index": 19,
          "label": "h2,7",
          "label_display": "none",
          "px": 484.7798355697473,
          "py": 298.0206373089927,
          "shape": "circle",
          "shape_attrs": {
           "r": 15
          },
          "value": null,
          "weight": 18,
          "x": 484.77824316859875,
          "xval": 42.85714285714286,
          "y": 298.00737331803714,
          "yval": 36.36363636363637
         },
         "target": {
          "index": 27,
          "label": "h3,5",
          "label_display": "none",
          "px": 581.3114589300523,
          "py": 286.07986240347674,
          "shape": "circle",
          "shape_attrs": {
           "r": 15
          },
          "value": null,
          "weight": 15,
          "x": 581.3558241595633,
          "xval": 57.142857142857146,
          "y": 286.10833323001145,
          "yval": 44.44444444444444
         },
         "value": 1
        },
        {
         "source": {
          "index": 19,
          "label": "h2,7",
          "label_display": "none",
          "px": 484.7798355697473,
          "py": 298.0206373089927,
          "shape": "circle",
          "shape_attrs": {
           "r": 15
          },
          "value": null,
          "weight": 18,
          "x": 484.77824316859875,
          "xval": 42.85714285714286,
          "y": 298.00737331803714,
          "yval": 36.36363636363637
         },
         "target": {
          "index": 28,
          "label": "h3,6",
          "label_display": "none",
          "px": 576.8737303533172,
          "py": 268.4735693906156,
          "shape": "circle",
          "shape_attrs": {
           "r": 15
          },
          "value": null,
          "weight": 15,
          "x": 576.9017515068342,
          "xval": 57.142857142857146,
          "y": 268.4204658286564,
          "yval": 33.33333333333333
         },
         "value": 1
        },
        {
         "source": {
          "index": 19,
          "label": "h2,7",
          "label_display": "none",
          "px": 484.7798355697473,
          "py": 298.0206373089927,
          "shape": "circle",
          "shape_attrs": {
           "r": 15
          },
          "value": null,
          "weight": 18,
          "x": 484.77824316859875,
          "xval": 42.85714285714286,
          "y": 298.00737331803714,
          "yval": 36.36363636363637
         },
         "target": {
          "index": 29,
          "label": "h3,7",
          "label_display": "none",
          "px": 578.6409159338473,
          "py": 274.2330183957971,
          "shape": "circle",
          "shape_attrs": {
           "r": 15
          },
          "value": null,
          "weight": 15,
          "x": 578.6775206015765,
          "xval": 57.142857142857146,
          "y": 274.2042402135952,
          "yval": 22.22222222222222
         },
         "value": 1
        },
        {
         "source": {
          "index": 19,
          "label": "h2,7",
          "label_display": "none",
          "px": 484.7798355697473,
          "py": 298.0206373089927,
          "shape": "circle",
          "shape_attrs": {
           "r": 15
          },
          "value": null,
          "weight": 18,
          "x": 484.77824316859875,
          "xval": 42.85714285714286,
          "y": 298.00737331803714,
          "yval": 36.36363636363637
         },
         "target": {
          "index": 30,
          "label": "h3,8",
          "label_display": "none",
          "px": 574.6515904415983,
          "py": 262.1896431335167,
          "shape": "circle",
          "shape_attrs": {
           "r": 15
          },
          "value": null,
          "weight": 15,
          "x": 574.672059093895,
          "xval": 57.142857142857146,
          "y": 262.11727545340494,
          "yval": 11.11111111111111
         },
         "value": 1
        },
        {
         "source": {
          "index": 20,
          "label": "h2,8",
          "label_display": "none",
          "px": 486.2596861879294,
          "py": 304.16409498119907,
          "shape": "circle",
          "shape_attrs": {
           "r": 15
          },
          "value": null,
          "weight": 18,
          "x": 486.26364197857214,
          "xval": 42.85714285714286,
          "y": 304.1732909774429,
          "yval": 27.272727272727273
         },
         "target": {
          "index": 23,
          "label": "h3,1",
          "label_display": "none",
          "px": 568.3557485064779,
          "py": 248.17452480415636,
          "shape": "circle",
          "shape_attrs": {
           "r": 15
          },
          "value": null,
          "weight": 15,
          "x": 568.3543739543804,
          "xval": 57.142857142857146,
          "y": 248.06632867147647,
          "yval": 88.88888888888889
         },
         "value": 1
        },
        {
         "source": {
          "index": 20,
          "label": "h2,8",
          "label_display": "none",
          "px": 486.2596861879294,
          "py": 304.16409498119907,
          "shape": "circle",
          "shape_attrs": {
           "r": 15
          },
          "value": null,
          "weight": 18,
          "x": 486.26364197857214,
          "xval": 42.85714285714286,
          "y": 304.1732909774429,
          "yval": 27.272727272727273
         },
         "target": {
          "index": 24,
          "label": "h3,2",
          "label_display": "none",
          "px": 571.939336049355,
          "py": 255.5769417069722,
          "shape": "circle",
          "shape_attrs": {
           "r": 15
          },
          "value": null,
          "weight": 15,
          "x": 571.9502353634037,
          "xval": 57.142857142857146,
          "y": 255.48639564189557,
          "yval": 77.77777777777777
         },
         "value": 1
        },
        {
         "source": {
          "index": 20,
          "label": "h2,8",
          "label_display": "none",
          "px": 486.2596861879294,
          "py": 304.16409498119907,
          "shape": "circle",
          "shape_attrs": {
           "r": 15
          },
          "value": null,
          "weight": 18,
          "x": 486.26364197857214,
          "xval": 42.85714285714286,
          "y": 304.1732909774429,
          "yval": 27.272727272727273
         },
         "target": {
          "index": 25,
          "label": "h3,3",
          "label_display": "none",
          "px": 582.2274545520103,
          "py": 292.79591548385656,
          "shape": "circle",
          "shape_attrs": {
           "r": 15
          },
          "value": null,
          "weight": 15,
          "x": 582.2696771967902,
          "xval": 57.142857142857146,
          "y": 292.8621920390249,
          "yval": 66.66666666666666
         },
         "value": 1
        },
        {
         "source": {
          "index": 20,
          "label": "h2,8",
          "label_display": "none",
          "px": 486.2596861879294,
          "py": 304.16409498119907,
          "shape": "circle",
          "shape_attrs": {
           "r": 15
          },
          "value": null,
          "weight": 18,
          "x": 486.26364197857214,
          "xval": 42.85714285714286,
          "y": 304.1732909774429,
          "yval": 27.272727272727273
         },
         "target": {
          "index": 26,
          "label": "h3,4",
          "label_display": "none",
          "px": 580.1366706202768,
          "py": 280.1274781871417,
          "shape": "circle",
          "shape_attrs": {
           "r": 15
          },
          "value": null,
          "weight": 15,
          "x": 580.1775441669192,
          "xval": 57.142857142857146,
          "y": 280.12192373448534,
          "yval": 55.55555555555556
         },
         "value": 1
        },
        {
         "source": {
          "index": 20,
          "label": "h2,8",
          "label_display": "none",
          "px": 486.2596861879294,
          "py": 304.16409498119907,
          "shape": "circle",
          "shape_attrs": {
           "r": 15
          },
          "value": null,
          "weight": 18,
          "x": 486.26364197857214,
          "xval": 42.85714285714286,
          "y": 304.1732909774429,
          "yval": 27.272727272727273
         },
         "target": {
          "index": 27,
          "label": "h3,5",
          "label_display": "none",
          "px": 581.3114589300523,
          "py": 286.07986240347674,
          "shape": "circle",
          "shape_attrs": {
           "r": 15
          },
          "value": null,
          "weight": 15,
          "x": 581.3558241595633,
          "xval": 57.142857142857146,
          "y": 286.10833323001145,
          "yval": 44.44444444444444
         },
         "value": 1
        },
        {
         "source": {
          "index": 20,
          "label": "h2,8",
          "label_display": "none",
          "px": 486.2596861879294,
          "py": 304.16409498119907,
          "shape": "circle",
          "shape_attrs": {
           "r": 15
          },
          "value": null,
          "weight": 18,
          "x": 486.26364197857214,
          "xval": 42.85714285714286,
          "y": 304.1732909774429,
          "yval": 27.272727272727273
         },
         "target": {
          "index": 28,
          "label": "h3,6",
          "label_display": "none",
          "px": 576.8737303533172,
          "py": 268.4735693906156,
          "shape": "circle",
          "shape_attrs": {
           "r": 15
          },
          "value": null,
          "weight": 15,
          "x": 576.9017515068342,
          "xval": 57.142857142857146,
          "y": 268.4204658286564,
          "yval": 33.33333333333333
         },
         "value": 1
        },
        {
         "source": {
          "index": 20,
          "label": "h2,8",
          "label_display": "none",
          "px": 486.2596861879294,
          "py": 304.16409498119907,
          "shape": "circle",
          "shape_attrs": {
           "r": 15
          },
          "value": null,
          "weight": 18,
          "x": 486.26364197857214,
          "xval": 42.85714285714286,
          "y": 304.1732909774429,
          "yval": 27.272727272727273
         },
         "target": {
          "index": 29,
          "label": "h3,7",
          "label_display": "none",
          "px": 578.6409159338473,
          "py": 274.2330183957971,
          "shape": "circle",
          "shape_attrs": {
           "r": 15
          },
          "value": null,
          "weight": 15,
          "x": 578.6775206015765,
          "xval": 57.142857142857146,
          "y": 274.2042402135952,
          "yval": 22.22222222222222
         },
         "value": 1
        },
        {
         "source": {
          "index": 20,
          "label": "h2,8",
          "label_display": "none",
          "px": 486.2596861879294,
          "py": 304.16409498119907,
          "shape": "circle",
          "shape_attrs": {
           "r": 15
          },
          "value": null,
          "weight": 18,
          "x": 486.26364197857214,
          "xval": 42.85714285714286,
          "y": 304.1732909774429,
          "yval": 27.272727272727273
         },
         "target": {
          "index": 30,
          "label": "h3,8",
          "label_display": "none",
          "px": 574.6515904415983,
          "py": 262.1896431335167,
          "shape": "circle",
          "shape_attrs": {
           "r": 15
          },
          "value": null,
          "weight": 15,
          "x": 574.672059093895,
          "xval": 57.142857142857146,
          "y": 262.11727545340494,
          "yval": 11.11111111111111
         },
         "value": 1
        },
        {
         "source": {
          "index": 21,
          "label": "h2,9",
          "label_display": "none",
          "px": 483.2579717497743,
          "py": 291.7185090866249,
          "shape": "circle",
          "shape_attrs": {
           "r": 15
          },
          "value": null,
          "weight": 18,
          "x": 483.25324350064943,
          "xval": 42.85714285714286,
          "y": 291.6947350145861,
          "yval": 18.181818181818183
         },
         "target": {
          "index": 23,
          "label": "h3,1",
          "label_display": "none",
          "px": 568.3557485064779,
          "py": 248.17452480415636,
          "shape": "circle",
          "shape_attrs": {
           "r": 15
          },
          "value": null,
          "weight": 15,
          "x": 568.3543739543804,
          "xval": 57.142857142857146,
          "y": 248.06632867147647,
          "yval": 88.88888888888889
         },
         "value": 1
        },
        {
         "source": {
          "index": 21,
          "label": "h2,9",
          "label_display": "none",
          "px": 483.2579717497743,
          "py": 291.7185090866249,
          "shape": "circle",
          "shape_attrs": {
           "r": 15
          },
          "value": null,
          "weight": 18,
          "x": 483.25324350064943,
          "xval": 42.85714285714286,
          "y": 291.6947350145861,
          "yval": 18.181818181818183
         },
         "target": {
          "index": 24,
          "label": "h3,2",
          "label_display": "none",
          "px": 571.939336049355,
          "py": 255.5769417069722,
          "shape": "circle",
          "shape_attrs": {
           "r": 15
          },
          "value": null,
          "weight": 15,
          "x": 571.9502353634037,
          "xval": 57.142857142857146,
          "y": 255.48639564189557,
          "yval": 77.77777777777777
         },
         "value": 1
        },
        {
         "source": {
          "index": 21,
          "label": "h2,9",
          "label_display": "none",
          "px": 483.2579717497743,
          "py": 291.7185090866249,
          "shape": "circle",
          "shape_attrs": {
           "r": 15
          },
          "value": null,
          "weight": 18,
          "x": 483.25324350064943,
          "xval": 42.85714285714286,
          "y": 291.6947350145861,
          "yval": 18.181818181818183
         },
         "target": {
          "index": 25,
          "label": "h3,3",
          "label_display": "none",
          "px": 582.2274545520103,
          "py": 292.79591548385656,
          "shape": "circle",
          "shape_attrs": {
           "r": 15
          },
          "value": null,
          "weight": 15,
          "x": 582.2696771967902,
          "xval": 57.142857142857146,
          "y": 292.8621920390249,
          "yval": 66.66666666666666
         },
         "value": 1
        },
        {
         "source": {
          "index": 21,
          "label": "h2,9",
          "label_display": "none",
          "px": 483.2579717497743,
          "py": 291.7185090866249,
          "shape": "circle",
          "shape_attrs": {
           "r": 15
          },
          "value": null,
          "weight": 18,
          "x": 483.25324350064943,
          "xval": 42.85714285714286,
          "y": 291.6947350145861,
          "yval": 18.181818181818183
         },
         "target": {
          "index": 26,
          "label": "h3,4",
          "label_display": "none",
          "px": 580.1366706202768,
          "py": 280.1274781871417,
          "shape": "circle",
          "shape_attrs": {
           "r": 15
          },
          "value": null,
          "weight": 15,
          "x": 580.1775441669192,
          "xval": 57.142857142857146,
          "y": 280.12192373448534,
          "yval": 55.55555555555556
         },
         "value": 1
        },
        {
         "source": {
          "index": 21,
          "label": "h2,9",
          "label_display": "none",
          "px": 483.2579717497743,
          "py": 291.7185090866249,
          "shape": "circle",
          "shape_attrs": {
           "r": 15
          },
          "value": null,
          "weight": 18,
          "x": 483.25324350064943,
          "xval": 42.85714285714286,
          "y": 291.6947350145861,
          "yval": 18.181818181818183
         },
         "target": {
          "index": 27,
          "label": "h3,5",
          "label_display": "none",
          "px": 581.3114589300523,
          "py": 286.07986240347674,
          "shape": "circle",
          "shape_attrs": {
           "r": 15
          },
          "value": null,
          "weight": 15,
          "x": 581.3558241595633,
          "xval": 57.142857142857146,
          "y": 286.10833323001145,
          "yval": 44.44444444444444
         },
         "value": 1
        },
        {
         "source": {
          "index": 21,
          "label": "h2,9",
          "label_display": "none",
          "px": 483.2579717497743,
          "py": 291.7185090866249,
          "shape": "circle",
          "shape_attrs": {
           "r": 15
          },
          "value": null,
          "weight": 18,
          "x": 483.25324350064943,
          "xval": 42.85714285714286,
          "y": 291.6947350145861,
          "yval": 18.181818181818183
         },
         "target": {
          "index": 28,
          "label": "h3,6",
          "label_display": "none",
          "px": 576.8737303533172,
          "py": 268.4735693906156,
          "shape": "circle",
          "shape_attrs": {
           "r": 15
          },
          "value": null,
          "weight": 15,
          "x": 576.9017515068342,
          "xval": 57.142857142857146,
          "y": 268.4204658286564,
          "yval": 33.33333333333333
         },
         "value": 1
        },
        {
         "source": {
          "index": 21,
          "label": "h2,9",
          "label_display": "none",
          "px": 483.2579717497743,
          "py": 291.7185090866249,
          "shape": "circle",
          "shape_attrs": {
           "r": 15
          },
          "value": null,
          "weight": 18,
          "x": 483.25324350064943,
          "xval": 42.85714285714286,
          "y": 291.6947350145861,
          "yval": 18.181818181818183
         },
         "target": {
          "index": 29,
          "label": "h3,7",
          "label_display": "none",
          "px": 578.6409159338473,
          "py": 274.2330183957971,
          "shape": "circle",
          "shape_attrs": {
           "r": 15
          },
          "value": null,
          "weight": 15,
          "x": 578.6775206015765,
          "xval": 57.142857142857146,
          "y": 274.2042402135952,
          "yval": 22.22222222222222
         },
         "value": 1
        },
        {
         "source": {
          "index": 21,
          "label": "h2,9",
          "label_display": "none",
          "px": 483.2579717497743,
          "py": 291.7185090866249,
          "shape": "circle",
          "shape_attrs": {
           "r": 15
          },
          "value": null,
          "weight": 18,
          "x": 483.25324350064943,
          "xval": 42.85714285714286,
          "y": 291.6947350145861,
          "yval": 18.181818181818183
         },
         "target": {
          "index": 30,
          "label": "h3,8",
          "label_display": "none",
          "px": 574.6515904415983,
          "py": 262.1896431335167,
          "shape": "circle",
          "shape_attrs": {
           "r": 15
          },
          "value": null,
          "weight": 15,
          "x": 574.672059093895,
          "xval": 57.142857142857146,
          "y": 262.11727545340494,
          "yval": 11.11111111111111
         },
         "value": 1
        },
        {
         "source": {
          "index": 22,
          "label": "h2,10",
          "label_display": "none",
          "px": 487.7192769413394,
          "py": 310.29091898156224,
          "shape": "circle",
          "shape_attrs": {
           "r": 15
          },
          "value": null,
          "weight": 18,
          "x": 487.72607389991265,
          "xval": 42.85714285714286,
          "y": 310.3154916285665,
          "yval": 9.090909090909092
         },
         "target": {
          "index": 23,
          "label": "h3,1",
          "label_display": "none",
          "px": 568.3557485064779,
          "py": 248.17452480415636,
          "shape": "circle",
          "shape_attrs": {
           "r": 15
          },
          "value": null,
          "weight": 15,
          "x": 568.3543739543804,
          "xval": 57.142857142857146,
          "y": 248.06632867147647,
          "yval": 88.88888888888889
         },
         "value": 1
        },
        {
         "source": {
          "index": 22,
          "label": "h2,10",
          "label_display": "none",
          "px": 487.7192769413394,
          "py": 310.29091898156224,
          "shape": "circle",
          "shape_attrs": {
           "r": 15
          },
          "value": null,
          "weight": 18,
          "x": 487.72607389991265,
          "xval": 42.85714285714286,
          "y": 310.3154916285665,
          "yval": 9.090909090909092
         },
         "target": {
          "index": 24,
          "label": "h3,2",
          "label_display": "none",
          "px": 571.939336049355,
          "py": 255.5769417069722,
          "shape": "circle",
          "shape_attrs": {
           "r": 15
          },
          "value": null,
          "weight": 15,
          "x": 571.9502353634037,
          "xval": 57.142857142857146,
          "y": 255.48639564189557,
          "yval": 77.77777777777777
         },
         "value": 1
        },
        {
         "source": {
          "index": 22,
          "label": "h2,10",
          "label_display": "none",
          "px": 487.7192769413394,
          "py": 310.29091898156224,
          "shape": "circle",
          "shape_attrs": {
           "r": 15
          },
          "value": null,
          "weight": 18,
          "x": 487.72607389991265,
          "xval": 42.85714285714286,
          "y": 310.3154916285665,
          "yval": 9.090909090909092
         },
         "target": {
          "index": 25,
          "label": "h3,3",
          "label_display": "none",
          "px": 582.2274545520103,
          "py": 292.79591548385656,
          "shape": "circle",
          "shape_attrs": {
           "r": 15
          },
          "value": null,
          "weight": 15,
          "x": 582.2696771967902,
          "xval": 57.142857142857146,
          "y": 292.8621920390249,
          "yval": 66.66666666666666
         },
         "value": 1
        },
        {
         "source": {
          "index": 22,
          "label": "h2,10",
          "label_display": "none",
          "px": 487.7192769413394,
          "py": 310.29091898156224,
          "shape": "circle",
          "shape_attrs": {
           "r": 15
          },
          "value": null,
          "weight": 18,
          "x": 487.72607389991265,
          "xval": 42.85714285714286,
          "y": 310.3154916285665,
          "yval": 9.090909090909092
         },
         "target": {
          "index": 26,
          "label": "h3,4",
          "label_display": "none",
          "px": 580.1366706202768,
          "py": 280.1274781871417,
          "shape": "circle",
          "shape_attrs": {
           "r": 15
          },
          "value": null,
          "weight": 15,
          "x": 580.1775441669192,
          "xval": 57.142857142857146,
          "y": 280.12192373448534,
          "yval": 55.55555555555556
         },
         "value": 1
        },
        {
         "source": {
          "index": 22,
          "label": "h2,10",
          "label_display": "none",
          "px": 487.7192769413394,
          "py": 310.29091898156224,
          "shape": "circle",
          "shape_attrs": {
           "r": 15
          },
          "value": null,
          "weight": 18,
          "x": 487.72607389991265,
          "xval": 42.85714285714286,
          "y": 310.3154916285665,
          "yval": 9.090909090909092
         },
         "target": {
          "index": 27,
          "label": "h3,5",
          "label_display": "none",
          "px": 581.3114589300523,
          "py": 286.07986240347674,
          "shape": "circle",
          "shape_attrs": {
           "r": 15
          },
          "value": null,
          "weight": 15,
          "x": 581.3558241595633,
          "xval": 57.142857142857146,
          "y": 286.10833323001145,
          "yval": 44.44444444444444
         },
         "value": 1
        },
        {
         "source": {
          "index": 22,
          "label": "h2,10",
          "label_display": "none",
          "px": 487.7192769413394,
          "py": 310.29091898156224,
          "shape": "circle",
          "shape_attrs": {
           "r": 15
          },
          "value": null,
          "weight": 18,
          "x": 487.72607389991265,
          "xval": 42.85714285714286,
          "y": 310.3154916285665,
          "yval": 9.090909090909092
         },
         "target": {
          "index": 28,
          "label": "h3,6",
          "label_display": "none",
          "px": 576.8737303533172,
          "py": 268.4735693906156,
          "shape": "circle",
          "shape_attrs": {
           "r": 15
          },
          "value": null,
          "weight": 15,
          "x": 576.9017515068342,
          "xval": 57.142857142857146,
          "y": 268.4204658286564,
          "yval": 33.33333333333333
         },
         "value": 1
        },
        {
         "source": {
          "index": 22,
          "label": "h2,10",
          "label_display": "none",
          "px": 487.7192769413394,
          "py": 310.29091898156224,
          "shape": "circle",
          "shape_attrs": {
           "r": 15
          },
          "value": null,
          "weight": 18,
          "x": 487.72607389991265,
          "xval": 42.85714285714286,
          "y": 310.3154916285665,
          "yval": 9.090909090909092
         },
         "target": {
          "index": 29,
          "label": "h3,7",
          "label_display": "none",
          "px": 578.6409159338473,
          "py": 274.2330183957971,
          "shape": "circle",
          "shape_attrs": {
           "r": 15
          },
          "value": null,
          "weight": 15,
          "x": 578.6775206015765,
          "xval": 57.142857142857146,
          "y": 274.2042402135952,
          "yval": 22.22222222222222
         },
         "value": 1
        },
        {
         "source": {
          "index": 22,
          "label": "h2,10",
          "label_display": "none",
          "px": 487.7192769413394,
          "py": 310.29091898156224,
          "shape": "circle",
          "shape_attrs": {
           "r": 15
          },
          "value": null,
          "weight": 18,
          "x": 487.72607389991265,
          "xval": 42.85714285714286,
          "y": 310.3154916285665,
          "yval": 9.090909090909092
         },
         "target": {
          "index": 30,
          "label": "h3,8",
          "label_display": "none",
          "px": 574.6515904415983,
          "py": 262.1896431335167,
          "shape": "circle",
          "shape_attrs": {
           "r": 15
          },
          "value": null,
          "weight": 15,
          "x": 574.672059093895,
          "xval": 57.142857142857146,
          "y": 262.11727545340494,
          "yval": 11.11111111111111
         },
         "value": 1
        },
        {
         "source": {
          "index": 23,
          "label": "h3,1",
          "label_display": "none",
          "px": 568.3557485064779,
          "py": 248.17452480415636,
          "shape": "circle",
          "shape_attrs": {
           "r": 15
          },
          "value": null,
          "weight": 15,
          "x": 568.3543739543804,
          "xval": 57.142857142857146,
          "y": 248.06632867147647,
          "yval": 88.88888888888889
         },
         "target": {
          "index": 31,
          "label": "h4,1",
          "label_display": "none",
          "px": 495.36474605821525,
          "py": 327.5232392960442,
          "shape": "circle",
          "shape_attrs": {
           "r": 15
          },
          "value": null,
          "weight": 9,
          "x": 495.3734529931218,
          "xval": 71.42857142857143,
          "y": 327.5596261536022,
          "yval": 83.33333333333334
         },
         "value": 1
        },
        {
         "source": {
          "index": 23,
          "label": "h3,1",
          "label_display": "none",
          "px": 568.3557485064779,
          "py": 248.17452480415636,
          "shape": "circle",
          "shape_attrs": {
           "r": 15
          },
          "value": null,
          "weight": 15,
          "x": 568.3543739543804,
          "xval": 57.142857142857146,
          "y": 248.06632867147647,
          "yval": 88.88888888888889
         },
         "target": {
          "index": 32,
          "label": "h4,2",
          "label_display": "none",
          "px": 501.04823043663913,
          "py": 335.4129165662225,
          "shape": "circle",
          "shape_attrs": {
           "r": 15
          },
          "value": null,
          "weight": 9,
          "x": 501.0694641363872,
          "xval": 71.42857142857143,
          "y": 335.45979316093326,
          "yval": 66.66666666666667
         },
         "value": 1
        },
        {
         "source": {
          "index": 23,
          "label": "h3,1",
          "label_display": "none",
          "px": 568.3557485064779,
          "py": 248.17452480415636,
          "shape": "circle",
          "shape_attrs": {
           "r": 15
          },
          "value": null,
          "weight": 15,
          "x": 568.3543739543804,
          "xval": 57.142857142857146,
          "y": 248.06632867147647,
          "yval": 88.88888888888889
         },
         "target": {
          "index": 33,
          "label": "h4,3",
          "label_display": "none",
          "px": 508.0690472713432,
          "py": 343.3548171916153,
          "shape": "circle",
          "shape_attrs": {
           "r": 15
          },
          "value": null,
          "weight": 9,
          "x": 508.10595563147865,
          "xval": 71.42857142857143,
          "y": 343.4127678358784,
          "yval": 50
         },
         "value": 1
        },
        {
         "source": {
          "index": 23,
          "label": "h3,1",
          "label_display": "none",
          "px": 568.3557485064779,
          "py": 248.17452480415636,
          "shape": "circle",
          "shape_attrs": {
           "r": 15
          },
          "value": null,
          "weight": 15,
          "x": 568.3543739543804,
          "xval": 57.142857142857146,
          "y": 248.06632867147647,
          "yval": 88.88888888888889
         },
         "target": {
          "index": 34,
          "label": "h4,4",
          "label_display": "none",
          "px": 668.5242404457554,
          "py": 242.2122362697768,
          "shape": "circle",
          "shape_attrs": {
           "r": 15
          },
          "value": null,
          "weight": 9,
          "x": 668.5759099592533,
          "xval": 71.42857142857143,
          "y": 242.22443754668163,
          "yval": 33.333333333333336
         },
         "value": 1
        },
        {
         "source": {
          "index": 23,
          "label": "h3,1",
          "label_display": "none",
          "px": 568.3557485064779,
          "py": 248.17452480415636,
          "shape": "circle",
          "shape_attrs": {
           "r": 15
          },
          "value": null,
          "weight": 15,
          "x": 568.3543739543804,
          "xval": 57.142857142857146,
          "y": 248.06632867147647,
          "yval": 88.88888888888889
         },
         "target": {
          "index": 35,
          "label": "h4,5",
          "label_display": "none",
          "px": 656.118647334096,
          "py": 217.72050722029252,
          "shape": "circle",
          "shape_attrs": {
           "r": 15
          },
          "value": null,
          "weight": 9,
          "x": 656.1830530440815,
          "xval": 71.42857142857143,
          "y": 217.72673849523076,
          "yval": 16.666666666666668
         },
         "value": 1
        },
        {
         "source": {
          "index": 24,
          "label": "h3,2",
          "label_display": "none",
          "px": 571.939336049355,
          "py": 255.5769417069722,
          "shape": "circle",
          "shape_attrs": {
           "r": 15
          },
          "value": null,
          "weight": 15,
          "x": 571.9502353634037,
          "xval": 57.142857142857146,
          "y": 255.48639564189557,
          "yval": 77.77777777777777
         },
         "target": {
          "index": 31,
          "label": "h4,1",
          "label_display": "none",
          "px": 495.36474605821525,
          "py": 327.5232392960442,
          "shape": "circle",
          "shape_attrs": {
           "r": 15
          },
          "value": null,
          "weight": 9,
          "x": 495.3734529931218,
          "xval": 71.42857142857143,
          "y": 327.5596261536022,
          "yval": 83.33333333333334
         },
         "value": 1
        },
        {
         "source": {
          "index": 24,
          "label": "h3,2",
          "label_display": "none",
          "px": 571.939336049355,
          "py": 255.5769417069722,
          "shape": "circle",
          "shape_attrs": {
           "r": 15
          },
          "value": null,
          "weight": 15,
          "x": 571.9502353634037,
          "xval": 57.142857142857146,
          "y": 255.48639564189557,
          "yval": 77.77777777777777
         },
         "target": {
          "index": 32,
          "label": "h4,2",
          "label_display": "none",
          "px": 501.04823043663913,
          "py": 335.4129165662225,
          "shape": "circle",
          "shape_attrs": {
           "r": 15
          },
          "value": null,
          "weight": 9,
          "x": 501.0694641363872,
          "xval": 71.42857142857143,
          "y": 335.45979316093326,
          "yval": 66.66666666666667
         },
         "value": 1
        },
        {
         "source": {
          "index": 24,
          "label": "h3,2",
          "label_display": "none",
          "px": 571.939336049355,
          "py": 255.5769417069722,
          "shape": "circle",
          "shape_attrs": {
           "r": 15
          },
          "value": null,
          "weight": 15,
          "x": 571.9502353634037,
          "xval": 57.142857142857146,
          "y": 255.48639564189557,
          "yval": 77.77777777777777
         },
         "target": {
          "index": 33,
          "label": "h4,3",
          "label_display": "none",
          "px": 508.0690472713432,
          "py": 343.3548171916153,
          "shape": "circle",
          "shape_attrs": {
           "r": 15
          },
          "value": null,
          "weight": 9,
          "x": 508.10595563147865,
          "xval": 71.42857142857143,
          "y": 343.4127678358784,
          "yval": 50
         },
         "value": 1
        },
        {
         "source": {
          "index": 24,
          "label": "h3,2",
          "label_display": "none",
          "px": 571.939336049355,
          "py": 255.5769417069722,
          "shape": "circle",
          "shape_attrs": {
           "r": 15
          },
          "value": null,
          "weight": 15,
          "x": 571.9502353634037,
          "xval": 57.142857142857146,
          "y": 255.48639564189557,
          "yval": 77.77777777777777
         },
         "target": {
          "index": 34,
          "label": "h4,4",
          "label_display": "none",
          "px": 668.5242404457554,
          "py": 242.2122362697768,
          "shape": "circle",
          "shape_attrs": {
           "r": 15
          },
          "value": null,
          "weight": 9,
          "x": 668.5759099592533,
          "xval": 71.42857142857143,
          "y": 242.22443754668163,
          "yval": 33.333333333333336
         },
         "value": 1
        },
        {
         "source": {
          "index": 24,
          "label": "h3,2",
          "label_display": "none",
          "px": 571.939336049355,
          "py": 255.5769417069722,
          "shape": "circle",
          "shape_attrs": {
           "r": 15
          },
          "value": null,
          "weight": 15,
          "x": 571.9502353634037,
          "xval": 57.142857142857146,
          "y": 255.48639564189557,
          "yval": 77.77777777777777
         },
         "target": {
          "index": 35,
          "label": "h4,5",
          "label_display": "none",
          "px": 656.118647334096,
          "py": 217.72050722029252,
          "shape": "circle",
          "shape_attrs": {
           "r": 15
          },
          "value": null,
          "weight": 9,
          "x": 656.1830530440815,
          "xval": 71.42857142857143,
          "y": 217.72673849523076,
          "yval": 16.666666666666668
         },
         "value": 1
        },
        {
         "source": {
          "index": 25,
          "label": "h3,3",
          "label_display": "none",
          "px": 582.2274545520103,
          "py": 292.79591548385656,
          "shape": "circle",
          "shape_attrs": {
           "r": 15
          },
          "value": null,
          "weight": 15,
          "x": 582.2696771967902,
          "xval": 57.142857142857146,
          "y": 292.8621920390249,
          "yval": 66.66666666666666
         },
         "target": {
          "index": 31,
          "label": "h4,1",
          "label_display": "none",
          "px": 495.36474605821525,
          "py": 327.5232392960442,
          "shape": "circle",
          "shape_attrs": {
           "r": 15
          },
          "value": null,
          "weight": 9,
          "x": 495.3734529931218,
          "xval": 71.42857142857143,
          "y": 327.5596261536022,
          "yval": 83.33333333333334
         },
         "value": 1
        },
        {
         "source": {
          "index": 25,
          "label": "h3,3",
          "label_display": "none",
          "px": 582.2274545520103,
          "py": 292.79591548385656,
          "shape": "circle",
          "shape_attrs": {
           "r": 15
          },
          "value": null,
          "weight": 15,
          "x": 582.2696771967902,
          "xval": 57.142857142857146,
          "y": 292.8621920390249,
          "yval": 66.66666666666666
         },
         "target": {
          "index": 32,
          "label": "h4,2",
          "label_display": "none",
          "px": 501.04823043663913,
          "py": 335.4129165662225,
          "shape": "circle",
          "shape_attrs": {
           "r": 15
          },
          "value": null,
          "weight": 9,
          "x": 501.0694641363872,
          "xval": 71.42857142857143,
          "y": 335.45979316093326,
          "yval": 66.66666666666667
         },
         "value": 1
        },
        {
         "source": {
          "index": 25,
          "label": "h3,3",
          "label_display": "none",
          "px": 582.2274545520103,
          "py": 292.79591548385656,
          "shape": "circle",
          "shape_attrs": {
           "r": 15
          },
          "value": null,
          "weight": 15,
          "x": 582.2696771967902,
          "xval": 57.142857142857146,
          "y": 292.8621920390249,
          "yval": 66.66666666666666
         },
         "target": {
          "index": 33,
          "label": "h4,3",
          "label_display": "none",
          "px": 508.0690472713432,
          "py": 343.3548171916153,
          "shape": "circle",
          "shape_attrs": {
           "r": 15
          },
          "value": null,
          "weight": 9,
          "x": 508.10595563147865,
          "xval": 71.42857142857143,
          "y": 343.4127678358784,
          "yval": 50
         },
         "value": 1
        },
        {
         "source": {
          "index": 25,
          "label": "h3,3",
          "label_display": "none",
          "px": 582.2274545520103,
          "py": 292.79591548385656,
          "shape": "circle",
          "shape_attrs": {
           "r": 15
          },
          "value": null,
          "weight": 15,
          "x": 582.2696771967902,
          "xval": 57.142857142857146,
          "y": 292.8621920390249,
          "yval": 66.66666666666666
         },
         "target": {
          "index": 34,
          "label": "h4,4",
          "label_display": "none",
          "px": 668.5242404457554,
          "py": 242.2122362697768,
          "shape": "circle",
          "shape_attrs": {
           "r": 15
          },
          "value": null,
          "weight": 9,
          "x": 668.5759099592533,
          "xval": 71.42857142857143,
          "y": 242.22443754668163,
          "yval": 33.333333333333336
         },
         "value": 1
        },
        {
         "source": {
          "index": 25,
          "label": "h3,3",
          "label_display": "none",
          "px": 582.2274545520103,
          "py": 292.79591548385656,
          "shape": "circle",
          "shape_attrs": {
           "r": 15
          },
          "value": null,
          "weight": 15,
          "x": 582.2696771967902,
          "xval": 57.142857142857146,
          "y": 292.8621920390249,
          "yval": 66.66666666666666
         },
         "target": {
          "index": 35,
          "label": "h4,5",
          "label_display": "none",
          "px": 656.118647334096,
          "py": 217.72050722029252,
          "shape": "circle",
          "shape_attrs": {
           "r": 15
          },
          "value": null,
          "weight": 9,
          "x": 656.1830530440815,
          "xval": 71.42857142857143,
          "y": 217.72673849523076,
          "yval": 16.666666666666668
         },
         "value": 1
        },
        {
         "source": {
          "index": 26,
          "label": "h3,4",
          "label_display": "none",
          "px": 580.1366706202768,
          "py": 280.1274781871417,
          "shape": "circle",
          "shape_attrs": {
           "r": 15
          },
          "value": null,
          "weight": 15,
          "x": 580.1775441669192,
          "xval": 57.142857142857146,
          "y": 280.12192373448534,
          "yval": 55.55555555555556
         },
         "target": {
          "index": 31,
          "label": "h4,1",
          "label_display": "none",
          "px": 495.36474605821525,
          "py": 327.5232392960442,
          "shape": "circle",
          "shape_attrs": {
           "r": 15
          },
          "value": null,
          "weight": 9,
          "x": 495.3734529931218,
          "xval": 71.42857142857143,
          "y": 327.5596261536022,
          "yval": 83.33333333333334
         },
         "value": 1
        },
        {
         "source": {
          "index": 26,
          "label": "h3,4",
          "label_display": "none",
          "px": 580.1366706202768,
          "py": 280.1274781871417,
          "shape": "circle",
          "shape_attrs": {
           "r": 15
          },
          "value": null,
          "weight": 15,
          "x": 580.1775441669192,
          "xval": 57.142857142857146,
          "y": 280.12192373448534,
          "yval": 55.55555555555556
         },
         "target": {
          "index": 32,
          "label": "h4,2",
          "label_display": "none",
          "px": 501.04823043663913,
          "py": 335.4129165662225,
          "shape": "circle",
          "shape_attrs": {
           "r": 15
          },
          "value": null,
          "weight": 9,
          "x": 501.0694641363872,
          "xval": 71.42857142857143,
          "y": 335.45979316093326,
          "yval": 66.66666666666667
         },
         "value": 1
        },
        {
         "source": {
          "index": 26,
          "label": "h3,4",
          "label_display": "none",
          "px": 580.1366706202768,
          "py": 280.1274781871417,
          "shape": "circle",
          "shape_attrs": {
           "r": 15
          },
          "value": null,
          "weight": 15,
          "x": 580.1775441669192,
          "xval": 57.142857142857146,
          "y": 280.12192373448534,
          "yval": 55.55555555555556
         },
         "target": {
          "index": 33,
          "label": "h4,3",
          "label_display": "none",
          "px": 508.0690472713432,
          "py": 343.3548171916153,
          "shape": "circle",
          "shape_attrs": {
           "r": 15
          },
          "value": null,
          "weight": 9,
          "x": 508.10595563147865,
          "xval": 71.42857142857143,
          "y": 343.4127678358784,
          "yval": 50
         },
         "value": 1
        },
        {
         "source": {
          "index": 26,
          "label": "h3,4",
          "label_display": "none",
          "px": 580.1366706202768,
          "py": 280.1274781871417,
          "shape": "circle",
          "shape_attrs": {
           "r": 15
          },
          "value": null,
          "weight": 15,
          "x": 580.1775441669192,
          "xval": 57.142857142857146,
          "y": 280.12192373448534,
          "yval": 55.55555555555556
         },
         "target": {
          "index": 34,
          "label": "h4,4",
          "label_display": "none",
          "px": 668.5242404457554,
          "py": 242.2122362697768,
          "shape": "circle",
          "shape_attrs": {
           "r": 15
          },
          "value": null,
          "weight": 9,
          "x": 668.5759099592533,
          "xval": 71.42857142857143,
          "y": 242.22443754668163,
          "yval": 33.333333333333336
         },
         "value": 1
        },
        {
         "source": {
          "index": 26,
          "label": "h3,4",
          "label_display": "none",
          "px": 580.1366706202768,
          "py": 280.1274781871417,
          "shape": "circle",
          "shape_attrs": {
           "r": 15
          },
          "value": null,
          "weight": 15,
          "x": 580.1775441669192,
          "xval": 57.142857142857146,
          "y": 280.12192373448534,
          "yval": 55.55555555555556
         },
         "target": {
          "index": 35,
          "label": "h4,5",
          "label_display": "none",
          "px": 656.118647334096,
          "py": 217.72050722029252,
          "shape": "circle",
          "shape_attrs": {
           "r": 15
          },
          "value": null,
          "weight": 9,
          "x": 656.1830530440815,
          "xval": 71.42857142857143,
          "y": 217.72673849523076,
          "yval": 16.666666666666668
         },
         "value": 1
        },
        {
         "source": {
          "index": 27,
          "label": "h3,5",
          "label_display": "none",
          "px": 581.3114589300523,
          "py": 286.07986240347674,
          "shape": "circle",
          "shape_attrs": {
           "r": 15
          },
          "value": null,
          "weight": 15,
          "x": 581.3558241595633,
          "xval": 57.142857142857146,
          "y": 286.10833323001145,
          "yval": 44.44444444444444
         },
         "target": {
          "index": 31,
          "label": "h4,1",
          "label_display": "none",
          "px": 495.36474605821525,
          "py": 327.5232392960442,
          "shape": "circle",
          "shape_attrs": {
           "r": 15
          },
          "value": null,
          "weight": 9,
          "x": 495.3734529931218,
          "xval": 71.42857142857143,
          "y": 327.5596261536022,
          "yval": 83.33333333333334
         },
         "value": 1
        },
        {
         "source": {
          "index": 27,
          "label": "h3,5",
          "label_display": "none",
          "px": 581.3114589300523,
          "py": 286.07986240347674,
          "shape": "circle",
          "shape_attrs": {
           "r": 15
          },
          "value": null,
          "weight": 15,
          "x": 581.3558241595633,
          "xval": 57.142857142857146,
          "y": 286.10833323001145,
          "yval": 44.44444444444444
         },
         "target": {
          "index": 32,
          "label": "h4,2",
          "label_display": "none",
          "px": 501.04823043663913,
          "py": 335.4129165662225,
          "shape": "circle",
          "shape_attrs": {
           "r": 15
          },
          "value": null,
          "weight": 9,
          "x": 501.0694641363872,
          "xval": 71.42857142857143,
          "y": 335.45979316093326,
          "yval": 66.66666666666667
         },
         "value": 1
        },
        {
         "source": {
          "index": 27,
          "label": "h3,5",
          "label_display": "none",
          "px": 581.3114589300523,
          "py": 286.07986240347674,
          "shape": "circle",
          "shape_attrs": {
           "r": 15
          },
          "value": null,
          "weight": 15,
          "x": 581.3558241595633,
          "xval": 57.142857142857146,
          "y": 286.10833323001145,
          "yval": 44.44444444444444
         },
         "target": {
          "index": 33,
          "label": "h4,3",
          "label_display": "none",
          "px": 508.0690472713432,
          "py": 343.3548171916153,
          "shape": "circle",
          "shape_attrs": {
           "r": 15
          },
          "value": null,
          "weight": 9,
          "x": 508.10595563147865,
          "xval": 71.42857142857143,
          "y": 343.4127678358784,
          "yval": 50
         },
         "value": 1
        },
        {
         "source": {
          "index": 27,
          "label": "h3,5",
          "label_display": "none",
          "px": 581.3114589300523,
          "py": 286.07986240347674,
          "shape": "circle",
          "shape_attrs": {
           "r": 15
          },
          "value": null,
          "weight": 15,
          "x": 581.3558241595633,
          "xval": 57.142857142857146,
          "y": 286.10833323001145,
          "yval": 44.44444444444444
         },
         "target": {
          "index": 34,
          "label": "h4,4",
          "label_display": "none",
          "px": 668.5242404457554,
          "py": 242.2122362697768,
          "shape": "circle",
          "shape_attrs": {
           "r": 15
          },
          "value": null,
          "weight": 9,
          "x": 668.5759099592533,
          "xval": 71.42857142857143,
          "y": 242.22443754668163,
          "yval": 33.333333333333336
         },
         "value": 1
        },
        {
         "source": {
          "index": 27,
          "label": "h3,5",
          "label_display": "none",
          "px": 581.3114589300523,
          "py": 286.07986240347674,
          "shape": "circle",
          "shape_attrs": {
           "r": 15
          },
          "value": null,
          "weight": 15,
          "x": 581.3558241595633,
          "xval": 57.142857142857146,
          "y": 286.10833323001145,
          "yval": 44.44444444444444
         },
         "target": {
          "index": 35,
          "label": "h4,5",
          "label_display": "none",
          "px": 656.118647334096,
          "py": 217.72050722029252,
          "shape": "circle",
          "shape_attrs": {
           "r": 15
          },
          "value": null,
          "weight": 9,
          "x": 656.1830530440815,
          "xval": 71.42857142857143,
          "y": 217.72673849523076,
          "yval": 16.666666666666668
         },
         "value": 1
        },
        {
         "source": {
          "index": 28,
          "label": "h3,6",
          "label_display": "none",
          "px": 576.8737303533172,
          "py": 268.4735693906156,
          "shape": "circle",
          "shape_attrs": {
           "r": 15
          },
          "value": null,
          "weight": 15,
          "x": 576.9017515068342,
          "xval": 57.142857142857146,
          "y": 268.4204658286564,
          "yval": 33.33333333333333
         },
         "target": {
          "index": 31,
          "label": "h4,1",
          "label_display": "none",
          "px": 495.36474605821525,
          "py": 327.5232392960442,
          "shape": "circle",
          "shape_attrs": {
           "r": 15
          },
          "value": null,
          "weight": 9,
          "x": 495.3734529931218,
          "xval": 71.42857142857143,
          "y": 327.5596261536022,
          "yval": 83.33333333333334
         },
         "value": 1
        },
        {
         "source": {
          "index": 28,
          "label": "h3,6",
          "label_display": "none",
          "px": 576.8737303533172,
          "py": 268.4735693906156,
          "shape": "circle",
          "shape_attrs": {
           "r": 15
          },
          "value": null,
          "weight": 15,
          "x": 576.9017515068342,
          "xval": 57.142857142857146,
          "y": 268.4204658286564,
          "yval": 33.33333333333333
         },
         "target": {
          "index": 32,
          "label": "h4,2",
          "label_display": "none",
          "px": 501.04823043663913,
          "py": 335.4129165662225,
          "shape": "circle",
          "shape_attrs": {
           "r": 15
          },
          "value": null,
          "weight": 9,
          "x": 501.0694641363872,
          "xval": 71.42857142857143,
          "y": 335.45979316093326,
          "yval": 66.66666666666667
         },
         "value": 1
        },
        {
         "source": {
          "index": 28,
          "label": "h3,6",
          "label_display": "none",
          "px": 576.8737303533172,
          "py": 268.4735693906156,
          "shape": "circle",
          "shape_attrs": {
           "r": 15
          },
          "value": null,
          "weight": 15,
          "x": 576.9017515068342,
          "xval": 57.142857142857146,
          "y": 268.4204658286564,
          "yval": 33.33333333333333
         },
         "target": {
          "index": 33,
          "label": "h4,3",
          "label_display": "none",
          "px": 508.0690472713432,
          "py": 343.3548171916153,
          "shape": "circle",
          "shape_attrs": {
           "r": 15
          },
          "value": null,
          "weight": 9,
          "x": 508.10595563147865,
          "xval": 71.42857142857143,
          "y": 343.4127678358784,
          "yval": 50
         },
         "value": 1
        },
        {
         "source": {
          "index": 28,
          "label": "h3,6",
          "label_display": "none",
          "px": 576.8737303533172,
          "py": 268.4735693906156,
          "shape": "circle",
          "shape_attrs": {
           "r": 15
          },
          "value": null,
          "weight": 15,
          "x": 576.9017515068342,
          "xval": 57.142857142857146,
          "y": 268.4204658286564,
          "yval": 33.33333333333333
         },
         "target": {
          "index": 34,
          "label": "h4,4",
          "label_display": "none",
          "px": 668.5242404457554,
          "py": 242.2122362697768,
          "shape": "circle",
          "shape_attrs": {
           "r": 15
          },
          "value": null,
          "weight": 9,
          "x": 668.5759099592533,
          "xval": 71.42857142857143,
          "y": 242.22443754668163,
          "yval": 33.333333333333336
         },
         "value": 1
        },
        {
         "source": {
          "index": 28,
          "label": "h3,6",
          "label_display": "none",
          "px": 576.8737303533172,
          "py": 268.4735693906156,
          "shape": "circle",
          "shape_attrs": {
           "r": 15
          },
          "value": null,
          "weight": 15,
          "x": 576.9017515068342,
          "xval": 57.142857142857146,
          "y": 268.4204658286564,
          "yval": 33.33333333333333
         },
         "target": {
          "index": 35,
          "label": "h4,5",
          "label_display": "none",
          "px": 656.118647334096,
          "py": 217.72050722029252,
          "shape": "circle",
          "shape_attrs": {
           "r": 15
          },
          "value": null,
          "weight": 9,
          "x": 656.1830530440815,
          "xval": 71.42857142857143,
          "y": 217.72673849523076,
          "yval": 16.666666666666668
         },
         "value": 1
        },
        {
         "source": {
          "index": 29,
          "label": "h3,7",
          "label_display": "none",
          "px": 578.6409159338473,
          "py": 274.2330183957971,
          "shape": "circle",
          "shape_attrs": {
           "r": 15
          },
          "value": null,
          "weight": 15,
          "x": 578.6775206015765,
          "xval": 57.142857142857146,
          "y": 274.2042402135952,
          "yval": 22.22222222222222
         },
         "target": {
          "index": 31,
          "label": "h4,1",
          "label_display": "none",
          "px": 495.36474605821525,
          "py": 327.5232392960442,
          "shape": "circle",
          "shape_attrs": {
           "r": 15
          },
          "value": null,
          "weight": 9,
          "x": 495.3734529931218,
          "xval": 71.42857142857143,
          "y": 327.5596261536022,
          "yval": 83.33333333333334
         },
         "value": 1
        },
        {
         "source": {
          "index": 29,
          "label": "h3,7",
          "label_display": "none",
          "px": 578.6409159338473,
          "py": 274.2330183957971,
          "shape": "circle",
          "shape_attrs": {
           "r": 15
          },
          "value": null,
          "weight": 15,
          "x": 578.6775206015765,
          "xval": 57.142857142857146,
          "y": 274.2042402135952,
          "yval": 22.22222222222222
         },
         "target": {
          "index": 32,
          "label": "h4,2",
          "label_display": "none",
          "px": 501.04823043663913,
          "py": 335.4129165662225,
          "shape": "circle",
          "shape_attrs": {
           "r": 15
          },
          "value": null,
          "weight": 9,
          "x": 501.0694641363872,
          "xval": 71.42857142857143,
          "y": 335.45979316093326,
          "yval": 66.66666666666667
         },
         "value": 1
        },
        {
         "source": {
          "index": 29,
          "label": "h3,7",
          "label_display": "none",
          "px": 578.6409159338473,
          "py": 274.2330183957971,
          "shape": "circle",
          "shape_attrs": {
           "r": 15
          },
          "value": null,
          "weight": 15,
          "x": 578.6775206015765,
          "xval": 57.142857142857146,
          "y": 274.2042402135952,
          "yval": 22.22222222222222
         },
         "target": {
          "index": 33,
          "label": "h4,3",
          "label_display": "none",
          "px": 508.0690472713432,
          "py": 343.3548171916153,
          "shape": "circle",
          "shape_attrs": {
           "r": 15
          },
          "value": null,
          "weight": 9,
          "x": 508.10595563147865,
          "xval": 71.42857142857143,
          "y": 343.4127678358784,
          "yval": 50
         },
         "value": 1
        },
        {
         "source": {
          "index": 29,
          "label": "h3,7",
          "label_display": "none",
          "px": 578.6409159338473,
          "py": 274.2330183957971,
          "shape": "circle",
          "shape_attrs": {
           "r": 15
          },
          "value": null,
          "weight": 15,
          "x": 578.6775206015765,
          "xval": 57.142857142857146,
          "y": 274.2042402135952,
          "yval": 22.22222222222222
         },
         "target": {
          "index": 34,
          "label": "h4,4",
          "label_display": "none",
          "px": 668.5242404457554,
          "py": 242.2122362697768,
          "shape": "circle",
          "shape_attrs": {
           "r": 15
          },
          "value": null,
          "weight": 9,
          "x": 668.5759099592533,
          "xval": 71.42857142857143,
          "y": 242.22443754668163,
          "yval": 33.333333333333336
         },
         "value": 1
        },
        {
         "source": {
          "index": 29,
          "label": "h3,7",
          "label_display": "none",
          "px": 578.6409159338473,
          "py": 274.2330183957971,
          "shape": "circle",
          "shape_attrs": {
           "r": 15
          },
          "value": null,
          "weight": 15,
          "x": 578.6775206015765,
          "xval": 57.142857142857146,
          "y": 274.2042402135952,
          "yval": 22.22222222222222
         },
         "target": {
          "index": 35,
          "label": "h4,5",
          "label_display": "none",
          "px": 656.118647334096,
          "py": 217.72050722029252,
          "shape": "circle",
          "shape_attrs": {
           "r": 15
          },
          "value": null,
          "weight": 9,
          "x": 656.1830530440815,
          "xval": 71.42857142857143,
          "y": 217.72673849523076,
          "yval": 16.666666666666668
         },
         "value": 1
        },
        {
         "source": {
          "index": 30,
          "label": "h3,8",
          "label_display": "none",
          "px": 574.6515904415983,
          "py": 262.1896431335167,
          "shape": "circle",
          "shape_attrs": {
           "r": 15
          },
          "value": null,
          "weight": 15,
          "x": 574.672059093895,
          "xval": 57.142857142857146,
          "y": 262.11727545340494,
          "yval": 11.11111111111111
         },
         "target": {
          "index": 31,
          "label": "h4,1",
          "label_display": "none",
          "px": 495.36474605821525,
          "py": 327.5232392960442,
          "shape": "circle",
          "shape_attrs": {
           "r": 15
          },
          "value": null,
          "weight": 9,
          "x": 495.3734529931218,
          "xval": 71.42857142857143,
          "y": 327.5596261536022,
          "yval": 83.33333333333334
         },
         "value": 1
        },
        {
         "source": {
          "index": 30,
          "label": "h3,8",
          "label_display": "none",
          "px": 574.6515904415983,
          "py": 262.1896431335167,
          "shape": "circle",
          "shape_attrs": {
           "r": 15
          },
          "value": null,
          "weight": 15,
          "x": 574.672059093895,
          "xval": 57.142857142857146,
          "y": 262.11727545340494,
          "yval": 11.11111111111111
         },
         "target": {
          "index": 32,
          "label": "h4,2",
          "label_display": "none",
          "px": 501.04823043663913,
          "py": 335.4129165662225,
          "shape": "circle",
          "shape_attrs": {
           "r": 15
          },
          "value": null,
          "weight": 9,
          "x": 501.0694641363872,
          "xval": 71.42857142857143,
          "y": 335.45979316093326,
          "yval": 66.66666666666667
         },
         "value": 1
        },
        {
         "source": {
          "index": 30,
          "label": "h3,8",
          "label_display": "none",
          "px": 574.6515904415983,
          "py": 262.1896431335167,
          "shape": "circle",
          "shape_attrs": {
           "r": 15
          },
          "value": null,
          "weight": 15,
          "x": 574.672059093895,
          "xval": 57.142857142857146,
          "y": 262.11727545340494,
          "yval": 11.11111111111111
         },
         "target": {
          "index": 33,
          "label": "h4,3",
          "label_display": "none",
          "px": 508.0690472713432,
          "py": 343.3548171916153,
          "shape": "circle",
          "shape_attrs": {
           "r": 15
          },
          "value": null,
          "weight": 9,
          "x": 508.10595563147865,
          "xval": 71.42857142857143,
          "y": 343.4127678358784,
          "yval": 50
         },
         "value": 1
        },
        {
         "source": {
          "index": 30,
          "label": "h3,8",
          "label_display": "none",
          "px": 574.6515904415983,
          "py": 262.1896431335167,
          "shape": "circle",
          "shape_attrs": {
           "r": 15
          },
          "value": null,
          "weight": 15,
          "x": 574.672059093895,
          "xval": 57.142857142857146,
          "y": 262.11727545340494,
          "yval": 11.11111111111111
         },
         "target": {
          "index": 34,
          "label": "h4,4",
          "label_display": "none",
          "px": 668.5242404457554,
          "py": 242.2122362697768,
          "shape": "circle",
          "shape_attrs": {
           "r": 15
          },
          "value": null,
          "weight": 9,
          "x": 668.5759099592533,
          "xval": 71.42857142857143,
          "y": 242.22443754668163,
          "yval": 33.333333333333336
         },
         "value": 1
        },
        {
         "source": {
          "index": 30,
          "label": "h3,8",
          "label_display": "none",
          "px": 574.6515904415983,
          "py": 262.1896431335167,
          "shape": "circle",
          "shape_attrs": {
           "r": 15
          },
          "value": null,
          "weight": 15,
          "x": 574.672059093895,
          "xval": 57.142857142857146,
          "y": 262.11727545340494,
          "yval": 11.11111111111111
         },
         "target": {
          "index": 35,
          "label": "h4,5",
          "label_display": "none",
          "px": 656.118647334096,
          "py": 217.72050722029252,
          "shape": "circle",
          "shape_attrs": {
           "r": 15
          },
          "value": null,
          "weight": 9,
          "x": 656.1830530440815,
          "xval": 71.42857142857143,
          "y": 217.72673849523076,
          "yval": 16.666666666666668
         },
         "value": 1
        },
        {
         "source": {
          "index": 31,
          "label": "h4,1",
          "label_display": "none",
          "px": 495.36474605821525,
          "py": 327.5232392960442,
          "shape": "circle",
          "shape_attrs": {
           "r": 15
          },
          "value": null,
          "weight": 9,
          "x": 495.3734529931218,
          "xval": 71.42857142857143,
          "y": 327.5596261536022,
          "yval": 83.33333333333334
         },
         "target": {
          "index": 36,
          "label": "y1",
          "label_display": "none",
          "px": 595.8304816012025,
          "py": 307.50519852266405,
          "shape": "circle",
          "shape_attrs": {
           "r": 15
          },
          "value": null,
          "weight": 5,
          "x": 595.890854652489,
          "xval": 85.71428571428572,
          "y": 307.55683653944067,
          "yval": 50
         },
         "value": 1
        },
        {
         "source": {
          "index": 32,
          "label": "h4,2",
          "label_display": "none",
          "px": 501.04823043663913,
          "py": 335.4129165662225,
          "shape": "circle",
          "shape_attrs": {
           "r": 15
          },
          "value": null,
          "weight": 9,
          "x": 501.0694641363872,
          "xval": 71.42857142857143,
          "y": 335.45979316093326,
          "yval": 66.66666666666667
         },
         "target": {
          "index": 36,
          "label": "y1",
          "label_display": "none",
          "px": 595.8304816012025,
          "py": 307.50519852266405,
          "shape": "circle",
          "shape_attrs": {
           "r": 15
          },
          "value": null,
          "weight": 5,
          "x": 595.890854652489,
          "xval": 85.71428571428572,
          "y": 307.55683653944067,
          "yval": 50
         },
         "value": 1
        },
        {
         "source": {
          "index": 33,
          "label": "h4,3",
          "label_display": "none",
          "px": 508.0690472713432,
          "py": 343.3548171916153,
          "shape": "circle",
          "shape_attrs": {
           "r": 15
          },
          "value": null,
          "weight": 9,
          "x": 508.10595563147865,
          "xval": 71.42857142857143,
          "y": 343.4127678358784,
          "yval": 50
         },
         "target": {
          "index": 36,
          "label": "y1",
          "label_display": "none",
          "px": 595.8304816012025,
          "py": 307.50519852266405,
          "shape": "circle",
          "shape_attrs": {
           "r": 15
          },
          "value": null,
          "weight": 5,
          "x": 595.890854652489,
          "xval": 85.71428571428572,
          "y": 307.55683653944067,
          "yval": 50
         },
         "value": 1
        },
        {
         "source": {
          "index": 34,
          "label": "h4,4",
          "label_display": "none",
          "px": 668.5242404457554,
          "py": 242.2122362697768,
          "shape": "circle",
          "shape_attrs": {
           "r": 15
          },
          "value": null,
          "weight": 9,
          "x": 668.5759099592533,
          "xval": 71.42857142857143,
          "y": 242.22443754668163,
          "yval": 33.333333333333336
         },
         "target": {
          "index": 36,
          "label": "y1",
          "label_display": "none",
          "px": 595.8304816012025,
          "py": 307.50519852266405,
          "shape": "circle",
          "shape_attrs": {
           "r": 15
          },
          "value": null,
          "weight": 5,
          "x": 595.890854652489,
          "xval": 85.71428571428572,
          "y": 307.55683653944067,
          "yval": 50
         },
         "value": 1
        },
        {
         "source": {
          "index": 35,
          "label": "h4,5",
          "label_display": "none",
          "px": 656.118647334096,
          "py": 217.72050722029252,
          "shape": "circle",
          "shape_attrs": {
           "r": 15
          },
          "value": null,
          "weight": 9,
          "x": 656.1830530440815,
          "xval": 71.42857142857143,
          "y": 217.72673849523076,
          "yval": 16.666666666666668
         },
         "target": {
          "index": 36,
          "label": "y1",
          "label_display": "none",
          "px": 595.8304816012025,
          "py": 307.50519852266405,
          "shape": "circle",
          "shape_attrs": {
           "r": 15
          },
          "value": null,
          "weight": 5,
          "x": 595.890854652489,
          "xval": 85.71428571428572,
          "y": 307.55683653944067,
          "yval": 50
         },
         "value": 1
        }
       ],
       "link_distance": 100,
       "link_matrix": {
        "type": "float",
        "values": [
         [
          null,
          null,
          null,
          1,
          1,
          1,
          1,
          1,
          1,
          1,
          1,
          1,
          1,
          null,
          null,
          null,
          null,
          null,
          null,
          null,
          null,
          null,
          null,
          null,
          null,
          null,
          null,
          null,
          null,
          null,
          null,
          null,
          null,
          null,
          null,
          null,
          null
         ],
         [
          null,
          null,
          null,
          1,
          1,
          1,
          1,
          1,
          1,
          1,
          1,
          1,
          1,
          null,
          null,
          null,
          null,
          null,
          null,
          null,
          null,
          null,
          null,
          null,
          null,
          null,
          null,
          null,
          null,
          null,
          null,
          null,
          null,
          null,
          null,
          null,
          null
         ],
         [
          null,
          null,
          null,
          1,
          1,
          1,
          1,
          1,
          1,
          1,
          1,
          1,
          1,
          null,
          null,
          null,
          null,
          null,
          null,
          null,
          null,
          null,
          null,
          null,
          null,
          null,
          null,
          null,
          null,
          null,
          null,
          null,
          null,
          null,
          null,
          null,
          null
         ],
         [
          null,
          null,
          null,
          null,
          null,
          null,
          null,
          null,
          null,
          null,
          null,
          null,
          null,
          1,
          1,
          1,
          1,
          1,
          1,
          1,
          1,
          1,
          1,
          null,
          null,
          null,
          null,
          null,
          null,
          null,
          null,
          null,
          null,
          null,
          null,
          null,
          null
         ],
         [
          null,
          null,
          null,
          null,
          null,
          null,
          null,
          null,
          null,
          null,
          null,
          null,
          null,
          1,
          1,
          1,
          1,
          1,
          1,
          1,
          1,
          1,
          1,
          null,
          null,
          null,
          null,
          null,
          null,
          null,
          null,
          null,
          null,
          null,
          null,
          null,
          null
         ],
         [
          null,
          null,
          null,
          null,
          null,
          null,
          null,
          null,
          null,
          null,
          null,
          null,
          null,
          1,
          1,
          1,
          1,
          1,
          1,
          1,
          1,
          1,
          1,
          null,
          null,
          null,
          null,
          null,
          null,
          null,
          null,
          null,
          null,
          null,
          null,
          null,
          null
         ],
         [
          null,
          null,
          null,
          null,
          null,
          null,
          null,
          null,
          null,
          null,
          null,
          null,
          null,
          1,
          1,
          1,
          1,
          1,
          1,
          1,
          1,
          1,
          1,
          null,
          null,
          null,
          null,
          null,
          null,
          null,
          null,
          null,
          null,
          null,
          null,
          null,
          null
         ],
         [
          null,
          null,
          null,
          null,
          null,
          null,
          null,
          null,
          null,
          null,
          null,
          null,
          null,
          1,
          1,
          1,
          1,
          1,
          1,
          1,
          1,
          1,
          1,
          null,
          null,
          null,
          null,
          null,
          null,
          null,
          null,
          null,
          null,
          null,
          null,
          null,
          null
         ],
         [
          null,
          null,
          null,
          null,
          null,
          null,
          null,
          null,
          null,
          null,
          null,
          null,
          null,
          1,
          1,
          1,
          1,
          1,
          1,
          1,
          1,
          1,
          1,
          null,
          null,
          null,
          null,
          null,
          null,
          null,
          null,
          null,
          null,
          null,
          null,
          null,
          null
         ],
         [
          null,
          null,
          null,
          null,
          null,
          null,
          null,
          null,
          null,
          null,
          null,
          null,
          null,
          1,
          1,
          1,
          1,
          1,
          1,
          1,
          1,
          1,
          1,
          null,
          null,
          null,
          null,
          null,
          null,
          null,
          null,
          null,
          null,
          null,
          null,
          null,
          null
         ],
         [
          null,
          null,
          null,
          null,
          null,
          null,
          null,
          null,
          null,
          null,
          null,
          null,
          null,
          1,
          1,
          1,
          1,
          1,
          1,
          1,
          1,
          1,
          1,
          null,
          null,
          null,
          null,
          null,
          null,
          null,
          null,
          null,
          null,
          null,
          null,
          null,
          null
         ],
         [
          null,
          null,
          null,
          null,
          null,
          null,
          null,
          null,
          null,
          null,
          null,
          null,
          null,
          1,
          1,
          1,
          1,
          1,
          1,
          1,
          1,
          1,
          1,
          null,
          null,
          null,
          null,
          null,
          null,
          null,
          null,
          null,
          null,
          null,
          null,
          null,
          null
         ],
         [
          null,
          null,
          null,
          null,
          null,
          null,
          null,
          null,
          null,
          null,
          null,
          null,
          null,
          1,
          1,
          1,
          1,
          1,
          1,
          1,
          1,
          1,
          1,
          null,
          null,
          null,
          null,
          null,
          null,
          null,
          null,
          null,
          null,
          null,
          null,
          null,
          null
         ],
         [
          null,
          null,
          null,
          null,
          null,
          null,
          null,
          null,
          null,
          null,
          null,
          null,
          null,
          null,
          null,
          null,
          null,
          null,
          null,
          null,
          null,
          null,
          null,
          1,
          1,
          1,
          1,
          1,
          1,
          1,
          1,
          null,
          null,
          null,
          null,
          null,
          null
         ],
         [
          null,
          null,
          null,
          null,
          null,
          null,
          null,
          null,
          null,
          null,
          null,
          null,
          null,
          null,
          null,
          null,
          null,
          null,
          null,
          null,
          null,
          null,
          null,
          1,
          1,
          1,
          1,
          1,
          1,
          1,
          1,
          null,
          null,
          null,
          null,
          null,
          null
         ],
         [
          null,
          null,
          null,
          null,
          null,
          null,
          null,
          null,
          null,
          null,
          null,
          null,
          null,
          null,
          null,
          null,
          null,
          null,
          null,
          null,
          null,
          null,
          null,
          1,
          1,
          1,
          1,
          1,
          1,
          1,
          1,
          null,
          null,
          null,
          null,
          null,
          null
         ],
         [
          null,
          null,
          null,
          null,
          null,
          null,
          null,
          null,
          null,
          null,
          null,
          null,
          null,
          null,
          null,
          null,
          null,
          null,
          null,
          null,
          null,
          null,
          null,
          1,
          1,
          1,
          1,
          1,
          1,
          1,
          1,
          null,
          null,
          null,
          null,
          null,
          null
         ],
         [
          null,
          null,
          null,
          null,
          null,
          null,
          null,
          null,
          null,
          null,
          null,
          null,
          null,
          null,
          null,
          null,
          null,
          null,
          null,
          null,
          null,
          null,
          null,
          1,
          1,
          1,
          1,
          1,
          1,
          1,
          1,
          null,
          null,
          null,
          null,
          null,
          null
         ],
         [
          null,
          null,
          null,
          null,
          null,
          null,
          null,
          null,
          null,
          null,
          null,
          null,
          null,
          null,
          null,
          null,
          null,
          null,
          null,
          null,
          null,
          null,
          null,
          1,
          1,
          1,
          1,
          1,
          1,
          1,
          1,
          null,
          null,
          null,
          null,
          null,
          null
         ],
         [
          null,
          null,
          null,
          null,
          null,
          null,
          null,
          null,
          null,
          null,
          null,
          null,
          null,
          null,
          null,
          null,
          null,
          null,
          null,
          null,
          null,
          null,
          null,
          1,
          1,
          1,
          1,
          1,
          1,
          1,
          1,
          null,
          null,
          null,
          null,
          null,
          null
         ],
         [
          null,
          null,
          null,
          null,
          null,
          null,
          null,
          null,
          null,
          null,
          null,
          null,
          null,
          null,
          null,
          null,
          null,
          null,
          null,
          null,
          null,
          null,
          null,
          1,
          1,
          1,
          1,
          1,
          1,
          1,
          1,
          null,
          null,
          null,
          null,
          null,
          null
         ],
         [
          null,
          null,
          null,
          null,
          null,
          null,
          null,
          null,
          null,
          null,
          null,
          null,
          null,
          null,
          null,
          null,
          null,
          null,
          null,
          null,
          null,
          null,
          null,
          1,
          1,
          1,
          1,
          1,
          1,
          1,
          1,
          null,
          null,
          null,
          null,
          null,
          null
         ],
         [
          null,
          null,
          null,
          null,
          null,
          null,
          null,
          null,
          null,
          null,
          null,
          null,
          null,
          null,
          null,
          null,
          null,
          null,
          null,
          null,
          null,
          null,
          null,
          1,
          1,
          1,
          1,
          1,
          1,
          1,
          1,
          null,
          null,
          null,
          null,
          null,
          null
         ],
         [
          null,
          null,
          null,
          null,
          null,
          null,
          null,
          null,
          null,
          null,
          null,
          null,
          null,
          null,
          null,
          null,
          null,
          null,
          null,
          null,
          null,
          null,
          null,
          null,
          null,
          null,
          null,
          null,
          null,
          null,
          null,
          1,
          1,
          1,
          1,
          1,
          null
         ],
         [
          null,
          null,
          null,
          null,
          null,
          null,
          null,
          null,
          null,
          null,
          null,
          null,
          null,
          null,
          null,
          null,
          null,
          null,
          null,
          null,
          null,
          null,
          null,
          null,
          null,
          null,
          null,
          null,
          null,
          null,
          null,
          1,
          1,
          1,
          1,
          1,
          null
         ],
         [
          null,
          null,
          null,
          null,
          null,
          null,
          null,
          null,
          null,
          null,
          null,
          null,
          null,
          null,
          null,
          null,
          null,
          null,
          null,
          null,
          null,
          null,
          null,
          null,
          null,
          null,
          null,
          null,
          null,
          null,
          null,
          1,
          1,
          1,
          1,
          1,
          null
         ],
         [
          null,
          null,
          null,
          null,
          null,
          null,
          null,
          null,
          null,
          null,
          null,
          null,
          null,
          null,
          null,
          null,
          null,
          null,
          null,
          null,
          null,
          null,
          null,
          null,
          null,
          null,
          null,
          null,
          null,
          null,
          null,
          1,
          1,
          1,
          1,
          1,
          null
         ],
         [
          null,
          null,
          null,
          null,
          null,
          null,
          null,
          null,
          null,
          null,
          null,
          null,
          null,
          null,
          null,
          null,
          null,
          null,
          null,
          null,
          null,
          null,
          null,
          null,
          null,
          null,
          null,
          null,
          null,
          null,
          null,
          1,
          1,
          1,
          1,
          1,
          null
         ],
         [
          null,
          null,
          null,
          null,
          null,
          null,
          null,
          null,
          null,
          null,
          null,
          null,
          null,
          null,
          null,
          null,
          null,
          null,
          null,
          null,
          null,
          null,
          null,
          null,
          null,
          null,
          null,
          null,
          null,
          null,
          null,
          1,
          1,
          1,
          1,
          1,
          null
         ],
         [
          null,
          null,
          null,
          null,
          null,
          null,
          null,
          null,
          null,
          null,
          null,
          null,
          null,
          null,
          null,
          null,
          null,
          null,
          null,
          null,
          null,
          null,
          null,
          null,
          null,
          null,
          null,
          null,
          null,
          null,
          null,
          1,
          1,
          1,
          1,
          1,
          null
         ],
         [
          null,
          null,
          null,
          null,
          null,
          null,
          null,
          null,
          null,
          null,
          null,
          null,
          null,
          null,
          null,
          null,
          null,
          null,
          null,
          null,
          null,
          null,
          null,
          null,
          null,
          null,
          null,
          null,
          null,
          null,
          null,
          1,
          1,
          1,
          1,
          1,
          null
         ],
         [
          null,
          null,
          null,
          null,
          null,
          null,
          null,
          null,
          null,
          null,
          null,
          null,
          null,
          null,
          null,
          null,
          null,
          null,
          null,
          null,
          null,
          null,
          null,
          null,
          null,
          null,
          null,
          null,
          null,
          null,
          null,
          null,
          null,
          null,
          null,
          null,
          1
         ],
         [
          null,
          null,
          null,
          null,
          null,
          null,
          null,
          null,
          null,
          null,
          null,
          null,
          null,
          null,
          null,
          null,
          null,
          null,
          null,
          null,
          null,
          null,
          null,
          null,
          null,
          null,
          null,
          null,
          null,
          null,
          null,
          null,
          null,
          null,
          null,
          null,
          1
         ],
         [
          null,
          null,
          null,
          null,
          null,
          null,
          null,
          null,
          null,
          null,
          null,
          null,
          null,
          null,
          null,
          null,
          null,
          null,
          null,
          null,
          null,
          null,
          null,
          null,
          null,
          null,
          null,
          null,
          null,
          null,
          null,
          null,
          null,
          null,
          null,
          null,
          1
         ],
         [
          null,
          null,
          null,
          null,
          null,
          null,
          null,
          null,
          null,
          null,
          null,
          null,
          null,
          null,
          null,
          null,
          null,
          null,
          null,
          null,
          null,
          null,
          null,
          null,
          null,
          null,
          null,
          null,
          null,
          null,
          null,
          null,
          null,
          null,
          null,
          null,
          1
         ],
         [
          null,
          null,
          null,
          null,
          null,
          null,
          null,
          null,
          null,
          null,
          null,
          null,
          null,
          null,
          null,
          null,
          null,
          null,
          null,
          null,
          null,
          null,
          null,
          null,
          null,
          null,
          null,
          null,
          null,
          null,
          null,
          null,
          null,
          null,
          null,
          null,
          1
         ],
         [
          null,
          null,
          null,
          null,
          null,
          null,
          null,
          null,
          null,
          null,
          null,
          null,
          null,
          null,
          null,
          null,
          null,
          null,
          null,
          null,
          null,
          null,
          null,
          null,
          null,
          null,
          null,
          null,
          null,
          null,
          null,
          null,
          null,
          null,
          null,
          null,
          null
         ]
        ]
       },
       "link_type": "line",
       "node_data": [
        {
         "index": 0,
         "label": "x1",
         "label_display": "none",
         "px": 305.708627490532,
         "py": 354.5451428018452,
         "shape": "circle",
         "shape_attrs": {
          "r": 15
         },
         "value": null,
         "weight": 10,
         "x": 305.6926597541685,
         "xval": 14.285714285714286,
         "y": 354.6295988560584,
         "yval": 75
        },
        {
         "index": 1,
         "label": "x2",
         "label_display": "none",
         "px": 301.2116594424643,
         "py": 342.33265515674896,
         "shape": "circle",
         "shape_attrs": {
          "r": 15
         },
         "value": null,
         "weight": 10,
         "x": 301.18008985427133,
         "xval": 14.285714285714286,
         "y": 342.3932424775717,
         "yval": 50
        },
        {
         "index": 2,
         "label": "x3",
         "label_display": "none",
         "px": 298.3157001070117,
         "py": 329.6210339404729,
         "shape": "circle",
         "shape_attrs": {
          "r": 15
         },
         "value": null,
         "weight": 10,
         "x": 298.2744557777322,
         "xval": 14.285714285714286,
         "y": 329.6556550476376,
         "yval": 25
        },
        {
         "index": 3,
         "label": "h1,1",
         "label_display": "none",
         "px": 384.8973245727768,
         "py": 286.90795613885757,
         "shape": "circle",
         "shape_attrs": {
          "r": 15
         },
         "value": null,
         "weight": 13,
         "x": 384.84596218225266,
         "xval": 28.571428571428573,
         "y": 286.86727348098344,
         "yval": 90.90909090909092
        },
        {
         "index": 4,
         "label": "h1,2",
         "label_display": "none",
         "px": 384.5894327662319,
         "py": 279.72719400476984,
         "shape": "circle",
         "shape_attrs": {
          "r": 15
         },
         "value": null,
         "weight": 13,
         "x": 384.53808289077085,
         "xval": 28.571428571428573,
         "y": 279.64765725162925,
         "yval": 81.81818181818183
        },
        {
         "index": 5,
         "label": "h1,3",
         "label_display": "none",
         "px": 404.51844381978236,
         "py": 349.64252375533295,
         "shape": "circle",
         "shape_attrs": {
          "r": 15
         },
         "value": null,
         "weight": 13,
         "x": 404.5427626979257,
         "xval": 28.571428571428573,
         "y": 349.7510885549924,
         "yval": 72.72727272727273
        },
        {
         "index": 6,
         "label": "h1,4",
         "label_display": "none",
         "px": 400.9319731639342,
         "py": 343.1992676188478,
         "shape": "circle",
         "shape_attrs": {
          "r": 15
         },
         "value": null,
         "weight": 13,
         "x": 400.9323040846769,
         "xval": 28.571428571428573,
         "y": 343.2766920074684,
         "yval": 63.63636363636364
        },
        {
         "index": 7,
         "label": "h1,5",
         "label_display": "none",
         "px": 397.72978290065487,
         "py": 336.4713455996202,
         "shape": "circle",
         "shape_attrs": {
          "r": 15
         },
         "value": null,
         "weight": 13,
         "x": 397.71479779336056,
         "xval": 28.571428571428573,
         "y": 336.5249956099993,
         "yval": 54.54545454545455
        },
        {
         "index": 8,
         "label": "h1,6",
         "label_display": "none",
         "px": 394.61568432570414,
         "py": 328.836462764268,
         "shape": "circle",
         "shape_attrs": {
          "r": 15
         },
         "value": null,
         "weight": 13,
         "x": 394.5908452924901,
         "xval": 28.571428571428573,
         "y": 328.8733473795684,
         "yval": 45.45454545454546
        },
        {
         "index": 9,
         "label": "h1,7",
         "label_display": "none",
         "px": 391.6008523444577,
         "py": 320.0833195801547,
         "shape": "circle",
         "shape_attrs": {
          "r": 15
         },
         "value": null,
         "weight": 13,
         "x": 391.56863532156706,
         "xval": 28.571428571428573,
         "y": 320.1073505557672,
         "yval": 36.36363636363637
        },
        {
         "index": 10,
         "label": "h1,8",
         "label_display": "none",
         "px": 388.92319547217744,
         "py": 310.6041476586267,
         "shape": "circle",
         "shape_attrs": {
          "r": 15
         },
         "value": null,
         "weight": 13,
         "x": 388.88593332265003,
         "xval": 28.571428571428573,
         "y": 310.6210807754354,
         "yval": 27.272727272727273
        },
        {
         "index": 11,
         "label": "h1,9",
         "label_display": "none",
         "px": 386.96837242153794,
         "py": 301.81766615547065,
         "shape": "circle",
         "shape_attrs": {
          "r": 15
         },
         "value": null,
         "weight": 13,
         "x": 386.9241983581014,
         "xval": 28.571428571428573,
         "y": 301.8163388038004,
         "yval": 18.181818181818183
        },
        {
         "index": 12,
         "label": "h1,10",
         "label_display": "none",
         "px": 385.69282643890125,
         "py": 294.08304766751314,
         "shape": "circle",
         "shape_attrs": {
          "r": 15
         },
         "value": null,
         "weight": 13,
         "x": 385.6449985507694,
         "xval": 28.571428571428573,
         "y": 294.06841172013117,
         "yval": 9.090909090909092
        },
        {
         "index": 13,
         "label": "h2,1",
         "label_display": "none",
         "px": 480.3803494784857,
         "py": 279.7722505958802,
         "shape": "circle",
         "shape_attrs": {
          "r": 15
         },
         "value": null,
         "weight": 18,
         "x": 480.373639263792,
         "xval": 42.85714285714286,
         "y": 279.74885787016143,
         "yval": 90.90909090909092
        },
        {
         "index": 14,
         "label": "h2,2",
         "label_display": "none",
         "px": 476.49346689357674,
         "py": 263.63826217114996,
         "shape": "circle",
         "shape_attrs": {
          "r": 15
         },
         "value": null,
         "weight": 18,
         "x": 476.45044157130604,
         "xval": 42.85714285714286,
         "y": 263.4774080981219,
         "yval": 81.81818181818183
        },
        {
         "index": 15,
         "label": "h2,3",
         "label_display": "none",
         "px": 489.1486426026925,
         "py": 316.5658676430073,
         "shape": "circle",
         "shape_attrs": {
          "r": 15
         },
         "value": null,
         "weight": 18,
         "x": 489.1596033403191,
         "xval": 42.85714285714286,
         "y": 316.6280685111141,
         "yval": 72.72727272727273
        },
        {
         "index": 16,
         "label": "h2,4",
         "label_display": "none",
         "px": 481.75851228534026,
         "py": 285.5158351200188,
         "shape": "circle",
         "shape_attrs": {
          "r": 15
         },
         "value": null,
         "weight": 18,
         "x": 481.75281287193076,
         "xval": 42.85714285714286,
         "y": 285.49328887807417,
         "yval": 63.63636363636364
        },
        {
         "index": 17,
         "label": "h2,5",
         "label_display": "none",
         "px": 477.8082171514826,
         "py": 269.08906326525766,
         "shape": "circle",
         "shape_attrs": {
          "r": 15
         },
         "value": null,
         "weight": 18,
         "x": 477.7815842250509,
         "xval": 42.85714285714286,
         "y": 268.9920791765058,
         "yval": 54.54545454545455
        },
        {
         "index": 18,
         "label": "h2,6",
         "label_display": "none",
         "px": 479.0689385172297,
         "py": 274.2982594723541,
         "shape": "circle",
         "shape_attrs": {
          "r": 15
         },
         "value": null,
         "weight": 18,
         "x": 479.0514197646102,
         "xval": 42.85714285714286,
         "y": 274.23274919285296,
         "yval": 45.45454545454546
        },
        {
         "index": 19,
         "label": "h2,7",
         "label_display": "none",
         "px": 484.7798355697473,
         "py": 298.0206373089927,
         "shape": "circle",
         "shape_attrs": {
          "r": 15
         },
         "value": null,
         "weight": 18,
         "x": 484.77824316859875,
         "xval": 42.85714285714286,
         "y": 298.00737331803714,
         "yval": 36.36363636363637
        },
        {
         "index": 20,
         "label": "h2,8",
         "label_display": "none",
         "px": 486.2596861879294,
         "py": 304.16409498119907,
         "shape": "circle",
         "shape_attrs": {
          "r": 15
         },
         "value": null,
         "weight": 18,
         "x": 486.26364197857214,
         "xval": 42.85714285714286,
         "y": 304.1732909774429,
         "yval": 27.272727272727273
        },
        {
         "index": 21,
         "label": "h2,9",
         "label_display": "none",
         "px": 483.2579717497743,
         "py": 291.7185090866249,
         "shape": "circle",
         "shape_attrs": {
          "r": 15
         },
         "value": null,
         "weight": 18,
         "x": 483.25324350064943,
         "xval": 42.85714285714286,
         "y": 291.6947350145861,
         "yval": 18.181818181818183
        },
        {
         "index": 22,
         "label": "h2,10",
         "label_display": "none",
         "px": 487.7192769413394,
         "py": 310.29091898156224,
         "shape": "circle",
         "shape_attrs": {
          "r": 15
         },
         "value": null,
         "weight": 18,
         "x": 487.72607389991265,
         "xval": 42.85714285714286,
         "y": 310.3154916285665,
         "yval": 9.090909090909092
        },
        {
         "index": 23,
         "label": "h3,1",
         "label_display": "none",
         "px": 568.3557485064779,
         "py": 248.17452480415636,
         "shape": "circle",
         "shape_attrs": {
          "r": 15
         },
         "value": null,
         "weight": 15,
         "x": 568.3543739543804,
         "xval": 57.142857142857146,
         "y": 248.06632867147647,
         "yval": 88.88888888888889
        },
        {
         "index": 24,
         "label": "h3,2",
         "label_display": "none",
         "px": 571.939336049355,
         "py": 255.5769417069722,
         "shape": "circle",
         "shape_attrs": {
          "r": 15
         },
         "value": null,
         "weight": 15,
         "x": 571.9502353634037,
         "xval": 57.142857142857146,
         "y": 255.48639564189557,
         "yval": 77.77777777777777
        },
        {
         "index": 25,
         "label": "h3,3",
         "label_display": "none",
         "px": 582.2274545520103,
         "py": 292.79591548385656,
         "shape": "circle",
         "shape_attrs": {
          "r": 15
         },
         "value": null,
         "weight": 15,
         "x": 582.2696771967902,
         "xval": 57.142857142857146,
         "y": 292.8621920390249,
         "yval": 66.66666666666666
        },
        {
         "index": 26,
         "label": "h3,4",
         "label_display": "none",
         "px": 580.1366706202768,
         "py": 280.1274781871417,
         "shape": "circle",
         "shape_attrs": {
          "r": 15
         },
         "value": null,
         "weight": 15,
         "x": 580.1775441669192,
         "xval": 57.142857142857146,
         "y": 280.12192373448534,
         "yval": 55.55555555555556
        },
        {
         "index": 27,
         "label": "h3,5",
         "label_display": "none",
         "px": 581.3114589300523,
         "py": 286.07986240347674,
         "shape": "circle",
         "shape_attrs": {
          "r": 15
         },
         "value": null,
         "weight": 15,
         "x": 581.3558241595633,
         "xval": 57.142857142857146,
         "y": 286.10833323001145,
         "yval": 44.44444444444444
        },
        {
         "index": 28,
         "label": "h3,6",
         "label_display": "none",
         "px": 576.8737303533172,
         "py": 268.4735693906156,
         "shape": "circle",
         "shape_attrs": {
          "r": 15
         },
         "value": null,
         "weight": 15,
         "x": 576.9017515068342,
         "xval": 57.142857142857146,
         "y": 268.4204658286564,
         "yval": 33.33333333333333
        },
        {
         "index": 29,
         "label": "h3,7",
         "label_display": "none",
         "px": 578.6409159338473,
         "py": 274.2330183957971,
         "shape": "circle",
         "shape_attrs": {
          "r": 15
         },
         "value": null,
         "weight": 15,
         "x": 578.6775206015765,
         "xval": 57.142857142857146,
         "y": 274.2042402135952,
         "yval": 22.22222222222222
        },
        {
         "index": 30,
         "label": "h3,8",
         "label_display": "none",
         "px": 574.6515904415983,
         "py": 262.1896431335167,
         "shape": "circle",
         "shape_attrs": {
          "r": 15
         },
         "value": null,
         "weight": 15,
         "x": 574.672059093895,
         "xval": 57.142857142857146,
         "y": 262.11727545340494,
         "yval": 11.11111111111111
        },
        {
         "index": 31,
         "label": "h4,1",
         "label_display": "none",
         "px": 495.36474605821525,
         "py": 327.5232392960442,
         "shape": "circle",
         "shape_attrs": {
          "r": 15
         },
         "value": null,
         "weight": 9,
         "x": 495.3734529931218,
         "xval": 71.42857142857143,
         "y": 327.5596261536022,
         "yval": 83.33333333333334
        },
        {
         "index": 32,
         "label": "h4,2",
         "label_display": "none",
         "px": 501.04823043663913,
         "py": 335.4129165662225,
         "shape": "circle",
         "shape_attrs": {
          "r": 15
         },
         "value": null,
         "weight": 9,
         "x": 501.0694641363872,
         "xval": 71.42857142857143,
         "y": 335.45979316093326,
         "yval": 66.66666666666667
        },
        {
         "index": 33,
         "label": "h4,3",
         "label_display": "none",
         "px": 508.0690472713432,
         "py": 343.3548171916153,
         "shape": "circle",
         "shape_attrs": {
          "r": 15
         },
         "value": null,
         "weight": 9,
         "x": 508.10595563147865,
         "xval": 71.42857142857143,
         "y": 343.4127678358784,
         "yval": 50
        },
        {
         "index": 34,
         "label": "h4,4",
         "label_display": "none",
         "px": 668.5242404457554,
         "py": 242.2122362697768,
         "shape": "circle",
         "shape_attrs": {
          "r": 15
         },
         "value": null,
         "weight": 9,
         "x": 668.5759099592533,
         "xval": 71.42857142857143,
         "y": 242.22443754668163,
         "yval": 33.333333333333336
        },
        {
         "index": 35,
         "label": "h4,5",
         "label_display": "none",
         "px": 656.118647334096,
         "py": 217.72050722029252,
         "shape": "circle",
         "shape_attrs": {
          "r": 15
         },
         "value": null,
         "weight": 9,
         "x": 656.1830530440815,
         "xval": 71.42857142857143,
         "y": 217.72673849523076,
         "yval": 16.666666666666668
        },
        {
         "index": 36,
         "label": "y1",
         "label_display": "none",
         "px": 595.8304816012025,
         "py": 307.50519852266405,
         "shape": "circle",
         "shape_attrs": {
          "r": 15
         },
         "value": null,
         "weight": 5,
         "x": 595.890854652489,
         "xval": 85.71428571428572,
         "y": 307.55683653944067,
         "yval": 50
        }
       ],
       "preserve_domain": {},
       "scales": {
        "x": "IPY_MODEL_526e6c7da77a4b43a66f74654e2bfedf",
        "y": "IPY_MODEL_7fc3c9b5c6544dd3abecf04a72ec2a84"
       },
       "scales_metadata": {
        "color": {
         "dimension": "color"
        },
        "link_color": {
         "dimension": "link_color"
        },
        "x": {
         "dimension": "x",
         "orientation": "horizontal"
        },
        "y": {
         "dimension": "y",
         "orientation": "vertical"
        }
       },
       "selected": [],
       "selected_style": {
        "opacity": "1",
        "stroke": "red",
        "stroke-width": "2.5"
       },
       "tooltip": null,
       "tooltip_location": "mouse",
       "tooltip_style": {
        "opacity": 0.9
       },
       "unhovered_style": {
        "opacity": "0.4"
       },
       "unselected_style": {},
       "visible": true,
       "x": {
        "type": "float",
        "values": [
         14.285714285714286,
         14.285714285714286,
         14.285714285714286,
         28.571428571428573,
         28.571428571428573,
         28.571428571428573,
         28.571428571428573,
         28.571428571428573,
         28.571428571428573,
         28.571428571428573,
         28.571428571428573,
         28.571428571428573,
         28.571428571428573,
         42.85714285714286,
         42.85714285714286,
         42.85714285714286,
         42.85714285714286,
         42.85714285714286,
         42.85714285714286,
         42.85714285714286,
         42.85714285714286,
         42.85714285714286,
         42.85714285714286,
         57.142857142857146,
         57.142857142857146,
         57.142857142857146,
         57.142857142857146,
         57.142857142857146,
         57.142857142857146,
         57.142857142857146,
         57.142857142857146,
         71.42857142857143,
         71.42857142857143,
         71.42857142857143,
         71.42857142857143,
         71.42857142857143,
         85.71428571428572
        ]
       },
       "y": {
        "type": "float",
        "values": [
         75,
         50,
         25,
         90.90909090909092,
         81.81818181818183,
         72.72727272727273,
         63.63636363636364,
         54.54545454545455,
         45.45454545454546,
         36.36363636363637,
         27.272727272727273,
         18.181818181818183,
         9.090909090909092,
         90.90909090909092,
         81.81818181818183,
         72.72727272727273,
         63.63636363636364,
         54.54545454545455,
         45.45454545454546,
         36.36363636363637,
         27.272727272727273,
         18.181818181818183,
         9.090909090909092,
         88.88888888888889,
         77.77777777777777,
         66.66666666666666,
         55.55555555555556,
         44.44444444444444,
         33.33333333333333,
         22.22222222222222,
         11.11111111111111,
         83.33333333333334,
         66.66666666666667,
         50,
         33.333333333333336,
         16.666666666666668,
         50
        ]
       }
      }
     },
     "e0a23b319bcf450b9ac4590f2f05629e": {
      "model_module": "bqplot",
      "model_module_version": "^0.3.6",
      "model_name": "LinearScaleModel",
      "state": {
       "allow_padding": false,
       "max": 1,
       "min": 0,
       "stabilized": false
      }
     },
     "ee6333e8bd3e4dca9e60e3757dc158f4": {
      "model_module": "bqplot",
      "model_module_version": "^0.3.6",
      "model_name": "LinearScaleModel",
      "state": {
       "allow_padding": false,
       "max": 1,
       "min": 0,
       "stabilized": false
      }
     }
    },
    "version_major": 2,
    "version_minor": 0
   }
  }
 },
 "nbformat": 4,
 "nbformat_minor": 2
}
