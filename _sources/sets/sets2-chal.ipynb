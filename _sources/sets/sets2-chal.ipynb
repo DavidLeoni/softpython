{
 "cells": [
  {
   "cell_type": "markdown",
   "id": "worst-going",
   "metadata": {},
   "source": [
    "# Sets 2 - Challenges\n",
    "\n",
    "## [Scarica zip esercizi](../_static/generated/sets.zip)\n",
    "\n",
    "[Naviga file online](https://github.com/DavidLeoni/softpython-it/sets)"
   ]
  },
  {
   "cell_type": "markdown",
   "id": "impossible-cambodia",
   "metadata": {},
   "source": [
    "Proponiamo ora degli esercizi senza soluzione, accetti la sfida? "
   ]
  },
  {
   "cell_type": "markdown",
   "id": "emotional-devices",
   "metadata": {},
   "source": [
    "## Sfida - Festone di laurea\n",
    "\n",
    "✪ Requisiti: insiemi\n",
    "\n",
    " \n",
    "Evviva! Ci siamo laureati! E per coincidenza ci siamo riusciti nella stessa sessione dei nostri \n",
    "grandi amici Gianni e Giulia. Ora naturalmente stiamo cercando di organizzare una festa e ci piacerebbe \n",
    "farla tutti insieme. \n",
    "\n",
    "Purtroppo però a causa delle norme Covid non possiamo fare assembramento e \n",
    "sono perciò vietate i raduni con più di **13** persone.\n",
    "\n",
    "Siccome ora siamo dottori, l'idea è quella di risolvere il problema con un bel programmino Python. Abbiamo tre liste di invitati e siccome noi festeggiati siamo tutti amici ci sono ovviamente persone che verrebbero invitate più volte.\n",
    "\n",
    "1. Trova il numero di invitati effettivi (le persone che verranno alla festa)\n",
    "2. Stampa la lista di nomi SENZA duplicati\n",
    "3. Trova il numero delle persone che hanno ricevuto **almeno** 2 inviti\n",
    "4. Trova l'elenco delle persone che hanno ricevuto **almeno** 2 inviti\n",
    "\n",
    "\n",
    "Esempio - dati:\n",
    "\n",
    "```python\n",
    "invitati_miei =   [\"VittorioG\", \"LucaB\", \"DavidL\", \"GiorgioC\", \"MichelaF\", \"GiuliaA\", \"VittorioG\", ]\n",
    "invitati_gianni = [\"SamanthaV\", \"LucaB\", \"GiorgioC\", \"MichelaF\", \"MartaB\", \"EmmaK\"]\n",
    "invitati_giulia = [\"DavidL\", \"GiorgioC\", \"MichelaF\", \"MassimilianoL\", \"VittorioG\", \"RobertoU\", \"EmmaK\"]\n",
    "```\n",
    "\n",
    "\n",
    "dopo il tuo codice, deve stampare:\n",
    "\n",
    "```\n",
    "Invitati miei:  6\n",
    "Invitati gianni:  6\n",
    "Invitati giulia:  7\n",
    "Numero invitati:  11\n",
    "Nomi invitati:  {'MassimilianoL', 'MartaB', 'MichelaF', 'EmmaK', 'GiorgioC', 'DavidL', 'VittorioG', 'SamanthaV', 'RobertoU', 'LucaB', 'GiuliaA'}\n",
    "Numero amici invitati almeno 2 volte: 6\n",
    "Amici invitati almeno due volte:  {'GiorgioC', 'DavidL', 'MichelaF', 'VittorioG', 'LucaB', 'EmmaK'}\n",
    "```\n"
   ]
  },
  {
   "cell_type": "code",
   "execution_count": 1,
   "id": "imperial-connectivity",
   "metadata": {},
   "outputs": [],
   "source": [
    "\n",
    "\n",
    "# Input (NON modificare)\n",
    "\n",
    "invitati_miei =   [\"VittorioG\", \"LucaB\", \"DavidL\", \"GiorgioC\", \"MichelaF\", \"GiuliaA\", \"VittorioG\", ]\n",
    "invitati_gianni = [\"SamanthaV\", \"LucaB\", \"GiorgioC\", \"MichelaF\", \"MartaB\", \"EmmaK\"]\n",
    "invitati_giulia = [\"DavidL\", \"GiorgioC\", \"MichelaF\", \"MassimilianoL\", \"VittorioG\", \"RobertoU\", \"EmmaK\"]\n",
    "\n",
    "# scrivi qui\n",
    "\n"
   ]
  },
  {
   "cell_type": "markdown",
   "id": "charged-roulette",
   "metadata": {},
   "source": [
    "## Sfida - Nuovi Mercati\n",
    "\n",
    "✪✪ Requisiti: insiemi, liste, for\n",
    "\n",
    "Abbiamo qualche milione da investire nell'apertura di una nuova attività commerciale.\n",
    "Prima di tutto però ci serve sapere quali negozi non sono disponibili a Trento in maniera da evitare\n",
    "di aprire l'ennesimo negozio di abbigliamento casual (E rischiare di andare in perdita!)\n",
    " \n",
    "INPUT:\n",
    "\n",
    "- `categorie`: insieme di tutte le categorie possibile\n",
    "- `competitor`: lista di competitor con dati `(nome_competitor, insieme_categorie_merci)`\n",
    "\n",
    "Scrivi del codice che\n",
    "\n",
    "1. Stampa le categorie che non sono vendute da nessun competitor\n",
    "2. Calcola **per ogni categoria**, da quanti competitor è venduta\n",
    "\n",
    "Esempio - dati:\n",
    "    \n",
    "```python    \n",
    "categorie = {a, b, c, d, e, f}\n",
    "competitor = [(\"pippo\", {a, c, e}), (\"pluto\", {c, d, e})]\n",
    "```\n",
    "\n",
    "il tuo codice deve stampare:\n",
    "\n",
    "```\n",
    "\"Le categorie disponibili sono: {b, f}\"\n",
    "```   \n",
    "\n",
    "```\n",
    "Categorie vendute da competitor:\n",
    "\n",
    "[(a, 1), (b, 0), (c, 2), (d, 1), (e, 2), (f,0)]\n",
    "```"
   ]
  },
  {
   "cell_type": "code",
   "execution_count": 2,
   "id": "ranking-acrylic",
   "metadata": {},
   "outputs": [],
   "source": [
    "\n",
    "# INPUT (NON modificare)\n",
    "categorie = {\"Ferramenta\", \"Ortofrutta\", \"Abbigliamento sportivo\", \"Gioielleria\", \"Cosmetici\", \"Pesce\", \"Alcolici\", \"Forniture Elettriche\", \"Telefonia\"}\n",
    "competitor = [\n",
    "        (\"GenerStore\", {\"Ortofrutta\", \"Abbigliamento sportivo\", \"Gioielleria\", \"Pesce\", \"Alcolici\"}),\n",
    "        (\"MomentiElettrizzanti\", {\"Abbigliamento sportivo\", \"Videogames\", \"Gioielleria\", \"Alcolici\", \"Forniture Elettriche\"}),\n",
    "        (\"TuttoEDiPiù\", {\"Videogames\", \"Gioielleria\", \"Pesce\", \"Alcolici\", \"Forniture Elettriche\"}),\n",
    "        (\"ProfumoDiBuono\", {\"Pesce\", \"Alcolici\", \"Forniture Elettriche\"}),\n",
    "        (\"PessimeCombo\", {\"Alcolici\", \"Telefonia\"}),\n",
    "]\n",
    "\n",
    "# scrivi qui\n",
    "\n"
   ]
  },
  {
   "cell_type": "code",
   "execution_count": 4,
   "id": "spectacular-mexican",
   "metadata": {
    "nbsphinx": "hidden"
   },
   "outputs": [],
   "source": []
  },
  {
   "cell_type": "code",
   "execution_count": null,
   "id": "differential-register",
   "metadata": {},
   "outputs": [],
   "source": []
  }
 ],
 "metadata": {
  "kernelspec": {
   "display_name": "Python 3",
   "language": "python",
   "name": "python3"
  },
  "language_info": {
   "codemirror_mode": {
    "name": "ipython",
    "version": 3
   },
   "file_extension": ".py",
   "mimetype": "text/x-python",
   "name": "python",
   "nbconvert_exporter": "python",
   "pygments_lexer": "ipython3",
   "version": "3.7.10"
  },
  "toc": {
   "base_numbering": 1,
   "nav_menu": {},
   "number_sections": false,
   "sideBar": true,
   "skip_h1_title": false,
   "title_cell": "Table of Contents",
   "title_sidebar": "Contents",
   "toc_cell": false,
   "toc_position": {},
   "toc_section_display": true,
   "toc_window_display": true
  }
 },
 "nbformat": 4,
 "nbformat_minor": 5
}
