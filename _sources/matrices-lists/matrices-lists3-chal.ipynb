{
 "cells": [
  {
   "cell_type": "code",
   "execution_count": 1,
   "metadata": {
    "nbsphinx": "hidden"
   },
   "outputs": [],
   "source": [
    "#######   ATTENZIONE: ESEGUI QUESTA CELLA CON Control+Invio   #############\n",
    "import sys;\n",
    "sys.path.append('../'); \n",
    "import jupman;"
   ]
  },
  {
   "cell_type": "markdown",
   "metadata": {},
   "source": [
    "# Matrici - Liste di liste 3 - Challenges\n",
    "\n",
    "## [Scarica zip esercizi](../_static/generated/matrices-lists.zip)\n",
    "\n",
    "[Naviga file online](https://github.com/DavidLeoni/softpython-it/tree/master/matrices-lists)"
   ]
  },
  {
   "cell_type": "markdown",
   "metadata": {},
   "source": [
    "## Sfida - Precariato a Murabasso\n",
    "\n",
    "\n",
    "Siamo nel 2020 e per Pier Giorgio della Cinta di Murabasso il lavoro fisso è ormai un miraggio. Ogni mese si giostra tra vari lavoretti e, siccome è una persona poco ordinata, tiene un registro di tutti i lavoretti part time ed occasionali che svolge per portare a casa la pagnotta.  \n",
    "\n",
    "Il problema del disordine è infatti che usa liste, ma il povero Pier Giorgio non sa che esistono strutture molto più comode! Una volta risolto potresti guardare la sfida simile [Precariato ad Altomuro](https://it.softpython.org/dictionaries/dictionaries6-chal.html#Sfida---Precariato-ad-Altomuro) che usa invece liste di dizionari.\n",
    "\n",
    "Questi dati sono salvati un una lista di liste, in cui ogni elemento è così composto:\n",
    "   \n",
    "```python\n",
    "[Etichetta, Ammontare, Stato_pagamento]\n",
    "```\n",
    "\n",
    "Si sta avvicinando il momento di compilare la dichiarazione dei redditi e Pier Giorgio avrebbe bisogno di sapere quanti soldi ha incassato finora e quanti se ne deve ancora aspettare. In più gli piacerebbe sapere quale è stato il lavoro più redditizio dell'anno (GIA' PAGATO)\n",
    "\n",
    "1. Calcolare il totale già ricevuto e il totale da ricevere ancora\n",
    "2. Trovare il lavoro GIA' PAGATO più redditizio\n",
    "\n",
    "Esempio - dati:"
   ]
  },
  {
   "cell_type": "code",
   "execution_count": 2,
   "metadata": {},
   "outputs": [],
   "source": [
    "lavori = [\n",
    "           [\"Pettinatura pitoni\", 1000, \"pagato\"],\n",
    "           [\"Straordinari in fonderia\", 175.13, \"non pagato\"],\n",
    "]"
   ]
  },
  {
   "cell_type": "markdown",
   "metadata": {},
   "source": [
    "STAMPA:\n",
    "\n",
    "```\n",
    "1. Totale ricevuto: 1000\n",
    "   Totale da ricevere: 175.13\n",
    "\n",
    "2. Il lavoro più pagato finora è: Pettinatura pitoni\n",
    "```"
   ]
  },
  {
   "cell_type": "code",
   "execution_count": 3,
   "metadata": {},
   "outputs": [
    {
     "name": "stdout",
     "output_type": "stream",
     "text": [
      "1.  Totale ricevuto:  1500\n",
      "    Totale da ricevere:  1150\n",
      "2.  Il lavoro più pagato finora è:  Vendita zafferano\n"
     ]
    }
   ],
   "source": [
    "\n",
    "lavori = [\n",
    "    [\"Ripetizioni statistica\", 300, \"pagato\"],\n",
    "    [\"Part time gelateria\", 450, \"non pagato\"],\n",
    "    [\"Rendita investimenti\", 500, \"pagato\"],\n",
    "    [\"Installazione artistica\", 600, \"non pagato\"],\n",
    "    [\"Vendita zafferano\", 700, \"pagato\"],\n",
    "    [\"Noleggio scarpe eleganti\", 100, \"non pagato\"]\n",
    "]\n",
    "\n",
    "\n",
    "# scrivi qui\n",
    "\n"
   ]
  },
  {
   "cell_type": "code",
   "execution_count": 8,
   "metadata": {
    "nbsphinx": "hidden"
   },
   "outputs": [],
   "source": []
  },
  {
   "cell_type": "code",
   "execution_count": 11,
   "metadata": {
    "nbsphinx": "hidden"
   },
   "outputs": [],
   "source": []
  }
 ],
 "metadata": {
  "celltoolbar": "Edit Metadata",
  "kernelspec": {
   "display_name": "Python 3",
   "language": "python",
   "name": "python3"
  },
  "language_info": {
   "codemirror_mode": {
    "name": "ipython",
    "version": 3
   },
   "file_extension": ".py",
   "mimetype": "text/x-python",
   "name": "python",
   "nbconvert_exporter": "python",
   "pygments_lexer": "ipython3",
   "version": "3.7.10"
  },
  "toc": {
   "base_numbering": 1,
   "nav_menu": {},
   "number_sections": false,
   "sideBar": true,
   "skip_h1_title": false,
   "title_cell": "Table of Contents",
   "title_sidebar": "Contents",
   "toc_cell": false,
   "toc_position": {
    "height": "calc(100% - 180px)",
    "left": "10px",
    "top": "150px",
    "width": "287px"
   },
   "toc_section_display": true,
   "toc_window_display": true
  }
 },
 "nbformat": 4,
 "nbformat_minor": 2
}
