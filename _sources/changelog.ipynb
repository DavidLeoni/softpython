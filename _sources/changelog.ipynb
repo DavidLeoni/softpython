{
 "cells": [
  {
   "cell_type": "markdown",
   "metadata": {},
   "source": [
    "\n",
    "# Revisioni\n",
    "\n",
    "SoftPython: Guida introduttiva alla pulizia e analisi dati con Python 3\n",
    "\n",
    "[it.softpython.org](https://it.softpython.org)\n",
    "\n",
    "<div class=\"alert alert-warning\">\n",
    "\n",
    "**ATTENZIONE**: le ultime news sono pubblicate in [cima alla pagina di descrizione del corso](index.ipynb) <br/>\n",
    "\n",
    "</div>\n"
   ]
  },
  {
   "cell_type": "markdown",
   "metadata": {},
   "source": [
    "## Ottobre 2020 - 5.0 - Sezione Fondamenti\n",
    "\n",
    "4 Giugno 2020:\n",
    "\n",
    "* Aggiornato e diviso controllo di flusso in [Condizionali if else](control-flow/flow1-if-sol.ipynb), [Cicli for](control-flow/flow2-for-sol.ipynb), [Cicli while](control-flow/flow3-while-sol.ipynb), \n",
    "* Aggiunto [Sequenze e comprehensions](sequences/sequences-sol.ipynb)\n",
    "\n",
    "11 Maggio 2020: Aggiornato dizionari e diviso tutorial in [dizionari 1](dictionaries/dictionaries1-sol.ipynb), [dizionari 2](dictionaries/dictionaries2-sol.ipynb), [dizionari 3](dictionaries/dictionaries3-sol.ipynb), [dizionari 4](dictionaries/dictionaries4-sol.ipynb), [dizionari 5](dictionaries/dictionaries5-sol.ipynb)\n",
    "\n",
    "19 Aprile 2020: Aggiornato [tutorial tuple](tuples/tuples-sol.ipynb), aggiunto [tutorial insiemi](sets/sets-sol.ipynb)\n",
    "\n",
    "13 Aprile 2020: Aggiornato liste e diviso tutorial in [liste 1](lists/lists1-sol.ipynb),  [liste 2](lists/lists2-sol.ipynb),   [liste 3](lists/lists3-sol.ipynb) e  [liste 4](lists/lists4-sol.ipynb)\n",
    "\n",
    "\n",
    "13 Marzo 2020: Diviso tutorial stringhe in [stringhe 1](strings/strings1-sol.ipynb),  [stringhe 2](strings/strings2-sol.ipynb),   [stringhe 3](strings/strings3-sol.ipynb) e  [stringhe 4](strings/strings4-sol.ipynb)\n",
    "\n",
    "11 Marzo 2020: Diviso sito in sezioni\n",
    "   \n",
    "- aggiornato [tutorial basi](basics/basics-sol.ipynb)\n",
    "- aggiornato [tutorial stringhe](strings/strings1-sol.ipynb)\n",
    "\n",
    "16 Gennaio 2020: semplificato la struttura delle cartelle negli esercizi\n",
    "\n",
    "- rinominati i file:\n",
    "    - da `FILE_exercise.ipynb` a `FILE.ipynb`\n",
    "    - da `FILE_solution.ipynb` a `FILE_sol.ipynb`\n",
    "- rimossa la cartella `exercises` dagli zip    \n"
   ]
  },
  {
   "cell_type": "markdown",
   "metadata": {},
   "source": [
    "## Gennaio 2020 - 4.0 - Semplificato la struttura delle cartelle negli esercizi\n",
    "\n",
    "- rinominati i file:\n",
    "    - da `FILE_exercise.ipynb` a `FILE.ipynb`\n",
    "    - da `FILE_solution.ipynb` a `FILE_sol.ipynb`\n",
    "- rimossa la cartella `exercises` dagli zip    "
   ]
  },
  {
   "cell_type": "markdown",
   "metadata": {},
   "source": [
    "## Settembre 2019 - Challenges ICTDays Summercamp \n",
    "\n",
    "7 settembre 2019: \n",
    "\n",
    "- espanso esempio [mia-webapp](interactive/interactive-sol.ipynb#Esempio-mia-webapp) per simulare sito multipagina\n",
    "- aggiunto esempio su [mappe interattive](interactive/interactive-sol.ipynb#Mappe) \n",
    "\n",
    "6 settembre 2019:\n",
    "\n",
    "- aggiunto tutorial in-progress su [computer vision e anonimizzazione facce](computer-vision/computer-vision-sol.ipynb)\n",
    "- aggiunto tutorial per [creare un chatbot in Applicazioni interattive](interactive/interactive-sol.ipynb#Chatbot)\n",
    "- aggiunto tutorial per [creare una webapp in Applicazioni interattive](interactive/interactive-sol.ipynb#Webapp)\n",
    "\n",
    "5 settembre 2019: pubblicate [challenges 2019](challenges/2019-challenges.ipynb)"
   ]
  },
  {
   "cell_type": "markdown",
   "metadata": {},
   "source": [
    "## Settembre 2019 - esercizi integrativi\n",
    "\n",
    "4 settembre 2019: aggiunti parecchi [esercizi integrativi](https://it.softpython.org/toc.html#esercizi-integrativi) su basi python, diviso matrici in [matrici liste di liste](matrices-list-of-lists/list-of-lists-sol.ipynb) e [matrici numpy](exercises/matrices-numpy/numpy-solution.ipynb)\n",
    "\n",
    "5 luglio 2019: aggiunti altri [esercizi integrativi](https://it.softpython.org/toc.html#esercizi-integrativi) su basi python\n",
    "\n",
    "14 maggio 2019: aggiunti esercizi integrativi su basi python - gestione errori, testing, funzioni, stringhe, liste, dizionari, matrici)\n",
    "\n",
    "\n",
    "\n",
    "## 19 Settembre 2018 - 3.0\n",
    "\n",
    "- aggiunto materiale per ICTDays Summercamp 2018 challenge\n",
    "- molti cambiamenti per la pubblicazione\n",
    "- adattato versione a Python\n",
    "\n",
    "3 settembre 2018: sito aggiornato per ICT Days Summercamp Challenge - [vedi challenges](challenges.ipynb)\n",
    "\n",
    "\n",
    "## 30 Agosto 2018 - 0.3\n",
    "\n",
    "- portato a Jupman 0.9\n",
    "- implementato stripping in celle Markdown con \"**RISPOSTA**\"\n",
    "- portato data-formats al nuovo formato\n",
    "\n",
    "\n",
    "## 20 agosto 2018 - archiviati i vecchi seminari AA 2017/18\n",
    "\n",
    "* per vederli, andare all'indirizzo: [it.softpython.org/it/2017-18](https://it.softpython.org/it/2017-18) "
   ]
  },
  {
   "cell_type": "markdown",
   "metadata": {},
   "source": [
    "## Marzo 2018 - 0.2\n",
    "\n",
    "- fine seconda edizione corso SoftPython\n",
    "\n",
    "**16 febbraio 2018, SCORRIMENTO GRADUATORIA EDIZIONE FEBBRAIO 2018**\n",
    "\n",
    "* [SCARICA SCORRIMENTO GRADUATORIA](_static/administrative/2018/DR87_dd16.02.2018_Scorrimento_Graduatoria_Introduzione alla programmazione.pdf)  \n",
    "* Per altre info [vedere Iscrizioni](#Iscrizioni)\n",
    "\n",
    "**Le/i candidati/e ammessi/e devono inviare email di conferma sull'intenzione di frequentare  l'insegnamento all'indirizzo** [supportostudentipovo@unitn.it](mailto:supportostudentipovo@unitn.it)  **entro le  ore 12:00 di  lunedì 19 febbraio. Si ricorda che l'insegnamento sarà tenuto in italiano, è quindi necessaria una buona padronanza della lingua.**\n",
    "\n",
    "\n",
    "**14 febbraio 2018, GRADUATORIA EDIZIONE FEBBRAIO 2018**\n",
    "\n",
    "* [SCARICA GRADUATORIA](_static/administrative/2018/DR68_dd13.02.2018_Graduatoria_Introduzione alla programmazione.pdf)  \n",
    "* [SCARICA TABELLA CREDITI RICONOSCIUTI](_static/administrative/2018/DR20_dd.19.01.2018_All.2_Bando di ammissione _Introduzione alla programmazione_II edizione.pdf)\n",
    "* Per altre info [vedere Iscrizioni](#Iscrizioni)\n",
    "\n",
    "**22 Gennaio 2018, APERTE ISCRIZIONI EDIZIONE FEBBRAIO/MARZO 2018**\n",
    "\n",
    "**La Graduatoria sarà pubblicata Mercoledì 14 Febbraio.**\n",
    "\n",
    "* Vedere [Iscrizioni](#Iscrizioni)"
   ]
  },
  {
   "cell_type": "markdown",
   "metadata": {},
   "source": [
    "## Dicembre 2017 - 0.1\n",
    "\n",
    "- fine prima edizione seminario SoftPython\n",
    "\n",
    "\n",
    "**26 dicembre 2017, AGGIORNATE MODALITA' CONSEGNA PROGETTO**\n",
    "\n",
    "* Sono state pubblicati tempi e modalità per la consegna del progetto\n",
    "\n",
    "**4 dicembre 2017, APERTO QUESTIONARIO GRADIMENTO**\n",
    "\n",
    "* Si invitano gli studenti frequentanti a riempire [questo questionario](https://docs.google.com/forms/d/e/1FAIpQLScaADMBtD2evT_NMo1lhCunj3q5QhnMgfTuiQaD1SaPsY0vmQ/viewform). Il questionario è completamente anonimo e consiste di una sola domanda, i propri commenti. \n",
    "\n",
    "\n",
    "\n",
    "**2 novembre 2017, SCORRIMENTO GRADUATORIA AUTUNNO 2017**\n",
    "\n",
    "Le/i candidati/e ammessi/e devono inviare email di conferma sull'intenzione di frequentare\n",
    "l'insegnamento all'indirizzo **supportostudentipovo@unitn.it** entro le ore **12:00** di **lunedì 6 novembre.**\n",
    "Si ricorda che l'insegnamento sarà tenuto in italiano, è quindi necessaria una buona padronanza della lingua.\n",
    "\n",
    "* [Scarica scorrimento graduatoria](_static/administrative/2017/2017-11-02_Scorrimento_Graduatoria_Introduzione alla programmazione.pdf)  \n",
    "\n",
    "\n",
    "**31 ottobre 2017, GRADUATORIA EDIZIONE AUTUNNO 2017**\n",
    "\n",
    "Le/i candidati/e ammessi/e devono inviare email di conferma sull'intenzione di frequentare  l'insegnamento all'indirizzo **supportostudentipovo@unitn.it**  entro le  ore **12:00** di  **giovedì 2 novembre**. Si ricorda che l'insegnamento sarà tenuto in italiano, è quindi necessaria una buona padronanza della lingua.\n",
    "\n",
    "* [Scarica graduatoria](_static/administrative/2017/DR613_30.10.2017_All.1_Graduatoria_Introduzione alla programmazione.pdf)  \n",
    "* [Scarica tabella crediti riconosciuti](_static/administrative/2017/http://localhost:8888/files/softpython/prj/_static/administrative/2017/riconoscimento-introduzione-alla-programmazione.pdf)\n"
   ]
  },
  {
   "cell_type": "code",
   "execution_count": null,
   "metadata": {},
   "outputs": [],
   "source": []
  }
 ],
 "metadata": {
  "kernelspec": {
   "display_name": "Python 3",
   "language": "python",
   "name": "python3"
  },
  "language_info": {
   "codemirror_mode": {
    "name": "ipython",
    "version": 3
   },
   "file_extension": ".py",
   "mimetype": "text/x-python",
   "name": "python",
   "nbconvert_exporter": "python",
   "pygments_lexer": "ipython3",
   "version": "3.7.9"
  },
  "toc": {
   "base_numbering": 1,
   "nav_menu": {},
   "number_sections": false,
   "sideBar": true,
   "skip_h1_title": false,
   "title_cell": "Table of Contents",
   "title_sidebar": "Contents",
   "toc_cell": false,
   "toc_position": {},
   "toc_section_display": true,
   "toc_window_display": false
  }
 },
 "nbformat": 4,
 "nbformat_minor": 2
}
