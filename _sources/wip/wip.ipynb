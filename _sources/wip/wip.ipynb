{
 "cells": [
  {
   "cell_type": "markdown",
   "metadata": {
    "deletable": true,
    "editable": true
   },
   "source": [
    "# Work In Progress\n",
    "\n",
    "<br/>\n",
    "<div class=\"alert alert-warning\">\n",
    "\n",
    "**Attenzione: Ignorate questa pagina**<br/>\n",
    "</div>\n",
    "\n",
    "- [Pensare in Python, Capitolo 5, Istruzioni condizionali e ricorsione](https://davidleoni.github.io/ThinkPythonItalian/html/thinkpython2006.html)\n",
    "- [Pensare in Python, Capitolo 6, Funzioni produttive](https://davidleoni.github.io/ThinkPythonItalian/html/thinkpython2007.html) NOTA: il nome 'funzioni produttive' adottato nel testo è piuttosto strano, in italiano è più chiaro dire 'funzioni che ritornano un valore'\n",
    "- [Pensare in Python, Capitolo 7, Iterazione](https://davidleoni.github.io/ThinkPythonItalian/html/thinkpython2008.html)\n",
    "- [Pensare in Python, Capitolo 8, Stringhe](https://davidleoni.github.io/ThinkPythonItalian/html/thinkpython2009.html)\n"
   ]
  }
 ],
 "metadata": {
  "kernelspec": {
   "display_name": "Python 3",
   "language": "python",
   "name": "python3"
  },
  "language_info": {
   "codemirror_mode": {
    "name": "ipython",
    "version": 3
   },
   "file_extension": ".py",
   "mimetype": "text/x-python",
   "name": "python",
   "nbconvert_exporter": "python",
   "pygments_lexer": "ipython3",
   "version": "3.5.2"
  }
 },
 "nbformat": 4,
 "nbformat_minor": 2
}
