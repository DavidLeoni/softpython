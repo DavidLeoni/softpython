{
 "cells": [
  {
   "cell_type": "markdown",
   "id": "worst-going",
   "metadata": {},
   "source": [
    "# Controllo di flusso 4 Challenges -\n",
    "\n",
    "## [Scarica zip esercizi](../_static/generated/control-flow.zip)\n",
    "\n",
    "[Naviga file online](https://github.com/DavidLeoni/softpython-it/tree/master/control-flow)"
   ]
  },
  {
   "cell_type": "markdown",
   "id": "impossible-cambodia",
   "metadata": {},
   "source": [
    "Proponiamo ora degli esercizi senza soluzione, accetti la sfida? "
   ]
  },
  {
   "cell_type": "markdown",
   "id": "identified-entry",
   "metadata": {},
   "source": [
    "## Sfida - Alla corte di re Artù\n",
    "\n",
    "✪ Alla corte di re Artu' ci sono tantissimi veri cavalieri. Lancillotto, Rinaldo, etc... \n",
    "E' perfino arrivato Orlando in visita da oltremanica.Però non tutti sono convinti del fatto che Ginevra, Merlino e Morgana siano veri cavalieri.\n",
    "\n",
    "Viene ideato un test a cui vengono sottoposti questi tre e in base a se riusciranno nell'impresa\n",
    "verranno dichiarati. Per lo svolgimento del test vengono portati in una parte tranquilla del castello e, ognuno in una stanza diversa, dovrà rispondere alla domanda:\n",
    " \n",
    "> Un vero cavaliere protegge i deboli e gli oppressi? \n",
    "\n",
    "Noi siamo stati incaricati di correre nella sala del banchetto dove Artu' passeggia nervoso e di \n",
    "comunicare l'esito del test. \n",
    "\n",
    "Scrivi del codice che:\n",
    "\n",
    "- SE TUTTI e tre hanno passato il test stampa `\"Sono tutti veri cavalieri\"`\n",
    "- SE ALMENO uno di loro ha passato il test, stampa `\"C'è almeno un vero cavaliere\"`\n",
    "- SE invece NESSUNO di loro ha passato il test, stampa `\"Non c'è nessun vero cavaliere\"`)"
   ]
  },
  {
   "cell_type": "code",
   "execution_count": 1,
   "id": "manufactured-buffalo",
   "metadata": {},
   "outputs": [
    {
     "name": "stdout",
     "output_type": "stream",
     "text": [
      "Non c'è nessun vero cavaliere\n"
     ]
    }
   ],
   "source": [
    "# Assegnazioni di esempio (NON MODIFICARE!)\n",
    "# Scommentarne solo una alla volta per provare se funziona la tua soluzione\n",
    "\n",
    "ginevra = False; merlino = False; morgana = False\n",
    "#ginevra = False; merlino = False; morgana = True\n",
    "#ginevra = False; merlino = True; morgana = False\n",
    "#ginevra = False; merlino = True; morgana = True\n",
    "#ginevra = True; merlino = False; morgana = False\n",
    "#ginevra = True; merlino = False; morgana = True\n",
    "#ginevra = True; merlino = True; morgana = False      \n",
    "#ginevra = True; merlino = True; morgana = True\n",
    "\n",
    "\n",
    "\n",
    "# scrivi qui\n",
    "\n"
   ]
  },
  {
   "cell_type": "markdown",
   "id": "clear-rotation",
   "metadata": {},
   "source": [
    "\n",
    "\n"
   ]
  },
  {
   "cell_type": "markdown",
   "id": "afraid-twelve",
   "metadata": {},
   "source": [
    "## Sfida - Ascensore a due piani\n",
    "\n",
    "✪ Requisiti: if annidati\n",
    "\n",
    "Dobbiamo installare l'ascensore in un palazzo di due piani. Esistono il piano `'terra'` e il piano `'rialzato'`.\n",
    "Il nostro compito è quello di programmare la centralina dell'ascensore, affinche mostri sul display al piano dell'utente dove si trova l'ascensore\n",
    "\n",
    "Gli input che abbiamo sono:\n",
    "\n",
    "- `piano_utente`, il piano a cui l'utente ha appena chiamato l'ascensore\n",
    "- `piano_ascensore`, il piano a cui si trova l'ascensore\n",
    "\n",
    "Se l'ascensore si trova allo stesso piano dell'utente si dovranno aprire le \n",
    "porte, e stamperemo sul display l'output `'DING!'` per simulare il suono che farebbe un ascensore che è appena arrivato.\n",
    "\n",
    "L'output della centralina deve essere l'ordine di azioni da effettuare per \n",
    "portare l'ascensore al piano dell'utente."
   ]
  },
  {
   "cell_type": "markdown",
   "id": "small-stroke",
   "metadata": {},
   "source": [
    "Esempio 1 - dati:\n",
    "\n",
    "```python\n",
    "piano_utente = 'terra'; \n",
    "piano_ascensore = 'rialzato'    \n",
    "```\n",
    "\n",
    "stampa:\n",
    "\n",
    "```\n",
    "rialzato\n",
    "terra\n",
    "DING!\n",
    "```\n",
    "\n",
    "perchè l'utente mentre aspetta al piano terra che arrivi l'ascensore vedrà sul display la scritta `rialzato`, poi `terra` e infine sentirà il suono `DING!` (non devi far produrre nessun suono a python, semplicemente stampa la scritta!)"
   ]
  },
  {
   "cell_type": "markdown",
   "id": "binding-treaty",
   "metadata": {},
   "source": [
    "Esempio 2 - dati:\n",
    "\n",
    "```python\n",
    "piano_utente = 'rialzato'\n",
    "piano_ascensore = 'rialzato'\n",
    "```\n",
    "\n",
    "stampa:\n",
    "\n",
    "```\n",
    "DING!\n",
    "```  \n",
    "\n",
    "perchè l'ascensore è allo stesso piano dell'utente e produce direttamente il suono per invitare l'utente ad entrare nell'ascensore."
   ]
  },
  {
   "cell_type": "code",
   "execution_count": 2,
   "id": "atmospheric-polymer",
   "metadata": {},
   "outputs": [],
   "source": [
    "\n",
    "piano_utente = 'terra'; piano_ascensore = 'rialzato'     # rialzato, terra, DING!\n",
    "#piano_utente = 'rialzato'; piano_ascensore = 'terra'    # terra, rialzato, DING!\n",
    "#piano_utente = 'terra'; piano_ascensore = 'terra'       # DING!\n",
    "#piano_utente = 'rialzato'; piano_ascensore = 'rialzato' # DING!\n",
    "\n",
    "# scrivi qui\n",
    "\n"
   ]
  },
  {
   "cell_type": "code",
   "execution_count": 3,
   "id": "recent-immigration",
   "metadata": {},
   "outputs": [
    {
     "data": {
      "text/plain": [
       "[8, 7, 6, 5, 4, 3]"
      ]
     },
     "execution_count": 3,
     "metadata": {},
     "output_type": "execute_result"
    }
   ],
   "source": [
    "list(range(8,2,-1))"
   ]
  },
  {
   "cell_type": "markdown",
   "id": "suited-coupon",
   "metadata": {},
   "source": [
    "## Sfida - ascensore a 10 piani\n",
    "\n",
    "✪✪ Requisiti: if annidati, cicli for\n",
    "\n",
    "Questa sfida è come la precedente, ma in questo caso le posizioni dell'ascensore e dell'utente sono memorizzate come interi da `0` a `10`. \n",
    "\n",
    "Esempio - dati:\n",
    "\n",
    "```python\n",
    "piano_utente = 3; piano_ascensore = 7\n",
    "```\n",
    "\n",
    "STAMPA:\n",
    "\n",
    "```python    \n",
    "7\n",
    "6\n",
    "5\n",
    "4\n",
    "3\n",
    "DING!\n",
    "```"
   ]
  },
  {
   "cell_type": "code",
   "execution_count": 4,
   "id": "dental-knitting",
   "metadata": {},
   "outputs": [],
   "source": [
    "\n",
    "piano_utente = 3; piano_ascensore = 7    # 7,6,5,4,3,DING!\n",
    "#piano_utente = 5; piano_ascensore = 0   # 0,1,2,3,4,5,DING!\n",
    "#piano_utente = 3; piano_ascensore = 3   # DING!\n",
    "#piano_utente = 4; piano_ascensore = 6   # 6,5,4,DING!\n",
    "#piano_utente = 6; piano_ascensore = 4   # 4,5,6,DING!\n",
    "\n",
    "# scrivi qui\n",
    "\n"
   ]
  },
  {
   "cell_type": "markdown",
   "id": "altered-purchase",
   "metadata": {},
   "source": [
    "## Sfida - testo storto\n",
    "\n",
    "✪✪ Requisiti: stringhe, for, if\n",
    "\n",
    "Dato un testo di caratteri con diversa capitalizzazione, metti nella variabile `tradotto` il testo con la capitalizzazione invertita e poi STAMPALO\n",
    "\n",
    "* **SUGGERIMENTO**: per verificare se un carattere è minuscolo, usa il metodo `.islower()`\n",
    "\n",
    "Esempio - dato:\n",
    "    \n",
    "```python    \n",
    "testo = \"CiAo QuEsTo E' uN TeStO sToRto\"\n",
    "```\n",
    "    \n",
    "dopo il tuo codice dovrebbe risultare:\n",
    "    \n",
    "```\n",
    ">>> print(tradotto)\n",
    "cIaO qUeStO e' Un tEsTo StOrTO\n",
    "```"
   ]
  },
  {
   "cell_type": "code",
   "execution_count": 5,
   "id": "asian-wrist",
   "metadata": {},
   "outputs": [],
   "source": [
    "\n",
    "testo = \"CiAo QuEsTo E' uN TeStO sToRto\"\n",
    "tradotto = ''\n",
    "\n",
    "# scrivi qui\n",
    "\n"
   ]
  },
  {
   "cell_type": "markdown",
   "id": "labeled-yukon",
   "metadata": {},
   "source": [
    "## Sfida - Gita scolastica \n",
    "\n",
    "✪✪✪ Requisiti: if, for, range, liste, stringhe\n",
    "\n",
    "Siamo professori nel rinomato liceo della città. E' giunto il periodo dell'anno in cui si devono organizzare le gite scolastiche. Quest'anno avremo l'incredibile opportunità di dormire nelle stanze di un vero castello\n",
    "medioevale! \n",
    "\n",
    "Abbiamo quindi una lista di studenti sia maschi che femmine che parteciperanno alla gita e siccome durerà qualche giorno dobbiamo predisporre le stanze per l'albergo.\n",
    "\n",
    "- per i maschi abbiamo a disposizione stanze da 3 letti.\n",
    "- per le femmine abbiamo stanze da 3 letti\n",
    "\n",
    "Assegneremo le persone nelle stanze in base all'ORDINE ALFABETICO. \n",
    "\n",
    "- i primi 3 maschi andranno nella prima stanza\n",
    "- i maschi dal quarto al sesto andranno nella seconda, etc\n",
    "- le prime 3 femmine, prima stanza\n",
    "- dalla 4 alla 6, seconda stanza, etc\n",
    "\n",
    "**SUGGERIMENTO**: se abbiamo `14` studenti maschi da dividere in stanze da `3` vengono: `4` stanze da `3` più una da `2`. Vale a dire, `14 // 3  = 4` (divisione intera, se non si mettesse `//` verrebbe `4.666666666666667`)\n",
    "\n",
    "Alla fine, l'ultima stanza potrebbe essere incompleta ma ci va bene così.\n",
    "\n",
    "**CONSEGNA:**\n",
    "\n",
    "1.a) Dividere la lista in due NUOVE liste di maschi e femmine\n",
    "\n",
    "1.b) Togliere il prefisso `\"M_\"` e `\"F_\"` dai nomi\n",
    "\n",
    "2) Stampare (**non** serve memorizzare!) le stanze dei maschi\n",
    "\n",
    "3) Stampare (**non** serve memorizzare!) le stanze delle femmine"
   ]
  },
  {
   "cell_type": "markdown",
   "id": "parliamentary-structure",
   "metadata": {},
   "source": [
    "\n",
    "Esempio - dati:"
   ]
  },
  {
   "cell_type": "code",
   "execution_count": 6,
   "id": "official-picking",
   "metadata": {},
   "outputs": [],
   "source": [
    "# Qui abbiamo una classe molto piccola, ma cerchiamo lo stesso di fare le stanze\n",
    "studenti = ['M_Alessandro', 'F_Alessia', 'F_Alice', 'M_Andrea', 'F_Anna', 'F_Arianna',\n",
    "            'F_Aurora', 'F_Beatrice', 'F_Bianca', 'F_Camilla', 'M_Federico', 'M_Francesco']"
   ]
  },
  {
   "cell_type": "markdown",
   "id": "stuck-supervision",
   "metadata": {},
   "source": [
    "Il tuo codice dovrebbe STAMPARE:\n",
    "\n",
    "```    \n",
    "1.a)  maschi = ['M_Alessandro', 'M_Andrea', 'M_Federico', 'M_Francesco']\n",
    "      femmine = ['F_Alessia', 'F_Alice', 'F_Anna', 'F_Arianna', 'F_Aurora', \n",
    "                 'F_Beatrice', 'F_Bianca', 'F_Camilla']\n",
    "      \n",
    "1.b)  maschi = ['Alessandro', 'Andrea', 'Federico', 'Francesco']\n",
    "      femmine = ['Alessia', 'Alice', 'Anna', 'Arianna', 'Aurora', 'Beatrice', \n",
    "                 'Bianca', 'Camilla']\n",
    "\n",
    "2)    Stanza maschi 1: ['Alessandro', 'Andrea', 'Federico']\n",
    "      Stanza maschi 2: ['Francesco']\n",
    "\n",
    "3)    Stanza femmine 1: ['Alessia', 'Alice', 'Anna'] \n",
    "      Stanza femmine 2: ['Arianna', 'Aurora', 'Beatrice']\n",
    "      Stanza femmine 3: ['Bianca', 'Camilla']\n",
    "```        "
   ]
  },
  {
   "cell_type": "code",
   "execution_count": 7,
   "id": "postal-translation",
   "metadata": {
    "scrolled": false
   },
   "outputs": [],
   "source": [
    "\n",
    "studenti = ['M_Alessandro', 'F_Alessia', 'F_Alice', 'M_Andrea', 'F_Anna', 'F_Arianna', 'F_Aurora',\n",
    "            'F_Beatrice', 'F_Bianca', 'F_Camilla', 'F_Chiara', 'M_Federico', 'M_Francesco', 'M_Gabriele', \n",
    "            'F_Gaia', 'F_Ginevra', 'F_Giorgia', 'F_Giulia', 'M_Giuseppe', 'F_Greta', 'M_Leonardo', 'M_Lorenzo',\n",
    "            'F_Ludovica', 'M_Matteo', 'M_Mattia', 'M_Merlino','F_Nicole', 'M_Nicolo', 'F_Noemi', 'M_Riccardo', \n",
    "            'F_Sara', 'F_Sofia', 'M_Tommaso', 'F_Vittoria']\n",
    "\n",
    "# scrivi qui:\n",
    "\n"
   ]
  },
  {
   "cell_type": "markdown",
   "id": "nonprofit-element",
   "metadata": {},
   "source": [
    "## Sfida - Se magna\n",
    "\n",
    "✪✪ Requisiti: `if`, `while`\n",
    "\n",
    "C'è una festa post-esame, e siamo affamati. Bisogna servire dei panini con hamburger. Abbiamo un certo numero di panini e dei burgers, non necessariamente nella stessa quantità. Dovremo servire panini fino a quando o il pane o i burger finiscono. Alla fine avviseremo se sono avanzati ingredienti.\n",
    "\n",
    "Scrivi del codice che STAMPA la procedura\n",
    "\n",
    "Esempio:\n",
    "    \n",
    "```python    \n",
    "burgers,panini = 5, 3\n",
    "```\n",
    "\n",
    "STAMPA:\n",
    "\n",
    "```\n",
    "Servito un panino: 2 panini rimanenti, 4 burger rimanenti\n",
    "Servito un panino: 1 panini rimanenti, 3 burger rimanenti\n",
    "Servito un panino: 0 panini rimanenti, 2 burger rimanenti\n",
    "Avanzano 2 burger\n",
    "```"
   ]
  },
  {
   "cell_type": "code",
   "execution_count": 8,
   "id": "revised-algebra",
   "metadata": {},
   "outputs": [],
   "source": [
    "\n",
    "burgers,panini = 5, 3   # ... avanzeranno 2 burger\n",
    "#burgers,panini = 3,9   # ... avanzeranno 6 panini\n",
    "#burgers,panini = 4,4   # ... alla fine stampa 'credenza vuota'\n",
    "\n",
    "# scrivi qui\n",
    "\n"
   ]
  },
  {
   "cell_type": "markdown",
   "id": "neural-investment",
   "metadata": {},
   "source": [
    "## Sfida - Il Dungeon\n",
    "\n",
    "✪✪✪ Requisiti: while, if, liste\n",
    "\n",
    "Un cavaliere si inoltra in una caverna alla ricerca di oggetti preziosi. Appena trova quello che sta cercando, esulta e torna indietro. \n",
    "\n",
    "Rappresentiamo la `caverna` come una lista di stringhe. L'oggetto da cercare è indicato nella variabile `cerco`. \n",
    "\n",
    "Scrivi del codice che date le voci STAMPA il percorso.\n",
    "\n",
    "- **NON USARE** `break` !!\n",
    "- **NON USARE** il metodo `.find` !!"
   ]
  },
  {
   "cell_type": "markdown",
   "id": "hairy-armenia",
   "metadata": {},
   "source": [
    "Esempio 1 - dati:\n",
    "\n",
    "```python\n",
    "cerco = 'il tesoro'\n",
    "caverna = ['un masso','una trappola','delle spade',\n",
    "           'il tesoro','una ragnatela', 'un boleto delle tombe']\n",
    "\n",
    "```\n",
    "\n",
    "STAMPA:\n",
    "\n",
    "```    \n",
    "Entro\n",
    "Ho trovato un masso\n",
    "Ho trovato una trappola\n",
    "Ho trovato delle spade\n",
    "Che fortuna! Ho trovato il tesoro\n",
    "Torno indietro!\n",
    "Ho trovato delle spade\n",
    "Ho trovato una trappola\n",
    "Ho trovato un masso\n",
    "Esco\n",
    "```"
   ]
  },
  {
   "cell_type": "markdown",
   "id": "sharing-congo",
   "metadata": {},
   "source": [
    "Esempio 2:\n",
    "\n",
    "Una lista può anche *non* contenere l'oggetto cercato, in tal caso bisognerà  mostrare un messaggio apposito:\n",
    "\n",
    "```python    \n",
    "cerco = 'il talismano del potere'\n",
    "caverna = ['una trappola','un boleto delle tombe','una ragnatela']\n",
    "```    \n",
    "\n",
    "STAMPA:\n",
    "\n",
    "```    \n",
    "Entro\n",
    "Ho trovato una trappola\n",
    "Ho trovato un boleto delle tombe\n",
    "Ho trovato una ragnatela\n",
    "Purtroppo non c'è nessun tesoro!\n",
    "Torno indietro!\n",
    "Ho trovato una ragnatela\n",
    "Ho trovato un boleto delle tombe\n",
    "Ho trovato una trappola\n",
    "Esco\n",
    "```"
   ]
  },
  {
   "cell_type": "code",
   "execution_count": 9,
   "id": "special-amazon",
   "metadata": {},
   "outputs": [],
   "source": [
    "\n",
    "cerco = 'il tesoro'\n",
    "caverna = ['un masso','una trappola','delle spade','il tesoro','una ragnatela', 'un boleto delle tombe']\n",
    "\n",
    "cerco = 'il talismano del potere'\n",
    "caverna = ['una trappola','un boleto delle tombe','una ragnatela']\n",
    "\n",
    "# scrivi qui\n",
    "\n"
   ]
  },
  {
   "cell_type": "code",
   "execution_count": 10,
   "id": "nasty-sampling",
   "metadata": {
    "nbsphinx": "hidden"
   },
   "outputs": [],
   "source": []
  }
 ],
 "metadata": {
  "kernelspec": {
   "display_name": "Python 3",
   "language": "python",
   "name": "python3"
  },
  "language_info": {
   "codemirror_mode": {
    "name": "ipython",
    "version": 3
   },
   "file_extension": ".py",
   "mimetype": "text/x-python",
   "name": "python",
   "nbconvert_exporter": "python",
   "pygments_lexer": "ipython3",
   "version": "3.7.10"
  },
  "toc": {
   "base_numbering": 1,
   "nav_menu": {},
   "number_sections": false,
   "sideBar": true,
   "skip_h1_title": false,
   "title_cell": "Table of Contents",
   "title_sidebar": "Contents",
   "toc_cell": false,
   "toc_position": {},
   "toc_section_display": true,
   "toc_window_display": true
  }
 },
 "nbformat": 4,
 "nbformat_minor": 5
}
