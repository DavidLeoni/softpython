{
 "cells": [
  {
   "cell_type": "code",
   "execution_count": 1,
   "metadata": {
    "nbsphinx": "hidden"
   },
   "outputs": [],
   "source": [
    "#Please execute this cell\n",
    "import sys;\n",
    "sys.path.append('../../'); \n",
    "import jupman;\n"
   ]
  },
  {
   "cell_type": "markdown",
   "metadata": {},
   "source": [
    "# Matrici - soluzioni\n",
    "\n",
    "## [Scarica zip esercizi](../../_static/matrices-exercises.zip)\n",
    "\n",
    "[Naviga file online](https://github.com/DavidLeoni/softpython/tree/master/exercises/matrices)\n",
    "\n",
    "<div class=\"alert alert-warning\">\n",
    "\n",
    "**ATTENZIONE**\n",
    "\n",
    "**Questi esercizi sulle matrici sono integrativi a quelli già indicati nel** [Materiale del corso](https://softpython.readthedocs.io/it/latest/intro.html#Materiale-del-corso).\n",
    "\n",
    "**Per capire come svolgerli, leggi prima entrambe i fogli** [Introduzione a Python](https://softpython.readthedocs.io/it/latest/exercises/intro/intro-solution.html) **e**  [Gestione errori e testing](https://softpython.readthedocs.io/it/latest/exercises/errors-and-testing/errors-and-testing-solution.html) \n",
    "\n",
    "</div>\n",
    "\n",
    "\n"
   ]
  },
  {
   "cell_type": "markdown",
   "metadata": {},
   "source": [
    "## Introduzione\n",
    "\n",
    "Ci sono sostanzialmente due modi in Python di rappresentare matrici: come liste di liste, oppure con la libreria esterna [numpy](https://www.numpy.org). La più usata è sicuramente numpy ma noi le tratteremo comunque entrambe. Vediamo il motivo e le principali differenze:\n",
    "\n",
    "Liste di liste:\n",
    "\n",
    "1. native in Python\n",
    "2. non efficienti\n",
    "3. le liste sono pervasive in Python, probabilmente incontrerai matrici espresse come liste di liste in ogni caso\n",
    "4. ti puoi fare un'idea di come costruire una struttura dati annidata\n",
    "5. ti possono servire per comprendere concetti importanti come puntatori alla memoria e copie \n",
    "\n",
    "\n",
    "Numpy: \n",
    "\n",
    "1. non nativamente disponibile in Python\n",
    "2. efficiente\n",
    "3. alla base di parecchie librerie di calcolo scientifico\n",
    "4. la sintassi per accedere agli elementi è lievemente diversa da quella delle liste di liste \n",
    "5. non è nativamente disponibile in Python, è una libreria a parte la cui implementazione non è puro Python,  in alcuni rari casi potrebbe portare problemi di installazione e/o conflitti\n",
    "\n",
    "\n"
   ]
  },
  {
   "cell_type": "markdown",
   "metadata": {},
   "source": [
    "### Che fare\n",
    "\n",
    "- scompatta lo zip in una cartella, dovresti ottenere qualcosa del genere: \n",
    "\n",
    "```\n",
    "\n",
    "-jupman.py\n",
    "-altri file ..\n",
    "-exercises\n",
    "     |- intro\n",
    "         |- matrices-exercise.ipynb\n",
    "         |- matrices-solution.ipynb\n",
    "         |- altri file ..\n",
    "```\n",
    "\n",
    "<div class=\"alert alert-warning\">\n",
    "\n",
    "**ATTENZIONE**: Per essere visualizzato correttamente, il file del notebook DEVE essere nella cartella szippata.\n",
    "</div>\n",
    "\n",
    "- apri il Jupyter Notebook da quella cartella. Due cose dovrebbero aprirsi, prima una console e poi un browser. Il browser dovrebbe mostrare una lista di file: naviga la lista e apri il notebook `exercises/matrices/matrices-exercise.ipynb`\n",
    "- Prosegui leggendo il file degli esercizi, ogni tanto al suo interno troverai delle scritte **DA FARE**, che ti chiederanno di scrivere dei comandi Python nelle celle successive. Gli esercizi sono graduati per difficoltà, da una stellina ✪ a quattro ✪✪✪✪\n",
    "\n",
    "\n",
    "<div class=\"alert alert-warning\">\n",
    "\n",
    "**ATTENZIONE**: Ricordati di eseguire sempre la prima cella dentro il notebook. Contiene delle istruzioni come `import jupman` che dicono a Python quali moduli servono e dove trovarli. Per eseguirla, vedi le seguenti scorciatoie\n",
    "</div>\n",
    "\n",
    "\n",
    "\n",
    "Scorciatoie da tastiera:\n",
    "\n",
    "* Per eseguire il codice Python dentro una cella di Jupyter, premi `Control+Invio`\n",
    "* Per eseguire il codice Python dentro una cella di Jupyter E selezionare la cella seguente, premi `Shift+Invio`\n",
    "* Per eseguire il codice Python dentro una cella di Jupyter E creare una nuova cella subito dopo, premi `Alt+Invio`\n",
    "* Se per caso il Notebook sembra inchiodato, prova a selezionare `Kernel -> Restart`\n",
    "\n"
   ]
  },
  {
   "cell_type": "markdown",
   "metadata": {},
   "source": [
    "## Liste di liste\n",
    "\n",
    "Vediamo queste liste di liste. Per esempio, possiamo considerare la seguente matrice con 3 righe e 2 colonne, in breve una matrice 3x2:"
   ]
  },
  {
   "cell_type": "code",
   "execution_count": 2,
   "metadata": {},
   "outputs": [],
   "source": [
    "m = [\n",
    "        ['a','b'],\n",
    "        ['c','d'],\n",
    "        ['a','e']    \n",
    "    ]"
   ]
  },
  {
   "cell_type": "markdown",
   "metadata": {},
   "source": [
    "Per convenienza, assumiamo come input per le nostre funzioni non ci saranno matrici senza righe, o righe senza colonne. "
   ]
  },
  {
   "cell_type": "markdown",
   "metadata": {},
   "source": [
    "Tornando all'esempio, in pratica abbiamo una grande matrice esterna:\n",
    "\n",
    "```python\n",
    "m = [\n",
    "\n",
    "\n",
    "]\n",
    "```\n",
    "e ciascuno dei suoi elementi è un'altra lista che rappresenta una riga:\n",
    "\n",
    "\n",
    "```python\n",
    "m = [\n",
    "        ['a','b'],\n",
    "        ['c','d'],\n",
    "        ['a','e']\n",
    "    ]\n",
    "```\n",
    "\n",
    "Quindi, per accedere la prima riga`['a','b']`, semplicemente accediamo all'elemento all'indice 0 della lista esterna `m`:"
   ]
  },
  {
   "cell_type": "code",
   "execution_count": 3,
   "metadata": {},
   "outputs": [
    {
     "data": {
      "text/plain": [
       "['a', 'b']"
      ]
     },
     "execution_count": 3,
     "metadata": {},
     "output_type": "execute_result"
    }
   ],
   "source": [
    "m[0]"
   ]
  },
  {
   "cell_type": "markdown",
   "metadata": {},
   "source": [
    "Per accedere alla seconda riga intera `['c','d']`, accediamo all'elemento avete indice 1 della lista esterna `m`:"
   ]
  },
  {
   "cell_type": "code",
   "execution_count": 4,
   "metadata": {},
   "outputs": [
    {
     "data": {
      "text/plain": [
       "['c', 'd']"
      ]
     },
     "execution_count": 4,
     "metadata": {},
     "output_type": "execute_result"
    }
   ],
   "source": [
    "m[1]"
   ]
  },
  {
   "cell_type": "markdown",
   "metadata": {},
   "source": [
    "To access the second whole third row `['c','d']`, we would access the element at index 2 of the external list `m`:"
   ]
  },
  {
   "cell_type": "code",
   "execution_count": 5,
   "metadata": {},
   "outputs": [
    {
     "data": {
      "text/plain": [
       "['a', 'e']"
      ]
     },
     "execution_count": 5,
     "metadata": {},
     "output_type": "execute_result"
    }
   ],
   "source": [
    "m[2]"
   ]
  },
  {
   "cell_type": "markdown",
   "metadata": {},
   "source": [
    "Per accedere al primo elemento `'a'` della prima riga  `['a','b']` aggiungiamo un altro cosiddetto \"subscript operator\" con indice `0`:"
   ]
  },
  {
   "cell_type": "code",
   "execution_count": 6,
   "metadata": {},
   "outputs": [
    {
     "data": {
      "text/plain": [
       "'a'"
      ]
     },
     "execution_count": 6,
     "metadata": {},
     "output_type": "execute_result"
    }
   ],
   "source": [
    "m[0][0]"
   ]
  },
  {
   "cell_type": "markdown",
   "metadata": {},
   "source": [
    "Per accedere il secondo elemento `'b'` della prima riga `['a','b']` usiamo invece indice `1` :"
   ]
  },
  {
   "cell_type": "code",
   "execution_count": 7,
   "metadata": {},
   "outputs": [
    {
     "data": {
      "text/plain": [
       "'b'"
      ]
     },
     "execution_count": 7,
     "metadata": {},
     "output_type": "execute_result"
    }
   ],
   "source": [
    "m[0][1]"
   ]
  },
  {
   "cell_type": "markdown",
   "metadata": {},
   "source": [
    "<div class=\"alert alert-warning\" >\n",
    "\n",
    "**ATTENZIONE**: Quando una matrice è una lista di liste, puoi solo accedere valori con notazione `m[i][j]`, **NON** con `m[i,j]` !!\n",
    "</div>"
   ]
  },
  {
   "cell_type": "code",
   "execution_count": 8,
   "metadata": {},
   "outputs": [],
   "source": [
    "# scrivi qui la notazione sbagliata m[0,0] e guarda che errore ottieni:\n"
   ]
  },
  {
   "cell_type": "markdown",
   "metadata": {},
   "source": [
    "\n",
    "Adesso implmenenta le funzioni seguenti.\n",
    "\n",
    "<div class=\"alert alert-info\">\n",
    "\n",
    "**RICORDA**: se la cella è eseguita e non succede niente, è perchè tutti i test degli assert sono passati ! In questo caso il tuo codice è probabilmente corretto ma attenzione, questo tipo di test non sono mai esaustivi perciò potrebbero comunque esserci errori.\n",
    "</div>\n",
    "\n",
    "<div class=\"alert alert-info\" >\n",
    "\n",
    "**COMANDAMENTO 4: Noi riassegnerai mai parametri di funzione**\n",
    "</div>\n",
    "\n",
    "```python\n",
    "\n",
    "    def myfun(i, s, L, D):\n",
    "\n",
    "        # Non farai mai nessuna di queste assegnazioni, indipendentemente dal tipo del parametro:\n",
    "        i = 666            # tipi base (int, float, ...)\n",
    "        s = \"666\"          # stringhe\n",
    "        L = [666]          # containitori\n",
    "        D = {\"evil\":666}   # dizionari\n",
    "\n",
    "        # Per il solo caso di parametri compositi come liste o dizionari, puoi scrivere cose del genere \n",
    "        # SE E SOLO SE le specifiche della funzioni ti richiedono di modificare gli elementi interni del \n",
    "        # parametro (come per esempio ordinare una lista o cambiare il campo di un dizionario\n",
    "\n",
    "        L[4] = 2             # lista\n",
    "        D[\"my field\"] = 5    # dizionario\n",
    "        C.my_field = 7       # classe\n",
    "```\n",
    "\n",
    "\n",
    "<div class=\"alert alert-info\" >\n",
    "\n",
    "**COMANDAMENTO 7: Userai il comando `return` solo se vedi scritto _return_ nella descrizione della funzione!**\n",
    "</div>\n",
    "\n",
    "Se non c'è nessun `return` nella descrizione della funzione, si intende che la funzione ritorni `None`. In questo caso, non devi nemmeno scrivere `return None`, perchè Python lo farà implicitamente per te.\n",
    "\n"
   ]
  },
  {
   "cell_type": "markdown",
   "metadata": {},
   "source": [
    "### Dimensioni della matrice\n",
    "\n",
    "✪ **EXERCISE**: Per prendere le dimensioni della matrice, possiamo usare normali operazioni su lista. Quali?Puoi assumere che la matrice sia ben formata (tutte le right hanno lunghezza uguale) e almeno una riga e almeno una colonna."
   ]
  },
  {
   "cell_type": "code",
   "execution_count": 9,
   "metadata": {},
   "outputs": [],
   "source": [
    "m = [\n",
    "        ['a','b'],\n",
    "        ['c','d'],\n",
    "        ['a','e']    \n",
    "    ]"
   ]
  },
  {
   "cell_type": "code",
   "execution_count": 10,
   "metadata": {},
   "outputs": [
    {
     "name": "stdout",
     "output_type": "stream",
     "text": [
      "righe\n",
      "3\n",
      "colonne\n",
      "2\n"
     ]
    }
   ],
   "source": [
    "# scrivi qui il codice per stampare righe e colonne\n",
    "\n",
    "# la lista esterna è una lista di righe, perciò per contarle usiamo semplicemente len(m)\n",
    "\n",
    "print(\"righe\")\n",
    "print(len(m))\n",
    "\n",
    "# Se assumiamo che la matrice sia ben formata e ha almeno una riga e una colonna, possiamo controllare direttamente\n",
    "# la lunghezza della prima riga\n",
    "\n",
    "print(\"colonne\")\n",
    "print(len(m[0]))"
   ]
  },
  {
   "cell_type": "markdown",
   "metadata": {},
   "source": [
    "### Come estrarre una riga\n",
    "\n",
    "Una delle prime cose che potresti voler fare è estrarre la riga i-esima. Se stai implmentando una funzione che fa questo, hai in sostanza due scelte:\n",
    "\n",
    "1. ritornare un _puntatore_ alla riga _originale_\n",
    "2. ritornare una _copia_ della riga\n",
    "\n",
    "Dato che copiare consuma memoria, perchè vorresti mai ritornare una copia ? A volte dovresti perchè non sai quale uso verrà fatto della struttura dati. Per esempio, supponi di avere un libro di esercizi che ha spazi vuoti dove scrivere gli esercizi. E' un libro eccellente, e tutti in classe lo vogliono leggere - ma tu sei preoccupato perchè se il libro comincia a cambiare mani qualche studente poco scrupoloso potrebbe scriverci sopra. Per evitare problemi, fai una copia del libro e la distribuisci (tralasciamo considerazioni sulla violazione del copyright :-)\n",
    "\n",
    "#### Estrarre puntatori\n",
    "\n",
    "Prima vediamo cosa succede quando ritorni semplicemente un _puntatore_ alla riga _originale_.\n",
    "\n",
    "**NOTA**: Per convenienza, alla fine della cella mettiamo una chiamata magica a `jupman.pytut()` che mostra l'esecuzione di codice come in Python tutor (per info addizionali su `jupman.pytut()`, [vedere qua TODO](https://datasciprolab.readthedocs.io/en/latest/exercises/introduction/introduction-solution.html#Python-Tutor-inside-Jupyter)). Se esegui tutto il codice in Python tutor, vedrai che alla fine hai due puntatori freccia alla riga `['a','b']`, uno che parte dalla lista `m` e uno dalla variabile `riga`.\n"
   ]
  },
  {
   "cell_type": "code",
   "execution_count": 11,
   "metadata": {},
   "outputs": [
    {
     "data": {
      "text/html": [
       "\n",
       "        <iframe\n",
       "            width=\"900\"\n",
       "            height=\"575\"\n",
       "            src=\"https://pythontutor.com/iframe-embed.html#curInstr=0&code=def+esrigap%28mat%2C+i%29%3A%0A++++%22%22%22+RITORNA+la+riga+i-esima+da+mat%0A++++%22%22%22%0A++++return+mat%5Bi%5D%0A%0A++++%0Am+%3D+%5B%0A++++++%5B%27a%27%2C%27b%27%5D%2C%0A++++++%5B%27c%27%2C%27d%27%5D%2C%0A++++++%5B%27a%27%2C%27e%27%5D%2C++++%0A%5D%0A%0Ariga+%3D+esrigap%28m%2C+0%29%0A%0A%0A&cumulative=false&py=3\"\n",
       "            frameborder=\"0\"\n",
       "            allowfullscreen\n",
       "        ></iframe>\n",
       "        "
      ],
      "text/plain": [
       "<IPython.lib.display.IFrame at 0x7f9db05259b0>"
      ]
     },
     "execution_count": 11,
     "metadata": {},
     "output_type": "execute_result"
    }
   ],
   "source": [
    "def esrigap(mat, i):\n",
    "    \"\"\" RITORNA la riga i-esima da mat\n",
    "    \"\"\"\n",
    "    return mat[i]\n",
    "\n",
    "    \n",
    "m = [\n",
    "      ['a','b'],\n",
    "      ['c','d'],\n",
    "      ['a','e'],    \n",
    "]\n",
    "\n",
    "riga = esrigap(m, 0)\n",
    "\n",
    "\n",
    "jupman.pytut()"
   ]
  },
  {
   "cell_type": "markdown",
   "metadata": {},
   "source": [
    "### Estrai riga con for\n",
    "\n",
    "\n",
    "\n",
    "Vediamo come implementare un versione che ritorna una **copia** della riga."
   ]
  },
  {
   "cell_type": "raw",
   "metadata": {},
   "source": [
    "Potresti essere tentato di scrivere qualcosa del genere: "
   ]
  },
  {
   "cell_type": "code",
   "execution_count": 12,
   "metadata": {},
   "outputs": [
    {
     "data": {
      "text/html": [
       "\n",
       "        <iframe\n",
       "            width=\"900\"\n",
       "            height=\"825\"\n",
       "            src=\"https://pythontutor.com/iframe-embed.html#curInstr=0&code=%23+ATTENZIONE%3A+CODICE+SBAGLIATO%21%21%21%21%0A%23+Sta+aggiungendo+una+LISTA+come+elemento+ad+un%27altra+lista+vuota.+%0A%23+In+altre+parole%2C+sta+includendo+la+riga+%28che+%C3%A8+gi%C3%A0+una+lista%29+in+un%27altra+lista%0A%0Adef+esriga_sbagliata%28mat%2C+i%29%3A%0A++++%22%22%22+RITORNA+la+i-esima+riga+da+mat.+NOTA%3A+la+riga+DEVE+essere+in+una+nuova+lista+%21%0A++++%22%22%22%0A++++%0A++++riga+%3D+%5B%5D%0A++++riga.append%28mat%5Bi%5D%29++%0A++++return+riga%0A%0A%0A%23+Verifichiamo+il+problmea+in+Python+tutor+%21%0A%23+Vedrai+una+freccia+che+va+dalla+riga+fino+alla+lista+di+un+elemento+che+conterr%C3%A0+esattamente+una+freccia+%0A%23+alla+riga+originale%0A++++%0Am+%3D+%5B%0A++++++%5B%27a%27%2C%27b%27%5D%2C%0A++++++%5B%27c%27%2C%27d%27%5D%2C%0A++++++%5B%27a%27%2C%27e%27%5D%2C++++%0A%5D%0A%0Ariga+%3D+esriga_sbagliata%28m%2C0%29%0A%0A&cumulative=false&py=3\"\n",
       "            frameborder=\"0\"\n",
       "            allowfullscreen\n",
       "        ></iframe>\n",
       "        "
      ],
      "text/plain": [
       "<IPython.lib.display.IFrame at 0x7f9db04861d0>"
      ]
     },
     "execution_count": 12,
     "metadata": {},
     "output_type": "execute_result"
    }
   ],
   "source": [
    "# ATTENZIONE: CODICE SBAGLIATO!!!!\n",
    "# Sta aggiungendo una LISTA come elemento ad un'altra lista vuota. \n",
    "# In altre parole, sta includendo la riga (che è già una lista) in un'altra lista\n",
    "\n",
    "def esriga_sbagliata(mat, i):\n",
    "    \"\"\" RITORNA la i-esima riga da mat. NOTA: la riga DEVE essere in una nuova lista !\n",
    "    \"\"\"\n",
    "    \n",
    "    riga = []\n",
    "    riga.append(mat[i])  \n",
    "    return riga\n",
    "\n",
    "\n",
    "# Verifichiamo il problmea in Python tutor !\n",
    "# Vedrai una freccia che va dalla riga fino alla lista di un elemento che conterrà esattamente una freccia \n",
    "# alla riga originale\n",
    "    \n",
    "m = [\n",
    "      ['a','b'],\n",
    "      ['c','d'],\n",
    "      ['a','e'],    \n",
    "]\n",
    "\n",
    "riga = esriga_sbagliata(m,0)\n",
    "\n",
    "jupman.pytut()"
   ]
  },
  {
   "cell_type": "markdown",
   "metadata": {},
   "source": [
    "Puoi costruire una copia in diversi modi, con un `for`, una slice o una list comprehension. Prova ad implementare tutte le versioni, cominciando con il `for` qui. Assicurati di controllare il risultato con Python tutor - per visualizzare Python tutor nell'output di una cella puoi usare il comando speciale `jupman.pytut()` alla fine della cella come abbiamo fatto prima. In Python tutor, dovresti vedere solo _una_ freccia che va dalla riga originale `['a','b']` in `m`, e ci dovrebbe essere _un'altra_ copia `['a','b']` da qualche parte, con la variabile with `riga` che ci punta. "
   ]
  },
  {
   "cell_type": "code",
   "execution_count": 13,
   "metadata": {},
   "outputs": [],
   "source": [
    "def esrigaf(mat, i):\n",
    "    \"\"\" RITORNA la i-esima riga da mat\n",
    "        NOTA: la riga DEVE essere una nuova lista! Per creare una nuova lista usa un ciclo for\n",
    "              che reitera sugli elementi, _non_ gli indici (quindi non usare range) !\n",
    "    \"\"\"\n",
    "    #jupman-raise\n",
    "    riga = []\n",
    "    for x in mat[i]:\n",
    "        riga.append(x) \n",
    "    return riga    \n",
    "    #/jupman-raise\n",
    "    \n",
    "m = [\n",
    "      ['a','b'],\n",
    "      ['c','d'],\n",
    "      ['a','e'],    \n",
    "]\n",
    "\n",
    "assert esrigaf(m, 0) == ['a','b']\n",
    "assert esrigaf(m, 1) == ['c','d']\n",
    "assert esrigaf(m, 2) == ['a','e']\n",
    "\n",
    "# controlla che non abbia cambiato la matrice originale!\n",
    "r = esrigaf(m, 0)\n",
    "r[0] = 'z'\n",
    "assert m[0][0] == 'a'   \n",
    "\n",
    "# togli il commento se vuoi visualizzare l'esecuzione qui (affinchè questo funzioni devi essere online)\n",
    "#jupman.pytut()"
   ]
  },
  {
   "cell_type": "markdown",
   "metadata": {},
   "source": [
    "### Estrai riga con range"
   ]
  },
  {
   "cell_type": "markdown",
   "metadata": {},
   "source": [
    "✪ Adesso prova a iterare su un range di indici di riga. Vediamo velocemente `range(n)`. Forse pensi che debba ritornare una sequenza di interi, da zero a `n - 1`. E' davvero così?"
   ]
  },
  {
   "cell_type": "code",
   "execution_count": 14,
   "metadata": {},
   "outputs": [
    {
     "data": {
      "text/plain": [
       "range(0, 5)"
      ]
     },
     "execution_count": 14,
     "metadata": {},
     "output_type": "execute_result"
    }
   ],
   "source": [
    "range(5)"
   ]
  },
  {
   "cell_type": "markdown",
   "metadata": {},
   "source": [
    "Forse ti aspettavi qualcosa come una lista  `[0,1,2,3,4]`, invece abbiamo scoperto che Python è piuttosto pigro qua: `range(n)` di fatto ritorna un oggetto _iterabile_, non una sequenza reale materializzata in memoria.\n",
    "\n",
    "Per prendere una vera lista di interi, dobbiamo chiedere esplicitamente questo oggetto iterabile che ci da gli oggetti uno per uno. \n",
    "\n",
    "Quando scrivi `for i in range(5)` il ciclo for sta facendo esattamente questo, ad ogni round chiede all'oggetto range di generare un numero nella sequenza. Se vogliamo l'intera sequenza materializzata in memoria, possiamo generarla convertendo il range in un oggetto lista:"
   ]
  },
  {
   "cell_type": "code",
   "execution_count": 15,
   "metadata": {},
   "outputs": [
    {
     "data": {
      "text/plain": [
       "[0, 1, 2, 3, 4]"
      ]
     },
     "execution_count": 15,
     "metadata": {},
     "output_type": "execute_result"
    }
   ],
   "source": [
    "list(range(5))"
   ]
  },
  {
   "cell_type": "markdown",
   "metadata": {},
   "source": [
    "Sii prudente, comunque. A seconda della dimensione della sequenza, questo potrebbe essere pericoloso. \n",
    "Una lista di un miliardo di elementi potrebbe saturare la RAM del tuo computer (i portatili nel 2018 hanno spesso 4 gigabyte di memoria RAM, cioè 4 miliardi di byte)."
   ]
  },
  {
   "cell_type": "markdown",
   "metadata": {},
   "source": [
    "Adesso implementa `esrigar` iterando su un range di indici di riga:"
   ]
  },
  {
   "cell_type": "code",
   "execution_count": 16,
   "metadata": {},
   "outputs": [],
   "source": [
    "def esrigar(mat, i):\n",
    "    \"\"\" RITORNA la i-esima riga da mat.\n",
    "        NOTA: la riga DEVE essere una nuova lista! Per creare una nuova lista usa un ciclo for\n",
    "        \n",
    "    \"\"\"\n",
    "    #jupman-raise\n",
    "    riga = []\n",
    "    for j in range(len(mat[0])):\n",
    "        riga.append(mat[i][j]) \n",
    "    return riga    \n",
    "    #/jupman-raise\n",
    "    \n",
    "m = [\n",
    "      ['a','b'],\n",
    "      ['c','d'],\n",
    "      ['a','e'],    \n",
    "]\n",
    "\n",
    "assert esrigar(m, 0) == ['a','b']\n",
    "assert esrigar(m, 1) == ['c','d']\n",
    "assert esrigar(m, 2) == ['a','e']\n",
    "\n",
    "# controlla che non abbia cambiato la matrice originale!\n",
    "r = esrigar(m, 0)\n",
    "r[0] = 'z'\n",
    "assert m[0][0] == 'a'   \n",
    "\n",
    "# togli il commento se vuoi visualizzare l'esecuzione qui (affinchè questo funzioni devi essere online)\n",
    "#jupman.pytut()"
   ]
  },
  {
   "cell_type": "markdown",
   "metadata": {},
   "source": [
    "### Estrai riga con slice\n",
    "\n",
    "✪ Ricardati che le slice ritornano una _copia_ di una lista? Adesso prova ad usarle."
   ]
  },
  {
   "cell_type": "code",
   "execution_count": 17,
   "metadata": {},
   "outputs": [],
   "source": [
    "def esrigas(mat, i):\n",
    "    \"\"\" RITORNA la i-esima riga da mat\n",
    "        NOTA: la riga DEVE essere una nuova lista!. Per crearla, usa le slice.\n",
    "    \"\"\"\n",
    "    #jupman-raise\n",
    "    return mat[i][:]  # se ometti gli indici di inizio e fine, hai una copia di tutta la lista \n",
    "    #/jupman-raise\n",
    "    \n",
    "m = [\n",
    "      ['a','b'],\n",
    "      ['c','d'],\n",
    "      ['a','e'],    \n",
    "]\n",
    "\n",
    "\n",
    "assert esrigas(m, 0) == ['a','b']\n",
    "assert esrigas(m, 1) == ['c','d']\n",
    "assert esrigas(m, 2) == ['a','e']\n",
    "\n",
    "# Controlla che non abbia cambiato la matrice originale !\n",
    "r = esrigas(m, 0)\n",
    "r[0] = 'z'\n",
    "assert m[0][0] == 'a'   \n",
    "\n",
    "# togli il commento se vuoi visualizzare l'esecuzione qui (affinchè questo funzioni devi essere online)\n",
    "#jupman.pytut()"
   ]
  },
  {
   "cell_type": "markdown",
   "metadata": {},
   "source": [
    "### Estrai riga con list comprehension\n",
    "\n",
    "✪ Adesso prova ad usare le _list comprehension_"
   ]
  },
  {
   "cell_type": "code",
   "execution_count": 18,
   "metadata": {},
   "outputs": [],
   "source": [
    "def esrigac(mat, i):\n",
    "    \"\"\" RITORNA la i-esima riga da mat.\n",
    "        NOTA: la riga DEVE essere in una nuova lista! Per creare una nuova lista usa le list comprehension\n",
    "    \"\"\"\n",
    "    #jupman-raise\n",
    "    return [x for x in mat[i]]\n",
    "    #/jupman-raise\n",
    "    \n",
    "m = [\n",
    "      ['a','b'],\n",
    "      ['c','d'],\n",
    "      ['a','e'],    \n",
    "]\n",
    "\n",
    "\n",
    "assert esrigac(m, 0) == ['a','b']\n",
    "assert esrigac(m, 1) == ['c','d']\n",
    "assert esrigac(m, 2) == ['a','e']\n",
    "\n",
    "# Controlla che non abbia cambiato la matrice originale !\n",
    "r = esrigac(m, 0)\n",
    "r[0] = 'z'\n",
    "assert m[0][0] == 'a'   \n",
    "\n",
    "# togli il commento se vuoi visualizzare l'esecuzione qui (affinchè questo funzioni devi essere online)\n",
    "#jupman.pytut()"
   ]
  },
  {
   "cell_type": "markdown",
   "metadata": {},
   "source": [
    "### Estrai colonna con for\n",
    "\n",
    "✪✪ Adesso possiamo provare ad estrarre una colonna alla posizione j-esima, perciò non abbiamo bisogno di pensare se ritornare un puntatore o una copia "
   ]
  },
  {
   "cell_type": "code",
   "execution_count": 19,
   "metadata": {},
   "outputs": [],
   "source": [
    "def escolf(mat, j):\n",
    "    \"\"\" RITORNA la j-esima colonna da mat. \n",
    "    \n",
    "        - Per crearla, usa un ciclo for\n",
    "    \"\"\"\n",
    "    \n",
    "    #jupman-raise\n",
    "    ret = []\n",
    "    for row in mat: \n",
    "        ret.append(row[j])\n",
    "    return ret\n",
    "    #/jupman-raise\n",
    "\n",
    "m = [\n",
    "      ['a','b'],\n",
    "      ['c','d'],\n",
    "      ['a','e'],    \n",
    "]\n",
    "\n",
    "assert escolf(m, 0) == ['a','c','a']\n",
    "assert escolf(m, 1) == ['b','d','e']\n",
    "\n",
    "# Controlla che la colonna ritornata non modifichi m\n",
    "c = escolf(m,0)\n",
    "c[0] = 'z'\n",
    "assert m[0][0] == 'a'\n",
    "\n",
    "# togli il commento se vuoi visualizzare l'esecuzione qui (affinchè questo funzioni devi essere online)\n",
    "#jupman.pytut()"
   ]
  },
  {
   "cell_type": "markdown",
   "metadata": {},
   "source": [
    "### Estrai colonna con list comprehension\n",
    "\n",
    "Difficoltà: ✪✪"
   ]
  },
  {
   "cell_type": "code",
   "execution_count": 20,
   "metadata": {},
   "outputs": [],
   "source": [
    "def escolc(mat, j):\n",
    "    \"\"\" RITORNA la j-esima colonna da mat. Per crearla, usa una list comprehension  \"\"\"\n",
    "    \n",
    "    #jupman-raise\n",
    "    return [row[j] for row in mat] \n",
    "    #/jupman-raise\n",
    "\n",
    "m = [\n",
    "      ['a','b'],\n",
    "      ['c','d'],\n",
    "      ['a','e'],    \n",
    "]\n",
    "\n",
    "assert escolc(m, 0) == ['a','c','a']\n",
    "assert escolc(m, 1) == ['b','d','e']\n",
    "\n",
    "# Controlla che la colonna ritornata non modifichi m\n",
    "c = escolc(m,0)\n",
    "c[0] = 'z'\n",
    "assert m[0][0] == 'a'\n",
    "\n",
    "# togli il commento se vuoi visualizzare l'esecuzione qui (affinchè questo funzioni devi essere online)\n",
    "#jupman.pytut()"
   ]
  },
  {
   "cell_type": "markdown",
   "metadata": {},
   "source": [
    "### Copia in profondità\n",
    "\n",
    "✪✪ Proviamo a produrre un clone _completo_ della matrice, anche chiamato _deep clone_, creando una copia sia della lista esterna e _anche_ delle liste interne che rappresentano le righe.\n",
    "\n",
    "Potresti essere tentato di scrivere codice del genere:\n"
   ]
  },
  {
   "cell_type": "code",
   "execution_count": 21,
   "metadata": {},
   "outputs": [
    {
     "data": {
      "text/html": [
       "\n",
       "        <iframe\n",
       "            width=\"900\"\n",
       "            height=\"675\"\n",
       "            src=\"https://pythontutor.com/iframe-embed.html#curInstr=0&code=%0A%23+ATTENZIONE%3A+CODICE+SBAGLIATO%3A%0Adef+deep_clone_sbagliato%28mat%29%3A%0A++++%22%22%22+RITORNA+una+NUOVA+lista+di+liste+che+un+DEEP+CLONE++di+mat+%28che+%C3%A8+una+lista+di+liste%29%0A++++++++RETURN+a+NEW+list+of+lists+which+is+a+COMPLETE+DEEP+clone%0A++++++++of+mat+%28which+is+a+list+of+lists%29%0A++++%22%22%22%0A++++return+mat%5B%3A%5D+%23+NON+SUFFICIENTE+%21%0A++++++++++++++++++%23+Questo+%C3%A8+un+clone+SUPERFICIALE+%28SHALLOW%29%2C+sta+solo+copiando+la+lista+_esterna_%0A++++++++++++++++++%23+ma+non+quelle+interne%21%0A%0Am+%3D+%5B%0A++++++++%5B%27a%27%2C%27b%27%5D%2C%0A++++++++%5B%27b%27%2C%27d%27%5D%0A++++%5D+++++++%0A++++++++%0Ares+%3D+deep_clone_sbagliato%28m%29%0A%0A%23+Nota+che+avrai+righe+nella+lista+res++che+vanno+alla+matrice+_originale_.+Non+vogliamo+questo+%21%0A&cumulative=false&py=3\"\n",
       "            frameborder=\"0\"\n",
       "            allowfullscreen\n",
       "        ></iframe>\n",
       "        "
      ],
      "text/plain": [
       "<IPython.lib.display.IFrame at 0x7f9db0486f98>"
      ]
     },
     "execution_count": 21,
     "metadata": {},
     "output_type": "execute_result"
    }
   ],
   "source": [
    "\n",
    "# ATTENZIONE: CODICE SBAGLIATO:\n",
    "def deep_clone_sbagliato(mat):\n",
    "    \"\"\" RITORNA una NUOVA lista di liste che un DEEP CLONE  di mat (che è una lista di liste)\n",
    "        RETURN a NEW list of lists which is a COMPLETE DEEP clone\n",
    "        of mat (which is a list of lists)\n",
    "    \"\"\"\n",
    "    return mat[:] # NON SUFFICIENTE !\n",
    "                  # Questo è un clone SUPERFICIALE (SHALLOW), sta solo copiando la lista _esterna_\n",
    "                  # ma non quelle interne!\n",
    "\n",
    "m = [\n",
    "        ['a','b'],\n",
    "        ['b','d']\n",
    "    ]       \n",
    "        \n",
    "res = deep_clone_sbagliato(m)\n",
    "\n",
    "# Nota che avrai righe nella lista res  che vanno alla matrice _originale_. Non vogliamo questo !\n",
    "jupman.pytut()"
   ]
  },
  {
   "cell_type": "markdown",
   "metadata": {},
   "source": [
    "Nel codice sopra, avrai bisogno di iterare attraverso le righe e _per ciascuna_ riga creare una copia di quella riga.\n"
   ]
  },
  {
   "cell_type": "code",
   "execution_count": 22,
   "metadata": {},
   "outputs": [],
   "source": [
    "\n",
    "def deep_clone(mat):\n",
    "    \"\"\" RITORNA una NUOVA lista che un DEEP CLONE completo di mat (che è una lista di liste)\n",
    "    \n",
    "    \"\"\"\n",
    "    #jupman-raise\n",
    "    \n",
    "    ret = []\n",
    "    for row in mat:\n",
    "        ret.append(row[:])\n",
    "    return ret\n",
    "    #/jupman-raise\n",
    "\n",
    "m = [\n",
    "        ['a','b'],\n",
    "        ['b','d']\n",
    "    ]\n",
    "\n",
    "res = [\n",
    "        ['a','b'],\n",
    "        ['b','d']\n",
    "    ]\n",
    "\n",
    "# verifica la copia\n",
    "c = deep_clone(m)\n",
    "assert c == res\n",
    "\n",
    "# verifica che una copia in profondità (cioè, ha anche creato cloni delle righe !)\n",
    "\n",
    "c[0][0] = 'z'\n",
    "assert m[0][0] == 'a'\n"
   ]
  },
  {
   "cell_type": "markdown",
   "metadata": {},
   "source": [
    "### attacca_sotto\n",
    "\n",
    "Difficulty: ✪✪\n"
   ]
  },
  {
   "cell_type": "code",
   "execution_count": 23,
   "metadata": {},
   "outputs": [],
   "source": [
    "def attacca_sotto(mat1, mat2):\n",
    "    \"\"\"Date le matrici mat1 e mat2 come lista di liste, con mat1 di dimensione u x n e mat2 di dimensione d x n, \n",
    "       RITORNA una NUOVA matrice di dimensione (u+d) x n come lista di liste, attaccando la seconda matrice alla fine\n",
    "       di mat1 \n",
    "       NOTA: per NUOVA matrice intendiamo una matrice con nessun puntatore alle righe originali \n",
    "       (vedi il precedente esercizio deep_clone)    \n",
    "    \"\"\"\n",
    "    #jupman-raise\n",
    "    res = []\n",
    "    for row in mat1:\n",
    "        res.append(row[:])\n",
    "    for row in mat2:\n",
    "        res.append(row[:])\n",
    "    return res\n",
    "    #/jupman-raise\n",
    "    \n",
    "m1 = [\n",
    "        ['a']\n",
    "     ]\n",
    "m2 = [\n",
    "        ['b']\n",
    "     ]\n",
    "assert attacca_sotto(m1, m2) == [\n",
    "                                ['a'],\n",
    "                                ['b']\n",
    "                              ]\n",
    "\n",
    "# controlla che non stiamo dando indietro un deep clone\n",
    "s = attacca_sotto(m1, m2)\n",
    "s[0][0] = 'z'\n",
    "assert m1[0][0] == 'a' \n",
    "\n",
    "m1 = [\n",
    "        ['a','b','c'],\n",
    "        ['d','b','a']\n",
    "     ]\n",
    "m2 = [\n",
    "        ['f','b', 'h'],\n",
    "        ['g','h', 'w']\n",
    "     ]\n",
    "\n",
    "res = [\n",
    "        ['a','b','c'],\n",
    "        ['d','b','a'],\n",
    "        ['f','b','h'],\n",
    "        ['g','h','w']\n",
    "     ]\n",
    "\n",
    "assert attacca_sotto(m1, m2) == res\n",
    "\n"
   ]
  },
  {
   "cell_type": "markdown",
   "metadata": {},
   "source": [
    "### attacca_sopra\n",
    "\n",
    "Difficulty: ✪✪"
   ]
  },
  {
   "cell_type": "code",
   "execution_count": 24,
   "metadata": {},
   "outputs": [
    {
     "ename": "NameError",
     "evalue": "name 'stitch_down' is not defined",
     "output_type": "error",
     "traceback": [
      "\u001b[0;31m---------------------------------------------------------------------------\u001b[0m",
      "\u001b[0;31mNameError\u001b[0m                                 Traceback (most recent call last)",
      "\u001b[0;32m<ipython-input-24-7d01b3210584>\u001b[0m in \u001b[0;36m<module>\u001b[0;34m()\u001b[0m\n\u001b[1;32m     17\u001b[0m         \u001b[0;34m[\u001b[0m\u001b[0;34m'b'\u001b[0m\u001b[0;34m]\u001b[0m\u001b[0;34m\u001b[0m\u001b[0m\n\u001b[1;32m     18\u001b[0m      ]\n\u001b[0;32m---> 19\u001b[0;31m assert attacca_sopra(m1, m2) == [\n\u001b[0m\u001b[1;32m     20\u001b[0m                                 \u001b[0;34m[\u001b[0m\u001b[0;34m'b'\u001b[0m\u001b[0;34m]\u001b[0m\u001b[0;34m,\u001b[0m\u001b[0;34m\u001b[0m\u001b[0m\n\u001b[1;32m     21\u001b[0m                                 \u001b[0;34m[\u001b[0m\u001b[0;34m'a'\u001b[0m\u001b[0;34m]\u001b[0m\u001b[0;34m\u001b[0m\u001b[0m\n",
      "\u001b[0;32m<ipython-input-24-7d01b3210584>\u001b[0m in \u001b[0;36mattacca_sopra\u001b[0;34m(mat1, mat2)\u001b[0m\n\u001b[1;32m      8\u001b[0m     \"\"\"\n\u001b[1;32m      9\u001b[0m     \u001b[0;31m#jupman-raise\u001b[0m\u001b[0;34m\u001b[0m\u001b[0;34m\u001b[0m\u001b[0m\n\u001b[0;32m---> 10\u001b[0;31m     \u001b[0;32mreturn\u001b[0m \u001b[0mstitch_down\u001b[0m\u001b[0;34m(\u001b[0m\u001b[0mmat2\u001b[0m\u001b[0;34m,\u001b[0m \u001b[0mmat1\u001b[0m\u001b[0;34m)\u001b[0m\u001b[0;34m\u001b[0m\u001b[0m\n\u001b[0m\u001b[1;32m     11\u001b[0m     \u001b[0;31m#/jupman-raise\u001b[0m\u001b[0;34m\u001b[0m\u001b[0;34m\u001b[0m\u001b[0m\n\u001b[1;32m     12\u001b[0m \u001b[0;34m\u001b[0m\u001b[0m\n",
      "\u001b[0;31mNameError\u001b[0m: name 'stitch_down' is not defined"
     ]
    }
   ],
   "source": [
    "def attacca_sopra(mat1, mat2):\n",
    "    \"\"\"Date le matrici mat1 e mat2 come lista di liste, con mat1 di dimensione u x n e mat2 di dimensione d x n, \n",
    "       RITORNA una NUOVA matrice di dimensione (u+d) x n come lista di liste, attaccando la prima mat\n",
    "       alla fine di mat2\n",
    "       NOTA: per NUOVA matrice intendiamo una matrice con nessun puntatore alle righe originali (vedi il precedente \n",
    "       esercizio deep_clone)\n",
    "       Per implementare questa funzione, usa una chiamata al metodo stitch_down che hai implementato prima\n",
    "    \"\"\"\n",
    "    #jupman-raise\n",
    "    return stitch_down(mat2, mat1)\n",
    "    #/jupman-raise\n",
    "    \n",
    "m1 = [\n",
    "        ['a']\n",
    "     ]\n",
    "m2 = [\n",
    "        ['b']\n",
    "     ]\n",
    "assert attacca_sopra(m1, m2) == [\n",
    "                                ['b'],\n",
    "                                ['a']\n",
    "                              ]\n",
    "\n",
    "# controlla che stiamo ritornando un deep clone\n",
    "s = stitch_up(m1, m2)\n",
    "s[0][0] = 'z'\n",
    "assert m1[0][0] == 'a'     \n",
    "    \n",
    "m1 = [\n",
    "        ['a','b','c'],\n",
    "        ['d','b','a']\n",
    "     ]\n",
    "m2 = [\n",
    "        ['f','b', 'h'],\n",
    "        ['g','h', 'w']\n",
    "     ]\n",
    "\n",
    "res = [\n",
    "        ['f','b','h'],\n",
    "        ['g','h','w'],\n",
    "        ['a','b','c'],\n",
    "        ['d','b','a']\n",
    "     ]\n",
    "\n",
    "assert attacca_sopra(m1, m2) == res"
   ]
  },
  {
   "cell_type": "markdown",
   "metadata": {},
   "source": [
    "### attacca_dx\n",
    "\n",
    "Difficulty: ✪✪✪"
   ]
  },
  {
   "cell_type": "code",
   "execution_count": 25,
   "metadata": {},
   "outputs": [],
   "source": [
    "\n",
    "def attacca_dx(mat1,mat2):\n",
    "    \"\"\"Date le matrici mat1 e mat2 come lista di liste, con mat1 di dimensione n x l e mat2 di dimensione n x r,\n",
    "       RITORNA una NUOVA matrice di dimensione n x (l + r) come lista di liste, attaccando la seconda mat \n",
    "       alla destra di mat1\n",
    "    \"\"\"\n",
    "    #jupman-raise\n",
    "    ret = []\n",
    "    for i in range(len(mat1)):\n",
    "        row_to_add =  mat1[i][:]\n",
    "        row_to_add.extend(mat2[i])\n",
    "        ret.append(row_to_add)\n",
    "    return ret\n",
    "    #/jupman-raise\n",
    "    \n",
    "\n",
    "m1 = [\n",
    "        ['a','b','c'],\n",
    "        ['d','b','a']\n",
    "     ]\n",
    "m2 = [\n",
    "        ['f','b'],\n",
    "        ['g','h']\n",
    "     ]\n",
    "\n",
    "res = [\n",
    "        ['a','b','c','f','b'],\n",
    "        ['d','b','a','g','h']\n",
    "      ]\n",
    "\n",
    "assert attacca_dx(m1, m2) == res"
   ]
  },
  {
   "cell_type": "markdown",
   "metadata": {},
   "source": [
    "### attacca_sx_mod\n",
    "\n",
    "✪✪✪ Questa volta proviamo a _modificare_ `mat1` sul posto (_in place_), attaccando `mat2` _alla sinistra_ di `mat1`.\n",
    "\n",
    "Perciò questa volta **non** mettere una istruzione `return`.\n",
    "\n",
    "Avrai bisogno di eseguire una inserzione di lista, che può essere problematica. Ci sono molti modi di farlo in Python, uno potrebbe essere usare l'inserzione cosiddetta di 'splice assignment' (che può apparire un po' strana):\n",
    "\n",
    "\n",
    "\n",
    "```python\n",
    "mia_lista[0:0] = lista_da_inserire  \n",
    "```\n",
    "\n",
    "Guarda qui per altre info (in inglese): https://stackoverflow.com/a/10623383"
   ]
  },
  {
   "cell_type": "code",
   "execution_count": 26,
   "metadata": {},
   "outputs": [],
   "source": [
    "def attacca_sx_mod(mat1,mat2):\n",
    "    \"\"\"Date le matrici mat1 e mat1 come lista di liste, con mat1 di dimensioni n x l e mat2 di dimensioni n x r, \n",
    "       MODIFICA mat1 così che diventi di dimensioni n x (l + r), attaccando la seconda mat alla sinistra di mat1\n",
    "           \n",
    "    \"\"\"\n",
    "    #jupman-raise    \n",
    "    for i in range(len(mat1)):\n",
    "        mat1[i][0:0] = mat2[i]\n",
    "    #/jupman-raise\n",
    "    \n",
    "\n",
    "m1 = [\n",
    "        ['a','b','c'],\n",
    "        ['d','b','a']\n",
    "     ]\n",
    "m2 = [\n",
    "        ['f','b'],\n",
    "        ['g','h']\n",
    "     ]\n",
    "\n",
    "res = [\n",
    "        ['f','b','a','b','c'],\n",
    "        ['g','h','d','b','a']\n",
    "     ]\n",
    "\n",
    "attacca_sx_mod(m1, m2) \n",
    "assert m1 == res\n"
   ]
  },
  {
   "cell_type": "markdown",
   "metadata": {},
   "source": [
    "### diag\n",
    "\n",
    "✪✪ `diag` estrae la diagonale di una matrice. Per farlo, `diag` richiede una matrice nxn come input. Per essere sicuri che ci prendiamo effettivamente una matrice nxn, questa volta dovrai validare l'input, cioè controllare che il numero di righe sia uguale al numero di colonne (come al solito assumi che la matrice abbia almeno una riga e almeno una colonna). Se la matrice non è nxn, la funzione dovrebbe fermarsi e lanciare una eccezione. In particolare, dovrebbe lanciare un [ValueError](https://docs.python.org/3/library/exceptions.html#ValueError), che è il modo standard\n",
    "\n",
    "\n",
    "extracts the diagonal of a matrix. To do so,  `diag` requires an nxn matrix as input. To make sure we actually get an nxn matrix, this time you will have to validate the input, that is check if the number of rows is equal to the number of columns (as always we assume the matrix has at least one row and at least one column). If the matrix is not nxn, the function should stop raising an exception. In particular, it shoud raise a [ValueError](https://docs.python.org/3/library/exceptions.html#ValueError), which is the standard Python exception to raise when the expected input is not correct and you can't find any other more specific error.\n",
    "\n",
    "Just for illustrative puroposes, we show here the index numbers `i` and `j` and avoid putting apices around strings:\n",
    "\n",
    "```\n",
    "    \\ j  0,1,2,3  \n",
    "    i \n",
    "       [\n",
    "    0   [a,b,c,d],\n",
    "    1   [e,f,g,h],\n",
    "    2   [p,q,r,s],\n",
    "    3   [t,u,v,z]\n",
    "       ]\n",
    "```\n",
    "\n",
    "Let's see a step by step execution:\n",
    "\n",
    "```\n",
    "                                \\ j  0,1,2,3  \n",
    "                                i \n",
    "                                   [\n",
    " extract from row at i=0  -->   0   [a,b,c,d],        'a' is extracted from  mat[0][0]\n",
    "                                1   [e,f,g,h],\n",
    "                                2   [p,q,r,s],\n",
    "                                3   [t,u,v,z]\n",
    "                                   ]\n",
    "```\n",
    "\n",
    "```\n",
    "                                \\ j  0,1,2,3  \n",
    "                                i \n",
    "                                   [\n",
    "                                0   [a,b,c,d],           \n",
    " extract from row at i=1  -->   1   [e,f,g,h],        'f' is extracted from mat[1][1]\n",
    "                                2   [p,q,r,s], \n",
    "                                3   [t,u,v,z]\n",
    "                                   ]\n",
    "```\n",
    "\n",
    "```\n",
    "                                \\ j  0,1,2,3  \n",
    "                                i \n",
    "                                   [\n",
    "                                0   [a,b,c,d],           \n",
    "                                1   [e,f,g,h],\n",
    " extract from row at i=2  -->   2   [p,q,r,s],        'r' is extracted from mat[2][2]\n",
    "                                3   [t,u,v,z]\n",
    "                                   ]\n",
    "```\n",
    "\n",
    "```\n",
    "                                \\ j  0,1,2,3  \n",
    "                                i \n",
    "                                   [\n",
    "                                0   [a,b,c,d],           \n",
    "                                1   [e,f,g,h],\n",
    "                                2   [p,q,r,s],\n",
    " extract from row at i=3  -->   3   [t,u,v,z]         'z' is extracted from mat[3][3]\n",
    "                                   ]\n",
    "\n",
    "From the above, we notice we need elements from these indeces:\n",
    "\n",
    " i, j\n",
    " 1, 1\n",
    " 2, 2\n",
    " 3, 3\n",
    "\n",
    "```\n",
    "\n",
    "There are two ways to solve this exercise, one is to use a double for (a nested for to be precise) while the other method uses only one for. Try to solve it in both ways. How many steps do you need with double for? and with only one?\n",
    "\n",
    "<div class=\"alert alert-info\">\n",
    "\n",
    "**About perfomances**\n",
    "\n",
    "For the purposes of the first part of the course, performance considerations won't be part of the evaluation. So if all the tests run in a decent time on your laptop (and the code is actually correct!), then the exercise is considered solved, even if there are better algorithmic ways to solve it. Typically in this first part you won't have many performance problems, except when we will deal with 100 mb files - in that cases you will be forced to use the right method otherwise your laptop will just keep keep heating without spitting out results \n",
    "\n",
    "In the second part of the course, we will consider performance indeed, so in that part using a double for would be considered an unacceptable waste.\n",
    "</div>"
   ]
  },
  {
   "cell_type": "code",
   "execution_count": 28,
   "metadata": {},
   "outputs": [],
   "source": [
    "\n",
    "def diag(mat):\n",
    "    \"\"\" Given an nxn matrix mat as a list of lists, RETURN a list which contains the elemets in the diagonal\n",
    "        (top left to bottom right corner). \n",
    "        - if mat is not nxn raise ValueError\n",
    "    \"\"\"\n",
    "    #jupman-raise\n",
    "    if len(mat) != len(mat[0]):\n",
    "        raise ValueError(\"Matrix should be nxn, found instead %s x %s\" % (len(mat), len(mat[0])))\n",
    "    ret = []\n",
    "    for i in range(len(mat)):\n",
    "        ret.append(mat[i][i])\n",
    "    return ret\n",
    "    #/jupman-raise\n",
    "\n",
    "m = [\n",
    "        ['a','b','c'],\n",
    "        ['d','e','f'],\n",
    "        ['g','h','i']\n",
    "     ]\n",
    "\n",
    "assert diag(m) == ['a','e','i']\n",
    "\n",
    "try: \n",
    "    diag([              # 1x2 dimension, not square\n",
    "           ['a','b']   \n",
    "         ])  \n",
    "    raise Exception(\"SHOULD HAVE FAILED !\")  # if diag raises an exception which is ValueError as we expect it to do,\n",
    "                                             # the code should never arrive here\n",
    "except ValueError: # this only catches ValueError. Other types of errors are not catched\n",
    "    \"passed test\"  # In an except clause you always need to put some code. \n",
    "                   # Here we put a placeholder string just to fill in\n",
    "\n"
   ]
  },
  {
   "cell_type": "markdown",
   "metadata": {},
   "source": [
    "### anti_diag\n",
    "\n",
    "✪✪ Before implementing it, be sure to write down understand the required indeces as we did in the example for the [diag](#diag) function."
   ]
  },
  {
   "cell_type": "code",
   "execution_count": 29,
   "metadata": {},
   "outputs": [],
   "source": [
    "def anti_diag(mat):\n",
    "    \"\"\" Given an nxn matrix mat as a list of lists, RETURN a list which contains the elemets in the antidiagonal\n",
    "    (top right to bottom left corner). If mat is not nxn raise ValueError\n",
    "    \"\"\"\n",
    "    #jupman-raise\n",
    "    n = len(mat)\n",
    "    ret = []\n",
    "    for i in range(n):\n",
    "        ret.append(mat[i][n-i-1])\n",
    "    return ret\n",
    "    #/jupman-raise\n",
    "\n",
    "m = [\n",
    "        ['a','b','c'],\n",
    "        ['d','e','f'],\n",
    "        ['g','h','i']\n",
    "     ]\n",
    "\n",
    "assert anti_diag(m) == ['c','e','g']\n",
    "\n",
    "# If you have doubts about the indexes remember to try it in python tutor !\n",
    "# jupman.pytut()"
   ]
  },
  {
   "cell_type": "markdown",
   "metadata": {},
   "source": [
    "### is_utriang\n",
    "\n",
    "✪✪✪ You will now try to iterate only the lower triangular half of a matrix. Let's look at an example:\n"
   ]
  },
  {
   "cell_type": "code",
   "execution_count": 30,
   "metadata": {},
   "outputs": [],
   "source": [
    "m = [\n",
    "        [3,2,5,8],\n",
    "        [0,6,2,3],\n",
    "        [0,0,4,9],\n",
    "        [0,0,0,5]\n",
    "    ]"
   ]
  },
  {
   "cell_type": "markdown",
   "metadata": {},
   "source": [
    "Just for illustrative puroposes, we show here the index numbers `i` and `j`:\n",
    "```\n",
    "    \\ j  0,1,2,3  \n",
    "    i \n",
    "       [\n",
    "    0   [3,2,5,8],\n",
    "    1   [0,6,2,3],\n",
    "    2   [0,0,4,9],\n",
    "    3   [0,7,0,5]\n",
    "       ]\n",
    "```\n",
    "\n",
    "Let's see a step by step execution an a non-upper triangular matrix:\n",
    "\n",
    "```\n",
    "                                \\ j  0,1,2,3  \n",
    "                                i \n",
    "                                   [\n",
    "                                0   [3,2,5,8],\n",
    "start from row at index i=1 ->  1   [0,6,2,3],      Check until column limit j=0 included\n",
    "                                2   [0,0,4,9],\n",
    "                                3   [0,7,0,5]\n",
    "                                   ]\n",
    "```\n",
    "\n",
    "One zero is found, time to check next row.\n",
    "\n",
    "```\n",
    "                                \\ j  0,1,2,3  \n",
    "                                i \n",
    "                                   [\n",
    "                                0   [3,2,5,8],\n",
    "                                1   [0,6,2,3],\n",
    "check row at index i=2    --->  2   [0,0,4,9],      Check until column limit j=1 included\n",
    "                                3   [0,7,0,5]\n",
    "                                   ]\n",
    "```\n",
    "\n",
    "Two zeros are found. Time to check next row.\n",
    "\n",
    "```\n",
    "                                \\ j  0,1,2,3  \n",
    "                                i \n",
    "                                   [\n",
    "                                0   [3,2,5,8],\n",
    "                                1   [0,6,2,3],\n",
    "                                2   [0,0,4,9],\n",
    "check row at index i=3    --->  3   [0,7,0,5]       Check until column limit j=2 included\n",
    "                                   ]                BUT can stop sooner at j=1 because number at j=1\n",
    "                                                    is different from zero. As soon as 7 is found, can return False\n",
    "                                                    In this case the matrix is not upper triangular\n",
    "\n",
    "```\n",
    "\n",
    "When you develop these algorithms, it is fundamental to write down a step by step example like the above to get a clear picture of what is happening. Also, if you write down the indeces correctly, you will easily be able to derive a generalization. To find it, try to further write the found indeces in a table. \n",
    "\n",
    "For example, from above for each row index `i` we can easily find out  which limit index `j` we need to reach for our hunt for zeros:\n",
    "\n",
    "```\n",
    "| i | limit j (included) |            Notes                | \n",
    "|---|--------------------|---------------------------------|\n",
    "| 1 |          0         |  we start from row at index i=1 |\n",
    "| 2 |          1         |                                 |\n",
    "| 3 |          2         |                                 |\n",
    "```\n",
    "\n",
    "From the table, we can see the limit for j can be calculated in terms of the current row index `i` with the simple formula `i - 1`"
   ]
  },
  {
   "cell_type": "markdown",
   "metadata": {},
   "source": [
    "The fact you need to span through rows and columns suggest you need two `for`s, one for rows and one for columns - that is, a _nested for_. \n",
    "\n",
    "* please use ranges of indexes to carry out the task (no `for row in mat` ..)\n",
    "* please use letter `i` as index for rows, `j` as index of columns and in case you need it `n` letter as matrix dimension\n",
    "\n",
    "**HINT 1**: remember you can set range to start from a specific index, like `range(3,7)` will start from 3 and end to 6 _included_ (last 7 is _excluded_!)\n",
    "\n",
    "**HINT 2**: To implement this, it is best looking for numbers _different_ from zero. As soon as you find\n",
    "        one, you can stop the function and return False. Only after _all_ the number checking \n",
    "        is done you can return True.\n",
    "        \n",
    " Finally, be reminded of the following:"
   ]
  },
  {
   "cell_type": "markdown",
   "metadata": {},
   "source": [
    "<div class=\"alert alert-info\" >\n",
    "\n",
    "**COMMANDMENT 9: Whenever you introduce a variable with a for cycle, such variable must be new**\n",
    "</div>"
   ]
  },
  {
   "cell_type": "markdown",
   "metadata": {},
   "source": [
    "If you defined a variable before, you shall not reintroduce it in a `for`, since it is as confusing as reassigning function parameters.\n",
    "\n",
    "So avoid this sins:"
   ]
  },
  {
   "cell_type": "code",
   "execution_count": 31,
   "metadata": {},
   "outputs": [
    {
     "name": "stdout",
     "output_type": "stream",
     "text": [
      "0\n",
      "1\n",
      "2\n"
     ]
    }
   ],
   "source": [
    "i = 7\n",
    "for i in range(3):  # sin, you lose i variable\n",
    "    print(i)"
   ]
  },
  {
   "cell_type": "code",
   "execution_count": 32,
   "metadata": {},
   "outputs": [],
   "source": [
    "def f(i):\n",
    "    for i in range(3): # sin again, you lose i parameter\n",
    "        print(i)"
   ]
  },
  {
   "cell_type": "code",
   "execution_count": 33,
   "metadata": {
    "scrolled": false
   },
   "outputs": [
    {
     "name": "stdout",
     "output_type": "stream",
     "text": [
      "0\n",
      "1\n",
      "2\n",
      "0\n",
      "1\n",
      "2\n"
     ]
    }
   ],
   "source": [
    "for i in range(2):      \n",
    "    for i in  range(3):  # debugging hell, you lose i from outer for\n",
    "        print(i)"
   ]
  },
  {
   "cell_type": "markdown",
   "metadata": {},
   "source": [
    "If you read _all_ the above, start implementing the function:"
   ]
  },
  {
   "cell_type": "code",
   "execution_count": 34,
   "metadata": {},
   "outputs": [],
   "source": [
    "def is_utriang(mat):\n",
    "    \"\"\" Takes a RETURN True if the provided nxn matrix is upper triangular, that is, has all the entries \n",
    "        below the diagonal set to zero. Return False otherwise.\n",
    "    \"\"\"\n",
    "    #jupman-raise\n",
    "    n = len(mat)\n",
    "    m = len(mat[0])\n",
    "    \n",
    "    for i in range(1,n):\n",
    "        for j in range(i): # notice it arrives until i *excluded*, that is, arrives to i - 1 *included*\n",
    "            if mat[i][j] != 0:\n",
    "                return False\n",
    "    return True\n",
    "    #/jupman-raise\n",
    "    \n",
    "assert is_utriang([\n",
    "                    [1]\n",
    "                  ]) == True\n",
    "assert is_utriang([\n",
    "    [3,2,5],\n",
    "    [0,6,2],\n",
    "    [0,0,4]\n",
    "]) == True\n",
    "\n",
    "assert is_utriang([\n",
    "    [3,2,5],\n",
    "    [0,6,2],\n",
    "    [1,0,4]\n",
    "]) == False\n",
    "\n",
    "assert is_utriang([\n",
    "    [3,2,5],\n",
    "    [0,6,2],\n",
    "    [1,1,4]\n",
    "]) == False\n",
    "\n",
    "assert is_utriang([\n",
    "    [3,2,5],\n",
    "    [0,6,2],\n",
    "    [0,1,4]\n",
    "]) == False\n",
    "\n",
    "\n",
    "assert is_utriang([\n",
    "    [3,2,5],\n",
    "    [1,6,2],\n",
    "    [1,0,4]\n",
    "]) == False\n"
   ]
  },
  {
   "cell_type": "markdown",
   "metadata": {},
   "source": [
    "### transpose_1\n",
    "\n",
    "✪✪✪ Transpose a matrix _in-place_. The transpose $M^T$ of a matrix $M$ is defined as "
   ]
  },
  {
   "cell_type": "markdown",
   "metadata": {},
   "source": [
    "$M^T[i][j] = M[j][i]$"
   ]
  },
  {
   "cell_type": "markdown",
   "metadata": {},
   "source": [
    "The definition is simple yet implementation might be tricky. If you're not careful, you could easily end up swapping the values twice and get the same original matrix. To prevent this, iterate only the upper triangular part of the matrix and remember `range` funciton can also have a start index:"
   ]
  },
  {
   "cell_type": "code",
   "execution_count": 35,
   "metadata": {},
   "outputs": [
    {
     "data": {
      "text/plain": [
       "[3, 4, 5, 6]"
      ]
     },
     "execution_count": 35,
     "metadata": {},
     "output_type": "execute_result"
    }
   ],
   "source": [
    "list(range(3,7))"
   ]
  },
  {
   "cell_type": "markdown",
   "metadata": {},
   "source": [
    "Also, make sure you know how to swap just two values by solving first this very simple exercise - also check the result in Python Tutor"
   ]
  },
  {
   "cell_type": "code",
   "execution_count": 36,
   "metadata": {},
   "outputs": [
    {
     "data": {
      "text/html": [
       "\n",
       "        <iframe\n",
       "            width=\"900\"\n",
       "            height=\"425\"\n",
       "            src=\"https://pythontutor.com/iframe-embed.html#curInstr=0&code=x+%3D+3%0Ay+%3D+7%0A%0A%23+write+here+code+for+swapping+x+and+y+%28don%27t+directly+use+the+constants+3+and+7%21%29%0A%0Ak+%3D+x+++%0Ax+%3D+y%0Ay+%3D+k%0A%0A&cumulative=false&py=3\"\n",
       "            frameborder=\"0\"\n",
       "            allowfullscreen\n",
       "        ></iframe>\n",
       "        "
      ],
      "text/plain": [
       "<IPython.lib.display.IFrame at 0x7f9db049a828>"
      ]
     },
     "execution_count": 36,
     "metadata": {},
     "output_type": "execute_result"
    }
   ],
   "source": [
    "x = 3\n",
    "y = 7\n",
    "\n",
    "# write here code for swapping x and y (don't directly use the constants 3 and 7!)\n",
    "\n",
    "k = x   \n",
    "x = y\n",
    "y = k\n",
    "\n",
    "jupman.pytut()"
   ]
  },
  {
   "cell_type": "markdown",
   "metadata": {},
   "source": [
    "Going back to the transpose, for now we will consider only an nxn matrix. To make sure we actually get an nxn matrix, this time you will have to validate the input, that is check if the number of rows is equal to the number of columns (as always we assume the matrix has at least one row and at least one column). If the matrix is not nxn, the function should stop raising an exception. In particular, it shoud raise a [ValueError](https://docs.python.org/3/library/exceptions.html#ValueError), which is the standard Python exception to raise when the expected input is not correct and you can't find any other more specific error.\n"
   ]
  },
  {
   "cell_type": "markdown",
   "metadata": {},
   "source": [
    "<div class=\"alert alert-info\" >\n",
    "\n",
    "**COMMANDMENT 4 (adapted for matrices): You shall never ever reassign function parameters**\n",
    "</div>\n",
    "\n",
    "```python\n",
    "\n",
    "    def myfun(M):\n",
    "\n",
    "        # M is a parameter, so you shall *not* do any of such evil:\n",
    "        \n",
    "        M = [ \n",
    "                [6661,6662],\n",
    "                [6663,6664 ]\n",
    "            ]  \n",
    "\n",
    "\n",
    "        # For the sole case of composite parameters like lists (or lists of lists ..)\n",
    "        # you can write stuff like this IF AND ONLY IF the function specification \n",
    "        # requires you to modify the parameter internal elements (i.e. transposing _in-place_):\n",
    "\n",
    "        M[0][1] =  6663\n",
    "```\n"
   ]
  },
  {
   "cell_type": "markdown",
   "metadata": {},
   "source": [
    "If you read _all_  the above, you can now proceed implementing the `transpose_1` function:"
   ]
  },
  {
   "cell_type": "code",
   "execution_count": 37,
   "metadata": {},
   "outputs": [],
   "source": [
    "def transpose_1(mat):\n",
    "    \"\"\" MODIFIES given nxn matrix mat by transposing it *in-place*. \n",
    "        If the matrix is not nxn, raises a ValueError\n",
    "    \"\"\"\n",
    "    #jupman-raise\n",
    "    if len(mat) != len(mat[0]):\n",
    "        raise ValueError(\"Matrix should be nxn, found instead %s x %s\" % (len(mat), len(mat[0])))\n",
    "    for i in range(len(mat)):\n",
    "        for j in range(i+1,len(mat[i])):\n",
    "            el = m[i][j]\n",
    "            mat[i][j] = m[j][i]\n",
    "            mat[j][i] = el\n",
    "    #/jupman-raise\n",
    "         \n",
    "        \n",
    "# let's try wrong matrix dimensions: \n",
    "\n",
    "try: \n",
    "    transpose_1([\n",
    "                [3,5]\n",
    "              ])\n",
    "    raise Exception(\"SHOULD HAVE FAILED !\")\n",
    "except ValueError:\n",
    "    \"passed test\"\n",
    "            \n",
    "m = [\n",
    "        ['a']\n",
    "    ]\n",
    "\n",
    "transpose_1(m)\n",
    "assert m == [\n",
    "    ['a']\n",
    "]\n",
    "\n",
    "m = [\n",
    "        ['a','b'],\n",
    "        ['c','d']\n",
    "    ]\n",
    "\n",
    "transpose_1(m)\n",
    "assert m == [\n",
    "                ['a','c'],\n",
    "                ['b','d']\n",
    "            ]\n"
   ]
  },
  {
   "cell_type": "markdown",
   "metadata": {},
   "source": [
    "### empty matrix\n",
    "\n",
    "✪✪ There are several ways to create a new empty 3x5 matrix as lists of lists which contains zeros. Try to create one with two nested `for` cycle:"
   ]
  },
  {
   "cell_type": "code",
   "execution_count": 38,
   "metadata": {},
   "outputs": [],
   "source": [
    "def empty_matrix(n, m):\n",
    "    \"\"\"\n",
    "    RETURN a NEW nxm matrix as list of lists filled with zeros. Implement it with a nested for\n",
    "    \"\"\"\n",
    "    #jupman-raise\n",
    "    ret = []\n",
    "    for i in range(n):\n",
    "        row = []\n",
    "        ret.append(row)\n",
    "        for j in range(m):\n",
    "            row.append(0)\n",
    "    return ret\n",
    "    #/jupman-raise\n",
    "\n",
    "assert empty_matrix(1,1) == [\n",
    "    [0]\n",
    "]\n",
    "\n",
    "assert empty_matrix(1,2) == [\n",
    "    [0,0]\n",
    "]\n",
    "\n",
    "assert empty_matrix(2,1) == [\n",
    "    [0],\n",
    "    [0]\n",
    "]\n",
    "\n",
    "assert empty_matrix(2,2) == [\n",
    "    [0,0],\n",
    "    [0,0]\n",
    "]\n",
    "\n",
    "assert empty_matrix(3,3) == [\n",
    "    [0,0,0],\n",
    "    [0,0,0],\n",
    "    [0,0,0]\n",
    "]\n"
   ]
  },
  {
   "cell_type": "markdown",
   "metadata": {},
   "source": [
    "### empty_matrix the elegant way\n"
   ]
  },
  {
   "cell_type": "markdown",
   "metadata": {},
   "source": [
    "To create a new list of 3 elements filled with zeros, you can write like this:"
   ]
  },
  {
   "cell_type": "code",
   "execution_count": 39,
   "metadata": {},
   "outputs": [
    {
     "data": {
      "text/plain": [
       "[0, 0, 0]"
      ]
     },
     "execution_count": 39,
     "metadata": {},
     "output_type": "execute_result"
    }
   ],
   "source": [
    "[0]*3"
   ]
  },
  {
   "cell_type": "markdown",
   "metadata": {},
   "source": [
    "The `*` is kind of multiplying the elements in a list"
   ]
  },
  {
   "cell_type": "markdown",
   "metadata": {},
   "source": [
    "Given the above, to create a 5x3 matrix  filled with zeros, which is a list of seemingly equal lists, you might then be tempted to write like this:"
   ]
  },
  {
   "cell_type": "code",
   "execution_count": 40,
   "metadata": {},
   "outputs": [
    {
     "data": {
      "text/plain": [
       "[[0, 0, 0], [0, 0, 0], [0, 0, 0], [0, 0, 0], [0, 0, 0]]"
      ]
     },
     "execution_count": 40,
     "metadata": {},
     "output_type": "execute_result"
    }
   ],
   "source": [
    "# WRONG\n",
    "[[0]*3]*5"
   ]
  },
  {
   "cell_type": "markdown",
   "metadata": {},
   "source": [
    "Why is that (possibly) wrong? Let's try to inspect it in Python tutor: "
   ]
  },
  {
   "cell_type": "code",
   "execution_count": 41,
   "metadata": {},
   "outputs": [
    {
     "data": {
      "text/html": [
       "\n",
       "        <iframe\n",
       "            width=\"900\"\n",
       "            height=\"225\"\n",
       "            src=\"https://pythontutor.com/iframe-embed.html#curInstr=0&code=bad+%3D+%5B%5B0%5D%2A3%5D%2A5%0A&cumulative=false&py=3\"\n",
       "            frameborder=\"0\"\n",
       "            allowfullscreen\n",
       "        ></iframe>\n",
       "        "
      ],
      "text/plain": [
       "<IPython.lib.display.IFrame at 0x7f9db0491978>"
      ]
     },
     "execution_count": 41,
     "metadata": {},
     "output_type": "execute_result"
    }
   ],
   "source": [
    "bad = [[0]*3]*5\n",
    "jupman.pytut()"
   ]
  },
  {
   "cell_type": "markdown",
   "metadata": {},
   "source": [
    "If you look closely, you will see many arrows pointing to the same list of 3 zeros. This means that if we change one number, we will apparently change 5 of them in the whole column !\n",
    "\n",
    "The right way to create a matrix as list of lists with zeroes is the following:"
   ]
  },
  {
   "cell_type": "code",
   "execution_count": 42,
   "metadata": {},
   "outputs": [
    {
     "data": {
      "text/plain": [
       "[[0, 0, 0], [0, 0, 0], [0, 0, 0], [0, 0, 0], [0, 0, 0]]"
      ]
     },
     "execution_count": 42,
     "metadata": {},
     "output_type": "execute_result"
    }
   ],
   "source": [
    "# CORRECT \n",
    "[[0]*3 for i in range(5)]"
   ]
  },
  {
   "cell_type": "markdown",
   "metadata": {},
   "source": [
    "### transpose_2\n",
    "\n",
    "✪✪ Now let's try to transpose a generic nxm matrix. This time for simplicity we will return a whole new matrix.\n"
   ]
  },
  {
   "cell_type": "code",
   "execution_count": 43,
   "metadata": {},
   "outputs": [],
   "source": [
    "def transpose_2(mat):\n",
    "    \"\"\" RETURN a NEW mxn matrix which is the transpose of the given nxm matrix mat as list of lists.\n",
    "    \"\"\"\n",
    "    #jupman-raise\n",
    "    n = len(mat)\n",
    "    m = len(mat[0])\n",
    "    ret = [[0]*n for i in range(m)]\n",
    "    for i in range(n):\n",
    "        for j in range(m):\n",
    "            ret[j][i] = mat[i][j]\n",
    "    return ret\n",
    "    #/jupman-raise\n",
    "\n",
    "m = [\n",
    "        ['a']\n",
    "    ]\n",
    "\n",
    "t = transpose_2(m)\n",
    "\n",
    "assert  t == [\n",
    "                            ['a']\n",
    "                         ]\n",
    "t[0][0] = 'z'\n",
    "assert m[0][0] == 'a'\n",
    "\n",
    "m = [\n",
    "        ['a','b','c'],\n",
    "        ['d','e','f']\n",
    "    ]\n",
    "\n",
    "assert transpose_2(m) == [\n",
    "                ['a','d'],\n",
    "                ['b','e'],\n",
    "                ['c','f'],    \n",
    "            ]\n"
   ]
  },
  {
   "cell_type": "markdown",
   "metadata": {},
   "source": [
    "### threshold\n",
    "\n",
    "Difficulty: ✪✪"
   ]
  },
  {
   "cell_type": "code",
   "execution_count": 44,
   "metadata": {},
   "outputs": [],
   "source": [
    "def threshold(mat, t):\n",
    "    \"\"\"\n",
    "    Takes a matrix as a list of lists (every list has the same dimension) and RETURN \n",
    "    a NEW matrix as list of lists where there is True if the corresponding input element is \n",
    "    greater than t, otherwise return False\n",
    "\n",
    "    Ingredients:\n",
    "        - a variable for the matrix to return\n",
    "        - for each original row, we need to create a new list\n",
    "    \"\"\"\n",
    "    \n",
    "    #jupman-raise\n",
    "    ret = []\n",
    "    for row in mat:\n",
    "        new_row = []\n",
    "        ret.append(new_row)\n",
    "        for el in row:\n",
    "            new_row.append(el > t)\n",
    "        \n",
    "    return ret\n",
    "    #/jupman-raise\n",
    "\n",
    "morig = [\n",
    "     [1,4,2],\n",
    "     [7,9,3],    \n",
    "]\n",
    "    \n",
    "    \n",
    "m = [\n",
    "     [1,4,2],\n",
    "     [7,9,3],    \n",
    "]\n",
    "\n",
    "s = [\n",
    "    [False,False,False],\n",
    "    [True,True,False],    \n",
    "]\n",
    "assert threshold(m,4) == s\n",
    "assert m == morig   # verify original didn't change\n",
    "\n",
    "\n",
    "m = [\n",
    "     [5,2],\n",
    "     [3,7]\n",
    "]\n",
    "\n",
    "s = [\n",
    "    [True,False],\n",
    "    [False,True]\n",
    "]\n",
    "assert threshold(m,4) == s"
   ]
  },
  {
   "cell_type": "markdown",
   "metadata": {},
   "source": [
    "### swap_rows\n",
    "\n",
    "Difficulty: ✪✪\n"
   ]
  },
  {
   "cell_type": "code",
   "execution_count": 45,
   "metadata": {},
   "outputs": [],
   "source": [
    "def swap_rows(mat, i1, i2):\n",
    "    \"\"\"Takes a matrix as list of lists, and RETURN a NEW matrix where rows at indexes i1 and i2 are swapped\n",
    "    \"\"\"\n",
    "    #jupman-raise\n",
    "    \n",
    "    # deep clones\n",
    "    ret = []\n",
    "    for row in mat:\n",
    "        ret.append(row[:])\n",
    "    #swaps\n",
    "    s = ret[i1]\n",
    "    ret[i1] = ret[i2]\n",
    "    ret[i2] = s\n",
    "    return ret\n",
    "    #/jupman-raise\n",
    "\n",
    "m = [\n",
    "        ['a','d'],\n",
    "        ['b','e'],\n",
    "        ['c','f']    \n",
    "    ]\n",
    "\n",
    "res = swap_rows(m, 0, 2)\n",
    "\n",
    "assert res == [\n",
    "        ['c','f'],    \n",
    "        ['b','e'],\n",
    "        ['a','d']\n",
    "]\n",
    "\n",
    "res[0][0] = 'z'\n",
    "assert m[0][0] == 'a'\n",
    "\n",
    "\n",
    "m = [\n",
    "        ['a','d'],\n",
    "        ['b','e'],\n",
    "        ['c','f']    \n",
    "    ]\n",
    "\n",
    "\n",
    "# swap with itself should in fact generate a deep clone\n",
    "res = swap_rows(m, 0, 0)\n",
    "\n",
    "assert res == [\n",
    "                ['a','d'],\n",
    "                ['b','e'],\n",
    "                ['c','f']     \n",
    "              ]\n",
    "\n",
    "res[0][0] = 'z'\n",
    "assert m[0][0] == 'a'\n"
   ]
  },
  {
   "cell_type": "markdown",
   "metadata": {},
   "source": [
    "### swap_cols\n",
    "\n",
    "Difficulty: ✪✪\n"
   ]
  },
  {
   "cell_type": "code",
   "execution_count": 46,
   "metadata": {},
   "outputs": [],
   "source": [
    "def swap_cols(mat, j1, j2):\n",
    "    \"\"\" RETURN a NEW matrix where the columns j1 and j2 are swapped \"\"\"\n",
    "    \n",
    "    #jupman-raise\n",
    "    ret = []\n",
    "    for row in mat:\n",
    "        new_row = row[:]\n",
    "        new_row[j1] = row[j2]\n",
    "        new_row[j2] = row[j1]\n",
    "        ret.append(new_row)\n",
    "    return ret\n",
    "    #/jupman-raise\n",
    "\n",
    "m = [\n",
    "        ['a','b','c'],\n",
    "        ['d','e','f']\n",
    "    ]\n",
    "\n",
    "res = swap_cols(m, 0,2)\n",
    "\n",
    "assert res == [\n",
    "                  ['c','b','a'],\n",
    "                  ['f','e','d']    \n",
    "              ]\n",
    "\n",
    "res[0][0] = 'z'\n",
    "assert m[0][0] == 'a'\n"
   ]
  },
  {
   "cell_type": "markdown",
   "metadata": {},
   "source": [
    "### matrix multiplication\n",
    "\n",
    "✪✪✪ Have a look at [matrix multiplication definition](https://en.wikipedia.org/w/index.php?title=Matrix_multiplication&section=2#Definition) on Wikipedia and try to implement it in the following function.\n",
    "\n",
    "Basically, gicen nxm matrix A and mxp matrix B you need to output an nxp matrix C calculating the entries $c_{ij}$ with the formula\n",
    "\n",
    "$c_{ij} = a_{i1}b_{1j} +\\cdots + a_{im}b_{mj}= \\sum_{k=1}^m a_{ik}b_{kj}$\n",
    "\n",
    "\n",
    "You need to fill all the  nxp cells of C, so sure enough to fill  a rectangle you need two `for`s. Do you also need another `for` ? Help yourself with the following visualization. \n",
    "\n",
    " \n"
   ]
  },
  {
   "cell_type": "markdown",
   "metadata": {},
   "source": [
    "![](img/mul.png)\n"
   ]
  },
  {
   "cell_type": "code",
   "execution_count": 47,
   "metadata": {},
   "outputs": [],
   "source": [
    "def mul(mat1, mat2):\n",
    "    \"\"\" Given matrices n x m mat1 and m x p mat2, RETURN a NEW n x p matrix which is the result\n",
    "        of the multiplication of mat1 by mat2.\n",
    "        If mat1 has column number different from mat2 row number, raises a ValueError.\n",
    "    \"\"\"\n",
    "    #jupman-raise\n",
    "    n = len(mat1)\n",
    "    m = len(mat1[0])\n",
    "    p = len(mat2[0])\n",
    "    if m != len(mat2):\n",
    "        raise ValueError(\"mat1 column number %s must be equal to mat2 row number %s !\" % (m, len(mat2)))\n",
    "    ret = [[0]*p for i in range(n)]\n",
    "    for i in range(n):\n",
    "        for j in range(p):\n",
    "            ret[i][j] = 0\n",
    "            for k in range(m):\n",
    "                ret[i][j] += mat1[i][k] * mat2[k][j]\n",
    "    return ret\n",
    "    #/jupman-raise\n",
    "\n",
    "# let's try wrong matrix dimensions: \n",
    "\n",
    "try: \n",
    "    mul([[3,5]], [[7]])\n",
    "    raise Exception(\"SHOULD HAVE FAILED!\")\n",
    "except ValueError:\n",
    "    \"passed test\"\n",
    "\n",
    "m1 = [\n",
    "        [3]\n",
    "     ]\n",
    "\n",
    "m2 = [\n",
    "        [5]\n",
    "]\n",
    "\n",
    "\n",
    "res = mul(m1,m2)\n",
    "\n",
    "assert res == [\n",
    "                [15]\n",
    "              ]\n",
    "\n",
    "\n",
    "\n",
    "\n",
    "m1 = [\n",
    "        [3],\n",
    "        [5]\n",
    "     ]\n",
    "\n",
    "m2 = [\n",
    "        [2,6]\n",
    "]\n",
    "\n",
    "\n",
    "res = mul(m1,m2)\n",
    "\n",
    "assert res == [\n",
    "                [3*2, 3*6],\n",
    "                [5*2, 5*6]\n",
    "              ]\n",
    "\n",
    "m1 = [\n",
    "        [3,5]\n",
    "     ]\n",
    "\n",
    "m2 = [\n",
    "        [2],\n",
    "        [6]\n",
    "]\n",
    "\n",
    "\n",
    "res = mul(m1,m2)\n",
    "\n",
    "assert res == [\n",
    "                [3*2 + 5*6]\n",
    "              ]\n",
    "\n",
    "m1 = [\n",
    "        [3,5],\n",
    "        [7,1],\n",
    "        [9,4]\n",
    "     ]\n",
    "\n",
    "m2 = [\n",
    "        [4,1,5,7],\n",
    "        [8,5,2,7]\n",
    "]\n",
    "res = mul(m1,m2)\n",
    "\n",
    "assert res == [\n",
    "                [52, 28, 25, 56],\n",
    "                [36, 12, 37, 56],\n",
    "                [68, 29, 53, 91]\n",
    "              ]\n",
    "\n"
   ]
  },
  {
   "cell_type": "markdown",
   "metadata": {},
   "source": [
    "### check_nqueen\n",
    "\n",
    "✪✪✪✪ This is a hard problem but don't worry, exam exercises will be simpler!\n",
    "\n",
    "You have an nxn matrix of booleans representing a chessboard where True means there is a queen in a cell,and False there is nothing. \n",
    "\n",
    "For the sake of visualization, we can represent a configurations using `o` to mean `False` and letters like 'A'  and 'B' are queens. Contrary to what we've done so far, for later convenience we show the matrix with the `j` going from bottom to top.\n",
    "\n",
    "Let's see an example. In this case A and B can not attack each other, so the algorithm would return `True`:\n",
    "\n",
    "\n",
    "```\n",
    "\n",
    "    7  ......B.\n",
    "    6  ........\n",
    "    5  ........\n",
    "    4  ........\n",
    "    3  ....A...\n",
    "    2  ........\n",
    "    1  ........\n",
    "    0  ........\n",
    "    i \n",
    "     j 01234567  \n",
    "\n",
    "\n",
    "Let's see why by evidencing A attack lines ..\n",
    "\n",
    "    7  \\...|.B.\n",
    "    6  .\\..|../\n",
    "    5  ..\\.|./.\n",
    "    4  ...\\|/..\n",
    "    3  ----A---\n",
    "    2  .../|\\..\n",
    "    1  ../.|.\\.\n",
    "    0  ./..|..\\\n",
    "    i \n",
    "     j 01234567  \n",
    "\n",
    "\n",
    "... and B attack lines: \n",
    "\n",
    "    7  ------B-\n",
    "    6  ...../|\\\n",
    "    5  ..../.|.\n",
    "    4  .../..|.\n",
    "    3  ../.A.|.\n",
    "    2  ./....|.\n",
    "    1  /.....|.\n",
    "    0  ......|.\n",
    "    i \n",
    "     j 01234567  \n",
    "\n",
    "\n",
    "```\n",
    "\n",
    "\n",
    "In this other case the algorithm would return False as `A` and `B` can attack each other:\n",
    "\n",
    "```\n",
    "    \n",
    "    \n",
    "    7  \\./.|...\n",
    "    6  -B--|--/\n",
    "    5  /|\\.|./.\n",
    "    4  .|.\\|/..\n",
    "    3  ----A---\n",
    "    2  .|./|\\..\n",
    "    1  .|/.|.\\.\n",
    "    0  ./..|..\\\n",
    "    i \n",
    "     j 01234567  \n",
    "\n",
    "```\n",
    "\n",
    "In your algorithm, first you need to scan for queens. When you find one (and for each one of them !), you need to check if it can hit some other queen. Let's see how:\n",
    "\n",
    "In this 7x7 table we have only one queen A, with  at position `i=1` and `j=4`\n",
    "\n",
    "```\n",
    "    6  ....|..\n",
    "    5  \\...|..\n",
    "    4  .\\..|..\n",
    "    3  ..\\.|./\n",
    "    2  ...\\|/.\n",
    "    1  ----A--\n",
    "    0  .../|\\.\n",
    "    i  \n",
    "     j 0123456\n",
    "```\n",
    "\n",
    "To completely understand the range of the queen and how to calculate the diagonals, it is convenient to visually extend the table like so to have the diagonals hit the vertical axis. Notice we also added letters `y` and `x` \n",
    "\n",
    "\n",
    "<div class=\"alert alert-warning\">\n",
    "**NOTE**: in the algorithm you **do not** need to extend the matrix !\n",
    "</div>\n",
    "\n",
    "\n",
    "```\n",
    "\n",
    "    y\n",
    "    6  ....|....\n",
    "    5  \\...|.../\n",
    "    4  .\\..|../.\n",
    "    3  ..\\.|./..\n",
    "    2  ...\\|/...\n",
    "    1  ----A----\n",
    "    0  .../|\\...\n",
    "   -1  ../.|.\\..\n",
    "   -2  ./..|..\\.\n",
    "   -3  /...|...\\\n",
    "    i \n",
    "     j 01234567 x \n",
    "\n",
    "\n",
    "```\n",
    "\n",
    "We see that the top-left to bottom-right diagonal hits the vertical axis at `y = 5` and the bottom-left to top-right diagonal hits the axis at `y = -3`. You should use this info to calculate the line equations.\n",
    "\n",
    "Now you should have all the necessary hints to proceed with the implementation."
   ]
  },
  {
   "cell_type": "code",
   "execution_count": 48,
   "metadata": {},
   "outputs": [],
   "source": [
    "\n",
    "def check_nqueen(mat):\n",
    "    \"\"\" Takes an nxn matrix of booleans representing a chessboard where True means there is a queen in a cell,\n",
    "        and False there is nothing. RETURN True if no queen can attack any other one, False otherwise\n",
    "        \n",
    "    \"\"\"\n",
    "    #jupman-raise\n",
    "\n",
    "    # bottom-left to top-right line equation\n",
    "    # y = x - 3 \n",
    "    # -3 = -j + i \n",
    "    # y = x -j + i\n",
    "\n",
    "    # top-left to bottom-right line equation\n",
    "    # y = x + 5\n",
    "    # 5 = j + i\n",
    "    # y = x + j + i \n",
    "    \n",
    "    n = len(mat)\n",
    "    for i in range(n):\n",
    "        for j in range(n):\n",
    "            if mat[i][j]:  # queen is found at i,j\n",
    "                for y in range(n):            # vertical scan\n",
    "                    if y != i and mat[y][j]:\n",
    "                        return False\n",
    "                for x in range(n):            # horizontal scan\n",
    "                    if x != j and mat[i][x]:\n",
    "                        return False\n",
    "                for x in range(n):            \n",
    "                    y = x + j + i       # top-left to bottom-right \n",
    "                    if y >= 0 and y < n and y != i and x != j and mat[y][x]:\n",
    "                        return False\n",
    "                    y = x - j + i       # bottom-left to top-right\n",
    "                    if y >= 0 and y < n and y != i and x != j and mat[y][x]:\n",
    "                        return False\n",
    "                    \n",
    "    return True\n",
    "    #/jupman-raise\n",
    "\n",
    "assert check_nqueen([\n",
    "                        [True]\n",
    "                    ])\n",
    "assert check_nqueen([\n",
    "                        [True, True],\n",
    "                        [False, False]\n",
    "                    ]) == False\n",
    "\n",
    "assert check_nqueen([\n",
    "                        [True, False],\n",
    "                        [False, True]\n",
    "                    ]) == False\n",
    "\n",
    "assert check_nqueen([\n",
    "                        [True, False],\n",
    "                        [True, False]\n",
    "                    ]) == False\n",
    "\n",
    "assert check_nqueen([\n",
    "                        [True,  False, False],\n",
    "                        [False, False, True],\n",
    "                        [False, False, False]\n",
    "                    ]) == True\n",
    "\n",
    "assert check_nqueen([\n",
    "                        [True,  False, False],\n",
    "                        [False, False, False],\n",
    "                        [False, False, True]\n",
    "                    ]) == False\n",
    "\n",
    "\n",
    "assert check_nqueen([\n",
    "                        [False, True,  False],\n",
    "                        [False, False, False],\n",
    "                        [False, False, True]\n",
    "                    ]) == True\n",
    "\n",
    "assert check_nqueen([\n",
    "                        [False, True,  False],\n",
    "                        [False, True, False],\n",
    "                        [False, False, True]\n",
    "                    ]) == False"
   ]
  }
 ],
 "metadata": {
  "celltoolbar": "Edit Metadata",
  "kernelspec": {
   "display_name": "Python 3",
   "language": "python",
   "name": "python3"
  },
  "language_info": {
   "codemirror_mode": {
    "name": "ipython",
    "version": 3
   },
   "file_extension": ".py",
   "mimetype": "text/x-python",
   "name": "python",
   "nbconvert_exporter": "python",
   "pygments_lexer": "ipython3",
   "version": "3.5.2"
  },
  "toc": {
   "base_numbering": 1,
   "nav_menu": {},
   "number_sections": false,
   "sideBar": true,
   "skip_h1_title": false,
   "title_cell": "Table of Contents",
   "title_sidebar": "Contents",
   "toc_cell": false,
   "toc_position": {
    "height": "calc(100% - 180px)",
    "left": "10px",
    "top": "150px",
    "width": "287px"
   },
   "toc_section_display": true,
   "toc_window_display": true
  }
 },
 "nbformat": 4,
 "nbformat_minor": 2
}
