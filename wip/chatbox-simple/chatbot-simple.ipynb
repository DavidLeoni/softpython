{
 "cells": [
  {
   "cell_type": "markdown",
   "metadata": {},
   "source": [
    "## Chatbot\n",
    "\n",
    "Mostriamo un esempio di come costruire una semplice interfaccia stile chatbot con ipywidgets, che continua a proporre widget di input all'utente e relativo output.\n",
    "\n",
    "Per i grafici,  importeremo bqplot plt invece invece di matplotlib, perchè è più pensato per interagire con ipywidgets !\n",
    "\n",
    "Per maggiori dettagli sulle interfacce grafiche in Jupyter, vedere [pagina Applicazioni interattive](https://softpython.readthedocs.io/it/latest/exercises/interactive/interactive-solution.html)"
   ]
  },
  {
   "cell_type": "code",
   "execution_count": 14,
   "metadata": {},
   "outputs": [
    {
     "data": {
      "application/vnd.jupyter.widget-view+json": {
       "model_id": "ed9da46ee14046e8be04120bea3decb0",
       "version_major": 2,
       "version_minor": 0
      },
      "text/plain": [
       "VBox(children=(HTML(value='<h1>Statistiche squadre di calcio</h1>'), Dropdown(description='Team:', options=('S…"
      ]
     },
     "metadata": {},
     "output_type": "display_data"
    }
   ],
   "source": [
    "# import matplotlib.pyplot as plt  # usiamo bqplot \n",
    "from ipywidgets import IntSlider, Label, VBox, HTML\n",
    "import ipywidgets as widgets\n",
    "\n",
    "# NOTA: importiamo bqplot plt invece di matplotlib, perchè è più pensato per \n",
    "#       interagire con ipywidgets !\n",
    "\n",
    "from bqplot import pyplot as plt\n",
    "\n",
    "\n",
    "def aggiorna(change):\n",
    "    if change.new !=\"Select\":\n",
    "        #print(change)\n",
    "        #print(change.new)\n",
    "        NomeSquadra=change.new\n",
    "        \n",
    "        labels = ['Uefa Ranking', 'Last matches', 'Team Value']\n",
    "        y = [2,5,1]\n",
    "\n",
    "        fig = plt.figure()\n",
    "        \n",
    "        xticks = labels\n",
    "\n",
    "        scarto = [50, 30 , 20]\n",
    "        p1 = plt.bar(xticks, scarto, width=0.3 )\n",
    "        \n",
    "        #p2 = plt.bar(xticks,y, color=['b','g','r'], width=0.3, align=\"center\", bottom=p1)\n",
    "        \n",
    "        plt.title(NomeSquadra)                    \n",
    "        \n",
    "        vbox.children = vbox.children + (fig,crea_widget())\n",
    "                \n",
    "\n",
    "def crea_widget():\n",
    "    dropdown = widgets.Dropdown(\n",
    "        options=['Select', \"Germany\",\"Brazil\",\"Portugal\",\"Argentina\",\"Belgium\",\"Spain\",\"Poland\",\"Switzerland\",\"France\",\n",
    "             \"Peru\",\"Denmark\",\"Colombia\",\"England\",\"Mexico\",\"Croatia\",\"Sweden\",\"Uruguay\",\"Iceland\",\"Senegal\",\n",
    "             \"Costa Rica\",\"Tunisia\",\"Egypt\",\"IR Iran\",\"Serbia\",\"Australia\",\"Morocco\",\"Nigeria\",\"Panama\",\"Japan\",\n",
    "             \"Korea Republic\",\"Saudi Arabia\",\"Russia\"],\n",
    "        value='Select',\n",
    "        description='Team:',\n",
    "        disabled=False,\n",
    "    )\n",
    "\n",
    "    dropdown.observe(aggiorna,  names=['value'])\n",
    "    return dropdown\n",
    "\n",
    "vbox = VBox([HTML(\"<h1>Statistiche squadre di calcio</h1>\"),crea_widget()])\n",
    "\n",
    "\n",
    "display(vbox)\n",
    "\n"
   ]
  },
  {
   "cell_type": "code",
   "execution_count": null,
   "metadata": {},
   "outputs": [],
   "source": []
  },
  {
   "cell_type": "code",
   "execution_count": null,
   "metadata": {},
   "outputs": [],
   "source": []
  }
 ],
 "metadata": {
  "kernelspec": {
   "display_name": "Python 3",
   "language": "python",
   "name": "python3"
  },
  "language_info": {
   "codemirror_mode": {
    "name": "ipython",
    "version": 3
   },
   "file_extension": ".py",
   "mimetype": "text/x-python",
   "name": "python",
   "nbconvert_exporter": "python",
   "pygments_lexer": "ipython3",
   "version": "3.7.3"
  },
  "toc": {
   "base_numbering": 1,
   "nav_menu": {},
   "number_sections": false,
   "sideBar": true,
   "skip_h1_title": false,
   "title_cell": "Table of Contents",
   "title_sidebar": "Contents",
   "toc_cell": false,
   "toc_position": {},
   "toc_section_display": true,
   "toc_window_display": false
  },
  "widgets": {
   "application/vnd.jupyter.widget-state+json": {
    "state": {
     "069a1acb11da4aa4920e1c83bf26e819": {
      "model_module": "bqplot",
      "model_module_version": "^0.3.6",
      "model_name": "OrdinalScaleModel",
      "state": {
       "domain": []
      }
     },
     "0aa350e420864b8d80e54bc81b69b3b0": {
      "model_module": "@jupyter-widgets/base",
      "model_module_version": "1.1.0",
      "model_name": "LayoutModel",
      "state": {}
     },
     "0c26b16e899a49799216c6533aab277e": {
      "model_module": "bqplot",
      "model_module_version": "^0.3.6",
      "model_name": "AxisModel",
      "state": {
       "orientation": "vertical",
       "scale": "IPY_MODEL_83776c5eb4a34dcba768081c09ceaa64",
       "side": "left",
       "tick_values": {
        "type": null,
        "values": null
       }
      }
     },
     "0cebd71b24cd4103a2231043d623ae12": {
      "model_module": "@jupyter-widgets/base",
      "model_module_version": "1.1.0",
      "model_name": "LayoutModel",
      "state": {}
     },
     "0d2aa419d22643c8aca4f3bda8e16ba6": {
      "model_module": "bqplot",
      "model_module_version": "^0.3.6",
      "model_name": "BarsModel",
      "state": {
       "color": {
        "type": "<U1",
        "values": [
         "b",
         "g",
         "r"
        ]
       },
       "colors": [
        "steelblue"
       ],
       "display_legend": false,
       "scales": {
        "color": "IPY_MODEL_467d3b260c1c4455a0e0060a71b129cc",
        "x": "IPY_MODEL_62f9f929c9f346d2a00ed4f24bd42d85",
        "y": "IPY_MODEL_c50d756f64114bf3a4a40d8a8eb2e9dd"
       },
       "selected": [],
       "x": {
        "type": "<U12",
        "values": [
         "Uefa Ranking",
         "Last matches",
         "Team Value"
        ]
       },
       "y": {
        "type": "float",
        "values": [
         16.09,
         15,
         6.98
        ]
       }
      }
     },
     "1e17f01547cf47458c42c5589a3a3711": {
      "model_module": "@jupyter-widgets/controls",
      "model_module_version": "1.3.0",
      "model_name": "DescriptionStyleModel",
      "state": {
       "description_width": ""
      }
     },
     "23e2407ec7464be79f2d621ad5ada736": {
      "model_module": "bqplot",
      "model_module_version": "^0.3.6",
      "model_name": "LinearScaleModel",
      "state": {
       "allow_padding": false,
       "max": 1,
       "min": 0,
       "stabilized": false
      }
     },
     "290d007a3bc94569b0c486163ba46962": {
      "model_module": "@jupyter-widgets/base",
      "model_module_version": "1.1.0",
      "model_name": "LayoutModel",
      "state": {
       "min_width": "125px"
      }
     },
     "3a1ca5ab733945be9e6b85869c1a371c": {
      "model_module": "@jupyter-widgets/base",
      "model_module_version": "1.1.0",
      "model_name": "LayoutModel",
      "state": {}
     },
     "402a2d3e12014a66afa53c57604fd6b6": {
      "model_module": "@jupyter-widgets/controls",
      "model_module_version": "1.3.0",
      "model_name": "HTMLModel",
      "state": {
       "layout": "IPY_MODEL_bdd4725103a1452da93ded8d10b37dbe",
       "style": "IPY_MODEL_f31889bbdd1643e2b889006920876193",
       "value": "<br/><br/><br/><br/><br/><br/><br/><br/><br/><br/><br/><br/><br/><br/><br/><br/><br/><br/><br/><br/><br/><br/><br/><br/><br/><br/><br/><br/><br/><br/><h1>Challenge mondiali</h1>"
      }
     },
     "41f1570994664f468b2b3e4949140743": {
      "model_module": "@jupyter-widgets/base",
      "model_module_version": "1.1.0",
      "model_name": "LayoutModel",
      "state": {}
     },
     "467d3b260c1c4455a0e0060a71b129cc": {
      "model_module": "bqplot",
      "model_module_version": "^0.3.6",
      "model_name": "OrdinalScaleModel",
      "state": {
       "_view_name": "OrdinalColorScale",
       "colors": [],
       "domain": [],
       "mid": null,
       "scale_type": "linear",
       "scheme": "RdYlGn"
      }
     },
     "4bbbbaa6c4d34bb0bd411ce2886cd56c": {
      "model_module": "bqplot",
      "model_module_version": "^0.3.6",
      "model_name": "LinearScaleModel",
      "state": {
       "allow_padding": false,
       "max": 1,
       "min": 0,
       "stabilized": false
      }
     },
     "4e84a454cc51487ba6aa28c0f132e149": {
      "model_module": "bqplot",
      "model_module_version": "^0.3.6",
      "model_name": "AxisModel",
      "state": {
       "orientation": "vertical",
       "scale": "IPY_MODEL_c50d756f64114bf3a4a40d8a8eb2e9dd",
       "side": "left",
       "tick_values": {
        "type": null,
        "values": null
       }
      }
     },
     "546787505abe4245a6d61045873735bb": {
      "model_module": "bqplot",
      "model_module_version": "^0.3.6",
      "model_name": "BarsModel",
      "state": {
       "color": {
        "type": "<U1",
        "values": [
         "b",
         "g",
         "r"
        ]
       },
       "colors": [
        "steelblue"
       ],
       "display_legend": false,
       "scales": {
        "color": "IPY_MODEL_833aa35ac34347799ff318673828dfcf",
        "x": "IPY_MODEL_ce8efa7711894cac96a5c8d83b09535f",
        "y": "IPY_MODEL_91023479ee3b4960a47b002a42c1ab83"
       },
       "selected": [],
       "x": {
        "type": "<U12",
        "values": [
         "Uefa Ranking",
         "Last matches",
         "Team Value"
        ]
       },
       "y": {
        "type": "float",
        "values": [
         16.59,
         11.67,
         16.93
        ]
       }
      }
     },
     "5c095f0790ef4d4d8af115721f4ccc86": {
      "model_module": "@jupyter-widgets/base",
      "model_module_version": "1.1.0",
      "model_name": "LayoutModel",
      "state": {
       "min_width": "125px"
      }
     },
     "5eea955df27246eea861942af3b48573": {
      "model_module": "bqplot",
      "model_module_version": "^0.3.6",
      "model_name": "AxisModel",
      "state": {
       "scale": "IPY_MODEL_069a1acb11da4aa4920e1c83bf26e819",
       "side": "bottom",
       "tick_values": {
        "type": null,
        "values": null
       }
      }
     },
     "62f9f929c9f346d2a00ed4f24bd42d85": {
      "model_module": "bqplot",
      "model_module_version": "^0.3.6",
      "model_name": "OrdinalScaleModel",
      "state": {
       "domain": []
      }
     },
     "773c69e074ab4da5961d763300c045c0": {
      "model_module": "bqplot",
      "model_module_version": "^0.3.6",
      "model_name": "BarsModel",
      "state": {
       "color": {
        "type": null,
        "values": null
       },
       "colors": [
        "steelblue"
       ],
       "display_legend": false,
       "scales": {
        "x": "IPY_MODEL_62f9f929c9f346d2a00ed4f24bd42d85",
        "y": "IPY_MODEL_c50d756f64114bf3a4a40d8a8eb2e9dd"
       },
       "selected": [],
       "x": {
        "type": "<U12",
        "values": [
         "Uefa Ranking",
         "Last matches",
         "Team Value"
        ]
       },
       "y": {
        "type": "float",
        "values": [
         50,
         30,
         20
        ]
       }
      }
     },
     "7b059cf2f25045999ed6c427b10498ca": {
      "model_module": "bqplot",
      "model_module_version": "^0.3.6",
      "model_name": "LinearScaleModel",
      "state": {
       "allow_padding": false,
       "max": 1,
       "min": 0,
       "stabilized": false
      }
     },
     "7d74349170164e8e9a037e5d121d7349": {
      "model_module": "@jupyter-widgets/controls",
      "model_module_version": "1.3.0",
      "model_name": "DropdownModel",
      "state": {
       "_options_labels": [
        "Select",
        "Germany",
        "Brazil",
        "Portugal",
        "Argentina",
        "Belgium",
        "Spain",
        "Poland",
        "Switzerland",
        "France",
        "Peru",
        "Denmark",
        "Colombia",
        "England",
        "Mexico",
        "Croatia",
        "Sweden",
        "Uruguay",
        "Iceland",
        "Senegal",
        "Costa Rica",
        "Tunisia",
        "Egypt",
        "IR Iran",
        "Serbia",
        "Australia",
        "Morocco",
        "Nigeria",
        "Panama",
        "Japan",
        "Korea Republic",
        "Saudi Arabia",
        "Russia"
       ],
       "description": "Team:",
       "index": 3,
       "layout": "IPY_MODEL_0cebd71b24cd4103a2231043d623ae12",
       "style": "IPY_MODEL_d28925e1e061482c979c382e2938570e"
      }
     },
     "7d9c8f98a45246a48d752691c5758057": {
      "model_module": "@jupyter-widgets/controls",
      "model_module_version": "1.3.0",
      "model_name": "DropdownModel",
      "state": {
       "_options_labels": [
        "Select",
        "Germany",
        "Brazil",
        "Portugal",
        "Argentina",
        "Belgium",
        "Spain",
        "Poland",
        "Switzerland",
        "France",
        "Peru",
        "Denmark",
        "Colombia",
        "England",
        "Mexico",
        "Croatia",
        "Sweden",
        "Uruguay",
        "Iceland",
        "Senegal",
        "Costa Rica",
        "Tunisia",
        "Egypt",
        "IR Iran",
        "Serbia",
        "Australia",
        "Morocco",
        "Nigeria",
        "Panama",
        "Japan",
        "Korea Republic",
        "Saudi Arabia",
        "Russia"
       ],
       "description": "Team:",
       "index": 11,
       "layout": "IPY_MODEL_afab1bd0cc1e4d91b2392b5ed78036e1",
       "style": "IPY_MODEL_f2550e99b95541febfab7f41144d66c9"
      }
     },
     "7e0659975f6c4fcbb745abb3d3f0339d": {
      "model_module": "@jupyter-widgets/controls",
      "model_module_version": "1.3.0",
      "model_name": "DropdownModel",
      "state": {
       "_options_labels": [
        "Select",
        "Germany",
        "Brazil",
        "Portugal",
        "Argentina",
        "Belgium",
        "Spain",
        "Poland",
        "Switzerland",
        "France",
        "Peru",
        "Denmark",
        "Colombia",
        "England",
        "Mexico",
        "Croatia",
        "Sweden",
        "Uruguay",
        "Iceland",
        "Senegal",
        "Costa Rica",
        "Tunisia",
        "Egypt",
        "IR Iran",
        "Serbia",
        "Australia",
        "Morocco",
        "Nigeria",
        "Panama",
        "Japan",
        "Korea Republic",
        "Saudi Arabia",
        "Russia"
       ],
       "description": "Team:",
       "index": 12,
       "layout": "IPY_MODEL_3a1ca5ab733945be9e6b85869c1a371c",
       "style": "IPY_MODEL_a6799db9d10e4d2da03a7000d1458835"
      }
     },
     "833aa35ac34347799ff318673828dfcf": {
      "model_module": "bqplot",
      "model_module_version": "^0.3.6",
      "model_name": "OrdinalScaleModel",
      "state": {
       "_view_name": "OrdinalColorScale",
       "colors": [],
       "domain": [],
       "mid": null,
       "scale_type": "linear",
       "scheme": "RdYlGn"
      }
     },
     "83776c5eb4a34dcba768081c09ceaa64": {
      "model_module": "bqplot",
      "model_module_version": "^0.3.6",
      "model_name": "LinearScaleModel",
      "state": {
       "stabilized": false
      }
     },
     "8c6096a2cff346279d8204cadc350e4b": {
      "model_module": "bqplot",
      "model_module_version": "^0.3.6",
      "model_name": "OrdinalScaleModel",
      "state": {
       "_view_name": "OrdinalColorScale",
       "colors": [],
       "domain": [],
       "mid": null,
       "scale_type": "linear",
       "scheme": "RdYlGn"
      }
     },
     "91023479ee3b4960a47b002a42c1ab83": {
      "model_module": "bqplot",
      "model_module_version": "^0.3.6",
      "model_name": "LinearScaleModel",
      "state": {
       "stabilized": false
      }
     },
     "91dcb56cdd5c4e038616d5b81389f98b": {
      "model_module": "@jupyter-widgets/controls",
      "model_module_version": "1.3.0",
      "model_name": "DropdownModel",
      "state": {
       "_options_labels": [
        "Select",
        "Germany",
        "Brazil",
        "Portugal",
        "Argentina",
        "Belgium",
        "Spain",
        "Poland",
        "Switzerland",
        "France",
        "Peru",
        "Denmark",
        "Colombia",
        "England",
        "Mexico",
        "Croatia",
        "Sweden",
        "Uruguay",
        "Iceland",
        "Senegal",
        "Costa Rica",
        "Tunisia",
        "Egypt",
        "IR Iran",
        "Serbia",
        "Australia",
        "Morocco",
        "Nigeria",
        "Panama",
        "Japan",
        "Korea Republic",
        "Saudi Arabia",
        "Russia"
       ],
       "description": "Team:",
       "index": 0,
       "layout": "IPY_MODEL_cb961b3b22ea4568be6809710e156cae",
       "style": "IPY_MODEL_b705734a35d44597a3fafec5e5c897a8"
      }
     },
     "9574cb010c3b4732a915d3cb6335ff3b": {
      "model_module": "@jupyter-widgets/controls",
      "model_module_version": "1.3.0",
      "model_name": "HTMLModel",
      "state": {
       "layout": "IPY_MODEL_d40b6a991b5b460297cf81565b412c69",
       "style": "IPY_MODEL_b954962c94c84afe97f1d75a5d85eb9e",
       "value": "<br/><br/><br/><br/><br/><br/><br/><br/><br/><br/><br/><br/><br/><br/><br/><br/><br/><br/><br/><br/><br/><br/><br/><br/><br/><br/><br/><br/><br/><br/><h1>Challenge mondiali</h1>"
      }
     },
     "95cb20360e6141e0bc6e59d20006fb4a": {
      "model_module": "@jupyter-widgets/controls",
      "model_module_version": "1.3.0",
      "model_name": "HTMLModel",
      "state": {
       "layout": "IPY_MODEL_cc546620688a4e799f049e5840a9b301",
       "style": "IPY_MODEL_1e17f01547cf47458c42c5589a3a3711",
       "value": "<br/><br/><br/><br/><br/><br/><br/><br/><br/><br/><br/><br/><br/><br/><br/><br/><br/><br/><br/><br/><br/><br/><br/><br/><br/><br/><br/><br/><br/><br/><h1>Challenge mondiali</h1>"
      }
     },
     "97a845adb3bb4f5d84409f1b3878406d": {
      "model_module": "@jupyter-widgets/controls",
      "model_module_version": "1.3.0",
      "model_name": "DropdownModel",
      "state": {
       "_options_labels": [
        "Select",
        "Germany",
        "Brazil",
        "Portugal",
        "Argentina",
        "Belgium",
        "Spain",
        "Poland",
        "Switzerland",
        "France",
        "Peru",
        "Denmark",
        "Colombia",
        "England",
        "Mexico",
        "Croatia",
        "Sweden",
        "Uruguay",
        "Iceland",
        "Senegal",
        "Costa Rica",
        "Tunisia",
        "Egypt",
        "IR Iran",
        "Serbia",
        "Australia",
        "Morocco",
        "Nigeria",
        "Panama",
        "Japan",
        "Korea Republic",
        "Saudi Arabia",
        "Russia"
       ],
       "description": "Team:",
       "index": 0,
       "layout": "IPY_MODEL_b93b3961d4cd408eaa5157a8b5e2e02f",
       "style": "IPY_MODEL_ac1361fc13b74e36b3792e3abfcd5ea8"
      }
     },
     "9fa2ae6c876d40e9b37af10543ffa9b0": {
      "model_module": "bqplot",
      "model_module_version": "^0.3.6",
      "model_name": "BarsModel",
      "state": {
       "color": {
        "type": null,
        "values": null
       },
       "colors": [
        "steelblue"
       ],
       "display_legend": false,
       "scales": {
        "x": "IPY_MODEL_069a1acb11da4aa4920e1c83bf26e819",
        "y": "IPY_MODEL_83776c5eb4a34dcba768081c09ceaa64"
       },
       "selected": [],
       "x": {
        "type": "<U12",
        "values": [
         "Uefa Ranking",
         "Last matches",
         "Team Value"
        ]
       },
       "y": {
        "type": "float",
        "values": [
         50,
         30,
         20
        ]
       }
      }
     },
     "a6799db9d10e4d2da03a7000d1458835": {
      "model_module": "@jupyter-widgets/controls",
      "model_module_version": "1.3.0",
      "model_name": "DescriptionStyleModel",
      "state": {
       "description_width": ""
      }
     },
     "a6db84ea43e7401684738664a77cdd8f": {
      "model_module": "bqplot",
      "model_module_version": "^0.3.6",
      "model_name": "ColorAxisModel",
      "state": {
       "scale": "IPY_MODEL_833aa35ac34347799ff318673828dfcf",
       "side": "bottom",
       "tick_values": {
        "type": null,
        "values": null
       }
      }
     },
     "ac1361fc13b74e36b3792e3abfcd5ea8": {
      "model_module": "@jupyter-widgets/controls",
      "model_module_version": "1.3.0",
      "model_name": "DescriptionStyleModel",
      "state": {
       "description_width": ""
      }
     },
     "ad9bef1aae484523a41cabccbf5fe066": {
      "model_module": "bqplot",
      "model_module_version": "^0.3.6",
      "model_name": "BarsModel",
      "state": {
       "color": {
        "type": "<U1",
        "values": [
         "b",
         "g",
         "r"
        ]
       },
       "colors": [
        "steelblue"
       ],
       "display_legend": false,
       "scales": {
        "color": "IPY_MODEL_8c6096a2cff346279d8204cadc350e4b",
        "x": "IPY_MODEL_069a1acb11da4aa4920e1c83bf26e819",
        "y": "IPY_MODEL_83776c5eb4a34dcba768081c09ceaa64"
       },
       "selected": [],
       "x": {
        "type": "<U12",
        "values": [
         "Uefa Ranking",
         "Last matches",
         "Team Value"
        ]
       },
       "y": {
        "type": "float",
        "values": [
         11.67,
         11.67,
         0.08
        ]
       }
      }
     },
     "afab1bd0cc1e4d91b2392b5ed78036e1": {
      "model_module": "@jupyter-widgets/base",
      "model_module_version": "1.1.0",
      "model_name": "LayoutModel",
      "state": {}
     },
     "b705734a35d44597a3fafec5e5c897a8": {
      "model_module": "@jupyter-widgets/controls",
      "model_module_version": "1.3.0",
      "model_name": "DescriptionStyleModel",
      "state": {
       "description_width": ""
      }
     },
     "b82bb57060d144e98a12b11c02040346": {
      "model_module": "bqplot",
      "model_module_version": "^0.3.6",
      "model_name": "LinearScaleModel",
      "state": {
       "allow_padding": false,
       "max": 1,
       "min": 0,
       "stabilized": false
      }
     },
     "b93b3961d4cd408eaa5157a8b5e2e02f": {
      "model_module": "@jupyter-widgets/base",
      "model_module_version": "1.1.0",
      "model_name": "LayoutModel",
      "state": {}
     },
     "b954962c94c84afe97f1d75a5d85eb9e": {
      "model_module": "@jupyter-widgets/controls",
      "model_module_version": "1.3.0",
      "model_name": "DescriptionStyleModel",
      "state": {
       "description_width": ""
      }
     },
     "b99242824b244663a82d9775b931302c": {
      "model_module": "bqplot",
      "model_module_version": "^0.3.6",
      "model_name": "LinearScaleModel",
      "state": {
       "allow_padding": false,
       "max": 1,
       "min": 0,
       "stabilized": false
      }
     },
     "bdd4725103a1452da93ded8d10b37dbe": {
      "model_module": "@jupyter-widgets/base",
      "model_module_version": "1.1.0",
      "model_name": "LayoutModel",
      "state": {}
     },
     "bf0da774841045e58d4621f1f9ecad6a": {
      "model_module": "bqplot",
      "model_module_version": "^0.3.6",
      "model_name": "LinearScaleModel",
      "state": {
       "allow_padding": false,
       "max": 1,
       "min": 0,
       "stabilized": false
      }
     },
     "c4cf04764c864c9b863b431c7e22ebac": {
      "model_module": "@jupyter-widgets/controls",
      "model_module_version": "1.3.0",
      "model_name": "VBoxModel",
      "state": {
       "children": [
        "IPY_MODEL_402a2d3e12014a66afa53c57604fd6b6",
        "IPY_MODEL_7d9c8f98a45246a48d752691c5758057",
        "IPY_MODEL_eccf005b416747339c4753407996047a",
        "IPY_MODEL_91dcb56cdd5c4e038616d5b81389f98b"
       ],
       "layout": "IPY_MODEL_dbade30e987f454bb58c34ee61644f16"
      }
     },
     "c50d756f64114bf3a4a40d8a8eb2e9dd": {
      "model_module": "bqplot",
      "model_module_version": "^0.3.6",
      "model_name": "LinearScaleModel",
      "state": {
       "stabilized": false
      }
     },
     "c69ad33f63364763a5b2b98e0a42e796": {
      "model_module": "bqplot",
      "model_module_version": "^0.3.6",
      "model_name": "ColorAxisModel",
      "state": {
       "scale": "IPY_MODEL_467d3b260c1c4455a0e0060a71b129cc",
       "side": "bottom",
       "tick_values": {
        "type": null,
        "values": null
       }
      }
     },
     "c8f18e04c6b64dd29f48fd9ce4da0079": {
      "model_module": "bqplot",
      "model_module_version": "^0.3.6",
      "model_name": "BarsModel",
      "state": {
       "color": {
        "type": null,
        "values": null
       },
       "colors": [
        "steelblue"
       ],
       "display_legend": false,
       "scales": {
        "x": "IPY_MODEL_ce8efa7711894cac96a5c8d83b09535f",
        "y": "IPY_MODEL_91023479ee3b4960a47b002a42c1ab83"
       },
       "selected": [],
       "x": {
        "type": "<U12",
        "values": [
         "Uefa Ranking",
         "Last matches",
         "Team Value"
        ]
       },
       "y": {
        "type": "float",
        "values": [
         50,
         30,
         20
        ]
       }
      }
     },
     "ca7f66819ac14a85a33bbdd052cc8c72": {
      "model_module": "bqplot",
      "model_module_version": "^0.3.6",
      "model_name": "AxisModel",
      "state": {
       "scale": "IPY_MODEL_62f9f929c9f346d2a00ed4f24bd42d85",
       "side": "bottom",
       "tick_values": {
        "type": null,
        "values": null
       }
      }
     },
     "cb961b3b22ea4568be6809710e156cae": {
      "model_module": "@jupyter-widgets/base",
      "model_module_version": "1.1.0",
      "model_name": "LayoutModel",
      "state": {}
     },
     "cc546620688a4e799f049e5840a9b301": {
      "model_module": "@jupyter-widgets/base",
      "model_module_version": "1.1.0",
      "model_name": "LayoutModel",
      "state": {}
     },
     "ce8efa7711894cac96a5c8d83b09535f": {
      "model_module": "bqplot",
      "model_module_version": "^0.3.6",
      "model_name": "OrdinalScaleModel",
      "state": {
       "domain": []
      }
     },
     "d28925e1e061482c979c382e2938570e": {
      "model_module": "@jupyter-widgets/controls",
      "model_module_version": "1.3.0",
      "model_name": "DescriptionStyleModel",
      "state": {
       "description_width": ""
      }
     },
     "d40b6a991b5b460297cf81565b412c69": {
      "model_module": "@jupyter-widgets/base",
      "model_module_version": "1.1.0",
      "model_name": "LayoutModel",
      "state": {}
     },
     "d819de9b84054fb8bc9bd6897ae42a9b": {
      "model_module": "@jupyter-widgets/controls",
      "model_module_version": "1.3.0",
      "model_name": "DescriptionStyleModel",
      "state": {
       "description_width": ""
      }
     },
     "d9d7b4e6fcbf49929febcbf32e475fe1": {
      "model_module": "@jupyter-widgets/controls",
      "model_module_version": "1.3.0",
      "model_name": "VBoxModel",
      "state": {
       "children": [
        "IPY_MODEL_9574cb010c3b4732a915d3cb6335ff3b",
        "IPY_MODEL_97a845adb3bb4f5d84409f1b3878406d"
       ],
       "layout": "IPY_MODEL_41f1570994664f468b2b3e4949140743"
      }
     },
     "dbade30e987f454bb58c34ee61644f16": {
      "model_module": "@jupyter-widgets/base",
      "model_module_version": "1.1.0",
      "model_name": "LayoutModel",
      "state": {}
     },
     "dca2d224a2be47b9af1f6ee0e0db5edf": {
      "model_module": "@jupyter-widgets/controls",
      "model_module_version": "1.3.0",
      "model_name": "DropdownModel",
      "state": {
       "_options_labels": [
        "Select",
        "Germany",
        "Brazil",
        "Portugal",
        "Argentina",
        "Belgium",
        "Spain",
        "Poland",
        "Switzerland",
        "France",
        "Peru",
        "Denmark",
        "Colombia",
        "England",
        "Mexico",
        "Croatia",
        "Sweden",
        "Uruguay",
        "Iceland",
        "Senegal",
        "Costa Rica",
        "Tunisia",
        "Egypt",
        "IR Iran",
        "Serbia",
        "Australia",
        "Morocco",
        "Nigeria",
        "Panama",
        "Japan",
        "Korea Republic",
        "Saudi Arabia",
        "Russia"
       ],
       "description": "Team:",
       "index": 0,
       "layout": "IPY_MODEL_e16df8466edf44b7bd2f693e62950cfd",
       "style": "IPY_MODEL_d819de9b84054fb8bc9bd6897ae42a9b"
      }
     },
     "dcc8935595c6476590940fb47c1dfe8f": {
      "model_module": "bqplot",
      "model_module_version": "^0.3.6",
      "model_name": "AxisModel",
      "state": {
       "orientation": "vertical",
       "scale": "IPY_MODEL_91023479ee3b4960a47b002a42c1ab83",
       "side": "left",
       "tick_values": {
        "type": null,
        "values": null
       }
      }
     },
     "dfd9c53d72fc4d26b6aaf193a722510a": {
      "model_module": "bqplot",
      "model_module_version": "^0.3.6",
      "model_name": "FigureModel",
      "state": {
       "_dom_classes": [],
       "axes": [
        "IPY_MODEL_ca7f66819ac14a85a33bbdd052cc8c72",
        "IPY_MODEL_4e84a454cc51487ba6aa28c0f132e149",
        "IPY_MODEL_c69ad33f63364763a5b2b98e0a42e796"
       ],
       "layout": "IPY_MODEL_f86d3baf37b84f51aa0093e1dea7d23a",
       "marks": [
        "IPY_MODEL_773c69e074ab4da5961d763300c045c0",
        "IPY_MODEL_0d2aa419d22643c8aca4f3bda8e16ba6"
       ],
       "max_aspect_ratio": 6,
       "scale_x": "IPY_MODEL_b82bb57060d144e98a12b11c02040346",
       "scale_y": "IPY_MODEL_4bbbbaa6c4d34bb0bd411ce2886cd56c",
       "title": "Colombia"
      }
     },
     "e16df8466edf44b7bd2f693e62950cfd": {
      "model_module": "@jupyter-widgets/base",
      "model_module_version": "1.1.0",
      "model_name": "LayoutModel",
      "state": {}
     },
     "e22119ddab8244939719f494ff836fab": {
      "model_module": "@jupyter-widgets/controls",
      "model_module_version": "1.3.0",
      "model_name": "VBoxModel",
      "state": {
       "children": [
        "IPY_MODEL_95cb20360e6141e0bc6e59d20006fb4a",
        "IPY_MODEL_7e0659975f6c4fcbb745abb3d3f0339d",
        "IPY_MODEL_dfd9c53d72fc4d26b6aaf193a722510a",
        "IPY_MODEL_7d74349170164e8e9a037e5d121d7349",
        "IPY_MODEL_f82beb6a5235432ca4cec08340f040c1",
        "IPY_MODEL_dca2d224a2be47b9af1f6ee0e0db5edf"
       ],
       "layout": "IPY_MODEL_0aa350e420864b8d80e54bc81b69b3b0"
      }
     },
     "eccf005b416747339c4753407996047a": {
      "model_module": "bqplot",
      "model_module_version": "^0.3.6",
      "model_name": "FigureModel",
      "state": {
       "_dom_classes": [],
       "axes": [
        "IPY_MODEL_5eea955df27246eea861942af3b48573",
        "IPY_MODEL_0c26b16e899a49799216c6533aab277e",
        "IPY_MODEL_f42a326981a441329f06d26809ab77ea"
       ],
       "layout": "IPY_MODEL_5c095f0790ef4d4d8af115721f4ccc86",
       "marks": [
        "IPY_MODEL_9fa2ae6c876d40e9b37af10543ffa9b0",
        "IPY_MODEL_ad9bef1aae484523a41cabccbf5fe066"
       ],
       "max_aspect_ratio": 6,
       "scale_x": "IPY_MODEL_bf0da774841045e58d4621f1f9ecad6a",
       "scale_y": "IPY_MODEL_23e2407ec7464be79f2d621ad5ada736",
       "title": "Denmark"
      }
     },
     "f2331914af5b483b839c671b8bf36eee": {
      "model_module": "bqplot",
      "model_module_version": "^0.3.6",
      "model_name": "AxisModel",
      "state": {
       "scale": "IPY_MODEL_ce8efa7711894cac96a5c8d83b09535f",
       "side": "bottom",
       "tick_values": {
        "type": null,
        "values": null
       }
      }
     },
     "f2550e99b95541febfab7f41144d66c9": {
      "model_module": "@jupyter-widgets/controls",
      "model_module_version": "1.3.0",
      "model_name": "DescriptionStyleModel",
      "state": {
       "description_width": ""
      }
     },
     "f31889bbdd1643e2b889006920876193": {
      "model_module": "@jupyter-widgets/controls",
      "model_module_version": "1.3.0",
      "model_name": "DescriptionStyleModel",
      "state": {
       "description_width": ""
      }
     },
     "f42a326981a441329f06d26809ab77ea": {
      "model_module": "bqplot",
      "model_module_version": "^0.3.6",
      "model_name": "ColorAxisModel",
      "state": {
       "scale": "IPY_MODEL_8c6096a2cff346279d8204cadc350e4b",
       "side": "bottom",
       "tick_values": {
        "type": null,
        "values": null
       }
      }
     },
     "f82beb6a5235432ca4cec08340f040c1": {
      "model_module": "bqplot",
      "model_module_version": "^0.3.6",
      "model_name": "FigureModel",
      "state": {
       "_dom_classes": [],
       "axes": [
        "IPY_MODEL_f2331914af5b483b839c671b8bf36eee",
        "IPY_MODEL_dcc8935595c6476590940fb47c1dfe8f",
        "IPY_MODEL_a6db84ea43e7401684738664a77cdd8f"
       ],
       "layout": "IPY_MODEL_290d007a3bc94569b0c486163ba46962",
       "marks": [
        "IPY_MODEL_c8f18e04c6b64dd29f48fd9ce4da0079",
        "IPY_MODEL_546787505abe4245a6d61045873735bb"
       ],
       "max_aspect_ratio": 6,
       "scale_x": "IPY_MODEL_7b059cf2f25045999ed6c427b10498ca",
       "scale_y": "IPY_MODEL_b99242824b244663a82d9775b931302c",
       "title": "Portugal"
      }
     },
     "f86d3baf37b84f51aa0093e1dea7d23a": {
      "model_module": "@jupyter-widgets/base",
      "model_module_version": "1.1.0",
      "model_name": "LayoutModel",
      "state": {
       "min_width": "125px"
      }
     }
    },
    "version_major": 2,
    "version_minor": 0
   }
  }
 },
 "nbformat": 4,
 "nbformat_minor": 2
}
