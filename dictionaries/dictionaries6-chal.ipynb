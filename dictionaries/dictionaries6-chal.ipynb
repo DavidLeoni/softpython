{
 "cells": [
  {
   "cell_type": "markdown",
   "id": "worst-going",
   "metadata": {},
   "source": [
    "# Dizionari 6 - Challenges\n",
    "\n",
    "## [Scarica zip esercizi](../_static/generated/dictionaries.zip)\n",
    "\n",
    "[Naviga file online](https://github.com/DavidLeoni/softpython-it/dictionaries)"
   ]
  },
  {
   "cell_type": "markdown",
   "id": "impossible-cambodia",
   "metadata": {},
   "source": [
    "Proponiamo ora degli esercizi senza soluzione, accetti la sfida? "
   ]
  },
  {
   "cell_type": "markdown",
   "id": "comprehensive-ukraine",
   "metadata": {},
   "source": [
    "## Sfida - Nozze di platino\n",
    "\n",
    "✪ Requisiti: dizionari\n",
    "\n",
    "Al tranquillissimo paesello di Gerontonia vi sono delle coppie assai tenaci che dopo 75 anni dal fatico \"Sì!\" meritano di festeggiare le nozze di platino. Abbiamo una lista dei matrimoni con esattamente 3 coppie scritte nel formato \"maschio-femmina\", e vogliamo creare un dizionario `diz` che associa ad ogni maschio la corrispondente compagna.\n",
    "\n",
    "- assumi che i nomi dei maschi siano tutti diversi e che vi siano **esattamente** 3 coppie\n",
    "\n",
    "Esempio - data:\n",
    "\n",
    "```python\n",
    "matrimoni = [\"Amilcare-Genoveffa\", \"Oronzo-Eusonia\", \"Venceslao-Elvira\"]\n",
    "```\n",
    "\n",
    "dopo il tuo codice, deve risultare:\n",
    "\n",
    "```python\n",
    ">>> print(diz)\n",
    "{'Amilcare': 'Genoveffa', \n",
    " 'Oronzo': 'Eusonia', \n",
    " 'Venceslao': 'Elvira'}\n",
    "```"
   ]
  },
  {
   "cell_type": "code",
   "execution_count": 1,
   "id": "necessary-blanket",
   "metadata": {},
   "outputs": [],
   "source": [
    "\n",
    "matrimoni = [\"Amilcare-Genoveffa\", \"Oronzo-Eusonia\", \"Venceslao-Elvira\"]\n",
    "#matrimoni = [\"Liutprando-Brunilde\", \"Clodoveo-Pancrazia\", \"Evaristo-Ubalda\"]\n",
    "\n",
    "# scrivi qui\n",
    "\n"
   ]
  },
  {
   "cell_type": "markdown",
   "id": "listed-hudson",
   "metadata": {},
   "source": [
    "## Sfida - I pescatori\n",
    "\n",
    "✪ Requisiti: dizionari\n",
    "\n",
    "\n",
    "Una compagnia di pescatori ogni giorno cattura dei `pesci` che poi rivende a vari ristoranti. Ogni ristorante richiede diversi specie di pesci. Dati un `ristorante` e dei `pesci`, scrivi del codice che stampa `True` se il ristorante cucina quei pesci, altrimenti stampa `False`.\n",
    "\n",
    "- **NON** usare `if`\n",
    "- **NON** usare cicli \n",
    "\n",
    "- **SUGGERIMENTO**: se non sai come fare, guarda [Booleani - Ordine di valutazione](https://it.softpython.org/basics/basics2-bools-sol.html#Ordine-di-valutazione)"
   ]
  },
  {
   "cell_type": "code",
   "execution_count": 2,
   "id": "early-canadian",
   "metadata": {},
   "outputs": [],
   "source": [
    "\n",
    "ristorante, pesci = \"Il Galeone\", \"carpe\"            # True\n",
    "#ristorante, pesci = \"Il Galeone\", \"aringhe\"         # False\n",
    "#ristorante, pesci = \"Al Molo\",    \"trote\"           # True\n",
    "#ristorante, pesci = \"Al Molo\",    \"orate\"           # False\n",
    "#ristorante, pesci = \"La Cambusa\", \"merluzzi\"        # False\n",
    "\n",
    "\n",
    "registro = {\n",
    "    \"L'Ancora\"  : ['aringhe', 'carpe'],\n",
    "    \"Il Galeone\": ['merluzzi', 'carpe', 'trote'],    \n",
    "    \"Al Molo\"   : ['trote'],\n",
    "    \"La Cambusa\": ['aringhe', 'carpe'],\n",
    "}\n",
    "\n",
    "# scrivi qui\n",
    "\n"
   ]
  },
  {
   "cell_type": "markdown",
   "id": "defensive-treaty",
   "metadata": {},
   "source": [
    "\n",
    "## Sfida - dondolo\n",
    "\n",
    "✪ Requisiti: stringhe, dizionari, if, cicli\n",
    "\n",
    "Scrivi del codice che data una lista di parole costituite solo dalla stessa lettera, crea un dizionario `freq` che associa a ciascuna lettera il numero di occorrenze di quella lettera trovate **in tutta la lista**\n",
    "\n",
    "Esempio - data:\n",
    "\n",
    "```python\n",
    "parole = ['dddd', 'oooo', 'nnn', 'dddd', 'o', 'lllllll', 'oo']\n",
    "```\n",
    "\n",
    "\n",
    "deve risultare:\n",
    "\n",
    "```python\n",
    ">>> print(freq)\n",
    "{'d': 8, 'o': 7, 'n': 3, 'l': 7}\n",
    "```\n",
    "\n",
    "\n"
   ]
  },
  {
   "cell_type": "code",
   "execution_count": 3,
   "id": "painted-genetics",
   "metadata": {},
   "outputs": [],
   "source": [
    "\n",
    "parole = ['dddd', 'oooo', 'nnn', 'dddd', 'o', 'lllllll', 'oo']\n",
    "             \n",
    "# scrivi qui\n",
    "\n"
   ]
  },
  {
   "cell_type": "markdown",
   "id": "hairy-steal",
   "metadata": {},
   "source": [
    "## Sfida - Interpol db\n",
    "\n",
    "✪✪ Requisiti: stringhe, liste, dizionari, cicli\n",
    "\n",
    "Un numero sempre crescente di hackers finanziati da regimi dittatoriali attaccano senza tregua l'infrastruttura informatica di nazioni rivali allo scopo di destabilizzarle, colpendo anche aziende per rubare proprietà intellettuale. L'Interpol vi richiede di sviluppare un database dei gruppi hacker più pericolosi.\n",
    "\n",
    "Dato un nome di un gruppo hacker, si vuole sapere rapidamente se se è presente un dossier che li riguarda.\n",
    "Vi vengono fornite due liste, una con i nomi ufficiali dei gruppi, e una con il corrispondente dossier. Per quanto sia possibile effettuare una ricerca nelle lista, questa potrebbe risultare troppo lenta.\n",
    "Vi si chiede quindi di memorizzare il contenuto delle due liste in un opportuno dizionario `db` che associ i nomi dei gruppi hacker al rispettivo numero di dossier. Visto che l'agente che effettuerà le ricerche potrebbe scrivere i nomi dei gruppi in modi diversi, nel dizionario mettere anche come chiavi  possibili variazioni dei nomi.\n",
    "\n",
    "**ATTENZIONE:**\n",
    "\n",
    "- PRIMA costruire il dizionario `db`\n",
    "- ... e solo POI effettuare la ricerca usando solo `db` e con *UNA SOLA* riga di codice           "
   ]
  },
  {
   "cell_type": "markdown",
   "id": "restricted-canada",
   "metadata": {},
   "source": [
    "Esempio 1 - dati:\n",
    "\n",
    "```python\n",
    "nomi =    ['hacKnights','Cult  of  Cobra','unsafe\\nKreW']\n",
    "dossier = ['hack.odt','cobra.odt','unsafe.docx']\n",
    "```\n",
    "\n",
    "con questa ricerca per chiave nel dizionario db:\n",
    "\n",
    "```python\n",
    "ricerca = 'hacKnights'\n",
    "```\n",
    "\n",
    "deve stampare:\n",
    "\n",
    "```\n",
    "hacKnights è documentato nel dossier 'hack.odt'\n",
    "```"
   ]
  },
  {
   "cell_type": "markdown",
   "id": "corporate-panama",
   "metadata": {},
   "source": [
    "Esempio 2 - data:\n",
    "\n",
    "```python    \n",
    "ricerca = 'CULT OF COBRA'\n",
    "```\n",
    "\n",
    "deve stampare:\n",
    "\n",
    "```\n",
    "   CULT OF COBRA è documentato nel dossier cobra.odt\n",
    "```\n",
    "\n",
    "Per altri test, vedere sotto"
   ]
  },
  {
   "cell_type": "code",
   "execution_count": 4,
   "id": "grateful-liver",
   "metadata": {},
   "outputs": [],
   "source": [
    "\n",
    "db = {}\n",
    "\n",
    "nomi =     ['hacKnights','Cult  of  Cobra','unsafe\\nKreW']\n",
    "dossier =  ['hack.odt','cobra.odt','unsafe.docx']\n",
    "\n",
    "# Ricerca 'tale e quale':\n",
    "ricerca = 'hacKnights'         # hack.odt\n",
    "#ricerca = 'Cult  of  Cobra'   # cobra.odt\n",
    "#ricerca = 'unsafe\\nKreW'      # unsafe.docx\n",
    "\n",
    "# Ricerca su variazioni della normalizzazione:\n",
    "#ricerca = 'hacknights'      # hack.odt\n",
    "#ricerca = 'HACKNIGHTS'      # hack.odt\n",
    "#ricerca = 'Hacknights'      # hack.odt\n",
    "#ricerca = 'cult of cobra'   # cobra.odt\n",
    "#ricerca = 'CULT OF COBRA'   # cobra.odt\n",
    "#ricerca = 'Cult of cobra'   # cobra.odt\n",
    "#ricerca = 'unsafe krew'     # unsafe.docx\n",
    "#ricerca = 'Unsafe krew'     # unsafe.docx\n",
    "#ricerca = 'UNSAFE KREW'     # unsafe.docx\n",
    "\n",
    "# scrivi qui\n",
    "\n"
   ]
  },
  {
   "cell_type": "code",
   "execution_count": 6,
   "id": "spectacular-mexican",
   "metadata": {
    "nbsphinx": "hidden"
   },
   "outputs": [],
   "source": []
  }
 ],
 "metadata": {
  "kernelspec": {
   "display_name": "Python 3",
   "language": "python",
   "name": "python3"
  },
  "language_info": {
   "codemirror_mode": {
    "name": "ipython",
    "version": 3
   },
   "file_extension": ".py",
   "mimetype": "text/x-python",
   "name": "python",
   "nbconvert_exporter": "python",
   "pygments_lexer": "ipython3",
   "version": "3.7.10"
  },
  "toc": {
   "base_numbering": 1,
   "nav_menu": {},
   "number_sections": false,
   "sideBar": true,
   "skip_h1_title": false,
   "title_cell": "Table of Contents",
   "title_sidebar": "Contents",
   "toc_cell": false,
   "toc_position": {},
   "toc_section_display": true,
   "toc_window_display": true
  }
 },
 "nbformat": 4,
 "nbformat_minor": 5
}
