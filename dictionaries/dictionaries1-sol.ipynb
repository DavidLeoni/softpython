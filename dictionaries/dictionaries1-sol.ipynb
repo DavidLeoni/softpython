{
 "cells": [
  {
   "cell_type": "code",
   "execution_count": 1,
   "metadata": {
    "nbsphinx": "hidden"
   },
   "outputs": [],
   "source": [
    "# Ricordati di eseguire questa cella con Shift+Invio\n",
    "import jupman"
   ]
  },
  {
   "cell_type": "markdown",
   "metadata": {},
   "source": [
    "# Dizionari 1 - Introduzione\n",
    "\n",
    "## [Scarica zip esercizi](../_static/generated/dictionaries.zip)\n",
    "\n",
    "[Naviga file online](https://github.com/DavidLeoni/softpython-it/tree/master/dictionaries)\n",
    "\n",
    "I dizionari sono dei contenitori mutabili che ci consentono di associare velocemente voci  dette _chiavi_ a dei _valori_\n",
    "\n",
    "* Le _chiavi_ sono immutabili, non hanno ordine e non  vi possono essere duplicati\n",
    "* I _valori_ possono essere duplicati\n",
    "\n",
    "Data una chiave, possiamo reperire velocemente il valore corrispondente."
   ]
  },
  {
   "cell_type": "markdown",
   "metadata": {},
   "source": [
    "### Che fare\n",
    "\n",
    "- scompatta lo zip in una cartella, dovresti ottenere qualcosa del genere: \n",
    "\n",
    "```\n",
    "\n",
    "dictionaries \n",
    "    dictionaries1.ipynb\n",
    "    dictionaries1-sol.ipynb\n",
    "    dictionaries2.ipynb\n",
    "    dictionaries2-sol.ipynb\n",
    "    dictionaries3.ipynb\n",
    "    dictionaries3-sol.ipynb\n",
    "    dictionaries4.ipynb\n",
    "    dictionaries4-sol.ipynb\n",
    "    dictionaries5.ipynb\n",
    "    dictionaries5-sol.ipynb\n",
    "    jupman.py\n",
    "    \n",
    "```\n",
    "\n",
    "<div class=\"alert alert-warning\">\n",
    "\n",
    "**ATTENZIONE**: Per essere visualizzato correttamente, il file del notebook DEVE essere nella cartella szippata.\n",
    "</div>\n",
    "\n",
    "- apri il Jupyter Notebook da quella cartella. Due cose dovrebbero aprirsi, prima una console e poi un browser. Il browser dovrebbe mostrare una lista di file: naviga la lista e apri il notebook `dictionaries1.ipynb`\n",
    "- Prosegui leggendo il file degli esercizi, ogni tanto al suo interno troverai delle scritte **ESERCIZIO**, che ti chiederanno di scrivere dei comandi Python nelle celle successive. Gli esercizi sono graduati per difficoltà, da una stellina ✪ a quattro ✪✪✪✪\n",
    "\n",
    "\n",
    "Scorciatoie da tastiera:\n",
    "\n",
    "* Per eseguire il codice Python dentro una cella di Jupyter, premi `Control+Invio`\n",
    "* Per eseguire il codice Python dentro una cella di Jupyter E selezionare la cella seguente, premi `Shift+Invio`\n",
    "* Per eseguire il codice Python dentro una cella di Jupyter E creare una nuova cella subito dopo, premi `Alt+Invio`\n",
    "* Se per caso il Notebook sembra inchiodato, prova a selezionare `Kernel -> Restart`\n",
    "\n"
   ]
  },
  {
   "cell_type": "markdown",
   "metadata": {},
   "source": [
    "## Creare un dizionario\n",
    "\n",
    "Nella vita di tutti i giorni quando pensiamo ad un dizionario tipicamente ci riferiamo ad un libro che data una voce (per es. `'sedia'`), ci permette **rapidamente** di trovare la relativa descrizione (es. `'un mobile per sedersi'`). \n",
    "\n",
    "In Python abbiamo una struttura dati chiamata `dict` che ci consente di rappresentare comodamente i dizionari. \n",
    "\n",
    "Riprendendo l'esempio di prima, potremmo creare un `dict` con diverse voci così:"
   ]
  },
  {
   "cell_type": "code",
   "execution_count": 2,
   "metadata": {},
   "outputs": [
    {
     "data": {
      "text/plain": [
       "{'armadio': 'un mobile a ripiani',\n",
       " 'lampadario': 'un apparecchio di illuminazione',\n",
       " 'sedia': 'un mobile per sedersi'}"
      ]
     },
     "execution_count": 2,
     "metadata": {},
     "output_type": "execute_result"
    }
   ],
   "source": [
    "{'sedia':'un mobile per sedersi',\n",
    " 'armadio':'un mobile a ripiani',\n",
    " 'lampadario': 'un apparecchio di illuminazione'\n",
    "}\n"
   ]
  },
  {
   "cell_type": "markdown",
   "metadata": {},
   "source": [
    "Chiariamo un momento i nomi:\n",
    "    \n",
    "> I dizionari sono dei contenitori mutabili che ci consentono di associare velocemente **voci  dette chiavi** a dei **valori**. \n",
    "\n",
    "La definizione ci dice che le voci in Python vengono chiamate _chiavi_ (nell esempio `'sedia'`, `'armadio'` etc), mentre quelle che nell'esempio sono descrizioni (`'un mobile per sedersi'`) in Python le chiamiamo _valori_. \n",
    "\n",
    "Quando creaiamo un dizionario, scriviamo prima una graffa `{`, poi la facciamo seguire da una serie di coppie chiave `:` valore, ciascuna seguita da una virgola `,` (tranne l'ultima, in cui la virgola è opzionale). Alla fine chiudiamo con una graffa `}`. \n",
    "\n",
    "Mettere spazi o ritorni a capo all'interno **è opzionale**. Quindi possiamo scrivere anche così:"
   ]
  },
  {
   "cell_type": "code",
   "execution_count": 3,
   "metadata": {},
   "outputs": [
    {
     "data": {
      "text/plain": [
       "{'armadio': 'un mobile a ripiani',\n",
       " 'lampadario': 'un apparecchio di illuminazione',\n",
       " 'sedia': 'un mobile per sedersi'}"
      ]
     },
     "execution_count": 3,
     "metadata": {},
     "output_type": "execute_result"
    }
   ],
   "source": [
    "{\n",
    " 'sedia'     : 'un mobile per sedersi',\n",
    " 'armadio'   : 'un mobile a ripiani',\n",
    " 'lampadario': 'un apparecchio di illuminazione'\n",
    "}"
   ]
  },
  {
   "cell_type": "markdown",
   "metadata": {},
   "source": [
    "O anche tutto su una riga:"
   ]
  },
  {
   "cell_type": "code",
   "execution_count": 4,
   "metadata": {},
   "outputs": [
    {
     "data": {
      "text/plain": [
       "{'armadio': 'un mobile a ripiani',\n",
       " 'lampadario': 'un apparecchio di illuminazione',\n",
       " 'sedia': 'un mobile per sedersi'}"
      ]
     },
     "execution_count": 4,
     "metadata": {},
     "output_type": "execute_result"
    }
   ],
   "source": [
    "{'sedia':'un mobile per sedersi','armadio':'un mobile a ripiani','lampadario':'un apparecchio di illuminazione'}"
   ]
  },
  {
   "cell_type": "markdown",
   "metadata": {},
   "source": [
    "Nota che se usiamo parole brevi Python probabilmente stamperà il dizionario comunque su una riga:"
   ]
  },
  {
   "cell_type": "code",
   "execution_count": 5,
   "metadata": {},
   "outputs": [
    {
     "data": {
      "text/plain": [
       "{'aereo': 'ala', 'auto': 'ruota', 'barca': 'remo'}"
      ]
     },
     "execution_count": 5,
     "metadata": {},
     "output_type": "execute_result"
    }
   ],
   "source": [
    "{'barca': 'remo',\n",
    " 'auto': 'ruota',\n",
    " 'aereo': 'ala'}"
   ]
  },
  {
   "cell_type": "markdown",
   "metadata": {},
   "source": [
    "Mettere una virgola anche dopo l'ultima coppia non provoca errori:"
   ]
  },
  {
   "cell_type": "code",
   "execution_count": 6,
   "metadata": {},
   "outputs": [
    {
     "data": {
      "text/plain": [
       "{'aereo': 'ala', 'auto': 'ruota', 'barca': 'remo'}"
      ]
     },
     "execution_count": 6,
     "metadata": {},
     "output_type": "execute_result"
    }
   ],
   "source": [
    "{\n",
    " 'barca': 'remo',\n",
    " 'auto': 'ruota',\n",
    " 'aereo': 'ala',  # nota virgola 'extra'\n",
    "}"
   ]
  },
  {
   "cell_type": "markdown",
   "metadata": {},
   "source": [
    "Vediamo come viene rappresentato un dizionario in Python Tutor - per agevolarci, lo assegnamo alla variabile `diz`"
   ]
  },
  {
   "cell_type": "code",
   "execution_count": 7,
   "metadata": {},
   "outputs": [],
   "source": [
    "# AFFINCHE' PYTHON TUTOR FUNZIONI, RICORDATI DI ESEGUIRE QUESTA CELLA con Shift+Invio\n",
    "#   (basta eseguirla una volta sola, la trovi anche all'inizio di ogni foglio)\n",
    "\n",
    "import jupman"
   ]
  },
  {
   "cell_type": "code",
   "execution_count": 8,
   "metadata": {},
   "outputs": [
    {
     "name": "stdout",
     "output_type": "stream",
     "text": [
      "{'armadio': 'un mobile a ripiani', 'lampadario': 'un apparecchio di illuminazione', 'sedia': 'un mobile per sedersi'}\n"
     ]
    },
    {
     "data": {
      "text/html": [
       "\n",
       "        <script src=\"../_static/js/pytutor-embed.bundle.min.js\" type=\"application/javascript\"></script>\n",
       "     \n",
       "        <script id=\"json-jmca899039-71a0-4da0-93d4-7df150d3f393\" type=\"application/json\" >\n",
       "            {\"code\": \" \\ndiz = {\\n 'sedia'     : 'un mobile per sedersi',\\n 'armadio'   : 'un mobile a ripiani',\\n 'lampadario': 'un apparecchio di illuminazione'\\n}\\nprint(diz)\", \"trace\": [{\"ordered_globals\": [], \"stack_to_render\": [], \"event\": \"step_line\", \"heap\": {}, \"globals\": {}, \"stdout\": \"\", \"func_name\": \"<module>\", \"line\": 3}, {\"ordered_globals\": [], \"stack_to_render\": [], \"event\": \"step_line\", \"heap\": {}, \"globals\": {}, \"stdout\": \"\", \"func_name\": \"<module>\", \"line\": 4}, {\"ordered_globals\": [], \"stack_to_render\": [], \"event\": \"step_line\", \"heap\": {}, \"globals\": {}, \"stdout\": \"\", \"func_name\": \"<module>\", \"line\": 5}, {\"ordered_globals\": [\"diz\"], \"stack_to_render\": [], \"event\": \"step_line\", \"heap\": {\"1\": [\"DICT\", [\"armadio\", \"un mobile a ripiani\"], [\"lampadario\", \"un apparecchio di illuminazione\"], [\"sedia\", \"un mobile per sedersi\"]]}, \"globals\": {\"diz\": [\"REF\", 1]}, \"stdout\": \"\", \"func_name\": \"<module>\", \"line\": 7}, {\"ordered_globals\": [\"diz\"], \"stack_to_render\": [], \"event\": \"return\", \"heap\": {\"1\": [\"DICT\", [\"armadio\", \"un mobile a ripiani\"], [\"lampadario\", \"un apparecchio di illuminazione\"], [\"sedia\", \"un mobile per sedersi\"]]}, \"globals\": {\"diz\": [\"REF\", 1]}, \"stdout\": \"{'armadio': 'un mobile a ripiani', 'lampadario': 'un apparecchio di illuminazione', 'sedia': 'un mobile per sedersi'}\\n\", \"func_name\": \"<module>\", \"line\": 7}]}\n",
       "        </script>\n",
       "        <div id=\"jmca899039-71a0-4da0-93d4-7df150d3f393\" class=\"pytutorVisualizer\"> </div>\n",
       " \n",
       "        <style>\n",
       "        .vizLayoutTd {\n",
       "            background-color: #fff !important;\n",
       "        }\n",
       "\n",
       "        #pyStdout {            \n",
       "            min-height:25px;\n",
       "        }\n",
       "\n",
       "        /* 'Edit this code' link, hiding because replaces browser tab !!!*/\n",
       "        #editCodeLinkDiv {\n",
       "            display:none;  \n",
       "        }\n",
       "        </style>   \n",
       "                            \n",
       "        <script>\n",
       "        (function(){\n",
       "\n",
       "            var trace = JSON.parse(document.getElementById('json-jmca899039-71a0-4da0-93d4-7df150d3f393').innerHTML);                                        \n",
       "            // NOTE 1: id without #\n",
       "            // NOTE 2 - maybe there are more predictable ways, but this will work anyway\n",
       "            //        - id should be number\n",
       "            visualizerIdOverride = Math.trunc(Math.random() * 100000000000)\n",
       "            addVisualizerToPage(trace, 'jmca899039-71a0-4da0-93d4-7df150d3f393',{'embeddedMode' : false,\n",
       "                                             'visualizerIdOverride':visualizerIdOverride})  \n",
       "            \n",
       "            \n",
       "            // set overflow for pytuts - need to do in python as css \n",
       "            // does not allow parent selection\n",
       "            var pytuts = $('.pytutorVisualizer')\n",
       "            pytuts.closest('div.output_html.rendered_html.output_result')\n",
       "                    .css('overflow-x', 'visible')\n",
       "        \n",
       "            //pytuts.closest('div.output_html.rendered_html.output_result')\n",
       "            //      .css('background-color','red')                \n",
       "            \n",
       "        })()\n",
       "        </script>\n",
       "                \n",
       "                "
      ],
      "text/plain": [
       "<IPython.core.display.HTML object>"
      ]
     },
     "execution_count": 8,
     "metadata": {},
     "output_type": "execute_result"
    }
   ],
   "source": [
    "\n",
    "diz = {\n",
    " 'sedia'     : 'un mobile per sedersi',\n",
    " 'armadio'   : 'un mobile a ripiani',\n",
    " 'lampadario': 'un apparecchio di illuminazione'\n",
    "}\n",
    "print(diz)\n",
    "\n",
    "jupman.pytut()"
   ]
  },
  {
   "cell_type": "markdown",
   "metadata": {},
   "source": [
    "Notiamo che una volta eseguito, appare una freccia da `diz` che punta ad una regione di memoria arancione/gialla. Le chiavi hanno sfondo arancione, mentre i corrispondenti valori hanno sfondo giallo. Dalle frecce e colori, si può intuire che quando si parla di assegnazioni di variabili, i dizionari si comportano come altre strutture dati  mutabili, come le liste e gli insiemi.\n",
    "\n",
    "**DOMANDA**: Guarda il codice seguente, e prova ad immaginare cosa succederà durante l'esecuzione - alla fine, come sarà organizzata la memoria? Cosa sarà stampato? Dove andranno le frecce?"
   ]
  },
  {
   "cell_type": "code",
   "execution_count": 9,
   "metadata": {},
   "outputs": [
    {
     "data": {
      "text/html": [
       "\n",
       "        <script src=\"../_static/js/pytutor-embed.bundle.min.js\" type=\"application/javascript\"></script>\n",
       "     \n",
       "        <script id=\"json-jm3e45e75d-5101-468a-a488-00a50aab84c8\" type=\"application/json\" >\n",
       "            {\"code\": \" \\nda = {\\n 'sedia'     : 'un mobile per sedersi',\\n 'armadio'   : 'un mobile a ripiani',\\n 'lampadario': 'un apparecchio di illuminazione'\\n}\\n\\ndb = {\\n 'barca': 'remo',\\n 'auto': 'ruota',\\n 'aereo': 'ala'\\n}\\ndc = db \\ndb = da\\nda = dc\\ndc = db\\n#print(da)\\n#print(db)\\n#print(dc)\", \"trace\": [{\"ordered_globals\": [], \"stack_to_render\": [], \"event\": \"step_line\", \"heap\": {}, \"globals\": {}, \"stdout\": \"\", \"func_name\": \"<module>\", \"line\": 3}, {\"ordered_globals\": [], \"stack_to_render\": [], \"event\": \"step_line\", \"heap\": {}, \"globals\": {}, \"stdout\": \"\", \"func_name\": \"<module>\", \"line\": 4}, {\"ordered_globals\": [], \"stack_to_render\": [], \"event\": \"step_line\", \"heap\": {}, \"globals\": {}, \"stdout\": \"\", \"func_name\": \"<module>\", \"line\": 5}, {\"ordered_globals\": [\"da\"], \"stack_to_render\": [], \"event\": \"step_line\", \"heap\": {\"1\": [\"DICT\", [\"armadio\", \"un mobile a ripiani\"], [\"lampadario\", \"un apparecchio di illuminazione\"], [\"sedia\", \"un mobile per sedersi\"]]}, \"globals\": {\"da\": [\"REF\", 1]}, \"stdout\": \"\", \"func_name\": \"<module>\", \"line\": 9}, {\"ordered_globals\": [\"da\"], \"stack_to_render\": [], \"event\": \"step_line\", \"heap\": {\"1\": [\"DICT\", [\"armadio\", \"un mobile a ripiani\"], [\"lampadario\", \"un apparecchio di illuminazione\"], [\"sedia\", \"un mobile per sedersi\"]]}, \"globals\": {\"da\": [\"REF\", 1]}, \"stdout\": \"\", \"func_name\": \"<module>\", \"line\": 10}, {\"ordered_globals\": [\"da\"], \"stack_to_render\": [], \"event\": \"step_line\", \"heap\": {\"1\": [\"DICT\", [\"armadio\", \"un mobile a ripiani\"], [\"lampadario\", \"un apparecchio di illuminazione\"], [\"sedia\", \"un mobile per sedersi\"]]}, \"globals\": {\"da\": [\"REF\", 1]}, \"stdout\": \"\", \"func_name\": \"<module>\", \"line\": 11}, {\"ordered_globals\": [\"da\", \"db\"], \"stack_to_render\": [], \"event\": \"step_line\", \"heap\": {\"1\": [\"DICT\", [\"armadio\", \"un mobile a ripiani\"], [\"lampadario\", \"un apparecchio di illuminazione\"], [\"sedia\", \"un mobile per sedersi\"]], \"2\": [\"DICT\", [\"aereo\", \"ala\"], [\"barca\", \"remo\"], [\"auto\", \"ruota\"]]}, \"globals\": {\"db\": [\"REF\", 2], \"da\": [\"REF\", 1]}, \"stdout\": \"\", \"func_name\": \"<module>\", \"line\": 13}, {\"ordered_globals\": [\"da\", \"db\", \"dc\"], \"stack_to_render\": [], \"event\": \"step_line\", \"heap\": {\"1\": [\"DICT\", [\"armadio\", \"un mobile a ripiani\"], [\"lampadario\", \"un apparecchio di illuminazione\"], [\"sedia\", \"un mobile per sedersi\"]], \"2\": [\"DICT\", [\"aereo\", \"ala\"], [\"barca\", \"remo\"], [\"auto\", \"ruota\"]]}, \"globals\": {\"db\": [\"REF\", 2], \"dc\": [\"REF\", 2], \"da\": [\"REF\", 1]}, \"stdout\": \"\", \"func_name\": \"<module>\", \"line\": 14}, {\"ordered_globals\": [\"da\", \"db\", \"dc\"], \"stack_to_render\": [], \"event\": \"step_line\", \"heap\": {\"1\": [\"DICT\", [\"armadio\", \"un mobile a ripiani\"], [\"lampadario\", \"un apparecchio di illuminazione\"], [\"sedia\", \"un mobile per sedersi\"]], \"2\": [\"DICT\", [\"aereo\", \"ala\"], [\"barca\", \"remo\"], [\"auto\", \"ruota\"]]}, \"globals\": {\"db\": [\"REF\", 1], \"dc\": [\"REF\", 2], \"da\": [\"REF\", 1]}, \"stdout\": \"\", \"func_name\": \"<module>\", \"line\": 15}, {\"ordered_globals\": [\"da\", \"db\", \"dc\"], \"stack_to_render\": [], \"event\": \"step_line\", \"heap\": {\"1\": [\"DICT\", [\"armadio\", \"un mobile a ripiani\"], [\"lampadario\", \"un apparecchio di illuminazione\"], [\"sedia\", \"un mobile per sedersi\"]], \"2\": [\"DICT\", [\"aereo\", \"ala\"], [\"barca\", \"remo\"], [\"auto\", \"ruota\"]]}, \"globals\": {\"db\": [\"REF\", 1], \"dc\": [\"REF\", 2], \"da\": [\"REF\", 2]}, \"stdout\": \"\", \"func_name\": \"<module>\", \"line\": 16}, {\"ordered_globals\": [\"da\", \"db\", \"dc\"], \"stack_to_render\": [], \"event\": \"return\", \"heap\": {\"1\": [\"DICT\", [\"armadio\", \"un mobile a ripiani\"], [\"lampadario\", \"un apparecchio di illuminazione\"], [\"sedia\", \"un mobile per sedersi\"]], \"2\": [\"DICT\", [\"aereo\", \"ala\"], [\"barca\", \"remo\"], [\"auto\", \"ruota\"]]}, \"globals\": {\"db\": [\"REF\", 1], \"dc\": [\"REF\", 1], \"da\": [\"REF\", 2]}, \"stdout\": \"\", \"func_name\": \"<module>\", \"line\": 16}]}\n",
       "        </script>\n",
       "        <div id=\"jm3e45e75d-5101-468a-a488-00a50aab84c8\" class=\"pytutorVisualizer\"> </div>\n",
       " \n",
       "        <style>\n",
       "        .vizLayoutTd {\n",
       "            background-color: #fff !important;\n",
       "        }\n",
       "\n",
       "        #pyStdout {            \n",
       "            min-height:25px;\n",
       "        }\n",
       "\n",
       "        /* 'Edit this code' link, hiding because replaces browser tab !!!*/\n",
       "        #editCodeLinkDiv {\n",
       "            display:none;  \n",
       "        }\n",
       "        </style>   \n",
       "                            \n",
       "        <script>\n",
       "        (function(){\n",
       "\n",
       "            var trace = JSON.parse(document.getElementById('json-jm3e45e75d-5101-468a-a488-00a50aab84c8').innerHTML);                                        \n",
       "            // NOTE 1: id without #\n",
       "            // NOTE 2 - maybe there are more predictable ways, but this will work anyway\n",
       "            //        - id should be number\n",
       "            visualizerIdOverride = Math.trunc(Math.random() * 100000000000)\n",
       "            addVisualizerToPage(trace, 'jm3e45e75d-5101-468a-a488-00a50aab84c8',{'embeddedMode' : false,\n",
       "                                             'visualizerIdOverride':visualizerIdOverride})  \n",
       "            \n",
       "            \n",
       "            // set overflow for pytuts - need to do in python as css \n",
       "            // does not allow parent selection\n",
       "            var pytuts = $('.pytutorVisualizer')\n",
       "            pytuts.closest('div.output_html.rendered_html.output_result')\n",
       "                    .css('overflow-x', 'visible')\n",
       "        \n",
       "            //pytuts.closest('div.output_html.rendered_html.output_result')\n",
       "            //      .css('background-color','red')                \n",
       "            \n",
       "        })()\n",
       "        </script>\n",
       "                \n",
       "                "
      ],
      "text/plain": [
       "<IPython.core.display.HTML object>"
      ]
     },
     "execution_count": 9,
     "metadata": {},
     "output_type": "execute_result"
    }
   ],
   "source": [
    "\n",
    "da = {\n",
    " 'sedia'     : 'un mobile per sedersi',\n",
    " 'armadio'   : 'un mobile a ripiani',\n",
    " 'lampadario': 'un apparecchio di illuminazione'\n",
    "}\n",
    "\n",
    "db = {\n",
    " 'barca': 'remo',\n",
    " 'auto': 'ruota',\n",
    " 'aereo': 'ala'\n",
    "}\n",
    "dc = db \n",
    "db = da\n",
    "da = dc\n",
    "dc = db\n",
    "#print(da)\n",
    "#print(db)\n",
    "#print(dc)\n",
    "\n",
    "jupman.pytut()"
   ]
  },
  {
   "cell_type": "markdown",
   "metadata": {},
   "source": [
    "### Le chiavi\n",
    "\n",
    "Cerchiamo di capire meglio quali chiavi possiamo mettere riguardando la definizione:\n",
    "\n",
    "> I dizionari sono dei contenitori mutabili che ci consentono di associare velocemente voci dette chiavi a dei valori\n",
    ">\n",
    "> * **Le chiavi sono immutabili, non hanno ordine e non  vi possono essere duplicati**\n",
    "> * I valori possono essere duplicati\n",
    "\n",
    "\n",
    "**DOMANDA**: guarda bene le parole in grassetto - ti viene in mente una struttura dati già vista che ha quelle caratteristiche?"
   ]
  },
  {
   "cell_type": "raw",
   "id": "single-belfast",
   "metadata": {
    "format": "text/html"
   },
   "source": [
    "<a  class=\"jupman-sol jupman-sol-toggler\" \n",
    " onclick=\"jupman.toggleSolution(this);\" \n",
    " data-jupman-show=\"Mostra risposta\" data-jupman-hide=\"Nascondi\">Mostra risposta</a><div class=\"jupman-sol jupman-sol-question\" style=\"display:none\">  "
   ]
  },
  {
   "cell_type": "markdown",
   "metadata": {},
   "source": [
    "**RISPOSTA**: Le chiavi dei dizionari per molti aspetti si comportano come elementi di un insieme.\n",
    "\n",
    "<div class=\"alert alert-warning\">\n",
    "\n",
    "**Hai letto bene il** [foglio  sugli insiemi](https://it.softpython.org/sets/sets-sol.html)**?**\n",
    "\n",
    "**Prima di proseguire, assicurati di aver capito bene la** [sezione Elementi mutabili e hash](https://it.softpython.org/sets/sets-sol.html#Elementi-mutabili-e-hash) \n",
    "</div>"
   ]
  },
  {
   "cell_type": "raw",
   "id": "crude-collapse",
   "metadata": {
    "format": "text/html"
   },
   "source": [
    "</div>"
   ]
  },
  {
   "cell_type": "markdown",
   "metadata": {},
   "source": [
    "#### Le chiavi sono immutabili"
   ]
  },
  {
   "cell_type": "markdown",
   "metadata": {},
   "source": [
    "**DOMANDA**: La definizione non impone di usare per forza stringhe come chiavi, possiamo usare anche altri tipi. Ma possiamo usare tutti quelli che vogliamo? \n",
    "\n",
    "Per ciascuno degli esempi seguenti, prova a dire se il dizionario si può creare o se otterremo un errore (quale?). Controlla come sono rappresentati in Python Tutor.\n",
    "\n",
    "\n",
    "1.  interi\n",
    "\n",
    "    ```python\n",
    "    { \n",
    "      4 : 'gatti',\n",
    "      3 : 'cani'\n",
    "    }\n",
    "    ```\n",
    "1.  float\n",
    "\n",
    "    ```python\n",
    "    { \n",
    "      4.0 : 'gatti',\n",
    "      3.0 : 'cani'\n",
    "    }\n",
    "    ```\n",
    "1.  stringhe\n",
    "\n",
    "    ```python\n",
    "    { \n",
    "      'a' : 'gatti',\n",
    "      'b' : 'cani'\n",
    "    }\n",
    "    ```\n",
    "1.  liste\n",
    "    ```python\n",
    "    { \n",
    "        [1,2] : 'zam',\n",
    "        [3,4] : 'zum'\n",
    "    }\n",
    "    ```\n",
    "1.  tuple\n",
    "    ```python\n",
    "    { \n",
    "        (1,2) : 'zam',\n",
    "        (4,3) : 'zum'\n",
    "    }\n",
    "    ```\n",
    "1.  insiemi\n",
    "    ```python\n",
    "    { \n",
    "        {1,2} : 'zam',\n",
    "        {3,4} : 'zum'\n",
    "    }\n",
    "    ```\n",
    "1.  altri dizionari (guarda la prima parte della definizione !)\n",
    "    ```python\n",
    "    { \n",
    "        {'a':'x','b':'y'} : 'zam',\n",
    "        {'c':'w','d':'z'} : 'zum'\n",
    "    }\n",
    "    ```  "
   ]
  },
  {
   "cell_type": "raw",
   "id": "purple-vault",
   "metadata": {
    "format": "text/html"
   },
   "source": [
    "<a  class=\"jupman-sol jupman-sol-toggler\" \n",
    " onclick=\"jupman.toggleSolution(this);\" \n",
    " data-jupman-show=\"Mostra risposta\" data-jupman-hide=\"Nascondi\">Mostra risposta</a><div class=\"jupman-sol jupman-sol-question\" style=\"display:none\">  "
   ]
  },
  {
   "cell_type": "markdown",
   "metadata": {},
   "source": [
    "**RISPOSTA**: interi, float, stringhe e tuple sono IMMUTABILI e quindi possiamo usarli come chiavi (vedere definizione). Invece, liste e insiemi (e altri dizionari) sono MUTABILI, e quindi non potremo usarli come chiavi.  Se proviamo ad usare un elemento MUTABILE come una lista come se fosse la chiave di un dizionario, Python si offenderà, segnalandoci che l'oggetto non è _hashable_ (esattamente come si offenderebbe se cercassimo di inserirlo come elemento di un insieme)\n",
    "\n",
    "\n",
    "```python\n",
    ">>> {  [1,2]:'zam',\n",
    "       [3,4]:'zum'}\n",
    "\n",
    "---------------------------------------------------------------------------\n",
    "TypeError                                 Traceback (most recent call last)\n",
    "<ipython-input-12-c3c2d6cc97b8> in <module>\n",
    "      1 { [1,2]:'zam',\n",
    "----> 2   [3,4]:'zum'}\n",
    "\n",
    "TypeError: unhashable type: 'list'\n",
    "\n",
    "```"
   ]
  },
  {
   "cell_type": "raw",
   "id": "collect-beverage",
   "metadata": {
    "format": "text/html"
   },
   "source": [
    "</div>"
   ]
  },
  {
   "cell_type": "markdown",
   "metadata": {},
   "source": [
    "#### Le chiavi non hanno ordine\n",
    "\n",
    "In un dizionario che possiamo trovare nella vita reale, le voci sono sempre ordinate secondo qualche criterio, (tipicamente in ordine alfabetico)\n",
    "\n",
    "Con Python invece dobbiamo considerare un'importante differenza:\n",
    "\n",
    "> * Le chiavi sono immutabili, **non hanno ordine** e non  vi possono essere duplicati\n",
    "\n",
    "\n",
    "Quando diciamo che una collezione 'non ha ordine', significa che l'ordine degli elementi che vediamo quando li inseriamo o stampiamo non ha alcuna importanza nel determinare se una collezione è uguale ad un'altra. Nel caso dei dizionari significa che cambiando l'ordine in cui sono specificate le coppie, otteniamo dizionari che Python considera uguali. \n",
    "\n",
    "Per esempio, i seguenti dizionari sono da considerarsi tutti uguali:"
   ]
  },
  {
   "cell_type": "code",
   "execution_count": 10,
   "metadata": {},
   "outputs": [
    {
     "data": {
      "text/plain": [
       "{'aerei': 'aereoporto', 'navi': 'porto', 'treni': 'stazione'}"
      ]
     },
     "execution_count": 10,
     "metadata": {},
     "output_type": "execute_result"
    }
   ],
   "source": [
    "{\n",
    " 'navi' :'porto',\n",
    " 'aerei': 'aereoporto',\n",
    " 'treni': 'stazione'\n",
    "}"
   ]
  },
  {
   "cell_type": "code",
   "execution_count": 11,
   "metadata": {},
   "outputs": [
    {
     "data": {
      "text/plain": [
       "{'aerei': 'aereoporto', 'navi': 'porto', 'treni': 'stazione'}"
      ]
     },
     "execution_count": 11,
     "metadata": {},
     "output_type": "execute_result"
    }
   ],
   "source": [
    "{\n",
    " 'aerei': 'aereoporto',\n",
    " 'navi' :'porto',\n",
    " 'treni': 'stazione'\n",
    "}"
   ]
  },
  {
   "cell_type": "code",
   "execution_count": 12,
   "metadata": {},
   "outputs": [
    {
     "data": {
      "text/plain": [
       "{'aerei': 'aereoporto', 'navi': 'porto', 'treni': 'stazione'}"
      ]
     },
     "execution_count": 12,
     "metadata": {},
     "output_type": "execute_result"
    }
   ],
   "source": [
    "{\n",
    " 'treni': 'stazione',\n",
    " 'navi' : 'porto',\n",
    " 'aerei': 'aereoporto',\n",
    "}"
   ]
  },
  {
   "cell_type": "markdown",
   "metadata": {},
   "source": [
    "**Stampare un dizionario**: avrai notato che Jupyter stampa sempre le chiavi nello stesso ordine alfabetico. Questa è una cortesia che ci fa Jupyter, ma non lasciarti ingannare! Se proviamo una stampa nativa con `print` otterremo un risultato diverso!"
   ]
  },
  {
   "cell_type": "code",
   "execution_count": 13,
   "metadata": {},
   "outputs": [
    {
     "name": "stdout",
     "output_type": "stream",
     "text": [
      "{'navi': 'porto', 'aerei': 'aereoporto', 'treni': 'stazione'}\n"
     ]
    }
   ],
   "source": [
    "print({\n",
    " 'navi' :'porto',\n",
    " 'aerei': 'aereoporto',\n",
    " 'treni': 'stazione'\n",
    "})"
   ]
  },
  {
   "cell_type": "markdown",
   "metadata": {},
   "source": [
    "#### Duplicati delle chiavi\n",
    "\n",
    "> Le chiavi sono immutabili, non hanno ordine e **non vi possono essere duplicati**\n",
    "\n",
    "Possiamo chiederci come Python gestisca i duplicati nelle chiavi. Proviamo di proposito a creare una coppia duplicata:"
   ]
  },
  {
   "cell_type": "code",
   "execution_count": 14,
   "metadata": {},
   "outputs": [
    {
     "data": {
      "text/plain": [
       "{'lampadario': 'un apparecchio di illuminazione',\n",
       " 'sedia': 'un mobile per sedersi'}"
      ]
     },
     "execution_count": 14,
     "metadata": {},
     "output_type": "execute_result"
    }
   ],
   "source": [
    "{\n",
    " 'sedia'     : 'un mobile per sedersi',\n",
    " 'sedia'     : 'un mobile per sedersi',\n",
    " 'lampadario': 'un apparecchio di illuminazione'\n",
    "}\n"
   ]
  },
  {
   "cell_type": "markdown",
   "metadata": {},
   "source": [
    "Notiamo che Python non si è lamentato e ha silenziosamente scartato il duplicato. E se provassimo ad inserire una coppia con stessa chiave ma valore diverso?"
   ]
  },
  {
   "cell_type": "code",
   "execution_count": 15,
   "metadata": {},
   "outputs": [
    {
     "data": {
      "text/plain": [
       "{'lampadario': 'un apparecchio di illuminazione',\n",
       " 'sedia': 'appoggio con schienale'}"
      ]
     },
     "execution_count": 15,
     "metadata": {},
     "output_type": "execute_result"
    }
   ],
   "source": [
    "{\n",
    " 'sedia'     : 'un mobile per sedersi',\n",
    " 'sedia'     : 'appoggio con schienale',\n",
    " 'lampadario': 'un apparecchio di illuminazione'\n",
    "}\n"
   ]
  },
  {
   "cell_type": "markdown",
   "metadata": {},
   "source": [
    "Notiamo che Python ha mantenuto solo l'ultima coppia. "
   ]
  },
  {
   "cell_type": "markdown",
   "metadata": {},
   "source": [
    "### I valori\n",
    "\n",
    "Riguardiamo la definizione:\n",
    "\n",
    "> I dizionari sono dei contenitori mutabili che ci consentono di associare velocemente voci  dette chiavi a dei valori. \n",
    "> \n",
    "> * Le chiavi sono immutabili, non hanno ordine e non  vi possono essere duplicati\n",
    "> * **I valori possono essere duplicati**\n",
    "\n",
    "Pare che per i valori vi siano meno vincoli rispetto alle chiavi\n",
    "\n",
    "**DOMANDA**: Per ciascuno degli esempi seguenti, prova a dire se il dizionario si può creare o se otterremo un errore (quale?). Controlla come sono rappresentati in Python Tutor."
   ]
  },
  {
   "cell_type": "markdown",
   "metadata": {},
   "source": [
    "1.  interi \n",
    "\n",
    "    ```python\n",
    "    {\n",
    "        'a':3,\n",
    "        'b':4\n",
    "    }\n",
    "    ```\n",
    "1.  interi duplicati\n",
    "\n",
    "    ```python\n",
    "    {\n",
    "        'a':3,\n",
    "        'b':3\n",
    "    }\n",
    "    ```\n",
    "1.  float \n",
    "\n",
    "    ```python\n",
    "    {\n",
    "        'a':3.0,\n",
    "        'b':4.0\n",
    "    }\n",
    "    ```\n",
    "1.  stringhe\n",
    "\n",
    "    ```python\n",
    "    {\n",
    "        'a' : 'ghiaccio',\n",
    "        'b' : 'fuoco'\n",
    "    }\n",
    "    ```\n",
    "1.  liste\n",
    "\n",
    "    ```python\n",
    "    {\n",
    "        'a' : ['t','w'],\n",
    "        'b' : ['x'],\n",
    "        'c' : ['y','z','k']\n",
    "    }\n",
    "    ```\n",
    "1.  liste duplicate\n",
    "\n",
    "    ```python\n",
    "    {\n",
    "        'a' : ['x','y','z'],\n",
    "        'b' : ['x','y','z']\n",
    "    }\n",
    "    ```\n",
    "1.  liste contenenti duplicati\n",
    "\n",
    "    ```python\n",
    "    {\n",
    "        'a' : ['x','y','y'],\n",
    "        'b' : ['z','y','z']\n",
    "    }\n",
    "    ```\n",
    "1.  tuple\n",
    "    ```python\n",
    "    {\n",
    "        'a': (6,9,7),\n",
    "        'b': (8,1,7,4)\n",
    "    }\n",
    "    ```\n",
    "1.  insiemi\n",
    "    ```python\n",
    "    {\n",
    "        'a' : {6,5,6},\n",
    "        'b' : {2,4,1,5}\n",
    "    }\n",
    "    ```\n",
    "1.  dizionari\n",
    "    ```python\n",
    "    {\n",
    "        'a': {\n",
    "                'x':3,\n",
    "                'y':9\n",
    "             },\n",
    "        'b': {\n",
    "                'x':3,\n",
    "                'y':9,\n",
    "                'z':10\n",
    "             },\n",
    "    }\n",
    "    ```"
   ]
  },
  {
   "cell_type": "raw",
   "id": "varying-library",
   "metadata": {
    "format": "text/html"
   },
   "source": [
    "<a  class=\"jupman-sol jupman-sol-toggler\" \n",
    " onclick=\"jupman.toggleSolution(this);\" \n",
    " data-jupman-show=\"Mostra risposta\" data-jupman-hide=\"Nascondi\">Mostra risposta</a><div class=\"jupman-sol jupman-sol-question\" style=\"display:none\">  "
   ]
  },
  {
   "cell_type": "markdown",
   "metadata": {},
   "source": [
    "**RISPOSTA**: Per i valori possiamo tranquillamente mettere quello che vogliamo, Python non si offenderà. In particolare nota come chiavi diverse possano avere lo stesso valore."
   ]
  },
  {
   "cell_type": "raw",
   "id": "reliable-return",
   "metadata": {
    "format": "text/html"
   },
   "source": [
    "</div>"
   ]
  },
  {
   "cell_type": "markdown",
   "metadata": {},
   "source": [
    "### Dizionario vuoto\n",
    "\n",
    "Possiamo creare un dizionario vuoto scrivendo `{}`:\n",
    "\n",
    "<div class=\"alert alert-warning\">\n",
    "\n",
    "**ATTENZIONE: DA NON CONFONDERSI CON L'**[INSIEME VUOTO](https://it.softpython.org/sets/sets-sol.html#Insieme-vuoto) !!\n",
    "\n",
    "</div>"
   ]
  },
  {
   "cell_type": "code",
   "execution_count": 16,
   "metadata": {},
   "outputs": [
    {
     "data": {
      "text/plain": [
       "{}"
      ]
     },
     "execution_count": 16,
     "metadata": {},
     "output_type": "execute_result"
    }
   ],
   "source": [
    "{}"
   ]
  },
  {
   "cell_type": "code",
   "execution_count": 17,
   "metadata": {},
   "outputs": [
    {
     "data": {
      "text/plain": [
       "dict"
      ]
     },
     "execution_count": 17,
     "metadata": {},
     "output_type": "execute_result"
    }
   ],
   "source": [
    "type({})"
   ]
  },
  {
   "cell_type": "markdown",
   "metadata": {},
   "source": [
    "Un dizionario è una collezione, e come già visto (con liste, tuple e insiemi), possiamo creare un dizionario vuoto scrivendo il suo tipo `dict` seguito da parentesi tonde:"
   ]
  },
  {
   "cell_type": "code",
   "execution_count": 18,
   "metadata": {},
   "outputs": [
    {
     "data": {
      "text/plain": [
       "{}"
      ]
     },
     "execution_count": 18,
     "metadata": {},
     "output_type": "execute_result"
    }
   ],
   "source": [
    "dict()"
   ]
  },
  {
   "cell_type": "markdown",
   "metadata": {},
   "source": [
    "Vediamo come viene rappresentato in Python Tutor: "
   ]
  },
  {
   "cell_type": "code",
   "execution_count": 19,
   "metadata": {},
   "outputs": [
    {
     "data": {
      "text/html": [
       "\n",
       "        <script src=\"../_static/js/pytutor-embed.bundle.min.js\" type=\"application/javascript\"></script>\n",
       "     \n",
       "        <script id=\"json-jm5103b262-751d-4d48-990b-799599074197\" type=\"application/json\" >\n",
       "            {\"code\": \" \\ndiz = dict()\", \"trace\": [{\"ordered_globals\": [], \"stack_to_render\": [], \"event\": \"step_line\", \"heap\": {}, \"globals\": {}, \"stdout\": \"\", \"func_name\": \"<module>\", \"line\": 2}, {\"ordered_globals\": [\"diz\"], \"stack_to_render\": [], \"event\": \"return\", \"heap\": {\"1\": [\"DICT\"]}, \"globals\": {\"diz\": [\"REF\", 1]}, \"stdout\": \"\", \"func_name\": \"<module>\", \"line\": 2}]}\n",
       "        </script>\n",
       "        <div id=\"jm5103b262-751d-4d48-990b-799599074197\" class=\"pytutorVisualizer\"> </div>\n",
       " \n",
       "        <style>\n",
       "        .vizLayoutTd {\n",
       "            background-color: #fff !important;\n",
       "        }\n",
       "\n",
       "        #pyStdout {            \n",
       "            min-height:25px;\n",
       "        }\n",
       "\n",
       "        /* 'Edit this code' link, hiding because replaces browser tab !!!*/\n",
       "        #editCodeLinkDiv {\n",
       "            display:none;  \n",
       "        }\n",
       "        </style>   \n",
       "                            \n",
       "        <script>\n",
       "        (function(){\n",
       "\n",
       "            var trace = JSON.parse(document.getElementById('json-jm5103b262-751d-4d48-990b-799599074197').innerHTML);                                        \n",
       "            // NOTE 1: id without #\n",
       "            // NOTE 2 - maybe there are more predictable ways, but this will work anyway\n",
       "            //        - id should be number\n",
       "            visualizerIdOverride = Math.trunc(Math.random() * 100000000000)\n",
       "            addVisualizerToPage(trace, 'jm5103b262-751d-4d48-990b-799599074197',{'embeddedMode' : false,\n",
       "                                             'visualizerIdOverride':visualizerIdOverride})  \n",
       "            \n",
       "            \n",
       "            // set overflow for pytuts - need to do in python as css \n",
       "            // does not allow parent selection\n",
       "            var pytuts = $('.pytutorVisualizer')\n",
       "            pytuts.closest('div.output_html.rendered_html.output_result')\n",
       "                    .css('overflow-x', 'visible')\n",
       "        \n",
       "            //pytuts.closest('div.output_html.rendered_html.output_result')\n",
       "            //      .css('background-color','red')                \n",
       "            \n",
       "        })()\n",
       "        </script>\n",
       "                \n",
       "                "
      ],
      "text/plain": [
       "<IPython.core.display.HTML object>"
      ]
     },
     "execution_count": 19,
     "metadata": {},
     "output_type": "execute_result"
    }
   ],
   "source": [
    "\n",
    "diz = dict()\n",
    "\n",
    "jupman.pytut()"
   ]
  },
  {
   "cell_type": "markdown",
   "metadata": {},
   "source": [
    "### Chiavi e valori eterogenei\n",
    "\n",
    "Finora abbiamo sempre usato chiavi tutte dello stesso tipo e valori tutti dello stesso tipo, ma non è obbligatorio. Basta che i tipi delle chiavi siano immutabili:"
   ]
  },
  {
   "cell_type": "code",
   "execution_count": 20,
   "metadata": {},
   "outputs": [
    {
     "data": {
      "text/plain": [
       "{7: ('questa', 'è', 'una', 'tupla'), 'a': 3, 'b': ['una', 'lista']}"
      ]
     },
     "execution_count": 20,
     "metadata": {},
     "output_type": "execute_result"
    }
   ],
   "source": [
    "{\n",
    "    \"a\": 3,  \n",
    "    \"b\": [\"una\", \"lista\"],\n",
    "     7 : (\"questa\",\"è\",\"una\",\"tupla\")\n",
    "}"
   ]
  },
  {
   "cell_type": "markdown",
   "metadata": {},
   "source": [
    "<div alert alert-info>\n",
    "**NOTA: Sebbene mischiare tipi sia possibile, è sconsigliabile!**\n",
    "    \n",
    "Buttare nel dizionario tipi diversi spesso porta sfortuna, nel senso che aumenta la probabilità di incorrere in bug.\n",
    "\n",
    "</div>"
   ]
  },
  {
   "cell_type": "markdown",
   "metadata": {},
   "source": [
    "**DOMANDA**: Guarda le seguenti espressioni, e per ciascuna cerca di indovinare quale risultato producono (o se danno errore):"
   ]
  },
  {
   "cell_type": "markdown",
   "metadata": {},
   "source": [
    "\n",
    "1.  ```python\n",
    "    {'a':'b'       ,\n",
    "     'c':'d'    \n",
    "     \n",
    "     }\n",
    "    ```\n",
    "1.  ```python\n",
    "    {'a b':'c',\n",
    "     'c d':'e f'}\n",
    "    ```\n",
    "1.  ```python\n",
    "    {'a' = 'c',\n",
    "     'b' = 'd'}\n",
    "    ```\n",
    "1.  ```python\n",
    "    {'a':'b':\n",
    "     'c':'d'}\n",
    "    ```\n",
    "1.  ```python\n",
    "    {\n",
    "        \"1\":[2,3],\n",
    "        \"2,3\":1,\n",
    "    }\n",
    "    ```    \n",
    "1.  ```python\n",
    "    type({'a:b,c:d'})\n",
    "    ```    \n",
    "1.  ```python    \n",
    "    {'a':'b';\n",
    "     'c':'d'}\n",
    "    ```\n",
    "1.  ```python    \n",
    "    {'a:b',\n",
    "     'c:d'}\n",
    "    ```\n",
    "1.  ```python    \n",
    "    {5,2:\n",
    "     4,5}\n",
    "    ```\n",
    "1.  ```python    \n",
    "    {1:2,\n",
    "     1:3}\n",
    "    ```\n",
    "1.  ```python    \n",
    "    {2:1,\n",
    "     3:1}\n",
    "    ```\n",
    "1.  ```python    \n",
    "    {'a':'b',\n",
    "     'c':'d',}\n",
    "    ```\n",
    "1.  ```python\n",
    "    type({'a','b',\n",
    "          'c','d'})\n",
    "    ```\n",
    "1.  ```python    \n",
    "    {'a':'b',\n",
    "     'c':'d',\n",
    "     'e','f'}\n",
    "    ```\n",
    "1.  ```python    \n",
    "    {{}: 2}\n",
    "    ```\n",
    "1.  ```python    \n",
    "    {(1,2):[3,4]}\n",
    "    ```\n",
    "1.  ```python    \n",
    "    {[1,2]:(3,4)}\n",
    "    ```\n",
    "1.  ```python    \n",
    "    {'[1,2]':(3,4)}\n",
    "    ```\n",
    "1.  ```python    \n",
    "    {{1,2}:(3,4)}\n",
    "    ```\n",
    "1.  ```python    \n",
    "    {len({1,2}):(3,4)}\n",
    "    ```\n",
    "1.  ```python    \n",
    "    {5:{'a':'b'}}\n",
    "    ```\n",
    "1.  ```python    \n",
    "    {\"a\":{1:2}}\n",
    "    ```\n",
    "1.  ```python    \n",
    "    {\"a\":{[1]:2}}\n",
    "    ```\n",
    "1.  ```python    \n",
    "    {\"a\":{1:[2]}}\n",
    "    ```\n",
    "1.  ```python    \n",
    "    {[\"a\":{1:[2]}]}\n",
    "    ```\n",
    "1.  ```python    \n",
    "    set([{2:4}])\n",
    "    ```"
   ]
  },
  {
   "cell_type": "markdown",
   "metadata": {},
   "source": [
    "## Dizionario da sequenza di coppie\n",
    "\n",
    "Possiamo ottenere un dizionario specificando come parametro della funzione `dict` una sequenza di coppie chiave/valore, per esempio potremmo passare una lista di tuple:"
   ]
  },
  {
   "cell_type": "code",
   "execution_count": 21,
   "metadata": {},
   "outputs": [
    {
     "data": {
      "text/plain": [
       "{'farina': 500, 'uova': 2, 'zucchero': 200}"
      ]
     },
     "execution_count": 21,
     "metadata": {},
     "output_type": "execute_result"
    }
   ],
   "source": [
    "dict(  [\n",
    "         ('farina',500),\n",
    "         ('uova',2),\n",
    "         ('zucchero',200),\n",
    "       ])"
   ]
  },
  {
   "cell_type": "markdown",
   "metadata": {},
   "source": [
    "Possiamo usare anche altre sequenze, l'importante è che le sottosequenze siano tutte da due elementi. Qua per esempio abbiamo una tupla di liste:"
   ]
  },
  {
   "cell_type": "code",
   "execution_count": 22,
   "metadata": {},
   "outputs": [
    {
     "data": {
      "text/plain": [
       "{'farina': 500, 'uova': 2, 'zucchero': 200}"
      ]
     },
     "execution_count": 22,
     "metadata": {},
     "output_type": "execute_result"
    }
   ],
   "source": [
    "dict(  (\n",
    "         ['farina',500],\n",
    "         ['uova',2],\n",
    "         ['zucchero',200],\n",
    "       ))"
   ]
  },
  {
   "cell_type": "markdown",
   "metadata": {},
   "source": [
    "Se una sottosequenza ha un numero di elementi diverso da due, otteniamo questo errore:"
   ]
  },
  {
   "cell_type": "markdown",
   "metadata": {},
   "source": [
    "```python\n",
    ">>> dict(  (\n",
    "         ['farina',500],\n",
    "         ['uova','marce', 3,],\n",
    "         ['zucchero',200],\n",
    "       ))\n",
    "\n",
    "---------------------------------------------------------------------------\n",
    "ValueError                                Traceback (most recent call last)\n",
    "<ipython-input-88-563d301b4aef> in <module>\n",
    "      2          ['farina',500],\n",
    "      3          ['uova','marce', 3,],\n",
    "----> 4          ['zucchero',200],\n",
    "      5        ))\n",
    "\n",
    "ValueError: dictionary update sequence element #1 has length 3; 2 is required\n",
    "\n",
    "\n",
    "```"
   ]
  },
  {
   "cell_type": "markdown",
   "metadata": {},
   "source": [
    "**DOMANDA**: Compara i seguenti codici. Fanno la stessa cosa? Se sì, quale preferiresti?\n",
    "\n",
    "```python\n",
    "dict( {\n",
    "        ('a',5), \n",
    "        ('b',8),\n",
    "        ('c',3)\n",
    "      } )\n",
    "\n",
    "```\n",
    "\n",
    "```python\n",
    "dict( (\n",
    "        {'a',5}, \n",
    "        {'b',8},\n",
    "        {'c',3}\n",
    "      ) \n",
    "    )\n",
    "```\n"
   ]
  },
  {
   "cell_type": "raw",
   "id": "irish-complement",
   "metadata": {
    "format": "text/html"
   },
   "source": [
    "<a  class=\"jupman-sol jupman-sol-toggler\" \n",
    " onclick=\"jupman.toggleSolution(this);\" \n",
    " data-jupman-show=\"Mostra risposta\" data-jupman-hide=\"Nascondi\">Mostra risposta</a><div class=\"jupman-sol jupman-sol-question\" style=\"display:none\">  "
   ]
  },
  {
   "cell_type": "markdown",
   "metadata": {},
   "source": [
    "**RISPOSTA**: I due codici NON producono lo stesso risultato, e dobbiamo decisamente preferire il primo.\n",
    "\n",
    "Sul nostro computer, abbiamo ottenuto questo:\n",
    "\n",
    "<div class=\"alert alert-warning\">\n",
    "    \n",
    "**ATTENZIONE: sul tuo computer potresti aver ottenuto risultati diversi!**\n",
    "</div>\n",
    "\n",
    "```python\n",
    "# primo\n",
    ">>> dict( {\n",
    "            ('a',5), \n",
    "            ('b',8),\n",
    "            ('c',3)} )\n",
    "\n",
    "{'b': 8, 'a': 5, 'c': 3}\n",
    "```\n",
    "\n",
    "```python\n",
    "# secondo\n",
    ">>> dict( (\n",
    "            {'a',5}, \n",
    "            {'b',8},\n",
    "            {'c',3}) )\n",
    "\n",
    "{'a': 5, 8: 'b', 3: 'c'}\n",
    "```\n",
    "\n",
    "Nel primo caso siamo partiti da un insieme di tuple: dato che è un insieme, gli elementi al suo interno sono memorizzati in un ordine che _non_ possiamo predire. Quando Python controlla le tuple all'interno, per ognuna ricava una coppia chiave/valore. Ora, dalla definizione di dizionario sappiamo che anche le chiavi di un dizionario sono memorizzate senza un ordine preciso. Quindi, non ha nessuna importanza inserire chiavi in un ordine piuttosto che un'altro, la cosa importante è mantenere la distinzione chiave/valore.  Nella stampa del dizionario vediamo le stesse coppie che gli abbiamo specificato, solo in ordine diverso.\n",
    "Le coppie giuste sono state create grazie al fatto che le tuple invece _sono_ ordinate.\n",
    "\n",
    "Nel secondo caso siamo invece partiti da una tupla di insiemi, quindi Python ha visitato gli elementi della tupla nello stesso ordine che vediamo, purtroppo specificando le coppie come insiemi non possiamo più essere sicuri dell'ordine in cui Python ha letto gli elementi all'interno degli insiemi. Sul nostro computer, con il primo insieme siamo stati fortunati e Python ha letto prima ``a`` e poi `5`, invece con gli altri insiemi ha letto prima il numero e poi il carattere! E sul tuo computer potresti aver ottenuto risultati completamente diversi !"
   ]
  },
  {
   "cell_type": "raw",
   "id": "rural-respect",
   "metadata": {
    "format": "text/html"
   },
   "source": [
    "</div>"
   ]
  },
  {
   "cell_type": "markdown",
   "metadata": {},
   "source": [
    "**DOMANDA**: Guarda i seguenti frammenti di codice, e per ciascuno cerca di indovinare quale risultato produce (o se da errore):\n",
    "\n",
    "\n",
    "1.  ```python\n",
    "    dict('abcd')\n",
    "    ```\n",
    "1.  ```python\n",
    "    dict(['ab','cd'])\n",
    "    ```\n",
    "1.  ```python    \n",
    "    dict(['a1','c2'])\n",
    "    ```\n",
    "1.  ```python    \n",
    "    dict([])\n",
    "    ```\n",
    "1.  ```python    \n",
    "    dict(())\n",
    "    ```\n",
    "1.  ```python    \n",
    "    dict(('  ',))   # nasty\n",
    "    ```"
   ]
  },
  {
   "cell_type": "markdown",
   "metadata": {},
   "source": [
    "## Dizionario da parametri con nome\n",
    "\n",
    "Come ulteriore metodo di creazione, possiamo specificare le chiavi come se fossero parametri con nome:"
   ]
  },
  {
   "cell_type": "code",
   "execution_count": 23,
   "metadata": {},
   "outputs": [
    {
     "data": {
      "text/plain": [
       "{'a': 5, 'b': 6}"
      ]
     },
     "execution_count": 23,
     "metadata": {},
     "output_type": "execute_result"
    }
   ],
   "source": [
    "dict(a=5,b=6)"
   ]
  },
  {
   "cell_type": "markdown",
   "metadata": {},
   "source": [
    "<div class=\"alert alert-warning\">\n",
    "\n",
    "**ATTENZIONE: in questo caso le chiavi sono soggette alle stesse restrittive regole dei nomi di parametri di funzione!**\n",
    "\n",
    "</div>\n",
    "\n",
    "Per esempio, usando le graffe questo dizionario è perfettamente legittimo:"
   ]
  },
  {
   "cell_type": "code",
   "execution_count": 24,
   "metadata": {},
   "outputs": [
    {
     "data": {
      "text/plain": [
       "{'a b': 2, 'c d': 6}"
      ]
     },
     "execution_count": 24,
     "metadata": {},
     "output_type": "execute_result"
    }
   ],
   "source": [
    "{'a b' : 2,\n",
    " 'c d' : 6}"
   ]
  },
  {
   "cell_type": "markdown",
   "metadata": {},
   "source": [
    "Ma se proviamo a crearlo usando `a b` come argomento di `dict`, avremo dei problemi:"
   ]
  },
  {
   "cell_type": "markdown",
   "metadata": {},
   "source": [
    "```python\n",
    ">>> dict(a b=2, c d=6)\n",
    "\n",
    "  File \"<ipython-input-97-444f8661585a>\", line 1\n",
    "    dict(a b=2, c d=6)\n",
    "           ^\n",
    "SyntaxError: invalid syntax\n",
    "```"
   ]
  },
  {
   "cell_type": "markdown",
   "metadata": {},
   "source": [
    "Avremo dei problemi anche usando stringhe:"
   ]
  },
  {
   "cell_type": "markdown",
   "metadata": {},
   "source": [
    "```python\n",
    ">>> dict('a b'=2,'c d'=6)\n",
    "\n",
    "  File \"<ipython-input-98-45aafbb56e81>\", line 1\n",
    "    dict('a b'=2,'c d'=6)\n",
    "        ^\n",
    "SyntaxError: keyword can't be an expression\n",
    "```\n"
   ]
  },
  {
   "cell_type": "markdown",
   "metadata": {},
   "source": [
    "E attenzione a furbate tipo usare variabili, non otterremo il risultato desiderato:"
   ]
  },
  {
   "cell_type": "code",
   "execution_count": 25,
   "metadata": {},
   "outputs": [
    {
     "data": {
      "text/plain": [
       "{'ka': 2, 'kc': 6}"
      ]
     },
     "execution_count": 25,
     "metadata": {},
     "output_type": "execute_result"
    }
   ],
   "source": [
    "ka = 'a b'\n",
    "kc = 'c d'\n",
    "\n",
    "dict(ka=2,kc=6)"
   ]
  },
  {
   "cell_type": "markdown",
   "metadata": {},
   "source": [
    "**DOMANDA**: Guarda i seguenti frammenti di codice, e per ciascuno cerca di indovinare quale risultato produce (o se da errore):\n",
    "\n",
    "    \n",
    "1.  ```python\n",
    "    dict(3=5,2=8)\n",
    "    ```\n",
    "1.  ```python    \n",
    "    dict('costi'=9,'ricavi'=15)\n",
    "    ```\n",
    "1.  ```python\n",
    "    dict(_costi=9,_ricavi=15)\n",
    "    ```\n",
    "1.  ```python    \n",
    "    dict(33trentini=5)\n",
    "    ```    \n",
    "1.  ```python    \n",
    "    dict(trentini33=5)\n",
    "    ```        \n",
    "1.  ```python    \n",
    "    dict(trentini_33=5)\n",
    "    ```        \n",
    "1.  ```python    \n",
    "    dict(trentini-33=5)\n",
    "    ```            \n",
    "1.  ```python    \n",
    "    dict(costi=1=2,ricavi=3=3)\n",
    "    ```\n",
    "1.  ```python    \n",
    "    dict(costi=1==2,ricavi=3==3)\n",
    "    ```\n",
    "1.  ```python\n",
    "    v1 = 6\n",
    "    v2 = 8\n",
    "    dict(k1=v1,k2=v2)\n",
    "    ```"
   ]
  },
  {
   "cell_type": "markdown",
   "metadata": {},
   "source": [
    "## Copiare un dizionario\n",
    "\n",
    "Ci sono due modi di copiare un dizionario, si può fare una copia _superficiale_ (_shallow copy_) oppure una _copia in profondità_ (_deep copy_). \n",
    "\n",
    "### Copia superficiale\n",
    "\n",
    "E' possibile creare una copia superficiale (_shallow copy_)  di un dizionario passando alla funzione `dict`  un'altro dizionario:"
   ]
  },
  {
   "cell_type": "code",
   "execution_count": 26,
   "metadata": {},
   "outputs": [],
   "source": [
    "da = {'x':3,\n",
    "      'y':5,\n",
    "      'z':1}"
   ]
  },
  {
   "cell_type": "code",
   "execution_count": 27,
   "metadata": {},
   "outputs": [],
   "source": [
    "db = dict(da)"
   ]
  },
  {
   "cell_type": "code",
   "execution_count": 28,
   "metadata": {},
   "outputs": [
    {
     "name": "stdout",
     "output_type": "stream",
     "text": [
      "{'x': 3, 'y': 5, 'z': 1}\n"
     ]
    }
   ],
   "source": [
    "print(da)"
   ]
  },
  {
   "cell_type": "code",
   "execution_count": 29,
   "metadata": {},
   "outputs": [
    {
     "name": "stdout",
     "output_type": "stream",
     "text": [
      "{'x': 3, 'y': 5, 'z': 1}\n"
     ]
    }
   ],
   "source": [
    "print(db)"
   ]
  },
  {
   "cell_type": "markdown",
   "metadata": {},
   "source": [
    "In Python Tutor vedremo apparire due regioni di memoria separate:"
   ]
  },
  {
   "cell_type": "code",
   "execution_count": 30,
   "metadata": {
    "scrolled": true
   },
   "outputs": [
    {
     "data": {
      "text/html": [
       "\n",
       "        <script src=\"../_static/js/pytutor-embed.bundle.min.js\" type=\"application/javascript\"></script>\n",
       "     \n",
       "        <script id=\"json-jm048b1022-681a-44f1-9c7b-807b13ebbac6\" type=\"application/json\" >\n",
       "            {\"code\": \" \\nda = {'x':3,\\n      'y':5,\\n      'z':1}\\ndb = dict(da)\", \"trace\": [{\"ordered_globals\": [], \"stack_to_render\": [], \"event\": \"step_line\", \"heap\": {}, \"globals\": {}, \"stdout\": \"\", \"func_name\": \"<module>\", \"line\": 2}, {\"ordered_globals\": [], \"stack_to_render\": [], \"event\": \"step_line\", \"heap\": {}, \"globals\": {}, \"stdout\": \"\", \"func_name\": \"<module>\", \"line\": 3}, {\"ordered_globals\": [], \"stack_to_render\": [], \"event\": \"step_line\", \"heap\": {}, \"globals\": {}, \"stdout\": \"\", \"func_name\": \"<module>\", \"line\": 4}, {\"ordered_globals\": [\"da\"], \"stack_to_render\": [], \"event\": \"step_line\", \"heap\": {\"1\": [\"DICT\", [\"x\", 3], [\"y\", 5], [\"z\", 1]]}, \"globals\": {\"da\": [\"REF\", 1]}, \"stdout\": \"\", \"func_name\": \"<module>\", \"line\": 5}, {\"ordered_globals\": [\"da\", \"db\"], \"stack_to_render\": [], \"event\": \"return\", \"heap\": {\"1\": [\"DICT\", [\"x\", 3], [\"y\", 5], [\"z\", 1]], \"2\": [\"DICT\", [\"x\", 3], [\"y\", 5], [\"z\", 1]]}, \"globals\": {\"db\": [\"REF\", 2], \"da\": [\"REF\", 1]}, \"stdout\": \"\", \"func_name\": \"<module>\", \"line\": 5}]}\n",
       "        </script>\n",
       "        <div id=\"jm048b1022-681a-44f1-9c7b-807b13ebbac6\" class=\"pytutorVisualizer\"> </div>\n",
       " \n",
       "        <style>\n",
       "        .vizLayoutTd {\n",
       "            background-color: #fff !important;\n",
       "        }\n",
       "\n",
       "        #pyStdout {            \n",
       "            min-height:25px;\n",
       "        }\n",
       "\n",
       "        /* 'Edit this code' link, hiding because replaces browser tab !!!*/\n",
       "        #editCodeLinkDiv {\n",
       "            display:none;  \n",
       "        }\n",
       "        </style>   \n",
       "                            \n",
       "        <script>\n",
       "        (function(){\n",
       "\n",
       "            var trace = JSON.parse(document.getElementById('json-jm048b1022-681a-44f1-9c7b-807b13ebbac6').innerHTML);                                        \n",
       "            // NOTE 1: id without #\n",
       "            // NOTE 2 - maybe there are more predictable ways, but this will work anyway\n",
       "            //        - id should be number\n",
       "            visualizerIdOverride = Math.trunc(Math.random() * 100000000000)\n",
       "            addVisualizerToPage(trace, 'jm048b1022-681a-44f1-9c7b-807b13ebbac6',{'embeddedMode' : false,\n",
       "                                             'visualizerIdOverride':visualizerIdOverride})  \n",
       "            \n",
       "            \n",
       "            // set overflow for pytuts - need to do in python as css \n",
       "            // does not allow parent selection\n",
       "            var pytuts = $('.pytutorVisualizer')\n",
       "            pytuts.closest('div.output_html.rendered_html.output_result')\n",
       "                    .css('overflow-x', 'visible')\n",
       "        \n",
       "            //pytuts.closest('div.output_html.rendered_html.output_result')\n",
       "            //      .css('background-color','red')                \n",
       "            \n",
       "        })()\n",
       "        </script>\n",
       "                \n",
       "                "
      ],
      "text/plain": [
       "<IPython.core.display.HTML object>"
      ]
     },
     "execution_count": 30,
     "metadata": {},
     "output_type": "execute_result"
    }
   ],
   "source": [
    "da = {'x':3,\n",
    "      'y':5,\n",
    "      'z':1}\n",
    "db = dict(da)\n",
    "\n",
    "jupman.pytut()"
   ]
  },
  {
   "cell_type": "markdown",
   "metadata": {},
   "source": [
    "**DOMANDA**: possiamo scrivere così? Rispetto all'esempio precedente, otterremo risultati diversi?"
   ]
  },
  {
   "cell_type": "code",
   "execution_count": 31,
   "metadata": {},
   "outputs": [
    {
     "data": {
      "text/html": [
       "\n",
       "        <script src=\"../_static/js/pytutor-embed.bundle.min.js\" type=\"application/javascript\"></script>\n",
       "     \n",
       "        <script id=\"json-jm3cba3a00-7ead-4d90-80bc-b3026c237e44\" type=\"application/json\" >\n",
       "            {\"code\": \" \\nda = {'x':3,\\n      'y':5,\\n      'z':1}\\ndb = dict(dict(da))\", \"trace\": [{\"ordered_globals\": [], \"stack_to_render\": [], \"event\": \"step_line\", \"heap\": {}, \"globals\": {}, \"stdout\": \"\", \"func_name\": \"<module>\", \"line\": 2}, {\"ordered_globals\": [], \"stack_to_render\": [], \"event\": \"step_line\", \"heap\": {}, \"globals\": {}, \"stdout\": \"\", \"func_name\": \"<module>\", \"line\": 3}, {\"ordered_globals\": [], \"stack_to_render\": [], \"event\": \"step_line\", \"heap\": {}, \"globals\": {}, \"stdout\": \"\", \"func_name\": \"<module>\", \"line\": 4}, {\"ordered_globals\": [\"da\"], \"stack_to_render\": [], \"event\": \"step_line\", \"heap\": {\"1\": [\"DICT\", [\"x\", 3], [\"y\", 5], [\"z\", 1]]}, \"globals\": {\"da\": [\"REF\", 1]}, \"stdout\": \"\", \"func_name\": \"<module>\", \"line\": 5}, {\"ordered_globals\": [\"da\", \"db\"], \"stack_to_render\": [], \"event\": \"return\", \"heap\": {\"1\": [\"DICT\", [\"x\", 3], [\"y\", 5], [\"z\", 1]], \"2\": [\"DICT\", [\"x\", 3], [\"y\", 5], [\"z\", 1]]}, \"globals\": {\"db\": [\"REF\", 2], \"da\": [\"REF\", 1]}, \"stdout\": \"\", \"func_name\": \"<module>\", \"line\": 5}]}\n",
       "        </script>\n",
       "        <div id=\"jm3cba3a00-7ead-4d90-80bc-b3026c237e44\" class=\"pytutorVisualizer\"> </div>\n",
       " \n",
       "        <style>\n",
       "        .vizLayoutTd {\n",
       "            background-color: #fff !important;\n",
       "        }\n",
       "\n",
       "        #pyStdout {            \n",
       "            min-height:25px;\n",
       "        }\n",
       "\n",
       "        /* 'Edit this code' link, hiding because replaces browser tab !!!*/\n",
       "        #editCodeLinkDiv {\n",
       "            display:none;  \n",
       "        }\n",
       "        </style>   \n",
       "                            \n",
       "        <script>\n",
       "        (function(){\n",
       "\n",
       "            var trace = JSON.parse(document.getElementById('json-jm3cba3a00-7ead-4d90-80bc-b3026c237e44').innerHTML);                                        \n",
       "            // NOTE 1: id without #\n",
       "            // NOTE 2 - maybe there are more predictable ways, but this will work anyway\n",
       "            //        - id should be number\n",
       "            visualizerIdOverride = Math.trunc(Math.random() * 100000000000)\n",
       "            addVisualizerToPage(trace, 'jm3cba3a00-7ead-4d90-80bc-b3026c237e44',{'embeddedMode' : false,\n",
       "                                             'visualizerIdOverride':visualizerIdOverride})  \n",
       "            \n",
       "            \n",
       "            // set overflow for pytuts - need to do in python as css \n",
       "            // does not allow parent selection\n",
       "            var pytuts = $('.pytutorVisualizer')\n",
       "            pytuts.closest('div.output_html.rendered_html.output_result')\n",
       "                    .css('overflow-x', 'visible')\n",
       "        \n",
       "            //pytuts.closest('div.output_html.rendered_html.output_result')\n",
       "            //      .css('background-color','red')                \n",
       "            \n",
       "        })()\n",
       "        </script>\n",
       "                \n",
       "                "
      ],
      "text/plain": [
       "<IPython.core.display.HTML object>"
      ]
     },
     "execution_count": 31,
     "metadata": {},
     "output_type": "execute_result"
    }
   ],
   "source": [
    "da = {'x':3,\n",
    "      'y':5,\n",
    "      'z':1}\n",
    "db = dict(dict(da))\n",
    "\n",
    "jupman.pytut()"
   ]
  },
  {
   "cell_type": "raw",
   "id": "thick-terry",
   "metadata": {
    "format": "text/html"
   },
   "source": [
    "<a  class=\"jupman-sol jupman-sol-toggler\" \n",
    " onclick=\"jupman.toggleSolution(this);\" \n",
    " data-jupman-show=\"Mostra risposta\" data-jupman-hide=\"Nascondi\">Mostra risposta</a><div class=\"jupman-sol jupman-sol-question\" style=\"display:none\">  "
   ]
  },
  {
   "cell_type": "markdown",
   "metadata": {},
   "source": [
    "**RISPOSTA**: Il codice produce gli stessi risultati dell'esempio precedente, per quanto non sia efficiente (verrà creato un dizionario temporaneo extra con la `dict` interna e immediatamente buttato via)"
   ]
  },
  {
   "cell_type": "raw",
   "id": "eleven-respect",
   "metadata": {
    "format": "text/html"
   },
   "source": [
    "</div>"
   ]
  },
  {
   "cell_type": "markdown",
   "metadata": {},
   "source": [
    "**Valori mutabili**: Nell'esempio abbiamo usato valori interi, che sono _immutabili_. E se provassimo dei valori _mutabili_ come delle liste, che succederebbe?"
   ]
  },
  {
   "cell_type": "code",
   "execution_count": 32,
   "metadata": {},
   "outputs": [
    {
     "data": {
      "text/html": [
       "\n",
       "        <script src=\"../_static/js/pytutor-embed.bundle.min.js\" type=\"application/javascript\"></script>\n",
       "     \n",
       "        <script id=\"json-jm6e3d2372-80b4-40fe-8afa-f2d9d78b8876\" type=\"application/json\" >\n",
       "            {\"code\": \" \\nda = {'x':['a','b','c'],\\n      'y':['d'],\\n      'z':['e','f']}\\ndb = dict(da)\", \"trace\": [{\"ordered_globals\": [], \"stack_to_render\": [], \"event\": \"step_line\", \"heap\": {}, \"globals\": {}, \"stdout\": \"\", \"func_name\": \"<module>\", \"line\": 2}, {\"ordered_globals\": [], \"stack_to_render\": [], \"event\": \"step_line\", \"heap\": {}, \"globals\": {}, \"stdout\": \"\", \"func_name\": \"<module>\", \"line\": 3}, {\"ordered_globals\": [], \"stack_to_render\": [], \"event\": \"step_line\", \"heap\": {}, \"globals\": {}, \"stdout\": \"\", \"func_name\": \"<module>\", \"line\": 4}, {\"ordered_globals\": [\"da\"], \"stack_to_render\": [], \"event\": \"step_line\", \"heap\": {\"1\": [\"DICT\", [\"x\", [\"REF\", 2]], [\"y\", [\"REF\", 3]], [\"z\", [\"REF\", 4]]], \"2\": [\"LIST\", \"a\", \"b\", \"c\"], \"3\": [\"LIST\", \"d\"], \"4\": [\"LIST\", \"e\", \"f\"]}, \"globals\": {\"da\": [\"REF\", 1]}, \"stdout\": \"\", \"func_name\": \"<module>\", \"line\": 5}, {\"ordered_globals\": [\"da\", \"db\"], \"stack_to_render\": [], \"event\": \"return\", \"heap\": {\"1\": [\"DICT\", [\"x\", [\"REF\", 2]], [\"y\", [\"REF\", 3]], [\"z\", [\"REF\", 4]]], \"2\": [\"LIST\", \"a\", \"b\", \"c\"], \"3\": [\"LIST\", \"d\"], \"4\": [\"LIST\", \"e\", \"f\"], \"5\": [\"DICT\", [\"x\", [\"REF\", 2]], [\"y\", [\"REF\", 3]], [\"z\", [\"REF\", 4]]]}, \"globals\": {\"db\": [\"REF\", 5], \"da\": [\"REF\", 1]}, \"stdout\": \"\", \"func_name\": \"<module>\", \"line\": 5}]}\n",
       "        </script>\n",
       "        <div id=\"jm6e3d2372-80b4-40fe-8afa-f2d9d78b8876\" class=\"pytutorVisualizer\"> </div>\n",
       " \n",
       "        <style>\n",
       "        .vizLayoutTd {\n",
       "            background-color: #fff !important;\n",
       "        }\n",
       "\n",
       "        #pyStdout {            \n",
       "            min-height:25px;\n",
       "        }\n",
       "\n",
       "        /* 'Edit this code' link, hiding because replaces browser tab !!!*/\n",
       "        #editCodeLinkDiv {\n",
       "            display:none;  \n",
       "        }\n",
       "        </style>   \n",
       "                            \n",
       "        <script>\n",
       "        (function(){\n",
       "\n",
       "            var trace = JSON.parse(document.getElementById('json-jm6e3d2372-80b4-40fe-8afa-f2d9d78b8876').innerHTML);                                        \n",
       "            // NOTE 1: id without #\n",
       "            // NOTE 2 - maybe there are more predictable ways, but this will work anyway\n",
       "            //        - id should be number\n",
       "            visualizerIdOverride = Math.trunc(Math.random() * 100000000000)\n",
       "            addVisualizerToPage(trace, 'jm6e3d2372-80b4-40fe-8afa-f2d9d78b8876',{'embeddedMode' : false,\n",
       "                                             'visualizerIdOverride':visualizerIdOverride})  \n",
       "            \n",
       "            \n",
       "            // set overflow for pytuts - need to do in python as css \n",
       "            // does not allow parent selection\n",
       "            var pytuts = $('.pytutorVisualizer')\n",
       "            pytuts.closest('div.output_html.rendered_html.output_result')\n",
       "                    .css('overflow-x', 'visible')\n",
       "        \n",
       "            //pytuts.closest('div.output_html.rendered_html.output_result')\n",
       "            //      .css('background-color','red')                \n",
       "            \n",
       "        })()\n",
       "        </script>\n",
       "                \n",
       "                "
      ],
      "text/plain": [
       "<IPython.core.display.HTML object>"
      ]
     },
     "execution_count": 32,
     "metadata": {},
     "output_type": "execute_result"
    }
   ],
   "source": [
    "da = {'x':['a','b','c'],\n",
    "      'y':['d'],\n",
    "      'z':['e','f']}\n",
    "db = dict(da)\n",
    "\n",
    "jupman.pytut()"
   ]
  },
  {
   "cell_type": "markdown",
   "metadata": {},
   "source": [
    "Se provi ad eseguire Python Tutor, vedrai un'esplosione di frecce che vanno dal nuovo dizionario `db` ai valori di `da` (che sono liste). Niente paura ! Nel prossimo foglio spiegheremo meglio il significato, per il momento tieni nota che **con la copia superficiale di valori mutabili il nuovo dizionario avrà in comune regioni di memoria con il dizionario originale.**"
   ]
  },
  {
   "cell_type": "markdown",
   "metadata": {},
   "source": [
    "### Copia in profondità\n",
    "\n",
    "Quando ci sono regioni di memoria mutabili condivise come nel caso qua sopra, è più probabile introdurre bug. \n",
    "\n",
    "Per aver regioni di memoria completamente separate, possiamo usare la _copia in profondità_ (_deep copy_).\n",
    "\n",
    "Per usarla, dobbiamo prima dire a Python che intendiamo usare funzioni presenti nel modulo `copy`, poi potremo usare la funzione `deepcopy`, a cui passeremo il dizionario da copiare:"
   ]
  },
  {
   "cell_type": "code",
   "execution_count": 33,
   "metadata": {},
   "outputs": [
    {
     "data": {
      "text/html": [
       "\n",
       "        <script src=\"../_static/js/pytutor-embed.bundle.min.js\" type=\"application/javascript\"></script>\n",
       "     \n",
       "        <script id=\"json-jmfcdfe01f-6224-4d1c-be9d-7231dc52c860\" type=\"application/json\" >\n",
       "            {\"code\": \" \\nimport copy\\n\\nda = {'x':['a','b','c'],\\n      'y':['d'],\\n      'z':['e','f']}\\ndb = copy.deepcopy(da)\", \"trace\": [{\"ordered_globals\": [], \"stack_to_render\": [], \"event\": \"step_line\", \"heap\": {}, \"globals\": {}, \"stdout\": \"\", \"func_name\": \"<module>\", \"line\": 2}, {\"ordered_globals\": [\"copy\"], \"stack_to_render\": [], \"event\": \"step_line\", \"heap\": {\"1\": [\"INSTANCE\", \"module\"]}, \"globals\": {\"copy\": [\"REF\", 1]}, \"stdout\": \"\", \"func_name\": \"<module>\", \"line\": 4}, {\"ordered_globals\": [\"copy\"], \"stack_to_render\": [], \"event\": \"step_line\", \"heap\": {\"1\": [\"INSTANCE\", \"module\"]}, \"globals\": {\"copy\": [\"REF\", 1]}, \"stdout\": \"\", \"func_name\": \"<module>\", \"line\": 5}, {\"ordered_globals\": [\"copy\"], \"stack_to_render\": [], \"event\": \"step_line\", \"heap\": {\"1\": [\"INSTANCE\", \"module\"]}, \"globals\": {\"copy\": [\"REF\", 1]}, \"stdout\": \"\", \"func_name\": \"<module>\", \"line\": 6}, {\"ordered_globals\": [\"copy\", \"da\"], \"stack_to_render\": [], \"event\": \"step_line\", \"heap\": {\"1\": [\"INSTANCE\", \"module\"], \"2\": [\"DICT\", [\"x\", [\"REF\", 3]], [\"y\", [\"REF\", 4]], [\"z\", [\"REF\", 5]]], \"3\": [\"LIST\", \"a\", \"b\", \"c\"], \"4\": [\"LIST\", \"d\"], \"5\": [\"LIST\", \"e\", \"f\"]}, \"globals\": {\"copy\": [\"REF\", 1], \"da\": [\"REF\", 2]}, \"stdout\": \"\", \"func_name\": \"<module>\", \"line\": 7}, {\"ordered_globals\": [\"copy\", \"da\", \"db\"], \"stack_to_render\": [], \"event\": \"return\", \"heap\": {\"1\": [\"INSTANCE\", \"module\"], \"2\": [\"DICT\", [\"x\", [\"REF\", 3]], [\"y\", [\"REF\", 4]], [\"z\", [\"REF\", 5]]], \"3\": [\"LIST\", \"a\", \"b\", \"c\"], \"4\": [\"LIST\", \"d\"], \"5\": [\"LIST\", \"e\", \"f\"], \"6\": [\"DICT\", [\"x\", [\"REF\", 7]], [\"y\", [\"REF\", 8]], [\"z\", [\"REF\", 9]]], \"7\": [\"LIST\", \"a\", \"b\", \"c\"], \"8\": [\"LIST\", \"d\"], \"9\": [\"LIST\", \"e\", \"f\"]}, \"globals\": {\"db\": [\"REF\", 6], \"copy\": [\"REF\", 1], \"da\": [\"REF\", 2]}, \"stdout\": \"\", \"func_name\": \"<module>\", \"line\": 7}]}\n",
       "        </script>\n",
       "        <div id=\"jmfcdfe01f-6224-4d1c-be9d-7231dc52c860\" class=\"pytutorVisualizer\"> </div>\n",
       " \n",
       "        <style>\n",
       "        .vizLayoutTd {\n",
       "            background-color: #fff !important;\n",
       "        }\n",
       "\n",
       "        #pyStdout {            \n",
       "            min-height:25px;\n",
       "        }\n",
       "\n",
       "        /* 'Edit this code' link, hiding because replaces browser tab !!!*/\n",
       "        #editCodeLinkDiv {\n",
       "            display:none;  \n",
       "        }\n",
       "        </style>   \n",
       "                            \n",
       "        <script>\n",
       "        (function(){\n",
       "\n",
       "            var trace = JSON.parse(document.getElementById('json-jmfcdfe01f-6224-4d1c-be9d-7231dc52c860').innerHTML);                                        \n",
       "            // NOTE 1: id without #\n",
       "            // NOTE 2 - maybe there are more predictable ways, but this will work anyway\n",
       "            //        - id should be number\n",
       "            visualizerIdOverride = Math.trunc(Math.random() * 100000000000)\n",
       "            addVisualizerToPage(trace, 'jmfcdfe01f-6224-4d1c-be9d-7231dc52c860',{'embeddedMode' : false,\n",
       "                                             'visualizerIdOverride':visualizerIdOverride})  \n",
       "            \n",
       "            \n",
       "            // set overflow for pytuts - need to do in python as css \n",
       "            // does not allow parent selection\n",
       "            var pytuts = $('.pytutorVisualizer')\n",
       "            pytuts.closest('div.output_html.rendered_html.output_result')\n",
       "                    .css('overflow-x', 'visible')\n",
       "        \n",
       "            //pytuts.closest('div.output_html.rendered_html.output_result')\n",
       "            //      .css('background-color','red')                \n",
       "            \n",
       "        })()\n",
       "        </script>\n",
       "                \n",
       "                "
      ],
      "text/plain": [
       "<IPython.core.display.HTML object>"
      ]
     },
     "execution_count": 33,
     "metadata": {},
     "output_type": "execute_result"
    }
   ],
   "source": [
    "import copy\n",
    "\n",
    "da = {'x':['a','b','c'],\n",
    "      'y':['d'],\n",
    "      'z':['e','f']}\n",
    "db = copy.deepcopy(da)\n",
    "\n",
    "jupman.pytut()"
   ]
  },
  {
   "cell_type": "markdown",
   "metadata": {},
   "source": [
    "Se esegui il codice in Python Tutor, noterai come partendo con la freccia da `db`, finiremo in una regione di memoria arancione/gialla  completamente nuova che non condivide nulla con la regione di memoria puntata da `da`."
   ]
  },
  {
   "cell_type": "markdown",
   "metadata": {},
   "source": [
    "**DOMANDA**:  Guarda il codice seguente - dopo la sua esecuzione, vedrai frecce che da `db` arrivano ad elementi di `da`?"
   ]
  },
  {
   "cell_type": "code",
   "execution_count": 34,
   "metadata": {},
   "outputs": [
    {
     "data": {
      "text/html": [
       "\n",
       "        <script src=\"../_static/js/pytutor-embed.bundle.min.js\" type=\"application/javascript\"></script>\n",
       "     \n",
       "        <script id=\"json-jmf82f6f16-563a-46e7-b3cc-c7a461e78398\" type=\"application/json\" >\n",
       "            {\"code\": \" \\nda = {'x': {1,2,3},\\n      'y': {4,5}}\\ndb = dict(da)\", \"trace\": [{\"ordered_globals\": [], \"stack_to_render\": [], \"event\": \"step_line\", \"heap\": {}, \"globals\": {}, \"stdout\": \"\", \"func_name\": \"<module>\", \"line\": 2}, {\"ordered_globals\": [], \"stack_to_render\": [], \"event\": \"step_line\", \"heap\": {}, \"globals\": {}, \"stdout\": \"\", \"func_name\": \"<module>\", \"line\": 3}, {\"ordered_globals\": [\"da\"], \"stack_to_render\": [], \"event\": \"step_line\", \"heap\": {\"1\": [\"DICT\", [\"x\", [\"REF\", 2]], [\"y\", [\"REF\", 3]]], \"2\": [\"SET\", 1, 2, 3], \"3\": [\"SET\", 4, 5]}, \"globals\": {\"da\": [\"REF\", 1]}, \"stdout\": \"\", \"func_name\": \"<module>\", \"line\": 4}, {\"ordered_globals\": [\"da\", \"db\"], \"stack_to_render\": [], \"event\": \"return\", \"heap\": {\"1\": [\"DICT\", [\"x\", [\"REF\", 2]], [\"y\", [\"REF\", 3]]], \"2\": [\"SET\", 1, 2, 3], \"3\": [\"SET\", 4, 5], \"4\": [\"DICT\", [\"x\", [\"REF\", 2]], [\"y\", [\"REF\", 3]]]}, \"globals\": {\"db\": [\"REF\", 4], \"da\": [\"REF\", 1]}, \"stdout\": \"\", \"func_name\": \"<module>\", \"line\": 4}]}\n",
       "        </script>\n",
       "        <div id=\"jmf82f6f16-563a-46e7-b3cc-c7a461e78398\" class=\"pytutorVisualizer\"> </div>\n",
       " \n",
       "        <style>\n",
       "        .vizLayoutTd {\n",
       "            background-color: #fff !important;\n",
       "        }\n",
       "\n",
       "        #pyStdout {            \n",
       "            min-height:25px;\n",
       "        }\n",
       "\n",
       "        /* 'Edit this code' link, hiding because replaces browser tab !!!*/\n",
       "        #editCodeLinkDiv {\n",
       "            display:none;  \n",
       "        }\n",
       "        </style>   \n",
       "                            \n",
       "        <script>\n",
       "        (function(){\n",
       "\n",
       "            var trace = JSON.parse(document.getElementById('json-jmf82f6f16-563a-46e7-b3cc-c7a461e78398').innerHTML);                                        \n",
       "            // NOTE 1: id without #\n",
       "            // NOTE 2 - maybe there are more predictable ways, but this will work anyway\n",
       "            //        - id should be number\n",
       "            visualizerIdOverride = Math.trunc(Math.random() * 100000000000)\n",
       "            addVisualizerToPage(trace, 'jmf82f6f16-563a-46e7-b3cc-c7a461e78398',{'embeddedMode' : false,\n",
       "                                             'visualizerIdOverride':visualizerIdOverride})  \n",
       "            \n",
       "            \n",
       "            // set overflow for pytuts - need to do in python as css \n",
       "            // does not allow parent selection\n",
       "            var pytuts = $('.pytutorVisualizer')\n",
       "            pytuts.closest('div.output_html.rendered_html.output_result')\n",
       "                    .css('overflow-x', 'visible')\n",
       "        \n",
       "            //pytuts.closest('div.output_html.rendered_html.output_result')\n",
       "            //      .css('background-color','red')                \n",
       "            \n",
       "        })()\n",
       "        </script>\n",
       "                \n",
       "                "
      ],
      "text/plain": [
       "<IPython.core.display.HTML object>"
      ]
     },
     "execution_count": 34,
     "metadata": {},
     "output_type": "execute_result"
    }
   ],
   "source": [
    "da = {'x': {1,2,3},\n",
    "      'y': {4,5}}\n",
    "db = dict(da)\n",
    "jupman.pytut()"
   ]
  },
  {
   "cell_type": "raw",
   "id": "exterior-spain",
   "metadata": {
    "format": "text/html"
   },
   "source": [
    "<a  class=\"jupman-sol jupman-sol-toggler\" \n",
    " onclick=\"jupman.toggleSolution(this);\" \n",
    " data-jupman-show=\"Mostra risposta\" data-jupman-hide=\"Nascondi\">Mostra risposta</a><div class=\"jupman-sol jupman-sol-question\" style=\"display:none\">  "
   ]
  },
  {
   "cell_type": "markdown",
   "metadata": {},
   "source": [
    "**RISPOSTA**: La risposta è sì, perchè come valori del dizionario abbiamo usato insiemi che sono mutabili."
   ]
  },
  {
   "cell_type": "raw",
   "id": "whole-breeding",
   "metadata": {
    "format": "text/html"
   },
   "source": [
    "</div>"
   ]
  },
  {
   "cell_type": "markdown",
   "metadata": {},
   "source": [
    "## Prosegui\n",
    "\n",
    "Prosegui con [Dizionari 2](https://it.softpython.org/dictionaries/dictionaries2-sol.html)"
   ]
  },
  {
   "cell_type": "code",
   "execution_count": null,
   "metadata": {},
   "outputs": [],
   "source": []
  }
 ],
 "metadata": {
  "celltoolbar": "Edit Metadata",
  "kernelspec": {
   "display_name": "Python 3",
   "language": "python",
   "name": "python3"
  },
  "language_info": {
   "codemirror_mode": {
    "name": "ipython",
    "version": 3
   },
   "file_extension": ".py",
   "mimetype": "text/x-python",
   "name": "python",
   "nbconvert_exporter": "python",
   "pygments_lexer": "ipython3",
   "version": "3.7.9"
  },
  "toc": {
   "base_numbering": 1,
   "nav_menu": {},
   "number_sections": false,
   "sideBar": true,
   "skip_h1_title": false,
   "title_cell": "Table of Contents",
   "title_sidebar": "Contents",
   "toc_cell": false,
   "toc_position": {
    "height": "calc(100% - 180px)",
    "left": "10px",
    "top": "150px",
    "width": "342px"
   },
   "toc_section_display": true,
   "toc_window_display": true
  }
 },
 "nbformat": 4,
 "nbformat_minor": 2
}
