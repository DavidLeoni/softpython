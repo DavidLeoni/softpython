{
 "cells": [
  {
   "cell_type": "markdown",
   "metadata": {},
   "source": [
    "# Web development\n",
    "\n",
    "\n",
    "## [Scarica zip esercizi](../_static/generated/web.zip)\n",
    "\n",
    "[Naviga file online](https://github.com/DavidLeoni/softpython-it/tree/master/web)\n"
   ]
  },
  {
   "cell_type": "markdown",
   "metadata": {},
   "source": [
    "## Introduzione\n",
    "\n",
    "In questi esempi cercheremo di costruirci un piccolo server web, con librerie standard di Python.\n",
    "\n",
    "<div class=\"alert alert-warning\">\n",
    "\n",
    "**ATTENZIONE**: Tutorial sperimentale e incompleto!\n",
    "\n",
    "Questo tutorial crea un sito web DA ZERO: ci sono modi più semplici di realizzare una webapp direttamente con Jupyter, per farlo segui prima il tutorial [Interfacce utente](https://it.softpython.org/gui/gui-sol.html)\n",
    "</div>\n",
    "\n"
   ]
  },
  {
   "cell_type": "markdown",
   "metadata": {},
   "source": [
    "### Che fare\n",
    "\n",
    "\n",
    "- scompatta lo zip in una cartella, dovresti ottenere qualcosa del genere: \n",
    "\n",
    "```\n",
    "\n",
    "web\n",
    "    _static\n",
    "        esempio.txt\n",
    "    web.ipynb     \n",
    "    web-sol.ipynb     \n",
    "    jupman.py         \n",
    "```\n",
    "\n",
    "<div class=\"alert alert-warning\">\n",
    "\n",
    "**ATTENZIONE**: Per essere visualizzato correttamente, il file del notebook DEVE essere nella cartella szippata.\n",
    "</div>\n",
    "\n",
    "- apri il Jupyter Notebook da quella cartella. Due cose dovrebbero aprirsi, prima una console e poi un browser. Il browser dovrebbe mostrare una lista di file: naviga la lista e apri il notebook `web.ipynb`\n",
    "- Prosegui leggendo il file degli esercizi, ogni tanto al suo interno troverai delle scritte **ESERCIZIO**, che ti chiederanno di scrivere dei comandi Python nelle celle successive. \n",
    "\n",
    "Scorciatoie da tastiera:\n",
    "\n",
    "* Per eseguire il codice Python dentro una cella di Jupyter, premi `Control+Invio`\n",
    "* Per eseguire il codice Python dentro una cella di Jupyter E selezionare la cella seguente, premi `Shift+Invio`\n",
    "* Per eseguire il codice Python dentro una cella di Jupyter E creare una nuova cella subito dopo, premi `Alt+Invio`\n",
    "* Se per caso il Notebook sembra inchiodato, prova a selezionare `Kernel -> Restart`\n",
    "\n"
   ]
  },
  {
   "cell_type": "markdown",
   "metadata": {},
   "source": [
    "\n",
    "## Struttura del sito\n",
    "\n",
    "Si suppone che tutti i file html, css, js etc vadano nella directory `_static`\n",
    "\n",
    "In `web_server.py` trovi il codice del server.\n",
    "\n",
    "\n",
    "## Facciamo partire il server\n",
    "\n",
    "Apri Anaconda Prompt: per istruzioni su come trovarlo (o se non hai idea di cosa sia!), prima di proseguire [leggi sezione interprete Python nell'introduzione](https://it.softpython.org/intro/intro-sol.html#L'interprete-Python)\n",
    "\n",
    "Una volta nella console del Prompt dei comandi (che è una finestra nera dove puoi immettere comandi testuali per il sistema operativo),  raggiungi la cartella `web`\n",
    "\n",
    "(per vedere in che cartella sei, scrivi `dir`, per entrare in una cartella che si chiama CARTELLA, scrivi `cd CARTELLA`)\n",
    "\n",
    "Una volta nella cartella `web`, scrivi \n",
    "\n",
    "```\n",
    "python web_server.py\n",
    "```\n",
    "\n",
    "(Se non parte metti `3` dopo `python` prova `python3 web_server.py` \n",
    "\n",
    "Dovrebbero apparire le scritte\n",
    "\n",
    "```\n",
    "starting server...\n",
    "running server...\n",
    "\n",
    "```\n",
    "\n",
    "Per spegnere il server, premi `Control-C`. Lo spegne in malo modo ma va bene lo stesso:\n",
    "\n",
    "```\n",
    "CTraceback (most recent call last):\n",
    "  File \"web_server.py\", line 99, in <module>\n",
    "    run()\n",
    "  File \"web_server.py\", line 97, in run\n",
    "    httpd.serve_forever()\n",
    "  File \"/usr/lib/python3.5/socketserver.py\", line 232, in serve_forever\n",
    "    ready = selector.select(poll_interval)\n",
    "  File \"/usr/lib/python3.5/selectors.py\", line 376, in select\n",
    "    fd_event_list = self._poll.poll(timeout)\n",
    "KeyboardInterrupt\n",
    "\n",
    "```\n",
    "\n"
   ]
  },
  {
   "cell_type": "markdown",
   "metadata": {},
   "source": [
    "## Proviamo il server\n",
    "\n",
    "\n",
    "### Contenuti dinamici\n",
    "\n",
    "Assicurati che il server sia in funzione. Una volta che è partito, nel browser prova ad andare all'indirizzo \n",
    "\n",
    "`http://localhost:8081/din/saluta`\n",
    "\n",
    "\n",
    "Nel browser dovrebbe apparire la scritta `Hello world`\n",
    "\n",
    "Questo è un esempio di contenuto generato _dinamicamente_. In questo esempio, accederemo a tutti i contenuti dinamici con indirizzi che contengono `/dir/`\n",
    "\n"
   ]
  },
  {
   "cell_type": "markdown",
   "metadata": {},
   "source": [
    "### Contenuti statici\n",
    "\n",
    "Proviamo ad accedere al file `_static/esempio.txt`\n",
    "\n",
    "Nel browser, vai all'indirizzo http://localhost:8081/esempio.txt\n",
    "\n",
    "Il server dovrebbe cercare il file `_static/esempio.txt`, leggerlo e mandarlo al browser. Nel browser dovrebbe apparire il contenuto del file d'esempio, cioè:\n",
    "\n",
    "```\n",
    "Abracadabra \n",
    "```\n",
    "\n",
    "\n"
   ]
  },
  {
   "cell_type": "markdown",
   "metadata": {},
   "source": [
    "### Struttura del codice\n",
    "\n",
    "Nel file `web_server.py`, ci sono due funzioni, `get_dinamico(self)` e `get_statico(self)`. Probabilmente dovrai lavorare solo su `get_dinamico(self)`\n",
    "\n"
   ]
  },
  {
   "cell_type": "markdown",
   "metadata": {},
   "source": [
    "## Come parsare il path per estrarre parametri\n",
    "\n",
    "Abbiamo visto come generare contenuti dinamici in base al path passato nel browser. Però se vogliamo implementare una ricerca, come `/din/ricerca` dovremo passare dei parametri come il testo e eventualmente il valore di altri filtri. Come facciamo? Lascio qua sotto un'idea di come fare il cosiddetto _parsing dei parametri_. \n",
    "\n",
    "\n",
    "```\n",
    "\n",
    "# se self.path =  '/saluta?param1=hello&param2=mondo'\n",
    "\n",
    "# questo codice va all'inizio della do_GET\n",
    "\n",
    "from urllib.parse import urlparse\n",
    "query = urlparse(self.path).query\n",
    "query_components = dict(qc.split(\"=\") for qc in query.split(\"&\"))\n",
    "# param1 = query_components[\"param1\"]\n",
    "# query_components = { \"param1\" : \"Hello\",\n",
    "                       \"param2\" : \"mondo\" }\n",
    "# print(param1)  # Hello \n",
    "\n",
    "```"
   ]
  },
  {
   "cell_type": "raw",
   "id": "written-ozone",
   "metadata": {
    "format": "text/html"
   },
   "source": [
    "<a  class=\"jupman-sol jupman-sol-toggler\" \n",
    " onclick=\"jupman.toggleSolution(this);\" \n",
    " data-jupman-show=\"Mostra soluzione\" data-jupman-hide=\"Nascondi\">Mostra soluzione</a><div class=\"jupman-sol jupman-sol-code\" style=\"display:none\">  "
   ]
  },
  {
   "cell_type": "code",
   "execution_count": 2,
   "metadata": {},
   "outputs": [],
   "source": [
    "# scrivi qui\n"
   ]
  },
  {
   "cell_type": "raw",
   "id": "unlikely-leisure",
   "metadata": {
    "format": "text/html"
   },
   "source": [
    "</div>"
   ]
  },
  {
   "cell_type": "code",
   "execution_count": 2,
   "metadata": {},
   "outputs": [],
   "source": [
    "# scrivi qui\n",
    "\n"
   ]
  },
  {
   "cell_type": "code",
   "execution_count": null,
   "metadata": {},
   "outputs": [],
   "source": []
  }
 ],
 "metadata": {
  "kernelspec": {
   "display_name": "Python 3",
   "language": "python",
   "name": "python3"
  },
  "language_info": {
   "codemirror_mode": {
    "name": "ipython",
    "version": 3
   },
   "file_extension": ".py",
   "mimetype": "text/x-python",
   "name": "python",
   "nbconvert_exporter": "python",
   "pygments_lexer": "ipython3",
   "version": "3.5.2"
  },
  "toc": {
   "base_numbering": 1,
   "nav_menu": {},
   "number_sections": false,
   "sideBar": true,
   "skip_h1_title": false,
   "title_cell": "Table of Contents",
   "title_sidebar": "Contents",
   "toc_cell": false,
   "toc_position": {},
   "toc_section_display": true,
   "toc_window_display": false
  }
 },
 "nbformat": 4,
 "nbformat_minor": 2
}
