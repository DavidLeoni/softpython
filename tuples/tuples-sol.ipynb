{
 "cells": [
  {
   "cell_type": "markdown",
   "metadata": {},
   "source": [
    "# Tuple\n",
    "\n",
    "## [Scarica zip esercizi](../_static/generated/tuples.zip)\n",
    "\n",
    "[Naviga file online](https://github.com/DavidLeoni/softpython/tree/master/tuples)\n",
    "\n",
    "\n",
    "## Introduzione\n",
    "\n",
    "Una lista in Python è una sequenza di elementi eterogenei, in cui possiamo mettere gli oggetti che vogliamo.\n",
    "\n",
    "<div class=\"alert alert-warning\">\n",
    "\n",
    "**ATTENZIONE**\n",
    "\n",
    "**Questi esercizi sulle stringhe sono integrativi a quelli già indicati nel** [Materiale del corso](https://softpython.readthedocs.io/it/latest/intro.html#Materiale-del-corso).\n",
    "\n",
    "**Per capire come svolgerli, leggi prima** [Introduzione a Python](https://softpython.readthedocs.io/it/latest/intro/intro-sol.html) \n",
    "</div>\n",
    "\n",
    "**Riferimenti**\n",
    "\n",
    "- [Pensare in Python, Capitolo 10, Liste](https://davidleoni.github.io/ThinkPythonItalian/html/thinkpython2011.html) Esercizi 10.1, 10.2, 10.3, 10.4, 10.5, 10.6, 10.7\n",
    "- [Nicola Cassetta, Lezione 11, Liste](http://ncassetta.altervista.org/Tutorial_Python/Lezione_11.html) In particolare esercizio 11.1 e 11.2\n"
   ]
  },
  {
   "cell_type": "markdown",
   "metadata": {},
   "source": [
    "### Che fare\n",
    "\n",
    "- scompatta lo zip in una cartella, dovresti ottenere qualcosa del genere: \n",
    "\n",
    "```\n",
    "\n",
    "tuples\n",
    "    tuples.ipynb\n",
    "    tuples-sol.ipynb\n",
    "    jupman.py         \n",
    "```\n",
    "\n",
    "<div class=\"alert alert-warning\">\n",
    "\n",
    "**ATTENZIONE**: Per essere visualizzato correttamente, il file del notebook DEVE essere nella cartella szippata.\n",
    "</div>\n",
    "\n",
    "- apri il Jupyter Notebook da quella cartella. Due cose dovrebbero aprirsi, prima una console e poi un browser. Il browser dovrebbe mostrare una lista di file: naviga la lista e apri il notebook `tuples.ipynb`\n",
    "- Prosegui leggendo il file degli esercizi, ogni tanto al suo interno troverai delle scritte **DA FARE**, che ti chiederanno di scrivere dei comandi Python nelle celle successive. Gli esercizi sono graduati per difficoltà, da una stellina ✪ a quattro ✪✪✪✪\n",
    "\n",
    "\n",
    "<div class=\"alert alert-warning\">\n",
    "\n",
    "**ATTENZIONE**: Ricordati di eseguire sempre la prima cella dentro il notebook. Contiene delle istruzioni come `import jupman` che dicono a Python quali moduli servono e dove trovarli. Per eseguirla, vedi le seguenti scorciatoie\n",
    "</div>\n",
    "\n",
    "\n",
    "\n",
    "Scorciatoie da tastiera:\n",
    "\n",
    "* Per eseguire il codice Python dentro una cella di Jupyter, premi `Control+Invio`\n",
    "* Per eseguire il codice Python dentro una cella di Jupyter E selezionare la cella seguente, premi `Shift+Invio`\n",
    "* Per eseguire il codice Python dentro una cella di Jupyter E creare una nuova cella subito dopo, premi `Alt+Invio`\n",
    "* Se per caso il Notebook sembra inchiodato, prova a selezionare `Kernel -> Restart`\n",
    "\n"
   ]
  },
  {
   "cell_type": "markdown",
   "metadata": {},
   "source": [
    "## Verifica comprensione\n",
    "\n",
    "<div class=\"alert alert-warning\">\n",
    "\n",
    "**ATTENZIONE**\n",
    "\n",
    "Gli esercizi che segueno contengono dei test con gli _assert_. Per capire come svolgerli, leggi prima [Gestione errori e testing](https://softpython.readthedocs.io/it/latest/errors-and-testing/errors-and-testing-sol.html) \n",
    "\n",
    "</div>\n"
   ]
  },
  {
   "cell_type": "markdown",
   "metadata": {},
   "source": [
    "\n",
    "### doppie\n",
    "\n",
    "✪✪ Prende in input una lista con `n` numeri interi, e RITORNA una NUOVA lista che \n",
    "contiene `n` tuple ciascuna da due elementi. Ogni tupla contiene un numero \n",
    "preso dalla corrispondente posizione della lista di partenza, e il suo doppio. \n",
    "\n",
    "Per esempio:\n",
    "\n",
    "```python\n",
    "doppie([ 5, 3, 8])\n",
    "```\n",
    "\n",
    "deve dare la nuova lista\n",
    "\n",
    "```python\n",
    "[(5,10), (3,6), (8,16)]\n",
    "```\n",
    "\n",
    "\n"
   ]
  },
  {
   "cell_type": "code",
   "execution_count": 1,
   "metadata": {},
   "outputs": [],
   "source": [
    "def doppie(lista):\n",
    "    #jupman-raise\n",
    "    ret = []\n",
    "    for elemento in lista:\n",
    "        ret.append((elemento, elemento * 2))\n",
    "    return ret\n",
    "    #/jupman-raise\n",
    "\n",
    "# INIZIO TEST - NON TOCCARE !\n",
    "assert doppie([]) == []\n",
    "assert doppie([3]) == [(3,6)]\n",
    "assert doppie([2,7]) == [(2,4),(7,14)]\n",
    "assert doppie([5,3,8]) == [(5,10), (3,6), (8,16)]\n",
    "\n",
    "# verifica che la lista originale non venga cambiata \n",
    "la = [6]\n",
    "lb = doppie(la)\n",
    "assert la == [6]\n",
    "assert lb == [(6,12)]\n",
    "# FINE TEST"
   ]
  }
 ],
 "metadata": {
  "kernelspec": {
   "display_name": "Python 3",
   "language": "python",
   "name": "python3"
  },
  "language_info": {
   "codemirror_mode": {
    "name": "ipython",
    "version": 3
   },
   "file_extension": ".py",
   "mimetype": "text/x-python",
   "name": "python",
   "nbconvert_exporter": "python",
   "pygments_lexer": "ipython3",
   "version": "3.7.3"
  },
  "toc": {
   "base_numbering": 1,
   "nav_menu": {},
   "number_sections": false,
   "sideBar": true,
   "skip_h1_title": false,
   "title_cell": "Table of Contents",
   "title_sidebar": "Contents",
   "toc_cell": false,
   "toc_position": {},
   "toc_section_display": true,
   "toc_window_display": true
  }
 },
 "nbformat": 4,
 "nbformat_minor": 2
}
