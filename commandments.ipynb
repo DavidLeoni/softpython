{
 "cells": [
  {
   "cell_type": "markdown",
   "metadata": {},
   "source": [
    "# Comandamenti\n",
    "\n"
   ]
  },
  {
   "cell_type": "markdown",
   "metadata": {},
   "source": [
    "Il Comitato Supremo per la Dottrina del Coding ha emanato importanti comandamenti che seguirai scrupolosamente.\n",
    "\n",
    "Se accetti le loro sagge parole, diventerai un veri Jedi Python.\n"
   ]
  },
  {
   "cell_type": "markdown",
   "metadata": {},
   "source": [
    "<div class=\"alert alert-warning\">\n",
    "\n",
    "**ATTENZIONE**:  se non segui i Comandamenti, finirai nel _Debugging Hell_ !\n",
    "</div>\n"
   ]
  },
  {
   "cell_type": "markdown",
   "metadata": {},
   "source": [
    "## COMANDAMENTO 1\n",
    "\n",
    "<div class=\"alert alert-info\" >\n",
    "\n",
    "**Scriverai codice Python**\n",
    "</div>\n",
    "\n",
    "Chi non scrive codice Python, non impara Python"
   ]
  },
  {
   "cell_type": "markdown",
   "metadata": {},
   "source": [
    "## COMANDAMENTO 2\n",
    "\n",
    "<div class=\"alert alert-info\" >\n",
    "\n",
    "**Quando inserisci una variabile in un ciclo for, questa variabile deve essere nuova**\n",
    "</div>"
   ]
  },
  {
   "cell_type": "markdown",
   "metadata": {},
   "source": [
    "Se hai definito la variabile prima, non la reintrodurrai in un `for`, perchè ciò portebbe confusione nelle menti di chi legge.\n",
    "\n",
    "Perciò evita questi peccati:"
   ]
  },
  {
   "cell_type": "code",
   "execution_count": 1,
   "metadata": {},
   "outputs": [
    {
     "name": "stdout",
     "output_type": "stream",
     "text": [
      "0\n",
      "1\n",
      "2\n"
     ]
    }
   ],
   "source": [
    "i = 7\n",
    "for i in range(3):  # peccato, perdi la variabile i\n",
    "    print(i)"
   ]
  },
  {
   "cell_type": "code",
   "execution_count": 2,
   "metadata": {},
   "outputs": [],
   "source": [
    "def f(i):\n",
    "    for i in range(3): # altro peccato, perdi il parametro i\n",
    "        print(i)"
   ]
  },
  {
   "cell_type": "code",
   "execution_count": 3,
   "metadata": {
    "scrolled": false
   },
   "outputs": [
    {
     "name": "stdout",
     "output_type": "stream",
     "text": [
      "0\n",
      "1\n",
      "2\n",
      "0\n",
      "1\n",
      "2\n"
     ]
    }
   ],
   "source": [
    "for i in range(2):      \n",
    "    for i in  range(3):  # inferno da debuggare, perdi l'i del ciclo for esterno\n",
    "        print(i)"
   ]
  },
  {
   "cell_type": "markdown",
   "metadata": {},
   "source": [
    "## COMANDAMENTO 3\n",
    "\n",
    "<div class=\"alert alert-info\" >\n",
    "\n",
    "**Noi riassegnerai mai parametri di funzione**\n",
    "\n",
    "</div>\n",
    "\n",
    "```python\n",
    "\n",
    "    def mia_funzione(i, s, L, D):\n",
    "\n",
    "        # Non farai mai nessuna di queste assegnazioni, indipendentemente dal tipo del parametro:\n",
    "        i = 666            # tipi base (int, float, ...)\n",
    "        s = \"666\"          # stringhe\n",
    "        L = [666]          # containitori\n",
    "        D = {\"evil\":666}   # dizionari\n",
    "\n",
    "        # Per il solo caso di parametri compositi come liste o dizionari, puoi scrivere cose del genere \n",
    "        # SE E SOLO SE le specifiche della funzioni ti richiedono di modificare gli elementi interni del \n",
    "        # parametro (come per esempio ordinare una lista o cambiare il campo di un dizionario\n",
    "\n",
    "        L[4] = 2             # lista\n",
    "        D[\"my field\"] = 5    # dizionario\n",
    "        C.my_field = 7       # classe\n",
    "```"
   ]
  },
  {
   "cell_type": "markdown",
   "metadata": {},
   "source": [
    "## COMANDAMENTO 4\n",
    "\n",
    "\n",
    "\n",
    "<div class=\"alert alert-info\" >\n",
    "\n",
    "**Non riassegnerai mai valori a chiamate a funzioni o metodi**\n",
    "\n",
    "</div>\n",
    "\n",
    "_SBAGLIATISSIMO:_\n",
    "\n",
    "```python\n",
    "\n",
    "my_fun() = 666\n",
    "my_fun() = 'evil'\n",
    "my_fun() = [666]\n",
    "\n",
    "```\n",
    "\n",
    "_CORRETTO:_ \n",
    "\n",
    "Con l'operatore di assegnamento vogliamo salvare nella parte sinistra un valore dalla parte destra, perciò tutte queste sono operazioni valide:\n",
    "\n",
    "\n",
    "```python\n",
    "x = 5\n",
    "y = my_fun()\n",
    "z = []\n",
    "z[0] = 7\n",
    "d = dict()\n",
    "d[\"a\"] = 6\n",
    "```\n",
    "\n",
    "Chiamate a funzione come `mia_funzione()` ritorna invece risultati di calcoli in una scatola, che è creata solo per lo scopo della chiamata e Python non ci consentirà di riusarla come una variabile. Se quando vedi `nome()` alla parte sinistra, _non può_ essere seguito da un segno di uguaglianza `=` (ma può essere seguito da due segni di uguaglianza `==` se stai eseguendo una comparazione).\n"
   ]
  },
  {
   "cell_type": "markdown",
   "metadata": {},
   "source": [
    "## COMANDAMENTO 5\n",
    "\n",
    "<div class=\"alert alert-info\" >\n",
    "\n",
    "**Non ridifinerai mai funzioni di sistema**\n",
    "</div>\n",
    "\n",
    "Python ha diverse funzioni di sistema predefinite. Per esempio `list` è un tipo Python: come tale, puoi usarlo per esempio come funzione per convertire un qualche tipo a lista:"
   ]
  },
  {
   "cell_type": "code",
   "execution_count": 4,
   "metadata": {},
   "outputs": [
    {
     "data": {
      "text/plain": [
       "['c', 'i', 'a', 'o']"
      ]
     },
     "execution_count": 4,
     "metadata": {},
     "output_type": "execute_result"
    }
   ],
   "source": [
    "list(\"ciao\")"
   ]
  },
  {
   "cell_type": "markdown",
   "metadata": {},
   "source": [
    "Quando consenti alle Forze del Male di prendere il sopravvento, potresti essere tentato di usare parole riservate (per es. `list`) come una variabile per i tuoi miserabili propositi personali:\n"
   ]
  },
  {
   "cell_type": "code",
   "execution_count": 5,
   "metadata": {},
   "outputs": [],
   "source": [
    "list = ['la', 'mia', 'lista', 'raccapricciante']"
   ]
  },
  {
   "cell_type": "markdown",
   "metadata": {},
   "source": [
    "Python ti permette di farlo, ma **noi no**, poichè le conseguenze sono disastrose. \n",
    "\n",
    "Per esempio, se adesso usi `list` per il proposito per cui è stata creata, cioè conversione a lista, non funzionerà più:"
   ]
  },
  {
   "cell_type": "markdown",
   "metadata": {},
   "source": [
    "```python\n",
    "list(\"ciao\")\n",
    "```\n",
    "```\n",
    "---------------------------------------------------------------------------\n",
    "TypeError                                 Traceback (most recent call last)\n",
    "<ipython-input-4-c63add832213> in <module>()\n",
    "----> 1 list(\"ciao\")\n",
    "\n",
    "TypeError: 'list' object is not callable\n",
    "\n",
    "```"
   ]
  },
  {
   "cell_type": "markdown",
   "metadata": {},
   "source": [
    "## COMANDAMENTO 6\n",
    "\n",
    "<div class=\"alert alert-info\" >\n",
    "\n",
    "**Userai il comando return solo se vedi scritto \"return\" nella descrizione di funzione!**\n",
    "</div>\n",
    "\n",
    "Se non c'è un `return` nella descrizione di funzione, si intende che la funzione ritorni `None`. In questo caso non devi nemmeno scrivere `return None`, perchè Python lo farà implicitamente per te.\n"
   ]
  },
  {
   "cell_type": "markdown",
   "metadata": {},
   "source": [
    "\n",
    "<div class=\"alert alert-info\">\n",
    "\n",
    "**COMMANDMENT 5:  Non riassegnerai mai self**    \n",
    "</div>\n",
    "\n",
    "Non scriverai mai orrori come questo:\n",
    "\n",
    "```python\n",
    "\n",
    "class MiaClasse\n",
    "    def mio_metodo(self, x, y):\n",
    "        self = {a:666}  # dato che self è una specie di dizionario, potresti essere tentato di fare così\n",
    "                        # ma al mondo esterno questo non porterà alcun effetto\n",
    "                        # Per esempio, supponiamo che qualcuno da fuori faccia una chiamata come questa: \n",
    "                        #      mc = MiaClasse()\n",
    "                        #      mc.my_method()\n",
    "                        # Dopo la chiamata mc non punterà a {a:666}\n",
    "        self = ['evil'] # self si suppone essere una specie di dizionario passato dall'esterno\n",
    "\n",
    "        self = 6        # self si suppone essere una specie di dizionario passato dall'esterno\n",
    "```\n"
   ]
  },
  {
   "cell_type": "markdown",
   "metadata": {},
   "source": [
    "## COMANDAMENTO 7\n",
    "\n",
    "<div class=\"alert alert-info\" >\n",
    "\n",
    "**Scriverai anche su carta!**\n",
    "</div>\n",
    "\n",
    "Se fissare il monitor non funziona, aiutati e disegna su carta una rappresentazione dello stato del programma. Tabelle, nodi, frecce, tutto può aiutare nel trovare una soluzione al problema.\n"
   ]
  },
  {
   "cell_type": "markdown",
   "metadata": {},
   "source": [
    "## COMANDAMENTO 8\n",
    "\n",
    "<div id=\"prova\" class=\"alert alert-info\" >\n",
    "\n",
    "**Testerai il codice!**\n",
    "</div>\n",
    "\n",
    "\n",
    "Il codice non testato per definizione _non funziona_. Per idee su come fare, guarda [Gestione degli errori e testing](/exercises/errors-and-testing/errors-and-testing-solution.ipynb)\n"
   ]
  },
  {
   "cell_type": "code",
   "execution_count": null,
   "metadata": {},
   "outputs": [],
   "source": []
  }
 ],
 "metadata": {
  "kernelspec": {
   "display_name": "Python 3",
   "language": "python",
   "name": "python3"
  },
  "language_info": {
   "codemirror_mode": {
    "name": "ipython",
    "version": 3
   },
   "file_extension": ".py",
   "mimetype": "text/x-python",
   "name": "python",
   "nbconvert_exporter": "python",
   "pygments_lexer": "ipython3",
   "version": "3.5.2"
  },
  "toc": {
   "base_numbering": 1,
   "nav_menu": {},
   "number_sections": false,
   "sideBar": true,
   "skip_h1_title": false,
   "title_cell": "Table of Contents",
   "title_sidebar": "Contents",
   "toc_cell": false,
   "toc_position": {},
   "toc_section_display": true,
   "toc_window_display": true
  }
 },
 "nbformat": 4,
 "nbformat_minor": 2
}
