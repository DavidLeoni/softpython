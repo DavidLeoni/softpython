{
 "cells": [
  {
   "cell_type": "markdown",
   "metadata": {},
   "source": [
    "# Riferimenti"
   ]
  },
  {
   "cell_type": "markdown",
   "metadata": {},
   "source": [
    "\n",
    "I vari argomenti del libro sono listati nella [Tabellona materiale](https://docs.google.com/spreadsheets/d/1w9WzEVnmPs3de4fHsywMdhcVwuNxy5_ol24AimddbC4/edit#gid=0)\n",
    "\n",
    "Citiamo onltre il seguente materiale, approssimativente in ordine di difficoltà crescente"
   ]
  },
  {
   "cell_type": "markdown",
   "metadata": {},
   "source": [
    "## Libro Passo dopo passo impariamo a programmare con Python\n",
    "\n",
    "Espone argomenti di base di Python in modo molto dettagliato e contiene diversi esercizi facili.\n",
    "\n",
    "- [PDF](http://linuxdidattica.org/polito/manuale-python-V2.pdf)\n",
    "\n",
    "di Aurora Martina, Angelo Raffaele Meo, Clotilde Moro, Mario Scovazzi\n",
    "\n",
    " E’ inteso per ragazzini delle medie, ma non fatevi ingannare dalla grafica fumettosa: il materiale per i più giovani tende spesso ad avere il gran pregio di non lasciare nulla al caso.\n",
    "\n",
    "* Attenzione: è solo per Python 2, quindi se vedete print “Ciao” voi dovete scriverlo print(“ciao”) con le tonde\n",
    "- il libro usa parecchio il comando input per chiedere dati all’utente, noi non l’abbiamo visto perchè in Jupyter tende a non funzionare bene. Conviene provarlo scrivendo script in Spyder, e inserendo le risposte nella tab dell’interprete\n",
    "- EXTRA: se volete divertirvi, in fondo contiene anche tutorial su come creare giochi con pygame"
   ]
  },
  {
   "cell_type": "markdown",
   "metadata": {},
   "source": [
    "## Lezioni di Nicola Cassetta\n",
    "\n",
    "Tutoria passo passo, adatti a principianti\n",
    "\n",
    "* [versione online](http://ncassetta.altervista.org/Tutorial_Python/index.html)"
   ]
  },
  {
   "cell_type": "markdown",
   "metadata": {},
   "source": [
    "## Pensare in Python seconda edizione\n",
    "\n",
    "Molto discorsivo, Passo passo, adatto a principianti\n",
    "\n",
    "* [versione online](https://davidleoni.github.io/ThinkPythonItalian/html/index.html)\n",
    "* [zip offline](https://davidleoni.github.io/ThinkPythonItalian/thinkpython_italian_html.zip)\n",
    "* [PDF](https://github.com/DavidLeoni/ThinkPythonItalian/raw/master/thinkpython_italian.pdf)\n",
    "\n",
    "trad. Think Python, di Allen B. Downey\n",
    "\n",
    "Licenza: [Creative Commons Attribuzione Non Commerciale 3.0](http://creativecommons.org/licenses/by-nc/3.0/deed.it), come riportato nella [pagina della versione originale in inglese](http://greenteapress.com/wp/think-python-2e/). Tradotto: potete farvelo stampare in copisteria, se vi fanno storie su questioni di copyright mostrategli la licenza.\n",
    "\n",
    "* Liberamente stampabile: sì\n",
    "* Libro su carta da comprare in italiano: no\n",
    "* Libro su carta da comprare in inglese: sì\n"
   ]
  },
  {
   "cell_type": "markdown",
   "metadata": {},
   "source": [
    "## W3Resources website\n",
    "\n",
    "Contiene parecchi esercizi facili in su basi Python, fateli:\n",
    "\n",
    "[Basic1](https://www.w3resource.com/python-exercises/), [Basic2](https://www.w3resource.com/python-exercises/basic/), [String](https://www.w3resource.com/python-exercises/string/), [List](https://www.w3resource.com/python-exercises/list/), [Dictionary](https://www.w3resource.com/python-exercises/dictionary/), [Tuple](https://www.w3resource.com/python-exercises/tuple/), [Sets](https://www.w3resource.com/python-exercises/sets/), [Condition Statements and Loops](https://www.w3resource.com/python-exercises/python-conditional-statements-and-loop-exercises.php), [Functions](https://www.w3resource.com/python-exercises/python-functions-exercises.php), [Lambda](https://www.w3resource.com/python-exercises/lambda/index.php), [CSV Read Write](https://www.w3resource.com/python-exercises/csv/index.php)"
   ]
  },
  {
   "cell_type": "markdown",
   "metadata": {},
   "source": [
    "## Corso Python 3 di Nicola Zoppetti\n",
    "\n",
    "Contiene parecchi esercizi, fateli !\n",
    "\n",
    "* [versione online](http://www.ifac.cnr.it/~zoppetti/corsopython/)"
   ]
  },
  {
   "cell_type": "markdown",
   "metadata": {},
   "source": [
    "## Guida Introduttiva a Python 3 guida ufficiale\n",
    "\n",
    "Presenta vari argomenti (ma senza esercizi), traduzione di Maurizio Da Lio\n",
    "\n",
    "- [PDF](https://fraccaro.org/python/guida_python_3_ita.pdf)"
   ]
  },
  {
   "cell_type": "markdown",
   "metadata": {},
   "source": [
    "## Immersione in Python 3 \n",
    "\n",
    "(trad: Dive into Python 3) Più pratico, contiene tutorial più mirati (es. trattare file XML)\n",
    "\n",
    "* [versione online](http://gpiancastelli.altervista.org/dip3-it)\n",
    "* [zip offline](http://gpiancastelli.altervista.org/dip3-it/d/diveintopython3-it-html-latest.zip)\n",
    "* [PDF](http://gpiancastelli.altervista.org/dip3-it/d/diveintopython3-it-pdf-latest.zip) + [Tabella dei contenuti generata](_static/toc-immersione-in-python-3.txt)\n",
    "\n",
    "Licenza: [Creative Commons Attribuzione Condividi allo stesso modo 3.0](http://creativecommons.org/licenses/by-sa/3.0/deed.it) come riportato in fondo [al sito del libro](http://gpiancastelli.altervista.org/dip3-it/).  Tradotto: potete farvelo stampare in copisteria, se vi fanno storie su questioni di copyright mostrategli la licenza.\n",
    "\n",
    "* Liberamente stampabile: sì\n",
    "* Libro su carta da comprare in italiano: no\n",
    "* Libro su carta da comprare in inglese: sì"
   ]
  },
  {
   "cell_type": "markdown",
   "metadata": {},
   "source": [
    "## Corso Scientific Programming Master Data Science - Trento\n",
    "\n",
    "(inglese) Potete trovare qualche testo d’esame che dovreste essere in grado di fare - sono tipicamente più difficili di quelli presenti in questo libro, ma offrono anche una panoramica su diversi tematiche con dati reali. Il formato sono fogli Jupyter simili a quello che trovate su SofyPython.\n",
    "\n",
    "- 17/07/2020: [NACE codes](https://datasciprolab.readthedocs.io/en/latest/exams/2020-07-17/exam-2020-07-17-solution.html#Part-A---NACE-codes)\n",
    "- 16/06/2020: [Zoom surveillance](https://datasciprolab.readthedocs.io/en/latest/exams/2020-06-16/exam-2020-06-16-solution.html#Part-A---Zoom-surveillance)\n",
    "- 07/11/2019: [Eventi Comune di Trento](https://datasciprolab.readthedocs.io/en/latest/exams/2019-11-07/exam-2019-11-07-solution.html#Part-A)\n",
    "- 31/10/2019: [Offerte lavoro EURES](https://datasciprolab.readthedocs.io/en/latest/exams/2019-10-31/exam-2019-10-31-solution.html#Part-A---offerte-lavoro-EURES)\n",
    "- 26/08/2019: [Staff Università of Trento](https://datasciprolab.readthedocs.io/en/latest/exams/2019-08-26/exam-2019-08-26-solution.html#Part-A---University-of-Trento-staff)\n",
    "- 02/07/2019: [Botteghe storiche](https://datasciprolab.readthedocs.io/en/latest/exams/2019-07-02/exam-2019-07-02-solution.html#A1-Botteghe-storiche)\n",
    "- 10/06/2019: [Case ITEA](https://datasciprolab.readthedocs.io/en/latest/exams/2019-06-10/exam-2019-06-10-solution.html#A1-ITEA-real-estate) e [Qualità dell’aria](https://datasciprolab.readthedocs.io/en/latest/exams/2019-06-10/exam-2019-06-10-solution.html#A2-Air-quality)\n",
    "- 13/11/2018: [Matrici](https://datasciprolab.readthedocs.io/en/latest/exams/2018-11-13/exam-2018-11-13-solution.html#1.-matrices) e [numeri di telefono](https://datasciprolab.readthedocs.io/en/latest/exams/2018-11-13/exam-2018-11-13-solution.html#2.-phones)"
   ]
  },
  {
   "cell_type": "markdown",
   "metadata": {},
   "source": [
    "## Geeks for Geeks \n",
    "\n",
    "(inglese) Contiene molti esercizi - non ha soluzioni nè assert specifici ma se fate il login e spedite soluzioni, il sistema eseguirà dei test sul server e vidarà un repsonso.\n",
    "\n",
    "* [Esempio Filtra difficoltà per school+basic+easy con topic String](https://practice.geeksforgeeks.org/explore/?category%5B%5D=Strings&difficulty%5B%5D=-2&difficulty%5B%5D=-1&difficulty%5B%5D=0&page=1)\n",
    "\n",
    "Potete selezionare molti più topic cliccando more>> in Topic Tags:\n",
    "\n",
    "![geeks-for-geeks](_static/img/references/geeks-for-geeks-more-topics.jpeg)\n"
   ]
  },
  {
   "cell_type": "markdown",
   "metadata": {},
   "source": [
    "## Introduction to Scientific Programming with Python \n",
    "\n",
    "(inglese) Introduzione con focus sul calcolo numerico, potete guardare i primi 7 capitoli fino ai dizionari.\n",
    "\n",
    "Di Joakim Sundnes.\n",
    "\n",
    "- [PDF](https://link.springer.com/content/pdf/10.1007%2F978-3-030-50356-7.pdf) per Python (solo teoria)\n",
    "- [Esercizi di accompagnamento](https://www.uio.no/studier/emner/matnat/ifi/INF1100/h16/ressurser/INF1100_exercises_5th_ed.pdf) – utili, anche se alcuni sono troppo ingegneristici per il taglio di questo libro\n",
    "- EXTRA: se volete approfondire, contiene anche capitoli sulle classi che sono certamente utili."
   ]
  },
  {
   "cell_type": "code",
   "execution_count": null,
   "metadata": {},
   "outputs": [],
   "source": []
  }
 ],
 "metadata": {
  "kernelspec": {
   "display_name": "Python 3",
   "language": "python",
   "name": "python3"
  },
  "language_info": {
   "codemirror_mode": {
    "name": "ipython",
    "version": 3
   },
   "file_extension": ".py",
   "mimetype": "text/x-python",
   "name": "python",
   "nbconvert_exporter": "python",
   "pygments_lexer": "ipython3",
   "version": "3.5.2"
  },
  "toc": {
   "base_numbering": 1,
   "nav_menu": {},
   "number_sections": false,
   "sideBar": true,
   "skip_h1_title": false,
   "title_cell": "Table of Contents",
   "title_sidebar": "Contents",
   "toc_cell": false,
   "toc_position": {},
   "toc_section_display": true,
   "toc_window_display": true
  }
 },
 "nbformat": 4,
 "nbformat_minor": 4
}
