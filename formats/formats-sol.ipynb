{
 "cells": [
  {
   "cell_type": "markdown",
   "metadata": {
    "colab_type": "text",
    "id": "2T1wWDPa5bO_"
   },
   "source": [
    "# Formati dati\n",
    "\n",
    "## [Scarica zip esercizi](../_static/generated/formats.zip)\n",
    "\n",
    "[Naviga file online](https://github.com/DavidLeoni/softpython-it/tree/master/formats)\n",
    "\n",
    "\n"
   ]
  },
  {
   "cell_type": "markdown",
   "metadata": {},
   "source": [
    "## Introduzione\n",
    "\n",
    "In questo tutorial parleremo di formati dei dati:\n",
    "\n",
    "* file testuali\n",
    "    * File a linee\n",
    "    * CSV\n",
    "    * breve panoramica sui cataloghi open data\n",
    "    * menzione licenze (Creative Commons CC-Zero)\n",
    "    * menzione JSON\n",
    "    * menzione XML\n",
    "* menzione file binari\n",
    "    * immagini\n",
    "    * fogli Excel"
   ]
  },
  {
   "cell_type": "markdown",
   "metadata": {},
   "source": [
    "\n",
    "### Che fare\n",
    "\n",
    "\n",
    "- scompatta lo zip in una cartella, dovresti ottenere qualcosa del genere: \n",
    "\n",
    "```\n",
    "\n",
    "formats\n",
    "    formats.ipynb     \n",
    "    formats-sol.ipynb\n",
    "    jupman.py\n",
    "```\n",
    "\n",
    "<div class=\"alert alert-warning\">\n",
    "\n",
    "**ATTENZIONE**: Per essere visualizzato correttamente, il file del notebook DEVE essere nella cartella szippata.\n",
    "</div>\n",
    "\n",
    "- apri il Jupyter Notebook da quella cartella. Due cose dovrebbero aprirsi, prima una console e poi un browser. Il browser dovrebbe mostrare una lista di file: naviga la lista e apri il notebook `formats.ipynb`\n",
    "- Prosegui leggendo il file degli esercizi, ogni tanto al suo interno troverai delle scritte **ESERCIZIO**, che ti chiederanno di scrivere dei comandi Python nelle celle successive. \n",
    "\n",
    "Scorciatoie da tastiera:\n",
    "\n",
    "* Per eseguire il codice Python dentro una cella di Jupyter, premi `Control+Invio`\n",
    "* Per eseguire il codice Python dentro una cella di Jupyter E selezionare la cella seguente, premi `Shift+Invio`\n",
    "* Per eseguire il codice Python dentro una cella di Jupyter E creare una nuova cella subito dopo, premi `Alt+Invio`\n",
    "* Se per caso il Notebook sembra inchiodato, prova a selezionare `Kernel -> Restart`\n",
    "\n",
    "\n"
   ]
  },
  {
   "cell_type": "markdown",
   "metadata": {
    "colab_type": "text",
    "id": "fC_te77v5bPE"
   },
   "source": [
    "## 1. File a linee\n",
    "\n",
    "I file a linee tipicamente sono file di testo che contengono informazioni raggruppate per linee. Un esempio usando personaggi storici potrebbe essere un file così:\n",
    "\n",
    "```\n",
    "Leonardo\n",
    "da Vinci\n",
    "Sandro\n",
    "Botticelli\n",
    "Niccolò \n",
    "Macchiavelli\n",
    "```\n",
    "\n",
    "Si nota subito una regolarità: le prime due linee contengono i dati di Leonardo da Vinci, prima il nome e poi il cognome. Le successive due linee hanno invece i dati di Sandro Botticelli, di nuovo prima il nome e poi il cognome, e così via\n",
    "\n",
    "Un programma che potremo voler fare potrebbe essere leggere le linee e stampare a video nomi e cognomi così:\n",
    "\n",
    "```\n",
    "Leonardo da Vinci \n",
    "Sandro Botticelli\n",
    "Niccolò Macchiavelli\n",
    "```\n",
    "\n",
    "Per iniziare ad avere un'approssimazione del risultato finale, possiamo aprire il file, leggere solo la prima linea e stamparla:\n"
   ]
  },
  {
   "cell_type": "code",
   "execution_count": 1,
   "metadata": {
    "colab": {
     "autoexec": {
      "startup": false,
      "wait_interval": 0
     },
     "output_extras": [
      {}
     ]
    },
    "colab_type": "code",
    "id": "-XsMLCyU5bPH",
    "outputId": "824ecd67-35e8-4b79-bde5-ddf7f70334f4"
   },
   "outputs": [
    {
     "name": "stdout",
     "output_type": "stream",
     "text": [
      "Leonardo\n",
      "\n"
     ]
    }
   ],
   "source": [
    "with open('people-simple.txt', encoding='utf-8') as f:\n",
    "    linea=f.readline()\n",
    "    print(linea)\n"
   ]
  },
  {
   "cell_type": "markdown",
   "metadata": {
    "colab_type": "text",
    "id": "C0eSCHzw5bPZ"
   },
   "source": [
    "Che è successo? Esaminiamo le varie linee:\n",
    "\n",
    "**il comando open**\n",
    "\n",
    "Il comando \n",
    "\n",
    "```python\n",
    "open('people-simple.txt', encoding='utf-8')\n",
    "```\n",
    "\n",
    "ci permette di aprire il file di testo dicendo a Python il percorso del file `'people-simple.txt'` e la codifica con cui è stato scritto (`encoding='utf-8'`). \n",
    "\n",
    "**La codifica**\n",
    "\n",
    "La codifica dipende dal sistema operativo e dell'editor con cui è stato scritto il file. Quando apriamo un file, Python non può divinare la codifica, e se non gliela specifichiamo potrebbe aprirlo assumendo una codifica diversa dall'originale - tradotto, affidandoci al caso o sbagliando codifica in seguito potremmo vedere dei caratteri strani (tipo quadratini invece di lettere accentate). \n",
    "\n",
    "In genere, quando apri un file, prova prima a specificare la codifica `utf-8` che è la più comune scrivendo `encoding='utf-8'`, e se per caso  non va bene prova invece `encoding='latin-1'` (solitamente utile se il file è stato scritto su sistemi Windows). Se apri file scritti in posti più esotici, tipo in Cina, potresti dover usare un'altro encoding. Per approfondire queste questioni, quando hai tempo leggi [Immersione in Python - Cap 4 - Stringhe](http://gpiancastelli.altervista.org/dip3-it/stringhe.html) e [Immersione in Python - Cap 11 - File](http://gpiancastelli.altervista.org/dip3-it/stringhe.html), **entrambe letture caldamente consigliate**. \n",
    "\n",
    "**il with**\n",
    "\n",
    "Il `with` definisce un blocco con all'interno le istruzioni:\n",
    "\n",
    "```python\n",
    "with open('people-simple.txt', encoding='utf-8') as f:\n",
    "    linea=f.readline()\n",
    "    print(linea)\n",
    "```\n",
    "\n",
    "Abbiamo usato il `with` per dire a Python che in ogni caso, anche se accadono errori, vogliamo che dopo aver usato il file, e cioè eseguito le istruzioni nel blocco interno (il `linea=f.readline()` e `print(linea)`) Python deve chiudere automaticamente il file. Chiudere propriamente un file evita di sprecare risorse di memoria e creare errori paranormali. Se vuoi evitare di andare a caccia di file zombie mai chiusi, ricordati sempre di aprire i file nei blocchi `with`! Inoltre, alla fine della riga  nella parte `as f:` abbiamo assegnato il file ad una variabile chiamata qui `f`, ma potevamo usare un qualunque altro nome.\n",
    "\n",
    "\n",
    "<div class=\"alert alert-warning\">\n",
    "\n",
    "**ATTENZIONE**: Per indentare il codice, usa SEMPRE sequenze di 4 spazi bianchi. Sequenze di 2 soli spazi per quanto consentite non sono raccomandate. \n",
    "</div>\n",
    "\n",
    "<div class=\"alert alert-warning\">\n",
    "\n",
    "**ATTENZIONE**: A seconda dell'editor che usi, premendo TAB potresti ottenere una sequenza di spazi bianchi come accade in Jupyter (4 spazi che sono raccomandati), oppure un carattere speciale di tabulazione (da evitare)! Per quanto noiosa questa distinzione ti possa apparire, ricordatela perchè potrebbe generare errori molto difficili da scoprire. \n",
    "</div>\n",
    "\n",
    "<div class=\"alert alert-warning\">\n",
    "\n",
    "**ATTENZIONE**: Nei comandi che creano blocchi come il `with`, ricordati di mettere sempre il carattere dei doppi punti `:` alla fine della linea !\n",
    "</div>\n"
   ]
  },
  {
   "cell_type": "markdown",
   "metadata": {
    "colab_type": "text",
    "id": "en84Abg_5bPb"
   },
   "source": [
    "Il comando \n",
    "\n",
    "```\n",
    "    linea=f.readline()\n",
    "```\n",
    "mette nella variabile `linea` l'intera linea, come una stringa. Attenzione: la stringa conterrà alla fine anche il carattere speciale di ritorno a capo !\n",
    "\n",
    "Ti chiederai da dove venga fuori quel `readline`. Come quasi tutto in Python, la nostra variabile `f` che rappresenta il file appena aperto è un oggetto, e ogni oggetto, a seconda del suo tipo, ha dei _metodi_ particolari che possiamo usare su di esso. In questo caso il metodo è `readline`.  [Clicca qua](http://it.softpython.org/intro.html#Usare-metodi-degli-oggetti) per maggiori informazioni sugli oggetti.\n",
    "\n",
    "Il comando seguente stampa il contenuto della stringa:\n",
    "\n",
    "```python\n",
    "    print(linea) \n",
    "```\n"
   ]
  },
  {
   "cell_type": "markdown",
   "metadata": {
    "colab_type": "text",
    "id": "wzyIGFfP5bPd"
   },
   "source": [
    "**✪ 1.1  ESERCIZIO**: Prova a riscrivere nella cella qua il blocco with appena visto, ed esegui la cella premendo Control-Invio. Riscrivi il codice con le dita, non con il copia e incolla ! Fai attenzione ad indentare correttamente con gli spazi il blocco."
   ]
  },
  {
   "cell_type": "raw",
   "id": "streaming-deposit",
   "metadata": {
    "format": "text/html"
   },
   "source": [
    "<a  class=\"jupman-sol jupman-sol-toggler\" \n",
    " onclick=\"jupman.toggleSolution(this);\" \n",
    " data-jupman-show=\"Mostra soluzione\" data-jupman-hide=\"Nascondi\">Mostra soluzione</a><div class=\"jupman-sol jupman-sol-code\" style=\"display:none\">  "
   ]
  },
  {
   "cell_type": "code",
   "execution_count": 2,
   "metadata": {
    "colab": {
     "autoexec": {
      "startup": false,
      "wait_interval": 0
     }
    },
    "colab_type": "code",
    "id": "Z26Xnnfm5bPg"
   },
   "outputs": [
    {
     "name": "stdout",
     "output_type": "stream",
     "text": [
      "Leonardo\n",
      "\n"
     ]
    }
   ],
   "source": [
    "# scrivi qui \n",
    "\n",
    "with open('people-simple.txt', encoding='utf-8') as f:\n",
    "    linea=f.readline()\n",
    "    print(linea)\n"
   ]
  },
  {
   "cell_type": "raw",
   "id": "standard-candidate",
   "metadata": {
    "format": "text/html"
   },
   "source": [
    "</div>"
   ]
  },
  {
   "cell_type": "code",
   "execution_count": 2,
   "metadata": {
    "colab": {
     "autoexec": {
      "startup": false,
      "wait_interval": 0
     }
    },
    "colab_type": "code",
    "id": "Z26Xnnfm5bPg"
   },
   "outputs": [
    {
     "name": "stdout",
     "output_type": "stream",
     "text": [
      "Leonardo\n",
      "\n"
     ]
    }
   ],
   "source": [
    "# scrivi qui \n",
    "\n"
   ]
  },
  {
   "cell_type": "markdown",
   "metadata": {
    "colab_type": "text",
    "id": "0zsZD7-N5bPo"
   },
   "source": [
    "**✪ 1.2 ESERCIZIO**: immagino ti starai chiedendo che cosa è esattamente  quella `f`, e cosa faccia esattamente il metodo `readlines`. Quando ti trovi in queste situazioni, puoi aiutarti con le funzioni `type` e `help`. Questa volta, copia e incolla direttamente sempre lo stesso codice qua sotto, ma aggiungi a mano dentro il blocco `with` i comandi: \n",
    "\n",
    "* `print(type(f))`\n",
    "* `print(help(f))`\n",
    "* `print(help(f.readline))      # Attenzione: ricordati il 'f.' prima del readline !!`\n",
    "\n",
    "Ogni volta che aggiungi qualcosa, prova ad eseguire con Control+Invio e vedere cosa succede."
   ]
  },
  {
   "cell_type": "raw",
   "id": "heard-milan",
   "metadata": {
    "format": "text/html"
   },
   "source": [
    "<a  class=\"jupman-sol jupman-sol-toggler\" \n",
    " onclick=\"jupman.toggleSolution(this);\" \n",
    " data-jupman-show=\"Mostra soluzione\" data-jupman-hide=\"Nascondi\">Mostra soluzione</a><div class=\"jupman-sol jupman-sol-code\" style=\"display:none\">  "
   ]
  },
  {
   "cell_type": "code",
   "execution_count": 3,
   "metadata": {
    "colab": {
     "autoexec": {
      "startup": false,
      "wait_interval": 0
     }
    },
    "colab_type": "code",
    "id": "B5vALRz55bPq"
   },
   "outputs": [
    {
     "name": "stdout",
     "output_type": "stream",
     "text": [
      "<class '_io.TextIOWrapper'>\n",
      "Help on built-in function readline:\n",
      "\n",
      "readline(size=-1, /) method of _io.TextIOWrapper instance\n",
      "    Read until newline or EOF.\n",
      "    \n",
      "    Returns an empty string if EOF is hit immediately.\n",
      "\n",
      "None\n",
      "Help on TextIOWrapper object:\n",
      "\n",
      "class TextIOWrapper(_TextIOBase)\n",
      " |  Character and line based layer over a BufferedIOBase object, buffer.\n",
      " |  \n",
      " |  encoding gives the name of the encoding that the stream will be\n",
      " |  decoded or encoded with. It defaults to locale.getpreferredencoding(False).\n",
      " |  \n",
      " |  errors determines the strictness of encoding and decoding (see\n",
      " |  help(codecs.Codec) or the documentation for codecs.register) and\n",
      " |  defaults to \"strict\".\n",
      " |  \n",
      " |  newline controls how line endings are handled. It can be None, '',\n",
      " |  '\\n', '\\r', and '\\r\\n'.  It works as follows:\n",
      " |  \n",
      " |  * On input, if newline is None, universal newlines mode is\n",
      " |    enabled. Lines in the input can end in '\\n', '\\r', or '\\r\\n', and\n",
      " |    these are translated into '\\n' before being returned to the\n",
      " |    caller. If it is '', universal newline mode is enabled, but line\n",
      " |    endings are returned to the caller untranslated. If it has any of\n",
      " |    the other legal values, input lines are only terminated by the given\n",
      " |    string, and the line ending is returned to the caller untranslated.\n",
      " |  \n",
      " |  * On output, if newline is None, any '\\n' characters written are\n",
      " |    translated to the system default line separator, os.linesep. If\n",
      " |    newline is '' or '\\n', no translation takes place. If newline is any\n",
      " |    of the other legal values, any '\\n' characters written are translated\n",
      " |    to the given string.\n",
      " |  \n",
      " |  If line_buffering is True, a call to flush is implied when a call to\n",
      " |  write contains a newline character.\n",
      " |  \n",
      " |  Method resolution order:\n",
      " |      TextIOWrapper\n",
      " |      _TextIOBase\n",
      " |      _IOBase\n",
      " |      builtins.object\n",
      " |  \n",
      " |  Methods defined here:\n",
      " |  \n",
      " |  __getstate__(...)\n",
      " |  \n",
      " |  __init__(self, /, *args, **kwargs)\n",
      " |      Initialize self.  See help(type(self)) for accurate signature.\n",
      " |  \n",
      " |  __new__(*args, **kwargs) from builtins.type\n",
      " |      Create and return a new object.  See help(type) for accurate signature.\n",
      " |  \n",
      " |  __next__(self, /)\n",
      " |      Implement next(self).\n",
      " |  \n",
      " |  __repr__(self, /)\n",
      " |      Return repr(self).\n",
      " |  \n",
      " |  close(self, /)\n",
      " |      Flush and close the IO object.\n",
      " |      \n",
      " |      This method has no effect if the file is already closed.\n",
      " |  \n",
      " |  detach(self, /)\n",
      " |      Separate the underlying buffer from the TextIOBase and return it.\n",
      " |      \n",
      " |      After the underlying buffer has been detached, the TextIO is in an\n",
      " |      unusable state.\n",
      " |  \n",
      " |  fileno(self, /)\n",
      " |      Returns underlying file descriptor if one exists.\n",
      " |      \n",
      " |      OSError is raised if the IO object does not use a file descriptor.\n",
      " |  \n",
      " |  flush(self, /)\n",
      " |      Flush write buffers, if applicable.\n",
      " |      \n",
      " |      This is not implemented for read-only and non-blocking streams.\n",
      " |  \n",
      " |  isatty(self, /)\n",
      " |      Return whether this is an 'interactive' stream.\n",
      " |      \n",
      " |      Return False if it can't be determined.\n",
      " |  \n",
      " |  read(self, size=-1, /)\n",
      " |      Read at most n characters from stream.\n",
      " |      \n",
      " |      Read from underlying buffer until we have n characters or we hit EOF.\n",
      " |      If n is negative or omitted, read until EOF.\n",
      " |  \n",
      " |  readable(self, /)\n",
      " |      Return whether object was opened for reading.\n",
      " |      \n",
      " |      If False, read() will raise OSError.\n",
      " |  \n",
      " |  readline(self, size=-1, /)\n",
      " |      Read until newline or EOF.\n",
      " |      \n",
      " |      Returns an empty string if EOF is hit immediately.\n",
      " |  \n",
      " |  seek(self, cookie, whence=0, /)\n",
      " |      Change stream position.\n",
      " |      \n",
      " |      Change the stream position to the given byte offset. The offset is\n",
      " |      interpreted relative to the position indicated by whence.  Values\n",
      " |      for whence are:\n",
      " |      \n",
      " |      * 0 -- start of stream (the default); offset should be zero or positive\n",
      " |      * 1 -- current stream position; offset may be negative\n",
      " |      * 2 -- end of stream; offset is usually negative\n",
      " |      \n",
      " |      Return the new absolute position.\n",
      " |  \n",
      " |  seekable(self, /)\n",
      " |      Return whether object supports random access.\n",
      " |      \n",
      " |      If False, seek(), tell() and truncate() will raise OSError.\n",
      " |      This method may need to do a test seek().\n",
      " |  \n",
      " |  tell(self, /)\n",
      " |      Return current stream position.\n",
      " |  \n",
      " |  truncate(self, pos=None, /)\n",
      " |      Truncate file to size bytes.\n",
      " |      \n",
      " |      File pointer is left unchanged.  Size defaults to the current IO\n",
      " |      position as reported by tell().  Returns the new size.\n",
      " |  \n",
      " |  writable(self, /)\n",
      " |      Return whether object was opened for writing.\n",
      " |      \n",
      " |      If False, write() will raise OSError.\n",
      " |  \n",
      " |  write(self, text, /)\n",
      " |      Write string to stream.\n",
      " |      Returns the number of characters written (which is always equal to\n",
      " |      the length of the string).\n",
      " |  \n",
      " |  ----------------------------------------------------------------------\n",
      " |  Data descriptors defined here:\n",
      " |  \n",
      " |  buffer\n",
      " |  \n",
      " |  closed\n",
      " |  \n",
      " |  encoding\n",
      " |      Encoding of the text stream.\n",
      " |      \n",
      " |      Subclasses should override.\n",
      " |  \n",
      " |  errors\n",
      " |      The error setting of the decoder or encoder.\n",
      " |      \n",
      " |      Subclasses should override.\n",
      " |  \n",
      " |  line_buffering\n",
      " |  \n",
      " |  name\n",
      " |  \n",
      " |  newlines\n",
      " |      Line endings translated so far.\n",
      " |      \n",
      " |      Only line endings translated during reading are considered.\n",
      " |      \n",
      " |      Subclasses should override.\n",
      " |  \n",
      " |  ----------------------------------------------------------------------\n",
      " |  Methods inherited from _IOBase:\n",
      " |  \n",
      " |  __del__(...)\n",
      " |  \n",
      " |  __enter__(...)\n",
      " |  \n",
      " |  __exit__(...)\n",
      " |  \n",
      " |  __iter__(self, /)\n",
      " |      Implement iter(self).\n",
      " |  \n",
      " |  readlines(self, hint=-1, /)\n",
      " |      Return a list of lines from the stream.\n",
      " |      \n",
      " |      hint can be specified to control the number of lines read: no more\n",
      " |      lines will be read if the total size (in bytes/characters) of all\n",
      " |      lines so far exceeds hint.\n",
      " |  \n",
      " |  writelines(self, lines, /)\n",
      " |  \n",
      " |  ----------------------------------------------------------------------\n",
      " |  Data descriptors inherited from _IOBase:\n",
      " |  \n",
      " |  __dict__\n",
      "\n",
      "None\n",
      "Leonardo\n",
      "\n"
     ]
    }
   ],
   "source": [
    "# scrivi qui il codice (copia e incolla)\n",
    "with open('people-simple.txt', encoding='utf-8') as f:\n",
    "    linea=f.readline()\n",
    "    print(type(f))\n",
    "    print(help(f.readline))\n",
    "    print(help(f))\n",
    "    print(linea)\n"
   ]
  },
  {
   "cell_type": "raw",
   "id": "unnecessary-papua",
   "metadata": {
    "format": "text/html"
   },
   "source": [
    "</div>"
   ]
  },
  {
   "cell_type": "code",
   "execution_count": 3,
   "metadata": {
    "colab": {
     "autoexec": {
      "startup": false,
      "wait_interval": 0
     }
    },
    "colab_type": "code",
    "id": "B5vALRz55bPq"
   },
   "outputs": [
    {
     "name": "stdout",
     "output_type": "stream",
     "text": [
      "<class '_io.TextIOWrapper'>\n",
      "Help on built-in function readline:\n",
      "\n",
      "readline(size=-1, /) method of _io.TextIOWrapper instance\n",
      "    Read until newline or EOF.\n",
      "    \n",
      "    Returns an empty string if EOF is hit immediately.\n",
      "\n",
      "None\n",
      "Help on TextIOWrapper object:\n",
      "\n",
      "class TextIOWrapper(_TextIOBase)\n",
      " |  Character and line based layer over a BufferedIOBase object, buffer.\n",
      " |  \n",
      " |  encoding gives the name of the encoding that the stream will be\n",
      " |  decoded or encoded with. It defaults to locale.getpreferredencoding(False).\n",
      " |  \n",
      " |  errors determines the strictness of encoding and decoding (see\n",
      " |  help(codecs.Codec) or the documentation for codecs.register) and\n",
      " |  defaults to \"strict\".\n",
      " |  \n",
      " |  newline controls how line endings are handled. It can be None, '',\n",
      " |  '\\n', '\\r', and '\\r\\n'.  It works as follows:\n",
      " |  \n",
      " |  * On input, if newline is None, universal newlines mode is\n",
      " |    enabled. Lines in the input can end in '\\n', '\\r', or '\\r\\n', and\n",
      " |    these are translated into '\\n' before being returned to the\n",
      " |    caller. If it is '', universal newline mode is enabled, but line\n",
      " |    endings are returned to the caller untranslated. If it has any of\n",
      " |    the other legal values, input lines are only terminated by the given\n",
      " |    string, and the line ending is returned to the caller untranslated.\n",
      " |  \n",
      " |  * On output, if newline is None, any '\\n' characters written are\n",
      " |    translated to the system default line separator, os.linesep. If\n",
      " |    newline is '' or '\\n', no translation takes place. If newline is any\n",
      " |    of the other legal values, any '\\n' characters written are translated\n",
      " |    to the given string.\n",
      " |  \n",
      " |  If line_buffering is True, a call to flush is implied when a call to\n",
      " |  write contains a newline character.\n",
      " |  \n",
      " |  Method resolution order:\n",
      " |      TextIOWrapper\n",
      " |      _TextIOBase\n",
      " |      _IOBase\n",
      " |      builtins.object\n",
      " |  \n",
      " |  Methods defined here:\n",
      " |  \n",
      " |  __getstate__(...)\n",
      " |  \n",
      " |  __init__(self, /, *args, **kwargs)\n",
      " |      Initialize self.  See help(type(self)) for accurate signature.\n",
      " |  \n",
      " |  __new__(*args, **kwargs) from builtins.type\n",
      " |      Create and return a new object.  See help(type) for accurate signature.\n",
      " |  \n",
      " |  __next__(self, /)\n",
      " |      Implement next(self).\n",
      " |  \n",
      " |  __repr__(self, /)\n",
      " |      Return repr(self).\n",
      " |  \n",
      " |  close(self, /)\n",
      " |      Flush and close the IO object.\n",
      " |      \n",
      " |      This method has no effect if the file is already closed.\n",
      " |  \n",
      " |  detach(self, /)\n",
      " |      Separate the underlying buffer from the TextIOBase and return it.\n",
      " |      \n",
      " |      After the underlying buffer has been detached, the TextIO is in an\n",
      " |      unusable state.\n",
      " |  \n",
      " |  fileno(self, /)\n",
      " |      Returns underlying file descriptor if one exists.\n",
      " |      \n",
      " |      OSError is raised if the IO object does not use a file descriptor.\n",
      " |  \n",
      " |  flush(self, /)\n",
      " |      Flush write buffers, if applicable.\n",
      " |      \n",
      " |      This is not implemented for read-only and non-blocking streams.\n",
      " |  \n",
      " |  isatty(self, /)\n",
      " |      Return whether this is an 'interactive' stream.\n",
      " |      \n",
      " |      Return False if it can't be determined.\n",
      " |  \n",
      " |  read(self, size=-1, /)\n",
      " |      Read at most n characters from stream.\n",
      " |      \n",
      " |      Read from underlying buffer until we have n characters or we hit EOF.\n",
      " |      If n is negative or omitted, read until EOF.\n",
      " |  \n",
      " |  readable(self, /)\n",
      " |      Return whether object was opened for reading.\n",
      " |      \n",
      " |      If False, read() will raise OSError.\n",
      " |  \n",
      " |  readline(self, size=-1, /)\n",
      " |      Read until newline or EOF.\n",
      " |      \n",
      " |      Returns an empty string if EOF is hit immediately.\n",
      " |  \n",
      " |  seek(self, cookie, whence=0, /)\n",
      " |      Change stream position.\n",
      " |      \n",
      " |      Change the stream position to the given byte offset. The offset is\n",
      " |      interpreted relative to the position indicated by whence.  Values\n",
      " |      for whence are:\n",
      " |      \n",
      " |      * 0 -- start of stream (the default); offset should be zero or positive\n",
      " |      * 1 -- current stream position; offset may be negative\n",
      " |      * 2 -- end of stream; offset is usually negative\n",
      " |      \n",
      " |      Return the new absolute position.\n",
      " |  \n",
      " |  seekable(self, /)\n",
      " |      Return whether object supports random access.\n",
      " |      \n",
      " |      If False, seek(), tell() and truncate() will raise OSError.\n",
      " |      This method may need to do a test seek().\n",
      " |  \n",
      " |  tell(self, /)\n",
      " |      Return current stream position.\n",
      " |  \n",
      " |  truncate(self, pos=None, /)\n",
      " |      Truncate file to size bytes.\n",
      " |      \n",
      " |      File pointer is left unchanged.  Size defaults to the current IO\n",
      " |      position as reported by tell().  Returns the new size.\n",
      " |  \n",
      " |  writable(self, /)\n",
      " |      Return whether object was opened for writing.\n",
      " |      \n",
      " |      If False, write() will raise OSError.\n",
      " |  \n",
      " |  write(self, text, /)\n",
      " |      Write string to stream.\n",
      " |      Returns the number of characters written (which is always equal to\n",
      " |      the length of the string).\n",
      " |  \n",
      " |  ----------------------------------------------------------------------\n",
      " |  Data descriptors defined here:\n",
      " |  \n",
      " |  buffer\n",
      " |  \n",
      " |  closed\n",
      " |  \n",
      " |  encoding\n",
      " |      Encoding of the text stream.\n",
      " |      \n",
      " |      Subclasses should override.\n",
      " |  \n",
      " |  errors\n",
      " |      The error setting of the decoder or encoder.\n",
      " |      \n",
      " |      Subclasses should override.\n",
      " |  \n",
      " |  line_buffering\n",
      " |  \n",
      " |  name\n",
      " |  \n",
      " |  newlines\n",
      " |      Line endings translated so far.\n",
      " |      \n",
      " |      Only line endings translated during reading are considered.\n",
      " |      \n",
      " |      Subclasses should override.\n",
      " |  \n",
      " |  ----------------------------------------------------------------------\n",
      " |  Methods inherited from _IOBase:\n",
      " |  \n",
      " |  __del__(...)\n",
      " |  \n",
      " |  __enter__(...)\n",
      " |  \n",
      " |  __exit__(...)\n",
      " |  \n",
      " |  __iter__(self, /)\n",
      " |      Implement iter(self).\n",
      " |  \n",
      " |  readlines(self, hint=-1, /)\n",
      " |      Return a list of lines from the stream.\n",
      " |      \n",
      " |      hint can be specified to control the number of lines read: no more\n",
      " |      lines will be read if the total size (in bytes/characters) of all\n",
      " |      lines so far exceeds hint.\n",
      " |  \n",
      " |  writelines(self, lines, /)\n",
      " |  \n",
      " |  ----------------------------------------------------------------------\n",
      " |  Data descriptors inherited from _IOBase:\n",
      " |  \n",
      " |  __dict__\n",
      "\n",
      "None\n",
      "Leonardo\n",
      "\n"
     ]
    }
   ],
   "source": [
    "# scrivi qui il codice (copia e incolla)\n",
    "\n"
   ]
  },
  {
   "cell_type": "markdown",
   "metadata": {
    "colab_type": "text",
    "id": "I53T_-LV5bPx"
   },
   "source": [
    "Prima abbiamo messo il contenuto della prima linea nella variabile `line`, ora potremmo metterlo in una variabile dal nome più significativo, come `nome`. Non solo, possiamo anche direttamente leggere la linea successiva nella variabile `cognome` e poi stampare la concatenazione delle due:"
   ]
  },
  {
   "cell_type": "code",
   "execution_count": 4,
   "metadata": {
    "colab": {
     "autoexec": {
      "startup": false,
      "wait_interval": 0
     },
     "output_extras": [
      {}
     ]
    },
    "colab_type": "code",
    "id": "nK3hZrCq5bP0",
    "outputId": "49e2a028-ba09-4d96-be97-43a08ef3686b"
   },
   "outputs": [
    {
     "name": "stdout",
     "output_type": "stream",
     "text": [
      "Leonardo\n",
      " da Vinci\n",
      "\n"
     ]
    }
   ],
   "source": [
    "with open('people-simple.txt', encoding='utf-8') as f:\n",
    "    nome=f.readline()\n",
    "    cognome=f.readline()\n",
    "    print(nome + ' ' + cognome)\n"
   ]
  },
  {
   "cell_type": "markdown",
   "metadata": {
    "colab_type": "text",
    "id": "7UwUBQnc5bP-"
   },
   "source": [
    "**PROBLEMA !** La stampa mette comunque uno strano ritorno a capo. Come mai? Se ti ricordi, prima ho detto che `readline` legge il contenuto della linea in una stringa aggiungendo alla fine anche il carattere speciale di ritorno a capo. Per eliminarlo, puoi usare il comando `rstrip()`:"
   ]
  },
  {
   "cell_type": "code",
   "execution_count": 5,
   "metadata": {
    "colab": {
     "autoexec": {
      "startup": false,
      "wait_interval": 0
     },
     "output_extras": [
      {}
     ]
    },
    "colab_type": "code",
    "id": "cNvkN5BD5bQB",
    "outputId": "d9dd006e-6bd9-4671-c98c-3af68cce2dc7"
   },
   "outputs": [
    {
     "name": "stdout",
     "output_type": "stream",
     "text": [
      "Leonardo da Vinci\n"
     ]
    }
   ],
   "source": [
    "with open('people-simple.txt', encoding='utf-8') as f:\n",
    "    nome=f.readline().rstrip()\n",
    "    cognome=f.readline().rstrip()\n",
    "    print(nome + ' ' + cognome)\n"
   ]
  },
  {
   "cell_type": "markdown",
   "metadata": {
    "colab_type": "text",
    "id": "1XWpXow25bQM"
   },
   "source": [
    "**✪ 1.3 ESERCIZIO**: Di nuovo, riscrivi il blocco qua sopra nella cella sotto, ed esegui la cella con Control+Invio. Domanda: che succede se usi `strip()` invece di `rstrip()`? Ed `lstrip()`? Riesci a dedurre il significato di `r` e `l` ? Se non ci riesci, prova ad usare il comando python `help` chiamando `help(string.rstrip)` "
   ]
  },
  {
   "cell_type": "raw",
   "id": "innocent-indiana",
   "metadata": {
    "format": "text/html"
   },
   "source": [
    "<a  class=\"jupman-sol jupman-sol-toggler\" \n",
    " onclick=\"jupman.toggleSolution(this);\" \n",
    " data-jupman-show=\"Mostra soluzione\" data-jupman-hide=\"Nascondi\">Mostra soluzione</a><div class=\"jupman-sol jupman-sol-code\" style=\"display:none\">  "
   ]
  },
  {
   "cell_type": "code",
   "execution_count": 6,
   "metadata": {
    "colab": {
     "autoexec": {
      "startup": false,
      "wait_interval": 0
     }
    },
    "colab_type": "code",
    "id": "cMnM_Ywm5bQP"
   },
   "outputs": [
    {
     "name": "stdout",
     "output_type": "stream",
     "text": [
      "Leonardo da Vinci\n"
     ]
    }
   ],
   "source": [
    "# scrivi qui \n",
    "\n",
    "with open('people-simple.txt', encoding='utf-8') as f:\n",
    "    nome=f.readline().rstrip()\n",
    "    cognome=f.readline().rstrip()\n",
    "    print(nome + ' ' + cognome)"
   ]
  },
  {
   "cell_type": "raw",
   "id": "supreme-malaysia",
   "metadata": {
    "format": "text/html"
   },
   "source": [
    "</div>"
   ]
  },
  {
   "cell_type": "code",
   "execution_count": 6,
   "metadata": {
    "colab": {
     "autoexec": {
      "startup": false,
      "wait_interval": 0
     }
    },
    "colab_type": "code",
    "id": "cMnM_Ywm5bQP"
   },
   "outputs": [
    {
     "name": "stdout",
     "output_type": "stream",
     "text": [
      "Leonardo da Vinci\n"
     ]
    }
   ],
   "source": [
    "# scrivi qui \n",
    "\n"
   ]
  },
  {
   "cell_type": "markdown",
   "metadata": {
    "colab_type": "text",
    "id": "O7vruQTu5bQb"
   },
   "source": [
    "Benissimo, abbiamo la prima linea ! Adesso possiamo leggere tutte le linee in sequenza. A tal fine possiamo usare un ciclo `while`:\n",
    "\n"
   ]
  },
  {
   "cell_type": "code",
   "execution_count": 7,
   "metadata": {
    "colab": {
     "autoexec": {
      "startup": false,
      "wait_interval": 0
     },
     "output_extras": [
      {}
     ]
    },
    "colab_type": "code",
    "id": "dXZBiWN-5bQh",
    "outputId": "607b53ee-8c4d-48cc-dc06-c8d6c0996223"
   },
   "outputs": [
    {
     "name": "stdout",
     "output_type": "stream",
     "text": [
      "Leonardo da Vinci\n",
      "Sandro Botticelli\n",
      "Niccolò Macchiavelli\n"
     ]
    }
   ],
   "source": [
    "with open('people-simple.txt', encoding='utf-8') as f:\n",
    "    linea=f.readline()\n",
    "    while linea != \"\":                \n",
    "        nome = linea.rstrip()\n",
    "        cognome=f.readline().rstrip()\n",
    "        print(nome + ' ' + cognome)\n",
    "        linea=f.readline()"
   ]
  },
  {
   "cell_type": "markdown",
   "metadata": {},
   "source": [
    "<div class=\"alert alert-info\">\n",
    "\n",
    "**NOTA** In Python ci sono [metodi più concisi](https://thispointer.com/5-different-ways-to-read-a-file-line-by-line-in-python/) per leggere un file tdi testo linea per linea, ma abbiamo usato questo approccio per esplicitare tutti i passaggi\n",
    "</div>"
   ]
  },
  {
   "cell_type": "markdown",
   "metadata": {
    "colab_type": "text",
    "id": "Gs1Fthi-5bQr"
   },
   "source": [
    "Cosa abbiamo fatto? Per prima cosa, abbiamo aggiunto un ciclo `while` in un nuovo blocco\n",
    "\n",
    "<div class=\"alert alert-warning\">\n",
    "\n",
    "**Attenzione**: nel nuovo blocco while, dato che è già all'interno del blocco esterno `with`, le istruzioni sono indentate di 8 spazi e non più 4! Se per caso sbagli gli spazi, possono succedere brutti guai!\n",
    "</div>\n",
    "\n",
    "Prima leggiamo una linea, e due casi sono possibili:\n",
    "\n",
    "a. siamo alla fine del file (o il file è vuoto): in questo caso la chiamata a  `readline()` ritorna una stringa vuota\n",
    "\n",
    "b. non siamo alla fine del file: la prima linea è messa come una stringa dentro la variabile `linea`. \n",
    "\n",
    "b. we are not at the end of the file: the first line is put as a string inside the variable `line`. Dato che Python internamente usa un puntatore per tenere traccia della posizione a cui si è durante la lettura del file, dopo una lettura questo puntatore è mosso all'inizio della riga successiva. In questo modo una chiamata successiva a `readline()` leggera la linea dalla nuova posizione.\n",
    "\n",
    "\n",
    "Nel blocco `while` diciamo a Python di continuare il ciclo fintanto che `linea` _non_ è vuota. In questo caso, dentro il blocco `while` estraiamo il nome dalla linea e lo mettiamo nella variabile `nome` (rimuovendo il carattere extra di ritorno a capo con la `rstrip()` come fatto in precedenza), e poi procediamo leggendo la nuova riga ed estraendo il risultato dentro la variabile `cognome`. Infine, leggiamo di nuovo la linea dentro la variabile `linea` così sarà pronta per la prossima iterazione di estrazione nome. Se la `linea` è vuota il ciclo terminerà:\n",
    "\n",
    "\n",
    "```python\n",
    "while linea != \"\":                   # entra il ciclo se la linea contiene caratteri\n",
    "    nome = linea.rstrip()            # estrae il nome\n",
    "    cognome=f.readline().rstrip()    # legge la nuova linea ed estrae il cognome\n",
    "    print(nome + ' ' + cognome)     \n",
    "    linea=f.readline()               # legge la prossima linea\n",
    "```\n"
   ]
  },
  {
   "cell_type": "markdown",
   "metadata": {
    "colab_type": "text",
    "id": "z2RxmnlK5bQu"
   },
   "source": [
    "**✪ 1.4 ESERCIZIO**: Di nuovo come prima, riscrivi nella cella qua sotto il codice col while appena spiegato, facendo MOLTA attenzione all'indentazione (per la linea del with esterno fai pure copia e incolla):"
   ]
  },
  {
   "cell_type": "raw",
   "id": "armed-imagination",
   "metadata": {
    "format": "text/html"
   },
   "source": [
    "<a  class=\"jupman-sol jupman-sol-toggler\" \n",
    " onclick=\"jupman.toggleSolution(this);\" \n",
    " data-jupman-show=\"Mostra soluzione\" data-jupman-hide=\"Nascondi\">Mostra soluzione</a><div class=\"jupman-sol jupman-sol-code\" style=\"display:none\">  "
   ]
  },
  {
   "cell_type": "code",
   "execution_count": 8,
   "metadata": {
    "colab": {
     "autoexec": {
      "startup": false,
      "wait_interval": 0
     }
    },
    "colab_type": "code",
    "id": "rElpI-gY5bQw"
   },
   "outputs": [
    {
     "name": "stdout",
     "output_type": "stream",
     "text": [
      "Leonardo da Vinci\n",
      "Sandro Botticelli\n",
      "Niccolò Macchiavelli\n"
     ]
    }
   ],
   "source": [
    "# scrivi qui il codice col while interno\n",
    "\n",
    "with open('people-simple.txt', encoding='utf-8') as f:\n",
    "    linea=f.readline()\n",
    "    while linea != \"\":                \n",
    "        nome = linea.rstrip()\n",
    "        cognome=f.readline().rstrip()\n",
    "        print(nome + ' ' + cognome)\n",
    "        linea=f.readline()"
   ]
  },
  {
   "cell_type": "raw",
   "id": "sustained-working",
   "metadata": {
    "format": "text/html"
   },
   "source": [
    "</div>"
   ]
  },
  {
   "cell_type": "code",
   "execution_count": 8,
   "metadata": {
    "colab": {
     "autoexec": {
      "startup": false,
      "wait_interval": 0
     }
    },
    "colab_type": "code",
    "id": "rElpI-gY5bQw"
   },
   "outputs": [
    {
     "name": "stdout",
     "output_type": "stream",
     "text": [
      "Leonardo da Vinci\n",
      "Sandro Botticelli\n",
      "Niccolò Macchiavelli\n"
     ]
    }
   ],
   "source": [
    "# scrivi qui il codice col while interno\n",
    "\n"
   ]
  },
  {
   "cell_type": "markdown",
   "metadata": {
    "colab_type": "text",
    "id": "6pP7nWFc5bQ4"
   },
   "source": [
    "### File a linee people-complex: \n",
    "\n",
    "Guarda il file `people-complex.txt`, più complesso:\n",
    "```\n",
    "nome: Leonardo\n",
    "cognome: da Vinci\n",
    "data di nascita: 1452-04-15\n",
    "nome: Sandro\n",
    "cognome: Botticelli\n",
    "data di nascita: 1445-03-01\n",
    "nome: Niccolò \n",
    "cognome: Macchiavelli\n",
    "data di nascita: 1469-05-03\n",
    "```\n",
    "\n",
    "Supponendo di leggere il file per voler stampare questo output, come faresti ?\n",
    "\n",
    "```\n",
    "Leonardo da Vinci, 1452-04-15\n",
    "Sandro Botticelli, 1445-03-01\n",
    "Niccolò Macchiavelli, 1469-05-03\n",
    "```"
   ]
  },
  {
   "cell_type": "markdown",
   "metadata": {
    "colab_type": "text",
    "id": "c76qOu-25bQ7"
   },
   "source": [
    "\n",
    "**Suggerimento 1**: Per ottenere dalla stringa `'abcde'` la sottostringa `'cde'`, che inizia all'indice 2,  puoi usare l'operatore di parentesi quadre, indicando l'indice di inizio seguito dai doppi punti `:` \n"
   ]
  },
  {
   "cell_type": "code",
   "execution_count": 9,
   "metadata": {
    "colab": {
     "autoexec": {
      "startup": false,
      "wait_interval": 0
     },
     "output_extras": [
      {}
     ]
    },
    "colab_type": "code",
    "id": "wbGZhl2w5bQ-",
    "outputId": "d42be766-a32c-44c6-c44f-b29b34817cd8"
   },
   "outputs": [
    {
     "data": {
      "text/plain": [
       "'cde'"
      ]
     },
     "execution_count": 9,
     "metadata": {},
     "output_type": "execute_result"
    }
   ],
   "source": [
    "x = 'abcde'\n",
    "x[2:]"
   ]
  },
  {
   "cell_type": "code",
   "execution_count": 10,
   "metadata": {
    "colab": {
     "autoexec": {
      "startup": false,
      "wait_interval": 0
     },
     "output_extras": [
      {}
     ]
    },
    "colab_type": "code",
    "id": "Nr3E0n-d5bRI",
    "outputId": "33bdbff3-051a-4c6f-86b0-209fa7706cd3"
   },
   "outputs": [
    {
     "data": {
      "text/plain": [
       "'de'"
      ]
     },
     "execution_count": 10,
     "metadata": {},
     "output_type": "execute_result"
    }
   ],
   "source": [
    "x[3:]"
   ]
  },
  {
   "cell_type": "markdown",
   "metadata": {
    "colab_type": "text",
    "id": "HlDQzVWG5bRS"
   },
   "source": [
    "**Suggerimento 2**: Per sapere la lunghezza di una stringa, usa la funzione `len`: "
   ]
  },
  {
   "cell_type": "code",
   "execution_count": 11,
   "metadata": {
    "colab": {
     "autoexec": {
      "startup": false,
      "wait_interval": 0
     },
     "output_extras": [
      {}
     ]
    },
    "colab_type": "code",
    "id": "G5-AXund5bRT",
    "outputId": "2bc3c444-04d0-4053-d3c0-60fe33ed6099"
   },
   "outputs": [
    {
     "data": {
      "text/plain": [
       "5"
      ]
     },
     "execution_count": 11,
     "metadata": {},
     "output_type": "execute_result"
    }
   ],
   "source": [
    "len('abcde')"
   ]
  },
  {
   "cell_type": "markdown",
   "metadata": {
    "colab_type": "text",
    "id": "KVA0FPut5bRe"
   },
   "source": [
    "**✪ 1.5 ESERCIZIO**: Scrivi qua sotto la soluzione dell'esercizio 'People complex': "
   ]
  },
  {
   "cell_type": "raw",
   "id": "fuzzy-married",
   "metadata": {
    "format": "text/html"
   },
   "source": [
    "<a  class=\"jupman-sol jupman-sol-toggler\" \n",
    " onclick=\"jupman.toggleSolution(this);\" \n",
    " data-jupman-show=\"Mostra soluzione\" data-jupman-hide=\"Nascondi\">Mostra soluzione</a><div class=\"jupman-sol jupman-sol-code\" style=\"display:none\">  "
   ]
  },
  {
   "cell_type": "code",
   "execution_count": 12,
   "metadata": {
    "colab": {
     "autoexec": {
      "startup": false,
      "wait_interval": 0
     }
    },
    "colab_type": "code",
    "id": "XlS5VSI05bRg"
   },
   "outputs": [
    {
     "name": "stdout",
     "output_type": "stream",
     "text": [
      "Leonardo da Vinci, 1452-04-15\n",
      "Sandro Botticelli, 1445-03-01\n",
      "Niccolò Macchiavelli, 1469-05-03\n"
     ]
    }
   ],
   "source": [
    "# scrivi qui \n",
    "\n",
    "with open('people-complex.txt', encoding='utf-8') as f:\n",
    "    linea=f.readline()\n",
    "    while linea != \"\":                \n",
    "        nome = linea.rstrip()[len(\"nome: \"):]\n",
    "        cognome= f.readline().rstrip()[len(\"cognome: \"):]\n",
    "        nato = f.readline().rstrip()[len(\"data di nascita: \"):]\n",
    "        print(nome + ' ' + cognome + ', ' + nato)\n",
    "        linea=f.readline()        "
   ]
  },
  {
   "cell_type": "raw",
   "id": "described-kennedy",
   "metadata": {
    "format": "text/html"
   },
   "source": [
    "</div>"
   ]
  },
  {
   "cell_type": "code",
   "execution_count": 12,
   "metadata": {
    "colab": {
     "autoexec": {
      "startup": false,
      "wait_interval": 0
     }
    },
    "colab_type": "code",
    "id": "XlS5VSI05bRg"
   },
   "outputs": [
    {
     "name": "stdout",
     "output_type": "stream",
     "text": [
      "Leonardo da Vinci, 1452-04-15\n",
      "Sandro Botticelli, 1445-03-01\n",
      "Niccolò Macchiavelli, 1469-05-03\n"
     ]
    }
   ],
   "source": [
    "# scrivi qui \n",
    "\n"
   ]
  },
  {
   "cell_type": "markdown",
   "metadata": {
    "colab_type": "text",
    "id": "Q_F0X5jm5bRo"
   },
   "source": [
    "### Esercizio file a linee immersione-in-python-toc\n",
    "\n",
    "Questo esercizio è più difficile, se sei alle prime armi puoi saltarlo e passare ai CSV.\n",
    "\n",
    "Il libro Immersione in Python in Italiano è bello e ti fornisce un PDF, che però ha un problema: se provi a stamparlo scoprirai che manca l'indice. Senza perderci d'animo, abbiamo trovato un programmino che ci ha estratto i titoli in un file come segue, che però come scoprirai non è esattamente bello da vedere. Dato che siamo Python ninja, abbiamo deciso di trasformare i titoli grezzi in una [tabella dei contenuti vera e propria](http://it.softpython.org/_static/toc-immersione-in-python-3.txt). Sicuramente ci sono metodi più furbi per compiere questa operazione, come caricare il pdf in Python con una apposita libreria per i pdf, ma pareva un esercizio interessante.\n",
    "\n",
    "Ti viene consegnato il file immersione-in-python-toc.txt:\n",
    "\n",
    "```\n",
    "BookmarkBegin\n",
    "BookmarkTitle: Il vostro primo programma Python\n",
    "BookmarkLevel: 1\n",
    "BookmarkPageNumber: 38\n",
    "BookmarkBegin\n",
    "BookmarkTitle: Immersione!\n",
    "BookmarkLevel: 2\n",
    "BookmarkPageNumber: 38\n",
    "BookmarkBegin\n",
    "BookmarkTitle: Dichiarare funzioni\n",
    "BookmarkLevel: 2\n",
    "BookmarkPageNumber: 41\n",
    "BookmarkBeginint\n",
    "BookmarkTitle: Argomenti opzionali e con nome\n",
    "BookmarkLevel: 3\n",
    "BookmarkPageNumber: 42\n",
    "BookmarkBegin\n",
    "BookmarkTitle: Scrivere codice leggibile\n",
    "BookmarkLevel: 2\n",
    "BookmarkPageNumber: 44\n",
    "BookmarkBegin\n",
    "BookmarkTitle: Stringhe di documentazione\n",
    "BookmarkLevel: 3\n",
    "BookmarkPageNumber: 44\n",
    "BookmarkBegin\n",
    "BookmarkTitle: Il percorso di ricerca di import\n",
    "BookmarkLevel: 2\n",
    "BookmarkPageNumber: 46\n",
    "BookmarkBegin\n",
    "BookmarkTitle: Ogni cosa &#232; un oggetto\n",
    "BookmarkLevel: 2\n",
    "BookmarkPageNumber: 47\n",
    "```\n",
    "\n",
    "Scrivi un programma python per stampare e video il seguente output:\n",
    "\n",
    "```\n",
    "   Il vostro primo programma Python  38\n",
    "      Immersione!  38\n",
    "      Dichiarare funzioni  41\n",
    "         Argomenti opzionali e con nome  42\n",
    "      Scrivere codice leggibile  44\n",
    "         Stringhe di documentazione  44\n",
    "      Il percorso di ricerca di import  46\n",
    "      Ogni cosa è un oggetto  47\n",
    "```\n",
    "\n",
    "Per questo esercizio, dovrai inserire nell'output degli spazi artificiali, in una quantità determinata dalle righe `BookmarkLevel`. \n",
    "\n",
    "**DOMANDA**: che cos'è  lo strano valore `&#232;` alla fine del file originale ? Dobbiamo riportarlo nell'output ? \n",
    "\n",
    "**SUGGERIMENTO 1**: Per convertire una stringa in numero intero, usa la funzione `int`:\n"
   ]
  },
  {
   "cell_type": "code",
   "execution_count": 13,
   "metadata": {
    "colab": {
     "autoexec": {
      "startup": false,
      "wait_interval": 0
     }
    },
    "colab_type": "code",
    "id": "XWlxnhpX5bRy"
   },
   "outputs": [],
   "source": [
    "x = '5'"
   ]
  },
  {
   "cell_type": "code",
   "execution_count": 14,
   "metadata": {
    "colab": {
     "autoexec": {
      "startup": false,
      "wait_interval": 0
     },
     "output_extras": [
      {}
     ]
    },
    "colab_type": "code",
    "id": "GdJd09mZ5bR_",
    "outputId": "dc19c940-e1af-4c84-aa60-012cfb985133"
   },
   "outputs": [
    {
     "data": {
      "text/plain": [
       "'5'"
      ]
     },
     "execution_count": 14,
     "metadata": {},
     "output_type": "execute_result"
    }
   ],
   "source": [
    "x"
   ]
  },
  {
   "cell_type": "code",
   "execution_count": 15,
   "metadata": {
    "colab": {
     "autoexec": {
      "startup": false,
      "wait_interval": 0
     },
     "output_extras": [
      {}
     ]
    },
    "colab_type": "code",
    "id": "nETKnztF5bSF",
    "outputId": "118522fe-186c-452e-9218-223508605154"
   },
   "outputs": [
    {
     "data": {
      "text/plain": [
       "5"
      ]
     },
     "execution_count": 15,
     "metadata": {},
     "output_type": "execute_result"
    }
   ],
   "source": [
    "int(x)"
   ]
  },
  {
   "cell_type": "markdown",
   "metadata": {
    "colab_type": "text",
    "id": "wwfLN6lv5bSQ"
   },
   "source": [
    "\n",
    "<div class=\"alert alert-warning\">\n",
    "\n",
    "**Attenzione**: `int(x)` ritorna un valore, e non modifica mai l'argomento `x` !  \n",
    "</div>\n"
   ]
  },
  {
   "cell_type": "markdown",
   "metadata": {
    "colab_type": "text",
    "id": "w06zsF1a5bSS"
   },
   "source": [
    "**SUGGERIMENTO 2**: Per sostituire un sottostringa in una stringa, si può usare la funzione replace:"
   ]
  },
  {
   "cell_type": "code",
   "execution_count": 16,
   "metadata": {
    "colab": {
     "autoexec": {
      "startup": false,
      "wait_interval": 0
     },
     "output_extras": [
      {}
     ]
    },
    "colab_type": "code",
    "id": "sGPUddlf5bST",
    "outputId": "4af45183-e44d-4fad-a1ba-16c6722c62ce"
   },
   "outputs": [
    {
     "data": {
      "text/plain": [
       "'abHELLOe'"
      ]
     },
     "execution_count": 16,
     "metadata": {},
     "output_type": "execute_result"
    }
   ],
   "source": [
    "x = 'abcde'\n",
    "x.replace('cd', 'HELLO' )"
   ]
  },
  {
   "cell_type": "markdown",
   "metadata": {
    "colab_type": "text",
    "id": "7OBEbHya5bSd"
   },
   "source": [
    "**SUGGERIMENTO 4**: Finchè c'è una sola sequenza da sostituire, va bene il replace, ma se avessimo un milione di sequenze orribili come `&gt;`, `&#62;`, `&x3e;`, che faremmo? Da bravi data cleaner, possiamo riconoscere che sono [sequenze di escape HTML](https://corsidia.com/materia/web-design/caratterispecialihtml), perciò potremmo usare dei  metodi specifici per queste sequenze come [html.unescape](https://docs.python.org/3/library/html.html#html.unescape). Provalo invece del replace e guarda se funziona! \n",
    "\n",
    "NOTA: Prima di usare il metodo `html.unescape`, importa il modulo `html` con il comando: \n",
    "\n",
    "```python\n",
    "import html\n",
    "```"
   ]
  },
  {
   "cell_type": "markdown",
   "metadata": {
    "colab_type": "text",
    "id": "m2scPeP15bSe"
   },
   "source": [
    "**SUGGERIMENTO 3**: Per scrivere _n_ copie di un carattere, usa `*` come qua:"
   ]
  },
  {
   "cell_type": "code",
   "execution_count": 17,
   "metadata": {
    "colab": {
     "autoexec": {
      "startup": false,
      "wait_interval": 0
     },
     "output_extras": [
      {}
     ]
    },
    "colab_type": "code",
    "id": "0mOU41SC5bSf",
    "outputId": "74391ce6-fef1-4d9e-a630-804af033f3fd"
   },
   "outputs": [
    {
     "data": {
      "text/plain": [
       "'bbb'"
      ]
     },
     "execution_count": 17,
     "metadata": {},
     "output_type": "execute_result"
    }
   ],
   "source": [
    "\"b\" * 3"
   ]
  },
  {
   "cell_type": "code",
   "execution_count": 18,
   "metadata": {
    "colab": {
     "autoexec": {
      "startup": false,
      "wait_interval": 0
     },
     "output_extras": [
      {}
     ]
    },
    "colab_type": "code",
    "id": "NK5lFuks5bSm",
    "outputId": "56bed93f-878f-4d92-88fc-2afef788218c"
   },
   "outputs": [
    {
     "data": {
      "text/plain": [
       "'bbbbbbb'"
      ]
     },
     "execution_count": 18,
     "metadata": {},
     "output_type": "execute_result"
    }
   ],
   "source": [
    "\"b\" * 7"
   ]
  },
  {
   "cell_type": "markdown",
   "metadata": {
    "colab_type": "text",
    "id": "58yyJFaf5bSu"
   },
   "source": [
    "**✪✪✪ 1.6 ESERCIZIO**: Scrivi qua sotto la soluzione per file a linee immersione-in-python-toc, e prova ad eseguirla premendo Control + Invio:"
   ]
  },
  {
   "cell_type": "raw",
   "id": "olympic-weekly",
   "metadata": {
    "format": "text/html"
   },
   "source": [
    "<a  class=\"jupman-sol jupman-sol-toggler\" \n",
    " onclick=\"jupman.toggleSolution(this);\" \n",
    " data-jupman-show=\"Mostra soluzione\" data-jupman-hide=\"Nascondi\">Mostra soluzione</a><div class=\"jupman-sol jupman-sol-code\" style=\"display:none\">  "
   ]
  },
  {
   "cell_type": "code",
   "execution_count": 19,
   "metadata": {
    "colab": {
     "autoexec": {
      "startup": false,
      "wait_interval": 0
     }
    },
    "colab_type": "code",
    "id": "ndZarkM45bSv"
   },
   "outputs": [
    {
     "name": "stdout",
     "output_type": "stream",
     "text": [
      "   Il vostro primo programma Python  38\n",
      "      Immersione!  38\n",
      "      Dichiarare funzioni  41\n",
      "         Argomenti opzionali e con nome  42\n",
      "      Scrivere codice leggibile  44\n",
      "         Stringhe di documentazione  44\n",
      "      Il percorso di ricerca di import  46\n",
      "      Ogni cosa è un oggetto  47\n"
     ]
    }
   ],
   "source": [
    "# scrivi qui \n",
    "\n",
    "import html\n",
    "\n",
    "with open(\"immersione-in-python-toc.txt\", encoding='utf-8') as f:\n",
    "\n",
    "    linea=f.readline()  \n",
    "    while linea != \"\":\n",
    "        linea = f.readline().strip()\n",
    "        titolo = html.unescape(linea[len(\"BookmarkTitle: \"):])\n",
    "        linea=f.readline().strip()\n",
    "        livello = int(linea[len(\"BookmarkLevel: \"):])\n",
    "        linea=f.readline().strip()\n",
    "        pagina = linea[len(\"BookmarkPageNumber: \"):]\n",
    "        print((\"   \" * livello) + titolo + \"  \" + pagina)\n",
    "        linea=f.readline()"
   ]
  },
  {
   "cell_type": "raw",
   "id": "featured-runner",
   "metadata": {
    "format": "text/html"
   },
   "source": [
    "</div>"
   ]
  },
  {
   "cell_type": "code",
   "execution_count": 19,
   "metadata": {
    "colab": {
     "autoexec": {
      "startup": false,
      "wait_interval": 0
     }
    },
    "colab_type": "code",
    "id": "ndZarkM45bSv"
   },
   "outputs": [
    {
     "name": "stdout",
     "output_type": "stream",
     "text": [
      "   Il vostro primo programma Python  38\n",
      "      Immersione!  38\n",
      "      Dichiarare funzioni  41\n",
      "         Argomenti opzionali e con nome  42\n",
      "      Scrivere codice leggibile  44\n",
      "         Stringhe di documentazione  44\n",
      "      Il percorso di ricerca di import  46\n",
      "      Ogni cosa è un oggetto  47\n"
     ]
    }
   ],
   "source": [
    "# scrivi qui \n",
    "\n"
   ]
  },
  {
   "cell_type": "markdown",
   "metadata": {
    "colab_type": "text",
    "id": "47Jg7yaZ5bSy"
   },
   "source": [
    "## 2. File CSV\n",
    "\n",
    "Ci possono essere vari formati per i file tabulari, tra cui sicuramente conoscerai gli Excel (`.xls` o `.xslx`). Peccato che se vuoi processare dati programmaticamente, faresti meglio ad evitarli e preferire se possibile i file CSV, letteralmente 'Comma separated Value'. Per capire il perchè, quando hai tempo potresti guardare [questo tutorial](https://docs.google.com/presentation/d/1RPiRFm0g9QtSiC3aO32aFldSYThl11CB9HI_HHG6hvY/) in cui si spiega a produttori di dati (in questo caso, dipendenti pubblici) come trasformare Excel in CSV, evidenziando i vari grattacapi che un Excel può presentare a chi poi riusa i dati. \n",
    "\n",
    "Oggi proveremo ad aprire qualche CSV, prendendo in considerazione i possibili problemi che possono insorgere. I CSV non sono la panacea per tutti i mali, ma offrono maggiore controllo sulla lettura e tipicamente se saltano fuori errori di conversione è perchè siamo stati noi a sbagliare, e non perchè la libreria di lettura ha magari deciso da sola di  scambiare nelle date i giorni con i mesi.\n",
    "\n",
    "### Perchè scorrere un CSV ?\n",
    "\n",
    "Per caricare e processare CSV esistono già librerie molto potenti ed intuitive come Pandas in Python o i dataframe di R, che forse avrai già visto. Oggi invece caricheremo i CSV usando il mezzo più semplice possibile, che è la lettura riga per riga, più o meno come fatto nella prima parte del tutorial. Non bisogna pensare che questo metodo sia primitivo o stupido, a seconda della situazione può salvare la giornata. Come mai? Dato che alcuni file potenzialmente potrebbero occupare terabyte, e nei moderni laptop di solito abbiamo mediamente solo 4 Gigabyte di RAM, che è la memoria dove Python mette le variabili, le funzioni di base di Python per leggere file evitano di caricare tutto in RAM. Tipicamente invece un file viene scorso un po' alla volta, mettendo in RAM solo una riga alla volta. "
   ]
  },
  {
   "cell_type": "markdown",
   "metadata": {},
   "source": [
    "**DOMANDA 2.1**: se vogliamo sapere se un certo file da 100 terabyte contiene almeno 3 milioni di righe in cui è presente la parola 'ciao', dobbiamo mettere in RAM contemporaneamente tutte le righe?"
   ]
  },
  {
   "cell_type": "raw",
   "id": "liable-forth",
   "metadata": {
    "format": "text/html"
   },
   "source": [
    "<a  class=\"jupman-sol jupman-sol-toggler\" \n",
    " onclick=\"jupman.toggleSolution(this);\" \n",
    " data-jupman-show=\"Mostra risposta\" data-jupman-hide=\"Nascondi\">Mostra risposta</a><div class=\"jupman-sol jupman-sol-question\" style=\"display:none\">  "
   ]
  },
  {
   "cell_type": "markdown",
   "metadata": {},
   "source": [
    "**RISPOSTA**: no, basta mettere una riga alla volta, e tenere una variabile per il conteggio "
   ]
  },
  {
   "cell_type": "raw",
   "id": "adequate-target",
   "metadata": {
    "format": "text/html"
   },
   "source": [
    "</div>"
   ]
  },
  {
   "cell_type": "markdown",
   "metadata": {},
   "source": [
    "**DOMANDA 2.2**: E se volessimo, partendo da un file da 100 terabyte crearne un'altro con gli stessi contenuti del primo file a cui a tutte le righe è aggiunta la parola 'ciao' alla fine, dovremmo mettere in RAM contemporaneamente tutte le righe del primo file? E quelle del secondo ?"
   ]
  },
  {
   "cell_type": "raw",
   "id": "coordinated-sense",
   "metadata": {
    "format": "text/html"
   },
   "source": [
    "<a  class=\"jupman-sol jupman-sol-toggler\" \n",
    " onclick=\"jupman.toggleSolution(this);\" \n",
    " data-jupman-show=\"Mostra risposta\" data-jupman-hide=\"Nascondi\">Mostra risposta</a><div class=\"jupman-sol jupman-sol-question\" style=\"display:none\">  "
   ]
  },
  {
   "cell_type": "markdown",
   "metadata": {},
   "source": [
    "**RISPOSTA**:  No, basta tenere in RAM una riga alla volta, che viene prima letta dal primo file e subito scritta nel secondo"
   ]
  },
  {
   "cell_type": "raw",
   "id": "actual-certification",
   "metadata": {
    "format": "text/html"
   },
   "source": [
    "</div>"
   ]
  },
  {
   "cell_type": "markdown",
   "metadata": {},
   "source": [
    "### CSV di esempio \n",
    "\n",
    "Cominciamo con dei CSV artificiali di esempio, sul modello di esercizi già fatti [nella introduzione](https://it.softpython.org/intro/intro-sol.html)\n",
    "\n",
    "Per iniziare, vedremo il CSV [esempio-1.csv](esempio-1.csv) che trovi nella stessa cartella di questo foglio Jupyter. Riportiamo qui il contenuto del file:\n",
    "\n",
    "```\n",
    "animale, anni\n",
    "cane, 12\n",
    "gatto, 14\n",
    "pellicano, 30\n",
    "scoiattolo, 6\n",
    "aquila, 25\n",
    "```\n",
    "\n",
    "Notiamo subito che il CSV è più strutturato dei file visti nella sezione precedente\n",
    "\n",
    "* la prima linea sono i nomi delle colonne, separati da virgole (_comma_ in inglese): `animale, anni`\n",
    "* I campi nelle righe successive sono pure separati da virgole `,` : `cane, 12`\n",
    "\n",
    "Proveremo ora ad importare questo file in Python:"
   ]
  },
  {
   "cell_type": "code",
   "execution_count": 20,
   "metadata": {},
   "outputs": [
    {
     "name": "stdout",
     "output_type": "stream",
     "text": [
      "Abbiamo appena letto una riga!\n",
      "['animale', 'anni']\n",
      "\n",
      "Abbiamo appena letto una riga!\n",
      "['cane', '12']\n",
      "\n",
      "Abbiamo appena letto una riga!\n",
      "['gatto', '14']\n",
      "\n",
      "Abbiamo appena letto una riga!\n",
      "['pellicano', '30']\n",
      "\n",
      "Abbiamo appena letto una riga!\n",
      "['scoiattolo', '6']\n",
      "\n",
      "Abbiamo appena letto una riga!\n",
      "['aquila', '25']\n",
      "\n"
     ]
    }
   ],
   "source": [
    "import csv\n",
    "with open('esempio-1.csv', encoding='utf-8', newline='') as f:\n",
    "    \n",
    "    # creiamo un oggetto 'lettore' che pescherà righe dal file\n",
    "    lettore = csv.reader(f, delimiter=',') \n",
    "    \n",
    "    # 'lettore' è un oggetto cosiddetto 'iterabile', cioè se usato in un for produce una \n",
    "    #  sequenza di righe dal csv \n",
    "    #  NOTA: qui ogni riga del file viene convertita in una una lista di stringhe Python!\n",
    "    for riga in lettore:\n",
    "        print('Abbiamo appena letto una riga!')        \n",
    "        print(riga)  # stamperà la variabile 'riga', che è una lista di stringhe\n",
    "        print('')    # stampa una stringa vuota, per separare in verticale"
   ]
  },
  {
   "cell_type": "markdown",
   "metadata": {},
   "source": [
    "Notiamo subito dall'output della print che viene stampato il file di esempio, ma ci sono delle parentesi quadre ( '[]' ). Cosa significano? Quelle che abbiamo stampato sono una _liste_ di _stringhe_.\n",
    "\n",
    "Analizziamo meglio quanto fatto:\n",
    "\n",
    "```python\n",
    "import csv\n",
    "```\n",
    "Python è fornito nativamente di un modulo per il trattamento dei csv, col nome intuitivo `csv`. Con questa istruzione, abbiamo appena caricato questo modulo.\n",
    "\n",
    "Cosa succede dopo ? Come già fatto per i file a linee in precedenza, apriamo il file in un blocco `with`: \n",
    "\n",
    "```python\n",
    "with open('esempio-1.csv', encoding='utf-8', newline='') as f:\n",
    "    lettore = csv.reader(f, delimiter=',')\n",
    "    for riga in lettore:\n",
    "        print(riga)\n",
    "```\n",
    "\n",
    "Per adesso ignora il `newline=''` e nota che come prima abbiamo specificato l'encoding\n",
    "\n",
    "Una volta aperto il file, nella riga \n",
    "\n",
    "```python\n",
    "    lettore = csv.reader(f, delimiter=',')\n",
    "```\n",
    "\n",
    "chiediamo al modulo `csv` di crearci un oggetto lettore chiamato `lettore` per il nostro file, dicendo a Python che il delimitatore per i campi sono le virgole.\n",
    "\n",
    "**NOTA:** `lettore` è il nome di una variabile che stiamo creando, potremmo dare un nome qualunque.\n",
    "\n",
    "Questo oggetto lettore può essere sfruttato come una specie di generatore di righe usando un ciclo `for`.\n",
    "\n",
    "```\n",
    "    for riga in lettore:\n",
    "        print(riga)\n",
    "```\n",
    "\n",
    "Nel ciclo `for` sfruttiamo l'oggetto `lettore` per iterare nella lettura del file, producendo ad ogni iterazione una riga che chiamiamo `riga` (ma potrebbe essere un qualunque nome a nostro piacimento). Ad ogni iterazione, la variabile `riga` viene stampata. \n",
    "\n",
    "Se guardi bene le stampe delle prime liste, vedrai che ogni volta a ogni riga riga viene assegnata una sola lista Python. La lista contiene tanti elementi quanti campi ci sono nel CSV. "
   ]
  },
  {
   "cell_type": "markdown",
   "metadata": {},
   "source": [
    "**✪ ESERCIZIO 2.3**: Riscrivi nella cella qua sotto le istruzioni per leggere e stampare il csv, facendo come sempre attenzione all'indentazione: "
   ]
  },
  {
   "cell_type": "raw",
   "id": "cloudy-potato",
   "metadata": {
    "format": "text/html"
   },
   "source": [
    "<a  class=\"jupman-sol jupman-sol-toggler\" \n",
    " onclick=\"jupman.toggleSolution(this);\" \n",
    " data-jupman-show=\"Mostra soluzione\" data-jupman-hide=\"Nascondi\">Mostra soluzione</a><div class=\"jupman-sol jupman-sol-code\" style=\"display:none\">  "
   ]
  },
  {
   "cell_type": "code",
   "execution_count": 21,
   "metadata": {},
   "outputs": [
    {
     "name": "stdout",
     "output_type": "stream",
     "text": [
      "Abbiamo appena letto una riga!\n",
      "['animale', 'anni']\n",
      "\n",
      "Abbiamo appena letto una riga!\n",
      "['cane', '12']\n",
      "\n",
      "Abbiamo appena letto una riga!\n",
      "['gatto', '14']\n",
      "\n",
      "Abbiamo appena letto una riga!\n",
      "['pellicano', '30']\n",
      "\n",
      "Abbiamo appena letto una riga!\n",
      "['scoiattolo', '6']\n",
      "\n",
      "Abbiamo appena letto una riga!\n",
      "['aquila', '25']\n",
      "\n"
     ]
    }
   ],
   "source": [
    "# scrivi qui\n",
    "\n",
    "import csv\n",
    "with open('esempio-1.csv', encoding='utf-8', newline='') as f:\n",
    "    \n",
    "    # creiamo un oggetto 'lettore' che pescherà righe dal file\n",
    "    lettore = csv.reader(f, delimiter=',') \n",
    "    \n",
    "    # 'lettore' è un oggetto cosiddetto 'iterabile', cioè se usato in un for produce una \n",
    "    #  sequenza di righe dal csv \n",
    "    #  NOTA: qui ogni riga del file viene convertita in una una lista di stringhe Python!\n",
    "    for riga in lettore:\n",
    "        print('Abbiamo appena letto una riga!')        \n",
    "        print(riga)  # stamperà la variabile 'riga', che è una lista di stringhe\n",
    "        print('')    # stampa una stringa vuota, per separare in verticale\n",
    "\n"
   ]
  },
  {
   "cell_type": "raw",
   "id": "seasonal-bishop",
   "metadata": {
    "format": "text/html"
   },
   "source": [
    "</div>"
   ]
  },
  {
   "cell_type": "code",
   "execution_count": 21,
   "metadata": {},
   "outputs": [
    {
     "name": "stdout",
     "output_type": "stream",
     "text": [
      "Abbiamo appena letto una riga!\n",
      "['animale', 'anni']\n",
      "\n",
      "Abbiamo appena letto una riga!\n",
      "['cane', '12']\n",
      "\n",
      "Abbiamo appena letto una riga!\n",
      "['gatto', '14']\n",
      "\n",
      "Abbiamo appena letto una riga!\n",
      "['pellicano', '30']\n",
      "\n",
      "Abbiamo appena letto una riga!\n",
      "['scoiattolo', '6']\n",
      "\n",
      "Abbiamo appena letto una riga!\n",
      "['aquila', '25']\n",
      "\n"
     ]
    }
   ],
   "source": [
    "# scrivi qui\n",
    "\n"
   ]
  },
  {
   "cell_type": "markdown",
   "metadata": {},
   "source": [
    "**✪✪ ESERCIZIO 2.4**: prova a mettere in una variabile `listona` una lista contenente tutte le righe estratte dal file, che quindi sarà una lista di liste che dovrebbe apparire così.\n",
    "\n",
    "```\n",
    "[['animale', ' anni'],\n",
    " ['cane', '12'],\n",
    " ['gatto', '14'],\n",
    " ['pellicano', '30'],\n",
    " ['scoiattolo', '6'],\n",
    " ['aquila', '25']]\n",
    "```\n",
    "\n",
    "**SUGGERIMENTO**: Comincia creando una lista vuota e poi aggiungendo elementi con il metodo `.append`"
   ]
  },
  {
   "cell_type": "raw",
   "id": "ancient-turkish",
   "metadata": {
    "format": "text/html"
   },
   "source": [
    "<a  class=\"jupman-sol jupman-sol-toggler\" \n",
    " onclick=\"jupman.toggleSolution(this);\" \n",
    " data-jupman-show=\"Mostra soluzione\" data-jupman-hide=\"Nascondi\">Mostra soluzione</a><div class=\"jupman-sol jupman-sol-code\" style=\"display:none\">  "
   ]
  },
  {
   "cell_type": "code",
   "execution_count": 22,
   "metadata": {},
   "outputs": [
    {
     "name": "stdout",
     "output_type": "stream",
     "text": [
      "[['animale', 'anni'], ['cane', '12'], ['gatto', '14'], ['pellicano', '30'], ['scoiattolo', '6'], ['aquila', '25']]\n"
     ]
    }
   ],
   "source": [
    "# scrivi qui \n",
    "\n",
    "import csv\n",
    "with open('esempio-1.csv', encoding='utf-8', newline='') as f:\n",
    "    \n",
    "    # creiamo un oggetto 'lettore' che pescherà righe dal file\n",
    "    lettore = csv.reader(f, delimiter=',') \n",
    "    \n",
    "    # 'lettore' è un oggetto cosiddetto 'iterabile', cioè se usato in un for produce una \n",
    "    #  sequenza di righe dal csv \n",
    "    #  NOTA: qui ogni riga del file viene convertita in una una lista di stringhe Python!\n",
    "    listona = []\n",
    "    for riga in lettore:\n",
    "        listona.append(riga)\n",
    "    print(listona)\n"
   ]
  },
  {
   "cell_type": "raw",
   "id": "approximate-coordinator",
   "metadata": {
    "format": "text/html"
   },
   "source": [
    "</div>"
   ]
  },
  {
   "cell_type": "code",
   "execution_count": 22,
   "metadata": {},
   "outputs": [
    {
     "name": "stdout",
     "output_type": "stream",
     "text": [
      "[['animale', 'anni'], ['cane', '12'], ['gatto', '14'], ['pellicano', '30'], ['scoiattolo', '6'], ['aquila', '25']]\n"
     ]
    }
   ],
   "source": [
    "# scrivi qui \n",
    "\n"
   ]
  },
  {
   "cell_type": "markdown",
   "metadata": {},
   "source": [
    "**✪✪ ESERCIZIO 2.5**: Forse avrai notato che i numeri nella liste sono rappresentati come stringhe tipo `'12'` (nota gli apici), invece che come numeri interi Python (rappresentati senza apici), `12`:\n",
    "\n",
    "```\n",
    "Abbiamo appena letto una riga!\n",
    "['cane', '12']\n",
    "```\n",
    "\n",
    "Quindi, leggendo il file e usando dei normali cicli `for`, prova a creare nua variabile `listona` formata come questa, che\n",
    "\n",
    "- ha solo i dati, la riga con le intestazioni non è presente\n",
    "- i numeri sono rappresentati propriamente come interi\n",
    "\n",
    "```\n",
    "[['cane', 12], \n",
    " ['gatto', 14], \n",
    " ['pellicano', 30], \n",
    " ['scoiattolo', 6], \n",
    " ['aquila', 25]]\n",
    "```\n",
    "\n",
    "**SUGGERIMENTO 1**: per saltare una riga puoi usare l'istruzione `next(lettore)`\n",
    "\n",
    "**SUGGERIMENTO 2**: per convertire una stringa in un intero, si può usare per es. `int('25')`\n"
   ]
  },
  {
   "cell_type": "raw",
   "id": "imperial-subdivision",
   "metadata": {
    "format": "text/html"
   },
   "source": [
    "<a  class=\"jupman-sol jupman-sol-toggler\" \n",
    " onclick=\"jupman.toggleSolution(this);\" \n",
    " data-jupman-show=\"Mostra soluzione\" data-jupman-hide=\"Nascondi\">Mostra soluzione</a><div class=\"jupman-sol jupman-sol-code\" style=\"display:none\">  "
   ]
  },
  {
   "cell_type": "code",
   "execution_count": 23,
   "metadata": {},
   "outputs": [
    {
     "name": "stdout",
     "output_type": "stream",
     "text": [
      "[['cane', 12], ['gatto', 14], ['pellicano', 30], ['scoiattolo', 6], ['aquila', 25]]\n"
     ]
    }
   ],
   "source": [
    "# scrivi qui\n",
    "\n",
    "import csv\n",
    "with open('esempio-1.csv', encoding='utf-8', newline='') as f:    \n",
    "    lettore = csv.reader(f, delimiter=',')     \n",
    "    listona = []\n",
    "    next(lettore)\n",
    "    for riga in lettore:\n",
    "        listona.append([riga[0], int(riga[1])])\n",
    "    print(listona)"
   ]
  },
  {
   "cell_type": "raw",
   "id": "daily-wrestling",
   "metadata": {
    "format": "text/html"
   },
   "source": [
    "</div>"
   ]
  },
  {
   "cell_type": "code",
   "execution_count": 23,
   "metadata": {},
   "outputs": [
    {
     "name": "stdout",
     "output_type": "stream",
     "text": [
      "[['cane', 12], ['gatto', 14], ['pellicano', 30], ['scoiattolo', 6], ['aquila', 25]]\n"
     ]
    }
   ],
   "source": [
    "# scrivi qui\n",
    "\n"
   ]
  },
  {
   "cell_type": "markdown",
   "metadata": {},
   "source": [
    "#### Cos'è esattamente `lettore` ?\n",
    "\n",
    "Abbiamo detto che `lettore` genera una sequenza di righe, ed è _iterabile_. Nel ciclo `for`, ad ogni ciclo gli chiediamo di leggere una nuova riga, che viene messa nella variabile `riga`. Quindi possiamo chiederci, cosa succede se stampiamo direttamente `lettore`, senza usare nessun `for` ? Vedremo una bella lista o qualcos'altro?  Proviamo:"
   ]
  },
  {
   "cell_type": "code",
   "execution_count": 24,
   "metadata": {},
   "outputs": [
    {
     "name": "stdout",
     "output_type": "stream",
     "text": [
      "<_csv.reader object at 0x7f985c63d908>\n"
     ]
    }
   ],
   "source": [
    "import csv\n",
    "with open('esempio-1.csv', encoding='utf-8', newline='') as f:    \n",
    "    lettore = csv.reader(f, delimiter=',')     \n",
    "    print(lettore)"
   ]
  },
  {
   "cell_type": "markdown",
   "metadata": {},
   "source": [
    "Quello che vediamo è piuttosto deludente.\n",
    "\n",
    "**✪ ESERCIZIO 2.6**: Se ti ricordi, nell'[introduzione](https://it.softpython.org/intro/intro-sol.html) a un certo punto ci siamo trovati nella stessa situazione, quando [abbiamo provato a stampare una map](https://it.softpython.org/intro/intro-sol.html#Trasformazioni-con-le-map) . Che potremmo fare per risolvere la situazione? "
   ]
  },
  {
   "cell_type": "raw",
   "id": "peaceful-decline",
   "metadata": {
    "format": "text/html"
   },
   "source": [
    "<a  class=\"jupman-sol jupman-sol-toggler\" \n",
    " onclick=\"jupman.toggleSolution(this);\" \n",
    " data-jupman-show=\"Mostra soluzione\" data-jupman-hide=\"Nascondi\">Mostra soluzione</a><div class=\"jupman-sol jupman-sol-code\" style=\"display:none\">  "
   ]
  },
  {
   "cell_type": "code",
   "execution_count": 25,
   "metadata": {},
   "outputs": [
    {
     "name": "stdout",
     "output_type": "stream",
     "text": [
      "[['animale', 'anni'], ['cane', '12'], ['gatto', '14'], ['pellicano', '30'], ['scoiattolo', '6'], ['aquila', '25']]\n"
     ]
    }
   ],
   "source": [
    "# scrivi qui\n",
    "\n",
    "import csv\n",
    "with open('esempio-1.csv', encoding='utf-8', newline='') as f:    \n",
    "    lettore = csv.reader(f, delimiter=',')     \n",
    "    print(list(lettore))"
   ]
  },
  {
   "cell_type": "raw",
   "id": "juvenile-quick",
   "metadata": {
    "format": "text/html"
   },
   "source": [
    "</div>"
   ]
  },
  {
   "cell_type": "code",
   "execution_count": 25,
   "metadata": {},
   "outputs": [
    {
     "name": "stdout",
     "output_type": "stream",
     "text": [
      "[['animale', 'anni'], ['cane', '12'], ['gatto', '14'], ['pellicano', '30'], ['scoiattolo', '6'], ['aquila', '25']]\n"
     ]
    }
   ],
   "source": [
    "# scrivi qui\n",
    "\n"
   ]
  },
  {
   "cell_type": "markdown",
   "metadata": {},
   "source": [
    "#### Consumare un file\n",
    "\n",
    "Non tutte le sequenze sono uguali. Da quello che hai visto finora, in Python scorrere un file assomiglia molto a scorrere una lista. Che è molto comodo, ma bisogna stare attenti ad alcune cose. Dato che i file potenzialmente potrebbero occupare terabyte, le funzioni di base di Python per leggere file evitano di caricarli tutti in memoria e tipicamente il file viene scorso un po' alla volta. Ma se il file non viene caricato tutto nell'ambiente di Python in un colpo solo, cosa succede se proviamo a scorrerlo due volte all'interno della stessa `with`? E se proviamo ad usarlo fuori dal `with`, che succede? Guarda i prossimi esercizi per scoprirlo."
   ]
  },
  {
   "cell_type": "markdown",
   "metadata": {},
   "source": [
    "**✪ ESERCIZIO 2.7**: Prendendo la soluzione all'esercizio di prima, prova a chiamare `print(list(lettore))` due volte, in sequenza. Ottieni la stessa stampa entrambe le volte? \n"
   ]
  },
  {
   "cell_type": "raw",
   "id": "pressing-begin",
   "metadata": {
    "format": "text/html"
   },
   "source": [
    "<a  class=\"jupman-sol jupman-sol-toggler\" \n",
    " onclick=\"jupman.toggleSolution(this);\" \n",
    " data-jupman-show=\"Mostra soluzione\" data-jupman-hide=\"Nascondi\">Mostra soluzione</a><div class=\"jupman-sol jupman-sol-code\" style=\"display:none\">  "
   ]
  },
  {
   "cell_type": "code",
   "execution_count": 26,
   "metadata": {},
   "outputs": [
    {
     "name": "stdout",
     "output_type": "stream",
     "text": [
      "[['animale', 'anni'], ['cane', '12'], ['gatto', '14'], ['pellicano', '30'], ['scoiattolo', '6'], ['aquila', '25']]\n",
      "[]\n"
     ]
    }
   ],
   "source": [
    "# scrivi qui il codice\n",
    "\n",
    "import csv\n",
    "with open('esempio-1.csv', encoding='utf-8', newline='') as f:    \n",
    "    lettore = csv.reader(f, delimiter=',')     \n",
    "    print(list(lettore))\n",
    "    print(list(lettore))"
   ]
  },
  {
   "cell_type": "raw",
   "id": "armed-stanley",
   "metadata": {
    "format": "text/html"
   },
   "source": [
    "</div>"
   ]
  },
  {
   "cell_type": "code",
   "execution_count": 26,
   "metadata": {},
   "outputs": [
    {
     "name": "stdout",
     "output_type": "stream",
     "text": [
      "[['animale', 'anni'], ['cane', '12'], ['gatto', '14'], ['pellicano', '30'], ['scoiattolo', '6'], ['aquila', '25']]\n",
      "[]\n"
     ]
    }
   ],
   "source": [
    "# scrivi qui il codice\n",
    "\n"
   ]
  },
  {
   "cell_type": "markdown",
   "metadata": {},
   "source": [
    "**✪ ESERCIZIO 2.8**: Prendendo la soluzione all'esercizio di prima (usando una sola print), prova qua sotto a spostare la print tutta a sinistra (eliminando gli spazi). Funziona ancora? "
   ]
  },
  {
   "cell_type": "raw",
   "id": "great-scanning",
   "metadata": {
    "format": "text/html"
   },
   "source": [
    "<a  class=\"jupman-sol jupman-sol-toggler\" \n",
    " onclick=\"jupman.toggleSolution(this);\" \n",
    " data-jupman-show=\"Mostra soluzione\" data-jupman-hide=\"Nascondi\">Mostra soluzione</a><div class=\"jupman-sol jupman-sol-code\" style=\"display:none\">  "
   ]
  },
  {
   "cell_type": "code",
   "execution_count": 27,
   "metadata": {},
   "outputs": [],
   "source": [
    "# scrivi qui \n",
    "\n",
    "import csv\n",
    "with open('esempio-1.csv', encoding='utf-8', newline='') as f:    \n",
    "    lettore = csv.reader(f, delimiter=',')         \n",
    "#print(list(lettore))    # COMMENTATA, PERCHE' LANCEREBBE ERRORE DI FILE CHIUSO\n",
    "                         # Non possiamo usare comandi che leggono il file fuori dal with !\n"
   ]
  },
  {
   "cell_type": "raw",
   "id": "later-velvet",
   "metadata": {
    "format": "text/html"
   },
   "source": [
    "</div>"
   ]
  },
  {
   "cell_type": "code",
   "execution_count": 27,
   "metadata": {},
   "outputs": [],
   "source": [
    "# scrivi qui \n",
    "\n"
   ]
  },
  {
   "cell_type": "markdown",
   "metadata": {},
   "source": [
    "**✪✪✪ ESERCIZIO 2.9**: Adesso che abbiamo capito un po' che tipo di bestia è `lettore`,  proviamo adesso a produrre questo risultato come già fatto in precedenza, ma usando una _list comprehension_ invece del del ciclo `for`:\n",
    "\n",
    "```\n",
    "[['cane', 12], \n",
    " ['gatto', 14], \n",
    " ['pellicano', 30], \n",
    " ['scoiattolo', 6], \n",
    " ['aquila', 25]]\n",
    "```\n",
    "\n",
    "* Se riesci, prova anche a scrivere tutta la trasformazione per creare `listona` in una sola riga, usando la funzione [itertools.islice](https://docs.python.org/3/library/itertools.html#itertools.islice) per saltare l'intestazione (per es. `itertools.islice(['A', 'B', 'C', 'D', 'E'], 2, None)` salta i primi due elementi e produce la sequenza C D E F G  - nel nostro caso gli elementi prodotti da `lettore` sarebbero righe)"
   ]
  },
  {
   "cell_type": "raw",
   "id": "dirty-parallel",
   "metadata": {
    "format": "text/html"
   },
   "source": [
    "<a  class=\"jupman-sol jupman-sol-toggler\" \n",
    " onclick=\"jupman.toggleSolution(this);\" \n",
    " data-jupman-show=\"Mostra soluzione\" data-jupman-hide=\"Nascondi\">Mostra soluzione</a><div class=\"jupman-sol jupman-sol-code\" style=\"display:none\">  "
   ]
  },
  {
   "cell_type": "code",
   "execution_count": 28,
   "metadata": {},
   "outputs": [
    {
     "name": "stdout",
     "output_type": "stream",
     "text": [
      "[['cane', 12], ['gatto', 14], ['pellicano', 30], ['scoiattolo', 6], ['aquila', 25]]\n"
     ]
    }
   ],
   "source": [
    "import csv\n",
    "import itertools\n",
    "with open('esempio-1.csv', encoding='utf-8', newline='') as f:    \n",
    "    lettore = csv.reader(f, delimiter=',')     \n",
    "    # scrivi qui\n",
    "    listona = [[riga[0], int(riga[1])] for riga in itertools.islice(lettore, 1, None)]\n",
    "    print(listona)    "
   ]
  },
  {
   "cell_type": "raw",
   "id": "private-egyptian",
   "metadata": {
    "format": "text/html"
   },
   "source": [
    "</div>"
   ]
  },
  {
   "cell_type": "code",
   "execution_count": 28,
   "metadata": {},
   "outputs": [
    {
     "name": "stdout",
     "output_type": "stream",
     "text": [
      "[['cane', 12], ['gatto', 14], ['pellicano', 30], ['scoiattolo', 6], ['aquila', 25]]\n"
     ]
    }
   ],
   "source": [
    "import csv\n",
    "import itertools\n",
    "with open('esempio-1.csv', encoding='utf-8', newline='') as f:    \n",
    "    lettore = csv.reader(f, delimiter=',')     \n",
    "    # scrivi qui\n",
    "\n"
   ]
  },
  {
   "cell_type": "markdown",
   "metadata": {},
   "source": [
    "**✪ ESERCIZIO 2.10**: Crea un file `mio-esempio.csv` nella stessa cartella dove c'è questo foglio Jupyter, copiandoci dentro il contenuto del file `esempio-1.csv`. Poi aggiungici una colonna `descrizione`, ricordandoti di separare il nome di colonna dalla precedente con una virgola. Come valori della colonna, metti nelle righe successive stringhe tipo `i cani camminano`, `i pellicani volano` a seconda dell'animale, etc ricordandoti di separarle dagli anni usando una virgola, così:  \n",
    "\n",
    "`cane,12,i cani camminano`\n",
    "\n",
    "Dopo di che, copia e incolla qua sotto il codice Python per caricare il file, mettendo il nome di file `mio-esempio.csv`, e prova a caricare il tutto, tanto per vedere se funziona:\n"
   ]
  },
  {
   "cell_type": "code",
   "execution_count": 29,
   "metadata": {},
   "outputs": [],
   "source": [
    "# scrivi qui "
   ]
  },
  {
   "cell_type": "raw",
   "id": "confidential-think",
   "metadata": {
    "format": "text/html"
   },
   "source": [
    "<a  class=\"jupman-sol jupman-sol-toggler\" \n",
    " onclick=\"jupman.toggleSolution(this);\" \n",
    " data-jupman-show=\"Mostra risposta\" data-jupman-hide=\"Nascondi\">Mostra risposta</a><div class=\"jupman-sol jupman-sol-question\" style=\"display:none\">  "
   ]
  },
  {
   "cell_type": "markdown",
   "metadata": {},
   "source": [
    "**RISPOSTA**:\n",
    "\n",
    "```\n",
    "animale,anni,descrizione\n",
    "cane,12,i cani camminano\n",
    "gatto,14,i gatti camminano\n",
    "pellicano,30,i pellicani volano\n",
    "scoiattolo,6,gli scoiattoli volano\n",
    "aquila,25,le aquile volano\n",
    "```"
   ]
  },
  {
   "cell_type": "raw",
   "id": "passive-research",
   "metadata": {
    "format": "text/html"
   },
   "source": [
    "</div>"
   ]
  },
  {
   "cell_type": "markdown",
   "metadata": {},
   "source": [
    "**✪ ESERCIZIO 2.11**: Non tutti i CSV sono strutturati in modo uguale, e a volte quando scriviamo i csv o li importiamo alcuni accorgimenti sono necessari. Cominciamo a vedere che problemi potrebbero sorgere:\n",
    "\n",
    "- Nel file, prova a mettere uno o due spazi prima dei numeri, per es scrivi come sotto e guarda che succede:\n",
    "\n",
    "```\n",
    "cane, 12,i cani volano\n",
    "```\n",
    "\n",
    "**DOMANDA 2.11.1**: Lo spazio viene importato o no?\n",
    "\n",
    "\n"
   ]
  },
  {
   "cell_type": "raw",
   "id": "going-midwest",
   "metadata": {
    "format": "text/html"
   },
   "source": [
    "<a  class=\"jupman-sol jupman-sol-toggler\" \n",
    " onclick=\"jupman.toggleSolution(this);\" \n",
    " data-jupman-show=\"Mostra risposta\" data-jupman-hide=\"Nascondi\">Mostra risposta</a><div class=\"jupman-sol jupman-sol-question\" style=\"display:none\">  "
   ]
  },
  {
   "cell_type": "markdown",
   "metadata": {},
   "source": [
    "**RISPOSTA**: sì"
   ]
  },
  {
   "cell_type": "raw",
   "id": "independent-friday",
   "metadata": {
    "format": "text/html"
   },
   "source": [
    "</div>"
   ]
  },
  {
   "cell_type": "markdown",
   "metadata": {},
   "source": [
    "**DOMANDA 2.11.2**: se convertiamo ad intero, lo spazio è un problema? \n",
    "\n"
   ]
  },
  {
   "cell_type": "raw",
   "id": "statutory-navigator",
   "metadata": {
    "format": "text/html"
   },
   "source": [
    "<a  class=\"jupman-sol jupman-sol-toggler\" \n",
    " onclick=\"jupman.toggleSolution(this);\" \n",
    " data-jupman-show=\"Mostra risposta\" data-jupman-hide=\"Nascondi\">Mostra risposta</a><div class=\"jupman-sol jupman-sol-question\" style=\"display:none\">  "
   ]
  },
  {
   "cell_type": "markdown",
   "metadata": {},
   "source": [
    "**RISPOSTA**: no"
   ]
  },
  {
   "cell_type": "raw",
   "id": "joined-miracle",
   "metadata": {
    "format": "text/html"
   },
   "source": [
    "</div>"
   ]
  },
  {
   "cell_type": "markdown",
   "metadata": {},
   "source": [
    "\n",
    "**DOMANDA 2.11.3** Modifica solo la descrizione dei cani da `i cani camminano` a `i cani camminano, ma non volano` e prova a rieseguire la cella che legge il file. Che succede?\n",
    "\n"
   ]
  },
  {
   "cell_type": "raw",
   "id": "instant-packaging",
   "metadata": {
    "format": "text/html"
   },
   "source": [
    "<a  class=\"jupman-sol jupman-sol-toggler\" \n",
    " onclick=\"jupman.toggleSolution(this);\" \n",
    " data-jupman-show=\"Mostra risposta\" data-jupman-hide=\"Nascondi\">Mostra risposta</a><div class=\"jupman-sol jupman-sol-question\" style=\"display:none\">  "
   ]
  },
  {
   "cell_type": "markdown",
   "metadata": {},
   "source": [
    "**RISPOSTA**: Python legge un elemento in più nella lista"
   ]
  },
  {
   "cell_type": "raw",
   "id": "human-motor",
   "metadata": {
    "format": "text/html"
   },
   "source": [
    "</div>"
   ]
  },
  {
   "cell_type": "markdown",
   "metadata": {},
   "source": [
    "**DOMANDA 2.11.4**: Per ovviare al problema precedente, una soluzione che si può adottare nei CSV è circondare stringhe contenti virgole da doppi apici, così: `\"i cani camminano, ma non volano\"`. Funziona ? \n"
   ]
  },
  {
   "cell_type": "raw",
   "id": "perfect-decision",
   "metadata": {
    "format": "text/html"
   },
   "source": [
    "<a  class=\"jupman-sol jupman-sol-toggler\" \n",
    " onclick=\"jupman.toggleSolution(this);\" \n",
    " data-jupman-show=\"Mostra risposta\" data-jupman-hide=\"Nascondi\">Mostra risposta</a><div class=\"jupman-sol jupman-sol-question\" style=\"display:none\">  "
   ]
  },
  {
   "cell_type": "markdown",
   "metadata": {},
   "source": [
    "**RISPOSTA**: sì"
   ]
  },
  {
   "cell_type": "raw",
   "id": "reduced-simple",
   "metadata": {
    "format": "text/html"
   },
   "source": [
    "</div>"
   ]
  },
  {
   "cell_type": "markdown",
   "metadata": {},
   "source": [
    "#### Leggere come dizionari\n",
    "\n",
    "Invece di leggere un CSV come se fosse una sequenza di liste, potrebbe essere più conveniente dire a Python di interpretare le linee come se fossero dizionari.\n",
    "\n",
    "Tramite l'oggetto [csv.DictReader](https://docs.python.org/3/library/csv.html#csv.DictReader) sarai in grado di recuperare dizionari,  in cui le chiavi saranno \n",
    "i nomi dei campi presi dall'intestazione. \n",
    "\n",
    "**NOTA**: diverse versioni di Python producono diversi dizionari:\n",
    "\n",
    "* $<$ 3.6: `dict`\n",
    "* 3.6, 3.7: `OrderedDict`\n",
    "* $\\geq$ 3.8: `dict`\n",
    "\n",
    "La 3.8 è ritornata al vecchio `dict` perchè nella sua nuova implementazione dei dizionari l'ordine delle chiavi è garantito, quindi sarà consistente con quello degli header del CSV."
   ]
  },
  {
   "cell_type": "code",
   "execution_count": 30,
   "metadata": {
    "scrolled": true
   },
   "outputs": [
    {
     "name": "stdout",
     "output_type": "stream",
     "text": [
      "{'animale': 'cane', 'anni': '12'}\n",
      "{'animale': 'gatto', 'anni': '14'}\n",
      "{'animale': 'pellicano', 'anni': '30'}\n",
      "{'animale': 'scoiattolo', 'anni': '6'}\n",
      "{'animale': 'aquila', 'anni': '25'}\n"
     ]
    }
   ],
   "source": [
    "import csv\n",
    "with open('esempio-1.csv', encoding='utf-8', newline='') as f:    \n",
    "    lettore = csv.DictReader(f, delimiter=',')   # Notice we now used DictReader\n",
    "    for diz in lettore:\n",
    "        print(diz)"
   ]
  },
  {
   "cell_type": "markdown",
   "metadata": {},
   "source": [
    "### Scrivere un CSV"
   ]
  },
  {
   "cell_type": "markdown",
   "metadata": {},
   "source": [
    "\n",
    "Puoi facilmente creare un CSV instanziando un oggetto `writer`:\n",
    "\n",
    "<div class=\"alert alert-warning\">\n",
    "\n",
    "**ATTENZIONE: ASSICURATI DI SCRIVERE NEL FILE GIUSTO!**\n",
    "\n",
    "Se non stai più che attento ai nomi dei file, **rischi di cancellare dati** !!!\n",
    "</div>"
   ]
  },
  {
   "cell_type": "code",
   "execution_count": 31,
   "metadata": {},
   "outputs": [],
   "source": [
    "import csv\n",
    "\n",
    "# Per scrivere, RICORDATI di specificare l'opzione 'w'\n",
    "# ATTENZIONE: 'w' rimpiazza *completamente* eventuali file  esistenti!\n",
    "with open('file-scritto.csv', 'w', newline='') as csv_da_scrivere: \n",
    "    \n",
    "    scrittore = csv.writer(csv_da_scrivere, delimiter=',')    \n",
    "    \n",
    "    scrittore.writerow(['This', 'is', 'a header'])\n",
    "    scrittore.writerow(['some', 'example', 'data'])\n",
    "    scrittore.writerow(['some', 'other', 'example data'])"
   ]
  },
  {
   "cell_type": "markdown",
   "metadata": {},
   "source": [
    "### Leggere e scrivere un CSV"
   ]
  },
  {
   "cell_type": "markdown",
   "metadata": {},
   "source": [
    "Per scrivere un nuovo CSV prendendo dati da un CSV esistente, potresti annidare un `with` per la lettura dentro uno per la scrittura:\n",
    "\n",
    "<div class=\"alert alert-warning\">\n",
    "\n",
    "**ATTENZIONE A SCAMBIARE I NOMI DEI FILE!**\n",
    "\n",
    "Quando leggiamo e scriviamo è facile commettere un errore e sovrascrivere accidentalmente i nostri preziosi dati. \n",
    "</div>\n",
    "\n",
    "**Per evitare problemi:**\n",
    "\n",
    "* usa nomi espliciti sia per i file di output (es: `esempio-1-arricchito.csv')` che per gli handle (es: `csv_da_scrivere`)\n",
    "* fai una copia di backup dei dati da leggere\n",
    "* controlla sempre prima di eseguire il codice !"
   ]
  },
  {
   "cell_type": "code",
   "execution_count": 32,
   "metadata": {},
   "outputs": [],
   "source": [
    "import csv\n",
    "    \n",
    "# Per scrivere, RICORDATI di specificare l'opzione 'w'\n",
    "# ATTENZIONE: 'w' rimpiazza *completamente* eventuali file  esistenti!\n",
    "# ATTENZIONE: l'handle *esterno* l'abbiamo chiamato  csv_da_scrivere\n",
    "with open('esempio-1-arricchito.csv', 'w', encoding='utf-8', newline='') as csv_da_scrivere: \n",
    "    scrittore = csv.writer(csv_da_scrivere, delimiter=',')\n",
    "\n",
    "    # Nota come questo 'with' sia dentro quello esterno    \n",
    "    # ATTENZIONE: l'handle *interno* l'abbiamo chiamato csv_da_leggere\n",
    "    with open('esempio-1.csv', encoding='utf-8', newline='') as csv_da_leggere:    \n",
    "        lettore = csv.reader(csv_da_leggere, delimiter=',')      \n",
    "        \n",
    "        for riga in lettore:\n",
    "            riga.append(\"qualcos'altro\")\n",
    "            scrittore.writerow(riga)\n",
    "            scrittore.writerow(riga)\n",
    "            scrittore.writerow(riga)    "
   ]
  },
  {
   "cell_type": "markdown",
   "metadata": {},
   "source": [
    "Vediamo se il file è stato effettivamente scritto provando a leggerlo:"
   ]
  },
  {
   "cell_type": "code",
   "execution_count": 33,
   "metadata": {
    "scrolled": true
   },
   "outputs": [
    {
     "name": "stdout",
     "output_type": "stream",
     "text": [
      "['animale', 'anni', \"qualcos'altro\"]\n",
      "['animale', 'anni', \"qualcos'altro\"]\n",
      "['animale', 'anni', \"qualcos'altro\"]\n",
      "['cane', '12', \"qualcos'altro\"]\n",
      "['cane', '12', \"qualcos'altro\"]\n",
      "['cane', '12', \"qualcos'altro\"]\n",
      "['gatto', '14', \"qualcos'altro\"]\n",
      "['gatto', '14', \"qualcos'altro\"]\n",
      "['gatto', '14', \"qualcos'altro\"]\n",
      "['pellicano', '30', \"qualcos'altro\"]\n",
      "['pellicano', '30', \"qualcos'altro\"]\n",
      "['pellicano', '30', \"qualcos'altro\"]\n",
      "['scoiattolo', '6', \"qualcos'altro\"]\n",
      "['scoiattolo', '6', \"qualcos'altro\"]\n",
      "['scoiattolo', '6', \"qualcos'altro\"]\n",
      "['aquila', '25', \"qualcos'altro\"]\n",
      "['aquila', '25', \"qualcos'altro\"]\n",
      "['aquila', '25', \"qualcos'altro\"]\n"
     ]
    }
   ],
   "source": [
    "with open('esempio-1-arricchito.csv', encoding='utf-8', newline='') as csv_da_leggere:    \n",
    "    lettore = csv.reader(csv_da_leggere, delimiter=',')      \n",
    "\n",
    "    for riga in lettore:\n",
    "        print(riga)"
   ]
  },
  {
   "cell_type": "markdown",
   "metadata": {
    "colab_type": "text",
    "id": "WbO-GSrX5bSz"
   },
   "source": [
    "\n",
    "### CSV Impianti funiviari \n",
    "\n",
    "Di solito sui cataloghi open data come il popolare CKAN (es [dati.trentino.it](http://dati.trentino.it/),  [data.gov.uk](https://data.gov.uk/), [European data portal](https://www.europeandataportal.eu/)) i file sono organizzati in _dataset_, che sono collezioni di _risorse_: ogni risorsa contiene direttamente un file dentro al catalogo (tipicamente CSV, JSON o XML) oppure un link al file vero e proprio su un server di proprietà dell'organizzazione che ha creato i dati.\n",
    "\n",
    "\n",
    "Il primo dataset che guarderemo sarà 'Impianti funiviari in esercizio pubblico:\n",
    "\n",
    "http://dati.trentino.it/dataset/impianti-funiviari-in-esercizio-pubblico\n",
    "\n",
    "Qua troverai alcune informazioni generiche sul dataset, di importante nota la licenza che è [Creative Commons Zero v1.0](http://creativecommons.org/publicdomain/zero/1.0/deed.it), praticamente è la licenza più permissiva che si possa trovare, e garantisce la certezza di poter riusare i dati senza alcun vincolo.\n",
    "\n",
    "All'interno della pagina del dataset, è presente una  risorsa chiamata \"Elenco degli impianti bifuni con movimento a va e vieni\":\n",
    "\n",
    "http://dati.trentino.it/dataset/impianti-funiviari-in-esercizio-pubblico/resource/ceb488a9-696c-4b9d-b8c8-6ca727863931\n",
    "\n",
    "Alla pagina della risorsa, troviamo un link ad un file CSV (ci si arriva anche cliccando sul bottone blu 'Vai alla risorsa'): \n",
    "\n",
    "http://www.sif.provincia.tn.it/binary/pat_sif/opendata/Elenco_degli_impianti_bifuni_con_movimento_a_va_e_vieni_aggiornato_a_marzo_2015.1435662007.csv\n",
    "\n",
    "\n",
    "Se apro il CSV in una tab di Firefox, sul mio computer che ha sistema operativo Linux, vedo una cosa del genere:\n",
    "```\n",
    "Denominazione impianto,Codice S.I.F.,Comune,Esercente,Data Primo collaudo,Data Ultimo Collaudo,Lunghezza Inclinata (m),Dislivello (m),Stazione di Valle (m.s.l.m.),CapacitÃ  Veicolo (pers.),Portata Max (Pers/h),Opere Paravalanghe ,Servizio\n",
    "Trento - Sardagna,B007e,Trento,Soc. Trentino Trasporti Esercizio,08-apr-64,18-mar-03,1157,400,200,13,270,#,annuale\n",
    "Mezzocorona - Monte,B008e,Mezzocorona,Soc.Fun. Monte Mezzocorona,22-dic-04,22-dic-04,933,623,267,7,130,si (frane),annuale\n",
    "Alba - Ciampac,B014m,Canazei,Soc.Fun. Ciampac e Contrin,20-mag-75,27-nov-14,1902,658,1496,75,840,#,bistagionale\n",
    "Pecol - Col dei Rossi,B017m,Canazei,S.I.T.C.,09-feb-79,05-dic-97,1313,450,1932,76,1100,si,bistagionale\n",
    "P. S.Pellegrino - Col Margherita,B022m,Moena,Soc.Fun. Col Margherita,11-mar-82,14-dic-01,1395,639,1874,97,1330,#,bistagionale\n",
    "Vigo di Fassa - Ciampedie,B026m,Vigo di Fassa,Soc.Catinaccio Impianti a Fune,24-lug-85,23-giu-05,1523,570,1431,101,1300,#,bistagionale\n",
    "Campitello - Col Rodella ,B027m,Canazei,S.I.T.C.,06-dic-86,07-lug-05,2472,984,1411,126,1160,si,bistagionale\n",
    "Passo Pordoi - Sass Pordoi,B028m,Canazei,S.I.T.C.,23-mag-95,23-mag-95,1487,708,2240,65,820,#,bistagionale\n",
    "Col Verde - Rosetta,B029b,Tonadico,Imprese e Territorio Soc. Cons. s.r.l.,21-lug-04,21-lug-04,1336,674,1935,41,420,si + M.G.,bistagionale\n",
    "Tarlenta - Rifugio Mantova,B030g,Peio,Soc.Fun. Peio,30-dic-10,30-dic-10,2856,992,2001,101,860,si + frane,bistagionale\n",
    "```\n",
    "\n",
    "Come atteso, vediamo dei campi separati da virgole.\n",
    "\n",
    "### Problema: caratteri sbagliati ??\n",
    "\n",
    "Si vede subito un problema nella prima riga delle intestazioni, alla colonna `CapacitÃ  Veicolo (pers.)`. Pare che il file abbia la 'à' accentata sbagliata. Ma è davvero un problema del file? Vi dico subito di no. Probabilmente, è il server che non sta dicendo a Firefox quale è il giusto encoding per il file. Firefox non ha capacità di divinazione, e fa solo il suo meglio per mostrare il CSV basandosi sulle informazioni che ha, che possono essere limitate e/o addirittura incorrette. Il mondo non è mai come lo vorremmo... \n",
    "\n",
    "**✪ 2.12 ESERCIZIO**: scarica il CSV, e prova ad aprirlo in Excel, e / o in LibreOffice Calc. Vedi la à accentata corretta? Se no, prova ad impostare l'encoding (per es. in Calc si chiama 'Character set')  a 'Unicode (UTF-8)' \n",
    "\n",
    "<div class=\"alert alert-warning\">\n",
    "           \n",
    "**ATTENZIONE SE USI Excel!**\n",
    "     \n",
    "Facendo direttamente `File->Apri in Excel`, probabilmente Excel cercherà di immaginarsi da solo come intabellare il CSV, e sbaglierà metterà tutto le righe in una colonna. Per ovviare al problema, dobbiamo dire ad Excel di mostrare un pannello per chiederci come vogliamo aprire il CSV, facendo così: \n",
    "\n",
    "* In Excel vecchi, cerca `File-> Importa`\n",
    "* In Excel recenti, clicca la scheda `Dati` e poi seleziona `Da testo`. Per ulteriori riferimenti su Excel, [vedere guida di Salvatore Aranzulla](https://www.aranzulla.it/come-aprire-file-csv-672903.html)\n",
    "\n",
    "</div>\n",
    "\n",
    "\n",
    "- **NOTA**: Casomai il file non fosse disponibile, nella cartella dove c'è questo notebook Jupyter troverai anche lo stesso file rinominato in `impianti-bifuni.csv`\n",
    "\n"
   ]
  },
  {
   "cell_type": "markdown",
   "metadata": {},
   "source": [
    "![Esempio di import in LibreOffice Calc-432](import-impianti-csv.png)\n",
    "\n"
   ]
  },
  {
   "cell_type": "markdown",
   "metadata": {},
   "source": [
    "Poi dovrebbe risultare più o meno una tabella come questa: \n",
    "\n",
    "![Tabella impianti risalita-42393](impianti-csv.png)\n",
    "\n",
    "\n"
   ]
  },
  {
   "cell_type": "markdown",
   "metadata": {},
   "source": [
    "### Importare in Python\n",
    "\n",
    "Adesso che abbiamo capito due cose sull'encoding, proviamo ad importare il file in Python (ho rinominato il file originale nel più corto `impianti-bifuni.csv`): "
   ]
  },
  {
   "cell_type": "code",
   "execution_count": 34,
   "metadata": {
    "colab": {
     "autoexec": {
      "startup": false,
      "wait_interval": 0
     },
     "output_extras": [
      {}
     ]
    },
    "colab_type": "code",
    "id": "trTOcMCo5bSz",
    "outputId": "aaa984e3-d876-40b3-926c-66916241de4d"
   },
   "outputs": [
    {
     "name": "stdout",
     "output_type": "stream",
     "text": [
      "Abbiamo appena letto una riga!\n",
      "['Denominazione impianto', 'Codice S.I.F.', 'Comune', 'Esercente', 'Data Primo collaudo', 'Data Ultimo Collaudo', 'Lunghezza Inclinata (m)', 'Dislivello (m)', 'Stazione di Valle (m.s.l.m.)', 'Capacità Veicolo (pers.)', 'Portata Max (Pers/h)', 'Opere Paravalanghe ', 'Servizio']\n",
      "\n",
      "Abbiamo appena letto una riga!\n",
      "['Trento - Sardagna', 'B007e', 'Trento', 'Soc. Trentino Trasporti Esercizio', '08-apr-64', '18-mar-03', '1157', '400', '200', '13', '270', '#', 'annuale']\n",
      "\n",
      "Abbiamo appena letto una riga!\n",
      "['Mezzocorona - Monte', 'B008e', 'Mezzocorona', 'Soc.Fun. Monte Mezzocorona', '22-dic-04', '22-dic-04', '933', '623', '267', '7', '130', 'si (frane)', 'annuale']\n",
      "\n",
      "Abbiamo appena letto una riga!\n",
      "['Alba - Ciampac', 'B014m', 'Canazei', 'Soc.Fun. Ciampac e Contrin', '20-mag-75', '27-nov-14', '1902', '658', '1496', '75', '840', '#', 'bistagionale']\n",
      "\n",
      "Abbiamo appena letto una riga!\n",
      "['Pecol - Col dei Rossi', 'B017m', 'Canazei', 'S.I.T.C.', '09-feb-79', '05-dic-97', '1313', '450', '1932', '76', '1100', 'si', 'bistagionale']\n",
      "\n",
      "Abbiamo appena letto una riga!\n",
      "['P. S.Pellegrino - Col Margherita', 'B022m', 'Moena', 'Soc.Fun. Col Margherita', '11-mar-82', '14-dic-01', '1395', '639', '1874', '97', '1330', '#', 'bistagionale']\n",
      "\n",
      "Abbiamo appena letto una riga!\n",
      "['Vigo di Fassa - Ciampedie', 'B026m', 'Vigo di Fassa', 'Soc.Catinaccio Impianti a Fune', '24-lug-85', '23-giu-05', '1523', '570', '1431', '101', '1300', '#', 'bistagionale']\n",
      "\n",
      "Abbiamo appena letto una riga!\n",
      "['Campitello - Col Rodella ', 'B027m', 'Canazei', 'S.I.T.C.', '06-dic-86', '07-lug-05', '2472', '984', '1411', '126', '1160', 'si', 'bistagionale']\n",
      "\n",
      "Abbiamo appena letto una riga!\n",
      "['Passo Pordoi - Sass Pordoi', 'B028m', 'Canazei', 'S.I.T.C.', '23-mag-95', '23-mag-95', '1487', '708', '2240', '65', '820', '#', 'bistagionale']\n",
      "\n",
      "Abbiamo appena letto una riga!\n",
      "['Col Verde - Rosetta', 'B029b', 'Tonadico', 'Imprese e Territorio Soc. Cons. s.r.l.', '21-lug-04', '21-lug-04', '1336', '674', '1935', '41', '420', 'si + M.G.', 'bistagionale']\n",
      "\n",
      "Abbiamo appena letto una riga!\n",
      "['Tarlenta - Rifugio Mantova', 'B030g', 'Peio', 'Soc.Fun. Peio', '30-dic-10', '30-dic-10', '2856', '992', '2001', '101', '860', 'si + frane', 'bistagionale']\n",
      "\n"
     ]
    }
   ],
   "source": [
    "import csv\n",
    "with open('impianti-bifuni.csv',  encoding='utf-8', newline='') as f:\n",
    "    \n",
    "    # creiamo un oggetto 'lettore' che pescherà righe dal file\n",
    "    lettore = csv.reader(f, delimiter=',') \n",
    "    \n",
    "    # 'lettore' è un oggetto cosiddetto 'iterabile', cioè se usato in un for produce una \n",
    "    #  sequenza di righe dal csv \n",
    "    #  NOTA: qui ogni riga del file viene convertita in una una lista di stringhe Python!\n",
    "    for riga in lettore:\n",
    "        print('Abbiamo appena letto una riga!')        \n",
    "        print(riga)  # stamperà la variabile 'riga', che è una lista di stringhe\n",
    "        print('')    # stampa una stringa vuota, per separare in verticale"
   ]
  },
  {
   "cell_type": "markdown",
   "metadata": {},
   "source": [
    "**✪✪ ESERCIZIO 2.13** Vediamo che nel dataset alla terza colonna ci sono i comuni dove ci sono gli impianti. Prova a estrarli in una variabile `comuni`. \n",
    "\n",
    "- Attenzione alla prima riga, non vogliamo che la scritta `Comune` appaia nel risultato\n",
    "- Se li metti in una lista, avrai un problema, perchè ci sono comuni che appaiono più volte. Ti conviene quindi creare un insieme vuoto con `set([])` e aggiungere elementi con il metodo `add`  (gli insiemi non hanno metodo `append`). Stampando `comuni` dovrebbe apparire qualcosa del genere: \n",
    "\n",
    "`{'Vigo di Fassa', 'Trento', 'Mezzocorona', 'Moena', 'Peio', 'Canazei', 'Tonadico'}`\n",
    "\n",
    "**NOTA**: gli insiemi non hanno ordine, potresti vedere un insieme ordinato diversamente !"
   ]
  },
  {
   "cell_type": "raw",
   "id": "adjusted-alarm",
   "metadata": {
    "format": "text/html"
   },
   "source": [
    "<a  class=\"jupman-sol jupman-sol-toggler\" \n",
    " onclick=\"jupman.toggleSolution(this);\" \n",
    " data-jupman-show=\"Mostra soluzione\" data-jupman-hide=\"Nascondi\">Mostra soluzione</a><div class=\"jupman-sol jupman-sol-code\" style=\"display:none\">  "
   ]
  },
  {
   "cell_type": "code",
   "execution_count": 35,
   "metadata": {},
   "outputs": [
    {
     "name": "stdout",
     "output_type": "stream",
     "text": [
      "{'Tonadico', 'Canazei', 'Moena', 'Trento', 'Mezzocorona', 'Vigo di Fassa', 'Peio'}\n"
     ]
    }
   ],
   "source": [
    "\n",
    "import csv\n",
    "with open('impianti-bifuni.csv',  encoding='utf-8', newline='') as f:\n",
    "    \n",
    "    lettore = csv.reader(f, delimiter=',') \n",
    "    \n",
    "    # scrivi qui \n",
    "    \n",
    "    next(lettore)\n",
    "    comuni = set([])\n",
    "    for riga in lettore:\n",
    "        comuni.add(riga[2])\n",
    "    print(comuni)    "
   ]
  },
  {
   "cell_type": "raw",
   "id": "promising-costume",
   "metadata": {
    "format": "text/html"
   },
   "source": [
    "</div>"
   ]
  },
  {
   "cell_type": "code",
   "execution_count": 35,
   "metadata": {},
   "outputs": [
    {
     "name": "stdout",
     "output_type": "stream",
     "text": [
      "{'Tonadico', 'Canazei', 'Moena', 'Trento', 'Mezzocorona', 'Vigo di Fassa', 'Peio'}\n"
     ]
    }
   ],
   "source": [
    "\n",
    "import csv\n",
    "with open('impianti-bifuni.csv',  encoding='utf-8', newline='') as f:\n",
    "    \n",
    "    lettore = csv.reader(f, delimiter=',') \n",
    "    \n",
    "    # scrivi qui \n",
    "\n"
   ]
  },
  {
   "cell_type": "markdown",
   "metadata": {},
   "source": [
    "**✪✪ ESERCIZIO 2.14**: prova a conteggiare in un dizionario quanti tipi di servizio vengono trovati. Dovresti ottenere un risultato così:\n",
    "\n",
    "```python\n",
    "{\n",
    " 'bistagionale': 8,\n",
    " 'annuale': 2\n",
    "}\n",
    "```\n",
    "**SUGGERIMENTO**:  `'Servizio'` è all'ultima posizione, per ottenerla dalla riga puoi usare l'indice `-1`\n",
    "\n"
   ]
  },
  {
   "cell_type": "raw",
   "id": "sixth-clearing",
   "metadata": {
    "format": "text/html"
   },
   "source": [
    "<a  class=\"jupman-sol jupman-sol-toggler\" \n",
    " onclick=\"jupman.toggleSolution(this);\" \n",
    " data-jupman-show=\"Mostra soluzione\" data-jupman-hide=\"Nascondi\">Mostra soluzione</a><div class=\"jupman-sol jupman-sol-code\" style=\"display:none\">  "
   ]
  },
  {
   "cell_type": "code",
   "execution_count": 36,
   "metadata": {},
   "outputs": [
    {
     "name": "stdout",
     "output_type": "stream",
     "text": [
      "{'bistagionale': 8, 'annuale': 2}\n"
     ]
    }
   ],
   "source": [
    "\n",
    "import csv\n",
    "with open('impianti-bifuni.csv',  encoding='utf-8', newline='') as f:\n",
    "    \n",
    "    lettore = csv.reader(f, delimiter=',') \n",
    "    \n",
    "    # scrivi qui \n",
    "    \n",
    "    next(lettore)\n",
    "    servizi = {}\n",
    "    for riga in lettore:        \n",
    "        if riga[-1] in servizi:\n",
    "            servizi[riga[-1]] += 1\n",
    "        else:\n",
    "            servizi[riga[-1]] = 1 \n",
    "    print(servizi)    \n"
   ]
  },
  {
   "cell_type": "raw",
   "id": "regulated-botswana",
   "metadata": {
    "format": "text/html"
   },
   "source": [
    "</div>"
   ]
  },
  {
   "cell_type": "code",
   "execution_count": 36,
   "metadata": {},
   "outputs": [
    {
     "name": "stdout",
     "output_type": "stream",
     "text": [
      "{'bistagionale': 8, 'annuale': 2}\n"
     ]
    }
   ],
   "source": [
    "\n",
    "import csv\n",
    "with open('impianti-bifuni.csv',  encoding='utf-8', newline='') as f:\n",
    "    \n",
    "    lettore = csv.reader(f, delimiter=',') \n",
    "    \n",
    "    # scrivi qui \n",
    "\n"
   ]
  },
  {
   "cell_type": "markdown",
   "metadata": {
    "colab_type": "text",
    "id": "c1sPPEVb5bTC"
   },
   "source": [
    "### Il mistero delle opere paravalanghe \n",
    "\n",
    "Se guardiamo nella colonna 'Opere paravalanghe', notiamo che i valori possibili sono:\n",
    "\n",
    "* `#`\n",
    "* `si`\n",
    "* `si (frane)`\n",
    "* `si + frane`\n",
    "* `si + M.G`\n",
    "\n",
    "Sono sempre valori testuali, ma pare esserci una qualche regolarità. Visto che il nostro scopo è convertire in oggetti Python i file in ingresso, forse si potrebbero compiere alcune operazioni per semplificare e adattare al meglio questi dati? "
   ]
  },
  {
   "cell_type": "markdown",
   "metadata": {
    "colab_type": "text",
    "id": "-ricps5V5bTF"
   },
   "source": [
    "**✪✪ 2.15 ESERCIZIO**: `si + frane` è la stessa cosa di `si (frane)` ? Assumendo cha sia vero, prova a stampare righe modificate in cui per uniformare gli elementi uguali a `si (frane)` settandoli  a `si + frane`. Sia che conosci o non conosci Python, avendo guardato la soluzione della domanda precedente dovresti essere in grado di farlo (ricorda che per modificare un elemento di una lista all'indice `N` si scrive `lista[N] = NUOVO_VALORE` ) \n",
    "\n",
    "Scrivi qua sotto la soluzione"
   ]
  },
  {
   "cell_type": "raw",
   "id": "adjustable-adobe",
   "metadata": {
    "format": "text/html"
   },
   "source": [
    "<a  class=\"jupman-sol jupman-sol-toggler\" \n",
    " onclick=\"jupman.toggleSolution(this);\" \n",
    " data-jupman-show=\"Mostra soluzione\" data-jupman-hide=\"Nascondi\">Mostra soluzione</a><div class=\"jupman-sol jupman-sol-code\" style=\"display:none\">  "
   ]
  },
  {
   "cell_type": "code",
   "execution_count": 37,
   "metadata": {
    "colab": {
     "autoexec": {
      "startup": false,
      "wait_interval": 0
     }
    },
    "colab_type": "code",
    "id": "Oeyvm4QG5bTG"
   },
   "outputs": [
    {
     "name": "stdout",
     "output_type": "stream",
     "text": [
      "['Tarlenta - Rifugio Mantova', 'B030g', 'Peio', 'Soc.Fun. Peio', '30-dic-10', '30-dic-10', '2856', '992', '2001', '101', '860', 'si + frane', 'bistagionale']\n",
      "['Tarlenta - Rifugio Mantova', 'B030g', 'Peio', 'Soc.Fun. Peio', '30-dic-10', '30-dic-10', '2856', '992', '2001', '101', '860', 'si + frane', 'bistagionale']\n",
      "['Tarlenta - Rifugio Mantova', 'B030g', 'Peio', 'Soc.Fun. Peio', '30-dic-10', '30-dic-10', '2856', '992', '2001', '101', '860', 'si + frane', 'bistagionale']\n",
      "['Tarlenta - Rifugio Mantova', 'B030g', 'Peio', 'Soc.Fun. Peio', '30-dic-10', '30-dic-10', '2856', '992', '2001', '101', '860', 'si + frane', 'bistagionale']\n",
      "['Tarlenta - Rifugio Mantova', 'B030g', 'Peio', 'Soc.Fun. Peio', '30-dic-10', '30-dic-10', '2856', '992', '2001', '101', '860', 'si + frane', 'bistagionale']\n",
      "['Tarlenta - Rifugio Mantova', 'B030g', 'Peio', 'Soc.Fun. Peio', '30-dic-10', '30-dic-10', '2856', '992', '2001', '101', '860', 'si + frane', 'bistagionale']\n",
      "['Tarlenta - Rifugio Mantova', 'B030g', 'Peio', 'Soc.Fun. Peio', '30-dic-10', '30-dic-10', '2856', '992', '2001', '101', '860', 'si + frane', 'bistagionale']\n",
      "['Tarlenta - Rifugio Mantova', 'B030g', 'Peio', 'Soc.Fun. Peio', '30-dic-10', '30-dic-10', '2856', '992', '2001', '101', '860', 'si + frane', 'bistagionale']\n",
      "['Tarlenta - Rifugio Mantova', 'B030g', 'Peio', 'Soc.Fun. Peio', '30-dic-10', '30-dic-10', '2856', '992', '2001', '101', '860', 'si + frane', 'bistagionale']\n",
      "['Tarlenta - Rifugio Mantova', 'B030g', 'Peio', 'Soc.Fun. Peio', '30-dic-10', '30-dic-10', '2856', '992', '2001', '101', '860', 'si + frane', 'bistagionale']\n"
     ]
    }
   ],
   "source": [
    "# scrivi qui \n",
    "\n",
    "import csv \n",
    "    \n",
    "with open('impianti-bifuni.csv', encoding='utf-8', newline='') as f:\n",
    "    lettore = csv.reader(f, delimiter=',')\n",
    "    next(lettore, None) # saltiamo la riga con l'intestazione\n",
    "    for row in lettore:\n",
    "        if 'si (frane)' in riga[11]: # ricordati che l'indice delle colonne inizia da 0 \n",
    "            riga[11] = 'si + frane'\n",
    "        print(riga)"
   ]
  },
  {
   "cell_type": "raw",
   "id": "usual-peninsula",
   "metadata": {
    "format": "text/html"
   },
   "source": [
    "</div>"
   ]
  },
  {
   "cell_type": "code",
   "execution_count": 37,
   "metadata": {
    "colab": {
     "autoexec": {
      "startup": false,
      "wait_interval": 0
     }
    },
    "colab_type": "code",
    "id": "Oeyvm4QG5bTG"
   },
   "outputs": [
    {
     "name": "stdout",
     "output_type": "stream",
     "text": [
      "['Tarlenta - Rifugio Mantova', 'B030g', 'Peio', 'Soc.Fun. Peio', '30-dic-10', '30-dic-10', '2856', '992', '2001', '101', '860', 'si + frane', 'bistagionale']\n",
      "['Tarlenta - Rifugio Mantova', 'B030g', 'Peio', 'Soc.Fun. Peio', '30-dic-10', '30-dic-10', '2856', '992', '2001', '101', '860', 'si + frane', 'bistagionale']\n",
      "['Tarlenta - Rifugio Mantova', 'B030g', 'Peio', 'Soc.Fun. Peio', '30-dic-10', '30-dic-10', '2856', '992', '2001', '101', '860', 'si + frane', 'bistagionale']\n",
      "['Tarlenta - Rifugio Mantova', 'B030g', 'Peio', 'Soc.Fun. Peio', '30-dic-10', '30-dic-10', '2856', '992', '2001', '101', '860', 'si + frane', 'bistagionale']\n",
      "['Tarlenta - Rifugio Mantova', 'B030g', 'Peio', 'Soc.Fun. Peio', '30-dic-10', '30-dic-10', '2856', '992', '2001', '101', '860', 'si + frane', 'bistagionale']\n",
      "['Tarlenta - Rifugio Mantova', 'B030g', 'Peio', 'Soc.Fun. Peio', '30-dic-10', '30-dic-10', '2856', '992', '2001', '101', '860', 'si + frane', 'bistagionale']\n",
      "['Tarlenta - Rifugio Mantova', 'B030g', 'Peio', 'Soc.Fun. Peio', '30-dic-10', '30-dic-10', '2856', '992', '2001', '101', '860', 'si + frane', 'bistagionale']\n",
      "['Tarlenta - Rifugio Mantova', 'B030g', 'Peio', 'Soc.Fun. Peio', '30-dic-10', '30-dic-10', '2856', '992', '2001', '101', '860', 'si + frane', 'bistagionale']\n",
      "['Tarlenta - Rifugio Mantova', 'B030g', 'Peio', 'Soc.Fun. Peio', '30-dic-10', '30-dic-10', '2856', '992', '2001', '101', '860', 'si + frane', 'bistagionale']\n",
      "['Tarlenta - Rifugio Mantova', 'B030g', 'Peio', 'Soc.Fun. Peio', '30-dic-10', '30-dic-10', '2856', '992', '2001', '101', '860', 'si + frane', 'bistagionale']\n"
     ]
    }
   ],
   "source": [
    "# scrivi qui \n",
    "\n"
   ]
  },
  {
   "cell_type": "markdown",
   "metadata": {
    "colab_type": "text",
    "id": "HwfCELLF5bTI"
   },
   "source": [
    "\n",
    "**✪ 2.16 DOMANDA**:  Quel `'M.G'` non chiarissimo, come neanche se ci sia qualche differenza tra `frane` e `valanghe`. Capire il significato di cosa manipoliamo è importante, forse potresti scoprire il significato nella [pagina del dataset](http://dati.trentino.it/dataset/impianti-funiviari-in-esercizio-pubblico) ? "
   ]
  },
  {
   "cell_type": "raw",
   "id": "hidden-arkansas",
   "metadata": {
    "format": "text/html"
   },
   "source": [
    "<a  class=\"jupman-sol jupman-sol-toggler\" \n",
    " onclick=\"jupman.toggleSolution(this);\" \n",
    " data-jupman-show=\"Mostra risposta\" data-jupman-hide=\"Nascondi\">Mostra risposta</a><div class=\"jupman-sol jupman-sol-question\" style=\"display:none\">  "
   ]
  },
  {
   "cell_type": "markdown",
   "metadata": {},
   "source": [
    "**RISPOSTA**: \n",
    "\n",
    "Nella sezione _Descrizione Campi_ nella [pagina del dataset](http://dati.trentino.it/dataset/impianti-funiviari-in-esercizio-pubblico) vediamo scritto:\n",
    "\n",
    "```\n",
    "Opere paravalanghe = Presenza di opere paravalanghe o misure gestionali\n",
    "\n",
    "    Mis. Ges. / M.G. = Misure gestionali (piano P.I.S.T.E. o piano P.I.D.A.V.)\n",
    "    CLV = Commissione locale valanghe\n",
    "    Si = Presenza di opere paravalanghe\n",
    "```\n",
    "\n",
    "Scopriamo quindi che M.G. vuol dire 'Misure Gestionali', purtroppo non ci dicono nulla sulle frane. Questo non è un caso eccezionale, spesso accade che le descrizioni dei dati siano incomplete a si è costretti ad operare in regime di incertezza.\n"
   ]
  },
  {
   "cell_type": "raw",
   "id": "saving-aviation",
   "metadata": {
    "format": "text/html"
   },
   "source": [
    "</div>"
   ]
  },
  {
   "cell_type": "markdown",
   "metadata": {
    "colab_type": "text",
    "id": "PE_-xVDt5bTJ"
   },
   "source": [
    "**✪ 2.17 ESERCIZIO**: Cosa significa quel cancelletto `#` ? Conosci un oggetto di Python che potrebbe rappresentarlo ? Riesci a sostituire tutti i cancelletti con quell'oggetto prima di stampare le liste?"
   ]
  },
  {
   "cell_type": "raw",
   "id": "gothic-holmes",
   "metadata": {
    "format": "text/html"
   },
   "source": [
    "<a  class=\"jupman-sol jupman-sol-toggler\" \n",
    " onclick=\"jupman.toggleSolution(this);\" \n",
    " data-jupman-show=\"Mostra soluzione\" data-jupman-hide=\"Nascondi\">Mostra soluzione</a><div class=\"jupman-sol jupman-sol-code\" style=\"display:none\">  "
   ]
  },
  {
   "cell_type": "code",
   "execution_count": 38,
   "metadata": {
    "colab": {
     "autoexec": {
      "startup": false,
      "wait_interval": 0
     }
    },
    "colab_type": "code",
    "id": "RvFLloTf5bTJ"
   },
   "outputs": [
    {
     "name": "stdout",
     "output_type": "stream",
     "text": [
      "['Trento - Sardagna', 'B007e', 'Trento', 'Soc. Trentino Trasporti Esercizio', '08-apr-64', '18-mar-03', '1157', '400', '200', '13', '270', None, 'annuale']\n",
      "['Mezzocorona - Monte', 'B008e', 'Mezzocorona', 'Soc.Fun. Monte Mezzocorona', '22-dic-04', '22-dic-04', '933', '623', '267', '7', '130', 'si (frane)', 'annuale']\n",
      "['Alba - Ciampac', 'B014m', 'Canazei', 'Soc.Fun. Ciampac e Contrin', '20-mag-75', '27-nov-14', '1902', '658', '1496', '75', '840', None, 'bistagionale']\n",
      "['Pecol - Col dei Rossi', 'B017m', 'Canazei', 'S.I.T.C.', '09-feb-79', '05-dic-97', '1313', '450', '1932', '76', '1100', 'si', 'bistagionale']\n",
      "['P. S.Pellegrino - Col Margherita', 'B022m', 'Moena', 'Soc.Fun. Col Margherita', '11-mar-82', '14-dic-01', '1395', '639', '1874', '97', '1330', None, 'bistagionale']\n",
      "['Vigo di Fassa - Ciampedie', 'B026m', 'Vigo di Fassa', 'Soc.Catinaccio Impianti a Fune', '24-lug-85', '23-giu-05', '1523', '570', '1431', '101', '1300', None, 'bistagionale']\n",
      "['Campitello - Col Rodella ', 'B027m', 'Canazei', 'S.I.T.C.', '06-dic-86', '07-lug-05', '2472', '984', '1411', '126', '1160', 'si', 'bistagionale']\n",
      "['Passo Pordoi - Sass Pordoi', 'B028m', 'Canazei', 'S.I.T.C.', '23-mag-95', '23-mag-95', '1487', '708', '2240', '65', '820', None, 'bistagionale']\n",
      "['Col Verde - Rosetta', 'B029b', 'Tonadico', 'Imprese e Territorio Soc. Cons. s.r.l.', '21-lug-04', '21-lug-04', '1336', '674', '1935', '41', '420', 'si + M.G.', 'bistagionale']\n",
      "['Tarlenta - Rifugio Mantova', 'B030g', 'Peio', 'Soc.Fun. Peio', '30-dic-10', '30-dic-10', '2856', '992', '2001', '101', '860', 'si + frane', 'bistagionale']\n"
     ]
    }
   ],
   "source": [
    "# scrivi qui\n",
    "\n",
    "import csv\n",
    "\n",
    "with open('impianti-bifuni.csv', encoding='utf-8', newline='') as f:\n",
    "    lettore = csv.reader(f, delimiter=',')\n",
    "    next(lettore, None) # saltiamo la riga con l'intestazione\n",
    "    for riga in lettore:\n",
    "        if '#' in riga[11]: # ricordati che l'indice delle colonne inizia da 0 \n",
    "            riga[11] = None\n",
    "        print(riga)"
   ]
  },
  {
   "cell_type": "raw",
   "id": "incident-revolution",
   "metadata": {
    "format": "text/html"
   },
   "source": [
    "</div>"
   ]
  },
  {
   "cell_type": "code",
   "execution_count": 38,
   "metadata": {
    "colab": {
     "autoexec": {
      "startup": false,
      "wait_interval": 0
     }
    },
    "colab_type": "code",
    "id": "RvFLloTf5bTJ"
   },
   "outputs": [
    {
     "name": "stdout",
     "output_type": "stream",
     "text": [
      "['Trento - Sardagna', 'B007e', 'Trento', 'Soc. Trentino Trasporti Esercizio', '08-apr-64', '18-mar-03', '1157', '400', '200', '13', '270', None, 'annuale']\n",
      "['Mezzocorona - Monte', 'B008e', 'Mezzocorona', 'Soc.Fun. Monte Mezzocorona', '22-dic-04', '22-dic-04', '933', '623', '267', '7', '130', 'si (frane)', 'annuale']\n",
      "['Alba - Ciampac', 'B014m', 'Canazei', 'Soc.Fun. Ciampac e Contrin', '20-mag-75', '27-nov-14', '1902', '658', '1496', '75', '840', None, 'bistagionale']\n",
      "['Pecol - Col dei Rossi', 'B017m', 'Canazei', 'S.I.T.C.', '09-feb-79', '05-dic-97', '1313', '450', '1932', '76', '1100', 'si', 'bistagionale']\n",
      "['P. S.Pellegrino - Col Margherita', 'B022m', 'Moena', 'Soc.Fun. Col Margherita', '11-mar-82', '14-dic-01', '1395', '639', '1874', '97', '1330', None, 'bistagionale']\n",
      "['Vigo di Fassa - Ciampedie', 'B026m', 'Vigo di Fassa', 'Soc.Catinaccio Impianti a Fune', '24-lug-85', '23-giu-05', '1523', '570', '1431', '101', '1300', None, 'bistagionale']\n",
      "['Campitello - Col Rodella ', 'B027m', 'Canazei', 'S.I.T.C.', '06-dic-86', '07-lug-05', '2472', '984', '1411', '126', '1160', 'si', 'bistagionale']\n",
      "['Passo Pordoi - Sass Pordoi', 'B028m', 'Canazei', 'S.I.T.C.', '23-mag-95', '23-mag-95', '1487', '708', '2240', '65', '820', None, 'bistagionale']\n",
      "['Col Verde - Rosetta', 'B029b', 'Tonadico', 'Imprese e Territorio Soc. Cons. s.r.l.', '21-lug-04', '21-lug-04', '1336', '674', '1935', '41', '420', 'si + M.G.', 'bistagionale']\n",
      "['Tarlenta - Rifugio Mantova', 'B030g', 'Peio', 'Soc.Fun. Peio', '30-dic-10', '30-dic-10', '2856', '992', '2001', '101', '860', 'si + frane', 'bistagionale']\n"
     ]
    }
   ],
   "source": [
    "# scrivi qui\n",
    "\n"
   ]
  },
  {
   "cell_type": "markdown",
   "metadata": {},
   "source": [
    "✪✪ **2.18 ESERCIZIO**: prova a salvare i dati sistemati (quindi con entrambe le traasformazioni `si (frane) -> si + frane` e `# -> None` nel NUOVO file `impianti-bifuni-sistemato.csv`\n",
    "\n",
    "- se nella cartella trovi già un file chiamato `impianti-bifuni-sistemato.csv`, ricordati di cancellarlo manualmente prima di iniziare l'esercizio\n",
    "- il valore `None` come verrà scritto ? Controlla nel file generato dal tuo codice."
   ]
  },
  {
   "cell_type": "raw",
   "id": "pregnant-trainer",
   "metadata": {
    "format": "text/html"
   },
   "source": [
    "<a  class=\"jupman-sol jupman-sol-toggler\" \n",
    " onclick=\"jupman.toggleSolution(this);\" \n",
    " data-jupman-show=\"Mostra soluzione\" data-jupman-hide=\"Nascondi\">Mostra soluzione</a><div class=\"jupman-sol jupman-sol-code\" style=\"display:none\">  "
   ]
  },
  {
   "cell_type": "code",
   "execution_count": 39,
   "metadata": {},
   "outputs": [
    {
     "name": "stdout",
     "output_type": "stream",
     "text": [
      "\n",
      "Completata scrittura di:  impianti-bifuni-sistemato.csv\n"
     ]
    }
   ],
   "source": [
    "# scrivi qui\n",
    "\n",
    "import csv\n",
    "\n",
    "# Per scrivere, RICORDATI di specificare l'opzione 'w'\n",
    "# ATTENZIONE: 'w' rimpiazza *completamente* eventuali file  esistenti!\n",
    "# ATTENZIONE: l'handle *esterno* l'abbiamo chiamato  csv_da_scrivere\n",
    "with open('impianti-bifuni-sistemato.csv', 'w', encoding='utf-8', newline='') as csv_da_scrivere:\n",
    "    \n",
    "    scrittore = csv.writer(csv_da_scrivere, delimiter=',')\n",
    "    \n",
    "    # Nota come questo 'with' sia dentro quello esterno    \n",
    "    # ATTENZIONE: l'handle *interno* l'abbiamo chiamato csv_da_leggere        \n",
    "    with open('impianti-bifuni.csv', encoding='utf-8', newline='') as csv_da_leggere:\n",
    "        lettore = csv.reader(csv_da_leggere, delimiter=',')\n",
    "        next(lettore, None) # saltiamo la riga con l'intestazione\n",
    "        for riga in lettore:\n",
    "            if 'si (frane)' in row[11]: # ricordati che l'indice delle colonne inizia da 0 \n",
    "                row[11] = 'si + frane'\n",
    "            elif '#' in riga[11]: # ricordati che l'indice delle colonne inizia da 0 \n",
    "                riga[11] = None            \n",
    "            scrittore.writerow(riga)            \n",
    "print()            \n",
    "print('Completata scrittura di:  impianti-bifuni-sistemato.csv')"
   ]
  },
  {
   "cell_type": "raw",
   "id": "linear-mercy",
   "metadata": {
    "format": "text/html"
   },
   "source": [
    "</div>"
   ]
  },
  {
   "cell_type": "code",
   "execution_count": 39,
   "metadata": {},
   "outputs": [
    {
     "name": "stdout",
     "output_type": "stream",
     "text": [
      "\n",
      "Completata scrittura di:  impianti-bifuni-sistemato.csv\n"
     ]
    }
   ],
   "source": [
    "# scrivi qui\n",
    "\n"
   ]
  },
  {
   "cell_type": "markdown",
   "metadata": {},
   "source": [
    "## 3. File JSON\n",
    "\n",
    "Il JSON è un formato più elaborato,  molto diffuso nel mondo delle applicazioni web. \n",
    "\n",
    "Un file json è semplicemente un file di testo, strutturato _ad albero_. Vediamone un esempio, tratto dal dataset stazioni di Bike sharing di Lavis trovato su dati.trentino : \n",
    "\n",
    "- Fonte dati: [dati.trentino.it](https://dati.trentino.it/dataset/stazioni-bike-sharing-emotion-trentino), Servizio Trasporti Provincia Autonoma di Trento\n",
    "- Licenza: [CC-BY 4.0](http://creativecommons.org/licenses/by/4.0/deed.it)\n",
    "\n"
   ]
  },
  {
   "cell_type": "markdown",
   "metadata": {},
   "source": [
    "File [bike-sharing-lavis.json](bike-sharing-lavis.json):\n",
    "\n",
    "```json\n",
    "[\n",
    "  {\n",
    "    \"name\": \"Grazioli\",\n",
    "    \"address\": \"Piazza Grazioli - Lavis\",\n",
    "    \"id\": \"Grazioli - Lavis\",\n",
    "    \"bikes\": 3,\n",
    "    \"slots\": 7,\n",
    "    \"totalSlots\": 10,\n",
    "    \"position\": [\n",
    "      46.139732902099794,\n",
    "      11.111516155225331\n",
    "    ]\n",
    "  },\n",
    "  {\n",
    "    \"name\": \"Pressano\",\n",
    "    \"address\": \"Piazza della Croce - Pressano\",\n",
    "    \"id\": \"Pressano - Lavis\",\n",
    "    \"bikes\": 2,\n",
    "    \"slots\": 5,\n",
    "    \"totalSlots\": 7,\n",
    "    \"position\": [\n",
    "      46.15368174037716,\n",
    "      11.106601229430453\n",
    "    ]\n",
    "  },\n",
    "  {\n",
    "    \"name\": \"Stazione RFI\",\n",
    "    \"address\": \"Via Stazione - Lavis\",\n",
    "    \"id\": \"Stazione RFI - Lavis\",\n",
    "    \"bikes\": 4,\n",
    "    \"slots\": 6,\n",
    "    \"totalSlots\": 10,\n",
    "    \"position\": [\n",
    "      46.148180371138814,\n",
    "      11.096753997622727\n",
    "    ]\n",
    "  }\n",
    "]\n",
    "\n",
    "```\n",
    "\n",
    "\n"
   ]
  },
  {
   "cell_type": "markdown",
   "metadata": {},
   "source": [
    "Come si può notare, il formato del json è molto simile a strutture dati che già abbiamo in Python, come stringhe, numeri interi, float, liste e dizionari. L’unica differenza sono i campi `null` in json che diventano `None` in Python. Quindi la conversione a Python è quasi sempre facile e indolore, e per farla basta usare il modulo già pronto `json` con la funzione `json.load`, che interpreta il testo dal file json e lo converte in strutture dati Python:"
   ]
  },
  {
   "cell_type": "code",
   "execution_count": 40,
   "metadata": {},
   "outputs": [
    {
     "name": "stdout",
     "output_type": "stream",
     "text": [
      "[{'position': [46.139732902099794, 11.111516155225331], 'bikes': 3, 'name': 'Grazioli', 'slots': 7, 'totalSlots': 10, 'id': 'Grazioli - Lavis', 'address': 'Piazza Grazioli - Lavis'}, {'position': [46.15368174037716, 11.106601229430453], 'bikes': 2, 'name': 'Pressano', 'slots': 5, 'totalSlots': 7, 'id': 'Pressano - Lavis', 'address': 'Piazza della Croce - Pressano'}, {'position': [46.148180371138814, 11.096753997622727], 'bikes': 4, 'name': 'Stazione RFI', 'slots': 6, 'totalSlots': 10, 'id': 'Stazione RFI - Lavis', 'address': 'Via Stazione - Lavis'}]\n"
     ]
    }
   ],
   "source": [
    "import json\n",
    "\n",
    "with open('bike-sharing-lavis.json',  encoding='utf-8') as f:\n",
    "    contenuto_python = json.load(f)\n",
    "    \n",
    "print(contenuto_python)"
   ]
  },
  {
   "cell_type": "markdown",
   "metadata": {},
   "source": [
    "Notiamo che quanto letto con la funzione `json.load` non è più semplice testo ma oggetti Python. Per questo json, l'oggetto più esterno è una lista (notate le quadre all'inizio e alla fine del file), e usando `type` su `contenuto_python` ne abbiamo la conferma:"
   ]
  },
  {
   "cell_type": "code",
   "execution_count": 41,
   "metadata": {},
   "outputs": [
    {
     "data": {
      "text/plain": [
       "list"
      ]
     },
     "execution_count": 41,
     "metadata": {},
     "output_type": "execute_result"
    }
   ],
   "source": [
    "type(contenuto_python)"
   ]
  },
  {
   "cell_type": "markdown",
   "metadata": {},
   "source": [
    "Guardando meglio il JSON, vedrete che è una lista di dizionari. Quindi, per accedere al primo dizionario (cioè quello all0indice zeresimo), possiamo scrivere"
   ]
  },
  {
   "cell_type": "code",
   "execution_count": 42,
   "metadata": {},
   "outputs": [
    {
     "data": {
      "text/plain": [
       "{'address': 'Piazza Grazioli - Lavis',\n",
       " 'bikes': 3,\n",
       " 'id': 'Grazioli - Lavis',\n",
       " 'name': 'Grazioli',\n",
       " 'position': [46.139732902099794, 11.111516155225331],\n",
       " 'slots': 7,\n",
       " 'totalSlots': 10}"
      ]
     },
     "execution_count": 42,
     "metadata": {},
     "output_type": "execute_result"
    }
   ],
   "source": [
    "contenuto_python[0]"
   ]
  },
  {
   "cell_type": "markdown",
   "metadata": {},
   "source": [
    "Vediamo che è la stazione in Piazza Grazioli. Per accedere al nome esatto, accederemo alla chiave `'address'` del primo dizionario :"
   ]
  },
  {
   "cell_type": "code",
   "execution_count": 43,
   "metadata": {},
   "outputs": [
    {
     "data": {
      "text/plain": [
       "'Piazza Grazioli - Lavis'"
      ]
     },
     "execution_count": 43,
     "metadata": {},
     "output_type": "execute_result"
    }
   ],
   "source": [
    "contenuto_python[0]['address']"
   ]
  },
  {
   "cell_type": "markdown",
   "metadata": {},
   "source": [
    "Per accedere alla posizione, usiamo la chiave corrispondente:"
   ]
  },
  {
   "cell_type": "code",
   "execution_count": 44,
   "metadata": {},
   "outputs": [
    {
     "data": {
      "text/plain": [
       "[46.139732902099794, 11.111516155225331]"
      ]
     },
     "execution_count": 44,
     "metadata": {},
     "output_type": "execute_result"
    }
   ],
   "source": [
    "contenuto_python[0]['position']"
   ]
  },
  {
   "cell_type": "markdown",
   "metadata": {},
   "source": [
    "Notiamo come essa sia a sua volta una lista. In JSON, possiamo avere alberi ramificati arbitrariamente, senza necessariamente una struttura regolare (per quanto quando generiamo noi un json sia sempre auspicabile mantenere uno schema regolare nei dati)."
   ]
  },
  {
   "cell_type": "markdown",
   "metadata": {},
   "source": [
    "### JSONL\n",
    "\n",
    "C'è un particolare tipo di file JSON che si chiama  [JSONL](http://jsonlines.org/) (nota 'L' alla fine), e cioè un file di testo contenente una sequenza di linee, ciascuna rappresentante un valido oggetto json.\n",
    "\n",
    "\n",
    "Guardiamo per esempio il file [impiegati.jsonl](impiegati.jsonl):"
   ]
  },
  {
   "cell_type": "markdown",
   "metadata": {},
   "source": [
    "```json\n",
    "{\"nome\": \"Mario\", \"cognome\":\"Rossi\"}\n",
    "{\"nome\": \"Paolo\", \"cognome\":\"Bianchi\"}\n",
    "{\"nome\": \"Luca\", \"cognome\":\"Verdi\"}\n",
    "```"
   ]
  },
  {
   "cell_type": "markdown",
   "metadata": {},
   "source": [
    "Per leggerlo, possiamo aprire il file, separarlo nelle linee di testo e poi interpretare ciascuna come singolo oggetto JSON"
   ]
  },
  {
   "cell_type": "code",
   "execution_count": 45,
   "metadata": {},
   "outputs": [
    {
     "name": "stdout",
     "output_type": "stream",
     "text": [
      "Oggetto  0\n",
      "{'nome': 'Mario', 'cognome': 'Rossi'}\n",
      "Oggetto  1\n",
      "{'nome': 'Paolo', 'cognome': 'Bianchi'}\n",
      "Oggetto  2\n",
      "{'nome': 'Luca', 'cognome': 'Verdi'}\n"
     ]
    }
   ],
   "source": [
    "import json\n",
    "\n",
    "with open('./impiegati.jsonl', encoding='utf-8',) as f:\n",
    "    lista_testi_json = list(f)       # converte le linee del file di testo in una lista Python\n",
    "\n",
    "# in questo caso avremo un contenuto python per ciascuna riga del file originale\n",
    "\n",
    "i = 0\n",
    "for testo_json in lista_testi_json:\n",
    "    contenuto_python = json.loads(testo_json)   # converte testo json in oggetto python\n",
    "    print('Oggetto ', i)\n",
    "    print(contenuto_python)\n",
    "    i = i + 1\n",
    "    "
   ]
  },
  {
   "cell_type": "code",
   "execution_count": null,
   "metadata": {},
   "outputs": [],
   "source": []
  }
 ],
 "metadata": {
  "celltoolbar": "Edit Metadata",
  "colab": {
   "collapsed_sections": [],
   "default_view": {},
   "name": "data-formats-exercises.ipynb",
   "provenance": [],
   "version": "0.3.2",
   "views": {}
  },
  "kernelspec": {
   "display_name": "Python 3",
   "language": "python",
   "name": "python3"
  },
  "language_info": {
   "codemirror_mode": {
    "name": "ipython",
    "version": 3
   },
   "file_extension": ".py",
   "mimetype": "text/x-python",
   "name": "python",
   "nbconvert_exporter": "python",
   "pygments_lexer": "ipython3",
   "version": "3.5.2"
  },
  "toc": {
   "base_numbering": 1,
   "nav_menu": {},
   "number_sections": false,
   "sideBar": true,
   "skip_h1_title": false,
   "title_cell": "Table of Contents",
   "title_sidebar": "Contents",
   "toc_cell": false,
   "toc_position": {},
   "toc_section_display": true,
   "toc_window_display": true
  }
 },
 "nbformat": 4,
 "nbformat_minor": 1
}
