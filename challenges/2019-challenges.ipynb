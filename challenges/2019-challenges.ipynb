{
 "cells": [
  {
   "cell_type": "markdown",
   "metadata": {},
   "source": [
    "# Challenges 2019\n",
    "\n",
    "## COMING SOON ...\n",
    "\n",
    "![](../img/third-parties/banner-ictdays-summercamp-2019.png)\n",
    "\n",
    "In occasione degli ICTDays Summercamp 2019 per ragazzi delle superiori in Alternanza Scuola / Lavoro, organizzato dal [Dipartimento di Ingegneria e Scienze dell’Informazione (DISI)](https://www.disi.unitn.it) dell'Università di Trento, [Hub Innovazione Trentino HIT](https://www.trentinoinnovation.eu) e la [rete STAAR](http://www.staarr.it/) nelle sedi del [Clab Trento](https://international.unitn.it/blt/clab-trento) vi proponiamo quattro sfide: Lavoro 4.0 promossa da [Agenzia del Lavoro](https://www.agenzialavoro.tn.it/) ed [Engineering](https://www.eng.it),  Re Parco da Trento promossa da [Dipartimento di Ingegneria e Scienze dell’Informazione (DISI)](https://www.disi.unitn.it) e [dati.trentino.it](http://dati.trentino.it), A Prova di Hacker  promossa da [SpazioDati](http://spaziodati.eu), e Real Time Transport, promossa da [U-Hopper](https://u-hopper.com/) / [Thinkin](https://thinkin.io).\n",
    "\n",
    "\n",
    "**Programmazione Python** :\n",
    "\n",
    "**Docente**: David Leoni\n",
    "\n",
    "**Tutors**: Aurora Papotti, Willi Menapace, Luca Zanella, Daniele Giuliani, Luca 'James' Bosotti, Andrea Ferigo, Damiano Melotti\n",
    "\n"
   ]
  },
  {
   "cell_type": "code",
   "execution_count": null,
   "metadata": {},
   "outputs": [],
   "source": []
  }
 ],
 "metadata": {
  "celltoolbar": "Edit Metadata",
  "kernelspec": {
   "display_name": "Python 3",
   "language": "python",
   "name": "python3"
  },
  "language_info": {
   "codemirror_mode": {
    "name": "ipython",
    "version": 3
   },
   "file_extension": ".py",
   "mimetype": "text/x-python",
   "name": "python",
   "nbconvert_exporter": "python",
   "pygments_lexer": "ipython3",
   "version": "3.5.2"
  },
  "toc": {
   "base_numbering": 1,
   "nav_menu": {},
   "number_sections": false,
   "sideBar": true,
   "skip_h1_title": false,
   "title_cell": "Table of Contents",
   "title_sidebar": "Contents",
   "toc_cell": false,
   "toc_position": {},
   "toc_section_display": true,
   "toc_window_display": false
  }
 },
 "nbformat": 4,
 "nbformat_minor": 2
}
