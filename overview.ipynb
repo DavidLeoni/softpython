{
 "cells": [
  {
   "cell_type": "markdown",
   "metadata": {},
   "source": [
    "\n",
    "# Come orientarsi\n",
    "\n",
    "\n",
    "Per cominciare spenderemo due parole sull'approccio e gli obiettivi del corso, e poi ci tufferemo nel codice: \n",
    "\n",
    "* Presentazione\n",
    "* Installazione\n",
    "* Guardiamo Python\n"
   ]
  },
  {
   "cell_type": "markdown",
   "metadata": {},
   "source": [
    "\n",
    "\n",
    "![che-faremo-corso-38871](_static/img/che-faremo-corso.png)\n"
   ]
  },
  {
   "cell_type": "markdown",
   "metadata": {},
   "source": [
    "## Capitoli\n",
    "\n",
    "Le guide trattano fondamenti di Python 3, analisi dati (intesa più come processamento dati grezzi che statistiche) e qualche applicazione (dashboard, database, ..)\n",
    "\n",
    "**Cosa _non_ trattano:**\n",
    "\n",
    "- teoria programmazione a oggetti\n",
    "- algoritmi, complessità computazionale\n",
    "- performance\n",
    "    - niente terabyte di dati ...\n",
    "- debugging avanzato (pdb)\n",
    "- il testing è solo accennato\n",
    "- machine learning\n",
    "- web development è solo accennato"
   ]
  },
  {
   "cell_type": "markdown",
   "metadata": {},
   "source": [
    "## Perchè Python?\n",
    "\n",
    "![python-logo-1823](_static/img/python-logo.png)\n",
    "\n",
    "- **Semplice** a sufficienza per iniziare\n",
    "- **Versatile**, molto usato per\n",
    "    - calcolo scientifico\n",
    "    - applicazioni web\n",
    "    - scripting\n",
    "- **diffuso** sia nell'industria che nella ricerca \n",
    "    - Indice [Tiobe](https://www.tiobe.com/tiobe-index/)\n",
    "    - [popolarità su Github](https://madnight.github.io/githut/#/pull_requests/2019/1)\n",
    "- **Licenza** [open source & business friendly](https://www.python.it/doc/faq/#ci-sono-restrizioni-di-copyright-nell-uso-di-python)\n",
    "    - tradotto potete vendere prodotti commerciali basati su Python senza pagare royalties\n"
   ]
  },
  {
   "cell_type": "markdown",
   "metadata": {},
   "source": [
    "\n",
    "## Materiale del corso\n",
    "\n",
    "**Tabellona materiale**: I vari argomenti del corso sono listati nella [Tabellona materiale](https://docs.google.com/spreadsheets/d/1w9WzEVnmPs3de4fHsywMdhcVwuNxy5_ol24AimddbC4/edit#gid=0), in cui potete anche aggiungere dei commenti su eventuale materiale utile che avete trovato e si potrebbe aggiungere.\n",
    "\n",
    "**Libri di testo**: Non c'è un singolo libro di testo, quanto piuttosto una serie di risorse da leggere eventualmente integrate dal presente sito. In particolare useremo i seguenti due libri, entrambi dall'approccio discorsivo e gratuiti disponibili sia online che in pdf.\n",
    "\n",
    "### Pensare in Python seconda edizione\n",
    "\n",
    "(Think Python)\n",
    "\n",
    "* Molto discorsivo, Passo passo, adatto a principianti\n",
    "* [versione online](https://davidleoni.github.io/ThinkPythonItalian/html/index.html)\n",
    "* [zip offline](https://davidleoni.github.io/ThinkPythonItalian/thinkpython_italian_html.zip)\n",
    "* [PDF](https://github.com/DavidLeoni/ThinkPythonItalian/raw/master/thinkpython_italian.pdf)\n",
    "\n",
    "\n",
    "Licenza: [Creative Commons Attribuzione Non Commerciale 3.0](http://creativecommons.org/licenses/by-nc/3.0/deed.it), come riportato nella [pagina della versione originale in inglese](http://greenteapress.com/wp/think-python-2e/). Tradotto: potete farvelo stampare in copisteria, se vi fanno storie su questioni di copyright mostrategli la licenza.\n",
    "\n",
    "* Liberamente stampabile: sì\n",
    "* Libro su carta da comprare in italiano: no\n",
    "* Libro su carta da comprare in inglese: sì\n"
   ]
  },
  {
   "cell_type": "markdown",
   "metadata": {},
   "source": [
    "### Lezioni di Nicola Cassetta\n",
    "\n",
    "* Tutoria passo passo, adatti a principianti\n",
    "* [versione online](http://ncassetta.altervista.org/Tutorial_Python/index.html)\n",
    "\n",
    "\n"
   ]
  },
  {
   "cell_type": "markdown",
   "metadata": {},
   "source": [
    "### Immersione in Python 3 \n",
    "\n",
    "(Dive into Python 3)\n",
    "\n",
    "* più pratico, contiene tutorial più mirati (es. trattare file XML)\n",
    "* [versione online](http://gpiancastelli.altervista.org/dip3-it)\n",
    "* [zip offline](http://gpiancastelli.altervista.org/dip3-it/d/diveintopython3-it-html-latest.zip)\n",
    "* [PDF](http://gpiancastelli.altervista.org/dip3-it/d/diveintopython3-it-pdf-latest.zip) + [Tabella dei contenuti generata](_static/toc-immersione-in-python-3.txt)\n",
    "\n",
    "Licenza: [Creative Commons Attribuzione Condividi allo stesso modo 3.0](http://creativecommons.org/licenses/by-sa/3.0/deed.it) come riportato in fondo [al sito del libro](http://gpiancastelli.altervista.org/dip3-it/).  Tradotto: potete farvelo stampare in copisteria, se vi fanno storie su questioni di copyright mostrategli la licenza.\n",
    "\n",
    "* Liberamente stampabile: sì\n",
    "* Libro su carta da comprare in italiano: no\n",
    "* Libro su carta da comprare in inglese: sì\n",
    "\n"
   ]
  },
  {
   "cell_type": "markdown",
   "metadata": {},
   "source": [
    "### SoftPython: Esercizi integrativi\n",
    "\n",
    "Su SoftPython trovi esercizi addizionali:\n",
    "\n",
    "\n",
    "- [introduzione rapida](quick-intro/quick-intro.ipynb) (per chi ha già conoscenze di programmazione)\n",
    "- [basi](basics/basics-sol.ipynb)\n",
    "- [stringhe](strings/strings-sol.ipynb)\n",
    "- [liste](lists/lists-sol.ipynb)\n",
    "- [tuple](tuples/tuples-sol.ipynb)\n",
    "- [dizionari](dictionaries/dictionaries-sol.ipynb)\n",
    "- [funzioni](functions/functions-sol.ipynb)\n",
    "- [matrici - liste di liste](matrices-lists/matrices-lists-sol.ipynb)\n",
    "- [matrici - numpy](matrices-numpy/matrices-numpy-sol.ipynb)\n",
    "\n",
    "Questi esercizi servono come aggiunta al materiale precedentemente citato ma sono piuttosto astratti e quindi probabilmente meno interessanti, specie se già sai qualcosa di programmazione. Quindi se vuoi saltarli sentiti libero di farlo.\n",
    "\n",
    "<div class=\"alert alert-warning\">\n",
    "\n",
    "**ATTENZIONE**: Per questi esercizi (e solo per questi), abbiamo adottato un sistema per permetterti di testare che le tue soluzioni siano corrette. Per capire come funziona, e come si gestiscono le situazioni di errore in genere, devi prima guardare il foglio separato [Gestione errori e testing](errors-and-testing/errors-and-testing-sol.ipynb)\n",
    "</div>\n"
   ]
  },
  {
   "cell_type": "markdown",
   "metadata": {},
   "source": [
    "\n",
    "## Approccio e obiettivi\n",
    "\n",
    "\n",
    "**Approccio 'destrutturato':**\n",
    "\n",
    "- _breve_ presentazione\n",
    "- consegna tutorial, da portare avanti in relativa autonomia\n",
    "- quando avete problemi, chiedete (vedere sezione [Non funziona, che faccio ?](#Non-funziona,-che-faccio-?))\n",
    "\n",
    "L'obiettivo del corso _non è_ imparare tutto il programma, il progetto che vi chiederò di presentare alla fine sarà personale e commisurato alle effettive capacità di ognuno, quindi:\n",
    "\n",
    "**Se avete difficoltà con le basi di programmazione:**\n",
    "\n",
    "- **Difficoltà esercizi**: ✪ , ✪✪\n",
    "- concentratevi di più sul **libro 'Pensare in Python'**\n",
    "- focalizzatevi su qualche argomento che vi interessa particolarmente (es. lettura file CSV perchè vi serve per la tesi)\n",
    "\n",
    "\n",
    "**Se già sapete programmare bene:**\n",
    "\n",
    "- **Difficoltà esercizi**: ✪✪✪, ✪✪✪✪\n",
    "- se finite in fretta, eventualmente guardate materiale extra da **libro Immersione in Python**\n",
    "- fate gli argomenti del corso come da programma \n"
   ]
  },
  {
   "cell_type": "markdown",
   "metadata": {},
   "source": [
    "\n",
    "\n",
    "## Non funziona, che faccio ? \n",
    "\n",
    "Sicuramente mentre programmi incontrerai dei problemi, e ti capiterà di fissare misteriosi messaggi di errore sullo schermo . Lo scopo di questo corso non è dare una serie di ricette da imparare a memoria e che funzionano sempre, quanto piuttosto di mettere in grado di muovere i primi passi nel mondo Python con un minimo di disinvoltura. Quindi, quando qualcosa va storto, non perderti d'animo e prova a seguire la seguente lista di passi che potrebbero aiutarti. Cerca di seguire la lista nell'ordine proposto:\n",
    "\n",
    "1. se in classe, chiedi al prof (se non in classe, vedi ultimi due punti) \n",
    "2. se in classe, chiedi al vicino che ne sa di più\n",
    "3. cerca messaggio di errore su Google\n",
    "    - rimuovi nomi o parti troppo specifici al tuo programma, come numeri di linea, nomi di file, nomi di variabili\n",
    "    - se sai l’inglese, [Stack overflow](https://stackoverflow.com) è il tuo migliore amico \n",
    "    - se non sai l’inglese: cerca nel [Forum italiano di python-it.org](http://www.python-it.org/forum) \n",
    "4. Guarda [Appendice A - Debug del libro Pensare in Python](https://davidleoni.github.io/ThinkPythonItalian/html/thinkpython2021.html)\n",
    "    - [Syntax error](https://davidleoni.github.io/ThinkPythonItalian/html/thinkpython2021.html#sec238)\n",
    "        - [Continuo a fare modifiche ma non cambia nulla.](https://davidleoni.github.io/ThinkPythonItalian/html/thinkpython2021.html#sec239)\n",
    "    - [Errori di runtime](https://davidleoni.github.io/ThinkPythonItalian/html/thinkpython2021.html#sec240)\n",
    "        - [Il programma non fa assolutamente nulla](https://davidleoni.github.io/ThinkPythonItalian/html/thinkpython2021.html#sec241)\n",
    "        - [Il programma si blocca](https://davidleoni.github.io/ThinkPythonItalian/html/thinkpython2021.html#sec242)\n",
    "        - [Ciclo infinito](https://davidleoni.github.io/ThinkPythonItalian/html/thinkpython2021.html#sec243)\n",
    "        - [Ricorsione infinita](https://davidleoni.github.io/ThinkPythonItalian/html/thinkpython2021.html#sec244)\n",
    "        - [Flusso di esecuzione](https://davidleoni.github.io/ThinkPythonItalian/html/thinkpython2021.html#sec245)\n",
    "        - [Quando eseguo il programma è sollevata un’eccezione.](https://davidleoni.github.io/ThinkPythonItalian/html/thinkpython2021.html#sec246)\n",
    "        - [Ho aggiunto talmente tante istruzioni di stampa che sono sommerso di output](https://davidleoni.github.io/ThinkPythonItalian/html/thinkpython2021.html#sec247)\n",
    "    - [Errori di semantica](https://davidleoni.github.io/ThinkPythonItalian/html/thinkpython2021.html#sec248)\n",
    "        - [Il mio programma non funziona.](https://davidleoni.github.io/ThinkPythonItalian/html/thinkpython2021.html#sec249)\n",
    "        - [Ho una grande e complicata espressione che non fa quello che voglio.](https://davidleoni.github.io/ThinkPythonItalian/html/thinkpython2021.html#sec250)\n",
    "        - [Ho una funzione che non restituisce quello che voglio.](https://davidleoni.github.io/ThinkPythonItalian/html/thinkpython2021.html#sec251)\n",
    "        - [Sono proprio bloccato e mi serve aiuto.](https://davidleoni.github.io/ThinkPythonItalian/html/thinkpython2021.html#sec252)\n",
    "        - [No, ho davvero bisogno di aiuto.](https://davidleoni.github.io/ThinkPythonItalian/html/thinkpython2021.html#sec253)\n",
    "5. Guarda [Tabellona materiale](https://docs.google.com/spreadsheets/d/1w9WzEVnmPs3de4fHsywMdhcVwuNxy5_ol24AimddbC4/edit#gid=0), per riferimenti a materiale che può coprire l'argomento del problema\n",
    "6. fatti coraggio e fai una domanda su un forum pubblico, come Stack overflow o python-it.org - vedi [come porre domande](#Come-porre-domande).\n",
    "\n"
   ]
  },
  {
   "cell_type": "markdown",
   "metadata": {},
   "source": [
    "### Come porre domande\n",
    "\n",
    "<div class=\"alert alert-info\">\n",
    "\n",
    "**IMPORTANTE**\n",
    "\n",
    "Se vuoi fare domande per iscritto su chat/forum pubblici (per esempio quello di [python-it](http://www.python-it.org/forum)), PRIMA LEGGI ASSOLUTAMENTE sia il regolamento del forum / chat (vedi per es. sia [Regolamento pyhon-it](http://www.python-it.org/forum/index.php?topic=2592.0) che questo [esempio di post](http://www.python-it.org/forum/index.php?topic=2580))\n",
    "</div>\n",
    "\n",
    "In sostanza, ti si chiede sempre di esprimere chiaramente le circostanze del problema, mettendo un titolo esplicativo al post / mail e dimostrando di avere speso un po' di tempo (almeno 10 min) cercando una soluzione per conto tuo. Se hai seguito le regole di cui sopra, e per sfortuna trovi programmatori scorbutici che ti rispondono male, ignorali e lascia che se la prendano con la tastiera. Con i prof del corso SoftPython potete stare tranquilli, pur essendo programmatori sono molto pazienti :-)"
   ]
  },
  {
   "cell_type": "markdown",
   "metadata": {},
   "source": [
    "## Condivisione online\n",
    "\n",
    "\n",
    "Per eseguire e condividere notebook Jupyter online, si può usare [Google Colab](https://colab.research.google.com) che permette di editare in modo collaborativo fogli Jupyter e di salvarli sul Google Drive. \n",
    "\n",
    "* **NOTA 1**: potrebbe darsi che non riusciate ad accedere coi vostri account universitari (es. ` @studenti.unitn.it`). In tal caso, usate account personali `@gmail.com`\n",
    "* **NOTA 2**: l'aspetto 'collaborativo' del Colab è cambiato nel corso del tempo, **fate bene attenzione a cosa succede quando operate in due sullo stesso documento**. Una volta (2017)  le modifiche fatte da uno erano immediatamente viste dagli altri, ultimamente (2019) paiono visibili solo quando si salva - peggio, vanno a sovrascrivere eventuali modifiche fatti da altri.\n",
    "* **NOTA 3**: dato che è un servizio sperimentale di Google, non è detto che esista ancora fra 3 anni - in caso se verrà chiuso sarete sicuramente avvisati per tempo e comunque i file dovrebbero rimanere salvati sul Google Drive\n",
    "* **NOTA 4**: come per ogni servizio Jupyter online, quando è offerto gratuitamente non abusatene. Se cercate di processare un terabyte di dati al giorno senza pagare una sottoscrizione, rischiate che vi chiudano il servizio.\n"
   ]
  },
  {
   "cell_type": "markdown",
   "metadata": {},
   "source": [
    "## Installazione\n",
    "\n",
    "Se non hai già provveduto ad installare Python 3 e Jupyter, guarda [questa pagina a parte](installation.ipynb)\n"
   ]
  },
  {
   "cell_type": "markdown",
   "metadata": {},
   "source": [
    "## Cominciamo !\n",
    "\n",
    "* **Se hai già conoscenze di programmazione**: puoi guardare   [l'introduzione rapida a Python](quick-intro/quick-intro-sol.ipynb)\n",
    "* **Se non hai conoscenze di programmazione**: vai alle  [basi Python](basics/basics-sol.ipynb)"
   ]
  },
  {
   "cell_type": "code",
   "execution_count": null,
   "metadata": {},
   "outputs": [],
   "source": []
  }
 ],
 "metadata": {
  "celltoolbar": "Edit Metadata",
  "kernelspec": {
   "display_name": "Python 3",
   "language": "python",
   "name": "python3"
  },
  "language_info": {
   "codemirror_mode": {
    "name": "ipython",
    "version": 3
   },
   "file_extension": ".py",
   "mimetype": "text/x-python",
   "name": "python",
   "nbconvert_exporter": "python",
   "pygments_lexer": "ipython3",
   "version": "3.7.3"
  },
  "toc": {
   "base_numbering": 1,
   "nav_menu": {},
   "number_sections": false,
   "sideBar": true,
   "skip_h1_title": false,
   "title_cell": "Table of Contents",
   "title_sidebar": "Contents",
   "toc_cell": false,
   "toc_position": {},
   "toc_section_display": true,
   "toc_window_display": true
  }
 },
 "nbformat": 4,
 "nbformat_minor": 2
}
