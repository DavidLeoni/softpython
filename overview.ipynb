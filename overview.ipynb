{
 "cells": [
  {
   "cell_type": "markdown",
   "metadata": {},
   "source": [
    "\n",
    "# Come orientarsi\n",
    "\n",
    "\n",
    "Per cominciare spenderemo due parole sull'approccio e gli obiettivi del libro, e poi ci tufferemo nel codice: \n",
    "\n",
    "* Presentazione\n",
    "* Installazione\n",
    "* Guardiamo Python\n"
   ]
  },
  {
   "cell_type": "markdown",
   "metadata": {},
   "source": [
    "\n",
    "\n",
    "![che-faremo-corso-38871](_static/img/che-faremo-corso.png)\n"
   ]
  },
  {
   "cell_type": "markdown",
   "metadata": {},
   "source": [
    "## Capitoli\n",
    "\n",
    "Le guide trattano fondamenti di Python 3, analisi dati (intesa più come processamento dati grezzi che statistiche) e qualche applicazione (dashboard, database, ..)\n",
    "\n",
    "**Cosa _non_ trattano:**\n",
    "\n",
    "- teoria programmazione a oggetti\n",
    "- algoritmi, complessità computazionale\n",
    "- performance (niente terabyte di dati ...)\n",
    "- debugging avanzato (pdb)\n",
    "- il testing è solo accennato\n",
    "- machine learning\n",
    "- web development è solo accennato"
   ]
  },
  {
   "cell_type": "markdown",
   "metadata": {},
   "source": [
    "## Perchè Python?\n",
    "\n",
    "![python-logo-1823](_static/img/python-logo.png)\n",
    "\n",
    "**Semplice** a sufficienza per iniziare\n",
    "\n",
    "**Versatile**, molto usato per\n",
    "\n",
    "- calcolo scientifico\n",
    "- applicazioni web\n",
    "- scripting\n",
    "\n",
    "**diffuso** sia nell'industria che nella ricerca \n",
    "- Indice [Tiobe](https://www.tiobe.com/tiobe-index/)\n",
    "- [popolarità su Github](https://madnight.github.io/githut/#/pull_requests/2019/1)\n",
    "\n",
    "**Licenza** [open source & business friendly](https://www.python.it/doc/faq/#ci-sono-restrizioni-di-copyright-nell-uso-di-python)\n",
    "\n",
    "- tradotto: potete vendere prodotti commerciali basati su Python senza pagare royalties\n"
   ]
  },
  {
   "cell_type": "markdown",
   "metadata": {},
   "source": [
    "\n",
    "## Approccio e obiettivi\n",
    "\n",
    "**Se hai difficoltà con le basi di programmazione:**\n",
    "\n",
    "- **Difficoltà esercizi**: ✪ , ✪✪\n",
    "- Leggi [SoftPython - Parte A - Fondamenti](https://it.softpython.org/index.html#A---Fondamenti)\n",
    "\n",
    "\n",
    "**Se già sai programmare bene:**\n",
    "\n",
    "- **Difficoltà esercizi**: ✪✪✪, ✪✪✪✪\n",
    "- Leggi [Introduzione veloce a Python](https://it.softpython.org/quick-intro/quick-intro-sol.html) e poi vai direttamente alla Parte B - Analisi dati\n",
    "\n",
    "**Ulteriori guide:** Alla pagina [Riferimenti](references.ipynb) trovi altro materiale sia introduttivo che più avanzato."
   ]
  },
  {
   "cell_type": "markdown",
   "metadata": {},
   "source": [
    "\n",
    "\n",
    "## Non funziona, che faccio ? \n",
    "\n",
    "Sicuramente mentre programmi incontrerai dei problemi, e ti capiterà di fissare misteriosi messaggi di errore sullo schermo . Lo scopo di questo corso non è dare una serie di ricette da imparare a memoria e che funzionano sempre, quanto piuttosto di mettere in grado di muovere i primi passi nel mondo Python con un minimo di disinvoltura. Quindi, quando qualcosa va storto, non perderti d'animo e prova a seguire la seguente lista di passi che potrebbero aiutarti. Cerca di seguire la lista nell'ordine proposto:\n",
    "\n",
    "1. se in classe, chiedi al prof (se non in classe, vedi ultimi due punti) \n",
    "2. se in classe, chiedi al vicino che ne sa di più\n",
    "3. cerca messaggio di errore su Google\n",
    "    - rimuovi nomi o parti troppo specifici al tuo programma, come numeri di linea, nomi di file, nomi di variabili\n",
    "    - se sai l’inglese, [Stack overflow](https://stackoverflow.com) è il tuo migliore amico \n",
    "    - se non sai l’inglese: cerca nel [Forum italiano di python-it.org](http://www.python-it.org/forum) \n",
    "4. Guarda [Appendice A - Debug del libro Pensare in Python](https://davidleoni.github.io/ThinkPythonItalian/html/thinkpython2021.html)\n",
    "    - [Syntax error](https://davidleoni.github.io/ThinkPythonItalian/html/thinkpython2021.html#sec238)\n",
    "        - [Continuo a fare modifiche ma non cambia nulla.](https://davidleoni.github.io/ThinkPythonItalian/html/thinkpython2021.html#sec239)\n",
    "    - [Errori di runtime](https://davidleoni.github.io/ThinkPythonItalian/html/thinkpython2021.html#sec240)\n",
    "        - [Il programma non fa assolutamente nulla](https://davidleoni.github.io/ThinkPythonItalian/html/thinkpython2021.html#sec241)\n",
    "        - [Il programma si blocca](https://davidleoni.github.io/ThinkPythonItalian/html/thinkpython2021.html#sec242)\n",
    "        - [Ciclo infinito](https://davidleoni.github.io/ThinkPythonItalian/html/thinkpython2021.html#sec243)\n",
    "        - [Ricorsione infinita](https://davidleoni.github.io/ThinkPythonItalian/html/thinkpython2021.html#sec244)\n",
    "        - [Flusso di esecuzione](https://davidleoni.github.io/ThinkPythonItalian/html/thinkpython2021.html#sec245)\n",
    "        - [Quando eseguo il programma è sollevata un’eccezione.](https://davidleoni.github.io/ThinkPythonItalian/html/thinkpython2021.html#sec246)\n",
    "        - [Ho aggiunto talmente tante istruzioni di stampa che sono sommerso di output](https://davidleoni.github.io/ThinkPythonItalian/html/thinkpython2021.html#sec247)\n",
    "    - [Errori di semantica](https://davidleoni.github.io/ThinkPythonItalian/html/thinkpython2021.html#sec248)\n",
    "        - [Il mio programma non funziona.](https://davidleoni.github.io/ThinkPythonItalian/html/thinkpython2021.html#sec249)\n",
    "        - [Ho una grande e complicata espressione che non fa quello che voglio.](https://davidleoni.github.io/ThinkPythonItalian/html/thinkpython2021.html#sec250)\n",
    "        - [Ho una funzione che non restituisce quello che voglio.](https://davidleoni.github.io/ThinkPythonItalian/html/thinkpython2021.html#sec251)\n",
    "        - [Sono proprio bloccato e mi serve aiuto.](https://davidleoni.github.io/ThinkPythonItalian/html/thinkpython2021.html#sec252)\n",
    "        - [No, ho davvero bisogno di aiuto.](https://davidleoni.github.io/ThinkPythonItalian/html/thinkpython2021.html#sec253)\n",
    "5. Guarda la pagina dei [Riferimenti](references.ipynb), per spunti che possono coprire l'argomento del problema\n",
    "6. fatti coraggio e fai una domanda su un forum pubblico, come Stack overflow o python-it.org - vedi [come porre domande](#Come-porre-domande).\n",
    "\n"
   ]
  },
  {
   "cell_type": "markdown",
   "metadata": {},
   "source": [
    "### Come porre domande\n",
    "\n",
    "<div class=\"alert alert-info\">\n",
    "\n",
    "**IMPORTANTE**\n",
    "\n",
    "Se vuoi fare domande per iscritto su chat/forum pubblici (per esempio quello di [python-it](http://www.python-it.org/forum)), PRIMA LEGGI ASSOLUTAMENTE sia il regolamento del forum / chat (vedi per es. sia [Regolamento pyhon-it](http://www.python-it.org/forum/index.php?topic=2592.0) che questo [esempio di post](http://www.python-it.org/forum/index.php?topic=2580))\n",
    "</div>\n",
    "\n",
    "In sostanza, ti si chiede sempre di esprimere chiaramente le circostanze del problema, mettendo un titolo esplicativo al post / mail e dimostrando di avere speso un po' di tempo (almeno 10 min) cercando una soluzione per conto tuo. Se hai seguito le regole di cui sopra, e per sfortuna trovi programmatori scorbutici che ti rispondono male, ignorali e lascia che se la prendano con la tastiera. Con i prof del corso SoftPython potete stare tranquilli, pur essendo programmatori sono molto pazienti :-)"
   ]
  },
  {
   "cell_type": "markdown",
   "metadata": {},
   "source": [
    "## Installazione e strumenti\n",
    "\n",
    "- Se non hai già provveduto ad installare Python 3 e Jupyter, guarda [Installazione](installation.ipynb)"
   ]
  },
  {
   "cell_type": "markdown",
   "metadata": {},
   "source": [
    "## Cominciamo !\n",
    "\n",
    "* **Se hai già conoscenze di programmazione**: puoi guardare   [l'introduzione rapida a Python](quick-intro/quick-intro-sol.ipynb)\n",
    "* **Se non hai conoscenze di programmazione**: vai a [Strumenti e script](https://it.softpython.org/tools/tools-sol.html)"
   ]
  }
 ],
 "metadata": {
  "celltoolbar": "Edit Metadata",
  "kernelspec": {
   "display_name": "Python 3",
   "language": "python",
   "name": "python3"
  },
  "language_info": {
   "codemirror_mode": {
    "name": "ipython",
    "version": 3
   },
   "file_extension": ".py",
   "mimetype": "text/x-python",
   "name": "python",
   "nbconvert_exporter": "python",
   "pygments_lexer": "ipython3",
   "version": "3.5.2"
  },
  "toc": {
   "base_numbering": 1,
   "nav_menu": {},
   "number_sections": false,
   "sideBar": true,
   "skip_h1_title": false,
   "title_cell": "Table of Contents",
   "title_sidebar": "Contents",
   "toc_cell": false,
   "toc_position": {},
   "toc_section_display": true,
   "toc_window_display": true
  }
 },
 "nbformat": 4,
 "nbformat_minor": 2
}
