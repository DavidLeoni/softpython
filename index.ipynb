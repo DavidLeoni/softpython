{
 "cells": [
  {
   "cell_type": "raw",
   "metadata": {
    "raw_mimetype": "text/restructuredtext"
   },
   "source": [
    ".. meta::\n",
    "\n",
    "   :description: Guida introduttiva gratuita alla pulizia e analisi dati con Python 3"
   ]
  },
  {
   "cell_type": "markdown",
   "metadata": {
    "collapsed": true
   },
   "source": [
    "# SoftPython\n"
   ]
  },
  {
   "cell_type": "raw",
   "metadata": {
    "raw_mimetype": "text/latex"
   },
   "source": [
    "% Latex fixes, DO NOT DELETE THIS !!!!\n",
    "\n",
    "% need to demote chapters to sections because sphinx promotes them *just in the home* :-/\n",
    "% https://tex.stackexchange.com/questions/161259/macro-for-promoting-sections-to-chapters\n",
    "% for alternatives, see https://texfaq.org/FAQ-patch\n",
    "\n",
    "\\let\\truechapter\\chapter\n",
    "\\let\\truesection\\section\n",
    "\\let\\truesubsection\\subsection\n",
    "\\let\\truesubsubsection\\subsubsection\n",
    "\\let\\truethesection\\thesection\n",
    "\n",
    "\\let\\chapter\\truesection\n",
    "\\let\\section\\truesubsection\n",
    "% suspend number printing , according to   https://tex.stackexchange.com/a/80114\n",
    "\\renewcommand\\thesection{}\n",
    "\n",
    "\\truesection{Prefazione}"
   ]
  },
  {
   "cell_type": "markdown",
   "metadata": {},
   "source": [
    "**Guida introduttiva e gratuita alla pulizia e analisi dati con Python 3.** \n",
    "\n",
    "**Ricca di esercizi svolti e adatta sia a principianti che studenti con conoscenze tecnico/scientifiche.**"
   ]
  },
  {
   "cell_type": "markdown",
   "metadata": {},
   "source": [
    "\n",
    "Al giorno d’oggi, sempre più decisioni vengono prese in base a dati fattuali e oggettivi. Tutte le discipline, dall’ingegneria alle scienze sociali, necessitano oramai capacità di elaborare dati ed estrarre informazioni utili dall’analisi di fonti eterogenee. Questo sito di esercizi pratici fornisce quindi un’introduzione al processamento dati usando [Python](http://www.python.it/), un linguaggio di programmazione popolare sia nell’industria che nell'ambito della ricerca. "
   ]
  },
  {
   "cell_type": "raw",
   "metadata": {
    "raw_mimetype": "text/html"
   },
   "source": [
    "DOWNLOAD: &nbsp;&nbsp;<a href=\"https://it.softpython.org/softpython-it.pdf\" target=\"_blank\">PDF</a>\n",
    "&nbsp;&nbsp;<a href=\"http://it.softpython.org/softpython-it.epub\" target=\"_blank\"> EPUB </a>\n",
    "&nbsp;&nbsp;<a href=\"https://github.com/DavidLeoni/softpython-it/archive/it.softpython.org.zip\" target=\"_blank\"> HTML </a>\n",
    "&nbsp;&nbsp; <a href=\"https://github.com/DavidLeoni/softpython-it\" target=\"_blank\"> Github </a>\n",
    "<br/>\n",
    "<br/>\n"
   ]
  },
  {
   "cell_type": "markdown",
   "metadata": {},
   "source": [
    "## News\n",
    "\n",
    "**6 agosto 2020**\n",
    "\n",
    "* **Creato pagina** [Strumenti e script](tools/tools-sol.ipynb) **estraendola da basics**\n",
    "* **aggiunto paragrafo sui NaN in foglio** [numpy](matrices-numpy/matrices-numpy-sol.ipynb)\n",
    "\n",
    "27 Luglio 2020 - Restyling!\n",
    "\n",
    "13 Luglio 2020 - Spostato sito su: [it.softpython.org](https://it.softpython.org)\n",
    "\n",
    "4 Giugno 2020:\n",
    "\n",
    "* Aggiornato e diviso controllo di flusso in [Condizionali if else](control-flow/flow1-if-sol.ipynb), [Cicli for](control-flow/flow2-for-sol.ipynb), [Cicli while](control-flow/flow3-while-sol.ipynb), \n",
    "* Aggiunto [Sequenze e comprehensions](sequences/sequences-sol.ipynb)\n",
    "\n",
    "11 Maggio 2020: Aggiornato dizionari e diviso tutorial in [dizionari 1](dictionaries/dictionaries1-sol.ipynb), [dizionari 2](dictionaries/dictionaries2-sol.ipynb), [dizionari 3](dictionaries/dictionaries3-sol.ipynb), [dizionari 4](dictionaries/dictionaries4-sol.ipynb), [dizionari 5](dictionaries/dictionaries5-sol.ipynb)\n",
    "\n",
    "19 Aprile 2020: Aggiornato [tutorial tuple](tuples/tuples-sol.ipynb), aggiunto [tutorial insiemi](sets/sets-sol.ipynb)\n",
    "\n",
    "13 Aprile 2020: Aggiornato liste e diviso tutorial in [liste 1](lists/lists1-sol.ipynb),  [liste 2](lists/lists2-sol.ipynb),   [liste 3](lists/lists3-sol.ipynb) e  [liste 4](lists/lists4-sol.ipynb)\n",
    "\n",
    "\n",
    "13 Marzo 2020: Diviso tutorial stringhe in [stringhe 1](strings/strings1-sol.ipynb),  [stringhe 2](strings/strings2-sol.ipynb),   [stringhe 3](strings/strings3-sol.ipynb) e  [stringhe 4](strings/strings4-sol.ipynb)\n",
    "\n",
    "11 Marzo 2020: Diviso sito in sezioni\n",
    "   \n",
    "- aggiornato [tutorial basi](basics/basics-sol.ipynb)\n",
    "- aggiornato [tutorial stringhe](strings/strings1-sol.ipynb)\n",
    "\n",
    "16 Gennaio 2020: semplificato la struttura delle cartelle negli esercizi\n",
    "\n",
    "- rinominati i file:\n",
    "    - da `FILE_exercise.ipynb` a `FILE.ipynb`\n",
    "    - da `FILE_solution.ipynb` a `FILE_sol.ipynb`\n",
    "- rimossa la cartella `exercises` dagli zip    \n",
    "\n",
    "Vecchie news: [link](changelog.ipynb)"
   ]
  },
  {
   "cell_type": "raw",
   "metadata": {
    "raw_mimetype": "text/latex"
   },
   "source": [
    "% Latex: fix for book structure\n",
    "\n",
    "\\let\\thesection\\truethesection\n",
    "\\truechapter{Panoramica}"
   ]
  },
  {
   "cell_type": "markdown",
   "metadata": {},
   "source": [
    "## A chi è rivolto \n",
    "\n",
    "Il materiale in questo sito è rivolto sia a principianti assoluti che a studenti con background più tecnico che desiderino acquisire conoscenze pratiche riguardo l’estrazione, la pulizia, l’analisi e visualizzazione di dati (tra i framework Python usati vi saranno Pandas, Numpy e l’editor Jupyter). Per superare eventuali difficoltà e garantire risultati didattici concreti, le guide presentate sono passo-passo."
   ]
  },
  {
   "cell_type": "markdown",
   "metadata": {},
   "source": [
    "## Requisiti\n",
    "\n",
    "Qualche conoscenza base di programmazione, in un qualsiasi linguaggio è utile ma non strettamente necessaria. Tutti i materiali proposti sono in lingua italiana."
   ]
  },
  {
   "cell_type": "markdown",
   "metadata": {},
   "source": [
    "## Contenuti\n",
    "\n",
    "[Come orientarsi](overview.ipynb)\n",
    "\n",
    "* Approccio e obbiettivi\n",
    "* Materiali usati\n",
    "    \n",
    "### A - Fondamenti\n",
    "\n",
    "1.  [Installazione](installation.ipynb)\n",
    "1.  [Introduzione veloce a Python](quick-intro/quick-intro-sol.ipynb) (per chi ha già conoscenze di programmazione)\n",
    "1.  [Strumenti e script](tools/tools-sol.ipynb)\n",
    "1.  [Basi](basics/basics-sol.ipynb) (per principianti assoluti)\n",
    "1.  <p id=\"strings\">Stringhe</p>\n",
    "\n",
    "    1. [introduzione](strings/strings1-sol.ipynb)\n",
    "    2. [operatori](strings/strings2-sol.ipynb)\n",
    "    3. [metodi](strings/strings3-sol.ipynb)\n",
    "    4. [altri esercizi](strings/strings4-sol.ipynb)\n",
    "1.  <p id=\"lists\">Liste</p>\n",
    "\n",
    "    1. [introduzione](lists/lists1-sol.ipynb)\n",
    "    2. [operatori](lists/lists2-sol.ipynb)\n",
    "    3. [metodi](lists/lists3-sol.ipynb)\n",
    "    4. [iterazione e funzioni](lists/lists4-sol.ipynb)\n",
    "1.  [Tuple](tuples/tuples-sol.ipynb)\n",
    "1.  [Insiemi](sets/sets-sol.ipynb)\n",
    "1.  <p id=\"dictionaries\">Dizionari</p>\n",
    "\n",
    "    1. [introduzione](dictionaries/dictionaries1-sol.ipynb)\n",
    "    2. [operatori](dictionaries/dictionaries2-sol.ipynb)\n",
    "    3. [metodi](dictionaries/dictionaries3-sol.ipynb)\n",
    "    4. [iterazione e funzioni](dictionaries/dictionaries4-sol.ipynb)\n",
    "    5. [strutture composte](dictionaries/dictionaries5-sol.ipynb)\n",
    "1.  <p id=\"control-flow\">Controllo di flusso</p>\n",
    "\n",
    "    1. [Condizionali if](control-flow/flow1-if-sol.ipynb)\n",
    "    2. [Cicli for](control-flow/flow2-for-sol.ipynb)   \n",
    "    3. [Cicli while](control-flow/flow3-while-sol.ipynb)\n",
    "1. [Sequenze e comprehensions](sequences/sequences-sol.ipynb)\n",
    "1. [Funzioni](functions/functions-sol.ipynb)\n",
    "1. [Gestione errori e testing](errors-and-testing/errors-and-testing-sol.ipynb)\n",
    "1. [Matrici - liste di liste](matrices-lists/matrices-lists-sol.ipynb)    \n",
    "1. [Matrici - Numpy](matrices-numpy/matrices-numpy-sol.ipynb)    "
   ]
  },
  {
   "cell_type": "markdown",
   "metadata": {},
   "source": [
    "### B - Analisi dati\n",
    "\n",
    "1. [Formati dei dati](formats/formats-sol.ipynb)\n",
    "    * Presentazione di formati dati comuni (CSV, JSON, XML, file binari)\n",
    "    * Convertire dati, trattare errori e dati mal-formattati \n",
    "    * es. impianti funiviari Trentino\n",
    "2. [Visualizzazione dati](visualization/visualization-sol.ipynb)\n",
    "    * Plotting di grafici in Matplotlib.\n",
    "    * Esporre dati online con DataWrapper, RawGraphs, UMap\n",
    "3. [Ricerca](search/regex-sol.ipynb)\n",
    "    * Ricerca in dati testuali  usando espressioni regolari\n",
    "    * es. fermate autobus trentino\n",
    "4. [Integrazione dati](integration/integration-sol.ipynb)\n",
    "    * Esempio di integrazione dati: scaricamento di un dataset opendata (agritur del Trentino)\n",
    "    * pulizia e posizionamento dei punti di interesse su OpenStreetMap usando un servizio di georeferenziazione\n",
    "5. [Estrazione Dati](extraction/extraction-sol.ipynb)\n",
    "    * Estrazione di testo rilevante da una pagina HTML  usando BeautifulSoup\n",
    "    * es. eventi del Trentino\n",
    "6. [Pandas](pandas/pandas-sol.ipynb)\n",
    "    * Analisi di un dataset contenente dati numerici con la libreria Pandas (es. statistiche sensori stazione spaziale)\n",
    "    * Calcolo di correlazioni tra fattori (es. meteo trentino) \n",
    "7. [Information retrieval](information-retrieval/information-retrieval-sol.ipynb)\n",
    "    * Ricerca per rilevanza\n",
    "    * Ricerca per similarità"
   ]
  },
  {
   "cell_type": "markdown",
   "metadata": {},
   "source": [
    "### C - Applicazioni \n",
    " \n",
    "1. [Interfacce utente](gui/gui-sol.ipynb)\n",
    "    * Creazione di interfacce per analisi interattiva di dati con Jupyter Widgets\n",
    "    * Discussione di alternative (QT, wxWidget)\n",
    "2. [Integrazione con database](database/database-sol.ipynb)\n",
    "    * Estrazione di dati da un database SQLite con Pandas\n",
    "    * Esecuzione di semplici ricerche SQL   \n",
    "3. [Web development](web/web-sol.ipynb)\n",
    "    * Cenni sviluppo di un semplice server web"
   ]
  },
  {
   "cell_type": "markdown",
   "metadata": {},
   "source": [
    "### D - Progetti\n",
    "\n",
    "1. [Realizzare progetti](project-howto.ipynb)\n",
    "    * ambienti virtuali\n",
    "    * installazione librerie\n",
    "2. [Scrittura testo in Markdown / Jupyter](project/markdown.ipynb)\n",
    "3. [Idee per progetti](project-ideas.ipynb)\n",
    "4. [Challenges](challenges.ipynb)"
   ]
  },
  {
   "cell_type": "markdown",
   "metadata": {},
   "source": [
    "## Autori\n",
    " \n",
    "**David Leoni** (autore principale): Software engineer specializzato in data integration e web semantico, ha realizzato applicazioni in ambito open data e medico in Italia e all'estero. Dal 2019 è presidente dell'associazione CoderDolomiti, con cui insieme a Marco Caresia gestisce il movimento di volontariato CoderDojo Trento dove da anni insegnano programmazione creativa ai ragazzi. <br/>\n",
    "Email: [david.leoni@unitn.it](mailto:david.leoni@unitn.it) &ensp; Sito: [davidleoni.it](http://davidleoni.it)\n",
    "\n",
    "**Marco Caresia** (assistente Edizione Autunno 2017 @DISI Università di Trento): E' stato docente di informatica presso la Scuola Professionale Einaudi di Bolzano. E' presidente della delegazione Trentino Alto Adige Südtirol dell’Associazione Italiana Formatori e vicepresidente dell'associazione CoderDolomiti.\n",
    "\n",
    "**Alessio Zamboni** (assistente Edizione Marzo 2018 @Sociologia Università di Trento): Data scientist e software engineer con esperienza in NLP, GIS e gestione del knowledge. Ha collaborato in numerosi progetti di ricerca, collezionando esperienze in Europa e in Asia. Sostiene con convinzione che _\"la programmazione è una forma d'arte\"_ \n",
    "\n",
    "**Massimiliano Luca** (docente Edizione Estate 2019 @Sociologia Università di Trento): Adora imparare nuove tecnologie ogni giorno. Particolarmente interessato in knowledge representation, data integration, data modeling e computational social science. Crede fermamente che sia vitale introdurre i giovani alla computer science, a tal fine è mentor al Coder Dojo DISI Master.\n"
   ]
  },
  {
   "cell_type": "markdown",
   "metadata": {},
   "source": [
    "## Licenza\n",
    "\n",
    "Questo sito è stato realizzato con stanziamenti del [Dipartimento di Ingegneria e Scienze dell’Informazione (DISI)](https://www.disi.unitn.it) dell'Università di Trento\n",
    "\n",
    "![unitn-843724](_static/img/third-parties/disi-unitn-it-logo.jpeg)\n",
    "\n",
    "\n",
    "![cc-by-7172829](_static/img/cc-by.png)\n",
    "\n",
    "Tutto il materiale in questo sito è distribuito con licenza CC-BY 4.0 Internazionale [https://creativecommons.org/licenses/by/4.0/deed.it](https://creativecommons.org/licenses/by/4.0/deed.it) \n",
    "\n",
    "Si può quindi liberamente ridistribuire e modificare il contenuto, basta citare l'Università di Trento / DISI e [gli autori](index.ipynb#Autori) \n",
    "\n",
    "Note tecniche: tutte le pagine del sito sono fogli Jupyter facilmente modificabili - sono stati convertiti in pagine web tramite [NBSphinx](https://nbsphinx.readthedocs.io) usando il template [Jupman](https://github.com/DavidLeoni/jupman). I sorgenti del testo si trovano su Github all'indirizzo [https://github.com/DavidLeoni/softpython-it](https://github.com/DavidLeoni/softpython-it)\n",
    "\n"
   ]
  },
  {
   "cell_type": "markdown",
   "metadata": {},
   "source": [
    "\n",
    "## Ringraziamenti\n",
    "\n",
    "Ringraziamo in particolare il professor Alberto Montresor del Dipartimento di Informatica dell'Università di Trento per aver consentito la realizzazione dei corsi dai quali nasce questo materiale, e il progetto Trentino Open Data ([dati.trentino.it](https://dati.trentino.it)) per i numerosi dataset forniti. \n",
    "\n",
    "![dati-trentino-9327234823487](_static/img/third-parties/dati-trentino-small.png)\n",
    "\n",
    "Gli altri numerosi enti ed aziende che nel tempo hanno contribuito materiale ed idee sono citati [in questa pagina](thanks.ipynb)"
   ]
  },
  {
   "cell_type": "raw",
   "metadata": {
    "raw_mimetype": "text/latex"
   },
   "source": [
    "% Latex: Restores all the previous substitutions \n",
    "% DO NOT DELETE THIS !!!!\n",
    " \n",
    "\\let\\chapter\\truechapter\n",
    "\\let\\section\\truesection\n",
    "\\let\\subsection\\truesubsection\n",
    "\\let\\subsubsection\\truesubsubsection"
   ]
  }
 ],
 "metadata": {
  "celltoolbar": "Raw Cell Format",
  "kernelspec": {
   "display_name": "Python 3",
   "language": "python",
   "name": "python3"
  },
  "language_info": {
   "codemirror_mode": {
    "name": "ipython",
    "version": 3
   },
   "file_extension": ".py",
   "mimetype": "text/x-python",
   "name": "python",
   "nbconvert_exporter": "python",
   "pygments_lexer": "ipython3",
   "version": "3.5.2"
  },
  "toc": {
   "base_numbering": 1,
   "nav_menu": {},
   "number_sections": false,
   "sideBar": true,
   "skip_h1_title": false,
   "title_cell": "Table of Contents",
   "title_sidebar": "Contents",
   "toc_cell": false,
   "toc_position": {},
   "toc_section_display": true,
   "toc_window_display": true
  }
 },
 "nbformat": 4,
 "nbformat_minor": 2
}
