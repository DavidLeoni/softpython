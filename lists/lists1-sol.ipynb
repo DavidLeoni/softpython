{
 "cells": [
  {
   "cell_type": "code",
   "execution_count": 1,
   "metadata": {
    "nbsphinx": "hidden"
   },
   "outputs": [],
   "source": [
    "# Ricordati di eseguire questa cella con Shift+Invio\n",
    "\n",
    "import sys\n",
    "sys.path.append('../')\n",
    "import jupman"
   ]
  },
  {
   "cell_type": "markdown",
   "metadata": {},
   "source": [
    "\n",
    "# Liste 1\n",
    "\n",
    "<div class=\"alert alert-warning\">\n",
    "\n",
    "**ATTENZIONE: TUTORIAL IN PROGRESS!!** \n",
    "\n",
    "**SARA' AGGIORNATO A BREVE**\n",
    "\n",
    "</div>\n",
    "\n",
    "\n",
    "## [Scarica zip esercizi](../_static/generated/lists.zip)\n",
    "\n",
    "[Naviga file online](https://github.com/DavidLeoni/softpython/tree/master/lists)\n",
    "\n",
    "\n",
    "Una lista in Python è una sequenza di elementi eterogenei **mutabile**, in cui possiamo mettere gli oggetti che vogliamo. L'ordine in cui li mettiamo viene preservato.\n"
   ]
  },
  {
   "cell_type": "markdown",
   "metadata": {},
   "source": [
    "**Riferimenti**\n",
    "\n",
    "- [Pensare in Python, Capitolo 10, Liste](https://davidleoni.github.io/ThinkPythonItalian/html/thinkpython2011.html) Esercizi 10.1, 10.2, 10.3, 10.4, 10.5, 10.6, 10.7\n",
    "- [Nicola Cassetta, Lezione 11, Liste](http://ncassetta.altervista.org/Tutorial_Python/Lezione_11.html) In particolare esercizio 11.1 e 11.2\n",
    "-  Capitolo 10 Pensare in Python\n",
    "---  Es 10.1, 10.2, 10.3, 10.4, 10.5, 10.6, 10.7\n",
    "- Lezione 11 Nicola Cassetta\n",
    "---  In particolare Esercizio 11.1 e 11.2\n",
    "- [Esercizi Zoppetti 03 Tipi di base - Liste](http://www.ifac.cnr.it/~zoppetti/corsopython/)  fino a find_indeces incluso\n",
    "\n"
   ]
  },
  {
   "cell_type": "markdown",
   "metadata": {},
   "source": [
    "## Che fare\n",
    "\n",
    "- scompatta lo zip in una cartella, dovresti ottenere qualcosa del genere: \n",
    "\n",
    "```\n",
    "\n",
    "lists\n",
    "    lists1.ipynb\n",
    "    lists1-sol.ipynb         \n",
    "    lists2.ipynb\n",
    "    lists2-sol.ipynb         \n",
    "    jupman.py         \n",
    "```\n",
    "\n",
    "<div class=\"alert alert-warning\">\n",
    "\n",
    "**ATTENZIONE**: Per essere visualizzato correttamente, il file del notebook DEVE essere nella cartella szippata.\n",
    "</div>\n",
    "\n",
    "- apri il Jupyter Notebook da quella cartella. Due cose dovrebbero aprirsi, prima una console e poi un browser. Il browser dovrebbe mostrare una lista di file: naviga la lista e apri il notebook `lists1.ipynb`\n",
    "- Prosegui leggendo il file degli esercizi, ogni tanto al suo interno troverai delle scritte **DA FARE**, che ti chiederanno di scrivere dei comandi Python nelle celle successive. Gli esercizi sono graduati per difficoltà, da una stellina ✪ a quattro ✪✪✪✪\n",
    "\n",
    "\n",
    "Scorciatoie da tastiera:\n",
    "\n",
    "* Per eseguire il codice Python dentro una cella di Jupyter, premi `Control+Invio`\n",
    "* Per eseguire il codice Python dentro una cella di Jupyter E selezionare la cella seguente, premi `Shift+Invio`\n",
    "* Per eseguire il codice Python dentro una cella di Jupyter E creare una nuova cella subito dopo, premi `Alt+Invio`\n",
    "* Se per caso il Notebook sembra inchiodato, prova a selezionare `Kernel -> Restart`\n",
    "\n"
   ]
  },
  {
   "cell_type": "markdown",
   "metadata": {},
   "source": [
    "## Creare liste\n",
    "\n",
    "Possiamo creare una lista specificando tra parentesi quadre gli elementi che contiene, e separandoli da una virgola.\n",
    "\n",
    "Per esempio, in questa lista inseriamo i numeri `7`, `4` e `9`:"
   ]
  },
  {
   "cell_type": "code",
   "execution_count": 2,
   "metadata": {},
   "outputs": [
    {
     "data": {
      "text/plain": [
       "[7, 4, 9]"
      ]
     },
     "execution_count": 2,
     "metadata": {},
     "output_type": "execute_result"
    }
   ],
   "source": [
    "[7,4,9] "
   ]
  },
  {
   "cell_type": "markdown",
   "metadata": {},
   "source": [
    "Come tutti gli oggetti in Python, possiamo associarli ad una variabile, in questo caso ce ne inventiamo una chiamata `lista`:"
   ]
  },
  {
   "cell_type": "code",
   "execution_count": 3,
   "metadata": {},
   "outputs": [],
   "source": [
    "lista = [7,4,9] "
   ]
  },
  {
   "cell_type": "code",
   "execution_count": 4,
   "metadata": {},
   "outputs": [
    {
     "data": {
      "text/plain": [
       "[7, 4, 9]"
      ]
     },
     "execution_count": 4,
     "metadata": {},
     "output_type": "execute_result"
    }
   ],
   "source": [
    "lista"
   ]
  },
  {
   "cell_type": "markdown",
   "metadata": {},
   "source": [
    "Vediamo meglio che succede in memoria, e compariamo la rappresentazione delle stringhe con quella delle liste:"
   ]
  },
  {
   "cell_type": "code",
   "execution_count": 5,
   "metadata": {},
   "outputs": [
    {
     "data": {
      "text/html": [
       "\n",
       "        <iframe\n",
       "            width=\"900\"\n",
       "            height=\"300\"\n",
       "            src=\"https://pythontutor.com/iframe-embed.html#code=stringa+%3D+%22prova%22%0A%0Alista+%3D+%5B7%2C4%2C9%5D%0A%0A&cumulative=false&py=3&curInstr=0\"\n",
       "            frameborder=\"0\"\n",
       "            allowfullscreen\n",
       "        ></iframe>\n",
       "        "
      ],
      "text/plain": [
       "<IPython.lib.display.IFrame at 0x7f95382462b0>"
      ]
     },
     "execution_count": 5,
     "metadata": {},
     "output_type": "execute_result"
    }
   ],
   "source": [
    "stringa = \"prova\"\n",
    "\n",
    "lista = [7,4,9]\n",
    "\n",
    "jupman.pytut()"
   ]
  },
  {
   "cell_type": "markdown",
   "metadata": {},
   "source": [
    "Notiamo subito una differenza rilevante. La stringa è rimasta nella regione azzurra dove appaiono le associazioni tra variabili e valori, invece dalla variabile `lista` parte una freccia che punta ad una nuova regione gialla di memoria, che si crea non appena l'esecuzione raggiunge la riga che definisce la lista.\n",
    "\n",
    "In seguito approfondiremo meglio le conseguenze di ciò."
   ]
  },
  {
   "cell_type": "markdown",
   "metadata": {},
   "source": [
    "In una lista gli stessi elementi possono apparire più volte"
   ]
  },
  {
   "cell_type": "code",
   "execution_count": 6,
   "metadata": {},
   "outputs": [],
   "source": [
    "numeri = [1,2,3,1,3]\n"
   ]
  },
  {
   "cell_type": "code",
   "execution_count": 7,
   "metadata": {},
   "outputs": [
    {
     "data": {
      "text/plain": [
       "[1, 2, 3, 1, 3]"
      ]
     },
     "execution_count": 7,
     "metadata": {},
     "output_type": "execute_result"
    }
   ],
   "source": [
    "numeri"
   ]
  },
  {
   "cell_type": "markdown",
   "metadata": {},
   "source": [
    "In una lista possiamo mettere qualunque elemento, per es. le stringhe:"
   ]
  },
  {
   "cell_type": "code",
   "execution_count": 8,
   "metadata": {},
   "outputs": [],
   "source": [
    "frutti = [\"mela\", \"pera\", \"pesca\", \"fragola\", \"ciliegia\"] "
   ]
  },
  {
   "cell_type": "code",
   "execution_count": 9,
   "metadata": {},
   "outputs": [
    {
     "data": {
      "text/plain": [
       "['mela', 'pera', 'pesca', 'fragola', 'ciliegia']"
      ]
     },
     "execution_count": 9,
     "metadata": {},
     "output_type": "execute_result"
    }
   ],
   "source": [
    "frutti"
   ]
  },
  {
   "cell_type": "markdown",
   "metadata": {},
   "source": [
    "Possiamo anche mischiare i tipi di oggetti contenuti in una lista, per esempio possiamo avere interi e stringhe:"
   ]
  },
  {
   "cell_type": "code",
   "execution_count": 10,
   "metadata": {},
   "outputs": [],
   "source": [
    "misto = [\"tavolo\", 4 ,\"sedia\", 8, 5, 1, \"sedia\"]"
   ]
  },
  {
   "cell_type": "markdown",
   "metadata": {},
   "source": [
    "In Python Tutor apparirà così:"
   ]
  },
  {
   "cell_type": "code",
   "execution_count": 11,
   "metadata": {},
   "outputs": [
    {
     "data": {
      "text/html": [
       "\n",
       "        <iframe\n",
       "            width=\"900\"\n",
       "            height=\"250\"\n",
       "            src=\"https://pythontutor.com/iframe-embed.html#code=misto+%3D+%5B%22tavolo%22%2C+5+%2C+4%2C+%22sedia%22%2C+8%2C+%22sedia%22%5D%0A%0A&cumulative=false&py=3&curInstr=0\"\n",
       "            frameborder=\"0\"\n",
       "            allowfullscreen\n",
       "        ></iframe>\n",
       "        "
      ],
      "text/plain": [
       "<IPython.lib.display.IFrame at 0x7f95380f3710>"
      ]
     },
     "execution_count": 11,
     "metadata": {},
     "output_type": "execute_result"
    }
   ],
   "source": [
    "misto = [\"tavolo\", 5 , 4, \"sedia\", 8, \"sedia\"]\n",
    "\n",
    "jupman.pytut()"
   ]
  },
  {
   "cell_type": "markdown",
   "metadata": {},
   "source": [
    "Per comodità possiamo anche scrivere la lista su più righe (gli spazi non contano, ricordati solo di terminare le righe con delle `,`)"
   ]
  },
  {
   "cell_type": "code",
   "execution_count": 12,
   "metadata": {},
   "outputs": [],
   "source": [
    "misto = [\"tavolo\",\n",
    "         5 , \n",
    "         4,\n",
    "         \"sedia\",\n",
    "         8,\n",
    "         \"sedia\"]"
   ]
  },
  {
   "cell_type": "markdown",
   "metadata": {},
   "source": [
    "**DA FARE**: prova a scrivere la lista qua sopra SENZA mettere una virgola dopo il 5, che errore appare?"
   ]
  },
  {
   "cell_type": "code",
   "execution_count": 13,
   "metadata": {},
   "outputs": [],
   "source": [
    "# scrivi qui\n",
    "\n"
   ]
  },
  {
   "cell_type": "markdown",
   "metadata": {},
   "source": [
    "Una lista può anche contenere altre liste: "
   ]
  },
  {
   "cell_type": "code",
   "execution_count": 14,
   "metadata": {},
   "outputs": [],
   "source": [
    "tabella = [  ['a','b','c'],  ['d','e','f']  ]"
   ]
  },
  {
   "cell_type": "markdown",
   "metadata": {},
   "source": [
    "Tipicamente, quando abbiamo strutture come questa, per chiarezza conviene disporle su più righe: "
   ]
  },
  {
   "cell_type": "code",
   "execution_count": 15,
   "metadata": {},
   "outputs": [],
   "source": [
    "tabella = [                 # inizio listona esterna\n",
    "            ['a','b','c'],    # lista interna 1\n",
    "            ['d','e','f']     # lista interna 2\n",
    "          ]                 # fine listona esterna"
   ]
  },
  {
   "cell_type": "code",
   "execution_count": 16,
   "metadata": {},
   "outputs": [
    {
     "data": {
      "text/plain": [
       "[['a', 'b', 'c'], ['d', 'e', 'f']]"
      ]
     },
     "execution_count": 16,
     "metadata": {},
     "output_type": "execute_result"
    }
   ],
   "source": [
    "tabella"
   ]
  },
  {
   "cell_type": "markdown",
   "metadata": {},
   "source": [
    "Vediamo come viene mostrata in Python Tutor: "
   ]
  },
  {
   "cell_type": "code",
   "execution_count": 17,
   "metadata": {},
   "outputs": [
    {
     "data": {
      "text/html": [
       "\n",
       "        <iframe\n",
       "            width=\"900\"\n",
       "            height=\"325\"\n",
       "            src=\"https://pythontutor.com/iframe-embed.html#code=tabella+%3D+%5B++%0A++++++++++++%5B%27a%27%2C%27b%27%2C%27c%27%5D%2C++%0A++++++++++++%5B%27d%27%2C%27e%27%2C%27f%27%5D++%0A++++++++++%5D%0A%0A&cumulative=false&py=3&curInstr=0\"\n",
       "            frameborder=\"0\"\n",
       "            allowfullscreen\n",
       "        ></iframe>\n",
       "        "
      ],
      "text/plain": [
       "<IPython.lib.display.IFrame at 0x7f95381047b8>"
      ]
     },
     "execution_count": 17,
     "metadata": {},
     "output_type": "execute_result"
    }
   ],
   "source": [
    "tabella = [  \n",
    "            ['a','b','c'],  \n",
    "            ['d','e','f']  \n",
    "          ]\n",
    "\n",
    "jupman.pytut()"
   ]
  },
  {
   "cell_type": "markdown",
   "metadata": {},
   "source": [
    "Come detto in precedenza, in una lista possiamo mettere gli elementi che vogliamo, quindi possiamo mischiare  liste di dimensioni diverse, stringhe, numeri, etc"
   ]
  },
  {
   "cell_type": "code",
   "execution_count": 18,
   "metadata": {},
   "outputs": [],
   "source": [
    "ditutto = [ \n",
    "               ['ciao',3,'mondo'],            \n",
    "               'una stringa',\n",
    "               [9,5,6,7,3,4],\n",
    "               8,\n",
    "         ]"
   ]
  },
  {
   "cell_type": "markdown",
   "metadata": {},
   "source": [
    "### Lista vuota\n",
    "\n",
    "Ci sono due modi per creare una lista vuota.\n",
    "\n",
    "1) con parentesi quadre:"
   ]
  },
  {
   "cell_type": "code",
   "execution_count": 19,
   "metadata": {},
   "outputs": [],
   "source": [
    "lista_vuota = []"
   ]
  },
  {
   "cell_type": "code",
   "execution_count": 20,
   "metadata": {},
   "outputs": [
    {
     "data": {
      "text/plain": [
       "[]"
      ]
     },
     "execution_count": 20,
     "metadata": {},
     "output_type": "execute_result"
    }
   ],
   "source": [
    "lista_vuota"
   ]
  },
  {
   "cell_type": "markdown",
   "metadata": {},
   "source": [
    "2) Oppure con `list()`:"
   ]
  },
  {
   "cell_type": "code",
   "execution_count": 21,
   "metadata": {},
   "outputs": [],
   "source": [
    "altra_lista_vuota = list()"
   ]
  },
  {
   "cell_type": "code",
   "execution_count": 22,
   "metadata": {},
   "outputs": [
    {
     "data": {
      "text/plain": [
       "[]"
      ]
     },
     "execution_count": 22,
     "metadata": {},
     "output_type": "execute_result"
    }
   ],
   "source": [
    "altra_lista_vuota"
   ]
  },
  {
   "cell_type": "markdown",
   "metadata": {},
   "source": [
    "<div class=\"div alert alert-warning\">\n",
    "\n",
    "**ATTENZIONE**: Quando crei una lista vuota (indipendentemente dalla notazione usata), in memoria viene allocata una NUOVA regione di memoria per accogliere la lista\n",
    "\n",
    "</div>\n",
    "\n",
    "Vediamo meglio cosa vuol dire con Python Tutor: "
   ]
  },
  {
   "cell_type": "code",
   "execution_count": 23,
   "metadata": {},
   "outputs": [
    {
     "data": {
      "text/html": [
       "\n",
       "        <iframe\n",
       "            width=\"900\"\n",
       "            height=\"250\"\n",
       "            src=\"https://pythontutor.com/iframe-embed.html#code=a+%3D+%5B%5D%0Ab+%3D+%5B%5D%0A&cumulative=false&py=3&curInstr=0\"\n",
       "            frameborder=\"0\"\n",
       "            allowfullscreen\n",
       "        ></iframe>\n",
       "        "
      ],
      "text/plain": [
       "<IPython.lib.display.IFrame at 0x7f95380fb748>"
      ]
     },
     "execution_count": 23,
     "metadata": {},
     "output_type": "execute_result"
    }
   ],
   "source": [
    "a = []\n",
    "b = []\n",
    "jupman.pytut()"
   ]
  },
  {
   "cell_type": "markdown",
   "metadata": {},
   "source": [
    "Noterai che sono apparse due frecce che puntano a regioni di memoria differenti."
   ]
  },
  {
   "cell_type": "markdown",
   "metadata": {},
   "source": [
    "**DA FARE**: Crea una lista che contenga una lista con due elementi. Il secondo elemento "
   ]
  },
  {
   "cell_type": "markdown",
   "metadata": {},
   "source": [
    "## Operatori per le liste\n",
    "\n",
    "Per manipolare le liste vi sono diversi operatori. I seguenti si comportano come quelli visti per le stringhe.\n",
    "\n",
    "<div class=\"alert alert-warning\">\n",
    "\n",
    "**ATTENZIONE: gli indici iniziano da 0 (come per le stringhe) !**\n",
    "</div>\n",
    "\n",
    "|Risultato|Operatore|Significato|\n",
    "|---|---|----|\n",
    "|`int`|`len(lst)`|Ritorna la lunghezza di una lista|\n",
    "|obj|list[int]|Legge/scrive un elemento all'indice specificato|\n",
    "|`list`|`list[int:int]`| Estrae una sotto-lista - ritorna una NUOVA lista|\n",
    "|bool|obj in list|Controlla se un elemento è presente in una lista|\n",
    "|`list`|`list + list`|Concatena due liste - ritorna una NUOVA lista|\n",
    "|`list`|`list * int`| Replica la lista - ritorna una NUOVA lista|\n",
    "|`bool`|`==`,`!=`| Controlla se due liste sono uguali o differenti|\n",
    "\n",
    "\n"
   ]
  },
  {
   "cell_type": "markdown",
   "metadata": {},
   "source": [
    "### Lunghezza di una lista\n",
    "\n",
    "Una lista è una sequenza, e come per tutte le sequenze per ottenere la lunghezza si può usare la funzione `len`:\n"
   ]
  },
  {
   "cell_type": "code",
   "execution_count": 24,
   "metadata": {},
   "outputs": [],
   "source": [
    "a = [7,5,8]"
   ]
  },
  {
   "cell_type": "code",
   "execution_count": 25,
   "metadata": {},
   "outputs": [
    {
     "data": {
      "text/plain": [
       "3"
      ]
     },
     "execution_count": 25,
     "metadata": {},
     "output_type": "execute_result"
    }
   ],
   "source": [
    "len(a)"
   ]
  },
  {
   "cell_type": "code",
   "execution_count": 26,
   "metadata": {},
   "outputs": [],
   "source": [
    "b = [8,3,6,4,7]"
   ]
  },
  {
   "cell_type": "code",
   "execution_count": 27,
   "metadata": {},
   "outputs": [
    {
     "data": {
      "text/plain": [
       "5"
      ]
     },
     "execution_count": 27,
     "metadata": {},
     "output_type": "execute_result"
    }
   ],
   "source": [
    "len(b)"
   ]
  },
  {
   "cell_type": "markdown",
   "metadata": {},
   "source": [
    "Se una lista contiene altre liste, contano come singoli elementi:"
   ]
  },
  {
   "cell_type": "code",
   "execution_count": 28,
   "metadata": {},
   "outputs": [],
   "source": [
    "mista = [ \n",
    "            [4,5,1],\n",
    "            [8,6],\n",
    "            [7,6,0,8],\n",
    "        ]"
   ]
  },
  {
   "cell_type": "code",
   "execution_count": 29,
   "metadata": {},
   "outputs": [
    {
     "data": {
      "text/plain": [
       "3"
      ]
     },
     "execution_count": 29,
     "metadata": {},
     "output_type": "execute_result"
    }
   ],
   "source": [
    "len(mista)"
   ]
  },
  {
   "cell_type": "markdown",
   "metadata": {},
   "source": [
    "<div class=\"alert alert-warning\">\n",
    "\n",
    "**ATTENZIONE: NON puoi usare `len` come se fosse un metodo**\n",
    "\n",
    "Per es questo NON funziona: `[3,4,2].len()`\n",
    "\n",
    "</div>"
   ]
  },
  {
   "cell_type": "markdown",
   "metadata": {},
   "source": [
    "**DA FARE**: Prova a scrivere `[3,4,2].len()` qua sotto, che errore appare?"
   ]
  },
  {
   "cell_type": "code",
   "execution_count": 30,
   "metadata": {},
   "outputs": [],
   "source": [
    "# scrivi qui\n",
    "\n",
    "#[3,4,2].len()"
   ]
  },
  {
   "cell_type": "markdown",
   "metadata": {},
   "source": [
    "**DA FARE**: Prova a scrivere `[3,4,2].len` SENZA le doppie tonde alla fine, che errore appare?"
   ]
  },
  {
   "cell_type": "code",
   "execution_count": 31,
   "metadata": {},
   "outputs": [],
   "source": [
    "# scrivi qui\n",
    "\n",
    "#[3,4,2].len"
   ]
  },
  {
   "cell_type": "markdown",
   "metadata": {},
   "source": [
    "**DOMANDA**: Se `x` è una lista qualunque, scrivendo\n",
    "\n",
    "`len(len(x))`\n",
    "\n",
    "cosa otteniamo?\n",
    "\n",
    "1. la lunghezza della lista\n",
    "2. un errore\n",
    "3. qualcos'altro"
   ]
  },
  {
   "cell_type": "markdown",
   "metadata": {},
   "source": [
    "**RISPOSTA**: la 2: `len` vuole come argomento _una sequenza_ e restituisce _un numero_, quindi la chiamata interna a `len(x)` produce un numero che viene dato al `len` esterno e a quel punto Python si lamenterà che ha ricevuto un numero invece di una sequenza. Prova a verificare che errore appare scrivendo `len(len(x))` qua sotto"
   ]
  },
  {
   "cell_type": "markdown",
   "metadata": {},
   "source": [
    "**DOMANDA**: Guarda questa espressione, senza eseguirla. Cosa produce?\n",
    "\n",
    "```python\n",
    "`[len([]), len([len(['a','b'])])]`\n",
    "```\n",
    "\n",
    "1. un errore? quale?\n",
    "2. un numero? quale?\n",
    "3. una lista? quale?\n"
   ]
  },
  {
   "cell_type": "markdown",
   "metadata": {},
   "source": [
    "**RISPOSTA**: La 3: la lista `[0, 1]`"
   ]
  },
  {
   "cell_type": "markdown",
   "metadata": {},
   "source": [
    "**DOMANDA**: Guarda questa espressione, senza eseguirla. Cosa produce? \n",
    "\n",
    "```python\n",
    "len([[],[]],[],[[[]]],[[],[]])\n",
    "```\n",
    "\n",
    "1. un errore? quale?\n",
    "2. un numero? quale?\n",
    "3. una lista? quale?"
   ]
  },
  {
   "cell_type": "markdown",
   "metadata": {},
   "source": [
    "**RISPOSTA**: la 2. produce il numero 4"
   ]
  },
  {
   "cell_type": "markdown",
   "metadata": {},
   "source": [
    "**DOMANDA**: Cosa produce la seguente espressione?\n",
    "\n",
    "```python\n",
    "[[((len('ababb')))],len([\"argg\",('b'),(\"c\")]), len([len(\"bc\")])]\n",
    "```"
   ]
  },
  {
   "cell_type": "markdown",
   "metadata": {},
   "source": [
    "**RISPOSTA**: `[[5], 3, 1]`"
   ]
  },
  {
   "cell_type": "markdown",
   "metadata": {},
   "source": [
    "### Leggere un elemento\n",
    "\n",
    "Come per le stringhe, possiamo accedere ad un elemento di una lista mettendo l'indice della posizione a cui vogliamo accedere tra parentesi quadre:"
   ]
  },
  {
   "cell_type": "code",
   "execution_count": 32,
   "metadata": {},
   "outputs": [],
   "source": [
    "        #0   1   2   3   \n",
    "lista = [77, 69, 95, 57]"
   ]
  },
  {
   "cell_type": "markdown",
   "metadata": {},
   "source": [
    "Esattamente come per tutte le sequenze, le posizioni iniziano da `0`:"
   ]
  },
  {
   "cell_type": "code",
   "execution_count": 33,
   "metadata": {},
   "outputs": [
    {
     "data": {
      "text/plain": [
       "77"
      ]
     },
     "execution_count": 33,
     "metadata": {},
     "output_type": "execute_result"
    }
   ],
   "source": [
    "lista[0]"
   ]
  },
  {
   "cell_type": "code",
   "execution_count": 34,
   "metadata": {},
   "outputs": [
    {
     "data": {
      "text/plain": [
       "69"
      ]
     },
     "execution_count": 34,
     "metadata": {},
     "output_type": "execute_result"
    }
   ],
   "source": [
    "lista[1]"
   ]
  },
  {
   "cell_type": "code",
   "execution_count": 35,
   "metadata": {},
   "outputs": [
    {
     "data": {
      "text/plain": [
       "95"
      ]
     },
     "execution_count": 35,
     "metadata": {},
     "output_type": "execute_result"
    }
   ],
   "source": [
    "lista[2]"
   ]
  },
  {
   "cell_type": "code",
   "execution_count": 36,
   "metadata": {},
   "outputs": [
    {
     "data": {
      "text/plain": [
       "57"
      ]
     },
     "execution_count": 36,
     "metadata": {},
     "output_type": "execute_result"
    }
   ],
   "source": [
    "lista[3]"
   ]
  },
  {
   "cell_type": "markdown",
   "metadata": {},
   "source": [
    "Come per le stringhe, se sforiamo con l'indice otteniamo un errore:"
   ]
  },
  {
   "cell_type": "markdown",
   "metadata": {},
   "source": [
    "```python\n",
    "\n",
    "lista[4]\n",
    "\n",
    "---------------------------------------------------------------------------\n",
    "IndexError                                Traceback (most recent call last)\n",
    "<ipython-input-134-09bfed834fa2> in <module>\n",
    "----> 1 lista[4]\n",
    "\n",
    "IndexError: list index out of range\n",
    "```"
   ]
  },
  {
   "cell_type": "markdown",
   "metadata": {},
   "source": [
    "Di nuovo come per le stringhe possiamo ottenere l'ultimo elemento usando un indice negativo:"
   ]
  },
  {
   "cell_type": "code",
   "execution_count": 37,
   "metadata": {},
   "outputs": [],
   "source": [
    "        #0   1   2   3   \n",
    "lista = [77, 69, 95, 57]"
   ]
  },
  {
   "cell_type": "code",
   "execution_count": 38,
   "metadata": {},
   "outputs": [
    {
     "data": {
      "text/plain": [
       "57"
      ]
     },
     "execution_count": 38,
     "metadata": {},
     "output_type": "execute_result"
    }
   ],
   "source": [
    "lista[-1]"
   ]
  },
  {
   "cell_type": "code",
   "execution_count": 39,
   "metadata": {},
   "outputs": [
    {
     "data": {
      "text/plain": [
       "95"
      ]
     },
     "execution_count": 39,
     "metadata": {},
     "output_type": "execute_result"
    }
   ],
   "source": [
    "lista[-2]"
   ]
  },
  {
   "cell_type": "code",
   "execution_count": 40,
   "metadata": {},
   "outputs": [
    {
     "data": {
      "text/plain": [
       "69"
      ]
     },
     "execution_count": 40,
     "metadata": {},
     "output_type": "execute_result"
    }
   ],
   "source": [
    "lista[-3]"
   ]
  },
  {
   "cell_type": "code",
   "execution_count": 41,
   "metadata": {},
   "outputs": [
    {
     "data": {
      "text/plain": [
       "77"
      ]
     },
     "execution_count": 41,
     "metadata": {},
     "output_type": "execute_result"
    }
   ],
   "source": [
    "lista[-4]"
   ]
  },
  {
   "cell_type": "markdown",
   "metadata": {},
   "source": [
    "Se esageriamo ed andiamo oltre la lunghezza della lista, otteniamo un errore:"
   ]
  },
  {
   "cell_type": "markdown",
   "metadata": {},
   "source": [
    "```python\n",
    "lista[-5]\n",
    "\n",
    "---------------------------------------------------------------------------\n",
    "IndexError                                Traceback (most recent call last)\n",
    "<ipython-input-169-f77280923dce> in <module>\n",
    "----> 1 lista[-5]\n",
    "\n",
    "IndexError: list index out of range\n",
    "\n",
    "```"
   ]
  },
  {
   "cell_type": "markdown",
   "metadata": {},
   "source": [
    "**DOMANDA**: se `x` è una lista qualunque, scrivendo \n",
    "\n",
    "```python\n",
    "x[0]\n",
    "```\n",
    "\n",
    "cosa otteniamo?\n",
    "\n",
    "1. il primo elemento della lista\n",
    "2. sempre un errore\n",
    "3. a volte un elemento a volte un errore a seconda della lista"
   ]
  },
  {
   "cell_type": "markdown",
   "metadata": {},
   "source": [
    "**RISPOSTA**:  la 3.: se la lista è vuota Python non troverà l'elemento e ci darà un errore. Qual'è? Prova a scrivere nella cella sotto `[][0]` e vedi cosa succede."
   ]
  },
  {
   "cell_type": "markdown",
   "metadata": {},
   "source": [
    "**DOMANDA**: se `x` è una lista qualunque, scrivendo\n",
    "\n",
    "```python\n",
    "x[len(x)]\n",
    "```\n",
    "\n",
    "cosa otteniamo?\n",
    "\n",
    "1. un elemento della lista\n",
    "2. sempre un errore\n",
    "3. a volte un elemento a volte un errore a seconda della lista"
   ]
  },
  {
   "cell_type": "markdown",
   "metadata": {},
   "source": [
    "**RISPOSTA**: La 2. sempre un errore: `len(x)` sarà sempre un numero uguale all'ultimo indice disponibile della lista + 1"
   ]
  },
  {
   "cell_type": "markdown",
   "metadata": {},
   "source": [
    "Abbiamo detto che in una lista possiamo mettere qualunque oggetto, per esempio delle stringhe"
   ]
  },
  {
   "cell_type": "code",
   "execution_count": 42,
   "metadata": {},
   "outputs": [],
   "source": [
    "verdure = ['pomodori', 'verze', 'carote', 'cavoli']"
   ]
  },
  {
   "cell_type": "markdown",
   "metadata": {},
   "source": [
    "Proviamo ad estrarre una verdura scrivendo questa espressione: "
   ]
  },
  {
   "cell_type": "code",
   "execution_count": 43,
   "metadata": {},
   "outputs": [
    {
     "data": {
      "text/plain": [
       "'carote'"
      ]
     },
     "execution_count": 43,
     "metadata": {},
     "output_type": "execute_result"
    }
   ],
   "source": [
    "verdure[2]"
   ]
  },
  {
   "cell_type": "markdown",
   "metadata": {},
   "source": [
    "Ora, l'espressione precedente ci ha prodotto il risultato `'carote'`, che sappiamo essere una stringa. Questo ci suggerisce che possiamo usare l'espressione esattamente come se fosse una stringa. Supponiamo che vogliamo ottenere il primo carattere della stringa `'carote'`, avendo direttamente la stringa scriveremmo così: "
   ]
  },
  {
   "cell_type": "code",
   "execution_count": 44,
   "metadata": {},
   "outputs": [
    {
     "data": {
      "text/plain": [
       "'c'"
      ]
     },
     "execution_count": 44,
     "metadata": {},
     "output_type": "execute_result"
    }
   ],
   "source": [
    "'carote'[0]"
   ]
  },
  {
   "cell_type": "markdown",
   "metadata": {},
   "source": [
    "Ma se la stringa è racchiusa nella lista di prima, potremmo fare direttamente così:"
   ]
  },
  {
   "cell_type": "code",
   "execution_count": 45,
   "metadata": {},
   "outputs": [
    {
     "data": {
      "text/plain": [
       "'c'"
      ]
     },
     "execution_count": 45,
     "metadata": {},
     "output_type": "execute_result"
    }
   ],
   "source": [
    "verdure[2][0]"
   ]
  },
  {
   "cell_type": "markdown",
   "metadata": {},
   "source": [
    "### Da fare - sigle\n",
    "\n",
    "Data una lista con sigle di esattamente 4 capoluoghi in minuscolo, scrivere del codice che crea una NUOVA lista contentente le stesse sigle in caratteri tutti maiuscoli. \n",
    "\n",
    "* il tuo codice deve funzionare con qualunque lista di 4 capoluoghi\n",
    "* suggerimento: se non ti ricordi la funzione giusta, [guarda qua](https://softpython.readthedocs.io/it/latest/strings/strings-sol.html#Metodi)\n",
    "\n",
    "Esempio 1: dato\n",
    "\n",
    "```python\n",
    "sigle = ['tn','mi','to','ro']\n",
    "```\n",
    "\n",
    "il tuo codice deve stampare\n",
    "\n",
    "```python\n",
    "['TN', 'MI', 'TO', 'RO']\n",
    "```\n",
    "\n",
    "Esempio 2: dato\n",
    "\n",
    "```python\n",
    "sigle = ['pa','ge','ve', 'aq']\n",
    "```\n",
    "\n",
    "il tuo codice deve stampare\n",
    "\n",
    "```python\n",
    "['PA', 'GE', 'VE', 'AQ']\n",
    "```\n"
   ]
  },
  {
   "cell_type": "code",
   "execution_count": 46,
   "metadata": {},
   "outputs": [
    {
     "name": "stdout",
     "output_type": "stream",
     "text": [
      "['TN', 'MI', 'TO', 'RO']\n"
     ]
    }
   ],
   "source": [
    "sigle = ['tn','mi','to','ro']\n",
    "\n",
    "#scrivi qui\n",
    "\n",
    "print([sigle[0].upper(), sigle[1].upper(), sigle[2].upper(), sigle[3].upper()])"
   ]
  },
  {
   "cell_type": "markdown",
   "metadata": {},
   "source": [
    "### Leggere da liste di liste\n",
    "\n",
    "**NOTA**: Parleremo molto più nel dettaglio delle liste di liste nel tutorial [Matrici - liste di liste](https://softpython.readthedocs.io/it/latest/matrices-lists/matrices-lists-sol.html)\n",
    "\n",
    "Le considerazioni viste per le liste di stringhe valgono anche per una lista di liste:"
   ]
  },
  {
   "cell_type": "code",
   "execution_count": 47,
   "metadata": {},
   "outputs": [],
   "source": [
    "coppie = [          # lista esterna\n",
    "            [67,95],    # lista interna ad indice 0\n",
    "            [60,59],    # lista interna ad indice 1\n",
    "            [86,75],    # lista interna ad indice 2\n",
    "            [96,90],    # lista interna ad indice 3\n",
    "            [88,87],    # lista interna ad indice 4\n",
    "         ]"
   ]
  },
  {
   "cell_type": "markdown",
   "metadata": {},
   "source": [
    "Se vogliamo estrarre il numero `90`, dobbiamo prima estrarre la sottolista all'indice `3`:"
   ]
  },
  {
   "cell_type": "code",
   "execution_count": 48,
   "metadata": {},
   "outputs": [
    {
     "data": {
      "text/plain": [
       "[96, 90]"
      ]
     },
     "execution_count": 48,
     "metadata": {},
     "output_type": "execute_result"
    }
   ],
   "source": [
    "coppie[3]   # NOTA: il risultato di questa espressione è una lista"
   ]
  },
  {
   "cell_type": "markdown",
   "metadata": {},
   "source": [
    "e quindi dalla sottolista estratta (che ha solo due elementi) possiamo recuperare il numero all'indice `0`: "
   ]
  },
  {
   "cell_type": "code",
   "execution_count": 49,
   "metadata": {},
   "outputs": [
    {
     "data": {
      "text/plain": [
       "96"
      ]
     },
     "execution_count": 49,
     "metadata": {},
     "output_type": "execute_result"
    }
   ],
   "source": [
    "coppie[3][0]"
   ]
  },
  {
   "cell_type": "markdown",
   "metadata": {},
   "source": [
    "e all'indice `1`:"
   ]
  },
  {
   "cell_type": "code",
   "execution_count": 50,
   "metadata": {},
   "outputs": [
    {
     "data": {
      "text/plain": [
       "90"
      ]
     },
     "execution_count": 50,
     "metadata": {},
     "output_type": "execute_result"
    }
   ],
   "source": [
    "coppie[3][1]"
   ]
  },
  {
   "cell_type": "markdown",
   "metadata": {},
   "source": [
    "### Da fare - coppie\n",
    "\n",
    "1. Scrivi il codice per recuperare e stampare il numero `86`, il `67` e l'`87`\n",
    "2. Date una riga con indice `i` e una colonna `j`, stampare il numero alla riga `i` e colonna `j` moltiplicato per il numero alla riga successiva e stessa colonna"
   ]
  },
  {
   "cell_type": "code",
   "execution_count": 51,
   "metadata": {},
   "outputs": [
    {
     "name": "stdout",
     "output_type": "stream",
     "text": [
      "punto 1: 86 67 87\n",
      "\n",
      "punto 2: 7830\n"
     ]
    }
   ],
   "source": [
    "coppie = [           # lista esterna\n",
    "            [67,95],    # lista interna ad indice 0\n",
    "            [60,59],    # lista interna ad indice 1\n",
    "            [86,75],    # lista interna ad indice 2\n",
    "            [96,90],    # lista interna ad indice 3\n",
    "            [88,87],    # lista interna ad indice 4\n",
    "         ]\n",
    "\n",
    "i = 3\n",
    "j = 1\n",
    "\n",
    "# scrivi qui\n",
    "\n",
    "print(\"punto 1:\", coppie[2][0], coppie[0][0], coppie[4][1])\n",
    "print()\n",
    "print(\"punto 2:\", coppie[i][j]*coppie[i+1][j])"
   ]
  },
  {
   "cell_type": "markdown",
   "metadata": {},
   "source": [
    "## Metodi\n",
    "\n",
    "Le liste sono oggetti di tipo `list` e possiedono dei metodi che permettono di operare su di essi.\n",
    "\n",
    "\n",
    "<div class=\"alert alert-warning\">\n",
    "\n",
    "**ATTENZIONE: I METODI DELLE LISTE _MODIFICANO_ LA LISTA SU CUI VENGONO CHIAMATI !**\n",
    "\n",
    "Diversamente dai metodi sulle stringhe che generano sempre una nuova stringa senza cambiare l'originale, quelli sulle liste MODIFICANO la lista su cui sono chiamati (quella a sinistra del punto `.`)\n",
    "\n",
    "</div>\n",
    "\n",
    "\n",
    "<div class=\"alert alert-warning\">\n",
    "\n",
    "**ATTENZIONE: I METODI DELLE LISTE _NON_ RITORNANO NULLA!**\n",
    "\n",
    "Diversamente da quelli delle stringhe che ritornano sempre una nuovastringa, i metodi delle liste ritornano quasi sempre l'oggetto `None`\n",
    "\n",
    "</div>\n",
    "\n",
    "\n",
    "|Ritorna|Metodo|Significato|\n",
    "|-------|------|-----------|\n",
    "|`None`|`list.append(obj)`|Aggiunge un nuovo elemento alla fine della lista|\n",
    "|`None`|`list.extend(list)`|Aggiunge diversi nuovi elementi alla fine della lista|\n",
    "|`None`|`list.insert(int,obj)`|Aggiunge un nuovo elemento a qualche posizione data|\n",
    "|`None`|`list.remove(obj)`|Rimuove la prima occorrenza di un elemento|\n",
    "|`None`|`list.reverse()`|Inverte l'ordine degli elementi|\n",
    "|`None`|`list.sort()`|Ordina gli elementi|\n",
    "|`int`|`list.count()`|Conta le occorrenze di un elemento|\n"
   ]
  },
  {
   "cell_type": "markdown",
   "metadata": {},
   "source": [
    "### Metodo append\n",
    "\n",
    "Possiamo MODIFICARE una lista aggiungendo un elemento alla volta usando il metodo `append`.\n",
    "\n",
    "Supponiamo di partire da una lista vuota:"
   ]
  },
  {
   "cell_type": "code",
   "execution_count": 52,
   "metadata": {},
   "outputs": [],
   "source": [
    "lista = []"
   ]
  },
  {
   "cell_type": "markdown",
   "metadata": {},
   "source": [
    "Se vogliamo aggiungere come elemento il numero `57`, possiamo scrivere così:"
   ]
  },
  {
   "cell_type": "code",
   "execution_count": 53,
   "metadata": {},
   "outputs": [],
   "source": [
    "lista.append(57)"
   ]
  },
  {
   "cell_type": "markdown",
   "metadata": {},
   "source": [
    "Notiamo che la lista che abbiamo creato inizialmente risulta MODIFICATA:"
   ]
  },
  {
   "cell_type": "code",
   "execution_count": 54,
   "metadata": {},
   "outputs": [
    {
     "data": {
      "text/plain": [
       "[57]"
      ]
     },
     "execution_count": 54,
     "metadata": {},
     "output_type": "execute_result"
    }
   ],
   "source": [
    "lista"
   ]
  },
  {
   "cell_type": "markdown",
   "metadata": {},
   "source": [
    "<div class=\"alert alert-warning\">\n",
    "\n",
    "**ATTENZIONE:** `lista.append(57)` **non ha restituito NULLA !!!!**\n",
    "    \n",
    "Guarda bene l'output della cella con l'istruzione `lista.append(57)`, noterai che non c'è proprio niente. Questo perchè lo scopo di `append` è MODIFICARE la lista su cui viene chiamato, NON è generare nuove liste. \n",
    "</div>"
   ]
  },
  {
   "cell_type": "markdown",
   "metadata": {},
   "source": [
    "Aggiungiamo un'altro numero _alla fine_ della lista: "
   ]
  },
  {
   "cell_type": "code",
   "execution_count": 55,
   "metadata": {},
   "outputs": [],
   "source": [
    "lista.append(96)"
   ]
  },
  {
   "cell_type": "code",
   "execution_count": 56,
   "metadata": {},
   "outputs": [
    {
     "data": {
      "text/plain": [
       "[57, 96]"
      ]
     },
     "execution_count": 56,
     "metadata": {},
     "output_type": "execute_result"
    }
   ],
   "source": [
    "lista"
   ]
  },
  {
   "cell_type": "code",
   "execution_count": 57,
   "metadata": {},
   "outputs": [],
   "source": [
    "lista.append(74)"
   ]
  },
  {
   "cell_type": "code",
   "execution_count": 58,
   "metadata": {},
   "outputs": [
    {
     "data": {
      "text/plain": [
       "[57, 96, 74]"
      ]
     },
     "execution_count": 58,
     "metadata": {},
     "output_type": "execute_result"
    }
   ],
   "source": [
    "lista"
   ]
  },
  {
   "cell_type": "markdown",
   "metadata": {},
   "source": [
    "Riguardiamoci cosa è successo in Python tutor:"
   ]
  },
  {
   "cell_type": "code",
   "execution_count": 59,
   "metadata": {},
   "outputs": [
    {
     "data": {
      "text/html": [
       "\n",
       "        <iframe\n",
       "            width=\"900\"\n",
       "            height=\"325\"\n",
       "            src=\"https://pythontutor.com/iframe-embed.html#code=lista+%3D+%5B%5D%0Alista.append%2857%29%0Alista.append%2896%29%0Alista.append%2874%29%0A%0A&cumulative=false&py=3&curInstr=0\"\n",
       "            frameborder=\"0\"\n",
       "            allowfullscreen\n",
       "        ></iframe>\n",
       "        "
      ],
      "text/plain": [
       "<IPython.lib.display.IFrame at 0x7f95380b2c88>"
      ]
     },
     "execution_count": 59,
     "metadata": {},
     "output_type": "execute_result"
    }
   ],
   "source": [
    "lista = []\n",
    "lista.append(57)\n",
    "lista.append(96)\n",
    "lista.append(74)\n",
    "\n",
    "jupman.pytut()"
   ]
  },
  {
   "cell_type": "markdown",
   "metadata": {},
   "source": [
    "Nota come si vada ad espandere sempre la stessa zona di memoria gialla associata alla variabile `lista`"
   ]
  },
  {
   "cell_type": "markdown",
   "metadata": {},
   "source": [
    "Abbiamo detto che il metodo `append` non ritorna nulla. Cerchiamo di specificare meglio. Nella tabella dei metodi, è presente una colonna chiamata _Ritorna_. Se vai a vedere, per quasi tutti i metodi incluso `append` è indicato che viene ritornato `None`. \n",
    "\n",
    "`None` è l'oggetto più noioso di Python, perchè letteralmente significa niente. Cosa si può fare con niente? Ben poco, così poco che Jupyter quando si ritrova come risultato un oggetto `None` non lo stampa nemmeno. Proviamo a inserire direttamente `None` in una cella, vedrai che non è nemmeno riportato nell'output della cella:"
   ]
  },
  {
   "cell_type": "code",
   "execution_count": 60,
   "metadata": {},
   "outputs": [],
   "source": [
    "None"
   ]
  },
  {
   "cell_type": "markdown",
   "metadata": {},
   "source": [
    "Un modo per forzare la stampa è usare il comando `print`:"
   ]
  },
  {
   "cell_type": "code",
   "execution_count": 61,
   "metadata": {},
   "outputs": [
    {
     "name": "stdout",
     "output_type": "stream",
     "text": [
      "None\n"
     ]
    }
   ],
   "source": [
    "print(None)"
   ]
  },
  {
   "cell_type": "code",
   "execution_count": null,
   "metadata": {},
   "outputs": [],
   "source": []
  },
  {
   "cell_type": "markdown",
   "metadata": {},
   "source": [
    "Proviamo a ripetere cosa succede con `append`. Se chiami il metodo `append` su una lista, `append` MODIFICA silenziosamente la lista, e RITORNA come risultato di essere stato chiamato l'oggetto `None`. Dato che Jupyter ritiene questo oggetto non interessante, non lo stampa nemmeno come risultato. \n",
    "\n",
    "Cerchiamo di esplicitare meglio questo misterioso `None`. Se è vero che `append` lo produce come risultato di essere chiamato, vuol dire che possiamo associare questo risultato a qualche variabile. Proviamo ad associarlo alla variabile `x`:"
   ]
  },
  {
   "cell_type": "code",
   "execution_count": 62,
   "metadata": {},
   "outputs": [],
   "source": [
    "lista = []\n",
    "x = lista.append(78)"
   ]
  },
  {
   "cell_type": "markdown",
   "metadata": {},
   "source": [
    "Ora, se tutto è andato come abbiamo scritto, `append` dovrebbe aver modificato la lista:"
   ]
  },
  {
   "cell_type": "code",
   "execution_count": 63,
   "metadata": {},
   "outputs": [
    {
     "data": {
      "text/plain": [
       "[78]"
      ]
     },
     "execution_count": 63,
     "metadata": {},
     "output_type": "execute_result"
    }
   ],
   "source": [
    "lista"
   ]
  },
  {
   "cell_type": "markdown",
   "metadata": {},
   "source": [
    "e alla variabile `x` dovrebbe essere associato `None`. Quindi, se chiediamo a Jupyter di mostrare il valore associato ad `x` e se quel valore è `None`, non dovremmo vedere nulla:"
   ]
  },
  {
   "cell_type": "code",
   "execution_count": 64,
   "metadata": {},
   "outputs": [],
   "source": [
    "x"
   ]
  },
  {
   "cell_type": "markdown",
   "metadata": {},
   "source": [
    "notiamo che non c'è nessun output nella cella, pare che siamo davvero in presenza del misterioso `None`. Forziamo la stampa con il comando `print`:"
   ]
  },
  {
   "cell_type": "code",
   "execution_count": 65,
   "metadata": {},
   "outputs": [
    {
     "name": "stdout",
     "output_type": "stream",
     "text": [
      "None\n"
     ]
    }
   ],
   "source": [
    "print(x)"
   ]
  },
  {
   "cell_type": "markdown",
   "metadata": {},
   "source": [
    "Eccolo ! Probabilmente sarai un po' confuso da tutto ciò, quindi proviamo a rivedere bene che succede in Python Tutor: "
   ]
  },
  {
   "cell_type": "code",
   "execution_count": 66,
   "metadata": {},
   "outputs": [
    {
     "name": "stdout",
     "output_type": "stream",
     "text": [
      "la lista è [78]\n",
      "x è  None\n"
     ]
    },
    {
     "data": {
      "text/html": [
       "\n",
       "        <iframe\n",
       "            width=\"900\"\n",
       "            height=\"325\"\n",
       "            src=\"https://pythontutor.com/iframe-embed.html#code=lista+%3D+%5B%5D%0Ax+%3D+lista.append%2878%29%0Aprint%28%22la+lista+%C3%A8%22%2C+lista%29%0Aprint%28%22x+%C3%A8+%22%2C+x%29%0A%0A&cumulative=false&py=3&curInstr=0\"\n",
       "            frameborder=\"0\"\n",
       "            allowfullscreen\n",
       "        ></iframe>\n",
       "        "
      ],
      "text/plain": [
       "<IPython.lib.display.IFrame at 0x7f9538098470>"
      ]
     },
     "execution_count": 66,
     "metadata": {},
     "output_type": "execute_result"
    }
   ],
   "source": [
    "lista = []\n",
    "x = lista.append(78)\n",
    "print(\"la lista è\", lista)\n",
    "print(\"x è \", x)\n",
    "\n",
    "jupman.pytut()"
   ]
  },
  {
   "cell_type": "markdown",
   "metadata": {},
   "source": [
    "Qual'è il succo di tutto questo discorso? \n",
    "\n",
    "<div class=\"alert alert-warning\">\n",
    "\n",
    "**RIUSARE IL RISULTATO DI CHIAMATE AI METODI DELLE STRINGHE E' QUASI SEMPRE UN ERRORE !!!!**\n",
    "\n",
    "Dato che chiamare i metodi delle lista ci ritorna `None`, che è un oggetto inutile, tentare di riusarlo produrrà quasi sicuramente un errore\n",
    "</div>"
   ]
  },
  {
   "cell_type": "markdown",
   "metadata": {},
   "source": [
    "**DA FARE**: Costruisci una lista aggiungendo un elemento alla volta con il metodo `append`. Aggiungi gli elementi `77`, `\"prova\"`, `[60,93]` con 3 chiamate ad `append`, infine stampa la lista"
   ]
  },
  {
   "cell_type": "code",
   "execution_count": 67,
   "metadata": {},
   "outputs": [
    {
     "name": "stdout",
     "output_type": "stream",
     "text": [
      "[77, 'prova', [60, 93]]\n"
     ]
    }
   ],
   "source": [
    "lista = []\n",
    "\n",
    "# scrivi qui\n",
    "lista.append(77)\n",
    "lista.append(\"prova\")\n",
    "lista.append([60, 93])\n",
    "\n",
    "print(lista)\n"
   ]
  },
  {
   "cell_type": "markdown",
   "metadata": {},
   "source": [
    "**DOMANDA**: Il codice seguente:\n",
    "\n",
    "```python\n",
    "lista = []\n",
    "lista.append(85,70,94)\n",
    "```\n",
    "\n",
    "1. produce un errore (quale?)\n",
    "2. modifica la lista (come?)"
   ]
  },
  {
   "cell_type": "markdown",
   "metadata": {},
   "source": [
    "**RISPOSTA**: la 1: `append` accetta un solo argomento, passandone di più produrrà un errore, prova ad eseguire il codice in una cella per vedere quale."
   ]
  },
  {
   "cell_type": "markdown",
   "metadata": {},
   "source": [
    "**DOMANDA**: Il codice seguente\n",
    "\n",
    "```python\n",
    "lista = []\n",
    "lista.append(87).append(96)\n",
    "```\n",
    "\n",
    "1. produce un errore\n",
    "2. aggiunge a `lista` i numeri `87` e `96`"
   ]
  },
  {
   "cell_type": "markdown",
   "metadata": {},
   "source": [
    "**RISPOSTA**: la 1: produce un errore, perchè come abbiamo detto la chiamata ad `lista.append(87)` MODIFICA la `lista` su cui è chiamato e ritorna il valore `None`. Se su `None` proviamo a chiamare `.append(96)`, visto che `None` non è una lista otterremo un messaggio di errore. Sincerati di questo usando Python Tutor."
   ]
  },
  {
   "cell_type": "markdown",
   "metadata": {},
   "source": [
    "\n",
    "**DOMANDA**: il codice seguente (se non ti ricordi cosa fanno i metodi delle stringhe [guarda qua](https://softpython.readthedocs.io/it/latest/strings/strings-sol.html#Metodi))\n",
    "    \n",
    "```python\n",
    "\n",
    "sa = '    trento    '\n",
    "sb = sa.strip().capitalize()\n",
    "print(sb)\n",
    "```\n",
    "\n",
    "1. produce un errore (quale?)\n",
    "2. cambia sa\n",
    "3. stampa qualcosa (cosa?)"
   ]
  },
  {
   "cell_type": "markdown",
   "metadata": {},
   "source": [
    "**RISPOSTA**: La 3: stampa `Trento`. Diversamente dalle liste, le stringhe sono sequenze _immutabili_: significa che quando chiami un metodo sulle stringhe sei sicuro che RESTITUIRA' una stringa NUOVA.  Quindi la prima chiamata a `sa.strip()` RESTITUISCE la stringa senza spazi all'inizio e alla fine `'trento'`, e su questa stringa viene chiamato il metodo `capitalize()` che rende il primo carattere maiuscolo. \n",
    "\n",
    "Se questo non ti è chiaro, prova ad eseguire il codice seguente in Python Tutor. E' equivalente a quello dell'esempio ma esplicita il passaggio assegnando il risultato della chiamata a `sa.strip()` alla variabile extra `x`.\n",
    "\n",
    "```python\n",
    "sa = '    trento    '\n",
    "x = sa.strip()\n",
    "sb = x.capitalize()\n",
    "print(sb)\n",
    "```\n"
   ]
  },
  {
   "cell_type": "code",
   "execution_count": null,
   "metadata": {},
   "outputs": [],
   "source": []
  },
  {
   "cell_type": "markdown",
   "metadata": {},
   "source": [
    "**DOMANDA**: Guarda questo codice. Stamperà qualcosa alla fine? O produrrà un errore?\n",
    "    \n",
    "```python\n",
    "lista = []\n",
    "listb = []\n",
    "lista.append(listb)\n",
    "\n",
    "listb.append(98)\n",
    "listb.append(77)\n",
    "\n",
    "print(lista)\n",
    "```"
   ]
  },
  {
   "cell_type": "markdown",
   "metadata": {},
   "source": [
    "**RISPOSTA**: Stamperà `[[98, 77]]`, perchè abbiamo una `listb` dentro `lista`. \n",
    "\n",
    "Anche se con la prima `append` abbiamo inserito `listb` come primo elemento di `lista`, dopo è perfettamente lecito continuare a modificare `listb` chiamando `listb.append(98)`. \n",
    "\n",
    "Prova ad eseguire il codice in Python Tutor, e guarda le frecce."
   ]
  },
  {
   "cell_type": "markdown",
   "metadata": {},
   "source": [
    "### Da fare - accrescere una lista 1\n",
    "\n",
    "Data la lista `la` di _dimensione fissa 7_, scrivi del codice per crescere la lista vuota `lb` così che contenga _solo_ gli elementi di `la` a indici pari (0, 2, 4, ...). \n",
    "\n",
    "- Il tuo codice dovrebbe funzionare per qualunque lista `la` di dimensione fissa 7\n",
    "\n",
    "\n",
    "```python\n",
    "#   0 1 2 3 4 5 6  indici\n",
    "la=[8,4,3,5,7,3,5]\n",
    "lb=[]\n",
    "```\n",
    "\n",
    "Dopo il tuo codice, dovresti ottenere:\n",
    "\n",
    "```python\n",
    ">>> print(lb)\n",
    "[8,3,7,5]\n",
    "```\n"
   ]
  },
  {
   "cell_type": "code",
   "execution_count": 68,
   "metadata": {},
   "outputs": [
    {
     "name": "stdout",
     "output_type": "stream",
     "text": [
      "[8, 3, 7, 5]\n"
     ]
    }
   ],
   "source": [
    "\n",
    "#   0 1 2 3 4 5 6  indici\n",
    "la=[8,4,3,5,7,3,5]\n",
    "lb=[]\n",
    "\n",
    "# scrivi qui\n",
    "lb.append(la[0])\n",
    "lb.append(la[2])\n",
    "lb.append(la[4])\n",
    "lb.append(la[6])\n",
    "print(lb)"
   ]
  },
  {
   "cell_type": "markdown",
   "metadata": {},
   "source": [
    "### Da fare: accrescere una lista 2"
   ]
  },
  {
   "cell_type": "markdown",
   "metadata": {},
   "source": [
    "\n",
    "Date due _liste_ `la` ed `lb`, scrivi del codice che MODIFICA `la` in modo che `la` contenga alla fine anche gli elementi di `lb`.\n",
    "\n",
    "- **NOTA 1**: il tuo codice dovrebbe funzionare con qualunque `la` ed `lb`\n",
    "- **NOTA 2**: Se provi a stampare `id(la)` _prima_ di modificare `la` e `id(la)` dopo, dovresti ottenere _esattamente_ lo stesso id. Se ne ottieni uno diverso, significa che hai generato una lista interamente nuova. In ogni caso, verifica che funzioni in Python Tutor.\n",
    "\n",
    "```python\n",
    "la = [5,9,2,4]\n",
    "lb = [9,1,2]\n",
    "```\n",
    "\n",
    "Dovresti ottenere:\n",
    "\n",
    "```python\n",
    ">>> print(la)\n",
    "[5,9,2,4,9,1,2]\n",
    ">>> print(lb)\n",
    "[9,1,2]\n",
    "```"
   ]
  },
  {
   "cell_type": "code",
   "execution_count": 69,
   "metadata": {},
   "outputs": [
    {
     "name": "stdout",
     "output_type": "stream",
     "text": [
      "[5, 9, 2, 4, 9, 1, 2]\n",
      "[9, 1, 2]\n"
     ]
    }
   ],
   "source": [
    "\n",
    "la = [5,9,2,4]\n",
    "lb = [9,1,2]\n",
    "\n",
    "# scrivi qui\n",
    "la.extend(lb)\n",
    "print(la)\n",
    "print(lb)\n"
   ]
  },
  {
   "cell_type": "markdown",
   "metadata": {},
   "source": [
    "### Da fare - moltelinee\n",
    "    \n",
    "    \n",
    "Dato la seguente stringa di testo:\n",
    "\n",
    "```python\n",
    "\"\"\"Questa è una stringa\n",
    "di testo su\n",
    "diverse linee che non dice niente. \"\"\"\n",
    "```\n",
    "\n",
    "1. stampala\n",
    "2. stampa quante linee, parole e caratteri contiene\n",
    "3. metti in ordine alfabetico le parole e stampale le prime e ultime in ordine lessicografico\n",
    "\n",
    "Dovresti ottenere:\n",
    "\n",
    "```\n",
    "Questa è una stringa\n",
    "di testo su\n",
    "diverse linee che non dice niente. \n",
    "\n",
    "Lines: 3 words: 14 chars: 68\n",
    "\n",
    "['Q', 'u', 'e', 's', 't', 'a', ' ', 'è', ' ', 'u', 'n', 'a', ' ', 's', 't', 'r', 'i', 'n', 'g', 'a', '\\n', 'd', 'i', ' ', 't', 'e', 's', 't', 'o', ' ', 's', 'u', '\\n', 'd', 'i', 'v', 'e', 'r', 's', 'e', ' ', 'l', 'i', 'n', 'e', 'e', ' ', 'c', 'h', 'e', ' ', 'n', 'o', 'n', ' ', 'd', 'i', 'c', 'e', ' ', 'n', 'i', 'e', 'n', 't', 'e', '.', ' ']\n",
    "68\n",
    "\n",
    "First word:  \n",
    "Last word: è\n",
    "['', 'Questa', 'che', 'di', 'dice', 'diverse', 'linee', 'niente.', 'non', 'stringa', 'su', 'testo', 'una', 'è']\n",
    "\n",
    "```"
   ]
  },
  {
   "cell_type": "code",
   "execution_count": 70,
   "metadata": {},
   "outputs": [
    {
     "name": "stdout",
     "output_type": "stream",
     "text": [
      "Questa è una stringa\n",
      "di testo su\n",
      "diverse linee che non dice niente. \n",
      "\n",
      "Lines: 3 words: 14 chars: 68\n",
      "\n",
      "['Q', 'u', 'e', 's', 't', 'a', ' ', 'è', ' ', 'u', 'n', 'a', ' ', 's', 't', 'r', 'i', 'n', 'g', 'a', '\\n', 'd', 'i', ' ', 't', 'e', 's', 't', 'o', ' ', 's', 'u', '\\n', 'd', 'i', 'v', 'e', 'r', 's', 'e', ' ', 'l', 'i', 'n', 'e', 'e', ' ', 'c', 'h', 'e', ' ', 'n', 'o', 'n', ' ', 'd', 'i', 'c', 'e', ' ', 'n', 'i', 'e', 'n', 't', 'e', '.', ' ']\n",
      "68\n",
      "\n",
      "First word:  \n",
      "Last word: è\n",
      "['', 'Questa', 'che', 'di', 'dice', 'diverse', 'linee', 'niente.', 'non', 'stringa', 'su', 'testo', 'una', 'è']\n"
     ]
    }
   ],
   "source": [
    "s = \"\"\"Questa è una stringa\n",
    "di testo su\n",
    "diverse linee che non dice niente. \"\"\"\n",
    "\n",
    "\n",
    "# scrivi qui\n",
    "\n",
    "# 1) stampa\n",
    "print(s)\n",
    "print(\"\")\n",
    "\n",
    "# 2) stampa le linee, parole e caratteri\n",
    "lines = s.split('\\n')\n",
    "\n",
    "# NOTA: le parole sono separate da uno spazio o da un itorno a capo (newline)\n",
    "\n",
    "words = lines[0].split(' ') + lines[1].split(' ') + lines[2].split(' ')\n",
    "num_chars = len(s)\n",
    "print(\"Lines:\", len(lines), \"words:\", len(words), \"chars:\", num_chars)\n",
    "\n",
    "# modo alternativo per numero di caratteri\n",
    "print(\"\")\n",
    "characters = list(s)\n",
    "num_chars2 = len(characters)\n",
    "print(characters)\n",
    "print(num_chars2)\n",
    "\n",
    "# 3. ordina alfabeticamente le parole e stampa la prima e ultima in ordine lessicografico\n",
    "\n",
    "words.sort() # NOTA: non ritorna NIENTE !!!!\n",
    "print(\"\")\n",
    "print(\"First word: \", words[0])\n",
    "print(\"Last word:\", words[-1])\n",
    "print(words)"
   ]
  },
  {
   "cell_type": "markdown",
   "metadata": {},
   "source": [
    "### Da fare - welldone \n",
    "\n",
    "Data la lista\n",
    "\n",
    "```python\n",
    "lista = [\"walnut\", \"eggplant\", \"lemon\", \"lime\", \"date\", \"onion\", \"nectarine\", \"endive\" ]: \n",
    "```\n",
    "\n",
    "1. Crea un'altra lista (chiamala `nuova`) contenente il primo carattere di ogni elemento di `lista`\n",
    "2. Aggiungi uno spazio a `nuova` all aposizione 4 e attacca un punto esclamativo (`'!'`) alla fine\n",
    "3. Stampa la lista\n",
    "4. Stampa il contenuto della lista unendo tutti gli elementi con uno spazio vuoto (per es usa il metodo `join`: `\"\".join(nuova)`)\n",
    "\n",
    "Dovresti ottenere:\n",
    "\n",
    "\n",
    "```\n",
    "['w', 'e', 'l', 'l', ' ', 'd', 'o', 'n', 'e', '!']\n",
    "\n",
    " well done!\n",
    "```\n"
   ]
  },
  {
   "cell_type": "code",
   "execution_count": 71,
   "metadata": {},
   "outputs": [
    {
     "name": "stdout",
     "output_type": "stream",
     "text": [
      "['w', 'e', 'l', 'l', ' ', 'd', 'o', 'n', 'e', '!']\n",
      "\n",
      " well done!\n"
     ]
    }
   ],
   "source": [
    "lista = [\"walnut\", \"eggplant\", \"lemon\", \"lime\", \"date\", \"onion\", \"nectarine\", \"endive\" ]\n",
    "\n",
    "# scrivi qui\n",
    "\n",
    "nuova = []\n",
    "nuova.append(lista[0][0])\n",
    "nuova.append(lista[1][0])\n",
    "nuova.append(lista[2][0])\n",
    "nuova.append(lista[3][0])\n",
    "nuova.append(lista[4][0])\n",
    "nuova.append(lista[5][0])\n",
    "nuova.append(lista[6][0])\n",
    "nuova.append(lista[7][0])\n",
    "\n",
    "nuova.insert(4,\" \")\n",
    "nuova.append(\"!\")\n",
    "\n",
    "print(nuova)\n",
    "print(\"\\n\", \"\".join(nuova))"
   ]
  },
  {
   "cell_type": "markdown",
   "metadata": {},
   "source": [
    "### Da fare - numlist\n",
    "\n",
    "Data la lista `lista = [10, 60, 72, 118, 11, 71, 56, 89, 120, 175]` \n",
    "\n",
    "1. trova il min, max e valore mediano (SUGGERIMENTO: ordinala ed estrai i giusti valori)\n",
    "2. crea una lista solo con gli elementi a indici pari (per es [10, 72, 11, ..], nota che \"..\" indica che lista non è completa !) e ricalcola i valori di min, max e mediana\n",
    "3. rifai lo stesso con gli elementi ad indici dispari (per es [60, 118,..])\n",
    "\n",
    "Dovresti ottenere:\n",
    "\n",
    "```bash\n",
    "lista: [10, 60, 72, 118, 11, 71, 56, 89, 120, 175]\n",
    "pari: [10, 72, 11, 56, 120]\n",
    "dispari: [60, 118, 71, 89, 175]\n",
    "\n",
    "ordinati:   [10, 11, 56, 60, 71, 72, 89, 118, 120, 175]\n",
    "ordinati pari:   [10, 11, 56, 72, 120]\n",
    "ordinati dispari:   [60, 71, 89, 118, 175]\n",
    "\n",
    "lista: Min:  10  Max. 175  Median:  72\n",
    "pari: Min:  10  Max. 120  Median:  56\n",
    "dispari: Min:  60  Max. 175  Median:  89\n",
    "\n",
    "```"
   ]
  },
  {
   "cell_type": "code",
   "execution_count": 72,
   "metadata": {
    "scrolled": true
   },
   "outputs": [
    {
     "name": "stdout",
     "output_type": "stream",
     "text": [
      "originale: [10, 60, 72, 118, 11, 71, 56, 89, 120, 175]\n",
      "pari: [10, 72, 11, 56, 120]\n",
      "dispari: [60, 118, 71, 89, 175]\n",
      "\n",
      "ordinata:   [10, 11, 56, 60, 71, 72, 89, 118, 120, 175]\n",
      "ordinata pari:   [10, 11, 56, 72, 120]\n",
      "ordinata dispari:   [60, 71, 89, 118, 175]\n",
      "\n",
      "originale: Min:  10  Max. 175  Median:  72\n",
      "pari: Min:  10  Max. 120  Median:  56\n",
      "dispari: Min:  60  Max. 175  Median:  89\n"
     ]
    }
   ],
   "source": [
    "lista = [10, 60, 72, 118, 11, 71, 56, 89, 120, 175]\n",
    "\n",
    "# scrivi qui\n",
    "\n",
    "\n",
    "pari = lista[0::2]    # prendiamo solo elementi ad indici pari\n",
    "dispari = lista[1::2] # prendiamo solo elementi ad indici dispari\n",
    "\n",
    "print(\"originale:\" , lista)\n",
    "print(\"pari:\", pari)\n",
    "print(\"dispari:\", dispari)\n",
    "\n",
    "lista.sort()\n",
    "pari.sort()\n",
    "dispari.sort()\n",
    "\n",
    "print()\n",
    "print(\"ordinata:  \" , lista)\n",
    "print(\"ordinata pari:  \" , pari)\n",
    "print(\"ordinata dispari:  \" , dispari)\n",
    "print()\n",
    "print(\"originale: Min: \", lista[0], \" Max.\" , lista[-1], \" Median: \", lista[len(lista) // 2])\n",
    "print(\"pari: Min: \", pari[0], \" Max.\" , pari[-1], \" Median: \", pari[len(pari) // 2])\n",
    "print(\"dispari: Min: \", dispari[0], \" Max.\" , dispari[-1], \" Median: \", dispari[len(dispari) // 2])"
   ]
  },
  {
   "cell_type": "markdown",
   "metadata": {},
   "source": [
    "## Prosegui\n",
    "\n",
    "Trovi ulteriori esercizi nel foglio [Liste 2](lists2.ipynb)"
   ]
  },
  {
   "cell_type": "code",
   "execution_count": null,
   "metadata": {},
   "outputs": [],
   "source": []
  }
 ],
 "metadata": {
  "celltoolbar": "Edit Metadata",
  "kernelspec": {
   "display_name": "Python 3",
   "language": "python",
   "name": "python3"
  },
  "language_info": {
   "codemirror_mode": {
    "name": "ipython",
    "version": 3
   },
   "file_extension": ".py",
   "mimetype": "text/x-python",
   "name": "python",
   "nbconvert_exporter": "python",
   "pygments_lexer": "ipython3",
   "version": "3.7.3"
  },
  "toc": {
   "base_numbering": 1,
   "nav_menu": {},
   "number_sections": false,
   "sideBar": true,
   "skip_h1_title": false,
   "title_cell": "Table of Contents",
   "title_sidebar": "Contents",
   "toc_cell": false,
   "toc_position": {
    "height": "calc(100% - 180px)",
    "left": "10px",
    "top": "150px",
    "width": "280px"
   },
   "toc_section_display": true,
   "toc_window_display": true
  }
 },
 "nbformat": 4,
 "nbformat_minor": 2
}
