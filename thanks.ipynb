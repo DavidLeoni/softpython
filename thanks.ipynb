{
 "cells": [
  {
   "cell_type": "markdown",
   "metadata": {},
   "source": [
    "# Ringraziamenti\n",
    "\n",
    "\n",
    "Questo sito è stato realizzato con stanziamenti del [Dipartimento di Ingegneria e Scienze dell’Informazione (DISI)](https://www.disi.unitn.it) dell'Università di Trento\n",
    "\n",
    "![DISI - Dipartimento Informatica -  Università di Trento](img/third-parties/logo-disi-unitn-it.jpeg)\n"
   ]
  },
  {
   "cell_type": "markdown",
   "metadata": {},
   "source": [
    "**Ringraziamo inoltre:**\n",
    "\n",
    "Il professor [Alberto Montresor](http://cricca.disi.unitn.it/montresor/) per aver consentito la realizzazione dei materiale nei seminari 2017/18\n",
    "\n",
    "![Ictdays Summercamp Promoters](img/third-parties/ictdays-summercamp-promoters.png)\n",
    "\n",
    "Il [Dipartimento di Ingegneria e Scienze dell’Informazione (DISI)](https://www.disi.unitn.it) dell'Università di Trento, [Hub Innovazione Trentino HIT](https://www.trentinoinnovation.eu) e la rete STAAR per aver consentito la realizzazione delle challenge ICTDays Summercamp [Edizione 2018](https://webmagazine.unitn.it/evento/disi/39864/ict-days-summer-camp) e [edizione 2019](https://webmagazine.unitn.it/evento/disi/66093/ict-days-summer-camp) per ragazzi delle superiori, che hanno usato il materiale del sito per affrontare diverse [sfide di Data Science](challenges.ipynb)"
   ]
  },
  {
   "cell_type": "markdown",
   "metadata": {},
   "source": [
    "![dati.trentino.it](img/third-parties/dati-trentino-small.png)&emsp; [dati.trentino.it](http://dati.trentino.it) per i dati da elaborare, e l'assistenza di Francesca Gleria e Marco Combetto che hanno anche promosso la [challenge Turismo 3.0 2018](https://softpython.readthedocs.io/it/latest/challenges/turismo-3.0/turismo-3.0-challenge.html) e [RiParco da Trento 2019](challenges/riparco-da-trento/riparco-da-trento-challenge.ipynb)"
   ]
  },
  {
   "cell_type": "markdown",
   "metadata": {},
   "source": [
    "![SpazioDati](img/third-parties/spaziodati-small.png)&emsp; [SpazioDati](http://spaziodati.eu) nelle persone di Nicola Sambin e Alessio Guerrieri per aver promosso le challenge [Business Oriented 2018](challenges/business-oriented/business-oriented-challenge.ipynb) e [A Prova di Hacker 2019](challenges/a-prova-di-hacker/a-prova-di-hacker-challenge.ipynb)  fornendo i dati sulle imprese con il servizio [Atoka.io](http://atoka.io), e l'accesso ai servizi semantici di [Dandelion](http://dandelion.eu)"
   ]
  },
  {
   "cell_type": "markdown",
   "metadata": {},
   "source": [
    "![U-Hopper - Thinkin](img/third-parties/u-hopper-thinkin-small.png)&emsp; [U-Hopper](https://u-hopper.com/) / [Thinkin](https://thinkin.io/)  nelle persone di Daniele Miorandi,  Christian Torrero, Jacopo Carreras per aver promosso le challenge [Mondiali Russia 2018](challenges/mondiali-russia-2018/mondiali-russia-2018-challenge.ipynb) e [Real Time Transport 2019](challenges/real-time-transport/real-time-transport.ipynb)\n",
    "\n"
   ]
  },
  {
   "cell_type": "markdown",
   "metadata": {},
   "source": [
    "![Agenzia del Lavoro - Engineering](challenges/lavoro-4.0/img/lavoro-4.0-sponsor-medium.png)\n",
    "\n",
    "L'[Agenzia del Lavoro - Provincia Autonoma di Trento](https://www.agenzialavoro.tn.it/) nelle persone di Laura Pedron, Sara Michelini, Paola Dossi ed [Engineering](https://www.eng.it) nelle persone di  Marco Penovich, Stefania Terlizzi, Claudio Biestri e Massimo Imparato per aver promosso la challenge 2019 [Lavoro 4.0](challenges/lavoro-4.0/lavoro-4.0-challenge.ipynb)\n"
   ]
  },
  {
   "cell_type": "markdown",
   "metadata": {},
   "source": [
    "![ICE](img/third-parties/ice-small.png) &emsp; Il professor Nicola Conci del [Dipartimento di Ingegneria e Scienze dell’Informazione (DISI)](https://www.disi.unitn.it) dell'Università di Trento  in rappresentaza del Corso di Studi in Ingegneria Informatica, delle Comunicazioni ed Elettronica (ICE)  per aver promosso la challenge [RiParco da Trento 2019](challenges/riparco-da-trento/riparco-da-trento-challenge.ipynb) e Andrea Montagner per il prezioso aiuto offerto sul capitolo computer vision.\n"
   ]
  },
  {
   "cell_type": "markdown",
   "metadata": {},
   "source": [
    "![ESA](img/third-parties/esa-raspberrypi.png) &emsp; La Raspberry Pi Foundation e l'European Space Agency per il concorso Astropi e i dati usati nel [tutorial Analytics](exercises/analytics/analytics-solution.ipynb)\n",
    "\n"
   ]
  },
  {
   "cell_type": "markdown",
   "metadata": {},
   "source": [
    "![CoderDojo Trento](img/third-parties/coderdojotrento-small.png)&emsp; Autoreferenzialmente citiamo anche [CoderDojo Trento](http://coderdojotrento.it) per i tutorial su HTML & UMap !"
   ]
  }
 ],
 "metadata": {
  "kernelspec": {
   "display_name": "Python 3",
   "language": "python",
   "name": "python3"
  },
  "language_info": {
   "codemirror_mode": {
    "name": "ipython",
    "version": 3
   },
   "file_extension": ".py",
   "mimetype": "text/x-python",
   "name": "python",
   "nbconvert_exporter": "python",
   "pygments_lexer": "ipython3",
   "version": "3.7.3"
  },
  "toc": {
   "base_numbering": 1,
   "nav_menu": {},
   "number_sections": false,
   "sideBar": true,
   "skip_h1_title": false,
   "title_cell": "Table of Contents",
   "title_sidebar": "Contents",
   "toc_cell": false,
   "toc_position": {},
   "toc_section_display": true,
   "toc_window_display": true
  }
 },
 "nbformat": 4,
 "nbformat_minor": 2
}
