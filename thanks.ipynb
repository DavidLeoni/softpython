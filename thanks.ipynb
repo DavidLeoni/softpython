{
 "cells": [
  {
   "cell_type": "markdown",
   "metadata": {},
   "source": [
    "# Ringraziamenti\n",
    "\n",
    "\n",
    "Questo sito è stato realizzato con stanziamenti del [Dipartimento di Ingegneria e Scienze dell’Informazione (DISI)](https://www.disi.unitn.it) dell'Università di Trento\n",
    "\n",
    "![](img/third-parties/logo-disi-unitn-it.jpeg)\n"
   ]
  },
  {
   "cell_type": "markdown",
   "metadata": {},
   "source": [
    "**Ringraziamo inoltre:**\n",
    "\n",
    "Il professor [Alberto Montresor](http://cricca.disi.unitn.it/montresor/) per aver consentito la realizzazione dei materiale nei seminari 2017/18\n",
    "\n",
    "![](img/third-parties/ictdays-summercamp-2018-small.png)&emsp; Il [Dipartimento di Ingegneria e Scienze dell’Informazione (DISI)](https://www.disi.unitn.it) dell'Università di Trento, [Hub Innovazione Trentino HIT](https://www.trentinoinnovation.eu) e la rete STAAR per aver consentito la realizzazione della challenge [ICTDays Summercamp 2018](https://webmagazine.unitn.it/evento/disi/39864/ict-days-summer-camp) per ragazzi delle superiori, che hanno usato il materiale del sito per affrontare diverse [sfide di Data Science](challenges.ipynb)\n",
    "\n",
    "![](img/third-parties/dati-trentino-small.png)&emsp; [dati.trentino.it](http://dati.trentino.it) per i dati da elaborare, e l'assistenza di Francesca Gleria e Marco Combetto che hanno anche promosso la [challenge Turismo 3.0](https://softpython.readthedocs.io/it/latest/challenges/turismo-3.0/turismo-3.0-challenge.html)\n",
    "\n",
    "![](img/third-parties/spaziodati-small.png)&emsp; [SpazioDati](http://spaziodati.eu) nelle persone di Nicola Sambin e Alessio Guerrieri per aver promosso la challenge [Business Oriented](challenges/business-oriented/business-oriented-challenge.ipynb) fornendo i dati sulle imprese con il servizio [Atoka.io](http://atoka.io), e l'accesso ai servizi semantici di [Dandelion](http://dandelion.eu)\n",
    "\n",
    "![](img/third-parties/u-hopper-thinkin-small.png)&emsp; [U-Hopper](https://u-hopper.com/) / [Thinkin](https://thinkin.io/) e Daniele Miorandi per aver promosso la [challenge sui Mondiali Russia 2018](challenges/mondiali-russia-2018/mondiali-russia-2018-challenge.ipynb)\n",
    "\n",
    "![](img/third-parties/esa-raspberrypi.png) &emsp; La Raspberry Pi Foundation e l'European Space Agency per il concorso Astropi e i dati usati nel [tutorial Analytics](exercises/analytics/analytics-solution.ipynb)\n",
    "\n",
    "![](img/third-parties/coderdojotrento-small.png)&emsp; Autoreferenzialmente citiamo anche [CoderDojo Trento](http://coderdojotrento.it) per i tutorial su HTML & UMap !"
   ]
  },
  {
   "cell_type": "code",
   "execution_count": null,
   "metadata": {},
   "outputs": [],
   "source": []
  }
 ],
 "metadata": {
  "kernelspec": {
   "display_name": "Python 3",
   "language": "python",
   "name": "python3"
  },
  "language_info": {
   "codemirror_mode": {
    "name": "ipython",
    "version": 3
   },
   "file_extension": ".py",
   "mimetype": "text/x-python",
   "name": "python",
   "nbconvert_exporter": "python",
   "pygments_lexer": "ipython3",
   "version": "3.5.2"
  },
  "toc": {
   "base_numbering": 1,
   "nav_menu": {},
   "number_sections": false,
   "sideBar": true,
   "skip_h1_title": false,
   "title_cell": "Table of Contents",
   "title_sidebar": "Contents",
   "toc_cell": false,
   "toc_position": {},
   "toc_section_display": true,
   "toc_window_display": false
  }
 },
 "nbformat": 4,
 "nbformat_minor": 2
}
