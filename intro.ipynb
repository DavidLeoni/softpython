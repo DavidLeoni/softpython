{
 "cells": [
  {
   "cell_type": "code",
   "execution_count": 1,
   "metadata": {
    "collapsed": false,
    "deletable": true,
    "editable": true,
    "nbsphinx": "hidden"
   },
   "outputs": [
    {
     "data": {
      "text/html": [
       "<style>\n",
       "\n",
       "    #jupman-nav {\n",
       "        position: fixed;\n",
       "        top: 10px; \n",
       "        left: 5px; \n",
       "        background: white;\n",
       "        width: 200px; \n",
       "        padding: 10px; \n",
       "        z-index: 10;\n",
       "    }\n",
       "\n",
       "    /* style=\"background: rgba(255, 255, 255, 0);\" class=\"unstyled\" */\n",
       "  \n",
       "    #jupman-toc {\n",
       "        position: fixed;\n",
       "        top: 100px; \n",
       "        left: -55px; \n",
       "        background: rgba(255, 255, 255, 0);\n",
       "        \n",
       "        height: 80%;\n",
       "        width: 200px; \n",
       "        padding: 20px; \n",
       "        z-index: 10;\n",
       "        overflow-y: scroll;        \n",
       "            /* font-size: 50%; */\n",
       "    }\n",
       "\n",
       "    \n",
       "    \n",
       "    code {\n",
       "        background-color:rgb(245, 249, 249) !important;\n",
       "    }\n",
       "    \n",
       "    \n",
       "    .jupman-nav-item {\n",
       "        font-weight:bold;\n",
       "        font-size:120%  \n",
       "    }\n",
       "    \n",
       "    .jupman-chapter-link {\n",
       "        font-size:150%;\n",
       "        margin-right:15px;        \n",
       "    }\n",
       "    \n",
       "    .jupman-chapter-link a {\n",
       "        text-decoration: none;\n",
       "    }    \n",
       "    \n",
       "    .jupman-title {\n",
       "        font-size:250%; \n",
       "        font-weight:bold        \n",
       "    }    \n",
       "        \n",
       "    .jupman-warn {    \n",
       "        background-color: #fcf2f2;        \n",
       "        border-left: 5px solid #dfb5b4;\n",
       "        padding: 1.5em;\n",
       "        font-weight:bold;\n",
       "        margin-bottom:10px;\n",
       "    }\n",
       "\n",
       "    .jupman-question {    \n",
       "        background-color: rgb(251, 231, 250);\n",
       "        border-left: 5px solid rgb(189, 151, 184);\n",
       "        padding: 1.5em;\n",
       "        font-weight:bold;\n",
       "        margin-bottom:10px;\n",
       "    }\n",
       "        \n",
       "    \n",
       "    .jupman-important {\n",
       "        background-color: rgba(255, 238, 0, 0.31);\n",
       "        border-left: 5px solid rgba(205, 208, 0, 1.0);\n",
       "        color: #000;        \n",
       "        padding: 1.5em;\n",
       "        font-weight:bold;\n",
       "        margin-bottom:10px;\n",
       "    }\n",
       "    \n",
       "    \n",
       "    #jupman-toc ul {                                                                                                                                                                           \n",
       "        list-style-type: none;                                                                                                                                                                 \n",
       "        margin-left: 5px;\n",
       "    }\n",
       "    \n",
       "    #jupman-toc li {        \n",
       "         padding-left: 3px;\n",
       "    }    \n",
       "    \n",
       "    #jupman-toc .h1 {\n",
       "        font-size:110%; \n",
       "        \n",
       "    }\n",
       "    \n",
       "    #jupman-toc .h2 {\n",
       "        font-size:100%; \n",
       "        padding-left:15px;\n",
       "    }\n",
       "\n",
       "    #jupman-toc .h3 {\n",
       "        font-size:100%; \n",
       "        padding-left:25px;\n",
       "    }\n",
       "    \n",
       "    \n",
       "    \n",
       "    #notebook-container {\n",
       "        box-shadow : none;\n",
       "\t-web-kit-box-shadow: none;\n",
       "    }\n",
       "    \n",
       "\n",
       "    #jupman-toc .toc-active {\n",
       "        background: rgba(168, 254, 255, 0.32);\n",
       "    }\n",
       "\n",
       "    .jupman-solution {       \n",
       "        padding:1px;\n",
       "    }\n",
       "\n",
       "    .jupman-solution-header {\n",
       "        display:none;\n",
       "        color: blue;\n",
       "        text-decoration: underline;\n",
       "        cursor: pointer;\n",
       "    }\n",
       " </style>\n",
       "\n",
       "<script>\n",
       "var JUPMAN_IN_JUPYTER = true;\n",
       "/*!\n",
       " * toc - jQuery Table of Contents Plugin\n",
       " * v0.3.2\n",
       " * http://projects.jga.me/toc/\n",
       " * copyright Greg Allen 2014\n",
       " * MIT License\n",
       "*/\n",
       "!function(a){a.fn.smoothScroller=function(b){b=a.extend({},a.fn.smoothScroller.defaults,b);var c=a(this);return a(b.scrollEl).animate({scrollTop:c.offset().top-a(b.scrollEl).offset().top-b.offset},b.speed,b.ease,function(){var a=c.attr(\"id\");a.length&&(history.pushState?history.pushState(null,null,\"#\"+a):document.location.hash=a),c.trigger(\"smoothScrollerComplete\")}),this},a.fn.smoothScroller.defaults={speed:400,ease:\"swing\",scrollEl:\"body,html\",offset:0},a(\"body\").on(\"click\",\"[data-smoothscroller]\",function(b){b.preventDefault();var c=a(this).attr(\"href\");0===c.indexOf(\"#\")&&a(c).smoothScroller()})}(jQuery),function(a){var b={};a.fn.toc=function(b){var c,d=this,e=a.extend({},jQuery.fn.toc.defaults,b),f=a(e.container),g=a(e.selectors,f),h=[],i=e.activeClass,j=function(b,c){if(e.smoothScrolling&&\"function\"==typeof e.smoothScrolling){b.preventDefault();var f=a(b.target).attr(\"href\");e.smoothScrolling(f,e,c)}a(\"li\",d).removeClass(i),a(b.target).parent().addClass(i)},k=function(){c&&clearTimeout(c),c=setTimeout(function(){for(var b,c=a(window).scrollTop(),f=Number.MAX_VALUE,g=0,j=0,k=h.length;k>j;j++){var l=Math.abs(h[j]-c);f>l&&(g=j,f=l)}a(\"li\",d).removeClass(i),b=a(\"li:eq(\"+g+\")\",d).addClass(i),e.onHighlight(b)},50)};return e.highlightOnScroll&&(a(window).bind(\"scroll\",k),k()),this.each(function(){var b=a(this),c=a(e.listType);g.each(function(d,f){var g=a(f);h.push(g.offset().top-e.highlightOffset);var i=e.anchorName(d,f,e.prefix);if(f.id!==i){a(\"<span/>\").attr(\"id\",i).insertBefore(g)}var l=a(\"<a/>\").text(e.headerText(d,f,g)).attr(\"href\",\"#\"+i).bind(\"click\",function(c){a(window).unbind(\"scroll\",k),j(c,function(){a(window).bind(\"scroll\",k)}),b.trigger(\"selected\",a(this).attr(\"href\"))}),m=a(\"<li/>\").addClass(e.itemClass(d,f,g,e.prefix)).append(l);c.append(m)}),b.html(c)})},jQuery.fn.toc.defaults={container:\"body\",listType:\"<ul/>\",selectors:\"h1,h2,h3\",smoothScrolling:function(b,c,d){a(b).smoothScroller({offset:c.scrollToOffset}).on(\"smoothScrollerComplete\",function(){d()})},scrollToOffset:0,prefix:\"toc\",activeClass:\"toc-active\",onHighlight:function(){},highlightOnScroll:!0,highlightOffset:100,anchorName:function(c,d,e){if(d.id.length)return d.id;var f=a(d).text().replace(/[^a-z0-9]/gi,\" \").replace(/\\s+/g,\"-\").toLowerCase();if(b[f]){for(var g=2;b[f+g];)g++;f=f+\"-\"+g}return b[f]=!0,e+\"-\"+f},headerText:function(a,b,c){return c.text()},itemClass:function(a,b,c,d){return d+\"-\"+c[0].tagName.toLowerCase()}}}(jQuery);\n",
       "\n",
       "/*\n",
       " * JUPYTER MANAGER JavaScript https://github.com/DavidLeoni/jupman \n",
       " * \n",
       " */\n",
       "\n",
       "function toggleVisibility(what){\n",
       "        var e = document.getElementById(what);\n",
       "        if(e.style.display == 'block')\n",
       "          e.style.display = 'none';\n",
       "        else\n",
       "          e.style.display = 'block';\n",
       "    };\n",
       "    \n",
       "\n",
       "function showthis(url) {\n",
       "    window.open(url, \"pres\", \"toolbar=yes,scrollbars=yes,resizable=yes,top=10,left=400,width=500,height=500\");\n",
       "    return(false);\n",
       "}\n",
       "\n",
       "var jupman = {\n",
       "    \n",
       "    isReduced : function(){\n",
       "        return $(window).width() < 924;\n",
       "    },\n",
       "    hoverToc : function(){\n",
       "        return $('#jupman-toc:hover').length != 0;\n",
       "    },\n",
       "    resize : function(){\n",
       "        if (jupman.isReduced()){\n",
       "            $(\"#jupman-toc\").hide();\n",
       "        } else {\n",
       "            $(\"#jupman-toc\").show();\n",
       "            $(\"#jupman-toc\").css(\"background\",\"rgba(255, 255, 255, 0)\");\n",
       "            \n",
       "            tocParams = {\n",
       "                \n",
       "                'selectors': 'h1,h2,h3', //elements to use as headings\n",
       "                'container': 'body', //element to find all selectors in\n",
       "                'smoothScrolling': true, //enable or disable smooth scrolling on click\n",
       "                 //doesn't work  'prefix': 'jupman-toc', //prefix for anchor tags and class names\n",
       "                //'onHighlight': function(el) {}, //called when a new section is highlighted \n",
       "                'highlightOnScroll': true, //add class to heading that is currently in focus\n",
       "                'highlightOffset': 100, //offset to trigger the next headline\n",
       "                'anchorName': function(i, heading, prefix) { //custom function for anchor name\n",
       "                    return prefix+i;\n",
       "                },\n",
       "                'headerText': function(i, heading, $heading) { //custom function building the header-item text                  \n",
       "                    return $heading.text().replace(\"¶\",\"\");\n",
       "                },\n",
       "                'itemClass': function(i, heading, $heading, prefix) { // custom function for item class\n",
       "                    return $heading[0].tagName.toLowerCase();\n",
       "                }                \n",
       "            }\n",
       "            \n",
       "            $('#jupman-toc').toc(tocParams);\n",
       "        }\n",
       "    },\n",
       "    /**\n",
       "        Hides cell input\n",
       "        \n",
       "        Renamed in 0.19\n",
       "    */    \n",
       "    hideCell : function(prefixOrRegex){\n",
       "        \n",
       "        $('.border-box-sizing .code_cell pre').filter(function() { \n",
       "                var t = $(this).text();\n",
       "                if (typeof prefixOrRegex == \"string\"){\n",
       "                    return t.indexOf(prefixOrRegex) === 0;\n",
       "                } else if ( prefixOrRegex instanceof RegExp){\n",
       "                    return t.match(prefixOrRegex);\n",
       "                } else {\n",
       "                    console.error(\"Invalid argument:\", prefixOrRegex);\n",
       "                    throw new Error(\"Invalid argument!\");\n",
       "                }\n",
       "            }).parents('div .cell .input').hide();        \n",
       "    },\n",
       "    /**\n",
       "        Hides the cell input AND output.\n",
       "        \n",
       "        @since 0.19\n",
       "    */\n",
       "    hideCellAll : function(prefix){        \n",
       "        $('.border-box-sizing .code_cell pre').filter(function() { \n",
       "                return $(this).text().indexOf(prefix) === 0; \n",
       "            }).parents('div .cell ').hide();        \n",
       "    },\n",
       "    \n",
       "    toggleVisibility: function(what){\n",
       "        var e = document.getElementById(what);\n",
       "        if(e.style.display == 'block')\n",
       "          e.style.display = 'none';\n",
       "        else\n",
       "          e.style.display = 'block';\n",
       "    },\n",
       "    \n",
       "    /**\n",
       "     *  Code common to both jupman in jupyter and ReadTheDocs\n",
       "    */\n",
       "    initCommon : function(){\n",
       "        \n",
       "        $(\".jupman-solution-header\").remove();\n",
       "        span = $('<div>');\n",
       "        span.addClass('jupman-solution-header');\n",
       "        span.text('Show/hide solution');\n",
       "        \n",
       "        span.insertBefore(\".jupman-solution\");\n",
       "        \n",
       "        \n",
       "        $(\".jupman-solution\").hide();\n",
       "        $(\".jupman-solution-header\").show();\n",
       "\n",
       "        $('.jupman-solution-header')\n",
       "            .off('click')\n",
       "            .click(function(){\n",
       "                \n",
       "                var uls = $(this).nextAll(\".jupman-solution\");             \n",
       "                var sibling = uls.eq(0);\n",
       "                          \n",
       "                sibling.slideToggle();        \n",
       "                ev.preventDefault();\n",
       "                ev.stopPropagation();\n",
       "        });\n",
       "\n",
       "    },\n",
       "\n",
       "    /**\n",
       "     *   Jupyter only instructions - doesn't run on ReadTheDocs\n",
       "     */\n",
       "    initJupyter : function(){\n",
       "        \n",
       "       var toc = $(\"<div>\").attr(\"id\", \"jupman-toc\");              \n",
       "       var indexLink = $(\"<a>\")\n",
       "                        .addClass(\"jupman-nav-item\")\n",
       "                        .attr(\"href\",\"index.html#Chapters\")\n",
       "                        .text(\"jupman\");\n",
       "       \n",
       "       var candidateTitleText = $(\".jupman-title\").text();              \n",
       "                                  \n",
       "                    \n",
       "       \n",
       "       var nav = $(\"<div>\")\n",
       "                     .attr(\"id\", \"jupman-nav\")\n",
       "                    .append(indexLink);       \n",
       "       \n",
       "       if (candidateTitleText.length !== 0){\n",
       "\n",
       "           var title = $(\"<span>\")\n",
       "                    .addClass(\"jupman-nav-item\")\n",
       "                    .css(\"padding-left\",\"8px\")\n",
       "                    .text(candidateTitleText);\n",
       "            nav.append(\"<br>\")\n",
       "                .append(\"<br>\")\n",
       "                .append(title);                                \n",
       "        }\n",
       "          \n",
       "        \n",
       "        \n",
       "       // TODO THIS HIDE STUFF DOES NOT WORK ANYMORE AFTER PORTING TO NBSPHINX \n",
       "       // WE SHOULD USE \n",
       "       // \n",
       "       jupman.hideCell(\"%%HTML\");\n",
       "       jupman.hideCell(\"import jupman\");   \n",
       "       \n",
       "        // TODO this is a bit too hacky   \n",
       "       jupman.hideCell(/from exercise(.+)_solution import \\*/)\n",
       "       \n",
       "       jupman.hideCell(\"jupman.init()\"); \n",
       "       jupman.hideCell(\"jupman.show_run(\");\n",
       "       jupman.hideCell(\"nxpd.draw(\");\n",
       "       jupman.hideCellAll(\"jupman.run(\"); \n",
       "              \n",
       "       if ($(\"#jupman-toc\").length === 0){\n",
       "           $(\"body\").append(toc);       \n",
       "       } else {\n",
       "           $(\"#jupman-toc\").replaceWith(toc);\n",
       "       }\n",
       "       \n",
       "       if ($(\"#jupman-nav\").length === 0){\n",
       "           $(\"body\").append(nav);       \n",
       "       } else {\n",
       "           $(\"#jupman-nav\").replaceWith(nav);\n",
       "       }              \n",
       "\n",
       "       \n",
       "        $( window ).resize(function() {\n",
       "            jupman.resize();\n",
       "        });\n",
       "\n",
       "\n",
       "        $(\"body\").on(\"mousemove\",function(event) {\n",
       "            if (jupman.isReduced()){\n",
       "                if (event.pageX < 50) {            \n",
       "                     $(\"#jupman-toc\").show(); \n",
       "                    $(\"#jupman-toc\").css(\"background\",\"rgba(255, 255, 255, 1.0)\");\n",
       "                } else {\n",
       "\n",
       "                    if (jupman.hoverToc()) {                    \n",
       "                    } else {\n",
       "                        $(\"#jupman-toc\").hide();                        \n",
       "                    }\n",
       "\n",
       "        /*            if ($(\"#jupman-toc\").is(\":visible\")){\n",
       "                        if (jupman.hoverToc()) {                    \n",
       "                        } else {\n",
       "                            $(\"#jupman-toc\").hide();                        \n",
       "                        }\n",
       "                    } else {\n",
       "                        if (jupman.hoverToc())\n",
       "                          show\n",
       "                      } else {\n",
       "                        $(\"#jupman-toc\").hide();                        \n",
       "                       }                 \n",
       "                    }\n",
       "          */     \n",
       "                }\n",
       "            }\n",
       "        });\n",
       " \n",
       "        \n",
       "       jupman.resize();\n",
       "       console.log(\"Finished initializing jupman.js in Jupyter Notebook.\")\n",
       "    },\n",
       "    \n",
       "    /**\n",
       "    * RTD only instructions\n",
       "    */\n",
       "    initReadTheDocs : function(){  \n",
       "        \n",
       "        console.log(\"Finished initializing jupman.js in ReadTheDocs\")        \n",
       "    },\n",
       "    \n",
       "    /**\n",
       "     * Initializes jupman.js\n",
       "     */\n",
       "    init : function(){\n",
       "\n",
       "       jupman.initCommon();\n",
       "        \n",
       "       if (typeof JUPMAN_IN_JUPYTER === \"undefined\" || !JUPMAN_IN_JUPYTER ){            \n",
       "           jupman.initReadTheDocs();\n",
       "       } else {\n",
       "           jupman.initJupyter();\n",
       "       }\n",
       "        \n",
       "    }\n",
       "}\n",
       "\n",
       "$(document).ready(jupman.init);\n",
       "\n",
       "</script>\n"
      ],
      "text/plain": [
       "<IPython.core.display.HTML object>"
      ]
     },
     "execution_count": 1,
     "metadata": {},
     "output_type": "execute_result"
    }
   ],
   "source": [
    "import jupman\n",
    "jupman.init()"
   ]
  },
  {
   "cell_type": "markdown",
   "metadata": {
    "deletable": true,
    "editable": true
   },
   "source": [
    "# Introduzione\n",
    "\n",
    "\n",
    "### Benvenuti al corso SoftPython!\n",
    "\n",
    "Docenti: David Leoni, Marco Caresia, Alessio Zamboni\n",
    "\n",
    "\n",
    "\n"
   ]
  },
  {
   "cell_type": "markdown",
   "metadata": {
    "deletable": true,
    "editable": true
   },
   "source": [
    "\n",
    "## Perchè Python?\n",
    "\n",
    "- Semplice a sufficienza per iniziare\n",
    "- Versatile, molto usato per\n",
    "    - calcolo scientifico\n",
    "    - applicazioni web\n",
    "    - scripting\n",
    "- si trova negli ambiti sia dell'industria che della ricerca\n",
    "- Licenza [open source & business friendly](https://www.python.it/doc/faq/#id35)\n",
    "    - tradotto potete vendere prodotti commerciali basati su Python senza pagare royalties\n",
    "\n",
    "\n",
    "## Audience\n",
    "- studenti UniTN con qualche base di programmazione\n",
    "\n",
    "\n",
    "## Cosa faremo nel corso\n",
    "\n",
    "1. **Introduzione a Python 3**\n",
    "2. Formati dei dati\n",
    "3. Visualizzazione dati\n",
    "4. Ricerca\n",
    "5. Integrazione dati\n",
    "6. Estrazione Dati\n",
    "7. Analitiche sui dati\n",
    "8. Applicazioni interattive\n",
    "9. Integrazione con database\n",
    "\n",
    "## Cosa _non_ faremo\n",
    "\n",
    "- teoria programmazione a oggetti\n",
    "- testing\n",
    "- algoritmi, complessità computazionale\n",
    "- performance\n",
    "    - niente terabyte di dati ...\n",
    "- debugging avanzato (pdb)\n",
    "\n",
    "\n"
   ]
  },
  {
   "cell_type": "markdown",
   "metadata": {},
   "source": [
    "## Materiale del corso\n",
    "\n",
    "Non c'è un singolo libro di testo, quanto piuttosto una serie di risorse da leggere eventualmente integrate dal presente sito. In particolare useremo i seguenti due libri, entrambi dall'approccio discorsivo e gratuiti disponibili sia online che in pdf:\n",
    "\n",
    "\n",
    "### Pensare in Python seconda edizione (Think Python): \n",
    "\n",
    "* Passo passo, adatto a principianti\n",
    "* [versione online](https://davidleoni.github.io/ThinkPythonItalian/html/index.html)\n",
    "* [zip offline](https://davidleoni.github.io/ThinkPythonItalian/thinkpython_italian_html.zip)\n",
    "* [PDF](https://github.com/DavidLeoni/ThinkPythonItalian/raw/master/thinkpython_italian.pdf)\n",
    "\n",
    "Licenza: [Creative Commons Attribuzione Non Commerciale 3.0](http://creativecommons.org/licenses/by-nc/3.0/deed.it), come riportato nella [pagina della versione originale in inglese](http://greenteapress.com/wp/think-python-2e/)\n",
    "\n",
    "\n",
    "### Immersione in Python 3 (Dive into Python 3)\n",
    "\n",
    "* più pratico, contiene tutorial più mirati (es. trattare file XML) \n",
    "* [versione online](http://gpiancastelli.altervista.org/dip3-it)\n",
    "* [zip offline](http://gpiancastelli.altervista.org/dip3-it/d/diveintopython3-it-html-latest.zip)\n",
    "* [PDF](http://gpiancastelli.altervista.org/dip3-it/d/diveintopython3-it-pdf-latest.zip)\n",
    "\n",
    "Licenza: [Creative Commons Attribuzione Condividi allo stesso modo 3.0](http://creativecommons.org/licenses/by-sa/3.0/deed.it) come riportato in fondo [al sito del libro](http://gpiancastelli.altervista.org/dip3-it/)\n",
    "\n",
    "### Dove trovare gli argomenti:\n",
    "\n",
    "I vari argomenti del corso sono listati nella [Tabellona materiale](https://docs.google.com/spreadsheets/d/1w9WzEVnmPs3de4fHsywMdhcVwuNxy5_ol24AimddbC4/edit#gid=0), in cui potete anche aggiungere dei commenti su eventuale materiale utile che avete trovato e si potrebbe aggiungere.\n",
    "\n",
    "### Stampe materiale\n",
    "\n",
    "Le stampe di alcuni capitoli selezionati vi saranno fornite all'inizio delle lezioni. Per entrambi i libri non è disponibile la versione su carta in italiano, ma c'è solo quella in inglese. Dato che comunque entrambi i libri sono gratuiti (sia in inglese che italiano) e con licenza libera, potete farvi stampare i PDF in copisteria. Se alla copisteria dell'università vi fanno storie che per questioni legali non possono stampare libri protetti dal diritto d'autore, fategli notare che sono rilasciati con licenze Creative Commons, mostrandogli i link qua sopra. Se ancora insistono, ditegli che vi manda il professor David Leoni del DISI e in caso di rivolgersi a lui (david.leoni@unitn.it)\n"
   ]
  },
  {
   "cell_type": "markdown",
   "metadata": {},
   "source": [
    "\n",
    "## Approccio e obiettivi\n",
    "\n",
    "\n",
    "**Approccio 'destrutturato':**\n",
    "- _breve_ presentazione\n",
    "- consegna tutorial, da portare avanti in relativa autonomia\n",
    "- quando avete problemi, chiedete (vedere sezione [Non funziona, che faccio ?](http://localhost:8888/notebooks/intro.ipynb#Non-funziona,-che-faccio-?))\n",
    "\n",
    "L'obiettivo del corso _non è_ imparare tutto il programma, il progetto che vi chiederò di presentare alla fine sarà personale e commisurato alle effettive capacità di ognuno, quindi:\n",
    "\n",
    "**Se avete difficoltà con le basi di programmazione:**\n",
    "\n",
    "- concentratevi di più sul libro 'Pensare in Python'\n",
    "- focalizzatevi su qualche argomento che vi interessa particolarmente (es. lettura file CSV perchè vi serve per la tesi)\n",
    "\n",
    "**Se già sapete programmare bene:**\n",
    "\n",
    "- fate gli argomenti del corso come da programma \n",
    "- se finite in fretta, eventualmente guardate materiale extra da Immersione in Python\n",
    "\n",
    "\n",
    "## Che aspettarsi\n",
    "\n",
    "### Aiuto per \n",
    "\n",
    "- Installazione\n",
    "- Comandi Python base\n",
    "- Errori logici\n",
    "- Lettura / conversione dati\n",
    "- Formati (CSV / JSON / XML / HTML)\n",
    "- Tutorial\n",
    "- Licenze dati & software\n",
    "\n",
    "- Specialties David Leoni : programmazione web, open data, Data science, Natural Language Processing \n",
    "- Specialties Marco Caresia: qualcosa di idrodinamica e grafica 3d\n",
    "\n",
    "\n",
    "### Difficile aiutare per\n",
    "\n",
    "- librerie particolari (i.e. rotazione bracci robotici con 80 gradi libertà ...)\n",
    "- statistiche avanzate\n",
    "- visualizzazioni incredibili in 3d\n"
   ]
  },
  {
   "cell_type": "markdown",
   "metadata": {},
   "source": [
    "\n",
    "\n",
    "## Esame in breve\n",
    "\n",
    "**Questa è solo una breve descrizione. Informazioni precise verranno riportate nell'[apposita pagina per la consegna del progetto](exam-project.ipynb).**\n",
    "\n",
    "* Niente orale e/o scritto\n",
    "* Solo consegna di un piccolo progetto:\n",
    "\n",
    "    1. cercare dati da una / due / tre sorgenti, con attenzione alle licenze\n",
    "    2. pulirli (data cleaning)\n",
    "    3. fare qualche analisi\n",
    "    4. fare report in [Jupyter notebook](https://jupyter.org), con qualche grafico\n",
    "\n",
    "**NOTA**: \n",
    "* per avere i crediti riconosciuti, dovete portarmi un progetto decente (= che non sembri fatto la sera prima) !\n",
    "* Se il progetto è incorretto / mancano parti, potrei chiedervi di aggiustarlo e riportarlo\n",
    "* Se non venite mai ai laboratori, il \"piccolo progetto\" potrebbe perdere l'aggettivo \"piccolo\"\n",
    "    "
   ]
  },
  {
   "cell_type": "markdown",
   "metadata": {},
   "source": [
    "\n",
    "\n",
    "## Non funziona, che faccio ? \n",
    "\n",
    "Sicuramente mentre programmi incontrerai dei problemi, e ti capiterà di fissare misteriosi messaggi di errore sullo schermo . Lo scopo di questo corso non è dare una serie di ricette da imparare a memoria e che funzionano sempre, quanto piuttosto di mettere in grado di muovere i primi passi nel mondo Python con un minimo di disinvoltura. Quindi, quando qualcosa va storto, non perderti d'animo e prova a seguire la seguente lista di passi che potrebbero aiutarti. Cerca di seguire la lista nell'ordine proposto:\n",
    "\n",
    "1. se in classe, chiedi al prof (se non in classe, vedi ultimi due punti) \n",
    "2. se in classe, chiedi al vicino che ne sa di più\n",
    "3. cerca messaggio di errore su Google\n",
    "    - rimuovi nomi o parti troppo specifici al tuo programma, come numeri di linea, nomi di file, nomi di variabili\n",
    "    - se sai l’inglese, [Stack overflow](https://stackoverflow.com) è il tuo migliore amico \n",
    "    - se non sai l’inglese: cerca nel [Forum italiano di python-it.org](http://www.python-it.org/forum) \n",
    "4. Guarda [Appendice A - Debug del libro Pensare in Python](https://davidleoni.github.io/ThinkPythonItalian/html/thinkpython2021.html)\n",
    "    - [Syntax error](https://davidleoni.github.io/ThinkPythonItalian/html/thinkpython2021.html#sec238)\n",
    "        - [Continuo a fare modifiche ma non cambia nulla.](https://davidleoni.github.io/ThinkPythonItalian/html/thinkpython2021.html#sec239)\n",
    "    - [Errori di runtime](https://davidleoni.github.io/ThinkPythonItalian/html/thinkpython2021.html##sec240)\n",
    "        - [Il programma non fa assolutamente nulla](https://davidleoni.github.io/ThinkPythonItalian/html/thinkpython2021.html##sec241)\n",
    "        - [Il programma si blocca](https://davidleoni.github.io/ThinkPythonItalian/html/thinkpython2021.html##sec242)\n",
    "        - [Ciclo infinito](https://davidleoni.github.io/ThinkPythonItalian/html/thinkpython2021.html##sec243)\n",
    "        - [Ricorsione infinita](https://davidleoni.github.io/ThinkPythonItalian/html/thinkpython2021.html##sec244)\n",
    "        - [Flusso di esecuzione](https://davidleoni.github.io/ThinkPythonItalian/html/thinkpython2021.html##sec245)\n",
    "        - [Quando eseguo il programma è sollevata un’eccezione.](https://davidleoni.github.io/ThinkPythonItalian/html/thinkpython2021.html##sec246)\n",
    "        - [Ho aggiunto talmente tante istruzioni di stampa che sono sommerso di output](https://davidleoni.github.io/ThinkPythonItalian/html/thinkpython2021.html##sec247)\n",
    "    - [Errori di semantica](https://davidleoni.github.io/ThinkPythonItalian/html/thinkpython2021.html##sec248)\n",
    "        - [Il mio programma non funziona.](#sec249)\n",
    "        - [Ho una grande e complicata espressione che non fa quello che voglio.](https://davidleoni.github.io/ThinkPythonItalian/html/thinkpython2021.html##sec250)\n",
    "        - [Ho una funzione che non restituisce quello che voglio.](https://davidleoni.github.io/ThinkPythonItalian/html/thinkpython2021.html##sec251)\n",
    "        - [Sono proprio bloccato e mi serve aiuto.](https://davidleoni.github.io/ThinkPythonItalian/html/thinkpython2021.html##sec252)\n",
    "        - [No, ho davvero bisogno di aiuto.](https://davidleoni.github.io/ThinkPythonItalian/html/thinkpython2021.html##sec253)\n",
    "5. Guarda [Tabellona materiale](https://docs.google.com/spreadsheets/d/1w9WzEVnmPs3de4fHsywMdhcVwuNxy5_ol24AimddbC4/edit#gid=0), per riferimenti a materiale che può coprire l'argomento del problema\n",
    "7. Guarda se è un problema comune già affrontato dagli studenti sul [forum del corso]()\n",
    "6. Durante il periodo del corso, manda una mail [al docente](about.ipynb#Docenti) - vedi [come porre domande](intro.ipynb#Come-porre-domande).\n",
    "7. In alternativa al prof o se il corso è finito, fatti coraggio e fai una domanda su un forum pubblico, come Stack overflow o python-it.org - vedi [come porre domande](intro.ipynb#Come-porre-domande).\n",
    "\n",
    "### Come porre domande\n",
    "\n",
    "IMPORTANTE: in classe puoi chiedere qualunque cosa quando vuoi, ma se vuoi fare domande per iscritto su Python in qualunque sede, sia esso una mail al docente o ancora di più su chat/forum pubblici (per esempio quello di [python-it](http://www.python-it.org/forum)), PRIMA LEGGI ASSOLUTAMENTE sia il regolamento del forum / chat (vedi per es. sia [Regolamento pyhon-it](http://www.python-it.org/forum/index.php?topic=2592.0) che questo [esempio di post](http://www.python-it.org/forum/index.php?topic=2580)). \n",
    "\n",
    "In sostanza, ti si chiede sempre di esprimere chiaramente le circostanze del problema, mettendo un titolo esplicativo al post / mail e dimostrando di avere speso un po' di tempo (almeno 10 min) cercando una soluzione per conto tuo. Se hai seguito le regole di cui sopra, e per sfortuna trovi programmatori scorbutici che ti rispondono male, ignorali e lascia che se la prendano con la tastiera. Con i prof di questo corso potete stare tranquilli, pur essendo programmatori sono molto pazienti :-)"
   ]
  },
  {
   "cell_type": "markdown",
   "metadata": {
    "deletable": true,
    "editable": true
   },
   "source": [
    "## Cosa facciamo oggi ? \n",
    "\n",
    "* Installazione\n",
    "* nozioni base su Python (sintassi, moduli, basi programmazione a oggetti)\n",
    "* Condivisione script online\n",
    "\n",
    "\n",
    "## Installazione\n",
    "\n",
    "Ci sono vari modi per installare Python 3 e le sue librerie, c'è la distribuzione ufficiale di Python 'liscia' come anche gestori di pacchetti (es. Anaconda) o  ambienti preconfezionati (es. Python(x,y)) che forniscono sia Python più varie librerie extra. Inoltre, una volta completata l'installazione, Python 3 contiene un comando `pip3` che permette di installare in seguito da linea di comando eventuali librerie mancanti.  \n",
    "\n",
    "Il modo migliore per scegliere cosa installare dipende da quale sistema operativo si ha e cosa ci si intende fare. In questo corso useremo Python 3 e librerie scientifiche, quindi cercheremo di creare un ambiente adatto a supportare questo scenario. \n",
    "\n",
    "<br/>\n",
    "<div class=\"alert alert-info\">\n",
    "\n",
    "**Alternative veloci online ** \n",
    "\n",
    "Se per caso hai difficoltà ad installare e sei ansioso di provare python, puoi programmare direttamente online con [Python 3 su Trinket](https://trinket.io/features/python3)\n",
    "\n",
    "Un'altra risorsa utile è [Python Tutor](http://pythontutor.com/visualize.html#py=3), che permette di eseguire una istruzione alla volta offrendo una utile visualizzazione di cosa accade 'sotto il cofano'. \n",
    "\n",
    "Puoi provare anche la [demo online di Jupiter](http://try.jupyter.org), ma non sempre è disponibile. Se riesci ad accedere, ricordati di selezionare nel men _Kernel->Change kernel->Python 3_\n",
    "`\n",
    "Qualsiasi sia l'ambiente online che usi, ricordati sempre di controllare che sia Python **3** !\n",
    "</div> \n",
    "\n",
    "<div class=\"alert alert-warning\">\n",
    "\n",
    "**Attenzione**: Prima di installare roba a caso scaricata da internet, leggete bene la seguente guida. Abbiamo cercato di renderla abbastanza generica, ma non essendoci stato possibile testare tutti i vari casi potrebbero insorgere dei problemi, se avete qualche dubbio chiedete ai mentor.\n",
    "</div>\n",
    "\n",
    "<div class=\"alert alert-warning\">\n",
    "\n",
    "**Attenzione**: Vista la varietà di metodi di installazione e il fatto che Python si trova già in molti programmi, può darsi che abbiate già Python installato senza saperlo, magari in versione 2, ma a noi serve la 3! Sovrapporre diversi ambienti Python con la stessa versione potrebbe causare problemi, di nuovo se avete qualche dubbio chiedete ai mentor. \n",
    "</div> \n",
    "\n",
    "\n",
    "\n"
   ]
  },
  {
   "cell_type": "markdown",
   "metadata": {
    "deletable": true,
    "editable": true
   },
   "source": [
    "### Installazione Windows\n",
    "\n",
    "Per Windows, consigliamo di installare la distribuzione [Anaconda per Python 3.6](https://www.anaconda.com/download/#windows), che oltre all'gestore di pacchetti nativo di Python `pip3`, fornisce anche il più generico gestore di pacchetti da linea di comando _conda_. \n",
    "\n",
    "Una volta installato, testate che funzioni così:\n",
    "\n",
    "1. cliccate sulla boccia Windows in basso a sinistra e cercate 'Anaconda Prompt'. Dovrebbe apparire una console dove inserire comandi, con scritto qualcosa come `C:\\Users\\David> `. NOTA: per lanciare i comandi di Anaconda, usate solo questa console speciale. Se userete la console di default di Windows (`cmd`), Windows non sarà in grado di  trovare python.\n",
    "\n",
    "2. Nella console di Anaconda, scrivete\n",
    "\n",
    "```bash\n",
    "conda list\n",
    "```\n",
    "Dovrebbe apparire una lista di pacchetti installati, tipo\n",
    "\n",
    "```\n",
    "# packages in environment at C:\\Users\\Jane\\AppData\\Local\\Continuum\\Anaconda3:\n",
    "#\n",
    "alabaster                 0.7.7                    py35_0  \n",
    "anaconda                  4.0.0               np110py35_0  \n",
    "anaconda-client           1.4.0                    py35_0  \n",
    "...\n",
    "numexpr                   2.5                 np110py35_0  \n",
    "numpy                     1.10.4                   py35_0  \n",
    "odo                       0.4.2                    py35_0  \n",
    "...\n",
    "yaml                      0.1.6                         0  \n",
    "zeromq                    4.1.3                         0  \n",
    "zlib                      1.2.8                         0\n",
    "\n",
    "```\n",
    "\n",
    "3. Testate Python3, scrivendo sempre nella console di Anaconda:\n",
    "\n",
    "```bash\n",
    "C:>  python3\n",
    "```\n",
    "\n",
    "Dovrebbe apparire qualcosa tipo \n",
    "\n",
    "```\n",
    "Python 3.6.3 (default, Sep 14 2017, 22:51:06) \n",
    "MSC v.1900 64 bit (Intel)[GCC 5.4.0 20160609] on win64\n",
    "Type \"help\", \"copyright\", \"credits\" or \"license\" for more information.\n",
    ">>>\n",
    "```\n",
    "\n",
    "Se vuoi una interfaccia grafica per dare comandi a Python, sempre nel menu di Windows alla voce Anaconda dovresti trovare il notebook Jupyter. \n",
    "\n",
    "\n",
    "\n",
    "\n",
    "<br/>\n",
    "<div class=\"alert alert-warning\">\n",
    "\n",
    "**Attenzione**: Se hai Anaconda, usa sempre `conda` per installare i moduli Python !\n",
    "\n",
    "Una volta che hai installato Anaconda, ti conviene sempre usare il suo gestore di pacchetti _conda_ per installare i moduli di Python. Quindi se nelle istruzioni nei prossimi tutorial vedi scritto `pip3 install qualcosa`, tu invece dovrai usare `conda install qualcosa`\n",
    "</div>\n",
    "\n"
   ]
  },
  {
   "cell_type": "markdown",
   "metadata": {
    "deletable": true,
    "editable": true
   },
   "source": [
    "### Installazione Mac\n",
    "\n",
    "Per gestire al meglio le app installate sul Mac indipendentemente da Python, in genere conviene installare un cosiddetto _gestore di pacchetti_. Ce ne sono vari, e uno tra i più popolari su Mac è [Homebrew](https://brew.sh/). Quindi suggeriamo di installare prima Homebrew e poi tramite esso installare Python 3, più eventualmente in seguito altri componenti che ci interessano. In linea di massima, per l'installazione abbiamo tradotto qua in italiano e semplificato [questa guida](https://www.digitalocean.com/community/tutorials/how-to-install-python-3-and-set-up-a-local-programming-environment-on-macos).\n",
    "\n",
    "\n",
    "<br/>\n",
    "<div class=\"alert alert-warning\">\n",
    "\n",
    "**Attenzione**: Se hai già installato un gestore di pacchetti come per esempio _Conda_ (nella distribuzione _Anaconda_), _Rudix_, _Nix_, _Pkgsrc_, _Fink_ o _MacPorts_ forse Homebrew non ti serve e ti conviene usare quello che già hai. In questi casi, chiedete ai mentor.  Se hai già _Conda/Anaconda_, può andar bene a patto di avere la versione per Python 3. \n",
    "</div>\n",
    "\n",
    "-1 Apri il Terminale\n",
    "\n",
    "Il terminale di MacOS è un'applicazione che puoi usare per accedere alla linea di comando. Come qualunque altra applicazione, la puoi trovare andando in _Finder_, navigando nella cartella _Applicazioni_, e quindi nella cartella _Accessori_. Da lì, fai doppio click sul _Terminale_ per aprirlo come ogni altra applicazione. In alternativa, puoi usare _Spotlight_ tenendo premuto i tasti _Command_ e _Spazio_ per trovare il Terminale scrivendone il nome nella barra che appare.\n",
    "\n",
    "-2 Installa Homebrew eseguendo nel terminale questo comando: \n",
    "\n",
    "```bash\n",
    "/usr/bin/ruby -e \"$(curl -fsSL https://raw.githubusercontent.com/Homebrew/install/master/install)\"\n",
    "```\n",
    "-3 Aggiungi /usr/local/bin al PATH\n",
    "\n",
    "In questo passaggio dal nome inquietante, una volta che l'installazione di Homebrew è completata, ti assicurerai che vengano sempre sempre usate le applicazioni installate con Homebrew, invece che quelle che Mac OS X potrebbe selezionare automaticamente:\n",
    "\n",
    "-3.1 Apri un nuovo Terminale.\n",
    "\n",
    "-3.2 Da dentro il terminale, digita il comando \n",
    "\n",
    "```bash \n",
    "ls -a\n",
    "```\n",
    "\n",
    "Verrà visualizzata la lista di tutti i file presenti nella cartella della home. In questi file, verifica se esiste un file con il seguente nome: `.profile` (nota il punto all'inizio):\n",
    "\n",
    "- Se esiste: salta al punto seguente\n",
    "- Se non esiste, per crearlo digita il comando seguente:\n",
    "\n",
    "    ```bash\n",
    "        touch . profile\n",
    "    ```\n",
    "    \n",
    "-3.4 Apri con text edit il file `.profile` appena creato dando il comando: \n",
    "\n",
    "```bash\n",
    "open -e .profile \n",
    "```\n",
    "\n",
    "-3.5 In text edit, aggiungi alla fine del file questa riga:\n",
    "\n",
    "```bash\n",
    "export PATH=/usr/local/bin:$PATH\n",
    "```\n",
    "-3.6 Salva e chiudi sia Text Edit che il Terminale\n",
    "\n",
    "-4 Verifica che Homebrew sia installato correttamente, digitando in un nuovo Terminale:\n",
    "\n",
    "```bash\n",
    "brew doctor\n",
    "```\n",
    "\n",
    "Se non ci sono aggiornamenti da fare, il Terminale dovrebbe mostrare:\n",
    "\n",
    "```bash\n",
    "Your system is ready to brew.\n",
    "```\n",
    "\n",
    "Altrimenti, potresti vedere un warning che consiglia di eseguire un altro comando come `brew update` per assicurarti che l'installazione di Homebrew sia aggiornata. \n",
    "\n",
    "-6  Abilita dei repository di strumenti scientifici\n",
    "Questa operazione permetterà a Homebrew di trovare in seguito varie librerie scientifiche:\n",
    "\n",
    "```bash\n",
    "brew tap homebrew/science \n",
    "```\n",
    "\n",
    "-7. Installa python3 (Ricordati il '3' !): \n",
    "\n",
    "```bash\n",
    "brew install python3\n",
    "```\n",
    "\n",
    "Assieme a Python 3, Homebrew installerà anche il gestore di pacchetti interno di Python `pip3` che useremo in seguito. \n",
    "\n",
    "-8 Verifica che Python3 sia installato correttamente. Eseguendo questo comando dovrebbe apparire la scritta  \"/usr/local/bin/python3\":\n",
    "\n",
    "```bash\n",
    "which python3\n",
    "```\n",
    "\n",
    "\n",
    "Dopodichè, prova a lanciare \n",
    "\n",
    "```bash\n",
    "python3\n",
    "```\n",
    "\n",
    "Dovresti vedere qualcosa di simile: \n",
    "\n",
    "```bash\n",
    "Python 3.6.3 (default, Nov 17 2016, 17:05:23) \n",
    "[GCC 5.4.0 20160609] on mac\n",
    "Type \"help\", \"copyright\", \"credits\" or \"license\" for more information.\n",
    ">>>\n",
    "```\n",
    "Per uscire da Python, scrivi `exit()` e invio.\n"
   ]
  },
  {
   "cell_type": "markdown",
   "metadata": {
    "deletable": true,
    "editable": true
   },
   "source": [
    "### Installazione Linux\n",
    "\n",
    "Fortunatamente, tutte le distribuzioni Linux sono già fornite con gestori di pacchetti per installare facilmente le applicazioni, per esempio in Ubuntu il gestore di pacchetti si chiama `apt-get`. Quindi possiamo usare quest'ultimo per installare Python 3,  la guida di [Immersione in Python 3, capitolo 0 - Installare Python](http://gpiancastelli.altervista.org/dip3-it/installare-python.html), per altre distribuzioni Linux [vedere questa nota](http://gpiancastelli.altervista.org/dip3-it/installare-python.html#other) o chiedere ai mentor.\n",
    "\n",
    "NOTA: in Ubuntu, installate anche `python3-venv`: \n",
    "\n",
    "```bash\n",
    "apt-get install python3-venv\n",
    "```\n",
    "\n",
    "Per verificare l'installazione, prova a lanciare \n",
    "\n",
    "```bash\n",
    "python3\n",
    "```\n",
    "\n",
    "Dovresti vedere qualcosa di simile: \n",
    "\n",
    "```bash\n",
    "Python 3.6.3 (default, Nov 17 2016, 17:05:23) \n",
    "[GCC 5.4.0 20160609] on linux\n",
    "Type \"help\", \"copyright\", \"credits\" or \"license\" for more information.\n",
    ">>>\n",
    "```"
   ]
  },
  {
   "cell_type": "markdown",
   "metadata": {
    "deletable": true,
    "editable": true
   },
   "source": [
    "\n",
    "### Installazione notebook Jupyter (tutti i sistemi operativi)\n",
    "\n",
    "Un editor comodo che si può usare per Python è Jupyter.\n",
    "\n",
    "Se hai installato Anaconda, dovresti trovarlo già nel menu di sistema. \n",
    "\n",
    "Se non lo trovi nel menu di sistema, potresti comunque averlo dalla linea di comando, verfica  aprendo un Terminale e scrivendo \n",
    "\n",
    "```bash\n",
    "jupyter notebook\n",
    "```\n",
    "\n",
    "Un browser dovrebbe aprirsi automaticamente con Jupyter. Se non parte nessun browser ma vedi un messaggio come qua sotto, allora copia l'indirizzo che vedi in un browser internet, preferibilmente Chrome, Safari o Firefox\n",
    "\n",
    "<div class=\"alert alert-warning\">\n",
    "**NOTA**: in questo caso l'indirizzo è `http://localhost:8888/?token=49d4394bac446e291c6ddaf349c9dbffcd2cdc8c848eb888`, ma il tuo sarà sicuramente diverso!\n",
    "</div>\n",
    "\n",
    "```\n",
    "da@da-TravelMate-P238-M:/SOFTPYTHON(master)$ jupyter notebook \n",
    "[I 18:18:14.669 NotebookApp] Serving notebooks from local directory: /home/da/Da/prj/softpython/prj\n",
    "[I 18:18:14.669 NotebookApp] 0 active kernels \n",
    "[I 18:18:14.669 NotebookApp] The Jupyter Notebook is running at: http://localhost:8888/?token=49d4394bac446e291c6ddaf349c9dbffcd2cdc8c848eb888\n",
    "[I 18:18:14.669 NotebookApp] Use Control-C to stop this server and shut down all kernels (twice to skip confirmation).\n",
    "[C 18:18:14.670 NotebookApp] \n",
    "    \n",
    "    Copy/paste this URL into your browser when you connect for the first time,\n",
    "    to login with a token:\n",
    "        http://localhost:8888/?token=49d4394bac446e291c6ddaf349c9dbffcd2cdc8c848eb888\n",
    "\n",
    "```\n",
    "\n",
    "Se vedi un messaggio di errore che segnala che il comando 'jupyter' non viene trovato, prova ad installare jupyter con `pip3` (il gestore di moduli nativo di Python) così:\n",
    "\n",
    "<br/>\n",
    "<div class=\"alert alert-warning\">\n",
    "\n",
    "**ATTENZIONE**: `pip3` NON è un comando Python\n",
    "\n",
    "Se vedi `>>>` sulla riga dei comandi vuol dire che devi prima uscire da Python scrivendo `exit()` e premere Invio!\n",
    "</div>\n",
    "\n",
    "\n",
    "```bash\n",
    "    pip3 install jupyter -U\n",
    "```\n",
    "\n",
    "\n",
    "<div class=\"alert alert-info\">\n",
    "\n",
    "**HELP**: Se hai problemi ad installare Jupyter, intanto che aspetti aiuto puoi provare la <a href=\"\" target=\"_blank\" href=\"https://try.jupyter.org/\">versione dimostrativa online </a>\n",
    "</div>"
   ]
  },
  {
   "cell_type": "markdown",
   "metadata": {
    "deletable": true,
    "editable": true
   },
   "source": [
    "\n",
    "## Fare progetti Python con gli ambienti virtuali\n",
    "\n",
    "Quando cominciamo un nuovo progetto in Python, di solito ci accorgiamo in fretta che bisogna estendere Python con delle librerie particolari, per esempio per disegnare grafici. Non solo, potremmo anche voler installare dei programmi Python non scritti da noi che a loro volta avranno bisogno delle loro librerie per funzionare.\n",
    "\n",
    "Ora, potremmo installare tutte queste librerie extra in un unico calderone per tutto il computer, ma ogni progetto può richiedere le sue specifiche versioni di ogni libreria, e a volte potrebbe non gradire le versioni installate da altri progetti. Quindi è PRATICAMENTE NECESSARIO  separare per bene ogni progetto e le sue librerie da quelle degli altri progetti: a tal fine si può creare un cosiddetto `virtual environment`, usando il modulo `venv`.\n",
    "\n",
    "### Creare un ambiente virtuale\n",
    "\n",
    "Supponendo che vogliamo chiamare il nostro progetto `myprj`, per creare un ambiente virtuale possiamo iniziare dando questo comando:\n",
    " \n",
    "```bash\n",
    "python3 -m venv myprj\n",
    "```\n",
    "\n",
    "Questo crea la cartella `myprj` e la riempie con tutti i file Python necessari per avere un progetto completamente isolato dal resto del computer. Ma adesso, come possiamo dire a Python che vogliamo lavorare proprio con quel progetto lì?  Dobbiamo _attivare_ l'ambiente come segue. \n",
    "\n",
    "### Attivare un ambiente virtuale\n",
    "\n",
    "Per attivare l'ambiente virtuale, dobbiamo usare comandi diversi a seconda del sistema operativo (ma sempre dal terminale)\n",
    "\n",
    "**Su Linux & Mac**: \n",
    "\n",
    "```bash\n",
    "source myprj/bin/activate\n",
    "```\n",
    "\n",
    "**Attivare environmet su Windows**:\n",
    "\n",
    "```bash\n",
    "myprj\\Scripts\\activate.bat\n",
    "```\n",
    "\n",
    "Una volta che l'ambiente è attivato, nel prompt dei comandi dovremmo vedere il nome dell'ambiente (in questo caso `mypry`) in parentesi tonde all'inizio della riga:\n",
    "```\n",
    "(myprj) directory/corrente >\n",
    "```\n",
    "\n",
    "Il prefisso ci fa sapere che l'ambiene `myprj` è correntemente attivo, perciò tutti i comandi Python che daremo useranno le impostazioni e le librerie di quell'ambiente. \n",
    "\n",
    "Nota: dentro l'ambiente virtuale, si può usare il comando `python` invece di `python3`, e `pip` invece di `pip3`, ma noi consigliamo comunque di essere espliciti e aggiungere sempre 3 così da evitare possibili confusioni.\n",
    "\n",
    "**Disattivare un ambiente**: Scrivere nella console il comando `deactivate`\n"
   ]
  },
  {
   "cell_type": "markdown",
   "metadata": {
    "deletable": true,
    "editable": true
   },
   "source": [
    "\n",
    "## Nozione base su Python\n",
    "\n",
    "Dato che provenite da vari percorsi ed è già disponibile una buona quantità di materiale di introduzione a Python (vedere [Materiale corso](intro.ipynb#materiale-del-corso)), invece di riscrivere qui una guida passo passo alle basi ci è parso più opportuno ricapitolare velocemente cose che verranno usate in seguito, mettendo opportuni link a spiegazioni estese dal libro del corso Pensare in Python. Quindi:\n",
    "\n",
    "- **Per i principianti**: se leggendo qui vi sembra tutto incredibilmente rapido, niente paura - semplicemente andate al corrispettivo link del libro Pensare in Python, leggete e provate a ripetere i comandi e gli esercizi che vedete sul libro, se non capite qualcosa chiedete pure. Se restate indietro e non riuscite a portare a termine tutti i tutorial proposti, pazienza - l'importante è uscire dal corso sapendone più di quando si è partiti ! \n",
    "\n",
    "- **Se avete già esperienza di programmazione**: se le basi vi annoiano e magari avete già una idea su cosa vorreste concentrarvi anche in vista del progetto finale, ditecelo che vi daremo qualche indicazione su come procedere.\n",
    "\n",
    "<br/>\n",
    "<div class=\"alert alert-warning\">\n",
    "\n",
    "**IMPORTANTE**: In questo corso usiamo **SOLO PYHTON 3** <br/>\n",
    "\n",
    "Se per caso ottieni comportamenti inattesi, controlla di star usando Python 3 e non il 2. Python 3 si esegue con il comando `python3`\n",
    "</div>\n",
    "\n",
    "Per avere un'idea del linguaggio, puoi guardare quasi tutti i primi capitoli di Pensare in Python:\n",
    "\n",
    "- [Pensare in Python, Capitolo 1, Lo scopo del programma](https://davidleoni.github.io/ThinkPythonItalian/html/thinkpython2002.html)\n",
    "- [Pensare in Python, Capitolo 2, Variabili, istruzioni ed espressioni](https://davidleoni.github.io/ThinkPythonItalian/html/thinkpython2003.html)\n",
    "- [Pensare in Python, Capitolo 3, Funzioni](https://davidleoni.github.io/ThinkPythonItalian/html/thinkpython2004.html)\n",
    "- [Pensare in Python, Capitolo 5, Istruzioni condizionali e ricorsione](https://davidleoni.github.io/ThinkPythonItalian/html/thinkpython2006.html) Puoi saltare la ricorsione\n",
    "- [Pensare in Python, Capitolo 6, Funzioni produttive](https://davidleoni.github.io/ThinkPythonItalian/html/thinkpython2007.html) puoi fare tutto saltando la parte 6.5 sulla ricorsione. NOTA: nel libro viene usato il termine strano 'funzioni produttive' per quelle funzioni che rituornano un valore, ed il termine ancora più strano 'funzioni vuote' per funzioni che non ritornano nulla ma fanno qualche effetto tipo stampa a video: ignora e dimentica questi termini !  \n",
    "[Pensare in Python, Capitolo 7, Iterazione](https://davidleoni.github.io/ThinkPythonItalian/html/thinkpython2008.html)\n",
    "\n",
    "\n"
   ]
  },
  {
   "cell_type": "markdown",
   "metadata": {
    "deletable": true,
    "editable": true
   },
   "source": [
    "## Principali tipi di dati Python\n",
    "\n",
    "Dato che il tema del corso è il trattamento dei dati, per cominciare ci focalizzeremo sui tipi di dati in Python. \n",
    "\n",
    "Quando leggiamo delle informazioni da una fonte esterna come un file, poi dovremo inevitabilmente incastonare i dati letti in qualche combinazione di questi tipi:\n",
    "\n",
    "| Tipo | Esempio 1 | Esempio 2 | Esempio 3|\n",
    "|--------|-----|---|----|----|\n",
    "|int|  `0`|`3`| `-5`|\n",
    "|numero in virgola mobile float| `0.0`| `3.7` | `-2.3`| \n",
    "|bool|False|True||\n",
    "|string  |`\"\"`| `\"Buon giorno\"`|`'come stai?'`|\n",
    "|list | `[]`|`[5, 8, 10]`|[`\"qualcosa\", 5, \"altro ancora\"]`|\n",
    "| dict |`{}`|`{'chiave 1':'valore 1', 'chiave 2':'valore 2'}`|`{5:'un valore stringa', 'chiave stringa':7}`|\n",
    "\n",
    "A volte, useremo tipi più complessi, per esempio i valori temporali si potrebbero mettere in oggetti di tipo `datetime` che oltre alla data vera e propria possono contenere anche il fuso orario.\n",
    "\n",
    "In quel che segue, forniremo alcuni esempi rapidi su quello che si può fare sui vari tipi di dato, mettendo i riferimenti alle spiegazioni più dettagliate dal libro Pensare in Python. \n",
    "\n",
    "<br/>\n",
    "<div class=\"alert alert-warning\">\n",
    "\n",
    "**ATTENZIONE**: La versione  di Pensare in Python online al momento manca delle figure (ma nel  PDF sono correttamente incluse)<br/>\n",
    "</div>\n",
    "\n"
   ]
  },
  {
   "cell_type": "markdown",
   "metadata": {},
   "source": [
    "### Numeri interi e con virgola\n",
    "\n",
    "Nel libro 'Pensare in Python' non c'è un vero e proprio capitolo dedicato ai calcoli numerici, che sono sparse nei primi capitoli segnalati prima. Metto qua due note velocissime:\n",
    "\n",
    "\n",
    "In Python abbiamo numeri interi:"
   ]
  },
  {
   "cell_type": "code",
   "execution_count": 2,
   "metadata": {
    "collapsed": false
   },
   "outputs": [
    {
     "data": {
      "text/plain": [
       "8"
      ]
     },
     "execution_count": 2,
     "metadata": {},
     "output_type": "execute_result"
    }
   ],
   "source": [
    "3 + 5"
   ]
  },
  {
   "cell_type": "markdown",
   "metadata": {},
   "source": [
    "La somma tra interi ovviamente ci da un intero:"
   ]
  },
  {
   "cell_type": "code",
   "execution_count": 3,
   "metadata": {
    "collapsed": false
   },
   "outputs": [
    {
     "data": {
      "text/plain": [
       "int"
      ]
     },
     "execution_count": 3,
     "metadata": {},
     "output_type": "execute_result"
    }
   ],
   "source": [
    "type(8)"
   ]
  },
  {
   "cell_type": "markdown",
   "metadata": {},
   "source": [
    "E se dividiamo interi? Ci troveremo con il tipo in virgola mobile _float_:"
   ]
  },
  {
   "cell_type": "code",
   "execution_count": 4,
   "metadata": {
    "collapsed": false
   },
   "outputs": [
    {
     "data": {
      "text/plain": [
       "0.75"
      ]
     },
     "execution_count": 4,
     "metadata": {},
     "output_type": "execute_result"
    }
   ],
   "source": [
    "3 / 4"
   ]
  },
  {
   "cell_type": "code",
   "execution_count": 5,
   "metadata": {
    "collapsed": false
   },
   "outputs": [
    {
     "data": {
      "text/plain": [
       "float"
      ]
     },
     "execution_count": 5,
     "metadata": {},
     "output_type": "execute_result"
    }
   ],
   "source": [
    "type(0.75)"
   ]
  },
  {
   "cell_type": "markdown",
   "metadata": {},
   "source": [
    "<div class=\"alert alert-warning\">\n",
    "\n",
    "**ATTENZIONE al punto !**\n",
    "\n",
    "In Python e in molti formati dati, al posto della nostra virgola si usa il formato inglese con il punto '.' <br/>\n",
    "</div>"
   ]
  },
  {
   "cell_type": "markdown",
   "metadata": {},
   "source": [
    "\n",
    "### Booleani (bool)\n",
    "\n",
    "Vedere [Pensare in Python, Capitolo 5, Istruzioni condizionali e ricorsione](https://davidleoni.github.io/ThinkPythonItalian/html/thinkpython2006.html), in particolare [Sezioni 5.2 e 5.3, Espressioni booleane](https://davidleoni.github.io/ThinkPythonItalian/html/thinkpython2006.html#sec59)\n",
    "\n",
    "I booleani rappresentano valori veri e falsi, e si possono usare per verificare quando certe condizioni avvengono.                                                                      \n",
    "                                                                     "
   ]
  },
  {
   "cell_type": "markdown",
   "metadata": {},
   "source": [
    "<div class=\"alert alert-warning\">\n",
    "\n",
    "**ATTENZIONE ai booleani diversi da True e False !**\n",
    "\n",
    "In Python, il numero `0` e altri oggetti 'nulli' (come l'oggetto `None`, la stringa vuota `\"\"` e la lista vuota `[]`) sono considerati `False`, e tutto ciò che non è 'nullo' è considerato `True`! \n",
    "</div>"
   ]
  },
  {
   "cell_type": "markdown",
   "metadata": {},
   "source": [
    "Facciamo degli esempi per mostrare quanto sopra riportato:"
   ]
  },
  {
   "cell_type": "code",
   "execution_count": 6,
   "metadata": {
    "collapsed": false
   },
   "outputs": [
    {
     "name": "stdout",
     "output_type": "stream",
     "text": [
      "sarò stampato\n"
     ]
    }
   ],
   "source": [
    "if True:\n",
    "    print(\"sarò stampato\")"
   ]
  },
  {
   "cell_type": "markdown",
   "metadata": {},
   "source": [
    "Tutto ciò che non è 'nullo' è considerato `True`, verifichiamolo per esempio con la stringa `\"ciao\"`: "
   ]
  },
  {
   "cell_type": "code",
   "execution_count": 7,
   "metadata": {
    "collapsed": false
   },
   "outputs": [
    {
     "name": "stdout",
     "output_type": "stream",
     "text": [
      "anche questo sarà stampato!!\n"
     ]
    }
   ],
   "source": [
    "if \"ciao\":\n",
    "    print(\"anche questo sarà stampato!!\")"
   ]
  },
  {
   "cell_type": "code",
   "execution_count": 8,
   "metadata": {
    "collapsed": true
   },
   "outputs": [],
   "source": [
    "if False:\n",
    "    print(\"non sarò stampato\")"
   ]
  },
  {
   "cell_type": "code",
   "execution_count": 9,
   "metadata": {
    "collapsed": false
   },
   "outputs": [],
   "source": [
    "if 0:\n",
    "    print(\"anche questo non sarà stampato\")"
   ]
  },
  {
   "cell_type": "code",
   "execution_count": 10,
   "metadata": {
    "collapsed": true
   },
   "outputs": [],
   "source": [
    "if None:\n",
    "    print(\"neppure questo sarà stampato\")"
   ]
  },
  {
   "cell_type": "code",
   "execution_count": 11,
   "metadata": {
    "collapsed": false
   },
   "outputs": [],
   "source": [
    "if \"\": # stringa vuota\n",
    "    print(\"Neanche questo sarà stampato !!!\")"
   ]
  },
  {
   "cell_type": "code",
   "execution_count": 12,
   "metadata": {
    "collapsed": true
   },
   "outputs": [],
   "source": [
    "if []: # lista vuota\n",
    "    print(\"Niente stampa!\")"
   ]
  },
  {
   "cell_type": "markdown",
   "metadata": {},
   "source": [
    "### Stringhe (string)\n",
    "\n",
    "Guardare\n",
    "- [Pensare in Python, Capitolo 8, Stringhe](https://davidleoni.github.io/ThinkPythonItalian/html/thinkpython2009.html)\n",
    "- [Pensare in Python, Capitolo 9, Giochi con le parole](https://davidleoni.github.io/ThinkPythonItalian/html/thinkpython2010.html)\n",
    "\n",
    "#### Concatenare stringhe\n",
    "\n",
    "Le stringhe sono sequenze di caratteri. Una delle cose che si fanno più frequentemente è concatenre delle stringhe:\n"
   ]
  },
  {
   "cell_type": "code",
   "execution_count": 13,
   "metadata": {
    "collapsed": false
   },
   "outputs": [
    {
     "data": {
      "text/plain": [
       "'ciao mondo'"
      ]
     },
     "execution_count": 13,
     "metadata": {},
     "output_type": "execute_result"
    }
   ],
   "source": [
    "\"ciao \" + \"mondo\""
   ]
  },
  {
   "cell_type": "markdown",
   "metadata": {},
   "source": [
    "Ma notate che quando concateniamo una stringa e un numero, Python si arrabbia:"
   ]
  },
  {
   "cell_type": "markdown",
   "metadata": {},
   "source": [
    "\"ciao \" + 5"
   ]
  },
  {
   "cell_type": "markdown",
   "metadata": {},
   "source": [
    "---------------------------------------------------------------------------\n",
    "TypeError                                 Traceback (most recent call last)\n",
    "<ipython-input-38-e219e8205f7d> in <module>()\n",
    "----> 1 \"ciao \" + 5\n",
    "\n",
    "TypeError: Can't convert 'int' object to str implicitly"
   ]
  },
  {
   "cell_type": "markdown",
   "metadata": {},
   "source": [
    "Questo succede perchè Python vuole che convertiamo esplicitamente il numero '5' in una stringa. Porrà simili lamentela anche con altri tipi di oggetti. Quindi, quando concatenate oggetti che non sono stringhe, per evitare problemi racchiudete l'oggetto da convertire nella funzione `str` come qui: "
   ]
  },
  {
   "cell_type": "code",
   "execution_count": 14,
   "metadata": {
    "collapsed": false
   },
   "outputs": [
    {
     "data": {
      "text/plain": [
       "'ciao 5'"
      ]
     },
     "execution_count": 14,
     "metadata": {},
     "output_type": "execute_result"
    }
   ],
   "source": [
    "\"ciao \" + str(5)"
   ]
  },
  {
   "cell_type": "markdown",
   "metadata": {},
   "source": [
    "### Liste (list)\n",
    "\n",
    "Guardate [Pensare in Python, Capitolo 10, Liste](https://davidleoni.github.io/ThinkPythonItalian/html/thinkpython2011.html)\n",
    "\n",
    "Ricordate che le liste sono sequenze di oggetti possibilmente eterogenei, dentro ci potete buttare di tutto, interi, stringhe, dizionari ...:\n"
   ]
  },
  {
   "cell_type": "code",
   "execution_count": 15,
   "metadata": {
    "collapsed": false
   },
   "outputs": [],
   "source": [
    "x = [2,\"ciao\", {\"a\":\"b\"}]"
   ]
  },
  {
   "cell_type": "markdown",
   "metadata": {},
   "source": [
    "\n",
    "### Dizionari (dict)\n",
    "\n",
    "I dizionari sono dei contenitori che ci consentono di abbinare dei _valori_ a delle voci dette _chiavi_. Qua faremo un esempio rapidissimo per dare un'idea, ma tu guarda [Pensare in Python, Capitolo 11, Dizionari](https://davidleoni.github.io/ThinkPythonItalian/html/thinkpython2012.html)\n",
    "\n",
    "Possiamo creare un dizionario con le graffe `{` `}`, separando le chiavi dai valori con i due punti `:`, e separando le coppie chiave/valore con la virgola `,`:"
   ]
  },
  {
   "cell_type": "code",
   "execution_count": 16,
   "metadata": {
    "collapsed": false
   },
   "outputs": [],
   "source": [
    "d = {  'chiave 1':'valore 1', 'chiave 2':'valore 2'}\n"
   ]
  },
  {
   "cell_type": "markdown",
   "metadata": {},
   "source": [
    "Per accedere ai valori, possiamo usare le chiavi tra parentesi quadre:"
   ]
  },
  {
   "cell_type": "code",
   "execution_count": 17,
   "metadata": {
    "collapsed": false
   },
   "outputs": [
    {
     "data": {
      "text/plain": [
       "'valore 1'"
      ]
     },
     "execution_count": 17,
     "metadata": {},
     "output_type": "execute_result"
    }
   ],
   "source": [
    "d['chiave 1']"
   ]
  },
  {
   "cell_type": "code",
   "execution_count": 18,
   "metadata": {
    "collapsed": false
   },
   "outputs": [
    {
     "data": {
      "text/plain": [
       "'valore 2'"
      ]
     },
     "execution_count": 18,
     "metadata": {},
     "output_type": "execute_result"
    }
   ],
   "source": [
    "d['chiave 2']"
   ]
  },
  {
   "cell_type": "markdown",
   "metadata": {
    "deletable": true,
    "editable": true
   },
   "source": [
    "### Usare metodi degli oggetti\n",
    "\n",
    "Quasi tutto in Python è un oggetto. Per esempio, le stringhe sono oggetti. Ogni tipo di oggetto ha delle azioni chiamati _metodi_ che si possono eseguire su quello oggetto. Per esempio, per le stringhe che rappresentano nomi potremmo voler rendere in maiuscolo la prima lettera: a tal fine possiamo cercare se per le stringhe ci sono giò metodi esistenti che fanno questo. Proviamo il metodo esistente  `capitalize()` sulla _stringa_ `\"trento\"` (notare che la stringa è tutta in minuscolo e _capital_ in inglese vuol anche dire 'maiuscolo' ):\n"
   ]
  },
  {
   "cell_type": "code",
   "execution_count": 19,
   "metadata": {
    "collapsed": false,
    "deletable": true,
    "editable": true
   },
   "outputs": [
    {
     "data": {
      "text/plain": [
       "'Trento'"
      ]
     },
     "execution_count": 19,
     "metadata": {},
     "output_type": "execute_result"
    }
   ],
   "source": [
    "\n",
    "\"trento\".capitalize()"
   ]
  },
  {
   "cell_type": "markdown",
   "metadata": {
    "deletable": true,
    "editable": true
   },
   "source": [
    "Python ci ha appena fatto la cortesia di rendere la prima lettera della parola in maiuscolo `'Trento'` \n",
    "\n",
    "Questa è stata una velocissima introduzione tanto per dare l'idea, ma per capire meglio gli oggetti, segui questi capitoli del libro:\n",
    "\n",
    "- [Pensare in Python, Capitolo 15, Classi e oggetti](https://davidleoni.github.io/ThinkPythonItalian/html/thinkpython2016.html)\n",
    "- [Pensare in Python, Capitolo 16, Classi e funzioni](https://davidleoni.github.io/ThinkPythonItalian/html/thinkpython2017.html)\n",
    "- [Pensare in Python, Capitolo 17, Classi e metodi](https://davidleoni.github.io/ThinkPythonItalian/html/thinkpython2017.html)\n"
   ]
  },
  {
   "cell_type": "markdown",
   "metadata": {
    "deletable": true,
    "editable": true
   },
   "source": [
    "## Condivisione online\n",
    "\n",
    "### Condivisione su Cocalc\n",
    "\n",
    "Per eseguire e lavorare collaborativamente su script online di file Python e notebook Jupyter, si può usare [Cocalc](https://cocalc.com)\n",
    "\n",
    "<div class=\"alert alert-warning\">\n",
    "\n",
    "**Attenzione**: Parte è in allestimento!\n",
    "\n",
    "In seguito metteremo screenshot su come condividere online\n",
    "</div>\n",
    "\n",
    "### Condivisione su Gihub \n",
    "\n",
    "\n",
    "Se si vuole semplicemente mostrare online file Python e versioni statiche dei notebook Jupiter, si può usare, si può usare [Github](https://github.com)\n",
    "\n",
    "<div class=\"alert alert-warning\">\n",
    "\n",
    "**Attenzione**: Parte è in allestimento!\n",
    "\n",
    "In seguito metteremo screenshot su come condividere online\n",
    "</div>\n",
    "\n",
    "\n",
    "\n"
   ]
  }
 ],
 "metadata": {
  "celltoolbar": "Edit Metadata",
  "kernelspec": {
   "display_name": "Python 3",
   "language": "python",
   "name": "python3"
  },
  "language_info": {
   "codemirror_mode": {
    "name": "ipython",
    "version": 3
   },
   "file_extension": ".py",
   "mimetype": "text/x-python",
   "name": "python",
   "nbconvert_exporter": "python",
   "pygments_lexer": "ipython3",
   "version": "3.5.2"
  }
 },
 "nbformat": 4,
 "nbformat_minor": 2
}
