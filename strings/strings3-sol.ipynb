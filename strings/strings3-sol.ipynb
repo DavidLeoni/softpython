{
 "cells": [
  {
   "cell_type": "code",
   "execution_count": 1,
   "metadata": {
    "nbsphinx": "hidden"
   },
   "outputs": [],
   "source": [
    "# Ricordati di eseguire questa cella con Shift+Invio\n",
    "\n",
    "import jupman"
   ]
  },
  {
   "cell_type": "markdown",
   "metadata": {},
   "source": [
    "# Stringhe 3 - metodi\n",
    "\n",
    "## [Scarica zip esercizi](../_static/generated/strings.zip)\n",
    "\n",
    "[Naviga file online](https://github.com/DavidLeoni/softpython-it/tree/master/strings)\n",
    "\n",
    "Ogni tipo di dati ha associati dei metodi particolari per quel tipo, vediamo quelli associati al tipo stringa (`str`)"
   ]
  },
  {
   "cell_type": "markdown",
   "metadata": {},
   "source": [
    "<div class=\"alert alert-warning\">\n",
    "\n",
    "**ATTENZIONE: TUTTI i metodi sulle stringhe generano SEMPRE una NUOVA stringa**\n",
    "\n",
    "\n",
    "L'oggetto stringa originale non viene MAI modificato (perchè le stringhe sono immutabili). \n",
    "\n",
    "</div>\n"
   ]
  },
  {
   "cell_type": "markdown",
   "metadata": {},
   "source": [
    "|Risultato|Metodo|Significato|\n",
    "|---------|------|-----------|\n",
    "|str|[str.upper()](#Esempio-upper)|Ritorna la stringa con tutti i caratteri maiuscoli|\n",
    "|str|[str.lower()](#Metodo-lower)|Ritorna la stringa con tutti i caratteri minuscoli|\n",
    "|str|[str.capitalize()](#Metodo-capitalize)|Ritorna la stringa con il primo carattere maiuscolo|\n",
    "|str|[str.strip(str)](#Metodo-strip)|Rimuove stringhe dai lati|\n",
    "|str|[str.lstrip(str)](#Metodo-lstrip)|Rimuove stringhe da sinistra|\n",
    "|str|[str.rstrip(str)](#Metodo-rstrip)|Rimuove stringhe da destra|\n",
    "|str|[str.replace(str, str)](#Metodo-replace)|Sostituisce sottostringhe|\n",
    "|bool|[str.startswith(str)](#Metodo-startswith)|Controlla se la stringa inizia con un'altra|\n",
    "|bool|[str.endswith(str)](#Metodo-endswith)|Controlla se la stringa finisce con un'altra|\n",
    "|int|str.find(str)|Ritorna la prima posizione di una sottostringa a partire da sinistra|\n",
    "|int|str.rfind(str)|Ritorna la prima posizione di una sottostringa a partire da destra|\n",
    "|int|str.count(str)|Conta il numero di occorrenze di una sottostringa|\n"
   ]
  },
  {
   "cell_type": "markdown",
   "metadata": {},
   "source": [
    "## Che fare\n",
    "\n",
    "- scompatta lo zip in una cartella, dovresti ottenere qualcosa del genere: \n",
    "\n",
    "```\n",
    "\n",
    "strings\n",
    "    strings1.ipynb    \n",
    "    strings1-sol.ipynb         \n",
    "    strings2.ipynb\n",
    "    strings2-sol.ipynb\n",
    "    strings3.ipynb\n",
    "    strings3-sol.ipynb\n",
    "    strings4.ipynb\n",
    "    strings4-sol.ipynb\n",
    "    jupman.py         \n",
    "```\n",
    "\n",
    "<div class=\"alert alert-warning\">\n",
    "\n",
    "**ATTENZIONE**: Per essere visualizzato correttamente, il file del notebook DEVE essere nella cartella szippata.\n",
    "</div>\n",
    "\n",
    "- apri il Jupyter Notebook da quella cartella. Due cose dovrebbero aprirsi, prima una console e poi un browser. Il browser dovrebbe mostrare una lista di file: naviga la lista e apri il notebook `strings1.ipynb`\n",
    "- Prosegui leggendo il file degli esercizi, ogni tanto al suo interno troverai delle scritte **ESERCIZIO**, che ti chiederanno di scrivere dei comandi Python nelle celle successive. Gli esercizi sono graduati per difficoltà, da una stellina ✪ a quattro ✪✪✪✪\n",
    "\n",
    "\n",
    "Scorciatoie da tastiera:\n",
    "\n",
    "* Per eseguire il codice Python dentro una cella di Jupyter, premi `Control+Invio`\n",
    "* Per eseguire il codice Python dentro una cella di Jupyter E selezionare la cella seguente, premi `Shift+Invio`\n",
    "* Per eseguire il codice Python dentro una cella di Jupyter E creare una nuova cella subito dopo, premi `Alt+Invio`\n",
    "* Se per caso il Notebook sembra inchiodato, prova a selezionare `Kernel -> Restart`\n",
    "\n"
   ]
  },
  {
   "cell_type": "markdown",
   "metadata": {},
   "source": [
    "## Esempio - upper\n",
    "\n",
    "Un metodo è una funzione di un oggetto che prende in ingresso l'oggetto a cui è applicata e vi fa dei calcoli. \n",
    "\n",
    "Il tipo stringa (`str`) ha metodi predefiniti come `str.upper()` che possono essere applicati agli oggetti stringa (es: `'ciao'` è un oggetto stringa). \n",
    "\n",
    "\n",
    "Il metodo `str.upper()` prende la stringa su cui è applicato  e crea una NUOVA stringa in cui tutti i caratteri sono in maiuscolo. Per applicare un metodo come `str.upper()` al particolare oggetto stringa `'ciao'`, dobbiamo scrivere \n",
    "\n",
    "```python\n",
    "'ciao'.upper()\n",
    "``` \n",
    "\n",
    "cioè dobbiamo prima scrivere l'oggetto su cui applicare il metodo (`'ciao'`), poi un punto `.` , quindi il nome del metodo seguito da parentesi tonde. Le tonde possono contenere ulteriori parametri a seconda del metodo.\n",
    "\n",
    "Esempi:"
   ]
  },
  {
   "cell_type": "code",
   "execution_count": 2,
   "metadata": {},
   "outputs": [
    {
     "data": {
      "text/plain": [
       "'CIAO'"
      ]
     },
     "execution_count": 2,
     "metadata": {},
     "output_type": "execute_result"
    }
   ],
   "source": [
    "'ciao'.upper()"
   ]
  },
  {
   "cell_type": "code",
   "execution_count": 3,
   "metadata": {},
   "outputs": [
    {
     "data": {
      "text/plain": [
       "'PROVA'"
      ]
     },
     "execution_count": 3,
     "metadata": {},
     "output_type": "execute_result"
    }
   ],
   "source": [
    "'prova'.upper()"
   ]
  },
  {
   "cell_type": "markdown",
   "metadata": {},
   "source": [
    "<div class=\"alert alert-warning\">\n",
    "\n",
    "**ATTENZIONE**: come TUTTI i metodi delle stringhe, l'oggetto stringa originale su cui è chiamato NON viene modificato. \n",
    "\n",
    "</div>\n",
    "\n",
    "Esempio:\n"
   ]
  },
  {
   "cell_type": "code",
   "execution_count": 4,
   "metadata": {},
   "outputs": [],
   "source": [
    "x = \"ciao\"\n",
    "y = x.upper()    #  genera una NUOVA stringa e la associa alla variabile y"
   ]
  },
  {
   "cell_type": "code",
   "execution_count": 5,
   "metadata": {},
   "outputs": [
    {
     "data": {
      "text/plain": [
       "'ciao'"
      ]
     },
     "execution_count": 5,
     "metadata": {},
     "output_type": "execute_result"
    }
   ],
   "source": [
    "x     # la variabile x è ancora associata alla vecchia stringa"
   ]
  },
  {
   "cell_type": "code",
   "execution_count": 6,
   "metadata": {},
   "outputs": [
    {
     "data": {
      "text/plain": [
       "'CIAO'"
      ]
     },
     "execution_count": 6,
     "metadata": {},
     "output_type": "execute_result"
    }
   ],
   "source": [
    "y     # la variabile y è associata alla nuova stringa"
   ]
  },
  {
   "cell_type": "markdown",
   "metadata": {},
   "source": [
    "Guarda lo stesso esempio in Python Tutor:"
   ]
  },
  {
   "cell_type": "code",
   "execution_count": 7,
   "metadata": {},
   "outputs": [
    {
     "name": "stdout",
     "output_type": "stream",
     "text": [
      "ciao\n",
      "CIAO\n"
     ]
    },
    {
     "data": {
      "text/html": [
       "\n",
       "        <script src=\"../_static/js/pytutor-embed.bundle.min.js\" type=\"application/javascript\"></script>\n",
       "     \n",
       "        <script id=\"json-jmdfabb985-06b0-4405-8c0a-f685b41ebb5e\" type=\"application/json\" >\n",
       "            {\"trace\": [{\"stack_to_render\": [], \"event\": \"step_line\", \"func_name\": \"<module>\", \"stdout\": \"\", \"ordered_globals\": [], \"line\": 2, \"heap\": {}, \"globals\": {}}, {\"stack_to_render\": [], \"event\": \"step_line\", \"func_name\": \"<module>\", \"stdout\": \"\", \"ordered_globals\": [\"x\"], \"line\": 3, \"heap\": {}, \"globals\": {\"x\": \"ciao\"}}, {\"stack_to_render\": [], \"event\": \"step_line\", \"func_name\": \"<module>\", \"stdout\": \"\", \"ordered_globals\": [\"x\", \"y\"], \"line\": 4, \"heap\": {}, \"globals\": {\"x\": \"ciao\", \"y\": \"CIAO\"}}, {\"stack_to_render\": [], \"event\": \"step_line\", \"func_name\": \"<module>\", \"stdout\": \"ciao\\n\", \"ordered_globals\": [\"x\", \"y\"], \"line\": 5, \"heap\": {}, \"globals\": {\"x\": \"ciao\", \"y\": \"CIAO\"}}, {\"stack_to_render\": [], \"event\": \"return\", \"func_name\": \"<module>\", \"stdout\": \"ciao\\nCIAO\\n\", \"ordered_globals\": [\"x\", \"y\"], \"line\": 5, \"heap\": {}, \"globals\": {\"x\": \"ciao\", \"y\": \"CIAO\"}}], \"code\": \" \\nx = \\\"ciao\\\"\\ny = x.upper()\\nprint(x)\\nprint(y)\"}\n",
       "        </script>\n",
       "        <div id=\"jmdfabb985-06b0-4405-8c0a-f685b41ebb5e\" class=\"pytutorVisualizer\"> </div>\n",
       " \n",
       "        <style>\n",
       "        .vizLayoutTd {\n",
       "            background-color: #fff !important;\n",
       "        }\n",
       "\n",
       "        #pyStdout {            \n",
       "            min-height:25px;\n",
       "        }\n",
       "\n",
       "        /* 'Edit this code' link, hiding because replaces browser tab !!!*/\n",
       "        #editCodeLinkDiv {\n",
       "            display:none;  \n",
       "        }\n",
       "        </style>   \n",
       "                            \n",
       "        <script>\n",
       "        (function(){\n",
       "\n",
       "            var trace = JSON.parse(document.getElementById('json-jmdfabb985-06b0-4405-8c0a-f685b41ebb5e').innerHTML);                                        \n",
       "            // NOTE 1: id without #\n",
       "            // NOTE 2 - maybe there are more predictable ways, but this will work anyway\n",
       "            //        - id should be number\n",
       "            visualizerIdOverride = Math.trunc(Math.random() * 100000000000)\n",
       "            addVisualizerToPage(trace, 'jmdfabb985-06b0-4405-8c0a-f685b41ebb5e',{'embeddedMode' : false,\n",
       "                                             'visualizerIdOverride':visualizerIdOverride})  \n",
       "            \n",
       "            \n",
       "            // set overflow for pytuts - need to do in python as css \n",
       "            // does not allow parent selection\n",
       "            var pytuts = $('.pytutorVisualizer')\n",
       "            pytuts.closest('div.output_html.rendered_html.output_result')\n",
       "                    .css('overflow-x', 'visible')\n",
       "        \n",
       "            //pytuts.closest('div.output_html.rendered_html.output_result')\n",
       "            //      .css('background-color','red')                \n",
       "            \n",
       "        })()\n",
       "        </script>\n",
       "                \n",
       "                "
      ],
      "text/plain": [
       "<IPython.core.display.HTML object>"
      ]
     },
     "execution_count": 7,
     "metadata": {},
     "output_type": "execute_result"
    }
   ],
   "source": [
    "x = \"ciao\"\n",
    "y = x.upper()\n",
    "print(x)\n",
    "print(y)\n",
    "\n",
    "jupman.pytut()"
   ]
  },
  {
   "cell_type": "markdown",
   "metadata": {},
   "source": [
    "## Esercizio - cammina\n",
    "\n",
    "Scrivere del codice che data una stringa `x` (per es: `x='cammina'`) stampa due volta la riga \n",
    "\n",
    "```\n",
    "cammina CAMMINA cammina CAMMINA\n",
    "cammina CAMMINA cammina CAMMINA\n",
    "```\n",
    "\n",
    "* NON creare nuove variabili\n",
    "* il tuo codice deve funzionare con qualsiasi stringa"
   ]
  },
  {
   "cell_type": "code",
   "execution_count": 8,
   "metadata": {},
   "outputs": [
    {
     "name": "stdout",
     "output_type": "stream",
     "text": [
      "cammina CAMMINA cammina CAMMINA\n",
      "cammina CAMMINA cammina CAMMINA\n"
     ]
    }
   ],
   "source": [
    "x = 'cammina'\n",
    "\n",
    "print(x, x.upper(), x, x.upper())\n",
    "print(x, x.upper(), x, x.upper())"
   ]
  },
  {
   "cell_type": "markdown",
   "metadata": {},
   "source": [
    "**Help**:  Se non sei sicuro riguardo a un metodo (per esempio `strip`), puoi chiedere aiuto a Python in questo modo:\n",
    "\n",
    "<div class=\"alert alert-warning\">\n",
    "\n",
    "**ATTENZIONE: con help dopo il nome del metodo NON ci sono parentesi !!**\n",
    "\n",
    "</div>\n"
   ]
  },
  {
   "cell_type": "code",
   "execution_count": 9,
   "metadata": {},
   "outputs": [
    {
     "name": "stdout",
     "output_type": "stream",
     "text": [
      "Help on built-in function strip:\n",
      "\n",
      "strip(...) method of builtins.str instance\n",
      "    S.strip([chars]) -> str\n",
      "    \n",
      "    Return a copy of the string S with leading and trailing\n",
      "    whitespace removed.\n",
      "    If chars is given and not None, remove characters in chars instead.\n",
      "\n"
     ]
    }
   ],
   "source": [
    "help(\"ciao\".strip)\n"
   ]
  },
  {
   "cell_type": "markdown",
   "metadata": {},
   "source": [
    "## Metodo lower\n",
    "\n",
    "Ritorna la stringa con tutti i caratteri minuscoli\n"
   ]
  },
  {
   "cell_type": "code",
   "execution_count": 10,
   "metadata": {},
   "outputs": [
    {
     "name": "stdout",
     "output_type": "stream",
     "text": [
      "ciao mondo\n"
     ]
    }
   ],
   "source": [
    "stringa = \"ciAo MonDo\"\n",
    "\n",
    "altra_stringa = stringa.lower()\n",
    "\n",
    "print(altra_stringa)\n"
   ]
  },
  {
   "cell_type": "code",
   "execution_count": 11,
   "metadata": {},
   "outputs": [
    {
     "name": "stdout",
     "output_type": "stream",
     "text": [
      "ciAo MonDo\n"
     ]
    }
   ],
   "source": [
    "print(stringa)  # non è cambiata"
   ]
  },
  {
   "cell_type": "markdown",
   "metadata": {},
   "source": [
    "### Esercizio - lowermezzo\n",
    "\n",
    "Scrivi del codice che data una stringa qualsiasi `x` di lunghezza dispari, stampa una nuova stringa uguale a `x` eccetto al carattere in mezzo che deve essere in minuscolo.\n",
    "\n",
    "* Il tuo codice deve funzionare con qualunque stringa !\n",
    "* **SUGGERIMENTO**: per calcolare la posizione del carattere in mezzo, usa la divisione intera con l'operatore `//`\n",
    "\n",
    "Esempi:\n",
    "\n",
    "Dato \n",
    "\n",
    "```python\n",
    "x = 'ASCENSORE'\n",
    "```\n",
    "\n",
    "deve stampare\n",
    "\n",
    "`ASCEnSORE`\n",
    "\n",
    "Dato \n",
    "\n",
    "```python\n",
    "x = 'LAMPADA'\n",
    "```\n",
    "\n",
    "deve stampare\n",
    "\n",
    "`LAMpADA`\n"
   ]
  },
  {
   "cell_type": "code",
   "execution_count": 12,
   "metadata": {},
   "outputs": [
    {
     "name": "stdout",
     "output_type": "stream",
     "text": [
      "ASCEnSORE\n"
     ]
    }
   ],
   "source": [
    "    #012345678\n",
    "x = 'ASCENSORE'\n",
    "k = len(x) // 2\n",
    "\n",
    "print(x[:k] + x[k].lower() + x[k+1:])"
   ]
  },
  {
   "cell_type": "markdown",
   "metadata": {},
   "source": [
    "## Metodo capitalize"
   ]
  },
  {
   "cell_type": "markdown",
   "metadata": {},
   "source": [
    "Il metodo `capitalize()` crea una NUOVA stringa avente solo il PRIMO carattere in maiuscolo:"
   ]
  },
  {
   "cell_type": "code",
   "execution_count": 13,
   "metadata": {},
   "outputs": [
    {
     "data": {
      "text/plain": [
       "'Ciao'"
      ]
     },
     "execution_count": 13,
     "metadata": {},
     "output_type": "execute_result"
    }
   ],
   "source": [
    "\"ciao\".capitalize()"
   ]
  },
  {
   "cell_type": "code",
   "execution_count": 14,
   "metadata": {},
   "outputs": [
    {
     "data": {
      "text/plain": [
       "'Mondo'"
      ]
     },
     "execution_count": 14,
     "metadata": {},
     "output_type": "execute_result"
    }
   ],
   "source": [
    "\"mondo\".capitalize()"
   ]
  },
  {
   "cell_type": "code",
   "execution_count": 15,
   "metadata": {},
   "outputs": [],
   "source": [
    "x = 'capra'\n",
    "y = 'capra'.capitalize()"
   ]
  },
  {
   "cell_type": "code",
   "execution_count": 16,
   "metadata": {},
   "outputs": [
    {
     "data": {
      "text/plain": [
       "'capra'"
      ]
     },
     "execution_count": 16,
     "metadata": {},
     "output_type": "execute_result"
    }
   ],
   "source": [
    "x      #  x rimane associata al vecchio valore"
   ]
  },
  {
   "cell_type": "code",
   "execution_count": 17,
   "metadata": {},
   "outputs": [
    {
     "data": {
      "text/plain": [
       "'Capra'"
      ]
     },
     "execution_count": 17,
     "metadata": {},
     "output_type": "execute_result"
    }
   ],
   "source": [
    "y      #  y viene associata alla nuova stringa"
   ]
  },
  {
   "cell_type": "markdown",
   "metadata": {},
   "source": [
    "### Esercizio - Vostra Eccellenza\n",
    "\n",
    "\n"
   ]
  },
  {
   "cell_type": "markdown",
   "metadata": {},
   "source": [
    "Scrivere del codice che date due stringhe qualsiasi `x` e `y` restituisce le due stringhe concatenate, separandole con uno spazio ed entrambe tutte in minuscolo eccetto le rispettive prime lettere che devono essere maiuscole.\n",
    "\n",
    "Esempio 1 - dati:\n",
    "\n",
    "```python\n",
    "x = 'vosTRA'\n",
    "y = 'ecCeLLeNza'\n",
    "```\n",
    "\n",
    "deve stampare:\n",
    "\n",
    "```\n",
    "Vostra Eccellenza\n",
    "```\n",
    "\n",
    "Esempio 2 - dati:\n",
    "\n",
    "```python\n",
    "x = 'sUa'\n",
    "y = 'maEStà'\n",
    "```\n",
    "\n",
    "deve stampare:\n",
    "\n",
    "```\n",
    "Sua Maestà\n",
    "```\n"
   ]
  },
  {
   "cell_type": "raw",
   "id": "declared-ethics",
   "metadata": {
    "format": "text/html"
   },
   "source": [
    "<a  class=\"jupman-sol jupman-sol-toggler\" \n",
    " onclick=\"jupman.toggleSolution(this);\" \n",
    " data-jupman-show=\"Mostra soluzione\" data-jupman-hide=\"Nascondi\">Mostra soluzione</a><div class=\"jupman-sol jupman-sol-code\" style=\"display:none\">  "
   ]
  },
  {
   "cell_type": "code",
   "execution_count": 18,
   "metadata": {},
   "outputs": [
    {
     "name": "stdout",
     "output_type": "stream",
     "text": [
      "Vostra Eccellenza\n"
     ]
    }
   ],
   "source": [
    "x,y = 'vosTRA', 'ecCeLLeNza'\n",
    "#x,y = 'sUa', 'maEStà'\n",
    "\n",
    "# scrivi qui\n",
    "\n",
    "print(x.capitalize() + \" \" + y.capitalize())"
   ]
  },
  {
   "cell_type": "raw",
   "id": "recognized-evolution",
   "metadata": {
    "format": "text/html"
   },
   "source": [
    "</div>"
   ]
  },
  {
   "cell_type": "code",
   "execution_count": 18,
   "metadata": {},
   "outputs": [
    {
     "name": "stdout",
     "output_type": "stream",
     "text": [
      "Vostra Eccellenza\n"
     ]
    }
   ],
   "source": [
    "x,y = 'vosTRA', 'ecCeLLeNza'\n",
    "#x,y = 'sUa', 'maEStà'\n",
    "\n",
    "# scrivi qui\n",
    "\n"
   ]
  },
  {
   "cell_type": "markdown",
   "metadata": {},
   "source": [
    "## Metodo strip\n",
    "\n",
    "Elimina spazi bianchi, tab e ritorni a capo dalle _estremità_ della stringa. In genere, questo insieme di caratteri viene definito _blank_\n",
    "\n",
    "**NOTA**: NON rimuove i _blank_ tra le parole della stringa! Solo quelli all'estremità destra e sinistra."
   ]
  },
  {
   "cell_type": "code",
   "execution_count": 19,
   "metadata": {},
   "outputs": [],
   "source": [
    "x = ' \\t\\n\\n\\t ciao mondo \\t  '   # alle estremità abbiamo messo spazi bianchi, tab e ritorni a capo"
   ]
  },
  {
   "cell_type": "code",
   "execution_count": 20,
   "metadata": {},
   "outputs": [
    {
     "data": {
      "text/plain": [
       "' \\t\\n\\n\\t ciao mondo \\t  '"
      ]
     },
     "execution_count": 20,
     "metadata": {},
     "output_type": "execute_result"
    }
   ],
   "source": [
    "x"
   ]
  },
  {
   "cell_type": "code",
   "execution_count": 21,
   "metadata": {},
   "outputs": [
    {
     "name": "stdout",
     "output_type": "stream",
     "text": [
      " \t\n",
      "\n",
      "\t ciao mondo \t  \n"
     ]
    }
   ],
   "source": [
    "print(x)"
   ]
  },
  {
   "cell_type": "code",
   "execution_count": 22,
   "metadata": {},
   "outputs": [
    {
     "data": {
      "text/plain": [
       "20"
      ]
     },
     "execution_count": 22,
     "metadata": {},
     "output_type": "execute_result"
    }
   ],
   "source": [
    "len(x)   # ricorda che i caratteri speciali come \\t e \\n occupano 1 carattere"
   ]
  },
  {
   "cell_type": "code",
   "execution_count": 23,
   "metadata": {},
   "outputs": [],
   "source": [
    "y = x.strip()"
   ]
  },
  {
   "cell_type": "code",
   "execution_count": 24,
   "metadata": {},
   "outputs": [
    {
     "data": {
      "text/plain": [
       "'ciao mondo'"
      ]
     },
     "execution_count": 24,
     "metadata": {},
     "output_type": "execute_result"
    }
   ],
   "source": [
    "y"
   ]
  },
  {
   "cell_type": "code",
   "execution_count": 25,
   "metadata": {},
   "outputs": [
    {
     "name": "stdout",
     "output_type": "stream",
     "text": [
      "ciao mondo\n"
     ]
    }
   ],
   "source": [
    "print(y)"
   ]
  },
  {
   "cell_type": "code",
   "execution_count": 26,
   "metadata": {},
   "outputs": [
    {
     "data": {
      "text/plain": [
       "10"
      ]
     },
     "execution_count": 26,
     "metadata": {},
     "output_type": "execute_result"
    }
   ],
   "source": [
    "len(y)"
   ]
  },
  {
   "cell_type": "code",
   "execution_count": 27,
   "metadata": {},
   "outputs": [
    {
     "data": {
      "text/plain": [
       "' \\t\\n\\n\\t ciao mondo \\t  '"
      ]
     },
     "execution_count": 27,
     "metadata": {},
     "output_type": "execute_result"
    }
   ],
   "source": [
    "x      # IMPORTANTE: x è ancora associato alla vecchia stringa !"
   ]
  },
  {
   "cell_type": "markdown",
   "metadata": {},
   "source": [
    "## Metodo lstrip\n",
    "\n",
    "Elimina spazi bianchi, tab e ritorni a capo dall' _estremità sinistra_ della stringa. \n",
    "\n",
    "**NOTA**: NON rimuove i _blank_ tra le parole della stringa! Solo quelli all'estremità sinistra."
   ]
  },
  {
   "cell_type": "code",
   "execution_count": 28,
   "metadata": {},
   "outputs": [],
   "source": [
    "x = '\\n \\t la strada \\t '"
   ]
  },
  {
   "cell_type": "code",
   "execution_count": 29,
   "metadata": {},
   "outputs": [
    {
     "data": {
      "text/plain": [
       "'\\n \\t la strada \\t '"
      ]
     },
     "execution_count": 29,
     "metadata": {},
     "output_type": "execute_result"
    }
   ],
   "source": [
    "x"
   ]
  },
  {
   "cell_type": "code",
   "execution_count": 30,
   "metadata": {},
   "outputs": [
    {
     "data": {
      "text/plain": [
       "16"
      ]
     },
     "execution_count": 30,
     "metadata": {},
     "output_type": "execute_result"
    }
   ],
   "source": [
    "len(x)"
   ]
  },
  {
   "cell_type": "code",
   "execution_count": 31,
   "metadata": {},
   "outputs": [],
   "source": [
    "y = x.lstrip()"
   ]
  },
  {
   "cell_type": "code",
   "execution_count": 32,
   "metadata": {},
   "outputs": [
    {
     "data": {
      "text/plain": [
       "'la strada \\t '"
      ]
     },
     "execution_count": 32,
     "metadata": {},
     "output_type": "execute_result"
    }
   ],
   "source": [
    "y"
   ]
  },
  {
   "cell_type": "code",
   "execution_count": 33,
   "metadata": {},
   "outputs": [
    {
     "data": {
      "text/plain": [
       "12"
      ]
     },
     "execution_count": 33,
     "metadata": {},
     "output_type": "execute_result"
    }
   ],
   "source": [
    "len(y)"
   ]
  },
  {
   "cell_type": "code",
   "execution_count": 34,
   "metadata": {},
   "outputs": [
    {
     "data": {
      "text/plain": [
       "'\\n \\t la strada \\t '"
      ]
     },
     "execution_count": 34,
     "metadata": {},
     "output_type": "execute_result"
    }
   ],
   "source": [
    "x       # IMPORTANTE: x è ancora associato alla vecchia stringa !"
   ]
  },
  {
   "cell_type": "markdown",
   "metadata": {},
   "source": [
    "## Metodo rstrip\n",
    "\n",
    "Elimina spazi bianchi, tab e ritorni a capo dall' _estremità destra_ della stringa. \n",
    "\n",
    "**NOTA**: NON rimuove i _blank_ tra le parole della stringa! Solo quelli all'estremità destra."
   ]
  },
  {
   "cell_type": "code",
   "execution_count": 35,
   "metadata": {},
   "outputs": [],
   "source": [
    "x = '\\n \\t il faro \\t '"
   ]
  },
  {
   "cell_type": "code",
   "execution_count": 36,
   "metadata": {},
   "outputs": [
    {
     "data": {
      "text/plain": [
       "'\\n \\t il faro \\t '"
      ]
     },
     "execution_count": 36,
     "metadata": {},
     "output_type": "execute_result"
    }
   ],
   "source": [
    "x"
   ]
  },
  {
   "cell_type": "code",
   "execution_count": 37,
   "metadata": {},
   "outputs": [
    {
     "data": {
      "text/plain": [
       "14"
      ]
     },
     "execution_count": 37,
     "metadata": {},
     "output_type": "execute_result"
    }
   ],
   "source": [
    "len(x)"
   ]
  },
  {
   "cell_type": "code",
   "execution_count": 38,
   "metadata": {},
   "outputs": [],
   "source": [
    "y = x.rstrip()"
   ]
  },
  {
   "cell_type": "code",
   "execution_count": 39,
   "metadata": {},
   "outputs": [
    {
     "data": {
      "text/plain": [
       "'\\n \\t il faro'"
      ]
     },
     "execution_count": 39,
     "metadata": {},
     "output_type": "execute_result"
    }
   ],
   "source": [
    "y"
   ]
  },
  {
   "cell_type": "code",
   "execution_count": 40,
   "metadata": {},
   "outputs": [
    {
     "data": {
      "text/plain": [
       "11"
      ]
     },
     "execution_count": 40,
     "metadata": {},
     "output_type": "execute_result"
    }
   ],
   "source": [
    "len(y)"
   ]
  },
  {
   "cell_type": "code",
   "execution_count": 41,
   "metadata": {},
   "outputs": [
    {
     "data": {
      "text/plain": [
       "'\\n \\t il faro \\t '"
      ]
     },
     "execution_count": 41,
     "metadata": {},
     "output_type": "execute_result"
    }
   ],
   "source": [
    "x       # IMPORTANTE: x è ancora associato alla vecchia stringa !"
   ]
  },
  {
   "cell_type": "markdown",
   "metadata": {},
   "source": [
    "### Esercizio - hatespace\n",
    "\n",
    "Data una stringa `x` che può contenere dei _blank_ (spazi, caratteri di controllo come `\\t` e `\\n`, ...) all'inizio e alla fine, scrivi del codice che stampa la stringa senza i _blank_ e le stringhe `INIZIO` e `FINE` alle estremità.\n",
    "\n",
    "Esempio - dato:\n",
    "\n",
    "```python\n",
    "x = ' \\t  \\n \\n hatespace\\n   \\t \\n'\n",
    "```\n",
    "\n",
    "stampa:\n",
    "\n",
    "```\n",
    "INIZIOhatespaceFINE\n",
    "```\n"
   ]
  },
  {
   "cell_type": "raw",
   "id": "ongoing-domain",
   "metadata": {
    "format": "text/html"
   },
   "source": [
    "<a  class=\"jupman-sol jupman-sol-toggler\" \n",
    " onclick=\"jupman.toggleSolution(this);\" \n",
    " data-jupman-show=\"Mostra soluzione\" data-jupman-hide=\"Nascondi\">Mostra soluzione</a><div class=\"jupman-sol jupman-sol-code\" style=\"display:none\">  "
   ]
  },
  {
   "cell_type": "code",
   "execution_count": 42,
   "metadata": {},
   "outputs": [
    {
     "name": "stdout",
     "output_type": "stream",
     "text": [
      "INIZIOhatespaceFINE\n"
     ]
    }
   ],
   "source": [
    "# scrivi qui\n",
    "\n",
    "x = ' \\t  \\n \\n hatespace\\n   \\t \\n'\n",
    "\n",
    "print('INIZIO' + x.strip() + 'FINE')"
   ]
  },
  {
   "cell_type": "raw",
   "id": "latin-woman",
   "metadata": {
    "format": "text/html"
   },
   "source": [
    "</div>"
   ]
  },
  {
   "cell_type": "code",
   "execution_count": 42,
   "metadata": {},
   "outputs": [
    {
     "name": "stdout",
     "output_type": "stream",
     "text": [
      "INIZIOhatespaceFINE\n"
     ]
    }
   ],
   "source": [
    "# scrivi qui\n",
    "\n"
   ]
  },
  {
   "cell_type": "markdown",
   "metadata": {},
   "source": [
    "## Metodo replace\n",
    "\n",
    "`str.replace` prende due stringhe, e restituisce una NUOVA stringa ricavata sostituendo nella stringa su cui è chiamata tutte le occorrenze del primo parametero stringa con il secondo.\n",
    "\n",
    "Esempio:"
   ]
  },
  {
   "cell_type": "code",
   "execution_count": 43,
   "metadata": {},
   "outputs": [
    {
     "data": {
      "text/plain": [
       "'il trono percorro'"
      ]
     },
     "execution_count": 43,
     "metadata": {},
     "output_type": "execute_result"
    }
   ],
   "source": [
    "\"il treno percorre\".replace('re', 'ro')"
   ]
  },
  {
   "cell_type": "code",
   "execution_count": 44,
   "metadata": {},
   "outputs": [
    {
     "data": {
      "text/plain": [
       "'alberellini bellini'"
      ]
     },
     "execution_count": 44,
     "metadata": {},
     "output_type": "execute_result"
    }
   ],
   "source": [
    "\"alberello bello\".replace('llo', 'llini')"
   ]
  },
  {
   "cell_type": "code",
   "execution_count": 45,
   "metadata": {},
   "outputs": [
    {
     "data": {
      "text/plain": [
       "'parlare e brindare'"
      ]
     },
     "execution_count": 45,
     "metadata": {},
     "output_type": "execute_result"
    }
   ],
   "source": [
    "\"parlare e brindare\".replace('ARE', 'iamo')  # se cerchiamo maiuscole qua non le troveremo"
   ]
  },
  {
   "cell_type": "code",
   "execution_count": 46,
   "metadata": {},
   "outputs": [
    {
     "data": {
      "text/plain": [
       "'PARLIAMO E BRINDIAMO'"
      ]
     },
     "execution_count": 46,
     "metadata": {},
     "output_type": "execute_result"
    }
   ],
   "source": [
    "\"PARLARE E BRINDARE\".replace('ARE', 'IAMO')  # ma qua sì"
   ]
  },
  {
   "cell_type": "markdown",
   "metadata": {},
   "source": [
    "Come sempre per le stringhe, replace NON modifica la stringa su cui è chiamato:"
   ]
  },
  {
   "cell_type": "code",
   "execution_count": 47,
   "metadata": {},
   "outputs": [],
   "source": [
    "x = \"sulla panca\""
   ]
  },
  {
   "cell_type": "code",
   "execution_count": 48,
   "metadata": {},
   "outputs": [],
   "source": [
    "y = x.replace('panca', 'panca la capra campa')"
   ]
  },
  {
   "cell_type": "code",
   "execution_count": 49,
   "metadata": {},
   "outputs": [
    {
     "data": {
      "text/plain": [
       "'sulla panca la capra campa'"
      ]
     },
     "execution_count": 49,
     "metadata": {},
     "output_type": "execute_result"
    }
   ],
   "source": [
    "y"
   ]
  },
  {
   "cell_type": "code",
   "execution_count": 50,
   "metadata": {},
   "outputs": [
    {
     "data": {
      "text/plain": [
       "'sulla panca'"
      ]
     },
     "execution_count": 50,
     "metadata": {},
     "output_type": "execute_result"
    }
   ],
   "source": [
    "x  # IMPORTANTE: x è ancora associato alla vecchia stringa !"
   ]
  },
  {
   "cell_type": "markdown",
   "metadata": {},
   "source": [
    "### Esercizio - sostituisci\n",
    "\n",
    "Data una stringa `x`, scrivi del codice per stampare una stringa come `x` ma con tutte le occorrenze di `bab` sostituite da `dada`"
   ]
  },
  {
   "cell_type": "markdown",
   "metadata": {},
   "source": [
    "Esempio - dati:\n",
    "\n",
    "```python\n",
    "x = 'kljsfsdbabòkkrbabej'\n",
    "```\n",
    "\n",
    "Dovrebbe stampare:\n",
    "\n",
    "```bash\n",
    "kljsfsddadaòkkrdadaej\n",
    "```"
   ]
  },
  {
   "cell_type": "raw",
   "id": "aggressive-brooklyn",
   "metadata": {
    "format": "text/html"
   },
   "source": [
    "<a  class=\"jupman-sol jupman-sol-toggler\" \n",
    " onclick=\"jupman.toggleSolution(this);\" \n",
    " data-jupman-show=\"Mostra soluzione\" data-jupman-hide=\"Nascondi\">Mostra soluzione</a><div class=\"jupman-sol jupman-sol-code\" style=\"display:none\">  "
   ]
  },
  {
   "cell_type": "code",
   "execution_count": 51,
   "metadata": {},
   "outputs": [
    {
     "name": "stdout",
     "output_type": "stream",
     "text": [
      "kljsfsddadaòkkrdadaej\n"
     ]
    }
   ],
   "source": [
    "# scrivi qui\n",
    "\n",
    "x = 'kljsfsdbabòkkrbabej'\n",
    "print(x.replace('bab', 'dada'))"
   ]
  },
  {
   "cell_type": "raw",
   "id": "handy-apollo",
   "metadata": {
    "format": "text/html"
   },
   "source": [
    "</div>"
   ]
  },
  {
   "cell_type": "code",
   "execution_count": 51,
   "metadata": {},
   "outputs": [
    {
     "name": "stdout",
     "output_type": "stream",
     "text": [
      "kljsfsddadaòkkrdadaej\n"
     ]
    }
   ],
   "source": [
    "# scrivi qui\n",
    "\n"
   ]
  },
  {
   "cell_type": "markdown",
   "metadata": {},
   "source": [
    "## Metodo startswith\n",
    "\n",
    "`str.startswith` prende come parametro una stringa e ritorna `True` se la stringa prima del punto inizia con la stringa passata come parametro. Esempio:"
   ]
  },
  {
   "cell_type": "code",
   "execution_count": 52,
   "metadata": {},
   "outputs": [
    {
     "data": {
      "text/plain": [
       "True"
      ]
     },
     "execution_count": 52,
     "metadata": {},
     "output_type": "execute_result"
    }
   ],
   "source": [
    "\"il cane abbaia nella strada\".startswith('il cane')"
   ]
  },
  {
   "cell_type": "code",
   "execution_count": 53,
   "metadata": {},
   "outputs": [
    {
     "data": {
      "text/plain": [
       "False"
      ]
     },
     "execution_count": 53,
     "metadata": {},
     "output_type": "execute_result"
    }
   ],
   "source": [
    "\"il cane abbaia nella strada\".startswith('abbaia')"
   ]
  },
  {
   "cell_type": "code",
   "execution_count": 54,
   "metadata": {},
   "outputs": [
    {
     "data": {
      "text/plain": [
       "False"
      ]
     },
     "execution_count": 54,
     "metadata": {},
     "output_type": "execute_result"
    }
   ],
   "source": [
    "\"il cane abbaia nella strada\".startswith('IL CANE')  # le maiuscole sono diverse dalle minuscole"
   ]
  },
  {
   "cell_type": "code",
   "execution_count": 55,
   "metadata": {},
   "outputs": [
    {
     "data": {
      "text/plain": [
       "True"
      ]
     },
     "execution_count": 55,
     "metadata": {},
     "output_type": "execute_result"
    }
   ],
   "source": [
    "\"IL CANE ABBAIA SULLA STRADA\".startswith('IL CANE')  # le maiuscole sono diverse dalle minuscole"
   ]
  },
  {
   "cell_type": "markdown",
   "metadata": {},
   "source": [
    "### Esercizio - per Giove"
   ]
  },
  {
   "cell_type": "markdown",
   "metadata": {},
   "source": [
    "Scrivere del codice che date tre stringhe qualsiasi `x` e `y` e `z`, stampa `True` se entrambe `x` e `y` iniziano con la stringa `z`, altrimenti stampa `False`\n",
    "\n",
    "Esempi 1 - Dati:\n",
    "\n",
    "```python\n",
    "x = 'per Giove'\n",
    "y = 'per Zeus'\n",
    "z = 'per'\n",
    "```\n",
    "\n",
    "deve stampare \n",
    "\n",
    "```\n",
    "True\n",
    "```\n",
    "\n",
    "\n",
    "Esempio 2 - Dati:\n",
    "\n",
    "```python\n",
    "x = 'per Giove'\n",
    "y = 'per Zeus'\n",
    "z = 'da'\n",
    "```\n",
    "\n",
    "deve stampare \n",
    "\n",
    "```\n",
    "False\n",
    "```\n",
    "\n",
    "Esempio 3 - Dati:\n",
    "\n",
    "```python\n",
    "x = 'da Giove'\n",
    "y = 'per Zeus'\n",
    "z = 'per'\n",
    "```\n",
    "\n",
    "deve stampare \n",
    "\n",
    "```\n",
    "False\n",
    "```"
   ]
  },
  {
   "cell_type": "raw",
   "id": "increasing-corrections",
   "metadata": {
    "format": "text/html"
   },
   "source": [
    "<a  class=\"jupman-sol jupman-sol-toggler\" \n",
    " onclick=\"jupman.toggleSolution(this);\" \n",
    " data-jupman-show=\"Mostra soluzione\" data-jupman-hide=\"Nascondi\">Mostra soluzione</a><div class=\"jupman-sol jupman-sol-code\" style=\"display:none\">  "
   ]
  },
  {
   "cell_type": "code",
   "execution_count": 56,
   "metadata": {},
   "outputs": [
    {
     "name": "stdout",
     "output_type": "stream",
     "text": [
      "True\n"
     ]
    }
   ],
   "source": [
    "x = 'per Giove'\n",
    "y = 'per Zeus'\n",
    "z = 'per'\n",
    "\n",
    "# scrivi qui\n",
    "\n",
    "print(x.startswith(z) and y.startswith(z))"
   ]
  },
  {
   "cell_type": "raw",
   "id": "royal-element",
   "metadata": {
    "format": "text/html"
   },
   "source": [
    "</div>"
   ]
  },
  {
   "cell_type": "code",
   "execution_count": 56,
   "metadata": {},
   "outputs": [
    {
     "name": "stdout",
     "output_type": "stream",
     "text": [
      "True\n"
     ]
    }
   ],
   "source": [
    "x = 'per Giove'\n",
    "y = 'per Zeus'\n",
    "z = 'per'\n",
    "\n",
    "# scrivi qui\n",
    "\n"
   ]
  },
  {
   "cell_type": "markdown",
   "metadata": {},
   "source": [
    "## Metodo endswith\n",
    "\n",
    "`str.endswith` prende come parametro una stringa e ritorna `True` se la stringa prima del punto finisce con la stringa passata come parametro. Esempio:"
   ]
  },
  {
   "cell_type": "code",
   "execution_count": 57,
   "metadata": {},
   "outputs": [
    {
     "data": {
      "text/plain": [
       "True"
      ]
     },
     "execution_count": 57,
     "metadata": {},
     "output_type": "execute_result"
    }
   ],
   "source": [
    "\"I miei più cari saluti\".endswith('cari saluti')"
   ]
  },
  {
   "cell_type": "code",
   "execution_count": 58,
   "metadata": {},
   "outputs": [
    {
     "data": {
      "text/plain": [
       "False"
      ]
     },
     "execution_count": 58,
     "metadata": {},
     "output_type": "execute_result"
    }
   ],
   "source": [
    "\"I miei più cari saluti\".endswith('cari')"
   ]
  },
  {
   "cell_type": "code",
   "execution_count": 59,
   "metadata": {},
   "outputs": [
    {
     "data": {
      "text/plain": [
       "False"
      ]
     },
     "execution_count": 59,
     "metadata": {},
     "output_type": "execute_result"
    }
   ],
   "source": [
    "\"I miei più cari saluti\".endswith('SALUTI')  # le maiuscole sono diverse dalle minuscole"
   ]
  },
  {
   "cell_type": "code",
   "execution_count": 60,
   "metadata": {},
   "outputs": [
    {
     "data": {
      "text/plain": [
       "True"
      ]
     },
     "execution_count": 60,
     "metadata": {},
     "output_type": "execute_result"
    }
   ],
   "source": [
    "\"I MIEI PIU' CARI SALUTI\".endswith('SALUTI')  # le maiuscole sono diverse dalle minuscole"
   ]
  },
  {
   "cell_type": "markdown",
   "metadata": {},
   "source": [
    "### Esercizio - Snobbonis\n",
    "\n",
    "Dati nomi di coppie `marito` e `moglie`, scrivi del codice che stampa `True` se condividono il cognome, `False` altrimenti. \n",
    "\n",
    "* assumi che il cognome sia sempre alla stessa posizione\n",
    "* il tuo codice deve funzionare per qualsiasi coppia `marito` `moglie`"
   ]
  },
  {
   "cell_type": "raw",
   "id": "widespread-fusion",
   "metadata": {
    "format": "text/html"
   },
   "source": [
    "<a  class=\"jupman-sol jupman-sol-toggler\" \n",
    " onclick=\"jupman.toggleSolution(this);\" \n",
    " data-jupman-show=\"Mostra soluzione\" data-jupman-hide=\"Nascondi\">Mostra soluzione</a><div class=\"jupman-sol jupman-sol-code\" style=\"display:none\">  "
   ]
  },
  {
   "cell_type": "code",
   "execution_count": 61,
   "metadata": {},
   "outputs": [
    {
     "name": "stdout",
     "output_type": "stream",
     "text": [
      "True\n"
     ]
    }
   ],
   "source": [
    "                 #0123456789               #0123456789\n",
    "marito, moglie = 'Antonio  Snobbonis',     'Carolina Snobbonis'   # True\n",
    "#marito, moglie = 'Camillo  De Spaparanzi', 'Matilda  Degli Agi'  # False\n",
    "\n",
    "# scrivi qui\n",
    "\n",
    "print(moglie.endswith(marito[9:]))"
   ]
  },
  {
   "cell_type": "raw",
   "id": "functioning-thumb",
   "metadata": {
    "format": "text/html"
   },
   "source": [
    "</div>"
   ]
  },
  {
   "cell_type": "code",
   "execution_count": 61,
   "metadata": {},
   "outputs": [
    {
     "name": "stdout",
     "output_type": "stream",
     "text": [
      "True\n"
     ]
    }
   ],
   "source": [
    "                 #0123456789               #0123456789\n",
    "marito, moglie = 'Antonio  Snobbonis',     'Carolina Snobbonis'   # True\n",
    "#marito, moglie = 'Camillo  De Spaparanzi', 'Matilda  Degli Agi'  # False\n",
    "\n",
    "# scrivi qui\n",
    "\n"
   ]
  },
  {
   "cell_type": "markdown",
   "metadata": {},
   "source": [
    "## Altri esercizi "
   ]
  },
  {
   "cell_type": "markdown",
   "metadata": {},
   "source": [
    "**DOMANDA**: Per ciascuna espressione di seguito, cerca di indovinare il risultato.\n",
    "\n",
    "    \n",
    "1.  ```python\n",
    "    'gUrP'.lower() == 'GuRp'.lower()\n",
    "    ```\n",
    "1.  ```python    \n",
    "    'NaNo'.lower() != 'nAnO'.upper()\n",
    "    ```\n",
    "1.  ```python    \n",
    "    'O' + 'ortaggio'.replace('o','\\t \\n     ').strip() + 'O'\n",
    "    ```\n",
    "1.  ```python    \n",
    "    'DaDo'.replace('D','b') in 'barbados'\n",
    "    ```    "
   ]
  },
  {
   "cell_type": "markdown",
   "metadata": {},
   "source": [
    "## Prosegui\n",
    "\n",
    "Trovi ulteriori esercizi nel foglio Stringhe 4"
   ]
  },
  {
   "cell_type": "code",
   "execution_count": null,
   "metadata": {},
   "outputs": [],
   "source": []
  }
 ],
 "metadata": {
  "kernelspec": {
   "display_name": "Python 3",
   "language": "python",
   "name": "python3"
  },
  "language_info": {
   "codemirror_mode": {
    "name": "ipython",
    "version": 3
   },
   "file_extension": ".py",
   "mimetype": "text/x-python",
   "name": "python",
   "nbconvert_exporter": "python",
   "pygments_lexer": "ipython3",
   "version": "3.5.2"
  },
  "toc": {
   "base_numbering": 1,
   "nav_menu": {},
   "number_sections": false,
   "sideBar": true,
   "skip_h1_title": false,
   "title_cell": "Table of Contents",
   "title_sidebar": "Contents",
   "toc_cell": false,
   "toc_position": {},
   "toc_section_display": true,
   "toc_window_display": true
  }
 },
 "nbformat": 4,
 "nbformat_minor": 2
}
