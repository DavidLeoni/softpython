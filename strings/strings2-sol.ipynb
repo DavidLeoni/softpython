{
 "cells": [
  {
   "cell_type": "code",
   "execution_count": 1,
   "metadata": {
    "nbsphinx": "hidden"
   },
   "outputs": [],
   "source": [
    "# Ricordati di eseguire questa cella con Shift+Invio\n",
    "\n",
    "import sys\n",
    "sys.path.append('../')\n",
    "import jupman"
   ]
  },
  {
   "cell_type": "markdown",
   "metadata": {},
   "source": [
    "# Stringhe 2 - operatori\n",
    "\n",
    "## [Scarica zip esercizi](../_static/generated/strings.zip)\n",
    "\n",
    "[Naviga file online](https://github.com/DavidLeoni/softpython/tree/master/strings)\n",
    "\n",
    "Python offre diversi operatori per lavorare con le stringhe:\n",
    "\n",
    "|Operatore|Risultato|Significato|\n",
    "|---|----|-----|\n",
    "|`len`(str)|int| Ritorna la lunghezza della stringa|\n",
    "|str `+` str|str| Concatena due stringhe|\n",
    "|str `*` int|str| Replica la stringa|\n",
    "|str `in` str|bool| Controlla se la stringa è presente in un'altra stringa|\n",
    "|str`[`int`]`|str|Legge il carattere all'indice specificato|\n",
    "|str`[`int`:`int`]`|str|Estrae una sotto-stringa|\n",
    "|`==`,`!=`|`bool`| Controlla se due stringhe sono uguali o differenti|"
   ]
  },
  {
   "cell_type": "markdown",
   "metadata": {},
   "source": [
    "## Che fare\n",
    "\n",
    "- scompatta lo zip in una cartella, dovresti ottenere qualcosa del genere: \n",
    "\n",
    "```\n",
    "\n",
    "strings\n",
    "    strings1.ipynb    \n",
    "    strings1-sol.ipynb         \n",
    "    strings2.ipynb\n",
    "    strings2-sol.ipynb\n",
    "    strings3.ipynb\n",
    "    strings3-sol.ipynb\n",
    "    strings4.ipynb\n",
    "    strings4-sol.ipynb    \n",
    "    jupman.py         \n",
    "```\n",
    "\n",
    "<div class=\"alert alert-warning\">\n",
    "\n",
    "**ATTENZIONE**: Per essere visualizzato correttamente, il file del notebook DEVE essere nella cartella szippata.\n",
    "</div>\n",
    "\n",
    "- apri il Jupyter Notebook da quella cartella. Due cose dovrebbero aprirsi, prima una console e poi un browser. Il browser dovrebbe mostrare una lista di file: naviga la lista e apri il notebook `strings1.ipynb`\n",
    "- Prosegui leggendo il file degli esercizi, ogni tanto al suo interno troverai delle scritte **DA FARE**, che ti chiederanno di scrivere dei comandi Python nelle celle successive. Gli esercizi sono graduati per difficoltà, da una stellina ✪ a quattro ✪✪✪✪\n",
    "\n",
    "\n",
    "Scorciatoie da tastiera:\n",
    "\n",
    "* Per eseguire il codice Python dentro una cella di Jupyter, premi `Control+Invio`\n",
    "* Per eseguire il codice Python dentro una cella di Jupyter E selezionare la cella seguente, premi `Shift+Invio`\n",
    "* Per eseguire il codice Python dentro una cella di Jupyter E creare una nuova cella subito dopo, premi `Alt+Invio`\n",
    "* Se per caso il Notebook sembra inchiodato, prova a selezionare `Kernel -> Restart`\n",
    "\n"
   ]
  },
  {
   "cell_type": "markdown",
   "metadata": {},
   "source": [
    "## Leggere caratteri"
   ]
  },
  {
   "cell_type": "markdown",
   "metadata": {},
   "source": [
    "Una stringa è una sequenza di caratteri, e spesso potremmo voler accedere ad un singolo carattere specificando la posizione del carattere che interessa\n",
    "\n",
    "E' importante ricordarsi che le posizioni dei caratteri nelle stringhe iniziano da 0. Per leggere un carattere ad una certa posizione, bisogna scrivere la stringa seguita da parentesi quadre con all'interno la posizione. Esempi:"
   ]
  },
  {
   "cell_type": "code",
   "execution_count": 2,
   "metadata": {},
   "outputs": [
    {
     "data": {
      "text/plain": [
       "'c'"
      ]
     },
     "execution_count": 2,
     "metadata": {},
     "output_type": "execute_result"
    }
   ],
   "source": [
    "\n",
    "'ciao'[0]"
   ]
  },
  {
   "cell_type": "code",
   "execution_count": 3,
   "metadata": {},
   "outputs": [
    {
     "data": {
      "text/plain": [
       "'i'"
      ]
     },
     "execution_count": 3,
     "metadata": {},
     "output_type": "execute_result"
    }
   ],
   "source": [
    "'ciao'[1]"
   ]
  },
  {
   "cell_type": "code",
   "execution_count": 4,
   "metadata": {},
   "outputs": [
    {
     "data": {
      "text/plain": [
       "'a'"
      ]
     },
     "execution_count": 4,
     "metadata": {},
     "output_type": "execute_result"
    }
   ],
   "source": [
    "#0123\n",
    "'ciao'[2]"
   ]
  },
  {
   "cell_type": "code",
   "execution_count": 5,
   "metadata": {},
   "outputs": [
    {
     "data": {
      "text/plain": [
       "'o'"
      ]
     },
     "execution_count": 5,
     "metadata": {},
     "output_type": "execute_result"
    }
   ],
   "source": [
    "#0123\n",
    "'ciao'[3]"
   ]
  },
  {
   "cell_type": "markdown",
   "metadata": {},
   "source": [
    "Se cerchiamo di andare oltre all'ultimo carattere, otterremo un errore:"
   ]
  },
  {
   "cell_type": "markdown",
   "metadata": {},
   "source": [
    "```python\n",
    "#0123\n",
    "'ciao'[4]\n",
    "---------------------------------------------------------------------------\n",
    "IndexError                                Traceback (most recent call last)\n",
    "<ipython-input-106-b8f1f689f0c7> in <module>\n",
    "      1 #0123\n",
    "----> 2 'ciao'[4]\n",
    "\n",
    "IndexError: string index out of range\n",
    "```\n"
   ]
  },
  {
   "cell_type": "markdown",
   "metadata": {},
   "source": [
    "Prima abbiamo usato una stringa specificandola letteralmente, ma possiamo anche usare variabili:"
   ]
  },
  {
   "cell_type": "code",
   "execution_count": 6,
   "metadata": {},
   "outputs": [],
   "source": [
    "    #01234 \n",
    "x = 'panca'"
   ]
  },
  {
   "cell_type": "code",
   "execution_count": 7,
   "metadata": {},
   "outputs": [
    {
     "data": {
      "text/plain": [
       "'p'"
      ]
     },
     "execution_count": 7,
     "metadata": {},
     "output_type": "execute_result"
    }
   ],
   "source": [
    "x[0]"
   ]
  },
  {
   "cell_type": "code",
   "execution_count": 8,
   "metadata": {},
   "outputs": [
    {
     "data": {
      "text/plain": [
       "'n'"
      ]
     },
     "execution_count": 8,
     "metadata": {},
     "output_type": "execute_result"
    }
   ],
   "source": [
    "x[2]"
   ]
  },
  {
   "cell_type": "markdown",
   "metadata": {},
   "source": [
    "Come viene rappresentato il carattere letto? Se hai notato, è circondato da apici come se fosse una stringa. Controlliamo:"
   ]
  },
  {
   "cell_type": "code",
   "execution_count": 9,
   "metadata": {},
   "outputs": [
    {
     "data": {
      "text/plain": [
       "str"
      ]
     },
     "execution_count": 9,
     "metadata": {},
     "output_type": "execute_result"
    }
   ],
   "source": [
    "type(x[0])"
   ]
  },
  {
   "cell_type": "markdown",
   "metadata": {},
   "source": [
    "Infatti è proprio una stringa. Questo potrebbe forse sorprendere alcuni, anche da un punto di vista filosico: le stringhe in Python sono a loro volta composte da... stringhe! In altri linguaggi di programmazione per i singoli caratteri si possono trovare tipi appositi, ma Python usa stringhe per gestire meglio anche alfabeti con simboli complicati come quello giapponese."
   ]
  },
  {
   "cell_type": "markdown",
   "metadata": {},
   "source": [
    "**DOMANDA**: Supponiamo che `x` sia una stringa _qualsiasi_. Se proviamo ad eseguire questo codice: \n",
    "\n",
    "```python\n",
    "x[0]\n",
    "```\n",
    "\n",
    "otterremo:\n",
    "\n",
    "1. sempre un carattere\n",
    "2. sempre un errore\n",
    "3. a volte un carattere, a volte un errore a seconda della stringa"
   ]
  },
  {
   "cell_type": "markdown",
   "metadata": {},
   "source": [
    "**RISPOSTA**: la 3: potremmo ottenere un errore con la stringa vuota (prova)"
   ]
  },
  {
   "cell_type": "markdown",
   "metadata": {},
   "source": [
    "**DOMANDA**: Supponiamo che `x` sia una stringa qualsiasi. Se proviamo ad eseguire questo codice:\n",
    "\n",
    "```python\n",
    "x[len(x)]\n",
    "```\n",
    "\n",
    "otterremo:\n",
    "\n",
    "1. sempre un carattere\n",
    "2. sempre un errore\n",
    "3. a volte un carattere, a volte un errore a seconda della stringa\n",
    "\n"
   ]
  },
  {
   "cell_type": "markdown",
   "metadata": {},
   "source": [
    "**RISPOSTA**: la 2: poichè l'inidicizzazione inizia da 0, `len` ci da sempre un numero che è superiore di 1 al più grande indice usabile."
   ]
  },
  {
   "cell_type": "markdown",
   "metadata": {},
   "source": [
    "### Da fare - intercalare\n",
    "\n",
    "Date due stringhe che hanno entrambe lunghezza `3`, stampa una stringa che inercala caratteri da entrambe le stringhe. Il tuo codice deve poter funzionare con qualsiasi stringa di questa lunghezza\n",
    "\n",
    "\n",
    "Esempio:\n",
    "\n",
    "Dati\n",
    "\n",
    "```python\n",
    "x=\"say\"\n",
    "y=\"hi!\"\n",
    "```\n",
    "\n",
    "dovrebbe stampare\n",
    "\n",
    "```\n",
    "shaiy!\n",
    "```"
   ]
  },
  {
   "cell_type": "code",
   "execution_count": 10,
   "metadata": {},
   "outputs": [
    {
     "name": "stdout",
     "output_type": "stream",
     "text": [
      "shaiy!\n"
     ]
    }
   ],
   "source": [
    "# scrivi qui\n",
    "\n",
    "x=\"say\"\n",
    "y=\"hi!\"\n",
    "print(x[0] + y[0] + x[1] + y[1] + x[2] + y[2])"
   ]
  },
  {
   "cell_type": "markdown",
   "metadata": {},
   "source": [
    "### Indici negativi\n",
    "\n",
    "In Python possiamo anche usare indici negativi, che invece di partire _dall'inizio_ partono _dalla fine_:"
   ]
  },
  {
   "cell_type": "code",
   "execution_count": 11,
   "metadata": {},
   "outputs": [
    {
     "data": {
      "text/plain": [
       "'o'"
      ]
     },
     "execution_count": 11,
     "metadata": {},
     "output_type": "execute_result"
    }
   ],
   "source": [
    "#4321\n",
    "\"ciao\"[-1]"
   ]
  },
  {
   "cell_type": "code",
   "execution_count": 12,
   "metadata": {},
   "outputs": [
    {
     "data": {
      "text/plain": [
       "'a'"
      ]
     },
     "execution_count": 12,
     "metadata": {},
     "output_type": "execute_result"
    }
   ],
   "source": [
    "#4321\n",
    "\"ciao\"[-2]"
   ]
  },
  {
   "cell_type": "code",
   "execution_count": 13,
   "metadata": {},
   "outputs": [
    {
     "data": {
      "text/plain": [
       "'i'"
      ]
     },
     "execution_count": 13,
     "metadata": {},
     "output_type": "execute_result"
    }
   ],
   "source": [
    "#4321\n",
    "\"ciao\"[-3]"
   ]
  },
  {
   "cell_type": "code",
   "execution_count": 14,
   "metadata": {},
   "outputs": [
    {
     "data": {
      "text/plain": [
       "'c'"
      ]
     },
     "execution_count": 14,
     "metadata": {},
     "output_type": "execute_result"
    }
   ],
   "source": [
    "#4321\n",
    "\"ciao\"[-4]"
   ]
  },
  {
   "cell_type": "markdown",
   "metadata": {},
   "source": [
    "Se andiamo troppo in là, otteniamo un errore:\n",
    "\n",
    "```python\n",
    "#4321\n",
    "\"ciao\"[-5]\n",
    "\n",
    "---------------------------------------------------------------------------\n",
    "IndexError                                Traceback (most recent call last)\n",
    "<ipython-input-126-668d8a13a324> in <module>\n",
    "----> 1 \"ciao\"[-5]\n",
    "\n",
    "IndexError: string index out of range\n",
    "\n",
    "```"
   ]
  },
  {
   "cell_type": "markdown",
   "metadata": {},
   "source": [
    "\n",
    "**DOMANDA**: Supponiamo che `x` sia una stringa NON vuota qualsiasi, con la seguente espressione cosa otterremmo ? \n",
    "\n",
    "```python\n",
    "x[-len(x)]\n",
    "```\n",
    "\n",
    "1. sempre un carattere\n",
    "2. sempre un errore\n",
    "3. a volte un carattere, a volte un errore a seconda della stringa\n"
   ]
  },
  {
   "cell_type": "markdown",
   "metadata": {},
   "source": [
    "**RISPOSTA**: La 1. (abbiamo supposto che la stringa non sia mai vuota)"
   ]
  },
  {
   "cell_type": "markdown",
   "metadata": {},
   "source": [
    "**DOMANDA**: Supponendo che `x` sia una stringa qualsiasi (anche vuota), le espressioni \n",
    "\n",
    "```python\n",
    "x[len(x)-1]\n",
    "```\n",
    "e \n",
    "\n",
    "```python\n",
    "x[-len(x)]\n",
    "```\n",
    "\n",
    "sono equivalenti ? Che cosa fanno ?"
   ]
  },
  {
   "cell_type": "markdown",
   "metadata": {},
   "source": [
    "**RISPOSTA**: le espressioni sono equivalenti: se la stringa è vuota entrambe producono un errore, se è piena entrambe restituiscono l'ultimo carattere"
   ]
  },
  {
   "cell_type": "markdown",
   "metadata": {},
   "source": [
    "**DOMANDA**: Se `x` è una stringa non vuota, l'espressione seguente cosa produce? La possiamo semplificare in una più breve?\n",
    "\n",
    "```python\n",
    "(x + x)[len(x)]\n",
    "```"
   ]
  },
  {
   "cell_type": "markdown",
   "metadata": {},
   "source": [
    "**RISPOSTA**: corrisponde a `x[0]`"
   ]
  },
  {
   "cell_type": "markdown",
   "metadata": {},
   "source": [
    "**DOMANDA**: Se `x` è una stringa non vuota, cosa produce la seguente espressione? Un errore? Altro? La possiamo semplificare?\n",
    "\n",
    "```python\n",
    "'ciao'[0][0]\n",
    "```"
   ]
  },
  {
   "cell_type": "markdown",
   "metadata": {},
   "source": [
    "**RISPOSTA**: Sappiamo che `'ciao'[0]` produce un carattere, ma sappiamo anche che in Python i caratteri estratti dalle stringhe sono a loro volta stringhe di lunghezza 1. Quindi se dopo l'espressione `\"ciao\"[0]` che produce la stringa `'c'` aggiungiamo un'altro `[0]` è come se stessimo scrivendo `'c'[0]`, che ritorna il carattere zeresimo trovato nella stringa `'c'`, cioè `c` stesso."
   ]
  },
  {
   "cell_type": "markdown",
   "metadata": {},
   "source": [
    "**DOMANDA**: Se `x` è una stringa non vuota, cosa produce la seguente espressione? Un errore? Altro? La possiamo semplificare?\n",
    "\n",
    "```python\n",
    "(x[0])[0]\n",
    "```"
   ]
  },
  {
   "cell_type": "markdown",
   "metadata": {},
   "source": [
    "**RISPOSTA**: `x[0]` è un espressione che produce il primo carattere della stringa `x`. In Python, possiamo mettere le espressioni tra parentesi che vogliamo. Quindi in questo caso la parentesi non produce nessun effetto, e l'espressione è equivalente a `x[0][0]` che come abbiamo visto prima è uguale a scrivere `x[0]`"
   ]
  },
  {
   "cell_type": "markdown",
   "metadata": {},
   "source": [
    "## Sostituire caratteri\n",
    "\n",
    "Abbiamo detto che in Python le stringhe sono immutabili, quindi se abbiamo una stringa "
   ]
  },
  {
   "cell_type": "code",
   "execution_count": 15,
   "metadata": {},
   "outputs": [],
   "source": [
    "    #01234\n",
    "x = 'ciao'"
   ]
  },
  {
   "cell_type": "markdown",
   "metadata": {},
   "source": [
    "e vogliamo per esempio cambiare il carattere in posizione 2 (in questo caso, la `a`) perchè diventi una `b`, come facciamo ? \n",
    "\n",
    "Potremmo essere tentati di scrivere così, ma Python ci punirebbe con un errore:"
   ]
  },
  {
   "cell_type": "markdown",
   "metadata": {},
   "source": [
    "```python\n",
    "x[2] = 'b'\n",
    "\n",
    "---------------------------------------------------------------------------\n",
    "TypeError                                 Traceback (most recent call last)\n",
    "<ipython-input-113-e5847c6fa4bf> in <module>\n",
    "----> 1 x[2] = 'b'\n",
    "\n",
    "TypeError: 'str' object does not support item assignment\n",
    "```"
   ]
  },
  {
   "cell_type": "markdown",
   "metadata": {},
   "source": [
    "La soluzione corretta è assegnare a `x` una stringa completamente nuova, ottenuta prendendo pezzi della precedente:"
   ]
  },
  {
   "cell_type": "code",
   "execution_count": 16,
   "metadata": {},
   "outputs": [],
   "source": [
    "x = x[0] + x[1] + 'b' + x[3]"
   ]
  },
  {
   "cell_type": "code",
   "execution_count": 17,
   "metadata": {},
   "outputs": [
    {
     "data": {
      "text/plain": [
       "'cibo'"
      ]
     },
     "execution_count": 17,
     "metadata": {},
     "output_type": "execute_result"
    }
   ],
   "source": [
    "x"
   ]
  },
  {
   "cell_type": "markdown",
   "metadata": {},
   "source": [
    "Se il fatto che la `x` compaia a destra dell'uguale ti sconcerta, possiamo scomporre il codice così e funzionerebbe ugualmente"
   ]
  },
  {
   "cell_type": "code",
   "execution_count": 18,
   "metadata": {},
   "outputs": [],
   "source": [
    "x = \"ciao\"\n",
    "y = x\n",
    "x = y[0] + y[1] + 'b' + y[3]"
   ]
  },
  {
   "cell_type": "markdown",
   "metadata": {},
   "source": [
    "Provalo in Python Tutor:"
   ]
  },
  {
   "cell_type": "code",
   "execution_count": 19,
   "metadata": {},
   "outputs": [
    {
     "data": {
      "text/html": [
       "\n",
       "        <script src=\"../_static/js/pytutor-embed.bundle.min.js\" type=\"application/javascript\"></script>\n",
       "     \n",
       "        <script id=\"json-jm21e28a1a-a99b-4159-b8fd-bfa31e206964\" type=\"application/json\" >\n",
       "            {\"code\": \" \\nx = \\\"ciao\\\"\\ny = x\\nx = y[0] + y[1] + 'b' + y[3]\", \"trace\": [{\"line\": 2, \"event\": \"step_line\", \"func_name\": \"<module>\", \"globals\": {}, \"ordered_globals\": [], \"stack_to_render\": [], \"heap\": {}, \"stdout\": \"\"}, {\"line\": 3, \"event\": \"step_line\", \"func_name\": \"<module>\", \"globals\": {\"x\": \"ciao\"}, \"ordered_globals\": [\"x\"], \"stack_to_render\": [], \"heap\": {}, \"stdout\": \"\"}, {\"line\": 4, \"event\": \"step_line\", \"func_name\": \"<module>\", \"globals\": {\"x\": \"ciao\", \"y\": \"ciao\"}, \"ordered_globals\": [\"x\", \"y\"], \"stack_to_render\": [], \"heap\": {}, \"stdout\": \"\"}, {\"line\": 4, \"event\": \"return\", \"func_name\": \"<module>\", \"globals\": {\"x\": \"cibo\", \"y\": \"ciao\"}, \"ordered_globals\": [\"x\", \"y\"], \"stack_to_render\": [], \"heap\": {}, \"stdout\": \"\"}]}\n",
       "        </script>\n",
       "        <div id=\"jm21e28a1a-a99b-4159-b8fd-bfa31e206964\" class=\"pytutorVisualizer\"> </div>\n",
       " \n",
       "        <style>\n",
       "        .vizLayoutTd {\n",
       "            background-color: #fff !important;\n",
       "        }\n",
       "                            \n",
       "\n",
       "        /* 'Edit this code' link, hiding because replaces browser tab !!!*/\n",
       "        #editCodeLinkDiv {\n",
       "            display:none;  \n",
       "        }\n",
       "        </style>   \n",
       "                            \n",
       "        <script>\n",
       "        (function(){\n",
       "\n",
       "            var trace = JSON.parse(document.getElementById('json-jm21e28a1a-a99b-4159-b8fd-bfa31e206964').innerHTML);                                        \n",
       "            // NOTE 1: id without #\n",
       "            // NOTE 2 - maybe there are more predictable ways, but this will work anyway\n",
       "            //        - id should be number\n",
       "            visualizerIdOverride = Math.trunc(Math.random() * 100000000000)\n",
       "            addVisualizerToPage(trace, 'jm21e28a1a-a99b-4159-b8fd-bfa31e206964',{'embeddedMode' : false,\n",
       "                                             'visualizerIdOverride':visualizerIdOverride})  \n",
       "            \n",
       "            \n",
       "            // set overflow for pytuts - need to do in python as css \n",
       "            // does not allow parent selection\n",
       "            var pytuts = $('.pytutorVisualizer')\n",
       "            pytuts.closest('div.output_html.rendered_html.output_result')\n",
       "                    .css('overflow-x', 'visible')\n",
       "        \n",
       "            //pytuts.closest('div.output_html.rendered_html.output_result')\n",
       "            //      .css('background-color','red')                \n",
       "            \n",
       "        })()\n",
       "        </script>\n",
       "                \n",
       "                "
      ],
      "text/plain": [
       "<IPython.core.display.HTML object>"
      ]
     },
     "execution_count": 19,
     "metadata": {},
     "output_type": "execute_result"
    }
   ],
   "source": [
    "x = \"ciao\"\n",
    "y = x\n",
    "x = y[0] + y[1] + 'b' + y[3]\n",
    "\n",
    "jupman.pytut()"
   ]
  },
  {
   "cell_type": "markdown",
   "metadata": {},
   "source": [
    "## Slice\n",
    "\n",
    "Potremmo voler leggere solo una sottosequenza che parte da una posizione e finisce in un'altra. Per esempio, supponiamo di avere la scritta"
   ]
  },
  {
   "cell_type": "code",
   "execution_count": 20,
   "metadata": {},
   "outputs": [],
   "source": [
    "    #0123456789\n",
    "x = 'mercantile'"
   ]
  },
  {
   "cell_type": "markdown",
   "metadata": {},
   "source": [
    "e vogliamo estrarre la stringa `'canti'`, che parte dall'indice 3 **incluso** e arriva all'indice 8 **escluso**. Potremmo estrarre i singoli caratteri e concatenarli con il `+`, ma scriveremmo tantissimo codice. Un opzione migliore è usare le cosiddette [slice](https://davidleoni.github.io/ThinkPythonItalian/html/thinkpython2009.html#sec98): basta scrivere la stringa seguita da parentesi quadre contenti i due indici di inzio (**incluso**) e fine (**escluso**) separati dai due punti `:`"
   ]
  },
  {
   "cell_type": "code",
   "execution_count": 21,
   "metadata": {},
   "outputs": [
    {
     "data": {
      "text/plain": [
       "'canti'"
      ]
     },
     "execution_count": 21,
     "metadata": {},
     "output_type": "execute_result"
    }
   ],
   "source": [
    "    #0123456789\n",
    "x = 'mercantile'\n",
    "\n",
    "x[3:8]   # notare i : in mezzo ai due indici di inizio e fine"
   ]
  },
  {
   "cell_type": "markdown",
   "metadata": {},
   "source": [
    "<div class=\"alert alert-warning\">\n",
    "\n",
    "**ATTENZIONE: Estrarre una sottostringa con le slice NON modifica la stringa originale !!** \n",
    "</div>\n",
    "\n",
    "Vediamo un esempio:"
   ]
  },
  {
   "cell_type": "code",
   "execution_count": 22,
   "metadata": {},
   "outputs": [
    {
     "name": "stdout",
     "output_type": "stream",
     "text": [
      "              x è mercantile\n",
      "La slice x[3:8] è canti\n",
      "              x è mercantile\n"
     ]
    }
   ],
   "source": [
    "    #0123456789\n",
    "x = 'mercantile'\n",
    "\n",
    "print('              x è', x)\n",
    "print('La slice x[3:8] è', x[3:8])\n",
    "print('              x è', x)       # nota che x continua a puntare alla vecchia stringa!"
   ]
  },
  {
   "cell_type": "markdown",
   "metadata": {},
   "source": [
    "**DOMANDA**: se `x` è una stringa qualsiasi di lunghezza almeno 5, cosa fa questo codice? Da errore? Funziona? Possiamo abbreviarlo?\n",
    "\n",
    "```python\n",
    "x[3:4]\n",
    "```"
   ]
  },
  {
   "cell_type": "markdown",
   "metadata": {},
   "source": [
    "**RISPOSTA**: Se la stringa ha lunghezza almeno 5, potremmo avere una situazione del genere:\n",
    "\n",
    "```python\n",
    "    #01234\n",
    "x = 'abcde'\n",
    "```\n",
    "\n",
    "La slice `x[3:4]` estrarrà i caratteri da posizione 3 **incluso** fino alla posizione 4 **esclusa**, quindi di fatto estrarrà solo un carattere alla posizione 3. Il codice è quindi equivalente a `x[3]`\n"
   ]
  },
  {
   "cell_type": "markdown",
   "metadata": {},
   "source": [
    "### Da fare - garalampog\n",
    "\n",
    "Scrivi del codice per estrarre e stampare `alam` dalla stringa `\"garalampog\"`. Prova a indovinare correttamente gli indici."
   ]
  },
  {
   "cell_type": "code",
   "execution_count": 23,
   "metadata": {},
   "outputs": [
    {
     "name": "stdout",
     "output_type": "stream",
     "text": [
      "alam\n"
     ]
    }
   ],
   "source": [
    "x = \"garalampog\"\n",
    "\n",
    "# scrivi qui\n",
    "\n",
    "#      0123456789\n",
    "print(x[3:7])\n"
   ]
  },
  {
   "cell_type": "markdown",
   "metadata": {},
   "source": [
    "### Da fare - ifEweEfav  lkSD lkWe\n",
    "\n",
    "Scrivi del codice per estrarre e stampare `kS` dalla stringa `\"ifE\\te\\nfav  lkD lkWe\"`. Fai attenzione agli spazi e caratteri speciali (prima potresti voler stampare `x`). Prova a indovinare gli indici corretti.\n"
   ]
  },
  {
   "cell_type": "code",
   "execution_count": 24,
   "metadata": {},
   "outputs": [
    {
     "name": "stdout",
     "output_type": "stream",
     "text": [
      "kD\n"
     ]
    }
   ],
   "source": [
    "x = \"ifE\\te\\nfav  lkD lkWe\"\n",
    "\n",
    "# scrivi qui\n",
    "\n",
    "#     0123 45 67890123456789\n",
    "#x = \"ifE\\te\\nfav  lkD lkWe\"\n",
    "\n",
    "print(x[12:14])"
   ]
  },
  {
   "cell_type": "markdown",
   "metadata": {},
   "source": [
    "### Slice - limiti\n",
    "\n",
    "Quando operiamo con le slice dobbiamo stare attenti ai limiti degli indici. Vediamo come si comportano:"
   ]
  },
  {
   "cell_type": "code",
   "execution_count": 25,
   "metadata": {},
   "outputs": [
    {
     "data": {
      "text/plain": [
       "'sed'"
      ]
     },
     "execution_count": 25,
     "metadata": {},
     "output_type": "execute_result"
    }
   ],
   "source": [
    "#012345\n",
    "\"sedia\"[0:3]  # da indice 0 *incluso* a 3 *escluso*"
   ]
  },
  {
   "cell_type": "code",
   "execution_count": 26,
   "metadata": {},
   "outputs": [
    {
     "data": {
      "text/plain": [
       "'sedi'"
      ]
     },
     "execution_count": 26,
     "metadata": {},
     "output_type": "execute_result"
    }
   ],
   "source": [
    "#012345\n",
    "\"sedia\"[0:4]  # da indice 0 *incluso* a 4 *escluso*"
   ]
  },
  {
   "cell_type": "code",
   "execution_count": 27,
   "metadata": {},
   "outputs": [
    {
     "data": {
      "text/plain": [
       "'sedia'"
      ]
     },
     "execution_count": 27,
     "metadata": {},
     "output_type": "execute_result"
    }
   ],
   "source": [
    "#012345\n",
    "\"sedia\"[0:5]  # da indice 0 *incluso* a 5 *escluso*"
   ]
  },
  {
   "cell_type": "code",
   "execution_count": 28,
   "metadata": {},
   "outputs": [
    {
     "data": {
      "text/plain": [
       "'sedia'"
      ]
     },
     "execution_count": 28,
     "metadata": {},
     "output_type": "execute_result"
    }
   ],
   "source": [
    "#012345\n",
    "\"sedia\"[0:6]   # se andiamo oltre la lunghezza della stringa Python non si arrabbia"
   ]
  },
  {
   "cell_type": "markdown",
   "metadata": {},
   "source": [
    "**DOMANDA**: se `x` è una stringa qualsiasi (anche vuota), questa espressione cosa fa? Può dare errore? o ritorna qualcosa di utile? \n",
    "\n",
    "```python\n",
    "x[0:len(x)]\n",
    "```"
   ]
  },
  {
   "cell_type": "markdown",
   "metadata": {},
   "source": [
    "**RISPOSTA**: Ritorna sempre una NUOVA copia dell'intera stringa, perchè parte da indice 0 _incluso_ e finisce a indice `len(x)` _escluso_\n",
    "\n",
    "Funziona anche con la stringa vuota, perchè `''[0:len('')]` equivale a `''[0:0]`  cioè sottostringa da 0 _incluso_ a 0 _escluso_, quindi non prendiamo nessun carattere e non sforiamo i limiti della stringa. In realtà, anche se sforassimo, Python non avrebbe problemi (prova a scrivere `''[0:100]`)"
   ]
  },
  {
   "cell_type": "markdown",
   "metadata": {},
   "source": [
    "### Slice - omissione limiti"
   ]
  },
  {
   "cell_type": "markdown",
   "metadata": {},
   "source": [
    "Volendo, è possibile omettere l'indice di partenza, in tal caso Python supporrà sia 0:"
   ]
  },
  {
   "cell_type": "code",
   "execution_count": 29,
   "metadata": {},
   "outputs": [
    {
     "data": {
      "text/plain": [
       "'tra'"
      ]
     },
     "execution_count": 29,
     "metadata": {},
     "output_type": "execute_result"
    }
   ],
   "source": [
    "#0123456789\n",
    "\"traghetto\"[:3]"
   ]
  },
  {
   "cell_type": "markdown",
   "metadata": {},
   "source": [
    "E' anche possibile omettere l'indice di fine, in tal caso Python estrarrà fino alla fine della stringa:"
   ]
  },
  {
   "cell_type": "code",
   "execution_count": 30,
   "metadata": {},
   "outputs": [
    {
     "data": {
      "text/plain": [
       "'ghetto'"
      ]
     },
     "execution_count": 30,
     "metadata": {},
     "output_type": "execute_result"
    }
   ],
   "source": [
    "#0123456789\n",
    "\"traghetto\"[3:]"
   ]
  },
  {
   "cell_type": "markdown",
   "metadata": {},
   "source": [
    "Omettendo entrambi gli indici si ottiene l'intera stringa:"
   ]
  },
  {
   "cell_type": "code",
   "execution_count": 31,
   "metadata": {},
   "outputs": [
    {
     "data": {
      "text/plain": [
       "'traghetto'"
      ]
     },
     "execution_count": 31,
     "metadata": {},
     "output_type": "execute_result"
    }
   ],
   "source": [
    "\"traghetto\"[:]"
   ]
  },
  {
   "cell_type": "markdown",
   "metadata": {},
   "source": [
    "### Da fare - isteroister\n",
    "\n",
    "Scrivere del codice che data una stringa `x` stampa la stringa composta da tutte le lettere di `x` eccetto la prima seguita da tutte le lettere di `x` eccetto l'ultima\n",
    "\n",
    "* il tuo codice deve funzionare con qualunque stringa\n",
    "\n",
    "Esempio:\n",
    "\n",
    "Dato\n",
    "```python\n",
    "x = \"mistero\"\n",
    "```\n",
    "\n",
    "deve stampare\n",
    "\n",
    "```\n",
    "isteromister\n",
    "```\n",
    "\n",
    "Dato\n",
    "```python\n",
    "x = \"parlare\"\n",
    "```\n",
    "\n",
    "deve stampare\n",
    "\n",
    "`arlareparlar`\n"
   ]
  },
  {
   "cell_type": "code",
   "execution_count": 32,
   "metadata": {},
   "outputs": [
    {
     "name": "stdout",
     "output_type": "stream",
     "text": [
      "isteromister\n"
     ]
    }
   ],
   "source": [
    "x = \"mistero\"\n",
    "\n",
    "# scrivi qui\n",
    "\n",
    "print(x[1:] + x[0:len(x)-1])"
   ]
  },
  {
   "cell_type": "markdown",
   "metadata": {},
   "source": [
    "### Slice - limiti negativi\n",
    "\n",
    "Volendo è anche possibile impostare limiti negativi, per quanto non sia sempre molto intuitivo."
   ]
  },
  {
   "cell_type": "code",
   "execution_count": 33,
   "metadata": {},
   "outputs": [
    {
     "data": {
      "text/plain": [
       "''"
      ]
     },
     "execution_count": 33,
     "metadata": {},
     "output_type": "execute_result"
    }
   ],
   "source": [
    "#0123456   \n",
    "\"foresta\"[3:0]   # da indice 3 a indici positivi <= 3 non produce nulla"
   ]
  },
  {
   "cell_type": "code",
   "execution_count": 34,
   "metadata": {},
   "outputs": [
    {
     "data": {
      "text/plain": [
       "''"
      ]
     },
     "execution_count": 34,
     "metadata": {},
     "output_type": "execute_result"
    }
   ],
   "source": [
    "#0123456   \n",
    "\"foresta\"[3:1]   # da indice 3 a indici positivi <= 3 non produce nulla"
   ]
  },
  {
   "cell_type": "code",
   "execution_count": 35,
   "metadata": {},
   "outputs": [
    {
     "data": {
      "text/plain": [
       "''"
      ]
     },
     "execution_count": 35,
     "metadata": {},
     "output_type": "execute_result"
    }
   ],
   "source": [
    "#0123456   \n",
    "\"foresta\"[3:2]  # da indice 3 a indici positivi <= 3 non produce nulla"
   ]
  },
  {
   "cell_type": "code",
   "execution_count": 36,
   "metadata": {},
   "outputs": [
    {
     "data": {
      "text/plain": [
       "''"
      ]
     },
     "execution_count": 36,
     "metadata": {},
     "output_type": "execute_result"
    }
   ],
   "source": [
    "#0123456   \n",
    "\"foresta\"[3:3]  # da indice 3 a indici positivi <= 3 non produce nulla"
   ]
  },
  {
   "cell_type": "markdown",
   "metadata": {},
   "source": [
    "Vediamo cosa succede con indici negativi: "
   ]
  },
  {
   "cell_type": "code",
   "execution_count": 37,
   "metadata": {},
   "outputs": [
    {
     "data": {
      "text/plain": [
       "'est'"
      ]
     },
     "execution_count": 37,
     "metadata": {},
     "output_type": "execute_result"
    }
   ],
   "source": [
    "#0123456   indici positivi\n",
    "#7654321   indici negativi \n",
    "\"foresta\"[3:-1]"
   ]
  },
  {
   "cell_type": "code",
   "execution_count": 38,
   "metadata": {},
   "outputs": [
    {
     "data": {
      "text/plain": [
       "'es'"
      ]
     },
     "execution_count": 38,
     "metadata": {},
     "output_type": "execute_result"
    }
   ],
   "source": [
    "#0123456   indici positivi\n",
    "#7654321   indici negativi\n",
    "\"foresta\"[3:-2]"
   ]
  },
  {
   "cell_type": "code",
   "execution_count": 39,
   "metadata": {},
   "outputs": [
    {
     "data": {
      "text/plain": [
       "'e'"
      ]
     },
     "execution_count": 39,
     "metadata": {},
     "output_type": "execute_result"
    }
   ],
   "source": [
    "#0123456   indici positivi\n",
    "#7654321   indici negativi\n",
    "\"foresta\"[3:-3]"
   ]
  },
  {
   "cell_type": "code",
   "execution_count": 40,
   "metadata": {},
   "outputs": [
    {
     "data": {
      "text/plain": [
       "''"
      ]
     },
     "execution_count": 40,
     "metadata": {},
     "output_type": "execute_result"
    }
   ],
   "source": [
    "#0123456   indici positivi\n",
    "#7654321   indici negativi \n",
    "\"foresta\"[3:-4]"
   ]
  },
  {
   "cell_type": "code",
   "execution_count": 41,
   "metadata": {},
   "outputs": [
    {
     "data": {
      "text/plain": [
       "''"
      ]
     },
     "execution_count": 41,
     "metadata": {},
     "output_type": "execute_result"
    }
   ],
   "source": [
    "#0123456   indici positivi\n",
    "#7654321   indici negativi \n",
    "\"foresta\"[3:-5]"
   ]
  },
  {
   "cell_type": "markdown",
   "metadata": {},
   "source": [
    "### Da fare - javarnanda\n",
    "\n",
    "Data una stringa `x`, scrivi del codice per estrarre e stampare i suoi ultimi 3 caratteri e unirli ai primi 3.\n",
    "\n",
    "* Il tuo codice deve funzionare per qualsiasi stringa di lunghezza uguale o superiore a 3\n",
    "\n",
    "Esempio:\n",
    "\n",
    "Dato\n",
    "\n",
    "```python\n",
    "x = \"javarnanda\"\n",
    "```\n",
    "\n",
    "dovrebbe stampare\n",
    "\n",
    "```bash\n",
    "javnda\n",
    "```\n",
    "\n",
    "Dato\n",
    "\n",
    "```python\n",
    "x = \"abcd\"\n",
    "```\n",
    "\n",
    "dovrebbe stampare\n",
    "\n",
    "```bash\n",
    "abcbcd\n",
    "```"
   ]
  },
  {
   "cell_type": "code",
   "execution_count": 42,
   "metadata": {},
   "outputs": [
    {
     "name": "stdout",
     "output_type": "stream",
     "text": [
      "abcbcd\n"
     ]
    }
   ],
   "source": [
    "x = \"abcd\"\n",
    "\n",
    "# scrivi qui\n",
    "\n",
    "print(x[:3] + x[-3:])"
   ]
  },
  {
   "cell_type": "markdown",
   "metadata": {},
   "source": [
    "### Slice - modifica\n",
    "\n",
    "Supponiamo di avere la stringa "
   ]
  },
  {
   "cell_type": "code",
   "execution_count": 43,
   "metadata": {},
   "outputs": [],
   "source": [
    "    #0123456789\n",
    "s = \"il tavolo bianco è al centro della stanza\""
   ]
  },
  {
   "cell_type": "markdown",
   "metadata": {},
   "source": [
    "e di voler cambiare l'assegnazione della variabile `s` in modo che diventi associata alla stringa \n",
    "\n",
    "```\n",
    "#0123456789\n",
    "\"il divano bianco è al centro della stanza\"\n",
    "```"
   ]
  },
  {
   "cell_type": "markdown",
   "metadata": {},
   "source": [
    "Visto che le due stringhe sono simili, potremmo essere tentati di ridefinire solo la sequenza di caratteri corrispondente alla parola `\"tavolo\"`, che va dall'indice `3` incluso all'indice `9` escluso:"
   ]
  },
  {
   "cell_type": "markdown",
   "metadata": {},
   "source": [
    "```python\n",
    "s[3:9] = \"divano\"   # ATTENZIONE! SBAGLIATO!\n",
    "\n",
    "---------------------------------------------------------------------------\n",
    "TypeError                                 Traceback (most recent call last)\n",
    "<ipython-input-57-0de7363c6882> in <module>\n",
    "----> 1 s[3:9] = \"divano\"   # ATTENZIONE! SBAGLIATO!\n",
    "\n",
    "TypeError: 'str' object does not support item assignment\n",
    "\n",
    "```"
   ]
  },
  {
   "cell_type": "markdown",
   "metadata": {},
   "source": [
    "Purtroppo, otterremo un errore, perchè come ripetuto più volte le stringhe sono IMMUTABILI, quindi non possiamo individuare una parte in una particolare stringa e provare a cambiare la stringa originale. Quello che invece possiamo fare è costruire una NUOVA stringa a partire da pezzi della stringa originale, concatenare i caratteri desiderati e associare il risultato alla variabile di cui vogliamo modificare l'assegnazione:"
   ]
  },
  {
   "cell_type": "code",
   "execution_count": 44,
   "metadata": {},
   "outputs": [
    {
     "name": "stdout",
     "output_type": "stream",
     "text": [
      "il divano bianco è al centro della stanza\n"
     ]
    }
   ],
   "source": [
    "    #0123456789\n",
    "s = \"il tavolo bianco è al centro della stanza\"\n",
    "s = s[0:3] + \"divano\" + s[9:]\n",
    "print(s)"
   ]
  },
  {
   "cell_type": "markdown",
   "metadata": {},
   "source": [
    "Quando Python trova la linea\n",
    "\n",
    "```python\n",
    "s = s[0:3] + \"divano\" + s[9:]\n",
    "```\n",
    "\n",
    "PRIMA calcola il risultato della parte a destra dell' `=`, e POI associa il risultato alla variabile che sta a sinistra. Nell'espressione a destra dell' `=` vengono solo solo generate e concatenate NUOVE stringhe, che quindi una volta costruite possono essere assegnate alla variabile `s`."
   ]
  },
  {
   "cell_type": "markdown",
   "metadata": {},
   "source": [
    "### Da fare - la corsa\n",
    "\n",
    "Scrivere del codice per cui data una stringa `s` \n",
    "\n",
    "```\n",
    "s = \"la corsa all'oro è iniziata.\"\n",
    "```\n",
    "e delle variabili\n",
    "\n",
    "```\n",
    "cosa = \"atomo\"\n",
    "verbo = \"finita\"\n",
    "```\n",
    "\n",
    "sostituisce la sottostringa in corrispondenza di `\"oro\"` con la stringa presente nella variabile `cosa` e sostituisce la sottostringa in corrispondenza di `\"iniziata\"` con la stringa presente nella variabile `verbo`.\n",
    "\n",
    "Dopo l'esecuzione del tuo codice, la stringa associata ad `s` dovra essere\n",
    "\n",
    "```\n",
    ">>> print(s)\n",
    "\"la corsa all'atomo è finita\"\n",
    "```"
   ]
  },
  {
   "cell_type": "code",
   "execution_count": 45,
   "metadata": {},
   "outputs": [],
   "source": [
    "    #01234567890123456789012345678\n",
    "s = \"la corsa all'oro è iniziata.\"\n",
    "cosa = \"atomo\"\n",
    "verbo = \"finita\"\n",
    "\n",
    "# scrivi qui\n",
    "\n",
    "s = s[:13] + cosa + s[16:19] + verbo\n",
    "#print(s)"
   ]
  },
  {
   "cell_type": "markdown",
   "metadata": {},
   "source": [
    "## Operatore `in`\n",
    "\n",
    "Per verificare se una stringa è contenuta in un'altra, possiamo usare l'operatore `in`. \n",
    "\n",
    "Nota che il risultato di questa espressione è un booleano:"
   ]
  },
  {
   "cell_type": "code",
   "execution_count": 46,
   "metadata": {},
   "outputs": [
    {
     "data": {
      "text/plain": [
       "True"
      ]
     },
     "execution_count": 46,
     "metadata": {},
     "output_type": "execute_result"
    }
   ],
   "source": [
    "'tra' in 'Cantando per le strade'   "
   ]
  },
  {
   "cell_type": "code",
   "execution_count": 47,
   "metadata": {},
   "outputs": [
    {
     "data": {
      "text/plain": [
       "False"
      ]
     },
     "execution_count": 47,
     "metadata": {},
     "output_type": "execute_result"
    }
   ],
   "source": [
    "'ca' in 'Cantando per le strade'  # l'operatore in   distingue tra maiuscole/minuscole"
   ]
  },
  {
   "cell_type": "code",
   "execution_count": 48,
   "metadata": {},
   "outputs": [
    {
     "data": {
      "text/plain": [
       "True"
      ]
     },
     "execution_count": 48,
     "metadata": {},
     "output_type": "execute_result"
    }
   ],
   "source": [
    "'Ca' in 'Cantando per le strade'  "
   ]
  },
  {
   "cell_type": "markdown",
   "metadata": {},
   "source": [
    "### Da fare -  contenute 1\n",
    "\n",
    "Ti vengono date due stringhe `x` e `y`, e una terza `z`. Scrivi del codice che stampa `True` se `x` e `y` sono entrambe contenute in `z`.\n",
    "\n",
    "Esempio 1:\n",
    "\n",
    "Date:\n",
    "\n",
    "```python\n",
    "x = 'cad'\n",
    "y = 'ra'\n",
    "z = 'abracadabra'\n",
    "```\n",
    "dovrebbe stampare\n",
    "\n",
    "```bash\n",
    "True\n",
    "```\n",
    "\n",
    "Esempio 2: \n",
    "\n",
    "Date \n",
    "\n",
    "```python\n",
    "x = 'zam'\n",
    "y = 'ra'\n",
    "z = 'abracadabra'\n",
    "```\n",
    "dovrebbe stampare\n",
    "\n",
    "```bash\n",
    "False\n",
    "```\n",
    "\n",
    "\n"
   ]
  },
  {
   "cell_type": "code",
   "execution_count": 49,
   "metadata": {},
   "outputs": [
    {
     "name": "stdout",
     "output_type": "stream",
     "text": [
      "True\n"
     ]
    }
   ],
   "source": [
    "# scrivi qui\n",
    "\n",
    "x = 'cad'\n",
    "y = 'ra'\n",
    "z = 'abracadabra'\n",
    "\n",
    "\n",
    "print((x in z) and (y in z))"
   ]
  },
  {
   "cell_type": "markdown",
   "metadata": {},
   "source": [
    "### Da fare -  contenute 2\n",
    "\n",
    "Date tre stringhe `x`, `y`, `z`, scrivere del codice che stampa `True` se una stringa `x` è contenuta almeno in una delle stringhe `y` o `z`, altrimenti stampa `False`\n",
    "\n",
    "* il tuo codice deve funzionare con qualunque insieme di stringhe\n",
    "\n",
    "Esempio 1: Dati\n",
    "\n",
    "```python\n",
    "x = 'tti'\n",
    "y = 'patti chiari amicizia lunga'\n",
    "z = 'tutto chiaro?'\n",
    "```\n",
    "\n",
    "deve mostrare\n",
    "\n",
    "`True`\n",
    "\n",
    "Esempio 2: Dati\n",
    "\n",
    "\n",
    "```python\n",
    "x = 'zio'\n",
    "y = 'patti chiari amicizia lunga'\n",
    "z = 'tutto chiaro?'\n",
    "```\n",
    "\n",
    "deve mostrare \n",
    "\n",
    "`False`\n",
    "\n",
    "Esempio 3: Dati\n",
    "\n",
    "\n",
    "```python\n",
    "x = 'chiaro'\n",
    "y = 'patti chiari amicizia lunga'\n",
    "z = 'tutto chiaro?'\n",
    "```\n",
    "\n",
    "deve mostrare \n",
    "\n",
    "`True`\n"
   ]
  },
  {
   "cell_type": "code",
   "execution_count": 50,
   "metadata": {},
   "outputs": [
    {
     "name": "stdout",
     "output_type": "stream",
     "text": [
      "True\n"
     ]
    }
   ],
   "source": [
    "x = 'tti'\n",
    "y = 'patti chiari amicizia lunga'\n",
    "z = 'tutto chiaro?'\n",
    "\n",
    "\n",
    "# scrivi qui\n",
    "\n",
    "print((x in y) or (x  in z))"
   ]
  },
  {
   "cell_type": "markdown",
   "metadata": {},
   "source": [
    "## Operatori uguaglianza\n",
    "\n",
    "Per verificare se due stringhe sono uguali, possiamo usare l'operatore `==` che come risultato produce un booleano `True` oppure `False`\n",
    "\n",
    "<div class=\"alert alert-wargning\">\n",
    "\n",
    "**ATTENZIONE: si scrive** `==` **con DUE uguali !!!**\n",
    "\n",
    "</div>\n"
   ]
  },
  {
   "cell_type": "code",
   "execution_count": 51,
   "metadata": {},
   "outputs": [
    {
     "data": {
      "text/plain": [
       "True"
      ]
     },
     "execution_count": 51,
     "metadata": {},
     "output_type": "execute_result"
    }
   ],
   "source": [
    "\"gatto\" == \"gatto\""
   ]
  },
  {
   "cell_type": "code",
   "execution_count": 52,
   "metadata": {},
   "outputs": [
    {
     "data": {
      "text/plain": [
       "False"
      ]
     },
     "execution_count": 52,
     "metadata": {},
     "output_type": "execute_result"
    }
   ],
   "source": [
    "\"gatto\" == \"cane\""
   ]
  },
  {
   "cell_type": "markdown",
   "metadata": {},
   "source": [
    "L'operatore di uguaglianza distingue tra maiuscole e minuscole:"
   ]
  },
  {
   "cell_type": "code",
   "execution_count": 53,
   "metadata": {},
   "outputs": [
    {
     "data": {
      "text/plain": [
       "False"
      ]
     },
     "execution_count": 53,
     "metadata": {},
     "output_type": "execute_result"
    }
   ],
   "source": [
    "\"gatto\" == \"GATTO\""
   ]
  },
  {
   "cell_type": "markdown",
   "metadata": {},
   "source": [
    "Per vedere se due stringhe NON sono uguali, possiamo usare l'operatore `!=`, che come possiamo attenderci si comporta esattamente all'opposto di `==`:"
   ]
  },
  {
   "cell_type": "code",
   "execution_count": 54,
   "metadata": {},
   "outputs": [
    {
     "data": {
      "text/plain": [
       "False"
      ]
     },
     "execution_count": 54,
     "metadata": {},
     "output_type": "execute_result"
    }
   ],
   "source": [
    "\"gatto\" != \"gatto\""
   ]
  },
  {
   "cell_type": "code",
   "execution_count": 55,
   "metadata": {},
   "outputs": [
    {
     "data": {
      "text/plain": [
       "True"
      ]
     },
     "execution_count": 55,
     "metadata": {},
     "output_type": "execute_result"
    }
   ],
   "source": [
    "\"gatto\" != \"cane\""
   ]
  },
  {
   "cell_type": "code",
   "execution_count": 56,
   "metadata": {},
   "outputs": [
    {
     "data": {
      "text/plain": [
       "True"
      ]
     },
     "execution_count": 56,
     "metadata": {},
     "output_type": "execute_result"
    }
   ],
   "source": [
    "\"gatto\" != \"GATTO\""
   ]
  },
  {
   "cell_type": "markdown",
   "metadata": {},
   "source": [
    "In alternativa, potremmo anche usare l'operatore `not`:"
   ]
  },
  {
   "cell_type": "code",
   "execution_count": 57,
   "metadata": {},
   "outputs": [
    {
     "data": {
      "text/plain": [
       "False"
      ]
     },
     "execution_count": 57,
     "metadata": {},
     "output_type": "execute_result"
    }
   ],
   "source": [
    "not \"gatto\" == \"gatto\""
   ]
  },
  {
   "cell_type": "code",
   "execution_count": 58,
   "metadata": {},
   "outputs": [
    {
     "data": {
      "text/plain": [
       "True"
      ]
     },
     "execution_count": 58,
     "metadata": {},
     "output_type": "execute_result"
    }
   ],
   "source": [
    "not \"gatto\" == \"cane\""
   ]
  },
  {
   "cell_type": "code",
   "execution_count": 59,
   "metadata": {},
   "outputs": [
    {
     "data": {
      "text/plain": [
       "True"
      ]
     },
     "execution_count": 59,
     "metadata": {},
     "output_type": "execute_result"
    }
   ],
   "source": [
    "not \"gatto\" == \"GATTO\""
   ]
  },
  {
   "cell_type": "markdown",
   "metadata": {},
   "source": [
    "**DOMANDA**: Il codice seguente cosa stampa?\n",
    "    \n",
    "```python\n",
    "x = \"fiume\" == \"fiume\" \n",
    "print(x)\n",
    "```"
   ]
  },
  {
   "cell_type": "markdown",
   "metadata": {},
   "source": [
    "**RISPOSTA**: Quando Python incontra `x = \"fiume\" == \"fiume\"` vede che è un'assegnazione, che dovrebbe associare alla variabile `x` il risultato dell'espressione `\"fiume\" == \"fiume\"`. Quindi PRIMA calcola l'espressione `\"fiume\" == \"fiume\"` che produce il booleano `True`, e POI associa il valore `True` alla variabile `x`. Quindi vedremo stampato `True`"
   ]
  },
  {
   "cell_type": "markdown",
   "metadata": {},
   "source": [
    "**DOMANDA**: Per ciascuna delle espressioni seguenti, prova a indovinare se produce `True` o `False`\n",
    "\n",
    "\n",
    "1.  ```python\n",
    "    'cappello' != 'Cappello'\n",
    "    ```\n",
    "1.  ```python    \n",
    "    'cappello' == 'CAPPELLO'\n",
    "    ```\n",
    "1.  ```python    \n",
    "    'pensieroso'[4:8] == 'forestiero'[6:]\n",
    "    ```\n",
    "1.  ```python    \n",
    "    'CoStOsO'[4:] == 'oSo'\n",
    "    ```\n",
    "1.  ```python    \n",
    "    'chiaro'[9:20] == 'scuro'[10:15]\n",
    "    ```\n",
    "1.  ```python    \n",
    "    'ramarro'[-1] == 'giglio'[-1]\n",
    "    ```\n",
    "1.  ```python    \n",
    "    ('cappello' != 'giacca') == ('pantaloni' != 'cravatta')\n",
    "    ```\n",
    "1.  ```python    \n",
    "    ('stra' in 'stradivarius') == ('div' in 'divano')\n",
    "    ```\n",
    "1.  ```python    \n",
    "    len('nota') in '5436'\n",
    "    ```\n",
    "1.  ```python    \n",
    "    str(len('nota') in '5436'\n",
    "    ```\n",
    "1.  ```python    \n",
    "    len('cartellone') in '5436'\n",
    "    ```\n",
    "1.  ```python    \n",
    "    str(len('cartellone')) in '5436'\n",
    "    ```"
   ]
  },
  {
   "cell_type": "markdown",
   "metadata": {},
   "source": [
    "## Altri operatori"
   ]
  },
  {
   "cell_type": "markdown",
   "metadata": {},
   "source": [
    "### Da fare - tanti ciao\n",
    "\n",
    "**DA FARE**: Data la stringa `x = 'hello'`, stampa la stringa con  `'hello'` ripetuto 5 volte: `'hellohellohellohellohello'`. \n",
    "\n",
    "* Risolvi questo esercizio guardando la tabella degli operatori qua sopra. \n",
    "* Il tuo codice deve funzionare con qualsiasi stringa assegnata alla variabile `x`\n"
   ]
  },
  {
   "cell_type": "code",
   "execution_count": 60,
   "metadata": {},
   "outputs": [
    {
     "name": "stdout",
     "output_type": "stream",
     "text": [
      "hellohellohellohellohello\n"
     ]
    }
   ],
   "source": [
    "x = 'hello'\n",
    "\n",
    "# scrivi qui\n",
    "\n",
    "print('hello' * 5)"
   ]
  },
  {
   "cell_type": "markdown",
   "metadata": {},
   "source": [
    "## Prosegui\n",
    "\n",
    "Trovi ulteriori esercizi nel foglio Stringhe 3"
   ]
  },
  {
   "cell_type": "code",
   "execution_count": null,
   "metadata": {},
   "outputs": [],
   "source": []
  }
 ],
 "metadata": {
  "celltoolbar": "Edit Metadata",
  "kernelspec": {
   "display_name": "Python 3",
   "language": "python",
   "name": "python3"
  },
  "language_info": {
   "codemirror_mode": {
    "name": "ipython",
    "version": 3
   },
   "file_extension": ".py",
   "mimetype": "text/x-python",
   "name": "python",
   "nbconvert_exporter": "python",
   "pygments_lexer": "ipython3",
   "version": "3.7.3"
  },
  "toc": {
   "base_numbering": 1,
   "nav_menu": {},
   "number_sections": false,
   "sideBar": true,
   "skip_h1_title": false,
   "title_cell": "Table of Contents",
   "title_sidebar": "Contents",
   "toc_cell": false,
   "toc_position": {},
   "toc_section_display": true,
   "toc_window_display": true
  }
 },
 "nbformat": 4,
 "nbformat_minor": 2
}
