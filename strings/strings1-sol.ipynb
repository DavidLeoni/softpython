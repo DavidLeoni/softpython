{
 "cells": [
  {
   "cell_type": "code",
   "execution_count": 1,
   "metadata": {
    "nbsphinx": "hidden"
   },
   "outputs": [],
   "source": [
    "# Ricordati di eseguire questa cella con Shift+Invio\n",
    "\n",
    "import sys\n",
    "sys.path.append('../')\n",
    "import jupman"
   ]
  },
  {
   "cell_type": "markdown",
   "metadata": {},
   "source": [
    "# Stringhe 1\n",
    "\n",
    "## [Scarica zip esercizi](../_static/generated/strings.zip)\n",
    "\n",
    "[Naviga file online](https://github.com/DavidLeoni/softpython/tree/master/strings)\n",
    "\n",
    "\n",
    "Le stringhe sono sequenze _immutabili_ di caratteri, e costituiscono uno dei tipi di base di Python. In questo foglio vedremo come manipolarle.\n",
    "\n",
    "\n",
    "**Riferimenti**: \n",
    "\n",
    "- [Pensare in Python, Capitolo 8, Stringhe](https://davidleoni.github.io/ThinkPythonItalian/html/thinkpython2009.html)\n",
    "- [Pensare in Python, Capitolo 9, Giochi di parole](https://davidleoni.github.io/ThinkPythonItalian/html/thinkpython2010.html)\n",
    "- [Nicola Cassetta, Lezione 2, Stringhe e dati booleani](http://ncassetta.altervista.org/Tutorial_Python/Lezione_02.html)\n",
    "- [Esercizi Zoppetti  04 Tipi di base - Stringhe](http://www.ifac.cnr.it/~zoppetti/corsopython/) fino a G. front_back incluso\n",
    "- extra per chi vuole fare _text mining_:\n",
    "    - Leggere prima parte su codifica Unicode [del capitolo Stringhe dal libro Immersione in Python](http://gpiancastelli.altervista.org/dip3-it/stringhe.html)\n",
    "    - Guardarsi [la libreria NLTK](https://www.nltk.org/)\n"
   ]
  },
  {
   "cell_type": "markdown",
   "metadata": {},
   "source": [
    "## Che fare\n",
    "\n",
    "- scompatta lo zip in una cartella, dovresti ottenere qualcosa del genere: \n",
    "\n",
    "```\n",
    "\n",
    "strings\n",
    "    strings1.ipynb    \n",
    "    strings1-sol.ipynb         \n",
    "    strings2.ipynb\n",
    "    strings2-sol.ipynb\n",
    "    jupman.py         \n",
    "```\n",
    "\n",
    "<div class=\"alert alert-warning\">\n",
    "\n",
    "**ATTENZIONE**: Per essere visualizzato correttamente, il file del notebook DEVE essere nella cartella szippata.\n",
    "</div>\n",
    "\n",
    "- apri il Jupyter Notebook da quella cartella. Due cose dovrebbero aprirsi, prima una console e poi un browser. Il browser dovrebbe mostrare una lista di file: naviga la lista e apri il notebook `strings1.ipynb`\n",
    "- Prosegui leggendo il file degli esercizi, ogni tanto al suo interno troverai delle scritte **DA FARE**, che ti chiederanno di scrivere dei comandi Python nelle celle successive. Gli esercizi sono graduati per difficoltà, da una stellina ✪ a quattro ✪✪✪✪\n",
    "\n",
    "\n",
    "Scorciatoie da tastiera:\n",
    "\n",
    "* Per eseguire il codice Python dentro una cella di Jupyter, premi `Control+Invio`\n",
    "* Per eseguire il codice Python dentro una cella di Jupyter E selezionare la cella seguente, premi `Shift+Invio`\n",
    "* Per eseguire il codice Python dentro una cella di Jupyter E creare una nuova cella subito dopo, premi `Alt+Invio`\n",
    "* Se per caso il Notebook sembra inchiodato, prova a selezionare `Kernel -> Restart`\n",
    "\n"
   ]
  },
  {
   "cell_type": "markdown",
   "metadata": {},
   "source": [
    "\n",
    "\n",
    "## Creare stringhe\n",
    "\n",
    "Ci sono diversi modi di definire una stringa. \n",
    "\n",
    "**Doppie virgolette, su una linea**"
   ]
  },
  {
   "cell_type": "code",
   "execution_count": 2,
   "metadata": {},
   "outputs": [],
   "source": [
    "a = \"la mia prima stringa, in doppie virgolette\""
   ]
  },
  {
   "cell_type": "code",
   "execution_count": 3,
   "metadata": {},
   "outputs": [
    {
     "name": "stdout",
     "output_type": "stream",
     "text": [
      "la mia prima stringa, in doppie virgolette\n"
     ]
    }
   ],
   "source": [
    "print(a)"
   ]
  },
  {
   "cell_type": "markdown",
   "metadata": {},
   "source": [
    "**Virgolette singole, su una linea**\n",
    "\n",
    "Questo modo è equivalente al precedente."
   ]
  },
  {
   "cell_type": "code",
   "execution_count": 4,
   "metadata": {},
   "outputs": [],
   "source": [
    "b = 'la mia seconda stringa, in virgolette singole'"
   ]
  },
  {
   "cell_type": "code",
   "execution_count": 5,
   "metadata": {},
   "outputs": [
    {
     "name": "stdout",
     "output_type": "stream",
     "text": [
      "la mia seconda stringa, in virgolette singole\n"
     ]
    }
   ],
   "source": [
    "print(b)"
   ]
  },
  {
   "cell_type": "markdown",
   "metadata": {},
   "source": [
    "**Tre doppie virgolette, su più linee**"
   ]
  },
  {
   "cell_type": "code",
   "execution_count": 6,
   "metadata": {},
   "outputs": [],
   "source": [
    "c = \"\"\"la mia terza stringa \n",
    "in triple doppie virgolette\n",
    "quindi la posso mettere \n",
    "\n",
    "su più righe\"\"\""
   ]
  },
  {
   "cell_type": "code",
   "execution_count": 7,
   "metadata": {},
   "outputs": [
    {
     "name": "stdout",
     "output_type": "stream",
     "text": [
      "la mia terza stringa \n",
      "in triple doppie virgolette\n",
      "quindi la posso mettere \n",
      "\n",
      "su più righe\n"
     ]
    }
   ],
   "source": [
    "print(c)"
   ]
  },
  {
   "cell_type": "markdown",
   "metadata": {},
   "source": [
    "** Tre apici, su più linee**"
   ]
  },
  {
   "cell_type": "code",
   "execution_count": 8,
   "metadata": {},
   "outputs": [],
   "source": [
    "d = '''la mia quarta stringa, \n",
    "in triple doppie-virgolette\n",
    "può pure essere messa \n",
    "\n",
    "su più linee\n",
    "'''"
   ]
  },
  {
   "cell_type": "code",
   "execution_count": 9,
   "metadata": {},
   "outputs": [
    {
     "name": "stdout",
     "output_type": "stream",
     "text": [
      "la mia quarta stringa, \n",
      "in triple doppie-virgolette\n",
      "può pure essere messa \n",
      "\n",
      "su più linee\n",
      "\n"
     ]
    }
   ],
   "source": [
    "print(d)"
   ]
  },
  {
   "cell_type": "markdown",
   "metadata": {},
   "source": [
    "## Stampare - le celle\n",
    "\n",
    "Per stampare una stringa possiamo usare la funzione `print`:"
   ]
  },
  {
   "cell_type": "code",
   "execution_count": 10,
   "metadata": {},
   "outputs": [
    {
     "name": "stdout",
     "output_type": "stream",
     "text": [
      "ciao\n"
     ]
    }
   ],
   "source": [
    "print('ciao')"
   ]
  },
  {
   "cell_type": "markdown",
   "metadata": {},
   "source": [
    "Notare che nella stampa _non_ sono riportati gli apici.\n",
    "\n",
    "Se invece scriviamo direttamente la stringa senza la `print`, vedremo gli apici: "
   ]
  },
  {
   "cell_type": "code",
   "execution_count": 11,
   "metadata": {},
   "outputs": [
    {
     "data": {
      "text/plain": [
       "'ciao'"
      ]
     },
     "execution_count": 11,
     "metadata": {},
     "output_type": "execute_result"
    }
   ],
   "source": [
    "'ciao'"
   ]
  },
  {
   "cell_type": "markdown",
   "metadata": {},
   "source": [
    "Cosa succede se scriviamo la stringa coi doppi apici?"
   ]
  },
  {
   "cell_type": "code",
   "execution_count": 12,
   "metadata": {},
   "outputs": [
    {
     "data": {
      "text/plain": [
       "'ciao'"
      ]
     },
     "execution_count": 12,
     "metadata": {},
     "output_type": "execute_result"
    }
   ],
   "source": [
    "\"ciao\""
   ]
  },
  {
   "cell_type": "markdown",
   "metadata": {},
   "source": [
    "Vediamo che di default Jupyter la mostra con gli apici singoli"
   ]
  },
  {
   "cell_type": "markdown",
   "metadata": {},
   "source": [
    "Lo stesso discorso si applica se assegnamo una stringa a una variabile:"
   ]
  },
  {
   "cell_type": "code",
   "execution_count": 13,
   "metadata": {},
   "outputs": [],
   "source": [
    "x = 'ciao'"
   ]
  },
  {
   "cell_type": "code",
   "execution_count": 14,
   "metadata": {},
   "outputs": [
    {
     "name": "stdout",
     "output_type": "stream",
     "text": [
      "ciao\n"
     ]
    }
   ],
   "source": [
    "print(x)"
   ]
  },
  {
   "cell_type": "code",
   "execution_count": 15,
   "metadata": {},
   "outputs": [
    {
     "data": {
      "text/plain": [
       "'ciao'"
      ]
     },
     "execution_count": 15,
     "metadata": {},
     "output_type": "execute_result"
    }
   ],
   "source": [
    "x"
   ]
  },
  {
   "cell_type": "code",
   "execution_count": 16,
   "metadata": {},
   "outputs": [],
   "source": [
    "y = \"ciao\""
   ]
  },
  {
   "cell_type": "code",
   "execution_count": 17,
   "metadata": {},
   "outputs": [
    {
     "name": "stdout",
     "output_type": "stream",
     "text": [
      "ciao\n"
     ]
    }
   ],
   "source": [
    "print(y)"
   ]
  },
  {
   "cell_type": "code",
   "execution_count": 18,
   "metadata": {},
   "outputs": [
    {
     "data": {
      "text/plain": [
       "'ciao'"
      ]
     },
     "execution_count": 18,
     "metadata": {},
     "output_type": "execute_result"
    }
   ],
   "source": [
    "y"
   ]
  },
  {
   "cell_type": "markdown",
   "metadata": {},
   "source": [
    "## La stringa vuota\n",
    "\n",
    "La stringa di lunghezza zero si rappresenta con due doppie virgolette `\"\"` o due doppi apici. \n",
    "\n",
    "Nota che se anche scriviamo due doppie virgolette, Jupyter la mostra che inizia e finisce con un apice solo:"
   ]
  },
  {
   "cell_type": "code",
   "execution_count": 19,
   "metadata": {},
   "outputs": [
    {
     "data": {
      "text/plain": [
       "''"
      ]
     },
     "execution_count": 19,
     "metadata": {},
     "output_type": "execute_result"
    }
   ],
   "source": [
    "\"\""
   ]
  },
  {
   "cell_type": "markdown",
   "metadata": {},
   "source": [
    "Lo stesso vale se associamo una stringa vuota ad una variabile:"
   ]
  },
  {
   "cell_type": "code",
   "execution_count": 20,
   "metadata": {},
   "outputs": [],
   "source": [
    "x = \"\""
   ]
  },
  {
   "cell_type": "code",
   "execution_count": 21,
   "metadata": {},
   "outputs": [
    {
     "data": {
      "text/plain": [
       "''"
      ]
     },
     "execution_count": 21,
     "metadata": {},
     "output_type": "execute_result"
    }
   ],
   "source": [
    "x"
   ]
  },
  {
   "cell_type": "markdown",
   "metadata": {},
   "source": [
    "Nota anche che se chiediamo a Jupyter di stampare con la `print`, non vedremo nulla:"
   ]
  },
  {
   "cell_type": "code",
   "execution_count": 22,
   "metadata": {},
   "outputs": [
    {
     "name": "stdout",
     "output_type": "stream",
     "text": [
      "\n"
     ]
    }
   ],
   "source": [
    "print(\"\")"
   ]
  },
  {
   "cell_type": "code",
   "execution_count": 23,
   "metadata": {},
   "outputs": [
    {
     "name": "stdout",
     "output_type": "stream",
     "text": [
      "\n"
     ]
    }
   ],
   "source": [
    "print('')"
   ]
  },
  {
   "cell_type": "markdown",
   "metadata": {},
   "source": [
    "## Stampare più stringhe\n",
    "\n",
    "Per stampare più stringhe su una linea ci sono diversi modi, cominciamo dal più semplice con la `print`"
   ]
  },
  {
   "cell_type": "code",
   "execution_count": 24,
   "metadata": {},
   "outputs": [
    {
     "name": "stdout",
     "output_type": "stream",
     "text": [
      "ciao Python\n"
     ]
    }
   ],
   "source": [
    "x = \"ciao\"\n",
    "y = \"Python\"\n",
    "\n",
    "print(x,y)   # nota che nella stampa Python ha inserito uno spazio"
   ]
  },
  {
   "cell_type": "markdown",
   "metadata": {},
   "source": [
    "Alla `print` possiamo aggiungere quanti parametri vogliamo, e possono anche essere mischiati con altri tipi come i numeri:"
   ]
  },
  {
   "cell_type": "code",
   "execution_count": 25,
   "metadata": {},
   "outputs": [
    {
     "name": "stdout",
     "output_type": "stream",
     "text": [
      "ciao Python 3\n"
     ]
    }
   ],
   "source": [
    "x = \"ciao\"\n",
    "y = \"Python\"\n",
    "z = 3\n",
    "\n",
    "print(x,y,z)"
   ]
  },
  {
   "cell_type": "markdown",
   "metadata": {},
   "source": [
    "## Lunghezza di una stringa\n",
    "\n",
    "Per ottenere la lunghezza di una stringa (o in genere di qualunque sequenza), possiamo usare la funzione `len`:"
   ]
  },
  {
   "cell_type": "code",
   "execution_count": 26,
   "metadata": {},
   "outputs": [
    {
     "data": {
      "text/plain": [
       "4"
      ]
     },
     "execution_count": 26,
     "metadata": {},
     "output_type": "execute_result"
    }
   ],
   "source": [
    "len(\"ciao\")"
   ]
  },
  {
   "cell_type": "code",
   "execution_count": 27,
   "metadata": {},
   "outputs": [
    {
     "data": {
      "text/plain": [
       "0"
      ]
     },
     "execution_count": 27,
     "metadata": {},
     "output_type": "execute_result"
    }
   ],
   "source": [
    "len(\"\")   # stringa vuota"
   ]
  },
  {
   "cell_type": "code",
   "execution_count": 28,
   "metadata": {},
   "outputs": [
    {
     "data": {
      "text/plain": [
       "0"
      ]
     },
     "execution_count": 28,
     "metadata": {},
     "output_type": "execute_result"
    }
   ],
   "source": [
    "len('')   # stringa vuota"
   ]
  },
  {
   "cell_type": "markdown",
   "metadata": {},
   "source": [
    "**DOMANDA**: Possiamo scrivere una cosa del genere? \n",
    "\n",
    "```python\n",
    "\"len\"(\"ciao\")\n",
    "```"
   ]
  },
  {
   "cell_type": "markdown",
   "metadata": {},
   "source": [
    "**RISPOSTA**: no, `\"len\"` tra virgolette verrà interpretato come una stringa, non come una funzione, e quindi Python si lamenterà dicendoci che non possiamo applicare una stringa ad un'altra stringa. Prova a vedere che errore viene fuori qua riscrivendo l'espressione qua sotto."
   ]
  },
  {
   "cell_type": "code",
   "execution_count": 29,
   "metadata": {},
   "outputs": [],
   "source": [
    "# scrivi qui\n",
    "\n",
    "#\"len\"(\"ciao\")"
   ]
  },
  {
   "cell_type": "markdown",
   "metadata": {},
   "source": [
    "**DOMANDA**: possiamo scrivere una cosa del genere? Cosa produce? un errore? un numero ? Quale?\n",
    "\n",
    "```python\n",
    "len(\"len('ciao')\")\n",
    "```"
   ]
  },
  {
   "cell_type": "markdown",
   "metadata": {},
   "source": [
    "**RISPOSTA**: restituisce il numero `11`: mettendo il codice Python  `len('ciao')` tra doppie virgolette, è diventato una stringa come tutte le altre. Quindi scrivendo `len(\"len('ciao')\")` andiamo a contare quanto è lunga la stringa `\"len('ciao')\"`, cioè 11."
   ]
  },
  {
   "cell_type": "markdown",
   "metadata": {},
   "source": [
    "**DOMANDA**: Cosa otteniamo se scriviamo così:\n",
    "\n",
    "```python\n",
    "\n",
    "len((((((\"ciao\"))))))\n",
    "```\n",
    "\n",
    "1. un errore\n",
    "2. la lunghezza della stringa\n",
    "3. qualcos'altro"
   ]
  },
  {
   "cell_type": "markdown",
   "metadata": {},
   "source": [
    "**RISPOSTA**: La 2: `\"ciao\"` è una espressione, come tale possiamo racchiuderla in quante parentesi tonde vogliamo."
   ]
  },
  {
   "cell_type": "markdown",
   "metadata": {},
   "source": [
    "**Contare sequenze di escape**: Nota che alcune sequenze particolari dette di _escape_ come per esempio `\\t` occupano meno spazi di quello che sembra (con `len` contano come 1), ma stampate ne occupano addirittura di più di 2 !! \n",
    "\n",
    "Vediamo un esempio, nel prossimo paragrafo scenderemo nei dettagli:"
   ]
  },
  {
   "cell_type": "code",
   "execution_count": 30,
   "metadata": {},
   "outputs": [
    {
     "data": {
      "text/plain": [
       "3"
      ]
     },
     "execution_count": 30,
     "metadata": {},
     "output_type": "execute_result"
    }
   ],
   "source": [
    "len('a\\tb')"
   ]
  },
  {
   "cell_type": "code",
   "execution_count": 31,
   "metadata": {},
   "outputs": [
    {
     "name": "stdout",
     "output_type": "stream",
     "text": [
      "a\tb\n"
     ]
    }
   ],
   "source": [
    "print('a\\tb')"
   ]
  },
  {
   "cell_type": "markdown",
   "metadata": {},
   "source": [
    "\n",
    "## Stampare - sequenze di escape\n",
    "\n",
    "Alcune sequenze di caratteri dette _sequenze di escape_ sono speciali perchè invece di mostrare caratteri, forzano la stampa a fare cose particolari come andare a capo o inserire spazi extra. Queste sequenze sono sempre precedute da il carattere di _backslash_ `\\`:\n",
    "\n",
    "|Descrizione|Sequenza di _escape_| \n",
    "|-----------|---------------------|\n",
    "|Ritorno a capo (_linefeed_)|`\\n`|\n",
    "|Tabulazione (_ASCII tab_)| `\\t`| \n",
    "\n",
    "\n",
    "#### Esempio - ritorno a capo"
   ]
  },
  {
   "cell_type": "code",
   "execution_count": 32,
   "metadata": {},
   "outputs": [
    {
     "name": "stdout",
     "output_type": "stream",
     "text": [
      "ciao\n",
      "mondo\n"
     ]
    }
   ],
   "source": [
    "print(\"ciao\\nmondo\")"
   ]
  },
  {
   "cell_type": "markdown",
   "metadata": {},
   "source": [
    "Notare che il ritorno a capo si verifica SOLO quando stampiamo con `print`, se invece immettiamo direttamente la stringa nella cella la vediamo tale e quale: "
   ]
  },
  {
   "cell_type": "code",
   "execution_count": 33,
   "metadata": {},
   "outputs": [
    {
     "data": {
      "text/plain": [
       "'ciao\\nmondo'"
      ]
     },
     "execution_count": 33,
     "metadata": {},
     "output_type": "execute_result"
    }
   ],
   "source": [
    "\"ciao\\nmondo\""
   ]
  },
  {
   "cell_type": "markdown",
   "metadata": {},
   "source": [
    "In una stringa si possono mettere quante sequenze si vuole:"
   ]
  },
  {
   "cell_type": "code",
   "execution_count": 34,
   "metadata": {},
   "outputs": [
    {
     "name": "stdout",
     "output_type": "stream",
     "text": [
      "La nebbia a gl'irti colli\n",
      "piovigginando sale,\n",
      "e sotto il maestrale\n",
      "urla e biancheggia il mar;\n"
     ]
    }
   ],
   "source": [
    "print(\"La nebbia a gl'irti colli\\npiovigginando sale,\\ne sotto il maestrale\\nurla e biancheggia il mar;\")"
   ]
  },
  {
   "cell_type": "markdown",
   "metadata": {},
   "source": [
    "#### Esempio - tabulazione"
   ]
  },
  {
   "cell_type": "code",
   "execution_count": 35,
   "metadata": {},
   "outputs": [
    {
     "name": "stdout",
     "output_type": "stream",
     "text": [
      "ciao\tmondo\n"
     ]
    }
   ],
   "source": [
    "print(\"ciao\\tmondo\")"
   ]
  },
  {
   "cell_type": "code",
   "execution_count": 36,
   "metadata": {},
   "outputs": [
    {
     "name": "stdout",
     "output_type": "stream",
     "text": [
      "ciao\tmondo\tcon\ttante\ttab\n"
     ]
    }
   ],
   "source": [
    "print(\"ciao\\tmondo\\tcon\\ttante\\ttab\")"
   ]
  },
  {
   "cell_type": "markdown",
   "metadata": {},
   "source": [
    "**DA FARE**: Visto che le _sequenze di escape_ sono speciali, ci si può chiedere quanto siano lunghe. Usa la funzione `len` per stampare la lunghezza delle stringhe. Noti qualcosa di strano?\n",
    "\n",
    "* `'ab\\ncd'`\n",
    "* `'ab\\tcd'`"
   ]
  },
  {
   "cell_type": "code",
   "execution_count": 37,
   "metadata": {},
   "outputs": [],
   "source": [
    "# scrivi qui\n",
    "\n"
   ]
  },
  {
   "cell_type": "markdown",
   "metadata": {},
   "source": [
    "**DA FARE**: Prova a selezionare la sequenza di caratteri stampata nella precedente cella. Cosa ottieni ?  Una sequenza di spazi, oppure un carattere singolo di tabulazione?  Nota che questo può variare a seconda del programma che ha effettivamente stampato la stringa."
   ]
  },
  {
   "cell_type": "markdown",
   "metadata": {},
   "source": [
    "**DA FARE**: trova UNA SOLA stringa che stampata con `print` venga mostrata come la seguente.\n",
    "\n",
    "- USA SOLO combinazioni di `\\t` e `\\n`\n",
    "- NON usare spazi\n",
    "- inizia e concludi la stringa con apice singolo\n",
    "\n",
    "```\n",
    "Questa\tè\n",
    "una\n",
    "\n",
    "sfida\tapparentemente\t\tsemplice\n",
    "```\n"
   ]
  },
  {
   "cell_type": "code",
   "execution_count": 38,
   "metadata": {},
   "outputs": [
    {
     "name": "stdout",
     "output_type": "stream",
     "text": [
      "Questa\tè\n",
      "una\n",
      "\n",
      "sfida\tapparentemente\t\tsemplice\n"
     ]
    }
   ],
   "source": [
    "# scrivi qui\n",
    "\n",
    "print('Questa\\tè\\nuna\\n\\nsfida\\tapparentemente\\t\\tsemplice')"
   ]
  },
  {
   "cell_type": "markdown",
   "metadata": {},
   "source": [
    "**DA FARE**: Prova a trovare una stringa che stampata con `print` venga mostrata così, SENZA usare nessuno spazio, SENZA triple apici e usando SOLO combinazioni di `\\t` e `\\n` !!\n"
   ]
  },
  {
   "cell_type": "code",
   "execution_count": 39,
   "metadata": {},
   "outputs": [
    {
     "name": "stdout",
     "output_type": "stream",
     "text": [
      "At\tte\n",
      "n\ttis\n",
      "simame\n",
      "\n",
      "n\n",
      "te\n"
     ]
    }
   ],
   "source": [
    "print(\"At\\tte\\nn\\ttis\\nsimame\\n\\nn\\nte\")"
   ]
  },
  {
   "cell_type": "markdown",
   "metadata": {},
   "source": [
    "**Caratteri speciali**: Per mettere caratteri speciali come il singolo apice `'` o le doppie virgolette `\"` , dobbiamo creare una cosiddetta _sequenza di escape_, cioè prima scriviamo il carattere _backslash_ `\\` e poi lo facciamo seguire dal carattere speciale che ci interessa: \n",
    "\n",
    "|Descrizione|Sequenza di _escape_|Risultato a stampa|\n",
    "|--------|-----|-----------|\n",
    "|Apice singolo|`\\'`|`'`|\n",
    "|Doppio apice|`\\\"`| `\"`|\n",
    "|Backslash|`\\\\` | `\\`|\n"
   ]
  },
  {
   "cell_type": "markdown",
   "metadata": {},
   "source": [
    "**Esempio**:\n",
    "\n",
    "Stampiamo una stringa contenente un apice singolo `'` e una doppia virgoletta `\"`"
   ]
  },
  {
   "cell_type": "code",
   "execution_count": 40,
   "metadata": {},
   "outputs": [],
   "source": [
    "stringa = \"Così metto \\'apici\\' e \\\"doppie virgolette\\\" nelle stringhe\""
   ]
  },
  {
   "cell_type": "code",
   "execution_count": 41,
   "metadata": {},
   "outputs": [
    {
     "name": "stdout",
     "output_type": "stream",
     "text": [
      "Così metto 'apici' e \"doppie virgolette\" nelle stringhe\n"
     ]
    }
   ],
   "source": [
    "print(stringa)"
   ]
  },
  {
   "cell_type": "markdown",
   "metadata": {},
   "source": [
    "Se una stringa inizia con doppi apici, all'interno possiamo usare liberamente singoli apici, anche senza _backslash_ `\\`:"
   ]
  },
  {
   "cell_type": "code",
   "execution_count": 42,
   "metadata": {},
   "outputs": [
    {
     "name": "stdout",
     "output_type": "stream",
     "text": [
      "Non c'è problema\n"
     ]
    }
   ],
   "source": [
    "print(\"Non c'è problema\")"
   ]
  },
  {
   "cell_type": "markdown",
   "metadata": {},
   "source": [
    "Se inizia con singoli apici, possiamo liberamente usare doppie virgolette anche senza _backslash_ `\\`:"
   ]
  },
  {
   "cell_type": "code",
   "execution_count": 43,
   "metadata": {},
   "outputs": [
    {
     "name": "stdout",
     "output_type": "stream",
     "text": [
      "Così è \"se vi pare\"\n"
     ]
    }
   ],
   "source": [
    "print('Così è \"se vi pare\"')"
   ]
  },
  {
   "cell_type": "markdown",
   "metadata": {},
   "source": [
    "**DA FARE**: Trova una stringa da stampare con la `print` che stampata mostri la sequenza seguente\n",
    "\n",
    "* la stringa DEVE iniziare e finire con singoli apici `'`\n",
    "\n",
    "```\n",
    "Questo \"genio\" delle stringhe vuole  /\\\\/ fregarmi \\//\\ con esercizi atroci O_o'\n",
    "```\n"
   ]
  },
  {
   "cell_type": "code",
   "execution_count": 44,
   "metadata": {},
   "outputs": [
    {
     "name": "stdout",
     "output_type": "stream",
     "text": [
      "Questo \"genio\" delle stringhe vuole  /\\\\/ fregarmi \\//\\ con esercizi atroci O_o'\n"
     ]
    }
   ],
   "source": [
    "# scrivi qui\n",
    "\n",
    "print('Questo \"genio\" delle stringhe vuole  /\\\\\\\\/ fregarmi \\\\//\\\\ con esercizi atroci O_o\\'')"
   ]
  },
  {
   "cell_type": "markdown",
   "metadata": {},
   "source": [
    "**Caratteri Unicode**: Quando abbiamo bisogno di caratteri particolari come ✪ che non sono disponibili sulla tastiera, possiamo rivolgerci ai caratteri Unicode. [Ce ne sono tantissimi](http://www.fileformat.info/info/unicode/char/a.htm), e spesso per metterli in Python 3 è sufficiente un copia e incolla. Per esempio, andando su [questa pagina](https://www.fileformat.info/info/unicode/char/272a/index.htm) possiamo copia incollare il carattere ✪. In altri casi il carattere può essere così speciale da non essere nemmeno correttamente visualizzato, in tali situazioni si può usare una sequenza più complessa in formato `\\uxxxx` come questa:\n",
    "\n",
    "|Descrizione|Sequenza di _escape_|Risultato a stampa|\n",
    "|--------|-----|-----------|\n",
    "|Esempio stella in cerchio in formato `\\uxxxx`| `\\u272A`|✪|\n"
   ]
  },
  {
   "cell_type": "markdown",
   "metadata": {},
   "source": [
    "**DA FARE**: Prova a cercare in google _Unicode heart_ e prova a far stampare a Python un cuoricino , sia copia-incollando direttamente il carattere che usando la notazione `\\uxxxx`"
   ]
  },
  {
   "cell_type": "code",
   "execution_count": 45,
   "metadata": {},
   "outputs": [
    {
     "name": "stdout",
     "output_type": "stream",
     "text": [
      "I ♥ Python, with copy-paste\n",
      "I ♥ Python, also in format \\uxxxx\n"
     ]
    }
   ],
   "source": [
    "# scrivi qui\n",
    "\n",
    "print(\"I ♥ Python, with copy-paste\")\n",
    "print(\"I \\u2665 Python, also in format \\\\uxxxx\")\n"
   ]
  },
  {
   "cell_type": "markdown",
   "metadata": {},
   "source": [
    "\n",
    "## Le stringhe sono immutabili\n",
    "\n",
    "Le stringhe sono oggetti _immutabili_, quindi una volta create non si possono più cambiare. Questo può apparire restrittivo, ma non è poi così tragico, perchè abbiamo comunque a disposizione queste alternative:\n",
    "\n",
    "* generare una nuova stringa a partire da stringhe precedenti\n",
    "* se abbiamo una variabile a cui abbiamo assegnato una stringa, possiamo assegnare un'altra stringa a quella variabile "
   ]
  },
  {
   "cell_type": "markdown",
   "metadata": {},
   "source": [
    "Proviamo a generare una nuova stringa a partire da precedenti, per esempio concatendone due con l'operatore `+`\n",
    "    "
   ]
  },
  {
   "cell_type": "code",
   "execution_count": 46,
   "metadata": {},
   "outputs": [],
   "source": [
    "x = 'ciao'"
   ]
  },
  {
   "cell_type": "code",
   "execution_count": 47,
   "metadata": {},
   "outputs": [],
   "source": [
    "y = x + 'mondo'"
   ]
  },
  {
   "cell_type": "code",
   "execution_count": 48,
   "metadata": {},
   "outputs": [
    {
     "data": {
      "text/plain": [
       "'ciao'"
      ]
     },
     "execution_count": 48,
     "metadata": {},
     "output_type": "execute_result"
    }
   ],
   "source": [
    "x"
   ]
  },
  {
   "cell_type": "code",
   "execution_count": 49,
   "metadata": {},
   "outputs": [
    {
     "data": {
      "text/plain": [
       "'ciaomondo'"
      ]
     },
     "execution_count": 49,
     "metadata": {},
     "output_type": "execute_result"
    }
   ],
   "source": [
    "y"
   ]
  },
  {
   "cell_type": "markdown",
   "metadata": {},
   "source": [
    "L'operazione `+` quando eseguita _tra stringhe_ le attacca creando una NUOVA stringa. Questo significa che l'associazione per `x`  non è affatto cambiata, l'unica vera modifica osservabile è che abbiamo associato la stringa `'ciaomondo` alla variabile `y`. Prova a sincerartene in Python Tutor cliccando ripetutamente sul bottone _Next_:"
   ]
  },
  {
   "cell_type": "code",
   "execution_count": 50,
   "metadata": {},
   "outputs": [],
   "source": [
    "# ATTENZIONE: per usare la funzione jupman.pytut() di seguito, \n",
    "# è necessario eseguire prima questa cella con Shift+Invio\n",
    "\n",
    "# basta eseguirla una volta sola, la trovi presente anche in tutti i fogli nella prima cella\n",
    "\n",
    "import sys\n",
    "sys.path.append('../')\n",
    "import jupman"
   ]
  },
  {
   "cell_type": "code",
   "execution_count": 51,
   "metadata": {},
   "outputs": [
    {
     "name": "stdout",
     "output_type": "stream",
     "text": [
      "ciao\n",
      "ciaomondo\n"
     ]
    },
    {
     "data": {
      "text/html": [
       "\n",
       "        <iframe\n",
       "            width=\"900\"\n",
       "            height=\"350\"\n",
       "            src=\"https://pythontutor.com/iframe-embed.html#code=x+%3D+%27ciao%27%0Ay+%3D+x+%2B+%27mondo%27%0A%0Aprint%28x%29%0Aprint%28y%29%0A%0A&cumulative=false&py=3&curInstr=0\"\n",
       "            frameborder=\"0\"\n",
       "            allowfullscreen\n",
       "        ></iframe>\n",
       "        "
      ],
      "text/plain": [
       "<IPython.lib.display.IFrame at 0x7ff8fc535588>"
      ]
     },
     "execution_count": 51,
     "metadata": {},
     "output_type": "execute_result"
    }
   ],
   "source": [
    "x = 'ciao'\n",
    "y = x + 'mondo'\n",
    "\n",
    "print(x)\n",
    "print(y)\n",
    "\n",
    "jupman.pytut()"
   ]
  },
  {
   "cell_type": "markdown",
   "metadata": {},
   "source": [
    "### Riassegnare variabili\n",
    "\n",
    "Altre variazioni allo stato della memoria possono essere ottenute riassegnando le variabili, per esempio: "
   ]
  },
  {
   "cell_type": "code",
   "execution_count": 52,
   "metadata": {},
   "outputs": [],
   "source": [
    "x = 'ciao'"
   ]
  },
  {
   "cell_type": "code",
   "execution_count": 53,
   "metadata": {},
   "outputs": [],
   "source": [
    "y = 'mondo'"
   ]
  },
  {
   "cell_type": "code",
   "execution_count": 54,
   "metadata": {},
   "outputs": [],
   "source": [
    "x = y        # assegnamo a x la stessa stringa contenuta in y"
   ]
  },
  {
   "cell_type": "code",
   "execution_count": 55,
   "metadata": {},
   "outputs": [
    {
     "data": {
      "text/plain": [
       "'mondo'"
      ]
     },
     "execution_count": 55,
     "metadata": {},
     "output_type": "execute_result"
    }
   ],
   "source": [
    "x"
   ]
  },
  {
   "cell_type": "code",
   "execution_count": 56,
   "metadata": {},
   "outputs": [
    {
     "data": {
      "text/plain": [
       "'mondo'"
      ]
     },
     "execution_count": 56,
     "metadata": {},
     "output_type": "execute_result"
    }
   ],
   "source": [
    "y"
   ]
  },
  {
   "cell_type": "markdown",
   "metadata": {},
   "source": [
    "Se una stringa che è stata creata non risulta assegnata a nessuna variabile, Python si occuperà automaticamente di eliminarla dalla memoria. Nel caso qui sopra, la stringa 'ciao' in sè non è mai cambiata, semplicemente a un certo punto si è ritrovata non più assegnata ad alcuna variabile, e perciò Python ha provveduto ad eliminarla dalla memoria. Guarda cosa succede in Python Tutor:"
   ]
  },
  {
   "cell_type": "code",
   "execution_count": 57,
   "metadata": {},
   "outputs": [
    {
     "data": {
      "text/html": [
       "\n",
       "        <iframe\n",
       "            width=\"900\"\n",
       "            height=\"300\"\n",
       "            src=\"https://pythontutor.com/iframe-embed.html#code=x+%3D+%27ciao%27%0Ay+%3D+%27mondo%27%0Ax+%3D+y%0A%0A&cumulative=false&py=3&curInstr=0\"\n",
       "            frameborder=\"0\"\n",
       "            allowfullscreen\n",
       "        ></iframe>\n",
       "        "
      ],
      "text/plain": [
       "<IPython.lib.display.IFrame at 0x7ff8fc4f1198>"
      ]
     },
     "execution_count": 57,
     "metadata": {},
     "output_type": "execute_result"
    }
   ],
   "source": [
    "x = 'ciao'\n",
    "y = 'mondo'\n",
    "x = y\n",
    "\n",
    "jupman.pytut()"
   ]
  },
  {
   "cell_type": "markdown",
   "metadata": {},
   "source": [
    "### Riassegnare una variabile a sè stessa\n",
    "\n",
    "Possiamo chiederci cosa succede quando scriviamo qualcosa del genere:"
   ]
  },
  {
   "cell_type": "code",
   "execution_count": 58,
   "metadata": {},
   "outputs": [],
   "source": [
    "x = 'ciao'\n",
    "\n",
    "x = x"
   ]
  },
  {
   "cell_type": "code",
   "execution_count": 59,
   "metadata": {},
   "outputs": [
    {
     "name": "stdout",
     "output_type": "stream",
     "text": [
      "ciao\n"
     ]
    }
   ],
   "source": [
    "print(x)"
   ]
  },
  {
   "cell_type": "markdown",
   "metadata": {},
   "source": [
    "Non è successo molto, l'assegnazione di `x` è rimasta inalterata.\n",
    "\n",
    "Ma cosa succede se a destra dell'`=` mettiamo una formula più complessa?"
   ]
  },
  {
   "cell_type": "code",
   "execution_count": 60,
   "metadata": {},
   "outputs": [
    {
     "name": "stdout",
     "output_type": "stream",
     "text": [
      "ciaomondo\n"
     ]
    }
   ],
   "source": [
    "x = 'ciao'\n",
    "\n",
    "x = x + 'mondo'\n",
    "\n",
    "print(x)"
   ]
  },
  {
   "cell_type": "markdown",
   "metadata": {},
   "source": [
    "Cerchiamo di capire bene che è successo. \n",
    "\n",
    "Nella prima linea, Python ha generato la stringa `'ciao'` e l'ha assegnata alla variabile `x`. Ma fin qui, niente di straordinario.\n",
    "\n",
    "Poi, nella seconda linea, Python ha fatto due cose:\n",
    "\n",
    "1. ha calcolato il risultato dell'espressione `x + 'mondo'`, generando una NUOVA stringa `ciaomondo`\n",
    "2. ha assegnato la stringa appena generata `ciaomondo` alla variabile `x`\n",
    "\n",
    "E' fondamentale capire bene che in presenza di riassegnamenti avvengono i due passaggi appena citati, che quindi ribadiamo: \n",
    "\n",
    "* PRIMA viene calcolato il risultato dell'espressione a destra dell'`=` (avendo quindi a disposizione il vecchio valore associato a `x`)\n",
    "* POI il risultato viene associato alla variabile a sinistra dell'`=`.\n",
    "\n",
    "Se proviamo a guardare in Python Tutor, questo doppio passaggio viene eseguito in un colpo solo:"
   ]
  },
  {
   "cell_type": "code",
   "execution_count": 61,
   "metadata": {},
   "outputs": [
    {
     "data": {
      "text/html": [
       "\n",
       "        <iframe\n",
       "            width=\"900\"\n",
       "            height=\"275\"\n",
       "            src=\"https://pythontutor.com/iframe-embed.html#code=x+%3D+%27ciao%27%0Ax+%3D+x+%2B+%27mondo%27%0A%0A&cumulative=false&py=3&curInstr=0\"\n",
       "            frameborder=\"0\"\n",
       "            allowfullscreen\n",
       "        ></iframe>\n",
       "        "
      ],
      "text/plain": [
       "<IPython.lib.display.IFrame at 0x7ff8fc3877b8>"
      ]
     },
     "execution_count": 61,
     "metadata": {},
     "output_type": "execute_result"
    }
   ],
   "source": [
    "x = 'ciao'\n",
    "x = x + 'mondo'\n",
    "\n",
    "jupman.pytut()"
   ]
  },
  {
   "cell_type": "markdown",
   "metadata": {},
   "source": [
    "**DA FARE**: Scrivi del codice che cambia lo stato della memoria in modo che alla fine risulti la stampa seguente: \n",
    "\n",
    "```\n",
    "z =  Questo\n",
    "w =  era\n",
    "x =  un problema\n",
    "y =  era\n",
    "s =  Questo era un problema\n",
    "```\n",
    "\n",
    "* per scrivere il codice, USA SOLO i simboli `=`,`+`,`z`,`w`,`x`,`y`,`s` E NIENT'ALTRO\n",
    "* puoi usare quante linee di codice ritieni opportune\n",
    "* puoi usare ogni simbolo quante volte vuoi\n",
    "\n",
    "\n"
   ]
  },
  {
   "cell_type": "code",
   "execution_count": 62,
   "metadata": {},
   "outputs": [],
   "source": [
    "# queste variabili ti sono date\n",
    "\n",
    "z = \"Questo\"\n",
    "w = 'è'\n",
    "x = 'un problema'\n",
    "y = 'era'\n",
    "s = ' '\n",
    "\n",
    "# scrivi qui il codice\n",
    "\n",
    "w = y\n",
    "\n",
    "s = z + s + y + s + x"
   ]
  },
  {
   "cell_type": "code",
   "execution_count": 63,
   "metadata": {},
   "outputs": [
    {
     "name": "stdout",
     "output_type": "stream",
     "text": [
      "z =  Questo\n",
      "w =  era\n",
      "x =  un problema\n",
      "y =  era\n",
      "s =  Questo era un problema\n"
     ]
    }
   ],
   "source": [
    "print(\"z = \", z)\n",
    "print(\"w = \", w)\n",
    "print(\"x = \", x)\n",
    "print(\"y = \", y)\n",
    "print(\"s = \", s)"
   ]
  },
  {
   "cell_type": "markdown",
   "metadata": {},
   "source": [
    "## Stringhe e  numeri"
   ]
  },
  {
   "cell_type": "markdown",
   "metadata": {},
   "source": [
    "Le stringhe in Python hanno il tipo `str`:\n",
    "\n"
   ]
  },
  {
   "cell_type": "code",
   "execution_count": 64,
   "metadata": {},
   "outputs": [
    {
     "data": {
      "text/plain": [
       "str"
      ]
     },
     "execution_count": 64,
     "metadata": {},
     "output_type": "execute_result"
    }
   ],
   "source": [
    "type(\"ciao mondo\")"
   ]
  },
  {
   "cell_type": "markdown",
   "metadata": {},
   "source": [
    "Nelle stringhe possiamo inserire dei caratteri che rappresentano cifre:"
   ]
  },
  {
   "cell_type": "code",
   "execution_count": 65,
   "metadata": {},
   "outputs": [
    {
     "name": "stdout",
     "output_type": "stream",
     "text": [
      "Il carattere 5 rappresenta la cifra cinque, il carattere 3 rappresenta la cifra tre\n"
     ]
    }
   ],
   "source": [
    "print(\"Il carattere 5 rappresenta la cifra cinque, il carattere 3 rappresenta la cifra tre\")"
   ]
  },
  {
   "cell_type": "markdown",
   "metadata": {},
   "source": [
    "Ovviamente possiamo anche costruire una sequenza di cifre, per avere ciò che sembra un numero:"
   ]
  },
  {
   "cell_type": "code",
   "execution_count": 66,
   "metadata": {},
   "outputs": [
    {
     "name": "stdout",
     "output_type": "stream",
     "text": [
      "La sequenza di caratteri 7583 rappresenta il numero settemila cinquecento ottanta tre\n"
     ]
    }
   ],
   "source": [
    "print(\"La sequenza di caratteri 7583 rappresenta il numero settemila cinquecento ottanta tre\")"
   ]
  },
  {
   "cell_type": "markdown",
   "metadata": {},
   "source": [
    "Detto ciò, possiamo domandarci come si comporta Python quando abbiamo una _stringa_ che contiene _solo_ una sequenza di caratteri che rappresenta un numero, come per esempio `'254'`"
   ]
  },
  {
   "cell_type": "markdown",
   "metadata": {},
   "source": [
    "Possiamo usare `'254'` (che abbiamo scritto come se fosse una stringa) anche come se fosse un numero? Per esempio, possiamo sommarci 3 ?"
   ]
  },
  {
   "cell_type": "markdown",
   "metadata": {},
   "source": [
    "\n",
    "```python\n",
    "'254' + 3\n",
    "\n",
    "---------------------------------------------------------------------------\n",
    "TypeError                                 Traceback (most recent call last)\n",
    "<ipython-input-29-d39aa62a7e3d> in <module>\n",
    "----> 1 \"254\" + 3\n",
    "\n",
    "TypeError: can only concatenate str (not \"int\") to str\n",
    "```"
   ]
  },
  {
   "cell_type": "markdown",
   "metadata": {},
   "source": [
    "Come vedi, Python is offende immediatamente, perchè stiamo cercando di mischiare tipi differenti\n",
    "\n",
    "**QUINDI:**\n",
    "\n",
    "* Scrivendo `'254'` tra doppi apici creiamo una _stringa_ di tipo `str`\n",
    "* scrivendo `254` creiamo un _numero_ di tipo `int`\n"
   ]
  },
  {
   "cell_type": "code",
   "execution_count": 67,
   "metadata": {},
   "outputs": [
    {
     "data": {
      "text/plain": [
       "str"
      ]
     },
     "execution_count": 67,
     "metadata": {},
     "output_type": "execute_result"
    }
   ],
   "source": [
    "type('254')"
   ]
  },
  {
   "cell_type": "code",
   "execution_count": 68,
   "metadata": {},
   "outputs": [
    {
     "data": {
      "text/plain": [
       "int"
      ]
     },
     "execution_count": 68,
     "metadata": {},
     "output_type": "execute_result"
    }
   ],
   "source": [
    "type(254)"
   ]
  },
  {
   "cell_type": "markdown",
   "metadata": {},
   "source": [
    "<div class=\"alert alert-warning\">\n",
    "\n",
    "**ATTENZIONE ALLA** `print` **!!**\n",
    "\n",
    "Se provi a stampare una stringa che contiene solo cifre, Python la mostrerà senza apici, e questo potrebbe ingannarti riguardo la sua vera natura !!\n",
    "\n",
    "</div>"
   ]
  },
  {
   "cell_type": "code",
   "execution_count": 69,
   "metadata": {},
   "outputs": [
    {
     "name": "stdout",
     "output_type": "stream",
     "text": [
      "254\n"
     ]
    }
   ],
   "source": [
    "print('254')"
   ]
  },
  {
   "cell_type": "code",
   "execution_count": 70,
   "metadata": {},
   "outputs": [
    {
     "name": "stdout",
     "output_type": "stream",
     "text": [
      "254\n"
     ]
    }
   ],
   "source": [
    "print(254)"
   ]
  },
  {
   "cell_type": "markdown",
   "metadata": {},
   "source": [
    "_Solo in Jupyter_, per mostrare costanti, variabili o risultati di calcoli, come alternativa alla  `print` puoi immettere direttamente una formula nella cella. In questo caso siamo semplicmente mostrando una costante, e quando è una stringa vedrai degli apici:"
   ]
  },
  {
   "cell_type": "code",
   "execution_count": 71,
   "metadata": {},
   "outputs": [
    {
     "data": {
      "text/plain": [
       "'254'"
      ]
     },
     "execution_count": 71,
     "metadata": {},
     "output_type": "execute_result"
    }
   ],
   "source": [
    "'254'"
   ]
  },
  {
   "cell_type": "code",
   "execution_count": 72,
   "metadata": {},
   "outputs": [
    {
     "data": {
      "text/plain": [
       "254"
      ]
     },
     "execution_count": 72,
     "metadata": {},
     "output_type": "execute_result"
    }
   ],
   "source": [
    "254"
   ]
  },
  {
   "cell_type": "markdown",
   "metadata": {},
   "source": [
    "Lo stesso discorso vale anche per le variabili: "
   ]
  },
  {
   "cell_type": "code",
   "execution_count": 73,
   "metadata": {},
   "outputs": [],
   "source": [
    "x = '254'"
   ]
  },
  {
   "cell_type": "code",
   "execution_count": 74,
   "metadata": {},
   "outputs": [
    {
     "data": {
      "text/plain": [
       "'254'"
      ]
     },
     "execution_count": 74,
     "metadata": {},
     "output_type": "execute_result"
    }
   ],
   "source": [
    "x"
   ]
  },
  {
   "cell_type": "code",
   "execution_count": 75,
   "metadata": {},
   "outputs": [],
   "source": [
    "y = 254"
   ]
  },
  {
   "cell_type": "code",
   "execution_count": 76,
   "metadata": {},
   "outputs": [
    {
     "data": {
      "text/plain": [
       "254"
      ]
     },
     "execution_count": 76,
     "metadata": {},
     "output_type": "execute_result"
    }
   ],
   "source": [
    "y"
   ]
  },
  {
   "cell_type": "markdown",
   "metadata": {},
   "source": [
    "Quindi, _solo in Jupyter_, quando devi mostrare una costante, una variabile o un calcolo spesso conviene scriverlo direttamente nella cella senza usare la `print`."
   ]
  },
  {
   "cell_type": "markdown",
   "metadata": {},
   "source": [
    "## Conversioni - da stringa a numero\n",
    "\n",
    "Torniamo al problema di sommare `'254' + 3`. La prima è una stringa, il secondo un numero. Se fossero entrambi numeri la somma sicuramente funzionerebbe:"
   ]
  },
  {
   "cell_type": "code",
   "execution_count": 77,
   "metadata": {},
   "outputs": [
    {
     "data": {
      "text/plain": [
       "257"
      ]
     },
     "execution_count": 77,
     "metadata": {},
     "output_type": "execute_result"
    }
   ],
   "source": [
    "254 + 3"
   ]
  },
  {
   "cell_type": "markdown",
   "metadata": {},
   "source": [
    "Quindi possiamo provare a convertire la stringa `'254'` in un vero intero. Per farlo, possiamo usare `int` come se fosse una funzione, e passarci come argomento la stringa da convertire:"
   ]
  },
  {
   "cell_type": "code",
   "execution_count": 78,
   "metadata": {},
   "outputs": [
    {
     "data": {
      "text/plain": [
       "257"
      ]
     },
     "execution_count": 78,
     "metadata": {},
     "output_type": "execute_result"
    }
   ],
   "source": [
    "int('254') + 3"
   ]
  },
  {
   "cell_type": "markdown",
   "metadata": {},
   "source": [
    "<div class=\"alert alert-warning\">\n",
    "\n",
    "**ATTENZIONE: le stringhe e i numeri sono immutabili !!**\n",
    "\n",
    "</div>\n",
    "\n",
    "Questo significa che scrivendo `int('254')` viene generato un _nuovo_ numero senza intaccare minimamente la stringa '254'` da cui si è partiti. Vediamo meglio con un esempio: "
   ]
  },
  {
   "cell_type": "code",
   "execution_count": 79,
   "metadata": {},
   "outputs": [],
   "source": [
    "x = '254'     # assegnamo alla variabile x la stringa '254'"
   ]
  },
  {
   "cell_type": "code",
   "execution_count": 80,
   "metadata": {},
   "outputs": [],
   "source": [
    "y = int(x)    # assegnamo alla variabile y il numero ottenuto convertendo '254' in int"
   ]
  },
  {
   "cell_type": "code",
   "execution_count": 81,
   "metadata": {},
   "outputs": [
    {
     "data": {
      "text/plain": [
       "'254'"
      ]
     },
     "execution_count": 81,
     "metadata": {},
     "output_type": "execute_result"
    }
   ],
   "source": [
    "x             # la variabile x risulta sempre assegnata alla stringa '254'"
   ]
  },
  {
   "cell_type": "code",
   "execution_count": 82,
   "metadata": {},
   "outputs": [
    {
     "data": {
      "text/plain": [
       "254"
      ]
     },
     "execution_count": 82,
     "metadata": {},
     "output_type": "execute_result"
    }
   ],
   "source": [
    "y             # in y invece adesso c'è un numero (notare che qua non abbiamo apici)"
   ]
  },
  {
   "cell_type": "markdown",
   "metadata": {},
   "source": [
    "Può essere utile rivedere l'esempio in Python tutor:"
   ]
  },
  {
   "cell_type": "code",
   "execution_count": 83,
   "metadata": {},
   "outputs": [
    {
     "name": "stdout",
     "output_type": "stream",
     "text": [
      "257\n"
     ]
    },
    {
     "data": {
      "text/html": [
       "\n",
       "        <iframe\n",
       "            width=\"900\"\n",
       "            height=\"375\"\n",
       "            src=\"https://pythontutor.com/iframe-embed.html#code=x+%3D+%22254%22%0A%0Ay+%3D+int%28x%29%0A%0Aprint%28y+%2B+3%29%0A%0A%0A&cumulative=false&py=3&curInstr=0\"\n",
       "            frameborder=\"0\"\n",
       "            allowfullscreen\n",
       "        ></iframe>\n",
       "        "
      ],
      "text/plain": [
       "<IPython.lib.display.IFrame at 0x7ff8fc397390>"
      ]
     },
     "execution_count": 83,
     "metadata": {},
     "output_type": "execute_result"
    }
   ],
   "source": [
    "x = \"254\"\n",
    "\n",
    "y = int(x)\n",
    "\n",
    "print(y + 3)\n",
    "\n",
    "\n",
    "jupman.pytut()"
   ]
  },
  {
   "cell_type": "markdown",
   "metadata": {},
   "source": [
    "**DA FARE**: Prova a convertire una stringa che rappresenta un numero malformato (per es un numero con dentro un carattere: `'43K12'`) in un `int`. Che succede?"
   ]
  },
  {
   "cell_type": "code",
   "execution_count": 84,
   "metadata": {},
   "outputs": [],
   "source": [
    "# scrivi qui\n",
    "\n"
   ]
  },
  {
   "cell_type": "markdown",
   "metadata": {},
   "source": [
    "## Conversioni - da numero a stringa\n",
    "\n",
    "Un qualsiasi oggetto può essere convertito a stringa usando `str` come se fosse una funzione e passandogli l'oggetto da convertire. Proviamo quindi a convertire un numero a stringa:"
   ]
  },
  {
   "cell_type": "code",
   "execution_count": 85,
   "metadata": {},
   "outputs": [
    {
     "data": {
      "text/plain": [
       "'5'"
      ]
     },
     "execution_count": 85,
     "metadata": {},
     "output_type": "execute_result"
    }
   ],
   "source": [
    "str(5)"
   ]
  },
  {
   "cell_type": "markdown",
   "metadata": {},
   "source": [
    "notare gli apici nel risultato, che testimoniano che abbiamo effettivamente ottenuto una stringa.\n",
    "\n",
    "Se per caso vogliamo ottenere una stringa che è la concatenzione di oggetti di tipo diverso dobbiamo stare attenti:"
   ]
  },
  {
   "cell_type": "markdown",
   "metadata": {},
   "source": [
    "```python\n",
    "x = 5\n",
    "s = 'I giorni di lavoro settimanali sono ' + x\n",
    "print(s)\n",
    "\n",
    "---------------------------------------------------------------------------\n",
    "TypeError                                 Traceback (most recent call last)\n",
    "<ipython-input-154-5951bd3aa528> in <module>\n",
    "      1 x = 5\n",
    "----> 2 s = 'I giorni di lavoro settimanali sono ' + x\n",
    "      3 print(s)\n",
    "\n",
    "TypeError: can only concatenate str (not \"int\") to str\n",
    "```\n"
   ]
  },
  {
   "cell_type": "markdown",
   "metadata": {},
   "source": [
    "Un modo di ovviare al problema (anche se non il più comodo) è convertire a stringa ciascuno degli oggetti che usiamo nella concatenazione:"
   ]
  },
  {
   "cell_type": "code",
   "execution_count": 86,
   "metadata": {},
   "outputs": [
    {
     "name": "stdout",
     "output_type": "stream",
     "text": [
      "questa settimana ho fatto jogging 3 volte correndo a una media di 1.6km/h\n"
     ]
    }
   ],
   "source": [
    "x = 3\n",
    "y = 1.6\n",
    "s = 'questa settimana ho fatto jogging ' + str(x) + ' volte correndo a una media di ' + str(y) + 'km/h'\n",
    "print(s)"
   ]
  },
  {
   "cell_type": "markdown",
   "metadata": {},
   "source": [
    "**DOMANDA**: Visto quanto detto in precedenza, dopo l'esecuzione del codice nella cella precedente, alla variabile `x` risulterà associato un _numero_ oppure una _stringa_ ?\n",
    "\n",
    "Se hai dubbi, usa Python Tutor."
   ]
  },
  {
   "cell_type": "markdown",
   "metadata": {},
   "source": [
    "**RISPOSTA**: i numeri, come le stringhe, sono immutabili. Quindi chiamando la funzione `str(x)` è impossibile che il numero `5` associato a `x` venga in alcun modo modificato. `str(x)` semplicemente _genererà_ una NUOVA stringa `'5'` che verrà usata poi nella concatenazione."
   ]
  },
  {
   "cell_type": "markdown",
   "metadata": {},
   "source": [
    "### Da fare - stampa lunghezza\n",
    "\n",
    "Scrivi del codice che data una stringa `x`, stampa il contenuto della stringa seguito dalla sua lunghezza. Il tuo codice dovrebbe funzionare con qualunque contenuto della variabile `x`\n",
    "\n",
    "\n",
    "Esempio:\n",
    "\n",
    "Dai\n",
    "\n",
    "```python\n",
    "x = 'mondo'\n",
    "```\n",
    "\n",
    "Dovrebbe stampare\n",
    "\n",
    "```bash\n",
    "mondo5\n",
    "```"
   ]
  },
  {
   "cell_type": "code",
   "execution_count": 87,
   "metadata": {},
   "outputs": [
    {
     "name": "stdout",
     "output_type": "stream",
     "text": [
      "mondo5\n"
     ]
    }
   ],
   "source": [
    "# scrivi qui\n",
    "\n",
    "x = 'mondo'\n",
    "print(x + str(len(x)))"
   ]
  },
  {
   "cell_type": "markdown",
   "metadata": {},
   "source": [
    "## Leggere caratteri"
   ]
  },
  {
   "cell_type": "markdown",
   "metadata": {},
   "source": [
    "Una stringa è una sequenza di caratteri, e spesso potremmo voler accedere ad un singolo carattere specificando la posizione del carattere che interessa\n",
    "\n",
    "E' importante ricordarsi che le posizioni dei caratteri nelle stringhe iniziano da 0. Per leggere un carattere ad una certa posizione, bisogna scrivere la stringa seguita da parentesi quadre con all'interno la posizione. Esempi:"
   ]
  },
  {
   "cell_type": "code",
   "execution_count": 88,
   "metadata": {},
   "outputs": [
    {
     "data": {
      "text/plain": [
       "'c'"
      ]
     },
     "execution_count": 88,
     "metadata": {},
     "output_type": "execute_result"
    }
   ],
   "source": [
    "\n",
    "'ciao'[0]"
   ]
  },
  {
   "cell_type": "code",
   "execution_count": 89,
   "metadata": {},
   "outputs": [
    {
     "data": {
      "text/plain": [
       "'i'"
      ]
     },
     "execution_count": 89,
     "metadata": {},
     "output_type": "execute_result"
    }
   ],
   "source": [
    "'ciao'[1]"
   ]
  },
  {
   "cell_type": "code",
   "execution_count": 90,
   "metadata": {},
   "outputs": [
    {
     "data": {
      "text/plain": [
       "'a'"
      ]
     },
     "execution_count": 90,
     "metadata": {},
     "output_type": "execute_result"
    }
   ],
   "source": [
    "#0123\n",
    "'ciao'[2]"
   ]
  },
  {
   "cell_type": "code",
   "execution_count": 91,
   "metadata": {},
   "outputs": [
    {
     "data": {
      "text/plain": [
       "'o'"
      ]
     },
     "execution_count": 91,
     "metadata": {},
     "output_type": "execute_result"
    }
   ],
   "source": [
    "#0123\n",
    "'ciao'[3]"
   ]
  },
  {
   "cell_type": "markdown",
   "metadata": {},
   "source": [
    "Se cerchiamo di andare oltre all'ultimo carattere, otterremo un errore:"
   ]
  },
  {
   "cell_type": "markdown",
   "metadata": {},
   "source": [
    "```python\n",
    "#0123\n",
    "'ciao'[4]\n",
    "---------------------------------------------------------------------------\n",
    "IndexError                                Traceback (most recent call last)\n",
    "<ipython-input-106-b8f1f689f0c7> in <module>\n",
    "      1 #0123\n",
    "----> 2 'ciao'[4]\n",
    "\n",
    "IndexError: string index out of range\n",
    "```\n"
   ]
  },
  {
   "cell_type": "markdown",
   "metadata": {},
   "source": [
    "Prima abbiamo usato una stringa specificandola letteralmente, ma possiamo anche usare variabili:"
   ]
  },
  {
   "cell_type": "code",
   "execution_count": 92,
   "metadata": {},
   "outputs": [],
   "source": [
    "    #01234 \n",
    "x = 'panca'"
   ]
  },
  {
   "cell_type": "code",
   "execution_count": 93,
   "metadata": {},
   "outputs": [
    {
     "data": {
      "text/plain": [
       "'p'"
      ]
     },
     "execution_count": 93,
     "metadata": {},
     "output_type": "execute_result"
    }
   ],
   "source": [
    "x[0]"
   ]
  },
  {
   "cell_type": "code",
   "execution_count": 94,
   "metadata": {},
   "outputs": [
    {
     "data": {
      "text/plain": [
       "'n'"
      ]
     },
     "execution_count": 94,
     "metadata": {},
     "output_type": "execute_result"
    }
   ],
   "source": [
    "x[2]"
   ]
  },
  {
   "cell_type": "markdown",
   "metadata": {},
   "source": [
    "Come viene rappresentato il carattere letto? Se hai notato, è circondato da apici come se fosse una stringa. Controlliamo:"
   ]
  },
  {
   "cell_type": "code",
   "execution_count": 95,
   "metadata": {},
   "outputs": [
    {
     "data": {
      "text/plain": [
       "str"
      ]
     },
     "execution_count": 95,
     "metadata": {},
     "output_type": "execute_result"
    }
   ],
   "source": [
    "type(x[0])"
   ]
  },
  {
   "cell_type": "markdown",
   "metadata": {},
   "source": [
    "Infatti è proprio una stringa. Questo potrebbe forse sorprendere alcuni, anche da un punto di vista filosico: le stringhe in Python sono a loro volta composte da... stringhe! In altri linguaggi di programmazione per i singoli caratteri si possono trovare tipi appositi, ma Python usa stringhe per gestire meglio anche alfabeti con simboli complicati come quello giapponese."
   ]
  },
  {
   "cell_type": "markdown",
   "metadata": {},
   "source": [
    "**DOMANDA**: Supponiamo che `x` sia una stringa _qualsiasi_. Se proviamo ad eseguire questo codice: \n",
    "\n",
    "```python\n",
    "x[0]\n",
    "```\n",
    "\n",
    "otterremo:\n",
    "\n",
    "1. sempre un carattere\n",
    "2. sempre un errore\n",
    "3. a volte un carattere, a volte un errore a seconda della stringa"
   ]
  },
  {
   "cell_type": "markdown",
   "metadata": {},
   "source": [
    "**RISPOSTA**: la 3: potremmo ottenere un errore con la stringa vuota (prova)"
   ]
  },
  {
   "cell_type": "markdown",
   "metadata": {},
   "source": [
    "**DOMANDA**: Supponiamo che `x` sia una stringa qualsiasi. Se proviamo ad eseguire questo codice:\n",
    "\n",
    "```python\n",
    "x[len(x)]\n",
    "```\n",
    "\n",
    "otterremo:\n",
    "\n",
    "1. sempre un carattere\n",
    "2. sempre un errore\n",
    "3. a volte un carattere, a volte un errore a seconda della stringa\n",
    "\n"
   ]
  },
  {
   "cell_type": "markdown",
   "metadata": {},
   "source": [
    "**RISPOSTA**: la 2: poichè l'inidicizzazione inizia da 0, `len` ci da sempre un numero che è superiore di 1 al più grande indice usabile."
   ]
  },
  {
   "cell_type": "markdown",
   "metadata": {},
   "source": [
    "### Da fare - intercalare\n",
    "\n",
    "Date due stringhe che hanno entrambe lunghezza `3`, stampa una stringa che inercala caratteri da entrambe le stringhe. Il tuo codice deve poter funzionare con qualsiasi stringa di questa lunghezza\n",
    "\n",
    "\n",
    "Esempio:\n",
    "\n",
    "Dati\n",
    "\n",
    "```python\n",
    "x=\"say\"\n",
    "y=\"hi!\"\n",
    "```\n",
    "\n",
    "dovrebbe stampare\n",
    "\n",
    "```\n",
    "shaiy!\n",
    "```"
   ]
  },
  {
   "cell_type": "code",
   "execution_count": 96,
   "metadata": {},
   "outputs": [
    {
     "name": "stdout",
     "output_type": "stream",
     "text": [
      "shaiy!\n"
     ]
    }
   ],
   "source": [
    "# scrivi qui\n",
    "\n",
    "x=\"say\"\n",
    "y=\"hi!\"\n",
    "print(x[0] + y[0] + x[1] + y[1] + x[2] + y[2])"
   ]
  },
  {
   "cell_type": "markdown",
   "metadata": {},
   "source": [
    "### Indici negativi\n",
    "\n",
    "In Python possiamo anche usare indici negativi, che invece di partire _dall'inizio_ partono _dalla fine_:"
   ]
  },
  {
   "cell_type": "code",
   "execution_count": 97,
   "metadata": {},
   "outputs": [
    {
     "data": {
      "text/plain": [
       "'o'"
      ]
     },
     "execution_count": 97,
     "metadata": {},
     "output_type": "execute_result"
    }
   ],
   "source": [
    "#4321\n",
    "\"ciao\"[-1]"
   ]
  },
  {
   "cell_type": "code",
   "execution_count": 98,
   "metadata": {},
   "outputs": [
    {
     "data": {
      "text/plain": [
       "'a'"
      ]
     },
     "execution_count": 98,
     "metadata": {},
     "output_type": "execute_result"
    }
   ],
   "source": [
    "#4321\n",
    "\"ciao\"[-2]"
   ]
  },
  {
   "cell_type": "code",
   "execution_count": 99,
   "metadata": {},
   "outputs": [
    {
     "data": {
      "text/plain": [
       "'i'"
      ]
     },
     "execution_count": 99,
     "metadata": {},
     "output_type": "execute_result"
    }
   ],
   "source": [
    "#4321\n",
    "\"ciao\"[-3]"
   ]
  },
  {
   "cell_type": "code",
   "execution_count": 100,
   "metadata": {},
   "outputs": [
    {
     "data": {
      "text/plain": [
       "'c'"
      ]
     },
     "execution_count": 100,
     "metadata": {},
     "output_type": "execute_result"
    }
   ],
   "source": [
    "#4321\n",
    "\"ciao\"[-4]"
   ]
  },
  {
   "cell_type": "markdown",
   "metadata": {},
   "source": [
    "Se andiamo troppo in là, otteniamo un errore:\n",
    "\n",
    "```python\n",
    "#4321\n",
    "\"ciao\"[-5]\n",
    "\n",
    "---------------------------------------------------------------------------\n",
    "IndexError                                Traceback (most recent call last)\n",
    "<ipython-input-126-668d8a13a324> in <module>\n",
    "----> 1 \"ciao\"[-5]\n",
    "\n",
    "IndexError: string index out of range\n",
    "\n",
    "```"
   ]
  },
  {
   "cell_type": "markdown",
   "metadata": {},
   "source": [
    "\n",
    "**DOMANDA**: Supponiamo che `x` sia una stringa NON vuota qualsiasi, con la seguente espressione cosa otterremmo ? \n",
    "\n",
    "```python\n",
    "x[-len(x)]\n",
    "```\n",
    "\n",
    "1. sempre un carattere\n",
    "2. sempre un errore\n",
    "3. a volte un carattere, a volte un errore a seconda della stringa\n"
   ]
  },
  {
   "cell_type": "markdown",
   "metadata": {},
   "source": [
    "**RISPOSTA**: La 1. (abbiamo supposto che la stringa non sia mai vuota)"
   ]
  },
  {
   "cell_type": "markdown",
   "metadata": {},
   "source": [
    "**DOMANDA**: Supponendo che `x` sia una stringa qualsiasi (anche vuota), le espressioni \n",
    "\n",
    "```python\n",
    "x[len(x)-1]\n",
    "```\n",
    "e \n",
    "\n",
    "```python\n",
    "x[-len(x)]\n",
    "```\n",
    "\n",
    "sono equivalenti ? Che cosa fanno ?"
   ]
  },
  {
   "cell_type": "markdown",
   "metadata": {},
   "source": [
    "**RISPOSTA**: le espressioni sono equivalenti: se la stringa è vuota entrambe producono un errore, se è piena entrambe restituiscono l'ultimo carattere"
   ]
  },
  {
   "cell_type": "markdown",
   "metadata": {},
   "source": [
    "**DOMANDA**: Se `x` è una stringa non vuota, l'espressione seguente cosa produce? La possiamo semplificare in una più breve?\n",
    "\n",
    "```python\n",
    "(x + x)[len(x)]\n",
    "```"
   ]
  },
  {
   "cell_type": "markdown",
   "metadata": {},
   "source": [
    "**RISPOSTA**: corrisponde a `x[0]`"
   ]
  },
  {
   "cell_type": "markdown",
   "metadata": {},
   "source": [
    "**DOMANDA**: Se `x` è una stringa non vuota, cosa produce la seguente espressione? Un errore? Altro? La possiamo semplificare?\n",
    "\n",
    "```python\n",
    "'ciao'[0][0]\n",
    "```"
   ]
  },
  {
   "cell_type": "markdown",
   "metadata": {},
   "source": [
    "**RISPOSTA**: Sappiamo che `'ciao'[0]` produce un carattere, ma sappiamo anche che in Python i caratteri estratti dalle stringhe sono a loro volta stringhe di lunghezza 1. Quindi se dopo l'espressione `\"ciao\"[0]` che produce la stringa `'c'` aggiungiamo un'altro `[0]` è come se stessimo scrivendo `'c'[0]`, che ritorna il carattere zeresimo trovato nella stringa `'c'`, cioè `c` stesso."
   ]
  },
  {
   "cell_type": "markdown",
   "metadata": {},
   "source": [
    "**DOMANDA**: Se `x` è una stringa non vuota, cosa produce la seguente espressione? Un errore? Altro? La possiamo semplificare?\n",
    "\n",
    "```python\n",
    "(x[0])[0]\n",
    "```"
   ]
  },
  {
   "cell_type": "markdown",
   "metadata": {},
   "source": [
    "**RISPOSTA**: `x[0]` è un espressione che produce il primo carattere della stringa `x`. In Python, possiamo mettere le espressioni tra parentesi che vogliamo. Quindi in questo caso la parentesi non produce nessun effetto, e l'espressione è equivalente a `x[0][0]` che come abbiamo visto prima è uguale a scrivere `x[0]`"
   ]
  },
  {
   "cell_type": "markdown",
   "metadata": {},
   "source": [
    "## Sostituire caratteri\n",
    "\n",
    "Abbiamo detto che in Python le stringhe sono immutabili, quindi se abbiamo una stringa "
   ]
  },
  {
   "cell_type": "code",
   "execution_count": 101,
   "metadata": {},
   "outputs": [],
   "source": [
    "    #01234\n",
    "x = 'ciao'"
   ]
  },
  {
   "cell_type": "markdown",
   "metadata": {},
   "source": [
    "e vogliamo per esempio cambiare il carattere in posizione 2 (in questo caso, la `a`) perchè diventi una `b`, come facciamo ? \n",
    "\n",
    "Potremmo essere tentati di scrivere così, ma Python ci punirebbe con un errore:"
   ]
  },
  {
   "cell_type": "markdown",
   "metadata": {},
   "source": [
    "```python\n",
    "x[2] = 'b'\n",
    "\n",
    "---------------------------------------------------------------------------\n",
    "TypeError                                 Traceback (most recent call last)\n",
    "<ipython-input-113-e5847c6fa4bf> in <module>\n",
    "----> 1 x[2] = 'b'\n",
    "\n",
    "TypeError: 'str' object does not support item assignment\n",
    "```"
   ]
  },
  {
   "cell_type": "markdown",
   "metadata": {},
   "source": [
    "La soluzione corretta è assegnare a `x` una stringa completamente nuova, ottenuta prendendo pezzi della precedente:"
   ]
  },
  {
   "cell_type": "code",
   "execution_count": 102,
   "metadata": {},
   "outputs": [],
   "source": [
    "x = x[0] + x[1] + 'b' + x[3]"
   ]
  },
  {
   "cell_type": "code",
   "execution_count": 103,
   "metadata": {},
   "outputs": [
    {
     "data": {
      "text/plain": [
       "'cibo'"
      ]
     },
     "execution_count": 103,
     "metadata": {},
     "output_type": "execute_result"
    }
   ],
   "source": [
    "x"
   ]
  },
  {
   "cell_type": "markdown",
   "metadata": {},
   "source": [
    "Se il fatto che la `x` compaia a destra dell'uguale ti sconcerta, possiamo scomporre il codice così e funzionerebbe ugualmente"
   ]
  },
  {
   "cell_type": "code",
   "execution_count": 104,
   "metadata": {},
   "outputs": [],
   "source": [
    "x = \"ciao\"\n",
    "y = x\n",
    "x = y[0] + y[1] + 'b' + y[3]"
   ]
  },
  {
   "cell_type": "markdown",
   "metadata": {},
   "source": [
    "Provalo in Python Tutor:"
   ]
  },
  {
   "cell_type": "code",
   "execution_count": 105,
   "metadata": {},
   "outputs": [
    {
     "data": {
      "text/html": [
       "\n",
       "        <iframe\n",
       "            width=\"900\"\n",
       "            height=\"300\"\n",
       "            src=\"https://pythontutor.com/iframe-embed.html#code=x+%3D+%22ciao%22%0Ay+%3D+x%0Ax+%3D+y%5B0%5D+%2B+y%5B1%5D+%2B+%27b%27+%2B+y%5B3%5D%0A%0A&cumulative=false&py=3&curInstr=0\"\n",
       "            frameborder=\"0\"\n",
       "            allowfullscreen\n",
       "        ></iframe>\n",
       "        "
      ],
      "text/plain": [
       "<IPython.lib.display.IFrame at 0x7ff8fc3a2cc0>"
      ]
     },
     "execution_count": 105,
     "metadata": {},
     "output_type": "execute_result"
    }
   ],
   "source": [
    "x = \"ciao\"\n",
    "y = x\n",
    "x = y[0] + y[1] + 'b' + y[3]\n",
    "\n",
    "jupman.pytut()"
   ]
  },
  {
   "cell_type": "markdown",
   "metadata": {},
   "source": [
    "## Slice\n",
    "\n",
    "Potremmo voler leggere solo una sottosequenza che parte da una posizione e finisce in un'altra. Per esempio, supponiamo di avere la scritta"
   ]
  },
  {
   "cell_type": "code",
   "execution_count": 106,
   "metadata": {},
   "outputs": [],
   "source": [
    "    #0123456789\n",
    "x = 'mercantile'"
   ]
  },
  {
   "cell_type": "markdown",
   "metadata": {},
   "source": [
    "e vogliamo estrarre la stringa `'canti'`, che parte dall'indice 3 **incluso** e arriva all'indice 8 **escluso**. Potremmo estrarre i singoli caratteri e concatenarli con il `+`, ma scriveremmo tantissimo codice. Un opzione migliore è usare le cosiddette [slice](https://davidleoni.github.io/ThinkPythonItalian/html/thinkpython2009.html#sec98): basta scrivere la stringa seguita da parentesi quadre contenti i due indici di inzio (**incluso**) e fine (**escluso**) separati dai due punti `:`"
   ]
  },
  {
   "cell_type": "code",
   "execution_count": 107,
   "metadata": {},
   "outputs": [
    {
     "data": {
      "text/plain": [
       "'canti'"
      ]
     },
     "execution_count": 107,
     "metadata": {},
     "output_type": "execute_result"
    }
   ],
   "source": [
    "    #0123456789\n",
    "x = 'mercantile'\n",
    "\n",
    "x[3:8]   # notare i : in mezzo ai due indici di inizio e fine"
   ]
  },
  {
   "cell_type": "markdown",
   "metadata": {},
   "source": [
    "<div class=\"alert alert-warning\">\n",
    "\n",
    "**ATTENZIONE: Estrarre una sottostringa con le slice NON modifica la stringa originale !!** \n",
    "</div>\n",
    "\n",
    "Vediamo un esempio:"
   ]
  },
  {
   "cell_type": "code",
   "execution_count": 108,
   "metadata": {},
   "outputs": [
    {
     "name": "stdout",
     "output_type": "stream",
     "text": [
      "              x è mercantile\n",
      "La slice x[3:8] è canti\n",
      "              x è mercantile\n"
     ]
    }
   ],
   "source": [
    "    #0123456789\n",
    "x = 'mercantile'\n",
    "\n",
    "print('              x è', x)\n",
    "print('La slice x[3:8] è', x[3:8])\n",
    "print('              x è', x)       # nota che x continua a puntare alla vecchia stringa!"
   ]
  },
  {
   "cell_type": "markdown",
   "metadata": {},
   "source": [
    "**DOMANDA**: se `x` è una stringa qualsiasi di lunghezza almeno 5, cosa fa questo codice? Da errore? Funziona? Possiamo abbreviarlo?\n",
    "\n",
    "```python\n",
    "x[3:4]\n",
    "```"
   ]
  },
  {
   "cell_type": "markdown",
   "metadata": {},
   "source": [
    "**RISPOSTA**: Se la stringa ha lunghezza almeno 5, potremmo avere una situazione del genere:\n",
    "\n",
    "```python\n",
    "    #01234\n",
    "x = 'abcde'\n",
    "```\n",
    "\n",
    "La slice `x[3:4]` estrarrà i caratteri da posizione 3 **incluso** fino alla posizione 4 **esclusa**, quindi di fatto estrarrà solo un carattere alla posizione 3. Il codice è quindi equivalente a `x[3]`\n"
   ]
  },
  {
   "cell_type": "markdown",
   "metadata": {},
   "source": [
    "### Da fare - garalampog\n",
    "\n",
    "Scrivi del codice per estrarre e stampare `alam` dalla stringa `\"garalampog\"`. Prova a indovinare correttamente gli indici."
   ]
  },
  {
   "cell_type": "code",
   "execution_count": 109,
   "metadata": {},
   "outputs": [
    {
     "name": "stdout",
     "output_type": "stream",
     "text": [
      "alam\n"
     ]
    }
   ],
   "source": [
    "x = \"garalampog\"\n",
    "\n",
    "# scrivi qui\n",
    "\n",
    "#      0123456789\n",
    "print(x[3:7])\n"
   ]
  },
  {
   "cell_type": "markdown",
   "metadata": {},
   "source": [
    "### Da fare - ifEweEfav  lkSD lkWe\n",
    "\n",
    "Scrivi del codice per estrarre e stampare `kS` dalla stringa `\"ifE\\te\\nfav  lkD lkWe\"`. Fai attenzione agli spazi e caratteri speciali (prima potresti voler stampare `x`). Prova a indovinare gli indici corretti.\n"
   ]
  },
  {
   "cell_type": "code",
   "execution_count": 110,
   "metadata": {},
   "outputs": [
    {
     "name": "stdout",
     "output_type": "stream",
     "text": [
      "kD\n"
     ]
    }
   ],
   "source": [
    "x = \"ifE\\te\\nfav  lkD lkWe\"\n",
    "\n",
    "# scrivi qui\n",
    "\n",
    "#     0123 45 67890123456789\n",
    "#x = \"ifE\\te\\nfav  lkD lkWe\"\n",
    "\n",
    "print(x[12:14])"
   ]
  },
  {
   "cell_type": "markdown",
   "metadata": {},
   "source": [
    "### Slice - limiti\n",
    "\n",
    "Quando operiamo con le slice dobbiamo stare attenti ai limiti degli indici. Vediamo come si comportano:"
   ]
  },
  {
   "cell_type": "code",
   "execution_count": 111,
   "metadata": {},
   "outputs": [
    {
     "data": {
      "text/plain": [
       "'sed'"
      ]
     },
     "execution_count": 111,
     "metadata": {},
     "output_type": "execute_result"
    }
   ],
   "source": [
    "#012345\n",
    "\"sedia\"[0:3]  # da indice 0 *incluso* a 3 *escluso*"
   ]
  },
  {
   "cell_type": "code",
   "execution_count": 112,
   "metadata": {},
   "outputs": [
    {
     "data": {
      "text/plain": [
       "'sedi'"
      ]
     },
     "execution_count": 112,
     "metadata": {},
     "output_type": "execute_result"
    }
   ],
   "source": [
    "#012345\n",
    "\"sedia\"[0:4]  # da indice 0 *incluso* a 4 *escluso*"
   ]
  },
  {
   "cell_type": "code",
   "execution_count": 113,
   "metadata": {},
   "outputs": [
    {
     "data": {
      "text/plain": [
       "'sedia'"
      ]
     },
     "execution_count": 113,
     "metadata": {},
     "output_type": "execute_result"
    }
   ],
   "source": [
    "#012345\n",
    "\"sedia\"[0:5]  # da indice 0 *incluso* a 5 *escluso*"
   ]
  },
  {
   "cell_type": "code",
   "execution_count": 114,
   "metadata": {},
   "outputs": [
    {
     "data": {
      "text/plain": [
       "'sedia'"
      ]
     },
     "execution_count": 114,
     "metadata": {},
     "output_type": "execute_result"
    }
   ],
   "source": [
    "#012345\n",
    "\"sedia\"[0:6]   # se andiamo oltre la lunghezza della stringa Python non si arrabbia"
   ]
  },
  {
   "cell_type": "markdown",
   "metadata": {},
   "source": [
    "**DOMANDA**: se `x` è una stringa qualsiasi (anche vuota), questa espressione cosa fa? Può dare errore? o ritorna qualcosa di utile? \n",
    "\n",
    "```python\n",
    "x[0:len(x)]\n",
    "```"
   ]
  },
  {
   "cell_type": "markdown",
   "metadata": {},
   "source": [
    "**RISPOSTA**: Ritorna sempre una NUOVA copia dell'intera stringa, perchè parte da indice 0 _incluso_ e finisce a indice `len(x)` _escluso_\n",
    "\n",
    "Funziona anche con la stringa vuota, perchè `''[0:len('')]` equivale a `''[0:0]`  cioè sottostringa da 0 _incluso_ a 0 _escluso_, quindi non prendiamo nessun carattere e non sforiamo i limiti della stringa. In realtà, anche se sforassimo, Python non avrebbe problemi (prova a scrivere `''[0:100]`)"
   ]
  },
  {
   "cell_type": "markdown",
   "metadata": {},
   "source": [
    "### Slice - omissione limiti"
   ]
  },
  {
   "cell_type": "markdown",
   "metadata": {},
   "source": [
    "Volendo, è possibile omettere l'indice di partenza, in tal caso Python supporrà sia 0:"
   ]
  },
  {
   "cell_type": "code",
   "execution_count": 115,
   "metadata": {},
   "outputs": [
    {
     "data": {
      "text/plain": [
       "'tra'"
      ]
     },
     "execution_count": 115,
     "metadata": {},
     "output_type": "execute_result"
    }
   ],
   "source": [
    "#0123456789\n",
    "\"traghetto\"[:3]"
   ]
  },
  {
   "cell_type": "markdown",
   "metadata": {},
   "source": [
    "E' anche possibile omettere l'indice di fine, in tal caso Python estrarrà fino alla fine della stringa:"
   ]
  },
  {
   "cell_type": "code",
   "execution_count": 116,
   "metadata": {},
   "outputs": [
    {
     "data": {
      "text/plain": [
       "'ghetto'"
      ]
     },
     "execution_count": 116,
     "metadata": {},
     "output_type": "execute_result"
    }
   ],
   "source": [
    "#0123456789\n",
    "\"traghetto\"[3:]"
   ]
  },
  {
   "cell_type": "markdown",
   "metadata": {},
   "source": [
    "Omettendo entrambi gli indici si ottiene l'intera stringa:"
   ]
  },
  {
   "cell_type": "code",
   "execution_count": 117,
   "metadata": {},
   "outputs": [
    {
     "data": {
      "text/plain": [
       "'traghetto'"
      ]
     },
     "execution_count": 117,
     "metadata": {},
     "output_type": "execute_result"
    }
   ],
   "source": [
    "\"traghetto\"[:]"
   ]
  },
  {
   "cell_type": "markdown",
   "metadata": {},
   "source": [
    "### Da fare - isteroister\n",
    "\n",
    "Scrivere del codice che data una stringa `x` stampa la stringa composta da tutte le lettere di `x` eccetto la prima seguita da tutte le lettere di `x` eccetto l'ultima\n",
    "\n",
    "* il tuo codice deve funzionare con qualunque stringa\n",
    "\n",
    "Esempio:\n",
    "\n",
    "Dato\n",
    "```python\n",
    "x = \"mistero\"\n",
    "```\n",
    "\n",
    "deve stampare\n",
    "\n",
    "```\n",
    "isteromister\n",
    "```\n",
    "\n",
    "Dato\n",
    "```python\n",
    "x = \"parlare\"\n",
    "```\n",
    "\n",
    "deve stampare\n",
    "\n",
    "`arlareparlar`\n"
   ]
  },
  {
   "cell_type": "code",
   "execution_count": 118,
   "metadata": {},
   "outputs": [
    {
     "name": "stdout",
     "output_type": "stream",
     "text": [
      "isteromister\n"
     ]
    }
   ],
   "source": [
    "x = \"mistero\"\n",
    "\n",
    "# scrivi qui\n",
    "\n",
    "print(x[1:] + x[0:len(x)-1])"
   ]
  },
  {
   "cell_type": "markdown",
   "metadata": {},
   "source": [
    "### Slice - limiti negativi\n",
    "\n",
    "Volendo è anche possibile impostare limiti negativi, per quanto non sempre molto intuitivo."
   ]
  },
  {
   "cell_type": "code",
   "execution_count": 119,
   "metadata": {},
   "outputs": [
    {
     "data": {
      "text/plain": [
       "''"
      ]
     },
     "execution_count": 119,
     "metadata": {},
     "output_type": "execute_result"
    }
   ],
   "source": [
    "#0123456   \n",
    "\"foresta\"[3:0]   # da indice 3 a indici positivi <= 3 non produce nulla"
   ]
  },
  {
   "cell_type": "code",
   "execution_count": 120,
   "metadata": {},
   "outputs": [
    {
     "data": {
      "text/plain": [
       "''"
      ]
     },
     "execution_count": 120,
     "metadata": {},
     "output_type": "execute_result"
    }
   ],
   "source": [
    "#0123456   \n",
    "\"foresta\"[3:1]   # da indice 3 a indici positivi <= 3 non produce nulla"
   ]
  },
  {
   "cell_type": "code",
   "execution_count": 121,
   "metadata": {},
   "outputs": [
    {
     "data": {
      "text/plain": [
       "''"
      ]
     },
     "execution_count": 121,
     "metadata": {},
     "output_type": "execute_result"
    }
   ],
   "source": [
    "#0123456   \n",
    "\"foresta\"[3:2]  # da indice 3 a indici positivi <= 3 non produce nulla"
   ]
  },
  {
   "cell_type": "code",
   "execution_count": 122,
   "metadata": {},
   "outputs": [
    {
     "data": {
      "text/plain": [
       "''"
      ]
     },
     "execution_count": 122,
     "metadata": {},
     "output_type": "execute_result"
    }
   ],
   "source": [
    "#0123456   \n",
    "\"foresta\"[3:3]  # da indice 3 a indici positivi <= 3 non produce nulla"
   ]
  },
  {
   "cell_type": "markdown",
   "metadata": {},
   "source": [
    "Vediamo cosa succede con indici negativi: "
   ]
  },
  {
   "cell_type": "code",
   "execution_count": 123,
   "metadata": {},
   "outputs": [
    {
     "data": {
      "text/plain": [
       "'est'"
      ]
     },
     "execution_count": 123,
     "metadata": {},
     "output_type": "execute_result"
    }
   ],
   "source": [
    "#0123456   indici positivi\n",
    "#7654321   indici negativi \n",
    "\"foresta\"[3:-1]"
   ]
  },
  {
   "cell_type": "code",
   "execution_count": 124,
   "metadata": {},
   "outputs": [
    {
     "data": {
      "text/plain": [
       "'es'"
      ]
     },
     "execution_count": 124,
     "metadata": {},
     "output_type": "execute_result"
    }
   ],
   "source": [
    "#0123456   indici positivi\n",
    "#7654321   indici negativi\n",
    "\"foresta\"[3:-2]"
   ]
  },
  {
   "cell_type": "code",
   "execution_count": 125,
   "metadata": {},
   "outputs": [
    {
     "data": {
      "text/plain": [
       "'e'"
      ]
     },
     "execution_count": 125,
     "metadata": {},
     "output_type": "execute_result"
    }
   ],
   "source": [
    "#0123456   indici positivi\n",
    "#7654321   indici negativi\n",
    "\"foresta\"[3:-3]"
   ]
  },
  {
   "cell_type": "code",
   "execution_count": 126,
   "metadata": {},
   "outputs": [
    {
     "data": {
      "text/plain": [
       "''"
      ]
     },
     "execution_count": 126,
     "metadata": {},
     "output_type": "execute_result"
    }
   ],
   "source": [
    "#0123456   indici positivi\n",
    "#7654321   indici negativi \n",
    "\"foresta\"[3:-4]"
   ]
  },
  {
   "cell_type": "code",
   "execution_count": 127,
   "metadata": {},
   "outputs": [
    {
     "data": {
      "text/plain": [
       "''"
      ]
     },
     "execution_count": 127,
     "metadata": {},
     "output_type": "execute_result"
    }
   ],
   "source": [
    "#0123456   indici positivi\n",
    "#7654321   indici negativi \n",
    "\"foresta\"[3:-5]"
   ]
  },
  {
   "cell_type": "markdown",
   "metadata": {},
   "source": [
    "### Da fare - javarnanda\n",
    "\n",
    "Data una stringa `x`, scrivi del codice per estrarre e stampare i suoi ultimi 3 caratteri e unirli ai primi 3.\n",
    "\n",
    "* Il tuo codice deve funzionare per qualsiasi stringa di lunghezza uguale o superiore a 3\n",
    "\n",
    "Esempio:\n",
    "\n",
    "Dato\n",
    "\n",
    "```python\n",
    "x = \"javarnanda\"\n",
    "```\n",
    "\n",
    "dovrebbe stampare\n",
    "\n",
    "```bash\n",
    "javnda\n",
    "```\n",
    "\n",
    "Dato\n",
    "\n",
    "```python\n",
    "x = \"abcd\"\n",
    "```\n",
    "\n",
    "dovrebbe stampare\n",
    "\n",
    "```bash\n",
    "abcbcd\n",
    "```"
   ]
  },
  {
   "cell_type": "code",
   "execution_count": 128,
   "metadata": {},
   "outputs": [
    {
     "name": "stdout",
     "output_type": "stream",
     "text": [
      "abcbcd\n"
     ]
    }
   ],
   "source": [
    "x = \"abcd\"\n",
    "\n",
    "# scrivi qui\n",
    "\n",
    "print(x[:3] + x[-3:])"
   ]
  },
  {
   "cell_type": "markdown",
   "metadata": {},
   "source": [
    "## Operatore in\n",
    "\n",
    "Per verificare se una stringa è contenuta in un'altra, possiamo usare l'operatore `in`. \n",
    "\n",
    "Nota che il risultato di questa espressione è un booleano:"
   ]
  },
  {
   "cell_type": "code",
   "execution_count": 129,
   "metadata": {},
   "outputs": [
    {
     "data": {
      "text/plain": [
       "True"
      ]
     },
     "execution_count": 129,
     "metadata": {},
     "output_type": "execute_result"
    }
   ],
   "source": [
    "'tra' in 'Cantando per le strade'   "
   ]
  },
  {
   "cell_type": "code",
   "execution_count": 130,
   "metadata": {},
   "outputs": [
    {
     "data": {
      "text/plain": [
       "False"
      ]
     },
     "execution_count": 130,
     "metadata": {},
     "output_type": "execute_result"
    }
   ],
   "source": [
    "'ca' in 'Cantando per le strade'  # l'operatore in   distingue tra maiuscole/minuscole"
   ]
  },
  {
   "cell_type": "code",
   "execution_count": 131,
   "metadata": {},
   "outputs": [
    {
     "data": {
      "text/plain": [
       "True"
      ]
     },
     "execution_count": 131,
     "metadata": {},
     "output_type": "execute_result"
    }
   ],
   "source": [
    "'Ca' in 'Cantando per le strade'  "
   ]
  },
  {
   "cell_type": "markdown",
   "metadata": {},
   "source": [
    "### Da fare -  contenute 1\n",
    "\n",
    "Ti vengono date due stringhe `x` e `y`, e una terza `z`. Scrivi del codice che stampa `True` se `x` e `y` sono entrambe contenute in `z`.\n",
    "\n",
    "Esempio 1:\n",
    "\n",
    "Date:\n",
    "\n",
    "```python\n",
    "x = 'cad'\n",
    "y = 'ra'\n",
    "z = 'abracadabra'\n",
    "```\n",
    "dovrebbe stampare\n",
    "\n",
    "```bash\n",
    "True\n",
    "```\n",
    "\n",
    "Esempio 2: \n",
    "\n",
    "Date \n",
    "\n",
    "```python\n",
    "x = 'zam'\n",
    "y = 'ra'\n",
    "z = 'abracadabra'\n",
    "```\n",
    "dovrebbe stampare\n",
    "\n",
    "```bash\n",
    "False\n",
    "```\n",
    "\n",
    "\n"
   ]
  },
  {
   "cell_type": "code",
   "execution_count": 132,
   "metadata": {},
   "outputs": [
    {
     "name": "stdout",
     "output_type": "stream",
     "text": [
      "True\n"
     ]
    }
   ],
   "source": [
    "# scrivi qui\n",
    "\n",
    "x = 'cad'\n",
    "y = 'ra'\n",
    "z = 'abracadabra'\n",
    "\n",
    "\n",
    "print((x in z) and (y in z))"
   ]
  },
  {
   "cell_type": "markdown",
   "metadata": {},
   "source": [
    "### Da fare -  contenute 2\n",
    "\n",
    "Date tre stringhe `x`, `y`, `z`, scrivere del codice che stampa `True` se una stringa `x` è contenuta almeno in una delle stringhe `y` o `z`, altrimenti stampa `False`\n",
    "\n",
    "* il tuo codice deve funzionare con qualunque insieme di stringhe\n",
    "\n",
    "Esempio 1: Dati\n",
    "\n",
    "```python\n",
    "x = 'tti'\n",
    "y = 'patti chiari amicizia lunga'\n",
    "z = 'tutto chiaro?'\n",
    "```\n",
    "\n",
    "deve mostrare\n",
    "\n",
    "`True`\n",
    "\n",
    "Esempio 2: Dati\n",
    "\n",
    "\n",
    "```python\n",
    "x = 'zio'\n",
    "y = 'patti chiari amicizia lunga'\n",
    "z = 'tutto chiaro?'\n",
    "```\n",
    "\n",
    "deve mostrare \n",
    "\n",
    "`False`\n",
    "\n",
    "Esempio 3: Dati\n",
    "\n",
    "\n",
    "```python\n",
    "x = 'chiaro'\n",
    "y = 'patti chiari amicizia lunga'\n",
    "z = 'tutto chiaro?'\n",
    "```\n",
    "\n",
    "deve mostrare \n",
    "\n",
    "`True`\n"
   ]
  },
  {
   "cell_type": "code",
   "execution_count": 133,
   "metadata": {},
   "outputs": [
    {
     "name": "stdout",
     "output_type": "stream",
     "text": [
      "True\n"
     ]
    }
   ],
   "source": [
    "x = 'tti'\n",
    "y = 'patti chiari amicizia lunga'\n",
    "z = 'tutto chiaro?'\n",
    "\n",
    "\n",
    "# scrivi qui\n",
    "\n",
    "print((x in y) or (x  in z))"
   ]
  },
  {
   "cell_type": "markdown",
   "metadata": {},
   "source": [
    "## Altri operatori\n",
    "\n",
    "Riassumiamo qui gli operatori per lavorare con le stringhe:\n",
    "\n",
    "\n",
    "|Risultato|Operatore|Significato|\n",
    "|---|----|-----|\n",
    "|int|len(str)| Ritorna la lunghezza della stringa|\n",
    "|str|str + str| Concatena due stringhe|\n",
    "|str|str * int| Replica la stringa|\n",
    "|bool|str in str| Controlla se la stringa è presente in un'altra stringa|\n",
    "|str|str[int]|Legge il carattere all'indice specificato|\n",
    "|str|str[int:int]|Estrae una sotto-string|"
   ]
  },
  {
   "cell_type": "markdown",
   "metadata": {},
   "source": [
    "### Da fare - tanti ciao\n",
    "\n",
    "**DA FARE**: Data la stringa `x = 'hello'`, stampa la stringa con  `'hello'` ripetuto 5 volte: `'hellohellohellohellohello'`. \n",
    "\n",
    "* Risolvi questo esercizio guardando la tabella degli operatori qua sopra. \n",
    "* Il tuo codice deve funzionare con qualsiasi stringa assegnata alla variabile `x`\n"
   ]
  },
  {
   "cell_type": "code",
   "execution_count": 134,
   "metadata": {},
   "outputs": [
    {
     "name": "stdout",
     "output_type": "stream",
     "text": [
      "hellohellohellohellohello\n"
     ]
    }
   ],
   "source": [
    "x = 'hello'\n",
    "\n",
    "# scrivi qui\n",
    "\n",
    "print('hello' * 5)"
   ]
  },
  {
   "cell_type": "markdown",
   "metadata": {},
   "source": [
    "## Metodi \n",
    "\n",
    "Ogni tipo di dati ha associati dei metodi particolari per quel tipo, vediamo quelli associati al tipo stringa (`str`)\n",
    "\n",
    "<div class=\"alert alert-warning\">\n",
    "\n",
    "**ATTENZIONE: TUTTI i metodi sulle stringhe generano SEMPRE una NUOVA stringa**\n",
    "\n",
    "\n",
    "L'oggetto stringa originale non viene MAI modificato (perchè le stringhe sono immutabili). \n",
    "\n",
    "</div>\n"
   ]
  },
  {
   "cell_type": "markdown",
   "metadata": {},
   "source": [
    "|Risultato|Metodo|Significato|\n",
    "|---------|------|-----------|\n",
    "|str|str.upper()|Ritorna la stringa con tutti i caratteri maiuscoli|\n",
    "|str|str.lower()|Ritorna la stringa con tutti i caratteri minuscoli|\n",
    "|str|str.capitalize()|Ritorna la stringa con il primo carattere maiuscolo|\n",
    "|str|str.strip(str)|Rimuove stringhe dai lati|\n",
    "|str|str.lstrip(str)|Rimuove stringhe da sinistra|\n",
    "|str|str.rstrip(str)|Rimuove stringhe da destra|\n",
    "|str|str.replace(str, str)|Sostituisce sottostringhe|\n",
    "|bool|str.startswith(str)|Controlla se la stringa inizia con un'altra|\n",
    "|bool|str.endswith(str)|Controlla se la stringa finisce con un'altra|\n",
    "|int|str.find(str)|Ritorna la prima posizione di una sottostringa a partire da sinistra|\n",
    "|int|str.rfind(str)|Ritorna la prima posizione di una sottostringa a partire da destra|\n",
    "|int|str.count(str)|Conta il numero di occorrenze di una sottostringa|\n"
   ]
  },
  {
   "cell_type": "markdown",
   "metadata": {},
   "source": [
    "### Metodi - esempio\n",
    "\n",
    "Un metodo è una funzione di un oggetto che prende in ingresso l'oggetto a cui è applicata e vi fa dei calcoli. \n",
    "\n",
    "Il tipo stringa (`str`) ha metodi predefiniti come `str.upper()` che possono essere applicati agli oggetti stringa (es: `'ciao'` è un oggetto stringa). \n",
    "\n",
    "\n",
    "Il metodo `str.upper()` prende la stringa su cui è applicato  e crea una NUOVA stringa in cui tutti i caratteri sono in maiuscolo. Per applicare un metodo come `str.upper()` al particolare oggetto stringa `'ciao'`, dobbiamo scrivere \n",
    "\n",
    "```python\n",
    "'ciao'.upper()\n",
    "``` \n",
    "\n",
    "cioè dobbiamo prima scrivere l'oggetto su cui applicare il metodo (`'ciao'`), poi un punto `.` , quindi il nome del metodo seguito da parentesi tonde. Le tonde possono contenere ulteriori parametri a seconda del metodo.\n",
    "\n",
    "Esempi:"
   ]
  },
  {
   "cell_type": "code",
   "execution_count": 135,
   "metadata": {},
   "outputs": [
    {
     "data": {
      "text/plain": [
       "'CIAO'"
      ]
     },
     "execution_count": 135,
     "metadata": {},
     "output_type": "execute_result"
    }
   ],
   "source": [
    "'ciao'.upper()"
   ]
  },
  {
   "cell_type": "code",
   "execution_count": 136,
   "metadata": {},
   "outputs": [
    {
     "data": {
      "text/plain": [
       "'PROVA'"
      ]
     },
     "execution_count": 136,
     "metadata": {},
     "output_type": "execute_result"
    }
   ],
   "source": [
    "'prova'.upper()"
   ]
  },
  {
   "cell_type": "markdown",
   "metadata": {},
   "source": [
    "<div class=\"alert alert-warning\">\n",
    "\n",
    "**ATTENZIONE**: come TUTTI i metodi delle stringhe, l'oggetto stringa originale su cui è chiamato NON viene modificato. \n",
    "\n",
    "</div>\n",
    "\n",
    "Esempio:\n"
   ]
  },
  {
   "cell_type": "code",
   "execution_count": 137,
   "metadata": {},
   "outputs": [],
   "source": [
    "x = \"ciao\"\n",
    "y = x.upper()    #  genera una NUOVA stringa e la associa alla variabile y"
   ]
  },
  {
   "cell_type": "code",
   "execution_count": 138,
   "metadata": {},
   "outputs": [
    {
     "data": {
      "text/plain": [
       "'ciao'"
      ]
     },
     "execution_count": 138,
     "metadata": {},
     "output_type": "execute_result"
    }
   ],
   "source": [
    "x     # la variabile x è ancora associata alla vecchia stringa"
   ]
  },
  {
   "cell_type": "code",
   "execution_count": 139,
   "metadata": {},
   "outputs": [
    {
     "data": {
      "text/plain": [
       "'CIAO'"
      ]
     },
     "execution_count": 139,
     "metadata": {},
     "output_type": "execute_result"
    }
   ],
   "source": [
    "y     # la variabile y è associata alla nuova stringa"
   ]
  },
  {
   "cell_type": "markdown",
   "metadata": {},
   "source": [
    "Guarda lo stesso esempio in Python Tutor:"
   ]
  },
  {
   "cell_type": "code",
   "execution_count": 140,
   "metadata": {},
   "outputs": [
    {
     "name": "stdout",
     "output_type": "stream",
     "text": [
      "ciao\n",
      "CIAO\n"
     ]
    },
    {
     "data": {
      "text/html": [
       "\n",
       "        <iframe\n",
       "            width=\"900\"\n",
       "            height=\"325\"\n",
       "            src=\"https://pythontutor.com/iframe-embed.html#code=x+%3D+%22ciao%22%0Ay+%3D+x.upper%28%29%0Aprint%28x%29%0Aprint%28y%29%0A%0A&cumulative=false&py=3&curInstr=0\"\n",
       "            frameborder=\"0\"\n",
       "            allowfullscreen\n",
       "        ></iframe>\n",
       "        "
      ],
      "text/plain": [
       "<IPython.lib.display.IFrame at 0x7ff8fc38bb38>"
      ]
     },
     "execution_count": 140,
     "metadata": {},
     "output_type": "execute_result"
    }
   ],
   "source": [
    "x = \"ciao\"\n",
    "y = x.upper()\n",
    "print(x)\n",
    "print(y)\n",
    "\n",
    "jupman.pytut()"
   ]
  },
  {
   "cell_type": "markdown",
   "metadata": {},
   "source": [
    "### Da fare - cammina\n",
    "\n",
    "Scrivere del codice che data una stringa `x` (per es: `x='cammina'`) stampa due volta la riga \n",
    "\n",
    "```\n",
    "cammina CAMMINA cammina CAMMINA\n",
    "cammina CAMMINA cammina CAMMINA\n",
    "```\n",
    "\n",
    "* NON creare nuove variabili\n",
    "* il tuo codice deve funzionare con qualsiasi stringa"
   ]
  },
  {
   "cell_type": "code",
   "execution_count": 141,
   "metadata": {},
   "outputs": [
    {
     "name": "stdout",
     "output_type": "stream",
     "text": [
      "cammina CAMMINA cammina CAMMINA\n",
      "cammina CAMMINA cammina CAMMINA\n"
     ]
    }
   ],
   "source": [
    "x = 'cammina'\n",
    "\n",
    "print(x, x.upper(), x, x.upper())\n",
    "print(x, x.upper(), x, x.upper())"
   ]
  },
  {
   "cell_type": "markdown",
   "metadata": {},
   "source": [
    "**Help**:  Se non sei sicuro riguardo a un metodo (per esempio `strip`), puoi chiedere aiuto a Python in questo modo:\n",
    "\n",
    "<div class=\"alert alert-warning\">\n",
    "\n",
    "**ATTENZIONE: con help dopo il nome del metodo NON ci sono parentesi !!**\n",
    "\n",
    "</div>\n"
   ]
  },
  {
   "cell_type": "code",
   "execution_count": 142,
   "metadata": {},
   "outputs": [
    {
     "name": "stdout",
     "output_type": "stream",
     "text": [
      "Help on built-in function strip:\n",
      "\n",
      "strip(chars=None, /) method of builtins.str instance\n",
      "    Return a copy of the string with leading and trailing whitespace remove.\n",
      "    \n",
      "    If chars is given and not None, remove characters in chars instead.\n",
      "\n"
     ]
    }
   ],
   "source": [
    "help(\"ciao\".strip)\n"
   ]
  },
  {
   "cell_type": "markdown",
   "metadata": {},
   "source": [
    "### Metodo lower\n",
    "\n",
    "Ritorna la stringa con tutti i caratteri minuscoli\n"
   ]
  },
  {
   "cell_type": "code",
   "execution_count": 143,
   "metadata": {},
   "outputs": [
    {
     "name": "stdout",
     "output_type": "stream",
     "text": [
      "ciao mondo\n"
     ]
    }
   ],
   "source": [
    "stringa = \"ciAo MonDo\"\n",
    "\n",
    "altra_stringa = stringa.lower()\n",
    "\n",
    "print(altra_stringa)\n"
   ]
  },
  {
   "cell_type": "code",
   "execution_count": 144,
   "metadata": {},
   "outputs": [
    {
     "name": "stdout",
     "output_type": "stream",
     "text": [
      "ciAo MonDo\n"
     ]
    }
   ],
   "source": [
    "print(stringa)  # non è cambiata"
   ]
  },
  {
   "cell_type": "markdown",
   "metadata": {},
   "source": [
    "### Metodo capitalize"
   ]
  },
  {
   "cell_type": "markdown",
   "metadata": {},
   "source": [
    "Il metodo `capitalize()` crea una NUOVA stringa avente solo il PRIMO carattere in maiuscolo:"
   ]
  },
  {
   "cell_type": "code",
   "execution_count": 145,
   "metadata": {},
   "outputs": [
    {
     "data": {
      "text/plain": [
       "'Ciao'"
      ]
     },
     "execution_count": 145,
     "metadata": {},
     "output_type": "execute_result"
    }
   ],
   "source": [
    "\"ciao\".capitalize()"
   ]
  },
  {
   "cell_type": "code",
   "execution_count": 146,
   "metadata": {},
   "outputs": [
    {
     "data": {
      "text/plain": [
       "'Mondo'"
      ]
     },
     "execution_count": 146,
     "metadata": {},
     "output_type": "execute_result"
    }
   ],
   "source": [
    "\"mondo\".capitalize()"
   ]
  },
  {
   "cell_type": "code",
   "execution_count": 147,
   "metadata": {},
   "outputs": [],
   "source": [
    "x = 'capra'\n",
    "y = 'capra'.capitalize()"
   ]
  },
  {
   "cell_type": "code",
   "execution_count": 148,
   "metadata": {},
   "outputs": [
    {
     "data": {
      "text/plain": [
       "'capra'"
      ]
     },
     "execution_count": 148,
     "metadata": {},
     "output_type": "execute_result"
    }
   ],
   "source": [
    "x      #  x rimane associata al vecchio valore"
   ]
  },
  {
   "cell_type": "code",
   "execution_count": 149,
   "metadata": {},
   "outputs": [
    {
     "data": {
      "text/plain": [
       "'Capra'"
      ]
     },
     "execution_count": 149,
     "metadata": {},
     "output_type": "execute_result"
    }
   ],
   "source": [
    "y      #  y viene associata alla nuova stringa"
   ]
  },
  {
   "cell_type": "markdown",
   "metadata": {},
   "source": [
    "### Da fare - Vostra Eccellenza\n",
    "\n",
    "\n"
   ]
  },
  {
   "cell_type": "markdown",
   "metadata": {},
   "source": [
    "Scrivere del codice che date due stringhe qualsiasi `x` e `y` restituisce le due stringhe concatenate, separandole con uno spazio ed entrambe tutte in minuscolo eccetto le rispettive prime lettere che devono essere maiuscole.\n",
    "\n",
    "Esempio:\n",
    "\n",
    "Dati:\n",
    "\n",
    "```python\n",
    "x = 'vosTRA'\n",
    "y = 'ecCeLLeNza'\n",
    "```\n",
    "\n",
    "deve stampare:\n",
    "\n",
    "```\n",
    "Vostra Eccellenza\n",
    "```\n",
    "\n",
    "Dati:\n",
    "\n",
    "```python\n",
    "x = 'sUa'\n",
    "y = 'maEStà'\n",
    "```\n",
    "\n",
    "deve stampare:\n",
    "\n",
    "```\n",
    "Sua Maestà\n",
    "```\n"
   ]
  },
  {
   "cell_type": "code",
   "execution_count": 150,
   "metadata": {},
   "outputs": [
    {
     "name": "stdout",
     "output_type": "stream",
     "text": [
      "Vostra Eccellenza\n"
     ]
    }
   ],
   "source": [
    "x = 'vosTRA'\n",
    "y = 'ecCeLLeNza'\n",
    "\n",
    "# scrivi qui\n",
    "\n",
    "print(x.capitalize() + \" \" + y.capitalize())"
   ]
  },
  {
   "cell_type": "markdown",
   "metadata": {},
   "source": [
    "### Metodo strip\n",
    "\n",
    "Elimina spazi bianchi, tab e ritorni a capo dalle _estremità_ della stringa. In genere, questo insieme di caratteri viene definito _blank_\n",
    "\n",
    "**NOTA**: NON rimuove i _blank_ tra le parole della stringa! Solo quelli all'estremità destra e sinistra."
   ]
  },
  {
   "cell_type": "code",
   "execution_count": 151,
   "metadata": {},
   "outputs": [],
   "source": [
    "x = ' \\t\\n\\n\\t ciao mondo \\t  '   # alle estremità abbiamo messo spazi bianchi, tab e ritorni a capo"
   ]
  },
  {
   "cell_type": "code",
   "execution_count": 152,
   "metadata": {},
   "outputs": [
    {
     "data": {
      "text/plain": [
       "' \\t\\n\\n\\t ciao mondo \\t  '"
      ]
     },
     "execution_count": 152,
     "metadata": {},
     "output_type": "execute_result"
    }
   ],
   "source": [
    "x"
   ]
  },
  {
   "cell_type": "code",
   "execution_count": 153,
   "metadata": {},
   "outputs": [
    {
     "name": "stdout",
     "output_type": "stream",
     "text": [
      " \t\n",
      "\n",
      "\t ciao mondo \t  \n"
     ]
    }
   ],
   "source": [
    "print(x)"
   ]
  },
  {
   "cell_type": "code",
   "execution_count": 154,
   "metadata": {},
   "outputs": [
    {
     "data": {
      "text/plain": [
       "20"
      ]
     },
     "execution_count": 154,
     "metadata": {},
     "output_type": "execute_result"
    }
   ],
   "source": [
    "len(x)   # ricorda che i caratteri speciali come \\t e \\n occupano 1 carattere"
   ]
  },
  {
   "cell_type": "code",
   "execution_count": 155,
   "metadata": {},
   "outputs": [],
   "source": [
    "y = x.strip()"
   ]
  },
  {
   "cell_type": "code",
   "execution_count": 156,
   "metadata": {},
   "outputs": [
    {
     "data": {
      "text/plain": [
       "'ciao mondo'"
      ]
     },
     "execution_count": 156,
     "metadata": {},
     "output_type": "execute_result"
    }
   ],
   "source": [
    "y"
   ]
  },
  {
   "cell_type": "code",
   "execution_count": 157,
   "metadata": {},
   "outputs": [
    {
     "name": "stdout",
     "output_type": "stream",
     "text": [
      "ciao mondo\n"
     ]
    }
   ],
   "source": [
    "print(y)"
   ]
  },
  {
   "cell_type": "code",
   "execution_count": 158,
   "metadata": {},
   "outputs": [
    {
     "data": {
      "text/plain": [
       "10"
      ]
     },
     "execution_count": 158,
     "metadata": {},
     "output_type": "execute_result"
    }
   ],
   "source": [
    "len(y)"
   ]
  },
  {
   "cell_type": "code",
   "execution_count": 159,
   "metadata": {},
   "outputs": [
    {
     "data": {
      "text/plain": [
       "' \\t\\n\\n\\t ciao mondo \\t  '"
      ]
     },
     "execution_count": 159,
     "metadata": {},
     "output_type": "execute_result"
    }
   ],
   "source": [
    "x      # IMPORTANTE: x è ancora associato alla vecchia stringa !"
   ]
  },
  {
   "cell_type": "markdown",
   "metadata": {},
   "source": [
    "### Metodo lstrip\n",
    "\n",
    "Elimina spazi bianchi, tab e ritorni a capo dall' _estremità sinistra_ della stringa. \n",
    "\n",
    "**NOTA**: NON rimuove i _blank_ tra le parole della stringa! Solo quelli all'estremità sinistra."
   ]
  },
  {
   "cell_type": "code",
   "execution_count": 160,
   "metadata": {},
   "outputs": [],
   "source": [
    "x = '\\n \\t la strada \\t '"
   ]
  },
  {
   "cell_type": "code",
   "execution_count": 161,
   "metadata": {},
   "outputs": [
    {
     "data": {
      "text/plain": [
       "'\\n \\t la strada \\t '"
      ]
     },
     "execution_count": 161,
     "metadata": {},
     "output_type": "execute_result"
    }
   ],
   "source": [
    "x"
   ]
  },
  {
   "cell_type": "code",
   "execution_count": 162,
   "metadata": {},
   "outputs": [
    {
     "data": {
      "text/plain": [
       "16"
      ]
     },
     "execution_count": 162,
     "metadata": {},
     "output_type": "execute_result"
    }
   ],
   "source": [
    "len(x)"
   ]
  },
  {
   "cell_type": "code",
   "execution_count": 163,
   "metadata": {},
   "outputs": [],
   "source": [
    "y = x.lstrip()"
   ]
  },
  {
   "cell_type": "code",
   "execution_count": 164,
   "metadata": {},
   "outputs": [
    {
     "data": {
      "text/plain": [
       "'la strada \\t '"
      ]
     },
     "execution_count": 164,
     "metadata": {},
     "output_type": "execute_result"
    }
   ],
   "source": [
    "y"
   ]
  },
  {
   "cell_type": "code",
   "execution_count": 165,
   "metadata": {},
   "outputs": [
    {
     "data": {
      "text/plain": [
       "12"
      ]
     },
     "execution_count": 165,
     "metadata": {},
     "output_type": "execute_result"
    }
   ],
   "source": [
    "len(y)"
   ]
  },
  {
   "cell_type": "code",
   "execution_count": 166,
   "metadata": {},
   "outputs": [
    {
     "data": {
      "text/plain": [
       "'\\n \\t la strada \\t '"
      ]
     },
     "execution_count": 166,
     "metadata": {},
     "output_type": "execute_result"
    }
   ],
   "source": [
    "x       # IMPORTANTE: x è ancora associato alla vecchia stringa !"
   ]
  },
  {
   "cell_type": "markdown",
   "metadata": {},
   "source": [
    "### Metodo rstrip\n",
    "\n",
    "Elimina spazi bianchi, tab e ritorni a capo dall' _estremità destra_ della stringa. \n",
    "\n",
    "**NOTA**: NON rimuove i _blank_ tra le parole della stringa! Solo quelli all'estremità destra."
   ]
  },
  {
   "cell_type": "code",
   "execution_count": 167,
   "metadata": {},
   "outputs": [],
   "source": [
    "x = '\\n \\t il faro \\t '"
   ]
  },
  {
   "cell_type": "code",
   "execution_count": 168,
   "metadata": {},
   "outputs": [
    {
     "data": {
      "text/plain": [
       "'\\n \\t il faro \\t '"
      ]
     },
     "execution_count": 168,
     "metadata": {},
     "output_type": "execute_result"
    }
   ],
   "source": [
    "x"
   ]
  },
  {
   "cell_type": "code",
   "execution_count": 169,
   "metadata": {},
   "outputs": [
    {
     "data": {
      "text/plain": [
       "14"
      ]
     },
     "execution_count": 169,
     "metadata": {},
     "output_type": "execute_result"
    }
   ],
   "source": [
    "len(x)"
   ]
  },
  {
   "cell_type": "code",
   "execution_count": 170,
   "metadata": {},
   "outputs": [],
   "source": [
    "y = x.rstrip()"
   ]
  },
  {
   "cell_type": "code",
   "execution_count": 171,
   "metadata": {},
   "outputs": [
    {
     "data": {
      "text/plain": [
       "'\\n \\t il faro'"
      ]
     },
     "execution_count": 171,
     "metadata": {},
     "output_type": "execute_result"
    }
   ],
   "source": [
    "y"
   ]
  },
  {
   "cell_type": "code",
   "execution_count": 172,
   "metadata": {},
   "outputs": [
    {
     "data": {
      "text/plain": [
       "11"
      ]
     },
     "execution_count": 172,
     "metadata": {},
     "output_type": "execute_result"
    }
   ],
   "source": [
    "len(y)"
   ]
  },
  {
   "cell_type": "code",
   "execution_count": 173,
   "metadata": {},
   "outputs": [
    {
     "data": {
      "text/plain": [
       "'\\n \\t il faro \\t '"
      ]
     },
     "execution_count": 173,
     "metadata": {},
     "output_type": "execute_result"
    }
   ],
   "source": [
    "x       # IMPORTANTE: x è ancora associato alla vecchia stringa !"
   ]
  },
  {
   "cell_type": "markdown",
   "metadata": {},
   "source": [
    "### Da fare - hatespace\n",
    "\n",
    "Data una stringa `x` che può contenere dei _blank_ (spazi, caratteri di controllo come `\\t` e `\\n`, ...) all'inizio e alla fine, scrivi del codice che stampa la stringa senza i _blank_ e le stringhe `INIZIO` e `FINE` alle estremità.\n",
    "\n",
    "Esempio:\n",
    "\n",
    "Dato\n",
    "\n",
    "```python\n",
    "x = ' \\t  \\n \\n hatespace\\n   \\t \\n'\n",
    "```\n",
    "\n",
    "stampa\n",
    "\n",
    "```\n",
    "INIZIOhatespaceFINE\n",
    "```\n"
   ]
  },
  {
   "cell_type": "code",
   "execution_count": 174,
   "metadata": {},
   "outputs": [
    {
     "name": "stdout",
     "output_type": "stream",
     "text": [
      "INIZIOhatespaceFINE\n"
     ]
    }
   ],
   "source": [
    "# scrivi qui\n",
    "\n",
    "x = ' \\t  \\n \\n hatespace\\n   \\t \\n'\n",
    "\n",
    "print('INIZIO' + x.strip() + 'FINE')"
   ]
  },
  {
   "cell_type": "markdown",
   "metadata": {},
   "source": [
    "### Metodo replace\n",
    "\n",
    "`str.replace` prende due stringhe, e restituisce una NUOVA stringa ricavata sostituendo alla stringa su cui è chiamata tutte le occorrenze della prima stringa con la seconda. \n",
    "\n",
    "Esempio:"
   ]
  },
  {
   "cell_type": "code",
   "execution_count": 175,
   "metadata": {},
   "outputs": [
    {
     "data": {
      "text/plain": [
       "'il terno percorer'"
      ]
     },
     "execution_count": 175,
     "metadata": {},
     "output_type": "execute_result"
    }
   ],
   "source": [
    "\"il treno percorre\".replace('re', 'er')"
   ]
  },
  {
   "cell_type": "code",
   "execution_count": 176,
   "metadata": {},
   "outputs": [
    {
     "data": {
      "text/plain": [
       "'alberellini bellini'"
      ]
     },
     "execution_count": 176,
     "metadata": {},
     "output_type": "execute_result"
    }
   ],
   "source": [
    "\"alberello bello\".replace('llo', 'llini')"
   ]
  },
  {
   "cell_type": "code",
   "execution_count": 177,
   "metadata": {},
   "outputs": [
    {
     "data": {
      "text/plain": [
       "'parlare e brindare'"
      ]
     },
     "execution_count": 177,
     "metadata": {},
     "output_type": "execute_result"
    }
   ],
   "source": [
    "\"parlare e brindare\".replace('ARE', 'iamo')  # se cerchiamo maiuscole qua non le troveremo"
   ]
  },
  {
   "cell_type": "code",
   "execution_count": 178,
   "metadata": {},
   "outputs": [
    {
     "data": {
      "text/plain": [
       "'PARLIAMO E BRINDIAMO'"
      ]
     },
     "execution_count": 178,
     "metadata": {},
     "output_type": "execute_result"
    }
   ],
   "source": [
    "\"PARLARE E BRINDARE\".replace('ARE', 'IAMO')  # ma qua sì"
   ]
  },
  {
   "cell_type": "markdown",
   "metadata": {},
   "source": [
    "Come sempre per le stringhe, replace NON modifica la stringa su cui è chiamato:"
   ]
  },
  {
   "cell_type": "code",
   "execution_count": 179,
   "metadata": {},
   "outputs": [],
   "source": [
    "x = \"sulla panca\""
   ]
  },
  {
   "cell_type": "code",
   "execution_count": 180,
   "metadata": {},
   "outputs": [],
   "source": [
    "y = x.replace('panca', 'panca la capra campa')"
   ]
  },
  {
   "cell_type": "code",
   "execution_count": 181,
   "metadata": {},
   "outputs": [
    {
     "data": {
      "text/plain": [
       "'sulla panca la capra campa'"
      ]
     },
     "execution_count": 181,
     "metadata": {},
     "output_type": "execute_result"
    }
   ],
   "source": [
    "y"
   ]
  },
  {
   "cell_type": "code",
   "execution_count": 182,
   "metadata": {},
   "outputs": [
    {
     "data": {
      "text/plain": [
       "'sulla panca'"
      ]
     },
     "execution_count": 182,
     "metadata": {},
     "output_type": "execute_result"
    }
   ],
   "source": [
    "x  # IMPORTANTE: x è ancora associato alla vecchia stringa !"
   ]
  },
  {
   "cell_type": "markdown",
   "metadata": {},
   "source": [
    "### Da fare - sostituisci\n",
    "\n",
    "Data una stringa `x`, scrivi del codice per stampare una stringa come `x` ma con tutte le occorrenze di `bab` sostituite da `dada`"
   ]
  },
  {
   "cell_type": "markdown",
   "metadata": {},
   "source": [
    "Esempio:\n",
    "\n",
    "Dato\n",
    "\n",
    "```python\n",
    "x = 'kljsfsdbabòkkrbabej'\n",
    "```\n",
    "\n",
    "Dovrebbe stampare\n",
    "\n",
    "```bash\n",
    "kljsfsddadaòkkrdadaej\n",
    "```\n",
    "\n"
   ]
  },
  {
   "cell_type": "code",
   "execution_count": 183,
   "metadata": {},
   "outputs": [
    {
     "name": "stdout",
     "output_type": "stream",
     "text": [
      "kljsfsddadaòkkrdadaej\n"
     ]
    }
   ],
   "source": [
    "# scrivi qui\n",
    "\n",
    "x = 'kljsfsdbabòkkrbabej'\n",
    "print(x.replace('bab', 'dada'))"
   ]
  },
  {
   "cell_type": "markdown",
   "metadata": {},
   "source": [
    "### Metodo startswith\n",
    "\n",
    "`str.startswith` prende come parametro una stringa e ritorna `True` se la stringa prima del punto inizia con la stringa passata come parametro. Esempio:"
   ]
  },
  {
   "cell_type": "code",
   "execution_count": 184,
   "metadata": {},
   "outputs": [
    {
     "data": {
      "text/plain": [
       "True"
      ]
     },
     "execution_count": 184,
     "metadata": {},
     "output_type": "execute_result"
    }
   ],
   "source": [
    "\"il cane abbaia nella strada\".startswith('il cane')"
   ]
  },
  {
   "cell_type": "code",
   "execution_count": 185,
   "metadata": {},
   "outputs": [
    {
     "data": {
      "text/plain": [
       "False"
      ]
     },
     "execution_count": 185,
     "metadata": {},
     "output_type": "execute_result"
    }
   ],
   "source": [
    "\"il cane abbaia nella strada\".startswith('abbaia')"
   ]
  },
  {
   "cell_type": "code",
   "execution_count": 186,
   "metadata": {},
   "outputs": [
    {
     "data": {
      "text/plain": [
       "False"
      ]
     },
     "execution_count": 186,
     "metadata": {},
     "output_type": "execute_result"
    }
   ],
   "source": [
    "\"il cane abbaia nella strada\".startswith('IL CANE')  # le maiuscole sono diverse dalle minuscole"
   ]
  },
  {
   "cell_type": "code",
   "execution_count": 187,
   "metadata": {},
   "outputs": [
    {
     "data": {
      "text/plain": [
       "True"
      ]
     },
     "execution_count": 187,
     "metadata": {},
     "output_type": "execute_result"
    }
   ],
   "source": [
    "\"IL CANE ABBAIA SULLA STRADA\".startswith('IL CANE')  # le maiuscole sono diverse dalle minuscole"
   ]
  },
  {
   "cell_type": "markdown",
   "metadata": {},
   "source": [
    "### Da fare - per Giove"
   ]
  },
  {
   "cell_type": "markdown",
   "metadata": {},
   "source": [
    "Scrivere del codice che date tre stringhe qualsiasi `x` e `y` e `z`, stampa `True` se entrambe `x` e `y` iniziano con la stringa `z`, altrimenti stampa `False`\n",
    "\n",
    "Esempi 1 - Dati:\n",
    "\n",
    "```python\n",
    "x = 'per Giove'\n",
    "y = 'per Zeus'\n",
    "z = 'per'\n",
    "```\n",
    "\n",
    "deve stampare \n",
    "\n",
    "```\n",
    "True\n",
    "```\n",
    "\n",
    "\n",
    "Esempio 2 - Dati:\n",
    "\n",
    "```python\n",
    "x = 'per Giove'\n",
    "y = 'per Zeus'\n",
    "z = 'da'\n",
    "```\n",
    "\n",
    "deve stampare \n",
    "\n",
    "```\n",
    "False\n",
    "```\n",
    "\n",
    "Esempio 3 - Dati:\n",
    "\n",
    "```python\n",
    "x = 'da Giove'\n",
    "y = 'per Zeus'\n",
    "z = 'per'\n",
    "```\n",
    "\n",
    "deve stampare \n",
    "\n",
    "```\n",
    "False\n",
    "```"
   ]
  },
  {
   "cell_type": "code",
   "execution_count": 188,
   "metadata": {},
   "outputs": [
    {
     "name": "stdout",
     "output_type": "stream",
     "text": [
      "True\n"
     ]
    }
   ],
   "source": [
    "x = 'per Giove'\n",
    "y = 'per Zeus'\n",
    "z = 'per'\n",
    "\n",
    "# scrivi qui\n",
    "\n",
    "print(x.startswith(z) and y.startswith(z))"
   ]
  },
  {
   "cell_type": "markdown",
   "metadata": {},
   "source": [
    "### Da fare - uppermezzo\n",
    "\n",
    "Scrivere del codice che data una stringa qualsiasi `x` di lunghezza dispari, stampa una nuova stringa uguale a `x` eccetto al carattere in mezzo che deve essere in maiuscolo.\n",
    "\n",
    "* Il tuo codice deve funzionare con qualunque stringa !\n",
    "* **SUGGERIMENTO**: per calcolare la posizione del carattere in mezzo, usa la divisione intera con l'operatore `//`\n",
    "\n",
    "Esempi:\n",
    "\n",
    "Dato \n",
    "\n",
    "```python\n",
    "x = 'ascensore'\n",
    "```\n",
    "\n",
    "deve stampare\n",
    "\n",
    "`asceNsore`\n",
    "\n",
    "Dato \n",
    "\n",
    "```python\n",
    "x = 'lampada'\n",
    "```\n",
    "\n",
    "deve stampare\n",
    "\n",
    "`lamPada`\n"
   ]
  },
  {
   "cell_type": "code",
   "execution_count": 189,
   "metadata": {},
   "outputs": [
    {
     "name": "stdout",
     "output_type": "stream",
     "text": [
      "asceNsore\n"
     ]
    }
   ],
   "source": [
    "    #012345678\n",
    "x = 'ascensore'\n",
    "k = len(x) // 2\n",
    "\n",
    "print(x[:k] + x[k].upper() + x[k+1:])"
   ]
  },
  {
   "cell_type": "markdown",
   "metadata": {},
   "source": [
    "## Prosegui\n",
    "\n",
    "Trovi ulteriori esercizi nel foglio [Stringhe 2](strings2.ipynb)"
   ]
  },
  {
   "cell_type": "code",
   "execution_count": null,
   "metadata": {},
   "outputs": [],
   "source": []
  }
 ],
 "metadata": {
  "celltoolbar": "Edit Metadata",
  "kernelspec": {
   "display_name": "Python 3",
   "language": "python",
   "name": "python3"
  },
  "language_info": {
   "codemirror_mode": {
    "name": "ipython",
    "version": 3
   },
   "file_extension": ".py",
   "mimetype": "text/x-python",
   "name": "python",
   "nbconvert_exporter": "python",
   "pygments_lexer": "ipython3",
   "version": "3.7.3"
  },
  "toc": {
   "base_numbering": 1,
   "nav_menu": {},
   "number_sections": false,
   "sideBar": true,
   "skip_h1_title": false,
   "title_cell": "Table of Contents",
   "title_sidebar": "Contents",
   "toc_cell": false,
   "toc_position": {
    "height": "calc(100% - 180px)",
    "left": "10px",
    "top": "150px",
    "width": "280px"
   },
   "toc_section_display": true,
   "toc_window_display": true
  }
 },
 "nbformat": 4,
 "nbformat_minor": 2
}
