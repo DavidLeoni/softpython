{
 "cells": [
  {
   "cell_type": "code",
   "execution_count": 1,
   "metadata": {
    "scrolled": false
   },
   "outputs": [
    {
     "data": {
      "application/vnd.jupyter.widget-view+json": {
       "model_id": "ff0a4166009644879a7df234a805e448",
       "version_major": 2,
       "version_minor": 0
      },
      "text/plain": [
       "VBox(children=(HTML(value='<h1 style=\"color:orange\">Webapp Incredibile</h1> <br/>'), Tab(children=(HBox(childr…"
      ]
     },
     "metadata": {},
     "output_type": "display_data"
    }
   ],
   "source": [
    "import ipywidgets as widgets\n",
    "from ipywidgets import Button, HBox, VBox, Tab, IntSlider, Label, HTML, AppLayout, Layout\n",
    "\n",
    "# !!!!  IMPORTANTE !!!! \n",
    "# Il 'pyplot' che vedete qui sotto, che viene importato con il nome di 'plt'\n",
    "# proviene dalla libreria di bqplot, NON E' lo stesso pyplot di matplotlib !! \n",
    "# Gli autori di bqplot hanno adottato lo stesso nome e convenzioni per permettervi \n",
    "# di riusare facilmente esempi che già conoscete di matplotlib\n",
    "\n",
    "from bqplot import pyplot as plt  \n",
    "\n",
    "x = [2,4,6]\n",
    "fig = plt.figure()          # genera la figure\n",
    "\n",
    "lines = plt.plot(x, [15,3,20])\n",
    "plt.title('Grafico in bqplot')\n",
    "\n",
    "slider1 = IntSlider()\n",
    "\n",
    "bottone_vai_pag2 = Button(description=\"VAI PAGINA 2\")\n",
    "\n",
    "\n",
    "slider2 = IntSlider()\n",
    "hbox2 = HBox([Button(description='clicca qui'), Button(description='cliccami!')])\n",
    "\n",
    "\n",
    "tab1 = HBox(children=[fig, VBox([slider1, bottone_vai_pag2])])\n",
    "tab2 = VBox(children=[slider2,\n",
    "                      hbox2])\n",
    "                                     \n",
    "# al momento la prima 'pagina' è il widget Tab \n",
    "pagina1 = widgets.Tab(children=[tab1, tab2],  layout=Layout(min_height='350px'))\n",
    "\n",
    "pagina1.set_title(0, 'TAB COL PLOT')\n",
    "pagina1.set_title(1, 'ALTRA TAB')\n",
    "\n",
    "bottone_vai_pag1 = Button(description=\"VAI PAGINA 1\")    \n",
    "\n",
    "pagina2 = HBox([\n",
    "                Label(\"Questa è la seconda pagina\"), \n",
    "                bottone_vai_pag1\n",
    "               ],\n",
    "               layout=Layout(min_height='350px') )\n",
    "\n",
    "\n",
    "# Il codice HTML è il codice con cui sono scritte le pagine web, qui lo \n",
    "# usiamo per creare il titolo come esempio ma non è indispensabile conoscerlo\n",
    "# Se vuoi saperne di più, prova a seguire questo tutorial:    http://coderdojotrento.it/web1\n",
    "titolo = HTML('<h1 style=\"color:orange\">Webapp Incredibile</h1> <br/>')\n",
    "\n",
    "# testo comune in fondo alla pagina\n",
    "credits = Label(\"Credits: Interfacce Incredibili SRL\")\n",
    "\n",
    "# la struttura della nostra webapp è un pila VBox di elementi.\n",
    "mia_app = VBox( children=[titolo,    # supponiamo che il titolo sia sempre visibile in tutto il sito\n",
    "                          pagina1,   # al momento la prima 'pagina' è il widget tab \n",
    "                          credits])  # supponiamo che il titolo sia sempre visibile in tutto il sito\n",
    "\n",
    "# questa funzione permette di cambiare la parte centrale della webapp passando un nuovo widget\n",
    "def cambia_pagina(nuova_pagina):\n",
    "                      \n",
    "    # le parentesi tonde in questo contesto creano una tupla,\n",
    "    # cioè una sequenza immutabile di elementi):\n",
    "    mia_app.children = (mia_app.children[0],    # il widget del titolo precedente\n",
    "                        nuova_pagina,           # widget che rappresenta la nuova pagina\n",
    "                        mia_app.children[2])    # il widget dei credits precedente\n",
    "\n",
    "def bottone_vai_pag2_cliccato(b):\n",
    "    cambia_pagina(pagina2)\n",
    "    \n",
    "bottone_vai_pag2.on_click(bottone_vai_pag2_cliccato)  \n",
    "\n",
    "\n",
    "def bottone_vai_pag1_cliccato(b):\n",
    "    cambia_pagina(pagina1)\n",
    "\n",
    "bottone_vai_pag1.on_click(bottone_vai_pag1_cliccato)\n",
    "    \n",
    "display(mia_app)\n"
   ]
  },
  {
   "cell_type": "markdown",
   "metadata": {},
   "source": [
    "Esempio di webapp mostrato per esecuzione con Voila, vedere tutorial [Applicazioni interattive - Sezione Webapp](https://softpython.readthedocs.io/it/latest/interactive/interactive-sol.html#Webapp)\n",
    "\n",
    "Nota: Le celle di testo di Jupyter come questa vengono mostrate anche da voila"
   ]
  },
  {
   "cell_type": "code",
   "execution_count": null,
   "metadata": {},
   "outputs": [],
   "source": []
  }
 ],
 "metadata": {
  "kernelspec": {
   "display_name": "Python 3",
   "language": "python",
   "name": "python3"
  },
  "language_info": {
   "codemirror_mode": {
    "name": "ipython",
    "version": 3
   },
   "file_extension": ".py",
   "mimetype": "text/x-python",
   "name": "python",
   "nbconvert_exporter": "python",
   "pygments_lexer": "ipython3",
   "version": "3.7.3"
  },
  "toc": {
   "base_numbering": 1,
   "nav_menu": {},
   "number_sections": false,
   "sideBar": true,
   "skip_h1_title": false,
   "title_cell": "Table of Contents",
   "title_sidebar": "Contents",
   "toc_cell": false,
   "toc_position": {},
   "toc_section_display": true,
   "toc_window_display": false
  }
 },
 "nbformat": 4,
 "nbformat_minor": 2
}
